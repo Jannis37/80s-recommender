{
 "cells": [
  {
   "attachments": {},
   "cell_type": "markdown",
   "metadata": {},
   "source": [
    "## Visualizations"
   ]
  },
  {
   "cell_type": "code",
   "execution_count": 1,
   "metadata": {},
   "outputs": [],
   "source": [
    "import pandas as pd\n",
    "import altair as alt\n",
    "import plotly.express as px\n",
    "import plotly.graph_objects as go\n",
    "from sklearn.preprocessing import MinMaxScaler"
   ]
  },
  {
   "cell_type": "code",
   "execution_count": 2,
   "metadata": {},
   "outputs": [],
   "source": [
    "by_isrc = pd.read_csv('data/checkpoint/by_isrc_oldest.csv')"
   ]
  },
  {
   "cell_type": "code",
   "execution_count": 3,
   "metadata": {
    "scrolled": true
   },
   "outputs": [
    {
     "data": {
      "text/html": [
       "<div>\n",
       "<style scoped>\n",
       "    .dataframe tbody tr th:only-of-type {\n",
       "        vertical-align: middle;\n",
       "    }\n",
       "\n",
       "    .dataframe tbody tr th {\n",
       "        vertical-align: top;\n",
       "    }\n",
       "\n",
       "    .dataframe thead th {\n",
       "        text-align: right;\n",
       "    }\n",
       "</style>\n",
       "<table border=\"1\" class=\"dataframe\">\n",
       "  <thead>\n",
       "    <tr style=\"text-align: right;\">\n",
       "      <th></th>\n",
       "      <th>0</th>\n",
       "      <th>1</th>\n",
       "      <th>2</th>\n",
       "      <th>3</th>\n",
       "      <th>4</th>\n",
       "    </tr>\n",
       "  </thead>\n",
       "  <tbody>\n",
       "    <tr>\n",
       "      <th>isrc</th>\n",
       "      <td>AEA040700577</td>\n",
       "      <td>AEA040700578</td>\n",
       "      <td>AEA040700579</td>\n",
       "      <td>AEA040700580</td>\n",
       "      <td>AEA040700581</td>\n",
       "    </tr>\n",
       "    <tr>\n",
       "      <th>genres</th>\n",
       "      <td>['j-pop', 'jazz', 'pop']</td>\n",
       "      <td>['groove', 'j-pop', 'jazz', 'pop']</td>\n",
       "      <td>['groove', 'j-pop', 'jazz', 'pop']</td>\n",
       "      <td>['groove', 'j-pop', 'jazz', 'pop']</td>\n",
       "      <td>['groove', 'j-pop', 'jazz', 'pop', 'pop']</td>\n",
       "    </tr>\n",
       "    <tr>\n",
       "      <th>name</th>\n",
       "      <td>Bala Wala Chi</td>\n",
       "      <td>Houdou Nisbi</td>\n",
       "      <td>Nafs Al Sheghlat</td>\n",
       "      <td>Yalla Kichou Barra</td>\n",
       "      <td>Ma Tfel</td>\n",
       "    </tr>\n",
       "    <tr>\n",
       "      <th>artists</th>\n",
       "      <td>Ziad Rahbani</td>\n",
       "      <td>Ziad Rahbani</td>\n",
       "      <td>Ziad Rahbani</td>\n",
       "      <td>Ziad Rahbani</td>\n",
       "      <td>Ziad Rahbani</td>\n",
       "    </tr>\n",
       "    <tr>\n",
       "      <th>album</th>\n",
       "      <td>Houdou Nisbi</td>\n",
       "      <td>Houdou Nisbi</td>\n",
       "      <td>Houdou Nisbi</td>\n",
       "      <td>Houdou Nisbi</td>\n",
       "      <td>Houdou Nisbi</td>\n",
       "    </tr>\n",
       "    <tr>\n",
       "      <th>release_date</th>\n",
       "      <td>1985-01-01</td>\n",
       "      <td>1985-01-01</td>\n",
       "      <td>1985-01-01</td>\n",
       "      <td>1985-01-01</td>\n",
       "      <td>1985-01-01</td>\n",
       "    </tr>\n",
       "    <tr>\n",
       "      <th>release_date_precision</th>\n",
       "      <td>day</td>\n",
       "      <td>day</td>\n",
       "      <td>day</td>\n",
       "      <td>day</td>\n",
       "      <td>day</td>\n",
       "    </tr>\n",
       "    <tr>\n",
       "      <th>uri</th>\n",
       "      <td>spotify:track:0fylgLeNObjVvwhd8caHqX</td>\n",
       "      <td>spotify:track:0yMFpBNCYXqwwOAg23bC8a</td>\n",
       "      <td>spotify:track:6G8l1kI8QlTD0UDIak5F8H</td>\n",
       "      <td>spotify:track:21g76Lq5Jg4QvfTDvi4PlH</td>\n",
       "      <td>spotify:track:0pKxrkFh8fxPKpkO29MYmi</td>\n",
       "    </tr>\n",
       "    <tr>\n",
       "      <th>spotify_id</th>\n",
       "      <td>0fylgLeNObjVvwhd8caHqX</td>\n",
       "      <td>0yMFpBNCYXqwwOAg23bC8a</td>\n",
       "      <td>6G8l1kI8QlTD0UDIak5F8H</td>\n",
       "      <td>21g76Lq5Jg4QvfTDvi4PlH</td>\n",
       "      <td>0pKxrkFh8fxPKpkO29MYmi</td>\n",
       "    </tr>\n",
       "    <tr>\n",
       "      <th>chart_power</th>\n",
       "      <td>NaN</td>\n",
       "      <td>NaN</td>\n",
       "      <td>NaN</td>\n",
       "      <td>NaN</td>\n",
       "      <td>NaN</td>\n",
       "    </tr>\n",
       "    <tr>\n",
       "      <th>popularity</th>\n",
       "      <td>41</td>\n",
       "      <td>31</td>\n",
       "      <td>21</td>\n",
       "      <td>17</td>\n",
       "      <td>31</td>\n",
       "    </tr>\n",
       "    <tr>\n",
       "      <th>danceability</th>\n",
       "      <td>0.291</td>\n",
       "      <td>0.587</td>\n",
       "      <td>0.496</td>\n",
       "      <td>0.676</td>\n",
       "      <td>0.474</td>\n",
       "    </tr>\n",
       "    <tr>\n",
       "      <th>energy</th>\n",
       "      <td>0.231</td>\n",
       "      <td>0.184</td>\n",
       "      <td>0.264</td>\n",
       "      <td>0.43</td>\n",
       "      <td>0.428</td>\n",
       "    </tr>\n",
       "    <tr>\n",
       "      <th>key</th>\n",
       "      <td>9</td>\n",
       "      <td>7</td>\n",
       "      <td>3</td>\n",
       "      <td>5</td>\n",
       "      <td>5</td>\n",
       "    </tr>\n",
       "    <tr>\n",
       "      <th>loudness</th>\n",
       "      <td>-18.808</td>\n",
       "      <td>-18.954</td>\n",
       "      <td>-21.179</td>\n",
       "      <td>-18.456</td>\n",
       "      <td>-18.178</td>\n",
       "    </tr>\n",
       "    <tr>\n",
       "      <th>mode</th>\n",
       "      <td>1</td>\n",
       "      <td>0</td>\n",
       "      <td>1</td>\n",
       "      <td>1</td>\n",
       "      <td>0</td>\n",
       "    </tr>\n",
       "    <tr>\n",
       "      <th>speechiness</th>\n",
       "      <td>0.0418</td>\n",
       "      <td>0.0308</td>\n",
       "      <td>0.0449</td>\n",
       "      <td>0.0341</td>\n",
       "      <td>0.0436</td>\n",
       "    </tr>\n",
       "    <tr>\n",
       "      <th>acousticness</th>\n",
       "      <td>0.952</td>\n",
       "      <td>0.814</td>\n",
       "      <td>0.954</td>\n",
       "      <td>0.43</td>\n",
       "      <td>0.749</td>\n",
       "    </tr>\n",
       "    <tr>\n",
       "      <th>instrumentalness</th>\n",
       "      <td>0.382</td>\n",
       "      <td>0.951</td>\n",
       "      <td>0.887</td>\n",
       "      <td>0.838</td>\n",
       "      <td>0.941</td>\n",
       "    </tr>\n",
       "    <tr>\n",
       "      <th>liveness</th>\n",
       "      <td>0.237</td>\n",
       "      <td>0.0827</td>\n",
       "      <td>0.271</td>\n",
       "      <td>0.124</td>\n",
       "      <td>0.115</td>\n",
       "    </tr>\n",
       "    <tr>\n",
       "      <th>valence</th>\n",
       "      <td>0.371</td>\n",
       "      <td>0.495</td>\n",
       "      <td>0.304</td>\n",
       "      <td>0.656</td>\n",
       "      <td>0.752</td>\n",
       "    </tr>\n",
       "    <tr>\n",
       "      <th>tempo</th>\n",
       "      <td>157.168</td>\n",
       "      <td>128.386</td>\n",
       "      <td>82.63</td>\n",
       "      <td>102.485</td>\n",
       "      <td>150.656</td>\n",
       "    </tr>\n",
       "    <tr>\n",
       "      <th>duration_ms</th>\n",
       "      <td>207560</td>\n",
       "      <td>272240</td>\n",
       "      <td>160093</td>\n",
       "      <td>155667</td>\n",
       "      <td>265173</td>\n",
       "    </tr>\n",
       "    <tr>\n",
       "      <th>time_signature</th>\n",
       "      <td>3</td>\n",
       "      <td>3</td>\n",
       "      <td>4</td>\n",
       "      <td>4</td>\n",
       "      <td>4</td>\n",
       "    </tr>\n",
       "    <tr>\n",
       "      <th>year</th>\n",
       "      <td>1985</td>\n",
       "      <td>1985</td>\n",
       "      <td>1985</td>\n",
       "      <td>1985</td>\n",
       "      <td>1985</td>\n",
       "    </tr>\n",
       "  </tbody>\n",
       "</table>\n",
       "</div>"
      ],
      "text/plain": [
       "                                                           0  \\\n",
       "isrc                                            AEA040700577   \n",
       "genres                              ['j-pop', 'jazz', 'pop']   \n",
       "name                                           Bala Wala Chi   \n",
       "artists                                         Ziad Rahbani   \n",
       "album                                           Houdou Nisbi   \n",
       "release_date                                      1985-01-01   \n",
       "release_date_precision                                   day   \n",
       "uri                     spotify:track:0fylgLeNObjVvwhd8caHqX   \n",
       "spotify_id                            0fylgLeNObjVvwhd8caHqX   \n",
       "chart_power                                              NaN   \n",
       "popularity                                                41   \n",
       "danceability                                           0.291   \n",
       "energy                                                 0.231   \n",
       "key                                                        9   \n",
       "loudness                                             -18.808   \n",
       "mode                                                       1   \n",
       "speechiness                                           0.0418   \n",
       "acousticness                                           0.952   \n",
       "instrumentalness                                       0.382   \n",
       "liveness                                               0.237   \n",
       "valence                                                0.371   \n",
       "tempo                                                157.168   \n",
       "duration_ms                                           207560   \n",
       "time_signature                                             3   \n",
       "year                                                    1985   \n",
       "\n",
       "                                                           1  \\\n",
       "isrc                                            AEA040700578   \n",
       "genres                    ['groove', 'j-pop', 'jazz', 'pop']   \n",
       "name                                            Houdou Nisbi   \n",
       "artists                                         Ziad Rahbani   \n",
       "album                                           Houdou Nisbi   \n",
       "release_date                                      1985-01-01   \n",
       "release_date_precision                                   day   \n",
       "uri                     spotify:track:0yMFpBNCYXqwwOAg23bC8a   \n",
       "spotify_id                            0yMFpBNCYXqwwOAg23bC8a   \n",
       "chart_power                                              NaN   \n",
       "popularity                                                31   \n",
       "danceability                                           0.587   \n",
       "energy                                                 0.184   \n",
       "key                                                        7   \n",
       "loudness                                             -18.954   \n",
       "mode                                                       0   \n",
       "speechiness                                           0.0308   \n",
       "acousticness                                           0.814   \n",
       "instrumentalness                                       0.951   \n",
       "liveness                                              0.0827   \n",
       "valence                                                0.495   \n",
       "tempo                                                128.386   \n",
       "duration_ms                                           272240   \n",
       "time_signature                                             3   \n",
       "year                                                    1985   \n",
       "\n",
       "                                                           2  \\\n",
       "isrc                                            AEA040700579   \n",
       "genres                    ['groove', 'j-pop', 'jazz', 'pop']   \n",
       "name                                        Nafs Al Sheghlat   \n",
       "artists                                         Ziad Rahbani   \n",
       "album                                           Houdou Nisbi   \n",
       "release_date                                      1985-01-01   \n",
       "release_date_precision                                   day   \n",
       "uri                     spotify:track:6G8l1kI8QlTD0UDIak5F8H   \n",
       "spotify_id                            6G8l1kI8QlTD0UDIak5F8H   \n",
       "chart_power                                              NaN   \n",
       "popularity                                                21   \n",
       "danceability                                           0.496   \n",
       "energy                                                 0.264   \n",
       "key                                                        3   \n",
       "loudness                                             -21.179   \n",
       "mode                                                       1   \n",
       "speechiness                                           0.0449   \n",
       "acousticness                                           0.954   \n",
       "instrumentalness                                       0.887   \n",
       "liveness                                               0.271   \n",
       "valence                                                0.304   \n",
       "tempo                                                  82.63   \n",
       "duration_ms                                           160093   \n",
       "time_signature                                             4   \n",
       "year                                                    1985   \n",
       "\n",
       "                                                           3  \\\n",
       "isrc                                            AEA040700580   \n",
       "genres                    ['groove', 'j-pop', 'jazz', 'pop']   \n",
       "name                                      Yalla Kichou Barra   \n",
       "artists                                         Ziad Rahbani   \n",
       "album                                           Houdou Nisbi   \n",
       "release_date                                      1985-01-01   \n",
       "release_date_precision                                   day   \n",
       "uri                     spotify:track:21g76Lq5Jg4QvfTDvi4PlH   \n",
       "spotify_id                            21g76Lq5Jg4QvfTDvi4PlH   \n",
       "chart_power                                              NaN   \n",
       "popularity                                                17   \n",
       "danceability                                           0.676   \n",
       "energy                                                  0.43   \n",
       "key                                                        5   \n",
       "loudness                                             -18.456   \n",
       "mode                                                       1   \n",
       "speechiness                                           0.0341   \n",
       "acousticness                                            0.43   \n",
       "instrumentalness                                       0.838   \n",
       "liveness                                               0.124   \n",
       "valence                                                0.656   \n",
       "tempo                                                102.485   \n",
       "duration_ms                                           155667   \n",
       "time_signature                                             4   \n",
       "year                                                    1985   \n",
       "\n",
       "                                                                4  \n",
       "isrc                                                 AEA040700581  \n",
       "genres                  ['groove', 'j-pop', 'jazz', 'pop', 'pop']  \n",
       "name                                                      Ma Tfel  \n",
       "artists                                              Ziad Rahbani  \n",
       "album                                                Houdou Nisbi  \n",
       "release_date                                           1985-01-01  \n",
       "release_date_precision                                        day  \n",
       "uri                          spotify:track:0pKxrkFh8fxPKpkO29MYmi  \n",
       "spotify_id                                 0pKxrkFh8fxPKpkO29MYmi  \n",
       "chart_power                                                   NaN  \n",
       "popularity                                                     31  \n",
       "danceability                                                0.474  \n",
       "energy                                                      0.428  \n",
       "key                                                             5  \n",
       "loudness                                                  -18.178  \n",
       "mode                                                            0  \n",
       "speechiness                                                0.0436  \n",
       "acousticness                                                0.749  \n",
       "instrumentalness                                            0.941  \n",
       "liveness                                                    0.115  \n",
       "valence                                                     0.752  \n",
       "tempo                                                     150.656  \n",
       "duration_ms                                                265173  \n",
       "time_signature                                                  4  \n",
       "year                                                         1985  "
      ]
     },
     "execution_count": 3,
     "metadata": {},
     "output_type": "execute_result"
    }
   ],
   "source": [
    "by_isrc.head().T"
   ]
  },
  {
   "attachments": {},
   "cell_type": "markdown",
   "metadata": {},
   "source": [
    "## Find the biggest genres"
   ]
  },
  {
   "cell_type": "code",
   "execution_count": 4,
   "metadata": {},
   "outputs": [],
   "source": [
    "remove_genres = [\"classical\", \"jazz\", \"folk\", \"french\", \"turkish\", \"gospel\", \"samba\", \"piano\", \"mpb\", \"sertanejo\", \"pagode\", \"sleep\", \"forro\", \"malay\", \"anime\", \n",
    "                 \"j-idol\", \"comedy\", \"mandopop\", \"cantopop\", \"show-tunes\", \"emo\", \"romance\", \"j-dance\", \"chill\", \"world-music\", \"iranian\", \"idm\", \"metalcore\", \n",
    "                 \"hardstyle\", \"opera\", \"k-pop\", \"j-pop\", \"j-rock\", \"happy\"]"
   ]
  },
  {
   "cell_type": "code",
   "execution_count": 42,
   "metadata": {},
   "outputs": [],
   "source": [
    "df = pd.read_csv('data/DE/data-neu.csv')\n",
    "df.drop_duplicates(inplace=True)"
   ]
  },
  {
   "cell_type": "code",
   "execution_count": 55,
   "metadata": {},
   "outputs": [
    {
     "data": {
      "text/html": [
       "<div>\n",
       "<style scoped>\n",
       "    .dataframe tbody tr th:only-of-type {\n",
       "        vertical-align: middle;\n",
       "    }\n",
       "\n",
       "    .dataframe tbody tr th {\n",
       "        vertical-align: top;\n",
       "    }\n",
       "\n",
       "    .dataframe thead th {\n",
       "        text-align: right;\n",
       "    }\n",
       "</style>\n",
       "<table border=\"1\" class=\"dataframe\">\n",
       "  <thead>\n",
       "    <tr style=\"text-align: right;\">\n",
       "      <th></th>\n",
       "      <th>0</th>\n",
       "      <th>1</th>\n",
       "    </tr>\n",
       "  </thead>\n",
       "  <tbody>\n",
       "    <tr>\n",
       "      <th>name</th>\n",
       "      <td>That's No Way To Get Along</td>\n",
       "      <td>I Got A Problem</td>\n",
       "    </tr>\n",
       "    <tr>\n",
       "      <th>artists</th>\n",
       "      <td>Robert Wilkins</td>\n",
       "      <td>Albert Collins</td>\n",
       "    </tr>\n",
       "    <tr>\n",
       "      <th>album</th>\n",
       "      <td>The Original Rolling Stone</td>\n",
       "      <td>Frostbite</td>\n",
       "    </tr>\n",
       "    <tr>\n",
       "      <th>release_date</th>\n",
       "      <td>1980-01-01</td>\n",
       "      <td>1980-02-05</td>\n",
       "    </tr>\n",
       "    <tr>\n",
       "      <th>release_date_precision</th>\n",
       "      <td>day</td>\n",
       "      <td>day</td>\n",
       "    </tr>\n",
       "    <tr>\n",
       "      <th>chart_power</th>\n",
       "      <td>NaN</td>\n",
       "      <td>NaN</td>\n",
       "    </tr>\n",
       "    <tr>\n",
       "      <th>spotify_id</th>\n",
       "      <td>5JKdsNzhJGpoaKBFZpOKQ3</td>\n",
       "      <td>6e2PhVePvqe7w4VNBTslef</td>\n",
       "    </tr>\n",
       "    <tr>\n",
       "      <th>uri</th>\n",
       "      <td>spotify:track:5JKdsNzhJGpoaKBFZpOKQ3</td>\n",
       "      <td>spotify:track:6e2PhVePvqe7w4VNBTslef</td>\n",
       "    </tr>\n",
       "    <tr>\n",
       "      <th>popularity</th>\n",
       "      <td>22</td>\n",
       "      <td>15</td>\n",
       "    </tr>\n",
       "    <tr>\n",
       "      <th>danceability</th>\n",
       "      <td>0.427</td>\n",
       "      <td>0.76</td>\n",
       "    </tr>\n",
       "    <tr>\n",
       "      <th>energy</th>\n",
       "      <td>0.213</td>\n",
       "      <td>0.502</td>\n",
       "    </tr>\n",
       "    <tr>\n",
       "      <th>key</th>\n",
       "      <td>3</td>\n",
       "      <td>7</td>\n",
       "    </tr>\n",
       "    <tr>\n",
       "      <th>loudness</th>\n",
       "      <td>-15.675</td>\n",
       "      <td>-13.875</td>\n",
       "    </tr>\n",
       "    <tr>\n",
       "      <th>mode</th>\n",
       "      <td>1</td>\n",
       "      <td>0</td>\n",
       "    </tr>\n",
       "    <tr>\n",
       "      <th>speechiness</th>\n",
       "      <td>0.0407</td>\n",
       "      <td>0.0573</td>\n",
       "    </tr>\n",
       "    <tr>\n",
       "      <th>acousticness</th>\n",
       "      <td>0.98</td>\n",
       "      <td>0.328</td>\n",
       "    </tr>\n",
       "    <tr>\n",
       "      <th>instrumentalness</th>\n",
       "      <td>0.0</td>\n",
       "      <td>0.0357</td>\n",
       "    </tr>\n",
       "    <tr>\n",
       "      <th>liveness</th>\n",
       "      <td>0.192</td>\n",
       "      <td>0.0447</td>\n",
       "    </tr>\n",
       "    <tr>\n",
       "      <th>valence</th>\n",
       "      <td>0.381</td>\n",
       "      <td>0.849</td>\n",
       "    </tr>\n",
       "    <tr>\n",
       "      <th>tempo</th>\n",
       "      <td>97.078</td>\n",
       "      <td>102.183</td>\n",
       "    </tr>\n",
       "    <tr>\n",
       "      <th>duration_ms</th>\n",
       "      <td>173827</td>\n",
       "      <td>274707</td>\n",
       "    </tr>\n",
       "    <tr>\n",
       "      <th>time_signature</th>\n",
       "      <td>4</td>\n",
       "      <td>4</td>\n",
       "    </tr>\n",
       "    <tr>\n",
       "      <th>isrc</th>\n",
       "      <td>USA370640304</td>\n",
       "      <td>USARL8071903</td>\n",
       "    </tr>\n",
       "    <tr>\n",
       "      <th>genres</th>\n",
       "      <td>acoustic</td>\n",
       "      <td>acoustic</td>\n",
       "    </tr>\n",
       "  </tbody>\n",
       "</table>\n",
       "</div>"
      ],
      "text/plain": [
       "                                                           0  \\\n",
       "name                              That's No Way To Get Along   \n",
       "artists                                       Robert Wilkins   \n",
       "album                             The Original Rolling Stone   \n",
       "release_date                                      1980-01-01   \n",
       "release_date_precision                                   day   \n",
       "chart_power                                              NaN   \n",
       "spotify_id                            5JKdsNzhJGpoaKBFZpOKQ3   \n",
       "uri                     spotify:track:5JKdsNzhJGpoaKBFZpOKQ3   \n",
       "popularity                                                22   \n",
       "danceability                                           0.427   \n",
       "energy                                                 0.213   \n",
       "key                                                        3   \n",
       "loudness                                             -15.675   \n",
       "mode                                                       1   \n",
       "speechiness                                           0.0407   \n",
       "acousticness                                            0.98   \n",
       "instrumentalness                                         0.0   \n",
       "liveness                                               0.192   \n",
       "valence                                                0.381   \n",
       "tempo                                                 97.078   \n",
       "duration_ms                                           173827   \n",
       "time_signature                                             4   \n",
       "isrc                                            USA370640304   \n",
       "genres                                              acoustic   \n",
       "\n",
       "                                                           1  \n",
       "name                                         I Got A Problem  \n",
       "artists                                       Albert Collins  \n",
       "album                                              Frostbite  \n",
       "release_date                                      1980-02-05  \n",
       "release_date_precision                                   day  \n",
       "chart_power                                              NaN  \n",
       "spotify_id                            6e2PhVePvqe7w4VNBTslef  \n",
       "uri                     spotify:track:6e2PhVePvqe7w4VNBTslef  \n",
       "popularity                                                15  \n",
       "danceability                                            0.76  \n",
       "energy                                                 0.502  \n",
       "key                                                        7  \n",
       "loudness                                             -13.875  \n",
       "mode                                                       0  \n",
       "speechiness                                           0.0573  \n",
       "acousticness                                           0.328  \n",
       "instrumentalness                                      0.0357  \n",
       "liveness                                              0.0447  \n",
       "valence                                                0.849  \n",
       "tempo                                                102.183  \n",
       "duration_ms                                           274707  \n",
       "time_signature                                             4  \n",
       "isrc                                            USARL8071903  \n",
       "genres                                              acoustic  "
      ]
     },
     "execution_count": 55,
     "metadata": {},
     "output_type": "execute_result"
    }
   ],
   "source": [
    "df.head(2).T"
   ]
  },
  {
   "cell_type": "code",
   "execution_count": 7,
   "metadata": {},
   "outputs": [],
   "source": [
    "ct = pd.crosstab(df['isrc'], df['genres'])\n",
    "# ct.reset_index(inplace=True)\n",
    "ct = ct.applymap(lambda x: 1 if x > 1 else x)\n",
    "ct.reset_index(inplace=True)"
   ]
  },
  {
   "cell_type": "code",
   "execution_count": 8,
   "metadata": {},
   "outputs": [],
   "source": [
    "# drop genres of the DataFrame\n",
    "ct = ct.set_index('isrc').drop(columns=remove_genres)"
   ]
  },
  {
   "cell_type": "code",
   "execution_count": 9,
   "metadata": {},
   "outputs": [
    {
     "name": "stdout",
     "output_type": "stream",
     "text": [
      "Shape before removing songs. ct: (427265, 76); df: (863828, 24)\n",
      "Shape after removing songs. ct: (316490, 76); df: (712299, 24)\n"
     ]
    }
   ],
   "source": [
    "# find all songs which are not assigned to genre anymore and remove them\n",
    "print(f'Shape before removing songs. ct: {ct.shape}; df: {df.shape}')\n",
    "remove_songs = ct[ct.T.sum() == 0].index.to_list()\n",
    "ct.drop(index=remove_songs, inplace=True)\n",
    "df.set_index('isrc', inplace=True)\n",
    "df.drop(index=remove_songs, inplace=True)\n",
    "df.reset_index(inplace=True)\n",
    "print(f'Shape after removing songs. ct: {ct.shape}; df: {df.shape}')"
   ]
  },
  {
   "cell_type": "code",
   "execution_count": 10,
   "metadata": {},
   "outputs": [],
   "source": [
    "ct_sum = ct.sum()"
   ]
  },
  {
   "cell_type": "code",
   "execution_count": 11,
   "metadata": {},
   "outputs": [],
   "source": [
    "ct_sum_df = pd.DataFrame(ct_sum)"
   ]
  },
  {
   "cell_type": "code",
   "execution_count": 12,
   "metadata": {},
   "outputs": [],
   "source": [
    "#ct_sum_df.drop(index='isrc', inplace=True)"
   ]
  },
  {
   "cell_type": "code",
   "execution_count": 13,
   "metadata": {},
   "outputs": [],
   "source": [
    "ct_sum_df.rename(columns={0: 'count'}, inplace=True)"
   ]
  },
  {
   "cell_type": "code",
   "execution_count": 14,
   "metadata": {},
   "outputs": [],
   "source": [
    "sorted_genres = ct_sum_df.sort_values(by='count', ascending=False).index.to_list()"
   ]
  },
  {
   "cell_type": "code",
   "execution_count": 15,
   "metadata": {},
   "outputs": [
    {
     "data": {
      "text/html": [
       "<div>\n",
       "<style scoped>\n",
       "    .dataframe tbody tr th:only-of-type {\n",
       "        vertical-align: middle;\n",
       "    }\n",
       "\n",
       "    .dataframe tbody tr th {\n",
       "        vertical-align: top;\n",
       "    }\n",
       "\n",
       "    .dataframe thead th {\n",
       "        text-align: right;\n",
       "    }\n",
       "</style>\n",
       "<table border=\"1\" class=\"dataframe\">\n",
       "  <thead>\n",
       "    <tr style=\"text-align: right;\">\n",
       "      <th></th>\n",
       "      <th>count</th>\n",
       "    </tr>\n",
       "    <tr>\n",
       "      <th>genres</th>\n",
       "      <th></th>\n",
       "    </tr>\n",
       "  </thead>\n",
       "  <tbody>\n",
       "    <tr>\n",
       "      <th>pop</th>\n",
       "      <td>118762</td>\n",
       "    </tr>\n",
       "    <tr>\n",
       "      <th>rock</th>\n",
       "      <td>93935</td>\n",
       "    </tr>\n",
       "    <tr>\n",
       "      <th>german</th>\n",
       "      <td>37752</td>\n",
       "    </tr>\n",
       "    <tr>\n",
       "      <th>punk</th>\n",
       "      <td>24275</td>\n",
       "    </tr>\n",
       "    <tr>\n",
       "      <th>metal</th>\n",
       "      <td>15761</td>\n",
       "    </tr>\n",
       "    <tr>\n",
       "      <th>country</th>\n",
       "      <td>15546</td>\n",
       "    </tr>\n",
       "    <tr>\n",
       "      <th>blues</th>\n",
       "      <td>12211</td>\n",
       "    </tr>\n",
       "    <tr>\n",
       "      <th>hard-rock</th>\n",
       "      <td>11659</td>\n",
       "    </tr>\n",
       "    <tr>\n",
       "      <th>soul</th>\n",
       "      <td>11099</td>\n",
       "    </tr>\n",
       "    <tr>\n",
       "      <th>british</th>\n",
       "      <td>10532</td>\n",
       "    </tr>\n",
       "    <tr>\n",
       "      <th>swedish</th>\n",
       "      <td>10340</td>\n",
       "    </tr>\n",
       "    <tr>\n",
       "      <th>punk-rock</th>\n",
       "      <td>9930</td>\n",
       "    </tr>\n",
       "    <tr>\n",
       "      <th>singer-songwriter</th>\n",
       "      <td>9513</td>\n",
       "    </tr>\n",
       "    <tr>\n",
       "      <th>songwriter</th>\n",
       "      <td>9512</td>\n",
       "    </tr>\n",
       "    <tr>\n",
       "      <th>funk</th>\n",
       "      <td>8827</td>\n",
       "    </tr>\n",
       "    <tr>\n",
       "      <th>alternative</th>\n",
       "      <td>8624</td>\n",
       "    </tr>\n",
       "    <tr>\n",
       "      <th>disco</th>\n",
       "      <td>8444</td>\n",
       "    </tr>\n",
       "    <tr>\n",
       "      <th>alt-rock</th>\n",
       "      <td>8125</td>\n",
       "    </tr>\n",
       "    <tr>\n",
       "      <th>synth-pop</th>\n",
       "      <td>7153</td>\n",
       "    </tr>\n",
       "    <tr>\n",
       "      <th>spanish</th>\n",
       "      <td>6724</td>\n",
       "    </tr>\n",
       "    <tr>\n",
       "      <th>latin</th>\n",
       "      <td>6692</td>\n",
       "    </tr>\n",
       "    <tr>\n",
       "      <th>hardcore</th>\n",
       "      <td>6518</td>\n",
       "    </tr>\n",
       "    <tr>\n",
       "      <th>r-n-b</th>\n",
       "      <td>6114</td>\n",
       "    </tr>\n",
       "    <tr>\n",
       "      <th>indie</th>\n",
       "      <td>5094</td>\n",
       "    </tr>\n",
       "    <tr>\n",
       "      <th>brazil</th>\n",
       "      <td>4843</td>\n",
       "    </tr>\n",
       "    <tr>\n",
       "      <th>reggae</th>\n",
       "      <td>4566</td>\n",
       "    </tr>\n",
       "    <tr>\n",
       "      <th>guitar</th>\n",
       "      <td>4444</td>\n",
       "    </tr>\n",
       "    <tr>\n",
       "      <th>dance</th>\n",
       "      <td>3717</td>\n",
       "    </tr>\n",
       "    <tr>\n",
       "      <th>indian</th>\n",
       "      <td>3602</td>\n",
       "    </tr>\n",
       "    <tr>\n",
       "      <th>salsa</th>\n",
       "      <td>3554</td>\n",
       "    </tr>\n",
       "    <tr>\n",
       "      <th>industrial</th>\n",
       "      <td>3132</td>\n",
       "    </tr>\n",
       "    <tr>\n",
       "      <th>power-pop</th>\n",
       "      <td>3093</td>\n",
       "    </tr>\n",
       "    <tr>\n",
       "      <th>pop-film</th>\n",
       "      <td>2973</td>\n",
       "    </tr>\n",
       "    <tr>\n",
       "      <th>rock-n-roll</th>\n",
       "      <td>2806</td>\n",
       "    </tr>\n",
       "    <tr>\n",
       "      <th>electro</th>\n",
       "      <td>2783</td>\n",
       "    </tr>\n",
       "    <tr>\n",
       "      <th>hip-hop</th>\n",
       "      <td>2753</td>\n",
       "    </tr>\n",
       "    <tr>\n",
       "      <th>rockabilly</th>\n",
       "      <td>2729</td>\n",
       "    </tr>\n",
       "    <tr>\n",
       "      <th>ambient</th>\n",
       "      <td>2728</td>\n",
       "    </tr>\n",
       "    <tr>\n",
       "      <th>ska</th>\n",
       "      <td>2468</td>\n",
       "    </tr>\n",
       "    <tr>\n",
       "      <th>psych-rock</th>\n",
       "      <td>2413</td>\n",
       "    </tr>\n",
       "    <tr>\n",
       "      <th>goth</th>\n",
       "      <td>2264</td>\n",
       "    </tr>\n",
       "    <tr>\n",
       "      <th>dub</th>\n",
       "      <td>2258</td>\n",
       "    </tr>\n",
       "    <tr>\n",
       "      <th>techno</th>\n",
       "      <td>2220</td>\n",
       "    </tr>\n",
       "    <tr>\n",
       "      <th>bluegrass</th>\n",
       "      <td>1755</td>\n",
       "    </tr>\n",
       "    <tr>\n",
       "      <th>children</th>\n",
       "      <td>1670</td>\n",
       "    </tr>\n",
       "    <tr>\n",
       "      <th>tango</th>\n",
       "      <td>1562</td>\n",
       "    </tr>\n",
       "    <tr>\n",
       "      <th>new-age</th>\n",
       "      <td>1472</td>\n",
       "    </tr>\n",
       "    <tr>\n",
       "      <th>electronic</th>\n",
       "      <td>1462</td>\n",
       "    </tr>\n",
       "    <tr>\n",
       "      <th>groove</th>\n",
       "      <td>1354</td>\n",
       "    </tr>\n",
       "    <tr>\n",
       "      <th>death-metal</th>\n",
       "      <td>1306</td>\n",
       "    </tr>\n",
       "  </tbody>\n",
       "</table>\n",
       "</div>"
      ],
      "text/plain": [
       "                    count\n",
       "genres                   \n",
       "pop                118762\n",
       "rock                93935\n",
       "german              37752\n",
       "punk                24275\n",
       "metal               15761\n",
       "country             15546\n",
       "blues               12211\n",
       "hard-rock           11659\n",
       "soul                11099\n",
       "british             10532\n",
       "swedish             10340\n",
       "punk-rock            9930\n",
       "singer-songwriter    9513\n",
       "songwriter           9512\n",
       "funk                 8827\n",
       "alternative          8624\n",
       "disco                8444\n",
       "alt-rock             8125\n",
       "synth-pop            7153\n",
       "spanish              6724\n",
       "latin                6692\n",
       "hardcore             6518\n",
       "r-n-b                6114\n",
       "indie                5094\n",
       "brazil               4843\n",
       "reggae               4566\n",
       "guitar               4444\n",
       "dance                3717\n",
       "indian               3602\n",
       "salsa                3554\n",
       "industrial           3132\n",
       "power-pop            3093\n",
       "pop-film             2973\n",
       "rock-n-roll          2806\n",
       "electro              2783\n",
       "hip-hop              2753\n",
       "rockabilly           2729\n",
       "ambient              2728\n",
       "ska                  2468\n",
       "psych-rock           2413\n",
       "goth                 2264\n",
       "dub                  2258\n",
       "techno               2220\n",
       "bluegrass            1755\n",
       "children             1670\n",
       "tango                1562\n",
       "new-age              1472\n",
       "electronic           1462\n",
       "groove               1354\n",
       "death-metal          1306"
      ]
     },
     "execution_count": 15,
     "metadata": {},
     "output_type": "execute_result"
    }
   ],
   "source": [
    "ct_sum_df.sort_values(by='count', ascending=False)[:50]"
   ]
  },
  {
   "attachments": {},
   "cell_type": "markdown",
   "metadata": {},
   "source": [
    "Biggest genres is pop."
   ]
  },
  {
   "attachments": {},
   "cell_type": "markdown",
   "metadata": {},
   "source": [
    "Count occurences of the top genres per year"
   ]
  },
  {
   "cell_type": "code",
   "execution_count": 16,
   "metadata": {},
   "outputs": [
    {
     "data": {
      "text/plain": [
       "(427258, 25)"
      ]
     },
     "execution_count": 16,
     "metadata": {},
     "output_type": "execute_result"
    }
   ],
   "source": [
    "by_isrc.shape"
   ]
  },
  {
   "cell_type": "code",
   "execution_count": 17,
   "metadata": {},
   "outputs": [],
   "source": [
    "by_isrc_year = by_isrc.copy()\n",
    "by_isrc_year = by_isrc_year[['year', 'isrc']]\n",
    "by_isrc_year = by_isrc_year.merge(ct, on=['isrc'], how='left')\n",
    "by_isrc_year.set_index('year', inplace=True)\n",
    "by_isrc_year = by_isrc_year[sorted_genres[:10]]\n",
    "by_isrc_year = by_isrc_year.groupby('year').sum()\n",
    "by_isrc_year.index = by_isrc_year.index.astype(str)"
   ]
  },
  {
   "cell_type": "code",
   "execution_count": 18,
   "metadata": {},
   "outputs": [
    {
     "data": {
      "text/html": [
       "<div>\n",
       "<style scoped>\n",
       "    .dataframe tbody tr th:only-of-type {\n",
       "        vertical-align: middle;\n",
       "    }\n",
       "\n",
       "    .dataframe tbody tr th {\n",
       "        vertical-align: top;\n",
       "    }\n",
       "\n",
       "    .dataframe thead th {\n",
       "        text-align: right;\n",
       "    }\n",
       "</style>\n",
       "<table border=\"1\" class=\"dataframe\">\n",
       "  <thead>\n",
       "    <tr style=\"text-align: right;\">\n",
       "      <th></th>\n",
       "      <th>pop</th>\n",
       "      <th>rock</th>\n",
       "      <th>german</th>\n",
       "      <th>punk</th>\n",
       "      <th>metal</th>\n",
       "      <th>country</th>\n",
       "      <th>blues</th>\n",
       "      <th>hard-rock</th>\n",
       "      <th>soul</th>\n",
       "      <th>british</th>\n",
       "    </tr>\n",
       "    <tr>\n",
       "      <th>year</th>\n",
       "      <th></th>\n",
       "      <th></th>\n",
       "      <th></th>\n",
       "      <th></th>\n",
       "      <th></th>\n",
       "      <th></th>\n",
       "      <th></th>\n",
       "      <th></th>\n",
       "      <th></th>\n",
       "      <th></th>\n",
       "    </tr>\n",
       "  </thead>\n",
       "  <tbody>\n",
       "    <tr>\n",
       "      <th>1980</th>\n",
       "      <td>11523.0</td>\n",
       "      <td>8459.0</td>\n",
       "      <td>2248.0</td>\n",
       "      <td>2165.0</td>\n",
       "      <td>737.0</td>\n",
       "      <td>1804.0</td>\n",
       "      <td>1231.0</td>\n",
       "      <td>974.0</td>\n",
       "      <td>1391.0</td>\n",
       "      <td>917.0</td>\n",
       "    </tr>\n",
       "    <tr>\n",
       "      <th>1981</th>\n",
       "      <td>10277.0</td>\n",
       "      <td>8302.0</td>\n",
       "      <td>2471.0</td>\n",
       "      <td>2455.0</td>\n",
       "      <td>823.0</td>\n",
       "      <td>1711.0</td>\n",
       "      <td>1068.0</td>\n",
       "      <td>910.0</td>\n",
       "      <td>1359.0</td>\n",
       "      <td>690.0</td>\n",
       "    </tr>\n",
       "    <tr>\n",
       "      <th>1982</th>\n",
       "      <td>10359.0</td>\n",
       "      <td>7874.0</td>\n",
       "      <td>2185.0</td>\n",
       "      <td>2417.0</td>\n",
       "      <td>803.0</td>\n",
       "      <td>44.0</td>\n",
       "      <td>994.0</td>\n",
       "      <td>1034.0</td>\n",
       "      <td>1367.0</td>\n",
       "      <td>831.0</td>\n",
       "    </tr>\n",
       "    <tr>\n",
       "      <th>1983</th>\n",
       "      <td>10033.0</td>\n",
       "      <td>8292.0</td>\n",
       "      <td>3433.0</td>\n",
       "      <td>2366.0</td>\n",
       "      <td>1114.0</td>\n",
       "      <td>1483.0</td>\n",
       "      <td>971.0</td>\n",
       "      <td>1150.0</td>\n",
       "      <td>1034.0</td>\n",
       "      <td>630.0</td>\n",
       "    </tr>\n",
       "    <tr>\n",
       "      <th>1984</th>\n",
       "      <td>12202.0</td>\n",
       "      <td>8837.0</td>\n",
       "      <td>3047.0</td>\n",
       "      <td>2419.0</td>\n",
       "      <td>1532.0</td>\n",
       "      <td>1265.0</td>\n",
       "      <td>914.0</td>\n",
       "      <td>1328.0</td>\n",
       "      <td>835.0</td>\n",
       "      <td>825.0</td>\n",
       "    </tr>\n",
       "    <tr>\n",
       "      <th>1985</th>\n",
       "      <td>11372.0</td>\n",
       "      <td>8721.0</td>\n",
       "      <td>3443.0</td>\n",
       "      <td>2251.0</td>\n",
       "      <td>1612.0</td>\n",
       "      <td>1640.0</td>\n",
       "      <td>753.0</td>\n",
       "      <td>1135.0</td>\n",
       "      <td>809.0</td>\n",
       "      <td>730.0</td>\n",
       "    </tr>\n",
       "    <tr>\n",
       "      <th>1986</th>\n",
       "      <td>11430.0</td>\n",
       "      <td>9258.0</td>\n",
       "      <td>3824.0</td>\n",
       "      <td>2322.0</td>\n",
       "      <td>1807.0</td>\n",
       "      <td>1628.0</td>\n",
       "      <td>865.0</td>\n",
       "      <td>1182.0</td>\n",
       "      <td>766.0</td>\n",
       "      <td>983.0</td>\n",
       "    </tr>\n",
       "    <tr>\n",
       "      <th>1987</th>\n",
       "      <td>12310.0</td>\n",
       "      <td>10706.0</td>\n",
       "      <td>4458.0</td>\n",
       "      <td>2510.0</td>\n",
       "      <td>2293.0</td>\n",
       "      <td>1876.0</td>\n",
       "      <td>1279.0</td>\n",
       "      <td>1417.0</td>\n",
       "      <td>1014.0</td>\n",
       "      <td>1316.0</td>\n",
       "    </tr>\n",
       "    <tr>\n",
       "      <th>1988</th>\n",
       "      <td>13809.0</td>\n",
       "      <td>11045.0</td>\n",
       "      <td>6465.0</td>\n",
       "      <td>2736.0</td>\n",
       "      <td>2380.0</td>\n",
       "      <td>1930.0</td>\n",
       "      <td>1722.0</td>\n",
       "      <td>1221.0</td>\n",
       "      <td>1186.0</td>\n",
       "      <td>1515.0</td>\n",
       "    </tr>\n",
       "    <tr>\n",
       "      <th>1989</th>\n",
       "      <td>15447.0</td>\n",
       "      <td>12441.0</td>\n",
       "      <td>6178.0</td>\n",
       "      <td>2634.0</td>\n",
       "      <td>2660.0</td>\n",
       "      <td>2165.0</td>\n",
       "      <td>2414.0</td>\n",
       "      <td>1308.0</td>\n",
       "      <td>1338.0</td>\n",
       "      <td>2095.0</td>\n",
       "    </tr>\n",
       "  </tbody>\n",
       "</table>\n",
       "</div>"
      ],
      "text/plain": [
       "          pop     rock  german    punk   metal  country   blues  hard-rock  \\\n",
       "year                                                                         \n",
       "1980  11523.0   8459.0  2248.0  2165.0   737.0   1804.0  1231.0      974.0   \n",
       "1981  10277.0   8302.0  2471.0  2455.0   823.0   1711.0  1068.0      910.0   \n",
       "1982  10359.0   7874.0  2185.0  2417.0   803.0     44.0   994.0     1034.0   \n",
       "1983  10033.0   8292.0  3433.0  2366.0  1114.0   1483.0   971.0     1150.0   \n",
       "1984  12202.0   8837.0  3047.0  2419.0  1532.0   1265.0   914.0     1328.0   \n",
       "1985  11372.0   8721.0  3443.0  2251.0  1612.0   1640.0   753.0     1135.0   \n",
       "1986  11430.0   9258.0  3824.0  2322.0  1807.0   1628.0   865.0     1182.0   \n",
       "1987  12310.0  10706.0  4458.0  2510.0  2293.0   1876.0  1279.0     1417.0   \n",
       "1988  13809.0  11045.0  6465.0  2736.0  2380.0   1930.0  1722.0     1221.0   \n",
       "1989  15447.0  12441.0  6178.0  2634.0  2660.0   2165.0  2414.0     1308.0   \n",
       "\n",
       "        soul  british  \n",
       "year                   \n",
       "1980  1391.0    917.0  \n",
       "1981  1359.0    690.0  \n",
       "1982  1367.0    831.0  \n",
       "1983  1034.0    630.0  \n",
       "1984   835.0    825.0  \n",
       "1985   809.0    730.0  \n",
       "1986   766.0    983.0  \n",
       "1987  1014.0   1316.0  \n",
       "1988  1186.0   1515.0  \n",
       "1989  1338.0   2095.0  "
      ]
     },
     "execution_count": 18,
     "metadata": {},
     "output_type": "execute_result"
    }
   ],
   "source": [
    "by_isrc_year"
   ]
  },
  {
   "attachments": {},
   "cell_type": "markdown",
   "metadata": {},
   "source": [
    "## Development of features over the years"
   ]
  },
  {
   "cell_type": "code",
   "execution_count": 91,
   "metadata": {},
   "outputs": [
    {
     "name": "stdout",
     "output_type": "stream",
     "text": [
      "(427258, 25)\n",
      "(316490, 25)\n"
     ]
    }
   ],
   "source": [
    "# remove songs that have not the correct genres\n",
    "df = by_isrc.copy()\n",
    "print(df.shape)\n",
    "df.set_index('isrc', inplace=True)\n",
    "remove_help = []\n",
    "df_index = df.index.to_list()\n",
    "for song_isrc in remove_songs:\n",
    "    if song_isrc in df_index:\n",
    "        remove_help.append(song_isrc)\n",
    "try:\n",
    "    df.drop(index=remove_help, inplace=True)\n",
    "except Exception as e:\n",
    "    print(e)\n",
    "    \n",
    "df.reset_index(inplace=True)\n",
    "print(df.shape)"
   ]
  },
  {
   "cell_type": "code",
   "execution_count": null,
   "metadata": {
    "scrolled": true
   },
   "outputs": [],
   "source": [
    "save = df.copy()\n",
    "df['year_month'] = 0\n",
    "for index, song in df.iterrows():\n",
    "    df.loc[index,'year_month'] = song['year']\n",
    "    if song['release_date_precision'] == 'month':\n",
    "        df.loc[index,'year_month'] += int(song['release_date'][5:7]) / 12\n"
   ]
  },
  {
   "cell_type": "code",
   "execution_count": 100,
   "metadata": {
    "scrolled": true
   },
   "outputs": [
    {
     "data": {
      "text/html": [
       "<div>\n",
       "<style scoped>\n",
       "    .dataframe tbody tr th:only-of-type {\n",
       "        vertical-align: middle;\n",
       "    }\n",
       "\n",
       "    .dataframe tbody tr th {\n",
       "        vertical-align: top;\n",
       "    }\n",
       "\n",
       "    .dataframe thead th {\n",
       "        text-align: right;\n",
       "    }\n",
       "</style>\n",
       "<table border=\"1\" class=\"dataframe\">\n",
       "  <thead>\n",
       "    <tr style=\"text-align: right;\">\n",
       "      <th></th>\n",
       "      <th>0</th>\n",
       "      <th>1</th>\n",
       "    </tr>\n",
       "  </thead>\n",
       "  <tbody>\n",
       "    <tr>\n",
       "      <th>isrc</th>\n",
       "      <td>AEA040700577</td>\n",
       "      <td>AEA040700578</td>\n",
       "    </tr>\n",
       "    <tr>\n",
       "      <th>genres</th>\n",
       "      <td>['j-pop', 'jazz', 'pop']</td>\n",
       "      <td>['groove', 'j-pop', 'jazz', 'pop']</td>\n",
       "    </tr>\n",
       "    <tr>\n",
       "      <th>name</th>\n",
       "      <td>Bala Wala Chi</td>\n",
       "      <td>Houdou Nisbi</td>\n",
       "    </tr>\n",
       "    <tr>\n",
       "      <th>artists</th>\n",
       "      <td>Ziad Rahbani</td>\n",
       "      <td>Ziad Rahbani</td>\n",
       "    </tr>\n",
       "    <tr>\n",
       "      <th>album</th>\n",
       "      <td>Houdou Nisbi</td>\n",
       "      <td>Houdou Nisbi</td>\n",
       "    </tr>\n",
       "    <tr>\n",
       "      <th>release_date</th>\n",
       "      <td>1985-01-01</td>\n",
       "      <td>1985-01-01</td>\n",
       "    </tr>\n",
       "    <tr>\n",
       "      <th>release_date_precision</th>\n",
       "      <td>day</td>\n",
       "      <td>day</td>\n",
       "    </tr>\n",
       "    <tr>\n",
       "      <th>uri</th>\n",
       "      <td>spotify:track:0fylgLeNObjVvwhd8caHqX</td>\n",
       "      <td>spotify:track:0yMFpBNCYXqwwOAg23bC8a</td>\n",
       "    </tr>\n",
       "    <tr>\n",
       "      <th>spotify_id</th>\n",
       "      <td>0fylgLeNObjVvwhd8caHqX</td>\n",
       "      <td>0yMFpBNCYXqwwOAg23bC8a</td>\n",
       "    </tr>\n",
       "    <tr>\n",
       "      <th>chart_power</th>\n",
       "      <td>NaN</td>\n",
       "      <td>NaN</td>\n",
       "    </tr>\n",
       "    <tr>\n",
       "      <th>popularity</th>\n",
       "      <td>41</td>\n",
       "      <td>31</td>\n",
       "    </tr>\n",
       "    <tr>\n",
       "      <th>danceability</th>\n",
       "      <td>0.291</td>\n",
       "      <td>0.587</td>\n",
       "    </tr>\n",
       "    <tr>\n",
       "      <th>energy</th>\n",
       "      <td>0.231</td>\n",
       "      <td>0.184</td>\n",
       "    </tr>\n",
       "    <tr>\n",
       "      <th>key</th>\n",
       "      <td>9</td>\n",
       "      <td>7</td>\n",
       "    </tr>\n",
       "    <tr>\n",
       "      <th>loudness</th>\n",
       "      <td>-18.808</td>\n",
       "      <td>-18.954</td>\n",
       "    </tr>\n",
       "    <tr>\n",
       "      <th>mode</th>\n",
       "      <td>1</td>\n",
       "      <td>0</td>\n",
       "    </tr>\n",
       "    <tr>\n",
       "      <th>speechiness</th>\n",
       "      <td>0.0418</td>\n",
       "      <td>0.0308</td>\n",
       "    </tr>\n",
       "    <tr>\n",
       "      <th>acousticness</th>\n",
       "      <td>0.952</td>\n",
       "      <td>0.814</td>\n",
       "    </tr>\n",
       "    <tr>\n",
       "      <th>instrumentalness</th>\n",
       "      <td>0.382</td>\n",
       "      <td>0.951</td>\n",
       "    </tr>\n",
       "    <tr>\n",
       "      <th>liveness</th>\n",
       "      <td>0.237</td>\n",
       "      <td>0.0827</td>\n",
       "    </tr>\n",
       "    <tr>\n",
       "      <th>valence</th>\n",
       "      <td>0.371</td>\n",
       "      <td>0.495</td>\n",
       "    </tr>\n",
       "    <tr>\n",
       "      <th>tempo</th>\n",
       "      <td>157.168</td>\n",
       "      <td>128.386</td>\n",
       "    </tr>\n",
       "    <tr>\n",
       "      <th>duration_ms</th>\n",
       "      <td>207560</td>\n",
       "      <td>272240</td>\n",
       "    </tr>\n",
       "    <tr>\n",
       "      <th>time_signature</th>\n",
       "      <td>3</td>\n",
       "      <td>3</td>\n",
       "    </tr>\n",
       "    <tr>\n",
       "      <th>year</th>\n",
       "      <td>1985</td>\n",
       "      <td>1985</td>\n",
       "    </tr>\n",
       "    <tr>\n",
       "      <th>year_month</th>\n",
       "      <td>1985.0</td>\n",
       "      <td>1985.0</td>\n",
       "    </tr>\n",
       "  </tbody>\n",
       "</table>\n",
       "</div>"
      ],
      "text/plain": [
       "                                                           0  \\\n",
       "isrc                                            AEA040700577   \n",
       "genres                              ['j-pop', 'jazz', 'pop']   \n",
       "name                                           Bala Wala Chi   \n",
       "artists                                         Ziad Rahbani   \n",
       "album                                           Houdou Nisbi   \n",
       "release_date                                      1985-01-01   \n",
       "release_date_precision                                   day   \n",
       "uri                     spotify:track:0fylgLeNObjVvwhd8caHqX   \n",
       "spotify_id                            0fylgLeNObjVvwhd8caHqX   \n",
       "chart_power                                              NaN   \n",
       "popularity                                                41   \n",
       "danceability                                           0.291   \n",
       "energy                                                 0.231   \n",
       "key                                                        9   \n",
       "loudness                                             -18.808   \n",
       "mode                                                       1   \n",
       "speechiness                                           0.0418   \n",
       "acousticness                                           0.952   \n",
       "instrumentalness                                       0.382   \n",
       "liveness                                               0.237   \n",
       "valence                                                0.371   \n",
       "tempo                                                157.168   \n",
       "duration_ms                                           207560   \n",
       "time_signature                                             3   \n",
       "year                                                    1985   \n",
       "year_month                                            1985.0   \n",
       "\n",
       "                                                           1  \n",
       "isrc                                            AEA040700578  \n",
       "genres                    ['groove', 'j-pop', 'jazz', 'pop']  \n",
       "name                                            Houdou Nisbi  \n",
       "artists                                         Ziad Rahbani  \n",
       "album                                           Houdou Nisbi  \n",
       "release_date                                      1985-01-01  \n",
       "release_date_precision                                   day  \n",
       "uri                     spotify:track:0yMFpBNCYXqwwOAg23bC8a  \n",
       "spotify_id                            0yMFpBNCYXqwwOAg23bC8a  \n",
       "chart_power                                              NaN  \n",
       "popularity                                                31  \n",
       "danceability                                           0.587  \n",
       "energy                                                 0.184  \n",
       "key                                                        7  \n",
       "loudness                                             -18.954  \n",
       "mode                                                       0  \n",
       "speechiness                                           0.0308  \n",
       "acousticness                                           0.814  \n",
       "instrumentalness                                       0.951  \n",
       "liveness                                              0.0827  \n",
       "valence                                                0.495  \n",
       "tempo                                                128.386  \n",
       "duration_ms                                           272240  \n",
       "time_signature                                             3  \n",
       "year                                                    1985  \n",
       "year_month                                            1985.0  "
      ]
     },
     "execution_count": 100,
     "metadata": {},
     "output_type": "execute_result"
    }
   ],
   "source": [
    "df.head(2).T"
   ]
  },
  {
   "cell_type": "code",
   "execution_count": 160,
   "metadata": {},
   "outputs": [],
   "source": [
    "per_year_features = ['year', 'popularity', 'danceability', 'energy',\n",
    "                     'key', 'loudness', 'mode', 'speechiness',\n",
    "                     'acousticness', 'instrumentalness', 'liveness',\n",
    "                     'valence', 'tempo', 'duration_ms',\n",
    "                     'time_signature']\n",
    "per_year_agg = {\n",
    "    \"popularity\": 'mean',\n",
    "    'danceability': 'mean', \n",
    "    'energy': 'mean',\n",
    "    'key': 'mean', \n",
    "    'loudness': 'mean', \n",
    "    'mode': 'mean', \n",
    "    'speechiness': 'mean',\n",
    "    'acousticness': 'mean', \n",
    "    'instrumentalness': 'mean', \n",
    "    'liveness': 'mean',\n",
    "    'valence': 'mean', \n",
    "    'tempo': 'mean', \n",
    "    'duration_ms': 'mean',\n",
    "    'time_signature': 'mean',\n",
    "    'count': 'count'\n",
    "}\n",
    "\n",
    "songs_per_year = df.copy()\n",
    "songs_per_year = songs_per_year[per_year_features]\n",
    "songs_per_year['count'] = -1\n",
    "songs_per_year = songs_per_year.groupby(\"year\").agg(per_year_agg)\n",
    "songs_per_year.reset_index(inplace=True)\n",
    "songs_per_year['duration_min'] = songs_per_year['duration_ms'] / (1000 * 60)"
   ]
  },
  {
   "cell_type": "code",
   "execution_count": 148,
   "metadata": {
    "scrolled": true
   },
   "outputs": [
    {
     "data": {
      "text/html": [
       "<div>\n",
       "<style scoped>\n",
       "    .dataframe tbody tr th:only-of-type {\n",
       "        vertical-align: middle;\n",
       "    }\n",
       "\n",
       "    .dataframe tbody tr th {\n",
       "        vertical-align: top;\n",
       "    }\n",
       "\n",
       "    .dataframe thead th {\n",
       "        text-align: right;\n",
       "    }\n",
       "</style>\n",
       "<table border=\"1\" class=\"dataframe\">\n",
       "  <thead>\n",
       "    <tr style=\"text-align: right;\">\n",
       "      <th></th>\n",
       "      <th>0</th>\n",
       "      <th>1</th>\n",
       "      <th>2</th>\n",
       "      <th>3</th>\n",
       "      <th>4</th>\n",
       "      <th>5</th>\n",
       "      <th>6</th>\n",
       "      <th>7</th>\n",
       "      <th>8</th>\n",
       "      <th>9</th>\n",
       "    </tr>\n",
       "  </thead>\n",
       "  <tbody>\n",
       "    <tr>\n",
       "      <th>year</th>\n",
       "      <td>1980.000000</td>\n",
       "      <td>1981.000000</td>\n",
       "      <td>1982.000000</td>\n",
       "      <td>1983.000000</td>\n",
       "      <td>1984.000000</td>\n",
       "      <td>1985.000000</td>\n",
       "      <td>1986.000000</td>\n",
       "      <td>1987.000000</td>\n",
       "      <td>1988.000000</td>\n",
       "      <td>1989.000000</td>\n",
       "    </tr>\n",
       "    <tr>\n",
       "      <th>popularity</th>\n",
       "      <td>7.937137</td>\n",
       "      <td>8.046343</td>\n",
       "      <td>8.037993</td>\n",
       "      <td>8.095217</td>\n",
       "      <td>8.452725</td>\n",
       "      <td>8.251112</td>\n",
       "      <td>8.073371</td>\n",
       "      <td>8.014330</td>\n",
       "      <td>7.558946</td>\n",
       "      <td>7.448754</td>\n",
       "    </tr>\n",
       "    <tr>\n",
       "      <th>danceability</th>\n",
       "      <td>0.519827</td>\n",
       "      <td>0.522204</td>\n",
       "      <td>0.529009</td>\n",
       "      <td>0.517713</td>\n",
       "      <td>0.519658</td>\n",
       "      <td>0.513429</td>\n",
       "      <td>0.502094</td>\n",
       "      <td>0.500046</td>\n",
       "      <td>0.500834</td>\n",
       "      <td>0.502221</td>\n",
       "    </tr>\n",
       "    <tr>\n",
       "      <th>energy</th>\n",
       "      <td>0.537207</td>\n",
       "      <td>0.540198</td>\n",
       "      <td>0.542141</td>\n",
       "      <td>0.526218</td>\n",
       "      <td>0.540667</td>\n",
       "      <td>0.534168</td>\n",
       "      <td>0.532774</td>\n",
       "      <td>0.528471</td>\n",
       "      <td>0.516442</td>\n",
       "      <td>0.504955</td>\n",
       "    </tr>\n",
       "    <tr>\n",
       "      <th>key</th>\n",
       "      <td>5.142606</td>\n",
       "      <td>5.188799</td>\n",
       "      <td>5.227722</td>\n",
       "      <td>5.207551</td>\n",
       "      <td>5.245104</td>\n",
       "      <td>5.199207</td>\n",
       "      <td>5.220508</td>\n",
       "      <td>5.236552</td>\n",
       "      <td>5.210538</td>\n",
       "      <td>5.244274</td>\n",
       "    </tr>\n",
       "    <tr>\n",
       "      <th>loudness</th>\n",
       "      <td>-11.294105</td>\n",
       "      <td>-11.492553</td>\n",
       "      <td>-11.502858</td>\n",
       "      <td>-12.012110</td>\n",
       "      <td>-11.831597</td>\n",
       "      <td>-12.069975</td>\n",
       "      <td>-12.347746</td>\n",
       "      <td>-12.602400</td>\n",
       "      <td>-12.949678</td>\n",
       "      <td>-13.168946</td>\n",
       "    </tr>\n",
       "    <tr>\n",
       "      <th>mode</th>\n",
       "      <td>0.700667</td>\n",
       "      <td>0.695997</td>\n",
       "      <td>0.690143</td>\n",
       "      <td>0.680375</td>\n",
       "      <td>0.666861</td>\n",
       "      <td>0.676703</td>\n",
       "      <td>0.677807</td>\n",
       "      <td>0.685887</td>\n",
       "      <td>0.681961</td>\n",
       "      <td>0.688553</td>\n",
       "    </tr>\n",
       "    <tr>\n",
       "      <th>speechiness</th>\n",
       "      <td>0.065988</td>\n",
       "      <td>0.069316</td>\n",
       "      <td>0.082132</td>\n",
       "      <td>0.066761</td>\n",
       "      <td>0.065191</td>\n",
       "      <td>0.062027</td>\n",
       "      <td>0.064189</td>\n",
       "      <td>0.064086</td>\n",
       "      <td>0.064879</td>\n",
       "      <td>0.068875</td>\n",
       "    </tr>\n",
       "    <tr>\n",
       "      <th>acousticness</th>\n",
       "      <td>0.446317</td>\n",
       "      <td>0.435572</td>\n",
       "      <td>0.432521</td>\n",
       "      <td>0.438737</td>\n",
       "      <td>0.427397</td>\n",
       "      <td>0.440263</td>\n",
       "      <td>0.439232</td>\n",
       "      <td>0.442796</td>\n",
       "      <td>0.451613</td>\n",
       "      <td>0.461619</td>\n",
       "    </tr>\n",
       "    <tr>\n",
       "      <th>instrumentalness</th>\n",
       "      <td>0.128307</td>\n",
       "      <td>0.138565</td>\n",
       "      <td>0.132285</td>\n",
       "      <td>0.154994</td>\n",
       "      <td>0.149328</td>\n",
       "      <td>0.154413</td>\n",
       "      <td>0.165507</td>\n",
       "      <td>0.168782</td>\n",
       "      <td>0.193736</td>\n",
       "      <td>0.178048</td>\n",
       "    </tr>\n",
       "    <tr>\n",
       "      <th>liveness</th>\n",
       "      <td>0.226420</td>\n",
       "      <td>0.227462</td>\n",
       "      <td>0.225734</td>\n",
       "      <td>0.221899</td>\n",
       "      <td>0.225375</td>\n",
       "      <td>0.221223</td>\n",
       "      <td>0.218011</td>\n",
       "      <td>0.216595</td>\n",
       "      <td>0.219236</td>\n",
       "      <td>0.216882</td>\n",
       "    </tr>\n",
       "    <tr>\n",
       "      <th>valence</th>\n",
       "      <td>0.579184</td>\n",
       "      <td>0.575045</td>\n",
       "      <td>0.572118</td>\n",
       "      <td>0.556607</td>\n",
       "      <td>0.549966</td>\n",
       "      <td>0.547376</td>\n",
       "      <td>0.530402</td>\n",
       "      <td>0.521745</td>\n",
       "      <td>0.527930</td>\n",
       "      <td>0.520430</td>\n",
       "    </tr>\n",
       "    <tr>\n",
       "      <th>tempo</th>\n",
       "      <td>120.502448</td>\n",
       "      <td>120.959868</td>\n",
       "      <td>120.643812</td>\n",
       "      <td>119.864369</td>\n",
       "      <td>120.269657</td>\n",
       "      <td>119.408776</td>\n",
       "      <td>119.205517</td>\n",
       "      <td>119.044170</td>\n",
       "      <td>118.178163</td>\n",
       "      <td>117.969633</td>\n",
       "    </tr>\n",
       "    <tr>\n",
       "      <th>duration_ms</th>\n",
       "      <td>243072.785499</td>\n",
       "      <td>238512.530947</td>\n",
       "      <td>239252.861822</td>\n",
       "      <td>245990.748879</td>\n",
       "      <td>242215.771837</td>\n",
       "      <td>249668.135092</td>\n",
       "      <td>249044.497413</td>\n",
       "      <td>250314.261629</td>\n",
       "      <td>253590.250445</td>\n",
       "      <td>253521.105081</td>\n",
       "    </tr>\n",
       "    <tr>\n",
       "      <th>time_signature</th>\n",
       "      <td>3.859723</td>\n",
       "      <td>3.861316</td>\n",
       "      <td>3.863477</td>\n",
       "      <td>3.861658</td>\n",
       "      <td>3.874035</td>\n",
       "      <td>3.866874</td>\n",
       "      <td>3.862257</td>\n",
       "      <td>3.858382</td>\n",
       "      <td>3.851665</td>\n",
       "      <td>3.846942</td>\n",
       "    </tr>\n",
       "    <tr>\n",
       "      <th>count</th>\n",
       "      <td>27902.000000</td>\n",
       "      <td>25980.000000</td>\n",
       "      <td>25373.000000</td>\n",
       "      <td>26991.000000</td>\n",
       "      <td>29159.000000</td>\n",
       "      <td>28995.000000</td>\n",
       "      <td>30339.000000</td>\n",
       "      <td>35172.000000</td>\n",
       "      <td>40995.000000</td>\n",
       "      <td>45584.000000</td>\n",
       "    </tr>\n",
       "    <tr>\n",
       "      <th>duration_min</th>\n",
       "      <td>4.051213</td>\n",
       "      <td>3.975209</td>\n",
       "      <td>3.987548</td>\n",
       "      <td>4.099846</td>\n",
       "      <td>4.036930</td>\n",
       "      <td>4.161136</td>\n",
       "      <td>4.150742</td>\n",
       "      <td>4.171904</td>\n",
       "      <td>4.226504</td>\n",
       "      <td>4.225352</td>\n",
       "    </tr>\n",
       "  </tbody>\n",
       "</table>\n",
       "</div>"
      ],
      "text/plain": [
       "                              0              1              2              3  \\\n",
       "year                1980.000000    1981.000000    1982.000000    1983.000000   \n",
       "popularity             7.937137       8.046343       8.037993       8.095217   \n",
       "danceability           0.519827       0.522204       0.529009       0.517713   \n",
       "energy                 0.537207       0.540198       0.542141       0.526218   \n",
       "key                    5.142606       5.188799       5.227722       5.207551   \n",
       "loudness             -11.294105     -11.492553     -11.502858     -12.012110   \n",
       "mode                   0.700667       0.695997       0.690143       0.680375   \n",
       "speechiness            0.065988       0.069316       0.082132       0.066761   \n",
       "acousticness           0.446317       0.435572       0.432521       0.438737   \n",
       "instrumentalness       0.128307       0.138565       0.132285       0.154994   \n",
       "liveness               0.226420       0.227462       0.225734       0.221899   \n",
       "valence                0.579184       0.575045       0.572118       0.556607   \n",
       "tempo                120.502448     120.959868     120.643812     119.864369   \n",
       "duration_ms       243072.785499  238512.530947  239252.861822  245990.748879   \n",
       "time_signature         3.859723       3.861316       3.863477       3.861658   \n",
       "count              27902.000000   25980.000000   25373.000000   26991.000000   \n",
       "duration_min           4.051213       3.975209       3.987548       4.099846   \n",
       "\n",
       "                              4              5              6              7  \\\n",
       "year                1984.000000    1985.000000    1986.000000    1987.000000   \n",
       "popularity             8.452725       8.251112       8.073371       8.014330   \n",
       "danceability           0.519658       0.513429       0.502094       0.500046   \n",
       "energy                 0.540667       0.534168       0.532774       0.528471   \n",
       "key                    5.245104       5.199207       5.220508       5.236552   \n",
       "loudness             -11.831597     -12.069975     -12.347746     -12.602400   \n",
       "mode                   0.666861       0.676703       0.677807       0.685887   \n",
       "speechiness            0.065191       0.062027       0.064189       0.064086   \n",
       "acousticness           0.427397       0.440263       0.439232       0.442796   \n",
       "instrumentalness       0.149328       0.154413       0.165507       0.168782   \n",
       "liveness               0.225375       0.221223       0.218011       0.216595   \n",
       "valence                0.549966       0.547376       0.530402       0.521745   \n",
       "tempo                120.269657     119.408776     119.205517     119.044170   \n",
       "duration_ms       242215.771837  249668.135092  249044.497413  250314.261629   \n",
       "time_signature         3.874035       3.866874       3.862257       3.858382   \n",
       "count              29159.000000   28995.000000   30339.000000   35172.000000   \n",
       "duration_min           4.036930       4.161136       4.150742       4.171904   \n",
       "\n",
       "                              8              9  \n",
       "year                1988.000000    1989.000000  \n",
       "popularity             7.558946       7.448754  \n",
       "danceability           0.500834       0.502221  \n",
       "energy                 0.516442       0.504955  \n",
       "key                    5.210538       5.244274  \n",
       "loudness             -12.949678     -13.168946  \n",
       "mode                   0.681961       0.688553  \n",
       "speechiness            0.064879       0.068875  \n",
       "acousticness           0.451613       0.461619  \n",
       "instrumentalness       0.193736       0.178048  \n",
       "liveness               0.219236       0.216882  \n",
       "valence                0.527930       0.520430  \n",
       "tempo                118.178163     117.969633  \n",
       "duration_ms       253590.250445  253521.105081  \n",
       "time_signature         3.851665       3.846942  \n",
       "count              40995.000000   45584.000000  \n",
       "duration_min           4.226504       4.225352  "
      ]
     },
     "execution_count": 148,
     "metadata": {},
     "output_type": "execute_result"
    }
   ],
   "source": [
    "songs_per_year.head(10).T"
   ]
  },
  {
   "cell_type": "code",
   "execution_count": 149,
   "metadata": {},
   "outputs": [
    {
     "data": {
      "text/plain": [
       "Index(['year', 'popularity', 'danceability', 'energy', 'key', 'loudness',\n",
       "       'mode', 'speechiness', 'acousticness', 'instrumentalness', 'liveness',\n",
       "       'valence', 'tempo', 'duration_ms', 'time_signature', 'count',\n",
       "       'duration_min'],\n",
       "      dtype='object')"
      ]
     },
     "execution_count": 149,
     "metadata": {},
     "output_type": "execute_result"
    }
   ],
   "source": [
    "songs_per_year.columns"
   ]
  },
  {
   "cell_type": "code",
   "execution_count": 150,
   "metadata": {},
   "outputs": [],
   "source": [
    "songs_per_year = songs_per_year.astype({'year': str})"
   ]
  },
  {
   "cell_type": "code",
   "execution_count": 151,
   "metadata": {},
   "outputs": [
    {
     "data": {
      "text/html": [
       "\n",
       "<style>\n",
       "  #altair-viz-e034c4f209c54e8fb9d9fe3535bddc97.vega-embed {\n",
       "    width: 100%;\n",
       "    display: flex;\n",
       "  }\n",
       "\n",
       "  #altair-viz-e034c4f209c54e8fb9d9fe3535bddc97.vega-embed details,\n",
       "  #altair-viz-e034c4f209c54e8fb9d9fe3535bddc97.vega-embed details summary {\n",
       "    position: relative;\n",
       "  }\n",
       "</style>\n",
       "<div id=\"altair-viz-e034c4f209c54e8fb9d9fe3535bddc97\"></div>\n",
       "<script type=\"text/javascript\">\n",
       "  var VEGA_DEBUG = (typeof VEGA_DEBUG == \"undefined\") ? {} : VEGA_DEBUG;\n",
       "  (function(spec, embedOpt){\n",
       "    let outputDiv = document.currentScript.previousElementSibling;\n",
       "    if (outputDiv.id !== \"altair-viz-e034c4f209c54e8fb9d9fe3535bddc97\") {\n",
       "      outputDiv = document.getElementById(\"altair-viz-e034c4f209c54e8fb9d9fe3535bddc97\");\n",
       "    }\n",
       "    const paths = {\n",
       "      \"vega\": \"https://cdn.jsdelivr.net/npm/vega@5?noext\",\n",
       "      \"vega-lib\": \"https://cdn.jsdelivr.net/npm/vega-lib?noext\",\n",
       "      \"vega-lite\": \"https://cdn.jsdelivr.net/npm/vega-lite@5.8.0?noext\",\n",
       "      \"vega-embed\": \"https://cdn.jsdelivr.net/npm/vega-embed@6?noext\",\n",
       "    };\n",
       "\n",
       "    function maybeLoadScript(lib, version) {\n",
       "      var key = `${lib.replace(\"-\", \"\")}_version`;\n",
       "      return (VEGA_DEBUG[key] == version) ?\n",
       "        Promise.resolve(paths[lib]) :\n",
       "        new Promise(function(resolve, reject) {\n",
       "          var s = document.createElement('script');\n",
       "          document.getElementsByTagName(\"head\")[0].appendChild(s);\n",
       "          s.async = true;\n",
       "          s.onload = () => {\n",
       "            VEGA_DEBUG[key] = version;\n",
       "            return resolve(paths[lib]);\n",
       "          };\n",
       "          s.onerror = () => reject(`Error loading script: ${paths[lib]}`);\n",
       "          s.src = paths[lib];\n",
       "        });\n",
       "    }\n",
       "\n",
       "    function showError(err) {\n",
       "      outputDiv.innerHTML = `<div class=\"error\" style=\"color:red;\">${err}</div>`;\n",
       "      throw err;\n",
       "    }\n",
       "\n",
       "    function displayChart(vegaEmbed) {\n",
       "      vegaEmbed(outputDiv, spec, embedOpt)\n",
       "        .catch(err => showError(`Javascript Error: ${err.message}<br>This usually means there's a typo in your chart specification. See the javascript console for the full traceback.`));\n",
       "    }\n",
       "\n",
       "    if(typeof define === \"function\" && define.amd) {\n",
       "      requirejs.config({paths});\n",
       "      require([\"vega-embed\"], displayChart, err => showError(`Error loading script: ${err.message}`));\n",
       "    } else {\n",
       "      maybeLoadScript(\"vega\", \"5\")\n",
       "        .then(() => maybeLoadScript(\"vega-lite\", \"5.8.0\"))\n",
       "        .then(() => maybeLoadScript(\"vega-embed\", \"6\"))\n",
       "        .catch(showError)\n",
       "        .then(() => displayChart(vegaEmbed));\n",
       "    }\n",
       "  })({\"config\": {\"view\": {\"continuousWidth\": 300, \"continuousHeight\": 300}}, \"data\": {\"name\": \"data-ec6981188ff23d2d4baf688832235e90\"}, \"mark\": {\"type\": \"bar\"}, \"encoding\": {\"x\": {\"field\": \"year\", \"type\": \"nominal\"}, \"y\": {\"field\": \"count\", \"type\": \"quantitative\"}}, \"$schema\": \"https://vega.github.io/schema/vega-lite/v5.8.0.json\", \"datasets\": {\"data-ec6981188ff23d2d4baf688832235e90\": [{\"year\": \"1980\", \"popularity\": 7.937137122786897, \"danceability\": 0.5198272883664253, \"energy\": 0.5372066936742886, \"key\": 5.142606264783886, \"loudness\": -11.294104831194897, \"mode\": 0.700666618880367, \"speechiness\": 0.06598848469643753, \"acousticness\": 0.44631685889541967, \"instrumentalness\": 0.12830723922514514, \"liveness\": 0.22641985879148446, \"valence\": 0.5791841337538527, \"tempo\": 120.50244810407857, \"duration_ms\": 243072.78549924737, \"time_signature\": 3.859723317324923, \"count\": 27902, \"duration_min\": 4.051213091654123}, {\"year\": \"1981\", \"popularity\": 8.046343341031562, \"danceability\": 0.5222043071593533, \"energy\": 0.5401982609314857, \"key\": 5.188799076212471, \"loudness\": -11.492553387220939, \"mode\": 0.6959969207082372, \"speechiness\": 0.06931631639722864, \"acousticness\": 0.43557215395304083, \"instrumentalness\": 0.13856541589299462, \"liveness\": 0.22746184372594302, \"valence\": 0.575045492686682, \"tempo\": 120.95986809083911, \"duration_ms\": 238512.5309468822, \"time_signature\": 3.8613163972286375, \"count\": 25980, \"duration_min\": 3.9752088491147033}, {\"year\": \"1982\", \"popularity\": 8.037993142316635, \"danceability\": 0.5290093524612778, \"energy\": 0.5421411521302172, \"key\": 5.22772238205967, \"loudness\": -11.502857880424072, \"mode\": 0.6901430654632877, \"speechiness\": 0.08213239270090254, \"acousticness\": 0.4325206455834943, \"instrumentalness\": 0.13228490520513933, \"liveness\": 0.2257343711819651, \"valence\": 0.5721177984471683, \"tempo\": 120.64381165017933, \"duration_ms\": 239252.8618216214, \"time_signature\": 3.863476924289599, \"count\": 25373, \"duration_min\": 3.9875476970270234}, {\"year\": \"1983\", \"popularity\": 8.095216924159905, \"danceability\": 0.5177133563039531, \"energy\": 0.5262183641584232, \"key\": 5.207550665036494, \"loudness\": -12.012109925530732, \"mode\": 0.6803749397947464, \"speechiness\": 0.06676096847097181, \"acousticness\": 0.438736663231077, \"instrumentalness\": 0.15499397534993145, \"liveness\": 0.22189901670927345, \"valence\": 0.5566069578748472, \"tempo\": 119.86436893779408, \"duration_ms\": 245990.74887925605, \"time_signature\": 3.8616575895668928, \"count\": 26991, \"duration_min\": 4.099845814654268}, {\"year\": \"1984\", \"popularity\": 8.452724716211119, \"danceability\": 0.5196577111697932, \"energy\": 0.5406671404712096, \"key\": 5.245104427449501, \"loudness\": -11.831597036935422, \"mode\": 0.6668610034637676, \"speechiness\": 0.06519139545251895, \"acousticness\": 0.42739728102609825, \"instrumentalness\": 0.149328304755993, \"liveness\": 0.2253745190164272, \"valence\": 0.54996601392366, \"tempo\": 120.26965677835317, \"duration_ms\": 242215.77183716864, \"time_signature\": 3.874035460749683, \"count\": 29159, \"duration_min\": 4.036929530619477}, {\"year\": \"1985\", \"popularity\": 8.25111226073461, \"danceability\": 0.5134288463528195, \"energy\": 0.5341680055526815, \"key\": 5.19920675978617, \"loudness\": -12.069974961200208, \"mode\": 0.6767028798068633, \"speechiness\": 0.06202747715123297, \"acousticness\": 0.4402632174464563, \"instrumentalness\": 0.15441288914226592, \"liveness\": 0.22122349232626312, \"valence\": 0.5473764290394896, \"tempo\": 119.40877578892912, \"duration_ms\": 249668.1350922573, \"time_signature\": 3.8668735988963614, \"count\": 28995, \"duration_min\": 4.161135584870955}, {\"year\": \"1986\", \"popularity\": 8.073370908731336, \"danceability\": 0.5020942908467648, \"energy\": 0.532774209301559, \"key\": 5.220508256699298, \"loudness\": -12.3477458057286, \"mode\": 0.6778074425656745, \"speechiness\": 0.06418909654240416, \"acousticness\": 0.4392319503576255, \"instrumentalness\": 0.16550688092059726, \"liveness\": 0.21801122317808763, \"valence\": 0.5304019479877385, \"tempo\": 119.20551732094005, \"duration_ms\": 249044.49741257128, \"time_signature\": 3.8622565015326806, \"count\": 30339, \"duration_min\": 4.150741623542855}, {\"year\": \"1987\", \"popularity\": 8.014329580348004, \"danceability\": 0.5000455561241897, \"energy\": 0.5284714877544637, \"key\": 5.236551802570227, \"loudness\": -12.602400233139997, \"mode\": 0.6858865006254976, \"speechiness\": 0.0640861765040373, \"acousticness\": 0.44279590927811896, \"instrumentalness\": 0.16878181335067666, \"liveness\": 0.21659462413283295, \"valence\": 0.5217450983737063, \"tempo\": 119.04417019219834, \"duration_ms\": 250314.26162856817, \"time_signature\": 3.858381667235301, \"count\": 35172, \"duration_min\": 4.1719043604761366}, {\"year\": \"1988\", \"popularity\": 7.558946212952799, \"danceability\": 0.5008341651420904, \"energy\": 0.5164417870301257, \"key\": 5.210537870472009, \"loudness\": -12.949677863154044, \"mode\": 0.6819612147822905, \"speechiness\": 0.06487886327600927, \"acousticness\": 0.45161291168386386, \"instrumentalness\": 0.19373625404878644, \"liveness\": 0.2192355070130504, \"valence\": 0.5279301085498231, \"tempo\": 118.17816299548727, \"duration_ms\": 253590.25044517624, \"time_signature\": 3.851664837175265, \"count\": 40995, \"duration_min\": 4.226504174086271}, {\"year\": \"1989\", \"popularity\": 7.448753948753949, \"danceability\": 0.5022213144963145, \"energy\": 0.5049547201561951, \"key\": 5.244274306774307, \"loudness\": -13.168945792383292, \"mode\": 0.6885530010530011, \"speechiness\": 0.06887487714987715, \"acousticness\": 0.4616192831184187, \"instrumentalness\": 0.17804750882634257, \"liveness\": 0.21688232055107054, \"valence\": 0.5204301377676378, \"tempo\": 117.9696327878203, \"duration_ms\": 253521.10508073008, \"time_signature\": 3.8469419094419095, \"count\": 45584, \"duration_min\": 4.225351751345501}]}}, {\"mode\": \"vega-lite\"});\n",
       "</script>"
      ],
      "text/plain": [
       "alt.Chart(...)"
      ]
     },
     "execution_count": 151,
     "metadata": {},
     "output_type": "execute_result"
    }
   ],
   "source": [
    "alt.Chart(songs_per_year).mark_bar().encode(\n",
    "    alt.X(\"year\"),\n",
    "    alt.Y(\"count\")\n",
    ")"
   ]
  },
  {
   "cell_type": "code",
   "execution_count": 108,
   "metadata": {},
   "outputs": [
    {
     "data": {
      "text/html": [
       "<div>\n",
       "<style scoped>\n",
       "    .dataframe tbody tr th:only-of-type {\n",
       "        vertical-align: middle;\n",
       "    }\n",
       "\n",
       "    .dataframe tbody tr th {\n",
       "        vertical-align: top;\n",
       "    }\n",
       "\n",
       "    .dataframe thead th {\n",
       "        text-align: right;\n",
       "    }\n",
       "</style>\n",
       "<table border=\"1\" class=\"dataframe\">\n",
       "  <thead>\n",
       "    <tr style=\"text-align: right;\">\n",
       "      <th></th>\n",
       "      <th>year</th>\n",
       "      <th>popularity</th>\n",
       "      <th>danceability</th>\n",
       "      <th>energy</th>\n",
       "      <th>key</th>\n",
       "      <th>loudness</th>\n",
       "      <th>mode</th>\n",
       "      <th>speechiness</th>\n",
       "      <th>acousticness</th>\n",
       "      <th>instrumentalness</th>\n",
       "      <th>liveness</th>\n",
       "      <th>valence</th>\n",
       "      <th>tempo</th>\n",
       "      <th>duration_ms</th>\n",
       "      <th>time_signature</th>\n",
       "      <th>count</th>\n",
       "      <th>duration_min</th>\n",
       "    </tr>\n",
       "  </thead>\n",
       "  <tbody>\n",
       "    <tr>\n",
       "      <th>0</th>\n",
       "      <td>1980</td>\n",
       "      <td>7.937137</td>\n",
       "      <td>0.519827</td>\n",
       "      <td>0.537207</td>\n",
       "      <td>5.142606</td>\n",
       "      <td>-11.294105</td>\n",
       "      <td>0.700667</td>\n",
       "      <td>0.065988</td>\n",
       "      <td>0.446317</td>\n",
       "      <td>0.128307</td>\n",
       "      <td>0.226420</td>\n",
       "      <td>0.579184</td>\n",
       "      <td>120.502448</td>\n",
       "      <td>243072.785499</td>\n",
       "      <td>3.859723</td>\n",
       "      <td>27902</td>\n",
       "      <td>4.051213</td>\n",
       "    </tr>\n",
       "    <tr>\n",
       "      <th>1</th>\n",
       "      <td>1981</td>\n",
       "      <td>8.046343</td>\n",
       "      <td>0.522204</td>\n",
       "      <td>0.540198</td>\n",
       "      <td>5.188799</td>\n",
       "      <td>-11.492553</td>\n",
       "      <td>0.695997</td>\n",
       "      <td>0.069316</td>\n",
       "      <td>0.435572</td>\n",
       "      <td>0.138565</td>\n",
       "      <td>0.227462</td>\n",
       "      <td>0.575045</td>\n",
       "      <td>120.959868</td>\n",
       "      <td>238512.530947</td>\n",
       "      <td>3.861316</td>\n",
       "      <td>25980</td>\n",
       "      <td>3.975209</td>\n",
       "    </tr>\n",
       "    <tr>\n",
       "      <th>2</th>\n",
       "      <td>1982</td>\n",
       "      <td>8.037993</td>\n",
       "      <td>0.529009</td>\n",
       "      <td>0.542141</td>\n",
       "      <td>5.227722</td>\n",
       "      <td>-11.502858</td>\n",
       "      <td>0.690143</td>\n",
       "      <td>0.082132</td>\n",
       "      <td>0.432521</td>\n",
       "      <td>0.132285</td>\n",
       "      <td>0.225734</td>\n",
       "      <td>0.572118</td>\n",
       "      <td>120.643812</td>\n",
       "      <td>239252.861822</td>\n",
       "      <td>3.863477</td>\n",
       "      <td>25373</td>\n",
       "      <td>3.987548</td>\n",
       "    </tr>\n",
       "    <tr>\n",
       "      <th>3</th>\n",
       "      <td>1983</td>\n",
       "      <td>8.095217</td>\n",
       "      <td>0.517713</td>\n",
       "      <td>0.526218</td>\n",
       "      <td>5.207551</td>\n",
       "      <td>-12.012110</td>\n",
       "      <td>0.680375</td>\n",
       "      <td>0.066761</td>\n",
       "      <td>0.438737</td>\n",
       "      <td>0.154994</td>\n",
       "      <td>0.221899</td>\n",
       "      <td>0.556607</td>\n",
       "      <td>119.864369</td>\n",
       "      <td>245990.748879</td>\n",
       "      <td>3.861658</td>\n",
       "      <td>26991</td>\n",
       "      <td>4.099846</td>\n",
       "    </tr>\n",
       "    <tr>\n",
       "      <th>4</th>\n",
       "      <td>1984</td>\n",
       "      <td>8.452725</td>\n",
       "      <td>0.519658</td>\n",
       "      <td>0.540667</td>\n",
       "      <td>5.245104</td>\n",
       "      <td>-11.831597</td>\n",
       "      <td>0.666861</td>\n",
       "      <td>0.065191</td>\n",
       "      <td>0.427397</td>\n",
       "      <td>0.149328</td>\n",
       "      <td>0.225375</td>\n",
       "      <td>0.549966</td>\n",
       "      <td>120.269657</td>\n",
       "      <td>242215.771837</td>\n",
       "      <td>3.874035</td>\n",
       "      <td>29159</td>\n",
       "      <td>4.036930</td>\n",
       "    </tr>\n",
       "  </tbody>\n",
       "</table>\n",
       "</div>"
      ],
      "text/plain": [
       "   year  popularity  danceability    energy       key   loudness      mode  \\\n",
       "0  1980    7.937137      0.519827  0.537207  5.142606 -11.294105  0.700667   \n",
       "1  1981    8.046343      0.522204  0.540198  5.188799 -11.492553  0.695997   \n",
       "2  1982    8.037993      0.529009  0.542141  5.227722 -11.502858  0.690143   \n",
       "3  1983    8.095217      0.517713  0.526218  5.207551 -12.012110  0.680375   \n",
       "4  1984    8.452725      0.519658  0.540667  5.245104 -11.831597  0.666861   \n",
       "\n",
       "   speechiness  acousticness  instrumentalness  liveness   valence  \\\n",
       "0     0.065988      0.446317          0.128307  0.226420  0.579184   \n",
       "1     0.069316      0.435572          0.138565  0.227462  0.575045   \n",
       "2     0.082132      0.432521          0.132285  0.225734  0.572118   \n",
       "3     0.066761      0.438737          0.154994  0.221899  0.556607   \n",
       "4     0.065191      0.427397          0.149328  0.225375  0.549966   \n",
       "\n",
       "        tempo    duration_ms  time_signature  count  duration_min  \n",
       "0  120.502448  243072.785499        3.859723  27902      4.051213  \n",
       "1  120.959868  238512.530947        3.861316  25980      3.975209  \n",
       "2  120.643812  239252.861822        3.863477  25373      3.987548  \n",
       "3  119.864369  245990.748879        3.861658  26991      4.099846  \n",
       "4  120.269657  242215.771837        3.874035  29159      4.036930  "
      ]
     },
     "execution_count": 108,
     "metadata": {},
     "output_type": "execute_result"
    }
   ],
   "source": [
    "songs_per_year.head()"
   ]
  },
  {
   "cell_type": "code",
   "execution_count": 152,
   "metadata": {},
   "outputs": [
    {
     "data": {
      "application/vnd.plotly.v1+json": {
       "config": {
        "plotlyServerURL": "https://plot.ly"
       },
       "data": [
        {
         "name": "Duration (ms)",
         "type": "scatter",
         "x": [
          "1980",
          "1981",
          "1982",
          "1983",
          "1984",
          "1985",
          "1986",
          "1987",
          "1988",
          "1989"
         ],
         "y": [
          243072.78549924737,
          238512.5309468822,
          239252.8618216214,
          245990.74887925605,
          242215.77183716864,
          249668.1350922573,
          249044.49741257128,
          250314.26162856817,
          253590.25044517624,
          253521.10508073008
         ]
        }
       ],
       "layout": {
        "autosize": true,
        "showlegend": true,
        "template": {
         "data": {
          "bar": [
           {
            "error_x": {
             "color": "#2a3f5f"
            },
            "error_y": {
             "color": "#2a3f5f"
            },
            "marker": {
             "line": {
              "color": "#E5ECF6",
              "width": 0.5
             },
             "pattern": {
              "fillmode": "overlay",
              "size": 10,
              "solidity": 0.2
             }
            },
            "type": "bar"
           }
          ],
          "barpolar": [
           {
            "marker": {
             "line": {
              "color": "#E5ECF6",
              "width": 0.5
             },
             "pattern": {
              "fillmode": "overlay",
              "size": 10,
              "solidity": 0.2
             }
            },
            "type": "barpolar"
           }
          ],
          "carpet": [
           {
            "aaxis": {
             "endlinecolor": "#2a3f5f",
             "gridcolor": "white",
             "linecolor": "white",
             "minorgridcolor": "white",
             "startlinecolor": "#2a3f5f"
            },
            "baxis": {
             "endlinecolor": "#2a3f5f",
             "gridcolor": "white",
             "linecolor": "white",
             "minorgridcolor": "white",
             "startlinecolor": "#2a3f5f"
            },
            "type": "carpet"
           }
          ],
          "choropleth": [
           {
            "colorbar": {
             "outlinewidth": 0,
             "ticks": ""
            },
            "type": "choropleth"
           }
          ],
          "contour": [
           {
            "colorbar": {
             "outlinewidth": 0,
             "ticks": ""
            },
            "colorscale": [
             [
              0,
              "#0d0887"
             ],
             [
              0.1111111111111111,
              "#46039f"
             ],
             [
              0.2222222222222222,
              "#7201a8"
             ],
             [
              0.3333333333333333,
              "#9c179e"
             ],
             [
              0.4444444444444444,
              "#bd3786"
             ],
             [
              0.5555555555555556,
              "#d8576b"
             ],
             [
              0.6666666666666666,
              "#ed7953"
             ],
             [
              0.7777777777777778,
              "#fb9f3a"
             ],
             [
              0.8888888888888888,
              "#fdca26"
             ],
             [
              1,
              "#f0f921"
             ]
            ],
            "type": "contour"
           }
          ],
          "contourcarpet": [
           {
            "colorbar": {
             "outlinewidth": 0,
             "ticks": ""
            },
            "type": "contourcarpet"
           }
          ],
          "heatmap": [
           {
            "colorbar": {
             "outlinewidth": 0,
             "ticks": ""
            },
            "colorscale": [
             [
              0,
              "#0d0887"
             ],
             [
              0.1111111111111111,
              "#46039f"
             ],
             [
              0.2222222222222222,
              "#7201a8"
             ],
             [
              0.3333333333333333,
              "#9c179e"
             ],
             [
              0.4444444444444444,
              "#bd3786"
             ],
             [
              0.5555555555555556,
              "#d8576b"
             ],
             [
              0.6666666666666666,
              "#ed7953"
             ],
             [
              0.7777777777777778,
              "#fb9f3a"
             ],
             [
              0.8888888888888888,
              "#fdca26"
             ],
             [
              1,
              "#f0f921"
             ]
            ],
            "type": "heatmap"
           }
          ],
          "heatmapgl": [
           {
            "colorbar": {
             "outlinewidth": 0,
             "ticks": ""
            },
            "colorscale": [
             [
              0,
              "#0d0887"
             ],
             [
              0.1111111111111111,
              "#46039f"
             ],
             [
              0.2222222222222222,
              "#7201a8"
             ],
             [
              0.3333333333333333,
              "#9c179e"
             ],
             [
              0.4444444444444444,
              "#bd3786"
             ],
             [
              0.5555555555555556,
              "#d8576b"
             ],
             [
              0.6666666666666666,
              "#ed7953"
             ],
             [
              0.7777777777777778,
              "#fb9f3a"
             ],
             [
              0.8888888888888888,
              "#fdca26"
             ],
             [
              1,
              "#f0f921"
             ]
            ],
            "type": "heatmapgl"
           }
          ],
          "histogram": [
           {
            "marker": {
             "pattern": {
              "fillmode": "overlay",
              "size": 10,
              "solidity": 0.2
             }
            },
            "type": "histogram"
           }
          ],
          "histogram2d": [
           {
            "colorbar": {
             "outlinewidth": 0,
             "ticks": ""
            },
            "colorscale": [
             [
              0,
              "#0d0887"
             ],
             [
              0.1111111111111111,
              "#46039f"
             ],
             [
              0.2222222222222222,
              "#7201a8"
             ],
             [
              0.3333333333333333,
              "#9c179e"
             ],
             [
              0.4444444444444444,
              "#bd3786"
             ],
             [
              0.5555555555555556,
              "#d8576b"
             ],
             [
              0.6666666666666666,
              "#ed7953"
             ],
             [
              0.7777777777777778,
              "#fb9f3a"
             ],
             [
              0.8888888888888888,
              "#fdca26"
             ],
             [
              1,
              "#f0f921"
             ]
            ],
            "type": "histogram2d"
           }
          ],
          "histogram2dcontour": [
           {
            "colorbar": {
             "outlinewidth": 0,
             "ticks": ""
            },
            "colorscale": [
             [
              0,
              "#0d0887"
             ],
             [
              0.1111111111111111,
              "#46039f"
             ],
             [
              0.2222222222222222,
              "#7201a8"
             ],
             [
              0.3333333333333333,
              "#9c179e"
             ],
             [
              0.4444444444444444,
              "#bd3786"
             ],
             [
              0.5555555555555556,
              "#d8576b"
             ],
             [
              0.6666666666666666,
              "#ed7953"
             ],
             [
              0.7777777777777778,
              "#fb9f3a"
             ],
             [
              0.8888888888888888,
              "#fdca26"
             ],
             [
              1,
              "#f0f921"
             ]
            ],
            "type": "histogram2dcontour"
           }
          ],
          "mesh3d": [
           {
            "colorbar": {
             "outlinewidth": 0,
             "ticks": ""
            },
            "type": "mesh3d"
           }
          ],
          "parcoords": [
           {
            "line": {
             "colorbar": {
              "outlinewidth": 0,
              "ticks": ""
             }
            },
            "type": "parcoords"
           }
          ],
          "pie": [
           {
            "automargin": true,
            "type": "pie"
           }
          ],
          "scatter": [
           {
            "fillpattern": {
             "fillmode": "overlay",
             "size": 10,
             "solidity": 0.2
            },
            "type": "scatter"
           }
          ],
          "scatter3d": [
           {
            "line": {
             "colorbar": {
              "outlinewidth": 0,
              "ticks": ""
             }
            },
            "marker": {
             "colorbar": {
              "outlinewidth": 0,
              "ticks": ""
             }
            },
            "type": "scatter3d"
           }
          ],
          "scattercarpet": [
           {
            "marker": {
             "colorbar": {
              "outlinewidth": 0,
              "ticks": ""
             }
            },
            "type": "scattercarpet"
           }
          ],
          "scattergeo": [
           {
            "marker": {
             "colorbar": {
              "outlinewidth": 0,
              "ticks": ""
             }
            },
            "type": "scattergeo"
           }
          ],
          "scattergl": [
           {
            "marker": {
             "colorbar": {
              "outlinewidth": 0,
              "ticks": ""
             }
            },
            "type": "scattergl"
           }
          ],
          "scattermapbox": [
           {
            "marker": {
             "colorbar": {
              "outlinewidth": 0,
              "ticks": ""
             }
            },
            "type": "scattermapbox"
           }
          ],
          "scatterpolar": [
           {
            "marker": {
             "colorbar": {
              "outlinewidth": 0,
              "ticks": ""
             }
            },
            "type": "scatterpolar"
           }
          ],
          "scatterpolargl": [
           {
            "marker": {
             "colorbar": {
              "outlinewidth": 0,
              "ticks": ""
             }
            },
            "type": "scatterpolargl"
           }
          ],
          "scatterternary": [
           {
            "marker": {
             "colorbar": {
              "outlinewidth": 0,
              "ticks": ""
             }
            },
            "type": "scatterternary"
           }
          ],
          "surface": [
           {
            "colorbar": {
             "outlinewidth": 0,
             "ticks": ""
            },
            "colorscale": [
             [
              0,
              "#0d0887"
             ],
             [
              0.1111111111111111,
              "#46039f"
             ],
             [
              0.2222222222222222,
              "#7201a8"
             ],
             [
              0.3333333333333333,
              "#9c179e"
             ],
             [
              0.4444444444444444,
              "#bd3786"
             ],
             [
              0.5555555555555556,
              "#d8576b"
             ],
             [
              0.6666666666666666,
              "#ed7953"
             ],
             [
              0.7777777777777778,
              "#fb9f3a"
             ],
             [
              0.8888888888888888,
              "#fdca26"
             ],
             [
              1,
              "#f0f921"
             ]
            ],
            "type": "surface"
           }
          ],
          "table": [
           {
            "cells": {
             "fill": {
              "color": "#EBF0F8"
             },
             "line": {
              "color": "white"
             }
            },
            "header": {
             "fill": {
              "color": "#C8D4E3"
             },
             "line": {
              "color": "white"
             }
            },
            "type": "table"
           }
          ]
         },
         "layout": {
          "annotationdefaults": {
           "arrowcolor": "#2a3f5f",
           "arrowhead": 0,
           "arrowwidth": 1
          },
          "autotypenumbers": "strict",
          "coloraxis": {
           "colorbar": {
            "outlinewidth": 0,
            "ticks": ""
           }
          },
          "colorscale": {
           "diverging": [
            [
             0,
             "#8e0152"
            ],
            [
             0.1,
             "#c51b7d"
            ],
            [
             0.2,
             "#de77ae"
            ],
            [
             0.3,
             "#f1b6da"
            ],
            [
             0.4,
             "#fde0ef"
            ],
            [
             0.5,
             "#f7f7f7"
            ],
            [
             0.6,
             "#e6f5d0"
            ],
            [
             0.7,
             "#b8e186"
            ],
            [
             0.8,
             "#7fbc41"
            ],
            [
             0.9,
             "#4d9221"
            ],
            [
             1,
             "#276419"
            ]
           ],
           "sequential": [
            [
             0,
             "#0d0887"
            ],
            [
             0.1111111111111111,
             "#46039f"
            ],
            [
             0.2222222222222222,
             "#7201a8"
            ],
            [
             0.3333333333333333,
             "#9c179e"
            ],
            [
             0.4444444444444444,
             "#bd3786"
            ],
            [
             0.5555555555555556,
             "#d8576b"
            ],
            [
             0.6666666666666666,
             "#ed7953"
            ],
            [
             0.7777777777777778,
             "#fb9f3a"
            ],
            [
             0.8888888888888888,
             "#fdca26"
            ],
            [
             1,
             "#f0f921"
            ]
           ],
           "sequentialminus": [
            [
             0,
             "#0d0887"
            ],
            [
             0.1111111111111111,
             "#46039f"
            ],
            [
             0.2222222222222222,
             "#7201a8"
            ],
            [
             0.3333333333333333,
             "#9c179e"
            ],
            [
             0.4444444444444444,
             "#bd3786"
            ],
            [
             0.5555555555555556,
             "#d8576b"
            ],
            [
             0.6666666666666666,
             "#ed7953"
            ],
            [
             0.7777777777777778,
             "#fb9f3a"
            ],
            [
             0.8888888888888888,
             "#fdca26"
            ],
            [
             1,
             "#f0f921"
            ]
           ]
          },
          "colorway": [
           "#636efa",
           "#EF553B",
           "#00cc96",
           "#ab63fa",
           "#FFA15A",
           "#19d3f3",
           "#FF6692",
           "#B6E880",
           "#FF97FF",
           "#FECB52"
          ],
          "font": {
           "color": "#2a3f5f"
          },
          "geo": {
           "bgcolor": "white",
           "lakecolor": "white",
           "landcolor": "#E5ECF6",
           "showlakes": true,
           "showland": true,
           "subunitcolor": "white"
          },
          "hoverlabel": {
           "align": "left"
          },
          "hovermode": "closest",
          "mapbox": {
           "style": "light"
          },
          "paper_bgcolor": "white",
          "plot_bgcolor": "#E5ECF6",
          "polar": {
           "angularaxis": {
            "gridcolor": "white",
            "linecolor": "white",
            "ticks": ""
           },
           "bgcolor": "#E5ECF6",
           "radialaxis": {
            "gridcolor": "white",
            "linecolor": "white",
            "ticks": ""
           }
          },
          "scene": {
           "xaxis": {
            "backgroundcolor": "#E5ECF6",
            "gridcolor": "white",
            "gridwidth": 2,
            "linecolor": "white",
            "showbackground": true,
            "ticks": "",
            "zerolinecolor": "white"
           },
           "yaxis": {
            "backgroundcolor": "#E5ECF6",
            "gridcolor": "white",
            "gridwidth": 2,
            "linecolor": "white",
            "showbackground": true,
            "ticks": "",
            "zerolinecolor": "white"
           },
           "zaxis": {
            "backgroundcolor": "#E5ECF6",
            "gridcolor": "white",
            "gridwidth": 2,
            "linecolor": "white",
            "showbackground": true,
            "ticks": "",
            "zerolinecolor": "white"
           }
          },
          "shapedefaults": {
           "line": {
            "color": "#2a3f5f"
           }
          },
          "ternary": {
           "aaxis": {
            "gridcolor": "white",
            "linecolor": "white",
            "ticks": ""
           },
           "baxis": {
            "gridcolor": "white",
            "linecolor": "white",
            "ticks": ""
           },
           "bgcolor": "#E5ECF6",
           "caxis": {
            "gridcolor": "white",
            "linecolor": "white",
            "ticks": ""
           }
          },
          "title": {
           "x": 0.05
          },
          "xaxis": {
           "automargin": true,
           "gridcolor": "white",
           "linecolor": "white",
           "ticks": "",
           "title": {
            "standoff": 15
           },
           "zerolinecolor": "white",
           "zerolinewidth": 2
          },
          "yaxis": {
           "automargin": true,
           "gridcolor": "white",
           "linecolor": "white",
           "ticks": "",
           "title": {
            "standoff": 15
           },
           "zerolinecolor": "white",
           "zerolinewidth": 2
          }
         }
        },
        "title": {
         "text": "Development of features"
        },
        "updatemenus": [
         {
          "buttons": [
           {
            "args": [
             {
              "y": [
               [
                243072.78549924737,
                238512.5309468822,
                239252.8618216214,
                245990.74887925605,
                242215.77183716864,
                249668.1350922573,
                249044.49741257128,
                250314.26162856817,
                253590.25044517624,
                253521.10508073008
               ]
              ]
             },
             {
              "yaxis": {
               "title": "Duration (ms)"
              }
             }
            ],
            "label": "Duration (ms)",
            "method": "update"
           },
           {
            "args": [
             {
              "y": [
               [
                7.937137122786897,
                8.046343341031562,
                8.037993142316635,
                8.095216924159905,
                8.452724716211119,
                8.25111226073461,
                8.073370908731336,
                8.014329580348004,
                7.558946212952799,
                7.448753948753949
               ]
              ]
             },
             {
              "yaxis": {
               "title": "Popularity"
              }
             }
            ],
            "label": "Popularity",
            "method": "update"
           },
           {
            "args": [
             {
              "y": [
               [
                0.5198272883664253,
                0.5222043071593533,
                0.5290093524612778,
                0.5177133563039531,
                0.5196577111697932,
                0.5134288463528195,
                0.5020942908467648,
                0.5000455561241897,
                0.5008341651420904,
                0.5022213144963145
               ]
              ]
             },
             {
              "yaxis": {
               "title": "Danceability"
              }
             }
            ],
            "label": "Danceability",
            "method": "update"
           },
           {
            "args": [
             {
              "y": [
               [
                0.5372066936742886,
                0.5401982609314857,
                0.5421411521302172,
                0.5262183641584232,
                0.5406671404712096,
                0.5341680055526815,
                0.532774209301559,
                0.5284714877544637,
                0.5164417870301257,
                0.5049547201561951
               ]
              ]
             },
             {
              "yaxis": {
               "title": "Energy"
              }
             }
            ],
            "label": "Energy",
            "method": "update"
           },
           {
            "args": [
             {
              "y": [
               [
                5.142606264783886,
                5.188799076212471,
                5.22772238205967,
                5.207550665036494,
                5.245104427449501,
                5.19920675978617,
                5.220508256699298,
                5.236551802570227,
                5.210537870472009,
                5.244274306774307
               ]
              ]
             },
             {
              "yaxis": {
               "title": "Key"
              }
             }
            ],
            "label": "Key",
            "method": "update"
           },
           {
            "args": [
             {
              "y": [
               [
                -11.294104831194897,
                -11.492553387220939,
                -11.502857880424072,
                -12.012109925530732,
                -11.831597036935422,
                -12.069974961200208,
                -12.3477458057286,
                -12.602400233139997,
                -12.949677863154044,
                -13.168945792383292
               ]
              ]
             },
             {
              "yaxis": {
               "title": "Loudness"
              }
             }
            ],
            "label": "Loudness",
            "method": "update"
           },
           {
            "args": [
             {
              "y": [
               [
                0.700666618880367,
                0.6959969207082372,
                0.6901430654632877,
                0.6803749397947464,
                0.6668610034637676,
                0.6767028798068633,
                0.6778074425656745,
                0.6858865006254976,
                0.6819612147822905,
                0.6885530010530011
               ]
              ]
             },
             {
              "yaxis": {
               "title": "Mode"
              }
             }
            ],
            "label": "Mode",
            "method": "update"
           },
           {
            "args": [
             {
              "y": [
               [
                0.06598848469643753,
                0.06931631639722864,
                0.08213239270090254,
                0.06676096847097181,
                0.06519139545251895,
                0.06202747715123297,
                0.06418909654240416,
                0.0640861765040373,
                0.06487886327600927,
                0.06887487714987715
               ]
              ]
             },
             {
              "yaxis": {
               "title": "Speechiness"
              }
             }
            ],
            "label": "Speechiness",
            "method": "update"
           },
           {
            "args": [
             {
              "y": [
               [
                0.44631685889541967,
                0.43557215395304083,
                0.4325206455834943,
                0.438736663231077,
                0.42739728102609825,
                0.4402632174464563,
                0.4392319503576255,
                0.44279590927811896,
                0.45161291168386386,
                0.4616192831184187
               ]
              ]
             },
             {
              "yaxis": {
               "title": "Acousticness"
              }
             }
            ],
            "label": "Acousticness",
            "method": "update"
           },
           {
            "args": [
             {
              "y": [
               [
                0.12830723922514514,
                0.13856541589299462,
                0.13228490520513933,
                0.15499397534993145,
                0.149328304755993,
                0.15441288914226592,
                0.16550688092059726,
                0.16878181335067666,
                0.19373625404878644,
                0.17804750882634257
               ]
              ]
             },
             {
              "yaxis": {
               "title": "Instrumentalness"
              }
             }
            ],
            "label": "Instrumentalness",
            "method": "update"
           },
           {
            "args": [
             {
              "y": [
               [
                0.22641985879148446,
                0.22746184372594302,
                0.2257343711819651,
                0.22189901670927345,
                0.2253745190164272,
                0.22122349232626312,
                0.21801122317808763,
                0.21659462413283295,
                0.2192355070130504,
                0.21688232055107054
               ]
              ]
             },
             {
              "yaxis": {
               "title": "Liveness"
              }
             }
            ],
            "label": "Liveness",
            "method": "update"
           },
           {
            "args": [
             {
              "y": [
               [
                0.5791841337538527,
                0.575045492686682,
                0.5721177984471683,
                0.5566069578748472,
                0.54996601392366,
                0.5473764290394896,
                0.5304019479877385,
                0.5217450983737063,
                0.5279301085498231,
                0.5204301377676378
               ]
              ]
             },
             {
              "yaxis": {
               "title": "Valence"
              }
             }
            ],
            "label": "Valence",
            "method": "update"
           },
           {
            "args": [
             {
              "y": [
               [
                120.50244810407857,
                120.95986809083911,
                120.64381165017933,
                119.86436893779408,
                120.26965677835317,
                119.40877578892912,
                119.20551732094005,
                119.04417019219834,
                118.17816299548727,
                117.9696327878203
               ]
              ]
             },
             {
              "yaxis": {
               "title": "Tempo"
              }
             }
            ],
            "label": "Tempo",
            "method": "update"
           },
           {
            "args": [
             {
              "y": [
               [
                3.859723317324923,
                3.8613163972286375,
                3.863476924289599,
                3.8616575895668928,
                3.874035460749683,
                3.8668735988963614,
                3.8622565015326806,
                3.858381667235301,
                3.851664837175265,
                3.8469419094419095
               ]
              ]
             },
             {
              "yaxis": {
               "title": "Time signature"
              }
             }
            ],
            "label": "Time Signature",
            "method": "update"
           },
           {
            "args": [
             {
              "y": [
               [
                27902,
                25980,
                25373,
                26991,
                29159,
                28995,
                30339,
                35172,
                40995,
                45584
               ]
              ]
             },
             {
              "yaxis": {
               "title": "Count"
              }
             }
            ],
            "label": "Count",
            "method": "update"
           },
           {
            "args": [
             {
              "y": [
               [
                4.051213091654123,
                3.9752088491147033,
                3.9875476970270234,
                4.099845814654268,
                4.036929530619477,
                4.161135584870955,
                4.150741623542855,
                4.1719043604761366,
                4.226504174086271,
                4.225351751345501
               ]
              ]
             },
             {
              "yaxis": {
               "title": "Duration (min)"
              }
             }
            ],
            "label": "Duration (min)",
            "method": "update"
           }
          ],
          "direction": "down",
          "showactive": true
         }
        ],
        "xaxis": {
         "autorange": true,
         "range": [
          -0.5473664266767715,
          9.54736642667677
         ],
         "title": {
          "text": "year"
         },
         "type": "category"
        },
        "yaxis": {
         "autorange": true,
         "range": [
          237560.75846265748,
          254542.02292940096
         ],
         "title": {
          "text": "Duration (ms)"
         },
         "type": "linear"
        }
       }
      },
      "text/html": [
       "<div>                            <div id=\"74ba7b6b-77bf-4153-bdbb-2371640dde60\" class=\"plotly-graph-div\" style=\"height:800px; width:100%;\"></div>            <script type=\"text/javascript\">                require([\"plotly\"], function(Plotly) {                    window.PLOTLYENV=window.PLOTLYENV || {};                                    if (document.getElementById(\"74ba7b6b-77bf-4153-bdbb-2371640dde60\")) {                    Plotly.newPlot(                        \"74ba7b6b-77bf-4153-bdbb-2371640dde60\",                        [{\"name\":\"Duration (ms)\",\"x\":[\"1980\",\"1981\",\"1982\",\"1983\",\"1984\",\"1985\",\"1986\",\"1987\",\"1988\",\"1989\"],\"y\":[243072.78549924737,238512.5309468822,239252.8618216214,245990.74887925605,242215.77183716864,249668.1350922573,249044.49741257128,250314.26162856817,253590.25044517624,253521.10508073008],\"type\":\"scatter\"}],                        {\"template\":{\"data\":{\"histogram2dcontour\":[{\"type\":\"histogram2dcontour\",\"colorbar\":{\"outlinewidth\":0,\"ticks\":\"\"},\"colorscale\":[[0.0,\"#0d0887\"],[0.1111111111111111,\"#46039f\"],[0.2222222222222222,\"#7201a8\"],[0.3333333333333333,\"#9c179e\"],[0.4444444444444444,\"#bd3786\"],[0.5555555555555556,\"#d8576b\"],[0.6666666666666666,\"#ed7953\"],[0.7777777777777778,\"#fb9f3a\"],[0.8888888888888888,\"#fdca26\"],[1.0,\"#f0f921\"]]}],\"choropleth\":[{\"type\":\"choropleth\",\"colorbar\":{\"outlinewidth\":0,\"ticks\":\"\"}}],\"histogram2d\":[{\"type\":\"histogram2d\",\"colorbar\":{\"outlinewidth\":0,\"ticks\":\"\"},\"colorscale\":[[0.0,\"#0d0887\"],[0.1111111111111111,\"#46039f\"],[0.2222222222222222,\"#7201a8\"],[0.3333333333333333,\"#9c179e\"],[0.4444444444444444,\"#bd3786\"],[0.5555555555555556,\"#d8576b\"],[0.6666666666666666,\"#ed7953\"],[0.7777777777777778,\"#fb9f3a\"],[0.8888888888888888,\"#fdca26\"],[1.0,\"#f0f921\"]]}],\"heatmap\":[{\"type\":\"heatmap\",\"colorbar\":{\"outlinewidth\":0,\"ticks\":\"\"},\"colorscale\":[[0.0,\"#0d0887\"],[0.1111111111111111,\"#46039f\"],[0.2222222222222222,\"#7201a8\"],[0.3333333333333333,\"#9c179e\"],[0.4444444444444444,\"#bd3786\"],[0.5555555555555556,\"#d8576b\"],[0.6666666666666666,\"#ed7953\"],[0.7777777777777778,\"#fb9f3a\"],[0.8888888888888888,\"#fdca26\"],[1.0,\"#f0f921\"]]}],\"heatmapgl\":[{\"type\":\"heatmapgl\",\"colorbar\":{\"outlinewidth\":0,\"ticks\":\"\"},\"colorscale\":[[0.0,\"#0d0887\"],[0.1111111111111111,\"#46039f\"],[0.2222222222222222,\"#7201a8\"],[0.3333333333333333,\"#9c179e\"],[0.4444444444444444,\"#bd3786\"],[0.5555555555555556,\"#d8576b\"],[0.6666666666666666,\"#ed7953\"],[0.7777777777777778,\"#fb9f3a\"],[0.8888888888888888,\"#fdca26\"],[1.0,\"#f0f921\"]]}],\"contourcarpet\":[{\"type\":\"contourcarpet\",\"colorbar\":{\"outlinewidth\":0,\"ticks\":\"\"}}],\"contour\":[{\"type\":\"contour\",\"colorbar\":{\"outlinewidth\":0,\"ticks\":\"\"},\"colorscale\":[[0.0,\"#0d0887\"],[0.1111111111111111,\"#46039f\"],[0.2222222222222222,\"#7201a8\"],[0.3333333333333333,\"#9c179e\"],[0.4444444444444444,\"#bd3786\"],[0.5555555555555556,\"#d8576b\"],[0.6666666666666666,\"#ed7953\"],[0.7777777777777778,\"#fb9f3a\"],[0.8888888888888888,\"#fdca26\"],[1.0,\"#f0f921\"]]}],\"surface\":[{\"type\":\"surface\",\"colorbar\":{\"outlinewidth\":0,\"ticks\":\"\"},\"colorscale\":[[0.0,\"#0d0887\"],[0.1111111111111111,\"#46039f\"],[0.2222222222222222,\"#7201a8\"],[0.3333333333333333,\"#9c179e\"],[0.4444444444444444,\"#bd3786\"],[0.5555555555555556,\"#d8576b\"],[0.6666666666666666,\"#ed7953\"],[0.7777777777777778,\"#fb9f3a\"],[0.8888888888888888,\"#fdca26\"],[1.0,\"#f0f921\"]]}],\"mesh3d\":[{\"type\":\"mesh3d\",\"colorbar\":{\"outlinewidth\":0,\"ticks\":\"\"}}],\"scatter\":[{\"fillpattern\":{\"fillmode\":\"overlay\",\"size\":10,\"solidity\":0.2},\"type\":\"scatter\"}],\"parcoords\":[{\"type\":\"parcoords\",\"line\":{\"colorbar\":{\"outlinewidth\":0,\"ticks\":\"\"}}}],\"scatterpolargl\":[{\"type\":\"scatterpolargl\",\"marker\":{\"colorbar\":{\"outlinewidth\":0,\"ticks\":\"\"}}}],\"bar\":[{\"error_x\":{\"color\":\"#2a3f5f\"},\"error_y\":{\"color\":\"#2a3f5f\"},\"marker\":{\"line\":{\"color\":\"#E5ECF6\",\"width\":0.5},\"pattern\":{\"fillmode\":\"overlay\",\"size\":10,\"solidity\":0.2}},\"type\":\"bar\"}],\"scattergeo\":[{\"type\":\"scattergeo\",\"marker\":{\"colorbar\":{\"outlinewidth\":0,\"ticks\":\"\"}}}],\"scatterpolar\":[{\"type\":\"scatterpolar\",\"marker\":{\"colorbar\":{\"outlinewidth\":0,\"ticks\":\"\"}}}],\"histogram\":[{\"marker\":{\"pattern\":{\"fillmode\":\"overlay\",\"size\":10,\"solidity\":0.2}},\"type\":\"histogram\"}],\"scattergl\":[{\"type\":\"scattergl\",\"marker\":{\"colorbar\":{\"outlinewidth\":0,\"ticks\":\"\"}}}],\"scatter3d\":[{\"type\":\"scatter3d\",\"line\":{\"colorbar\":{\"outlinewidth\":0,\"ticks\":\"\"}},\"marker\":{\"colorbar\":{\"outlinewidth\":0,\"ticks\":\"\"}}}],\"scattermapbox\":[{\"type\":\"scattermapbox\",\"marker\":{\"colorbar\":{\"outlinewidth\":0,\"ticks\":\"\"}}}],\"scatterternary\":[{\"type\":\"scatterternary\",\"marker\":{\"colorbar\":{\"outlinewidth\":0,\"ticks\":\"\"}}}],\"scattercarpet\":[{\"type\":\"scattercarpet\",\"marker\":{\"colorbar\":{\"outlinewidth\":0,\"ticks\":\"\"}}}],\"carpet\":[{\"aaxis\":{\"endlinecolor\":\"#2a3f5f\",\"gridcolor\":\"white\",\"linecolor\":\"white\",\"minorgridcolor\":\"white\",\"startlinecolor\":\"#2a3f5f\"},\"baxis\":{\"endlinecolor\":\"#2a3f5f\",\"gridcolor\":\"white\",\"linecolor\":\"white\",\"minorgridcolor\":\"white\",\"startlinecolor\":\"#2a3f5f\"},\"type\":\"carpet\"}],\"table\":[{\"cells\":{\"fill\":{\"color\":\"#EBF0F8\"},\"line\":{\"color\":\"white\"}},\"header\":{\"fill\":{\"color\":\"#C8D4E3\"},\"line\":{\"color\":\"white\"}},\"type\":\"table\"}],\"barpolar\":[{\"marker\":{\"line\":{\"color\":\"#E5ECF6\",\"width\":0.5},\"pattern\":{\"fillmode\":\"overlay\",\"size\":10,\"solidity\":0.2}},\"type\":\"barpolar\"}],\"pie\":[{\"automargin\":true,\"type\":\"pie\"}]},\"layout\":{\"autotypenumbers\":\"strict\",\"colorway\":[\"#636efa\",\"#EF553B\",\"#00cc96\",\"#ab63fa\",\"#FFA15A\",\"#19d3f3\",\"#FF6692\",\"#B6E880\",\"#FF97FF\",\"#FECB52\"],\"font\":{\"color\":\"#2a3f5f\"},\"hovermode\":\"closest\",\"hoverlabel\":{\"align\":\"left\"},\"paper_bgcolor\":\"white\",\"plot_bgcolor\":\"#E5ECF6\",\"polar\":{\"bgcolor\":\"#E5ECF6\",\"angularaxis\":{\"gridcolor\":\"white\",\"linecolor\":\"white\",\"ticks\":\"\"},\"radialaxis\":{\"gridcolor\":\"white\",\"linecolor\":\"white\",\"ticks\":\"\"}},\"ternary\":{\"bgcolor\":\"#E5ECF6\",\"aaxis\":{\"gridcolor\":\"white\",\"linecolor\":\"white\",\"ticks\":\"\"},\"baxis\":{\"gridcolor\":\"white\",\"linecolor\":\"white\",\"ticks\":\"\"},\"caxis\":{\"gridcolor\":\"white\",\"linecolor\":\"white\",\"ticks\":\"\"}},\"coloraxis\":{\"colorbar\":{\"outlinewidth\":0,\"ticks\":\"\"}},\"colorscale\":{\"sequential\":[[0.0,\"#0d0887\"],[0.1111111111111111,\"#46039f\"],[0.2222222222222222,\"#7201a8\"],[0.3333333333333333,\"#9c179e\"],[0.4444444444444444,\"#bd3786\"],[0.5555555555555556,\"#d8576b\"],[0.6666666666666666,\"#ed7953\"],[0.7777777777777778,\"#fb9f3a\"],[0.8888888888888888,\"#fdca26\"],[1.0,\"#f0f921\"]],\"sequentialminus\":[[0.0,\"#0d0887\"],[0.1111111111111111,\"#46039f\"],[0.2222222222222222,\"#7201a8\"],[0.3333333333333333,\"#9c179e\"],[0.4444444444444444,\"#bd3786\"],[0.5555555555555556,\"#d8576b\"],[0.6666666666666666,\"#ed7953\"],[0.7777777777777778,\"#fb9f3a\"],[0.8888888888888888,\"#fdca26\"],[1.0,\"#f0f921\"]],\"diverging\":[[0,\"#8e0152\"],[0.1,\"#c51b7d\"],[0.2,\"#de77ae\"],[0.3,\"#f1b6da\"],[0.4,\"#fde0ef\"],[0.5,\"#f7f7f7\"],[0.6,\"#e6f5d0\"],[0.7,\"#b8e186\"],[0.8,\"#7fbc41\"],[0.9,\"#4d9221\"],[1,\"#276419\"]]},\"xaxis\":{\"gridcolor\":\"white\",\"linecolor\":\"white\",\"ticks\":\"\",\"title\":{\"standoff\":15},\"zerolinecolor\":\"white\",\"automargin\":true,\"zerolinewidth\":2},\"yaxis\":{\"gridcolor\":\"white\",\"linecolor\":\"white\",\"ticks\":\"\",\"title\":{\"standoff\":15},\"zerolinecolor\":\"white\",\"automargin\":true,\"zerolinewidth\":2},\"scene\":{\"xaxis\":{\"backgroundcolor\":\"#E5ECF6\",\"gridcolor\":\"white\",\"linecolor\":\"white\",\"showbackground\":true,\"ticks\":\"\",\"zerolinecolor\":\"white\",\"gridwidth\":2},\"yaxis\":{\"backgroundcolor\":\"#E5ECF6\",\"gridcolor\":\"white\",\"linecolor\":\"white\",\"showbackground\":true,\"ticks\":\"\",\"zerolinecolor\":\"white\",\"gridwidth\":2},\"zaxis\":{\"backgroundcolor\":\"#E5ECF6\",\"gridcolor\":\"white\",\"linecolor\":\"white\",\"showbackground\":true,\"ticks\":\"\",\"zerolinecolor\":\"white\",\"gridwidth\":2}},\"shapedefaults\":{\"line\":{\"color\":\"#2a3f5f\"}},\"annotationdefaults\":{\"arrowcolor\":\"#2a3f5f\",\"arrowhead\":0,\"arrowwidth\":1},\"geo\":{\"bgcolor\":\"white\",\"landcolor\":\"#E5ECF6\",\"subunitcolor\":\"white\",\"showland\":true,\"showlakes\":true,\"lakecolor\":\"white\"},\"title\":{\"x\":0.05},\"mapbox\":{\"style\":\"light\"}}},\"height\":800,\"updatemenus\":[{\"buttons\":[{\"args\":[{\"y\":[[243072.78549924737,238512.5309468822,239252.8618216214,245990.74887925605,242215.77183716864,249668.1350922573,249044.49741257128,250314.26162856817,253590.25044517624,253521.10508073008]]},{\"yaxis\":{\"title\":\"Duration (ms)\"}}],\"label\":\"Duration (ms)\",\"method\":\"update\"},{\"args\":[{\"y\":[[7.937137122786897,8.046343341031562,8.037993142316635,8.095216924159905,8.452724716211119,8.25111226073461,8.073370908731336,8.014329580348004,7.558946212952799,7.448753948753949]]},{\"yaxis\":{\"title\":\"Popularity\"}}],\"label\":\"Popularity\",\"method\":\"update\"},{\"args\":[{\"y\":[[0.5198272883664253,0.5222043071593533,0.5290093524612778,0.5177133563039531,0.5196577111697932,0.5134288463528195,0.5020942908467648,0.5000455561241897,0.5008341651420904,0.5022213144963145]]},{\"yaxis\":{\"title\":\"Danceability\"}}],\"label\":\"Danceability\",\"method\":\"update\"},{\"args\":[{\"y\":[[0.5372066936742886,0.5401982609314857,0.5421411521302172,0.5262183641584232,0.5406671404712096,0.5341680055526815,0.532774209301559,0.5284714877544637,0.5164417870301257,0.5049547201561951]]},{\"yaxis\":{\"title\":\"Energy\"}}],\"label\":\"Energy\",\"method\":\"update\"},{\"args\":[{\"y\":[[5.142606264783886,5.188799076212471,5.22772238205967,5.207550665036494,5.245104427449501,5.19920675978617,5.220508256699298,5.236551802570227,5.210537870472009,5.244274306774307]]},{\"yaxis\":{\"title\":\"Key\"}}],\"label\":\"Key\",\"method\":\"update\"},{\"args\":[{\"y\":[[-11.294104831194897,-11.492553387220939,-11.502857880424072,-12.012109925530732,-11.831597036935422,-12.069974961200208,-12.3477458057286,-12.602400233139997,-12.949677863154044,-13.168945792383292]]},{\"yaxis\":{\"title\":\"Loudness\"}}],\"label\":\"Loudness\",\"method\":\"update\"},{\"args\":[{\"y\":[[0.700666618880367,0.6959969207082372,0.6901430654632877,0.6803749397947464,0.6668610034637676,0.6767028798068633,0.6778074425656745,0.6858865006254976,0.6819612147822905,0.6885530010530011]]},{\"yaxis\":{\"title\":\"Mode\"}}],\"label\":\"Mode\",\"method\":\"update\"},{\"args\":[{\"y\":[[0.06598848469643753,0.06931631639722864,0.08213239270090254,0.06676096847097181,0.06519139545251895,0.06202747715123297,0.06418909654240416,0.0640861765040373,0.06487886327600927,0.06887487714987715]]},{\"yaxis\":{\"title\":\"Speechiness\"}}],\"label\":\"Speechiness\",\"method\":\"update\"},{\"args\":[{\"y\":[[0.44631685889541967,0.43557215395304083,0.4325206455834943,0.438736663231077,0.42739728102609825,0.4402632174464563,0.4392319503576255,0.44279590927811896,0.45161291168386386,0.4616192831184187]]},{\"yaxis\":{\"title\":\"Acousticness\"}}],\"label\":\"Acousticness\",\"method\":\"update\"},{\"args\":[{\"y\":[[0.12830723922514514,0.13856541589299462,0.13228490520513933,0.15499397534993145,0.149328304755993,0.15441288914226592,0.16550688092059726,0.16878181335067666,0.19373625404878644,0.17804750882634257]]},{\"yaxis\":{\"title\":\"Instrumentalness\"}}],\"label\":\"Instrumentalness\",\"method\":\"update\"},{\"args\":[{\"y\":[[0.22641985879148446,0.22746184372594302,0.2257343711819651,0.22189901670927345,0.2253745190164272,0.22122349232626312,0.21801122317808763,0.21659462413283295,0.2192355070130504,0.21688232055107054]]},{\"yaxis\":{\"title\":\"Liveness\"}}],\"label\":\"Liveness\",\"method\":\"update\"},{\"args\":[{\"y\":[[0.5791841337538527,0.575045492686682,0.5721177984471683,0.5566069578748472,0.54996601392366,0.5473764290394896,0.5304019479877385,0.5217450983737063,0.5279301085498231,0.5204301377676378]]},{\"yaxis\":{\"title\":\"Valence\"}}],\"label\":\"Valence\",\"method\":\"update\"},{\"args\":[{\"y\":[[120.50244810407857,120.95986809083911,120.64381165017933,119.86436893779408,120.26965677835317,119.40877578892912,119.20551732094005,119.04417019219834,118.17816299548727,117.9696327878203]]},{\"yaxis\":{\"title\":\"Tempo\"}}],\"label\":\"Tempo\",\"method\":\"update\"},{\"args\":[{\"y\":[[3.859723317324923,3.8613163972286375,3.863476924289599,3.8616575895668928,3.874035460749683,3.8668735988963614,3.8622565015326806,3.858381667235301,3.851664837175265,3.8469419094419095]]},{\"yaxis\":{\"title\":\"Time signature\"}}],\"label\":\"Time Signature\",\"method\":\"update\"},{\"args\":[{\"y\":[[27902,25980,25373,26991,29159,28995,30339,35172,40995,45584]]},{\"yaxis\":{\"title\":\"Count\"}}],\"label\":\"Count\",\"method\":\"update\"},{\"args\":[{\"y\":[[4.051213091654123,3.9752088491147033,3.9875476970270234,4.099845814654268,4.036929530619477,4.161135584870955,4.150741623542855,4.1719043604761366,4.226504174086271,4.225351751345501]]},{\"yaxis\":{\"title\":\"Duration (min)\"}}],\"label\":\"Duration (min)\",\"method\":\"update\"}],\"direction\":\"down\",\"showactive\":true}],\"yaxis\":{\"title\":{\"text\":\"Duration (ms)\"}},\"xaxis\":{\"title\":{\"text\":\"year\"}},\"title\":{\"text\":\"Development of features\"},\"showlegend\":true},                        {\"responsive\": true}                    ).then(function(){\n",
       "                            \n",
       "var gd = document.getElementById('74ba7b6b-77bf-4153-bdbb-2371640dde60');\n",
       "var x = new MutationObserver(function (mutations, observer) {{\n",
       "        var display = window.getComputedStyle(gd).display;\n",
       "        if (!display || display === 'none') {{\n",
       "            console.log([gd, 'removed!']);\n",
       "            Plotly.purge(gd);\n",
       "            observer.disconnect();\n",
       "        }}\n",
       "}});\n",
       "\n",
       "// Listen for the removal of the full notebook cells\n",
       "var notebookContainer = gd.closest('#notebook-container');\n",
       "if (notebookContainer) {{\n",
       "    x.observe(notebookContainer, {childList: true});\n",
       "}}\n",
       "\n",
       "// Listen for the clearing of the current output cell\n",
       "var outputEl = gd.closest('.output');\n",
       "if (outputEl) {{\n",
       "    x.observe(outputEl, {childList: true});\n",
       "}}\n",
       "\n",
       "                        })                };                });            </script>        </div>"
      ]
     },
     "metadata": {},
     "output_type": "display_data"
    }
   ],
   "source": [
    "# Create the initial scatter plot\n",
    "fig = go.Figure()\n",
    "\n",
    "fig.add_trace(go.Scatter(\n",
    "    x=songs_per_year['year'],\n",
    "    y=songs_per_year['duration_ms'],\n",
    "    #mode='markers',\n",
    "    name='Duration (ms)'\n",
    "))\n",
    "\n",
    "fig.add_trace(go.Scatter(\n",
    "    x=songs_per_year_month['year_month'],\n",
    "    y=songs_per_year['duration_ms'],\n",
    "    mode='markers',\n",
    "    name='Duration (ms) - markers'\n",
    "))\n",
    "\n",
    "# Define the dropdown menu options\n",
    "dropdown_options = [\n",
    "    {'label': 'Duration (ms)', 'value': 'duration_ms'},\n",
    "    {'label': 'Popularity', 'value': 'popularity'},\n",
    "    {'label': 'Danceability', 'value': 'danceability'},\n",
    "    {'label': 'Energy', 'value': 'energy'},\n",
    "    {'label': 'Key', 'value': 'key'},\n",
    "    {'label': 'Loudness', 'value': 'loudness'},\n",
    "    {'label': 'Mode', 'value': 'mode'},\n",
    "    {'label': 'Speechiness', 'value': 'speechiness'},\n",
    "    {'label': 'Acousticness', 'value': 'acousticness'},\n",
    "    {'label': 'Instrumentalness', 'value': 'instrumentalness'},\n",
    "    {'label': 'Liveness', 'value': 'liveness'},\n",
    "    {'label': 'Valence', 'value': 'valence'},\n",
    "    {'label': 'Tempo', 'value': 'tempo'},\n",
    "    {'label': 'Time Signature', 'value': 'time_signature'},\n",
    "    {'label': 'Count', 'value': 'count'},\n",
    "    {'label': 'Duration (min)', 'value': 'duration_min'}\n",
    "]\n",
    "\n",
    "# Create the dropdown menu\n",
    "dropdown_menu = go.layout.Updatemenu(\n",
    "    buttons=list([\n",
    "        dict(\n",
    "            args=[\n",
    "                {'y': [songs_per_year[option['value']]]}, \n",
    "                {'yaxis': {'title': option['label'].capitalize()}}\n",
    "            ],\n",
    "            label=option['label'],\n",
    "            method='update'\n",
    "        )\n",
    "        for option in dropdown_options\n",
    "    ]),\n",
    "    direction='down',\n",
    "    showactive=True,\n",
    ")\n",
    "\n",
    "# Update the layout with dropdown menu and initial y-axis title\n",
    "fig.update_layout(\n",
    "    height = 800,\n",
    "    updatemenus=[dropdown_menu],\n",
    "    yaxis_title='Duration (ms)',\n",
    "    xaxis_title='year',\n",
    "    title='Development of features',\n",
    "    showlegend=True\n",
    ")\n",
    "\n",
    "fig.show()"
   ]
  },
  {
   "cell_type": "code",
   "execution_count": 110,
   "metadata": {},
   "outputs": [],
   "source": [
    "songs_per_year_genres = songs_per_year.merge(by_isrc_year, on='year', how='right')\n",
    "\n",
    "#Create the initial scatter plot for genre 'pop'\n",
    "fig = go.Figure()\n",
    "\n",
    "fig.add_trace(go.Scatter(\n",
    "    x=songs_per_year_genres['year'],\n",
    "    y=songs_per_year_genres['duration_ms'],\n",
    "    #mode='line',\n",
    "    name='pop',\n",
    "    visible=True\n",
    "))\n",
    "\n",
    "# Add separate scatter plots for each genre\n",
    "genres = ['rock', 'classical', 'german', 'jazz', 'folk', 'punk', 'metal', 'country', 'french']\n",
    "\n",
    "for genre in genres:\n",
    "    fig.add_trace(go.Scatter(\n",
    "        x=songs_per_year_genres['year'],\n",
    "        y=songs_per_year_genres['duration_ms'],\n",
    "        #mode='line',\n",
    "        name=genre,\n",
    "        visible=False\n",
    "    ))\n",
    "\n",
    "# Create the dropdown menu for y-axis selection\n",
    "dropdown_options = ['duration_ms', 'popularity', 'danceability', 'energy', 'key', 'loudness',\n",
    "                    'mode', 'speechiness', 'acousticness', 'instrumentalness', 'liveness',\n",
    "                    'valence', 'tempo', 'duration_min']\n",
    "\n",
    "dropdown_menu = go.layout.Updatemenu(\n",
    "    buttons=list([\n",
    "        dict(\n",
    "            args=[{'y': [songs_per_year_genres[option]]}],\n",
    "            #label=option.capitalize(),\n",
    "            method='update'\n",
    "        )\n",
    "        for option in dropdown_options\n",
    "    ]),\n",
    "    direction='down',\n",
    "    showactive=True,\n",
    ")\n",
    "\n",
    "# Create the legend to toggle genre visibility\n",
    "legend = dict(\n",
    "    title='Genre',\n",
    "    orientation='h',\n",
    "    y=1.1,\n",
    "    x=0.5,\n",
    "    xanchor='center',\n",
    "    bgcolor='rgba(255, 255, 255, 0.5)'\n",
    ")\n",
    "\n",
    "# Update the layout with dropdown menu, legend, and initial y-axis title\n",
    "fig.update_layout(\n",
    "    height = 800,\n",
    "    updatemenus=[dropdown_menu],\n",
    "    legend=legend,\n",
    "    yaxis_title='Duration (ms)',\n",
    "    title='Song Duration by Genre',\n",
    "    xaxis_title='Year',\n",
    "    showlegend=True\n",
    ")\n",
    "\n",
    "# Add custom buttons to toggle genre visibility in the legend\n",
    "for i, genre in enumerate(genres):\n",
    "    button = dict(\n",
    "        label=genre.capitalize(),\n",
    "        method='update',\n",
    "        args=[{'visible': [True if j == i+1 else False for j in range(len(genres)+1)]}]\n",
    "    )\n",
    "    fig.update_traces(showlegend=True if genre == 'pop' else False, selector=dict(name=genre))\n",
    "    fig.update_layout({'updatemenus': [{'buttons': [button]}]})\n",
    "\n",
    "#fig.show()"
   ]
  },
  {
   "attachments": {},
   "cell_type": "markdown",
   "metadata": {},
   "source": [
    "## Development of genres of the years"
   ]
  },
  {
   "cell_type": "code",
   "execution_count": 111,
   "metadata": {},
   "outputs": [],
   "source": [
    "features = sorted_genres[:10]"
   ]
  },
  {
   "cell_type": "code",
   "execution_count": 112,
   "metadata": {},
   "outputs": [],
   "source": [
    "dev_genres_df = by_isrc_year.reset_index()"
   ]
  },
  {
   "cell_type": "code",
   "execution_count": 113,
   "metadata": {},
   "outputs": [
    {
     "data": {
      "text/html": [
       "<div>\n",
       "<style scoped>\n",
       "    .dataframe tbody tr th:only-of-type {\n",
       "        vertical-align: middle;\n",
       "    }\n",
       "\n",
       "    .dataframe tbody tr th {\n",
       "        vertical-align: top;\n",
       "    }\n",
       "\n",
       "    .dataframe thead th {\n",
       "        text-align: right;\n",
       "    }\n",
       "</style>\n",
       "<table border=\"1\" class=\"dataframe\">\n",
       "  <thead>\n",
       "    <tr style=\"text-align: right;\">\n",
       "      <th></th>\n",
       "      <th>year</th>\n",
       "      <th>pop</th>\n",
       "      <th>rock</th>\n",
       "      <th>german</th>\n",
       "      <th>punk</th>\n",
       "      <th>metal</th>\n",
       "      <th>country</th>\n",
       "      <th>blues</th>\n",
       "      <th>hard-rock</th>\n",
       "      <th>soul</th>\n",
       "      <th>british</th>\n",
       "    </tr>\n",
       "  </thead>\n",
       "  <tbody>\n",
       "    <tr>\n",
       "      <th>0</th>\n",
       "      <td>1980</td>\n",
       "      <td>11523.0</td>\n",
       "      <td>8459.0</td>\n",
       "      <td>2248.0</td>\n",
       "      <td>2165.0</td>\n",
       "      <td>737.0</td>\n",
       "      <td>1804.0</td>\n",
       "      <td>1231.0</td>\n",
       "      <td>974.0</td>\n",
       "      <td>1391.0</td>\n",
       "      <td>917.0</td>\n",
       "    </tr>\n",
       "    <tr>\n",
       "      <th>1</th>\n",
       "      <td>1981</td>\n",
       "      <td>10277.0</td>\n",
       "      <td>8302.0</td>\n",
       "      <td>2471.0</td>\n",
       "      <td>2455.0</td>\n",
       "      <td>823.0</td>\n",
       "      <td>1711.0</td>\n",
       "      <td>1068.0</td>\n",
       "      <td>910.0</td>\n",
       "      <td>1359.0</td>\n",
       "      <td>690.0</td>\n",
       "    </tr>\n",
       "    <tr>\n",
       "      <th>2</th>\n",
       "      <td>1982</td>\n",
       "      <td>10359.0</td>\n",
       "      <td>7874.0</td>\n",
       "      <td>2185.0</td>\n",
       "      <td>2417.0</td>\n",
       "      <td>803.0</td>\n",
       "      <td>44.0</td>\n",
       "      <td>994.0</td>\n",
       "      <td>1034.0</td>\n",
       "      <td>1367.0</td>\n",
       "      <td>831.0</td>\n",
       "    </tr>\n",
       "    <tr>\n",
       "      <th>3</th>\n",
       "      <td>1983</td>\n",
       "      <td>10033.0</td>\n",
       "      <td>8292.0</td>\n",
       "      <td>3433.0</td>\n",
       "      <td>2366.0</td>\n",
       "      <td>1114.0</td>\n",
       "      <td>1483.0</td>\n",
       "      <td>971.0</td>\n",
       "      <td>1150.0</td>\n",
       "      <td>1034.0</td>\n",
       "      <td>630.0</td>\n",
       "    </tr>\n",
       "    <tr>\n",
       "      <th>4</th>\n",
       "      <td>1984</td>\n",
       "      <td>12202.0</td>\n",
       "      <td>8837.0</td>\n",
       "      <td>3047.0</td>\n",
       "      <td>2419.0</td>\n",
       "      <td>1532.0</td>\n",
       "      <td>1265.0</td>\n",
       "      <td>914.0</td>\n",
       "      <td>1328.0</td>\n",
       "      <td>835.0</td>\n",
       "      <td>825.0</td>\n",
       "    </tr>\n",
       "    <tr>\n",
       "      <th>5</th>\n",
       "      <td>1985</td>\n",
       "      <td>11372.0</td>\n",
       "      <td>8721.0</td>\n",
       "      <td>3443.0</td>\n",
       "      <td>2251.0</td>\n",
       "      <td>1612.0</td>\n",
       "      <td>1640.0</td>\n",
       "      <td>753.0</td>\n",
       "      <td>1135.0</td>\n",
       "      <td>809.0</td>\n",
       "      <td>730.0</td>\n",
       "    </tr>\n",
       "    <tr>\n",
       "      <th>6</th>\n",
       "      <td>1986</td>\n",
       "      <td>11430.0</td>\n",
       "      <td>9258.0</td>\n",
       "      <td>3824.0</td>\n",
       "      <td>2322.0</td>\n",
       "      <td>1807.0</td>\n",
       "      <td>1628.0</td>\n",
       "      <td>865.0</td>\n",
       "      <td>1182.0</td>\n",
       "      <td>766.0</td>\n",
       "      <td>983.0</td>\n",
       "    </tr>\n",
       "    <tr>\n",
       "      <th>7</th>\n",
       "      <td>1987</td>\n",
       "      <td>12310.0</td>\n",
       "      <td>10706.0</td>\n",
       "      <td>4458.0</td>\n",
       "      <td>2510.0</td>\n",
       "      <td>2293.0</td>\n",
       "      <td>1876.0</td>\n",
       "      <td>1279.0</td>\n",
       "      <td>1417.0</td>\n",
       "      <td>1014.0</td>\n",
       "      <td>1316.0</td>\n",
       "    </tr>\n",
       "    <tr>\n",
       "      <th>8</th>\n",
       "      <td>1988</td>\n",
       "      <td>13809.0</td>\n",
       "      <td>11045.0</td>\n",
       "      <td>6465.0</td>\n",
       "      <td>2736.0</td>\n",
       "      <td>2380.0</td>\n",
       "      <td>1930.0</td>\n",
       "      <td>1722.0</td>\n",
       "      <td>1221.0</td>\n",
       "      <td>1186.0</td>\n",
       "      <td>1515.0</td>\n",
       "    </tr>\n",
       "    <tr>\n",
       "      <th>9</th>\n",
       "      <td>1989</td>\n",
       "      <td>15447.0</td>\n",
       "      <td>12441.0</td>\n",
       "      <td>6178.0</td>\n",
       "      <td>2634.0</td>\n",
       "      <td>2660.0</td>\n",
       "      <td>2165.0</td>\n",
       "      <td>2414.0</td>\n",
       "      <td>1308.0</td>\n",
       "      <td>1338.0</td>\n",
       "      <td>2095.0</td>\n",
       "    </tr>\n",
       "  </tbody>\n",
       "</table>\n",
       "</div>"
      ],
      "text/plain": [
       "   year      pop     rock  german    punk   metal  country   blues  hard-rock  \\\n",
       "0  1980  11523.0   8459.0  2248.0  2165.0   737.0   1804.0  1231.0      974.0   \n",
       "1  1981  10277.0   8302.0  2471.0  2455.0   823.0   1711.0  1068.0      910.0   \n",
       "2  1982  10359.0   7874.0  2185.0  2417.0   803.0     44.0   994.0     1034.0   \n",
       "3  1983  10033.0   8292.0  3433.0  2366.0  1114.0   1483.0   971.0     1150.0   \n",
       "4  1984  12202.0   8837.0  3047.0  2419.0  1532.0   1265.0   914.0     1328.0   \n",
       "5  1985  11372.0   8721.0  3443.0  2251.0  1612.0   1640.0   753.0     1135.0   \n",
       "6  1986  11430.0   9258.0  3824.0  2322.0  1807.0   1628.0   865.0     1182.0   \n",
       "7  1987  12310.0  10706.0  4458.0  2510.0  2293.0   1876.0  1279.0     1417.0   \n",
       "8  1988  13809.0  11045.0  6465.0  2736.0  2380.0   1930.0  1722.0     1221.0   \n",
       "9  1989  15447.0  12441.0  6178.0  2634.0  2660.0   2165.0  2414.0     1308.0   \n",
       "\n",
       "     soul  british  \n",
       "0  1391.0    917.0  \n",
       "1  1359.0    690.0  \n",
       "2  1367.0    831.0  \n",
       "3  1034.0    630.0  \n",
       "4   835.0    825.0  \n",
       "5   809.0    730.0  \n",
       "6   766.0    983.0  \n",
       "7  1014.0   1316.0  \n",
       "8  1186.0   1515.0  \n",
       "9  1338.0   2095.0  "
      ]
     },
     "execution_count": 113,
     "metadata": {},
     "output_type": "execute_result"
    }
   ],
   "source": [
    "dev_genres_df"
   ]
  },
  {
   "cell_type": "code",
   "execution_count": 114,
   "metadata": {},
   "outputs": [
    {
     "data": {
      "application/vnd.plotly.v1+json": {
       "config": {
        "plotlyServerURL": "https://plot.ly"
       },
       "data": [
        {
         "name": "Pop",
         "type": "scatter",
         "x": [
          "1980",
          "1981",
          "1982",
          "1983",
          "1984",
          "1985",
          "1986",
          "1987",
          "1988",
          "1989"
         ],
         "y": [
          11523,
          10277,
          10359,
          10033,
          12202,
          11372,
          11430,
          12310,
          13809,
          15447
         ]
        }
       ],
       "layout": {
        "autosize": true,
        "template": {
         "data": {
          "bar": [
           {
            "error_x": {
             "color": "#2a3f5f"
            },
            "error_y": {
             "color": "#2a3f5f"
            },
            "marker": {
             "line": {
              "color": "#E5ECF6",
              "width": 0.5
             },
             "pattern": {
              "fillmode": "overlay",
              "size": 10,
              "solidity": 0.2
             }
            },
            "type": "bar"
           }
          ],
          "barpolar": [
           {
            "marker": {
             "line": {
              "color": "#E5ECF6",
              "width": 0.5
             },
             "pattern": {
              "fillmode": "overlay",
              "size": 10,
              "solidity": 0.2
             }
            },
            "type": "barpolar"
           }
          ],
          "carpet": [
           {
            "aaxis": {
             "endlinecolor": "#2a3f5f",
             "gridcolor": "white",
             "linecolor": "white",
             "minorgridcolor": "white",
             "startlinecolor": "#2a3f5f"
            },
            "baxis": {
             "endlinecolor": "#2a3f5f",
             "gridcolor": "white",
             "linecolor": "white",
             "minorgridcolor": "white",
             "startlinecolor": "#2a3f5f"
            },
            "type": "carpet"
           }
          ],
          "choropleth": [
           {
            "colorbar": {
             "outlinewidth": 0,
             "ticks": ""
            },
            "type": "choropleth"
           }
          ],
          "contour": [
           {
            "colorbar": {
             "outlinewidth": 0,
             "ticks": ""
            },
            "colorscale": [
             [
              0,
              "#0d0887"
             ],
             [
              0.1111111111111111,
              "#46039f"
             ],
             [
              0.2222222222222222,
              "#7201a8"
             ],
             [
              0.3333333333333333,
              "#9c179e"
             ],
             [
              0.4444444444444444,
              "#bd3786"
             ],
             [
              0.5555555555555556,
              "#d8576b"
             ],
             [
              0.6666666666666666,
              "#ed7953"
             ],
             [
              0.7777777777777778,
              "#fb9f3a"
             ],
             [
              0.8888888888888888,
              "#fdca26"
             ],
             [
              1,
              "#f0f921"
             ]
            ],
            "type": "contour"
           }
          ],
          "contourcarpet": [
           {
            "colorbar": {
             "outlinewidth": 0,
             "ticks": ""
            },
            "type": "contourcarpet"
           }
          ],
          "heatmap": [
           {
            "colorbar": {
             "outlinewidth": 0,
             "ticks": ""
            },
            "colorscale": [
             [
              0,
              "#0d0887"
             ],
             [
              0.1111111111111111,
              "#46039f"
             ],
             [
              0.2222222222222222,
              "#7201a8"
             ],
             [
              0.3333333333333333,
              "#9c179e"
             ],
             [
              0.4444444444444444,
              "#bd3786"
             ],
             [
              0.5555555555555556,
              "#d8576b"
             ],
             [
              0.6666666666666666,
              "#ed7953"
             ],
             [
              0.7777777777777778,
              "#fb9f3a"
             ],
             [
              0.8888888888888888,
              "#fdca26"
             ],
             [
              1,
              "#f0f921"
             ]
            ],
            "type": "heatmap"
           }
          ],
          "heatmapgl": [
           {
            "colorbar": {
             "outlinewidth": 0,
             "ticks": ""
            },
            "colorscale": [
             [
              0,
              "#0d0887"
             ],
             [
              0.1111111111111111,
              "#46039f"
             ],
             [
              0.2222222222222222,
              "#7201a8"
             ],
             [
              0.3333333333333333,
              "#9c179e"
             ],
             [
              0.4444444444444444,
              "#bd3786"
             ],
             [
              0.5555555555555556,
              "#d8576b"
             ],
             [
              0.6666666666666666,
              "#ed7953"
             ],
             [
              0.7777777777777778,
              "#fb9f3a"
             ],
             [
              0.8888888888888888,
              "#fdca26"
             ],
             [
              1,
              "#f0f921"
             ]
            ],
            "type": "heatmapgl"
           }
          ],
          "histogram": [
           {
            "marker": {
             "pattern": {
              "fillmode": "overlay",
              "size": 10,
              "solidity": 0.2
             }
            },
            "type": "histogram"
           }
          ],
          "histogram2d": [
           {
            "colorbar": {
             "outlinewidth": 0,
             "ticks": ""
            },
            "colorscale": [
             [
              0,
              "#0d0887"
             ],
             [
              0.1111111111111111,
              "#46039f"
             ],
             [
              0.2222222222222222,
              "#7201a8"
             ],
             [
              0.3333333333333333,
              "#9c179e"
             ],
             [
              0.4444444444444444,
              "#bd3786"
             ],
             [
              0.5555555555555556,
              "#d8576b"
             ],
             [
              0.6666666666666666,
              "#ed7953"
             ],
             [
              0.7777777777777778,
              "#fb9f3a"
             ],
             [
              0.8888888888888888,
              "#fdca26"
             ],
             [
              1,
              "#f0f921"
             ]
            ],
            "type": "histogram2d"
           }
          ],
          "histogram2dcontour": [
           {
            "colorbar": {
             "outlinewidth": 0,
             "ticks": ""
            },
            "colorscale": [
             [
              0,
              "#0d0887"
             ],
             [
              0.1111111111111111,
              "#46039f"
             ],
             [
              0.2222222222222222,
              "#7201a8"
             ],
             [
              0.3333333333333333,
              "#9c179e"
             ],
             [
              0.4444444444444444,
              "#bd3786"
             ],
             [
              0.5555555555555556,
              "#d8576b"
             ],
             [
              0.6666666666666666,
              "#ed7953"
             ],
             [
              0.7777777777777778,
              "#fb9f3a"
             ],
             [
              0.8888888888888888,
              "#fdca26"
             ],
             [
              1,
              "#f0f921"
             ]
            ],
            "type": "histogram2dcontour"
           }
          ],
          "mesh3d": [
           {
            "colorbar": {
             "outlinewidth": 0,
             "ticks": ""
            },
            "type": "mesh3d"
           }
          ],
          "parcoords": [
           {
            "line": {
             "colorbar": {
              "outlinewidth": 0,
              "ticks": ""
             }
            },
            "type": "parcoords"
           }
          ],
          "pie": [
           {
            "automargin": true,
            "type": "pie"
           }
          ],
          "scatter": [
           {
            "fillpattern": {
             "fillmode": "overlay",
             "size": 10,
             "solidity": 0.2
            },
            "type": "scatter"
           }
          ],
          "scatter3d": [
           {
            "line": {
             "colorbar": {
              "outlinewidth": 0,
              "ticks": ""
             }
            },
            "marker": {
             "colorbar": {
              "outlinewidth": 0,
              "ticks": ""
             }
            },
            "type": "scatter3d"
           }
          ],
          "scattercarpet": [
           {
            "marker": {
             "colorbar": {
              "outlinewidth": 0,
              "ticks": ""
             }
            },
            "type": "scattercarpet"
           }
          ],
          "scattergeo": [
           {
            "marker": {
             "colorbar": {
              "outlinewidth": 0,
              "ticks": ""
             }
            },
            "type": "scattergeo"
           }
          ],
          "scattergl": [
           {
            "marker": {
             "colorbar": {
              "outlinewidth": 0,
              "ticks": ""
             }
            },
            "type": "scattergl"
           }
          ],
          "scattermapbox": [
           {
            "marker": {
             "colorbar": {
              "outlinewidth": 0,
              "ticks": ""
             }
            },
            "type": "scattermapbox"
           }
          ],
          "scatterpolar": [
           {
            "marker": {
             "colorbar": {
              "outlinewidth": 0,
              "ticks": ""
             }
            },
            "type": "scatterpolar"
           }
          ],
          "scatterpolargl": [
           {
            "marker": {
             "colorbar": {
              "outlinewidth": 0,
              "ticks": ""
             }
            },
            "type": "scatterpolargl"
           }
          ],
          "scatterternary": [
           {
            "marker": {
             "colorbar": {
              "outlinewidth": 0,
              "ticks": ""
             }
            },
            "type": "scatterternary"
           }
          ],
          "surface": [
           {
            "colorbar": {
             "outlinewidth": 0,
             "ticks": ""
            },
            "colorscale": [
             [
              0,
              "#0d0887"
             ],
             [
              0.1111111111111111,
              "#46039f"
             ],
             [
              0.2222222222222222,
              "#7201a8"
             ],
             [
              0.3333333333333333,
              "#9c179e"
             ],
             [
              0.4444444444444444,
              "#bd3786"
             ],
             [
              0.5555555555555556,
              "#d8576b"
             ],
             [
              0.6666666666666666,
              "#ed7953"
             ],
             [
              0.7777777777777778,
              "#fb9f3a"
             ],
             [
              0.8888888888888888,
              "#fdca26"
             ],
             [
              1,
              "#f0f921"
             ]
            ],
            "type": "surface"
           }
          ],
          "table": [
           {
            "cells": {
             "fill": {
              "color": "#EBF0F8"
             },
             "line": {
              "color": "white"
             }
            },
            "header": {
             "fill": {
              "color": "#C8D4E3"
             },
             "line": {
              "color": "white"
             }
            },
            "type": "table"
           }
          ]
         },
         "layout": {
          "annotationdefaults": {
           "arrowcolor": "#2a3f5f",
           "arrowhead": 0,
           "arrowwidth": 1
          },
          "autotypenumbers": "strict",
          "coloraxis": {
           "colorbar": {
            "outlinewidth": 0,
            "ticks": ""
           }
          },
          "colorscale": {
           "diverging": [
            [
             0,
             "#8e0152"
            ],
            [
             0.1,
             "#c51b7d"
            ],
            [
             0.2,
             "#de77ae"
            ],
            [
             0.3,
             "#f1b6da"
            ],
            [
             0.4,
             "#fde0ef"
            ],
            [
             0.5,
             "#f7f7f7"
            ],
            [
             0.6,
             "#e6f5d0"
            ],
            [
             0.7,
             "#b8e186"
            ],
            [
             0.8,
             "#7fbc41"
            ],
            [
             0.9,
             "#4d9221"
            ],
            [
             1,
             "#276419"
            ]
           ],
           "sequential": [
            [
             0,
             "#0d0887"
            ],
            [
             0.1111111111111111,
             "#46039f"
            ],
            [
             0.2222222222222222,
             "#7201a8"
            ],
            [
             0.3333333333333333,
             "#9c179e"
            ],
            [
             0.4444444444444444,
             "#bd3786"
            ],
            [
             0.5555555555555556,
             "#d8576b"
            ],
            [
             0.6666666666666666,
             "#ed7953"
            ],
            [
             0.7777777777777778,
             "#fb9f3a"
            ],
            [
             0.8888888888888888,
             "#fdca26"
            ],
            [
             1,
             "#f0f921"
            ]
           ],
           "sequentialminus": [
            [
             0,
             "#0d0887"
            ],
            [
             0.1111111111111111,
             "#46039f"
            ],
            [
             0.2222222222222222,
             "#7201a8"
            ],
            [
             0.3333333333333333,
             "#9c179e"
            ],
            [
             0.4444444444444444,
             "#bd3786"
            ],
            [
             0.5555555555555556,
             "#d8576b"
            ],
            [
             0.6666666666666666,
             "#ed7953"
            ],
            [
             0.7777777777777778,
             "#fb9f3a"
            ],
            [
             0.8888888888888888,
             "#fdca26"
            ],
            [
             1,
             "#f0f921"
            ]
           ]
          },
          "colorway": [
           "#636efa",
           "#EF553B",
           "#00cc96",
           "#ab63fa",
           "#FFA15A",
           "#19d3f3",
           "#FF6692",
           "#B6E880",
           "#FF97FF",
           "#FECB52"
          ],
          "font": {
           "color": "#2a3f5f"
          },
          "geo": {
           "bgcolor": "white",
           "lakecolor": "white",
           "landcolor": "#E5ECF6",
           "showlakes": true,
           "showland": true,
           "subunitcolor": "white"
          },
          "hoverlabel": {
           "align": "left"
          },
          "hovermode": "closest",
          "mapbox": {
           "style": "light"
          },
          "paper_bgcolor": "white",
          "plot_bgcolor": "#E5ECF6",
          "polar": {
           "angularaxis": {
            "gridcolor": "white",
            "linecolor": "white",
            "ticks": ""
           },
           "bgcolor": "#E5ECF6",
           "radialaxis": {
            "gridcolor": "white",
            "linecolor": "white",
            "ticks": ""
           }
          },
          "scene": {
           "xaxis": {
            "backgroundcolor": "#E5ECF6",
            "gridcolor": "white",
            "gridwidth": 2,
            "linecolor": "white",
            "showbackground": true,
            "ticks": "",
            "zerolinecolor": "white"
           },
           "yaxis": {
            "backgroundcolor": "#E5ECF6",
            "gridcolor": "white",
            "gridwidth": 2,
            "linecolor": "white",
            "showbackground": true,
            "ticks": "",
            "zerolinecolor": "white"
           },
           "zaxis": {
            "backgroundcolor": "#E5ECF6",
            "gridcolor": "white",
            "gridwidth": 2,
            "linecolor": "white",
            "showbackground": true,
            "ticks": "",
            "zerolinecolor": "white"
           }
          },
          "shapedefaults": {
           "line": {
            "color": "#2a3f5f"
           }
          },
          "ternary": {
           "aaxis": {
            "gridcolor": "white",
            "linecolor": "white",
            "ticks": ""
           },
           "baxis": {
            "gridcolor": "white",
            "linecolor": "white",
            "ticks": ""
           },
           "bgcolor": "#E5ECF6",
           "caxis": {
            "gridcolor": "white",
            "linecolor": "white",
            "ticks": ""
           }
          },
          "title": {
           "x": 0.05
          },
          "xaxis": {
           "automargin": true,
           "gridcolor": "white",
           "linecolor": "white",
           "ticks": "",
           "title": {
            "standoff": 15
           },
           "zerolinecolor": "white",
           "zerolinewidth": 2
          },
          "yaxis": {
           "automargin": true,
           "gridcolor": "white",
           "linecolor": "white",
           "ticks": "",
           "title": {
            "standoff": 15
           },
           "zerolinecolor": "white",
           "zerolinewidth": 2
          }
         }
        },
        "title": {
         "text": "Development of genres"
        },
        "updatemenus": [
         {
          "buttons": [
           {
            "args": [
             {
              "y": [
               [
                11523,
                10277,
                10359,
                10033,
                12202,
                11372,
                11430,
                12310,
                13809,
                15447
               ]
              ]
             },
             {
              "yaxis": {
               "title": "Pop"
              }
             }
            ],
            "label": "pop",
            "method": "update"
           },
           {
            "args": [
             {
              "y": [
               [
                8459,
                8302,
                7874,
                8292,
                8837,
                8721,
                9258,
                10706,
                11045,
                12441
               ]
              ]
             },
             {
              "yaxis": {
               "title": "Rock"
              }
             }
            ],
            "label": "rock",
            "method": "update"
           },
           {
            "args": [
             {
              "y": [
               [
                2248,
                2471,
                2185,
                3433,
                3047,
                3443,
                3824,
                4458,
                6465,
                6178
               ]
              ]
             },
             {
              "yaxis": {
               "title": "German"
              }
             }
            ],
            "label": "german",
            "method": "update"
           },
           {
            "args": [
             {
              "y": [
               [
                2165,
                2455,
                2417,
                2366,
                2419,
                2251,
                2322,
                2510,
                2736,
                2634
               ]
              ]
             },
             {
              "yaxis": {
               "title": "Punk"
              }
             }
            ],
            "label": "punk",
            "method": "update"
           },
           {
            "args": [
             {
              "y": [
               [
                737,
                823,
                803,
                1114,
                1532,
                1612,
                1807,
                2293,
                2380,
                2660
               ]
              ]
             },
             {
              "yaxis": {
               "title": "Metal"
              }
             }
            ],
            "label": "metal",
            "method": "update"
           },
           {
            "args": [
             {
              "y": [
               [
                1804,
                1711,
                44,
                1483,
                1265,
                1640,
                1628,
                1876,
                1930,
                2165
               ]
              ]
             },
             {
              "yaxis": {
               "title": "Country"
              }
             }
            ],
            "label": "country",
            "method": "update"
           },
           {
            "args": [
             {
              "y": [
               [
                1231,
                1068,
                994,
                971,
                914,
                753,
                865,
                1279,
                1722,
                2414
               ]
              ]
             },
             {
              "yaxis": {
               "title": "Blues"
              }
             }
            ],
            "label": "blues",
            "method": "update"
           },
           {
            "args": [
             {
              "y": [
               [
                974,
                910,
                1034,
                1150,
                1328,
                1135,
                1182,
                1417,
                1221,
                1308
               ]
              ]
             },
             {
              "yaxis": {
               "title": "Hard-rock"
              }
             }
            ],
            "label": "hard-rock",
            "method": "update"
           },
           {
            "args": [
             {
              "y": [
               [
                1391,
                1359,
                1367,
                1034,
                835,
                809,
                766,
                1014,
                1186,
                1338
               ]
              ]
             },
             {
              "yaxis": {
               "title": "Soul"
              }
             }
            ],
            "label": "soul",
            "method": "update"
           },
           {
            "args": [
             {
              "y": [
               [
                917,
                690,
                831,
                630,
                825,
                730,
                983,
                1316,
                1515,
                2095
               ]
              ]
             },
             {
              "yaxis": {
               "title": "British"
              }
             }
            ],
            "label": "british",
            "method": "update"
           }
          ],
          "direction": "down",
          "showactive": true
         }
        ],
        "xaxis": {
         "autorange": true,
         "range": [
          -0.5414731254147312,
          9.541473125414731
         ],
         "title": {
          "text": "year"
         },
         "type": "category"
        },
        "yaxis": {
         "autorange": true,
         "range": [
          9691.244323342416,
          15788.755676657584
         ],
         "title": {
          "text": "pop"
         },
         "type": "linear"
        }
       }
      },
      "text/html": [
       "<div>                            <div id=\"c92c405f-063d-43d4-9ae3-8f6d0cde3809\" class=\"plotly-graph-div\" style=\"height:800px; width:100%;\"></div>            <script type=\"text/javascript\">                require([\"plotly\"], function(Plotly) {                    window.PLOTLYENV=window.PLOTLYENV || {};                                    if (document.getElementById(\"c92c405f-063d-43d4-9ae3-8f6d0cde3809\")) {                    Plotly.newPlot(                        \"c92c405f-063d-43d4-9ae3-8f6d0cde3809\",                        [{\"name\":\"Pop\",\"x\":[\"1980\",\"1981\",\"1982\",\"1983\",\"1984\",\"1985\",\"1986\",\"1987\",\"1988\",\"1989\"],\"y\":[11523.0,10277.0,10359.0,10033.0,12202.0,11372.0,11430.0,12310.0,13809.0,15447.0],\"type\":\"scatter\"}],                        {\"template\":{\"data\":{\"histogram2dcontour\":[{\"type\":\"histogram2dcontour\",\"colorbar\":{\"outlinewidth\":0,\"ticks\":\"\"},\"colorscale\":[[0.0,\"#0d0887\"],[0.1111111111111111,\"#46039f\"],[0.2222222222222222,\"#7201a8\"],[0.3333333333333333,\"#9c179e\"],[0.4444444444444444,\"#bd3786\"],[0.5555555555555556,\"#d8576b\"],[0.6666666666666666,\"#ed7953\"],[0.7777777777777778,\"#fb9f3a\"],[0.8888888888888888,\"#fdca26\"],[1.0,\"#f0f921\"]]}],\"choropleth\":[{\"type\":\"choropleth\",\"colorbar\":{\"outlinewidth\":0,\"ticks\":\"\"}}],\"histogram2d\":[{\"type\":\"histogram2d\",\"colorbar\":{\"outlinewidth\":0,\"ticks\":\"\"},\"colorscale\":[[0.0,\"#0d0887\"],[0.1111111111111111,\"#46039f\"],[0.2222222222222222,\"#7201a8\"],[0.3333333333333333,\"#9c179e\"],[0.4444444444444444,\"#bd3786\"],[0.5555555555555556,\"#d8576b\"],[0.6666666666666666,\"#ed7953\"],[0.7777777777777778,\"#fb9f3a\"],[0.8888888888888888,\"#fdca26\"],[1.0,\"#f0f921\"]]}],\"heatmap\":[{\"type\":\"heatmap\",\"colorbar\":{\"outlinewidth\":0,\"ticks\":\"\"},\"colorscale\":[[0.0,\"#0d0887\"],[0.1111111111111111,\"#46039f\"],[0.2222222222222222,\"#7201a8\"],[0.3333333333333333,\"#9c179e\"],[0.4444444444444444,\"#bd3786\"],[0.5555555555555556,\"#d8576b\"],[0.6666666666666666,\"#ed7953\"],[0.7777777777777778,\"#fb9f3a\"],[0.8888888888888888,\"#fdca26\"],[1.0,\"#f0f921\"]]}],\"heatmapgl\":[{\"type\":\"heatmapgl\",\"colorbar\":{\"outlinewidth\":0,\"ticks\":\"\"},\"colorscale\":[[0.0,\"#0d0887\"],[0.1111111111111111,\"#46039f\"],[0.2222222222222222,\"#7201a8\"],[0.3333333333333333,\"#9c179e\"],[0.4444444444444444,\"#bd3786\"],[0.5555555555555556,\"#d8576b\"],[0.6666666666666666,\"#ed7953\"],[0.7777777777777778,\"#fb9f3a\"],[0.8888888888888888,\"#fdca26\"],[1.0,\"#f0f921\"]]}],\"contourcarpet\":[{\"type\":\"contourcarpet\",\"colorbar\":{\"outlinewidth\":0,\"ticks\":\"\"}}],\"contour\":[{\"type\":\"contour\",\"colorbar\":{\"outlinewidth\":0,\"ticks\":\"\"},\"colorscale\":[[0.0,\"#0d0887\"],[0.1111111111111111,\"#46039f\"],[0.2222222222222222,\"#7201a8\"],[0.3333333333333333,\"#9c179e\"],[0.4444444444444444,\"#bd3786\"],[0.5555555555555556,\"#d8576b\"],[0.6666666666666666,\"#ed7953\"],[0.7777777777777778,\"#fb9f3a\"],[0.8888888888888888,\"#fdca26\"],[1.0,\"#f0f921\"]]}],\"surface\":[{\"type\":\"surface\",\"colorbar\":{\"outlinewidth\":0,\"ticks\":\"\"},\"colorscale\":[[0.0,\"#0d0887\"],[0.1111111111111111,\"#46039f\"],[0.2222222222222222,\"#7201a8\"],[0.3333333333333333,\"#9c179e\"],[0.4444444444444444,\"#bd3786\"],[0.5555555555555556,\"#d8576b\"],[0.6666666666666666,\"#ed7953\"],[0.7777777777777778,\"#fb9f3a\"],[0.8888888888888888,\"#fdca26\"],[1.0,\"#f0f921\"]]}],\"mesh3d\":[{\"type\":\"mesh3d\",\"colorbar\":{\"outlinewidth\":0,\"ticks\":\"\"}}],\"scatter\":[{\"fillpattern\":{\"fillmode\":\"overlay\",\"size\":10,\"solidity\":0.2},\"type\":\"scatter\"}],\"parcoords\":[{\"type\":\"parcoords\",\"line\":{\"colorbar\":{\"outlinewidth\":0,\"ticks\":\"\"}}}],\"scatterpolargl\":[{\"type\":\"scatterpolargl\",\"marker\":{\"colorbar\":{\"outlinewidth\":0,\"ticks\":\"\"}}}],\"bar\":[{\"error_x\":{\"color\":\"#2a3f5f\"},\"error_y\":{\"color\":\"#2a3f5f\"},\"marker\":{\"line\":{\"color\":\"#E5ECF6\",\"width\":0.5},\"pattern\":{\"fillmode\":\"overlay\",\"size\":10,\"solidity\":0.2}},\"type\":\"bar\"}],\"scattergeo\":[{\"type\":\"scattergeo\",\"marker\":{\"colorbar\":{\"outlinewidth\":0,\"ticks\":\"\"}}}],\"scatterpolar\":[{\"type\":\"scatterpolar\",\"marker\":{\"colorbar\":{\"outlinewidth\":0,\"ticks\":\"\"}}}],\"histogram\":[{\"marker\":{\"pattern\":{\"fillmode\":\"overlay\",\"size\":10,\"solidity\":0.2}},\"type\":\"histogram\"}],\"scattergl\":[{\"type\":\"scattergl\",\"marker\":{\"colorbar\":{\"outlinewidth\":0,\"ticks\":\"\"}}}],\"scatter3d\":[{\"type\":\"scatter3d\",\"line\":{\"colorbar\":{\"outlinewidth\":0,\"ticks\":\"\"}},\"marker\":{\"colorbar\":{\"outlinewidth\":0,\"ticks\":\"\"}}}],\"scattermapbox\":[{\"type\":\"scattermapbox\",\"marker\":{\"colorbar\":{\"outlinewidth\":0,\"ticks\":\"\"}}}],\"scatterternary\":[{\"type\":\"scatterternary\",\"marker\":{\"colorbar\":{\"outlinewidth\":0,\"ticks\":\"\"}}}],\"scattercarpet\":[{\"type\":\"scattercarpet\",\"marker\":{\"colorbar\":{\"outlinewidth\":0,\"ticks\":\"\"}}}],\"carpet\":[{\"aaxis\":{\"endlinecolor\":\"#2a3f5f\",\"gridcolor\":\"white\",\"linecolor\":\"white\",\"minorgridcolor\":\"white\",\"startlinecolor\":\"#2a3f5f\"},\"baxis\":{\"endlinecolor\":\"#2a3f5f\",\"gridcolor\":\"white\",\"linecolor\":\"white\",\"minorgridcolor\":\"white\",\"startlinecolor\":\"#2a3f5f\"},\"type\":\"carpet\"}],\"table\":[{\"cells\":{\"fill\":{\"color\":\"#EBF0F8\"},\"line\":{\"color\":\"white\"}},\"header\":{\"fill\":{\"color\":\"#C8D4E3\"},\"line\":{\"color\":\"white\"}},\"type\":\"table\"}],\"barpolar\":[{\"marker\":{\"line\":{\"color\":\"#E5ECF6\",\"width\":0.5},\"pattern\":{\"fillmode\":\"overlay\",\"size\":10,\"solidity\":0.2}},\"type\":\"barpolar\"}],\"pie\":[{\"automargin\":true,\"type\":\"pie\"}]},\"layout\":{\"autotypenumbers\":\"strict\",\"colorway\":[\"#636efa\",\"#EF553B\",\"#00cc96\",\"#ab63fa\",\"#FFA15A\",\"#19d3f3\",\"#FF6692\",\"#B6E880\",\"#FF97FF\",\"#FECB52\"],\"font\":{\"color\":\"#2a3f5f\"},\"hovermode\":\"closest\",\"hoverlabel\":{\"align\":\"left\"},\"paper_bgcolor\":\"white\",\"plot_bgcolor\":\"#E5ECF6\",\"polar\":{\"bgcolor\":\"#E5ECF6\",\"angularaxis\":{\"gridcolor\":\"white\",\"linecolor\":\"white\",\"ticks\":\"\"},\"radialaxis\":{\"gridcolor\":\"white\",\"linecolor\":\"white\",\"ticks\":\"\"}},\"ternary\":{\"bgcolor\":\"#E5ECF6\",\"aaxis\":{\"gridcolor\":\"white\",\"linecolor\":\"white\",\"ticks\":\"\"},\"baxis\":{\"gridcolor\":\"white\",\"linecolor\":\"white\",\"ticks\":\"\"},\"caxis\":{\"gridcolor\":\"white\",\"linecolor\":\"white\",\"ticks\":\"\"}},\"coloraxis\":{\"colorbar\":{\"outlinewidth\":0,\"ticks\":\"\"}},\"colorscale\":{\"sequential\":[[0.0,\"#0d0887\"],[0.1111111111111111,\"#46039f\"],[0.2222222222222222,\"#7201a8\"],[0.3333333333333333,\"#9c179e\"],[0.4444444444444444,\"#bd3786\"],[0.5555555555555556,\"#d8576b\"],[0.6666666666666666,\"#ed7953\"],[0.7777777777777778,\"#fb9f3a\"],[0.8888888888888888,\"#fdca26\"],[1.0,\"#f0f921\"]],\"sequentialminus\":[[0.0,\"#0d0887\"],[0.1111111111111111,\"#46039f\"],[0.2222222222222222,\"#7201a8\"],[0.3333333333333333,\"#9c179e\"],[0.4444444444444444,\"#bd3786\"],[0.5555555555555556,\"#d8576b\"],[0.6666666666666666,\"#ed7953\"],[0.7777777777777778,\"#fb9f3a\"],[0.8888888888888888,\"#fdca26\"],[1.0,\"#f0f921\"]],\"diverging\":[[0,\"#8e0152\"],[0.1,\"#c51b7d\"],[0.2,\"#de77ae\"],[0.3,\"#f1b6da\"],[0.4,\"#fde0ef\"],[0.5,\"#f7f7f7\"],[0.6,\"#e6f5d0\"],[0.7,\"#b8e186\"],[0.8,\"#7fbc41\"],[0.9,\"#4d9221\"],[1,\"#276419\"]]},\"xaxis\":{\"gridcolor\":\"white\",\"linecolor\":\"white\",\"ticks\":\"\",\"title\":{\"standoff\":15},\"zerolinecolor\":\"white\",\"automargin\":true,\"zerolinewidth\":2},\"yaxis\":{\"gridcolor\":\"white\",\"linecolor\":\"white\",\"ticks\":\"\",\"title\":{\"standoff\":15},\"zerolinecolor\":\"white\",\"automargin\":true,\"zerolinewidth\":2},\"scene\":{\"xaxis\":{\"backgroundcolor\":\"#E5ECF6\",\"gridcolor\":\"white\",\"linecolor\":\"white\",\"showbackground\":true,\"ticks\":\"\",\"zerolinecolor\":\"white\",\"gridwidth\":2},\"yaxis\":{\"backgroundcolor\":\"#E5ECF6\",\"gridcolor\":\"white\",\"linecolor\":\"white\",\"showbackground\":true,\"ticks\":\"\",\"zerolinecolor\":\"white\",\"gridwidth\":2},\"zaxis\":{\"backgroundcolor\":\"#E5ECF6\",\"gridcolor\":\"white\",\"linecolor\":\"white\",\"showbackground\":true,\"ticks\":\"\",\"zerolinecolor\":\"white\",\"gridwidth\":2}},\"shapedefaults\":{\"line\":{\"color\":\"#2a3f5f\"}},\"annotationdefaults\":{\"arrowcolor\":\"#2a3f5f\",\"arrowhead\":0,\"arrowwidth\":1},\"geo\":{\"bgcolor\":\"white\",\"landcolor\":\"#E5ECF6\",\"subunitcolor\":\"white\",\"showland\":true,\"showlakes\":true,\"lakecolor\":\"white\"},\"title\":{\"x\":0.05},\"mapbox\":{\"style\":\"light\"}}},\"height\":800,\"updatemenus\":[{\"buttons\":[{\"args\":[{\"y\":[[11523.0,10277.0,10359.0,10033.0,12202.0,11372.0,11430.0,12310.0,13809.0,15447.0]]},{\"yaxis\":{\"title\":\"Pop\"}}],\"label\":\"pop\",\"method\":\"update\"},{\"args\":[{\"y\":[[8459.0,8302.0,7874.0,8292.0,8837.0,8721.0,9258.0,10706.0,11045.0,12441.0]]},{\"yaxis\":{\"title\":\"Rock\"}}],\"label\":\"rock\",\"method\":\"update\"},{\"args\":[{\"y\":[[2248.0,2471.0,2185.0,3433.0,3047.0,3443.0,3824.0,4458.0,6465.0,6178.0]]},{\"yaxis\":{\"title\":\"German\"}}],\"label\":\"german\",\"method\":\"update\"},{\"args\":[{\"y\":[[2165.0,2455.0,2417.0,2366.0,2419.0,2251.0,2322.0,2510.0,2736.0,2634.0]]},{\"yaxis\":{\"title\":\"Punk\"}}],\"label\":\"punk\",\"method\":\"update\"},{\"args\":[{\"y\":[[737.0,823.0,803.0,1114.0,1532.0,1612.0,1807.0,2293.0,2380.0,2660.0]]},{\"yaxis\":{\"title\":\"Metal\"}}],\"label\":\"metal\",\"method\":\"update\"},{\"args\":[{\"y\":[[1804.0,1711.0,44.0,1483.0,1265.0,1640.0,1628.0,1876.0,1930.0,2165.0]]},{\"yaxis\":{\"title\":\"Country\"}}],\"label\":\"country\",\"method\":\"update\"},{\"args\":[{\"y\":[[1231.0,1068.0,994.0,971.0,914.0,753.0,865.0,1279.0,1722.0,2414.0]]},{\"yaxis\":{\"title\":\"Blues\"}}],\"label\":\"blues\",\"method\":\"update\"},{\"args\":[{\"y\":[[974.0,910.0,1034.0,1150.0,1328.0,1135.0,1182.0,1417.0,1221.0,1308.0]]},{\"yaxis\":{\"title\":\"Hard-rock\"}}],\"label\":\"hard-rock\",\"method\":\"update\"},{\"args\":[{\"y\":[[1391.0,1359.0,1367.0,1034.0,835.0,809.0,766.0,1014.0,1186.0,1338.0]]},{\"yaxis\":{\"title\":\"Soul\"}}],\"label\":\"soul\",\"method\":\"update\"},{\"args\":[{\"y\":[[917.0,690.0,831.0,630.0,825.0,730.0,983.0,1316.0,1515.0,2095.0]]},{\"yaxis\":{\"title\":\"British\"}}],\"label\":\"british\",\"method\":\"update\"}],\"direction\":\"down\",\"showactive\":true}],\"yaxis\":{\"title\":{\"text\":\"pop\"}},\"xaxis\":{\"title\":{\"text\":\"year\"}},\"title\":{\"text\":\"Development of genres\"}},                        {\"responsive\": true}                    ).then(function(){\n",
       "                            \n",
       "var gd = document.getElementById('c92c405f-063d-43d4-9ae3-8f6d0cde3809');\n",
       "var x = new MutationObserver(function (mutations, observer) {{\n",
       "        var display = window.getComputedStyle(gd).display;\n",
       "        if (!display || display === 'none') {{\n",
       "            console.log([gd, 'removed!']);\n",
       "            Plotly.purge(gd);\n",
       "            observer.disconnect();\n",
       "        }}\n",
       "}});\n",
       "\n",
       "// Listen for the removal of the full notebook cells\n",
       "var notebookContainer = gd.closest('#notebook-container');\n",
       "if (notebookContainer) {{\n",
       "    x.observe(notebookContainer, {childList: true});\n",
       "}}\n",
       "\n",
       "// Listen for the clearing of the current output cell\n",
       "var outputEl = gd.closest('.output');\n",
       "if (outputEl) {{\n",
       "    x.observe(outputEl, {childList: true});\n",
       "}}\n",
       "\n",
       "                        })                };                });            </script>        </div>"
      ]
     },
     "metadata": {},
     "output_type": "display_data"
    }
   ],
   "source": [
    "# Create the initial scatter plot\n",
    "fig = go.Figure()\n",
    "\n",
    "fig.add_trace(go.Scatter(\n",
    "    x=dev_genres_df['year'],\n",
    "    y=dev_genres_df['pop'],\n",
    "    #mode='markers',\n",
    "    name='Pop'\n",
    "))\n",
    "\n",
    "# Create the dropdown menu\n",
    "dropdown_menu = go.layout.Updatemenu(\n",
    "    buttons=list([\n",
    "        dict(\n",
    "            args=[\n",
    "                {'y': [dev_genres_df[option]]}, \n",
    "                {'yaxis': {'title': option.capitalize()}}\n",
    "            ],\n",
    "            label=option,\n",
    "            method='update'\n",
    "        )\n",
    "        for option in features\n",
    "    ]),\n",
    "    direction='down',\n",
    "    showactive=True,\n",
    ")\n",
    "\n",
    "# Update the layout with dropdown menu and initial y-axis title\n",
    "fig.update_layout(\n",
    "    height = 800,\n",
    "    updatemenus=[dropdown_menu],\n",
    "    yaxis_title='pop',\n",
    "    xaxis_title='year',\n",
    "    title='Development of genres'\n",
    ")\n",
    "\n",
    "fig.show()"
   ]
  },
  {
   "attachments": {},
   "cell_type": "markdown",
   "metadata": {},
   "source": [
    "## Add the genres to the features"
   ]
  },
  {
   "cell_type": "code",
   "execution_count": 115,
   "metadata": {},
   "outputs": [
    {
     "data": {
      "text/html": [
       "<div>\n",
       "<style scoped>\n",
       "    .dataframe tbody tr th:only-of-type {\n",
       "        vertical-align: middle;\n",
       "    }\n",
       "\n",
       "    .dataframe tbody tr th {\n",
       "        vertical-align: top;\n",
       "    }\n",
       "\n",
       "    .dataframe thead th {\n",
       "        text-align: right;\n",
       "    }\n",
       "</style>\n",
       "<table border=\"1\" class=\"dataframe\">\n",
       "  <thead>\n",
       "    <tr style=\"text-align: right;\">\n",
       "      <th></th>\n",
       "      <th>isrc</th>\n",
       "      <th>genres</th>\n",
       "      <th>name</th>\n",
       "      <th>artists</th>\n",
       "      <th>album</th>\n",
       "      <th>release_date</th>\n",
       "      <th>release_date_precision</th>\n",
       "      <th>uri</th>\n",
       "      <th>spotify_id</th>\n",
       "      <th>chart_power</th>\n",
       "      <th>...</th>\n",
       "      <th>speechiness</th>\n",
       "      <th>acousticness</th>\n",
       "      <th>instrumentalness</th>\n",
       "      <th>liveness</th>\n",
       "      <th>valence</th>\n",
       "      <th>tempo</th>\n",
       "      <th>duration_ms</th>\n",
       "      <th>time_signature</th>\n",
       "      <th>year</th>\n",
       "      <th>year_month</th>\n",
       "    </tr>\n",
       "  </thead>\n",
       "  <tbody>\n",
       "    <tr>\n",
       "      <th>0</th>\n",
       "      <td>AEA040700577</td>\n",
       "      <td>['j-pop', 'jazz', 'pop']</td>\n",
       "      <td>Bala Wala Chi</td>\n",
       "      <td>Ziad Rahbani</td>\n",
       "      <td>Houdou Nisbi</td>\n",
       "      <td>1985-01-01</td>\n",
       "      <td>day</td>\n",
       "      <td>spotify:track:0fylgLeNObjVvwhd8caHqX</td>\n",
       "      <td>0fylgLeNObjVvwhd8caHqX</td>\n",
       "      <td>NaN</td>\n",
       "      <td>...</td>\n",
       "      <td>0.0418</td>\n",
       "      <td>0.952</td>\n",
       "      <td>0.382</td>\n",
       "      <td>0.2370</td>\n",
       "      <td>0.371</td>\n",
       "      <td>157.168</td>\n",
       "      <td>207560</td>\n",
       "      <td>3</td>\n",
       "      <td>1985</td>\n",
       "      <td>1985.0</td>\n",
       "    </tr>\n",
       "    <tr>\n",
       "      <th>1</th>\n",
       "      <td>AEA040700578</td>\n",
       "      <td>['groove', 'j-pop', 'jazz', 'pop']</td>\n",
       "      <td>Houdou Nisbi</td>\n",
       "      <td>Ziad Rahbani</td>\n",
       "      <td>Houdou Nisbi</td>\n",
       "      <td>1985-01-01</td>\n",
       "      <td>day</td>\n",
       "      <td>spotify:track:0yMFpBNCYXqwwOAg23bC8a</td>\n",
       "      <td>0yMFpBNCYXqwwOAg23bC8a</td>\n",
       "      <td>NaN</td>\n",
       "      <td>...</td>\n",
       "      <td>0.0308</td>\n",
       "      <td>0.814</td>\n",
       "      <td>0.951</td>\n",
       "      <td>0.0827</td>\n",
       "      <td>0.495</td>\n",
       "      <td>128.386</td>\n",
       "      <td>272240</td>\n",
       "      <td>3</td>\n",
       "      <td>1985</td>\n",
       "      <td>1985.0</td>\n",
       "    </tr>\n",
       "    <tr>\n",
       "      <th>2</th>\n",
       "      <td>AEA040700579</td>\n",
       "      <td>['groove', 'j-pop', 'jazz', 'pop']</td>\n",
       "      <td>Nafs Al Sheghlat</td>\n",
       "      <td>Ziad Rahbani</td>\n",
       "      <td>Houdou Nisbi</td>\n",
       "      <td>1985-01-01</td>\n",
       "      <td>day</td>\n",
       "      <td>spotify:track:6G8l1kI8QlTD0UDIak5F8H</td>\n",
       "      <td>6G8l1kI8QlTD0UDIak5F8H</td>\n",
       "      <td>NaN</td>\n",
       "      <td>...</td>\n",
       "      <td>0.0449</td>\n",
       "      <td>0.954</td>\n",
       "      <td>0.887</td>\n",
       "      <td>0.2710</td>\n",
       "      <td>0.304</td>\n",
       "      <td>82.630</td>\n",
       "      <td>160093</td>\n",
       "      <td>4</td>\n",
       "      <td>1985</td>\n",
       "      <td>1985.0</td>\n",
       "    </tr>\n",
       "    <tr>\n",
       "      <th>3</th>\n",
       "      <td>AEA040700580</td>\n",
       "      <td>['groove', 'j-pop', 'jazz', 'pop']</td>\n",
       "      <td>Yalla Kichou Barra</td>\n",
       "      <td>Ziad Rahbani</td>\n",
       "      <td>Houdou Nisbi</td>\n",
       "      <td>1985-01-01</td>\n",
       "      <td>day</td>\n",
       "      <td>spotify:track:21g76Lq5Jg4QvfTDvi4PlH</td>\n",
       "      <td>21g76Lq5Jg4QvfTDvi4PlH</td>\n",
       "      <td>NaN</td>\n",
       "      <td>...</td>\n",
       "      <td>0.0341</td>\n",
       "      <td>0.430</td>\n",
       "      <td>0.838</td>\n",
       "      <td>0.1240</td>\n",
       "      <td>0.656</td>\n",
       "      <td>102.485</td>\n",
       "      <td>155667</td>\n",
       "      <td>4</td>\n",
       "      <td>1985</td>\n",
       "      <td>1985.0</td>\n",
       "    </tr>\n",
       "    <tr>\n",
       "      <th>4</th>\n",
       "      <td>AEA040700581</td>\n",
       "      <td>['groove', 'j-pop', 'jazz', 'pop', 'pop']</td>\n",
       "      <td>Ma Tfel</td>\n",
       "      <td>Ziad Rahbani</td>\n",
       "      <td>Houdou Nisbi</td>\n",
       "      <td>1985-01-01</td>\n",
       "      <td>day</td>\n",
       "      <td>spotify:track:0pKxrkFh8fxPKpkO29MYmi</td>\n",
       "      <td>0pKxrkFh8fxPKpkO29MYmi</td>\n",
       "      <td>NaN</td>\n",
       "      <td>...</td>\n",
       "      <td>0.0436</td>\n",
       "      <td>0.749</td>\n",
       "      <td>0.941</td>\n",
       "      <td>0.1150</td>\n",
       "      <td>0.752</td>\n",
       "      <td>150.656</td>\n",
       "      <td>265173</td>\n",
       "      <td>4</td>\n",
       "      <td>1985</td>\n",
       "      <td>1985.0</td>\n",
       "    </tr>\n",
       "  </tbody>\n",
       "</table>\n",
       "<p>5 rows × 26 columns</p>\n",
       "</div>"
      ],
      "text/plain": [
       "           isrc                                     genres  \\\n",
       "0  AEA040700577                   ['j-pop', 'jazz', 'pop']   \n",
       "1  AEA040700578         ['groove', 'j-pop', 'jazz', 'pop']   \n",
       "2  AEA040700579         ['groove', 'j-pop', 'jazz', 'pop']   \n",
       "3  AEA040700580         ['groove', 'j-pop', 'jazz', 'pop']   \n",
       "4  AEA040700581  ['groove', 'j-pop', 'jazz', 'pop', 'pop']   \n",
       "\n",
       "                 name       artists         album release_date  \\\n",
       "0       Bala Wala Chi  Ziad Rahbani  Houdou Nisbi   1985-01-01   \n",
       "1        Houdou Nisbi  Ziad Rahbani  Houdou Nisbi   1985-01-01   \n",
       "2    Nafs Al Sheghlat  Ziad Rahbani  Houdou Nisbi   1985-01-01   \n",
       "3  Yalla Kichou Barra  Ziad Rahbani  Houdou Nisbi   1985-01-01   \n",
       "4             Ma Tfel  Ziad Rahbani  Houdou Nisbi   1985-01-01   \n",
       "\n",
       "  release_date_precision                                   uri  \\\n",
       "0                    day  spotify:track:0fylgLeNObjVvwhd8caHqX   \n",
       "1                    day  spotify:track:0yMFpBNCYXqwwOAg23bC8a   \n",
       "2                    day  spotify:track:6G8l1kI8QlTD0UDIak5F8H   \n",
       "3                    day  spotify:track:21g76Lq5Jg4QvfTDvi4PlH   \n",
       "4                    day  spotify:track:0pKxrkFh8fxPKpkO29MYmi   \n",
       "\n",
       "               spotify_id  chart_power  ...  speechiness  acousticness  \\\n",
       "0  0fylgLeNObjVvwhd8caHqX          NaN  ...       0.0418         0.952   \n",
       "1  0yMFpBNCYXqwwOAg23bC8a          NaN  ...       0.0308         0.814   \n",
       "2  6G8l1kI8QlTD0UDIak5F8H          NaN  ...       0.0449         0.954   \n",
       "3  21g76Lq5Jg4QvfTDvi4PlH          NaN  ...       0.0341         0.430   \n",
       "4  0pKxrkFh8fxPKpkO29MYmi          NaN  ...       0.0436         0.749   \n",
       "\n",
       "   instrumentalness  liveness  valence    tempo  duration_ms  time_signature  \\\n",
       "0             0.382    0.2370    0.371  157.168       207560               3   \n",
       "1             0.951    0.0827    0.495  128.386       272240               3   \n",
       "2             0.887    0.2710    0.304   82.630       160093               4   \n",
       "3             0.838    0.1240    0.656  102.485       155667               4   \n",
       "4             0.941    0.1150    0.752  150.656       265173               4   \n",
       "\n",
       "   year  year_month  \n",
       "0  1985      1985.0  \n",
       "1  1985      1985.0  \n",
       "2  1985      1985.0  \n",
       "3  1985      1985.0  \n",
       "4  1985      1985.0  \n",
       "\n",
       "[5 rows x 26 columns]"
      ]
     },
     "execution_count": 115,
     "metadata": {},
     "output_type": "execute_result"
    }
   ],
   "source": [
    "df.head()"
   ]
  },
  {
   "cell_type": "code",
   "execution_count": 116,
   "metadata": {},
   "outputs": [],
   "source": [
    "scaler = MinMaxScaler()\n",
    "by_isrc_scaled = by_isrc.copy()\n",
    "by_isrc_scaled.set_index('isrc', inplace=True)\n",
    "by_isrc_scaled = by_isrc_scaled[['danceability', 'energy',\n",
    "                       'key', 'loudness', 'mode', 'speechiness',\n",
    "                       'acousticness', 'instrumentalness', 'liveness',\n",
    "                       'valence', 'time_signature', 'tempo']]\n",
    "by_isrc_scaled = pd.DataFrame(scaler.fit_transform(by_isrc_scaled), columns=by_isrc_scaled.columns, index = by_isrc_scaled.index)\n",
    "by_isrc_scaled.reset_index(inplace=True)"
   ]
  },
  {
   "cell_type": "code",
   "execution_count": 117,
   "metadata": {},
   "outputs": [],
   "source": [
    "by_isrc_genres = ct.merge(by_isrc_scaled, on=['isrc'], how='right')"
   ]
  },
  {
   "cell_type": "code",
   "execution_count": 118,
   "metadata": {},
   "outputs": [
    {
     "data": {
      "text/html": [
       "<div>\n",
       "<style scoped>\n",
       "    .dataframe tbody tr th:only-of-type {\n",
       "        vertical-align: middle;\n",
       "    }\n",
       "\n",
       "    .dataframe tbody tr th {\n",
       "        vertical-align: top;\n",
       "    }\n",
       "\n",
       "    .dataframe thead th {\n",
       "        text-align: right;\n",
       "    }\n",
       "</style>\n",
       "<table border=\"1\" class=\"dataframe\">\n",
       "  <thead>\n",
       "    <tr style=\"text-align: right;\">\n",
       "      <th></th>\n",
       "      <th>isrc</th>\n",
       "      <th>acoustic</th>\n",
       "      <th>afrobeat</th>\n",
       "      <th>alt-rock</th>\n",
       "      <th>alternative</th>\n",
       "      <th>ambient</th>\n",
       "      <th>black-metal</th>\n",
       "      <th>bluegrass</th>\n",
       "      <th>blues</th>\n",
       "      <th>brazil</th>\n",
       "      <th>...</th>\n",
       "      <th>key</th>\n",
       "      <th>loudness</th>\n",
       "      <th>mode</th>\n",
       "      <th>speechiness</th>\n",
       "      <th>acousticness</th>\n",
       "      <th>instrumentalness</th>\n",
       "      <th>liveness</th>\n",
       "      <th>valence</th>\n",
       "      <th>time_signature</th>\n",
       "      <th>tempo</th>\n",
       "    </tr>\n",
       "  </thead>\n",
       "  <tbody>\n",
       "    <tr>\n",
       "      <th>0</th>\n",
       "      <td>AEA040700577</td>\n",
       "      <td>0.0</td>\n",
       "      <td>0.0</td>\n",
       "      <td>0.0</td>\n",
       "      <td>0.0</td>\n",
       "      <td>0.0</td>\n",
       "      <td>0.0</td>\n",
       "      <td>0.0</td>\n",
       "      <td>0.0</td>\n",
       "      <td>0.0</td>\n",
       "      <td>...</td>\n",
       "      <td>0.818182</td>\n",
       "      <td>0.620601</td>\n",
       "      <td>1.0</td>\n",
       "      <td>0.043182</td>\n",
       "      <td>0.955823</td>\n",
       "      <td>0.382</td>\n",
       "      <td>0.2370</td>\n",
       "      <td>0.371</td>\n",
       "      <td>0.6</td>\n",
       "      <td>0.638375</td>\n",
       "    </tr>\n",
       "    <tr>\n",
       "      <th>1</th>\n",
       "      <td>AEA040700578</td>\n",
       "      <td>0.0</td>\n",
       "      <td>0.0</td>\n",
       "      <td>0.0</td>\n",
       "      <td>0.0</td>\n",
       "      <td>0.0</td>\n",
       "      <td>0.0</td>\n",
       "      <td>0.0</td>\n",
       "      <td>0.0</td>\n",
       "      <td>0.0</td>\n",
       "      <td>...</td>\n",
       "      <td>0.636364</td>\n",
       "      <td>0.618011</td>\n",
       "      <td>0.0</td>\n",
       "      <td>0.031818</td>\n",
       "      <td>0.817269</td>\n",
       "      <td>0.951</td>\n",
       "      <td>0.0827</td>\n",
       "      <td>0.495</td>\n",
       "      <td>0.6</td>\n",
       "      <td>0.521470</td>\n",
       "    </tr>\n",
       "    <tr>\n",
       "      <th>2</th>\n",
       "      <td>AEA040700579</td>\n",
       "      <td>0.0</td>\n",
       "      <td>0.0</td>\n",
       "      <td>0.0</td>\n",
       "      <td>0.0</td>\n",
       "      <td>0.0</td>\n",
       "      <td>0.0</td>\n",
       "      <td>0.0</td>\n",
       "      <td>0.0</td>\n",
       "      <td>0.0</td>\n",
       "      <td>...</td>\n",
       "      <td>0.272727</td>\n",
       "      <td>0.578544</td>\n",
       "      <td>1.0</td>\n",
       "      <td>0.046384</td>\n",
       "      <td>0.957831</td>\n",
       "      <td>0.887</td>\n",
       "      <td>0.2710</td>\n",
       "      <td>0.304</td>\n",
       "      <td>0.8</td>\n",
       "      <td>0.335621</td>\n",
       "    </tr>\n",
       "    <tr>\n",
       "      <th>3</th>\n",
       "      <td>AEA040700580</td>\n",
       "      <td>0.0</td>\n",
       "      <td>0.0</td>\n",
       "      <td>0.0</td>\n",
       "      <td>0.0</td>\n",
       "      <td>0.0</td>\n",
       "      <td>0.0</td>\n",
       "      <td>0.0</td>\n",
       "      <td>0.0</td>\n",
       "      <td>0.0</td>\n",
       "      <td>...</td>\n",
       "      <td>0.454545</td>\n",
       "      <td>0.626845</td>\n",
       "      <td>1.0</td>\n",
       "      <td>0.035227</td>\n",
       "      <td>0.431727</td>\n",
       "      <td>0.838</td>\n",
       "      <td>0.1240</td>\n",
       "      <td>0.656</td>\n",
       "      <td>0.8</td>\n",
       "      <td>0.416267</td>\n",
       "    </tr>\n",
       "    <tr>\n",
       "      <th>4</th>\n",
       "      <td>AEA040700581</td>\n",
       "      <td>0.0</td>\n",
       "      <td>0.0</td>\n",
       "      <td>0.0</td>\n",
       "      <td>0.0</td>\n",
       "      <td>0.0</td>\n",
       "      <td>0.0</td>\n",
       "      <td>0.0</td>\n",
       "      <td>0.0</td>\n",
       "      <td>0.0</td>\n",
       "      <td>...</td>\n",
       "      <td>0.454545</td>\n",
       "      <td>0.631776</td>\n",
       "      <td>0.0</td>\n",
       "      <td>0.045041</td>\n",
       "      <td>0.752008</td>\n",
       "      <td>0.941</td>\n",
       "      <td>0.1150</td>\n",
       "      <td>0.752</td>\n",
       "      <td>0.8</td>\n",
       "      <td>0.611925</td>\n",
       "    </tr>\n",
       "  </tbody>\n",
       "</table>\n",
       "<p>5 rows × 89 columns</p>\n",
       "</div>"
      ],
      "text/plain": [
       "           isrc  acoustic  afrobeat  alt-rock  alternative  ambient  \\\n",
       "0  AEA040700577       0.0       0.0       0.0          0.0      0.0   \n",
       "1  AEA040700578       0.0       0.0       0.0          0.0      0.0   \n",
       "2  AEA040700579       0.0       0.0       0.0          0.0      0.0   \n",
       "3  AEA040700580       0.0       0.0       0.0          0.0      0.0   \n",
       "4  AEA040700581       0.0       0.0       0.0          0.0      0.0   \n",
       "\n",
       "   black-metal  bluegrass  blues  brazil  ...       key  loudness  mode  \\\n",
       "0          0.0        0.0    0.0     0.0  ...  0.818182  0.620601   1.0   \n",
       "1          0.0        0.0    0.0     0.0  ...  0.636364  0.618011   0.0   \n",
       "2          0.0        0.0    0.0     0.0  ...  0.272727  0.578544   1.0   \n",
       "3          0.0        0.0    0.0     0.0  ...  0.454545  0.626845   1.0   \n",
       "4          0.0        0.0    0.0     0.0  ...  0.454545  0.631776   0.0   \n",
       "\n",
       "   speechiness  acousticness  instrumentalness  liveness  valence  \\\n",
       "0     0.043182      0.955823             0.382    0.2370    0.371   \n",
       "1     0.031818      0.817269             0.951    0.0827    0.495   \n",
       "2     0.046384      0.957831             0.887    0.2710    0.304   \n",
       "3     0.035227      0.431727             0.838    0.1240    0.656   \n",
       "4     0.045041      0.752008             0.941    0.1150    0.752   \n",
       "\n",
       "   time_signature     tempo  \n",
       "0             0.6  0.638375  \n",
       "1             0.6  0.521470  \n",
       "2             0.8  0.335621  \n",
       "3             0.8  0.416267  \n",
       "4             0.8  0.611925  \n",
       "\n",
       "[5 rows x 89 columns]"
      ]
     },
     "execution_count": 118,
     "metadata": {},
     "output_type": "execute_result"
    }
   ],
   "source": [
    "by_isrc_genres.head()"
   ]
  },
  {
   "attachments": {},
   "cell_type": "markdown",
   "metadata": {},
   "source": [
    "## Create Radar Chart for the top 10 genres"
   ]
  },
  {
   "cell_type": "code",
   "execution_count": 119,
   "metadata": {},
   "outputs": [
    {
     "data": {
      "text/plain": [
       "['pop',\n",
       " 'rock',\n",
       " 'german',\n",
       " 'punk',\n",
       " 'metal',\n",
       " 'country',\n",
       " 'blues',\n",
       " 'hard-rock',\n",
       " 'soul',\n",
       " 'british']"
      ]
     },
     "execution_count": 119,
     "metadata": {},
     "output_type": "execute_result"
    }
   ],
   "source": [
    "sorted_genres[:10]"
   ]
  },
  {
   "cell_type": "code",
   "execution_count": 159,
   "metadata": {},
   "outputs": [],
   "source": [
    "fig = go.Figure()\n",
    "for genre in sorted_genres[:10]:\n",
    "    df_copy = by_isrc_genres.copy()\n",
    "    df_copy = df_copy[df_copy[genre] == 1]\n",
    "    df_copy = df_copy[['danceability', 'energy',\n",
    "                       'key', 'loudness', 'mode', 'speechiness',\n",
    "                       'acousticness', 'instrumentalness', 'liveness',\n",
    "                       'valence', 'time_signature', 'tempo', 'danceability']]\n",
    "    df_radar = pd.DataFrame(df_copy.mean(), columns=['mean'])\n",
    "    df_radar.reset_index(inplace=True)\n",
    "    df_radar.rename(columns={\"index\":\"feature\"}, inplace=True)\n",
    "\n",
    "    fig.add_trace(go.Scatterpolar(\n",
    "        r = df_radar['mean'],\n",
    "        theta = df_radar['feature'],\n",
    "        mode = 'lines',\n",
    "        fill = 'none',\n",
    "        name = genre\n",
    "    ))"
   ]
  },
  {
   "cell_type": "code",
   "execution_count": 158,
   "metadata": {},
   "outputs": [
    {
     "data": {
      "application/vnd.plotly.v1+json": {
       "config": {
        "plotlyServerURL": "https://plot.ly"
       },
       "data": [
        {
         "fill": "none",
         "mode": "lines",
         "name": "pop",
         "r": [
          0.5592196495194354,
          0.5477276334938785,
          0.46939027022723834,
          0.7658286278958996,
          0.6873158080867617,
          0.05939720610747157,
          0.4572561851291087,
          0.04975360238384332,
          0.2233918203634159,
          0.5991417473602668,
          0.7734864687357911,
          0.4897787640897645,
          0.5592196495194354
         ],
         "theta": [
          "danceability",
          "energy",
          "key",
          "loudness",
          "mode",
          "speechiness",
          "acousticness",
          "instrumentalness",
          "liveness",
          "valence",
          "time_signature",
          "tempo",
          "danceability"
         ],
         "type": "scatterpolar"
        },
        {
         "fill": "none",
         "mode": "lines",
         "name": "rock",
         "r": [
          0.5304254204090675,
          0.6377964199712568,
          0.4784188292678206,
          0.7669158582926038,
          0.709245755043381,
          0.06590877087945904,
          0.2609993978050917,
          0.09839999770990579,
          0.25108964773513603,
          0.569256270825571,
          0.7839442167456222,
          0.5044174487284168,
          0.5304254204090675
         ],
         "theta": [
          "danceability",
          "energy",
          "key",
          "loudness",
          "mode",
          "speechiness",
          "acousticness",
          "instrumentalness",
          "liveness",
          "valence",
          "time_signature",
          "tempo",
          "danceability"
         ],
         "type": "scatterpolar"
        },
        {
         "fill": "none",
         "mode": "lines",
         "name": "german",
         "r": [
          0.3641761171553261,
          0.23009223514780675,
          0.4663714384788766,
          0.5998642877960478,
          0.6763350286077559,
          0.0731872313918238,
          0.8241338772862695,
          0.41592269127569403,
          0.1864142667938123,
          0.34233802712439076,
          0.7430546726001274,
          0.4362229732794592,
          0.3641761171553261
         ],
         "theta": [
          "danceability",
          "energy",
          "key",
          "loudness",
          "mode",
          "speechiness",
          "acousticness",
          "instrumentalness",
          "liveness",
          "valence",
          "time_signature",
          "tempo",
          "danceability"
         ],
         "type": "scatterpolar"
        },
        {
         "fill": "none",
         "mode": "lines",
         "name": "punk",
         "r": [
          0.43698989143581723,
          0.7805567745128733,
          0.4903436007864432,
          0.7912774672980606,
          0.6811946446961895,
          0.08236135108221056,
          0.10864820256597968,
          0.1933694978661174,
          0.25912817301750773,
          0.5243158558187435,
          0.7874933058702369,
          0.5264279004200616,
          0.43698989143581723
         ],
         "theta": [
          "danceability",
          "energy",
          "key",
          "loudness",
          "mode",
          "speechiness",
          "acousticness",
          "instrumentalness",
          "liveness",
          "valence",
          "time_signature",
          "tempo",
          "danceability"
         ],
         "type": "scatterpolar"
        },
        {
         "fill": "none",
         "mode": "lines",
         "name": "metal",
         "r": [
          0.3835779010325768,
          0.8294969143455364,
          0.49746497395758227,
          0.7995591353700302,
          0.6199479728443626,
          0.08185796119829206,
          0.055227446073234,
          0.1923866505748366,
          0.2899599593934395,
          0.39912940803248526,
          0.7882494765560563,
          0.5109767989975771,
          0.3835779010325768
         ],
         "theta": [
          "danceability",
          "energy",
          "key",
          "loudness",
          "mode",
          "speechiness",
          "acousticness",
          "instrumentalness",
          "liveness",
          "valence",
          "time_signature",
          "tempo",
          "danceability"
         ],
         "type": "scatterpolar"
        },
        {
         "fill": "none",
         "mode": "lines",
         "name": "country",
         "r": [
          0.5739065559281112,
          0.46220270937861824,
          0.4658257604996316,
          0.7321042595934364,
          0.9042840602084138,
          0.05031638310404846,
          0.4476258379523497,
          0.02790041075775119,
          0.21859258973369355,
          0.5958693876238261,
          0.7717097645696644,
          0.48633452301040403,
          0.5739065559281112
         ],
         "theta": [
          "danceability",
          "energy",
          "key",
          "loudness",
          "mode",
          "speechiness",
          "acousticness",
          "instrumentalness",
          "liveness",
          "valence",
          "time_signature",
          "tempo",
          "danceability"
         ],
         "type": "scatterpolar"
        },
        {
         "fill": "none",
         "mode": "lines",
         "name": "blues",
         "r": [
          0.5433436549993248,
          0.5193048620096633,
          0.46696346810997535,
          0.7353878881383682,
          0.7530914748996806,
          0.07169298816742256,
          0.43707244078928115,
          0.11034226226517076,
          0.262180468430104,
          0.6103078617639833,
          0.7650806649742037,
          0.4972508061441453,
          0.5433436549993248
         ],
         "theta": [
          "danceability",
          "energy",
          "key",
          "loudness",
          "mode",
          "speechiness",
          "acousticness",
          "instrumentalness",
          "liveness",
          "valence",
          "time_signature",
          "tempo",
          "danceability"
         ],
         "type": "scatterpolar"
        },
        {
         "fill": "none",
         "mode": "lines",
         "name": "hard-rock",
         "r": [
          0.4277067555433849,
          0.8028465820396261,
          0.4916061723678158,
          0.7980127240581728,
          0.6657517797409727,
          0.07075454779374499,
          0.07594307817943013,
          0.13003601810532636,
          0.318748975040741,
          0.47552390427995544,
          0.7898276009949398,
          0.5167370291402124,
          0.4277067555433849
         ],
         "theta": [
          "danceability",
          "energy",
          "key",
          "loudness",
          "mode",
          "speechiness",
          "acousticness",
          "instrumentalness",
          "liveness",
          "valence",
          "time_signature",
          "tempo",
          "danceability"
         ],
         "type": "scatterpolar"
        },
        {
         "fill": "none",
         "mode": "lines",
         "name": "soul",
         "r": [
          0.6236604288126391,
          0.5149999945941076,
          0.47437525084159915,
          0.74342951601409,
          0.654203081358681,
          0.06426769331463858,
          0.4111605324767853,
          0.07202016197405171,
          0.20602746193350754,
          0.6463445986124876,
          0.7740336967294351,
          0.4739787664655205,
          0.6236604288126391
         ],
         "theta": [
          "danceability",
          "energy",
          "key",
          "loudness",
          "mode",
          "speechiness",
          "acousticness",
          "instrumentalness",
          "liveness",
          "valence",
          "time_signature",
          "tempo",
          "danceability"
         ],
         "type": "scatterpolar"
        },
        {
         "fill": "none",
         "mode": "lines",
         "name": "british",
         "r": [
          0.41790835078874855,
          0.4176984608716293,
          0.46065669992749375,
          0.671140591566009,
          0.7113558678313711,
          0.06382825226856836,
          0.5576753828054336,
          0.3098267692176225,
          0.22114480630459551,
          0.3975369445499431,
          0.7583554880364604,
          0.46113399132056027,
          0.41790835078874855
         ],
         "theta": [
          "danceability",
          "energy",
          "key",
          "loudness",
          "mode",
          "speechiness",
          "acousticness",
          "instrumentalness",
          "liveness",
          "valence",
          "time_signature",
          "tempo",
          "danceability"
         ],
         "type": "scatterpolar"
        }
       ],
       "layout": {
        "autosize": true,
        "polar": {
         "angularaxis": {
          "type": "category"
         },
         "radialaxis": {
          "autorange": true,
          "range": [
           0,
           0.9042840602084138
          ],
          "type": "linear"
         }
        },
        "template": {
         "data": {
          "bar": [
           {
            "error_x": {
             "color": "#2a3f5f"
            },
            "error_y": {
             "color": "#2a3f5f"
            },
            "marker": {
             "line": {
              "color": "#E5ECF6",
              "width": 0.5
             },
             "pattern": {
              "fillmode": "overlay",
              "size": 10,
              "solidity": 0.2
             }
            },
            "type": "bar"
           }
          ],
          "barpolar": [
           {
            "marker": {
             "line": {
              "color": "#E5ECF6",
              "width": 0.5
             },
             "pattern": {
              "fillmode": "overlay",
              "size": 10,
              "solidity": 0.2
             }
            },
            "type": "barpolar"
           }
          ],
          "carpet": [
           {
            "aaxis": {
             "endlinecolor": "#2a3f5f",
             "gridcolor": "white",
             "linecolor": "white",
             "minorgridcolor": "white",
             "startlinecolor": "#2a3f5f"
            },
            "baxis": {
             "endlinecolor": "#2a3f5f",
             "gridcolor": "white",
             "linecolor": "white",
             "minorgridcolor": "white",
             "startlinecolor": "#2a3f5f"
            },
            "type": "carpet"
           }
          ],
          "choropleth": [
           {
            "colorbar": {
             "outlinewidth": 0,
             "ticks": ""
            },
            "type": "choropleth"
           }
          ],
          "contour": [
           {
            "colorbar": {
             "outlinewidth": 0,
             "ticks": ""
            },
            "colorscale": [
             [
              0,
              "#0d0887"
             ],
             [
              0.1111111111111111,
              "#46039f"
             ],
             [
              0.2222222222222222,
              "#7201a8"
             ],
             [
              0.3333333333333333,
              "#9c179e"
             ],
             [
              0.4444444444444444,
              "#bd3786"
             ],
             [
              0.5555555555555556,
              "#d8576b"
             ],
             [
              0.6666666666666666,
              "#ed7953"
             ],
             [
              0.7777777777777778,
              "#fb9f3a"
             ],
             [
              0.8888888888888888,
              "#fdca26"
             ],
             [
              1,
              "#f0f921"
             ]
            ],
            "type": "contour"
           }
          ],
          "contourcarpet": [
           {
            "colorbar": {
             "outlinewidth": 0,
             "ticks": ""
            },
            "type": "contourcarpet"
           }
          ],
          "heatmap": [
           {
            "colorbar": {
             "outlinewidth": 0,
             "ticks": ""
            },
            "colorscale": [
             [
              0,
              "#0d0887"
             ],
             [
              0.1111111111111111,
              "#46039f"
             ],
             [
              0.2222222222222222,
              "#7201a8"
             ],
             [
              0.3333333333333333,
              "#9c179e"
             ],
             [
              0.4444444444444444,
              "#bd3786"
             ],
             [
              0.5555555555555556,
              "#d8576b"
             ],
             [
              0.6666666666666666,
              "#ed7953"
             ],
             [
              0.7777777777777778,
              "#fb9f3a"
             ],
             [
              0.8888888888888888,
              "#fdca26"
             ],
             [
              1,
              "#f0f921"
             ]
            ],
            "type": "heatmap"
           }
          ],
          "heatmapgl": [
           {
            "colorbar": {
             "outlinewidth": 0,
             "ticks": ""
            },
            "colorscale": [
             [
              0,
              "#0d0887"
             ],
             [
              0.1111111111111111,
              "#46039f"
             ],
             [
              0.2222222222222222,
              "#7201a8"
             ],
             [
              0.3333333333333333,
              "#9c179e"
             ],
             [
              0.4444444444444444,
              "#bd3786"
             ],
             [
              0.5555555555555556,
              "#d8576b"
             ],
             [
              0.6666666666666666,
              "#ed7953"
             ],
             [
              0.7777777777777778,
              "#fb9f3a"
             ],
             [
              0.8888888888888888,
              "#fdca26"
             ],
             [
              1,
              "#f0f921"
             ]
            ],
            "type": "heatmapgl"
           }
          ],
          "histogram": [
           {
            "marker": {
             "pattern": {
              "fillmode": "overlay",
              "size": 10,
              "solidity": 0.2
             }
            },
            "type": "histogram"
           }
          ],
          "histogram2d": [
           {
            "colorbar": {
             "outlinewidth": 0,
             "ticks": ""
            },
            "colorscale": [
             [
              0,
              "#0d0887"
             ],
             [
              0.1111111111111111,
              "#46039f"
             ],
             [
              0.2222222222222222,
              "#7201a8"
             ],
             [
              0.3333333333333333,
              "#9c179e"
             ],
             [
              0.4444444444444444,
              "#bd3786"
             ],
             [
              0.5555555555555556,
              "#d8576b"
             ],
             [
              0.6666666666666666,
              "#ed7953"
             ],
             [
              0.7777777777777778,
              "#fb9f3a"
             ],
             [
              0.8888888888888888,
              "#fdca26"
             ],
             [
              1,
              "#f0f921"
             ]
            ],
            "type": "histogram2d"
           }
          ],
          "histogram2dcontour": [
           {
            "colorbar": {
             "outlinewidth": 0,
             "ticks": ""
            },
            "colorscale": [
             [
              0,
              "#0d0887"
             ],
             [
              0.1111111111111111,
              "#46039f"
             ],
             [
              0.2222222222222222,
              "#7201a8"
             ],
             [
              0.3333333333333333,
              "#9c179e"
             ],
             [
              0.4444444444444444,
              "#bd3786"
             ],
             [
              0.5555555555555556,
              "#d8576b"
             ],
             [
              0.6666666666666666,
              "#ed7953"
             ],
             [
              0.7777777777777778,
              "#fb9f3a"
             ],
             [
              0.8888888888888888,
              "#fdca26"
             ],
             [
              1,
              "#f0f921"
             ]
            ],
            "type": "histogram2dcontour"
           }
          ],
          "mesh3d": [
           {
            "colorbar": {
             "outlinewidth": 0,
             "ticks": ""
            },
            "type": "mesh3d"
           }
          ],
          "parcoords": [
           {
            "line": {
             "colorbar": {
              "outlinewidth": 0,
              "ticks": ""
             }
            },
            "type": "parcoords"
           }
          ],
          "pie": [
           {
            "automargin": true,
            "type": "pie"
           }
          ],
          "scatter": [
           {
            "fillpattern": {
             "fillmode": "overlay",
             "size": 10,
             "solidity": 0.2
            },
            "type": "scatter"
           }
          ],
          "scatter3d": [
           {
            "line": {
             "colorbar": {
              "outlinewidth": 0,
              "ticks": ""
             }
            },
            "marker": {
             "colorbar": {
              "outlinewidth": 0,
              "ticks": ""
             }
            },
            "type": "scatter3d"
           }
          ],
          "scattercarpet": [
           {
            "marker": {
             "colorbar": {
              "outlinewidth": 0,
              "ticks": ""
             }
            },
            "type": "scattercarpet"
           }
          ],
          "scattergeo": [
           {
            "marker": {
             "colorbar": {
              "outlinewidth": 0,
              "ticks": ""
             }
            },
            "type": "scattergeo"
           }
          ],
          "scattergl": [
           {
            "marker": {
             "colorbar": {
              "outlinewidth": 0,
              "ticks": ""
             }
            },
            "type": "scattergl"
           }
          ],
          "scattermapbox": [
           {
            "marker": {
             "colorbar": {
              "outlinewidth": 0,
              "ticks": ""
             }
            },
            "type": "scattermapbox"
           }
          ],
          "scatterpolar": [
           {
            "marker": {
             "colorbar": {
              "outlinewidth": 0,
              "ticks": ""
             }
            },
            "type": "scatterpolar"
           }
          ],
          "scatterpolargl": [
           {
            "marker": {
             "colorbar": {
              "outlinewidth": 0,
              "ticks": ""
             }
            },
            "type": "scatterpolargl"
           }
          ],
          "scatterternary": [
           {
            "marker": {
             "colorbar": {
              "outlinewidth": 0,
              "ticks": ""
             }
            },
            "type": "scatterternary"
           }
          ],
          "surface": [
           {
            "colorbar": {
             "outlinewidth": 0,
             "ticks": ""
            },
            "colorscale": [
             [
              0,
              "#0d0887"
             ],
             [
              0.1111111111111111,
              "#46039f"
             ],
             [
              0.2222222222222222,
              "#7201a8"
             ],
             [
              0.3333333333333333,
              "#9c179e"
             ],
             [
              0.4444444444444444,
              "#bd3786"
             ],
             [
              0.5555555555555556,
              "#d8576b"
             ],
             [
              0.6666666666666666,
              "#ed7953"
             ],
             [
              0.7777777777777778,
              "#fb9f3a"
             ],
             [
              0.8888888888888888,
              "#fdca26"
             ],
             [
              1,
              "#f0f921"
             ]
            ],
            "type": "surface"
           }
          ],
          "table": [
           {
            "cells": {
             "fill": {
              "color": "#EBF0F8"
             },
             "line": {
              "color": "white"
             }
            },
            "header": {
             "fill": {
              "color": "#C8D4E3"
             },
             "line": {
              "color": "white"
             }
            },
            "type": "table"
           }
          ]
         },
         "layout": {
          "annotationdefaults": {
           "arrowcolor": "#2a3f5f",
           "arrowhead": 0,
           "arrowwidth": 1
          },
          "autotypenumbers": "strict",
          "coloraxis": {
           "colorbar": {
            "outlinewidth": 0,
            "ticks": ""
           }
          },
          "colorscale": {
           "diverging": [
            [
             0,
             "#8e0152"
            ],
            [
             0.1,
             "#c51b7d"
            ],
            [
             0.2,
             "#de77ae"
            ],
            [
             0.3,
             "#f1b6da"
            ],
            [
             0.4,
             "#fde0ef"
            ],
            [
             0.5,
             "#f7f7f7"
            ],
            [
             0.6,
             "#e6f5d0"
            ],
            [
             0.7,
             "#b8e186"
            ],
            [
             0.8,
             "#7fbc41"
            ],
            [
             0.9,
             "#4d9221"
            ],
            [
             1,
             "#276419"
            ]
           ],
           "sequential": [
            [
             0,
             "#0d0887"
            ],
            [
             0.1111111111111111,
             "#46039f"
            ],
            [
             0.2222222222222222,
             "#7201a8"
            ],
            [
             0.3333333333333333,
             "#9c179e"
            ],
            [
             0.4444444444444444,
             "#bd3786"
            ],
            [
             0.5555555555555556,
             "#d8576b"
            ],
            [
             0.6666666666666666,
             "#ed7953"
            ],
            [
             0.7777777777777778,
             "#fb9f3a"
            ],
            [
             0.8888888888888888,
             "#fdca26"
            ],
            [
             1,
             "#f0f921"
            ]
           ],
           "sequentialminus": [
            [
             0,
             "#0d0887"
            ],
            [
             0.1111111111111111,
             "#46039f"
            ],
            [
             0.2222222222222222,
             "#7201a8"
            ],
            [
             0.3333333333333333,
             "#9c179e"
            ],
            [
             0.4444444444444444,
             "#bd3786"
            ],
            [
             0.5555555555555556,
             "#d8576b"
            ],
            [
             0.6666666666666666,
             "#ed7953"
            ],
            [
             0.7777777777777778,
             "#fb9f3a"
            ],
            [
             0.8888888888888888,
             "#fdca26"
            ],
            [
             1,
             "#f0f921"
            ]
           ]
          },
          "colorway": [
           "#636efa",
           "#EF553B",
           "#00cc96",
           "#ab63fa",
           "#FFA15A",
           "#19d3f3",
           "#FF6692",
           "#B6E880",
           "#FF97FF",
           "#FECB52"
          ],
          "font": {
           "color": "#2a3f5f"
          },
          "geo": {
           "bgcolor": "white",
           "lakecolor": "white",
           "landcolor": "#E5ECF6",
           "showlakes": true,
           "showland": true,
           "subunitcolor": "white"
          },
          "hoverlabel": {
           "align": "left"
          },
          "hovermode": "closest",
          "mapbox": {
           "style": "light"
          },
          "paper_bgcolor": "white",
          "plot_bgcolor": "#E5ECF6",
          "polar": {
           "angularaxis": {
            "gridcolor": "white",
            "linecolor": "white",
            "ticks": ""
           },
           "bgcolor": "#E5ECF6",
           "radialaxis": {
            "gridcolor": "white",
            "linecolor": "white",
            "ticks": ""
           }
          },
          "scene": {
           "xaxis": {
            "backgroundcolor": "#E5ECF6",
            "gridcolor": "white",
            "gridwidth": 2,
            "linecolor": "white",
            "showbackground": true,
            "ticks": "",
            "zerolinecolor": "white"
           },
           "yaxis": {
            "backgroundcolor": "#E5ECF6",
            "gridcolor": "white",
            "gridwidth": 2,
            "linecolor": "white",
            "showbackground": true,
            "ticks": "",
            "zerolinecolor": "white"
           },
           "zaxis": {
            "backgroundcolor": "#E5ECF6",
            "gridcolor": "white",
            "gridwidth": 2,
            "linecolor": "white",
            "showbackground": true,
            "ticks": "",
            "zerolinecolor": "white"
           }
          },
          "shapedefaults": {
           "line": {
            "color": "#2a3f5f"
           }
          },
          "ternary": {
           "aaxis": {
            "gridcolor": "white",
            "linecolor": "white",
            "ticks": ""
           },
           "baxis": {
            "gridcolor": "white",
            "linecolor": "white",
            "ticks": ""
           },
           "bgcolor": "#E5ECF6",
           "caxis": {
            "gridcolor": "white",
            "linecolor": "white",
            "ticks": ""
           }
          },
          "title": {
           "x": 0.05
          },
          "xaxis": {
           "automargin": true,
           "gridcolor": "white",
           "linecolor": "white",
           "ticks": "",
           "title": {
            "standoff": 15
           },
           "zerolinecolor": "white",
           "zerolinewidth": 2
          },
          "yaxis": {
           "automargin": true,
           "gridcolor": "white",
           "linecolor": "white",
           "ticks": "",
           "title": {
            "standoff": 15
           },
           "zerolinecolor": "white",
           "zerolinewidth": 2
          }
         }
        }
       }
      },
      "text/html": [
       "<div>                            <div id=\"66e31d28-dba2-47ea-b61b-e820709a1c43\" class=\"plotly-graph-div\" style=\"height:1000px; width:100%;\"></div>            <script type=\"text/javascript\">                require([\"plotly\"], function(Plotly) {                    window.PLOTLYENV=window.PLOTLYENV || {};                                    if (document.getElementById(\"66e31d28-dba2-47ea-b61b-e820709a1c43\")) {                    Plotly.newPlot(                        \"66e31d28-dba2-47ea-b61b-e820709a1c43\",                        [{\"fill\":\"none\",\"mode\":\"lines\",\"name\":\"pop\",\"r\":[0.5592196495194354,0.5477276334938785,0.46939027022723834,0.7658286278958996,0.6873158080867617,0.05939720610747157,0.4572561851291087,0.04975360238384332,0.2233918203634159,0.5991417473602668,0.7734864687357911,0.4897787640897645,0.5592196495194354],\"theta\":[\"danceability\",\"energy\",\"key\",\"loudness\",\"mode\",\"speechiness\",\"acousticness\",\"instrumentalness\",\"liveness\",\"valence\",\"time_signature\",\"tempo\",\"danceability\"],\"type\":\"scatterpolar\"},{\"fill\":\"none\",\"mode\":\"lines\",\"name\":\"rock\",\"r\":[0.5304254204090675,0.6377964199712568,0.4784188292678206,0.7669158582926038,0.709245755043381,0.06590877087945904,0.2609993978050917,0.09839999770990579,0.25108964773513603,0.569256270825571,0.7839442167456222,0.5044174487284168,0.5304254204090675],\"theta\":[\"danceability\",\"energy\",\"key\",\"loudness\",\"mode\",\"speechiness\",\"acousticness\",\"instrumentalness\",\"liveness\",\"valence\",\"time_signature\",\"tempo\",\"danceability\"],\"type\":\"scatterpolar\"},{\"fill\":\"none\",\"mode\":\"lines\",\"name\":\"german\",\"r\":[0.3641761171553261,0.23009223514780675,0.4663714384788766,0.5998642877960478,0.6763350286077559,0.0731872313918238,0.8241338772862695,0.41592269127569403,0.1864142667938123,0.34233802712439076,0.7430546726001274,0.4362229732794592,0.3641761171553261],\"theta\":[\"danceability\",\"energy\",\"key\",\"loudness\",\"mode\",\"speechiness\",\"acousticness\",\"instrumentalness\",\"liveness\",\"valence\",\"time_signature\",\"tempo\",\"danceability\"],\"type\":\"scatterpolar\"},{\"fill\":\"none\",\"mode\":\"lines\",\"name\":\"punk\",\"r\":[0.43698989143581723,0.7805567745128733,0.4903436007864432,0.7912774672980606,0.6811946446961895,0.08236135108221056,0.10864820256597968,0.1933694978661174,0.25912817301750773,0.5243158558187435,0.7874933058702369,0.5264279004200616,0.43698989143581723],\"theta\":[\"danceability\",\"energy\",\"key\",\"loudness\",\"mode\",\"speechiness\",\"acousticness\",\"instrumentalness\",\"liveness\",\"valence\",\"time_signature\",\"tempo\",\"danceability\"],\"type\":\"scatterpolar\"},{\"fill\":\"none\",\"mode\":\"lines\",\"name\":\"metal\",\"r\":[0.3835779010325768,0.8294969143455364,0.49746497395758227,0.7995591353700302,0.6199479728443626,0.08185796119829206,0.055227446073234,0.1923866505748366,0.2899599593934395,0.39912940803248526,0.7882494765560563,0.5109767989975771,0.3835779010325768],\"theta\":[\"danceability\",\"energy\",\"key\",\"loudness\",\"mode\",\"speechiness\",\"acousticness\",\"instrumentalness\",\"liveness\",\"valence\",\"time_signature\",\"tempo\",\"danceability\"],\"type\":\"scatterpolar\"},{\"fill\":\"none\",\"mode\":\"lines\",\"name\":\"country\",\"r\":[0.5739065559281112,0.46220270937861824,0.4658257604996316,0.7321042595934364,0.9042840602084138,0.05031638310404846,0.4476258379523497,0.02790041075775119,0.21859258973369355,0.5958693876238261,0.7717097645696644,0.48633452301040403,0.5739065559281112],\"theta\":[\"danceability\",\"energy\",\"key\",\"loudness\",\"mode\",\"speechiness\",\"acousticness\",\"instrumentalness\",\"liveness\",\"valence\",\"time_signature\",\"tempo\",\"danceability\"],\"type\":\"scatterpolar\"},{\"fill\":\"none\",\"mode\":\"lines\",\"name\":\"blues\",\"r\":[0.5433436549993248,0.5193048620096633,0.46696346810997535,0.7353878881383682,0.7530914748996806,0.07169298816742256,0.43707244078928115,0.11034226226517076,0.262180468430104,0.6103078617639833,0.7650806649742037,0.4972508061441453,0.5433436549993248],\"theta\":[\"danceability\",\"energy\",\"key\",\"loudness\",\"mode\",\"speechiness\",\"acousticness\",\"instrumentalness\",\"liveness\",\"valence\",\"time_signature\",\"tempo\",\"danceability\"],\"type\":\"scatterpolar\"},{\"fill\":\"none\",\"mode\":\"lines\",\"name\":\"hard-rock\",\"r\":[0.4277067555433849,0.8028465820396261,0.4916061723678158,0.7980127240581728,0.6657517797409727,0.07075454779374499,0.07594307817943013,0.13003601810532636,0.318748975040741,0.47552390427995544,0.7898276009949398,0.5167370291402124,0.4277067555433849],\"theta\":[\"danceability\",\"energy\",\"key\",\"loudness\",\"mode\",\"speechiness\",\"acousticness\",\"instrumentalness\",\"liveness\",\"valence\",\"time_signature\",\"tempo\",\"danceability\"],\"type\":\"scatterpolar\"},{\"fill\":\"none\",\"mode\":\"lines\",\"name\":\"soul\",\"r\":[0.6236604288126391,0.5149999945941076,0.47437525084159915,0.74342951601409,0.654203081358681,0.06426769331463858,0.4111605324767853,0.07202016197405171,0.20602746193350754,0.6463445986124876,0.7740336967294351,0.4739787664655205,0.6236604288126391],\"theta\":[\"danceability\",\"energy\",\"key\",\"loudness\",\"mode\",\"speechiness\",\"acousticness\",\"instrumentalness\",\"liveness\",\"valence\",\"time_signature\",\"tempo\",\"danceability\"],\"type\":\"scatterpolar\"},{\"fill\":\"none\",\"mode\":\"lines\",\"name\":\"british\",\"r\":[0.41790835078874855,0.4176984608716293,0.46065669992749375,0.671140591566009,0.7113558678313711,0.06382825226856836,0.5576753828054336,0.3098267692176225,0.22114480630459551,0.3975369445499431,0.7583554880364604,0.46113399132056027,0.41790835078874855],\"theta\":[\"danceability\",\"energy\",\"key\",\"loudness\",\"mode\",\"speechiness\",\"acousticness\",\"instrumentalness\",\"liveness\",\"valence\",\"time_signature\",\"tempo\",\"danceability\"],\"type\":\"scatterpolar\"}],                        {\"template\":{\"data\":{\"histogram2dcontour\":[{\"type\":\"histogram2dcontour\",\"colorbar\":{\"outlinewidth\":0,\"ticks\":\"\"},\"colorscale\":[[0.0,\"#0d0887\"],[0.1111111111111111,\"#46039f\"],[0.2222222222222222,\"#7201a8\"],[0.3333333333333333,\"#9c179e\"],[0.4444444444444444,\"#bd3786\"],[0.5555555555555556,\"#d8576b\"],[0.6666666666666666,\"#ed7953\"],[0.7777777777777778,\"#fb9f3a\"],[0.8888888888888888,\"#fdca26\"],[1.0,\"#f0f921\"]]}],\"choropleth\":[{\"type\":\"choropleth\",\"colorbar\":{\"outlinewidth\":0,\"ticks\":\"\"}}],\"histogram2d\":[{\"type\":\"histogram2d\",\"colorbar\":{\"outlinewidth\":0,\"ticks\":\"\"},\"colorscale\":[[0.0,\"#0d0887\"],[0.1111111111111111,\"#46039f\"],[0.2222222222222222,\"#7201a8\"],[0.3333333333333333,\"#9c179e\"],[0.4444444444444444,\"#bd3786\"],[0.5555555555555556,\"#d8576b\"],[0.6666666666666666,\"#ed7953\"],[0.7777777777777778,\"#fb9f3a\"],[0.8888888888888888,\"#fdca26\"],[1.0,\"#f0f921\"]]}],\"heatmap\":[{\"type\":\"heatmap\",\"colorbar\":{\"outlinewidth\":0,\"ticks\":\"\"},\"colorscale\":[[0.0,\"#0d0887\"],[0.1111111111111111,\"#46039f\"],[0.2222222222222222,\"#7201a8\"],[0.3333333333333333,\"#9c179e\"],[0.4444444444444444,\"#bd3786\"],[0.5555555555555556,\"#d8576b\"],[0.6666666666666666,\"#ed7953\"],[0.7777777777777778,\"#fb9f3a\"],[0.8888888888888888,\"#fdca26\"],[1.0,\"#f0f921\"]]}],\"heatmapgl\":[{\"type\":\"heatmapgl\",\"colorbar\":{\"outlinewidth\":0,\"ticks\":\"\"},\"colorscale\":[[0.0,\"#0d0887\"],[0.1111111111111111,\"#46039f\"],[0.2222222222222222,\"#7201a8\"],[0.3333333333333333,\"#9c179e\"],[0.4444444444444444,\"#bd3786\"],[0.5555555555555556,\"#d8576b\"],[0.6666666666666666,\"#ed7953\"],[0.7777777777777778,\"#fb9f3a\"],[0.8888888888888888,\"#fdca26\"],[1.0,\"#f0f921\"]]}],\"contourcarpet\":[{\"type\":\"contourcarpet\",\"colorbar\":{\"outlinewidth\":0,\"ticks\":\"\"}}],\"contour\":[{\"type\":\"contour\",\"colorbar\":{\"outlinewidth\":0,\"ticks\":\"\"},\"colorscale\":[[0.0,\"#0d0887\"],[0.1111111111111111,\"#46039f\"],[0.2222222222222222,\"#7201a8\"],[0.3333333333333333,\"#9c179e\"],[0.4444444444444444,\"#bd3786\"],[0.5555555555555556,\"#d8576b\"],[0.6666666666666666,\"#ed7953\"],[0.7777777777777778,\"#fb9f3a\"],[0.8888888888888888,\"#fdca26\"],[1.0,\"#f0f921\"]]}],\"surface\":[{\"type\":\"surface\",\"colorbar\":{\"outlinewidth\":0,\"ticks\":\"\"},\"colorscale\":[[0.0,\"#0d0887\"],[0.1111111111111111,\"#46039f\"],[0.2222222222222222,\"#7201a8\"],[0.3333333333333333,\"#9c179e\"],[0.4444444444444444,\"#bd3786\"],[0.5555555555555556,\"#d8576b\"],[0.6666666666666666,\"#ed7953\"],[0.7777777777777778,\"#fb9f3a\"],[0.8888888888888888,\"#fdca26\"],[1.0,\"#f0f921\"]]}],\"mesh3d\":[{\"type\":\"mesh3d\",\"colorbar\":{\"outlinewidth\":0,\"ticks\":\"\"}}],\"scatter\":[{\"fillpattern\":{\"fillmode\":\"overlay\",\"size\":10,\"solidity\":0.2},\"type\":\"scatter\"}],\"parcoords\":[{\"type\":\"parcoords\",\"line\":{\"colorbar\":{\"outlinewidth\":0,\"ticks\":\"\"}}}],\"scatterpolargl\":[{\"type\":\"scatterpolargl\",\"marker\":{\"colorbar\":{\"outlinewidth\":0,\"ticks\":\"\"}}}],\"bar\":[{\"error_x\":{\"color\":\"#2a3f5f\"},\"error_y\":{\"color\":\"#2a3f5f\"},\"marker\":{\"line\":{\"color\":\"#E5ECF6\",\"width\":0.5},\"pattern\":{\"fillmode\":\"overlay\",\"size\":10,\"solidity\":0.2}},\"type\":\"bar\"}],\"scattergeo\":[{\"type\":\"scattergeo\",\"marker\":{\"colorbar\":{\"outlinewidth\":0,\"ticks\":\"\"}}}],\"scatterpolar\":[{\"type\":\"scatterpolar\",\"marker\":{\"colorbar\":{\"outlinewidth\":0,\"ticks\":\"\"}}}],\"histogram\":[{\"marker\":{\"pattern\":{\"fillmode\":\"overlay\",\"size\":10,\"solidity\":0.2}},\"type\":\"histogram\"}],\"scattergl\":[{\"type\":\"scattergl\",\"marker\":{\"colorbar\":{\"outlinewidth\":0,\"ticks\":\"\"}}}],\"scatter3d\":[{\"type\":\"scatter3d\",\"line\":{\"colorbar\":{\"outlinewidth\":0,\"ticks\":\"\"}},\"marker\":{\"colorbar\":{\"outlinewidth\":0,\"ticks\":\"\"}}}],\"scattermapbox\":[{\"type\":\"scattermapbox\",\"marker\":{\"colorbar\":{\"outlinewidth\":0,\"ticks\":\"\"}}}],\"scatterternary\":[{\"type\":\"scatterternary\",\"marker\":{\"colorbar\":{\"outlinewidth\":0,\"ticks\":\"\"}}}],\"scattercarpet\":[{\"type\":\"scattercarpet\",\"marker\":{\"colorbar\":{\"outlinewidth\":0,\"ticks\":\"\"}}}],\"carpet\":[{\"aaxis\":{\"endlinecolor\":\"#2a3f5f\",\"gridcolor\":\"white\",\"linecolor\":\"white\",\"minorgridcolor\":\"white\",\"startlinecolor\":\"#2a3f5f\"},\"baxis\":{\"endlinecolor\":\"#2a3f5f\",\"gridcolor\":\"white\",\"linecolor\":\"white\",\"minorgridcolor\":\"white\",\"startlinecolor\":\"#2a3f5f\"},\"type\":\"carpet\"}],\"table\":[{\"cells\":{\"fill\":{\"color\":\"#EBF0F8\"},\"line\":{\"color\":\"white\"}},\"header\":{\"fill\":{\"color\":\"#C8D4E3\"},\"line\":{\"color\":\"white\"}},\"type\":\"table\"}],\"barpolar\":[{\"marker\":{\"line\":{\"color\":\"#E5ECF6\",\"width\":0.5},\"pattern\":{\"fillmode\":\"overlay\",\"size\":10,\"solidity\":0.2}},\"type\":\"barpolar\"}],\"pie\":[{\"automargin\":true,\"type\":\"pie\"}]},\"layout\":{\"autotypenumbers\":\"strict\",\"colorway\":[\"#636efa\",\"#EF553B\",\"#00cc96\",\"#ab63fa\",\"#FFA15A\",\"#19d3f3\",\"#FF6692\",\"#B6E880\",\"#FF97FF\",\"#FECB52\"],\"font\":{\"color\":\"#2a3f5f\"},\"hovermode\":\"closest\",\"hoverlabel\":{\"align\":\"left\"},\"paper_bgcolor\":\"white\",\"plot_bgcolor\":\"#E5ECF6\",\"polar\":{\"bgcolor\":\"#E5ECF6\",\"angularaxis\":{\"gridcolor\":\"white\",\"linecolor\":\"white\",\"ticks\":\"\"},\"radialaxis\":{\"gridcolor\":\"white\",\"linecolor\":\"white\",\"ticks\":\"\"}},\"ternary\":{\"bgcolor\":\"#E5ECF6\",\"aaxis\":{\"gridcolor\":\"white\",\"linecolor\":\"white\",\"ticks\":\"\"},\"baxis\":{\"gridcolor\":\"white\",\"linecolor\":\"white\",\"ticks\":\"\"},\"caxis\":{\"gridcolor\":\"white\",\"linecolor\":\"white\",\"ticks\":\"\"}},\"coloraxis\":{\"colorbar\":{\"outlinewidth\":0,\"ticks\":\"\"}},\"colorscale\":{\"sequential\":[[0.0,\"#0d0887\"],[0.1111111111111111,\"#46039f\"],[0.2222222222222222,\"#7201a8\"],[0.3333333333333333,\"#9c179e\"],[0.4444444444444444,\"#bd3786\"],[0.5555555555555556,\"#d8576b\"],[0.6666666666666666,\"#ed7953\"],[0.7777777777777778,\"#fb9f3a\"],[0.8888888888888888,\"#fdca26\"],[1.0,\"#f0f921\"]],\"sequentialminus\":[[0.0,\"#0d0887\"],[0.1111111111111111,\"#46039f\"],[0.2222222222222222,\"#7201a8\"],[0.3333333333333333,\"#9c179e\"],[0.4444444444444444,\"#bd3786\"],[0.5555555555555556,\"#d8576b\"],[0.6666666666666666,\"#ed7953\"],[0.7777777777777778,\"#fb9f3a\"],[0.8888888888888888,\"#fdca26\"],[1.0,\"#f0f921\"]],\"diverging\":[[0,\"#8e0152\"],[0.1,\"#c51b7d\"],[0.2,\"#de77ae\"],[0.3,\"#f1b6da\"],[0.4,\"#fde0ef\"],[0.5,\"#f7f7f7\"],[0.6,\"#e6f5d0\"],[0.7,\"#b8e186\"],[0.8,\"#7fbc41\"],[0.9,\"#4d9221\"],[1,\"#276419\"]]},\"xaxis\":{\"gridcolor\":\"white\",\"linecolor\":\"white\",\"ticks\":\"\",\"title\":{\"standoff\":15},\"zerolinecolor\":\"white\",\"automargin\":true,\"zerolinewidth\":2},\"yaxis\":{\"gridcolor\":\"white\",\"linecolor\":\"white\",\"ticks\":\"\",\"title\":{\"standoff\":15},\"zerolinecolor\":\"white\",\"automargin\":true,\"zerolinewidth\":2},\"scene\":{\"xaxis\":{\"backgroundcolor\":\"#E5ECF6\",\"gridcolor\":\"white\",\"linecolor\":\"white\",\"showbackground\":true,\"ticks\":\"\",\"zerolinecolor\":\"white\",\"gridwidth\":2},\"yaxis\":{\"backgroundcolor\":\"#E5ECF6\",\"gridcolor\":\"white\",\"linecolor\":\"white\",\"showbackground\":true,\"ticks\":\"\",\"zerolinecolor\":\"white\",\"gridwidth\":2},\"zaxis\":{\"backgroundcolor\":\"#E5ECF6\",\"gridcolor\":\"white\",\"linecolor\":\"white\",\"showbackground\":true,\"ticks\":\"\",\"zerolinecolor\":\"white\",\"gridwidth\":2}},\"shapedefaults\":{\"line\":{\"color\":\"#2a3f5f\"}},\"annotationdefaults\":{\"arrowcolor\":\"#2a3f5f\",\"arrowhead\":0,\"arrowwidth\":1},\"geo\":{\"bgcolor\":\"white\",\"landcolor\":\"#E5ECF6\",\"subunitcolor\":\"white\",\"showland\":true,\"showlakes\":true,\"lakecolor\":\"white\"},\"title\":{\"x\":0.05},\"mapbox\":{\"style\":\"light\"}}},\"height\":1000},                        {\"responsive\": true}                    ).then(function(){\n",
       "                            \n",
       "var gd = document.getElementById('66e31d28-dba2-47ea-b61b-e820709a1c43');\n",
       "var x = new MutationObserver(function (mutations, observer) {{\n",
       "        var display = window.getComputedStyle(gd).display;\n",
       "        if (!display || display === 'none') {{\n",
       "            console.log([gd, 'removed!']);\n",
       "            Plotly.purge(gd);\n",
       "            observer.disconnect();\n",
       "        }}\n",
       "}});\n",
       "\n",
       "// Listen for the removal of the full notebook cells\n",
       "var notebookContainer = gd.closest('#notebook-container');\n",
       "if (notebookContainer) {{\n",
       "    x.observe(notebookContainer, {childList: true});\n",
       "}}\n",
       "\n",
       "// Listen for the clearing of the current output cell\n",
       "var outputEl = gd.closest('.output');\n",
       "if (outputEl) {{\n",
       "    x.observe(outputEl, {childList: true});\n",
       "}}\n",
       "\n",
       "                        })                };                });            </script>        </div>"
      ]
     },
     "metadata": {},
     "output_type": "display_data"
    }
   ],
   "source": [
    "fig.update_layout(\n",
    "    height = 1000\n",
    ")\n",
    "fig.show()"
   ]
  },
  {
   "cell_type": "code",
   "execution_count": 156,
   "metadata": {},
   "outputs": [
    {
     "data": {
      "text/html": [
       "<div>\n",
       "<style scoped>\n",
       "    .dataframe tbody tr th:only-of-type {\n",
       "        vertical-align: middle;\n",
       "    }\n",
       "\n",
       "    .dataframe tbody tr th {\n",
       "        vertical-align: top;\n",
       "    }\n",
       "\n",
       "    .dataframe thead th {\n",
       "        text-align: right;\n",
       "    }\n",
       "</style>\n",
       "<table border=\"1\" class=\"dataframe\">\n",
       "  <thead>\n",
       "    <tr style=\"text-align: right;\">\n",
       "      <th></th>\n",
       "      <th>feature</th>\n",
       "      <th>mean</th>\n",
       "    </tr>\n",
       "  </thead>\n",
       "  <tbody>\n",
       "    <tr>\n",
       "      <th>0</th>\n",
       "      <td>danceability</td>\n",
       "      <td>0.417908</td>\n",
       "    </tr>\n",
       "    <tr>\n",
       "      <th>1</th>\n",
       "      <td>energy</td>\n",
       "      <td>0.417698</td>\n",
       "    </tr>\n",
       "    <tr>\n",
       "      <th>2</th>\n",
       "      <td>key</td>\n",
       "      <td>0.460657</td>\n",
       "    </tr>\n",
       "    <tr>\n",
       "      <th>3</th>\n",
       "      <td>loudness</td>\n",
       "      <td>0.671141</td>\n",
       "    </tr>\n",
       "    <tr>\n",
       "      <th>4</th>\n",
       "      <td>mode</td>\n",
       "      <td>0.711356</td>\n",
       "    </tr>\n",
       "    <tr>\n",
       "      <th>5</th>\n",
       "      <td>speechiness</td>\n",
       "      <td>0.063828</td>\n",
       "    </tr>\n",
       "    <tr>\n",
       "      <th>6</th>\n",
       "      <td>acousticness</td>\n",
       "      <td>0.557675</td>\n",
       "    </tr>\n",
       "    <tr>\n",
       "      <th>7</th>\n",
       "      <td>instrumentalness</td>\n",
       "      <td>0.309827</td>\n",
       "    </tr>\n",
       "    <tr>\n",
       "      <th>8</th>\n",
       "      <td>liveness</td>\n",
       "      <td>0.221145</td>\n",
       "    </tr>\n",
       "    <tr>\n",
       "      <th>9</th>\n",
       "      <td>valence</td>\n",
       "      <td>0.397537</td>\n",
       "    </tr>\n",
       "    <tr>\n",
       "      <th>10</th>\n",
       "      <td>time_signature</td>\n",
       "      <td>0.758355</td>\n",
       "    </tr>\n",
       "    <tr>\n",
       "      <th>11</th>\n",
       "      <td>tempo</td>\n",
       "      <td>0.461134</td>\n",
       "    </tr>\n",
       "    <tr>\n",
       "      <th>12</th>\n",
       "      <td>danceability</td>\n",
       "      <td>0.417908</td>\n",
       "    </tr>\n",
       "  </tbody>\n",
       "</table>\n",
       "</div>"
      ],
      "text/plain": [
       "             feature      mean\n",
       "0       danceability  0.417908\n",
       "1             energy  0.417698\n",
       "2                key  0.460657\n",
       "3           loudness  0.671141\n",
       "4               mode  0.711356\n",
       "5        speechiness  0.063828\n",
       "6       acousticness  0.557675\n",
       "7   instrumentalness  0.309827\n",
       "8           liveness  0.221145\n",
       "9            valence  0.397537\n",
       "10    time_signature  0.758355\n",
       "11             tempo  0.461134\n",
       "12      danceability  0.417908"
      ]
     },
     "execution_count": 156,
     "metadata": {},
     "output_type": "execute_result"
    }
   ],
   "source": [
    "df_radar"
   ]
  },
  {
   "cell_type": "code",
   "execution_count": null,
   "metadata": {},
   "outputs": [],
   "source": []
  }
 ],
 "metadata": {
  "kernelspec": {
   "display_name": "Python 3 (ipykernel)",
   "language": "python",
   "name": "python3"
  },
  "language_info": {
   "codemirror_mode": {
    "name": "ipython",
    "version": 3
   },
   "file_extension": ".py",
   "mimetype": "text/x-python",
   "name": "python",
   "nbconvert_exporter": "python",
   "pygments_lexer": "ipython3",
   "version": "3.10.11"
  }
 },
 "nbformat": 4,
 "nbformat_minor": 4
}
