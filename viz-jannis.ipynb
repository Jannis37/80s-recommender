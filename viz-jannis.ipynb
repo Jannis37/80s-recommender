{
 "cells": [
  {
   "attachments": {},
   "cell_type": "markdown",
   "metadata": {
    "editable": true,
    "slideshow": {
     "slide_type": ""
    },
    "tags": []
   },
   "source": [
    "# Visualizations"
   ]
  },
  {
   "attachments": {},
   "cell_type": "markdown",
   "metadata": {},
   "source": [
    "## Imports"
   ]
  },
  {
   "cell_type": "code",
   "execution_count": null,
   "metadata": {
    "editable": true,
    "slideshow": {
     "slide_type": "skip"
    },
    "tags": []
   },
   "outputs": [],
   "source": [
    "import pandas as pd\n",
    "import altair as alt\n",
    "import plotly.express as px\n",
    "import plotly.graph_objects as go\n",
    "from sklearn.preprocessing import MinMaxScaler"
   ]
  },
  {
   "attachments": {},
   "cell_type": "markdown",
   "metadata": {},
   "source": [
    "## Preprocessing"
   ]
  },
  {
   "cell_type": "code",
   "execution_count": null,
   "metadata": {
    "editable": true,
    "slideshow": {
     "slide_type": "skip"
    },
    "tags": []
   },
   "outputs": [],
   "source": [
    "by_isrc = pd.read_csv('data/checkpoint/by_isrc_oldest.csv')"
   ]
  },
  {
   "cell_type": "code",
   "execution_count": null,
   "metadata": {
    "editable": true,
    "scrolled": true,
    "slideshow": {
     "slide_type": "skip"
    },
    "tags": []
   },
   "outputs": [],
   "source": [
    "by_isrc.head().T"
   ]
  },
  {
   "attachments": {},
   "cell_type": "markdown",
   "metadata": {},
   "source": [
    "### Find the biggest genres"
   ]
  },
  {
   "cell_type": "code",
   "execution_count": null,
   "metadata": {
    "editable": true,
    "slideshow": {
     "slide_type": "skip"
    },
    "tags": []
   },
   "outputs": [],
   "source": [
    "remove_genres = [\"classical\", \"jazz\", \"folk\", \"french\", \"turkish\", \"gospel\", \"samba\", \"piano\", \"mpb\", \"sertanejo\", \"pagode\", \"sleep\", \"forro\", \"malay\", \"anime\", \n",
    "                 \"j-idol\", \"comedy\", \"mandopop\", \"cantopop\", \"show-tunes\", \"emo\", \"romance\", \"j-dance\", \"chill\", \"world-music\", \"iranian\", \"idm\", \"metalcore\", \n",
    "                 \"hardstyle\", \"opera\", \"k-pop\", \"j-pop\", \"j-rock\", \"happy\"]"
   ]
  },
  {
   "cell_type": "code",
   "execution_count": null,
   "metadata": {
    "editable": true,
    "slideshow": {
     "slide_type": "skip"
    },
    "tags": []
   },
   "outputs": [],
   "source": [
    "df = pd.read_csv('data/DE/data-neu.csv')\n",
    "df.drop_duplicates(inplace=True)"
   ]
  },
  {
   "cell_type": "code",
   "execution_count": null,
   "metadata": {
    "editable": true,
    "slideshow": {
     "slide_type": "skip"
    },
    "tags": []
   },
   "outputs": [],
   "source": [
    "df.head(2).T"
   ]
  },
  {
   "cell_type": "code",
   "execution_count": null,
   "metadata": {},
   "outputs": [],
   "source": [
    "ct = pd.crosstab(df['isrc'], df['genres'])\n",
    "# ct.reset_index(inplace=True)\n",
    "ct = ct.applymap(lambda x: 1 if x > 1 else x)\n",
    "ct.reset_index(inplace=True)"
   ]
  },
  {
   "cell_type": "code",
   "execution_count": null,
   "metadata": {},
   "outputs": [],
   "source": [
    "# drop genres of the DataFrame\n",
    "ct = ct.set_index('isrc').drop(columns=remove_genres)"
   ]
  },
  {
   "cell_type": "code",
   "execution_count": null,
   "metadata": {},
   "outputs": [],
   "source": [
    "# find all songs which are not assigned to genre anymore and remove them\n",
    "print(f'Shape before removing songs. ct: {ct.shape}; df: {df.shape}')\n",
    "remove_songs = ct[ct.T.sum() == 0].index.to_list()\n",
    "ct.drop(index=remove_songs, inplace=True)\n",
    "df.set_index('isrc', inplace=True)\n",
    "df.drop(index=remove_songs, inplace=True)\n",
    "df.reset_index(inplace=True)\n",
    "print(f'Shape after removing songs. ct: {ct.shape}; df: {df.shape}')"
   ]
  },
  {
   "cell_type": "code",
   "execution_count": null,
   "metadata": {},
   "outputs": [],
   "source": [
    "# count songs per genre\n",
    "ct_sum = ct.sum()\n",
    "ct_sum_df = pd.DataFrame(ct_sum)\n",
    "ct_sum_df.rename(columns={0: 'count'}, inplace=True)\n",
    "sorted_genres = ct_sum_df.sort_values(by='count', ascending=False).index.to_list()"
   ]
  },
  {
   "cell_type": "code",
   "execution_count": null,
   "metadata": {},
   "outputs": [],
   "source": [
    "ct_sum_df.sort_values(by='count', ascending=False)[:10]"
   ]
  },
  {
   "attachments": {},
   "cell_type": "markdown",
   "metadata": {},
   "source": [
    "Biggest genres is pop."
   ]
  },
  {
   "attachments": {},
   "cell_type": "markdown",
   "metadata": {},
   "source": [
    "Count occurences of the top genres per year"
   ]
  },
  {
   "cell_type": "code",
   "execution_count": null,
   "metadata": {},
   "outputs": [],
   "source": [
    "by_isrc_year = by_isrc.copy()\n",
    "by_isrc_year = by_isrc_year[['year', 'isrc']]\n",
    "by_isrc_year = by_isrc_year.merge(ct, on=['isrc'], how='left')\n",
    "by_isrc_year.set_index('year', inplace=True)\n",
    "by_isrc_year = by_isrc_year[sorted_genres[:10]]\n",
    "by_isrc_year = by_isrc_year.groupby('year').sum()\n",
    "by_isrc_year.index = by_isrc_year.index.astype(str)"
   ]
  },
  {
   "cell_type": "code",
   "execution_count": null,
   "metadata": {
    "editable": true,
    "slideshow": {
     "slide_type": ""
    },
    "tags": []
   },
   "outputs": [],
   "source": [
    "by_isrc_year"
   ]
  },
  {
   "attachments": {},
   "cell_type": "markdown",
   "metadata": {},
   "source": [
    "## Development of features over the years"
   ]
  },
  {
   "cell_type": "code",
   "execution_count": null,
   "metadata": {},
   "outputs": [],
   "source": [
    "# remove songs that have not the correct genres\n",
    "df = by_isrc.copy()\n",
    "print(df.shape)\n",
    "df.set_index('isrc', inplace=True)\n",
    "remove_help = []\n",
    "df_index = df.index.to_list()\n",
    "for song_isrc in remove_songs:\n",
    "    if song_isrc in df_index:\n",
    "        remove_help.append(song_isrc)\n",
    "try:\n",
    "    df.drop(index=remove_help, inplace=True)\n",
    "except Exception as e:\n",
    "    print(e)\n",
    "    \n",
    "df.reset_index(inplace=True)\n",
    "print(df.shape)"
   ]
  },
  {
   "cell_type": "code",
   "execution_count": null,
   "metadata": {
    "editable": true,
    "scrolled": true,
    "slideshow": {
     "slide_type": "skip"
    },
    "tags": []
   },
   "outputs": [],
   "source": [
    "# currently not used\n",
    "save = df.copy()\n",
    "df['year_month'] = 0\n",
    "for index, song in df.iterrows():\n",
    "    df.loc[index,'year_month'] = song['year']\n",
    "    if song['release_date_precision'] == 'month':\n",
    "        df.loc[index,'year_month'] += int(song['release_date'][5:7]) / 12\n"
   ]
  },
  {
   "cell_type": "code",
   "execution_count": null,
   "metadata": {
    "editable": true,
    "slideshow": {
     "slide_type": "skip"
    },
    "tags": []
   },
   "outputs": [],
   "source": [
    "per_year_features = ['year', 'popularity', 'danceability', 'energy',\n",
    "                     'key', 'loudness', 'mode', 'speechiness',\n",
    "                     'acousticness', 'instrumentalness', 'liveness',\n",
    "                     'valence', 'tempo', 'duration_ms',\n",
    "                     'time_signature']\n",
    "per_year_agg = {\n",
    "    \"popularity\": 'mean',\n",
    "    'danceability': 'mean', \n",
    "    'energy': 'mean',\n",
    "    'key': 'mean', \n",
    "    'loudness': 'mean', \n",
    "    'mode': 'mean', \n",
    "    'speechiness': 'mean',\n",
    "    'acousticness': 'mean', \n",
    "    'instrumentalness': 'mean', \n",
    "    'liveness': 'mean',\n",
    "    'valence': 'mean', \n",
    "    'tempo': 'mean', \n",
    "    'duration_ms': 'mean',\n",
    "    'time_signature': 'mean',\n",
    "    'count': 'count'\n",
    "}\n",
    "\n",
    "songs_per_year = df.copy()\n",
    "songs_per_year = songs_per_year[per_year_features]\n",
    "songs_per_year['count'] = -1\n",
    "songs_per_year = songs_per_year.groupby(\"year\").agg(per_year_agg)\n",
    "songs_per_year.reset_index(inplace=True)\n",
    "songs_per_year['duration_min'] = songs_per_year['duration_ms'] / (1000 * 60)\n",
    "songs_per_year = songs_per_year.astype({'year': str})"
   ]
  },
  {
   "cell_type": "code",
   "execution_count": null,
   "metadata": {},
   "outputs": [],
   "source": [
    "features = [\"danceability\", \"energy\", \"loudness\", \"mode\", \"speechiness\", \"acousticness\", \"instrumentalness\", \"liveness\", \"valence\"]\n",
    "fig = go.Figure()\n",
    "\n",
    "for feature in features:\n",
    "    fig.add_trace(go.Scatter(\n",
    "    x=songs_per_year['year'],\n",
    "    y=songs_per_year[feature],\n",
    "    name=feature\n",
    "))\n",
    "\n",
    "fig.update_layout(\n",
    "    height = 1200,\n",
    "    width = 2000,\n",
    "    #yaxis_title='Popularity',\n",
    "    xaxis_title='year',\n",
    "    title='Development of features',\n",
    "    template='plotly_dark',\n",
    "    yaxis_range=[0,1]\n",
    ")\n",
    "\n",
    "fig.show()"
   ]
  },
  {
   "cell_type": "code",
   "execution_count": null,
   "metadata": {},
   "outputs": [],
   "source": [
    "features = [\n",
    "    {\n",
    "        \"title\": \"Tempo (bpm)\",\n",
    "        \"value\": \"tempo\",\n",
    "        \"range\": [110, 130]\n",
    "    },\n",
    "    {\n",
    "        \"title\": \"Duration (min)\",\n",
    "        \"value\": \"duration_min\",\n",
    "        \"range\": [3, 5]\n",
    "    },\n",
    "    {\n",
    "        \"title\": \"Loudnes (dB)\",\n",
    "        \"value\": \"loudness\",\n",
    "        \"range\": [0, -20]\n",
    "    },\n",
    "    {\n",
    "        \"title\": \"Songs released\",\n",
    "        \"value\": \"count\",\n",
    "        \"range\": [0, 50000]\n",
    "    }\n",
    "]"
   ]
  },
  {
   "cell_type": "code",
   "execution_count": null,
   "metadata": {},
   "outputs": [],
   "source": [
    "for feature in features:\n",
    "    fig = go.Figure()\n",
    "    \n",
    "    fig.add_trace(go.Scatter(\n",
    "        x=songs_per_year['year'],\n",
    "        y=songs_per_year[feature[\"value\"]],\n",
    "        name=feature[\"value\"]\n",
    "    ))\n",
    "    \n",
    "    fig.update_layout(\n",
    "        height = 1200,\n",
    "        width = 2000,\n",
    "        yaxis_title=feature[\"title\"],\n",
    "        xaxis_title='year',\n",
    "        title='Development of features',\n",
    "        template='plotly_dark',\n",
    "        yaxis_range=feature[\"range\"]\n",
    "    )\n",
    "    \n",
    "    fig.show()"
   ]
  },
  {
   "cell_type": "code",
   "execution_count": null,
   "metadata": {
    "editable": true,
    "slideshow": {
     "slide_type": "slide"
    },
    "tags": []
   },
   "outputs": [],
   "source": [
    "fig = go.Figure()\n",
    "\n",
    "fig.add_trace(go.Scatter(\n",
    "    x=songs_per_year['year'],\n",
    "    y=songs_per_year['popularity'],\n",
    "    name='Duration (ms)'\n",
    "))\n",
    "\n",
    "#fig.add_trace(go.Scatter(\n",
    "#    x=df['year_month'],\n",
    "#    y=df['duration_ms'],\n",
    "#    mode='markers',\n",
    "#    name='Duration (ms) - markers'\n",
    "#))\n",
    "\n",
    "# Define the dropdown menu options\n",
    "dropdown_options = [\n",
    "    #{'label': 'Duration (ms)', 'value': 'duration_ms', 'range': []},\n",
    "    {'label': 'Popularity', 'value': 'popularity', 'range': [0,10]},\n",
    "    {'label': 'Danceability', 'value': 'danceability', 'range': [0,1]},\n",
    "    {'label': 'Energy', 'value': 'energy', 'range': [0,1]},\n",
    "    #{'label': 'Key', 'value': 'key', range: [0,1]},\n",
    "    {'label': 'Loudness', 'value': 'loudness', 'range': [0,-20]},\n",
    "    {'label': 'Mode', 'value': 'mode', 'range': [0,1]},\n",
    "    {'label': 'Speechiness', 'value': 'speechiness', 'range': [0,1]},\n",
    "    {'label': 'Acousticness', 'value': 'acousticness', 'range': [0,1]},\n",
    "    {'label': 'Instrumentalness', 'value': 'instrumentalness', 'range': [0,1]},\n",
    "    {'label': 'Liveness', 'value': 'liveness', 'range': [0,1]},\n",
    "    {'label': 'Valence', 'value': 'valence', 'range': [0,1]},\n",
    "    {'label': 'Tempo', 'value': 'tempo', 'range': [100, 130]},\n",
    "    {'label': 'Time Signature', 'value': 'time_signature', 'range': [3,7]},\n",
    "    {'label': 'Count', 'value': 'count', 'range': [0,50000]},\n",
    "    {'label': 'Duration (min)', 'value': 'duration_min', 'range': [3,5]}\n",
    "]\n",
    "\n",
    "# Create the dropdown menu\n",
    "dropdown_menu = go.layout.Updatemenu(\n",
    "    buttons=list([\n",
    "        dict(\n",
    "            args=[\n",
    "                {'y': [songs_per_year[option['value']]]}, \n",
    "                {'yaxis': {\n",
    "                    'title': option['label'].capitalize(),\n",
    "                    'range': option['range']\n",
    "                }}\n",
    "            ],\n",
    "            label=option['label'],\n",
    "            method='update'\n",
    "        )\n",
    "        for option in dropdown_options\n",
    "    ]),\n",
    "    direction='down',\n",
    "    showactive=True,\n",
    ")\n",
    "\n",
    "fig.update_layout(\n",
    "    height = 800,\n",
    "    updatemenus=[dropdown_menu],\n",
    "    yaxis_title='Popularity',\n",
    "    xaxis_title='year',\n",
    "    title='Development of features',\n",
    "    template='plotly_dark',\n",
    "    yaxis_range=[0,10]\n",
    ")\n",
    "\n",
    "fig.show()"
   ]
  },
  {
   "attachments": {},
   "cell_type": "markdown",
   "metadata": {},
   "source": [
    "## Development of genres of the years"
   ]
  },
  {
   "cell_type": "code",
   "execution_count": null,
   "metadata": {},
   "outputs": [],
   "source": [
    "features = sorted_genres[:10]"
   ]
  },
  {
   "cell_type": "code",
   "execution_count": null,
   "metadata": {},
   "outputs": [],
   "source": [
    "dev_genres_df = by_isrc_year.reset_index()"
   ]
  },
  {
   "cell_type": "code",
   "execution_count": null,
   "metadata": {
    "editable": true,
    "slideshow": {
     "slide_type": "slide"
    },
    "tags": []
   },
   "outputs": [],
   "source": [
    "fig = go.Figure()\n",
    "\n",
    "for feature in features:\n",
    "    fig.add_trace(\n",
    "        go.Scatter(\n",
    "            x=dev_genres_df['year'],\n",
    "            y=dev_genres_df[feature],\n",
    "            name=feature\n",
    "        )\n",
    "    )\n",
    "    \n",
    "fig.update_layout(\n",
    "    height = 1200,\n",
    "    #updatemenus=[dropdown_menu],\n",
    "    yaxis_title='count',\n",
    "    xaxis_title='year',\n",
    "    title='Development of genres',\n",
    "    template='plotly_dark',\n",
    "    yaxis_rangemode='tozero'\n",
    ")\n",
    "\n",
    "fig.show()"
   ]
  },
  {
   "cell_type": "code",
   "execution_count": null,
   "metadata": {
    "editable": true,
    "slideshow": {
     "slide_type": "slide"
    },
    "tags": []
   },
   "outputs": [],
   "source": [
    "# Create the initial scatter plot\n",
    "fig = go.Figure()\n",
    "\n",
    "fig.add_trace(go.Scatter(\n",
    "    x=dev_genres_df['year'],\n",
    "    y=dev_genres_df['pop'],\n",
    "    #mode='markers',\n",
    "    name='Pop'\n",
    "))\n",
    "\n",
    "# Create the dropdown menu\n",
    "dropdown_menu = go.layout.Updatemenu(\n",
    "    buttons=list([\n",
    "        dict(\n",
    "            args=[\n",
    "                {'y': [dev_genres_df[option]]}, \n",
    "                {'yaxis': {\n",
    "                    'title': option.capitalize(),\n",
    "                    'rangemode':'tozero'\n",
    "                }}\n",
    "            ],\n",
    "            label=option,\n",
    "            method='update'\n",
    "        )\n",
    "        for option in features\n",
    "    ]),\n",
    "    direction='down',\n",
    "    showactive=True,\n",
    ")\n",
    "\n",
    "# Update the layout with dropdown menu and initial y-axis title\n",
    "fig.update_layout(\n",
    "    height = 800,\n",
    "    updatemenus=[dropdown_menu],\n",
    "    yaxis_title='pop',\n",
    "    xaxis_title='year',\n",
    "    title='Development of genres',\n",
    "    template='plotly_dark',\n",
    "    yaxis_rangemode='tozero'\n",
    ")\n",
    "\n",
    "fig.show()"
   ]
  },
  {
   "attachments": {},
   "cell_type": "markdown",
   "metadata": {},
   "source": [
    "## Add the genres to the features"
   ]
  },
  {
   "cell_type": "code",
   "execution_count": null,
   "metadata": {},
   "outputs": [],
   "source": [
    "df.head()"
   ]
  },
  {
   "cell_type": "code",
   "execution_count": null,
   "metadata": {},
   "outputs": [],
   "source": [
    "scaler = MinMaxScaler()\n",
    "by_isrc_scaled = by_isrc.copy()\n",
    "by_isrc_scaled.set_index('isrc', inplace=True)\n",
    "by_isrc_scaled = by_isrc_scaled[['danceability', 'energy',\n",
    "                       'key', 'loudness', 'mode', 'speechiness',\n",
    "                       'acousticness', 'instrumentalness', 'liveness',\n",
    "                       'valence', 'time_signature', 'tempo']]\n",
    "by_isrc_scaled = pd.DataFrame(scaler.fit_transform(by_isrc_scaled), columns=by_isrc_scaled.columns, index = by_isrc_scaled.index)\n",
    "by_isrc_scaled.reset_index(inplace=True)"
   ]
  },
  {
   "cell_type": "code",
   "execution_count": null,
   "metadata": {},
   "outputs": [],
   "source": [
    "by_isrc_genres = ct.merge(by_isrc_scaled, on=['isrc'], how='right')"
   ]
  },
  {
   "cell_type": "code",
   "execution_count": null,
   "metadata": {},
   "outputs": [],
   "source": [
    "by_isrc_genres.head()"
   ]
  },
  {
   "attachments": {},
   "cell_type": "markdown",
   "metadata": {},
   "source": [
    "## Create Radar Chart for the top 10 genres"
   ]
  },
  {
   "cell_type": "code",
   "execution_count": null,
   "metadata": {},
   "outputs": [],
   "source": [
    "sorted_genres[:10]"
   ]
  },
  {
   "cell_type": "code",
   "execution_count": null,
   "metadata": {
    "editable": true,
    "slideshow": {
     "slide_type": ""
    },
    "tags": []
   },
   "outputs": [],
   "source": [
    "fig = go.Figure()\n",
    "for genre in sorted_genres[:10]:\n",
    "    df_copy = by_isrc_genres.copy()\n",
    "    df_copy = df_copy[df_copy[genre] == 1]\n",
    "    df_copy = df_copy[['danceability', 'energy',\n",
    "                       'key', 'loudness', 'mode', 'speechiness',\n",
    "                       'acousticness', 'instrumentalness', 'liveness',\n",
    "                       'valence', 'time_signature', 'tempo', 'danceability']]\n",
    "    df_radar = pd.DataFrame(df_copy.mean(), columns=['mean'])\n",
    "    df_radar.reset_index(inplace=True)\n",
    "    df_radar.rename(columns={\"index\":\"feature\"}, inplace=True)\n",
    "\n",
    "    fig.add_trace(go.Scatterpolar(\n",
    "        r = df_radar['mean'],\n",
    "        theta = df_radar['feature'],\n",
    "        mode = 'lines',\n",
    "        fill = 'none',\n",
    "        name = genre\n",
    "    ))"
   ]
  },
  {
   "cell_type": "code",
   "execution_count": null,
   "metadata": {
    "editable": true,
    "slideshow": {
     "slide_type": "slide"
    },
    "tags": []
   },
   "outputs": [],
   "source": [
    "fig.update_layout(\n",
    "    height = 1200,\n",
    "    template='plotly_dark'\n",
    ")\n",
    "fig.show()"
   ]
  },
  {
   "cell_type": "code",
   "execution_count": null,
   "metadata": {
    "editable": true,
    "slideshow": {
     "slide_type": ""
    },
    "tags": []
   },
   "outputs": [],
   "source": [
    "df_radar"
   ]
  },
  {
   "cell_type": "code",
   "execution_count": null,
   "metadata": {
    "editable": true,
    "scrolled": true,
    "slideshow": {
     "slide_type": ""
    },
    "tags": []
   },
   "outputs": [],
   "source": [
    "#!jupyter nbconvert --to slides viz-jannis.ipynb"
   ]
  },
  {
   "cell_type": "markdown",
   "metadata": {},
   "source": [
    "## Word Cloud for Genres"
   ]
  },
  {
   "cell_type": "code",
   "execution_count": null,
   "metadata": {},
   "outputs": [],
   "source": [
    "df.explode('genres')"
   ]
  },
  {
   "cell_type": "code",
   "execution_count": null,
   "metadata": {},
   "outputs": [],
   "source": [
    "df_split_genres"
   ]
  },
  {
   "cell_type": "code",
   "execution_count": null,
   "metadata": {},
   "outputs": [],
   "source": [
    "genre_counts = df['genres'].value_counts().reset_index()\n",
    "\n",
    "genre_counts.columns = ['genres', 'count']\n",
    "genre_counts"
   ]
  },
  {
   "cell_type": "code",
   "execution_count": null,
   "metadata": {},
   "outputs": [],
   "source": []
  }
 ],
 "metadata": {
  "kernelspec": {
   "display_name": "Python 3 (ipykernel)",
   "language": "python",
   "name": "python3"
  },
  "language_info": {
   "codemirror_mode": {
    "name": "ipython",
    "version": 3
   },
   "file_extension": ".py",
   "mimetype": "text/x-python",
   "name": "python",
   "nbconvert_exporter": "python",
   "pygments_lexer": "ipython3",
   "version": "3.10.11"
  }
 },
 "nbformat": 4,
 "nbformat_minor": 4
}
