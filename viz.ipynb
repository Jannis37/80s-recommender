{
 "cells": [
  {
   "attachments": {},
   "cell_type": "markdown",
   "metadata": {},
   "source": [
    "## Visualizations"
   ]
  },
  {
   "cell_type": "code",
   "execution_count": null,
   "metadata": {},
   "outputs": [],
   "source": [
    "import pandas as pd\n",
    "import altair as alt\n",
    "import plotly.express as px\n",
    "import plotly.graph_objects as go\n",
    "import plotly.subplots as sp\n",
    "from sklearn.preprocessing import MinMaxScaler\n",
    "import wordcloud\n",
    "import matplotlib\n",
    "import matplotlib.pyplot as plt\n",
    "import ipywidgets as widgets\n",
    "from IPython.display import clear_output\n",
    "from sklearn import preprocessing\n",
    "import warnings\n",
    "warnings.simplefilter(action='ignore', category=FutureWarning)\n",
    "pd.options.mode.chained_assignment = None  # default='warn'"
   ]
  },
  {
   "cell_type": "code",
   "execution_count": null,
   "metadata": {},
   "outputs": [],
   "source": [
    "by_isrc = pd.read_csv('by_isrc_oldest.csv')"
   ]
  },
  {
   "cell_type": "code",
   "execution_count": null,
   "metadata": {},
   "outputs": [],
   "source": [
    "by_isrc.head().T"
   ]
  },
  {
   "cell_type": "code",
   "execution_count": null,
   "metadata": {},
   "outputs": [],
   "source": [
    "remove_genres = [\"classical\", \"jazz\", \"folk\", \"french\", \"turkish\", \"gospel\", \"samba\", \"piano\", \"mpb\", \"sertanejo\", \"pagode\", \"sleep\", \"forro\", \"malay\", \"anime\", \n",
    "                 \"j-idol\", \"comedy\", \"mandopop\", \"cantopop\", \"show-tunes\", \"emo\", \"romance\", \"j-dance\", \"chill\", \"world-music\", \"iranian\", \"idm\", \"metalcore\", \n",
    "                 \"hardstyle\", \"opera\", \"k-pop\", \"j-pop\", \"j-rock\", \"happy\"]"
   ]
  },
  {
   "attachments": {},
   "cell_type": "markdown",
   "metadata": {},
   "source": [
    "## Find the biggest genres"
   ]
  },
  {
   "cell_type": "code",
   "execution_count": null,
   "metadata": {},
   "outputs": [],
   "source": [
    "df = pd.read_csv('data.csv')\n",
    "df.drop_duplicates(inplace=True)"
   ]
  },
  {
   "cell_type": "code",
   "execution_count": null,
   "metadata": {},
   "outputs": [],
   "source": [
    "df.head(5).T"
   ]
  },
  {
   "cell_type": "code",
   "execution_count": null,
   "metadata": {},
   "outputs": [],
   "source": [
    "ct = pd.crosstab(df['isrc'], df['genres'])\n",
    "# ct.reset_index(inplace=True)\n",
    "ct = ct.applymap(lambda x: 1 if x > 1 else x)\n",
    "ct.reset_index(inplace=True)"
   ]
  },
  {
   "cell_type": "code",
   "execution_count": null,
   "metadata": {},
   "outputs": [],
   "source": [
    "# drop genres of the DataFrame\n",
    "ct = ct.set_index('isrc').drop(columns=remove_genres)"
   ]
  },
  {
   "cell_type": "code",
   "execution_count": null,
   "metadata": {},
   "outputs": [],
   "source": [
    "# find all songs which are not assigned to genre anymore and remove them\n",
    "print(f'Shape before removing songs. ct: {ct.shape}; df: {df.shape}')\n",
    "remove_songs = ct[ct.T.sum() == 0].index.to_list()\n",
    "ct.drop(index=remove_songs, inplace=True)\n",
    "df.set_index('isrc', inplace=True)\n",
    "df.drop(index=remove_songs, inplace=True)\n",
    "df.reset_index(inplace=True)\n",
    "print(f'Shape after removing songs. ct: {ct.shape}; df: {df.shape}')"
   ]
  },
  {
   "cell_type": "code",
   "execution_count": null,
   "metadata": {},
   "outputs": [],
   "source": [
    "ct_sum = ct.sum()"
   ]
  },
  {
   "cell_type": "code",
   "execution_count": null,
   "metadata": {},
   "outputs": [],
   "source": [
    "ct_sum_df = pd.DataFrame(ct_sum)"
   ]
  },
  {
   "cell_type": "code",
   "execution_count": null,
   "metadata": {},
   "outputs": [],
   "source": [
    "#ct_sum_df.drop(index='isrc', inplace=True)"
   ]
  },
  {
   "cell_type": "code",
   "execution_count": null,
   "metadata": {},
   "outputs": [],
   "source": [
    "ct_sum_df.rename(columns={0: 'count'}, inplace=True)"
   ]
  },
  {
   "cell_type": "code",
   "execution_count": null,
   "metadata": {},
   "outputs": [],
   "source": [
    "sorted_genres = ct_sum_df.sort_values(by='count', ascending=False).index.to_list()"
   ]
  },
  {
   "cell_type": "code",
   "execution_count": null,
   "metadata": {},
   "outputs": [],
   "source": [
    "ct_sum_df.sort_values(by='count', ascending=False)[0:50]"
   ]
  },
  {
   "attachments": {},
   "cell_type": "markdown",
   "metadata": {},
   "source": [
    "Biggest genres is pop."
   ]
  },
  {
   "attachments": {},
   "cell_type": "markdown",
   "metadata": {},
   "source": [
    "Count occurences of the top genres per year"
   ]
  },
  {
   "cell_type": "code",
   "execution_count": null,
   "metadata": {},
   "outputs": [],
   "source": [
    "by_isrc_year = by_isrc.copy()\n",
    "by_isrc_year = by_isrc_year[['year', 'isrc']]\n",
    "by_isrc_year = by_isrc_year.merge(ct, on=['isrc'], how='left')\n",
    "by_isrc_year.set_index('year', inplace=True)\n",
    "\n",
    "genres_by_year = by_isrc_year[sorted_genres[:50]] #used for wordcloud\n",
    "genres_by_year = genres_by_year.groupby('year').sum()\n",
    "genres_by_year.index = genres_by_year.index.astype(str)\n",
    "\n",
    "by_isrc_year = by_isrc_year[sorted_genres[:10]]\n",
    "by_isrc_year = by_isrc_year.groupby('year').sum()\n",
    "by_isrc_year.index = by_isrc_year.index.astype(str)"
   ]
  },
  {
   "attachments": {},
   "cell_type": "markdown",
   "metadata": {},
   "source": [
    "## Development of features over the years"
   ]
  },
  {
   "cell_type": "code",
   "execution_count": null,
   "metadata": {},
   "outputs": [],
   "source": [
    "df = by_isrc.copy()"
   ]
  },
  {
   "cell_type": "code",
   "execution_count": null,
   "metadata": {},
   "outputs": [],
   "source": [
    "df.head(2).T"
   ]
  },
  {
   "cell_type": "code",
   "execution_count": null,
   "metadata": {},
   "outputs": [],
   "source": [
    "songs_per_year = df.copy()\n",
    "songs_per_year = songs_per_year[['year', 'popularity', 'danceability', 'energy',\n",
    "                                 'key', 'loudness', 'mode', 'speechiness',\n",
    "                                 'acousticness', 'instrumentalness', 'liveness',\n",
    "                                 'valence', 'tempo', 'duration_ms',\n",
    "                                 'time_signature']]\n",
    "songs_per_year['count'] = -1\n",
    "songs_per_year = songs_per_year.groupby(\"year\").agg({\n",
    "    \"popularity\": 'mean',\n",
    "    'danceability': 'mean', \n",
    "    'energy': 'mean',\n",
    "    'key': 'mean', \n",
    "    'loudness': 'mean', \n",
    "    'mode': 'mean', \n",
    "    'speechiness': 'mean',\n",
    "    'acousticness': 'mean', \n",
    "    'instrumentalness': 'mean', \n",
    "    'liveness': 'mean',\n",
    "    'valence': 'mean', \n",
    "    'tempo': 'mean', \n",
    "    'duration_ms': 'mean',\n",
    "    'time_signature': 'mean',\n",
    "    'count': 'count'\n",
    "})\n",
    "songs_per_year.reset_index(inplace=True)"
   ]
  },
  {
   "cell_type": "code",
   "execution_count": null,
   "metadata": {},
   "outputs": [],
   "source": [
    "songs_per_year['duration_min'] = songs_per_year['duration_ms'] / (1000 * 60)"
   ]
  },
  {
   "cell_type": "code",
   "execution_count": null,
   "metadata": {
    "scrolled": true
   },
   "outputs": [],
   "source": [
    "songs_per_year.head(10)"
   ]
  },
  {
   "cell_type": "code",
   "execution_count": null,
   "metadata": {},
   "outputs": [],
   "source": [
    "songs_per_year.columns"
   ]
  },
  {
   "cell_type": "code",
   "execution_count": null,
   "metadata": {},
   "outputs": [],
   "source": [
    "songs_per_year = songs_per_year.astype({'year': str})"
   ]
  },
  {
   "cell_type": "code",
   "execution_count": null,
   "metadata": {},
   "outputs": [],
   "source": [
    "\"\"\"alt.Chart(songs_per_year).mark_bar().encode(\n",
    "    alt.X(\"year\"),\n",
    "    alt.Y(\"count\")\n",
    ")\"\"\""
   ]
  },
  {
   "cell_type": "code",
   "execution_count": null,
   "metadata": {},
   "outputs": [],
   "source": [
    "features = ['popularity', 'danceability', 'energy',\n",
    "            'key', 'loudness', 'mode', 'speechiness',\n",
    "            'acousticness', 'instrumentalness', 'liveness',\n",
    "            'valence', 'tempo', 'duration_min',\n",
    "            'time_signature']"
   ]
  },
  {
   "cell_type": "code",
   "execution_count": null,
   "metadata": {},
   "outputs": [],
   "source": [
    "songs_per_year.head()"
   ]
  },
  {
   "cell_type": "code",
   "execution_count": null,
   "metadata": {},
   "outputs": [],
   "source": [
    "\"\"\"# Create the initial scatter plot\n",
    "fig = go.Figure()\n",
    "\n",
    "fig.add_trace(go.Scatter(\n",
    "    x=songs_per_year['year'],\n",
    "    y=songs_per_year['duration_ms'],\n",
    "    #mode='markers',\n",
    "    name='Duration (ms)'\n",
    "))\n",
    "\n",
    "# Define the dropdown menu options\n",
    "dropdown_options = [\n",
    "    {'label': 'Duration (ms)', 'value': 'duration_ms'},\n",
    "    {'label': 'Popularity', 'value': 'popularity'},\n",
    "    {'label': 'Danceability', 'value': 'danceability'},\n",
    "    {'label': 'Energy', 'value': 'energy'},\n",
    "    {'label': 'Key', 'value': 'key'},\n",
    "    {'label': 'Loudness', 'value': 'loudness'},\n",
    "    {'label': 'Mode', 'value': 'mode'},\n",
    "    {'label': 'Speechiness', 'value': 'speechiness'},\n",
    "    {'label': 'Acousticness', 'value': 'acousticness'},\n",
    "    {'label': 'Instrumentalness', 'value': 'instrumentalness'},\n",
    "    {'label': 'Liveness', 'value': 'liveness'},\n",
    "    {'label': 'Valence', 'value': 'valence'},\n",
    "    {'label': 'Tempo', 'value': 'tempo'},\n",
    "    {'label': 'Time Signature', 'value': 'time_signature'},\n",
    "    {'label': 'Count', 'value': 'count'},\n",
    "    {'label': 'Duration (min)', 'value': 'duration_min'}\n",
    "]\n",
    "\n",
    "# Create the dropdown menu\n",
    "dropdown_menu = go.layout.Updatemenu(\n",
    "    buttons=list([\n",
    "        dict(\n",
    "            args=[\n",
    "                {'y': [songs_per_year[option['value']]]}, \n",
    "                {'yaxis': {'title': option['label'].capitalize()}}\n",
    "            ],\n",
    "            label=option['label'],\n",
    "            method='update'\n",
    "        )\n",
    "        for option in dropdown_options\n",
    "    ]),\n",
    "    direction='down',\n",
    "    showactive=True,\n",
    ")\n",
    "\n",
    "# Update the layout with dropdown menu and initial y-axis title\n",
    "fig.update_layout(\n",
    "    height = 800,\n",
    "    updatemenus=[dropdown_menu],\n",
    "    yaxis_title='Duration (ms)',\n",
    "    xaxis_title='year',\n",
    "    title='Development of features',\n",
    "    showlegend=True\n",
    ")\n",
    "\n",
    "fig.show()\"\"\""
   ]
  },
  {
   "cell_type": "code",
   "execution_count": null,
   "metadata": {},
   "outputs": [],
   "source": [
    "songs_per_year_genres = songs_per_year.merge(by_isrc_year, on='year', how='right')\n",
    "\n",
    "#Create the initial scatter plot for genre 'pop'\n",
    "fig = go.Figure()\n",
    "\n",
    "fig.add_trace(go.Scatter(\n",
    "    x=songs_per_year_genres['year'],\n",
    "    y=songs_per_year_genres['duration_ms'],\n",
    "    #mode='line',\n",
    "    name='pop',\n",
    "    visible=True\n",
    "))\n",
    "\n",
    "# Add separate scatter plots for each genre\n",
    "genres = ['rock', 'classical', 'german', 'jazz', 'folk', 'punk', 'metal', 'country', 'french']\n",
    "\n",
    "for genre in genres:\n",
    "    fig.add_trace(go.Scatter(\n",
    "        x=songs_per_year_genres['year'],\n",
    "        y=songs_per_year_genres['duration_ms'],\n",
    "        #mode='line',\n",
    "        name=genre,\n",
    "        visible=False\n",
    "    ))\n",
    "\n",
    "# Create the dropdown menu for y-axis selection\n",
    "dropdown_options = ['duration_ms', 'popularity', 'danceability', 'energy', 'key', 'loudness',\n",
    "                    'mode', 'speechiness', 'acousticness', 'instrumentalness', 'liveness',\n",
    "                    'valence', 'tempo', 'duration_min']\n",
    "\n",
    "dropdown_menu = go.layout.Updatemenu(\n",
    "    buttons=list([\n",
    "        dict(\n",
    "            args=[{'y': [songs_per_year_genres[option]]}],\n",
    "            #label=option.capitalize(),\n",
    "            method='update'\n",
    "        )\n",
    "        for option in dropdown_options\n",
    "    ]),\n",
    "    direction='down',\n",
    "    showactive=True,\n",
    ")\n",
    "\n",
    "# Create the legend to toggle genre visibility\n",
    "legend = dict(\n",
    "    title='Genre',\n",
    "    orientation='h',\n",
    "    y=1.1,\n",
    "    x=0.5,\n",
    "    xanchor='center',\n",
    "    bgcolor='rgba(255, 255, 255, 0.5)'\n",
    ")\n",
    "\n",
    "# Update the layout with dropdown menu, legend, and initial y-axis title\n",
    "fig.update_layout(\n",
    "    height = 800,\n",
    "    updatemenus=[dropdown_menu],\n",
    "    legend=legend,\n",
    "    yaxis_title='Duration (ms)',\n",
    "    title='Song Duration by Genre',\n",
    "    xaxis_title='Year',\n",
    "    showlegend=True\n",
    ")\n",
    "\n",
    "# Add custom buttons to toggle genre visibility in the legend\n",
    "for i, genre in enumerate(genres):\n",
    "    button = dict(\n",
    "        label=genre.capitalize(),\n",
    "        method='update',\n",
    "        args=[{'visible': [True if j == i+1 else False for j in range(len(genres)+1)]}]\n",
    "    )\n",
    "    fig.update_traces(showlegend=True if genre == 'pop' else False, selector=dict(name=genre))\n",
    "    fig.update_layout({'updatemenus': [{'buttons': [button]}]})\n",
    "\n",
    "#fig.show()"
   ]
  },
  {
   "attachments": {},
   "cell_type": "markdown",
   "metadata": {},
   "source": [
    "## Development of genres of the years"
   ]
  },
  {
   "cell_type": "code",
   "execution_count": null,
   "metadata": {},
   "outputs": [],
   "source": [
    "genres_by_year"
   ]
  },
  {
   "cell_type": "code",
   "execution_count": null,
   "metadata": {},
   "outputs": [],
   "source": [
    "genres_by_year = genres_by_year.reset_index()"
   ]
  },
  {
   "cell_type": "code",
   "execution_count": null,
   "metadata": {},
   "outputs": [],
   "source": [
    "column_list = genres_by_year.columns.tolist()\n",
    "id_vars_list = column_list[:1]\n",
    "print(id_vars_list)"
   ]
  },
  {
   "cell_type": "code",
   "execution_count": null,
   "metadata": {},
   "outputs": [],
   "source": [
    "df_new = pd.melt(genres_by_year, id_vars=id_vars_list, \n",
    "             value_name=\"count\")\n",
    "df_new=df_new.rename(columns={\"variable\": \"genres\"})\n",
    "df_new"
   ]
  },
  {
   "attachments": {},
   "cell_type": "markdown",
   "metadata": {},
   "source": [
    "### Word Cloud for Genres with frequency"
   ]
  },
  {
   "cell_type": "code",
   "execution_count": null,
   "metadata": {},
   "outputs": [],
   "source": [
    "genres_count = ct_sum_df.sort_values(by='count', ascending=False)\n",
    "genres_count = genres_count.to_dict()\n",
    "\n",
    "cloud = wordcloud.WordCloud(width=800, height=400, background_color='black',colormap='Set2').generate_from_frequencies(genres_count['count'])\n",
    "plt.figure(figsize=(10, 5))\n",
    "plt.imshow(cloud, interpolation='bilinear')\n",
    "plt.axis('off')\n",
    "plt.show()"
   ]
  },
  {
   "cell_type": "code",
   "execution_count": null,
   "metadata": {},
   "outputs": [],
   "source": [
    "genres_by_year = genres_by_year.set_index('year')\n",
    "genres_by_year = genres_by_year.to_dict('index')"
   ]
  },
  {
   "cell_type": "code",
   "execution_count": null,
   "metadata": {},
   "outputs": [],
   "source": [
    "def wc(df):\n",
    "    clear_output(wait=True)\n",
    "    cloud = wordcloud.WordCloud(width=700, height=400, background_color='black').generate_from_frequencies(df)\n",
    "    plt.figure(figsize=(9, 9))\n",
    "    plt.imshow(cloud)\n",
    "    plt.tight_layout()\n",
    "    plt.axis(\"off\")"
   ]
  },
  {
   "attachments": {},
   "cell_type": "markdown",
   "metadata": {},
   "source": [
    "### Top 50 Genres per Year in Word Cloud"
   ]
  },
  {
   "cell_type": "code",
   "execution_count": null,
   "metadata": {},
   "outputs": [],
   "source": [
    "dropdown = widgets.Dropdown(options = genres_by_year,\n",
    "                                value=genres_by_year['1980'],\n",
    "                                 description= \"year\" )\n",
    "\n",
    "widgets.interact(wc,df=dropdown)"
   ]
  },
  {
   "attachments": {},
   "cell_type": "markdown",
   "metadata": {},
   "source": [
    "### Top 10 Genres per Year in Line Chart"
   ]
  },
  {
   "cell_type": "code",
   "execution_count": null,
   "metadata": {},
   "outputs": [],
   "source": [
    "features = sorted_genres[:10]"
   ]
  },
  {
   "cell_type": "code",
   "execution_count": null,
   "metadata": {},
   "outputs": [],
   "source": [
    "dev_genres_df = by_isrc_year.reset_index()"
   ]
  },
  {
   "cell_type": "code",
   "execution_count": null,
   "metadata": {},
   "outputs": [],
   "source": [
    "dev_genres_df"
   ]
  },
  {
   "cell_type": "code",
   "execution_count": null,
   "metadata": {},
   "outputs": [],
   "source": [
    "\"\"\"# Create the initial scatter plot\n",
    "fig = go.Figure()\n",
    "\n",
    "fig.add_trace(go.Scatter(\n",
    "    x=dev_genres_df['year'],\n",
    "    y=dev_genres_df['pop'],\n",
    "    #mode='markers',\n",
    "    name='Pop'\n",
    "))\n",
    "\n",
    "# Create the dropdown menu\n",
    "dropdown_menu = go.layout.Updatemenu(\n",
    "    buttons=list([\n",
    "        dict(\n",
    "            args=[\n",
    "                {'y': [dev_genres_df[option]]}, \n",
    "                {'yaxis': {'title': option.capitalize()}}\n",
    "            ],\n",
    "            label=option,\n",
    "            method='update'\n",
    "        )\n",
    "        for option in features\n",
    "    ]),\n",
    "    direction='down',\n",
    "    showactive=True,\n",
    ")\n",
    "\n",
    "# Update the layout with dropdown menu and initial y-axis title\n",
    "fig.update_layout(\n",
    "    height = 800,\n",
    "    updatemenus=[dropdown_menu],\n",
    "    yaxis_title='pop',\n",
    "    xaxis_title='year',\n",
    "    title='Development of features'\n",
    ")\n",
    "\n",
    "fig.show()\"\"\""
   ]
  },
  {
   "attachments": {},
   "cell_type": "markdown",
   "metadata": {},
   "source": [
    "## Add the genres to the features"
   ]
  },
  {
   "cell_type": "code",
   "execution_count": null,
   "metadata": {},
   "outputs": [],
   "source": [
    "df.head()"
   ]
  },
  {
   "cell_type": "code",
   "execution_count": null,
   "metadata": {},
   "outputs": [],
   "source": [
    "scaler = MinMaxScaler()\n",
    "by_isrc_scaled = by_isrc.copy()\n",
    "by_isrc_scaled.set_index('isrc', inplace=True)\n",
    "by_isrc_scaled = by_isrc_scaled[['danceability', 'energy',\n",
    "                       'key', 'loudness', 'mode', 'speechiness',\n",
    "                       'acousticness', 'instrumentalness', 'liveness',\n",
    "                       'valence', 'time_signature', 'tempo']]\n",
    "by_isrc_scaled = pd.DataFrame(scaler.fit_transform(by_isrc_scaled), columns=by_isrc_scaled.columns, index = by_isrc_scaled.index)\n",
    "by_isrc_scaled.reset_index(inplace=True)"
   ]
  },
  {
   "cell_type": "code",
   "execution_count": null,
   "metadata": {},
   "outputs": [],
   "source": [
    "by_isrc_genres = ct.merge(by_isrc_scaled, on=['isrc'], how='right')"
   ]
  },
  {
   "cell_type": "code",
   "execution_count": null,
   "metadata": {},
   "outputs": [],
   "source": [
    "by_isrc_genres.head()"
   ]
  },
  {
   "attachments": {},
   "cell_type": "markdown",
   "metadata": {},
   "source": [
    "## Create Radar Chart for the top 10 genres"
   ]
  },
  {
   "cell_type": "code",
   "execution_count": null,
   "metadata": {},
   "outputs": [],
   "source": [
    "\"\"\"sorted_genres[:10]\"\"\""
   ]
  },
  {
   "cell_type": "code",
   "execution_count": null,
   "metadata": {},
   "outputs": [],
   "source": [
    "\"\"\"fig = go.Figure()\n",
    "for genre in sorted_genres[:10]:\n",
    "    df_copy = by_isrc_genres.copy()\n",
    "    df_copy = df_copy[df_copy[genre] == 1]\n",
    "    df_copy = df_copy[['danceability', 'energy',\n",
    "                       'key', 'loudness', 'mode', 'speechiness',\n",
    "                       'acousticness', 'instrumentalness', 'liveness',\n",
    "                       'valence', 'time_signature', 'tempo', 'danceability']]\n",
    "    df_radar = pd.DataFrame(df_copy.mean(), columns=['mean'])\n",
    "    df_radar.reset_index(inplace=True)\n",
    "    df_radar.rename(columns={\"index\":\"feature\"}, inplace=True)\n",
    "\n",
    "    fig.add_trace(go.Scatterpolar(\n",
    "        r = df_radar['mean'],\n",
    "        theta = df_radar['feature'],\n",
    "        mode = 'lines',\n",
    "        fill = 'none',\n",
    "        name = genre\n",
    "    ))\"\"\""
   ]
  },
  {
   "cell_type": "code",
   "execution_count": null,
   "metadata": {},
   "outputs": [],
   "source": [
    "\"\"\"fig.update_layout(\n",
    "    height = 800\n",
    ")\n",
    "fig.show()\"\"\""
   ]
  },
  {
   "attachments": {},
   "cell_type": "markdown",
   "metadata": {},
   "source": [
    "#### Popularity of Artists in Word Cloud"
   ]
  },
  {
   "cell_type": "code",
   "execution_count": null,
   "metadata": {},
   "outputs": [],
   "source": [
    "df.head()"
   ]
  },
  {
   "cell_type": "code",
   "execution_count": null,
   "metadata": {},
   "outputs": [],
   "source": [
    "from ast import literal_eval\n",
    "\n",
    "df['genres'] = df['genres'].apply(literal_eval)\n",
    "df_split_genres = df.explode('genres')"
   ]
  },
  {
   "cell_type": "code",
   "execution_count": null,
   "metadata": {},
   "outputs": [],
   "source": [
    "df_split_genres = df_split_genres[~df_split_genres['genres'].isin(remove_genres)]\n",
    "df_split_genres['release_date'] = df_split_genres['release_date'].apply(lambda x: x.split('-')[0])"
   ]
  },
  {
   "attachments": {},
   "cell_type": "markdown",
   "metadata": {},
   "source": [
    "split artists"
   ]
  },
  {
   "cell_type": "code",
   "execution_count": null,
   "metadata": {},
   "outputs": [],
   "source": [
    "df_split_genres[\"artists\"].unique()"
   ]
  },
  {
   "cell_type": "code",
   "execution_count": null,
   "metadata": {},
   "outputs": [],
   "source": [
    "df_split_genres['artists'] = df_split_genres['artists'].str.split(',')\n",
    "df_split_artists = df_split_genres.explode('artists')"
   ]
  },
  {
   "cell_type": "code",
   "execution_count": null,
   "metadata": {},
   "outputs": [],
   "source": [
    "df_split_artists[\"artists\"].unique()"
   ]
  },
  {
   "cell_type": "code",
   "execution_count": null,
   "metadata": {},
   "outputs": [],
   "source": [
    "df_artist_popularity_per_year = (\n",
    "    df_split_artists.groupby(['year', 'artists'])\n",
    "    .agg({'popularity': 'sum'})\n",
    "    .groupby('year', as_index=False)\n",
    "    .apply(lambda group: group.nlargest(10, columns='popularity'))\n",
    "    .reset_index(level=0, drop=True)\n",
    "    .reset_index()\n",
    "    .pivot(index='year', columns='artists', values='popularity')\n",
    "    .fillna(0)\n",
    "    .astype(float)\n",
    "    .to_dict(orient='index')\n",
    ")"
   ]
  },
  {
   "cell_type": "code",
   "execution_count": null,
   "metadata": {},
   "outputs": [],
   "source": [
    "dropdown = widgets.Dropdown(options = df_artist_popularity_per_year,\n",
    "                                value=df_artist_popularity_per_year[1980],\n",
    "                                 description= \"year\" )\n",
    "\n",
    "widgets.interact(wc,df=dropdown)"
   ]
  },
  {
   "attachments": {},
   "cell_type": "markdown",
   "metadata": {},
   "source": [
    "Popularity per Artists in Word Cloud"
   ]
  },
  {
   "cell_type": "code",
   "execution_count": null,
   "metadata": {},
   "outputs": [],
   "source": [
    "def wordcloud_artists(counts):\n",
    "    cloud = wordcloud.WordCloud(width=800, height=400, background_color='black',colormap=matplotlib.cm.inferno).generate_from_frequencies(counts)\n",
    "    plt.figure(figsize=(18,15))\n",
    "    plt.imshow(cloud, interpolation='bilinear')\n",
    "    plt.axis('off')\n",
    "    plt.show()"
   ]
  },
  {
   "cell_type": "code",
   "execution_count": null,
   "metadata": {},
   "outputs": [],
   "source": [
    "artists_popularity = df_split_artists.drop_duplicates([\"name\",\"release_date\"])"
   ]
  },
  {
   "cell_type": "code",
   "execution_count": null,
   "metadata": {},
   "outputs": [],
   "source": [
    "artists_popularity = artists_popularity.groupby(\"artists\", as_index=False)[\"popularity\"].sum()"
   ]
  },
  {
   "cell_type": "code",
   "execution_count": null,
   "metadata": {},
   "outputs": [],
   "source": [
    "artists_popularity"
   ]
  },
  {
   "cell_type": "code",
   "execution_count": null,
   "metadata": {},
   "outputs": [],
   "source": [
    "artist_popularity_tuples = [tuple(x) for x in artists_popularity.values]\n",
    "wordcloud_artists(dict(artist_popularity_tuples))"
   ]
  },
  {
   "attachments": {},
   "cell_type": "markdown",
   "metadata": {},
   "source": [
    "### Chart Score"
   ]
  },
  {
   "cell_type": "code",
   "execution_count": null,
   "metadata": {},
   "outputs": [],
   "source": [
    "df_chart_power = by_isrc[by_isrc['chart_power'].notna()]\n",
    "df_chart_power"
   ]
  },
  {
   "attachments": {},
   "cell_type": "markdown",
   "metadata": {},
   "source": [
    "average of chart score per artists"
   ]
  },
  {
   "cell_type": "code",
   "execution_count": null,
   "metadata": {},
   "outputs": [],
   "source": [
    "avg_chart = df_chart_power.groupby(\"artists\")[\"chart_power\"].sum().reset_index()\n",
    "avg_chart"
   ]
  },
  {
   "attachments": {},
   "cell_type": "markdown",
   "metadata": {},
   "source": [
    "Chart Score per Artists in Word Cloud"
   ]
  },
  {
   "cell_type": "code",
   "execution_count": null,
   "metadata": {},
   "outputs": [],
   "source": [
    "avg_chart_tuples = [tuple(x) for x in avg_chart.values]\n",
    "wordcloud_artists(dict(avg_chart_tuples))"
   ]
  },
  {
   "attachments": {},
   "cell_type": "markdown",
   "metadata": {},
   "source": [
    "Merge data with popularity and chart score"
   ]
  },
  {
   "cell_type": "code",
   "execution_count": null,
   "metadata": {},
   "outputs": [],
   "source": [
    "merge = artists_popularity.merge(avg_chart, on='artists',how=\"outer\")\n",
    "merge.sort_values('popularity',ascending=False)"
   ]
  },
  {
   "cell_type": "code",
   "execution_count": null,
   "metadata": {},
   "outputs": [],
   "source": [
    "merge.rename({\"chart_power\":\"chart_score\"},axis=1, inplace=True)\n",
    "merge"
   ]
  },
  {
   "cell_type": "code",
   "execution_count": null,
   "metadata": {},
   "outputs": [],
   "source": [
    "merge.sort_values(['chart_score'],ascending=False).head(20)"
   ]
  },
  {
   "attachments": {},
   "cell_type": "markdown",
   "metadata": {},
   "source": [
    "Top 20 popular Artists from Spotify vs. from Chart Score"
   ]
  },
  {
   "cell_type": "code",
   "execution_count": null,
   "metadata": {},
   "outputs": [],
   "source": [
    "top20_popu = merge.nlargest(20, 'popularity').reset_index(drop=True)\n",
    "top20_score = merge.nlargest(20, 'chart_score').reset_index(drop=True)"
   ]
  },
  {
   "cell_type": "code",
   "execution_count": null,
   "metadata": {},
   "outputs": [],
   "source": [
    "top20_popu"
   ]
  },
  {
   "cell_type": "code",
   "execution_count": null,
   "metadata": {},
   "outputs": [],
   "source": [
    "top20_score"
   ]
  },
  {
   "cell_type": "code",
   "execution_count": null,
   "metadata": {},
   "outputs": [],
   "source": [
    "fig = sp.make_subplots(rows=1, cols=2, subplot_titles=('Top 20 Popularity Artists', 'Top 20 Chart Score Artists'))\n",
    "\n",
    "# Add bar trace for top popularity artists\n",
    "fig.add_trace(go.Bar(x=top20_popu['popularity'], y=top20_popu['artists'],\n",
    "                     orientation='h', name='Popularity Artists'), row=1, col=1)\n",
    "\n",
    "# Add bar trace for top chart score artists\n",
    "fig.add_trace(go.Bar(x=top20_score['chart_score'], y=top20_score['artists'],\n",
    "                     orientation='h', name='Chart Score Artists'), row=1, col=2)\n",
    "\n",
    "# Update layout\n",
    "fig.update_layout(#title='Top 20 Artists',\n",
    "                  yaxis=dict(autorange=\"reversed\"),\n",
    "                  yaxis2=dict(autorange=\"reversed\"),\n",
    "                    width=1600,  # Width in pixels\n",
    "                    height=600)\n",
    "\n",
    "# Show the plot\n",
    "fig.show()"
   ]
  },
  {
   "attachments": {},
   "cell_type": "markdown",
   "metadata": {},
   "source": [
    "scale values of popularity and chart score"
   ]
  },
  {
   "cell_type": "code",
   "execution_count": null,
   "metadata": {},
   "outputs": [],
   "source": [
    "scaler = preprocessing.MinMaxScaler()\n",
    "merge[['popularity', 'chart_score']] = scaler.fit_transform(merge[['popularity', 'chart_score']])"
   ]
  },
  {
   "cell_type": "code",
   "execution_count": null,
   "metadata": {},
   "outputs": [],
   "source": [
    "#merge=merge.dropna()"
   ]
  },
  {
   "cell_type": "code",
   "execution_count": null,
   "metadata": {},
   "outputs": [],
   "source": [
    "\"\"\"artists_filtered_1 = merge[(merge['chart_score'] > 0.5) & (merge['popularity'] < 0.5)]\n",
    "artists_filtered_1\"\"\""
   ]
  },
  {
   "attachments": {},
   "cell_type": "markdown",
   "metadata": {},
   "source": [
    "Top10 Artists who had low chart score but has now high popularity"
   ]
  },
  {
   "cell_type": "code",
   "execution_count": null,
   "metadata": {},
   "outputs": [],
   "source": [
    "def barplot(col1,col2,title):\n",
    "\n",
    "    fig = go.Figure(data=go.Bar(\n",
    "    x=col1,\n",
    "    y=col2,\n",
    "    orientation='h'\n",
    "    ))\n",
    "\n",
    "    fig.update_layout(\n",
    "        title = title,\n",
    "        xaxis=dict(\n",
    "            range=[0.1, max(col1)+0.1],  # Set the range of the x-axis\n",
    "            dtick=0.2  # Set the tick interval of the x-axis\n",
    "        )\n",
    "    )\n",
    "\n",
    "    # Show the bar chart\n",
    "    fig.show()"
   ]
  },
  {
   "cell_type": "code",
   "execution_count": null,
   "metadata": {},
   "outputs": [],
   "source": [
    "merge['difference_1'] = merge['popularity'].sub(merge['chart_score'])\n",
    "top_diff_1= merge.nlargest(10, 'difference_1')\n",
    "top_diff_1"
   ]
  },
  {
   "cell_type": "code",
   "execution_count": null,
   "metadata": {},
   "outputs": [],
   "source": [
    "barplot(top_diff_1['difference_1'],top_diff_1['artists'],\"Top10 Artists who had low chart score but has now high popularity\")"
   ]
  },
  {
   "attachments": {},
   "cell_type": "markdown",
   "metadata": {},
   "source": [
    "Top10 Artists who had high chart score but has now low popularity"
   ]
  },
  {
   "cell_type": "code",
   "execution_count": null,
   "metadata": {},
   "outputs": [],
   "source": [
    "merge['difference_2'] = merge['chart_score'].sub(merge['popularity'])\n",
    "top_diff_2 = merge.nlargest(10, 'difference_2')\n",
    "top_diff_2"
   ]
  },
  {
   "cell_type": "code",
   "execution_count": null,
   "metadata": {},
   "outputs": [],
   "source": [
    "barplot(top_diff_2['difference_2'],top_diff_2['artists'],\"Top10 Artists who had high chart score but has now low popularity\")"
   ]
  }
 ],
 "metadata": {
  "kernelspec": {
   "display_name": "application-project",
   "language": "python",
   "name": "python3"
  },
  "language_info": {
   "codemirror_mode": {
    "name": "ipython",
    "version": 3
   },
   "file_extension": ".py",
   "mimetype": "text/x-python",
   "name": "python",
   "nbconvert_exporter": "python",
   "pygments_lexer": "ipython3",
   "version": "3.11.2"
  }
 },
 "nbformat": 4,
 "nbformat_minor": 4
}
