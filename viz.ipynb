{
 "cells": [
  {
   "attachments": {},
   "cell_type": "markdown",
   "metadata": {},
   "source": [
    "## Visualizations"
   ]
  },
  {
   "cell_type": "code",
   "execution_count": 222,
   "metadata": {},
   "outputs": [],
   "source": [
    "import pandas as pd\n",
    "import altair as alt\n",
    "import plotly.express as px\n",
    "import plotly.graph_objects as go\n",
    "from sklearn.preprocessing import MinMaxScaler"
   ]
  },
  {
   "cell_type": "code",
   "execution_count": 52,
   "metadata": {},
   "outputs": [],
   "source": [
    "by_isrc = pd.read_csv('data/checkpoint/by_isrc_oldest.csv')"
   ]
  },
  {
   "cell_type": "code",
   "execution_count": 54,
   "metadata": {},
   "outputs": [
    {
     "data": {
      "text/html": [
       "<div>\n",
       "<style scoped>\n",
       "    .dataframe tbody tr th:only-of-type {\n",
       "        vertical-align: middle;\n",
       "    }\n",
       "\n",
       "    .dataframe tbody tr th {\n",
       "        vertical-align: top;\n",
       "    }\n",
       "\n",
       "    .dataframe thead th {\n",
       "        text-align: right;\n",
       "    }\n",
       "</style>\n",
       "<table border=\"1\" class=\"dataframe\">\n",
       "  <thead>\n",
       "    <tr style=\"text-align: right;\">\n",
       "      <th></th>\n",
       "      <th>0</th>\n",
       "      <th>1</th>\n",
       "      <th>2</th>\n",
       "      <th>3</th>\n",
       "      <th>4</th>\n",
       "    </tr>\n",
       "  </thead>\n",
       "  <tbody>\n",
       "    <tr>\n",
       "      <th>isrc</th>\n",
       "      <td>AEA040700577</td>\n",
       "      <td>AEA040700578</td>\n",
       "      <td>AEA040700579</td>\n",
       "      <td>AEA040700580</td>\n",
       "      <td>AEA040700581</td>\n",
       "    </tr>\n",
       "    <tr>\n",
       "      <th>genres</th>\n",
       "      <td>['j-pop', 'jazz', 'pop']</td>\n",
       "      <td>['groove', 'j-pop', 'jazz', 'pop']</td>\n",
       "      <td>['groove', 'j-pop', 'jazz', 'pop']</td>\n",
       "      <td>['groove', 'j-pop', 'jazz', 'pop']</td>\n",
       "      <td>['groove', 'j-pop', 'jazz', 'pop', 'pop']</td>\n",
       "    </tr>\n",
       "    <tr>\n",
       "      <th>name</th>\n",
       "      <td>Bala Wala Chi</td>\n",
       "      <td>Houdou Nisbi</td>\n",
       "      <td>Nafs Al Sheghlat</td>\n",
       "      <td>Yalla Kichou Barra</td>\n",
       "      <td>Ma Tfel</td>\n",
       "    </tr>\n",
       "    <tr>\n",
       "      <th>artists</th>\n",
       "      <td>Ziad Rahbani</td>\n",
       "      <td>Ziad Rahbani</td>\n",
       "      <td>Ziad Rahbani</td>\n",
       "      <td>Ziad Rahbani</td>\n",
       "      <td>Ziad Rahbani</td>\n",
       "    </tr>\n",
       "    <tr>\n",
       "      <th>album</th>\n",
       "      <td>Houdou Nisbi</td>\n",
       "      <td>Houdou Nisbi</td>\n",
       "      <td>Houdou Nisbi</td>\n",
       "      <td>Houdou Nisbi</td>\n",
       "      <td>Houdou Nisbi</td>\n",
       "    </tr>\n",
       "    <tr>\n",
       "      <th>release_date</th>\n",
       "      <td>1985-01-01</td>\n",
       "      <td>1985-01-01</td>\n",
       "      <td>1985-01-01</td>\n",
       "      <td>1985-01-01</td>\n",
       "      <td>1985-01-01</td>\n",
       "    </tr>\n",
       "    <tr>\n",
       "      <th>release_date_precision</th>\n",
       "      <td>day</td>\n",
       "      <td>day</td>\n",
       "      <td>day</td>\n",
       "      <td>day</td>\n",
       "      <td>day</td>\n",
       "    </tr>\n",
       "    <tr>\n",
       "      <th>uri</th>\n",
       "      <td>spotify:track:0fylgLeNObjVvwhd8caHqX</td>\n",
       "      <td>spotify:track:0yMFpBNCYXqwwOAg23bC8a</td>\n",
       "      <td>spotify:track:6G8l1kI8QlTD0UDIak5F8H</td>\n",
       "      <td>spotify:track:21g76Lq5Jg4QvfTDvi4PlH</td>\n",
       "      <td>spotify:track:0pKxrkFh8fxPKpkO29MYmi</td>\n",
       "    </tr>\n",
       "    <tr>\n",
       "      <th>spotify_id</th>\n",
       "      <td>0fylgLeNObjVvwhd8caHqX</td>\n",
       "      <td>0yMFpBNCYXqwwOAg23bC8a</td>\n",
       "      <td>6G8l1kI8QlTD0UDIak5F8H</td>\n",
       "      <td>21g76Lq5Jg4QvfTDvi4PlH</td>\n",
       "      <td>0pKxrkFh8fxPKpkO29MYmi</td>\n",
       "    </tr>\n",
       "    <tr>\n",
       "      <th>chart_power</th>\n",
       "      <td>NaN</td>\n",
       "      <td>NaN</td>\n",
       "      <td>NaN</td>\n",
       "      <td>NaN</td>\n",
       "      <td>NaN</td>\n",
       "    </tr>\n",
       "    <tr>\n",
       "      <th>popularity</th>\n",
       "      <td>41</td>\n",
       "      <td>31</td>\n",
       "      <td>21</td>\n",
       "      <td>17</td>\n",
       "      <td>31</td>\n",
       "    </tr>\n",
       "    <tr>\n",
       "      <th>danceability</th>\n",
       "      <td>0.291</td>\n",
       "      <td>0.587</td>\n",
       "      <td>0.496</td>\n",
       "      <td>0.676</td>\n",
       "      <td>0.474</td>\n",
       "    </tr>\n",
       "    <tr>\n",
       "      <th>energy</th>\n",
       "      <td>0.231</td>\n",
       "      <td>0.184</td>\n",
       "      <td>0.264</td>\n",
       "      <td>0.43</td>\n",
       "      <td>0.428</td>\n",
       "    </tr>\n",
       "    <tr>\n",
       "      <th>key</th>\n",
       "      <td>9</td>\n",
       "      <td>7</td>\n",
       "      <td>3</td>\n",
       "      <td>5</td>\n",
       "      <td>5</td>\n",
       "    </tr>\n",
       "    <tr>\n",
       "      <th>loudness</th>\n",
       "      <td>-18.808</td>\n",
       "      <td>-18.954</td>\n",
       "      <td>-21.179</td>\n",
       "      <td>-18.456</td>\n",
       "      <td>-18.178</td>\n",
       "    </tr>\n",
       "    <tr>\n",
       "      <th>mode</th>\n",
       "      <td>1</td>\n",
       "      <td>0</td>\n",
       "      <td>1</td>\n",
       "      <td>1</td>\n",
       "      <td>0</td>\n",
       "    </tr>\n",
       "    <tr>\n",
       "      <th>speechiness</th>\n",
       "      <td>0.0418</td>\n",
       "      <td>0.0308</td>\n",
       "      <td>0.0449</td>\n",
       "      <td>0.0341</td>\n",
       "      <td>0.0436</td>\n",
       "    </tr>\n",
       "    <tr>\n",
       "      <th>acousticness</th>\n",
       "      <td>0.952</td>\n",
       "      <td>0.814</td>\n",
       "      <td>0.954</td>\n",
       "      <td>0.43</td>\n",
       "      <td>0.749</td>\n",
       "    </tr>\n",
       "    <tr>\n",
       "      <th>instrumentalness</th>\n",
       "      <td>0.382</td>\n",
       "      <td>0.951</td>\n",
       "      <td>0.887</td>\n",
       "      <td>0.838</td>\n",
       "      <td>0.941</td>\n",
       "    </tr>\n",
       "    <tr>\n",
       "      <th>liveness</th>\n",
       "      <td>0.237</td>\n",
       "      <td>0.0827</td>\n",
       "      <td>0.271</td>\n",
       "      <td>0.124</td>\n",
       "      <td>0.115</td>\n",
       "    </tr>\n",
       "    <tr>\n",
       "      <th>valence</th>\n",
       "      <td>0.371</td>\n",
       "      <td>0.495</td>\n",
       "      <td>0.304</td>\n",
       "      <td>0.656</td>\n",
       "      <td>0.752</td>\n",
       "    </tr>\n",
       "    <tr>\n",
       "      <th>tempo</th>\n",
       "      <td>157.168</td>\n",
       "      <td>128.386</td>\n",
       "      <td>82.63</td>\n",
       "      <td>102.485</td>\n",
       "      <td>150.656</td>\n",
       "    </tr>\n",
       "    <tr>\n",
       "      <th>duration_ms</th>\n",
       "      <td>207560</td>\n",
       "      <td>272240</td>\n",
       "      <td>160093</td>\n",
       "      <td>155667</td>\n",
       "      <td>265173</td>\n",
       "    </tr>\n",
       "    <tr>\n",
       "      <th>time_signature</th>\n",
       "      <td>3</td>\n",
       "      <td>3</td>\n",
       "      <td>4</td>\n",
       "      <td>4</td>\n",
       "      <td>4</td>\n",
       "    </tr>\n",
       "    <tr>\n",
       "      <th>year</th>\n",
       "      <td>1985</td>\n",
       "      <td>1985</td>\n",
       "      <td>1985</td>\n",
       "      <td>1985</td>\n",
       "      <td>1985</td>\n",
       "    </tr>\n",
       "  </tbody>\n",
       "</table>\n",
       "</div>"
      ],
      "text/plain": [
       "                                                           0  \\\n",
       "isrc                                            AEA040700577   \n",
       "genres                              ['j-pop', 'jazz', 'pop']   \n",
       "name                                           Bala Wala Chi   \n",
       "artists                                         Ziad Rahbani   \n",
       "album                                           Houdou Nisbi   \n",
       "release_date                                      1985-01-01   \n",
       "release_date_precision                                   day   \n",
       "uri                     spotify:track:0fylgLeNObjVvwhd8caHqX   \n",
       "spotify_id                            0fylgLeNObjVvwhd8caHqX   \n",
       "chart_power                                              NaN   \n",
       "popularity                                                41   \n",
       "danceability                                           0.291   \n",
       "energy                                                 0.231   \n",
       "key                                                        9   \n",
       "loudness                                             -18.808   \n",
       "mode                                                       1   \n",
       "speechiness                                           0.0418   \n",
       "acousticness                                           0.952   \n",
       "instrumentalness                                       0.382   \n",
       "liveness                                               0.237   \n",
       "valence                                                0.371   \n",
       "tempo                                                157.168   \n",
       "duration_ms                                           207560   \n",
       "time_signature                                             3   \n",
       "year                                                    1985   \n",
       "\n",
       "                                                           1  \\\n",
       "isrc                                            AEA040700578   \n",
       "genres                    ['groove', 'j-pop', 'jazz', 'pop']   \n",
       "name                                            Houdou Nisbi   \n",
       "artists                                         Ziad Rahbani   \n",
       "album                                           Houdou Nisbi   \n",
       "release_date                                      1985-01-01   \n",
       "release_date_precision                                   day   \n",
       "uri                     spotify:track:0yMFpBNCYXqwwOAg23bC8a   \n",
       "spotify_id                            0yMFpBNCYXqwwOAg23bC8a   \n",
       "chart_power                                              NaN   \n",
       "popularity                                                31   \n",
       "danceability                                           0.587   \n",
       "energy                                                 0.184   \n",
       "key                                                        7   \n",
       "loudness                                             -18.954   \n",
       "mode                                                       0   \n",
       "speechiness                                           0.0308   \n",
       "acousticness                                           0.814   \n",
       "instrumentalness                                       0.951   \n",
       "liveness                                              0.0827   \n",
       "valence                                                0.495   \n",
       "tempo                                                128.386   \n",
       "duration_ms                                           272240   \n",
       "time_signature                                             3   \n",
       "year                                                    1985   \n",
       "\n",
       "                                                           2  \\\n",
       "isrc                                            AEA040700579   \n",
       "genres                    ['groove', 'j-pop', 'jazz', 'pop']   \n",
       "name                                        Nafs Al Sheghlat   \n",
       "artists                                         Ziad Rahbani   \n",
       "album                                           Houdou Nisbi   \n",
       "release_date                                      1985-01-01   \n",
       "release_date_precision                                   day   \n",
       "uri                     spotify:track:6G8l1kI8QlTD0UDIak5F8H   \n",
       "spotify_id                            6G8l1kI8QlTD0UDIak5F8H   \n",
       "chart_power                                              NaN   \n",
       "popularity                                                21   \n",
       "danceability                                           0.496   \n",
       "energy                                                 0.264   \n",
       "key                                                        3   \n",
       "loudness                                             -21.179   \n",
       "mode                                                       1   \n",
       "speechiness                                           0.0449   \n",
       "acousticness                                           0.954   \n",
       "instrumentalness                                       0.887   \n",
       "liveness                                               0.271   \n",
       "valence                                                0.304   \n",
       "tempo                                                  82.63   \n",
       "duration_ms                                           160093   \n",
       "time_signature                                             4   \n",
       "year                                                    1985   \n",
       "\n",
       "                                                           3  \\\n",
       "isrc                                            AEA040700580   \n",
       "genres                    ['groove', 'j-pop', 'jazz', 'pop']   \n",
       "name                                      Yalla Kichou Barra   \n",
       "artists                                         Ziad Rahbani   \n",
       "album                                           Houdou Nisbi   \n",
       "release_date                                      1985-01-01   \n",
       "release_date_precision                                   day   \n",
       "uri                     spotify:track:21g76Lq5Jg4QvfTDvi4PlH   \n",
       "spotify_id                            21g76Lq5Jg4QvfTDvi4PlH   \n",
       "chart_power                                              NaN   \n",
       "popularity                                                17   \n",
       "danceability                                           0.676   \n",
       "energy                                                  0.43   \n",
       "key                                                        5   \n",
       "loudness                                             -18.456   \n",
       "mode                                                       1   \n",
       "speechiness                                           0.0341   \n",
       "acousticness                                            0.43   \n",
       "instrumentalness                                       0.838   \n",
       "liveness                                               0.124   \n",
       "valence                                                0.656   \n",
       "tempo                                                102.485   \n",
       "duration_ms                                           155667   \n",
       "time_signature                                             4   \n",
       "year                                                    1985   \n",
       "\n",
       "                                                                4  \n",
       "isrc                                                 AEA040700581  \n",
       "genres                  ['groove', 'j-pop', 'jazz', 'pop', 'pop']  \n",
       "name                                                      Ma Tfel  \n",
       "artists                                              Ziad Rahbani  \n",
       "album                                                Houdou Nisbi  \n",
       "release_date                                           1985-01-01  \n",
       "release_date_precision                                        day  \n",
       "uri                          spotify:track:0pKxrkFh8fxPKpkO29MYmi  \n",
       "spotify_id                                 0pKxrkFh8fxPKpkO29MYmi  \n",
       "chart_power                                                   NaN  \n",
       "popularity                                                     31  \n",
       "danceability                                                0.474  \n",
       "energy                                                      0.428  \n",
       "key                                                             5  \n",
       "loudness                                                  -18.178  \n",
       "mode                                                            0  \n",
       "speechiness                                                0.0436  \n",
       "acousticness                                                0.749  \n",
       "instrumentalness                                            0.941  \n",
       "liveness                                                    0.115  \n",
       "valence                                                     0.752  \n",
       "tempo                                                     150.656  \n",
       "duration_ms                                                265173  \n",
       "time_signature                                                  4  \n",
       "year                                                         1985  "
      ]
     },
     "execution_count": 54,
     "metadata": {},
     "output_type": "execute_result"
    }
   ],
   "source": [
    "by_isrc.head().T"
   ]
  },
  {
   "attachments": {},
   "cell_type": "markdown",
   "metadata": {},
   "source": [
    "## Find the biggest genres"
   ]
  },
  {
   "cell_type": "code",
   "execution_count": 55,
   "metadata": {},
   "outputs": [],
   "source": [
    "df = pd.read_csv('data/DE/data-neu.csv')\n",
    "df.drop_duplicates(inplace=True)"
   ]
  },
  {
   "cell_type": "code",
   "execution_count": 56,
   "metadata": {},
   "outputs": [],
   "source": [
    "ct = pd.crosstab(df['isrc'], df['genres'])\n",
    "# ct.reset_index(inplace=True)\n",
    "ct = ct.applymap(lambda x: 1 if x > 1 else x)\n",
    "ct.reset_index(inplace=True)"
   ]
  },
  {
   "cell_type": "code",
   "execution_count": 65,
   "metadata": {},
   "outputs": [],
   "source": [
    "ct_sum = ct.sum()"
   ]
  },
  {
   "cell_type": "code",
   "execution_count": 104,
   "metadata": {},
   "outputs": [],
   "source": [
    "ct_sum_df = pd.DataFrame(ct_sum)"
   ]
  },
  {
   "cell_type": "code",
   "execution_count": 105,
   "metadata": {},
   "outputs": [],
   "source": [
    "ct_sum_df.drop(index='isrc', inplace=True)"
   ]
  },
  {
   "cell_type": "code",
   "execution_count": 106,
   "metadata": {},
   "outputs": [],
   "source": [
    "ct_sum_df.rename(columns={0: 'count'}, inplace=True)"
   ]
  },
  {
   "cell_type": "code",
   "execution_count": 143,
   "metadata": {},
   "outputs": [],
   "source": [
    "sorted_genres = ct_sum_df.sort_values(by='count', ascending=False).index.to_list()"
   ]
  },
  {
   "cell_type": "code",
   "execution_count": 142,
   "metadata": {},
   "outputs": [
    {
     "data": {
      "text/html": [
       "<div>\n",
       "<style scoped>\n",
       "    .dataframe tbody tr th:only-of-type {\n",
       "        vertical-align: middle;\n",
       "    }\n",
       "\n",
       "    .dataframe tbody tr th {\n",
       "        vertical-align: top;\n",
       "    }\n",
       "\n",
       "    .dataframe thead th {\n",
       "        text-align: right;\n",
       "    }\n",
       "</style>\n",
       "<table border=\"1\" class=\"dataframe\">\n",
       "  <thead>\n",
       "    <tr style=\"text-align: right;\">\n",
       "      <th></th>\n",
       "      <th>count</th>\n",
       "    </tr>\n",
       "    <tr>\n",
       "      <th>genres</th>\n",
       "      <th></th>\n",
       "    </tr>\n",
       "  </thead>\n",
       "  <tbody>\n",
       "    <tr>\n",
       "      <th>pop</th>\n",
       "      <td>118762</td>\n",
       "    </tr>\n",
       "    <tr>\n",
       "      <th>rock</th>\n",
       "      <td>93935</td>\n",
       "    </tr>\n",
       "    <tr>\n",
       "      <th>classical</th>\n",
       "      <td>93628</td>\n",
       "    </tr>\n",
       "    <tr>\n",
       "      <th>german</th>\n",
       "      <td>37752</td>\n",
       "    </tr>\n",
       "    <tr>\n",
       "      <th>jazz</th>\n",
       "      <td>30068</td>\n",
       "    </tr>\n",
       "    <tr>\n",
       "      <th>folk</th>\n",
       "      <td>30053</td>\n",
       "    </tr>\n",
       "    <tr>\n",
       "      <th>punk</th>\n",
       "      <td>24275</td>\n",
       "    </tr>\n",
       "    <tr>\n",
       "      <th>metal</th>\n",
       "      <td>15761</td>\n",
       "    </tr>\n",
       "    <tr>\n",
       "      <th>country</th>\n",
       "      <td>15546</td>\n",
       "    </tr>\n",
       "    <tr>\n",
       "      <th>french</th>\n",
       "      <td>14217</td>\n",
       "    </tr>\n",
       "    <tr>\n",
       "      <th>blues</th>\n",
       "      <td>12211</td>\n",
       "    </tr>\n",
       "    <tr>\n",
       "      <th>hard-rock</th>\n",
       "      <td>11659</td>\n",
       "    </tr>\n",
       "    <tr>\n",
       "      <th>soul</th>\n",
       "      <td>11099</td>\n",
       "    </tr>\n",
       "    <tr>\n",
       "      <th>opera</th>\n",
       "      <td>10695</td>\n",
       "    </tr>\n",
       "    <tr>\n",
       "      <th>british</th>\n",
       "      <td>10532</td>\n",
       "    </tr>\n",
       "  </tbody>\n",
       "</table>\n",
       "</div>"
      ],
      "text/plain": [
       "            count\n",
       "genres           \n",
       "pop        118762\n",
       "rock        93935\n",
       "classical   93628\n",
       "german      37752\n",
       "jazz        30068\n",
       "folk        30053\n",
       "punk        24275\n",
       "metal       15761\n",
       "country     15546\n",
       "french      14217\n",
       "blues       12211\n",
       "hard-rock   11659\n",
       "soul        11099\n",
       "opera       10695\n",
       "british     10532"
      ]
     },
     "execution_count": 142,
     "metadata": {},
     "output_type": "execute_result"
    }
   ],
   "source": [
    "ct_sum_df.sort_values(by='count', ascending=False)[0:15]"
   ]
  },
  {
   "attachments": {},
   "cell_type": "markdown",
   "metadata": {},
   "source": [
    "Biggest genres is pop. Hard-rock is only on the 12th place."
   ]
  },
  {
   "attachments": {},
   "cell_type": "markdown",
   "metadata": {},
   "source": [
    "Count occurences of the top genres per year"
   ]
  },
  {
   "cell_type": "code",
   "execution_count": 298,
   "metadata": {},
   "outputs": [],
   "source": [
    "by_isrc_year = by_isrc.copy()\n",
    "by_isrc_year = by_isrc_year[['year', 'isrc']]\n",
    "by_isrc_year = by_isrc_year.merge(ct, on=['isrc'], how='left')\n",
    "by_isrc_year.set_index('year', inplace=True)\n",
    "by_isrc_year = by_isrc_year[sorted_genres[:10]]\n",
    "by_isrc_year = by_isrc_year.groupby('year').sum()\n",
    "by_isrc_year.index = by_isrc_year.index.astype(str)"
   ]
  },
  {
   "attachments": {},
   "cell_type": "markdown",
   "metadata": {},
   "source": [
    "## Development of features over the years"
   ]
  },
  {
   "cell_type": "code",
   "execution_count": 116,
   "metadata": {},
   "outputs": [],
   "source": [
    "df = pd.read_csv('data/DE/data-year.csv')"
   ]
  },
  {
   "cell_type": "code",
   "execution_count": 119,
   "metadata": {},
   "outputs": [],
   "source": [
    "df = by_isrc.copy()"
   ]
  },
  {
   "cell_type": "code",
   "execution_count": 120,
   "metadata": {},
   "outputs": [
    {
     "data": {
      "text/html": [
       "<div>\n",
       "<style scoped>\n",
       "    .dataframe tbody tr th:only-of-type {\n",
       "        vertical-align: middle;\n",
       "    }\n",
       "\n",
       "    .dataframe tbody tr th {\n",
       "        vertical-align: top;\n",
       "    }\n",
       "\n",
       "    .dataframe thead th {\n",
       "        text-align: right;\n",
       "    }\n",
       "</style>\n",
       "<table border=\"1\" class=\"dataframe\">\n",
       "  <thead>\n",
       "    <tr style=\"text-align: right;\">\n",
       "      <th></th>\n",
       "      <th>0</th>\n",
       "      <th>1</th>\n",
       "    </tr>\n",
       "  </thead>\n",
       "  <tbody>\n",
       "    <tr>\n",
       "      <th>isrc</th>\n",
       "      <td>AEA040700577</td>\n",
       "      <td>AEA040700578</td>\n",
       "    </tr>\n",
       "    <tr>\n",
       "      <th>genres</th>\n",
       "      <td>['j-pop', 'jazz', 'pop']</td>\n",
       "      <td>['groove', 'j-pop', 'jazz', 'pop']</td>\n",
       "    </tr>\n",
       "    <tr>\n",
       "      <th>name</th>\n",
       "      <td>Bala Wala Chi</td>\n",
       "      <td>Houdou Nisbi</td>\n",
       "    </tr>\n",
       "    <tr>\n",
       "      <th>artists</th>\n",
       "      <td>Ziad Rahbani</td>\n",
       "      <td>Ziad Rahbani</td>\n",
       "    </tr>\n",
       "    <tr>\n",
       "      <th>album</th>\n",
       "      <td>Houdou Nisbi</td>\n",
       "      <td>Houdou Nisbi</td>\n",
       "    </tr>\n",
       "    <tr>\n",
       "      <th>release_date</th>\n",
       "      <td>1985-01-01</td>\n",
       "      <td>1985-01-01</td>\n",
       "    </tr>\n",
       "    <tr>\n",
       "      <th>release_date_precision</th>\n",
       "      <td>day</td>\n",
       "      <td>day</td>\n",
       "    </tr>\n",
       "    <tr>\n",
       "      <th>uri</th>\n",
       "      <td>spotify:track:0fylgLeNObjVvwhd8caHqX</td>\n",
       "      <td>spotify:track:0yMFpBNCYXqwwOAg23bC8a</td>\n",
       "    </tr>\n",
       "    <tr>\n",
       "      <th>spotify_id</th>\n",
       "      <td>0fylgLeNObjVvwhd8caHqX</td>\n",
       "      <td>0yMFpBNCYXqwwOAg23bC8a</td>\n",
       "    </tr>\n",
       "    <tr>\n",
       "      <th>chart_power</th>\n",
       "      <td>NaN</td>\n",
       "      <td>NaN</td>\n",
       "    </tr>\n",
       "    <tr>\n",
       "      <th>popularity</th>\n",
       "      <td>41</td>\n",
       "      <td>31</td>\n",
       "    </tr>\n",
       "    <tr>\n",
       "      <th>danceability</th>\n",
       "      <td>0.291</td>\n",
       "      <td>0.587</td>\n",
       "    </tr>\n",
       "    <tr>\n",
       "      <th>energy</th>\n",
       "      <td>0.231</td>\n",
       "      <td>0.184</td>\n",
       "    </tr>\n",
       "    <tr>\n",
       "      <th>key</th>\n",
       "      <td>9</td>\n",
       "      <td>7</td>\n",
       "    </tr>\n",
       "    <tr>\n",
       "      <th>loudness</th>\n",
       "      <td>-18.808</td>\n",
       "      <td>-18.954</td>\n",
       "    </tr>\n",
       "    <tr>\n",
       "      <th>mode</th>\n",
       "      <td>1</td>\n",
       "      <td>0</td>\n",
       "    </tr>\n",
       "    <tr>\n",
       "      <th>speechiness</th>\n",
       "      <td>0.0418</td>\n",
       "      <td>0.0308</td>\n",
       "    </tr>\n",
       "    <tr>\n",
       "      <th>acousticness</th>\n",
       "      <td>0.952</td>\n",
       "      <td>0.814</td>\n",
       "    </tr>\n",
       "    <tr>\n",
       "      <th>instrumentalness</th>\n",
       "      <td>0.382</td>\n",
       "      <td>0.951</td>\n",
       "    </tr>\n",
       "    <tr>\n",
       "      <th>liveness</th>\n",
       "      <td>0.237</td>\n",
       "      <td>0.0827</td>\n",
       "    </tr>\n",
       "    <tr>\n",
       "      <th>valence</th>\n",
       "      <td>0.371</td>\n",
       "      <td>0.495</td>\n",
       "    </tr>\n",
       "    <tr>\n",
       "      <th>tempo</th>\n",
       "      <td>157.168</td>\n",
       "      <td>128.386</td>\n",
       "    </tr>\n",
       "    <tr>\n",
       "      <th>duration_ms</th>\n",
       "      <td>207560</td>\n",
       "      <td>272240</td>\n",
       "    </tr>\n",
       "    <tr>\n",
       "      <th>time_signature</th>\n",
       "      <td>3</td>\n",
       "      <td>3</td>\n",
       "    </tr>\n",
       "    <tr>\n",
       "      <th>year</th>\n",
       "      <td>1985</td>\n",
       "      <td>1985</td>\n",
       "    </tr>\n",
       "  </tbody>\n",
       "</table>\n",
       "</div>"
      ],
      "text/plain": [
       "                                                           0  \\\n",
       "isrc                                            AEA040700577   \n",
       "genres                              ['j-pop', 'jazz', 'pop']   \n",
       "name                                           Bala Wala Chi   \n",
       "artists                                         Ziad Rahbani   \n",
       "album                                           Houdou Nisbi   \n",
       "release_date                                      1985-01-01   \n",
       "release_date_precision                                   day   \n",
       "uri                     spotify:track:0fylgLeNObjVvwhd8caHqX   \n",
       "spotify_id                            0fylgLeNObjVvwhd8caHqX   \n",
       "chart_power                                              NaN   \n",
       "popularity                                                41   \n",
       "danceability                                           0.291   \n",
       "energy                                                 0.231   \n",
       "key                                                        9   \n",
       "loudness                                             -18.808   \n",
       "mode                                                       1   \n",
       "speechiness                                           0.0418   \n",
       "acousticness                                           0.952   \n",
       "instrumentalness                                       0.382   \n",
       "liveness                                               0.237   \n",
       "valence                                                0.371   \n",
       "tempo                                                157.168   \n",
       "duration_ms                                           207560   \n",
       "time_signature                                             3   \n",
       "year                                                    1985   \n",
       "\n",
       "                                                           1  \n",
       "isrc                                            AEA040700578  \n",
       "genres                    ['groove', 'j-pop', 'jazz', 'pop']  \n",
       "name                                            Houdou Nisbi  \n",
       "artists                                         Ziad Rahbani  \n",
       "album                                           Houdou Nisbi  \n",
       "release_date                                      1985-01-01  \n",
       "release_date_precision                                   day  \n",
       "uri                     spotify:track:0yMFpBNCYXqwwOAg23bC8a  \n",
       "spotify_id                            0yMFpBNCYXqwwOAg23bC8a  \n",
       "chart_power                                              NaN  \n",
       "popularity                                                31  \n",
       "danceability                                           0.587  \n",
       "energy                                                 0.184  \n",
       "key                                                        7  \n",
       "loudness                                             -18.954  \n",
       "mode                                                       0  \n",
       "speechiness                                           0.0308  \n",
       "acousticness                                           0.814  \n",
       "instrumentalness                                       0.951  \n",
       "liveness                                              0.0827  \n",
       "valence                                                0.495  \n",
       "tempo                                                128.386  \n",
       "duration_ms                                           272240  \n",
       "time_signature                                             3  \n",
       "year                                                    1985  "
      ]
     },
     "execution_count": 120,
     "metadata": {},
     "output_type": "execute_result"
    }
   ],
   "source": [
    "df.head(2).T"
   ]
  },
  {
   "cell_type": "code",
   "execution_count": 121,
   "metadata": {},
   "outputs": [],
   "source": [
    "songs_per_year = df.copy()\n",
    "songs_per_year = songs_per_year[['year', 'popularity', 'danceability', 'energy',\n",
    "                                 'key', 'loudness', 'mode', 'speechiness',\n",
    "                                 'acousticness', 'instrumentalness', 'liveness',\n",
    "                                 'valence', 'tempo', 'duration_ms',\n",
    "                                 'time_signature']]\n",
    "songs_per_year['count'] = -1\n",
    "songs_per_year = songs_per_year.groupby(\"year\").agg({\n",
    "    \"popularity\": 'mean',\n",
    "    'danceability': 'mean', \n",
    "    'energy': 'mean',\n",
    "    'key': 'mean', \n",
    "    'loudness': 'mean', \n",
    "    'mode': 'mean', \n",
    "    'speechiness': 'mean',\n",
    "    'acousticness': 'mean', \n",
    "    'instrumentalness': 'mean', \n",
    "    'liveness': 'mean',\n",
    "    'valence': 'mean', \n",
    "    'tempo': 'mean', \n",
    "    'duration_ms': 'mean',\n",
    "    'time_signature': 'mean',\n",
    "    'count': 'count'\n",
    "})\n",
    "songs_per_year.reset_index(inplace=True)"
   ]
  },
  {
   "cell_type": "code",
   "execution_count": 122,
   "metadata": {},
   "outputs": [],
   "source": [
    "songs_per_year['duration_min'] = songs_per_year['duration_ms'] / (1000 * 60)"
   ]
  },
  {
   "cell_type": "code",
   "execution_count": 123,
   "metadata": {
    "scrolled": true
   },
   "outputs": [
    {
     "data": {
      "text/html": [
       "<div>\n",
       "<style scoped>\n",
       "    .dataframe tbody tr th:only-of-type {\n",
       "        vertical-align: middle;\n",
       "    }\n",
       "\n",
       "    .dataframe tbody tr th {\n",
       "        vertical-align: top;\n",
       "    }\n",
       "\n",
       "    .dataframe thead th {\n",
       "        text-align: right;\n",
       "    }\n",
       "</style>\n",
       "<table border=\"1\" class=\"dataframe\">\n",
       "  <thead>\n",
       "    <tr style=\"text-align: right;\">\n",
       "      <th></th>\n",
       "      <th>year</th>\n",
       "      <th>popularity</th>\n",
       "      <th>danceability</th>\n",
       "      <th>energy</th>\n",
       "      <th>key</th>\n",
       "      <th>loudness</th>\n",
       "      <th>mode</th>\n",
       "      <th>speechiness</th>\n",
       "      <th>acousticness</th>\n",
       "      <th>instrumentalness</th>\n",
       "      <th>liveness</th>\n",
       "      <th>valence</th>\n",
       "      <th>tempo</th>\n",
       "      <th>duration_ms</th>\n",
       "      <th>time_signature</th>\n",
       "      <th>count</th>\n",
       "      <th>duration_min</th>\n",
       "    </tr>\n",
       "  </thead>\n",
       "  <tbody>\n",
       "    <tr>\n",
       "      <th>0</th>\n",
       "      <td>1980</td>\n",
       "      <td>6.932103</td>\n",
       "      <td>0.499812</td>\n",
       "      <td>0.485525</td>\n",
       "      <td>5.110445</td>\n",
       "      <td>-12.356653</td>\n",
       "      <td>0.703678</td>\n",
       "      <td>0.065002</td>\n",
       "      <td>0.521989</td>\n",
       "      <td>0.169238</td>\n",
       "      <td>0.220967</td>\n",
       "      <td>0.543921</td>\n",
       "      <td>118.259726</td>\n",
       "      <td>247998.407916</td>\n",
       "      <td>3.830705</td>\n",
       "      <td>35701</td>\n",
       "      <td>4.133307</td>\n",
       "    </tr>\n",
       "    <tr>\n",
       "      <th>1</th>\n",
       "      <td>1981</td>\n",
       "      <td>7.112235</td>\n",
       "      <td>0.501099</td>\n",
       "      <td>0.488608</td>\n",
       "      <td>5.164865</td>\n",
       "      <td>-12.559169</td>\n",
       "      <td>0.699801</td>\n",
       "      <td>0.068562</td>\n",
       "      <td>0.511205</td>\n",
       "      <td>0.175626</td>\n",
       "      <td>0.222056</td>\n",
       "      <td>0.541400</td>\n",
       "      <td>118.658803</td>\n",
       "      <td>244699.429525</td>\n",
       "      <td>3.832266</td>\n",
       "      <td>33118</td>\n",
       "      <td>4.078324</td>\n",
       "    </tr>\n",
       "    <tr>\n",
       "      <th>2</th>\n",
       "      <td>1982</td>\n",
       "      <td>7.169674</td>\n",
       "      <td>0.503354</td>\n",
       "      <td>0.486809</td>\n",
       "      <td>5.193071</td>\n",
       "      <td>-12.731032</td>\n",
       "      <td>0.698866</td>\n",
       "      <td>0.077487</td>\n",
       "      <td>0.507867</td>\n",
       "      <td>0.175538</td>\n",
       "      <td>0.221643</td>\n",
       "      <td>0.531725</td>\n",
       "      <td>118.373840</td>\n",
       "      <td>247427.740306</td>\n",
       "      <td>3.835526</td>\n",
       "      <td>31926</td>\n",
       "      <td>4.123796</td>\n",
       "    </tr>\n",
       "    <tr>\n",
       "      <th>3</th>\n",
       "      <td>1983</td>\n",
       "      <td>7.047373</td>\n",
       "      <td>0.495283</td>\n",
       "      <td>0.471217</td>\n",
       "      <td>5.186754</td>\n",
       "      <td>-13.219378</td>\n",
       "      <td>0.687359</td>\n",
       "      <td>0.065915</td>\n",
       "      <td>0.516330</td>\n",
       "      <td>0.193409</td>\n",
       "      <td>0.217015</td>\n",
       "      <td>0.519328</td>\n",
       "      <td>117.784345</td>\n",
       "      <td>251536.693328</td>\n",
       "      <td>3.830344</td>\n",
       "      <td>34682</td>\n",
       "      <td>4.192278</td>\n",
       "    </tr>\n",
       "    <tr>\n",
       "      <th>4</th>\n",
       "      <td>1984</td>\n",
       "      <td>7.346757</td>\n",
       "      <td>0.491733</td>\n",
       "      <td>0.477950</td>\n",
       "      <td>5.207964</td>\n",
       "      <td>-13.240091</td>\n",
       "      <td>0.674151</td>\n",
       "      <td>0.064660</td>\n",
       "      <td>0.512988</td>\n",
       "      <td>0.188150</td>\n",
       "      <td>0.222164</td>\n",
       "      <td>0.507015</td>\n",
       "      <td>117.703958</td>\n",
       "      <td>249410.156878</td>\n",
       "      <td>3.837688</td>\n",
       "      <td>37545</td>\n",
       "      <td>4.156836</td>\n",
       "    </tr>\n",
       "    <tr>\n",
       "      <th>5</th>\n",
       "      <td>1985</td>\n",
       "      <td>7.163784</td>\n",
       "      <td>0.488324</td>\n",
       "      <td>0.470269</td>\n",
       "      <td>5.156586</td>\n",
       "      <td>-13.452114</td>\n",
       "      <td>0.684718</td>\n",
       "      <td>0.061279</td>\n",
       "      <td>0.523986</td>\n",
       "      <td>0.203092</td>\n",
       "      <td>0.215998</td>\n",
       "      <td>0.506548</td>\n",
       "      <td>117.184774</td>\n",
       "      <td>255583.193630</td>\n",
       "      <td>3.833289</td>\n",
       "      <td>37928</td>\n",
       "      <td>4.259720</td>\n",
       "    </tr>\n",
       "    <tr>\n",
       "      <th>6</th>\n",
       "      <td>1986</td>\n",
       "      <td>6.717974</td>\n",
       "      <td>0.474060</td>\n",
       "      <td>0.456206</td>\n",
       "      <td>5.176228</td>\n",
       "      <td>-13.903385</td>\n",
       "      <td>0.686777</td>\n",
       "      <td>0.062151</td>\n",
       "      <td>0.543401</td>\n",
       "      <td>0.219038</td>\n",
       "      <td>0.211249</td>\n",
       "      <td>0.486566</td>\n",
       "      <td>116.233584</td>\n",
       "      <td>256471.286957</td>\n",
       "      <td>3.829770</td>\n",
       "      <td>42184</td>\n",
       "      <td>4.274521</td>\n",
       "    </tr>\n",
       "    <tr>\n",
       "      <th>7</th>\n",
       "      <td>1987</td>\n",
       "      <td>6.634905</td>\n",
       "      <td>0.469873</td>\n",
       "      <td>0.443336</td>\n",
       "      <td>5.180522</td>\n",
       "      <td>-14.392384</td>\n",
       "      <td>0.692525</td>\n",
       "      <td>0.061195</td>\n",
       "      <td>0.553069</td>\n",
       "      <td>0.238068</td>\n",
       "      <td>0.207147</td>\n",
       "      <td>0.473718</td>\n",
       "      <td>116.127546</td>\n",
       "      <td>259072.147444</td>\n",
       "      <td>3.819021</td>\n",
       "      <td>50365</td>\n",
       "      <td>4.317869</td>\n",
       "    </tr>\n",
       "    <tr>\n",
       "      <th>8</th>\n",
       "      <td>1988</td>\n",
       "      <td>6.138412</td>\n",
       "      <td>0.464916</td>\n",
       "      <td>0.428971</td>\n",
       "      <td>5.169508</td>\n",
       "      <td>-14.948866</td>\n",
       "      <td>0.687010</td>\n",
       "      <td>0.062721</td>\n",
       "      <td>0.565367</td>\n",
       "      <td>0.260287</td>\n",
       "      <td>0.210766</td>\n",
       "      <td>0.472932</td>\n",
       "      <td>115.397637</td>\n",
       "      <td>262048.766115</td>\n",
       "      <td>3.810233</td>\n",
       "      <td>58593</td>\n",
       "      <td>4.367479</td>\n",
       "    </tr>\n",
       "    <tr>\n",
       "      <th>9</th>\n",
       "      <td>1989</td>\n",
       "      <td>6.067652</td>\n",
       "      <td>0.467819</td>\n",
       "      <td>0.418770</td>\n",
       "      <td>5.191640</td>\n",
       "      <td>-15.100176</td>\n",
       "      <td>0.691717</td>\n",
       "      <td>0.064646</td>\n",
       "      <td>0.572174</td>\n",
       "      <td>0.254533</td>\n",
       "      <td>0.206904</td>\n",
       "      <td>0.466538</td>\n",
       "      <td>115.049823</td>\n",
       "      <td>261012.425156</td>\n",
       "      <td>3.807026</td>\n",
       "      <td>65216</td>\n",
       "      <td>4.350207</td>\n",
       "    </tr>\n",
       "  </tbody>\n",
       "</table>\n",
       "</div>"
      ],
      "text/plain": [
       "   year  popularity  danceability    energy       key   loudness      mode  \\\n",
       "0  1980    6.932103      0.499812  0.485525  5.110445 -12.356653  0.703678   \n",
       "1  1981    7.112235      0.501099  0.488608  5.164865 -12.559169  0.699801   \n",
       "2  1982    7.169674      0.503354  0.486809  5.193071 -12.731032  0.698866   \n",
       "3  1983    7.047373      0.495283  0.471217  5.186754 -13.219378  0.687359   \n",
       "4  1984    7.346757      0.491733  0.477950  5.207964 -13.240091  0.674151   \n",
       "5  1985    7.163784      0.488324  0.470269  5.156586 -13.452114  0.684718   \n",
       "6  1986    6.717974      0.474060  0.456206  5.176228 -13.903385  0.686777   \n",
       "7  1987    6.634905      0.469873  0.443336  5.180522 -14.392384  0.692525   \n",
       "8  1988    6.138412      0.464916  0.428971  5.169508 -14.948866  0.687010   \n",
       "9  1989    6.067652      0.467819  0.418770  5.191640 -15.100176  0.691717   \n",
       "\n",
       "   speechiness  acousticness  instrumentalness  liveness   valence  \\\n",
       "0     0.065002      0.521989          0.169238  0.220967  0.543921   \n",
       "1     0.068562      0.511205          0.175626  0.222056  0.541400   \n",
       "2     0.077487      0.507867          0.175538  0.221643  0.531725   \n",
       "3     0.065915      0.516330          0.193409  0.217015  0.519328   \n",
       "4     0.064660      0.512988          0.188150  0.222164  0.507015   \n",
       "5     0.061279      0.523986          0.203092  0.215998  0.506548   \n",
       "6     0.062151      0.543401          0.219038  0.211249  0.486566   \n",
       "7     0.061195      0.553069          0.238068  0.207147  0.473718   \n",
       "8     0.062721      0.565367          0.260287  0.210766  0.472932   \n",
       "9     0.064646      0.572174          0.254533  0.206904  0.466538   \n",
       "\n",
       "        tempo    duration_ms  time_signature  count  duration_min  \n",
       "0  118.259726  247998.407916        3.830705  35701      4.133307  \n",
       "1  118.658803  244699.429525        3.832266  33118      4.078324  \n",
       "2  118.373840  247427.740306        3.835526  31926      4.123796  \n",
       "3  117.784345  251536.693328        3.830344  34682      4.192278  \n",
       "4  117.703958  249410.156878        3.837688  37545      4.156836  \n",
       "5  117.184774  255583.193630        3.833289  37928      4.259720  \n",
       "6  116.233584  256471.286957        3.829770  42184      4.274521  \n",
       "7  116.127546  259072.147444        3.819021  50365      4.317869  \n",
       "8  115.397637  262048.766115        3.810233  58593      4.367479  \n",
       "9  115.049823  261012.425156        3.807026  65216      4.350207  "
      ]
     },
     "execution_count": 123,
     "metadata": {},
     "output_type": "execute_result"
    }
   ],
   "source": [
    "songs_per_year.head(10)"
   ]
  },
  {
   "cell_type": "code",
   "execution_count": 124,
   "metadata": {},
   "outputs": [
    {
     "data": {
      "text/plain": [
       "Index(['year', 'popularity', 'danceability', 'energy', 'key', 'loudness',\n",
       "       'mode', 'speechiness', 'acousticness', 'instrumentalness', 'liveness',\n",
       "       'valence', 'tempo', 'duration_ms', 'time_signature', 'count',\n",
       "       'duration_min'],\n",
       "      dtype='object')"
      ]
     },
     "execution_count": 124,
     "metadata": {},
     "output_type": "execute_result"
    }
   ],
   "source": [
    "songs_per_year.columns"
   ]
  },
  {
   "cell_type": "code",
   "execution_count": 125,
   "metadata": {},
   "outputs": [],
   "source": [
    "songs_per_year = songs_per_year.astype({'year': str})"
   ]
  },
  {
   "cell_type": "code",
   "execution_count": 126,
   "metadata": {},
   "outputs": [
    {
     "data": {
      "text/html": [
       "\n",
       "<style>\n",
       "  #altair-viz-bbbef01d11cb4226bd140f9bff4c536b.vega-embed {\n",
       "    width: 100%;\n",
       "    display: flex;\n",
       "  }\n",
       "\n",
       "  #altair-viz-bbbef01d11cb4226bd140f9bff4c536b.vega-embed details,\n",
       "  #altair-viz-bbbef01d11cb4226bd140f9bff4c536b.vega-embed details summary {\n",
       "    position: relative;\n",
       "  }\n",
       "</style>\n",
       "<div id=\"altair-viz-bbbef01d11cb4226bd140f9bff4c536b\"></div>\n",
       "<script type=\"text/javascript\">\n",
       "  var VEGA_DEBUG = (typeof VEGA_DEBUG == \"undefined\") ? {} : VEGA_DEBUG;\n",
       "  (function(spec, embedOpt){\n",
       "    let outputDiv = document.currentScript.previousElementSibling;\n",
       "    if (outputDiv.id !== \"altair-viz-bbbef01d11cb4226bd140f9bff4c536b\") {\n",
       "      outputDiv = document.getElementById(\"altair-viz-bbbef01d11cb4226bd140f9bff4c536b\");\n",
       "    }\n",
       "    const paths = {\n",
       "      \"vega\": \"https://cdn.jsdelivr.net/npm/vega@5?noext\",\n",
       "      \"vega-lib\": \"https://cdn.jsdelivr.net/npm/vega-lib?noext\",\n",
       "      \"vega-lite\": \"https://cdn.jsdelivr.net/npm/vega-lite@5.8.0?noext\",\n",
       "      \"vega-embed\": \"https://cdn.jsdelivr.net/npm/vega-embed@6?noext\",\n",
       "    };\n",
       "\n",
       "    function maybeLoadScript(lib, version) {\n",
       "      var key = `${lib.replace(\"-\", \"\")}_version`;\n",
       "      return (VEGA_DEBUG[key] == version) ?\n",
       "        Promise.resolve(paths[lib]) :\n",
       "        new Promise(function(resolve, reject) {\n",
       "          var s = document.createElement('script');\n",
       "          document.getElementsByTagName(\"head\")[0].appendChild(s);\n",
       "          s.async = true;\n",
       "          s.onload = () => {\n",
       "            VEGA_DEBUG[key] = version;\n",
       "            return resolve(paths[lib]);\n",
       "          };\n",
       "          s.onerror = () => reject(`Error loading script: ${paths[lib]}`);\n",
       "          s.src = paths[lib];\n",
       "        });\n",
       "    }\n",
       "\n",
       "    function showError(err) {\n",
       "      outputDiv.innerHTML = `<div class=\"error\" style=\"color:red;\">${err}</div>`;\n",
       "      throw err;\n",
       "    }\n",
       "\n",
       "    function displayChart(vegaEmbed) {\n",
       "      vegaEmbed(outputDiv, spec, embedOpt)\n",
       "        .catch(err => showError(`Javascript Error: ${err.message}<br>This usually means there's a typo in your chart specification. See the javascript console for the full traceback.`));\n",
       "    }\n",
       "\n",
       "    if(typeof define === \"function\" && define.amd) {\n",
       "      requirejs.config({paths});\n",
       "      require([\"vega-embed\"], displayChart, err => showError(`Error loading script: ${err.message}`));\n",
       "    } else {\n",
       "      maybeLoadScript(\"vega\", \"5\")\n",
       "        .then(() => maybeLoadScript(\"vega-lite\", \"5.8.0\"))\n",
       "        .then(() => maybeLoadScript(\"vega-embed\", \"6\"))\n",
       "        .catch(showError)\n",
       "        .then(() => displayChart(vegaEmbed));\n",
       "    }\n",
       "  })({\"config\": {\"view\": {\"continuousWidth\": 300, \"continuousHeight\": 300}}, \"data\": {\"name\": \"data-01ccc0838f5770834d5d105ed6c8b1bf\"}, \"mark\": {\"type\": \"bar\"}, \"encoding\": {\"x\": {\"field\": \"year\", \"type\": \"nominal\"}, \"y\": {\"field\": \"count\", \"type\": \"quantitative\"}}, \"$schema\": \"https://vega.github.io/schema/vega-lite/v5.8.0.json\", \"datasets\": {\"data-01ccc0838f5770834d5d105ed6c8b1bf\": [{\"year\": \"1980\", \"popularity\": 6.932102742220106, \"danceability\": 0.4998124562337189, \"energy\": 0.48552519783479453, \"key\": 5.110445085571833, \"loudness\": -12.356652894876895, \"mode\": 0.7036777681297443, \"speechiness\": 0.0650020587658609, \"acousticness\": 0.5219893381686788, \"instrumentalness\": 0.16923755234531246, \"liveness\": 0.2209671745889471, \"valence\": 0.5439210050138651, \"tempo\": 118.25972558191648, \"duration_ms\": 247998.40791574467, \"time_signature\": 3.8307050222682837, \"count\": 35701, \"duration_min\": 4.133306798595744}, {\"year\": \"1981\", \"popularity\": 7.112235038347726, \"danceability\": 0.5010986200857539, \"energy\": 0.48860811881756144, \"key\": 5.1648650280814055, \"loudness\": -12.559168971556254, \"mode\": 0.699800712603418, \"speechiness\": 0.06856158886406184, \"acousticness\": 0.5112052505797452, \"instrumentalness\": 0.17562550353765324, \"liveness\": 0.22205557098858628, \"valence\": 0.541400024156048, \"tempo\": 118.65880300742798, \"duration_ms\": 244699.42952472976, \"time_signature\": 3.832266441210218, \"count\": 33118, \"duration_min\": 4.078323825412163}, {\"year\": \"1982\", \"popularity\": 7.1696736202468205, \"danceability\": 0.5033540343293867, \"energy\": 0.4868088639353505, \"key\": 5.193071477792395, \"loudness\": -12.731031666979892, \"mode\": 0.6988661279208169, \"speechiness\": 0.07748722671177097, \"acousticness\": 0.5078666530442273, \"instrumentalness\": 0.17553799155923072, \"liveness\": 0.2216431717095784, \"valence\": 0.5317252020296938, \"tempo\": 118.3738404748481, \"duration_ms\": 247427.74030570695, \"time_signature\": 3.835525903652196, \"count\": 31926, \"duration_min\": 4.1237956717617825}, {\"year\": \"1983\", \"popularity\": 7.047373277204313, \"danceability\": 0.4952828931434174, \"energy\": 0.4712166361080676, \"key\": 5.186753935759183, \"loudness\": -13.219378438383023, \"mode\": 0.6873594371720201, \"speechiness\": 0.06591524421890319, \"acousticness\": 0.5163296367435557, \"instrumentalness\": 0.1934094767034773, \"liveness\": 0.2170150037483421, \"valence\": 0.5193278761317109, \"tempo\": 117.7843449916383, \"duration_ms\": 251536.6933279511, \"time_signature\": 3.8303442708032986, \"count\": 34682, \"duration_min\": 4.1922782221325186}, {\"year\": \"1984\", \"popularity\": 7.346757224663737, \"danceability\": 0.4917331175922227, \"energy\": 0.4779499761406313, \"key\": 5.207963776801172, \"loudness\": -13.240090984152351, \"mode\": 0.6741510187774671, \"speechiness\": 0.06465998401917698, \"acousticness\": 0.5129876254667732, \"instrumentalness\": 0.1881501483678253, \"liveness\": 0.22216378479158344, \"valence\": 0.5070153623651619, \"tempo\": 117.70395797043548, \"duration_ms\": 249410.15687841258, \"time_signature\": 3.837688107604208, \"count\": 37545, \"duration_min\": 4.156835947973543}, {\"year\": \"1985\", \"popularity\": 7.163784011811854, \"danceability\": 0.488324198481333, \"energy\": 0.47026927725163464, \"key\": 5.156586163256697, \"loudness\": -13.452113820923856, \"mode\": 0.6847184138367433, \"speechiness\": 0.061279313435983966, \"acousticness\": 0.5239858703823033, \"instrumentalness\": 0.20309187022279054, \"liveness\": 0.21599801360472476, \"valence\": 0.5065484170006328, \"tempo\": 117.18477425648597, \"duration_ms\": 255583.19363003585, \"time_signature\": 3.8332893904239613, \"count\": 37928, \"duration_min\": 4.259719893833931}, {\"year\": \"1986\", \"popularity\": 6.717973639294519, \"danceability\": 0.47405965034136166, \"energy\": 0.45620629651052536, \"key\": 5.176227953726531, \"loudness\": -13.903385098615589, \"mode\": 0.6867769770529111, \"speechiness\": 0.062151126019343826, \"acousticness\": 0.5434014227671629, \"instrumentalness\": 0.21903785887137303, \"liveness\": 0.21124935046463114, \"valence\": 0.4865658021998862, \"tempo\": 116.23358356248815, \"duration_ms\": 256471.28695714014, \"time_signature\": 3.8297695808837475, \"count\": 42184, \"duration_min\": 4.274521449285669}, {\"year\": \"1987\", \"popularity\": 6.634905192097687, \"danceability\": 0.4698733981931897, \"energy\": 0.4433361874079222, \"key\": 5.1805221880274, \"loudness\": -14.392384274794004, \"mode\": 0.6925245706343691, \"speechiness\": 0.061194738409609845, \"acousticness\": 0.5530693097917204, \"instrumentalness\": 0.23806770592574208, \"liveness\": 0.2071469814355207, \"valence\": 0.4737181038419538, \"tempo\": 116.12754609351732, \"duration_ms\": 259072.14744366126, \"time_signature\": 3.819021145636851, \"count\": 50365, \"duration_min\": 4.317869124061021}, {\"year\": \"1988\", \"popularity\": 6.138412438345878, \"danceability\": 0.4649160087382452, \"energy\": 0.428970566511358, \"key\": 5.1695083030396125, \"loudness\": -14.948866485757685, \"mode\": 0.6870103937330397, \"speechiness\": 0.06272054682299934, \"acousticness\": 0.5653667707168092, \"instrumentalness\": 0.2602866357199666, \"liveness\": 0.210765898827505, \"valence\": 0.47293206546857136, \"tempo\": 115.39763650948065, \"duration_ms\": 262048.76611540627, \"time_signature\": 3.810233304319629, \"count\": 58593, \"duration_min\": 4.367479435256771}, {\"year\": \"1989\", \"popularity\": 6.067652109911678, \"danceability\": 0.4678192100098136, \"energy\": 0.4187698896957802, \"key\": 5.1916400883218845, \"loudness\": -15.100176260426888, \"mode\": 0.6917167566241413, \"speechiness\": 0.0646457847767419, \"acousticness\": 0.5721737955527785, \"instrumentalness\": 0.25453301260411554, \"liveness\": 0.2069044191609421, \"valence\": 0.4665380014106968, \"tempo\": 115.04982272755153, \"duration_ms\": 261012.42515640333, \"time_signature\": 3.807025883218842, \"count\": 65216, \"duration_min\": 4.350207085940055}]}}, {\"mode\": \"vega-lite\"});\n",
       "</script>"
      ],
      "text/plain": [
       "alt.Chart(...)"
      ]
     },
     "execution_count": 126,
     "metadata": {},
     "output_type": "execute_result"
    }
   ],
   "source": [
    "alt.Chart(songs_per_year).mark_bar().encode(\n",
    "    alt.X(\"year\"),\n",
    "    alt.Y(\"count\")\n",
    ")"
   ]
  },
  {
   "cell_type": "code",
   "execution_count": 127,
   "metadata": {},
   "outputs": [],
   "source": [
    "features = ['popularity', 'danceability', 'energy',\n",
    "            'key', 'loudness', 'mode', 'speechiness',\n",
    "            'acousticness', 'instrumentalness', 'liveness',\n",
    "            'valence', 'tempo', 'duration_min',\n",
    "            'time_signature']"
   ]
  },
  {
   "cell_type": "code",
   "execution_count": 283,
   "metadata": {},
   "outputs": [
    {
     "data": {
      "text/html": [
       "<div>\n",
       "<style scoped>\n",
       "    .dataframe tbody tr th:only-of-type {\n",
       "        vertical-align: middle;\n",
       "    }\n",
       "\n",
       "    .dataframe tbody tr th {\n",
       "        vertical-align: top;\n",
       "    }\n",
       "\n",
       "    .dataframe thead th {\n",
       "        text-align: right;\n",
       "    }\n",
       "</style>\n",
       "<table border=\"1\" class=\"dataframe\">\n",
       "  <thead>\n",
       "    <tr style=\"text-align: right;\">\n",
       "      <th></th>\n",
       "      <th>year</th>\n",
       "      <th>popularity</th>\n",
       "      <th>danceability</th>\n",
       "      <th>energy</th>\n",
       "      <th>key</th>\n",
       "      <th>loudness</th>\n",
       "      <th>mode</th>\n",
       "      <th>speechiness</th>\n",
       "      <th>acousticness</th>\n",
       "      <th>instrumentalness</th>\n",
       "      <th>liveness</th>\n",
       "      <th>valence</th>\n",
       "      <th>tempo</th>\n",
       "      <th>duration_ms</th>\n",
       "      <th>time_signature</th>\n",
       "      <th>count</th>\n",
       "      <th>duration_min</th>\n",
       "    </tr>\n",
       "  </thead>\n",
       "  <tbody>\n",
       "    <tr>\n",
       "      <th>0</th>\n",
       "      <td>1980</td>\n",
       "      <td>6.932103</td>\n",
       "      <td>0.499812</td>\n",
       "      <td>0.485525</td>\n",
       "      <td>5.110445</td>\n",
       "      <td>-12.356653</td>\n",
       "      <td>0.703678</td>\n",
       "      <td>0.065002</td>\n",
       "      <td>0.521989</td>\n",
       "      <td>0.169238</td>\n",
       "      <td>0.220967</td>\n",
       "      <td>0.543921</td>\n",
       "      <td>118.259726</td>\n",
       "      <td>247998.407916</td>\n",
       "      <td>3.830705</td>\n",
       "      <td>35701</td>\n",
       "      <td>4.133307</td>\n",
       "    </tr>\n",
       "    <tr>\n",
       "      <th>1</th>\n",
       "      <td>1981</td>\n",
       "      <td>7.112235</td>\n",
       "      <td>0.501099</td>\n",
       "      <td>0.488608</td>\n",
       "      <td>5.164865</td>\n",
       "      <td>-12.559169</td>\n",
       "      <td>0.699801</td>\n",
       "      <td>0.068562</td>\n",
       "      <td>0.511205</td>\n",
       "      <td>0.175626</td>\n",
       "      <td>0.222056</td>\n",
       "      <td>0.541400</td>\n",
       "      <td>118.658803</td>\n",
       "      <td>244699.429525</td>\n",
       "      <td>3.832266</td>\n",
       "      <td>33118</td>\n",
       "      <td>4.078324</td>\n",
       "    </tr>\n",
       "    <tr>\n",
       "      <th>2</th>\n",
       "      <td>1982</td>\n",
       "      <td>7.169674</td>\n",
       "      <td>0.503354</td>\n",
       "      <td>0.486809</td>\n",
       "      <td>5.193071</td>\n",
       "      <td>-12.731032</td>\n",
       "      <td>0.698866</td>\n",
       "      <td>0.077487</td>\n",
       "      <td>0.507867</td>\n",
       "      <td>0.175538</td>\n",
       "      <td>0.221643</td>\n",
       "      <td>0.531725</td>\n",
       "      <td>118.373840</td>\n",
       "      <td>247427.740306</td>\n",
       "      <td>3.835526</td>\n",
       "      <td>31926</td>\n",
       "      <td>4.123796</td>\n",
       "    </tr>\n",
       "    <tr>\n",
       "      <th>3</th>\n",
       "      <td>1983</td>\n",
       "      <td>7.047373</td>\n",
       "      <td>0.495283</td>\n",
       "      <td>0.471217</td>\n",
       "      <td>5.186754</td>\n",
       "      <td>-13.219378</td>\n",
       "      <td>0.687359</td>\n",
       "      <td>0.065915</td>\n",
       "      <td>0.516330</td>\n",
       "      <td>0.193409</td>\n",
       "      <td>0.217015</td>\n",
       "      <td>0.519328</td>\n",
       "      <td>117.784345</td>\n",
       "      <td>251536.693328</td>\n",
       "      <td>3.830344</td>\n",
       "      <td>34682</td>\n",
       "      <td>4.192278</td>\n",
       "    </tr>\n",
       "    <tr>\n",
       "      <th>4</th>\n",
       "      <td>1984</td>\n",
       "      <td>7.346757</td>\n",
       "      <td>0.491733</td>\n",
       "      <td>0.477950</td>\n",
       "      <td>5.207964</td>\n",
       "      <td>-13.240091</td>\n",
       "      <td>0.674151</td>\n",
       "      <td>0.064660</td>\n",
       "      <td>0.512988</td>\n",
       "      <td>0.188150</td>\n",
       "      <td>0.222164</td>\n",
       "      <td>0.507015</td>\n",
       "      <td>117.703958</td>\n",
       "      <td>249410.156878</td>\n",
       "      <td>3.837688</td>\n",
       "      <td>37545</td>\n",
       "      <td>4.156836</td>\n",
       "    </tr>\n",
       "  </tbody>\n",
       "</table>\n",
       "</div>"
      ],
      "text/plain": [
       "   year  popularity  danceability    energy       key   loudness      mode  \\\n",
       "0  1980    6.932103      0.499812  0.485525  5.110445 -12.356653  0.703678   \n",
       "1  1981    7.112235      0.501099  0.488608  5.164865 -12.559169  0.699801   \n",
       "2  1982    7.169674      0.503354  0.486809  5.193071 -12.731032  0.698866   \n",
       "3  1983    7.047373      0.495283  0.471217  5.186754 -13.219378  0.687359   \n",
       "4  1984    7.346757      0.491733  0.477950  5.207964 -13.240091  0.674151   \n",
       "\n",
       "   speechiness  acousticness  instrumentalness  liveness   valence  \\\n",
       "0     0.065002      0.521989          0.169238  0.220967  0.543921   \n",
       "1     0.068562      0.511205          0.175626  0.222056  0.541400   \n",
       "2     0.077487      0.507867          0.175538  0.221643  0.531725   \n",
       "3     0.065915      0.516330          0.193409  0.217015  0.519328   \n",
       "4     0.064660      0.512988          0.188150  0.222164  0.507015   \n",
       "\n",
       "        tempo    duration_ms  time_signature  count  duration_min  \n",
       "0  118.259726  247998.407916        3.830705  35701      4.133307  \n",
       "1  118.658803  244699.429525        3.832266  33118      4.078324  \n",
       "2  118.373840  247427.740306        3.835526  31926      4.123796  \n",
       "3  117.784345  251536.693328        3.830344  34682      4.192278  \n",
       "4  117.703958  249410.156878        3.837688  37545      4.156836  "
      ]
     },
     "execution_count": 283,
     "metadata": {},
     "output_type": "execute_result"
    }
   ],
   "source": [
    "songs_per_year.head()"
   ]
  },
  {
   "cell_type": "code",
   "execution_count": 282,
   "metadata": {},
   "outputs": [
    {
     "data": {
      "application/vnd.plotly.v1+json": {
       "config": {
        "plotlyServerURL": "https://plot.ly"
       },
       "data": [
        {
         "name": "Duration (ms)",
         "type": "scatter",
         "visible": true,
         "x": [
          "1980",
          "1981",
          "1982",
          "1983",
          "1984",
          "1985",
          "1986",
          "1987",
          "1988",
          "1989"
         ],
         "y": [
          -12.356652894876895,
          -12.559168971556254,
          -12.731031666979892,
          -13.219378438383023,
          -13.240090984152351,
          -13.452113820923856,
          -13.903385098615589,
          -14.392384274794004,
          -14.948866485757685,
          -15.100176260426888
         ]
        }
       ],
       "layout": {
        "autosize": true,
        "showlegend": true,
        "template": {
         "data": {
          "bar": [
           {
            "error_x": {
             "color": "#2a3f5f"
            },
            "error_y": {
             "color": "#2a3f5f"
            },
            "marker": {
             "line": {
              "color": "#E5ECF6",
              "width": 0.5
             },
             "pattern": {
              "fillmode": "overlay",
              "size": 10,
              "solidity": 0.2
             }
            },
            "type": "bar"
           }
          ],
          "barpolar": [
           {
            "marker": {
             "line": {
              "color": "#E5ECF6",
              "width": 0.5
             },
             "pattern": {
              "fillmode": "overlay",
              "size": 10,
              "solidity": 0.2
             }
            },
            "type": "barpolar"
           }
          ],
          "carpet": [
           {
            "aaxis": {
             "endlinecolor": "#2a3f5f",
             "gridcolor": "white",
             "linecolor": "white",
             "minorgridcolor": "white",
             "startlinecolor": "#2a3f5f"
            },
            "baxis": {
             "endlinecolor": "#2a3f5f",
             "gridcolor": "white",
             "linecolor": "white",
             "minorgridcolor": "white",
             "startlinecolor": "#2a3f5f"
            },
            "type": "carpet"
           }
          ],
          "choropleth": [
           {
            "colorbar": {
             "outlinewidth": 0,
             "ticks": ""
            },
            "type": "choropleth"
           }
          ],
          "contour": [
           {
            "colorbar": {
             "outlinewidth": 0,
             "ticks": ""
            },
            "colorscale": [
             [
              0,
              "#0d0887"
             ],
             [
              0.1111111111111111,
              "#46039f"
             ],
             [
              0.2222222222222222,
              "#7201a8"
             ],
             [
              0.3333333333333333,
              "#9c179e"
             ],
             [
              0.4444444444444444,
              "#bd3786"
             ],
             [
              0.5555555555555556,
              "#d8576b"
             ],
             [
              0.6666666666666666,
              "#ed7953"
             ],
             [
              0.7777777777777778,
              "#fb9f3a"
             ],
             [
              0.8888888888888888,
              "#fdca26"
             ],
             [
              1,
              "#f0f921"
             ]
            ],
            "type": "contour"
           }
          ],
          "contourcarpet": [
           {
            "colorbar": {
             "outlinewidth": 0,
             "ticks": ""
            },
            "type": "contourcarpet"
           }
          ],
          "heatmap": [
           {
            "colorbar": {
             "outlinewidth": 0,
             "ticks": ""
            },
            "colorscale": [
             [
              0,
              "#0d0887"
             ],
             [
              0.1111111111111111,
              "#46039f"
             ],
             [
              0.2222222222222222,
              "#7201a8"
             ],
             [
              0.3333333333333333,
              "#9c179e"
             ],
             [
              0.4444444444444444,
              "#bd3786"
             ],
             [
              0.5555555555555556,
              "#d8576b"
             ],
             [
              0.6666666666666666,
              "#ed7953"
             ],
             [
              0.7777777777777778,
              "#fb9f3a"
             ],
             [
              0.8888888888888888,
              "#fdca26"
             ],
             [
              1,
              "#f0f921"
             ]
            ],
            "type": "heatmap"
           }
          ],
          "heatmapgl": [
           {
            "colorbar": {
             "outlinewidth": 0,
             "ticks": ""
            },
            "colorscale": [
             [
              0,
              "#0d0887"
             ],
             [
              0.1111111111111111,
              "#46039f"
             ],
             [
              0.2222222222222222,
              "#7201a8"
             ],
             [
              0.3333333333333333,
              "#9c179e"
             ],
             [
              0.4444444444444444,
              "#bd3786"
             ],
             [
              0.5555555555555556,
              "#d8576b"
             ],
             [
              0.6666666666666666,
              "#ed7953"
             ],
             [
              0.7777777777777778,
              "#fb9f3a"
             ],
             [
              0.8888888888888888,
              "#fdca26"
             ],
             [
              1,
              "#f0f921"
             ]
            ],
            "type": "heatmapgl"
           }
          ],
          "histogram": [
           {
            "marker": {
             "pattern": {
              "fillmode": "overlay",
              "size": 10,
              "solidity": 0.2
             }
            },
            "type": "histogram"
           }
          ],
          "histogram2d": [
           {
            "colorbar": {
             "outlinewidth": 0,
             "ticks": ""
            },
            "colorscale": [
             [
              0,
              "#0d0887"
             ],
             [
              0.1111111111111111,
              "#46039f"
             ],
             [
              0.2222222222222222,
              "#7201a8"
             ],
             [
              0.3333333333333333,
              "#9c179e"
             ],
             [
              0.4444444444444444,
              "#bd3786"
             ],
             [
              0.5555555555555556,
              "#d8576b"
             ],
             [
              0.6666666666666666,
              "#ed7953"
             ],
             [
              0.7777777777777778,
              "#fb9f3a"
             ],
             [
              0.8888888888888888,
              "#fdca26"
             ],
             [
              1,
              "#f0f921"
             ]
            ],
            "type": "histogram2d"
           }
          ],
          "histogram2dcontour": [
           {
            "colorbar": {
             "outlinewidth": 0,
             "ticks": ""
            },
            "colorscale": [
             [
              0,
              "#0d0887"
             ],
             [
              0.1111111111111111,
              "#46039f"
             ],
             [
              0.2222222222222222,
              "#7201a8"
             ],
             [
              0.3333333333333333,
              "#9c179e"
             ],
             [
              0.4444444444444444,
              "#bd3786"
             ],
             [
              0.5555555555555556,
              "#d8576b"
             ],
             [
              0.6666666666666666,
              "#ed7953"
             ],
             [
              0.7777777777777778,
              "#fb9f3a"
             ],
             [
              0.8888888888888888,
              "#fdca26"
             ],
             [
              1,
              "#f0f921"
             ]
            ],
            "type": "histogram2dcontour"
           }
          ],
          "mesh3d": [
           {
            "colorbar": {
             "outlinewidth": 0,
             "ticks": ""
            },
            "type": "mesh3d"
           }
          ],
          "parcoords": [
           {
            "line": {
             "colorbar": {
              "outlinewidth": 0,
              "ticks": ""
             }
            },
            "type": "parcoords"
           }
          ],
          "pie": [
           {
            "automargin": true,
            "type": "pie"
           }
          ],
          "scatter": [
           {
            "fillpattern": {
             "fillmode": "overlay",
             "size": 10,
             "solidity": 0.2
            },
            "type": "scatter"
           }
          ],
          "scatter3d": [
           {
            "line": {
             "colorbar": {
              "outlinewidth": 0,
              "ticks": ""
             }
            },
            "marker": {
             "colorbar": {
              "outlinewidth": 0,
              "ticks": ""
             }
            },
            "type": "scatter3d"
           }
          ],
          "scattercarpet": [
           {
            "marker": {
             "colorbar": {
              "outlinewidth": 0,
              "ticks": ""
             }
            },
            "type": "scattercarpet"
           }
          ],
          "scattergeo": [
           {
            "marker": {
             "colorbar": {
              "outlinewidth": 0,
              "ticks": ""
             }
            },
            "type": "scattergeo"
           }
          ],
          "scattergl": [
           {
            "marker": {
             "colorbar": {
              "outlinewidth": 0,
              "ticks": ""
             }
            },
            "type": "scattergl"
           }
          ],
          "scattermapbox": [
           {
            "marker": {
             "colorbar": {
              "outlinewidth": 0,
              "ticks": ""
             }
            },
            "type": "scattermapbox"
           }
          ],
          "scatterpolar": [
           {
            "marker": {
             "colorbar": {
              "outlinewidth": 0,
              "ticks": ""
             }
            },
            "type": "scatterpolar"
           }
          ],
          "scatterpolargl": [
           {
            "marker": {
             "colorbar": {
              "outlinewidth": 0,
              "ticks": ""
             }
            },
            "type": "scatterpolargl"
           }
          ],
          "scatterternary": [
           {
            "marker": {
             "colorbar": {
              "outlinewidth": 0,
              "ticks": ""
             }
            },
            "type": "scatterternary"
           }
          ],
          "surface": [
           {
            "colorbar": {
             "outlinewidth": 0,
             "ticks": ""
            },
            "colorscale": [
             [
              0,
              "#0d0887"
             ],
             [
              0.1111111111111111,
              "#46039f"
             ],
             [
              0.2222222222222222,
              "#7201a8"
             ],
             [
              0.3333333333333333,
              "#9c179e"
             ],
             [
              0.4444444444444444,
              "#bd3786"
             ],
             [
              0.5555555555555556,
              "#d8576b"
             ],
             [
              0.6666666666666666,
              "#ed7953"
             ],
             [
              0.7777777777777778,
              "#fb9f3a"
             ],
             [
              0.8888888888888888,
              "#fdca26"
             ],
             [
              1,
              "#f0f921"
             ]
            ],
            "type": "surface"
           }
          ],
          "table": [
           {
            "cells": {
             "fill": {
              "color": "#EBF0F8"
             },
             "line": {
              "color": "white"
             }
            },
            "header": {
             "fill": {
              "color": "#C8D4E3"
             },
             "line": {
              "color": "white"
             }
            },
            "type": "table"
           }
          ]
         },
         "layout": {
          "annotationdefaults": {
           "arrowcolor": "#2a3f5f",
           "arrowhead": 0,
           "arrowwidth": 1
          },
          "autotypenumbers": "strict",
          "coloraxis": {
           "colorbar": {
            "outlinewidth": 0,
            "ticks": ""
           }
          },
          "colorscale": {
           "diverging": [
            [
             0,
             "#8e0152"
            ],
            [
             0.1,
             "#c51b7d"
            ],
            [
             0.2,
             "#de77ae"
            ],
            [
             0.3,
             "#f1b6da"
            ],
            [
             0.4,
             "#fde0ef"
            ],
            [
             0.5,
             "#f7f7f7"
            ],
            [
             0.6,
             "#e6f5d0"
            ],
            [
             0.7,
             "#b8e186"
            ],
            [
             0.8,
             "#7fbc41"
            ],
            [
             0.9,
             "#4d9221"
            ],
            [
             1,
             "#276419"
            ]
           ],
           "sequential": [
            [
             0,
             "#0d0887"
            ],
            [
             0.1111111111111111,
             "#46039f"
            ],
            [
             0.2222222222222222,
             "#7201a8"
            ],
            [
             0.3333333333333333,
             "#9c179e"
            ],
            [
             0.4444444444444444,
             "#bd3786"
            ],
            [
             0.5555555555555556,
             "#d8576b"
            ],
            [
             0.6666666666666666,
             "#ed7953"
            ],
            [
             0.7777777777777778,
             "#fb9f3a"
            ],
            [
             0.8888888888888888,
             "#fdca26"
            ],
            [
             1,
             "#f0f921"
            ]
           ],
           "sequentialminus": [
            [
             0,
             "#0d0887"
            ],
            [
             0.1111111111111111,
             "#46039f"
            ],
            [
             0.2222222222222222,
             "#7201a8"
            ],
            [
             0.3333333333333333,
             "#9c179e"
            ],
            [
             0.4444444444444444,
             "#bd3786"
            ],
            [
             0.5555555555555556,
             "#d8576b"
            ],
            [
             0.6666666666666666,
             "#ed7953"
            ],
            [
             0.7777777777777778,
             "#fb9f3a"
            ],
            [
             0.8888888888888888,
             "#fdca26"
            ],
            [
             1,
             "#f0f921"
            ]
           ]
          },
          "colorway": [
           "#636efa",
           "#EF553B",
           "#00cc96",
           "#ab63fa",
           "#FFA15A",
           "#19d3f3",
           "#FF6692",
           "#B6E880",
           "#FF97FF",
           "#FECB52"
          ],
          "font": {
           "color": "#2a3f5f"
          },
          "geo": {
           "bgcolor": "white",
           "lakecolor": "white",
           "landcolor": "#E5ECF6",
           "showlakes": true,
           "showland": true,
           "subunitcolor": "white"
          },
          "hoverlabel": {
           "align": "left"
          },
          "hovermode": "closest",
          "mapbox": {
           "style": "light"
          },
          "paper_bgcolor": "white",
          "plot_bgcolor": "#E5ECF6",
          "polar": {
           "angularaxis": {
            "gridcolor": "white",
            "linecolor": "white",
            "ticks": ""
           },
           "bgcolor": "#E5ECF6",
           "radialaxis": {
            "gridcolor": "white",
            "linecolor": "white",
            "ticks": ""
           }
          },
          "scene": {
           "xaxis": {
            "backgroundcolor": "#E5ECF6",
            "gridcolor": "white",
            "gridwidth": 2,
            "linecolor": "white",
            "showbackground": true,
            "ticks": "",
            "zerolinecolor": "white"
           },
           "yaxis": {
            "backgroundcolor": "#E5ECF6",
            "gridcolor": "white",
            "gridwidth": 2,
            "linecolor": "white",
            "showbackground": true,
            "ticks": "",
            "zerolinecolor": "white"
           },
           "zaxis": {
            "backgroundcolor": "#E5ECF6",
            "gridcolor": "white",
            "gridwidth": 2,
            "linecolor": "white",
            "showbackground": true,
            "ticks": "",
            "zerolinecolor": "white"
           }
          },
          "shapedefaults": {
           "line": {
            "color": "#2a3f5f"
           }
          },
          "ternary": {
           "aaxis": {
            "gridcolor": "white",
            "linecolor": "white",
            "ticks": ""
           },
           "baxis": {
            "gridcolor": "white",
            "linecolor": "white",
            "ticks": ""
           },
           "bgcolor": "#E5ECF6",
           "caxis": {
            "gridcolor": "white",
            "linecolor": "white",
            "ticks": ""
           }
          },
          "title": {
           "x": 0.05
          },
          "xaxis": {
           "automargin": true,
           "gridcolor": "white",
           "linecolor": "white",
           "ticks": "",
           "title": {
            "standoff": 15
           },
           "zerolinecolor": "white",
           "zerolinewidth": 2
          },
          "yaxis": {
           "automargin": true,
           "gridcolor": "white",
           "linecolor": "white",
           "ticks": "",
           "title": {
            "standoff": 15
           },
           "zerolinecolor": "white",
           "zerolinewidth": 2
          }
         }
        },
        "title": {
         "text": "Development of features"
        },
        "updatemenus": [
         {
          "active": 5,
          "buttons": [
           {
            "args": [
             {
              "y": [
               [
                247998.40791574467,
                244699.42952472976,
                247427.74030570695,
                251536.6933279511,
                249410.15687841258,
                255583.19363003585,
                256471.28695714014,
                259072.14744366126,
                262048.76611540627,
                261012.42515640333
               ]
              ]
             },
             {
              "yaxis": {
               "title": "Duration (ms)"
              }
             }
            ],
            "label": "Duration (ms)",
            "method": "update"
           },
           {
            "args": [
             {
              "y": [
               [
                6.932102742220106,
                7.112235038347726,
                7.1696736202468205,
                7.047373277204313,
                7.346757224663737,
                7.163784011811854,
                6.717973639294519,
                6.634905192097687,
                6.138412438345878,
                6.067652109911678
               ]
              ]
             },
             {
              "yaxis": {
               "autorange": true,
               "range": [
                5.9869093256471295,
                7.427500008928285
               ],
               "title": {
                "text": "Popularity"
               },
               "type": "linear"
              }
             }
            ],
            "label": "Popularity",
            "method": "update"
           },
           {
            "args": [
             {
              "y": [
               [
                0.4998124562337189,
                0.5010986200857539,
                0.5033540343293867,
                0.4952828931434174,
                0.4917331175922227,
                0.488324198481333,
                0.47405965034136166,
                0.4698733981931897,
                0.4649160087382452,
                0.4678192100098136
               ]
              ]
             },
             {
              "yaxis": {
               "title": "Danceability"
              }
             }
            ],
            "label": "Danceability",
            "method": "update"
           },
           {
            "args": [
             {
              "y": [
               [
                0.48552519783479453,
                0.48860811881756144,
                0.4868088639353505,
                0.4712166361080676,
                0.4779499761406313,
                0.47026927725163464,
                0.45620629651052536,
                0.4433361874079222,
                0.428970566511358,
                0.4187698896957802
               ]
              ]
             },
             {
              "yaxis": {
               "autorange": true,
               "range": [
                0.4143613911272391,
                0.4930166173861026
               ],
               "title": {
                "text": "Energy"
               },
               "type": "linear"
              }
             }
            ],
            "label": "Energy",
            "method": "update"
           },
           {
            "args": [
             {
              "y": [
               [
                5.110445085571833,
                5.1648650280814055,
                5.193071477792395,
                5.186753935759183,
                5.207963776801172,
                5.156586163256697,
                5.176227953726531,
                5.1805221880274,
                5.1695083030396125,
                5.1916400883218845
               ]
              ]
             },
             {
              "yaxis": {
               "title": "Key"
              }
             }
            ],
            "label": "Key",
            "method": "update"
           },
           {
            "args": [
             {
              "y": [
               [
                -12.356652894876895,
                -12.559168971556254,
                -12.731031666979892,
                -13.219378438383023,
                -13.240090984152351,
                -13.452113820923856,
                -13.903385098615589,
                -14.392384274794004,
                -14.948866485757685,
                -15.100176260426888
               ]
              ]
             },
             {
              "yaxis": {
               "autorange": true,
               "range": [
                -15.273359615472959,
                -12.183469539830824
               ],
               "title": {
                "text": "Loudness"
               },
               "type": "linear"
              }
             }
            ],
            "label": "Loudness",
            "method": "update"
           },
           {
            "args": [
             {
              "y": [
               [
                0.7036777681297443,
                0.699800712603418,
                0.6988661279208169,
                0.6873594371720201,
                0.6741510187774671,
                0.6847184138367433,
                0.6867769770529111,
                0.6925245706343691,
                0.6870103937330397,
                0.6917167566241413
               ]
              ]
             },
             {
              "yaxis": {
               "title": "Mode"
              }
             }
            ],
            "label": "Mode",
            "method": "update"
           },
           {
            "args": [
             {
              "y": [
               [
                0.0650020587658609,
                0.06856158886406184,
                0.07748722671177097,
                0.06591524421890319,
                0.06465998401917698,
                0.061279313435983966,
                0.062151126019343826,
                0.061194738409609845,
                0.06272054682299934,
                0.0646457847767419
               ]
              ]
             },
             {
              "yaxis": {
               "title": "Speechiness"
              }
             }
            ],
            "label": "Speechiness",
            "method": "update"
           },
           {
            "args": [
             {
              "y": [
               [
                0.5219893381686788,
                0.5112052505797452,
                0.5078666530442273,
                0.5163296367435557,
                0.5129876254667732,
                0.5239858703823033,
                0.5434014227671629,
                0.5530693097917204,
                0.5653667707168092,
                0.5721737955527785
               ]
              ]
             },
             {
              "yaxis": {
               "title": "Acousticness"
              }
             }
            ],
            "label": "Acousticness",
            "method": "update"
           },
           {
            "args": [
             {
              "y": [
               [
                0.16923755234531246,
                0.17562550353765324,
                0.17553799155923072,
                0.1934094767034773,
                0.1881501483678253,
                0.20309187022279054,
                0.21903785887137303,
                0.23806770592574208,
                0.2602866357199666,
                0.25453301260411554
               ]
              ]
             },
             {
              "yaxis": {
               "title": "Instrumentalness"
              }
             }
            ],
            "label": "Instrumentalness",
            "method": "update"
           },
           {
            "args": [
             {
              "y": [
               [
                0.2209671745889471,
                0.22205557098858628,
                0.2216431717095784,
                0.2170150037483421,
                0.22216378479158344,
                0.21599801360472476,
                0.21124935046463114,
                0.2071469814355207,
                0.210765898827505,
                0.2069044191609421
               ]
              ]
             },
             {
              "yaxis": {
               "title": "Liveness"
              }
             }
            ],
            "label": "Liveness",
            "method": "update"
           },
           {
            "args": [
             {
              "y": [
               [
                0.5439210050138651,
                0.541400024156048,
                0.5317252020296938,
                0.5193278761317109,
                0.5070153623651619,
                0.5065484170006328,
                0.4865658021998862,
                0.4737181038419538,
                0.47293206546857136,
                0.4665380014106968
               ]
              ]
             },
             {
              "yaxis": {
               "title": "Valence"
              }
             }
            ],
            "label": "Valence",
            "method": "update"
           },
           {
            "args": [
             {
              "y": [
               [
                118.25972558191648,
                118.65880300742798,
                118.3738404748481,
                117.7843449916383,
                117.70395797043548,
                117.18477425648597,
                116.23358356248815,
                116.12754609351732,
                115.39763650948065,
                115.04982272755153
               ]
              ]
             },
             {
              "yaxis": {
               "title": "Tempo"
              }
             }
            ],
            "label": "Tempo",
            "method": "update"
           },
           {
            "args": [
             {
              "y": [
               [
                3.8307050222682837,
                3.832266441210218,
                3.835525903652196,
                3.8303442708032986,
                3.837688107604208,
                3.8332893904239613,
                3.8297695808837475,
                3.819021145636851,
                3.810233304319629,
                3.807025883218842
               ]
              ]
             },
             {
              "yaxis": {
               "title": "Time signature"
              }
             }
            ],
            "label": "Time Signature",
            "method": "update"
           },
           {
            "args": [
             {
              "y": [
               [
                35701,
                33118,
                31926,
                34682,
                37545,
                37928,
                42184,
                50365,
                58593,
                65216
               ]
              ]
             },
             {
              "yaxis": {
               "title": "Count"
              }
             }
            ],
            "label": "Count",
            "method": "update"
           },
           {
            "args": [
             {
              "y": [
               [
                4.133306798595744,
                4.078323825412163,
                4.1237956717617825,
                4.1922782221325186,
                4.156835947973543,
                4.259719893833931,
                4.274521449285669,
                4.317869124061021,
                4.367479435256771,
                4.350207085940055
               ]
              ]
             },
             {
              "yaxis": {
               "title": "Duration (min)"
              }
             }
            ],
            "label": "Duration (min)",
            "method": "update"
           }
          ],
          "direction": "down",
          "showactive": true
         }
        ],
        "xaxis": {
         "autorange": true,
         "range": [
          -0.5438288920056102,
          9.54382889200561
         ],
         "title": {
          "text": "year"
         },
         "type": "category"
        },
        "yaxis": {
         "autorange": true,
         "range": [
          -15.273359615472959,
          -12.183469539830824
         ],
         "title": {
          "text": "Loudness"
         },
         "type": "linear"
        }
       }
      },
      "text/html": [
       "<div>                            <div id=\"d6cf153f-c1a6-4a96-adc4-55ac6014a4d7\" class=\"plotly-graph-div\" style=\"height:800px; width:100%;\"></div>            <script type=\"text/javascript\">                require([\"plotly\"], function(Plotly) {                    window.PLOTLYENV=window.PLOTLYENV || {};                                    if (document.getElementById(\"d6cf153f-c1a6-4a96-adc4-55ac6014a4d7\")) {                    Plotly.newPlot(                        \"d6cf153f-c1a6-4a96-adc4-55ac6014a4d7\",                        [{\"name\":\"Duration (ms)\",\"x\":[\"1980\",\"1981\",\"1982\",\"1983\",\"1984\",\"1985\",\"1986\",\"1987\",\"1988\",\"1989\"],\"y\":[247998.40791574467,244699.42952472976,247427.74030570695,251536.6933279511,249410.15687841258,255583.19363003585,256471.28695714014,259072.14744366126,262048.76611540627,261012.42515640333],\"type\":\"scatter\"}],                        {\"template\":{\"data\":{\"histogram2dcontour\":[{\"type\":\"histogram2dcontour\",\"colorbar\":{\"outlinewidth\":0,\"ticks\":\"\"},\"colorscale\":[[0.0,\"#0d0887\"],[0.1111111111111111,\"#46039f\"],[0.2222222222222222,\"#7201a8\"],[0.3333333333333333,\"#9c179e\"],[0.4444444444444444,\"#bd3786\"],[0.5555555555555556,\"#d8576b\"],[0.6666666666666666,\"#ed7953\"],[0.7777777777777778,\"#fb9f3a\"],[0.8888888888888888,\"#fdca26\"],[1.0,\"#f0f921\"]]}],\"choropleth\":[{\"type\":\"choropleth\",\"colorbar\":{\"outlinewidth\":0,\"ticks\":\"\"}}],\"histogram2d\":[{\"type\":\"histogram2d\",\"colorbar\":{\"outlinewidth\":0,\"ticks\":\"\"},\"colorscale\":[[0.0,\"#0d0887\"],[0.1111111111111111,\"#46039f\"],[0.2222222222222222,\"#7201a8\"],[0.3333333333333333,\"#9c179e\"],[0.4444444444444444,\"#bd3786\"],[0.5555555555555556,\"#d8576b\"],[0.6666666666666666,\"#ed7953\"],[0.7777777777777778,\"#fb9f3a\"],[0.8888888888888888,\"#fdca26\"],[1.0,\"#f0f921\"]]}],\"heatmap\":[{\"type\":\"heatmap\",\"colorbar\":{\"outlinewidth\":0,\"ticks\":\"\"},\"colorscale\":[[0.0,\"#0d0887\"],[0.1111111111111111,\"#46039f\"],[0.2222222222222222,\"#7201a8\"],[0.3333333333333333,\"#9c179e\"],[0.4444444444444444,\"#bd3786\"],[0.5555555555555556,\"#d8576b\"],[0.6666666666666666,\"#ed7953\"],[0.7777777777777778,\"#fb9f3a\"],[0.8888888888888888,\"#fdca26\"],[1.0,\"#f0f921\"]]}],\"heatmapgl\":[{\"type\":\"heatmapgl\",\"colorbar\":{\"outlinewidth\":0,\"ticks\":\"\"},\"colorscale\":[[0.0,\"#0d0887\"],[0.1111111111111111,\"#46039f\"],[0.2222222222222222,\"#7201a8\"],[0.3333333333333333,\"#9c179e\"],[0.4444444444444444,\"#bd3786\"],[0.5555555555555556,\"#d8576b\"],[0.6666666666666666,\"#ed7953\"],[0.7777777777777778,\"#fb9f3a\"],[0.8888888888888888,\"#fdca26\"],[1.0,\"#f0f921\"]]}],\"contourcarpet\":[{\"type\":\"contourcarpet\",\"colorbar\":{\"outlinewidth\":0,\"ticks\":\"\"}}],\"contour\":[{\"type\":\"contour\",\"colorbar\":{\"outlinewidth\":0,\"ticks\":\"\"},\"colorscale\":[[0.0,\"#0d0887\"],[0.1111111111111111,\"#46039f\"],[0.2222222222222222,\"#7201a8\"],[0.3333333333333333,\"#9c179e\"],[0.4444444444444444,\"#bd3786\"],[0.5555555555555556,\"#d8576b\"],[0.6666666666666666,\"#ed7953\"],[0.7777777777777778,\"#fb9f3a\"],[0.8888888888888888,\"#fdca26\"],[1.0,\"#f0f921\"]]}],\"surface\":[{\"type\":\"surface\",\"colorbar\":{\"outlinewidth\":0,\"ticks\":\"\"},\"colorscale\":[[0.0,\"#0d0887\"],[0.1111111111111111,\"#46039f\"],[0.2222222222222222,\"#7201a8\"],[0.3333333333333333,\"#9c179e\"],[0.4444444444444444,\"#bd3786\"],[0.5555555555555556,\"#d8576b\"],[0.6666666666666666,\"#ed7953\"],[0.7777777777777778,\"#fb9f3a\"],[0.8888888888888888,\"#fdca26\"],[1.0,\"#f0f921\"]]}],\"mesh3d\":[{\"type\":\"mesh3d\",\"colorbar\":{\"outlinewidth\":0,\"ticks\":\"\"}}],\"scatter\":[{\"fillpattern\":{\"fillmode\":\"overlay\",\"size\":10,\"solidity\":0.2},\"type\":\"scatter\"}],\"parcoords\":[{\"type\":\"parcoords\",\"line\":{\"colorbar\":{\"outlinewidth\":0,\"ticks\":\"\"}}}],\"scatterpolargl\":[{\"type\":\"scatterpolargl\",\"marker\":{\"colorbar\":{\"outlinewidth\":0,\"ticks\":\"\"}}}],\"bar\":[{\"error_x\":{\"color\":\"#2a3f5f\"},\"error_y\":{\"color\":\"#2a3f5f\"},\"marker\":{\"line\":{\"color\":\"#E5ECF6\",\"width\":0.5},\"pattern\":{\"fillmode\":\"overlay\",\"size\":10,\"solidity\":0.2}},\"type\":\"bar\"}],\"scattergeo\":[{\"type\":\"scattergeo\",\"marker\":{\"colorbar\":{\"outlinewidth\":0,\"ticks\":\"\"}}}],\"scatterpolar\":[{\"type\":\"scatterpolar\",\"marker\":{\"colorbar\":{\"outlinewidth\":0,\"ticks\":\"\"}}}],\"histogram\":[{\"marker\":{\"pattern\":{\"fillmode\":\"overlay\",\"size\":10,\"solidity\":0.2}},\"type\":\"histogram\"}],\"scattergl\":[{\"type\":\"scattergl\",\"marker\":{\"colorbar\":{\"outlinewidth\":0,\"ticks\":\"\"}}}],\"scatter3d\":[{\"type\":\"scatter3d\",\"line\":{\"colorbar\":{\"outlinewidth\":0,\"ticks\":\"\"}},\"marker\":{\"colorbar\":{\"outlinewidth\":0,\"ticks\":\"\"}}}],\"scattermapbox\":[{\"type\":\"scattermapbox\",\"marker\":{\"colorbar\":{\"outlinewidth\":0,\"ticks\":\"\"}}}],\"scatterternary\":[{\"type\":\"scatterternary\",\"marker\":{\"colorbar\":{\"outlinewidth\":0,\"ticks\":\"\"}}}],\"scattercarpet\":[{\"type\":\"scattercarpet\",\"marker\":{\"colorbar\":{\"outlinewidth\":0,\"ticks\":\"\"}}}],\"carpet\":[{\"aaxis\":{\"endlinecolor\":\"#2a3f5f\",\"gridcolor\":\"white\",\"linecolor\":\"white\",\"minorgridcolor\":\"white\",\"startlinecolor\":\"#2a3f5f\"},\"baxis\":{\"endlinecolor\":\"#2a3f5f\",\"gridcolor\":\"white\",\"linecolor\":\"white\",\"minorgridcolor\":\"white\",\"startlinecolor\":\"#2a3f5f\"},\"type\":\"carpet\"}],\"table\":[{\"cells\":{\"fill\":{\"color\":\"#EBF0F8\"},\"line\":{\"color\":\"white\"}},\"header\":{\"fill\":{\"color\":\"#C8D4E3\"},\"line\":{\"color\":\"white\"}},\"type\":\"table\"}],\"barpolar\":[{\"marker\":{\"line\":{\"color\":\"#E5ECF6\",\"width\":0.5},\"pattern\":{\"fillmode\":\"overlay\",\"size\":10,\"solidity\":0.2}},\"type\":\"barpolar\"}],\"pie\":[{\"automargin\":true,\"type\":\"pie\"}]},\"layout\":{\"autotypenumbers\":\"strict\",\"colorway\":[\"#636efa\",\"#EF553B\",\"#00cc96\",\"#ab63fa\",\"#FFA15A\",\"#19d3f3\",\"#FF6692\",\"#B6E880\",\"#FF97FF\",\"#FECB52\"],\"font\":{\"color\":\"#2a3f5f\"},\"hovermode\":\"closest\",\"hoverlabel\":{\"align\":\"left\"},\"paper_bgcolor\":\"white\",\"plot_bgcolor\":\"#E5ECF6\",\"polar\":{\"bgcolor\":\"#E5ECF6\",\"angularaxis\":{\"gridcolor\":\"white\",\"linecolor\":\"white\",\"ticks\":\"\"},\"radialaxis\":{\"gridcolor\":\"white\",\"linecolor\":\"white\",\"ticks\":\"\"}},\"ternary\":{\"bgcolor\":\"#E5ECF6\",\"aaxis\":{\"gridcolor\":\"white\",\"linecolor\":\"white\",\"ticks\":\"\"},\"baxis\":{\"gridcolor\":\"white\",\"linecolor\":\"white\",\"ticks\":\"\"},\"caxis\":{\"gridcolor\":\"white\",\"linecolor\":\"white\",\"ticks\":\"\"}},\"coloraxis\":{\"colorbar\":{\"outlinewidth\":0,\"ticks\":\"\"}},\"colorscale\":{\"sequential\":[[0.0,\"#0d0887\"],[0.1111111111111111,\"#46039f\"],[0.2222222222222222,\"#7201a8\"],[0.3333333333333333,\"#9c179e\"],[0.4444444444444444,\"#bd3786\"],[0.5555555555555556,\"#d8576b\"],[0.6666666666666666,\"#ed7953\"],[0.7777777777777778,\"#fb9f3a\"],[0.8888888888888888,\"#fdca26\"],[1.0,\"#f0f921\"]],\"sequentialminus\":[[0.0,\"#0d0887\"],[0.1111111111111111,\"#46039f\"],[0.2222222222222222,\"#7201a8\"],[0.3333333333333333,\"#9c179e\"],[0.4444444444444444,\"#bd3786\"],[0.5555555555555556,\"#d8576b\"],[0.6666666666666666,\"#ed7953\"],[0.7777777777777778,\"#fb9f3a\"],[0.8888888888888888,\"#fdca26\"],[1.0,\"#f0f921\"]],\"diverging\":[[0,\"#8e0152\"],[0.1,\"#c51b7d\"],[0.2,\"#de77ae\"],[0.3,\"#f1b6da\"],[0.4,\"#fde0ef\"],[0.5,\"#f7f7f7\"],[0.6,\"#e6f5d0\"],[0.7,\"#b8e186\"],[0.8,\"#7fbc41\"],[0.9,\"#4d9221\"],[1,\"#276419\"]]},\"xaxis\":{\"gridcolor\":\"white\",\"linecolor\":\"white\",\"ticks\":\"\",\"title\":{\"standoff\":15},\"zerolinecolor\":\"white\",\"automargin\":true,\"zerolinewidth\":2},\"yaxis\":{\"gridcolor\":\"white\",\"linecolor\":\"white\",\"ticks\":\"\",\"title\":{\"standoff\":15},\"zerolinecolor\":\"white\",\"automargin\":true,\"zerolinewidth\":2},\"scene\":{\"xaxis\":{\"backgroundcolor\":\"#E5ECF6\",\"gridcolor\":\"white\",\"linecolor\":\"white\",\"showbackground\":true,\"ticks\":\"\",\"zerolinecolor\":\"white\",\"gridwidth\":2},\"yaxis\":{\"backgroundcolor\":\"#E5ECF6\",\"gridcolor\":\"white\",\"linecolor\":\"white\",\"showbackground\":true,\"ticks\":\"\",\"zerolinecolor\":\"white\",\"gridwidth\":2},\"zaxis\":{\"backgroundcolor\":\"#E5ECF6\",\"gridcolor\":\"white\",\"linecolor\":\"white\",\"showbackground\":true,\"ticks\":\"\",\"zerolinecolor\":\"white\",\"gridwidth\":2}},\"shapedefaults\":{\"line\":{\"color\":\"#2a3f5f\"}},\"annotationdefaults\":{\"arrowcolor\":\"#2a3f5f\",\"arrowhead\":0,\"arrowwidth\":1},\"geo\":{\"bgcolor\":\"white\",\"landcolor\":\"#E5ECF6\",\"subunitcolor\":\"white\",\"showland\":true,\"showlakes\":true,\"lakecolor\":\"white\"},\"title\":{\"x\":0.05},\"mapbox\":{\"style\":\"light\"}}},\"height\":800,\"updatemenus\":[{\"buttons\":[{\"args\":[{\"y\":[[247998.40791574467,244699.42952472976,247427.74030570695,251536.6933279511,249410.15687841258,255583.19363003585,256471.28695714014,259072.14744366126,262048.76611540627,261012.42515640333]]},{\"yaxis\":{\"title\":\"Duration (ms)\"}}],\"label\":\"Duration (ms)\",\"method\":\"update\"},{\"args\":[{\"y\":[[6.932102742220106,7.112235038347726,7.1696736202468205,7.047373277204313,7.346757224663737,7.163784011811854,6.717973639294519,6.634905192097687,6.138412438345878,6.067652109911678]]},{\"yaxis\":{\"title\":\"Popularity\"}}],\"label\":\"Popularity\",\"method\":\"update\"},{\"args\":[{\"y\":[[0.4998124562337189,0.5010986200857539,0.5033540343293867,0.4952828931434174,0.4917331175922227,0.488324198481333,0.47405965034136166,0.4698733981931897,0.4649160087382452,0.4678192100098136]]},{\"yaxis\":{\"title\":\"Danceability\"}}],\"label\":\"Danceability\",\"method\":\"update\"},{\"args\":[{\"y\":[[0.48552519783479453,0.48860811881756144,0.4868088639353505,0.4712166361080676,0.4779499761406313,0.47026927725163464,0.45620629651052536,0.4433361874079222,0.428970566511358,0.4187698896957802]]},{\"yaxis\":{\"title\":\"Energy\"}}],\"label\":\"Energy\",\"method\":\"update\"},{\"args\":[{\"y\":[[5.110445085571833,5.1648650280814055,5.193071477792395,5.186753935759183,5.207963776801172,5.156586163256697,5.176227953726531,5.1805221880274,5.1695083030396125,5.1916400883218845]]},{\"yaxis\":{\"title\":\"Key\"}}],\"label\":\"Key\",\"method\":\"update\"},{\"args\":[{\"y\":[[-12.356652894876895,-12.559168971556254,-12.731031666979892,-13.219378438383023,-13.240090984152351,-13.452113820923856,-13.903385098615589,-14.392384274794004,-14.948866485757685,-15.100176260426888]]},{\"yaxis\":{\"title\":\"Loudness\"}}],\"label\":\"Loudness\",\"method\":\"update\"},{\"args\":[{\"y\":[[0.7036777681297443,0.699800712603418,0.6988661279208169,0.6873594371720201,0.6741510187774671,0.6847184138367433,0.6867769770529111,0.6925245706343691,0.6870103937330397,0.6917167566241413]]},{\"yaxis\":{\"title\":\"Mode\"}}],\"label\":\"Mode\",\"method\":\"update\"},{\"args\":[{\"y\":[[0.0650020587658609,0.06856158886406184,0.07748722671177097,0.06591524421890319,0.06465998401917698,0.061279313435983966,0.062151126019343826,0.061194738409609845,0.06272054682299934,0.0646457847767419]]},{\"yaxis\":{\"title\":\"Speechiness\"}}],\"label\":\"Speechiness\",\"method\":\"update\"},{\"args\":[{\"y\":[[0.5219893381686788,0.5112052505797452,0.5078666530442273,0.5163296367435557,0.5129876254667732,0.5239858703823033,0.5434014227671629,0.5530693097917204,0.5653667707168092,0.5721737955527785]]},{\"yaxis\":{\"title\":\"Acousticness\"}}],\"label\":\"Acousticness\",\"method\":\"update\"},{\"args\":[{\"y\":[[0.16923755234531246,0.17562550353765324,0.17553799155923072,0.1934094767034773,0.1881501483678253,0.20309187022279054,0.21903785887137303,0.23806770592574208,0.2602866357199666,0.25453301260411554]]},{\"yaxis\":{\"title\":\"Instrumentalness\"}}],\"label\":\"Instrumentalness\",\"method\":\"update\"},{\"args\":[{\"y\":[[0.2209671745889471,0.22205557098858628,0.2216431717095784,0.2170150037483421,0.22216378479158344,0.21599801360472476,0.21124935046463114,0.2071469814355207,0.210765898827505,0.2069044191609421]]},{\"yaxis\":{\"title\":\"Liveness\"}}],\"label\":\"Liveness\",\"method\":\"update\"},{\"args\":[{\"y\":[[0.5439210050138651,0.541400024156048,0.5317252020296938,0.5193278761317109,0.5070153623651619,0.5065484170006328,0.4865658021998862,0.4737181038419538,0.47293206546857136,0.4665380014106968]]},{\"yaxis\":{\"title\":\"Valence\"}}],\"label\":\"Valence\",\"method\":\"update\"},{\"args\":[{\"y\":[[118.25972558191648,118.65880300742798,118.3738404748481,117.7843449916383,117.70395797043548,117.18477425648597,116.23358356248815,116.12754609351732,115.39763650948065,115.04982272755153]]},{\"yaxis\":{\"title\":\"Tempo\"}}],\"label\":\"Tempo\",\"method\":\"update\"},{\"args\":[{\"y\":[[3.8307050222682837,3.832266441210218,3.835525903652196,3.8303442708032986,3.837688107604208,3.8332893904239613,3.8297695808837475,3.819021145636851,3.810233304319629,3.807025883218842]]},{\"yaxis\":{\"title\":\"Time signature\"}}],\"label\":\"Time Signature\",\"method\":\"update\"},{\"args\":[{\"y\":[[35701,33118,31926,34682,37545,37928,42184,50365,58593,65216]]},{\"yaxis\":{\"title\":\"Count\"}}],\"label\":\"Count\",\"method\":\"update\"},{\"args\":[{\"y\":[[4.133306798595744,4.078323825412163,4.1237956717617825,4.1922782221325186,4.156835947973543,4.259719893833931,4.274521449285669,4.317869124061021,4.367479435256771,4.350207085940055]]},{\"yaxis\":{\"title\":\"Duration (min)\"}}],\"label\":\"Duration (min)\",\"method\":\"update\"}],\"direction\":\"down\",\"showactive\":true}],\"yaxis\":{\"title\":{\"text\":\"Duration (ms)\"}},\"xaxis\":{\"title\":{\"text\":\"year\"}},\"title\":{\"text\":\"Development of features\"},\"showlegend\":true},                        {\"responsive\": true}                    ).then(function(){\n",
       "                            \n",
       "var gd = document.getElementById('d6cf153f-c1a6-4a96-adc4-55ac6014a4d7');\n",
       "var x = new MutationObserver(function (mutations, observer) {{\n",
       "        var display = window.getComputedStyle(gd).display;\n",
       "        if (!display || display === 'none') {{\n",
       "            console.log([gd, 'removed!']);\n",
       "            Plotly.purge(gd);\n",
       "            observer.disconnect();\n",
       "        }}\n",
       "}});\n",
       "\n",
       "// Listen for the removal of the full notebook cells\n",
       "var notebookContainer = gd.closest('#notebook-container');\n",
       "if (notebookContainer) {{\n",
       "    x.observe(notebookContainer, {childList: true});\n",
       "}}\n",
       "\n",
       "// Listen for the clearing of the current output cell\n",
       "var outputEl = gd.closest('.output');\n",
       "if (outputEl) {{\n",
       "    x.observe(outputEl, {childList: true});\n",
       "}}\n",
       "\n",
       "                        })                };                });            </script>        </div>"
      ]
     },
     "metadata": {},
     "output_type": "display_data"
    }
   ],
   "source": [
    "# Create the initial scatter plot\n",
    "fig = go.Figure()\n",
    "\n",
    "fig.add_trace(go.Scatter(\n",
    "    x=songs_per_year['year'],\n",
    "    y=songs_per_year['duration_ms'],\n",
    "    #mode='markers',\n",
    "    name='Duration (ms)'\n",
    "))\n",
    "\n",
    "# Define the dropdown menu options\n",
    "dropdown_options = [\n",
    "    {'label': 'Duration (ms)', 'value': 'duration_ms'},\n",
    "    {'label': 'Popularity', 'value': 'popularity'},\n",
    "    {'label': 'Danceability', 'value': 'danceability'},\n",
    "    {'label': 'Energy', 'value': 'energy'},\n",
    "    {'label': 'Key', 'value': 'key'},\n",
    "    {'label': 'Loudness', 'value': 'loudness'},\n",
    "    {'label': 'Mode', 'value': 'mode'},\n",
    "    {'label': 'Speechiness', 'value': 'speechiness'},\n",
    "    {'label': 'Acousticness', 'value': 'acousticness'},\n",
    "    {'label': 'Instrumentalness', 'value': 'instrumentalness'},\n",
    "    {'label': 'Liveness', 'value': 'liveness'},\n",
    "    {'label': 'Valence', 'value': 'valence'},\n",
    "    {'label': 'Tempo', 'value': 'tempo'},\n",
    "    {'label': 'Time Signature', 'value': 'time_signature'},\n",
    "    {'label': 'Count', 'value': 'count'},\n",
    "    {'label': 'Duration (min)', 'value': 'duration_min'}\n",
    "]\n",
    "\n",
    "# Create the dropdown menu\n",
    "dropdown_menu = go.layout.Updatemenu(\n",
    "    buttons=list([\n",
    "        dict(\n",
    "            args=[\n",
    "                {'y': [songs_per_year[option['value']]]}, \n",
    "                {'yaxis': {'title': option['label'].capitalize()}}\n",
    "            ],\n",
    "            label=option['label'],\n",
    "            method='update'\n",
    "        )\n",
    "        for option in dropdown_options\n",
    "    ]),\n",
    "    direction='down',\n",
    "    showactive=True,\n",
    ")\n",
    "\n",
    "# Update the layout with dropdown menu and initial y-axis title\n",
    "fig.update_layout(\n",
    "    height = 800,\n",
    "    updatemenus=[dropdown_menu],\n",
    "    yaxis_title='Duration (ms)',\n",
    "    xaxis_title='year',\n",
    "    title='Development of features',\n",
    "    showlegend=True\n",
    ")\n",
    "\n",
    "fig.show()"
   ]
  },
  {
   "cell_type": "code",
   "execution_count": null,
   "metadata": {},
   "outputs": [],
   "source": [
    "songs_per_year_genres = songs_per_year.merge(by_isrc_year, on='year', how='right')\n",
    "\n",
    "#Create the initial scatter plot for genre 'pop'\n",
    "fig = go.Figure()\n",
    "\n",
    "fig.add_trace(go.Scatter(\n",
    "    x=songs_per_year_genres['year'],\n",
    "    y=songs_per_year_genres['duration_ms'],\n",
    "    #mode='line',\n",
    "    name='pop',\n",
    "    visible=True\n",
    "))\n",
    "\n",
    "# Add separate scatter plots for each genre\n",
    "genres = ['rock', 'classical', 'german', 'jazz', 'folk', 'punk', 'metal', 'country', 'french']\n",
    "\n",
    "for genre in genres:\n",
    "    fig.add_trace(go.Scatter(\n",
    "        x=songs_per_year_genres['year'],\n",
    "        y=songs_per_year_genres['duration_ms'],\n",
    "        #mode='line',\n",
    "        name=genre,\n",
    "        visible=False\n",
    "    ))\n",
    "\n",
    "# Create the dropdown menu for y-axis selection\n",
    "dropdown_options = ['duration_ms', 'popularity', 'danceability', 'energy', 'key', 'loudness',\n",
    "                    'mode', 'speechiness', 'acousticness', 'instrumentalness', 'liveness',\n",
    "                    'valence', 'tempo', 'duration_min']\n",
    "\n",
    "dropdown_menu = go.layout.Updatemenu(\n",
    "    buttons=list([\n",
    "        dict(\n",
    "            args=[{'y': [songs_per_year_genres[option]]}],\n",
    "            #label=option.capitalize(),\n",
    "            method='update'\n",
    "        )\n",
    "        for option in dropdown_options\n",
    "    ]),\n",
    "    direction='down',\n",
    "    showactive=True,\n",
    ")\n",
    "\n",
    "# Create the legend to toggle genre visibility\n",
    "legend = dict(\n",
    "    title='Genre',\n",
    "    orientation='h',\n",
    "    y=1.1,\n",
    "    x=0.5,\n",
    "    xanchor='center',\n",
    "    bgcolor='rgba(255, 255, 255, 0.5)'\n",
    ")\n",
    "\n",
    "# Update the layout with dropdown menu, legend, and initial y-axis title\n",
    "fig.update_layout(\n",
    "    height = 800,\n",
    "    updatemenus=[dropdown_menu],\n",
    "    legend=legend,\n",
    "    yaxis_title='Duration (ms)',\n",
    "    title='Song Duration by Genre',\n",
    "    xaxis_title='Year',\n",
    "    showlegend=True\n",
    ")\n",
    "\n",
    "# Add custom buttons to toggle genre visibility in the legend\n",
    "for i, genre in enumerate(genres):\n",
    "    button = dict(\n",
    "        label=genre.capitalize(),\n",
    "        method='update',\n",
    "        args=[{'visible': [True if j == i+1 else False for j in range(len(genres)+1)]}]\n",
    "    )\n",
    "    fig.update_traces(showlegend=True if genre == 'pop' else False, selector=dict(name=genre))\n",
    "    fig.update_layout({'updatemenus': [{'buttons': [button]}]})\n",
    "\n",
    "#fig.show()"
   ]
  },
  {
   "attachments": {},
   "cell_type": "markdown",
   "metadata": {},
   "source": [
    "## Development of genres of the years"
   ]
  },
  {
   "cell_type": "code",
   "execution_count": 303,
   "metadata": {},
   "outputs": [],
   "source": [
    "features = sorted_genres[:10]"
   ]
  },
  {
   "cell_type": "code",
   "execution_count": 301,
   "metadata": {},
   "outputs": [],
   "source": [
    "dev_genres_df = by_isrc_year.reset_index()"
   ]
  },
  {
   "cell_type": "code",
   "execution_count": 302,
   "metadata": {},
   "outputs": [
    {
     "data": {
      "text/html": [
       "<div>\n",
       "<style scoped>\n",
       "    .dataframe tbody tr th:only-of-type {\n",
       "        vertical-align: middle;\n",
       "    }\n",
       "\n",
       "    .dataframe tbody tr th {\n",
       "        vertical-align: top;\n",
       "    }\n",
       "\n",
       "    .dataframe thead th {\n",
       "        text-align: right;\n",
       "    }\n",
       "</style>\n",
       "<table border=\"1\" class=\"dataframe\">\n",
       "  <thead>\n",
       "    <tr style=\"text-align: right;\">\n",
       "      <th></th>\n",
       "      <th>year</th>\n",
       "      <th>pop</th>\n",
       "      <th>rock</th>\n",
       "      <th>classical</th>\n",
       "      <th>german</th>\n",
       "      <th>jazz</th>\n",
       "      <th>folk</th>\n",
       "      <th>punk</th>\n",
       "      <th>metal</th>\n",
       "      <th>country</th>\n",
       "      <th>french</th>\n",
       "    </tr>\n",
       "  </thead>\n",
       "  <tbody>\n",
       "    <tr>\n",
       "      <th>0</th>\n",
       "      <td>1980</td>\n",
       "      <td>11523</td>\n",
       "      <td>8459</td>\n",
       "      <td>5302</td>\n",
       "      <td>2248</td>\n",
       "      <td>2601</td>\n",
       "      <td>3065</td>\n",
       "      <td>2165</td>\n",
       "      <td>737</td>\n",
       "      <td>1804</td>\n",
       "      <td>888</td>\n",
       "    </tr>\n",
       "    <tr>\n",
       "      <th>1</th>\n",
       "      <td>1981</td>\n",
       "      <td>10277</td>\n",
       "      <td>8302</td>\n",
       "      <td>5424</td>\n",
       "      <td>2471</td>\n",
       "      <td>2117</td>\n",
       "      <td>2177</td>\n",
       "      <td>2455</td>\n",
       "      <td>823</td>\n",
       "      <td>1711</td>\n",
       "      <td>1139</td>\n",
       "    </tr>\n",
       "    <tr>\n",
       "      <th>2</th>\n",
       "      <td>1982</td>\n",
       "      <td>10359</td>\n",
       "      <td>7874</td>\n",
       "      <td>5393</td>\n",
       "      <td>2185</td>\n",
       "      <td>2239</td>\n",
       "      <td>41</td>\n",
       "      <td>2417</td>\n",
       "      <td>803</td>\n",
       "      <td>44</td>\n",
       "      <td>962</td>\n",
       "    </tr>\n",
       "    <tr>\n",
       "      <th>3</th>\n",
       "      <td>1983</td>\n",
       "      <td>10033</td>\n",
       "      <td>8292</td>\n",
       "      <td>6917</td>\n",
       "      <td>3433</td>\n",
       "      <td>1998</td>\n",
       "      <td>2416</td>\n",
       "      <td>2366</td>\n",
       "      <td>1114</td>\n",
       "      <td>1483</td>\n",
       "      <td>1129</td>\n",
       "    </tr>\n",
       "    <tr>\n",
       "      <th>4</th>\n",
       "      <td>1984</td>\n",
       "      <td>12202</td>\n",
       "      <td>8837</td>\n",
       "      <td>7017</td>\n",
       "      <td>3047</td>\n",
       "      <td>2250</td>\n",
       "      <td>2564</td>\n",
       "      <td>2419</td>\n",
       "      <td>1532</td>\n",
       "      <td>1265</td>\n",
       "      <td>1365</td>\n",
       "    </tr>\n",
       "    <tr>\n",
       "      <th>5</th>\n",
       "      <td>1985</td>\n",
       "      <td>11372</td>\n",
       "      <td>8721</td>\n",
       "      <td>7751</td>\n",
       "      <td>3443</td>\n",
       "      <td>2450</td>\n",
       "      <td>2779</td>\n",
       "      <td>2251</td>\n",
       "      <td>1612</td>\n",
       "      <td>1640</td>\n",
       "      <td>1193</td>\n",
       "    </tr>\n",
       "    <tr>\n",
       "      <th>6</th>\n",
       "      <td>1986</td>\n",
       "      <td>11430</td>\n",
       "      <td>9258</td>\n",
       "      <td>9244</td>\n",
       "      <td>3824</td>\n",
       "      <td>2956</td>\n",
       "      <td>3772</td>\n",
       "      <td>2322</td>\n",
       "      <td>1807</td>\n",
       "      <td>1628</td>\n",
       "      <td>1278</td>\n",
       "    </tr>\n",
       "    <tr>\n",
       "      <th>7</th>\n",
       "      <td>1987</td>\n",
       "      <td>12310</td>\n",
       "      <td>10706</td>\n",
       "      <td>12349</td>\n",
       "      <td>4458</td>\n",
       "      <td>3599</td>\n",
       "      <td>4267</td>\n",
       "      <td>2510</td>\n",
       "      <td>2293</td>\n",
       "      <td>1876</td>\n",
       "      <td>1498</td>\n",
       "    </tr>\n",
       "    <tr>\n",
       "      <th>8</th>\n",
       "      <td>1988</td>\n",
       "      <td>13809</td>\n",
       "      <td>11045</td>\n",
       "      <td>16545</td>\n",
       "      <td>6465</td>\n",
       "      <td>4639</td>\n",
       "      <td>4272</td>\n",
       "      <td>2736</td>\n",
       "      <td>2380</td>\n",
       "      <td>1930</td>\n",
       "      <td>2167</td>\n",
       "    </tr>\n",
       "    <tr>\n",
       "      <th>9</th>\n",
       "      <td>1989</td>\n",
       "      <td>15447</td>\n",
       "      <td>12441</td>\n",
       "      <td>17686</td>\n",
       "      <td>6178</td>\n",
       "      <td>5212</td>\n",
       "      <td>4700</td>\n",
       "      <td>2634</td>\n",
       "      <td>2660</td>\n",
       "      <td>2165</td>\n",
       "      <td>2598</td>\n",
       "    </tr>\n",
       "  </tbody>\n",
       "</table>\n",
       "</div>"
      ],
      "text/plain": [
       "   year    pop   rock  classical  german  jazz  folk  punk  metal  country  \\\n",
       "0  1980  11523   8459       5302    2248  2601  3065  2165    737     1804   \n",
       "1  1981  10277   8302       5424    2471  2117  2177  2455    823     1711   \n",
       "2  1982  10359   7874       5393    2185  2239    41  2417    803       44   \n",
       "3  1983  10033   8292       6917    3433  1998  2416  2366   1114     1483   \n",
       "4  1984  12202   8837       7017    3047  2250  2564  2419   1532     1265   \n",
       "5  1985  11372   8721       7751    3443  2450  2779  2251   1612     1640   \n",
       "6  1986  11430   9258       9244    3824  2956  3772  2322   1807     1628   \n",
       "7  1987  12310  10706      12349    4458  3599  4267  2510   2293     1876   \n",
       "8  1988  13809  11045      16545    6465  4639  4272  2736   2380     1930   \n",
       "9  1989  15447  12441      17686    6178  5212  4700  2634   2660     2165   \n",
       "\n",
       "   french  \n",
       "0     888  \n",
       "1    1139  \n",
       "2     962  \n",
       "3    1129  \n",
       "4    1365  \n",
       "5    1193  \n",
       "6    1278  \n",
       "7    1498  \n",
       "8    2167  \n",
       "9    2598  "
      ]
     },
     "execution_count": 302,
     "metadata": {},
     "output_type": "execute_result"
    }
   ],
   "source": [
    "dev_genres_df"
   ]
  },
  {
   "cell_type": "code",
   "execution_count": 305,
   "metadata": {},
   "outputs": [
    {
     "data": {
      "application/vnd.plotly.v1+json": {
       "config": {
        "plotlyServerURL": "https://plot.ly"
       },
       "data": [
        {
         "name": "Pop",
         "type": "scatter",
         "x": [
          "1980",
          "1981",
          "1982",
          "1983",
          "1984",
          "1985",
          "1986",
          "1987",
          "1988",
          "1989"
         ],
         "y": [
          737,
          823,
          803,
          1114,
          1532,
          1612,
          1807,
          2293,
          2380,
          2660
         ]
        }
       ],
       "layout": {
        "autosize": true,
        "template": {
         "data": {
          "bar": [
           {
            "error_x": {
             "color": "#2a3f5f"
            },
            "error_y": {
             "color": "#2a3f5f"
            },
            "marker": {
             "line": {
              "color": "#E5ECF6",
              "width": 0.5
             },
             "pattern": {
              "fillmode": "overlay",
              "size": 10,
              "solidity": 0.2
             }
            },
            "type": "bar"
           }
          ],
          "barpolar": [
           {
            "marker": {
             "line": {
              "color": "#E5ECF6",
              "width": 0.5
             },
             "pattern": {
              "fillmode": "overlay",
              "size": 10,
              "solidity": 0.2
             }
            },
            "type": "barpolar"
           }
          ],
          "carpet": [
           {
            "aaxis": {
             "endlinecolor": "#2a3f5f",
             "gridcolor": "white",
             "linecolor": "white",
             "minorgridcolor": "white",
             "startlinecolor": "#2a3f5f"
            },
            "baxis": {
             "endlinecolor": "#2a3f5f",
             "gridcolor": "white",
             "linecolor": "white",
             "minorgridcolor": "white",
             "startlinecolor": "#2a3f5f"
            },
            "type": "carpet"
           }
          ],
          "choropleth": [
           {
            "colorbar": {
             "outlinewidth": 0,
             "ticks": ""
            },
            "type": "choropleth"
           }
          ],
          "contour": [
           {
            "colorbar": {
             "outlinewidth": 0,
             "ticks": ""
            },
            "colorscale": [
             [
              0,
              "#0d0887"
             ],
             [
              0.1111111111111111,
              "#46039f"
             ],
             [
              0.2222222222222222,
              "#7201a8"
             ],
             [
              0.3333333333333333,
              "#9c179e"
             ],
             [
              0.4444444444444444,
              "#bd3786"
             ],
             [
              0.5555555555555556,
              "#d8576b"
             ],
             [
              0.6666666666666666,
              "#ed7953"
             ],
             [
              0.7777777777777778,
              "#fb9f3a"
             ],
             [
              0.8888888888888888,
              "#fdca26"
             ],
             [
              1,
              "#f0f921"
             ]
            ],
            "type": "contour"
           }
          ],
          "contourcarpet": [
           {
            "colorbar": {
             "outlinewidth": 0,
             "ticks": ""
            },
            "type": "contourcarpet"
           }
          ],
          "heatmap": [
           {
            "colorbar": {
             "outlinewidth": 0,
             "ticks": ""
            },
            "colorscale": [
             [
              0,
              "#0d0887"
             ],
             [
              0.1111111111111111,
              "#46039f"
             ],
             [
              0.2222222222222222,
              "#7201a8"
             ],
             [
              0.3333333333333333,
              "#9c179e"
             ],
             [
              0.4444444444444444,
              "#bd3786"
             ],
             [
              0.5555555555555556,
              "#d8576b"
             ],
             [
              0.6666666666666666,
              "#ed7953"
             ],
             [
              0.7777777777777778,
              "#fb9f3a"
             ],
             [
              0.8888888888888888,
              "#fdca26"
             ],
             [
              1,
              "#f0f921"
             ]
            ],
            "type": "heatmap"
           }
          ],
          "heatmapgl": [
           {
            "colorbar": {
             "outlinewidth": 0,
             "ticks": ""
            },
            "colorscale": [
             [
              0,
              "#0d0887"
             ],
             [
              0.1111111111111111,
              "#46039f"
             ],
             [
              0.2222222222222222,
              "#7201a8"
             ],
             [
              0.3333333333333333,
              "#9c179e"
             ],
             [
              0.4444444444444444,
              "#bd3786"
             ],
             [
              0.5555555555555556,
              "#d8576b"
             ],
             [
              0.6666666666666666,
              "#ed7953"
             ],
             [
              0.7777777777777778,
              "#fb9f3a"
             ],
             [
              0.8888888888888888,
              "#fdca26"
             ],
             [
              1,
              "#f0f921"
             ]
            ],
            "type": "heatmapgl"
           }
          ],
          "histogram": [
           {
            "marker": {
             "pattern": {
              "fillmode": "overlay",
              "size": 10,
              "solidity": 0.2
             }
            },
            "type": "histogram"
           }
          ],
          "histogram2d": [
           {
            "colorbar": {
             "outlinewidth": 0,
             "ticks": ""
            },
            "colorscale": [
             [
              0,
              "#0d0887"
             ],
             [
              0.1111111111111111,
              "#46039f"
             ],
             [
              0.2222222222222222,
              "#7201a8"
             ],
             [
              0.3333333333333333,
              "#9c179e"
             ],
             [
              0.4444444444444444,
              "#bd3786"
             ],
             [
              0.5555555555555556,
              "#d8576b"
             ],
             [
              0.6666666666666666,
              "#ed7953"
             ],
             [
              0.7777777777777778,
              "#fb9f3a"
             ],
             [
              0.8888888888888888,
              "#fdca26"
             ],
             [
              1,
              "#f0f921"
             ]
            ],
            "type": "histogram2d"
           }
          ],
          "histogram2dcontour": [
           {
            "colorbar": {
             "outlinewidth": 0,
             "ticks": ""
            },
            "colorscale": [
             [
              0,
              "#0d0887"
             ],
             [
              0.1111111111111111,
              "#46039f"
             ],
             [
              0.2222222222222222,
              "#7201a8"
             ],
             [
              0.3333333333333333,
              "#9c179e"
             ],
             [
              0.4444444444444444,
              "#bd3786"
             ],
             [
              0.5555555555555556,
              "#d8576b"
             ],
             [
              0.6666666666666666,
              "#ed7953"
             ],
             [
              0.7777777777777778,
              "#fb9f3a"
             ],
             [
              0.8888888888888888,
              "#fdca26"
             ],
             [
              1,
              "#f0f921"
             ]
            ],
            "type": "histogram2dcontour"
           }
          ],
          "mesh3d": [
           {
            "colorbar": {
             "outlinewidth": 0,
             "ticks": ""
            },
            "type": "mesh3d"
           }
          ],
          "parcoords": [
           {
            "line": {
             "colorbar": {
              "outlinewidth": 0,
              "ticks": ""
             }
            },
            "type": "parcoords"
           }
          ],
          "pie": [
           {
            "automargin": true,
            "type": "pie"
           }
          ],
          "scatter": [
           {
            "fillpattern": {
             "fillmode": "overlay",
             "size": 10,
             "solidity": 0.2
            },
            "type": "scatter"
           }
          ],
          "scatter3d": [
           {
            "line": {
             "colorbar": {
              "outlinewidth": 0,
              "ticks": ""
             }
            },
            "marker": {
             "colorbar": {
              "outlinewidth": 0,
              "ticks": ""
             }
            },
            "type": "scatter3d"
           }
          ],
          "scattercarpet": [
           {
            "marker": {
             "colorbar": {
              "outlinewidth": 0,
              "ticks": ""
             }
            },
            "type": "scattercarpet"
           }
          ],
          "scattergeo": [
           {
            "marker": {
             "colorbar": {
              "outlinewidth": 0,
              "ticks": ""
             }
            },
            "type": "scattergeo"
           }
          ],
          "scattergl": [
           {
            "marker": {
             "colorbar": {
              "outlinewidth": 0,
              "ticks": ""
             }
            },
            "type": "scattergl"
           }
          ],
          "scattermapbox": [
           {
            "marker": {
             "colorbar": {
              "outlinewidth": 0,
              "ticks": ""
             }
            },
            "type": "scattermapbox"
           }
          ],
          "scatterpolar": [
           {
            "marker": {
             "colorbar": {
              "outlinewidth": 0,
              "ticks": ""
             }
            },
            "type": "scatterpolar"
           }
          ],
          "scatterpolargl": [
           {
            "marker": {
             "colorbar": {
              "outlinewidth": 0,
              "ticks": ""
             }
            },
            "type": "scatterpolargl"
           }
          ],
          "scatterternary": [
           {
            "marker": {
             "colorbar": {
              "outlinewidth": 0,
              "ticks": ""
             }
            },
            "type": "scatterternary"
           }
          ],
          "surface": [
           {
            "colorbar": {
             "outlinewidth": 0,
             "ticks": ""
            },
            "colorscale": [
             [
              0,
              "#0d0887"
             ],
             [
              0.1111111111111111,
              "#46039f"
             ],
             [
              0.2222222222222222,
              "#7201a8"
             ],
             [
              0.3333333333333333,
              "#9c179e"
             ],
             [
              0.4444444444444444,
              "#bd3786"
             ],
             [
              0.5555555555555556,
              "#d8576b"
             ],
             [
              0.6666666666666666,
              "#ed7953"
             ],
             [
              0.7777777777777778,
              "#fb9f3a"
             ],
             [
              0.8888888888888888,
              "#fdca26"
             ],
             [
              1,
              "#f0f921"
             ]
            ],
            "type": "surface"
           }
          ],
          "table": [
           {
            "cells": {
             "fill": {
              "color": "#EBF0F8"
             },
             "line": {
              "color": "white"
             }
            },
            "header": {
             "fill": {
              "color": "#C8D4E3"
             },
             "line": {
              "color": "white"
             }
            },
            "type": "table"
           }
          ]
         },
         "layout": {
          "annotationdefaults": {
           "arrowcolor": "#2a3f5f",
           "arrowhead": 0,
           "arrowwidth": 1
          },
          "autotypenumbers": "strict",
          "coloraxis": {
           "colorbar": {
            "outlinewidth": 0,
            "ticks": ""
           }
          },
          "colorscale": {
           "diverging": [
            [
             0,
             "#8e0152"
            ],
            [
             0.1,
             "#c51b7d"
            ],
            [
             0.2,
             "#de77ae"
            ],
            [
             0.3,
             "#f1b6da"
            ],
            [
             0.4,
             "#fde0ef"
            ],
            [
             0.5,
             "#f7f7f7"
            ],
            [
             0.6,
             "#e6f5d0"
            ],
            [
             0.7,
             "#b8e186"
            ],
            [
             0.8,
             "#7fbc41"
            ],
            [
             0.9,
             "#4d9221"
            ],
            [
             1,
             "#276419"
            ]
           ],
           "sequential": [
            [
             0,
             "#0d0887"
            ],
            [
             0.1111111111111111,
             "#46039f"
            ],
            [
             0.2222222222222222,
             "#7201a8"
            ],
            [
             0.3333333333333333,
             "#9c179e"
            ],
            [
             0.4444444444444444,
             "#bd3786"
            ],
            [
             0.5555555555555556,
             "#d8576b"
            ],
            [
             0.6666666666666666,
             "#ed7953"
            ],
            [
             0.7777777777777778,
             "#fb9f3a"
            ],
            [
             0.8888888888888888,
             "#fdca26"
            ],
            [
             1,
             "#f0f921"
            ]
           ],
           "sequentialminus": [
            [
             0,
             "#0d0887"
            ],
            [
             0.1111111111111111,
             "#46039f"
            ],
            [
             0.2222222222222222,
             "#7201a8"
            ],
            [
             0.3333333333333333,
             "#9c179e"
            ],
            [
             0.4444444444444444,
             "#bd3786"
            ],
            [
             0.5555555555555556,
             "#d8576b"
            ],
            [
             0.6666666666666666,
             "#ed7953"
            ],
            [
             0.7777777777777778,
             "#fb9f3a"
            ],
            [
             0.8888888888888888,
             "#fdca26"
            ],
            [
             1,
             "#f0f921"
            ]
           ]
          },
          "colorway": [
           "#636efa",
           "#EF553B",
           "#00cc96",
           "#ab63fa",
           "#FFA15A",
           "#19d3f3",
           "#FF6692",
           "#B6E880",
           "#FF97FF",
           "#FECB52"
          ],
          "font": {
           "color": "#2a3f5f"
          },
          "geo": {
           "bgcolor": "white",
           "lakecolor": "white",
           "landcolor": "#E5ECF6",
           "showlakes": true,
           "showland": true,
           "subunitcolor": "white"
          },
          "hoverlabel": {
           "align": "left"
          },
          "hovermode": "closest",
          "mapbox": {
           "style": "light"
          },
          "paper_bgcolor": "white",
          "plot_bgcolor": "#E5ECF6",
          "polar": {
           "angularaxis": {
            "gridcolor": "white",
            "linecolor": "white",
            "ticks": ""
           },
           "bgcolor": "#E5ECF6",
           "radialaxis": {
            "gridcolor": "white",
            "linecolor": "white",
            "ticks": ""
           }
          },
          "scene": {
           "xaxis": {
            "backgroundcolor": "#E5ECF6",
            "gridcolor": "white",
            "gridwidth": 2,
            "linecolor": "white",
            "showbackground": true,
            "ticks": "",
            "zerolinecolor": "white"
           },
           "yaxis": {
            "backgroundcolor": "#E5ECF6",
            "gridcolor": "white",
            "gridwidth": 2,
            "linecolor": "white",
            "showbackground": true,
            "ticks": "",
            "zerolinecolor": "white"
           },
           "zaxis": {
            "backgroundcolor": "#E5ECF6",
            "gridcolor": "white",
            "gridwidth": 2,
            "linecolor": "white",
            "showbackground": true,
            "ticks": "",
            "zerolinecolor": "white"
           }
          },
          "shapedefaults": {
           "line": {
            "color": "#2a3f5f"
           }
          },
          "ternary": {
           "aaxis": {
            "gridcolor": "white",
            "linecolor": "white",
            "ticks": ""
           },
           "baxis": {
            "gridcolor": "white",
            "linecolor": "white",
            "ticks": ""
           },
           "bgcolor": "#E5ECF6",
           "caxis": {
            "gridcolor": "white",
            "linecolor": "white",
            "ticks": ""
           }
          },
          "title": {
           "x": 0.05
          },
          "xaxis": {
           "automargin": true,
           "gridcolor": "white",
           "linecolor": "white",
           "ticks": "",
           "title": {
            "standoff": 15
           },
           "zerolinecolor": "white",
           "zerolinewidth": 2
          },
          "yaxis": {
           "automargin": true,
           "gridcolor": "white",
           "linecolor": "white",
           "ticks": "",
           "title": {
            "standoff": 15
           },
           "zerolinecolor": "white",
           "zerolinewidth": 2
          }
         }
        },
        "title": {
         "text": "Development of features"
        },
        "updatemenus": [
         {
          "active": 7,
          "buttons": [
           {
            "args": [
             {
              "y": [
               [
                11523,
                10277,
                10359,
                10033,
                12202,
                11372,
                11430,
                12310,
                13809,
                15447
               ]
              ]
             },
             {
              "yaxis": {
               "title": "Pop"
              }
             }
            ],
            "label": "pop",
            "method": "update"
           },
           {
            "args": [
             {
              "y": [
               [
                8459,
                8302,
                7874,
                8292,
                8837,
                8721,
                9258,
                10706,
                11045,
                12441
               ]
              ]
             },
             {
              "yaxis": {
               "title": "Rock"
              }
             }
            ],
            "label": "rock",
            "method": "update"
           },
           {
            "args": [
             {
              "y": [
               [
                5302,
                5424,
                5393,
                6917,
                7017,
                7751,
                9244,
                12349,
                16545,
                17686
               ]
              ]
             },
             {
              "yaxis": {
               "autorange": true,
               "range": [
                4520.267029972752,
                18467.73297002725
               ],
               "title": {
                "text": "Classical"
               },
               "type": "linear"
              }
             }
            ],
            "label": "classical",
            "method": "update"
           },
           {
            "args": [
             {
              "y": [
               [
                2248,
                2471,
                2185,
                3433,
                3047,
                3443,
                3824,
                4458,
                6465,
                6178
               ]
              ]
             },
             {
              "yaxis": {
               "title": "German"
              }
             }
            ],
            "label": "german",
            "method": "update"
           },
           {
            "args": [
             {
              "y": [
               [
                2601,
                2117,
                2239,
                1998,
                2250,
                2450,
                2956,
                3599,
                4639,
                5212
               ]
              ]
             },
             {
              "yaxis": {
               "title": "Jazz"
              }
             }
            ],
            "label": "jazz",
            "method": "update"
           },
           {
            "args": [
             {
              "y": [
               [
                3065,
                2177,
                41,
                2416,
                2564,
                2779,
                3772,
                4267,
                4272,
                4700
               ]
              ]
             },
             {
              "yaxis": {
               "title": "Folk"
              }
             }
            ],
            "label": "folk",
            "method": "update"
           },
           {
            "args": [
             {
              "y": [
               [
                2165,
                2455,
                2417,
                2366,
                2419,
                2251,
                2322,
                2510,
                2736,
                2634
               ]
              ]
             },
             {
              "yaxis": {
               "title": "Punk"
              }
             }
            ],
            "label": "punk",
            "method": "update"
           },
           {
            "args": [
             {
              "y": [
               [
                737,
                823,
                803,
                1114,
                1532,
                1612,
                1807,
                2293,
                2380,
                2660
               ]
              ]
             },
             {
              "yaxis": {
               "autorange": true,
               "range": [
                615.6117166212534,
                2781.3882833787466
               ],
               "title": {
                "text": "Metal"
               },
               "type": "linear"
              }
             }
            ],
            "label": "metal",
            "method": "update"
           },
           {
            "args": [
             {
              "y": [
               [
                1804,
                1711,
                44,
                1483,
                1265,
                1640,
                1628,
                1876,
                1930,
                2165
               ]
              ]
             },
             {
              "yaxis": {
               "title": "Country"
              }
             }
            ],
            "label": "country",
            "method": "update"
           },
           {
            "args": [
             {
              "y": [
               [
                888,
                1139,
                962,
                1129,
                1365,
                1193,
                1278,
                1498,
                2167,
                2598
               ]
              ]
             },
             {
              "yaxis": {
               "title": "French"
              }
             }
            ],
            "label": "french",
            "method": "update"
           }
          ],
          "direction": "down",
          "showactive": true
         }
        ],
        "xaxis": {
         "autorange": true,
         "range": [
          -0.5383435582822086,
          9.53834355828221
         ],
         "title": {
          "text": "year"
         },
         "type": "category"
        },
        "yaxis": {
         "autorange": true,
         "range": [
          615.6117166212534,
          2781.3882833787466
         ],
         "title": {
          "text": "Metal"
         },
         "type": "linear"
        }
       }
      },
      "text/html": [
       "<div>                            <div id=\"bf5c15ec-088f-470a-9216-87cda02d6146\" class=\"plotly-graph-div\" style=\"height:800px; width:100%;\"></div>            <script type=\"text/javascript\">                require([\"plotly\"], function(Plotly) {                    window.PLOTLYENV=window.PLOTLYENV || {};                                    if (document.getElementById(\"bf5c15ec-088f-470a-9216-87cda02d6146\")) {                    Plotly.newPlot(                        \"bf5c15ec-088f-470a-9216-87cda02d6146\",                        [{\"name\":\"Pop\",\"x\":[\"1980\",\"1981\",\"1982\",\"1983\",\"1984\",\"1985\",\"1986\",\"1987\",\"1988\",\"1989\"],\"y\":[11523,10277,10359,10033,12202,11372,11430,12310,13809,15447],\"type\":\"scatter\"}],                        {\"template\":{\"data\":{\"histogram2dcontour\":[{\"type\":\"histogram2dcontour\",\"colorbar\":{\"outlinewidth\":0,\"ticks\":\"\"},\"colorscale\":[[0.0,\"#0d0887\"],[0.1111111111111111,\"#46039f\"],[0.2222222222222222,\"#7201a8\"],[0.3333333333333333,\"#9c179e\"],[0.4444444444444444,\"#bd3786\"],[0.5555555555555556,\"#d8576b\"],[0.6666666666666666,\"#ed7953\"],[0.7777777777777778,\"#fb9f3a\"],[0.8888888888888888,\"#fdca26\"],[1.0,\"#f0f921\"]]}],\"choropleth\":[{\"type\":\"choropleth\",\"colorbar\":{\"outlinewidth\":0,\"ticks\":\"\"}}],\"histogram2d\":[{\"type\":\"histogram2d\",\"colorbar\":{\"outlinewidth\":0,\"ticks\":\"\"},\"colorscale\":[[0.0,\"#0d0887\"],[0.1111111111111111,\"#46039f\"],[0.2222222222222222,\"#7201a8\"],[0.3333333333333333,\"#9c179e\"],[0.4444444444444444,\"#bd3786\"],[0.5555555555555556,\"#d8576b\"],[0.6666666666666666,\"#ed7953\"],[0.7777777777777778,\"#fb9f3a\"],[0.8888888888888888,\"#fdca26\"],[1.0,\"#f0f921\"]]}],\"heatmap\":[{\"type\":\"heatmap\",\"colorbar\":{\"outlinewidth\":0,\"ticks\":\"\"},\"colorscale\":[[0.0,\"#0d0887\"],[0.1111111111111111,\"#46039f\"],[0.2222222222222222,\"#7201a8\"],[0.3333333333333333,\"#9c179e\"],[0.4444444444444444,\"#bd3786\"],[0.5555555555555556,\"#d8576b\"],[0.6666666666666666,\"#ed7953\"],[0.7777777777777778,\"#fb9f3a\"],[0.8888888888888888,\"#fdca26\"],[1.0,\"#f0f921\"]]}],\"heatmapgl\":[{\"type\":\"heatmapgl\",\"colorbar\":{\"outlinewidth\":0,\"ticks\":\"\"},\"colorscale\":[[0.0,\"#0d0887\"],[0.1111111111111111,\"#46039f\"],[0.2222222222222222,\"#7201a8\"],[0.3333333333333333,\"#9c179e\"],[0.4444444444444444,\"#bd3786\"],[0.5555555555555556,\"#d8576b\"],[0.6666666666666666,\"#ed7953\"],[0.7777777777777778,\"#fb9f3a\"],[0.8888888888888888,\"#fdca26\"],[1.0,\"#f0f921\"]]}],\"contourcarpet\":[{\"type\":\"contourcarpet\",\"colorbar\":{\"outlinewidth\":0,\"ticks\":\"\"}}],\"contour\":[{\"type\":\"contour\",\"colorbar\":{\"outlinewidth\":0,\"ticks\":\"\"},\"colorscale\":[[0.0,\"#0d0887\"],[0.1111111111111111,\"#46039f\"],[0.2222222222222222,\"#7201a8\"],[0.3333333333333333,\"#9c179e\"],[0.4444444444444444,\"#bd3786\"],[0.5555555555555556,\"#d8576b\"],[0.6666666666666666,\"#ed7953\"],[0.7777777777777778,\"#fb9f3a\"],[0.8888888888888888,\"#fdca26\"],[1.0,\"#f0f921\"]]}],\"surface\":[{\"type\":\"surface\",\"colorbar\":{\"outlinewidth\":0,\"ticks\":\"\"},\"colorscale\":[[0.0,\"#0d0887\"],[0.1111111111111111,\"#46039f\"],[0.2222222222222222,\"#7201a8\"],[0.3333333333333333,\"#9c179e\"],[0.4444444444444444,\"#bd3786\"],[0.5555555555555556,\"#d8576b\"],[0.6666666666666666,\"#ed7953\"],[0.7777777777777778,\"#fb9f3a\"],[0.8888888888888888,\"#fdca26\"],[1.0,\"#f0f921\"]]}],\"mesh3d\":[{\"type\":\"mesh3d\",\"colorbar\":{\"outlinewidth\":0,\"ticks\":\"\"}}],\"scatter\":[{\"fillpattern\":{\"fillmode\":\"overlay\",\"size\":10,\"solidity\":0.2},\"type\":\"scatter\"}],\"parcoords\":[{\"type\":\"parcoords\",\"line\":{\"colorbar\":{\"outlinewidth\":0,\"ticks\":\"\"}}}],\"scatterpolargl\":[{\"type\":\"scatterpolargl\",\"marker\":{\"colorbar\":{\"outlinewidth\":0,\"ticks\":\"\"}}}],\"bar\":[{\"error_x\":{\"color\":\"#2a3f5f\"},\"error_y\":{\"color\":\"#2a3f5f\"},\"marker\":{\"line\":{\"color\":\"#E5ECF6\",\"width\":0.5},\"pattern\":{\"fillmode\":\"overlay\",\"size\":10,\"solidity\":0.2}},\"type\":\"bar\"}],\"scattergeo\":[{\"type\":\"scattergeo\",\"marker\":{\"colorbar\":{\"outlinewidth\":0,\"ticks\":\"\"}}}],\"scatterpolar\":[{\"type\":\"scatterpolar\",\"marker\":{\"colorbar\":{\"outlinewidth\":0,\"ticks\":\"\"}}}],\"histogram\":[{\"marker\":{\"pattern\":{\"fillmode\":\"overlay\",\"size\":10,\"solidity\":0.2}},\"type\":\"histogram\"}],\"scattergl\":[{\"type\":\"scattergl\",\"marker\":{\"colorbar\":{\"outlinewidth\":0,\"ticks\":\"\"}}}],\"scatter3d\":[{\"type\":\"scatter3d\",\"line\":{\"colorbar\":{\"outlinewidth\":0,\"ticks\":\"\"}},\"marker\":{\"colorbar\":{\"outlinewidth\":0,\"ticks\":\"\"}}}],\"scattermapbox\":[{\"type\":\"scattermapbox\",\"marker\":{\"colorbar\":{\"outlinewidth\":0,\"ticks\":\"\"}}}],\"scatterternary\":[{\"type\":\"scatterternary\",\"marker\":{\"colorbar\":{\"outlinewidth\":0,\"ticks\":\"\"}}}],\"scattercarpet\":[{\"type\":\"scattercarpet\",\"marker\":{\"colorbar\":{\"outlinewidth\":0,\"ticks\":\"\"}}}],\"carpet\":[{\"aaxis\":{\"endlinecolor\":\"#2a3f5f\",\"gridcolor\":\"white\",\"linecolor\":\"white\",\"minorgridcolor\":\"white\",\"startlinecolor\":\"#2a3f5f\"},\"baxis\":{\"endlinecolor\":\"#2a3f5f\",\"gridcolor\":\"white\",\"linecolor\":\"white\",\"minorgridcolor\":\"white\",\"startlinecolor\":\"#2a3f5f\"},\"type\":\"carpet\"}],\"table\":[{\"cells\":{\"fill\":{\"color\":\"#EBF0F8\"},\"line\":{\"color\":\"white\"}},\"header\":{\"fill\":{\"color\":\"#C8D4E3\"},\"line\":{\"color\":\"white\"}},\"type\":\"table\"}],\"barpolar\":[{\"marker\":{\"line\":{\"color\":\"#E5ECF6\",\"width\":0.5},\"pattern\":{\"fillmode\":\"overlay\",\"size\":10,\"solidity\":0.2}},\"type\":\"barpolar\"}],\"pie\":[{\"automargin\":true,\"type\":\"pie\"}]},\"layout\":{\"autotypenumbers\":\"strict\",\"colorway\":[\"#636efa\",\"#EF553B\",\"#00cc96\",\"#ab63fa\",\"#FFA15A\",\"#19d3f3\",\"#FF6692\",\"#B6E880\",\"#FF97FF\",\"#FECB52\"],\"font\":{\"color\":\"#2a3f5f\"},\"hovermode\":\"closest\",\"hoverlabel\":{\"align\":\"left\"},\"paper_bgcolor\":\"white\",\"plot_bgcolor\":\"#E5ECF6\",\"polar\":{\"bgcolor\":\"#E5ECF6\",\"angularaxis\":{\"gridcolor\":\"white\",\"linecolor\":\"white\",\"ticks\":\"\"},\"radialaxis\":{\"gridcolor\":\"white\",\"linecolor\":\"white\",\"ticks\":\"\"}},\"ternary\":{\"bgcolor\":\"#E5ECF6\",\"aaxis\":{\"gridcolor\":\"white\",\"linecolor\":\"white\",\"ticks\":\"\"},\"baxis\":{\"gridcolor\":\"white\",\"linecolor\":\"white\",\"ticks\":\"\"},\"caxis\":{\"gridcolor\":\"white\",\"linecolor\":\"white\",\"ticks\":\"\"}},\"coloraxis\":{\"colorbar\":{\"outlinewidth\":0,\"ticks\":\"\"}},\"colorscale\":{\"sequential\":[[0.0,\"#0d0887\"],[0.1111111111111111,\"#46039f\"],[0.2222222222222222,\"#7201a8\"],[0.3333333333333333,\"#9c179e\"],[0.4444444444444444,\"#bd3786\"],[0.5555555555555556,\"#d8576b\"],[0.6666666666666666,\"#ed7953\"],[0.7777777777777778,\"#fb9f3a\"],[0.8888888888888888,\"#fdca26\"],[1.0,\"#f0f921\"]],\"sequentialminus\":[[0.0,\"#0d0887\"],[0.1111111111111111,\"#46039f\"],[0.2222222222222222,\"#7201a8\"],[0.3333333333333333,\"#9c179e\"],[0.4444444444444444,\"#bd3786\"],[0.5555555555555556,\"#d8576b\"],[0.6666666666666666,\"#ed7953\"],[0.7777777777777778,\"#fb9f3a\"],[0.8888888888888888,\"#fdca26\"],[1.0,\"#f0f921\"]],\"diverging\":[[0,\"#8e0152\"],[0.1,\"#c51b7d\"],[0.2,\"#de77ae\"],[0.3,\"#f1b6da\"],[0.4,\"#fde0ef\"],[0.5,\"#f7f7f7\"],[0.6,\"#e6f5d0\"],[0.7,\"#b8e186\"],[0.8,\"#7fbc41\"],[0.9,\"#4d9221\"],[1,\"#276419\"]]},\"xaxis\":{\"gridcolor\":\"white\",\"linecolor\":\"white\",\"ticks\":\"\",\"title\":{\"standoff\":15},\"zerolinecolor\":\"white\",\"automargin\":true,\"zerolinewidth\":2},\"yaxis\":{\"gridcolor\":\"white\",\"linecolor\":\"white\",\"ticks\":\"\",\"title\":{\"standoff\":15},\"zerolinecolor\":\"white\",\"automargin\":true,\"zerolinewidth\":2},\"scene\":{\"xaxis\":{\"backgroundcolor\":\"#E5ECF6\",\"gridcolor\":\"white\",\"linecolor\":\"white\",\"showbackground\":true,\"ticks\":\"\",\"zerolinecolor\":\"white\",\"gridwidth\":2},\"yaxis\":{\"backgroundcolor\":\"#E5ECF6\",\"gridcolor\":\"white\",\"linecolor\":\"white\",\"showbackground\":true,\"ticks\":\"\",\"zerolinecolor\":\"white\",\"gridwidth\":2},\"zaxis\":{\"backgroundcolor\":\"#E5ECF6\",\"gridcolor\":\"white\",\"linecolor\":\"white\",\"showbackground\":true,\"ticks\":\"\",\"zerolinecolor\":\"white\",\"gridwidth\":2}},\"shapedefaults\":{\"line\":{\"color\":\"#2a3f5f\"}},\"annotationdefaults\":{\"arrowcolor\":\"#2a3f5f\",\"arrowhead\":0,\"arrowwidth\":1},\"geo\":{\"bgcolor\":\"white\",\"landcolor\":\"#E5ECF6\",\"subunitcolor\":\"white\",\"showland\":true,\"showlakes\":true,\"lakecolor\":\"white\"},\"title\":{\"x\":0.05},\"mapbox\":{\"style\":\"light\"}}},\"height\":800,\"updatemenus\":[{\"buttons\":[{\"args\":[{\"y\":[[11523,10277,10359,10033,12202,11372,11430,12310,13809,15447]]},{\"yaxis\":{\"title\":\"Pop\"}}],\"label\":\"pop\",\"method\":\"update\"},{\"args\":[{\"y\":[[8459,8302,7874,8292,8837,8721,9258,10706,11045,12441]]},{\"yaxis\":{\"title\":\"Rock\"}}],\"label\":\"rock\",\"method\":\"update\"},{\"args\":[{\"y\":[[5302,5424,5393,6917,7017,7751,9244,12349,16545,17686]]},{\"yaxis\":{\"title\":\"Classical\"}}],\"label\":\"classical\",\"method\":\"update\"},{\"args\":[{\"y\":[[2248,2471,2185,3433,3047,3443,3824,4458,6465,6178]]},{\"yaxis\":{\"title\":\"German\"}}],\"label\":\"german\",\"method\":\"update\"},{\"args\":[{\"y\":[[2601,2117,2239,1998,2250,2450,2956,3599,4639,5212]]},{\"yaxis\":{\"title\":\"Jazz\"}}],\"label\":\"jazz\",\"method\":\"update\"},{\"args\":[{\"y\":[[3065,2177,41,2416,2564,2779,3772,4267,4272,4700]]},{\"yaxis\":{\"title\":\"Folk\"}}],\"label\":\"folk\",\"method\":\"update\"},{\"args\":[{\"y\":[[2165,2455,2417,2366,2419,2251,2322,2510,2736,2634]]},{\"yaxis\":{\"title\":\"Punk\"}}],\"label\":\"punk\",\"method\":\"update\"},{\"args\":[{\"y\":[[737,823,803,1114,1532,1612,1807,2293,2380,2660]]},{\"yaxis\":{\"title\":\"Metal\"}}],\"label\":\"metal\",\"method\":\"update\"},{\"args\":[{\"y\":[[1804,1711,44,1483,1265,1640,1628,1876,1930,2165]]},{\"yaxis\":{\"title\":\"Country\"}}],\"label\":\"country\",\"method\":\"update\"},{\"args\":[{\"y\":[[888,1139,962,1129,1365,1193,1278,1498,2167,2598]]},{\"yaxis\":{\"title\":\"French\"}}],\"label\":\"french\",\"method\":\"update\"}],\"direction\":\"down\",\"showactive\":true}],\"yaxis\":{\"title\":{\"text\":\"pop\"}},\"xaxis\":{\"title\":{\"text\":\"year\"}},\"title\":{\"text\":\"Development of features\"}},                        {\"responsive\": true}                    ).then(function(){\n",
       "                            \n",
       "var gd = document.getElementById('bf5c15ec-088f-470a-9216-87cda02d6146');\n",
       "var x = new MutationObserver(function (mutations, observer) {{\n",
       "        var display = window.getComputedStyle(gd).display;\n",
       "        if (!display || display === 'none') {{\n",
       "            console.log([gd, 'removed!']);\n",
       "            Plotly.purge(gd);\n",
       "            observer.disconnect();\n",
       "        }}\n",
       "}});\n",
       "\n",
       "// Listen for the removal of the full notebook cells\n",
       "var notebookContainer = gd.closest('#notebook-container');\n",
       "if (notebookContainer) {{\n",
       "    x.observe(notebookContainer, {childList: true});\n",
       "}}\n",
       "\n",
       "// Listen for the clearing of the current output cell\n",
       "var outputEl = gd.closest('.output');\n",
       "if (outputEl) {{\n",
       "    x.observe(outputEl, {childList: true});\n",
       "}}\n",
       "\n",
       "                        })                };                });            </script>        </div>"
      ]
     },
     "metadata": {},
     "output_type": "display_data"
    }
   ],
   "source": [
    "# Create the initial scatter plot\n",
    "fig = go.Figure()\n",
    "\n",
    "fig.add_trace(go.Scatter(\n",
    "    x=dev_genres_df['year'],\n",
    "    y=dev_genres_df['pop'],\n",
    "    #mode='markers',\n",
    "    name='Pop'\n",
    "))\n",
    "\n",
    "# Create the dropdown menu\n",
    "dropdown_menu = go.layout.Updatemenu(\n",
    "    buttons=list([\n",
    "        dict(\n",
    "            args=[\n",
    "                {'y': [dev_genres_df[option]]}, \n",
    "                {'yaxis': {'title': option.capitalize()}}\n",
    "            ],\n",
    "            label=option,\n",
    "            method='update'\n",
    "        )\n",
    "        for option in features\n",
    "    ]),\n",
    "    direction='down',\n",
    "    showactive=True,\n",
    ")\n",
    "\n",
    "# Update the layout with dropdown menu and initial y-axis title\n",
    "fig.update_layout(\n",
    "    height = 800,\n",
    "    updatemenus=[dropdown_menu],\n",
    "    yaxis_title='pop',\n",
    "    xaxis_title='year',\n",
    "    title='Development of features'\n",
    ")\n",
    "\n",
    "fig.show()"
   ]
  },
  {
   "attachments": {},
   "cell_type": "markdown",
   "metadata": {},
   "source": [
    "## Add the genres to the features"
   ]
  },
  {
   "cell_type": "code",
   "execution_count": 130,
   "metadata": {},
   "outputs": [
    {
     "data": {
      "text/html": [
       "<div>\n",
       "<style scoped>\n",
       "    .dataframe tbody tr th:only-of-type {\n",
       "        vertical-align: middle;\n",
       "    }\n",
       "\n",
       "    .dataframe tbody tr th {\n",
       "        vertical-align: top;\n",
       "    }\n",
       "\n",
       "    .dataframe thead th {\n",
       "        text-align: right;\n",
       "    }\n",
       "</style>\n",
       "<table border=\"1\" class=\"dataframe\">\n",
       "  <thead>\n",
       "    <tr style=\"text-align: right;\">\n",
       "      <th></th>\n",
       "      <th>isrc</th>\n",
       "      <th>genres</th>\n",
       "      <th>name</th>\n",
       "      <th>artists</th>\n",
       "      <th>album</th>\n",
       "      <th>release_date</th>\n",
       "      <th>release_date_precision</th>\n",
       "      <th>uri</th>\n",
       "      <th>spotify_id</th>\n",
       "      <th>chart_power</th>\n",
       "      <th>...</th>\n",
       "      <th>mode</th>\n",
       "      <th>speechiness</th>\n",
       "      <th>acousticness</th>\n",
       "      <th>instrumentalness</th>\n",
       "      <th>liveness</th>\n",
       "      <th>valence</th>\n",
       "      <th>tempo</th>\n",
       "      <th>duration_ms</th>\n",
       "      <th>time_signature</th>\n",
       "      <th>year</th>\n",
       "    </tr>\n",
       "  </thead>\n",
       "  <tbody>\n",
       "    <tr>\n",
       "      <th>0</th>\n",
       "      <td>AEA040700577</td>\n",
       "      <td>['j-pop', 'jazz', 'pop']</td>\n",
       "      <td>Bala Wala Chi</td>\n",
       "      <td>Ziad Rahbani</td>\n",
       "      <td>Houdou Nisbi</td>\n",
       "      <td>1985-01-01</td>\n",
       "      <td>day</td>\n",
       "      <td>spotify:track:0fylgLeNObjVvwhd8caHqX</td>\n",
       "      <td>0fylgLeNObjVvwhd8caHqX</td>\n",
       "      <td>NaN</td>\n",
       "      <td>...</td>\n",
       "      <td>1</td>\n",
       "      <td>0.0418</td>\n",
       "      <td>0.952</td>\n",
       "      <td>0.382</td>\n",
       "      <td>0.2370</td>\n",
       "      <td>0.371</td>\n",
       "      <td>157.168</td>\n",
       "      <td>207560</td>\n",
       "      <td>3</td>\n",
       "      <td>1985</td>\n",
       "    </tr>\n",
       "    <tr>\n",
       "      <th>1</th>\n",
       "      <td>AEA040700578</td>\n",
       "      <td>['groove', 'j-pop', 'jazz', 'pop']</td>\n",
       "      <td>Houdou Nisbi</td>\n",
       "      <td>Ziad Rahbani</td>\n",
       "      <td>Houdou Nisbi</td>\n",
       "      <td>1985-01-01</td>\n",
       "      <td>day</td>\n",
       "      <td>spotify:track:0yMFpBNCYXqwwOAg23bC8a</td>\n",
       "      <td>0yMFpBNCYXqwwOAg23bC8a</td>\n",
       "      <td>NaN</td>\n",
       "      <td>...</td>\n",
       "      <td>0</td>\n",
       "      <td>0.0308</td>\n",
       "      <td>0.814</td>\n",
       "      <td>0.951</td>\n",
       "      <td>0.0827</td>\n",
       "      <td>0.495</td>\n",
       "      <td>128.386</td>\n",
       "      <td>272240</td>\n",
       "      <td>3</td>\n",
       "      <td>1985</td>\n",
       "    </tr>\n",
       "    <tr>\n",
       "      <th>2</th>\n",
       "      <td>AEA040700579</td>\n",
       "      <td>['groove', 'j-pop', 'jazz', 'pop']</td>\n",
       "      <td>Nafs Al Sheghlat</td>\n",
       "      <td>Ziad Rahbani</td>\n",
       "      <td>Houdou Nisbi</td>\n",
       "      <td>1985-01-01</td>\n",
       "      <td>day</td>\n",
       "      <td>spotify:track:6G8l1kI8QlTD0UDIak5F8H</td>\n",
       "      <td>6G8l1kI8QlTD0UDIak5F8H</td>\n",
       "      <td>NaN</td>\n",
       "      <td>...</td>\n",
       "      <td>1</td>\n",
       "      <td>0.0449</td>\n",
       "      <td>0.954</td>\n",
       "      <td>0.887</td>\n",
       "      <td>0.2710</td>\n",
       "      <td>0.304</td>\n",
       "      <td>82.630</td>\n",
       "      <td>160093</td>\n",
       "      <td>4</td>\n",
       "      <td>1985</td>\n",
       "    </tr>\n",
       "    <tr>\n",
       "      <th>3</th>\n",
       "      <td>AEA040700580</td>\n",
       "      <td>['groove', 'j-pop', 'jazz', 'pop']</td>\n",
       "      <td>Yalla Kichou Barra</td>\n",
       "      <td>Ziad Rahbani</td>\n",
       "      <td>Houdou Nisbi</td>\n",
       "      <td>1985-01-01</td>\n",
       "      <td>day</td>\n",
       "      <td>spotify:track:21g76Lq5Jg4QvfTDvi4PlH</td>\n",
       "      <td>21g76Lq5Jg4QvfTDvi4PlH</td>\n",
       "      <td>NaN</td>\n",
       "      <td>...</td>\n",
       "      <td>1</td>\n",
       "      <td>0.0341</td>\n",
       "      <td>0.430</td>\n",
       "      <td>0.838</td>\n",
       "      <td>0.1240</td>\n",
       "      <td>0.656</td>\n",
       "      <td>102.485</td>\n",
       "      <td>155667</td>\n",
       "      <td>4</td>\n",
       "      <td>1985</td>\n",
       "    </tr>\n",
       "    <tr>\n",
       "      <th>4</th>\n",
       "      <td>AEA040700581</td>\n",
       "      <td>['groove', 'j-pop', 'jazz', 'pop', 'pop']</td>\n",
       "      <td>Ma Tfel</td>\n",
       "      <td>Ziad Rahbani</td>\n",
       "      <td>Houdou Nisbi</td>\n",
       "      <td>1985-01-01</td>\n",
       "      <td>day</td>\n",
       "      <td>spotify:track:0pKxrkFh8fxPKpkO29MYmi</td>\n",
       "      <td>0pKxrkFh8fxPKpkO29MYmi</td>\n",
       "      <td>NaN</td>\n",
       "      <td>...</td>\n",
       "      <td>0</td>\n",
       "      <td>0.0436</td>\n",
       "      <td>0.749</td>\n",
       "      <td>0.941</td>\n",
       "      <td>0.1150</td>\n",
       "      <td>0.752</td>\n",
       "      <td>150.656</td>\n",
       "      <td>265173</td>\n",
       "      <td>4</td>\n",
       "      <td>1985</td>\n",
       "    </tr>\n",
       "  </tbody>\n",
       "</table>\n",
       "<p>5 rows × 25 columns</p>\n",
       "</div>"
      ],
      "text/plain": [
       "           isrc                                     genres  \\\n",
       "0  AEA040700577                   ['j-pop', 'jazz', 'pop']   \n",
       "1  AEA040700578         ['groove', 'j-pop', 'jazz', 'pop']   \n",
       "2  AEA040700579         ['groove', 'j-pop', 'jazz', 'pop']   \n",
       "3  AEA040700580         ['groove', 'j-pop', 'jazz', 'pop']   \n",
       "4  AEA040700581  ['groove', 'j-pop', 'jazz', 'pop', 'pop']   \n",
       "\n",
       "                 name       artists         album release_date  \\\n",
       "0       Bala Wala Chi  Ziad Rahbani  Houdou Nisbi   1985-01-01   \n",
       "1        Houdou Nisbi  Ziad Rahbani  Houdou Nisbi   1985-01-01   \n",
       "2    Nafs Al Sheghlat  Ziad Rahbani  Houdou Nisbi   1985-01-01   \n",
       "3  Yalla Kichou Barra  Ziad Rahbani  Houdou Nisbi   1985-01-01   \n",
       "4             Ma Tfel  Ziad Rahbani  Houdou Nisbi   1985-01-01   \n",
       "\n",
       "  release_date_precision                                   uri  \\\n",
       "0                    day  spotify:track:0fylgLeNObjVvwhd8caHqX   \n",
       "1                    day  spotify:track:0yMFpBNCYXqwwOAg23bC8a   \n",
       "2                    day  spotify:track:6G8l1kI8QlTD0UDIak5F8H   \n",
       "3                    day  spotify:track:21g76Lq5Jg4QvfTDvi4PlH   \n",
       "4                    day  spotify:track:0pKxrkFh8fxPKpkO29MYmi   \n",
       "\n",
       "               spotify_id  chart_power  ...  mode  speechiness  acousticness  \\\n",
       "0  0fylgLeNObjVvwhd8caHqX          NaN  ...     1       0.0418         0.952   \n",
       "1  0yMFpBNCYXqwwOAg23bC8a          NaN  ...     0       0.0308         0.814   \n",
       "2  6G8l1kI8QlTD0UDIak5F8H          NaN  ...     1       0.0449         0.954   \n",
       "3  21g76Lq5Jg4QvfTDvi4PlH          NaN  ...     1       0.0341         0.430   \n",
       "4  0pKxrkFh8fxPKpkO29MYmi          NaN  ...     0       0.0436         0.749   \n",
       "\n",
       "   instrumentalness  liveness  valence    tempo  duration_ms  time_signature  \\\n",
       "0             0.382    0.2370    0.371  157.168       207560               3   \n",
       "1             0.951    0.0827    0.495  128.386       272240               3   \n",
       "2             0.887    0.2710    0.304   82.630       160093               4   \n",
       "3             0.838    0.1240    0.656  102.485       155667               4   \n",
       "4             0.941    0.1150    0.752  150.656       265173               4   \n",
       "\n",
       "   year  \n",
       "0  1985  \n",
       "1  1985  \n",
       "2  1985  \n",
       "3  1985  \n",
       "4  1985  \n",
       "\n",
       "[5 rows x 25 columns]"
      ]
     },
     "execution_count": 130,
     "metadata": {},
     "output_type": "execute_result"
    }
   ],
   "source": [
    "df.head()"
   ]
  },
  {
   "cell_type": "code",
   "execution_count": 239,
   "metadata": {},
   "outputs": [],
   "source": [
    "scaler = MinMaxScaler()\n",
    "by_isrc_scaled = by_isrc.copy()\n",
    "by_isrc_scaled.set_index('isrc', inplace=True)\n",
    "by_isrc_scaled = by_isrc_scaled[['danceability', 'energy',\n",
    "                       'key', 'loudness', 'mode', 'speechiness',\n",
    "                       'acousticness', 'instrumentalness', 'liveness',\n",
    "                       'valence', 'time_signature', 'tempo']]\n",
    "by_isrc_scaled = pd.DataFrame(scaler.fit_transform(by_isrc_scaled), columns=by_isrc_scaled.columns, index = by_isrc_scaled.index)\n",
    "by_isrc_scaled.reset_index(inplace=True)"
   ]
  },
  {
   "cell_type": "code",
   "execution_count": 240,
   "metadata": {},
   "outputs": [],
   "source": [
    "by_isrc_genres = ct.merge(by_isrc_scaled, on=['isrc'], how='right')"
   ]
  },
  {
   "cell_type": "code",
   "execution_count": 241,
   "metadata": {},
   "outputs": [
    {
     "data": {
      "text/html": [
       "<div>\n",
       "<style scoped>\n",
       "    .dataframe tbody tr th:only-of-type {\n",
       "        vertical-align: middle;\n",
       "    }\n",
       "\n",
       "    .dataframe tbody tr th {\n",
       "        vertical-align: top;\n",
       "    }\n",
       "\n",
       "    .dataframe thead th {\n",
       "        text-align: right;\n",
       "    }\n",
       "</style>\n",
       "<table border=\"1\" class=\"dataframe\">\n",
       "  <thead>\n",
       "    <tr style=\"text-align: right;\">\n",
       "      <th></th>\n",
       "      <th>isrc</th>\n",
       "      <th>acoustic</th>\n",
       "      <th>afrobeat</th>\n",
       "      <th>alt-rock</th>\n",
       "      <th>alternative</th>\n",
       "      <th>ambient</th>\n",
       "      <th>anime</th>\n",
       "      <th>black-metal</th>\n",
       "      <th>bluegrass</th>\n",
       "      <th>blues</th>\n",
       "      <th>...</th>\n",
       "      <th>key</th>\n",
       "      <th>loudness</th>\n",
       "      <th>mode</th>\n",
       "      <th>speechiness</th>\n",
       "      <th>acousticness</th>\n",
       "      <th>instrumentalness</th>\n",
       "      <th>liveness</th>\n",
       "      <th>valence</th>\n",
       "      <th>time_signature</th>\n",
       "      <th>tempo</th>\n",
       "    </tr>\n",
       "  </thead>\n",
       "  <tbody>\n",
       "    <tr>\n",
       "      <th>0</th>\n",
       "      <td>AEA040700577</td>\n",
       "      <td>0</td>\n",
       "      <td>0</td>\n",
       "      <td>0</td>\n",
       "      <td>0</td>\n",
       "      <td>0</td>\n",
       "      <td>0</td>\n",
       "      <td>0</td>\n",
       "      <td>0</td>\n",
       "      <td>0</td>\n",
       "      <td>...</td>\n",
       "      <td>0.818182</td>\n",
       "      <td>0.620601</td>\n",
       "      <td>1.0</td>\n",
       "      <td>0.043182</td>\n",
       "      <td>0.955823</td>\n",
       "      <td>0.382</td>\n",
       "      <td>0.2370</td>\n",
       "      <td>0.371</td>\n",
       "      <td>0.6</td>\n",
       "      <td>0.638375</td>\n",
       "    </tr>\n",
       "    <tr>\n",
       "      <th>1</th>\n",
       "      <td>AEA040700578</td>\n",
       "      <td>0</td>\n",
       "      <td>0</td>\n",
       "      <td>0</td>\n",
       "      <td>0</td>\n",
       "      <td>0</td>\n",
       "      <td>0</td>\n",
       "      <td>0</td>\n",
       "      <td>0</td>\n",
       "      <td>0</td>\n",
       "      <td>...</td>\n",
       "      <td>0.636364</td>\n",
       "      <td>0.618011</td>\n",
       "      <td>0.0</td>\n",
       "      <td>0.031818</td>\n",
       "      <td>0.817269</td>\n",
       "      <td>0.951</td>\n",
       "      <td>0.0827</td>\n",
       "      <td>0.495</td>\n",
       "      <td>0.6</td>\n",
       "      <td>0.521470</td>\n",
       "    </tr>\n",
       "    <tr>\n",
       "      <th>2</th>\n",
       "      <td>AEA040700579</td>\n",
       "      <td>0</td>\n",
       "      <td>0</td>\n",
       "      <td>0</td>\n",
       "      <td>0</td>\n",
       "      <td>0</td>\n",
       "      <td>0</td>\n",
       "      <td>0</td>\n",
       "      <td>0</td>\n",
       "      <td>0</td>\n",
       "      <td>...</td>\n",
       "      <td>0.272727</td>\n",
       "      <td>0.578544</td>\n",
       "      <td>1.0</td>\n",
       "      <td>0.046384</td>\n",
       "      <td>0.957831</td>\n",
       "      <td>0.887</td>\n",
       "      <td>0.2710</td>\n",
       "      <td>0.304</td>\n",
       "      <td>0.8</td>\n",
       "      <td>0.335621</td>\n",
       "    </tr>\n",
       "    <tr>\n",
       "      <th>3</th>\n",
       "      <td>AEA040700580</td>\n",
       "      <td>0</td>\n",
       "      <td>0</td>\n",
       "      <td>0</td>\n",
       "      <td>0</td>\n",
       "      <td>0</td>\n",
       "      <td>0</td>\n",
       "      <td>0</td>\n",
       "      <td>0</td>\n",
       "      <td>0</td>\n",
       "      <td>...</td>\n",
       "      <td>0.454545</td>\n",
       "      <td>0.626845</td>\n",
       "      <td>1.0</td>\n",
       "      <td>0.035227</td>\n",
       "      <td>0.431727</td>\n",
       "      <td>0.838</td>\n",
       "      <td>0.1240</td>\n",
       "      <td>0.656</td>\n",
       "      <td>0.8</td>\n",
       "      <td>0.416267</td>\n",
       "    </tr>\n",
       "    <tr>\n",
       "      <th>4</th>\n",
       "      <td>AEA040700581</td>\n",
       "      <td>0</td>\n",
       "      <td>0</td>\n",
       "      <td>0</td>\n",
       "      <td>0</td>\n",
       "      <td>0</td>\n",
       "      <td>0</td>\n",
       "      <td>0</td>\n",
       "      <td>0</td>\n",
       "      <td>0</td>\n",
       "      <td>...</td>\n",
       "      <td>0.454545</td>\n",
       "      <td>0.631776</td>\n",
       "      <td>0.0</td>\n",
       "      <td>0.045041</td>\n",
       "      <td>0.752008</td>\n",
       "      <td>0.941</td>\n",
       "      <td>0.1150</td>\n",
       "      <td>0.752</td>\n",
       "      <td>0.8</td>\n",
       "      <td>0.611925</td>\n",
       "    </tr>\n",
       "  </tbody>\n",
       "</table>\n",
       "<p>5 rows × 123 columns</p>\n",
       "</div>"
      ],
      "text/plain": [
       "           isrc  acoustic  afrobeat  alt-rock  alternative  ambient  anime  \\\n",
       "0  AEA040700577         0         0         0            0        0      0   \n",
       "1  AEA040700578         0         0         0            0        0      0   \n",
       "2  AEA040700579         0         0         0            0        0      0   \n",
       "3  AEA040700580         0         0         0            0        0      0   \n",
       "4  AEA040700581         0         0         0            0        0      0   \n",
       "\n",
       "   black-metal  bluegrass  blues  ...       key  loudness  mode  speechiness  \\\n",
       "0            0          0      0  ...  0.818182  0.620601   1.0     0.043182   \n",
       "1            0          0      0  ...  0.636364  0.618011   0.0     0.031818   \n",
       "2            0          0      0  ...  0.272727  0.578544   1.0     0.046384   \n",
       "3            0          0      0  ...  0.454545  0.626845   1.0     0.035227   \n",
       "4            0          0      0  ...  0.454545  0.631776   0.0     0.045041   \n",
       "\n",
       "   acousticness  instrumentalness  liveness  valence  time_signature     tempo  \n",
       "0      0.955823             0.382    0.2370    0.371             0.6  0.638375  \n",
       "1      0.817269             0.951    0.0827    0.495             0.6  0.521470  \n",
       "2      0.957831             0.887    0.2710    0.304             0.8  0.335621  \n",
       "3      0.431727             0.838    0.1240    0.656             0.8  0.416267  \n",
       "4      0.752008             0.941    0.1150    0.752             0.8  0.611925  \n",
       "\n",
       "[5 rows x 123 columns]"
      ]
     },
     "execution_count": 241,
     "metadata": {},
     "output_type": "execute_result"
    }
   ],
   "source": [
    "by_isrc_genres.head()"
   ]
  },
  {
   "attachments": {},
   "cell_type": "markdown",
   "metadata": {},
   "source": [
    "## Create Radar Chart for the top 10 genres"
   ]
  },
  {
   "cell_type": "code",
   "execution_count": 235,
   "metadata": {},
   "outputs": [
    {
     "data": {
      "text/plain": [
       "['pop',\n",
       " 'rock',\n",
       " 'classical',\n",
       " 'german',\n",
       " 'jazz',\n",
       " 'folk',\n",
       " 'punk',\n",
       " 'metal',\n",
       " 'country',\n",
       " 'french']"
      ]
     },
     "execution_count": 235,
     "metadata": {},
     "output_type": "execute_result"
    }
   ],
   "source": [
    "sorted_genres[:10]"
   ]
  },
  {
   "cell_type": "code",
   "execution_count": 242,
   "metadata": {},
   "outputs": [],
   "source": [
    "fig = go.Figure()\n",
    "for genre in sorted_genres[:10]:\n",
    "    df_copy = by_isrc_genres.copy()\n",
    "    df_copy = df_copy[df_copy[genre] == 1]\n",
    "    df_copy = df_copy[['danceability', 'energy',\n",
    "                       'key', 'loudness', 'mode', 'speechiness',\n",
    "                       'acousticness', 'instrumentalness', 'liveness',\n",
    "                       'valence', 'time_signature', 'tempo', 'danceability']]\n",
    "    df_radar = pd.DataFrame(df_copy.mean(), columns=['mean'])\n",
    "    df_radar.reset_index(inplace=True)\n",
    "    df_radar.rename(columns={\"index\":\"feature\"}, inplace=True)\n",
    "\n",
    "    fig.add_trace(go.Scatterpolar(\n",
    "        r = df_radar['mean'],\n",
    "        theta = df_radar['feature'],\n",
    "        mode = 'lines',\n",
    "        fill = 'none',\n",
    "        name = genre\n",
    "    ))"
   ]
  },
  {
   "cell_type": "code",
   "execution_count": 243,
   "metadata": {},
   "outputs": [
    {
     "data": {
      "application/vnd.plotly.v1+json": {
       "config": {
        "plotlyServerURL": "https://plot.ly"
       },
       "data": [
        {
         "fill": "none",
         "mode": "lines",
         "name": "pop",
         "r": [
          0.5592196495194354,
          0.5477276334938785,
          0.46939027022723834,
          0.7658286278958996,
          0.6873158080867617,
          0.05939720610747157,
          0.4572561851291087,
          0.04975360238384332,
          0.2233918203634159,
          0.5991417473602668,
          0.7734864687357911,
          0.4897787640897645,
          0.5592196495194354
         ],
         "theta": [
          "danceability",
          "energy",
          "key",
          "loudness",
          "mode",
          "speechiness",
          "acousticness",
          "instrumentalness",
          "liveness",
          "valence",
          "time_signature",
          "tempo",
          "danceability"
         ],
         "type": "scatterpolar"
        },
        {
         "fill": "none",
         "mode": "lines",
         "name": "rock",
         "r": [
          0.5304254204090675,
          0.6377964199712568,
          0.4784188292678206,
          0.7669158582926038,
          0.709245755043381,
          0.06590877087945904,
          0.2609993978050917,
          0.09839999770990579,
          0.25108964773513603,
          0.569256270825571,
          0.7839442167456222,
          0.5044174487284168,
          0.5304254204090675
         ],
         "theta": [
          "danceability",
          "energy",
          "key",
          "loudness",
          "mode",
          "speechiness",
          "acousticness",
          "instrumentalness",
          "liveness",
          "valence",
          "time_signature",
          "tempo",
          "danceability"
         ],
         "type": "scatterpolar"
        },
        {
         "fill": "none",
         "mode": "lines",
         "name": "classical",
         "r": [
          0.3262549121936184,
          0.1423362948818729,
          0.4592060650077483,
          0.5660608127930762,
          0.698562395864485,
          0.05829071515478698,
          0.9376704926603925,
          0.496038065529222,
          0.1695276370316572,
          0.25701132780792074,
          0.7355598752509934,
          0.42547831594428515,
          0.3262549121936184
         ],
         "theta": [
          "danceability",
          "energy",
          "key",
          "loudness",
          "mode",
          "speechiness",
          "acousticness",
          "instrumentalness",
          "liveness",
          "valence",
          "time_signature",
          "tempo",
          "danceability"
         ],
         "type": "scatterpolar"
        },
        {
         "fill": "none",
         "mode": "lines",
         "name": "german",
         "r": [
          0.3641761171553261,
          0.23009223514780675,
          0.4663714384788766,
          0.5998642877960478,
          0.6763350286077559,
          0.0731872313918238,
          0.8241338772862695,
          0.41592269127569403,
          0.1864142667938123,
          0.34233802712439076,
          0.7430546726001274,
          0.4362229732794592,
          0.3641761171553261
         ],
         "theta": [
          "danceability",
          "energy",
          "key",
          "loudness",
          "mode",
          "speechiness",
          "acousticness",
          "instrumentalness",
          "liveness",
          "valence",
          "time_signature",
          "tempo",
          "danceability"
         ],
         "type": "scatterpolar"
        },
        {
         "fill": "none",
         "mode": "lines",
         "name": "jazz",
         "r": [
          0.5201740268081001,
          0.37018202794318217,
          0.4534053485186182,
          0.6811047126931966,
          0.6442899437809787,
          0.06386956026877581,
          0.6415431461172857,
          0.36954504939888894,
          0.22757504407704335,
          0.49896543361830936,
          0.7692957652772696,
          0.46339620959181,
          0.5201740268081001
         ],
         "theta": [
          "danceability",
          "energy",
          "key",
          "loudness",
          "mode",
          "speechiness",
          "acousticness",
          "instrumentalness",
          "liveness",
          "valence",
          "time_signature",
          "tempo",
          "danceability"
         ],
         "type": "scatterpolar"
        },
        {
         "fill": "none",
         "mode": "lines",
         "name": "folk",
         "r": [
          0.52598735135203,
          0.4243283073237281,
          0.4673682554759319,
          0.7345348202802076,
          0.7250524074135694,
          0.07515319698285097,
          0.6476192268835766,
          0.09432734547699065,
          0.23180779323195685,
          0.5845357834492397,
          0.7538615113299838,
          0.4789423032036849,
          0.52598735135203
         ],
         "theta": [
          "danceability",
          "energy",
          "key",
          "loudness",
          "mode",
          "speechiness",
          "acousticness",
          "instrumentalness",
          "liveness",
          "valence",
          "time_signature",
          "tempo",
          "danceability"
         ],
         "type": "scatterpolar"
        },
        {
         "fill": "none",
         "mode": "lines",
         "name": "punk",
         "r": [
          0.43698989143581723,
          0.7805567745128733,
          0.4903436007864432,
          0.7912774672980606,
          0.6811946446961895,
          0.08236135108221056,
          0.10864820256597968,
          0.1933694978661174,
          0.25912817301750773,
          0.5243158558187435,
          0.7874933058702369,
          0.5264279004200616,
          0.43698989143581723
         ],
         "theta": [
          "danceability",
          "energy",
          "key",
          "loudness",
          "mode",
          "speechiness",
          "acousticness",
          "instrumentalness",
          "liveness",
          "valence",
          "time_signature",
          "tempo",
          "danceability"
         ],
         "type": "scatterpolar"
        },
        {
         "fill": "none",
         "mode": "lines",
         "name": "metal",
         "r": [
          0.3835779010325768,
          0.8294969143455364,
          0.49746497395758227,
          0.7995591353700302,
          0.6199479728443626,
          0.08185796119829206,
          0.055227446073234,
          0.1923866505748366,
          0.2899599593934395,
          0.39912940803248526,
          0.7882494765560563,
          0.5109767989975771,
          0.3835779010325768
         ],
         "theta": [
          "danceability",
          "energy",
          "key",
          "loudness",
          "mode",
          "speechiness",
          "acousticness",
          "instrumentalness",
          "liveness",
          "valence",
          "time_signature",
          "tempo",
          "danceability"
         ],
         "type": "scatterpolar"
        },
        {
         "fill": "none",
         "mode": "lines",
         "name": "country",
         "r": [
          0.5739065559281112,
          0.46220270937861824,
          0.4658257604996316,
          0.7321042595934364,
          0.9042840602084138,
          0.05031638310404846,
          0.4476258379523497,
          0.02790041075775119,
          0.21859258973369355,
          0.5958693876238261,
          0.7717097645696644,
          0.48633452301040403,
          0.5739065559281112
         ],
         "theta": [
          "danceability",
          "energy",
          "key",
          "loudness",
          "mode",
          "speechiness",
          "acousticness",
          "instrumentalness",
          "liveness",
          "valence",
          "time_signature",
          "tempo",
          "danceability"
         ],
         "type": "scatterpolar"
        },
        {
         "fill": "none",
         "mode": "lines",
         "name": "french",
         "r": [
          0.4282134022049711,
          0.36027292797355276,
          0.472846208444436,
          0.6611889683631138,
          0.673911514384188,
          0.06010048934548733,
          0.6703407005760963,
          0.3319393501132447,
          0.21043321797847647,
          0.40897566293873533,
          0.7527889146796091,
          0.4569392791104253,
          0.4282134022049711
         ],
         "theta": [
          "danceability",
          "energy",
          "key",
          "loudness",
          "mode",
          "speechiness",
          "acousticness",
          "instrumentalness",
          "liveness",
          "valence",
          "time_signature",
          "tempo",
          "danceability"
         ],
         "type": "scatterpolar"
        }
       ],
       "layout": {
        "autosize": true,
        "polar": {
         "angularaxis": {
          "type": "category"
         },
         "radialaxis": {
          "autorange": true,
          "range": [
           0,
           0.9376704926603925
          ],
          "type": "linear"
         }
        },
        "template": {
         "data": {
          "bar": [
           {
            "error_x": {
             "color": "#2a3f5f"
            },
            "error_y": {
             "color": "#2a3f5f"
            },
            "marker": {
             "line": {
              "color": "#E5ECF6",
              "width": 0.5
             },
             "pattern": {
              "fillmode": "overlay",
              "size": 10,
              "solidity": 0.2
             }
            },
            "type": "bar"
           }
          ],
          "barpolar": [
           {
            "marker": {
             "line": {
              "color": "#E5ECF6",
              "width": 0.5
             },
             "pattern": {
              "fillmode": "overlay",
              "size": 10,
              "solidity": 0.2
             }
            },
            "type": "barpolar"
           }
          ],
          "carpet": [
           {
            "aaxis": {
             "endlinecolor": "#2a3f5f",
             "gridcolor": "white",
             "linecolor": "white",
             "minorgridcolor": "white",
             "startlinecolor": "#2a3f5f"
            },
            "baxis": {
             "endlinecolor": "#2a3f5f",
             "gridcolor": "white",
             "linecolor": "white",
             "minorgridcolor": "white",
             "startlinecolor": "#2a3f5f"
            },
            "type": "carpet"
           }
          ],
          "choropleth": [
           {
            "colorbar": {
             "outlinewidth": 0,
             "ticks": ""
            },
            "type": "choropleth"
           }
          ],
          "contour": [
           {
            "colorbar": {
             "outlinewidth": 0,
             "ticks": ""
            },
            "colorscale": [
             [
              0,
              "#0d0887"
             ],
             [
              0.1111111111111111,
              "#46039f"
             ],
             [
              0.2222222222222222,
              "#7201a8"
             ],
             [
              0.3333333333333333,
              "#9c179e"
             ],
             [
              0.4444444444444444,
              "#bd3786"
             ],
             [
              0.5555555555555556,
              "#d8576b"
             ],
             [
              0.6666666666666666,
              "#ed7953"
             ],
             [
              0.7777777777777778,
              "#fb9f3a"
             ],
             [
              0.8888888888888888,
              "#fdca26"
             ],
             [
              1,
              "#f0f921"
             ]
            ],
            "type": "contour"
           }
          ],
          "contourcarpet": [
           {
            "colorbar": {
             "outlinewidth": 0,
             "ticks": ""
            },
            "type": "contourcarpet"
           }
          ],
          "heatmap": [
           {
            "colorbar": {
             "outlinewidth": 0,
             "ticks": ""
            },
            "colorscale": [
             [
              0,
              "#0d0887"
             ],
             [
              0.1111111111111111,
              "#46039f"
             ],
             [
              0.2222222222222222,
              "#7201a8"
             ],
             [
              0.3333333333333333,
              "#9c179e"
             ],
             [
              0.4444444444444444,
              "#bd3786"
             ],
             [
              0.5555555555555556,
              "#d8576b"
             ],
             [
              0.6666666666666666,
              "#ed7953"
             ],
             [
              0.7777777777777778,
              "#fb9f3a"
             ],
             [
              0.8888888888888888,
              "#fdca26"
             ],
             [
              1,
              "#f0f921"
             ]
            ],
            "type": "heatmap"
           }
          ],
          "heatmapgl": [
           {
            "colorbar": {
             "outlinewidth": 0,
             "ticks": ""
            },
            "colorscale": [
             [
              0,
              "#0d0887"
             ],
             [
              0.1111111111111111,
              "#46039f"
             ],
             [
              0.2222222222222222,
              "#7201a8"
             ],
             [
              0.3333333333333333,
              "#9c179e"
             ],
             [
              0.4444444444444444,
              "#bd3786"
             ],
             [
              0.5555555555555556,
              "#d8576b"
             ],
             [
              0.6666666666666666,
              "#ed7953"
             ],
             [
              0.7777777777777778,
              "#fb9f3a"
             ],
             [
              0.8888888888888888,
              "#fdca26"
             ],
             [
              1,
              "#f0f921"
             ]
            ],
            "type": "heatmapgl"
           }
          ],
          "histogram": [
           {
            "marker": {
             "pattern": {
              "fillmode": "overlay",
              "size": 10,
              "solidity": 0.2
             }
            },
            "type": "histogram"
           }
          ],
          "histogram2d": [
           {
            "colorbar": {
             "outlinewidth": 0,
             "ticks": ""
            },
            "colorscale": [
             [
              0,
              "#0d0887"
             ],
             [
              0.1111111111111111,
              "#46039f"
             ],
             [
              0.2222222222222222,
              "#7201a8"
             ],
             [
              0.3333333333333333,
              "#9c179e"
             ],
             [
              0.4444444444444444,
              "#bd3786"
             ],
             [
              0.5555555555555556,
              "#d8576b"
             ],
             [
              0.6666666666666666,
              "#ed7953"
             ],
             [
              0.7777777777777778,
              "#fb9f3a"
             ],
             [
              0.8888888888888888,
              "#fdca26"
             ],
             [
              1,
              "#f0f921"
             ]
            ],
            "type": "histogram2d"
           }
          ],
          "histogram2dcontour": [
           {
            "colorbar": {
             "outlinewidth": 0,
             "ticks": ""
            },
            "colorscale": [
             [
              0,
              "#0d0887"
             ],
             [
              0.1111111111111111,
              "#46039f"
             ],
             [
              0.2222222222222222,
              "#7201a8"
             ],
             [
              0.3333333333333333,
              "#9c179e"
             ],
             [
              0.4444444444444444,
              "#bd3786"
             ],
             [
              0.5555555555555556,
              "#d8576b"
             ],
             [
              0.6666666666666666,
              "#ed7953"
             ],
             [
              0.7777777777777778,
              "#fb9f3a"
             ],
             [
              0.8888888888888888,
              "#fdca26"
             ],
             [
              1,
              "#f0f921"
             ]
            ],
            "type": "histogram2dcontour"
           }
          ],
          "mesh3d": [
           {
            "colorbar": {
             "outlinewidth": 0,
             "ticks": ""
            },
            "type": "mesh3d"
           }
          ],
          "parcoords": [
           {
            "line": {
             "colorbar": {
              "outlinewidth": 0,
              "ticks": ""
             }
            },
            "type": "parcoords"
           }
          ],
          "pie": [
           {
            "automargin": true,
            "type": "pie"
           }
          ],
          "scatter": [
           {
            "fillpattern": {
             "fillmode": "overlay",
             "size": 10,
             "solidity": 0.2
            },
            "type": "scatter"
           }
          ],
          "scatter3d": [
           {
            "line": {
             "colorbar": {
              "outlinewidth": 0,
              "ticks": ""
             }
            },
            "marker": {
             "colorbar": {
              "outlinewidth": 0,
              "ticks": ""
             }
            },
            "type": "scatter3d"
           }
          ],
          "scattercarpet": [
           {
            "marker": {
             "colorbar": {
              "outlinewidth": 0,
              "ticks": ""
             }
            },
            "type": "scattercarpet"
           }
          ],
          "scattergeo": [
           {
            "marker": {
             "colorbar": {
              "outlinewidth": 0,
              "ticks": ""
             }
            },
            "type": "scattergeo"
           }
          ],
          "scattergl": [
           {
            "marker": {
             "colorbar": {
              "outlinewidth": 0,
              "ticks": ""
             }
            },
            "type": "scattergl"
           }
          ],
          "scattermapbox": [
           {
            "marker": {
             "colorbar": {
              "outlinewidth": 0,
              "ticks": ""
             }
            },
            "type": "scattermapbox"
           }
          ],
          "scatterpolar": [
           {
            "marker": {
             "colorbar": {
              "outlinewidth": 0,
              "ticks": ""
             }
            },
            "type": "scatterpolar"
           }
          ],
          "scatterpolargl": [
           {
            "marker": {
             "colorbar": {
              "outlinewidth": 0,
              "ticks": ""
             }
            },
            "type": "scatterpolargl"
           }
          ],
          "scatterternary": [
           {
            "marker": {
             "colorbar": {
              "outlinewidth": 0,
              "ticks": ""
             }
            },
            "type": "scatterternary"
           }
          ],
          "surface": [
           {
            "colorbar": {
             "outlinewidth": 0,
             "ticks": ""
            },
            "colorscale": [
             [
              0,
              "#0d0887"
             ],
             [
              0.1111111111111111,
              "#46039f"
             ],
             [
              0.2222222222222222,
              "#7201a8"
             ],
             [
              0.3333333333333333,
              "#9c179e"
             ],
             [
              0.4444444444444444,
              "#bd3786"
             ],
             [
              0.5555555555555556,
              "#d8576b"
             ],
             [
              0.6666666666666666,
              "#ed7953"
             ],
             [
              0.7777777777777778,
              "#fb9f3a"
             ],
             [
              0.8888888888888888,
              "#fdca26"
             ],
             [
              1,
              "#f0f921"
             ]
            ],
            "type": "surface"
           }
          ],
          "table": [
           {
            "cells": {
             "fill": {
              "color": "#EBF0F8"
             },
             "line": {
              "color": "white"
             }
            },
            "header": {
             "fill": {
              "color": "#C8D4E3"
             },
             "line": {
              "color": "white"
             }
            },
            "type": "table"
           }
          ]
         },
         "layout": {
          "annotationdefaults": {
           "arrowcolor": "#2a3f5f",
           "arrowhead": 0,
           "arrowwidth": 1
          },
          "autotypenumbers": "strict",
          "coloraxis": {
           "colorbar": {
            "outlinewidth": 0,
            "ticks": ""
           }
          },
          "colorscale": {
           "diverging": [
            [
             0,
             "#8e0152"
            ],
            [
             0.1,
             "#c51b7d"
            ],
            [
             0.2,
             "#de77ae"
            ],
            [
             0.3,
             "#f1b6da"
            ],
            [
             0.4,
             "#fde0ef"
            ],
            [
             0.5,
             "#f7f7f7"
            ],
            [
             0.6,
             "#e6f5d0"
            ],
            [
             0.7,
             "#b8e186"
            ],
            [
             0.8,
             "#7fbc41"
            ],
            [
             0.9,
             "#4d9221"
            ],
            [
             1,
             "#276419"
            ]
           ],
           "sequential": [
            [
             0,
             "#0d0887"
            ],
            [
             0.1111111111111111,
             "#46039f"
            ],
            [
             0.2222222222222222,
             "#7201a8"
            ],
            [
             0.3333333333333333,
             "#9c179e"
            ],
            [
             0.4444444444444444,
             "#bd3786"
            ],
            [
             0.5555555555555556,
             "#d8576b"
            ],
            [
             0.6666666666666666,
             "#ed7953"
            ],
            [
             0.7777777777777778,
             "#fb9f3a"
            ],
            [
             0.8888888888888888,
             "#fdca26"
            ],
            [
             1,
             "#f0f921"
            ]
           ],
           "sequentialminus": [
            [
             0,
             "#0d0887"
            ],
            [
             0.1111111111111111,
             "#46039f"
            ],
            [
             0.2222222222222222,
             "#7201a8"
            ],
            [
             0.3333333333333333,
             "#9c179e"
            ],
            [
             0.4444444444444444,
             "#bd3786"
            ],
            [
             0.5555555555555556,
             "#d8576b"
            ],
            [
             0.6666666666666666,
             "#ed7953"
            ],
            [
             0.7777777777777778,
             "#fb9f3a"
            ],
            [
             0.8888888888888888,
             "#fdca26"
            ],
            [
             1,
             "#f0f921"
            ]
           ]
          },
          "colorway": [
           "#636efa",
           "#EF553B",
           "#00cc96",
           "#ab63fa",
           "#FFA15A",
           "#19d3f3",
           "#FF6692",
           "#B6E880",
           "#FF97FF",
           "#FECB52"
          ],
          "font": {
           "color": "#2a3f5f"
          },
          "geo": {
           "bgcolor": "white",
           "lakecolor": "white",
           "landcolor": "#E5ECF6",
           "showlakes": true,
           "showland": true,
           "subunitcolor": "white"
          },
          "hoverlabel": {
           "align": "left"
          },
          "hovermode": "closest",
          "mapbox": {
           "style": "light"
          },
          "paper_bgcolor": "white",
          "plot_bgcolor": "#E5ECF6",
          "polar": {
           "angularaxis": {
            "gridcolor": "white",
            "linecolor": "white",
            "ticks": ""
           },
           "bgcolor": "#E5ECF6",
           "radialaxis": {
            "gridcolor": "white",
            "linecolor": "white",
            "ticks": ""
           }
          },
          "scene": {
           "xaxis": {
            "backgroundcolor": "#E5ECF6",
            "gridcolor": "white",
            "gridwidth": 2,
            "linecolor": "white",
            "showbackground": true,
            "ticks": "",
            "zerolinecolor": "white"
           },
           "yaxis": {
            "backgroundcolor": "#E5ECF6",
            "gridcolor": "white",
            "gridwidth": 2,
            "linecolor": "white",
            "showbackground": true,
            "ticks": "",
            "zerolinecolor": "white"
           },
           "zaxis": {
            "backgroundcolor": "#E5ECF6",
            "gridcolor": "white",
            "gridwidth": 2,
            "linecolor": "white",
            "showbackground": true,
            "ticks": "",
            "zerolinecolor": "white"
           }
          },
          "shapedefaults": {
           "line": {
            "color": "#2a3f5f"
           }
          },
          "ternary": {
           "aaxis": {
            "gridcolor": "white",
            "linecolor": "white",
            "ticks": ""
           },
           "baxis": {
            "gridcolor": "white",
            "linecolor": "white",
            "ticks": ""
           },
           "bgcolor": "#E5ECF6",
           "caxis": {
            "gridcolor": "white",
            "linecolor": "white",
            "ticks": ""
           }
          },
          "title": {
           "x": 0.05
          },
          "xaxis": {
           "automargin": true,
           "gridcolor": "white",
           "linecolor": "white",
           "ticks": "",
           "title": {
            "standoff": 15
           },
           "zerolinecolor": "white",
           "zerolinewidth": 2
          },
          "yaxis": {
           "automargin": true,
           "gridcolor": "white",
           "linecolor": "white",
           "ticks": "",
           "title": {
            "standoff": 15
           },
           "zerolinecolor": "white",
           "zerolinewidth": 2
          }
         }
        }
       }
      },
      "text/html": [
       "<div>                            <div id=\"0b32fea1-c7c0-423b-b87f-e9e9b310d8e7\" class=\"plotly-graph-div\" style=\"height:800px; width:100%;\"></div>            <script type=\"text/javascript\">                require([\"plotly\"], function(Plotly) {                    window.PLOTLYENV=window.PLOTLYENV || {};                                    if (document.getElementById(\"0b32fea1-c7c0-423b-b87f-e9e9b310d8e7\")) {                    Plotly.newPlot(                        \"0b32fea1-c7c0-423b-b87f-e9e9b310d8e7\",                        [{\"fill\":\"none\",\"mode\":\"lines\",\"name\":\"pop\",\"r\":[0.5592196495194354,0.5477276334938785,0.46939027022723834,0.7658286278958996,0.6873158080867617,0.05939720610747157,0.4572561851291087,0.04975360238384332,0.2233918203634159,0.5991417473602668,0.7734864687357911,0.4897787640897645,0.5592196495194354],\"theta\":[\"danceability\",\"energy\",\"key\",\"loudness\",\"mode\",\"speechiness\",\"acousticness\",\"instrumentalness\",\"liveness\",\"valence\",\"time_signature\",\"tempo\",\"danceability\"],\"type\":\"scatterpolar\"},{\"fill\":\"none\",\"mode\":\"lines\",\"name\":\"rock\",\"r\":[0.5304254204090675,0.6377964199712568,0.4784188292678206,0.7669158582926038,0.709245755043381,0.06590877087945904,0.2609993978050917,0.09839999770990579,0.25108964773513603,0.569256270825571,0.7839442167456222,0.5044174487284168,0.5304254204090675],\"theta\":[\"danceability\",\"energy\",\"key\",\"loudness\",\"mode\",\"speechiness\",\"acousticness\",\"instrumentalness\",\"liveness\",\"valence\",\"time_signature\",\"tempo\",\"danceability\"],\"type\":\"scatterpolar\"},{\"fill\":\"none\",\"mode\":\"lines\",\"name\":\"classical\",\"r\":[0.3262549121936184,0.1423362948818729,0.4592060650077483,0.5660608127930762,0.698562395864485,0.05829071515478698,0.9376704926603925,0.496038065529222,0.1695276370316572,0.25701132780792074,0.7355598752509934,0.42547831594428515,0.3262549121936184],\"theta\":[\"danceability\",\"energy\",\"key\",\"loudness\",\"mode\",\"speechiness\",\"acousticness\",\"instrumentalness\",\"liveness\",\"valence\",\"time_signature\",\"tempo\",\"danceability\"],\"type\":\"scatterpolar\"},{\"fill\":\"none\",\"mode\":\"lines\",\"name\":\"german\",\"r\":[0.3641761171553261,0.23009223514780675,0.4663714384788766,0.5998642877960478,0.6763350286077559,0.0731872313918238,0.8241338772862695,0.41592269127569403,0.1864142667938123,0.34233802712439076,0.7430546726001274,0.4362229732794592,0.3641761171553261],\"theta\":[\"danceability\",\"energy\",\"key\",\"loudness\",\"mode\",\"speechiness\",\"acousticness\",\"instrumentalness\",\"liveness\",\"valence\",\"time_signature\",\"tempo\",\"danceability\"],\"type\":\"scatterpolar\"},{\"fill\":\"none\",\"mode\":\"lines\",\"name\":\"jazz\",\"r\":[0.5201740268081001,0.37018202794318217,0.4534053485186182,0.6811047126931966,0.6442899437809787,0.06386956026877581,0.6415431461172857,0.36954504939888894,0.22757504407704335,0.49896543361830936,0.7692957652772696,0.46339620959181,0.5201740268081001],\"theta\":[\"danceability\",\"energy\",\"key\",\"loudness\",\"mode\",\"speechiness\",\"acousticness\",\"instrumentalness\",\"liveness\",\"valence\",\"time_signature\",\"tempo\",\"danceability\"],\"type\":\"scatterpolar\"},{\"fill\":\"none\",\"mode\":\"lines\",\"name\":\"folk\",\"r\":[0.52598735135203,0.4243283073237281,0.4673682554759319,0.7345348202802076,0.7250524074135694,0.07515319698285097,0.6476192268835766,0.09432734547699065,0.23180779323195685,0.5845357834492397,0.7538615113299838,0.4789423032036849,0.52598735135203],\"theta\":[\"danceability\",\"energy\",\"key\",\"loudness\",\"mode\",\"speechiness\",\"acousticness\",\"instrumentalness\",\"liveness\",\"valence\",\"time_signature\",\"tempo\",\"danceability\"],\"type\":\"scatterpolar\"},{\"fill\":\"none\",\"mode\":\"lines\",\"name\":\"punk\",\"r\":[0.43698989143581723,0.7805567745128733,0.4903436007864432,0.7912774672980606,0.6811946446961895,0.08236135108221056,0.10864820256597968,0.1933694978661174,0.25912817301750773,0.5243158558187435,0.7874933058702369,0.5264279004200616,0.43698989143581723],\"theta\":[\"danceability\",\"energy\",\"key\",\"loudness\",\"mode\",\"speechiness\",\"acousticness\",\"instrumentalness\",\"liveness\",\"valence\",\"time_signature\",\"tempo\",\"danceability\"],\"type\":\"scatterpolar\"},{\"fill\":\"none\",\"mode\":\"lines\",\"name\":\"metal\",\"r\":[0.3835779010325768,0.8294969143455364,0.49746497395758227,0.7995591353700302,0.6199479728443626,0.08185796119829206,0.055227446073234,0.1923866505748366,0.2899599593934395,0.39912940803248526,0.7882494765560563,0.5109767989975771,0.3835779010325768],\"theta\":[\"danceability\",\"energy\",\"key\",\"loudness\",\"mode\",\"speechiness\",\"acousticness\",\"instrumentalness\",\"liveness\",\"valence\",\"time_signature\",\"tempo\",\"danceability\"],\"type\":\"scatterpolar\"},{\"fill\":\"none\",\"mode\":\"lines\",\"name\":\"country\",\"r\":[0.5739065559281112,0.46220270937861824,0.4658257604996316,0.7321042595934364,0.9042840602084138,0.05031638310404846,0.4476258379523497,0.02790041075775119,0.21859258973369355,0.5958693876238261,0.7717097645696644,0.48633452301040403,0.5739065559281112],\"theta\":[\"danceability\",\"energy\",\"key\",\"loudness\",\"mode\",\"speechiness\",\"acousticness\",\"instrumentalness\",\"liveness\",\"valence\",\"time_signature\",\"tempo\",\"danceability\"],\"type\":\"scatterpolar\"},{\"fill\":\"none\",\"mode\":\"lines\",\"name\":\"french\",\"r\":[0.4282134022049711,0.36027292797355276,0.472846208444436,0.6611889683631138,0.673911514384188,0.06010048934548733,0.6703407005760963,0.3319393501132447,0.21043321797847647,0.40897566293873533,0.7527889146796091,0.4569392791104253,0.4282134022049711],\"theta\":[\"danceability\",\"energy\",\"key\",\"loudness\",\"mode\",\"speechiness\",\"acousticness\",\"instrumentalness\",\"liveness\",\"valence\",\"time_signature\",\"tempo\",\"danceability\"],\"type\":\"scatterpolar\"}],                        {\"template\":{\"data\":{\"histogram2dcontour\":[{\"type\":\"histogram2dcontour\",\"colorbar\":{\"outlinewidth\":0,\"ticks\":\"\"},\"colorscale\":[[0.0,\"#0d0887\"],[0.1111111111111111,\"#46039f\"],[0.2222222222222222,\"#7201a8\"],[0.3333333333333333,\"#9c179e\"],[0.4444444444444444,\"#bd3786\"],[0.5555555555555556,\"#d8576b\"],[0.6666666666666666,\"#ed7953\"],[0.7777777777777778,\"#fb9f3a\"],[0.8888888888888888,\"#fdca26\"],[1.0,\"#f0f921\"]]}],\"choropleth\":[{\"type\":\"choropleth\",\"colorbar\":{\"outlinewidth\":0,\"ticks\":\"\"}}],\"histogram2d\":[{\"type\":\"histogram2d\",\"colorbar\":{\"outlinewidth\":0,\"ticks\":\"\"},\"colorscale\":[[0.0,\"#0d0887\"],[0.1111111111111111,\"#46039f\"],[0.2222222222222222,\"#7201a8\"],[0.3333333333333333,\"#9c179e\"],[0.4444444444444444,\"#bd3786\"],[0.5555555555555556,\"#d8576b\"],[0.6666666666666666,\"#ed7953\"],[0.7777777777777778,\"#fb9f3a\"],[0.8888888888888888,\"#fdca26\"],[1.0,\"#f0f921\"]]}],\"heatmap\":[{\"type\":\"heatmap\",\"colorbar\":{\"outlinewidth\":0,\"ticks\":\"\"},\"colorscale\":[[0.0,\"#0d0887\"],[0.1111111111111111,\"#46039f\"],[0.2222222222222222,\"#7201a8\"],[0.3333333333333333,\"#9c179e\"],[0.4444444444444444,\"#bd3786\"],[0.5555555555555556,\"#d8576b\"],[0.6666666666666666,\"#ed7953\"],[0.7777777777777778,\"#fb9f3a\"],[0.8888888888888888,\"#fdca26\"],[1.0,\"#f0f921\"]]}],\"heatmapgl\":[{\"type\":\"heatmapgl\",\"colorbar\":{\"outlinewidth\":0,\"ticks\":\"\"},\"colorscale\":[[0.0,\"#0d0887\"],[0.1111111111111111,\"#46039f\"],[0.2222222222222222,\"#7201a8\"],[0.3333333333333333,\"#9c179e\"],[0.4444444444444444,\"#bd3786\"],[0.5555555555555556,\"#d8576b\"],[0.6666666666666666,\"#ed7953\"],[0.7777777777777778,\"#fb9f3a\"],[0.8888888888888888,\"#fdca26\"],[1.0,\"#f0f921\"]]}],\"contourcarpet\":[{\"type\":\"contourcarpet\",\"colorbar\":{\"outlinewidth\":0,\"ticks\":\"\"}}],\"contour\":[{\"type\":\"contour\",\"colorbar\":{\"outlinewidth\":0,\"ticks\":\"\"},\"colorscale\":[[0.0,\"#0d0887\"],[0.1111111111111111,\"#46039f\"],[0.2222222222222222,\"#7201a8\"],[0.3333333333333333,\"#9c179e\"],[0.4444444444444444,\"#bd3786\"],[0.5555555555555556,\"#d8576b\"],[0.6666666666666666,\"#ed7953\"],[0.7777777777777778,\"#fb9f3a\"],[0.8888888888888888,\"#fdca26\"],[1.0,\"#f0f921\"]]}],\"surface\":[{\"type\":\"surface\",\"colorbar\":{\"outlinewidth\":0,\"ticks\":\"\"},\"colorscale\":[[0.0,\"#0d0887\"],[0.1111111111111111,\"#46039f\"],[0.2222222222222222,\"#7201a8\"],[0.3333333333333333,\"#9c179e\"],[0.4444444444444444,\"#bd3786\"],[0.5555555555555556,\"#d8576b\"],[0.6666666666666666,\"#ed7953\"],[0.7777777777777778,\"#fb9f3a\"],[0.8888888888888888,\"#fdca26\"],[1.0,\"#f0f921\"]]}],\"mesh3d\":[{\"type\":\"mesh3d\",\"colorbar\":{\"outlinewidth\":0,\"ticks\":\"\"}}],\"scatter\":[{\"fillpattern\":{\"fillmode\":\"overlay\",\"size\":10,\"solidity\":0.2},\"type\":\"scatter\"}],\"parcoords\":[{\"type\":\"parcoords\",\"line\":{\"colorbar\":{\"outlinewidth\":0,\"ticks\":\"\"}}}],\"scatterpolargl\":[{\"type\":\"scatterpolargl\",\"marker\":{\"colorbar\":{\"outlinewidth\":0,\"ticks\":\"\"}}}],\"bar\":[{\"error_x\":{\"color\":\"#2a3f5f\"},\"error_y\":{\"color\":\"#2a3f5f\"},\"marker\":{\"line\":{\"color\":\"#E5ECF6\",\"width\":0.5},\"pattern\":{\"fillmode\":\"overlay\",\"size\":10,\"solidity\":0.2}},\"type\":\"bar\"}],\"scattergeo\":[{\"type\":\"scattergeo\",\"marker\":{\"colorbar\":{\"outlinewidth\":0,\"ticks\":\"\"}}}],\"scatterpolar\":[{\"type\":\"scatterpolar\",\"marker\":{\"colorbar\":{\"outlinewidth\":0,\"ticks\":\"\"}}}],\"histogram\":[{\"marker\":{\"pattern\":{\"fillmode\":\"overlay\",\"size\":10,\"solidity\":0.2}},\"type\":\"histogram\"}],\"scattergl\":[{\"type\":\"scattergl\",\"marker\":{\"colorbar\":{\"outlinewidth\":0,\"ticks\":\"\"}}}],\"scatter3d\":[{\"type\":\"scatter3d\",\"line\":{\"colorbar\":{\"outlinewidth\":0,\"ticks\":\"\"}},\"marker\":{\"colorbar\":{\"outlinewidth\":0,\"ticks\":\"\"}}}],\"scattermapbox\":[{\"type\":\"scattermapbox\",\"marker\":{\"colorbar\":{\"outlinewidth\":0,\"ticks\":\"\"}}}],\"scatterternary\":[{\"type\":\"scatterternary\",\"marker\":{\"colorbar\":{\"outlinewidth\":0,\"ticks\":\"\"}}}],\"scattercarpet\":[{\"type\":\"scattercarpet\",\"marker\":{\"colorbar\":{\"outlinewidth\":0,\"ticks\":\"\"}}}],\"carpet\":[{\"aaxis\":{\"endlinecolor\":\"#2a3f5f\",\"gridcolor\":\"white\",\"linecolor\":\"white\",\"minorgridcolor\":\"white\",\"startlinecolor\":\"#2a3f5f\"},\"baxis\":{\"endlinecolor\":\"#2a3f5f\",\"gridcolor\":\"white\",\"linecolor\":\"white\",\"minorgridcolor\":\"white\",\"startlinecolor\":\"#2a3f5f\"},\"type\":\"carpet\"}],\"table\":[{\"cells\":{\"fill\":{\"color\":\"#EBF0F8\"},\"line\":{\"color\":\"white\"}},\"header\":{\"fill\":{\"color\":\"#C8D4E3\"},\"line\":{\"color\":\"white\"}},\"type\":\"table\"}],\"barpolar\":[{\"marker\":{\"line\":{\"color\":\"#E5ECF6\",\"width\":0.5},\"pattern\":{\"fillmode\":\"overlay\",\"size\":10,\"solidity\":0.2}},\"type\":\"barpolar\"}],\"pie\":[{\"automargin\":true,\"type\":\"pie\"}]},\"layout\":{\"autotypenumbers\":\"strict\",\"colorway\":[\"#636efa\",\"#EF553B\",\"#00cc96\",\"#ab63fa\",\"#FFA15A\",\"#19d3f3\",\"#FF6692\",\"#B6E880\",\"#FF97FF\",\"#FECB52\"],\"font\":{\"color\":\"#2a3f5f\"},\"hovermode\":\"closest\",\"hoverlabel\":{\"align\":\"left\"},\"paper_bgcolor\":\"white\",\"plot_bgcolor\":\"#E5ECF6\",\"polar\":{\"bgcolor\":\"#E5ECF6\",\"angularaxis\":{\"gridcolor\":\"white\",\"linecolor\":\"white\",\"ticks\":\"\"},\"radialaxis\":{\"gridcolor\":\"white\",\"linecolor\":\"white\",\"ticks\":\"\"}},\"ternary\":{\"bgcolor\":\"#E5ECF6\",\"aaxis\":{\"gridcolor\":\"white\",\"linecolor\":\"white\",\"ticks\":\"\"},\"baxis\":{\"gridcolor\":\"white\",\"linecolor\":\"white\",\"ticks\":\"\"},\"caxis\":{\"gridcolor\":\"white\",\"linecolor\":\"white\",\"ticks\":\"\"}},\"coloraxis\":{\"colorbar\":{\"outlinewidth\":0,\"ticks\":\"\"}},\"colorscale\":{\"sequential\":[[0.0,\"#0d0887\"],[0.1111111111111111,\"#46039f\"],[0.2222222222222222,\"#7201a8\"],[0.3333333333333333,\"#9c179e\"],[0.4444444444444444,\"#bd3786\"],[0.5555555555555556,\"#d8576b\"],[0.6666666666666666,\"#ed7953\"],[0.7777777777777778,\"#fb9f3a\"],[0.8888888888888888,\"#fdca26\"],[1.0,\"#f0f921\"]],\"sequentialminus\":[[0.0,\"#0d0887\"],[0.1111111111111111,\"#46039f\"],[0.2222222222222222,\"#7201a8\"],[0.3333333333333333,\"#9c179e\"],[0.4444444444444444,\"#bd3786\"],[0.5555555555555556,\"#d8576b\"],[0.6666666666666666,\"#ed7953\"],[0.7777777777777778,\"#fb9f3a\"],[0.8888888888888888,\"#fdca26\"],[1.0,\"#f0f921\"]],\"diverging\":[[0,\"#8e0152\"],[0.1,\"#c51b7d\"],[0.2,\"#de77ae\"],[0.3,\"#f1b6da\"],[0.4,\"#fde0ef\"],[0.5,\"#f7f7f7\"],[0.6,\"#e6f5d0\"],[0.7,\"#b8e186\"],[0.8,\"#7fbc41\"],[0.9,\"#4d9221\"],[1,\"#276419\"]]},\"xaxis\":{\"gridcolor\":\"white\",\"linecolor\":\"white\",\"ticks\":\"\",\"title\":{\"standoff\":15},\"zerolinecolor\":\"white\",\"automargin\":true,\"zerolinewidth\":2},\"yaxis\":{\"gridcolor\":\"white\",\"linecolor\":\"white\",\"ticks\":\"\",\"title\":{\"standoff\":15},\"zerolinecolor\":\"white\",\"automargin\":true,\"zerolinewidth\":2},\"scene\":{\"xaxis\":{\"backgroundcolor\":\"#E5ECF6\",\"gridcolor\":\"white\",\"linecolor\":\"white\",\"showbackground\":true,\"ticks\":\"\",\"zerolinecolor\":\"white\",\"gridwidth\":2},\"yaxis\":{\"backgroundcolor\":\"#E5ECF6\",\"gridcolor\":\"white\",\"linecolor\":\"white\",\"showbackground\":true,\"ticks\":\"\",\"zerolinecolor\":\"white\",\"gridwidth\":2},\"zaxis\":{\"backgroundcolor\":\"#E5ECF6\",\"gridcolor\":\"white\",\"linecolor\":\"white\",\"showbackground\":true,\"ticks\":\"\",\"zerolinecolor\":\"white\",\"gridwidth\":2}},\"shapedefaults\":{\"line\":{\"color\":\"#2a3f5f\"}},\"annotationdefaults\":{\"arrowcolor\":\"#2a3f5f\",\"arrowhead\":0,\"arrowwidth\":1},\"geo\":{\"bgcolor\":\"white\",\"landcolor\":\"#E5ECF6\",\"subunitcolor\":\"white\",\"showland\":true,\"showlakes\":true,\"lakecolor\":\"white\"},\"title\":{\"x\":0.05},\"mapbox\":{\"style\":\"light\"}}},\"height\":800},                        {\"responsive\": true}                    ).then(function(){\n",
       "                            \n",
       "var gd = document.getElementById('0b32fea1-c7c0-423b-b87f-e9e9b310d8e7');\n",
       "var x = new MutationObserver(function (mutations, observer) {{\n",
       "        var display = window.getComputedStyle(gd).display;\n",
       "        if (!display || display === 'none') {{\n",
       "            console.log([gd, 'removed!']);\n",
       "            Plotly.purge(gd);\n",
       "            observer.disconnect();\n",
       "        }}\n",
       "}});\n",
       "\n",
       "// Listen for the removal of the full notebook cells\n",
       "var notebookContainer = gd.closest('#notebook-container');\n",
       "if (notebookContainer) {{\n",
       "    x.observe(notebookContainer, {childList: true});\n",
       "}}\n",
       "\n",
       "// Listen for the clearing of the current output cell\n",
       "var outputEl = gd.closest('.output');\n",
       "if (outputEl) {{\n",
       "    x.observe(outputEl, {childList: true});\n",
       "}}\n",
       "\n",
       "                        })                };                });            </script>        </div>"
      ]
     },
     "metadata": {},
     "output_type": "display_data"
    }
   ],
   "source": [
    "fig.update_layout(\n",
    "    height = 800\n",
    ")\n",
    "fig.show()"
   ]
  }
 ],
 "metadata": {
  "kernelspec": {
   "display_name": "application-project",
   "language": "python",
   "name": "python3"
  },
  "language_info": {
   "codemirror_mode": {
    "name": "ipython",
    "version": 3
   },
   "file_extension": ".py",
   "mimetype": "text/x-python",
   "name": "python",
   "nbconvert_exporter": "python",
   "pygments_lexer": "ipython3",
   "version": "3.10.11"
  }
 },
 "nbformat": 4,
 "nbformat_minor": 4
}
