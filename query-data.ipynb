{
 "cells": [
  {
   "attachments": {},
   "cell_type": "markdown",
   "metadata": {},
   "source": [
    "## Imports"
   ]
  },
  {
   "cell_type": "code",
   "execution_count": 1,
   "metadata": {},
   "outputs": [],
   "source": [
    "import spotipy\n",
    "from spotipy.oauth2 import SpotifyClientCredentials\n",
    "import pandas as pd\n",
    "import requests\n",
    "import json\n",
    "import musicbrainzngs\n",
    "import sqlalchemy\n",
    "from sqlalchemy import text\n",
    "from dotenv import load_dotenv\n",
    "import os\n",
    "from numpy import NaN\n",
    "import time"
   ]
  },
  {
   "attachments": {},
   "cell_type": "markdown",
   "metadata": {},
   "source": [
    "## Inital setup\n",
    "- load env variables\n",
    "- create connection to the sql database\n",
    "- create a spotify API client"
   ]
  },
  {
   "cell_type": "code",
   "execution_count": 2,
   "metadata": {},
   "outputs": [],
   "source": [
    "musicbrainzngs.set_useragent('application-project', '0.0.1')"
   ]
  },
  {
   "cell_type": "code",
   "execution_count": 3,
   "metadata": {},
   "outputs": [],
   "source": [
    "load_dotenv()\n",
    "# token = os.environ.get(\"ENV_VARIABLE\")\n",
    "\n",
    "SPOTIFY_CLIENT_ID = os.environ.get(\"SPOTIFY_CLIENT_ID\")\n",
    "SPOTIFY_CLIENT_SECRET = os.environ.get(\"SPOTIFY_CLIENT_SECRET\")\n",
    "LAST_FM_API_KEY = os.environ.get(\"LAST_FM_API\")\n",
    "\n",
    "SQL_USERNAME = os.environ.get('SQL_USERNAME')\n",
    "SQL_PASSWORD = os.environ.get('SQL_PASSWORD')\n",
    "SQL_SCHEMA=os.environ.get('SQL_SCHEMA')\n",
    "SQL_TABLE=os.environ.get('SQL_TABLE')\n",
    "SQL_DIALECT = os.environ.get('SQL_DIALECT')\n",
    "SQL_DIRVER = os.environ.get('SQL_DRIVER')\n",
    "SQL_HOST = os.environ.get('SQL_HOST')\n",
    "SQL_PORT = os.environ.get('SQL_PORT')"
   ]
  },
  {
   "cell_type": "code",
   "execution_count": 4,
   "metadata": {},
   "outputs": [],
   "source": [
    "engine = sqlalchemy.create_engine(f'{SQL_DIALECT}+{SQL_DIRVER}://{SQL_USERNAME}:{SQL_PASSWORD}@{SQL_HOST}:{SQL_PORT}')\n",
    "with engine.connect() as connection:\n",
    "    connection.execute(text('Create database if not exists eighties'))"
   ]
  },
  {
   "cell_type": "code",
   "execution_count": 5,
   "metadata": {},
   "outputs": [],
   "source": [
    "client_credentials_manager = SpotifyClientCredentials(client_id=SPOTIFY_CLIENT_ID, client_secret=SPOTIFY_CLIENT_SECRET)\n",
    "sp = spotipy.Spotify(client_credentials_manager=client_credentials_manager)"
   ]
  },
  {
   "cell_type": "code",
   "execution_count": 6,
   "metadata": {},
   "outputs": [],
   "source": [
    "chart_power_df = pd.read_excel('chart-power-scores_80s.xlsx')\n",
    "chart_power_df = chart_power_df.applymap(lambda s: s.lower() if type(s) == str else s)"
   ]
  },
  {
   "cell_type": "code",
   "execution_count": 7,
   "metadata": {},
   "outputs": [],
   "source": [
    "chart_power_df = chart_power_df[['Song', 'Artist', 'Points']].groupby(['Song', 'Artist']).sum()\n",
    "chart_power_df.reset_index(inplace=True)"
   ]
  },
  {
   "cell_type": "code",
   "execution_count": 8,
   "metadata": {},
   "outputs": [
    {
     "data": {
      "text/plain": [
       "(1894, 3)"
      ]
     },
     "execution_count": 8,
     "metadata": {},
     "output_type": "execute_result"
    }
   ],
   "source": [
    "chart_power_df.shape"
   ]
  },
  {
   "attachments": {},
   "cell_type": "markdown",
   "metadata": {},
   "source": [
    "## Functions"
   ]
  },
  {
   "cell_type": "code",
   "execution_count": 9,
   "metadata": {},
   "outputs": [],
   "source": [
    "def get_genres(isrc, api_key=LAST_FM_API_KEY):\n",
    "    '''\n",
    "    Retrives the genres of a song via the Last FM API.\n",
    "\n",
    "    First the isrc number is used to retrieve the musicbrainz id via the musicbraniz API. \n",
    "    This is used to retrive the genres later on from the Last FM API.\n",
    "\n",
    "    Parameter\n",
    "    ---------\n",
    "    isrc: string\n",
    "        ISRC number of the song\n",
    "\n",
    "    api_key: string\n",
    "        API key for the Last FM API\n",
    "\n",
    "    Return\n",
    "    ------\n",
    "    genre_list: string\n",
    "        string that contains the genres in a list\n",
    "    '''\n",
    "    # print(f'Get genre for isrc: {isrc}')\n",
    "    genre_list = ''\n",
    "    try:\n",
    "        # Use musicbrainz to get the musicbraniz id (https://musicbrainz.org/doc/MusicBrainz_API)\n",
    "        recordings = musicbrainzngs.get_recordings_by_isrc(isrc)\n",
    "        isrcs = recordings['isrc'] if 'isrc' in recordings else ''\n",
    "        recording_list = isrcs['recording-list'] if 'recording-list' in isrcs else ''\n",
    "        # recording_list = musicbrainzngs.get_recordings_by_isrc(isrc)['isrc']['recording-list']\n",
    "    except musicbrainzngs.ResponseError as e:\n",
    "        cause = str(e.cause)\n",
    "        if cause.find('404') == -1:\n",
    "            print(cause)\n",
    "        return genre_list\n",
    "    except Exception as e:\n",
    "        print(e)\n",
    "        return genre_list\n",
    "    \n",
    "    # time.sleep(1)\n",
    "\n",
    "    if len(recording_list) == 0:\n",
    "        return genre_list\n",
    "    elif len(recording_list) > 1:\n",
    "        print(f'Multiple recordings with isrc: {isrc}')\n",
    "\n",
    "    if 'id' in recording_list[0]:\n",
    "        mbid = recording_list[0]['id']\n",
    "    else:\n",
    "        return genre_list\n",
    "\n",
    "    # Use Last FM to get the genres (https://www.last.fm/api/show/track.getInfo)\n",
    "    url = f\"http://ws.audioscrobbler.com/2.0/?method=track.getInfo&api_key={api_key}&mbid={mbid}&format=json\"\n",
    "    try:\n",
    "        response = requests.get(url)\n",
    "        data = json.loads(response.text)\n",
    "    except Exception as e:\n",
    "        print('Failed to retrieve genres from the Last FM API')\n",
    "        print(e)\n",
    "        return genre_list\n",
    "    \n",
    "    track = data['track'] if 'track' in data else ''\n",
    "    toptags = track['toptags'] if 'toptags' in track else ''\n",
    "    if 'tag' in toptags:\n",
    "        genres = toptags['tag']\n",
    "        for genre in genres:\n",
    "            genre_list = f'{genre_list}{genre[\"name\"]},'\n",
    "        return genre_list[:len(genre_list)-1]\n",
    "    else:    \n",
    "        return genre_list\n",
    "    \n",
    "    "
   ]
  },
  {
   "cell_type": "code",
   "execution_count": 10,
   "metadata": {},
   "outputs": [],
   "source": [
    "def filter_track_features(track):\n",
    "    '''\n",
    "    Filters the relevant features of a track in returns them in JSON object.\n",
    "\n",
    "    Parameter\n",
    "    ---------\n",
    "    track: Object\n",
    "        Track returend by the spotify API\n",
    "\n",
    "    Return\n",
    "    ------\n",
    "    relevant_features: Object\n",
    "        JSON Object that contains the relevant featues\n",
    "    '''\n",
    "    \n",
    "    features = sp.audio_features(track['id'])[0]\n",
    "\n",
    "    external_ids = track['external_ids'] if 'external_ids' in track else {}\n",
    "    isrc = external_ids['isrc'] if 'isrc' in external_ids else NaN\n",
    "    artist_names = []\n",
    "\n",
    "    if 'artists' in track and type(track['artists']) == list:\n",
    "            ids = []\n",
    "            for artist in track['artists']:\n",
    "                if 'id' in artist:\n",
    "                    ids.append(artist['id'])\n",
    "            \n",
    "            artists = sp.artists(ids)\n",
    "            artists = artists['artists'] if 'artists' in artists else []\n",
    "            if type(artists) == list:\n",
    "                 for artist in artists:\n",
    "                    genres = ','.join(artist['genres']) if 'genres' in artist else []\n",
    "                    if 'name' in artist:\n",
    "                         artist_names.append(artist['name'])\n",
    "\n",
    "            artist_names = ','.join(artist_names)\n",
    "    \n",
    "    if 'album' in track:\n",
    "        album = track['album']['name'] if 'name' in track['album'] else NaN\n",
    "        release_date = track['album']['release_date'] if 'release_date' in track['album'] else NaN\n",
    "        release_date_precision = track['album']['release_date_precision'] if 'release_date_precision' in track['album'] else NaN\n",
    "\n",
    "\n",
    "    track_name = track['name'] if 'name' in track else NaN\n",
    "    if track_name:\n",
    "        points = chart_power_df.loc[(chart_power_df.Song == track_name.lower()) & (chart_power_df.Artist == artist_names.lower())]['Points']\n",
    "        if points.empty:\n",
    "             points = NaN\n",
    "        else:\n",
    "            points = int(points)\n",
    "    else:\n",
    "         points = NaN\n",
    "\n",
    "\n",
    "    return {\n",
    "        'name': track_name,\n",
    "        'artists': artist_names,\n",
    "        'album': album,\n",
    "        'release_date': release_date,\n",
    "        'release_date_precision': release_date_precision,\n",
    "        'spotify_id': track['id'] if 'id' in track else NaN,\n",
    "        'chart_power': points,\n",
    "        'uri': track['uri'] if 'uri' in track else NaN,\n",
    "        'popularity': track['popularity'] if 'popularity' in track else NaN,\n",
    "        'genres': genres,\n",
    "        'danceability': features['danceability'] if 'danceability' in features else NaN,\n",
    "        'energy': features['energy'] if 'energy' in features else NaN,\n",
    "        'key': features['key'] if 'key' in features else NaN,\n",
    "        'loudness': features['loudness'] if 'loudness' in features else NaN,\n",
    "        'mode': features['mode'] if 'mode' in features else NaN,\n",
    "        'speechiness': features['speechiness'] if 'speechiness' in features else NaN,\n",
    "        'acousticness': features['acousticness'] if 'acousticness' in features else NaN,\n",
    "        'instrumentalness': features['instrumentalness'] if 'instrumentalness' in features else NaN,\n",
    "        'liveness': features['liveness'] if 'liveness' in features else NaN,\n",
    "        'valence': features['valence'] if 'valence' in features else NaN,\n",
    "        'tempo': features['tempo'] if 'tempo' in features else NaN,\n",
    "        'duration_ms': features['duration_ms'] if 'duration_ms' in features else NaN,\n",
    "        'time_signature': features['time_signature'] if 'time_signature' in features else NaN,\n",
    "        'isrc': isrc,\n",
    "    }"
   ]
  },
  {
   "cell_type": "code",
   "execution_count": 11,
   "metadata": {},
   "outputs": [],
   "source": [
    "def save_df_to_sql(df: pd.DataFrame, table_name=SQL_TABLE, schema=SQL_SCHEMA, if_exists='replace'):\n",
    "    '''\n",
    "    Saves the DataFrame in the SQL Database\n",
    "\n",
    "    Parameter\n",
    "    ---------\n",
    "    df: pd.DataFrame\n",
    "        DataFrame that should be saved\n",
    "\n",
    "    table_name: string; default=SQL_TABLE (.env)\n",
    "        Table name the DataFrame should be saved in.\n",
    "\n",
    "    schema: string; default=SQL_SCHMEA (.env)\n",
    "        Schema that should be used for the database\n",
    "\n",
    "    if_exists: string; default=\"replace\"\n",
    "        Action that should be performed if the specified table already exists. Possible values are \"replace\", \"fail\", \"append\".\n",
    "    '''\n",
    "    try:\n",
    "        df.to_sql(table_name, engine, schema=schema, if_exists=if_exists)\n",
    "    except Exception as e:\n",
    "        print(e)"
   ]
  },
  {
   "cell_type": "code",
   "execution_count": 12,
   "metadata": {},
   "outputs": [],
   "source": [
    "def read_df_from_sql(table_name=SQL_TABLE, schema=SQL_SCHEMA):\n",
    "    '''\n",
    "    Reads a SQL table and saves it into a DataFrame.\n",
    "\n",
    "    Parameter\n",
    "    ---------\n",
    "    table_name: string; default=SQL_TABLE (.env)\n",
    "        Name of the table in the database\n",
    "\n",
    "    schema: string; default=SQL_SCHEMA (.env)\n",
    "        Name of the SQL schmea\n",
    "\n",
    "    Return\n",
    "    ------\n",
    "    df: pd.DataFrame\n",
    "        SQL table in a DatFrame\n",
    "    '''\n",
    "    try:\n",
    "        with engine.connect() as connection:\n",
    "            return pd.read_sql_table(table_name, con=connection, schema=schema)\n",
    "    except Exception as e:\n",
    "        print(e)"
   ]
  },
  {
   "cell_type": "code",
   "execution_count": 13,
   "metadata": {},
   "outputs": [],
   "source": [
    "# Make initial request to get total number of results\n",
    "def get_number_of_tracks(release_year, start_letters):\n",
    "    '''\n",
    "    Retrieves the number of tracks the spotfiy API returns for a specific query.\n",
    "\n",
    "    Parameter\n",
    "    ---------\n",
    "    release_year: int\n",
    "        Year the tracks were released\n",
    "\n",
    "    start_letters: string\n",
    "        Letters the songs start with\n",
    "\n",
    "    Return\n",
    "    ------\n",
    "    num: int\n",
    "        Number of tracks that spotify has data for. The max number is 1000. If 1000 is returned, it is possible that the number is higher.\n",
    "    '''\n",
    "    try:\n",
    "        result = sp.search(q=f'year:{release_year} track:{start_letters}*', type='track', limit=1, offset=0, market='DE')\n",
    "        tracks = result['tracks'] if 'tracks' in result else ''\n",
    "        return tracks['total'] if 'total' in tracks else 0\n",
    "    except Exception as e:\n",
    "        print(e)\n",
    "    return 0"
   ]
  },
  {
   "cell_type": "code",
   "execution_count": 14,
   "metadata": {},
   "outputs": [],
   "source": [
    "def req_query_tracks(release_year, start_letters = '', limit=50):\n",
    "    '''\n",
    "    Recursivley queries all tracks spotify returns for a specific query.\n",
    "\n",
    "    Parameter\n",
    "    ---------\n",
    "    release_year: int\n",
    "        Year the tracks were released\n",
    "\n",
    "    start_letters: string, default=''\n",
    "        Letters the songs start with\n",
    "    \n",
    "    limit: int; default=50\n",
    "        Number of tracks that should be queried at once. Max number is 50\n",
    "    '''\n",
    "    global df\n",
    "    alphabet = ['a', 'b', 'c', 'd', 'e', 'f', 'g', 'h', 'i', 'j', 'k', 'l', 'm', 'n', 'o', 'p', 'q', 'r', 's', 't', 'u', 'v', 'w', 'x', 'y', 'z']\n",
    "    for letter in alphabet:\n",
    "        letters = start_letters + letter\n",
    "        total_results = get_number_of_tracks(release_year, letters)\n",
    "        if total_results < 1000:\n",
    "            print(release_year, letters, total_results)\n",
    "            # f = open('log.txt', 'a')\n",
    "            # f.write(f'{release_year}-{letters}-{total_results}; \\n')\n",
    "            # f.close()\n",
    "            # Loop through results and retrieve tracks\n",
    "            offset = 0\n",
    "\n",
    "            while offset < total_results:\n",
    "                try:\n",
    "                    track_features = []\n",
    "                    result = sp.search(q=f'year:{release_year} track:{letters}*', type='track', limit=limit, offset=offset)\n",
    "                    tracks = result['tracks'] if 'tracks' in result else ''\n",
    "                    if 'items' in tracks:\n",
    "                        for track in tracks['items']:\n",
    "                            features = filter_track_features(track)\n",
    "                            track_features.append(features)\n",
    "                        offset += limit\n",
    "                        print('new')\n",
    "                        df = pd.concat([df, pd.DataFrame(track_features)], ignore_index=True)\n",
    "                    else:\n",
    "                        continue\n",
    "                except Exception as e:\n",
    "                    print(e)\n",
    "        else:\n",
    "            req_query_tracks(release_year, letters)"
   ]
  },
  {
   "attachments": {},
   "cell_type": "markdown",
   "metadata": {},
   "source": [
    "## Code"
   ]
  },
  {
   "cell_type": "code",
   "execution_count": 15,
   "metadata": {},
   "outputs": [],
   "source": [
    "columns = ['name', 'artists', 'album', 'release_date', 'release_date_precision', 'chart_power', 'spotify_id', 'uri', 'popularity', 'danceability', 'energy', 'key', 'loudness', 'mode', 'speechiness', 'acousticness', 'instrumentalness', 'liveness', 'valence', 'tempo', 'duration_ms', 'time_signature', 'isrc', 'genres']\n",
    "df = pd.DataFrame(columns=columns)"
   ]
  },
  {
   "cell_type": "code",
   "execution_count": 16,
   "metadata": {},
   "outputs": [
    {
     "ename": "KeyboardInterrupt",
     "evalue": "",
     "output_type": "error",
     "traceback": [
      "\u001b[0;31m---------------------------------------------------------------------------\u001b[0m",
      "\u001b[0;31mKeyboardInterrupt\u001b[0m                         Traceback (most recent call last)",
      "Cell \u001b[0;32mIn[16], line 15\u001b[0m\n\u001b[1;32m     13\u001b[0m track_features \u001b[39m=\u001b[39m []\n\u001b[1;32m     14\u001b[0m \u001b[39mfor\u001b[39;00m track \u001b[39min\u001b[39;00m result[\u001b[39m'\u001b[39m\u001b[39mtracks\u001b[39m\u001b[39m'\u001b[39m][\u001b[39m'\u001b[39m\u001b[39mitems\u001b[39m\u001b[39m'\u001b[39m]:\n\u001b[0;32m---> 15\u001b[0m     features \u001b[39m=\u001b[39m filter_track_features(track)\n\u001b[1;32m     16\u001b[0m     track_features\u001b[39m.\u001b[39mappend(features)\n\u001b[1;32m     17\u001b[0m offset \u001b[39m+\u001b[39m\u001b[39m=\u001b[39m limit\n",
      "Cell \u001b[0;32mIn[10], line 28\u001b[0m, in \u001b[0;36mfilter_track_features\u001b[0;34m(track)\u001b[0m\n\u001b[1;32m     25\u001b[0m     \u001b[39mif\u001b[39;00m \u001b[39m'\u001b[39m\u001b[39mid\u001b[39m\u001b[39m'\u001b[39m \u001b[39min\u001b[39;00m artist:\n\u001b[1;32m     26\u001b[0m         ids\u001b[39m.\u001b[39mappend(artist[\u001b[39m'\u001b[39m\u001b[39mid\u001b[39m\u001b[39m'\u001b[39m])\n\u001b[0;32m---> 28\u001b[0m artists \u001b[39m=\u001b[39m sp\u001b[39m.\u001b[39;49martists(ids)\n\u001b[1;32m     29\u001b[0m artists \u001b[39m=\u001b[39m artists[\u001b[39m'\u001b[39m\u001b[39martists\u001b[39m\u001b[39m'\u001b[39m] \u001b[39mif\u001b[39;00m \u001b[39m'\u001b[39m\u001b[39martists\u001b[39m\u001b[39m'\u001b[39m \u001b[39min\u001b[39;00m artists \u001b[39melse\u001b[39;00m []\n\u001b[1;32m     30\u001b[0m \u001b[39mif\u001b[39;00m \u001b[39mtype\u001b[39m(artists) \u001b[39m==\u001b[39m \u001b[39mlist\u001b[39m:\n",
      "File \u001b[0;32m~/Documents/Studium/application-project/application-project/lib/python3.10/site-packages/spotipy/client.py:400\u001b[0m, in \u001b[0;36mSpotify.artists\u001b[0;34m(self, artists)\u001b[0m\n\u001b[1;32m    393\u001b[0m \u001b[39m\u001b[39m\u001b[39m\"\"\" returns a list of artists given the artist IDs, URIs, or URLs\u001b[39;00m\n\u001b[1;32m    394\u001b[0m \n\u001b[1;32m    395\u001b[0m \u001b[39m    Parameters:\u001b[39;00m\n\u001b[1;32m    396\u001b[0m \u001b[39m        - artists - a list of  artist IDs, URIs or URLs\u001b[39;00m\n\u001b[1;32m    397\u001b[0m \u001b[39m\"\"\"\u001b[39;00m\n\u001b[1;32m    399\u001b[0m tlist \u001b[39m=\u001b[39m [\u001b[39mself\u001b[39m\u001b[39m.\u001b[39m_get_id(\u001b[39m\"\u001b[39m\u001b[39martist\u001b[39m\u001b[39m\"\u001b[39m, a) \u001b[39mfor\u001b[39;00m a \u001b[39min\u001b[39;00m artists]\n\u001b[0;32m--> 400\u001b[0m \u001b[39mreturn\u001b[39;00m \u001b[39mself\u001b[39;49m\u001b[39m.\u001b[39;49m_get(\u001b[39m\"\u001b[39;49m\u001b[39martists/?ids=\u001b[39;49m\u001b[39m\"\u001b[39;49m \u001b[39m+\u001b[39;49m \u001b[39m\"\u001b[39;49m\u001b[39m,\u001b[39;49m\u001b[39m\"\u001b[39;49m\u001b[39m.\u001b[39;49mjoin(tlist))\n",
      "File \u001b[0;32m~/Documents/Studium/application-project/application-project/lib/python3.10/site-packages/spotipy/client.py:321\u001b[0m, in \u001b[0;36mSpotify._get\u001b[0;34m(self, url, args, payload, **kwargs)\u001b[0m\n\u001b[1;32m    318\u001b[0m \u001b[39mif\u001b[39;00m args:\n\u001b[1;32m    319\u001b[0m     kwargs\u001b[39m.\u001b[39mupdate(args)\n\u001b[0;32m--> 321\u001b[0m \u001b[39mreturn\u001b[39;00m \u001b[39mself\u001b[39;49m\u001b[39m.\u001b[39;49m_internal_call(\u001b[39m\"\u001b[39;49m\u001b[39mGET\u001b[39;49m\u001b[39m\"\u001b[39;49m, url, payload, kwargs)\n",
      "File \u001b[0;32m~/Documents/Studium/application-project/application-project/lib/python3.10/site-packages/spotipy/client.py:264\u001b[0m, in \u001b[0;36mSpotify._internal_call\u001b[0;34m(self, method, url, payload, params)\u001b[0m\n\u001b[1;32m    260\u001b[0m logger\u001b[39m.\u001b[39mdebug(\u001b[39m'\u001b[39m\u001b[39mSending \u001b[39m\u001b[39m%s\u001b[39;00m\u001b[39m to \u001b[39m\u001b[39m%s\u001b[39;00m\u001b[39m with Params: \u001b[39m\u001b[39m%s\u001b[39;00m\u001b[39m Headers: \u001b[39m\u001b[39m%s\u001b[39;00m\u001b[39m and Body: \u001b[39m\u001b[39m%r\u001b[39;00m\u001b[39m \u001b[39m\u001b[39m'\u001b[39m,\n\u001b[1;32m    261\u001b[0m              method, url, args\u001b[39m.\u001b[39mget(\u001b[39m\"\u001b[39m\u001b[39mparams\u001b[39m\u001b[39m\"\u001b[39m), headers, args\u001b[39m.\u001b[39mget(\u001b[39m'\u001b[39m\u001b[39mdata\u001b[39m\u001b[39m'\u001b[39m))\n\u001b[1;32m    263\u001b[0m \u001b[39mtry\u001b[39;00m:\n\u001b[0;32m--> 264\u001b[0m     response \u001b[39m=\u001b[39m \u001b[39mself\u001b[39;49m\u001b[39m.\u001b[39;49m_session\u001b[39m.\u001b[39;49mrequest(\n\u001b[1;32m    265\u001b[0m         method, url, headers\u001b[39m=\u001b[39;49mheaders, proxies\u001b[39m=\u001b[39;49m\u001b[39mself\u001b[39;49m\u001b[39m.\u001b[39;49mproxies,\n\u001b[1;32m    266\u001b[0m         timeout\u001b[39m=\u001b[39;49m\u001b[39mself\u001b[39;49m\u001b[39m.\u001b[39;49mrequests_timeout, \u001b[39m*\u001b[39;49m\u001b[39m*\u001b[39;49margs\n\u001b[1;32m    267\u001b[0m     )\n\u001b[1;32m    269\u001b[0m     response\u001b[39m.\u001b[39mraise_for_status()\n\u001b[1;32m    270\u001b[0m     results \u001b[39m=\u001b[39m response\u001b[39m.\u001b[39mjson()\n",
      "File \u001b[0;32m~/Documents/Studium/application-project/application-project/lib/python3.10/site-packages/requests/sessions.py:587\u001b[0m, in \u001b[0;36mSession.request\u001b[0;34m(self, method, url, params, data, headers, cookies, files, auth, timeout, allow_redirects, proxies, hooks, stream, verify, cert, json)\u001b[0m\n\u001b[1;32m    582\u001b[0m send_kwargs \u001b[39m=\u001b[39m {\n\u001b[1;32m    583\u001b[0m     \u001b[39m\"\u001b[39m\u001b[39mtimeout\u001b[39m\u001b[39m\"\u001b[39m: timeout,\n\u001b[1;32m    584\u001b[0m     \u001b[39m\"\u001b[39m\u001b[39mallow_redirects\u001b[39m\u001b[39m\"\u001b[39m: allow_redirects,\n\u001b[1;32m    585\u001b[0m }\n\u001b[1;32m    586\u001b[0m send_kwargs\u001b[39m.\u001b[39mupdate(settings)\n\u001b[0;32m--> 587\u001b[0m resp \u001b[39m=\u001b[39m \u001b[39mself\u001b[39;49m\u001b[39m.\u001b[39;49msend(prep, \u001b[39m*\u001b[39;49m\u001b[39m*\u001b[39;49msend_kwargs)\n\u001b[1;32m    589\u001b[0m \u001b[39mreturn\u001b[39;00m resp\n",
      "File \u001b[0;32m~/Documents/Studium/application-project/application-project/lib/python3.10/site-packages/requests/sessions.py:701\u001b[0m, in \u001b[0;36mSession.send\u001b[0;34m(self, request, **kwargs)\u001b[0m\n\u001b[1;32m    698\u001b[0m start \u001b[39m=\u001b[39m preferred_clock()\n\u001b[1;32m    700\u001b[0m \u001b[39m# Send the request\u001b[39;00m\n\u001b[0;32m--> 701\u001b[0m r \u001b[39m=\u001b[39m adapter\u001b[39m.\u001b[39;49msend(request, \u001b[39m*\u001b[39;49m\u001b[39m*\u001b[39;49mkwargs)\n\u001b[1;32m    703\u001b[0m \u001b[39m# Total elapsed time of the request (approximately)\u001b[39;00m\n\u001b[1;32m    704\u001b[0m elapsed \u001b[39m=\u001b[39m preferred_clock() \u001b[39m-\u001b[39m start\n",
      "File \u001b[0;32m~/Documents/Studium/application-project/application-project/lib/python3.10/site-packages/requests/adapters.py:489\u001b[0m, in \u001b[0;36mHTTPAdapter.send\u001b[0;34m(self, request, stream, timeout, verify, cert, proxies)\u001b[0m\n\u001b[1;32m    487\u001b[0m \u001b[39mtry\u001b[39;00m:\n\u001b[1;32m    488\u001b[0m     \u001b[39mif\u001b[39;00m \u001b[39mnot\u001b[39;00m chunked:\n\u001b[0;32m--> 489\u001b[0m         resp \u001b[39m=\u001b[39m conn\u001b[39m.\u001b[39;49murlopen(\n\u001b[1;32m    490\u001b[0m             method\u001b[39m=\u001b[39;49mrequest\u001b[39m.\u001b[39;49mmethod,\n\u001b[1;32m    491\u001b[0m             url\u001b[39m=\u001b[39;49murl,\n\u001b[1;32m    492\u001b[0m             body\u001b[39m=\u001b[39;49mrequest\u001b[39m.\u001b[39;49mbody,\n\u001b[1;32m    493\u001b[0m             headers\u001b[39m=\u001b[39;49mrequest\u001b[39m.\u001b[39;49mheaders,\n\u001b[1;32m    494\u001b[0m             redirect\u001b[39m=\u001b[39;49m\u001b[39mFalse\u001b[39;49;00m,\n\u001b[1;32m    495\u001b[0m             assert_same_host\u001b[39m=\u001b[39;49m\u001b[39mFalse\u001b[39;49;00m,\n\u001b[1;32m    496\u001b[0m             preload_content\u001b[39m=\u001b[39;49m\u001b[39mFalse\u001b[39;49;00m,\n\u001b[1;32m    497\u001b[0m             decode_content\u001b[39m=\u001b[39;49m\u001b[39mFalse\u001b[39;49;00m,\n\u001b[1;32m    498\u001b[0m             retries\u001b[39m=\u001b[39;49m\u001b[39mself\u001b[39;49m\u001b[39m.\u001b[39;49mmax_retries,\n\u001b[1;32m    499\u001b[0m             timeout\u001b[39m=\u001b[39;49mtimeout,\n\u001b[1;32m    500\u001b[0m         )\n\u001b[1;32m    502\u001b[0m     \u001b[39m# Send the request.\u001b[39;00m\n\u001b[1;32m    503\u001b[0m     \u001b[39melse\u001b[39;00m:\n\u001b[1;32m    504\u001b[0m         \u001b[39mif\u001b[39;00m \u001b[39mhasattr\u001b[39m(conn, \u001b[39m\"\u001b[39m\u001b[39mproxy_pool\u001b[39m\u001b[39m\"\u001b[39m):\n",
      "File \u001b[0;32m~/Documents/Studium/application-project/application-project/lib/python3.10/site-packages/urllib3/connectionpool.py:876\u001b[0m, in \u001b[0;36mHTTPConnectionPool.urlopen\u001b[0;34m(self, method, url, body, headers, retries, redirect, assert_same_host, timeout, pool_timeout, release_conn, chunked, body_pos, **response_kw)\u001b[0m\n\u001b[1;32m    873\u001b[0m     \u001b[39mreturn\u001b[39;00m response\n\u001b[1;32m    875\u001b[0m response\u001b[39m.\u001b[39mdrain_conn()\n\u001b[0;32m--> 876\u001b[0m retries\u001b[39m.\u001b[39;49msleep(response)\n\u001b[1;32m    877\u001b[0m log\u001b[39m.\u001b[39mdebug(\u001b[39m\"\u001b[39m\u001b[39mRetry: \u001b[39m\u001b[39m%s\u001b[39;00m\u001b[39m\"\u001b[39m, url)\n\u001b[1;32m    878\u001b[0m \u001b[39mreturn\u001b[39;00m \u001b[39mself\u001b[39m\u001b[39m.\u001b[39murlopen(\n\u001b[1;32m    879\u001b[0m     method,\n\u001b[1;32m    880\u001b[0m     url,\n\u001b[0;32m   (...)\u001b[0m\n\u001b[1;32m    891\u001b[0m     \u001b[39m*\u001b[39m\u001b[39m*\u001b[39mresponse_kw\n\u001b[1;32m    892\u001b[0m )\n",
      "File \u001b[0;32m~/Documents/Studium/application-project/application-project/lib/python3.10/site-packages/urllib3/util/retry.py:428\u001b[0m, in \u001b[0;36mRetry.sleep\u001b[0;34m(self, response)\u001b[0m\n\u001b[1;32m    419\u001b[0m \u001b[39m\u001b[39m\u001b[39m\"\"\"Sleep between retry attempts.\u001b[39;00m\n\u001b[1;32m    420\u001b[0m \n\u001b[1;32m    421\u001b[0m \u001b[39mThis method will respect a server's ``Retry-After`` response header\u001b[39;00m\n\u001b[0;32m   (...)\u001b[0m\n\u001b[1;32m    424\u001b[0m \u001b[39mthis method will return immediately.\u001b[39;00m\n\u001b[1;32m    425\u001b[0m \u001b[39m\"\"\"\u001b[39;00m\n\u001b[1;32m    427\u001b[0m \u001b[39mif\u001b[39;00m \u001b[39mself\u001b[39m\u001b[39m.\u001b[39mrespect_retry_after_header \u001b[39mand\u001b[39;00m response:\n\u001b[0;32m--> 428\u001b[0m     slept \u001b[39m=\u001b[39m \u001b[39mself\u001b[39;49m\u001b[39m.\u001b[39;49msleep_for_retry(response)\n\u001b[1;32m    429\u001b[0m     \u001b[39mif\u001b[39;00m slept:\n\u001b[1;32m    430\u001b[0m         \u001b[39mreturn\u001b[39;00m\n",
      "File \u001b[0;32m~/Documents/Studium/application-project/application-project/lib/python3.10/site-packages/urllib3/util/retry.py:407\u001b[0m, in \u001b[0;36mRetry.sleep_for_retry\u001b[0;34m(self, response)\u001b[0m\n\u001b[1;32m    405\u001b[0m retry_after \u001b[39m=\u001b[39m \u001b[39mself\u001b[39m\u001b[39m.\u001b[39mget_retry_after(response)\n\u001b[1;32m    406\u001b[0m \u001b[39mif\u001b[39;00m retry_after:\n\u001b[0;32m--> 407\u001b[0m     time\u001b[39m.\u001b[39;49msleep(retry_after)\n\u001b[1;32m    408\u001b[0m     \u001b[39mreturn\u001b[39;00m \u001b[39mTrue\u001b[39;00m\n\u001b[1;32m    410\u001b[0m \u001b[39mreturn\u001b[39;00m \u001b[39mFalse\u001b[39;00m\n",
      "\u001b[0;31mKeyboardInterrupt\u001b[0m: "
     ]
    }
   ],
   "source": [
    "# Set up query parameters\n",
    "query = 'year:1980'\n",
    "limit = 1\n",
    "offset = 0\n",
    "\n",
    "# Make initial request to get total number of results\n",
    "result = sp.search(q=query, type='track', limit=1, offset=0, market='DE')\n",
    "total_results = result['tracks']['total']\n",
    "\n",
    "# Loop through results and retrieve tracks\n",
    "while offset < 10:\n",
    "    result = sp.search(q=query, type='track', limit=limit, offset=offset, market='DE')\n",
    "    track_features = []\n",
    "    for track in result['tracks']['items']:\n",
    "        features = filter_track_features(track)\n",
    "        track_features.append(features)\n",
    "    offset += limit\n",
    "    print('new')\n",
    "    df = pd.concat([df, pd.DataFrame(track_features)], ignore_index=True)"
   ]
  },
  {
   "cell_type": "code",
   "execution_count": 17,
   "metadata": {},
   "outputs": [
    {
     "data": {
      "text/html": [
       "<div>\n",
       "<style scoped>\n",
       "    .dataframe tbody tr th:only-of-type {\n",
       "        vertical-align: middle;\n",
       "    }\n",
       "\n",
       "    .dataframe tbody tr th {\n",
       "        vertical-align: top;\n",
       "    }\n",
       "\n",
       "    .dataframe thead th {\n",
       "        text-align: right;\n",
       "    }\n",
       "</style>\n",
       "<table border=\"1\" class=\"dataframe\">\n",
       "  <thead>\n",
       "    <tr style=\"text-align: right;\">\n",
       "      <th></th>\n",
       "      <th>name</th>\n",
       "      <th>artists</th>\n",
       "      <th>album</th>\n",
       "      <th>release_date</th>\n",
       "      <th>release_date_precision</th>\n",
       "      <th>chart_power</th>\n",
       "      <th>spotify_id</th>\n",
       "      <th>uri</th>\n",
       "      <th>popularity</th>\n",
       "      <th>danceability</th>\n",
       "      <th>...</th>\n",
       "      <th>speechiness</th>\n",
       "      <th>acousticness</th>\n",
       "      <th>instrumentalness</th>\n",
       "      <th>liveness</th>\n",
       "      <th>valence</th>\n",
       "      <th>tempo</th>\n",
       "      <th>duration_ms</th>\n",
       "      <th>time_signature</th>\n",
       "      <th>isrc</th>\n",
       "      <th>genres</th>\n",
       "    </tr>\n",
       "  </thead>\n",
       "  <tbody>\n",
       "  </tbody>\n",
       "</table>\n",
       "<p>0 rows × 24 columns</p>\n",
       "</div>"
      ],
      "text/plain": [
       "Empty DataFrame\n",
       "Columns: [name, artists, album, release_date, release_date_precision, chart_power, spotify_id, uri, popularity, danceability, energy, key, loudness, mode, speechiness, acousticness, instrumentalness, liveness, valence, tempo, duration_ms, time_signature, isrc, genres]\n",
       "Index: []\n",
       "\n",
       "[0 rows x 24 columns]"
      ]
     },
     "execution_count": 17,
     "metadata": {},
     "output_type": "execute_result"
    }
   ],
   "source": [
    "df"
   ]
  },
  {
   "cell_type": "code",
   "execution_count": null,
   "metadata": {},
   "outputs": [],
   "source": [
    "for year in range(1980, 1990):\n",
    "    req_query_tracks(year, '')"
   ]
  }
 ],
 "metadata": {
  "kernelspec": {
   "display_name": "application-project",
   "language": "python",
   "name": "application-project"
  },
  "language_info": {
   "codemirror_mode": {
    "name": "ipython",
    "version": 3
   },
   "file_extension": ".py",
   "mimetype": "text/x-python",
   "name": "python",
   "nbconvert_exporter": "python",
   "pygments_lexer": "ipython3",
   "version": "3.10.8"
  },
  "orig_nbformat": 4
 },
 "nbformat": 4,
 "nbformat_minor": 2
}
