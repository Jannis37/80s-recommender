{
 "cells": [
  {
   "attachments": {},
   "cell_type": "markdown",
   "metadata": {},
   "source": [
    "## Imports"
   ]
  },
  {
   "cell_type": "code",
   "execution_count": 26,
   "metadata": {},
   "outputs": [],
   "source": [
    "import spotipy\n",
    "from spotipy.oauth2 import SpotifyClientCredentials\n",
    "import pandas as pd\n",
    "import requests\n",
    "import json\n",
    "import musicbrainzngs\n",
    "import sqlalchemy\n",
    "from sqlalchemy import text\n",
    "from dotenv import load_dotenv\n",
    "import os"
   ]
  },
  {
   "attachments": {},
   "cell_type": "markdown",
   "metadata": {},
   "source": [
    "## Inital setup\n",
    "- load env variables\n",
    "- create connection to the sql database\n",
    "- create a spotify API client"
   ]
  },
  {
   "cell_type": "code",
   "execution_count": 16,
   "metadata": {},
   "outputs": [],
   "source": [
    "musicbrainzngs.set_useragent('application-project', '0.0.1')"
   ]
  },
  {
   "cell_type": "code",
   "execution_count": 32,
   "metadata": {},
   "outputs": [],
   "source": [
    "load_dotenv()\n",
    "# token = os.environ.get(\"ENV_VARIABLE\")\n",
    "\n",
    "SPOTIFY_CLIENT_ID = os.environ.get(\"SPOTIFY_CLIENT_ID\")\n",
    "SPOTIFY_CLIENT_SECRET = os.environ.get(\"SPOTIFY_CLIENT_SECRET\")\n",
    "LAST_FM_API_KEY = os.environ.get(\"LAST_FM_API\")\n",
    "\n",
    "SQL_USERNAME = os.environ.get('SQL_USERNAME')\n",
    "SQL_PASSWORD = os.environ.get('SQL_PASSWORD')\n",
    "SQL_SCHEMA=os.environ.get('SQL_SCHEMA')\n",
    "SQL_TABLE=os.environ.get('SQL_TABLE')\n",
    "SQL_DIALECT = os.environ.get('SQL_DIALECT')\n",
    "SQL_DIRVER = os.environ.get('SQL_DRIVER')               # pip install mysqlclient\n",
    "SQL_HOST = os.environ.get('SQL_HOST')\n",
    "SQL_PORT = os.environ.get('SQL_PORT')"
   ]
  },
  {
   "cell_type": "code",
   "execution_count": 33,
   "metadata": {},
   "outputs": [],
   "source": [
    "engine = sqlalchemy.create_engine(f'{SQL_DIALECT}+{SQL_DIRVER}://{SQL_USERNAME}:{SQL_PASSWORD}@{SQL_HOST}:{SQL_PORT}')\n",
    "with engine.connect() as connection:\n",
    "    connection.execute(text('Create database if not exists eighties'))"
   ]
  },
  {
   "cell_type": "code",
   "execution_count": 5,
   "metadata": {},
   "outputs": [],
   "source": [
    "client_credentials_manager = SpotifyClientCredentials(client_id=SPOTIFY_CLIENT_ID, client_secret=SPOTIFY_CLIENT_SECRET)\n",
    "sp = spotipy.Spotify(client_credentials_manager=client_credentials_manager)"
   ]
  },
  {
   "attachments": {},
   "cell_type": "markdown",
   "metadata": {},
   "source": [
    "## Functions"
   ]
  },
  {
   "cell_type": "code",
   "execution_count": 39,
   "metadata": {},
   "outputs": [],
   "source": [
    "def get_genres(isrc, api_key=LAST_FM_API_KEY):\n",
    "    '''\n",
    "    Retrives the genres of a song via the Last FM API.\n",
    "\n",
    "    First the isrc number is used to retrieve the musicbrainz id via the musicbraniz API. \n",
    "    This is used to retrive the genres later on from the Last FM API.\n",
    "\n",
    "    Parameter\n",
    "    ---------\n",
    "    isrc: string\n",
    "        ISRC number of the song\n",
    "\n",
    "    api_key: string\n",
    "        API key for the Last FM API\n",
    "\n",
    "    Return\n",
    "    ------\n",
    "    genre_list: string\n",
    "        string that contains the genres in a list\n",
    "    '''\n",
    "    # Use musicbrainz to get the musicbraniz id (https://musicbrainz.org/doc/MusicBrainz_API)\n",
    "    recording_list = musicbrainzngs.get_recordings_by_isrc(isrc)['isrc']['recording-list']\n",
    "    if len(recording_list) > 1:\n",
    "        print(recording_list)\n",
    "    mbid=recording_list[0]['id']\n",
    "\n",
    "    # Use Last FM to get the genres (https://www.last.fm/api/show/track.getInfo)\n",
    "    url = f\"http://ws.audioscrobbler.com/2.0/?method=track.getInfo&api_key={api_key}&mbid={mbid}&format=json\"\n",
    "\n",
    "    response = requests.get(url)\n",
    "    data = json.loads(response.text)\n",
    "    genres = data[\"track\"][\"toptags\"][\"tag\"]\n",
    "    genre_list = []\n",
    "    for genre in genres:\n",
    "        genre_list.append(genre['name'])\n",
    "    return str(genre_list)"
   ]
  },
  {
   "cell_type": "code",
   "execution_count": 41,
   "metadata": {},
   "outputs": [],
   "source": [
    "def filter_track_features(track):\n",
    "    '''\n",
    "    Filters the relevant features of a track in returns them in JSON object.\n",
    "\n",
    "    Parameter\n",
    "    ---------\n",
    "    track: Object\n",
    "        Track returend by the spotify API\n",
    "\n",
    "    Return\n",
    "    ------\n",
    "    relevant_features: Object\n",
    "        JSON Object that contains the relevant featues\n",
    "    '''\n",
    "    \n",
    "    features = sp.audio_features(track['id'])[0]\n",
    "    \n",
    "    return {\n",
    "        'popularity': track['popularity'],\n",
    "        'genres': get_genres(track['external_ids']['isrc']),\n",
    "        'danceability': features['danceability'],\n",
    "        'energy': features['energy'],\n",
    "        'key': features['key'],\n",
    "        'loudness': features['loudness'],\n",
    "        'mode': features['mode'],\n",
    "        'speechiness': features['speechiness'],\n",
    "        'acousticness': features['acousticness'],\n",
    "        'instrumentalness': features['instrumentalness'],\n",
    "        'liveness': features['liveness'],\n",
    "        'valence': features['valence'],\n",
    "        'tempo': features['tempo'],\n",
    "        'duration_ms': features['duration_ms'],\n",
    "        'time_signature': features['time_signature'],\n",
    "        'isrc': track['external_ids']['isrc'],\n",
    "    }"
   ]
  },
  {
   "cell_type": "code",
   "execution_count": 44,
   "metadata": {},
   "outputs": [],
   "source": [
    "def save_df_to_sql(df: pd.DataFrame, table_name=SQL_TABLE, schema=SQL_SCHEMA, if_exists='replace'):\n",
    "    '''\n",
    "    Saves the DataFrame in the SQL Database\n",
    "\n",
    "    Parameter\n",
    "    ---------\n",
    "    df: pd.DataFrame\n",
    "        DataFrame that should be saved\n",
    "\n",
    "    table_name: string; default=SQL_TABLE (.env)\n",
    "        Table name the DataFrame should be saved in.\n",
    "\n",
    "    schema: string; default=SQL_SCHMEA (.env)\n",
    "        Schema that should be used for the database\n",
    "\n",
    "    if_exists: string; default=\"replace\"\n",
    "        Action that should be performed if the specified table already exists. Possible values are \"replace\", \"fail\", \"append\".\n",
    "    '''\n",
    "    try:\n",
    "        df.to_sql(table_name, engine, schema=schema, if_exists=if_exists)\n",
    "    except Exception as e:\n",
    "        print(e)"
   ]
  },
  {
   "cell_type": "code",
   "execution_count": 45,
   "metadata": {},
   "outputs": [],
   "source": [
    "def read_df_from_sql(table_name=SQL_TABLE, schema=SQL_SCHEMA):\n",
    "    '''\n",
    "    Reads a SQL table and saves it into a DataFrame.\n",
    "\n",
    "    Parameter\n",
    "    ---------\n",
    "    table_name: string; default=SQL_TABLE (.env)\n",
    "        Name of the table in the database\n",
    "\n",
    "    schema: string; default=SQL_SCHEMA (.env)\n",
    "        Name of the SQL schmea\n",
    "\n",
    "    Return\n",
    "    ------\n",
    "    df: pd.DataFrame\n",
    "        SQL table in a DatFrame\n",
    "    '''\n",
    "    try:\n",
    "        with engine.connect() as connection:\n",
    "            return pd.read_sql_table(table_name, con=connection, schema=schema)\n",
    "    except Exception as e:\n",
    "        print(e)"
   ]
  },
  {
   "cell_type": "code",
   "execution_count": 9,
   "metadata": {},
   "outputs": [],
   "source": [
    "# Make initial request to get total number of results\n",
    "def get_number_of_tracks(release_year, start_letters):\n",
    "    '''\n",
    "    Retrieves the number of tracks the spotfiy API returns for a specific query.\n",
    "\n",
    "    Parameter\n",
    "    ---------\n",
    "    release_year: int\n",
    "        Year the tracks were released\n",
    "\n",
    "    start_letters: string\n",
    "        Letters the songs start with\n",
    "\n",
    "    Return\n",
    "    ------\n",
    "    num: int\n",
    "        Number of tracks that spotify has data for. The max number is 1000. If 1000 is returned, it is possible that the number is higher.\n",
    "    '''\n",
    "    result = sp.search(q=f'year:{release_year} track:{start_letters}*', type='track', limit=1, offset=0)\n",
    "    return result['tracks']['total']"
   ]
  },
  {
   "cell_type": "code",
   "execution_count": 51,
   "metadata": {},
   "outputs": [],
   "source": [
    "def req_query_tracks(release_year, start_letters = '', limit=50):\n",
    "    '''\n",
    "    Recursivley queries all tracks spotify returns for a specific query.\n",
    "\n",
    "    Parameter\n",
    "    ---------\n",
    "    release_year: int\n",
    "        Year the tracks were released\n",
    "\n",
    "    start_letters: string, default=''\n",
    "        Letters the songs start with\n",
    "    \n",
    "    limit: int; default=50\n",
    "        Number of tracks that should be queried at once. Max number is 50\n",
    "    '''\n",
    "    alphabet = ['a', 'b', 'c', 'd', 'e', 'f', 'g', 'h', 'i', 'j', 'k', 'l', 'm', 'n', 'o', 'p', 'q', 'r', 's', 't', 'u', 'v', 'w', 'x', 'y', 'z']\n",
    "    for letter in alphabet:\n",
    "        letters = start_letters + letter\n",
    "        total_results = get_number_of_tracks(release_year, letters)\n",
    "        if total_results < 1000:\n",
    "            print(release_year, letters)\n",
    "            # Loop through results and retrieve tracks\n",
    "            offset = 0\n",
    "\n",
    "            while offset < total_results:\n",
    "                result = sp.search(q=f'year:{release_year} track:{letters}*', type='track', limit=limit, offset=offset)\n",
    "                track_features = []\n",
    "                for track in result['tracks']['items']:\n",
    "                    features = filter_track_features(track)\n",
    "                    track_features.append(features)\n",
    "                offset += limit\n",
    "                df = pd.concat([df, pd.DataFrame(track_features)])\n",
    "        else:\n",
    "            req_query_tracks(release_year, letters)"
   ]
  },
  {
   "attachments": {},
   "cell_type": "markdown",
   "metadata": {},
   "source": [
    "## Code"
   ]
  },
  {
   "cell_type": "code",
   "execution_count": 35,
   "metadata": {},
   "outputs": [],
   "source": [
    "columns = ['popularity', 'danceability', 'energy', 'key', 'loudness', 'mode', 'speechiness', 'acousticness', 'instrumentalness', 'liveness', 'valence', 'tempo', 'duration_ms', 'time_signature', 'isrc', 'genres']\n",
    "df = pd.DataFrame(columns=columns)"
   ]
  },
  {
   "cell_type": "code",
   "execution_count": 40,
   "metadata": {},
   "outputs": [
    {
     "name": "stdout",
     "output_type": "stream",
     "text": [
      "[{'id': 'e529e98e-9d25-49c7-8c17-e0eb876dc83f', 'title': 'Any Way You Want It', 'length': '203000'}, {'id': '21c90a1b-2b83-4ba7-a356-90d5bba8c236', 'title': 'Any Way You Want It', 'length': '220093', 'disambiguation': 'live, 1980-08-04~5: Cobo Arena, Detroit, MI, USA'}]\n"
     ]
    }
   ],
   "source": [
    "# Set up query parameters\n",
    "query = 'year:1980'\n",
    "limit = 1\n",
    "offset = 0\n",
    "\n",
    "# Make initial request to get total number of results\n",
    "result = sp.search(q=query, type='track', limit=1, offset=0)\n",
    "total_results = result['tracks']['total']\n",
    "\n",
    "# Loop through results and retrieve tracks\n",
    "while offset < 10:\n",
    "    result = sp.search(q=query, type='track', limit=limit, offset=offset)\n",
    "    track_features = []\n",
    "    for track in result['tracks']['items']:\n",
    "        features = filter_track_features(track)\n",
    "        track_features.append(features)\n",
    "    offset += limit\n",
    "    df = pd.concat([df, pd.DataFrame(track_features)])"
   ]
  },
  {
   "cell_type": "code",
   "execution_count": 12,
   "metadata": {},
   "outputs": [
    {
     "name": "stdout",
     "output_type": "stream",
     "text": [
      "1980 aa\n"
     ]
    },
    {
     "ename": "UnboundLocalError",
     "evalue": "local variable 'df' referenced before assignment",
     "output_type": "error",
     "traceback": [
      "\u001b[0;31m---------------------------------------------------------------------------\u001b[0m",
      "\u001b[0;31mUnboundLocalError\u001b[0m                         Traceback (most recent call last)",
      "Cell \u001b[0;32mIn[12], line 2\u001b[0m\n\u001b[1;32m      1\u001b[0m \u001b[39mfor\u001b[39;00m year \u001b[39min\u001b[39;00m \u001b[39mrange\u001b[39m(\u001b[39m1980\u001b[39m, \u001b[39m1990\u001b[39m):\n\u001b[0;32m----> 2\u001b[0m     rec_func(year,\u001b[39m'\u001b[39;49m\u001b[39m'\u001b[39;49m)\n\u001b[1;32m      3\u001b[0m     \u001b[39m# for letter_0 in alphabet:\u001b[39;00m\n\u001b[1;32m      4\u001b[0m     \u001b[39m#     if get_number_of_tracks(year, letter_0) < 1000:\u001b[39;00m\n\u001b[1;32m      5\u001b[0m     \u001b[39m#         print(year, letter_0)\u001b[39;00m\n\u001b[1;32m      6\u001b[0m     \u001b[39m#     else:\u001b[39;00m\n\u001b[1;32m      7\u001b[0m     \u001b[39m#         rec_func(year, letter_0)\u001b[39;00m\n",
      "Cell \u001b[0;32mIn[11], line 19\u001b[0m, in \u001b[0;36mrec_func\u001b[0;34m(year, letter_0)\u001b[0m\n\u001b[1;32m     17\u001b[0m         df \u001b[39m=\u001b[39m pd\u001b[39m.\u001b[39mconcat([df, pd\u001b[39m.\u001b[39mDataFrame(track_features)])\n\u001b[1;32m     18\u001b[0m \u001b[39melse\u001b[39;00m:\n\u001b[0;32m---> 19\u001b[0m     rec_func(year, letter)\n",
      "Cell \u001b[0;32mIn[11], line 17\u001b[0m, in \u001b[0;36mrec_func\u001b[0;34m(year, letter_0)\u001b[0m\n\u001b[1;32m     15\u001b[0m             track_features\u001b[39m.\u001b[39mappend(features)\n\u001b[1;32m     16\u001b[0m         offset \u001b[39m+\u001b[39m\u001b[39m=\u001b[39m limit\n\u001b[0;32m---> 17\u001b[0m         df \u001b[39m=\u001b[39m pd\u001b[39m.\u001b[39mconcat([df, pd\u001b[39m.\u001b[39mDataFrame(track_features)])\n\u001b[1;32m     18\u001b[0m \u001b[39melse\u001b[39;00m:\n\u001b[1;32m     19\u001b[0m     rec_func(year, letter)\n",
      "\u001b[0;31mUnboundLocalError\u001b[0m: local variable 'df' referenced before assignment"
     ]
    }
   ],
   "source": [
    "for year in range(1980, 1990):\n",
    "    req_query_tracks(year,'')"
   ]
  }
 ],
 "metadata": {
  "kernelspec": {
   "display_name": "application-project",
   "language": "python",
   "name": "application-project"
  },
  "language_info": {
   "codemirror_mode": {
    "name": "ipython",
    "version": 3
   },
   "file_extension": ".py",
   "mimetype": "text/x-python",
   "name": "python",
   "nbconvert_exporter": "python",
   "pygments_lexer": "ipython3",
   "version": "3.10.8"
  },
  "orig_nbformat": 4
 },
 "nbformat": 4,
 "nbformat_minor": 2
}
