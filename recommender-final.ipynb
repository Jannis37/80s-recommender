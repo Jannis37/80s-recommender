{
 "cells": [
  {
   "cell_type": "code",
   "execution_count": null,
   "metadata": {},
   "outputs": [],
   "source": [
    "import pandas as pd\n",
    "import numpy as np\n",
    "from sklearn.preprocessing import MinMaxScaler\n",
    "from sklearn.metrics.pairwise import cosine_similarity, linear_kernel, polynomial_kernel, sigmoid_kernel, rbf_kernel, laplacian_kernel, chi2_kernel, euclidean_distances, manhattan_distances, cosine_distances"
   ]
  },
  {
   "attachments": {},
   "cell_type": "markdown",
   "metadata": {},
   "source": [
    "Create a DataFrame which contains only the relevant features for the recommender system"
   ]
  },
  {
   "cell_type": "code",
   "execution_count": null,
   "metadata": {},
   "outputs": [],
   "source": [
    "by_isrc = pd.read_csv('data/checkpoint/by_isrc_oldest.csv')\n",
    "ct_merged = pd.read_csv('data/checkpoint/ct_merged.csv')\n",
    "by_isrc.set_index('isrc', inplace=True)\n",
    "ct_merged.set_index('isrc', inplace=True)"
   ]
  },
  {
   "cell_type": "code",
   "execution_count": null,
   "metadata": {},
   "outputs": [],
   "source": [
    "by_isrc.head().T"
   ]
  },
  {
   "attachments": {},
   "cell_type": "markdown",
   "metadata": {},
   "source": [
    "Try different distance measures / similarity functions."
   ]
  },
  {
   "cell_type": "code",
   "execution_count": null,
   "metadata": {},
   "outputs": [],
   "source": [
    "def recommend_tracks_kernel(track: str, recommender_function, distance: bool = False):\n",
    "    '''\n",
    "    Recommends tracks that are similar to the provided track.\n",
    "\n",
    "    Parameter\n",
    "    ---------\n",
    "    track: str\n",
    "        Provided track\n",
    "\n",
    "    df: pd.DataFrame\n",
    "        DataFrame used for the Recommendation\n",
    "    \n",
    "    '''\n",
    "    global ct_merged\n",
    "\n",
    "    global by_isrc\n",
    "\n",
    "    ids = list(by_isrc[by_isrc.name == track].index)\n",
    "\n",
    "    if (len(ids)):\n",
    "        kernel_array = recommender_function(ct_merged, ct_merged[ct_merged.index == ids[0]])\n",
    "        kernel_df = pd.DataFrame(kernel_array, index=ct_merged.index)\n",
    "\n",
    "        kernel_df = kernel_df.rename(columns={0: 'Score'})\n",
    "        kernel_df = kernel_df.merge(by_isrc, how='left', on='isrc')\n",
    "        display(kernel_df.sort_values(by='Score', ascending=distance).head(6))\n",
    "        return kernel_df\n",
    "    else:\n",
    "        print('Error')\n"
   ]
  },
  {
   "cell_type": "code",
   "execution_count": null,
   "metadata": {},
   "outputs": [],
   "source": [
    "def try_functions(track):\n",
    "    kernel_functions = [cosine_similarity]\n",
    "    distance_functions = [euclidean_distances, manhattan_distances]\n",
    "    result = {}\n",
    "    for kernel_function in kernel_functions:\n",
    "        display(kernel_function.__name__)\n",
    "        result[kernel_function.__name__] = recommend_tracks_kernel(track, kernel_function, False)\n",
    "\n",
    "    for distance_function in distance_functions:\n",
    "        display(distance_function.__name__)\n",
    "        result[distance_function.__name__] = recommend_tracks_kernel(track, distance_function, True)\n",
    "\n",
    "    return result"
   ]
  },
  {
   "cell_type": "code",
   "execution_count": null,
   "metadata": {},
   "outputs": [],
   "source": [
    "result = try_functions(\"Pour Some Sugar On Me\")"
   ]
  }
 ],
 "metadata": {
  "kernelspec": {
   "display_name": "application-project",
   "language": "python",
   "name": "python3"
  },
  "language_info": {
   "codemirror_mode": {
    "name": "ipython",
    "version": 3
   },
   "file_extension": ".py",
   "mimetype": "text/x-python",
   "name": "python",
   "nbconvert_exporter": "python",
   "pygments_lexer": "ipython3",
   "version": "3.10.11"
  },
  "orig_nbformat": 4
 },
 "nbformat": 4,
 "nbformat_minor": 2
}
