{
 "cells": [
  {
   "cell_type": "code",
   "execution_count": 112,
   "metadata": {},
   "outputs": [],
   "source": [
    "import pandas as pd\n",
    "import numpy as np\n",
    "from sklearn.preprocessing import MinMaxScaler\n",
    "from sklearn.metrics.pairwise import cosine_similarity, linear_kernel, polynomial_kernel, sigmoid_kernel, rbf_kernel, laplacian_kernel, chi2_kernel, euclidean_distances, manhattan_distances, cosine_distances\n",
    "import plotly.express as px\n",
    "import plotly.graph_objects as go"
   ]
  },
  {
   "attachments": {},
   "cell_type": "markdown",
   "metadata": {},
   "source": [
    "Create a DataFrame which contains only the relevant features for the recommender system"
   ]
  },
  {
   "cell_type": "code",
   "execution_count": 15,
   "metadata": {},
   "outputs": [],
   "source": [
    "by_isrc = pd.read_csv('data/checkpoint/by_isrc_oldest.csv')\n",
    "ct_merged = pd.read_csv('data/checkpoint/ct_merged.csv')\n",
    "by_isrc.set_index('isrc', inplace=True)\n",
    "ct_merged.set_index('isrc', inplace=True)"
   ]
  },
  {
   "cell_type": "code",
   "execution_count": 16,
   "metadata": {},
   "outputs": [
    {
     "data": {
      "text/html": [
       "<div>\n",
       "<style scoped>\n",
       "    .dataframe tbody tr th:only-of-type {\n",
       "        vertical-align: middle;\n",
       "    }\n",
       "\n",
       "    .dataframe tbody tr th {\n",
       "        vertical-align: top;\n",
       "    }\n",
       "\n",
       "    .dataframe thead th {\n",
       "        text-align: right;\n",
       "    }\n",
       "</style>\n",
       "<table border=\"1\" class=\"dataframe\">\n",
       "  <thead>\n",
       "    <tr style=\"text-align: right;\">\n",
       "      <th>isrc</th>\n",
       "      <th>AEA040700577</th>\n",
       "      <th>AEA040700578</th>\n",
       "      <th>AEA040700579</th>\n",
       "      <th>AEA040700580</th>\n",
       "      <th>AEA040700581</th>\n",
       "    </tr>\n",
       "  </thead>\n",
       "  <tbody>\n",
       "    <tr>\n",
       "      <th>genres</th>\n",
       "      <td>['j-pop', 'jazz', 'pop']</td>\n",
       "      <td>['groove', 'j-pop', 'jazz', 'pop']</td>\n",
       "      <td>['groove', 'j-pop', 'jazz', 'pop']</td>\n",
       "      <td>['groove', 'j-pop', 'jazz', 'pop']</td>\n",
       "      <td>['groove', 'j-pop', 'jazz', 'pop', 'pop']</td>\n",
       "    </tr>\n",
       "    <tr>\n",
       "      <th>name</th>\n",
       "      <td>Bala Wala Chi</td>\n",
       "      <td>Houdou Nisbi</td>\n",
       "      <td>Nafs Al Sheghlat</td>\n",
       "      <td>Yalla Kichou Barra</td>\n",
       "      <td>Ma Tfel</td>\n",
       "    </tr>\n",
       "    <tr>\n",
       "      <th>artists</th>\n",
       "      <td>Ziad Rahbani</td>\n",
       "      <td>Ziad Rahbani</td>\n",
       "      <td>Ziad Rahbani</td>\n",
       "      <td>Ziad Rahbani</td>\n",
       "      <td>Ziad Rahbani</td>\n",
       "    </tr>\n",
       "    <tr>\n",
       "      <th>album</th>\n",
       "      <td>Houdou Nisbi</td>\n",
       "      <td>Houdou Nisbi</td>\n",
       "      <td>Houdou Nisbi</td>\n",
       "      <td>Houdou Nisbi</td>\n",
       "      <td>Houdou Nisbi</td>\n",
       "    </tr>\n",
       "    <tr>\n",
       "      <th>release_date</th>\n",
       "      <td>1985-01-01</td>\n",
       "      <td>1985-01-01</td>\n",
       "      <td>1985-01-01</td>\n",
       "      <td>1985-01-01</td>\n",
       "      <td>1985-01-01</td>\n",
       "    </tr>\n",
       "    <tr>\n",
       "      <th>release_date_precision</th>\n",
       "      <td>day</td>\n",
       "      <td>day</td>\n",
       "      <td>day</td>\n",
       "      <td>day</td>\n",
       "      <td>day</td>\n",
       "    </tr>\n",
       "    <tr>\n",
       "      <th>uri</th>\n",
       "      <td>spotify:track:0fylgLeNObjVvwhd8caHqX</td>\n",
       "      <td>spotify:track:0yMFpBNCYXqwwOAg23bC8a</td>\n",
       "      <td>spotify:track:6G8l1kI8QlTD0UDIak5F8H</td>\n",
       "      <td>spotify:track:21g76Lq5Jg4QvfTDvi4PlH</td>\n",
       "      <td>spotify:track:0pKxrkFh8fxPKpkO29MYmi</td>\n",
       "    </tr>\n",
       "    <tr>\n",
       "      <th>spotify_id</th>\n",
       "      <td>0fylgLeNObjVvwhd8caHqX</td>\n",
       "      <td>0yMFpBNCYXqwwOAg23bC8a</td>\n",
       "      <td>6G8l1kI8QlTD0UDIak5F8H</td>\n",
       "      <td>21g76Lq5Jg4QvfTDvi4PlH</td>\n",
       "      <td>0pKxrkFh8fxPKpkO29MYmi</td>\n",
       "    </tr>\n",
       "    <tr>\n",
       "      <th>chart_power</th>\n",
       "      <td>NaN</td>\n",
       "      <td>NaN</td>\n",
       "      <td>NaN</td>\n",
       "      <td>NaN</td>\n",
       "      <td>NaN</td>\n",
       "    </tr>\n",
       "    <tr>\n",
       "      <th>popularity</th>\n",
       "      <td>41</td>\n",
       "      <td>31</td>\n",
       "      <td>21</td>\n",
       "      <td>17</td>\n",
       "      <td>31</td>\n",
       "    </tr>\n",
       "    <tr>\n",
       "      <th>danceability</th>\n",
       "      <td>0.291</td>\n",
       "      <td>0.587</td>\n",
       "      <td>0.496</td>\n",
       "      <td>0.676</td>\n",
       "      <td>0.474</td>\n",
       "    </tr>\n",
       "    <tr>\n",
       "      <th>energy</th>\n",
       "      <td>0.231</td>\n",
       "      <td>0.184</td>\n",
       "      <td>0.264</td>\n",
       "      <td>0.43</td>\n",
       "      <td>0.428</td>\n",
       "    </tr>\n",
       "    <tr>\n",
       "      <th>key</th>\n",
       "      <td>9</td>\n",
       "      <td>7</td>\n",
       "      <td>3</td>\n",
       "      <td>5</td>\n",
       "      <td>5</td>\n",
       "    </tr>\n",
       "    <tr>\n",
       "      <th>loudness</th>\n",
       "      <td>-18.808</td>\n",
       "      <td>-18.954</td>\n",
       "      <td>-21.179</td>\n",
       "      <td>-18.456</td>\n",
       "      <td>-18.178</td>\n",
       "    </tr>\n",
       "    <tr>\n",
       "      <th>mode</th>\n",
       "      <td>1</td>\n",
       "      <td>0</td>\n",
       "      <td>1</td>\n",
       "      <td>1</td>\n",
       "      <td>0</td>\n",
       "    </tr>\n",
       "    <tr>\n",
       "      <th>speechiness</th>\n",
       "      <td>0.0418</td>\n",
       "      <td>0.0308</td>\n",
       "      <td>0.0449</td>\n",
       "      <td>0.0341</td>\n",
       "      <td>0.0436</td>\n",
       "    </tr>\n",
       "    <tr>\n",
       "      <th>acousticness</th>\n",
       "      <td>0.952</td>\n",
       "      <td>0.814</td>\n",
       "      <td>0.954</td>\n",
       "      <td>0.43</td>\n",
       "      <td>0.749</td>\n",
       "    </tr>\n",
       "    <tr>\n",
       "      <th>instrumentalness</th>\n",
       "      <td>0.382</td>\n",
       "      <td>0.951</td>\n",
       "      <td>0.887</td>\n",
       "      <td>0.838</td>\n",
       "      <td>0.941</td>\n",
       "    </tr>\n",
       "    <tr>\n",
       "      <th>liveness</th>\n",
       "      <td>0.237</td>\n",
       "      <td>0.0827</td>\n",
       "      <td>0.271</td>\n",
       "      <td>0.124</td>\n",
       "      <td>0.115</td>\n",
       "    </tr>\n",
       "    <tr>\n",
       "      <th>valence</th>\n",
       "      <td>0.371</td>\n",
       "      <td>0.495</td>\n",
       "      <td>0.304</td>\n",
       "      <td>0.656</td>\n",
       "      <td>0.752</td>\n",
       "    </tr>\n",
       "    <tr>\n",
       "      <th>tempo</th>\n",
       "      <td>157.168</td>\n",
       "      <td>128.386</td>\n",
       "      <td>82.63</td>\n",
       "      <td>102.485</td>\n",
       "      <td>150.656</td>\n",
       "    </tr>\n",
       "    <tr>\n",
       "      <th>duration_ms</th>\n",
       "      <td>207560</td>\n",
       "      <td>272240</td>\n",
       "      <td>160093</td>\n",
       "      <td>155667</td>\n",
       "      <td>265173</td>\n",
       "    </tr>\n",
       "    <tr>\n",
       "      <th>time_signature</th>\n",
       "      <td>3</td>\n",
       "      <td>3</td>\n",
       "      <td>4</td>\n",
       "      <td>4</td>\n",
       "      <td>4</td>\n",
       "    </tr>\n",
       "    <tr>\n",
       "      <th>year</th>\n",
       "      <td>1985</td>\n",
       "      <td>1985</td>\n",
       "      <td>1985</td>\n",
       "      <td>1985</td>\n",
       "      <td>1985</td>\n",
       "    </tr>\n",
       "  </tbody>\n",
       "</table>\n",
       "</div>"
      ],
      "text/plain": [
       "isrc                                            AEA040700577  \\\n",
       "genres                              ['j-pop', 'jazz', 'pop']   \n",
       "name                                           Bala Wala Chi   \n",
       "artists                                         Ziad Rahbani   \n",
       "album                                           Houdou Nisbi   \n",
       "release_date                                      1985-01-01   \n",
       "release_date_precision                                   day   \n",
       "uri                     spotify:track:0fylgLeNObjVvwhd8caHqX   \n",
       "spotify_id                            0fylgLeNObjVvwhd8caHqX   \n",
       "chart_power                                              NaN   \n",
       "popularity                                                41   \n",
       "danceability                                           0.291   \n",
       "energy                                                 0.231   \n",
       "key                                                        9   \n",
       "loudness                                             -18.808   \n",
       "mode                                                       1   \n",
       "speechiness                                           0.0418   \n",
       "acousticness                                           0.952   \n",
       "instrumentalness                                       0.382   \n",
       "liveness                                               0.237   \n",
       "valence                                                0.371   \n",
       "tempo                                                157.168   \n",
       "duration_ms                                           207560   \n",
       "time_signature                                             3   \n",
       "year                                                    1985   \n",
       "\n",
       "isrc                                            AEA040700578  \\\n",
       "genres                    ['groove', 'j-pop', 'jazz', 'pop']   \n",
       "name                                            Houdou Nisbi   \n",
       "artists                                         Ziad Rahbani   \n",
       "album                                           Houdou Nisbi   \n",
       "release_date                                      1985-01-01   \n",
       "release_date_precision                                   day   \n",
       "uri                     spotify:track:0yMFpBNCYXqwwOAg23bC8a   \n",
       "spotify_id                            0yMFpBNCYXqwwOAg23bC8a   \n",
       "chart_power                                              NaN   \n",
       "popularity                                                31   \n",
       "danceability                                           0.587   \n",
       "energy                                                 0.184   \n",
       "key                                                        7   \n",
       "loudness                                             -18.954   \n",
       "mode                                                       0   \n",
       "speechiness                                           0.0308   \n",
       "acousticness                                           0.814   \n",
       "instrumentalness                                       0.951   \n",
       "liveness                                              0.0827   \n",
       "valence                                                0.495   \n",
       "tempo                                                128.386   \n",
       "duration_ms                                           272240   \n",
       "time_signature                                             3   \n",
       "year                                                    1985   \n",
       "\n",
       "isrc                                            AEA040700579  \\\n",
       "genres                    ['groove', 'j-pop', 'jazz', 'pop']   \n",
       "name                                        Nafs Al Sheghlat   \n",
       "artists                                         Ziad Rahbani   \n",
       "album                                           Houdou Nisbi   \n",
       "release_date                                      1985-01-01   \n",
       "release_date_precision                                   day   \n",
       "uri                     spotify:track:6G8l1kI8QlTD0UDIak5F8H   \n",
       "spotify_id                            6G8l1kI8QlTD0UDIak5F8H   \n",
       "chart_power                                              NaN   \n",
       "popularity                                                21   \n",
       "danceability                                           0.496   \n",
       "energy                                                 0.264   \n",
       "key                                                        3   \n",
       "loudness                                             -21.179   \n",
       "mode                                                       1   \n",
       "speechiness                                           0.0449   \n",
       "acousticness                                           0.954   \n",
       "instrumentalness                                       0.887   \n",
       "liveness                                               0.271   \n",
       "valence                                                0.304   \n",
       "tempo                                                  82.63   \n",
       "duration_ms                                           160093   \n",
       "time_signature                                             4   \n",
       "year                                                    1985   \n",
       "\n",
       "isrc                                            AEA040700580  \\\n",
       "genres                    ['groove', 'j-pop', 'jazz', 'pop']   \n",
       "name                                      Yalla Kichou Barra   \n",
       "artists                                         Ziad Rahbani   \n",
       "album                                           Houdou Nisbi   \n",
       "release_date                                      1985-01-01   \n",
       "release_date_precision                                   day   \n",
       "uri                     spotify:track:21g76Lq5Jg4QvfTDvi4PlH   \n",
       "spotify_id                            21g76Lq5Jg4QvfTDvi4PlH   \n",
       "chart_power                                              NaN   \n",
       "popularity                                                17   \n",
       "danceability                                           0.676   \n",
       "energy                                                  0.43   \n",
       "key                                                        5   \n",
       "loudness                                             -18.456   \n",
       "mode                                                       1   \n",
       "speechiness                                           0.0341   \n",
       "acousticness                                            0.43   \n",
       "instrumentalness                                       0.838   \n",
       "liveness                                               0.124   \n",
       "valence                                                0.656   \n",
       "tempo                                                102.485   \n",
       "duration_ms                                           155667   \n",
       "time_signature                                             4   \n",
       "year                                                    1985   \n",
       "\n",
       "isrc                                                 AEA040700581  \n",
       "genres                  ['groove', 'j-pop', 'jazz', 'pop', 'pop']  \n",
       "name                                                      Ma Tfel  \n",
       "artists                                              Ziad Rahbani  \n",
       "album                                                Houdou Nisbi  \n",
       "release_date                                           1985-01-01  \n",
       "release_date_precision                                        day  \n",
       "uri                          spotify:track:0pKxrkFh8fxPKpkO29MYmi  \n",
       "spotify_id                                 0pKxrkFh8fxPKpkO29MYmi  \n",
       "chart_power                                                   NaN  \n",
       "popularity                                                     31  \n",
       "danceability                                                0.474  \n",
       "energy                                                      0.428  \n",
       "key                                                             5  \n",
       "loudness                                                  -18.178  \n",
       "mode                                                            0  \n",
       "speechiness                                                0.0436  \n",
       "acousticness                                                0.749  \n",
       "instrumentalness                                            0.941  \n",
       "liveness                                                    0.115  \n",
       "valence                                                     0.752  \n",
       "tempo                                                     150.656  \n",
       "duration_ms                                                265173  \n",
       "time_signature                                                  4  \n",
       "year                                                         1985  "
      ]
     },
     "execution_count": 16,
     "metadata": {},
     "output_type": "execute_result"
    }
   ],
   "source": [
    "by_isrc.head().T"
   ]
  },
  {
   "attachments": {},
   "cell_type": "markdown",
   "metadata": {},
   "source": [
    "Try different distance measures / similarity functions."
   ]
  },
  {
   "cell_type": "code",
   "execution_count": 87,
   "metadata": {},
   "outputs": [],
   "source": [
    "def rec_question(by_isrc, ids, df_help):\n",
    "    i = input('Which song did you mean? (Enter the index of the song)')\n",
    "    if (int(i)<0) or (int(i)>(len(ids)-1)):\n",
    "        print('False input, try again!')\n",
    "        return rec_question(by_isrc, ids, df_help)\n",
    "    else:\n",
    "        name = df_help.loc[int(i), 'name']\n",
    "        artists = df_help.loc[int(i), 'artists']\n",
    "        print(f'You selected {name} by {artists}.')\n",
    "        return df_help.loc[int(i), 'isrc']"
   ]
  },
  {
   "cell_type": "code",
   "execution_count": 107,
   "metadata": {},
   "outputs": [],
   "source": [
    "def recommend_tracks_kernel(track: str, recommender_function, distance: bool = False):\n",
    "    '''\n",
    "    Recommends tracks that are similar to the provided track.\n",
    "\n",
    "    Parameter\n",
    "    ---------\n",
    "    track: str\n",
    "        Provided track\n",
    "\n",
    "    df: pd.DataFrame\n",
    "        DataFrame used for the Recommendation\n",
    "    \n",
    "    '''\n",
    "    global ct_merged\n",
    "\n",
    "    global by_isrc\n",
    "\n",
    "    ids = list(by_isrc[by_isrc.name == track].index)\n",
    "    index = ids[0]\n",
    "    if len(ids) == 0:\n",
    "        print('No song with this name available!')\n",
    "    elif len(ids) > 1:\n",
    "        print('There are multiple songs with this name:')\n",
    "        df_help = by_isrc.loc[ids].reset_index()\n",
    "        display(df_help)\n",
    "        index = rec_question(by_isrc, ids, df_help)\n",
    "\n",
    "    if (len(ids)):\n",
    "        kernel_array = recommender_function(ct_merged, ct_merged[ct_merged.index == str(index)])\n",
    "        kernel_df = pd.DataFrame(kernel_array, index=ct_merged.index)\n",
    "\n",
    "        kernel_df = kernel_df.rename(columns={0: 'Score'})\n",
    "        kernel_df = kernel_df.merge(by_isrc, how='left', on='isrc')\n",
    "        #display(kernel_df.sort_values(by='Score', ascending=distance).head(6))\n",
    "        return kernel_df.sort_values(by='Score', ascending=distance)\n",
    "    else:\n",
    "        print('Error')\n"
   ]
  },
  {
   "cell_type": "code",
   "execution_count": 108,
   "metadata": {},
   "outputs": [],
   "source": [
    "def try_functions(track):\n",
    "    kernel_functions = [cosine_similarity]\n",
    "    distance_functions = [euclidean_distances, manhattan_distances]\n",
    "    result = {}\n",
    "    for kernel_function in kernel_functions:\n",
    "        display(kernel_function.__name__)\n",
    "        result[kernel_function.__name__] = recommend_tracks_kernel(track, kernel_function, False)\n",
    "\n",
    "    for distance_function in distance_functions:\n",
    "        display(distance_function.__name__)\n",
    "        result[distance_function.__name__] = recommend_tracks_kernel(track, distance_function, True)\n",
    "\n",
    "    return result"
   ]
  },
  {
   "cell_type": "code",
   "execution_count": 199,
   "metadata": {},
   "outputs": [],
   "source": [
    "def create_visualizations(data, scale=False):\n",
    "    fig = go.Figure()\n",
    "    count = 0\n",
    "    if scale:\n",
    "        scaleableFeatures = ['danceability', 'energy',\n",
    "                           'key', 'loudness', 'mode', 'speechiness',\n",
    "                           'acousticness', 'instrumentalness', 'liveness',\n",
    "                           'valence', 'time_signature', 'tempo', 'danceability']\n",
    "        data_scale = data.copy()\n",
    "        data_scale = data[['danceability', 'energy',\n",
    "                           'key', 'loudness', 'mode', 'speechiness',\n",
    "                           'acousticness', 'instrumentalness', 'liveness',\n",
    "                           'valence', 'time_signature', 'tempo', 'danceability']]\n",
    "        scaler = MinMaxScaler()\n",
    "        data_scale = pd.DataFrame(scaler.fit_transform(data_scale), columns=data_scale.columns, index=data_scale.index)\n",
    "        data.drop(columns=scaleableFeatures, inplace=True)\n",
    "        data = pd.concat([data,data_scale], axis=1)\n",
    "    for index, song in data.iterrows():\n",
    "        count += 1\n",
    "        if (count >= 5) and (count <=49):\n",
    "            continue\n",
    "        if count == 51:\n",
    "            break\n",
    "        df_radar = pd.DataFrame(song[['danceability', 'energy',\n",
    "                       'key', 'loudness', 'mode', 'speechiness',\n",
    "                       'acousticness', 'instrumentalness', 'liveness',\n",
    "                       'valence', 'time_signature', 'tempo', 'danceability']])\n",
    "        df_radar.reset_index(inplace=True)\n",
    "        df_radar.rename(columns={\"index\":\"feature\"}, inplace=True)\n",
    "\n",
    "        fig.add_trace(go.Scatterpolar(\n",
    "            r = df_radar[index],\n",
    "            theta = df_radar['feature'],\n",
    "            mode = 'lines',\n",
    "            fill = 'none',\n",
    "            name = str(count) + '. ' + song['name']\n",
    "        ))\n",
    "\n",
    "    fig.update_layout(\n",
    "        height = 1000\n",
    "    )\n",
    "    fig.show()\n",
    "    \n",
    "\n",
    "    \n",
    "def recommend(track):\n",
    "    data = recommend_tracks_kernel(track, euclidean_distances, True)\n",
    "    display(data[:5])\n",
    "    create_visualizations(data, True)"
   ]
  },
  {
   "cell_type": "code",
   "execution_count": 200,
   "metadata": {},
   "outputs": [
    {
     "name": "stdout",
     "output_type": "stream",
     "text": [
      "There are multiple songs with this name:\n"
     ]
    },
    {
     "data": {
      "text/html": [
       "<div>\n",
       "<style scoped>\n",
       "    .dataframe tbody tr th:only-of-type {\n",
       "        vertical-align: middle;\n",
       "    }\n",
       "\n",
       "    .dataframe tbody tr th {\n",
       "        vertical-align: top;\n",
       "    }\n",
       "\n",
       "    .dataframe thead th {\n",
       "        text-align: right;\n",
       "    }\n",
       "</style>\n",
       "<table border=\"1\" class=\"dataframe\">\n",
       "  <thead>\n",
       "    <tr style=\"text-align: right;\">\n",
       "      <th></th>\n",
       "      <th>isrc</th>\n",
       "      <th>genres</th>\n",
       "      <th>name</th>\n",
       "      <th>artists</th>\n",
       "      <th>album</th>\n",
       "      <th>release_date</th>\n",
       "      <th>release_date_precision</th>\n",
       "      <th>uri</th>\n",
       "      <th>spotify_id</th>\n",
       "      <th>chart_power</th>\n",
       "      <th>...</th>\n",
       "      <th>mode</th>\n",
       "      <th>speechiness</th>\n",
       "      <th>acousticness</th>\n",
       "      <th>instrumentalness</th>\n",
       "      <th>liveness</th>\n",
       "      <th>valence</th>\n",
       "      <th>tempo</th>\n",
       "      <th>duration_ms</th>\n",
       "      <th>time_signature</th>\n",
       "      <th>year</th>\n",
       "    </tr>\n",
       "  </thead>\n",
       "  <tbody>\n",
       "    <tr>\n",
       "      <th>0</th>\n",
       "      <td>DEEF21902041</td>\n",
       "      <td>['electro', 'jazz']</td>\n",
       "      <td>Beat It</td>\n",
       "      <td>The Revolution</td>\n",
       "      <td>We Made the Night</td>\n",
       "      <td>1988</td>\n",
       "      <td>year</td>\n",
       "      <td>spotify:track:4IRhHVeRJIrZAGSrKKChW8</td>\n",
       "      <td>4IRhHVeRJIrZAGSrKKChW8</td>\n",
       "      <td>NaN</td>\n",
       "      <td>...</td>\n",
       "      <td>1</td>\n",
       "      <td>0.0274</td>\n",
       "      <td>0.4980</td>\n",
       "      <td>0.911000</td>\n",
       "      <td>0.3400</td>\n",
       "      <td>0.823</td>\n",
       "      <td>120.099</td>\n",
       "      <td>206472</td>\n",
       "      <td>4</td>\n",
       "      <td>1988</td>\n",
       "    </tr>\n",
       "    <tr>\n",
       "      <th>1</th>\n",
       "      <td>GBBZV8504790</td>\n",
       "      <td>['dub', 'reggae']</td>\n",
       "      <td>Beat It</td>\n",
       "      <td>Yellowman</td>\n",
       "      <td>Galong Galong Galong</td>\n",
       "      <td>1985</td>\n",
       "      <td>year</td>\n",
       "      <td>spotify:track:0OjIMaOx6Ct8qWwyglHnkB</td>\n",
       "      <td>0OjIMaOx6Ct8qWwyglHnkB</td>\n",
       "      <td>NaN</td>\n",
       "      <td>...</td>\n",
       "      <td>1</td>\n",
       "      <td>0.1920</td>\n",
       "      <td>0.1780</td>\n",
       "      <td>0.000000</td>\n",
       "      <td>0.0578</td>\n",
       "      <td>0.879</td>\n",
       "      <td>89.961</td>\n",
       "      <td>211693</td>\n",
       "      <td>4</td>\n",
       "      <td>1985</td>\n",
       "    </tr>\n",
       "    <tr>\n",
       "      <th>2</th>\n",
       "      <td>USSM19902990</td>\n",
       "      <td>['pop']</td>\n",
       "      <td>Beat It</td>\n",
       "      <td>Michael Jackson</td>\n",
       "      <td>Thriller</td>\n",
       "      <td>1982-11-30</td>\n",
       "      <td>day</td>\n",
       "      <td>spotify:track:3BovdzfaX4jb5KFQwoPfAw</td>\n",
       "      <td>3BovdzfaX4jb5KFQwoPfAw</td>\n",
       "      <td>1411.0</td>\n",
       "      <td>...</td>\n",
       "      <td>0</td>\n",
       "      <td>0.0473</td>\n",
       "      <td>0.0242</td>\n",
       "      <td>0.000353</td>\n",
       "      <td>0.2340</td>\n",
       "      <td>0.901</td>\n",
       "      <td>138.728</td>\n",
       "      <td>258400</td>\n",
       "      <td>4</td>\n",
       "      <td>1982</td>\n",
       "    </tr>\n",
       "  </tbody>\n",
       "</table>\n",
       "<p>3 rows × 25 columns</p>\n",
       "</div>"
      ],
      "text/plain": [
       "           isrc               genres     name          artists  \\\n",
       "0  DEEF21902041  ['electro', 'jazz']  Beat It   The Revolution   \n",
       "1  GBBZV8504790    ['dub', 'reggae']  Beat It        Yellowman   \n",
       "2  USSM19902990              ['pop']  Beat It  Michael Jackson   \n",
       "\n",
       "                  album release_date release_date_precision  \\\n",
       "0     We Made the Night         1988                   year   \n",
       "1  Galong Galong Galong         1985                   year   \n",
       "2              Thriller   1982-11-30                    day   \n",
       "\n",
       "                                    uri              spotify_id  chart_power  \\\n",
       "0  spotify:track:4IRhHVeRJIrZAGSrKKChW8  4IRhHVeRJIrZAGSrKKChW8          NaN   \n",
       "1  spotify:track:0OjIMaOx6Ct8qWwyglHnkB  0OjIMaOx6Ct8qWwyglHnkB          NaN   \n",
       "2  spotify:track:3BovdzfaX4jb5KFQwoPfAw  3BovdzfaX4jb5KFQwoPfAw       1411.0   \n",
       "\n",
       "   ...  mode  speechiness  acousticness  instrumentalness  liveness  valence  \\\n",
       "0  ...     1       0.0274        0.4980          0.911000    0.3400    0.823   \n",
       "1  ...     1       0.1920        0.1780          0.000000    0.0578    0.879   \n",
       "2  ...     0       0.0473        0.0242          0.000353    0.2340    0.901   \n",
       "\n",
       "     tempo  duration_ms  time_signature  year  \n",
       "0  120.099       206472               4  1988  \n",
       "1   89.961       211693               4  1985  \n",
       "2  138.728       258400               4  1982  \n",
       "\n",
       "[3 rows x 25 columns]"
      ]
     },
     "metadata": {},
     "output_type": "display_data"
    },
    {
     "name": "stdin",
     "output_type": "stream",
     "text": [
      "Which song did you mean? (Enter the index of the song) 2\n"
     ]
    },
    {
     "name": "stdout",
     "output_type": "stream",
     "text": [
      "You selected Beat It by Michael Jackson.\n"
     ]
    },
    {
     "data": {
      "text/html": [
       "<div>\n",
       "<style scoped>\n",
       "    .dataframe tbody tr th:only-of-type {\n",
       "        vertical-align: middle;\n",
       "    }\n",
       "\n",
       "    .dataframe tbody tr th {\n",
       "        vertical-align: top;\n",
       "    }\n",
       "\n",
       "    .dataframe thead th {\n",
       "        text-align: right;\n",
       "    }\n",
       "</style>\n",
       "<table border=\"1\" class=\"dataframe\">\n",
       "  <thead>\n",
       "    <tr style=\"text-align: right;\">\n",
       "      <th></th>\n",
       "      <th>Score</th>\n",
       "      <th>genres</th>\n",
       "      <th>name</th>\n",
       "      <th>artists</th>\n",
       "      <th>album</th>\n",
       "      <th>release_date</th>\n",
       "      <th>release_date_precision</th>\n",
       "      <th>uri</th>\n",
       "      <th>spotify_id</th>\n",
       "      <th>chart_power</th>\n",
       "      <th>...</th>\n",
       "      <th>mode</th>\n",
       "      <th>speechiness</th>\n",
       "      <th>acousticness</th>\n",
       "      <th>instrumentalness</th>\n",
       "      <th>liveness</th>\n",
       "      <th>valence</th>\n",
       "      <th>tempo</th>\n",
       "      <th>duration_ms</th>\n",
       "      <th>time_signature</th>\n",
       "      <th>year</th>\n",
       "    </tr>\n",
       "    <tr>\n",
       "      <th>isrc</th>\n",
       "      <th></th>\n",
       "      <th></th>\n",
       "      <th></th>\n",
       "      <th></th>\n",
       "      <th></th>\n",
       "      <th></th>\n",
       "      <th></th>\n",
       "      <th></th>\n",
       "      <th></th>\n",
       "      <th></th>\n",
       "      <th></th>\n",
       "      <th></th>\n",
       "      <th></th>\n",
       "      <th></th>\n",
       "      <th></th>\n",
       "      <th></th>\n",
       "      <th></th>\n",
       "      <th></th>\n",
       "      <th></th>\n",
       "      <th></th>\n",
       "      <th></th>\n",
       "    </tr>\n",
       "  </thead>\n",
       "  <tbody>\n",
       "    <tr>\n",
       "      <th>USSM19902990</th>\n",
       "      <td>4.214685e-08</td>\n",
       "      <td>['pop']</td>\n",
       "      <td>Beat It</td>\n",
       "      <td>Michael Jackson</td>\n",
       "      <td>Thriller</td>\n",
       "      <td>1982-11-30</td>\n",
       "      <td>day</td>\n",
       "      <td>spotify:track:3BovdzfaX4jb5KFQwoPfAw</td>\n",
       "      <td>3BovdzfaX4jb5KFQwoPfAw</td>\n",
       "      <td>1411.0</td>\n",
       "      <td>...</td>\n",
       "      <td>0</td>\n",
       "      <td>0.0473</td>\n",
       "      <td>0.02420</td>\n",
       "      <td>0.000353</td>\n",
       "      <td>0.234</td>\n",
       "      <td>0.901</td>\n",
       "      <td>138.728</td>\n",
       "      <td>258400</td>\n",
       "      <td>4</td>\n",
       "      <td>1982</td>\n",
       "    </tr>\n",
       "    <tr>\n",
       "      <th>ISA109205206</th>\n",
       "      <td>1.724493e-01</td>\n",
       "      <td>['pop']</td>\n",
       "      <td>Nú er úti veður vott</td>\n",
       "      <td>Katla María,Pálmi Gunnarsson</td>\n",
       "      <td>Katla og Pálmi</td>\n",
       "      <td>1982</td>\n",
       "      <td>year</td>\n",
       "      <td>spotify:track:2NC6gG3F0K2TLYlyXgCAFA</td>\n",
       "      <td>2NC6gG3F0K2TLYlyXgCAFA</td>\n",
       "      <td>NaN</td>\n",
       "      <td>...</td>\n",
       "      <td>0</td>\n",
       "      <td>0.0279</td>\n",
       "      <td>0.00674</td>\n",
       "      <td>0.000429</td>\n",
       "      <td>0.172</td>\n",
       "      <td>0.872</td>\n",
       "      <td>138.130</td>\n",
       "      <td>158174</td>\n",
       "      <td>4</td>\n",
       "      <td>1982</td>\n",
       "    </tr>\n",
       "    <tr>\n",
       "      <th>FIFPS8300005</th>\n",
       "      <td>1.766179e-01</td>\n",
       "      <td>['pop']</td>\n",
       "      <td>Näillä eväillä</td>\n",
       "      <td>Matti Esko</td>\n",
       "      <td>Tahdon olla luonas</td>\n",
       "      <td>1983</td>\n",
       "      <td>year</td>\n",
       "      <td>spotify:track:7i7kCtlwgLpByXthzRUrID</td>\n",
       "      <td>7i7kCtlwgLpByXthzRUrID</td>\n",
       "      <td>NaN</td>\n",
       "      <td>...</td>\n",
       "      <td>0</td>\n",
       "      <td>0.0283</td>\n",
       "      <td>0.07890</td>\n",
       "      <td>0.000000</td>\n",
       "      <td>0.234</td>\n",
       "      <td>0.935</td>\n",
       "      <td>121.526</td>\n",
       "      <td>188333</td>\n",
       "      <td>4</td>\n",
       "      <td>1983</td>\n",
       "    </tr>\n",
       "    <tr>\n",
       "      <th>GBAYK0500077</th>\n",
       "      <td>1.799912e-01</td>\n",
       "      <td>['pop']</td>\n",
       "      <td>I'm Not a Loser - 2006 Remaster</td>\n",
       "      <td>Judie Tzuke</td>\n",
       "      <td>Shoot the Moon (2006 Remaster)</td>\n",
       "      <td>1982-04-01</td>\n",
       "      <td>day</td>\n",
       "      <td>spotify:track:1th9UUf0658GCDXWvL5Fwv</td>\n",
       "      <td>1th9UUf0658GCDXWvL5Fwv</td>\n",
       "      <td>NaN</td>\n",
       "      <td>...</td>\n",
       "      <td>0</td>\n",
       "      <td>0.0426</td>\n",
       "      <td>0.08480</td>\n",
       "      <td>0.000000</td>\n",
       "      <td>0.139</td>\n",
       "      <td>0.833</td>\n",
       "      <td>126.573</td>\n",
       "      <td>209533</td>\n",
       "      <td>4</td>\n",
       "      <td>1982</td>\n",
       "    </tr>\n",
       "    <tr>\n",
       "      <th>USAT20621282</th>\n",
       "      <td>1.805117e-01</td>\n",
       "      <td>['pop']</td>\n",
       "      <td>I Can't Get Enough</td>\n",
       "      <td>Modern Romance</td>\n",
       "      <td>Adventures in Clubland (Expanded)</td>\n",
       "      <td>1981-01-01</td>\n",
       "      <td>day</td>\n",
       "      <td>spotify:track:77Zg8C3gwqpGu0Go51uPiV</td>\n",
       "      <td>77Zg8C3gwqpGu0Go51uPiV</td>\n",
       "      <td>NaN</td>\n",
       "      <td>...</td>\n",
       "      <td>0</td>\n",
       "      <td>0.0593</td>\n",
       "      <td>0.07830</td>\n",
       "      <td>0.004780</td>\n",
       "      <td>0.270</td>\n",
       "      <td>0.922</td>\n",
       "      <td>121.232</td>\n",
       "      <td>262067</td>\n",
       "      <td>4</td>\n",
       "      <td>1981</td>\n",
       "    </tr>\n",
       "  </tbody>\n",
       "</table>\n",
       "<p>5 rows × 25 columns</p>\n",
       "</div>"
      ],
      "text/plain": [
       "                     Score   genres                             name  \\\n",
       "isrc                                                                   \n",
       "USSM19902990  4.214685e-08  ['pop']                          Beat It   \n",
       "ISA109205206  1.724493e-01  ['pop']             Nú er úti veður vott   \n",
       "FIFPS8300005  1.766179e-01  ['pop']                   Näillä eväillä   \n",
       "GBAYK0500077  1.799912e-01  ['pop']  I'm Not a Loser - 2006 Remaster   \n",
       "USAT20621282  1.805117e-01  ['pop']               I Can't Get Enough   \n",
       "\n",
       "                                   artists                              album  \\\n",
       "isrc                                                                            \n",
       "USSM19902990               Michael Jackson                           Thriller   \n",
       "ISA109205206  Katla María,Pálmi Gunnarsson                     Katla og Pálmi   \n",
       "FIFPS8300005                    Matti Esko                 Tahdon olla luonas   \n",
       "GBAYK0500077                   Judie Tzuke     Shoot the Moon (2006 Remaster)   \n",
       "USAT20621282                Modern Romance  Adventures in Clubland (Expanded)   \n",
       "\n",
       "             release_date release_date_precision  \\\n",
       "isrc                                               \n",
       "USSM19902990   1982-11-30                    day   \n",
       "ISA109205206         1982                   year   \n",
       "FIFPS8300005         1983                   year   \n",
       "GBAYK0500077   1982-04-01                    day   \n",
       "USAT20621282   1981-01-01                    day   \n",
       "\n",
       "                                               uri              spotify_id  \\\n",
       "isrc                                                                         \n",
       "USSM19902990  spotify:track:3BovdzfaX4jb5KFQwoPfAw  3BovdzfaX4jb5KFQwoPfAw   \n",
       "ISA109205206  spotify:track:2NC6gG3F0K2TLYlyXgCAFA  2NC6gG3F0K2TLYlyXgCAFA   \n",
       "FIFPS8300005  spotify:track:7i7kCtlwgLpByXthzRUrID  7i7kCtlwgLpByXthzRUrID   \n",
       "GBAYK0500077  spotify:track:1th9UUf0658GCDXWvL5Fwv  1th9UUf0658GCDXWvL5Fwv   \n",
       "USAT20621282  spotify:track:77Zg8C3gwqpGu0Go51uPiV  77Zg8C3gwqpGu0Go51uPiV   \n",
       "\n",
       "              chart_power  ...  mode  speechiness  acousticness  \\\n",
       "isrc                       ...                                    \n",
       "USSM19902990       1411.0  ...     0       0.0473       0.02420   \n",
       "ISA109205206          NaN  ...     0       0.0279       0.00674   \n",
       "FIFPS8300005          NaN  ...     0       0.0283       0.07890   \n",
       "GBAYK0500077          NaN  ...     0       0.0426       0.08480   \n",
       "USAT20621282          NaN  ...     0       0.0593       0.07830   \n",
       "\n",
       "              instrumentalness  liveness  valence    tempo  duration_ms  \\\n",
       "isrc                                                                      \n",
       "USSM19902990          0.000353     0.234    0.901  138.728       258400   \n",
       "ISA109205206          0.000429     0.172    0.872  138.130       158174   \n",
       "FIFPS8300005          0.000000     0.234    0.935  121.526       188333   \n",
       "GBAYK0500077          0.000000     0.139    0.833  126.573       209533   \n",
       "USAT20621282          0.004780     0.270    0.922  121.232       262067   \n",
       "\n",
       "              time_signature  year  \n",
       "isrc                                \n",
       "USSM19902990               4  1982  \n",
       "ISA109205206               4  1982  \n",
       "FIFPS8300005               4  1983  \n",
       "GBAYK0500077               4  1982  \n",
       "USAT20621282               4  1981  \n",
       "\n",
       "[5 rows x 25 columns]"
      ]
     },
     "metadata": {},
     "output_type": "display_data"
    },
    {
     "data": {
      "application/vnd.plotly.v1+json": {
       "config": {
        "plotlyServerURL": "https://plot.ly"
       },
       "data": [
        {
         "fill": "none",
         "mode": "lines",
         "name": "1. Beat It",
         "r": [
          0.7870182555780934,
          0.7870182555780934,
          0.711,
          0.2727272727272727,
          0.7940435646374342,
          0,
          0.04886363636363637,
          0.024297188755020082,
          0.000353,
          0.234,
          0.901,
          0.8,
          0.5634768480909831,
          0.7870182555780934,
          0.7870182555780934
         ],
         "theta": [
          "danceability",
          "danceability",
          "energy",
          "key",
          "loudness",
          "mode",
          "speechiness",
          "acousticness",
          "instrumentalness",
          "liveness",
          "valence",
          "time_signature",
          "tempo",
          "danceability",
          "danceability"
         ],
         "type": "scatterpolar"
        },
        {
         "fill": "none",
         "mode": "lines",
         "name": "2. Nú er úti veður vott",
         "r": [
          0.68052738336714,
          0.68052738336714,
          0.66,
          0.36363636363636365,
          0.7530154675748544,
          0,
          0.02882231404958678,
          0.00676706827309237,
          0.000429,
          0.172,
          0.872,
          0.8,
          0.5610479285134038,
          0.68052738336714,
          0.68052738336714
         ],
         "theta": [
          "danceability",
          "danceability",
          "energy",
          "key",
          "loudness",
          "mode",
          "speechiness",
          "acousticness",
          "instrumentalness",
          "liveness",
          "valence",
          "time_signature",
          "tempo",
          "danceability",
          "danceability"
         ],
         "type": "scatterpolar"
        },
        {
         "fill": "none",
         "mode": "lines",
         "name": "3. Näillä eväillä",
         "r": [
          0.8144016227180528,
          0.8144016227180528,
          0.638,
          0.2727272727272727,
          0.7382751525471831,
          0,
          0.029235537190082646,
          0.07921686746987952,
          0,
          0.234,
          0.935,
          0.8,
          0.4936068237205524,
          0.8144016227180528,
          0.8144016227180528
         ],
         "theta": [
          "danceability",
          "danceability",
          "energy",
          "key",
          "loudness",
          "mode",
          "speechiness",
          "acousticness",
          "instrumentalness",
          "liveness",
          "valence",
          "time_signature",
          "tempo",
          "danceability",
          "danceability"
         ],
         "type": "scatterpolar"
        },
        {
         "fill": "none",
         "mode": "lines",
         "name": "4. I'm Not a Loser - 2006 Remaster",
         "r": [
          0.7636916835699797,
          0.7636916835699797,
          0.756,
          0.18181818181818182,
          0.8345927344969489,
          0,
          0.04400826446280992,
          0.085140562248996,
          0,
          0.139,
          0.833,
          0.8,
          0.51410641754671,
          0.7636916835699797,
          0.7636916835699797
         ],
         "theta": [
          "danceability",
          "danceability",
          "energy",
          "key",
          "loudness",
          "mode",
          "speechiness",
          "acousticness",
          "instrumentalness",
          "liveness",
          "valence",
          "time_signature",
          "tempo",
          "danceability",
          "danceability"
         ],
         "type": "scatterpolar"
        },
        {
         "fill": "none",
         "mode": "lines",
         "name": "50. Nuestra generación",
         "r": [
          0.6713995943204869,
          0.6713995943204869,
          0.846,
          0.18181818181818182,
          0.8538385128423441,
          0,
          0.04958677685950414,
          0.15562248995983938,
          0,
          0.36,
          0.848,
          0.8,
          0.5138667749796914,
          0.6713995943204869,
          0.6713995943204869
         ],
         "theta": [
          "danceability",
          "danceability",
          "energy",
          "key",
          "loudness",
          "mode",
          "speechiness",
          "acousticness",
          "instrumentalness",
          "liveness",
          "valence",
          "time_signature",
          "tempo",
          "danceability",
          "danceability"
         ],
         "type": "scatterpolar"
        }
       ],
       "layout": {
        "autosize": true,
        "polar": {
         "angularaxis": {
          "type": "category"
         },
         "radialaxis": {
          "autorange": true,
          "range": [
           0,
           0.935
          ],
          "type": "linear"
         }
        },
        "template": {
         "data": {
          "bar": [
           {
            "error_x": {
             "color": "#2a3f5f"
            },
            "error_y": {
             "color": "#2a3f5f"
            },
            "marker": {
             "line": {
              "color": "#E5ECF6",
              "width": 0.5
             },
             "pattern": {
              "fillmode": "overlay",
              "size": 10,
              "solidity": 0.2
             }
            },
            "type": "bar"
           }
          ],
          "barpolar": [
           {
            "marker": {
             "line": {
              "color": "#E5ECF6",
              "width": 0.5
             },
             "pattern": {
              "fillmode": "overlay",
              "size": 10,
              "solidity": 0.2
             }
            },
            "type": "barpolar"
           }
          ],
          "carpet": [
           {
            "aaxis": {
             "endlinecolor": "#2a3f5f",
             "gridcolor": "white",
             "linecolor": "white",
             "minorgridcolor": "white",
             "startlinecolor": "#2a3f5f"
            },
            "baxis": {
             "endlinecolor": "#2a3f5f",
             "gridcolor": "white",
             "linecolor": "white",
             "minorgridcolor": "white",
             "startlinecolor": "#2a3f5f"
            },
            "type": "carpet"
           }
          ],
          "choropleth": [
           {
            "colorbar": {
             "outlinewidth": 0,
             "ticks": ""
            },
            "type": "choropleth"
           }
          ],
          "contour": [
           {
            "colorbar": {
             "outlinewidth": 0,
             "ticks": ""
            },
            "colorscale": [
             [
              0,
              "#0d0887"
             ],
             [
              0.1111111111111111,
              "#46039f"
             ],
             [
              0.2222222222222222,
              "#7201a8"
             ],
             [
              0.3333333333333333,
              "#9c179e"
             ],
             [
              0.4444444444444444,
              "#bd3786"
             ],
             [
              0.5555555555555556,
              "#d8576b"
             ],
             [
              0.6666666666666666,
              "#ed7953"
             ],
             [
              0.7777777777777778,
              "#fb9f3a"
             ],
             [
              0.8888888888888888,
              "#fdca26"
             ],
             [
              1,
              "#f0f921"
             ]
            ],
            "type": "contour"
           }
          ],
          "contourcarpet": [
           {
            "colorbar": {
             "outlinewidth": 0,
             "ticks": ""
            },
            "type": "contourcarpet"
           }
          ],
          "heatmap": [
           {
            "colorbar": {
             "outlinewidth": 0,
             "ticks": ""
            },
            "colorscale": [
             [
              0,
              "#0d0887"
             ],
             [
              0.1111111111111111,
              "#46039f"
             ],
             [
              0.2222222222222222,
              "#7201a8"
             ],
             [
              0.3333333333333333,
              "#9c179e"
             ],
             [
              0.4444444444444444,
              "#bd3786"
             ],
             [
              0.5555555555555556,
              "#d8576b"
             ],
             [
              0.6666666666666666,
              "#ed7953"
             ],
             [
              0.7777777777777778,
              "#fb9f3a"
             ],
             [
              0.8888888888888888,
              "#fdca26"
             ],
             [
              1,
              "#f0f921"
             ]
            ],
            "type": "heatmap"
           }
          ],
          "heatmapgl": [
           {
            "colorbar": {
             "outlinewidth": 0,
             "ticks": ""
            },
            "colorscale": [
             [
              0,
              "#0d0887"
             ],
             [
              0.1111111111111111,
              "#46039f"
             ],
             [
              0.2222222222222222,
              "#7201a8"
             ],
             [
              0.3333333333333333,
              "#9c179e"
             ],
             [
              0.4444444444444444,
              "#bd3786"
             ],
             [
              0.5555555555555556,
              "#d8576b"
             ],
             [
              0.6666666666666666,
              "#ed7953"
             ],
             [
              0.7777777777777778,
              "#fb9f3a"
             ],
             [
              0.8888888888888888,
              "#fdca26"
             ],
             [
              1,
              "#f0f921"
             ]
            ],
            "type": "heatmapgl"
           }
          ],
          "histogram": [
           {
            "marker": {
             "pattern": {
              "fillmode": "overlay",
              "size": 10,
              "solidity": 0.2
             }
            },
            "type": "histogram"
           }
          ],
          "histogram2d": [
           {
            "colorbar": {
             "outlinewidth": 0,
             "ticks": ""
            },
            "colorscale": [
             [
              0,
              "#0d0887"
             ],
             [
              0.1111111111111111,
              "#46039f"
             ],
             [
              0.2222222222222222,
              "#7201a8"
             ],
             [
              0.3333333333333333,
              "#9c179e"
             ],
             [
              0.4444444444444444,
              "#bd3786"
             ],
             [
              0.5555555555555556,
              "#d8576b"
             ],
             [
              0.6666666666666666,
              "#ed7953"
             ],
             [
              0.7777777777777778,
              "#fb9f3a"
             ],
             [
              0.8888888888888888,
              "#fdca26"
             ],
             [
              1,
              "#f0f921"
             ]
            ],
            "type": "histogram2d"
           }
          ],
          "histogram2dcontour": [
           {
            "colorbar": {
             "outlinewidth": 0,
             "ticks": ""
            },
            "colorscale": [
             [
              0,
              "#0d0887"
             ],
             [
              0.1111111111111111,
              "#46039f"
             ],
             [
              0.2222222222222222,
              "#7201a8"
             ],
             [
              0.3333333333333333,
              "#9c179e"
             ],
             [
              0.4444444444444444,
              "#bd3786"
             ],
             [
              0.5555555555555556,
              "#d8576b"
             ],
             [
              0.6666666666666666,
              "#ed7953"
             ],
             [
              0.7777777777777778,
              "#fb9f3a"
             ],
             [
              0.8888888888888888,
              "#fdca26"
             ],
             [
              1,
              "#f0f921"
             ]
            ],
            "type": "histogram2dcontour"
           }
          ],
          "mesh3d": [
           {
            "colorbar": {
             "outlinewidth": 0,
             "ticks": ""
            },
            "type": "mesh3d"
           }
          ],
          "parcoords": [
           {
            "line": {
             "colorbar": {
              "outlinewidth": 0,
              "ticks": ""
             }
            },
            "type": "parcoords"
           }
          ],
          "pie": [
           {
            "automargin": true,
            "type": "pie"
           }
          ],
          "scatter": [
           {
            "fillpattern": {
             "fillmode": "overlay",
             "size": 10,
             "solidity": 0.2
            },
            "type": "scatter"
           }
          ],
          "scatter3d": [
           {
            "line": {
             "colorbar": {
              "outlinewidth": 0,
              "ticks": ""
             }
            },
            "marker": {
             "colorbar": {
              "outlinewidth": 0,
              "ticks": ""
             }
            },
            "type": "scatter3d"
           }
          ],
          "scattercarpet": [
           {
            "marker": {
             "colorbar": {
              "outlinewidth": 0,
              "ticks": ""
             }
            },
            "type": "scattercarpet"
           }
          ],
          "scattergeo": [
           {
            "marker": {
             "colorbar": {
              "outlinewidth": 0,
              "ticks": ""
             }
            },
            "type": "scattergeo"
           }
          ],
          "scattergl": [
           {
            "marker": {
             "colorbar": {
              "outlinewidth": 0,
              "ticks": ""
             }
            },
            "type": "scattergl"
           }
          ],
          "scattermapbox": [
           {
            "marker": {
             "colorbar": {
              "outlinewidth": 0,
              "ticks": ""
             }
            },
            "type": "scattermapbox"
           }
          ],
          "scatterpolar": [
           {
            "marker": {
             "colorbar": {
              "outlinewidth": 0,
              "ticks": ""
             }
            },
            "type": "scatterpolar"
           }
          ],
          "scatterpolargl": [
           {
            "marker": {
             "colorbar": {
              "outlinewidth": 0,
              "ticks": ""
             }
            },
            "type": "scatterpolargl"
           }
          ],
          "scatterternary": [
           {
            "marker": {
             "colorbar": {
              "outlinewidth": 0,
              "ticks": ""
             }
            },
            "type": "scatterternary"
           }
          ],
          "surface": [
           {
            "colorbar": {
             "outlinewidth": 0,
             "ticks": ""
            },
            "colorscale": [
             [
              0,
              "#0d0887"
             ],
             [
              0.1111111111111111,
              "#46039f"
             ],
             [
              0.2222222222222222,
              "#7201a8"
             ],
             [
              0.3333333333333333,
              "#9c179e"
             ],
             [
              0.4444444444444444,
              "#bd3786"
             ],
             [
              0.5555555555555556,
              "#d8576b"
             ],
             [
              0.6666666666666666,
              "#ed7953"
             ],
             [
              0.7777777777777778,
              "#fb9f3a"
             ],
             [
              0.8888888888888888,
              "#fdca26"
             ],
             [
              1,
              "#f0f921"
             ]
            ],
            "type": "surface"
           }
          ],
          "table": [
           {
            "cells": {
             "fill": {
              "color": "#EBF0F8"
             },
             "line": {
              "color": "white"
             }
            },
            "header": {
             "fill": {
              "color": "#C8D4E3"
             },
             "line": {
              "color": "white"
             }
            },
            "type": "table"
           }
          ]
         },
         "layout": {
          "annotationdefaults": {
           "arrowcolor": "#2a3f5f",
           "arrowhead": 0,
           "arrowwidth": 1
          },
          "autotypenumbers": "strict",
          "coloraxis": {
           "colorbar": {
            "outlinewidth": 0,
            "ticks": ""
           }
          },
          "colorscale": {
           "diverging": [
            [
             0,
             "#8e0152"
            ],
            [
             0.1,
             "#c51b7d"
            ],
            [
             0.2,
             "#de77ae"
            ],
            [
             0.3,
             "#f1b6da"
            ],
            [
             0.4,
             "#fde0ef"
            ],
            [
             0.5,
             "#f7f7f7"
            ],
            [
             0.6,
             "#e6f5d0"
            ],
            [
             0.7,
             "#b8e186"
            ],
            [
             0.8,
             "#7fbc41"
            ],
            [
             0.9,
             "#4d9221"
            ],
            [
             1,
             "#276419"
            ]
           ],
           "sequential": [
            [
             0,
             "#0d0887"
            ],
            [
             0.1111111111111111,
             "#46039f"
            ],
            [
             0.2222222222222222,
             "#7201a8"
            ],
            [
             0.3333333333333333,
             "#9c179e"
            ],
            [
             0.4444444444444444,
             "#bd3786"
            ],
            [
             0.5555555555555556,
             "#d8576b"
            ],
            [
             0.6666666666666666,
             "#ed7953"
            ],
            [
             0.7777777777777778,
             "#fb9f3a"
            ],
            [
             0.8888888888888888,
             "#fdca26"
            ],
            [
             1,
             "#f0f921"
            ]
           ],
           "sequentialminus": [
            [
             0,
             "#0d0887"
            ],
            [
             0.1111111111111111,
             "#46039f"
            ],
            [
             0.2222222222222222,
             "#7201a8"
            ],
            [
             0.3333333333333333,
             "#9c179e"
            ],
            [
             0.4444444444444444,
             "#bd3786"
            ],
            [
             0.5555555555555556,
             "#d8576b"
            ],
            [
             0.6666666666666666,
             "#ed7953"
            ],
            [
             0.7777777777777778,
             "#fb9f3a"
            ],
            [
             0.8888888888888888,
             "#fdca26"
            ],
            [
             1,
             "#f0f921"
            ]
           ]
          },
          "colorway": [
           "#636efa",
           "#EF553B",
           "#00cc96",
           "#ab63fa",
           "#FFA15A",
           "#19d3f3",
           "#FF6692",
           "#B6E880",
           "#FF97FF",
           "#FECB52"
          ],
          "font": {
           "color": "#2a3f5f"
          },
          "geo": {
           "bgcolor": "white",
           "lakecolor": "white",
           "landcolor": "#E5ECF6",
           "showlakes": true,
           "showland": true,
           "subunitcolor": "white"
          },
          "hoverlabel": {
           "align": "left"
          },
          "hovermode": "closest",
          "mapbox": {
           "style": "light"
          },
          "paper_bgcolor": "white",
          "plot_bgcolor": "#E5ECF6",
          "polar": {
           "angularaxis": {
            "gridcolor": "white",
            "linecolor": "white",
            "ticks": ""
           },
           "bgcolor": "#E5ECF6",
           "radialaxis": {
            "gridcolor": "white",
            "linecolor": "white",
            "ticks": ""
           }
          },
          "scene": {
           "xaxis": {
            "backgroundcolor": "#E5ECF6",
            "gridcolor": "white",
            "gridwidth": 2,
            "linecolor": "white",
            "showbackground": true,
            "ticks": "",
            "zerolinecolor": "white"
           },
           "yaxis": {
            "backgroundcolor": "#E5ECF6",
            "gridcolor": "white",
            "gridwidth": 2,
            "linecolor": "white",
            "showbackground": true,
            "ticks": "",
            "zerolinecolor": "white"
           },
           "zaxis": {
            "backgroundcolor": "#E5ECF6",
            "gridcolor": "white",
            "gridwidth": 2,
            "linecolor": "white",
            "showbackground": true,
            "ticks": "",
            "zerolinecolor": "white"
           }
          },
          "shapedefaults": {
           "line": {
            "color": "#2a3f5f"
           }
          },
          "ternary": {
           "aaxis": {
            "gridcolor": "white",
            "linecolor": "white",
            "ticks": ""
           },
           "baxis": {
            "gridcolor": "white",
            "linecolor": "white",
            "ticks": ""
           },
           "bgcolor": "#E5ECF6",
           "caxis": {
            "gridcolor": "white",
            "linecolor": "white",
            "ticks": ""
           }
          },
          "title": {
           "x": 0.05
          },
          "xaxis": {
           "automargin": true,
           "gridcolor": "white",
           "linecolor": "white",
           "ticks": "",
           "title": {
            "standoff": 15
           },
           "zerolinecolor": "white",
           "zerolinewidth": 2
          },
          "yaxis": {
           "automargin": true,
           "gridcolor": "white",
           "linecolor": "white",
           "ticks": "",
           "title": {
            "standoff": 15
           },
           "zerolinecolor": "white",
           "zerolinewidth": 2
          }
         }
        }
       }
      },
      "text/html": [
       "<div>                            <div id=\"bce95b19-9f37-4f8d-99a3-369e96dcb93e\" class=\"plotly-graph-div\" style=\"height:1000px; width:100%;\"></div>            <script type=\"text/javascript\">                require([\"plotly\"], function(Plotly) {                    window.PLOTLYENV=window.PLOTLYENV || {};                                    if (document.getElementById(\"bce95b19-9f37-4f8d-99a3-369e96dcb93e\")) {                    Plotly.newPlot(                        \"bce95b19-9f37-4f8d-99a3-369e96dcb93e\",                        [{\"fill\":\"none\",\"mode\":\"lines\",\"name\":\"1. Beat It\",\"r\":[0.7870182555780934,0.7870182555780934,0.711,0.2727272727272727,0.7940435646374342,0.0,0.04886363636363637,0.024297188755020082,0.000353,0.234,0.901,0.8,0.5634768480909831,0.7870182555780934,0.7870182555780934],\"theta\":[\"danceability\",\"danceability\",\"energy\",\"key\",\"loudness\",\"mode\",\"speechiness\",\"acousticness\",\"instrumentalness\",\"liveness\",\"valence\",\"time_signature\",\"tempo\",\"danceability\",\"danceability\"],\"type\":\"scatterpolar\"},{\"fill\":\"none\",\"mode\":\"lines\",\"name\":\"2. N\\u00fa er \\u00fati ve\\u00f0ur vott\",\"r\":[0.68052738336714,0.68052738336714,0.66,0.36363636363636365,0.7530154675748544,0.0,0.02882231404958678,0.00676706827309237,0.000429,0.172,0.872,0.8,0.5610479285134038,0.68052738336714,0.68052738336714],\"theta\":[\"danceability\",\"danceability\",\"energy\",\"key\",\"loudness\",\"mode\",\"speechiness\",\"acousticness\",\"instrumentalness\",\"liveness\",\"valence\",\"time_signature\",\"tempo\",\"danceability\",\"danceability\"],\"type\":\"scatterpolar\"},{\"fill\":\"none\",\"mode\":\"lines\",\"name\":\"3. N\\u00e4ill\\u00e4 ev\\u00e4ill\\u00e4\",\"r\":[0.8144016227180528,0.8144016227180528,0.638,0.2727272727272727,0.7382751525471831,0.0,0.029235537190082646,0.07921686746987952,0.0,0.234,0.935,0.8,0.4936068237205524,0.8144016227180528,0.8144016227180528],\"theta\":[\"danceability\",\"danceability\",\"energy\",\"key\",\"loudness\",\"mode\",\"speechiness\",\"acousticness\",\"instrumentalness\",\"liveness\",\"valence\",\"time_signature\",\"tempo\",\"danceability\",\"danceability\"],\"type\":\"scatterpolar\"},{\"fill\":\"none\",\"mode\":\"lines\",\"name\":\"4. I'm Not a Loser - 2006 Remaster\",\"r\":[0.7636916835699797,0.7636916835699797,0.756,0.18181818181818182,0.8345927344969489,0.0,0.04400826446280992,0.085140562248996,0.0,0.139,0.833,0.8,0.51410641754671,0.7636916835699797,0.7636916835699797],\"theta\":[\"danceability\",\"danceability\",\"energy\",\"key\",\"loudness\",\"mode\",\"speechiness\",\"acousticness\",\"instrumentalness\",\"liveness\",\"valence\",\"time_signature\",\"tempo\",\"danceability\",\"danceability\"],\"type\":\"scatterpolar\"},{\"fill\":\"none\",\"mode\":\"lines\",\"name\":\"50. Nuestra generaci\\u00f3n\",\"r\":[0.6713995943204869,0.6713995943204869,0.846,0.18181818181818182,0.8538385128423441,0.0,0.04958677685950414,0.15562248995983938,0.0,0.36,0.848,0.8,0.5138667749796914,0.6713995943204869,0.6713995943204869],\"theta\":[\"danceability\",\"danceability\",\"energy\",\"key\",\"loudness\",\"mode\",\"speechiness\",\"acousticness\",\"instrumentalness\",\"liveness\",\"valence\",\"time_signature\",\"tempo\",\"danceability\",\"danceability\"],\"type\":\"scatterpolar\"}],                        {\"template\":{\"data\":{\"histogram2dcontour\":[{\"type\":\"histogram2dcontour\",\"colorbar\":{\"outlinewidth\":0,\"ticks\":\"\"},\"colorscale\":[[0.0,\"#0d0887\"],[0.1111111111111111,\"#46039f\"],[0.2222222222222222,\"#7201a8\"],[0.3333333333333333,\"#9c179e\"],[0.4444444444444444,\"#bd3786\"],[0.5555555555555556,\"#d8576b\"],[0.6666666666666666,\"#ed7953\"],[0.7777777777777778,\"#fb9f3a\"],[0.8888888888888888,\"#fdca26\"],[1.0,\"#f0f921\"]]}],\"choropleth\":[{\"type\":\"choropleth\",\"colorbar\":{\"outlinewidth\":0,\"ticks\":\"\"}}],\"histogram2d\":[{\"type\":\"histogram2d\",\"colorbar\":{\"outlinewidth\":0,\"ticks\":\"\"},\"colorscale\":[[0.0,\"#0d0887\"],[0.1111111111111111,\"#46039f\"],[0.2222222222222222,\"#7201a8\"],[0.3333333333333333,\"#9c179e\"],[0.4444444444444444,\"#bd3786\"],[0.5555555555555556,\"#d8576b\"],[0.6666666666666666,\"#ed7953\"],[0.7777777777777778,\"#fb9f3a\"],[0.8888888888888888,\"#fdca26\"],[1.0,\"#f0f921\"]]}],\"heatmap\":[{\"type\":\"heatmap\",\"colorbar\":{\"outlinewidth\":0,\"ticks\":\"\"},\"colorscale\":[[0.0,\"#0d0887\"],[0.1111111111111111,\"#46039f\"],[0.2222222222222222,\"#7201a8\"],[0.3333333333333333,\"#9c179e\"],[0.4444444444444444,\"#bd3786\"],[0.5555555555555556,\"#d8576b\"],[0.6666666666666666,\"#ed7953\"],[0.7777777777777778,\"#fb9f3a\"],[0.8888888888888888,\"#fdca26\"],[1.0,\"#f0f921\"]]}],\"heatmapgl\":[{\"type\":\"heatmapgl\",\"colorbar\":{\"outlinewidth\":0,\"ticks\":\"\"},\"colorscale\":[[0.0,\"#0d0887\"],[0.1111111111111111,\"#46039f\"],[0.2222222222222222,\"#7201a8\"],[0.3333333333333333,\"#9c179e\"],[0.4444444444444444,\"#bd3786\"],[0.5555555555555556,\"#d8576b\"],[0.6666666666666666,\"#ed7953\"],[0.7777777777777778,\"#fb9f3a\"],[0.8888888888888888,\"#fdca26\"],[1.0,\"#f0f921\"]]}],\"contourcarpet\":[{\"type\":\"contourcarpet\",\"colorbar\":{\"outlinewidth\":0,\"ticks\":\"\"}}],\"contour\":[{\"type\":\"contour\",\"colorbar\":{\"outlinewidth\":0,\"ticks\":\"\"},\"colorscale\":[[0.0,\"#0d0887\"],[0.1111111111111111,\"#46039f\"],[0.2222222222222222,\"#7201a8\"],[0.3333333333333333,\"#9c179e\"],[0.4444444444444444,\"#bd3786\"],[0.5555555555555556,\"#d8576b\"],[0.6666666666666666,\"#ed7953\"],[0.7777777777777778,\"#fb9f3a\"],[0.8888888888888888,\"#fdca26\"],[1.0,\"#f0f921\"]]}],\"surface\":[{\"type\":\"surface\",\"colorbar\":{\"outlinewidth\":0,\"ticks\":\"\"},\"colorscale\":[[0.0,\"#0d0887\"],[0.1111111111111111,\"#46039f\"],[0.2222222222222222,\"#7201a8\"],[0.3333333333333333,\"#9c179e\"],[0.4444444444444444,\"#bd3786\"],[0.5555555555555556,\"#d8576b\"],[0.6666666666666666,\"#ed7953\"],[0.7777777777777778,\"#fb9f3a\"],[0.8888888888888888,\"#fdca26\"],[1.0,\"#f0f921\"]]}],\"mesh3d\":[{\"type\":\"mesh3d\",\"colorbar\":{\"outlinewidth\":0,\"ticks\":\"\"}}],\"scatter\":[{\"fillpattern\":{\"fillmode\":\"overlay\",\"size\":10,\"solidity\":0.2},\"type\":\"scatter\"}],\"parcoords\":[{\"type\":\"parcoords\",\"line\":{\"colorbar\":{\"outlinewidth\":0,\"ticks\":\"\"}}}],\"scatterpolargl\":[{\"type\":\"scatterpolargl\",\"marker\":{\"colorbar\":{\"outlinewidth\":0,\"ticks\":\"\"}}}],\"bar\":[{\"error_x\":{\"color\":\"#2a3f5f\"},\"error_y\":{\"color\":\"#2a3f5f\"},\"marker\":{\"line\":{\"color\":\"#E5ECF6\",\"width\":0.5},\"pattern\":{\"fillmode\":\"overlay\",\"size\":10,\"solidity\":0.2}},\"type\":\"bar\"}],\"scattergeo\":[{\"type\":\"scattergeo\",\"marker\":{\"colorbar\":{\"outlinewidth\":0,\"ticks\":\"\"}}}],\"scatterpolar\":[{\"type\":\"scatterpolar\",\"marker\":{\"colorbar\":{\"outlinewidth\":0,\"ticks\":\"\"}}}],\"histogram\":[{\"marker\":{\"pattern\":{\"fillmode\":\"overlay\",\"size\":10,\"solidity\":0.2}},\"type\":\"histogram\"}],\"scattergl\":[{\"type\":\"scattergl\",\"marker\":{\"colorbar\":{\"outlinewidth\":0,\"ticks\":\"\"}}}],\"scatter3d\":[{\"type\":\"scatter3d\",\"line\":{\"colorbar\":{\"outlinewidth\":0,\"ticks\":\"\"}},\"marker\":{\"colorbar\":{\"outlinewidth\":0,\"ticks\":\"\"}}}],\"scattermapbox\":[{\"type\":\"scattermapbox\",\"marker\":{\"colorbar\":{\"outlinewidth\":0,\"ticks\":\"\"}}}],\"scatterternary\":[{\"type\":\"scatterternary\",\"marker\":{\"colorbar\":{\"outlinewidth\":0,\"ticks\":\"\"}}}],\"scattercarpet\":[{\"type\":\"scattercarpet\",\"marker\":{\"colorbar\":{\"outlinewidth\":0,\"ticks\":\"\"}}}],\"carpet\":[{\"aaxis\":{\"endlinecolor\":\"#2a3f5f\",\"gridcolor\":\"white\",\"linecolor\":\"white\",\"minorgridcolor\":\"white\",\"startlinecolor\":\"#2a3f5f\"},\"baxis\":{\"endlinecolor\":\"#2a3f5f\",\"gridcolor\":\"white\",\"linecolor\":\"white\",\"minorgridcolor\":\"white\",\"startlinecolor\":\"#2a3f5f\"},\"type\":\"carpet\"}],\"table\":[{\"cells\":{\"fill\":{\"color\":\"#EBF0F8\"},\"line\":{\"color\":\"white\"}},\"header\":{\"fill\":{\"color\":\"#C8D4E3\"},\"line\":{\"color\":\"white\"}},\"type\":\"table\"}],\"barpolar\":[{\"marker\":{\"line\":{\"color\":\"#E5ECF6\",\"width\":0.5},\"pattern\":{\"fillmode\":\"overlay\",\"size\":10,\"solidity\":0.2}},\"type\":\"barpolar\"}],\"pie\":[{\"automargin\":true,\"type\":\"pie\"}]},\"layout\":{\"autotypenumbers\":\"strict\",\"colorway\":[\"#636efa\",\"#EF553B\",\"#00cc96\",\"#ab63fa\",\"#FFA15A\",\"#19d3f3\",\"#FF6692\",\"#B6E880\",\"#FF97FF\",\"#FECB52\"],\"font\":{\"color\":\"#2a3f5f\"},\"hovermode\":\"closest\",\"hoverlabel\":{\"align\":\"left\"},\"paper_bgcolor\":\"white\",\"plot_bgcolor\":\"#E5ECF6\",\"polar\":{\"bgcolor\":\"#E5ECF6\",\"angularaxis\":{\"gridcolor\":\"white\",\"linecolor\":\"white\",\"ticks\":\"\"},\"radialaxis\":{\"gridcolor\":\"white\",\"linecolor\":\"white\",\"ticks\":\"\"}},\"ternary\":{\"bgcolor\":\"#E5ECF6\",\"aaxis\":{\"gridcolor\":\"white\",\"linecolor\":\"white\",\"ticks\":\"\"},\"baxis\":{\"gridcolor\":\"white\",\"linecolor\":\"white\",\"ticks\":\"\"},\"caxis\":{\"gridcolor\":\"white\",\"linecolor\":\"white\",\"ticks\":\"\"}},\"coloraxis\":{\"colorbar\":{\"outlinewidth\":0,\"ticks\":\"\"}},\"colorscale\":{\"sequential\":[[0.0,\"#0d0887\"],[0.1111111111111111,\"#46039f\"],[0.2222222222222222,\"#7201a8\"],[0.3333333333333333,\"#9c179e\"],[0.4444444444444444,\"#bd3786\"],[0.5555555555555556,\"#d8576b\"],[0.6666666666666666,\"#ed7953\"],[0.7777777777777778,\"#fb9f3a\"],[0.8888888888888888,\"#fdca26\"],[1.0,\"#f0f921\"]],\"sequentialminus\":[[0.0,\"#0d0887\"],[0.1111111111111111,\"#46039f\"],[0.2222222222222222,\"#7201a8\"],[0.3333333333333333,\"#9c179e\"],[0.4444444444444444,\"#bd3786\"],[0.5555555555555556,\"#d8576b\"],[0.6666666666666666,\"#ed7953\"],[0.7777777777777778,\"#fb9f3a\"],[0.8888888888888888,\"#fdca26\"],[1.0,\"#f0f921\"]],\"diverging\":[[0,\"#8e0152\"],[0.1,\"#c51b7d\"],[0.2,\"#de77ae\"],[0.3,\"#f1b6da\"],[0.4,\"#fde0ef\"],[0.5,\"#f7f7f7\"],[0.6,\"#e6f5d0\"],[0.7,\"#b8e186\"],[0.8,\"#7fbc41\"],[0.9,\"#4d9221\"],[1,\"#276419\"]]},\"xaxis\":{\"gridcolor\":\"white\",\"linecolor\":\"white\",\"ticks\":\"\",\"title\":{\"standoff\":15},\"zerolinecolor\":\"white\",\"automargin\":true,\"zerolinewidth\":2},\"yaxis\":{\"gridcolor\":\"white\",\"linecolor\":\"white\",\"ticks\":\"\",\"title\":{\"standoff\":15},\"zerolinecolor\":\"white\",\"automargin\":true,\"zerolinewidth\":2},\"scene\":{\"xaxis\":{\"backgroundcolor\":\"#E5ECF6\",\"gridcolor\":\"white\",\"linecolor\":\"white\",\"showbackground\":true,\"ticks\":\"\",\"zerolinecolor\":\"white\",\"gridwidth\":2},\"yaxis\":{\"backgroundcolor\":\"#E5ECF6\",\"gridcolor\":\"white\",\"linecolor\":\"white\",\"showbackground\":true,\"ticks\":\"\",\"zerolinecolor\":\"white\",\"gridwidth\":2},\"zaxis\":{\"backgroundcolor\":\"#E5ECF6\",\"gridcolor\":\"white\",\"linecolor\":\"white\",\"showbackground\":true,\"ticks\":\"\",\"zerolinecolor\":\"white\",\"gridwidth\":2}},\"shapedefaults\":{\"line\":{\"color\":\"#2a3f5f\"}},\"annotationdefaults\":{\"arrowcolor\":\"#2a3f5f\",\"arrowhead\":0,\"arrowwidth\":1},\"geo\":{\"bgcolor\":\"white\",\"landcolor\":\"#E5ECF6\",\"subunitcolor\":\"white\",\"showland\":true,\"showlakes\":true,\"lakecolor\":\"white\"},\"title\":{\"x\":0.05},\"mapbox\":{\"style\":\"light\"}}},\"height\":1000},                        {\"responsive\": true}                    ).then(function(){\n",
       "                            \n",
       "var gd = document.getElementById('bce95b19-9f37-4f8d-99a3-369e96dcb93e');\n",
       "var x = new MutationObserver(function (mutations, observer) {{\n",
       "        var display = window.getComputedStyle(gd).display;\n",
       "        if (!display || display === 'none') {{\n",
       "            console.log([gd, 'removed!']);\n",
       "            Plotly.purge(gd);\n",
       "            observer.disconnect();\n",
       "        }}\n",
       "}});\n",
       "\n",
       "// Listen for the removal of the full notebook cells\n",
       "var notebookContainer = gd.closest('#notebook-container');\n",
       "if (notebookContainer) {{\n",
       "    x.observe(notebookContainer, {childList: true});\n",
       "}}\n",
       "\n",
       "// Listen for the clearing of the current output cell\n",
       "var outputEl = gd.closest('.output');\n",
       "if (outputEl) {{\n",
       "    x.observe(outputEl, {childList: true});\n",
       "}}\n",
       "\n",
       "                        })                };                });            </script>        </div>"
      ]
     },
     "metadata": {},
     "output_type": "display_data"
    }
   ],
   "source": [
    "recommend('Beat It')"
   ]
  },
  {
   "cell_type": "code",
   "execution_count": 93,
   "metadata": {},
   "outputs": [],
   "source": [
    "#result = try_functions(\"Purple Rain\")"
   ]
  },
  {
   "cell_type": "code",
   "execution_count": null,
   "metadata": {},
   "outputs": [],
   "source": []
  }
 ],
 "metadata": {
  "kernelspec": {
   "display_name": "Python 3 (ipykernel)",
   "language": "python",
   "name": "python3"
  },
  "language_info": {
   "codemirror_mode": {
    "name": "ipython",
    "version": 3
   },
   "file_extension": ".py",
   "mimetype": "text/x-python",
   "name": "python",
   "nbconvert_exporter": "python",
   "pygments_lexer": "ipython3",
   "version": "3.10.11"
  }
 },
 "nbformat": 4,
 "nbformat_minor": 4
}
