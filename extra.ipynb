{
 "cells": [
  {
   "cell_type": "markdown",
   "metadata": {},
   "source": [
    "## Imports"
   ]
  },
  {
   "cell_type": "code",
   "execution_count": 221,
   "metadata": {},
   "outputs": [],
   "source": [
    "LOCAL = True"
   ]
  },
  {
   "cell_type": "code",
   "execution_count": 222,
   "metadata": {},
   "outputs": [],
   "source": [
    "if LOCAL:\n",
    "  PATH = \"./data\"\n",
    "else:\n",
    "  PATH = \"gdrive/MyDrive/application-project-abgabe\"\n",
    "  from google.colab import drive\n",
    "  drive.mount('/content/gdrive')"
   ]
  },
  {
   "cell_type": "code",
   "execution_count": null,
   "metadata": {},
   "outputs": [
    {
     "name": "stdout",
     "output_type": "stream",
     "text": [
      "Requirement already satisfied: colab-env in /Users/jannisweichler/Documents/Studium/application-project/application-project/lib/python3.10/site-packages (0.2.0)\n",
      "Requirement already satisfied: python-dotenv<1.0,>=0.10.0 in /Users/jannisweichler/Documents/Studium/application-project/application-project/lib/python3.10/site-packages (from colab-env) (0.21.1)\n",
      "\n",
      "\u001b[1m[\u001b[0m\u001b[34;49mnotice\u001b[0m\u001b[1;39;49m]\u001b[0m\u001b[39;49m A new release of pip is available: \u001b[0m\u001b[31;49m23.1.2\u001b[0m\u001b[39;49m -> \u001b[0m\u001b[32;49m23.2.1\u001b[0m\n",
      "\u001b[1m[\u001b[0m\u001b[34;49mnotice\u001b[0m\u001b[1;39;49m]\u001b[0m\u001b[39;49m To update, run: \u001b[0m\u001b[32;49mpip install --upgrade pip\u001b[0m\n"
     ]
    }
   ],
   "source": [
    "!pip install colab-env --upgrade"
   ]
  },
  {
   "cell_type": "code",
   "execution_count": null,
   "metadata": {},
   "outputs": [
    {
     "name": "stdout",
     "output_type": "stream",
     "text": [
      "Requirement already satisfied: spotipy in /Users/jannisweichler/Documents/Studium/application-project/application-project/lib/python3.10/site-packages (2.23.0)\n",
      "Requirement already satisfied: redis>=3.5.3 in /Users/jannisweichler/Documents/Studium/application-project/application-project/lib/python3.10/site-packages (from spotipy) (4.5.1)\n",
      "Requirement already satisfied: requests>=2.25.0 in /Users/jannisweichler/Documents/Studium/application-project/application-project/lib/python3.10/site-packages (from spotipy) (2.28.2)\n",
      "Requirement already satisfied: six>=1.15.0 in /Users/jannisweichler/Documents/Studium/application-project/application-project/lib/python3.10/site-packages (from spotipy) (1.16.0)\n",
      "Requirement already satisfied: urllib3>=1.26.0 in /Users/jannisweichler/Documents/Studium/application-project/application-project/lib/python3.10/site-packages (from spotipy) (1.26.15)\n",
      "Requirement already satisfied: async-timeout>=4.0.2 in /Users/jannisweichler/Documents/Studium/application-project/application-project/lib/python3.10/site-packages (from redis>=3.5.3->spotipy) (4.0.2)\n",
      "Requirement already satisfied: charset-normalizer<4,>=2 in /Users/jannisweichler/Documents/Studium/application-project/application-project/lib/python3.10/site-packages (from requests>=2.25.0->spotipy) (3.1.0)\n",
      "Requirement already satisfied: idna<4,>=2.5 in /Users/jannisweichler/Documents/Studium/application-project/application-project/lib/python3.10/site-packages (from requests>=2.25.0->spotipy) (3.4)\n",
      "Requirement already satisfied: certifi>=2017.4.17 in /Users/jannisweichler/Documents/Studium/application-project/application-project/lib/python3.10/site-packages (from requests>=2.25.0->spotipy) (2022.12.7)\n",
      "\n",
      "\u001b[1m[\u001b[0m\u001b[34;49mnotice\u001b[0m\u001b[1;39;49m]\u001b[0m\u001b[39;49m A new release of pip is available: \u001b[0m\u001b[31;49m23.1.2\u001b[0m\u001b[39;49m -> \u001b[0m\u001b[32;49m23.2.1\u001b[0m\n",
      "\u001b[1m[\u001b[0m\u001b[34;49mnotice\u001b[0m\u001b[1;39;49m]\u001b[0m\u001b[39;49m To update, run: \u001b[0m\u001b[32;49mpip install --upgrade pip\u001b[0m\n"
     ]
    }
   ],
   "source": [
    "!pip install spotipy --upgrade"
   ]
  },
  {
   "cell_type": "code",
   "execution_count": null,
   "metadata": {},
   "outputs": [
    {
     "name": "stdout",
     "output_type": "stream",
     "text": [
      "Requirement already satisfied: ratelimit in /Users/jannisweichler/Documents/Studium/application-project/application-project/lib/python3.10/site-packages (2.2.1)\n",
      "\n",
      "\u001b[1m[\u001b[0m\u001b[34;49mnotice\u001b[0m\u001b[1;39;49m]\u001b[0m\u001b[39;49m A new release of pip is available: \u001b[0m\u001b[31;49m23.1.2\u001b[0m\u001b[39;49m -> \u001b[0m\u001b[32;49m23.2.1\u001b[0m\n",
      "\u001b[1m[\u001b[0m\u001b[34;49mnotice\u001b[0m\u001b[1;39;49m]\u001b[0m\u001b[39;49m To update, run: \u001b[0m\u001b[32;49mpip install --upgrade pip\u001b[0m\n"
     ]
    }
   ],
   "source": [
    "!pip install ratelimit"
   ]
  },
  {
   "cell_type": "code",
   "execution_count": null,
   "metadata": {},
   "outputs": [
    {
     "name": "stdout",
     "output_type": "stream",
     "text": [
      "Requirement already satisfied: levenshtein in /Users/jannisweichler/Documents/Studium/application-project/application-project/lib/python3.10/site-packages (0.21.1)\n",
      "Requirement already satisfied: rapidfuzz<4.0.0,>=2.3.0 in /Users/jannisweichler/Documents/Studium/application-project/application-project/lib/python3.10/site-packages (from levenshtein) (3.3.0)\n",
      "\n",
      "\u001b[1m[\u001b[0m\u001b[34;49mnotice\u001b[0m\u001b[1;39;49m]\u001b[0m\u001b[39;49m A new release of pip is available: \u001b[0m\u001b[31;49m23.1.2\u001b[0m\u001b[39;49m -> \u001b[0m\u001b[32;49m23.2.1\u001b[0m\n",
      "\u001b[1m[\u001b[0m\u001b[34;49mnotice\u001b[0m\u001b[1;39;49m]\u001b[0m\u001b[39;49m To update, run: \u001b[0m\u001b[32;49mpip install --upgrade pip\u001b[0m\n"
     ]
    }
   ],
   "source": [
    "!pip install levenshtein"
   ]
  },
  {
   "cell_type": "code",
   "execution_count": 188,
   "metadata": {},
   "outputs": [],
   "source": [
    "import os\n",
    "import spotipy\n",
    "from spotipy.oauth2 import SpotifyClientCredentials\n",
    "import requests\n",
    "import json\n",
    "from numpy import NaN\n",
    "from ratelimit import limits, sleep_and_retry\n",
    "import Levenshtein\n",
    "import pandas as pd\n",
    "import numpy as np\n",
    "from sklearn.preprocessing import MinMaxScaler\n",
    "from sklearn.metrics.pairwise import cosine_similarity, linear_kernel, polynomial_kernel, sigmoid_kernel, rbf_kernel, laplacian_kernel, chi2_kernel, euclidean_distances, manhattan_distances, cosine_distances\n",
    "import plotly.express as px\n",
    "import plotly.graph_objects as go\n",
    "from tqdm import tqdm\n",
    "import time\n",
    "from ast import literal_eval"
   ]
  },
  {
   "cell_type": "markdown",
   "metadata": {},
   "source": [
    "## Filterung der Datenbank um irrelevante Ergebnisse zu verhindern"
   ]
  },
  {
   "cell_type": "code",
   "execution_count": 189,
   "metadata": {},
   "outputs": [],
   "source": [
    "#by_isrc = pd.read_csv('data/by_isrc.csv')\n",
    "by_isrc = pd.read_csv(f\"{PATH}/by_isrc.csv\")"
   ]
  },
  {
   "cell_type": "code",
   "execution_count": 190,
   "metadata": {},
   "outputs": [],
   "source": [
    "by_isrc[\"country_code\"] = by_isrc[\"isrc\"].apply(lambda x: x[:2])"
   ]
  },
  {
   "cell_type": "code",
   "execution_count": 191,
   "metadata": {},
   "outputs": [
    {
     "data": {
      "text/plain": [
       "array(['AE', 'AR', 'AT', 'AU', 'AZ', 'BA', 'BC', 'BE', 'BG', 'BR', 'BX',\n",
       "       'Br', 'CA', 'CH', 'CI', 'CL', 'CN', 'CO', 'CS', 'CZ', 'DE', 'DG',\n",
       "       'DK', 'EE', 'EG', 'ES', 'FI', 'FR', 'FX', 'GB', 'GN', 'GR', 'GT',\n",
       "       'GX', 'HK', 'HR', 'HU', 'ID', 'IE', 'IL', 'IN', 'IR', 'IS', 'IT',\n",
       "       'JM', 'JP', 'KE', 'KR', 'KS', 'LB', 'LK', 'LT', 'LU', 'LV', 'MD',\n",
       "       'MM', 'MT', 'MU', 'MX', 'MY', 'NG', 'NI', 'NL', 'NO', 'NZ', 'No',\n",
       "       'PE', 'PH', 'PL', 'PT', 'QM', 'QZ', 'RE', 'RO', 'RS', 'RU', 'SE',\n",
       "       'SG', 'SI', 'SK', 'SM', 'SW', 'TC', 'TH', 'TR', 'TW', 'UA', 'UK',\n",
       "       'UR', 'US', 'UY', 'VE', 'VN', 'ZA', 'ZZ', 'ae', 'ca', 'gb', 'il',\n",
       "       'lv', 'nl', 'qz', 'us', 've'], dtype=object)"
      ]
     },
     "execution_count": 191,
     "metadata": {},
     "output_type": "execute_result"
    }
   ],
   "source": [
    "by_isrc[\"country_code\"].unique()"
   ]
  },
  {
   "cell_type": "markdown",
   "metadata": {},
   "source": [
    "Einige Ländercodes sind kleingeschrieben. Diese sollen in Großbuchstaben umgewandelt werden."
   ]
  },
  {
   "cell_type": "code",
   "execution_count": 192,
   "metadata": {},
   "outputs": [],
   "source": [
    "by_isrc[\"country_code\"] = by_isrc[\"country_code\"].str.upper()"
   ]
  },
  {
   "cell_type": "code",
   "execution_count": 193,
   "metadata": {},
   "outputs": [
    {
     "data": {
      "text/plain": [
       "array(['AE', 'AR', 'AT', 'AU', 'AZ', 'BA', 'BC', 'BE', 'BG', 'BR', 'BX',\n",
       "       'CA', 'CH', 'CI', 'CL', 'CN', 'CO', 'CS', 'CZ', 'DE', 'DG', 'DK',\n",
       "       'EE', 'EG', 'ES', 'FI', 'FR', 'FX', 'GB', 'GN', 'GR', 'GT', 'GX',\n",
       "       'HK', 'HR', 'HU', 'ID', 'IE', 'IL', 'IN', 'IR', 'IS', 'IT', 'JM',\n",
       "       'JP', 'KE', 'KR', 'KS', 'LB', 'LK', 'LT', 'LU', 'LV', 'MD', 'MM',\n",
       "       'MT', 'MU', 'MX', 'MY', 'NG', 'NI', 'NL', 'NO', 'NZ', 'PE', 'PH',\n",
       "       'PL', 'PT', 'QM', 'QZ', 'RE', 'RO', 'RS', 'RU', 'SE', 'SG', 'SI',\n",
       "       'SK', 'SM', 'SW', 'TC', 'TH', 'TR', 'TW', 'UA', 'UK', 'UR', 'US',\n",
       "       'UY', 'VE', 'VN', 'ZA', 'ZZ'], dtype=object)"
      ]
     },
     "execution_count": 193,
     "metadata": {},
     "output_type": "execute_result"
    }
   ],
   "source": [
    "by_isrc[\"country_code\"].unique()"
   ]
  },
  {
   "cell_type": "markdown",
   "metadata": {},
   "source": [
    "Gruppierung der Songs nach den Ländercodes."
   ]
  },
  {
   "cell_type": "code",
   "execution_count": 194,
   "metadata": {},
   "outputs": [],
   "source": [
    "countries = {\n",
    "    'AE': 'United Arab Emirates',\n",
    "    'AR': 'Argentina',\n",
    "    'AT': 'Austria',\n",
    "    'AU': 'Australia',\n",
    "    'AZ': 'Azerbaijan',\n",
    "    'BA': 'Bosnia and Herzegovina',\n",
    "    'BC': 'Canada (British Columbia)',\n",
    "    'BE': 'Belgium',\n",
    "    'BG': 'Bulgaria',\n",
    "    'BR': 'Brazil',\n",
    "    'BX': 'Benelux',\n",
    "    'CA': 'Canada',\n",
    "    'CH': 'Switzerland',\n",
    "    'CI': 'Ivory Coast (Côte d\\'Ivoire)',\n",
    "    'CL': 'Chile',\n",
    "    'CN': 'China',\n",
    "    'CO': 'Colombia',\n",
    "    'CS': 'Serbia and Montenegro',\n",
    "    'CZ': 'Czech Republic',\n",
    "    'DE': 'Germany',\n",
    "    'DG': 'Germany (East)',\n",
    "    'DK': 'Denmark',\n",
    "    'EE': 'Estonia',\n",
    "    'EG': 'Egypt',\n",
    "    'ES': 'Spain',\n",
    "    'FI': 'Finland',\n",
    "    'FR': 'France',\n",
    "    'FX': 'France (Metropolitan)',\n",
    "    'GB': 'United Kingdom',\n",
    "    'GN': 'Guinea',\n",
    "    'GR': 'Greece',\n",
    "    'GT': 'Guatemala',\n",
    "    'GX': 'Greece (Ancient)',\n",
    "    'HK': 'Hong Kong',\n",
    "    'HR': 'Croatia',\n",
    "    'HU': 'Hungary',\n",
    "    'ID': 'Indonesia',\n",
    "    'IE': 'Ireland',\n",
    "    'IL': 'Israel',\n",
    "    'IN': 'India',\n",
    "    'IR': 'Iran',\n",
    "    'IS': 'Iceland',\n",
    "    'IT': 'Italy',\n",
    "    'JM': 'Jamaica',\n",
    "    'JP': 'Japan',\n",
    "    'KE': 'Kenya',\n",
    "    'KR': 'South Korea',\n",
    "    'KS': 'Kosovo',\n",
    "    'LB': 'Lebanon',\n",
    "    'LK': 'Sri Lanka',\n",
    "    'LT': 'Lithuania',\n",
    "    'LU': 'Luxembourg',\n",
    "    'LV': 'Latvia',\n",
    "    'MD': 'Moldova',\n",
    "    'MM': 'Myanmar (Burma)',\n",
    "    'MT': 'Malta',\n",
    "    'MU': 'Mauritius',\n",
    "    'MX': 'Mexico',\n",
    "    'MY': 'Malaysia',\n",
    "    'NG': 'Nigeria',\n",
    "    'NI': 'Nicaragua',\n",
    "    'NL': 'Netherlands',\n",
    "    'NO': 'Norway',\n",
    "    'NZ': 'New Zealand',\n",
    "    'PE': 'Peru',\n",
    "    'PH': 'Philippines',\n",
    "    'PL': 'Poland',\n",
    "    'PT': 'Portugal',\n",
    "    'QM': 'Marshall Islands', #second country code for the United States\n",
    "    'QZ': 'Unknown or Invalid Area',\n",
    "    'RE': 'Réunion',\n",
    "    'RO': 'Romania',\n",
    "    'RS': 'Serbia',\n",
    "    'RU': 'Russia',\n",
    "    'SE': 'Sweden',\n",
    "    'SG': 'Singapore',\n",
    "    'SI': 'Slovenia',\n",
    "    'SK': 'Slovakia',\n",
    "    'SM': 'San Marino',\n",
    "    'SW': 'Sweden',\n",
    "    'TC': 'Turks and Caicos Islands',\n",
    "    'TH': 'Thailand',\n",
    "    'TR': 'Turkey',\n",
    "    'TW': 'Taiwan',\n",
    "    'UA': 'Ukraine',\n",
    "    'UK': 'United Kingdom',\n",
    "    'UR': 'Uruguay',\n",
    "    'US': 'United States',\n",
    "    'UY': 'Uruguay',\n",
    "    'VE': 'Venezuela',\n",
    "    'VN': 'Vietnam',\n",
    "    'ZA': 'South Africa',\n",
    "    'ZZ': 'Unknown or Invalid Area'\n",
    "}"
   ]
  },
  {
   "cell_type": "markdown",
   "metadata": {},
   "source": [
    "Erstellen eines neuen Features `country`, welches den Namen des jeweiligen Landes beinhaltet."
   ]
  },
  {
   "cell_type": "code",
   "execution_count": 195,
   "metadata": {},
   "outputs": [],
   "source": [
    "by_isrc[\"country\"] = by_isrc[\"country_code\"].apply(lambda x: countries[x])"
   ]
  },
  {
   "cell_type": "markdown",
   "metadata": {},
   "source": [
    "Gruppieren der Daten nach `country` und `country_code`. Dies soll genutzt werden, um zu analysieren, aus welchem Land am meisten Songs veröffentlicht worden sind."
   ]
  },
  {
   "cell_type": "code",
   "execution_count": 196,
   "metadata": {},
   "outputs": [],
   "source": [
    "grouped_countries = by_isrc.copy()\n",
    "grouped_countries = grouped_countries[[\"country_code\", \"country\"]]\n",
    "grouped_countries[\"num_countries\"] = 0\n",
    "grouped_countries = grouped_countries.groupby([\"country_code\", \"country\"]).count()"
   ]
  },
  {
   "cell_type": "code",
   "execution_count": 197,
   "metadata": {},
   "outputs": [],
   "source": [
    "grouped_countries = grouped_countries.sort_values(\"num_countries\", ascending=False)"
   ]
  },
  {
   "cell_type": "code",
   "execution_count": 198,
   "metadata": {},
   "outputs": [],
   "source": [
    "grouped_countries.reset_index(inplace=True)"
   ]
  },
  {
   "cell_type": "code",
   "execution_count": 199,
   "metadata": {},
   "outputs": [],
   "source": [
    "# country und country_code werden kombiniert für eine bessere Darstellung\n",
    "grouped_countries[\"country_comb\"] = grouped_countries.apply(lambda x: f'{x[\"country\"]}-{x[\"country_code\"]}', axis=1)"
   ]
  },
  {
   "cell_type": "code",
   "execution_count": 200,
   "metadata": {},
   "outputs": [
    {
     "data": {
      "application/vnd.plotly.v1+json": {
       "config": {
        "plotlyServerURL": "https://plot.ly"
       },
       "data": [
        {
         "alignmentgroup": "True",
         "hovertemplate": "country_comb=%{x}<br>num_countries=%{y}<extra></extra>",
         "legendgroup": "",
         "marker": {
          "color": "#636efa",
          "pattern": {
           "shape": ""
          }
         },
         "name": "",
         "offsetgroup": "",
         "orientation": "v",
         "showlegend": false,
         "textposition": "auto",
         "type": "bar",
         "x": [
          "United States-US",
          "United Kingdom-GB",
          "Germany-DE",
          "France-FR",
          "Marshall Islands-QM",
          "Brazil-BR",
          "Netherlands-NL",
          "Sweden-SE",
          "Spain-ES",
          "Finland-FI",
          "Italy-IT",
          "Japan-JP",
          "India-IN",
          "Unknown or Invalid Area-QZ",
          "Turkey-TR",
          "Argentina-AR",
          "Czech Republic-CZ",
          "Norway-NO",
          "Indonesia-ID",
          "Denmark-DK",
          "Greece-GR",
          "Canada-CA",
          "Australia-AU",
          "Bulgaria-BG",
          "Croatia-HR",
          "Switzerland-CH",
          "Belgium-BE",
          "Hong Kong-HK",
          "Iceland-IS",
          "Turks and Caicos Islands-TC"
         ],
         "xaxis": "x",
         "y": [
          104973,
          66175,
          32217,
          24923,
          14398,
          14227,
          14013,
          13102,
          11284,
          9801,
          8654,
          8348,
          7780,
          6490,
          5493,
          5144,
          5109,
          4796,
          4667,
          4415,
          4310,
          3844,
          3619,
          3150,
          3099,
          2357,
          2196,
          1881,
          1767,
          1546
         ],
         "yaxis": "y"
        }
       ],
       "layout": {
        "barmode": "relative",
        "height": 500,
        "legend": {
         "tracegroupgap": 0
        },
        "margin": {
         "t": 60
        },
        "template": {
         "data": {
          "bar": [
           {
            "error_x": {
             "color": "#f2f5fa"
            },
            "error_y": {
             "color": "#f2f5fa"
            },
            "marker": {
             "line": {
              "color": "rgb(17,17,17)",
              "width": 0.5
             },
             "pattern": {
              "fillmode": "overlay",
              "size": 10,
              "solidity": 0.2
             }
            },
            "type": "bar"
           }
          ],
          "barpolar": [
           {
            "marker": {
             "line": {
              "color": "rgb(17,17,17)",
              "width": 0.5
             },
             "pattern": {
              "fillmode": "overlay",
              "size": 10,
              "solidity": 0.2
             }
            },
            "type": "barpolar"
           }
          ],
          "carpet": [
           {
            "aaxis": {
             "endlinecolor": "#A2B1C6",
             "gridcolor": "#506784",
             "linecolor": "#506784",
             "minorgridcolor": "#506784",
             "startlinecolor": "#A2B1C6"
            },
            "baxis": {
             "endlinecolor": "#A2B1C6",
             "gridcolor": "#506784",
             "linecolor": "#506784",
             "minorgridcolor": "#506784",
             "startlinecolor": "#A2B1C6"
            },
            "type": "carpet"
           }
          ],
          "choropleth": [
           {
            "colorbar": {
             "outlinewidth": 0,
             "ticks": ""
            },
            "type": "choropleth"
           }
          ],
          "contour": [
           {
            "colorbar": {
             "outlinewidth": 0,
             "ticks": ""
            },
            "colorscale": [
             [
              0,
              "#0d0887"
             ],
             [
              0.1111111111111111,
              "#46039f"
             ],
             [
              0.2222222222222222,
              "#7201a8"
             ],
             [
              0.3333333333333333,
              "#9c179e"
             ],
             [
              0.4444444444444444,
              "#bd3786"
             ],
             [
              0.5555555555555556,
              "#d8576b"
             ],
             [
              0.6666666666666666,
              "#ed7953"
             ],
             [
              0.7777777777777778,
              "#fb9f3a"
             ],
             [
              0.8888888888888888,
              "#fdca26"
             ],
             [
              1,
              "#f0f921"
             ]
            ],
            "type": "contour"
           }
          ],
          "contourcarpet": [
           {
            "colorbar": {
             "outlinewidth": 0,
             "ticks": ""
            },
            "type": "contourcarpet"
           }
          ],
          "heatmap": [
           {
            "colorbar": {
             "outlinewidth": 0,
             "ticks": ""
            },
            "colorscale": [
             [
              0,
              "#0d0887"
             ],
             [
              0.1111111111111111,
              "#46039f"
             ],
             [
              0.2222222222222222,
              "#7201a8"
             ],
             [
              0.3333333333333333,
              "#9c179e"
             ],
             [
              0.4444444444444444,
              "#bd3786"
             ],
             [
              0.5555555555555556,
              "#d8576b"
             ],
             [
              0.6666666666666666,
              "#ed7953"
             ],
             [
              0.7777777777777778,
              "#fb9f3a"
             ],
             [
              0.8888888888888888,
              "#fdca26"
             ],
             [
              1,
              "#f0f921"
             ]
            ],
            "type": "heatmap"
           }
          ],
          "heatmapgl": [
           {
            "colorbar": {
             "outlinewidth": 0,
             "ticks": ""
            },
            "colorscale": [
             [
              0,
              "#0d0887"
             ],
             [
              0.1111111111111111,
              "#46039f"
             ],
             [
              0.2222222222222222,
              "#7201a8"
             ],
             [
              0.3333333333333333,
              "#9c179e"
             ],
             [
              0.4444444444444444,
              "#bd3786"
             ],
             [
              0.5555555555555556,
              "#d8576b"
             ],
             [
              0.6666666666666666,
              "#ed7953"
             ],
             [
              0.7777777777777778,
              "#fb9f3a"
             ],
             [
              0.8888888888888888,
              "#fdca26"
             ],
             [
              1,
              "#f0f921"
             ]
            ],
            "type": "heatmapgl"
           }
          ],
          "histogram": [
           {
            "marker": {
             "pattern": {
              "fillmode": "overlay",
              "size": 10,
              "solidity": 0.2
             }
            },
            "type": "histogram"
           }
          ],
          "histogram2d": [
           {
            "colorbar": {
             "outlinewidth": 0,
             "ticks": ""
            },
            "colorscale": [
             [
              0,
              "#0d0887"
             ],
             [
              0.1111111111111111,
              "#46039f"
             ],
             [
              0.2222222222222222,
              "#7201a8"
             ],
             [
              0.3333333333333333,
              "#9c179e"
             ],
             [
              0.4444444444444444,
              "#bd3786"
             ],
             [
              0.5555555555555556,
              "#d8576b"
             ],
             [
              0.6666666666666666,
              "#ed7953"
             ],
             [
              0.7777777777777778,
              "#fb9f3a"
             ],
             [
              0.8888888888888888,
              "#fdca26"
             ],
             [
              1,
              "#f0f921"
             ]
            ],
            "type": "histogram2d"
           }
          ],
          "histogram2dcontour": [
           {
            "colorbar": {
             "outlinewidth": 0,
             "ticks": ""
            },
            "colorscale": [
             [
              0,
              "#0d0887"
             ],
             [
              0.1111111111111111,
              "#46039f"
             ],
             [
              0.2222222222222222,
              "#7201a8"
             ],
             [
              0.3333333333333333,
              "#9c179e"
             ],
             [
              0.4444444444444444,
              "#bd3786"
             ],
             [
              0.5555555555555556,
              "#d8576b"
             ],
             [
              0.6666666666666666,
              "#ed7953"
             ],
             [
              0.7777777777777778,
              "#fb9f3a"
             ],
             [
              0.8888888888888888,
              "#fdca26"
             ],
             [
              1,
              "#f0f921"
             ]
            ],
            "type": "histogram2dcontour"
           }
          ],
          "mesh3d": [
           {
            "colorbar": {
             "outlinewidth": 0,
             "ticks": ""
            },
            "type": "mesh3d"
           }
          ],
          "parcoords": [
           {
            "line": {
             "colorbar": {
              "outlinewidth": 0,
              "ticks": ""
             }
            },
            "type": "parcoords"
           }
          ],
          "pie": [
           {
            "automargin": true,
            "type": "pie"
           }
          ],
          "scatter": [
           {
            "marker": {
             "line": {
              "color": "#283442"
             }
            },
            "type": "scatter"
           }
          ],
          "scatter3d": [
           {
            "line": {
             "colorbar": {
              "outlinewidth": 0,
              "ticks": ""
             }
            },
            "marker": {
             "colorbar": {
              "outlinewidth": 0,
              "ticks": ""
             }
            },
            "type": "scatter3d"
           }
          ],
          "scattercarpet": [
           {
            "marker": {
             "colorbar": {
              "outlinewidth": 0,
              "ticks": ""
             }
            },
            "type": "scattercarpet"
           }
          ],
          "scattergeo": [
           {
            "marker": {
             "colorbar": {
              "outlinewidth": 0,
              "ticks": ""
             }
            },
            "type": "scattergeo"
           }
          ],
          "scattergl": [
           {
            "marker": {
             "line": {
              "color": "#283442"
             }
            },
            "type": "scattergl"
           }
          ],
          "scattermapbox": [
           {
            "marker": {
             "colorbar": {
              "outlinewidth": 0,
              "ticks": ""
             }
            },
            "type": "scattermapbox"
           }
          ],
          "scatterpolar": [
           {
            "marker": {
             "colorbar": {
              "outlinewidth": 0,
              "ticks": ""
             }
            },
            "type": "scatterpolar"
           }
          ],
          "scatterpolargl": [
           {
            "marker": {
             "colorbar": {
              "outlinewidth": 0,
              "ticks": ""
             }
            },
            "type": "scatterpolargl"
           }
          ],
          "scatterternary": [
           {
            "marker": {
             "colorbar": {
              "outlinewidth": 0,
              "ticks": ""
             }
            },
            "type": "scatterternary"
           }
          ],
          "surface": [
           {
            "colorbar": {
             "outlinewidth": 0,
             "ticks": ""
            },
            "colorscale": [
             [
              0,
              "#0d0887"
             ],
             [
              0.1111111111111111,
              "#46039f"
             ],
             [
              0.2222222222222222,
              "#7201a8"
             ],
             [
              0.3333333333333333,
              "#9c179e"
             ],
             [
              0.4444444444444444,
              "#bd3786"
             ],
             [
              0.5555555555555556,
              "#d8576b"
             ],
             [
              0.6666666666666666,
              "#ed7953"
             ],
             [
              0.7777777777777778,
              "#fb9f3a"
             ],
             [
              0.8888888888888888,
              "#fdca26"
             ],
             [
              1,
              "#f0f921"
             ]
            ],
            "type": "surface"
           }
          ],
          "table": [
           {
            "cells": {
             "fill": {
              "color": "#506784"
             },
             "line": {
              "color": "rgb(17,17,17)"
             }
            },
            "header": {
             "fill": {
              "color": "#2a3f5f"
             },
             "line": {
              "color": "rgb(17,17,17)"
             }
            },
            "type": "table"
           }
          ]
         },
         "layout": {
          "annotationdefaults": {
           "arrowcolor": "#f2f5fa",
           "arrowhead": 0,
           "arrowwidth": 1
          },
          "autotypenumbers": "strict",
          "coloraxis": {
           "colorbar": {
            "outlinewidth": 0,
            "ticks": ""
           }
          },
          "colorscale": {
           "diverging": [
            [
             0,
             "#8e0152"
            ],
            [
             0.1,
             "#c51b7d"
            ],
            [
             0.2,
             "#de77ae"
            ],
            [
             0.3,
             "#f1b6da"
            ],
            [
             0.4,
             "#fde0ef"
            ],
            [
             0.5,
             "#f7f7f7"
            ],
            [
             0.6,
             "#e6f5d0"
            ],
            [
             0.7,
             "#b8e186"
            ],
            [
             0.8,
             "#7fbc41"
            ],
            [
             0.9,
             "#4d9221"
            ],
            [
             1,
             "#276419"
            ]
           ],
           "sequential": [
            [
             0,
             "#0d0887"
            ],
            [
             0.1111111111111111,
             "#46039f"
            ],
            [
             0.2222222222222222,
             "#7201a8"
            ],
            [
             0.3333333333333333,
             "#9c179e"
            ],
            [
             0.4444444444444444,
             "#bd3786"
            ],
            [
             0.5555555555555556,
             "#d8576b"
            ],
            [
             0.6666666666666666,
             "#ed7953"
            ],
            [
             0.7777777777777778,
             "#fb9f3a"
            ],
            [
             0.8888888888888888,
             "#fdca26"
            ],
            [
             1,
             "#f0f921"
            ]
           ],
           "sequentialminus": [
            [
             0,
             "#0d0887"
            ],
            [
             0.1111111111111111,
             "#46039f"
            ],
            [
             0.2222222222222222,
             "#7201a8"
            ],
            [
             0.3333333333333333,
             "#9c179e"
            ],
            [
             0.4444444444444444,
             "#bd3786"
            ],
            [
             0.5555555555555556,
             "#d8576b"
            ],
            [
             0.6666666666666666,
             "#ed7953"
            ],
            [
             0.7777777777777778,
             "#fb9f3a"
            ],
            [
             0.8888888888888888,
             "#fdca26"
            ],
            [
             1,
             "#f0f921"
            ]
           ]
          },
          "colorway": [
           "#636efa",
           "#EF553B",
           "#00cc96",
           "#ab63fa",
           "#FFA15A",
           "#19d3f3",
           "#FF6692",
           "#B6E880",
           "#FF97FF",
           "#FECB52"
          ],
          "font": {
           "color": "#f2f5fa"
          },
          "geo": {
           "bgcolor": "rgb(17,17,17)",
           "lakecolor": "rgb(17,17,17)",
           "landcolor": "rgb(17,17,17)",
           "showlakes": true,
           "showland": true,
           "subunitcolor": "#506784"
          },
          "hoverlabel": {
           "align": "left"
          },
          "hovermode": "closest",
          "mapbox": {
           "style": "dark"
          },
          "paper_bgcolor": "rgb(17,17,17)",
          "plot_bgcolor": "rgb(17,17,17)",
          "polar": {
           "angularaxis": {
            "gridcolor": "#506784",
            "linecolor": "#506784",
            "ticks": ""
           },
           "bgcolor": "rgb(17,17,17)",
           "radialaxis": {
            "gridcolor": "#506784",
            "linecolor": "#506784",
            "ticks": ""
           }
          },
          "scene": {
           "xaxis": {
            "backgroundcolor": "rgb(17,17,17)",
            "gridcolor": "#506784",
            "gridwidth": 2,
            "linecolor": "#506784",
            "showbackground": true,
            "ticks": "",
            "zerolinecolor": "#C8D4E3"
           },
           "yaxis": {
            "backgroundcolor": "rgb(17,17,17)",
            "gridcolor": "#506784",
            "gridwidth": 2,
            "linecolor": "#506784",
            "showbackground": true,
            "ticks": "",
            "zerolinecolor": "#C8D4E3"
           },
           "zaxis": {
            "backgroundcolor": "rgb(17,17,17)",
            "gridcolor": "#506784",
            "gridwidth": 2,
            "linecolor": "#506784",
            "showbackground": true,
            "ticks": "",
            "zerolinecolor": "#C8D4E3"
           }
          },
          "shapedefaults": {
           "line": {
            "color": "#f2f5fa"
           }
          },
          "sliderdefaults": {
           "bgcolor": "#C8D4E3",
           "bordercolor": "rgb(17,17,17)",
           "borderwidth": 1,
           "tickwidth": 0
          },
          "ternary": {
           "aaxis": {
            "gridcolor": "#506784",
            "linecolor": "#506784",
            "ticks": ""
           },
           "baxis": {
            "gridcolor": "#506784",
            "linecolor": "#506784",
            "ticks": ""
           },
           "bgcolor": "rgb(17,17,17)",
           "caxis": {
            "gridcolor": "#506784",
            "linecolor": "#506784",
            "ticks": ""
           }
          },
          "title": {
           "x": 0.05
          },
          "updatemenudefaults": {
           "bgcolor": "#506784",
           "borderwidth": 0
          },
          "xaxis": {
           "automargin": true,
           "gridcolor": "#283442",
           "linecolor": "#506784",
           "ticks": "",
           "title": {
            "standoff": 15
           },
           "zerolinecolor": "#283442",
           "zerolinewidth": 2
          },
          "yaxis": {
           "automargin": true,
           "gridcolor": "#283442",
           "linecolor": "#506784",
           "ticks": "",
           "title": {
            "standoff": 15
           },
           "zerolinecolor": "#283442",
           "zerolinewidth": 2
          }
         }
        },
        "title": {
         "text": "Veröffentlichte Songs pro Land (Top 30)"
        },
        "xaxis": {
         "anchor": "y",
         "domain": [
          0,
          1
         ],
         "title": {
          "text": "Land"
         }
        },
        "yaxis": {
         "anchor": "x",
         "domain": [
          0,
          1
         ],
         "title": {
          "text": "Veröffentlichte Songs"
         }
        }
       }
      }
     },
     "metadata": {},
     "output_type": "display_data"
    }
   ],
   "source": [
    "fig = px.bar(grouped_countries[:30], x=\"country_comb\", y=\"num_countries\", template=\"plotly_dark\")\n",
    "fig.update_layout(\n",
    "    height=500,\n",
    "    title=\"Veröffentlichte Songs pro Land (Top 30)\",\n",
    "    xaxis_title=\"Land\",\n",
    "    yaxis_title=\"Veröffentlichte Songs\"\n",
    ")\n",
    "fig.show()"
   ]
  },
  {
   "cell_type": "markdown",
   "metadata": {},
   "source": [
    "Es sollen alle Lieder entfernt werden welche nicht aus englischsprachigen Länger (US, UK, CA, AU, Neuseeland) sowie Deutschland, Schweiz, Österreich, Italien und Schweden stammen."
   ]
  },
  {
   "cell_type": "code",
   "execution_count": 201,
   "metadata": {},
   "outputs": [],
   "source": [
    "important_country_codes = [\"US\", \"GB\", \"CA\", \"AU\", \"NZ\", \"DE\", \"CH\", \"AT\", \"IT\", \"SE\"]\n",
    "\n",
    "# kleinere Inselgegenden von Amerika: Baker Island, Howland Island, Jarvis Island, Johnston Atoll, Kingman Reef, Midway Islands, Navassa Island, Palmyra Atoll, Wake Island\n",
    "minor_insular_areas_us = [\"XB\", \"XH\", \"XQ\", \"XU\", \"XM\", \"QM\", \"XV\", \"XL\", \"QW\"]\n",
    "important_country_codes.extend(minor_insular_areas_us)"
   ]
  },
  {
   "cell_type": "markdown",
   "metadata": {},
   "source": [
    "`QM` wird heute als zusätzlicher Country code für Amerika verwendet, da der Code `US` sein Limit erreicht hat. Da dieser Beschluss jedoch aus 2010 stammt, sollten die Lieder der 80er nicht beeinflusst werden?"
   ]
  },
  {
   "cell_type": "code",
   "execution_count": 202,
   "metadata": {},
   "outputs": [
    {
     "data": {
      "text/html": [
       "<div>\n",
       "<style scoped>\n",
       "    .dataframe tbody tr th:only-of-type {\n",
       "        vertical-align: middle;\n",
       "    }\n",
       "\n",
       "    .dataframe tbody tr th {\n",
       "        vertical-align: top;\n",
       "    }\n",
       "\n",
       "    .dataframe thead th {\n",
       "        text-align: right;\n",
       "    }\n",
       "</style>\n",
       "<table border=\"1\" class=\"dataframe\">\n",
       "  <thead>\n",
       "    <tr style=\"text-align: right;\">\n",
       "      <th></th>\n",
       "      <th>isrc</th>\n",
       "      <th>genres</th>\n",
       "      <th>name</th>\n",
       "      <th>artists</th>\n",
       "      <th>popularity</th>\n",
       "      <th>chart_power</th>\n",
       "    </tr>\n",
       "  </thead>\n",
       "  <tbody>\n",
       "    <tr>\n",
       "      <th>274154</th>\n",
       "      <td>QMKHM1600219</td>\n",
       "      <td>['hard-rock', 'metal', 'rock']</td>\n",
       "      <td>master of puppets</td>\n",
       "      <td>metallica</td>\n",
       "      <td>80</td>\n",
       "      <td>NaN</td>\n",
       "    </tr>\n",
       "    <tr>\n",
       "      <th>274107</th>\n",
       "      <td>QMKHM1600096</td>\n",
       "      <td>['hard-rock', 'metal', 'rock']</td>\n",
       "      <td>for whom the bell tolls - remastered</td>\n",
       "      <td>metallica</td>\n",
       "      <td>75</td>\n",
       "      <td>NaN</td>\n",
       "    </tr>\n",
       "    <tr>\n",
       "      <th>271243</th>\n",
       "      <td>QMFME1326440</td>\n",
       "      <td>['latin', 'pop']</td>\n",
       "      <td>tu dama de hierro</td>\n",
       "      <td>marisela</td>\n",
       "      <td>71</td>\n",
       "      <td>NaN</td>\n",
       "    </tr>\n",
       "    <tr>\n",
       "      <th>274108</th>\n",
       "      <td>QMKHM1600097</td>\n",
       "      <td>['hard-rock', 'metal', 'rock']</td>\n",
       "      <td>fade to black - remastered</td>\n",
       "      <td>metallica</td>\n",
       "      <td>70</td>\n",
       "      <td>NaN</td>\n",
       "    </tr>\n",
       "    <tr>\n",
       "      <th>274057</th>\n",
       "      <td>QMKHM1600034</td>\n",
       "      <td>['hard-rock', 'metal', 'rock']</td>\n",
       "      <td>seek &amp; destroy - remastered</td>\n",
       "      <td>metallica</td>\n",
       "      <td>69</td>\n",
       "      <td>NaN</td>\n",
       "    </tr>\n",
       "    <tr>\n",
       "      <th>...</th>\n",
       "      <td>...</td>\n",
       "      <td>...</td>\n",
       "      <td>...</td>\n",
       "      <td>...</td>\n",
       "      <td>...</td>\n",
       "      <td>...</td>\n",
       "    </tr>\n",
       "    <tr>\n",
       "      <th>267541</th>\n",
       "      <td>QM7281628419</td>\n",
       "      <td>['tango']</td>\n",
       "      <td>fuegos artificiales</td>\n",
       "      <td>juan d'arienzo y su orquesta típica</td>\n",
       "      <td>0</td>\n",
       "      <td>NaN</td>\n",
       "    </tr>\n",
       "    <tr>\n",
       "      <th>267551</th>\n",
       "      <td>QM7281713701</td>\n",
       "      <td>['jazz']</td>\n",
       "      <td>raincheck</td>\n",
       "      <td>nick brignola</td>\n",
       "      <td>0</td>\n",
       "      <td>NaN</td>\n",
       "    </tr>\n",
       "    <tr>\n",
       "      <th>267552</th>\n",
       "      <td>QM7281713702</td>\n",
       "      <td>['jazz']</td>\n",
       "      <td>tenderly</td>\n",
       "      <td>nick brignola</td>\n",
       "      <td>0</td>\n",
       "      <td>NaN</td>\n",
       "    </tr>\n",
       "    <tr>\n",
       "      <th>267553</th>\n",
       "      <td>QM7281713703</td>\n",
       "      <td>['jazz']</td>\n",
       "      <td>hurricane connie</td>\n",
       "      <td>nick brignola</td>\n",
       "      <td>0</td>\n",
       "      <td>NaN</td>\n",
       "    </tr>\n",
       "    <tr>\n",
       "      <th>275326</th>\n",
       "      <td>QMZUC1500048</td>\n",
       "      <td>['jazz']</td>\n",
       "      <td>siclienne</td>\n",
       "      <td>alexander zonjic</td>\n",
       "      <td>0</td>\n",
       "      <td>NaN</td>\n",
       "    </tr>\n",
       "  </tbody>\n",
       "</table>\n",
       "<p>14398 rows × 6 columns</p>\n",
       "</div>"
      ],
      "text/plain": [
       "                isrc                          genres  \\\n",
       "274154  QMKHM1600219  ['hard-rock', 'metal', 'rock']   \n",
       "274107  QMKHM1600096  ['hard-rock', 'metal', 'rock']   \n",
       "271243  QMFME1326440                ['latin', 'pop']   \n",
       "274108  QMKHM1600097  ['hard-rock', 'metal', 'rock']   \n",
       "274057  QMKHM1600034  ['hard-rock', 'metal', 'rock']   \n",
       "...              ...                             ...   \n",
       "267541  QM7281628419                       ['tango']   \n",
       "267551  QM7281713701                        ['jazz']   \n",
       "267552  QM7281713702                        ['jazz']   \n",
       "267553  QM7281713703                        ['jazz']   \n",
       "275326  QMZUC1500048                        ['jazz']   \n",
       "\n",
       "                                        name  \\\n",
       "274154                     master of puppets   \n",
       "274107  for whom the bell tolls - remastered   \n",
       "271243                     tu dama de hierro   \n",
       "274108            fade to black - remastered   \n",
       "274057           seek & destroy - remastered   \n",
       "...                                      ...   \n",
       "267541                   fuegos artificiales   \n",
       "267551                             raincheck   \n",
       "267552                              tenderly   \n",
       "267553                      hurricane connie   \n",
       "275326                             siclienne   \n",
       "\n",
       "                                    artists  popularity  chart_power  \n",
       "274154                            metallica          80          NaN  \n",
       "274107                            metallica          75          NaN  \n",
       "271243                             marisela          71          NaN  \n",
       "274108                            metallica          70          NaN  \n",
       "274057                            metallica          69          NaN  \n",
       "...                                     ...         ...          ...  \n",
       "267541  juan d'arienzo y su orquesta típica           0          NaN  \n",
       "267551                        nick brignola           0          NaN  \n",
       "267552                        nick brignola           0          NaN  \n",
       "267553                        nick brignola           0          NaN  \n",
       "275326                     alexander zonjic           0          NaN  \n",
       "\n",
       "[14398 rows x 6 columns]"
      ]
     },
     "execution_count": 202,
     "metadata": {},
     "output_type": "execute_result"
    }
   ],
   "source": [
    "by_isrc[by_isrc[\"country_code\"] == \"QM\"].sort_values(\"popularity\", ascending=False)[[\"isrc\", \"genres\", \"name\", \"artists\", \"popularity\", \"chart_power\"]]"
   ]
  },
  {
   "cell_type": "markdown",
   "metadata": {},
   "source": [
    "Herausfiltern der Lieder aus den \"wichtigen\" Länder."
   ]
  },
  {
   "cell_type": "code",
   "execution_count": 203,
   "metadata": {},
   "outputs": [],
   "source": [
    "reduced_isrc = by_isrc.copy()\n",
    "reduced_isrc = reduced_isrc[reduced_isrc[\"country_code\"].isin(important_country_codes)]\n",
    "reduced_isrc[\"genres\"] = reduced_isrc[\"genres\"].apply(literal_eval)"
   ]
  },
  {
   "cell_type": "code",
   "execution_count": 204,
   "metadata": {},
   "outputs": [
    {
     "name": "stdout",
     "output_type": "stream",
     "text": [
      "Die Anzahl der Lieder hat sich von 416154 auf 251101 verringert.\n"
     ]
    }
   ],
   "source": [
    "print(f\"Die Anzahl der Lieder hat sich von {by_isrc.shape[0]} auf {reduced_isrc.shape[0]} verringert.\")"
   ]
  },
  {
   "cell_type": "markdown",
   "metadata": {},
   "source": [
    "Gruppieren der Daten nach den Genres => Welche Genres waren in den wichtigen Ländern relevant?"
   ]
  },
  {
   "cell_type": "code",
   "execution_count": 205,
   "metadata": {},
   "outputs": [],
   "source": [
    "def filter_important_genres(df):\n",
    "  important_genres = df.copy()\n",
    "  important_genres = important_genres.explode(\"genres\")\n",
    "  important_genres[\"num\"] = 0\n",
    "  important_genres = important_genres[[\"genres\", \"num\"]]\n",
    "  important_genres = important_genres.groupby(\"genres\").count()\n",
    "  important_genres.reset_index(inplace=True)\n",
    "  important_genres = important_genres.sort_values(\"num\", ascending=False)\n",
    "  return important_genres"
   ]
  },
  {
   "cell_type": "code",
   "execution_count": 206,
   "metadata": {},
   "outputs": [
    {
     "data": {
      "text/html": [
       "<div>\n",
       "<style scoped>\n",
       "    .dataframe tbody tr th:only-of-type {\n",
       "        vertical-align: middle;\n",
       "    }\n",
       "\n",
       "    .dataframe tbody tr th {\n",
       "        vertical-align: top;\n",
       "    }\n",
       "\n",
       "    .dataframe thead th {\n",
       "        text-align: right;\n",
       "    }\n",
       "</style>\n",
       "<table border=\"1\" class=\"dataframe\">\n",
       "  <thead>\n",
       "    <tr style=\"text-align: right;\">\n",
       "      <th></th>\n",
       "      <th>genres</th>\n",
       "      <th>num</th>\n",
       "    </tr>\n",
       "  </thead>\n",
       "  <tbody>\n",
       "    <tr>\n",
       "      <th>16</th>\n",
       "      <td>classical</td>\n",
       "      <td>63432</td>\n",
       "    </tr>\n",
       "    <tr>\n",
       "      <th>87</th>\n",
       "      <td>rock</td>\n",
       "      <td>60598</td>\n",
       "    </tr>\n",
       "    <tr>\n",
       "      <th>77</th>\n",
       "      <td>pop</td>\n",
       "      <td>48841</td>\n",
       "    </tr>\n",
       "    <tr>\n",
       "      <th>38</th>\n",
       "      <td>german</td>\n",
       "      <td>28985</td>\n",
       "    </tr>\n",
       "    <tr>\n",
       "      <th>62</th>\n",
       "      <td>jazz</td>\n",
       "      <td>22632</td>\n",
       "    </tr>\n",
       "    <tr>\n",
       "      <th>...</th>\n",
       "      <td>...</td>\n",
       "      <td>...</td>\n",
       "    </tr>\n",
       "    <tr>\n",
       "      <th>28</th>\n",
       "      <td>dubstep</td>\n",
       "      <td>2</td>\n",
       "    </tr>\n",
       "    <tr>\n",
       "      <th>12</th>\n",
       "      <td>cantopop</td>\n",
       "      <td>1</td>\n",
       "    </tr>\n",
       "    <tr>\n",
       "      <th>53</th>\n",
       "      <td>idm</td>\n",
       "      <td>1</td>\n",
       "    </tr>\n",
       "    <tr>\n",
       "      <th>69</th>\n",
       "      <td>metalcore</td>\n",
       "      <td>1</td>\n",
       "    </tr>\n",
       "    <tr>\n",
       "      <th>90</th>\n",
       "      <td>romance</td>\n",
       "      <td>1</td>\n",
       "    </tr>\n",
       "  </tbody>\n",
       "</table>\n",
       "<p>108 rows × 2 columns</p>\n",
       "</div>"
      ],
      "text/plain": [
       "       genres    num\n",
       "16  classical  63432\n",
       "87       rock  60598\n",
       "77        pop  48841\n",
       "38     german  28985\n",
       "62       jazz  22632\n",
       "..        ...    ...\n",
       "28    dubstep      2\n",
       "12   cantopop      1\n",
       "53        idm      1\n",
       "69  metalcore      1\n",
       "90    romance      1\n",
       "\n",
       "[108 rows x 2 columns]"
      ]
     },
     "execution_count": 206,
     "metadata": {},
     "output_type": "execute_result"
    }
   ],
   "source": [
    "filter_important_genres(reduced_isrc)"
   ]
  },
  {
   "cell_type": "markdown",
   "metadata": {},
   "source": [
    "Am meisten Lieder wurden für das Genre Klassik veröffentlicht. Da dieses Genre nicht wirklich relevant ist, müssen zunächst die irrelevanten Genres entfernt werden. Hiebei gibt es zwei verschiedene Wege. Verfügt ein Künstler sowohl über ein erwünschtes als auch ein unerwünschtes Genre, so können entweder alle Songs von ihm behalten oder entfernt werden. Zunächst wird geprüft, wie häufig ein solcher Fall eintritt."
   ]
  },
  {
   "cell_type": "code",
   "execution_count": 207,
   "metadata": {},
   "outputs": [],
   "source": [
    "unwanted_genres = [\"classical\", \"jazz\", \"folk\", \"french\", \"turkish\", \"gospel\", \"samba\", \"piano\", \"mpb\", \"sertanejo\", \"pagode\", \"sleep\", \"forro\", \"malay\", \"anime\",\n",
    "                 \"j-idol\", \"comedy\", \"mandopop\", \"cantopop\", \"show-tunes\", \"emo\", \"romance\", \"j-dance\", \"chill\", \"world-music\", \"iranian\", \"idm\", \"metalcore\",\n",
    "                 \"hardstyle\", \"opera\", \"k-pop\", \"j-pop\", \"j-rock\", \"happy\"]"
   ]
  },
  {
   "cell_type": "code",
   "execution_count": 208,
   "metadata": {},
   "outputs": [],
   "source": [
    "occ_unwanted_and_wanted = by_isrc.copy()\n",
    "occ_unwanted_and_wanted = occ_unwanted_and_wanted[[\"genres\"]]\n",
    "occ_unwanted_and_wanted[\"genres\"] = occ_unwanted_and_wanted[\"genres\"].apply(literal_eval)\n",
    "occ_unwanted_and_wanted = occ_unwanted_and_wanted.explode(\"genres\")"
   ]
  },
  {
   "cell_type": "code",
   "execution_count": 209,
   "metadata": {},
   "outputs": [],
   "source": [
    "wanted_genres = list(set(occ_unwanted_and_wanted[\"genres\"].unique()).difference(unwanted_genres))"
   ]
  },
  {
   "cell_type": "code",
   "execution_count": 210,
   "metadata": {},
   "outputs": [],
   "source": [
    "def filter_row(row):\n",
    "    has_wanted_genre = any(genre in row['genres'] for genre in wanted_genres)\n",
    "    has_not_wanted_genre = any(genre in row['genres'] for genre in unwanted_genres)\n",
    "    return has_wanted_genre and has_not_wanted_genre"
   ]
  },
  {
   "cell_type": "code",
   "execution_count": 211,
   "metadata": {},
   "outputs": [],
   "source": [
    "occ_unwanted_and_wanted_df = reduced_isrc[reduced_isrc.apply(filter_row, axis=1)]"
   ]
  },
  {
   "cell_type": "code",
   "execution_count": 212,
   "metadata": {},
   "outputs": [
    {
     "name": "stdout",
     "output_type": "stream",
     "text": [
      "Insgesamt gibt es 48318 Lieder, welche über ein erwünschtes und ein unerwünschtes Genre verfügen.\n"
     ]
    }
   ],
   "source": [
    "print(f\"Insgesamt gibt es {occ_unwanted_and_wanted_df.shape[0]} Lieder, welche über ein erwünschtes und ein unerwünschtes Genre verfügen.\")"
   ]
  },
  {
   "cell_type": "code",
   "execution_count": 213,
   "metadata": {},
   "outputs": [
    {
     "name": "stdout",
     "output_type": "stream",
     "text": [
      "Hierbei gibt es 582 verschiedene Kombinationen der Genres.\n"
     ]
    }
   ],
   "source": [
    "print(f\"Hierbei gibt es {len(list(occ_unwanted_and_wanted_df.genres.astype(str).unique()))} verschiedene Kombinationen der Genres.\")"
   ]
  },
  {
   "cell_type": "markdown",
   "metadata": {},
   "source": [
    "## Visualisierung Kombination"
   ]
  },
  {
   "cell_type": "markdown",
   "metadata": {},
   "source": [
    "Es werden alle Songs entfernt, welche mindestens ein unerwünschtes Feature beinhalten."
   ]
  },
  {
   "cell_type": "code",
   "execution_count": 214,
   "metadata": {},
   "outputs": [],
   "source": [
    "by_isrc_sub = by_isrc.copy()\n",
    "by_isrc_sub = by_isrc_sub[['isrc', 'genres']]\n",
    "by_isrc_sub = by_isrc_sub[~by_isrc_sub['genres'].str.contains('|'.join(unwanted_genres))]\n",
    "by_isrc_sub['genres'] = by_isrc_sub['genres'].apply(literal_eval)"
   ]
  },
  {
   "cell_type": "markdown",
   "metadata": {},
   "source": [
    "Das neu entstandene DataFrame soll nun mit dem bereits auf die wichtigen Länder reduzierten DataFrame gemerged werden."
   ]
  },
  {
   "cell_type": "code",
   "execution_count": 215,
   "metadata": {},
   "outputs": [],
   "source": [
    "#reduced_isrc.drop(columns=\"genres\", inplace=True)"
   ]
  },
  {
   "cell_type": "code",
   "execution_count": 216,
   "metadata": {},
   "outputs": [
    {
     "data": {
      "text/plain": [
       "((251101, 27), (220702, 2))"
      ]
     },
     "execution_count": 216,
     "metadata": {},
     "output_type": "execute_result"
    }
   ],
   "source": [
    "reduced_isrc.shape, by_isrc_sub.shape"
   ]
  },
  {
   "cell_type": "code",
   "execution_count": 217,
   "metadata": {},
   "outputs": [],
   "source": [
    "reduced_isrc = reduced_isrc.merge(by_isrc_sub[[\"isrc\"]], how=\"inner\", on=\"isrc\")"
   ]
  },
  {
   "cell_type": "code",
   "execution_count": 218,
   "metadata": {},
   "outputs": [
    {
     "name": "stdout",
     "output_type": "stream",
     "text": [
      "Die Anzahl der Songs hat sich weiter auf 139629 verringert. Die Anzahl der Features ist bei 27 geblieben.\n"
     ]
    }
   ],
   "source": [
    "print(f\"Die Anzahl der Songs hat sich weiter auf {reduced_isrc.shape[0]} verringert. Die Anzahl der Features ist bei {reduced_isrc.shape[1]} geblieben.\")"
   ]
  },
  {
   "cell_type": "code",
   "execution_count": 219,
   "metadata": {},
   "outputs": [
    {
     "data": {
      "text/html": [
       "<div>\n",
       "<style scoped>\n",
       "    .dataframe tbody tr th:only-of-type {\n",
       "        vertical-align: middle;\n",
       "    }\n",
       "\n",
       "    .dataframe tbody tr th {\n",
       "        vertical-align: top;\n",
       "    }\n",
       "\n",
       "    .dataframe thead th {\n",
       "        text-align: right;\n",
       "    }\n",
       "</style>\n",
       "<table border=\"1\" class=\"dataframe\">\n",
       "  <thead>\n",
       "    <tr style=\"text-align: right;\">\n",
       "      <th></th>\n",
       "      <th>genres</th>\n",
       "      <th>num</th>\n",
       "    </tr>\n",
       "  </thead>\n",
       "  <tbody>\n",
       "    <tr>\n",
       "      <th>61</th>\n",
       "      <td>rock</td>\n",
       "      <td>52805</td>\n",
       "    </tr>\n",
       "    <tr>\n",
       "      <th>51</th>\n",
       "      <td>pop</td>\n",
       "      <td>43525</td>\n",
       "    </tr>\n",
       "    <tr>\n",
       "      <th>56</th>\n",
       "      <td>punk</td>\n",
       "      <td>16552</td>\n",
       "    </tr>\n",
       "    <tr>\n",
       "      <th>14</th>\n",
       "      <td>country</td>\n",
       "      <td>12353</td>\n",
       "    </tr>\n",
       "    <tr>\n",
       "      <th>47</th>\n",
       "      <td>metal</td>\n",
       "      <td>11743</td>\n",
       "    </tr>\n",
       "    <tr>\n",
       "      <th>35</th>\n",
       "      <td>hard-rock</td>\n",
       "      <td>9228</td>\n",
       "    </tr>\n",
       "    <tr>\n",
       "      <th>29</th>\n",
       "      <td>german</td>\n",
       "      <td>8980</td>\n",
       "    </tr>\n",
       "    <tr>\n",
       "      <th>20</th>\n",
       "      <td>disco</td>\n",
       "      <td>8065</td>\n",
       "    </tr>\n",
       "    <tr>\n",
       "      <th>70</th>\n",
       "      <td>swedish</td>\n",
       "      <td>7964</td>\n",
       "    </tr>\n",
       "    <tr>\n",
       "      <th>68</th>\n",
       "      <td>soul</td>\n",
       "      <td>7289</td>\n",
       "    </tr>\n",
       "  </tbody>\n",
       "</table>\n",
       "</div>"
      ],
      "text/plain": [
       "       genres    num\n",
       "61       rock  52805\n",
       "51        pop  43525\n",
       "56       punk  16552\n",
       "14    country  12353\n",
       "47      metal  11743\n",
       "35  hard-rock   9228\n",
       "29     german   8980\n",
       "20      disco   8065\n",
       "70    swedish   7964\n",
       "68       soul   7289"
      ]
     },
     "execution_count": 219,
     "metadata": {},
     "output_type": "execute_result"
    }
   ],
   "source": [
    "important_genres = filter_important_genres(reduced_isrc)\n",
    "important_genres = important_genres.sort_values(\"num\", ascending=False)\n",
    "important_genres.head(10)"
   ]
  },
  {
   "cell_type": "code",
   "execution_count": 220,
   "metadata": {},
   "outputs": [
    {
     "data": {
      "application/vnd.plotly.v1+json": {
       "config": {
        "plotlyServerURL": "https://plot.ly"
       },
       "data": [
        {
         "alignmentgroup": "True",
         "hovertemplate": "genres=%{x}<br>num=%{y}<extra></extra>",
         "legendgroup": "",
         "marker": {
          "color": "#636efa",
          "pattern": {
           "shape": ""
          }
         },
         "name": "",
         "offsetgroup": "",
         "orientation": "v",
         "showlegend": false,
         "textposition": "auto",
         "type": "bar",
         "x": [
          "rock",
          "pop",
          "punk",
          "country",
          "metal",
          "hard-rock",
          "german",
          "disco",
          "swedish",
          "soul",
          "blues",
          "punk-rock",
          "synth-pop",
          "alternative",
          "british",
          "alt-rock",
          "funk",
          "hardcore",
          "singer-songwriter",
          "songwriter",
          "dance",
          "reggae",
          "indie",
          "r-n-b",
          "industrial",
          "hip-hop",
          "dub",
          "power-pop",
          "salsa",
          "goth"
         ],
         "xaxis": "x",
         "y": [
          52805,
          43525,
          16552,
          12353,
          11743,
          9228,
          8980,
          8065,
          7964,
          7289,
          7118,
          6372,
          6369,
          6126,
          6000,
          5847,
          5616,
          5138,
          3542,
          3539,
          3469,
          3376,
          3289,
          2783,
          2512,
          2247,
          2176,
          2174,
          1959,
          1822
         ],
         "yaxis": "y"
        }
       ],
       "layout": {
        "barmode": "relative",
        "height": 500,
        "legend": {
         "tracegroupgap": 0
        },
        "margin": {
         "t": 60
        },
        "template": {
         "data": {
          "bar": [
           {
            "error_x": {
             "color": "#f2f5fa"
            },
            "error_y": {
             "color": "#f2f5fa"
            },
            "marker": {
             "line": {
              "color": "rgb(17,17,17)",
              "width": 0.5
             },
             "pattern": {
              "fillmode": "overlay",
              "size": 10,
              "solidity": 0.2
             }
            },
            "type": "bar"
           }
          ],
          "barpolar": [
           {
            "marker": {
             "line": {
              "color": "rgb(17,17,17)",
              "width": 0.5
             },
             "pattern": {
              "fillmode": "overlay",
              "size": 10,
              "solidity": 0.2
             }
            },
            "type": "barpolar"
           }
          ],
          "carpet": [
           {
            "aaxis": {
             "endlinecolor": "#A2B1C6",
             "gridcolor": "#506784",
             "linecolor": "#506784",
             "minorgridcolor": "#506784",
             "startlinecolor": "#A2B1C6"
            },
            "baxis": {
             "endlinecolor": "#A2B1C6",
             "gridcolor": "#506784",
             "linecolor": "#506784",
             "minorgridcolor": "#506784",
             "startlinecolor": "#A2B1C6"
            },
            "type": "carpet"
           }
          ],
          "choropleth": [
           {
            "colorbar": {
             "outlinewidth": 0,
             "ticks": ""
            },
            "type": "choropleth"
           }
          ],
          "contour": [
           {
            "colorbar": {
             "outlinewidth": 0,
             "ticks": ""
            },
            "colorscale": [
             [
              0,
              "#0d0887"
             ],
             [
              0.1111111111111111,
              "#46039f"
             ],
             [
              0.2222222222222222,
              "#7201a8"
             ],
             [
              0.3333333333333333,
              "#9c179e"
             ],
             [
              0.4444444444444444,
              "#bd3786"
             ],
             [
              0.5555555555555556,
              "#d8576b"
             ],
             [
              0.6666666666666666,
              "#ed7953"
             ],
             [
              0.7777777777777778,
              "#fb9f3a"
             ],
             [
              0.8888888888888888,
              "#fdca26"
             ],
             [
              1,
              "#f0f921"
             ]
            ],
            "type": "contour"
           }
          ],
          "contourcarpet": [
           {
            "colorbar": {
             "outlinewidth": 0,
             "ticks": ""
            },
            "type": "contourcarpet"
           }
          ],
          "heatmap": [
           {
            "colorbar": {
             "outlinewidth": 0,
             "ticks": ""
            },
            "colorscale": [
             [
              0,
              "#0d0887"
             ],
             [
              0.1111111111111111,
              "#46039f"
             ],
             [
              0.2222222222222222,
              "#7201a8"
             ],
             [
              0.3333333333333333,
              "#9c179e"
             ],
             [
              0.4444444444444444,
              "#bd3786"
             ],
             [
              0.5555555555555556,
              "#d8576b"
             ],
             [
              0.6666666666666666,
              "#ed7953"
             ],
             [
              0.7777777777777778,
              "#fb9f3a"
             ],
             [
              0.8888888888888888,
              "#fdca26"
             ],
             [
              1,
              "#f0f921"
             ]
            ],
            "type": "heatmap"
           }
          ],
          "heatmapgl": [
           {
            "colorbar": {
             "outlinewidth": 0,
             "ticks": ""
            },
            "colorscale": [
             [
              0,
              "#0d0887"
             ],
             [
              0.1111111111111111,
              "#46039f"
             ],
             [
              0.2222222222222222,
              "#7201a8"
             ],
             [
              0.3333333333333333,
              "#9c179e"
             ],
             [
              0.4444444444444444,
              "#bd3786"
             ],
             [
              0.5555555555555556,
              "#d8576b"
             ],
             [
              0.6666666666666666,
              "#ed7953"
             ],
             [
              0.7777777777777778,
              "#fb9f3a"
             ],
             [
              0.8888888888888888,
              "#fdca26"
             ],
             [
              1,
              "#f0f921"
             ]
            ],
            "type": "heatmapgl"
           }
          ],
          "histogram": [
           {
            "marker": {
             "pattern": {
              "fillmode": "overlay",
              "size": 10,
              "solidity": 0.2
             }
            },
            "type": "histogram"
           }
          ],
          "histogram2d": [
           {
            "colorbar": {
             "outlinewidth": 0,
             "ticks": ""
            },
            "colorscale": [
             [
              0,
              "#0d0887"
             ],
             [
              0.1111111111111111,
              "#46039f"
             ],
             [
              0.2222222222222222,
              "#7201a8"
             ],
             [
              0.3333333333333333,
              "#9c179e"
             ],
             [
              0.4444444444444444,
              "#bd3786"
             ],
             [
              0.5555555555555556,
              "#d8576b"
             ],
             [
              0.6666666666666666,
              "#ed7953"
             ],
             [
              0.7777777777777778,
              "#fb9f3a"
             ],
             [
              0.8888888888888888,
              "#fdca26"
             ],
             [
              1,
              "#f0f921"
             ]
            ],
            "type": "histogram2d"
           }
          ],
          "histogram2dcontour": [
           {
            "colorbar": {
             "outlinewidth": 0,
             "ticks": ""
            },
            "colorscale": [
             [
              0,
              "#0d0887"
             ],
             [
              0.1111111111111111,
              "#46039f"
             ],
             [
              0.2222222222222222,
              "#7201a8"
             ],
             [
              0.3333333333333333,
              "#9c179e"
             ],
             [
              0.4444444444444444,
              "#bd3786"
             ],
             [
              0.5555555555555556,
              "#d8576b"
             ],
             [
              0.6666666666666666,
              "#ed7953"
             ],
             [
              0.7777777777777778,
              "#fb9f3a"
             ],
             [
              0.8888888888888888,
              "#fdca26"
             ],
             [
              1,
              "#f0f921"
             ]
            ],
            "type": "histogram2dcontour"
           }
          ],
          "mesh3d": [
           {
            "colorbar": {
             "outlinewidth": 0,
             "ticks": ""
            },
            "type": "mesh3d"
           }
          ],
          "parcoords": [
           {
            "line": {
             "colorbar": {
              "outlinewidth": 0,
              "ticks": ""
             }
            },
            "type": "parcoords"
           }
          ],
          "pie": [
           {
            "automargin": true,
            "type": "pie"
           }
          ],
          "scatter": [
           {
            "marker": {
             "line": {
              "color": "#283442"
             }
            },
            "type": "scatter"
           }
          ],
          "scatter3d": [
           {
            "line": {
             "colorbar": {
              "outlinewidth": 0,
              "ticks": ""
             }
            },
            "marker": {
             "colorbar": {
              "outlinewidth": 0,
              "ticks": ""
             }
            },
            "type": "scatter3d"
           }
          ],
          "scattercarpet": [
           {
            "marker": {
             "colorbar": {
              "outlinewidth": 0,
              "ticks": ""
             }
            },
            "type": "scattercarpet"
           }
          ],
          "scattergeo": [
           {
            "marker": {
             "colorbar": {
              "outlinewidth": 0,
              "ticks": ""
             }
            },
            "type": "scattergeo"
           }
          ],
          "scattergl": [
           {
            "marker": {
             "line": {
              "color": "#283442"
             }
            },
            "type": "scattergl"
           }
          ],
          "scattermapbox": [
           {
            "marker": {
             "colorbar": {
              "outlinewidth": 0,
              "ticks": ""
             }
            },
            "type": "scattermapbox"
           }
          ],
          "scatterpolar": [
           {
            "marker": {
             "colorbar": {
              "outlinewidth": 0,
              "ticks": ""
             }
            },
            "type": "scatterpolar"
           }
          ],
          "scatterpolargl": [
           {
            "marker": {
             "colorbar": {
              "outlinewidth": 0,
              "ticks": ""
             }
            },
            "type": "scatterpolargl"
           }
          ],
          "scatterternary": [
           {
            "marker": {
             "colorbar": {
              "outlinewidth": 0,
              "ticks": ""
             }
            },
            "type": "scatterternary"
           }
          ],
          "surface": [
           {
            "colorbar": {
             "outlinewidth": 0,
             "ticks": ""
            },
            "colorscale": [
             [
              0,
              "#0d0887"
             ],
             [
              0.1111111111111111,
              "#46039f"
             ],
             [
              0.2222222222222222,
              "#7201a8"
             ],
             [
              0.3333333333333333,
              "#9c179e"
             ],
             [
              0.4444444444444444,
              "#bd3786"
             ],
             [
              0.5555555555555556,
              "#d8576b"
             ],
             [
              0.6666666666666666,
              "#ed7953"
             ],
             [
              0.7777777777777778,
              "#fb9f3a"
             ],
             [
              0.8888888888888888,
              "#fdca26"
             ],
             [
              1,
              "#f0f921"
             ]
            ],
            "type": "surface"
           }
          ],
          "table": [
           {
            "cells": {
             "fill": {
              "color": "#506784"
             },
             "line": {
              "color": "rgb(17,17,17)"
             }
            },
            "header": {
             "fill": {
              "color": "#2a3f5f"
             },
             "line": {
              "color": "rgb(17,17,17)"
             }
            },
            "type": "table"
           }
          ]
         },
         "layout": {
          "annotationdefaults": {
           "arrowcolor": "#f2f5fa",
           "arrowhead": 0,
           "arrowwidth": 1
          },
          "autotypenumbers": "strict",
          "coloraxis": {
           "colorbar": {
            "outlinewidth": 0,
            "ticks": ""
           }
          },
          "colorscale": {
           "diverging": [
            [
             0,
             "#8e0152"
            ],
            [
             0.1,
             "#c51b7d"
            ],
            [
             0.2,
             "#de77ae"
            ],
            [
             0.3,
             "#f1b6da"
            ],
            [
             0.4,
             "#fde0ef"
            ],
            [
             0.5,
             "#f7f7f7"
            ],
            [
             0.6,
             "#e6f5d0"
            ],
            [
             0.7,
             "#b8e186"
            ],
            [
             0.8,
             "#7fbc41"
            ],
            [
             0.9,
             "#4d9221"
            ],
            [
             1,
             "#276419"
            ]
           ],
           "sequential": [
            [
             0,
             "#0d0887"
            ],
            [
             0.1111111111111111,
             "#46039f"
            ],
            [
             0.2222222222222222,
             "#7201a8"
            ],
            [
             0.3333333333333333,
             "#9c179e"
            ],
            [
             0.4444444444444444,
             "#bd3786"
            ],
            [
             0.5555555555555556,
             "#d8576b"
            ],
            [
             0.6666666666666666,
             "#ed7953"
            ],
            [
             0.7777777777777778,
             "#fb9f3a"
            ],
            [
             0.8888888888888888,
             "#fdca26"
            ],
            [
             1,
             "#f0f921"
            ]
           ],
           "sequentialminus": [
            [
             0,
             "#0d0887"
            ],
            [
             0.1111111111111111,
             "#46039f"
            ],
            [
             0.2222222222222222,
             "#7201a8"
            ],
            [
             0.3333333333333333,
             "#9c179e"
            ],
            [
             0.4444444444444444,
             "#bd3786"
            ],
            [
             0.5555555555555556,
             "#d8576b"
            ],
            [
             0.6666666666666666,
             "#ed7953"
            ],
            [
             0.7777777777777778,
             "#fb9f3a"
            ],
            [
             0.8888888888888888,
             "#fdca26"
            ],
            [
             1,
             "#f0f921"
            ]
           ]
          },
          "colorway": [
           "#636efa",
           "#EF553B",
           "#00cc96",
           "#ab63fa",
           "#FFA15A",
           "#19d3f3",
           "#FF6692",
           "#B6E880",
           "#FF97FF",
           "#FECB52"
          ],
          "font": {
           "color": "#f2f5fa"
          },
          "geo": {
           "bgcolor": "rgb(17,17,17)",
           "lakecolor": "rgb(17,17,17)",
           "landcolor": "rgb(17,17,17)",
           "showlakes": true,
           "showland": true,
           "subunitcolor": "#506784"
          },
          "hoverlabel": {
           "align": "left"
          },
          "hovermode": "closest",
          "mapbox": {
           "style": "dark"
          },
          "paper_bgcolor": "rgb(17,17,17)",
          "plot_bgcolor": "rgb(17,17,17)",
          "polar": {
           "angularaxis": {
            "gridcolor": "#506784",
            "linecolor": "#506784",
            "ticks": ""
           },
           "bgcolor": "rgb(17,17,17)",
           "radialaxis": {
            "gridcolor": "#506784",
            "linecolor": "#506784",
            "ticks": ""
           }
          },
          "scene": {
           "xaxis": {
            "backgroundcolor": "rgb(17,17,17)",
            "gridcolor": "#506784",
            "gridwidth": 2,
            "linecolor": "#506784",
            "showbackground": true,
            "ticks": "",
            "zerolinecolor": "#C8D4E3"
           },
           "yaxis": {
            "backgroundcolor": "rgb(17,17,17)",
            "gridcolor": "#506784",
            "gridwidth": 2,
            "linecolor": "#506784",
            "showbackground": true,
            "ticks": "",
            "zerolinecolor": "#C8D4E3"
           },
           "zaxis": {
            "backgroundcolor": "rgb(17,17,17)",
            "gridcolor": "#506784",
            "gridwidth": 2,
            "linecolor": "#506784",
            "showbackground": true,
            "ticks": "",
            "zerolinecolor": "#C8D4E3"
           }
          },
          "shapedefaults": {
           "line": {
            "color": "#f2f5fa"
           }
          },
          "sliderdefaults": {
           "bgcolor": "#C8D4E3",
           "bordercolor": "rgb(17,17,17)",
           "borderwidth": 1,
           "tickwidth": 0
          },
          "ternary": {
           "aaxis": {
            "gridcolor": "#506784",
            "linecolor": "#506784",
            "ticks": ""
           },
           "baxis": {
            "gridcolor": "#506784",
            "linecolor": "#506784",
            "ticks": ""
           },
           "bgcolor": "rgb(17,17,17)",
           "caxis": {
            "gridcolor": "#506784",
            "linecolor": "#506784",
            "ticks": ""
           }
          },
          "title": {
           "x": 0.05
          },
          "updatemenudefaults": {
           "bgcolor": "#506784",
           "borderwidth": 0
          },
          "xaxis": {
           "automargin": true,
           "gridcolor": "#283442",
           "linecolor": "#506784",
           "ticks": "",
           "title": {
            "standoff": 15
           },
           "zerolinecolor": "#283442",
           "zerolinewidth": 2
          },
          "yaxis": {
           "automargin": true,
           "gridcolor": "#283442",
           "linecolor": "#506784",
           "ticks": "",
           "title": {
            "standoff": 15
           },
           "zerolinecolor": "#283442",
           "zerolinewidth": 2
          }
         }
        },
        "title": {
         "text": "Veröffentlichte Songs pro Genre in den wichtigen Ländern (Top 30)"
        },
        "xaxis": {
         "anchor": "y",
         "domain": [
          0,
          1
         ],
         "title": {
          "text": "Genre"
         }
        },
        "yaxis": {
         "anchor": "x",
         "domain": [
          0,
          1
         ],
         "title": {
          "text": "Veröffentlichte Songs"
         }
        }
       }
      }
     },
     "metadata": {},
     "output_type": "display_data"
    }
   ],
   "source": [
    "fig = px.bar(important_genres[:30], x=\"genres\", y=\"num\", template=\"plotly_dark\")\n",
    "fig.update_layout(\n",
    "    height=500,\n",
    "    title=\"Veröffentlichte Songs pro Genre in den wichtigen Ländern (Top 30)\",\n",
    "    xaxis_title=\"Genre\",\n",
    "    yaxis_title=\"Veröffentlichte Songs\"\n",
    ")\n",
    "fig.show()"
   ]
  },
  {
   "cell_type": "code",
   "execution_count": 224,
   "metadata": {},
   "outputs": [],
   "source": [
    "#reduced_isrc.to_csv(f\"{PATH}/reduced_isrc.csv\")"
   ]
  },
  {
   "cell_type": "markdown",
   "metadata": {},
   "source": [
    "# Auffindbarkeiten"
   ]
  },
  {
   "cell_type": "markdown",
   "metadata": {},
   "source": [
    "## Experiment"
   ]
  },
  {
   "cell_type": "code",
   "execution_count": 225,
   "metadata": {},
   "outputs": [],
   "source": [
    "by_isrc = pd.read_csv(f\"{PATH}/reduced_isrc.csv\")"
   ]
  },
  {
   "cell_type": "code",
   "execution_count": 226,
   "metadata": {},
   "outputs": [],
   "source": [
    "@sleep_and_retry\n",
    "@limits(calls=60, period=30)\n",
    "def call_api():\n",
    "  return"
   ]
  },
  {
   "cell_type": "code",
   "execution_count": 227,
   "metadata": {},
   "outputs": [],
   "source": [
    "chart_power_df = pd.read_excel(f\"{PATH}/chart-power-scores_80s.xlsx\")\n",
    "chart_power_df = chart_power_df.applymap(lambda s: s.lower() if type(s) == str else s)\n",
    "chart_power_df = chart_power_df[['Song', 'Artist', 'Points']].groupby(['Song', 'Artist']).sum()\n",
    "chart_power_df.reset_index(inplace=True)"
   ]
  },
  {
   "cell_type": "code",
   "execution_count": 228,
   "metadata": {},
   "outputs": [],
   "source": [
    "if LOCAL:\n",
    "    from dotenv import load_dotenv\n",
    "    load_dotenv()\n",
    "    SPOTIFY_CLIENT_ID = os.environ.get(\"SPOTIFY_CLIENT_ID\")\n",
    "    SPOTIFY_CLIENT_SECRET = os.environ.get(\"SPOTIFY_CLIENT_SECRET\")\n",
    "else:\n",
    "    import colab_env\n",
    "    SPOTIFY_CLIENT_ID = os.getenv(\"SPOTIFY_CLIENT_ID\")\n",
    "    SPOTIFY_CLIENT_SECRET = os.getenv(\"SPOTIFY_CLIENT_SECRET\")"
   ]
  },
  {
   "cell_type": "code",
   "execution_count": 231,
   "metadata": {},
   "outputs": [],
   "source": [
    "client_credentials_manager = SpotifyClientCredentials(client_id=SPOTIFY_CLIENT_ID, client_secret=SPOTIFY_CLIENT_SECRET)\n",
    "sp = spotipy.Spotify(client_credentials_manager=client_credentials_manager)"
   ]
  },
  {
   "cell_type": "markdown",
   "metadata": {},
   "source": [
    "### Abfrage aller Lieder für Boney M."
   ]
  },
  {
   "cell_type": "code",
   "execution_count": null,
   "metadata": {},
   "outputs": [],
   "source": [
    "def query(year: int, offset: int):\n",
    "  res = sp.search(q=f\"artist:Boney M. year:{year}\", type=\"track\", limit=10, offset=offset, market=\"DE\")\n",
    "  if (len(res[\"tracks\"][\"items\"]) == 10):\n",
    "    return query(year, offset + 10)\n",
    "  return len(res[\"tracks\"][\"items\"]) + offset"
   ]
  },
  {
   "cell_type": "code",
   "execution_count": null,
   "metadata": {},
   "outputs": [],
   "source": [
    "boney_songs = pd.DataFrame()\n",
    "for year in range(1980, 1990):\n",
    "  boney_songs = pd.concat([boney_songs, pd.DataFrame([[year, query(year, 0)]], columns=[\"year\", \"songs\"])])"
   ]
  },
  {
   "cell_type": "code",
   "execution_count": null,
   "metadata": {},
   "outputs": [
    {
     "data": {
      "application/vnd.plotly.v1+json": {
       "config": {
        "plotlyServerURL": "https://plot.ly"
       },
       "data": [
        {
         "alignmentgroup": "True",
         "hovertemplate": "year=%{x}<br>songs=%{y}<extra></extra>",
         "legendgroup": "",
         "marker": {
          "color": "#636efa",
          "pattern": {
           "shape": ""
          }
         },
         "name": "",
         "offsetgroup": "",
         "orientation": "v",
         "showlegend": false,
         "textposition": "auto",
         "type": "bar",
         "x": [
          1980,
          1981,
          1982,
          1983,
          1984,
          1985,
          1986,
          1987,
          1988,
          1989
         ],
         "xaxis": "x",
         "y": [
          0,
          44,
          0,
          0,
          45,
          10,
          0,
          0,
          2,
          32
         ],
         "yaxis": "y"
        }
       ],
       "layout": {
        "barmode": "relative",
        "height": 500,
        "legend": {
         "tracegroupgap": 0
        },
        "template": {
         "data": {
          "bar": [
           {
            "error_x": {
             "color": "#f2f5fa"
            },
            "error_y": {
             "color": "#f2f5fa"
            },
            "marker": {
             "line": {
              "color": "rgb(17,17,17)",
              "width": 0.5
             },
             "pattern": {
              "fillmode": "overlay",
              "size": 10,
              "solidity": 0.2
             }
            },
            "type": "bar"
           }
          ],
          "barpolar": [
           {
            "marker": {
             "line": {
              "color": "rgb(17,17,17)",
              "width": 0.5
             },
             "pattern": {
              "fillmode": "overlay",
              "size": 10,
              "solidity": 0.2
             }
            },
            "type": "barpolar"
           }
          ],
          "carpet": [
           {
            "aaxis": {
             "endlinecolor": "#A2B1C6",
             "gridcolor": "#506784",
             "linecolor": "#506784",
             "minorgridcolor": "#506784",
             "startlinecolor": "#A2B1C6"
            },
            "baxis": {
             "endlinecolor": "#A2B1C6",
             "gridcolor": "#506784",
             "linecolor": "#506784",
             "minorgridcolor": "#506784",
             "startlinecolor": "#A2B1C6"
            },
            "type": "carpet"
           }
          ],
          "choropleth": [
           {
            "colorbar": {
             "outlinewidth": 0,
             "ticks": ""
            },
            "type": "choropleth"
           }
          ],
          "contour": [
           {
            "colorbar": {
             "outlinewidth": 0,
             "ticks": ""
            },
            "colorscale": [
             [
              0,
              "#0d0887"
             ],
             [
              0.1111111111111111,
              "#46039f"
             ],
             [
              0.2222222222222222,
              "#7201a8"
             ],
             [
              0.3333333333333333,
              "#9c179e"
             ],
             [
              0.4444444444444444,
              "#bd3786"
             ],
             [
              0.5555555555555556,
              "#d8576b"
             ],
             [
              0.6666666666666666,
              "#ed7953"
             ],
             [
              0.7777777777777778,
              "#fb9f3a"
             ],
             [
              0.8888888888888888,
              "#fdca26"
             ],
             [
              1,
              "#f0f921"
             ]
            ],
            "type": "contour"
           }
          ],
          "contourcarpet": [
           {
            "colorbar": {
             "outlinewidth": 0,
             "ticks": ""
            },
            "type": "contourcarpet"
           }
          ],
          "heatmap": [
           {
            "colorbar": {
             "outlinewidth": 0,
             "ticks": ""
            },
            "colorscale": [
             [
              0,
              "#0d0887"
             ],
             [
              0.1111111111111111,
              "#46039f"
             ],
             [
              0.2222222222222222,
              "#7201a8"
             ],
             [
              0.3333333333333333,
              "#9c179e"
             ],
             [
              0.4444444444444444,
              "#bd3786"
             ],
             [
              0.5555555555555556,
              "#d8576b"
             ],
             [
              0.6666666666666666,
              "#ed7953"
             ],
             [
              0.7777777777777778,
              "#fb9f3a"
             ],
             [
              0.8888888888888888,
              "#fdca26"
             ],
             [
              1,
              "#f0f921"
             ]
            ],
            "type": "heatmap"
           }
          ],
          "heatmapgl": [
           {
            "colorbar": {
             "outlinewidth": 0,
             "ticks": ""
            },
            "colorscale": [
             [
              0,
              "#0d0887"
             ],
             [
              0.1111111111111111,
              "#46039f"
             ],
             [
              0.2222222222222222,
              "#7201a8"
             ],
             [
              0.3333333333333333,
              "#9c179e"
             ],
             [
              0.4444444444444444,
              "#bd3786"
             ],
             [
              0.5555555555555556,
              "#d8576b"
             ],
             [
              0.6666666666666666,
              "#ed7953"
             ],
             [
              0.7777777777777778,
              "#fb9f3a"
             ],
             [
              0.8888888888888888,
              "#fdca26"
             ],
             [
              1,
              "#f0f921"
             ]
            ],
            "type": "heatmapgl"
           }
          ],
          "histogram": [
           {
            "marker": {
             "pattern": {
              "fillmode": "overlay",
              "size": 10,
              "solidity": 0.2
             }
            },
            "type": "histogram"
           }
          ],
          "histogram2d": [
           {
            "colorbar": {
             "outlinewidth": 0,
             "ticks": ""
            },
            "colorscale": [
             [
              0,
              "#0d0887"
             ],
             [
              0.1111111111111111,
              "#46039f"
             ],
             [
              0.2222222222222222,
              "#7201a8"
             ],
             [
              0.3333333333333333,
              "#9c179e"
             ],
             [
              0.4444444444444444,
              "#bd3786"
             ],
             [
              0.5555555555555556,
              "#d8576b"
             ],
             [
              0.6666666666666666,
              "#ed7953"
             ],
             [
              0.7777777777777778,
              "#fb9f3a"
             ],
             [
              0.8888888888888888,
              "#fdca26"
             ],
             [
              1,
              "#f0f921"
             ]
            ],
            "type": "histogram2d"
           }
          ],
          "histogram2dcontour": [
           {
            "colorbar": {
             "outlinewidth": 0,
             "ticks": ""
            },
            "colorscale": [
             [
              0,
              "#0d0887"
             ],
             [
              0.1111111111111111,
              "#46039f"
             ],
             [
              0.2222222222222222,
              "#7201a8"
             ],
             [
              0.3333333333333333,
              "#9c179e"
             ],
             [
              0.4444444444444444,
              "#bd3786"
             ],
             [
              0.5555555555555556,
              "#d8576b"
             ],
             [
              0.6666666666666666,
              "#ed7953"
             ],
             [
              0.7777777777777778,
              "#fb9f3a"
             ],
             [
              0.8888888888888888,
              "#fdca26"
             ],
             [
              1,
              "#f0f921"
             ]
            ],
            "type": "histogram2dcontour"
           }
          ],
          "mesh3d": [
           {
            "colorbar": {
             "outlinewidth": 0,
             "ticks": ""
            },
            "type": "mesh3d"
           }
          ],
          "parcoords": [
           {
            "line": {
             "colorbar": {
              "outlinewidth": 0,
              "ticks": ""
             }
            },
            "type": "parcoords"
           }
          ],
          "pie": [
           {
            "automargin": true,
            "type": "pie"
           }
          ],
          "scatter": [
           {
            "marker": {
             "line": {
              "color": "#283442"
             }
            },
            "type": "scatter"
           }
          ],
          "scatter3d": [
           {
            "line": {
             "colorbar": {
              "outlinewidth": 0,
              "ticks": ""
             }
            },
            "marker": {
             "colorbar": {
              "outlinewidth": 0,
              "ticks": ""
             }
            },
            "type": "scatter3d"
           }
          ],
          "scattercarpet": [
           {
            "marker": {
             "colorbar": {
              "outlinewidth": 0,
              "ticks": ""
             }
            },
            "type": "scattercarpet"
           }
          ],
          "scattergeo": [
           {
            "marker": {
             "colorbar": {
              "outlinewidth": 0,
              "ticks": ""
             }
            },
            "type": "scattergeo"
           }
          ],
          "scattergl": [
           {
            "marker": {
             "line": {
              "color": "#283442"
             }
            },
            "type": "scattergl"
           }
          ],
          "scattermapbox": [
           {
            "marker": {
             "colorbar": {
              "outlinewidth": 0,
              "ticks": ""
             }
            },
            "type": "scattermapbox"
           }
          ],
          "scatterpolar": [
           {
            "marker": {
             "colorbar": {
              "outlinewidth": 0,
              "ticks": ""
             }
            },
            "type": "scatterpolar"
           }
          ],
          "scatterpolargl": [
           {
            "marker": {
             "colorbar": {
              "outlinewidth": 0,
              "ticks": ""
             }
            },
            "type": "scatterpolargl"
           }
          ],
          "scatterternary": [
           {
            "marker": {
             "colorbar": {
              "outlinewidth": 0,
              "ticks": ""
             }
            },
            "type": "scatterternary"
           }
          ],
          "surface": [
           {
            "colorbar": {
             "outlinewidth": 0,
             "ticks": ""
            },
            "colorscale": [
             [
              0,
              "#0d0887"
             ],
             [
              0.1111111111111111,
              "#46039f"
             ],
             [
              0.2222222222222222,
              "#7201a8"
             ],
             [
              0.3333333333333333,
              "#9c179e"
             ],
             [
              0.4444444444444444,
              "#bd3786"
             ],
             [
              0.5555555555555556,
              "#d8576b"
             ],
             [
              0.6666666666666666,
              "#ed7953"
             ],
             [
              0.7777777777777778,
              "#fb9f3a"
             ],
             [
              0.8888888888888888,
              "#fdca26"
             ],
             [
              1,
              "#f0f921"
             ]
            ],
            "type": "surface"
           }
          ],
          "table": [
           {
            "cells": {
             "fill": {
              "color": "#506784"
             },
             "line": {
              "color": "rgb(17,17,17)"
             }
            },
            "header": {
             "fill": {
              "color": "#2a3f5f"
             },
             "line": {
              "color": "rgb(17,17,17)"
             }
            },
            "type": "table"
           }
          ]
         },
         "layout": {
          "annotationdefaults": {
           "arrowcolor": "#f2f5fa",
           "arrowhead": 0,
           "arrowwidth": 1
          },
          "autotypenumbers": "strict",
          "coloraxis": {
           "colorbar": {
            "outlinewidth": 0,
            "ticks": ""
           }
          },
          "colorscale": {
           "diverging": [
            [
             0,
             "#8e0152"
            ],
            [
             0.1,
             "#c51b7d"
            ],
            [
             0.2,
             "#de77ae"
            ],
            [
             0.3,
             "#f1b6da"
            ],
            [
             0.4,
             "#fde0ef"
            ],
            [
             0.5,
             "#f7f7f7"
            ],
            [
             0.6,
             "#e6f5d0"
            ],
            [
             0.7,
             "#b8e186"
            ],
            [
             0.8,
             "#7fbc41"
            ],
            [
             0.9,
             "#4d9221"
            ],
            [
             1,
             "#276419"
            ]
           ],
           "sequential": [
            [
             0,
             "#0d0887"
            ],
            [
             0.1111111111111111,
             "#46039f"
            ],
            [
             0.2222222222222222,
             "#7201a8"
            ],
            [
             0.3333333333333333,
             "#9c179e"
            ],
            [
             0.4444444444444444,
             "#bd3786"
            ],
            [
             0.5555555555555556,
             "#d8576b"
            ],
            [
             0.6666666666666666,
             "#ed7953"
            ],
            [
             0.7777777777777778,
             "#fb9f3a"
            ],
            [
             0.8888888888888888,
             "#fdca26"
            ],
            [
             1,
             "#f0f921"
            ]
           ],
           "sequentialminus": [
            [
             0,
             "#0d0887"
            ],
            [
             0.1111111111111111,
             "#46039f"
            ],
            [
             0.2222222222222222,
             "#7201a8"
            ],
            [
             0.3333333333333333,
             "#9c179e"
            ],
            [
             0.4444444444444444,
             "#bd3786"
            ],
            [
             0.5555555555555556,
             "#d8576b"
            ],
            [
             0.6666666666666666,
             "#ed7953"
            ],
            [
             0.7777777777777778,
             "#fb9f3a"
            ],
            [
             0.8888888888888888,
             "#fdca26"
            ],
            [
             1,
             "#f0f921"
            ]
           ]
          },
          "colorway": [
           "#636efa",
           "#EF553B",
           "#00cc96",
           "#ab63fa",
           "#FFA15A",
           "#19d3f3",
           "#FF6692",
           "#B6E880",
           "#FF97FF",
           "#FECB52"
          ],
          "font": {
           "color": "#f2f5fa"
          },
          "geo": {
           "bgcolor": "rgb(17,17,17)",
           "lakecolor": "rgb(17,17,17)",
           "landcolor": "rgb(17,17,17)",
           "showlakes": true,
           "showland": true,
           "subunitcolor": "#506784"
          },
          "hoverlabel": {
           "align": "left"
          },
          "hovermode": "closest",
          "mapbox": {
           "style": "dark"
          },
          "paper_bgcolor": "rgb(17,17,17)",
          "plot_bgcolor": "rgb(17,17,17)",
          "polar": {
           "angularaxis": {
            "gridcolor": "#506784",
            "linecolor": "#506784",
            "ticks": ""
           },
           "bgcolor": "rgb(17,17,17)",
           "radialaxis": {
            "gridcolor": "#506784",
            "linecolor": "#506784",
            "ticks": ""
           }
          },
          "scene": {
           "xaxis": {
            "backgroundcolor": "rgb(17,17,17)",
            "gridcolor": "#506784",
            "gridwidth": 2,
            "linecolor": "#506784",
            "showbackground": true,
            "ticks": "",
            "zerolinecolor": "#C8D4E3"
           },
           "yaxis": {
            "backgroundcolor": "rgb(17,17,17)",
            "gridcolor": "#506784",
            "gridwidth": 2,
            "linecolor": "#506784",
            "showbackground": true,
            "ticks": "",
            "zerolinecolor": "#C8D4E3"
           },
           "zaxis": {
            "backgroundcolor": "rgb(17,17,17)",
            "gridcolor": "#506784",
            "gridwidth": 2,
            "linecolor": "#506784",
            "showbackground": true,
            "ticks": "",
            "zerolinecolor": "#C8D4E3"
           }
          },
          "shapedefaults": {
           "line": {
            "color": "#f2f5fa"
           }
          },
          "sliderdefaults": {
           "bgcolor": "#C8D4E3",
           "bordercolor": "rgb(17,17,17)",
           "borderwidth": 1,
           "tickwidth": 0
          },
          "ternary": {
           "aaxis": {
            "gridcolor": "#506784",
            "linecolor": "#506784",
            "ticks": ""
           },
           "baxis": {
            "gridcolor": "#506784",
            "linecolor": "#506784",
            "ticks": ""
           },
           "bgcolor": "rgb(17,17,17)",
           "caxis": {
            "gridcolor": "#506784",
            "linecolor": "#506784",
            "ticks": ""
           }
          },
          "title": {
           "x": 0.05
          },
          "updatemenudefaults": {
           "bgcolor": "#506784",
           "borderwidth": 0
          },
          "xaxis": {
           "automargin": true,
           "gridcolor": "#283442",
           "linecolor": "#506784",
           "ticks": "",
           "title": {
            "standoff": 15
           },
           "zerolinecolor": "#283442",
           "zerolinewidth": 2
          },
          "yaxis": {
           "automargin": true,
           "gridcolor": "#283442",
           "linecolor": "#506784",
           "ticks": "",
           "title": {
            "standoff": 15
           },
           "zerolinecolor": "#283442",
           "zerolinewidth": 2
          }
         }
        },
        "title": {
         "text": "Songs veröffentlich von Boney M. in den 80er Jahren"
        },
        "xaxis": {
         "anchor": "y",
         "domain": [
          0,
          1
         ],
         "title": {
          "text": "Jahr"
         }
        },
        "yaxis": {
         "anchor": "x",
         "domain": [
          0,
          1
         ],
         "title": {
          "text": "Veröffentlichte Songs"
         }
        }
       }
      }
     },
     "metadata": {},
     "output_type": "display_data"
    }
   ],
   "source": [
    "fig = px.bar(boney_songs, x=\"year\", y=\"songs\", title=\"Songs veröffentlich von Boney M. in den 80er Jahren\")\n",
    "fig.update_layout(\n",
    "    height=500,\n",
    "    template='plotly_dark',\n",
    "    xaxis_title=\"Jahr\",\n",
    "    yaxis_title=\"Veröffentlichte Songs\"\n",
    ")\n",
    "fig.show()"
   ]
  },
  {
   "cell_type": "markdown",
   "metadata": {},
   "source": [
    "### Einbauen des Genres in die query"
   ]
  },
  {
   "cell_type": "code",
   "execution_count": null,
   "metadata": {},
   "outputs": [],
   "source": [
    "def genre_query(artist: str, year: int, offset:int, genres):\n",
    "  for genre in genres:\n",
    "    call_api()\n",
    "    res = sp.search(q=f\"artist:{artist} year:{year} genre:{genre}\", type=\"track\", limit=50, offset=offset, market=\"DE\")\n",
    "    if (len(res[\"tracks\"][\"items\"] ) > 1):\n",
    "      print(year, genre)\n",
    "      #print(res)"
   ]
  },
  {
   "cell_type": "code",
   "execution_count": null,
   "metadata": {},
   "outputs": [],
   "source": [
    "def test_genre_query(artist: str):\n",
    "  genres = sp.recommendation_genre_seeds()['genres']\n",
    "  for year in range(1980, 1990):\n",
    "    print(year)\n",
    "    genre_query(artist, year, 0, genres)"
   ]
  },
  {
   "cell_type": "code",
   "execution_count": null,
   "metadata": {},
   "outputs": [
    {
     "name": "stdout",
     "output_type": "stream",
     "text": [
      "1980\n"
     ]
    },
    {
     "ename": "KeyboardInterrupt",
     "evalue": "",
     "output_type": "error",
     "traceback": [
      "\u001b[0;31m---------------------------------------------------------------------------\u001b[0m\n",
      "\u001b[0;31mKeyboardInterrupt\u001b[0m                         Traceback (most recent call last)\n",
      "Cell \u001b[0;32mIn[19], line 1\u001b[0m\n",
      "\u001b[0;32m----> 1\u001b[0m test_genre_query(\u001b[39m\"\u001b[39;49m\u001b[39mBoney M.\u001b[39;49m\u001b[39m\"\u001b[39;49m)\n",
      "\n",
      "Cell \u001b[0;32mIn[18], line 5\u001b[0m, in \u001b[0;36mtest_genre_query\u001b[0;34m(artist)\u001b[0m\n",
      "\u001b[1;32m      3\u001b[0m \u001b[39mfor\u001b[39;00m year \u001b[39min\u001b[39;00m \u001b[39mrange\u001b[39m(\u001b[39m1980\u001b[39m, \u001b[39m1990\u001b[39m):\n",
      "\u001b[1;32m      4\u001b[0m   \u001b[39mprint\u001b[39m(year)\n",
      "\u001b[0;32m----> 5\u001b[0m   genre_query(artist, year, \u001b[39m0\u001b[39;49m, genres)\n",
      "\n",
      "Cell \u001b[0;32mIn[17], line 4\u001b[0m, in \u001b[0;36mgenre_query\u001b[0;34m(artist, year, offset, genres)\u001b[0m\n",
      "\u001b[1;32m      2\u001b[0m \u001b[39mfor\u001b[39;00m genre \u001b[39min\u001b[39;00m genres:\n",
      "\u001b[1;32m      3\u001b[0m   call_api()\n",
      "\u001b[0;32m----> 4\u001b[0m   res \u001b[39m=\u001b[39m sp\u001b[39m.\u001b[39;49msearch(q\u001b[39m=\u001b[39;49m\u001b[39mf\u001b[39;49m\u001b[39m\"\u001b[39;49m\u001b[39martist:\u001b[39;49m\u001b[39m{\u001b[39;49;00martist\u001b[39m}\u001b[39;49;00m\u001b[39m year:\u001b[39;49m\u001b[39m{\u001b[39;49;00myear\u001b[39m}\u001b[39;49;00m\u001b[39m genre:\u001b[39;49m\u001b[39m{\u001b[39;49;00mgenre\u001b[39m}\u001b[39;49;00m\u001b[39m\"\u001b[39;49m, \u001b[39mtype\u001b[39;49m\u001b[39m=\u001b[39;49m\u001b[39m\"\u001b[39;49m\u001b[39mtrack\u001b[39;49m\u001b[39m\"\u001b[39;49m, limit\u001b[39m=\u001b[39;49m\u001b[39m50\u001b[39;49m, offset\u001b[39m=\u001b[39;49moffset, market\u001b[39m=\u001b[39;49m\u001b[39m\"\u001b[39;49m\u001b[39mDE\u001b[39;49m\u001b[39m\"\u001b[39;49m)\n",
      "\u001b[1;32m      5\u001b[0m   \u001b[39mif\u001b[39;00m (\u001b[39mlen\u001b[39m(res[\u001b[39m\"\u001b[39m\u001b[39mtracks\u001b[39m\u001b[39m\"\u001b[39m][\u001b[39m\"\u001b[39m\u001b[39mitems\u001b[39m\u001b[39m\"\u001b[39m] ) \u001b[39m>\u001b[39m \u001b[39m1\u001b[39m):\n",
      "\u001b[1;32m      6\u001b[0m     \u001b[39mprint\u001b[39m(year, genre)\n",
      "\n",
      "File \u001b[0;32m~/Documents/Studium/application-project/application-project/lib/python3.10/site-packages/spotipy/client.py:587\u001b[0m, in \u001b[0;36mSpotify.search\u001b[0;34m(self, q, limit, offset, type, market)\u001b[0m\n",
      "\u001b[1;32m    572\u001b[0m \u001b[39mdef\u001b[39;00m \u001b[39msearch\u001b[39m(\u001b[39mself\u001b[39m, q, limit\u001b[39m=\u001b[39m\u001b[39m10\u001b[39m, offset\u001b[39m=\u001b[39m\u001b[39m0\u001b[39m, \u001b[39mtype\u001b[39m\u001b[39m=\u001b[39m\u001b[39m\"\u001b[39m\u001b[39mtrack\u001b[39m\u001b[39m\"\u001b[39m, market\u001b[39m=\u001b[39m\u001b[39mNone\u001b[39;00m):\n",
      "\u001b[1;32m    573\u001b[0m \u001b[39m    \u001b[39m\u001b[39m\"\"\" searches for an item\u001b[39;00m\n",
      "\u001b[1;32m    574\u001b[0m \n",
      "\u001b[1;32m    575\u001b[0m \u001b[39m        Parameters:\u001b[39;00m\n",
      "\u001b[0;32m   (...)\u001b[0m\n",
      "\u001b[1;32m    585\u001b[0m \u001b[39m                       from_token.\u001b[39;00m\n",
      "\u001b[1;32m    586\u001b[0m \u001b[39m    \"\"\"\u001b[39;00m\n",
      "\u001b[0;32m--> 587\u001b[0m     \u001b[39mreturn\u001b[39;00m \u001b[39mself\u001b[39;49m\u001b[39m.\u001b[39;49m_get(\n",
      "\u001b[1;32m    588\u001b[0m         \u001b[39m\"\u001b[39;49m\u001b[39msearch\u001b[39;49m\u001b[39m\"\u001b[39;49m, q\u001b[39m=\u001b[39;49mq, limit\u001b[39m=\u001b[39;49mlimit, offset\u001b[39m=\u001b[39;49moffset, \u001b[39mtype\u001b[39;49m\u001b[39m=\u001b[39;49m\u001b[39mtype\u001b[39;49m, market\u001b[39m=\u001b[39;49mmarket\n",
      "\u001b[1;32m    589\u001b[0m     )\n",
      "\n",
      "File \u001b[0;32m~/Documents/Studium/application-project/application-project/lib/python3.10/site-packages/spotipy/client.py:323\u001b[0m, in \u001b[0;36mSpotify._get\u001b[0;34m(self, url, args, payload, **kwargs)\u001b[0m\n",
      "\u001b[1;32m    320\u001b[0m \u001b[39mif\u001b[39;00m args:\n",
      "\u001b[1;32m    321\u001b[0m     kwargs\u001b[39m.\u001b[39mupdate(args)\n",
      "\u001b[0;32m--> 323\u001b[0m \u001b[39mreturn\u001b[39;00m \u001b[39mself\u001b[39;49m\u001b[39m.\u001b[39;49m_internal_call(\u001b[39m\"\u001b[39;49m\u001b[39mGET\u001b[39;49m\u001b[39m\"\u001b[39;49m, url, payload, kwargs)\n",
      "\n",
      "File \u001b[0;32m~/Documents/Studium/application-project/application-project/lib/python3.10/site-packages/spotipy/client.py:266\u001b[0m, in \u001b[0;36mSpotify._internal_call\u001b[0;34m(self, method, url, payload, params)\u001b[0m\n",
      "\u001b[1;32m    262\u001b[0m logger\u001b[39m.\u001b[39mdebug(\u001b[39m'\u001b[39m\u001b[39mSending \u001b[39m\u001b[39m%s\u001b[39;00m\u001b[39m to \u001b[39m\u001b[39m%s\u001b[39;00m\u001b[39m with Params: \u001b[39m\u001b[39m%s\u001b[39;00m\u001b[39m Headers: \u001b[39m\u001b[39m%s\u001b[39;00m\u001b[39m and Body: \u001b[39m\u001b[39m%r\u001b[39;00m\u001b[39m \u001b[39m\u001b[39m'\u001b[39m,\n",
      "\u001b[1;32m    263\u001b[0m              method, url, args\u001b[39m.\u001b[39mget(\u001b[39m\"\u001b[39m\u001b[39mparams\u001b[39m\u001b[39m\"\u001b[39m), headers, args\u001b[39m.\u001b[39mget(\u001b[39m'\u001b[39m\u001b[39mdata\u001b[39m\u001b[39m'\u001b[39m))\n",
      "\u001b[1;32m    265\u001b[0m \u001b[39mtry\u001b[39;00m:\n",
      "\u001b[0;32m--> 266\u001b[0m     response \u001b[39m=\u001b[39m \u001b[39mself\u001b[39;49m\u001b[39m.\u001b[39;49m_session\u001b[39m.\u001b[39;49mrequest(\n",
      "\u001b[1;32m    267\u001b[0m         method, url, headers\u001b[39m=\u001b[39;49mheaders, proxies\u001b[39m=\u001b[39;49m\u001b[39mself\u001b[39;49m\u001b[39m.\u001b[39;49mproxies,\n",
      "\u001b[1;32m    268\u001b[0m         timeout\u001b[39m=\u001b[39;49m\u001b[39mself\u001b[39;49m\u001b[39m.\u001b[39;49mrequests_timeout, \u001b[39m*\u001b[39;49m\u001b[39m*\u001b[39;49margs\n",
      "\u001b[1;32m    269\u001b[0m     )\n",
      "\u001b[1;32m    271\u001b[0m     response\u001b[39m.\u001b[39mraise_for_status()\n",
      "\u001b[1;32m    272\u001b[0m     results \u001b[39m=\u001b[39m response\u001b[39m.\u001b[39mjson()\n",
      "\n",
      "File \u001b[0;32m~/Documents/Studium/application-project/application-project/lib/python3.10/site-packages/requests/sessions.py:587\u001b[0m, in \u001b[0;36mSession.request\u001b[0;34m(self, method, url, params, data, headers, cookies, files, auth, timeout, allow_redirects, proxies, hooks, stream, verify, cert, json)\u001b[0m\n",
      "\u001b[1;32m    582\u001b[0m send_kwargs \u001b[39m=\u001b[39m {\n",
      "\u001b[1;32m    583\u001b[0m     \u001b[39m\"\u001b[39m\u001b[39mtimeout\u001b[39m\u001b[39m\"\u001b[39m: timeout,\n",
      "\u001b[1;32m    584\u001b[0m     \u001b[39m\"\u001b[39m\u001b[39mallow_redirects\u001b[39m\u001b[39m\"\u001b[39m: allow_redirects,\n",
      "\u001b[1;32m    585\u001b[0m }\n",
      "\u001b[1;32m    586\u001b[0m send_kwargs\u001b[39m.\u001b[39mupdate(settings)\n",
      "\u001b[0;32m--> 587\u001b[0m resp \u001b[39m=\u001b[39m \u001b[39mself\u001b[39;49m\u001b[39m.\u001b[39;49msend(prep, \u001b[39m*\u001b[39;49m\u001b[39m*\u001b[39;49msend_kwargs)\n",
      "\u001b[1;32m    589\u001b[0m \u001b[39mreturn\u001b[39;00m resp\n",
      "\n",
      "File \u001b[0;32m~/Documents/Studium/application-project/application-project/lib/python3.10/site-packages/requests/sessions.py:701\u001b[0m, in \u001b[0;36mSession.send\u001b[0;34m(self, request, **kwargs)\u001b[0m\n",
      "\u001b[1;32m    698\u001b[0m start \u001b[39m=\u001b[39m preferred_clock()\n",
      "\u001b[1;32m    700\u001b[0m \u001b[39m# Send the request\u001b[39;00m\n",
      "\u001b[0;32m--> 701\u001b[0m r \u001b[39m=\u001b[39m adapter\u001b[39m.\u001b[39;49msend(request, \u001b[39m*\u001b[39;49m\u001b[39m*\u001b[39;49mkwargs)\n",
      "\u001b[1;32m    703\u001b[0m \u001b[39m# Total elapsed time of the request (approximately)\u001b[39;00m\n",
      "\u001b[1;32m    704\u001b[0m elapsed \u001b[39m=\u001b[39m preferred_clock() \u001b[39m-\u001b[39m start\n",
      "\n",
      "File \u001b[0;32m~/Documents/Studium/application-project/application-project/lib/python3.10/site-packages/requests/adapters.py:489\u001b[0m, in \u001b[0;36mHTTPAdapter.send\u001b[0;34m(self, request, stream, timeout, verify, cert, proxies)\u001b[0m\n",
      "\u001b[1;32m    487\u001b[0m \u001b[39mtry\u001b[39;00m:\n",
      "\u001b[1;32m    488\u001b[0m     \u001b[39mif\u001b[39;00m \u001b[39mnot\u001b[39;00m chunked:\n",
      "\u001b[0;32m--> 489\u001b[0m         resp \u001b[39m=\u001b[39m conn\u001b[39m.\u001b[39;49murlopen(\n",
      "\u001b[1;32m    490\u001b[0m             method\u001b[39m=\u001b[39;49mrequest\u001b[39m.\u001b[39;49mmethod,\n",
      "\u001b[1;32m    491\u001b[0m             url\u001b[39m=\u001b[39;49murl,\n",
      "\u001b[1;32m    492\u001b[0m             body\u001b[39m=\u001b[39;49mrequest\u001b[39m.\u001b[39;49mbody,\n",
      "\u001b[1;32m    493\u001b[0m             headers\u001b[39m=\u001b[39;49mrequest\u001b[39m.\u001b[39;49mheaders,\n",
      "\u001b[1;32m    494\u001b[0m             redirect\u001b[39m=\u001b[39;49m\u001b[39mFalse\u001b[39;49;00m,\n",
      "\u001b[1;32m    495\u001b[0m             assert_same_host\u001b[39m=\u001b[39;49m\u001b[39mFalse\u001b[39;49;00m,\n",
      "\u001b[1;32m    496\u001b[0m             preload_content\u001b[39m=\u001b[39;49m\u001b[39mFalse\u001b[39;49;00m,\n",
      "\u001b[1;32m    497\u001b[0m             decode_content\u001b[39m=\u001b[39;49m\u001b[39mFalse\u001b[39;49;00m,\n",
      "\u001b[1;32m    498\u001b[0m             retries\u001b[39m=\u001b[39;49m\u001b[39mself\u001b[39;49m\u001b[39m.\u001b[39;49mmax_retries,\n",
      "\u001b[1;32m    499\u001b[0m             timeout\u001b[39m=\u001b[39;49mtimeout,\n",
      "\u001b[1;32m    500\u001b[0m         )\n",
      "\u001b[1;32m    502\u001b[0m     \u001b[39m# Send the request.\u001b[39;00m\n",
      "\u001b[1;32m    503\u001b[0m     \u001b[39melse\u001b[39;00m:\n",
      "\u001b[1;32m    504\u001b[0m         \u001b[39mif\u001b[39;00m \u001b[39mhasattr\u001b[39m(conn, \u001b[39m\"\u001b[39m\u001b[39mproxy_pool\u001b[39m\u001b[39m\"\u001b[39m):\n",
      "\n",
      "File \u001b[0;32m~/Documents/Studium/application-project/application-project/lib/python3.10/site-packages/urllib3/connectionpool.py:703\u001b[0m, in \u001b[0;36mHTTPConnectionPool.urlopen\u001b[0;34m(self, method, url, body, headers, retries, redirect, assert_same_host, timeout, pool_timeout, release_conn, chunked, body_pos, **response_kw)\u001b[0m\n",
      "\u001b[1;32m    700\u001b[0m     \u001b[39mself\u001b[39m\u001b[39m.\u001b[39m_prepare_proxy(conn)\n",
      "\u001b[1;32m    702\u001b[0m \u001b[39m# Make the request on the httplib connection object.\u001b[39;00m\n",
      "\u001b[0;32m--> 703\u001b[0m httplib_response \u001b[39m=\u001b[39m \u001b[39mself\u001b[39;49m\u001b[39m.\u001b[39;49m_make_request(\n",
      "\u001b[1;32m    704\u001b[0m     conn,\n",
      "\u001b[1;32m    705\u001b[0m     method,\n",
      "\u001b[1;32m    706\u001b[0m     url,\n",
      "\u001b[1;32m    707\u001b[0m     timeout\u001b[39m=\u001b[39;49mtimeout_obj,\n",
      "\u001b[1;32m    708\u001b[0m     body\u001b[39m=\u001b[39;49mbody,\n",
      "\u001b[1;32m    709\u001b[0m     headers\u001b[39m=\u001b[39;49mheaders,\n",
      "\u001b[1;32m    710\u001b[0m     chunked\u001b[39m=\u001b[39;49mchunked,\n",
      "\u001b[1;32m    711\u001b[0m )\n",
      "\u001b[1;32m    713\u001b[0m \u001b[39m# If we're going to release the connection in ``finally:``, then\u001b[39;00m\n",
      "\u001b[1;32m    714\u001b[0m \u001b[39m# the response doesn't need to know about the connection. Otherwise\u001b[39;00m\n",
      "\u001b[1;32m    715\u001b[0m \u001b[39m# it will also try to release it and we'll have a double-release\u001b[39;00m\n",
      "\u001b[1;32m    716\u001b[0m \u001b[39m# mess.\u001b[39;00m\n",
      "\u001b[1;32m    717\u001b[0m response_conn \u001b[39m=\u001b[39m conn \u001b[39mif\u001b[39;00m \u001b[39mnot\u001b[39;00m release_conn \u001b[39melse\u001b[39;00m \u001b[39mNone\u001b[39;00m\n",
      "\n",
      "File \u001b[0;32m~/Documents/Studium/application-project/application-project/lib/python3.10/site-packages/urllib3/connectionpool.py:449\u001b[0m, in \u001b[0;36mHTTPConnectionPool._make_request\u001b[0;34m(self, conn, method, url, timeout, chunked, **httplib_request_kw)\u001b[0m\n",
      "\u001b[1;32m    444\u001b[0m             httplib_response \u001b[39m=\u001b[39m conn\u001b[39m.\u001b[39mgetresponse()\n",
      "\u001b[1;32m    445\u001b[0m         \u001b[39mexcept\u001b[39;00m \u001b[39mBaseException\u001b[39;00m \u001b[39mas\u001b[39;00m e:\n",
      "\u001b[1;32m    446\u001b[0m             \u001b[39m# Remove the TypeError from the exception chain in\u001b[39;00m\n",
      "\u001b[1;32m    447\u001b[0m             \u001b[39m# Python 3 (including for exceptions like SystemExit).\u001b[39;00m\n",
      "\u001b[1;32m    448\u001b[0m             \u001b[39m# Otherwise it looks like a bug in the code.\u001b[39;00m\n",
      "\u001b[0;32m--> 449\u001b[0m             six\u001b[39m.\u001b[39;49mraise_from(e, \u001b[39mNone\u001b[39;49;00m)\n",
      "\u001b[1;32m    450\u001b[0m \u001b[39mexcept\u001b[39;00m (SocketTimeout, BaseSSLError, SocketError) \u001b[39mas\u001b[39;00m e:\n",
      "\u001b[1;32m    451\u001b[0m     \u001b[39mself\u001b[39m\u001b[39m.\u001b[39m_raise_timeout(err\u001b[39m=\u001b[39me, url\u001b[39m=\u001b[39murl, timeout_value\u001b[39m=\u001b[39mread_timeout)\n",
      "\n",
      "File \u001b[0;32m<string>:3\u001b[0m, in \u001b[0;36mraise_from\u001b[0;34m(value, from_value)\u001b[0m\n",
      "\n",
      "File \u001b[0;32m~/Documents/Studium/application-project/application-project/lib/python3.10/site-packages/urllib3/connectionpool.py:444\u001b[0m, in \u001b[0;36mHTTPConnectionPool._make_request\u001b[0;34m(self, conn, method, url, timeout, chunked, **httplib_request_kw)\u001b[0m\n",
      "\u001b[1;32m    441\u001b[0m \u001b[39mexcept\u001b[39;00m \u001b[39mTypeError\u001b[39;00m:\n",
      "\u001b[1;32m    442\u001b[0m     \u001b[39m# Python 3\u001b[39;00m\n",
      "\u001b[1;32m    443\u001b[0m     \u001b[39mtry\u001b[39;00m:\n",
      "\u001b[0;32m--> 444\u001b[0m         httplib_response \u001b[39m=\u001b[39m conn\u001b[39m.\u001b[39;49mgetresponse()\n",
      "\u001b[1;32m    445\u001b[0m     \u001b[39mexcept\u001b[39;00m \u001b[39mBaseException\u001b[39;00m \u001b[39mas\u001b[39;00m e:\n",
      "\u001b[1;32m    446\u001b[0m         \u001b[39m# Remove the TypeError from the exception chain in\u001b[39;00m\n",
      "\u001b[1;32m    447\u001b[0m         \u001b[39m# Python 3 (including for exceptions like SystemExit).\u001b[39;00m\n",
      "\u001b[1;32m    448\u001b[0m         \u001b[39m# Otherwise it looks like a bug in the code.\u001b[39;00m\n",
      "\u001b[1;32m    449\u001b[0m         six\u001b[39m.\u001b[39mraise_from(e, \u001b[39mNone\u001b[39;00m)\n",
      "\n",
      "File \u001b[0;32m/opt/homebrew/Cellar/python@3.10/3.10.12_1/Frameworks/Python.framework/Versions/3.10/lib/python3.10/http/client.py:1375\u001b[0m, in \u001b[0;36mHTTPConnection.getresponse\u001b[0;34m(self)\u001b[0m\n",
      "\u001b[1;32m   1373\u001b[0m \u001b[39mtry\u001b[39;00m:\n",
      "\u001b[1;32m   1374\u001b[0m     \u001b[39mtry\u001b[39;00m:\n",
      "\u001b[0;32m-> 1375\u001b[0m         response\u001b[39m.\u001b[39;49mbegin()\n",
      "\u001b[1;32m   1376\u001b[0m     \u001b[39mexcept\u001b[39;00m \u001b[39mConnectionError\u001b[39;00m:\n",
      "\u001b[1;32m   1377\u001b[0m         \u001b[39mself\u001b[39m\u001b[39m.\u001b[39mclose()\n",
      "\n",
      "File \u001b[0;32m/opt/homebrew/Cellar/python@3.10/3.10.12_1/Frameworks/Python.framework/Versions/3.10/lib/python3.10/http/client.py:318\u001b[0m, in \u001b[0;36mHTTPResponse.begin\u001b[0;34m(self)\u001b[0m\n",
      "\u001b[1;32m    316\u001b[0m \u001b[39m# read until we get a non-100 response\u001b[39;00m\n",
      "\u001b[1;32m    317\u001b[0m \u001b[39mwhile\u001b[39;00m \u001b[39mTrue\u001b[39;00m:\n",
      "\u001b[0;32m--> 318\u001b[0m     version, status, reason \u001b[39m=\u001b[39m \u001b[39mself\u001b[39;49m\u001b[39m.\u001b[39;49m_read_status()\n",
      "\u001b[1;32m    319\u001b[0m     \u001b[39mif\u001b[39;00m status \u001b[39m!=\u001b[39m CONTINUE:\n",
      "\u001b[1;32m    320\u001b[0m         \u001b[39mbreak\u001b[39;00m\n",
      "\n",
      "File \u001b[0;32m/opt/homebrew/Cellar/python@3.10/3.10.12_1/Frameworks/Python.framework/Versions/3.10/lib/python3.10/http/client.py:279\u001b[0m, in \u001b[0;36mHTTPResponse._read_status\u001b[0;34m(self)\u001b[0m\n",
      "\u001b[1;32m    278\u001b[0m \u001b[39mdef\u001b[39;00m \u001b[39m_read_status\u001b[39m(\u001b[39mself\u001b[39m):\n",
      "\u001b[0;32m--> 279\u001b[0m     line \u001b[39m=\u001b[39m \u001b[39mstr\u001b[39m(\u001b[39mself\u001b[39;49m\u001b[39m.\u001b[39;49mfp\u001b[39m.\u001b[39;49mreadline(_MAXLINE \u001b[39m+\u001b[39;49m \u001b[39m1\u001b[39;49m), \u001b[39m\"\u001b[39m\u001b[39miso-8859-1\u001b[39m\u001b[39m\"\u001b[39m)\n",
      "\u001b[1;32m    280\u001b[0m     \u001b[39mif\u001b[39;00m \u001b[39mlen\u001b[39m(line) \u001b[39m>\u001b[39m _MAXLINE:\n",
      "\u001b[1;32m    281\u001b[0m         \u001b[39mraise\u001b[39;00m LineTooLong(\u001b[39m\"\u001b[39m\u001b[39mstatus line\u001b[39m\u001b[39m\"\u001b[39m)\n",
      "\n",
      "File \u001b[0;32m/opt/homebrew/Cellar/python@3.10/3.10.12_1/Frameworks/Python.framework/Versions/3.10/lib/python3.10/socket.py:705\u001b[0m, in \u001b[0;36mSocketIO.readinto\u001b[0;34m(self, b)\u001b[0m\n",
      "\u001b[1;32m    703\u001b[0m \u001b[39mwhile\u001b[39;00m \u001b[39mTrue\u001b[39;00m:\n",
      "\u001b[1;32m    704\u001b[0m     \u001b[39mtry\u001b[39;00m:\n",
      "\u001b[0;32m--> 705\u001b[0m         \u001b[39mreturn\u001b[39;00m \u001b[39mself\u001b[39;49m\u001b[39m.\u001b[39;49m_sock\u001b[39m.\u001b[39;49mrecv_into(b)\n",
      "\u001b[1;32m    706\u001b[0m     \u001b[39mexcept\u001b[39;00m timeout:\n",
      "\u001b[1;32m    707\u001b[0m         \u001b[39mself\u001b[39m\u001b[39m.\u001b[39m_timeout_occurred \u001b[39m=\u001b[39m \u001b[39mTrue\u001b[39;00m\n",
      "\n",
      "File \u001b[0;32m/opt/homebrew/Cellar/python@3.10/3.10.12_1/Frameworks/Python.framework/Versions/3.10/lib/python3.10/ssl.py:1274\u001b[0m, in \u001b[0;36mSSLSocket.recv_into\u001b[0;34m(self, buffer, nbytes, flags)\u001b[0m\n",
      "\u001b[1;32m   1270\u001b[0m     \u001b[39mif\u001b[39;00m flags \u001b[39m!=\u001b[39m \u001b[39m0\u001b[39m:\n",
      "\u001b[1;32m   1271\u001b[0m         \u001b[39mraise\u001b[39;00m \u001b[39mValueError\u001b[39;00m(\n",
      "\u001b[1;32m   1272\u001b[0m           \u001b[39m\"\u001b[39m\u001b[39mnon-zero flags not allowed in calls to recv_into() on \u001b[39m\u001b[39m%s\u001b[39;00m\u001b[39m\"\u001b[39m \u001b[39m%\u001b[39m\n",
      "\u001b[1;32m   1273\u001b[0m           \u001b[39mself\u001b[39m\u001b[39m.\u001b[39m\u001b[39m__class__\u001b[39m)\n",
      "\u001b[0;32m-> 1274\u001b[0m     \u001b[39mreturn\u001b[39;00m \u001b[39mself\u001b[39;49m\u001b[39m.\u001b[39;49mread(nbytes, buffer)\n",
      "\u001b[1;32m   1275\u001b[0m \u001b[39melse\u001b[39;00m:\n",
      "\u001b[1;32m   1276\u001b[0m     \u001b[39mreturn\u001b[39;00m \u001b[39msuper\u001b[39m()\u001b[39m.\u001b[39mrecv_into(buffer, nbytes, flags)\n",
      "\n",
      "File \u001b[0;32m/opt/homebrew/Cellar/python@3.10/3.10.12_1/Frameworks/Python.framework/Versions/3.10/lib/python3.10/ssl.py:1130\u001b[0m, in \u001b[0;36mSSLSocket.read\u001b[0;34m(self, len, buffer)\u001b[0m\n",
      "\u001b[1;32m   1128\u001b[0m \u001b[39mtry\u001b[39;00m:\n",
      "\u001b[1;32m   1129\u001b[0m     \u001b[39mif\u001b[39;00m buffer \u001b[39mis\u001b[39;00m \u001b[39mnot\u001b[39;00m \u001b[39mNone\u001b[39;00m:\n",
      "\u001b[0;32m-> 1130\u001b[0m         \u001b[39mreturn\u001b[39;00m \u001b[39mself\u001b[39;49m\u001b[39m.\u001b[39;49m_sslobj\u001b[39m.\u001b[39;49mread(\u001b[39mlen\u001b[39;49m, buffer)\n",
      "\u001b[1;32m   1131\u001b[0m     \u001b[39melse\u001b[39;00m:\n",
      "\u001b[1;32m   1132\u001b[0m         \u001b[39mreturn\u001b[39;00m \u001b[39mself\u001b[39m\u001b[39m.\u001b[39m_sslobj\u001b[39m.\u001b[39mread(\u001b[39mlen\u001b[39m)\n",
      "\n",
      "\u001b[0;31mKeyboardInterrupt\u001b[0m: "
     ]
    }
   ],
   "source": [
    "test_genre_query(\"Boney M.\")"
   ]
  },
  {
   "cell_type": "markdown",
   "metadata": {},
   "source": [
    "Es existieren keine Songs für Boney M. wenn ein Genre in der Abfrage spezifiziert wird. Eventuell sind die Genres das Problem für die fehlenden Daten."
   ]
  },
  {
   "cell_type": "code",
   "execution_count": null,
   "metadata": {},
   "outputs": [
    {
     "data": {
      "text/html": [
       "\n",
       "  <div id=\"df-d9605fb7-9f73-4b12-bf14-970ec6f17723\" class=\"colab-df-container\">\n",
       "    <div>\n",
       "<style scoped>\n",
       "    .dataframe tbody tr th:only-of-type {\n",
       "        vertical-align: middle;\n",
       "    }\n",
       "\n",
       "    .dataframe tbody tr th {\n",
       "        vertical-align: top;\n",
       "    }\n",
       "\n",
       "    .dataframe thead th {\n",
       "        text-align: right;\n",
       "    }\n",
       "</style>\n",
       "<table border=\"1\" class=\"dataframe\">\n",
       "  <thead>\n",
       "    <tr style=\"text-align: right;\">\n",
       "      <th></th>\n",
       "      <th>isrc</th>\n",
       "      <th>genres</th>\n",
       "      <th>name</th>\n",
       "      <th>artists</th>\n",
       "      <th>album</th>\n",
       "      <th>release_date</th>\n",
       "      <th>release_date_precision</th>\n",
       "      <th>uri</th>\n",
       "      <th>spotify_id</th>\n",
       "      <th>chart_power</th>\n",
       "      <th>...</th>\n",
       "      <th>acousticness</th>\n",
       "      <th>instrumentalness</th>\n",
       "      <th>liveness</th>\n",
       "      <th>valence</th>\n",
       "      <th>tempo</th>\n",
       "      <th>duration_ms</th>\n",
       "      <th>time_signature</th>\n",
       "      <th>year</th>\n",
       "      <th>country_code</th>\n",
       "      <th>country</th>\n",
       "    </tr>\n",
       "  </thead>\n",
       "  <tbody>\n",
       "    <tr>\n",
       "      <th>132734</th>\n",
       "      <td>GBAAM0201110</td>\n",
       "      <td>['rock']</td>\n",
       "      <td>every breath you take</td>\n",
       "      <td>the police</td>\n",
       "      <td>Synchronicity (Remastered 2003)</td>\n",
       "      <td>1983-06-17</td>\n",
       "      <td>day</td>\n",
       "      <td>spotify:track:1JSTJqkT5qHq8MDJnJbRE1</td>\n",
       "      <td>1JSTJqkT5qHq8MDJnJbRE1</td>\n",
       "      <td>1419.0</td>\n",
       "      <td>...</td>\n",
       "      <td>0.5430</td>\n",
       "      <td>0.002940</td>\n",
       "      <td>0.0714</td>\n",
       "      <td>0.7400</td>\n",
       "      <td>117.401</td>\n",
       "      <td>253920</td>\n",
       "      <td>4</td>\n",
       "      <td>1983</td>\n",
       "      <td>GB</td>\n",
       "      <td>United Kingdom</td>\n",
       "    </tr>\n",
       "    <tr>\n",
       "      <th>144156</th>\n",
       "      <td>GBALX8300190</td>\n",
       "      <td>['piano', 'rock']</td>\n",
       "      <td>i'm still standing</td>\n",
       "      <td>elton john</td>\n",
       "      <td>Too Low For Zero</td>\n",
       "      <td>1983-05-30</td>\n",
       "      <td>day</td>\n",
       "      <td>spotify:track:1jDJFeK9x3OZboIAHsY9k2</td>\n",
       "      <td>1jDJFeK9x3OZboIAHsY9k2</td>\n",
       "      <td>1185.0</td>\n",
       "      <td>...</td>\n",
       "      <td>0.3560</td>\n",
       "      <td>0.121000</td>\n",
       "      <td>0.1400</td>\n",
       "      <td>0.7720</td>\n",
       "      <td>176.808</td>\n",
       "      <td>183440</td>\n",
       "      <td>4</td>\n",
       "      <td>1983</td>\n",
       "      <td>GB</td>\n",
       "      <td>United Kingdom</td>\n",
       "    </tr>\n",
       "    <tr>\n",
       "      <th>368082</th>\n",
       "      <td>USPR38619998</td>\n",
       "      <td>['metal', 'rock']</td>\n",
       "      <td>livin' on a prayer</td>\n",
       "      <td>bon jovi</td>\n",
       "      <td>Slippery When Wet</td>\n",
       "      <td>1986-08-16</td>\n",
       "      <td>day</td>\n",
       "      <td>spotify:track:37ZJ0p5Jm13JPevGcx4SkF</td>\n",
       "      <td>37ZJ0p5Jm13JPevGcx4SkF</td>\n",
       "      <td>1112.0</td>\n",
       "      <td>...</td>\n",
       "      <td>0.0778</td>\n",
       "      <td>0.000214</td>\n",
       "      <td>0.2940</td>\n",
       "      <td>0.7950</td>\n",
       "      <td>122.511</td>\n",
       "      <td>249293</td>\n",
       "      <td>4</td>\n",
       "      <td>1986</td>\n",
       "      <td>US</td>\n",
       "      <td>United States</td>\n",
       "    </tr>\n",
       "    <tr>\n",
       "      <th>169272</th>\n",
       "      <td>GBCNR8500002</td>\n",
       "      <td>['piano', 'pop', 'r-n-b', 'rock', 'singer-song...</td>\n",
       "      <td>running up that hill (a deal with god)</td>\n",
       "      <td>kate bush</td>\n",
       "      <td>Hounds Of Love</td>\n",
       "      <td>1985-09-16</td>\n",
       "      <td>day</td>\n",
       "      <td>spotify:track:1PtQJZVZIdWIYdARpZRDFO</td>\n",
       "      <td>1PtQJZVZIdWIYdARpZRDFO</td>\n",
       "      <td>NaN</td>\n",
       "      <td>...</td>\n",
       "      <td>0.7190</td>\n",
       "      <td>0.003080</td>\n",
       "      <td>0.0604</td>\n",
       "      <td>0.1940</td>\n",
       "      <td>108.376</td>\n",
       "      <td>298933</td>\n",
       "      <td>4</td>\n",
       "      <td>1985</td>\n",
       "      <td>GB</td>\n",
       "      <td>United Kingdom</td>\n",
       "    </tr>\n",
       "    <tr>\n",
       "      <th>6804</th>\n",
       "      <td>AUAP08000046</td>\n",
       "      <td>['hard-rock', 'rock']</td>\n",
       "      <td>back in black</td>\n",
       "      <td>ac/dc</td>\n",
       "      <td>Back In Black</td>\n",
       "      <td>1980-07-25</td>\n",
       "      <td>day</td>\n",
       "      <td>spotify:track:08mG3Y1vljYA6bvDt4Wqkj</td>\n",
       "      <td>08mG3Y1vljYA6bvDt4Wqkj</td>\n",
       "      <td>NaN</td>\n",
       "      <td>...</td>\n",
       "      <td>0.0110</td>\n",
       "      <td>0.009650</td>\n",
       "      <td>0.0828</td>\n",
       "      <td>0.7630</td>\n",
       "      <td>188.386</td>\n",
       "      <td>255493</td>\n",
       "      <td>4</td>\n",
       "      <td>1980</td>\n",
       "      <td>AU</td>\n",
       "      <td>Australia</td>\n",
       "    </tr>\n",
       "    <tr>\n",
       "      <th>...</th>\n",
       "      <td>...</td>\n",
       "      <td>...</td>\n",
       "      <td>...</td>\n",
       "      <td>...</td>\n",
       "      <td>...</td>\n",
       "      <td>...</td>\n",
       "      <td>...</td>\n",
       "      <td>...</td>\n",
       "      <td>...</td>\n",
       "      <td>...</td>\n",
       "      <td>...</td>\n",
       "      <td>...</td>\n",
       "      <td>...</td>\n",
       "      <td>...</td>\n",
       "      <td>...</td>\n",
       "      <td>...</td>\n",
       "      <td>...</td>\n",
       "      <td>...</td>\n",
       "      <td>...</td>\n",
       "      <td>...</td>\n",
       "      <td>...</td>\n",
       "    </tr>\n",
       "    <tr>\n",
       "      <th>174547</th>\n",
       "      <td>GBF078300092</td>\n",
       "      <td>['classical']</td>\n",
       "      <td>serenade in g, k.525 \"eine kleine nachtmusik\" ...</td>\n",
       "      <td>wolfgang amadeus mozart,salomon quartet,barry guy</td>\n",
       "      <td>Mozart: Eine kleine Nachtmusik; Notturno; Sere...</td>\n",
       "      <td>1984-06-03</td>\n",
       "      <td>day</td>\n",
       "      <td>spotify:track:1Sbp0G9AUAQdhXinEiDWsl</td>\n",
       "      <td>1Sbp0G9AUAQdhXinEiDWsl</td>\n",
       "      <td>NaN</td>\n",
       "      <td>...</td>\n",
       "      <td>0.5170</td>\n",
       "      <td>0.000000</td>\n",
       "      <td>0.2780</td>\n",
       "      <td>0.1510</td>\n",
       "      <td>124.043</td>\n",
       "      <td>241373</td>\n",
       "      <td>3</td>\n",
       "      <td>1984</td>\n",
       "      <td>GB</td>\n",
       "      <td>United Kingdom</td>\n",
       "    </tr>\n",
       "    <tr>\n",
       "      <th>174528</th>\n",
       "      <td>GBF078300017</td>\n",
       "      <td>['classical']</td>\n",
       "      <td>alexander nevsky, op. 78: 7. alexander's entry...</td>\n",
       "      <td>sergei prokofiev,the cleveland orchestra choru...</td>\n",
       "      <td>Prokofiev: Alexander Nevsky</td>\n",
       "      <td>1984-01-01</td>\n",
       "      <td>day</td>\n",
       "      <td>spotify:track:3EZH0BH50us07EUPKzhw3u</td>\n",
       "      <td>3EZH0BH50us07EUPKzhw3u</td>\n",
       "      <td>NaN</td>\n",
       "      <td>...</td>\n",
       "      <td>0.9160</td>\n",
       "      <td>0.003540</td>\n",
       "      <td>0.1860</td>\n",
       "      <td>0.1460</td>\n",
       "      <td>145.809</td>\n",
       "      <td>277053</td>\n",
       "      <td>4</td>\n",
       "      <td>1984</td>\n",
       "      <td>GB</td>\n",
       "      <td>United Kingdom</td>\n",
       "    </tr>\n",
       "    <tr>\n",
       "      <th>174527</th>\n",
       "      <td>GBF078300016</td>\n",
       "      <td>['classical']</td>\n",
       "      <td>alexander nevsky, op. 78: 6. field of the dead</td>\n",
       "      <td>sergei prokofiev,irina arkhipova,cleveland orc...</td>\n",
       "      <td>Prokofiev: Alexander Nevsky</td>\n",
       "      <td>1984-01-01</td>\n",
       "      <td>day</td>\n",
       "      <td>spotify:track:4EXE7ZRcKVwD1xxNZLEOPj</td>\n",
       "      <td>4EXE7ZRcKVwD1xxNZLEOPj</td>\n",
       "      <td>NaN</td>\n",
       "      <td>...</td>\n",
       "      <td>0.9160</td>\n",
       "      <td>0.004890</td>\n",
       "      <td>0.1180</td>\n",
       "      <td>0.0399</td>\n",
       "      <td>83.968</td>\n",
       "      <td>386533</td>\n",
       "      <td>4</td>\n",
       "      <td>1984</td>\n",
       "      <td>GB</td>\n",
       "      <td>United Kingdom</td>\n",
       "    </tr>\n",
       "    <tr>\n",
       "      <th>174526</th>\n",
       "      <td>GBF078300015</td>\n",
       "      <td>['classical']</td>\n",
       "      <td>alexander nevsky, op. 78: 5. the battle on the...</td>\n",
       "      <td>sergei prokofiev,the cleveland orchestra choru...</td>\n",
       "      <td>Prokofiev: Alexander Nevsky</td>\n",
       "      <td>1984-01-01</td>\n",
       "      <td>day</td>\n",
       "      <td>spotify:track:3jXNm9r9WAwj8qJvBKoXg1</td>\n",
       "      <td>3jXNm9r9WAwj8qJvBKoXg1</td>\n",
       "      <td>NaN</td>\n",
       "      <td>...</td>\n",
       "      <td>0.6560</td>\n",
       "      <td>0.787000</td>\n",
       "      <td>0.1470</td>\n",
       "      <td>0.0637</td>\n",
       "      <td>100.909</td>\n",
       "      <td>801840</td>\n",
       "      <td>4</td>\n",
       "      <td>1984</td>\n",
       "      <td>GB</td>\n",
       "      <td>United Kingdom</td>\n",
       "    </tr>\n",
       "    <tr>\n",
       "      <th>416153</th>\n",
       "      <td>ved049201680</td>\n",
       "      <td>['folk', 'pop', 'rock']</td>\n",
       "      <td>la boda del raton perez</td>\n",
       "      <td>serenata guayanesa</td>\n",
       "      <td>Rumbita Mix</td>\n",
       "      <td>1989-09-21</td>\n",
       "      <td>day</td>\n",
       "      <td>spotify:track:0RU3CdU5lfgvktiPg2JxaX</td>\n",
       "      <td>0RU3CdU5lfgvktiPg2JxaX</td>\n",
       "      <td>NaN</td>\n",
       "      <td>...</td>\n",
       "      <td>0.9210</td>\n",
       "      <td>0.000000</td>\n",
       "      <td>0.0660</td>\n",
       "      <td>0.9650</td>\n",
       "      <td>165.016</td>\n",
       "      <td>188565</td>\n",
       "      <td>3</td>\n",
       "      <td>1989</td>\n",
       "      <td>VE</td>\n",
       "      <td>Venezuela</td>\n",
       "    </tr>\n",
       "  </tbody>\n",
       "</table>\n",
       "<p>416154 rows × 27 columns</p>\n",
       "</div>\n",
       "    <div class=\"colab-df-buttons\">\n",
       "\n",
       "  <div class=\"colab-df-container\">\n",
       "    <button class=\"colab-df-convert\" onclick=\"convertToInteractive('df-d9605fb7-9f73-4b12-bf14-970ec6f17723')\"\n",
       "            title=\"Convert this dataframe to an interactive table.\"\n",
       "            style=\"display:none;\">\n",
       "\n",
       "  <svg xmlns=\"http://www.w3.org/2000/svg\" height=\"24px\" viewBox=\"0 -960 960 960\">\n",
       "    <path d=\"M120-120v-720h720v720H120Zm60-500h600v-160H180v160Zm220 220h160v-160H400v160Zm0 220h160v-160H400v160ZM180-400h160v-160H180v160Zm440 0h160v-160H620v160ZM180-180h160v-160H180v160Zm440 0h160v-160H620v160Z\"/>\n",
       "  </svg>\n",
       "    </button>\n",
       "\n",
       "  <style>\n",
       "    .colab-df-container {\n",
       "      display:flex;\n",
       "      gap: 12px;\n",
       "    }\n",
       "\n",
       "    .colab-df-convert {\n",
       "      background-color: #E8F0FE;\n",
       "      border: none;\n",
       "      border-radius: 50%;\n",
       "      cursor: pointer;\n",
       "      display: none;\n",
       "      fill: #1967D2;\n",
       "      height: 32px;\n",
       "      padding: 0 0 0 0;\n",
       "      width: 32px;\n",
       "    }\n",
       "\n",
       "    .colab-df-convert:hover {\n",
       "      background-color: #E2EBFA;\n",
       "      box-shadow: 0px 1px 2px rgba(60, 64, 67, 0.3), 0px 1px 3px 1px rgba(60, 64, 67, 0.15);\n",
       "      fill: #174EA6;\n",
       "    }\n",
       "\n",
       "    .colab-df-buttons div {\n",
       "      margin-bottom: 4px;\n",
       "    }\n",
       "\n",
       "    [theme=dark] .colab-df-convert {\n",
       "      background-color: #3B4455;\n",
       "      fill: #D2E3FC;\n",
       "    }\n",
       "\n",
       "    [theme=dark] .colab-df-convert:hover {\n",
       "      background-color: #434B5C;\n",
       "      box-shadow: 0px 1px 3px 1px rgba(0, 0, 0, 0.15);\n",
       "      filter: drop-shadow(0px 1px 2px rgba(0, 0, 0, 0.3));\n",
       "      fill: #FFFFFF;\n",
       "    }\n",
       "  </style>\n",
       "\n",
       "    <script>\n",
       "      const buttonEl =\n",
       "        document.querySelector('#df-d9605fb7-9f73-4b12-bf14-970ec6f17723 button.colab-df-convert');\n",
       "      buttonEl.style.display =\n",
       "        google.colab.kernel.accessAllowed ? 'block' : 'none';\n",
       "\n",
       "      async function convertToInteractive(key) {\n",
       "        const element = document.querySelector('#df-d9605fb7-9f73-4b12-bf14-970ec6f17723');\n",
       "        const dataTable =\n",
       "          await google.colab.kernel.invokeFunction('convertToInteractive',\n",
       "                                                    [key], {});\n",
       "        if (!dataTable) return;\n",
       "\n",
       "        const docLinkHtml = 'Like what you see? Visit the ' +\n",
       "          '<a target=\"_blank\" href=https://colab.research.google.com/notebooks/data_table.ipynb>data table notebook</a>'\n",
       "          + ' to learn more about interactive tables.';\n",
       "        element.innerHTML = '';\n",
       "        dataTable['output_type'] = 'display_data';\n",
       "        await google.colab.output.renderOutput(dataTable, element);\n",
       "        const docLink = document.createElement('div');\n",
       "        docLink.innerHTML = docLinkHtml;\n",
       "        element.appendChild(docLink);\n",
       "      }\n",
       "    </script>\n",
       "  </div>\n",
       "\n",
       "\n",
       "<div id=\"df-57ed6a20-e07c-407c-85b5-37b87fc586e1\">\n",
       "  <button class=\"colab-df-quickchart\" onclick=\"quickchart('df-57ed6a20-e07c-407c-85b5-37b87fc586e1')\"\n",
       "            title=\"Suggest charts.\"\n",
       "            style=\"display:none;\">\n",
       "\n",
       "<svg xmlns=\"http://www.w3.org/2000/svg\" height=\"24px\"viewBox=\"0 0 24 24\"\n",
       "     width=\"24px\">\n",
       "    <g>\n",
       "        <path d=\"M19 3H5c-1.1 0-2 .9-2 2v14c0 1.1.9 2 2 2h14c1.1 0 2-.9 2-2V5c0-1.1-.9-2-2-2zM9 17H7v-7h2v7zm4 0h-2V7h2v10zm4 0h-2v-4h2v4z\"/>\n",
       "    </g>\n",
       "</svg>\n",
       "  </button>\n",
       "\n",
       "<style>\n",
       "  .colab-df-quickchart {\n",
       "    background-color: #E8F0FE;\n",
       "    border: none;\n",
       "    border-radius: 50%;\n",
       "    cursor: pointer;\n",
       "    display: none;\n",
       "    fill: #1967D2;\n",
       "    height: 32px;\n",
       "    padding: 0 0 0 0;\n",
       "    width: 32px;\n",
       "  }\n",
       "\n",
       "  .colab-df-quickchart:hover {\n",
       "    background-color: #E2EBFA;\n",
       "    box-shadow: 0px 1px 2px rgba(60, 64, 67, 0.3), 0px 1px 3px 1px rgba(60, 64, 67, 0.15);\n",
       "    fill: #174EA6;\n",
       "  }\n",
       "\n",
       "  [theme=dark] .colab-df-quickchart {\n",
       "    background-color: #3B4455;\n",
       "    fill: #D2E3FC;\n",
       "  }\n",
       "\n",
       "  [theme=dark] .colab-df-quickchart:hover {\n",
       "    background-color: #434B5C;\n",
       "    box-shadow: 0px 1px 3px 1px rgba(0, 0, 0, 0.15);\n",
       "    filter: drop-shadow(0px 1px 2px rgba(0, 0, 0, 0.3));\n",
       "    fill: #FFFFFF;\n",
       "  }\n",
       "</style>\n",
       "\n",
       "  <script>\n",
       "    async function quickchart(key) {\n",
       "      const charts = await google.colab.kernel.invokeFunction(\n",
       "          'suggestCharts', [key], {});\n",
       "    }\n",
       "    (() => {\n",
       "      let quickchartButtonEl =\n",
       "        document.querySelector('#df-57ed6a20-e07c-407c-85b5-37b87fc586e1 button');\n",
       "      quickchartButtonEl.style.display =\n",
       "        google.colab.kernel.accessAllowed ? 'block' : 'none';\n",
       "    })();\n",
       "  </script>\n",
       "</div>\n",
       "    </div>\n",
       "  </div>\n"
      ],
      "text/plain": [
       "                isrc                                             genres  \\\n",
       "132734  GBAAM0201110                                           ['rock']   \n",
       "144156  GBALX8300190                                  ['piano', 'rock']   \n",
       "368082  USPR38619998                                  ['metal', 'rock']   \n",
       "169272  GBCNR8500002  ['piano', 'pop', 'r-n-b', 'rock', 'singer-song...   \n",
       "6804    AUAP08000046                              ['hard-rock', 'rock']   \n",
       "...              ...                                                ...   \n",
       "174547  GBF078300092                                      ['classical']   \n",
       "174528  GBF078300017                                      ['classical']   \n",
       "174527  GBF078300016                                      ['classical']   \n",
       "174526  GBF078300015                                      ['classical']   \n",
       "416153  ved049201680                            ['folk', 'pop', 'rock']   \n",
       "\n",
       "                                                     name  \\\n",
       "132734                              every breath you take   \n",
       "144156                                 i'm still standing   \n",
       "368082                                 livin' on a prayer   \n",
       "169272             running up that hill (a deal with god)   \n",
       "6804                                        back in black   \n",
       "...                                                   ...   \n",
       "174547  serenade in g, k.525 \"eine kleine nachtmusik\" ...   \n",
       "174528  alexander nevsky, op. 78: 7. alexander's entry...   \n",
       "174527     alexander nevsky, op. 78: 6. field of the dead   \n",
       "174526  alexander nevsky, op. 78: 5. the battle on the...   \n",
       "416153                            la boda del raton perez   \n",
       "\n",
       "                                                  artists  \\\n",
       "132734                                         the police   \n",
       "144156                                         elton john   \n",
       "368082                                           bon jovi   \n",
       "169272                                          kate bush   \n",
       "6804                                                ac/dc   \n",
       "...                                                   ...   \n",
       "174547  wolfgang amadeus mozart,salomon quartet,barry guy   \n",
       "174528  sergei prokofiev,the cleveland orchestra choru...   \n",
       "174527  sergei prokofiev,irina arkhipova,cleveland orc...   \n",
       "174526  sergei prokofiev,the cleveland orchestra choru...   \n",
       "416153                                 serenata guayanesa   \n",
       "\n",
       "                                                    album release_date  \\\n",
       "132734                    Synchronicity (Remastered 2003)   1983-06-17   \n",
       "144156                                   Too Low For Zero   1983-05-30   \n",
       "368082                                  Slippery When Wet   1986-08-16   \n",
       "169272                                     Hounds Of Love   1985-09-16   \n",
       "6804                                        Back In Black   1980-07-25   \n",
       "...                                                   ...          ...   \n",
       "174547  Mozart: Eine kleine Nachtmusik; Notturno; Sere...   1984-06-03   \n",
       "174528                        Prokofiev: Alexander Nevsky   1984-01-01   \n",
       "174527                        Prokofiev: Alexander Nevsky   1984-01-01   \n",
       "174526                        Prokofiev: Alexander Nevsky   1984-01-01   \n",
       "416153                                        Rumbita Mix   1989-09-21   \n",
       "\n",
       "       release_date_precision                                   uri  \\\n",
       "132734                    day  spotify:track:1JSTJqkT5qHq8MDJnJbRE1   \n",
       "144156                    day  spotify:track:1jDJFeK9x3OZboIAHsY9k2   \n",
       "368082                    day  spotify:track:37ZJ0p5Jm13JPevGcx4SkF   \n",
       "169272                    day  spotify:track:1PtQJZVZIdWIYdARpZRDFO   \n",
       "6804                      day  spotify:track:08mG3Y1vljYA6bvDt4Wqkj   \n",
       "...                       ...                                   ...   \n",
       "174547                    day  spotify:track:1Sbp0G9AUAQdhXinEiDWsl   \n",
       "174528                    day  spotify:track:3EZH0BH50us07EUPKzhw3u   \n",
       "174527                    day  spotify:track:4EXE7ZRcKVwD1xxNZLEOPj   \n",
       "174526                    day  spotify:track:3jXNm9r9WAwj8qJvBKoXg1   \n",
       "416153                    day  spotify:track:0RU3CdU5lfgvktiPg2JxaX   \n",
       "\n",
       "                    spotify_id  chart_power  ...  acousticness  \\\n",
       "132734  1JSTJqkT5qHq8MDJnJbRE1       1419.0  ...        0.5430   \n",
       "144156  1jDJFeK9x3OZboIAHsY9k2       1185.0  ...        0.3560   \n",
       "368082  37ZJ0p5Jm13JPevGcx4SkF       1112.0  ...        0.0778   \n",
       "169272  1PtQJZVZIdWIYdARpZRDFO          NaN  ...        0.7190   \n",
       "6804    08mG3Y1vljYA6bvDt4Wqkj          NaN  ...        0.0110   \n",
       "...                        ...          ...  ...           ...   \n",
       "174547  1Sbp0G9AUAQdhXinEiDWsl          NaN  ...        0.5170   \n",
       "174528  3EZH0BH50us07EUPKzhw3u          NaN  ...        0.9160   \n",
       "174527  4EXE7ZRcKVwD1xxNZLEOPj          NaN  ...        0.9160   \n",
       "174526  3jXNm9r9WAwj8qJvBKoXg1          NaN  ...        0.6560   \n",
       "416153  0RU3CdU5lfgvktiPg2JxaX          NaN  ...        0.9210   \n",
       "\n",
       "        instrumentalness  liveness  valence    tempo  duration_ms  \\\n",
       "132734          0.002940    0.0714   0.7400  117.401       253920   \n",
       "144156          0.121000    0.1400   0.7720  176.808       183440   \n",
       "368082          0.000214    0.2940   0.7950  122.511       249293   \n",
       "169272          0.003080    0.0604   0.1940  108.376       298933   \n",
       "6804            0.009650    0.0828   0.7630  188.386       255493   \n",
       "...                  ...       ...      ...      ...          ...   \n",
       "174547          0.000000    0.2780   0.1510  124.043       241373   \n",
       "174528          0.003540    0.1860   0.1460  145.809       277053   \n",
       "174527          0.004890    0.1180   0.0399   83.968       386533   \n",
       "174526          0.787000    0.1470   0.0637  100.909       801840   \n",
       "416153          0.000000    0.0660   0.9650  165.016       188565   \n",
       "\n",
       "        time_signature  year  country_code         country  \n",
       "132734               4  1983            GB  United Kingdom  \n",
       "144156               4  1983            GB  United Kingdom  \n",
       "368082               4  1986            US   United States  \n",
       "169272               4  1985            GB  United Kingdom  \n",
       "6804                 4  1980            AU       Australia  \n",
       "...                ...   ...           ...             ...  \n",
       "174547               3  1984            GB  United Kingdom  \n",
       "174528               4  1984            GB  United Kingdom  \n",
       "174527               4  1984            GB  United Kingdom  \n",
       "174526               4  1984            GB  United Kingdom  \n",
       "416153               3  1989            VE       Venezuela  \n",
       "\n",
       "[416154 rows x 27 columns]"
      ]
     },
     "metadata": {},
     "output_type": "display_data"
    }
   ],
   "source": [
    "by_isrc.sort_values(\"popularity\", ascending=False)"
   ]
  },
  {
   "cell_type": "markdown",
   "metadata": {},
   "source": [
    "Abfrage nach dem Künstler Elton John."
   ]
  },
  {
   "cell_type": "code",
   "execution_count": null,
   "metadata": {},
   "outputs": [
    {
     "name": "stdout",
     "output_type": "stream",
     "text": [
      "1980 piano\n",
      "1980 rock\n",
      "1981 piano\n",
      "1981 rock\n",
      "1982 piano\n",
      "1982 rock\n",
      "1983 piano\n",
      "1983 rock\n"
     ]
    },
    {
     "ename": "KeyboardInterrupt",
     "evalue": "ignored",
     "output_type": "error",
     "traceback": [
      "\u001b[0;31m---------------------------------------------------------------------------\u001b[0m\n",
      "\u001b[0;31mRateLimitException\u001b[0m                        Traceback (most recent call last)\n",
      "\u001b[0;32m/usr/local/lib/python3.10/dist-packages/ratelimit/decorators.py\u001b[0m in \u001b[0;36mwrapper\u001b[0;34m(*args, **kargs)\u001b[0m\n",
      "\u001b[1;32m    112\u001b[0m             \u001b[0;32mtry\u001b[0m\u001b[0;34m:\u001b[0m\u001b[0;34m\u001b[0m\u001b[0;34m\u001b[0m\u001b[0m\n",
      "\u001b[0;32m--> 113\u001b[0;31m                 \u001b[0;32mreturn\u001b[0m \u001b[0mfunc\u001b[0m\u001b[0;34m(\u001b[0m\u001b[0;34m*\u001b[0m\u001b[0margs\u001b[0m\u001b[0;34m,\u001b[0m \u001b[0;34m**\u001b[0m\u001b[0mkargs\u001b[0m\u001b[0;34m)\u001b[0m\u001b[0;34m\u001b[0m\u001b[0;34m\u001b[0m\u001b[0m\n",
      "\u001b[0m\u001b[1;32m    114\u001b[0m             \u001b[0;32mexcept\u001b[0m \u001b[0mRateLimitException\u001b[0m \u001b[0;32mas\u001b[0m \u001b[0mexception\u001b[0m\u001b[0;34m:\u001b[0m\u001b[0;34m\u001b[0m\u001b[0;34m\u001b[0m\u001b[0m\n",
      "\n",
      "\u001b[0;32m/usr/local/lib/python3.10/dist-packages/ratelimit/decorators.py\u001b[0m in \u001b[0;36mwrapper\u001b[0;34m(*args, **kargs)\u001b[0m\n",
      "\u001b[1;32m     76\u001b[0m                     \u001b[0;32mif\u001b[0m \u001b[0mself\u001b[0m\u001b[0;34m.\u001b[0m\u001b[0mraise_on_limit\u001b[0m\u001b[0;34m:\u001b[0m\u001b[0;34m\u001b[0m\u001b[0;34m\u001b[0m\u001b[0m\n",
      "\u001b[0;32m---> 77\u001b[0;31m                         \u001b[0;32mraise\u001b[0m \u001b[0mRateLimitException\u001b[0m\u001b[0;34m(\u001b[0m\u001b[0;34m'too many calls'\u001b[0m\u001b[0;34m,\u001b[0m \u001b[0mperiod_remaining\u001b[0m\u001b[0;34m)\u001b[0m\u001b[0;34m\u001b[0m\u001b[0;34m\u001b[0m\u001b[0m\n",
      "\u001b[0m\u001b[1;32m     78\u001b[0m                     \u001b[0;32mreturn\u001b[0m\u001b[0;34m\u001b[0m\u001b[0;34m\u001b[0m\u001b[0m\n",
      "\n",
      "\u001b[0;31mRateLimitException\u001b[0m: too many calls\n",
      "\n",
      "During handling of the above exception, another exception occurred:\n",
      "\n",
      "\u001b[0;31mKeyboardInterrupt\u001b[0m                         Traceback (most recent call last)\n",
      "\u001b[0;32m<ipython-input-29-b8f0076d97b2>\u001b[0m in \u001b[0;36m<cell line: 1>\u001b[0;34m()\u001b[0m\n",
      "\u001b[0;32m----> 1\u001b[0;31m \u001b[0mtest_genre_query\u001b[0m\u001b[0;34m(\u001b[0m\u001b[0;34m\"Elton John\"\u001b[0m\u001b[0;34m)\u001b[0m\u001b[0;34m\u001b[0m\u001b[0;34m\u001b[0m\u001b[0m\n",
      "\u001b[0m\n",
      "\u001b[0;32m<ipython-input-16-744d401632e8>\u001b[0m in \u001b[0;36mtest_genre_query\u001b[0;34m(artist)\u001b[0m\n",
      "\u001b[1;32m      2\u001b[0m   \u001b[0mgenres\u001b[0m \u001b[0;34m=\u001b[0m \u001b[0msp\u001b[0m\u001b[0;34m.\u001b[0m\u001b[0mrecommendation_genre_seeds\u001b[0m\u001b[0;34m(\u001b[0m\u001b[0;34m)\u001b[0m\u001b[0;34m[\u001b[0m\u001b[0;34m'genres'\u001b[0m\u001b[0;34m]\u001b[0m\u001b[0;34m\u001b[0m\u001b[0;34m\u001b[0m\u001b[0m\n",
      "\u001b[1;32m      3\u001b[0m   \u001b[0;32mfor\u001b[0m \u001b[0myear\u001b[0m \u001b[0;32min\u001b[0m \u001b[0mrange\u001b[0m\u001b[0;34m(\u001b[0m\u001b[0;36m1980\u001b[0m\u001b[0;34m,\u001b[0m \u001b[0;36m1990\u001b[0m\u001b[0;34m)\u001b[0m\u001b[0;34m:\u001b[0m\u001b[0;34m\u001b[0m\u001b[0;34m\u001b[0m\u001b[0m\n",
      "\u001b[0;32m----> 4\u001b[0;31m     \u001b[0mgenre_query\u001b[0m\u001b[0;34m(\u001b[0m\u001b[0martist\u001b[0m\u001b[0;34m,\u001b[0m \u001b[0myear\u001b[0m\u001b[0;34m,\u001b[0m \u001b[0;36m0\u001b[0m\u001b[0;34m,\u001b[0m \u001b[0mgenres\u001b[0m\u001b[0;34m)\u001b[0m\u001b[0;34m\u001b[0m\u001b[0;34m\u001b[0m\u001b[0m\n",
      "\u001b[0m\n",
      "\u001b[0;32m<ipython-input-15-f115b93f99bc>\u001b[0m in \u001b[0;36mgenre_query\u001b[0;34m(artist, year, offset, genres)\u001b[0m\n",
      "\u001b[1;32m      1\u001b[0m \u001b[0;32mdef\u001b[0m \u001b[0mgenre_query\u001b[0m\u001b[0;34m(\u001b[0m\u001b[0martist\u001b[0m\u001b[0;34m:\u001b[0m \u001b[0mstr\u001b[0m\u001b[0;34m,\u001b[0m \u001b[0myear\u001b[0m\u001b[0;34m:\u001b[0m \u001b[0mint\u001b[0m\u001b[0;34m,\u001b[0m \u001b[0moffset\u001b[0m\u001b[0;34m:\u001b[0m\u001b[0mint\u001b[0m\u001b[0;34m,\u001b[0m \u001b[0mgenres\u001b[0m\u001b[0;34m)\u001b[0m\u001b[0;34m:\u001b[0m\u001b[0;34m\u001b[0m\u001b[0;34m\u001b[0m\u001b[0m\n",
      "\u001b[1;32m      2\u001b[0m   \u001b[0;32mfor\u001b[0m \u001b[0mgenre\u001b[0m \u001b[0;32min\u001b[0m \u001b[0mgenres\u001b[0m\u001b[0;34m:\u001b[0m\u001b[0;34m\u001b[0m\u001b[0;34m\u001b[0m\u001b[0m\n",
      "\u001b[0;32m----> 3\u001b[0;31m     \u001b[0mcall_api\u001b[0m\u001b[0;34m(\u001b[0m\u001b[0;34m)\u001b[0m\u001b[0;34m\u001b[0m\u001b[0;34m\u001b[0m\u001b[0m\n",
      "\u001b[0m\u001b[1;32m      4\u001b[0m     \u001b[0mres\u001b[0m \u001b[0;34m=\u001b[0m \u001b[0msp\u001b[0m\u001b[0;34m.\u001b[0m\u001b[0msearch\u001b[0m\u001b[0;34m(\u001b[0m\u001b[0mq\u001b[0m\u001b[0;34m=\u001b[0m\u001b[0;34mf\"artist:{artist} year:{year} genre:{genre}\"\u001b[0m\u001b[0;34m,\u001b[0m \u001b[0mtype\u001b[0m\u001b[0;34m=\u001b[0m\u001b[0;34m\"track\"\u001b[0m\u001b[0;34m,\u001b[0m \u001b[0mlimit\u001b[0m\u001b[0;34m=\u001b[0m\u001b[0;36m50\u001b[0m\u001b[0;34m,\u001b[0m \u001b[0moffset\u001b[0m\u001b[0;34m=\u001b[0m\u001b[0moffset\u001b[0m\u001b[0;34m,\u001b[0m \u001b[0mmarket\u001b[0m\u001b[0;34m=\u001b[0m\u001b[0;34m\"DE\"\u001b[0m\u001b[0;34m)\u001b[0m\u001b[0;34m\u001b[0m\u001b[0;34m\u001b[0m\u001b[0m\n",
      "\u001b[1;32m      5\u001b[0m     \u001b[0;32mif\u001b[0m \u001b[0;34m(\u001b[0m\u001b[0mlen\u001b[0m\u001b[0;34m(\u001b[0m\u001b[0mres\u001b[0m\u001b[0;34m[\u001b[0m\u001b[0;34m\"tracks\"\u001b[0m\u001b[0;34m]\u001b[0m\u001b[0;34m[\u001b[0m\u001b[0;34m\"items\"\u001b[0m\u001b[0;34m]\u001b[0m \u001b[0;34m)\u001b[0m \u001b[0;34m>\u001b[0m \u001b[0;36m1\u001b[0m\u001b[0;34m)\u001b[0m\u001b[0;34m:\u001b[0m\u001b[0;34m\u001b[0m\u001b[0;34m\u001b[0m\u001b[0m\n",
      "\n",
      "\u001b[0;32m/usr/local/lib/python3.10/dist-packages/ratelimit/decorators.py\u001b[0m in \u001b[0;36mwrapper\u001b[0;34m(*args, **kargs)\u001b[0m\n",
      "\u001b[1;32m    113\u001b[0m                 \u001b[0;32mreturn\u001b[0m \u001b[0mfunc\u001b[0m\u001b[0;34m(\u001b[0m\u001b[0;34m*\u001b[0m\u001b[0margs\u001b[0m\u001b[0;34m,\u001b[0m \u001b[0;34m**\u001b[0m\u001b[0mkargs\u001b[0m\u001b[0;34m)\u001b[0m\u001b[0;34m\u001b[0m\u001b[0;34m\u001b[0m\u001b[0m\n",
      "\u001b[1;32m    114\u001b[0m             \u001b[0;32mexcept\u001b[0m \u001b[0mRateLimitException\u001b[0m \u001b[0;32mas\u001b[0m \u001b[0mexception\u001b[0m\u001b[0;34m:\u001b[0m\u001b[0;34m\u001b[0m\u001b[0;34m\u001b[0m\u001b[0m\n",
      "\u001b[0;32m--> 115\u001b[0;31m                 \u001b[0mtime\u001b[0m\u001b[0;34m.\u001b[0m\u001b[0msleep\u001b[0m\u001b[0;34m(\u001b[0m\u001b[0mexception\u001b[0m\u001b[0;34m.\u001b[0m\u001b[0mperiod_remaining\u001b[0m\u001b[0;34m)\u001b[0m\u001b[0;34m\u001b[0m\u001b[0;34m\u001b[0m\u001b[0m\n",
      "\u001b[0m\u001b[1;32m    116\u001b[0m     \u001b[0;32mreturn\u001b[0m \u001b[0mwrapper\u001b[0m\u001b[0;34m\u001b[0m\u001b[0;34m\u001b[0m\u001b[0m\n",
      "\n",
      "\u001b[0;31mKeyboardInterrupt\u001b[0m: "
     ]
    }
   ],
   "source": [
    "test_genre_query(\"Elton John\")"
   ]
  },
  {
   "cell_type": "markdown",
   "metadata": {},
   "source": [
    "Für Elton John existieren Genres. Im nächsten Schritt soll überprüft werden, ob die Genres auch in dem Response der Spotify API wiedergefunden wird."
   ]
  },
  {
   "cell_type": "code",
   "execution_count": null,
   "metadata": {},
   "outputs": [
    {
     "name": "stdout",
     "output_type": "stream",
     "text": [
      "dict_keys(['external_urls', 'href', 'id', 'name', 'type', 'uri'])\n",
      "dict_keys(['external_urls', 'href', 'id', 'name', 'type', 'uri'])\n",
      "dict_keys(['external_urls', 'href', 'id', 'name', 'type', 'uri'])\n",
      "dict_keys(['external_urls', 'href', 'id', 'name', 'type', 'uri'])\n",
      "dict_keys(['external_urls', 'href', 'id', 'name', 'type', 'uri'])\n",
      "dict_keys(['external_urls', 'href', 'id', 'name', 'type', 'uri'])\n",
      "dict_keys(['external_urls', 'href', 'id', 'name', 'type', 'uri'])\n",
      "dict_keys(['external_urls', 'href', 'id', 'name', 'type', 'uri'])\n",
      "dict_keys(['external_urls', 'href', 'id', 'name', 'type', 'uri'])\n",
      "dict_keys(['external_urls', 'href', 'id', 'name', 'type', 'uri'])\n",
      "dict_keys(['external_urls', 'href', 'id', 'name', 'type', 'uri'])\n",
      "dict_keys(['external_urls', 'href', 'id', 'name', 'type', 'uri'])\n",
      "dict_keys(['external_urls', 'href', 'id', 'name', 'type', 'uri'])\n",
      "dict_keys(['external_urls', 'href', 'id', 'name', 'type', 'uri'])\n",
      "dict_keys(['external_urls', 'href', 'id', 'name', 'type', 'uri'])\n",
      "dict_keys(['external_urls', 'href', 'id', 'name', 'type', 'uri'])\n",
      "dict_keys(['external_urls', 'href', 'id', 'name', 'type', 'uri'])\n",
      "dict_keys(['external_urls', 'href', 'id', 'name', 'type', 'uri'])\n",
      "dict_keys(['external_urls', 'href', 'id', 'name', 'type', 'uri'])\n",
      "dict_keys(['external_urls', 'href', 'id', 'name', 'type', 'uri'])\n",
      "dict_keys(['external_urls', 'href', 'id', 'name', 'type', 'uri'])\n",
      "dict_keys(['external_urls', 'href', 'id', 'name', 'type', 'uri'])\n",
      "dict_keys(['external_urls', 'href', 'id', 'name', 'type', 'uri'])\n",
      "dict_keys(['external_urls', 'href', 'id', 'name', 'type', 'uri'])\n",
      "dict_keys(['external_urls', 'href', 'id', 'name', 'type', 'uri'])\n",
      "dict_keys(['external_urls', 'href', 'id', 'name', 'type', 'uri'])\n",
      "dict_keys(['external_urls', 'href', 'id', 'name', 'type', 'uri'])\n",
      "dict_keys(['external_urls', 'href', 'id', 'name', 'type', 'uri'])\n",
      "dict_keys(['external_urls', 'href', 'id', 'name', 'type', 'uri'])\n",
      "dict_keys(['external_urls', 'href', 'id', 'name', 'type', 'uri'])\n",
      "dict_keys(['external_urls', 'href', 'id', 'name', 'type', 'uri'])\n",
      "dict_keys(['external_urls', 'href', 'id', 'name', 'type', 'uri'])\n",
      "dict_keys(['external_urls', 'href', 'id', 'name', 'type', 'uri'])\n",
      "dict_keys(['external_urls', 'href', 'id', 'name', 'type', 'uri'])\n",
      "dict_keys(['external_urls', 'href', 'id', 'name', 'type', 'uri'])\n",
      "dict_keys(['external_urls', 'href', 'id', 'name', 'type', 'uri'])\n",
      "dict_keys(['external_urls', 'href', 'id', 'name', 'type', 'uri'])\n",
      "dict_keys(['external_urls', 'href', 'id', 'name', 'type', 'uri'])\n",
      "dict_keys(['external_urls', 'href', 'id', 'name', 'type', 'uri'])\n",
      "dict_keys(['external_urls', 'href', 'id', 'name', 'type', 'uri'])\n",
      "dict_keys(['external_urls', 'href', 'id', 'name', 'type', 'uri'])\n",
      "dict_keys(['external_urls', 'href', 'id', 'name', 'type', 'uri'])\n",
      "dict_keys(['external_urls', 'href', 'id', 'name', 'type', 'uri'])\n",
      "dict_keys(['external_urls', 'href', 'id', 'name', 'type', 'uri'])\n",
      "dict_keys(['external_urls', 'href', 'id', 'name', 'type', 'uri'])\n",
      "dict_keys(['external_urls', 'href', 'id', 'name', 'type', 'uri'])\n",
      "dict_keys(['external_urls', 'href', 'id', 'name', 'type', 'uri'])\n",
      "dict_keys(['external_urls', 'href', 'id', 'name', 'type', 'uri'])\n",
      "dict_keys(['external_urls', 'href', 'id', 'name', 'type', 'uri'])\n",
      "dict_keys(['external_urls', 'href', 'id', 'name', 'type', 'uri'])\n",
      "dict_keys(['external_urls', 'href', 'id', 'name', 'type', 'uri'])\n",
      "dict_keys(['external_urls', 'href', 'id', 'name', 'type', 'uri'])\n",
      "dict_keys(['external_urls', 'href', 'id', 'name', 'type', 'uri'])\n",
      "dict_keys(['external_urls', 'href', 'id', 'name', 'type', 'uri'])\n",
      "dict_keys(['external_urls', 'href', 'id', 'name', 'type', 'uri'])\n",
      "dict_keys(['external_urls', 'href', 'id', 'name', 'type', 'uri'])\n",
      "dict_keys(['external_urls', 'href', 'id', 'name', 'type', 'uri'])\n",
      "dict_keys(['external_urls', 'href', 'id', 'name', 'type', 'uri'])\n",
      "dict_keys(['external_urls', 'href', 'id', 'name', 'type', 'uri'])\n",
      "dict_keys(['external_urls', 'href', 'id', 'name', 'type', 'uri'])\n",
      "dict_keys(['external_urls', 'href', 'id', 'name', 'type', 'uri'])\n",
      "dict_keys(['external_urls', 'href', 'id', 'name', 'type', 'uri'])\n",
      "dict_keys(['external_urls', 'href', 'id', 'name', 'type', 'uri'])\n",
      "dict_keys(['external_urls', 'href', 'id', 'name', 'type', 'uri'])\n",
      "dict_keys(['external_urls', 'href', 'id', 'name', 'type', 'uri'])\n",
      "dict_keys(['external_urls', 'href', 'id', 'name', 'type', 'uri'])\n",
      "dict_keys(['external_urls', 'href', 'id', 'name', 'type', 'uri'])\n",
      "dict_keys(['external_urls', 'href', 'id', 'name', 'type', 'uri'])\n",
      "dict_keys(['external_urls', 'href', 'id', 'name', 'type', 'uri'])\n",
      "dict_keys(['external_urls', 'href', 'id', 'name', 'type', 'uri'])\n",
      "dict_keys(['external_urls', 'href', 'id', 'name', 'type', 'uri'])\n",
      "dict_keys(['external_urls', 'href', 'id', 'name', 'type', 'uri'])\n",
      "dict_keys(['external_urls', 'href', 'id', 'name', 'type', 'uri'])\n",
      "dict_keys(['external_urls', 'href', 'id', 'name', 'type', 'uri'])\n",
      "dict_keys(['external_urls', 'href', 'id', 'name', 'type', 'uri'])\n",
      "dict_keys(['external_urls', 'href', 'id', 'name', 'type', 'uri'])\n",
      "dict_keys(['external_urls', 'href', 'id', 'name', 'type', 'uri'])\n",
      "dict_keys(['external_urls', 'href', 'id', 'name', 'type', 'uri'])\n",
      "dict_keys(['external_urls', 'href', 'id', 'name', 'type', 'uri'])\n",
      "dict_keys(['external_urls', 'href', 'id', 'name', 'type', 'uri'])\n",
      "dict_keys(['external_urls', 'href', 'id', 'name', 'type', 'uri'])\n",
      "dict_keys(['external_urls', 'href', 'id', 'name', 'type', 'uri'])\n",
      "dict_keys(['external_urls', 'href', 'id', 'name', 'type', 'uri'])\n",
      "dict_keys(['external_urls', 'href', 'id', 'name', 'type', 'uri'])\n",
      "dict_keys(['external_urls', 'href', 'id', 'name', 'type', 'uri'])\n",
      "dict_keys(['external_urls', 'href', 'id', 'name', 'type', 'uri'])\n",
      "dict_keys(['external_urls', 'href', 'id', 'name', 'type', 'uri'])\n"
     ]
    }
   ],
   "source": [
    "res = sp.search(q=\"artist:Elton John\", type=\"track\", market=\"DE\", limit=50, offset=0)\n",
    "res = res[\"tracks\"]\n",
    "if \"items\" in res:\n",
    "  for item in res[\"items\"]:\n",
    "    if \"artists\" in item:\n",
    "      #print(item[\"artists\"][\"genres\"] if \"genres\" in item[\"artists\"] else print(\"No genres available!\"))\n",
    "      #print(item[\"artists\"])\n",
    "      for artist in item[\"artists\"]:\n",
    "        print(artist[\"genres\"] if \"genres\" in artist else artist.keys())\n",
    "    else:\n",
    "      print(\"No artists in item\")\n",
    "else:\n",
    "  print(\"No items in res\")\n",
    "  print(res.keys())\n"
   ]
  },
  {
   "cell_type": "markdown",
   "metadata": {},
   "source": [
    "Die Spotify gibt auch für Künstler die ein Genre zugewiesen bekommen haben kein Genre zurück. Laut API sollte es ein weiteres Attribut `genres` geben."
   ]
  },
  {
   "cell_type": "markdown",
   "metadata": {},
   "source": [
    "#### Preprocessing"
   ]
  },
  {
   "cell_type": "markdown",
   "metadata": {},
   "source": [
    "Wenn mehrere Künstler zusammen einen Song veröffentlich haben, sind diese hier mit einem `&` getrennt. Dies muss zunächst aufgelöst werden."
   ]
  },
  {
   "cell_type": "code",
   "execution_count": 13,
   "metadata": {},
   "outputs": [],
   "source": [
    "chart_power_df[\"Artist\"] = chart_power_df[\"Artist\"].str.split(\" & \")\n",
    "chart_power_df_explode = chart_power_df.explode(\"Artist\", ignore_index=True)"
   ]
  },
  {
   "cell_type": "code",
   "execution_count": 14,
   "metadata": {},
   "outputs": [
    {
     "data": {
      "text/html": [
       "<div>\n",
       "<style scoped>\n",
       "    .dataframe tbody tr th:only-of-type {\n",
       "        vertical-align: middle;\n",
       "    }\n",
       "\n",
       "    .dataframe tbody tr th {\n",
       "        vertical-align: top;\n",
       "    }\n",
       "\n",
       "    .dataframe thead th {\n",
       "        text-align: right;\n",
       "    }\n",
       "</style>\n",
       "<table border=\"1\" class=\"dataframe\">\n",
       "  <thead>\n",
       "    <tr style=\"text-align: right;\">\n",
       "      <th></th>\n",
       "      <th>Song</th>\n",
       "      <th>Artist</th>\n",
       "      <th>Points</th>\n",
       "    </tr>\n",
       "  </thead>\n",
       "  <tbody>\n",
       "    <tr>\n",
       "      <th>0</th>\n",
       "      <td>19</td>\n",
       "      <td>paul hardcastle</td>\n",
       "      <td>1600</td>\n",
       "    </tr>\n",
       "    <tr>\n",
       "      <th>1</th>\n",
       "      <td>'cause you're young</td>\n",
       "      <td>c. c. catch</td>\n",
       "      <td>998</td>\n",
       "    </tr>\n",
       "    <tr>\n",
       "      <th>2</th>\n",
       "      <td>(carmen) danger in her eyes</td>\n",
       "      <td>deborah sasson</td>\n",
       "      <td>531</td>\n",
       "    </tr>\n",
       "    <tr>\n",
       "      <th>3</th>\n",
       "      <td>(carmen) danger in her eyes</td>\n",
       "      <td>mcl</td>\n",
       "      <td>531</td>\n",
       "    </tr>\n",
       "    <tr>\n",
       "      <th>4</th>\n",
       "      <td>(do) the hucklebuck</td>\n",
       "      <td>coast to coast</td>\n",
       "      <td>697</td>\n",
       "    </tr>\n",
       "    <tr>\n",
       "      <th>...</th>\n",
       "      <td>...</td>\n",
       "      <td>...</td>\n",
       "      <td>...</td>\n",
       "    </tr>\n",
       "    <tr>\n",
       "      <th>2022</th>\n",
       "      <td>zu spät</td>\n",
       "      <td>die ã„rzte</td>\n",
       "      <td>605</td>\n",
       "    </tr>\n",
       "    <tr>\n",
       "      <th>2023</th>\n",
       "      <td>zuppa romana</td>\n",
       "      <td>schrott nach 8</td>\n",
       "      <td>601</td>\n",
       "    </tr>\n",
       "    <tr>\n",
       "      <th>2024</th>\n",
       "      <td>â€¦ und ganz doll mich (ich mag)</td>\n",
       "      <td>rolf und seine freunde</td>\n",
       "      <td>1314</td>\n",
       "    </tr>\n",
       "    <tr>\n",
       "      <th>2025</th>\n",
       "      <td>über sieben brücken mußt du geh'n</td>\n",
       "      <td>karat</td>\n",
       "      <td>826</td>\n",
       "    </tr>\n",
       "    <tr>\n",
       "      <th>2026</th>\n",
       "      <td>über sieben brücken mußt du geh'n</td>\n",
       "      <td>peter maffay</td>\n",
       "      <td>1368</td>\n",
       "    </tr>\n",
       "  </tbody>\n",
       "</table>\n",
       "<p>2027 rows × 3 columns</p>\n",
       "</div>"
      ],
      "text/plain": [
       "                                   Song                  Artist  Points\n",
       "0                                    19         paul hardcastle    1600\n",
       "1                   'cause you're young             c. c. catch     998\n",
       "2           (carmen) danger in her eyes          deborah sasson     531\n",
       "3           (carmen) danger in her eyes                     mcl     531\n",
       "4                   (do) the hucklebuck          coast to coast     697\n",
       "...                                 ...                     ...     ...\n",
       "2022                            zu spät              die ã„rzte     605\n",
       "2023                       zuppa romana          schrott nach 8     601\n",
       "2024   â€¦ und ganz doll mich (ich mag)  rolf und seine freunde    1314\n",
       "2025  über sieben brücken mußt du geh'n                   karat     826\n",
       "2026  über sieben brücken mußt du geh'n            peter maffay    1368\n",
       "\n",
       "[2027 rows x 3 columns]"
      ]
     },
     "execution_count": 14,
     "metadata": {},
     "output_type": "execute_result"
    }
   ],
   "source": [
    "chart_power_df_explode"
   ]
  },
  {
   "cell_type": "markdown",
   "metadata": {},
   "source": [
    "Einige Künstler und Lieder enthalten zudem Umlaute, welche zunächst entsprechend formatiert werden müssen (z.B. `Die Ärzte` sind als `Die ã„rzte` gespeichert)."
   ]
  },
  {
   "cell_type": "code",
   "execution_count": 15,
   "metadata": {},
   "outputs": [],
   "source": [
    "replace = {\n",
    "    \"ã¶\": \"ö\",\n",
    "    \"ã„\": \"ä\",\n",
    "    \"ã–\": \"ö\",\n",
    "    \"ã©\": \"e\"\n",
    "}\n",
    "\n",
    "chart_power_df_explode[\"Song\"] = chart_power_df_explode[\"Song\"].replace(replace, regex=True)\n",
    "chart_power_df_explode[\"Artist\"] = chart_power_df_explode[\"Artist\"].replace(replace, regex=True)"
   ]
  },
  {
   "cell_type": "code",
   "execution_count": 16,
   "metadata": {},
   "outputs": [
    {
     "data": {
      "text/html": [
       "<div>\n",
       "<style scoped>\n",
       "    .dataframe tbody tr th:only-of-type {\n",
       "        vertical-align: middle;\n",
       "    }\n",
       "\n",
       "    .dataframe tbody tr th {\n",
       "        vertical-align: top;\n",
       "    }\n",
       "\n",
       "    .dataframe thead th {\n",
       "        text-align: right;\n",
       "    }\n",
       "</style>\n",
       "<table border=\"1\" class=\"dataframe\">\n",
       "  <thead>\n",
       "    <tr style=\"text-align: right;\">\n",
       "      <th></th>\n",
       "      <th>Song</th>\n",
       "      <th>Artist</th>\n",
       "      <th>Points</th>\n",
       "    </tr>\n",
       "  </thead>\n",
       "  <tbody>\n",
       "    <tr>\n",
       "      <th>2022</th>\n",
       "      <td>zu spät</td>\n",
       "      <td>die ärzte</td>\n",
       "      <td>605</td>\n",
       "    </tr>\n",
       "  </tbody>\n",
       "</table>\n",
       "</div>"
      ],
      "text/plain": [
       "         Song     Artist  Points\n",
       "2022  zu spät  die ärzte     605"
      ]
     },
     "execution_count": 16,
     "metadata": {},
     "output_type": "execute_result"
    }
   ],
   "source": [
    "chart_power_df_explode[chart_power_df_explode[\"Song\"] == \"zu spät\"]"
   ]
  },
  {
   "cell_type": "code",
   "execution_count": 17,
   "metadata": {},
   "outputs": [
    {
     "data": {
      "text/html": [
       "<div>\n",
       "<style scoped>\n",
       "    .dataframe tbody tr th:only-of-type {\n",
       "        vertical-align: middle;\n",
       "    }\n",
       "\n",
       "    .dataframe tbody tr th {\n",
       "        vertical-align: top;\n",
       "    }\n",
       "\n",
       "    .dataframe thead th {\n",
       "        text-align: right;\n",
       "    }\n",
       "</style>\n",
       "<table border=\"1\" class=\"dataframe\">\n",
       "  <thead>\n",
       "    <tr style=\"text-align: right;\">\n",
       "      <th></th>\n",
       "      <th>Song</th>\n",
       "      <th>Artist</th>\n",
       "      <th>Points</th>\n",
       "    </tr>\n",
       "  </thead>\n",
       "  <tbody>\n",
       "  </tbody>\n",
       "</table>\n",
       "</div>"
      ],
      "text/plain": [
       "Empty DataFrame\n",
       "Columns: [Song, Artist, Points]\n",
       "Index: []"
      ]
     },
     "execution_count": 17,
     "metadata": {},
     "output_type": "execute_result"
    }
   ],
   "source": [
    "chart_power_df_explode[chart_power_df_explode[\"Artist\"] == \"die ã„rzte\"]"
   ]
  },
  {
   "cell_type": "code",
   "execution_count": 18,
   "metadata": {},
   "outputs": [
    {
     "data": {
      "text/html": [
       "<div>\n",
       "<style scoped>\n",
       "    .dataframe tbody tr th:only-of-type {\n",
       "        vertical-align: middle;\n",
       "    }\n",
       "\n",
       "    .dataframe tbody tr th {\n",
       "        vertical-align: top;\n",
       "    }\n",
       "\n",
       "    .dataframe thead th {\n",
       "        text-align: right;\n",
       "    }\n",
       "</style>\n",
       "<table border=\"1\" class=\"dataframe\">\n",
       "  <thead>\n",
       "    <tr style=\"text-align: right;\">\n",
       "      <th></th>\n",
       "      <th>Song</th>\n",
       "      <th>Artist</th>\n",
       "      <th>Points</th>\n",
       "    </tr>\n",
       "  </thead>\n",
       "  <tbody>\n",
       "    <tr>\n",
       "      <th>64</th>\n",
       "      <td>all of me (boy oh boy)</td>\n",
       "      <td>sabrina [it]</td>\n",
       "      <td>841</td>\n",
       "    </tr>\n",
       "    <tr>\n",
       "      <th>85</th>\n",
       "      <td>amoureux solitaires</td>\n",
       "      <td>lio [be]</td>\n",
       "      <td>1555</td>\n",
       "    </tr>\n",
       "    <tr>\n",
       "      <th>100</th>\n",
       "      <td>another life</td>\n",
       "      <td>kano [it]</td>\n",
       "      <td>1460</td>\n",
       "    </tr>\n",
       "    <tr>\n",
       "      <th>187</th>\n",
       "      <td>boys (summertime love)</td>\n",
       "      <td>sabrina [it]</td>\n",
       "      <td>1444</td>\n",
       "    </tr>\n",
       "    <tr>\n",
       "      <th>198</th>\n",
       "      <td>bridge to your heart</td>\n",
       "      <td>wax [uk]</td>\n",
       "      <td>614</td>\n",
       "    </tr>\n",
       "    <tr>\n",
       "      <th>256</th>\n",
       "      <td>change your mind</td>\n",
       "      <td>raff [it]</td>\n",
       "      <td>736</td>\n",
       "    </tr>\n",
       "    <tr>\n",
       "      <th>314</th>\n",
       "      <td>cry softly</td>\n",
       "      <td>secret service [se]</td>\n",
       "      <td>451</td>\n",
       "    </tr>\n",
       "    <tr>\n",
       "      <th>351</th>\n",
       "      <td>delirio mind</td>\n",
       "      <td>scotch [it]</td>\n",
       "      <td>1120</td>\n",
       "    </tr>\n",
       "    <tr>\n",
       "      <th>390</th>\n",
       "      <td>disco band</td>\n",
       "      <td>scotch [it]</td>\n",
       "      <td>1806</td>\n",
       "    </tr>\n",
       "    <tr>\n",
       "      <th>480</th>\n",
       "      <td>ein weißes blatt'l papier</td>\n",
       "      <td>relax [de]</td>\n",
       "      <td>535</td>\n",
       "    </tr>\n",
       "    <tr>\n",
       "      <th>568</th>\n",
       "      <td>flash in the night</td>\n",
       "      <td>secret service [se]</td>\n",
       "      <td>1102</td>\n",
       "    </tr>\n",
       "    <tr>\n",
       "      <th>584</th>\n",
       "      <td>fotonovela</td>\n",
       "      <td>ivan [es]</td>\n",
       "      <td>1116</td>\n",
       "    </tr>\n",
       "    <tr>\n",
       "      <th>739</th>\n",
       "      <td>hot girl</td>\n",
       "      <td>sabrina [it]</td>\n",
       "      <td>690</td>\n",
       "    </tr>\n",
       "    <tr>\n",
       "      <th>799</th>\n",
       "      <td>i think we're alone now</td>\n",
       "      <td>tiffany [us]</td>\n",
       "      <td>1340</td>\n",
       "    </tr>\n",
       "    <tr>\n",
       "      <th>804</th>\n",
       "      <td>i want to be your man</td>\n",
       "      <td>roger [us]</td>\n",
       "      <td>714</td>\n",
       "    </tr>\n",
       "    <tr>\n",
       "      <th>910</th>\n",
       "      <td>ja mei! (des derf doch net sei)</td>\n",
       "      <td>relax [de]</td>\n",
       "      <td>596</td>\n",
       "    </tr>\n",
       "    <tr>\n",
       "      <th>986</th>\n",
       "      <td>l. a. goodbye</td>\n",
       "      <td>secret service [se]</td>\n",
       "      <td>1475</td>\n",
       "    </tr>\n",
       "    <tr>\n",
       "      <th>1172</th>\n",
       "      <td>mono</td>\n",
       "      <td>monotones [nl]</td>\n",
       "      <td>1050</td>\n",
       "    </tr>\n",
       "    <tr>\n",
       "      <th>1254</th>\n",
       "      <td>oh! susie</td>\n",
       "      <td>secret service [se]</td>\n",
       "      <td>2345</td>\n",
       "    </tr>\n",
       "    <tr>\n",
       "      <th>1364</th>\n",
       "      <td>puttin' on the ritz</td>\n",
       "      <td>taco [nl]</td>\n",
       "      <td>1572</td>\n",
       "    </tr>\n",
       "    <tr>\n",
       "      <th>1462</th>\n",
       "      <td>self control</td>\n",
       "      <td>raff [it]</td>\n",
       "      <td>1403</td>\n",
       "    </tr>\n",
       "    <tr>\n",
       "      <th>1477</th>\n",
       "      <td>shake it up</td>\n",
       "      <td>divine [us]</td>\n",
       "      <td>603</td>\n",
       "    </tr>\n",
       "    <tr>\n",
       "      <th>1502</th>\n",
       "      <td>shoot your shot</td>\n",
       "      <td>divine [us]</td>\n",
       "      <td>1430</td>\n",
       "    </tr>\n",
       "    <tr>\n",
       "      <th>1628</th>\n",
       "      <td>take me up</td>\n",
       "      <td>scotch [it]</td>\n",
       "      <td>981</td>\n",
       "    </tr>\n",
       "    <tr>\n",
       "      <th>1653</th>\n",
       "      <td>ten o'clock postman</td>\n",
       "      <td>secret service [se]</td>\n",
       "      <td>1906</td>\n",
       "    </tr>\n",
       "    <tr>\n",
       "      <th>1671</th>\n",
       "      <td>the caribbean disco show</td>\n",
       "      <td>lobo [nl]</td>\n",
       "      <td>851</td>\n",
       "    </tr>\n",
       "    <tr>\n",
       "      <th>1767</th>\n",
       "      <td>toccata</td>\n",
       "      <td>sky [uk]</td>\n",
       "      <td>1196</td>\n",
       "    </tr>\n",
       "    <tr>\n",
       "      <th>1870</th>\n",
       "      <td>wat?</td>\n",
       "      <td>willem [de]</td>\n",
       "      <td>533</td>\n",
       "    </tr>\n",
       "    <tr>\n",
       "      <th>1892</th>\n",
       "      <td>weil i di mog</td>\n",
       "      <td>relax [de]</td>\n",
       "      <td>1507</td>\n",
       "    </tr>\n",
       "    <tr>\n",
       "      <th>1986</th>\n",
       "      <td>ye-si-ca</td>\n",
       "      <td>secret service [se]</td>\n",
       "      <td>2042</td>\n",
       "    </tr>\n",
       "    <tr>\n",
       "      <th>2017</th>\n",
       "      <td>your heart keeps burning</td>\n",
       "      <td>blind date [de]</td>\n",
       "      <td>1056</td>\n",
       "    </tr>\n",
       "  </tbody>\n",
       "</table>\n",
       "</div>"
      ],
      "text/plain": [
       "                                 Song               Artist  Points\n",
       "64             all of me (boy oh boy)         sabrina [it]     841\n",
       "85                amoureux solitaires             lio [be]    1555\n",
       "100                      another life            kano [it]    1460\n",
       "187            boys (summertime love)         sabrina [it]    1444\n",
       "198              bridge to your heart             wax [uk]     614\n",
       "256                  change your mind            raff [it]     736\n",
       "314                        cry softly  secret service [se]     451\n",
       "351                      delirio mind          scotch [it]    1120\n",
       "390                        disco band          scotch [it]    1806\n",
       "480         ein weißes blatt'l papier           relax [de]     535\n",
       "568                flash in the night  secret service [se]    1102\n",
       "584                        fotonovela            ivan [es]    1116\n",
       "739                          hot girl         sabrina [it]     690\n",
       "799           i think we're alone now         tiffany [us]    1340\n",
       "804             i want to be your man           roger [us]     714\n",
       "910   ja mei! (des derf doch net sei)           relax [de]     596\n",
       "986                     l. a. goodbye  secret service [se]    1475\n",
       "1172                             mono       monotones [nl]    1050\n",
       "1254                        oh! susie  secret service [se]    2345\n",
       "1364              puttin' on the ritz            taco [nl]    1572\n",
       "1462                     self control            raff [it]    1403\n",
       "1477                      shake it up          divine [us]     603\n",
       "1502                  shoot your shot          divine [us]    1430\n",
       "1628                       take me up          scotch [it]     981\n",
       "1653              ten o'clock postman  secret service [se]    1906\n",
       "1671         the caribbean disco show            lobo [nl]     851\n",
       "1767                          toccata             sky [uk]    1196\n",
       "1870                             wat?          willem [de]     533\n",
       "1892                    weil i di mog           relax [de]    1507\n",
       "1986                         ye-si-ca  secret service [se]    2042\n",
       "2017         your heart keeps burning      blind date [de]    1056"
      ]
     },
     "execution_count": 18,
     "metadata": {},
     "output_type": "execute_result"
    }
   ],
   "source": [
    "chart_power_df_explode[chart_power_df_explode[\"Artist\"].str.contains(\"\\[\")]"
   ]
  },
  {
   "cell_type": "markdown",
   "metadata": {},
   "source": [
    "Weiterhin ist hinter einigen Künstlern das Herukunftsland in eckigen Klammern gekennzeichnet. Dies muss ebenfalls entfernet werden, da diese andernfalls nicht von der Spotify API gefunden werden."
   ]
  },
  {
   "cell_type": "code",
   "execution_count": 19,
   "metadata": {},
   "outputs": [],
   "source": [
    "pattern = r' \\[.*?\\]'\n",
    "chart_power_df_explode[\"Artist\"] = chart_power_df_explode[\"Artist\"].str.replace(pattern, '',regex=True)"
   ]
  },
  {
   "cell_type": "code",
   "execution_count": 20,
   "metadata": {},
   "outputs": [
    {
     "data": {
      "text/html": [
       "<div>\n",
       "<style scoped>\n",
       "    .dataframe tbody tr th:only-of-type {\n",
       "        vertical-align: middle;\n",
       "    }\n",
       "\n",
       "    .dataframe tbody tr th {\n",
       "        vertical-align: top;\n",
       "    }\n",
       "\n",
       "    .dataframe thead th {\n",
       "        text-align: right;\n",
       "    }\n",
       "</style>\n",
       "<table border=\"1\" class=\"dataframe\">\n",
       "  <thead>\n",
       "    <tr style=\"text-align: right;\">\n",
       "      <th></th>\n",
       "      <th>Song</th>\n",
       "      <th>Artist</th>\n",
       "      <th>Points</th>\n",
       "    </tr>\n",
       "  </thead>\n",
       "  <tbody>\n",
       "  </tbody>\n",
       "</table>\n",
       "</div>"
      ],
      "text/plain": [
       "Empty DataFrame\n",
       "Columns: [Song, Artist, Points]\n",
       "Index: []"
      ]
     },
     "execution_count": 20,
     "metadata": {},
     "output_type": "execute_result"
    }
   ],
   "source": [
    "chart_power_df_explode[chart_power_df_explode[\"Artist\"].str.contains(\"\\[\")]"
   ]
  },
  {
   "cell_type": "code",
   "execution_count": 21,
   "metadata": {},
   "outputs": [
    {
     "data": {
      "text/plain": [
       "944"
      ]
     },
     "execution_count": 21,
     "metadata": {},
     "output_type": "execute_result"
    }
   ],
   "source": [
    "len(chart_power_df_explode[\"Artist\"].unique())"
   ]
  },
  {
   "cell_type": "markdown",
   "metadata": {},
   "source": [
    "#### Funktionen zur Datenabfrage"
   ]
  },
  {
   "cell_type": "code",
   "execution_count": 230,
   "metadata": {},
   "outputs": [],
   "source": [
    "def sp_request(req, retries, max_retries, *args):\n",
    "  '''\n",
    "  Wrapper für Requests an die Spotify API. Stellt sicher, dass nicht zu viele Requests auf einmal ausgeführt werden und dann Requests wiederholt werden, sollten sie fehlschlagen.\n",
    "\n",
    "  Parameter\n",
    "  ---------\n",
    "  req: Function\n",
    "    Funktion die ausgeführt werden soll\n",
    "\n",
    "  retries: int\n",
    "    Anzahl des derzeitigen Versuches den Request durchzuführen. Sollte in der Regel 0 betragen.\n",
    "\n",
    "  max_retries: int\n",
    "    Maximale Versuche die vollführt werden sollen, bevor die Funktion fehlschlägt.\n",
    "\n",
    "  *args: \n",
    "    Variable Anzahl an Paramtern wecher der in req definierten Funktion übergeben werden sollen\n",
    "\n",
    "  Return\n",
    "  ------\n",
    "  Das Ergebnis der req Funktion.\n",
    "  '''\n",
    "  try:\n",
    "    call_api()\n",
    "    return req(*args)\n",
    "  except Exception as e:\n",
    "    if isinstance(e, spotipy.exceptions.SpotifyException) and e.http_status == 429:\n",
    "      # Handle rate limiting (HTTP 429)\n",
    "      if retries < max_retries:\n",
    "          sleep_time = exponential_backoff(retries)\n",
    "          print(f\"Rate limited, waiting for {sleep_time} seconds before retrying...\")\n",
    "          time.sleep(sleep_time)\n",
    "          retries += 1\n",
    "          return sp_request(req, retries, max_retries, *args)\n",
    "      else:\n",
    "          print(\"Max retries reached, exiting...\")\n",
    "    else:\n",
    "      print(f\"An error occurred: {e}\")\n",
    "      retries += 1\n",
    "      return sp_request(req, retries, max_retries, *args)\n",
    "\n",
    "# Define a function for exponential backoff\n",
    "def exponential_backoff(retries):\n",
    "    return 2 ** retries"
   ]
  },
  {
   "cell_type": "code",
   "execution_count": 24,
   "metadata": {},
   "outputs": [],
   "source": [
    "def filter_track_features(track, features, genre, chart_power=False):\n",
    "    '''\n",
    "    Filters the relevant features of a track in returns them in JSON object.\n",
    "\n",
    "    Parameter\n",
    "    ---------\n",
    "    track: Object\n",
    "        Track returend by the spotify API\n",
    "\n",
    "    features: Object\n",
    "        Features of the object\n",
    "\n",
    "    genre: string\n",
    "        Genre that should be used\n",
    "\n",
    "    chart_power: string | boolean; default=False\n",
    "        Chart power for the song. False if no Chart power is available\n",
    "\n",
    "    Return\n",
    "    ------\n",
    "    relevant_features: Object\n",
    "        JSON Object that contains the relevant featues\n",
    "    '''\n",
    "\n",
    "    external_ids = track['external_ids'] if 'external_ids' in track else {}\n",
    "    isrc = external_ids['isrc'] if 'isrc' in external_ids else np.nan\n",
    "    artist_names = []\n",
    "\n",
    "    if 'artists' in track and isinstance(track['artists'],list):\n",
    "        for artist in track['artists']:\n",
    "            if 'name' in artist:\n",
    "                artist_names.append(artist['name'])\n",
    "        artist_names = ','.join(artist_names)\n",
    "    else:\n",
    "        artist_names = np.nan\n",
    "\n",
    "\n",
    "\n",
    "    if 'album' in track:\n",
    "        album = track['album']['name'] if 'name' in track['album'] else np.nan\n",
    "        release_date = track['album']['release_date'] if 'release_date' in track['album'] else np.nan\n",
    "        release_date_precision = track['album']['release_date_precision'] if 'release_date_precision' in track['album'] else np.nan\n",
    "    else:\n",
    "         album = np.nan\n",
    "         release_date = np.nan\n",
    "         release_date_precision = np.nan\n",
    "\n",
    "\n",
    "    track_name = track['name'] if 'name' in track else np.nan\n",
    "    if chart_power == False:\n",
    "        if track_name != np.nan and artist_names != np.nan:\n",
    "            points = chart_power_df_explode.loc[(chart_power_df_explode.Song == track_name.lower()) & (chart_power_df_explode.Artist.str.contains(artist_names.lower()))]['Points']\n",
    "            if points.empty:\n",
    "                points = np.nan\n",
    "            else:\n",
    "                try:\n",
    "                    points = int(points)\n",
    "                except Exception as e:\n",
    "                    print(e)\n",
    "                    print(track_name)\n",
    "                    print(artist_names)\n",
    "                    print(points)\n",
    "                    print(\"-------\")\n",
    "        else:\n",
    "            points = np.nan\n",
    "    else:\n",
    "        points = chart_power\n",
    "\n",
    "    return {\n",
    "        'name': track_name,\n",
    "        'artists': artist_names,\n",
    "        'album': album,\n",
    "        'release_date': release_date,\n",
    "        'release_date_precision': release_date_precision,\n",
    "        'spotify_id': track['id'] if 'id' in track else np.nan,\n",
    "        'chart_power': points,\n",
    "        'uri': track['uri'] if 'uri' in track else np.nan,\n",
    "        'popularity': track['popularity'] if 'popularity' in track else np.nan,\n",
    "        'genres': np.nan if genre == False else genre,\n",
    "        'danceability': features['danceability'] if 'danceability' in features else np.nan,\n",
    "        'energy': features['energy'] if 'energy' in features else np.nan,\n",
    "        'key': features['key'] if 'key' in features else np.nan,\n",
    "        'loudness': features['loudness'] if 'loudness' in features else np.nan,\n",
    "        'mode': features['mode'] if 'mode' in features else np.nan,\n",
    "        'speechiness': features['speechiness'] if 'speechiness' in features else np.nan,\n",
    "        'acousticness': features['acousticness'] if 'acousticness' in features else np.nan,\n",
    "        'instrumentalness': features['instrumentalness'] if 'instrumentalness' in features else np.nan,\n",
    "        'liveness': features['liveness'] if 'liveness' in features else np.nan,\n",
    "        'valence': features['valence'] if 'valence' in features else np.nan,\n",
    "        'tempo': features['tempo'] if 'tempo' in features else np.nan,\n",
    "        'duration_ms': features['duration_ms'] if 'duration_ms' in features else np.nan,\n",
    "        'time_signature': features['time_signature'] if 'time_signature' in features else np.nan,\n",
    "        'isrc': isrc,\n",
    "    }"
   ]
  },
  {
   "cell_type": "code",
   "execution_count": 26,
   "metadata": {},
   "outputs": [],
   "source": [
    "def find_closest_string(target, string_list):\n",
    "  '''\n",
    "  Durchsucht eine Liste an Strings und filtert das änhlichte Item heraus.\n",
    "\n",
    "  Parameter\n",
    "  ---------\n",
    "  target: str\n",
    "    Referenzinstanz \n",
    "  \n",
    "  string_list: list\n",
    "    Liste welche durchsucht werden soll\n",
    "\n",
    "  \n",
    "  Return\n",
    "  ------\n",
    "  closest_string: str\n",
    "    Das ähnlichste Item\n",
    "\n",
    "  min_distance: float | int\n",
    "    Die Distanz vom closest_string zu target (nach Levenshtein)\n",
    "\n",
    "  closest_index: int\n",
    "    Index von closest_string in string_list\n",
    "  '''\n",
    "  try:\n",
    "    closest_string = None\n",
    "    min_distance = float('inf')\n",
    "    closest_index = -1\n",
    "\n",
    "    for index, string in enumerate(string_list):\n",
    "        distance = Levenshtein.distance(target, string)\n",
    "        if distance < min_distance:\n",
    "            min_distance = distance\n",
    "            closest_string = string\n",
    "            closest_index = index\n",
    "\n",
    "    return closest_string, min_distance, closest_index\n",
    "  except Exception as e:\n",
    "    print(target)\n",
    "    print(string_list)\n",
    "    print(e)"
   ]
  },
  {
   "cell_type": "markdown",
   "metadata": {},
   "source": [
    "### Datenabfrage"
   ]
  },
  {
   "cell_type": "code",
   "execution_count": 27,
   "metadata": {},
   "outputs": [
    {
     "name": "stderr",
     "output_type": "stream",
     "text": [
      "100%|██████████| 2027/2027 [17:01<00:00,  1.99it/s]  "
     ]
    },
    {
     "name": "stdout",
     "output_type": "stream",
     "text": [
      "Von 2027 Songs wurden 1729 gefunden.\n"
     ]
    },
    {
     "name": "stderr",
     "output_type": "stream",
     "text": [
      "\n"
     ]
    }
   ],
   "source": [
    "found = 0\n",
    "\n",
    "artist_over_1000 = []\n",
    "no_tracks = []\n",
    "no_features = []\n",
    "artists_not_found = []\n",
    "\n",
    "df_found = pd.DataFrame()\n",
    "cols = [\"Song\", \"Artist\", \"Points\"]\n",
    "df_missing = pd.DataFrame(columns=cols)\n",
    "with tqdm(total=len(chart_power_df_explode)) as progress_bar:\n",
    "    tracks_ = []\n",
    "    audio_features_ = []\n",
    "    points_ = []\n",
    "\n",
    "    for index, item in chart_power_df_explode.iterrows():\n",
    "        song = item[\"Song\"]\n",
    "        artist = item[\"Artist\"]\n",
    "        points = item[\"Points\"]\n",
    "        res = sp_request(lambda song, artist: sp.search(q=f\"artist:{artist} track:{song}\", market=\"DE\", type=\"track\"), 0, 100, song, artist)\n",
    "        if \"tracks\" not in res:\n",
    "            print(\"No tracks in result\")\n",
    "            df_missing = pd.concat([df_missing, pd.DataFrame([[song, artist, points]], columns=cols)], ignore_index=True)\n",
    "            progress_bar.update(1)\n",
    "            continue\n",
    "        \n",
    "        tracks = res[\"tracks\"]\n",
    "\n",
    "        ts = []\n",
    "        if \"items\" in tracks and isinstance(tracks[\"items\"], list):\n",
    "            for track in tracks[\"items\"]:\n",
    "                ts.append(track)\n",
    "        else:\n",
    "            df_missing = pd.concat([df_missing, pd.DataFrame([[song, artist, points]], columns=cols)], ignore_index=True)\n",
    "            progress_bar.update(1)\n",
    "            continue\n",
    "\n",
    "        if len(ts) == 0:\n",
    "            df_missing = pd.concat([df_missing, pd.DataFrame([[song, artist, points]], columns=cols)], ignore_index=True)\n",
    "            progress_bar.update(1)\n",
    "            continue\n",
    "        try:\n",
    "            closest, distance, index = find_closest_string(str(song), [str(track[\"name\"]) for track in ts])\n",
    "        except Exception as e:\n",
    "            print(e)\n",
    "            continue\n",
    "        tracks_.append(ts[index])\n",
    "        points_.append(points)\n",
    "\n",
    "        ts = []\n",
    "        if len(tracks_) == 100:\n",
    "            audio_features_ = sp_request(lambda x: sp.audio_features([track[\"id\"] for track in x]), 0, 100, tracks_)\n",
    "            track_features = []\n",
    "            if len(tracks_) != len(audio_features_):\n",
    "                print(\"Tracks and features have not the same lengh!\")\n",
    "                print(len(tracks_), len(audio_features_))\n",
    "            for t, af, p in list(zip(tracks_, audio_features_, points_)):\n",
    "                if not t:\n",
    "                    print(\"No track!\")\n",
    "                    print(t)\n",
    "                    print(af)\n",
    "                    no_tracks.append(af)\n",
    "                    continue\n",
    "                if not af:\n",
    "                    print(\"No features\")\n",
    "                    print(af)\n",
    "                    print(t)\n",
    "                    no_features.append(t)\n",
    "                    continue\n",
    "                features = filter_track_features(t, af, False, p)\n",
    "                track_features.append(features)\n",
    "                found = found + 1\n",
    "            df_found = pd.concat([df_found, pd.DataFrame(track_features)], ignore_index=True)\n",
    "            #df.to_csv(f\"{PATH}/data-missing.csv\")\n",
    "            tracks_ = []\n",
    "            audio_features_ = []\n",
    "            points_ = []\n",
    "        progress_bar.update(1)\n",
    "\n",
    "    audio_features_ = sp_request(lambda x: sp.audio_features([track[\"id\"] for track in x]), 0, 100, tracks_)\n",
    "    track_features = []\n",
    "    if len(tracks_) != len(audio_features_):\n",
    "        print(\"Tracks and features have not the same lengh!\")\n",
    "        print(len(tracks_), len(audio_features_))\n",
    "    for t, af, p in list(zip(tracks_, audio_features_, points_)):\n",
    "        if not t:\n",
    "            print(\"No track!\")\n",
    "            print(t)\n",
    "            print(af)\n",
    "            no_tracks.append(af)\n",
    "            continue\n",
    "        if not af:\n",
    "            print(\"No features\")\n",
    "            print(af)\n",
    "            print(t)\n",
    "            no_features.append(t)\n",
    "            continue\n",
    "        features = filter_track_features(t, af, False, p)\n",
    "        track_features.append(features)\n",
    "        found = found + 1\n",
    "    df_found = pd.concat([df_found, pd.DataFrame(track_features)], ignore_index=True)\n",
    "    #df.to_csv(f\"{PATH}/data-missing.csv\")\n",
    "    tracks_ = []\n",
    "    audio_features_ = []\n",
    "\n",
    "\n",
    "print(f\"Von {len(chart_power_df_explode)} Songs wurden {found} gefunden.\")"
   ]
  },
  {
   "cell_type": "code",
   "execution_count": 79,
   "metadata": {},
   "outputs": [
    {
     "data": {
      "text/plain": [
       "name                      False\n",
       "artists                   False\n",
       "album                     False\n",
       "release_date              False\n",
       "release_date_precision    False\n",
       "spotify_id                False\n",
       "chart_power               False\n",
       "uri                       False\n",
       "popularity                False\n",
       "genres                     True\n",
       "danceability              False\n",
       "energy                    False\n",
       "key                       False\n",
       "loudness                  False\n",
       "mode                      False\n",
       "speechiness               False\n",
       "acousticness              False\n",
       "instrumentalness          False\n",
       "liveness                  False\n",
       "valence                   False\n",
       "tempo                     False\n",
       "duration_ms               False\n",
       "time_signature            False\n",
       "isrc                      False\n",
       "dtype: bool"
      ]
     },
     "execution_count": 79,
     "metadata": {},
     "output_type": "execute_result"
    }
   ],
   "source": [
    "df_found.isna().any()"
   ]
  },
  {
   "cell_type": "code",
   "execution_count": 232,
   "metadata": {},
   "outputs": [],
   "source": [
    "df_found.to_csv(f\"{PATH}/chart-power-spotify.csv\")\n",
    "df_missing.to_csv(f\"{PATH}/chart-power-spotify-missing.csv\")"
   ]
  },
  {
   "cell_type": "markdown",
   "metadata": {},
   "source": [
    "### Visualisierung\n",
    "\n",
    "- Sortierung der Chartpower Songs nach Chartscore und Zuweisung eines Perzentils zu jedem Song\n",
    "- Sortierung der Chartpower Songs nach Spotify Popularity Score und Zuweisung eines Perzentils zu jedem Song\n",
    "- Visualisierung der Perzentile im Scatterplot (Plotly)"
   ]
  },
  {
   "cell_type": "code",
   "execution_count": 159,
   "metadata": {},
   "outputs": [],
   "source": [
    "bins = [-1, 10, 20, 30, 40, 50, 60, 70, 80, 90, 100]\n",
    "labels = [\"0 - 10\", \"11 - 20\", \"21 - 30\", \"31 - 40\", \"41 - 50\", \"51 - 60\", \"61 - 70\", \"71 - 80\", \"81 - 90\", \"91 - 100\"]\n",
    "\n",
    "def create_percentiles(df_):\n",
    "    df_ = df_.sort_values(by=\"chart_power\")\n",
    "    df_['chart_power_percentile'] = (df_['chart_power'].rank(pct=True) * 100).astype(int)\n",
    "    df_['chart_power_percentile'] = pd.cut(df_['chart_power_percentile'], bins=bins, labels=labels)\n",
    "\n",
    "    df_ = df_.sort_values(by=\"popularity\")\n",
    "    df_[\"popularity_percentile\"] = (df_[\"popularity\"].rank(pct=True) * 100).astype(int)\n",
    "    df_[\"popularity_percentile\"] = pd.cut(df_[\"popularity_percentile\"], bins=bins, labels=labels)\n",
    "    return df_"
   ]
  },
  {
   "cell_type": "code",
   "execution_count": 160,
   "metadata": {},
   "outputs": [],
   "source": [
    "df_found_copy = df_found.copy()\n",
    "df_found_copy = create_percentiles(df_found_copy)"
   ]
  },
  {
   "cell_type": "code",
   "execution_count": 161,
   "metadata": {},
   "outputs": [
    {
     "data": {
      "application/vnd.plotly.v1+json": {
       "config": {
        "plotlyServerURL": "https://plot.ly"
       },
       "data": [
        {
         "hovertemplate": "popularity_percentile=%{x}<br>chart_power_percentile=%{y}<extra></extra>",
         "legendgroup": "",
         "marker": {
          "color": "#636efa",
          "symbol": "circle"
         },
         "mode": "markers",
         "name": "",
         "showlegend": false,
         "type": "scattergl",
         "x": [
          "0 - 10",
          "0 - 10",
          "0 - 10",
          "0 - 10",
          "0 - 10",
          "0 - 10",
          "0 - 10",
          "0 - 10",
          "0 - 10",
          "0 - 10",
          "0 - 10",
          "0 - 10",
          "0 - 10",
          "0 - 10",
          "0 - 10",
          "0 - 10",
          "0 - 10",
          "0 - 10",
          "0 - 10",
          "0 - 10",
          "0 - 10",
          "0 - 10",
          "0 - 10",
          "0 - 10",
          "0 - 10",
          "0 - 10",
          "0 - 10",
          "0 - 10",
          "0 - 10",
          "0 - 10",
          "0 - 10",
          "0 - 10",
          "0 - 10",
          "0 - 10",
          "0 - 10",
          "0 - 10",
          "0 - 10",
          "0 - 10",
          "0 - 10",
          "0 - 10",
          "0 - 10",
          "0 - 10",
          "0 - 10",
          "0 - 10",
          "0 - 10",
          "0 - 10",
          "0 - 10",
          "0 - 10",
          "0 - 10",
          "0 - 10",
          "0 - 10",
          "0 - 10",
          "0 - 10",
          "0 - 10",
          "0 - 10",
          "0 - 10",
          "0 - 10",
          "0 - 10",
          "0 - 10",
          "0 - 10",
          "0 - 10",
          "0 - 10",
          "0 - 10",
          "0 - 10",
          "0 - 10",
          "0 - 10",
          "0 - 10",
          "0 - 10",
          "0 - 10",
          "0 - 10",
          "0 - 10",
          "0 - 10",
          "0 - 10",
          "0 - 10",
          "0 - 10",
          "0 - 10",
          "0 - 10",
          "0 - 10",
          "0 - 10",
          "0 - 10",
          "0 - 10",
          "0 - 10",
          "0 - 10",
          "0 - 10",
          "0 - 10",
          "0 - 10",
          "0 - 10",
          "0 - 10",
          "0 - 10",
          "0 - 10",
          "0 - 10",
          "0 - 10",
          "0 - 10",
          "0 - 10",
          "0 - 10",
          "0 - 10",
          "0 - 10",
          "0 - 10",
          "0 - 10",
          "0 - 10",
          "0 - 10",
          "0 - 10",
          "0 - 10",
          "0 - 10",
          "0 - 10",
          "0 - 10",
          "0 - 10",
          "0 - 10",
          "0 - 10",
          "0 - 10",
          "0 - 10",
          "0 - 10",
          "0 - 10",
          "0 - 10",
          "0 - 10",
          "0 - 10",
          "0 - 10",
          "0 - 10",
          "0 - 10",
          "0 - 10",
          "0 - 10",
          "0 - 10",
          "0 - 10",
          "0 - 10",
          "0 - 10",
          "0 - 10",
          "0 - 10",
          "0 - 10",
          "0 - 10",
          "0 - 10",
          "0 - 10",
          "0 - 10",
          "0 - 10",
          "0 - 10",
          "0 - 10",
          "0 - 10",
          "0 - 10",
          "0 - 10",
          "0 - 10",
          "0 - 10",
          "0 - 10",
          "0 - 10",
          "0 - 10",
          "0 - 10",
          "0 - 10",
          "0 - 10",
          "0 - 10",
          "0 - 10",
          "0 - 10",
          "0 - 10",
          "0 - 10",
          "0 - 10",
          "0 - 10",
          "0 - 10",
          "0 - 10",
          "0 - 10",
          "0 - 10",
          "0 - 10",
          "0 - 10",
          "0 - 10",
          "0 - 10",
          "0 - 10",
          "0 - 10",
          "0 - 10",
          "0 - 10",
          "0 - 10",
          "0 - 10",
          "0 - 10",
          "0 - 10",
          "0 - 10",
          "0 - 10",
          "0 - 10",
          "0 - 10",
          "0 - 10",
          "0 - 10",
          "0 - 10",
          "0 - 10",
          "0 - 10",
          "0 - 10",
          "0 - 10",
          "0 - 10",
          "0 - 10",
          "0 - 10",
          "0 - 10",
          "11 - 20",
          "11 - 20",
          "11 - 20",
          "11 - 20",
          "11 - 20",
          "11 - 20",
          "11 - 20",
          "11 - 20",
          "11 - 20",
          "11 - 20",
          "11 - 20",
          "11 - 20",
          "11 - 20",
          "11 - 20",
          "11 - 20",
          "11 - 20",
          "11 - 20",
          "11 - 20",
          "11 - 20",
          "11 - 20",
          "11 - 20",
          "11 - 20",
          "11 - 20",
          "11 - 20",
          "11 - 20",
          "11 - 20",
          "11 - 20",
          "11 - 20",
          "11 - 20",
          "11 - 20",
          "11 - 20",
          "11 - 20",
          "11 - 20",
          "11 - 20",
          "11 - 20",
          "11 - 20",
          "11 - 20",
          "11 - 20",
          "11 - 20",
          "11 - 20",
          "11 - 20",
          "11 - 20",
          "11 - 20",
          "11 - 20",
          "11 - 20",
          "11 - 20",
          "11 - 20",
          "11 - 20",
          "11 - 20",
          "11 - 20",
          "11 - 20",
          "11 - 20",
          "11 - 20",
          "11 - 20",
          "11 - 20",
          "11 - 20",
          "11 - 20",
          "11 - 20",
          "11 - 20",
          "11 - 20",
          "11 - 20",
          "11 - 20",
          "11 - 20",
          "11 - 20",
          "11 - 20",
          "11 - 20",
          "11 - 20",
          "11 - 20",
          "11 - 20",
          "11 - 20",
          "11 - 20",
          "11 - 20",
          "11 - 20",
          "11 - 20",
          "11 - 20",
          "11 - 20",
          "11 - 20",
          "11 - 20",
          "11 - 20",
          "11 - 20",
          "11 - 20",
          "11 - 20",
          "11 - 20",
          "11 - 20",
          "11 - 20",
          "11 - 20",
          "11 - 20",
          "11 - 20",
          "11 - 20",
          "11 - 20",
          "11 - 20",
          "11 - 20",
          "11 - 20",
          "11 - 20",
          "11 - 20",
          "11 - 20",
          "11 - 20",
          "11 - 20",
          "11 - 20",
          "11 - 20",
          "11 - 20",
          "11 - 20",
          "11 - 20",
          "11 - 20",
          "11 - 20",
          "11 - 20",
          "11 - 20",
          "11 - 20",
          "11 - 20",
          "11 - 20",
          "11 - 20",
          "11 - 20",
          "11 - 20",
          "11 - 20",
          "11 - 20",
          "11 - 20",
          "11 - 20",
          "11 - 20",
          "11 - 20",
          "11 - 20",
          "11 - 20",
          "11 - 20",
          "11 - 20",
          "11 - 20",
          "11 - 20",
          "11 - 20",
          "11 - 20",
          "11 - 20",
          "11 - 20",
          "11 - 20",
          "11 - 20",
          "11 - 20",
          "11 - 20",
          "11 - 20",
          "11 - 20",
          "11 - 20",
          "11 - 20",
          "11 - 20",
          "11 - 20",
          "11 - 20",
          "11 - 20",
          "11 - 20",
          "11 - 20",
          "11 - 20",
          "11 - 20",
          "11 - 20",
          "11 - 20",
          "11 - 20",
          "11 - 20",
          "11 - 20",
          "11 - 20",
          "11 - 20",
          "11 - 20",
          "11 - 20",
          "11 - 20",
          "11 - 20",
          "11 - 20",
          "11 - 20",
          "11 - 20",
          "11 - 20",
          "11 - 20",
          "11 - 20",
          "11 - 20",
          "11 - 20",
          "11 - 20",
          "11 - 20",
          "11 - 20",
          "11 - 20",
          "11 - 20",
          "11 - 20",
          "11 - 20",
          "11 - 20",
          "11 - 20",
          "11 - 20",
          "11 - 20",
          "11 - 20",
          "11 - 20",
          "11 - 20",
          "11 - 20",
          "11 - 20",
          "11 - 20",
          "11 - 20",
          "11 - 20",
          "11 - 20",
          "11 - 20",
          "21 - 30",
          "21 - 30",
          "21 - 30",
          "21 - 30",
          "21 - 30",
          "21 - 30",
          "21 - 30",
          "21 - 30",
          "21 - 30",
          "21 - 30",
          "21 - 30",
          "21 - 30",
          "21 - 30",
          "21 - 30",
          "21 - 30",
          "21 - 30",
          "21 - 30",
          "21 - 30",
          "21 - 30",
          "21 - 30",
          "21 - 30",
          "21 - 30",
          "21 - 30",
          "21 - 30",
          "21 - 30",
          "21 - 30",
          "21 - 30",
          "21 - 30",
          "21 - 30",
          "21 - 30",
          "21 - 30",
          "21 - 30",
          "21 - 30",
          "21 - 30",
          "21 - 30",
          "21 - 30",
          "21 - 30",
          "21 - 30",
          "21 - 30",
          "21 - 30",
          "21 - 30",
          "21 - 30",
          "21 - 30",
          "21 - 30",
          "21 - 30",
          "21 - 30",
          "21 - 30",
          "21 - 30",
          "21 - 30",
          "21 - 30",
          "21 - 30",
          "21 - 30",
          "21 - 30",
          "21 - 30",
          "21 - 30",
          "21 - 30",
          "21 - 30",
          "21 - 30",
          "21 - 30",
          "21 - 30",
          "21 - 30",
          "21 - 30",
          "21 - 30",
          "21 - 30",
          "21 - 30",
          "21 - 30",
          "21 - 30",
          "21 - 30",
          "21 - 30",
          "21 - 30",
          "21 - 30",
          "21 - 30",
          "21 - 30",
          "21 - 30",
          "21 - 30",
          "21 - 30",
          "21 - 30",
          "21 - 30",
          "21 - 30",
          "21 - 30",
          "21 - 30",
          "21 - 30",
          "21 - 30",
          "21 - 30",
          "21 - 30",
          "21 - 30",
          "21 - 30",
          "21 - 30",
          "21 - 30",
          "21 - 30",
          "21 - 30",
          "21 - 30",
          "21 - 30",
          "21 - 30",
          "21 - 30",
          "21 - 30",
          "21 - 30",
          "21 - 30",
          "21 - 30",
          "21 - 30",
          "21 - 30",
          "21 - 30",
          "21 - 30",
          "21 - 30",
          "21 - 30",
          "21 - 30",
          "21 - 30",
          "21 - 30",
          "21 - 30",
          "21 - 30",
          "21 - 30",
          "21 - 30",
          "21 - 30",
          "21 - 30",
          "21 - 30",
          "21 - 30",
          "21 - 30",
          "21 - 30",
          "21 - 30",
          "21 - 30",
          "21 - 30",
          "21 - 30",
          "21 - 30",
          "21 - 30",
          "21 - 30",
          "21 - 30",
          "21 - 30",
          "21 - 30",
          "21 - 30",
          "21 - 30",
          "21 - 30",
          "21 - 30",
          "21 - 30",
          "21 - 30",
          "21 - 30",
          "21 - 30",
          "21 - 30",
          "21 - 30",
          "21 - 30",
          "21 - 30",
          "21 - 30",
          "21 - 30",
          "21 - 30",
          "21 - 30",
          "21 - 30",
          "21 - 30",
          "21 - 30",
          "21 - 30",
          "21 - 30",
          "21 - 30",
          "21 - 30",
          "21 - 30",
          "21 - 30",
          "21 - 30",
          "21 - 30",
          "21 - 30",
          "21 - 30",
          "21 - 30",
          "21 - 30",
          "21 - 30",
          "21 - 30",
          "21 - 30",
          "21 - 30",
          "21 - 30",
          "21 - 30",
          "21 - 30",
          "21 - 30",
          "21 - 30",
          "21 - 30",
          "21 - 30",
          "21 - 30",
          "21 - 30",
          "21 - 30",
          "21 - 30",
          "21 - 30",
          "21 - 30",
          "21 - 30",
          "31 - 40",
          "31 - 40",
          "31 - 40",
          "31 - 40",
          "31 - 40",
          "31 - 40",
          "31 - 40",
          "31 - 40",
          "31 - 40",
          "31 - 40",
          "31 - 40",
          "31 - 40",
          "31 - 40",
          "31 - 40",
          "31 - 40",
          "31 - 40",
          "31 - 40",
          "31 - 40",
          "31 - 40",
          "31 - 40",
          "31 - 40",
          "31 - 40",
          "31 - 40",
          "31 - 40",
          "31 - 40",
          "31 - 40",
          "31 - 40",
          "31 - 40",
          "31 - 40",
          "31 - 40",
          "31 - 40",
          "31 - 40",
          "31 - 40",
          "31 - 40",
          "31 - 40",
          "31 - 40",
          "31 - 40",
          "31 - 40",
          "31 - 40",
          "31 - 40",
          "31 - 40",
          "31 - 40",
          "31 - 40",
          "31 - 40",
          "31 - 40",
          "31 - 40",
          "31 - 40",
          "31 - 40",
          "31 - 40",
          "31 - 40",
          "31 - 40",
          "31 - 40",
          "31 - 40",
          "31 - 40",
          "31 - 40",
          "31 - 40",
          "31 - 40",
          "31 - 40",
          "31 - 40",
          "31 - 40",
          "31 - 40",
          "31 - 40",
          "31 - 40",
          "31 - 40",
          "31 - 40",
          "31 - 40",
          "31 - 40",
          "31 - 40",
          "31 - 40",
          "31 - 40",
          "31 - 40",
          "31 - 40",
          "31 - 40",
          "31 - 40",
          "31 - 40",
          "31 - 40",
          "31 - 40",
          "31 - 40",
          "31 - 40",
          "31 - 40",
          "31 - 40",
          "31 - 40",
          "31 - 40",
          "31 - 40",
          "31 - 40",
          "31 - 40",
          "31 - 40",
          "31 - 40",
          "31 - 40",
          "31 - 40",
          "31 - 40",
          "31 - 40",
          "31 - 40",
          "31 - 40",
          "31 - 40",
          "31 - 40",
          "31 - 40",
          "31 - 40",
          "31 - 40",
          "31 - 40",
          "31 - 40",
          "31 - 40",
          "31 - 40",
          "31 - 40",
          "31 - 40",
          "31 - 40",
          "31 - 40",
          "31 - 40",
          "31 - 40",
          "31 - 40",
          "31 - 40",
          "31 - 40",
          "31 - 40",
          "31 - 40",
          "31 - 40",
          "31 - 40",
          "31 - 40",
          "31 - 40",
          "31 - 40",
          "31 - 40",
          "31 - 40",
          "31 - 40",
          "31 - 40",
          "31 - 40",
          "31 - 40",
          "31 - 40",
          "31 - 40",
          "31 - 40",
          "31 - 40",
          "31 - 40",
          "31 - 40",
          "31 - 40",
          "31 - 40",
          "31 - 40",
          "31 - 40",
          "31 - 40",
          "31 - 40",
          "31 - 40",
          "31 - 40",
          "31 - 40",
          "31 - 40",
          "31 - 40",
          "31 - 40",
          "31 - 40",
          "31 - 40",
          "31 - 40",
          "31 - 40",
          "31 - 40",
          "31 - 40",
          "31 - 40",
          "31 - 40",
          "31 - 40",
          "31 - 40",
          "31 - 40",
          "31 - 40",
          "31 - 40",
          "31 - 40",
          "31 - 40",
          "31 - 40",
          "31 - 40",
          "31 - 40",
          "31 - 40",
          "31 - 40",
          "31 - 40",
          "31 - 40",
          "31 - 40",
          "31 - 40",
          "31 - 40",
          "31 - 40",
          "31 - 40",
          "31 - 40",
          "31 - 40",
          "31 - 40",
          "31 - 40",
          "31 - 40",
          "41 - 50",
          "41 - 50",
          "41 - 50",
          "41 - 50",
          "41 - 50",
          "41 - 50",
          "41 - 50",
          "41 - 50",
          "41 - 50",
          "41 - 50",
          "41 - 50",
          "41 - 50",
          "41 - 50",
          "41 - 50",
          "41 - 50",
          "41 - 50",
          "41 - 50",
          "41 - 50",
          "41 - 50",
          "41 - 50",
          "41 - 50",
          "41 - 50",
          "41 - 50",
          "41 - 50",
          "41 - 50",
          "41 - 50",
          "41 - 50",
          "41 - 50",
          "41 - 50",
          "41 - 50",
          "41 - 50",
          "41 - 50",
          "41 - 50",
          "41 - 50",
          "41 - 50",
          "41 - 50",
          "41 - 50",
          "41 - 50",
          "41 - 50",
          "41 - 50",
          "41 - 50",
          "41 - 50",
          "41 - 50",
          "41 - 50",
          "41 - 50",
          "41 - 50",
          "41 - 50",
          "41 - 50",
          "41 - 50",
          "41 - 50",
          "41 - 50",
          "41 - 50",
          "41 - 50",
          "41 - 50",
          "41 - 50",
          "41 - 50",
          "41 - 50",
          "41 - 50",
          "41 - 50",
          "41 - 50",
          "41 - 50",
          "41 - 50",
          "41 - 50",
          "41 - 50",
          "41 - 50",
          "41 - 50",
          "41 - 50",
          "41 - 50",
          "41 - 50",
          "41 - 50",
          "41 - 50",
          "41 - 50",
          "41 - 50",
          "41 - 50",
          "41 - 50",
          "41 - 50",
          "41 - 50",
          "41 - 50",
          "41 - 50",
          "41 - 50",
          "41 - 50",
          "41 - 50",
          "41 - 50",
          "41 - 50",
          "41 - 50",
          "41 - 50",
          "41 - 50",
          "41 - 50",
          "41 - 50",
          "41 - 50",
          "41 - 50",
          "41 - 50",
          "41 - 50",
          "41 - 50",
          "41 - 50",
          "41 - 50",
          "41 - 50",
          "41 - 50",
          "41 - 50",
          "41 - 50",
          "41 - 50",
          "41 - 50",
          "41 - 50",
          "41 - 50",
          "41 - 50",
          "41 - 50",
          "41 - 50",
          "41 - 50",
          "41 - 50",
          "41 - 50",
          "41 - 50",
          "41 - 50",
          "41 - 50",
          "41 - 50",
          "41 - 50",
          "41 - 50",
          "41 - 50",
          "41 - 50",
          "41 - 50",
          "41 - 50",
          "41 - 50",
          "41 - 50",
          "41 - 50",
          "41 - 50",
          "41 - 50",
          "41 - 50",
          "41 - 50",
          "41 - 50",
          "41 - 50",
          "41 - 50",
          "41 - 50",
          "41 - 50",
          "41 - 50",
          "41 - 50",
          "41 - 50",
          "41 - 50",
          "41 - 50",
          "41 - 50",
          "41 - 50",
          "41 - 50",
          "41 - 50",
          "41 - 50",
          "41 - 50",
          "41 - 50",
          "41 - 50",
          "41 - 50",
          "41 - 50",
          "41 - 50",
          "41 - 50",
          "41 - 50",
          "41 - 50",
          "41 - 50",
          "41 - 50",
          "41 - 50",
          "51 - 60",
          "51 - 60",
          "51 - 60",
          "51 - 60",
          "51 - 60",
          "51 - 60",
          "51 - 60",
          "51 - 60",
          "51 - 60",
          "51 - 60",
          "51 - 60",
          "51 - 60",
          "51 - 60",
          "51 - 60",
          "51 - 60",
          "51 - 60",
          "51 - 60",
          "51 - 60",
          "51 - 60",
          "51 - 60",
          "51 - 60",
          "51 - 60",
          "51 - 60",
          "51 - 60",
          "51 - 60",
          "51 - 60",
          "51 - 60",
          "51 - 60",
          "51 - 60",
          "51 - 60",
          "51 - 60",
          "51 - 60",
          "51 - 60",
          "51 - 60",
          "51 - 60",
          "51 - 60",
          "51 - 60",
          "51 - 60",
          "51 - 60",
          "51 - 60",
          "51 - 60",
          "51 - 60",
          "51 - 60",
          "51 - 60",
          "51 - 60",
          "51 - 60",
          "51 - 60",
          "51 - 60",
          "51 - 60",
          "51 - 60",
          "51 - 60",
          "51 - 60",
          "51 - 60",
          "51 - 60",
          "51 - 60",
          "51 - 60",
          "51 - 60",
          "51 - 60",
          "51 - 60",
          "51 - 60",
          "51 - 60",
          "51 - 60",
          "51 - 60",
          "51 - 60",
          "51 - 60",
          "51 - 60",
          "51 - 60",
          "51 - 60",
          "51 - 60",
          "51 - 60",
          "51 - 60",
          "51 - 60",
          "51 - 60",
          "51 - 60",
          "51 - 60",
          "51 - 60",
          "51 - 60",
          "51 - 60",
          "51 - 60",
          "51 - 60",
          "51 - 60",
          "51 - 60",
          "51 - 60",
          "51 - 60",
          "51 - 60",
          "51 - 60",
          "51 - 60",
          "51 - 60",
          "51 - 60",
          "51 - 60",
          "51 - 60",
          "51 - 60",
          "51 - 60",
          "51 - 60",
          "51 - 60",
          "51 - 60",
          "51 - 60",
          "51 - 60",
          "51 - 60",
          "51 - 60",
          "51 - 60",
          "51 - 60",
          "51 - 60",
          "51 - 60",
          "51 - 60",
          "51 - 60",
          "51 - 60",
          "51 - 60",
          "51 - 60",
          "51 - 60",
          "51 - 60",
          "51 - 60",
          "51 - 60",
          "51 - 60",
          "51 - 60",
          "51 - 60",
          "51 - 60",
          "51 - 60",
          "51 - 60",
          "51 - 60",
          "51 - 60",
          "51 - 60",
          "51 - 60",
          "51 - 60",
          "51 - 60",
          "51 - 60",
          "51 - 60",
          "51 - 60",
          "51 - 60",
          "51 - 60",
          "51 - 60",
          "51 - 60",
          "51 - 60",
          "51 - 60",
          "51 - 60",
          "51 - 60",
          "51 - 60",
          "51 - 60",
          "51 - 60",
          "51 - 60",
          "51 - 60",
          "51 - 60",
          "51 - 60",
          "51 - 60",
          "51 - 60",
          "51 - 60",
          "51 - 60",
          "51 - 60",
          "51 - 60",
          "51 - 60",
          "51 - 60",
          "51 - 60",
          "51 - 60",
          "51 - 60",
          "51 - 60",
          "51 - 60",
          "51 - 60",
          "51 - 60",
          "51 - 60",
          "51 - 60",
          "51 - 60",
          "51 - 60",
          "51 - 60",
          "51 - 60",
          "51 - 60",
          "51 - 60",
          "51 - 60",
          "51 - 60",
          "51 - 60",
          "51 - 60",
          "51 - 60",
          "51 - 60",
          "51 - 60",
          "51 - 60",
          "51 - 60",
          "51 - 60",
          "51 - 60",
          "51 - 60",
          "51 - 60",
          "51 - 60",
          "51 - 60",
          "51 - 60",
          "51 - 60",
          "51 - 60",
          "51 - 60",
          "51 - 60",
          "51 - 60",
          "51 - 60",
          "51 - 60",
          "51 - 60",
          "51 - 60",
          "51 - 60",
          "51 - 60",
          "61 - 70",
          "61 - 70",
          "61 - 70",
          "61 - 70",
          "61 - 70",
          "61 - 70",
          "61 - 70",
          "61 - 70",
          "61 - 70",
          "61 - 70",
          "61 - 70",
          "61 - 70",
          "61 - 70",
          "61 - 70",
          "61 - 70",
          "61 - 70",
          "61 - 70",
          "61 - 70",
          "61 - 70",
          "61 - 70",
          "61 - 70",
          "61 - 70",
          "61 - 70",
          "61 - 70",
          "61 - 70",
          "61 - 70",
          "61 - 70",
          "61 - 70",
          "61 - 70",
          "61 - 70",
          "61 - 70",
          "61 - 70",
          "61 - 70",
          "61 - 70",
          "61 - 70",
          "61 - 70",
          "61 - 70",
          "61 - 70",
          "61 - 70",
          "61 - 70",
          "61 - 70",
          "61 - 70",
          "61 - 70",
          "61 - 70",
          "61 - 70",
          "61 - 70",
          "61 - 70",
          "61 - 70",
          "61 - 70",
          "61 - 70",
          "61 - 70",
          "61 - 70",
          "61 - 70",
          "61 - 70",
          "61 - 70",
          "61 - 70",
          "61 - 70",
          "61 - 70",
          "61 - 70",
          "61 - 70",
          "61 - 70",
          "61 - 70",
          "61 - 70",
          "61 - 70",
          "61 - 70",
          "61 - 70",
          "61 - 70",
          "61 - 70",
          "61 - 70",
          "61 - 70",
          "61 - 70",
          "61 - 70",
          "61 - 70",
          "61 - 70",
          "61 - 70",
          "61 - 70",
          "61 - 70",
          "61 - 70",
          "61 - 70",
          "61 - 70",
          "61 - 70",
          "61 - 70",
          "61 - 70",
          "61 - 70",
          "61 - 70",
          "61 - 70",
          "61 - 70",
          "61 - 70",
          "61 - 70",
          "61 - 70",
          "61 - 70",
          "61 - 70",
          "61 - 70",
          "61 - 70",
          "61 - 70",
          "61 - 70",
          "61 - 70",
          "61 - 70",
          "61 - 70",
          "61 - 70",
          "61 - 70",
          "61 - 70",
          "61 - 70",
          "61 - 70",
          "61 - 70",
          "61 - 70",
          "61 - 70",
          "61 - 70",
          "61 - 70",
          "61 - 70",
          "61 - 70",
          "61 - 70",
          "61 - 70",
          "61 - 70",
          "61 - 70",
          "61 - 70",
          "61 - 70",
          "61 - 70",
          "61 - 70",
          "61 - 70",
          "61 - 70",
          "61 - 70",
          "61 - 70",
          "61 - 70",
          "61 - 70",
          "61 - 70",
          "61 - 70",
          "61 - 70",
          "61 - 70",
          "61 - 70",
          "61 - 70",
          "61 - 70",
          "61 - 70",
          "61 - 70",
          "61 - 70",
          "61 - 70",
          "61 - 70",
          "61 - 70",
          "61 - 70",
          "61 - 70",
          "61 - 70",
          "61 - 70",
          "61 - 70",
          "61 - 70",
          "61 - 70",
          "61 - 70",
          "61 - 70",
          "61 - 70",
          "71 - 80",
          "71 - 80",
          "71 - 80",
          "71 - 80",
          "71 - 80",
          "71 - 80",
          "71 - 80",
          "71 - 80",
          "71 - 80",
          "71 - 80",
          "71 - 80",
          "71 - 80",
          "71 - 80",
          "71 - 80",
          "71 - 80",
          "71 - 80",
          "71 - 80",
          "71 - 80",
          "71 - 80",
          "71 - 80",
          "71 - 80",
          "71 - 80",
          "71 - 80",
          "71 - 80",
          "71 - 80",
          "71 - 80",
          "71 - 80",
          "71 - 80",
          "71 - 80",
          "71 - 80",
          "71 - 80",
          "71 - 80",
          "71 - 80",
          "71 - 80",
          "71 - 80",
          "71 - 80",
          "71 - 80",
          "71 - 80",
          "71 - 80",
          "71 - 80",
          "71 - 80",
          "71 - 80",
          "71 - 80",
          "71 - 80",
          "71 - 80",
          "71 - 80",
          "71 - 80",
          "71 - 80",
          "71 - 80",
          "71 - 80",
          "71 - 80",
          "71 - 80",
          "71 - 80",
          "71 - 80",
          "71 - 80",
          "71 - 80",
          "71 - 80",
          "71 - 80",
          "71 - 80",
          "71 - 80",
          "71 - 80",
          "71 - 80",
          "71 - 80",
          "71 - 80",
          "71 - 80",
          "71 - 80",
          "71 - 80",
          "71 - 80",
          "71 - 80",
          "71 - 80",
          "71 - 80",
          "71 - 80",
          "71 - 80",
          "71 - 80",
          "71 - 80",
          "71 - 80",
          "71 - 80",
          "71 - 80",
          "71 - 80",
          "71 - 80",
          "71 - 80",
          "71 - 80",
          "71 - 80",
          "71 - 80",
          "71 - 80",
          "71 - 80",
          "71 - 80",
          "71 - 80",
          "71 - 80",
          "71 - 80",
          "71 - 80",
          "71 - 80",
          "71 - 80",
          "71 - 80",
          "71 - 80",
          "71 - 80",
          "71 - 80",
          "71 - 80",
          "71 - 80",
          "71 - 80",
          "71 - 80",
          "71 - 80",
          "71 - 80",
          "71 - 80",
          "71 - 80",
          "71 - 80",
          "71 - 80",
          "71 - 80",
          "71 - 80",
          "71 - 80",
          "71 - 80",
          "71 - 80",
          "71 - 80",
          "71 - 80",
          "71 - 80",
          "71 - 80",
          "71 - 80",
          "71 - 80",
          "71 - 80",
          "71 - 80",
          "71 - 80",
          "71 - 80",
          "71 - 80",
          "71 - 80",
          "71 - 80",
          "71 - 80",
          "71 - 80",
          "71 - 80",
          "71 - 80",
          "71 - 80",
          "71 - 80",
          "71 - 80",
          "71 - 80",
          "71 - 80",
          "71 - 80",
          "71 - 80",
          "71 - 80",
          "71 - 80",
          "71 - 80",
          "71 - 80",
          "71 - 80",
          "71 - 80",
          "71 - 80",
          "71 - 80",
          "71 - 80",
          "71 - 80",
          "71 - 80",
          "71 - 80",
          "71 - 80",
          "71 - 80",
          "71 - 80",
          "71 - 80",
          "71 - 80",
          "71 - 80",
          "71 - 80",
          "71 - 80",
          "71 - 80",
          "71 - 80",
          "71 - 80",
          "71 - 80",
          "71 - 80",
          "71 - 80",
          "71 - 80",
          "71 - 80",
          "71 - 80",
          "71 - 80",
          "71 - 80",
          "71 - 80",
          "71 - 80",
          "71 - 80",
          "71 - 80",
          "71 - 80",
          "71 - 80",
          "71 - 80",
          "71 - 80",
          "71 - 80",
          "71 - 80",
          "71 - 80",
          "71 - 80",
          "71 - 80",
          "71 - 80",
          "71 - 80",
          "71 - 80",
          "71 - 80",
          "71 - 80",
          "71 - 80",
          "71 - 80",
          "71 - 80",
          "71 - 80",
          "71 - 80",
          "81 - 90",
          "81 - 90",
          "81 - 90",
          "81 - 90",
          "81 - 90",
          "81 - 90",
          "81 - 90",
          "81 - 90",
          "81 - 90",
          "81 - 90",
          "81 - 90",
          "81 - 90",
          "81 - 90",
          "81 - 90",
          "81 - 90",
          "81 - 90",
          "81 - 90",
          "81 - 90",
          "81 - 90",
          "81 - 90",
          "81 - 90",
          "81 - 90",
          "81 - 90",
          "81 - 90",
          "81 - 90",
          "81 - 90",
          "81 - 90",
          "81 - 90",
          "81 - 90",
          "81 - 90",
          "81 - 90",
          "81 - 90",
          "81 - 90",
          "81 - 90",
          "81 - 90",
          "81 - 90",
          "81 - 90",
          "81 - 90",
          "81 - 90",
          "81 - 90",
          "81 - 90",
          "81 - 90",
          "81 - 90",
          "81 - 90",
          "81 - 90",
          "81 - 90",
          "81 - 90",
          "81 - 90",
          "81 - 90",
          "81 - 90",
          "81 - 90",
          "81 - 90",
          "81 - 90",
          "81 - 90",
          "81 - 90",
          "81 - 90",
          "81 - 90",
          "81 - 90",
          "81 - 90",
          "81 - 90",
          "81 - 90",
          "81 - 90",
          "81 - 90",
          "81 - 90",
          "81 - 90",
          "81 - 90",
          "81 - 90",
          "81 - 90",
          "81 - 90",
          "81 - 90",
          "81 - 90",
          "81 - 90",
          "81 - 90",
          "81 - 90",
          "81 - 90",
          "81 - 90",
          "81 - 90",
          "81 - 90",
          "81 - 90",
          "81 - 90",
          "81 - 90",
          "81 - 90",
          "81 - 90",
          "81 - 90",
          "81 - 90",
          "81 - 90",
          "81 - 90",
          "81 - 90",
          "81 - 90",
          "81 - 90",
          "81 - 90",
          "81 - 90",
          "81 - 90",
          "81 - 90",
          "81 - 90",
          "81 - 90",
          "81 - 90",
          "81 - 90",
          "81 - 90",
          "81 - 90",
          "81 - 90",
          "81 - 90",
          "81 - 90",
          "81 - 90",
          "81 - 90",
          "81 - 90",
          "81 - 90",
          "81 - 90",
          "81 - 90",
          "81 - 90",
          "81 - 90",
          "81 - 90",
          "81 - 90",
          "81 - 90",
          "81 - 90",
          "81 - 90",
          "81 - 90",
          "81 - 90",
          "81 - 90",
          "81 - 90",
          "81 - 90",
          "81 - 90",
          "81 - 90",
          "81 - 90",
          "81 - 90",
          "81 - 90",
          "81 - 90",
          "81 - 90",
          "81 - 90",
          "81 - 90",
          "81 - 90",
          "81 - 90",
          "81 - 90",
          "81 - 90",
          "81 - 90",
          "81 - 90",
          "81 - 90",
          "81 - 90",
          "81 - 90",
          "81 - 90",
          "81 - 90",
          "81 - 90",
          "81 - 90",
          "81 - 90",
          "81 - 90",
          "81 - 90",
          "81 - 90",
          "81 - 90",
          "81 - 90",
          "81 - 90",
          "81 - 90",
          "81 - 90",
          "81 - 90",
          "81 - 90",
          "81 - 90",
          "81 - 90",
          "81 - 90",
          "81 - 90",
          "81 - 90",
          "81 - 90",
          "81 - 90",
          "81 - 90",
          "81 - 90",
          "81 - 90",
          "81 - 90",
          "81 - 90",
          "81 - 90",
          "81 - 90",
          "81 - 90",
          "81 - 90",
          "81 - 90",
          "81 - 90",
          "81 - 90",
          "91 - 100",
          "91 - 100",
          "91 - 100",
          "91 - 100",
          "91 - 100",
          "91 - 100",
          "91 - 100",
          "91 - 100",
          "91 - 100",
          "91 - 100",
          "91 - 100",
          "91 - 100",
          "91 - 100",
          "91 - 100",
          "91 - 100",
          "91 - 100",
          "91 - 100",
          "91 - 100",
          "91 - 100",
          "91 - 100",
          "91 - 100",
          "91 - 100",
          "91 - 100",
          "91 - 100",
          "91 - 100",
          "91 - 100",
          "91 - 100",
          "91 - 100",
          "91 - 100",
          "91 - 100",
          "91 - 100",
          "91 - 100",
          "91 - 100",
          "91 - 100",
          "91 - 100",
          "91 - 100",
          "91 - 100",
          "91 - 100",
          "91 - 100",
          "91 - 100",
          "91 - 100",
          "91 - 100",
          "91 - 100",
          "91 - 100",
          "91 - 100",
          "91 - 100",
          "91 - 100",
          "91 - 100",
          "91 - 100",
          "91 - 100",
          "91 - 100",
          "91 - 100",
          "91 - 100",
          "91 - 100",
          "91 - 100",
          "91 - 100",
          "91 - 100",
          "91 - 100",
          "91 - 100",
          "91 - 100",
          "91 - 100",
          "91 - 100",
          "91 - 100",
          "91 - 100",
          "91 - 100",
          "91 - 100",
          "91 - 100",
          "91 - 100",
          "91 - 100",
          "91 - 100",
          "91 - 100",
          "91 - 100",
          "91 - 100",
          "91 - 100",
          "91 - 100",
          "91 - 100",
          "91 - 100",
          "91 - 100",
          "91 - 100",
          "91 - 100",
          "91 - 100",
          "91 - 100",
          "91 - 100",
          "91 - 100",
          "91 - 100",
          "91 - 100",
          "91 - 100",
          "91 - 100",
          "91 - 100",
          "91 - 100",
          "91 - 100",
          "91 - 100",
          "91 - 100",
          "91 - 100",
          "91 - 100",
          "91 - 100",
          "91 - 100",
          "91 - 100",
          "91 - 100",
          "91 - 100",
          "91 - 100",
          "91 - 100",
          "91 - 100",
          "91 - 100",
          "91 - 100",
          "91 - 100",
          "91 - 100",
          "91 - 100",
          "91 - 100",
          "91 - 100",
          "91 - 100",
          "91 - 100",
          "91 - 100",
          "91 - 100",
          "91 - 100",
          "91 - 100",
          "91 - 100",
          "91 - 100",
          "91 - 100",
          "91 - 100",
          "91 - 100",
          "91 - 100",
          "91 - 100",
          "91 - 100",
          "91 - 100",
          "91 - 100",
          "91 - 100",
          "91 - 100",
          "91 - 100",
          "91 - 100",
          "91 - 100",
          "91 - 100",
          "91 - 100",
          "91 - 100",
          "91 - 100",
          "91 - 100",
          "91 - 100",
          "91 - 100",
          "91 - 100",
          "91 - 100",
          "91 - 100",
          "91 - 100",
          "91 - 100",
          "91 - 100",
          "91 - 100",
          "91 - 100",
          "91 - 100",
          "91 - 100",
          "91 - 100",
          "91 - 100"
         ],
         "xaxis": "x",
         "y": [
          "0 - 10",
          "71 - 80",
          "71 - 80",
          "71 - 80",
          "51 - 60",
          "51 - 60",
          "51 - 60",
          "41 - 50",
          "41 - 50",
          "31 - 40",
          "31 - 40",
          "31 - 40",
          "31 - 40",
          "31 - 40",
          "21 - 30",
          "21 - 30",
          "21 - 30",
          "21 - 30",
          "11 - 20",
          "0 - 10",
          "11 - 20",
          "11 - 20",
          "11 - 20",
          "0 - 10",
          "71 - 80",
          "71 - 80",
          "31 - 40",
          "71 - 80",
          "71 - 80",
          "81 - 90",
          "81 - 90",
          "0 - 10",
          "81 - 90",
          "81 - 90",
          "11 - 20",
          "31 - 40",
          "0 - 10",
          "0 - 10",
          "31 - 40",
          "41 - 50",
          "41 - 50",
          "81 - 90",
          "51 - 60",
          "51 - 60",
          "31 - 40",
          "81 - 90",
          "71 - 80",
          "21 - 30",
          "11 - 20",
          "51 - 60",
          "31 - 40",
          "91 - 100",
          "11 - 20",
          "81 - 90",
          "31 - 40",
          "11 - 20",
          "21 - 30",
          "41 - 50",
          "11 - 20",
          "11 - 20",
          "11 - 20",
          "61 - 70",
          "11 - 20",
          "61 - 70",
          "0 - 10",
          "71 - 80",
          "0 - 10",
          "21 - 30",
          "21 - 30",
          "91 - 100",
          "81 - 90",
          "41 - 50",
          "0 - 10",
          "11 - 20",
          "61 - 70",
          "91 - 100",
          "41 - 50",
          "61 - 70",
          "91 - 100",
          "11 - 20",
          "21 - 30",
          "0 - 10",
          "11 - 20",
          "0 - 10",
          "0 - 10",
          "61 - 70",
          "71 - 80",
          "81 - 90",
          "41 - 50",
          "0 - 10",
          "0 - 10",
          "81 - 90",
          "11 - 20",
          "11 - 20",
          "91 - 100",
          "0 - 10",
          "21 - 30",
          "41 - 50",
          "31 - 40",
          "11 - 20",
          "11 - 20",
          "11 - 20",
          "31 - 40",
          "0 - 10",
          "31 - 40",
          "0 - 10",
          "0 - 10",
          "0 - 10",
          "91 - 100",
          "31 - 40",
          "61 - 70",
          "81 - 90",
          "21 - 30",
          "21 - 30",
          "91 - 100",
          "21 - 30",
          "51 - 60",
          "41 - 50",
          "41 - 50",
          "21 - 30",
          "61 - 70",
          "51 - 60",
          "51 - 60",
          "91 - 100",
          "11 - 20",
          "31 - 40",
          "31 - 40",
          "21 - 30",
          "91 - 100",
          "11 - 20",
          "51 - 60",
          "71 - 80",
          "91 - 100",
          "0 - 10",
          "41 - 50",
          "0 - 10",
          "21 - 30",
          "51 - 60",
          "41 - 50",
          "61 - 70",
          "51 - 60",
          "91 - 100",
          "11 - 20",
          "91 - 100",
          "0 - 10",
          "51 - 60",
          "61 - 70",
          "11 - 20",
          "91 - 100",
          "0 - 10",
          "11 - 20",
          "11 - 20",
          "21 - 30",
          "81 - 90",
          "21 - 30",
          "71 - 80",
          "51 - 60",
          "21 - 30",
          "31 - 40",
          "61 - 70",
          "0 - 10",
          "61 - 70",
          "81 - 90",
          "91 - 100",
          "21 - 30",
          "41 - 50",
          "31 - 40",
          "11 - 20",
          "0 - 10",
          "11 - 20",
          "0 - 10",
          "91 - 100",
          "0 - 10",
          "61 - 70",
          "71 - 80",
          "31 - 40",
          "0 - 10",
          "11 - 20",
          "21 - 30",
          "21 - 30",
          "0 - 10",
          "0 - 10",
          "11 - 20",
          "21 - 30",
          "11 - 20",
          "21 - 30",
          "11 - 20",
          "51 - 60",
          "11 - 20",
          "0 - 10",
          "71 - 80",
          "11 - 20",
          "51 - 60",
          "71 - 80",
          "61 - 70",
          "41 - 50",
          "0 - 10",
          "31 - 40",
          "51 - 60",
          "91 - 100",
          "71 - 80",
          "21 - 30",
          "51 - 60",
          "21 - 30",
          "51 - 60",
          "81 - 90",
          "0 - 10",
          "81 - 90",
          "31 - 40",
          "11 - 20",
          "21 - 30",
          "21 - 30",
          "31 - 40",
          "0 - 10",
          "71 - 80",
          "0 - 10",
          "11 - 20",
          "71 - 80",
          "71 - 80",
          "21 - 30",
          "31 - 40",
          "81 - 90",
          "0 - 10",
          "61 - 70",
          "0 - 10",
          "71 - 80",
          "21 - 30",
          "41 - 50",
          "41 - 50",
          "11 - 20",
          "51 - 60",
          "0 - 10",
          "61 - 70",
          "61 - 70",
          "31 - 40",
          "91 - 100",
          "31 - 40",
          "31 - 40",
          "11 - 20",
          "61 - 70",
          "11 - 20",
          "11 - 20",
          "41 - 50",
          "41 - 50",
          "11 - 20",
          "31 - 40",
          "31 - 40",
          "31 - 40",
          "51 - 60",
          "31 - 40",
          "81 - 90",
          "0 - 10",
          "31 - 40",
          "31 - 40",
          "11 - 20",
          "31 - 40",
          "41 - 50",
          "31 - 40",
          "71 - 80",
          "31 - 40",
          "81 - 90",
          "0 - 10",
          "91 - 100",
          "0 - 10",
          "0 - 10",
          "21 - 30",
          "61 - 70",
          "71 - 80",
          "91 - 100",
          "31 - 40",
          "11 - 20",
          "21 - 30",
          "31 - 40",
          "71 - 80",
          "31 - 40",
          "11 - 20",
          "31 - 40",
          "0 - 10",
          "0 - 10",
          "61 - 70",
          "0 - 10",
          "11 - 20",
          "21 - 30",
          "11 - 20",
          "51 - 60",
          "51 - 60",
          "41 - 50",
          "11 - 20",
          "51 - 60",
          "91 - 100",
          "21 - 30",
          "51 - 60",
          "71 - 80",
          "71 - 80",
          "31 - 40",
          "71 - 80",
          "11 - 20",
          "0 - 10",
          "21 - 30",
          "81 - 90",
          "41 - 50",
          "21 - 30",
          "31 - 40",
          "0 - 10",
          "71 - 80",
          "51 - 60",
          "51 - 60",
          "41 - 50",
          "11 - 20",
          "91 - 100",
          "0 - 10",
          "51 - 60",
          "0 - 10",
          "21 - 30",
          "51 - 60",
          "51 - 60",
          "21 - 30",
          "21 - 30",
          "0 - 10",
          "51 - 60",
          "21 - 30",
          "31 - 40",
          "61 - 70",
          "11 - 20",
          "71 - 80",
          "41 - 50",
          "61 - 70",
          "41 - 50",
          "21 - 30",
          "31 - 40",
          "51 - 60",
          "21 - 30",
          "21 - 30",
          "51 - 60",
          "51 - 60",
          "11 - 20",
          "51 - 60",
          "11 - 20",
          "41 - 50",
          "41 - 50",
          "81 - 90",
          "21 - 30",
          "0 - 10",
          "91 - 100",
          "0 - 10",
          "0 - 10",
          "41 - 50",
          "41 - 50",
          "31 - 40",
          "31 - 40",
          "41 - 50",
          "51 - 60",
          "21 - 30",
          "41 - 50",
          "31 - 40",
          "0 - 10",
          "31 - 40",
          "81 - 90",
          "0 - 10",
          "0 - 10",
          "71 - 80",
          "0 - 10",
          "11 - 20",
          "11 - 20",
          "0 - 10",
          "0 - 10",
          "71 - 80",
          "11 - 20",
          "21 - 30",
          "0 - 10",
          "21 - 30",
          "11 - 20",
          "61 - 70",
          "71 - 80",
          "41 - 50",
          "71 - 80",
          "11 - 20",
          "51 - 60",
          "11 - 20",
          "51 - 60",
          "31 - 40",
          "11 - 20",
          "91 - 100",
          "0 - 10",
          "0 - 10",
          "11 - 20",
          "31 - 40",
          "11 - 20",
          "71 - 80",
          "0 - 10",
          "71 - 80",
          "11 - 20",
          "91 - 100",
          "31 - 40",
          "61 - 70",
          "61 - 70",
          "21 - 30",
          "51 - 60",
          "0 - 10",
          "0 - 10",
          "91 - 100",
          "51 - 60",
          "21 - 30",
          "91 - 100",
          "11 - 20",
          "11 - 20",
          "71 - 80",
          "0 - 10",
          "51 - 60",
          "21 - 30",
          "71 - 80",
          "61 - 70",
          "51 - 60",
          "41 - 50",
          "41 - 50",
          "0 - 10",
          "0 - 10",
          "0 - 10",
          "0 - 10",
          "61 - 70",
          "91 - 100",
          "81 - 90",
          "61 - 70",
          "21 - 30",
          "61 - 70",
          "31 - 40",
          "81 - 90",
          "21 - 30",
          "21 - 30",
          "0 - 10",
          "31 - 40",
          "0 - 10",
          "0 - 10",
          "31 - 40",
          "0 - 10",
          "0 - 10",
          "81 - 90",
          "21 - 30",
          "21 - 30",
          "41 - 50",
          "0 - 10",
          "71 - 80",
          "81 - 90",
          "71 - 80",
          "81 - 90",
          "71 - 80",
          "41 - 50",
          "51 - 60",
          "0 - 10",
          "81 - 90",
          "31 - 40",
          "11 - 20",
          "81 - 90",
          "51 - 60",
          "21 - 30",
          "21 - 30",
          "71 - 80",
          "71 - 80",
          "81 - 90",
          "41 - 50",
          "31 - 40",
          "41 - 50",
          "61 - 70",
          "21 - 30",
          "61 - 70",
          "61 - 70",
          "61 - 70",
          "41 - 50",
          "61 - 70",
          "0 - 10",
          "91 - 100",
          "11 - 20",
          "61 - 70",
          "21 - 30",
          "61 - 70",
          "51 - 60",
          "51 - 60",
          "81 - 90",
          "11 - 20",
          "0 - 10",
          "41 - 50",
          "41 - 50",
          "51 - 60",
          "0 - 10",
          "51 - 60",
          "91 - 100",
          "31 - 40",
          "11 - 20",
          "81 - 90",
          "81 - 90",
          "41 - 50",
          "31 - 40",
          "91 - 100",
          "0 - 10",
          "11 - 20",
          "21 - 30",
          "61 - 70",
          "0 - 10",
          "21 - 30",
          "21 - 30",
          "41 - 50",
          "51 - 60",
          "11 - 20",
          "31 - 40",
          "51 - 60",
          "0 - 10",
          "51 - 60",
          "91 - 100",
          "0 - 10",
          "31 - 40",
          "31 - 40",
          "51 - 60",
          "11 - 20",
          "21 - 30",
          "81 - 90",
          "41 - 50",
          "41 - 50",
          "11 - 20",
          "81 - 90",
          "91 - 100",
          "51 - 60",
          "0 - 10",
          "11 - 20",
          "81 - 90",
          "51 - 60",
          "41 - 50",
          "11 - 20",
          "11 - 20",
          "41 - 50",
          "81 - 90",
          "61 - 70",
          "21 - 30",
          "31 - 40",
          "71 - 80",
          "21 - 30",
          "31 - 40",
          "0 - 10",
          "31 - 40",
          "31 - 40",
          "21 - 30",
          "71 - 80",
          "0 - 10",
          "71 - 80",
          "11 - 20",
          "71 - 80",
          "11 - 20",
          "61 - 70",
          "0 - 10",
          "51 - 60",
          "41 - 50",
          "61 - 70",
          "41 - 50",
          "61 - 70",
          "61 - 70",
          "41 - 50",
          "31 - 40",
          "41 - 50",
          "31 - 40",
          "41 - 50",
          "21 - 30",
          "0 - 10",
          "0 - 10",
          "21 - 30",
          "0 - 10",
          "21 - 30",
          "21 - 30",
          "0 - 10",
          "21 - 30",
          "0 - 10",
          "81 - 90",
          "81 - 90",
          "11 - 20",
          "11 - 20",
          "11 - 20",
          "31 - 40",
          "61 - 70",
          "31 - 40",
          "71 - 80",
          "21 - 30",
          "51 - 60",
          "21 - 30",
          "71 - 80",
          "0 - 10",
          "71 - 80",
          "41 - 50",
          "81 - 90",
          "61 - 70",
          "81 - 90",
          "71 - 80",
          "21 - 30",
          "41 - 50",
          "0 - 10",
          "31 - 40",
          "0 - 10",
          "31 - 40",
          "21 - 30",
          "41 - 50",
          "41 - 50",
          "71 - 80",
          "0 - 10",
          "21 - 30",
          "31 - 40",
          "51 - 60",
          "0 - 10",
          "11 - 20",
          "41 - 50",
          "31 - 40",
          "21 - 30",
          "61 - 70",
          "41 - 50",
          "61 - 70",
          "31 - 40",
          "31 - 40",
          "41 - 50",
          "61 - 70",
          "21 - 30",
          "41 - 50",
          "41 - 50",
          "81 - 90",
          "21 - 30",
          "51 - 60",
          "91 - 100",
          "51 - 60",
          "21 - 30",
          "61 - 70",
          "71 - 80",
          "21 - 30",
          "0 - 10",
          "81 - 90",
          "91 - 100",
          "71 - 80",
          "41 - 50",
          "41 - 50",
          "31 - 40",
          "71 - 80",
          "51 - 60",
          "0 - 10",
          "0 - 10",
          "11 - 20",
          "81 - 90",
          "0 - 10",
          "11 - 20",
          "0 - 10",
          "61 - 70",
          "21 - 30",
          "41 - 50",
          "21 - 30",
          "0 - 10",
          "21 - 30",
          "61 - 70",
          "11 - 20",
          "91 - 100",
          "41 - 50",
          "0 - 10",
          "51 - 60",
          "41 - 50",
          "31 - 40",
          "71 - 80",
          "91 - 100",
          "91 - 100",
          "11 - 20",
          "41 - 50",
          "91 - 100",
          "11 - 20",
          "81 - 90",
          "81 - 90",
          "61 - 70",
          "21 - 30",
          "31 - 40",
          "21 - 30",
          "71 - 80",
          "11 - 20",
          "81 - 90",
          "51 - 60",
          "41 - 50",
          "0 - 10",
          "81 - 90",
          "71 - 80",
          "11 - 20",
          "11 - 20",
          "41 - 50",
          "21 - 30",
          "11 - 20",
          "61 - 70",
          "71 - 80",
          "71 - 80",
          "61 - 70",
          "31 - 40",
          "0 - 10",
          "51 - 60",
          "0 - 10",
          "41 - 50",
          "11 - 20",
          "31 - 40",
          "51 - 60",
          "41 - 50",
          "21 - 30",
          "61 - 70",
          "21 - 30",
          "71 - 80",
          "21 - 30",
          "71 - 80",
          "71 - 80",
          "21 - 30",
          "11 - 20",
          "0 - 10",
          "61 - 70",
          "81 - 90",
          "21 - 30",
          "41 - 50",
          "41 - 50",
          "21 - 30",
          "0 - 10",
          "0 - 10",
          "11 - 20",
          "81 - 90",
          "51 - 60",
          "71 - 80",
          "31 - 40",
          "71 - 80",
          "41 - 50",
          "41 - 50",
          "0 - 10",
          "11 - 20",
          "41 - 50",
          "11 - 20",
          "61 - 70",
          "81 - 90",
          "31 - 40",
          "11 - 20",
          "0 - 10",
          "61 - 70",
          "0 - 10",
          "11 - 20",
          "0 - 10",
          "0 - 10",
          "71 - 80",
          "21 - 30",
          "51 - 60",
          "21 - 30",
          "61 - 70",
          "61 - 70",
          "21 - 30",
          "0 - 10",
          "21 - 30",
          "51 - 60",
          "71 - 80",
          "11 - 20",
          "31 - 40",
          "91 - 100",
          "31 - 40",
          "21 - 30",
          "0 - 10",
          "31 - 40",
          "0 - 10",
          "51 - 60",
          "41 - 50",
          "41 - 50",
          "11 - 20",
          "41 - 50",
          "91 - 100",
          "0 - 10",
          "0 - 10",
          "51 - 60",
          "11 - 20",
          "11 - 20",
          "41 - 50",
          "51 - 60",
          "11 - 20",
          "0 - 10",
          "41 - 50",
          "51 - 60",
          "51 - 60",
          "81 - 90",
          "0 - 10",
          "0 - 10",
          "51 - 60",
          "11 - 20",
          "31 - 40",
          "71 - 80",
          "61 - 70",
          "71 - 80",
          "31 - 40",
          "71 - 80",
          "61 - 70",
          "0 - 10",
          "21 - 30",
          "61 - 70",
          "61 - 70",
          "21 - 30",
          "31 - 40",
          "11 - 20",
          "11 - 20",
          "31 - 40",
          "21 - 30",
          "41 - 50",
          "21 - 30",
          "31 - 40",
          "41 - 50",
          "21 - 30",
          "61 - 70",
          "61 - 70",
          "21 - 30",
          "31 - 40",
          "71 - 80",
          "31 - 40",
          "31 - 40",
          "11 - 20",
          "31 - 40",
          "21 - 30",
          "91 - 100",
          "71 - 80",
          "31 - 40",
          "21 - 30",
          "0 - 10",
          "31 - 40",
          "71 - 80",
          "41 - 50",
          "41 - 50",
          "31 - 40",
          "0 - 10",
          "31 - 40",
          "31 - 40",
          "41 - 50",
          "71 - 80",
          "71 - 80",
          "31 - 40",
          "81 - 90",
          "51 - 60",
          "0 - 10",
          "11 - 20",
          "11 - 20",
          "11 - 20",
          "51 - 60",
          "51 - 60",
          "71 - 80",
          "0 - 10",
          "71 - 80",
          "31 - 40",
          "0 - 10",
          "71 - 80",
          "0 - 10",
          "71 - 80",
          "31 - 40",
          "71 - 80",
          "21 - 30",
          "31 - 40",
          "71 - 80",
          "91 - 100",
          "91 - 100",
          "71 - 80",
          "91 - 100",
          "11 - 20",
          "21 - 30",
          "81 - 90",
          "51 - 60",
          "81 - 90",
          "81 - 90",
          "0 - 10",
          "81 - 90",
          "0 - 10",
          "21 - 30",
          "61 - 70",
          "81 - 90",
          "71 - 80",
          "51 - 60",
          "21 - 30",
          "31 - 40",
          "71 - 80",
          "31 - 40",
          "91 - 100",
          "41 - 50",
          "91 - 100",
          "31 - 40",
          "61 - 70",
          "91 - 100",
          "51 - 60",
          "81 - 90",
          "81 - 90",
          "61 - 70",
          "51 - 60",
          "51 - 60",
          "81 - 90",
          "61 - 70",
          "81 - 90",
          "51 - 60",
          "81 - 90",
          "61 - 70",
          "81 - 90",
          "91 - 100",
          "71 - 80",
          "51 - 60",
          "61 - 70",
          "51 - 60",
          "51 - 60",
          "51 - 60",
          "21 - 30",
          "11 - 20",
          "21 - 30",
          "31 - 40",
          "11 - 20",
          "11 - 20",
          "31 - 40",
          "31 - 40",
          "0 - 10",
          "21 - 30",
          "51 - 60",
          "41 - 50",
          "41 - 50",
          "0 - 10",
          "81 - 90",
          "81 - 90",
          "21 - 30",
          "11 - 20",
          "31 - 40",
          "71 - 80",
          "91 - 100",
          "0 - 10",
          "11 - 20",
          "11 - 20",
          "0 - 10",
          "0 - 10",
          "31 - 40",
          "61 - 70",
          "31 - 40",
          "51 - 60",
          "91 - 100",
          "11 - 20",
          "21 - 30",
          "61 - 70",
          "61 - 70",
          "61 - 70",
          "51 - 60",
          "31 - 40",
          "91 - 100",
          "91 - 100",
          "61 - 70",
          "71 - 80",
          "51 - 60",
          "61 - 70",
          "71 - 80",
          "71 - 80",
          "31 - 40",
          "61 - 70",
          "31 - 40",
          "61 - 70",
          "61 - 70",
          "61 - 70",
          "41 - 50",
          "61 - 70",
          "41 - 50",
          "41 - 50",
          "71 - 80",
          "31 - 40",
          "51 - 60",
          "91 - 100",
          "91 - 100",
          "91 - 100",
          "81 - 90",
          "11 - 20",
          "81 - 90",
          "81 - 90",
          "81 - 90",
          "91 - 100",
          "81 - 90",
          "11 - 20",
          "81 - 90",
          "81 - 90",
          "81 - 90",
          "51 - 60",
          "31 - 40",
          "11 - 20",
          "61 - 70",
          "11 - 20",
          "61 - 70",
          "31 - 40",
          "31 - 40",
          "11 - 20",
          "11 - 20",
          "31 - 40",
          "61 - 70",
          "51 - 60",
          "41 - 50",
          "41 - 50",
          "51 - 60",
          "21 - 30",
          "81 - 90",
          "71 - 80",
          "41 - 50",
          "11 - 20",
          "51 - 60",
          "51 - 60",
          "61 - 70",
          "61 - 70",
          "21 - 30",
          "61 - 70",
          "0 - 10",
          "91 - 100",
          "91 - 100",
          "0 - 10",
          "91 - 100",
          "91 - 100",
          "61 - 70",
          "91 - 100",
          "0 - 10",
          "71 - 80",
          "31 - 40",
          "31 - 40",
          "81 - 90",
          "21 - 30",
          "71 - 80",
          "71 - 80",
          "81 - 90",
          "21 - 30",
          "81 - 90",
          "21 - 30",
          "71 - 80",
          "71 - 80",
          "31 - 40",
          "31 - 40",
          "11 - 20",
          "71 - 80",
          "81 - 90",
          "31 - 40",
          "71 - 80",
          "61 - 70",
          "81 - 90",
          "61 - 70",
          "71 - 80",
          "71 - 80",
          "0 - 10",
          "41 - 50",
          "41 - 50",
          "41 - 50",
          "51 - 60",
          "41 - 50",
          "51 - 60",
          "41 - 50",
          "41 - 50",
          "91 - 100",
          "91 - 100",
          "91 - 100",
          "41 - 50",
          "61 - 70",
          "61 - 70",
          "11 - 20",
          "31 - 40",
          "91 - 100",
          "31 - 40",
          "41 - 50",
          "0 - 10",
          "11 - 20",
          "81 - 90",
          "91 - 100",
          "0 - 10",
          "71 - 80",
          "31 - 40",
          "91 - 100",
          "31 - 40",
          "11 - 20",
          "11 - 20",
          "31 - 40",
          "51 - 60",
          "81 - 90",
          "0 - 10",
          "81 - 90",
          "41 - 50",
          "21 - 30",
          "31 - 40",
          "11 - 20",
          "21 - 30",
          "41 - 50",
          "31 - 40",
          "21 - 30",
          "31 - 40",
          "21 - 30",
          "91 - 100",
          "91 - 100",
          "91 - 100",
          "11 - 20",
          "0 - 10",
          "81 - 90",
          "51 - 60",
          "11 - 20",
          "0 - 10",
          "0 - 10",
          "91 - 100",
          "11 - 20",
          "91 - 100",
          "41 - 50",
          "51 - 60",
          "51 - 60",
          "41 - 50",
          "51 - 60",
          "21 - 30",
          "91 - 100",
          "11 - 20",
          "81 - 90",
          "21 - 30",
          "31 - 40",
          "11 - 20",
          "41 - 50",
          "51 - 60",
          "71 - 80",
          "81 - 90",
          "61 - 70",
          "21 - 30",
          "31 - 40",
          "61 - 70",
          "41 - 50",
          "41 - 50",
          "51 - 60",
          "0 - 10",
          "81 - 90",
          "0 - 10",
          "41 - 50",
          "41 - 50",
          "41 - 50",
          "51 - 60",
          "81 - 90",
          "21 - 30",
          "61 - 70",
          "31 - 40",
          "61 - 70",
          "51 - 60",
          "81 - 90",
          "41 - 50",
          "71 - 80",
          "51 - 60",
          "31 - 40",
          "51 - 60",
          "81 - 90",
          "51 - 60",
          "91 - 100",
          "51 - 60",
          "71 - 80",
          "61 - 70",
          "21 - 30",
          "51 - 60",
          "31 - 40",
          "41 - 50",
          "61 - 70",
          "0 - 10",
          "41 - 50",
          "81 - 90",
          "11 - 20",
          "31 - 40",
          "61 - 70",
          "11 - 20",
          "81 - 90",
          "51 - 60",
          "21 - 30",
          "21 - 30",
          "51 - 60",
          "51 - 60",
          "81 - 90",
          "81 - 90",
          "81 - 90",
          "11 - 20",
          "81 - 90",
          "61 - 70",
          "21 - 30",
          "41 - 50",
          "21 - 30",
          "61 - 70",
          "61 - 70",
          "51 - 60",
          "71 - 80",
          "71 - 80",
          "41 - 50",
          "21 - 30",
          "91 - 100",
          "61 - 70",
          "51 - 60",
          "91 - 100",
          "11 - 20",
          "71 - 80",
          "61 - 70",
          "21 - 30",
          "31 - 40",
          "81 - 90",
          "21 - 30",
          "11 - 20",
          "51 - 60",
          "11 - 20",
          "61 - 70",
          "21 - 30",
          "81 - 90",
          "91 - 100",
          "11 - 20",
          "71 - 80",
          "0 - 10",
          "81 - 90",
          "71 - 80",
          "71 - 80",
          "0 - 10",
          "51 - 60",
          "21 - 30",
          "21 - 30",
          "41 - 50",
          "41 - 50",
          "41 - 50",
          "91 - 100",
          "21 - 30",
          "91 - 100",
          "11 - 20",
          "61 - 70",
          "51 - 60",
          "61 - 70",
          "31 - 40",
          "31 - 40",
          "31 - 40",
          "91 - 100",
          "91 - 100",
          "51 - 60",
          "51 - 60",
          "81 - 90",
          "61 - 70",
          "91 - 100",
          "61 - 70",
          "91 - 100",
          "81 - 90",
          "11 - 20",
          "91 - 100",
          "91 - 100",
          "21 - 30",
          "51 - 60",
          "81 - 90",
          "91 - 100",
          "91 - 100",
          "71 - 80",
          "61 - 70",
          "51 - 60",
          "61 - 70",
          "71 - 80",
          "0 - 10",
          "61 - 70",
          "31 - 40",
          "91 - 100",
          "51 - 60",
          "0 - 10",
          "71 - 80",
          "41 - 50",
          "91 - 100",
          "91 - 100",
          "0 - 10",
          "11 - 20",
          "51 - 60",
          "81 - 90",
          "91 - 100",
          "21 - 30",
          "51 - 60",
          "91 - 100",
          "51 - 60",
          "11 - 20",
          "21 - 30",
          "0 - 10",
          "0 - 10",
          "71 - 80",
          "61 - 70",
          "51 - 60",
          "81 - 90",
          "81 - 90",
          "31 - 40",
          "71 - 80",
          "41 - 50",
          "11 - 20",
          "71 - 80",
          "71 - 80",
          "0 - 10",
          "21 - 30",
          "71 - 80",
          "41 - 50",
          "71 - 80",
          "41 - 50",
          "51 - 60",
          "31 - 40",
          "41 - 50",
          "21 - 30",
          "21 - 30",
          "21 - 30",
          "51 - 60",
          "41 - 50",
          "91 - 100",
          "51 - 60",
          "81 - 90",
          "61 - 70",
          "51 - 60",
          "81 - 90",
          "81 - 90",
          "51 - 60",
          "91 - 100",
          "0 - 10",
          "41 - 50",
          "41 - 50",
          "11 - 20",
          "0 - 10",
          "41 - 50",
          "0 - 10",
          "91 - 100",
          "0 - 10",
          "21 - 30",
          "71 - 80",
          "91 - 100",
          "61 - 70",
          "51 - 60",
          "71 - 80",
          "81 - 90",
          "91 - 100",
          "81 - 90",
          "21 - 30",
          "0 - 10",
          "11 - 20",
          "41 - 50",
          "91 - 100",
          "91 - 100",
          "41 - 50",
          "11 - 20",
          "71 - 80",
          "31 - 40",
          "91 - 100",
          "81 - 90",
          "21 - 30",
          "41 - 50",
          "61 - 70",
          "71 - 80",
          "91 - 100",
          "21 - 30",
          "61 - 70",
          "51 - 60",
          "81 - 90",
          "71 - 80",
          "0 - 10",
          "11 - 20",
          "31 - 40",
          "31 - 40",
          "51 - 60",
          "0 - 10",
          "71 - 80",
          "51 - 60",
          "61 - 70",
          "71 - 80",
          "11 - 20",
          "71 - 80",
          "11 - 20",
          "71 - 80",
          "11 - 20",
          "81 - 90",
          "21 - 30",
          "61 - 70",
          "21 - 30",
          "41 - 50",
          "61 - 70",
          "51 - 60",
          "91 - 100",
          "51 - 60",
          "51 - 60",
          "61 - 70",
          "61 - 70",
          "0 - 10",
          "71 - 80",
          "71 - 80",
          "31 - 40",
          "21 - 30",
          "41 - 50",
          "91 - 100",
          "71 - 80",
          "41 - 50",
          "81 - 90",
          "51 - 60",
          "31 - 40",
          "71 - 80",
          "61 - 70",
          "91 - 100",
          "31 - 40",
          "91 - 100",
          "31 - 40",
          "91 - 100",
          "91 - 100",
          "0 - 10",
          "11 - 20",
          "21 - 30",
          "61 - 70",
          "81 - 90",
          "61 - 70",
          "61 - 70",
          "11 - 20",
          "41 - 50",
          "51 - 60",
          "81 - 90",
          "11 - 20",
          "81 - 90",
          "91 - 100",
          "61 - 70",
          "91 - 100",
          "51 - 60",
          "71 - 80",
          "41 - 50",
          "71 - 80",
          "91 - 100",
          "81 - 90",
          "11 - 20",
          "41 - 50",
          "0 - 10",
          "51 - 60",
          "11 - 20",
          "81 - 90",
          "71 - 80",
          "0 - 10",
          "11 - 20",
          "91 - 100",
          "61 - 70",
          "61 - 70",
          "61 - 70",
          "41 - 50",
          "91 - 100",
          "81 - 90",
          "81 - 90",
          "61 - 70",
          "0 - 10",
          "71 - 80",
          "81 - 90",
          "51 - 60",
          "51 - 60",
          "81 - 90",
          "81 - 90",
          "61 - 70",
          "81 - 90",
          "81 - 90",
          "41 - 50",
          "51 - 60",
          "91 - 100",
          "81 - 90",
          "11 - 20",
          "51 - 60",
          "71 - 80",
          "51 - 60",
          "31 - 40",
          "41 - 50",
          "71 - 80",
          "41 - 50",
          "51 - 60",
          "71 - 80",
          "81 - 90",
          "41 - 50",
          "71 - 80",
          "81 - 90",
          "31 - 40",
          "91 - 100",
          "91 - 100",
          "61 - 70",
          "51 - 60",
          "41 - 50",
          "61 - 70",
          "61 - 70",
          "61 - 70",
          "51 - 60",
          "0 - 10",
          "61 - 70",
          "81 - 90",
          "81 - 90",
          "61 - 70",
          "71 - 80",
          "91 - 100",
          "31 - 40",
          "11 - 20",
          "71 - 80",
          "91 - 100",
          "91 - 100",
          "0 - 10",
          "0 - 10",
          "51 - 60",
          "41 - 50",
          "51 - 60",
          "61 - 70",
          "31 - 40",
          "21 - 30",
          "81 - 90",
          "91 - 100",
          "31 - 40",
          "11 - 20",
          "61 - 70",
          "71 - 80",
          "21 - 30",
          "31 - 40",
          "21 - 30",
          "41 - 50",
          "61 - 70",
          "81 - 90",
          "61 - 70",
          "0 - 10",
          "61 - 70",
          "31 - 40",
          "61 - 70",
          "81 - 90",
          "61 - 70",
          "11 - 20",
          "61 - 70",
          "51 - 60",
          "61 - 70",
          "91 - 100",
          "0 - 10",
          "91 - 100",
          "81 - 90",
          "91 - 100",
          "91 - 100",
          "21 - 30",
          "71 - 80",
          "21 - 30",
          "61 - 70",
          "41 - 50",
          "41 - 50",
          "51 - 60",
          "81 - 90",
          "41 - 50",
          "41 - 50",
          "61 - 70",
          "91 - 100",
          "91 - 100",
          "0 - 10",
          "41 - 50",
          "41 - 50",
          "61 - 70",
          "91 - 100",
          "31 - 40",
          "61 - 70",
          "61 - 70",
          "61 - 70",
          "41 - 50",
          "81 - 90",
          "91 - 100",
          "81 - 90",
          "81 - 90",
          "41 - 50",
          "21 - 30",
          "81 - 90",
          "41 - 50",
          "11 - 20",
          "11 - 20",
          "41 - 50",
          "71 - 80",
          "41 - 50",
          "71 - 80",
          "21 - 30",
          "61 - 70",
          "81 - 90",
          "21 - 30",
          "51 - 60",
          "41 - 50",
          "0 - 10",
          "91 - 100",
          "71 - 80",
          "91 - 100",
          "21 - 30",
          "61 - 70",
          "0 - 10",
          "0 - 10",
          "71 - 80",
          "51 - 60",
          "61 - 70",
          "31 - 40",
          "51 - 60",
          "71 - 80",
          "81 - 90",
          "91 - 100",
          "81 - 90",
          "81 - 90",
          "41 - 50",
          "81 - 90",
          "41 - 50",
          "0 - 10",
          "0 - 10",
          "0 - 10",
          "71 - 80",
          "41 - 50",
          "91 - 100",
          "31 - 40",
          "0 - 10",
          "71 - 80",
          "61 - 70",
          "81 - 90",
          "81 - 90",
          "51 - 60",
          "91 - 100",
          "81 - 90",
          "91 - 100",
          "61 - 70",
          "91 - 100",
          "91 - 100",
          "91 - 100",
          "41 - 50",
          "71 - 80",
          "71 - 80",
          "71 - 80",
          "81 - 90",
          "91 - 100",
          "71 - 80",
          "11 - 20",
          "91 - 100",
          "81 - 90",
          "51 - 60",
          "31 - 40",
          "91 - 100",
          "91 - 100",
          "41 - 50",
          "31 - 40",
          "51 - 60",
          "11 - 20",
          "11 - 20",
          "21 - 30",
          "71 - 80",
          "61 - 70",
          "61 - 70",
          "51 - 60",
          "51 - 60",
          "11 - 20",
          "61 - 70",
          "21 - 30",
          "81 - 90",
          "81 - 90",
          "71 - 80",
          "41 - 50",
          "21 - 30",
          "31 - 40",
          "81 - 90",
          "11 - 20",
          "91 - 100",
          "71 - 80",
          "51 - 60",
          "51 - 60",
          "61 - 70",
          "61 - 70",
          "91 - 100",
          "81 - 90",
          "71 - 80",
          "81 - 90",
          "0 - 10",
          "81 - 90",
          "0 - 10",
          "91 - 100",
          "61 - 70",
          "91 - 100",
          "91 - 100",
          "91 - 100",
          "81 - 90",
          "91 - 100",
          "81 - 90",
          "21 - 30",
          "61 - 70",
          "71 - 80",
          "81 - 90",
          "81 - 90",
          "11 - 20",
          "61 - 70",
          "51 - 60",
          "11 - 20",
          "81 - 90",
          "0 - 10",
          "81 - 90",
          "41 - 50",
          "71 - 80",
          "21 - 30",
          "41 - 50",
          "51 - 60",
          "21 - 30",
          "81 - 90",
          "71 - 80",
          "51 - 60",
          "91 - 100",
          "61 - 70",
          "81 - 90",
          "31 - 40",
          "71 - 80",
          "41 - 50",
          "81 - 90",
          "61 - 70",
          "41 - 50",
          "21 - 30",
          "81 - 90",
          "91 - 100",
          "71 - 80",
          "61 - 70",
          "21 - 30",
          "31 - 40",
          "31 - 40",
          "61 - 70",
          "51 - 60",
          "81 - 90",
          "31 - 40",
          "91 - 100",
          "41 - 50",
          "71 - 80",
          "81 - 90",
          "31 - 40",
          "21 - 30",
          "81 - 90",
          "81 - 90",
          "61 - 70",
          "71 - 80",
          "71 - 80",
          "51 - 60",
          "71 - 80",
          "91 - 100",
          "81 - 90",
          "11 - 20",
          "0 - 10",
          "31 - 40",
          "31 - 40",
          "81 - 90",
          "71 - 80",
          "71 - 80",
          "11 - 20",
          "71 - 80",
          "91 - 100",
          "51 - 60",
          "91 - 100",
          "71 - 80",
          "71 - 80",
          "71 - 80",
          "91 - 100",
          "91 - 100",
          "81 - 90",
          "41 - 50",
          "61 - 70",
          "91 - 100",
          "51 - 60",
          "81 - 90",
          "71 - 80",
          "61 - 70"
         ],
         "yaxis": "y"
        }
       ],
       "layout": {
        "legend": {
         "tracegroupgap": 0
        },
        "margin": {
         "t": 60
        },
        "template": {
         "data": {
          "bar": [
           {
            "error_x": {
             "color": "#f2f5fa"
            },
            "error_y": {
             "color": "#f2f5fa"
            },
            "marker": {
             "line": {
              "color": "rgb(17,17,17)",
              "width": 0.5
             },
             "pattern": {
              "fillmode": "overlay",
              "size": 10,
              "solidity": 0.2
             }
            },
            "type": "bar"
           }
          ],
          "barpolar": [
           {
            "marker": {
             "line": {
              "color": "rgb(17,17,17)",
              "width": 0.5
             },
             "pattern": {
              "fillmode": "overlay",
              "size": 10,
              "solidity": 0.2
             }
            },
            "type": "barpolar"
           }
          ],
          "carpet": [
           {
            "aaxis": {
             "endlinecolor": "#A2B1C6",
             "gridcolor": "#506784",
             "linecolor": "#506784",
             "minorgridcolor": "#506784",
             "startlinecolor": "#A2B1C6"
            },
            "baxis": {
             "endlinecolor": "#A2B1C6",
             "gridcolor": "#506784",
             "linecolor": "#506784",
             "minorgridcolor": "#506784",
             "startlinecolor": "#A2B1C6"
            },
            "type": "carpet"
           }
          ],
          "choropleth": [
           {
            "colorbar": {
             "outlinewidth": 0,
             "ticks": ""
            },
            "type": "choropleth"
           }
          ],
          "contour": [
           {
            "colorbar": {
             "outlinewidth": 0,
             "ticks": ""
            },
            "colorscale": [
             [
              0,
              "#0d0887"
             ],
             [
              0.1111111111111111,
              "#46039f"
             ],
             [
              0.2222222222222222,
              "#7201a8"
             ],
             [
              0.3333333333333333,
              "#9c179e"
             ],
             [
              0.4444444444444444,
              "#bd3786"
             ],
             [
              0.5555555555555556,
              "#d8576b"
             ],
             [
              0.6666666666666666,
              "#ed7953"
             ],
             [
              0.7777777777777778,
              "#fb9f3a"
             ],
             [
              0.8888888888888888,
              "#fdca26"
             ],
             [
              1,
              "#f0f921"
             ]
            ],
            "type": "contour"
           }
          ],
          "contourcarpet": [
           {
            "colorbar": {
             "outlinewidth": 0,
             "ticks": ""
            },
            "type": "contourcarpet"
           }
          ],
          "heatmap": [
           {
            "colorbar": {
             "outlinewidth": 0,
             "ticks": ""
            },
            "colorscale": [
             [
              0,
              "#0d0887"
             ],
             [
              0.1111111111111111,
              "#46039f"
             ],
             [
              0.2222222222222222,
              "#7201a8"
             ],
             [
              0.3333333333333333,
              "#9c179e"
             ],
             [
              0.4444444444444444,
              "#bd3786"
             ],
             [
              0.5555555555555556,
              "#d8576b"
             ],
             [
              0.6666666666666666,
              "#ed7953"
             ],
             [
              0.7777777777777778,
              "#fb9f3a"
             ],
             [
              0.8888888888888888,
              "#fdca26"
             ],
             [
              1,
              "#f0f921"
             ]
            ],
            "type": "heatmap"
           }
          ],
          "heatmapgl": [
           {
            "colorbar": {
             "outlinewidth": 0,
             "ticks": ""
            },
            "colorscale": [
             [
              0,
              "#0d0887"
             ],
             [
              0.1111111111111111,
              "#46039f"
             ],
             [
              0.2222222222222222,
              "#7201a8"
             ],
             [
              0.3333333333333333,
              "#9c179e"
             ],
             [
              0.4444444444444444,
              "#bd3786"
             ],
             [
              0.5555555555555556,
              "#d8576b"
             ],
             [
              0.6666666666666666,
              "#ed7953"
             ],
             [
              0.7777777777777778,
              "#fb9f3a"
             ],
             [
              0.8888888888888888,
              "#fdca26"
             ],
             [
              1,
              "#f0f921"
             ]
            ],
            "type": "heatmapgl"
           }
          ],
          "histogram": [
           {
            "marker": {
             "pattern": {
              "fillmode": "overlay",
              "size": 10,
              "solidity": 0.2
             }
            },
            "type": "histogram"
           }
          ],
          "histogram2d": [
           {
            "colorbar": {
             "outlinewidth": 0,
             "ticks": ""
            },
            "colorscale": [
             [
              0,
              "#0d0887"
             ],
             [
              0.1111111111111111,
              "#46039f"
             ],
             [
              0.2222222222222222,
              "#7201a8"
             ],
             [
              0.3333333333333333,
              "#9c179e"
             ],
             [
              0.4444444444444444,
              "#bd3786"
             ],
             [
              0.5555555555555556,
              "#d8576b"
             ],
             [
              0.6666666666666666,
              "#ed7953"
             ],
             [
              0.7777777777777778,
              "#fb9f3a"
             ],
             [
              0.8888888888888888,
              "#fdca26"
             ],
             [
              1,
              "#f0f921"
             ]
            ],
            "type": "histogram2d"
           }
          ],
          "histogram2dcontour": [
           {
            "colorbar": {
             "outlinewidth": 0,
             "ticks": ""
            },
            "colorscale": [
             [
              0,
              "#0d0887"
             ],
             [
              0.1111111111111111,
              "#46039f"
             ],
             [
              0.2222222222222222,
              "#7201a8"
             ],
             [
              0.3333333333333333,
              "#9c179e"
             ],
             [
              0.4444444444444444,
              "#bd3786"
             ],
             [
              0.5555555555555556,
              "#d8576b"
             ],
             [
              0.6666666666666666,
              "#ed7953"
             ],
             [
              0.7777777777777778,
              "#fb9f3a"
             ],
             [
              0.8888888888888888,
              "#fdca26"
             ],
             [
              1,
              "#f0f921"
             ]
            ],
            "type": "histogram2dcontour"
           }
          ],
          "mesh3d": [
           {
            "colorbar": {
             "outlinewidth": 0,
             "ticks": ""
            },
            "type": "mesh3d"
           }
          ],
          "parcoords": [
           {
            "line": {
             "colorbar": {
              "outlinewidth": 0,
              "ticks": ""
             }
            },
            "type": "parcoords"
           }
          ],
          "pie": [
           {
            "automargin": true,
            "type": "pie"
           }
          ],
          "scatter": [
           {
            "marker": {
             "line": {
              "color": "#283442"
             }
            },
            "type": "scatter"
           }
          ],
          "scatter3d": [
           {
            "line": {
             "colorbar": {
              "outlinewidth": 0,
              "ticks": ""
             }
            },
            "marker": {
             "colorbar": {
              "outlinewidth": 0,
              "ticks": ""
             }
            },
            "type": "scatter3d"
           }
          ],
          "scattercarpet": [
           {
            "marker": {
             "colorbar": {
              "outlinewidth": 0,
              "ticks": ""
             }
            },
            "type": "scattercarpet"
           }
          ],
          "scattergeo": [
           {
            "marker": {
             "colorbar": {
              "outlinewidth": 0,
              "ticks": ""
             }
            },
            "type": "scattergeo"
           }
          ],
          "scattergl": [
           {
            "marker": {
             "line": {
              "color": "#283442"
             }
            },
            "type": "scattergl"
           }
          ],
          "scattermapbox": [
           {
            "marker": {
             "colorbar": {
              "outlinewidth": 0,
              "ticks": ""
             }
            },
            "type": "scattermapbox"
           }
          ],
          "scatterpolar": [
           {
            "marker": {
             "colorbar": {
              "outlinewidth": 0,
              "ticks": ""
             }
            },
            "type": "scatterpolar"
           }
          ],
          "scatterpolargl": [
           {
            "marker": {
             "colorbar": {
              "outlinewidth": 0,
              "ticks": ""
             }
            },
            "type": "scatterpolargl"
           }
          ],
          "scatterternary": [
           {
            "marker": {
             "colorbar": {
              "outlinewidth": 0,
              "ticks": ""
             }
            },
            "type": "scatterternary"
           }
          ],
          "surface": [
           {
            "colorbar": {
             "outlinewidth": 0,
             "ticks": ""
            },
            "colorscale": [
             [
              0,
              "#0d0887"
             ],
             [
              0.1111111111111111,
              "#46039f"
             ],
             [
              0.2222222222222222,
              "#7201a8"
             ],
             [
              0.3333333333333333,
              "#9c179e"
             ],
             [
              0.4444444444444444,
              "#bd3786"
             ],
             [
              0.5555555555555556,
              "#d8576b"
             ],
             [
              0.6666666666666666,
              "#ed7953"
             ],
             [
              0.7777777777777778,
              "#fb9f3a"
             ],
             [
              0.8888888888888888,
              "#fdca26"
             ],
             [
              1,
              "#f0f921"
             ]
            ],
            "type": "surface"
           }
          ],
          "table": [
           {
            "cells": {
             "fill": {
              "color": "#506784"
             },
             "line": {
              "color": "rgb(17,17,17)"
             }
            },
            "header": {
             "fill": {
              "color": "#2a3f5f"
             },
             "line": {
              "color": "rgb(17,17,17)"
             }
            },
            "type": "table"
           }
          ]
         },
         "layout": {
          "annotationdefaults": {
           "arrowcolor": "#f2f5fa",
           "arrowhead": 0,
           "arrowwidth": 1
          },
          "autotypenumbers": "strict",
          "coloraxis": {
           "colorbar": {
            "outlinewidth": 0,
            "ticks": ""
           }
          },
          "colorscale": {
           "diverging": [
            [
             0,
             "#8e0152"
            ],
            [
             0.1,
             "#c51b7d"
            ],
            [
             0.2,
             "#de77ae"
            ],
            [
             0.3,
             "#f1b6da"
            ],
            [
             0.4,
             "#fde0ef"
            ],
            [
             0.5,
             "#f7f7f7"
            ],
            [
             0.6,
             "#e6f5d0"
            ],
            [
             0.7,
             "#b8e186"
            ],
            [
             0.8,
             "#7fbc41"
            ],
            [
             0.9,
             "#4d9221"
            ],
            [
             1,
             "#276419"
            ]
           ],
           "sequential": [
            [
             0,
             "#0d0887"
            ],
            [
             0.1111111111111111,
             "#46039f"
            ],
            [
             0.2222222222222222,
             "#7201a8"
            ],
            [
             0.3333333333333333,
             "#9c179e"
            ],
            [
             0.4444444444444444,
             "#bd3786"
            ],
            [
             0.5555555555555556,
             "#d8576b"
            ],
            [
             0.6666666666666666,
             "#ed7953"
            ],
            [
             0.7777777777777778,
             "#fb9f3a"
            ],
            [
             0.8888888888888888,
             "#fdca26"
            ],
            [
             1,
             "#f0f921"
            ]
           ],
           "sequentialminus": [
            [
             0,
             "#0d0887"
            ],
            [
             0.1111111111111111,
             "#46039f"
            ],
            [
             0.2222222222222222,
             "#7201a8"
            ],
            [
             0.3333333333333333,
             "#9c179e"
            ],
            [
             0.4444444444444444,
             "#bd3786"
            ],
            [
             0.5555555555555556,
             "#d8576b"
            ],
            [
             0.6666666666666666,
             "#ed7953"
            ],
            [
             0.7777777777777778,
             "#fb9f3a"
            ],
            [
             0.8888888888888888,
             "#fdca26"
            ],
            [
             1,
             "#f0f921"
            ]
           ]
          },
          "colorway": [
           "#636efa",
           "#EF553B",
           "#00cc96",
           "#ab63fa",
           "#FFA15A",
           "#19d3f3",
           "#FF6692",
           "#B6E880",
           "#FF97FF",
           "#FECB52"
          ],
          "font": {
           "color": "#f2f5fa"
          },
          "geo": {
           "bgcolor": "rgb(17,17,17)",
           "lakecolor": "rgb(17,17,17)",
           "landcolor": "rgb(17,17,17)",
           "showlakes": true,
           "showland": true,
           "subunitcolor": "#506784"
          },
          "hoverlabel": {
           "align": "left"
          },
          "hovermode": "closest",
          "mapbox": {
           "style": "dark"
          },
          "paper_bgcolor": "rgb(17,17,17)",
          "plot_bgcolor": "rgb(17,17,17)",
          "polar": {
           "angularaxis": {
            "gridcolor": "#506784",
            "linecolor": "#506784",
            "ticks": ""
           },
           "bgcolor": "rgb(17,17,17)",
           "radialaxis": {
            "gridcolor": "#506784",
            "linecolor": "#506784",
            "ticks": ""
           }
          },
          "scene": {
           "xaxis": {
            "backgroundcolor": "rgb(17,17,17)",
            "gridcolor": "#506784",
            "gridwidth": 2,
            "linecolor": "#506784",
            "showbackground": true,
            "ticks": "",
            "zerolinecolor": "#C8D4E3"
           },
           "yaxis": {
            "backgroundcolor": "rgb(17,17,17)",
            "gridcolor": "#506784",
            "gridwidth": 2,
            "linecolor": "#506784",
            "showbackground": true,
            "ticks": "",
            "zerolinecolor": "#C8D4E3"
           },
           "zaxis": {
            "backgroundcolor": "rgb(17,17,17)",
            "gridcolor": "#506784",
            "gridwidth": 2,
            "linecolor": "#506784",
            "showbackground": true,
            "ticks": "",
            "zerolinecolor": "#C8D4E3"
           }
          },
          "shapedefaults": {
           "line": {
            "color": "#f2f5fa"
           }
          },
          "sliderdefaults": {
           "bgcolor": "#C8D4E3",
           "bordercolor": "rgb(17,17,17)",
           "borderwidth": 1,
           "tickwidth": 0
          },
          "ternary": {
           "aaxis": {
            "gridcolor": "#506784",
            "linecolor": "#506784",
            "ticks": ""
           },
           "baxis": {
            "gridcolor": "#506784",
            "linecolor": "#506784",
            "ticks": ""
           },
           "bgcolor": "rgb(17,17,17)",
           "caxis": {
            "gridcolor": "#506784",
            "linecolor": "#506784",
            "ticks": ""
           }
          },
          "title": {
           "x": 0.05
          },
          "updatemenudefaults": {
           "bgcolor": "#506784",
           "borderwidth": 0
          },
          "xaxis": {
           "automargin": true,
           "gridcolor": "#283442",
           "linecolor": "#506784",
           "ticks": "",
           "title": {
            "standoff": 15
           },
           "zerolinecolor": "#283442",
           "zerolinewidth": 2
          },
          "yaxis": {
           "automargin": true,
           "gridcolor": "#283442",
           "linecolor": "#506784",
           "ticks": "",
           "title": {
            "standoff": 15
           },
           "zerolinecolor": "#283442",
           "zerolinewidth": 2
          }
         }
        },
        "title": {
         "text": "Popularity vs Chart Power"
        },
        "xaxis": {
         "anchor": "y",
         "domain": [
          0,
          1
         ],
         "title": {
          "text": "Popularity"
         }
        },
        "yaxis": {
         "anchor": "x",
         "categoryarray": [
          "0 - 10",
          "11 - 20",
          "21 - 30",
          "31 - 40",
          "41 - 50",
          "51 - 60",
          "61 - 70",
          "71 - 80",
          "81 - 90",
          "91 - 100"
         ],
         "categoryorder": "array",
         "domain": [
          0,
          1
         ],
         "title": {
          "text": "Chart Power"
         }
        }
       }
      }
     },
     "metadata": {},
     "output_type": "display_data"
    }
   ],
   "source": [
    "fig = px.scatter(df_found_copy, x=\"popularity_percentile\", y=\"chart_power_percentile\")\n",
    "fig.update_yaxes(categoryorder=\"array\", categoryarray=labels)\n",
    "fig.update_layout(\n",
    "    title=\"Popularity vs Chart Power\",\n",
    "    template=\"plotly_dark\",\n",
    "    xaxis_title=\"Popularity\",\n",
    "    yaxis_title=\"Chart Power\"\n",
    ")\n",
    "fig.show()"
   ]
  },
  {
   "cell_type": "code",
   "execution_count": 179,
   "metadata": {},
   "outputs": [
    {
     "data": {
      "application/vnd.plotly.v1+json": {
       "config": {
        "plotlyServerURL": "https://plot.ly"
       },
       "data": [
        {
         "hovertemplate": "popularity_percentile=%{x}<br>chart_power_percentile=%{y}<br>count=%{marker.size}<extra></extra>",
         "legendgroup": "",
         "marker": {
          "color": "#636efa",
          "size": [
           30,
           30,
           23,
           20,
           14,
           14,
           12,
           13,
           13,
           15,
           29,
           25,
           23,
           28,
           17,
           22,
           9,
           17,
           8,
           7,
           28,
           22,
           20,
           17,
           16,
           18,
           16,
           15,
           15,
           10,
           24,
           16,
           27,
           16,
           27,
           11,
           17,
           18,
           13,
           6,
           22,
           17,
           17,
           25,
           13,
           13,
           12,
           19,
           8,
           8,
           12,
           19,
           11,
           24,
           17,
           21,
           26,
           17,
           25,
           21,
           8,
           14,
           19,
           13,
           17,
           23,
           15,
           9,
           16,
           14,
           16,
           16,
           15,
           10,
           18,
           23,
           20,
           24,
           19,
           29,
           15,
           7,
           9,
           10,
           23,
           15,
           29,
           17,
           27,
           21,
           4,
           9,
           9,
           10,
           9,
           14,
           17,
           24,
           29,
           25
          ],
          "sizemode": "area",
          "sizeref": 0.075,
          "symbol": "circle"
         },
         "mode": "markers",
         "name": "",
         "orientation": "v",
         "showlegend": false,
         "type": "scatter",
         "x": [
          "0 - 10",
          "0 - 10",
          "0 - 10",
          "0 - 10",
          "0 - 10",
          "0 - 10",
          "0 - 10",
          "0 - 10",
          "0 - 10",
          "0 - 10",
          "11 - 20",
          "11 - 20",
          "11 - 20",
          "11 - 20",
          "11 - 20",
          "11 - 20",
          "11 - 20",
          "11 - 20",
          "11 - 20",
          "11 - 20",
          "21 - 30",
          "21 - 30",
          "21 - 30",
          "21 - 30",
          "21 - 30",
          "21 - 30",
          "21 - 30",
          "21 - 30",
          "21 - 30",
          "21 - 30",
          "31 - 40",
          "31 - 40",
          "31 - 40",
          "31 - 40",
          "31 - 40",
          "31 - 40",
          "31 - 40",
          "31 - 40",
          "31 - 40",
          "31 - 40",
          "41 - 50",
          "41 - 50",
          "41 - 50",
          "41 - 50",
          "41 - 50",
          "41 - 50",
          "41 - 50",
          "41 - 50",
          "41 - 50",
          "41 - 50",
          "51 - 60",
          "51 - 60",
          "51 - 60",
          "51 - 60",
          "51 - 60",
          "51 - 60",
          "51 - 60",
          "51 - 60",
          "51 - 60",
          "51 - 60",
          "61 - 70",
          "61 - 70",
          "61 - 70",
          "61 - 70",
          "61 - 70",
          "61 - 70",
          "61 - 70",
          "61 - 70",
          "61 - 70",
          "61 - 70",
          "71 - 80",
          "71 - 80",
          "71 - 80",
          "71 - 80",
          "71 - 80",
          "71 - 80",
          "71 - 80",
          "71 - 80",
          "71 - 80",
          "71 - 80",
          "81 - 90",
          "81 - 90",
          "81 - 90",
          "81 - 90",
          "81 - 90",
          "81 - 90",
          "81 - 90",
          "81 - 90",
          "81 - 90",
          "81 - 90",
          "91 - 100",
          "91 - 100",
          "91 - 100",
          "91 - 100",
          "91 - 100",
          "91 - 100",
          "91 - 100",
          "91 - 100",
          "91 - 100",
          "91 - 100"
         ],
         "xaxis": "x",
         "y": [
          "0 - 10",
          "11 - 20",
          "21 - 30",
          "31 - 40",
          "41 - 50",
          "51 - 60",
          "61 - 70",
          "71 - 80",
          "81 - 90",
          "91 - 100",
          "0 - 10",
          "11 - 20",
          "21 - 30",
          "31 - 40",
          "41 - 50",
          "51 - 60",
          "61 - 70",
          "71 - 80",
          "81 - 90",
          "91 - 100",
          "0 - 10",
          "11 - 20",
          "21 - 30",
          "31 - 40",
          "41 - 50",
          "51 - 60",
          "61 - 70",
          "71 - 80",
          "81 - 90",
          "91 - 100",
          "0 - 10",
          "11 - 20",
          "21 - 30",
          "31 - 40",
          "41 - 50",
          "51 - 60",
          "61 - 70",
          "71 - 80",
          "81 - 90",
          "91 - 100",
          "0 - 10",
          "11 - 20",
          "21 - 30",
          "31 - 40",
          "41 - 50",
          "51 - 60",
          "61 - 70",
          "71 - 80",
          "81 - 90",
          "91 - 100",
          "0 - 10",
          "11 - 20",
          "21 - 30",
          "31 - 40",
          "41 - 50",
          "51 - 60",
          "61 - 70",
          "71 - 80",
          "81 - 90",
          "91 - 100",
          "0 - 10",
          "11 - 20",
          "21 - 30",
          "31 - 40",
          "41 - 50",
          "51 - 60",
          "61 - 70",
          "71 - 80",
          "81 - 90",
          "91 - 100",
          "0 - 10",
          "11 - 20",
          "21 - 30",
          "31 - 40",
          "41 - 50",
          "51 - 60",
          "61 - 70",
          "71 - 80",
          "81 - 90",
          "91 - 100",
          "0 - 10",
          "11 - 20",
          "21 - 30",
          "31 - 40",
          "41 - 50",
          "51 - 60",
          "61 - 70",
          "71 - 80",
          "81 - 90",
          "91 - 100",
          "0 - 10",
          "11 - 20",
          "21 - 30",
          "31 - 40",
          "41 - 50",
          "51 - 60",
          "61 - 70",
          "71 - 80",
          "81 - 90",
          "91 - 100"
         ],
         "yaxis": "y"
        }
       ],
       "layout": {
        "legend": {
         "itemsizing": "constant",
         "tracegroupgap": 0
        },
        "margin": {
         "t": 60
        },
        "template": {
         "data": {
          "bar": [
           {
            "error_x": {
             "color": "#f2f5fa"
            },
            "error_y": {
             "color": "#f2f5fa"
            },
            "marker": {
             "line": {
              "color": "rgb(17,17,17)",
              "width": 0.5
             },
             "pattern": {
              "fillmode": "overlay",
              "size": 10,
              "solidity": 0.2
             }
            },
            "type": "bar"
           }
          ],
          "barpolar": [
           {
            "marker": {
             "line": {
              "color": "rgb(17,17,17)",
              "width": 0.5
             },
             "pattern": {
              "fillmode": "overlay",
              "size": 10,
              "solidity": 0.2
             }
            },
            "type": "barpolar"
           }
          ],
          "carpet": [
           {
            "aaxis": {
             "endlinecolor": "#A2B1C6",
             "gridcolor": "#506784",
             "linecolor": "#506784",
             "minorgridcolor": "#506784",
             "startlinecolor": "#A2B1C6"
            },
            "baxis": {
             "endlinecolor": "#A2B1C6",
             "gridcolor": "#506784",
             "linecolor": "#506784",
             "minorgridcolor": "#506784",
             "startlinecolor": "#A2B1C6"
            },
            "type": "carpet"
           }
          ],
          "choropleth": [
           {
            "colorbar": {
             "outlinewidth": 0,
             "ticks": ""
            },
            "type": "choropleth"
           }
          ],
          "contour": [
           {
            "colorbar": {
             "outlinewidth": 0,
             "ticks": ""
            },
            "colorscale": [
             [
              0,
              "#0d0887"
             ],
             [
              0.1111111111111111,
              "#46039f"
             ],
             [
              0.2222222222222222,
              "#7201a8"
             ],
             [
              0.3333333333333333,
              "#9c179e"
             ],
             [
              0.4444444444444444,
              "#bd3786"
             ],
             [
              0.5555555555555556,
              "#d8576b"
             ],
             [
              0.6666666666666666,
              "#ed7953"
             ],
             [
              0.7777777777777778,
              "#fb9f3a"
             ],
             [
              0.8888888888888888,
              "#fdca26"
             ],
             [
              1,
              "#f0f921"
             ]
            ],
            "type": "contour"
           }
          ],
          "contourcarpet": [
           {
            "colorbar": {
             "outlinewidth": 0,
             "ticks": ""
            },
            "type": "contourcarpet"
           }
          ],
          "heatmap": [
           {
            "colorbar": {
             "outlinewidth": 0,
             "ticks": ""
            },
            "colorscale": [
             [
              0,
              "#0d0887"
             ],
             [
              0.1111111111111111,
              "#46039f"
             ],
             [
              0.2222222222222222,
              "#7201a8"
             ],
             [
              0.3333333333333333,
              "#9c179e"
             ],
             [
              0.4444444444444444,
              "#bd3786"
             ],
             [
              0.5555555555555556,
              "#d8576b"
             ],
             [
              0.6666666666666666,
              "#ed7953"
             ],
             [
              0.7777777777777778,
              "#fb9f3a"
             ],
             [
              0.8888888888888888,
              "#fdca26"
             ],
             [
              1,
              "#f0f921"
             ]
            ],
            "type": "heatmap"
           }
          ],
          "heatmapgl": [
           {
            "colorbar": {
             "outlinewidth": 0,
             "ticks": ""
            },
            "colorscale": [
             [
              0,
              "#0d0887"
             ],
             [
              0.1111111111111111,
              "#46039f"
             ],
             [
              0.2222222222222222,
              "#7201a8"
             ],
             [
              0.3333333333333333,
              "#9c179e"
             ],
             [
              0.4444444444444444,
              "#bd3786"
             ],
             [
              0.5555555555555556,
              "#d8576b"
             ],
             [
              0.6666666666666666,
              "#ed7953"
             ],
             [
              0.7777777777777778,
              "#fb9f3a"
             ],
             [
              0.8888888888888888,
              "#fdca26"
             ],
             [
              1,
              "#f0f921"
             ]
            ],
            "type": "heatmapgl"
           }
          ],
          "histogram": [
           {
            "marker": {
             "pattern": {
              "fillmode": "overlay",
              "size": 10,
              "solidity": 0.2
             }
            },
            "type": "histogram"
           }
          ],
          "histogram2d": [
           {
            "colorbar": {
             "outlinewidth": 0,
             "ticks": ""
            },
            "colorscale": [
             [
              0,
              "#0d0887"
             ],
             [
              0.1111111111111111,
              "#46039f"
             ],
             [
              0.2222222222222222,
              "#7201a8"
             ],
             [
              0.3333333333333333,
              "#9c179e"
             ],
             [
              0.4444444444444444,
              "#bd3786"
             ],
             [
              0.5555555555555556,
              "#d8576b"
             ],
             [
              0.6666666666666666,
              "#ed7953"
             ],
             [
              0.7777777777777778,
              "#fb9f3a"
             ],
             [
              0.8888888888888888,
              "#fdca26"
             ],
             [
              1,
              "#f0f921"
             ]
            ],
            "type": "histogram2d"
           }
          ],
          "histogram2dcontour": [
           {
            "colorbar": {
             "outlinewidth": 0,
             "ticks": ""
            },
            "colorscale": [
             [
              0,
              "#0d0887"
             ],
             [
              0.1111111111111111,
              "#46039f"
             ],
             [
              0.2222222222222222,
              "#7201a8"
             ],
             [
              0.3333333333333333,
              "#9c179e"
             ],
             [
              0.4444444444444444,
              "#bd3786"
             ],
             [
              0.5555555555555556,
              "#d8576b"
             ],
             [
              0.6666666666666666,
              "#ed7953"
             ],
             [
              0.7777777777777778,
              "#fb9f3a"
             ],
             [
              0.8888888888888888,
              "#fdca26"
             ],
             [
              1,
              "#f0f921"
             ]
            ],
            "type": "histogram2dcontour"
           }
          ],
          "mesh3d": [
           {
            "colorbar": {
             "outlinewidth": 0,
             "ticks": ""
            },
            "type": "mesh3d"
           }
          ],
          "parcoords": [
           {
            "line": {
             "colorbar": {
              "outlinewidth": 0,
              "ticks": ""
             }
            },
            "type": "parcoords"
           }
          ],
          "pie": [
           {
            "automargin": true,
            "type": "pie"
           }
          ],
          "scatter": [
           {
            "marker": {
             "line": {
              "color": "#283442"
             }
            },
            "type": "scatter"
           }
          ],
          "scatter3d": [
           {
            "line": {
             "colorbar": {
              "outlinewidth": 0,
              "ticks": ""
             }
            },
            "marker": {
             "colorbar": {
              "outlinewidth": 0,
              "ticks": ""
             }
            },
            "type": "scatter3d"
           }
          ],
          "scattercarpet": [
           {
            "marker": {
             "colorbar": {
              "outlinewidth": 0,
              "ticks": ""
             }
            },
            "type": "scattercarpet"
           }
          ],
          "scattergeo": [
           {
            "marker": {
             "colorbar": {
              "outlinewidth": 0,
              "ticks": ""
             }
            },
            "type": "scattergeo"
           }
          ],
          "scattergl": [
           {
            "marker": {
             "line": {
              "color": "#283442"
             }
            },
            "type": "scattergl"
           }
          ],
          "scattermapbox": [
           {
            "marker": {
             "colorbar": {
              "outlinewidth": 0,
              "ticks": ""
             }
            },
            "type": "scattermapbox"
           }
          ],
          "scatterpolar": [
           {
            "marker": {
             "colorbar": {
              "outlinewidth": 0,
              "ticks": ""
             }
            },
            "type": "scatterpolar"
           }
          ],
          "scatterpolargl": [
           {
            "marker": {
             "colorbar": {
              "outlinewidth": 0,
              "ticks": ""
             }
            },
            "type": "scatterpolargl"
           }
          ],
          "scatterternary": [
           {
            "marker": {
             "colorbar": {
              "outlinewidth": 0,
              "ticks": ""
             }
            },
            "type": "scatterternary"
           }
          ],
          "surface": [
           {
            "colorbar": {
             "outlinewidth": 0,
             "ticks": ""
            },
            "colorscale": [
             [
              0,
              "#0d0887"
             ],
             [
              0.1111111111111111,
              "#46039f"
             ],
             [
              0.2222222222222222,
              "#7201a8"
             ],
             [
              0.3333333333333333,
              "#9c179e"
             ],
             [
              0.4444444444444444,
              "#bd3786"
             ],
             [
              0.5555555555555556,
              "#d8576b"
             ],
             [
              0.6666666666666666,
              "#ed7953"
             ],
             [
              0.7777777777777778,
              "#fb9f3a"
             ],
             [
              0.8888888888888888,
              "#fdca26"
             ],
             [
              1,
              "#f0f921"
             ]
            ],
            "type": "surface"
           }
          ],
          "table": [
           {
            "cells": {
             "fill": {
              "color": "#506784"
             },
             "line": {
              "color": "rgb(17,17,17)"
             }
            },
            "header": {
             "fill": {
              "color": "#2a3f5f"
             },
             "line": {
              "color": "rgb(17,17,17)"
             }
            },
            "type": "table"
           }
          ]
         },
         "layout": {
          "annotationdefaults": {
           "arrowcolor": "#f2f5fa",
           "arrowhead": 0,
           "arrowwidth": 1
          },
          "autotypenumbers": "strict",
          "coloraxis": {
           "colorbar": {
            "outlinewidth": 0,
            "ticks": ""
           }
          },
          "colorscale": {
           "diverging": [
            [
             0,
             "#8e0152"
            ],
            [
             0.1,
             "#c51b7d"
            ],
            [
             0.2,
             "#de77ae"
            ],
            [
             0.3,
             "#f1b6da"
            ],
            [
             0.4,
             "#fde0ef"
            ],
            [
             0.5,
             "#f7f7f7"
            ],
            [
             0.6,
             "#e6f5d0"
            ],
            [
             0.7,
             "#b8e186"
            ],
            [
             0.8,
             "#7fbc41"
            ],
            [
             0.9,
             "#4d9221"
            ],
            [
             1,
             "#276419"
            ]
           ],
           "sequential": [
            [
             0,
             "#0d0887"
            ],
            [
             0.1111111111111111,
             "#46039f"
            ],
            [
             0.2222222222222222,
             "#7201a8"
            ],
            [
             0.3333333333333333,
             "#9c179e"
            ],
            [
             0.4444444444444444,
             "#bd3786"
            ],
            [
             0.5555555555555556,
             "#d8576b"
            ],
            [
             0.6666666666666666,
             "#ed7953"
            ],
            [
             0.7777777777777778,
             "#fb9f3a"
            ],
            [
             0.8888888888888888,
             "#fdca26"
            ],
            [
             1,
             "#f0f921"
            ]
           ],
           "sequentialminus": [
            [
             0,
             "#0d0887"
            ],
            [
             0.1111111111111111,
             "#46039f"
            ],
            [
             0.2222222222222222,
             "#7201a8"
            ],
            [
             0.3333333333333333,
             "#9c179e"
            ],
            [
             0.4444444444444444,
             "#bd3786"
            ],
            [
             0.5555555555555556,
             "#d8576b"
            ],
            [
             0.6666666666666666,
             "#ed7953"
            ],
            [
             0.7777777777777778,
             "#fb9f3a"
            ],
            [
             0.8888888888888888,
             "#fdca26"
            ],
            [
             1,
             "#f0f921"
            ]
           ]
          },
          "colorway": [
           "#636efa",
           "#EF553B",
           "#00cc96",
           "#ab63fa",
           "#FFA15A",
           "#19d3f3",
           "#FF6692",
           "#B6E880",
           "#FF97FF",
           "#FECB52"
          ],
          "font": {
           "color": "#f2f5fa"
          },
          "geo": {
           "bgcolor": "rgb(17,17,17)",
           "lakecolor": "rgb(17,17,17)",
           "landcolor": "rgb(17,17,17)",
           "showlakes": true,
           "showland": true,
           "subunitcolor": "#506784"
          },
          "hoverlabel": {
           "align": "left"
          },
          "hovermode": "closest",
          "mapbox": {
           "style": "dark"
          },
          "paper_bgcolor": "rgb(17,17,17)",
          "plot_bgcolor": "rgb(17,17,17)",
          "polar": {
           "angularaxis": {
            "gridcolor": "#506784",
            "linecolor": "#506784",
            "ticks": ""
           },
           "bgcolor": "rgb(17,17,17)",
           "radialaxis": {
            "gridcolor": "#506784",
            "linecolor": "#506784",
            "ticks": ""
           }
          },
          "scene": {
           "xaxis": {
            "backgroundcolor": "rgb(17,17,17)",
            "gridcolor": "#506784",
            "gridwidth": 2,
            "linecolor": "#506784",
            "showbackground": true,
            "ticks": "",
            "zerolinecolor": "#C8D4E3"
           },
           "yaxis": {
            "backgroundcolor": "rgb(17,17,17)",
            "gridcolor": "#506784",
            "gridwidth": 2,
            "linecolor": "#506784",
            "showbackground": true,
            "ticks": "",
            "zerolinecolor": "#C8D4E3"
           },
           "zaxis": {
            "backgroundcolor": "rgb(17,17,17)",
            "gridcolor": "#506784",
            "gridwidth": 2,
            "linecolor": "#506784",
            "showbackground": true,
            "ticks": "",
            "zerolinecolor": "#C8D4E3"
           }
          },
          "shapedefaults": {
           "line": {
            "color": "#f2f5fa"
           }
          },
          "sliderdefaults": {
           "bgcolor": "#C8D4E3",
           "bordercolor": "rgb(17,17,17)",
           "borderwidth": 1,
           "tickwidth": 0
          },
          "ternary": {
           "aaxis": {
            "gridcolor": "#506784",
            "linecolor": "#506784",
            "ticks": ""
           },
           "baxis": {
            "gridcolor": "#506784",
            "linecolor": "#506784",
            "ticks": ""
           },
           "bgcolor": "rgb(17,17,17)",
           "caxis": {
            "gridcolor": "#506784",
            "linecolor": "#506784",
            "ticks": ""
           }
          },
          "title": {
           "x": 0.05
          },
          "updatemenudefaults": {
           "bgcolor": "#506784",
           "borderwidth": 0
          },
          "xaxis": {
           "automargin": true,
           "gridcolor": "#283442",
           "linecolor": "#506784",
           "ticks": "",
           "title": {
            "standoff": 15
           },
           "zerolinecolor": "#283442",
           "zerolinewidth": 2
          },
          "yaxis": {
           "automargin": true,
           "gridcolor": "#283442",
           "linecolor": "#506784",
           "ticks": "",
           "title": {
            "standoff": 15
           },
           "zerolinecolor": "#283442",
           "zerolinewidth": 2
          }
         }
        },
        "title": {
         "text": "Popularity vs Chart Power"
        },
        "xaxis": {
         "anchor": "y",
         "domain": [
          0,
          1
         ],
         "title": {
          "text": "Popularity"
         }
        },
        "yaxis": {
         "anchor": "x",
         "categoryarray": [
          "0 - 10",
          "11 - 20",
          "21 - 30",
          "31 - 40",
          "41 - 50",
          "51 - 60",
          "61 - 70",
          "71 - 80",
          "81 - 90",
          "91 - 100"
         ],
         "categoryorder": "array",
         "domain": [
          0,
          1
         ],
         "title": {
          "text": "Chart Power"
         }
        }
       }
      }
     },
     "metadata": {},
     "output_type": "display_data"
    }
   ],
   "source": [
    "def create_binned_scatter(df_original, title=\"Popularity vs Chart Power\"):\n",
    "    df_ = df_original.copy()\n",
    "    df_ = df_[[\"popularity_percentile\", \"chart_power_percentile\"]]\n",
    "    df_[\"count\"] = 0\n",
    "    df_ = df_.groupby([\"popularity_percentile\", \"chart_power_percentile\"]).count()\n",
    "    df_.reset_index(inplace=True)\n",
    "\n",
    "    fig = px.scatter(df_, x=\"popularity_percentile\", y=\"chart_power_percentile\", size=\"count\")\n",
    "    fig.update_yaxes(categoryorder=\"array\", categoryarray=labels)\n",
    "    fig.update_layout(\n",
    "        title=title,\n",
    "        template=\"plotly_dark\",\n",
    "        xaxis_title=\"Popularity\",\n",
    "        yaxis_title=\"Chart Power\"\n",
    "    )\n",
    "    fig.show()\n",
    "\n",
    "\n",
    "create_binned_scatter(df_found_copy)"
   ]
  },
  {
   "cell_type": "code",
   "execution_count": 185,
   "metadata": {},
   "outputs": [
    {
     "data": {
      "application/vnd.plotly.v1+json": {
       "config": {
        "plotlyServerURL": "https://plot.ly"
       },
       "data": [
        {
         "coloraxis": "coloraxis",
         "hovertemplate": "popularity_percentile=%{x}<br>chart_power_percentile=%{y}<br>count=%{z}<extra></extra>",
         "name": "",
         "nbinsx": 10,
         "nbinsy": 10,
         "type": "histogram2d",
         "x": [
          "0 - 10",
          "0 - 10",
          "0 - 10",
          "0 - 10",
          "0 - 10",
          "0 - 10",
          "0 - 10",
          "0 - 10",
          "0 - 10",
          "0 - 10",
          "0 - 10",
          "0 - 10",
          "0 - 10",
          "0 - 10",
          "0 - 10",
          "0 - 10",
          "0 - 10",
          "0 - 10",
          "0 - 10",
          "0 - 10",
          "0 - 10",
          "0 - 10",
          "0 - 10",
          "0 - 10",
          "0 - 10",
          "0 - 10",
          "0 - 10",
          "0 - 10",
          "0 - 10",
          "0 - 10",
          "0 - 10",
          "0 - 10",
          "0 - 10",
          "0 - 10",
          "0 - 10",
          "0 - 10",
          "0 - 10",
          "0 - 10",
          "0 - 10",
          "0 - 10",
          "0 - 10",
          "0 - 10",
          "0 - 10",
          "0 - 10",
          "0 - 10",
          "0 - 10",
          "0 - 10",
          "0 - 10",
          "0 - 10",
          "0 - 10",
          "0 - 10",
          "0 - 10",
          "0 - 10",
          "0 - 10",
          "0 - 10",
          "0 - 10",
          "0 - 10",
          "0 - 10",
          "0 - 10",
          "0 - 10",
          "0 - 10",
          "0 - 10",
          "0 - 10",
          "0 - 10",
          "0 - 10",
          "0 - 10",
          "0 - 10",
          "0 - 10",
          "0 - 10",
          "0 - 10",
          "0 - 10",
          "0 - 10",
          "0 - 10",
          "0 - 10",
          "0 - 10",
          "0 - 10",
          "0 - 10",
          "0 - 10",
          "0 - 10",
          "0 - 10",
          "0 - 10",
          "0 - 10",
          "0 - 10",
          "0 - 10",
          "0 - 10",
          "0 - 10",
          "0 - 10",
          "0 - 10",
          "0 - 10",
          "0 - 10",
          "0 - 10",
          "0 - 10",
          "0 - 10",
          "0 - 10",
          "0 - 10",
          "0 - 10",
          "0 - 10",
          "0 - 10",
          "0 - 10",
          "0 - 10",
          "0 - 10",
          "0 - 10",
          "0 - 10",
          "0 - 10",
          "0 - 10",
          "0 - 10",
          "0 - 10",
          "0 - 10",
          "0 - 10",
          "0 - 10",
          "0 - 10",
          "0 - 10",
          "0 - 10",
          "0 - 10",
          "0 - 10",
          "0 - 10",
          "0 - 10",
          "0 - 10",
          "0 - 10",
          "0 - 10",
          "0 - 10",
          "0 - 10",
          "0 - 10",
          "0 - 10",
          "0 - 10",
          "0 - 10",
          "0 - 10",
          "0 - 10",
          "0 - 10",
          "0 - 10",
          "0 - 10",
          "0 - 10",
          "0 - 10",
          "0 - 10",
          "0 - 10",
          "0 - 10",
          "0 - 10",
          "0 - 10",
          "0 - 10",
          "0 - 10",
          "0 - 10",
          "0 - 10",
          "0 - 10",
          "0 - 10",
          "0 - 10",
          "0 - 10",
          "0 - 10",
          "0 - 10",
          "0 - 10",
          "0 - 10",
          "0 - 10",
          "0 - 10",
          "0 - 10",
          "0 - 10",
          "0 - 10",
          "0 - 10",
          "0 - 10",
          "0 - 10",
          "0 - 10",
          "0 - 10",
          "0 - 10",
          "0 - 10",
          "0 - 10",
          "0 - 10",
          "0 - 10",
          "0 - 10",
          "0 - 10",
          "0 - 10",
          "0 - 10",
          "0 - 10",
          "0 - 10",
          "0 - 10",
          "0 - 10",
          "0 - 10",
          "0 - 10",
          "0 - 10",
          "0 - 10",
          "0 - 10",
          "0 - 10",
          "0 - 10",
          "0 - 10",
          "0 - 10",
          "0 - 10",
          "0 - 10",
          "11 - 20",
          "11 - 20",
          "11 - 20",
          "11 - 20",
          "11 - 20",
          "11 - 20",
          "11 - 20",
          "11 - 20",
          "11 - 20",
          "11 - 20",
          "11 - 20",
          "11 - 20",
          "11 - 20",
          "11 - 20",
          "11 - 20",
          "11 - 20",
          "11 - 20",
          "11 - 20",
          "11 - 20",
          "11 - 20",
          "11 - 20",
          "11 - 20",
          "11 - 20",
          "11 - 20",
          "11 - 20",
          "11 - 20",
          "11 - 20",
          "11 - 20",
          "11 - 20",
          "11 - 20",
          "11 - 20",
          "11 - 20",
          "11 - 20",
          "11 - 20",
          "11 - 20",
          "11 - 20",
          "11 - 20",
          "11 - 20",
          "11 - 20",
          "11 - 20",
          "11 - 20",
          "11 - 20",
          "11 - 20",
          "11 - 20",
          "11 - 20",
          "11 - 20",
          "11 - 20",
          "11 - 20",
          "11 - 20",
          "11 - 20",
          "11 - 20",
          "11 - 20",
          "11 - 20",
          "11 - 20",
          "11 - 20",
          "11 - 20",
          "11 - 20",
          "11 - 20",
          "11 - 20",
          "11 - 20",
          "11 - 20",
          "11 - 20",
          "11 - 20",
          "11 - 20",
          "11 - 20",
          "11 - 20",
          "11 - 20",
          "11 - 20",
          "11 - 20",
          "11 - 20",
          "11 - 20",
          "11 - 20",
          "11 - 20",
          "11 - 20",
          "11 - 20",
          "11 - 20",
          "11 - 20",
          "11 - 20",
          "11 - 20",
          "11 - 20",
          "11 - 20",
          "11 - 20",
          "11 - 20",
          "11 - 20",
          "11 - 20",
          "11 - 20",
          "11 - 20",
          "11 - 20",
          "11 - 20",
          "11 - 20",
          "11 - 20",
          "11 - 20",
          "11 - 20",
          "11 - 20",
          "11 - 20",
          "11 - 20",
          "11 - 20",
          "11 - 20",
          "11 - 20",
          "11 - 20",
          "11 - 20",
          "11 - 20",
          "11 - 20",
          "11 - 20",
          "11 - 20",
          "11 - 20",
          "11 - 20",
          "11 - 20",
          "11 - 20",
          "11 - 20",
          "11 - 20",
          "11 - 20",
          "11 - 20",
          "11 - 20",
          "11 - 20",
          "11 - 20",
          "11 - 20",
          "11 - 20",
          "11 - 20",
          "11 - 20",
          "11 - 20",
          "11 - 20",
          "11 - 20",
          "11 - 20",
          "11 - 20",
          "11 - 20",
          "11 - 20",
          "11 - 20",
          "11 - 20",
          "11 - 20",
          "11 - 20",
          "11 - 20",
          "11 - 20",
          "11 - 20",
          "11 - 20",
          "11 - 20",
          "11 - 20",
          "11 - 20",
          "11 - 20",
          "11 - 20",
          "11 - 20",
          "11 - 20",
          "11 - 20",
          "11 - 20",
          "11 - 20",
          "11 - 20",
          "11 - 20",
          "11 - 20",
          "11 - 20",
          "11 - 20",
          "11 - 20",
          "11 - 20",
          "11 - 20",
          "11 - 20",
          "11 - 20",
          "11 - 20",
          "11 - 20",
          "11 - 20",
          "11 - 20",
          "11 - 20",
          "11 - 20",
          "11 - 20",
          "11 - 20",
          "11 - 20",
          "11 - 20",
          "11 - 20",
          "11 - 20",
          "11 - 20",
          "11 - 20",
          "11 - 20",
          "11 - 20",
          "11 - 20",
          "11 - 20",
          "11 - 20",
          "11 - 20",
          "11 - 20",
          "11 - 20",
          "11 - 20",
          "11 - 20",
          "11 - 20",
          "11 - 20",
          "11 - 20",
          "11 - 20",
          "11 - 20",
          "11 - 20",
          "21 - 30",
          "21 - 30",
          "21 - 30",
          "21 - 30",
          "21 - 30",
          "21 - 30",
          "21 - 30",
          "21 - 30",
          "21 - 30",
          "21 - 30",
          "21 - 30",
          "21 - 30",
          "21 - 30",
          "21 - 30",
          "21 - 30",
          "21 - 30",
          "21 - 30",
          "21 - 30",
          "21 - 30",
          "21 - 30",
          "21 - 30",
          "21 - 30",
          "21 - 30",
          "21 - 30",
          "21 - 30",
          "21 - 30",
          "21 - 30",
          "21 - 30",
          "21 - 30",
          "21 - 30",
          "21 - 30",
          "21 - 30",
          "21 - 30",
          "21 - 30",
          "21 - 30",
          "21 - 30",
          "21 - 30",
          "21 - 30",
          "21 - 30",
          "21 - 30",
          "21 - 30",
          "21 - 30",
          "21 - 30",
          "21 - 30",
          "21 - 30",
          "21 - 30",
          "21 - 30",
          "21 - 30",
          "21 - 30",
          "21 - 30",
          "21 - 30",
          "21 - 30",
          "21 - 30",
          "21 - 30",
          "21 - 30",
          "21 - 30",
          "21 - 30",
          "21 - 30",
          "21 - 30",
          "21 - 30",
          "21 - 30",
          "21 - 30",
          "21 - 30",
          "21 - 30",
          "21 - 30",
          "21 - 30",
          "21 - 30",
          "21 - 30",
          "21 - 30",
          "21 - 30",
          "21 - 30",
          "21 - 30",
          "21 - 30",
          "21 - 30",
          "21 - 30",
          "21 - 30",
          "21 - 30",
          "21 - 30",
          "21 - 30",
          "21 - 30",
          "21 - 30",
          "21 - 30",
          "21 - 30",
          "21 - 30",
          "21 - 30",
          "21 - 30",
          "21 - 30",
          "21 - 30",
          "21 - 30",
          "21 - 30",
          "21 - 30",
          "21 - 30",
          "21 - 30",
          "21 - 30",
          "21 - 30",
          "21 - 30",
          "21 - 30",
          "21 - 30",
          "21 - 30",
          "21 - 30",
          "21 - 30",
          "21 - 30",
          "21 - 30",
          "21 - 30",
          "21 - 30",
          "21 - 30",
          "21 - 30",
          "21 - 30",
          "21 - 30",
          "21 - 30",
          "21 - 30",
          "21 - 30",
          "21 - 30",
          "21 - 30",
          "21 - 30",
          "21 - 30",
          "21 - 30",
          "21 - 30",
          "21 - 30",
          "21 - 30",
          "21 - 30",
          "21 - 30",
          "21 - 30",
          "21 - 30",
          "21 - 30",
          "21 - 30",
          "21 - 30",
          "21 - 30",
          "21 - 30",
          "21 - 30",
          "21 - 30",
          "21 - 30",
          "21 - 30",
          "21 - 30",
          "21 - 30",
          "21 - 30",
          "21 - 30",
          "21 - 30",
          "21 - 30",
          "21 - 30",
          "21 - 30",
          "21 - 30",
          "21 - 30",
          "21 - 30",
          "21 - 30",
          "21 - 30",
          "21 - 30",
          "21 - 30",
          "21 - 30",
          "21 - 30",
          "21 - 30",
          "21 - 30",
          "21 - 30",
          "21 - 30",
          "21 - 30",
          "21 - 30",
          "21 - 30",
          "21 - 30",
          "21 - 30",
          "21 - 30",
          "21 - 30",
          "21 - 30",
          "21 - 30",
          "21 - 30",
          "21 - 30",
          "21 - 30",
          "21 - 30",
          "21 - 30",
          "21 - 30",
          "21 - 30",
          "21 - 30",
          "21 - 30",
          "21 - 30",
          "21 - 30",
          "21 - 30",
          "21 - 30",
          "21 - 30",
          "31 - 40",
          "31 - 40",
          "31 - 40",
          "31 - 40",
          "31 - 40",
          "31 - 40",
          "31 - 40",
          "31 - 40",
          "31 - 40",
          "31 - 40",
          "31 - 40",
          "31 - 40",
          "31 - 40",
          "31 - 40",
          "31 - 40",
          "31 - 40",
          "31 - 40",
          "31 - 40",
          "31 - 40",
          "31 - 40",
          "31 - 40",
          "31 - 40",
          "31 - 40",
          "31 - 40",
          "31 - 40",
          "31 - 40",
          "31 - 40",
          "31 - 40",
          "31 - 40",
          "31 - 40",
          "31 - 40",
          "31 - 40",
          "31 - 40",
          "31 - 40",
          "31 - 40",
          "31 - 40",
          "31 - 40",
          "31 - 40",
          "31 - 40",
          "31 - 40",
          "31 - 40",
          "31 - 40",
          "31 - 40",
          "31 - 40",
          "31 - 40",
          "31 - 40",
          "31 - 40",
          "31 - 40",
          "31 - 40",
          "31 - 40",
          "31 - 40",
          "31 - 40",
          "31 - 40",
          "31 - 40",
          "31 - 40",
          "31 - 40",
          "31 - 40",
          "31 - 40",
          "31 - 40",
          "31 - 40",
          "31 - 40",
          "31 - 40",
          "31 - 40",
          "31 - 40",
          "31 - 40",
          "31 - 40",
          "31 - 40",
          "31 - 40",
          "31 - 40",
          "31 - 40",
          "31 - 40",
          "31 - 40",
          "31 - 40",
          "31 - 40",
          "31 - 40",
          "31 - 40",
          "31 - 40",
          "31 - 40",
          "31 - 40",
          "31 - 40",
          "31 - 40",
          "31 - 40",
          "31 - 40",
          "31 - 40",
          "31 - 40",
          "31 - 40",
          "31 - 40",
          "31 - 40",
          "31 - 40",
          "31 - 40",
          "31 - 40",
          "31 - 40",
          "31 - 40",
          "31 - 40",
          "31 - 40",
          "31 - 40",
          "31 - 40",
          "31 - 40",
          "31 - 40",
          "31 - 40",
          "31 - 40",
          "31 - 40",
          "31 - 40",
          "31 - 40",
          "31 - 40",
          "31 - 40",
          "31 - 40",
          "31 - 40",
          "31 - 40",
          "31 - 40",
          "31 - 40",
          "31 - 40",
          "31 - 40",
          "31 - 40",
          "31 - 40",
          "31 - 40",
          "31 - 40",
          "31 - 40",
          "31 - 40",
          "31 - 40",
          "31 - 40",
          "31 - 40",
          "31 - 40",
          "31 - 40",
          "31 - 40",
          "31 - 40",
          "31 - 40",
          "31 - 40",
          "31 - 40",
          "31 - 40",
          "31 - 40",
          "31 - 40",
          "31 - 40",
          "31 - 40",
          "31 - 40",
          "31 - 40",
          "31 - 40",
          "31 - 40",
          "31 - 40",
          "31 - 40",
          "31 - 40",
          "31 - 40",
          "31 - 40",
          "31 - 40",
          "31 - 40",
          "31 - 40",
          "31 - 40",
          "31 - 40",
          "31 - 40",
          "31 - 40",
          "31 - 40",
          "31 - 40",
          "31 - 40",
          "31 - 40",
          "31 - 40",
          "31 - 40",
          "31 - 40",
          "31 - 40",
          "31 - 40",
          "31 - 40",
          "31 - 40",
          "31 - 40",
          "31 - 40",
          "31 - 40",
          "31 - 40",
          "31 - 40",
          "31 - 40",
          "31 - 40",
          "31 - 40",
          "31 - 40",
          "31 - 40",
          "31 - 40",
          "31 - 40",
          "31 - 40",
          "31 - 40",
          "41 - 50",
          "41 - 50",
          "41 - 50",
          "41 - 50",
          "41 - 50",
          "41 - 50",
          "41 - 50",
          "41 - 50",
          "41 - 50",
          "41 - 50",
          "41 - 50",
          "41 - 50",
          "41 - 50",
          "41 - 50",
          "41 - 50",
          "41 - 50",
          "41 - 50",
          "41 - 50",
          "41 - 50",
          "41 - 50",
          "41 - 50",
          "41 - 50",
          "41 - 50",
          "41 - 50",
          "41 - 50",
          "41 - 50",
          "41 - 50",
          "41 - 50",
          "41 - 50",
          "41 - 50",
          "41 - 50",
          "41 - 50",
          "41 - 50",
          "41 - 50",
          "41 - 50",
          "41 - 50",
          "41 - 50",
          "41 - 50",
          "41 - 50",
          "41 - 50",
          "41 - 50",
          "41 - 50",
          "41 - 50",
          "41 - 50",
          "41 - 50",
          "41 - 50",
          "41 - 50",
          "41 - 50",
          "41 - 50",
          "41 - 50",
          "41 - 50",
          "41 - 50",
          "41 - 50",
          "41 - 50",
          "41 - 50",
          "41 - 50",
          "41 - 50",
          "41 - 50",
          "41 - 50",
          "41 - 50",
          "41 - 50",
          "41 - 50",
          "41 - 50",
          "41 - 50",
          "41 - 50",
          "41 - 50",
          "41 - 50",
          "41 - 50",
          "41 - 50",
          "41 - 50",
          "41 - 50",
          "41 - 50",
          "41 - 50",
          "41 - 50",
          "41 - 50",
          "41 - 50",
          "41 - 50",
          "41 - 50",
          "41 - 50",
          "41 - 50",
          "41 - 50",
          "41 - 50",
          "41 - 50",
          "41 - 50",
          "41 - 50",
          "41 - 50",
          "41 - 50",
          "41 - 50",
          "41 - 50",
          "41 - 50",
          "41 - 50",
          "41 - 50",
          "41 - 50",
          "41 - 50",
          "41 - 50",
          "41 - 50",
          "41 - 50",
          "41 - 50",
          "41 - 50",
          "41 - 50",
          "41 - 50",
          "41 - 50",
          "41 - 50",
          "41 - 50",
          "41 - 50",
          "41 - 50",
          "41 - 50",
          "41 - 50",
          "41 - 50",
          "41 - 50",
          "41 - 50",
          "41 - 50",
          "41 - 50",
          "41 - 50",
          "41 - 50",
          "41 - 50",
          "41 - 50",
          "41 - 50",
          "41 - 50",
          "41 - 50",
          "41 - 50",
          "41 - 50",
          "41 - 50",
          "41 - 50",
          "41 - 50",
          "41 - 50",
          "41 - 50",
          "41 - 50",
          "41 - 50",
          "41 - 50",
          "41 - 50",
          "41 - 50",
          "41 - 50",
          "41 - 50",
          "41 - 50",
          "41 - 50",
          "41 - 50",
          "41 - 50",
          "41 - 50",
          "41 - 50",
          "41 - 50",
          "41 - 50",
          "41 - 50",
          "41 - 50",
          "41 - 50",
          "41 - 50",
          "41 - 50",
          "41 - 50",
          "41 - 50",
          "41 - 50",
          "41 - 50",
          "41 - 50",
          "41 - 50",
          "41 - 50",
          "51 - 60",
          "51 - 60",
          "51 - 60",
          "51 - 60",
          "51 - 60",
          "51 - 60",
          "51 - 60",
          "51 - 60",
          "51 - 60",
          "51 - 60",
          "51 - 60",
          "51 - 60",
          "51 - 60",
          "51 - 60",
          "51 - 60",
          "51 - 60",
          "51 - 60",
          "51 - 60",
          "51 - 60",
          "51 - 60",
          "51 - 60",
          "51 - 60",
          "51 - 60",
          "51 - 60",
          "51 - 60",
          "51 - 60",
          "51 - 60",
          "51 - 60",
          "51 - 60",
          "51 - 60",
          "51 - 60",
          "51 - 60",
          "51 - 60",
          "51 - 60",
          "51 - 60",
          "51 - 60",
          "51 - 60",
          "51 - 60",
          "51 - 60",
          "51 - 60",
          "51 - 60",
          "51 - 60",
          "51 - 60",
          "51 - 60",
          "51 - 60",
          "51 - 60",
          "51 - 60",
          "51 - 60",
          "51 - 60",
          "51 - 60",
          "51 - 60",
          "51 - 60",
          "51 - 60",
          "51 - 60",
          "51 - 60",
          "51 - 60",
          "51 - 60",
          "51 - 60",
          "51 - 60",
          "51 - 60",
          "51 - 60",
          "51 - 60",
          "51 - 60",
          "51 - 60",
          "51 - 60",
          "51 - 60",
          "51 - 60",
          "51 - 60",
          "51 - 60",
          "51 - 60",
          "51 - 60",
          "51 - 60",
          "51 - 60",
          "51 - 60",
          "51 - 60",
          "51 - 60",
          "51 - 60",
          "51 - 60",
          "51 - 60",
          "51 - 60",
          "51 - 60",
          "51 - 60",
          "51 - 60",
          "51 - 60",
          "51 - 60",
          "51 - 60",
          "51 - 60",
          "51 - 60",
          "51 - 60",
          "51 - 60",
          "51 - 60",
          "51 - 60",
          "51 - 60",
          "51 - 60",
          "51 - 60",
          "51 - 60",
          "51 - 60",
          "51 - 60",
          "51 - 60",
          "51 - 60",
          "51 - 60",
          "51 - 60",
          "51 - 60",
          "51 - 60",
          "51 - 60",
          "51 - 60",
          "51 - 60",
          "51 - 60",
          "51 - 60",
          "51 - 60",
          "51 - 60",
          "51 - 60",
          "51 - 60",
          "51 - 60",
          "51 - 60",
          "51 - 60",
          "51 - 60",
          "51 - 60",
          "51 - 60",
          "51 - 60",
          "51 - 60",
          "51 - 60",
          "51 - 60",
          "51 - 60",
          "51 - 60",
          "51 - 60",
          "51 - 60",
          "51 - 60",
          "51 - 60",
          "51 - 60",
          "51 - 60",
          "51 - 60",
          "51 - 60",
          "51 - 60",
          "51 - 60",
          "51 - 60",
          "51 - 60",
          "51 - 60",
          "51 - 60",
          "51 - 60",
          "51 - 60",
          "51 - 60",
          "51 - 60",
          "51 - 60",
          "51 - 60",
          "51 - 60",
          "51 - 60",
          "51 - 60",
          "51 - 60",
          "51 - 60",
          "51 - 60",
          "51 - 60",
          "51 - 60",
          "51 - 60",
          "51 - 60",
          "51 - 60",
          "51 - 60",
          "51 - 60",
          "51 - 60",
          "51 - 60",
          "51 - 60",
          "51 - 60",
          "51 - 60",
          "51 - 60",
          "51 - 60",
          "51 - 60",
          "51 - 60",
          "51 - 60",
          "51 - 60",
          "51 - 60",
          "51 - 60",
          "51 - 60",
          "51 - 60",
          "51 - 60",
          "51 - 60",
          "51 - 60",
          "51 - 60",
          "51 - 60",
          "51 - 60",
          "51 - 60",
          "51 - 60",
          "51 - 60",
          "51 - 60",
          "51 - 60",
          "51 - 60",
          "51 - 60",
          "51 - 60",
          "51 - 60",
          "51 - 60",
          "51 - 60",
          "51 - 60",
          "51 - 60",
          "51 - 60",
          "61 - 70",
          "61 - 70",
          "61 - 70",
          "61 - 70",
          "61 - 70",
          "61 - 70",
          "61 - 70",
          "61 - 70",
          "61 - 70",
          "61 - 70",
          "61 - 70",
          "61 - 70",
          "61 - 70",
          "61 - 70",
          "61 - 70",
          "61 - 70",
          "61 - 70",
          "61 - 70",
          "61 - 70",
          "61 - 70",
          "61 - 70",
          "61 - 70",
          "61 - 70",
          "61 - 70",
          "61 - 70",
          "61 - 70",
          "61 - 70",
          "61 - 70",
          "61 - 70",
          "61 - 70",
          "61 - 70",
          "61 - 70",
          "61 - 70",
          "61 - 70",
          "61 - 70",
          "61 - 70",
          "61 - 70",
          "61 - 70",
          "61 - 70",
          "61 - 70",
          "61 - 70",
          "61 - 70",
          "61 - 70",
          "61 - 70",
          "61 - 70",
          "61 - 70",
          "61 - 70",
          "61 - 70",
          "61 - 70",
          "61 - 70",
          "61 - 70",
          "61 - 70",
          "61 - 70",
          "61 - 70",
          "61 - 70",
          "61 - 70",
          "61 - 70",
          "61 - 70",
          "61 - 70",
          "61 - 70",
          "61 - 70",
          "61 - 70",
          "61 - 70",
          "61 - 70",
          "61 - 70",
          "61 - 70",
          "61 - 70",
          "61 - 70",
          "61 - 70",
          "61 - 70",
          "61 - 70",
          "61 - 70",
          "61 - 70",
          "61 - 70",
          "61 - 70",
          "61 - 70",
          "61 - 70",
          "61 - 70",
          "61 - 70",
          "61 - 70",
          "61 - 70",
          "61 - 70",
          "61 - 70",
          "61 - 70",
          "61 - 70",
          "61 - 70",
          "61 - 70",
          "61 - 70",
          "61 - 70",
          "61 - 70",
          "61 - 70",
          "61 - 70",
          "61 - 70",
          "61 - 70",
          "61 - 70",
          "61 - 70",
          "61 - 70",
          "61 - 70",
          "61 - 70",
          "61 - 70",
          "61 - 70",
          "61 - 70",
          "61 - 70",
          "61 - 70",
          "61 - 70",
          "61 - 70",
          "61 - 70",
          "61 - 70",
          "61 - 70",
          "61 - 70",
          "61 - 70",
          "61 - 70",
          "61 - 70",
          "61 - 70",
          "61 - 70",
          "61 - 70",
          "61 - 70",
          "61 - 70",
          "61 - 70",
          "61 - 70",
          "61 - 70",
          "61 - 70",
          "61 - 70",
          "61 - 70",
          "61 - 70",
          "61 - 70",
          "61 - 70",
          "61 - 70",
          "61 - 70",
          "61 - 70",
          "61 - 70",
          "61 - 70",
          "61 - 70",
          "61 - 70",
          "61 - 70",
          "61 - 70",
          "61 - 70",
          "61 - 70",
          "61 - 70",
          "61 - 70",
          "61 - 70",
          "61 - 70",
          "61 - 70",
          "61 - 70",
          "61 - 70",
          "61 - 70",
          "61 - 70",
          "61 - 70",
          "71 - 80",
          "71 - 80",
          "71 - 80",
          "71 - 80",
          "71 - 80",
          "71 - 80",
          "71 - 80",
          "71 - 80",
          "71 - 80",
          "71 - 80",
          "71 - 80",
          "71 - 80",
          "71 - 80",
          "71 - 80",
          "71 - 80",
          "71 - 80",
          "71 - 80",
          "71 - 80",
          "71 - 80",
          "71 - 80",
          "71 - 80",
          "71 - 80",
          "71 - 80",
          "71 - 80",
          "71 - 80",
          "71 - 80",
          "71 - 80",
          "71 - 80",
          "71 - 80",
          "71 - 80",
          "71 - 80",
          "71 - 80",
          "71 - 80",
          "71 - 80",
          "71 - 80",
          "71 - 80",
          "71 - 80",
          "71 - 80",
          "71 - 80",
          "71 - 80",
          "71 - 80",
          "71 - 80",
          "71 - 80",
          "71 - 80",
          "71 - 80",
          "71 - 80",
          "71 - 80",
          "71 - 80",
          "71 - 80",
          "71 - 80",
          "71 - 80",
          "71 - 80",
          "71 - 80",
          "71 - 80",
          "71 - 80",
          "71 - 80",
          "71 - 80",
          "71 - 80",
          "71 - 80",
          "71 - 80",
          "71 - 80",
          "71 - 80",
          "71 - 80",
          "71 - 80",
          "71 - 80",
          "71 - 80",
          "71 - 80",
          "71 - 80",
          "71 - 80",
          "71 - 80",
          "71 - 80",
          "71 - 80",
          "71 - 80",
          "71 - 80",
          "71 - 80",
          "71 - 80",
          "71 - 80",
          "71 - 80",
          "71 - 80",
          "71 - 80",
          "71 - 80",
          "71 - 80",
          "71 - 80",
          "71 - 80",
          "71 - 80",
          "71 - 80",
          "71 - 80",
          "71 - 80",
          "71 - 80",
          "71 - 80",
          "71 - 80",
          "71 - 80",
          "71 - 80",
          "71 - 80",
          "71 - 80",
          "71 - 80",
          "71 - 80",
          "71 - 80",
          "71 - 80",
          "71 - 80",
          "71 - 80",
          "71 - 80",
          "71 - 80",
          "71 - 80",
          "71 - 80",
          "71 - 80",
          "71 - 80",
          "71 - 80",
          "71 - 80",
          "71 - 80",
          "71 - 80",
          "71 - 80",
          "71 - 80",
          "71 - 80",
          "71 - 80",
          "71 - 80",
          "71 - 80",
          "71 - 80",
          "71 - 80",
          "71 - 80",
          "71 - 80",
          "71 - 80",
          "71 - 80",
          "71 - 80",
          "71 - 80",
          "71 - 80",
          "71 - 80",
          "71 - 80",
          "71 - 80",
          "71 - 80",
          "71 - 80",
          "71 - 80",
          "71 - 80",
          "71 - 80",
          "71 - 80",
          "71 - 80",
          "71 - 80",
          "71 - 80",
          "71 - 80",
          "71 - 80",
          "71 - 80",
          "71 - 80",
          "71 - 80",
          "71 - 80",
          "71 - 80",
          "71 - 80",
          "71 - 80",
          "71 - 80",
          "71 - 80",
          "71 - 80",
          "71 - 80",
          "71 - 80",
          "71 - 80",
          "71 - 80",
          "71 - 80",
          "71 - 80",
          "71 - 80",
          "71 - 80",
          "71 - 80",
          "71 - 80",
          "71 - 80",
          "71 - 80",
          "71 - 80",
          "71 - 80",
          "71 - 80",
          "71 - 80",
          "71 - 80",
          "71 - 80",
          "71 - 80",
          "71 - 80",
          "71 - 80",
          "71 - 80",
          "71 - 80",
          "71 - 80",
          "71 - 80",
          "71 - 80",
          "71 - 80",
          "71 - 80",
          "71 - 80",
          "71 - 80",
          "71 - 80",
          "71 - 80",
          "71 - 80",
          "71 - 80",
          "71 - 80",
          "71 - 80",
          "71 - 80",
          "71 - 80",
          "71 - 80",
          "71 - 80",
          "81 - 90",
          "81 - 90",
          "81 - 90",
          "81 - 90",
          "81 - 90",
          "81 - 90",
          "81 - 90",
          "81 - 90",
          "81 - 90",
          "81 - 90",
          "81 - 90",
          "81 - 90",
          "81 - 90",
          "81 - 90",
          "81 - 90",
          "81 - 90",
          "81 - 90",
          "81 - 90",
          "81 - 90",
          "81 - 90",
          "81 - 90",
          "81 - 90",
          "81 - 90",
          "81 - 90",
          "81 - 90",
          "81 - 90",
          "81 - 90",
          "81 - 90",
          "81 - 90",
          "81 - 90",
          "81 - 90",
          "81 - 90",
          "81 - 90",
          "81 - 90",
          "81 - 90",
          "81 - 90",
          "81 - 90",
          "81 - 90",
          "81 - 90",
          "81 - 90",
          "81 - 90",
          "81 - 90",
          "81 - 90",
          "81 - 90",
          "81 - 90",
          "81 - 90",
          "81 - 90",
          "81 - 90",
          "81 - 90",
          "81 - 90",
          "81 - 90",
          "81 - 90",
          "81 - 90",
          "81 - 90",
          "81 - 90",
          "81 - 90",
          "81 - 90",
          "81 - 90",
          "81 - 90",
          "81 - 90",
          "81 - 90",
          "81 - 90",
          "81 - 90",
          "81 - 90",
          "81 - 90",
          "81 - 90",
          "81 - 90",
          "81 - 90",
          "81 - 90",
          "81 - 90",
          "81 - 90",
          "81 - 90",
          "81 - 90",
          "81 - 90",
          "81 - 90",
          "81 - 90",
          "81 - 90",
          "81 - 90",
          "81 - 90",
          "81 - 90",
          "81 - 90",
          "81 - 90",
          "81 - 90",
          "81 - 90",
          "81 - 90",
          "81 - 90",
          "81 - 90",
          "81 - 90",
          "81 - 90",
          "81 - 90",
          "81 - 90",
          "81 - 90",
          "81 - 90",
          "81 - 90",
          "81 - 90",
          "81 - 90",
          "81 - 90",
          "81 - 90",
          "81 - 90",
          "81 - 90",
          "81 - 90",
          "81 - 90",
          "81 - 90",
          "81 - 90",
          "81 - 90",
          "81 - 90",
          "81 - 90",
          "81 - 90",
          "81 - 90",
          "81 - 90",
          "81 - 90",
          "81 - 90",
          "81 - 90",
          "81 - 90",
          "81 - 90",
          "81 - 90",
          "81 - 90",
          "81 - 90",
          "81 - 90",
          "81 - 90",
          "81 - 90",
          "81 - 90",
          "81 - 90",
          "81 - 90",
          "81 - 90",
          "81 - 90",
          "81 - 90",
          "81 - 90",
          "81 - 90",
          "81 - 90",
          "81 - 90",
          "81 - 90",
          "81 - 90",
          "81 - 90",
          "81 - 90",
          "81 - 90",
          "81 - 90",
          "81 - 90",
          "81 - 90",
          "81 - 90",
          "81 - 90",
          "81 - 90",
          "81 - 90",
          "81 - 90",
          "81 - 90",
          "81 - 90",
          "81 - 90",
          "81 - 90",
          "81 - 90",
          "81 - 90",
          "81 - 90",
          "81 - 90",
          "81 - 90",
          "81 - 90",
          "81 - 90",
          "81 - 90",
          "81 - 90",
          "81 - 90",
          "81 - 90",
          "81 - 90",
          "81 - 90",
          "81 - 90",
          "81 - 90",
          "81 - 90",
          "81 - 90",
          "81 - 90",
          "81 - 90",
          "81 - 90",
          "81 - 90",
          "81 - 90",
          "81 - 90",
          "81 - 90",
          "81 - 90",
          "91 - 100",
          "91 - 100",
          "91 - 100",
          "91 - 100",
          "91 - 100",
          "91 - 100",
          "91 - 100",
          "91 - 100",
          "91 - 100",
          "91 - 100",
          "91 - 100",
          "91 - 100",
          "91 - 100",
          "91 - 100",
          "91 - 100",
          "91 - 100",
          "91 - 100",
          "91 - 100",
          "91 - 100",
          "91 - 100",
          "91 - 100",
          "91 - 100",
          "91 - 100",
          "91 - 100",
          "91 - 100",
          "91 - 100",
          "91 - 100",
          "91 - 100",
          "91 - 100",
          "91 - 100",
          "91 - 100",
          "91 - 100",
          "91 - 100",
          "91 - 100",
          "91 - 100",
          "91 - 100",
          "91 - 100",
          "91 - 100",
          "91 - 100",
          "91 - 100",
          "91 - 100",
          "91 - 100",
          "91 - 100",
          "91 - 100",
          "91 - 100",
          "91 - 100",
          "91 - 100",
          "91 - 100",
          "91 - 100",
          "91 - 100",
          "91 - 100",
          "91 - 100",
          "91 - 100",
          "91 - 100",
          "91 - 100",
          "91 - 100",
          "91 - 100",
          "91 - 100",
          "91 - 100",
          "91 - 100",
          "91 - 100",
          "91 - 100",
          "91 - 100",
          "91 - 100",
          "91 - 100",
          "91 - 100",
          "91 - 100",
          "91 - 100",
          "91 - 100",
          "91 - 100",
          "91 - 100",
          "91 - 100",
          "91 - 100",
          "91 - 100",
          "91 - 100",
          "91 - 100",
          "91 - 100",
          "91 - 100",
          "91 - 100",
          "91 - 100",
          "91 - 100",
          "91 - 100",
          "91 - 100",
          "91 - 100",
          "91 - 100",
          "91 - 100",
          "91 - 100",
          "91 - 100",
          "91 - 100",
          "91 - 100",
          "91 - 100",
          "91 - 100",
          "91 - 100",
          "91 - 100",
          "91 - 100",
          "91 - 100",
          "91 - 100",
          "91 - 100",
          "91 - 100",
          "91 - 100",
          "91 - 100",
          "91 - 100",
          "91 - 100",
          "91 - 100",
          "91 - 100",
          "91 - 100",
          "91 - 100",
          "91 - 100",
          "91 - 100",
          "91 - 100",
          "91 - 100",
          "91 - 100",
          "91 - 100",
          "91 - 100",
          "91 - 100",
          "91 - 100",
          "91 - 100",
          "91 - 100",
          "91 - 100",
          "91 - 100",
          "91 - 100",
          "91 - 100",
          "91 - 100",
          "91 - 100",
          "91 - 100",
          "91 - 100",
          "91 - 100",
          "91 - 100",
          "91 - 100",
          "91 - 100",
          "91 - 100",
          "91 - 100",
          "91 - 100",
          "91 - 100",
          "91 - 100",
          "91 - 100",
          "91 - 100",
          "91 - 100",
          "91 - 100",
          "91 - 100",
          "91 - 100",
          "91 - 100",
          "91 - 100",
          "91 - 100",
          "91 - 100",
          "91 - 100",
          "91 - 100",
          "91 - 100",
          "91 - 100",
          "91 - 100"
         ],
         "xaxis": "x",
         "xbingroup": "x",
         "y": [
          "0 - 10",
          "71 - 80",
          "71 - 80",
          "71 - 80",
          "51 - 60",
          "51 - 60",
          "51 - 60",
          "41 - 50",
          "41 - 50",
          "31 - 40",
          "31 - 40",
          "31 - 40",
          "31 - 40",
          "31 - 40",
          "21 - 30",
          "21 - 30",
          "21 - 30",
          "21 - 30",
          "11 - 20",
          "0 - 10",
          "11 - 20",
          "11 - 20",
          "11 - 20",
          "0 - 10",
          "71 - 80",
          "71 - 80",
          "31 - 40",
          "71 - 80",
          "71 - 80",
          "81 - 90",
          "81 - 90",
          "0 - 10",
          "81 - 90",
          "81 - 90",
          "11 - 20",
          "31 - 40",
          "0 - 10",
          "0 - 10",
          "31 - 40",
          "41 - 50",
          "41 - 50",
          "81 - 90",
          "51 - 60",
          "51 - 60",
          "31 - 40",
          "81 - 90",
          "71 - 80",
          "21 - 30",
          "11 - 20",
          "51 - 60",
          "31 - 40",
          "91 - 100",
          "11 - 20",
          "81 - 90",
          "31 - 40",
          "11 - 20",
          "21 - 30",
          "41 - 50",
          "11 - 20",
          "11 - 20",
          "11 - 20",
          "61 - 70",
          "11 - 20",
          "61 - 70",
          "0 - 10",
          "71 - 80",
          "0 - 10",
          "21 - 30",
          "21 - 30",
          "91 - 100",
          "81 - 90",
          "41 - 50",
          "0 - 10",
          "11 - 20",
          "61 - 70",
          "91 - 100",
          "41 - 50",
          "61 - 70",
          "91 - 100",
          "11 - 20",
          "21 - 30",
          "0 - 10",
          "11 - 20",
          "0 - 10",
          "0 - 10",
          "61 - 70",
          "71 - 80",
          "81 - 90",
          "41 - 50",
          "0 - 10",
          "0 - 10",
          "81 - 90",
          "11 - 20",
          "11 - 20",
          "91 - 100",
          "0 - 10",
          "21 - 30",
          "41 - 50",
          "31 - 40",
          "11 - 20",
          "11 - 20",
          "11 - 20",
          "31 - 40",
          "0 - 10",
          "31 - 40",
          "0 - 10",
          "0 - 10",
          "0 - 10",
          "91 - 100",
          "31 - 40",
          "61 - 70",
          "81 - 90",
          "21 - 30",
          "21 - 30",
          "91 - 100",
          "21 - 30",
          "51 - 60",
          "41 - 50",
          "41 - 50",
          "21 - 30",
          "61 - 70",
          "51 - 60",
          "51 - 60",
          "91 - 100",
          "11 - 20",
          "31 - 40",
          "31 - 40",
          "21 - 30",
          "91 - 100",
          "11 - 20",
          "51 - 60",
          "71 - 80",
          "91 - 100",
          "0 - 10",
          "41 - 50",
          "0 - 10",
          "21 - 30",
          "51 - 60",
          "41 - 50",
          "61 - 70",
          "51 - 60",
          "91 - 100",
          "11 - 20",
          "91 - 100",
          "0 - 10",
          "51 - 60",
          "61 - 70",
          "11 - 20",
          "91 - 100",
          "0 - 10",
          "11 - 20",
          "11 - 20",
          "21 - 30",
          "81 - 90",
          "21 - 30",
          "71 - 80",
          "51 - 60",
          "21 - 30",
          "31 - 40",
          "61 - 70",
          "0 - 10",
          "61 - 70",
          "81 - 90",
          "91 - 100",
          "21 - 30",
          "41 - 50",
          "31 - 40",
          "11 - 20",
          "0 - 10",
          "11 - 20",
          "0 - 10",
          "91 - 100",
          "0 - 10",
          "61 - 70",
          "71 - 80",
          "31 - 40",
          "0 - 10",
          "11 - 20",
          "21 - 30",
          "21 - 30",
          "0 - 10",
          "0 - 10",
          "11 - 20",
          "21 - 30",
          "11 - 20",
          "21 - 30",
          "11 - 20",
          "51 - 60",
          "11 - 20",
          "0 - 10",
          "71 - 80",
          "11 - 20",
          "51 - 60",
          "71 - 80",
          "61 - 70",
          "41 - 50",
          "0 - 10",
          "31 - 40",
          "51 - 60",
          "91 - 100",
          "71 - 80",
          "21 - 30",
          "51 - 60",
          "21 - 30",
          "51 - 60",
          "81 - 90",
          "0 - 10",
          "81 - 90",
          "31 - 40",
          "11 - 20",
          "21 - 30",
          "21 - 30",
          "31 - 40",
          "0 - 10",
          "71 - 80",
          "0 - 10",
          "11 - 20",
          "71 - 80",
          "71 - 80",
          "21 - 30",
          "31 - 40",
          "81 - 90",
          "0 - 10",
          "61 - 70",
          "0 - 10",
          "71 - 80",
          "21 - 30",
          "41 - 50",
          "41 - 50",
          "11 - 20",
          "51 - 60",
          "0 - 10",
          "61 - 70",
          "61 - 70",
          "31 - 40",
          "91 - 100",
          "31 - 40",
          "31 - 40",
          "11 - 20",
          "61 - 70",
          "11 - 20",
          "11 - 20",
          "41 - 50",
          "41 - 50",
          "11 - 20",
          "31 - 40",
          "31 - 40",
          "31 - 40",
          "51 - 60",
          "31 - 40",
          "81 - 90",
          "0 - 10",
          "31 - 40",
          "31 - 40",
          "11 - 20",
          "31 - 40",
          "41 - 50",
          "31 - 40",
          "71 - 80",
          "31 - 40",
          "81 - 90",
          "0 - 10",
          "91 - 100",
          "0 - 10",
          "0 - 10",
          "21 - 30",
          "61 - 70",
          "71 - 80",
          "91 - 100",
          "31 - 40",
          "11 - 20",
          "21 - 30",
          "31 - 40",
          "71 - 80",
          "31 - 40",
          "11 - 20",
          "31 - 40",
          "0 - 10",
          "0 - 10",
          "61 - 70",
          "0 - 10",
          "11 - 20",
          "21 - 30",
          "11 - 20",
          "51 - 60",
          "51 - 60",
          "41 - 50",
          "11 - 20",
          "51 - 60",
          "91 - 100",
          "21 - 30",
          "51 - 60",
          "71 - 80",
          "71 - 80",
          "31 - 40",
          "71 - 80",
          "11 - 20",
          "0 - 10",
          "21 - 30",
          "81 - 90",
          "41 - 50",
          "21 - 30",
          "31 - 40",
          "0 - 10",
          "71 - 80",
          "51 - 60",
          "51 - 60",
          "41 - 50",
          "11 - 20",
          "91 - 100",
          "0 - 10",
          "51 - 60",
          "0 - 10",
          "21 - 30",
          "51 - 60",
          "51 - 60",
          "21 - 30",
          "21 - 30",
          "0 - 10",
          "51 - 60",
          "21 - 30",
          "31 - 40",
          "61 - 70",
          "11 - 20",
          "71 - 80",
          "41 - 50",
          "61 - 70",
          "41 - 50",
          "21 - 30",
          "31 - 40",
          "51 - 60",
          "21 - 30",
          "21 - 30",
          "51 - 60",
          "51 - 60",
          "11 - 20",
          "51 - 60",
          "11 - 20",
          "41 - 50",
          "41 - 50",
          "81 - 90",
          "21 - 30",
          "0 - 10",
          "91 - 100",
          "0 - 10",
          "0 - 10",
          "41 - 50",
          "41 - 50",
          "31 - 40",
          "31 - 40",
          "41 - 50",
          "51 - 60",
          "21 - 30",
          "41 - 50",
          "31 - 40",
          "0 - 10",
          "31 - 40",
          "81 - 90",
          "0 - 10",
          "0 - 10",
          "71 - 80",
          "0 - 10",
          "11 - 20",
          "11 - 20",
          "0 - 10",
          "0 - 10",
          "71 - 80",
          "11 - 20",
          "21 - 30",
          "0 - 10",
          "21 - 30",
          "11 - 20",
          "61 - 70",
          "71 - 80",
          "41 - 50",
          "71 - 80",
          "11 - 20",
          "51 - 60",
          "11 - 20",
          "51 - 60",
          "31 - 40",
          "11 - 20",
          "91 - 100",
          "0 - 10",
          "0 - 10",
          "11 - 20",
          "31 - 40",
          "11 - 20",
          "71 - 80",
          "0 - 10",
          "71 - 80",
          "11 - 20",
          "91 - 100",
          "31 - 40",
          "61 - 70",
          "61 - 70",
          "21 - 30",
          "51 - 60",
          "0 - 10",
          "0 - 10",
          "91 - 100",
          "51 - 60",
          "21 - 30",
          "91 - 100",
          "11 - 20",
          "11 - 20",
          "71 - 80",
          "0 - 10",
          "51 - 60",
          "21 - 30",
          "71 - 80",
          "61 - 70",
          "51 - 60",
          "41 - 50",
          "41 - 50",
          "0 - 10",
          "0 - 10",
          "0 - 10",
          "0 - 10",
          "61 - 70",
          "91 - 100",
          "81 - 90",
          "61 - 70",
          "21 - 30",
          "61 - 70",
          "31 - 40",
          "81 - 90",
          "21 - 30",
          "21 - 30",
          "0 - 10",
          "31 - 40",
          "0 - 10",
          "0 - 10",
          "31 - 40",
          "0 - 10",
          "0 - 10",
          "81 - 90",
          "21 - 30",
          "21 - 30",
          "41 - 50",
          "0 - 10",
          "71 - 80",
          "81 - 90",
          "71 - 80",
          "81 - 90",
          "71 - 80",
          "41 - 50",
          "51 - 60",
          "0 - 10",
          "81 - 90",
          "31 - 40",
          "11 - 20",
          "81 - 90",
          "51 - 60",
          "21 - 30",
          "21 - 30",
          "71 - 80",
          "71 - 80",
          "81 - 90",
          "41 - 50",
          "31 - 40",
          "41 - 50",
          "61 - 70",
          "21 - 30",
          "61 - 70",
          "61 - 70",
          "61 - 70",
          "41 - 50",
          "61 - 70",
          "0 - 10",
          "91 - 100",
          "11 - 20",
          "61 - 70",
          "21 - 30",
          "61 - 70",
          "51 - 60",
          "51 - 60",
          "81 - 90",
          "11 - 20",
          "0 - 10",
          "41 - 50",
          "41 - 50",
          "51 - 60",
          "0 - 10",
          "51 - 60",
          "91 - 100",
          "31 - 40",
          "11 - 20",
          "81 - 90",
          "81 - 90",
          "41 - 50",
          "31 - 40",
          "91 - 100",
          "0 - 10",
          "11 - 20",
          "21 - 30",
          "61 - 70",
          "0 - 10",
          "21 - 30",
          "21 - 30",
          "41 - 50",
          "51 - 60",
          "11 - 20",
          "31 - 40",
          "51 - 60",
          "0 - 10",
          "51 - 60",
          "91 - 100",
          "0 - 10",
          "31 - 40",
          "31 - 40",
          "51 - 60",
          "11 - 20",
          "21 - 30",
          "81 - 90",
          "41 - 50",
          "41 - 50",
          "11 - 20",
          "81 - 90",
          "91 - 100",
          "51 - 60",
          "0 - 10",
          "11 - 20",
          "81 - 90",
          "51 - 60",
          "41 - 50",
          "11 - 20",
          "11 - 20",
          "41 - 50",
          "81 - 90",
          "61 - 70",
          "21 - 30",
          "31 - 40",
          "71 - 80",
          "21 - 30",
          "31 - 40",
          "0 - 10",
          "31 - 40",
          "31 - 40",
          "21 - 30",
          "71 - 80",
          "0 - 10",
          "71 - 80",
          "11 - 20",
          "71 - 80",
          "11 - 20",
          "61 - 70",
          "0 - 10",
          "51 - 60",
          "41 - 50",
          "61 - 70",
          "41 - 50",
          "61 - 70",
          "61 - 70",
          "41 - 50",
          "31 - 40",
          "41 - 50",
          "31 - 40",
          "41 - 50",
          "21 - 30",
          "0 - 10",
          "0 - 10",
          "21 - 30",
          "0 - 10",
          "21 - 30",
          "21 - 30",
          "0 - 10",
          "21 - 30",
          "0 - 10",
          "81 - 90",
          "81 - 90",
          "11 - 20",
          "11 - 20",
          "11 - 20",
          "31 - 40",
          "61 - 70",
          "31 - 40",
          "71 - 80",
          "21 - 30",
          "51 - 60",
          "21 - 30",
          "71 - 80",
          "0 - 10",
          "71 - 80",
          "41 - 50",
          "81 - 90",
          "61 - 70",
          "81 - 90",
          "71 - 80",
          "21 - 30",
          "41 - 50",
          "0 - 10",
          "31 - 40",
          "0 - 10",
          "31 - 40",
          "21 - 30",
          "41 - 50",
          "41 - 50",
          "71 - 80",
          "0 - 10",
          "21 - 30",
          "31 - 40",
          "51 - 60",
          "0 - 10",
          "11 - 20",
          "41 - 50",
          "31 - 40",
          "21 - 30",
          "61 - 70",
          "41 - 50",
          "61 - 70",
          "31 - 40",
          "31 - 40",
          "41 - 50",
          "61 - 70",
          "21 - 30",
          "41 - 50",
          "41 - 50",
          "81 - 90",
          "21 - 30",
          "51 - 60",
          "91 - 100",
          "51 - 60",
          "21 - 30",
          "61 - 70",
          "71 - 80",
          "21 - 30",
          "0 - 10",
          "81 - 90",
          "91 - 100",
          "71 - 80",
          "41 - 50",
          "41 - 50",
          "31 - 40",
          "71 - 80",
          "51 - 60",
          "0 - 10",
          "0 - 10",
          "11 - 20",
          "81 - 90",
          "0 - 10",
          "11 - 20",
          "0 - 10",
          "61 - 70",
          "21 - 30",
          "41 - 50",
          "21 - 30",
          "0 - 10",
          "21 - 30",
          "61 - 70",
          "11 - 20",
          "91 - 100",
          "41 - 50",
          "0 - 10",
          "51 - 60",
          "41 - 50",
          "31 - 40",
          "71 - 80",
          "91 - 100",
          "91 - 100",
          "11 - 20",
          "41 - 50",
          "91 - 100",
          "11 - 20",
          "81 - 90",
          "81 - 90",
          "61 - 70",
          "21 - 30",
          "31 - 40",
          "21 - 30",
          "71 - 80",
          "11 - 20",
          "81 - 90",
          "51 - 60",
          "41 - 50",
          "0 - 10",
          "81 - 90",
          "71 - 80",
          "11 - 20",
          "11 - 20",
          "41 - 50",
          "21 - 30",
          "11 - 20",
          "61 - 70",
          "71 - 80",
          "71 - 80",
          "61 - 70",
          "31 - 40",
          "0 - 10",
          "51 - 60",
          "0 - 10",
          "41 - 50",
          "11 - 20",
          "31 - 40",
          "51 - 60",
          "41 - 50",
          "21 - 30",
          "61 - 70",
          "21 - 30",
          "71 - 80",
          "21 - 30",
          "71 - 80",
          "71 - 80",
          "21 - 30",
          "11 - 20",
          "0 - 10",
          "61 - 70",
          "81 - 90",
          "21 - 30",
          "41 - 50",
          "41 - 50",
          "21 - 30",
          "0 - 10",
          "0 - 10",
          "11 - 20",
          "81 - 90",
          "51 - 60",
          "71 - 80",
          "31 - 40",
          "71 - 80",
          "41 - 50",
          "41 - 50",
          "0 - 10",
          "11 - 20",
          "41 - 50",
          "11 - 20",
          "61 - 70",
          "81 - 90",
          "31 - 40",
          "11 - 20",
          "0 - 10",
          "61 - 70",
          "0 - 10",
          "11 - 20",
          "0 - 10",
          "0 - 10",
          "71 - 80",
          "21 - 30",
          "51 - 60",
          "21 - 30",
          "61 - 70",
          "61 - 70",
          "21 - 30",
          "0 - 10",
          "21 - 30",
          "51 - 60",
          "71 - 80",
          "11 - 20",
          "31 - 40",
          "91 - 100",
          "31 - 40",
          "21 - 30",
          "0 - 10",
          "31 - 40",
          "0 - 10",
          "51 - 60",
          "41 - 50",
          "41 - 50",
          "11 - 20",
          "41 - 50",
          "91 - 100",
          "0 - 10",
          "0 - 10",
          "51 - 60",
          "11 - 20",
          "11 - 20",
          "41 - 50",
          "51 - 60",
          "11 - 20",
          "0 - 10",
          "41 - 50",
          "51 - 60",
          "51 - 60",
          "81 - 90",
          "0 - 10",
          "0 - 10",
          "51 - 60",
          "11 - 20",
          "31 - 40",
          "71 - 80",
          "61 - 70",
          "71 - 80",
          "31 - 40",
          "71 - 80",
          "61 - 70",
          "0 - 10",
          "21 - 30",
          "61 - 70",
          "61 - 70",
          "21 - 30",
          "31 - 40",
          "11 - 20",
          "11 - 20",
          "31 - 40",
          "21 - 30",
          "41 - 50",
          "21 - 30",
          "31 - 40",
          "41 - 50",
          "21 - 30",
          "61 - 70",
          "61 - 70",
          "21 - 30",
          "31 - 40",
          "71 - 80",
          "31 - 40",
          "31 - 40",
          "11 - 20",
          "31 - 40",
          "21 - 30",
          "91 - 100",
          "71 - 80",
          "31 - 40",
          "21 - 30",
          "0 - 10",
          "31 - 40",
          "71 - 80",
          "41 - 50",
          "41 - 50",
          "31 - 40",
          "0 - 10",
          "31 - 40",
          "31 - 40",
          "41 - 50",
          "71 - 80",
          "71 - 80",
          "31 - 40",
          "81 - 90",
          "51 - 60",
          "0 - 10",
          "11 - 20",
          "11 - 20",
          "11 - 20",
          "51 - 60",
          "51 - 60",
          "71 - 80",
          "0 - 10",
          "71 - 80",
          "31 - 40",
          "0 - 10",
          "71 - 80",
          "0 - 10",
          "71 - 80",
          "31 - 40",
          "71 - 80",
          "21 - 30",
          "31 - 40",
          "71 - 80",
          "91 - 100",
          "91 - 100",
          "71 - 80",
          "91 - 100",
          "11 - 20",
          "21 - 30",
          "81 - 90",
          "51 - 60",
          "81 - 90",
          "81 - 90",
          "0 - 10",
          "81 - 90",
          "0 - 10",
          "21 - 30",
          "61 - 70",
          "81 - 90",
          "71 - 80",
          "51 - 60",
          "21 - 30",
          "31 - 40",
          "71 - 80",
          "31 - 40",
          "91 - 100",
          "41 - 50",
          "91 - 100",
          "31 - 40",
          "61 - 70",
          "91 - 100",
          "51 - 60",
          "81 - 90",
          "81 - 90",
          "61 - 70",
          "51 - 60",
          "51 - 60",
          "81 - 90",
          "61 - 70",
          "81 - 90",
          "51 - 60",
          "81 - 90",
          "61 - 70",
          "81 - 90",
          "91 - 100",
          "71 - 80",
          "51 - 60",
          "61 - 70",
          "51 - 60",
          "51 - 60",
          "51 - 60",
          "21 - 30",
          "11 - 20",
          "21 - 30",
          "31 - 40",
          "11 - 20",
          "11 - 20",
          "31 - 40",
          "31 - 40",
          "0 - 10",
          "21 - 30",
          "51 - 60",
          "41 - 50",
          "41 - 50",
          "0 - 10",
          "81 - 90",
          "81 - 90",
          "21 - 30",
          "11 - 20",
          "31 - 40",
          "71 - 80",
          "91 - 100",
          "0 - 10",
          "11 - 20",
          "11 - 20",
          "0 - 10",
          "0 - 10",
          "31 - 40",
          "61 - 70",
          "31 - 40",
          "51 - 60",
          "91 - 100",
          "11 - 20",
          "21 - 30",
          "61 - 70",
          "61 - 70",
          "61 - 70",
          "51 - 60",
          "31 - 40",
          "91 - 100",
          "91 - 100",
          "61 - 70",
          "71 - 80",
          "51 - 60",
          "61 - 70",
          "71 - 80",
          "71 - 80",
          "31 - 40",
          "61 - 70",
          "31 - 40",
          "61 - 70",
          "61 - 70",
          "61 - 70",
          "41 - 50",
          "61 - 70",
          "41 - 50",
          "41 - 50",
          "71 - 80",
          "31 - 40",
          "51 - 60",
          "91 - 100",
          "91 - 100",
          "91 - 100",
          "81 - 90",
          "11 - 20",
          "81 - 90",
          "81 - 90",
          "81 - 90",
          "91 - 100",
          "81 - 90",
          "11 - 20",
          "81 - 90",
          "81 - 90",
          "81 - 90",
          "51 - 60",
          "31 - 40",
          "11 - 20",
          "61 - 70",
          "11 - 20",
          "61 - 70",
          "31 - 40",
          "31 - 40",
          "11 - 20",
          "11 - 20",
          "31 - 40",
          "61 - 70",
          "51 - 60",
          "41 - 50",
          "41 - 50",
          "51 - 60",
          "21 - 30",
          "81 - 90",
          "71 - 80",
          "41 - 50",
          "11 - 20",
          "51 - 60",
          "51 - 60",
          "61 - 70",
          "61 - 70",
          "21 - 30",
          "61 - 70",
          "0 - 10",
          "91 - 100",
          "91 - 100",
          "0 - 10",
          "91 - 100",
          "91 - 100",
          "61 - 70",
          "91 - 100",
          "0 - 10",
          "71 - 80",
          "31 - 40",
          "31 - 40",
          "81 - 90",
          "21 - 30",
          "71 - 80",
          "71 - 80",
          "81 - 90",
          "21 - 30",
          "81 - 90",
          "21 - 30",
          "71 - 80",
          "71 - 80",
          "31 - 40",
          "31 - 40",
          "11 - 20",
          "71 - 80",
          "81 - 90",
          "31 - 40",
          "71 - 80",
          "61 - 70",
          "81 - 90",
          "61 - 70",
          "71 - 80",
          "71 - 80",
          "0 - 10",
          "41 - 50",
          "41 - 50",
          "41 - 50",
          "51 - 60",
          "41 - 50",
          "51 - 60",
          "41 - 50",
          "41 - 50",
          "91 - 100",
          "91 - 100",
          "91 - 100",
          "41 - 50",
          "61 - 70",
          "61 - 70",
          "11 - 20",
          "31 - 40",
          "91 - 100",
          "31 - 40",
          "41 - 50",
          "0 - 10",
          "11 - 20",
          "81 - 90",
          "91 - 100",
          "0 - 10",
          "71 - 80",
          "31 - 40",
          "91 - 100",
          "31 - 40",
          "11 - 20",
          "11 - 20",
          "31 - 40",
          "51 - 60",
          "81 - 90",
          "0 - 10",
          "81 - 90",
          "41 - 50",
          "21 - 30",
          "31 - 40",
          "11 - 20",
          "21 - 30",
          "41 - 50",
          "31 - 40",
          "21 - 30",
          "31 - 40",
          "21 - 30",
          "91 - 100",
          "91 - 100",
          "91 - 100",
          "11 - 20",
          "0 - 10",
          "81 - 90",
          "51 - 60",
          "11 - 20",
          "0 - 10",
          "0 - 10",
          "91 - 100",
          "11 - 20",
          "91 - 100",
          "41 - 50",
          "51 - 60",
          "51 - 60",
          "41 - 50",
          "51 - 60",
          "21 - 30",
          "91 - 100",
          "11 - 20",
          "81 - 90",
          "21 - 30",
          "31 - 40",
          "11 - 20",
          "41 - 50",
          "51 - 60",
          "71 - 80",
          "81 - 90",
          "61 - 70",
          "21 - 30",
          "31 - 40",
          "61 - 70",
          "41 - 50",
          "41 - 50",
          "51 - 60",
          "0 - 10",
          "81 - 90",
          "0 - 10",
          "41 - 50",
          "41 - 50",
          "41 - 50",
          "51 - 60",
          "81 - 90",
          "21 - 30",
          "61 - 70",
          "31 - 40",
          "61 - 70",
          "51 - 60",
          "81 - 90",
          "41 - 50",
          "71 - 80",
          "51 - 60",
          "31 - 40",
          "51 - 60",
          "81 - 90",
          "51 - 60",
          "91 - 100",
          "51 - 60",
          "71 - 80",
          "61 - 70",
          "21 - 30",
          "51 - 60",
          "31 - 40",
          "41 - 50",
          "61 - 70",
          "0 - 10",
          "41 - 50",
          "81 - 90",
          "11 - 20",
          "31 - 40",
          "61 - 70",
          "11 - 20",
          "81 - 90",
          "51 - 60",
          "21 - 30",
          "21 - 30",
          "51 - 60",
          "51 - 60",
          "81 - 90",
          "81 - 90",
          "81 - 90",
          "11 - 20",
          "81 - 90",
          "61 - 70",
          "21 - 30",
          "41 - 50",
          "21 - 30",
          "61 - 70",
          "61 - 70",
          "51 - 60",
          "71 - 80",
          "71 - 80",
          "41 - 50",
          "21 - 30",
          "91 - 100",
          "61 - 70",
          "51 - 60",
          "91 - 100",
          "11 - 20",
          "71 - 80",
          "61 - 70",
          "21 - 30",
          "31 - 40",
          "81 - 90",
          "21 - 30",
          "11 - 20",
          "51 - 60",
          "11 - 20",
          "61 - 70",
          "21 - 30",
          "81 - 90",
          "91 - 100",
          "11 - 20",
          "71 - 80",
          "0 - 10",
          "81 - 90",
          "71 - 80",
          "71 - 80",
          "0 - 10",
          "51 - 60",
          "21 - 30",
          "21 - 30",
          "41 - 50",
          "41 - 50",
          "41 - 50",
          "91 - 100",
          "21 - 30",
          "91 - 100",
          "11 - 20",
          "61 - 70",
          "51 - 60",
          "61 - 70",
          "31 - 40",
          "31 - 40",
          "31 - 40",
          "91 - 100",
          "91 - 100",
          "51 - 60",
          "51 - 60",
          "81 - 90",
          "61 - 70",
          "91 - 100",
          "61 - 70",
          "91 - 100",
          "81 - 90",
          "11 - 20",
          "91 - 100",
          "91 - 100",
          "21 - 30",
          "51 - 60",
          "81 - 90",
          "91 - 100",
          "91 - 100",
          "71 - 80",
          "61 - 70",
          "51 - 60",
          "61 - 70",
          "71 - 80",
          "0 - 10",
          "61 - 70",
          "31 - 40",
          "91 - 100",
          "51 - 60",
          "0 - 10",
          "71 - 80",
          "41 - 50",
          "91 - 100",
          "91 - 100",
          "0 - 10",
          "11 - 20",
          "51 - 60",
          "81 - 90",
          "91 - 100",
          "21 - 30",
          "51 - 60",
          "91 - 100",
          "51 - 60",
          "11 - 20",
          "21 - 30",
          "0 - 10",
          "0 - 10",
          "71 - 80",
          "61 - 70",
          "51 - 60",
          "81 - 90",
          "81 - 90",
          "31 - 40",
          "71 - 80",
          "41 - 50",
          "11 - 20",
          "71 - 80",
          "71 - 80",
          "0 - 10",
          "21 - 30",
          "71 - 80",
          "41 - 50",
          "71 - 80",
          "41 - 50",
          "51 - 60",
          "31 - 40",
          "41 - 50",
          "21 - 30",
          "21 - 30",
          "21 - 30",
          "51 - 60",
          "41 - 50",
          "91 - 100",
          "51 - 60",
          "81 - 90",
          "61 - 70",
          "51 - 60",
          "81 - 90",
          "81 - 90",
          "51 - 60",
          "91 - 100",
          "0 - 10",
          "41 - 50",
          "41 - 50",
          "11 - 20",
          "0 - 10",
          "41 - 50",
          "0 - 10",
          "91 - 100",
          "0 - 10",
          "21 - 30",
          "71 - 80",
          "91 - 100",
          "61 - 70",
          "51 - 60",
          "71 - 80",
          "81 - 90",
          "91 - 100",
          "81 - 90",
          "21 - 30",
          "0 - 10",
          "11 - 20",
          "41 - 50",
          "91 - 100",
          "91 - 100",
          "41 - 50",
          "11 - 20",
          "71 - 80",
          "31 - 40",
          "91 - 100",
          "81 - 90",
          "21 - 30",
          "41 - 50",
          "61 - 70",
          "71 - 80",
          "91 - 100",
          "21 - 30",
          "61 - 70",
          "51 - 60",
          "81 - 90",
          "71 - 80",
          "0 - 10",
          "11 - 20",
          "31 - 40",
          "31 - 40",
          "51 - 60",
          "0 - 10",
          "71 - 80",
          "51 - 60",
          "61 - 70",
          "71 - 80",
          "11 - 20",
          "71 - 80",
          "11 - 20",
          "71 - 80",
          "11 - 20",
          "81 - 90",
          "21 - 30",
          "61 - 70",
          "21 - 30",
          "41 - 50",
          "61 - 70",
          "51 - 60",
          "91 - 100",
          "51 - 60",
          "51 - 60",
          "61 - 70",
          "61 - 70",
          "0 - 10",
          "71 - 80",
          "71 - 80",
          "31 - 40",
          "21 - 30",
          "41 - 50",
          "91 - 100",
          "71 - 80",
          "41 - 50",
          "81 - 90",
          "51 - 60",
          "31 - 40",
          "71 - 80",
          "61 - 70",
          "91 - 100",
          "31 - 40",
          "91 - 100",
          "31 - 40",
          "91 - 100",
          "91 - 100",
          "0 - 10",
          "11 - 20",
          "21 - 30",
          "61 - 70",
          "81 - 90",
          "61 - 70",
          "61 - 70",
          "11 - 20",
          "41 - 50",
          "51 - 60",
          "81 - 90",
          "11 - 20",
          "81 - 90",
          "91 - 100",
          "61 - 70",
          "91 - 100",
          "51 - 60",
          "71 - 80",
          "41 - 50",
          "71 - 80",
          "91 - 100",
          "81 - 90",
          "11 - 20",
          "41 - 50",
          "0 - 10",
          "51 - 60",
          "11 - 20",
          "81 - 90",
          "71 - 80",
          "0 - 10",
          "11 - 20",
          "91 - 100",
          "61 - 70",
          "61 - 70",
          "61 - 70",
          "41 - 50",
          "91 - 100",
          "81 - 90",
          "81 - 90",
          "61 - 70",
          "0 - 10",
          "71 - 80",
          "81 - 90",
          "51 - 60",
          "51 - 60",
          "81 - 90",
          "81 - 90",
          "61 - 70",
          "81 - 90",
          "81 - 90",
          "41 - 50",
          "51 - 60",
          "91 - 100",
          "81 - 90",
          "11 - 20",
          "51 - 60",
          "71 - 80",
          "51 - 60",
          "31 - 40",
          "41 - 50",
          "71 - 80",
          "41 - 50",
          "51 - 60",
          "71 - 80",
          "81 - 90",
          "41 - 50",
          "71 - 80",
          "81 - 90",
          "31 - 40",
          "91 - 100",
          "91 - 100",
          "61 - 70",
          "51 - 60",
          "41 - 50",
          "61 - 70",
          "61 - 70",
          "61 - 70",
          "51 - 60",
          "0 - 10",
          "61 - 70",
          "81 - 90",
          "81 - 90",
          "61 - 70",
          "71 - 80",
          "91 - 100",
          "31 - 40",
          "11 - 20",
          "71 - 80",
          "91 - 100",
          "91 - 100",
          "0 - 10",
          "0 - 10",
          "51 - 60",
          "41 - 50",
          "51 - 60",
          "61 - 70",
          "31 - 40",
          "21 - 30",
          "81 - 90",
          "91 - 100",
          "31 - 40",
          "11 - 20",
          "61 - 70",
          "71 - 80",
          "21 - 30",
          "31 - 40",
          "21 - 30",
          "41 - 50",
          "61 - 70",
          "81 - 90",
          "61 - 70",
          "0 - 10",
          "61 - 70",
          "31 - 40",
          "61 - 70",
          "81 - 90",
          "61 - 70",
          "11 - 20",
          "61 - 70",
          "51 - 60",
          "61 - 70",
          "91 - 100",
          "0 - 10",
          "91 - 100",
          "81 - 90",
          "91 - 100",
          "91 - 100",
          "21 - 30",
          "71 - 80",
          "21 - 30",
          "61 - 70",
          "41 - 50",
          "41 - 50",
          "51 - 60",
          "81 - 90",
          "41 - 50",
          "41 - 50",
          "61 - 70",
          "91 - 100",
          "91 - 100",
          "0 - 10",
          "41 - 50",
          "41 - 50",
          "61 - 70",
          "91 - 100",
          "31 - 40",
          "61 - 70",
          "61 - 70",
          "61 - 70",
          "41 - 50",
          "81 - 90",
          "91 - 100",
          "81 - 90",
          "81 - 90",
          "41 - 50",
          "21 - 30",
          "81 - 90",
          "41 - 50",
          "11 - 20",
          "11 - 20",
          "41 - 50",
          "71 - 80",
          "41 - 50",
          "71 - 80",
          "21 - 30",
          "61 - 70",
          "81 - 90",
          "21 - 30",
          "51 - 60",
          "41 - 50",
          "0 - 10",
          "91 - 100",
          "71 - 80",
          "91 - 100",
          "21 - 30",
          "61 - 70",
          "0 - 10",
          "0 - 10",
          "71 - 80",
          "51 - 60",
          "61 - 70",
          "31 - 40",
          "51 - 60",
          "71 - 80",
          "81 - 90",
          "91 - 100",
          "81 - 90",
          "81 - 90",
          "41 - 50",
          "81 - 90",
          "41 - 50",
          "0 - 10",
          "0 - 10",
          "0 - 10",
          "71 - 80",
          "41 - 50",
          "91 - 100",
          "31 - 40",
          "0 - 10",
          "71 - 80",
          "61 - 70",
          "81 - 90",
          "81 - 90",
          "51 - 60",
          "91 - 100",
          "81 - 90",
          "91 - 100",
          "61 - 70",
          "91 - 100",
          "91 - 100",
          "91 - 100",
          "41 - 50",
          "71 - 80",
          "71 - 80",
          "71 - 80",
          "81 - 90",
          "91 - 100",
          "71 - 80",
          "11 - 20",
          "91 - 100",
          "81 - 90",
          "51 - 60",
          "31 - 40",
          "91 - 100",
          "91 - 100",
          "41 - 50",
          "31 - 40",
          "51 - 60",
          "11 - 20",
          "11 - 20",
          "21 - 30",
          "71 - 80",
          "61 - 70",
          "61 - 70",
          "51 - 60",
          "51 - 60",
          "11 - 20",
          "61 - 70",
          "21 - 30",
          "81 - 90",
          "81 - 90",
          "71 - 80",
          "41 - 50",
          "21 - 30",
          "31 - 40",
          "81 - 90",
          "11 - 20",
          "91 - 100",
          "71 - 80",
          "51 - 60",
          "51 - 60",
          "61 - 70",
          "61 - 70",
          "91 - 100",
          "81 - 90",
          "71 - 80",
          "81 - 90",
          "0 - 10",
          "81 - 90",
          "0 - 10",
          "91 - 100",
          "61 - 70",
          "91 - 100",
          "91 - 100",
          "91 - 100",
          "81 - 90",
          "91 - 100",
          "81 - 90",
          "21 - 30",
          "61 - 70",
          "71 - 80",
          "81 - 90",
          "81 - 90",
          "11 - 20",
          "61 - 70",
          "51 - 60",
          "11 - 20",
          "81 - 90",
          "0 - 10",
          "81 - 90",
          "41 - 50",
          "71 - 80",
          "21 - 30",
          "41 - 50",
          "51 - 60",
          "21 - 30",
          "81 - 90",
          "71 - 80",
          "51 - 60",
          "91 - 100",
          "61 - 70",
          "81 - 90",
          "31 - 40",
          "71 - 80",
          "41 - 50",
          "81 - 90",
          "61 - 70",
          "41 - 50",
          "21 - 30",
          "81 - 90",
          "91 - 100",
          "71 - 80",
          "61 - 70",
          "21 - 30",
          "31 - 40",
          "31 - 40",
          "61 - 70",
          "51 - 60",
          "81 - 90",
          "31 - 40",
          "91 - 100",
          "41 - 50",
          "71 - 80",
          "81 - 90",
          "31 - 40",
          "21 - 30",
          "81 - 90",
          "81 - 90",
          "61 - 70",
          "71 - 80",
          "71 - 80",
          "51 - 60",
          "71 - 80",
          "91 - 100",
          "81 - 90",
          "11 - 20",
          "0 - 10",
          "31 - 40",
          "31 - 40",
          "81 - 90",
          "71 - 80",
          "71 - 80",
          "11 - 20",
          "71 - 80",
          "91 - 100",
          "51 - 60",
          "91 - 100",
          "71 - 80",
          "71 - 80",
          "71 - 80",
          "91 - 100",
          "91 - 100",
          "81 - 90",
          "41 - 50",
          "61 - 70",
          "91 - 100",
          "51 - 60",
          "81 - 90",
          "71 - 80",
          "61 - 70"
         ],
         "yaxis": "y",
         "ybingroup": "y"
        }
       ],
       "layout": {
        "coloraxis": {
         "colorbar": {
          "title": {
           "text": "count"
          }
         },
         "colorscale": [
          [
           0,
           "#440154"
          ],
          [
           0.1111111111111111,
           "#482878"
          ],
          [
           0.2222222222222222,
           "#3e4989"
          ],
          [
           0.3333333333333333,
           "#31688e"
          ],
          [
           0.4444444444444444,
           "#26828e"
          ],
          [
           0.5555555555555556,
           "#1f9e89"
          ],
          [
           0.6666666666666666,
           "#35b779"
          ],
          [
           0.7777777777777778,
           "#6ece58"
          ],
          [
           0.8888888888888888,
           "#b5de2b"
          ],
          [
           1,
           "#fde725"
          ]
         ]
        },
        "legend": {
         "tracegroupgap": 0
        },
        "margin": {
         "t": 60
        },
        "template": {
         "data": {
          "bar": [
           {
            "error_x": {
             "color": "#f2f5fa"
            },
            "error_y": {
             "color": "#f2f5fa"
            },
            "marker": {
             "line": {
              "color": "rgb(17,17,17)",
              "width": 0.5
             },
             "pattern": {
              "fillmode": "overlay",
              "size": 10,
              "solidity": 0.2
             }
            },
            "type": "bar"
           }
          ],
          "barpolar": [
           {
            "marker": {
             "line": {
              "color": "rgb(17,17,17)",
              "width": 0.5
             },
             "pattern": {
              "fillmode": "overlay",
              "size": 10,
              "solidity": 0.2
             }
            },
            "type": "barpolar"
           }
          ],
          "carpet": [
           {
            "aaxis": {
             "endlinecolor": "#A2B1C6",
             "gridcolor": "#506784",
             "linecolor": "#506784",
             "minorgridcolor": "#506784",
             "startlinecolor": "#A2B1C6"
            },
            "baxis": {
             "endlinecolor": "#A2B1C6",
             "gridcolor": "#506784",
             "linecolor": "#506784",
             "minorgridcolor": "#506784",
             "startlinecolor": "#A2B1C6"
            },
            "type": "carpet"
           }
          ],
          "choropleth": [
           {
            "colorbar": {
             "outlinewidth": 0,
             "ticks": ""
            },
            "type": "choropleth"
           }
          ],
          "contour": [
           {
            "colorbar": {
             "outlinewidth": 0,
             "ticks": ""
            },
            "colorscale": [
             [
              0,
              "#0d0887"
             ],
             [
              0.1111111111111111,
              "#46039f"
             ],
             [
              0.2222222222222222,
              "#7201a8"
             ],
             [
              0.3333333333333333,
              "#9c179e"
             ],
             [
              0.4444444444444444,
              "#bd3786"
             ],
             [
              0.5555555555555556,
              "#d8576b"
             ],
             [
              0.6666666666666666,
              "#ed7953"
             ],
             [
              0.7777777777777778,
              "#fb9f3a"
             ],
             [
              0.8888888888888888,
              "#fdca26"
             ],
             [
              1,
              "#f0f921"
             ]
            ],
            "type": "contour"
           }
          ],
          "contourcarpet": [
           {
            "colorbar": {
             "outlinewidth": 0,
             "ticks": ""
            },
            "type": "contourcarpet"
           }
          ],
          "heatmap": [
           {
            "colorbar": {
             "outlinewidth": 0,
             "ticks": ""
            },
            "colorscale": [
             [
              0,
              "#0d0887"
             ],
             [
              0.1111111111111111,
              "#46039f"
             ],
             [
              0.2222222222222222,
              "#7201a8"
             ],
             [
              0.3333333333333333,
              "#9c179e"
             ],
             [
              0.4444444444444444,
              "#bd3786"
             ],
             [
              0.5555555555555556,
              "#d8576b"
             ],
             [
              0.6666666666666666,
              "#ed7953"
             ],
             [
              0.7777777777777778,
              "#fb9f3a"
             ],
             [
              0.8888888888888888,
              "#fdca26"
             ],
             [
              1,
              "#f0f921"
             ]
            ],
            "type": "heatmap"
           }
          ],
          "heatmapgl": [
           {
            "colorbar": {
             "outlinewidth": 0,
             "ticks": ""
            },
            "colorscale": [
             [
              0,
              "#0d0887"
             ],
             [
              0.1111111111111111,
              "#46039f"
             ],
             [
              0.2222222222222222,
              "#7201a8"
             ],
             [
              0.3333333333333333,
              "#9c179e"
             ],
             [
              0.4444444444444444,
              "#bd3786"
             ],
             [
              0.5555555555555556,
              "#d8576b"
             ],
             [
              0.6666666666666666,
              "#ed7953"
             ],
             [
              0.7777777777777778,
              "#fb9f3a"
             ],
             [
              0.8888888888888888,
              "#fdca26"
             ],
             [
              1,
              "#f0f921"
             ]
            ],
            "type": "heatmapgl"
           }
          ],
          "histogram": [
           {
            "marker": {
             "pattern": {
              "fillmode": "overlay",
              "size": 10,
              "solidity": 0.2
             }
            },
            "type": "histogram"
           }
          ],
          "histogram2d": [
           {
            "colorbar": {
             "outlinewidth": 0,
             "ticks": ""
            },
            "colorscale": [
             [
              0,
              "#0d0887"
             ],
             [
              0.1111111111111111,
              "#46039f"
             ],
             [
              0.2222222222222222,
              "#7201a8"
             ],
             [
              0.3333333333333333,
              "#9c179e"
             ],
             [
              0.4444444444444444,
              "#bd3786"
             ],
             [
              0.5555555555555556,
              "#d8576b"
             ],
             [
              0.6666666666666666,
              "#ed7953"
             ],
             [
              0.7777777777777778,
              "#fb9f3a"
             ],
             [
              0.8888888888888888,
              "#fdca26"
             ],
             [
              1,
              "#f0f921"
             ]
            ],
            "type": "histogram2d"
           }
          ],
          "histogram2dcontour": [
           {
            "colorbar": {
             "outlinewidth": 0,
             "ticks": ""
            },
            "colorscale": [
             [
              0,
              "#0d0887"
             ],
             [
              0.1111111111111111,
              "#46039f"
             ],
             [
              0.2222222222222222,
              "#7201a8"
             ],
             [
              0.3333333333333333,
              "#9c179e"
             ],
             [
              0.4444444444444444,
              "#bd3786"
             ],
             [
              0.5555555555555556,
              "#d8576b"
             ],
             [
              0.6666666666666666,
              "#ed7953"
             ],
             [
              0.7777777777777778,
              "#fb9f3a"
             ],
             [
              0.8888888888888888,
              "#fdca26"
             ],
             [
              1,
              "#f0f921"
             ]
            ],
            "type": "histogram2dcontour"
           }
          ],
          "mesh3d": [
           {
            "colorbar": {
             "outlinewidth": 0,
             "ticks": ""
            },
            "type": "mesh3d"
           }
          ],
          "parcoords": [
           {
            "line": {
             "colorbar": {
              "outlinewidth": 0,
              "ticks": ""
             }
            },
            "type": "parcoords"
           }
          ],
          "pie": [
           {
            "automargin": true,
            "type": "pie"
           }
          ],
          "scatter": [
           {
            "marker": {
             "line": {
              "color": "#283442"
             }
            },
            "type": "scatter"
           }
          ],
          "scatter3d": [
           {
            "line": {
             "colorbar": {
              "outlinewidth": 0,
              "ticks": ""
             }
            },
            "marker": {
             "colorbar": {
              "outlinewidth": 0,
              "ticks": ""
             }
            },
            "type": "scatter3d"
           }
          ],
          "scattercarpet": [
           {
            "marker": {
             "colorbar": {
              "outlinewidth": 0,
              "ticks": ""
             }
            },
            "type": "scattercarpet"
           }
          ],
          "scattergeo": [
           {
            "marker": {
             "colorbar": {
              "outlinewidth": 0,
              "ticks": ""
             }
            },
            "type": "scattergeo"
           }
          ],
          "scattergl": [
           {
            "marker": {
             "line": {
              "color": "#283442"
             }
            },
            "type": "scattergl"
           }
          ],
          "scattermapbox": [
           {
            "marker": {
             "colorbar": {
              "outlinewidth": 0,
              "ticks": ""
             }
            },
            "type": "scattermapbox"
           }
          ],
          "scatterpolar": [
           {
            "marker": {
             "colorbar": {
              "outlinewidth": 0,
              "ticks": ""
             }
            },
            "type": "scatterpolar"
           }
          ],
          "scatterpolargl": [
           {
            "marker": {
             "colorbar": {
              "outlinewidth": 0,
              "ticks": ""
             }
            },
            "type": "scatterpolargl"
           }
          ],
          "scatterternary": [
           {
            "marker": {
             "colorbar": {
              "outlinewidth": 0,
              "ticks": ""
             }
            },
            "type": "scatterternary"
           }
          ],
          "surface": [
           {
            "colorbar": {
             "outlinewidth": 0,
             "ticks": ""
            },
            "colorscale": [
             [
              0,
              "#0d0887"
             ],
             [
              0.1111111111111111,
              "#46039f"
             ],
             [
              0.2222222222222222,
              "#7201a8"
             ],
             [
              0.3333333333333333,
              "#9c179e"
             ],
             [
              0.4444444444444444,
              "#bd3786"
             ],
             [
              0.5555555555555556,
              "#d8576b"
             ],
             [
              0.6666666666666666,
              "#ed7953"
             ],
             [
              0.7777777777777778,
              "#fb9f3a"
             ],
             [
              0.8888888888888888,
              "#fdca26"
             ],
             [
              1,
              "#f0f921"
             ]
            ],
            "type": "surface"
           }
          ],
          "table": [
           {
            "cells": {
             "fill": {
              "color": "#506784"
             },
             "line": {
              "color": "rgb(17,17,17)"
             }
            },
            "header": {
             "fill": {
              "color": "#2a3f5f"
             },
             "line": {
              "color": "rgb(17,17,17)"
             }
            },
            "type": "table"
           }
          ]
         },
         "layout": {
          "annotationdefaults": {
           "arrowcolor": "#f2f5fa",
           "arrowhead": 0,
           "arrowwidth": 1
          },
          "autotypenumbers": "strict",
          "coloraxis": {
           "colorbar": {
            "outlinewidth": 0,
            "ticks": ""
           }
          },
          "colorscale": {
           "diverging": [
            [
             0,
             "#8e0152"
            ],
            [
             0.1,
             "#c51b7d"
            ],
            [
             0.2,
             "#de77ae"
            ],
            [
             0.3,
             "#f1b6da"
            ],
            [
             0.4,
             "#fde0ef"
            ],
            [
             0.5,
             "#f7f7f7"
            ],
            [
             0.6,
             "#e6f5d0"
            ],
            [
             0.7,
             "#b8e186"
            ],
            [
             0.8,
             "#7fbc41"
            ],
            [
             0.9,
             "#4d9221"
            ],
            [
             1,
             "#276419"
            ]
           ],
           "sequential": [
            [
             0,
             "#0d0887"
            ],
            [
             0.1111111111111111,
             "#46039f"
            ],
            [
             0.2222222222222222,
             "#7201a8"
            ],
            [
             0.3333333333333333,
             "#9c179e"
            ],
            [
             0.4444444444444444,
             "#bd3786"
            ],
            [
             0.5555555555555556,
             "#d8576b"
            ],
            [
             0.6666666666666666,
             "#ed7953"
            ],
            [
             0.7777777777777778,
             "#fb9f3a"
            ],
            [
             0.8888888888888888,
             "#fdca26"
            ],
            [
             1,
             "#f0f921"
            ]
           ],
           "sequentialminus": [
            [
             0,
             "#0d0887"
            ],
            [
             0.1111111111111111,
             "#46039f"
            ],
            [
             0.2222222222222222,
             "#7201a8"
            ],
            [
             0.3333333333333333,
             "#9c179e"
            ],
            [
             0.4444444444444444,
             "#bd3786"
            ],
            [
             0.5555555555555556,
             "#d8576b"
            ],
            [
             0.6666666666666666,
             "#ed7953"
            ],
            [
             0.7777777777777778,
             "#fb9f3a"
            ],
            [
             0.8888888888888888,
             "#fdca26"
            ],
            [
             1,
             "#f0f921"
            ]
           ]
          },
          "colorway": [
           "#636efa",
           "#EF553B",
           "#00cc96",
           "#ab63fa",
           "#FFA15A",
           "#19d3f3",
           "#FF6692",
           "#B6E880",
           "#FF97FF",
           "#FECB52"
          ],
          "font": {
           "color": "#f2f5fa"
          },
          "geo": {
           "bgcolor": "rgb(17,17,17)",
           "lakecolor": "rgb(17,17,17)",
           "landcolor": "rgb(17,17,17)",
           "showlakes": true,
           "showland": true,
           "subunitcolor": "#506784"
          },
          "hoverlabel": {
           "align": "left"
          },
          "hovermode": "closest",
          "mapbox": {
           "style": "dark"
          },
          "paper_bgcolor": "rgb(17,17,17)",
          "plot_bgcolor": "rgb(17,17,17)",
          "polar": {
           "angularaxis": {
            "gridcolor": "#506784",
            "linecolor": "#506784",
            "ticks": ""
           },
           "bgcolor": "rgb(17,17,17)",
           "radialaxis": {
            "gridcolor": "#506784",
            "linecolor": "#506784",
            "ticks": ""
           }
          },
          "scene": {
           "xaxis": {
            "backgroundcolor": "rgb(17,17,17)",
            "gridcolor": "#506784",
            "gridwidth": 2,
            "linecolor": "#506784",
            "showbackground": true,
            "ticks": "",
            "zerolinecolor": "#C8D4E3"
           },
           "yaxis": {
            "backgroundcolor": "rgb(17,17,17)",
            "gridcolor": "#506784",
            "gridwidth": 2,
            "linecolor": "#506784",
            "showbackground": true,
            "ticks": "",
            "zerolinecolor": "#C8D4E3"
           },
           "zaxis": {
            "backgroundcolor": "rgb(17,17,17)",
            "gridcolor": "#506784",
            "gridwidth": 2,
            "linecolor": "#506784",
            "showbackground": true,
            "ticks": "",
            "zerolinecolor": "#C8D4E3"
           }
          },
          "shapedefaults": {
           "line": {
            "color": "#f2f5fa"
           }
          },
          "sliderdefaults": {
           "bgcolor": "#C8D4E3",
           "bordercolor": "rgb(17,17,17)",
           "borderwidth": 1,
           "tickwidth": 0
          },
          "ternary": {
           "aaxis": {
            "gridcolor": "#506784",
            "linecolor": "#506784",
            "ticks": ""
           },
           "baxis": {
            "gridcolor": "#506784",
            "linecolor": "#506784",
            "ticks": ""
           },
           "bgcolor": "rgb(17,17,17)",
           "caxis": {
            "gridcolor": "#506784",
            "linecolor": "#506784",
            "ticks": ""
           }
          },
          "title": {
           "x": 0.05
          },
          "updatemenudefaults": {
           "bgcolor": "#506784",
           "borderwidth": 0
          },
          "xaxis": {
           "automargin": true,
           "gridcolor": "#283442",
           "linecolor": "#506784",
           "ticks": "",
           "title": {
            "standoff": 15
           },
           "zerolinecolor": "#283442",
           "zerolinewidth": 2
          },
          "yaxis": {
           "automargin": true,
           "gridcolor": "#283442",
           "linecolor": "#506784",
           "ticks": "",
           "title": {
            "standoff": 15
           },
           "zerolinecolor": "#283442",
           "zerolinewidth": 2
          }
         }
        },
        "title": {
         "text": "Popularity vs Chart Power"
        },
        "xaxis": {
         "anchor": "y",
         "domain": [
          0,
          1
         ],
         "title": {
          "text": "Popularity"
         }
        },
        "yaxis": {
         "anchor": "x",
         "categoryarray": [
          "0 - 10",
          "11 - 20",
          "21 - 30",
          "31 - 40",
          "41 - 50",
          "51 - 60",
          "61 - 70",
          "71 - 80",
          "81 - 90",
          "91 - 100"
         ],
         "categoryorder": "array",
         "domain": [
          0,
          1
         ],
         "title": {
          "text": "Chart Power"
         }
        }
       }
      }
     },
     "metadata": {},
     "output_type": "display_data"
    }
   ],
   "source": [
    "def create_heatmap(df_, title=\"Popularity vs Chart Power\"):\n",
    "    fig = px.density_heatmap(df_, x=\"popularity_percentile\", y=\"chart_power_percentile\", nbinsx=10, nbinsy=10, color_continuous_scale=\"Viridis\")\n",
    "    fig.update_yaxes(categoryorder=\"array\", categoryarray=labels)\n",
    "    fig.update_layout(\n",
    "        title=title,\n",
    "        template=\"plotly_dark\",\n",
    "        xaxis_title=\"Popularity\",\n",
    "        yaxis_title=\"Chart Power\"\n",
    "    )\n",
    "    fig.show()\n",
    "\n",
    "create_heatmap(df_found_copy)"
   ]
  },
  {
   "cell_type": "markdown",
   "metadata": {},
   "source": [
    "### Vergleichbarkeit\n",
    "\n",
    "- Vergleich: Deutscher Produktionen an Chartpower Songs vs. Deutsche Produktionen an Spotify Popularity\n",
    "- Zusammensetzung der Populärsten Songs nach Herkunftsländern (Chartpower vs. Spotify Popularity)\n"
   ]
  },
  {
   "cell_type": "code",
   "execution_count": 154,
   "metadata": {},
   "outputs": [],
   "source": [
    "df_comparison = df_found.copy()"
   ]
  },
  {
   "cell_type": "code",
   "execution_count": 167,
   "metadata": {},
   "outputs": [],
   "source": [
    "df_comparison[\"country_code\"] = df_comparison[\"isrc\"].apply(lambda x: x[:2])\n",
    "df_comparison[\"country_code\"] = df_comparison[\"country_code\"].str.upper()\n",
    "df_comparison = df_comparison[df_comparison[\"country_code\"] == \"DE\"]"
   ]
  },
  {
   "cell_type": "code",
   "execution_count": 168,
   "metadata": {},
   "outputs": [],
   "source": [
    "df_comparison = create_percentiles(df_comparison)"
   ]
  },
  {
   "cell_type": "code",
   "execution_count": 186,
   "metadata": {},
   "outputs": [
    {
     "data": {
      "application/vnd.plotly.v1+json": {
       "config": {
        "plotlyServerURL": "https://plot.ly"
       },
       "data": [
        {
         "coloraxis": "coloraxis",
         "hovertemplate": "popularity_percentile=%{x}<br>chart_power_percentile=%{y}<br>count=%{z}<extra></extra>",
         "name": "",
         "nbinsx": 10,
         "nbinsy": 10,
         "type": "histogram2d",
         "x": [
          "0 - 10",
          "0 - 10",
          "0 - 10",
          "0 - 10",
          "0 - 10",
          "0 - 10",
          "0 - 10",
          "0 - 10",
          "0 - 10",
          "0 - 10",
          "0 - 10",
          "0 - 10",
          "0 - 10",
          "0 - 10",
          "0 - 10",
          "0 - 10",
          "0 - 10",
          "0 - 10",
          "0 - 10",
          "0 - 10",
          "0 - 10",
          "0 - 10",
          "0 - 10",
          "0 - 10",
          "0 - 10",
          "0 - 10",
          "0 - 10",
          "0 - 10",
          "0 - 10",
          "0 - 10",
          "0 - 10",
          "0 - 10",
          "0 - 10",
          "0 - 10",
          "0 - 10",
          "0 - 10",
          "0 - 10",
          "0 - 10",
          "0 - 10",
          "0 - 10",
          "0 - 10",
          "0 - 10",
          "0 - 10",
          "0 - 10",
          "0 - 10",
          "0 - 10",
          "0 - 10",
          "0 - 10",
          "0 - 10",
          "0 - 10",
          "0 - 10",
          "11 - 20",
          "11 - 20",
          "11 - 20",
          "11 - 20",
          "11 - 20",
          "11 - 20",
          "11 - 20",
          "11 - 20",
          "11 - 20",
          "11 - 20",
          "11 - 20",
          "11 - 20",
          "11 - 20",
          "11 - 20",
          "11 - 20",
          "11 - 20",
          "11 - 20",
          "11 - 20",
          "11 - 20",
          "11 - 20",
          "11 - 20",
          "11 - 20",
          "11 - 20",
          "11 - 20",
          "11 - 20",
          "11 - 20",
          "11 - 20",
          "11 - 20",
          "11 - 20",
          "11 - 20",
          "11 - 20",
          "11 - 20",
          "11 - 20",
          "11 - 20",
          "11 - 20",
          "11 - 20",
          "11 - 20",
          "11 - 20",
          "11 - 20",
          "11 - 20",
          "11 - 20",
          "11 - 20",
          "11 - 20",
          "11 - 20",
          "11 - 20",
          "11 - 20",
          "11 - 20",
          "11 - 20",
          "11 - 20",
          "11 - 20",
          "11 - 20",
          "11 - 20",
          "11 - 20",
          "11 - 20",
          "11 - 20",
          "21 - 30",
          "21 - 30",
          "21 - 30",
          "21 - 30",
          "21 - 30",
          "21 - 30",
          "21 - 30",
          "21 - 30",
          "21 - 30",
          "21 - 30",
          "21 - 30",
          "21 - 30",
          "21 - 30",
          "21 - 30",
          "21 - 30",
          "21 - 30",
          "21 - 30",
          "21 - 30",
          "21 - 30",
          "21 - 30",
          "21 - 30",
          "21 - 30",
          "21 - 30",
          "21 - 30",
          "21 - 30",
          "21 - 30",
          "21 - 30",
          "21 - 30",
          "21 - 30",
          "21 - 30",
          "21 - 30",
          "21 - 30",
          "21 - 30",
          "21 - 30",
          "21 - 30",
          "21 - 30",
          "21 - 30",
          "21 - 30",
          "21 - 30",
          "21 - 30",
          "21 - 30",
          "21 - 30",
          "21 - 30",
          "21 - 30",
          "21 - 30",
          "21 - 30",
          "21 - 30",
          "31 - 40",
          "31 - 40",
          "31 - 40",
          "31 - 40",
          "31 - 40",
          "31 - 40",
          "31 - 40",
          "31 - 40",
          "31 - 40",
          "31 - 40",
          "31 - 40",
          "31 - 40",
          "31 - 40",
          "31 - 40",
          "31 - 40",
          "31 - 40",
          "31 - 40",
          "31 - 40",
          "31 - 40",
          "31 - 40",
          "31 - 40",
          "31 - 40",
          "31 - 40",
          "31 - 40",
          "31 - 40",
          "31 - 40",
          "31 - 40",
          "31 - 40",
          "31 - 40",
          "31 - 40",
          "31 - 40",
          "31 - 40",
          "31 - 40",
          "31 - 40",
          "31 - 40",
          "31 - 40",
          "31 - 40",
          "31 - 40",
          "31 - 40",
          "31 - 40",
          "31 - 40",
          "31 - 40",
          "31 - 40",
          "31 - 40",
          "31 - 40",
          "31 - 40",
          "31 - 40",
          "31 - 40",
          "31 - 40",
          "31 - 40",
          "31 - 40",
          "31 - 40",
          "31 - 40",
          "31 - 40",
          "31 - 40",
          "31 - 40",
          "31 - 40",
          "31 - 40",
          "41 - 50",
          "41 - 50",
          "41 - 50",
          "41 - 50",
          "41 - 50",
          "41 - 50",
          "41 - 50",
          "41 - 50",
          "41 - 50",
          "41 - 50",
          "41 - 50",
          "41 - 50",
          "41 - 50",
          "41 - 50",
          "41 - 50",
          "41 - 50",
          "41 - 50",
          "41 - 50",
          "41 - 50",
          "41 - 50",
          "41 - 50",
          "41 - 50",
          "41 - 50",
          "41 - 50",
          "41 - 50",
          "41 - 50",
          "41 - 50",
          "41 - 50",
          "41 - 50",
          "41 - 50",
          "41 - 50",
          "41 - 50",
          "41 - 50",
          "41 - 50",
          "41 - 50",
          "41 - 50",
          "41 - 50",
          "41 - 50",
          "41 - 50",
          "41 - 50",
          "51 - 60",
          "51 - 60",
          "51 - 60",
          "51 - 60",
          "51 - 60",
          "51 - 60",
          "51 - 60",
          "51 - 60",
          "51 - 60",
          "51 - 60",
          "51 - 60",
          "51 - 60",
          "51 - 60",
          "51 - 60",
          "51 - 60",
          "51 - 60",
          "51 - 60",
          "51 - 60",
          "51 - 60",
          "51 - 60",
          "51 - 60",
          "51 - 60",
          "51 - 60",
          "51 - 60",
          "51 - 60",
          "51 - 60",
          "51 - 60",
          "51 - 60",
          "51 - 60",
          "51 - 60",
          "51 - 60",
          "51 - 60",
          "51 - 60",
          "51 - 60",
          "51 - 60",
          "51 - 60",
          "51 - 60",
          "51 - 60",
          "51 - 60",
          "51 - 60",
          "51 - 60",
          "51 - 60",
          "51 - 60",
          "51 - 60",
          "51 - 60",
          "51 - 60",
          "51 - 60",
          "51 - 60",
          "51 - 60",
          "51 - 60",
          "51 - 60",
          "51 - 60",
          "51 - 60",
          "51 - 60",
          "51 - 60",
          "51 - 60",
          "51 - 60",
          "61 - 70",
          "61 - 70",
          "61 - 70",
          "61 - 70",
          "61 - 70",
          "61 - 70",
          "61 - 70",
          "61 - 70",
          "61 - 70",
          "61 - 70",
          "61 - 70",
          "61 - 70",
          "61 - 70",
          "61 - 70",
          "61 - 70",
          "61 - 70",
          "61 - 70",
          "61 - 70",
          "61 - 70",
          "61 - 70",
          "61 - 70",
          "61 - 70",
          "61 - 70",
          "61 - 70",
          "61 - 70",
          "61 - 70",
          "61 - 70",
          "61 - 70",
          "61 - 70",
          "61 - 70",
          "61 - 70",
          "61 - 70",
          "61 - 70",
          "61 - 70",
          "61 - 70",
          "61 - 70",
          "61 - 70",
          "61 - 70",
          "61 - 70",
          "61 - 70",
          "61 - 70",
          "61 - 70",
          "61 - 70",
          "61 - 70",
          "61 - 70",
          "61 - 70",
          "61 - 70",
          "61 - 70",
          "61 - 70",
          "61 - 70",
          "71 - 80",
          "71 - 80",
          "71 - 80",
          "71 - 80",
          "71 - 80",
          "71 - 80",
          "71 - 80",
          "71 - 80",
          "71 - 80",
          "71 - 80",
          "71 - 80",
          "71 - 80",
          "71 - 80",
          "71 - 80",
          "71 - 80",
          "71 - 80",
          "71 - 80",
          "71 - 80",
          "71 - 80",
          "71 - 80",
          "71 - 80",
          "71 - 80",
          "71 - 80",
          "71 - 80",
          "71 - 80",
          "71 - 80",
          "71 - 80",
          "71 - 80",
          "71 - 80",
          "71 - 80",
          "71 - 80",
          "71 - 80",
          "71 - 80",
          "71 - 80",
          "71 - 80",
          "71 - 80",
          "71 - 80",
          "71 - 80",
          "71 - 80",
          "71 - 80",
          "71 - 80",
          "71 - 80",
          "71 - 80",
          "71 - 80",
          "71 - 80",
          "71 - 80",
          "71 - 80",
          "71 - 80",
          "81 - 90",
          "81 - 90",
          "81 - 90",
          "81 - 90",
          "81 - 90",
          "81 - 90",
          "81 - 90",
          "81 - 90",
          "81 - 90",
          "81 - 90",
          "81 - 90",
          "81 - 90",
          "81 - 90",
          "81 - 90",
          "81 - 90",
          "81 - 90",
          "81 - 90",
          "81 - 90",
          "81 - 90",
          "81 - 90",
          "81 - 90",
          "81 - 90",
          "81 - 90",
          "81 - 90",
          "81 - 90",
          "81 - 90",
          "81 - 90",
          "81 - 90",
          "81 - 90",
          "81 - 90",
          "81 - 90",
          "81 - 90",
          "81 - 90",
          "81 - 90",
          "81 - 90",
          "81 - 90",
          "81 - 90",
          "81 - 90",
          "81 - 90",
          "81 - 90",
          "81 - 90",
          "81 - 90",
          "81 - 90",
          "81 - 90",
          "81 - 90",
          "81 - 90",
          "81 - 90",
          "81 - 90",
          "81 - 90",
          "81 - 90",
          "81 - 90",
          "81 - 90",
          "81 - 90",
          "81 - 90",
          "91 - 100",
          "91 - 100",
          "91 - 100",
          "91 - 100",
          "91 - 100",
          "91 - 100",
          "91 - 100",
          "91 - 100",
          "91 - 100",
          "91 - 100",
          "91 - 100",
          "91 - 100",
          "91 - 100",
          "91 - 100",
          "91 - 100",
          "91 - 100",
          "91 - 100",
          "91 - 100",
          "91 - 100",
          "91 - 100",
          "91 - 100",
          "91 - 100",
          "91 - 100",
          "91 - 100",
          "91 - 100",
          "91 - 100",
          "91 - 100",
          "91 - 100",
          "91 - 100",
          "91 - 100",
          "91 - 100",
          "91 - 100",
          "91 - 100",
          "91 - 100",
          "91 - 100",
          "91 - 100",
          "91 - 100",
          "91 - 100",
          "91 - 100",
          "91 - 100",
          "91 - 100",
          "91 - 100",
          "91 - 100",
          "91 - 100"
         ],
         "xaxis": "x",
         "xbingroup": "x",
         "y": [
          "0 - 10",
          "31 - 40",
          "11 - 20",
          "71 - 80",
          "71 - 80",
          "21 - 30",
          "31 - 40",
          "71 - 80",
          "51 - 60",
          "71 - 80",
          "41 - 50",
          "41 - 50",
          "0 - 10",
          "91 - 100",
          "11 - 20",
          "11 - 20",
          "31 - 40",
          "51 - 60",
          "51 - 60",
          "21 - 30",
          "11 - 20",
          "21 - 30",
          "0 - 10",
          "11 - 20",
          "11 - 20",
          "61 - 70",
          "71 - 80",
          "0 - 10",
          "0 - 10",
          "11 - 20",
          "61 - 70",
          "81 - 90",
          "0 - 10",
          "0 - 10",
          "81 - 90",
          "31 - 40",
          "11 - 20",
          "11 - 20",
          "81 - 90",
          "51 - 60",
          "61 - 70",
          "51 - 60",
          "31 - 40",
          "91 - 100",
          "31 - 40",
          "21 - 30",
          "0 - 10",
          "21 - 30",
          "41 - 50",
          "41 - 50",
          "21 - 30",
          "51 - 60",
          "91 - 100",
          "31 - 40",
          "51 - 60",
          "31 - 40",
          "11 - 20",
          "21 - 30",
          "81 - 90",
          "51 - 60",
          "0 - 10",
          "91 - 100",
          "91 - 100",
          "61 - 70",
          "41 - 50",
          "41 - 50",
          "11 - 20",
          "11 - 20",
          "31 - 40",
          "81 - 90",
          "91 - 100",
          "0 - 10",
          "61 - 70",
          "0 - 10",
          "11 - 20",
          "11 - 20",
          "0 - 10",
          "41 - 50",
          "21 - 30",
          "11 - 20",
          "21 - 30",
          "21 - 30",
          "0 - 10",
          "21 - 30",
          "31 - 40",
          "51 - 60",
          "91 - 100",
          "51 - 60",
          "71 - 80",
          "71 - 80",
          "61 - 70",
          "0 - 10",
          "11 - 20",
          "81 - 90",
          "21 - 30",
          "0 - 10",
          "31 - 40",
          "0 - 10",
          "41 - 50",
          "0 - 10",
          "81 - 90",
          "71 - 80",
          "11 - 20",
          "31 - 40",
          "61 - 70",
          "61 - 70",
          "31 - 40",
          "81 - 90",
          "41 - 50",
          "31 - 40",
          "91 - 100",
          "51 - 60",
          "11 - 20",
          "11 - 20",
          "41 - 50",
          "61 - 70",
          "0 - 10",
          "0 - 10",
          "31 - 40",
          "31 - 40",
          "81 - 90",
          "31 - 40",
          "91 - 100",
          "11 - 20",
          "11 - 20",
          "51 - 60",
          "0 - 10",
          "0 - 10",
          "61 - 70",
          "71 - 80",
          "51 - 60",
          "21 - 30",
          "0 - 10",
          "51 - 60",
          "71 - 80",
          "41 - 50",
          "81 - 90",
          "11 - 20",
          "21 - 30",
          "0 - 10",
          "11 - 20",
          "91 - 100",
          "21 - 30",
          "51 - 60",
          "21 - 30",
          "0 - 10",
          "51 - 60",
          "51 - 60",
          "21 - 30",
          "51 - 60",
          "61 - 70",
          "51 - 60",
          "31 - 40",
          "41 - 50",
          "91 - 100",
          "41 - 50",
          "51 - 60",
          "31 - 40",
          "41 - 50",
          "41 - 50",
          "0 - 10",
          "0 - 10",
          "0 - 10",
          "71 - 80",
          "0 - 10",
          "21 - 30",
          "0 - 10",
          "11 - 20",
          "21 - 30",
          "41 - 50",
          "21 - 30",
          "11 - 20",
          "71 - 80",
          "71 - 80",
          "91 - 100",
          "21 - 30",
          "31 - 40",
          "11 - 20",
          "31 - 40",
          "21 - 30",
          "71 - 80",
          "51 - 60",
          "71 - 80",
          "0 - 10",
          "61 - 70",
          "91 - 100",
          "41 - 50",
          "21 - 30",
          "0 - 10",
          "81 - 90",
          "61 - 70",
          "61 - 70",
          "91 - 100",
          "21 - 30",
          "11 - 20",
          "71 - 80",
          "81 - 90",
          "21 - 30",
          "21 - 30",
          "41 - 50",
          "91 - 100",
          "71 - 80",
          "0 - 10",
          "71 - 80",
          "41 - 50",
          "21 - 30",
          "81 - 90",
          "11 - 20",
          "61 - 70",
          "61 - 70",
          "41 - 50",
          "51 - 60",
          "51 - 60",
          "51 - 60",
          "51 - 60",
          "21 - 30",
          "81 - 90",
          "21 - 30",
          "11 - 20",
          "81 - 90",
          "81 - 90",
          "31 - 40",
          "21 - 30",
          "11 - 20",
          "0 - 10",
          "71 - 80",
          "71 - 80",
          "31 - 40",
          "51 - 60",
          "21 - 30",
          "71 - 80",
          "41 - 50",
          "41 - 50",
          "21 - 30",
          "51 - 60",
          "61 - 70",
          "61 - 70",
          "0 - 10",
          "61 - 70",
          "61 - 70",
          "0 - 10",
          "41 - 50",
          "81 - 90",
          "21 - 30",
          "71 - 80",
          "51 - 60",
          "0 - 10",
          "71 - 80",
          "41 - 50",
          "81 - 90",
          "21 - 30",
          "51 - 60",
          "51 - 60",
          "41 - 50",
          "31 - 40",
          "41 - 50",
          "81 - 90",
          "21 - 30",
          "61 - 70",
          "41 - 50",
          "61 - 70",
          "41 - 50",
          "41 - 50",
          "31 - 40",
          "81 - 90",
          "61 - 70",
          "61 - 70",
          "91 - 100",
          "91 - 100",
          "11 - 20",
          "91 - 100",
          "81 - 90",
          "61 - 70",
          "0 - 10",
          "11 - 20",
          "61 - 70",
          "21 - 30",
          "41 - 50",
          "41 - 50",
          "41 - 50",
          "41 - 50",
          "21 - 30",
          "11 - 20",
          "51 - 60",
          "31 - 40",
          "0 - 10",
          "11 - 20",
          "71 - 80",
          "11 - 20",
          "41 - 50",
          "21 - 30",
          "11 - 20",
          "71 - 80",
          "71 - 80",
          "41 - 50",
          "41 - 50",
          "41 - 50",
          "41 - 50",
          "61 - 70",
          "41 - 50",
          "21 - 30",
          "11 - 20",
          "0 - 10",
          "31 - 40",
          "81 - 90",
          "51 - 60",
          "71 - 80",
          "71 - 80",
          "31 - 40",
          "61 - 70",
          "61 - 70",
          "61 - 70",
          "21 - 30",
          "0 - 10",
          "61 - 70",
          "0 - 10",
          "0 - 10",
          "11 - 20",
          "31 - 40",
          "91 - 100",
          "41 - 50",
          "51 - 60",
          "11 - 20",
          "11 - 20",
          "21 - 30",
          "41 - 50",
          "11 - 20",
          "31 - 40",
          "51 - 60",
          "21 - 30",
          "31 - 40",
          "31 - 40",
          "61 - 70",
          "61 - 70",
          "41 - 50",
          "11 - 20",
          "51 - 60",
          "31 - 40",
          "0 - 10",
          "21 - 30",
          "0 - 10",
          "0 - 10",
          "51 - 60",
          "11 - 20",
          "31 - 40",
          "31 - 40",
          "71 - 80",
          "31 - 40",
          "71 - 80",
          "91 - 100",
          "51 - 60",
          "31 - 40",
          "71 - 80",
          "71 - 80",
          "21 - 30",
          "0 - 10",
          "11 - 20",
          "41 - 50",
          "81 - 90",
          "31 - 40",
          "91 - 100",
          "31 - 40",
          "11 - 20",
          "71 - 80",
          "31 - 40",
          "91 - 100",
          "61 - 70",
          "71 - 80",
          "61 - 70",
          "21 - 30",
          "71 - 80",
          "71 - 80",
          "51 - 60",
          "81 - 90",
          "81 - 90",
          "51 - 60",
          "51 - 60",
          "61 - 70",
          "81 - 90",
          "91 - 100",
          "61 - 70",
          "71 - 80",
          "91 - 100",
          "21 - 30",
          "21 - 30",
          "51 - 60",
          "0 - 10",
          "81 - 90",
          "81 - 90",
          "61 - 70",
          "81 - 90",
          "81 - 90",
          "81 - 90",
          "61 - 70",
          "51 - 60",
          "81 - 90",
          "91 - 100",
          "41 - 50",
          "81 - 90",
          "61 - 70",
          "81 - 90",
          "61 - 70",
          "41 - 50",
          "71 - 80",
          "61 - 70",
          "31 - 40",
          "81 - 90",
          "91 - 100",
          "0 - 10",
          "61 - 70",
          "51 - 60",
          "31 - 40",
          "11 - 20",
          "81 - 90",
          "0 - 10",
          "71 - 80",
          "21 - 30",
          "0 - 10",
          "41 - 50",
          "91 - 100",
          "11 - 20",
          "31 - 40",
          "91 - 100",
          "81 - 90",
          "91 - 100",
          "91 - 100",
          "51 - 60",
          "31 - 40",
          "0 - 10",
          "91 - 100",
          "31 - 40",
          "31 - 40",
          "0 - 10",
          "51 - 60",
          "81 - 90",
          "51 - 60",
          "0 - 10",
          "61 - 70",
          "31 - 40",
          "81 - 90",
          "71 - 80",
          "81 - 90",
          "71 - 80",
          "91 - 100",
          "71 - 80",
          "51 - 60",
          "11 - 20",
          "81 - 90",
          "51 - 60",
          "91 - 100",
          "31 - 40",
          "81 - 90",
          "41 - 50",
          "81 - 90",
          "41 - 50",
          "91 - 100",
          "81 - 90",
          "21 - 30",
          "91 - 100",
          "61 - 70",
          "0 - 10",
          "11 - 20",
          "81 - 90",
          "91 - 100",
          "41 - 50",
          "41 - 50",
          "81 - 90",
          "91 - 100",
          "71 - 80",
          "91 - 100",
          "61 - 70",
          "41 - 50",
          "71 - 80",
          "21 - 30",
          "91 - 100",
          "71 - 80",
          "51 - 60",
          "31 - 40",
          "21 - 30",
          "91 - 100",
          "91 - 100",
          "71 - 80",
          "81 - 90",
          "11 - 20",
          "61 - 70",
          "91 - 100",
          "51 - 60",
          "31 - 40",
          "91 - 100",
          "81 - 90",
          "81 - 90",
          "61 - 70",
          "61 - 70",
          "91 - 100",
          "71 - 80",
          "61 - 70",
          "71 - 80",
          "91 - 100",
          "91 - 100",
          "11 - 20",
          "81 - 90",
          "71 - 80",
          "81 - 90",
          "71 - 80"
         ],
         "yaxis": "y",
         "ybingroup": "y"
        }
       ],
       "layout": {
        "coloraxis": {
         "colorbar": {
          "title": {
           "text": "count"
          }
         },
         "colorscale": [
          [
           0,
           "#440154"
          ],
          [
           0.1111111111111111,
           "#482878"
          ],
          [
           0.2222222222222222,
           "#3e4989"
          ],
          [
           0.3333333333333333,
           "#31688e"
          ],
          [
           0.4444444444444444,
           "#26828e"
          ],
          [
           0.5555555555555556,
           "#1f9e89"
          ],
          [
           0.6666666666666666,
           "#35b779"
          ],
          [
           0.7777777777777778,
           "#6ece58"
          ],
          [
           0.8888888888888888,
           "#b5de2b"
          ],
          [
           1,
           "#fde725"
          ]
         ]
        },
        "legend": {
         "tracegroupgap": 0
        },
        "margin": {
         "t": 60
        },
        "template": {
         "data": {
          "bar": [
           {
            "error_x": {
             "color": "#f2f5fa"
            },
            "error_y": {
             "color": "#f2f5fa"
            },
            "marker": {
             "line": {
              "color": "rgb(17,17,17)",
              "width": 0.5
             },
             "pattern": {
              "fillmode": "overlay",
              "size": 10,
              "solidity": 0.2
             }
            },
            "type": "bar"
           }
          ],
          "barpolar": [
           {
            "marker": {
             "line": {
              "color": "rgb(17,17,17)",
              "width": 0.5
             },
             "pattern": {
              "fillmode": "overlay",
              "size": 10,
              "solidity": 0.2
             }
            },
            "type": "barpolar"
           }
          ],
          "carpet": [
           {
            "aaxis": {
             "endlinecolor": "#A2B1C6",
             "gridcolor": "#506784",
             "linecolor": "#506784",
             "minorgridcolor": "#506784",
             "startlinecolor": "#A2B1C6"
            },
            "baxis": {
             "endlinecolor": "#A2B1C6",
             "gridcolor": "#506784",
             "linecolor": "#506784",
             "minorgridcolor": "#506784",
             "startlinecolor": "#A2B1C6"
            },
            "type": "carpet"
           }
          ],
          "choropleth": [
           {
            "colorbar": {
             "outlinewidth": 0,
             "ticks": ""
            },
            "type": "choropleth"
           }
          ],
          "contour": [
           {
            "colorbar": {
             "outlinewidth": 0,
             "ticks": ""
            },
            "colorscale": [
             [
              0,
              "#0d0887"
             ],
             [
              0.1111111111111111,
              "#46039f"
             ],
             [
              0.2222222222222222,
              "#7201a8"
             ],
             [
              0.3333333333333333,
              "#9c179e"
             ],
             [
              0.4444444444444444,
              "#bd3786"
             ],
             [
              0.5555555555555556,
              "#d8576b"
             ],
             [
              0.6666666666666666,
              "#ed7953"
             ],
             [
              0.7777777777777778,
              "#fb9f3a"
             ],
             [
              0.8888888888888888,
              "#fdca26"
             ],
             [
              1,
              "#f0f921"
             ]
            ],
            "type": "contour"
           }
          ],
          "contourcarpet": [
           {
            "colorbar": {
             "outlinewidth": 0,
             "ticks": ""
            },
            "type": "contourcarpet"
           }
          ],
          "heatmap": [
           {
            "colorbar": {
             "outlinewidth": 0,
             "ticks": ""
            },
            "colorscale": [
             [
              0,
              "#0d0887"
             ],
             [
              0.1111111111111111,
              "#46039f"
             ],
             [
              0.2222222222222222,
              "#7201a8"
             ],
             [
              0.3333333333333333,
              "#9c179e"
             ],
             [
              0.4444444444444444,
              "#bd3786"
             ],
             [
              0.5555555555555556,
              "#d8576b"
             ],
             [
              0.6666666666666666,
              "#ed7953"
             ],
             [
              0.7777777777777778,
              "#fb9f3a"
             ],
             [
              0.8888888888888888,
              "#fdca26"
             ],
             [
              1,
              "#f0f921"
             ]
            ],
            "type": "heatmap"
           }
          ],
          "heatmapgl": [
           {
            "colorbar": {
             "outlinewidth": 0,
             "ticks": ""
            },
            "colorscale": [
             [
              0,
              "#0d0887"
             ],
             [
              0.1111111111111111,
              "#46039f"
             ],
             [
              0.2222222222222222,
              "#7201a8"
             ],
             [
              0.3333333333333333,
              "#9c179e"
             ],
             [
              0.4444444444444444,
              "#bd3786"
             ],
             [
              0.5555555555555556,
              "#d8576b"
             ],
             [
              0.6666666666666666,
              "#ed7953"
             ],
             [
              0.7777777777777778,
              "#fb9f3a"
             ],
             [
              0.8888888888888888,
              "#fdca26"
             ],
             [
              1,
              "#f0f921"
             ]
            ],
            "type": "heatmapgl"
           }
          ],
          "histogram": [
           {
            "marker": {
             "pattern": {
              "fillmode": "overlay",
              "size": 10,
              "solidity": 0.2
             }
            },
            "type": "histogram"
           }
          ],
          "histogram2d": [
           {
            "colorbar": {
             "outlinewidth": 0,
             "ticks": ""
            },
            "colorscale": [
             [
              0,
              "#0d0887"
             ],
             [
              0.1111111111111111,
              "#46039f"
             ],
             [
              0.2222222222222222,
              "#7201a8"
             ],
             [
              0.3333333333333333,
              "#9c179e"
             ],
             [
              0.4444444444444444,
              "#bd3786"
             ],
             [
              0.5555555555555556,
              "#d8576b"
             ],
             [
              0.6666666666666666,
              "#ed7953"
             ],
             [
              0.7777777777777778,
              "#fb9f3a"
             ],
             [
              0.8888888888888888,
              "#fdca26"
             ],
             [
              1,
              "#f0f921"
             ]
            ],
            "type": "histogram2d"
           }
          ],
          "histogram2dcontour": [
           {
            "colorbar": {
             "outlinewidth": 0,
             "ticks": ""
            },
            "colorscale": [
             [
              0,
              "#0d0887"
             ],
             [
              0.1111111111111111,
              "#46039f"
             ],
             [
              0.2222222222222222,
              "#7201a8"
             ],
             [
              0.3333333333333333,
              "#9c179e"
             ],
             [
              0.4444444444444444,
              "#bd3786"
             ],
             [
              0.5555555555555556,
              "#d8576b"
             ],
             [
              0.6666666666666666,
              "#ed7953"
             ],
             [
              0.7777777777777778,
              "#fb9f3a"
             ],
             [
              0.8888888888888888,
              "#fdca26"
             ],
             [
              1,
              "#f0f921"
             ]
            ],
            "type": "histogram2dcontour"
           }
          ],
          "mesh3d": [
           {
            "colorbar": {
             "outlinewidth": 0,
             "ticks": ""
            },
            "type": "mesh3d"
           }
          ],
          "parcoords": [
           {
            "line": {
             "colorbar": {
              "outlinewidth": 0,
              "ticks": ""
             }
            },
            "type": "parcoords"
           }
          ],
          "pie": [
           {
            "automargin": true,
            "type": "pie"
           }
          ],
          "scatter": [
           {
            "marker": {
             "line": {
              "color": "#283442"
             }
            },
            "type": "scatter"
           }
          ],
          "scatter3d": [
           {
            "line": {
             "colorbar": {
              "outlinewidth": 0,
              "ticks": ""
             }
            },
            "marker": {
             "colorbar": {
              "outlinewidth": 0,
              "ticks": ""
             }
            },
            "type": "scatter3d"
           }
          ],
          "scattercarpet": [
           {
            "marker": {
             "colorbar": {
              "outlinewidth": 0,
              "ticks": ""
             }
            },
            "type": "scattercarpet"
           }
          ],
          "scattergeo": [
           {
            "marker": {
             "colorbar": {
              "outlinewidth": 0,
              "ticks": ""
             }
            },
            "type": "scattergeo"
           }
          ],
          "scattergl": [
           {
            "marker": {
             "line": {
              "color": "#283442"
             }
            },
            "type": "scattergl"
           }
          ],
          "scattermapbox": [
           {
            "marker": {
             "colorbar": {
              "outlinewidth": 0,
              "ticks": ""
             }
            },
            "type": "scattermapbox"
           }
          ],
          "scatterpolar": [
           {
            "marker": {
             "colorbar": {
              "outlinewidth": 0,
              "ticks": ""
             }
            },
            "type": "scatterpolar"
           }
          ],
          "scatterpolargl": [
           {
            "marker": {
             "colorbar": {
              "outlinewidth": 0,
              "ticks": ""
             }
            },
            "type": "scatterpolargl"
           }
          ],
          "scatterternary": [
           {
            "marker": {
             "colorbar": {
              "outlinewidth": 0,
              "ticks": ""
             }
            },
            "type": "scatterternary"
           }
          ],
          "surface": [
           {
            "colorbar": {
             "outlinewidth": 0,
             "ticks": ""
            },
            "colorscale": [
             [
              0,
              "#0d0887"
             ],
             [
              0.1111111111111111,
              "#46039f"
             ],
             [
              0.2222222222222222,
              "#7201a8"
             ],
             [
              0.3333333333333333,
              "#9c179e"
             ],
             [
              0.4444444444444444,
              "#bd3786"
             ],
             [
              0.5555555555555556,
              "#d8576b"
             ],
             [
              0.6666666666666666,
              "#ed7953"
             ],
             [
              0.7777777777777778,
              "#fb9f3a"
             ],
             [
              0.8888888888888888,
              "#fdca26"
             ],
             [
              1,
              "#f0f921"
             ]
            ],
            "type": "surface"
           }
          ],
          "table": [
           {
            "cells": {
             "fill": {
              "color": "#506784"
             },
             "line": {
              "color": "rgb(17,17,17)"
             }
            },
            "header": {
             "fill": {
              "color": "#2a3f5f"
             },
             "line": {
              "color": "rgb(17,17,17)"
             }
            },
            "type": "table"
           }
          ]
         },
         "layout": {
          "annotationdefaults": {
           "arrowcolor": "#f2f5fa",
           "arrowhead": 0,
           "arrowwidth": 1
          },
          "autotypenumbers": "strict",
          "coloraxis": {
           "colorbar": {
            "outlinewidth": 0,
            "ticks": ""
           }
          },
          "colorscale": {
           "diverging": [
            [
             0,
             "#8e0152"
            ],
            [
             0.1,
             "#c51b7d"
            ],
            [
             0.2,
             "#de77ae"
            ],
            [
             0.3,
             "#f1b6da"
            ],
            [
             0.4,
             "#fde0ef"
            ],
            [
             0.5,
             "#f7f7f7"
            ],
            [
             0.6,
             "#e6f5d0"
            ],
            [
             0.7,
             "#b8e186"
            ],
            [
             0.8,
             "#7fbc41"
            ],
            [
             0.9,
             "#4d9221"
            ],
            [
             1,
             "#276419"
            ]
           ],
           "sequential": [
            [
             0,
             "#0d0887"
            ],
            [
             0.1111111111111111,
             "#46039f"
            ],
            [
             0.2222222222222222,
             "#7201a8"
            ],
            [
             0.3333333333333333,
             "#9c179e"
            ],
            [
             0.4444444444444444,
             "#bd3786"
            ],
            [
             0.5555555555555556,
             "#d8576b"
            ],
            [
             0.6666666666666666,
             "#ed7953"
            ],
            [
             0.7777777777777778,
             "#fb9f3a"
            ],
            [
             0.8888888888888888,
             "#fdca26"
            ],
            [
             1,
             "#f0f921"
            ]
           ],
           "sequentialminus": [
            [
             0,
             "#0d0887"
            ],
            [
             0.1111111111111111,
             "#46039f"
            ],
            [
             0.2222222222222222,
             "#7201a8"
            ],
            [
             0.3333333333333333,
             "#9c179e"
            ],
            [
             0.4444444444444444,
             "#bd3786"
            ],
            [
             0.5555555555555556,
             "#d8576b"
            ],
            [
             0.6666666666666666,
             "#ed7953"
            ],
            [
             0.7777777777777778,
             "#fb9f3a"
            ],
            [
             0.8888888888888888,
             "#fdca26"
            ],
            [
             1,
             "#f0f921"
            ]
           ]
          },
          "colorway": [
           "#636efa",
           "#EF553B",
           "#00cc96",
           "#ab63fa",
           "#FFA15A",
           "#19d3f3",
           "#FF6692",
           "#B6E880",
           "#FF97FF",
           "#FECB52"
          ],
          "font": {
           "color": "#f2f5fa"
          },
          "geo": {
           "bgcolor": "rgb(17,17,17)",
           "lakecolor": "rgb(17,17,17)",
           "landcolor": "rgb(17,17,17)",
           "showlakes": true,
           "showland": true,
           "subunitcolor": "#506784"
          },
          "hoverlabel": {
           "align": "left"
          },
          "hovermode": "closest",
          "mapbox": {
           "style": "dark"
          },
          "paper_bgcolor": "rgb(17,17,17)",
          "plot_bgcolor": "rgb(17,17,17)",
          "polar": {
           "angularaxis": {
            "gridcolor": "#506784",
            "linecolor": "#506784",
            "ticks": ""
           },
           "bgcolor": "rgb(17,17,17)",
           "radialaxis": {
            "gridcolor": "#506784",
            "linecolor": "#506784",
            "ticks": ""
           }
          },
          "scene": {
           "xaxis": {
            "backgroundcolor": "rgb(17,17,17)",
            "gridcolor": "#506784",
            "gridwidth": 2,
            "linecolor": "#506784",
            "showbackground": true,
            "ticks": "",
            "zerolinecolor": "#C8D4E3"
           },
           "yaxis": {
            "backgroundcolor": "rgb(17,17,17)",
            "gridcolor": "#506784",
            "gridwidth": 2,
            "linecolor": "#506784",
            "showbackground": true,
            "ticks": "",
            "zerolinecolor": "#C8D4E3"
           },
           "zaxis": {
            "backgroundcolor": "rgb(17,17,17)",
            "gridcolor": "#506784",
            "gridwidth": 2,
            "linecolor": "#506784",
            "showbackground": true,
            "ticks": "",
            "zerolinecolor": "#C8D4E3"
           }
          },
          "shapedefaults": {
           "line": {
            "color": "#f2f5fa"
           }
          },
          "sliderdefaults": {
           "bgcolor": "#C8D4E3",
           "bordercolor": "rgb(17,17,17)",
           "borderwidth": 1,
           "tickwidth": 0
          },
          "ternary": {
           "aaxis": {
            "gridcolor": "#506784",
            "linecolor": "#506784",
            "ticks": ""
           },
           "baxis": {
            "gridcolor": "#506784",
            "linecolor": "#506784",
            "ticks": ""
           },
           "bgcolor": "rgb(17,17,17)",
           "caxis": {
            "gridcolor": "#506784",
            "linecolor": "#506784",
            "ticks": ""
           }
          },
          "title": {
           "x": 0.05
          },
          "updatemenudefaults": {
           "bgcolor": "#506784",
           "borderwidth": 0
          },
          "xaxis": {
           "automargin": true,
           "gridcolor": "#283442",
           "linecolor": "#506784",
           "ticks": "",
           "title": {
            "standoff": 15
           },
           "zerolinecolor": "#283442",
           "zerolinewidth": 2
          },
          "yaxis": {
           "automargin": true,
           "gridcolor": "#283442",
           "linecolor": "#506784",
           "ticks": "",
           "title": {
            "standoff": 15
           },
           "zerolinecolor": "#283442",
           "zerolinewidth": 2
          }
         }
        },
        "title": {
         "text": "Popularity vs Chart Power - DE"
        },
        "xaxis": {
         "anchor": "y",
         "domain": [
          0,
          1
         ],
         "title": {
          "text": "Popularity"
         }
        },
        "yaxis": {
         "anchor": "x",
         "categoryarray": [
          "0 - 10",
          "11 - 20",
          "21 - 30",
          "31 - 40",
          "41 - 50",
          "51 - 60",
          "61 - 70",
          "71 - 80",
          "81 - 90",
          "91 - 100"
         ],
         "categoryorder": "array",
         "domain": [
          0,
          1
         ],
         "title": {
          "text": "Chart Power"
         }
        }
       }
      }
     },
     "metadata": {},
     "output_type": "display_data"
    }
   ],
   "source": [
    "create_heatmap(df_comparison, \"Popularity vs Chart Power - DE\")"
   ]
  },
  {
   "cell_type": "code",
   "execution_count": 187,
   "metadata": {},
   "outputs": [
    {
     "data": {
      "application/vnd.plotly.v1+json": {
       "config": {
        "plotlyServerURL": "https://plot.ly"
       },
       "data": [
        {
         "coloraxis": "coloraxis",
         "hovertemplate": "popularity_percentile=%{x}<br>chart_power_percentile=%{y}<br>count=%{z}<extra></extra>",
         "name": "",
         "nbinsx": 10,
         "nbinsy": 10,
         "type": "histogram2d",
         "x": [
          "0 - 10",
          "0 - 10",
          "0 - 10",
          "0 - 10",
          "0 - 10",
          "0 - 10",
          "0 - 10",
          "0 - 10",
          "0 - 10",
          "0 - 10",
          "0 - 10",
          "0 - 10",
          "0 - 10",
          "0 - 10",
          "0 - 10",
          "0 - 10",
          "0 - 10",
          "0 - 10",
          "0 - 10",
          "0 - 10",
          "0 - 10",
          "0 - 10",
          "0 - 10",
          "0 - 10",
          "0 - 10",
          "0 - 10",
          "0 - 10",
          "0 - 10",
          "0 - 10",
          "0 - 10",
          "0 - 10",
          "0 - 10",
          "0 - 10",
          "0 - 10",
          "0 - 10",
          "0 - 10",
          "0 - 10",
          "0 - 10",
          "0 - 10",
          "0 - 10",
          "0 - 10",
          "0 - 10",
          "0 - 10",
          "0 - 10",
          "0 - 10",
          "0 - 10",
          "0 - 10",
          "0 - 10",
          "0 - 10",
          "0 - 10",
          "0 - 10",
          "0 - 10",
          "0 - 10",
          "0 - 10",
          "0 - 10",
          "0 - 10",
          "0 - 10",
          "0 - 10",
          "0 - 10",
          "0 - 10",
          "0 - 10",
          "0 - 10",
          "0 - 10",
          "0 - 10",
          "0 - 10",
          "0 - 10",
          "0 - 10",
          "0 - 10",
          "0 - 10",
          "0 - 10",
          "0 - 10",
          "0 - 10",
          "0 - 10",
          "0 - 10",
          "0 - 10",
          "0 - 10",
          "0 - 10",
          "0 - 10",
          "0 - 10",
          "0 - 10",
          "0 - 10",
          "0 - 10",
          "0 - 10",
          "0 - 10",
          "0 - 10",
          "0 - 10",
          "0 - 10",
          "0 - 10",
          "0 - 10",
          "0 - 10",
          "0 - 10",
          "0 - 10",
          "0 - 10",
          "0 - 10",
          "0 - 10",
          "0 - 10",
          "0 - 10",
          "0 - 10",
          "0 - 10",
          "0 - 10",
          "0 - 10",
          "0 - 10",
          "0 - 10",
          "0 - 10",
          "0 - 10",
          "0 - 10",
          "0 - 10",
          "0 - 10",
          "0 - 10",
          "0 - 10",
          "0 - 10",
          "0 - 10",
          "0 - 10",
          "0 - 10",
          "0 - 10",
          "0 - 10",
          "0 - 10",
          "0 - 10",
          "0 - 10",
          "0 - 10",
          "0 - 10",
          "0 - 10",
          "0 - 10",
          "0 - 10",
          "0 - 10",
          "0 - 10",
          "0 - 10",
          "0 - 10",
          "0 - 10",
          "0 - 10",
          "0 - 10",
          "0 - 10",
          "0 - 10",
          "0 - 10",
          "0 - 10",
          "0 - 10",
          "0 - 10",
          "0 - 10",
          "0 - 10",
          "0 - 10",
          "0 - 10",
          "0 - 10",
          "0 - 10",
          "0 - 10",
          "0 - 10",
          "0 - 10",
          "0 - 10",
          "0 - 10",
          "0 - 10",
          "0 - 10",
          "0 - 10",
          "0 - 10",
          "0 - 10",
          "0 - 10",
          "0 - 10",
          "0 - 10",
          "0 - 10",
          "0 - 10",
          "0 - 10",
          "0 - 10",
          "0 - 10",
          "0 - 10",
          "0 - 10",
          "0 - 10",
          "0 - 10",
          "0 - 10",
          "0 - 10",
          "0 - 10",
          "0 - 10",
          "0 - 10",
          "0 - 10",
          "0 - 10",
          "0 - 10",
          "0 - 10",
          "0 - 10",
          "0 - 10",
          "0 - 10",
          "0 - 10",
          "0 - 10",
          "0 - 10",
          "0 - 10",
          "0 - 10",
          "0 - 10",
          "0 - 10",
          "11 - 20",
          "11 - 20",
          "11 - 20",
          "11 - 20",
          "11 - 20",
          "11 - 20",
          "11 - 20",
          "11 - 20",
          "11 - 20",
          "11 - 20",
          "11 - 20",
          "11 - 20",
          "11 - 20",
          "11 - 20",
          "11 - 20",
          "11 - 20",
          "11 - 20",
          "11 - 20",
          "11 - 20",
          "11 - 20",
          "11 - 20",
          "11 - 20",
          "11 - 20",
          "11 - 20",
          "11 - 20",
          "11 - 20",
          "11 - 20",
          "11 - 20",
          "11 - 20",
          "11 - 20",
          "11 - 20",
          "11 - 20",
          "11 - 20",
          "11 - 20",
          "11 - 20",
          "11 - 20",
          "11 - 20",
          "11 - 20",
          "11 - 20",
          "11 - 20",
          "11 - 20",
          "11 - 20",
          "11 - 20",
          "11 - 20",
          "11 - 20",
          "11 - 20",
          "11 - 20",
          "11 - 20",
          "11 - 20",
          "11 - 20",
          "11 - 20",
          "11 - 20",
          "11 - 20",
          "11 - 20",
          "11 - 20",
          "11 - 20",
          "11 - 20",
          "11 - 20",
          "11 - 20",
          "11 - 20",
          "11 - 20",
          "11 - 20",
          "11 - 20",
          "11 - 20",
          "11 - 20",
          "11 - 20",
          "11 - 20",
          "11 - 20",
          "11 - 20",
          "11 - 20",
          "11 - 20",
          "11 - 20",
          "11 - 20",
          "11 - 20",
          "11 - 20",
          "11 - 20",
          "11 - 20",
          "11 - 20",
          "11 - 20",
          "11 - 20",
          "11 - 20",
          "11 - 20",
          "11 - 20",
          "11 - 20",
          "11 - 20",
          "11 - 20",
          "11 - 20",
          "11 - 20",
          "11 - 20",
          "11 - 20",
          "11 - 20",
          "11 - 20",
          "11 - 20",
          "11 - 20",
          "11 - 20",
          "11 - 20",
          "11 - 20",
          "11 - 20",
          "11 - 20",
          "11 - 20",
          "11 - 20",
          "11 - 20",
          "11 - 20",
          "11 - 20",
          "11 - 20",
          "11 - 20",
          "11 - 20",
          "11 - 20",
          "11 - 20",
          "11 - 20",
          "11 - 20",
          "11 - 20",
          "11 - 20",
          "11 - 20",
          "11 - 20",
          "11 - 20",
          "11 - 20",
          "11 - 20",
          "11 - 20",
          "11 - 20",
          "11 - 20",
          "11 - 20",
          "11 - 20",
          "11 - 20",
          "11 - 20",
          "11 - 20",
          "11 - 20",
          "11 - 20",
          "11 - 20",
          "11 - 20",
          "11 - 20",
          "11 - 20",
          "11 - 20",
          "11 - 20",
          "11 - 20",
          "11 - 20",
          "11 - 20",
          "11 - 20",
          "11 - 20",
          "11 - 20",
          "11 - 20",
          "11 - 20",
          "11 - 20",
          "11 - 20",
          "11 - 20",
          "11 - 20",
          "11 - 20",
          "11 - 20",
          "11 - 20",
          "11 - 20",
          "11 - 20",
          "11 - 20",
          "11 - 20",
          "11 - 20",
          "11 - 20",
          "11 - 20",
          "11 - 20",
          "11 - 20",
          "11 - 20",
          "11 - 20",
          "11 - 20",
          "11 - 20",
          "11 - 20",
          "11 - 20",
          "11 - 20",
          "11 - 20",
          "11 - 20",
          "11 - 20",
          "11 - 20",
          "11 - 20",
          "11 - 20",
          "11 - 20",
          "11 - 20",
          "11 - 20",
          "11 - 20",
          "11 - 20",
          "11 - 20",
          "11 - 20",
          "11 - 20",
          "11 - 20",
          "11 - 20",
          "11 - 20",
          "11 - 20",
          "11 - 20",
          "11 - 20",
          "21 - 30",
          "21 - 30",
          "21 - 30",
          "21 - 30",
          "21 - 30",
          "21 - 30",
          "21 - 30",
          "21 - 30",
          "21 - 30",
          "21 - 30",
          "21 - 30",
          "21 - 30",
          "21 - 30",
          "21 - 30",
          "21 - 30",
          "21 - 30",
          "21 - 30",
          "21 - 30",
          "21 - 30",
          "21 - 30",
          "21 - 30",
          "21 - 30",
          "21 - 30",
          "21 - 30",
          "21 - 30",
          "21 - 30",
          "21 - 30",
          "21 - 30",
          "21 - 30",
          "21 - 30",
          "21 - 30",
          "21 - 30",
          "21 - 30",
          "21 - 30",
          "21 - 30",
          "21 - 30",
          "21 - 30",
          "21 - 30",
          "21 - 30",
          "21 - 30",
          "21 - 30",
          "21 - 30",
          "21 - 30",
          "21 - 30",
          "21 - 30",
          "21 - 30",
          "21 - 30",
          "21 - 30",
          "21 - 30",
          "21 - 30",
          "21 - 30",
          "21 - 30",
          "21 - 30",
          "21 - 30",
          "21 - 30",
          "21 - 30",
          "21 - 30",
          "21 - 30",
          "21 - 30",
          "21 - 30",
          "21 - 30",
          "21 - 30",
          "21 - 30",
          "21 - 30",
          "21 - 30",
          "21 - 30",
          "21 - 30",
          "21 - 30",
          "21 - 30",
          "21 - 30",
          "21 - 30",
          "21 - 30",
          "21 - 30",
          "21 - 30",
          "21 - 30",
          "21 - 30",
          "21 - 30",
          "21 - 30",
          "21 - 30",
          "21 - 30",
          "21 - 30",
          "21 - 30",
          "21 - 30",
          "21 - 30",
          "21 - 30",
          "21 - 30",
          "21 - 30",
          "21 - 30",
          "21 - 30",
          "21 - 30",
          "21 - 30",
          "21 - 30",
          "21 - 30",
          "21 - 30",
          "21 - 30",
          "21 - 30",
          "21 - 30",
          "21 - 30",
          "21 - 30",
          "21 - 30",
          "21 - 30",
          "21 - 30",
          "21 - 30",
          "21 - 30",
          "21 - 30",
          "21 - 30",
          "21 - 30",
          "21 - 30",
          "21 - 30",
          "21 - 30",
          "21 - 30",
          "21 - 30",
          "21 - 30",
          "21 - 30",
          "21 - 30",
          "21 - 30",
          "21 - 30",
          "21 - 30",
          "21 - 30",
          "21 - 30",
          "21 - 30",
          "21 - 30",
          "21 - 30",
          "21 - 30",
          "21 - 30",
          "21 - 30",
          "21 - 30",
          "21 - 30",
          "21 - 30",
          "21 - 30",
          "21 - 30",
          "21 - 30",
          "21 - 30",
          "21 - 30",
          "21 - 30",
          "21 - 30",
          "21 - 30",
          "21 - 30",
          "21 - 30",
          "21 - 30",
          "21 - 30",
          "21 - 30",
          "21 - 30",
          "21 - 30",
          "21 - 30",
          "21 - 30",
          "21 - 30",
          "21 - 30",
          "21 - 30",
          "21 - 30",
          "21 - 30",
          "21 - 30",
          "21 - 30",
          "21 - 30",
          "21 - 30",
          "21 - 30",
          "21 - 30",
          "21 - 30",
          "21 - 30",
          "21 - 30",
          "21 - 30",
          "21 - 30",
          "21 - 30",
          "21 - 30",
          "21 - 30",
          "21 - 30",
          "21 - 30",
          "21 - 30",
          "21 - 30",
          "21 - 30",
          "21 - 30",
          "21 - 30",
          "21 - 30",
          "21 - 30",
          "21 - 30",
          "21 - 30",
          "21 - 30",
          "31 - 40",
          "31 - 40",
          "31 - 40",
          "31 - 40",
          "31 - 40",
          "31 - 40",
          "31 - 40",
          "31 - 40",
          "31 - 40",
          "31 - 40",
          "31 - 40",
          "31 - 40",
          "31 - 40",
          "31 - 40",
          "31 - 40",
          "31 - 40",
          "31 - 40",
          "31 - 40",
          "31 - 40",
          "31 - 40",
          "31 - 40",
          "31 - 40",
          "31 - 40",
          "31 - 40",
          "31 - 40",
          "31 - 40",
          "31 - 40",
          "31 - 40",
          "31 - 40",
          "31 - 40",
          "31 - 40",
          "31 - 40",
          "31 - 40",
          "31 - 40",
          "31 - 40",
          "31 - 40",
          "31 - 40",
          "31 - 40",
          "31 - 40",
          "31 - 40",
          "31 - 40",
          "31 - 40",
          "31 - 40",
          "31 - 40",
          "31 - 40",
          "31 - 40",
          "31 - 40",
          "31 - 40",
          "31 - 40",
          "31 - 40",
          "31 - 40",
          "31 - 40",
          "31 - 40",
          "31 - 40",
          "31 - 40",
          "31 - 40",
          "31 - 40",
          "31 - 40",
          "31 - 40",
          "31 - 40",
          "31 - 40",
          "31 - 40",
          "31 - 40",
          "31 - 40",
          "31 - 40",
          "31 - 40",
          "31 - 40",
          "31 - 40",
          "31 - 40",
          "31 - 40",
          "31 - 40",
          "31 - 40",
          "31 - 40",
          "31 - 40",
          "31 - 40",
          "31 - 40",
          "31 - 40",
          "31 - 40",
          "31 - 40",
          "31 - 40",
          "31 - 40",
          "31 - 40",
          "31 - 40",
          "31 - 40",
          "31 - 40",
          "31 - 40",
          "31 - 40",
          "31 - 40",
          "31 - 40",
          "31 - 40",
          "31 - 40",
          "31 - 40",
          "31 - 40",
          "31 - 40",
          "31 - 40",
          "31 - 40",
          "31 - 40",
          "31 - 40",
          "31 - 40",
          "31 - 40",
          "31 - 40",
          "31 - 40",
          "31 - 40",
          "31 - 40",
          "31 - 40",
          "31 - 40",
          "31 - 40",
          "31 - 40",
          "31 - 40",
          "31 - 40",
          "31 - 40",
          "31 - 40",
          "31 - 40",
          "31 - 40",
          "31 - 40",
          "31 - 40",
          "31 - 40",
          "31 - 40",
          "31 - 40",
          "31 - 40",
          "31 - 40",
          "31 - 40",
          "31 - 40",
          "31 - 40",
          "31 - 40",
          "31 - 40",
          "31 - 40",
          "31 - 40",
          "31 - 40",
          "31 - 40",
          "31 - 40",
          "31 - 40",
          "31 - 40",
          "31 - 40",
          "31 - 40",
          "31 - 40",
          "31 - 40",
          "31 - 40",
          "31 - 40",
          "31 - 40",
          "31 - 40",
          "31 - 40",
          "31 - 40",
          "31 - 40",
          "31 - 40",
          "31 - 40",
          "31 - 40",
          "31 - 40",
          "31 - 40",
          "31 - 40",
          "31 - 40",
          "31 - 40",
          "31 - 40",
          "31 - 40",
          "31 - 40",
          "31 - 40",
          "31 - 40",
          "31 - 40",
          "31 - 40",
          "31 - 40",
          "31 - 40",
          "31 - 40",
          "31 - 40",
          "31 - 40",
          "31 - 40",
          "31 - 40",
          "31 - 40",
          "31 - 40",
          "31 - 40",
          "31 - 40",
          "31 - 40",
          "31 - 40",
          "31 - 40",
          "31 - 40",
          "31 - 40",
          "41 - 50",
          "41 - 50",
          "41 - 50",
          "41 - 50",
          "41 - 50",
          "41 - 50",
          "41 - 50",
          "41 - 50",
          "41 - 50",
          "41 - 50",
          "41 - 50",
          "41 - 50",
          "41 - 50",
          "41 - 50",
          "41 - 50",
          "41 - 50",
          "41 - 50",
          "41 - 50",
          "41 - 50",
          "41 - 50",
          "41 - 50",
          "41 - 50",
          "41 - 50",
          "41 - 50",
          "41 - 50",
          "41 - 50",
          "41 - 50",
          "41 - 50",
          "41 - 50",
          "41 - 50",
          "41 - 50",
          "41 - 50",
          "41 - 50",
          "41 - 50",
          "41 - 50",
          "41 - 50",
          "41 - 50",
          "41 - 50",
          "41 - 50",
          "41 - 50",
          "41 - 50",
          "41 - 50",
          "41 - 50",
          "41 - 50",
          "41 - 50",
          "41 - 50",
          "41 - 50",
          "41 - 50",
          "41 - 50",
          "41 - 50",
          "41 - 50",
          "41 - 50",
          "41 - 50",
          "41 - 50",
          "41 - 50",
          "41 - 50",
          "41 - 50",
          "41 - 50",
          "41 - 50",
          "41 - 50",
          "41 - 50",
          "41 - 50",
          "41 - 50",
          "41 - 50",
          "41 - 50",
          "41 - 50",
          "41 - 50",
          "41 - 50",
          "41 - 50",
          "41 - 50",
          "41 - 50",
          "41 - 50",
          "41 - 50",
          "41 - 50",
          "41 - 50",
          "41 - 50",
          "41 - 50",
          "41 - 50",
          "41 - 50",
          "41 - 50",
          "41 - 50",
          "41 - 50",
          "41 - 50",
          "41 - 50",
          "41 - 50",
          "41 - 50",
          "41 - 50",
          "41 - 50",
          "41 - 50",
          "41 - 50",
          "41 - 50",
          "41 - 50",
          "41 - 50",
          "41 - 50",
          "41 - 50",
          "41 - 50",
          "41 - 50",
          "41 - 50",
          "41 - 50",
          "41 - 50",
          "41 - 50",
          "41 - 50",
          "41 - 50",
          "41 - 50",
          "41 - 50",
          "41 - 50",
          "41 - 50",
          "41 - 50",
          "41 - 50",
          "41 - 50",
          "41 - 50",
          "41 - 50",
          "41 - 50",
          "41 - 50",
          "41 - 50",
          "41 - 50",
          "41 - 50",
          "41 - 50",
          "41 - 50",
          "41 - 50",
          "41 - 50",
          "41 - 50",
          "41 - 50",
          "41 - 50",
          "41 - 50",
          "41 - 50",
          "41 - 50",
          "41 - 50",
          "41 - 50",
          "41 - 50",
          "41 - 50",
          "41 - 50",
          "41 - 50",
          "41 - 50",
          "41 - 50",
          "41 - 50",
          "41 - 50",
          "41 - 50",
          "41 - 50",
          "41 - 50",
          "41 - 50",
          "41 - 50",
          "41 - 50",
          "41 - 50",
          "41 - 50",
          "41 - 50",
          "41 - 50",
          "41 - 50",
          "41 - 50",
          "41 - 50",
          "41 - 50",
          "41 - 50",
          "41 - 50",
          "41 - 50",
          "51 - 60",
          "51 - 60",
          "51 - 60",
          "51 - 60",
          "51 - 60",
          "51 - 60",
          "51 - 60",
          "51 - 60",
          "51 - 60",
          "51 - 60",
          "51 - 60",
          "51 - 60",
          "51 - 60",
          "51 - 60",
          "51 - 60",
          "51 - 60",
          "51 - 60",
          "51 - 60",
          "51 - 60",
          "51 - 60",
          "51 - 60",
          "51 - 60",
          "51 - 60",
          "51 - 60",
          "51 - 60",
          "51 - 60",
          "51 - 60",
          "51 - 60",
          "51 - 60",
          "51 - 60",
          "51 - 60",
          "51 - 60",
          "51 - 60",
          "51 - 60",
          "51 - 60",
          "51 - 60",
          "51 - 60",
          "51 - 60",
          "51 - 60",
          "51 - 60",
          "51 - 60",
          "51 - 60",
          "51 - 60",
          "51 - 60",
          "51 - 60",
          "51 - 60",
          "51 - 60",
          "51 - 60",
          "51 - 60",
          "51 - 60",
          "51 - 60",
          "51 - 60",
          "51 - 60",
          "51 - 60",
          "51 - 60",
          "51 - 60",
          "51 - 60",
          "51 - 60",
          "51 - 60",
          "51 - 60",
          "51 - 60",
          "51 - 60",
          "51 - 60",
          "51 - 60",
          "51 - 60",
          "51 - 60",
          "51 - 60",
          "51 - 60",
          "51 - 60",
          "51 - 60",
          "51 - 60",
          "51 - 60",
          "51 - 60",
          "51 - 60",
          "51 - 60",
          "51 - 60",
          "51 - 60",
          "51 - 60",
          "51 - 60",
          "51 - 60",
          "51 - 60",
          "51 - 60",
          "51 - 60",
          "51 - 60",
          "51 - 60",
          "51 - 60",
          "51 - 60",
          "51 - 60",
          "51 - 60",
          "51 - 60",
          "51 - 60",
          "51 - 60",
          "51 - 60",
          "51 - 60",
          "51 - 60",
          "51 - 60",
          "51 - 60",
          "51 - 60",
          "51 - 60",
          "51 - 60",
          "51 - 60",
          "51 - 60",
          "51 - 60",
          "51 - 60",
          "51 - 60",
          "51 - 60",
          "51 - 60",
          "51 - 60",
          "51 - 60",
          "51 - 60",
          "51 - 60",
          "51 - 60",
          "51 - 60",
          "51 - 60",
          "51 - 60",
          "51 - 60",
          "51 - 60",
          "51 - 60",
          "51 - 60",
          "51 - 60",
          "51 - 60",
          "51 - 60",
          "51 - 60",
          "51 - 60",
          "51 - 60",
          "51 - 60",
          "51 - 60",
          "51 - 60",
          "51 - 60",
          "51 - 60",
          "51 - 60",
          "51 - 60",
          "51 - 60",
          "51 - 60",
          "51 - 60",
          "51 - 60",
          "51 - 60",
          "51 - 60",
          "51 - 60",
          "51 - 60",
          "51 - 60",
          "51 - 60",
          "51 - 60",
          "51 - 60",
          "51 - 60",
          "51 - 60",
          "51 - 60",
          "51 - 60",
          "51 - 60",
          "51 - 60",
          "51 - 60",
          "51 - 60",
          "51 - 60",
          "51 - 60",
          "51 - 60",
          "51 - 60",
          "51 - 60",
          "51 - 60",
          "51 - 60",
          "51 - 60",
          "51 - 60",
          "51 - 60",
          "51 - 60",
          "51 - 60",
          "51 - 60",
          "51 - 60",
          "51 - 60",
          "51 - 60",
          "51 - 60",
          "51 - 60",
          "51 - 60",
          "51 - 60",
          "51 - 60",
          "51 - 60",
          "51 - 60",
          "51 - 60",
          "51 - 60",
          "51 - 60",
          "51 - 60",
          "51 - 60",
          "51 - 60",
          "51 - 60",
          "51 - 60",
          "51 - 60",
          "51 - 60",
          "51 - 60",
          "51 - 60",
          "51 - 60",
          "51 - 60",
          "51 - 60",
          "51 - 60",
          "51 - 60",
          "51 - 60",
          "61 - 70",
          "61 - 70",
          "61 - 70",
          "61 - 70",
          "61 - 70",
          "61 - 70",
          "61 - 70",
          "61 - 70",
          "61 - 70",
          "61 - 70",
          "61 - 70",
          "61 - 70",
          "61 - 70",
          "61 - 70",
          "61 - 70",
          "61 - 70",
          "61 - 70",
          "61 - 70",
          "61 - 70",
          "61 - 70",
          "61 - 70",
          "61 - 70",
          "61 - 70",
          "61 - 70",
          "61 - 70",
          "61 - 70",
          "61 - 70",
          "61 - 70",
          "61 - 70",
          "61 - 70",
          "61 - 70",
          "61 - 70",
          "61 - 70",
          "61 - 70",
          "61 - 70",
          "61 - 70",
          "61 - 70",
          "61 - 70",
          "61 - 70",
          "61 - 70",
          "61 - 70",
          "61 - 70",
          "61 - 70",
          "61 - 70",
          "61 - 70",
          "61 - 70",
          "61 - 70",
          "61 - 70",
          "61 - 70",
          "61 - 70",
          "61 - 70",
          "61 - 70",
          "61 - 70",
          "61 - 70",
          "61 - 70",
          "61 - 70",
          "61 - 70",
          "61 - 70",
          "61 - 70",
          "61 - 70",
          "61 - 70",
          "61 - 70",
          "61 - 70",
          "61 - 70",
          "61 - 70",
          "61 - 70",
          "61 - 70",
          "61 - 70",
          "61 - 70",
          "61 - 70",
          "61 - 70",
          "61 - 70",
          "61 - 70",
          "61 - 70",
          "61 - 70",
          "61 - 70",
          "61 - 70",
          "61 - 70",
          "61 - 70",
          "61 - 70",
          "61 - 70",
          "61 - 70",
          "61 - 70",
          "61 - 70",
          "61 - 70",
          "61 - 70",
          "61 - 70",
          "61 - 70",
          "61 - 70",
          "61 - 70",
          "61 - 70",
          "61 - 70",
          "61 - 70",
          "61 - 70",
          "61 - 70",
          "61 - 70",
          "61 - 70",
          "61 - 70",
          "61 - 70",
          "61 - 70",
          "61 - 70",
          "61 - 70",
          "61 - 70",
          "61 - 70",
          "61 - 70",
          "61 - 70",
          "61 - 70",
          "61 - 70",
          "61 - 70",
          "61 - 70",
          "61 - 70",
          "61 - 70",
          "61 - 70",
          "61 - 70",
          "61 - 70",
          "61 - 70",
          "61 - 70",
          "61 - 70",
          "61 - 70",
          "61 - 70",
          "61 - 70",
          "61 - 70",
          "61 - 70",
          "61 - 70",
          "61 - 70",
          "61 - 70",
          "61 - 70",
          "61 - 70",
          "61 - 70",
          "61 - 70",
          "61 - 70",
          "61 - 70",
          "61 - 70",
          "61 - 70",
          "61 - 70",
          "61 - 70",
          "61 - 70",
          "61 - 70",
          "61 - 70",
          "61 - 70",
          "61 - 70",
          "61 - 70",
          "61 - 70",
          "61 - 70",
          "61 - 70",
          "61 - 70",
          "61 - 70",
          "61 - 70",
          "71 - 80",
          "71 - 80",
          "71 - 80",
          "71 - 80",
          "71 - 80",
          "71 - 80",
          "71 - 80",
          "71 - 80",
          "71 - 80",
          "71 - 80",
          "71 - 80",
          "71 - 80",
          "71 - 80",
          "71 - 80",
          "71 - 80",
          "71 - 80",
          "71 - 80",
          "71 - 80",
          "71 - 80",
          "71 - 80",
          "71 - 80",
          "71 - 80",
          "71 - 80",
          "71 - 80",
          "71 - 80",
          "71 - 80",
          "71 - 80",
          "71 - 80",
          "71 - 80",
          "71 - 80",
          "71 - 80",
          "71 - 80",
          "71 - 80",
          "71 - 80",
          "71 - 80",
          "71 - 80",
          "71 - 80",
          "71 - 80",
          "71 - 80",
          "71 - 80",
          "71 - 80",
          "71 - 80",
          "71 - 80",
          "71 - 80",
          "71 - 80",
          "71 - 80",
          "71 - 80",
          "71 - 80",
          "71 - 80",
          "71 - 80",
          "71 - 80",
          "71 - 80",
          "71 - 80",
          "71 - 80",
          "71 - 80",
          "71 - 80",
          "71 - 80",
          "71 - 80",
          "71 - 80",
          "71 - 80",
          "71 - 80",
          "71 - 80",
          "71 - 80",
          "71 - 80",
          "71 - 80",
          "71 - 80",
          "71 - 80",
          "71 - 80",
          "71 - 80",
          "71 - 80",
          "71 - 80",
          "71 - 80",
          "71 - 80",
          "71 - 80",
          "71 - 80",
          "71 - 80",
          "71 - 80",
          "71 - 80",
          "71 - 80",
          "71 - 80",
          "71 - 80",
          "71 - 80",
          "71 - 80",
          "71 - 80",
          "71 - 80",
          "71 - 80",
          "71 - 80",
          "71 - 80",
          "71 - 80",
          "71 - 80",
          "71 - 80",
          "71 - 80",
          "71 - 80",
          "71 - 80",
          "71 - 80",
          "71 - 80",
          "71 - 80",
          "71 - 80",
          "71 - 80",
          "71 - 80",
          "71 - 80",
          "71 - 80",
          "71 - 80",
          "71 - 80",
          "71 - 80",
          "71 - 80",
          "71 - 80",
          "71 - 80",
          "71 - 80",
          "71 - 80",
          "71 - 80",
          "71 - 80",
          "71 - 80",
          "71 - 80",
          "71 - 80",
          "71 - 80",
          "71 - 80",
          "71 - 80",
          "71 - 80",
          "71 - 80",
          "71 - 80",
          "71 - 80",
          "71 - 80",
          "71 - 80",
          "71 - 80",
          "71 - 80",
          "71 - 80",
          "71 - 80",
          "71 - 80",
          "71 - 80",
          "71 - 80",
          "71 - 80",
          "71 - 80",
          "71 - 80",
          "71 - 80",
          "71 - 80",
          "71 - 80",
          "71 - 80",
          "71 - 80",
          "71 - 80",
          "71 - 80",
          "71 - 80",
          "71 - 80",
          "71 - 80",
          "71 - 80",
          "71 - 80",
          "71 - 80",
          "71 - 80",
          "71 - 80",
          "71 - 80",
          "71 - 80",
          "71 - 80",
          "71 - 80",
          "71 - 80",
          "71 - 80",
          "71 - 80",
          "71 - 80",
          "71 - 80",
          "71 - 80",
          "71 - 80",
          "71 - 80",
          "71 - 80",
          "71 - 80",
          "71 - 80",
          "71 - 80",
          "71 - 80",
          "71 - 80",
          "71 - 80",
          "71 - 80",
          "71 - 80",
          "71 - 80",
          "71 - 80",
          "71 - 80",
          "71 - 80",
          "71 - 80",
          "71 - 80",
          "71 - 80",
          "71 - 80",
          "71 - 80",
          "71 - 80",
          "71 - 80",
          "71 - 80",
          "71 - 80",
          "71 - 80",
          "71 - 80",
          "71 - 80",
          "71 - 80",
          "71 - 80",
          "71 - 80",
          "71 - 80",
          "81 - 90",
          "81 - 90",
          "81 - 90",
          "81 - 90",
          "81 - 90",
          "81 - 90",
          "81 - 90",
          "81 - 90",
          "81 - 90",
          "81 - 90",
          "81 - 90",
          "81 - 90",
          "81 - 90",
          "81 - 90",
          "81 - 90",
          "81 - 90",
          "81 - 90",
          "81 - 90",
          "81 - 90",
          "81 - 90",
          "81 - 90",
          "81 - 90",
          "81 - 90",
          "81 - 90",
          "81 - 90",
          "81 - 90",
          "81 - 90",
          "81 - 90",
          "81 - 90",
          "81 - 90",
          "81 - 90",
          "81 - 90",
          "81 - 90",
          "81 - 90",
          "81 - 90",
          "81 - 90",
          "81 - 90",
          "81 - 90",
          "81 - 90",
          "81 - 90",
          "81 - 90",
          "81 - 90",
          "81 - 90",
          "81 - 90",
          "81 - 90",
          "81 - 90",
          "81 - 90",
          "81 - 90",
          "81 - 90",
          "81 - 90",
          "81 - 90",
          "81 - 90",
          "81 - 90",
          "81 - 90",
          "81 - 90",
          "81 - 90",
          "81 - 90",
          "81 - 90",
          "81 - 90",
          "81 - 90",
          "81 - 90",
          "81 - 90",
          "81 - 90",
          "81 - 90",
          "81 - 90",
          "81 - 90",
          "81 - 90",
          "81 - 90",
          "81 - 90",
          "81 - 90",
          "81 - 90",
          "81 - 90",
          "81 - 90",
          "81 - 90",
          "81 - 90",
          "81 - 90",
          "81 - 90",
          "81 - 90",
          "81 - 90",
          "81 - 90",
          "81 - 90",
          "81 - 90",
          "81 - 90",
          "81 - 90",
          "81 - 90",
          "81 - 90",
          "81 - 90",
          "81 - 90",
          "81 - 90",
          "81 - 90",
          "81 - 90",
          "81 - 90",
          "81 - 90",
          "81 - 90",
          "81 - 90",
          "81 - 90",
          "81 - 90",
          "81 - 90",
          "81 - 90",
          "81 - 90",
          "81 - 90",
          "81 - 90",
          "81 - 90",
          "81 - 90",
          "81 - 90",
          "81 - 90",
          "81 - 90",
          "81 - 90",
          "81 - 90",
          "81 - 90",
          "81 - 90",
          "81 - 90",
          "81 - 90",
          "81 - 90",
          "81 - 90",
          "81 - 90",
          "81 - 90",
          "81 - 90",
          "81 - 90",
          "81 - 90",
          "81 - 90",
          "81 - 90",
          "81 - 90",
          "81 - 90",
          "81 - 90",
          "81 - 90",
          "81 - 90",
          "81 - 90",
          "81 - 90",
          "81 - 90",
          "81 - 90",
          "81 - 90",
          "81 - 90",
          "81 - 90",
          "81 - 90",
          "81 - 90",
          "81 - 90",
          "81 - 90",
          "81 - 90",
          "81 - 90",
          "81 - 90",
          "81 - 90",
          "81 - 90",
          "81 - 90",
          "81 - 90",
          "81 - 90",
          "81 - 90",
          "81 - 90",
          "81 - 90",
          "81 - 90",
          "81 - 90",
          "81 - 90",
          "81 - 90",
          "81 - 90",
          "81 - 90",
          "81 - 90",
          "81 - 90",
          "81 - 90",
          "81 - 90",
          "81 - 90",
          "81 - 90",
          "81 - 90",
          "81 - 90",
          "81 - 90",
          "81 - 90",
          "81 - 90",
          "81 - 90",
          "81 - 90",
          "81 - 90",
          "81 - 90",
          "81 - 90",
          "81 - 90",
          "81 - 90",
          "91 - 100",
          "91 - 100",
          "91 - 100",
          "91 - 100",
          "91 - 100",
          "91 - 100",
          "91 - 100",
          "91 - 100",
          "91 - 100",
          "91 - 100",
          "91 - 100",
          "91 - 100",
          "91 - 100",
          "91 - 100",
          "91 - 100",
          "91 - 100",
          "91 - 100",
          "91 - 100",
          "91 - 100",
          "91 - 100",
          "91 - 100",
          "91 - 100",
          "91 - 100",
          "91 - 100",
          "91 - 100",
          "91 - 100",
          "91 - 100",
          "91 - 100",
          "91 - 100",
          "91 - 100",
          "91 - 100",
          "91 - 100",
          "91 - 100",
          "91 - 100",
          "91 - 100",
          "91 - 100",
          "91 - 100",
          "91 - 100",
          "91 - 100",
          "91 - 100",
          "91 - 100",
          "91 - 100",
          "91 - 100",
          "91 - 100",
          "91 - 100",
          "91 - 100",
          "91 - 100",
          "91 - 100",
          "91 - 100",
          "91 - 100",
          "91 - 100",
          "91 - 100",
          "91 - 100",
          "91 - 100",
          "91 - 100",
          "91 - 100",
          "91 - 100",
          "91 - 100",
          "91 - 100",
          "91 - 100",
          "91 - 100",
          "91 - 100",
          "91 - 100",
          "91 - 100",
          "91 - 100",
          "91 - 100",
          "91 - 100",
          "91 - 100",
          "91 - 100",
          "91 - 100",
          "91 - 100",
          "91 - 100",
          "91 - 100",
          "91 - 100",
          "91 - 100",
          "91 - 100",
          "91 - 100",
          "91 - 100",
          "91 - 100",
          "91 - 100",
          "91 - 100",
          "91 - 100",
          "91 - 100",
          "91 - 100",
          "91 - 100",
          "91 - 100",
          "91 - 100",
          "91 - 100",
          "91 - 100",
          "91 - 100",
          "91 - 100",
          "91 - 100",
          "91 - 100",
          "91 - 100",
          "91 - 100",
          "91 - 100",
          "91 - 100",
          "91 - 100",
          "91 - 100",
          "91 - 100",
          "91 - 100",
          "91 - 100",
          "91 - 100",
          "91 - 100",
          "91 - 100",
          "91 - 100",
          "91 - 100",
          "91 - 100",
          "91 - 100",
          "91 - 100",
          "91 - 100",
          "91 - 100",
          "91 - 100",
          "91 - 100",
          "91 - 100",
          "91 - 100",
          "91 - 100",
          "91 - 100",
          "91 - 100",
          "91 - 100",
          "91 - 100",
          "91 - 100",
          "91 - 100",
          "91 - 100",
          "91 - 100",
          "91 - 100",
          "91 - 100",
          "91 - 100",
          "91 - 100",
          "91 - 100",
          "91 - 100",
          "91 - 100",
          "91 - 100",
          "91 - 100",
          "91 - 100",
          "91 - 100",
          "91 - 100",
          "91 - 100",
          "91 - 100",
          "91 - 100",
          "91 - 100",
          "91 - 100",
          "91 - 100",
          "91 - 100",
          "91 - 100",
          "91 - 100",
          "91 - 100",
          "91 - 100",
          "91 - 100",
          "91 - 100"
         ],
         "xaxis": "x",
         "xbingroup": "x",
         "y": [
          "0 - 10",
          "71 - 80",
          "71 - 80",
          "71 - 80",
          "51 - 60",
          "51 - 60",
          "51 - 60",
          "41 - 50",
          "41 - 50",
          "31 - 40",
          "31 - 40",
          "31 - 40",
          "31 - 40",
          "31 - 40",
          "21 - 30",
          "21 - 30",
          "21 - 30",
          "21 - 30",
          "11 - 20",
          "0 - 10",
          "11 - 20",
          "11 - 20",
          "11 - 20",
          "0 - 10",
          "71 - 80",
          "71 - 80",
          "31 - 40",
          "71 - 80",
          "71 - 80",
          "81 - 90",
          "81 - 90",
          "0 - 10",
          "81 - 90",
          "81 - 90",
          "11 - 20",
          "31 - 40",
          "0 - 10",
          "0 - 10",
          "31 - 40",
          "41 - 50",
          "41 - 50",
          "81 - 90",
          "51 - 60",
          "51 - 60",
          "31 - 40",
          "81 - 90",
          "71 - 80",
          "21 - 30",
          "11 - 20",
          "51 - 60",
          "31 - 40",
          "91 - 100",
          "11 - 20",
          "81 - 90",
          "31 - 40",
          "11 - 20",
          "21 - 30",
          "41 - 50",
          "11 - 20",
          "11 - 20",
          "11 - 20",
          "61 - 70",
          "11 - 20",
          "61 - 70",
          "0 - 10",
          "71 - 80",
          "0 - 10",
          "21 - 30",
          "21 - 30",
          "91 - 100",
          "81 - 90",
          "41 - 50",
          "0 - 10",
          "11 - 20",
          "61 - 70",
          "91 - 100",
          "41 - 50",
          "61 - 70",
          "91 - 100",
          "11 - 20",
          "21 - 30",
          "0 - 10",
          "11 - 20",
          "0 - 10",
          "0 - 10",
          "61 - 70",
          "71 - 80",
          "81 - 90",
          "41 - 50",
          "0 - 10",
          "0 - 10",
          "81 - 90",
          "11 - 20",
          "11 - 20",
          "91 - 100",
          "0 - 10",
          "21 - 30",
          "41 - 50",
          "31 - 40",
          "11 - 20",
          "11 - 20",
          "11 - 20",
          "31 - 40",
          "0 - 10",
          "31 - 40",
          "0 - 10",
          "0 - 10",
          "0 - 10",
          "91 - 100",
          "31 - 40",
          "61 - 70",
          "81 - 90",
          "21 - 30",
          "21 - 30",
          "91 - 100",
          "21 - 30",
          "51 - 60",
          "41 - 50",
          "41 - 50",
          "21 - 30",
          "61 - 70",
          "51 - 60",
          "51 - 60",
          "91 - 100",
          "11 - 20",
          "31 - 40",
          "31 - 40",
          "21 - 30",
          "91 - 100",
          "11 - 20",
          "51 - 60",
          "71 - 80",
          "91 - 100",
          "0 - 10",
          "41 - 50",
          "0 - 10",
          "21 - 30",
          "51 - 60",
          "41 - 50",
          "61 - 70",
          "51 - 60",
          "91 - 100",
          "11 - 20",
          "91 - 100",
          "0 - 10",
          "51 - 60",
          "61 - 70",
          "11 - 20",
          "91 - 100",
          "0 - 10",
          "11 - 20",
          "11 - 20",
          "21 - 30",
          "81 - 90",
          "21 - 30",
          "71 - 80",
          "51 - 60",
          "21 - 30",
          "31 - 40",
          "61 - 70",
          "0 - 10",
          "61 - 70",
          "81 - 90",
          "91 - 100",
          "21 - 30",
          "41 - 50",
          "31 - 40",
          "11 - 20",
          "0 - 10",
          "11 - 20",
          "0 - 10",
          "91 - 100",
          "0 - 10",
          "61 - 70",
          "71 - 80",
          "31 - 40",
          "0 - 10",
          "11 - 20",
          "21 - 30",
          "21 - 30",
          "0 - 10",
          "0 - 10",
          "11 - 20",
          "21 - 30",
          "11 - 20",
          "21 - 30",
          "11 - 20",
          "51 - 60",
          "11 - 20",
          "0 - 10",
          "71 - 80",
          "11 - 20",
          "51 - 60",
          "71 - 80",
          "61 - 70",
          "41 - 50",
          "0 - 10",
          "31 - 40",
          "51 - 60",
          "91 - 100",
          "71 - 80",
          "21 - 30",
          "51 - 60",
          "21 - 30",
          "51 - 60",
          "81 - 90",
          "0 - 10",
          "81 - 90",
          "31 - 40",
          "11 - 20",
          "21 - 30",
          "21 - 30",
          "31 - 40",
          "0 - 10",
          "71 - 80",
          "0 - 10",
          "11 - 20",
          "71 - 80",
          "71 - 80",
          "21 - 30",
          "31 - 40",
          "81 - 90",
          "0 - 10",
          "61 - 70",
          "0 - 10",
          "71 - 80",
          "21 - 30",
          "41 - 50",
          "41 - 50",
          "11 - 20",
          "51 - 60",
          "0 - 10",
          "61 - 70",
          "61 - 70",
          "31 - 40",
          "91 - 100",
          "31 - 40",
          "31 - 40",
          "11 - 20",
          "61 - 70",
          "11 - 20",
          "11 - 20",
          "41 - 50",
          "41 - 50",
          "11 - 20",
          "31 - 40",
          "31 - 40",
          "31 - 40",
          "51 - 60",
          "31 - 40",
          "81 - 90",
          "0 - 10",
          "31 - 40",
          "31 - 40",
          "11 - 20",
          "31 - 40",
          "41 - 50",
          "31 - 40",
          "71 - 80",
          "31 - 40",
          "81 - 90",
          "0 - 10",
          "91 - 100",
          "0 - 10",
          "0 - 10",
          "21 - 30",
          "61 - 70",
          "71 - 80",
          "91 - 100",
          "31 - 40",
          "11 - 20",
          "21 - 30",
          "31 - 40",
          "71 - 80",
          "31 - 40",
          "11 - 20",
          "31 - 40",
          "0 - 10",
          "0 - 10",
          "61 - 70",
          "0 - 10",
          "11 - 20",
          "21 - 30",
          "11 - 20",
          "51 - 60",
          "51 - 60",
          "41 - 50",
          "11 - 20",
          "51 - 60",
          "91 - 100",
          "21 - 30",
          "51 - 60",
          "71 - 80",
          "71 - 80",
          "31 - 40",
          "71 - 80",
          "11 - 20",
          "0 - 10",
          "21 - 30",
          "81 - 90",
          "41 - 50",
          "21 - 30",
          "31 - 40",
          "0 - 10",
          "71 - 80",
          "51 - 60",
          "51 - 60",
          "41 - 50",
          "11 - 20",
          "91 - 100",
          "0 - 10",
          "51 - 60",
          "0 - 10",
          "21 - 30",
          "51 - 60",
          "51 - 60",
          "21 - 30",
          "21 - 30",
          "0 - 10",
          "51 - 60",
          "21 - 30",
          "31 - 40",
          "61 - 70",
          "11 - 20",
          "71 - 80",
          "41 - 50",
          "61 - 70",
          "41 - 50",
          "21 - 30",
          "31 - 40",
          "51 - 60",
          "21 - 30",
          "21 - 30",
          "51 - 60",
          "51 - 60",
          "11 - 20",
          "51 - 60",
          "11 - 20",
          "41 - 50",
          "41 - 50",
          "81 - 90",
          "21 - 30",
          "0 - 10",
          "91 - 100",
          "0 - 10",
          "0 - 10",
          "41 - 50",
          "41 - 50",
          "31 - 40",
          "31 - 40",
          "41 - 50",
          "51 - 60",
          "21 - 30",
          "41 - 50",
          "31 - 40",
          "0 - 10",
          "31 - 40",
          "81 - 90",
          "0 - 10",
          "0 - 10",
          "71 - 80",
          "0 - 10",
          "11 - 20",
          "11 - 20",
          "0 - 10",
          "0 - 10",
          "71 - 80",
          "11 - 20",
          "21 - 30",
          "0 - 10",
          "21 - 30",
          "11 - 20",
          "61 - 70",
          "71 - 80",
          "41 - 50",
          "71 - 80",
          "11 - 20",
          "51 - 60",
          "11 - 20",
          "51 - 60",
          "31 - 40",
          "11 - 20",
          "91 - 100",
          "0 - 10",
          "0 - 10",
          "11 - 20",
          "31 - 40",
          "11 - 20",
          "71 - 80",
          "0 - 10",
          "71 - 80",
          "11 - 20",
          "91 - 100",
          "31 - 40",
          "61 - 70",
          "61 - 70",
          "21 - 30",
          "51 - 60",
          "0 - 10",
          "0 - 10",
          "91 - 100",
          "51 - 60",
          "21 - 30",
          "91 - 100",
          "11 - 20",
          "11 - 20",
          "71 - 80",
          "0 - 10",
          "51 - 60",
          "21 - 30",
          "71 - 80",
          "61 - 70",
          "51 - 60",
          "41 - 50",
          "41 - 50",
          "0 - 10",
          "0 - 10",
          "0 - 10",
          "0 - 10",
          "61 - 70",
          "91 - 100",
          "81 - 90",
          "61 - 70",
          "21 - 30",
          "61 - 70",
          "31 - 40",
          "81 - 90",
          "21 - 30",
          "21 - 30",
          "0 - 10",
          "31 - 40",
          "0 - 10",
          "0 - 10",
          "31 - 40",
          "0 - 10",
          "0 - 10",
          "81 - 90",
          "21 - 30",
          "21 - 30",
          "41 - 50",
          "0 - 10",
          "71 - 80",
          "81 - 90",
          "71 - 80",
          "81 - 90",
          "71 - 80",
          "41 - 50",
          "51 - 60",
          "0 - 10",
          "81 - 90",
          "31 - 40",
          "11 - 20",
          "81 - 90",
          "51 - 60",
          "21 - 30",
          "21 - 30",
          "71 - 80",
          "71 - 80",
          "81 - 90",
          "41 - 50",
          "31 - 40",
          "41 - 50",
          "61 - 70",
          "21 - 30",
          "61 - 70",
          "61 - 70",
          "61 - 70",
          "41 - 50",
          "61 - 70",
          "0 - 10",
          "91 - 100",
          "11 - 20",
          "61 - 70",
          "21 - 30",
          "61 - 70",
          "51 - 60",
          "51 - 60",
          "81 - 90",
          "11 - 20",
          "0 - 10",
          "41 - 50",
          "41 - 50",
          "51 - 60",
          "0 - 10",
          "51 - 60",
          "91 - 100",
          "31 - 40",
          "11 - 20",
          "81 - 90",
          "81 - 90",
          "41 - 50",
          "31 - 40",
          "91 - 100",
          "0 - 10",
          "11 - 20",
          "21 - 30",
          "61 - 70",
          "0 - 10",
          "21 - 30",
          "21 - 30",
          "41 - 50",
          "51 - 60",
          "11 - 20",
          "31 - 40",
          "51 - 60",
          "0 - 10",
          "51 - 60",
          "91 - 100",
          "0 - 10",
          "31 - 40",
          "31 - 40",
          "51 - 60",
          "11 - 20",
          "21 - 30",
          "81 - 90",
          "41 - 50",
          "41 - 50",
          "11 - 20",
          "81 - 90",
          "91 - 100",
          "51 - 60",
          "0 - 10",
          "11 - 20",
          "81 - 90",
          "51 - 60",
          "41 - 50",
          "11 - 20",
          "11 - 20",
          "41 - 50",
          "81 - 90",
          "61 - 70",
          "21 - 30",
          "31 - 40",
          "71 - 80",
          "21 - 30",
          "31 - 40",
          "0 - 10",
          "31 - 40",
          "31 - 40",
          "21 - 30",
          "71 - 80",
          "0 - 10",
          "71 - 80",
          "11 - 20",
          "71 - 80",
          "11 - 20",
          "61 - 70",
          "0 - 10",
          "51 - 60",
          "41 - 50",
          "61 - 70",
          "41 - 50",
          "61 - 70",
          "61 - 70",
          "41 - 50",
          "31 - 40",
          "41 - 50",
          "31 - 40",
          "41 - 50",
          "21 - 30",
          "0 - 10",
          "0 - 10",
          "21 - 30",
          "0 - 10",
          "21 - 30",
          "21 - 30",
          "0 - 10",
          "21 - 30",
          "0 - 10",
          "81 - 90",
          "81 - 90",
          "11 - 20",
          "11 - 20",
          "11 - 20",
          "31 - 40",
          "61 - 70",
          "31 - 40",
          "71 - 80",
          "21 - 30",
          "51 - 60",
          "21 - 30",
          "71 - 80",
          "0 - 10",
          "71 - 80",
          "41 - 50",
          "81 - 90",
          "61 - 70",
          "81 - 90",
          "71 - 80",
          "21 - 30",
          "41 - 50",
          "0 - 10",
          "31 - 40",
          "0 - 10",
          "31 - 40",
          "21 - 30",
          "41 - 50",
          "41 - 50",
          "71 - 80",
          "0 - 10",
          "21 - 30",
          "31 - 40",
          "51 - 60",
          "0 - 10",
          "11 - 20",
          "41 - 50",
          "31 - 40",
          "21 - 30",
          "61 - 70",
          "41 - 50",
          "61 - 70",
          "31 - 40",
          "31 - 40",
          "41 - 50",
          "61 - 70",
          "21 - 30",
          "41 - 50",
          "41 - 50",
          "81 - 90",
          "21 - 30",
          "51 - 60",
          "91 - 100",
          "51 - 60",
          "21 - 30",
          "61 - 70",
          "71 - 80",
          "21 - 30",
          "0 - 10",
          "81 - 90",
          "91 - 100",
          "71 - 80",
          "41 - 50",
          "41 - 50",
          "31 - 40",
          "71 - 80",
          "51 - 60",
          "0 - 10",
          "0 - 10",
          "11 - 20",
          "81 - 90",
          "0 - 10",
          "11 - 20",
          "0 - 10",
          "61 - 70",
          "21 - 30",
          "41 - 50",
          "21 - 30",
          "0 - 10",
          "21 - 30",
          "61 - 70",
          "11 - 20",
          "91 - 100",
          "41 - 50",
          "0 - 10",
          "51 - 60",
          "41 - 50",
          "31 - 40",
          "71 - 80",
          "91 - 100",
          "91 - 100",
          "11 - 20",
          "41 - 50",
          "91 - 100",
          "11 - 20",
          "81 - 90",
          "81 - 90",
          "61 - 70",
          "21 - 30",
          "31 - 40",
          "21 - 30",
          "71 - 80",
          "11 - 20",
          "81 - 90",
          "51 - 60",
          "41 - 50",
          "0 - 10",
          "81 - 90",
          "71 - 80",
          "11 - 20",
          "11 - 20",
          "41 - 50",
          "21 - 30",
          "11 - 20",
          "61 - 70",
          "71 - 80",
          "71 - 80",
          "61 - 70",
          "31 - 40",
          "0 - 10",
          "51 - 60",
          "0 - 10",
          "41 - 50",
          "11 - 20",
          "31 - 40",
          "51 - 60",
          "41 - 50",
          "21 - 30",
          "61 - 70",
          "21 - 30",
          "71 - 80",
          "21 - 30",
          "71 - 80",
          "71 - 80",
          "21 - 30",
          "11 - 20",
          "0 - 10",
          "61 - 70",
          "81 - 90",
          "21 - 30",
          "41 - 50",
          "41 - 50",
          "21 - 30",
          "0 - 10",
          "0 - 10",
          "11 - 20",
          "81 - 90",
          "51 - 60",
          "71 - 80",
          "31 - 40",
          "71 - 80",
          "41 - 50",
          "41 - 50",
          "0 - 10",
          "11 - 20",
          "41 - 50",
          "11 - 20",
          "61 - 70",
          "81 - 90",
          "31 - 40",
          "11 - 20",
          "0 - 10",
          "61 - 70",
          "0 - 10",
          "11 - 20",
          "0 - 10",
          "0 - 10",
          "71 - 80",
          "21 - 30",
          "51 - 60",
          "21 - 30",
          "61 - 70",
          "61 - 70",
          "21 - 30",
          "0 - 10",
          "21 - 30",
          "51 - 60",
          "71 - 80",
          "11 - 20",
          "31 - 40",
          "91 - 100",
          "31 - 40",
          "21 - 30",
          "0 - 10",
          "31 - 40",
          "0 - 10",
          "51 - 60",
          "41 - 50",
          "41 - 50",
          "11 - 20",
          "41 - 50",
          "91 - 100",
          "0 - 10",
          "0 - 10",
          "51 - 60",
          "11 - 20",
          "11 - 20",
          "41 - 50",
          "51 - 60",
          "11 - 20",
          "0 - 10",
          "41 - 50",
          "51 - 60",
          "51 - 60",
          "81 - 90",
          "0 - 10",
          "0 - 10",
          "51 - 60",
          "11 - 20",
          "31 - 40",
          "71 - 80",
          "61 - 70",
          "71 - 80",
          "31 - 40",
          "71 - 80",
          "61 - 70",
          "0 - 10",
          "21 - 30",
          "61 - 70",
          "61 - 70",
          "21 - 30",
          "31 - 40",
          "11 - 20",
          "11 - 20",
          "31 - 40",
          "21 - 30",
          "41 - 50",
          "21 - 30",
          "31 - 40",
          "41 - 50",
          "21 - 30",
          "61 - 70",
          "61 - 70",
          "21 - 30",
          "31 - 40",
          "71 - 80",
          "31 - 40",
          "31 - 40",
          "11 - 20",
          "31 - 40",
          "21 - 30",
          "91 - 100",
          "71 - 80",
          "31 - 40",
          "21 - 30",
          "0 - 10",
          "31 - 40",
          "71 - 80",
          "41 - 50",
          "41 - 50",
          "31 - 40",
          "0 - 10",
          "31 - 40",
          "31 - 40",
          "41 - 50",
          "71 - 80",
          "71 - 80",
          "31 - 40",
          "81 - 90",
          "51 - 60",
          "0 - 10",
          "11 - 20",
          "11 - 20",
          "11 - 20",
          "51 - 60",
          "51 - 60",
          "71 - 80",
          "0 - 10",
          "71 - 80",
          "31 - 40",
          "0 - 10",
          "71 - 80",
          "0 - 10",
          "71 - 80",
          "31 - 40",
          "71 - 80",
          "21 - 30",
          "31 - 40",
          "71 - 80",
          "91 - 100",
          "91 - 100",
          "71 - 80",
          "91 - 100",
          "11 - 20",
          "21 - 30",
          "81 - 90",
          "51 - 60",
          "81 - 90",
          "81 - 90",
          "0 - 10",
          "81 - 90",
          "0 - 10",
          "21 - 30",
          "61 - 70",
          "81 - 90",
          "71 - 80",
          "51 - 60",
          "21 - 30",
          "31 - 40",
          "71 - 80",
          "31 - 40",
          "91 - 100",
          "41 - 50",
          "91 - 100",
          "31 - 40",
          "61 - 70",
          "91 - 100",
          "51 - 60",
          "81 - 90",
          "81 - 90",
          "61 - 70",
          "51 - 60",
          "51 - 60",
          "81 - 90",
          "61 - 70",
          "81 - 90",
          "51 - 60",
          "81 - 90",
          "61 - 70",
          "81 - 90",
          "91 - 100",
          "71 - 80",
          "51 - 60",
          "61 - 70",
          "51 - 60",
          "51 - 60",
          "51 - 60",
          "21 - 30",
          "11 - 20",
          "21 - 30",
          "31 - 40",
          "11 - 20",
          "11 - 20",
          "31 - 40",
          "31 - 40",
          "0 - 10",
          "21 - 30",
          "51 - 60",
          "41 - 50",
          "41 - 50",
          "0 - 10",
          "81 - 90",
          "81 - 90",
          "21 - 30",
          "11 - 20",
          "31 - 40",
          "71 - 80",
          "91 - 100",
          "0 - 10",
          "11 - 20",
          "11 - 20",
          "0 - 10",
          "0 - 10",
          "31 - 40",
          "61 - 70",
          "31 - 40",
          "51 - 60",
          "91 - 100",
          "11 - 20",
          "21 - 30",
          "61 - 70",
          "61 - 70",
          "61 - 70",
          "51 - 60",
          "31 - 40",
          "91 - 100",
          "91 - 100",
          "61 - 70",
          "71 - 80",
          "51 - 60",
          "61 - 70",
          "71 - 80",
          "71 - 80",
          "31 - 40",
          "61 - 70",
          "31 - 40",
          "61 - 70",
          "61 - 70",
          "61 - 70",
          "41 - 50",
          "61 - 70",
          "41 - 50",
          "41 - 50",
          "71 - 80",
          "31 - 40",
          "51 - 60",
          "91 - 100",
          "91 - 100",
          "91 - 100",
          "81 - 90",
          "11 - 20",
          "81 - 90",
          "81 - 90",
          "81 - 90",
          "91 - 100",
          "81 - 90",
          "11 - 20",
          "81 - 90",
          "81 - 90",
          "81 - 90",
          "51 - 60",
          "31 - 40",
          "11 - 20",
          "61 - 70",
          "11 - 20",
          "61 - 70",
          "31 - 40",
          "31 - 40",
          "11 - 20",
          "11 - 20",
          "31 - 40",
          "61 - 70",
          "51 - 60",
          "41 - 50",
          "41 - 50",
          "51 - 60",
          "21 - 30",
          "81 - 90",
          "71 - 80",
          "41 - 50",
          "11 - 20",
          "51 - 60",
          "51 - 60",
          "61 - 70",
          "61 - 70",
          "21 - 30",
          "61 - 70",
          "0 - 10",
          "91 - 100",
          "91 - 100",
          "0 - 10",
          "91 - 100",
          "91 - 100",
          "61 - 70",
          "91 - 100",
          "0 - 10",
          "71 - 80",
          "31 - 40",
          "31 - 40",
          "81 - 90",
          "21 - 30",
          "71 - 80",
          "71 - 80",
          "81 - 90",
          "21 - 30",
          "81 - 90",
          "21 - 30",
          "71 - 80",
          "71 - 80",
          "31 - 40",
          "31 - 40",
          "11 - 20",
          "71 - 80",
          "81 - 90",
          "31 - 40",
          "71 - 80",
          "61 - 70",
          "81 - 90",
          "61 - 70",
          "71 - 80",
          "71 - 80",
          "0 - 10",
          "41 - 50",
          "41 - 50",
          "41 - 50",
          "51 - 60",
          "41 - 50",
          "51 - 60",
          "41 - 50",
          "41 - 50",
          "91 - 100",
          "91 - 100",
          "91 - 100",
          "41 - 50",
          "61 - 70",
          "61 - 70",
          "11 - 20",
          "31 - 40",
          "91 - 100",
          "31 - 40",
          "41 - 50",
          "0 - 10",
          "11 - 20",
          "81 - 90",
          "91 - 100",
          "0 - 10",
          "71 - 80",
          "31 - 40",
          "91 - 100",
          "31 - 40",
          "11 - 20",
          "11 - 20",
          "31 - 40",
          "51 - 60",
          "81 - 90",
          "0 - 10",
          "81 - 90",
          "41 - 50",
          "21 - 30",
          "31 - 40",
          "11 - 20",
          "21 - 30",
          "41 - 50",
          "31 - 40",
          "21 - 30",
          "31 - 40",
          "21 - 30",
          "91 - 100",
          "91 - 100",
          "91 - 100",
          "11 - 20",
          "0 - 10",
          "81 - 90",
          "51 - 60",
          "11 - 20",
          "0 - 10",
          "0 - 10",
          "91 - 100",
          "11 - 20",
          "91 - 100",
          "41 - 50",
          "51 - 60",
          "51 - 60",
          "41 - 50",
          "51 - 60",
          "21 - 30",
          "91 - 100",
          "11 - 20",
          "81 - 90",
          "21 - 30",
          "31 - 40",
          "11 - 20",
          "41 - 50",
          "51 - 60",
          "71 - 80",
          "81 - 90",
          "61 - 70",
          "21 - 30",
          "31 - 40",
          "61 - 70",
          "41 - 50",
          "41 - 50",
          "51 - 60",
          "0 - 10",
          "81 - 90",
          "0 - 10",
          "41 - 50",
          "41 - 50",
          "41 - 50",
          "51 - 60",
          "81 - 90",
          "21 - 30",
          "61 - 70",
          "31 - 40",
          "61 - 70",
          "51 - 60",
          "81 - 90",
          "41 - 50",
          "71 - 80",
          "51 - 60",
          "31 - 40",
          "51 - 60",
          "81 - 90",
          "51 - 60",
          "91 - 100",
          "51 - 60",
          "71 - 80",
          "61 - 70",
          "21 - 30",
          "51 - 60",
          "31 - 40",
          "41 - 50",
          "61 - 70",
          "0 - 10",
          "41 - 50",
          "81 - 90",
          "11 - 20",
          "31 - 40",
          "61 - 70",
          "11 - 20",
          "81 - 90",
          "51 - 60",
          "21 - 30",
          "21 - 30",
          "51 - 60",
          "51 - 60",
          "81 - 90",
          "81 - 90",
          "81 - 90",
          "11 - 20",
          "81 - 90",
          "61 - 70",
          "21 - 30",
          "41 - 50",
          "21 - 30",
          "61 - 70",
          "61 - 70",
          "51 - 60",
          "71 - 80",
          "71 - 80",
          "41 - 50",
          "21 - 30",
          "91 - 100",
          "61 - 70",
          "51 - 60",
          "91 - 100",
          "11 - 20",
          "71 - 80",
          "61 - 70",
          "21 - 30",
          "31 - 40",
          "81 - 90",
          "21 - 30",
          "11 - 20",
          "51 - 60",
          "11 - 20",
          "61 - 70",
          "21 - 30",
          "81 - 90",
          "91 - 100",
          "11 - 20",
          "71 - 80",
          "0 - 10",
          "81 - 90",
          "71 - 80",
          "71 - 80",
          "0 - 10",
          "51 - 60",
          "21 - 30",
          "21 - 30",
          "41 - 50",
          "41 - 50",
          "41 - 50",
          "91 - 100",
          "21 - 30",
          "91 - 100",
          "11 - 20",
          "61 - 70",
          "51 - 60",
          "61 - 70",
          "31 - 40",
          "31 - 40",
          "31 - 40",
          "91 - 100",
          "91 - 100",
          "51 - 60",
          "51 - 60",
          "81 - 90",
          "61 - 70",
          "91 - 100",
          "61 - 70",
          "91 - 100",
          "81 - 90",
          "11 - 20",
          "91 - 100",
          "91 - 100",
          "21 - 30",
          "51 - 60",
          "81 - 90",
          "91 - 100",
          "91 - 100",
          "71 - 80",
          "61 - 70",
          "51 - 60",
          "61 - 70",
          "71 - 80",
          "0 - 10",
          "61 - 70",
          "31 - 40",
          "91 - 100",
          "51 - 60",
          "0 - 10",
          "71 - 80",
          "41 - 50",
          "91 - 100",
          "91 - 100",
          "0 - 10",
          "11 - 20",
          "51 - 60",
          "81 - 90",
          "91 - 100",
          "21 - 30",
          "51 - 60",
          "91 - 100",
          "51 - 60",
          "11 - 20",
          "21 - 30",
          "0 - 10",
          "0 - 10",
          "71 - 80",
          "61 - 70",
          "51 - 60",
          "81 - 90",
          "81 - 90",
          "31 - 40",
          "71 - 80",
          "41 - 50",
          "11 - 20",
          "71 - 80",
          "71 - 80",
          "0 - 10",
          "21 - 30",
          "71 - 80",
          "41 - 50",
          "71 - 80",
          "41 - 50",
          "51 - 60",
          "31 - 40",
          "41 - 50",
          "21 - 30",
          "21 - 30",
          "21 - 30",
          "51 - 60",
          "41 - 50",
          "91 - 100",
          "51 - 60",
          "81 - 90",
          "61 - 70",
          "51 - 60",
          "81 - 90",
          "81 - 90",
          "51 - 60",
          "91 - 100",
          "0 - 10",
          "41 - 50",
          "41 - 50",
          "11 - 20",
          "0 - 10",
          "41 - 50",
          "0 - 10",
          "91 - 100",
          "0 - 10",
          "21 - 30",
          "71 - 80",
          "91 - 100",
          "61 - 70",
          "51 - 60",
          "71 - 80",
          "81 - 90",
          "91 - 100",
          "81 - 90",
          "21 - 30",
          "0 - 10",
          "11 - 20",
          "41 - 50",
          "91 - 100",
          "91 - 100",
          "41 - 50",
          "11 - 20",
          "71 - 80",
          "31 - 40",
          "91 - 100",
          "81 - 90",
          "21 - 30",
          "41 - 50",
          "61 - 70",
          "71 - 80",
          "91 - 100",
          "21 - 30",
          "61 - 70",
          "51 - 60",
          "81 - 90",
          "71 - 80",
          "0 - 10",
          "11 - 20",
          "31 - 40",
          "31 - 40",
          "51 - 60",
          "0 - 10",
          "71 - 80",
          "51 - 60",
          "61 - 70",
          "71 - 80",
          "11 - 20",
          "71 - 80",
          "11 - 20",
          "71 - 80",
          "11 - 20",
          "81 - 90",
          "21 - 30",
          "61 - 70",
          "21 - 30",
          "41 - 50",
          "61 - 70",
          "51 - 60",
          "91 - 100",
          "51 - 60",
          "51 - 60",
          "61 - 70",
          "61 - 70",
          "0 - 10",
          "71 - 80",
          "71 - 80",
          "31 - 40",
          "21 - 30",
          "41 - 50",
          "91 - 100",
          "71 - 80",
          "41 - 50",
          "81 - 90",
          "51 - 60",
          "31 - 40",
          "71 - 80",
          "61 - 70",
          "91 - 100",
          "31 - 40",
          "91 - 100",
          "31 - 40",
          "91 - 100",
          "91 - 100",
          "0 - 10",
          "11 - 20",
          "21 - 30",
          "61 - 70",
          "81 - 90",
          "61 - 70",
          "61 - 70",
          "11 - 20",
          "41 - 50",
          "51 - 60",
          "81 - 90",
          "11 - 20",
          "81 - 90",
          "91 - 100",
          "61 - 70",
          "91 - 100",
          "51 - 60",
          "71 - 80",
          "41 - 50",
          "71 - 80",
          "91 - 100",
          "81 - 90",
          "11 - 20",
          "41 - 50",
          "0 - 10",
          "51 - 60",
          "11 - 20",
          "81 - 90",
          "71 - 80",
          "0 - 10",
          "11 - 20",
          "91 - 100",
          "61 - 70",
          "61 - 70",
          "61 - 70",
          "41 - 50",
          "91 - 100",
          "81 - 90",
          "81 - 90",
          "61 - 70",
          "0 - 10",
          "71 - 80",
          "81 - 90",
          "51 - 60",
          "51 - 60",
          "81 - 90",
          "81 - 90",
          "61 - 70",
          "81 - 90",
          "81 - 90",
          "41 - 50",
          "51 - 60",
          "91 - 100",
          "81 - 90",
          "11 - 20",
          "51 - 60",
          "71 - 80",
          "51 - 60",
          "31 - 40",
          "41 - 50",
          "71 - 80",
          "41 - 50",
          "51 - 60",
          "71 - 80",
          "81 - 90",
          "41 - 50",
          "71 - 80",
          "81 - 90",
          "31 - 40",
          "91 - 100",
          "91 - 100",
          "61 - 70",
          "51 - 60",
          "41 - 50",
          "61 - 70",
          "61 - 70",
          "61 - 70",
          "51 - 60",
          "0 - 10",
          "61 - 70",
          "81 - 90",
          "81 - 90",
          "61 - 70",
          "71 - 80",
          "91 - 100",
          "31 - 40",
          "11 - 20",
          "71 - 80",
          "91 - 100",
          "91 - 100",
          "0 - 10",
          "0 - 10",
          "51 - 60",
          "41 - 50",
          "51 - 60",
          "61 - 70",
          "31 - 40",
          "21 - 30",
          "81 - 90",
          "91 - 100",
          "31 - 40",
          "11 - 20",
          "61 - 70",
          "71 - 80",
          "21 - 30",
          "31 - 40",
          "21 - 30",
          "41 - 50",
          "61 - 70",
          "81 - 90",
          "61 - 70",
          "0 - 10",
          "61 - 70",
          "31 - 40",
          "61 - 70",
          "81 - 90",
          "61 - 70",
          "11 - 20",
          "61 - 70",
          "51 - 60",
          "61 - 70",
          "91 - 100",
          "0 - 10",
          "91 - 100",
          "81 - 90",
          "91 - 100",
          "91 - 100",
          "21 - 30",
          "71 - 80",
          "21 - 30",
          "61 - 70",
          "41 - 50",
          "41 - 50",
          "51 - 60",
          "81 - 90",
          "41 - 50",
          "41 - 50",
          "61 - 70",
          "91 - 100",
          "91 - 100",
          "0 - 10",
          "41 - 50",
          "41 - 50",
          "61 - 70",
          "91 - 100",
          "31 - 40",
          "61 - 70",
          "61 - 70",
          "61 - 70",
          "41 - 50",
          "81 - 90",
          "91 - 100",
          "81 - 90",
          "81 - 90",
          "41 - 50",
          "21 - 30",
          "81 - 90",
          "41 - 50",
          "11 - 20",
          "11 - 20",
          "41 - 50",
          "71 - 80",
          "41 - 50",
          "71 - 80",
          "21 - 30",
          "61 - 70",
          "81 - 90",
          "21 - 30",
          "51 - 60",
          "41 - 50",
          "0 - 10",
          "91 - 100",
          "71 - 80",
          "91 - 100",
          "21 - 30",
          "61 - 70",
          "0 - 10",
          "0 - 10",
          "71 - 80",
          "51 - 60",
          "61 - 70",
          "31 - 40",
          "51 - 60",
          "71 - 80",
          "81 - 90",
          "91 - 100",
          "81 - 90",
          "81 - 90",
          "41 - 50",
          "81 - 90",
          "41 - 50",
          "0 - 10",
          "0 - 10",
          "0 - 10",
          "71 - 80",
          "41 - 50",
          "91 - 100",
          "31 - 40",
          "0 - 10",
          "71 - 80",
          "61 - 70",
          "81 - 90",
          "81 - 90",
          "51 - 60",
          "91 - 100",
          "81 - 90",
          "91 - 100",
          "61 - 70",
          "91 - 100",
          "91 - 100",
          "91 - 100",
          "41 - 50",
          "71 - 80",
          "71 - 80",
          "71 - 80",
          "81 - 90",
          "91 - 100",
          "71 - 80",
          "11 - 20",
          "91 - 100",
          "81 - 90",
          "51 - 60",
          "31 - 40",
          "91 - 100",
          "91 - 100",
          "41 - 50",
          "31 - 40",
          "51 - 60",
          "11 - 20",
          "11 - 20",
          "21 - 30",
          "71 - 80",
          "61 - 70",
          "61 - 70",
          "51 - 60",
          "51 - 60",
          "11 - 20",
          "61 - 70",
          "21 - 30",
          "81 - 90",
          "81 - 90",
          "71 - 80",
          "41 - 50",
          "21 - 30",
          "31 - 40",
          "81 - 90",
          "11 - 20",
          "91 - 100",
          "71 - 80",
          "51 - 60",
          "51 - 60",
          "61 - 70",
          "61 - 70",
          "91 - 100",
          "81 - 90",
          "71 - 80",
          "81 - 90",
          "0 - 10",
          "81 - 90",
          "0 - 10",
          "91 - 100",
          "61 - 70",
          "91 - 100",
          "91 - 100",
          "91 - 100",
          "81 - 90",
          "91 - 100",
          "81 - 90",
          "21 - 30",
          "61 - 70",
          "71 - 80",
          "81 - 90",
          "81 - 90",
          "11 - 20",
          "61 - 70",
          "51 - 60",
          "11 - 20",
          "81 - 90",
          "0 - 10",
          "81 - 90",
          "41 - 50",
          "71 - 80",
          "21 - 30",
          "41 - 50",
          "51 - 60",
          "21 - 30",
          "81 - 90",
          "71 - 80",
          "51 - 60",
          "91 - 100",
          "61 - 70",
          "81 - 90",
          "31 - 40",
          "71 - 80",
          "41 - 50",
          "81 - 90",
          "61 - 70",
          "41 - 50",
          "21 - 30",
          "81 - 90",
          "91 - 100",
          "71 - 80",
          "61 - 70",
          "21 - 30",
          "31 - 40",
          "31 - 40",
          "61 - 70",
          "51 - 60",
          "81 - 90",
          "31 - 40",
          "91 - 100",
          "41 - 50",
          "71 - 80",
          "81 - 90",
          "31 - 40",
          "21 - 30",
          "81 - 90",
          "81 - 90",
          "61 - 70",
          "71 - 80",
          "71 - 80",
          "51 - 60",
          "71 - 80",
          "91 - 100",
          "81 - 90",
          "11 - 20",
          "0 - 10",
          "31 - 40",
          "31 - 40",
          "81 - 90",
          "71 - 80",
          "71 - 80",
          "11 - 20",
          "71 - 80",
          "91 - 100",
          "51 - 60",
          "91 - 100",
          "71 - 80",
          "71 - 80",
          "71 - 80",
          "91 - 100",
          "91 - 100",
          "81 - 90",
          "41 - 50",
          "61 - 70",
          "91 - 100",
          "51 - 60",
          "81 - 90",
          "71 - 80",
          "61 - 70"
         ],
         "yaxis": "y",
         "ybingroup": "y"
        }
       ],
       "layout": {
        "coloraxis": {
         "colorbar": {
          "title": {
           "text": "count"
          }
         },
         "colorscale": [
          [
           0,
           "#440154"
          ],
          [
           0.1111111111111111,
           "#482878"
          ],
          [
           0.2222222222222222,
           "#3e4989"
          ],
          [
           0.3333333333333333,
           "#31688e"
          ],
          [
           0.4444444444444444,
           "#26828e"
          ],
          [
           0.5555555555555556,
           "#1f9e89"
          ],
          [
           0.6666666666666666,
           "#35b779"
          ],
          [
           0.7777777777777778,
           "#6ece58"
          ],
          [
           0.8888888888888888,
           "#b5de2b"
          ],
          [
           1,
           "#fde725"
          ]
         ]
        },
        "legend": {
         "tracegroupgap": 0
        },
        "margin": {
         "t": 60
        },
        "template": {
         "data": {
          "bar": [
           {
            "error_x": {
             "color": "#f2f5fa"
            },
            "error_y": {
             "color": "#f2f5fa"
            },
            "marker": {
             "line": {
              "color": "rgb(17,17,17)",
              "width": 0.5
             },
             "pattern": {
              "fillmode": "overlay",
              "size": 10,
              "solidity": 0.2
             }
            },
            "type": "bar"
           }
          ],
          "barpolar": [
           {
            "marker": {
             "line": {
              "color": "rgb(17,17,17)",
              "width": 0.5
             },
             "pattern": {
              "fillmode": "overlay",
              "size": 10,
              "solidity": 0.2
             }
            },
            "type": "barpolar"
           }
          ],
          "carpet": [
           {
            "aaxis": {
             "endlinecolor": "#A2B1C6",
             "gridcolor": "#506784",
             "linecolor": "#506784",
             "minorgridcolor": "#506784",
             "startlinecolor": "#A2B1C6"
            },
            "baxis": {
             "endlinecolor": "#A2B1C6",
             "gridcolor": "#506784",
             "linecolor": "#506784",
             "minorgridcolor": "#506784",
             "startlinecolor": "#A2B1C6"
            },
            "type": "carpet"
           }
          ],
          "choropleth": [
           {
            "colorbar": {
             "outlinewidth": 0,
             "ticks": ""
            },
            "type": "choropleth"
           }
          ],
          "contour": [
           {
            "colorbar": {
             "outlinewidth": 0,
             "ticks": ""
            },
            "colorscale": [
             [
              0,
              "#0d0887"
             ],
             [
              0.1111111111111111,
              "#46039f"
             ],
             [
              0.2222222222222222,
              "#7201a8"
             ],
             [
              0.3333333333333333,
              "#9c179e"
             ],
             [
              0.4444444444444444,
              "#bd3786"
             ],
             [
              0.5555555555555556,
              "#d8576b"
             ],
             [
              0.6666666666666666,
              "#ed7953"
             ],
             [
              0.7777777777777778,
              "#fb9f3a"
             ],
             [
              0.8888888888888888,
              "#fdca26"
             ],
             [
              1,
              "#f0f921"
             ]
            ],
            "type": "contour"
           }
          ],
          "contourcarpet": [
           {
            "colorbar": {
             "outlinewidth": 0,
             "ticks": ""
            },
            "type": "contourcarpet"
           }
          ],
          "heatmap": [
           {
            "colorbar": {
             "outlinewidth": 0,
             "ticks": ""
            },
            "colorscale": [
             [
              0,
              "#0d0887"
             ],
             [
              0.1111111111111111,
              "#46039f"
             ],
             [
              0.2222222222222222,
              "#7201a8"
             ],
             [
              0.3333333333333333,
              "#9c179e"
             ],
             [
              0.4444444444444444,
              "#bd3786"
             ],
             [
              0.5555555555555556,
              "#d8576b"
             ],
             [
              0.6666666666666666,
              "#ed7953"
             ],
             [
              0.7777777777777778,
              "#fb9f3a"
             ],
             [
              0.8888888888888888,
              "#fdca26"
             ],
             [
              1,
              "#f0f921"
             ]
            ],
            "type": "heatmap"
           }
          ],
          "heatmapgl": [
           {
            "colorbar": {
             "outlinewidth": 0,
             "ticks": ""
            },
            "colorscale": [
             [
              0,
              "#0d0887"
             ],
             [
              0.1111111111111111,
              "#46039f"
             ],
             [
              0.2222222222222222,
              "#7201a8"
             ],
             [
              0.3333333333333333,
              "#9c179e"
             ],
             [
              0.4444444444444444,
              "#bd3786"
             ],
             [
              0.5555555555555556,
              "#d8576b"
             ],
             [
              0.6666666666666666,
              "#ed7953"
             ],
             [
              0.7777777777777778,
              "#fb9f3a"
             ],
             [
              0.8888888888888888,
              "#fdca26"
             ],
             [
              1,
              "#f0f921"
             ]
            ],
            "type": "heatmapgl"
           }
          ],
          "histogram": [
           {
            "marker": {
             "pattern": {
              "fillmode": "overlay",
              "size": 10,
              "solidity": 0.2
             }
            },
            "type": "histogram"
           }
          ],
          "histogram2d": [
           {
            "colorbar": {
             "outlinewidth": 0,
             "ticks": ""
            },
            "colorscale": [
             [
              0,
              "#0d0887"
             ],
             [
              0.1111111111111111,
              "#46039f"
             ],
             [
              0.2222222222222222,
              "#7201a8"
             ],
             [
              0.3333333333333333,
              "#9c179e"
             ],
             [
              0.4444444444444444,
              "#bd3786"
             ],
             [
              0.5555555555555556,
              "#d8576b"
             ],
             [
              0.6666666666666666,
              "#ed7953"
             ],
             [
              0.7777777777777778,
              "#fb9f3a"
             ],
             [
              0.8888888888888888,
              "#fdca26"
             ],
             [
              1,
              "#f0f921"
             ]
            ],
            "type": "histogram2d"
           }
          ],
          "histogram2dcontour": [
           {
            "colorbar": {
             "outlinewidth": 0,
             "ticks": ""
            },
            "colorscale": [
             [
              0,
              "#0d0887"
             ],
             [
              0.1111111111111111,
              "#46039f"
             ],
             [
              0.2222222222222222,
              "#7201a8"
             ],
             [
              0.3333333333333333,
              "#9c179e"
             ],
             [
              0.4444444444444444,
              "#bd3786"
             ],
             [
              0.5555555555555556,
              "#d8576b"
             ],
             [
              0.6666666666666666,
              "#ed7953"
             ],
             [
              0.7777777777777778,
              "#fb9f3a"
             ],
             [
              0.8888888888888888,
              "#fdca26"
             ],
             [
              1,
              "#f0f921"
             ]
            ],
            "type": "histogram2dcontour"
           }
          ],
          "mesh3d": [
           {
            "colorbar": {
             "outlinewidth": 0,
             "ticks": ""
            },
            "type": "mesh3d"
           }
          ],
          "parcoords": [
           {
            "line": {
             "colorbar": {
              "outlinewidth": 0,
              "ticks": ""
             }
            },
            "type": "parcoords"
           }
          ],
          "pie": [
           {
            "automargin": true,
            "type": "pie"
           }
          ],
          "scatter": [
           {
            "marker": {
             "line": {
              "color": "#283442"
             }
            },
            "type": "scatter"
           }
          ],
          "scatter3d": [
           {
            "line": {
             "colorbar": {
              "outlinewidth": 0,
              "ticks": ""
             }
            },
            "marker": {
             "colorbar": {
              "outlinewidth": 0,
              "ticks": ""
             }
            },
            "type": "scatter3d"
           }
          ],
          "scattercarpet": [
           {
            "marker": {
             "colorbar": {
              "outlinewidth": 0,
              "ticks": ""
             }
            },
            "type": "scattercarpet"
           }
          ],
          "scattergeo": [
           {
            "marker": {
             "colorbar": {
              "outlinewidth": 0,
              "ticks": ""
             }
            },
            "type": "scattergeo"
           }
          ],
          "scattergl": [
           {
            "marker": {
             "line": {
              "color": "#283442"
             }
            },
            "type": "scattergl"
           }
          ],
          "scattermapbox": [
           {
            "marker": {
             "colorbar": {
              "outlinewidth": 0,
              "ticks": ""
             }
            },
            "type": "scattermapbox"
           }
          ],
          "scatterpolar": [
           {
            "marker": {
             "colorbar": {
              "outlinewidth": 0,
              "ticks": ""
             }
            },
            "type": "scatterpolar"
           }
          ],
          "scatterpolargl": [
           {
            "marker": {
             "colorbar": {
              "outlinewidth": 0,
              "ticks": ""
             }
            },
            "type": "scatterpolargl"
           }
          ],
          "scatterternary": [
           {
            "marker": {
             "colorbar": {
              "outlinewidth": 0,
              "ticks": ""
             }
            },
            "type": "scatterternary"
           }
          ],
          "surface": [
           {
            "colorbar": {
             "outlinewidth": 0,
             "ticks": ""
            },
            "colorscale": [
             [
              0,
              "#0d0887"
             ],
             [
              0.1111111111111111,
              "#46039f"
             ],
             [
              0.2222222222222222,
              "#7201a8"
             ],
             [
              0.3333333333333333,
              "#9c179e"
             ],
             [
              0.4444444444444444,
              "#bd3786"
             ],
             [
              0.5555555555555556,
              "#d8576b"
             ],
             [
              0.6666666666666666,
              "#ed7953"
             ],
             [
              0.7777777777777778,
              "#fb9f3a"
             ],
             [
              0.8888888888888888,
              "#fdca26"
             ],
             [
              1,
              "#f0f921"
             ]
            ],
            "type": "surface"
           }
          ],
          "table": [
           {
            "cells": {
             "fill": {
              "color": "#506784"
             },
             "line": {
              "color": "rgb(17,17,17)"
             }
            },
            "header": {
             "fill": {
              "color": "#2a3f5f"
             },
             "line": {
              "color": "rgb(17,17,17)"
             }
            },
            "type": "table"
           }
          ]
         },
         "layout": {
          "annotationdefaults": {
           "arrowcolor": "#f2f5fa",
           "arrowhead": 0,
           "arrowwidth": 1
          },
          "autotypenumbers": "strict",
          "coloraxis": {
           "colorbar": {
            "outlinewidth": 0,
            "ticks": ""
           }
          },
          "colorscale": {
           "diverging": [
            [
             0,
             "#8e0152"
            ],
            [
             0.1,
             "#c51b7d"
            ],
            [
             0.2,
             "#de77ae"
            ],
            [
             0.3,
             "#f1b6da"
            ],
            [
             0.4,
             "#fde0ef"
            ],
            [
             0.5,
             "#f7f7f7"
            ],
            [
             0.6,
             "#e6f5d0"
            ],
            [
             0.7,
             "#b8e186"
            ],
            [
             0.8,
             "#7fbc41"
            ],
            [
             0.9,
             "#4d9221"
            ],
            [
             1,
             "#276419"
            ]
           ],
           "sequential": [
            [
             0,
             "#0d0887"
            ],
            [
             0.1111111111111111,
             "#46039f"
            ],
            [
             0.2222222222222222,
             "#7201a8"
            ],
            [
             0.3333333333333333,
             "#9c179e"
            ],
            [
             0.4444444444444444,
             "#bd3786"
            ],
            [
             0.5555555555555556,
             "#d8576b"
            ],
            [
             0.6666666666666666,
             "#ed7953"
            ],
            [
             0.7777777777777778,
             "#fb9f3a"
            ],
            [
             0.8888888888888888,
             "#fdca26"
            ],
            [
             1,
             "#f0f921"
            ]
           ],
           "sequentialminus": [
            [
             0,
             "#0d0887"
            ],
            [
             0.1111111111111111,
             "#46039f"
            ],
            [
             0.2222222222222222,
             "#7201a8"
            ],
            [
             0.3333333333333333,
             "#9c179e"
            ],
            [
             0.4444444444444444,
             "#bd3786"
            ],
            [
             0.5555555555555556,
             "#d8576b"
            ],
            [
             0.6666666666666666,
             "#ed7953"
            ],
            [
             0.7777777777777778,
             "#fb9f3a"
            ],
            [
             0.8888888888888888,
             "#fdca26"
            ],
            [
             1,
             "#f0f921"
            ]
           ]
          },
          "colorway": [
           "#636efa",
           "#EF553B",
           "#00cc96",
           "#ab63fa",
           "#FFA15A",
           "#19d3f3",
           "#FF6692",
           "#B6E880",
           "#FF97FF",
           "#FECB52"
          ],
          "font": {
           "color": "#f2f5fa"
          },
          "geo": {
           "bgcolor": "rgb(17,17,17)",
           "lakecolor": "rgb(17,17,17)",
           "landcolor": "rgb(17,17,17)",
           "showlakes": true,
           "showland": true,
           "subunitcolor": "#506784"
          },
          "hoverlabel": {
           "align": "left"
          },
          "hovermode": "closest",
          "mapbox": {
           "style": "dark"
          },
          "paper_bgcolor": "rgb(17,17,17)",
          "plot_bgcolor": "rgb(17,17,17)",
          "polar": {
           "angularaxis": {
            "gridcolor": "#506784",
            "linecolor": "#506784",
            "ticks": ""
           },
           "bgcolor": "rgb(17,17,17)",
           "radialaxis": {
            "gridcolor": "#506784",
            "linecolor": "#506784",
            "ticks": ""
           }
          },
          "scene": {
           "xaxis": {
            "backgroundcolor": "rgb(17,17,17)",
            "gridcolor": "#506784",
            "gridwidth": 2,
            "linecolor": "#506784",
            "showbackground": true,
            "ticks": "",
            "zerolinecolor": "#C8D4E3"
           },
           "yaxis": {
            "backgroundcolor": "rgb(17,17,17)",
            "gridcolor": "#506784",
            "gridwidth": 2,
            "linecolor": "#506784",
            "showbackground": true,
            "ticks": "",
            "zerolinecolor": "#C8D4E3"
           },
           "zaxis": {
            "backgroundcolor": "rgb(17,17,17)",
            "gridcolor": "#506784",
            "gridwidth": 2,
            "linecolor": "#506784",
            "showbackground": true,
            "ticks": "",
            "zerolinecolor": "#C8D4E3"
           }
          },
          "shapedefaults": {
           "line": {
            "color": "#f2f5fa"
           }
          },
          "sliderdefaults": {
           "bgcolor": "#C8D4E3",
           "bordercolor": "rgb(17,17,17)",
           "borderwidth": 1,
           "tickwidth": 0
          },
          "ternary": {
           "aaxis": {
            "gridcolor": "#506784",
            "linecolor": "#506784",
            "ticks": ""
           },
           "baxis": {
            "gridcolor": "#506784",
            "linecolor": "#506784",
            "ticks": ""
           },
           "bgcolor": "rgb(17,17,17)",
           "caxis": {
            "gridcolor": "#506784",
            "linecolor": "#506784",
            "ticks": ""
           }
          },
          "title": {
           "x": 0.05
          },
          "updatemenudefaults": {
           "bgcolor": "#506784",
           "borderwidth": 0
          },
          "xaxis": {
           "automargin": true,
           "gridcolor": "#283442",
           "linecolor": "#506784",
           "ticks": "",
           "title": {
            "standoff": 15
           },
           "zerolinecolor": "#283442",
           "zerolinewidth": 2
          },
          "yaxis": {
           "automargin": true,
           "gridcolor": "#283442",
           "linecolor": "#506784",
           "ticks": "",
           "title": {
            "standoff": 15
           },
           "zerolinecolor": "#283442",
           "zerolinewidth": 2
          }
         }
        },
        "title": {
         "text": "Popularity vs Chart Power - Weltweit"
        },
        "xaxis": {
         "anchor": "y",
         "domain": [
          0,
          1
         ],
         "title": {
          "text": "Popularity"
         }
        },
        "yaxis": {
         "anchor": "x",
         "categoryarray": [
          "0 - 10",
          "11 - 20",
          "21 - 30",
          "31 - 40",
          "41 - 50",
          "51 - 60",
          "61 - 70",
          "71 - 80",
          "81 - 90",
          "91 - 100"
         ],
         "categoryorder": "array",
         "domain": [
          0,
          1
         ],
         "title": {
          "text": "Chart Power"
         }
        }
       }
      }
     },
     "metadata": {},
     "output_type": "display_data"
    }
   ],
   "source": [
    "create_heatmap(df_found_copy, \"Popularity vs Chart Power - Weltweit\")"
   ]
  },
  {
   "cell_type": "code",
   "execution_count": 180,
   "metadata": {},
   "outputs": [
    {
     "data": {
      "application/vnd.plotly.v1+json": {
       "config": {
        "plotlyServerURL": "https://plot.ly"
       },
       "data": [
        {
         "hovertemplate": "popularity_percentile=%{x}<br>chart_power_percentile=%{y}<br>count=%{marker.size}<extra></extra>",
         "legendgroup": "",
         "marker": {
          "color": "#636efa",
          "size": [
           8,
           9,
           6,
           6,
           4,
           5,
           3,
           5,
           3,
           2,
           9,
           8,
           6,
           6,
           4,
           5,
           5,
           3,
           4,
           5,
           7,
           6,
           5,
           6,
           3,
           9,
           3,
           2,
           3,
           3,
           8,
           5,
           10,
           3,
           9,
           2,
           5,
           8,
           3,
           5,
           4,
           2,
           7,
           2,
           4,
           7,
           4,
           5,
           5,
           0,
           3,
           7,
           5,
           4,
           15,
           4,
           7,
           5,
           4,
           3,
           7,
           7,
           5,
           10,
           4,
           5,
           6,
           4,
           0,
           2,
           1,
           1,
           3,
           4,
           2,
           5,
           9,
           6,
           12,
           5,
           6,
           3,
           2,
           7,
           3,
           6,
           3,
           4,
           10,
           10,
           1,
           3,
           2,
           2,
           3,
           2,
           5,
           8,
           7,
           11
          ],
          "sizemode": "area",
          "sizeref": 0.0375,
          "symbol": "circle"
         },
         "mode": "markers",
         "name": "",
         "orientation": "v",
         "showlegend": false,
         "type": "scatter",
         "x": [
          "0 - 10",
          "0 - 10",
          "0 - 10",
          "0 - 10",
          "0 - 10",
          "0 - 10",
          "0 - 10",
          "0 - 10",
          "0 - 10",
          "0 - 10",
          "11 - 20",
          "11 - 20",
          "11 - 20",
          "11 - 20",
          "11 - 20",
          "11 - 20",
          "11 - 20",
          "11 - 20",
          "11 - 20",
          "11 - 20",
          "21 - 30",
          "21 - 30",
          "21 - 30",
          "21 - 30",
          "21 - 30",
          "21 - 30",
          "21 - 30",
          "21 - 30",
          "21 - 30",
          "21 - 30",
          "31 - 40",
          "31 - 40",
          "31 - 40",
          "31 - 40",
          "31 - 40",
          "31 - 40",
          "31 - 40",
          "31 - 40",
          "31 - 40",
          "31 - 40",
          "41 - 50",
          "41 - 50",
          "41 - 50",
          "41 - 50",
          "41 - 50",
          "41 - 50",
          "41 - 50",
          "41 - 50",
          "41 - 50",
          "41 - 50",
          "51 - 60",
          "51 - 60",
          "51 - 60",
          "51 - 60",
          "51 - 60",
          "51 - 60",
          "51 - 60",
          "51 - 60",
          "51 - 60",
          "51 - 60",
          "61 - 70",
          "61 - 70",
          "61 - 70",
          "61 - 70",
          "61 - 70",
          "61 - 70",
          "61 - 70",
          "61 - 70",
          "61 - 70",
          "61 - 70",
          "71 - 80",
          "71 - 80",
          "71 - 80",
          "71 - 80",
          "71 - 80",
          "71 - 80",
          "71 - 80",
          "71 - 80",
          "71 - 80",
          "71 - 80",
          "81 - 90",
          "81 - 90",
          "81 - 90",
          "81 - 90",
          "81 - 90",
          "81 - 90",
          "81 - 90",
          "81 - 90",
          "81 - 90",
          "81 - 90",
          "91 - 100",
          "91 - 100",
          "91 - 100",
          "91 - 100",
          "91 - 100",
          "91 - 100",
          "91 - 100",
          "91 - 100",
          "91 - 100",
          "91 - 100"
         ],
         "xaxis": "x",
         "y": [
          "0 - 10",
          "11 - 20",
          "21 - 30",
          "31 - 40",
          "41 - 50",
          "51 - 60",
          "61 - 70",
          "71 - 80",
          "81 - 90",
          "91 - 100",
          "0 - 10",
          "11 - 20",
          "21 - 30",
          "31 - 40",
          "41 - 50",
          "51 - 60",
          "61 - 70",
          "71 - 80",
          "81 - 90",
          "91 - 100",
          "0 - 10",
          "11 - 20",
          "21 - 30",
          "31 - 40",
          "41 - 50",
          "51 - 60",
          "61 - 70",
          "71 - 80",
          "81 - 90",
          "91 - 100",
          "0 - 10",
          "11 - 20",
          "21 - 30",
          "31 - 40",
          "41 - 50",
          "51 - 60",
          "61 - 70",
          "71 - 80",
          "81 - 90",
          "91 - 100",
          "0 - 10",
          "11 - 20",
          "21 - 30",
          "31 - 40",
          "41 - 50",
          "51 - 60",
          "61 - 70",
          "71 - 80",
          "81 - 90",
          "91 - 100",
          "0 - 10",
          "11 - 20",
          "21 - 30",
          "31 - 40",
          "41 - 50",
          "51 - 60",
          "61 - 70",
          "71 - 80",
          "81 - 90",
          "91 - 100",
          "0 - 10",
          "11 - 20",
          "21 - 30",
          "31 - 40",
          "41 - 50",
          "51 - 60",
          "61 - 70",
          "71 - 80",
          "81 - 90",
          "91 - 100",
          "0 - 10",
          "11 - 20",
          "21 - 30",
          "31 - 40",
          "41 - 50",
          "51 - 60",
          "61 - 70",
          "71 - 80",
          "81 - 90",
          "91 - 100",
          "0 - 10",
          "11 - 20",
          "21 - 30",
          "31 - 40",
          "41 - 50",
          "51 - 60",
          "61 - 70",
          "71 - 80",
          "81 - 90",
          "91 - 100",
          "0 - 10",
          "11 - 20",
          "21 - 30",
          "31 - 40",
          "41 - 50",
          "51 - 60",
          "61 - 70",
          "71 - 80",
          "81 - 90",
          "91 - 100"
         ],
         "yaxis": "y"
        }
       ],
       "layout": {
        "legend": {
         "itemsizing": "constant",
         "tracegroupgap": 0
        },
        "margin": {
         "t": 60
        },
        "template": {
         "data": {
          "bar": [
           {
            "error_x": {
             "color": "#f2f5fa"
            },
            "error_y": {
             "color": "#f2f5fa"
            },
            "marker": {
             "line": {
              "color": "rgb(17,17,17)",
              "width": 0.5
             },
             "pattern": {
              "fillmode": "overlay",
              "size": 10,
              "solidity": 0.2
             }
            },
            "type": "bar"
           }
          ],
          "barpolar": [
           {
            "marker": {
             "line": {
              "color": "rgb(17,17,17)",
              "width": 0.5
             },
             "pattern": {
              "fillmode": "overlay",
              "size": 10,
              "solidity": 0.2
             }
            },
            "type": "barpolar"
           }
          ],
          "carpet": [
           {
            "aaxis": {
             "endlinecolor": "#A2B1C6",
             "gridcolor": "#506784",
             "linecolor": "#506784",
             "minorgridcolor": "#506784",
             "startlinecolor": "#A2B1C6"
            },
            "baxis": {
             "endlinecolor": "#A2B1C6",
             "gridcolor": "#506784",
             "linecolor": "#506784",
             "minorgridcolor": "#506784",
             "startlinecolor": "#A2B1C6"
            },
            "type": "carpet"
           }
          ],
          "choropleth": [
           {
            "colorbar": {
             "outlinewidth": 0,
             "ticks": ""
            },
            "type": "choropleth"
           }
          ],
          "contour": [
           {
            "colorbar": {
             "outlinewidth": 0,
             "ticks": ""
            },
            "colorscale": [
             [
              0,
              "#0d0887"
             ],
             [
              0.1111111111111111,
              "#46039f"
             ],
             [
              0.2222222222222222,
              "#7201a8"
             ],
             [
              0.3333333333333333,
              "#9c179e"
             ],
             [
              0.4444444444444444,
              "#bd3786"
             ],
             [
              0.5555555555555556,
              "#d8576b"
             ],
             [
              0.6666666666666666,
              "#ed7953"
             ],
             [
              0.7777777777777778,
              "#fb9f3a"
             ],
             [
              0.8888888888888888,
              "#fdca26"
             ],
             [
              1,
              "#f0f921"
             ]
            ],
            "type": "contour"
           }
          ],
          "contourcarpet": [
           {
            "colorbar": {
             "outlinewidth": 0,
             "ticks": ""
            },
            "type": "contourcarpet"
           }
          ],
          "heatmap": [
           {
            "colorbar": {
             "outlinewidth": 0,
             "ticks": ""
            },
            "colorscale": [
             [
              0,
              "#0d0887"
             ],
             [
              0.1111111111111111,
              "#46039f"
             ],
             [
              0.2222222222222222,
              "#7201a8"
             ],
             [
              0.3333333333333333,
              "#9c179e"
             ],
             [
              0.4444444444444444,
              "#bd3786"
             ],
             [
              0.5555555555555556,
              "#d8576b"
             ],
             [
              0.6666666666666666,
              "#ed7953"
             ],
             [
              0.7777777777777778,
              "#fb9f3a"
             ],
             [
              0.8888888888888888,
              "#fdca26"
             ],
             [
              1,
              "#f0f921"
             ]
            ],
            "type": "heatmap"
           }
          ],
          "heatmapgl": [
           {
            "colorbar": {
             "outlinewidth": 0,
             "ticks": ""
            },
            "colorscale": [
             [
              0,
              "#0d0887"
             ],
             [
              0.1111111111111111,
              "#46039f"
             ],
             [
              0.2222222222222222,
              "#7201a8"
             ],
             [
              0.3333333333333333,
              "#9c179e"
             ],
             [
              0.4444444444444444,
              "#bd3786"
             ],
             [
              0.5555555555555556,
              "#d8576b"
             ],
             [
              0.6666666666666666,
              "#ed7953"
             ],
             [
              0.7777777777777778,
              "#fb9f3a"
             ],
             [
              0.8888888888888888,
              "#fdca26"
             ],
             [
              1,
              "#f0f921"
             ]
            ],
            "type": "heatmapgl"
           }
          ],
          "histogram": [
           {
            "marker": {
             "pattern": {
              "fillmode": "overlay",
              "size": 10,
              "solidity": 0.2
             }
            },
            "type": "histogram"
           }
          ],
          "histogram2d": [
           {
            "colorbar": {
             "outlinewidth": 0,
             "ticks": ""
            },
            "colorscale": [
             [
              0,
              "#0d0887"
             ],
             [
              0.1111111111111111,
              "#46039f"
             ],
             [
              0.2222222222222222,
              "#7201a8"
             ],
             [
              0.3333333333333333,
              "#9c179e"
             ],
             [
              0.4444444444444444,
              "#bd3786"
             ],
             [
              0.5555555555555556,
              "#d8576b"
             ],
             [
              0.6666666666666666,
              "#ed7953"
             ],
             [
              0.7777777777777778,
              "#fb9f3a"
             ],
             [
              0.8888888888888888,
              "#fdca26"
             ],
             [
              1,
              "#f0f921"
             ]
            ],
            "type": "histogram2d"
           }
          ],
          "histogram2dcontour": [
           {
            "colorbar": {
             "outlinewidth": 0,
             "ticks": ""
            },
            "colorscale": [
             [
              0,
              "#0d0887"
             ],
             [
              0.1111111111111111,
              "#46039f"
             ],
             [
              0.2222222222222222,
              "#7201a8"
             ],
             [
              0.3333333333333333,
              "#9c179e"
             ],
             [
              0.4444444444444444,
              "#bd3786"
             ],
             [
              0.5555555555555556,
              "#d8576b"
             ],
             [
              0.6666666666666666,
              "#ed7953"
             ],
             [
              0.7777777777777778,
              "#fb9f3a"
             ],
             [
              0.8888888888888888,
              "#fdca26"
             ],
             [
              1,
              "#f0f921"
             ]
            ],
            "type": "histogram2dcontour"
           }
          ],
          "mesh3d": [
           {
            "colorbar": {
             "outlinewidth": 0,
             "ticks": ""
            },
            "type": "mesh3d"
           }
          ],
          "parcoords": [
           {
            "line": {
             "colorbar": {
              "outlinewidth": 0,
              "ticks": ""
             }
            },
            "type": "parcoords"
           }
          ],
          "pie": [
           {
            "automargin": true,
            "type": "pie"
           }
          ],
          "scatter": [
           {
            "marker": {
             "line": {
              "color": "#283442"
             }
            },
            "type": "scatter"
           }
          ],
          "scatter3d": [
           {
            "line": {
             "colorbar": {
              "outlinewidth": 0,
              "ticks": ""
             }
            },
            "marker": {
             "colorbar": {
              "outlinewidth": 0,
              "ticks": ""
             }
            },
            "type": "scatter3d"
           }
          ],
          "scattercarpet": [
           {
            "marker": {
             "colorbar": {
              "outlinewidth": 0,
              "ticks": ""
             }
            },
            "type": "scattercarpet"
           }
          ],
          "scattergeo": [
           {
            "marker": {
             "colorbar": {
              "outlinewidth": 0,
              "ticks": ""
             }
            },
            "type": "scattergeo"
           }
          ],
          "scattergl": [
           {
            "marker": {
             "line": {
              "color": "#283442"
             }
            },
            "type": "scattergl"
           }
          ],
          "scattermapbox": [
           {
            "marker": {
             "colorbar": {
              "outlinewidth": 0,
              "ticks": ""
             }
            },
            "type": "scattermapbox"
           }
          ],
          "scatterpolar": [
           {
            "marker": {
             "colorbar": {
              "outlinewidth": 0,
              "ticks": ""
             }
            },
            "type": "scatterpolar"
           }
          ],
          "scatterpolargl": [
           {
            "marker": {
             "colorbar": {
              "outlinewidth": 0,
              "ticks": ""
             }
            },
            "type": "scatterpolargl"
           }
          ],
          "scatterternary": [
           {
            "marker": {
             "colorbar": {
              "outlinewidth": 0,
              "ticks": ""
             }
            },
            "type": "scatterternary"
           }
          ],
          "surface": [
           {
            "colorbar": {
             "outlinewidth": 0,
             "ticks": ""
            },
            "colorscale": [
             [
              0,
              "#0d0887"
             ],
             [
              0.1111111111111111,
              "#46039f"
             ],
             [
              0.2222222222222222,
              "#7201a8"
             ],
             [
              0.3333333333333333,
              "#9c179e"
             ],
             [
              0.4444444444444444,
              "#bd3786"
             ],
             [
              0.5555555555555556,
              "#d8576b"
             ],
             [
              0.6666666666666666,
              "#ed7953"
             ],
             [
              0.7777777777777778,
              "#fb9f3a"
             ],
             [
              0.8888888888888888,
              "#fdca26"
             ],
             [
              1,
              "#f0f921"
             ]
            ],
            "type": "surface"
           }
          ],
          "table": [
           {
            "cells": {
             "fill": {
              "color": "#506784"
             },
             "line": {
              "color": "rgb(17,17,17)"
             }
            },
            "header": {
             "fill": {
              "color": "#2a3f5f"
             },
             "line": {
              "color": "rgb(17,17,17)"
             }
            },
            "type": "table"
           }
          ]
         },
         "layout": {
          "annotationdefaults": {
           "arrowcolor": "#f2f5fa",
           "arrowhead": 0,
           "arrowwidth": 1
          },
          "autotypenumbers": "strict",
          "coloraxis": {
           "colorbar": {
            "outlinewidth": 0,
            "ticks": ""
           }
          },
          "colorscale": {
           "diverging": [
            [
             0,
             "#8e0152"
            ],
            [
             0.1,
             "#c51b7d"
            ],
            [
             0.2,
             "#de77ae"
            ],
            [
             0.3,
             "#f1b6da"
            ],
            [
             0.4,
             "#fde0ef"
            ],
            [
             0.5,
             "#f7f7f7"
            ],
            [
             0.6,
             "#e6f5d0"
            ],
            [
             0.7,
             "#b8e186"
            ],
            [
             0.8,
             "#7fbc41"
            ],
            [
             0.9,
             "#4d9221"
            ],
            [
             1,
             "#276419"
            ]
           ],
           "sequential": [
            [
             0,
             "#0d0887"
            ],
            [
             0.1111111111111111,
             "#46039f"
            ],
            [
             0.2222222222222222,
             "#7201a8"
            ],
            [
             0.3333333333333333,
             "#9c179e"
            ],
            [
             0.4444444444444444,
             "#bd3786"
            ],
            [
             0.5555555555555556,
             "#d8576b"
            ],
            [
             0.6666666666666666,
             "#ed7953"
            ],
            [
             0.7777777777777778,
             "#fb9f3a"
            ],
            [
             0.8888888888888888,
             "#fdca26"
            ],
            [
             1,
             "#f0f921"
            ]
           ],
           "sequentialminus": [
            [
             0,
             "#0d0887"
            ],
            [
             0.1111111111111111,
             "#46039f"
            ],
            [
             0.2222222222222222,
             "#7201a8"
            ],
            [
             0.3333333333333333,
             "#9c179e"
            ],
            [
             0.4444444444444444,
             "#bd3786"
            ],
            [
             0.5555555555555556,
             "#d8576b"
            ],
            [
             0.6666666666666666,
             "#ed7953"
            ],
            [
             0.7777777777777778,
             "#fb9f3a"
            ],
            [
             0.8888888888888888,
             "#fdca26"
            ],
            [
             1,
             "#f0f921"
            ]
           ]
          },
          "colorway": [
           "#636efa",
           "#EF553B",
           "#00cc96",
           "#ab63fa",
           "#FFA15A",
           "#19d3f3",
           "#FF6692",
           "#B6E880",
           "#FF97FF",
           "#FECB52"
          ],
          "font": {
           "color": "#f2f5fa"
          },
          "geo": {
           "bgcolor": "rgb(17,17,17)",
           "lakecolor": "rgb(17,17,17)",
           "landcolor": "rgb(17,17,17)",
           "showlakes": true,
           "showland": true,
           "subunitcolor": "#506784"
          },
          "hoverlabel": {
           "align": "left"
          },
          "hovermode": "closest",
          "mapbox": {
           "style": "dark"
          },
          "paper_bgcolor": "rgb(17,17,17)",
          "plot_bgcolor": "rgb(17,17,17)",
          "polar": {
           "angularaxis": {
            "gridcolor": "#506784",
            "linecolor": "#506784",
            "ticks": ""
           },
           "bgcolor": "rgb(17,17,17)",
           "radialaxis": {
            "gridcolor": "#506784",
            "linecolor": "#506784",
            "ticks": ""
           }
          },
          "scene": {
           "xaxis": {
            "backgroundcolor": "rgb(17,17,17)",
            "gridcolor": "#506784",
            "gridwidth": 2,
            "linecolor": "#506784",
            "showbackground": true,
            "ticks": "",
            "zerolinecolor": "#C8D4E3"
           },
           "yaxis": {
            "backgroundcolor": "rgb(17,17,17)",
            "gridcolor": "#506784",
            "gridwidth": 2,
            "linecolor": "#506784",
            "showbackground": true,
            "ticks": "",
            "zerolinecolor": "#C8D4E3"
           },
           "zaxis": {
            "backgroundcolor": "rgb(17,17,17)",
            "gridcolor": "#506784",
            "gridwidth": 2,
            "linecolor": "#506784",
            "showbackground": true,
            "ticks": "",
            "zerolinecolor": "#C8D4E3"
           }
          },
          "shapedefaults": {
           "line": {
            "color": "#f2f5fa"
           }
          },
          "sliderdefaults": {
           "bgcolor": "#C8D4E3",
           "bordercolor": "rgb(17,17,17)",
           "borderwidth": 1,
           "tickwidth": 0
          },
          "ternary": {
           "aaxis": {
            "gridcolor": "#506784",
            "linecolor": "#506784",
            "ticks": ""
           },
           "baxis": {
            "gridcolor": "#506784",
            "linecolor": "#506784",
            "ticks": ""
           },
           "bgcolor": "rgb(17,17,17)",
           "caxis": {
            "gridcolor": "#506784",
            "linecolor": "#506784",
            "ticks": ""
           }
          },
          "title": {
           "x": 0.05
          },
          "updatemenudefaults": {
           "bgcolor": "#506784",
           "borderwidth": 0
          },
          "xaxis": {
           "automargin": true,
           "gridcolor": "#283442",
           "linecolor": "#506784",
           "ticks": "",
           "title": {
            "standoff": 15
           },
           "zerolinecolor": "#283442",
           "zerolinewidth": 2
          },
          "yaxis": {
           "automargin": true,
           "gridcolor": "#283442",
           "linecolor": "#506784",
           "ticks": "",
           "title": {
            "standoff": 15
           },
           "zerolinecolor": "#283442",
           "zerolinewidth": 2
          }
         }
        },
        "title": {
         "text": "Popularity vs Chart Power - DE"
        },
        "xaxis": {
         "anchor": "y",
         "domain": [
          0,
          1
         ],
         "title": {
          "text": "Popularity"
         }
        },
        "yaxis": {
         "anchor": "x",
         "categoryarray": [
          "0 - 10",
          "11 - 20",
          "21 - 30",
          "31 - 40",
          "41 - 50",
          "51 - 60",
          "61 - 70",
          "71 - 80",
          "81 - 90",
          "91 - 100"
         ],
         "categoryorder": "array",
         "domain": [
          0,
          1
         ],
         "title": {
          "text": "Chart Power"
         }
        }
       }
      }
     },
     "metadata": {},
     "output_type": "display_data"
    }
   ],
   "source": [
    "create_binned_scatter(df_comparison, \"Popularity vs Chart Power - DE\")"
   ]
  },
  {
   "cell_type": "code",
   "execution_count": 181,
   "metadata": {},
   "outputs": [
    {
     "data": {
      "application/vnd.plotly.v1+json": {
       "config": {
        "plotlyServerURL": "https://plot.ly"
       },
       "data": [
        {
         "hovertemplate": "popularity_percentile=%{x}<br>chart_power_percentile=%{y}<br>count=%{marker.size}<extra></extra>",
         "legendgroup": "",
         "marker": {
          "color": "#636efa",
          "size": [
           30,
           30,
           23,
           20,
           14,
           14,
           12,
           13,
           13,
           15,
           29,
           25,
           23,
           28,
           17,
           22,
           9,
           17,
           8,
           7,
           28,
           22,
           20,
           17,
           16,
           18,
           16,
           15,
           15,
           10,
           24,
           16,
           27,
           16,
           27,
           11,
           17,
           18,
           13,
           6,
           22,
           17,
           17,
           25,
           13,
           13,
           12,
           19,
           8,
           8,
           12,
           19,
           11,
           24,
           17,
           21,
           26,
           17,
           25,
           21,
           8,
           14,
           19,
           13,
           17,
           23,
           15,
           9,
           16,
           14,
           16,
           16,
           15,
           10,
           18,
           23,
           20,
           24,
           19,
           29,
           15,
           7,
           9,
           10,
           23,
           15,
           29,
           17,
           27,
           21,
           4,
           9,
           9,
           10,
           9,
           14,
           17,
           24,
           29,
           25
          ],
          "sizemode": "area",
          "sizeref": 0.075,
          "symbol": "circle"
         },
         "mode": "markers",
         "name": "",
         "orientation": "v",
         "showlegend": false,
         "type": "scatter",
         "x": [
          "0 - 10",
          "0 - 10",
          "0 - 10",
          "0 - 10",
          "0 - 10",
          "0 - 10",
          "0 - 10",
          "0 - 10",
          "0 - 10",
          "0 - 10",
          "11 - 20",
          "11 - 20",
          "11 - 20",
          "11 - 20",
          "11 - 20",
          "11 - 20",
          "11 - 20",
          "11 - 20",
          "11 - 20",
          "11 - 20",
          "21 - 30",
          "21 - 30",
          "21 - 30",
          "21 - 30",
          "21 - 30",
          "21 - 30",
          "21 - 30",
          "21 - 30",
          "21 - 30",
          "21 - 30",
          "31 - 40",
          "31 - 40",
          "31 - 40",
          "31 - 40",
          "31 - 40",
          "31 - 40",
          "31 - 40",
          "31 - 40",
          "31 - 40",
          "31 - 40",
          "41 - 50",
          "41 - 50",
          "41 - 50",
          "41 - 50",
          "41 - 50",
          "41 - 50",
          "41 - 50",
          "41 - 50",
          "41 - 50",
          "41 - 50",
          "51 - 60",
          "51 - 60",
          "51 - 60",
          "51 - 60",
          "51 - 60",
          "51 - 60",
          "51 - 60",
          "51 - 60",
          "51 - 60",
          "51 - 60",
          "61 - 70",
          "61 - 70",
          "61 - 70",
          "61 - 70",
          "61 - 70",
          "61 - 70",
          "61 - 70",
          "61 - 70",
          "61 - 70",
          "61 - 70",
          "71 - 80",
          "71 - 80",
          "71 - 80",
          "71 - 80",
          "71 - 80",
          "71 - 80",
          "71 - 80",
          "71 - 80",
          "71 - 80",
          "71 - 80",
          "81 - 90",
          "81 - 90",
          "81 - 90",
          "81 - 90",
          "81 - 90",
          "81 - 90",
          "81 - 90",
          "81 - 90",
          "81 - 90",
          "81 - 90",
          "91 - 100",
          "91 - 100",
          "91 - 100",
          "91 - 100",
          "91 - 100",
          "91 - 100",
          "91 - 100",
          "91 - 100",
          "91 - 100",
          "91 - 100"
         ],
         "xaxis": "x",
         "y": [
          "0 - 10",
          "11 - 20",
          "21 - 30",
          "31 - 40",
          "41 - 50",
          "51 - 60",
          "61 - 70",
          "71 - 80",
          "81 - 90",
          "91 - 100",
          "0 - 10",
          "11 - 20",
          "21 - 30",
          "31 - 40",
          "41 - 50",
          "51 - 60",
          "61 - 70",
          "71 - 80",
          "81 - 90",
          "91 - 100",
          "0 - 10",
          "11 - 20",
          "21 - 30",
          "31 - 40",
          "41 - 50",
          "51 - 60",
          "61 - 70",
          "71 - 80",
          "81 - 90",
          "91 - 100",
          "0 - 10",
          "11 - 20",
          "21 - 30",
          "31 - 40",
          "41 - 50",
          "51 - 60",
          "61 - 70",
          "71 - 80",
          "81 - 90",
          "91 - 100",
          "0 - 10",
          "11 - 20",
          "21 - 30",
          "31 - 40",
          "41 - 50",
          "51 - 60",
          "61 - 70",
          "71 - 80",
          "81 - 90",
          "91 - 100",
          "0 - 10",
          "11 - 20",
          "21 - 30",
          "31 - 40",
          "41 - 50",
          "51 - 60",
          "61 - 70",
          "71 - 80",
          "81 - 90",
          "91 - 100",
          "0 - 10",
          "11 - 20",
          "21 - 30",
          "31 - 40",
          "41 - 50",
          "51 - 60",
          "61 - 70",
          "71 - 80",
          "81 - 90",
          "91 - 100",
          "0 - 10",
          "11 - 20",
          "21 - 30",
          "31 - 40",
          "41 - 50",
          "51 - 60",
          "61 - 70",
          "71 - 80",
          "81 - 90",
          "91 - 100",
          "0 - 10",
          "11 - 20",
          "21 - 30",
          "31 - 40",
          "41 - 50",
          "51 - 60",
          "61 - 70",
          "71 - 80",
          "81 - 90",
          "91 - 100",
          "0 - 10",
          "11 - 20",
          "21 - 30",
          "31 - 40",
          "41 - 50",
          "51 - 60",
          "61 - 70",
          "71 - 80",
          "81 - 90",
          "91 - 100"
         ],
         "yaxis": "y"
        }
       ],
       "layout": {
        "legend": {
         "itemsizing": "constant",
         "tracegroupgap": 0
        },
        "margin": {
         "t": 60
        },
        "template": {
         "data": {
          "bar": [
           {
            "error_x": {
             "color": "#f2f5fa"
            },
            "error_y": {
             "color": "#f2f5fa"
            },
            "marker": {
             "line": {
              "color": "rgb(17,17,17)",
              "width": 0.5
             },
             "pattern": {
              "fillmode": "overlay",
              "size": 10,
              "solidity": 0.2
             }
            },
            "type": "bar"
           }
          ],
          "barpolar": [
           {
            "marker": {
             "line": {
              "color": "rgb(17,17,17)",
              "width": 0.5
             },
             "pattern": {
              "fillmode": "overlay",
              "size": 10,
              "solidity": 0.2
             }
            },
            "type": "barpolar"
           }
          ],
          "carpet": [
           {
            "aaxis": {
             "endlinecolor": "#A2B1C6",
             "gridcolor": "#506784",
             "linecolor": "#506784",
             "minorgridcolor": "#506784",
             "startlinecolor": "#A2B1C6"
            },
            "baxis": {
             "endlinecolor": "#A2B1C6",
             "gridcolor": "#506784",
             "linecolor": "#506784",
             "minorgridcolor": "#506784",
             "startlinecolor": "#A2B1C6"
            },
            "type": "carpet"
           }
          ],
          "choropleth": [
           {
            "colorbar": {
             "outlinewidth": 0,
             "ticks": ""
            },
            "type": "choropleth"
           }
          ],
          "contour": [
           {
            "colorbar": {
             "outlinewidth": 0,
             "ticks": ""
            },
            "colorscale": [
             [
              0,
              "#0d0887"
             ],
             [
              0.1111111111111111,
              "#46039f"
             ],
             [
              0.2222222222222222,
              "#7201a8"
             ],
             [
              0.3333333333333333,
              "#9c179e"
             ],
             [
              0.4444444444444444,
              "#bd3786"
             ],
             [
              0.5555555555555556,
              "#d8576b"
             ],
             [
              0.6666666666666666,
              "#ed7953"
             ],
             [
              0.7777777777777778,
              "#fb9f3a"
             ],
             [
              0.8888888888888888,
              "#fdca26"
             ],
             [
              1,
              "#f0f921"
             ]
            ],
            "type": "contour"
           }
          ],
          "contourcarpet": [
           {
            "colorbar": {
             "outlinewidth": 0,
             "ticks": ""
            },
            "type": "contourcarpet"
           }
          ],
          "heatmap": [
           {
            "colorbar": {
             "outlinewidth": 0,
             "ticks": ""
            },
            "colorscale": [
             [
              0,
              "#0d0887"
             ],
             [
              0.1111111111111111,
              "#46039f"
             ],
             [
              0.2222222222222222,
              "#7201a8"
             ],
             [
              0.3333333333333333,
              "#9c179e"
             ],
             [
              0.4444444444444444,
              "#bd3786"
             ],
             [
              0.5555555555555556,
              "#d8576b"
             ],
             [
              0.6666666666666666,
              "#ed7953"
             ],
             [
              0.7777777777777778,
              "#fb9f3a"
             ],
             [
              0.8888888888888888,
              "#fdca26"
             ],
             [
              1,
              "#f0f921"
             ]
            ],
            "type": "heatmap"
           }
          ],
          "heatmapgl": [
           {
            "colorbar": {
             "outlinewidth": 0,
             "ticks": ""
            },
            "colorscale": [
             [
              0,
              "#0d0887"
             ],
             [
              0.1111111111111111,
              "#46039f"
             ],
             [
              0.2222222222222222,
              "#7201a8"
             ],
             [
              0.3333333333333333,
              "#9c179e"
             ],
             [
              0.4444444444444444,
              "#bd3786"
             ],
             [
              0.5555555555555556,
              "#d8576b"
             ],
             [
              0.6666666666666666,
              "#ed7953"
             ],
             [
              0.7777777777777778,
              "#fb9f3a"
             ],
             [
              0.8888888888888888,
              "#fdca26"
             ],
             [
              1,
              "#f0f921"
             ]
            ],
            "type": "heatmapgl"
           }
          ],
          "histogram": [
           {
            "marker": {
             "pattern": {
              "fillmode": "overlay",
              "size": 10,
              "solidity": 0.2
             }
            },
            "type": "histogram"
           }
          ],
          "histogram2d": [
           {
            "colorbar": {
             "outlinewidth": 0,
             "ticks": ""
            },
            "colorscale": [
             [
              0,
              "#0d0887"
             ],
             [
              0.1111111111111111,
              "#46039f"
             ],
             [
              0.2222222222222222,
              "#7201a8"
             ],
             [
              0.3333333333333333,
              "#9c179e"
             ],
             [
              0.4444444444444444,
              "#bd3786"
             ],
             [
              0.5555555555555556,
              "#d8576b"
             ],
             [
              0.6666666666666666,
              "#ed7953"
             ],
             [
              0.7777777777777778,
              "#fb9f3a"
             ],
             [
              0.8888888888888888,
              "#fdca26"
             ],
             [
              1,
              "#f0f921"
             ]
            ],
            "type": "histogram2d"
           }
          ],
          "histogram2dcontour": [
           {
            "colorbar": {
             "outlinewidth": 0,
             "ticks": ""
            },
            "colorscale": [
             [
              0,
              "#0d0887"
             ],
             [
              0.1111111111111111,
              "#46039f"
             ],
             [
              0.2222222222222222,
              "#7201a8"
             ],
             [
              0.3333333333333333,
              "#9c179e"
             ],
             [
              0.4444444444444444,
              "#bd3786"
             ],
             [
              0.5555555555555556,
              "#d8576b"
             ],
             [
              0.6666666666666666,
              "#ed7953"
             ],
             [
              0.7777777777777778,
              "#fb9f3a"
             ],
             [
              0.8888888888888888,
              "#fdca26"
             ],
             [
              1,
              "#f0f921"
             ]
            ],
            "type": "histogram2dcontour"
           }
          ],
          "mesh3d": [
           {
            "colorbar": {
             "outlinewidth": 0,
             "ticks": ""
            },
            "type": "mesh3d"
           }
          ],
          "parcoords": [
           {
            "line": {
             "colorbar": {
              "outlinewidth": 0,
              "ticks": ""
             }
            },
            "type": "parcoords"
           }
          ],
          "pie": [
           {
            "automargin": true,
            "type": "pie"
           }
          ],
          "scatter": [
           {
            "marker": {
             "line": {
              "color": "#283442"
             }
            },
            "type": "scatter"
           }
          ],
          "scatter3d": [
           {
            "line": {
             "colorbar": {
              "outlinewidth": 0,
              "ticks": ""
             }
            },
            "marker": {
             "colorbar": {
              "outlinewidth": 0,
              "ticks": ""
             }
            },
            "type": "scatter3d"
           }
          ],
          "scattercarpet": [
           {
            "marker": {
             "colorbar": {
              "outlinewidth": 0,
              "ticks": ""
             }
            },
            "type": "scattercarpet"
           }
          ],
          "scattergeo": [
           {
            "marker": {
             "colorbar": {
              "outlinewidth": 0,
              "ticks": ""
             }
            },
            "type": "scattergeo"
           }
          ],
          "scattergl": [
           {
            "marker": {
             "line": {
              "color": "#283442"
             }
            },
            "type": "scattergl"
           }
          ],
          "scattermapbox": [
           {
            "marker": {
             "colorbar": {
              "outlinewidth": 0,
              "ticks": ""
             }
            },
            "type": "scattermapbox"
           }
          ],
          "scatterpolar": [
           {
            "marker": {
             "colorbar": {
              "outlinewidth": 0,
              "ticks": ""
             }
            },
            "type": "scatterpolar"
           }
          ],
          "scatterpolargl": [
           {
            "marker": {
             "colorbar": {
              "outlinewidth": 0,
              "ticks": ""
             }
            },
            "type": "scatterpolargl"
           }
          ],
          "scatterternary": [
           {
            "marker": {
             "colorbar": {
              "outlinewidth": 0,
              "ticks": ""
             }
            },
            "type": "scatterternary"
           }
          ],
          "surface": [
           {
            "colorbar": {
             "outlinewidth": 0,
             "ticks": ""
            },
            "colorscale": [
             [
              0,
              "#0d0887"
             ],
             [
              0.1111111111111111,
              "#46039f"
             ],
             [
              0.2222222222222222,
              "#7201a8"
             ],
             [
              0.3333333333333333,
              "#9c179e"
             ],
             [
              0.4444444444444444,
              "#bd3786"
             ],
             [
              0.5555555555555556,
              "#d8576b"
             ],
             [
              0.6666666666666666,
              "#ed7953"
             ],
             [
              0.7777777777777778,
              "#fb9f3a"
             ],
             [
              0.8888888888888888,
              "#fdca26"
             ],
             [
              1,
              "#f0f921"
             ]
            ],
            "type": "surface"
           }
          ],
          "table": [
           {
            "cells": {
             "fill": {
              "color": "#506784"
             },
             "line": {
              "color": "rgb(17,17,17)"
             }
            },
            "header": {
             "fill": {
              "color": "#2a3f5f"
             },
             "line": {
              "color": "rgb(17,17,17)"
             }
            },
            "type": "table"
           }
          ]
         },
         "layout": {
          "annotationdefaults": {
           "arrowcolor": "#f2f5fa",
           "arrowhead": 0,
           "arrowwidth": 1
          },
          "autotypenumbers": "strict",
          "coloraxis": {
           "colorbar": {
            "outlinewidth": 0,
            "ticks": ""
           }
          },
          "colorscale": {
           "diverging": [
            [
             0,
             "#8e0152"
            ],
            [
             0.1,
             "#c51b7d"
            ],
            [
             0.2,
             "#de77ae"
            ],
            [
             0.3,
             "#f1b6da"
            ],
            [
             0.4,
             "#fde0ef"
            ],
            [
             0.5,
             "#f7f7f7"
            ],
            [
             0.6,
             "#e6f5d0"
            ],
            [
             0.7,
             "#b8e186"
            ],
            [
             0.8,
             "#7fbc41"
            ],
            [
             0.9,
             "#4d9221"
            ],
            [
             1,
             "#276419"
            ]
           ],
           "sequential": [
            [
             0,
             "#0d0887"
            ],
            [
             0.1111111111111111,
             "#46039f"
            ],
            [
             0.2222222222222222,
             "#7201a8"
            ],
            [
             0.3333333333333333,
             "#9c179e"
            ],
            [
             0.4444444444444444,
             "#bd3786"
            ],
            [
             0.5555555555555556,
             "#d8576b"
            ],
            [
             0.6666666666666666,
             "#ed7953"
            ],
            [
             0.7777777777777778,
             "#fb9f3a"
            ],
            [
             0.8888888888888888,
             "#fdca26"
            ],
            [
             1,
             "#f0f921"
            ]
           ],
           "sequentialminus": [
            [
             0,
             "#0d0887"
            ],
            [
             0.1111111111111111,
             "#46039f"
            ],
            [
             0.2222222222222222,
             "#7201a8"
            ],
            [
             0.3333333333333333,
             "#9c179e"
            ],
            [
             0.4444444444444444,
             "#bd3786"
            ],
            [
             0.5555555555555556,
             "#d8576b"
            ],
            [
             0.6666666666666666,
             "#ed7953"
            ],
            [
             0.7777777777777778,
             "#fb9f3a"
            ],
            [
             0.8888888888888888,
             "#fdca26"
            ],
            [
             1,
             "#f0f921"
            ]
           ]
          },
          "colorway": [
           "#636efa",
           "#EF553B",
           "#00cc96",
           "#ab63fa",
           "#FFA15A",
           "#19d3f3",
           "#FF6692",
           "#B6E880",
           "#FF97FF",
           "#FECB52"
          ],
          "font": {
           "color": "#f2f5fa"
          },
          "geo": {
           "bgcolor": "rgb(17,17,17)",
           "lakecolor": "rgb(17,17,17)",
           "landcolor": "rgb(17,17,17)",
           "showlakes": true,
           "showland": true,
           "subunitcolor": "#506784"
          },
          "hoverlabel": {
           "align": "left"
          },
          "hovermode": "closest",
          "mapbox": {
           "style": "dark"
          },
          "paper_bgcolor": "rgb(17,17,17)",
          "plot_bgcolor": "rgb(17,17,17)",
          "polar": {
           "angularaxis": {
            "gridcolor": "#506784",
            "linecolor": "#506784",
            "ticks": ""
           },
           "bgcolor": "rgb(17,17,17)",
           "radialaxis": {
            "gridcolor": "#506784",
            "linecolor": "#506784",
            "ticks": ""
           }
          },
          "scene": {
           "xaxis": {
            "backgroundcolor": "rgb(17,17,17)",
            "gridcolor": "#506784",
            "gridwidth": 2,
            "linecolor": "#506784",
            "showbackground": true,
            "ticks": "",
            "zerolinecolor": "#C8D4E3"
           },
           "yaxis": {
            "backgroundcolor": "rgb(17,17,17)",
            "gridcolor": "#506784",
            "gridwidth": 2,
            "linecolor": "#506784",
            "showbackground": true,
            "ticks": "",
            "zerolinecolor": "#C8D4E3"
           },
           "zaxis": {
            "backgroundcolor": "rgb(17,17,17)",
            "gridcolor": "#506784",
            "gridwidth": 2,
            "linecolor": "#506784",
            "showbackground": true,
            "ticks": "",
            "zerolinecolor": "#C8D4E3"
           }
          },
          "shapedefaults": {
           "line": {
            "color": "#f2f5fa"
           }
          },
          "sliderdefaults": {
           "bgcolor": "#C8D4E3",
           "bordercolor": "rgb(17,17,17)",
           "borderwidth": 1,
           "tickwidth": 0
          },
          "ternary": {
           "aaxis": {
            "gridcolor": "#506784",
            "linecolor": "#506784",
            "ticks": ""
           },
           "baxis": {
            "gridcolor": "#506784",
            "linecolor": "#506784",
            "ticks": ""
           },
           "bgcolor": "rgb(17,17,17)",
           "caxis": {
            "gridcolor": "#506784",
            "linecolor": "#506784",
            "ticks": ""
           }
          },
          "title": {
           "x": 0.05
          },
          "updatemenudefaults": {
           "bgcolor": "#506784",
           "borderwidth": 0
          },
          "xaxis": {
           "automargin": true,
           "gridcolor": "#283442",
           "linecolor": "#506784",
           "ticks": "",
           "title": {
            "standoff": 15
           },
           "zerolinecolor": "#283442",
           "zerolinewidth": 2
          },
          "yaxis": {
           "automargin": true,
           "gridcolor": "#283442",
           "linecolor": "#506784",
           "ticks": "",
           "title": {
            "standoff": 15
           },
           "zerolinecolor": "#283442",
           "zerolinewidth": 2
          }
         }
        },
        "title": {
         "text": "Popularity vs Chart Power - Weltweit"
        },
        "xaxis": {
         "anchor": "y",
         "domain": [
          0,
          1
         ],
         "title": {
          "text": "Popularity"
         }
        },
        "yaxis": {
         "anchor": "x",
         "categoryarray": [
          "0 - 10",
          "11 - 20",
          "21 - 30",
          "31 - 40",
          "41 - 50",
          "51 - 60",
          "61 - 70",
          "71 - 80",
          "81 - 90",
          "91 - 100"
         ],
         "categoryorder": "array",
         "domain": [
          0,
          1
         ],
         "title": {
          "text": "Chart Power"
         }
        }
       }
      }
     },
     "metadata": {},
     "output_type": "display_data"
    }
   ],
   "source": [
    "create_binned_scatter(df_found_copy, \"Popularity vs Chart Power - Weltweit\")"
   ]
  }
 ],
 "metadata": {
  "kernelspec": {
   "display_name": "application-project",
   "language": "python",
   "name": "application-project"
  },
  "language_info": {
   "codemirror_mode": {
    "name": "ipython",
    "version": 3
   },
   "file_extension": ".py",
   "mimetype": "text/x-python",
   "name": "python",
   "nbconvert_exporter": "python",
   "pygments_lexer": "ipython3",
   "version": "3.10.12"
  },
  "orig_nbformat": 4
 },
 "nbformat": 4,
 "nbformat_minor": 2
}
