{
 "cells": [
  {
   "cell_type": "markdown",
   "metadata": {},
   "source": [
    "## Imports"
   ]
  },
  {
   "cell_type": "code",
   "execution_count": 2,
   "metadata": {},
   "outputs": [],
   "source": [
    "LOCAL = True"
   ]
  },
  {
   "cell_type": "code",
   "execution_count": 3,
   "metadata": {},
   "outputs": [],
   "source": [
    "if LOCAL:\n",
    "  PATH = \"./data\"\n",
    "else:\n",
    "  PATH = \"gdrive/MyDrive/application-project-abgabe\"\n",
    "  from google.colab import drive\n",
    "  drive.mount('/content/gdrive')"
   ]
  },
  {
   "cell_type": "code",
   "execution_count": null,
   "metadata": {},
   "outputs": [
    {
     "name": "stdout",
     "output_type": "stream",
     "text": [
      "Requirement already satisfied: colab-env in /Users/jannisweichler/Documents/Studium/application-project/application-project/lib/python3.10/site-packages (0.2.0)\n",
      "Requirement already satisfied: python-dotenv<1.0,>=0.10.0 in /Users/jannisweichler/Documents/Studium/application-project/application-project/lib/python3.10/site-packages (from colab-env) (0.21.1)\n",
      "\n",
      "\u001b[1m[\u001b[0m\u001b[34;49mnotice\u001b[0m\u001b[1;39;49m]\u001b[0m\u001b[39;49m A new release of pip is available: \u001b[0m\u001b[31;49m23.1.2\u001b[0m\u001b[39;49m -> \u001b[0m\u001b[32;49m23.2.1\u001b[0m\n",
      "\u001b[1m[\u001b[0m\u001b[34;49mnotice\u001b[0m\u001b[1;39;49m]\u001b[0m\u001b[39;49m To update, run: \u001b[0m\u001b[32;49mpip install --upgrade pip\u001b[0m\n"
     ]
    }
   ],
   "source": [
    "!pip install colab-env --upgrade"
   ]
  },
  {
   "cell_type": "code",
   "execution_count": null,
   "metadata": {},
   "outputs": [
    {
     "name": "stdout",
     "output_type": "stream",
     "text": [
      "Requirement already satisfied: spotipy in /Users/jannisweichler/Documents/Studium/application-project/application-project/lib/python3.10/site-packages (2.23.0)\n",
      "Requirement already satisfied: redis>=3.5.3 in /Users/jannisweichler/Documents/Studium/application-project/application-project/lib/python3.10/site-packages (from spotipy) (4.5.1)\n",
      "Requirement already satisfied: requests>=2.25.0 in /Users/jannisweichler/Documents/Studium/application-project/application-project/lib/python3.10/site-packages (from spotipy) (2.28.2)\n",
      "Requirement already satisfied: six>=1.15.0 in /Users/jannisweichler/Documents/Studium/application-project/application-project/lib/python3.10/site-packages (from spotipy) (1.16.0)\n",
      "Requirement already satisfied: urllib3>=1.26.0 in /Users/jannisweichler/Documents/Studium/application-project/application-project/lib/python3.10/site-packages (from spotipy) (1.26.15)\n",
      "Requirement already satisfied: async-timeout>=4.0.2 in /Users/jannisweichler/Documents/Studium/application-project/application-project/lib/python3.10/site-packages (from redis>=3.5.3->spotipy) (4.0.2)\n",
      "Requirement already satisfied: charset-normalizer<4,>=2 in /Users/jannisweichler/Documents/Studium/application-project/application-project/lib/python3.10/site-packages (from requests>=2.25.0->spotipy) (3.1.0)\n",
      "Requirement already satisfied: idna<4,>=2.5 in /Users/jannisweichler/Documents/Studium/application-project/application-project/lib/python3.10/site-packages (from requests>=2.25.0->spotipy) (3.4)\n",
      "Requirement already satisfied: certifi>=2017.4.17 in /Users/jannisweichler/Documents/Studium/application-project/application-project/lib/python3.10/site-packages (from requests>=2.25.0->spotipy) (2022.12.7)\n",
      "\n",
      "\u001b[1m[\u001b[0m\u001b[34;49mnotice\u001b[0m\u001b[1;39;49m]\u001b[0m\u001b[39;49m A new release of pip is available: \u001b[0m\u001b[31;49m23.1.2\u001b[0m\u001b[39;49m -> \u001b[0m\u001b[32;49m23.2.1\u001b[0m\n",
      "\u001b[1m[\u001b[0m\u001b[34;49mnotice\u001b[0m\u001b[1;39;49m]\u001b[0m\u001b[39;49m To update, run: \u001b[0m\u001b[32;49mpip install --upgrade pip\u001b[0m\n"
     ]
    }
   ],
   "source": [
    "!pip install spotipy --upgrade"
   ]
  },
  {
   "cell_type": "code",
   "execution_count": null,
   "metadata": {},
   "outputs": [
    {
     "name": "stdout",
     "output_type": "stream",
     "text": [
      "Requirement already satisfied: ratelimit in /Users/jannisweichler/Documents/Studium/application-project/application-project/lib/python3.10/site-packages (2.2.1)\n",
      "\n",
      "\u001b[1m[\u001b[0m\u001b[34;49mnotice\u001b[0m\u001b[1;39;49m]\u001b[0m\u001b[39;49m A new release of pip is available: \u001b[0m\u001b[31;49m23.1.2\u001b[0m\u001b[39;49m -> \u001b[0m\u001b[32;49m23.2.1\u001b[0m\n",
      "\u001b[1m[\u001b[0m\u001b[34;49mnotice\u001b[0m\u001b[1;39;49m]\u001b[0m\u001b[39;49m To update, run: \u001b[0m\u001b[32;49mpip install --upgrade pip\u001b[0m\n"
     ]
    }
   ],
   "source": [
    "!pip install ratelimit"
   ]
  },
  {
   "cell_type": "code",
   "execution_count": null,
   "metadata": {},
   "outputs": [
    {
     "name": "stdout",
     "output_type": "stream",
     "text": [
      "Requirement already satisfied: levenshtein in /Users/jannisweichler/Documents/Studium/application-project/application-project/lib/python3.10/site-packages (0.21.1)\n",
      "Requirement already satisfied: rapidfuzz<4.0.0,>=2.3.0 in /Users/jannisweichler/Documents/Studium/application-project/application-project/lib/python3.10/site-packages (from levenshtein) (3.3.0)\n",
      "\n",
      "\u001b[1m[\u001b[0m\u001b[34;49mnotice\u001b[0m\u001b[1;39;49m]\u001b[0m\u001b[39;49m A new release of pip is available: \u001b[0m\u001b[31;49m23.1.2\u001b[0m\u001b[39;49m -> \u001b[0m\u001b[32;49m23.2.1\u001b[0m\n",
      "\u001b[1m[\u001b[0m\u001b[34;49mnotice\u001b[0m\u001b[1;39;49m]\u001b[0m\u001b[39;49m To update, run: \u001b[0m\u001b[32;49mpip install --upgrade pip\u001b[0m\n"
     ]
    }
   ],
   "source": [
    "!pip install levenshtein"
   ]
  },
  {
   "cell_type": "code",
   "execution_count": 4,
   "metadata": {},
   "outputs": [],
   "source": [
    "import os\n",
    "import spotipy\n",
    "from spotipy.oauth2 import SpotifyClientCredentials\n",
    "import requests\n",
    "import json\n",
    "from numpy import NaN\n",
    "from ratelimit import limits, sleep_and_retry\n",
    "import Levenshtein\n",
    "import pandas as pd\n",
    "import numpy as np\n",
    "from sklearn.preprocessing import MinMaxScaler\n",
    "from sklearn.metrics.pairwise import cosine_similarity, linear_kernel, polynomial_kernel, sigmoid_kernel, rbf_kernel, laplacian_kernel, chi2_kernel, euclidean_distances, manhattan_distances, cosine_distances\n",
    "import plotly.express as px\n",
    "import plotly.graph_objects as go\n",
    "from tqdm import tqdm\n",
    "import time\n",
    "from ast import literal_eval"
   ]
  },
  {
   "cell_type": "markdown",
   "metadata": {},
   "source": [
    "## Filterung der Datenbank um irrelevante Ergebnisse zu verhindern"
   ]
  },
  {
   "cell_type": "code",
   "execution_count": 70,
   "metadata": {},
   "outputs": [],
   "source": [
    "#by_isrc = pd.read_csv('data/by_isrc.csv')\n",
    "by_isrc = pd.read_csv(f\"{PATH}/by_isrc.csv\")"
   ]
  },
  {
   "cell_type": "code",
   "execution_count": 71,
   "metadata": {},
   "outputs": [],
   "source": [
    "by_isrc[\"country_code\"] = by_isrc[\"isrc\"].apply(lambda x: x[:2])"
   ]
  },
  {
   "cell_type": "code",
   "execution_count": 72,
   "metadata": {},
   "outputs": [
    {
     "data": {
      "text/plain": [
       "array(['AE', 'AR', 'AT', 'AU', 'AZ', 'BA', 'BC', 'BE', 'BG', 'BR', 'BX',\n",
       "       'Br', 'CA', 'CH', 'CI', 'CL', 'CN', 'CO', 'CS', 'CZ', 'DE', 'DG',\n",
       "       'DK', 'EE', 'EG', 'ES', 'FI', 'FR', 'FX', 'GB', 'GN', 'GR', 'GT',\n",
       "       'GX', 'HK', 'HR', 'HU', 'ID', 'IE', 'IL', 'IN', 'IR', 'IS', 'IT',\n",
       "       'JM', 'JP', 'KE', 'KR', 'KS', 'LB', 'LK', 'LT', 'LU', 'LV', 'MD',\n",
       "       'MM', 'MT', 'MU', 'MX', 'MY', 'NG', 'NI', 'NL', 'NO', 'NZ', 'No',\n",
       "       'PE', 'PH', 'PL', 'PT', 'QM', 'QZ', 'RE', 'RO', 'RS', 'RU', 'SE',\n",
       "       'SG', 'SI', 'SK', 'SM', 'SW', 'TC', 'TH', 'TR', 'TW', 'UA', 'UK',\n",
       "       'UR', 'US', 'UY', 'VE', 'VN', 'ZA', 'ZZ', 'ae', 'ca', 'gb', 'il',\n",
       "       'lv', 'nl', 'qz', 'us', 've'], dtype=object)"
      ]
     },
     "execution_count": 72,
     "metadata": {},
     "output_type": "execute_result"
    }
   ],
   "source": [
    "by_isrc[\"country_code\"].unique()"
   ]
  },
  {
   "cell_type": "markdown",
   "metadata": {},
   "source": [
    "Einige Ländercodes sind kleingeschrieben. Diese sollen in Großbuchstaben umgewandelt werden."
   ]
  },
  {
   "cell_type": "code",
   "execution_count": 76,
   "metadata": {},
   "outputs": [],
   "source": [
    "by_isrc[\"country_code\"] = by_isrc[\"country_code\"].str.upper()"
   ]
  },
  {
   "cell_type": "code",
   "execution_count": 77,
   "metadata": {},
   "outputs": [
    {
     "data": {
      "text/plain": [
       "array(['AE', 'AR', 'AT', 'AU', 'AZ', 'BA', 'BC', 'BE', 'BG', 'BR', 'BX',\n",
       "       'CA', 'CH', 'CI', 'CL', 'CN', 'CO', 'CS', 'CZ', 'DE', 'DG', 'DK',\n",
       "       'EE', 'EG', 'ES', 'FI', 'FR', 'FX', 'GB', 'GN', 'GR', 'GT', 'GX',\n",
       "       'HK', 'HR', 'HU', 'ID', 'IE', 'IL', 'IN', 'IR', 'IS', 'IT', 'JM',\n",
       "       'JP', 'KE', 'KR', 'KS', 'LB', 'LK', 'LT', 'LU', 'LV', 'MD', 'MM',\n",
       "       'MT', 'MU', 'MX', 'MY', 'NG', 'NI', 'NL', 'NO', 'NZ', 'PE', 'PH',\n",
       "       'PL', 'PT', 'QM', 'QZ', 'RE', 'RO', 'RS', 'RU', 'SE', 'SG', 'SI',\n",
       "       'SK', 'SM', 'SW', 'TC', 'TH', 'TR', 'TW', 'UA', 'UK', 'UR', 'US',\n",
       "       'UY', 'VE', 'VN', 'ZA', 'ZZ'], dtype=object)"
      ]
     },
     "execution_count": 77,
     "metadata": {},
     "output_type": "execute_result"
    }
   ],
   "source": [
    "by_isrc[\"country_code\"].unique()"
   ]
  },
  {
   "cell_type": "markdown",
   "metadata": {},
   "source": [
    "Gruppierung der Songs nach den Ländercodes."
   ]
  },
  {
   "cell_type": "code",
   "execution_count": 78,
   "metadata": {},
   "outputs": [],
   "source": [
    "countries = {\n",
    "    'AE': 'United Arab Emirates',\n",
    "    'AR': 'Argentina',\n",
    "    'AT': 'Austria',\n",
    "    'AU': 'Australia',\n",
    "    'AZ': 'Azerbaijan',\n",
    "    'BA': 'Bosnia and Herzegovina',\n",
    "    'BC': 'Canada (British Columbia)',\n",
    "    'BE': 'Belgium',\n",
    "    'BG': 'Bulgaria',\n",
    "    'BR': 'Brazil',\n",
    "    'BX': 'Benelux',\n",
    "    'CA': 'Canada',\n",
    "    'CH': 'Switzerland',\n",
    "    'CI': 'Ivory Coast (Côte d\\'Ivoire)',\n",
    "    'CL': 'Chile',\n",
    "    'CN': 'China',\n",
    "    'CO': 'Colombia',\n",
    "    'CS': 'Serbia and Montenegro',\n",
    "    'CZ': 'Czech Republic',\n",
    "    'DE': 'Germany',\n",
    "    'DG': 'Germany (East)',\n",
    "    'DK': 'Denmark',\n",
    "    'EE': 'Estonia',\n",
    "    'EG': 'Egypt',\n",
    "    'ES': 'Spain',\n",
    "    'FI': 'Finland',\n",
    "    'FR': 'France',\n",
    "    'FX': 'France (Metropolitan)',\n",
    "    'GB': 'United Kingdom',\n",
    "    'GN': 'Guinea',\n",
    "    'GR': 'Greece',\n",
    "    'GT': 'Guatemala',\n",
    "    'GX': 'Greece (Ancient)',\n",
    "    'HK': 'Hong Kong',\n",
    "    'HR': 'Croatia',\n",
    "    'HU': 'Hungary',\n",
    "    'ID': 'Indonesia',\n",
    "    'IE': 'Ireland',\n",
    "    'IL': 'Israel',\n",
    "    'IN': 'India',\n",
    "    'IR': 'Iran',\n",
    "    'IS': 'Iceland',\n",
    "    'IT': 'Italy',\n",
    "    'JM': 'Jamaica',\n",
    "    'JP': 'Japan',\n",
    "    'KE': 'Kenya',\n",
    "    'KR': 'South Korea',\n",
    "    'KS': 'Kosovo',\n",
    "    'LB': 'Lebanon',\n",
    "    'LK': 'Sri Lanka',\n",
    "    'LT': 'Lithuania',\n",
    "    'LU': 'Luxembourg',\n",
    "    'LV': 'Latvia',\n",
    "    'MD': 'Moldova',\n",
    "    'MM': 'Myanmar (Burma)',\n",
    "    'MT': 'Malta',\n",
    "    'MU': 'Mauritius',\n",
    "    'MX': 'Mexico',\n",
    "    'MY': 'Malaysia',\n",
    "    'NG': 'Nigeria',\n",
    "    'NI': 'Nicaragua',\n",
    "    'NL': 'Netherlands',\n",
    "    'NO': 'Norway',\n",
    "    'NZ': 'New Zealand',\n",
    "    'PE': 'Peru',\n",
    "    'PH': 'Philippines',\n",
    "    'PL': 'Poland',\n",
    "    'PT': 'Portugal',\n",
    "    'QM': 'Marshall Islands', #second country code for the United States\n",
    "    'QZ': 'Unknown or Invalid Area',\n",
    "    'RE': 'Réunion',\n",
    "    'RO': 'Romania',\n",
    "    'RS': 'Serbia',\n",
    "    'RU': 'Russia',\n",
    "    'SE': 'Sweden',\n",
    "    'SG': 'Singapore',\n",
    "    'SI': 'Slovenia',\n",
    "    'SK': 'Slovakia',\n",
    "    'SM': 'San Marino',\n",
    "    'SW': 'Sweden',\n",
    "    'TC': 'Turks and Caicos Islands',\n",
    "    'TH': 'Thailand',\n",
    "    'TR': 'Turkey',\n",
    "    'TW': 'Taiwan',\n",
    "    'UA': 'Ukraine',\n",
    "    'UK': 'United Kingdom',\n",
    "    'UR': 'Uruguay',\n",
    "    'US': 'United States',\n",
    "    'UY': 'Uruguay',\n",
    "    'VE': 'Venezuela',\n",
    "    'VN': 'Vietnam',\n",
    "    'ZA': 'South Africa',\n",
    "    'ZZ': 'Unknown or Invalid Area'\n",
    "}"
   ]
  },
  {
   "cell_type": "markdown",
   "metadata": {},
   "source": [
    "Erstellen eines neuen Features `country`, welches den Namen des jeweiligen Landes beinhaltet."
   ]
  },
  {
   "cell_type": "code",
   "execution_count": 79,
   "metadata": {},
   "outputs": [],
   "source": [
    "by_isrc[\"country\"] = by_isrc[\"country_code\"].apply(lambda x: countries[x])"
   ]
  },
  {
   "cell_type": "markdown",
   "metadata": {},
   "source": [
    "Gruppieren der Daten nach `country` und `country_code`. Dies soll genutzt werden, um zu analysieren, aus welchem Land am meisten Songs veröffentlicht worden sind."
   ]
  },
  {
   "cell_type": "code",
   "execution_count": 80,
   "metadata": {},
   "outputs": [],
   "source": [
    "grouped_countries = by_isrc.copy()\n",
    "grouped_countries = grouped_countries[[\"country_code\", \"country\"]]\n",
    "grouped_countries[\"num_countries\"] = 0\n",
    "grouped_countries = grouped_countries.groupby([\"country_code\", \"country\"]).count()"
   ]
  },
  {
   "cell_type": "code",
   "execution_count": 81,
   "metadata": {},
   "outputs": [],
   "source": [
    "grouped_countries = grouped_countries.sort_values(\"num_countries\", ascending=False)"
   ]
  },
  {
   "cell_type": "code",
   "execution_count": 82,
   "metadata": {},
   "outputs": [],
   "source": [
    "grouped_countries.reset_index(inplace=True)"
   ]
  },
  {
   "cell_type": "code",
   "execution_count": 83,
   "metadata": {},
   "outputs": [],
   "source": [
    "# country und country_code werden kombiniert für eine bessere Darstellung\n",
    "grouped_countries[\"country_comb\"] = grouped_countries.apply(lambda x: f'{x[\"country\"]}-{x[\"country_code\"]}', axis=1)"
   ]
  },
  {
   "cell_type": "code",
   "execution_count": 84,
   "metadata": {},
   "outputs": [
    {
     "data": {
      "application/vnd.plotly.v1+json": {
       "config": {
        "plotlyServerURL": "https://plot.ly"
       },
       "data": [
        {
         "alignmentgroup": "True",
         "hovertemplate": "country_comb=%{x}<br>num_countries=%{y}<extra></extra>",
         "legendgroup": "",
         "marker": {
          "color": "#636efa",
          "pattern": {
           "shape": ""
          }
         },
         "name": "",
         "offsetgroup": "",
         "orientation": "v",
         "showlegend": false,
         "textposition": "auto",
         "type": "bar",
         "x": [
          "United States-US",
          "United Kingdom-GB",
          "Germany-DE",
          "France-FR",
          "Marshall Islands-QM",
          "Brazil-BR",
          "Netherlands-NL",
          "Sweden-SE",
          "Spain-ES",
          "Finland-FI",
          "Italy-IT",
          "Japan-JP",
          "India-IN",
          "Unknown or Invalid Area-QZ",
          "Turkey-TR",
          "Argentina-AR",
          "Czech Republic-CZ",
          "Norway-NO",
          "Indonesia-ID",
          "Denmark-DK",
          "Greece-GR",
          "Canada-CA",
          "Australia-AU",
          "Bulgaria-BG",
          "Croatia-HR",
          "Switzerland-CH",
          "Belgium-BE",
          "Hong Kong-HK",
          "Iceland-IS",
          "Turks and Caicos Islands-TC"
         ],
         "xaxis": "x",
         "y": [
          104973,
          66175,
          32217,
          24923,
          14398,
          14227,
          14013,
          13102,
          11284,
          9801,
          8654,
          8348,
          7780,
          6490,
          5493,
          5144,
          5109,
          4796,
          4667,
          4415,
          4310,
          3844,
          3619,
          3150,
          3099,
          2357,
          2196,
          1881,
          1767,
          1546
         ],
         "yaxis": "y"
        }
       ],
       "layout": {
        "barmode": "relative",
        "height": 500,
        "legend": {
         "tracegroupgap": 0
        },
        "margin": {
         "t": 60
        },
        "template": {
         "data": {
          "bar": [
           {
            "error_x": {
             "color": "#f2f5fa"
            },
            "error_y": {
             "color": "#f2f5fa"
            },
            "marker": {
             "line": {
              "color": "rgb(17,17,17)",
              "width": 0.5
             },
             "pattern": {
              "fillmode": "overlay",
              "size": 10,
              "solidity": 0.2
             }
            },
            "type": "bar"
           }
          ],
          "barpolar": [
           {
            "marker": {
             "line": {
              "color": "rgb(17,17,17)",
              "width": 0.5
             },
             "pattern": {
              "fillmode": "overlay",
              "size": 10,
              "solidity": 0.2
             }
            },
            "type": "barpolar"
           }
          ],
          "carpet": [
           {
            "aaxis": {
             "endlinecolor": "#A2B1C6",
             "gridcolor": "#506784",
             "linecolor": "#506784",
             "minorgridcolor": "#506784",
             "startlinecolor": "#A2B1C6"
            },
            "baxis": {
             "endlinecolor": "#A2B1C6",
             "gridcolor": "#506784",
             "linecolor": "#506784",
             "minorgridcolor": "#506784",
             "startlinecolor": "#A2B1C6"
            },
            "type": "carpet"
           }
          ],
          "choropleth": [
           {
            "colorbar": {
             "outlinewidth": 0,
             "ticks": ""
            },
            "type": "choropleth"
           }
          ],
          "contour": [
           {
            "colorbar": {
             "outlinewidth": 0,
             "ticks": ""
            },
            "colorscale": [
             [
              0,
              "#0d0887"
             ],
             [
              0.1111111111111111,
              "#46039f"
             ],
             [
              0.2222222222222222,
              "#7201a8"
             ],
             [
              0.3333333333333333,
              "#9c179e"
             ],
             [
              0.4444444444444444,
              "#bd3786"
             ],
             [
              0.5555555555555556,
              "#d8576b"
             ],
             [
              0.6666666666666666,
              "#ed7953"
             ],
             [
              0.7777777777777778,
              "#fb9f3a"
             ],
             [
              0.8888888888888888,
              "#fdca26"
             ],
             [
              1,
              "#f0f921"
             ]
            ],
            "type": "contour"
           }
          ],
          "contourcarpet": [
           {
            "colorbar": {
             "outlinewidth": 0,
             "ticks": ""
            },
            "type": "contourcarpet"
           }
          ],
          "heatmap": [
           {
            "colorbar": {
             "outlinewidth": 0,
             "ticks": ""
            },
            "colorscale": [
             [
              0,
              "#0d0887"
             ],
             [
              0.1111111111111111,
              "#46039f"
             ],
             [
              0.2222222222222222,
              "#7201a8"
             ],
             [
              0.3333333333333333,
              "#9c179e"
             ],
             [
              0.4444444444444444,
              "#bd3786"
             ],
             [
              0.5555555555555556,
              "#d8576b"
             ],
             [
              0.6666666666666666,
              "#ed7953"
             ],
             [
              0.7777777777777778,
              "#fb9f3a"
             ],
             [
              0.8888888888888888,
              "#fdca26"
             ],
             [
              1,
              "#f0f921"
             ]
            ],
            "type": "heatmap"
           }
          ],
          "heatmapgl": [
           {
            "colorbar": {
             "outlinewidth": 0,
             "ticks": ""
            },
            "colorscale": [
             [
              0,
              "#0d0887"
             ],
             [
              0.1111111111111111,
              "#46039f"
             ],
             [
              0.2222222222222222,
              "#7201a8"
             ],
             [
              0.3333333333333333,
              "#9c179e"
             ],
             [
              0.4444444444444444,
              "#bd3786"
             ],
             [
              0.5555555555555556,
              "#d8576b"
             ],
             [
              0.6666666666666666,
              "#ed7953"
             ],
             [
              0.7777777777777778,
              "#fb9f3a"
             ],
             [
              0.8888888888888888,
              "#fdca26"
             ],
             [
              1,
              "#f0f921"
             ]
            ],
            "type": "heatmapgl"
           }
          ],
          "histogram": [
           {
            "marker": {
             "pattern": {
              "fillmode": "overlay",
              "size": 10,
              "solidity": 0.2
             }
            },
            "type": "histogram"
           }
          ],
          "histogram2d": [
           {
            "colorbar": {
             "outlinewidth": 0,
             "ticks": ""
            },
            "colorscale": [
             [
              0,
              "#0d0887"
             ],
             [
              0.1111111111111111,
              "#46039f"
             ],
             [
              0.2222222222222222,
              "#7201a8"
             ],
             [
              0.3333333333333333,
              "#9c179e"
             ],
             [
              0.4444444444444444,
              "#bd3786"
             ],
             [
              0.5555555555555556,
              "#d8576b"
             ],
             [
              0.6666666666666666,
              "#ed7953"
             ],
             [
              0.7777777777777778,
              "#fb9f3a"
             ],
             [
              0.8888888888888888,
              "#fdca26"
             ],
             [
              1,
              "#f0f921"
             ]
            ],
            "type": "histogram2d"
           }
          ],
          "histogram2dcontour": [
           {
            "colorbar": {
             "outlinewidth": 0,
             "ticks": ""
            },
            "colorscale": [
             [
              0,
              "#0d0887"
             ],
             [
              0.1111111111111111,
              "#46039f"
             ],
             [
              0.2222222222222222,
              "#7201a8"
             ],
             [
              0.3333333333333333,
              "#9c179e"
             ],
             [
              0.4444444444444444,
              "#bd3786"
             ],
             [
              0.5555555555555556,
              "#d8576b"
             ],
             [
              0.6666666666666666,
              "#ed7953"
             ],
             [
              0.7777777777777778,
              "#fb9f3a"
             ],
             [
              0.8888888888888888,
              "#fdca26"
             ],
             [
              1,
              "#f0f921"
             ]
            ],
            "type": "histogram2dcontour"
           }
          ],
          "mesh3d": [
           {
            "colorbar": {
             "outlinewidth": 0,
             "ticks": ""
            },
            "type": "mesh3d"
           }
          ],
          "parcoords": [
           {
            "line": {
             "colorbar": {
              "outlinewidth": 0,
              "ticks": ""
             }
            },
            "type": "parcoords"
           }
          ],
          "pie": [
           {
            "automargin": true,
            "type": "pie"
           }
          ],
          "scatter": [
           {
            "marker": {
             "line": {
              "color": "#283442"
             }
            },
            "type": "scatter"
           }
          ],
          "scatter3d": [
           {
            "line": {
             "colorbar": {
              "outlinewidth": 0,
              "ticks": ""
             }
            },
            "marker": {
             "colorbar": {
              "outlinewidth": 0,
              "ticks": ""
             }
            },
            "type": "scatter3d"
           }
          ],
          "scattercarpet": [
           {
            "marker": {
             "colorbar": {
              "outlinewidth": 0,
              "ticks": ""
             }
            },
            "type": "scattercarpet"
           }
          ],
          "scattergeo": [
           {
            "marker": {
             "colorbar": {
              "outlinewidth": 0,
              "ticks": ""
             }
            },
            "type": "scattergeo"
           }
          ],
          "scattergl": [
           {
            "marker": {
             "line": {
              "color": "#283442"
             }
            },
            "type": "scattergl"
           }
          ],
          "scattermapbox": [
           {
            "marker": {
             "colorbar": {
              "outlinewidth": 0,
              "ticks": ""
             }
            },
            "type": "scattermapbox"
           }
          ],
          "scatterpolar": [
           {
            "marker": {
             "colorbar": {
              "outlinewidth": 0,
              "ticks": ""
             }
            },
            "type": "scatterpolar"
           }
          ],
          "scatterpolargl": [
           {
            "marker": {
             "colorbar": {
              "outlinewidth": 0,
              "ticks": ""
             }
            },
            "type": "scatterpolargl"
           }
          ],
          "scatterternary": [
           {
            "marker": {
             "colorbar": {
              "outlinewidth": 0,
              "ticks": ""
             }
            },
            "type": "scatterternary"
           }
          ],
          "surface": [
           {
            "colorbar": {
             "outlinewidth": 0,
             "ticks": ""
            },
            "colorscale": [
             [
              0,
              "#0d0887"
             ],
             [
              0.1111111111111111,
              "#46039f"
             ],
             [
              0.2222222222222222,
              "#7201a8"
             ],
             [
              0.3333333333333333,
              "#9c179e"
             ],
             [
              0.4444444444444444,
              "#bd3786"
             ],
             [
              0.5555555555555556,
              "#d8576b"
             ],
             [
              0.6666666666666666,
              "#ed7953"
             ],
             [
              0.7777777777777778,
              "#fb9f3a"
             ],
             [
              0.8888888888888888,
              "#fdca26"
             ],
             [
              1,
              "#f0f921"
             ]
            ],
            "type": "surface"
           }
          ],
          "table": [
           {
            "cells": {
             "fill": {
              "color": "#506784"
             },
             "line": {
              "color": "rgb(17,17,17)"
             }
            },
            "header": {
             "fill": {
              "color": "#2a3f5f"
             },
             "line": {
              "color": "rgb(17,17,17)"
             }
            },
            "type": "table"
           }
          ]
         },
         "layout": {
          "annotationdefaults": {
           "arrowcolor": "#f2f5fa",
           "arrowhead": 0,
           "arrowwidth": 1
          },
          "autotypenumbers": "strict",
          "coloraxis": {
           "colorbar": {
            "outlinewidth": 0,
            "ticks": ""
           }
          },
          "colorscale": {
           "diverging": [
            [
             0,
             "#8e0152"
            ],
            [
             0.1,
             "#c51b7d"
            ],
            [
             0.2,
             "#de77ae"
            ],
            [
             0.3,
             "#f1b6da"
            ],
            [
             0.4,
             "#fde0ef"
            ],
            [
             0.5,
             "#f7f7f7"
            ],
            [
             0.6,
             "#e6f5d0"
            ],
            [
             0.7,
             "#b8e186"
            ],
            [
             0.8,
             "#7fbc41"
            ],
            [
             0.9,
             "#4d9221"
            ],
            [
             1,
             "#276419"
            ]
           ],
           "sequential": [
            [
             0,
             "#0d0887"
            ],
            [
             0.1111111111111111,
             "#46039f"
            ],
            [
             0.2222222222222222,
             "#7201a8"
            ],
            [
             0.3333333333333333,
             "#9c179e"
            ],
            [
             0.4444444444444444,
             "#bd3786"
            ],
            [
             0.5555555555555556,
             "#d8576b"
            ],
            [
             0.6666666666666666,
             "#ed7953"
            ],
            [
             0.7777777777777778,
             "#fb9f3a"
            ],
            [
             0.8888888888888888,
             "#fdca26"
            ],
            [
             1,
             "#f0f921"
            ]
           ],
           "sequentialminus": [
            [
             0,
             "#0d0887"
            ],
            [
             0.1111111111111111,
             "#46039f"
            ],
            [
             0.2222222222222222,
             "#7201a8"
            ],
            [
             0.3333333333333333,
             "#9c179e"
            ],
            [
             0.4444444444444444,
             "#bd3786"
            ],
            [
             0.5555555555555556,
             "#d8576b"
            ],
            [
             0.6666666666666666,
             "#ed7953"
            ],
            [
             0.7777777777777778,
             "#fb9f3a"
            ],
            [
             0.8888888888888888,
             "#fdca26"
            ],
            [
             1,
             "#f0f921"
            ]
           ]
          },
          "colorway": [
           "#636efa",
           "#EF553B",
           "#00cc96",
           "#ab63fa",
           "#FFA15A",
           "#19d3f3",
           "#FF6692",
           "#B6E880",
           "#FF97FF",
           "#FECB52"
          ],
          "font": {
           "color": "#f2f5fa"
          },
          "geo": {
           "bgcolor": "rgb(17,17,17)",
           "lakecolor": "rgb(17,17,17)",
           "landcolor": "rgb(17,17,17)",
           "showlakes": true,
           "showland": true,
           "subunitcolor": "#506784"
          },
          "hoverlabel": {
           "align": "left"
          },
          "hovermode": "closest",
          "mapbox": {
           "style": "dark"
          },
          "paper_bgcolor": "rgb(17,17,17)",
          "plot_bgcolor": "rgb(17,17,17)",
          "polar": {
           "angularaxis": {
            "gridcolor": "#506784",
            "linecolor": "#506784",
            "ticks": ""
           },
           "bgcolor": "rgb(17,17,17)",
           "radialaxis": {
            "gridcolor": "#506784",
            "linecolor": "#506784",
            "ticks": ""
           }
          },
          "scene": {
           "xaxis": {
            "backgroundcolor": "rgb(17,17,17)",
            "gridcolor": "#506784",
            "gridwidth": 2,
            "linecolor": "#506784",
            "showbackground": true,
            "ticks": "",
            "zerolinecolor": "#C8D4E3"
           },
           "yaxis": {
            "backgroundcolor": "rgb(17,17,17)",
            "gridcolor": "#506784",
            "gridwidth": 2,
            "linecolor": "#506784",
            "showbackground": true,
            "ticks": "",
            "zerolinecolor": "#C8D4E3"
           },
           "zaxis": {
            "backgroundcolor": "rgb(17,17,17)",
            "gridcolor": "#506784",
            "gridwidth": 2,
            "linecolor": "#506784",
            "showbackground": true,
            "ticks": "",
            "zerolinecolor": "#C8D4E3"
           }
          },
          "shapedefaults": {
           "line": {
            "color": "#f2f5fa"
           }
          },
          "sliderdefaults": {
           "bgcolor": "#C8D4E3",
           "bordercolor": "rgb(17,17,17)",
           "borderwidth": 1,
           "tickwidth": 0
          },
          "ternary": {
           "aaxis": {
            "gridcolor": "#506784",
            "linecolor": "#506784",
            "ticks": ""
           },
           "baxis": {
            "gridcolor": "#506784",
            "linecolor": "#506784",
            "ticks": ""
           },
           "bgcolor": "rgb(17,17,17)",
           "caxis": {
            "gridcolor": "#506784",
            "linecolor": "#506784",
            "ticks": ""
           }
          },
          "title": {
           "x": 0.05
          },
          "updatemenudefaults": {
           "bgcolor": "#506784",
           "borderwidth": 0
          },
          "xaxis": {
           "automargin": true,
           "gridcolor": "#283442",
           "linecolor": "#506784",
           "ticks": "",
           "title": {
            "standoff": 15
           },
           "zerolinecolor": "#283442",
           "zerolinewidth": 2
          },
          "yaxis": {
           "automargin": true,
           "gridcolor": "#283442",
           "linecolor": "#506784",
           "ticks": "",
           "title": {
            "standoff": 15
           },
           "zerolinecolor": "#283442",
           "zerolinewidth": 2
          }
         }
        },
        "title": {
         "text": "Veröffentlichte Songs pro Land (Top 30)"
        },
        "xaxis": {
         "anchor": "y",
         "domain": [
          0,
          1
         ],
         "title": {
          "text": "Land"
         }
        },
        "yaxis": {
         "anchor": "x",
         "domain": [
          0,
          1
         ],
         "title": {
          "text": "Veröffentlichte Songs"
         }
        }
       }
      }
     },
     "metadata": {},
     "output_type": "display_data"
    }
   ],
   "source": [
    "fig = px.bar(grouped_countries[:30], x=\"country_comb\", y=\"num_countries\", template=\"plotly_dark\")\n",
    "fig.update_layout(\n",
    "    height=500,\n",
    "    title=\"Veröffentlichte Songs pro Land (Top 30)\",\n",
    "    xaxis_title=\"Land\",\n",
    "    yaxis_title=\"Veröffentlichte Songs\"\n",
    ")\n",
    "fig.show()"
   ]
  },
  {
   "cell_type": "markdown",
   "metadata": {},
   "source": [
    "Es sollen alle Lieder entfernt werden welche nicht aus englischsprachigen Länger (US, UK, CA, AU, Neuseeland) sowie Deutschland, Schweiz, Österreich, Italien und Schweden stammen."
   ]
  },
  {
   "cell_type": "code",
   "execution_count": 85,
   "metadata": {},
   "outputs": [],
   "source": [
    "important_country_codes = [\"US\", \"GB\", \"CA\", \"AU\", \"NZ\", \"DE\", \"CH\", \"AT\", \"IT\", \"SE\"]\n",
    "\n",
    "# kleinere Inselgegenden von Amerika: Baker Island, Howland Island, Jarvis Island, Johnston Atoll, Kingman Reef, Midway Islands, Navassa Island, Palmyra Atoll, Wake Island\n",
    "minor_insular_areas_us = [\"XB\", \"XH\", \"XQ\", \"XU\", \"XM\", \"QM\", \"XV\", \"XL\", \"QW\"]\n",
    "important_country_codes.extend(minor_insular_areas_us)"
   ]
  },
  {
   "cell_type": "markdown",
   "metadata": {},
   "source": [
    "`QM` wird heute als zusätzlicher Country code für Amerika verwendet, da der Code `US` sein Limit erreicht hat. Da dieser Beschluss jedoch aus 2010 stammt, sollten die Lieder der 80er nicht beeinflusst werden?"
   ]
  },
  {
   "cell_type": "code",
   "execution_count": 86,
   "metadata": {},
   "outputs": [
    {
     "data": {
      "text/html": [
       "<div>\n",
       "<style scoped>\n",
       "    .dataframe tbody tr th:only-of-type {\n",
       "        vertical-align: middle;\n",
       "    }\n",
       "\n",
       "    .dataframe tbody tr th {\n",
       "        vertical-align: top;\n",
       "    }\n",
       "\n",
       "    .dataframe thead th {\n",
       "        text-align: right;\n",
       "    }\n",
       "</style>\n",
       "<table border=\"1\" class=\"dataframe\">\n",
       "  <thead>\n",
       "    <tr style=\"text-align: right;\">\n",
       "      <th></th>\n",
       "      <th>isrc</th>\n",
       "      <th>genres</th>\n",
       "      <th>name</th>\n",
       "      <th>artists</th>\n",
       "      <th>popularity</th>\n",
       "      <th>chart_power</th>\n",
       "    </tr>\n",
       "  </thead>\n",
       "  <tbody>\n",
       "    <tr>\n",
       "      <th>274154</th>\n",
       "      <td>QMKHM1600219</td>\n",
       "      <td>['hard-rock', 'metal', 'rock']</td>\n",
       "      <td>master of puppets</td>\n",
       "      <td>metallica</td>\n",
       "      <td>80</td>\n",
       "      <td>NaN</td>\n",
       "    </tr>\n",
       "    <tr>\n",
       "      <th>274107</th>\n",
       "      <td>QMKHM1600096</td>\n",
       "      <td>['hard-rock', 'metal', 'rock']</td>\n",
       "      <td>for whom the bell tolls - remastered</td>\n",
       "      <td>metallica</td>\n",
       "      <td>75</td>\n",
       "      <td>NaN</td>\n",
       "    </tr>\n",
       "    <tr>\n",
       "      <th>271243</th>\n",
       "      <td>QMFME1326440</td>\n",
       "      <td>['latin', 'pop']</td>\n",
       "      <td>tu dama de hierro</td>\n",
       "      <td>marisela</td>\n",
       "      <td>71</td>\n",
       "      <td>NaN</td>\n",
       "    </tr>\n",
       "    <tr>\n",
       "      <th>274108</th>\n",
       "      <td>QMKHM1600097</td>\n",
       "      <td>['hard-rock', 'metal', 'rock']</td>\n",
       "      <td>fade to black - remastered</td>\n",
       "      <td>metallica</td>\n",
       "      <td>70</td>\n",
       "      <td>NaN</td>\n",
       "    </tr>\n",
       "    <tr>\n",
       "      <th>274057</th>\n",
       "      <td>QMKHM1600034</td>\n",
       "      <td>['hard-rock', 'metal', 'rock']</td>\n",
       "      <td>seek &amp; destroy - remastered</td>\n",
       "      <td>metallica</td>\n",
       "      <td>69</td>\n",
       "      <td>NaN</td>\n",
       "    </tr>\n",
       "    <tr>\n",
       "      <th>...</th>\n",
       "      <td>...</td>\n",
       "      <td>...</td>\n",
       "      <td>...</td>\n",
       "      <td>...</td>\n",
       "      <td>...</td>\n",
       "      <td>...</td>\n",
       "    </tr>\n",
       "    <tr>\n",
       "      <th>267541</th>\n",
       "      <td>QM7281628419</td>\n",
       "      <td>['tango']</td>\n",
       "      <td>fuegos artificiales</td>\n",
       "      <td>juan d'arienzo y su orquesta típica</td>\n",
       "      <td>0</td>\n",
       "      <td>NaN</td>\n",
       "    </tr>\n",
       "    <tr>\n",
       "      <th>267551</th>\n",
       "      <td>QM7281713701</td>\n",
       "      <td>['jazz']</td>\n",
       "      <td>raincheck</td>\n",
       "      <td>nick brignola</td>\n",
       "      <td>0</td>\n",
       "      <td>NaN</td>\n",
       "    </tr>\n",
       "    <tr>\n",
       "      <th>267552</th>\n",
       "      <td>QM7281713702</td>\n",
       "      <td>['jazz']</td>\n",
       "      <td>tenderly</td>\n",
       "      <td>nick brignola</td>\n",
       "      <td>0</td>\n",
       "      <td>NaN</td>\n",
       "    </tr>\n",
       "    <tr>\n",
       "      <th>267553</th>\n",
       "      <td>QM7281713703</td>\n",
       "      <td>['jazz']</td>\n",
       "      <td>hurricane connie</td>\n",
       "      <td>nick brignola</td>\n",
       "      <td>0</td>\n",
       "      <td>NaN</td>\n",
       "    </tr>\n",
       "    <tr>\n",
       "      <th>275326</th>\n",
       "      <td>QMZUC1500048</td>\n",
       "      <td>['jazz']</td>\n",
       "      <td>siclienne</td>\n",
       "      <td>alexander zonjic</td>\n",
       "      <td>0</td>\n",
       "      <td>NaN</td>\n",
       "    </tr>\n",
       "  </tbody>\n",
       "</table>\n",
       "<p>14398 rows × 6 columns</p>\n",
       "</div>"
      ],
      "text/plain": [
       "                isrc                          genres  \\\n",
       "274154  QMKHM1600219  ['hard-rock', 'metal', 'rock']   \n",
       "274107  QMKHM1600096  ['hard-rock', 'metal', 'rock']   \n",
       "271243  QMFME1326440                ['latin', 'pop']   \n",
       "274108  QMKHM1600097  ['hard-rock', 'metal', 'rock']   \n",
       "274057  QMKHM1600034  ['hard-rock', 'metal', 'rock']   \n",
       "...              ...                             ...   \n",
       "267541  QM7281628419                       ['tango']   \n",
       "267551  QM7281713701                        ['jazz']   \n",
       "267552  QM7281713702                        ['jazz']   \n",
       "267553  QM7281713703                        ['jazz']   \n",
       "275326  QMZUC1500048                        ['jazz']   \n",
       "\n",
       "                                        name  \\\n",
       "274154                     master of puppets   \n",
       "274107  for whom the bell tolls - remastered   \n",
       "271243                     tu dama de hierro   \n",
       "274108            fade to black - remastered   \n",
       "274057           seek & destroy - remastered   \n",
       "...                                      ...   \n",
       "267541                   fuegos artificiales   \n",
       "267551                             raincheck   \n",
       "267552                              tenderly   \n",
       "267553                      hurricane connie   \n",
       "275326                             siclienne   \n",
       "\n",
       "                                    artists  popularity  chart_power  \n",
       "274154                            metallica          80          NaN  \n",
       "274107                            metallica          75          NaN  \n",
       "271243                             marisela          71          NaN  \n",
       "274108                            metallica          70          NaN  \n",
       "274057                            metallica          69          NaN  \n",
       "...                                     ...         ...          ...  \n",
       "267541  juan d'arienzo y su orquesta típica           0          NaN  \n",
       "267551                        nick brignola           0          NaN  \n",
       "267552                        nick brignola           0          NaN  \n",
       "267553                        nick brignola           0          NaN  \n",
       "275326                     alexander zonjic           0          NaN  \n",
       "\n",
       "[14398 rows x 6 columns]"
      ]
     },
     "execution_count": 86,
     "metadata": {},
     "output_type": "execute_result"
    }
   ],
   "source": [
    "by_isrc[by_isrc[\"country_code\"] == \"QM\"].sort_values(\"popularity\", ascending=False)[[\"isrc\", \"genres\", \"name\", \"artists\", \"popularity\", \"chart_power\"]]"
   ]
  },
  {
   "cell_type": "markdown",
   "metadata": {},
   "source": [
    "Herausfiltern der Lieder aus den \"wichtigen\" Länder."
   ]
  },
  {
   "cell_type": "code",
   "execution_count": 87,
   "metadata": {},
   "outputs": [],
   "source": [
    "reduced_isrc = by_isrc.copy()\n",
    "reduced_isrc = reduced_isrc[reduced_isrc[\"country_code\"].isin(important_country_codes)]\n",
    "reduced_isrc[\"genres\"] = reduced_isrc[\"genres\"].apply(literal_eval)"
   ]
  },
  {
   "cell_type": "code",
   "execution_count": 88,
   "metadata": {},
   "outputs": [
    {
     "name": "stdout",
     "output_type": "stream",
     "text": [
      "Die Anzahl der Lieder hat sich von 416154 auf 251101 verringert.\n"
     ]
    }
   ],
   "source": [
    "print(f\"Die Anzahl der Lieder hat sich von {by_isrc.shape[0]} auf {reduced_isrc.shape[0]} verringert.\")"
   ]
  },
  {
   "cell_type": "markdown",
   "metadata": {},
   "source": [
    "Gruppieren der Daten nach den Genres => Welche Genres waren in den wichtigen Ländern relevant?"
   ]
  },
  {
   "cell_type": "code",
   "execution_count": 89,
   "metadata": {},
   "outputs": [],
   "source": [
    "def filter_important_genres(df):\n",
    "  important_genres = df.copy()\n",
    "  important_genres = important_genres.explode(\"genres\")\n",
    "  important_genres[\"num\"] = 0\n",
    "  important_genres = important_genres[[\"genres\", \"num\"]]\n",
    "  important_genres = important_genres.groupby(\"genres\").count()\n",
    "  important_genres.reset_index(inplace=True)\n",
    "  important_genres = important_genres.sort_values(\"num\", ascending=False)\n",
    "  return important_genres"
   ]
  },
  {
   "cell_type": "code",
   "execution_count": 90,
   "metadata": {},
   "outputs": [
    {
     "data": {
      "text/html": [
       "<div>\n",
       "<style scoped>\n",
       "    .dataframe tbody tr th:only-of-type {\n",
       "        vertical-align: middle;\n",
       "    }\n",
       "\n",
       "    .dataframe tbody tr th {\n",
       "        vertical-align: top;\n",
       "    }\n",
       "\n",
       "    .dataframe thead th {\n",
       "        text-align: right;\n",
       "    }\n",
       "</style>\n",
       "<table border=\"1\" class=\"dataframe\">\n",
       "  <thead>\n",
       "    <tr style=\"text-align: right;\">\n",
       "      <th></th>\n",
       "      <th>genres</th>\n",
       "      <th>num</th>\n",
       "    </tr>\n",
       "  </thead>\n",
       "  <tbody>\n",
       "    <tr>\n",
       "      <th>16</th>\n",
       "      <td>classical</td>\n",
       "      <td>63432</td>\n",
       "    </tr>\n",
       "    <tr>\n",
       "      <th>87</th>\n",
       "      <td>rock</td>\n",
       "      <td>60598</td>\n",
       "    </tr>\n",
       "    <tr>\n",
       "      <th>77</th>\n",
       "      <td>pop</td>\n",
       "      <td>48841</td>\n",
       "    </tr>\n",
       "    <tr>\n",
       "      <th>38</th>\n",
       "      <td>german</td>\n",
       "      <td>28985</td>\n",
       "    </tr>\n",
       "    <tr>\n",
       "      <th>62</th>\n",
       "      <td>jazz</td>\n",
       "      <td>22632</td>\n",
       "    </tr>\n",
       "    <tr>\n",
       "      <th>...</th>\n",
       "      <td>...</td>\n",
       "      <td>...</td>\n",
       "    </tr>\n",
       "    <tr>\n",
       "      <th>28</th>\n",
       "      <td>dubstep</td>\n",
       "      <td>2</td>\n",
       "    </tr>\n",
       "    <tr>\n",
       "      <th>12</th>\n",
       "      <td>cantopop</td>\n",
       "      <td>1</td>\n",
       "    </tr>\n",
       "    <tr>\n",
       "      <th>53</th>\n",
       "      <td>idm</td>\n",
       "      <td>1</td>\n",
       "    </tr>\n",
       "    <tr>\n",
       "      <th>69</th>\n",
       "      <td>metalcore</td>\n",
       "      <td>1</td>\n",
       "    </tr>\n",
       "    <tr>\n",
       "      <th>90</th>\n",
       "      <td>romance</td>\n",
       "      <td>1</td>\n",
       "    </tr>\n",
       "  </tbody>\n",
       "</table>\n",
       "<p>108 rows × 2 columns</p>\n",
       "</div>"
      ],
      "text/plain": [
       "       genres    num\n",
       "16  classical  63432\n",
       "87       rock  60598\n",
       "77        pop  48841\n",
       "38     german  28985\n",
       "62       jazz  22632\n",
       "..        ...    ...\n",
       "28    dubstep      2\n",
       "12   cantopop      1\n",
       "53        idm      1\n",
       "69  metalcore      1\n",
       "90    romance      1\n",
       "\n",
       "[108 rows x 2 columns]"
      ]
     },
     "execution_count": 90,
     "metadata": {},
     "output_type": "execute_result"
    }
   ],
   "source": [
    "filter_important_genres(reduced_isrc)"
   ]
  },
  {
   "cell_type": "markdown",
   "metadata": {},
   "source": [
    "Am meisten Lieder wurden für das Genre Klassik veröffentlicht. Da dieses Genre nicht wirklich relevant ist, müssen zunächst die irrelevanten Genres entfernt werden. Hiebei gibt es zwei verschiedene Wege. Verfügt ein Künstler sowohl über ein erwünschtes als auch ein unerwünschtes Genre, so können entweder alle Songs von ihm behalten oder entfernt werden. Zunächst wird geprüft, wie häufig ein solcher Fall eintritt."
   ]
  },
  {
   "cell_type": "code",
   "execution_count": 91,
   "metadata": {},
   "outputs": [],
   "source": [
    "unwanted_genres = [\"classical\", \"jazz\", \"folk\", \"french\", \"turkish\", \"gospel\", \"samba\", \"piano\", \"mpb\", \"sertanejo\", \"pagode\", \"sleep\", \"forro\", \"malay\", \"anime\",\n",
    "                 \"j-idol\", \"comedy\", \"mandopop\", \"cantopop\", \"show-tunes\", \"emo\", \"romance\", \"j-dance\", \"chill\", \"world-music\", \"iranian\", \"idm\", \"metalcore\",\n",
    "                 \"hardstyle\", \"opera\", \"k-pop\", \"j-pop\", \"j-rock\", \"happy\"]"
   ]
  },
  {
   "cell_type": "code",
   "execution_count": 92,
   "metadata": {},
   "outputs": [],
   "source": [
    "occ_unwanted_and_wanted = by_isrc.copy()\n",
    "occ_unwanted_and_wanted = occ_unwanted_and_wanted[[\"genres\"]]\n",
    "occ_unwanted_and_wanted[\"genres\"] = occ_unwanted_and_wanted[\"genres\"].apply(literal_eval)\n",
    "occ_unwanted_and_wanted = occ_unwanted_and_wanted.explode(\"genres\")"
   ]
  },
  {
   "cell_type": "code",
   "execution_count": 93,
   "metadata": {},
   "outputs": [],
   "source": [
    "wanted_genres = list(set(occ_unwanted_and_wanted[\"genres\"].unique()).difference(unwanted_genres))"
   ]
  },
  {
   "cell_type": "code",
   "execution_count": 94,
   "metadata": {},
   "outputs": [],
   "source": [
    "def filter_row(row):\n",
    "    has_wanted_genre = any(genre in row['genres'] for genre in wanted_genres)\n",
    "    has_not_wanted_genre = any(genre in row['genres'] for genre in unwanted_genres)\n",
    "    return has_wanted_genre and has_not_wanted_genre"
   ]
  },
  {
   "cell_type": "code",
   "execution_count": 95,
   "metadata": {},
   "outputs": [],
   "source": [
    "occ_unwanted_and_wanted_df = reduced_isrc[reduced_isrc.apply(filter_row, axis=1)]"
   ]
  },
  {
   "cell_type": "code",
   "execution_count": 96,
   "metadata": {},
   "outputs": [
    {
     "name": "stdout",
     "output_type": "stream",
     "text": [
      "Insgesamt gibt es 48318 Lieder, welche über ein erwünschtes und ein unerwünschtes Genre verfügen.\n"
     ]
    }
   ],
   "source": [
    "print(f\"Insgesamt gibt es {occ_unwanted_and_wanted_df.shape[0]} Lieder, welche über ein erwünschtes und ein unerwünschtes Genre verfügen.\")"
   ]
  },
  {
   "cell_type": "code",
   "execution_count": 97,
   "metadata": {},
   "outputs": [
    {
     "name": "stdout",
     "output_type": "stream",
     "text": [
      "Hierbei gibt es 582 verschiedene Kombinationen der Genres.\n"
     ]
    }
   ],
   "source": [
    "print(f\"Hierbei gibt es {len(list(occ_unwanted_and_wanted_df.genres.astype(str).unique()))} verschiedene Kombinationen der Genres.\")"
   ]
  },
  {
   "cell_type": "markdown",
   "metadata": {},
   "source": [
    "## Visualisierung Kombination"
   ]
  },
  {
   "cell_type": "markdown",
   "metadata": {},
   "source": [
    "Es werden alle Songs entfernt, welche mindestens ein unerwünschtes Feature beinhalten."
   ]
  },
  {
   "cell_type": "code",
   "execution_count": 98,
   "metadata": {},
   "outputs": [],
   "source": [
    "by_isrc_sub = by_isrc.copy()\n",
    "by_isrc_sub = by_isrc_sub[['isrc', 'genres']]\n",
    "by_isrc_sub = by_isrc_sub[~by_isrc_sub['genres'].str.contains('|'.join(unwanted_genres))]\n",
    "by_isrc_sub['genres'] = by_isrc_sub['genres'].apply(literal_eval)"
   ]
  },
  {
   "cell_type": "markdown",
   "metadata": {},
   "source": [
    "Das neu entstandene DataFrame soll nun mit dem bereits auf die wichtigen Länder reduzierten DataFrame gemerged werden."
   ]
  },
  {
   "cell_type": "code",
   "execution_count": 215,
   "metadata": {},
   "outputs": [],
   "source": [
    "#reduced_isrc.drop(columns=\"genres\", inplace=True)"
   ]
  },
  {
   "cell_type": "code",
   "execution_count": 99,
   "metadata": {},
   "outputs": [
    {
     "data": {
      "text/plain": [
       "((251101, 27), (220702, 2))"
      ]
     },
     "execution_count": 99,
     "metadata": {},
     "output_type": "execute_result"
    }
   ],
   "source": [
    "reduced_isrc.shape, by_isrc_sub.shape"
   ]
  },
  {
   "cell_type": "code",
   "execution_count": 100,
   "metadata": {},
   "outputs": [],
   "source": [
    "reduced_isrc = reduced_isrc.merge(by_isrc_sub[[\"isrc\"]], how=\"inner\", on=\"isrc\")"
   ]
  },
  {
   "cell_type": "code",
   "execution_count": 101,
   "metadata": {},
   "outputs": [
    {
     "name": "stdout",
     "output_type": "stream",
     "text": [
      "Die Anzahl der Songs hat sich weiter auf 139629 verringert. Die Anzahl der Features ist bei 27 geblieben.\n"
     ]
    }
   ],
   "source": [
    "print(f\"Die Anzahl der Songs hat sich weiter auf {reduced_isrc.shape[0]} verringert. Die Anzahl der Features ist bei {reduced_isrc.shape[1]} geblieben.\")"
   ]
  },
  {
   "cell_type": "code",
   "execution_count": 102,
   "metadata": {},
   "outputs": [
    {
     "data": {
      "text/html": [
       "<div>\n",
       "<style scoped>\n",
       "    .dataframe tbody tr th:only-of-type {\n",
       "        vertical-align: middle;\n",
       "    }\n",
       "\n",
       "    .dataframe tbody tr th {\n",
       "        vertical-align: top;\n",
       "    }\n",
       "\n",
       "    .dataframe thead th {\n",
       "        text-align: right;\n",
       "    }\n",
       "</style>\n",
       "<table border=\"1\" class=\"dataframe\">\n",
       "  <thead>\n",
       "    <tr style=\"text-align: right;\">\n",
       "      <th></th>\n",
       "      <th>genres</th>\n",
       "      <th>num</th>\n",
       "    </tr>\n",
       "  </thead>\n",
       "  <tbody>\n",
       "    <tr>\n",
       "      <th>61</th>\n",
       "      <td>rock</td>\n",
       "      <td>52805</td>\n",
       "    </tr>\n",
       "    <tr>\n",
       "      <th>51</th>\n",
       "      <td>pop</td>\n",
       "      <td>43525</td>\n",
       "    </tr>\n",
       "    <tr>\n",
       "      <th>56</th>\n",
       "      <td>punk</td>\n",
       "      <td>16552</td>\n",
       "    </tr>\n",
       "    <tr>\n",
       "      <th>14</th>\n",
       "      <td>country</td>\n",
       "      <td>12353</td>\n",
       "    </tr>\n",
       "    <tr>\n",
       "      <th>47</th>\n",
       "      <td>metal</td>\n",
       "      <td>11743</td>\n",
       "    </tr>\n",
       "    <tr>\n",
       "      <th>35</th>\n",
       "      <td>hard-rock</td>\n",
       "      <td>9228</td>\n",
       "    </tr>\n",
       "    <tr>\n",
       "      <th>29</th>\n",
       "      <td>german</td>\n",
       "      <td>8980</td>\n",
       "    </tr>\n",
       "    <tr>\n",
       "      <th>20</th>\n",
       "      <td>disco</td>\n",
       "      <td>8065</td>\n",
       "    </tr>\n",
       "    <tr>\n",
       "      <th>70</th>\n",
       "      <td>swedish</td>\n",
       "      <td>7964</td>\n",
       "    </tr>\n",
       "    <tr>\n",
       "      <th>68</th>\n",
       "      <td>soul</td>\n",
       "      <td>7289</td>\n",
       "    </tr>\n",
       "  </tbody>\n",
       "</table>\n",
       "</div>"
      ],
      "text/plain": [
       "       genres    num\n",
       "61       rock  52805\n",
       "51        pop  43525\n",
       "56       punk  16552\n",
       "14    country  12353\n",
       "47      metal  11743\n",
       "35  hard-rock   9228\n",
       "29     german   8980\n",
       "20      disco   8065\n",
       "70    swedish   7964\n",
       "68       soul   7289"
      ]
     },
     "execution_count": 102,
     "metadata": {},
     "output_type": "execute_result"
    }
   ],
   "source": [
    "important_genres = filter_important_genres(reduced_isrc)\n",
    "important_genres = important_genres.sort_values(\"num\", ascending=False)\n",
    "important_genres.head(10)"
   ]
  },
  {
   "cell_type": "code",
   "execution_count": 103,
   "metadata": {},
   "outputs": [
    {
     "data": {
      "application/vnd.plotly.v1+json": {
       "config": {
        "plotlyServerURL": "https://plot.ly"
       },
       "data": [
        {
         "alignmentgroup": "True",
         "hovertemplate": "genres=%{x}<br>num=%{y}<extra></extra>",
         "legendgroup": "",
         "marker": {
          "color": "#636efa",
          "pattern": {
           "shape": ""
          }
         },
         "name": "",
         "offsetgroup": "",
         "orientation": "v",
         "showlegend": false,
         "textposition": "auto",
         "type": "bar",
         "x": [
          "rock",
          "pop",
          "punk",
          "country",
          "metal",
          "hard-rock",
          "german",
          "disco",
          "swedish",
          "soul",
          "blues",
          "punk-rock",
          "synth-pop",
          "alternative",
          "british",
          "alt-rock",
          "funk",
          "hardcore",
          "singer-songwriter",
          "songwriter",
          "dance",
          "reggae",
          "indie",
          "r-n-b",
          "industrial",
          "hip-hop",
          "dub",
          "power-pop",
          "salsa",
          "goth"
         ],
         "xaxis": "x",
         "y": [
          52805,
          43525,
          16552,
          12353,
          11743,
          9228,
          8980,
          8065,
          7964,
          7289,
          7118,
          6372,
          6369,
          6126,
          6000,
          5847,
          5616,
          5138,
          3542,
          3539,
          3469,
          3376,
          3289,
          2783,
          2512,
          2247,
          2176,
          2174,
          1959,
          1822
         ],
         "yaxis": "y"
        }
       ],
       "layout": {
        "barmode": "relative",
        "height": 500,
        "legend": {
         "tracegroupgap": 0
        },
        "margin": {
         "t": 60
        },
        "template": {
         "data": {
          "bar": [
           {
            "error_x": {
             "color": "#f2f5fa"
            },
            "error_y": {
             "color": "#f2f5fa"
            },
            "marker": {
             "line": {
              "color": "rgb(17,17,17)",
              "width": 0.5
             },
             "pattern": {
              "fillmode": "overlay",
              "size": 10,
              "solidity": 0.2
             }
            },
            "type": "bar"
           }
          ],
          "barpolar": [
           {
            "marker": {
             "line": {
              "color": "rgb(17,17,17)",
              "width": 0.5
             },
             "pattern": {
              "fillmode": "overlay",
              "size": 10,
              "solidity": 0.2
             }
            },
            "type": "barpolar"
           }
          ],
          "carpet": [
           {
            "aaxis": {
             "endlinecolor": "#A2B1C6",
             "gridcolor": "#506784",
             "linecolor": "#506784",
             "minorgridcolor": "#506784",
             "startlinecolor": "#A2B1C6"
            },
            "baxis": {
             "endlinecolor": "#A2B1C6",
             "gridcolor": "#506784",
             "linecolor": "#506784",
             "minorgridcolor": "#506784",
             "startlinecolor": "#A2B1C6"
            },
            "type": "carpet"
           }
          ],
          "choropleth": [
           {
            "colorbar": {
             "outlinewidth": 0,
             "ticks": ""
            },
            "type": "choropleth"
           }
          ],
          "contour": [
           {
            "colorbar": {
             "outlinewidth": 0,
             "ticks": ""
            },
            "colorscale": [
             [
              0,
              "#0d0887"
             ],
             [
              0.1111111111111111,
              "#46039f"
             ],
             [
              0.2222222222222222,
              "#7201a8"
             ],
             [
              0.3333333333333333,
              "#9c179e"
             ],
             [
              0.4444444444444444,
              "#bd3786"
             ],
             [
              0.5555555555555556,
              "#d8576b"
             ],
             [
              0.6666666666666666,
              "#ed7953"
             ],
             [
              0.7777777777777778,
              "#fb9f3a"
             ],
             [
              0.8888888888888888,
              "#fdca26"
             ],
             [
              1,
              "#f0f921"
             ]
            ],
            "type": "contour"
           }
          ],
          "contourcarpet": [
           {
            "colorbar": {
             "outlinewidth": 0,
             "ticks": ""
            },
            "type": "contourcarpet"
           }
          ],
          "heatmap": [
           {
            "colorbar": {
             "outlinewidth": 0,
             "ticks": ""
            },
            "colorscale": [
             [
              0,
              "#0d0887"
             ],
             [
              0.1111111111111111,
              "#46039f"
             ],
             [
              0.2222222222222222,
              "#7201a8"
             ],
             [
              0.3333333333333333,
              "#9c179e"
             ],
             [
              0.4444444444444444,
              "#bd3786"
             ],
             [
              0.5555555555555556,
              "#d8576b"
             ],
             [
              0.6666666666666666,
              "#ed7953"
             ],
             [
              0.7777777777777778,
              "#fb9f3a"
             ],
             [
              0.8888888888888888,
              "#fdca26"
             ],
             [
              1,
              "#f0f921"
             ]
            ],
            "type": "heatmap"
           }
          ],
          "heatmapgl": [
           {
            "colorbar": {
             "outlinewidth": 0,
             "ticks": ""
            },
            "colorscale": [
             [
              0,
              "#0d0887"
             ],
             [
              0.1111111111111111,
              "#46039f"
             ],
             [
              0.2222222222222222,
              "#7201a8"
             ],
             [
              0.3333333333333333,
              "#9c179e"
             ],
             [
              0.4444444444444444,
              "#bd3786"
             ],
             [
              0.5555555555555556,
              "#d8576b"
             ],
             [
              0.6666666666666666,
              "#ed7953"
             ],
             [
              0.7777777777777778,
              "#fb9f3a"
             ],
             [
              0.8888888888888888,
              "#fdca26"
             ],
             [
              1,
              "#f0f921"
             ]
            ],
            "type": "heatmapgl"
           }
          ],
          "histogram": [
           {
            "marker": {
             "pattern": {
              "fillmode": "overlay",
              "size": 10,
              "solidity": 0.2
             }
            },
            "type": "histogram"
           }
          ],
          "histogram2d": [
           {
            "colorbar": {
             "outlinewidth": 0,
             "ticks": ""
            },
            "colorscale": [
             [
              0,
              "#0d0887"
             ],
             [
              0.1111111111111111,
              "#46039f"
             ],
             [
              0.2222222222222222,
              "#7201a8"
             ],
             [
              0.3333333333333333,
              "#9c179e"
             ],
             [
              0.4444444444444444,
              "#bd3786"
             ],
             [
              0.5555555555555556,
              "#d8576b"
             ],
             [
              0.6666666666666666,
              "#ed7953"
             ],
             [
              0.7777777777777778,
              "#fb9f3a"
             ],
             [
              0.8888888888888888,
              "#fdca26"
             ],
             [
              1,
              "#f0f921"
             ]
            ],
            "type": "histogram2d"
           }
          ],
          "histogram2dcontour": [
           {
            "colorbar": {
             "outlinewidth": 0,
             "ticks": ""
            },
            "colorscale": [
             [
              0,
              "#0d0887"
             ],
             [
              0.1111111111111111,
              "#46039f"
             ],
             [
              0.2222222222222222,
              "#7201a8"
             ],
             [
              0.3333333333333333,
              "#9c179e"
             ],
             [
              0.4444444444444444,
              "#bd3786"
             ],
             [
              0.5555555555555556,
              "#d8576b"
             ],
             [
              0.6666666666666666,
              "#ed7953"
             ],
             [
              0.7777777777777778,
              "#fb9f3a"
             ],
             [
              0.8888888888888888,
              "#fdca26"
             ],
             [
              1,
              "#f0f921"
             ]
            ],
            "type": "histogram2dcontour"
           }
          ],
          "mesh3d": [
           {
            "colorbar": {
             "outlinewidth": 0,
             "ticks": ""
            },
            "type": "mesh3d"
           }
          ],
          "parcoords": [
           {
            "line": {
             "colorbar": {
              "outlinewidth": 0,
              "ticks": ""
             }
            },
            "type": "parcoords"
           }
          ],
          "pie": [
           {
            "automargin": true,
            "type": "pie"
           }
          ],
          "scatter": [
           {
            "marker": {
             "line": {
              "color": "#283442"
             }
            },
            "type": "scatter"
           }
          ],
          "scatter3d": [
           {
            "line": {
             "colorbar": {
              "outlinewidth": 0,
              "ticks": ""
             }
            },
            "marker": {
             "colorbar": {
              "outlinewidth": 0,
              "ticks": ""
             }
            },
            "type": "scatter3d"
           }
          ],
          "scattercarpet": [
           {
            "marker": {
             "colorbar": {
              "outlinewidth": 0,
              "ticks": ""
             }
            },
            "type": "scattercarpet"
           }
          ],
          "scattergeo": [
           {
            "marker": {
             "colorbar": {
              "outlinewidth": 0,
              "ticks": ""
             }
            },
            "type": "scattergeo"
           }
          ],
          "scattergl": [
           {
            "marker": {
             "line": {
              "color": "#283442"
             }
            },
            "type": "scattergl"
           }
          ],
          "scattermapbox": [
           {
            "marker": {
             "colorbar": {
              "outlinewidth": 0,
              "ticks": ""
             }
            },
            "type": "scattermapbox"
           }
          ],
          "scatterpolar": [
           {
            "marker": {
             "colorbar": {
              "outlinewidth": 0,
              "ticks": ""
             }
            },
            "type": "scatterpolar"
           }
          ],
          "scatterpolargl": [
           {
            "marker": {
             "colorbar": {
              "outlinewidth": 0,
              "ticks": ""
             }
            },
            "type": "scatterpolargl"
           }
          ],
          "scatterternary": [
           {
            "marker": {
             "colorbar": {
              "outlinewidth": 0,
              "ticks": ""
             }
            },
            "type": "scatterternary"
           }
          ],
          "surface": [
           {
            "colorbar": {
             "outlinewidth": 0,
             "ticks": ""
            },
            "colorscale": [
             [
              0,
              "#0d0887"
             ],
             [
              0.1111111111111111,
              "#46039f"
             ],
             [
              0.2222222222222222,
              "#7201a8"
             ],
             [
              0.3333333333333333,
              "#9c179e"
             ],
             [
              0.4444444444444444,
              "#bd3786"
             ],
             [
              0.5555555555555556,
              "#d8576b"
             ],
             [
              0.6666666666666666,
              "#ed7953"
             ],
             [
              0.7777777777777778,
              "#fb9f3a"
             ],
             [
              0.8888888888888888,
              "#fdca26"
             ],
             [
              1,
              "#f0f921"
             ]
            ],
            "type": "surface"
           }
          ],
          "table": [
           {
            "cells": {
             "fill": {
              "color": "#506784"
             },
             "line": {
              "color": "rgb(17,17,17)"
             }
            },
            "header": {
             "fill": {
              "color": "#2a3f5f"
             },
             "line": {
              "color": "rgb(17,17,17)"
             }
            },
            "type": "table"
           }
          ]
         },
         "layout": {
          "annotationdefaults": {
           "arrowcolor": "#f2f5fa",
           "arrowhead": 0,
           "arrowwidth": 1
          },
          "autotypenumbers": "strict",
          "coloraxis": {
           "colorbar": {
            "outlinewidth": 0,
            "ticks": ""
           }
          },
          "colorscale": {
           "diverging": [
            [
             0,
             "#8e0152"
            ],
            [
             0.1,
             "#c51b7d"
            ],
            [
             0.2,
             "#de77ae"
            ],
            [
             0.3,
             "#f1b6da"
            ],
            [
             0.4,
             "#fde0ef"
            ],
            [
             0.5,
             "#f7f7f7"
            ],
            [
             0.6,
             "#e6f5d0"
            ],
            [
             0.7,
             "#b8e186"
            ],
            [
             0.8,
             "#7fbc41"
            ],
            [
             0.9,
             "#4d9221"
            ],
            [
             1,
             "#276419"
            ]
           ],
           "sequential": [
            [
             0,
             "#0d0887"
            ],
            [
             0.1111111111111111,
             "#46039f"
            ],
            [
             0.2222222222222222,
             "#7201a8"
            ],
            [
             0.3333333333333333,
             "#9c179e"
            ],
            [
             0.4444444444444444,
             "#bd3786"
            ],
            [
             0.5555555555555556,
             "#d8576b"
            ],
            [
             0.6666666666666666,
             "#ed7953"
            ],
            [
             0.7777777777777778,
             "#fb9f3a"
            ],
            [
             0.8888888888888888,
             "#fdca26"
            ],
            [
             1,
             "#f0f921"
            ]
           ],
           "sequentialminus": [
            [
             0,
             "#0d0887"
            ],
            [
             0.1111111111111111,
             "#46039f"
            ],
            [
             0.2222222222222222,
             "#7201a8"
            ],
            [
             0.3333333333333333,
             "#9c179e"
            ],
            [
             0.4444444444444444,
             "#bd3786"
            ],
            [
             0.5555555555555556,
             "#d8576b"
            ],
            [
             0.6666666666666666,
             "#ed7953"
            ],
            [
             0.7777777777777778,
             "#fb9f3a"
            ],
            [
             0.8888888888888888,
             "#fdca26"
            ],
            [
             1,
             "#f0f921"
            ]
           ]
          },
          "colorway": [
           "#636efa",
           "#EF553B",
           "#00cc96",
           "#ab63fa",
           "#FFA15A",
           "#19d3f3",
           "#FF6692",
           "#B6E880",
           "#FF97FF",
           "#FECB52"
          ],
          "font": {
           "color": "#f2f5fa"
          },
          "geo": {
           "bgcolor": "rgb(17,17,17)",
           "lakecolor": "rgb(17,17,17)",
           "landcolor": "rgb(17,17,17)",
           "showlakes": true,
           "showland": true,
           "subunitcolor": "#506784"
          },
          "hoverlabel": {
           "align": "left"
          },
          "hovermode": "closest",
          "mapbox": {
           "style": "dark"
          },
          "paper_bgcolor": "rgb(17,17,17)",
          "plot_bgcolor": "rgb(17,17,17)",
          "polar": {
           "angularaxis": {
            "gridcolor": "#506784",
            "linecolor": "#506784",
            "ticks": ""
           },
           "bgcolor": "rgb(17,17,17)",
           "radialaxis": {
            "gridcolor": "#506784",
            "linecolor": "#506784",
            "ticks": ""
           }
          },
          "scene": {
           "xaxis": {
            "backgroundcolor": "rgb(17,17,17)",
            "gridcolor": "#506784",
            "gridwidth": 2,
            "linecolor": "#506784",
            "showbackground": true,
            "ticks": "",
            "zerolinecolor": "#C8D4E3"
           },
           "yaxis": {
            "backgroundcolor": "rgb(17,17,17)",
            "gridcolor": "#506784",
            "gridwidth": 2,
            "linecolor": "#506784",
            "showbackground": true,
            "ticks": "",
            "zerolinecolor": "#C8D4E3"
           },
           "zaxis": {
            "backgroundcolor": "rgb(17,17,17)",
            "gridcolor": "#506784",
            "gridwidth": 2,
            "linecolor": "#506784",
            "showbackground": true,
            "ticks": "",
            "zerolinecolor": "#C8D4E3"
           }
          },
          "shapedefaults": {
           "line": {
            "color": "#f2f5fa"
           }
          },
          "sliderdefaults": {
           "bgcolor": "#C8D4E3",
           "bordercolor": "rgb(17,17,17)",
           "borderwidth": 1,
           "tickwidth": 0
          },
          "ternary": {
           "aaxis": {
            "gridcolor": "#506784",
            "linecolor": "#506784",
            "ticks": ""
           },
           "baxis": {
            "gridcolor": "#506784",
            "linecolor": "#506784",
            "ticks": ""
           },
           "bgcolor": "rgb(17,17,17)",
           "caxis": {
            "gridcolor": "#506784",
            "linecolor": "#506784",
            "ticks": ""
           }
          },
          "title": {
           "x": 0.05
          },
          "updatemenudefaults": {
           "bgcolor": "#506784",
           "borderwidth": 0
          },
          "xaxis": {
           "automargin": true,
           "gridcolor": "#283442",
           "linecolor": "#506784",
           "ticks": "",
           "title": {
            "standoff": 15
           },
           "zerolinecolor": "#283442",
           "zerolinewidth": 2
          },
          "yaxis": {
           "automargin": true,
           "gridcolor": "#283442",
           "linecolor": "#506784",
           "ticks": "",
           "title": {
            "standoff": 15
           },
           "zerolinecolor": "#283442",
           "zerolinewidth": 2
          }
         }
        },
        "title": {
         "text": "Veröffentlichte Songs pro Genre in den wichtigen Ländern (Top 30)"
        },
        "xaxis": {
         "anchor": "y",
         "domain": [
          0,
          1
         ],
         "title": {
          "text": "Genre"
         }
        },
        "yaxis": {
         "anchor": "x",
         "domain": [
          0,
          1
         ],
         "title": {
          "text": "Veröffentlichte Songs"
         }
        }
       }
      }
     },
     "metadata": {},
     "output_type": "display_data"
    }
   ],
   "source": [
    "fig = px.bar(important_genres[:30], x=\"genres\", y=\"num\", template=\"plotly_dark\")\n",
    "fig.update_layout(\n",
    "    height=500,\n",
    "    title=\"Veröffentlichte Songs pro Genre in den wichtigen Ländern (Top 30)\",\n",
    "    xaxis_title=\"Genre\",\n",
    "    yaxis_title=\"Veröffentlichte Songs\"\n",
    ")\n",
    "fig.show()"
   ]
  },
  {
   "cell_type": "code",
   "execution_count": 224,
   "metadata": {},
   "outputs": [],
   "source": [
    "#reduced_isrc.to_csv(f\"{PATH}/reduced_isrc.csv\")"
   ]
  },
  {
   "cell_type": "markdown",
   "metadata": {},
   "source": [
    "# Auffindbarkeiten"
   ]
  },
  {
   "cell_type": "markdown",
   "metadata": {},
   "source": [
    "## Experiment"
   ]
  },
  {
   "cell_type": "code",
   "execution_count": 5,
   "metadata": {},
   "outputs": [],
   "source": [
    "by_isrc = pd.read_csv(f\"{PATH}/reduced_isrc.csv\")"
   ]
  },
  {
   "cell_type": "code",
   "execution_count": 6,
   "metadata": {},
   "outputs": [],
   "source": [
    "@sleep_and_retry\n",
    "@limits(calls=60, period=30)\n",
    "def call_api():\n",
    "  return"
   ]
  },
  {
   "cell_type": "code",
   "execution_count": 7,
   "metadata": {},
   "outputs": [],
   "source": [
    "chart_power_df = pd.read_excel(f\"{PATH}/chart-power-scores_80s.xlsx\")\n",
    "chart_power_df = chart_power_df.applymap(lambda s: s.lower() if type(s) == str else s)\n",
    "chart_power_df = chart_power_df[['Song', 'Artist', 'Points']].groupby(['Song', 'Artist']).sum()\n",
    "chart_power_df.reset_index(inplace=True)"
   ]
  },
  {
   "cell_type": "code",
   "execution_count": 8,
   "metadata": {},
   "outputs": [],
   "source": [
    "if LOCAL:\n",
    "    from dotenv import load_dotenv\n",
    "    load_dotenv()\n",
    "    SPOTIFY_CLIENT_ID = os.environ.get(\"SPOTIFY_CLIENT_ID\")\n",
    "    SPOTIFY_CLIENT_SECRET = os.environ.get(\"SPOTIFY_CLIENT_SECRET\")\n",
    "else:\n",
    "    import colab_env\n",
    "    SPOTIFY_CLIENT_ID = os.getenv(\"SPOTIFY_CLIENT_ID\")\n",
    "    SPOTIFY_CLIENT_SECRET = os.getenv(\"SPOTIFY_CLIENT_SECRET\")"
   ]
  },
  {
   "cell_type": "code",
   "execution_count": 9,
   "metadata": {},
   "outputs": [],
   "source": [
    "client_credentials_manager = SpotifyClientCredentials(client_id=SPOTIFY_CLIENT_ID, client_secret=SPOTIFY_CLIENT_SECRET)\n",
    "sp = spotipy.Spotify(client_credentials_manager=client_credentials_manager)"
   ]
  },
  {
   "cell_type": "markdown",
   "metadata": {},
   "source": [
    "### Abfrage aller Lieder für Boney M.\n",
    "\n",
    "Boney M. ist einer der Künstler, welche in der erstellen Datenbank nicht vorkommen. Dieses Problem soll hier genauer untersucht werden. Hierfür sollen zunächst alle Lieder von Bony M. ohne weitere Filter abgefragt werden."
   ]
  },
  {
   "cell_type": "code",
   "execution_count": 10,
   "metadata": {},
   "outputs": [],
   "source": [
    "def query(year: int, offset: int):\n",
    "  res = sp.search(q=f\"artist:Boney M. year:{year}\", type=\"track\", limit=10, offset=offset, market=\"DE\")\n",
    "  if (len(res[\"tracks\"][\"items\"]) == 10):\n",
    "    return query(year, offset + 10)\n",
    "  return len(res[\"tracks\"][\"items\"]) + offset"
   ]
  },
  {
   "cell_type": "code",
   "execution_count": 12,
   "metadata": {},
   "outputs": [],
   "source": [
    "boney_songs = pd.DataFrame()\n",
    "for year in range(1980, 1990):\n",
    "  boney_songs = pd.concat([boney_songs, pd.DataFrame([[year, query(year, 0)]], columns=[\"year\", \"songs\"])])"
   ]
  },
  {
   "cell_type": "code",
   "execution_count": null,
   "metadata": {},
   "outputs": [
    {
     "data": {
      "application/vnd.plotly.v1+json": {
       "config": {
        "plotlyServerURL": "https://plot.ly"
       },
       "data": [
        {
         "alignmentgroup": "True",
         "hovertemplate": "year=%{x}<br>songs=%{y}<extra></extra>",
         "legendgroup": "",
         "marker": {
          "color": "#636efa",
          "pattern": {
           "shape": ""
          }
         },
         "name": "",
         "offsetgroup": "",
         "orientation": "v",
         "showlegend": false,
         "textposition": "auto",
         "type": "bar",
         "x": [
          1980,
          1981,
          1982,
          1983,
          1984,
          1985,
          1986,
          1987,
          1988,
          1989
         ],
         "xaxis": "x",
         "y": [
          0,
          44,
          0,
          0,
          45,
          10,
          0,
          0,
          2,
          32
         ],
         "yaxis": "y"
        }
       ],
       "layout": {
        "barmode": "relative",
        "height": 500,
        "legend": {
         "tracegroupgap": 0
        },
        "template": {
         "data": {
          "bar": [
           {
            "error_x": {
             "color": "#f2f5fa"
            },
            "error_y": {
             "color": "#f2f5fa"
            },
            "marker": {
             "line": {
              "color": "rgb(17,17,17)",
              "width": 0.5
             },
             "pattern": {
              "fillmode": "overlay",
              "size": 10,
              "solidity": 0.2
             }
            },
            "type": "bar"
           }
          ],
          "barpolar": [
           {
            "marker": {
             "line": {
              "color": "rgb(17,17,17)",
              "width": 0.5
             },
             "pattern": {
              "fillmode": "overlay",
              "size": 10,
              "solidity": 0.2
             }
            },
            "type": "barpolar"
           }
          ],
          "carpet": [
           {
            "aaxis": {
             "endlinecolor": "#A2B1C6",
             "gridcolor": "#506784",
             "linecolor": "#506784",
             "minorgridcolor": "#506784",
             "startlinecolor": "#A2B1C6"
            },
            "baxis": {
             "endlinecolor": "#A2B1C6",
             "gridcolor": "#506784",
             "linecolor": "#506784",
             "minorgridcolor": "#506784",
             "startlinecolor": "#A2B1C6"
            },
            "type": "carpet"
           }
          ],
          "choropleth": [
           {
            "colorbar": {
             "outlinewidth": 0,
             "ticks": ""
            },
            "type": "choropleth"
           }
          ],
          "contour": [
           {
            "colorbar": {
             "outlinewidth": 0,
             "ticks": ""
            },
            "colorscale": [
             [
              0,
              "#0d0887"
             ],
             [
              0.1111111111111111,
              "#46039f"
             ],
             [
              0.2222222222222222,
              "#7201a8"
             ],
             [
              0.3333333333333333,
              "#9c179e"
             ],
             [
              0.4444444444444444,
              "#bd3786"
             ],
             [
              0.5555555555555556,
              "#d8576b"
             ],
             [
              0.6666666666666666,
              "#ed7953"
             ],
             [
              0.7777777777777778,
              "#fb9f3a"
             ],
             [
              0.8888888888888888,
              "#fdca26"
             ],
             [
              1,
              "#f0f921"
             ]
            ],
            "type": "contour"
           }
          ],
          "contourcarpet": [
           {
            "colorbar": {
             "outlinewidth": 0,
             "ticks": ""
            },
            "type": "contourcarpet"
           }
          ],
          "heatmap": [
           {
            "colorbar": {
             "outlinewidth": 0,
             "ticks": ""
            },
            "colorscale": [
             [
              0,
              "#0d0887"
             ],
             [
              0.1111111111111111,
              "#46039f"
             ],
             [
              0.2222222222222222,
              "#7201a8"
             ],
             [
              0.3333333333333333,
              "#9c179e"
             ],
             [
              0.4444444444444444,
              "#bd3786"
             ],
             [
              0.5555555555555556,
              "#d8576b"
             ],
             [
              0.6666666666666666,
              "#ed7953"
             ],
             [
              0.7777777777777778,
              "#fb9f3a"
             ],
             [
              0.8888888888888888,
              "#fdca26"
             ],
             [
              1,
              "#f0f921"
             ]
            ],
            "type": "heatmap"
           }
          ],
          "heatmapgl": [
           {
            "colorbar": {
             "outlinewidth": 0,
             "ticks": ""
            },
            "colorscale": [
             [
              0,
              "#0d0887"
             ],
             [
              0.1111111111111111,
              "#46039f"
             ],
             [
              0.2222222222222222,
              "#7201a8"
             ],
             [
              0.3333333333333333,
              "#9c179e"
             ],
             [
              0.4444444444444444,
              "#bd3786"
             ],
             [
              0.5555555555555556,
              "#d8576b"
             ],
             [
              0.6666666666666666,
              "#ed7953"
             ],
             [
              0.7777777777777778,
              "#fb9f3a"
             ],
             [
              0.8888888888888888,
              "#fdca26"
             ],
             [
              1,
              "#f0f921"
             ]
            ],
            "type": "heatmapgl"
           }
          ],
          "histogram": [
           {
            "marker": {
             "pattern": {
              "fillmode": "overlay",
              "size": 10,
              "solidity": 0.2
             }
            },
            "type": "histogram"
           }
          ],
          "histogram2d": [
           {
            "colorbar": {
             "outlinewidth": 0,
             "ticks": ""
            },
            "colorscale": [
             [
              0,
              "#0d0887"
             ],
             [
              0.1111111111111111,
              "#46039f"
             ],
             [
              0.2222222222222222,
              "#7201a8"
             ],
             [
              0.3333333333333333,
              "#9c179e"
             ],
             [
              0.4444444444444444,
              "#bd3786"
             ],
             [
              0.5555555555555556,
              "#d8576b"
             ],
             [
              0.6666666666666666,
              "#ed7953"
             ],
             [
              0.7777777777777778,
              "#fb9f3a"
             ],
             [
              0.8888888888888888,
              "#fdca26"
             ],
             [
              1,
              "#f0f921"
             ]
            ],
            "type": "histogram2d"
           }
          ],
          "histogram2dcontour": [
           {
            "colorbar": {
             "outlinewidth": 0,
             "ticks": ""
            },
            "colorscale": [
             [
              0,
              "#0d0887"
             ],
             [
              0.1111111111111111,
              "#46039f"
             ],
             [
              0.2222222222222222,
              "#7201a8"
             ],
             [
              0.3333333333333333,
              "#9c179e"
             ],
             [
              0.4444444444444444,
              "#bd3786"
             ],
             [
              0.5555555555555556,
              "#d8576b"
             ],
             [
              0.6666666666666666,
              "#ed7953"
             ],
             [
              0.7777777777777778,
              "#fb9f3a"
             ],
             [
              0.8888888888888888,
              "#fdca26"
             ],
             [
              1,
              "#f0f921"
             ]
            ],
            "type": "histogram2dcontour"
           }
          ],
          "mesh3d": [
           {
            "colorbar": {
             "outlinewidth": 0,
             "ticks": ""
            },
            "type": "mesh3d"
           }
          ],
          "parcoords": [
           {
            "line": {
             "colorbar": {
              "outlinewidth": 0,
              "ticks": ""
             }
            },
            "type": "parcoords"
           }
          ],
          "pie": [
           {
            "automargin": true,
            "type": "pie"
           }
          ],
          "scatter": [
           {
            "marker": {
             "line": {
              "color": "#283442"
             }
            },
            "type": "scatter"
           }
          ],
          "scatter3d": [
           {
            "line": {
             "colorbar": {
              "outlinewidth": 0,
              "ticks": ""
             }
            },
            "marker": {
             "colorbar": {
              "outlinewidth": 0,
              "ticks": ""
             }
            },
            "type": "scatter3d"
           }
          ],
          "scattercarpet": [
           {
            "marker": {
             "colorbar": {
              "outlinewidth": 0,
              "ticks": ""
             }
            },
            "type": "scattercarpet"
           }
          ],
          "scattergeo": [
           {
            "marker": {
             "colorbar": {
              "outlinewidth": 0,
              "ticks": ""
             }
            },
            "type": "scattergeo"
           }
          ],
          "scattergl": [
           {
            "marker": {
             "line": {
              "color": "#283442"
             }
            },
            "type": "scattergl"
           }
          ],
          "scattermapbox": [
           {
            "marker": {
             "colorbar": {
              "outlinewidth": 0,
              "ticks": ""
             }
            },
            "type": "scattermapbox"
           }
          ],
          "scatterpolar": [
           {
            "marker": {
             "colorbar": {
              "outlinewidth": 0,
              "ticks": ""
             }
            },
            "type": "scatterpolar"
           }
          ],
          "scatterpolargl": [
           {
            "marker": {
             "colorbar": {
              "outlinewidth": 0,
              "ticks": ""
             }
            },
            "type": "scatterpolargl"
           }
          ],
          "scatterternary": [
           {
            "marker": {
             "colorbar": {
              "outlinewidth": 0,
              "ticks": ""
             }
            },
            "type": "scatterternary"
           }
          ],
          "surface": [
           {
            "colorbar": {
             "outlinewidth": 0,
             "ticks": ""
            },
            "colorscale": [
             [
              0,
              "#0d0887"
             ],
             [
              0.1111111111111111,
              "#46039f"
             ],
             [
              0.2222222222222222,
              "#7201a8"
             ],
             [
              0.3333333333333333,
              "#9c179e"
             ],
             [
              0.4444444444444444,
              "#bd3786"
             ],
             [
              0.5555555555555556,
              "#d8576b"
             ],
             [
              0.6666666666666666,
              "#ed7953"
             ],
             [
              0.7777777777777778,
              "#fb9f3a"
             ],
             [
              0.8888888888888888,
              "#fdca26"
             ],
             [
              1,
              "#f0f921"
             ]
            ],
            "type": "surface"
           }
          ],
          "table": [
           {
            "cells": {
             "fill": {
              "color": "#506784"
             },
             "line": {
              "color": "rgb(17,17,17)"
             }
            },
            "header": {
             "fill": {
              "color": "#2a3f5f"
             },
             "line": {
              "color": "rgb(17,17,17)"
             }
            },
            "type": "table"
           }
          ]
         },
         "layout": {
          "annotationdefaults": {
           "arrowcolor": "#f2f5fa",
           "arrowhead": 0,
           "arrowwidth": 1
          },
          "autotypenumbers": "strict",
          "coloraxis": {
           "colorbar": {
            "outlinewidth": 0,
            "ticks": ""
           }
          },
          "colorscale": {
           "diverging": [
            [
             0,
             "#8e0152"
            ],
            [
             0.1,
             "#c51b7d"
            ],
            [
             0.2,
             "#de77ae"
            ],
            [
             0.3,
             "#f1b6da"
            ],
            [
             0.4,
             "#fde0ef"
            ],
            [
             0.5,
             "#f7f7f7"
            ],
            [
             0.6,
             "#e6f5d0"
            ],
            [
             0.7,
             "#b8e186"
            ],
            [
             0.8,
             "#7fbc41"
            ],
            [
             0.9,
             "#4d9221"
            ],
            [
             1,
             "#276419"
            ]
           ],
           "sequential": [
            [
             0,
             "#0d0887"
            ],
            [
             0.1111111111111111,
             "#46039f"
            ],
            [
             0.2222222222222222,
             "#7201a8"
            ],
            [
             0.3333333333333333,
             "#9c179e"
            ],
            [
             0.4444444444444444,
             "#bd3786"
            ],
            [
             0.5555555555555556,
             "#d8576b"
            ],
            [
             0.6666666666666666,
             "#ed7953"
            ],
            [
             0.7777777777777778,
             "#fb9f3a"
            ],
            [
             0.8888888888888888,
             "#fdca26"
            ],
            [
             1,
             "#f0f921"
            ]
           ],
           "sequentialminus": [
            [
             0,
             "#0d0887"
            ],
            [
             0.1111111111111111,
             "#46039f"
            ],
            [
             0.2222222222222222,
             "#7201a8"
            ],
            [
             0.3333333333333333,
             "#9c179e"
            ],
            [
             0.4444444444444444,
             "#bd3786"
            ],
            [
             0.5555555555555556,
             "#d8576b"
            ],
            [
             0.6666666666666666,
             "#ed7953"
            ],
            [
             0.7777777777777778,
             "#fb9f3a"
            ],
            [
             0.8888888888888888,
             "#fdca26"
            ],
            [
             1,
             "#f0f921"
            ]
           ]
          },
          "colorway": [
           "#636efa",
           "#EF553B",
           "#00cc96",
           "#ab63fa",
           "#FFA15A",
           "#19d3f3",
           "#FF6692",
           "#B6E880",
           "#FF97FF",
           "#FECB52"
          ],
          "font": {
           "color": "#f2f5fa"
          },
          "geo": {
           "bgcolor": "rgb(17,17,17)",
           "lakecolor": "rgb(17,17,17)",
           "landcolor": "rgb(17,17,17)",
           "showlakes": true,
           "showland": true,
           "subunitcolor": "#506784"
          },
          "hoverlabel": {
           "align": "left"
          },
          "hovermode": "closest",
          "mapbox": {
           "style": "dark"
          },
          "paper_bgcolor": "rgb(17,17,17)",
          "plot_bgcolor": "rgb(17,17,17)",
          "polar": {
           "angularaxis": {
            "gridcolor": "#506784",
            "linecolor": "#506784",
            "ticks": ""
           },
           "bgcolor": "rgb(17,17,17)",
           "radialaxis": {
            "gridcolor": "#506784",
            "linecolor": "#506784",
            "ticks": ""
           }
          },
          "scene": {
           "xaxis": {
            "backgroundcolor": "rgb(17,17,17)",
            "gridcolor": "#506784",
            "gridwidth": 2,
            "linecolor": "#506784",
            "showbackground": true,
            "ticks": "",
            "zerolinecolor": "#C8D4E3"
           },
           "yaxis": {
            "backgroundcolor": "rgb(17,17,17)",
            "gridcolor": "#506784",
            "gridwidth": 2,
            "linecolor": "#506784",
            "showbackground": true,
            "ticks": "",
            "zerolinecolor": "#C8D4E3"
           },
           "zaxis": {
            "backgroundcolor": "rgb(17,17,17)",
            "gridcolor": "#506784",
            "gridwidth": 2,
            "linecolor": "#506784",
            "showbackground": true,
            "ticks": "",
            "zerolinecolor": "#C8D4E3"
           }
          },
          "shapedefaults": {
           "line": {
            "color": "#f2f5fa"
           }
          },
          "sliderdefaults": {
           "bgcolor": "#C8D4E3",
           "bordercolor": "rgb(17,17,17)",
           "borderwidth": 1,
           "tickwidth": 0
          },
          "ternary": {
           "aaxis": {
            "gridcolor": "#506784",
            "linecolor": "#506784",
            "ticks": ""
           },
           "baxis": {
            "gridcolor": "#506784",
            "linecolor": "#506784",
            "ticks": ""
           },
           "bgcolor": "rgb(17,17,17)",
           "caxis": {
            "gridcolor": "#506784",
            "linecolor": "#506784",
            "ticks": ""
           }
          },
          "title": {
           "x": 0.05
          },
          "updatemenudefaults": {
           "bgcolor": "#506784",
           "borderwidth": 0
          },
          "xaxis": {
           "automargin": true,
           "gridcolor": "#283442",
           "linecolor": "#506784",
           "ticks": "",
           "title": {
            "standoff": 15
           },
           "zerolinecolor": "#283442",
           "zerolinewidth": 2
          },
          "yaxis": {
           "automargin": true,
           "gridcolor": "#283442",
           "linecolor": "#506784",
           "ticks": "",
           "title": {
            "standoff": 15
           },
           "zerolinecolor": "#283442",
           "zerolinewidth": 2
          }
         }
        },
        "title": {
         "text": "Songs veröffentlich von Boney M. in den 80er Jahren"
        },
        "xaxis": {
         "anchor": "y",
         "domain": [
          0,
          1
         ],
         "title": {
          "text": "Jahr"
         }
        },
        "yaxis": {
         "anchor": "x",
         "domain": [
          0,
          1
         ],
         "title": {
          "text": "Veröffentlichte Songs"
         }
        }
       }
      }
     },
     "metadata": {},
     "output_type": "display_data"
    }
   ],
   "source": [
    "fig = px.bar(boney_songs, x=\"year\", y=\"songs\", title=\"Songs veröffentlich von Boney M. in den 80er Jahren\")\n",
    "fig.update_layout(\n",
    "    height=500,\n",
    "    template='plotly_dark',\n",
    "    xaxis_title=\"Jahr\",\n",
    "    yaxis_title=\"Veröffentlichte Songs\"\n",
    ")\n",
    "fig.show()"
   ]
  },
  {
   "cell_type": "markdown",
   "metadata": {},
   "source": [
    "Wie in der oberen Abbildung sichtbar wird, wurden sehr wohl Lieder für Boney M. veröffentlicht. Einige davon auch in der 80er Jahren."
   ]
  },
  {
   "cell_type": "markdown",
   "metadata": {},
   "source": [
    "#### Einbauen des Genres in die query\n",
    "\n",
    "Im nächsten Schritt sollen die Lieder für Boney M. mit den Filtern year und genre erfragt werden."
   ]
  },
  {
   "cell_type": "code",
   "execution_count": 111,
   "metadata": {},
   "outputs": [],
   "source": [
    "def genre_query(artist: str, year: int, offset:int, genres):\n",
    "  for genre in genres:\n",
    "    call_api()\n",
    "    res = sp.search(q=f\"artist:{artist} year:{year} genre:{genre}\", type=\"track\", limit=50, offset=offset, market=\"DE\")\n",
    "    if (len(res[\"tracks\"][\"items\"] ) > 1):\n",
    "      print(year, genre)\n",
    "      #print(res)"
   ]
  },
  {
   "cell_type": "code",
   "execution_count": 112,
   "metadata": {},
   "outputs": [],
   "source": [
    "def test_genre_query(artist: str):\n",
    "  genres = sp.recommendation_genre_seeds()['genres']\n",
    "  for year in range(1980, 1990):\n",
    "    print(year)\n",
    "    genre_query(artist, year, 0, genres)"
   ]
  },
  {
   "cell_type": "code",
   "execution_count": 114,
   "metadata": {},
   "outputs": [
    {
     "name": "stdout",
     "output_type": "stream",
     "text": [
      "1980\n",
      "1981\n",
      "1982\n",
      "1983\n",
      "1984\n",
      "1985\n",
      "1986\n",
      "1987\n",
      "1988\n",
      "1989\n"
     ]
    }
   ],
   "source": [
    "test_genre_query(\"Boney M.\")"
   ]
  },
  {
   "cell_type": "markdown",
   "metadata": {},
   "source": [
    "Es existieren keine Songs für Boney M. wenn ein Genre in der Abfrage spezifiziert wird. Eventuell sind die Genres das Problem für die fehlenden Daten."
   ]
  },
  {
   "cell_type": "markdown",
   "metadata": {},
   "source": [
    "#### Abfrage nach dem Künstler Elton John.\n",
    "\n",
    "Dasselbe soll auch für Elton John geschehen. Dies ist ein Künstler der in der Datenbank vorkommt und somit auch ein Genre zugewiesen bekommen sollte."
   ]
  },
  {
   "cell_type": "code",
   "execution_count": 115,
   "metadata": {},
   "outputs": [
    {
     "name": "stdout",
     "output_type": "stream",
     "text": [
      "1980\n",
      "1980 piano\n",
      "1980 rock\n",
      "1981\n",
      "1981 piano\n",
      "1981 rock\n",
      "1982\n",
      "1982 piano\n",
      "1982 rock\n",
      "1983\n",
      "1983 piano\n",
      "1983 rock\n",
      "1984\n",
      "1984 piano\n",
      "1984 rock\n",
      "1985\n",
      "1985 piano\n",
      "1985 rock\n",
      "1986\n",
      "1986 piano\n",
      "1986 rock\n",
      "1987\n",
      "1988\n",
      "1988 piano\n",
      "1988 rock\n",
      "1989\n",
      "1989 piano\n",
      "1989 rock\n"
     ]
    }
   ],
   "source": [
    "test_genre_query(\"Elton John\")"
   ]
  },
  {
   "cell_type": "markdown",
   "metadata": {},
   "source": [
    "Für Elton John existieren Genres. Im nächsten Schritt soll überprüft werden, ob die Genres auch in dem Response der Spotify API wiedergefunden wird."
   ]
  },
  {
   "cell_type": "code",
   "execution_count": null,
   "metadata": {},
   "outputs": [
    {
     "name": "stdout",
     "output_type": "stream",
     "text": [
      "dict_keys(['external_urls', 'href', 'id', 'name', 'type', 'uri'])\n",
      "dict_keys(['external_urls', 'href', 'id', 'name', 'type', 'uri'])\n",
      "dict_keys(['external_urls', 'href', 'id', 'name', 'type', 'uri'])\n",
      "dict_keys(['external_urls', 'href', 'id', 'name', 'type', 'uri'])\n",
      "dict_keys(['external_urls', 'href', 'id', 'name', 'type', 'uri'])\n",
      "dict_keys(['external_urls', 'href', 'id', 'name', 'type', 'uri'])\n",
      "dict_keys(['external_urls', 'href', 'id', 'name', 'type', 'uri'])\n",
      "dict_keys(['external_urls', 'href', 'id', 'name', 'type', 'uri'])\n",
      "dict_keys(['external_urls', 'href', 'id', 'name', 'type', 'uri'])\n",
      "dict_keys(['external_urls', 'href', 'id', 'name', 'type', 'uri'])\n",
      "dict_keys(['external_urls', 'href', 'id', 'name', 'type', 'uri'])\n",
      "dict_keys(['external_urls', 'href', 'id', 'name', 'type', 'uri'])\n",
      "dict_keys(['external_urls', 'href', 'id', 'name', 'type', 'uri'])\n",
      "dict_keys(['external_urls', 'href', 'id', 'name', 'type', 'uri'])\n",
      "dict_keys(['external_urls', 'href', 'id', 'name', 'type', 'uri'])\n",
      "dict_keys(['external_urls', 'href', 'id', 'name', 'type', 'uri'])\n",
      "dict_keys(['external_urls', 'href', 'id', 'name', 'type', 'uri'])\n",
      "dict_keys(['external_urls', 'href', 'id', 'name', 'type', 'uri'])\n",
      "dict_keys(['external_urls', 'href', 'id', 'name', 'type', 'uri'])\n",
      "dict_keys(['external_urls', 'href', 'id', 'name', 'type', 'uri'])\n",
      "dict_keys(['external_urls', 'href', 'id', 'name', 'type', 'uri'])\n",
      "dict_keys(['external_urls', 'href', 'id', 'name', 'type', 'uri'])\n",
      "dict_keys(['external_urls', 'href', 'id', 'name', 'type', 'uri'])\n",
      "dict_keys(['external_urls', 'href', 'id', 'name', 'type', 'uri'])\n",
      "dict_keys(['external_urls', 'href', 'id', 'name', 'type', 'uri'])\n",
      "dict_keys(['external_urls', 'href', 'id', 'name', 'type', 'uri'])\n",
      "dict_keys(['external_urls', 'href', 'id', 'name', 'type', 'uri'])\n",
      "dict_keys(['external_urls', 'href', 'id', 'name', 'type', 'uri'])\n",
      "dict_keys(['external_urls', 'href', 'id', 'name', 'type', 'uri'])\n",
      "dict_keys(['external_urls', 'href', 'id', 'name', 'type', 'uri'])\n",
      "dict_keys(['external_urls', 'href', 'id', 'name', 'type', 'uri'])\n",
      "dict_keys(['external_urls', 'href', 'id', 'name', 'type', 'uri'])\n",
      "dict_keys(['external_urls', 'href', 'id', 'name', 'type', 'uri'])\n",
      "dict_keys(['external_urls', 'href', 'id', 'name', 'type', 'uri'])\n",
      "dict_keys(['external_urls', 'href', 'id', 'name', 'type', 'uri'])\n",
      "dict_keys(['external_urls', 'href', 'id', 'name', 'type', 'uri'])\n",
      "dict_keys(['external_urls', 'href', 'id', 'name', 'type', 'uri'])\n",
      "dict_keys(['external_urls', 'href', 'id', 'name', 'type', 'uri'])\n",
      "dict_keys(['external_urls', 'href', 'id', 'name', 'type', 'uri'])\n",
      "dict_keys(['external_urls', 'href', 'id', 'name', 'type', 'uri'])\n",
      "dict_keys(['external_urls', 'href', 'id', 'name', 'type', 'uri'])\n",
      "dict_keys(['external_urls', 'href', 'id', 'name', 'type', 'uri'])\n",
      "dict_keys(['external_urls', 'href', 'id', 'name', 'type', 'uri'])\n",
      "dict_keys(['external_urls', 'href', 'id', 'name', 'type', 'uri'])\n",
      "dict_keys(['external_urls', 'href', 'id', 'name', 'type', 'uri'])\n",
      "dict_keys(['external_urls', 'href', 'id', 'name', 'type', 'uri'])\n",
      "dict_keys(['external_urls', 'href', 'id', 'name', 'type', 'uri'])\n",
      "dict_keys(['external_urls', 'href', 'id', 'name', 'type', 'uri'])\n",
      "dict_keys(['external_urls', 'href', 'id', 'name', 'type', 'uri'])\n",
      "dict_keys(['external_urls', 'href', 'id', 'name', 'type', 'uri'])\n",
      "dict_keys(['external_urls', 'href', 'id', 'name', 'type', 'uri'])\n",
      "dict_keys(['external_urls', 'href', 'id', 'name', 'type', 'uri'])\n",
      "dict_keys(['external_urls', 'href', 'id', 'name', 'type', 'uri'])\n",
      "dict_keys(['external_urls', 'href', 'id', 'name', 'type', 'uri'])\n",
      "dict_keys(['external_urls', 'href', 'id', 'name', 'type', 'uri'])\n",
      "dict_keys(['external_urls', 'href', 'id', 'name', 'type', 'uri'])\n",
      "dict_keys(['external_urls', 'href', 'id', 'name', 'type', 'uri'])\n",
      "dict_keys(['external_urls', 'href', 'id', 'name', 'type', 'uri'])\n",
      "dict_keys(['external_urls', 'href', 'id', 'name', 'type', 'uri'])\n",
      "dict_keys(['external_urls', 'href', 'id', 'name', 'type', 'uri'])\n",
      "dict_keys(['external_urls', 'href', 'id', 'name', 'type', 'uri'])\n",
      "dict_keys(['external_urls', 'href', 'id', 'name', 'type', 'uri'])\n",
      "dict_keys(['external_urls', 'href', 'id', 'name', 'type', 'uri'])\n",
      "dict_keys(['external_urls', 'href', 'id', 'name', 'type', 'uri'])\n",
      "dict_keys(['external_urls', 'href', 'id', 'name', 'type', 'uri'])\n",
      "dict_keys(['external_urls', 'href', 'id', 'name', 'type', 'uri'])\n",
      "dict_keys(['external_urls', 'href', 'id', 'name', 'type', 'uri'])\n",
      "dict_keys(['external_urls', 'href', 'id', 'name', 'type', 'uri'])\n",
      "dict_keys(['external_urls', 'href', 'id', 'name', 'type', 'uri'])\n",
      "dict_keys(['external_urls', 'href', 'id', 'name', 'type', 'uri'])\n",
      "dict_keys(['external_urls', 'href', 'id', 'name', 'type', 'uri'])\n",
      "dict_keys(['external_urls', 'href', 'id', 'name', 'type', 'uri'])\n",
      "dict_keys(['external_urls', 'href', 'id', 'name', 'type', 'uri'])\n",
      "dict_keys(['external_urls', 'href', 'id', 'name', 'type', 'uri'])\n",
      "dict_keys(['external_urls', 'href', 'id', 'name', 'type', 'uri'])\n",
      "dict_keys(['external_urls', 'href', 'id', 'name', 'type', 'uri'])\n",
      "dict_keys(['external_urls', 'href', 'id', 'name', 'type', 'uri'])\n",
      "dict_keys(['external_urls', 'href', 'id', 'name', 'type', 'uri'])\n",
      "dict_keys(['external_urls', 'href', 'id', 'name', 'type', 'uri'])\n",
      "dict_keys(['external_urls', 'href', 'id', 'name', 'type', 'uri'])\n",
      "dict_keys(['external_urls', 'href', 'id', 'name', 'type', 'uri'])\n",
      "dict_keys(['external_urls', 'href', 'id', 'name', 'type', 'uri'])\n",
      "dict_keys(['external_urls', 'href', 'id', 'name', 'type', 'uri'])\n",
      "dict_keys(['external_urls', 'href', 'id', 'name', 'type', 'uri'])\n",
      "dict_keys(['external_urls', 'href', 'id', 'name', 'type', 'uri'])\n",
      "dict_keys(['external_urls', 'href', 'id', 'name', 'type', 'uri'])\n",
      "dict_keys(['external_urls', 'href', 'id', 'name', 'type', 'uri'])\n"
     ]
    }
   ],
   "source": [
    "res = sp.search(q=\"artist:Elton John\", type=\"track\", market=\"DE\", limit=50, offset=0)\n",
    "res = res[\"tracks\"]\n",
    "if \"items\" in res:\n",
    "  for item in res[\"items\"]:\n",
    "    if \"artists\" in item:\n",
    "      #print(item[\"artists\"][\"genres\"] if \"genres\" in item[\"artists\"] else print(\"No genres available!\"))\n",
    "      #print(item[\"artists\"])\n",
    "      for artist in item[\"artists\"]:\n",
    "        print(artist[\"genres\"] if \"genres\" in artist else artist.keys())\n",
    "    else:\n",
    "      print(\"No artists in item\")\n",
    "else:\n",
    "  print(\"No items in res\")\n",
    "  print(res.keys())\n"
   ]
  },
  {
   "cell_type": "markdown",
   "metadata": {},
   "source": [
    "Die Spotify gibt auch für Künstler die ein Genre zugewiesen bekommen haben kein Genre zurück. Laut API sollte es ein weiteres Attribut `genres` geben."
   ]
  },
  {
   "cell_type": "markdown",
   "metadata": {},
   "source": [
    "Aufgrund dieser Ergebnisse werden bei den folgenden Abfragen der Lieder aus den Charts die Genres zunächst vernachlässigt."
   ]
  },
  {
   "cell_type": "markdown",
   "metadata": {},
   "source": [
    "#### Preprocessing"
   ]
  },
  {
   "cell_type": "markdown",
   "metadata": {},
   "source": [
    "Wenn mehrere Künstler zusammen einen Song veröffentlich haben, sind diese hier mit einem `&` getrennt. Dies muss zunächst aufgelöst werden."
   ]
  },
  {
   "cell_type": "code",
   "execution_count": 13,
   "metadata": {},
   "outputs": [],
   "source": [
    "chart_power_df[\"Artist\"] = chart_power_df[\"Artist\"].str.split(\" & \")\n",
    "chart_power_df_explode = chart_power_df.explode(\"Artist\", ignore_index=True)"
   ]
  },
  {
   "cell_type": "code",
   "execution_count": 14,
   "metadata": {},
   "outputs": [
    {
     "data": {
      "text/html": [
       "<div>\n",
       "<style scoped>\n",
       "    .dataframe tbody tr th:only-of-type {\n",
       "        vertical-align: middle;\n",
       "    }\n",
       "\n",
       "    .dataframe tbody tr th {\n",
       "        vertical-align: top;\n",
       "    }\n",
       "\n",
       "    .dataframe thead th {\n",
       "        text-align: right;\n",
       "    }\n",
       "</style>\n",
       "<table border=\"1\" class=\"dataframe\">\n",
       "  <thead>\n",
       "    <tr style=\"text-align: right;\">\n",
       "      <th></th>\n",
       "      <th>Song</th>\n",
       "      <th>Artist</th>\n",
       "      <th>Points</th>\n",
       "    </tr>\n",
       "  </thead>\n",
       "  <tbody>\n",
       "    <tr>\n",
       "      <th>0</th>\n",
       "      <td>19</td>\n",
       "      <td>paul hardcastle</td>\n",
       "      <td>1600</td>\n",
       "    </tr>\n",
       "    <tr>\n",
       "      <th>1</th>\n",
       "      <td>'cause you're young</td>\n",
       "      <td>c. c. catch</td>\n",
       "      <td>998</td>\n",
       "    </tr>\n",
       "    <tr>\n",
       "      <th>2</th>\n",
       "      <td>(carmen) danger in her eyes</td>\n",
       "      <td>deborah sasson</td>\n",
       "      <td>531</td>\n",
       "    </tr>\n",
       "    <tr>\n",
       "      <th>3</th>\n",
       "      <td>(carmen) danger in her eyes</td>\n",
       "      <td>mcl</td>\n",
       "      <td>531</td>\n",
       "    </tr>\n",
       "    <tr>\n",
       "      <th>4</th>\n",
       "      <td>(do) the hucklebuck</td>\n",
       "      <td>coast to coast</td>\n",
       "      <td>697</td>\n",
       "    </tr>\n",
       "    <tr>\n",
       "      <th>...</th>\n",
       "      <td>...</td>\n",
       "      <td>...</td>\n",
       "      <td>...</td>\n",
       "    </tr>\n",
       "    <tr>\n",
       "      <th>2022</th>\n",
       "      <td>zu spät</td>\n",
       "      <td>die ã„rzte</td>\n",
       "      <td>605</td>\n",
       "    </tr>\n",
       "    <tr>\n",
       "      <th>2023</th>\n",
       "      <td>zuppa romana</td>\n",
       "      <td>schrott nach 8</td>\n",
       "      <td>601</td>\n",
       "    </tr>\n",
       "    <tr>\n",
       "      <th>2024</th>\n",
       "      <td>â€¦ und ganz doll mich (ich mag)</td>\n",
       "      <td>rolf und seine freunde</td>\n",
       "      <td>1314</td>\n",
       "    </tr>\n",
       "    <tr>\n",
       "      <th>2025</th>\n",
       "      <td>über sieben brücken mußt du geh'n</td>\n",
       "      <td>karat</td>\n",
       "      <td>826</td>\n",
       "    </tr>\n",
       "    <tr>\n",
       "      <th>2026</th>\n",
       "      <td>über sieben brücken mußt du geh'n</td>\n",
       "      <td>peter maffay</td>\n",
       "      <td>1368</td>\n",
       "    </tr>\n",
       "  </tbody>\n",
       "</table>\n",
       "<p>2027 rows × 3 columns</p>\n",
       "</div>"
      ],
      "text/plain": [
       "                                   Song                  Artist  Points\n",
       "0                                    19         paul hardcastle    1600\n",
       "1                   'cause you're young             c. c. catch     998\n",
       "2           (carmen) danger in her eyes          deborah sasson     531\n",
       "3           (carmen) danger in her eyes                     mcl     531\n",
       "4                   (do) the hucklebuck          coast to coast     697\n",
       "...                                 ...                     ...     ...\n",
       "2022                            zu spät              die ã„rzte     605\n",
       "2023                       zuppa romana          schrott nach 8     601\n",
       "2024   â€¦ und ganz doll mich (ich mag)  rolf und seine freunde    1314\n",
       "2025  über sieben brücken mußt du geh'n                   karat     826\n",
       "2026  über sieben brücken mußt du geh'n            peter maffay    1368\n",
       "\n",
       "[2027 rows x 3 columns]"
      ]
     },
     "execution_count": 14,
     "metadata": {},
     "output_type": "execute_result"
    }
   ],
   "source": [
    "chart_power_df_explode"
   ]
  },
  {
   "cell_type": "markdown",
   "metadata": {},
   "source": [
    "Einige Künstler und Lieder enthalten zudem Umlaute, welche zunächst entsprechend formatiert werden müssen (z.B. `Die Ärzte` sind als `Die ã„rzte` gespeichert)."
   ]
  },
  {
   "cell_type": "code",
   "execution_count": 15,
   "metadata": {},
   "outputs": [],
   "source": [
    "replace = {\n",
    "    \"ã¶\": \"ö\",\n",
    "    \"ã„\": \"ä\",\n",
    "    \"ã–\": \"ö\",\n",
    "    \"ã©\": \"e\"\n",
    "}\n",
    "\n",
    "chart_power_df_explode[\"Song\"] = chart_power_df_explode[\"Song\"].replace(replace, regex=True)\n",
    "chart_power_df_explode[\"Artist\"] = chart_power_df_explode[\"Artist\"].replace(replace, regex=True)"
   ]
  },
  {
   "cell_type": "code",
   "execution_count": 16,
   "metadata": {},
   "outputs": [
    {
     "data": {
      "text/html": [
       "<div>\n",
       "<style scoped>\n",
       "    .dataframe tbody tr th:only-of-type {\n",
       "        vertical-align: middle;\n",
       "    }\n",
       "\n",
       "    .dataframe tbody tr th {\n",
       "        vertical-align: top;\n",
       "    }\n",
       "\n",
       "    .dataframe thead th {\n",
       "        text-align: right;\n",
       "    }\n",
       "</style>\n",
       "<table border=\"1\" class=\"dataframe\">\n",
       "  <thead>\n",
       "    <tr style=\"text-align: right;\">\n",
       "      <th></th>\n",
       "      <th>Song</th>\n",
       "      <th>Artist</th>\n",
       "      <th>Points</th>\n",
       "    </tr>\n",
       "  </thead>\n",
       "  <tbody>\n",
       "    <tr>\n",
       "      <th>2022</th>\n",
       "      <td>zu spät</td>\n",
       "      <td>die ärzte</td>\n",
       "      <td>605</td>\n",
       "    </tr>\n",
       "  </tbody>\n",
       "</table>\n",
       "</div>"
      ],
      "text/plain": [
       "         Song     Artist  Points\n",
       "2022  zu spät  die ärzte     605"
      ]
     },
     "execution_count": 16,
     "metadata": {},
     "output_type": "execute_result"
    }
   ],
   "source": [
    "chart_power_df_explode[chart_power_df_explode[\"Song\"] == \"zu spät\"]"
   ]
  },
  {
   "cell_type": "code",
   "execution_count": 17,
   "metadata": {},
   "outputs": [
    {
     "data": {
      "text/html": [
       "<div>\n",
       "<style scoped>\n",
       "    .dataframe tbody tr th:only-of-type {\n",
       "        vertical-align: middle;\n",
       "    }\n",
       "\n",
       "    .dataframe tbody tr th {\n",
       "        vertical-align: top;\n",
       "    }\n",
       "\n",
       "    .dataframe thead th {\n",
       "        text-align: right;\n",
       "    }\n",
       "</style>\n",
       "<table border=\"1\" class=\"dataframe\">\n",
       "  <thead>\n",
       "    <tr style=\"text-align: right;\">\n",
       "      <th></th>\n",
       "      <th>Song</th>\n",
       "      <th>Artist</th>\n",
       "      <th>Points</th>\n",
       "    </tr>\n",
       "  </thead>\n",
       "  <tbody>\n",
       "  </tbody>\n",
       "</table>\n",
       "</div>"
      ],
      "text/plain": [
       "Empty DataFrame\n",
       "Columns: [Song, Artist, Points]\n",
       "Index: []"
      ]
     },
     "execution_count": 17,
     "metadata": {},
     "output_type": "execute_result"
    }
   ],
   "source": [
    "chart_power_df_explode[chart_power_df_explode[\"Artist\"] == \"die ã„rzte\"]"
   ]
  },
  {
   "cell_type": "code",
   "execution_count": 18,
   "metadata": {},
   "outputs": [
    {
     "data": {
      "text/html": [
       "<div>\n",
       "<style scoped>\n",
       "    .dataframe tbody tr th:only-of-type {\n",
       "        vertical-align: middle;\n",
       "    }\n",
       "\n",
       "    .dataframe tbody tr th {\n",
       "        vertical-align: top;\n",
       "    }\n",
       "\n",
       "    .dataframe thead th {\n",
       "        text-align: right;\n",
       "    }\n",
       "</style>\n",
       "<table border=\"1\" class=\"dataframe\">\n",
       "  <thead>\n",
       "    <tr style=\"text-align: right;\">\n",
       "      <th></th>\n",
       "      <th>Song</th>\n",
       "      <th>Artist</th>\n",
       "      <th>Points</th>\n",
       "    </tr>\n",
       "  </thead>\n",
       "  <tbody>\n",
       "    <tr>\n",
       "      <th>64</th>\n",
       "      <td>all of me (boy oh boy)</td>\n",
       "      <td>sabrina [it]</td>\n",
       "      <td>841</td>\n",
       "    </tr>\n",
       "    <tr>\n",
       "      <th>85</th>\n",
       "      <td>amoureux solitaires</td>\n",
       "      <td>lio [be]</td>\n",
       "      <td>1555</td>\n",
       "    </tr>\n",
       "    <tr>\n",
       "      <th>100</th>\n",
       "      <td>another life</td>\n",
       "      <td>kano [it]</td>\n",
       "      <td>1460</td>\n",
       "    </tr>\n",
       "    <tr>\n",
       "      <th>187</th>\n",
       "      <td>boys (summertime love)</td>\n",
       "      <td>sabrina [it]</td>\n",
       "      <td>1444</td>\n",
       "    </tr>\n",
       "    <tr>\n",
       "      <th>198</th>\n",
       "      <td>bridge to your heart</td>\n",
       "      <td>wax [uk]</td>\n",
       "      <td>614</td>\n",
       "    </tr>\n",
       "    <tr>\n",
       "      <th>256</th>\n",
       "      <td>change your mind</td>\n",
       "      <td>raff [it]</td>\n",
       "      <td>736</td>\n",
       "    </tr>\n",
       "    <tr>\n",
       "      <th>314</th>\n",
       "      <td>cry softly</td>\n",
       "      <td>secret service [se]</td>\n",
       "      <td>451</td>\n",
       "    </tr>\n",
       "    <tr>\n",
       "      <th>351</th>\n",
       "      <td>delirio mind</td>\n",
       "      <td>scotch [it]</td>\n",
       "      <td>1120</td>\n",
       "    </tr>\n",
       "    <tr>\n",
       "      <th>390</th>\n",
       "      <td>disco band</td>\n",
       "      <td>scotch [it]</td>\n",
       "      <td>1806</td>\n",
       "    </tr>\n",
       "    <tr>\n",
       "      <th>480</th>\n",
       "      <td>ein weißes blatt'l papier</td>\n",
       "      <td>relax [de]</td>\n",
       "      <td>535</td>\n",
       "    </tr>\n",
       "    <tr>\n",
       "      <th>568</th>\n",
       "      <td>flash in the night</td>\n",
       "      <td>secret service [se]</td>\n",
       "      <td>1102</td>\n",
       "    </tr>\n",
       "    <tr>\n",
       "      <th>584</th>\n",
       "      <td>fotonovela</td>\n",
       "      <td>ivan [es]</td>\n",
       "      <td>1116</td>\n",
       "    </tr>\n",
       "    <tr>\n",
       "      <th>739</th>\n",
       "      <td>hot girl</td>\n",
       "      <td>sabrina [it]</td>\n",
       "      <td>690</td>\n",
       "    </tr>\n",
       "    <tr>\n",
       "      <th>799</th>\n",
       "      <td>i think we're alone now</td>\n",
       "      <td>tiffany [us]</td>\n",
       "      <td>1340</td>\n",
       "    </tr>\n",
       "    <tr>\n",
       "      <th>804</th>\n",
       "      <td>i want to be your man</td>\n",
       "      <td>roger [us]</td>\n",
       "      <td>714</td>\n",
       "    </tr>\n",
       "    <tr>\n",
       "      <th>910</th>\n",
       "      <td>ja mei! (des derf doch net sei)</td>\n",
       "      <td>relax [de]</td>\n",
       "      <td>596</td>\n",
       "    </tr>\n",
       "    <tr>\n",
       "      <th>986</th>\n",
       "      <td>l. a. goodbye</td>\n",
       "      <td>secret service [se]</td>\n",
       "      <td>1475</td>\n",
       "    </tr>\n",
       "    <tr>\n",
       "      <th>1172</th>\n",
       "      <td>mono</td>\n",
       "      <td>monotones [nl]</td>\n",
       "      <td>1050</td>\n",
       "    </tr>\n",
       "    <tr>\n",
       "      <th>1254</th>\n",
       "      <td>oh! susie</td>\n",
       "      <td>secret service [se]</td>\n",
       "      <td>2345</td>\n",
       "    </tr>\n",
       "    <tr>\n",
       "      <th>1364</th>\n",
       "      <td>puttin' on the ritz</td>\n",
       "      <td>taco [nl]</td>\n",
       "      <td>1572</td>\n",
       "    </tr>\n",
       "    <tr>\n",
       "      <th>1462</th>\n",
       "      <td>self control</td>\n",
       "      <td>raff [it]</td>\n",
       "      <td>1403</td>\n",
       "    </tr>\n",
       "    <tr>\n",
       "      <th>1477</th>\n",
       "      <td>shake it up</td>\n",
       "      <td>divine [us]</td>\n",
       "      <td>603</td>\n",
       "    </tr>\n",
       "    <tr>\n",
       "      <th>1502</th>\n",
       "      <td>shoot your shot</td>\n",
       "      <td>divine [us]</td>\n",
       "      <td>1430</td>\n",
       "    </tr>\n",
       "    <tr>\n",
       "      <th>1628</th>\n",
       "      <td>take me up</td>\n",
       "      <td>scotch [it]</td>\n",
       "      <td>981</td>\n",
       "    </tr>\n",
       "    <tr>\n",
       "      <th>1653</th>\n",
       "      <td>ten o'clock postman</td>\n",
       "      <td>secret service [se]</td>\n",
       "      <td>1906</td>\n",
       "    </tr>\n",
       "    <tr>\n",
       "      <th>1671</th>\n",
       "      <td>the caribbean disco show</td>\n",
       "      <td>lobo [nl]</td>\n",
       "      <td>851</td>\n",
       "    </tr>\n",
       "    <tr>\n",
       "      <th>1767</th>\n",
       "      <td>toccata</td>\n",
       "      <td>sky [uk]</td>\n",
       "      <td>1196</td>\n",
       "    </tr>\n",
       "    <tr>\n",
       "      <th>1870</th>\n",
       "      <td>wat?</td>\n",
       "      <td>willem [de]</td>\n",
       "      <td>533</td>\n",
       "    </tr>\n",
       "    <tr>\n",
       "      <th>1892</th>\n",
       "      <td>weil i di mog</td>\n",
       "      <td>relax [de]</td>\n",
       "      <td>1507</td>\n",
       "    </tr>\n",
       "    <tr>\n",
       "      <th>1986</th>\n",
       "      <td>ye-si-ca</td>\n",
       "      <td>secret service [se]</td>\n",
       "      <td>2042</td>\n",
       "    </tr>\n",
       "    <tr>\n",
       "      <th>2017</th>\n",
       "      <td>your heart keeps burning</td>\n",
       "      <td>blind date [de]</td>\n",
       "      <td>1056</td>\n",
       "    </tr>\n",
       "  </tbody>\n",
       "</table>\n",
       "</div>"
      ],
      "text/plain": [
       "                                 Song               Artist  Points\n",
       "64             all of me (boy oh boy)         sabrina [it]     841\n",
       "85                amoureux solitaires             lio [be]    1555\n",
       "100                      another life            kano [it]    1460\n",
       "187            boys (summertime love)         sabrina [it]    1444\n",
       "198              bridge to your heart             wax [uk]     614\n",
       "256                  change your mind            raff [it]     736\n",
       "314                        cry softly  secret service [se]     451\n",
       "351                      delirio mind          scotch [it]    1120\n",
       "390                        disco band          scotch [it]    1806\n",
       "480         ein weißes blatt'l papier           relax [de]     535\n",
       "568                flash in the night  secret service [se]    1102\n",
       "584                        fotonovela            ivan [es]    1116\n",
       "739                          hot girl         sabrina [it]     690\n",
       "799           i think we're alone now         tiffany [us]    1340\n",
       "804             i want to be your man           roger [us]     714\n",
       "910   ja mei! (des derf doch net sei)           relax [de]     596\n",
       "986                     l. a. goodbye  secret service [se]    1475\n",
       "1172                             mono       monotones [nl]    1050\n",
       "1254                        oh! susie  secret service [se]    2345\n",
       "1364              puttin' on the ritz            taco [nl]    1572\n",
       "1462                     self control            raff [it]    1403\n",
       "1477                      shake it up          divine [us]     603\n",
       "1502                  shoot your shot          divine [us]    1430\n",
       "1628                       take me up          scotch [it]     981\n",
       "1653              ten o'clock postman  secret service [se]    1906\n",
       "1671         the caribbean disco show            lobo [nl]     851\n",
       "1767                          toccata             sky [uk]    1196\n",
       "1870                             wat?          willem [de]     533\n",
       "1892                    weil i di mog           relax [de]    1507\n",
       "1986                         ye-si-ca  secret service [se]    2042\n",
       "2017         your heart keeps burning      blind date [de]    1056"
      ]
     },
     "execution_count": 18,
     "metadata": {},
     "output_type": "execute_result"
    }
   ],
   "source": [
    "chart_power_df_explode[chart_power_df_explode[\"Artist\"].str.contains(\"\\[\")]"
   ]
  },
  {
   "cell_type": "markdown",
   "metadata": {},
   "source": [
    "Weiterhin ist hinter einigen Künstlern das Herukunftsland in eckigen Klammern gekennzeichnet. Dies muss ebenfalls entfernet werden, da diese andernfalls nicht von der Spotify API gefunden werden."
   ]
  },
  {
   "cell_type": "code",
   "execution_count": 19,
   "metadata": {},
   "outputs": [],
   "source": [
    "pattern = r' \\[.*?\\]'\n",
    "chart_power_df_explode[\"Artist\"] = chart_power_df_explode[\"Artist\"].str.replace(pattern, '',regex=True)"
   ]
  },
  {
   "cell_type": "code",
   "execution_count": 20,
   "metadata": {},
   "outputs": [
    {
     "data": {
      "text/html": [
       "<div>\n",
       "<style scoped>\n",
       "    .dataframe tbody tr th:only-of-type {\n",
       "        vertical-align: middle;\n",
       "    }\n",
       "\n",
       "    .dataframe tbody tr th {\n",
       "        vertical-align: top;\n",
       "    }\n",
       "\n",
       "    .dataframe thead th {\n",
       "        text-align: right;\n",
       "    }\n",
       "</style>\n",
       "<table border=\"1\" class=\"dataframe\">\n",
       "  <thead>\n",
       "    <tr style=\"text-align: right;\">\n",
       "      <th></th>\n",
       "      <th>Song</th>\n",
       "      <th>Artist</th>\n",
       "      <th>Points</th>\n",
       "    </tr>\n",
       "  </thead>\n",
       "  <tbody>\n",
       "  </tbody>\n",
       "</table>\n",
       "</div>"
      ],
      "text/plain": [
       "Empty DataFrame\n",
       "Columns: [Song, Artist, Points]\n",
       "Index: []"
      ]
     },
     "execution_count": 20,
     "metadata": {},
     "output_type": "execute_result"
    }
   ],
   "source": [
    "chart_power_df_explode[chart_power_df_explode[\"Artist\"].str.contains(\"\\[\")]"
   ]
  },
  {
   "cell_type": "code",
   "execution_count": 21,
   "metadata": {},
   "outputs": [
    {
     "data": {
      "text/plain": [
       "944"
      ]
     },
     "execution_count": 21,
     "metadata": {},
     "output_type": "execute_result"
    }
   ],
   "source": [
    "len(chart_power_df_explode[\"Artist\"].unique())"
   ]
  },
  {
   "cell_type": "markdown",
   "metadata": {},
   "source": [
    "#### Funktionen zur Datenabfrage"
   ]
  },
  {
   "cell_type": "code",
   "execution_count": 22,
   "metadata": {},
   "outputs": [],
   "source": [
    "def sp_request(req, retries, max_retries, *args):\n",
    "  '''\n",
    "  Wrapper für Requests an die Spotify API. Stellt sicher, dass nicht zu viele Requests auf einmal ausgeführt werden und dann Requests wiederholt werden, sollten sie fehlschlagen.\n",
    "\n",
    "  Parameter\n",
    "  ---------\n",
    "  req: Function\n",
    "    Funktion die ausgeführt werden soll\n",
    "\n",
    "  retries: int\n",
    "    Anzahl des derzeitigen Versuches den Request durchzuführen. Sollte in der Regel 0 betragen.\n",
    "\n",
    "  max_retries: int\n",
    "    Maximale Versuche die vollführt werden sollen, bevor die Funktion fehlschlägt.\n",
    "\n",
    "  *args: \n",
    "    Variable Anzahl an Paramtern wecher der in req definierten Funktion übergeben werden sollen\n",
    "\n",
    "  Return\n",
    "  ------\n",
    "  Das Ergebnis der req Funktion.\n",
    "  '''\n",
    "  try:\n",
    "    call_api()\n",
    "    return req(*args)\n",
    "  except Exception as e:\n",
    "    if isinstance(e, spotipy.exceptions.SpotifyException) and e.http_status == 429:\n",
    "      # Handle rate limiting (HTTP 429)\n",
    "      if retries < max_retries:\n",
    "          sleep_time = exponential_backoff(retries)\n",
    "          print(f\"Rate limited, waiting for {sleep_time} seconds before retrying...\")\n",
    "          time.sleep(sleep_time)\n",
    "          retries += 1\n",
    "          return sp_request(req, retries, max_retries, *args)\n",
    "      else:\n",
    "          print(\"Max retries reached, exiting...\")\n",
    "    else:\n",
    "      print(f\"An error occurred: {e}\")\n",
    "      retries += 1\n",
    "      return sp_request(req, retries, max_retries, *args)\n",
    "\n",
    "# Define a function for exponential backoff\n",
    "def exponential_backoff(retries):\n",
    "    return 2 ** retries"
   ]
  },
  {
   "cell_type": "code",
   "execution_count": 23,
   "metadata": {},
   "outputs": [],
   "source": [
    "def filter_track_features(track, features, genre, chart_power=False):\n",
    "    '''\n",
    "    Filters the relevant features of a track in returns them in JSON object.\n",
    "\n",
    "    Parameter\n",
    "    ---------\n",
    "    track: Object\n",
    "        Track returend by the spotify API\n",
    "\n",
    "    features: Object\n",
    "        Features of the object\n",
    "\n",
    "    genre: string\n",
    "        Genre that should be used\n",
    "\n",
    "    chart_power: string | boolean; default=False\n",
    "        Chart power for the song. False if no Chart power is available\n",
    "\n",
    "    Return\n",
    "    ------\n",
    "    relevant_features: Object\n",
    "        JSON Object that contains the relevant featues\n",
    "    '''\n",
    "\n",
    "    external_ids = track['external_ids'] if 'external_ids' in track else {}\n",
    "    isrc = external_ids['isrc'] if 'isrc' in external_ids else np.nan\n",
    "    artist_names = []\n",
    "\n",
    "    if 'artists' in track and isinstance(track['artists'],list):\n",
    "        for artist in track['artists']:\n",
    "            if 'name' in artist:\n",
    "                artist_names.append(artist['name'])\n",
    "        artist_names = ','.join(artist_names)\n",
    "    else:\n",
    "        artist_names = np.nan\n",
    "\n",
    "\n",
    "\n",
    "    if 'album' in track:\n",
    "        album = track['album']['name'] if 'name' in track['album'] else np.nan\n",
    "        release_date = track['album']['release_date'] if 'release_date' in track['album'] else np.nan\n",
    "        release_date_precision = track['album']['release_date_precision'] if 'release_date_precision' in track['album'] else np.nan\n",
    "    else:\n",
    "         album = np.nan\n",
    "         release_date = np.nan\n",
    "         release_date_precision = np.nan\n",
    "\n",
    "\n",
    "    track_name = track['name'] if 'name' in track else np.nan\n",
    "    if chart_power == False:\n",
    "        if track_name != np.nan and artist_names != np.nan:\n",
    "            points = chart_power_df_explode.loc[(chart_power_df_explode.Song == track_name.lower()) & (chart_power_df_explode.Artist.str.contains(artist_names.lower()))]['Points']\n",
    "            if points.empty:\n",
    "                points = np.nan\n",
    "            else:\n",
    "                try:\n",
    "                    points = int(points)\n",
    "                except Exception as e:\n",
    "                    print(e)\n",
    "                    print(track_name)\n",
    "                    print(artist_names)\n",
    "                    print(points)\n",
    "                    print(\"-------\")\n",
    "        else:\n",
    "            points = np.nan\n",
    "    else:\n",
    "        points = chart_power\n",
    "\n",
    "    return {\n",
    "        'name': track_name,\n",
    "        'artists': artist_names,\n",
    "        'album': album,\n",
    "        'release_date': release_date,\n",
    "        'release_date_precision': release_date_precision,\n",
    "        'spotify_id': track['id'] if 'id' in track else np.nan,\n",
    "        'chart_power': points,\n",
    "        'uri': track['uri'] if 'uri' in track else np.nan,\n",
    "        'popularity': track['popularity'] if 'popularity' in track else np.nan,\n",
    "        'genres': np.nan if genre == False else genre,\n",
    "        'danceability': features['danceability'] if 'danceability' in features else np.nan,\n",
    "        'energy': features['energy'] if 'energy' in features else np.nan,\n",
    "        'key': features['key'] if 'key' in features else np.nan,\n",
    "        'loudness': features['loudness'] if 'loudness' in features else np.nan,\n",
    "        'mode': features['mode'] if 'mode' in features else np.nan,\n",
    "        'speechiness': features['speechiness'] if 'speechiness' in features else np.nan,\n",
    "        'acousticness': features['acousticness'] if 'acousticness' in features else np.nan,\n",
    "        'instrumentalness': features['instrumentalness'] if 'instrumentalness' in features else np.nan,\n",
    "        'liveness': features['liveness'] if 'liveness' in features else np.nan,\n",
    "        'valence': features['valence'] if 'valence' in features else np.nan,\n",
    "        'tempo': features['tempo'] if 'tempo' in features else np.nan,\n",
    "        'duration_ms': features['duration_ms'] if 'duration_ms' in features else np.nan,\n",
    "        'time_signature': features['time_signature'] if 'time_signature' in features else np.nan,\n",
    "        'isrc': isrc,\n",
    "    }"
   ]
  },
  {
   "cell_type": "code",
   "execution_count": 24,
   "metadata": {},
   "outputs": [],
   "source": [
    "def find_closest_string(target, string_list):\n",
    "  '''\n",
    "  Durchsucht eine Liste an Strings und filtert das änhlichte Item heraus.\n",
    "\n",
    "  Parameter\n",
    "  ---------\n",
    "  target: str\n",
    "    Referenzinstanz \n",
    "  \n",
    "  string_list: list\n",
    "    Liste welche durchsucht werden soll\n",
    "\n",
    "  \n",
    "  Return\n",
    "  ------\n",
    "  closest_string: str\n",
    "    Das ähnlichste Item\n",
    "\n",
    "  min_distance: float | int\n",
    "    Die Distanz vom closest_string zu target (nach Levenshtein)\n",
    "\n",
    "  closest_index: int\n",
    "    Index von closest_string in string_list\n",
    "  '''\n",
    "  try:\n",
    "    closest_string = None\n",
    "    min_distance = float('inf')\n",
    "    closest_index = -1\n",
    "\n",
    "    for index, string in enumerate(string_list):\n",
    "        distance = Levenshtein.distance(target, string)\n",
    "        if distance < min_distance:\n",
    "            min_distance = distance\n",
    "            closest_string = string\n",
    "            closest_index = index\n",
    "\n",
    "    return closest_string, min_distance, closest_index\n",
    "  except Exception as e:\n",
    "    print(target)\n",
    "    print(string_list)\n",
    "    print(e)"
   ]
  },
  {
   "cell_type": "markdown",
   "metadata": {},
   "source": [
    "### Datenabfrage"
   ]
  },
  {
   "cell_type": "code",
   "execution_count": 104,
   "metadata": {},
   "outputs": [
    {
     "name": "stderr",
     "output_type": "stream",
     "text": [
      "  0%|          | 0/2027 [00:00<?, ?it/s]"
     ]
    },
    {
     "name": "stdout",
     "output_type": "stream",
     "text": [
      "An error occurred: ('Connection aborted.', RemoteDisconnected('Remote end closed connection without response'))\n"
     ]
    },
    {
     "name": "stderr",
     "output_type": "stream",
     "text": [
      "100%|██████████| 2027/2027 [17:01<00:00,  1.99it/s]  "
     ]
    },
    {
     "name": "stdout",
     "output_type": "stream",
     "text": [
      "Von 2027 Songs wurden 1729 gefunden.\n"
     ]
    },
    {
     "name": "stderr",
     "output_type": "stream",
     "text": [
      "\n"
     ]
    }
   ],
   "source": [
    "found = 0\n",
    "\n",
    "artist_over_1000 = []\n",
    "no_tracks = []\n",
    "no_features = []\n",
    "artists_not_found = []\n",
    "\n",
    "df_found = pd.DataFrame()\n",
    "cols = [\"Song\", \"Artist\", \"Points\"]\n",
    "df_missing = pd.DataFrame(columns=cols)\n",
    "with tqdm(total=len(chart_power_df_explode)) as progress_bar:\n",
    "    tracks_ = []\n",
    "    audio_features_ = []\n",
    "    points_ = []\n",
    "\n",
    "    for index, item in chart_power_df_explode.iterrows():\n",
    "        song = item[\"Song\"]\n",
    "        artist = item[\"Artist\"]\n",
    "        points = item[\"Points\"]\n",
    "        res = sp_request(lambda song, artist: sp.search(q=f\"artist:{artist} track:{song}\", market=\"DE\", type=\"track\"), 0, 100, song, artist)\n",
    "        if \"tracks\" not in res:\n",
    "            print(\"No tracks in result\")\n",
    "            df_missing = pd.concat([df_missing, pd.DataFrame([[song, artist, points]], columns=cols)], ignore_index=True)\n",
    "            progress_bar.update(1)\n",
    "            continue\n",
    "        \n",
    "        tracks = res[\"tracks\"]\n",
    "\n",
    "        ts = []\n",
    "        if \"items\" in tracks and isinstance(tracks[\"items\"], list):\n",
    "            for track in tracks[\"items\"]:\n",
    "                ts.append(track)\n",
    "        else:\n",
    "            df_missing = pd.concat([df_missing, pd.DataFrame([[song, artist, points]], columns=cols)], ignore_index=True)\n",
    "            progress_bar.update(1)\n",
    "            continue\n",
    "\n",
    "        if len(ts) == 0:\n",
    "            df_missing = pd.concat([df_missing, pd.DataFrame([[song, artist, points]], columns=cols)], ignore_index=True)\n",
    "            progress_bar.update(1)\n",
    "            continue\n",
    "        try:\n",
    "            closest, distance, index = find_closest_string(str(song), [str(track[\"name\"]) for track in ts])\n",
    "        except Exception as e:\n",
    "            print(e)\n",
    "            continue\n",
    "        tracks_.append(ts[index])\n",
    "        points_.append(points)\n",
    "\n",
    "        ts = []\n",
    "        if len(tracks_) == 100:\n",
    "            audio_features_ = sp_request(lambda x: sp.audio_features([track[\"id\"] for track in x]), 0, 100, tracks_)\n",
    "            track_features = []\n",
    "            if len(tracks_) != len(audio_features_):\n",
    "                print(\"Tracks and features have not the same lengh!\")\n",
    "                print(len(tracks_), len(audio_features_))\n",
    "            for t, af, p in list(zip(tracks_, audio_features_, points_)):\n",
    "                if not t:\n",
    "                    print(\"No track!\")\n",
    "                    print(t)\n",
    "                    print(af)\n",
    "                    no_tracks.append(af)\n",
    "                    continue\n",
    "                if not af:\n",
    "                    print(\"No features\")\n",
    "                    print(af)\n",
    "                    print(t)\n",
    "                    no_features.append(t)\n",
    "                    continue\n",
    "                features = filter_track_features(t, af, False, p)\n",
    "                track_features.append(features)\n",
    "                found = found + 1\n",
    "            df_found = pd.concat([df_found, pd.DataFrame(track_features)], ignore_index=True)\n",
    "            tracks_ = []\n",
    "            audio_features_ = []\n",
    "            points_ = []\n",
    "        progress_bar.update(1)\n",
    "\n",
    "    audio_features_ = sp_request(lambda x: sp.audio_features([track[\"id\"] for track in x]), 0, 100, tracks_)\n",
    "    track_features = []\n",
    "    if len(tracks_) != len(audio_features_):\n",
    "        print(\"Tracks and features have not the same lengh!\")\n",
    "        print(len(tracks_), len(audio_features_))\n",
    "    for t, af, p in list(zip(tracks_, audio_features_, points_)):\n",
    "        if not t:\n",
    "            print(\"No track!\")\n",
    "            print(t)\n",
    "            print(af)\n",
    "            no_tracks.append(af)\n",
    "            continue\n",
    "        if not af:\n",
    "            print(\"No features\")\n",
    "            print(af)\n",
    "            print(t)\n",
    "            no_features.append(t)\n",
    "            continue\n",
    "        features = filter_track_features(t, af, False, p)\n",
    "        track_features.append(features)\n",
    "        found = found + 1\n",
    "    df_found = pd.concat([df_found, pd.DataFrame(track_features)], ignore_index=True)\n",
    "    tracks_ = []\n",
    "    audio_features_ = []\n",
    "\n",
    "\n",
    "print(f\"Von {len(chart_power_df_explode)} Songs wurden {found} gefunden.\")"
   ]
  },
  {
   "cell_type": "code",
   "execution_count": 79,
   "metadata": {},
   "outputs": [
    {
     "data": {
      "text/plain": [
       "name                      False\n",
       "artists                   False\n",
       "album                     False\n",
       "release_date              False\n",
       "release_date_precision    False\n",
       "spotify_id                False\n",
       "chart_power               False\n",
       "uri                       False\n",
       "popularity                False\n",
       "genres                     True\n",
       "danceability              False\n",
       "energy                    False\n",
       "key                       False\n",
       "loudness                  False\n",
       "mode                      False\n",
       "speechiness               False\n",
       "acousticness              False\n",
       "instrumentalness          False\n",
       "liveness                  False\n",
       "valence                   False\n",
       "tempo                     False\n",
       "duration_ms               False\n",
       "time_signature            False\n",
       "isrc                      False\n",
       "dtype: bool"
      ]
     },
     "execution_count": 79,
     "metadata": {},
     "output_type": "execute_result"
    }
   ],
   "source": [
    "df_found.isna().any()"
   ]
  },
  {
   "cell_type": "code",
   "execution_count": 106,
   "metadata": {},
   "outputs": [],
   "source": [
    "# df_found.to_csv(f\"{PATH}/chart-power-spotify.csv\")\n",
    "# df_missing.to_csv(f\"{PATH}/chart-power-spotify-missing.csv\")"
   ]
  },
  {
   "cell_type": "code",
   "execution_count": 27,
   "metadata": {},
   "outputs": [],
   "source": [
    "df_found = pd.read_csv(f\"{PATH}/chart-power-spotify.csv\")\n",
    "df_missing = pd.read_csv(f\"{PATH}/chart-power-spotify-missing.csv\")"
   ]
  },
  {
   "cell_type": "markdown",
   "metadata": {},
   "source": [
    "### Visualisierung\n",
    "\n",
    "- Sortierung der Chartpower Songs nach Chartscore und Zuweisung eines Perzentils zu jedem Song\n",
    "- Sortierung der Chartpower Songs nach Spotify Popularity Score und Zuweisung eines Perzentils zu jedem Song\n",
    "- Visualisierung der Perzentile im Scatterplot (Plotly)"
   ]
  },
  {
   "cell_type": "code",
   "execution_count": 107,
   "metadata": {},
   "outputs": [],
   "source": [
    "bins = [-1, 10, 20, 30, 40, 50, 60, 70, 80, 90, 100]\n",
    "labels = [\"0 - 10\", \"11 - 20\", \"21 - 30\", \"31 - 40\", \"41 - 50\", \"51 - 60\", \"61 - 70\", \"71 - 80\", \"81 - 90\", \"91 - 100\"]\n",
    "\n",
    "def create_percentiles(df_):\n",
    "    df_ = df_.sort_values(by=\"chart_power\")\n",
    "    df_['chart_power_percentile'] = (df_['chart_power'].rank(pct=True) * 100)\n",
    "    # df_['chart_power_percentile'] = pd.cut(df_['chart_power_percentile'], bins=bins, labels=labels)\n",
    "\n",
    "    df_ = df_.sort_values(by=\"popularity\")\n",
    "    df_[\"popularity_percentile\"] = (df_[\"popularity\"].rank(pct=True) * 100)\n",
    "    # df_[\"popularity_percentile\"] = pd.cut(df_[\"popularity_percentile\"], bins=bins, labels=labels)\n",
    "    return df_"
   ]
  },
  {
   "cell_type": "code",
   "execution_count": 108,
   "metadata": {},
   "outputs": [],
   "source": [
    "df_found_copy = df_found.copy()\n",
    "df_found_copy = create_percentiles(df_found_copy)"
   ]
  },
  {
   "cell_type": "code",
   "execution_count": 109,
   "metadata": {},
   "outputs": [
    {
     "data": {
      "text/html": [
       "<div>\n",
       "<style scoped>\n",
       "    .dataframe tbody tr th:only-of-type {\n",
       "        vertical-align: middle;\n",
       "    }\n",
       "\n",
       "    .dataframe tbody tr th {\n",
       "        vertical-align: top;\n",
       "    }\n",
       "\n",
       "    .dataframe thead th {\n",
       "        text-align: right;\n",
       "    }\n",
       "</style>\n",
       "<table border=\"1\" class=\"dataframe\">\n",
       "  <thead>\n",
       "    <tr style=\"text-align: right;\">\n",
       "      <th></th>\n",
       "      <th>name</th>\n",
       "      <th>artists</th>\n",
       "      <th>album</th>\n",
       "      <th>release_date</th>\n",
       "      <th>release_date_precision</th>\n",
       "      <th>spotify_id</th>\n",
       "      <th>chart_power</th>\n",
       "      <th>uri</th>\n",
       "      <th>popularity</th>\n",
       "      <th>genres</th>\n",
       "      <th>...</th>\n",
       "      <th>acousticness</th>\n",
       "      <th>instrumentalness</th>\n",
       "      <th>liveness</th>\n",
       "      <th>valence</th>\n",
       "      <th>tempo</th>\n",
       "      <th>duration_ms</th>\n",
       "      <th>time_signature</th>\n",
       "      <th>isrc</th>\n",
       "      <th>chart_power_percentile</th>\n",
       "      <th>popularity_percentile</th>\n",
       "    </tr>\n",
       "  </thead>\n",
       "  <tbody>\n",
       "    <tr>\n",
       "      <th>1527</th>\n",
       "      <td>Tri tra trullala (Herbergsvater)</td>\n",
       "      <td>Joachim Witt</td>\n",
       "      <td>Ballermann - German Party Songs</td>\n",
       "      <td>2023-09-08</td>\n",
       "      <td>day</td>\n",
       "      <td>5qrQxVQVwT03Iw7CpPvKsh</td>\n",
       "      <td>400</td>\n",
       "      <td>spotify:track:5qrQxVQVwT03Iw7CpPvKsh</td>\n",
       "      <td>0</td>\n",
       "      <td>NaN</td>\n",
       "      <td>...</td>\n",
       "      <td>0.0226</td>\n",
       "      <td>0.00899</td>\n",
       "      <td>0.096</td>\n",
       "      <td>0.834</td>\n",
       "      <td>131.255</td>\n",
       "      <td>285600</td>\n",
       "      <td>4</td>\n",
       "      <td>DEA629660020</td>\n",
       "      <td>0.057837</td>\n",
       "      <td>1.069983</td>\n",
       "    </tr>\n",
       "  </tbody>\n",
       "</table>\n",
       "<p>1 rows × 26 columns</p>\n",
       "</div>"
      ],
      "text/plain": [
       "                                  name       artists  \\\n",
       "1527  Tri tra trullala (Herbergsvater)  Joachim Witt   \n",
       "\n",
       "                                album release_date release_date_precision  \\\n",
       "1527  Ballermann - German Party Songs   2023-09-08                    day   \n",
       "\n",
       "                  spotify_id  chart_power  \\\n",
       "1527  5qrQxVQVwT03Iw7CpPvKsh          400   \n",
       "\n",
       "                                       uri  popularity  genres  ...  \\\n",
       "1527  spotify:track:5qrQxVQVwT03Iw7CpPvKsh           0     NaN  ...   \n",
       "\n",
       "      acousticness  instrumentalness  liveness  valence    tempo  duration_ms  \\\n",
       "1527        0.0226           0.00899     0.096    0.834  131.255       285600   \n",
       "\n",
       "      time_signature          isrc  chart_power_percentile  \\\n",
       "1527               4  DEA629660020                0.057837   \n",
       "\n",
       "      popularity_percentile  \n",
       "1527               1.069983  \n",
       "\n",
       "[1 rows x 26 columns]"
      ]
     },
     "execution_count": 109,
     "metadata": {},
     "output_type": "execute_result"
    }
   ],
   "source": [
    "df_found_copy.head(1)"
   ]
  },
  {
   "cell_type": "code",
   "execution_count": 110,
   "metadata": {},
   "outputs": [
    {
     "data": {
      "application/vnd.plotly.v1+json": {
       "config": {
        "plotlyServerURL": "https://plot.ly"
       },
       "data": [
        {
         "customdata": [
          [
           "Tri tra trullala (Herbergsvater)",
           "Joachim Witt"
          ],
          [
           "Über sieben Brücken mußt du geh'n",
           "Peter Maffay"
          ],
          [
           "I’m Born Again",
           "A Tribute To Boney M"
          ],
          [
           "Come and Kiss Me",
           "The End Revolution"
          ],
          [
           "Love of My Own",
           "Thomas Anders"
          ],
          [
           "Ain’t Nobody",
           "Chaka Khan,Rufus"
          ],
          [
           "(Hey You) The Rock Steady Crew",
           "The Manhattan Groovers"
          ],
          [
           "Feuerwerkmusik. Concerto Grosso No. 26 D-major",
           "Stephan Kaske"
          ],
          [
           "The Living Daylights",
           "a-ha"
          ],
          [
           "Another Word",
           "Talk Talk"
          ],
          [
           "The Way It Is",
           "The Karaoke Channel"
          ],
          [
           "Running up That Hill",
           "Kate Bush,Sam Louise"
          ],
          [
           "Private Dancer",
           "Tina Turner"
          ],
          [
           "julie",
           "Daniel Gannaway"
          ],
          [
           "Head over Heels",
           "Abba Revival Band"
          ],
          [
           "Young Turks",
           "Rod Stewart"
          ],
          [
           "Purple Rain",
           "The Karaoke Channel"
          ],
          [
           "I Need Love",
           "Kenny Blackbird"
          ],
          [
           "Brother Casanova",
           "Michael George Palmer"
          ],
          [
           "Birds of Paradise",
           "Marco Cerletti"
          ],
          [
           "Fire of Love",
           "Fire FX Sleep Project"
          ],
          [
           "Another Part Of Me",
           "Michael Jackson, Base Karaoke + Choirs"
          ],
          [
           "That’s the Way it Is",
           "Healing Jazz Melodies Artist"
          ],
          [
           "What Kinda Boy You're Lookin' For (Girl)",
           "Hot Chocolate"
          ],
          [
           "Make Me Say",
           "Jamie Michael Jackson"
          ],
          [
           "Man in the mirror",
           "Made famous by Michael Jackson"
          ],
          [
           "Slave To The Rhythm",
           "Grace Jones"
          ],
          [
           "Spirits in the Material World",
           "Leaders of the Shift"
          ],
          [
           "The Woman in You",
           "Flies on the Square Egg"
          ],
          [
           "Theme From Rambo III - Ethno Mix",
           "First Patrol"
          ],
          [
           "Buona domenica",
           "Antonello"
          ],
          [
           "Baby Jane",
           "Rod Stewart"
          ],
          [
           "Mixed Emotions",
           "The Hit Co., The Tribute Co.,The Tribute Co."
          ],
          [
           "Cherish",
           "Kool & The Gang"
          ],
          [
           "Theme From Sans-Europe Express",
           "Sans-Europe Express"
          ],
          [
           "Cherish",
           "Kool & The Gang"
          ],
          [
           "Etwas ist geschehen - Version 2010",
           "Gitte Hænning"
          ],
          [
           "Nasty",
           "Janet Jackson"
          ],
          [
           "Ooh La La",
           "The Jagged Edges"
          ],
          [
           "Ententanz (Ja wenn wir alle Englein wären)",
           "Frank Zander alias Fred Sonnenschein & seine Freunde"
          ],
          [
           "It's a Hard Life",
           "Queen - Karaoke"
          ],
          [
           "Party all the Time",
           "Eddie Murphy, Doughman & Bigg Bo"
          ],
          [
           "Blue Night Shadow - Part II",
           "Two Of Us"
          ],
          [
           "What Have I Done to Deserve This?",
           "Pet Shop Boys,Dusty Springfield"
          ],
          [
           "Right Back Where We Started from",
           "Sinitta"
          ],
          [
           "Keine Sterne in Athen - Live",
           "Stephan Remmler"
          ],
          [
           "Stuck On Earth - Club Mix",
           "Alf"
          ],
          [
           "This is Germany calling",
           "Tone Band"
          ],
          [
           "The Soca Calypso Party",
           "Lobo"
          ],
          [
           "Pride (In The Name Of Love)",
           "U2"
          ],
          [
           "(Just Like) Starting Over",
           "Johnathan Pushkar"
          ],
          [
           "El Lute - Live @ ZDF Hitparade",
           "Michael Holm"
          ],
          [
           "Das ewige Feuer",
           "Tommy Steiner"
          ],
          [
           "Liberian girl",
           "Made famous by Michael Jackson"
          ],
          [
           "Come Let's Go",
           "Chilly"
          ],
          [
           "Kosmetik",
           "Joachim Witt"
          ],
          [
           "Das Märchen von Rhodos",
           "Tommy Steiner"
          ],
          [
           "One More Dance In Blue",
           "Howard Carpendale"
          ],
          [
           "Don’t You Want Me (Remix) (As Made Famous by The Human League)",
           "The Allstar Hitmakers"
          ],
          [
           "Diamonds Are Forever",
           "The New Pop Order"
          ],
          [
           "Nightshift - Originally Performed by Commodores",
           "The 80's Allstars"
          ],
          [
           "(Carmen) Danger in Her Eyes",
           "Deborah Sasson,MCL"
          ],
          [
           "Against All Odds (Take A Look At Me Now)",
           "Phil Collins,Martin Avila"
          ],
          [
           "The Haunted House of Rock - Haunted Mix",
           "Whodini"
          ],
          [
           "Friends Will Be Friends",
           "Queen Dance Traxx,Music Instructor"
          ],
          [
           "Besuchen Sie Europa (Solange Es Noch Steht)",
           "Geier Sturzflug"
          ],
          [
           "To All The Girls I've Loved Before",
           "Willie Nelson"
          ],
          [
           "Be Gentle - Radio Edit",
           "B.V.S.M.P."
          ],
          [
           "Breakdancing",
           "Electric Boogie Men"
          ],
          [
           "Ich will nicht wissen, wie du heißt",
           "Andy Borg"
          ],
          [
           "Loving Just for Fun",
           "Kelly Marie"
          ],
          [
           "Two Lovers",
           "Mandy Winter"
          ],
          [
           "We Are The World",
           "USA for Africa"
          ],
          [
           "Sensus - 7 Inch Mix",
           "Sensus,Mariette Edens,Jody Pijper"
          ],
          [
           "Ja mei (des derf doch net sei)",
           "Relax"
          ],
          [
           "Too Much",
           "Hongkong Syndikat"
          ],
          [
           "You Win Again",
           "The Gee Bees"
          ],
          [
           "Que Sera Mi Vida (If You Should Go)",
           "Gibson Brothers"
          ],
          [
           "Félicitation",
           "Jean-Claude Gaspard,Denis Claude Gaspard"
          ],
          [
           "Twisting By the Pool",
           "Dire Strats"
          ],
          [
           "Breakthru",
           "Unrisen Queen"
          ],
          [
           "Leb' wohl",
           "Michael Holm"
          ],
          [
           "Da, Da ,Da (Ich weiß Bescheid, Du weißt Bescheid) - Single Version",
           "Frank Zander"
          ],
          [
           "My Toot Toot",
           "Denise LaSalle"
          ],
          [
           "Flashdance... What a Feeling",
           "Irene Cara"
          ],
          [
           "Rock´n´Roll Gypsy",
           "Helen Schneider"
          ],
          [
           "On Broadway",
           "Bogart"
          ],
          [
           "FanFanFanatisch",
           "Rheingold"
          ],
          [
           "Weißt du wo du hingehst",
           "Ingrid Peters"
          ],
          [
           "Liebe lebt",
           "Nana Mouskouri"
          ],
          [
           "Body Language",
           "Queen of Japan"
          ],
          [
           "1000 und eine Nacht - Big Band Version",
           "Klaus Lage"
          ],
          [
           "You Can't Hurry Love",
           "Chill Phil"
          ],
          [
           "Stop Bajon - Primavera Instrumental Mix",
           "Tullio De Piscopo"
          ],
          [
           "Never Gonna Tell No Lie To You",
           "The Teens"
          ],
          [
           "Day-In Day-Out",
           "David Bowie"
          ],
          [
           "Solomon Gundie",
           "Amanda Lear"
          ],
          [
           "Et Les Oiseaux Chantaient",
           "Sweet People"
          ],
          [
           "Silent Water - Long Version",
           "Blue System"
          ],
          [
           "Under My Skin - Long Version",
           "Blue System"
          ],
          [
           "Take Me Don't Break Me",
           "Arabesque"
          ],
          [
           "Passion And Pain",
           "Deborah Sasson"
          ],
          [
           "Church of the Poison Mind",
           "Culture Club"
          ],
          [
           "Ich wär' so gern wie du",
           "Bernhard Brink"
          ],
          [
           "Serious Music",
           "London Yellow"
          ],
          [
           "I See a Boat on the River",
           "Boney M."
          ],
          [
           "Do the Right Thing (Extended)",
           "Redhead Kingpin and the F.B.I"
          ],
          [
           "I wär am liabsten mit dir ganz alloa",
           "Nicki"
          ],
          [
           "Woman - Live",
           "John Lennon,Iiro Rantala"
          ],
          [
           "Wenn ich geh'",
           "Wolfgang Petry"
          ],
          [
           "John Wayne Is Big Leggy",
           "Haysi Fantayzee"
          ],
          [
           "Children of Paradise",
           "Boney M."
          ],
          [
           "Okay! - Okay Mix",
           "Okay / O.K."
          ],
          [
           "Die Hesse komme",
           "Rodgau Monotones"
          ],
          [
           "I Just Don't Have The Heart - Live",
           "Cliff Richard"
          ],
          [
           "Shine On (der Regen von New York)",
           "Howard Carpendale"
          ],
          [
           "Computerliebe",
           "Paso Doble"
          ],
          [
           "Rags To Riches",
           "Kool & The Gang"
          ],
          [
           "Rags To Riches",
           "Kool & The Gang"
          ],
          [
           "Tretboot in Seenot",
           "Frl. Menke,De Lancaster"
          ],
          [
           "Männer. - Männerchor-Version;Live",
           "Bläck Fööss"
          ],
          [
           "All of Me - Radio Edit",
           "Sabrina"
          ],
          [
           "Doctorin' the House",
           "Coldcut,Yazz & The Plastic Population"
          ],
          [
           "Jeannie (Die reine Wahrheit)",
           "Frank Zander"
          ],
          [
           "Wo warst du?",
           "Chris Roberts"
          ],
          [
           "Anytime - 12\" Mix",
           "B.V.S.M.P."
          ],
          [
           "Todesengel",
           "Frank Duval"
          ],
          [
           "Du bist alles (Maria, Maria) (You Want Love)",
           "Andreas Martin"
          ],
          [
           "Ordinary Lives",
           "Flies on the Square Egg"
          ],
          [
           "Running Scared",
           "The Fools"
          ],
          [
           "Give Peace A Chance - Home Demo",
           "John Lennon,Yoko Ono"
          ],
          [
           "Come To L.A.",
           "Chilly"
          ],
          [
           "Die Kuh",
           "Mini Pigs"
          ],
          [
           "Guilty",
           "Barry Gibb,Robin Gibb,Maurice Gibb,Majors For Minors"
          ],
          [
           "New York, Rio, Tokyo - Radio Edit",
           "Peter Fessler with Trio Deluxe"
          ],
          [
           "Rap-O-Clap-O",
           "Joe Bataan"
          ],
          [
           "An der Nordseeküste",
           "Klaus & Klaus"
          ],
          [
           "An der Nordseeküste",
           "Klaus & Klaus"
          ],
          [
           "Wenn Du mich brauchst",
           "Rex Gildo"
          ],
          [
           "Dreiklangsdimensionen - Blank & Jones so8os Reconstruction",
           "Rheingold,Blank & Jones"
          ],
          [
           "Wait Until Dark",
           "Howard Roberts"
          ],
          [
           "Ice In The Sunshine - Radio Remix '95",
           "Beagle Music Ltd.,DJ Stevie Steve"
          ],
          [
           "We Are The Popkings",
           "Chilly"
          ],
          [
           "Marcello the Mastroianni",
           "Silicon Dream"
          ],
          [
           "Dance Little Birdie",
           "De Electronica's"
          ],
          [
           "Under Pressure",
           "David Bowie,Freddie Mercury,Brian May,John Deacon,Roger Taylor,Hannu Lepola,Vokalensemblet Skrik,Jon Flydal Blichfeldt"
          ],
          [
           "Irresistible",
           "Stephanie"
          ],
          [
           "The Heat Is On - Live 1986",
           "Glenn Frey"
          ],
          [
           "St. Elmo's Fire (Man in Motion)",
           "John Parr"
          ],
          [
           "Holiday",
           "Kool & The Gang"
          ],
          [
           "Holiday",
           "Kool & The Gang"
          ],
          [
           "In the Dutch Mountains - 2 Meter Session",
           "The Nits"
          ],
          [
           "Breakfast In Marin - From 'Just Popped Out'",
           "Sean Tyla"
          ],
          [
           "Black and White - Vocal",
           "PATTO"
          ],
          [
           "Use It Up and Wear It Out",
           "Odyssey"
          ],
          [
           "Santa Maria (feat. Roland Kaiser)",
           "Oliver Onions,Roland Kaiser"
          ],
          [
           "Das steht Dir gut 2010",
           "Rheingold"
          ],
          [
           "Engel der Nacht",
           "Jürgen Marcus"
          ],
          [
           "French Kiss - Hot Radio",
           "Honesty 69"
          ],
          [
           "This Is Your Land",
           "Simple Minds"
          ],
          [
           "Mir san a bayrische Band",
           "Spider Murphy Gang"
          ],
          [
           "That's What Friends Are for",
           "Friends"
          ],
          [
           "Do Wah Diddy '98",
           "A La Carte"
          ],
          [
           "Theme from Rocky",
           "Round One"
          ],
          [
           "Dig Bum",
           "Trio Chapahall's"
          ],
          [
           "You and me",
           "Spargo"
          ],
          [
           "Be With You",
           "The Bangles"
          ],
          [
           "Amore mio",
           "Andreas Martin"
          ],
          [
           "Life is for Living",
           "Barclay James Harvest Feat. Le"
          ],
          [
           "January February",
           "Barbara Dickson"
          ],
          [
           "Louise (We'll Get It Right)",
           "Jona Lewie"
          ],
          [
           "Punker Maria",
           "Dieter Hallervorden"
          ],
          [
           "Cenerentola - Cinderella Vocal Version",
           "Martinelli"
          ],
          [
           "Gib mir bitte einen Kuss",
           "Helga Feddersen"
          ],
          [
           "Goldrush",
           "Yello"
          ],
          [
           "We Need Protection",
           "Picnic At The Whitehouse"
          ],
          [
           "Islands In The Stream - Live",
           "Kenny Rogers,Dolly Parton"
          ],
          [
           "Drama! - Live",
           "Erasure"
          ],
          [
           "Wat!",
           "Willem"
          ],
          [
           "Morgen früh wirst du geh'n",
           "Howard Carpendale"
          ],
          [
           "The Circus - Live",
           "Erasure"
          ],
          [
           "Don’t Worry, Be Happy",
           "Bobby McFerrin,University of Cape Town Choir,John Woodland"
          ],
          [
           "Angry Times",
           "Helen Schneider"
          ],
          [
           "The Challenge",
           "Chris Thompson"
          ],
          [
           "Cry For Our World",
           "Frank Duval"
          ],
          [
           "Ich bin viel zu bescheiden",
           "Peter Petrel"
          ],
          [
           "Talk To Me",
           "KISS"
          ],
          [
           "A Little Piece Of Heaven",
           "Godley & Creme"
          ],
          [
           "Where Are You?",
           "16 Bit"
          ],
          [
           "View from a Bridge",
           "Kim Wilde"
          ],
          [
           "Oowatanite",
           "Clout"
          ],
          [
           "A Little Piece Of Heaven",
           "Godley & Creme"
          ],
          [
           "Servus, mach's guat",
           "Nicki"
          ],
          [
           "Ich schau' dich an",
           "Spider Murphy Gang"
          ],
          [
           "I Guess That's Why They Call It the Blues",
           "Elton John Experience,Keller Jr."
          ],
          [
           "Traumboy",
           "Frl. Menke"
          ],
          [
           "Weil wir uns lieben",
           "Andy Borg"
          ],
          [
           "Bunte Trümmer",
           "BAP"
          ],
          [
           "Showing Out (Get Fresh At The Weekend)",
           "Mel & Kim"
          ],
          [
           "It's Only Love",
           "Simply Red"
          ],
          [
           "Da Da Da ich lieb dich nicht du liebst mich nicht aha aha aha",
           "Trio"
          ],
          [
           "Little Bit Of Heaven",
           "Pia Zadora,Mark Spiro"
          ],
          [
           "All of You",
           "Diana Ross"
          ],
          [
           "Hot Love",
           "Kelly Marie"
          ],
          [
           "Downtown '88",
           "Petula Clark"
          ],
          [
           "Mono",
           "The Monotones"
          ],
          [
           "Going Back to My Roots",
           "Odyssey"
          ],
          [
           "Limousine",
           "Hubert Kah"
          ],
          [
           "Girl's Got a Brand New Toy",
           "T.X.T."
          ],
          [
           "Why Can the Bodies Fly",
           "WARNING"
          ],
          [
           "Pfüati Gott, Elisabeth",
           "Spider Murphy Gang"
          ],
          [
           "Showing Out (Get Fresh At The Weekend)",
           "Mel & Kim"
          ],
          [
           "House Arrest - Blue Murder Mix",
           "Krush"
          ],
          [
           "House of Mystic Lights - Karaoke",
           "C.C. Catch"
          ],
          [
           "Über sieben Brücken musst du geh'n",
           "Karat"
          ],
          [
           "Geh nicht",
           "Hanne Haller"
          ],
          [
           "P. Machinery Medley with Relax - Edit Version",
           "P4f"
          ],
          [
           "Mr. Manic & Sister Cool",
           "Shakatak"
          ],
          [
           "Cross My Broken Heart",
           "Sinitta"
          ],
          [
           "Find My Love",
           "Fairground Attraction,Eddi Reader,Kevin Moloney"
          ],
          [
           "'Stars On' Theme - Original Single Edit",
           "Stars On 45"
          ],
          [
           "Where Is My Man - Live",
           "Eartha Kitt"
          ],
          [
           "Is There Something I Should Know",
           "Duran Duran"
          ],
          [
           "Lady of Ice",
           "Fancy"
          ],
          [
           "European Queen (No More Love On the Run)",
           "Billy Ocean"
          ],
          [
           "Denk doch auch mal an dich",
           "Peter Alexander"
          ],
          [
           "Keine Angst Hat Der Papa Mir Gesagt (Mama)",
           "Stephan Remmler"
          ],
          [
           "Kann Denn Schwachsinn Sünde Sein",
           "EAV (Erste Allgemeine Verunsicherung)"
          ],
          [
           "Another Day in Paradise",
           "Chill Phil"
          ],
          [
           "Arrivederci Claire",
           "Andy Borg"
          ],
          [
           "'Stars On' Theme - Original Single Edit",
           "Stars On 45"
          ],
          [
           "Rummenigge",
           "Alan & Denise"
          ],
          [
           "Girlfriend - Radio Edit",
           "Pebbles"
          ],
          [
           "Stop This Crazy Thing (feat. Junior Reid)",
           "Coldcut,Junior Reid"
          ],
          [
           "Baby Talk",
           "Alisha"
          ],
          [
           "Hey little Girl",
           "ICEHOUSE"
          ],
          [
           "Kids in America",
           "Kim Wilde,Charlotte Hatherley"
          ],
          [
           "Eine Liebe ist viele Tränen wert",
           "Karel Gott"
          ],
          [
           "Guardian Angel",
           "Radio Masquerade"
          ],
          [
           "Changes",
           "Alan Price"
          ],
          [
           "Atomic City",
           "Holly Johnson"
          ],
          [
           "Non è vero",
           "Lady Lily"
          ],
          [
           "Shilly Shally",
           "Fritz Brause"
          ],
          [
           "Jealousy",
           "Amii Stewart"
          ],
          [
           "Latin Fire",
           "Fancy"
          ],
          [
           "Flieg nicht so hoch, mein kleiner Freund",
           "Nicole"
          ],
          [
           "Lang scho nimma g'sehn 2000",
           "Haindling"
          ],
          [
           "Anna - Lassmichreinlassmichraus - Maxi Version",
           "Trio"
          ],
          [
           "This One - Live",
           "Paul McCartney"
          ],
          [
           "That's the way it is",
           "Kim Dong Ryul"
          ],
          [
           "Is Everybody Happy",
           "David Hasselhoff"
          ],
          [
           "Fire Of Love",
           "Earth & Fire"
          ],
          [
           "Go For Gold",
           "The Winners"
          ],
          [
           "Time Is Cash, Time Is Money",
           "BAP"
          ],
          [
           "Dance on",
           "Doris D.,The Pins"
          ],
          [
           "Blue Jean",
           "David Bowie"
          ],
          [
           "Wouldn’t it Be Good",
           "Nik Kershaw"
          ],
          [
           "Jim And Andy",
           "G.G. Anderson"
          ],
          [
           "Cruel Summer - '89 Swing Beat Dub",
           "Bananarama"
          ],
          [
           "Dr. Mabuse - The Last Word",
           "Propaganda"
          ],
          [
           "One of the Living",
           "Tina Turner"
          ],
          [
           "Made in italy",
           "Ricchi E Poveri"
          ],
          [
           "Some Like It Hot",
           "The Power Station"
          ],
          [
           "Birds Of Paradise",
           "Peter, Sue & Marc"
          ],
          [
           "My Brave Face - Live",
           "Paul McCartney"
          ],
          [
           "Ich denk an Dich",
           "Marianne Rosenberg"
          ],
          [
           "That's The Way Love Is",
           "Ten City"
          ],
          [
           "Diamonds",
           "Amanda Lear"
          ],
          [
           "Invisible - Remastered",
           "Alison Moyet"
          ],
          [
           "...und ganz doll mich (Ich mag) - Remastered 2021",
           "Rolf Zuckowski"
          ],
          [
           "Patrik Pacard",
           "Lady Lily"
          ],
          [
           "Boys And Girls",
           "Mandy Smith"
          ],
          [
           "Nachts hör ich dich manchmal weinen",
           "Helmut Frey"
          ],
          [
           "Garden party",
           "Mezzoforte"
          ],
          [
           "Pan",
           "Costa Cordalis"
          ],
          [
           "Give Me More",
           "The Teens"
          ],
          [
           "Nun sag schon Adieu",
           "Hannes Schöner"
          ],
          [
           "Hypnotic Tango - Remix 7\" Version",
           "My Mine"
          ],
          [
           "Küss die Hand schöne Frau",
           "EAV (Erste Allgemeine Verunsicherung),TURBOBIER"
          ],
          [
           "Der Gnubbel",
           "Mike Krüger"
          ],
          [
           "Little River",
           "Audrey Landers"
          ],
          [
           "I Love Men",
           "Eartha Kitt"
          ],
          [
           "When Boys Talk",
           "Indeep"
          ],
          [
           "Fools Cry",
           "Fancy"
          ],
          [
           "Galbi",
           "Ofra Haza"
          ],
          [
           "Night After Night (ZDF Disco 14.12.1981)",
           "Bernie Paul"
          ],
          [
           "Herbert",
           "Gottlieb Wendehals"
          ],
          [
           "Symptoms Of True Love",
           "Tracie Spencer"
          ],
          [
           "Wenn ich dich nicht hätte",
           "Karel Gott"
          ],
          [
           "Monkey",
           "George Michael"
          ],
          [
           "Absolute Beginners - Dub Mix",
           "David Bowie"
          ],
          [
           "Wenn ich dich verlier",
           "Hoffmann & Hoffmann"
          ],
          [
           "Are You Getting Enough of What Makes You Happy",
           "Hot Chocolate"
          ],
          [
           "Ich Will (Patitu)",
           "UKW"
          ],
          [
           "New York, New York",
           "Grandmaster Flash & The Furious Five"
          ],
          [
           "We Are on the Race Track",
           "Precious Wilson"
          ],
          [
           "Mehr von dir",
           "Nicki"
          ],
          [
           "Wenn ich dich verlier",
           "Hoffmann & Hoffmann"
          ],
          [
           "New York, New York",
           "Grandmaster Flash & The Furious Five"
          ],
          [
           "Goldener reiter",
           "Joachim Witt"
          ],
          [
           "Like Flames (Re-Recorded)",
           "Berlin"
          ],
          [
           "A Love Supreme",
           "Will Downing"
          ],
          [
           "Dum Dum Girl",
           "Talk Talk"
          ],
          [
           "Letter From My Heart - Club Mix",
           "Steve Allen"
          ],
          [
           "Waiting For Another Chance",
           "Endgames"
          ],
          [
           "Wolkenreise",
           "Eroc"
          ],
          [
           "Didn’t We Almost Have It All - Live",
           "Whitney Houston"
          ],
          [
           "City Lights - Instrumental",
           "William Pitt"
          ],
          [
           "Marie, Marie",
           "Olsen Brothers"
          ],
          [
           "Turaluraluralu - Ich mach Bubu was machst du",
           "Trio"
          ],
          [
           "Keep On Movin' (feat. Caron Wheeler)",
           "Soul II Soul,Caron Wheeler"
          ],
          [
           "For Your Love",
           "Peter Kent"
          ],
          [
           "If You Don't Know Me by Now",
           "Simply Red"
          ],
          [
           "In for a Penny, in for a Pound",
           "Arabesque,Michaela Rose"
          ],
          [
           "Das Mädchen auf der Treppe - From 'Tatort' Original Television Soundtrack",
           "Tangerine Dream"
          ],
          [
           "Tubbs And Valerie",
           "Jan Hammer"
          ],
          [
           "Let's Dance Tonight",
           "Pia Zadora"
          ],
          [
           "Consuela Biaz",
           "Boney M."
          ],
          [
           "Heartache",
           "Pepsi & Shirlie"
          ],
          [
           "Resi, i hol di mit mei'm Traktor ab",
           "Wolfgang Fierek"
          ],
          [
           "Love in Your Eyes",
           "Limahl,Brian Reeves,Harry Schnitzler"
          ],
          [
           "Happy Station",
           "Fun Fun"
          ],
          [
           "Every 1's a Winner - Groove Mix",
           "Hot Chocolate"
          ],
          [
           "Wait",
           "Kym Mazelle,Robert Howard"
          ],
          [
           "Lady Of the Dawn",
           "Mike Batt"
          ],
          [
           "Frankreich, Frankreich",
           "Bläck Fööss"
          ],
          [
           "Tierischer Tango",
           "Dieter Hallervorden"
          ],
          [
           "Abacab",
           "Genesis"
          ],
          [
           "Shandi",
           "KISS"
          ],
          [
           "Heartache",
           "Pepsi & Shirlie"
          ],
          [
           "Cinderella",
           "Geoffrey Williams"
          ],
          [
           "Hallo Klaus - I wui nur zruck",
           "Nickerbocker,Biene"
          ],
          [
           "Die Frau, die dich liebt",
           "Gitte Haenning"
          ],
          [
           "Incommunicado",
           "Marillion"
          ],
          [
           "My Soul Unwraps Tonight",
           "Savage Progress"
          ],
          [
           "Heartache Away",
           "Don Johnson"
          ],
          [
           "Wo bist du?",
           "Spider Murphy Gang"
          ],
          [
           "Changing Minds",
           "16 Bit"
          ],
          [
           "Tears on the Telephone",
           "Hot Chocolate"
          ],
          [
           "Little Town Flirt",
           "Smokie"
          ],
          [
           "Love Spy",
           "Mike Mareen"
          ],
          [
           "Reach Out",
           "Giorgio Moroder,Paul Engemann"
          ],
          [
           "Big Bubbles, No Troubles",
           "Ellis, Beggs & Howard"
          ],
          [
           "Face To Face",
           "Frank Duval"
          ],
          [
           "Thought you were on my side",
           "Cock Robin"
          ],
          [
           "Everything Counts - Live",
           "Depeche Mode"
          ],
          [
           "Balla... Balla Vol. 2",
           "Francesco Napoli"
          ],
          [
           "Big Bubbles, No Troubles",
           "Ellis, Beggs & Howard"
          ],
          [
           "Wohin gehst du",
           "Roland Kaiser"
          ],
          [
           "Du hast es gut",
           "Milva"
          ],
          [
           "Playa Blanca",
           "Andrea Jürgens"
          ],
          [
           "I Should Be so Lucky",
           "Kylie Minogue"
          ],
          [
           "It's Late",
           "Shakin' Stevens"
          ],
          [
           "Pistolero",
           "Dschinghis Khan"
          ],
          [
           "Loving The Alien - Live",
           "David Bowie"
          ],
          [
           "Und ein Engel fliegt in die Nacht",
           "Nino de Angelo"
          ],
          [
           "In Over My Head",
           "Dr. Hook"
          ],
          [
           "Hot Summer Nites",
           "Helen Schneider,The Kick"
          ],
          [
           "A World Without You (Michelle) '98",
           "Bad Boys Blue"
          ],
          [
           "La Provence (Du blühendes Land)",
           "Nana Mouskouri"
          ],
          [
           "Dancing in the Street - Dub",
           "David Bowie,Mick Jagger"
          ],
          [
           "Call It Love",
           "Yello"
          ],
          [
           "Laß die Sonne in Dein Herz",
           "Wind"
          ],
          [
           "Engel und Teufel, Luisa",
           "Nino de Angelo"
          ],
          [
           "Dann ist der Wurm drin",
           "Jürgen von der Lippe"
          ],
          [
           "Solo Por Ti",
           "Peter Kent & Friends"
          ],
          [
           "Riding on a Train",
           "The Pasadenas"
          ],
          [
           "Ashes To Ashes",
           "David Bowie"
          ],
          [
           "Another Life",
           "Kano"
          ],
          [
           "Zuppa Romana",
           "Schrott nach 8"
          ],
          [
           "Die Gefühle sind frei",
           "Roland Kaiser"
          ],
          [
           "Are You Ready",
           "Billy Ocean"
          ],
          [
           "Whatever I Do (Wherever I Go)",
           "Hazell Dean"
          ],
          [
           "Ooh Shooby Doo Doo Lang",
           "Aneka"
          ],
          [
           "Flash - Live",
           "Queen"
          ],
          [
           "Tears Of Ice",
           "Bolland"
          ],
          [
           "Street Dance",
           "Break Machine"
          ],
          [
           "Slave to Love",
           "Bryan Ferry,The Bryan Ferry Orchestra"
          ],
          [
           "Sussudio - Live 1990",
           "Phil Collins"
          ],
          [
           "Tears Of Ice",
           "Bolland"
          ],
          [
           "Mama Lorraine",
           "G.G. Anderson"
          ],
          [
           "What's It Take?",
           "Robert Palmer"
          ],
          [
           "Bye Bye My Love",
           "Bläck Fööss"
          ],
          [
           "Holiday Rap",
           "Mc Miker G & DJ Sven"
          ],
          [
           "Wee Rule (Remix)",
           "Wee Papa Girl Rappers"
          ],
          [
           "Love Somebody",
           "Rick Springfield"
          ],
          [
           "Feuer und Flamme",
           "Nena"
          ],
          [
           "Wer von uns",
           "Howard Carpendale"
          ],
          [
           "Say Hello, Wave Goodbye",
           "Soft Cell"
          ],
          [
           "Heaven In My Hands",
           "Level 42"
          ],
          [
           "Balla... Balla Vol. 1",
           "Francesco Napoli"
          ],
          [
           "Cause You Are Young - Re-Recorded Version",
           "C.C. Catch"
          ],
          [
           "Hadschi Halef Omar",
           "Dschinghis Khan"
          ],
          [
           "Now That You're Gone",
           "Joe Cocker"
          ],
          [
           "Adios amor",
           "Andy Borg"
          ],
          [
           "System Addict",
           "Five Star"
          ],
          [
           "Lost In Music",
           "Sister Sledge"
          ],
          [
           "Julian",
           "Mandy Winter"
          ],
          [
           "Lost Again",
           "Yello"
          ],
          [
           "Wenn die Blumen weinen könnten",
           "Nicole"
          ],
          [
           "Ant Rap",
           "Adam & The Ants"
          ],
          [
           "All She Wants Is",
           "Duran Duran"
          ],
          [
           "Mind Of A Toy",
           "Visage"
          ],
          [
           "Rom",
           "Dschinghis Khan"
          ],
          [
           "Viva Torero",
           "A La Carte"
          ],
          [
           "alone",
           "HeartScar"
          ],
          [
           "Ant Rap",
           "Adam & The Ants"
          ],
          [
           "In Dreams",
           "Bernie Paul"
          ],
          [
           "That Ole Devil Called Love",
           "Alison Moyet"
          ],
          [
           "Do Ya Do Ya (Wanna Please Me)",
           "Samantha Fox"
          ],
          [
           "I am What I am",
           "Gloria Gaynor"
          ],
          [
           "Strangers Thoughts",
           "Camouflage"
          ],
          [
           "Paperlate",
           "Genesis"
          ],
          [
           "It's a Real Good Feeling",
           "Peter Kent,Luisa Fernandez"
          ],
          [
           "Walk This Way (feat. Aerosmith) - 7\" Single Version",
           "Run–D.M.C.,Aerosmith"
          ],
          [
           "Catch My Fall",
           "Billy Idol"
          ],
          [
           "Nobody Wins - Remastered 2003",
           "Elton John"
          ],
          [
           "Johnny Loves Jenny",
           "Chilly"
          ],
          [
           "Felicidad (Margherita)",
           "Boney M."
          ],
          [
           "Paranoimia",
           "The Art Of Noise"
          ],
          [
           "Alpenrap",
           "EAV (Erste Allgemeine Verunsicherung)"
          ],
          [
           "The Spanish Night Is Over",
           "Engelbert Humperdinck"
          ],
          [
           "Blame It on the Boogie - PWL Mix",
           "Big Fun"
          ],
          [
           "Ich will den Morgen mit dir erleben",
           "Howard Carpendale"
          ],
          [
           "Am weissen Strand von San Angelo",
           "G.G. Anderson"
          ],
          [
           "Big Time",
           "C.C. Catch"
          ],
          [
           "I Don't Know",
           "Precious Wilson"
          ],
          [
           "Carrie",
           "Cliff Richard"
          ],
          [
           "Die Fischer von San Juan",
           "Tommy Steiner"
          ],
          [
           "Marigot Bay",
           "Arabesque"
          ],
          [
           "Kisses On The Wind",
           "Neneh Cherry"
          ],
          [
           "Harlem Shuffle",
           "The Rolling Stones"
          ],
          [
           "Kingston, Kingston",
           "Lou & The Hollywood Bananas"
          ],
          [
           "Mariana",
           "Gibson Brothers"
          ],
          [
           "Get Lucky",
           "Jermaine Stewart"
          ],
          [
           "The Last Kiss",
           "David Cassidy"
          ],
          [
           "Kingston, Kingston",
           "Lou & The Hollywood Bananas"
          ],
          [
           "Only for Love",
           "Limahl"
          ],
          [
           "Fremde Erde",
           "Roy Black"
          ],
          [
           "Fred vom Jupiter",
           "Die Doraus & Die Marinas"
          ],
          [
           "Fred vom Jupiter",
           "Die Doraus & Die Marinas"
          ],
          [
           "Stand Up For Your Love Rights",
           "Yazz"
          ],
          [
           "When You Ask About Love",
           "Matchbox"
          ],
          [
           "Drop the Boy",
           "Bros"
          ],
          [
           "Shine Up",
           "Doris D.,The Pins"
          ],
          [
           "Fürstenfeld - live Version",
           "STS,Opus"
          ],
          [
           "This Is The World Calling",
           "Bob Geldof,Bob Clearmountain"
          ],
          [
           "Sweet Sixteen",
           "Billy Idol"
          ],
          [
           "We Don't Talk Anymore",
           "Cliff Richard"
          ],
          [
           "Play The Game",
           "Killer Queen,Yuppies"
          ],
          [
           "Innocent Love",
           "Sandra"
          ],
          [
           "I Need You",
           "B.V.S.M.P."
          ],
          [
           "Bamboleo",
           "Gipsy Kings"
          ],
          [
           "Stay - The 1993 Remix",
           "Bonnie Bianco, Pierre Cosso"
          ],
          [
           "Erinnerung",
           "Angelika Milster"
          ],
          [
           "Operator",
           "Midnight Star"
          ],
          [
           "Sun City",
           "Artists United Against Apartheid"
          ],
          [
           "Such a Night",
           "Racey"
          ],
          [
           "Stop'n'go",
           "Peter Kent"
          ],
          [
           "It's Alright (Baby's Coming Back)",
           "Eurythmics,Annie Lennox,Dave Stewart"
          ],
          [
           "Strada del sole",
           "Rainhard Fendrich"
          ],
          [
           "Oh Baby",
           "Münchener Freiheit"
          ],
          [
           "Shiny Shiny",
           "Haysi Fantayzee"
          ],
          [
           "Messaggio",
           "Alice"
          ],
          [
           "Es geht um mehr",
           "Howard Carpendale"
          ],
          [
           "Vicious Games",
           "Yello"
          ],
          [
           "It's My Party",
           "Dave Stewart,Barbara Gaskin"
          ],
          [
           "Run to Me",
           "Smokie"
          ],
          [
           "Angel Of Mine",
           "Frank Duval"
          ],
          [
           "Der blonde Hans",
           "Hannes Kröger"
          ],
          [
           "Your Heart Keeps Burning",
           "A Blind Date"
          ],
          [
           "Babacar",
           "France Gall"
          ],
          [
           "I Love to Love - Remix '93",
           "Tina Charles"
          ],
          [
           "Give Me Your Love",
           "Fun Fun"
          ],
          [
           "Coming Up",
           "Paul McCartney"
          ],
          [
           "Hip Hap Hop",
           "Spargo"
          ],
          [
           "Sorry Little Sarah",
           "Blue System"
          ],
          [
           "The Winds Of Change",
           "Mike Batt"
          ],
          [
           "In Zaire - Blood Mix",
           "Round One"
          ],
          [
           "Chains of Love - Live",
           "Erasure"
          ],
          [
           "Charleston",
           "Den Harrow"
          ],
          [
           "Wem...",
           "Howard Carpendale,Royal Philharmonic Orchestra"
          ],
          [
           "China Girl",
           "David Bowie"
          ],
          [
           "Wot",
           "Captain Sensible"
          ],
          [
           "Samuraj",
           "Nino de Angelo"
          ],
          [
           "What Am I Gonna Do (I'm so in Love with You)",
           "Rod Stewart"
          ],
          [
           "Flying on the Wings Of Tenderness - Radio Version",
           "David Hasselhoff"
          ],
          [
           "This Is Not America (The theme from 'The Falcon And The Snowman' - 2018 Remaster",
           "David Bowie,Pat Metheny Group"
          ],
          [
           "What's the Colour of Money",
           "Hollywood Beyond"
          ],
          [
           "Rain",
           "Goombay Dance Band"
          ],
          [
           "Girl Crazy",
           "Hot Chocolate"
          ],
          [
           "Dominoes",
           "Robbie Nevil"
          ],
          [
           "High Society Girl",
           "Laid Back"
          ],
          [
           "Love Touch",
           "Rod Stewart"
          ],
          [
           "Tonight, Tonight, Tonight",
           "Genesis"
          ],
          [
           "Ooh, Yes I Do",
           "Luv'"
          ],
          [
           "Love Suite",
           "Blue System"
          ],
          [
           "Hale, hey Louise",
           "Ricky King"
          ],
          [
           "After the Love Has Gone",
           "Princess"
          ],
          [
           "Weil du ein zärtlicher Mann bist",
           "Hanne Haller"
          ],
          [
           "It's Raining",
           "Shakin' Stevens"
          ],
          [
           "Desire",
           "Roni Griffith"
          ],
          [
           "Nothing's Gonna Change My Love for You",
           "Forte' & Glenn Medeiros"
          ],
          [
           "Bobby Brown",
           "Frank Zappa"
          ],
          [
           "You Sexy Thing - Remix",
           "Hot Chocolate"
          ],
          [
           "Look Mama",
           "Howard Jones"
          ],
          [
           "Then He Kissed Me/Be My Baby",
           "Rachel Sweet"
          ],
          [
           "Waltz Darling",
           "Malcolm McLaren,The Bootzilla Orchestra"
          ],
          [
           "Can I Reach You",
           "Jack Goldbird"
          ],
          [
           "Up All Night",
           "The Boomtown Rats"
          ],
          [
           "If I Was",
           "Midge Ure"
          ],
          [
           "Running In The Family",
           "Level 42"
          ],
          [
           "Oh L'amour",
           "Dollar"
          ],
          [
           "My Camera Never Lies",
           "Bucks Fizz"
          ],
          [
           "Laß mich nicht allein",
           "Nicole"
          ],
          [
           "Long Train Running",
           "Traks"
          ],
          [
           "Saddle Up",
           "David Christie"
          ],
          [
           "Tomorrow",
           "The Communards"
          ],
          [
           "Doctor Doctor (Help Me Please)",
           "A La Carte"
          ],
          [
           "Boys Don't Cry - New Voice Club Mix 1986",
           "The Cure"
          ],
          [
           "Pilot Of The Airwaves",
           "Charlie Dore"
          ],
          [
           "Linda",
           "Ace Cats"
          ],
          [
           "Ich will alles",
           "Gitte Haenning"
          ],
          [
           "Love System",
           "The Twins"
          ],
          [
           "Slice Me Nice",
           "Fancy"
          ],
          [
           "Remember Then",
           "Showaddywaddy"
          ],
          [
           "Wenn ich je deine Liebe verlier",
           "Rex Gildo"
          ],
          [
           "Through the Barricades",
           "Spandau Ballet"
          ],
          [
           "Fire and Ice",
           "Marietta Waters"
          ],
          [
           "Just A Day Away (Forever Tomorrow)",
           "Barclay James Harvest"
          ],
          [
           "Atemlos",
           "Nino de Angelo"
          ],
          [
           "When The Rain Begins To Fall",
           "Pia Zadora,Jermaine Jackson"
          ],
          [
           "Mama Lorraine",
           "Andrea Jürgens"
          ],
          [
           "Don’t Dream It’s Over - Home Demo",
           "Crowded House"
          ],
          [
           "Ooh to Be Ah",
           "Kajagoogoo"
          ],
          [
           "Laura Jane",
           "Howard Carpendale"
          ],
          [
           "Weil es dich gibt",
           "Peter Maffay"
          ],
          [
           "Rücksicht",
           "Hoffmann & Hoffmann"
          ],
          [
           "Im Nin'alu",
           "Ofra Haza"
          ],
          [
           "Babe It's Up to You",
           "Smokie"
          ],
          [
           "Papillon",
           "Nicole"
          ],
          [
           "Smooth Criminal",
           "Michael Jackson,David Garrett,Ivan Kojouharov,Bulgarian Symphony Orchestra"
          ],
          [
           "Mama's Boy",
           "Suzi Quatro"
          ],
          [
           "I Do The Rock",
           "Tim Curry"
          ],
          [
           "Little Lady",
           "Aneka"
          ],
          [
           "Major Tom (Völlig losgelöst)",
           "Peter Schilling"
          ],
          [
           "This Is the Right Time",
           "Lisa Stansfield"
          ],
          [
           "Turn Your Back on Me",
           "Kajagoogoo"
          ],
          [
           "Rücksicht",
           "Hoffmann & Hoffmann"
          ],
          [
           "Soul Survivor '99",
           "C.C. Catch"
          ],
          [
           "Disco Project",
           "Pink Project"
          ],
          [
           "Hiiigh",
           "Sandra Hesch"
          ],
          [
           "The Second Time",
           "Kim Wilde"
          ],
          [
           "Freu dich bloß nicht zu früh",
           "Gitte Haenning"
          ],
          [
           "My Bonnie",
           "Goombay Dance Band"
          ],
          [
           "Simply A Love Song",
           "Chilly"
          ],
          [
           "Cry Softly (Time Is Mourning)",
           "Secret Service"
          ],
          [
           "Emotional Rescue",
           "The Rolling Stones"
          ],
          [
           "Dancing Girls",
           "Nik Kershaw"
          ],
          [
           "Cross My Heart",
           "Eighth Wonder"
          ],
          [
           "Just The Way You Like It",
           "The S.O.S Band"
          ],
          [
           "Dann heirat' doch dein Büro",
           "Katja Ebstein"
          ],
          [
           "The Lover In Me",
           "Sheena Easton"
          ],
          [
           "(Do) The Hucklebuck",
           "Coast To Coast"
          ],
          [
           "Distant Love",
           "Maywood"
          ],
          [
           "Stars On 45 Proudly Presents The Star Sisters - Original Single Edit",
           "Stars On 45,The Star Sisters"
          ],
          [
           "Fashion",
           "David Bowie"
          ],
          [
           "Lost in You",
           "Rod Stewart"
          ],
          [
           "Der Typ neben ihr",
           "Kim Merz"
          ],
          [
           "Bad Boy",
           "Den Harrow"
          ],
          [
           "Girl I'm Gonna Miss You",
           "Milli Vanilli"
          ],
          [
           "I Missed Again - Demo",
           "Phil Collins"
          ],
          [
           "Hanging On a Heart Attack",
           "Device"
          ],
          [
           "Japanese Boy",
           "Andrea Jürgens"
          ],
          [
           "Zu Nah Am Feuer - 2011 Remaster",
           "Alice,Stefan Waggershausen"
          ],
          [
           "Who'll Come With Me (David's Song)",
           "The Kelly Family,Papa Kelly"
          ],
          [
           "Up Where We Belong",
           "Jennifer Warnes,Joe Cocker"
          ],
          [
           "Street Cafe",
           "ICEHOUSE"
          ],
          [
           "Roses Are Red",
           "Mac Band"
          ],
          [
           "On the Road Again",
           "Barrabas"
          ],
          [
           "Oben ohne",
           "Rainhard Fendrich"
          ],
          [
           "Every Day (I Love You More)",
           "Jason Donovan"
          ],
          [
           "Agadou",
           "Saragossa Band"
          ],
          [
           "Jenseits von Eden",
           "Nino de Angelo"
          ],
          [
           "Uschi",
           "Stephan Sulke"
          ],
          [
           "Katrin",
           "Bläck Fööss"
          ],
          [
           "Lies",
           "Status Quo"
          ],
          [
           "Xanadu - 2000 version",
           "Electric Light Orchestra"
          ],
          [
           "Love Blonde",
           "Kim Wilde"
          ],
          [
           "Fantasy Island",
           "Tight Fit"
          ],
          [
           "New Song",
           "Howard Jones"
          ],
          [
           "Start Me Up",
           "The Rolling Stones"
          ],
          [
           "Queen of Hearts",
           "Juice Newton"
          ],
          [
           "Abschied ist ein bisschen wie sterben",
           "Katja Ebstein"
          ],
          [
           "Brand New Toy",
           "The Jeremy Days"
          ],
          [
           "She's in Love with You",
           "Suzi Quatro"
          ],
          [
           "No Mercy",
           "The Stranglers"
          ],
          [
           "Geil - 1986",
           "Bruce & Bongo"
          ],
          [
           "Geil - 1986",
           "Bruce & Bongo"
          ],
          [
           "One Love to Give",
           "Stephanie"
          ],
          [
           "Wired for Sound",
           "Cliff Richard"
          ],
          [
           "Der Spieler",
           "Achim Reichel"
          ],
          [
           "Big Apple",
           "Kajagoogoo"
          ],
          [
           "River Blue",
           "A La Carte"
          ],
          [
           "Theater",
           "Katja Ebstein"
          ],
          [
           "Stone Love",
           "Kool & The Gang"
          ],
          [
           "Hot Girl",
           "Sabrina"
          ],
          [
           "Stone Love",
           "Kool & The Gang"
          ],
          [
           "Happy Song",
           "Boney M."
          ],
          [
           "True Devotion",
           "Samantha Fox"
          ],
          [
           "Bring Back (Sha Na Na)",
           "Mixed Emotions"
          ],
          [
           "Electrica Salsa - Baba Baba",
           "OFF"
          ],
          [
           "Aloha-Oe, Until We Meet Again",
           "Goombay Dance Band"
          ],
          [
           "The Plastic Age",
           "The Buggles"
          ],
          [
           "Broken Heroes",
           "Chris Norman"
          ],
          [
           "The Rumour",
           "Olivia Newton-John"
          ],
          [
           "You to Me Are Everything - The Decade Remix '76-'86",
           "The Real Thing"
          ],
          [
           "Vollmond",
           "Herbert Grönemeyer"
          ],
          [
           "Flesh For Fantasy",
           "Billy Idol"
          ],
          [
           "Das Blech",
           "Spliff"
          ],
          [
           "Der Eiermann",
           "Klaus & Klaus"
          ],
          [
           "Du hattest keine Tränen mehr",
           "Peter Maffay"
          ],
          [
           "I.O.U.",
           "Freeeze"
          ],
          [
           "You",
           "Boytronic"
          ],
          [
           "Der Eiermann",
           "Klaus & Klaus"
          ],
          [
           "Einmal Nur Mit Erika... (Dieser Welt Entfliehn) - 7\" Version",
           "Hubert Kah"
          ],
          [
           "Maybe (Theme from Grizzly Adams LIVE 2010)",
           "Thom Pace"
          ],
          [
           "Sommersprossen",
           "UKW"
          ],
          [
           "Samurai",
           "Michael Cretu"
          ],
          [
           "Dreamin'",
           "Cliff Richard"
          ],
          [
           "Yeh Yeh",
           "Matt Bianco"
          ],
          [
           "Dolce vita",
           "Ryan Paris"
          ],
          [
           "Loreley",
           "Dschinghis Khan"
          ],
          [
           "Toy Boy",
           "Sinitta"
          ],
          [
           "Bamboleo",
           "Chico & The Gypsies"
          ],
          [
           "The Jet Set",
           "Alphaville"
          ],
          [
           "Put a Little Love on Me",
           "Delegation"
          ],
          [
           "Let's Go Dancin' (Ooh La La La)",
           "Kool & The Gang"
          ],
          [
           "Especially for You",
           "Kylie Minogue,Jason Donovan"
          ],
          [
           "Indestructible",
           "Four Tops"
          ],
          [
           "Samstag Abend",
           "Hanne Haller"
          ],
          [
           "An Englishman In New York",
           "Godley & Creme"
          ],
          [
           "La bamba",
           "Los Lobos"
          ],
          [
           "An Englishman In New York",
           "Godley & Creme"
          ],
          [
           "Hallo Engel",
           "Stefan Waggershausen"
          ],
          [
           "Lover Come Back (To Me)",
           "Dead Or Alive"
          ],
          [
           "Chinese Eyes",
           "Fancy"
          ],
          [
           "Chi mai",
           "Ennio Morricone"
          ],
          [
           "Do The Right Thing",
           "Redhead Kingpin,The FBI"
          ],
          [
           "Strangers by Night",
           "C.C. Catch"
          ],
          [
           "For You Only",
           "Alison Moyet"
          ],
          [
           "Jack To The Sound Of The Underground",
           "Hithouse"
          ],
          [
           "I Want Your Sex, Pt. 2",
           "George Michael"
          ],
          [
           "Kisses and Tears",
           "Bad Boys Blue"
          ],
          [
           "Der Nippel - Live",
           "Mike Krüger"
          ],
          [
           "Mein lieber Mann",
           "Hanne Haller"
          ],
          [
           "Mädchen Mädchen",
           "G.G. Anderson"
          ],
          [
           "Infatuation",
           "Rod Stewart"
          ],
          [
           "Tango Korrupti",
           "Rainhard Fendrich"
          ],
          [
           "Flames of Paradise",
           "Jennifer Rush,Elton John"
          ],
          [
           "Zabadak",
           "Saragossa Band"
          ],
          [
           "Silver Dagger",
           "Sally Oldfield"
          ],
          [
           "Being Boiled",
           "The Human League"
          ],
          [
           "Each Word's a Beat of My Heart",
           "Mink DeVille"
          ],
          [
           "Imagine",
           "John Lennon,Fron Male Voice Choir,Cliff Masterson,The Czech Film Orchestra"
          ],
          [
           "My Favourite Waste of Time",
           "Owen Paul"
          ],
          [
           "Never Never",
           "The Assembly"
          ],
          [
           "Schwarzes Gold",
           "Peter Alexander"
          ],
          [
           "Naughty Girls (Need Love Too)",
           "Samantha Fox"
          ],
          [
           "Waves",
           "Blancmange"
          ],
          [
           "Eiszeit",
           "Ideal"
          ],
          [
           "Aliens",
           "Radiorama"
          ],
          [
           "Magic - Live",
           "Olivia Newton-John,The Sydney Orchestra"
          ],
          [
           "Alles was ich brauche bist du",
           "Hoffmann & Hoffmann"
          ],
          [
           "Alles was ich brauche bist du",
           "Hoffmann & Hoffmann"
          ],
          [
           "Something 'Bout You Baby I Like",
           "Status Quo"
          ],
          [
           "It's Called a Heart",
           "Depeche Mode"
          ],
          [
           "Sweet September",
           "Tony Christie"
          ],
          [
           "Banana Republic",
           "The Boomtown Rats"
          ],
          [
           "Let's Dance",
           "David Bowie"
          ],
          [
           "Fantasy - 12\" Version",
           "Lian Ross"
          ],
          [
           "Ayla",
           "Flash and the Pan"
          ],
          [
           "Sommernacht in Rom",
           "G.G. Anderson"
          ],
          [
           "Perfect",
           "Fairground Attraction"
          ],
          [
           "Ayla",
           "Flash and the Pan"
          ],
          [
           "Dancing into Danger",
           "Inker & Hamilton"
          ],
          [
           "Hello Again",
           "Howard Carpendale"
          ],
          [
           "Hey Matthew",
           "Karel Fialka"
          ],
          [
           "Shirley",
           "Shakin' Stevens"
          ],
          [
           "Dancing into Danger",
           "Inker & Hamilton"
          ],
          [
           "Blau blüht der Enzian",
           "Heino"
          ],
          [
           "Für alle",
           "Wind"
          ],
          [
           "St. Tropez",
           "Die Flippers"
          ],
          [
           "People from Ibiza",
           "Sandy Marton"
          ],
          [
           "Ich hab' dich doch lieb",
           "Nicole"
          ],
          [
           "Come into My Life",
           "Joyce Sims"
          ],
          [
           "On My Way In L.A.",
           "Phil Carmen"
          ],
          [
           "All of You (feat. Diana Ross)",
           "Julio Iglesias,Diana Ross"
          ],
          [
           "Ship of Fools",
           "Erasure"
          ],
          [
           "Pulstar",
           "Hypnosis"
          ],
          [
           "Bitte, Bitte",
           "Die Ärzte"
          ],
          [
           "Just For You",
           "Mixed Emotions"
          ],
          [
           "Alphabet St.",
           "Prince"
          ],
          [
           "Maschine brennt",
           "Falco"
          ],
          [
           "C’est la vie",
           "Robbie Nevil"
          ],
          [
           "Who's That Girl?",
           "Eurythmics,Annie Lennox,Dave Stewart"
          ],
          [
           "The Getaway",
           "Chris de Burgh"
          ],
          [
           "Su di noi",
           "Pupo"
          ],
          [
           "Vielleicht irgendwann",
           "Juliane Werding"
          ],
          [
           "Es gibt kein nächstes Mal",
           "Münchener Freiheit"
          ],
          [
           "Lucifer",
           "The Alan Parsons Project"
          ],
          [
           "Je ne sais pas pourquoi",
           "Kylie Minogue"
          ],
          [
           "Midnight Man",
           "Sandra"
          ],
          [
           "Zauberstab",
           "ZaZa"
          ],
          [
           "Piccolo amore",
           "Ricchi E Poveri"
          ],
          [
           "Die Glocken von Rom",
           "Heike Schäfer"
          ],
          [
           "Once Upon A Long Ago",
           "Paul McCartney"
          ],
          [
           "Blow the House Down",
           "Living In A Box"
          ],
          [
           "Ein weißes Blatt'l Papier",
           "Relax"
          ],
          [
           "Radio Ga Ga - Live",
           "Queen"
          ],
          [
           "Verlorenes Paradies",
           "Vicky Leandros"
          ],
          [
           "Crazy Music",
           "Ottawan"
          ],
          [
           "Another Lonely Night In New York",
           "Robin Gibb"
          ],
          [
           "Dreamin'",
           "Status Quo"
          ],
          [
           "Together We're Strong",
           "Mireille Mathieu,Patrick Duffy"
          ],
          [
           "Oh No No",
           "Bernie Paul"
          ],
          [
           "Geh nicht in die Stadt (heut Nacht)",
           "Juliane Werding"
          ],
          [
           "Holding Out for a Hero",
           "Bonnie Tyler"
          ],
          [
           "Am weißen Strand von Helgoland",
           "Niko"
          ],
          [
           "Deja Vu - English Version",
           "Spliff"
          ],
          [
           "People Hold On (feat. Lisa Stansfield) - Radio Edit",
           "Coldcut,Lisa Stansfield"
          ],
          [
           "Desire",
           "Yello"
          ],
          [
           "When the Going Gets Tough, the Tough Get Going",
           "Billy Ocean"
          ],
          [
           "Put A Little Love In Your Heart",
           "Al Green,Annie Lennox"
          ],
          [
           "San Francisco Bay",
           "Smokie"
          ],
          [
           "Comanchero",
           "Raggio Di Luna (Moon Ray)"
          ],
          [
           "Stairway to Heaven",
           "Far Corporation"
          ],
          [
           "Shanghai",
           "Lee Marrow"
          ],
          [
           "I Want to Wake Up With You",
           "Boris Gardiner,Rudy Thomas,Steven Stanley,Willie Lindo"
          ],
          [
           "Lucky In Love",
           "Mick Jagger"
          ],
          [
           "Do They Know It's Christmas? - 2014",
           "Band Aid 30"
          ],
          [
           "Das Lied von Manuel",
           "Manuel & Pony"
          ],
          [
           "Give Me Your Love",
           "Frank Duval"
          ],
          [
           "Words",
           "F.R. David"
          ],
          [
           "Bodo mit dem Bagger",
           "Mike Krüger"
          ],
          [
           "I Can Lose My Heart Tonight",
           "C.C. Catch"
          ],
          [
           "When I Fall in Love",
           "Rick Astley"
          ],
          [
           "Delirio Mind",
           "Scotch"
          ],
          [
           "Wegen dir",
           "Nicki"
          ],
          [
           "You Keep Me Hangin' On",
           "Kim Wilde,Nena"
          ],
          [
           "Angel of the Morning",
           "Juice Newton"
          ],
          [
           "Heartbreak Hotel",
           "C.C. Catch"
          ],
          [
           "Hohe Berge",
           "Frl. Menke"
          ],
          [
           "Teardrops",
           "Shakin' Stevens"
          ],
          [
           "Polizisten",
           "Extrabreit"
          ],
          [
           "I Surrender (To the Spirit of the Night)",
           "Samantha Fox"
          ],
          [
           "Here I Am",
           "Dominoe"
          ],
          [
           "Tiefer",
           "Peter Maffay"
          ],
          [
           "25 Lovers",
           "Jennifer Rush"
          ],
          [
           "Dream",
           "P. Lion"
          ],
          [
           "Wrapped Around Your Finger",
           "The Police"
          ],
          [
           "(You Gotta) Fight For Your Right (To Party!)",
           "Beastie Boys"
          ],
          [
           "Manuel Goodbye",
           "Audrey Landers"
          ],
          [
           "Doctorin’ The Tardis",
           "The Timelords"
          ],
          [
           "You Take Me Up",
           "Thompson Twins"
          ],
          [
           "Green Door",
           "Shakin' Stevens"
          ],
          [
           "Der Papa wird's schon richten",
           "Peter Alexander"
          ],
          [
           "Easy",
           "Ice Mc,Campbell I.C."
          ],
          [
           "Kinder an die Macht",
           "Herbert Grönemeyer"
          ],
          [
           "Living On An Island",
           "Status Quo"
          ],
          [
           "Buzz Buzz a Diddle It",
           "Matchbox"
          ],
          [
           "Road to Nowhere",
           "Talking Heads"
          ],
          [
           "Who's Leaving Who",
           "Hazell Dean"
          ],
          [
           "Rette mich",
           "Nena"
          ],
          [
           "Das Lied von Manuel",
           "Manuel & Pony"
          ],
          [
           "Pretend",
           "Alvin Stardust"
          ],
          [
           "Sehnsucht ist unheilbar",
           "Juliane Werding"
          ],
          [
           "Nobody's Diary",
           "Yazoo"
          ],
          [
           "All Cried Out",
           "Alison Moyet"
          ],
          [
           "Lunatic",
           "Gazebo"
          ],
          [
           "The Lucky One",
           "Laura Branigan"
          ],
          [
           "Miami Vice Theme",
           "Jan Hammer"
          ],
          [
           "Oops Up Side Your Head - 12\" Single Version",
           "The Gap Band"
          ],
          [
           "In the Air Tonight - '88 Remix",
           "Phil Collins"
          ],
          [
           "Hide And Seek",
           "Howard Jones"
          ],
          [
           "Ballet Dancer",
           "The Twins"
          ],
          [
           "I Don't Wanna Get Hurt",
           "Donna Summer"
          ],
          [
           "An der Copacabana",
           "EAV (Erste Allgemeine Verunsicherung)"
          ],
          [
           "Stay the Night",
           "Chicago"
          ],
          [
           "Mexico",
           "Die Flippers"
          ],
          [
           "Holiday Rap",
           "MC Miker G,Deejay Sven"
          ],
          [
           "Eiszeit",
           "Peter Maffay"
          ],
          [
           "Monotonie",
           "Ideal"
          ],
          [
           "Jessica",
           "Wolfgang Petry"
          ],
          [
           "Mister Sandman",
           "Emmylou Harris"
          ],
          [
           "Drei Jahre lang",
           "Juliane Werding"
          ],
          [
           "Get Closer",
           "Valerie Dore"
          ],
          [
           "Herz an Herz Gefühl - 7\" Version",
           "Drafi Deutscher"
          ],
          [
           "Wind Him Up",
           "Saga"
          ],
          [
           "Heart over Mind",
           "Jennifer Rush"
          ],
          [
           "I Want It All - Original Take",
           "Queen"
          ],
          [
           "Stop For A Minute",
           "Sandra"
          ],
          [
           "London Nights",
           "London Boys"
          ],
          [
           "Märchenprinz",
           "EAV (Erste Allgemeine Verunsicherung)"
          ],
          [
           "Bring Me Edelweiss",
           "Edelweiss"
          ],
          [
           "Toccata",
           "Sky"
          ],
          [
           "Rain In May",
           "Max Werner"
          ],
          [
           "Stay",
           "Bonnie Bianco,Pierre Cosso"
          ],
          [
           "Celebrate The World",
           "Womack & Womack"
          ],
          [
           "Flieger",
           "Nino de Angelo"
          ],
          [
           "Catch Me I'm Falling",
           "Real Life"
          ],
          [
           "Celebrate The World",
           "Womack & Womack"
          ],
          [
           "The Harder I Try",
           "Brother Beyond"
          ],
          [
           "Johnny B. Goode",
           "Peter Tosh"
          ],
          [
           "Thorn In My Side",
           "Eurythmics,Annie Lennox,Dave Stewart"
          ],
          [
           "Send My Heart",
           "The Adventures"
          ],
          [
           "Love On Your Side",
           "Thompson Twins"
          ],
          [
           "So Cold the Night",
           "The Communards"
          ],
          [
           "Move Away",
           "Culture Club"
          ],
          [
           "I Don't Wanna Dance",
           "Eddy Grant"
          ],
          [
           "No Doubt About It",
           "Hot Chocolate"
          ],
          [
           "Wiener Blut",
           "Falco"
          ],
          [
           "Polonäse Blankenese",
           "Gottlieb Wendehals"
          ],
          [
           "Rock Hard",
           "Suzi Quatro"
          ],
          [
           "Is This Love?",
           "Alison Moyet"
          ],
          [
           "Love Comes Quickly",
           "Pet Shop Boys"
          ],
          [
           "Around My Dream",
           "Silver Pozzoli"
          ],
          [
           "Wide Boy",
           "Nik Kershaw"
          ],
          [
           "Rage Hard",
           "Frankie Goes To Hollywood"
          ],
          [
           "Celebrate Youth",
           "Rick Springfield"
          ],
          [
           "Abschied ist ein scharfes Schwert",
           "Roger Whittaker"
          ],
          [
           "Invisible Touch",
           "Genesis"
          ],
          [
           "Der Teufel und der junge Mann",
           "Paola"
          ],
          [
           "Leben mit dir",
           "Roger Whittaker"
          ],
          [
           "Sometimes",
           "Erasure"
          ],
          [
           "Child Of The Universe",
           "Barclay James Harvest"
          ],
          [
           "She's Strange",
           "Cameo"
          ],
          [
           "You Can Do It",
           "Al Hudson And The Partners"
          ],
          [
           "Face The Face",
           "Pete Townshend"
          ],
          [
           "Joanna",
           "Kool & The Gang"
          ],
          [
           "Spacer",
           "Sheila,B. Devotion"
          ],
          [
           "Real Love",
           "Jody Watley,Louil Silas Jr."
          ],
          [
           "How Long",
           "Lipps Inc."
          ],
          [
           "Joanna",
           "Kool & The Gang"
          ],
          [
           "Amoureux solitaires",
           "Lio"
          ],
          [
           "Engel 07",
           "Hubert Kah"
          ],
          [
           "Ye Si Ca",
           "Secret Service"
          ],
          [
           "Early Morning Wake Up Call",
           "Flash and the Pan"
          ],
          [
           "Early Morning Wake Up Call",
           "Flash and the Pan"
          ],
          [
           "Gaby wartet im Park",
           "Udo Jürgens"
          ],
          [
           "Broken English",
           "Marianne Faithfull"
          ],
          [
           "The Sound of Musik",
           "Falco"
          ],
          [
           "Left to My Own Devices",
           "Pet Shop Boys"
          ],
          [
           "You Can Do It",
           "Al Hudson And The Partners"
          ],
          [
           "We Kill the World (Don't Kill the World)",
           "Boney M."
          ],
          [
           "History",
           "Mai Tai"
          ],
          [
           "25 Years",
           "The Catch"
          ],
          [
           "Ich lieb' dich überhaupt nicht mehr",
           "Udo Lindenberg & Das Panik-Orchester"
          ],
          [
           "Bis wir uns wiederseh'n",
           "Münchener Freiheit"
          ],
          [
           "Just For You",
           "Spargo"
          ],
          [
           "Midnight Lady (Einsam so wie ich)",
           "Roland Kaiser"
          ],
          [
           "It's Alright",
           "Pet Shop Boys"
          ],
          [
           "The Heat Is On",
           "Agnetha Fältskog"
          ],
          [
           "Here Comes the Rain Again",
           "Eurythmics,Annie Lennox,Dave Stewart"
          ],
          [
           "Johnny Blue",
           "Lena Valaitis"
          ],
          [
           "Malaika",
           "Boney M."
          ],
          [
           "Peter Gunn (feat. Duane Eddy)",
           "The Art Of Noise,Duane Eddy"
          ],
          [
           "Zu nah am Feuer",
           "Stefan Waggershausen,Alice"
          ],
          [
           "No tengo dinero",
           "Righeira"
          ],
          [
           "Santa Lucia By Night",
           "George Baker,George Baker Selection"
          ],
          [
           "Holiday",
           "The Other Ones"
          ],
          [
           "Five Miles Out",
           "Mike Oldfield"
          ],
          [
           "Eye In the Sky",
           "The Alan Parsons Project"
          ],
          [
           "I Engineer",
           "Animotion"
          ],
          [
           "Lieb mich ein letztes Mal",
           "Roland Kaiser"
          ],
          [
           "She Wants To Dance With Me",
           "Rick Astley"
          ],
          [
           "Dançando Lambada",
           "Kaoma"
          ],
          [
           "Let's Hear It for the Boy",
           "Deniece Williams"
          ],
          [
           "Beat Dis",
           "Bomb The Bass"
          ],
          [
           "Kleine Seen",
           "Purple Schulz"
          ],
          [
           "Losing My Mind",
           "Liza Minnelli"
          ],
          [
           "It Started with a Kiss",
           "Hot Chocolate"
          ],
          [
           "You Want Love (Maria, Maria)",
           "Mixed Emotions"
          ],
          [
           "? (Fragezeichen)",
           "Nena"
          ],
          [
           "Opportunities (Let's Make Lots of Money)",
           "Pet Shop Boys"
          ],
          [
           "L.A. Goodbye",
           "Secret Service"
          ],
          [
           "Only Crying",
           "Keith Marshall"
          ],
          [
           "Guten Morgen, liebe Sorgen",
           "Jürgen von der Lippe"
          ],
          [
           "Four Letter Word",
           "Kim Wilde"
          ],
          [
           "El Lute",
           "Boney M."
          ],
          [
           "Love Is a Stranger",
           "Eurythmics,Annie Lennox,Dave Stewart"
          ],
          [
           "Danger Zone",
           "Kenny Loggins"
          ],
          [
           "Feel so Real",
           "Steve Arrington"
          ],
          [
           "Kalimba de luna",
           "Tony Esposito"
          ],
          [
           "Take Good Care of My Baby",
           "Smokie"
          ],
          [
           "Codo",
           "Döf"
          ],
          [
           "Some Broken Hearts Never Mend",
           "Telly Savalas"
          ],
          [
           "Pass the Dutchie",
           "Musical Youth"
          ],
          [
           "Double Dutch",
           "Malcolm McLaren"
          ],
          [
           "Buffalo Gals",
           "Malcolm McLaren"
          ],
          [
           "Around My Heart",
           "Sandra"
          ],
          [
           "If She Knew What She Wants",
           "The Bangles"
          ],
          [
           "Fang das Licht",
           "Karel Gott,Darinka"
          ],
          [
           "Verliebte Jungs",
           "Purple Schulz"
          ],
          [
           "Tu's doch",
           "Wolfgang Petry"
          ],
          [
           "Marie, Marie",
           "Shakin' Stevens"
          ],
          [
           "Der wilde, wilde Westen",
           "Truck Stop"
          ],
          [
           "That's What I Like",
           "Jive Bunny and the Mastermixers"
          ],
          [
           "That's What I Like",
           "Jive Bunny and the Mastermixers"
          ],
          [
           "I Owe You Nothing",
           "Bros,Ric Wake,Bob Cadway"
          ],
          [
           "Little 15",
           "Depeche Mode"
          ],
          [
           "Wozu sind Kriege da? - Remastered",
           "Udo Lindenberg"
          ],
          [
           "Was soll das",
           "Herbert Grönemeyer"
          ],
          [
           "Kiss Me (1985)",
           "Stephen Duffy"
          ],
          [
           "Say I'm Your Number One",
           "Princess"
          ],
          [
           "Take Me To Your Heart",
           "Rick Astley"
          ],
          [
           "Why Do Fools Fall in Love",
           "Diana Ross"
          ],
          [
           "Time (Clock Of The Heart)",
           "Culture Club"
          ],
          [
           "Down on the Street",
           "Shakatak"
          ],
          [
           "Precious Little Diamond",
           "Fox the Fox"
          ],
          [
           "Tribute (Right On)",
           "The Pasadenas"
          ],
          [
           "Are You Man Enough",
           "C.C. Catch"
          ],
          [
           "Patrona Bavariae - Version 2003",
           "Original Naabtal Duo"
          ],
          [
           "Cold Days, Hot Nights",
           "Moti Special"
          ],
          [
           "Do What You Do",
           "Jermaine Jackson"
          ],
          [
           "Some Hearts Are Diamonds",
           "Chris Norman"
          ],
          [
           "Ich liebe dich",
           "Clowns & Helden"
          ],
          [
           "Ich liebe dich",
           "Clowns & Helden"
          ],
          [
           "Rockabilly Rebel",
           "Matchbox"
          ],
          [
           "The promise you made",
           "Cock Robin"
          ],
          [
           "Jede Stunde",
           "Karat"
          ],
          [
           "Torture",
           "The Jacksons"
          ],
          [
           "Kleine Taschenlampe brenn'",
           "Markus"
          ],
          [
           "Swing the Mood",
           "Jive Bunny and the Mastermixers"
          ],
          [
           "The Way Life's Meant to Be",
           "Electric Light Orchestra"
          ],
          [
           "Solang' man Träume noch leben kann",
           "Münchener Freiheit"
          ],
          [
           "I Won't Let You Go",
           "Agnetha Fältskog"
          ],
          [
           "Help!",
           "Bananarama,Lananeeneenoonoo"
          ],
          [
           "Swing the Mood",
           "Jive Bunny and the Mastermixers"
          ],
          [
           "What's Another Year",
           "Johnny Logan"
          ],
          [
           "Africa (Voodoo Master)",
           "Rose Laurens"
          ],
          [
           "Non so che darei",
           "Alan Sorrenti"
          ],
          [
           "Rent",
           "Pet Shop Boys"
          ],
          [
           "Ebony And Ivory",
           "Paul McCartney"
          ],
          [
           "Dich zu lieben",
           "Roland Kaiser"
          ],
          [
           "Land Of Confusion",
           "Genesis"
          ],
          [
           "Mama",
           "Genesis"
          ],
          [
           "Die weißen Tauben sind müde",
           "Hans Hartz"
          ],
          [
           "When the Night Comes",
           "Joe Cocker,Chris Lord-Alge"
          ],
          [
           "Got to Be Certain",
           "Kylie Minogue"
          ],
          [
           "Miss You Much",
           "Janet Jackson"
          ],
          [
           "The War Song",
           "Culture Club"
          ],
          [
           "So Many Men, So Little Time",
           "Miquel Brown"
          ],
          [
           "The Finest",
           "The S.O.S Band"
          ],
          [
           "Marliese",
           "Fischer-Z"
          ],
          [
           "Bridge to Your Heart",
           "Wax"
          ],
          [
           "The Race",
           "Yello"
          ],
          [
           "Wham Rap '86",
           "Wham!"
          ],
          [
           "Hungry for Love",
           "Bad Boys Blue"
          ],
          [
           "Wenn es dich noch gibt",
           "Roger Whittaker"
          ],
          [
           "Wie frei willst du sein?",
           "Howard Carpendale,Royal Philharmonic Orchestra,Kerstin Ott"
          ],
          [
           "Eloisa",
           "Roger Whittaker"
          ],
          [
           "A Love Worth Waiting For",
           "Shakin' Stevens"
          ],
          [
           "Breakaway",
           "Tracey Ullman"
          ],
          [
           "The Land of Make Believe",
           "Bucks Fizz"
          ],
          [
           "Give Me Tonight",
           "Shannon"
          ],
          [
           "Love Train",
           "Holly Johnson"
          ],
          [
           "Vamos a la playa",
           "Righeira"
          ],
          [
           "Nacht voll Schatten",
           "Juliane Werding"
          ],
          [
           "Kalimba De Luna",
           "Boney M."
          ],
          [
           "Give Me Back My Love",
           "Maywood"
          ],
          [
           "Lady Fantasy",
           "Max Him"
          ],
          [
           "Passion",
           "Rod Stewart"
          ],
          [
           "Song For Whoever",
           "The Beautiful South"
          ],
          [
           "No me hables - 2012 Remastered Version",
           "Juan Pardo"
          ],
          [
           "Der Knutschfleck",
           "IXI"
          ],
          [
           "Du entschuldige - i kenn' di",
           "Peter Cornelius"
          ],
          [
           "Oh Julie",
           "Shakin' Stevens"
          ],
          [
           "Lady in Black",
           "Bad Boys Blue"
          ],
          [
           "Wonderful World",
           "Sam Cooke"
          ],
          [
           "Crime Of Passion - Extended Version / Remastered 2013",
           "Mike Oldfield"
          ],
          [
           "Kristallnaach",
           "BAP"
          ],
          [
           "Cry",
           "Godley & Creme"
          ],
          [
           "Strut",
           "Sheena Easton"
          ],
          [
           "Pink Cadillac",
           "Natalie Cole"
          ],
          [
           "Weil i di mog",
           "Relax"
          ],
          [
           "A Love Bizarre",
           "Sheila E."
          ],
          [
           "The Politics of Dancing",
           "Re-Flex"
          ],
          [
           "Die rote Sonne von Barbados",
           "Die Flippers"
          ],
          [
           "Heaven Can Wait",
           "Sandra"
          ],
          [
           "Shoot Your Shot",
           "Divine"
          ],
          [
           "Prince Charming",
           "Adam & The Ants"
          ],
          [
           "Temptation",
           "Heaven 17"
          ],
          [
           "Stop Your Fussin'",
           "Toni Childs"
          ],
          [
           "Love Missile F1-11",
           "Sigue Sigue Sputnik"
          ],
          [
           "Helpless (You Took My Love)",
           "The Flirts"
          ],
          [
           "Midnight Man",
           "Flash and the Pan"
          ],
          [
           "Midnight Man",
           "Flash and the Pan"
          ],
          [
           "Nothing's Gonna Stop Me Now",
           "Samantha Fox"
          ],
          [
           "This Ole House",
           "Shakin' Stevens"
          ],
          [
           "Karl der Käfer",
           "Gänsehaut"
          ],
          [
           "Prince Charming",
           "Adam & The Ants"
          ],
          [
           "Vogel der Nacht",
           "Stephan Remmler"
          ],
          [
           "Cry",
           "Godley & Creme"
          ],
          [
           "When your heart is weak",
           "Cock Robin"
          ],
          [
           "Train of Thought",
           "a-ha"
          ],
          [
           "Take Me Up",
           "Scotch"
          ],
          [
           "Age of Reason",
           "John Farnham"
          ],
          [
           "Ich wünsch dir die Hölle auf Erden 2001 - Radio Edit",
           "Christian Franke"
          ],
          [
           "My Baby Just Cares for Me",
           "Nina Simone"
          ],
          [
           "The Night",
           "Valerie Dore"
          ],
          [
           "Point of No Return",
           "Nu Shooz"
          ],
          [
           "When Will I Be Famous?",
           "Bros"
          ],
          [
           "Girlie Girlie",
           "Sophia George"
          ],
          [
           "Sonne in der Nacht",
           "Peter Maffay"
          ],
          [
           "Stop The Cavalry",
           "Jona Lewie"
          ],
          [
           "Digging Your Scene",
           "The Blow Monkeys"
          ],
          [
           "Prove Your Love",
           "Taylor Dayne"
          ],
          [
           "Requiem",
           "London Boys"
          ],
          [
           "Spanish Eddie",
           "Laura Branigan"
          ],
          [
           "Love Kills",
           "Freddie Mercury"
          ],
          [
           "Never Trust A Stranger",
           "Kim Wilde"
          ],
          [
           "Matador",
           "Garland Jeffreys"
          ],
          [
           "Magic Symphony",
           "Blue System"
          ],
          [
           "Sexcrime (Nineteen Eighty-Four)",
           "Eurythmics"
          ],
          [
           "Batdance",
           "Prince"
          ],
          [
           "Stop the Rain in the Night",
           "Silent Circle"
          ],
          [
           "Per Elisa",
           "Alice"
          ],
          [
           "Secret Land",
           "Sandra"
          ],
          [
           "Call Me",
           "Ivana Spagna"
          ],
          [
           "Hand on Your Heart",
           "Kylie Minogue"
          ],
          [
           "Heartbeat",
           "Don Johnson"
          ],
          [
           "Heart",
           "Pet Shop Boys"
          ],
          [
           "That's All",
           "Genesis"
          ],
          [
           "Little Girl",
           "Sandra"
          ],
          [
           "Islands",
           "Mike Oldfield,Bonnie Tyler"
          ],
          [
           "Jump to the Beat",
           "Stacy Lattisaw"
          ],
          [
           "Manchmal möchte ich schon mit dir",
           "Roland Kaiser"
          ],
          [
           "Sunglasses at Night",
           "Corey Hart"
          ],
          [
           "Neue Männer braucht das Land",
           "Ina Deter Band"
          ],
          [
           "Look Away",
           "Big Country"
          ],
          [
           "Shake It Up",
           "Divine"
          ],
          [
           "Macho Macho",
           "Rainhard Fendrich"
          ],
          [
           "Rosemarie",
           "Hubert Kah"
          ],
          [
           "Life's What You Make It",
           "Talk Talk"
          ],
          [
           "Manchild",
           "Neneh Cherry"
          ],
          [
           "Fata Morgana",
           "EAV (Erste Allgemeine Verunsicherung)"
          ],
          [
           "Stand and Deliver",
           "Adam & The Ants"
          ],
          [
           "Stand and Deliver",
           "Adam & The Ants"
          ],
          [
           "13 Tage",
           "Schweizer"
          ],
          [
           "Shaddap You Face",
           "Joe Dolce"
          ],
          [
           "Looking For Clues",
           "Robert Palmer"
          ],
          [
           "Nessaja",
           "Peter Maffay,Tabaluga"
          ],
          [
           "All American Girls",
           "Sister Sledge"
          ],
          [
           "Eldorado",
           "Goombay Dance Band"
          ],
          [
           "D.I.S.C.O.",
           "Ottawan"
          ],
          [
           "First Time",
           "Robin Beck"
          ],
          [
           "My Bed Is Too Big",
           "Blue System"
          ],
          [
           "Wenn i mit dir tanz",
           "Nicki"
          ],
          [
           "Heiße Nächte (in Palermo)",
           "EAV (Erste Allgemeine Verunsicherung)"
          ],
          [
           "Tell It Like It Is",
           "Don Johnson"
          ],
          [
           "Ein bisschen Frieden",
           "Nicole"
          ],
          [
           "Forever Your Girl",
           "Paula Abdul"
          ],
          [
           "It's a Mistake",
           "Men At Work"
          ],
          [
           "Sonderzug nach Pankow",
           "Udo Lindenberg & Das Panik-Orchester"
          ],
          [
           "Love Is A Shield",
           "Camouflage"
          ],
          [
           "Electric Youth",
           "Debbie Gibson"
          ],
          [
           "Underground",
           "David Bowie"
          ],
          [
           "Oh l'amour",
           "Erasure"
          ],
          [
           "High Energy",
           "Evelyn Thomas"
          ],
          [
           "Just Another Night",
           "Mick Jagger"
          ],
          [
           "Someday",
           "Glass Tiger"
          ],
          [
           "Teenage Queenie",
           "Pussycat"
          ],
          [
           "Samstag Nacht",
           "Howard Carpendale"
          ],
          [
           "Easy Lady",
           "Ivana Spagna"
          ],
          [
           "Wrap Your Arms Around Me",
           "Agnetha Fältskog"
          ],
          [
           "Silent Running (On Dangerous Ground) - 2014 Remastered",
           "Mike + The Mechanics"
          ],
          [
           "Ein Jahr (Es geht voran)",
           "Fehlfarben"
          ],
          [
           "Talking in Your Sleep",
           "The Romantics"
          ],
          [
           "Silent Running (On Dangerous Ground) - 2014 Remastered",
           "Mike + The Mechanics"
          ],
          [
           "Der blaue Planet",
           "Karat"
          ],
          [
           "Save Your Love",
           "Renée & Renato"
          ],
          [
           "To All the Girls I've Loved Before",
           "Julio Iglesias,Willie Nelson"
          ],
          [
           "Doctor! Doctor!",
           "Thompson Twins"
          ],
          [
           "Ella, elle l'a",
           "France Gall"
          ],
          [
           "Someone Loves You Honey",
           "June Lodge"
          ],
          [
           "Body Rock",
           "Maria Vidal"
          ],
          [
           "French Kiss - The Original Underground Mix",
           "Lil' Louis,The World"
          ],
          [
           "Frankie",
           "Sister Sledge"
          ],
          [
           "Katharine, Katharine",
           "Steinwolke"
          ],
          [
           "Living in America",
           "James Brown"
          ],
          [
           "A Rockin' Good Way (to Mess Around and Fall in Love)",
           "Shakin' Stevens"
          ],
          [
           "Orinoco Flow (Sail Away) - Single Version",
           "Enya"
          ],
          [
           "I Only Wanna Be With You",
           "Samantha Fox"
          ],
          [
           "Paid In Full",
           "Eric B. & Rakim,Marley Marl"
          ],
          [
           "To Be A Lover",
           "Billy Idol"
          ],
          [
           "Camouflage",
           "Stan Ridgway"
          ],
          [
           "Oh Susie",
           "Secret Service"
          ],
          [
           "Rumors",
           "Timex Social Club"
          ],
          [
           "Each Time You Break My Heart",
           "Nick Kamen"
          ],
          [
           "Comment ça va",
           "The Shorts"
          ],
          [
           "Paid In Full",
           "Eric B. & Rakim,Marley Marl"
          ],
          [
           "What Have You Done For Me Lately",
           "Janet Jackson"
          ],
          [
           "America",
           "Gianna Nannini"
          ],
          [
           "I Want Your Love",
           "Transvision Vamp"
          ],
          [
           "Healing Hands",
           "Elton John"
          ],
          [
           "Save Your Love",
           "Renée & Renato"
          ],
          [
           "Feels Like I'm in Love",
           "Kelly Marie"
          ],
          [
           "Disco Band",
           "Scotch"
          ],
          [
           "Una Notte Speciale",
           "Alice"
          ],
          [
           "19",
           "Paul Hardcastle"
          ],
          [
           "On Our Own",
           "Bobby Brown"
          ],
          [
           "Lean on Me - Remastered",
           "Club Nouveau"
          ],
          [
           "Take Your Time (Do It Right)",
           "The S.O.S Band"
          ],
          [
           "Americanos",
           "Holly Johnson"
          ],
          [
           "Our Darkness",
           "Anne Clark"
          ],
          [
           "Some People",
           "Cliff Richard"
          ],
          [
           "Circle in the Sand",
           "Belinda Carlisle"
          ],
          [
           "Everything's Coming Up Roses",
           "Black"
          ],
          [
           "Midnight Lady",
           "Chris Norman"
          ],
          [
           "Bad Boy",
           "Miami Sound Machine"
          ],
          [
           "Let's Stay Together",
           "Tina Turner"
          ],
          [
           "Angel",
           "Madonna"
          ],
          [
           "Love Town",
           "Booker Newberry III"
          ],
          [
           "Half a Minute",
           "Matt Bianco"
          ],
          [
           "Wishing (If I Had a Photograph of You)",
           "A Flock Of Seagulls"
          ],
          [
           "Biscaya",
           "James Last"
          ],
          [
           "Nachts, wenn alles schläft",
           "Howard Carpendale"
          ],
          [
           "Hit That Perfect Beat",
           "Bronski Beat"
          ],
          [
           "I Can't Stand the Rain",
           "Tina Turner"
          ],
          [
           "I Come Undone",
           "Jennifer Rush"
          ],
          [
           "Cherish",
           "Madonna"
          ],
          [
           "I Feel Love",
           "Bronski Beat"
          ],
          [
           "Alkohol",
           "Herbert Grönemeyer"
          ],
          [
           "Dr. Beat",
           "Miami Sound Machine"
          ],
          [
           "Only When You Leave",
           "Spandau Ballet"
          ],
          [
           "Welcome To The Pleasuredome",
           "Frankie Goes To Hollywood"
          ],
          [
           "The Blood That Moves the Body",
           "a-ha"
          ],
          [
           "p:Machinery",
           "Propaganda"
          ],
          [
           "The Rain",
           "Oran Juice Jones"
          ],
          [
           "Tired of Toein' the Line",
           "Rocky Burnette"
          ],
          [
           "One More Night",
           "Phil Collins"
          ],
          [
           "Joana",
           "Roland Kaiser"
          ],
          [
           "Maledetta primavera",
           "Loretta Goggi"
          ],
          [
           "Save a Prayer",
           "Duran Duran"
          ],
          [
           "Storie di tutti i giorni",
           "Riccardo Fogli"
          ],
          [
           "Bahama Mama",
           "Boney M."
          ],
          [
           "Love & Pride",
           "King"
          ],
          [
           "When I'm Gone",
           "Albert Hammond"
          ],
          [
           "I Beg Your Pardon (I Never Promised You a Rose Garden)",
           "Kon Kan"
          ],
          [
           "Shattered Dreams",
           "Johnny Hates Jazz"
          ],
          [
           "Running With The Night",
           "Lionel Richie"
          ],
          [
           "When Tomorrow Comes",
           "Eurythmics,Annie Lennox,Dave Stewart"
          ],
          [
           "High On Emotion",
           "Chris de Burgh"
          ],
          [
           "Chequered Love",
           "Kim Wilde"
          ],
          [
           "Master and Servant",
           "Depeche Mode"
          ],
          [
           "More Than I Can Bear",
           "Matt Bianco"
          ],
          [
           "Innocent",
           "Mike Oldfield"
          ],
          [
           "Wherever I Lay My Hat (That's My Home)",
           "Paul Young"
          ],
          [
           "Run Runaway",
           "Slade"
          ],
          [
           "In the Air Tonight",
           "Phil Collins"
          ],
          [
           "The Reflex",
           "Duran Duran"
          ],
          [
           "Physical",
           "Olivia Newton-John"
          ],
          [
           "Touch By Touch",
           "Joy"
          ],
          [
           "Hold Me Now",
           "Johnny Logan"
          ],
          [
           "Eisbär",
           "Grauzone"
          ],
          [
           "Every Beat of My Heart",
           "Rod Stewart,Bob Ezrin,David TIckle"
          ],
          [
           "Yeke Yeke",
           "Mory Kanté"
          ],
          [
           "Leave Me Alone",
           "Michael Jackson"
          ],
          [
           "Flash In The Night",
           "Secret Service"
          ],
          [
           "Stimmen im Wind",
           "Juliane Werding"
          ],
          [
           "Over You",
           "Roxy Music"
          ],
          [
           "If Only I Could",
           "Sydney Youngblood"
          ],
          [
           "Blueprint",
           "Rainbirds"
          ],
          [
           "Love Will Save the Day",
           "Whitney Houston"
          ],
          [
           "Late At Night",
           "Maywood"
          ],
          [
           "Irgendwann, Irgendwo, Irgendwie",
           "Jürgen Drews"
          ],
          [
           "Ich will Spaß",
           "Markus"
          ],
          [
           "Fotonovela",
           "Ivan"
          ],
          [
           "Hymn",
           "Ultravox"
          ],
          [
           "Calling America",
           "Electric Light Orchestra"
          ],
          [
           "All Time High - From The \"Octopussy\" Soundtrack",
           "Rita Coolidge"
          ],
          [
           "Robert De Niro's Waiting",
           "Bananarama"
          ],
          [
           "Twilight",
           "Electric Light Orchestra"
          ],
          [
           "Horizont",
           "Udo Lindenberg"
          ],
          [
           "Love Like Blood",
           "Killing Joke"
          ],
          [
           "Superstitious",
           "Europe"
          ],
          [
           "Pick Up the Phone",
           "F.R. David"
          ],
          [
           "Licence To Kill",
           "Gladys Knight"
          ],
          [
           "Touchy!",
           "a-ha"
          ],
          [
           "Seven Tears",
           "Goombay Dance Band"
          ],
          [
           "Albany - German Version",
           "Roger Whittaker"
          ],
          [
           "Better Love Next Time",
           "Dr. Hook"
          ],
          [
           "I Know There's Something Going On",
           "Frida"
          ],
          [
           "Too Many Broken Hearts",
           "Jason Donovan"
          ],
          [
           "Dr. Stein",
           "Helloween"
          ],
          [
           "Kiss (feat. Tom Jones)",
           "The Art Of Noise,Tom Jones"
          ],
          [
           "Far From Over",
           "Frank Stallone"
          ],
          [
           "Sealed with a Kiss",
           "Jason Donovan"
          ],
          [
           "Baby Don't Forget My Number",
           "Milli Vanilli"
          ],
          [
           "Going Back West",
           "Boney M."
          ],
          [
           "Ten O'Clock Postman",
           "Secret Service"
          ],
          [
           "My Old Piano",
           "Diana Ross"
          ],
          [
           "Angel Eyes (Home And Away)",
           "Wet Wet Wet"
          ],
          [
           "All Night Long (All Night)",
           "Lionel Richie"
          ],
          [
           "I Won't Let You Down",
           "Ph.D."
          ],
          [
           "Hands To Heaven",
           "Breathe"
          ],
          [
           "Talk to Me",
           "Stevie Nicks"
          ],
          [
           "Rockit",
           "Herbie Hancock"
          ],
          [
           "Ring of Ice - DAS ORIGINAL",
           "Jennifer Rush"
          ],
          [
           "Hurra, hurra, die Schule brennt",
           "Extrabreit"
          ],
          [
           "Tu soltanto tu (Mi hai fatto innamorare)",
           "Al Bano And Romina Power"
          ],
          [
           "Spirit in the Sky",
           "Doctor & The Medics"
          ],
          [
           "Jeopardy",
           "The Greg Kihn Band"
          ],
          [
           "Destiny",
           "Jennifer Rush"
          ],
          [
           "Tausendmal Du",
           "Münchener Freiheit"
          ],
          [
           "Looking for Freedom",
           "David Hasselhoff"
          ],
          [
           "Tu soltanto tu (Mi hai fatto innamorare)",
           "Al Bano And Romina Power"
          ],
          [
           "Neutron Dance",
           "The Pointer Sisters"
          ],
          [
           "Stars On 45 - Original Single Edit",
           "Stars On 45"
          ],
          [
           "Kayleigh",
           "Marillion"
          ],
          [
           "Sexy",
           "Westernhagen"
          ],
          [
           "Making Your Mind Up",
           "Bucks Fizz"
          ],
          [
           "Jump (For My Love)",
           "The Pointer Sisters"
          ],
          [
           "What Is Love?",
           "Howard Jones"
          ],
          [
           "Spirit in the Sky",
           "Doctor & The Medics"
          ],
          [
           "Candy Girl",
           "New Edition"
          ],
          [
           "My Oh My",
           "Slade"
          ],
          [
           "The Ballad Of Lucy Jordan",
           "Marianne Faithfull"
          ],
          [
           "Weekend",
           "Earth & Fire"
          ],
          [
           "Weekend",
           "Earth & Fire"
          ],
          [
           "A Question of Lust",
           "Depeche Mode"
          ],
          [
           "Why Can't I Be You?",
           "The Cure"
          ],
          [
           "Schickeria",
           "Spider Murphy Gang"
          ],
          [
           "Ibiza",
           "Ibo"
          ],
          [
           "Passion",
           "The Flirts"
          ],
          [
           "Give Me Your Heart Tonight",
           "Shakin' Stevens"
          ],
          [
           "Back To Life (However Do You Want Me)",
           "Soul II Soul,Caron Wheeler"
          ],
          [
           "Dress You Up",
           "Madonna"
          ],
          [
           "Ba-Ba Banküberfall",
           "EAV (Erste Allgemeine Verunsicherung)"
          ],
          [
           "A Question of Time",
           "Depeche Mode"
          ],
          [
           "Bad Boys",
           "Wham!"
          ],
          [
           "Lovesong",
           "The Cure"
          ],
          [
           "Cambodia",
           "Kim Wilde"
          ],
          [
           "Blame It on the Rain",
           "Milli Vanilli"
          ],
          [
           "Japanese Boy",
           "Aneka"
          ],
          [
           "The Way to Your Heart",
           "Soulsister"
          ],
          [
           "Rise to the Occasion",
           "Climie Fisher"
          ],
          [
           "Rio",
           "Maywood"
          ],
          [
           "Sexy Eyes",
           "Dr. Hook"
          ],
          [
           "Young Guns (Go for It!)",
           "Wham!"
          ],
          [
           "Human",
           "The Human League"
          ],
          [
           "Two People",
           "Tina Turner"
          ],
          [
           "Vienna Calling",
           "Falco"
          ],
          [
           "Blasphemous Rumours",
           "Depeche Mode"
          ],
          [
           "I Want to Be Your Man",
           "Roger"
          ],
          [
           "All You Zombies",
           "The Hooters"
          ],
          [
           "Bad",
           "Michael Jackson"
          ],
          [
           "I Knew You Were Waiting (For Me)",
           "George Michael,Aretha Franklin"
          ],
          [
           "Criticize",
           "Alexander O'Neal"
          ],
          [
           "Carbonara",
           "Spliff"
          ],
          [
           "Come Back and Stay",
           "Paul Young"
          ],
          [
           "All Over the World",
           "Electric Light Orchestra"
          ],
          [
           "Everything I Own",
           "Boy George"
          ],
          [
           "Beast of Burden",
           "Bette Midler"
          ],
          [
           "What You're Proposing",
           "Status Quo"
          ],
          [
           "Confusion",
           "Electric Light Orchestra"
          ],
          [
           "Out In The Fields",
           "Gary Moore,Phil Lynott"
          ],
          [
           "The Lion Sleeps Tonight",
           "Tight Fit"
          ],
          [
           "Big Fun",
           "Inner City"
          ],
          [
           "Das Model",
           "Kraftwerk"
          ],
          [
           "Goody Two Shoes",
           "Adam Ant"
          ],
          [
           "Do You Wanna Touch Me (Oh Yeah)",
           "Joan Jett & the Blackhearts"
          ],
          [
           "Especially for You",
           "Jason Donovan,Kylie Minogue"
          ],
          [
           "Do You Wanna Touch Me (Oh Yeah)",
           "Joan Jett & the Blackhearts"
          ],
          [
           "Respectable",
           "Mel & Kim"
          ],
          [
           "Respectable",
           "Mel & Kim"
          ],
          [
           "One More Try",
           "George Michael"
          ],
          [
           "You Came",
           "Kim Wilde"
          ],
          [
           "Pretty Young Girl",
           "Bad Boys Blue"
          ],
          [
           "Only You",
           "The Flying Pickets"
          ],
          [
           "There Must Be an Angel (Playing with My Heart)",
           "Eurythmics,Annie Lennox,Dave Stewart"
          ],
          [
           "Father Figure",
           "George Michael"
          ],
          [
           "A Different Corner",
           "George Michael"
          ],
          [
           "Touch Me (I Want Your Body)",
           "Samantha Fox"
          ],
          [
           "Verdamp lang her",
           "BAP"
          ],
          [
           "Obsession",
           "Animotion"
          ],
          [
           "The Right Thing",
           "Simply Red"
          ],
          [
           "Music and Lights",
           "Imagination"
          ],
          [
           "I Should Have Known Better",
           "Jim Diamond"
          ],
          [
           "Juliet",
           "Robin Gibb"
          ],
          [
           "The Day Before You Came",
           "ABBA"
          ],
          [
           "She Bop",
           "Cyndi Lauper"
          ],
          [
           "Love Is Stronger Than Pride",
           "Sade"
          ],
          [
           "Pale Shelter",
           "Tears For Fears"
          ],
          [
           "Live It Up",
           "Mental As Anything"
          ],
          [
           "Stomp!",
           "The Brothers Johnson"
          ],
          [
           "Boys Do Fall In Love",
           "Robin Gibb"
          ],
          [
           "Sounds Like a Melody",
           "Alphaville"
          ],
          [
           "Happy Children",
           "P. Lion"
          ],
          [
           "Oh Sheila",
           "Ready For The World"
          ],
          [
           "Russians",
           "Sting"
          ],
          [
           "Let's Wait Awhile",
           "Janet Jackson"
          ],
          [
           "Burn Rubber On Me (Why You Wanna Hurt Me)",
           "The Gap Band"
          ],
          [
           "What You Get Is What You See",
           "Tina Turner"
          ],
          [
           "Touch in the Night",
           "Silent Circle"
          ],
          [
           "Der Himmel brennt",
           "Wolfgang Petry"
          ],
          [
           "Games Without Frontiers",
           "Peter Gabriel"
          ],
          [
           "Me Myself and I",
           "De La Soul"
          ],
          [
           "California Blue",
           "Roy Orbison"
          ],
          [
           "Sharazan",
           "Al Bano And Romina Power"
          ],
          [
           "Santa Maria",
           "Roland Kaiser"
          ],
          [
           "Terra Titanic",
           "Peter Schilling"
          ],
          [
           "Sharazan",
           "Al Bano And Romina Power"
          ],
          [
           "Wishful Thinking",
           "China Crisis"
          ],
          [
           "Serenata",
           "Toto Cutugno"
          ],
          [
           "Stand Back",
           "Stevie Nicks"
          ],
          [
           "Loverboy",
           "Billy Ocean"
          ],
          [
           "More Than I Can Say",
           "Leo Sayer"
          ],
          [
           "Him",
           "Rupert Holmes"
          ],
          [
           "Leuchtturm",
           "Nena"
          ],
          [
           "Freeze-Frame",
           "The J. Geils Band"
          ],
          [
           "Say Say Say",
           "Paul McCartney,Michael Jackson"
          ],
          [
           "Harden My Heart",
           "Quarterflash"
          ],
          [
           "Stripped",
           "Depeche Mode"
          ],
          [
           "Missing You",
           "Chris de Burgh"
          ],
          [
           "I Don't Wanna Go On With You Like That",
           "Elton John"
          ],
          [
           "Caravan Of Love",
           "The Housemartins"
          ],
          [
           "Dream On",
           "Nazareth"
          ],
          [
           "Rapper's Delight",
           "The Sugarhill Gang"
          ],
          [
           "Never Can Say Goodbye",
           "The Communards"
          ],
          [
           "Buffalo Stance",
           "Neneh Cherry"
          ],
          [
           "Everlasting Love",
           "Sandra"
          ],
          [
           "Whenever You Need Somebody",
           "Rick Astley"
          ],
          [
           "Flames Of Love",
           "Fancy"
          ],
          [
           "Behind the Wheel",
           "Depeche Mode"
          ],
          [
           "Get Outta My Dreams, Get into My Car",
           "Billy Ocean"
          ],
          [
           "Wahnsinn",
           "Wolfgang Petry"
          ],
          [
           "Say You Will",
           "Foreigner"
          ],
          [
           "Memory",
           "Barbra Streisand"
          ],
          [
           "Dance With Me",
           "Alphaville"
          ],
          [
           "Live Is Life",
           "Opus"
          ],
          [
           "The Only Way Is Up",
           "Yazz"
          ],
          [
           "Duel",
           "Propaganda"
          ],
          [
           "Solid",
           "Ashford & Simpson"
          ],
          [
           "Sad Songs (Say So Much)",
           "Elton John"
          ],
          [
           "This Time I Know It's for Real",
           "Donna Summer"
          ],
          [
           "Solid",
           "Ashford & Simpson"
          ],
          [
           "The Great Pretender",
           "Freddie Mercury"
          ],
          [
           "Crimson and Clover",
           "Joan Jett & the Blackhearts"
          ],
          [
           "Crimson and Clover",
           "Joan Jett & the Blackhearts"
          ],
          [
           "Gimme Hope Jo'anna",
           "Eddy Grant"
          ],
          [
           "Why ?",
           "Bronski Beat"
          ],
          [
           "In The Heat Of The Night",
           "Sandra"
          ],
          [
           "A Little Respect",
           "Erasure"
          ],
          [
           "The Wild Boys",
           "Duran Duran"
          ],
          [
           "Crockett's Theme",
           "Jan Hammer"
          ],
          [
           "Typical Male",
           "Tina Turner"
          ],
          [
           "Express Yourself",
           "Madonna"
          ],
          [
           "The Way You Make Me Feel",
           "Michael Jackson"
          ],
          [
           "Steppin' Out",
           "Joe Jackson"
          ],
          [
           "She's Like the Wind",
           "Patrick Swayze,Wendy Fraser"
          ],
          [
           "Little Jeannie",
           "Elton John"
          ],
          [
           "Tusk",
           "Fleetwood Mac"
          ],
          [
           "Heatseeker",
           "AC/DC"
          ],
          [
           "I Don't Want a Lover",
           "Texas"
          ],
          [
           "Hier kommt Alex",
           "Die Toten Hosen"
          ],
          [
           "Just Around the Corner",
           "Cock Robin"
          ],
          [
           "I Was Born to Love You",
           "Freddie Mercury"
          ],
          [
           "Living in a Box",
           "Living In A Box"
          ],
          [
           "Two Tribes",
           "Frankie Goes To Hollywood"
          ],
          [
           "Suburbia",
           "Pet Shop Boys"
          ],
          [
           "Rock 'N' Roll Is King",
           "Electric Light Orchestra"
          ],
          [
           "Crazy Little Thing Called Love",
           "Queen"
          ],
          [
           "Ladies Night",
           "Kool & The Gang"
          ],
          [
           "I Want A New Drug",
           "Huey Lewis & The News"
          ],
          [
           "Here I Go Again",
           "Whitesnake"
          ],
          [
           "Let the Music Play",
           "Shannon"
          ],
          [
           "Männer",
           "Herbert Grönemeyer"
          ],
          [
           "Rapture",
           "Blondie"
          ],
          [
           "Such a Shame",
           "Talk Talk"
          ],
          [
           "Ladies Night",
           "Kool & The Gang"
          ],
          [
           "Shake the Disease",
           "Depeche Mode"
          ],
          [
           "You Drive Me Crazy",
           "Shakin' Stevens"
          ],
          [
           "Sternenhimmel",
           "Hubert Kah"
          ],
          [
           "Johnny Come Home",
           "Fine Young Cannibals"
          ],
          [
           "Non Succederà Più - Remastered 2009",
           "Claudia Mori,Adriano Celentano"
          ],
          [
           "Kyrie",
           "Mr. Mister"
          ],
          [
           "Lullaby",
           "The Cure"
          ],
          [
           "Everything Counts",
           "Depeche Mode"
          ],
          [
           "For Your Eyes Only",
           "Sheena Easton"
          ],
          [
           "Hungry Eyes",
           "Eric Carmen"
          ],
          [
           "Boat On The River",
           "Styx"
          ],
          [
           "It's a Sin",
           "Pet Shop Boys"
          ],
          [
           "I Want A New Drug",
           "Huey Lewis & The News"
          ],
          [
           "We Close Our Eyes",
           "Go West"
          ],
          [
           "Ti Sento",
           "Matia Bazar"
          ],
          [
           "Boys (Summertime Love)",
           "Sabrina"
          ],
          [
           "Stop",
           "Sam Brown,Pete Brown"
          ],
          [
           "Every Rose Has Its Thorn",
           "Poison"
          ],
          [
           "And the Beat Goes On",
           "The Whispers"
          ],
          [
           "When the Rain Begins to Fall",
           "Jermaine Jackson,Pia Zadora"
          ],
          [
           "Good Life",
           "Inner City"
          ],
          [
           "True",
           "Spandau Ballet"
          ],
          [
           "Sun of Jamaica",
           "Goombay Dance Band"
          ],
          [
           "I Want to Know What Love Is",
           "Foreigner"
          ],
          [
           "A Good Heart",
           "Feargal Sharkey"
          ],
          [
           "Trouble",
           "Lindsey Buckingham"
          ],
          [
           "Funky Cold Medina",
           "Tone-Loc"
          ],
          [
           "Love of the Common People",
           "Paul Young"
          ],
          [
           "Teardrops",
           "Womack & Womack"
          ],
          [
           "You Can Win If You Want",
           "Modern Talking"
          ],
          [
           "Teardrops",
           "Womack & Womack"
          ],
          [
           "Shake You Down",
           "Gregory Abbott"
          ],
          [
           "The Edge of Heaven",
           "Wham!"
          ],
          [
           "Breakout",
           "Swing Out Sister"
          ],
          [
           "Who's That Girl",
           "Madonna"
          ],
          [
           "Sweet Dreams (Are Made of This)",
           "Eurythmics,Annie Lennox,Dave Stewart"
          ],
          [
           "One Night in Bangkok",
           "Murray Head"
          ],
          [
           "Smooth Operator",
           "Sade"
          ],
          [
           "Zu spät",
           "Die Ärzte"
          ],
          [
           "Heartbreaker",
           "Dionne Warwick"
          ],
          [
           "Living on Video",
           "Trans-X"
          ],
          [
           "Crossroads",
           "Tracy Chapman"
          ],
          [
           "Live to Tell",
           "Madonna"
          ],
          [
           "Send Me An Angel",
           "Real Life"
          ],
          [
           "Atomic",
           "Blondie"
          ],
          [
           "Mamma Maria",
           "Ricchi E Poveri"
          ],
          [
           "True Faith",
           "New Order"
          ],
          [
           "Dressed For Success",
           "Roxette"
          ],
          [
           "True Blue",
           "Madonna"
          ],
          [
           "(Feels Like) Heaven",
           "Fiction Factory"
          ],
          [
           "Nur geträumt",
           "Nena"
          ],
          [
           "Axel F",
           "Harold Faltermeyer"
          ],
          [
           "Joe le taxi",
           "Vanessa Paradis"
          ],
          [
           "Turn Back The Clock",
           "Johnny Hates Jazz"
          ],
          [
           "West End Girls",
           "Pet Shop Boys"
          ],
          [
           "Mr. Roboto",
           "Styx"
          ],
          [
           "Holiday",
           "Madonna"
          ],
          [
           "I Won't Let The Sun Go Down On Me",
           "Nik Kershaw"
          ],
          [
           "Johnny And Mary",
           "Robert Palmer"
          ],
          [
           "Last Night a D.J. Saved My Life",
           "Indeep"
          ],
          [
           "Dein ist mein ganzes Herz",
           "Heinz Rudolf Kunze"
          ],
          [
           "Funkytown",
           "Lipps Inc."
          ],
          [
           "I Can't Wait",
           "Nu Shooz"
          ],
          [
           "Vienna",
           "Ultravox"
          ],
          [
           "That Was Yesterday",
           "Foreigner"
          ],
          [
           "People Are People",
           "Depeche Mode"
          ],
          [
           "Gold",
           "Spandau Ballet"
          ],
          [
           "Hold On Tight",
           "Electric Light Orchestra"
          ],
          [
           "Happy Birthday",
           "Stevie Wonder"
          ],
          [
           "Jealous Guy",
           "Roxy Music"
          ],
          [
           "Can I Play with Madness - 2015 Remaster",
           "Iron Maiden"
          ],
          [
           "Babooshka",
           "Kate Bush"
          ],
          [
           "Chain Reaction",
           "Diana Ross"
          ],
          [
           "I Like Chopin",
           "Gazebo"
          ],
          [
           "The Captain of Her Heart",
           "Double"
          ],
          [
           "I Feel for You",
           "Chaka Khan"
          ],
          [
           "Too Shy",
           "Kajagoogoo"
          ],
          [
           "Atlantis Is Calling (S.O.S. for Love)",
           "Modern Talking"
          ],
          [
           "Personal Jesus",
           "Depeche Mode"
          ],
          [
           "Twist in My Sobriety",
           "Tanita Tikaram"
          ],
          [
           "Two of Hearts",
           "Stacey Q"
          ],
          [
           "Up Where We Belong",
           "Joe Cocker,Jennifer Warnes"
          ],
          [
           "All Right",
           "Christopher Cross"
          ],
          [
           "She Works Hard For The Money",
           "Donna Summer"
          ],
          [
           "Bruttosozialprodukt",
           "Geier Sturzflug"
          ],
          [
           "Geronimo's Cadillac",
           "Modern Talking"
          ],
          [
           "Desire",
           "U2"
          ],
          [
           "I Was Made For Lovin' You",
           "KISS"
          ],
          [
           "Stay on These Roads",
           "a-ha"
          ],
          [
           "Toy Soldiers",
           "Martika"
          ],
          [
           "Skandal im Sperrbezirk",
           "Spider Murphy Gang"
          ],
          [
           "Under Pressure",
           "Queen,David Bowie"
          ],
          [
           "My Prerogative",
           "Bobby Brown"
          ],
          [
           "Loco in Acapulco",
           "Four Tops"
          ],
          [
           "Sara",
           "Starship"
          ],
          [
           "Wild Thing",
           "Tone-Loc"
          ],
          [
           "Jump",
           "Van Halen"
          ],
          [
           "The Living Years",
           "Mike + The Mechanics"
          ],
          [
           "Puttin' on the Ritz",
           "Taco"
          ],
          [
           "Domino Dancing",
           "Pet Shop Boys"
          ],
          [
           "We Don't Need Another Hero (Thunderdome)",
           "Tina Turner"
          ],
          [
           "Master Blaster (Jammin')",
           "Stevie Wonder"
          ],
          [
           "The Power of Love",
           "Jennifer Rush"
          ],
          [
           "I Drove All Night",
           "Cyndi Lauper"
          ],
          [
           "The Living Years",
           "Mike + The Mechanics"
          ],
          [
           "The Tide Is High",
           "Blondie"
          ],
          [
           "Girl You Know It's True",
           "Milli Vanilli"
          ],
          [
           "Crazy for You",
           "Madonna"
          ],
          [
           "Dirty Diana",
           "Michael Jackson"
          ],
          [
           "Square Rooms",
           "Al Corley"
          ],
          [
           "Islands in the Stream",
           "Dolly Parton,Kenny Rogers"
          ],
          [
           "On The Radio",
           "Donna Summer"
          ],
          [
           "Another One Bites The Dust",
           "Queen"
          ],
          [
           "The Loco-Motion",
           "Kylie Minogue"
          ],
          [
           "Waiting for a Star to Fall",
           "Boy Meets Girl"
          ],
          [
           "The Power Of Love",
           "Frankie Goes To Hollywood"
          ],
          [
           "One Of Us",
           "ABBA"
          ],
          [
           "On My Own",
           "Patti LaBelle"
          ],
          [
           "Dancing with Tears in My Eyes",
           "Ultravox"
          ],
          [
           "Der Kommissar",
           "Falco"
          ],
          [
           "Fade To Grey",
           "Visage"
          ],
          [
           "Love Changes (Everything)",
           "Climie Fisher"
          ],
          [
           "A View to a Kill",
           "Duran Duran"
          ],
          [
           "I Knew You Were Waiting (For Me)",
           "Aretha Franklin,George Michael"
          ],
          [
           "Whatever You Want",
           "Status Quo"
          ],
          [
           "Walk Like an Egyptian",
           "The Bangles"
          ],
          [
           "Xanadu",
           "Olivia Newton-John"
          ],
          [
           "The Look Of Love, Pt.1",
           "ABC"
          ],
          [
           "Wanna Be Startin' Somethin'",
           "Michael Jackson"
          ],
          [
           "Stuck With You",
           "Huey Lewis & The News"
          ],
          [
           "Freedom",
           "Wham!"
          ],
          [
           "Straight Up",
           "Paula Abdul"
          ],
          [
           "Strangelove",
           "Depeche Mode"
          ],
          [
           "Stuck With You",
           "Huey Lewis & The News"
          ],
          [
           "Hard to Say I'm Sorry",
           "Chicago"
          ],
          [
           "Irgendwie, irgendwo, irgendwann",
           "Nena"
          ],
          [
           "Just an Illusion",
           "Imagination"
          ],
          [
           "Tougher Than the Rest",
           "Bruce Springsteen"
          ],
          [
           "Karma Chameleon",
           "Culture Club"
          ],
          [
           "Somebody's Watching Me",
           "Rockwell"
          ],
          [
           "It's Raining Again",
           "Supertramp"
          ],
          [
           "One Moment in Time",
           "Whitney Houston"
          ],
          [
           "Touch Too Much",
           "AC/DC"
          ],
          [
           "Take My Breath Away",
           "Berlin"
          ],
          [
           "Down Under",
           "Men At Work"
          ],
          [
           "I Ran (So Far Away)",
           "A Flock Of Seagulls"
          ],
          [
           "Ohne Dich (schlaf' ich heut Nacht nicht ein)",
           "Münchener Freiheit"
          ],
          [
           "Urgent",
           "Foreigner"
          ],
          [
           "Hold Me Now",
           "Thompson Twins"
          ],
          [
           "The Riddle",
           "Nik Kershaw"
          ],
          [
           "Miss You Like Crazy",
           "Natalie Cole"
          ],
          [
           "Avalon",
           "Roxy Music"
          ],
          [
           "Sowing The Seeds Of Love",
           "Tears For Fears"
          ],
          [
           "The Safety Dance",
           "Men Without Hats"
          ],
          [
           "Two Hearts",
           "Phil Collins"
          ],
          [
           "I Have A Dream",
           "ABBA"
          ],
          [
           "Ride on Time",
           "Black Box"
          ],
          [
           "Coward Of The County",
           "Kenny Rogers"
          ],
          [
           "In The Army Now",
           "Status Quo"
          ],
          [
           "Gloria",
           "Umberto Tozzi"
          ],
          [
           "The Sun Always Shines on T.V.",
           "a-ha"
          ],
          [
           "Word Up",
           "Cameo"
          ],
          [
           "Never Let Me Down Again",
           "Depeche Mode"
          ],
          [
           "Into the Groove",
           "Madonna"
          ],
          [
           "Sledgehammer",
           "Peter Gabriel"
          ],
          [
           "I Got You Babe",
           "UB40,Chrissie Hynde"
          ],
          [
           "Good Thing",
           "Fine Young Cannibals"
          ],
          [
           "Out of Touch",
           "Daryl Hall & John Oates"
          ],
          [
           "De Do Do Do, De Da Da Da",
           "The Police"
          ],
          [
           "Sunshine Reggae",
           "Laid Back"
          ],
          [
           "Guilty (feat. Barry Gibb)",
           "Barbra Streisand,Barry Gibb"
          ],
          [
           "Rock Me Amadeus",
           "Falco"
          ],
          [
           "Overkill",
           "Men At Work"
          ],
          [
           "Hunting High and Low",
           "a-ha"
          ],
          [
           "Big in Japan",
           "Alphaville"
          ],
          [
           "The Flame",
           "Cheap Trick"
          ],
          [
           "Fresh",
           "Kool & The Gang"
          ],
          [
           "Out of Touch",
           "Daryl Hall & John Oates"
          ],
          [
           "Manic Monday",
           "The Bangles"
          ],
          [
           "Fresh",
           "Kool & The Gang"
          ],
          [
           "Papa Don't Preach",
           "Madonna"
          ],
          [
           "Little Lies",
           "Fleetwood Mac"
          ],
          [
           "Alive And Kicking",
           "Simple Minds"
          ],
          [
           "That's What Friends Are For",
           "Dionne Warwick,Elton John,Gladys Knight,Stevie Wonder"
          ],
          [
           "Rhythm Of The Night",
           "DeBarge"
          ],
          [
           "When You're In Love With A Beautiful Woman",
           "Dr. Hook"
          ],
          [
           "Raspberry Beret",
           "Prince"
          ],
          [
           "The Sweetest Taboo",
           "Sade"
          ],
          [
           "Ghostbusters",
           "Ray Parker Jr."
          ],
          [
           "Venus",
           "Bananarama"
          ],
          [
           "Please Don't Go",
           "KC & The Sunshine Band"
          ],
          [
           "Wonderful Life",
           "Black"
          ],
          [
           "Drive",
           "The Cars"
          ],
          [
           "Dance Hall Days",
           "Wang Chung"
          ],
          [
           "Abracadabra",
           "Steve Miller Band"
          ],
          [
           "Do That To Me One More Time",
           "Captain & Tennille"
          ],
          [
           "Love Is A Battlefield",
           "Pat Benatar"
          ],
          [
           "Never Ending Story",
           "Limahl"
          ],
          [
           "Our House",
           "Madness"
          ],
          [
           "Do That To Me One More Time",
           "Captain & Tennille"
          ],
          [
           "Club Tropicana",
           "Wham!"
          ],
          [
           "Why Can't This Be Love",
           "Van Halen"
          ],
          [
           "Lessons In Love",
           "Level 42"
          ],
          [
           "Easy Lover",
           "Philip Bailey,Phil Collins"
          ],
          [
           "Cruel Summer",
           "Bananarama"
          ],
          [
           "More Than This",
           "Roxy Music"
          ],
          [
           "Felicità",
           "Al Bano And Romina Power"
          ],
          [
           "Burning Heart - From \"Rocky IV\" Soundtrack",
           "Survivor"
          ],
          [
           "A Groovy Kind of Love",
           "Phil Collins"
          ],
          [
           "Moonlight Shadow",
           "Mike Oldfield"
          ],
          [
           "Easy Lover",
           "Philip Bailey,Phil Collins"
          ],
          [
           "Do You Really Want To Hurt Me",
           "Culture Club"
          ],
          [
           "Eternal Flame",
           "The Bangles"
          ],
          [
           "Felicità",
           "Al Bano And Romina Power"
          ],
          [
           "Mad World",
           "Tears For Fears"
          ],
          [
           "Tell It to My Heart",
           "Taylor Dayne"
          ],
          [
           "Nikita",
           "Elton John"
          ],
          [
           "Together Forever",
           "Rick Astley"
          ],
          [
           "Woman in Love",
           "Barbra Streisand"
          ],
          [
           "Saving All My Love for You",
           "Whitney Houston"
          ],
          [
           "We Belong",
           "Pat Benatar"
          ],
          [
           "Hello",
           "Lionel Richie"
          ],
          [
           "Push It",
           "Salt-N-Pepa"
          ],
          [
           "It's Tricky",
           "Run–D.M.C."
          ],
          [
           "Upside Down",
           "Diana Ross"
          ],
          [
           "Part-Time Lover",
           "Stevie Wonder"
          ],
          [
           "Give It Up",
           "KC & The Sunshine Band"
          ],
          [
           "I Think We're Alone Now",
           "Tiffany"
          ],
          [
           "Dancing On The Ceiling",
           "Lionel Richie"
          ],
          [
           "The Way It Is",
           "Bruce Hornsby,The Range"
          ],
          [
           "Say You, Say Me",
           "Lionel Richie"
          ],
          [
           "Voyage voyage",
           "Desireless"
          ],
          [
           "Broken Wings",
           "Mr. Mister"
          ],
          [
           "Kokomo",
           "The Beach Boys"
          ],
          [
           "Video Killed The Radio Star",
           "The Buggles"
          ],
          [
           "When Doves Cry",
           "Prince"
          ],
          [
           "Everything She Wants",
           "Wham!"
          ],
          [
           "Carrie",
           "Europe"
          ],
          [
           "You Got It",
           "Roy Orbison"
          ],
          [
           "What's Love Got to Do with It",
           "Tina Turner"
          ],
          [
           "Heaven Is A Place On Earth",
           "Belinda Carlisle"
          ],
          [
           "I Want To Break Free",
           "Queen"
          ],
          [
           "Heat Of The Moment",
           "Asia"
          ],
          [
           "Money For Nothing",
           "Dire Straits"
          ],
          [
           "La Isla Bonita",
           "Madonna"
          ],
          [
           "Maniac",
           "Michael Sembello"
          ],
          [
           "Juke Box Hero",
           "Foreigner"
          ],
          [
           "Missing You",
           "John Waite"
          ],
          [
           "If I Could Turn Back Time",
           "Cher"
          ],
          [
           "Always on My Mind",
           "Pet Shop Boys"
          ],
          [
           "How Will I Know",
           "Whitney Houston"
          ],
          [
           "Thriller",
           "Michael Jackson"
          ],
          [
           "True Colors",
           "Cyndi Lauper"
          ],
          [
           "Celebration",
           "Kool & The Gang"
          ],
          [
           "Blue Monday",
           "New Order"
          ],
          [
           "Owner of a Lonely Heart",
           "Yes"
          ],
          [
           "Celebration",
           "Kool & The Gang"
          ],
          [
           "The Look",
           "Roxette"
          ],
          [
           "A Kind Of Magic - Remastered 2011",
           "Queen"
          ],
          [
           "Tarzan Boy",
           "Baltimora"
          ],
          [
           "Centerfold",
           "The J. Geils Band"
          ],
          [
           "Super Trouper",
           "ABBA"
          ],
          [
           "Sexual Healing",
           "Marvin Gaye"
          ],
          [
           "Like a Virgin",
           "Madonna"
          ],
          [
           "Waiting for a Girl like You",
           "Foreigner"
          ],
          [
           "Break My Stride",
           "Matthew Wilder"
          ],
          [
           "The Best",
           "Tina Turner"
          ],
          [
           "Forever Young",
           "Alphaville"
          ],
          [
           "Footloose",
           "Kenny Loggins"
          ],
          [
           "Brother Louie",
           "Modern Talking"
          ],
          [
           "Poison",
           "Alice Cooper"
          ],
          [
           "Still Loving You",
           "Scorpions"
          ],
          [
           "Glory of Love",
           "Peter Cetera"
          ],
          [
           "Sarà perché ti amo",
           "Ricchi E Poveri"
          ],
          [
           "Relax",
           "Frankie Goes To Hollywood"
          ],
          [
           "Like a Prayer",
           "Madonna"
          ],
          [
           "Gypsy",
           "Fleetwood Mac"
          ],
          [
           "Rosanna",
           "TOTO"
          ],
          [
           "The Winner Takes It All",
           "ABBA"
          ],
          [
           "Keep on Loving You",
           "REO Speedwagon"
          ],
          [
           "Purple Rain",
           "Prince"
          ],
          [
           "Listen To Your Heart",
           "Roxette"
          ],
          [
           "Hells Bells",
           "AC/DC"
          ],
          [
           "Got My Mind Set On You",
           "George Harrison"
          ],
          [
           "Shout",
           "Tears For Fears"
          ],
          [
           "99 Luftballons",
           "Nena"
          ],
          [
           "Red Red Wine",
           "UB40"
          ],
          [
           "Cheri Cheri Lady",
           "Modern Talking"
          ],
          [
           "Walk Of Life",
           "Dire Straits"
          ],
          [
           "Kiss",
           "Prince"
          ],
          [
           "The Power Of Love",
           "Huey Lewis & The News"
          ],
          [
           "The Power Of Love",
           "Huey Lewis & The News"
          ],
          [
           "Need You Tonight",
           "INXS"
          ],
          [
           "You Spin Me Round (Like a Record)",
           "Dead Or Alive"
          ],
          [
           "Self Control",
           "Laura Branigan"
          ],
          [
           "Smalltown Boy",
           "Bronski Beat"
          ],
          [
           "I Just Called To Say I Love You",
           "Stevie Wonder"
          ],
          [
           "Call Me",
           "Blondie"
          ],
          [
           "Right Here Waiting",
           "Richard Marx"
          ],
          [
           "Material Girl",
           "Madonna"
          ],
          [
           "She Drives Me Crazy",
           "Fine Young Cannibals"
          ],
          [
           "We Didn't Start the Fire",
           "Billy Joel"
          ],
          [
           "Every Little Thing She Does Is Magic",
           "The Police"
          ],
          [
           "The Lady In Red",
           "Chris de Burgh"
          ],
          [
           "Eye of the Tiger",
           "Survivor"
          ],
          [
           "What A Wonderful World",
           "Louis Armstrong"
          ],
          [
           "Message In A Bottle",
           "The Police"
          ],
          [
           "Lay All Your Love On Me",
           "ABBA"
          ],
          [
           "(I Just) Died In Your Arms",
           "Cutting Crew"
          ],
          [
           "We Built This City",
           "Starship"
          ],
          [
           "Beat It",
           "Michael Jackson"
          ],
          [
           "The Boys Of Summer",
           "Don Henley"
          ],
          [
           "Total Eclipse of the Heart",
           "Bonnie Tyler"
          ],
          [
           "Time After Time",
           "Cyndi Lauper"
          ],
          [
           "9 to 5",
           "Dolly Parton"
          ],
          [
           "Eyes Without A Face",
           "Billy Idol"
          ],
          [
           "The Final Countdown",
           "Europe"
          ],
          [
           "Heaven",
           "Bryan Adams"
          ],
          [
           "I Still Haven't Found What I'm Looking For",
           "U2"
          ],
          [
           "I Love Rock 'N Roll",
           "Joan Jett & the Blackhearts"
          ],
          [
           "I Love Rock 'N Roll",
           "Joan Jett & the Blackhearts"
          ],
          [
           "Nothing's Gonna Stop Us Now",
           "Starship"
          ],
          [
           "Maneater",
           "Daryl Hall & John Oates"
          ],
          [
           "Bette Davis Eyes",
           "Kim Carnes"
          ],
          [
           "Maneater",
           "Daryl Hall & John Oates"
          ],
          [
           "Wake Me Up Before You Go-Go",
           "Wham!"
          ],
          [
           "Walking On Sunshine",
           "Katrina & The Waves"
          ],
          [
           "Uptown Girl",
           "Billy Joel"
          ],
          [
           "Walking On Sunshine",
           "Katrina & The Waves"
          ],
          [
           "With Or Without You",
           "U2"
          ],
          [
           "Never Gonna Give You Up",
           "Rick Astley"
          ],
          [
           "Tainted Love",
           "Soft Cell"
          ],
          [
           "Billie Jean",
           "Michael Jackson"
          ],
          [
           "Stand by Me",
           "Ben E. King"
          ],
          [
           "Could You Be Loved",
           "Bob Marley & The Wailers"
          ],
          [
           "Could You Be Loved",
           "Bob Marley & The Wailers"
          ],
          [
           "Gimme! Gimme! Gimme! (A Man After Midnight)",
           "ABBA"
          ],
          [
           "Careless Whisper",
           "George Michael"
          ],
          [
           "Girls Just Want to Have Fun",
           "Cyndi Lauper"
          ],
          [
           "I Wanna Dance with Somebody (Who Loves Me)",
           "Whitney Houston"
          ],
          [
           "You Shook Me All Night Long",
           "AC/DC"
          ],
          [
           "Africa",
           "TOTO"
          ],
          [
           "Highway to Hell",
           "AC/DC"
          ],
          [
           "Livin' On A Prayer",
           "Bon Jovi"
          ],
          [
           "Take on Me",
           "a-ha"
          ],
          [
           "Every Breath You Take",
           "The Police"
          ],
          [
           "Everybody Wants To Rule The World",
           "Tears For Fears"
          ]
         ],
         "hovertemplate": "popularity_percentile=%{x}<br>chart_power_percentile=%{y}<br>name=%{customdata[0]}<br>artists=%{customdata[1]}<extra></extra>",
         "legendgroup": "",
         "marker": {
          "color": "#636efa",
          "symbol": "circle"
         },
         "mode": "markers",
         "name": "",
         "showlegend": false,
         "type": "scattergl",
         "x": [
          1.0699826489300175,
          1.0699826489300175,
          1.0699826489300175,
          1.0699826489300175,
          1.0699826489300175,
          1.0699826489300175,
          1.0699826489300175,
          1.0699826489300175,
          1.0699826489300175,
          1.0699826489300175,
          1.0699826489300175,
          1.0699826489300175,
          1.0699826489300175,
          1.0699826489300175,
          1.0699826489300175,
          1.0699826489300175,
          1.0699826489300175,
          1.0699826489300175,
          1.0699826489300175,
          1.0699826489300175,
          1.0699826489300175,
          1.0699826489300175,
          1.0699826489300175,
          1.0699826489300175,
          1.0699826489300175,
          1.0699826489300175,
          1.0699826489300175,
          1.0699826489300175,
          1.0699826489300175,
          1.0699826489300175,
          1.0699826489300175,
          1.0699826489300175,
          1.0699826489300175,
          1.0699826489300175,
          1.0699826489300175,
          1.0699826489300175,
          2.5737420474262582,
          2.5737420474262582,
          2.5737420474262582,
          2.5737420474262582,
          2.5737420474262582,
          2.5737420474262582,
          2.5737420474262582,
          2.5737420474262582,
          2.5737420474262582,
          2.5737420474262582,
          2.5737420474262582,
          2.5737420474262582,
          2.5737420474262582,
          2.5737420474262582,
          2.5737420474262582,
          2.5737420474262582,
          3.5858877964141125,
          3.5858877964141125,
          3.5858877964141125,
          3.5858877964141125,
          3.5858877964141125,
          3.5858877964141125,
          3.5858877964141125,
          3.5858877964141125,
          3.5858877964141125,
          3.5858877964141125,
          3.5858877964141125,
          3.5858877964141125,
          3.5858877964141125,
          3.5858877964141125,
          3.5858877964141125,
          3.5858877964141125,
          3.5858877964141125,
          3.5858877964141125,
          3.5858877964141125,
          4.366685945633314,
          4.366685945633314,
          4.366685945633314,
          4.366685945633314,
          4.366685945633314,
          4.366685945633314,
          4.366685945633314,
          4.366685945633314,
          4.8004626951995375,
          4.8004626951995375,
          4.8004626951995375,
          4.8004626951995375,
          4.8004626951995375,
          4.8004626951995375,
          4.8004626951995375,
          5.320994794679005,
          5.320994794679005,
          5.320994794679005,
          5.320994794679005,
          5.320994794679005,
          5.320994794679005,
          5.320994794679005,
          5.320994794679005,
          5.320994794679005,
          5.320994794679005,
          5.320994794679005,
          5.9572006940427995,
          5.9572006940427995,
          5.9572006940427995,
          5.9572006940427995,
          5.9572006940427995,
          5.9572006940427995,
          5.9572006940427995,
          5.9572006940427995,
          5.9572006940427995,
          5.9572006940427995,
          5.9572006940427995,
          6.70908039329092,
          6.70908039329092,
          6.70908039329092,
          6.70908039329092,
          6.70908039329092,
          6.70908039329092,
          6.70908039329092,
          6.70908039329092,
          6.70908039329092,
          6.70908039329092,
          6.70908039329092,
          6.70908039329092,
          6.70908039329092,
          6.70908039329092,
          6.70908039329092,
          7.403123192596876,
          7.403123192596876,
          7.403123192596876,
          7.403123192596876,
          7.403123192596876,
          7.403123192596876,
          7.403123192596876,
          7.403123192596876,
          7.403123192596876,
          8.03932909196067,
          8.03932909196067,
          8.03932909196067,
          8.03932909196067,
          8.03932909196067,
          8.03932909196067,
          8.03932909196067,
          8.03932909196067,
          8.03932909196067,
          8.03932909196067,
          8.03932909196067,
          8.03932909196067,
          8.03932909196067,
          8.906882591093117,
          8.906882591093117,
          8.906882591093117,
          8.906882591093117,
          8.906882591093117,
          8.906882591093117,
          8.906882591093117,
          8.906882591093117,
          8.906882591093117,
          8.906882591093117,
          8.906882591093117,
          8.906882591093117,
          8.906882591093117,
          8.906882591093117,
          8.906882591093117,
          8.906882591093117,
          8.906882591093117,
          9.7165991902834,
          9.7165991902834,
          9.7165991902834,
          9.7165991902834,
          9.7165991902834,
          9.7165991902834,
          9.7165991902834,
          9.7165991902834,
          9.7165991902834,
          9.7165991902834,
          9.7165991902834,
          10.43956043956044,
          10.43956043956044,
          10.43956043956044,
          10.43956043956044,
          10.43956043956044,
          10.43956043956044,
          10.43956043956044,
          10.43956043956044,
          10.43956043956044,
          10.43956043956044,
          10.43956043956044,
          10.43956043956044,
          10.43956043956044,
          10.43956043956044,
          11.16252168883748,
          11.16252168883748,
          11.16252168883748,
          11.16252168883748,
          11.16252168883748,
          11.16252168883748,
          11.16252168883748,
          11.16252168883748,
          11.16252168883748,
          11.16252168883748,
          11.16252168883748,
          12.001156737998842,
          12.001156737998842,
          12.001156737998842,
          12.001156737998842,
          12.001156737998842,
          12.001156737998842,
          12.001156737998842,
          12.001156737998842,
          12.001156737998842,
          12.001156737998842,
          12.001156737998842,
          12.001156737998842,
          12.001156737998842,
          12.001156737998842,
          12.001156737998842,
          12.001156737998842,
          12.001156737998842,
          12.001156737998842,
          13.04222093695778,
          13.04222093695778,
          13.04222093695778,
          13.04222093695778,
          13.04222093695778,
          13.04222093695778,
          13.04222093695778,
          13.04222093695778,
          13.04222093695778,
          13.04222093695778,
          13.04222093695778,
          13.04222093695778,
          13.04222093695778,
          13.04222093695778,
          13.04222093695778,
          13.04222093695778,
          13.04222093695778,
          13.04222093695778,
          14.054366685945633,
          14.054366685945633,
          14.054366685945633,
          14.054366685945633,
          14.054366685945633,
          14.054366685945633,
          14.054366685945633,
          14.054366685945633,
          14.054366685945633,
          14.054366685945633,
          14.054366685945633,
          14.054366685945633,
          14.054366685945633,
          14.054366685945633,
          14.054366685945633,
          14.054366685945633,
          14.054366685945633,
          15.008675534991326,
          15.008675534991326,
          15.008675534991326,
          15.008675534991326,
          15.008675534991326,
          15.008675534991326,
          15.008675534991326,
          15.008675534991326,
          15.008675534991326,
          15.008675534991326,
          15.008675534991326,
          15.008675534991326,
          15.008675534991326,
          15.008675534991326,
          15.008675534991326,
          15.008675534991326,
          15.847310584152691,
          15.847310584152691,
          15.847310584152691,
          15.847310584152691,
          15.847310584152691,
          15.847310584152691,
          15.847310584152691,
          15.847310584152691,
          15.847310584152691,
          15.847310584152691,
          15.847310584152691,
          15.847310584152691,
          15.847310584152691,
          16.801619433198383,
          16.801619433198383,
          16.801619433198383,
          16.801619433198383,
          16.801619433198383,
          16.801619433198383,
          16.801619433198383,
          16.801619433198383,
          16.801619433198383,
          16.801619433198383,
          16.801619433198383,
          16.801619433198383,
          16.801619433198383,
          16.801619433198383,
          16.801619433198383,
          16.801619433198383,
          16.801619433198383,
          16.801619433198383,
          16.801619433198383,
          16.801619433198383,
          17.784846732215154,
          17.784846732215154,
          17.784846732215154,
          17.784846732215154,
          17.784846732215154,
          17.784846732215154,
          17.784846732215154,
          17.784846732215154,
          17.784846732215154,
          17.784846732215154,
          17.784846732215154,
          17.784846732215154,
          17.784846732215154,
          17.784846732215154,
          18.796992481203006,
          18.796992481203006,
          18.796992481203006,
          18.796992481203006,
          18.796992481203006,
          18.796992481203006,
          18.796992481203006,
          18.796992481203006,
          18.796992481203006,
          18.796992481203006,
          18.796992481203006,
          18.796992481203006,
          18.796992481203006,
          18.796992481203006,
          18.796992481203006,
          18.796992481203006,
          18.796992481203006,
          18.796992481203006,
          18.796992481203006,
          18.796992481203006,
          18.796992481203006,
          19.838056680161944,
          19.838056680161944,
          19.838056680161944,
          19.838056680161944,
          19.838056680161944,
          19.838056680161944,
          19.838056680161944,
          19.838056680161944,
          19.838056680161944,
          19.838056680161944,
          19.838056680161944,
          19.838056680161944,
          19.838056680161944,
          19.838056680161944,
          19.838056680161944,
          20.763447079236553,
          20.763447079236553,
          20.763447079236553,
          20.763447079236553,
          20.763447079236553,
          20.763447079236553,
          20.763447079236553,
          20.763447079236553,
          20.763447079236553,
          20.763447079236553,
          20.763447079236553,
          20.763447079236553,
          20.763447079236553,
          20.763447079236553,
          20.763447079236553,
          20.763447079236553,
          20.763447079236553,
          21.83342972816657,
          21.83342972816657,
          21.83342972816657,
          21.83342972816657,
          21.83342972816657,
          21.83342972816657,
          21.83342972816657,
          21.83342972816657,
          21.83342972816657,
          21.83342972816657,
          21.83342972816657,
          21.83342972816657,
          21.83342972816657,
          21.83342972816657,
          21.83342972816657,
          21.83342972816657,
          21.83342972816657,
          21.83342972816657,
          21.83342972816657,
          21.83342972816657,
          23.13475997686524,
          23.13475997686524,
          23.13475997686524,
          23.13475997686524,
          23.13475997686524,
          23.13475997686524,
          23.13475997686524,
          23.13475997686524,
          23.13475997686524,
          23.13475997686524,
          23.13475997686524,
          23.13475997686524,
          23.13475997686524,
          23.13475997686524,
          23.13475997686524,
          23.13475997686524,
          23.13475997686524,
          23.13475997686524,
          23.13475997686524,
          23.13475997686524,
          23.13475997686524,
          23.13475997686524,
          23.13475997686524,
          23.13475997686524,
          23.13475997686524,
          24.14690572585309,
          24.14690572585309,
          24.14690572585309,
          24.14690572585309,
          24.14690572585309,
          24.14690572585309,
          24.14690572585309,
          24.14690572585309,
          24.14690572585309,
          24.14690572585309,
          25.01445922498554,
          25.01445922498554,
          25.01445922498554,
          25.01445922498554,
          25.01445922498554,
          25.01445922498554,
          25.01445922498554,
          25.01445922498554,
          25.01445922498554,
          25.01445922498554,
          25.01445922498554,
          25.01445922498554,
          25.01445922498554,
          25.01445922498554,
          25.01445922498554,
          25.01445922498554,
          25.01445922498554,
          25.01445922498554,
          25.01445922498554,
          25.01445922498554,
          26.14227877385772,
          26.14227877385772,
          26.14227877385772,
          26.14227877385772,
          26.14227877385772,
          26.14227877385772,
          26.14227877385772,
          26.14227877385772,
          26.14227877385772,
          26.14227877385772,
          26.14227877385772,
          26.14227877385772,
          26.14227877385772,
          26.14227877385772,
          26.14227877385772,
          26.14227877385772,
          26.14227877385772,
          26.14227877385772,
          26.14227877385772,
          27.732793522267208,
          27.732793522267208,
          27.732793522267208,
          27.732793522267208,
          27.732793522267208,
          27.732793522267208,
          27.732793522267208,
          27.732793522267208,
          27.732793522267208,
          27.732793522267208,
          27.732793522267208,
          27.732793522267208,
          27.732793522267208,
          27.732793522267208,
          27.732793522267208,
          27.732793522267208,
          27.732793522267208,
          27.732793522267208,
          27.732793522267208,
          27.732793522267208,
          27.732793522267208,
          27.732793522267208,
          27.732793522267208,
          27.732793522267208,
          27.732793522267208,
          27.732793522267208,
          27.732793522267208,
          27.732793522267208,
          27.732793522267208,
          27.732793522267208,
          27.732793522267208,
          27.732793522267208,
          27.732793522267208,
          27.732793522267208,
          27.732793522267208,
          27.732793522267208,
          29.75708502024291,
          29.75708502024291,
          29.75708502024291,
          29.75708502024291,
          29.75708502024291,
          29.75708502024291,
          29.75708502024291,
          29.75708502024291,
          29.75708502024291,
          29.75708502024291,
          29.75708502024291,
          29.75708502024291,
          29.75708502024291,
          29.75708502024291,
          29.75708502024291,
          29.75708502024291,
          29.75708502024291,
          29.75708502024291,
          29.75708502024291,
          29.75708502024291,
          29.75708502024291,
          29.75708502024291,
          29.75708502024291,
          29.75708502024291,
          29.75708502024291,
          29.75708502024291,
          29.75708502024291,
          29.75708502024291,
          29.75708502024291,
          29.75708502024291,
          29.75708502024291,
          29.75708502024291,
          29.75708502024291,
          29.75708502024291,
          31.75245806824754,
          31.75245806824754,
          31.75245806824754,
          31.75245806824754,
          31.75245806824754,
          31.75245806824754,
          31.75245806824754,
          31.75245806824754,
          31.75245806824754,
          31.75245806824754,
          31.75245806824754,
          31.75245806824754,
          31.75245806824754,
          31.75245806824754,
          31.75245806824754,
          31.75245806824754,
          31.75245806824754,
          31.75245806824754,
          31.75245806824754,
          31.75245806824754,
          31.75245806824754,
          31.75245806824754,
          31.75245806824754,
          31.75245806824754,
          31.75245806824754,
          31.75245806824754,
          31.75245806824754,
          31.75245806824754,
          31.75245806824754,
          31.75245806824754,
          31.75245806824754,
          31.75245806824754,
          31.75245806824754,
          31.75245806824754,
          31.75245806824754,
          33.314054366685944,
          33.314054366685944,
          33.314054366685944,
          33.314054366685944,
          33.314054366685944,
          33.314054366685944,
          33.314054366685944,
          33.314054366685944,
          33.314054366685944,
          33.314054366685944,
          33.314054366685944,
          33.314054366685944,
          33.314054366685944,
          33.314054366685944,
          33.314054366685944,
          33.314054366685944,
          33.314054366685944,
          33.314054366685944,
          33.314054366685944,
          34.87565066512435,
          34.87565066512435,
          34.87565066512435,
          34.87565066512435,
          34.87565066512435,
          34.87565066512435,
          34.87565066512435,
          34.87565066512435,
          34.87565066512435,
          34.87565066512435,
          34.87565066512435,
          34.87565066512435,
          34.87565066512435,
          34.87565066512435,
          34.87565066512435,
          34.87565066512435,
          34.87565066512435,
          34.87565066512435,
          34.87565066512435,
          34.87565066512435,
          34.87565066512435,
          34.87565066512435,
          34.87565066512435,
          34.87565066512435,
          34.87565066512435,
          34.87565066512435,
          34.87565066512435,
          34.87565066512435,
          34.87565066512435,
          34.87565066512435,
          34.87565066512435,
          34.87565066512435,
          34.87565066512435,
          34.87565066512435,
          34.87565066512435,
          36.72643146327357,
          36.72643146327357,
          36.72643146327357,
          36.72643146327357,
          36.72643146327357,
          36.72643146327357,
          36.72643146327357,
          36.72643146327357,
          36.72643146327357,
          36.72643146327357,
          36.72643146327357,
          36.72643146327357,
          36.72643146327357,
          36.72643146327357,
          36.72643146327357,
          36.72643146327357,
          36.72643146327357,
          36.72643146327357,
          36.72643146327357,
          36.72643146327357,
          36.72643146327357,
          36.72643146327357,
          36.72643146327357,
          36.72643146327357,
          36.72643146327357,
          36.72643146327357,
          36.72643146327357,
          36.72643146327357,
          36.72643146327357,
          38.49045691150954,
          38.49045691150954,
          38.49045691150954,
          38.49045691150954,
          38.49045691150954,
          38.49045691150954,
          38.49045691150954,
          38.49045691150954,
          38.49045691150954,
          38.49045691150954,
          38.49045691150954,
          38.49045691150954,
          38.49045691150954,
          38.49045691150954,
          38.49045691150954,
          38.49045691150954,
          38.49045691150954,
          38.49045691150954,
          38.49045691150954,
          38.49045691150954,
          38.49045691150954,
          38.49045691150954,
          38.49045691150954,
          38.49045691150954,
          38.49045691150954,
          38.49045691150954,
          38.49045691150954,
          38.49045691150954,
          38.49045691150954,
          38.49045691150954,
          38.49045691150954,
          38.49045691150954,
          40.37015615962984,
          40.37015615962984,
          40.37015615962984,
          40.37015615962984,
          40.37015615962984,
          40.37015615962984,
          40.37015615962984,
          40.37015615962984,
          40.37015615962984,
          40.37015615962984,
          40.37015615962984,
          40.37015615962984,
          40.37015615962984,
          40.37015615962984,
          40.37015615962984,
          40.37015615962984,
          40.37015615962984,
          40.37015615962984,
          40.37015615962984,
          40.37015615962984,
          40.37015615962984,
          40.37015615962984,
          40.37015615962984,
          40.37015615962984,
          40.37015615962984,
          40.37015615962984,
          40.37015615962984,
          40.37015615962984,
          40.37015615962984,
          40.37015615962984,
          40.37015615962984,
          40.37015615962984,
          40.37015615962984,
          42.07634470792366,
          42.07634470792366,
          42.07634470792366,
          42.07634470792366,
          42.07634470792366,
          42.07634470792366,
          42.07634470792366,
          42.07634470792366,
          42.07634470792366,
          42.07634470792366,
          42.07634470792366,
          42.07634470792366,
          42.07634470792366,
          42.07634470792366,
          42.07634470792366,
          42.07634470792366,
          42.07634470792366,
          42.07634470792366,
          42.07634470792366,
          42.07634470792366,
          42.07634470792366,
          42.07634470792366,
          42.07634470792366,
          42.07634470792366,
          42.07634470792366,
          42.07634470792366,
          43.984962406015036,
          43.984962406015036,
          43.984962406015036,
          43.984962406015036,
          43.984962406015036,
          43.984962406015036,
          43.984962406015036,
          43.984962406015036,
          43.984962406015036,
          43.984962406015036,
          43.984962406015036,
          43.984962406015036,
          43.984962406015036,
          43.984962406015036,
          43.984962406015036,
          43.984962406015036,
          43.984962406015036,
          43.984962406015036,
          43.984962406015036,
          43.984962406015036,
          43.984962406015036,
          43.984962406015036,
          43.984962406015036,
          43.984962406015036,
          43.984962406015036,
          43.984962406015036,
          43.984962406015036,
          43.984962406015036,
          43.984962406015036,
          43.984962406015036,
          43.984962406015036,
          43.984962406015036,
          43.984962406015036,
          43.984962406015036,
          43.984962406015036,
          43.984962406015036,
          43.984962406015036,
          43.984962406015036,
          43.984962406015036,
          43.984962406015036,
          46.2406015037594,
          46.2406015037594,
          46.2406015037594,
          46.2406015037594,
          46.2406015037594,
          46.2406015037594,
          46.2406015037594,
          46.2406015037594,
          46.2406015037594,
          46.2406015037594,
          46.2406015037594,
          46.2406015037594,
          46.2406015037594,
          46.2406015037594,
          46.2406015037594,
          46.2406015037594,
          46.2406015037594,
          46.2406015037594,
          46.2406015037594,
          46.2406015037594,
          46.2406015037594,
          46.2406015037594,
          46.2406015037594,
          46.2406015037594,
          46.2406015037594,
          46.2406015037594,
          46.2406015037594,
          46.2406015037594,
          46.2406015037594,
          46.2406015037594,
          46.2406015037594,
          46.2406015037594,
          46.2406015037594,
          46.2406015037594,
          46.2406015037594,
          46.2406015037594,
          46.2406015037594,
          46.2406015037594,
          48.40948525159052,
          48.40948525159052,
          48.40948525159052,
          48.40948525159052,
          48.40948525159052,
          48.40948525159052,
          48.40948525159052,
          48.40948525159052,
          48.40948525159052,
          48.40948525159052,
          48.40948525159052,
          48.40948525159052,
          48.40948525159052,
          48.40948525159052,
          48.40948525159052,
          48.40948525159052,
          48.40948525159052,
          48.40948525159052,
          48.40948525159052,
          48.40948525159052,
          48.40948525159052,
          48.40948525159052,
          48.40948525159052,
          48.40948525159052,
          48.40948525159052,
          48.40948525159052,
          48.40948525159052,
          48.40948525159052,
          48.40948525159052,
          48.40948525159052,
          48.40948525159052,
          48.40948525159052,
          48.40948525159052,
          48.40948525159052,
          48.40948525159052,
          48.40948525159052,
          48.40948525159052,
          50.72296124927704,
          50.72296124927704,
          50.72296124927704,
          50.72296124927704,
          50.72296124927704,
          50.72296124927704,
          50.72296124927704,
          50.72296124927704,
          50.72296124927704,
          50.72296124927704,
          50.72296124927704,
          50.72296124927704,
          50.72296124927704,
          50.72296124927704,
          50.72296124927704,
          50.72296124927704,
          50.72296124927704,
          50.72296124927704,
          50.72296124927704,
          50.72296124927704,
          50.72296124927704,
          50.72296124927704,
          50.72296124927704,
          50.72296124927704,
          50.72296124927704,
          50.72296124927704,
          50.72296124927704,
          50.72296124927704,
          50.72296124927704,
          50.72296124927704,
          50.72296124927704,
          50.72296124927704,
          50.72296124927704,
          50.72296124927704,
          50.72296124927704,
          50.72296124927704,
          50.72296124927704,
          50.72296124927704,
          50.72296124927704,
          50.72296124927704,
          50.72296124927704,
          50.72296124927704,
          50.72296124927704,
          52.77617119722383,
          52.77617119722383,
          52.77617119722383,
          52.77617119722383,
          52.77617119722383,
          52.77617119722383,
          52.77617119722383,
          52.77617119722383,
          52.77617119722383,
          52.77617119722383,
          52.77617119722383,
          52.77617119722383,
          52.77617119722383,
          52.77617119722383,
          52.77617119722383,
          52.77617119722383,
          52.77617119722383,
          52.77617119722383,
          52.77617119722383,
          52.77617119722383,
          52.77617119722383,
          52.77617119722383,
          52.77617119722383,
          52.77617119722383,
          52.77617119722383,
          52.77617119722383,
          52.77617119722383,
          52.77617119722383,
          54.424522845575474,
          54.424522845575474,
          54.424522845575474,
          54.424522845575474,
          54.424522845575474,
          54.424522845575474,
          54.424522845575474,
          54.424522845575474,
          54.424522845575474,
          54.424522845575474,
          54.424522845575474,
          54.424522845575474,
          54.424522845575474,
          54.424522845575474,
          54.424522845575474,
          54.424522845575474,
          54.424522845575474,
          54.424522845575474,
          54.424522845575474,
          54.424522845575474,
          54.424522845575474,
          54.424522845575474,
          54.424522845575474,
          54.424522845575474,
          54.424522845575474,
          54.424522845575474,
          54.424522845575474,
          54.424522845575474,
          54.424522845575474,
          56.043956043956044,
          56.043956043956044,
          56.043956043956044,
          56.043956043956044,
          56.043956043956044,
          56.043956043956044,
          56.043956043956044,
          56.043956043956044,
          56.043956043956044,
          56.043956043956044,
          56.043956043956044,
          56.043956043956044,
          56.043956043956044,
          56.043956043956044,
          56.043956043956044,
          56.043956043956044,
          56.043956043956044,
          56.043956043956044,
          56.043956043956044,
          56.043956043956044,
          56.043956043956044,
          56.043956043956044,
          56.043956043956044,
          56.043956043956044,
          56.043956043956044,
          56.043956043956044,
          56.043956043956044,
          57.952573742047434,
          57.952573742047434,
          57.952573742047434,
          57.952573742047434,
          57.952573742047434,
          57.952573742047434,
          57.952573742047434,
          57.952573742047434,
          57.952573742047434,
          57.952573742047434,
          57.952573742047434,
          57.952573742047434,
          57.952573742047434,
          57.952573742047434,
          57.952573742047434,
          57.952573742047434,
          57.952573742047434,
          57.952573742047434,
          57.952573742047434,
          57.952573742047434,
          57.952573742047434,
          57.952573742047434,
          57.952573742047434,
          57.952573742047434,
          57.952573742047434,
          57.952573742047434,
          57.952573742047434,
          57.952573742047434,
          57.952573742047434,
          57.952573742047434,
          57.952573742047434,
          57.952573742047434,
          57.952573742047434,
          57.952573742047434,
          57.952573742047434,
          57.952573742047434,
          57.952573742047434,
          57.952573742047434,
          57.952573742047434,
          60.063620589936384,
          60.063620589936384,
          60.063620589936384,
          60.063620589936384,
          60.063620589936384,
          60.063620589936384,
          60.063620589936384,
          60.063620589936384,
          60.063620589936384,
          60.063620589936384,
          60.063620589936384,
          60.063620589936384,
          60.063620589936384,
          60.063620589936384,
          60.063620589936384,
          60.063620589936384,
          60.063620589936384,
          60.063620589936384,
          60.063620589936384,
          60.063620589936384,
          60.063620589936384,
          60.063620589936384,
          60.063620589936384,
          60.063620589936384,
          60.063620589936384,
          60.063620589936384,
          60.063620589936384,
          60.063620589936384,
          60.063620589936384,
          60.063620589936384,
          60.063620589936384,
          60.063620589936384,
          60.063620589936384,
          60.063620589936384,
          61.769809138230194,
          61.769809138230194,
          61.769809138230194,
          61.769809138230194,
          61.769809138230194,
          61.769809138230194,
          61.769809138230194,
          61.769809138230194,
          61.769809138230194,
          61.769809138230194,
          61.769809138230194,
          61.769809138230194,
          61.769809138230194,
          61.769809138230194,
          61.769809138230194,
          61.769809138230194,
          61.769809138230194,
          61.769809138230194,
          61.769809138230194,
          61.769809138230194,
          61.769809138230194,
          61.769809138230194,
          61.769809138230194,
          61.769809138230194,
          61.769809138230194,
          63.36032388663968,
          63.36032388663968,
          63.36032388663968,
          63.36032388663968,
          63.36032388663968,
          63.36032388663968,
          63.36032388663968,
          63.36032388663968,
          63.36032388663968,
          63.36032388663968,
          63.36032388663968,
          63.36032388663968,
          63.36032388663968,
          63.36032388663968,
          63.36032388663968,
          63.36032388663968,
          63.36032388663968,
          63.36032388663968,
          63.36032388663968,
          63.36032388663968,
          63.36032388663968,
          63.36032388663968,
          63.36032388663968,
          63.36032388663968,
          63.36032388663968,
          63.36032388663968,
          63.36032388663968,
          63.36032388663968,
          63.36032388663968,
          63.36032388663968,
          65.32677848467323,
          65.32677848467323,
          65.32677848467323,
          65.32677848467323,
          65.32677848467323,
          65.32677848467323,
          65.32677848467323,
          65.32677848467323,
          65.32677848467323,
          65.32677848467323,
          65.32677848467323,
          65.32677848467323,
          65.32677848467323,
          65.32677848467323,
          65.32677848467323,
          65.32677848467323,
          65.32677848467323,
          65.32677848467323,
          65.32677848467323,
          65.32677848467323,
          65.32677848467323,
          65.32677848467323,
          65.32677848467323,
          65.32677848467323,
          65.32677848467323,
          65.32677848467323,
          65.32677848467323,
          65.32677848467323,
          65.32677848467323,
          65.32677848467323,
          65.32677848467323,
          65.32677848467323,
          65.32677848467323,
          65.32677848467323,
          65.32677848467323,
          65.32677848467323,
          65.32677848467323,
          65.32677848467323,
          67.29323308270678,
          67.29323308270678,
          67.29323308270678,
          67.29323308270678,
          67.29323308270678,
          67.29323308270678,
          67.29323308270678,
          67.29323308270678,
          67.29323308270678,
          67.29323308270678,
          67.29323308270678,
          67.29323308270678,
          67.29323308270678,
          67.29323308270678,
          67.29323308270678,
          67.29323308270678,
          67.29323308270678,
          67.29323308270678,
          67.29323308270678,
          67.29323308270678,
          67.29323308270678,
          67.29323308270678,
          67.29323308270678,
          67.29323308270678,
          67.29323308270678,
          67.29323308270678,
          67.29323308270678,
          67.29323308270678,
          67.29323308270678,
          67.29323308270678,
          68.88374783111625,
          68.88374783111625,
          68.88374783111625,
          68.88374783111625,
          68.88374783111625,
          68.88374783111625,
          68.88374783111625,
          68.88374783111625,
          68.88374783111625,
          68.88374783111625,
          68.88374783111625,
          68.88374783111625,
          68.88374783111625,
          68.88374783111625,
          68.88374783111625,
          68.88374783111625,
          68.88374783111625,
          68.88374783111625,
          68.88374783111625,
          68.88374783111625,
          68.88374783111625,
          68.88374783111625,
          68.88374783111625,
          68.88374783111625,
          68.88374783111625,
          70.30075187969925,
          70.30075187969925,
          70.30075187969925,
          70.30075187969925,
          70.30075187969925,
          70.30075187969925,
          70.30075187969925,
          70.30075187969925,
          70.30075187969925,
          70.30075187969925,
          70.30075187969925,
          70.30075187969925,
          70.30075187969925,
          70.30075187969925,
          70.30075187969925,
          70.30075187969925,
          70.30075187969925,
          70.30075187969925,
          70.30075187969925,
          70.30075187969925,
          70.30075187969925,
          70.30075187969925,
          70.30075187969925,
          70.30075187969925,
          71.83342972816658,
          71.83342972816658,
          71.83342972816658,
          71.83342972816658,
          71.83342972816658,
          71.83342972816658,
          71.83342972816658,
          71.83342972816658,
          71.83342972816658,
          71.83342972816658,
          71.83342972816658,
          71.83342972816658,
          71.83342972816658,
          71.83342972816658,
          71.83342972816658,
          71.83342972816658,
          71.83342972816658,
          71.83342972816658,
          71.83342972816658,
          71.83342972816658,
          71.83342972816658,
          71.83342972816658,
          71.83342972816658,
          71.83342972816658,
          71.83342972816658,
          71.83342972816658,
          71.83342972816658,
          71.83342972816658,
          71.83342972816658,
          73.45286292654714,
          73.45286292654714,
          73.45286292654714,
          73.45286292654714,
          73.45286292654714,
          73.45286292654714,
          73.45286292654714,
          73.45286292654714,
          73.45286292654714,
          73.45286292654714,
          73.45286292654714,
          73.45286292654714,
          73.45286292654714,
          73.45286292654714,
          73.45286292654714,
          73.45286292654714,
          73.45286292654714,
          73.45286292654714,
          73.45286292654714,
          73.45286292654714,
          73.45286292654714,
          73.45286292654714,
          73.45286292654714,
          73.45286292654714,
          73.45286292654714,
          73.45286292654714,
          73.45286292654714,
          75.15905147484094,
          75.15905147484094,
          75.15905147484094,
          75.15905147484094,
          75.15905147484094,
          75.15905147484094,
          75.15905147484094,
          75.15905147484094,
          75.15905147484094,
          75.15905147484094,
          75.15905147484094,
          75.15905147484094,
          75.15905147484094,
          75.15905147484094,
          75.15905147484094,
          75.15905147484094,
          75.15905147484094,
          75.15905147484094,
          75.15905147484094,
          75.15905147484094,
          75.15905147484094,
          75.15905147484094,
          75.15905147484094,
          75.15905147484094,
          75.15905147484094,
          75.15905147484094,
          75.15905147484094,
          75.15905147484094,
          75.15905147484094,
          75.15905147484094,
          75.15905147484094,
          75.15905147484094,
          76.86524002313476,
          76.86524002313476,
          76.86524002313476,
          76.86524002313476,
          76.86524002313476,
          76.86524002313476,
          76.86524002313476,
          76.86524002313476,
          76.86524002313476,
          76.86524002313476,
          76.86524002313476,
          76.86524002313476,
          76.86524002313476,
          76.86524002313476,
          76.86524002313476,
          76.86524002313476,
          76.86524002313476,
          76.86524002313476,
          76.86524002313476,
          76.86524002313476,
          76.86524002313476,
          76.86524002313476,
          76.86524002313476,
          76.86524002313476,
          76.86524002313476,
          76.86524002313476,
          76.86524002313476,
          78.54251012145748,
          78.54251012145748,
          78.54251012145748,
          78.54251012145748,
          78.54251012145748,
          78.54251012145748,
          78.54251012145748,
          78.54251012145748,
          78.54251012145748,
          78.54251012145748,
          78.54251012145748,
          78.54251012145748,
          78.54251012145748,
          78.54251012145748,
          78.54251012145748,
          78.54251012145748,
          78.54251012145748,
          78.54251012145748,
          78.54251012145748,
          78.54251012145748,
          78.54251012145748,
          78.54251012145748,
          78.54251012145748,
          78.54251012145748,
          78.54251012145748,
          78.54251012145748,
          78.54251012145748,
          78.54251012145748,
          78.54251012145748,
          78.54251012145748,
          78.54251012145748,
          80.21978021978022,
          80.21978021978022,
          80.21978021978022,
          80.21978021978022,
          80.21978021978022,
          80.21978021978022,
          80.21978021978022,
          80.21978021978022,
          80.21978021978022,
          80.21978021978022,
          80.21978021978022,
          80.21978021978022,
          80.21978021978022,
          80.21978021978022,
          80.21978021978022,
          80.21978021978022,
          80.21978021978022,
          80.21978021978022,
          80.21978021978022,
          80.21978021978022,
          80.21978021978022,
          80.21978021978022,
          80.21978021978022,
          80.21978021978022,
          80.21978021978022,
          80.21978021978022,
          80.21978021978022,
          81.55002891844997,
          81.55002891844997,
          81.55002891844997,
          81.55002891844997,
          81.55002891844997,
          81.55002891844997,
          81.55002891844997,
          81.55002891844997,
          81.55002891844997,
          81.55002891844997,
          81.55002891844997,
          81.55002891844997,
          81.55002891844997,
          81.55002891844997,
          81.55002891844997,
          81.55002891844997,
          81.55002891844997,
          81.55002891844997,
          81.55002891844997,
          82.62001156737999,
          82.62001156737999,
          82.62001156737999,
          82.62001156737999,
          82.62001156737999,
          82.62001156737999,
          82.62001156737999,
          82.62001156737999,
          82.62001156737999,
          82.62001156737999,
          82.62001156737999,
          82.62001156737999,
          82.62001156737999,
          82.62001156737999,
          82.62001156737999,
          82.62001156737999,
          82.62001156737999,
          82.62001156737999,
          83.71891266628108,
          83.71891266628108,
          83.71891266628108,
          83.71891266628108,
          83.71891266628108,
          83.71891266628108,
          83.71891266628108,
          83.71891266628108,
          83.71891266628108,
          83.71891266628108,
          83.71891266628108,
          83.71891266628108,
          83.71891266628108,
          83.71891266628108,
          83.71891266628108,
          83.71891266628108,
          83.71891266628108,
          83.71891266628108,
          83.71891266628108,
          83.71891266628108,
          84.90456911509543,
          84.90456911509543,
          84.90456911509543,
          84.90456911509543,
          84.90456911509543,
          84.90456911509543,
          84.90456911509543,
          84.90456911509543,
          84.90456911509543,
          84.90456911509543,
          84.90456911509543,
          84.90456911509543,
          84.90456911509543,
          84.90456911509543,
          84.90456911509543,
          84.90456911509543,
          84.90456911509543,
          84.90456911509543,
          84.90456911509543,
          84.90456911509543,
          84.90456911509543,
          86.17698091382302,
          86.17698091382302,
          86.17698091382302,
          86.17698091382302,
          86.17698091382302,
          86.17698091382302,
          86.17698091382302,
          86.17698091382302,
          86.17698091382302,
          86.17698091382302,
          86.17698091382302,
          86.17698091382302,
          86.17698091382302,
          86.17698091382302,
          86.17698091382302,
          86.17698091382302,
          86.17698091382302,
          86.17698091382302,
          86.17698091382302,
          86.17698091382302,
          86.17698091382302,
          86.17698091382302,
          86.17698091382302,
          87.50722961249276,
          87.50722961249276,
          87.50722961249276,
          87.50722961249276,
          87.50722961249276,
          87.50722961249276,
          87.50722961249276,
          87.50722961249276,
          87.50722961249276,
          87.50722961249276,
          87.50722961249276,
          87.50722961249276,
          87.50722961249276,
          87.50722961249276,
          87.50722961249276,
          87.50722961249276,
          87.50722961249276,
          87.50722961249276,
          87.50722961249276,
          87.50722961249276,
          87.50722961249276,
          87.50722961249276,
          87.50722961249276,
          88.66396761133603,
          88.66396761133603,
          88.66396761133603,
          88.66396761133603,
          88.66396761133603,
          88.66396761133603,
          88.66396761133603,
          88.66396761133603,
          88.66396761133603,
          88.66396761133603,
          88.66396761133603,
          88.66396761133603,
          88.66396761133603,
          88.66396761133603,
          88.66396761133603,
          88.66396761133603,
          88.66396761133603,
          89.79178716020822,
          89.79178716020822,
          89.79178716020822,
          89.79178716020822,
          89.79178716020822,
          89.79178716020822,
          89.79178716020822,
          89.79178716020822,
          89.79178716020822,
          89.79178716020822,
          89.79178716020822,
          89.79178716020822,
          89.79178716020822,
          89.79178716020822,
          89.79178716020822,
          89.79178716020822,
          89.79178716020822,
          89.79178716020822,
          89.79178716020822,
          89.79178716020822,
          89.79178716020822,
          89.79178716020822,
          90.71717755928283,
          90.71717755928283,
          90.71717755928283,
          90.71717755928283,
          90.71717755928283,
          90.71717755928283,
          90.71717755928283,
          90.71717755928283,
          90.71717755928283,
          90.71717755928283,
          91.35338345864662,
          91.35338345864662,
          91.35338345864662,
          91.35338345864662,
          91.35338345864662,
          91.35338345864662,
          91.35338345864662,
          91.35338345864662,
          91.35338345864662,
          91.35338345864662,
          91.35338345864662,
          91.35338345864662,
          92.01850780798149,
          92.01850780798149,
          92.01850780798149,
          92.01850780798149,
          92.01850780798149,
          92.01850780798149,
          92.01850780798149,
          92.01850780798149,
          92.01850780798149,
          92.01850780798149,
          92.01850780798149,
          92.59687680740313,
          92.59687680740313,
          92.59687680740313,
          92.59687680740313,
          92.59687680740313,
          92.59687680740313,
          92.59687680740313,
          92.59687680740313,
          92.59687680740313,
          93.05957200694043,
          93.05957200694043,
          93.05957200694043,
          93.05957200694043,
          93.05957200694043,
          93.05957200694043,
          93.05957200694043,
          93.7246963562753,
          93.7246963562753,
          93.7246963562753,
          93.7246963562753,
          93.7246963562753,
          93.7246963562753,
          93.7246963562753,
          93.7246963562753,
          93.7246963562753,
          93.7246963562753,
          93.7246963562753,
          93.7246963562753,
          93.7246963562753,
          93.7246963562753,
          93.7246963562753,
          93.7246963562753,
          94.65008675534992,
          94.65008675534992,
          94.65008675534992,
          94.65008675534992,
          94.65008675534992,
          94.65008675534992,
          94.65008675534992,
          94.65008675534992,
          94.65008675534992,
          94.65008675534992,
          94.65008675534992,
          94.65008675534992,
          94.65008675534992,
          94.65008675534992,
          94.65008675534992,
          94.65008675534992,
          95.51764025448236,
          95.51764025448236,
          95.51764025448236,
          95.51764025448236,
          95.51764025448236,
          95.51764025448236,
          95.51764025448236,
          95.51764025448236,
          95.51764025448236,
          95.51764025448236,
          95.51764025448236,
          95.51764025448236,
          95.51764025448236,
          95.51764025448236,
          96.2406015037594,
          96.2406015037594,
          96.2406015037594,
          96.2406015037594,
          96.2406015037594,
          96.2406015037594,
          96.2406015037594,
          96.2406015037594,
          96.2406015037594,
          96.2406015037594,
          96.2406015037594,
          96.8768074031232,
          96.8768074031232,
          96.8768074031232,
          96.8768074031232,
          96.8768074031232,
          96.8768074031232,
          96.8768074031232,
          96.8768074031232,
          96.8768074031232,
          96.8768074031232,
          96.8768074031232,
          97.36842105263158,
          97.36842105263158,
          97.36842105263158,
          97.36842105263158,
          97.36842105263158,
          97.36842105263158,
          97.71544245228456,
          97.71544245228456,
          97.71544245228456,
          97.71544245228456,
          97.71544245228456,
          97.71544245228456,
          98.14921920185078,
          98.14921920185078,
          98.14921920185078,
          98.14921920185078,
          98.14921920185078,
          98.14921920185078,
          98.14921920185078,
          98.14921920185078,
          98.14921920185078,
          98.582995951417,
          98.582995951417,
          98.582995951417,
          98.582995951417,
          98.582995951417,
          98.582995951417,
          98.93001735106999,
          98.93001735106999,
          98.93001735106999,
          98.93001735106999,
          98.93001735106999,
          98.93001735106999,
          99.33487565066513,
          99.33487565066513,
          99.33487565066513,
          99.33487565066513,
          99.33487565066513,
          99.33487565066513,
          99.33487565066513,
          99.33487565066513,
          99.62406015037594,
          99.62406015037594,
          99.73973395026027,
          99.73973395026027,
          99.82648930017352,
          99.91324465008675,
          99.91324465008675,
          100
         ],
         "xaxis": "x",
         "y": [
          0.057836899942163095,
          75.93984962406014,
          74.08906882591093,
          73.79988432620011,
          17.987275882012725,
          73.25043377674957,
          72.52747252747253,
          19.491035280508964,
          65.00867553499133,
          23.308270676691727,
          55.23423944476576,
          76.66281087333718,
          24.78311162521689,
          52.0242914979757,
          26.89415847310584,
          49.56622325043378,
          29.1497975708502,
          30.624638519375363,
          31.694621168305382,
          31.868131868131865,
          32.09947946790052,
          42.65471370734529,
          36.957779063042224,
          54.01966454598034,
          77.84846732215154,
          38.692886061307114,
          81.203007518797,
          0.7229612492770388,
          7.547715442452285,
          13.7941006362059,
          13.562753036437247,
          88.31694621168306,
          13.215731636784266,
          83.19838056680162,
          81.60786581839213,
          83.19838056680162,
          42.770387507229614,
          42.91497975708502,
          2.9207634470792367,
          98.84326200115675,
          11.798727588201272,
          39.64719491035281,
          81.08733371891267,
          58.791208791208796,
          21.370734528629264,
          56.362058993637945,
          18.796992481203006,
          72.35396182764605,
          39.41584731058415,
          6.564488143435512,
          87.85425101214574,
          6.70908039329092,
          31.231925968768078,
          18.594563331405435,
          12.724117987275882,
          35.59861191440139,
          43.522267206477736,
          16.483516483516482,
          76.57605552342395,
          40.13880855986119,
          81.40543666859456,
          4.048582995951417,
          64.02544823597455,
          22.990167727009833,
          15.644881434355117,
          50.260266049739734,
          14.430306535569692,
          61.53846153846154,
          7.316367842683633,
          23.684210526315788,
          57.31636784268363,
          7.142857142857142,
          86.75534991324466,
          29.583574320416428,
          11.798727588201272,
          14.430306535569692,
          69.34644303065356,
          96.58762290341237,
          48.78542510121457,
          15.29786003470214,
          22.990167727009833,
          10.179294389820706,
          68.42105263157895,
          45.286292654713705,
          97.74436090225564,
          95.37304800462695,
          63.10005783689995,
          71.60208212839791,
          2.0821283979178715,
          6.91150954308849,
          18.594563331405435,
          88.37478311162522,
          89.38692886061307,
          44.12955465587044,
          13.04222093695778,
          13.04222093695778,
          0.23134759976865238,
          20.242914979757085,
          10.526315789473683,
          36.2058993637941,
          2.6894158473105843,
          12.261422787738576,
          14.893001735106997,
          50.52053209947947,
          27.00983227299017,
          92.24985540775015,
          30.16194331983806,
          26.229034123770965,
          96.00925390399074,
          8.097165991902834,
          89.70503181029497,
          68.56564488143435,
          92.71255060728745,
          38.0855986119144,
          8.415268941584731,
          34.441873915558126,
          56.21746674378253,
          3.9618276460381727,
          3.9618276460381727,
          27.5882012724118,
          28.91844997108155,
          38.37478311162521,
          49.2192018507808,
          19.838056680161944,
          35.106998264893,
          33.689994216310005,
          45.80682475419317,
          46.67437825332562,
          65.73163678426836,
          1.9664545980335453,
          59.83227299016772,
          18.594563331405435,
          15.008675534991326,
          30.624638519375363,
          54.68478889531521,
          74.08906882591093,
          98.40948525159051,
          98.40948525159051,
          60.58415268941585,
          99.07460960092538,
          22.75882012724118,
          42.27877385772123,
          92.13418160786581,
          48.525159051474844,
          100,
          28.224407171775596,
          75.41931752458069,
          69.14401388085598,
          52.862926547137064,
          7.547715442452285,
          7.547715442452285,
          27.154424522845577,
          54.51127819548872,
          66.85945633314054,
          41.35338345864661,
          99.19028340080972,
          0.8097165991902834,
          1.0121457489878543,
          61.59629843840371,
          27.99305957200694,
          31.550028918449975,
          17.14864083285136,
          50.17351069982649,
          88.98207056101793,
          51.73510699826489,
          89.15558126084441,
          20.30075187969925,
          62.92654713707345,
          98.09138230190861,
          66.85945633314054,
          59.97686524002314,
          17.813765182186234,
          73.56853672643146,
          9.51417004048583,
          5.436668594563331,
          12.261422787738576,
          9.051474840948526,
          33.51648351648351,
          4.193175245806825,
          26.229034123770965,
          6.362058993637941,
          94.5054945054945,
          14.430306535569692,
          33.689994216310005,
          9.976865240023134,
          16.136495083863505,
          24.175824175824175,
          17.813765182186234,
          13.389242336610756,
          78.10873337189128,
          3.3834586466165413,
          17.813765182186234,
          27.99305957200694,
          62.57952573742047,
          22.32504337767496,
          19.230769230769234,
          28.91844997108155,
          9.167148640832853,
          77.53036437246963,
          54.8582995951417,
          97.88895315211104,
          58.67553499132446,
          3.701561596298438,
          33.89242336610758,
          49.2192018507808,
          56.2753036437247,
          88.14343551185657,
          76.40254482359745,
          53.67264314632736,
          28.224407171775596,
          19.838056680161944,
          77.53036437246963,
          78.10873337189128,
          36.49508386350492,
          36.72643146327357,
          51.417004048582996,
          53.87507229612493,
          48.69866975130133,
          24.522845575477152,
          22.32504337767496,
          77.61711972238288,
          21.226142278773857,
          17.14864083285136,
          63.3314054366686,
          65.81839213418161,
          11.56737998843262,
          65.90514748409485,
          20.069404279930595,
          21.370734528629264,
          88.0855986119144,
          0.2891844997108155,
          4.366685945633314,
          39.010989010989015,
          6.0728744939271255,
          33.371891266628104,
          76.22903412377097,
          99.24812030075188,
          32.99595141700405,
          66.4545980335454,
          18.363215731636785,
          22.18045112781955,
          33.89242336610758,
          7.142857142857142,
          17.14864083285136,
          7.547715442452285,
          90.9196067090804,
          14.430306535569692,
          89.30017351069984,
          40.13880855986119,
          36.957779063042224,
          46.67437825332562,
          32.09947946790052,
          38.83747831116252,
          44.93927125506073,
          2.197802197802198,
          26.113360323886642,
          77.38577212261423,
          34.09485251590515,
          6.564488143435512,
          84.84673221515327,
          37.65182186234818,
          94.07171775592829,
          40.746096009253904,
          31.868131868131865,
          13.04222093695778,
          18.13186813186813,
          41.26662810873337,
          3.701561596298438,
          16.281087333718915,
          73.42394447657605,
          37.391555812608445,
          21.544245228455754,
          3.0364372469635628,
          32.50433776749566,
          52.689415847310585,
          50.02891844997108,
          66.19433198380567,
          78.10873337189128,
          91.09311740890689,
          36.63967611336032,
          5.899363794100636,
          27.299016772700984,
          25.968768074031235,
          10.873337189126662,
          20.18507807981492,
          12.868710237131289,
          69.8958935801041,
          33.689994216310005,
          23.828802776171198,
          16.483516483516482,
          50.665124349334874,
          5.118565644881434,
          21.775592828224408,
          52.45806824754193,
          34.75997686524002,
          83.05378831694621,
          19.230769230769234,
          5.118565644881434,
          34.75997686524002,
          96.8768074031232,
          5.118565644881434,
          40.97744360902256,
          29.786003470213995,
          39.56043956043956,
          48.35164835164835,
          57.692307692307686,
          7.547715442452285,
          79.4679005205321,
          25.15905147484095,
          36.63967611336032,
          79.58357432041643,
          79.75708502024291,
          53.78831694621168,
          9.167148640832853,
          51.012145748987855,
          6.1885482938114516,
          63.82301908617698,
          61.74089068825911,
          54.16425679583574,
          4.887218045112782,
          27.5882012724118,
          58.06824754193175,
          49.50838635049161,
          22.75882012724118,
          59.34065934065934,
          58.906882591093115,
          25.15905147484095,
          29.034123770965873,
          49.62406015037594,
          54.16425679583574,
          77.24117987275882,
          94.44765760555234,
          12.550607287449392,
          18.363215731636785,
          78.28224407171776,
          17.437825332562173,
          93.81145170618855,
          55.75477154424523,
          37.65182186234818,
          25.15905147484095,
          39.791787160208216,
          60.32388663967612,
          41.75824175824176,
          57.02718334297282,
          27.06766917293233,
          49.392712550607285,
          47.368421052631575,
          41.75824175824176,
          42.394447657605554,
          0.11567379988432619,
          0.8675534991324465,
          74.43609022556392,
          12.406015037593985,
          53.67264314632736,
          4.8004626951995375,
          1.5037593984962405,
          1.4459224985540775,
          24.667437825332563,
          30.16194331983806,
          89.6471949103528,
          46.15384615384615,
          49.2192018507808,
          18.796992481203006,
          8.675534991324465,
          9.31174089068826,
          32.7646038172354,
          8.675534991324465,
          80.59572006940428,
          79.98843262001157,
          12.406015037593985,
          26.113360323886642,
          19.838056680161944,
          18.363215731636785,
          41.26662810873337,
          97.3395026026605,
          76.14227877385773,
          54.337767495662234,
          11.01792943898207,
          39.21341816078658,
          76.14227877385773,
          81.83921341816078,
          67.52458068247542,
          20.87912087912088,
          70.18507807981493,
          20.416425679583575,
          35.309427414690575,
          35.59861191440139,
          31.868131868131865,
          0.1735106998264893,
          11.798727588201272,
          71.7755928282244,
          52.0242914979757,
          71.83342972816658,
          51.417004048582996,
          99.88432620011567,
          30.39329091960671,
          10.699826489300174,
          66.68594563331406,
          20.416425679583575,
          11.01792943898207,
          17.582417582417584,
          7.547715442452285,
          75.21688837478311,
          93.11740890688259,
          0.9253903990746095,
          63.90977443609023,
          17.582417582417584,
          22.58530942741469,
          7.142857142857142,
          59.02255639097744,
          9.51417004048583,
          40.54366685945634,
          1.3302486986697513,
          99.42163100057837,
          40.746096009253904,
          33.51648351648351,
          8.097165991902834,
          58.473105841526895,
          93.75361480624639,
          21.544245228455754,
          5.436668594563331,
          43.75361480624638,
          45.11278195488722,
          1.1856564488143435,
          25.853094274146905,
          9.51417004048583,
          9.861191440138809,
          29.9305957200694,
          84.73105841526895,
          83.28513591671486,
          10.09253903990746,
          32.50433776749566,
          3.701561596298438,
          72.23828802776171,
          81.52111046847888,
          57.31636784268363,
          3.701561596298438,
          70.76344707923656,
          21.775592828224408,
          65.61596298438404,
          65.61596298438404,
          64.60381723539619,
          1.8218623481781375,
          42.4812030075188,
          73.07692307692307,
          26.749566223250433,
          5.899363794100636,
          87.50722961249276,
          37.24696356275304,
          23.423944476576057,
          41.17987275882013,
          87.27588201272411,
          36.061307113938696,
          73.25043377674957,
          67.43782533256217,
          28.57142857142857,
          28.426836321573163,
          62.86871023713129,
          85.51185656448814,
          8.877964141122035,
          27.99305957200694,
          11.01792943898207,
          54.8582995951417,
          54.01966454598034,
          90.16772700983228,
          53.67264314632736,
          92.04742625795257,
          30.16194331983806,
          95.17061885482939,
          76.40254482359745,
          56.853672643146325,
          30.480046269519956,
          70.47426257952574,
          34.61538461538461,
          67.32215153267785,
          65.90514748409485,
          19.63562753036437,
          33.08270676691729,
          63.59167148640833,
          19.230769230769234,
          56.15962984384038,
          76.40254482359745,
          64.02544823597455,
          88.5482938114517,
          42.4812030075188,
          49.710815500289186,
          26.749566223250433,
          84.12377096587623,
          50.83863504916136,
          44.38982070561018,
          87.39155581260844,
          13.302486986697511,
          51.59051474840949,
          50.02891844997108,
          12.261422787738576,
          52.5159051474841,
          27.5882012724118,
          79.90167727009833,
          13.96761133603239,
          59.687680740312324,
          66.02082128397917,
          94.73684210526315,
          51.15673799884326,
          99.13244650086756,
          77.24117987275882,
          8.415268941584731,
          56.737998843262005,
          23.568536726431464,
          45.95141700404859,
          3.701561596298438,
          45.720069404279926,
          47.310584152689415,
          10.699826489300174,
          0.4048582995951417,
          11.914401388085599,
          15.50028918449971,
          87.96992481203007,
          4.540196645459804,
          23.221515326778487,
          39.9652978600347,
          37.391555812608445,
          28.802776171197227,
          8.415268941584731,
          4.540196645459804,
          79.20763447079237,
          1.9086176980913823,
          82.41758241758241,
          16.483516483516482,
          55.610179294389816,
          5.668016194331984,
          45.95141700404859,
          83.42972816657027,
          64.60381723539619,
          48.35164835164835,
          32.62001156737998,
          61.07576633892423,
          66.85945633314054,
          36.49508386350492,
          85.8877964141122,
          40.65934065934066,
          40.54366685945634,
          77.84846732215154,
          54.424522845575474,
          42.07634470792366,
          54.51127819548872,
          92.42336610757663,
          34.441873915558126,
          4.540196645459804,
          36.49508386350492,
          43.984962406015036,
          4.1064198958935805,
          50.607287449392715,
          35.91671486408329,
          86.17698091382302,
          0.46269519953730476,
          0.6362058993637941,
          1.1856564488143435,
          50.02891844997108,
          22.03585887796414,
          29.410063620589938,
          10.352805089647195,
          17.437825332562173,
          15.818392134181607,
          23.828802776171198,
          20.5320994794679,
          11.56737998843262,
          18.970503181029496,
          33.689994216310005,
          26.576055523423946,
          50.89647194910353,
          65.15326778484673,
          44.93927125506073,
          4.713707345286293,
          0.7229612492770388,
          68.82591093117408,
          69.14401388085598,
          64.34355118565645,
          12.868710237131289,
          29.69924812030075,
          80.97165991902834,
          39.9652978600347,
          33.2272990167727,
          83.74783111625217,
          78.71602082128398,
          22.469635627530366,
          31.376518218623485,
          24.522845575477152,
          97.16599190283401,
          38.0855986119144,
          16.657027183342972,
          45.86466165413533,
          5.436668594563331,
          27.5882012724118,
          71.22614227877386,
          71.08155002891846,
          37.24696356275304,
          25.679583574320414,
          68.42105263157895,
          68.42105263157895,
          30.306535569693466,
          36.957779063042224,
          29.69924812030075,
          35.685367264314635,
          2.0242914979757085,
          49.710815500289186,
          43.522267206477736,
          22.990167727009833,
          43.522267206477736,
          51.73510699826489,
          8.415268941584731,
          77.96414112203585,
          84.90456911509543,
          84.58646616541353,
          1.6194331983805668,
          44.38982070561018,
          2.6026604973973395,
          59.687680740312324,
          43.03065355696935,
          79.35222672064778,
          56.62232504337767,
          46.67437825332562,
          28.426836321573163,
          70.47426257952574,
          69.69346443030653,
          46.67437825332562,
          44.67900520532099,
          76.98091382301908,
          86.75534991324466,
          29.410063620589938,
          71.92018507807981,
          37.94100636205899,
          84.23944476576055,
          86.92886061307114,
          42.91497975708502,
          47.25274725274725,
          40.86176980913823,
          22.990167727009833,
          2.9207634470792367,
          59.48525159051476,
          58.55986119144014,
          97.16599190283401,
          9.51417004048583,
          67.52458068247542,
          9.51417004048583,
          32.7646038172354,
          19.086176980913823,
          55.8126084441874,
          47.77327935222672,
          30.16194331983806,
          56.015037593984964,
          23.568536726431464,
          60.09253903990746,
          81.203007518797,
          15.50028918449971,
          96.81897050318103,
          76.66281087333718,
          32.301908617698096,
          21.775592828224408,
          21.08155002891845,
          56.853672643146325,
          94.679005205321,
          13.215731636784266,
          84.12377096587623,
          13.562753036437247,
          80.21978021978022,
          13.389242336610756,
          41.093117408906885,
          15.818392134181607,
          25.679583574320414,
          17.00404858299595,
          69.14401388085598,
          8.097165991902834,
          1.8218623481781375,
          49.85540775014459,
          49.85540775014459,
          1.098901098901099,
          34.991324465008674,
          71.37073452862927,
          93.00173510699827,
          91.17987275882012,
          18.13186813186813,
          14.430306535569692,
          48.35164835164835,
          75.41931752458069,
          14.430306535569692,
          48.09138230190862,
          80.85598611914402,
          25.506072874493928,
          68.27646038172354,
          48.09138230190862,
          45.34412955465587,
          48.525159051474844,
          26.026604973973395,
          57.02718334297282,
          72.93233082706767,
          77.70387507229613,
          57.692307692307686,
          3.701561596298438,
          73.25043377674957,
          73.5106998264893,
          43.66685945633314,
          69.34644303065356,
          24.291497975708502,
          68.04511278195488,
          61.48062463851937,
          21.920185078079815,
          39.791787160208216,
          10.352805089647195,
          12.724117987275882,
          4.887218045112782,
          82.93811451706189,
          9.976865240023134,
          5.436668594563331,
          87.91208791208791,
          10.352805089647195,
          37.65182186234818,
          29.410063620589938,
          11.249277038750723,
          4.366685945633314,
          76.86524002313476,
          34.26836321573163,
          21.544245228455754,
          61.364950838635046,
          7.9236552920763454,
          3.0364372469635628,
          97.68652400231348,
          16.020821283979178,
          23.828802776171198,
          25.15905147484095,
          4.193175245806825,
          40.54366685945634,
          29.9305957200694,
          78.10873337189128,
          27.790630422209368,
          54.68478889531521,
          88.89531521110469,
          14.430306535569692,
          81.40543666859456,
          21.544245228455754,
          6.1885482938114516,
          44.67900520532099,
          3.3834586466165413,
          67.84268363215732,
          98.00462695199538,
          13.562753036437247,
          47.77327935222672,
          44.27414690572585,
          61.220358588779646,
          51.012145748987855,
          44.93927125506073,
          47.16599190283401,
          51.27241179872759,
          69.46211683053788,
          19.40427993059572,
          70.0694042799306,
          12.001156737998842,
          71.02371312897628,
          12.001156737998842,
          61.74089068825911,
          33.42972816657027,
          9.253903990746096,
          16.917293233082706,
          68.82591093117408,
          15.12434933487565,
          5.118565644881434,
          78.94736842105263,
          42.65471370734529,
          24.78311162521689,
          9.861191440138809,
          20.069404279930595,
          1.6194331983805668,
          43.175245806824755,
          40.2834008097166,
          39.21341816078658,
          3.3834586466165413,
          1.2724117987275883,
          35.22267206477733,
          54.337767495662234,
          20.87912087912088,
          50.43377674956623,
          14.430306535569692,
          71.3128976286871,
          54.68478889531521,
          79.0052053209948,
          3.1810294968189705,
          52.342394447657604,
          31.550028918449975,
          49.85540775014459,
          47.51301330248699,
          56.62232504337767,
          70.18507807981493,
          10.352805089647195,
          36.81318681318682,
          1.0121457489878543,
          90.22556390977444,
          25.448235974551764,
          34.441873915558126,
          30.971659919028337,
          10.699826489300174,
          6.7669172932330826,
          67.00404858299595,
          26.576055523423946,
          20.676691729323306,
          38.606130711393874,
          51.8796992481203,
          66.33892423366107,
          86.40832851359167,
          73.25043377674957,
          32.301908617698096,
          37.94100636205899,
          65.15326778484673,
          32.301908617698096,
          18.594563331405435,
          16.7727009832273,
          25.910931174089068,
          24.667437825332563,
          26.460381723539616,
          45.48872180451128,
          33.2272990167727,
          93.52226720647774,
          91.44013880855985,
          31.694621168305382,
          93.46443030653558,
          11.249277038750723,
          57.02718334297282,
          35.4251012145749,
          72.29612492770387,
          4.713707345286293,
          77.44360902255639,
          77.15442452284557,
          76.98091382301908,
          52.0242914979757,
          76.77848467322151,
          39.21341816078658,
          76.28687102371313,
          39.010989010989015,
          2.834008097165992,
          36.32157316367843,
          38.83747831116252,
          27.299016772700984,
          76.05552342394446,
          39.5026026604974,
          1.6194331983805668,
          27.299016772700984,
          83.74783111625217,
          44.27414690572585,
          95.31521110468479,
          16.136495083863505,
          16.136495083863505,
          26.373626373626376,
          2.139965297860035,
          71.65991902834008,
          27.99305957200694,
          36.32157316367843,
          75.01445922498554,
          23.221515326778487,
          96.64545980335454,
          31.289762868710234,
          62.637362637362635,
          10.352805089647195,
          19.230769230769234,
          63.59167148640833,
          51.73510699826489,
          51.27241179872759,
          52.862926547137064,
          61.74089068825911,
          30.971659919028337,
          68.82591093117408,
          53.87507229612493,
          33.89242336610758,
          79.29438982070562,
          29.26547137073453,
          21.978021978021978,
          74.55176402544824,
          98.95893580104106,
          54.25101214574899,
          87.6229034123771,
          38.172353961827646,
          65.41353383458647,
          37.796414112203585,
          55.610179294389816,
          71.54424522845575,
          99.76865240023135,
          71.45748987854252,
          17.35106998264893,
          80.74031231925969,
          90.7460960092539,
          90.83285135916714,
          6.362058993637941,
          17.813765182186234,
          82.82244071717756,
          24.927703875072297,
          48.930017351069985,
          6.91150954308849,
          57.60555234239445,
          82.70676691729322,
          88.98207056101793,
          86.46616541353383,
          58.126084441873914,
          31.376518218623485,
          54.01966454598034,
          32.909196067090804,
          58.55986119144014,
          57.89473684210527,
          8.877964141122035,
          98.61191440138809,
          82.35974551764026,
          52.342394447657604,
          52.342394447657604,
          44.505494505494504,
          38.606130711393874,
          91.29554655870446,
          86.524002313476,
          5.668016194331984,
          66.10757663389244,
          42.07634470792366,
          18.363215731636785,
          65.06651243493349,
          63.82301908617698,
          83.95026026604974,
          31.058415268941587,
          20.069404279930595,
          95.48872180451127,
          82.01272411798728,
          18.796992481203006,
          25.679583574320414,
          85.04916136495085,
          85.04916136495085,
          85.7432041642568,
          75.79525737420474,
          87.68074031231926,
          12.11683053788317,
          72.00694042799306,
          90.54366685945632,
          8.097165991902834,
          70.93695777906304,
          11.683053788316947,
          68.94158473105841,
          90.54366685945632,
          91.844997108155,
          92.33661075766338,
          67.0908039329092,
          17.813765182186234,
          93.5801041064199,
          93.63794100636206,
          63.18681318681318,
          60.150375939849624,
          88.25910931174089,
          32.301908617698096,
          66.19433198380567,
          36.32157316367843,
          33.2272990167727,
          39.64719491035281,
          28.426836321573163,
          41.41122035858878,
          13.96761133603239,
          89.90746096009255,
          12.11683053788317,
          38.230190861769806,
          85.04916136495085,
          84.67322151532677,
          62.40601503759399,
          14.430306535569692,
          58.906882591093115,
          80.50896471949103,
          15.29786003470214,
          77.09658762290341,
          76.51821862348179,
          44.59224985540775,
          60.4973973395026,
          69.14401388085598,
          23.684210526315788,
          64.95083863504915,
          64.4303065355697,
          61.943319838056674,
          62.984384037015616,
          90.97744360902256,
          91.03528050896472,
          62.20358588779641,
          93.05957200694043,
          34.09485251590515,
          56.015037593984964,
          48.930017351069985,
          21.775592828224408,
          68.04511278195488,
          81.89705031810294,
          81.31868131868131,
          34.09485251590515,
          22.093695777906305,
          79.81492192018507,
          79.20763447079237,
          79.09196067090804,
          59.282822440717176,
          44.93927125506073,
          60.38172353961828,
          44.505494505494504,
          74.2914979757085,
          74.2914979757085,
          75.88201272411798,
          96.18276460381723,
          43.175245806824755,
          79.09196067090804,
          7.750144592249855,
          48.930017351069985,
          66.74378253325621,
          35.106998264893,
          50.72296124927704,
          56.853672643146325,
          90.02313475997687,
          53.35454019664546,
          64.02544823597455,
          34.61538461538461,
          64.19895893580104,
          38.37478311162521,
          18.13186813186813,
          97.39733950260266,
          20.416425679583575,
          53.09427414690573,
          7.8368999421631,
          7.8368999421631,
          24.927703875072297,
          31.145170618854827,
          97.8021978021978,
          61.943319838056674,
          45.720069404279926,
          71.92018507807981,
          34.09485251590515,
          65.73163678426836,
          51.012145748987855,
          70.3875072296125,
          46.15384615384615,
          65.50028918449972,
          72.12261422787739,
          31.463273568536724,
          47.42625795257374,
          7.316367842683633,
          27.99305957200694,
          89.15558126084441,
          34.26836321573163,
          38.37478311162521,
          39.21341816078658,
          12.724117987275882,
          94.85251590514748,
          94.96818970503182,
          40.2834008097166,
          82.07056101792945,
          13.7941006362059,
          80.85598611914402,
          80.85598611914402,
          8.415268941584731,
          95.89358010410642,
          96.06709080393291,
          15.29786003470214,
          52.60266049739734,
          95.57547715442453,
          99.5373048004627,
          90.37015615962984,
          93.98496240601504,
          37.13128976286871,
          37.94100636205899,
          87.56506651243492,
          97.28166570271833,
          26.89415847310584,
          42.27877385772123,
          85.65644881434355,
          96.35627530364373,
          35.91671486408329,
          14.893001735106997,
          43.175245806824755,
          82.21515326778484,
          48.23597455176403,
          14.430306535569692,
          0.5205320994794679,
          6.91150954308849,
          42.56795835743204,
          7.142857142857142,
          55.40775014459225,
          55.40775014459225,
          22.469635627530366,
          55.40775014459225,
          96.76113360323887,
          70.64777327935222,
          14.430306535569692,
          49.045691150954305,
          89.79178716020822,
          9.745517640254482,
          36.81318681318682,
          85.82995951417004,
          41.75824175824176,
          39.21341816078658,
          53.23886639676113,
          16.7727009832273,
          82.5910931174089,
          19.838056680161944,
          28.658183921341816,
          8.675534991324465,
          59.48525159051476,
          98.00462695199538,
          32.50433776749566,
          46.15384615384615,
          83.74783111625217,
          28.658183921341816,
          47.77327935222672,
          75.59282822440717,
          13.562753036437247,
          25.390399074609597,
          70.64777327935222,
          91.17987275882012,
          91.61364950838635,
          97.05031810294969,
          85.39618276460381,
          17.293233082706767,
          57.46096009253904,
          2.776171197223829,
          87.07345286292654,
          24.378253325621746,
          59.167148640832856,
          51.417004048582996,
          59.687680740312324,
          83.42972816657027,
          67.26431463273569,
          47.51301330248699,
          47.07923655292076,
          25.332562174667437,
          39.41584731058415,
          39.791787160208216,
          83.05378831694621,
          53.09427414690573,
          62.31925968768074,
          50.17351069982649,
          70.93695777906304,
          52.0242914979757,
          26.460381723539616,
          8.415268941584731,
          46.67437825332562,
          22.58530942741469,
          42.91497975708502,
          18.970503181029496,
          41.093117408906885,
          62.81087333718912,
          22.990167727009833,
          41.61364950838635,
          35.309427414690575,
          88.49045691150954,
          13.707345286292655,
          36.061307113938696,
          74.08906882591093,
          46.67437825332562,
          1.3880855986119145,
          58.18392134181608,
          57.80798149219202,
          16.917293233082706,
          27.41469057258531,
          67.72700983227298,
          94.21631000578368,
          71.13938692886062,
          40.13880855986119,
          80.36437246963563,
          70.8502024291498,
          29.1497975708502,
          98.72758820127241,
          70.56101792943899,
          88.60613071139387,
          38.83747831116252,
          64.60381723539619,
          86.26373626373626,
          53.35454019664546,
          85.7432041642568,
          29.9305957200694,
          59.97686524002314,
          58.2995951417004,
          26.89415847310584,
          69.54887218045113,
          81.52111046847888,
          21.226142278773857,
          69.8958935801041,
          73.42394447657605,
          95.83574320416426,
          60.902255639097746,
          72.4117987275882,
          27.790630422209368,
          41.61364950838635,
          46.99248120300752,
          60.78658183921342,
          58.67553499132446,
          11.01792943898207,
          26.66281087333719,
          52.226720647773284,
          63.70734528629265,
          30.82706766917293,
          91.55581260844419,
          83.74783111625217,
          1.735106998264893,
          78.28224407171776,
          62.72411798727588,
          29.583574320416428,
          39.9652978600347,
          19.838056680161944,
          74.9277038750723,
          60.902255639097746,
          15.962984384037016,
          93.4065934065934,
          5.118565644881434,
          34.90456911509543,
          75.30364372469636,
          91.44013880855985,
          15.644881434355117,
          11.39386928860613,
          64.2567958357432,
          37.24696356275304,
          88.77964141122035,
          48.09138230190862,
          61.07576633892423,
          56.015037593984964,
          95.08386350491614,
          65.29786003470214,
          95.43088490456911,
          48.09138230190862,
          24.522845575477152,
          99.47946790052053,
          75.0722961249277,
          27.154424522845577,
          84.03701561596299,
          40.39907460960093,
          59.02255639097744,
          61.07576633892423,
          20.994794679005206,
          78.77385772122614,
          97.45517640254482,
          98.17813765182186,
          98.17813765182186,
          60.58415268941585,
          16.483516483516482,
          93.29091960670908,
          15.50028918449971,
          78.368999421631,
          72.06477732793523,
          83.74783111625217,
          4.540196645459804,
          61.220358588779646,
          48.640832851359164,
          66.54135338345864,
          22.18045112781955,
          95.25737420474263,
          88.20127241179873,
          94.62116830537883,
          96.12492770387507,
          51.53267784846732,
          60.902255639097746,
          94.56333140543667,
          46.15384615384615,
          62.20358588779641,
          10.699826489300174,
          58.2995951417004,
          6.477732793522267,
          25.679583574320414,
          43.34875650665124,
          55.87044534412956,
          55.08964719491035,
          18.13186813186813,
          92.77038750722961,
          92.65471370734528,
          24.175824175824175,
          51.15673799884326,
          35.4251012145749,
          89.90746096009255,
          87.4493927125506,
          27.5882012724118,
          80.59572006940428,
          85.04916136495085,
          82.82244071717756,
          79.58357432041643,
          2.3423944476576053,
          59.48525159051476,
          2.3423944476576053,
          72.7299016772701,
          72.7299016772701,
          28.74493927125506,
          75.13013302486988,
          8.877964141122035,
          84.58646616541353,
          57.952573742047434,
          42.07634470792366,
          52.862926547137064,
          92.88606130711395,
          81.75245806824755,
          58.2995951417004,
          15.818392134181607,
          55.23423944476576,
          40.86176980913823,
          93.69577790630423,
          28.91844997108155,
          57.80798149219202,
          3.1231925968768075,
          15.12434933487565,
          59.83227299016772,
          31.145170618854827,
          28.426836321573163,
          83.42972816657027,
          93.34875650665124,
          24.03123192596877,
          63.27356853672643,
          5.118565644881434,
          47.91787160208213,
          46.905725853094275,
          46.38519375361481,
          48.78542510121457,
          3.701561596298438,
          50.780798149219194,
          24.175824175824175,
          98.52515905147484,
          99.59514170040485,
          45.48872180451128,
          98.52515905147484,
          45.48872180451128,
          14.806246385193752,
          22.672064777327936,
          61.74089068825911,
          94.38982070561018,
          11.39386928860613,
          73.07692307692307,
          10.09253903990746,
          77.84846732215154,
          0.3470213996529786,
          57.31636784268363,
          12.550607287449392,
          65.50028918449972,
          79.90167727009833,
          86.26373626373626,
          96.47194910352806,
          49.2192018507808,
          83.05378831694621,
          65.29786003470214,
          72.52747252747253,
          78.88953152111047,
          53.499132446500866,
          76.98091382301908,
          21.226142278773857,
          30.82706766917293,
          3.2388663967611335,
          53.499132446500866,
          97.59976865240023,
          80.68247541931753,
          8.877964141122035,
          68.16078658183922,
          56.477732793522264,
          72.52747252747253,
          68.16078658183922,
          9.51417004048583,
          32.7646038172354,
          32.7646038172354,
          92.33661075766338,
          62.116830537883175,
          31.983805668016196,
          15.818392134181607,
          80.1041064198959,
          92.53903990746096,
          71.71775592828224,
          75.7085020242915,
          25.15905147484095,
          16.483516483516482,
          53.23886639676113,
          54.94505494505495,
          62.31925968768074,
          20.87912087912088,
          45.199537304800465,
          24.03123192596877,
          56.62232504337767,
          37.796414112203585,
          74.78311162521689,
          89.38692886061307,
          76.77848467322151,
          42.770387507229614,
          66.33892423366107,
          62.492770387507235,
          20.676691729323306,
          17.582417582417584,
          67.37998843262001,
          95.57547715442453,
          6.91150954308849,
          92.9438982070561,
          62.492770387507235,
          82.50433776749566,
          96.7032967032967,
          78.65818392134182,
          40.39907460960093,
          90.65934065934066,
          57.200694042799306,
          93.92712550607287,
          47.657605552342396,
          92.59687680740313,
          35.51185656448814,
          99.3637941006362,
          82.50433776749566,
          20.676691729323306,
          43.522267206477736,
          67.95835743204164,
          79.58357432041643,
          84.23944476576055,
          10.699826489300174,
          54.68478889531521,
          83.42972816657027,
          70.30075187969925,
          61.943319838056674,
          99.94216310005784,
          85.94563331405438,
          49.45054945054945,
          5.668016194331984,
          86.61075766338924,
          59.48525159051476,
          89.56043956043956,
          87.16020821283979,
          89.56043956043956,
          43.34875650665124,
          64.893001735107,
          12.550607287449392,
          72.7299016772701,
          92.19201850780799,
          87.73857721226143,
          46.99248120300752,
          13.04222093695778,
          87.33371891266628,
          87.07345286292654,
          6.651243493348756,
          56.015037593984964,
          85.39618276460381,
          38.51937536148063,
          67.72700983227298,
          60.208212839791784,
          45.633314054366686,
          52.60266049739734,
          60.699826489300165,
          98.78542510121457,
          80.36437246963563,
          70.30075187969925,
          44.76576055523424,
          78.42683632157316,
          69.69346443030653,
          58.41526894158473,
          57.46096009253904,
          99.82648930017352,
          75.79525737420474,
          55.523423944476576,
          96.2406015037594,
          67.00404858299595,
          74.72527472527473,
          5.436668594563331,
          82.21515326778484,
          52.74725274725275,
          91.67148640832852,
          66.62810873337189,
          73.79988432620011,
          11.39386928860613,
          90.2834008097166,
          73.9733950260266,
          97.51301330248698,
          46.15384615384615,
          5.899363794100636,
          82.64893001735108,
          64.80624638519376,
          74.2914979757085,
          88.83747831116253,
          15.008675534991326,
          64.34355118565645,
          33.2272990167727,
          63.18681318681318,
          91.29554655870446,
          36.148062463851936,
          45.48872180451128,
          2.5448235974551765,
          62.72411798727588,
          70.0694042799306,
          99.30595720069404,
          28.224407171775596,
          52.9786003470214,
          47.91787160208213,
          35.106998264893,
          67.90052053209948,
          69.54887218045113,
          23.423944476576057,
          84.4707923655292,
          69.8958935801041,
          90.37015615962984,
          90.45691150954309,
          79.69924812030075,
          41.469057258530945,
          23.423944476576057,
          47.16599190283401,
          96.93464430306535,
          32.99595141700405,
          86.11914401388086,
          67.20647773279353,
          9.051474840948526,
          4.27993059572007,
          94.15847310584152,
          66.54135338345864,
          19.40427993059572,
          53.09427414690573,
          80.36437246963563,
          34.75997686524002,
          58.791208791208796,
          98.32272990167728,
          99.01677270098322,
          44.93927125506073,
          83.95026026604974,
          55.08964719491035,
          19.548872180451127,
          43.75361480624638,
          97.16599190283401,
          22.990167727009833,
          24.378253325621746,
          46.38519375361481,
          31.694621168305382,
          85.25159051474841,
          63.447079236552916,
          46.38519375361481,
          95.72006940427993,
          66.33892423366107,
          96.41411220358589,
          23.944476576055525,
          68.56564488143435,
          63.447079236552916,
          86.61075766338924,
          69.34644303065356,
          82.82244071717756,
          64.80624638519376,
          98.9010989010989,
          35.772122614227875,
          82.30190861769809,
          91.44013880855985,
          68.27646038172354,
          41.526894158473105,
          42.07634470792366,
          0.578368999421631,
          61.364950838635046,
          87.21804511278195,
          44.18739155581261,
          94.91035280508964,
          75.41931752458069,
          24.927703875072297,
          46.67437825332562,
          2.2556390977443606,
          57.54771544245229,
          80.04626951995373,
          58.01041064198959,
          69.69346443030653,
          86.75534991324466,
          38.83747831116252,
          67.61133603238866,
          13.96761133603239,
          86.9866975130133,
          88.43262001156738,
          30.624638519375363,
          93.86928860613071,
          41.93175245806825,
          64.60381723539619,
          93.23308270676691,
          2.6894158473105843,
          50.34702139965298,
          13.96761133603239,
          77.32793522267207,
          50.34702139965298,
          74.49392712550608,
          43.984962406015036,
          26.31578947368421,
          17.14864083285136,
          41.873915558126086,
          3.3834586466165413,
          6.362058993637941,
          9.745517640254482,
          74.9277038750723,
          79.41006362058994,
          59.97686524002314,
          91.72932330827066,
          43.175245806824755,
          75.21688837478311,
          90.83285135916714,
          2.4580682475419318,
          84.3262001156738,
          84.78889531521111,
          86.35049161364951,
          2.4580682475419318,
          37.07345286292655,
          65.29786003470214,
          90.10989010989012,
          73.65529207634471,
          56.362058993637945,
          49.2192018507808,
          99.6818970503181,
          72.7299016772701,
          94.07171775592829,
          98.2648930017351,
          73.65529207634471,
          94.33198380566802,
          91.78716020821284,
          99.6818970503181,
          59.167148640832856,
          81.75245806824755,
          90.02313475997687,
          67.14864083285136,
          95.95141700404858,
          50.52053209947947,
          19.63562753036437,
          74.2914979757085,
          97.88895315211104,
          16.281087333718915,
          95.02602660497398,
          55.69693464430306,
          29.410063620589938,
          74.84094852515906,
          40.97744360902256,
          55.23423944476576,
          56.477732793522264,
          94.79467900520532,
          55.0028918449971,
          81.0294968189705,
          63.447079236552916,
          63.70734528629265,
          18.970503181029496,
          11.16252168883748,
          75.53499132446501,
          87.79641411220359,
          66.02082128397917,
          81.95488721804512,
          73.91555812608445,
          25.679583574320414,
          93.17524580682476,
          78.60034702139966,
          52.16888374783112,
          30.82706766917293,
          20.676691729323306,
          85.59861191440139,
          8.097165991902834,
          45.199537304800465,
          34.441873915558126,
          68.68131868131869,
          92.04742625795257,
          64.60381723539619,
          68.68131868131869,
          95.72006940427993,
          86.00347021399652,
          94.27414690572586,
          89.47368421052632,
          98.66975130133025,
          71.45748987854252,
          69.8958935801041,
          6.1885482938114516,
          48.525159051474844,
          83.57432041642568,
          84.38403701561596,
          85.51185656448814,
          74.63851937536148,
          16.7727009832273,
          14.430306535569692,
          30.39329091960671,
          86.0613071139387,
          88.02776171197225,
          95.17061885482939,
          5.899363794100636,
          60.26604973973395,
          90.65934065934066,
          70.76344707923656,
          29.1497975708502,
          22.32504337767496,
          53.499132446500866,
          51.73510699826489,
          85.30942741469057,
          92.82822440717177,
          42.27877385772123,
          77.70387507229613,
          35.772122614227875,
          73.79988432620011,
          43.984962406015036,
          43.984962406015036,
          63.04222093695778,
          68.99942163100057,
          89.06882591093117,
          85.19375361480624,
          82.1283979178716,
          80.16194331983806,
          67.72700983227298,
          34.90456911509543,
          92.4812030075188,
          21.08155002891845,
          30.624638519375363,
          59.167148640832856,
          95.72006940427993,
          86.87102371312898,
          32.09947946790052,
          35.91671486408329,
          47.59976865240023,
          38.37478311162521,
          78.51359167148641,
          29.9305957200694,
          61.364950838635046,
          84.4707923655292,
          5.899363794100636,
          72.18045112781954,
          81.203007518797,
          11.56737998843262,
          57.14285714285714,
          88.69288606130712,
          88.69288606130712,
          80.36437246963563,
          72.93233082706767,
          97.59976865240023,
          72.93233082706767,
          78.51359167148641,
          37.50722961249277,
          15.29786003470214,
          37.50722961249277,
          81.6657027183343,
          74.63851937536148,
          96.99248120300751,
          96.29843840370155,
          71.22614227877386,
          91.93175245806825,
          91.93175245806825,
          60.43956043956044,
          75.65066512434933,
          75.99768652400232,
          89.79178716020822,
          43.84037015615963,
          64.14112203585887,
          96.52978600347022,
          60.699826489300165,
          89.24233661075766,
          78.8316946211683,
          62.05899363794101
         ],
         "yaxis": "y"
        }
       ],
       "layout": {
        "legend": {
         "tracegroupgap": 0
        },
        "margin": {
         "t": 60
        },
        "template": {
         "data": {
          "bar": [
           {
            "error_x": {
             "color": "#f2f5fa"
            },
            "error_y": {
             "color": "#f2f5fa"
            },
            "marker": {
             "line": {
              "color": "rgb(17,17,17)",
              "width": 0.5
             },
             "pattern": {
              "fillmode": "overlay",
              "size": 10,
              "solidity": 0.2
             }
            },
            "type": "bar"
           }
          ],
          "barpolar": [
           {
            "marker": {
             "line": {
              "color": "rgb(17,17,17)",
              "width": 0.5
             },
             "pattern": {
              "fillmode": "overlay",
              "size": 10,
              "solidity": 0.2
             }
            },
            "type": "barpolar"
           }
          ],
          "carpet": [
           {
            "aaxis": {
             "endlinecolor": "#A2B1C6",
             "gridcolor": "#506784",
             "linecolor": "#506784",
             "minorgridcolor": "#506784",
             "startlinecolor": "#A2B1C6"
            },
            "baxis": {
             "endlinecolor": "#A2B1C6",
             "gridcolor": "#506784",
             "linecolor": "#506784",
             "minorgridcolor": "#506784",
             "startlinecolor": "#A2B1C6"
            },
            "type": "carpet"
           }
          ],
          "choropleth": [
           {
            "colorbar": {
             "outlinewidth": 0,
             "ticks": ""
            },
            "type": "choropleth"
           }
          ],
          "contour": [
           {
            "colorbar": {
             "outlinewidth": 0,
             "ticks": ""
            },
            "colorscale": [
             [
              0,
              "#0d0887"
             ],
             [
              0.1111111111111111,
              "#46039f"
             ],
             [
              0.2222222222222222,
              "#7201a8"
             ],
             [
              0.3333333333333333,
              "#9c179e"
             ],
             [
              0.4444444444444444,
              "#bd3786"
             ],
             [
              0.5555555555555556,
              "#d8576b"
             ],
             [
              0.6666666666666666,
              "#ed7953"
             ],
             [
              0.7777777777777778,
              "#fb9f3a"
             ],
             [
              0.8888888888888888,
              "#fdca26"
             ],
             [
              1,
              "#f0f921"
             ]
            ],
            "type": "contour"
           }
          ],
          "contourcarpet": [
           {
            "colorbar": {
             "outlinewidth": 0,
             "ticks": ""
            },
            "type": "contourcarpet"
           }
          ],
          "heatmap": [
           {
            "colorbar": {
             "outlinewidth": 0,
             "ticks": ""
            },
            "colorscale": [
             [
              0,
              "#0d0887"
             ],
             [
              0.1111111111111111,
              "#46039f"
             ],
             [
              0.2222222222222222,
              "#7201a8"
             ],
             [
              0.3333333333333333,
              "#9c179e"
             ],
             [
              0.4444444444444444,
              "#bd3786"
             ],
             [
              0.5555555555555556,
              "#d8576b"
             ],
             [
              0.6666666666666666,
              "#ed7953"
             ],
             [
              0.7777777777777778,
              "#fb9f3a"
             ],
             [
              0.8888888888888888,
              "#fdca26"
             ],
             [
              1,
              "#f0f921"
             ]
            ],
            "type": "heatmap"
           }
          ],
          "heatmapgl": [
           {
            "colorbar": {
             "outlinewidth": 0,
             "ticks": ""
            },
            "colorscale": [
             [
              0,
              "#0d0887"
             ],
             [
              0.1111111111111111,
              "#46039f"
             ],
             [
              0.2222222222222222,
              "#7201a8"
             ],
             [
              0.3333333333333333,
              "#9c179e"
             ],
             [
              0.4444444444444444,
              "#bd3786"
             ],
             [
              0.5555555555555556,
              "#d8576b"
             ],
             [
              0.6666666666666666,
              "#ed7953"
             ],
             [
              0.7777777777777778,
              "#fb9f3a"
             ],
             [
              0.8888888888888888,
              "#fdca26"
             ],
             [
              1,
              "#f0f921"
             ]
            ],
            "type": "heatmapgl"
           }
          ],
          "histogram": [
           {
            "marker": {
             "pattern": {
              "fillmode": "overlay",
              "size": 10,
              "solidity": 0.2
             }
            },
            "type": "histogram"
           }
          ],
          "histogram2d": [
           {
            "colorbar": {
             "outlinewidth": 0,
             "ticks": ""
            },
            "colorscale": [
             [
              0,
              "#0d0887"
             ],
             [
              0.1111111111111111,
              "#46039f"
             ],
             [
              0.2222222222222222,
              "#7201a8"
             ],
             [
              0.3333333333333333,
              "#9c179e"
             ],
             [
              0.4444444444444444,
              "#bd3786"
             ],
             [
              0.5555555555555556,
              "#d8576b"
             ],
             [
              0.6666666666666666,
              "#ed7953"
             ],
             [
              0.7777777777777778,
              "#fb9f3a"
             ],
             [
              0.8888888888888888,
              "#fdca26"
             ],
             [
              1,
              "#f0f921"
             ]
            ],
            "type": "histogram2d"
           }
          ],
          "histogram2dcontour": [
           {
            "colorbar": {
             "outlinewidth": 0,
             "ticks": ""
            },
            "colorscale": [
             [
              0,
              "#0d0887"
             ],
             [
              0.1111111111111111,
              "#46039f"
             ],
             [
              0.2222222222222222,
              "#7201a8"
             ],
             [
              0.3333333333333333,
              "#9c179e"
             ],
             [
              0.4444444444444444,
              "#bd3786"
             ],
             [
              0.5555555555555556,
              "#d8576b"
             ],
             [
              0.6666666666666666,
              "#ed7953"
             ],
             [
              0.7777777777777778,
              "#fb9f3a"
             ],
             [
              0.8888888888888888,
              "#fdca26"
             ],
             [
              1,
              "#f0f921"
             ]
            ],
            "type": "histogram2dcontour"
           }
          ],
          "mesh3d": [
           {
            "colorbar": {
             "outlinewidth": 0,
             "ticks": ""
            },
            "type": "mesh3d"
           }
          ],
          "parcoords": [
           {
            "line": {
             "colorbar": {
              "outlinewidth": 0,
              "ticks": ""
             }
            },
            "type": "parcoords"
           }
          ],
          "pie": [
           {
            "automargin": true,
            "type": "pie"
           }
          ],
          "scatter": [
           {
            "marker": {
             "line": {
              "color": "#283442"
             }
            },
            "type": "scatter"
           }
          ],
          "scatter3d": [
           {
            "line": {
             "colorbar": {
              "outlinewidth": 0,
              "ticks": ""
             }
            },
            "marker": {
             "colorbar": {
              "outlinewidth": 0,
              "ticks": ""
             }
            },
            "type": "scatter3d"
           }
          ],
          "scattercarpet": [
           {
            "marker": {
             "colorbar": {
              "outlinewidth": 0,
              "ticks": ""
             }
            },
            "type": "scattercarpet"
           }
          ],
          "scattergeo": [
           {
            "marker": {
             "colorbar": {
              "outlinewidth": 0,
              "ticks": ""
             }
            },
            "type": "scattergeo"
           }
          ],
          "scattergl": [
           {
            "marker": {
             "line": {
              "color": "#283442"
             }
            },
            "type": "scattergl"
           }
          ],
          "scattermapbox": [
           {
            "marker": {
             "colorbar": {
              "outlinewidth": 0,
              "ticks": ""
             }
            },
            "type": "scattermapbox"
           }
          ],
          "scatterpolar": [
           {
            "marker": {
             "colorbar": {
              "outlinewidth": 0,
              "ticks": ""
             }
            },
            "type": "scatterpolar"
           }
          ],
          "scatterpolargl": [
           {
            "marker": {
             "colorbar": {
              "outlinewidth": 0,
              "ticks": ""
             }
            },
            "type": "scatterpolargl"
           }
          ],
          "scatterternary": [
           {
            "marker": {
             "colorbar": {
              "outlinewidth": 0,
              "ticks": ""
             }
            },
            "type": "scatterternary"
           }
          ],
          "surface": [
           {
            "colorbar": {
             "outlinewidth": 0,
             "ticks": ""
            },
            "colorscale": [
             [
              0,
              "#0d0887"
             ],
             [
              0.1111111111111111,
              "#46039f"
             ],
             [
              0.2222222222222222,
              "#7201a8"
             ],
             [
              0.3333333333333333,
              "#9c179e"
             ],
             [
              0.4444444444444444,
              "#bd3786"
             ],
             [
              0.5555555555555556,
              "#d8576b"
             ],
             [
              0.6666666666666666,
              "#ed7953"
             ],
             [
              0.7777777777777778,
              "#fb9f3a"
             ],
             [
              0.8888888888888888,
              "#fdca26"
             ],
             [
              1,
              "#f0f921"
             ]
            ],
            "type": "surface"
           }
          ],
          "table": [
           {
            "cells": {
             "fill": {
              "color": "#506784"
             },
             "line": {
              "color": "rgb(17,17,17)"
             }
            },
            "header": {
             "fill": {
              "color": "#2a3f5f"
             },
             "line": {
              "color": "rgb(17,17,17)"
             }
            },
            "type": "table"
           }
          ]
         },
         "layout": {
          "annotationdefaults": {
           "arrowcolor": "#f2f5fa",
           "arrowhead": 0,
           "arrowwidth": 1
          },
          "autotypenumbers": "strict",
          "coloraxis": {
           "colorbar": {
            "outlinewidth": 0,
            "ticks": ""
           }
          },
          "colorscale": {
           "diverging": [
            [
             0,
             "#8e0152"
            ],
            [
             0.1,
             "#c51b7d"
            ],
            [
             0.2,
             "#de77ae"
            ],
            [
             0.3,
             "#f1b6da"
            ],
            [
             0.4,
             "#fde0ef"
            ],
            [
             0.5,
             "#f7f7f7"
            ],
            [
             0.6,
             "#e6f5d0"
            ],
            [
             0.7,
             "#b8e186"
            ],
            [
             0.8,
             "#7fbc41"
            ],
            [
             0.9,
             "#4d9221"
            ],
            [
             1,
             "#276419"
            ]
           ],
           "sequential": [
            [
             0,
             "#0d0887"
            ],
            [
             0.1111111111111111,
             "#46039f"
            ],
            [
             0.2222222222222222,
             "#7201a8"
            ],
            [
             0.3333333333333333,
             "#9c179e"
            ],
            [
             0.4444444444444444,
             "#bd3786"
            ],
            [
             0.5555555555555556,
             "#d8576b"
            ],
            [
             0.6666666666666666,
             "#ed7953"
            ],
            [
             0.7777777777777778,
             "#fb9f3a"
            ],
            [
             0.8888888888888888,
             "#fdca26"
            ],
            [
             1,
             "#f0f921"
            ]
           ],
           "sequentialminus": [
            [
             0,
             "#0d0887"
            ],
            [
             0.1111111111111111,
             "#46039f"
            ],
            [
             0.2222222222222222,
             "#7201a8"
            ],
            [
             0.3333333333333333,
             "#9c179e"
            ],
            [
             0.4444444444444444,
             "#bd3786"
            ],
            [
             0.5555555555555556,
             "#d8576b"
            ],
            [
             0.6666666666666666,
             "#ed7953"
            ],
            [
             0.7777777777777778,
             "#fb9f3a"
            ],
            [
             0.8888888888888888,
             "#fdca26"
            ],
            [
             1,
             "#f0f921"
            ]
           ]
          },
          "colorway": [
           "#636efa",
           "#EF553B",
           "#00cc96",
           "#ab63fa",
           "#FFA15A",
           "#19d3f3",
           "#FF6692",
           "#B6E880",
           "#FF97FF",
           "#FECB52"
          ],
          "font": {
           "color": "#f2f5fa"
          },
          "geo": {
           "bgcolor": "rgb(17,17,17)",
           "lakecolor": "rgb(17,17,17)",
           "landcolor": "rgb(17,17,17)",
           "showlakes": true,
           "showland": true,
           "subunitcolor": "#506784"
          },
          "hoverlabel": {
           "align": "left"
          },
          "hovermode": "closest",
          "mapbox": {
           "style": "dark"
          },
          "paper_bgcolor": "rgb(17,17,17)",
          "plot_bgcolor": "rgb(17,17,17)",
          "polar": {
           "angularaxis": {
            "gridcolor": "#506784",
            "linecolor": "#506784",
            "ticks": ""
           },
           "bgcolor": "rgb(17,17,17)",
           "radialaxis": {
            "gridcolor": "#506784",
            "linecolor": "#506784",
            "ticks": ""
           }
          },
          "scene": {
           "xaxis": {
            "backgroundcolor": "rgb(17,17,17)",
            "gridcolor": "#506784",
            "gridwidth": 2,
            "linecolor": "#506784",
            "showbackground": true,
            "ticks": "",
            "zerolinecolor": "#C8D4E3"
           },
           "yaxis": {
            "backgroundcolor": "rgb(17,17,17)",
            "gridcolor": "#506784",
            "gridwidth": 2,
            "linecolor": "#506784",
            "showbackground": true,
            "ticks": "",
            "zerolinecolor": "#C8D4E3"
           },
           "zaxis": {
            "backgroundcolor": "rgb(17,17,17)",
            "gridcolor": "#506784",
            "gridwidth": 2,
            "linecolor": "#506784",
            "showbackground": true,
            "ticks": "",
            "zerolinecolor": "#C8D4E3"
           }
          },
          "shapedefaults": {
           "line": {
            "color": "#f2f5fa"
           }
          },
          "sliderdefaults": {
           "bgcolor": "#C8D4E3",
           "bordercolor": "rgb(17,17,17)",
           "borderwidth": 1,
           "tickwidth": 0
          },
          "ternary": {
           "aaxis": {
            "gridcolor": "#506784",
            "linecolor": "#506784",
            "ticks": ""
           },
           "baxis": {
            "gridcolor": "#506784",
            "linecolor": "#506784",
            "ticks": ""
           },
           "bgcolor": "rgb(17,17,17)",
           "caxis": {
            "gridcolor": "#506784",
            "linecolor": "#506784",
            "ticks": ""
           }
          },
          "title": {
           "x": 0.05
          },
          "updatemenudefaults": {
           "bgcolor": "#506784",
           "borderwidth": 0
          },
          "xaxis": {
           "automargin": true,
           "gridcolor": "#283442",
           "linecolor": "#506784",
           "ticks": "",
           "title": {
            "standoff": 15
           },
           "zerolinecolor": "#283442",
           "zerolinewidth": 2
          },
          "yaxis": {
           "automargin": true,
           "gridcolor": "#283442",
           "linecolor": "#506784",
           "ticks": "",
           "title": {
            "standoff": 15
           },
           "zerolinecolor": "#283442",
           "zerolinewidth": 2
          }
         }
        },
        "title": {
         "text": "Popularity vs Chart Power"
        },
        "xaxis": {
         "anchor": "y",
         "domain": [
          0,
          1
         ],
         "title": {
          "text": "Popularity"
         }
        },
        "yaxis": {
         "anchor": "x",
         "categoryarray": [
          "0 - 10",
          "11 - 20",
          "21 - 30",
          "31 - 40",
          "41 - 50",
          "51 - 60",
          "61 - 70",
          "71 - 80",
          "81 - 90",
          "91 - 100"
         ],
         "categoryorder": "array",
         "domain": [
          0,
          1
         ],
         "title": {
          "text": "Chart Power"
         }
        }
       }
      }
     },
     "metadata": {},
     "output_type": "display_data"
    }
   ],
   "source": [
    "fig = px.scatter(df_found_copy, x=\"popularity_percentile\", y=\"chart_power_percentile\", hover_data=[\"name\", \"artists\"])\n",
    "fig.update_yaxes(categoryorder=\"array\", categoryarray=labels)\n",
    "fig.update_layout(\n",
    "    title=\"Popularity vs Chart Power\",\n",
    "    template=\"plotly_dark\",\n",
    "    xaxis_title=\"Popularity\",\n",
    "    yaxis_title=\"Chart Power\"\n",
    ")\n",
    "fig.show()"
   ]
  },
  {
   "cell_type": "code",
   "execution_count": 42,
   "metadata": {},
   "outputs": [
    {
     "data": {
      "application/vnd.plotly.v1+json": {
       "config": {
        "plotlyServerURL": "https://plot.ly"
       },
       "data": [
        {
         "hovertemplate": "popularity_percentile=%{x}<br>chart_power_percentile=%{y}<br>count=%{marker.size}<extra></extra>",
         "legendgroup": "",
         "marker": {
          "color": "#636efa",
          "size": [
           30,
           30,
           23,
           20,
           14,
           14,
           12,
           13,
           13,
           15,
           29,
           25,
           23,
           28,
           17,
           22,
           9,
           17,
           8,
           7,
           28,
           22,
           20,
           17,
           16,
           18,
           16,
           15,
           15,
           10,
           24,
           16,
           27,
           16,
           27,
           11,
           17,
           18,
           13,
           6,
           22,
           17,
           17,
           25,
           13,
           13,
           12,
           19,
           8,
           8,
           12,
           19,
           11,
           24,
           17,
           21,
           26,
           17,
           25,
           21,
           8,
           14,
           19,
           13,
           17,
           23,
           15,
           9,
           16,
           14,
           16,
           16,
           15,
           10,
           18,
           23,
           20,
           24,
           19,
           29,
           15,
           7,
           9,
           10,
           23,
           15,
           29,
           17,
           27,
           21,
           4,
           9,
           9,
           10,
           9,
           14,
           17,
           24,
           29,
           25
          ],
          "sizemode": "area",
          "sizeref": 0.075,
          "symbol": "circle"
         },
         "mode": "markers",
         "name": "",
         "orientation": "v",
         "showlegend": false,
         "type": "scatter",
         "x": [
          "0 - 10",
          "0 - 10",
          "0 - 10",
          "0 - 10",
          "0 - 10",
          "0 - 10",
          "0 - 10",
          "0 - 10",
          "0 - 10",
          "0 - 10",
          "11 - 20",
          "11 - 20",
          "11 - 20",
          "11 - 20",
          "11 - 20",
          "11 - 20",
          "11 - 20",
          "11 - 20",
          "11 - 20",
          "11 - 20",
          "21 - 30",
          "21 - 30",
          "21 - 30",
          "21 - 30",
          "21 - 30",
          "21 - 30",
          "21 - 30",
          "21 - 30",
          "21 - 30",
          "21 - 30",
          "31 - 40",
          "31 - 40",
          "31 - 40",
          "31 - 40",
          "31 - 40",
          "31 - 40",
          "31 - 40",
          "31 - 40",
          "31 - 40",
          "31 - 40",
          "41 - 50",
          "41 - 50",
          "41 - 50",
          "41 - 50",
          "41 - 50",
          "41 - 50",
          "41 - 50",
          "41 - 50",
          "41 - 50",
          "41 - 50",
          "51 - 60",
          "51 - 60",
          "51 - 60",
          "51 - 60",
          "51 - 60",
          "51 - 60",
          "51 - 60",
          "51 - 60",
          "51 - 60",
          "51 - 60",
          "61 - 70",
          "61 - 70",
          "61 - 70",
          "61 - 70",
          "61 - 70",
          "61 - 70",
          "61 - 70",
          "61 - 70",
          "61 - 70",
          "61 - 70",
          "71 - 80",
          "71 - 80",
          "71 - 80",
          "71 - 80",
          "71 - 80",
          "71 - 80",
          "71 - 80",
          "71 - 80",
          "71 - 80",
          "71 - 80",
          "81 - 90",
          "81 - 90",
          "81 - 90",
          "81 - 90",
          "81 - 90",
          "81 - 90",
          "81 - 90",
          "81 - 90",
          "81 - 90",
          "81 - 90",
          "91 - 100",
          "91 - 100",
          "91 - 100",
          "91 - 100",
          "91 - 100",
          "91 - 100",
          "91 - 100",
          "91 - 100",
          "91 - 100",
          "91 - 100"
         ],
         "xaxis": "x",
         "y": [
          "0 - 10",
          "11 - 20",
          "21 - 30",
          "31 - 40",
          "41 - 50",
          "51 - 60",
          "61 - 70",
          "71 - 80",
          "81 - 90",
          "91 - 100",
          "0 - 10",
          "11 - 20",
          "21 - 30",
          "31 - 40",
          "41 - 50",
          "51 - 60",
          "61 - 70",
          "71 - 80",
          "81 - 90",
          "91 - 100",
          "0 - 10",
          "11 - 20",
          "21 - 30",
          "31 - 40",
          "41 - 50",
          "51 - 60",
          "61 - 70",
          "71 - 80",
          "81 - 90",
          "91 - 100",
          "0 - 10",
          "11 - 20",
          "21 - 30",
          "31 - 40",
          "41 - 50",
          "51 - 60",
          "61 - 70",
          "71 - 80",
          "81 - 90",
          "91 - 100",
          "0 - 10",
          "11 - 20",
          "21 - 30",
          "31 - 40",
          "41 - 50",
          "51 - 60",
          "61 - 70",
          "71 - 80",
          "81 - 90",
          "91 - 100",
          "0 - 10",
          "11 - 20",
          "21 - 30",
          "31 - 40",
          "41 - 50",
          "51 - 60",
          "61 - 70",
          "71 - 80",
          "81 - 90",
          "91 - 100",
          "0 - 10",
          "11 - 20",
          "21 - 30",
          "31 - 40",
          "41 - 50",
          "51 - 60",
          "61 - 70",
          "71 - 80",
          "81 - 90",
          "91 - 100",
          "0 - 10",
          "11 - 20",
          "21 - 30",
          "31 - 40",
          "41 - 50",
          "51 - 60",
          "61 - 70",
          "71 - 80",
          "81 - 90",
          "91 - 100",
          "0 - 10",
          "11 - 20",
          "21 - 30",
          "31 - 40",
          "41 - 50",
          "51 - 60",
          "61 - 70",
          "71 - 80",
          "81 - 90",
          "91 - 100",
          "0 - 10",
          "11 - 20",
          "21 - 30",
          "31 - 40",
          "41 - 50",
          "51 - 60",
          "61 - 70",
          "71 - 80",
          "81 - 90",
          "91 - 100"
         ],
         "yaxis": "y"
        }
       ],
       "layout": {
        "legend": {
         "itemsizing": "constant",
         "tracegroupgap": 0
        },
        "margin": {
         "t": 60
        },
        "template": {
         "data": {
          "bar": [
           {
            "error_x": {
             "color": "#f2f5fa"
            },
            "error_y": {
             "color": "#f2f5fa"
            },
            "marker": {
             "line": {
              "color": "rgb(17,17,17)",
              "width": 0.5
             },
             "pattern": {
              "fillmode": "overlay",
              "size": 10,
              "solidity": 0.2
             }
            },
            "type": "bar"
           }
          ],
          "barpolar": [
           {
            "marker": {
             "line": {
              "color": "rgb(17,17,17)",
              "width": 0.5
             },
             "pattern": {
              "fillmode": "overlay",
              "size": 10,
              "solidity": 0.2
             }
            },
            "type": "barpolar"
           }
          ],
          "carpet": [
           {
            "aaxis": {
             "endlinecolor": "#A2B1C6",
             "gridcolor": "#506784",
             "linecolor": "#506784",
             "minorgridcolor": "#506784",
             "startlinecolor": "#A2B1C6"
            },
            "baxis": {
             "endlinecolor": "#A2B1C6",
             "gridcolor": "#506784",
             "linecolor": "#506784",
             "minorgridcolor": "#506784",
             "startlinecolor": "#A2B1C6"
            },
            "type": "carpet"
           }
          ],
          "choropleth": [
           {
            "colorbar": {
             "outlinewidth": 0,
             "ticks": ""
            },
            "type": "choropleth"
           }
          ],
          "contour": [
           {
            "colorbar": {
             "outlinewidth": 0,
             "ticks": ""
            },
            "colorscale": [
             [
              0,
              "#0d0887"
             ],
             [
              0.1111111111111111,
              "#46039f"
             ],
             [
              0.2222222222222222,
              "#7201a8"
             ],
             [
              0.3333333333333333,
              "#9c179e"
             ],
             [
              0.4444444444444444,
              "#bd3786"
             ],
             [
              0.5555555555555556,
              "#d8576b"
             ],
             [
              0.6666666666666666,
              "#ed7953"
             ],
             [
              0.7777777777777778,
              "#fb9f3a"
             ],
             [
              0.8888888888888888,
              "#fdca26"
             ],
             [
              1,
              "#f0f921"
             ]
            ],
            "type": "contour"
           }
          ],
          "contourcarpet": [
           {
            "colorbar": {
             "outlinewidth": 0,
             "ticks": ""
            },
            "type": "contourcarpet"
           }
          ],
          "heatmap": [
           {
            "colorbar": {
             "outlinewidth": 0,
             "ticks": ""
            },
            "colorscale": [
             [
              0,
              "#0d0887"
             ],
             [
              0.1111111111111111,
              "#46039f"
             ],
             [
              0.2222222222222222,
              "#7201a8"
             ],
             [
              0.3333333333333333,
              "#9c179e"
             ],
             [
              0.4444444444444444,
              "#bd3786"
             ],
             [
              0.5555555555555556,
              "#d8576b"
             ],
             [
              0.6666666666666666,
              "#ed7953"
             ],
             [
              0.7777777777777778,
              "#fb9f3a"
             ],
             [
              0.8888888888888888,
              "#fdca26"
             ],
             [
              1,
              "#f0f921"
             ]
            ],
            "type": "heatmap"
           }
          ],
          "heatmapgl": [
           {
            "colorbar": {
             "outlinewidth": 0,
             "ticks": ""
            },
            "colorscale": [
             [
              0,
              "#0d0887"
             ],
             [
              0.1111111111111111,
              "#46039f"
             ],
             [
              0.2222222222222222,
              "#7201a8"
             ],
             [
              0.3333333333333333,
              "#9c179e"
             ],
             [
              0.4444444444444444,
              "#bd3786"
             ],
             [
              0.5555555555555556,
              "#d8576b"
             ],
             [
              0.6666666666666666,
              "#ed7953"
             ],
             [
              0.7777777777777778,
              "#fb9f3a"
             ],
             [
              0.8888888888888888,
              "#fdca26"
             ],
             [
              1,
              "#f0f921"
             ]
            ],
            "type": "heatmapgl"
           }
          ],
          "histogram": [
           {
            "marker": {
             "pattern": {
              "fillmode": "overlay",
              "size": 10,
              "solidity": 0.2
             }
            },
            "type": "histogram"
           }
          ],
          "histogram2d": [
           {
            "colorbar": {
             "outlinewidth": 0,
             "ticks": ""
            },
            "colorscale": [
             [
              0,
              "#0d0887"
             ],
             [
              0.1111111111111111,
              "#46039f"
             ],
             [
              0.2222222222222222,
              "#7201a8"
             ],
             [
              0.3333333333333333,
              "#9c179e"
             ],
             [
              0.4444444444444444,
              "#bd3786"
             ],
             [
              0.5555555555555556,
              "#d8576b"
             ],
             [
              0.6666666666666666,
              "#ed7953"
             ],
             [
              0.7777777777777778,
              "#fb9f3a"
             ],
             [
              0.8888888888888888,
              "#fdca26"
             ],
             [
              1,
              "#f0f921"
             ]
            ],
            "type": "histogram2d"
           }
          ],
          "histogram2dcontour": [
           {
            "colorbar": {
             "outlinewidth": 0,
             "ticks": ""
            },
            "colorscale": [
             [
              0,
              "#0d0887"
             ],
             [
              0.1111111111111111,
              "#46039f"
             ],
             [
              0.2222222222222222,
              "#7201a8"
             ],
             [
              0.3333333333333333,
              "#9c179e"
             ],
             [
              0.4444444444444444,
              "#bd3786"
             ],
             [
              0.5555555555555556,
              "#d8576b"
             ],
             [
              0.6666666666666666,
              "#ed7953"
             ],
             [
              0.7777777777777778,
              "#fb9f3a"
             ],
             [
              0.8888888888888888,
              "#fdca26"
             ],
             [
              1,
              "#f0f921"
             ]
            ],
            "type": "histogram2dcontour"
           }
          ],
          "mesh3d": [
           {
            "colorbar": {
             "outlinewidth": 0,
             "ticks": ""
            },
            "type": "mesh3d"
           }
          ],
          "parcoords": [
           {
            "line": {
             "colorbar": {
              "outlinewidth": 0,
              "ticks": ""
             }
            },
            "type": "parcoords"
           }
          ],
          "pie": [
           {
            "automargin": true,
            "type": "pie"
           }
          ],
          "scatter": [
           {
            "marker": {
             "line": {
              "color": "#283442"
             }
            },
            "type": "scatter"
           }
          ],
          "scatter3d": [
           {
            "line": {
             "colorbar": {
              "outlinewidth": 0,
              "ticks": ""
             }
            },
            "marker": {
             "colorbar": {
              "outlinewidth": 0,
              "ticks": ""
             }
            },
            "type": "scatter3d"
           }
          ],
          "scattercarpet": [
           {
            "marker": {
             "colorbar": {
              "outlinewidth": 0,
              "ticks": ""
             }
            },
            "type": "scattercarpet"
           }
          ],
          "scattergeo": [
           {
            "marker": {
             "colorbar": {
              "outlinewidth": 0,
              "ticks": ""
             }
            },
            "type": "scattergeo"
           }
          ],
          "scattergl": [
           {
            "marker": {
             "line": {
              "color": "#283442"
             }
            },
            "type": "scattergl"
           }
          ],
          "scattermapbox": [
           {
            "marker": {
             "colorbar": {
              "outlinewidth": 0,
              "ticks": ""
             }
            },
            "type": "scattermapbox"
           }
          ],
          "scatterpolar": [
           {
            "marker": {
             "colorbar": {
              "outlinewidth": 0,
              "ticks": ""
             }
            },
            "type": "scatterpolar"
           }
          ],
          "scatterpolargl": [
           {
            "marker": {
             "colorbar": {
              "outlinewidth": 0,
              "ticks": ""
             }
            },
            "type": "scatterpolargl"
           }
          ],
          "scatterternary": [
           {
            "marker": {
             "colorbar": {
              "outlinewidth": 0,
              "ticks": ""
             }
            },
            "type": "scatterternary"
           }
          ],
          "surface": [
           {
            "colorbar": {
             "outlinewidth": 0,
             "ticks": ""
            },
            "colorscale": [
             [
              0,
              "#0d0887"
             ],
             [
              0.1111111111111111,
              "#46039f"
             ],
             [
              0.2222222222222222,
              "#7201a8"
             ],
             [
              0.3333333333333333,
              "#9c179e"
             ],
             [
              0.4444444444444444,
              "#bd3786"
             ],
             [
              0.5555555555555556,
              "#d8576b"
             ],
             [
              0.6666666666666666,
              "#ed7953"
             ],
             [
              0.7777777777777778,
              "#fb9f3a"
             ],
             [
              0.8888888888888888,
              "#fdca26"
             ],
             [
              1,
              "#f0f921"
             ]
            ],
            "type": "surface"
           }
          ],
          "table": [
           {
            "cells": {
             "fill": {
              "color": "#506784"
             },
             "line": {
              "color": "rgb(17,17,17)"
             }
            },
            "header": {
             "fill": {
              "color": "#2a3f5f"
             },
             "line": {
              "color": "rgb(17,17,17)"
             }
            },
            "type": "table"
           }
          ]
         },
         "layout": {
          "annotationdefaults": {
           "arrowcolor": "#f2f5fa",
           "arrowhead": 0,
           "arrowwidth": 1
          },
          "autotypenumbers": "strict",
          "coloraxis": {
           "colorbar": {
            "outlinewidth": 0,
            "ticks": ""
           }
          },
          "colorscale": {
           "diverging": [
            [
             0,
             "#8e0152"
            ],
            [
             0.1,
             "#c51b7d"
            ],
            [
             0.2,
             "#de77ae"
            ],
            [
             0.3,
             "#f1b6da"
            ],
            [
             0.4,
             "#fde0ef"
            ],
            [
             0.5,
             "#f7f7f7"
            ],
            [
             0.6,
             "#e6f5d0"
            ],
            [
             0.7,
             "#b8e186"
            ],
            [
             0.8,
             "#7fbc41"
            ],
            [
             0.9,
             "#4d9221"
            ],
            [
             1,
             "#276419"
            ]
           ],
           "sequential": [
            [
             0,
             "#0d0887"
            ],
            [
             0.1111111111111111,
             "#46039f"
            ],
            [
             0.2222222222222222,
             "#7201a8"
            ],
            [
             0.3333333333333333,
             "#9c179e"
            ],
            [
             0.4444444444444444,
             "#bd3786"
            ],
            [
             0.5555555555555556,
             "#d8576b"
            ],
            [
             0.6666666666666666,
             "#ed7953"
            ],
            [
             0.7777777777777778,
             "#fb9f3a"
            ],
            [
             0.8888888888888888,
             "#fdca26"
            ],
            [
             1,
             "#f0f921"
            ]
           ],
           "sequentialminus": [
            [
             0,
             "#0d0887"
            ],
            [
             0.1111111111111111,
             "#46039f"
            ],
            [
             0.2222222222222222,
             "#7201a8"
            ],
            [
             0.3333333333333333,
             "#9c179e"
            ],
            [
             0.4444444444444444,
             "#bd3786"
            ],
            [
             0.5555555555555556,
             "#d8576b"
            ],
            [
             0.6666666666666666,
             "#ed7953"
            ],
            [
             0.7777777777777778,
             "#fb9f3a"
            ],
            [
             0.8888888888888888,
             "#fdca26"
            ],
            [
             1,
             "#f0f921"
            ]
           ]
          },
          "colorway": [
           "#636efa",
           "#EF553B",
           "#00cc96",
           "#ab63fa",
           "#FFA15A",
           "#19d3f3",
           "#FF6692",
           "#B6E880",
           "#FF97FF",
           "#FECB52"
          ],
          "font": {
           "color": "#f2f5fa"
          },
          "geo": {
           "bgcolor": "rgb(17,17,17)",
           "lakecolor": "rgb(17,17,17)",
           "landcolor": "rgb(17,17,17)",
           "showlakes": true,
           "showland": true,
           "subunitcolor": "#506784"
          },
          "hoverlabel": {
           "align": "left"
          },
          "hovermode": "closest",
          "mapbox": {
           "style": "dark"
          },
          "paper_bgcolor": "rgb(17,17,17)",
          "plot_bgcolor": "rgb(17,17,17)",
          "polar": {
           "angularaxis": {
            "gridcolor": "#506784",
            "linecolor": "#506784",
            "ticks": ""
           },
           "bgcolor": "rgb(17,17,17)",
           "radialaxis": {
            "gridcolor": "#506784",
            "linecolor": "#506784",
            "ticks": ""
           }
          },
          "scene": {
           "xaxis": {
            "backgroundcolor": "rgb(17,17,17)",
            "gridcolor": "#506784",
            "gridwidth": 2,
            "linecolor": "#506784",
            "showbackground": true,
            "ticks": "",
            "zerolinecolor": "#C8D4E3"
           },
           "yaxis": {
            "backgroundcolor": "rgb(17,17,17)",
            "gridcolor": "#506784",
            "gridwidth": 2,
            "linecolor": "#506784",
            "showbackground": true,
            "ticks": "",
            "zerolinecolor": "#C8D4E3"
           },
           "zaxis": {
            "backgroundcolor": "rgb(17,17,17)",
            "gridcolor": "#506784",
            "gridwidth": 2,
            "linecolor": "#506784",
            "showbackground": true,
            "ticks": "",
            "zerolinecolor": "#C8D4E3"
           }
          },
          "shapedefaults": {
           "line": {
            "color": "#f2f5fa"
           }
          },
          "sliderdefaults": {
           "bgcolor": "#C8D4E3",
           "bordercolor": "rgb(17,17,17)",
           "borderwidth": 1,
           "tickwidth": 0
          },
          "ternary": {
           "aaxis": {
            "gridcolor": "#506784",
            "linecolor": "#506784",
            "ticks": ""
           },
           "baxis": {
            "gridcolor": "#506784",
            "linecolor": "#506784",
            "ticks": ""
           },
           "bgcolor": "rgb(17,17,17)",
           "caxis": {
            "gridcolor": "#506784",
            "linecolor": "#506784",
            "ticks": ""
           }
          },
          "title": {
           "x": 0.05
          },
          "updatemenudefaults": {
           "bgcolor": "#506784",
           "borderwidth": 0
          },
          "xaxis": {
           "automargin": true,
           "gridcolor": "#283442",
           "linecolor": "#506784",
           "ticks": "",
           "title": {
            "standoff": 15
           },
           "zerolinecolor": "#283442",
           "zerolinewidth": 2
          },
          "yaxis": {
           "automargin": true,
           "gridcolor": "#283442",
           "linecolor": "#506784",
           "ticks": "",
           "title": {
            "standoff": 15
           },
           "zerolinecolor": "#283442",
           "zerolinewidth": 2
          }
         }
        },
        "title": {
         "text": "Popularity vs Chart Power"
        },
        "xaxis": {
         "anchor": "y",
         "domain": [
          0,
          1
         ],
         "title": {
          "text": "Popularity"
         }
        },
        "yaxis": {
         "anchor": "x",
         "categoryarray": [
          "0 - 10",
          "11 - 20",
          "21 - 30",
          "31 - 40",
          "41 - 50",
          "51 - 60",
          "61 - 70",
          "71 - 80",
          "81 - 90",
          "91 - 100"
         ],
         "categoryorder": "array",
         "domain": [
          0,
          1
         ],
         "title": {
          "text": "Chart Power"
         }
        }
       }
      }
     },
     "metadata": {},
     "output_type": "display_data"
    }
   ],
   "source": [
    "def create_binned_scatter(df_original, title=\"Popularity vs Chart Power\"):\n",
    "    df_ = df_original.copy()\n",
    "    df_ = df_[[\"popularity_percentile\", \"chart_power_percentile\"]]\n",
    "    df_[\"count\"] = 0\n",
    "    df_ = df_.groupby([\"popularity_percentile\", \"chart_power_percentile\"]).count()\n",
    "    df_.reset_index(inplace=True)\n",
    "\n",
    "    fig = px.scatter(df_, x=\"popularity_percentile\", y=\"chart_power_percentile\", size=\"count\")\n",
    "    fig.update_yaxes(categoryorder=\"array\", categoryarray=labels)\n",
    "    fig.update_layout(\n",
    "        title=title,\n",
    "        template=\"plotly_dark\",\n",
    "        xaxis_title=\"Popularity\",\n",
    "        yaxis_title=\"Chart Power\"\n",
    "    )\n",
    "    fig.show()\n",
    "\n",
    "\n",
    "create_binned_scatter(df_found_copy)"
   ]
  },
  {
   "cell_type": "code",
   "execution_count": 43,
   "metadata": {},
   "outputs": [
    {
     "data": {
      "application/vnd.plotly.v1+json": {
       "config": {
        "plotlyServerURL": "https://plot.ly"
       },
       "data": [
        {
         "coloraxis": "coloraxis",
         "hovertemplate": "popularity_percentile=%{x}<br>chart_power_percentile=%{y}<br>count=%{z}<extra></extra>",
         "name": "",
         "nbinsx": 10,
         "nbinsy": 10,
         "type": "histogram2d",
         "x": [
          "0 - 10",
          "0 - 10",
          "0 - 10",
          "0 - 10",
          "0 - 10",
          "0 - 10",
          "0 - 10",
          "0 - 10",
          "0 - 10",
          "0 - 10",
          "0 - 10",
          "0 - 10",
          "0 - 10",
          "0 - 10",
          "0 - 10",
          "0 - 10",
          "0 - 10",
          "0 - 10",
          "0 - 10",
          "0 - 10",
          "0 - 10",
          "0 - 10",
          "0 - 10",
          "0 - 10",
          "0 - 10",
          "0 - 10",
          "0 - 10",
          "0 - 10",
          "0 - 10",
          "0 - 10",
          "0 - 10",
          "0 - 10",
          "0 - 10",
          "0 - 10",
          "0 - 10",
          "0 - 10",
          "0 - 10",
          "0 - 10",
          "0 - 10",
          "0 - 10",
          "0 - 10",
          "0 - 10",
          "0 - 10",
          "0 - 10",
          "0 - 10",
          "0 - 10",
          "0 - 10",
          "0 - 10",
          "0 - 10",
          "0 - 10",
          "0 - 10",
          "0 - 10",
          "0 - 10",
          "0 - 10",
          "0 - 10",
          "0 - 10",
          "0 - 10",
          "0 - 10",
          "0 - 10",
          "0 - 10",
          "0 - 10",
          "0 - 10",
          "0 - 10",
          "0 - 10",
          "0 - 10",
          "0 - 10",
          "0 - 10",
          "0 - 10",
          "0 - 10",
          "0 - 10",
          "0 - 10",
          "0 - 10",
          "0 - 10",
          "0 - 10",
          "0 - 10",
          "0 - 10",
          "0 - 10",
          "0 - 10",
          "0 - 10",
          "0 - 10",
          "0 - 10",
          "0 - 10",
          "0 - 10",
          "0 - 10",
          "0 - 10",
          "0 - 10",
          "0 - 10",
          "0 - 10",
          "0 - 10",
          "0 - 10",
          "0 - 10",
          "0 - 10",
          "0 - 10",
          "0 - 10",
          "0 - 10",
          "0 - 10",
          "0 - 10",
          "0 - 10",
          "0 - 10",
          "0 - 10",
          "0 - 10",
          "0 - 10",
          "0 - 10",
          "0 - 10",
          "0 - 10",
          "0 - 10",
          "0 - 10",
          "0 - 10",
          "0 - 10",
          "0 - 10",
          "0 - 10",
          "0 - 10",
          "0 - 10",
          "0 - 10",
          "0 - 10",
          "0 - 10",
          "0 - 10",
          "0 - 10",
          "0 - 10",
          "0 - 10",
          "0 - 10",
          "0 - 10",
          "0 - 10",
          "0 - 10",
          "0 - 10",
          "0 - 10",
          "0 - 10",
          "0 - 10",
          "0 - 10",
          "0 - 10",
          "0 - 10",
          "0 - 10",
          "0 - 10",
          "0 - 10",
          "0 - 10",
          "0 - 10",
          "0 - 10",
          "0 - 10",
          "0 - 10",
          "0 - 10",
          "0 - 10",
          "0 - 10",
          "0 - 10",
          "0 - 10",
          "0 - 10",
          "0 - 10",
          "0 - 10",
          "0 - 10",
          "0 - 10",
          "0 - 10",
          "0 - 10",
          "0 - 10",
          "0 - 10",
          "0 - 10",
          "0 - 10",
          "0 - 10",
          "0 - 10",
          "0 - 10",
          "0 - 10",
          "0 - 10",
          "0 - 10",
          "0 - 10",
          "0 - 10",
          "0 - 10",
          "0 - 10",
          "0 - 10",
          "0 - 10",
          "0 - 10",
          "0 - 10",
          "0 - 10",
          "0 - 10",
          "0 - 10",
          "0 - 10",
          "0 - 10",
          "0 - 10",
          "0 - 10",
          "0 - 10",
          "0 - 10",
          "0 - 10",
          "0 - 10",
          "0 - 10",
          "0 - 10",
          "0 - 10",
          "0 - 10",
          "11 - 20",
          "11 - 20",
          "11 - 20",
          "11 - 20",
          "11 - 20",
          "11 - 20",
          "11 - 20",
          "11 - 20",
          "11 - 20",
          "11 - 20",
          "11 - 20",
          "11 - 20",
          "11 - 20",
          "11 - 20",
          "11 - 20",
          "11 - 20",
          "11 - 20",
          "11 - 20",
          "11 - 20",
          "11 - 20",
          "11 - 20",
          "11 - 20",
          "11 - 20",
          "11 - 20",
          "11 - 20",
          "11 - 20",
          "11 - 20",
          "11 - 20",
          "11 - 20",
          "11 - 20",
          "11 - 20",
          "11 - 20",
          "11 - 20",
          "11 - 20",
          "11 - 20",
          "11 - 20",
          "11 - 20",
          "11 - 20",
          "11 - 20",
          "11 - 20",
          "11 - 20",
          "11 - 20",
          "11 - 20",
          "11 - 20",
          "11 - 20",
          "11 - 20",
          "11 - 20",
          "11 - 20",
          "11 - 20",
          "11 - 20",
          "11 - 20",
          "11 - 20",
          "11 - 20",
          "11 - 20",
          "11 - 20",
          "11 - 20",
          "11 - 20",
          "11 - 20",
          "11 - 20",
          "11 - 20",
          "11 - 20",
          "11 - 20",
          "11 - 20",
          "11 - 20",
          "11 - 20",
          "11 - 20",
          "11 - 20",
          "11 - 20",
          "11 - 20",
          "11 - 20",
          "11 - 20",
          "11 - 20",
          "11 - 20",
          "11 - 20",
          "11 - 20",
          "11 - 20",
          "11 - 20",
          "11 - 20",
          "11 - 20",
          "11 - 20",
          "11 - 20",
          "11 - 20",
          "11 - 20",
          "11 - 20",
          "11 - 20",
          "11 - 20",
          "11 - 20",
          "11 - 20",
          "11 - 20",
          "11 - 20",
          "11 - 20",
          "11 - 20",
          "11 - 20",
          "11 - 20",
          "11 - 20",
          "11 - 20",
          "11 - 20",
          "11 - 20",
          "11 - 20",
          "11 - 20",
          "11 - 20",
          "11 - 20",
          "11 - 20",
          "11 - 20",
          "11 - 20",
          "11 - 20",
          "11 - 20",
          "11 - 20",
          "11 - 20",
          "11 - 20",
          "11 - 20",
          "11 - 20",
          "11 - 20",
          "11 - 20",
          "11 - 20",
          "11 - 20",
          "11 - 20",
          "11 - 20",
          "11 - 20",
          "11 - 20",
          "11 - 20",
          "11 - 20",
          "11 - 20",
          "11 - 20",
          "11 - 20",
          "11 - 20",
          "11 - 20",
          "11 - 20",
          "11 - 20",
          "11 - 20",
          "11 - 20",
          "11 - 20",
          "11 - 20",
          "11 - 20",
          "11 - 20",
          "11 - 20",
          "11 - 20",
          "11 - 20",
          "11 - 20",
          "11 - 20",
          "11 - 20",
          "11 - 20",
          "11 - 20",
          "11 - 20",
          "11 - 20",
          "11 - 20",
          "11 - 20",
          "11 - 20",
          "11 - 20",
          "11 - 20",
          "11 - 20",
          "11 - 20",
          "11 - 20",
          "11 - 20",
          "11 - 20",
          "11 - 20",
          "11 - 20",
          "11 - 20",
          "11 - 20",
          "11 - 20",
          "11 - 20",
          "11 - 20",
          "11 - 20",
          "11 - 20",
          "11 - 20",
          "11 - 20",
          "11 - 20",
          "11 - 20",
          "11 - 20",
          "11 - 20",
          "11 - 20",
          "11 - 20",
          "11 - 20",
          "11 - 20",
          "11 - 20",
          "11 - 20",
          "11 - 20",
          "11 - 20",
          "11 - 20",
          "11 - 20",
          "11 - 20",
          "11 - 20",
          "11 - 20",
          "11 - 20",
          "11 - 20",
          "21 - 30",
          "21 - 30",
          "21 - 30",
          "21 - 30",
          "21 - 30",
          "21 - 30",
          "21 - 30",
          "21 - 30",
          "21 - 30",
          "21 - 30",
          "21 - 30",
          "21 - 30",
          "21 - 30",
          "21 - 30",
          "21 - 30",
          "21 - 30",
          "21 - 30",
          "21 - 30",
          "21 - 30",
          "21 - 30",
          "21 - 30",
          "21 - 30",
          "21 - 30",
          "21 - 30",
          "21 - 30",
          "21 - 30",
          "21 - 30",
          "21 - 30",
          "21 - 30",
          "21 - 30",
          "21 - 30",
          "21 - 30",
          "21 - 30",
          "21 - 30",
          "21 - 30",
          "21 - 30",
          "21 - 30",
          "21 - 30",
          "21 - 30",
          "21 - 30",
          "21 - 30",
          "21 - 30",
          "21 - 30",
          "21 - 30",
          "21 - 30",
          "21 - 30",
          "21 - 30",
          "21 - 30",
          "21 - 30",
          "21 - 30",
          "21 - 30",
          "21 - 30",
          "21 - 30",
          "21 - 30",
          "21 - 30",
          "21 - 30",
          "21 - 30",
          "21 - 30",
          "21 - 30",
          "21 - 30",
          "21 - 30",
          "21 - 30",
          "21 - 30",
          "21 - 30",
          "21 - 30",
          "21 - 30",
          "21 - 30",
          "21 - 30",
          "21 - 30",
          "21 - 30",
          "21 - 30",
          "21 - 30",
          "21 - 30",
          "21 - 30",
          "21 - 30",
          "21 - 30",
          "21 - 30",
          "21 - 30",
          "21 - 30",
          "21 - 30",
          "21 - 30",
          "21 - 30",
          "21 - 30",
          "21 - 30",
          "21 - 30",
          "21 - 30",
          "21 - 30",
          "21 - 30",
          "21 - 30",
          "21 - 30",
          "21 - 30",
          "21 - 30",
          "21 - 30",
          "21 - 30",
          "21 - 30",
          "21 - 30",
          "21 - 30",
          "21 - 30",
          "21 - 30",
          "21 - 30",
          "21 - 30",
          "21 - 30",
          "21 - 30",
          "21 - 30",
          "21 - 30",
          "21 - 30",
          "21 - 30",
          "21 - 30",
          "21 - 30",
          "21 - 30",
          "21 - 30",
          "21 - 30",
          "21 - 30",
          "21 - 30",
          "21 - 30",
          "21 - 30",
          "21 - 30",
          "21 - 30",
          "21 - 30",
          "21 - 30",
          "21 - 30",
          "21 - 30",
          "21 - 30",
          "21 - 30",
          "21 - 30",
          "21 - 30",
          "21 - 30",
          "21 - 30",
          "21 - 30",
          "21 - 30",
          "21 - 30",
          "21 - 30",
          "21 - 30",
          "21 - 30",
          "21 - 30",
          "21 - 30",
          "21 - 30",
          "21 - 30",
          "21 - 30",
          "21 - 30",
          "21 - 30",
          "21 - 30",
          "21 - 30",
          "21 - 30",
          "21 - 30",
          "21 - 30",
          "21 - 30",
          "21 - 30",
          "21 - 30",
          "21 - 30",
          "21 - 30",
          "21 - 30",
          "21 - 30",
          "21 - 30",
          "21 - 30",
          "21 - 30",
          "21 - 30",
          "21 - 30",
          "21 - 30",
          "21 - 30",
          "21 - 30",
          "21 - 30",
          "21 - 30",
          "21 - 30",
          "21 - 30",
          "21 - 30",
          "21 - 30",
          "21 - 30",
          "21 - 30",
          "21 - 30",
          "21 - 30",
          "21 - 30",
          "21 - 30",
          "21 - 30",
          "21 - 30",
          "21 - 30",
          "21 - 30",
          "31 - 40",
          "31 - 40",
          "31 - 40",
          "31 - 40",
          "31 - 40",
          "31 - 40",
          "31 - 40",
          "31 - 40",
          "31 - 40",
          "31 - 40",
          "31 - 40",
          "31 - 40",
          "31 - 40",
          "31 - 40",
          "31 - 40",
          "31 - 40",
          "31 - 40",
          "31 - 40",
          "31 - 40",
          "31 - 40",
          "31 - 40",
          "31 - 40",
          "31 - 40",
          "31 - 40",
          "31 - 40",
          "31 - 40",
          "31 - 40",
          "31 - 40",
          "31 - 40",
          "31 - 40",
          "31 - 40",
          "31 - 40",
          "31 - 40",
          "31 - 40",
          "31 - 40",
          "31 - 40",
          "31 - 40",
          "31 - 40",
          "31 - 40",
          "31 - 40",
          "31 - 40",
          "31 - 40",
          "31 - 40",
          "31 - 40",
          "31 - 40",
          "31 - 40",
          "31 - 40",
          "31 - 40",
          "31 - 40",
          "31 - 40",
          "31 - 40",
          "31 - 40",
          "31 - 40",
          "31 - 40",
          "31 - 40",
          "31 - 40",
          "31 - 40",
          "31 - 40",
          "31 - 40",
          "31 - 40",
          "31 - 40",
          "31 - 40",
          "31 - 40",
          "31 - 40",
          "31 - 40",
          "31 - 40",
          "31 - 40",
          "31 - 40",
          "31 - 40",
          "31 - 40",
          "31 - 40",
          "31 - 40",
          "31 - 40",
          "31 - 40",
          "31 - 40",
          "31 - 40",
          "31 - 40",
          "31 - 40",
          "31 - 40",
          "31 - 40",
          "31 - 40",
          "31 - 40",
          "31 - 40",
          "31 - 40",
          "31 - 40",
          "31 - 40",
          "31 - 40",
          "31 - 40",
          "31 - 40",
          "31 - 40",
          "31 - 40",
          "31 - 40",
          "31 - 40",
          "31 - 40",
          "31 - 40",
          "31 - 40",
          "31 - 40",
          "31 - 40",
          "31 - 40",
          "31 - 40",
          "31 - 40",
          "31 - 40",
          "31 - 40",
          "31 - 40",
          "31 - 40",
          "31 - 40",
          "31 - 40",
          "31 - 40",
          "31 - 40",
          "31 - 40",
          "31 - 40",
          "31 - 40",
          "31 - 40",
          "31 - 40",
          "31 - 40",
          "31 - 40",
          "31 - 40",
          "31 - 40",
          "31 - 40",
          "31 - 40",
          "31 - 40",
          "31 - 40",
          "31 - 40",
          "31 - 40",
          "31 - 40",
          "31 - 40",
          "31 - 40",
          "31 - 40",
          "31 - 40",
          "31 - 40",
          "31 - 40",
          "31 - 40",
          "31 - 40",
          "31 - 40",
          "31 - 40",
          "31 - 40",
          "31 - 40",
          "31 - 40",
          "31 - 40",
          "31 - 40",
          "31 - 40",
          "31 - 40",
          "31 - 40",
          "31 - 40",
          "31 - 40",
          "31 - 40",
          "31 - 40",
          "31 - 40",
          "31 - 40",
          "31 - 40",
          "31 - 40",
          "31 - 40",
          "31 - 40",
          "31 - 40",
          "31 - 40",
          "31 - 40",
          "31 - 40",
          "31 - 40",
          "31 - 40",
          "31 - 40",
          "31 - 40",
          "31 - 40",
          "31 - 40",
          "31 - 40",
          "31 - 40",
          "31 - 40",
          "31 - 40",
          "31 - 40",
          "31 - 40",
          "31 - 40",
          "31 - 40",
          "31 - 40",
          "31 - 40",
          "31 - 40",
          "31 - 40",
          "41 - 50",
          "41 - 50",
          "41 - 50",
          "41 - 50",
          "41 - 50",
          "41 - 50",
          "41 - 50",
          "41 - 50",
          "41 - 50",
          "41 - 50",
          "41 - 50",
          "41 - 50",
          "41 - 50",
          "41 - 50",
          "41 - 50",
          "41 - 50",
          "41 - 50",
          "41 - 50",
          "41 - 50",
          "41 - 50",
          "41 - 50",
          "41 - 50",
          "41 - 50",
          "41 - 50",
          "41 - 50",
          "41 - 50",
          "41 - 50",
          "41 - 50",
          "41 - 50",
          "41 - 50",
          "41 - 50",
          "41 - 50",
          "41 - 50",
          "41 - 50",
          "41 - 50",
          "41 - 50",
          "41 - 50",
          "41 - 50",
          "41 - 50",
          "41 - 50",
          "41 - 50",
          "41 - 50",
          "41 - 50",
          "41 - 50",
          "41 - 50",
          "41 - 50",
          "41 - 50",
          "41 - 50",
          "41 - 50",
          "41 - 50",
          "41 - 50",
          "41 - 50",
          "41 - 50",
          "41 - 50",
          "41 - 50",
          "41 - 50",
          "41 - 50",
          "41 - 50",
          "41 - 50",
          "41 - 50",
          "41 - 50",
          "41 - 50",
          "41 - 50",
          "41 - 50",
          "41 - 50",
          "41 - 50",
          "41 - 50",
          "41 - 50",
          "41 - 50",
          "41 - 50",
          "41 - 50",
          "41 - 50",
          "41 - 50",
          "41 - 50",
          "41 - 50",
          "41 - 50",
          "41 - 50",
          "41 - 50",
          "41 - 50",
          "41 - 50",
          "41 - 50",
          "41 - 50",
          "41 - 50",
          "41 - 50",
          "41 - 50",
          "41 - 50",
          "41 - 50",
          "41 - 50",
          "41 - 50",
          "41 - 50",
          "41 - 50",
          "41 - 50",
          "41 - 50",
          "41 - 50",
          "41 - 50",
          "41 - 50",
          "41 - 50",
          "41 - 50",
          "41 - 50",
          "41 - 50",
          "41 - 50",
          "41 - 50",
          "41 - 50",
          "41 - 50",
          "41 - 50",
          "41 - 50",
          "41 - 50",
          "41 - 50",
          "41 - 50",
          "41 - 50",
          "41 - 50",
          "41 - 50",
          "41 - 50",
          "41 - 50",
          "41 - 50",
          "41 - 50",
          "41 - 50",
          "41 - 50",
          "41 - 50",
          "41 - 50",
          "41 - 50",
          "41 - 50",
          "41 - 50",
          "41 - 50",
          "41 - 50",
          "41 - 50",
          "41 - 50",
          "41 - 50",
          "41 - 50",
          "41 - 50",
          "41 - 50",
          "41 - 50",
          "41 - 50",
          "41 - 50",
          "41 - 50",
          "41 - 50",
          "41 - 50",
          "41 - 50",
          "41 - 50",
          "41 - 50",
          "41 - 50",
          "41 - 50",
          "41 - 50",
          "41 - 50",
          "41 - 50",
          "41 - 50",
          "41 - 50",
          "41 - 50",
          "41 - 50",
          "41 - 50",
          "41 - 50",
          "41 - 50",
          "41 - 50",
          "41 - 50",
          "51 - 60",
          "51 - 60",
          "51 - 60",
          "51 - 60",
          "51 - 60",
          "51 - 60",
          "51 - 60",
          "51 - 60",
          "51 - 60",
          "51 - 60",
          "51 - 60",
          "51 - 60",
          "51 - 60",
          "51 - 60",
          "51 - 60",
          "51 - 60",
          "51 - 60",
          "51 - 60",
          "51 - 60",
          "51 - 60",
          "51 - 60",
          "51 - 60",
          "51 - 60",
          "51 - 60",
          "51 - 60",
          "51 - 60",
          "51 - 60",
          "51 - 60",
          "51 - 60",
          "51 - 60",
          "51 - 60",
          "51 - 60",
          "51 - 60",
          "51 - 60",
          "51 - 60",
          "51 - 60",
          "51 - 60",
          "51 - 60",
          "51 - 60",
          "51 - 60",
          "51 - 60",
          "51 - 60",
          "51 - 60",
          "51 - 60",
          "51 - 60",
          "51 - 60",
          "51 - 60",
          "51 - 60",
          "51 - 60",
          "51 - 60",
          "51 - 60",
          "51 - 60",
          "51 - 60",
          "51 - 60",
          "51 - 60",
          "51 - 60",
          "51 - 60",
          "51 - 60",
          "51 - 60",
          "51 - 60",
          "51 - 60",
          "51 - 60",
          "51 - 60",
          "51 - 60",
          "51 - 60",
          "51 - 60",
          "51 - 60",
          "51 - 60",
          "51 - 60",
          "51 - 60",
          "51 - 60",
          "51 - 60",
          "51 - 60",
          "51 - 60",
          "51 - 60",
          "51 - 60",
          "51 - 60",
          "51 - 60",
          "51 - 60",
          "51 - 60",
          "51 - 60",
          "51 - 60",
          "51 - 60",
          "51 - 60",
          "51 - 60",
          "51 - 60",
          "51 - 60",
          "51 - 60",
          "51 - 60",
          "51 - 60",
          "51 - 60",
          "51 - 60",
          "51 - 60",
          "51 - 60",
          "51 - 60",
          "51 - 60",
          "51 - 60",
          "51 - 60",
          "51 - 60",
          "51 - 60",
          "51 - 60",
          "51 - 60",
          "51 - 60",
          "51 - 60",
          "51 - 60",
          "51 - 60",
          "51 - 60",
          "51 - 60",
          "51 - 60",
          "51 - 60",
          "51 - 60",
          "51 - 60",
          "51 - 60",
          "51 - 60",
          "51 - 60",
          "51 - 60",
          "51 - 60",
          "51 - 60",
          "51 - 60",
          "51 - 60",
          "51 - 60",
          "51 - 60",
          "51 - 60",
          "51 - 60",
          "51 - 60",
          "51 - 60",
          "51 - 60",
          "51 - 60",
          "51 - 60",
          "51 - 60",
          "51 - 60",
          "51 - 60",
          "51 - 60",
          "51 - 60",
          "51 - 60",
          "51 - 60",
          "51 - 60",
          "51 - 60",
          "51 - 60",
          "51 - 60",
          "51 - 60",
          "51 - 60",
          "51 - 60",
          "51 - 60",
          "51 - 60",
          "51 - 60",
          "51 - 60",
          "51 - 60",
          "51 - 60",
          "51 - 60",
          "51 - 60",
          "51 - 60",
          "51 - 60",
          "51 - 60",
          "51 - 60",
          "51 - 60",
          "51 - 60",
          "51 - 60",
          "51 - 60",
          "51 - 60",
          "51 - 60",
          "51 - 60",
          "51 - 60",
          "51 - 60",
          "51 - 60",
          "51 - 60",
          "51 - 60",
          "51 - 60",
          "51 - 60",
          "51 - 60",
          "51 - 60",
          "51 - 60",
          "51 - 60",
          "51 - 60",
          "51 - 60",
          "51 - 60",
          "51 - 60",
          "51 - 60",
          "51 - 60",
          "51 - 60",
          "51 - 60",
          "51 - 60",
          "51 - 60",
          "51 - 60",
          "51 - 60",
          "51 - 60",
          "51 - 60",
          "51 - 60",
          "51 - 60",
          "51 - 60",
          "51 - 60",
          "51 - 60",
          "51 - 60",
          "61 - 70",
          "61 - 70",
          "61 - 70",
          "61 - 70",
          "61 - 70",
          "61 - 70",
          "61 - 70",
          "61 - 70",
          "61 - 70",
          "61 - 70",
          "61 - 70",
          "61 - 70",
          "61 - 70",
          "61 - 70",
          "61 - 70",
          "61 - 70",
          "61 - 70",
          "61 - 70",
          "61 - 70",
          "61 - 70",
          "61 - 70",
          "61 - 70",
          "61 - 70",
          "61 - 70",
          "61 - 70",
          "61 - 70",
          "61 - 70",
          "61 - 70",
          "61 - 70",
          "61 - 70",
          "61 - 70",
          "61 - 70",
          "61 - 70",
          "61 - 70",
          "61 - 70",
          "61 - 70",
          "61 - 70",
          "61 - 70",
          "61 - 70",
          "61 - 70",
          "61 - 70",
          "61 - 70",
          "61 - 70",
          "61 - 70",
          "61 - 70",
          "61 - 70",
          "61 - 70",
          "61 - 70",
          "61 - 70",
          "61 - 70",
          "61 - 70",
          "61 - 70",
          "61 - 70",
          "61 - 70",
          "61 - 70",
          "61 - 70",
          "61 - 70",
          "61 - 70",
          "61 - 70",
          "61 - 70",
          "61 - 70",
          "61 - 70",
          "61 - 70",
          "61 - 70",
          "61 - 70",
          "61 - 70",
          "61 - 70",
          "61 - 70",
          "61 - 70",
          "61 - 70",
          "61 - 70",
          "61 - 70",
          "61 - 70",
          "61 - 70",
          "61 - 70",
          "61 - 70",
          "61 - 70",
          "61 - 70",
          "61 - 70",
          "61 - 70",
          "61 - 70",
          "61 - 70",
          "61 - 70",
          "61 - 70",
          "61 - 70",
          "61 - 70",
          "61 - 70",
          "61 - 70",
          "61 - 70",
          "61 - 70",
          "61 - 70",
          "61 - 70",
          "61 - 70",
          "61 - 70",
          "61 - 70",
          "61 - 70",
          "61 - 70",
          "61 - 70",
          "61 - 70",
          "61 - 70",
          "61 - 70",
          "61 - 70",
          "61 - 70",
          "61 - 70",
          "61 - 70",
          "61 - 70",
          "61 - 70",
          "61 - 70",
          "61 - 70",
          "61 - 70",
          "61 - 70",
          "61 - 70",
          "61 - 70",
          "61 - 70",
          "61 - 70",
          "61 - 70",
          "61 - 70",
          "61 - 70",
          "61 - 70",
          "61 - 70",
          "61 - 70",
          "61 - 70",
          "61 - 70",
          "61 - 70",
          "61 - 70",
          "61 - 70",
          "61 - 70",
          "61 - 70",
          "61 - 70",
          "61 - 70",
          "61 - 70",
          "61 - 70",
          "61 - 70",
          "61 - 70",
          "61 - 70",
          "61 - 70",
          "61 - 70",
          "61 - 70",
          "61 - 70",
          "61 - 70",
          "61 - 70",
          "61 - 70",
          "61 - 70",
          "61 - 70",
          "61 - 70",
          "61 - 70",
          "61 - 70",
          "61 - 70",
          "71 - 80",
          "71 - 80",
          "71 - 80",
          "71 - 80",
          "71 - 80",
          "71 - 80",
          "71 - 80",
          "71 - 80",
          "71 - 80",
          "71 - 80",
          "71 - 80",
          "71 - 80",
          "71 - 80",
          "71 - 80",
          "71 - 80",
          "71 - 80",
          "71 - 80",
          "71 - 80",
          "71 - 80",
          "71 - 80",
          "71 - 80",
          "71 - 80",
          "71 - 80",
          "71 - 80",
          "71 - 80",
          "71 - 80",
          "71 - 80",
          "71 - 80",
          "71 - 80",
          "71 - 80",
          "71 - 80",
          "71 - 80",
          "71 - 80",
          "71 - 80",
          "71 - 80",
          "71 - 80",
          "71 - 80",
          "71 - 80",
          "71 - 80",
          "71 - 80",
          "71 - 80",
          "71 - 80",
          "71 - 80",
          "71 - 80",
          "71 - 80",
          "71 - 80",
          "71 - 80",
          "71 - 80",
          "71 - 80",
          "71 - 80",
          "71 - 80",
          "71 - 80",
          "71 - 80",
          "71 - 80",
          "71 - 80",
          "71 - 80",
          "71 - 80",
          "71 - 80",
          "71 - 80",
          "71 - 80",
          "71 - 80",
          "71 - 80",
          "71 - 80",
          "71 - 80",
          "71 - 80",
          "71 - 80",
          "71 - 80",
          "71 - 80",
          "71 - 80",
          "71 - 80",
          "71 - 80",
          "71 - 80",
          "71 - 80",
          "71 - 80",
          "71 - 80",
          "71 - 80",
          "71 - 80",
          "71 - 80",
          "71 - 80",
          "71 - 80",
          "71 - 80",
          "71 - 80",
          "71 - 80",
          "71 - 80",
          "71 - 80",
          "71 - 80",
          "71 - 80",
          "71 - 80",
          "71 - 80",
          "71 - 80",
          "71 - 80",
          "71 - 80",
          "71 - 80",
          "71 - 80",
          "71 - 80",
          "71 - 80",
          "71 - 80",
          "71 - 80",
          "71 - 80",
          "71 - 80",
          "71 - 80",
          "71 - 80",
          "71 - 80",
          "71 - 80",
          "71 - 80",
          "71 - 80",
          "71 - 80",
          "71 - 80",
          "71 - 80",
          "71 - 80",
          "71 - 80",
          "71 - 80",
          "71 - 80",
          "71 - 80",
          "71 - 80",
          "71 - 80",
          "71 - 80",
          "71 - 80",
          "71 - 80",
          "71 - 80",
          "71 - 80",
          "71 - 80",
          "71 - 80",
          "71 - 80",
          "71 - 80",
          "71 - 80",
          "71 - 80",
          "71 - 80",
          "71 - 80",
          "71 - 80",
          "71 - 80",
          "71 - 80",
          "71 - 80",
          "71 - 80",
          "71 - 80",
          "71 - 80",
          "71 - 80",
          "71 - 80",
          "71 - 80",
          "71 - 80",
          "71 - 80",
          "71 - 80",
          "71 - 80",
          "71 - 80",
          "71 - 80",
          "71 - 80",
          "71 - 80",
          "71 - 80",
          "71 - 80",
          "71 - 80",
          "71 - 80",
          "71 - 80",
          "71 - 80",
          "71 - 80",
          "71 - 80",
          "71 - 80",
          "71 - 80",
          "71 - 80",
          "71 - 80",
          "71 - 80",
          "71 - 80",
          "71 - 80",
          "71 - 80",
          "71 - 80",
          "71 - 80",
          "71 - 80",
          "71 - 80",
          "71 - 80",
          "71 - 80",
          "71 - 80",
          "71 - 80",
          "71 - 80",
          "71 - 80",
          "71 - 80",
          "71 - 80",
          "71 - 80",
          "71 - 80",
          "71 - 80",
          "71 - 80",
          "71 - 80",
          "71 - 80",
          "71 - 80",
          "71 - 80",
          "71 - 80",
          "71 - 80",
          "71 - 80",
          "71 - 80",
          "71 - 80",
          "71 - 80",
          "71 - 80",
          "81 - 90",
          "81 - 90",
          "81 - 90",
          "81 - 90",
          "81 - 90",
          "81 - 90",
          "81 - 90",
          "81 - 90",
          "81 - 90",
          "81 - 90",
          "81 - 90",
          "81 - 90",
          "81 - 90",
          "81 - 90",
          "81 - 90",
          "81 - 90",
          "81 - 90",
          "81 - 90",
          "81 - 90",
          "81 - 90",
          "81 - 90",
          "81 - 90",
          "81 - 90",
          "81 - 90",
          "81 - 90",
          "81 - 90",
          "81 - 90",
          "81 - 90",
          "81 - 90",
          "81 - 90",
          "81 - 90",
          "81 - 90",
          "81 - 90",
          "81 - 90",
          "81 - 90",
          "81 - 90",
          "81 - 90",
          "81 - 90",
          "81 - 90",
          "81 - 90",
          "81 - 90",
          "81 - 90",
          "81 - 90",
          "81 - 90",
          "81 - 90",
          "81 - 90",
          "81 - 90",
          "81 - 90",
          "81 - 90",
          "81 - 90",
          "81 - 90",
          "81 - 90",
          "81 - 90",
          "81 - 90",
          "81 - 90",
          "81 - 90",
          "81 - 90",
          "81 - 90",
          "81 - 90",
          "81 - 90",
          "81 - 90",
          "81 - 90",
          "81 - 90",
          "81 - 90",
          "81 - 90",
          "81 - 90",
          "81 - 90",
          "81 - 90",
          "81 - 90",
          "81 - 90",
          "81 - 90",
          "81 - 90",
          "81 - 90",
          "81 - 90",
          "81 - 90",
          "81 - 90",
          "81 - 90",
          "81 - 90",
          "81 - 90",
          "81 - 90",
          "81 - 90",
          "81 - 90",
          "81 - 90",
          "81 - 90",
          "81 - 90",
          "81 - 90",
          "81 - 90",
          "81 - 90",
          "81 - 90",
          "81 - 90",
          "81 - 90",
          "81 - 90",
          "81 - 90",
          "81 - 90",
          "81 - 90",
          "81 - 90",
          "81 - 90",
          "81 - 90",
          "81 - 90",
          "81 - 90",
          "81 - 90",
          "81 - 90",
          "81 - 90",
          "81 - 90",
          "81 - 90",
          "81 - 90",
          "81 - 90",
          "81 - 90",
          "81 - 90",
          "81 - 90",
          "81 - 90",
          "81 - 90",
          "81 - 90",
          "81 - 90",
          "81 - 90",
          "81 - 90",
          "81 - 90",
          "81 - 90",
          "81 - 90",
          "81 - 90",
          "81 - 90",
          "81 - 90",
          "81 - 90",
          "81 - 90",
          "81 - 90",
          "81 - 90",
          "81 - 90",
          "81 - 90",
          "81 - 90",
          "81 - 90",
          "81 - 90",
          "81 - 90",
          "81 - 90",
          "81 - 90",
          "81 - 90",
          "81 - 90",
          "81 - 90",
          "81 - 90",
          "81 - 90",
          "81 - 90",
          "81 - 90",
          "81 - 90",
          "81 - 90",
          "81 - 90",
          "81 - 90",
          "81 - 90",
          "81 - 90",
          "81 - 90",
          "81 - 90",
          "81 - 90",
          "81 - 90",
          "81 - 90",
          "81 - 90",
          "81 - 90",
          "81 - 90",
          "81 - 90",
          "81 - 90",
          "81 - 90",
          "81 - 90",
          "81 - 90",
          "81 - 90",
          "81 - 90",
          "81 - 90",
          "81 - 90",
          "81 - 90",
          "81 - 90",
          "81 - 90",
          "81 - 90",
          "81 - 90",
          "81 - 90",
          "81 - 90",
          "81 - 90",
          "81 - 90",
          "91 - 100",
          "91 - 100",
          "91 - 100",
          "91 - 100",
          "91 - 100",
          "91 - 100",
          "91 - 100",
          "91 - 100",
          "91 - 100",
          "91 - 100",
          "91 - 100",
          "91 - 100",
          "91 - 100",
          "91 - 100",
          "91 - 100",
          "91 - 100",
          "91 - 100",
          "91 - 100",
          "91 - 100",
          "91 - 100",
          "91 - 100",
          "91 - 100",
          "91 - 100",
          "91 - 100",
          "91 - 100",
          "91 - 100",
          "91 - 100",
          "91 - 100",
          "91 - 100",
          "91 - 100",
          "91 - 100",
          "91 - 100",
          "91 - 100",
          "91 - 100",
          "91 - 100",
          "91 - 100",
          "91 - 100",
          "91 - 100",
          "91 - 100",
          "91 - 100",
          "91 - 100",
          "91 - 100",
          "91 - 100",
          "91 - 100",
          "91 - 100",
          "91 - 100",
          "91 - 100",
          "91 - 100",
          "91 - 100",
          "91 - 100",
          "91 - 100",
          "91 - 100",
          "91 - 100",
          "91 - 100",
          "91 - 100",
          "91 - 100",
          "91 - 100",
          "91 - 100",
          "91 - 100",
          "91 - 100",
          "91 - 100",
          "91 - 100",
          "91 - 100",
          "91 - 100",
          "91 - 100",
          "91 - 100",
          "91 - 100",
          "91 - 100",
          "91 - 100",
          "91 - 100",
          "91 - 100",
          "91 - 100",
          "91 - 100",
          "91 - 100",
          "91 - 100",
          "91 - 100",
          "91 - 100",
          "91 - 100",
          "91 - 100",
          "91 - 100",
          "91 - 100",
          "91 - 100",
          "91 - 100",
          "91 - 100",
          "91 - 100",
          "91 - 100",
          "91 - 100",
          "91 - 100",
          "91 - 100",
          "91 - 100",
          "91 - 100",
          "91 - 100",
          "91 - 100",
          "91 - 100",
          "91 - 100",
          "91 - 100",
          "91 - 100",
          "91 - 100",
          "91 - 100",
          "91 - 100",
          "91 - 100",
          "91 - 100",
          "91 - 100",
          "91 - 100",
          "91 - 100",
          "91 - 100",
          "91 - 100",
          "91 - 100",
          "91 - 100",
          "91 - 100",
          "91 - 100",
          "91 - 100",
          "91 - 100",
          "91 - 100",
          "91 - 100",
          "91 - 100",
          "91 - 100",
          "91 - 100",
          "91 - 100",
          "91 - 100",
          "91 - 100",
          "91 - 100",
          "91 - 100",
          "91 - 100",
          "91 - 100",
          "91 - 100",
          "91 - 100",
          "91 - 100",
          "91 - 100",
          "91 - 100",
          "91 - 100",
          "91 - 100",
          "91 - 100",
          "91 - 100",
          "91 - 100",
          "91 - 100",
          "91 - 100",
          "91 - 100",
          "91 - 100",
          "91 - 100",
          "91 - 100",
          "91 - 100",
          "91 - 100",
          "91 - 100",
          "91 - 100",
          "91 - 100",
          "91 - 100",
          "91 - 100",
          "91 - 100",
          "91 - 100"
         ],
         "xaxis": "x",
         "xbingroup": "x",
         "y": [
          "0 - 10",
          "71 - 80",
          "71 - 80",
          "71 - 80",
          "51 - 60",
          "51 - 60",
          "51 - 60",
          "41 - 50",
          "41 - 50",
          "31 - 40",
          "31 - 40",
          "31 - 40",
          "31 - 40",
          "31 - 40",
          "21 - 30",
          "21 - 30",
          "21 - 30",
          "21 - 30",
          "11 - 20",
          "0 - 10",
          "11 - 20",
          "11 - 20",
          "11 - 20",
          "0 - 10",
          "71 - 80",
          "71 - 80",
          "31 - 40",
          "71 - 80",
          "71 - 80",
          "81 - 90",
          "81 - 90",
          "0 - 10",
          "81 - 90",
          "81 - 90",
          "11 - 20",
          "31 - 40",
          "0 - 10",
          "0 - 10",
          "31 - 40",
          "41 - 50",
          "41 - 50",
          "81 - 90",
          "51 - 60",
          "51 - 60",
          "31 - 40",
          "81 - 90",
          "71 - 80",
          "21 - 30",
          "11 - 20",
          "51 - 60",
          "31 - 40",
          "91 - 100",
          "11 - 20",
          "81 - 90",
          "31 - 40",
          "11 - 20",
          "21 - 30",
          "41 - 50",
          "11 - 20",
          "11 - 20",
          "11 - 20",
          "61 - 70",
          "11 - 20",
          "61 - 70",
          "0 - 10",
          "71 - 80",
          "0 - 10",
          "21 - 30",
          "21 - 30",
          "91 - 100",
          "81 - 90",
          "41 - 50",
          "0 - 10",
          "11 - 20",
          "61 - 70",
          "91 - 100",
          "41 - 50",
          "61 - 70",
          "91 - 100",
          "11 - 20",
          "21 - 30",
          "0 - 10",
          "11 - 20",
          "0 - 10",
          "0 - 10",
          "61 - 70",
          "71 - 80",
          "81 - 90",
          "41 - 50",
          "0 - 10",
          "0 - 10",
          "81 - 90",
          "11 - 20",
          "11 - 20",
          "91 - 100",
          "0 - 10",
          "21 - 30",
          "41 - 50",
          "31 - 40",
          "11 - 20",
          "11 - 20",
          "11 - 20",
          "31 - 40",
          "0 - 10",
          "31 - 40",
          "0 - 10",
          "0 - 10",
          "0 - 10",
          "91 - 100",
          "31 - 40",
          "61 - 70",
          "81 - 90",
          "21 - 30",
          "21 - 30",
          "91 - 100",
          "21 - 30",
          "51 - 60",
          "41 - 50",
          "41 - 50",
          "21 - 30",
          "61 - 70",
          "51 - 60",
          "51 - 60",
          "91 - 100",
          "11 - 20",
          "31 - 40",
          "31 - 40",
          "21 - 30",
          "91 - 100",
          "11 - 20",
          "51 - 60",
          "71 - 80",
          "91 - 100",
          "0 - 10",
          "41 - 50",
          "0 - 10",
          "21 - 30",
          "51 - 60",
          "41 - 50",
          "61 - 70",
          "51 - 60",
          "91 - 100",
          "11 - 20",
          "91 - 100",
          "0 - 10",
          "51 - 60",
          "61 - 70",
          "11 - 20",
          "91 - 100",
          "0 - 10",
          "11 - 20",
          "11 - 20",
          "21 - 30",
          "81 - 90",
          "21 - 30",
          "71 - 80",
          "51 - 60",
          "21 - 30",
          "31 - 40",
          "61 - 70",
          "0 - 10",
          "61 - 70",
          "81 - 90",
          "91 - 100",
          "21 - 30",
          "41 - 50",
          "31 - 40",
          "11 - 20",
          "0 - 10",
          "11 - 20",
          "0 - 10",
          "91 - 100",
          "0 - 10",
          "61 - 70",
          "71 - 80",
          "31 - 40",
          "0 - 10",
          "11 - 20",
          "21 - 30",
          "21 - 30",
          "0 - 10",
          "0 - 10",
          "11 - 20",
          "21 - 30",
          "11 - 20",
          "21 - 30",
          "11 - 20",
          "51 - 60",
          "11 - 20",
          "0 - 10",
          "71 - 80",
          "11 - 20",
          "51 - 60",
          "71 - 80",
          "61 - 70",
          "41 - 50",
          "0 - 10",
          "31 - 40",
          "51 - 60",
          "91 - 100",
          "71 - 80",
          "21 - 30",
          "51 - 60",
          "21 - 30",
          "51 - 60",
          "81 - 90",
          "0 - 10",
          "81 - 90",
          "31 - 40",
          "11 - 20",
          "21 - 30",
          "21 - 30",
          "31 - 40",
          "0 - 10",
          "71 - 80",
          "0 - 10",
          "11 - 20",
          "71 - 80",
          "71 - 80",
          "21 - 30",
          "31 - 40",
          "81 - 90",
          "0 - 10",
          "61 - 70",
          "0 - 10",
          "71 - 80",
          "21 - 30",
          "41 - 50",
          "41 - 50",
          "11 - 20",
          "51 - 60",
          "0 - 10",
          "61 - 70",
          "61 - 70",
          "31 - 40",
          "91 - 100",
          "31 - 40",
          "31 - 40",
          "11 - 20",
          "61 - 70",
          "11 - 20",
          "11 - 20",
          "41 - 50",
          "41 - 50",
          "11 - 20",
          "31 - 40",
          "31 - 40",
          "31 - 40",
          "51 - 60",
          "31 - 40",
          "81 - 90",
          "0 - 10",
          "31 - 40",
          "31 - 40",
          "11 - 20",
          "31 - 40",
          "41 - 50",
          "31 - 40",
          "71 - 80",
          "31 - 40",
          "81 - 90",
          "0 - 10",
          "91 - 100",
          "0 - 10",
          "0 - 10",
          "21 - 30",
          "61 - 70",
          "71 - 80",
          "91 - 100",
          "31 - 40",
          "11 - 20",
          "21 - 30",
          "31 - 40",
          "71 - 80",
          "31 - 40",
          "11 - 20",
          "31 - 40",
          "0 - 10",
          "0 - 10",
          "61 - 70",
          "0 - 10",
          "11 - 20",
          "21 - 30",
          "11 - 20",
          "51 - 60",
          "51 - 60",
          "41 - 50",
          "11 - 20",
          "51 - 60",
          "91 - 100",
          "21 - 30",
          "51 - 60",
          "71 - 80",
          "71 - 80",
          "31 - 40",
          "71 - 80",
          "11 - 20",
          "0 - 10",
          "21 - 30",
          "81 - 90",
          "41 - 50",
          "21 - 30",
          "31 - 40",
          "0 - 10",
          "71 - 80",
          "51 - 60",
          "51 - 60",
          "41 - 50",
          "11 - 20",
          "91 - 100",
          "0 - 10",
          "51 - 60",
          "0 - 10",
          "21 - 30",
          "51 - 60",
          "51 - 60",
          "21 - 30",
          "21 - 30",
          "0 - 10",
          "51 - 60",
          "21 - 30",
          "31 - 40",
          "61 - 70",
          "11 - 20",
          "71 - 80",
          "41 - 50",
          "61 - 70",
          "41 - 50",
          "21 - 30",
          "31 - 40",
          "51 - 60",
          "21 - 30",
          "21 - 30",
          "51 - 60",
          "51 - 60",
          "11 - 20",
          "51 - 60",
          "11 - 20",
          "41 - 50",
          "41 - 50",
          "81 - 90",
          "21 - 30",
          "0 - 10",
          "91 - 100",
          "0 - 10",
          "0 - 10",
          "41 - 50",
          "41 - 50",
          "31 - 40",
          "31 - 40",
          "41 - 50",
          "51 - 60",
          "21 - 30",
          "41 - 50",
          "31 - 40",
          "0 - 10",
          "31 - 40",
          "81 - 90",
          "0 - 10",
          "0 - 10",
          "71 - 80",
          "0 - 10",
          "11 - 20",
          "11 - 20",
          "0 - 10",
          "0 - 10",
          "71 - 80",
          "11 - 20",
          "21 - 30",
          "0 - 10",
          "21 - 30",
          "11 - 20",
          "61 - 70",
          "71 - 80",
          "41 - 50",
          "71 - 80",
          "11 - 20",
          "51 - 60",
          "11 - 20",
          "51 - 60",
          "31 - 40",
          "11 - 20",
          "91 - 100",
          "0 - 10",
          "0 - 10",
          "11 - 20",
          "31 - 40",
          "11 - 20",
          "71 - 80",
          "0 - 10",
          "71 - 80",
          "11 - 20",
          "91 - 100",
          "31 - 40",
          "61 - 70",
          "61 - 70",
          "21 - 30",
          "51 - 60",
          "0 - 10",
          "0 - 10",
          "91 - 100",
          "51 - 60",
          "21 - 30",
          "91 - 100",
          "11 - 20",
          "11 - 20",
          "71 - 80",
          "0 - 10",
          "51 - 60",
          "21 - 30",
          "71 - 80",
          "61 - 70",
          "51 - 60",
          "41 - 50",
          "41 - 50",
          "0 - 10",
          "0 - 10",
          "0 - 10",
          "0 - 10",
          "61 - 70",
          "91 - 100",
          "81 - 90",
          "61 - 70",
          "21 - 30",
          "61 - 70",
          "31 - 40",
          "81 - 90",
          "21 - 30",
          "21 - 30",
          "0 - 10",
          "31 - 40",
          "0 - 10",
          "0 - 10",
          "31 - 40",
          "0 - 10",
          "0 - 10",
          "81 - 90",
          "21 - 30",
          "21 - 30",
          "41 - 50",
          "0 - 10",
          "71 - 80",
          "81 - 90",
          "71 - 80",
          "81 - 90",
          "71 - 80",
          "41 - 50",
          "51 - 60",
          "0 - 10",
          "81 - 90",
          "31 - 40",
          "11 - 20",
          "81 - 90",
          "51 - 60",
          "21 - 30",
          "21 - 30",
          "71 - 80",
          "71 - 80",
          "81 - 90",
          "41 - 50",
          "31 - 40",
          "41 - 50",
          "61 - 70",
          "21 - 30",
          "61 - 70",
          "61 - 70",
          "61 - 70",
          "41 - 50",
          "61 - 70",
          "0 - 10",
          "91 - 100",
          "11 - 20",
          "61 - 70",
          "21 - 30",
          "61 - 70",
          "51 - 60",
          "51 - 60",
          "81 - 90",
          "11 - 20",
          "0 - 10",
          "41 - 50",
          "41 - 50",
          "51 - 60",
          "0 - 10",
          "51 - 60",
          "91 - 100",
          "31 - 40",
          "11 - 20",
          "81 - 90",
          "81 - 90",
          "41 - 50",
          "31 - 40",
          "91 - 100",
          "0 - 10",
          "11 - 20",
          "21 - 30",
          "61 - 70",
          "0 - 10",
          "21 - 30",
          "21 - 30",
          "41 - 50",
          "51 - 60",
          "11 - 20",
          "31 - 40",
          "51 - 60",
          "0 - 10",
          "51 - 60",
          "91 - 100",
          "0 - 10",
          "31 - 40",
          "31 - 40",
          "51 - 60",
          "11 - 20",
          "21 - 30",
          "81 - 90",
          "41 - 50",
          "41 - 50",
          "11 - 20",
          "81 - 90",
          "91 - 100",
          "51 - 60",
          "0 - 10",
          "11 - 20",
          "81 - 90",
          "51 - 60",
          "41 - 50",
          "11 - 20",
          "11 - 20",
          "41 - 50",
          "81 - 90",
          "61 - 70",
          "21 - 30",
          "31 - 40",
          "71 - 80",
          "21 - 30",
          "31 - 40",
          "0 - 10",
          "31 - 40",
          "31 - 40",
          "21 - 30",
          "71 - 80",
          "0 - 10",
          "71 - 80",
          "11 - 20",
          "71 - 80",
          "11 - 20",
          "61 - 70",
          "0 - 10",
          "51 - 60",
          "41 - 50",
          "61 - 70",
          "41 - 50",
          "61 - 70",
          "61 - 70",
          "41 - 50",
          "31 - 40",
          "41 - 50",
          "31 - 40",
          "41 - 50",
          "21 - 30",
          "0 - 10",
          "0 - 10",
          "21 - 30",
          "0 - 10",
          "21 - 30",
          "21 - 30",
          "0 - 10",
          "21 - 30",
          "0 - 10",
          "81 - 90",
          "81 - 90",
          "11 - 20",
          "11 - 20",
          "11 - 20",
          "31 - 40",
          "61 - 70",
          "31 - 40",
          "71 - 80",
          "21 - 30",
          "51 - 60",
          "21 - 30",
          "71 - 80",
          "0 - 10",
          "71 - 80",
          "41 - 50",
          "81 - 90",
          "61 - 70",
          "81 - 90",
          "71 - 80",
          "21 - 30",
          "41 - 50",
          "0 - 10",
          "31 - 40",
          "0 - 10",
          "31 - 40",
          "21 - 30",
          "41 - 50",
          "41 - 50",
          "71 - 80",
          "0 - 10",
          "21 - 30",
          "31 - 40",
          "51 - 60",
          "0 - 10",
          "11 - 20",
          "41 - 50",
          "31 - 40",
          "21 - 30",
          "61 - 70",
          "41 - 50",
          "61 - 70",
          "31 - 40",
          "31 - 40",
          "41 - 50",
          "61 - 70",
          "21 - 30",
          "41 - 50",
          "41 - 50",
          "81 - 90",
          "21 - 30",
          "51 - 60",
          "91 - 100",
          "51 - 60",
          "21 - 30",
          "61 - 70",
          "71 - 80",
          "21 - 30",
          "0 - 10",
          "81 - 90",
          "91 - 100",
          "71 - 80",
          "41 - 50",
          "41 - 50",
          "31 - 40",
          "71 - 80",
          "51 - 60",
          "0 - 10",
          "0 - 10",
          "11 - 20",
          "81 - 90",
          "0 - 10",
          "11 - 20",
          "0 - 10",
          "61 - 70",
          "21 - 30",
          "41 - 50",
          "21 - 30",
          "0 - 10",
          "21 - 30",
          "61 - 70",
          "11 - 20",
          "91 - 100",
          "41 - 50",
          "0 - 10",
          "51 - 60",
          "41 - 50",
          "31 - 40",
          "71 - 80",
          "91 - 100",
          "91 - 100",
          "11 - 20",
          "41 - 50",
          "91 - 100",
          "11 - 20",
          "81 - 90",
          "81 - 90",
          "61 - 70",
          "21 - 30",
          "31 - 40",
          "21 - 30",
          "71 - 80",
          "11 - 20",
          "81 - 90",
          "51 - 60",
          "41 - 50",
          "0 - 10",
          "81 - 90",
          "71 - 80",
          "11 - 20",
          "11 - 20",
          "41 - 50",
          "21 - 30",
          "11 - 20",
          "61 - 70",
          "71 - 80",
          "71 - 80",
          "61 - 70",
          "31 - 40",
          "0 - 10",
          "51 - 60",
          "0 - 10",
          "41 - 50",
          "11 - 20",
          "31 - 40",
          "51 - 60",
          "41 - 50",
          "21 - 30",
          "61 - 70",
          "21 - 30",
          "71 - 80",
          "21 - 30",
          "71 - 80",
          "71 - 80",
          "21 - 30",
          "11 - 20",
          "0 - 10",
          "61 - 70",
          "81 - 90",
          "21 - 30",
          "41 - 50",
          "41 - 50",
          "21 - 30",
          "0 - 10",
          "0 - 10",
          "11 - 20",
          "81 - 90",
          "51 - 60",
          "71 - 80",
          "31 - 40",
          "71 - 80",
          "41 - 50",
          "41 - 50",
          "0 - 10",
          "11 - 20",
          "41 - 50",
          "11 - 20",
          "61 - 70",
          "81 - 90",
          "31 - 40",
          "11 - 20",
          "0 - 10",
          "61 - 70",
          "0 - 10",
          "11 - 20",
          "0 - 10",
          "0 - 10",
          "71 - 80",
          "21 - 30",
          "51 - 60",
          "21 - 30",
          "61 - 70",
          "61 - 70",
          "21 - 30",
          "0 - 10",
          "21 - 30",
          "51 - 60",
          "71 - 80",
          "11 - 20",
          "31 - 40",
          "91 - 100",
          "31 - 40",
          "21 - 30",
          "0 - 10",
          "31 - 40",
          "0 - 10",
          "51 - 60",
          "41 - 50",
          "41 - 50",
          "11 - 20",
          "41 - 50",
          "91 - 100",
          "0 - 10",
          "0 - 10",
          "51 - 60",
          "11 - 20",
          "11 - 20",
          "41 - 50",
          "51 - 60",
          "11 - 20",
          "0 - 10",
          "41 - 50",
          "51 - 60",
          "51 - 60",
          "81 - 90",
          "0 - 10",
          "0 - 10",
          "51 - 60",
          "11 - 20",
          "31 - 40",
          "71 - 80",
          "61 - 70",
          "71 - 80",
          "31 - 40",
          "71 - 80",
          "61 - 70",
          "0 - 10",
          "21 - 30",
          "61 - 70",
          "61 - 70",
          "21 - 30",
          "31 - 40",
          "11 - 20",
          "11 - 20",
          "31 - 40",
          "21 - 30",
          "41 - 50",
          "21 - 30",
          "31 - 40",
          "41 - 50",
          "21 - 30",
          "61 - 70",
          "61 - 70",
          "21 - 30",
          "31 - 40",
          "71 - 80",
          "31 - 40",
          "31 - 40",
          "11 - 20",
          "31 - 40",
          "21 - 30",
          "91 - 100",
          "71 - 80",
          "31 - 40",
          "21 - 30",
          "0 - 10",
          "31 - 40",
          "71 - 80",
          "41 - 50",
          "41 - 50",
          "31 - 40",
          "0 - 10",
          "31 - 40",
          "31 - 40",
          "41 - 50",
          "71 - 80",
          "71 - 80",
          "31 - 40",
          "81 - 90",
          "51 - 60",
          "0 - 10",
          "11 - 20",
          "11 - 20",
          "11 - 20",
          "51 - 60",
          "51 - 60",
          "71 - 80",
          "0 - 10",
          "71 - 80",
          "31 - 40",
          "0 - 10",
          "71 - 80",
          "0 - 10",
          "71 - 80",
          "31 - 40",
          "71 - 80",
          "21 - 30",
          "31 - 40",
          "71 - 80",
          "91 - 100",
          "91 - 100",
          "71 - 80",
          "91 - 100",
          "11 - 20",
          "21 - 30",
          "81 - 90",
          "51 - 60",
          "81 - 90",
          "81 - 90",
          "0 - 10",
          "81 - 90",
          "0 - 10",
          "21 - 30",
          "61 - 70",
          "81 - 90",
          "71 - 80",
          "51 - 60",
          "21 - 30",
          "31 - 40",
          "71 - 80",
          "31 - 40",
          "91 - 100",
          "41 - 50",
          "91 - 100",
          "31 - 40",
          "61 - 70",
          "91 - 100",
          "51 - 60",
          "81 - 90",
          "81 - 90",
          "61 - 70",
          "51 - 60",
          "51 - 60",
          "81 - 90",
          "61 - 70",
          "81 - 90",
          "51 - 60",
          "81 - 90",
          "61 - 70",
          "81 - 90",
          "91 - 100",
          "71 - 80",
          "51 - 60",
          "61 - 70",
          "51 - 60",
          "51 - 60",
          "51 - 60",
          "21 - 30",
          "11 - 20",
          "21 - 30",
          "31 - 40",
          "11 - 20",
          "11 - 20",
          "31 - 40",
          "31 - 40",
          "0 - 10",
          "21 - 30",
          "51 - 60",
          "41 - 50",
          "41 - 50",
          "0 - 10",
          "81 - 90",
          "81 - 90",
          "21 - 30",
          "11 - 20",
          "31 - 40",
          "71 - 80",
          "91 - 100",
          "0 - 10",
          "11 - 20",
          "11 - 20",
          "0 - 10",
          "0 - 10",
          "31 - 40",
          "61 - 70",
          "31 - 40",
          "51 - 60",
          "91 - 100",
          "11 - 20",
          "21 - 30",
          "61 - 70",
          "61 - 70",
          "61 - 70",
          "51 - 60",
          "31 - 40",
          "91 - 100",
          "91 - 100",
          "61 - 70",
          "71 - 80",
          "51 - 60",
          "61 - 70",
          "71 - 80",
          "71 - 80",
          "31 - 40",
          "61 - 70",
          "31 - 40",
          "61 - 70",
          "61 - 70",
          "61 - 70",
          "41 - 50",
          "61 - 70",
          "41 - 50",
          "41 - 50",
          "71 - 80",
          "31 - 40",
          "51 - 60",
          "91 - 100",
          "91 - 100",
          "91 - 100",
          "81 - 90",
          "11 - 20",
          "81 - 90",
          "81 - 90",
          "81 - 90",
          "91 - 100",
          "81 - 90",
          "11 - 20",
          "81 - 90",
          "81 - 90",
          "81 - 90",
          "51 - 60",
          "31 - 40",
          "11 - 20",
          "61 - 70",
          "11 - 20",
          "61 - 70",
          "31 - 40",
          "31 - 40",
          "11 - 20",
          "11 - 20",
          "31 - 40",
          "61 - 70",
          "51 - 60",
          "41 - 50",
          "41 - 50",
          "51 - 60",
          "21 - 30",
          "81 - 90",
          "71 - 80",
          "41 - 50",
          "11 - 20",
          "51 - 60",
          "51 - 60",
          "61 - 70",
          "61 - 70",
          "21 - 30",
          "61 - 70",
          "0 - 10",
          "91 - 100",
          "91 - 100",
          "0 - 10",
          "91 - 100",
          "91 - 100",
          "61 - 70",
          "91 - 100",
          "0 - 10",
          "71 - 80",
          "31 - 40",
          "31 - 40",
          "81 - 90",
          "21 - 30",
          "71 - 80",
          "71 - 80",
          "81 - 90",
          "21 - 30",
          "81 - 90",
          "21 - 30",
          "71 - 80",
          "71 - 80",
          "31 - 40",
          "31 - 40",
          "11 - 20",
          "71 - 80",
          "81 - 90",
          "31 - 40",
          "71 - 80",
          "61 - 70",
          "81 - 90",
          "61 - 70",
          "71 - 80",
          "71 - 80",
          "0 - 10",
          "41 - 50",
          "41 - 50",
          "41 - 50",
          "51 - 60",
          "41 - 50",
          "51 - 60",
          "41 - 50",
          "41 - 50",
          "91 - 100",
          "91 - 100",
          "91 - 100",
          "41 - 50",
          "61 - 70",
          "61 - 70",
          "11 - 20",
          "31 - 40",
          "91 - 100",
          "31 - 40",
          "41 - 50",
          "0 - 10",
          "11 - 20",
          "81 - 90",
          "91 - 100",
          "0 - 10",
          "71 - 80",
          "31 - 40",
          "91 - 100",
          "31 - 40",
          "11 - 20",
          "11 - 20",
          "31 - 40",
          "51 - 60",
          "81 - 90",
          "0 - 10",
          "81 - 90",
          "41 - 50",
          "21 - 30",
          "31 - 40",
          "11 - 20",
          "21 - 30",
          "41 - 50",
          "31 - 40",
          "21 - 30",
          "31 - 40",
          "21 - 30",
          "91 - 100",
          "91 - 100",
          "91 - 100",
          "11 - 20",
          "0 - 10",
          "81 - 90",
          "51 - 60",
          "11 - 20",
          "0 - 10",
          "0 - 10",
          "91 - 100",
          "11 - 20",
          "91 - 100",
          "41 - 50",
          "51 - 60",
          "51 - 60",
          "41 - 50",
          "51 - 60",
          "21 - 30",
          "91 - 100",
          "11 - 20",
          "81 - 90",
          "21 - 30",
          "31 - 40",
          "11 - 20",
          "41 - 50",
          "51 - 60",
          "71 - 80",
          "81 - 90",
          "61 - 70",
          "21 - 30",
          "31 - 40",
          "61 - 70",
          "41 - 50",
          "41 - 50",
          "51 - 60",
          "0 - 10",
          "81 - 90",
          "0 - 10",
          "41 - 50",
          "41 - 50",
          "41 - 50",
          "51 - 60",
          "81 - 90",
          "21 - 30",
          "61 - 70",
          "31 - 40",
          "61 - 70",
          "51 - 60",
          "81 - 90",
          "41 - 50",
          "71 - 80",
          "51 - 60",
          "31 - 40",
          "51 - 60",
          "81 - 90",
          "51 - 60",
          "91 - 100",
          "51 - 60",
          "71 - 80",
          "61 - 70",
          "21 - 30",
          "51 - 60",
          "31 - 40",
          "41 - 50",
          "61 - 70",
          "0 - 10",
          "41 - 50",
          "81 - 90",
          "11 - 20",
          "31 - 40",
          "61 - 70",
          "11 - 20",
          "81 - 90",
          "51 - 60",
          "21 - 30",
          "21 - 30",
          "51 - 60",
          "51 - 60",
          "81 - 90",
          "81 - 90",
          "81 - 90",
          "11 - 20",
          "81 - 90",
          "61 - 70",
          "21 - 30",
          "41 - 50",
          "21 - 30",
          "61 - 70",
          "61 - 70",
          "51 - 60",
          "71 - 80",
          "71 - 80",
          "41 - 50",
          "21 - 30",
          "91 - 100",
          "61 - 70",
          "51 - 60",
          "91 - 100",
          "11 - 20",
          "71 - 80",
          "61 - 70",
          "21 - 30",
          "31 - 40",
          "81 - 90",
          "21 - 30",
          "11 - 20",
          "51 - 60",
          "11 - 20",
          "61 - 70",
          "21 - 30",
          "81 - 90",
          "91 - 100",
          "11 - 20",
          "71 - 80",
          "0 - 10",
          "81 - 90",
          "71 - 80",
          "71 - 80",
          "0 - 10",
          "51 - 60",
          "21 - 30",
          "21 - 30",
          "41 - 50",
          "41 - 50",
          "41 - 50",
          "91 - 100",
          "21 - 30",
          "91 - 100",
          "11 - 20",
          "61 - 70",
          "51 - 60",
          "61 - 70",
          "31 - 40",
          "31 - 40",
          "31 - 40",
          "91 - 100",
          "91 - 100",
          "51 - 60",
          "51 - 60",
          "81 - 90",
          "61 - 70",
          "91 - 100",
          "61 - 70",
          "91 - 100",
          "81 - 90",
          "11 - 20",
          "91 - 100",
          "91 - 100",
          "21 - 30",
          "51 - 60",
          "81 - 90",
          "91 - 100",
          "91 - 100",
          "71 - 80",
          "61 - 70",
          "51 - 60",
          "61 - 70",
          "71 - 80",
          "0 - 10",
          "61 - 70",
          "31 - 40",
          "91 - 100",
          "51 - 60",
          "0 - 10",
          "71 - 80",
          "41 - 50",
          "91 - 100",
          "91 - 100",
          "0 - 10",
          "11 - 20",
          "51 - 60",
          "81 - 90",
          "91 - 100",
          "21 - 30",
          "51 - 60",
          "91 - 100",
          "51 - 60",
          "11 - 20",
          "21 - 30",
          "0 - 10",
          "0 - 10",
          "71 - 80",
          "61 - 70",
          "51 - 60",
          "81 - 90",
          "81 - 90",
          "31 - 40",
          "71 - 80",
          "41 - 50",
          "11 - 20",
          "71 - 80",
          "71 - 80",
          "0 - 10",
          "21 - 30",
          "71 - 80",
          "41 - 50",
          "71 - 80",
          "41 - 50",
          "51 - 60",
          "31 - 40",
          "41 - 50",
          "21 - 30",
          "21 - 30",
          "21 - 30",
          "51 - 60",
          "41 - 50",
          "91 - 100",
          "51 - 60",
          "81 - 90",
          "61 - 70",
          "51 - 60",
          "81 - 90",
          "81 - 90",
          "51 - 60",
          "91 - 100",
          "0 - 10",
          "41 - 50",
          "41 - 50",
          "11 - 20",
          "0 - 10",
          "41 - 50",
          "0 - 10",
          "91 - 100",
          "0 - 10",
          "21 - 30",
          "71 - 80",
          "91 - 100",
          "61 - 70",
          "51 - 60",
          "71 - 80",
          "81 - 90",
          "91 - 100",
          "81 - 90",
          "21 - 30",
          "0 - 10",
          "11 - 20",
          "41 - 50",
          "91 - 100",
          "91 - 100",
          "41 - 50",
          "11 - 20",
          "71 - 80",
          "31 - 40",
          "91 - 100",
          "81 - 90",
          "21 - 30",
          "41 - 50",
          "61 - 70",
          "71 - 80",
          "91 - 100",
          "21 - 30",
          "61 - 70",
          "51 - 60",
          "81 - 90",
          "71 - 80",
          "0 - 10",
          "11 - 20",
          "31 - 40",
          "31 - 40",
          "51 - 60",
          "0 - 10",
          "71 - 80",
          "51 - 60",
          "61 - 70",
          "71 - 80",
          "11 - 20",
          "71 - 80",
          "11 - 20",
          "71 - 80",
          "11 - 20",
          "81 - 90",
          "21 - 30",
          "61 - 70",
          "21 - 30",
          "41 - 50",
          "61 - 70",
          "51 - 60",
          "91 - 100",
          "51 - 60",
          "51 - 60",
          "61 - 70",
          "61 - 70",
          "0 - 10",
          "71 - 80",
          "71 - 80",
          "31 - 40",
          "21 - 30",
          "41 - 50",
          "91 - 100",
          "71 - 80",
          "41 - 50",
          "81 - 90",
          "51 - 60",
          "31 - 40",
          "71 - 80",
          "61 - 70",
          "91 - 100",
          "31 - 40",
          "91 - 100",
          "31 - 40",
          "91 - 100",
          "91 - 100",
          "0 - 10",
          "11 - 20",
          "21 - 30",
          "61 - 70",
          "81 - 90",
          "61 - 70",
          "61 - 70",
          "11 - 20",
          "41 - 50",
          "51 - 60",
          "81 - 90",
          "11 - 20",
          "81 - 90",
          "91 - 100",
          "61 - 70",
          "91 - 100",
          "51 - 60",
          "71 - 80",
          "41 - 50",
          "71 - 80",
          "91 - 100",
          "81 - 90",
          "11 - 20",
          "41 - 50",
          "0 - 10",
          "51 - 60",
          "11 - 20",
          "81 - 90",
          "71 - 80",
          "0 - 10",
          "11 - 20",
          "91 - 100",
          "61 - 70",
          "61 - 70",
          "61 - 70",
          "41 - 50",
          "91 - 100",
          "81 - 90",
          "81 - 90",
          "61 - 70",
          "0 - 10",
          "71 - 80",
          "81 - 90",
          "51 - 60",
          "51 - 60",
          "81 - 90",
          "81 - 90",
          "61 - 70",
          "81 - 90",
          "81 - 90",
          "41 - 50",
          "51 - 60",
          "91 - 100",
          "81 - 90",
          "11 - 20",
          "51 - 60",
          "71 - 80",
          "51 - 60",
          "31 - 40",
          "41 - 50",
          "71 - 80",
          "41 - 50",
          "51 - 60",
          "71 - 80",
          "81 - 90",
          "41 - 50",
          "71 - 80",
          "81 - 90",
          "31 - 40",
          "91 - 100",
          "91 - 100",
          "61 - 70",
          "51 - 60",
          "41 - 50",
          "61 - 70",
          "61 - 70",
          "61 - 70",
          "51 - 60",
          "0 - 10",
          "61 - 70",
          "81 - 90",
          "81 - 90",
          "61 - 70",
          "71 - 80",
          "91 - 100",
          "31 - 40",
          "11 - 20",
          "71 - 80",
          "91 - 100",
          "91 - 100",
          "0 - 10",
          "0 - 10",
          "51 - 60",
          "41 - 50",
          "51 - 60",
          "61 - 70",
          "31 - 40",
          "21 - 30",
          "81 - 90",
          "91 - 100",
          "31 - 40",
          "11 - 20",
          "61 - 70",
          "71 - 80",
          "21 - 30",
          "31 - 40",
          "21 - 30",
          "41 - 50",
          "61 - 70",
          "81 - 90",
          "61 - 70",
          "0 - 10",
          "61 - 70",
          "31 - 40",
          "61 - 70",
          "81 - 90",
          "61 - 70",
          "11 - 20",
          "61 - 70",
          "51 - 60",
          "61 - 70",
          "91 - 100",
          "0 - 10",
          "91 - 100",
          "81 - 90",
          "91 - 100",
          "91 - 100",
          "21 - 30",
          "71 - 80",
          "21 - 30",
          "61 - 70",
          "41 - 50",
          "41 - 50",
          "51 - 60",
          "81 - 90",
          "41 - 50",
          "41 - 50",
          "61 - 70",
          "91 - 100",
          "91 - 100",
          "0 - 10",
          "41 - 50",
          "41 - 50",
          "61 - 70",
          "91 - 100",
          "31 - 40",
          "61 - 70",
          "61 - 70",
          "61 - 70",
          "41 - 50",
          "81 - 90",
          "91 - 100",
          "81 - 90",
          "81 - 90",
          "41 - 50",
          "21 - 30",
          "81 - 90",
          "41 - 50",
          "11 - 20",
          "11 - 20",
          "41 - 50",
          "71 - 80",
          "41 - 50",
          "71 - 80",
          "21 - 30",
          "61 - 70",
          "81 - 90",
          "21 - 30",
          "51 - 60",
          "41 - 50",
          "0 - 10",
          "91 - 100",
          "71 - 80",
          "91 - 100",
          "21 - 30",
          "61 - 70",
          "0 - 10",
          "0 - 10",
          "71 - 80",
          "51 - 60",
          "61 - 70",
          "31 - 40",
          "51 - 60",
          "71 - 80",
          "81 - 90",
          "91 - 100",
          "81 - 90",
          "81 - 90",
          "41 - 50",
          "81 - 90",
          "41 - 50",
          "0 - 10",
          "0 - 10",
          "0 - 10",
          "71 - 80",
          "41 - 50",
          "91 - 100",
          "31 - 40",
          "0 - 10",
          "71 - 80",
          "61 - 70",
          "81 - 90",
          "81 - 90",
          "51 - 60",
          "91 - 100",
          "81 - 90",
          "91 - 100",
          "61 - 70",
          "91 - 100",
          "91 - 100",
          "91 - 100",
          "41 - 50",
          "71 - 80",
          "71 - 80",
          "71 - 80",
          "81 - 90",
          "91 - 100",
          "71 - 80",
          "11 - 20",
          "91 - 100",
          "81 - 90",
          "51 - 60",
          "31 - 40",
          "91 - 100",
          "91 - 100",
          "41 - 50",
          "31 - 40",
          "51 - 60",
          "11 - 20",
          "11 - 20",
          "21 - 30",
          "71 - 80",
          "61 - 70",
          "61 - 70",
          "51 - 60",
          "51 - 60",
          "11 - 20",
          "61 - 70",
          "21 - 30",
          "81 - 90",
          "81 - 90",
          "71 - 80",
          "41 - 50",
          "21 - 30",
          "31 - 40",
          "81 - 90",
          "11 - 20",
          "91 - 100",
          "71 - 80",
          "51 - 60",
          "51 - 60",
          "61 - 70",
          "61 - 70",
          "91 - 100",
          "81 - 90",
          "71 - 80",
          "81 - 90",
          "0 - 10",
          "81 - 90",
          "0 - 10",
          "91 - 100",
          "61 - 70",
          "91 - 100",
          "91 - 100",
          "91 - 100",
          "81 - 90",
          "91 - 100",
          "81 - 90",
          "21 - 30",
          "61 - 70",
          "71 - 80",
          "81 - 90",
          "81 - 90",
          "11 - 20",
          "61 - 70",
          "51 - 60",
          "11 - 20",
          "81 - 90",
          "0 - 10",
          "81 - 90",
          "41 - 50",
          "71 - 80",
          "21 - 30",
          "41 - 50",
          "51 - 60",
          "21 - 30",
          "81 - 90",
          "71 - 80",
          "51 - 60",
          "91 - 100",
          "61 - 70",
          "81 - 90",
          "31 - 40",
          "71 - 80",
          "41 - 50",
          "81 - 90",
          "61 - 70",
          "41 - 50",
          "21 - 30",
          "81 - 90",
          "91 - 100",
          "71 - 80",
          "61 - 70",
          "21 - 30",
          "31 - 40",
          "31 - 40",
          "61 - 70",
          "51 - 60",
          "81 - 90",
          "31 - 40",
          "91 - 100",
          "41 - 50",
          "71 - 80",
          "81 - 90",
          "31 - 40",
          "21 - 30",
          "81 - 90",
          "81 - 90",
          "61 - 70",
          "71 - 80",
          "71 - 80",
          "51 - 60",
          "71 - 80",
          "91 - 100",
          "81 - 90",
          "11 - 20",
          "0 - 10",
          "31 - 40",
          "31 - 40",
          "81 - 90",
          "71 - 80",
          "71 - 80",
          "11 - 20",
          "71 - 80",
          "91 - 100",
          "51 - 60",
          "91 - 100",
          "71 - 80",
          "71 - 80",
          "71 - 80",
          "91 - 100",
          "91 - 100",
          "81 - 90",
          "41 - 50",
          "61 - 70",
          "91 - 100",
          "51 - 60",
          "81 - 90",
          "71 - 80",
          "61 - 70"
         ],
         "yaxis": "y",
         "ybingroup": "y"
        }
       ],
       "layout": {
        "coloraxis": {
         "colorbar": {
          "title": {
           "text": "count"
          }
         },
         "colorscale": [
          [
           0,
           "#440154"
          ],
          [
           0.1111111111111111,
           "#482878"
          ],
          [
           0.2222222222222222,
           "#3e4989"
          ],
          [
           0.3333333333333333,
           "#31688e"
          ],
          [
           0.4444444444444444,
           "#26828e"
          ],
          [
           0.5555555555555556,
           "#1f9e89"
          ],
          [
           0.6666666666666666,
           "#35b779"
          ],
          [
           0.7777777777777778,
           "#6ece58"
          ],
          [
           0.8888888888888888,
           "#b5de2b"
          ],
          [
           1,
           "#fde725"
          ]
         ]
        },
        "legend": {
         "tracegroupgap": 0
        },
        "margin": {
         "t": 60
        },
        "template": {
         "data": {
          "bar": [
           {
            "error_x": {
             "color": "#f2f5fa"
            },
            "error_y": {
             "color": "#f2f5fa"
            },
            "marker": {
             "line": {
              "color": "rgb(17,17,17)",
              "width": 0.5
             },
             "pattern": {
              "fillmode": "overlay",
              "size": 10,
              "solidity": 0.2
             }
            },
            "type": "bar"
           }
          ],
          "barpolar": [
           {
            "marker": {
             "line": {
              "color": "rgb(17,17,17)",
              "width": 0.5
             },
             "pattern": {
              "fillmode": "overlay",
              "size": 10,
              "solidity": 0.2
             }
            },
            "type": "barpolar"
           }
          ],
          "carpet": [
           {
            "aaxis": {
             "endlinecolor": "#A2B1C6",
             "gridcolor": "#506784",
             "linecolor": "#506784",
             "minorgridcolor": "#506784",
             "startlinecolor": "#A2B1C6"
            },
            "baxis": {
             "endlinecolor": "#A2B1C6",
             "gridcolor": "#506784",
             "linecolor": "#506784",
             "minorgridcolor": "#506784",
             "startlinecolor": "#A2B1C6"
            },
            "type": "carpet"
           }
          ],
          "choropleth": [
           {
            "colorbar": {
             "outlinewidth": 0,
             "ticks": ""
            },
            "type": "choropleth"
           }
          ],
          "contour": [
           {
            "colorbar": {
             "outlinewidth": 0,
             "ticks": ""
            },
            "colorscale": [
             [
              0,
              "#0d0887"
             ],
             [
              0.1111111111111111,
              "#46039f"
             ],
             [
              0.2222222222222222,
              "#7201a8"
             ],
             [
              0.3333333333333333,
              "#9c179e"
             ],
             [
              0.4444444444444444,
              "#bd3786"
             ],
             [
              0.5555555555555556,
              "#d8576b"
             ],
             [
              0.6666666666666666,
              "#ed7953"
             ],
             [
              0.7777777777777778,
              "#fb9f3a"
             ],
             [
              0.8888888888888888,
              "#fdca26"
             ],
             [
              1,
              "#f0f921"
             ]
            ],
            "type": "contour"
           }
          ],
          "contourcarpet": [
           {
            "colorbar": {
             "outlinewidth": 0,
             "ticks": ""
            },
            "type": "contourcarpet"
           }
          ],
          "heatmap": [
           {
            "colorbar": {
             "outlinewidth": 0,
             "ticks": ""
            },
            "colorscale": [
             [
              0,
              "#0d0887"
             ],
             [
              0.1111111111111111,
              "#46039f"
             ],
             [
              0.2222222222222222,
              "#7201a8"
             ],
             [
              0.3333333333333333,
              "#9c179e"
             ],
             [
              0.4444444444444444,
              "#bd3786"
             ],
             [
              0.5555555555555556,
              "#d8576b"
             ],
             [
              0.6666666666666666,
              "#ed7953"
             ],
             [
              0.7777777777777778,
              "#fb9f3a"
             ],
             [
              0.8888888888888888,
              "#fdca26"
             ],
             [
              1,
              "#f0f921"
             ]
            ],
            "type": "heatmap"
           }
          ],
          "heatmapgl": [
           {
            "colorbar": {
             "outlinewidth": 0,
             "ticks": ""
            },
            "colorscale": [
             [
              0,
              "#0d0887"
             ],
             [
              0.1111111111111111,
              "#46039f"
             ],
             [
              0.2222222222222222,
              "#7201a8"
             ],
             [
              0.3333333333333333,
              "#9c179e"
             ],
             [
              0.4444444444444444,
              "#bd3786"
             ],
             [
              0.5555555555555556,
              "#d8576b"
             ],
             [
              0.6666666666666666,
              "#ed7953"
             ],
             [
              0.7777777777777778,
              "#fb9f3a"
             ],
             [
              0.8888888888888888,
              "#fdca26"
             ],
             [
              1,
              "#f0f921"
             ]
            ],
            "type": "heatmapgl"
           }
          ],
          "histogram": [
           {
            "marker": {
             "pattern": {
              "fillmode": "overlay",
              "size": 10,
              "solidity": 0.2
             }
            },
            "type": "histogram"
           }
          ],
          "histogram2d": [
           {
            "colorbar": {
             "outlinewidth": 0,
             "ticks": ""
            },
            "colorscale": [
             [
              0,
              "#0d0887"
             ],
             [
              0.1111111111111111,
              "#46039f"
             ],
             [
              0.2222222222222222,
              "#7201a8"
             ],
             [
              0.3333333333333333,
              "#9c179e"
             ],
             [
              0.4444444444444444,
              "#bd3786"
             ],
             [
              0.5555555555555556,
              "#d8576b"
             ],
             [
              0.6666666666666666,
              "#ed7953"
             ],
             [
              0.7777777777777778,
              "#fb9f3a"
             ],
             [
              0.8888888888888888,
              "#fdca26"
             ],
             [
              1,
              "#f0f921"
             ]
            ],
            "type": "histogram2d"
           }
          ],
          "histogram2dcontour": [
           {
            "colorbar": {
             "outlinewidth": 0,
             "ticks": ""
            },
            "colorscale": [
             [
              0,
              "#0d0887"
             ],
             [
              0.1111111111111111,
              "#46039f"
             ],
             [
              0.2222222222222222,
              "#7201a8"
             ],
             [
              0.3333333333333333,
              "#9c179e"
             ],
             [
              0.4444444444444444,
              "#bd3786"
             ],
             [
              0.5555555555555556,
              "#d8576b"
             ],
             [
              0.6666666666666666,
              "#ed7953"
             ],
             [
              0.7777777777777778,
              "#fb9f3a"
             ],
             [
              0.8888888888888888,
              "#fdca26"
             ],
             [
              1,
              "#f0f921"
             ]
            ],
            "type": "histogram2dcontour"
           }
          ],
          "mesh3d": [
           {
            "colorbar": {
             "outlinewidth": 0,
             "ticks": ""
            },
            "type": "mesh3d"
           }
          ],
          "parcoords": [
           {
            "line": {
             "colorbar": {
              "outlinewidth": 0,
              "ticks": ""
             }
            },
            "type": "parcoords"
           }
          ],
          "pie": [
           {
            "automargin": true,
            "type": "pie"
           }
          ],
          "scatter": [
           {
            "marker": {
             "line": {
              "color": "#283442"
             }
            },
            "type": "scatter"
           }
          ],
          "scatter3d": [
           {
            "line": {
             "colorbar": {
              "outlinewidth": 0,
              "ticks": ""
             }
            },
            "marker": {
             "colorbar": {
              "outlinewidth": 0,
              "ticks": ""
             }
            },
            "type": "scatter3d"
           }
          ],
          "scattercarpet": [
           {
            "marker": {
             "colorbar": {
              "outlinewidth": 0,
              "ticks": ""
             }
            },
            "type": "scattercarpet"
           }
          ],
          "scattergeo": [
           {
            "marker": {
             "colorbar": {
              "outlinewidth": 0,
              "ticks": ""
             }
            },
            "type": "scattergeo"
           }
          ],
          "scattergl": [
           {
            "marker": {
             "line": {
              "color": "#283442"
             }
            },
            "type": "scattergl"
           }
          ],
          "scattermapbox": [
           {
            "marker": {
             "colorbar": {
              "outlinewidth": 0,
              "ticks": ""
             }
            },
            "type": "scattermapbox"
           }
          ],
          "scatterpolar": [
           {
            "marker": {
             "colorbar": {
              "outlinewidth": 0,
              "ticks": ""
             }
            },
            "type": "scatterpolar"
           }
          ],
          "scatterpolargl": [
           {
            "marker": {
             "colorbar": {
              "outlinewidth": 0,
              "ticks": ""
             }
            },
            "type": "scatterpolargl"
           }
          ],
          "scatterternary": [
           {
            "marker": {
             "colorbar": {
              "outlinewidth": 0,
              "ticks": ""
             }
            },
            "type": "scatterternary"
           }
          ],
          "surface": [
           {
            "colorbar": {
             "outlinewidth": 0,
             "ticks": ""
            },
            "colorscale": [
             [
              0,
              "#0d0887"
             ],
             [
              0.1111111111111111,
              "#46039f"
             ],
             [
              0.2222222222222222,
              "#7201a8"
             ],
             [
              0.3333333333333333,
              "#9c179e"
             ],
             [
              0.4444444444444444,
              "#bd3786"
             ],
             [
              0.5555555555555556,
              "#d8576b"
             ],
             [
              0.6666666666666666,
              "#ed7953"
             ],
             [
              0.7777777777777778,
              "#fb9f3a"
             ],
             [
              0.8888888888888888,
              "#fdca26"
             ],
             [
              1,
              "#f0f921"
             ]
            ],
            "type": "surface"
           }
          ],
          "table": [
           {
            "cells": {
             "fill": {
              "color": "#506784"
             },
             "line": {
              "color": "rgb(17,17,17)"
             }
            },
            "header": {
             "fill": {
              "color": "#2a3f5f"
             },
             "line": {
              "color": "rgb(17,17,17)"
             }
            },
            "type": "table"
           }
          ]
         },
         "layout": {
          "annotationdefaults": {
           "arrowcolor": "#f2f5fa",
           "arrowhead": 0,
           "arrowwidth": 1
          },
          "autotypenumbers": "strict",
          "coloraxis": {
           "colorbar": {
            "outlinewidth": 0,
            "ticks": ""
           }
          },
          "colorscale": {
           "diverging": [
            [
             0,
             "#8e0152"
            ],
            [
             0.1,
             "#c51b7d"
            ],
            [
             0.2,
             "#de77ae"
            ],
            [
             0.3,
             "#f1b6da"
            ],
            [
             0.4,
             "#fde0ef"
            ],
            [
             0.5,
             "#f7f7f7"
            ],
            [
             0.6,
             "#e6f5d0"
            ],
            [
             0.7,
             "#b8e186"
            ],
            [
             0.8,
             "#7fbc41"
            ],
            [
             0.9,
             "#4d9221"
            ],
            [
             1,
             "#276419"
            ]
           ],
           "sequential": [
            [
             0,
             "#0d0887"
            ],
            [
             0.1111111111111111,
             "#46039f"
            ],
            [
             0.2222222222222222,
             "#7201a8"
            ],
            [
             0.3333333333333333,
             "#9c179e"
            ],
            [
             0.4444444444444444,
             "#bd3786"
            ],
            [
             0.5555555555555556,
             "#d8576b"
            ],
            [
             0.6666666666666666,
             "#ed7953"
            ],
            [
             0.7777777777777778,
             "#fb9f3a"
            ],
            [
             0.8888888888888888,
             "#fdca26"
            ],
            [
             1,
             "#f0f921"
            ]
           ],
           "sequentialminus": [
            [
             0,
             "#0d0887"
            ],
            [
             0.1111111111111111,
             "#46039f"
            ],
            [
             0.2222222222222222,
             "#7201a8"
            ],
            [
             0.3333333333333333,
             "#9c179e"
            ],
            [
             0.4444444444444444,
             "#bd3786"
            ],
            [
             0.5555555555555556,
             "#d8576b"
            ],
            [
             0.6666666666666666,
             "#ed7953"
            ],
            [
             0.7777777777777778,
             "#fb9f3a"
            ],
            [
             0.8888888888888888,
             "#fdca26"
            ],
            [
             1,
             "#f0f921"
            ]
           ]
          },
          "colorway": [
           "#636efa",
           "#EF553B",
           "#00cc96",
           "#ab63fa",
           "#FFA15A",
           "#19d3f3",
           "#FF6692",
           "#B6E880",
           "#FF97FF",
           "#FECB52"
          ],
          "font": {
           "color": "#f2f5fa"
          },
          "geo": {
           "bgcolor": "rgb(17,17,17)",
           "lakecolor": "rgb(17,17,17)",
           "landcolor": "rgb(17,17,17)",
           "showlakes": true,
           "showland": true,
           "subunitcolor": "#506784"
          },
          "hoverlabel": {
           "align": "left"
          },
          "hovermode": "closest",
          "mapbox": {
           "style": "dark"
          },
          "paper_bgcolor": "rgb(17,17,17)",
          "plot_bgcolor": "rgb(17,17,17)",
          "polar": {
           "angularaxis": {
            "gridcolor": "#506784",
            "linecolor": "#506784",
            "ticks": ""
           },
           "bgcolor": "rgb(17,17,17)",
           "radialaxis": {
            "gridcolor": "#506784",
            "linecolor": "#506784",
            "ticks": ""
           }
          },
          "scene": {
           "xaxis": {
            "backgroundcolor": "rgb(17,17,17)",
            "gridcolor": "#506784",
            "gridwidth": 2,
            "linecolor": "#506784",
            "showbackground": true,
            "ticks": "",
            "zerolinecolor": "#C8D4E3"
           },
           "yaxis": {
            "backgroundcolor": "rgb(17,17,17)",
            "gridcolor": "#506784",
            "gridwidth": 2,
            "linecolor": "#506784",
            "showbackground": true,
            "ticks": "",
            "zerolinecolor": "#C8D4E3"
           },
           "zaxis": {
            "backgroundcolor": "rgb(17,17,17)",
            "gridcolor": "#506784",
            "gridwidth": 2,
            "linecolor": "#506784",
            "showbackground": true,
            "ticks": "",
            "zerolinecolor": "#C8D4E3"
           }
          },
          "shapedefaults": {
           "line": {
            "color": "#f2f5fa"
           }
          },
          "sliderdefaults": {
           "bgcolor": "#C8D4E3",
           "bordercolor": "rgb(17,17,17)",
           "borderwidth": 1,
           "tickwidth": 0
          },
          "ternary": {
           "aaxis": {
            "gridcolor": "#506784",
            "linecolor": "#506784",
            "ticks": ""
           },
           "baxis": {
            "gridcolor": "#506784",
            "linecolor": "#506784",
            "ticks": ""
           },
           "bgcolor": "rgb(17,17,17)",
           "caxis": {
            "gridcolor": "#506784",
            "linecolor": "#506784",
            "ticks": ""
           }
          },
          "title": {
           "x": 0.05
          },
          "updatemenudefaults": {
           "bgcolor": "#506784",
           "borderwidth": 0
          },
          "xaxis": {
           "automargin": true,
           "gridcolor": "#283442",
           "linecolor": "#506784",
           "ticks": "",
           "title": {
            "standoff": 15
           },
           "zerolinecolor": "#283442",
           "zerolinewidth": 2
          },
          "yaxis": {
           "automargin": true,
           "gridcolor": "#283442",
           "linecolor": "#506784",
           "ticks": "",
           "title": {
            "standoff": 15
           },
           "zerolinecolor": "#283442",
           "zerolinewidth": 2
          }
         }
        },
        "title": {
         "text": "Popularity vs Chart Power"
        },
        "xaxis": {
         "anchor": "y",
         "domain": [
          0,
          1
         ],
         "title": {
          "text": "Popularity"
         }
        },
        "yaxis": {
         "anchor": "x",
         "categoryarray": [
          "0 - 10",
          "11 - 20",
          "21 - 30",
          "31 - 40",
          "41 - 50",
          "51 - 60",
          "61 - 70",
          "71 - 80",
          "81 - 90",
          "91 - 100"
         ],
         "categoryorder": "array",
         "domain": [
          0,
          1
         ],
         "title": {
          "text": "Chart Power"
         }
        }
       }
      }
     },
     "metadata": {},
     "output_type": "display_data"
    }
   ],
   "source": [
    "def create_heatmap(df_, title=\"Popularity vs Chart Power\"):\n",
    "    fig = px.density_heatmap(df_, x=\"popularity_percentile\", y=\"chart_power_percentile\", nbinsx=10, nbinsy=10, color_continuous_scale=\"Viridis\")\n",
    "    fig.update_yaxes(categoryorder=\"array\", categoryarray=labels)\n",
    "    fig.update_layout(\n",
    "        title=title,\n",
    "        template=\"plotly_dark\",\n",
    "        xaxis_title=\"Popularity\",\n",
    "        yaxis_title=\"Chart Power\"\n",
    "    )\n",
    "    fig.show()\n",
    "\n",
    "create_heatmap(df_found_copy)"
   ]
  },
  {
   "cell_type": "markdown",
   "metadata": {},
   "source": [
    "### Vergleichbarkeit\n",
    "\n",
    "- Vergleich: Deutscher Produktionen an Chartpower Songs vs. Deutsche Produktionen an Spotify Popularity\n",
    "- Zusammensetzung der Populärsten Songs nach Herkunftsländern (Chartpower vs. Spotify Popularity)\n"
   ]
  },
  {
   "cell_type": "code",
   "execution_count": 33,
   "metadata": {},
   "outputs": [],
   "source": [
    "df_comparison = df_found.copy()"
   ]
  },
  {
   "cell_type": "code",
   "execution_count": 34,
   "metadata": {},
   "outputs": [],
   "source": [
    "df_comparison[\"country_code\"] = df_comparison[\"isrc\"].apply(lambda x: x[:2])\n",
    "df_comparison[\"country_code\"] = df_comparison[\"country_code\"].str.upper()\n",
    "df_comparison = df_comparison[df_comparison[\"country_code\"] == \"DE\"]"
   ]
  },
  {
   "cell_type": "code",
   "execution_count": 35,
   "metadata": {},
   "outputs": [],
   "source": [
    "df_comparison = create_percentiles(df_comparison)"
   ]
  },
  {
   "cell_type": "code",
   "execution_count": 44,
   "metadata": {},
   "outputs": [
    {
     "data": {
      "application/vnd.plotly.v1+json": {
       "config": {
        "plotlyServerURL": "https://plot.ly"
       },
       "data": [
        {
         "coloraxis": "coloraxis",
         "hovertemplate": "popularity_percentile=%{x}<br>chart_power_percentile=%{y}<br>count=%{z}<extra></extra>",
         "name": "",
         "nbinsx": 10,
         "nbinsy": 10,
         "type": "histogram2d",
         "x": [
          "0 - 10",
          "0 - 10",
          "0 - 10",
          "0 - 10",
          "0 - 10",
          "0 - 10",
          "0 - 10",
          "0 - 10",
          "0 - 10",
          "0 - 10",
          "0 - 10",
          "0 - 10",
          "0 - 10",
          "0 - 10",
          "0 - 10",
          "0 - 10",
          "0 - 10",
          "0 - 10",
          "0 - 10",
          "0 - 10",
          "0 - 10",
          "0 - 10",
          "0 - 10",
          "0 - 10",
          "0 - 10",
          "0 - 10",
          "0 - 10",
          "0 - 10",
          "0 - 10",
          "0 - 10",
          "0 - 10",
          "0 - 10",
          "0 - 10",
          "0 - 10",
          "0 - 10",
          "0 - 10",
          "0 - 10",
          "0 - 10",
          "0 - 10",
          "0 - 10",
          "0 - 10",
          "0 - 10",
          "0 - 10",
          "0 - 10",
          "0 - 10",
          "0 - 10",
          "0 - 10",
          "0 - 10",
          "0 - 10",
          "0 - 10",
          "0 - 10",
          "11 - 20",
          "11 - 20",
          "11 - 20",
          "11 - 20",
          "11 - 20",
          "11 - 20",
          "11 - 20",
          "11 - 20",
          "11 - 20",
          "11 - 20",
          "11 - 20",
          "11 - 20",
          "11 - 20",
          "11 - 20",
          "11 - 20",
          "11 - 20",
          "11 - 20",
          "11 - 20",
          "11 - 20",
          "11 - 20",
          "11 - 20",
          "11 - 20",
          "11 - 20",
          "11 - 20",
          "11 - 20",
          "11 - 20",
          "11 - 20",
          "11 - 20",
          "11 - 20",
          "11 - 20",
          "11 - 20",
          "11 - 20",
          "11 - 20",
          "11 - 20",
          "11 - 20",
          "11 - 20",
          "11 - 20",
          "11 - 20",
          "11 - 20",
          "11 - 20",
          "11 - 20",
          "11 - 20",
          "11 - 20",
          "11 - 20",
          "11 - 20",
          "11 - 20",
          "11 - 20",
          "11 - 20",
          "11 - 20",
          "11 - 20",
          "11 - 20",
          "11 - 20",
          "11 - 20",
          "11 - 20",
          "11 - 20",
          "21 - 30",
          "21 - 30",
          "21 - 30",
          "21 - 30",
          "21 - 30",
          "21 - 30",
          "21 - 30",
          "21 - 30",
          "21 - 30",
          "21 - 30",
          "21 - 30",
          "21 - 30",
          "21 - 30",
          "21 - 30",
          "21 - 30",
          "21 - 30",
          "21 - 30",
          "21 - 30",
          "21 - 30",
          "21 - 30",
          "21 - 30",
          "21 - 30",
          "21 - 30",
          "21 - 30",
          "21 - 30",
          "21 - 30",
          "21 - 30",
          "21 - 30",
          "21 - 30",
          "21 - 30",
          "21 - 30",
          "21 - 30",
          "21 - 30",
          "21 - 30",
          "21 - 30",
          "21 - 30",
          "21 - 30",
          "21 - 30",
          "21 - 30",
          "21 - 30",
          "21 - 30",
          "21 - 30",
          "21 - 30",
          "21 - 30",
          "21 - 30",
          "21 - 30",
          "21 - 30",
          "31 - 40",
          "31 - 40",
          "31 - 40",
          "31 - 40",
          "31 - 40",
          "31 - 40",
          "31 - 40",
          "31 - 40",
          "31 - 40",
          "31 - 40",
          "31 - 40",
          "31 - 40",
          "31 - 40",
          "31 - 40",
          "31 - 40",
          "31 - 40",
          "31 - 40",
          "31 - 40",
          "31 - 40",
          "31 - 40",
          "31 - 40",
          "31 - 40",
          "31 - 40",
          "31 - 40",
          "31 - 40",
          "31 - 40",
          "31 - 40",
          "31 - 40",
          "31 - 40",
          "31 - 40",
          "31 - 40",
          "31 - 40",
          "31 - 40",
          "31 - 40",
          "31 - 40",
          "31 - 40",
          "31 - 40",
          "31 - 40",
          "31 - 40",
          "31 - 40",
          "31 - 40",
          "31 - 40",
          "31 - 40",
          "31 - 40",
          "31 - 40",
          "31 - 40",
          "31 - 40",
          "31 - 40",
          "31 - 40",
          "31 - 40",
          "31 - 40",
          "31 - 40",
          "31 - 40",
          "31 - 40",
          "31 - 40",
          "31 - 40",
          "31 - 40",
          "31 - 40",
          "41 - 50",
          "41 - 50",
          "41 - 50",
          "41 - 50",
          "41 - 50",
          "41 - 50",
          "41 - 50",
          "41 - 50",
          "41 - 50",
          "41 - 50",
          "41 - 50",
          "41 - 50",
          "41 - 50",
          "41 - 50",
          "41 - 50",
          "41 - 50",
          "41 - 50",
          "41 - 50",
          "41 - 50",
          "41 - 50",
          "41 - 50",
          "41 - 50",
          "41 - 50",
          "41 - 50",
          "41 - 50",
          "41 - 50",
          "41 - 50",
          "41 - 50",
          "41 - 50",
          "41 - 50",
          "41 - 50",
          "41 - 50",
          "41 - 50",
          "41 - 50",
          "41 - 50",
          "41 - 50",
          "41 - 50",
          "41 - 50",
          "41 - 50",
          "41 - 50",
          "51 - 60",
          "51 - 60",
          "51 - 60",
          "51 - 60",
          "51 - 60",
          "51 - 60",
          "51 - 60",
          "51 - 60",
          "51 - 60",
          "51 - 60",
          "51 - 60",
          "51 - 60",
          "51 - 60",
          "51 - 60",
          "51 - 60",
          "51 - 60",
          "51 - 60",
          "51 - 60",
          "51 - 60",
          "51 - 60",
          "51 - 60",
          "51 - 60",
          "51 - 60",
          "51 - 60",
          "51 - 60",
          "51 - 60",
          "51 - 60",
          "51 - 60",
          "51 - 60",
          "51 - 60",
          "51 - 60",
          "51 - 60",
          "51 - 60",
          "51 - 60",
          "51 - 60",
          "51 - 60",
          "51 - 60",
          "51 - 60",
          "51 - 60",
          "51 - 60",
          "51 - 60",
          "51 - 60",
          "51 - 60",
          "51 - 60",
          "51 - 60",
          "51 - 60",
          "51 - 60",
          "51 - 60",
          "51 - 60",
          "51 - 60",
          "51 - 60",
          "51 - 60",
          "51 - 60",
          "51 - 60",
          "51 - 60",
          "51 - 60",
          "51 - 60",
          "61 - 70",
          "61 - 70",
          "61 - 70",
          "61 - 70",
          "61 - 70",
          "61 - 70",
          "61 - 70",
          "61 - 70",
          "61 - 70",
          "61 - 70",
          "61 - 70",
          "61 - 70",
          "61 - 70",
          "61 - 70",
          "61 - 70",
          "61 - 70",
          "61 - 70",
          "61 - 70",
          "61 - 70",
          "61 - 70",
          "61 - 70",
          "61 - 70",
          "61 - 70",
          "61 - 70",
          "61 - 70",
          "61 - 70",
          "61 - 70",
          "61 - 70",
          "61 - 70",
          "61 - 70",
          "61 - 70",
          "61 - 70",
          "61 - 70",
          "61 - 70",
          "61 - 70",
          "61 - 70",
          "61 - 70",
          "61 - 70",
          "61 - 70",
          "61 - 70",
          "61 - 70",
          "61 - 70",
          "61 - 70",
          "61 - 70",
          "61 - 70",
          "61 - 70",
          "61 - 70",
          "61 - 70",
          "61 - 70",
          "61 - 70",
          "71 - 80",
          "71 - 80",
          "71 - 80",
          "71 - 80",
          "71 - 80",
          "71 - 80",
          "71 - 80",
          "71 - 80",
          "71 - 80",
          "71 - 80",
          "71 - 80",
          "71 - 80",
          "71 - 80",
          "71 - 80",
          "71 - 80",
          "71 - 80",
          "71 - 80",
          "71 - 80",
          "71 - 80",
          "71 - 80",
          "71 - 80",
          "71 - 80",
          "71 - 80",
          "71 - 80",
          "71 - 80",
          "71 - 80",
          "71 - 80",
          "71 - 80",
          "71 - 80",
          "71 - 80",
          "71 - 80",
          "71 - 80",
          "71 - 80",
          "71 - 80",
          "71 - 80",
          "71 - 80",
          "71 - 80",
          "71 - 80",
          "71 - 80",
          "71 - 80",
          "71 - 80",
          "71 - 80",
          "71 - 80",
          "71 - 80",
          "71 - 80",
          "71 - 80",
          "71 - 80",
          "71 - 80",
          "81 - 90",
          "81 - 90",
          "81 - 90",
          "81 - 90",
          "81 - 90",
          "81 - 90",
          "81 - 90",
          "81 - 90",
          "81 - 90",
          "81 - 90",
          "81 - 90",
          "81 - 90",
          "81 - 90",
          "81 - 90",
          "81 - 90",
          "81 - 90",
          "81 - 90",
          "81 - 90",
          "81 - 90",
          "81 - 90",
          "81 - 90",
          "81 - 90",
          "81 - 90",
          "81 - 90",
          "81 - 90",
          "81 - 90",
          "81 - 90",
          "81 - 90",
          "81 - 90",
          "81 - 90",
          "81 - 90",
          "81 - 90",
          "81 - 90",
          "81 - 90",
          "81 - 90",
          "81 - 90",
          "81 - 90",
          "81 - 90",
          "81 - 90",
          "81 - 90",
          "81 - 90",
          "81 - 90",
          "81 - 90",
          "81 - 90",
          "81 - 90",
          "81 - 90",
          "81 - 90",
          "81 - 90",
          "81 - 90",
          "81 - 90",
          "81 - 90",
          "81 - 90",
          "81 - 90",
          "81 - 90",
          "91 - 100",
          "91 - 100",
          "91 - 100",
          "91 - 100",
          "91 - 100",
          "91 - 100",
          "91 - 100",
          "91 - 100",
          "91 - 100",
          "91 - 100",
          "91 - 100",
          "91 - 100",
          "91 - 100",
          "91 - 100",
          "91 - 100",
          "91 - 100",
          "91 - 100",
          "91 - 100",
          "91 - 100",
          "91 - 100",
          "91 - 100",
          "91 - 100",
          "91 - 100",
          "91 - 100",
          "91 - 100",
          "91 - 100",
          "91 - 100",
          "91 - 100",
          "91 - 100",
          "91 - 100",
          "91 - 100",
          "91 - 100",
          "91 - 100",
          "91 - 100",
          "91 - 100",
          "91 - 100",
          "91 - 100",
          "91 - 100",
          "91 - 100",
          "91 - 100",
          "91 - 100",
          "91 - 100",
          "91 - 100",
          "91 - 100"
         ],
         "xaxis": "x",
         "xbingroup": "x",
         "y": [
          "0 - 10",
          "31 - 40",
          "11 - 20",
          "71 - 80",
          "71 - 80",
          "21 - 30",
          "31 - 40",
          "71 - 80",
          "51 - 60",
          "71 - 80",
          "41 - 50",
          "41 - 50",
          "0 - 10",
          "91 - 100",
          "11 - 20",
          "11 - 20",
          "31 - 40",
          "51 - 60",
          "51 - 60",
          "21 - 30",
          "11 - 20",
          "21 - 30",
          "0 - 10",
          "11 - 20",
          "11 - 20",
          "61 - 70",
          "81 - 90",
          "71 - 80",
          "0 - 10",
          "0 - 10",
          "11 - 20",
          "0 - 10",
          "61 - 70",
          "81 - 90",
          "0 - 10",
          "31 - 40",
          "81 - 90",
          "51 - 60",
          "11 - 20",
          "11 - 20",
          "31 - 40",
          "91 - 100",
          "61 - 70",
          "0 - 10",
          "21 - 30",
          "51 - 60",
          "21 - 30",
          "31 - 40",
          "41 - 50",
          "41 - 50",
          "21 - 30",
          "51 - 60",
          "91 - 100",
          "31 - 40",
          "51 - 60",
          "31 - 40",
          "11 - 20",
          "21 - 30",
          "81 - 90",
          "51 - 60",
          "0 - 10",
          "91 - 100",
          "91 - 100",
          "61 - 70",
          "41 - 50",
          "41 - 50",
          "11 - 20",
          "11 - 20",
          "31 - 40",
          "81 - 90",
          "91 - 100",
          "0 - 10",
          "61 - 70",
          "0 - 10",
          "11 - 20",
          "11 - 20",
          "0 - 10",
          "41 - 50",
          "21 - 30",
          "11 - 20",
          "21 - 30",
          "21 - 30",
          "0 - 10",
          "21 - 30",
          "51 - 60",
          "31 - 40",
          "91 - 100",
          "51 - 60",
          "71 - 80",
          "71 - 80",
          "61 - 70",
          "0 - 10",
          "11 - 20",
          "81 - 90",
          "21 - 30",
          "0 - 10",
          "31 - 40",
          "0 - 10",
          "41 - 50",
          "0 - 10",
          "81 - 90",
          "71 - 80",
          "11 - 20",
          "31 - 40",
          "61 - 70",
          "61 - 70",
          "31 - 40",
          "81 - 90",
          "41 - 50",
          "31 - 40",
          "91 - 100",
          "51 - 60",
          "11 - 20",
          "11 - 20",
          "81 - 90",
          "41 - 50",
          "61 - 70",
          "0 - 10",
          "0 - 10",
          "31 - 40",
          "31 - 40",
          "31 - 40",
          "91 - 100",
          "11 - 20",
          "11 - 20",
          "51 - 60",
          "0 - 10",
          "0 - 10",
          "71 - 80",
          "51 - 60",
          "61 - 70",
          "21 - 30",
          "0 - 10",
          "51 - 60",
          "71 - 80",
          "41 - 50",
          "11 - 20",
          "81 - 90",
          "21 - 30",
          "0 - 10",
          "11 - 20",
          "51 - 60",
          "91 - 100",
          "21 - 30",
          "21 - 30",
          "0 - 10",
          "31 - 40",
          "51 - 60",
          "21 - 30",
          "51 - 60",
          "61 - 70",
          "51 - 60",
          "51 - 60",
          "91 - 100",
          "41 - 50",
          "51 - 60",
          "41 - 50",
          "41 - 50",
          "31 - 40",
          "41 - 50",
          "0 - 10",
          "0 - 10",
          "0 - 10",
          "21 - 30",
          "11 - 20",
          "21 - 30",
          "71 - 80",
          "0 - 10",
          "0 - 10",
          "21 - 30",
          "21 - 30",
          "11 - 20",
          "11 - 20",
          "31 - 40",
          "71 - 80",
          "71 - 80",
          "41 - 50",
          "31 - 40",
          "91 - 100",
          "71 - 80",
          "0 - 10",
          "21 - 30",
          "91 - 100",
          "71 - 80",
          "61 - 70",
          "51 - 60",
          "21 - 30",
          "41 - 50",
          "91 - 100",
          "81 - 90",
          "61 - 70",
          "0 - 10",
          "61 - 70",
          "81 - 90",
          "71 - 80",
          "11 - 20",
          "21 - 30",
          "21 - 30",
          "61 - 70",
          "71 - 80",
          "41 - 50",
          "41 - 50",
          "91 - 100",
          "21 - 30",
          "61 - 70",
          "81 - 90",
          "0 - 10",
          "41 - 50",
          "71 - 80",
          "11 - 20",
          "21 - 30",
          "81 - 90",
          "51 - 60",
          "51 - 60",
          "21 - 30",
          "51 - 60",
          "51 - 60",
          "21 - 30",
          "41 - 50",
          "51 - 60",
          "31 - 40",
          "31 - 40",
          "21 - 30",
          "21 - 30",
          "71 - 80",
          "71 - 80",
          "71 - 80",
          "11 - 20",
          "81 - 90",
          "0 - 10",
          "81 - 90",
          "11 - 20",
          "41 - 50",
          "0 - 10",
          "0 - 10",
          "61 - 70",
          "21 - 30",
          "61 - 70",
          "41 - 50",
          "81 - 90",
          "61 - 70",
          "51 - 60",
          "61 - 70",
          "21 - 30",
          "71 - 80",
          "81 - 90",
          "0 - 10",
          "71 - 80",
          "51 - 60",
          "41 - 50",
          "21 - 30",
          "61 - 70",
          "21 - 30",
          "61 - 70",
          "41 - 50",
          "91 - 100",
          "81 - 90",
          "51 - 60",
          "41 - 50",
          "31 - 40",
          "41 - 50",
          "81 - 90",
          "41 - 50",
          "51 - 60",
          "31 - 40",
          "61 - 70",
          "61 - 70",
          "41 - 50",
          "61 - 70",
          "11 - 20",
          "41 - 50",
          "41 - 50",
          "91 - 100",
          "11 - 20",
          "81 - 90",
          "61 - 70",
          "41 - 50",
          "0 - 10",
          "91 - 100",
          "21 - 30",
          "21 - 30",
          "41 - 50",
          "31 - 40",
          "41 - 50",
          "41 - 50",
          "21 - 30",
          "71 - 80",
          "11 - 20",
          "71 - 80",
          "11 - 20",
          "11 - 20",
          "71 - 80",
          "0 - 10",
          "11 - 20",
          "51 - 60",
          "41 - 50",
          "71 - 80",
          "71 - 80",
          "41 - 50",
          "81 - 90",
          "51 - 60",
          "11 - 20",
          "41 - 50",
          "0 - 10",
          "31 - 40",
          "61 - 70",
          "41 - 50",
          "21 - 30",
          "61 - 70",
          "11 - 20",
          "61 - 70",
          "61 - 70",
          "61 - 70",
          "31 - 40",
          "31 - 40",
          "11 - 20",
          "41 - 50",
          "21 - 30",
          "0 - 10",
          "0 - 10",
          "91 - 100",
          "11 - 20",
          "51 - 60",
          "0 - 10",
          "51 - 60",
          "0 - 10",
          "31 - 40",
          "21 - 30",
          "0 - 10",
          "61 - 70",
          "31 - 40",
          "11 - 20",
          "21 - 30",
          "51 - 60",
          "0 - 10",
          "41 - 50",
          "31 - 40",
          "31 - 40",
          "61 - 70",
          "21 - 30",
          "11 - 20",
          "41 - 50",
          "31 - 40",
          "11 - 20",
          "51 - 60",
          "21 - 30",
          "0 - 10",
          "31 - 40",
          "31 - 40",
          "71 - 80",
          "51 - 60",
          "71 - 80",
          "71 - 80",
          "71 - 80",
          "31 - 40",
          "11 - 20",
          "41 - 50",
          "91 - 100",
          "81 - 90",
          "71 - 80",
          "31 - 40",
          "31 - 40",
          "71 - 80",
          "91 - 100",
          "61 - 70",
          "31 - 40",
          "91 - 100",
          "61 - 70",
          "11 - 20",
          "71 - 80",
          "71 - 80",
          "51 - 60",
          "81 - 90",
          "51 - 60",
          "61 - 70",
          "81 - 90",
          "51 - 60",
          "81 - 90",
          "21 - 30",
          "91 - 100",
          "61 - 70",
          "51 - 60",
          "21 - 30",
          "91 - 100",
          "21 - 30",
          "71 - 80",
          "0 - 10",
          "81 - 90",
          "81 - 90",
          "81 - 90",
          "61 - 70",
          "81 - 90",
          "81 - 90",
          "81 - 90",
          "81 - 90",
          "61 - 70",
          "51 - 60",
          "91 - 100",
          "41 - 50",
          "61 - 70",
          "81 - 90",
          "31 - 40",
          "61 - 70",
          "41 - 50",
          "71 - 80",
          "61 - 70",
          "91 - 100",
          "0 - 10",
          "61 - 70",
          "21 - 30",
          "81 - 90",
          "31 - 40",
          "0 - 10",
          "51 - 60",
          "71 - 80",
          "0 - 10",
          "81 - 90",
          "11 - 20",
          "91 - 100",
          "31 - 40",
          "91 - 100",
          "91 - 100",
          "41 - 50",
          "11 - 20",
          "81 - 90",
          "91 - 100",
          "0 - 10",
          "91 - 100",
          "51 - 60",
          "31 - 40",
          "31 - 40",
          "0 - 10",
          "31 - 40",
          "31 - 40",
          "61 - 70",
          "81 - 90",
          "0 - 10",
          "71 - 80",
          "51 - 60",
          "81 - 90",
          "81 - 90",
          "51 - 60",
          "91 - 100",
          "51 - 60",
          "71 - 80",
          "51 - 60",
          "71 - 80",
          "11 - 20",
          "81 - 90",
          "31 - 40",
          "91 - 100",
          "41 - 50",
          "91 - 100",
          "41 - 50",
          "81 - 90",
          "81 - 90",
          "61 - 70",
          "91 - 100",
          "21 - 30",
          "81 - 90",
          "0 - 10",
          "81 - 90",
          "11 - 20",
          "81 - 90",
          "91 - 100",
          "91 - 100",
          "41 - 50",
          "41 - 50",
          "91 - 100",
          "71 - 80",
          "21 - 30",
          "71 - 80",
          "61 - 70",
          "91 - 100",
          "41 - 50",
          "51 - 60",
          "71 - 80",
          "21 - 30",
          "91 - 100",
          "31 - 40",
          "91 - 100",
          "71 - 80",
          "81 - 90",
          "11 - 20",
          "61 - 70",
          "91 - 100",
          "51 - 60",
          "31 - 40",
          "91 - 100",
          "81 - 90",
          "81 - 90",
          "61 - 70",
          "61 - 70",
          "91 - 100",
          "71 - 80",
          "61 - 70",
          "71 - 80",
          "91 - 100",
          "91 - 100",
          "11 - 20",
          "81 - 90",
          "71 - 80",
          "81 - 90",
          "71 - 80"
         ],
         "yaxis": "y",
         "ybingroup": "y"
        }
       ],
       "layout": {
        "coloraxis": {
         "colorbar": {
          "title": {
           "text": "count"
          }
         },
         "colorscale": [
          [
           0,
           "#440154"
          ],
          [
           0.1111111111111111,
           "#482878"
          ],
          [
           0.2222222222222222,
           "#3e4989"
          ],
          [
           0.3333333333333333,
           "#31688e"
          ],
          [
           0.4444444444444444,
           "#26828e"
          ],
          [
           0.5555555555555556,
           "#1f9e89"
          ],
          [
           0.6666666666666666,
           "#35b779"
          ],
          [
           0.7777777777777778,
           "#6ece58"
          ],
          [
           0.8888888888888888,
           "#b5de2b"
          ],
          [
           1,
           "#fde725"
          ]
         ]
        },
        "legend": {
         "tracegroupgap": 0
        },
        "margin": {
         "t": 60
        },
        "template": {
         "data": {
          "bar": [
           {
            "error_x": {
             "color": "#f2f5fa"
            },
            "error_y": {
             "color": "#f2f5fa"
            },
            "marker": {
             "line": {
              "color": "rgb(17,17,17)",
              "width": 0.5
             },
             "pattern": {
              "fillmode": "overlay",
              "size": 10,
              "solidity": 0.2
             }
            },
            "type": "bar"
           }
          ],
          "barpolar": [
           {
            "marker": {
             "line": {
              "color": "rgb(17,17,17)",
              "width": 0.5
             },
             "pattern": {
              "fillmode": "overlay",
              "size": 10,
              "solidity": 0.2
             }
            },
            "type": "barpolar"
           }
          ],
          "carpet": [
           {
            "aaxis": {
             "endlinecolor": "#A2B1C6",
             "gridcolor": "#506784",
             "linecolor": "#506784",
             "minorgridcolor": "#506784",
             "startlinecolor": "#A2B1C6"
            },
            "baxis": {
             "endlinecolor": "#A2B1C6",
             "gridcolor": "#506784",
             "linecolor": "#506784",
             "minorgridcolor": "#506784",
             "startlinecolor": "#A2B1C6"
            },
            "type": "carpet"
           }
          ],
          "choropleth": [
           {
            "colorbar": {
             "outlinewidth": 0,
             "ticks": ""
            },
            "type": "choropleth"
           }
          ],
          "contour": [
           {
            "colorbar": {
             "outlinewidth": 0,
             "ticks": ""
            },
            "colorscale": [
             [
              0,
              "#0d0887"
             ],
             [
              0.1111111111111111,
              "#46039f"
             ],
             [
              0.2222222222222222,
              "#7201a8"
             ],
             [
              0.3333333333333333,
              "#9c179e"
             ],
             [
              0.4444444444444444,
              "#bd3786"
             ],
             [
              0.5555555555555556,
              "#d8576b"
             ],
             [
              0.6666666666666666,
              "#ed7953"
             ],
             [
              0.7777777777777778,
              "#fb9f3a"
             ],
             [
              0.8888888888888888,
              "#fdca26"
             ],
             [
              1,
              "#f0f921"
             ]
            ],
            "type": "contour"
           }
          ],
          "contourcarpet": [
           {
            "colorbar": {
             "outlinewidth": 0,
             "ticks": ""
            },
            "type": "contourcarpet"
           }
          ],
          "heatmap": [
           {
            "colorbar": {
             "outlinewidth": 0,
             "ticks": ""
            },
            "colorscale": [
             [
              0,
              "#0d0887"
             ],
             [
              0.1111111111111111,
              "#46039f"
             ],
             [
              0.2222222222222222,
              "#7201a8"
             ],
             [
              0.3333333333333333,
              "#9c179e"
             ],
             [
              0.4444444444444444,
              "#bd3786"
             ],
             [
              0.5555555555555556,
              "#d8576b"
             ],
             [
              0.6666666666666666,
              "#ed7953"
             ],
             [
              0.7777777777777778,
              "#fb9f3a"
             ],
             [
              0.8888888888888888,
              "#fdca26"
             ],
             [
              1,
              "#f0f921"
             ]
            ],
            "type": "heatmap"
           }
          ],
          "heatmapgl": [
           {
            "colorbar": {
             "outlinewidth": 0,
             "ticks": ""
            },
            "colorscale": [
             [
              0,
              "#0d0887"
             ],
             [
              0.1111111111111111,
              "#46039f"
             ],
             [
              0.2222222222222222,
              "#7201a8"
             ],
             [
              0.3333333333333333,
              "#9c179e"
             ],
             [
              0.4444444444444444,
              "#bd3786"
             ],
             [
              0.5555555555555556,
              "#d8576b"
             ],
             [
              0.6666666666666666,
              "#ed7953"
             ],
             [
              0.7777777777777778,
              "#fb9f3a"
             ],
             [
              0.8888888888888888,
              "#fdca26"
             ],
             [
              1,
              "#f0f921"
             ]
            ],
            "type": "heatmapgl"
           }
          ],
          "histogram": [
           {
            "marker": {
             "pattern": {
              "fillmode": "overlay",
              "size": 10,
              "solidity": 0.2
             }
            },
            "type": "histogram"
           }
          ],
          "histogram2d": [
           {
            "colorbar": {
             "outlinewidth": 0,
             "ticks": ""
            },
            "colorscale": [
             [
              0,
              "#0d0887"
             ],
             [
              0.1111111111111111,
              "#46039f"
             ],
             [
              0.2222222222222222,
              "#7201a8"
             ],
             [
              0.3333333333333333,
              "#9c179e"
             ],
             [
              0.4444444444444444,
              "#bd3786"
             ],
             [
              0.5555555555555556,
              "#d8576b"
             ],
             [
              0.6666666666666666,
              "#ed7953"
             ],
             [
              0.7777777777777778,
              "#fb9f3a"
             ],
             [
              0.8888888888888888,
              "#fdca26"
             ],
             [
              1,
              "#f0f921"
             ]
            ],
            "type": "histogram2d"
           }
          ],
          "histogram2dcontour": [
           {
            "colorbar": {
             "outlinewidth": 0,
             "ticks": ""
            },
            "colorscale": [
             [
              0,
              "#0d0887"
             ],
             [
              0.1111111111111111,
              "#46039f"
             ],
             [
              0.2222222222222222,
              "#7201a8"
             ],
             [
              0.3333333333333333,
              "#9c179e"
             ],
             [
              0.4444444444444444,
              "#bd3786"
             ],
             [
              0.5555555555555556,
              "#d8576b"
             ],
             [
              0.6666666666666666,
              "#ed7953"
             ],
             [
              0.7777777777777778,
              "#fb9f3a"
             ],
             [
              0.8888888888888888,
              "#fdca26"
             ],
             [
              1,
              "#f0f921"
             ]
            ],
            "type": "histogram2dcontour"
           }
          ],
          "mesh3d": [
           {
            "colorbar": {
             "outlinewidth": 0,
             "ticks": ""
            },
            "type": "mesh3d"
           }
          ],
          "parcoords": [
           {
            "line": {
             "colorbar": {
              "outlinewidth": 0,
              "ticks": ""
             }
            },
            "type": "parcoords"
           }
          ],
          "pie": [
           {
            "automargin": true,
            "type": "pie"
           }
          ],
          "scatter": [
           {
            "marker": {
             "line": {
              "color": "#283442"
             }
            },
            "type": "scatter"
           }
          ],
          "scatter3d": [
           {
            "line": {
             "colorbar": {
              "outlinewidth": 0,
              "ticks": ""
             }
            },
            "marker": {
             "colorbar": {
              "outlinewidth": 0,
              "ticks": ""
             }
            },
            "type": "scatter3d"
           }
          ],
          "scattercarpet": [
           {
            "marker": {
             "colorbar": {
              "outlinewidth": 0,
              "ticks": ""
             }
            },
            "type": "scattercarpet"
           }
          ],
          "scattergeo": [
           {
            "marker": {
             "colorbar": {
              "outlinewidth": 0,
              "ticks": ""
             }
            },
            "type": "scattergeo"
           }
          ],
          "scattergl": [
           {
            "marker": {
             "line": {
              "color": "#283442"
             }
            },
            "type": "scattergl"
           }
          ],
          "scattermapbox": [
           {
            "marker": {
             "colorbar": {
              "outlinewidth": 0,
              "ticks": ""
             }
            },
            "type": "scattermapbox"
           }
          ],
          "scatterpolar": [
           {
            "marker": {
             "colorbar": {
              "outlinewidth": 0,
              "ticks": ""
             }
            },
            "type": "scatterpolar"
           }
          ],
          "scatterpolargl": [
           {
            "marker": {
             "colorbar": {
              "outlinewidth": 0,
              "ticks": ""
             }
            },
            "type": "scatterpolargl"
           }
          ],
          "scatterternary": [
           {
            "marker": {
             "colorbar": {
              "outlinewidth": 0,
              "ticks": ""
             }
            },
            "type": "scatterternary"
           }
          ],
          "surface": [
           {
            "colorbar": {
             "outlinewidth": 0,
             "ticks": ""
            },
            "colorscale": [
             [
              0,
              "#0d0887"
             ],
             [
              0.1111111111111111,
              "#46039f"
             ],
             [
              0.2222222222222222,
              "#7201a8"
             ],
             [
              0.3333333333333333,
              "#9c179e"
             ],
             [
              0.4444444444444444,
              "#bd3786"
             ],
             [
              0.5555555555555556,
              "#d8576b"
             ],
             [
              0.6666666666666666,
              "#ed7953"
             ],
             [
              0.7777777777777778,
              "#fb9f3a"
             ],
             [
              0.8888888888888888,
              "#fdca26"
             ],
             [
              1,
              "#f0f921"
             ]
            ],
            "type": "surface"
           }
          ],
          "table": [
           {
            "cells": {
             "fill": {
              "color": "#506784"
             },
             "line": {
              "color": "rgb(17,17,17)"
             }
            },
            "header": {
             "fill": {
              "color": "#2a3f5f"
             },
             "line": {
              "color": "rgb(17,17,17)"
             }
            },
            "type": "table"
           }
          ]
         },
         "layout": {
          "annotationdefaults": {
           "arrowcolor": "#f2f5fa",
           "arrowhead": 0,
           "arrowwidth": 1
          },
          "autotypenumbers": "strict",
          "coloraxis": {
           "colorbar": {
            "outlinewidth": 0,
            "ticks": ""
           }
          },
          "colorscale": {
           "diverging": [
            [
             0,
             "#8e0152"
            ],
            [
             0.1,
             "#c51b7d"
            ],
            [
             0.2,
             "#de77ae"
            ],
            [
             0.3,
             "#f1b6da"
            ],
            [
             0.4,
             "#fde0ef"
            ],
            [
             0.5,
             "#f7f7f7"
            ],
            [
             0.6,
             "#e6f5d0"
            ],
            [
             0.7,
             "#b8e186"
            ],
            [
             0.8,
             "#7fbc41"
            ],
            [
             0.9,
             "#4d9221"
            ],
            [
             1,
             "#276419"
            ]
           ],
           "sequential": [
            [
             0,
             "#0d0887"
            ],
            [
             0.1111111111111111,
             "#46039f"
            ],
            [
             0.2222222222222222,
             "#7201a8"
            ],
            [
             0.3333333333333333,
             "#9c179e"
            ],
            [
             0.4444444444444444,
             "#bd3786"
            ],
            [
             0.5555555555555556,
             "#d8576b"
            ],
            [
             0.6666666666666666,
             "#ed7953"
            ],
            [
             0.7777777777777778,
             "#fb9f3a"
            ],
            [
             0.8888888888888888,
             "#fdca26"
            ],
            [
             1,
             "#f0f921"
            ]
           ],
           "sequentialminus": [
            [
             0,
             "#0d0887"
            ],
            [
             0.1111111111111111,
             "#46039f"
            ],
            [
             0.2222222222222222,
             "#7201a8"
            ],
            [
             0.3333333333333333,
             "#9c179e"
            ],
            [
             0.4444444444444444,
             "#bd3786"
            ],
            [
             0.5555555555555556,
             "#d8576b"
            ],
            [
             0.6666666666666666,
             "#ed7953"
            ],
            [
             0.7777777777777778,
             "#fb9f3a"
            ],
            [
             0.8888888888888888,
             "#fdca26"
            ],
            [
             1,
             "#f0f921"
            ]
           ]
          },
          "colorway": [
           "#636efa",
           "#EF553B",
           "#00cc96",
           "#ab63fa",
           "#FFA15A",
           "#19d3f3",
           "#FF6692",
           "#B6E880",
           "#FF97FF",
           "#FECB52"
          ],
          "font": {
           "color": "#f2f5fa"
          },
          "geo": {
           "bgcolor": "rgb(17,17,17)",
           "lakecolor": "rgb(17,17,17)",
           "landcolor": "rgb(17,17,17)",
           "showlakes": true,
           "showland": true,
           "subunitcolor": "#506784"
          },
          "hoverlabel": {
           "align": "left"
          },
          "hovermode": "closest",
          "mapbox": {
           "style": "dark"
          },
          "paper_bgcolor": "rgb(17,17,17)",
          "plot_bgcolor": "rgb(17,17,17)",
          "polar": {
           "angularaxis": {
            "gridcolor": "#506784",
            "linecolor": "#506784",
            "ticks": ""
           },
           "bgcolor": "rgb(17,17,17)",
           "radialaxis": {
            "gridcolor": "#506784",
            "linecolor": "#506784",
            "ticks": ""
           }
          },
          "scene": {
           "xaxis": {
            "backgroundcolor": "rgb(17,17,17)",
            "gridcolor": "#506784",
            "gridwidth": 2,
            "linecolor": "#506784",
            "showbackground": true,
            "ticks": "",
            "zerolinecolor": "#C8D4E3"
           },
           "yaxis": {
            "backgroundcolor": "rgb(17,17,17)",
            "gridcolor": "#506784",
            "gridwidth": 2,
            "linecolor": "#506784",
            "showbackground": true,
            "ticks": "",
            "zerolinecolor": "#C8D4E3"
           },
           "zaxis": {
            "backgroundcolor": "rgb(17,17,17)",
            "gridcolor": "#506784",
            "gridwidth": 2,
            "linecolor": "#506784",
            "showbackground": true,
            "ticks": "",
            "zerolinecolor": "#C8D4E3"
           }
          },
          "shapedefaults": {
           "line": {
            "color": "#f2f5fa"
           }
          },
          "sliderdefaults": {
           "bgcolor": "#C8D4E3",
           "bordercolor": "rgb(17,17,17)",
           "borderwidth": 1,
           "tickwidth": 0
          },
          "ternary": {
           "aaxis": {
            "gridcolor": "#506784",
            "linecolor": "#506784",
            "ticks": ""
           },
           "baxis": {
            "gridcolor": "#506784",
            "linecolor": "#506784",
            "ticks": ""
           },
           "bgcolor": "rgb(17,17,17)",
           "caxis": {
            "gridcolor": "#506784",
            "linecolor": "#506784",
            "ticks": ""
           }
          },
          "title": {
           "x": 0.05
          },
          "updatemenudefaults": {
           "bgcolor": "#506784",
           "borderwidth": 0
          },
          "xaxis": {
           "automargin": true,
           "gridcolor": "#283442",
           "linecolor": "#506784",
           "ticks": "",
           "title": {
            "standoff": 15
           },
           "zerolinecolor": "#283442",
           "zerolinewidth": 2
          },
          "yaxis": {
           "automargin": true,
           "gridcolor": "#283442",
           "linecolor": "#506784",
           "ticks": "",
           "title": {
            "standoff": 15
           },
           "zerolinecolor": "#283442",
           "zerolinewidth": 2
          }
         }
        },
        "title": {
         "text": "Popularity vs Chart Power - DE"
        },
        "xaxis": {
         "anchor": "y",
         "domain": [
          0,
          1
         ],
         "title": {
          "text": "Popularity"
         }
        },
        "yaxis": {
         "anchor": "x",
         "categoryarray": [
          "0 - 10",
          "11 - 20",
          "21 - 30",
          "31 - 40",
          "41 - 50",
          "51 - 60",
          "61 - 70",
          "71 - 80",
          "81 - 90",
          "91 - 100"
         ],
         "categoryorder": "array",
         "domain": [
          0,
          1
         ],
         "title": {
          "text": "Chart Power"
         }
        }
       }
      }
     },
     "metadata": {},
     "output_type": "display_data"
    }
   ],
   "source": [
    "create_heatmap(df_comparison, \"Popularity vs Chart Power - DE\")"
   ]
  },
  {
   "cell_type": "code",
   "execution_count": 45,
   "metadata": {},
   "outputs": [
    {
     "data": {
      "application/vnd.plotly.v1+json": {
       "config": {
        "plotlyServerURL": "https://plot.ly"
       },
       "data": [
        {
         "coloraxis": "coloraxis",
         "hovertemplate": "popularity_percentile=%{x}<br>chart_power_percentile=%{y}<br>count=%{z}<extra></extra>",
         "name": "",
         "nbinsx": 10,
         "nbinsy": 10,
         "type": "histogram2d",
         "x": [
          "0 - 10",
          "0 - 10",
          "0 - 10",
          "0 - 10",
          "0 - 10",
          "0 - 10",
          "0 - 10",
          "0 - 10",
          "0 - 10",
          "0 - 10",
          "0 - 10",
          "0 - 10",
          "0 - 10",
          "0 - 10",
          "0 - 10",
          "0 - 10",
          "0 - 10",
          "0 - 10",
          "0 - 10",
          "0 - 10",
          "0 - 10",
          "0 - 10",
          "0 - 10",
          "0 - 10",
          "0 - 10",
          "0 - 10",
          "0 - 10",
          "0 - 10",
          "0 - 10",
          "0 - 10",
          "0 - 10",
          "0 - 10",
          "0 - 10",
          "0 - 10",
          "0 - 10",
          "0 - 10",
          "0 - 10",
          "0 - 10",
          "0 - 10",
          "0 - 10",
          "0 - 10",
          "0 - 10",
          "0 - 10",
          "0 - 10",
          "0 - 10",
          "0 - 10",
          "0 - 10",
          "0 - 10",
          "0 - 10",
          "0 - 10",
          "0 - 10",
          "0 - 10",
          "0 - 10",
          "0 - 10",
          "0 - 10",
          "0 - 10",
          "0 - 10",
          "0 - 10",
          "0 - 10",
          "0 - 10",
          "0 - 10",
          "0 - 10",
          "0 - 10",
          "0 - 10",
          "0 - 10",
          "0 - 10",
          "0 - 10",
          "0 - 10",
          "0 - 10",
          "0 - 10",
          "0 - 10",
          "0 - 10",
          "0 - 10",
          "0 - 10",
          "0 - 10",
          "0 - 10",
          "0 - 10",
          "0 - 10",
          "0 - 10",
          "0 - 10",
          "0 - 10",
          "0 - 10",
          "0 - 10",
          "0 - 10",
          "0 - 10",
          "0 - 10",
          "0 - 10",
          "0 - 10",
          "0 - 10",
          "0 - 10",
          "0 - 10",
          "0 - 10",
          "0 - 10",
          "0 - 10",
          "0 - 10",
          "0 - 10",
          "0 - 10",
          "0 - 10",
          "0 - 10",
          "0 - 10",
          "0 - 10",
          "0 - 10",
          "0 - 10",
          "0 - 10",
          "0 - 10",
          "0 - 10",
          "0 - 10",
          "0 - 10",
          "0 - 10",
          "0 - 10",
          "0 - 10",
          "0 - 10",
          "0 - 10",
          "0 - 10",
          "0 - 10",
          "0 - 10",
          "0 - 10",
          "0 - 10",
          "0 - 10",
          "0 - 10",
          "0 - 10",
          "0 - 10",
          "0 - 10",
          "0 - 10",
          "0 - 10",
          "0 - 10",
          "0 - 10",
          "0 - 10",
          "0 - 10",
          "0 - 10",
          "0 - 10",
          "0 - 10",
          "0 - 10",
          "0 - 10",
          "0 - 10",
          "0 - 10",
          "0 - 10",
          "0 - 10",
          "0 - 10",
          "0 - 10",
          "0 - 10",
          "0 - 10",
          "0 - 10",
          "0 - 10",
          "0 - 10",
          "0 - 10",
          "0 - 10",
          "0 - 10",
          "0 - 10",
          "0 - 10",
          "0 - 10",
          "0 - 10",
          "0 - 10",
          "0 - 10",
          "0 - 10",
          "0 - 10",
          "0 - 10",
          "0 - 10",
          "0 - 10",
          "0 - 10",
          "0 - 10",
          "0 - 10",
          "0 - 10",
          "0 - 10",
          "0 - 10",
          "0 - 10",
          "0 - 10",
          "0 - 10",
          "0 - 10",
          "0 - 10",
          "0 - 10",
          "0 - 10",
          "0 - 10",
          "0 - 10",
          "0 - 10",
          "0 - 10",
          "0 - 10",
          "0 - 10",
          "0 - 10",
          "0 - 10",
          "0 - 10",
          "0 - 10",
          "0 - 10",
          "0 - 10",
          "11 - 20",
          "11 - 20",
          "11 - 20",
          "11 - 20",
          "11 - 20",
          "11 - 20",
          "11 - 20",
          "11 - 20",
          "11 - 20",
          "11 - 20",
          "11 - 20",
          "11 - 20",
          "11 - 20",
          "11 - 20",
          "11 - 20",
          "11 - 20",
          "11 - 20",
          "11 - 20",
          "11 - 20",
          "11 - 20",
          "11 - 20",
          "11 - 20",
          "11 - 20",
          "11 - 20",
          "11 - 20",
          "11 - 20",
          "11 - 20",
          "11 - 20",
          "11 - 20",
          "11 - 20",
          "11 - 20",
          "11 - 20",
          "11 - 20",
          "11 - 20",
          "11 - 20",
          "11 - 20",
          "11 - 20",
          "11 - 20",
          "11 - 20",
          "11 - 20",
          "11 - 20",
          "11 - 20",
          "11 - 20",
          "11 - 20",
          "11 - 20",
          "11 - 20",
          "11 - 20",
          "11 - 20",
          "11 - 20",
          "11 - 20",
          "11 - 20",
          "11 - 20",
          "11 - 20",
          "11 - 20",
          "11 - 20",
          "11 - 20",
          "11 - 20",
          "11 - 20",
          "11 - 20",
          "11 - 20",
          "11 - 20",
          "11 - 20",
          "11 - 20",
          "11 - 20",
          "11 - 20",
          "11 - 20",
          "11 - 20",
          "11 - 20",
          "11 - 20",
          "11 - 20",
          "11 - 20",
          "11 - 20",
          "11 - 20",
          "11 - 20",
          "11 - 20",
          "11 - 20",
          "11 - 20",
          "11 - 20",
          "11 - 20",
          "11 - 20",
          "11 - 20",
          "11 - 20",
          "11 - 20",
          "11 - 20",
          "11 - 20",
          "11 - 20",
          "11 - 20",
          "11 - 20",
          "11 - 20",
          "11 - 20",
          "11 - 20",
          "11 - 20",
          "11 - 20",
          "11 - 20",
          "11 - 20",
          "11 - 20",
          "11 - 20",
          "11 - 20",
          "11 - 20",
          "11 - 20",
          "11 - 20",
          "11 - 20",
          "11 - 20",
          "11 - 20",
          "11 - 20",
          "11 - 20",
          "11 - 20",
          "11 - 20",
          "11 - 20",
          "11 - 20",
          "11 - 20",
          "11 - 20",
          "11 - 20",
          "11 - 20",
          "11 - 20",
          "11 - 20",
          "11 - 20",
          "11 - 20",
          "11 - 20",
          "11 - 20",
          "11 - 20",
          "11 - 20",
          "11 - 20",
          "11 - 20",
          "11 - 20",
          "11 - 20",
          "11 - 20",
          "11 - 20",
          "11 - 20",
          "11 - 20",
          "11 - 20",
          "11 - 20",
          "11 - 20",
          "11 - 20",
          "11 - 20",
          "11 - 20",
          "11 - 20",
          "11 - 20",
          "11 - 20",
          "11 - 20",
          "11 - 20",
          "11 - 20",
          "11 - 20",
          "11 - 20",
          "11 - 20",
          "11 - 20",
          "11 - 20",
          "11 - 20",
          "11 - 20",
          "11 - 20",
          "11 - 20",
          "11 - 20",
          "11 - 20",
          "11 - 20",
          "11 - 20",
          "11 - 20",
          "11 - 20",
          "11 - 20",
          "11 - 20",
          "11 - 20",
          "11 - 20",
          "11 - 20",
          "11 - 20",
          "11 - 20",
          "11 - 20",
          "11 - 20",
          "11 - 20",
          "11 - 20",
          "11 - 20",
          "11 - 20",
          "11 - 20",
          "11 - 20",
          "11 - 20",
          "11 - 20",
          "11 - 20",
          "11 - 20",
          "11 - 20",
          "11 - 20",
          "11 - 20",
          "11 - 20",
          "11 - 20",
          "11 - 20",
          "11 - 20",
          "11 - 20",
          "11 - 20",
          "21 - 30",
          "21 - 30",
          "21 - 30",
          "21 - 30",
          "21 - 30",
          "21 - 30",
          "21 - 30",
          "21 - 30",
          "21 - 30",
          "21 - 30",
          "21 - 30",
          "21 - 30",
          "21 - 30",
          "21 - 30",
          "21 - 30",
          "21 - 30",
          "21 - 30",
          "21 - 30",
          "21 - 30",
          "21 - 30",
          "21 - 30",
          "21 - 30",
          "21 - 30",
          "21 - 30",
          "21 - 30",
          "21 - 30",
          "21 - 30",
          "21 - 30",
          "21 - 30",
          "21 - 30",
          "21 - 30",
          "21 - 30",
          "21 - 30",
          "21 - 30",
          "21 - 30",
          "21 - 30",
          "21 - 30",
          "21 - 30",
          "21 - 30",
          "21 - 30",
          "21 - 30",
          "21 - 30",
          "21 - 30",
          "21 - 30",
          "21 - 30",
          "21 - 30",
          "21 - 30",
          "21 - 30",
          "21 - 30",
          "21 - 30",
          "21 - 30",
          "21 - 30",
          "21 - 30",
          "21 - 30",
          "21 - 30",
          "21 - 30",
          "21 - 30",
          "21 - 30",
          "21 - 30",
          "21 - 30",
          "21 - 30",
          "21 - 30",
          "21 - 30",
          "21 - 30",
          "21 - 30",
          "21 - 30",
          "21 - 30",
          "21 - 30",
          "21 - 30",
          "21 - 30",
          "21 - 30",
          "21 - 30",
          "21 - 30",
          "21 - 30",
          "21 - 30",
          "21 - 30",
          "21 - 30",
          "21 - 30",
          "21 - 30",
          "21 - 30",
          "21 - 30",
          "21 - 30",
          "21 - 30",
          "21 - 30",
          "21 - 30",
          "21 - 30",
          "21 - 30",
          "21 - 30",
          "21 - 30",
          "21 - 30",
          "21 - 30",
          "21 - 30",
          "21 - 30",
          "21 - 30",
          "21 - 30",
          "21 - 30",
          "21 - 30",
          "21 - 30",
          "21 - 30",
          "21 - 30",
          "21 - 30",
          "21 - 30",
          "21 - 30",
          "21 - 30",
          "21 - 30",
          "21 - 30",
          "21 - 30",
          "21 - 30",
          "21 - 30",
          "21 - 30",
          "21 - 30",
          "21 - 30",
          "21 - 30",
          "21 - 30",
          "21 - 30",
          "21 - 30",
          "21 - 30",
          "21 - 30",
          "21 - 30",
          "21 - 30",
          "21 - 30",
          "21 - 30",
          "21 - 30",
          "21 - 30",
          "21 - 30",
          "21 - 30",
          "21 - 30",
          "21 - 30",
          "21 - 30",
          "21 - 30",
          "21 - 30",
          "21 - 30",
          "21 - 30",
          "21 - 30",
          "21 - 30",
          "21 - 30",
          "21 - 30",
          "21 - 30",
          "21 - 30",
          "21 - 30",
          "21 - 30",
          "21 - 30",
          "21 - 30",
          "21 - 30",
          "21 - 30",
          "21 - 30",
          "21 - 30",
          "21 - 30",
          "21 - 30",
          "21 - 30",
          "21 - 30",
          "21 - 30",
          "21 - 30",
          "21 - 30",
          "21 - 30",
          "21 - 30",
          "21 - 30",
          "21 - 30",
          "21 - 30",
          "21 - 30",
          "21 - 30",
          "21 - 30",
          "21 - 30",
          "21 - 30",
          "21 - 30",
          "21 - 30",
          "21 - 30",
          "21 - 30",
          "21 - 30",
          "21 - 30",
          "21 - 30",
          "21 - 30",
          "21 - 30",
          "21 - 30",
          "21 - 30",
          "21 - 30",
          "21 - 30",
          "31 - 40",
          "31 - 40",
          "31 - 40",
          "31 - 40",
          "31 - 40",
          "31 - 40",
          "31 - 40",
          "31 - 40",
          "31 - 40",
          "31 - 40",
          "31 - 40",
          "31 - 40",
          "31 - 40",
          "31 - 40",
          "31 - 40",
          "31 - 40",
          "31 - 40",
          "31 - 40",
          "31 - 40",
          "31 - 40",
          "31 - 40",
          "31 - 40",
          "31 - 40",
          "31 - 40",
          "31 - 40",
          "31 - 40",
          "31 - 40",
          "31 - 40",
          "31 - 40",
          "31 - 40",
          "31 - 40",
          "31 - 40",
          "31 - 40",
          "31 - 40",
          "31 - 40",
          "31 - 40",
          "31 - 40",
          "31 - 40",
          "31 - 40",
          "31 - 40",
          "31 - 40",
          "31 - 40",
          "31 - 40",
          "31 - 40",
          "31 - 40",
          "31 - 40",
          "31 - 40",
          "31 - 40",
          "31 - 40",
          "31 - 40",
          "31 - 40",
          "31 - 40",
          "31 - 40",
          "31 - 40",
          "31 - 40",
          "31 - 40",
          "31 - 40",
          "31 - 40",
          "31 - 40",
          "31 - 40",
          "31 - 40",
          "31 - 40",
          "31 - 40",
          "31 - 40",
          "31 - 40",
          "31 - 40",
          "31 - 40",
          "31 - 40",
          "31 - 40",
          "31 - 40",
          "31 - 40",
          "31 - 40",
          "31 - 40",
          "31 - 40",
          "31 - 40",
          "31 - 40",
          "31 - 40",
          "31 - 40",
          "31 - 40",
          "31 - 40",
          "31 - 40",
          "31 - 40",
          "31 - 40",
          "31 - 40",
          "31 - 40",
          "31 - 40",
          "31 - 40",
          "31 - 40",
          "31 - 40",
          "31 - 40",
          "31 - 40",
          "31 - 40",
          "31 - 40",
          "31 - 40",
          "31 - 40",
          "31 - 40",
          "31 - 40",
          "31 - 40",
          "31 - 40",
          "31 - 40",
          "31 - 40",
          "31 - 40",
          "31 - 40",
          "31 - 40",
          "31 - 40",
          "31 - 40",
          "31 - 40",
          "31 - 40",
          "31 - 40",
          "31 - 40",
          "31 - 40",
          "31 - 40",
          "31 - 40",
          "31 - 40",
          "31 - 40",
          "31 - 40",
          "31 - 40",
          "31 - 40",
          "31 - 40",
          "31 - 40",
          "31 - 40",
          "31 - 40",
          "31 - 40",
          "31 - 40",
          "31 - 40",
          "31 - 40",
          "31 - 40",
          "31 - 40",
          "31 - 40",
          "31 - 40",
          "31 - 40",
          "31 - 40",
          "31 - 40",
          "31 - 40",
          "31 - 40",
          "31 - 40",
          "31 - 40",
          "31 - 40",
          "31 - 40",
          "31 - 40",
          "31 - 40",
          "31 - 40",
          "31 - 40",
          "31 - 40",
          "31 - 40",
          "31 - 40",
          "31 - 40",
          "31 - 40",
          "31 - 40",
          "31 - 40",
          "31 - 40",
          "31 - 40",
          "31 - 40",
          "31 - 40",
          "31 - 40",
          "31 - 40",
          "31 - 40",
          "31 - 40",
          "31 - 40",
          "31 - 40",
          "31 - 40",
          "31 - 40",
          "31 - 40",
          "31 - 40",
          "31 - 40",
          "31 - 40",
          "31 - 40",
          "31 - 40",
          "31 - 40",
          "31 - 40",
          "31 - 40",
          "31 - 40",
          "31 - 40",
          "31 - 40",
          "31 - 40",
          "41 - 50",
          "41 - 50",
          "41 - 50",
          "41 - 50",
          "41 - 50",
          "41 - 50",
          "41 - 50",
          "41 - 50",
          "41 - 50",
          "41 - 50",
          "41 - 50",
          "41 - 50",
          "41 - 50",
          "41 - 50",
          "41 - 50",
          "41 - 50",
          "41 - 50",
          "41 - 50",
          "41 - 50",
          "41 - 50",
          "41 - 50",
          "41 - 50",
          "41 - 50",
          "41 - 50",
          "41 - 50",
          "41 - 50",
          "41 - 50",
          "41 - 50",
          "41 - 50",
          "41 - 50",
          "41 - 50",
          "41 - 50",
          "41 - 50",
          "41 - 50",
          "41 - 50",
          "41 - 50",
          "41 - 50",
          "41 - 50",
          "41 - 50",
          "41 - 50",
          "41 - 50",
          "41 - 50",
          "41 - 50",
          "41 - 50",
          "41 - 50",
          "41 - 50",
          "41 - 50",
          "41 - 50",
          "41 - 50",
          "41 - 50",
          "41 - 50",
          "41 - 50",
          "41 - 50",
          "41 - 50",
          "41 - 50",
          "41 - 50",
          "41 - 50",
          "41 - 50",
          "41 - 50",
          "41 - 50",
          "41 - 50",
          "41 - 50",
          "41 - 50",
          "41 - 50",
          "41 - 50",
          "41 - 50",
          "41 - 50",
          "41 - 50",
          "41 - 50",
          "41 - 50",
          "41 - 50",
          "41 - 50",
          "41 - 50",
          "41 - 50",
          "41 - 50",
          "41 - 50",
          "41 - 50",
          "41 - 50",
          "41 - 50",
          "41 - 50",
          "41 - 50",
          "41 - 50",
          "41 - 50",
          "41 - 50",
          "41 - 50",
          "41 - 50",
          "41 - 50",
          "41 - 50",
          "41 - 50",
          "41 - 50",
          "41 - 50",
          "41 - 50",
          "41 - 50",
          "41 - 50",
          "41 - 50",
          "41 - 50",
          "41 - 50",
          "41 - 50",
          "41 - 50",
          "41 - 50",
          "41 - 50",
          "41 - 50",
          "41 - 50",
          "41 - 50",
          "41 - 50",
          "41 - 50",
          "41 - 50",
          "41 - 50",
          "41 - 50",
          "41 - 50",
          "41 - 50",
          "41 - 50",
          "41 - 50",
          "41 - 50",
          "41 - 50",
          "41 - 50",
          "41 - 50",
          "41 - 50",
          "41 - 50",
          "41 - 50",
          "41 - 50",
          "41 - 50",
          "41 - 50",
          "41 - 50",
          "41 - 50",
          "41 - 50",
          "41 - 50",
          "41 - 50",
          "41 - 50",
          "41 - 50",
          "41 - 50",
          "41 - 50",
          "41 - 50",
          "41 - 50",
          "41 - 50",
          "41 - 50",
          "41 - 50",
          "41 - 50",
          "41 - 50",
          "41 - 50",
          "41 - 50",
          "41 - 50",
          "41 - 50",
          "41 - 50",
          "41 - 50",
          "41 - 50",
          "41 - 50",
          "41 - 50",
          "41 - 50",
          "41 - 50",
          "41 - 50",
          "41 - 50",
          "41 - 50",
          "41 - 50",
          "51 - 60",
          "51 - 60",
          "51 - 60",
          "51 - 60",
          "51 - 60",
          "51 - 60",
          "51 - 60",
          "51 - 60",
          "51 - 60",
          "51 - 60",
          "51 - 60",
          "51 - 60",
          "51 - 60",
          "51 - 60",
          "51 - 60",
          "51 - 60",
          "51 - 60",
          "51 - 60",
          "51 - 60",
          "51 - 60",
          "51 - 60",
          "51 - 60",
          "51 - 60",
          "51 - 60",
          "51 - 60",
          "51 - 60",
          "51 - 60",
          "51 - 60",
          "51 - 60",
          "51 - 60",
          "51 - 60",
          "51 - 60",
          "51 - 60",
          "51 - 60",
          "51 - 60",
          "51 - 60",
          "51 - 60",
          "51 - 60",
          "51 - 60",
          "51 - 60",
          "51 - 60",
          "51 - 60",
          "51 - 60",
          "51 - 60",
          "51 - 60",
          "51 - 60",
          "51 - 60",
          "51 - 60",
          "51 - 60",
          "51 - 60",
          "51 - 60",
          "51 - 60",
          "51 - 60",
          "51 - 60",
          "51 - 60",
          "51 - 60",
          "51 - 60",
          "51 - 60",
          "51 - 60",
          "51 - 60",
          "51 - 60",
          "51 - 60",
          "51 - 60",
          "51 - 60",
          "51 - 60",
          "51 - 60",
          "51 - 60",
          "51 - 60",
          "51 - 60",
          "51 - 60",
          "51 - 60",
          "51 - 60",
          "51 - 60",
          "51 - 60",
          "51 - 60",
          "51 - 60",
          "51 - 60",
          "51 - 60",
          "51 - 60",
          "51 - 60",
          "51 - 60",
          "51 - 60",
          "51 - 60",
          "51 - 60",
          "51 - 60",
          "51 - 60",
          "51 - 60",
          "51 - 60",
          "51 - 60",
          "51 - 60",
          "51 - 60",
          "51 - 60",
          "51 - 60",
          "51 - 60",
          "51 - 60",
          "51 - 60",
          "51 - 60",
          "51 - 60",
          "51 - 60",
          "51 - 60",
          "51 - 60",
          "51 - 60",
          "51 - 60",
          "51 - 60",
          "51 - 60",
          "51 - 60",
          "51 - 60",
          "51 - 60",
          "51 - 60",
          "51 - 60",
          "51 - 60",
          "51 - 60",
          "51 - 60",
          "51 - 60",
          "51 - 60",
          "51 - 60",
          "51 - 60",
          "51 - 60",
          "51 - 60",
          "51 - 60",
          "51 - 60",
          "51 - 60",
          "51 - 60",
          "51 - 60",
          "51 - 60",
          "51 - 60",
          "51 - 60",
          "51 - 60",
          "51 - 60",
          "51 - 60",
          "51 - 60",
          "51 - 60",
          "51 - 60",
          "51 - 60",
          "51 - 60",
          "51 - 60",
          "51 - 60",
          "51 - 60",
          "51 - 60",
          "51 - 60",
          "51 - 60",
          "51 - 60",
          "51 - 60",
          "51 - 60",
          "51 - 60",
          "51 - 60",
          "51 - 60",
          "51 - 60",
          "51 - 60",
          "51 - 60",
          "51 - 60",
          "51 - 60",
          "51 - 60",
          "51 - 60",
          "51 - 60",
          "51 - 60",
          "51 - 60",
          "51 - 60",
          "51 - 60",
          "51 - 60",
          "51 - 60",
          "51 - 60",
          "51 - 60",
          "51 - 60",
          "51 - 60",
          "51 - 60",
          "51 - 60",
          "51 - 60",
          "51 - 60",
          "51 - 60",
          "51 - 60",
          "51 - 60",
          "51 - 60",
          "51 - 60",
          "51 - 60",
          "51 - 60",
          "51 - 60",
          "51 - 60",
          "51 - 60",
          "51 - 60",
          "51 - 60",
          "51 - 60",
          "51 - 60",
          "51 - 60",
          "51 - 60",
          "51 - 60",
          "51 - 60",
          "51 - 60",
          "51 - 60",
          "51 - 60",
          "51 - 60",
          "51 - 60",
          "51 - 60",
          "61 - 70",
          "61 - 70",
          "61 - 70",
          "61 - 70",
          "61 - 70",
          "61 - 70",
          "61 - 70",
          "61 - 70",
          "61 - 70",
          "61 - 70",
          "61 - 70",
          "61 - 70",
          "61 - 70",
          "61 - 70",
          "61 - 70",
          "61 - 70",
          "61 - 70",
          "61 - 70",
          "61 - 70",
          "61 - 70",
          "61 - 70",
          "61 - 70",
          "61 - 70",
          "61 - 70",
          "61 - 70",
          "61 - 70",
          "61 - 70",
          "61 - 70",
          "61 - 70",
          "61 - 70",
          "61 - 70",
          "61 - 70",
          "61 - 70",
          "61 - 70",
          "61 - 70",
          "61 - 70",
          "61 - 70",
          "61 - 70",
          "61 - 70",
          "61 - 70",
          "61 - 70",
          "61 - 70",
          "61 - 70",
          "61 - 70",
          "61 - 70",
          "61 - 70",
          "61 - 70",
          "61 - 70",
          "61 - 70",
          "61 - 70",
          "61 - 70",
          "61 - 70",
          "61 - 70",
          "61 - 70",
          "61 - 70",
          "61 - 70",
          "61 - 70",
          "61 - 70",
          "61 - 70",
          "61 - 70",
          "61 - 70",
          "61 - 70",
          "61 - 70",
          "61 - 70",
          "61 - 70",
          "61 - 70",
          "61 - 70",
          "61 - 70",
          "61 - 70",
          "61 - 70",
          "61 - 70",
          "61 - 70",
          "61 - 70",
          "61 - 70",
          "61 - 70",
          "61 - 70",
          "61 - 70",
          "61 - 70",
          "61 - 70",
          "61 - 70",
          "61 - 70",
          "61 - 70",
          "61 - 70",
          "61 - 70",
          "61 - 70",
          "61 - 70",
          "61 - 70",
          "61 - 70",
          "61 - 70",
          "61 - 70",
          "61 - 70",
          "61 - 70",
          "61 - 70",
          "61 - 70",
          "61 - 70",
          "61 - 70",
          "61 - 70",
          "61 - 70",
          "61 - 70",
          "61 - 70",
          "61 - 70",
          "61 - 70",
          "61 - 70",
          "61 - 70",
          "61 - 70",
          "61 - 70",
          "61 - 70",
          "61 - 70",
          "61 - 70",
          "61 - 70",
          "61 - 70",
          "61 - 70",
          "61 - 70",
          "61 - 70",
          "61 - 70",
          "61 - 70",
          "61 - 70",
          "61 - 70",
          "61 - 70",
          "61 - 70",
          "61 - 70",
          "61 - 70",
          "61 - 70",
          "61 - 70",
          "61 - 70",
          "61 - 70",
          "61 - 70",
          "61 - 70",
          "61 - 70",
          "61 - 70",
          "61 - 70",
          "61 - 70",
          "61 - 70",
          "61 - 70",
          "61 - 70",
          "61 - 70",
          "61 - 70",
          "61 - 70",
          "61 - 70",
          "61 - 70",
          "61 - 70",
          "61 - 70",
          "61 - 70",
          "61 - 70",
          "61 - 70",
          "61 - 70",
          "61 - 70",
          "61 - 70",
          "71 - 80",
          "71 - 80",
          "71 - 80",
          "71 - 80",
          "71 - 80",
          "71 - 80",
          "71 - 80",
          "71 - 80",
          "71 - 80",
          "71 - 80",
          "71 - 80",
          "71 - 80",
          "71 - 80",
          "71 - 80",
          "71 - 80",
          "71 - 80",
          "71 - 80",
          "71 - 80",
          "71 - 80",
          "71 - 80",
          "71 - 80",
          "71 - 80",
          "71 - 80",
          "71 - 80",
          "71 - 80",
          "71 - 80",
          "71 - 80",
          "71 - 80",
          "71 - 80",
          "71 - 80",
          "71 - 80",
          "71 - 80",
          "71 - 80",
          "71 - 80",
          "71 - 80",
          "71 - 80",
          "71 - 80",
          "71 - 80",
          "71 - 80",
          "71 - 80",
          "71 - 80",
          "71 - 80",
          "71 - 80",
          "71 - 80",
          "71 - 80",
          "71 - 80",
          "71 - 80",
          "71 - 80",
          "71 - 80",
          "71 - 80",
          "71 - 80",
          "71 - 80",
          "71 - 80",
          "71 - 80",
          "71 - 80",
          "71 - 80",
          "71 - 80",
          "71 - 80",
          "71 - 80",
          "71 - 80",
          "71 - 80",
          "71 - 80",
          "71 - 80",
          "71 - 80",
          "71 - 80",
          "71 - 80",
          "71 - 80",
          "71 - 80",
          "71 - 80",
          "71 - 80",
          "71 - 80",
          "71 - 80",
          "71 - 80",
          "71 - 80",
          "71 - 80",
          "71 - 80",
          "71 - 80",
          "71 - 80",
          "71 - 80",
          "71 - 80",
          "71 - 80",
          "71 - 80",
          "71 - 80",
          "71 - 80",
          "71 - 80",
          "71 - 80",
          "71 - 80",
          "71 - 80",
          "71 - 80",
          "71 - 80",
          "71 - 80",
          "71 - 80",
          "71 - 80",
          "71 - 80",
          "71 - 80",
          "71 - 80",
          "71 - 80",
          "71 - 80",
          "71 - 80",
          "71 - 80",
          "71 - 80",
          "71 - 80",
          "71 - 80",
          "71 - 80",
          "71 - 80",
          "71 - 80",
          "71 - 80",
          "71 - 80",
          "71 - 80",
          "71 - 80",
          "71 - 80",
          "71 - 80",
          "71 - 80",
          "71 - 80",
          "71 - 80",
          "71 - 80",
          "71 - 80",
          "71 - 80",
          "71 - 80",
          "71 - 80",
          "71 - 80",
          "71 - 80",
          "71 - 80",
          "71 - 80",
          "71 - 80",
          "71 - 80",
          "71 - 80",
          "71 - 80",
          "71 - 80",
          "71 - 80",
          "71 - 80",
          "71 - 80",
          "71 - 80",
          "71 - 80",
          "71 - 80",
          "71 - 80",
          "71 - 80",
          "71 - 80",
          "71 - 80",
          "71 - 80",
          "71 - 80",
          "71 - 80",
          "71 - 80",
          "71 - 80",
          "71 - 80",
          "71 - 80",
          "71 - 80",
          "71 - 80",
          "71 - 80",
          "71 - 80",
          "71 - 80",
          "71 - 80",
          "71 - 80",
          "71 - 80",
          "71 - 80",
          "71 - 80",
          "71 - 80",
          "71 - 80",
          "71 - 80",
          "71 - 80",
          "71 - 80",
          "71 - 80",
          "71 - 80",
          "71 - 80",
          "71 - 80",
          "71 - 80",
          "71 - 80",
          "71 - 80",
          "71 - 80",
          "71 - 80",
          "71 - 80",
          "71 - 80",
          "71 - 80",
          "71 - 80",
          "71 - 80",
          "71 - 80",
          "71 - 80",
          "71 - 80",
          "71 - 80",
          "71 - 80",
          "71 - 80",
          "71 - 80",
          "71 - 80",
          "71 - 80",
          "71 - 80",
          "71 - 80",
          "71 - 80",
          "71 - 80",
          "71 - 80",
          "71 - 80",
          "81 - 90",
          "81 - 90",
          "81 - 90",
          "81 - 90",
          "81 - 90",
          "81 - 90",
          "81 - 90",
          "81 - 90",
          "81 - 90",
          "81 - 90",
          "81 - 90",
          "81 - 90",
          "81 - 90",
          "81 - 90",
          "81 - 90",
          "81 - 90",
          "81 - 90",
          "81 - 90",
          "81 - 90",
          "81 - 90",
          "81 - 90",
          "81 - 90",
          "81 - 90",
          "81 - 90",
          "81 - 90",
          "81 - 90",
          "81 - 90",
          "81 - 90",
          "81 - 90",
          "81 - 90",
          "81 - 90",
          "81 - 90",
          "81 - 90",
          "81 - 90",
          "81 - 90",
          "81 - 90",
          "81 - 90",
          "81 - 90",
          "81 - 90",
          "81 - 90",
          "81 - 90",
          "81 - 90",
          "81 - 90",
          "81 - 90",
          "81 - 90",
          "81 - 90",
          "81 - 90",
          "81 - 90",
          "81 - 90",
          "81 - 90",
          "81 - 90",
          "81 - 90",
          "81 - 90",
          "81 - 90",
          "81 - 90",
          "81 - 90",
          "81 - 90",
          "81 - 90",
          "81 - 90",
          "81 - 90",
          "81 - 90",
          "81 - 90",
          "81 - 90",
          "81 - 90",
          "81 - 90",
          "81 - 90",
          "81 - 90",
          "81 - 90",
          "81 - 90",
          "81 - 90",
          "81 - 90",
          "81 - 90",
          "81 - 90",
          "81 - 90",
          "81 - 90",
          "81 - 90",
          "81 - 90",
          "81 - 90",
          "81 - 90",
          "81 - 90",
          "81 - 90",
          "81 - 90",
          "81 - 90",
          "81 - 90",
          "81 - 90",
          "81 - 90",
          "81 - 90",
          "81 - 90",
          "81 - 90",
          "81 - 90",
          "81 - 90",
          "81 - 90",
          "81 - 90",
          "81 - 90",
          "81 - 90",
          "81 - 90",
          "81 - 90",
          "81 - 90",
          "81 - 90",
          "81 - 90",
          "81 - 90",
          "81 - 90",
          "81 - 90",
          "81 - 90",
          "81 - 90",
          "81 - 90",
          "81 - 90",
          "81 - 90",
          "81 - 90",
          "81 - 90",
          "81 - 90",
          "81 - 90",
          "81 - 90",
          "81 - 90",
          "81 - 90",
          "81 - 90",
          "81 - 90",
          "81 - 90",
          "81 - 90",
          "81 - 90",
          "81 - 90",
          "81 - 90",
          "81 - 90",
          "81 - 90",
          "81 - 90",
          "81 - 90",
          "81 - 90",
          "81 - 90",
          "81 - 90",
          "81 - 90",
          "81 - 90",
          "81 - 90",
          "81 - 90",
          "81 - 90",
          "81 - 90",
          "81 - 90",
          "81 - 90",
          "81 - 90",
          "81 - 90",
          "81 - 90",
          "81 - 90",
          "81 - 90",
          "81 - 90",
          "81 - 90",
          "81 - 90",
          "81 - 90",
          "81 - 90",
          "81 - 90",
          "81 - 90",
          "81 - 90",
          "81 - 90",
          "81 - 90",
          "81 - 90",
          "81 - 90",
          "81 - 90",
          "81 - 90",
          "81 - 90",
          "81 - 90",
          "81 - 90",
          "81 - 90",
          "81 - 90",
          "81 - 90",
          "81 - 90",
          "81 - 90",
          "81 - 90",
          "81 - 90",
          "81 - 90",
          "81 - 90",
          "81 - 90",
          "81 - 90",
          "81 - 90",
          "81 - 90",
          "81 - 90",
          "91 - 100",
          "91 - 100",
          "91 - 100",
          "91 - 100",
          "91 - 100",
          "91 - 100",
          "91 - 100",
          "91 - 100",
          "91 - 100",
          "91 - 100",
          "91 - 100",
          "91 - 100",
          "91 - 100",
          "91 - 100",
          "91 - 100",
          "91 - 100",
          "91 - 100",
          "91 - 100",
          "91 - 100",
          "91 - 100",
          "91 - 100",
          "91 - 100",
          "91 - 100",
          "91 - 100",
          "91 - 100",
          "91 - 100",
          "91 - 100",
          "91 - 100",
          "91 - 100",
          "91 - 100",
          "91 - 100",
          "91 - 100",
          "91 - 100",
          "91 - 100",
          "91 - 100",
          "91 - 100",
          "91 - 100",
          "91 - 100",
          "91 - 100",
          "91 - 100",
          "91 - 100",
          "91 - 100",
          "91 - 100",
          "91 - 100",
          "91 - 100",
          "91 - 100",
          "91 - 100",
          "91 - 100",
          "91 - 100",
          "91 - 100",
          "91 - 100",
          "91 - 100",
          "91 - 100",
          "91 - 100",
          "91 - 100",
          "91 - 100",
          "91 - 100",
          "91 - 100",
          "91 - 100",
          "91 - 100",
          "91 - 100",
          "91 - 100",
          "91 - 100",
          "91 - 100",
          "91 - 100",
          "91 - 100",
          "91 - 100",
          "91 - 100",
          "91 - 100",
          "91 - 100",
          "91 - 100",
          "91 - 100",
          "91 - 100",
          "91 - 100",
          "91 - 100",
          "91 - 100",
          "91 - 100",
          "91 - 100",
          "91 - 100",
          "91 - 100",
          "91 - 100",
          "91 - 100",
          "91 - 100",
          "91 - 100",
          "91 - 100",
          "91 - 100",
          "91 - 100",
          "91 - 100",
          "91 - 100",
          "91 - 100",
          "91 - 100",
          "91 - 100",
          "91 - 100",
          "91 - 100",
          "91 - 100",
          "91 - 100",
          "91 - 100",
          "91 - 100",
          "91 - 100",
          "91 - 100",
          "91 - 100",
          "91 - 100",
          "91 - 100",
          "91 - 100",
          "91 - 100",
          "91 - 100",
          "91 - 100",
          "91 - 100",
          "91 - 100",
          "91 - 100",
          "91 - 100",
          "91 - 100",
          "91 - 100",
          "91 - 100",
          "91 - 100",
          "91 - 100",
          "91 - 100",
          "91 - 100",
          "91 - 100",
          "91 - 100",
          "91 - 100",
          "91 - 100",
          "91 - 100",
          "91 - 100",
          "91 - 100",
          "91 - 100",
          "91 - 100",
          "91 - 100",
          "91 - 100",
          "91 - 100",
          "91 - 100",
          "91 - 100",
          "91 - 100",
          "91 - 100",
          "91 - 100",
          "91 - 100",
          "91 - 100",
          "91 - 100",
          "91 - 100",
          "91 - 100",
          "91 - 100",
          "91 - 100",
          "91 - 100",
          "91 - 100",
          "91 - 100",
          "91 - 100",
          "91 - 100",
          "91 - 100",
          "91 - 100",
          "91 - 100"
         ],
         "xaxis": "x",
         "xbingroup": "x",
         "y": [
          "0 - 10",
          "71 - 80",
          "71 - 80",
          "71 - 80",
          "51 - 60",
          "51 - 60",
          "51 - 60",
          "41 - 50",
          "41 - 50",
          "31 - 40",
          "31 - 40",
          "31 - 40",
          "31 - 40",
          "31 - 40",
          "21 - 30",
          "21 - 30",
          "21 - 30",
          "21 - 30",
          "11 - 20",
          "0 - 10",
          "11 - 20",
          "11 - 20",
          "11 - 20",
          "0 - 10",
          "71 - 80",
          "71 - 80",
          "31 - 40",
          "71 - 80",
          "71 - 80",
          "81 - 90",
          "81 - 90",
          "0 - 10",
          "81 - 90",
          "81 - 90",
          "11 - 20",
          "31 - 40",
          "0 - 10",
          "0 - 10",
          "31 - 40",
          "41 - 50",
          "41 - 50",
          "81 - 90",
          "51 - 60",
          "51 - 60",
          "31 - 40",
          "81 - 90",
          "71 - 80",
          "21 - 30",
          "11 - 20",
          "51 - 60",
          "31 - 40",
          "91 - 100",
          "11 - 20",
          "81 - 90",
          "31 - 40",
          "11 - 20",
          "21 - 30",
          "41 - 50",
          "11 - 20",
          "11 - 20",
          "11 - 20",
          "61 - 70",
          "11 - 20",
          "61 - 70",
          "0 - 10",
          "71 - 80",
          "0 - 10",
          "21 - 30",
          "21 - 30",
          "91 - 100",
          "81 - 90",
          "41 - 50",
          "0 - 10",
          "11 - 20",
          "61 - 70",
          "91 - 100",
          "41 - 50",
          "61 - 70",
          "91 - 100",
          "11 - 20",
          "21 - 30",
          "0 - 10",
          "11 - 20",
          "0 - 10",
          "0 - 10",
          "61 - 70",
          "71 - 80",
          "81 - 90",
          "41 - 50",
          "0 - 10",
          "0 - 10",
          "81 - 90",
          "11 - 20",
          "11 - 20",
          "91 - 100",
          "0 - 10",
          "21 - 30",
          "41 - 50",
          "31 - 40",
          "11 - 20",
          "11 - 20",
          "11 - 20",
          "31 - 40",
          "0 - 10",
          "31 - 40",
          "0 - 10",
          "0 - 10",
          "0 - 10",
          "91 - 100",
          "31 - 40",
          "61 - 70",
          "81 - 90",
          "21 - 30",
          "21 - 30",
          "91 - 100",
          "21 - 30",
          "51 - 60",
          "41 - 50",
          "41 - 50",
          "21 - 30",
          "61 - 70",
          "51 - 60",
          "51 - 60",
          "91 - 100",
          "11 - 20",
          "31 - 40",
          "31 - 40",
          "21 - 30",
          "91 - 100",
          "11 - 20",
          "51 - 60",
          "71 - 80",
          "91 - 100",
          "0 - 10",
          "41 - 50",
          "0 - 10",
          "21 - 30",
          "51 - 60",
          "41 - 50",
          "61 - 70",
          "51 - 60",
          "91 - 100",
          "11 - 20",
          "91 - 100",
          "0 - 10",
          "51 - 60",
          "61 - 70",
          "11 - 20",
          "91 - 100",
          "0 - 10",
          "11 - 20",
          "11 - 20",
          "21 - 30",
          "81 - 90",
          "21 - 30",
          "71 - 80",
          "51 - 60",
          "21 - 30",
          "31 - 40",
          "61 - 70",
          "0 - 10",
          "61 - 70",
          "81 - 90",
          "91 - 100",
          "21 - 30",
          "41 - 50",
          "31 - 40",
          "11 - 20",
          "0 - 10",
          "11 - 20",
          "0 - 10",
          "91 - 100",
          "0 - 10",
          "61 - 70",
          "71 - 80",
          "31 - 40",
          "0 - 10",
          "11 - 20",
          "21 - 30",
          "21 - 30",
          "0 - 10",
          "0 - 10",
          "11 - 20",
          "21 - 30",
          "11 - 20",
          "21 - 30",
          "11 - 20",
          "51 - 60",
          "11 - 20",
          "0 - 10",
          "71 - 80",
          "11 - 20",
          "51 - 60",
          "71 - 80",
          "61 - 70",
          "41 - 50",
          "0 - 10",
          "31 - 40",
          "51 - 60",
          "91 - 100",
          "71 - 80",
          "21 - 30",
          "51 - 60",
          "21 - 30",
          "51 - 60",
          "81 - 90",
          "0 - 10",
          "81 - 90",
          "31 - 40",
          "11 - 20",
          "21 - 30",
          "21 - 30",
          "31 - 40",
          "0 - 10",
          "71 - 80",
          "0 - 10",
          "11 - 20",
          "71 - 80",
          "71 - 80",
          "21 - 30",
          "31 - 40",
          "81 - 90",
          "0 - 10",
          "61 - 70",
          "0 - 10",
          "71 - 80",
          "21 - 30",
          "41 - 50",
          "41 - 50",
          "11 - 20",
          "51 - 60",
          "0 - 10",
          "61 - 70",
          "61 - 70",
          "31 - 40",
          "91 - 100",
          "31 - 40",
          "31 - 40",
          "11 - 20",
          "61 - 70",
          "11 - 20",
          "11 - 20",
          "41 - 50",
          "41 - 50",
          "11 - 20",
          "31 - 40",
          "31 - 40",
          "31 - 40",
          "51 - 60",
          "31 - 40",
          "81 - 90",
          "0 - 10",
          "31 - 40",
          "31 - 40",
          "11 - 20",
          "31 - 40",
          "41 - 50",
          "31 - 40",
          "71 - 80",
          "31 - 40",
          "81 - 90",
          "0 - 10",
          "91 - 100",
          "0 - 10",
          "0 - 10",
          "21 - 30",
          "61 - 70",
          "71 - 80",
          "91 - 100",
          "31 - 40",
          "11 - 20",
          "21 - 30",
          "31 - 40",
          "71 - 80",
          "31 - 40",
          "11 - 20",
          "31 - 40",
          "0 - 10",
          "0 - 10",
          "61 - 70",
          "0 - 10",
          "11 - 20",
          "21 - 30",
          "11 - 20",
          "51 - 60",
          "51 - 60",
          "41 - 50",
          "11 - 20",
          "51 - 60",
          "91 - 100",
          "21 - 30",
          "51 - 60",
          "71 - 80",
          "71 - 80",
          "31 - 40",
          "71 - 80",
          "11 - 20",
          "0 - 10",
          "21 - 30",
          "81 - 90",
          "41 - 50",
          "21 - 30",
          "31 - 40",
          "0 - 10",
          "71 - 80",
          "51 - 60",
          "51 - 60",
          "41 - 50",
          "11 - 20",
          "91 - 100",
          "0 - 10",
          "51 - 60",
          "0 - 10",
          "21 - 30",
          "51 - 60",
          "51 - 60",
          "21 - 30",
          "21 - 30",
          "0 - 10",
          "51 - 60",
          "21 - 30",
          "31 - 40",
          "61 - 70",
          "11 - 20",
          "71 - 80",
          "41 - 50",
          "61 - 70",
          "41 - 50",
          "21 - 30",
          "31 - 40",
          "51 - 60",
          "21 - 30",
          "21 - 30",
          "51 - 60",
          "51 - 60",
          "11 - 20",
          "51 - 60",
          "11 - 20",
          "41 - 50",
          "41 - 50",
          "81 - 90",
          "21 - 30",
          "0 - 10",
          "91 - 100",
          "0 - 10",
          "0 - 10",
          "41 - 50",
          "41 - 50",
          "31 - 40",
          "31 - 40",
          "41 - 50",
          "51 - 60",
          "21 - 30",
          "41 - 50",
          "31 - 40",
          "0 - 10",
          "31 - 40",
          "81 - 90",
          "0 - 10",
          "0 - 10",
          "71 - 80",
          "0 - 10",
          "11 - 20",
          "11 - 20",
          "0 - 10",
          "0 - 10",
          "71 - 80",
          "11 - 20",
          "21 - 30",
          "0 - 10",
          "21 - 30",
          "11 - 20",
          "61 - 70",
          "71 - 80",
          "41 - 50",
          "71 - 80",
          "11 - 20",
          "51 - 60",
          "11 - 20",
          "51 - 60",
          "31 - 40",
          "11 - 20",
          "91 - 100",
          "0 - 10",
          "0 - 10",
          "11 - 20",
          "31 - 40",
          "11 - 20",
          "71 - 80",
          "0 - 10",
          "71 - 80",
          "11 - 20",
          "91 - 100",
          "31 - 40",
          "61 - 70",
          "61 - 70",
          "21 - 30",
          "51 - 60",
          "0 - 10",
          "0 - 10",
          "91 - 100",
          "51 - 60",
          "21 - 30",
          "91 - 100",
          "11 - 20",
          "11 - 20",
          "71 - 80",
          "0 - 10",
          "51 - 60",
          "21 - 30",
          "71 - 80",
          "61 - 70",
          "51 - 60",
          "41 - 50",
          "41 - 50",
          "0 - 10",
          "0 - 10",
          "0 - 10",
          "0 - 10",
          "61 - 70",
          "91 - 100",
          "81 - 90",
          "61 - 70",
          "21 - 30",
          "61 - 70",
          "31 - 40",
          "81 - 90",
          "21 - 30",
          "21 - 30",
          "0 - 10",
          "31 - 40",
          "0 - 10",
          "0 - 10",
          "31 - 40",
          "0 - 10",
          "0 - 10",
          "81 - 90",
          "21 - 30",
          "21 - 30",
          "41 - 50",
          "0 - 10",
          "71 - 80",
          "81 - 90",
          "71 - 80",
          "81 - 90",
          "71 - 80",
          "41 - 50",
          "51 - 60",
          "0 - 10",
          "81 - 90",
          "31 - 40",
          "11 - 20",
          "81 - 90",
          "51 - 60",
          "21 - 30",
          "21 - 30",
          "71 - 80",
          "71 - 80",
          "81 - 90",
          "41 - 50",
          "31 - 40",
          "41 - 50",
          "61 - 70",
          "21 - 30",
          "61 - 70",
          "61 - 70",
          "61 - 70",
          "41 - 50",
          "61 - 70",
          "0 - 10",
          "91 - 100",
          "11 - 20",
          "61 - 70",
          "21 - 30",
          "61 - 70",
          "51 - 60",
          "51 - 60",
          "81 - 90",
          "11 - 20",
          "0 - 10",
          "41 - 50",
          "41 - 50",
          "51 - 60",
          "0 - 10",
          "51 - 60",
          "91 - 100",
          "31 - 40",
          "11 - 20",
          "81 - 90",
          "81 - 90",
          "41 - 50",
          "31 - 40",
          "91 - 100",
          "0 - 10",
          "11 - 20",
          "21 - 30",
          "61 - 70",
          "0 - 10",
          "21 - 30",
          "21 - 30",
          "41 - 50",
          "51 - 60",
          "11 - 20",
          "31 - 40",
          "51 - 60",
          "0 - 10",
          "51 - 60",
          "91 - 100",
          "0 - 10",
          "31 - 40",
          "31 - 40",
          "51 - 60",
          "11 - 20",
          "21 - 30",
          "81 - 90",
          "41 - 50",
          "41 - 50",
          "11 - 20",
          "81 - 90",
          "91 - 100",
          "51 - 60",
          "0 - 10",
          "11 - 20",
          "81 - 90",
          "51 - 60",
          "41 - 50",
          "11 - 20",
          "11 - 20",
          "41 - 50",
          "81 - 90",
          "61 - 70",
          "21 - 30",
          "31 - 40",
          "71 - 80",
          "21 - 30",
          "31 - 40",
          "0 - 10",
          "31 - 40",
          "31 - 40",
          "21 - 30",
          "71 - 80",
          "0 - 10",
          "71 - 80",
          "11 - 20",
          "71 - 80",
          "11 - 20",
          "61 - 70",
          "0 - 10",
          "51 - 60",
          "41 - 50",
          "61 - 70",
          "41 - 50",
          "61 - 70",
          "61 - 70",
          "41 - 50",
          "31 - 40",
          "41 - 50",
          "31 - 40",
          "41 - 50",
          "21 - 30",
          "0 - 10",
          "0 - 10",
          "21 - 30",
          "0 - 10",
          "21 - 30",
          "21 - 30",
          "0 - 10",
          "21 - 30",
          "0 - 10",
          "81 - 90",
          "81 - 90",
          "11 - 20",
          "11 - 20",
          "11 - 20",
          "31 - 40",
          "61 - 70",
          "31 - 40",
          "71 - 80",
          "21 - 30",
          "51 - 60",
          "21 - 30",
          "71 - 80",
          "0 - 10",
          "71 - 80",
          "41 - 50",
          "81 - 90",
          "61 - 70",
          "81 - 90",
          "71 - 80",
          "21 - 30",
          "41 - 50",
          "0 - 10",
          "31 - 40",
          "0 - 10",
          "31 - 40",
          "21 - 30",
          "41 - 50",
          "41 - 50",
          "71 - 80",
          "0 - 10",
          "21 - 30",
          "31 - 40",
          "51 - 60",
          "0 - 10",
          "11 - 20",
          "41 - 50",
          "31 - 40",
          "21 - 30",
          "61 - 70",
          "41 - 50",
          "61 - 70",
          "31 - 40",
          "31 - 40",
          "41 - 50",
          "61 - 70",
          "21 - 30",
          "41 - 50",
          "41 - 50",
          "81 - 90",
          "21 - 30",
          "51 - 60",
          "91 - 100",
          "51 - 60",
          "21 - 30",
          "61 - 70",
          "71 - 80",
          "21 - 30",
          "0 - 10",
          "81 - 90",
          "91 - 100",
          "71 - 80",
          "41 - 50",
          "41 - 50",
          "31 - 40",
          "71 - 80",
          "51 - 60",
          "0 - 10",
          "0 - 10",
          "11 - 20",
          "81 - 90",
          "0 - 10",
          "11 - 20",
          "0 - 10",
          "61 - 70",
          "21 - 30",
          "41 - 50",
          "21 - 30",
          "0 - 10",
          "21 - 30",
          "61 - 70",
          "11 - 20",
          "91 - 100",
          "41 - 50",
          "0 - 10",
          "51 - 60",
          "41 - 50",
          "31 - 40",
          "71 - 80",
          "91 - 100",
          "91 - 100",
          "11 - 20",
          "41 - 50",
          "91 - 100",
          "11 - 20",
          "81 - 90",
          "81 - 90",
          "61 - 70",
          "21 - 30",
          "31 - 40",
          "21 - 30",
          "71 - 80",
          "11 - 20",
          "81 - 90",
          "51 - 60",
          "41 - 50",
          "0 - 10",
          "81 - 90",
          "71 - 80",
          "11 - 20",
          "11 - 20",
          "41 - 50",
          "21 - 30",
          "11 - 20",
          "61 - 70",
          "71 - 80",
          "71 - 80",
          "61 - 70",
          "31 - 40",
          "0 - 10",
          "51 - 60",
          "0 - 10",
          "41 - 50",
          "11 - 20",
          "31 - 40",
          "51 - 60",
          "41 - 50",
          "21 - 30",
          "61 - 70",
          "21 - 30",
          "71 - 80",
          "21 - 30",
          "71 - 80",
          "71 - 80",
          "21 - 30",
          "11 - 20",
          "0 - 10",
          "61 - 70",
          "81 - 90",
          "21 - 30",
          "41 - 50",
          "41 - 50",
          "21 - 30",
          "0 - 10",
          "0 - 10",
          "11 - 20",
          "81 - 90",
          "51 - 60",
          "71 - 80",
          "31 - 40",
          "71 - 80",
          "41 - 50",
          "41 - 50",
          "0 - 10",
          "11 - 20",
          "41 - 50",
          "11 - 20",
          "61 - 70",
          "81 - 90",
          "31 - 40",
          "11 - 20",
          "0 - 10",
          "61 - 70",
          "0 - 10",
          "11 - 20",
          "0 - 10",
          "0 - 10",
          "71 - 80",
          "21 - 30",
          "51 - 60",
          "21 - 30",
          "61 - 70",
          "61 - 70",
          "21 - 30",
          "0 - 10",
          "21 - 30",
          "51 - 60",
          "71 - 80",
          "11 - 20",
          "31 - 40",
          "91 - 100",
          "31 - 40",
          "21 - 30",
          "0 - 10",
          "31 - 40",
          "0 - 10",
          "51 - 60",
          "41 - 50",
          "41 - 50",
          "11 - 20",
          "41 - 50",
          "91 - 100",
          "0 - 10",
          "0 - 10",
          "51 - 60",
          "11 - 20",
          "11 - 20",
          "41 - 50",
          "51 - 60",
          "11 - 20",
          "0 - 10",
          "41 - 50",
          "51 - 60",
          "51 - 60",
          "81 - 90",
          "0 - 10",
          "0 - 10",
          "51 - 60",
          "11 - 20",
          "31 - 40",
          "71 - 80",
          "61 - 70",
          "71 - 80",
          "31 - 40",
          "71 - 80",
          "61 - 70",
          "0 - 10",
          "21 - 30",
          "61 - 70",
          "61 - 70",
          "21 - 30",
          "31 - 40",
          "11 - 20",
          "11 - 20",
          "31 - 40",
          "21 - 30",
          "41 - 50",
          "21 - 30",
          "31 - 40",
          "41 - 50",
          "21 - 30",
          "61 - 70",
          "61 - 70",
          "21 - 30",
          "31 - 40",
          "71 - 80",
          "31 - 40",
          "31 - 40",
          "11 - 20",
          "31 - 40",
          "21 - 30",
          "91 - 100",
          "71 - 80",
          "31 - 40",
          "21 - 30",
          "0 - 10",
          "31 - 40",
          "71 - 80",
          "41 - 50",
          "41 - 50",
          "31 - 40",
          "0 - 10",
          "31 - 40",
          "31 - 40",
          "41 - 50",
          "71 - 80",
          "71 - 80",
          "31 - 40",
          "81 - 90",
          "51 - 60",
          "0 - 10",
          "11 - 20",
          "11 - 20",
          "11 - 20",
          "51 - 60",
          "51 - 60",
          "71 - 80",
          "0 - 10",
          "71 - 80",
          "31 - 40",
          "0 - 10",
          "71 - 80",
          "0 - 10",
          "71 - 80",
          "31 - 40",
          "71 - 80",
          "21 - 30",
          "31 - 40",
          "71 - 80",
          "91 - 100",
          "91 - 100",
          "71 - 80",
          "91 - 100",
          "11 - 20",
          "21 - 30",
          "81 - 90",
          "51 - 60",
          "81 - 90",
          "81 - 90",
          "0 - 10",
          "81 - 90",
          "0 - 10",
          "21 - 30",
          "61 - 70",
          "81 - 90",
          "71 - 80",
          "51 - 60",
          "21 - 30",
          "31 - 40",
          "71 - 80",
          "31 - 40",
          "91 - 100",
          "41 - 50",
          "91 - 100",
          "31 - 40",
          "61 - 70",
          "91 - 100",
          "51 - 60",
          "81 - 90",
          "81 - 90",
          "61 - 70",
          "51 - 60",
          "51 - 60",
          "81 - 90",
          "61 - 70",
          "81 - 90",
          "51 - 60",
          "81 - 90",
          "61 - 70",
          "81 - 90",
          "91 - 100",
          "71 - 80",
          "51 - 60",
          "61 - 70",
          "51 - 60",
          "51 - 60",
          "51 - 60",
          "21 - 30",
          "11 - 20",
          "21 - 30",
          "31 - 40",
          "11 - 20",
          "11 - 20",
          "31 - 40",
          "31 - 40",
          "0 - 10",
          "21 - 30",
          "51 - 60",
          "41 - 50",
          "41 - 50",
          "0 - 10",
          "81 - 90",
          "81 - 90",
          "21 - 30",
          "11 - 20",
          "31 - 40",
          "71 - 80",
          "91 - 100",
          "0 - 10",
          "11 - 20",
          "11 - 20",
          "0 - 10",
          "0 - 10",
          "31 - 40",
          "61 - 70",
          "31 - 40",
          "51 - 60",
          "91 - 100",
          "11 - 20",
          "21 - 30",
          "61 - 70",
          "61 - 70",
          "61 - 70",
          "51 - 60",
          "31 - 40",
          "91 - 100",
          "91 - 100",
          "61 - 70",
          "71 - 80",
          "51 - 60",
          "61 - 70",
          "71 - 80",
          "71 - 80",
          "31 - 40",
          "61 - 70",
          "31 - 40",
          "61 - 70",
          "61 - 70",
          "61 - 70",
          "41 - 50",
          "61 - 70",
          "41 - 50",
          "41 - 50",
          "71 - 80",
          "31 - 40",
          "51 - 60",
          "91 - 100",
          "91 - 100",
          "91 - 100",
          "81 - 90",
          "11 - 20",
          "81 - 90",
          "81 - 90",
          "81 - 90",
          "91 - 100",
          "81 - 90",
          "11 - 20",
          "81 - 90",
          "81 - 90",
          "81 - 90",
          "51 - 60",
          "31 - 40",
          "11 - 20",
          "61 - 70",
          "11 - 20",
          "61 - 70",
          "31 - 40",
          "31 - 40",
          "11 - 20",
          "11 - 20",
          "31 - 40",
          "61 - 70",
          "51 - 60",
          "41 - 50",
          "41 - 50",
          "51 - 60",
          "21 - 30",
          "81 - 90",
          "71 - 80",
          "41 - 50",
          "11 - 20",
          "51 - 60",
          "51 - 60",
          "61 - 70",
          "61 - 70",
          "21 - 30",
          "61 - 70",
          "0 - 10",
          "91 - 100",
          "91 - 100",
          "0 - 10",
          "91 - 100",
          "91 - 100",
          "61 - 70",
          "91 - 100",
          "0 - 10",
          "71 - 80",
          "31 - 40",
          "31 - 40",
          "81 - 90",
          "21 - 30",
          "71 - 80",
          "71 - 80",
          "81 - 90",
          "21 - 30",
          "81 - 90",
          "21 - 30",
          "71 - 80",
          "71 - 80",
          "31 - 40",
          "31 - 40",
          "11 - 20",
          "71 - 80",
          "81 - 90",
          "31 - 40",
          "71 - 80",
          "61 - 70",
          "81 - 90",
          "61 - 70",
          "71 - 80",
          "71 - 80",
          "0 - 10",
          "41 - 50",
          "41 - 50",
          "41 - 50",
          "51 - 60",
          "41 - 50",
          "51 - 60",
          "41 - 50",
          "41 - 50",
          "91 - 100",
          "91 - 100",
          "91 - 100",
          "41 - 50",
          "61 - 70",
          "61 - 70",
          "11 - 20",
          "31 - 40",
          "91 - 100",
          "31 - 40",
          "41 - 50",
          "0 - 10",
          "11 - 20",
          "81 - 90",
          "91 - 100",
          "0 - 10",
          "71 - 80",
          "31 - 40",
          "91 - 100",
          "31 - 40",
          "11 - 20",
          "11 - 20",
          "31 - 40",
          "51 - 60",
          "81 - 90",
          "0 - 10",
          "81 - 90",
          "41 - 50",
          "21 - 30",
          "31 - 40",
          "11 - 20",
          "21 - 30",
          "41 - 50",
          "31 - 40",
          "21 - 30",
          "31 - 40",
          "21 - 30",
          "91 - 100",
          "91 - 100",
          "91 - 100",
          "11 - 20",
          "0 - 10",
          "81 - 90",
          "51 - 60",
          "11 - 20",
          "0 - 10",
          "0 - 10",
          "91 - 100",
          "11 - 20",
          "91 - 100",
          "41 - 50",
          "51 - 60",
          "51 - 60",
          "41 - 50",
          "51 - 60",
          "21 - 30",
          "91 - 100",
          "11 - 20",
          "81 - 90",
          "21 - 30",
          "31 - 40",
          "11 - 20",
          "41 - 50",
          "51 - 60",
          "71 - 80",
          "81 - 90",
          "61 - 70",
          "21 - 30",
          "31 - 40",
          "61 - 70",
          "41 - 50",
          "41 - 50",
          "51 - 60",
          "0 - 10",
          "81 - 90",
          "0 - 10",
          "41 - 50",
          "41 - 50",
          "41 - 50",
          "51 - 60",
          "81 - 90",
          "21 - 30",
          "61 - 70",
          "31 - 40",
          "61 - 70",
          "51 - 60",
          "81 - 90",
          "41 - 50",
          "71 - 80",
          "51 - 60",
          "31 - 40",
          "51 - 60",
          "81 - 90",
          "51 - 60",
          "91 - 100",
          "51 - 60",
          "71 - 80",
          "61 - 70",
          "21 - 30",
          "51 - 60",
          "31 - 40",
          "41 - 50",
          "61 - 70",
          "0 - 10",
          "41 - 50",
          "81 - 90",
          "11 - 20",
          "31 - 40",
          "61 - 70",
          "11 - 20",
          "81 - 90",
          "51 - 60",
          "21 - 30",
          "21 - 30",
          "51 - 60",
          "51 - 60",
          "81 - 90",
          "81 - 90",
          "81 - 90",
          "11 - 20",
          "81 - 90",
          "61 - 70",
          "21 - 30",
          "41 - 50",
          "21 - 30",
          "61 - 70",
          "61 - 70",
          "51 - 60",
          "71 - 80",
          "71 - 80",
          "41 - 50",
          "21 - 30",
          "91 - 100",
          "61 - 70",
          "51 - 60",
          "91 - 100",
          "11 - 20",
          "71 - 80",
          "61 - 70",
          "21 - 30",
          "31 - 40",
          "81 - 90",
          "21 - 30",
          "11 - 20",
          "51 - 60",
          "11 - 20",
          "61 - 70",
          "21 - 30",
          "81 - 90",
          "91 - 100",
          "11 - 20",
          "71 - 80",
          "0 - 10",
          "81 - 90",
          "71 - 80",
          "71 - 80",
          "0 - 10",
          "51 - 60",
          "21 - 30",
          "21 - 30",
          "41 - 50",
          "41 - 50",
          "41 - 50",
          "91 - 100",
          "21 - 30",
          "91 - 100",
          "11 - 20",
          "61 - 70",
          "51 - 60",
          "61 - 70",
          "31 - 40",
          "31 - 40",
          "31 - 40",
          "91 - 100",
          "91 - 100",
          "51 - 60",
          "51 - 60",
          "81 - 90",
          "61 - 70",
          "91 - 100",
          "61 - 70",
          "91 - 100",
          "81 - 90",
          "11 - 20",
          "91 - 100",
          "91 - 100",
          "21 - 30",
          "51 - 60",
          "81 - 90",
          "91 - 100",
          "91 - 100",
          "71 - 80",
          "61 - 70",
          "51 - 60",
          "61 - 70",
          "71 - 80",
          "0 - 10",
          "61 - 70",
          "31 - 40",
          "91 - 100",
          "51 - 60",
          "0 - 10",
          "71 - 80",
          "41 - 50",
          "91 - 100",
          "91 - 100",
          "0 - 10",
          "11 - 20",
          "51 - 60",
          "81 - 90",
          "91 - 100",
          "21 - 30",
          "51 - 60",
          "91 - 100",
          "51 - 60",
          "11 - 20",
          "21 - 30",
          "0 - 10",
          "0 - 10",
          "71 - 80",
          "61 - 70",
          "51 - 60",
          "81 - 90",
          "81 - 90",
          "31 - 40",
          "71 - 80",
          "41 - 50",
          "11 - 20",
          "71 - 80",
          "71 - 80",
          "0 - 10",
          "21 - 30",
          "71 - 80",
          "41 - 50",
          "71 - 80",
          "41 - 50",
          "51 - 60",
          "31 - 40",
          "41 - 50",
          "21 - 30",
          "21 - 30",
          "21 - 30",
          "51 - 60",
          "41 - 50",
          "91 - 100",
          "51 - 60",
          "81 - 90",
          "61 - 70",
          "51 - 60",
          "81 - 90",
          "81 - 90",
          "51 - 60",
          "91 - 100",
          "0 - 10",
          "41 - 50",
          "41 - 50",
          "11 - 20",
          "0 - 10",
          "41 - 50",
          "0 - 10",
          "91 - 100",
          "0 - 10",
          "21 - 30",
          "71 - 80",
          "91 - 100",
          "61 - 70",
          "51 - 60",
          "71 - 80",
          "81 - 90",
          "91 - 100",
          "81 - 90",
          "21 - 30",
          "0 - 10",
          "11 - 20",
          "41 - 50",
          "91 - 100",
          "91 - 100",
          "41 - 50",
          "11 - 20",
          "71 - 80",
          "31 - 40",
          "91 - 100",
          "81 - 90",
          "21 - 30",
          "41 - 50",
          "61 - 70",
          "71 - 80",
          "91 - 100",
          "21 - 30",
          "61 - 70",
          "51 - 60",
          "81 - 90",
          "71 - 80",
          "0 - 10",
          "11 - 20",
          "31 - 40",
          "31 - 40",
          "51 - 60",
          "0 - 10",
          "71 - 80",
          "51 - 60",
          "61 - 70",
          "71 - 80",
          "11 - 20",
          "71 - 80",
          "11 - 20",
          "71 - 80",
          "11 - 20",
          "81 - 90",
          "21 - 30",
          "61 - 70",
          "21 - 30",
          "41 - 50",
          "61 - 70",
          "51 - 60",
          "91 - 100",
          "51 - 60",
          "51 - 60",
          "61 - 70",
          "61 - 70",
          "0 - 10",
          "71 - 80",
          "71 - 80",
          "31 - 40",
          "21 - 30",
          "41 - 50",
          "91 - 100",
          "71 - 80",
          "41 - 50",
          "81 - 90",
          "51 - 60",
          "31 - 40",
          "71 - 80",
          "61 - 70",
          "91 - 100",
          "31 - 40",
          "91 - 100",
          "31 - 40",
          "91 - 100",
          "91 - 100",
          "0 - 10",
          "11 - 20",
          "21 - 30",
          "61 - 70",
          "81 - 90",
          "61 - 70",
          "61 - 70",
          "11 - 20",
          "41 - 50",
          "51 - 60",
          "81 - 90",
          "11 - 20",
          "81 - 90",
          "91 - 100",
          "61 - 70",
          "91 - 100",
          "51 - 60",
          "71 - 80",
          "41 - 50",
          "71 - 80",
          "91 - 100",
          "81 - 90",
          "11 - 20",
          "41 - 50",
          "0 - 10",
          "51 - 60",
          "11 - 20",
          "81 - 90",
          "71 - 80",
          "0 - 10",
          "11 - 20",
          "91 - 100",
          "61 - 70",
          "61 - 70",
          "61 - 70",
          "41 - 50",
          "91 - 100",
          "81 - 90",
          "81 - 90",
          "61 - 70",
          "0 - 10",
          "71 - 80",
          "81 - 90",
          "51 - 60",
          "51 - 60",
          "81 - 90",
          "81 - 90",
          "61 - 70",
          "81 - 90",
          "81 - 90",
          "41 - 50",
          "51 - 60",
          "91 - 100",
          "81 - 90",
          "11 - 20",
          "51 - 60",
          "71 - 80",
          "51 - 60",
          "31 - 40",
          "41 - 50",
          "71 - 80",
          "41 - 50",
          "51 - 60",
          "71 - 80",
          "81 - 90",
          "41 - 50",
          "71 - 80",
          "81 - 90",
          "31 - 40",
          "91 - 100",
          "91 - 100",
          "61 - 70",
          "51 - 60",
          "41 - 50",
          "61 - 70",
          "61 - 70",
          "61 - 70",
          "51 - 60",
          "0 - 10",
          "61 - 70",
          "81 - 90",
          "81 - 90",
          "61 - 70",
          "71 - 80",
          "91 - 100",
          "31 - 40",
          "11 - 20",
          "71 - 80",
          "91 - 100",
          "91 - 100",
          "0 - 10",
          "0 - 10",
          "51 - 60",
          "41 - 50",
          "51 - 60",
          "61 - 70",
          "31 - 40",
          "21 - 30",
          "81 - 90",
          "91 - 100",
          "31 - 40",
          "11 - 20",
          "61 - 70",
          "71 - 80",
          "21 - 30",
          "31 - 40",
          "21 - 30",
          "41 - 50",
          "61 - 70",
          "81 - 90",
          "61 - 70",
          "0 - 10",
          "61 - 70",
          "31 - 40",
          "61 - 70",
          "81 - 90",
          "61 - 70",
          "11 - 20",
          "61 - 70",
          "51 - 60",
          "61 - 70",
          "91 - 100",
          "0 - 10",
          "91 - 100",
          "81 - 90",
          "91 - 100",
          "91 - 100",
          "21 - 30",
          "71 - 80",
          "21 - 30",
          "61 - 70",
          "41 - 50",
          "41 - 50",
          "51 - 60",
          "81 - 90",
          "41 - 50",
          "41 - 50",
          "61 - 70",
          "91 - 100",
          "91 - 100",
          "0 - 10",
          "41 - 50",
          "41 - 50",
          "61 - 70",
          "91 - 100",
          "31 - 40",
          "61 - 70",
          "61 - 70",
          "61 - 70",
          "41 - 50",
          "81 - 90",
          "91 - 100",
          "81 - 90",
          "81 - 90",
          "41 - 50",
          "21 - 30",
          "81 - 90",
          "41 - 50",
          "11 - 20",
          "11 - 20",
          "41 - 50",
          "71 - 80",
          "41 - 50",
          "71 - 80",
          "21 - 30",
          "61 - 70",
          "81 - 90",
          "21 - 30",
          "51 - 60",
          "41 - 50",
          "0 - 10",
          "91 - 100",
          "71 - 80",
          "91 - 100",
          "21 - 30",
          "61 - 70",
          "0 - 10",
          "0 - 10",
          "71 - 80",
          "51 - 60",
          "61 - 70",
          "31 - 40",
          "51 - 60",
          "71 - 80",
          "81 - 90",
          "91 - 100",
          "81 - 90",
          "81 - 90",
          "41 - 50",
          "81 - 90",
          "41 - 50",
          "0 - 10",
          "0 - 10",
          "0 - 10",
          "71 - 80",
          "41 - 50",
          "91 - 100",
          "31 - 40",
          "0 - 10",
          "71 - 80",
          "61 - 70",
          "81 - 90",
          "81 - 90",
          "51 - 60",
          "91 - 100",
          "81 - 90",
          "91 - 100",
          "61 - 70",
          "91 - 100",
          "91 - 100",
          "91 - 100",
          "41 - 50",
          "71 - 80",
          "71 - 80",
          "71 - 80",
          "81 - 90",
          "91 - 100",
          "71 - 80",
          "11 - 20",
          "91 - 100",
          "81 - 90",
          "51 - 60",
          "31 - 40",
          "91 - 100",
          "91 - 100",
          "41 - 50",
          "31 - 40",
          "51 - 60",
          "11 - 20",
          "11 - 20",
          "21 - 30",
          "71 - 80",
          "61 - 70",
          "61 - 70",
          "51 - 60",
          "51 - 60",
          "11 - 20",
          "61 - 70",
          "21 - 30",
          "81 - 90",
          "81 - 90",
          "71 - 80",
          "41 - 50",
          "21 - 30",
          "31 - 40",
          "81 - 90",
          "11 - 20",
          "91 - 100",
          "71 - 80",
          "51 - 60",
          "51 - 60",
          "61 - 70",
          "61 - 70",
          "91 - 100",
          "81 - 90",
          "71 - 80",
          "81 - 90",
          "0 - 10",
          "81 - 90",
          "0 - 10",
          "91 - 100",
          "61 - 70",
          "91 - 100",
          "91 - 100",
          "91 - 100",
          "81 - 90",
          "91 - 100",
          "81 - 90",
          "21 - 30",
          "61 - 70",
          "71 - 80",
          "81 - 90",
          "81 - 90",
          "11 - 20",
          "61 - 70",
          "51 - 60",
          "11 - 20",
          "81 - 90",
          "0 - 10",
          "81 - 90",
          "41 - 50",
          "71 - 80",
          "21 - 30",
          "41 - 50",
          "51 - 60",
          "21 - 30",
          "81 - 90",
          "71 - 80",
          "51 - 60",
          "91 - 100",
          "61 - 70",
          "81 - 90",
          "31 - 40",
          "71 - 80",
          "41 - 50",
          "81 - 90",
          "61 - 70",
          "41 - 50",
          "21 - 30",
          "81 - 90",
          "91 - 100",
          "71 - 80",
          "61 - 70",
          "21 - 30",
          "31 - 40",
          "31 - 40",
          "61 - 70",
          "51 - 60",
          "81 - 90",
          "31 - 40",
          "91 - 100",
          "41 - 50",
          "71 - 80",
          "81 - 90",
          "31 - 40",
          "21 - 30",
          "81 - 90",
          "81 - 90",
          "61 - 70",
          "71 - 80",
          "71 - 80",
          "51 - 60",
          "71 - 80",
          "91 - 100",
          "81 - 90",
          "11 - 20",
          "0 - 10",
          "31 - 40",
          "31 - 40",
          "81 - 90",
          "71 - 80",
          "71 - 80",
          "11 - 20",
          "71 - 80",
          "91 - 100",
          "51 - 60",
          "91 - 100",
          "71 - 80",
          "71 - 80",
          "71 - 80",
          "91 - 100",
          "91 - 100",
          "81 - 90",
          "41 - 50",
          "61 - 70",
          "91 - 100",
          "51 - 60",
          "81 - 90",
          "71 - 80",
          "61 - 70"
         ],
         "yaxis": "y",
         "ybingroup": "y"
        }
       ],
       "layout": {
        "coloraxis": {
         "colorbar": {
          "title": {
           "text": "count"
          }
         },
         "colorscale": [
          [
           0,
           "#440154"
          ],
          [
           0.1111111111111111,
           "#482878"
          ],
          [
           0.2222222222222222,
           "#3e4989"
          ],
          [
           0.3333333333333333,
           "#31688e"
          ],
          [
           0.4444444444444444,
           "#26828e"
          ],
          [
           0.5555555555555556,
           "#1f9e89"
          ],
          [
           0.6666666666666666,
           "#35b779"
          ],
          [
           0.7777777777777778,
           "#6ece58"
          ],
          [
           0.8888888888888888,
           "#b5de2b"
          ],
          [
           1,
           "#fde725"
          ]
         ]
        },
        "legend": {
         "tracegroupgap": 0
        },
        "margin": {
         "t": 60
        },
        "template": {
         "data": {
          "bar": [
           {
            "error_x": {
             "color": "#f2f5fa"
            },
            "error_y": {
             "color": "#f2f5fa"
            },
            "marker": {
             "line": {
              "color": "rgb(17,17,17)",
              "width": 0.5
             },
             "pattern": {
              "fillmode": "overlay",
              "size": 10,
              "solidity": 0.2
             }
            },
            "type": "bar"
           }
          ],
          "barpolar": [
           {
            "marker": {
             "line": {
              "color": "rgb(17,17,17)",
              "width": 0.5
             },
             "pattern": {
              "fillmode": "overlay",
              "size": 10,
              "solidity": 0.2
             }
            },
            "type": "barpolar"
           }
          ],
          "carpet": [
           {
            "aaxis": {
             "endlinecolor": "#A2B1C6",
             "gridcolor": "#506784",
             "linecolor": "#506784",
             "minorgridcolor": "#506784",
             "startlinecolor": "#A2B1C6"
            },
            "baxis": {
             "endlinecolor": "#A2B1C6",
             "gridcolor": "#506784",
             "linecolor": "#506784",
             "minorgridcolor": "#506784",
             "startlinecolor": "#A2B1C6"
            },
            "type": "carpet"
           }
          ],
          "choropleth": [
           {
            "colorbar": {
             "outlinewidth": 0,
             "ticks": ""
            },
            "type": "choropleth"
           }
          ],
          "contour": [
           {
            "colorbar": {
             "outlinewidth": 0,
             "ticks": ""
            },
            "colorscale": [
             [
              0,
              "#0d0887"
             ],
             [
              0.1111111111111111,
              "#46039f"
             ],
             [
              0.2222222222222222,
              "#7201a8"
             ],
             [
              0.3333333333333333,
              "#9c179e"
             ],
             [
              0.4444444444444444,
              "#bd3786"
             ],
             [
              0.5555555555555556,
              "#d8576b"
             ],
             [
              0.6666666666666666,
              "#ed7953"
             ],
             [
              0.7777777777777778,
              "#fb9f3a"
             ],
             [
              0.8888888888888888,
              "#fdca26"
             ],
             [
              1,
              "#f0f921"
             ]
            ],
            "type": "contour"
           }
          ],
          "contourcarpet": [
           {
            "colorbar": {
             "outlinewidth": 0,
             "ticks": ""
            },
            "type": "contourcarpet"
           }
          ],
          "heatmap": [
           {
            "colorbar": {
             "outlinewidth": 0,
             "ticks": ""
            },
            "colorscale": [
             [
              0,
              "#0d0887"
             ],
             [
              0.1111111111111111,
              "#46039f"
             ],
             [
              0.2222222222222222,
              "#7201a8"
             ],
             [
              0.3333333333333333,
              "#9c179e"
             ],
             [
              0.4444444444444444,
              "#bd3786"
             ],
             [
              0.5555555555555556,
              "#d8576b"
             ],
             [
              0.6666666666666666,
              "#ed7953"
             ],
             [
              0.7777777777777778,
              "#fb9f3a"
             ],
             [
              0.8888888888888888,
              "#fdca26"
             ],
             [
              1,
              "#f0f921"
             ]
            ],
            "type": "heatmap"
           }
          ],
          "heatmapgl": [
           {
            "colorbar": {
             "outlinewidth": 0,
             "ticks": ""
            },
            "colorscale": [
             [
              0,
              "#0d0887"
             ],
             [
              0.1111111111111111,
              "#46039f"
             ],
             [
              0.2222222222222222,
              "#7201a8"
             ],
             [
              0.3333333333333333,
              "#9c179e"
             ],
             [
              0.4444444444444444,
              "#bd3786"
             ],
             [
              0.5555555555555556,
              "#d8576b"
             ],
             [
              0.6666666666666666,
              "#ed7953"
             ],
             [
              0.7777777777777778,
              "#fb9f3a"
             ],
             [
              0.8888888888888888,
              "#fdca26"
             ],
             [
              1,
              "#f0f921"
             ]
            ],
            "type": "heatmapgl"
           }
          ],
          "histogram": [
           {
            "marker": {
             "pattern": {
              "fillmode": "overlay",
              "size": 10,
              "solidity": 0.2
             }
            },
            "type": "histogram"
           }
          ],
          "histogram2d": [
           {
            "colorbar": {
             "outlinewidth": 0,
             "ticks": ""
            },
            "colorscale": [
             [
              0,
              "#0d0887"
             ],
             [
              0.1111111111111111,
              "#46039f"
             ],
             [
              0.2222222222222222,
              "#7201a8"
             ],
             [
              0.3333333333333333,
              "#9c179e"
             ],
             [
              0.4444444444444444,
              "#bd3786"
             ],
             [
              0.5555555555555556,
              "#d8576b"
             ],
             [
              0.6666666666666666,
              "#ed7953"
             ],
             [
              0.7777777777777778,
              "#fb9f3a"
             ],
             [
              0.8888888888888888,
              "#fdca26"
             ],
             [
              1,
              "#f0f921"
             ]
            ],
            "type": "histogram2d"
           }
          ],
          "histogram2dcontour": [
           {
            "colorbar": {
             "outlinewidth": 0,
             "ticks": ""
            },
            "colorscale": [
             [
              0,
              "#0d0887"
             ],
             [
              0.1111111111111111,
              "#46039f"
             ],
             [
              0.2222222222222222,
              "#7201a8"
             ],
             [
              0.3333333333333333,
              "#9c179e"
             ],
             [
              0.4444444444444444,
              "#bd3786"
             ],
             [
              0.5555555555555556,
              "#d8576b"
             ],
             [
              0.6666666666666666,
              "#ed7953"
             ],
             [
              0.7777777777777778,
              "#fb9f3a"
             ],
             [
              0.8888888888888888,
              "#fdca26"
             ],
             [
              1,
              "#f0f921"
             ]
            ],
            "type": "histogram2dcontour"
           }
          ],
          "mesh3d": [
           {
            "colorbar": {
             "outlinewidth": 0,
             "ticks": ""
            },
            "type": "mesh3d"
           }
          ],
          "parcoords": [
           {
            "line": {
             "colorbar": {
              "outlinewidth": 0,
              "ticks": ""
             }
            },
            "type": "parcoords"
           }
          ],
          "pie": [
           {
            "automargin": true,
            "type": "pie"
           }
          ],
          "scatter": [
           {
            "marker": {
             "line": {
              "color": "#283442"
             }
            },
            "type": "scatter"
           }
          ],
          "scatter3d": [
           {
            "line": {
             "colorbar": {
              "outlinewidth": 0,
              "ticks": ""
             }
            },
            "marker": {
             "colorbar": {
              "outlinewidth": 0,
              "ticks": ""
             }
            },
            "type": "scatter3d"
           }
          ],
          "scattercarpet": [
           {
            "marker": {
             "colorbar": {
              "outlinewidth": 0,
              "ticks": ""
             }
            },
            "type": "scattercarpet"
           }
          ],
          "scattergeo": [
           {
            "marker": {
             "colorbar": {
              "outlinewidth": 0,
              "ticks": ""
             }
            },
            "type": "scattergeo"
           }
          ],
          "scattergl": [
           {
            "marker": {
             "line": {
              "color": "#283442"
             }
            },
            "type": "scattergl"
           }
          ],
          "scattermapbox": [
           {
            "marker": {
             "colorbar": {
              "outlinewidth": 0,
              "ticks": ""
             }
            },
            "type": "scattermapbox"
           }
          ],
          "scatterpolar": [
           {
            "marker": {
             "colorbar": {
              "outlinewidth": 0,
              "ticks": ""
             }
            },
            "type": "scatterpolar"
           }
          ],
          "scatterpolargl": [
           {
            "marker": {
             "colorbar": {
              "outlinewidth": 0,
              "ticks": ""
             }
            },
            "type": "scatterpolargl"
           }
          ],
          "scatterternary": [
           {
            "marker": {
             "colorbar": {
              "outlinewidth": 0,
              "ticks": ""
             }
            },
            "type": "scatterternary"
           }
          ],
          "surface": [
           {
            "colorbar": {
             "outlinewidth": 0,
             "ticks": ""
            },
            "colorscale": [
             [
              0,
              "#0d0887"
             ],
             [
              0.1111111111111111,
              "#46039f"
             ],
             [
              0.2222222222222222,
              "#7201a8"
             ],
             [
              0.3333333333333333,
              "#9c179e"
             ],
             [
              0.4444444444444444,
              "#bd3786"
             ],
             [
              0.5555555555555556,
              "#d8576b"
             ],
             [
              0.6666666666666666,
              "#ed7953"
             ],
             [
              0.7777777777777778,
              "#fb9f3a"
             ],
             [
              0.8888888888888888,
              "#fdca26"
             ],
             [
              1,
              "#f0f921"
             ]
            ],
            "type": "surface"
           }
          ],
          "table": [
           {
            "cells": {
             "fill": {
              "color": "#506784"
             },
             "line": {
              "color": "rgb(17,17,17)"
             }
            },
            "header": {
             "fill": {
              "color": "#2a3f5f"
             },
             "line": {
              "color": "rgb(17,17,17)"
             }
            },
            "type": "table"
           }
          ]
         },
         "layout": {
          "annotationdefaults": {
           "arrowcolor": "#f2f5fa",
           "arrowhead": 0,
           "arrowwidth": 1
          },
          "autotypenumbers": "strict",
          "coloraxis": {
           "colorbar": {
            "outlinewidth": 0,
            "ticks": ""
           }
          },
          "colorscale": {
           "diverging": [
            [
             0,
             "#8e0152"
            ],
            [
             0.1,
             "#c51b7d"
            ],
            [
             0.2,
             "#de77ae"
            ],
            [
             0.3,
             "#f1b6da"
            ],
            [
             0.4,
             "#fde0ef"
            ],
            [
             0.5,
             "#f7f7f7"
            ],
            [
             0.6,
             "#e6f5d0"
            ],
            [
             0.7,
             "#b8e186"
            ],
            [
             0.8,
             "#7fbc41"
            ],
            [
             0.9,
             "#4d9221"
            ],
            [
             1,
             "#276419"
            ]
           ],
           "sequential": [
            [
             0,
             "#0d0887"
            ],
            [
             0.1111111111111111,
             "#46039f"
            ],
            [
             0.2222222222222222,
             "#7201a8"
            ],
            [
             0.3333333333333333,
             "#9c179e"
            ],
            [
             0.4444444444444444,
             "#bd3786"
            ],
            [
             0.5555555555555556,
             "#d8576b"
            ],
            [
             0.6666666666666666,
             "#ed7953"
            ],
            [
             0.7777777777777778,
             "#fb9f3a"
            ],
            [
             0.8888888888888888,
             "#fdca26"
            ],
            [
             1,
             "#f0f921"
            ]
           ],
           "sequentialminus": [
            [
             0,
             "#0d0887"
            ],
            [
             0.1111111111111111,
             "#46039f"
            ],
            [
             0.2222222222222222,
             "#7201a8"
            ],
            [
             0.3333333333333333,
             "#9c179e"
            ],
            [
             0.4444444444444444,
             "#bd3786"
            ],
            [
             0.5555555555555556,
             "#d8576b"
            ],
            [
             0.6666666666666666,
             "#ed7953"
            ],
            [
             0.7777777777777778,
             "#fb9f3a"
            ],
            [
             0.8888888888888888,
             "#fdca26"
            ],
            [
             1,
             "#f0f921"
            ]
           ]
          },
          "colorway": [
           "#636efa",
           "#EF553B",
           "#00cc96",
           "#ab63fa",
           "#FFA15A",
           "#19d3f3",
           "#FF6692",
           "#B6E880",
           "#FF97FF",
           "#FECB52"
          ],
          "font": {
           "color": "#f2f5fa"
          },
          "geo": {
           "bgcolor": "rgb(17,17,17)",
           "lakecolor": "rgb(17,17,17)",
           "landcolor": "rgb(17,17,17)",
           "showlakes": true,
           "showland": true,
           "subunitcolor": "#506784"
          },
          "hoverlabel": {
           "align": "left"
          },
          "hovermode": "closest",
          "mapbox": {
           "style": "dark"
          },
          "paper_bgcolor": "rgb(17,17,17)",
          "plot_bgcolor": "rgb(17,17,17)",
          "polar": {
           "angularaxis": {
            "gridcolor": "#506784",
            "linecolor": "#506784",
            "ticks": ""
           },
           "bgcolor": "rgb(17,17,17)",
           "radialaxis": {
            "gridcolor": "#506784",
            "linecolor": "#506784",
            "ticks": ""
           }
          },
          "scene": {
           "xaxis": {
            "backgroundcolor": "rgb(17,17,17)",
            "gridcolor": "#506784",
            "gridwidth": 2,
            "linecolor": "#506784",
            "showbackground": true,
            "ticks": "",
            "zerolinecolor": "#C8D4E3"
           },
           "yaxis": {
            "backgroundcolor": "rgb(17,17,17)",
            "gridcolor": "#506784",
            "gridwidth": 2,
            "linecolor": "#506784",
            "showbackground": true,
            "ticks": "",
            "zerolinecolor": "#C8D4E3"
           },
           "zaxis": {
            "backgroundcolor": "rgb(17,17,17)",
            "gridcolor": "#506784",
            "gridwidth": 2,
            "linecolor": "#506784",
            "showbackground": true,
            "ticks": "",
            "zerolinecolor": "#C8D4E3"
           }
          },
          "shapedefaults": {
           "line": {
            "color": "#f2f5fa"
           }
          },
          "sliderdefaults": {
           "bgcolor": "#C8D4E3",
           "bordercolor": "rgb(17,17,17)",
           "borderwidth": 1,
           "tickwidth": 0
          },
          "ternary": {
           "aaxis": {
            "gridcolor": "#506784",
            "linecolor": "#506784",
            "ticks": ""
           },
           "baxis": {
            "gridcolor": "#506784",
            "linecolor": "#506784",
            "ticks": ""
           },
           "bgcolor": "rgb(17,17,17)",
           "caxis": {
            "gridcolor": "#506784",
            "linecolor": "#506784",
            "ticks": ""
           }
          },
          "title": {
           "x": 0.05
          },
          "updatemenudefaults": {
           "bgcolor": "#506784",
           "borderwidth": 0
          },
          "xaxis": {
           "automargin": true,
           "gridcolor": "#283442",
           "linecolor": "#506784",
           "ticks": "",
           "title": {
            "standoff": 15
           },
           "zerolinecolor": "#283442",
           "zerolinewidth": 2
          },
          "yaxis": {
           "automargin": true,
           "gridcolor": "#283442",
           "linecolor": "#506784",
           "ticks": "",
           "title": {
            "standoff": 15
           },
           "zerolinecolor": "#283442",
           "zerolinewidth": 2
          }
         }
        },
        "title": {
         "text": "Popularity vs Chart Power - Weltweit"
        },
        "xaxis": {
         "anchor": "y",
         "domain": [
          0,
          1
         ],
         "title": {
          "text": "Popularity"
         }
        },
        "yaxis": {
         "anchor": "x",
         "categoryarray": [
          "0 - 10",
          "11 - 20",
          "21 - 30",
          "31 - 40",
          "41 - 50",
          "51 - 60",
          "61 - 70",
          "71 - 80",
          "81 - 90",
          "91 - 100"
         ],
         "categoryorder": "array",
         "domain": [
          0,
          1
         ],
         "title": {
          "text": "Chart Power"
         }
        }
       }
      }
     },
     "metadata": {},
     "output_type": "display_data"
    }
   ],
   "source": [
    "create_heatmap(df_found_copy, \"Popularity vs Chart Power - Weltweit\")"
   ]
  },
  {
   "cell_type": "code",
   "execution_count": 46,
   "metadata": {},
   "outputs": [
    {
     "data": {
      "application/vnd.plotly.v1+json": {
       "config": {
        "plotlyServerURL": "https://plot.ly"
       },
       "data": [
        {
         "hovertemplate": "popularity_percentile=%{x}<br>chart_power_percentile=%{y}<br>count=%{marker.size}<extra></extra>",
         "legendgroup": "",
         "marker": {
          "color": "#636efa",
          "size": [
           8,
           9,
           6,
           6,
           4,
           5,
           3,
           5,
           3,
           2,
           9,
           8,
           6,
           6,
           4,
           5,
           5,
           3,
           4,
           5,
           7,
           6,
           5,
           6,
           3,
           9,
           3,
           2,
           3,
           3,
           8,
           5,
           10,
           3,
           9,
           2,
           5,
           8,
           3,
           5,
           4,
           2,
           7,
           2,
           4,
           7,
           4,
           5,
           5,
           0,
           3,
           7,
           5,
           4,
           15,
           4,
           7,
           5,
           4,
           3,
           7,
           7,
           5,
           10,
           4,
           5,
           6,
           4,
           0,
           2,
           1,
           1,
           3,
           4,
           2,
           5,
           9,
           6,
           12,
           5,
           6,
           3,
           2,
           7,
           3,
           6,
           3,
           4,
           10,
           10,
           1,
           3,
           2,
           2,
           3,
           2,
           5,
           8,
           7,
           11
          ],
          "sizemode": "area",
          "sizeref": 0.0375,
          "symbol": "circle"
         },
         "mode": "markers",
         "name": "",
         "orientation": "v",
         "showlegend": false,
         "type": "scatter",
         "x": [
          "0 - 10",
          "0 - 10",
          "0 - 10",
          "0 - 10",
          "0 - 10",
          "0 - 10",
          "0 - 10",
          "0 - 10",
          "0 - 10",
          "0 - 10",
          "11 - 20",
          "11 - 20",
          "11 - 20",
          "11 - 20",
          "11 - 20",
          "11 - 20",
          "11 - 20",
          "11 - 20",
          "11 - 20",
          "11 - 20",
          "21 - 30",
          "21 - 30",
          "21 - 30",
          "21 - 30",
          "21 - 30",
          "21 - 30",
          "21 - 30",
          "21 - 30",
          "21 - 30",
          "21 - 30",
          "31 - 40",
          "31 - 40",
          "31 - 40",
          "31 - 40",
          "31 - 40",
          "31 - 40",
          "31 - 40",
          "31 - 40",
          "31 - 40",
          "31 - 40",
          "41 - 50",
          "41 - 50",
          "41 - 50",
          "41 - 50",
          "41 - 50",
          "41 - 50",
          "41 - 50",
          "41 - 50",
          "41 - 50",
          "41 - 50",
          "51 - 60",
          "51 - 60",
          "51 - 60",
          "51 - 60",
          "51 - 60",
          "51 - 60",
          "51 - 60",
          "51 - 60",
          "51 - 60",
          "51 - 60",
          "61 - 70",
          "61 - 70",
          "61 - 70",
          "61 - 70",
          "61 - 70",
          "61 - 70",
          "61 - 70",
          "61 - 70",
          "61 - 70",
          "61 - 70",
          "71 - 80",
          "71 - 80",
          "71 - 80",
          "71 - 80",
          "71 - 80",
          "71 - 80",
          "71 - 80",
          "71 - 80",
          "71 - 80",
          "71 - 80",
          "81 - 90",
          "81 - 90",
          "81 - 90",
          "81 - 90",
          "81 - 90",
          "81 - 90",
          "81 - 90",
          "81 - 90",
          "81 - 90",
          "81 - 90",
          "91 - 100",
          "91 - 100",
          "91 - 100",
          "91 - 100",
          "91 - 100",
          "91 - 100",
          "91 - 100",
          "91 - 100",
          "91 - 100",
          "91 - 100"
         ],
         "xaxis": "x",
         "y": [
          "0 - 10",
          "11 - 20",
          "21 - 30",
          "31 - 40",
          "41 - 50",
          "51 - 60",
          "61 - 70",
          "71 - 80",
          "81 - 90",
          "91 - 100",
          "0 - 10",
          "11 - 20",
          "21 - 30",
          "31 - 40",
          "41 - 50",
          "51 - 60",
          "61 - 70",
          "71 - 80",
          "81 - 90",
          "91 - 100",
          "0 - 10",
          "11 - 20",
          "21 - 30",
          "31 - 40",
          "41 - 50",
          "51 - 60",
          "61 - 70",
          "71 - 80",
          "81 - 90",
          "91 - 100",
          "0 - 10",
          "11 - 20",
          "21 - 30",
          "31 - 40",
          "41 - 50",
          "51 - 60",
          "61 - 70",
          "71 - 80",
          "81 - 90",
          "91 - 100",
          "0 - 10",
          "11 - 20",
          "21 - 30",
          "31 - 40",
          "41 - 50",
          "51 - 60",
          "61 - 70",
          "71 - 80",
          "81 - 90",
          "91 - 100",
          "0 - 10",
          "11 - 20",
          "21 - 30",
          "31 - 40",
          "41 - 50",
          "51 - 60",
          "61 - 70",
          "71 - 80",
          "81 - 90",
          "91 - 100",
          "0 - 10",
          "11 - 20",
          "21 - 30",
          "31 - 40",
          "41 - 50",
          "51 - 60",
          "61 - 70",
          "71 - 80",
          "81 - 90",
          "91 - 100",
          "0 - 10",
          "11 - 20",
          "21 - 30",
          "31 - 40",
          "41 - 50",
          "51 - 60",
          "61 - 70",
          "71 - 80",
          "81 - 90",
          "91 - 100",
          "0 - 10",
          "11 - 20",
          "21 - 30",
          "31 - 40",
          "41 - 50",
          "51 - 60",
          "61 - 70",
          "71 - 80",
          "81 - 90",
          "91 - 100",
          "0 - 10",
          "11 - 20",
          "21 - 30",
          "31 - 40",
          "41 - 50",
          "51 - 60",
          "61 - 70",
          "71 - 80",
          "81 - 90",
          "91 - 100"
         ],
         "yaxis": "y"
        }
       ],
       "layout": {
        "legend": {
         "itemsizing": "constant",
         "tracegroupgap": 0
        },
        "margin": {
         "t": 60
        },
        "template": {
         "data": {
          "bar": [
           {
            "error_x": {
             "color": "#f2f5fa"
            },
            "error_y": {
             "color": "#f2f5fa"
            },
            "marker": {
             "line": {
              "color": "rgb(17,17,17)",
              "width": 0.5
             },
             "pattern": {
              "fillmode": "overlay",
              "size": 10,
              "solidity": 0.2
             }
            },
            "type": "bar"
           }
          ],
          "barpolar": [
           {
            "marker": {
             "line": {
              "color": "rgb(17,17,17)",
              "width": 0.5
             },
             "pattern": {
              "fillmode": "overlay",
              "size": 10,
              "solidity": 0.2
             }
            },
            "type": "barpolar"
           }
          ],
          "carpet": [
           {
            "aaxis": {
             "endlinecolor": "#A2B1C6",
             "gridcolor": "#506784",
             "linecolor": "#506784",
             "minorgridcolor": "#506784",
             "startlinecolor": "#A2B1C6"
            },
            "baxis": {
             "endlinecolor": "#A2B1C6",
             "gridcolor": "#506784",
             "linecolor": "#506784",
             "minorgridcolor": "#506784",
             "startlinecolor": "#A2B1C6"
            },
            "type": "carpet"
           }
          ],
          "choropleth": [
           {
            "colorbar": {
             "outlinewidth": 0,
             "ticks": ""
            },
            "type": "choropleth"
           }
          ],
          "contour": [
           {
            "colorbar": {
             "outlinewidth": 0,
             "ticks": ""
            },
            "colorscale": [
             [
              0,
              "#0d0887"
             ],
             [
              0.1111111111111111,
              "#46039f"
             ],
             [
              0.2222222222222222,
              "#7201a8"
             ],
             [
              0.3333333333333333,
              "#9c179e"
             ],
             [
              0.4444444444444444,
              "#bd3786"
             ],
             [
              0.5555555555555556,
              "#d8576b"
             ],
             [
              0.6666666666666666,
              "#ed7953"
             ],
             [
              0.7777777777777778,
              "#fb9f3a"
             ],
             [
              0.8888888888888888,
              "#fdca26"
             ],
             [
              1,
              "#f0f921"
             ]
            ],
            "type": "contour"
           }
          ],
          "contourcarpet": [
           {
            "colorbar": {
             "outlinewidth": 0,
             "ticks": ""
            },
            "type": "contourcarpet"
           }
          ],
          "heatmap": [
           {
            "colorbar": {
             "outlinewidth": 0,
             "ticks": ""
            },
            "colorscale": [
             [
              0,
              "#0d0887"
             ],
             [
              0.1111111111111111,
              "#46039f"
             ],
             [
              0.2222222222222222,
              "#7201a8"
             ],
             [
              0.3333333333333333,
              "#9c179e"
             ],
             [
              0.4444444444444444,
              "#bd3786"
             ],
             [
              0.5555555555555556,
              "#d8576b"
             ],
             [
              0.6666666666666666,
              "#ed7953"
             ],
             [
              0.7777777777777778,
              "#fb9f3a"
             ],
             [
              0.8888888888888888,
              "#fdca26"
             ],
             [
              1,
              "#f0f921"
             ]
            ],
            "type": "heatmap"
           }
          ],
          "heatmapgl": [
           {
            "colorbar": {
             "outlinewidth": 0,
             "ticks": ""
            },
            "colorscale": [
             [
              0,
              "#0d0887"
             ],
             [
              0.1111111111111111,
              "#46039f"
             ],
             [
              0.2222222222222222,
              "#7201a8"
             ],
             [
              0.3333333333333333,
              "#9c179e"
             ],
             [
              0.4444444444444444,
              "#bd3786"
             ],
             [
              0.5555555555555556,
              "#d8576b"
             ],
             [
              0.6666666666666666,
              "#ed7953"
             ],
             [
              0.7777777777777778,
              "#fb9f3a"
             ],
             [
              0.8888888888888888,
              "#fdca26"
             ],
             [
              1,
              "#f0f921"
             ]
            ],
            "type": "heatmapgl"
           }
          ],
          "histogram": [
           {
            "marker": {
             "pattern": {
              "fillmode": "overlay",
              "size": 10,
              "solidity": 0.2
             }
            },
            "type": "histogram"
           }
          ],
          "histogram2d": [
           {
            "colorbar": {
             "outlinewidth": 0,
             "ticks": ""
            },
            "colorscale": [
             [
              0,
              "#0d0887"
             ],
             [
              0.1111111111111111,
              "#46039f"
             ],
             [
              0.2222222222222222,
              "#7201a8"
             ],
             [
              0.3333333333333333,
              "#9c179e"
             ],
             [
              0.4444444444444444,
              "#bd3786"
             ],
             [
              0.5555555555555556,
              "#d8576b"
             ],
             [
              0.6666666666666666,
              "#ed7953"
             ],
             [
              0.7777777777777778,
              "#fb9f3a"
             ],
             [
              0.8888888888888888,
              "#fdca26"
             ],
             [
              1,
              "#f0f921"
             ]
            ],
            "type": "histogram2d"
           }
          ],
          "histogram2dcontour": [
           {
            "colorbar": {
             "outlinewidth": 0,
             "ticks": ""
            },
            "colorscale": [
             [
              0,
              "#0d0887"
             ],
             [
              0.1111111111111111,
              "#46039f"
             ],
             [
              0.2222222222222222,
              "#7201a8"
             ],
             [
              0.3333333333333333,
              "#9c179e"
             ],
             [
              0.4444444444444444,
              "#bd3786"
             ],
             [
              0.5555555555555556,
              "#d8576b"
             ],
             [
              0.6666666666666666,
              "#ed7953"
             ],
             [
              0.7777777777777778,
              "#fb9f3a"
             ],
             [
              0.8888888888888888,
              "#fdca26"
             ],
             [
              1,
              "#f0f921"
             ]
            ],
            "type": "histogram2dcontour"
           }
          ],
          "mesh3d": [
           {
            "colorbar": {
             "outlinewidth": 0,
             "ticks": ""
            },
            "type": "mesh3d"
           }
          ],
          "parcoords": [
           {
            "line": {
             "colorbar": {
              "outlinewidth": 0,
              "ticks": ""
             }
            },
            "type": "parcoords"
           }
          ],
          "pie": [
           {
            "automargin": true,
            "type": "pie"
           }
          ],
          "scatter": [
           {
            "marker": {
             "line": {
              "color": "#283442"
             }
            },
            "type": "scatter"
           }
          ],
          "scatter3d": [
           {
            "line": {
             "colorbar": {
              "outlinewidth": 0,
              "ticks": ""
             }
            },
            "marker": {
             "colorbar": {
              "outlinewidth": 0,
              "ticks": ""
             }
            },
            "type": "scatter3d"
           }
          ],
          "scattercarpet": [
           {
            "marker": {
             "colorbar": {
              "outlinewidth": 0,
              "ticks": ""
             }
            },
            "type": "scattercarpet"
           }
          ],
          "scattergeo": [
           {
            "marker": {
             "colorbar": {
              "outlinewidth": 0,
              "ticks": ""
             }
            },
            "type": "scattergeo"
           }
          ],
          "scattergl": [
           {
            "marker": {
             "line": {
              "color": "#283442"
             }
            },
            "type": "scattergl"
           }
          ],
          "scattermapbox": [
           {
            "marker": {
             "colorbar": {
              "outlinewidth": 0,
              "ticks": ""
             }
            },
            "type": "scattermapbox"
           }
          ],
          "scatterpolar": [
           {
            "marker": {
             "colorbar": {
              "outlinewidth": 0,
              "ticks": ""
             }
            },
            "type": "scatterpolar"
           }
          ],
          "scatterpolargl": [
           {
            "marker": {
             "colorbar": {
              "outlinewidth": 0,
              "ticks": ""
             }
            },
            "type": "scatterpolargl"
           }
          ],
          "scatterternary": [
           {
            "marker": {
             "colorbar": {
              "outlinewidth": 0,
              "ticks": ""
             }
            },
            "type": "scatterternary"
           }
          ],
          "surface": [
           {
            "colorbar": {
             "outlinewidth": 0,
             "ticks": ""
            },
            "colorscale": [
             [
              0,
              "#0d0887"
             ],
             [
              0.1111111111111111,
              "#46039f"
             ],
             [
              0.2222222222222222,
              "#7201a8"
             ],
             [
              0.3333333333333333,
              "#9c179e"
             ],
             [
              0.4444444444444444,
              "#bd3786"
             ],
             [
              0.5555555555555556,
              "#d8576b"
             ],
             [
              0.6666666666666666,
              "#ed7953"
             ],
             [
              0.7777777777777778,
              "#fb9f3a"
             ],
             [
              0.8888888888888888,
              "#fdca26"
             ],
             [
              1,
              "#f0f921"
             ]
            ],
            "type": "surface"
           }
          ],
          "table": [
           {
            "cells": {
             "fill": {
              "color": "#506784"
             },
             "line": {
              "color": "rgb(17,17,17)"
             }
            },
            "header": {
             "fill": {
              "color": "#2a3f5f"
             },
             "line": {
              "color": "rgb(17,17,17)"
             }
            },
            "type": "table"
           }
          ]
         },
         "layout": {
          "annotationdefaults": {
           "arrowcolor": "#f2f5fa",
           "arrowhead": 0,
           "arrowwidth": 1
          },
          "autotypenumbers": "strict",
          "coloraxis": {
           "colorbar": {
            "outlinewidth": 0,
            "ticks": ""
           }
          },
          "colorscale": {
           "diverging": [
            [
             0,
             "#8e0152"
            ],
            [
             0.1,
             "#c51b7d"
            ],
            [
             0.2,
             "#de77ae"
            ],
            [
             0.3,
             "#f1b6da"
            ],
            [
             0.4,
             "#fde0ef"
            ],
            [
             0.5,
             "#f7f7f7"
            ],
            [
             0.6,
             "#e6f5d0"
            ],
            [
             0.7,
             "#b8e186"
            ],
            [
             0.8,
             "#7fbc41"
            ],
            [
             0.9,
             "#4d9221"
            ],
            [
             1,
             "#276419"
            ]
           ],
           "sequential": [
            [
             0,
             "#0d0887"
            ],
            [
             0.1111111111111111,
             "#46039f"
            ],
            [
             0.2222222222222222,
             "#7201a8"
            ],
            [
             0.3333333333333333,
             "#9c179e"
            ],
            [
             0.4444444444444444,
             "#bd3786"
            ],
            [
             0.5555555555555556,
             "#d8576b"
            ],
            [
             0.6666666666666666,
             "#ed7953"
            ],
            [
             0.7777777777777778,
             "#fb9f3a"
            ],
            [
             0.8888888888888888,
             "#fdca26"
            ],
            [
             1,
             "#f0f921"
            ]
           ],
           "sequentialminus": [
            [
             0,
             "#0d0887"
            ],
            [
             0.1111111111111111,
             "#46039f"
            ],
            [
             0.2222222222222222,
             "#7201a8"
            ],
            [
             0.3333333333333333,
             "#9c179e"
            ],
            [
             0.4444444444444444,
             "#bd3786"
            ],
            [
             0.5555555555555556,
             "#d8576b"
            ],
            [
             0.6666666666666666,
             "#ed7953"
            ],
            [
             0.7777777777777778,
             "#fb9f3a"
            ],
            [
             0.8888888888888888,
             "#fdca26"
            ],
            [
             1,
             "#f0f921"
            ]
           ]
          },
          "colorway": [
           "#636efa",
           "#EF553B",
           "#00cc96",
           "#ab63fa",
           "#FFA15A",
           "#19d3f3",
           "#FF6692",
           "#B6E880",
           "#FF97FF",
           "#FECB52"
          ],
          "font": {
           "color": "#f2f5fa"
          },
          "geo": {
           "bgcolor": "rgb(17,17,17)",
           "lakecolor": "rgb(17,17,17)",
           "landcolor": "rgb(17,17,17)",
           "showlakes": true,
           "showland": true,
           "subunitcolor": "#506784"
          },
          "hoverlabel": {
           "align": "left"
          },
          "hovermode": "closest",
          "mapbox": {
           "style": "dark"
          },
          "paper_bgcolor": "rgb(17,17,17)",
          "plot_bgcolor": "rgb(17,17,17)",
          "polar": {
           "angularaxis": {
            "gridcolor": "#506784",
            "linecolor": "#506784",
            "ticks": ""
           },
           "bgcolor": "rgb(17,17,17)",
           "radialaxis": {
            "gridcolor": "#506784",
            "linecolor": "#506784",
            "ticks": ""
           }
          },
          "scene": {
           "xaxis": {
            "backgroundcolor": "rgb(17,17,17)",
            "gridcolor": "#506784",
            "gridwidth": 2,
            "linecolor": "#506784",
            "showbackground": true,
            "ticks": "",
            "zerolinecolor": "#C8D4E3"
           },
           "yaxis": {
            "backgroundcolor": "rgb(17,17,17)",
            "gridcolor": "#506784",
            "gridwidth": 2,
            "linecolor": "#506784",
            "showbackground": true,
            "ticks": "",
            "zerolinecolor": "#C8D4E3"
           },
           "zaxis": {
            "backgroundcolor": "rgb(17,17,17)",
            "gridcolor": "#506784",
            "gridwidth": 2,
            "linecolor": "#506784",
            "showbackground": true,
            "ticks": "",
            "zerolinecolor": "#C8D4E3"
           }
          },
          "shapedefaults": {
           "line": {
            "color": "#f2f5fa"
           }
          },
          "sliderdefaults": {
           "bgcolor": "#C8D4E3",
           "bordercolor": "rgb(17,17,17)",
           "borderwidth": 1,
           "tickwidth": 0
          },
          "ternary": {
           "aaxis": {
            "gridcolor": "#506784",
            "linecolor": "#506784",
            "ticks": ""
           },
           "baxis": {
            "gridcolor": "#506784",
            "linecolor": "#506784",
            "ticks": ""
           },
           "bgcolor": "rgb(17,17,17)",
           "caxis": {
            "gridcolor": "#506784",
            "linecolor": "#506784",
            "ticks": ""
           }
          },
          "title": {
           "x": 0.05
          },
          "updatemenudefaults": {
           "bgcolor": "#506784",
           "borderwidth": 0
          },
          "xaxis": {
           "automargin": true,
           "gridcolor": "#283442",
           "linecolor": "#506784",
           "ticks": "",
           "title": {
            "standoff": 15
           },
           "zerolinecolor": "#283442",
           "zerolinewidth": 2
          },
          "yaxis": {
           "automargin": true,
           "gridcolor": "#283442",
           "linecolor": "#506784",
           "ticks": "",
           "title": {
            "standoff": 15
           },
           "zerolinecolor": "#283442",
           "zerolinewidth": 2
          }
         }
        },
        "title": {
         "text": "Popularity vs Chart Power - DE"
        },
        "xaxis": {
         "anchor": "y",
         "domain": [
          0,
          1
         ],
         "title": {
          "text": "Popularity"
         }
        },
        "yaxis": {
         "anchor": "x",
         "categoryarray": [
          "0 - 10",
          "11 - 20",
          "21 - 30",
          "31 - 40",
          "41 - 50",
          "51 - 60",
          "61 - 70",
          "71 - 80",
          "81 - 90",
          "91 - 100"
         ],
         "categoryorder": "array",
         "domain": [
          0,
          1
         ],
         "title": {
          "text": "Chart Power"
         }
        }
       }
      }
     },
     "metadata": {},
     "output_type": "display_data"
    }
   ],
   "source": [
    "create_binned_scatter(df_comparison, \"Popularity vs Chart Power - DE\")"
   ]
  },
  {
   "cell_type": "code",
   "execution_count": 47,
   "metadata": {},
   "outputs": [
    {
     "data": {
      "application/vnd.plotly.v1+json": {
       "config": {
        "plotlyServerURL": "https://plot.ly"
       },
       "data": [
        {
         "hovertemplate": "popularity_percentile=%{x}<br>chart_power_percentile=%{y}<br>count=%{marker.size}<extra></extra>",
         "legendgroup": "",
         "marker": {
          "color": "#636efa",
          "size": [
           30,
           30,
           23,
           20,
           14,
           14,
           12,
           13,
           13,
           15,
           29,
           25,
           23,
           28,
           17,
           22,
           9,
           17,
           8,
           7,
           28,
           22,
           20,
           17,
           16,
           18,
           16,
           15,
           15,
           10,
           24,
           16,
           27,
           16,
           27,
           11,
           17,
           18,
           13,
           6,
           22,
           17,
           17,
           25,
           13,
           13,
           12,
           19,
           8,
           8,
           12,
           19,
           11,
           24,
           17,
           21,
           26,
           17,
           25,
           21,
           8,
           14,
           19,
           13,
           17,
           23,
           15,
           9,
           16,
           14,
           16,
           16,
           15,
           10,
           18,
           23,
           20,
           24,
           19,
           29,
           15,
           7,
           9,
           10,
           23,
           15,
           29,
           17,
           27,
           21,
           4,
           9,
           9,
           10,
           9,
           14,
           17,
           24,
           29,
           25
          ],
          "sizemode": "area",
          "sizeref": 0.075,
          "symbol": "circle"
         },
         "mode": "markers",
         "name": "",
         "orientation": "v",
         "showlegend": false,
         "type": "scatter",
         "x": [
          "0 - 10",
          "0 - 10",
          "0 - 10",
          "0 - 10",
          "0 - 10",
          "0 - 10",
          "0 - 10",
          "0 - 10",
          "0 - 10",
          "0 - 10",
          "11 - 20",
          "11 - 20",
          "11 - 20",
          "11 - 20",
          "11 - 20",
          "11 - 20",
          "11 - 20",
          "11 - 20",
          "11 - 20",
          "11 - 20",
          "21 - 30",
          "21 - 30",
          "21 - 30",
          "21 - 30",
          "21 - 30",
          "21 - 30",
          "21 - 30",
          "21 - 30",
          "21 - 30",
          "21 - 30",
          "31 - 40",
          "31 - 40",
          "31 - 40",
          "31 - 40",
          "31 - 40",
          "31 - 40",
          "31 - 40",
          "31 - 40",
          "31 - 40",
          "31 - 40",
          "41 - 50",
          "41 - 50",
          "41 - 50",
          "41 - 50",
          "41 - 50",
          "41 - 50",
          "41 - 50",
          "41 - 50",
          "41 - 50",
          "41 - 50",
          "51 - 60",
          "51 - 60",
          "51 - 60",
          "51 - 60",
          "51 - 60",
          "51 - 60",
          "51 - 60",
          "51 - 60",
          "51 - 60",
          "51 - 60",
          "61 - 70",
          "61 - 70",
          "61 - 70",
          "61 - 70",
          "61 - 70",
          "61 - 70",
          "61 - 70",
          "61 - 70",
          "61 - 70",
          "61 - 70",
          "71 - 80",
          "71 - 80",
          "71 - 80",
          "71 - 80",
          "71 - 80",
          "71 - 80",
          "71 - 80",
          "71 - 80",
          "71 - 80",
          "71 - 80",
          "81 - 90",
          "81 - 90",
          "81 - 90",
          "81 - 90",
          "81 - 90",
          "81 - 90",
          "81 - 90",
          "81 - 90",
          "81 - 90",
          "81 - 90",
          "91 - 100",
          "91 - 100",
          "91 - 100",
          "91 - 100",
          "91 - 100",
          "91 - 100",
          "91 - 100",
          "91 - 100",
          "91 - 100",
          "91 - 100"
         ],
         "xaxis": "x",
         "y": [
          "0 - 10",
          "11 - 20",
          "21 - 30",
          "31 - 40",
          "41 - 50",
          "51 - 60",
          "61 - 70",
          "71 - 80",
          "81 - 90",
          "91 - 100",
          "0 - 10",
          "11 - 20",
          "21 - 30",
          "31 - 40",
          "41 - 50",
          "51 - 60",
          "61 - 70",
          "71 - 80",
          "81 - 90",
          "91 - 100",
          "0 - 10",
          "11 - 20",
          "21 - 30",
          "31 - 40",
          "41 - 50",
          "51 - 60",
          "61 - 70",
          "71 - 80",
          "81 - 90",
          "91 - 100",
          "0 - 10",
          "11 - 20",
          "21 - 30",
          "31 - 40",
          "41 - 50",
          "51 - 60",
          "61 - 70",
          "71 - 80",
          "81 - 90",
          "91 - 100",
          "0 - 10",
          "11 - 20",
          "21 - 30",
          "31 - 40",
          "41 - 50",
          "51 - 60",
          "61 - 70",
          "71 - 80",
          "81 - 90",
          "91 - 100",
          "0 - 10",
          "11 - 20",
          "21 - 30",
          "31 - 40",
          "41 - 50",
          "51 - 60",
          "61 - 70",
          "71 - 80",
          "81 - 90",
          "91 - 100",
          "0 - 10",
          "11 - 20",
          "21 - 30",
          "31 - 40",
          "41 - 50",
          "51 - 60",
          "61 - 70",
          "71 - 80",
          "81 - 90",
          "91 - 100",
          "0 - 10",
          "11 - 20",
          "21 - 30",
          "31 - 40",
          "41 - 50",
          "51 - 60",
          "61 - 70",
          "71 - 80",
          "81 - 90",
          "91 - 100",
          "0 - 10",
          "11 - 20",
          "21 - 30",
          "31 - 40",
          "41 - 50",
          "51 - 60",
          "61 - 70",
          "71 - 80",
          "81 - 90",
          "91 - 100",
          "0 - 10",
          "11 - 20",
          "21 - 30",
          "31 - 40",
          "41 - 50",
          "51 - 60",
          "61 - 70",
          "71 - 80",
          "81 - 90",
          "91 - 100"
         ],
         "yaxis": "y"
        }
       ],
       "layout": {
        "legend": {
         "itemsizing": "constant",
         "tracegroupgap": 0
        },
        "margin": {
         "t": 60
        },
        "template": {
         "data": {
          "bar": [
           {
            "error_x": {
             "color": "#f2f5fa"
            },
            "error_y": {
             "color": "#f2f5fa"
            },
            "marker": {
             "line": {
              "color": "rgb(17,17,17)",
              "width": 0.5
             },
             "pattern": {
              "fillmode": "overlay",
              "size": 10,
              "solidity": 0.2
             }
            },
            "type": "bar"
           }
          ],
          "barpolar": [
           {
            "marker": {
             "line": {
              "color": "rgb(17,17,17)",
              "width": 0.5
             },
             "pattern": {
              "fillmode": "overlay",
              "size": 10,
              "solidity": 0.2
             }
            },
            "type": "barpolar"
           }
          ],
          "carpet": [
           {
            "aaxis": {
             "endlinecolor": "#A2B1C6",
             "gridcolor": "#506784",
             "linecolor": "#506784",
             "minorgridcolor": "#506784",
             "startlinecolor": "#A2B1C6"
            },
            "baxis": {
             "endlinecolor": "#A2B1C6",
             "gridcolor": "#506784",
             "linecolor": "#506784",
             "minorgridcolor": "#506784",
             "startlinecolor": "#A2B1C6"
            },
            "type": "carpet"
           }
          ],
          "choropleth": [
           {
            "colorbar": {
             "outlinewidth": 0,
             "ticks": ""
            },
            "type": "choropleth"
           }
          ],
          "contour": [
           {
            "colorbar": {
             "outlinewidth": 0,
             "ticks": ""
            },
            "colorscale": [
             [
              0,
              "#0d0887"
             ],
             [
              0.1111111111111111,
              "#46039f"
             ],
             [
              0.2222222222222222,
              "#7201a8"
             ],
             [
              0.3333333333333333,
              "#9c179e"
             ],
             [
              0.4444444444444444,
              "#bd3786"
             ],
             [
              0.5555555555555556,
              "#d8576b"
             ],
             [
              0.6666666666666666,
              "#ed7953"
             ],
             [
              0.7777777777777778,
              "#fb9f3a"
             ],
             [
              0.8888888888888888,
              "#fdca26"
             ],
             [
              1,
              "#f0f921"
             ]
            ],
            "type": "contour"
           }
          ],
          "contourcarpet": [
           {
            "colorbar": {
             "outlinewidth": 0,
             "ticks": ""
            },
            "type": "contourcarpet"
           }
          ],
          "heatmap": [
           {
            "colorbar": {
             "outlinewidth": 0,
             "ticks": ""
            },
            "colorscale": [
             [
              0,
              "#0d0887"
             ],
             [
              0.1111111111111111,
              "#46039f"
             ],
             [
              0.2222222222222222,
              "#7201a8"
             ],
             [
              0.3333333333333333,
              "#9c179e"
             ],
             [
              0.4444444444444444,
              "#bd3786"
             ],
             [
              0.5555555555555556,
              "#d8576b"
             ],
             [
              0.6666666666666666,
              "#ed7953"
             ],
             [
              0.7777777777777778,
              "#fb9f3a"
             ],
             [
              0.8888888888888888,
              "#fdca26"
             ],
             [
              1,
              "#f0f921"
             ]
            ],
            "type": "heatmap"
           }
          ],
          "heatmapgl": [
           {
            "colorbar": {
             "outlinewidth": 0,
             "ticks": ""
            },
            "colorscale": [
             [
              0,
              "#0d0887"
             ],
             [
              0.1111111111111111,
              "#46039f"
             ],
             [
              0.2222222222222222,
              "#7201a8"
             ],
             [
              0.3333333333333333,
              "#9c179e"
             ],
             [
              0.4444444444444444,
              "#bd3786"
             ],
             [
              0.5555555555555556,
              "#d8576b"
             ],
             [
              0.6666666666666666,
              "#ed7953"
             ],
             [
              0.7777777777777778,
              "#fb9f3a"
             ],
             [
              0.8888888888888888,
              "#fdca26"
             ],
             [
              1,
              "#f0f921"
             ]
            ],
            "type": "heatmapgl"
           }
          ],
          "histogram": [
           {
            "marker": {
             "pattern": {
              "fillmode": "overlay",
              "size": 10,
              "solidity": 0.2
             }
            },
            "type": "histogram"
           }
          ],
          "histogram2d": [
           {
            "colorbar": {
             "outlinewidth": 0,
             "ticks": ""
            },
            "colorscale": [
             [
              0,
              "#0d0887"
             ],
             [
              0.1111111111111111,
              "#46039f"
             ],
             [
              0.2222222222222222,
              "#7201a8"
             ],
             [
              0.3333333333333333,
              "#9c179e"
             ],
             [
              0.4444444444444444,
              "#bd3786"
             ],
             [
              0.5555555555555556,
              "#d8576b"
             ],
             [
              0.6666666666666666,
              "#ed7953"
             ],
             [
              0.7777777777777778,
              "#fb9f3a"
             ],
             [
              0.8888888888888888,
              "#fdca26"
             ],
             [
              1,
              "#f0f921"
             ]
            ],
            "type": "histogram2d"
           }
          ],
          "histogram2dcontour": [
           {
            "colorbar": {
             "outlinewidth": 0,
             "ticks": ""
            },
            "colorscale": [
             [
              0,
              "#0d0887"
             ],
             [
              0.1111111111111111,
              "#46039f"
             ],
             [
              0.2222222222222222,
              "#7201a8"
             ],
             [
              0.3333333333333333,
              "#9c179e"
             ],
             [
              0.4444444444444444,
              "#bd3786"
             ],
             [
              0.5555555555555556,
              "#d8576b"
             ],
             [
              0.6666666666666666,
              "#ed7953"
             ],
             [
              0.7777777777777778,
              "#fb9f3a"
             ],
             [
              0.8888888888888888,
              "#fdca26"
             ],
             [
              1,
              "#f0f921"
             ]
            ],
            "type": "histogram2dcontour"
           }
          ],
          "mesh3d": [
           {
            "colorbar": {
             "outlinewidth": 0,
             "ticks": ""
            },
            "type": "mesh3d"
           }
          ],
          "parcoords": [
           {
            "line": {
             "colorbar": {
              "outlinewidth": 0,
              "ticks": ""
             }
            },
            "type": "parcoords"
           }
          ],
          "pie": [
           {
            "automargin": true,
            "type": "pie"
           }
          ],
          "scatter": [
           {
            "marker": {
             "line": {
              "color": "#283442"
             }
            },
            "type": "scatter"
           }
          ],
          "scatter3d": [
           {
            "line": {
             "colorbar": {
              "outlinewidth": 0,
              "ticks": ""
             }
            },
            "marker": {
             "colorbar": {
              "outlinewidth": 0,
              "ticks": ""
             }
            },
            "type": "scatter3d"
           }
          ],
          "scattercarpet": [
           {
            "marker": {
             "colorbar": {
              "outlinewidth": 0,
              "ticks": ""
             }
            },
            "type": "scattercarpet"
           }
          ],
          "scattergeo": [
           {
            "marker": {
             "colorbar": {
              "outlinewidth": 0,
              "ticks": ""
             }
            },
            "type": "scattergeo"
           }
          ],
          "scattergl": [
           {
            "marker": {
             "line": {
              "color": "#283442"
             }
            },
            "type": "scattergl"
           }
          ],
          "scattermapbox": [
           {
            "marker": {
             "colorbar": {
              "outlinewidth": 0,
              "ticks": ""
             }
            },
            "type": "scattermapbox"
           }
          ],
          "scatterpolar": [
           {
            "marker": {
             "colorbar": {
              "outlinewidth": 0,
              "ticks": ""
             }
            },
            "type": "scatterpolar"
           }
          ],
          "scatterpolargl": [
           {
            "marker": {
             "colorbar": {
              "outlinewidth": 0,
              "ticks": ""
             }
            },
            "type": "scatterpolargl"
           }
          ],
          "scatterternary": [
           {
            "marker": {
             "colorbar": {
              "outlinewidth": 0,
              "ticks": ""
             }
            },
            "type": "scatterternary"
           }
          ],
          "surface": [
           {
            "colorbar": {
             "outlinewidth": 0,
             "ticks": ""
            },
            "colorscale": [
             [
              0,
              "#0d0887"
             ],
             [
              0.1111111111111111,
              "#46039f"
             ],
             [
              0.2222222222222222,
              "#7201a8"
             ],
             [
              0.3333333333333333,
              "#9c179e"
             ],
             [
              0.4444444444444444,
              "#bd3786"
             ],
             [
              0.5555555555555556,
              "#d8576b"
             ],
             [
              0.6666666666666666,
              "#ed7953"
             ],
             [
              0.7777777777777778,
              "#fb9f3a"
             ],
             [
              0.8888888888888888,
              "#fdca26"
             ],
             [
              1,
              "#f0f921"
             ]
            ],
            "type": "surface"
           }
          ],
          "table": [
           {
            "cells": {
             "fill": {
              "color": "#506784"
             },
             "line": {
              "color": "rgb(17,17,17)"
             }
            },
            "header": {
             "fill": {
              "color": "#2a3f5f"
             },
             "line": {
              "color": "rgb(17,17,17)"
             }
            },
            "type": "table"
           }
          ]
         },
         "layout": {
          "annotationdefaults": {
           "arrowcolor": "#f2f5fa",
           "arrowhead": 0,
           "arrowwidth": 1
          },
          "autotypenumbers": "strict",
          "coloraxis": {
           "colorbar": {
            "outlinewidth": 0,
            "ticks": ""
           }
          },
          "colorscale": {
           "diverging": [
            [
             0,
             "#8e0152"
            ],
            [
             0.1,
             "#c51b7d"
            ],
            [
             0.2,
             "#de77ae"
            ],
            [
             0.3,
             "#f1b6da"
            ],
            [
             0.4,
             "#fde0ef"
            ],
            [
             0.5,
             "#f7f7f7"
            ],
            [
             0.6,
             "#e6f5d0"
            ],
            [
             0.7,
             "#b8e186"
            ],
            [
             0.8,
             "#7fbc41"
            ],
            [
             0.9,
             "#4d9221"
            ],
            [
             1,
             "#276419"
            ]
           ],
           "sequential": [
            [
             0,
             "#0d0887"
            ],
            [
             0.1111111111111111,
             "#46039f"
            ],
            [
             0.2222222222222222,
             "#7201a8"
            ],
            [
             0.3333333333333333,
             "#9c179e"
            ],
            [
             0.4444444444444444,
             "#bd3786"
            ],
            [
             0.5555555555555556,
             "#d8576b"
            ],
            [
             0.6666666666666666,
             "#ed7953"
            ],
            [
             0.7777777777777778,
             "#fb9f3a"
            ],
            [
             0.8888888888888888,
             "#fdca26"
            ],
            [
             1,
             "#f0f921"
            ]
           ],
           "sequentialminus": [
            [
             0,
             "#0d0887"
            ],
            [
             0.1111111111111111,
             "#46039f"
            ],
            [
             0.2222222222222222,
             "#7201a8"
            ],
            [
             0.3333333333333333,
             "#9c179e"
            ],
            [
             0.4444444444444444,
             "#bd3786"
            ],
            [
             0.5555555555555556,
             "#d8576b"
            ],
            [
             0.6666666666666666,
             "#ed7953"
            ],
            [
             0.7777777777777778,
             "#fb9f3a"
            ],
            [
             0.8888888888888888,
             "#fdca26"
            ],
            [
             1,
             "#f0f921"
            ]
           ]
          },
          "colorway": [
           "#636efa",
           "#EF553B",
           "#00cc96",
           "#ab63fa",
           "#FFA15A",
           "#19d3f3",
           "#FF6692",
           "#B6E880",
           "#FF97FF",
           "#FECB52"
          ],
          "font": {
           "color": "#f2f5fa"
          },
          "geo": {
           "bgcolor": "rgb(17,17,17)",
           "lakecolor": "rgb(17,17,17)",
           "landcolor": "rgb(17,17,17)",
           "showlakes": true,
           "showland": true,
           "subunitcolor": "#506784"
          },
          "hoverlabel": {
           "align": "left"
          },
          "hovermode": "closest",
          "mapbox": {
           "style": "dark"
          },
          "paper_bgcolor": "rgb(17,17,17)",
          "plot_bgcolor": "rgb(17,17,17)",
          "polar": {
           "angularaxis": {
            "gridcolor": "#506784",
            "linecolor": "#506784",
            "ticks": ""
           },
           "bgcolor": "rgb(17,17,17)",
           "radialaxis": {
            "gridcolor": "#506784",
            "linecolor": "#506784",
            "ticks": ""
           }
          },
          "scene": {
           "xaxis": {
            "backgroundcolor": "rgb(17,17,17)",
            "gridcolor": "#506784",
            "gridwidth": 2,
            "linecolor": "#506784",
            "showbackground": true,
            "ticks": "",
            "zerolinecolor": "#C8D4E3"
           },
           "yaxis": {
            "backgroundcolor": "rgb(17,17,17)",
            "gridcolor": "#506784",
            "gridwidth": 2,
            "linecolor": "#506784",
            "showbackground": true,
            "ticks": "",
            "zerolinecolor": "#C8D4E3"
           },
           "zaxis": {
            "backgroundcolor": "rgb(17,17,17)",
            "gridcolor": "#506784",
            "gridwidth": 2,
            "linecolor": "#506784",
            "showbackground": true,
            "ticks": "",
            "zerolinecolor": "#C8D4E3"
           }
          },
          "shapedefaults": {
           "line": {
            "color": "#f2f5fa"
           }
          },
          "sliderdefaults": {
           "bgcolor": "#C8D4E3",
           "bordercolor": "rgb(17,17,17)",
           "borderwidth": 1,
           "tickwidth": 0
          },
          "ternary": {
           "aaxis": {
            "gridcolor": "#506784",
            "linecolor": "#506784",
            "ticks": ""
           },
           "baxis": {
            "gridcolor": "#506784",
            "linecolor": "#506784",
            "ticks": ""
           },
           "bgcolor": "rgb(17,17,17)",
           "caxis": {
            "gridcolor": "#506784",
            "linecolor": "#506784",
            "ticks": ""
           }
          },
          "title": {
           "x": 0.05
          },
          "updatemenudefaults": {
           "bgcolor": "#506784",
           "borderwidth": 0
          },
          "xaxis": {
           "automargin": true,
           "gridcolor": "#283442",
           "linecolor": "#506784",
           "ticks": "",
           "title": {
            "standoff": 15
           },
           "zerolinecolor": "#283442",
           "zerolinewidth": 2
          },
          "yaxis": {
           "automargin": true,
           "gridcolor": "#283442",
           "linecolor": "#506784",
           "ticks": "",
           "title": {
            "standoff": 15
           },
           "zerolinecolor": "#283442",
           "zerolinewidth": 2
          }
         }
        },
        "title": {
         "text": "Popularity vs Chart Power - Weltweit"
        },
        "xaxis": {
         "anchor": "y",
         "domain": [
          0,
          1
         ],
         "title": {
          "text": "Popularity"
         }
        },
        "yaxis": {
         "anchor": "x",
         "categoryarray": [
          "0 - 10",
          "11 - 20",
          "21 - 30",
          "31 - 40",
          "41 - 50",
          "51 - 60",
          "61 - 70",
          "71 - 80",
          "81 - 90",
          "91 - 100"
         ],
         "categoryorder": "array",
         "domain": [
          0,
          1
         ],
         "title": {
          "text": "Chart Power"
         }
        }
       }
      }
     },
     "metadata": {},
     "output_type": "display_data"
    }
   ],
   "source": [
    "create_binned_scatter(df_found_copy, \"Popularity vs Chart Power - Weltweit\")"
   ]
  },
  {
   "cell_type": "code",
   "execution_count": null,
   "metadata": {},
   "outputs": [],
   "source": []
  }
 ],
 "metadata": {
  "kernelspec": {
   "display_name": "application-project",
   "language": "python",
   "name": "application-project"
  },
  "language_info": {
   "codemirror_mode": {
    "name": "ipython",
    "version": 3
   },
   "file_extension": ".py",
   "mimetype": "text/x-python",
   "name": "python",
   "nbconvert_exporter": "python",
   "pygments_lexer": "ipython3",
   "version": "3.10.12"
  },
  "orig_nbformat": 4
 },
 "nbformat": 4,
 "nbformat_minor": 2
}
