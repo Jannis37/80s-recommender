{
  "cells": [
    {
      "cell_type": "markdown",
      "id": "4aa021fd-c213-4c05-80d9-996adfe8ad4d",
      "metadata": {
        "id": "4aa021fd-c213-4c05-80d9-996adfe8ad4d"
      },
      "source": [
        "# Extra Aufgaben"
      ]
    },
    {
      "cell_type": "code",
      "execution_count": 1,
      "id": "eNb_1cANxM40",
      "metadata": {
        "colab": {
          "base_uri": "https://localhost:8080/"
        },
        "id": "eNb_1cANxM40",
        "outputId": "9aa6940c-33e4-4dfe-94c3-5b6fd991cb70"
      },
      "outputs": [
        {
          "name": "stdout",
          "output_type": "stream",
          "text": [
            "Mounted at /content/gdrive\n"
          ]
        }
      ],
      "source": [
        "from google.colab import drive\n",
        "drive.mount('/content/gdrive')"
      ]
    },
    {
      "cell_type": "code",
      "execution_count": 1,
      "id": "9f2c0443",
      "metadata": {},
      "outputs": [],
      "source": [
        "LOCAL = True"
      ]
    },
    {
      "cell_type": "code",
      "execution_count": 2,
      "id": "nw6nEtf9A09n",
      "metadata": {
        "id": "nw6nEtf9A09n"
      },
      "outputs": [],
      "source": [
        "#PATH = \"gdrive/MyDrive/application-project-abgabe\"\n",
        "PATH = \"./data\""
      ]
    },
    {
      "cell_type": "markdown",
      "id": "90aabbd4-0dee-4108-b00f-29e931b1291f",
      "metadata": {
        "id": "90aabbd4-0dee-4108-b00f-29e931b1291f"
      },
      "source": [
        "## Filterung der Datenbank um irrelevante Ergebnisse zu verhindern"
      ]
    },
    {
      "cell_type": "code",
      "execution_count": 3,
      "id": "4e2a29e0-e35c-4ae8-925b-28e1994f0e1b",
      "metadata": {
        "id": "4e2a29e0-e35c-4ae8-925b-28e1994f0e1b"
      },
      "outputs": [],
      "source": [
        "import pandas as pd\n",
        "import numpy as np\n",
        "from sklearn.preprocessing import MinMaxScaler\n",
        "from sklearn.metrics.pairwise import cosine_similarity, linear_kernel, polynomial_kernel, sigmoid_kernel, rbf_kernel, laplacian_kernel, chi2_kernel, euclidean_distances, manhattan_distances, cosine_distances\n",
        "import plotly.express as px\n",
        "import plotly.graph_objects as go\n",
        "from tqdm import tqdm\n",
        "import time\n",
        "from ast import literal_eval"
      ]
    },
    {
      "cell_type": "code",
      "execution_count": 4,
      "id": "d4b582ef-98b0-4471-a6c9-c5eb9800b334",
      "metadata": {
        "id": "d4b582ef-98b0-4471-a6c9-c5eb9800b334"
      },
      "outputs": [],
      "source": [
        "#by_isrc = pd.read_csv('data/by_isrc.csv')\n",
        "by_isrc = pd.read_csv(f\"{PATH}/by_isrc.csv\")"
      ]
    },
    {
      "cell_type": "code",
      "execution_count": 5,
      "id": "112671ab-ad9a-44bb-b1b4-bc03424fb7ef",
      "metadata": {
        "id": "112671ab-ad9a-44bb-b1b4-bc03424fb7ef"
      },
      "outputs": [],
      "source": [
        "by_isrc[\"country_code\"] = by_isrc[\"isrc\"].apply(lambda x: x[:2])"
      ]
    },
    {
      "cell_type": "code",
      "execution_count": 6,
      "id": "3e739409-7d41-4bf8-a464-1a783fbe876b",
      "metadata": {
        "colab": {
          "base_uri": "https://localhost:8080/"
        },
        "id": "3e739409-7d41-4bf8-a464-1a783fbe876b",
        "outputId": "8b853588-70ba-407a-9aa9-b421c7cc7728"
      },
      "outputs": [
        {
          "data": {
            "text/plain": [
              "array(['AE', 'AR', 'AT', 'AU', 'AZ', 'BA', 'BC', 'BE', 'BG', 'BR', 'BX',\n",
              "       'Br', 'CA', 'CH', 'CI', 'CL', 'CN', 'CO', 'CS', 'CZ', 'DE', 'DG',\n",
              "       'DK', 'EE', 'EG', 'ES', 'FI', 'FR', 'FX', 'GB', 'GN', 'GR', 'GT',\n",
              "       'GX', 'HK', 'HR', 'HU', 'ID', 'IE', 'IL', 'IN', 'IR', 'IS', 'IT',\n",
              "       'JM', 'JP', 'KE', 'KR', 'KS', 'LB', 'LK', 'LT', 'LU', 'LV', 'MD',\n",
              "       'MM', 'MT', 'MU', 'MX', 'MY', 'NG', 'NI', 'NL', 'NO', 'NZ', 'No',\n",
              "       'PE', 'PH', 'PL', 'PT', 'QM', 'QZ', 'RE', 'RO', 'RS', 'RU', 'SE',\n",
              "       'SG', 'SI', 'SK', 'SM', 'SW', 'TC', 'TH', 'TR', 'TW', 'UA', 'UK',\n",
              "       'UR', 'US', 'UY', 'VE', 'VN', 'ZA', 'ZZ', 'ae', 'ca', 'gb', 'il',\n",
              "       'lv', 'nl', 'qz', 'us', 've'], dtype=object)"
            ]
          },
          "execution_count": 6,
          "metadata": {},
          "output_type": "execute_result"
        }
      ],
      "source": [
        "by_isrc[\"country_code\"].unique()"
      ]
    },
    {
      "cell_type": "markdown",
      "id": "7f095f29-3be3-40d9-b98b-a2688a43a02a",
      "metadata": {
        "id": "7f095f29-3be3-40d9-b98b-a2688a43a02a"
      },
      "source": [
        "Einige Ländercodes sind kleingeschrieben. Diese sollen in Großbuchstaben umgewandelt werden."
      ]
    },
    {
      "cell_type": "code",
      "execution_count": 7,
      "id": "988d731d-e895-4fff-8ef4-f6f6eda5f692",
      "metadata": {
        "id": "988d731d-e895-4fff-8ef4-f6f6eda5f692"
      },
      "outputs": [],
      "source": [
        "by_isrc[\"country_code\"] = by_isrc[\"country_code\"].str.upper()"
      ]
    },
    {
      "cell_type": "code",
      "execution_count": 8,
      "id": "9adedfa6-fb4f-470d-a2b5-84f36c132c14",
      "metadata": {
        "colab": {
          "base_uri": "https://localhost:8080/"
        },
        "id": "9adedfa6-fb4f-470d-a2b5-84f36c132c14",
        "outputId": "386d00a4-74a4-4642-c53f-692c92b7c1c3"
      },
      "outputs": [
        {
          "data": {
            "text/plain": [
              "array(['AE', 'AR', 'AT', 'AU', 'AZ', 'BA', 'BC', 'BE', 'BG', 'BR', 'BX',\n",
              "       'CA', 'CH', 'CI', 'CL', 'CN', 'CO', 'CS', 'CZ', 'DE', 'DG', 'DK',\n",
              "       'EE', 'EG', 'ES', 'FI', 'FR', 'FX', 'GB', 'GN', 'GR', 'GT', 'GX',\n",
              "       'HK', 'HR', 'HU', 'ID', 'IE', 'IL', 'IN', 'IR', 'IS', 'IT', 'JM',\n",
              "       'JP', 'KE', 'KR', 'KS', 'LB', 'LK', 'LT', 'LU', 'LV', 'MD', 'MM',\n",
              "       'MT', 'MU', 'MX', 'MY', 'NG', 'NI', 'NL', 'NO', 'NZ', 'PE', 'PH',\n",
              "       'PL', 'PT', 'QM', 'QZ', 'RE', 'RO', 'RS', 'RU', 'SE', 'SG', 'SI',\n",
              "       'SK', 'SM', 'SW', 'TC', 'TH', 'TR', 'TW', 'UA', 'UK', 'UR', 'US',\n",
              "       'UY', 'VE', 'VN', 'ZA', 'ZZ'], dtype=object)"
            ]
          },
          "execution_count": 8,
          "metadata": {},
          "output_type": "execute_result"
        }
      ],
      "source": [
        "by_isrc[\"country_code\"].unique()"
      ]
    },
    {
      "cell_type": "markdown",
      "id": "4df225d6-f879-4500-a54d-498b5513483f",
      "metadata": {
        "id": "4df225d6-f879-4500-a54d-498b5513483f"
      },
      "source": [
        "Gruppierung der Songs nach den Ländercodes."
      ]
    },
    {
      "cell_type": "code",
      "execution_count": 9,
      "id": "7916e0cd-dfb0-4994-ad6a-12cccfea3e84",
      "metadata": {
        "id": "7916e0cd-dfb0-4994-ad6a-12cccfea3e84"
      },
      "outputs": [],
      "source": [
        "countries = {\n",
        "    'AE': 'United Arab Emirates',\n",
        "    'AR': 'Argentina',\n",
        "    'AT': 'Austria',\n",
        "    'AU': 'Australia',\n",
        "    'AZ': 'Azerbaijan',\n",
        "    'BA': 'Bosnia and Herzegovina',\n",
        "    'BC': 'Canada (British Columbia)',\n",
        "    'BE': 'Belgium',\n",
        "    'BG': 'Bulgaria',\n",
        "    'BR': 'Brazil',\n",
        "    'BX': 'Benelux',\n",
        "    'CA': 'Canada',\n",
        "    'CH': 'Switzerland',\n",
        "    'CI': 'Ivory Coast (Côte d\\'Ivoire)',\n",
        "    'CL': 'Chile',\n",
        "    'CN': 'China',\n",
        "    'CO': 'Colombia',\n",
        "    'CS': 'Serbia and Montenegro',\n",
        "    'CZ': 'Czech Republic',\n",
        "    'DE': 'Germany',\n",
        "    'DG': 'Germany (East)',\n",
        "    'DK': 'Denmark',\n",
        "    'EE': 'Estonia',\n",
        "    'EG': 'Egypt',\n",
        "    'ES': 'Spain',\n",
        "    'FI': 'Finland',\n",
        "    'FR': 'France',\n",
        "    'FX': 'France (Metropolitan)',\n",
        "    'GB': 'United Kingdom',\n",
        "    'GN': 'Guinea',\n",
        "    'GR': 'Greece',\n",
        "    'GT': 'Guatemala',\n",
        "    'GX': 'Greece (Ancient)',\n",
        "    'HK': 'Hong Kong',\n",
        "    'HR': 'Croatia',\n",
        "    'HU': 'Hungary',\n",
        "    'ID': 'Indonesia',\n",
        "    'IE': 'Ireland',\n",
        "    'IL': 'Israel',\n",
        "    'IN': 'India',\n",
        "    'IR': 'Iran',\n",
        "    'IS': 'Iceland',\n",
        "    'IT': 'Italy',\n",
        "    'JM': 'Jamaica',\n",
        "    'JP': 'Japan',\n",
        "    'KE': 'Kenya',\n",
        "    'KR': 'South Korea',\n",
        "    'KS': 'Kosovo',\n",
        "    'LB': 'Lebanon',\n",
        "    'LK': 'Sri Lanka',\n",
        "    'LT': 'Lithuania',\n",
        "    'LU': 'Luxembourg',\n",
        "    'LV': 'Latvia',\n",
        "    'MD': 'Moldova',\n",
        "    'MM': 'Myanmar (Burma)',\n",
        "    'MT': 'Malta',\n",
        "    'MU': 'Mauritius',\n",
        "    'MX': 'Mexico',\n",
        "    'MY': 'Malaysia',\n",
        "    'NG': 'Nigeria',\n",
        "    'NI': 'Nicaragua',\n",
        "    'NL': 'Netherlands',\n",
        "    'NO': 'Norway',\n",
        "    'NZ': 'New Zealand',\n",
        "    'PE': 'Peru',\n",
        "    'PH': 'Philippines',\n",
        "    'PL': 'Poland',\n",
        "    'PT': 'Portugal',\n",
        "    'QM': 'Marshall Islands', #second country code for the United States\n",
        "    'QZ': 'Unknown or Invalid Area',\n",
        "    'RE': 'Réunion',\n",
        "    'RO': 'Romania',\n",
        "    'RS': 'Serbia',\n",
        "    'RU': 'Russia',\n",
        "    'SE': 'Sweden',\n",
        "    'SG': 'Singapore',\n",
        "    'SI': 'Slovenia',\n",
        "    'SK': 'Slovakia',\n",
        "    'SM': 'San Marino',\n",
        "    'SW': 'Sweden',\n",
        "    'TC': 'Turks and Caicos Islands',\n",
        "    'TH': 'Thailand',\n",
        "    'TR': 'Turkey',\n",
        "    'TW': 'Taiwan',\n",
        "    'UA': 'Ukraine',\n",
        "    'UK': 'United Kingdom',\n",
        "    'UR': 'Uruguay',\n",
        "    'US': 'United States',\n",
        "    'UY': 'Uruguay',\n",
        "    'VE': 'Venezuela',\n",
        "    'VN': 'Vietnam',\n",
        "    'ZA': 'South Africa',\n",
        "    'ZZ': 'Unknown or Invalid Area'\n",
        "}"
      ]
    },
    {
      "cell_type": "markdown",
      "id": "-lxm2F7yyU9T",
      "metadata": {
        "id": "-lxm2F7yyU9T"
      },
      "source": [
        "Erstellen eines neuen Features `country`, welches den Namen des jeweiligen Landes beinhaltet."
      ]
    },
    {
      "cell_type": "code",
      "execution_count": 10,
      "id": "c905b4a6-ebcc-4580-b3f2-c345d64c4e51",
      "metadata": {
        "id": "c905b4a6-ebcc-4580-b3f2-c345d64c4e51"
      },
      "outputs": [],
      "source": [
        "by_isrc[\"country\"] = by_isrc[\"country_code\"].apply(lambda x: countries[x])"
      ]
    },
    {
      "cell_type": "markdown",
      "id": "gLUKB8R7yhL1",
      "metadata": {
        "id": "gLUKB8R7yhL1"
      },
      "source": [
        "Gruppieren der Daten nach `country` und `country_code`. Dies soll genutzt werden, um zu analysieren, aus welchem Land am meisten Songs veröffentlicht worden sind."
      ]
    },
    {
      "cell_type": "code",
      "execution_count": 11,
      "id": "f3bad70b-248a-4714-8338-09e315e802ad",
      "metadata": {
        "id": "f3bad70b-248a-4714-8338-09e315e802ad"
      },
      "outputs": [],
      "source": [
        "grouped_countries = by_isrc.copy()\n",
        "grouped_countries = grouped_countries[[\"country_code\", \"country\"]]\n",
        "grouped_countries[\"num_countries\"] = 0\n",
        "grouped_countries = grouped_countries.groupby([\"country_code\", \"country\"]).count()"
      ]
    },
    {
      "cell_type": "code",
      "execution_count": 12,
      "id": "e6c8c41f-b919-4304-b9e7-7b6ef0a286a6",
      "metadata": {
        "id": "e6c8c41f-b919-4304-b9e7-7b6ef0a286a6"
      },
      "outputs": [],
      "source": [
        "grouped_countries = grouped_countries.sort_values(\"num_countries\", ascending=False)"
      ]
    },
    {
      "cell_type": "code",
      "execution_count": 13,
      "id": "d565a13b-1fa0-42e6-a311-2e2b1f1d92ca",
      "metadata": {
        "id": "d565a13b-1fa0-42e6-a311-2e2b1f1d92ca"
      },
      "outputs": [],
      "source": [
        "grouped_countries.reset_index(inplace=True)"
      ]
    },
    {
      "cell_type": "code",
      "execution_count": 14,
      "id": "33443f11-ce6c-4bbf-8fba-a86db672f11b",
      "metadata": {
        "id": "33443f11-ce6c-4bbf-8fba-a86db672f11b"
      },
      "outputs": [],
      "source": [
        "# country und country_code werden kombiniert für eine bessere Darstellung\n",
        "grouped_countries[\"country_comb\"] = grouped_countries.apply(lambda x: f'{x[\"country\"]}-{x[\"country_code\"]}', axis=1)"
      ]
    },
    {
      "cell_type": "code",
      "execution_count": 15,
      "id": "0f9e76bf-738c-4551-b7c5-91cc644e9819",
      "metadata": {
        "colab": {
          "base_uri": "https://localhost:8080/",
          "height": 517
        },
        "id": "0f9e76bf-738c-4551-b7c5-91cc644e9819",
        "outputId": "28f33f6e-4c22-4f29-cac1-1a54843b445c"
      },
      "outputs": [
        {
          "data": {
            "text/html": [
              "<html>\n",
              "<head><meta charset=\"utf-8\" /></head>\n",
              "<body>\n",
              "    <div>            <script src=\"https://cdnjs.cloudflare.com/ajax/libs/mathjax/2.7.5/MathJax.js?config=TeX-AMS-MML_SVG\"></script><script type=\"text/javascript\">if (window.MathJax && window.MathJax.Hub && window.MathJax.Hub.Config) {window.MathJax.Hub.Config({SVG: {font: \"STIX-Web\"}});}</script>                <script type=\"text/javascript\">window.PlotlyConfig = {MathJaxConfig: 'local'};</script>\n",
              "        <script charset=\"utf-8\" src=\"https://cdn.plot.ly/plotly-2.24.1.min.js\"></script>                <div id=\"77405c20-aa9b-4a7a-bd5f-f4430ce34d8e\" class=\"plotly-graph-div\" style=\"height:500px; width:100%;\"></div>            <script type=\"text/javascript\">                                    window.PLOTLYENV=window.PLOTLYENV || {};                                    if (document.getElementById(\"77405c20-aa9b-4a7a-bd5f-f4430ce34d8e\")) {                    Plotly.newPlot(                        \"77405c20-aa9b-4a7a-bd5f-f4430ce34d8e\",                        [{\"alignmentgroup\":\"True\",\"hovertemplate\":\"country_comb=%{x}\\u003cbr\\u003enum_countries=%{y}\\u003cextra\\u003e\\u003c\\u002fextra\\u003e\",\"legendgroup\":\"\",\"marker\":{\"color\":\"#636efa\",\"pattern\":{\"shape\":\"\"}},\"name\":\"\",\"offsetgroup\":\"\",\"orientation\":\"v\",\"showlegend\":false,\"textposition\":\"auto\",\"x\":[\"United States-US\",\"United Kingdom-GB\",\"Germany-DE\",\"France-FR\",\"Marshall Islands-QM\",\"Brazil-BR\",\"Netherlands-NL\",\"Sweden-SE\",\"Spain-ES\",\"Finland-FI\",\"Italy-IT\",\"Japan-JP\",\"India-IN\",\"Unknown or Invalid Area-QZ\",\"Turkey-TR\",\"Argentina-AR\",\"Czech Republic-CZ\",\"Norway-NO\",\"Indonesia-ID\",\"Denmark-DK\",\"Greece-GR\",\"Canada-CA\",\"Australia-AU\",\"Bulgaria-BG\",\"Croatia-HR\",\"Switzerland-CH\",\"Belgium-BE\",\"Hong Kong-HK\",\"Iceland-IS\",\"Turks and Caicos Islands-TC\"],\"xaxis\":\"x\",\"y\":[104973,66175,32217,24923,14398,14227,14013,13102,11284,9801,8654,8348,7780,6490,5493,5144,5109,4796,4667,4415,4310,3844,3619,3150,3099,2357,2196,1881,1767,1546],\"yaxis\":\"y\",\"type\":\"bar\"}],                        {\"template\":{\"data\":{\"barpolar\":[{\"marker\":{\"line\":{\"color\":\"rgb(17,17,17)\",\"width\":0.5},\"pattern\":{\"fillmode\":\"overlay\",\"size\":10,\"solidity\":0.2}},\"type\":\"barpolar\"}],\"bar\":[{\"error_x\":{\"color\":\"#f2f5fa\"},\"error_y\":{\"color\":\"#f2f5fa\"},\"marker\":{\"line\":{\"color\":\"rgb(17,17,17)\",\"width\":0.5},\"pattern\":{\"fillmode\":\"overlay\",\"size\":10,\"solidity\":0.2}},\"type\":\"bar\"}],\"carpet\":[{\"aaxis\":{\"endlinecolor\":\"#A2B1C6\",\"gridcolor\":\"#506784\",\"linecolor\":\"#506784\",\"minorgridcolor\":\"#506784\",\"startlinecolor\":\"#A2B1C6\"},\"baxis\":{\"endlinecolor\":\"#A2B1C6\",\"gridcolor\":\"#506784\",\"linecolor\":\"#506784\",\"minorgridcolor\":\"#506784\",\"startlinecolor\":\"#A2B1C6\"},\"type\":\"carpet\"}],\"choropleth\":[{\"colorbar\":{\"outlinewidth\":0,\"ticks\":\"\"},\"type\":\"choropleth\"}],\"contourcarpet\":[{\"colorbar\":{\"outlinewidth\":0,\"ticks\":\"\"},\"type\":\"contourcarpet\"}],\"contour\":[{\"colorbar\":{\"outlinewidth\":0,\"ticks\":\"\"},\"colorscale\":[[0.0,\"#0d0887\"],[0.1111111111111111,\"#46039f\"],[0.2222222222222222,\"#7201a8\"],[0.3333333333333333,\"#9c179e\"],[0.4444444444444444,\"#bd3786\"],[0.5555555555555556,\"#d8576b\"],[0.6666666666666666,\"#ed7953\"],[0.7777777777777778,\"#fb9f3a\"],[0.8888888888888888,\"#fdca26\"],[1.0,\"#f0f921\"]],\"type\":\"contour\"}],\"heatmapgl\":[{\"colorbar\":{\"outlinewidth\":0,\"ticks\":\"\"},\"colorscale\":[[0.0,\"#0d0887\"],[0.1111111111111111,\"#46039f\"],[0.2222222222222222,\"#7201a8\"],[0.3333333333333333,\"#9c179e\"],[0.4444444444444444,\"#bd3786\"],[0.5555555555555556,\"#d8576b\"],[0.6666666666666666,\"#ed7953\"],[0.7777777777777778,\"#fb9f3a\"],[0.8888888888888888,\"#fdca26\"],[1.0,\"#f0f921\"]],\"type\":\"heatmapgl\"}],\"heatmap\":[{\"colorbar\":{\"outlinewidth\":0,\"ticks\":\"\"},\"colorscale\":[[0.0,\"#0d0887\"],[0.1111111111111111,\"#46039f\"],[0.2222222222222222,\"#7201a8\"],[0.3333333333333333,\"#9c179e\"],[0.4444444444444444,\"#bd3786\"],[0.5555555555555556,\"#d8576b\"],[0.6666666666666666,\"#ed7953\"],[0.7777777777777778,\"#fb9f3a\"],[0.8888888888888888,\"#fdca26\"],[1.0,\"#f0f921\"]],\"type\":\"heatmap\"}],\"histogram2dcontour\":[{\"colorbar\":{\"outlinewidth\":0,\"ticks\":\"\"},\"colorscale\":[[0.0,\"#0d0887\"],[0.1111111111111111,\"#46039f\"],[0.2222222222222222,\"#7201a8\"],[0.3333333333333333,\"#9c179e\"],[0.4444444444444444,\"#bd3786\"],[0.5555555555555556,\"#d8576b\"],[0.6666666666666666,\"#ed7953\"],[0.7777777777777778,\"#fb9f3a\"],[0.8888888888888888,\"#fdca26\"],[1.0,\"#f0f921\"]],\"type\":\"histogram2dcontour\"}],\"histogram2d\":[{\"colorbar\":{\"outlinewidth\":0,\"ticks\":\"\"},\"colorscale\":[[0.0,\"#0d0887\"],[0.1111111111111111,\"#46039f\"],[0.2222222222222222,\"#7201a8\"],[0.3333333333333333,\"#9c179e\"],[0.4444444444444444,\"#bd3786\"],[0.5555555555555556,\"#d8576b\"],[0.6666666666666666,\"#ed7953\"],[0.7777777777777778,\"#fb9f3a\"],[0.8888888888888888,\"#fdca26\"],[1.0,\"#f0f921\"]],\"type\":\"histogram2d\"}],\"histogram\":[{\"marker\":{\"pattern\":{\"fillmode\":\"overlay\",\"size\":10,\"solidity\":0.2}},\"type\":\"histogram\"}],\"mesh3d\":[{\"colorbar\":{\"outlinewidth\":0,\"ticks\":\"\"},\"type\":\"mesh3d\"}],\"parcoords\":[{\"line\":{\"colorbar\":{\"outlinewidth\":0,\"ticks\":\"\"}},\"type\":\"parcoords\"}],\"pie\":[{\"automargin\":true,\"type\":\"pie\"}],\"scatter3d\":[{\"line\":{\"colorbar\":{\"outlinewidth\":0,\"ticks\":\"\"}},\"marker\":{\"colorbar\":{\"outlinewidth\":0,\"ticks\":\"\"}},\"type\":\"scatter3d\"}],\"scattercarpet\":[{\"marker\":{\"colorbar\":{\"outlinewidth\":0,\"ticks\":\"\"}},\"type\":\"scattercarpet\"}],\"scattergeo\":[{\"marker\":{\"colorbar\":{\"outlinewidth\":0,\"ticks\":\"\"}},\"type\":\"scattergeo\"}],\"scattergl\":[{\"marker\":{\"line\":{\"color\":\"#283442\"}},\"type\":\"scattergl\"}],\"scattermapbox\":[{\"marker\":{\"colorbar\":{\"outlinewidth\":0,\"ticks\":\"\"}},\"type\":\"scattermapbox\"}],\"scatterpolargl\":[{\"marker\":{\"colorbar\":{\"outlinewidth\":0,\"ticks\":\"\"}},\"type\":\"scatterpolargl\"}],\"scatterpolar\":[{\"marker\":{\"colorbar\":{\"outlinewidth\":0,\"ticks\":\"\"}},\"type\":\"scatterpolar\"}],\"scatter\":[{\"marker\":{\"line\":{\"color\":\"#283442\"}},\"type\":\"scatter\"}],\"scatterternary\":[{\"marker\":{\"colorbar\":{\"outlinewidth\":0,\"ticks\":\"\"}},\"type\":\"scatterternary\"}],\"surface\":[{\"colorbar\":{\"outlinewidth\":0,\"ticks\":\"\"},\"colorscale\":[[0.0,\"#0d0887\"],[0.1111111111111111,\"#46039f\"],[0.2222222222222222,\"#7201a8\"],[0.3333333333333333,\"#9c179e\"],[0.4444444444444444,\"#bd3786\"],[0.5555555555555556,\"#d8576b\"],[0.6666666666666666,\"#ed7953\"],[0.7777777777777778,\"#fb9f3a\"],[0.8888888888888888,\"#fdca26\"],[1.0,\"#f0f921\"]],\"type\":\"surface\"}],\"table\":[{\"cells\":{\"fill\":{\"color\":\"#506784\"},\"line\":{\"color\":\"rgb(17,17,17)\"}},\"header\":{\"fill\":{\"color\":\"#2a3f5f\"},\"line\":{\"color\":\"rgb(17,17,17)\"}},\"type\":\"table\"}]},\"layout\":{\"annotationdefaults\":{\"arrowcolor\":\"#f2f5fa\",\"arrowhead\":0,\"arrowwidth\":1},\"autotypenumbers\":\"strict\",\"coloraxis\":{\"colorbar\":{\"outlinewidth\":0,\"ticks\":\"\"}},\"colorscale\":{\"diverging\":[[0,\"#8e0152\"],[0.1,\"#c51b7d\"],[0.2,\"#de77ae\"],[0.3,\"#f1b6da\"],[0.4,\"#fde0ef\"],[0.5,\"#f7f7f7\"],[0.6,\"#e6f5d0\"],[0.7,\"#b8e186\"],[0.8,\"#7fbc41\"],[0.9,\"#4d9221\"],[1,\"#276419\"]],\"sequential\":[[0.0,\"#0d0887\"],[0.1111111111111111,\"#46039f\"],[0.2222222222222222,\"#7201a8\"],[0.3333333333333333,\"#9c179e\"],[0.4444444444444444,\"#bd3786\"],[0.5555555555555556,\"#d8576b\"],[0.6666666666666666,\"#ed7953\"],[0.7777777777777778,\"#fb9f3a\"],[0.8888888888888888,\"#fdca26\"],[1.0,\"#f0f921\"]],\"sequentialminus\":[[0.0,\"#0d0887\"],[0.1111111111111111,\"#46039f\"],[0.2222222222222222,\"#7201a8\"],[0.3333333333333333,\"#9c179e\"],[0.4444444444444444,\"#bd3786\"],[0.5555555555555556,\"#d8576b\"],[0.6666666666666666,\"#ed7953\"],[0.7777777777777778,\"#fb9f3a\"],[0.8888888888888888,\"#fdca26\"],[1.0,\"#f0f921\"]]},\"colorway\":[\"#636efa\",\"#EF553B\",\"#00cc96\",\"#ab63fa\",\"#FFA15A\",\"#19d3f3\",\"#FF6692\",\"#B6E880\",\"#FF97FF\",\"#FECB52\"],\"font\":{\"color\":\"#f2f5fa\"},\"geo\":{\"bgcolor\":\"rgb(17,17,17)\",\"lakecolor\":\"rgb(17,17,17)\",\"landcolor\":\"rgb(17,17,17)\",\"showlakes\":true,\"showland\":true,\"subunitcolor\":\"#506784\"},\"hoverlabel\":{\"align\":\"left\"},\"hovermode\":\"closest\",\"mapbox\":{\"style\":\"dark\"},\"paper_bgcolor\":\"rgb(17,17,17)\",\"plot_bgcolor\":\"rgb(17,17,17)\",\"polar\":{\"angularaxis\":{\"gridcolor\":\"#506784\",\"linecolor\":\"#506784\",\"ticks\":\"\"},\"bgcolor\":\"rgb(17,17,17)\",\"radialaxis\":{\"gridcolor\":\"#506784\",\"linecolor\":\"#506784\",\"ticks\":\"\"}},\"scene\":{\"xaxis\":{\"backgroundcolor\":\"rgb(17,17,17)\",\"gridcolor\":\"#506784\",\"gridwidth\":2,\"linecolor\":\"#506784\",\"showbackground\":true,\"ticks\":\"\",\"zerolinecolor\":\"#C8D4E3\"},\"yaxis\":{\"backgroundcolor\":\"rgb(17,17,17)\",\"gridcolor\":\"#506784\",\"gridwidth\":2,\"linecolor\":\"#506784\",\"showbackground\":true,\"ticks\":\"\",\"zerolinecolor\":\"#C8D4E3\"},\"zaxis\":{\"backgroundcolor\":\"rgb(17,17,17)\",\"gridcolor\":\"#506784\",\"gridwidth\":2,\"linecolor\":\"#506784\",\"showbackground\":true,\"ticks\":\"\",\"zerolinecolor\":\"#C8D4E3\"}},\"shapedefaults\":{\"line\":{\"color\":\"#f2f5fa\"}},\"sliderdefaults\":{\"bgcolor\":\"#C8D4E3\",\"bordercolor\":\"rgb(17,17,17)\",\"borderwidth\":1,\"tickwidth\":0},\"ternary\":{\"aaxis\":{\"gridcolor\":\"#506784\",\"linecolor\":\"#506784\",\"ticks\":\"\"},\"baxis\":{\"gridcolor\":\"#506784\",\"linecolor\":\"#506784\",\"ticks\":\"\"},\"bgcolor\":\"rgb(17,17,17)\",\"caxis\":{\"gridcolor\":\"#506784\",\"linecolor\":\"#506784\",\"ticks\":\"\"}},\"title\":{\"x\":0.05},\"updatemenudefaults\":{\"bgcolor\":\"#506784\",\"borderwidth\":0},\"xaxis\":{\"automargin\":true,\"gridcolor\":\"#283442\",\"linecolor\":\"#506784\",\"ticks\":\"\",\"title\":{\"standoff\":15},\"zerolinecolor\":\"#283442\",\"zerolinewidth\":2},\"yaxis\":{\"automargin\":true,\"gridcolor\":\"#283442\",\"linecolor\":\"#506784\",\"ticks\":\"\",\"title\":{\"standoff\":15},\"zerolinecolor\":\"#283442\",\"zerolinewidth\":2}}},\"xaxis\":{\"anchor\":\"y\",\"domain\":[0.0,1.0],\"title\":{\"text\":\"Land\"}},\"yaxis\":{\"anchor\":\"x\",\"domain\":[0.0,1.0],\"title\":{\"text\":\"Ver\\u00f6ffentlichte Songs\"}},\"legend\":{\"tracegroupgap\":0},\"margin\":{\"t\":60},\"barmode\":\"relative\",\"height\":500,\"title\":{\"text\":\"Ver\\u00f6ffentlichte Songs pro Land (Top 30)\"}},                        {\"responsive\": true}                    ).then(function(){\n",
              "                            \n",
              "var gd = document.getElementById('77405c20-aa9b-4a7a-bd5f-f4430ce34d8e');\n",
              "var x = new MutationObserver(function (mutations, observer) {{\n",
              "        var display = window.getComputedStyle(gd).display;\n",
              "        if (!display || display === 'none') {{\n",
              "            console.log([gd, 'removed!']);\n",
              "            Plotly.purge(gd);\n",
              "            observer.disconnect();\n",
              "        }}\n",
              "}});\n",
              "\n",
              "// Listen for the removal of the full notebook cells\n",
              "var notebookContainer = gd.closest('#notebook-container');\n",
              "if (notebookContainer) {{\n",
              "    x.observe(notebookContainer, {childList: true});\n",
              "}}\n",
              "\n",
              "// Listen for the clearing of the current output cell\n",
              "var outputEl = gd.closest('.output');\n",
              "if (outputEl) {{\n",
              "    x.observe(outputEl, {childList: true});\n",
              "}}\n",
              "\n",
              "                        })                };                            </script>        </div>\n",
              "</body>\n",
              "</html>"
            ]
          },
          "metadata": {},
          "output_type": "display_data"
        }
      ],
      "source": [
        "fig = px.bar(grouped_countries[:30], x=\"country_comb\", y=\"num_countries\", template=\"plotly_dark\")\n",
        "fig.update_layout(\n",
        "    height=500,\n",
        "    title=\"Veröffentlichte Songs pro Land (Top 30)\",\n",
        "    xaxis_title=\"Land\",\n",
        "    yaxis_title=\"Veröffentlichte Songs\"\n",
        ")\n",
        "fig.show()"
      ]
    },
    {
      "cell_type": "markdown",
      "id": "b34f43c6-116b-4203-8315-72a3ead641cb",
      "metadata": {
        "id": "b34f43c6-116b-4203-8315-72a3ead641cb"
      },
      "source": [
        "Es sollen alle Lieder entfernt werden welche nicht aus englischsprachigen Länger (US, UK, CA, AU, Neuseeland) sowie Deutschland, Schweiz, Österreich, Italien und Schweden stammen."
      ]
    },
    {
      "cell_type": "code",
      "execution_count": 16,
      "id": "66ff269c-7c3c-433e-a43a-cbbaff9057ab",
      "metadata": {
        "id": "66ff269c-7c3c-433e-a43a-cbbaff9057ab"
      },
      "outputs": [],
      "source": [
        "important_country_codes = [\"US\", \"GB\", \"CA\", \"AU\", \"NZ\", \"DE\", \"CH\", \"AT\", \"IT\", \"SE\"]\n",
        "\n",
        "# kleinere Inselgegenden von Amerika: Baker Island, Howland Island, Jarvis Island, Johnston Atoll, Kingman Reef, Midway Islands, Navassa Island, Palmyra Atoll, Wake Island\n",
        "minor_insular_areas_us = [\"XB\", \"XH\", \"XQ\", \"XU\", \"XM\", \"QM\", \"XV\", \"XL\", \"QW\"]\n",
        "important_country_codes.extend(minor_insular_areas_us)"
      ]
    },
    {
      "cell_type": "markdown",
      "id": "6b70ca70-2be8-4476-abdd-780bbbd9c613",
      "metadata": {
        "id": "6b70ca70-2be8-4476-abdd-780bbbd9c613"
      },
      "source": [
        "`QM` wird heute als zusätzlicher Country code für Amerika verwendet, da der Code `US` sein Limit erreicht hat. Da dieser Beschluss jedoch aus 2010 stammt, sollten die Lieder der 80er nicht beeinflusst werden?"
      ]
    },
    {
      "cell_type": "code",
      "execution_count": 17,
      "id": "sb3bSHTn0f1J",
      "metadata": {
        "colab": {
          "base_uri": "https://localhost:8080/",
          "height": 424
        },
        "id": "sb3bSHTn0f1J",
        "outputId": "3de01f93-d666-4866-dc24-091222c3dd00"
      },
      "outputs": [
        {
          "data": {
            "text/html": [
              "\n",
              "  <div id=\"df-74554630-434f-4034-834c-570bbbe8c29e\" class=\"colab-df-container\">\n",
              "    <div>\n",
              "<style scoped>\n",
              "    .dataframe tbody tr th:only-of-type {\n",
              "        vertical-align: middle;\n",
              "    }\n",
              "\n",
              "    .dataframe tbody tr th {\n",
              "        vertical-align: top;\n",
              "    }\n",
              "\n",
              "    .dataframe thead th {\n",
              "        text-align: right;\n",
              "    }\n",
              "</style>\n",
              "<table border=\"1\" class=\"dataframe\">\n",
              "  <thead>\n",
              "    <tr style=\"text-align: right;\">\n",
              "      <th></th>\n",
              "      <th>isrc</th>\n",
              "      <th>genres</th>\n",
              "      <th>name</th>\n",
              "      <th>artists</th>\n",
              "      <th>popularity</th>\n",
              "      <th>chart_power</th>\n",
              "    </tr>\n",
              "  </thead>\n",
              "  <tbody>\n",
              "    <tr>\n",
              "      <th>274154</th>\n",
              "      <td>QMKHM1600219</td>\n",
              "      <td>['hard-rock', 'metal', 'rock']</td>\n",
              "      <td>master of puppets</td>\n",
              "      <td>metallica</td>\n",
              "      <td>80</td>\n",
              "      <td>NaN</td>\n",
              "    </tr>\n",
              "    <tr>\n",
              "      <th>274107</th>\n",
              "      <td>QMKHM1600096</td>\n",
              "      <td>['hard-rock', 'metal', 'rock']</td>\n",
              "      <td>for whom the bell tolls - remastered</td>\n",
              "      <td>metallica</td>\n",
              "      <td>75</td>\n",
              "      <td>NaN</td>\n",
              "    </tr>\n",
              "    <tr>\n",
              "      <th>271243</th>\n",
              "      <td>QMFME1326440</td>\n",
              "      <td>['latin', 'pop']</td>\n",
              "      <td>tu dama de hierro</td>\n",
              "      <td>marisela</td>\n",
              "      <td>71</td>\n",
              "      <td>NaN</td>\n",
              "    </tr>\n",
              "    <tr>\n",
              "      <th>274108</th>\n",
              "      <td>QMKHM1600097</td>\n",
              "      <td>['hard-rock', 'metal', 'rock']</td>\n",
              "      <td>fade to black - remastered</td>\n",
              "      <td>metallica</td>\n",
              "      <td>70</td>\n",
              "      <td>NaN</td>\n",
              "    </tr>\n",
              "    <tr>\n",
              "      <th>274057</th>\n",
              "      <td>QMKHM1600034</td>\n",
              "      <td>['hard-rock', 'metal', 'rock']</td>\n",
              "      <td>seek &amp; destroy - remastered</td>\n",
              "      <td>metallica</td>\n",
              "      <td>69</td>\n",
              "      <td>NaN</td>\n",
              "    </tr>\n",
              "    <tr>\n",
              "      <th>...</th>\n",
              "      <td>...</td>\n",
              "      <td>...</td>\n",
              "      <td>...</td>\n",
              "      <td>...</td>\n",
              "      <td>...</td>\n",
              "      <td>...</td>\n",
              "    </tr>\n",
              "    <tr>\n",
              "      <th>267541</th>\n",
              "      <td>QM7281628419</td>\n",
              "      <td>['tango']</td>\n",
              "      <td>fuegos artificiales</td>\n",
              "      <td>juan d'arienzo y su orquesta típica</td>\n",
              "      <td>0</td>\n",
              "      <td>NaN</td>\n",
              "    </tr>\n",
              "    <tr>\n",
              "      <th>267551</th>\n",
              "      <td>QM7281713701</td>\n",
              "      <td>['jazz']</td>\n",
              "      <td>raincheck</td>\n",
              "      <td>nick brignola</td>\n",
              "      <td>0</td>\n",
              "      <td>NaN</td>\n",
              "    </tr>\n",
              "    <tr>\n",
              "      <th>267552</th>\n",
              "      <td>QM7281713702</td>\n",
              "      <td>['jazz']</td>\n",
              "      <td>tenderly</td>\n",
              "      <td>nick brignola</td>\n",
              "      <td>0</td>\n",
              "      <td>NaN</td>\n",
              "    </tr>\n",
              "    <tr>\n",
              "      <th>267553</th>\n",
              "      <td>QM7281713703</td>\n",
              "      <td>['jazz']</td>\n",
              "      <td>hurricane connie</td>\n",
              "      <td>nick brignola</td>\n",
              "      <td>0</td>\n",
              "      <td>NaN</td>\n",
              "    </tr>\n",
              "    <tr>\n",
              "      <th>275326</th>\n",
              "      <td>QMZUC1500048</td>\n",
              "      <td>['jazz']</td>\n",
              "      <td>siclienne</td>\n",
              "      <td>alexander zonjic</td>\n",
              "      <td>0</td>\n",
              "      <td>NaN</td>\n",
              "    </tr>\n",
              "  </tbody>\n",
              "</table>\n",
              "<p>14398 rows × 6 columns</p>\n",
              "</div>\n",
              "    <div class=\"colab-df-buttons\">\n",
              "\n",
              "  <div class=\"colab-df-container\">\n",
              "    <button class=\"colab-df-convert\" onclick=\"convertToInteractive('df-74554630-434f-4034-834c-570bbbe8c29e')\"\n",
              "            title=\"Convert this dataframe to an interactive table.\"\n",
              "            style=\"display:none;\">\n",
              "\n",
              "  <svg xmlns=\"http://www.w3.org/2000/svg\" height=\"24px\" viewBox=\"0 -960 960 960\">\n",
              "    <path d=\"M120-120v-720h720v720H120Zm60-500h600v-160H180v160Zm220 220h160v-160H400v160Zm0 220h160v-160H400v160ZM180-400h160v-160H180v160Zm440 0h160v-160H620v160ZM180-180h160v-160H180v160Zm440 0h160v-160H620v160Z\"/>\n",
              "  </svg>\n",
              "    </button>\n",
              "\n",
              "  <style>\n",
              "    .colab-df-container {\n",
              "      display:flex;\n",
              "      gap: 12px;\n",
              "    }\n",
              "\n",
              "    .colab-df-convert {\n",
              "      background-color: #E8F0FE;\n",
              "      border: none;\n",
              "      border-radius: 50%;\n",
              "      cursor: pointer;\n",
              "      display: none;\n",
              "      fill: #1967D2;\n",
              "      height: 32px;\n",
              "      padding: 0 0 0 0;\n",
              "      width: 32px;\n",
              "    }\n",
              "\n",
              "    .colab-df-convert:hover {\n",
              "      background-color: #E2EBFA;\n",
              "      box-shadow: 0px 1px 2px rgba(60, 64, 67, 0.3), 0px 1px 3px 1px rgba(60, 64, 67, 0.15);\n",
              "      fill: #174EA6;\n",
              "    }\n",
              "\n",
              "    .colab-df-buttons div {\n",
              "      margin-bottom: 4px;\n",
              "    }\n",
              "\n",
              "    [theme=dark] .colab-df-convert {\n",
              "      background-color: #3B4455;\n",
              "      fill: #D2E3FC;\n",
              "    }\n",
              "\n",
              "    [theme=dark] .colab-df-convert:hover {\n",
              "      background-color: #434B5C;\n",
              "      box-shadow: 0px 1px 3px 1px rgba(0, 0, 0, 0.15);\n",
              "      filter: drop-shadow(0px 1px 2px rgba(0, 0, 0, 0.3));\n",
              "      fill: #FFFFFF;\n",
              "    }\n",
              "  </style>\n",
              "\n",
              "    <script>\n",
              "      const buttonEl =\n",
              "        document.querySelector('#df-74554630-434f-4034-834c-570bbbe8c29e button.colab-df-convert');\n",
              "      buttonEl.style.display =\n",
              "        google.colab.kernel.accessAllowed ? 'block' : 'none';\n",
              "\n",
              "      async function convertToInteractive(key) {\n",
              "        const element = document.querySelector('#df-74554630-434f-4034-834c-570bbbe8c29e');\n",
              "        const dataTable =\n",
              "          await google.colab.kernel.invokeFunction('convertToInteractive',\n",
              "                                                    [key], {});\n",
              "        if (!dataTable) return;\n",
              "\n",
              "        const docLinkHtml = 'Like what you see? Visit the ' +\n",
              "          '<a target=\"_blank\" href=https://colab.research.google.com/notebooks/data_table.ipynb>data table notebook</a>'\n",
              "          + ' to learn more about interactive tables.';\n",
              "        element.innerHTML = '';\n",
              "        dataTable['output_type'] = 'display_data';\n",
              "        await google.colab.output.renderOutput(dataTable, element);\n",
              "        const docLink = document.createElement('div');\n",
              "        docLink.innerHTML = docLinkHtml;\n",
              "        element.appendChild(docLink);\n",
              "      }\n",
              "    </script>\n",
              "  </div>\n",
              "\n",
              "\n",
              "<div id=\"df-0eab76bc-4a2f-4553-9381-97c7613fd158\">\n",
              "  <button class=\"colab-df-quickchart\" onclick=\"quickchart('df-0eab76bc-4a2f-4553-9381-97c7613fd158')\"\n",
              "            title=\"Suggest charts.\"\n",
              "            style=\"display:none;\">\n",
              "\n",
              "<svg xmlns=\"http://www.w3.org/2000/svg\" height=\"24px\"viewBox=\"0 0 24 24\"\n",
              "     width=\"24px\">\n",
              "    <g>\n",
              "        <path d=\"M19 3H5c-1.1 0-2 .9-2 2v14c0 1.1.9 2 2 2h14c1.1 0 2-.9 2-2V5c0-1.1-.9-2-2-2zM9 17H7v-7h2v7zm4 0h-2V7h2v10zm4 0h-2v-4h2v4z\"/>\n",
              "    </g>\n",
              "</svg>\n",
              "  </button>\n",
              "\n",
              "<style>\n",
              "  .colab-df-quickchart {\n",
              "    background-color: #E8F0FE;\n",
              "    border: none;\n",
              "    border-radius: 50%;\n",
              "    cursor: pointer;\n",
              "    display: none;\n",
              "    fill: #1967D2;\n",
              "    height: 32px;\n",
              "    padding: 0 0 0 0;\n",
              "    width: 32px;\n",
              "  }\n",
              "\n",
              "  .colab-df-quickchart:hover {\n",
              "    background-color: #E2EBFA;\n",
              "    box-shadow: 0px 1px 2px rgba(60, 64, 67, 0.3), 0px 1px 3px 1px rgba(60, 64, 67, 0.15);\n",
              "    fill: #174EA6;\n",
              "  }\n",
              "\n",
              "  [theme=dark] .colab-df-quickchart {\n",
              "    background-color: #3B4455;\n",
              "    fill: #D2E3FC;\n",
              "  }\n",
              "\n",
              "  [theme=dark] .colab-df-quickchart:hover {\n",
              "    background-color: #434B5C;\n",
              "    box-shadow: 0px 1px 3px 1px rgba(0, 0, 0, 0.15);\n",
              "    filter: drop-shadow(0px 1px 2px rgba(0, 0, 0, 0.3));\n",
              "    fill: #FFFFFF;\n",
              "  }\n",
              "</style>\n",
              "\n",
              "  <script>\n",
              "    async function quickchart(key) {\n",
              "      const charts = await google.colab.kernel.invokeFunction(\n",
              "          'suggestCharts', [key], {});\n",
              "    }\n",
              "    (() => {\n",
              "      let quickchartButtonEl =\n",
              "        document.querySelector('#df-0eab76bc-4a2f-4553-9381-97c7613fd158 button');\n",
              "      quickchartButtonEl.style.display =\n",
              "        google.colab.kernel.accessAllowed ? 'block' : 'none';\n",
              "    })();\n",
              "  </script>\n",
              "</div>\n",
              "    </div>\n",
              "  </div>\n"
            ],
            "text/plain": [
              "                isrc                          genres  \\\n",
              "274154  QMKHM1600219  ['hard-rock', 'metal', 'rock']   \n",
              "274107  QMKHM1600096  ['hard-rock', 'metal', 'rock']   \n",
              "271243  QMFME1326440                ['latin', 'pop']   \n",
              "274108  QMKHM1600097  ['hard-rock', 'metal', 'rock']   \n",
              "274057  QMKHM1600034  ['hard-rock', 'metal', 'rock']   \n",
              "...              ...                             ...   \n",
              "267541  QM7281628419                       ['tango']   \n",
              "267551  QM7281713701                        ['jazz']   \n",
              "267552  QM7281713702                        ['jazz']   \n",
              "267553  QM7281713703                        ['jazz']   \n",
              "275326  QMZUC1500048                        ['jazz']   \n",
              "\n",
              "                                        name  \\\n",
              "274154                     master of puppets   \n",
              "274107  for whom the bell tolls - remastered   \n",
              "271243                     tu dama de hierro   \n",
              "274108            fade to black - remastered   \n",
              "274057           seek & destroy - remastered   \n",
              "...                                      ...   \n",
              "267541                   fuegos artificiales   \n",
              "267551                             raincheck   \n",
              "267552                              tenderly   \n",
              "267553                      hurricane connie   \n",
              "275326                             siclienne   \n",
              "\n",
              "                                    artists  popularity  chart_power  \n",
              "274154                            metallica          80          NaN  \n",
              "274107                            metallica          75          NaN  \n",
              "271243                             marisela          71          NaN  \n",
              "274108                            metallica          70          NaN  \n",
              "274057                            metallica          69          NaN  \n",
              "...                                     ...         ...          ...  \n",
              "267541  juan d'arienzo y su orquesta típica           0          NaN  \n",
              "267551                        nick brignola           0          NaN  \n",
              "267552                        nick brignola           0          NaN  \n",
              "267553                        nick brignola           0          NaN  \n",
              "275326                     alexander zonjic           0          NaN  \n",
              "\n",
              "[14398 rows x 6 columns]"
            ]
          },
          "execution_count": 17,
          "metadata": {},
          "output_type": "execute_result"
        }
      ],
      "source": [
        "by_isrc[by_isrc[\"country_code\"] == \"QM\"].sort_values(\"popularity\", ascending=False)[[\"isrc\", \"genres\", \"name\", \"artists\", \"popularity\", \"chart_power\"]]"
      ]
    },
    {
      "cell_type": "markdown",
      "id": "Z4a5BCxO1ULo",
      "metadata": {
        "id": "Z4a5BCxO1ULo"
      },
      "source": [
        "Herausfiltern der Lieder aus den \"wichtigen\" Länder."
      ]
    },
    {
      "cell_type": "code",
      "execution_count": 18,
      "id": "02c2236c-83b7-48f7-927e-01da65798b22",
      "metadata": {
        "id": "02c2236c-83b7-48f7-927e-01da65798b22"
      },
      "outputs": [],
      "source": [
        "reduced_isrc = by_isrc.copy()\n",
        "reduced_isrc = reduced_isrc[reduced_isrc[\"country_code\"].isin(important_country_codes)]\n",
        "reduced_isrc[\"genres\"] = reduced_isrc[\"genres\"].apply(literal_eval)"
      ]
    },
    {
      "cell_type": "code",
      "execution_count": 19,
      "id": "E5qf_wtI8jXm",
      "metadata": {
        "colab": {
          "base_uri": "https://localhost:8080/"
        },
        "id": "E5qf_wtI8jXm",
        "outputId": "52d9b417-f896-435e-ea18-9640cbfc338c"
      },
      "outputs": [
        {
          "name": "stdout",
          "output_type": "stream",
          "text": [
            "Die Anzahl der Lieder hat sich von 416154 auf 251101 verringert.\n"
          ]
        }
      ],
      "source": [
        "print(f\"Die Anzahl der Lieder hat sich von {by_isrc.shape[0]} auf {reduced_isrc.shape[0]} verringert.\")"
      ]
    },
    {
      "cell_type": "markdown",
      "id": "453c1d8f-b6f3-4172-9293-4470f6f30f33",
      "metadata": {
        "id": "453c1d8f-b6f3-4172-9293-4470f6f30f33"
      },
      "source": [
        "Gruppieren der Daten nach den Genres => Welche Genres waren in den wichtigen Ländern relevant?"
      ]
    },
    {
      "cell_type": "code",
      "execution_count": 20,
      "id": "Ofr545cC1rCg",
      "metadata": {
        "id": "Ofr545cC1rCg"
      },
      "outputs": [],
      "source": [
        "def filter_important_genres(df):\n",
        "  important_genres = df.copy()\n",
        "  important_genres = important_genres.explode(\"genres\")\n",
        "  important_genres[\"num\"] = 0\n",
        "  important_genres = important_genres[[\"genres\", \"num\"]]\n",
        "  important_genres = important_genres.groupby(\"genres\").count()\n",
        "  important_genres.reset_index(inplace=True)\n",
        "  important_genres = important_genres.sort_values(\"num\", ascending=False)\n",
        "  return important_genres"
      ]
    },
    {
      "cell_type": "code",
      "execution_count": 21,
      "id": "N7crWyhz2k4W",
      "metadata": {
        "colab": {
          "base_uri": "https://localhost:8080/",
          "height": 424
        },
        "id": "N7crWyhz2k4W",
        "outputId": "3e46b0c1-bea8-4f64-8af6-02d29e3d73c6"
      },
      "outputs": [
        {
          "data": {
            "text/html": [
              "\n",
              "  <div id=\"df-18d04055-15c3-4793-b4ca-4ea02c9f2c8d\" class=\"colab-df-container\">\n",
              "    <div>\n",
              "<style scoped>\n",
              "    .dataframe tbody tr th:only-of-type {\n",
              "        vertical-align: middle;\n",
              "    }\n",
              "\n",
              "    .dataframe tbody tr th {\n",
              "        vertical-align: top;\n",
              "    }\n",
              "\n",
              "    .dataframe thead th {\n",
              "        text-align: right;\n",
              "    }\n",
              "</style>\n",
              "<table border=\"1\" class=\"dataframe\">\n",
              "  <thead>\n",
              "    <tr style=\"text-align: right;\">\n",
              "      <th></th>\n",
              "      <th>genres</th>\n",
              "      <th>num</th>\n",
              "    </tr>\n",
              "  </thead>\n",
              "  <tbody>\n",
              "    <tr>\n",
              "      <th>16</th>\n",
              "      <td>classical</td>\n",
              "      <td>63432</td>\n",
              "    </tr>\n",
              "    <tr>\n",
              "      <th>87</th>\n",
              "      <td>rock</td>\n",
              "      <td>60598</td>\n",
              "    </tr>\n",
              "    <tr>\n",
              "      <th>77</th>\n",
              "      <td>pop</td>\n",
              "      <td>48841</td>\n",
              "    </tr>\n",
              "    <tr>\n",
              "      <th>38</th>\n",
              "      <td>german</td>\n",
              "      <td>28985</td>\n",
              "    </tr>\n",
              "    <tr>\n",
              "      <th>62</th>\n",
              "      <td>jazz</td>\n",
              "      <td>22632</td>\n",
              "    </tr>\n",
              "    <tr>\n",
              "      <th>...</th>\n",
              "      <td>...</td>\n",
              "      <td>...</td>\n",
              "    </tr>\n",
              "    <tr>\n",
              "      <th>28</th>\n",
              "      <td>dubstep</td>\n",
              "      <td>2</td>\n",
              "    </tr>\n",
              "    <tr>\n",
              "      <th>12</th>\n",
              "      <td>cantopop</td>\n",
              "      <td>1</td>\n",
              "    </tr>\n",
              "    <tr>\n",
              "      <th>53</th>\n",
              "      <td>idm</td>\n",
              "      <td>1</td>\n",
              "    </tr>\n",
              "    <tr>\n",
              "      <th>69</th>\n",
              "      <td>metalcore</td>\n",
              "      <td>1</td>\n",
              "    </tr>\n",
              "    <tr>\n",
              "      <th>90</th>\n",
              "      <td>romance</td>\n",
              "      <td>1</td>\n",
              "    </tr>\n",
              "  </tbody>\n",
              "</table>\n",
              "<p>108 rows × 2 columns</p>\n",
              "</div>\n",
              "    <div class=\"colab-df-buttons\">\n",
              "\n",
              "  <div class=\"colab-df-container\">\n",
              "    <button class=\"colab-df-convert\" onclick=\"convertToInteractive('df-18d04055-15c3-4793-b4ca-4ea02c9f2c8d')\"\n",
              "            title=\"Convert this dataframe to an interactive table.\"\n",
              "            style=\"display:none;\">\n",
              "\n",
              "  <svg xmlns=\"http://www.w3.org/2000/svg\" height=\"24px\" viewBox=\"0 -960 960 960\">\n",
              "    <path d=\"M120-120v-720h720v720H120Zm60-500h600v-160H180v160Zm220 220h160v-160H400v160Zm0 220h160v-160H400v160ZM180-400h160v-160H180v160Zm440 0h160v-160H620v160ZM180-180h160v-160H180v160Zm440 0h160v-160H620v160Z\"/>\n",
              "  </svg>\n",
              "    </button>\n",
              "\n",
              "  <style>\n",
              "    .colab-df-container {\n",
              "      display:flex;\n",
              "      gap: 12px;\n",
              "    }\n",
              "\n",
              "    .colab-df-convert {\n",
              "      background-color: #E8F0FE;\n",
              "      border: none;\n",
              "      border-radius: 50%;\n",
              "      cursor: pointer;\n",
              "      display: none;\n",
              "      fill: #1967D2;\n",
              "      height: 32px;\n",
              "      padding: 0 0 0 0;\n",
              "      width: 32px;\n",
              "    }\n",
              "\n",
              "    .colab-df-convert:hover {\n",
              "      background-color: #E2EBFA;\n",
              "      box-shadow: 0px 1px 2px rgba(60, 64, 67, 0.3), 0px 1px 3px 1px rgba(60, 64, 67, 0.15);\n",
              "      fill: #174EA6;\n",
              "    }\n",
              "\n",
              "    .colab-df-buttons div {\n",
              "      margin-bottom: 4px;\n",
              "    }\n",
              "\n",
              "    [theme=dark] .colab-df-convert {\n",
              "      background-color: #3B4455;\n",
              "      fill: #D2E3FC;\n",
              "    }\n",
              "\n",
              "    [theme=dark] .colab-df-convert:hover {\n",
              "      background-color: #434B5C;\n",
              "      box-shadow: 0px 1px 3px 1px rgba(0, 0, 0, 0.15);\n",
              "      filter: drop-shadow(0px 1px 2px rgba(0, 0, 0, 0.3));\n",
              "      fill: #FFFFFF;\n",
              "    }\n",
              "  </style>\n",
              "\n",
              "    <script>\n",
              "      const buttonEl =\n",
              "        document.querySelector('#df-18d04055-15c3-4793-b4ca-4ea02c9f2c8d button.colab-df-convert');\n",
              "      buttonEl.style.display =\n",
              "        google.colab.kernel.accessAllowed ? 'block' : 'none';\n",
              "\n",
              "      async function convertToInteractive(key) {\n",
              "        const element = document.querySelector('#df-18d04055-15c3-4793-b4ca-4ea02c9f2c8d');\n",
              "        const dataTable =\n",
              "          await google.colab.kernel.invokeFunction('convertToInteractive',\n",
              "                                                    [key], {});\n",
              "        if (!dataTable) return;\n",
              "\n",
              "        const docLinkHtml = 'Like what you see? Visit the ' +\n",
              "          '<a target=\"_blank\" href=https://colab.research.google.com/notebooks/data_table.ipynb>data table notebook</a>'\n",
              "          + ' to learn more about interactive tables.';\n",
              "        element.innerHTML = '';\n",
              "        dataTable['output_type'] = 'display_data';\n",
              "        await google.colab.output.renderOutput(dataTable, element);\n",
              "        const docLink = document.createElement('div');\n",
              "        docLink.innerHTML = docLinkHtml;\n",
              "        element.appendChild(docLink);\n",
              "      }\n",
              "    </script>\n",
              "  </div>\n",
              "\n",
              "\n",
              "<div id=\"df-0ab829e8-316e-46c0-b3ec-2d2b9e21419b\">\n",
              "  <button class=\"colab-df-quickchart\" onclick=\"quickchart('df-0ab829e8-316e-46c0-b3ec-2d2b9e21419b')\"\n",
              "            title=\"Suggest charts.\"\n",
              "            style=\"display:none;\">\n",
              "\n",
              "<svg xmlns=\"http://www.w3.org/2000/svg\" height=\"24px\"viewBox=\"0 0 24 24\"\n",
              "     width=\"24px\">\n",
              "    <g>\n",
              "        <path d=\"M19 3H5c-1.1 0-2 .9-2 2v14c0 1.1.9 2 2 2h14c1.1 0 2-.9 2-2V5c0-1.1-.9-2-2-2zM9 17H7v-7h2v7zm4 0h-2V7h2v10zm4 0h-2v-4h2v4z\"/>\n",
              "    </g>\n",
              "</svg>\n",
              "  </button>\n",
              "\n",
              "<style>\n",
              "  .colab-df-quickchart {\n",
              "    background-color: #E8F0FE;\n",
              "    border: none;\n",
              "    border-radius: 50%;\n",
              "    cursor: pointer;\n",
              "    display: none;\n",
              "    fill: #1967D2;\n",
              "    height: 32px;\n",
              "    padding: 0 0 0 0;\n",
              "    width: 32px;\n",
              "  }\n",
              "\n",
              "  .colab-df-quickchart:hover {\n",
              "    background-color: #E2EBFA;\n",
              "    box-shadow: 0px 1px 2px rgba(60, 64, 67, 0.3), 0px 1px 3px 1px rgba(60, 64, 67, 0.15);\n",
              "    fill: #174EA6;\n",
              "  }\n",
              "\n",
              "  [theme=dark] .colab-df-quickchart {\n",
              "    background-color: #3B4455;\n",
              "    fill: #D2E3FC;\n",
              "  }\n",
              "\n",
              "  [theme=dark] .colab-df-quickchart:hover {\n",
              "    background-color: #434B5C;\n",
              "    box-shadow: 0px 1px 3px 1px rgba(0, 0, 0, 0.15);\n",
              "    filter: drop-shadow(0px 1px 2px rgba(0, 0, 0, 0.3));\n",
              "    fill: #FFFFFF;\n",
              "  }\n",
              "</style>\n",
              "\n",
              "  <script>\n",
              "    async function quickchart(key) {\n",
              "      const charts = await google.colab.kernel.invokeFunction(\n",
              "          'suggestCharts', [key], {});\n",
              "    }\n",
              "    (() => {\n",
              "      let quickchartButtonEl =\n",
              "        document.querySelector('#df-0ab829e8-316e-46c0-b3ec-2d2b9e21419b button');\n",
              "      quickchartButtonEl.style.display =\n",
              "        google.colab.kernel.accessAllowed ? 'block' : 'none';\n",
              "    })();\n",
              "  </script>\n",
              "</div>\n",
              "    </div>\n",
              "  </div>\n"
            ],
            "text/plain": [
              "       genres    num\n",
              "16  classical  63432\n",
              "87       rock  60598\n",
              "77        pop  48841\n",
              "38     german  28985\n",
              "62       jazz  22632\n",
              "..        ...    ...\n",
              "28    dubstep      2\n",
              "12   cantopop      1\n",
              "53        idm      1\n",
              "69  metalcore      1\n",
              "90    romance      1\n",
              "\n",
              "[108 rows x 2 columns]"
            ]
          },
          "execution_count": 21,
          "metadata": {},
          "output_type": "execute_result"
        }
      ],
      "source": [
        "filter_important_genres(reduced_isrc)"
      ]
    },
    {
      "cell_type": "markdown",
      "id": "134YcM5O2sUG",
      "metadata": {
        "id": "134YcM5O2sUG"
      },
      "source": [
        "Am meisten Lieder wurden für das Genre Klassik veröffentlicht. Da dieses Genre nicht wirklich relevant ist, müssen zunächst die irrelevanten Genres entfernt werden. Hiebei gibt es zwei verschiedene Wege. Verfügt ein Künstler sowohl über ein erwünschtes als auch ein unerwünschtes Genre, so können entweder alle Songs von ihm behalten oder entfernt werden. Zunächst wird geprüft, wie häufig ein solcher Fall eintritt."
      ]
    },
    {
      "cell_type": "code",
      "execution_count": 22,
      "id": "KA0W5sPN3crZ",
      "metadata": {
        "id": "KA0W5sPN3crZ"
      },
      "outputs": [],
      "source": [
        "unwanted_genres = [\"classical\", \"jazz\", \"folk\", \"french\", \"turkish\", \"gospel\", \"samba\", \"piano\", \"mpb\", \"sertanejo\", \"pagode\", \"sleep\", \"forro\", \"malay\", \"anime\",\n",
        "                 \"j-idol\", \"comedy\", \"mandopop\", \"cantopop\", \"show-tunes\", \"emo\", \"romance\", \"j-dance\", \"chill\", \"world-music\", \"iranian\", \"idm\", \"metalcore\",\n",
        "                 \"hardstyle\", \"opera\", \"k-pop\", \"j-pop\", \"j-rock\", \"happy\"]"
      ]
    },
    {
      "cell_type": "code",
      "execution_count": 23,
      "id": "hTVjnyabFJVg",
      "metadata": {
        "id": "hTVjnyabFJVg"
      },
      "outputs": [],
      "source": [
        "occ_unwanted_and_wanted = by_isrc.copy()\n",
        "occ_unwanted_and_wanted = occ_unwanted_and_wanted[[\"genres\"]]\n",
        "occ_unwanted_and_wanted[\"genres\"] = occ_unwanted_and_wanted[\"genres\"].apply(literal_eval)\n",
        "occ_unwanted_and_wanted = occ_unwanted_and_wanted.explode(\"genres\")"
      ]
    },
    {
      "cell_type": "code",
      "execution_count": 24,
      "id": "QRNKt8G1IcDY",
      "metadata": {
        "id": "QRNKt8G1IcDY"
      },
      "outputs": [],
      "source": [
        "wanted_genres = list(set(occ_unwanted_and_wanted[\"genres\"].unique()).difference(unwanted_genres))"
      ]
    },
    {
      "cell_type": "code",
      "execution_count": 25,
      "id": "sR4UY0NfJW7j",
      "metadata": {
        "id": "sR4UY0NfJW7j"
      },
      "outputs": [],
      "source": [
        "def filter_row(row):\n",
        "    has_wanted_genre = any(genre in row['genres'] for genre in wanted_genres)\n",
        "    has_not_wanted_genre = any(genre in row['genres'] for genre in unwanted_genres)\n",
        "    return has_wanted_genre and has_not_wanted_genre"
      ]
    },
    {
      "cell_type": "code",
      "execution_count": 26,
      "id": "TLWuQzkaJel3",
      "metadata": {
        "id": "TLWuQzkaJel3"
      },
      "outputs": [],
      "source": [
        "occ_unwanted_and_wanted_df = reduced_isrc[reduced_isrc.apply(filter_row, axis=1)]"
      ]
    },
    {
      "cell_type": "code",
      "execution_count": 27,
      "id": "2Ggu39mSLEQj",
      "metadata": {
        "colab": {
          "base_uri": "https://localhost:8080/"
        },
        "id": "2Ggu39mSLEQj",
        "outputId": "a9950834-8da1-4fe1-8bba-42f0f4590d2c"
      },
      "outputs": [
        {
          "name": "stdout",
          "output_type": "stream",
          "text": [
            "Insgesamt gibt es 48318 Lieder, welche über ein erwünschtes und ein unerwünschtes Genre verfügen.\n"
          ]
        }
      ],
      "source": [
        "print(f\"Insgesamt gibt es {occ_unwanted_and_wanted_df.shape[0]} Lieder, welche über ein erwünschtes und ein unerwünschtes Genre verfügen.\")"
      ]
    },
    {
      "cell_type": "code",
      "execution_count": 28,
      "id": "qvtwC9e8LXRe",
      "metadata": {
        "colab": {
          "base_uri": "https://localhost:8080/"
        },
        "id": "qvtwC9e8LXRe",
        "outputId": "d9f1e501-135a-4639-ac2b-ef63d0ef96c7"
      },
      "outputs": [
        {
          "name": "stdout",
          "output_type": "stream",
          "text": [
            "Hierbei gibt es 582 verschiedene Kombinationen der Genres.\n"
          ]
        }
      ],
      "source": [
        "print(f\"Hierbei gibt es {len(list(occ_unwanted_and_wanted_df.genres.astype(str).unique()))} verschiedene Kombinationen der Genres.\")"
      ]
    },
    {
      "cell_type": "markdown",
      "id": "J2jUE4zj7hv9",
      "metadata": {
        "id": "J2jUE4zj7hv9"
      },
      "source": [
        "## Visualisierung Kombination"
      ]
    },
    {
      "cell_type": "markdown",
      "id": "FjBneHX2NRIM",
      "metadata": {
        "id": "FjBneHX2NRIM"
      },
      "source": [
        "Es werden alle Songs entfernt, welche mindestens ein unerwünschtes Feature beinhalten."
      ]
    },
    {
      "cell_type": "code",
      "execution_count": 29,
      "id": "05DV79He8D2x",
      "metadata": {
        "id": "05DV79He8D2x"
      },
      "outputs": [],
      "source": [
        "by_isrc_sub = by_isrc.copy()\n",
        "by_isrc_sub = by_isrc_sub[['isrc', 'genres']]\n",
        "by_isrc_sub = by_isrc_sub[~by_isrc_sub['genres'].str.contains('|'.join(unwanted_genres))]\n",
        "by_isrc_sub['genres'] = by_isrc_sub['genres'].apply(literal_eval)"
      ]
    },
    {
      "cell_type": "markdown",
      "id": "k-LRdEMEOBRV",
      "metadata": {
        "id": "k-LRdEMEOBRV"
      },
      "source": [
        "Das neu entstandene DataFrame soll nun mit dem bereits auf die wichtigen Länder reduzierten DataFrame gemerged werden."
      ]
    },
    {
      "cell_type": "code",
      "execution_count": null,
      "id": "oWJVNaOO9bVB",
      "metadata": {
        "id": "oWJVNaOO9bVB"
      },
      "outputs": [],
      "source": [
        "#reduced_isrc.drop(columns=\"genres\", inplace=True)"
      ]
    },
    {
      "cell_type": "code",
      "execution_count": 30,
      "id": "hZgPx26U95EE",
      "metadata": {
        "colab": {
          "base_uri": "https://localhost:8080/"
        },
        "id": "hZgPx26U95EE",
        "outputId": "2160b2c8-d7a1-48f7-f760-f6ee2ebf4f0d"
      },
      "outputs": [
        {
          "data": {
            "text/plain": [
              "((251101, 27), (220702, 2))"
            ]
          },
          "execution_count": 30,
          "metadata": {},
          "output_type": "execute_result"
        }
      ],
      "source": [
        "reduced_isrc.shape, by_isrc_sub.shape"
      ]
    },
    {
      "cell_type": "code",
      "execution_count": 31,
      "id": "kX-Kd0rr8Lz7",
      "metadata": {
        "id": "kX-Kd0rr8Lz7"
      },
      "outputs": [],
      "source": [
        "reduced_isrc = reduced_isrc.merge(by_isrc_sub[[\"isrc\"]], how=\"inner\", on=\"isrc\")"
      ]
    },
    {
      "cell_type": "code",
      "execution_count": 32,
      "id": "zuzCyg7P-H6_",
      "metadata": {
        "colab": {
          "base_uri": "https://localhost:8080/"
        },
        "id": "zuzCyg7P-H6_",
        "outputId": "e9270874-08ad-4a68-eaae-37497bbb0bb5"
      },
      "outputs": [
        {
          "name": "stdout",
          "output_type": "stream",
          "text": [
            "Die Anzahl der Songs hat sich weiter auf 139629 verringert. Die Anzahl der Features ist bei 27 geblieben.\n"
          ]
        }
      ],
      "source": [
        "print(f\"Die Anzahl der Songs hat sich weiter auf {reduced_isrc.shape[0]} verringert. Die Anzahl der Features ist bei {reduced_isrc.shape[1]} geblieben.\")"
      ]
    },
    {
      "cell_type": "code",
      "execution_count": 33,
      "id": "PuEaOWbI4oaN",
      "metadata": {
        "colab": {
          "base_uri": "https://localhost:8080/",
          "height": 363
        },
        "id": "PuEaOWbI4oaN",
        "outputId": "0db63d07-fc84-482e-8d63-90269d950f9d"
      },
      "outputs": [
        {
          "data": {
            "text/html": [
              "\n",
              "  <div id=\"df-15fdc640-be6a-4bd6-80ef-35898fe165b5\" class=\"colab-df-container\">\n",
              "    <div>\n",
              "<style scoped>\n",
              "    .dataframe tbody tr th:only-of-type {\n",
              "        vertical-align: middle;\n",
              "    }\n",
              "\n",
              "    .dataframe tbody tr th {\n",
              "        vertical-align: top;\n",
              "    }\n",
              "\n",
              "    .dataframe thead th {\n",
              "        text-align: right;\n",
              "    }\n",
              "</style>\n",
              "<table border=\"1\" class=\"dataframe\">\n",
              "  <thead>\n",
              "    <tr style=\"text-align: right;\">\n",
              "      <th></th>\n",
              "      <th>genres</th>\n",
              "      <th>num</th>\n",
              "    </tr>\n",
              "  </thead>\n",
              "  <tbody>\n",
              "    <tr>\n",
              "      <th>61</th>\n",
              "      <td>rock</td>\n",
              "      <td>52805</td>\n",
              "    </tr>\n",
              "    <tr>\n",
              "      <th>51</th>\n",
              "      <td>pop</td>\n",
              "      <td>43525</td>\n",
              "    </tr>\n",
              "    <tr>\n",
              "      <th>56</th>\n",
              "      <td>punk</td>\n",
              "      <td>16552</td>\n",
              "    </tr>\n",
              "    <tr>\n",
              "      <th>14</th>\n",
              "      <td>country</td>\n",
              "      <td>12353</td>\n",
              "    </tr>\n",
              "    <tr>\n",
              "      <th>47</th>\n",
              "      <td>metal</td>\n",
              "      <td>11743</td>\n",
              "    </tr>\n",
              "    <tr>\n",
              "      <th>35</th>\n",
              "      <td>hard-rock</td>\n",
              "      <td>9228</td>\n",
              "    </tr>\n",
              "    <tr>\n",
              "      <th>29</th>\n",
              "      <td>german</td>\n",
              "      <td>8980</td>\n",
              "    </tr>\n",
              "    <tr>\n",
              "      <th>20</th>\n",
              "      <td>disco</td>\n",
              "      <td>8065</td>\n",
              "    </tr>\n",
              "    <tr>\n",
              "      <th>70</th>\n",
              "      <td>swedish</td>\n",
              "      <td>7964</td>\n",
              "    </tr>\n",
              "    <tr>\n",
              "      <th>68</th>\n",
              "      <td>soul</td>\n",
              "      <td>7289</td>\n",
              "    </tr>\n",
              "  </tbody>\n",
              "</table>\n",
              "</div>\n",
              "    <div class=\"colab-df-buttons\">\n",
              "\n",
              "  <div class=\"colab-df-container\">\n",
              "    <button class=\"colab-df-convert\" onclick=\"convertToInteractive('df-15fdc640-be6a-4bd6-80ef-35898fe165b5')\"\n",
              "            title=\"Convert this dataframe to an interactive table.\"\n",
              "            style=\"display:none;\">\n",
              "\n",
              "  <svg xmlns=\"http://www.w3.org/2000/svg\" height=\"24px\" viewBox=\"0 -960 960 960\">\n",
              "    <path d=\"M120-120v-720h720v720H120Zm60-500h600v-160H180v160Zm220 220h160v-160H400v160Zm0 220h160v-160H400v160ZM180-400h160v-160H180v160Zm440 0h160v-160H620v160ZM180-180h160v-160H180v160Zm440 0h160v-160H620v160Z\"/>\n",
              "  </svg>\n",
              "    </button>\n",
              "\n",
              "  <style>\n",
              "    .colab-df-container {\n",
              "      display:flex;\n",
              "      gap: 12px;\n",
              "    }\n",
              "\n",
              "    .colab-df-convert {\n",
              "      background-color: #E8F0FE;\n",
              "      border: none;\n",
              "      border-radius: 50%;\n",
              "      cursor: pointer;\n",
              "      display: none;\n",
              "      fill: #1967D2;\n",
              "      height: 32px;\n",
              "      padding: 0 0 0 0;\n",
              "      width: 32px;\n",
              "    }\n",
              "\n",
              "    .colab-df-convert:hover {\n",
              "      background-color: #E2EBFA;\n",
              "      box-shadow: 0px 1px 2px rgba(60, 64, 67, 0.3), 0px 1px 3px 1px rgba(60, 64, 67, 0.15);\n",
              "      fill: #174EA6;\n",
              "    }\n",
              "\n",
              "    .colab-df-buttons div {\n",
              "      margin-bottom: 4px;\n",
              "    }\n",
              "\n",
              "    [theme=dark] .colab-df-convert {\n",
              "      background-color: #3B4455;\n",
              "      fill: #D2E3FC;\n",
              "    }\n",
              "\n",
              "    [theme=dark] .colab-df-convert:hover {\n",
              "      background-color: #434B5C;\n",
              "      box-shadow: 0px 1px 3px 1px rgba(0, 0, 0, 0.15);\n",
              "      filter: drop-shadow(0px 1px 2px rgba(0, 0, 0, 0.3));\n",
              "      fill: #FFFFFF;\n",
              "    }\n",
              "  </style>\n",
              "\n",
              "    <script>\n",
              "      const buttonEl =\n",
              "        document.querySelector('#df-15fdc640-be6a-4bd6-80ef-35898fe165b5 button.colab-df-convert');\n",
              "      buttonEl.style.display =\n",
              "        google.colab.kernel.accessAllowed ? 'block' : 'none';\n",
              "\n",
              "      async function convertToInteractive(key) {\n",
              "        const element = document.querySelector('#df-15fdc640-be6a-4bd6-80ef-35898fe165b5');\n",
              "        const dataTable =\n",
              "          await google.colab.kernel.invokeFunction('convertToInteractive',\n",
              "                                                    [key], {});\n",
              "        if (!dataTable) return;\n",
              "\n",
              "        const docLinkHtml = 'Like what you see? Visit the ' +\n",
              "          '<a target=\"_blank\" href=https://colab.research.google.com/notebooks/data_table.ipynb>data table notebook</a>'\n",
              "          + ' to learn more about interactive tables.';\n",
              "        element.innerHTML = '';\n",
              "        dataTable['output_type'] = 'display_data';\n",
              "        await google.colab.output.renderOutput(dataTable, element);\n",
              "        const docLink = document.createElement('div');\n",
              "        docLink.innerHTML = docLinkHtml;\n",
              "        element.appendChild(docLink);\n",
              "      }\n",
              "    </script>\n",
              "  </div>\n",
              "\n",
              "\n",
              "<div id=\"df-c462dc35-23a6-46c5-9b67-4bf66df05dc7\">\n",
              "  <button class=\"colab-df-quickchart\" onclick=\"quickchart('df-c462dc35-23a6-46c5-9b67-4bf66df05dc7')\"\n",
              "            title=\"Suggest charts.\"\n",
              "            style=\"display:none;\">\n",
              "\n",
              "<svg xmlns=\"http://www.w3.org/2000/svg\" height=\"24px\"viewBox=\"0 0 24 24\"\n",
              "     width=\"24px\">\n",
              "    <g>\n",
              "        <path d=\"M19 3H5c-1.1 0-2 .9-2 2v14c0 1.1.9 2 2 2h14c1.1 0 2-.9 2-2V5c0-1.1-.9-2-2-2zM9 17H7v-7h2v7zm4 0h-2V7h2v10zm4 0h-2v-4h2v4z\"/>\n",
              "    </g>\n",
              "</svg>\n",
              "  </button>\n",
              "\n",
              "<style>\n",
              "  .colab-df-quickchart {\n",
              "    background-color: #E8F0FE;\n",
              "    border: none;\n",
              "    border-radius: 50%;\n",
              "    cursor: pointer;\n",
              "    display: none;\n",
              "    fill: #1967D2;\n",
              "    height: 32px;\n",
              "    padding: 0 0 0 0;\n",
              "    width: 32px;\n",
              "  }\n",
              "\n",
              "  .colab-df-quickchart:hover {\n",
              "    background-color: #E2EBFA;\n",
              "    box-shadow: 0px 1px 2px rgba(60, 64, 67, 0.3), 0px 1px 3px 1px rgba(60, 64, 67, 0.15);\n",
              "    fill: #174EA6;\n",
              "  }\n",
              "\n",
              "  [theme=dark] .colab-df-quickchart {\n",
              "    background-color: #3B4455;\n",
              "    fill: #D2E3FC;\n",
              "  }\n",
              "\n",
              "  [theme=dark] .colab-df-quickchart:hover {\n",
              "    background-color: #434B5C;\n",
              "    box-shadow: 0px 1px 3px 1px rgba(0, 0, 0, 0.15);\n",
              "    filter: drop-shadow(0px 1px 2px rgba(0, 0, 0, 0.3));\n",
              "    fill: #FFFFFF;\n",
              "  }\n",
              "</style>\n",
              "\n",
              "  <script>\n",
              "    async function quickchart(key) {\n",
              "      const charts = await google.colab.kernel.invokeFunction(\n",
              "          'suggestCharts', [key], {});\n",
              "    }\n",
              "    (() => {\n",
              "      let quickchartButtonEl =\n",
              "        document.querySelector('#df-c462dc35-23a6-46c5-9b67-4bf66df05dc7 button');\n",
              "      quickchartButtonEl.style.display =\n",
              "        google.colab.kernel.accessAllowed ? 'block' : 'none';\n",
              "    })();\n",
              "  </script>\n",
              "</div>\n",
              "    </div>\n",
              "  </div>\n"
            ],
            "text/plain": [
              "       genres    num\n",
              "61       rock  52805\n",
              "51        pop  43525\n",
              "56       punk  16552\n",
              "14    country  12353\n",
              "47      metal  11743\n",
              "35  hard-rock   9228\n",
              "29     german   8980\n",
              "20      disco   8065\n",
              "70    swedish   7964\n",
              "68       soul   7289"
            ]
          },
          "execution_count": 33,
          "metadata": {},
          "output_type": "execute_result"
        }
      ],
      "source": [
        "important_genres = filter_important_genres(reduced_isrc)\n",
        "important_genres = important_genres.sort_values(\"num\", ascending=False)\n",
        "important_genres.head(10)"
      ]
    },
    {
      "cell_type": "code",
      "execution_count": 34,
      "id": "2D2uh8pv4o_A",
      "metadata": {
        "colab": {
          "base_uri": "https://localhost:8080/",
          "height": 517
        },
        "id": "2D2uh8pv4o_A",
        "outputId": "5203ba24-b56b-469a-d1c3-78f3cdcb93ab"
      },
      "outputs": [
        {
          "data": {
            "text/html": [
              "<html>\n",
              "<head><meta charset=\"utf-8\" /></head>\n",
              "<body>\n",
              "    <div>            <script src=\"https://cdnjs.cloudflare.com/ajax/libs/mathjax/2.7.5/MathJax.js?config=TeX-AMS-MML_SVG\"></script><script type=\"text/javascript\">if (window.MathJax && window.MathJax.Hub && window.MathJax.Hub.Config) {window.MathJax.Hub.Config({SVG: {font: \"STIX-Web\"}});}</script>                <script type=\"text/javascript\">window.PlotlyConfig = {MathJaxConfig: 'local'};</script>\n",
              "        <script charset=\"utf-8\" src=\"https://cdn.plot.ly/plotly-2.24.1.min.js\"></script>                <div id=\"fd112cc4-e6df-48e4-b73b-557c34642d6e\" class=\"plotly-graph-div\" style=\"height:500px; width:100%;\"></div>            <script type=\"text/javascript\">                                    window.PLOTLYENV=window.PLOTLYENV || {};                                    if (document.getElementById(\"fd112cc4-e6df-48e4-b73b-557c34642d6e\")) {                    Plotly.newPlot(                        \"fd112cc4-e6df-48e4-b73b-557c34642d6e\",                        [{\"alignmentgroup\":\"True\",\"hovertemplate\":\"genres=%{x}\\u003cbr\\u003enum=%{y}\\u003cextra\\u003e\\u003c\\u002fextra\\u003e\",\"legendgroup\":\"\",\"marker\":{\"color\":\"#636efa\",\"pattern\":{\"shape\":\"\"}},\"name\":\"\",\"offsetgroup\":\"\",\"orientation\":\"v\",\"showlegend\":false,\"textposition\":\"auto\",\"x\":[\"rock\",\"pop\",\"punk\",\"country\",\"metal\",\"hard-rock\",\"german\",\"disco\",\"swedish\",\"soul\",\"blues\",\"punk-rock\",\"synth-pop\",\"alternative\",\"british\",\"alt-rock\",\"funk\",\"hardcore\",\"singer-songwriter\",\"songwriter\",\"dance\",\"reggae\",\"indie\",\"r-n-b\",\"industrial\",\"hip-hop\",\"dub\",\"power-pop\",\"salsa\",\"goth\"],\"xaxis\":\"x\",\"y\":[52805,43525,16552,12353,11743,9228,8980,8065,7964,7289,7118,6372,6369,6126,6000,5847,5616,5138,3542,3539,3469,3376,3289,2783,2512,2247,2176,2174,1959,1822],\"yaxis\":\"y\",\"type\":\"bar\"}],                        {\"template\":{\"data\":{\"barpolar\":[{\"marker\":{\"line\":{\"color\":\"rgb(17,17,17)\",\"width\":0.5},\"pattern\":{\"fillmode\":\"overlay\",\"size\":10,\"solidity\":0.2}},\"type\":\"barpolar\"}],\"bar\":[{\"error_x\":{\"color\":\"#f2f5fa\"},\"error_y\":{\"color\":\"#f2f5fa\"},\"marker\":{\"line\":{\"color\":\"rgb(17,17,17)\",\"width\":0.5},\"pattern\":{\"fillmode\":\"overlay\",\"size\":10,\"solidity\":0.2}},\"type\":\"bar\"}],\"carpet\":[{\"aaxis\":{\"endlinecolor\":\"#A2B1C6\",\"gridcolor\":\"#506784\",\"linecolor\":\"#506784\",\"minorgridcolor\":\"#506784\",\"startlinecolor\":\"#A2B1C6\"},\"baxis\":{\"endlinecolor\":\"#A2B1C6\",\"gridcolor\":\"#506784\",\"linecolor\":\"#506784\",\"minorgridcolor\":\"#506784\",\"startlinecolor\":\"#A2B1C6\"},\"type\":\"carpet\"}],\"choropleth\":[{\"colorbar\":{\"outlinewidth\":0,\"ticks\":\"\"},\"type\":\"choropleth\"}],\"contourcarpet\":[{\"colorbar\":{\"outlinewidth\":0,\"ticks\":\"\"},\"type\":\"contourcarpet\"}],\"contour\":[{\"colorbar\":{\"outlinewidth\":0,\"ticks\":\"\"},\"colorscale\":[[0.0,\"#0d0887\"],[0.1111111111111111,\"#46039f\"],[0.2222222222222222,\"#7201a8\"],[0.3333333333333333,\"#9c179e\"],[0.4444444444444444,\"#bd3786\"],[0.5555555555555556,\"#d8576b\"],[0.6666666666666666,\"#ed7953\"],[0.7777777777777778,\"#fb9f3a\"],[0.8888888888888888,\"#fdca26\"],[1.0,\"#f0f921\"]],\"type\":\"contour\"}],\"heatmapgl\":[{\"colorbar\":{\"outlinewidth\":0,\"ticks\":\"\"},\"colorscale\":[[0.0,\"#0d0887\"],[0.1111111111111111,\"#46039f\"],[0.2222222222222222,\"#7201a8\"],[0.3333333333333333,\"#9c179e\"],[0.4444444444444444,\"#bd3786\"],[0.5555555555555556,\"#d8576b\"],[0.6666666666666666,\"#ed7953\"],[0.7777777777777778,\"#fb9f3a\"],[0.8888888888888888,\"#fdca26\"],[1.0,\"#f0f921\"]],\"type\":\"heatmapgl\"}],\"heatmap\":[{\"colorbar\":{\"outlinewidth\":0,\"ticks\":\"\"},\"colorscale\":[[0.0,\"#0d0887\"],[0.1111111111111111,\"#46039f\"],[0.2222222222222222,\"#7201a8\"],[0.3333333333333333,\"#9c179e\"],[0.4444444444444444,\"#bd3786\"],[0.5555555555555556,\"#d8576b\"],[0.6666666666666666,\"#ed7953\"],[0.7777777777777778,\"#fb9f3a\"],[0.8888888888888888,\"#fdca26\"],[1.0,\"#f0f921\"]],\"type\":\"heatmap\"}],\"histogram2dcontour\":[{\"colorbar\":{\"outlinewidth\":0,\"ticks\":\"\"},\"colorscale\":[[0.0,\"#0d0887\"],[0.1111111111111111,\"#46039f\"],[0.2222222222222222,\"#7201a8\"],[0.3333333333333333,\"#9c179e\"],[0.4444444444444444,\"#bd3786\"],[0.5555555555555556,\"#d8576b\"],[0.6666666666666666,\"#ed7953\"],[0.7777777777777778,\"#fb9f3a\"],[0.8888888888888888,\"#fdca26\"],[1.0,\"#f0f921\"]],\"type\":\"histogram2dcontour\"}],\"histogram2d\":[{\"colorbar\":{\"outlinewidth\":0,\"ticks\":\"\"},\"colorscale\":[[0.0,\"#0d0887\"],[0.1111111111111111,\"#46039f\"],[0.2222222222222222,\"#7201a8\"],[0.3333333333333333,\"#9c179e\"],[0.4444444444444444,\"#bd3786\"],[0.5555555555555556,\"#d8576b\"],[0.6666666666666666,\"#ed7953\"],[0.7777777777777778,\"#fb9f3a\"],[0.8888888888888888,\"#fdca26\"],[1.0,\"#f0f921\"]],\"type\":\"histogram2d\"}],\"histogram\":[{\"marker\":{\"pattern\":{\"fillmode\":\"overlay\",\"size\":10,\"solidity\":0.2}},\"type\":\"histogram\"}],\"mesh3d\":[{\"colorbar\":{\"outlinewidth\":0,\"ticks\":\"\"},\"type\":\"mesh3d\"}],\"parcoords\":[{\"line\":{\"colorbar\":{\"outlinewidth\":0,\"ticks\":\"\"}},\"type\":\"parcoords\"}],\"pie\":[{\"automargin\":true,\"type\":\"pie\"}],\"scatter3d\":[{\"line\":{\"colorbar\":{\"outlinewidth\":0,\"ticks\":\"\"}},\"marker\":{\"colorbar\":{\"outlinewidth\":0,\"ticks\":\"\"}},\"type\":\"scatter3d\"}],\"scattercarpet\":[{\"marker\":{\"colorbar\":{\"outlinewidth\":0,\"ticks\":\"\"}},\"type\":\"scattercarpet\"}],\"scattergeo\":[{\"marker\":{\"colorbar\":{\"outlinewidth\":0,\"ticks\":\"\"}},\"type\":\"scattergeo\"}],\"scattergl\":[{\"marker\":{\"line\":{\"color\":\"#283442\"}},\"type\":\"scattergl\"}],\"scattermapbox\":[{\"marker\":{\"colorbar\":{\"outlinewidth\":0,\"ticks\":\"\"}},\"type\":\"scattermapbox\"}],\"scatterpolargl\":[{\"marker\":{\"colorbar\":{\"outlinewidth\":0,\"ticks\":\"\"}},\"type\":\"scatterpolargl\"}],\"scatterpolar\":[{\"marker\":{\"colorbar\":{\"outlinewidth\":0,\"ticks\":\"\"}},\"type\":\"scatterpolar\"}],\"scatter\":[{\"marker\":{\"line\":{\"color\":\"#283442\"}},\"type\":\"scatter\"}],\"scatterternary\":[{\"marker\":{\"colorbar\":{\"outlinewidth\":0,\"ticks\":\"\"}},\"type\":\"scatterternary\"}],\"surface\":[{\"colorbar\":{\"outlinewidth\":0,\"ticks\":\"\"},\"colorscale\":[[0.0,\"#0d0887\"],[0.1111111111111111,\"#46039f\"],[0.2222222222222222,\"#7201a8\"],[0.3333333333333333,\"#9c179e\"],[0.4444444444444444,\"#bd3786\"],[0.5555555555555556,\"#d8576b\"],[0.6666666666666666,\"#ed7953\"],[0.7777777777777778,\"#fb9f3a\"],[0.8888888888888888,\"#fdca26\"],[1.0,\"#f0f921\"]],\"type\":\"surface\"}],\"table\":[{\"cells\":{\"fill\":{\"color\":\"#506784\"},\"line\":{\"color\":\"rgb(17,17,17)\"}},\"header\":{\"fill\":{\"color\":\"#2a3f5f\"},\"line\":{\"color\":\"rgb(17,17,17)\"}},\"type\":\"table\"}]},\"layout\":{\"annotationdefaults\":{\"arrowcolor\":\"#f2f5fa\",\"arrowhead\":0,\"arrowwidth\":1},\"autotypenumbers\":\"strict\",\"coloraxis\":{\"colorbar\":{\"outlinewidth\":0,\"ticks\":\"\"}},\"colorscale\":{\"diverging\":[[0,\"#8e0152\"],[0.1,\"#c51b7d\"],[0.2,\"#de77ae\"],[0.3,\"#f1b6da\"],[0.4,\"#fde0ef\"],[0.5,\"#f7f7f7\"],[0.6,\"#e6f5d0\"],[0.7,\"#b8e186\"],[0.8,\"#7fbc41\"],[0.9,\"#4d9221\"],[1,\"#276419\"]],\"sequential\":[[0.0,\"#0d0887\"],[0.1111111111111111,\"#46039f\"],[0.2222222222222222,\"#7201a8\"],[0.3333333333333333,\"#9c179e\"],[0.4444444444444444,\"#bd3786\"],[0.5555555555555556,\"#d8576b\"],[0.6666666666666666,\"#ed7953\"],[0.7777777777777778,\"#fb9f3a\"],[0.8888888888888888,\"#fdca26\"],[1.0,\"#f0f921\"]],\"sequentialminus\":[[0.0,\"#0d0887\"],[0.1111111111111111,\"#46039f\"],[0.2222222222222222,\"#7201a8\"],[0.3333333333333333,\"#9c179e\"],[0.4444444444444444,\"#bd3786\"],[0.5555555555555556,\"#d8576b\"],[0.6666666666666666,\"#ed7953\"],[0.7777777777777778,\"#fb9f3a\"],[0.8888888888888888,\"#fdca26\"],[1.0,\"#f0f921\"]]},\"colorway\":[\"#636efa\",\"#EF553B\",\"#00cc96\",\"#ab63fa\",\"#FFA15A\",\"#19d3f3\",\"#FF6692\",\"#B6E880\",\"#FF97FF\",\"#FECB52\"],\"font\":{\"color\":\"#f2f5fa\"},\"geo\":{\"bgcolor\":\"rgb(17,17,17)\",\"lakecolor\":\"rgb(17,17,17)\",\"landcolor\":\"rgb(17,17,17)\",\"showlakes\":true,\"showland\":true,\"subunitcolor\":\"#506784\"},\"hoverlabel\":{\"align\":\"left\"},\"hovermode\":\"closest\",\"mapbox\":{\"style\":\"dark\"},\"paper_bgcolor\":\"rgb(17,17,17)\",\"plot_bgcolor\":\"rgb(17,17,17)\",\"polar\":{\"angularaxis\":{\"gridcolor\":\"#506784\",\"linecolor\":\"#506784\",\"ticks\":\"\"},\"bgcolor\":\"rgb(17,17,17)\",\"radialaxis\":{\"gridcolor\":\"#506784\",\"linecolor\":\"#506784\",\"ticks\":\"\"}},\"scene\":{\"xaxis\":{\"backgroundcolor\":\"rgb(17,17,17)\",\"gridcolor\":\"#506784\",\"gridwidth\":2,\"linecolor\":\"#506784\",\"showbackground\":true,\"ticks\":\"\",\"zerolinecolor\":\"#C8D4E3\"},\"yaxis\":{\"backgroundcolor\":\"rgb(17,17,17)\",\"gridcolor\":\"#506784\",\"gridwidth\":2,\"linecolor\":\"#506784\",\"showbackground\":true,\"ticks\":\"\",\"zerolinecolor\":\"#C8D4E3\"},\"zaxis\":{\"backgroundcolor\":\"rgb(17,17,17)\",\"gridcolor\":\"#506784\",\"gridwidth\":2,\"linecolor\":\"#506784\",\"showbackground\":true,\"ticks\":\"\",\"zerolinecolor\":\"#C8D4E3\"}},\"shapedefaults\":{\"line\":{\"color\":\"#f2f5fa\"}},\"sliderdefaults\":{\"bgcolor\":\"#C8D4E3\",\"bordercolor\":\"rgb(17,17,17)\",\"borderwidth\":1,\"tickwidth\":0},\"ternary\":{\"aaxis\":{\"gridcolor\":\"#506784\",\"linecolor\":\"#506784\",\"ticks\":\"\"},\"baxis\":{\"gridcolor\":\"#506784\",\"linecolor\":\"#506784\",\"ticks\":\"\"},\"bgcolor\":\"rgb(17,17,17)\",\"caxis\":{\"gridcolor\":\"#506784\",\"linecolor\":\"#506784\",\"ticks\":\"\"}},\"title\":{\"x\":0.05},\"updatemenudefaults\":{\"bgcolor\":\"#506784\",\"borderwidth\":0},\"xaxis\":{\"automargin\":true,\"gridcolor\":\"#283442\",\"linecolor\":\"#506784\",\"ticks\":\"\",\"title\":{\"standoff\":15},\"zerolinecolor\":\"#283442\",\"zerolinewidth\":2},\"yaxis\":{\"automargin\":true,\"gridcolor\":\"#283442\",\"linecolor\":\"#506784\",\"ticks\":\"\",\"title\":{\"standoff\":15},\"zerolinecolor\":\"#283442\",\"zerolinewidth\":2}}},\"xaxis\":{\"anchor\":\"y\",\"domain\":[0.0,1.0],\"title\":{\"text\":\"Genre\"}},\"yaxis\":{\"anchor\":\"x\",\"domain\":[0.0,1.0],\"title\":{\"text\":\"Ver\\u00f6ffentlichte Songs\"}},\"legend\":{\"tracegroupgap\":0},\"margin\":{\"t\":60},\"barmode\":\"relative\",\"height\":500,\"title\":{\"text\":\"Ver\\u00f6ffentlichte Songs pro Genre in den wichtigen L\\u00e4ndern (Top 30)\"}},                        {\"responsive\": true}                    ).then(function(){\n",
              "                            \n",
              "var gd = document.getElementById('fd112cc4-e6df-48e4-b73b-557c34642d6e');\n",
              "var x = new MutationObserver(function (mutations, observer) {{\n",
              "        var display = window.getComputedStyle(gd).display;\n",
              "        if (!display || display === 'none') {{\n",
              "            console.log([gd, 'removed!']);\n",
              "            Plotly.purge(gd);\n",
              "            observer.disconnect();\n",
              "        }}\n",
              "}});\n",
              "\n",
              "// Listen for the removal of the full notebook cells\n",
              "var notebookContainer = gd.closest('#notebook-container');\n",
              "if (notebookContainer) {{\n",
              "    x.observe(notebookContainer, {childList: true});\n",
              "}}\n",
              "\n",
              "// Listen for the clearing of the current output cell\n",
              "var outputEl = gd.closest('.output');\n",
              "if (outputEl) {{\n",
              "    x.observe(outputEl, {childList: true});\n",
              "}}\n",
              "\n",
              "                        })                };                            </script>        </div>\n",
              "</body>\n",
              "</html>"
            ]
          },
          "metadata": {},
          "output_type": "display_data"
        }
      ],
      "source": [
        "fig = px.bar(important_genres[:30], x=\"genres\", y=\"num\", template=\"plotly_dark\")\n",
        "fig.update_layout(\n",
        "    height=500,\n",
        "    title=\"Veröffentlichte Songs pro Genre in den wichtigen Ländern (Top 30)\",\n",
        "    xaxis_title=\"Genre\",\n",
        "    yaxis_title=\"Veröffentlichte Songs\"\n",
        ")\n",
        "fig.show()"
      ]
    },
    {
      "cell_type": "code",
      "execution_count": 35,
      "id": "prNdUgHbAGM_",
      "metadata": {
        "id": "prNdUgHbAGM_"
      },
      "outputs": [],
      "source": [
        "reduced_isrc.to_csv(f\"{PATH}/reduced_isrc.csv\")"
      ]
    },
    {
      "cell_type": "markdown",
      "id": "oXy93SzJBoBN",
      "metadata": {
        "id": "oXy93SzJBoBN"
      },
      "source": [
        "## Auffindbarkeiten prüfen (in db und auf Spotify)"
      ]
    },
    {
      "cell_type": "code",
      "execution_count": 3,
      "id": "dgGQtmu1C47I",
      "metadata": {
        "colab": {
          "base_uri": "https://localhost:8080/"
        },
        "id": "dgGQtmu1C47I",
        "outputId": "95b57e44-6c64-4516-acf1-4d3fa894ec3d"
      },
      "outputs": [
        {
          "name": "stdout",
          "output_type": "stream",
          "text": [
            "Collecting colab-env\n",
            "  Downloading colab-env-0.2.0.tar.gz (4.7 kB)\n",
            "  Installing build dependencies ... \u001b[?25ldone\n",
            "\u001b[?25h  Getting requirements to build wheel ... \u001b[?25ldone\n",
            "\u001b[?25h  Preparing metadata (pyproject.toml) ... \u001b[?25ldone\n",
            "\u001b[?25hCollecting python-dotenv<1.0,>=0.10.0 (from colab-env)\n",
            "  Downloading python_dotenv-0.21.1-py3-none-any.whl (19 kB)\n",
            "Building wheels for collected packages: colab-env\n",
            "  Building wheel for colab-env (pyproject.toml) ... \u001b[?25ldone\n",
            "\u001b[?25h  Created wheel for colab-env: filename=colab_env-0.2.0-py3-none-any.whl size=3805 sha256=6fd2cf8f760926e57e8d9b11d053901dcb2586789ca8ebc03b73cb6ac208d796\n",
            "  Stored in directory: /Users/jannisweichler/Library/Caches/pip/wheels/ae/36/4f/466c2cd4db5d08f317893a920c4a0f58a81459ee3bdb136d35\n",
            "Successfully built colab-env\n",
            "Installing collected packages: python-dotenv, colab-env\n",
            "  Attempting uninstall: python-dotenv\n",
            "    Found existing installation: python-dotenv 1.0.0\n",
            "    Uninstalling python-dotenv-1.0.0:\n",
            "      Successfully uninstalled python-dotenv-1.0.0\n",
            "Successfully installed colab-env-0.2.0 python-dotenv-0.21.1\n",
            "\n",
            "\u001b[1m[\u001b[0m\u001b[34;49mnotice\u001b[0m\u001b[1;39;49m]\u001b[0m\u001b[39;49m A new release of pip is available: \u001b[0m\u001b[31;49m23.1.2\u001b[0m\u001b[39;49m -> \u001b[0m\u001b[32;49m23.2.1\u001b[0m\n",
            "\u001b[1m[\u001b[0m\u001b[34;49mnotice\u001b[0m\u001b[1;39;49m]\u001b[0m\u001b[39;49m To update, run: \u001b[0m\u001b[32;49mpip install --upgrade pip\u001b[0m\n"
          ]
        }
      ],
      "source": [
        "!pip install colab-env --upgrade"
      ]
    },
    {
      "cell_type": "code",
      "execution_count": 4,
      "id": "FYOzt6jmnc2g",
      "metadata": {
        "colab": {
          "base_uri": "https://localhost:8080/"
        },
        "id": "FYOzt6jmnc2g",
        "outputId": "0ff15627-740a-4a44-edf9-a8582f3d1f62"
      },
      "outputs": [
        {
          "name": "stdout",
          "output_type": "stream",
          "text": [
            "Requirement already satisfied: spotipy in /Users/jannisweichler/Documents/Studium/application-project/application-project/lib/python3.10/site-packages (2.22.1)\n",
            "Collecting spotipy\n",
            "  Downloading spotipy-2.23.0-py3-none-any.whl (29 kB)\n",
            "Requirement already satisfied: redis>=3.5.3 in /Users/jannisweichler/Documents/Studium/application-project/application-project/lib/python3.10/site-packages (from spotipy) (4.5.1)\n",
            "Requirement already satisfied: requests>=2.25.0 in /Users/jannisweichler/Documents/Studium/application-project/application-project/lib/python3.10/site-packages (from spotipy) (2.28.2)\n",
            "Requirement already satisfied: six>=1.15.0 in /Users/jannisweichler/Documents/Studium/application-project/application-project/lib/python3.10/site-packages (from spotipy) (1.16.0)\n",
            "Requirement already satisfied: urllib3>=1.26.0 in /Users/jannisweichler/Documents/Studium/application-project/application-project/lib/python3.10/site-packages (from spotipy) (1.26.15)\n",
            "Requirement already satisfied: async-timeout>=4.0.2 in /Users/jannisweichler/Documents/Studium/application-project/application-project/lib/python3.10/site-packages (from redis>=3.5.3->spotipy) (4.0.2)\n",
            "Requirement already satisfied: charset-normalizer<4,>=2 in /Users/jannisweichler/Documents/Studium/application-project/application-project/lib/python3.10/site-packages (from requests>=2.25.0->spotipy) (3.1.0)\n",
            "Requirement already satisfied: idna<4,>=2.5 in /Users/jannisweichler/Documents/Studium/application-project/application-project/lib/python3.10/site-packages (from requests>=2.25.0->spotipy) (3.4)\n",
            "Requirement already satisfied: certifi>=2017.4.17 in /Users/jannisweichler/Documents/Studium/application-project/application-project/lib/python3.10/site-packages (from requests>=2.25.0->spotipy) (2022.12.7)\n",
            "Installing collected packages: spotipy\n",
            "  Attempting uninstall: spotipy\n",
            "    Found existing installation: spotipy 2.22.1\n",
            "    Uninstalling spotipy-2.22.1:\n",
            "      Successfully uninstalled spotipy-2.22.1\n",
            "Successfully installed spotipy-2.23.0\n",
            "\n",
            "\u001b[1m[\u001b[0m\u001b[34;49mnotice\u001b[0m\u001b[1;39;49m]\u001b[0m\u001b[39;49m A new release of pip is available: \u001b[0m\u001b[31;49m23.1.2\u001b[0m\u001b[39;49m -> \u001b[0m\u001b[32;49m23.2.1\u001b[0m\n",
            "\u001b[1m[\u001b[0m\u001b[34;49mnotice\u001b[0m\u001b[1;39;49m]\u001b[0m\u001b[39;49m To update, run: \u001b[0m\u001b[32;49mpip install --upgrade pip\u001b[0m\n"
          ]
        }
      ],
      "source": [
        "!pip install spotipy --upgrade"
      ]
    },
    {
      "cell_type": "code",
      "execution_count": 5,
      "id": "cAfCoXOE7JBI",
      "metadata": {
        "colab": {
          "base_uri": "https://localhost:8080/"
        },
        "id": "cAfCoXOE7JBI",
        "outputId": "c4700276-74f1-4fcf-ab25-b7be07ae0365"
      },
      "outputs": [
        {
          "name": "stdout",
          "output_type": "stream",
          "text": [
            "Requirement already satisfied: ratelimit in /Users/jannisweichler/Documents/Studium/application-project/application-project/lib/python3.10/site-packages (2.2.1)\n",
            "\n",
            "\u001b[1m[\u001b[0m\u001b[34;49mnotice\u001b[0m\u001b[1;39;49m]\u001b[0m\u001b[39;49m A new release of pip is available: \u001b[0m\u001b[31;49m23.1.2\u001b[0m\u001b[39;49m -> \u001b[0m\u001b[32;49m23.2.1\u001b[0m\n",
            "\u001b[1m[\u001b[0m\u001b[34;49mnotice\u001b[0m\u001b[1;39;49m]\u001b[0m\u001b[39;49m To update, run: \u001b[0m\u001b[32;49mpip install --upgrade pip\u001b[0m\n"
          ]
        }
      ],
      "source": [
        "!pip install ratelimit"
      ]
    },
    {
      "cell_type": "code",
      "execution_count": 9,
      "id": "oveNa3QFkH8Q",
      "metadata": {
        "colab": {
          "base_uri": "https://localhost:8080/"
        },
        "id": "oveNa3QFkH8Q",
        "outputId": "6715e388-1f8b-41ea-82c9-dedbbb7b4042"
      },
      "outputs": [],
      "source": [
        "#import colab_env\n",
        "import os\n",
        "import pandas as pd\n",
        "import spotipy\n",
        "from spotipy.oauth2 import SpotifyClientCredentials\n",
        "import pandas as pd\n",
        "import requests\n",
        "import json\n",
        "from numpy import NaN\n",
        "from tqdm import tqdm\n",
        "import time\n",
        "from ratelimit import limits, sleep_and_retry"
      ]
    },
    {
      "cell_type": "code",
      "execution_count": 10,
      "id": "FkN7sRPb7sO3",
      "metadata": {
        "id": "FkN7sRPb7sO3"
      },
      "outputs": [],
      "source": [
        "@sleep_and_retry\n",
        "@limits(calls=60, period=30)\n",
        "def call_api():\n",
        "  return"
      ]
    },
    {
      "cell_type": "code",
      "execution_count": 11,
      "id": "hlVbDBavlg-n",
      "metadata": {
        "id": "hlVbDBavlg-n"
      },
      "outputs": [],
      "source": [
        "chart_power_df = pd.read_excel(f\"{PATH}/chart-power-scores_80s.xlsx\")\n",
        "chart_power_df = chart_power_df.applymap(lambda s: s.lower() if type(s) == str else s)\n",
        "chart_power_df = chart_power_df[['Song', 'Artist', 'Points']].groupby(['Song', 'Artist']).sum()\n",
        "chart_power_df.reset_index(inplace=True)"
      ]
    },
    {
      "cell_type": "code",
      "execution_count": 12,
      "id": "NGI7eQFJoGby",
      "metadata": {
        "id": "NGI7eQFJoGby"
      },
      "outputs": [],
      "source": [
        "if LOCAL:\n",
        "    from dotenv import load_dotenv\n",
        "    load_dotenv()\n",
        "    SPOTIFY_CLIENT_ID = os.environ.get(\"SPOTIFY_CLIENT_ID\")\n",
        "    SPOTIFY_CLIENT_SECRET = os.environ.get(\"SPOTIFY_CLIENT_SECRET\")\n",
        "else:\n",
        "    SPOTIFY_CLIENT_ID = os.getenv(\"SPOTIFY_CLIENT_ID\")\n",
        "    SPOTIFY_CLIENT_SECRET = os.getenv(\"SPOTIFY_CLIENT_SECRET\")"
      ]
    },
    {
      "cell_type": "code",
      "execution_count": 13,
      "id": "w0UjBTB8o89j",
      "metadata": {
        "id": "w0UjBTB8o89j"
      },
      "outputs": [],
      "source": [
        "client_credentials_manager = SpotifyClientCredentials(client_id=SPOTIFY_CLIENT_ID, client_secret=SPOTIFY_CLIENT_SECRET)\n",
        "sp = spotipy.Spotify(client_credentials_manager=client_credentials_manager)"
      ]
    },
    {
      "cell_type": "markdown",
      "id": "UpcOHHx8AV7K",
      "metadata": {
        "id": "UpcOHHx8AV7K"
      },
      "source": [
        "Abfrage aller Lieder für Boney M."
      ]
    },
    {
      "cell_type": "code",
      "execution_count": 14,
      "id": "i84v3ye8tUqm",
      "metadata": {
        "id": "i84v3ye8tUqm"
      },
      "outputs": [],
      "source": [
        "def query(year: int, offset: int):\n",
        "  res = sp.search(q=f\"artist:Boney M. year:{year}\", type=\"track\", limit=10, offset=offset, market=\"DE\")\n",
        "  if (len(res[\"tracks\"][\"items\"]) == 10):\n",
        "    return query(year, offset + 10)\n",
        "  return len(res[\"tracks\"][\"items\"]) + offset"
      ]
    },
    {
      "cell_type": "code",
      "execution_count": 15,
      "id": "HhwjsQC1uwqR",
      "metadata": {
        "id": "HhwjsQC1uwqR"
      },
      "outputs": [],
      "source": [
        "boney_songs = pd.DataFrame()\n",
        "for year in range(1980, 1990):\n",
        "  boney_songs = pd.concat([boney_songs, pd.DataFrame([[year, query(year, 0)]], columns=[\"year\", \"songs\"])])"
      ]
    },
    {
      "cell_type": "code",
      "execution_count": 16,
      "id": "NoIY_Gc2pIAP",
      "metadata": {
        "colab": {
          "base_uri": "https://localhost:8080/",
          "height": 517
        },
        "id": "NoIY_Gc2pIAP",
        "outputId": "1f32d7ff-00b5-4219-cdee-797d39f25acd"
      },
      "outputs": [
        {
          "data": {
            "application/vnd.plotly.v1+json": {
              "config": {
                "plotlyServerURL": "https://plot.ly"
              },
              "data": [
                {
                  "alignmentgroup": "True",
                  "hovertemplate": "year=%{x}<br>songs=%{y}<extra></extra>",
                  "legendgroup": "",
                  "marker": {
                    "color": "#636efa",
                    "pattern": {
                      "shape": ""
                    }
                  },
                  "name": "",
                  "offsetgroup": "",
                  "orientation": "v",
                  "showlegend": false,
                  "textposition": "auto",
                  "type": "bar",
                  "x": [
                    1980,
                    1981,
                    1982,
                    1983,
                    1984,
                    1985,
                    1986,
                    1987,
                    1988,
                    1989
                  ],
                  "xaxis": "x",
                  "y": [
                    0,
                    44,
                    0,
                    0,
                    45,
                    10,
                    0,
                    0,
                    2,
                    32
                  ],
                  "yaxis": "y"
                }
              ],
              "layout": {
                "barmode": "relative",
                "height": 500,
                "legend": {
                  "tracegroupgap": 0
                },
                "template": {
                  "data": {
                    "bar": [
                      {
                        "error_x": {
                          "color": "#f2f5fa"
                        },
                        "error_y": {
                          "color": "#f2f5fa"
                        },
                        "marker": {
                          "line": {
                            "color": "rgb(17,17,17)",
                            "width": 0.5
                          },
                          "pattern": {
                            "fillmode": "overlay",
                            "size": 10,
                            "solidity": 0.2
                          }
                        },
                        "type": "bar"
                      }
                    ],
                    "barpolar": [
                      {
                        "marker": {
                          "line": {
                            "color": "rgb(17,17,17)",
                            "width": 0.5
                          },
                          "pattern": {
                            "fillmode": "overlay",
                            "size": 10,
                            "solidity": 0.2
                          }
                        },
                        "type": "barpolar"
                      }
                    ],
                    "carpet": [
                      {
                        "aaxis": {
                          "endlinecolor": "#A2B1C6",
                          "gridcolor": "#506784",
                          "linecolor": "#506784",
                          "minorgridcolor": "#506784",
                          "startlinecolor": "#A2B1C6"
                        },
                        "baxis": {
                          "endlinecolor": "#A2B1C6",
                          "gridcolor": "#506784",
                          "linecolor": "#506784",
                          "minorgridcolor": "#506784",
                          "startlinecolor": "#A2B1C6"
                        },
                        "type": "carpet"
                      }
                    ],
                    "choropleth": [
                      {
                        "colorbar": {
                          "outlinewidth": 0,
                          "ticks": ""
                        },
                        "type": "choropleth"
                      }
                    ],
                    "contour": [
                      {
                        "colorbar": {
                          "outlinewidth": 0,
                          "ticks": ""
                        },
                        "colorscale": [
                          [
                            0,
                            "#0d0887"
                          ],
                          [
                            0.1111111111111111,
                            "#46039f"
                          ],
                          [
                            0.2222222222222222,
                            "#7201a8"
                          ],
                          [
                            0.3333333333333333,
                            "#9c179e"
                          ],
                          [
                            0.4444444444444444,
                            "#bd3786"
                          ],
                          [
                            0.5555555555555556,
                            "#d8576b"
                          ],
                          [
                            0.6666666666666666,
                            "#ed7953"
                          ],
                          [
                            0.7777777777777778,
                            "#fb9f3a"
                          ],
                          [
                            0.8888888888888888,
                            "#fdca26"
                          ],
                          [
                            1,
                            "#f0f921"
                          ]
                        ],
                        "type": "contour"
                      }
                    ],
                    "contourcarpet": [
                      {
                        "colorbar": {
                          "outlinewidth": 0,
                          "ticks": ""
                        },
                        "type": "contourcarpet"
                      }
                    ],
                    "heatmap": [
                      {
                        "colorbar": {
                          "outlinewidth": 0,
                          "ticks": ""
                        },
                        "colorscale": [
                          [
                            0,
                            "#0d0887"
                          ],
                          [
                            0.1111111111111111,
                            "#46039f"
                          ],
                          [
                            0.2222222222222222,
                            "#7201a8"
                          ],
                          [
                            0.3333333333333333,
                            "#9c179e"
                          ],
                          [
                            0.4444444444444444,
                            "#bd3786"
                          ],
                          [
                            0.5555555555555556,
                            "#d8576b"
                          ],
                          [
                            0.6666666666666666,
                            "#ed7953"
                          ],
                          [
                            0.7777777777777778,
                            "#fb9f3a"
                          ],
                          [
                            0.8888888888888888,
                            "#fdca26"
                          ],
                          [
                            1,
                            "#f0f921"
                          ]
                        ],
                        "type": "heatmap"
                      }
                    ],
                    "heatmapgl": [
                      {
                        "colorbar": {
                          "outlinewidth": 0,
                          "ticks": ""
                        },
                        "colorscale": [
                          [
                            0,
                            "#0d0887"
                          ],
                          [
                            0.1111111111111111,
                            "#46039f"
                          ],
                          [
                            0.2222222222222222,
                            "#7201a8"
                          ],
                          [
                            0.3333333333333333,
                            "#9c179e"
                          ],
                          [
                            0.4444444444444444,
                            "#bd3786"
                          ],
                          [
                            0.5555555555555556,
                            "#d8576b"
                          ],
                          [
                            0.6666666666666666,
                            "#ed7953"
                          ],
                          [
                            0.7777777777777778,
                            "#fb9f3a"
                          ],
                          [
                            0.8888888888888888,
                            "#fdca26"
                          ],
                          [
                            1,
                            "#f0f921"
                          ]
                        ],
                        "type": "heatmapgl"
                      }
                    ],
                    "histogram": [
                      {
                        "marker": {
                          "pattern": {
                            "fillmode": "overlay",
                            "size": 10,
                            "solidity": 0.2
                          }
                        },
                        "type": "histogram"
                      }
                    ],
                    "histogram2d": [
                      {
                        "colorbar": {
                          "outlinewidth": 0,
                          "ticks": ""
                        },
                        "colorscale": [
                          [
                            0,
                            "#0d0887"
                          ],
                          [
                            0.1111111111111111,
                            "#46039f"
                          ],
                          [
                            0.2222222222222222,
                            "#7201a8"
                          ],
                          [
                            0.3333333333333333,
                            "#9c179e"
                          ],
                          [
                            0.4444444444444444,
                            "#bd3786"
                          ],
                          [
                            0.5555555555555556,
                            "#d8576b"
                          ],
                          [
                            0.6666666666666666,
                            "#ed7953"
                          ],
                          [
                            0.7777777777777778,
                            "#fb9f3a"
                          ],
                          [
                            0.8888888888888888,
                            "#fdca26"
                          ],
                          [
                            1,
                            "#f0f921"
                          ]
                        ],
                        "type": "histogram2d"
                      }
                    ],
                    "histogram2dcontour": [
                      {
                        "colorbar": {
                          "outlinewidth": 0,
                          "ticks": ""
                        },
                        "colorscale": [
                          [
                            0,
                            "#0d0887"
                          ],
                          [
                            0.1111111111111111,
                            "#46039f"
                          ],
                          [
                            0.2222222222222222,
                            "#7201a8"
                          ],
                          [
                            0.3333333333333333,
                            "#9c179e"
                          ],
                          [
                            0.4444444444444444,
                            "#bd3786"
                          ],
                          [
                            0.5555555555555556,
                            "#d8576b"
                          ],
                          [
                            0.6666666666666666,
                            "#ed7953"
                          ],
                          [
                            0.7777777777777778,
                            "#fb9f3a"
                          ],
                          [
                            0.8888888888888888,
                            "#fdca26"
                          ],
                          [
                            1,
                            "#f0f921"
                          ]
                        ],
                        "type": "histogram2dcontour"
                      }
                    ],
                    "mesh3d": [
                      {
                        "colorbar": {
                          "outlinewidth": 0,
                          "ticks": ""
                        },
                        "type": "mesh3d"
                      }
                    ],
                    "parcoords": [
                      {
                        "line": {
                          "colorbar": {
                            "outlinewidth": 0,
                            "ticks": ""
                          }
                        },
                        "type": "parcoords"
                      }
                    ],
                    "pie": [
                      {
                        "automargin": true,
                        "type": "pie"
                      }
                    ],
                    "scatter": [
                      {
                        "marker": {
                          "line": {
                            "color": "#283442"
                          }
                        },
                        "type": "scatter"
                      }
                    ],
                    "scatter3d": [
                      {
                        "line": {
                          "colorbar": {
                            "outlinewidth": 0,
                            "ticks": ""
                          }
                        },
                        "marker": {
                          "colorbar": {
                            "outlinewidth": 0,
                            "ticks": ""
                          }
                        },
                        "type": "scatter3d"
                      }
                    ],
                    "scattercarpet": [
                      {
                        "marker": {
                          "colorbar": {
                            "outlinewidth": 0,
                            "ticks": ""
                          }
                        },
                        "type": "scattercarpet"
                      }
                    ],
                    "scattergeo": [
                      {
                        "marker": {
                          "colorbar": {
                            "outlinewidth": 0,
                            "ticks": ""
                          }
                        },
                        "type": "scattergeo"
                      }
                    ],
                    "scattergl": [
                      {
                        "marker": {
                          "line": {
                            "color": "#283442"
                          }
                        },
                        "type": "scattergl"
                      }
                    ],
                    "scattermapbox": [
                      {
                        "marker": {
                          "colorbar": {
                            "outlinewidth": 0,
                            "ticks": ""
                          }
                        },
                        "type": "scattermapbox"
                      }
                    ],
                    "scatterpolar": [
                      {
                        "marker": {
                          "colorbar": {
                            "outlinewidth": 0,
                            "ticks": ""
                          }
                        },
                        "type": "scatterpolar"
                      }
                    ],
                    "scatterpolargl": [
                      {
                        "marker": {
                          "colorbar": {
                            "outlinewidth": 0,
                            "ticks": ""
                          }
                        },
                        "type": "scatterpolargl"
                      }
                    ],
                    "scatterternary": [
                      {
                        "marker": {
                          "colorbar": {
                            "outlinewidth": 0,
                            "ticks": ""
                          }
                        },
                        "type": "scatterternary"
                      }
                    ],
                    "surface": [
                      {
                        "colorbar": {
                          "outlinewidth": 0,
                          "ticks": ""
                        },
                        "colorscale": [
                          [
                            0,
                            "#0d0887"
                          ],
                          [
                            0.1111111111111111,
                            "#46039f"
                          ],
                          [
                            0.2222222222222222,
                            "#7201a8"
                          ],
                          [
                            0.3333333333333333,
                            "#9c179e"
                          ],
                          [
                            0.4444444444444444,
                            "#bd3786"
                          ],
                          [
                            0.5555555555555556,
                            "#d8576b"
                          ],
                          [
                            0.6666666666666666,
                            "#ed7953"
                          ],
                          [
                            0.7777777777777778,
                            "#fb9f3a"
                          ],
                          [
                            0.8888888888888888,
                            "#fdca26"
                          ],
                          [
                            1,
                            "#f0f921"
                          ]
                        ],
                        "type": "surface"
                      }
                    ],
                    "table": [
                      {
                        "cells": {
                          "fill": {
                            "color": "#506784"
                          },
                          "line": {
                            "color": "rgb(17,17,17)"
                          }
                        },
                        "header": {
                          "fill": {
                            "color": "#2a3f5f"
                          },
                          "line": {
                            "color": "rgb(17,17,17)"
                          }
                        },
                        "type": "table"
                      }
                    ]
                  },
                  "layout": {
                    "annotationdefaults": {
                      "arrowcolor": "#f2f5fa",
                      "arrowhead": 0,
                      "arrowwidth": 1
                    },
                    "autotypenumbers": "strict",
                    "coloraxis": {
                      "colorbar": {
                        "outlinewidth": 0,
                        "ticks": ""
                      }
                    },
                    "colorscale": {
                      "diverging": [
                        [
                          0,
                          "#8e0152"
                        ],
                        [
                          0.1,
                          "#c51b7d"
                        ],
                        [
                          0.2,
                          "#de77ae"
                        ],
                        [
                          0.3,
                          "#f1b6da"
                        ],
                        [
                          0.4,
                          "#fde0ef"
                        ],
                        [
                          0.5,
                          "#f7f7f7"
                        ],
                        [
                          0.6,
                          "#e6f5d0"
                        ],
                        [
                          0.7,
                          "#b8e186"
                        ],
                        [
                          0.8,
                          "#7fbc41"
                        ],
                        [
                          0.9,
                          "#4d9221"
                        ],
                        [
                          1,
                          "#276419"
                        ]
                      ],
                      "sequential": [
                        [
                          0,
                          "#0d0887"
                        ],
                        [
                          0.1111111111111111,
                          "#46039f"
                        ],
                        [
                          0.2222222222222222,
                          "#7201a8"
                        ],
                        [
                          0.3333333333333333,
                          "#9c179e"
                        ],
                        [
                          0.4444444444444444,
                          "#bd3786"
                        ],
                        [
                          0.5555555555555556,
                          "#d8576b"
                        ],
                        [
                          0.6666666666666666,
                          "#ed7953"
                        ],
                        [
                          0.7777777777777778,
                          "#fb9f3a"
                        ],
                        [
                          0.8888888888888888,
                          "#fdca26"
                        ],
                        [
                          1,
                          "#f0f921"
                        ]
                      ],
                      "sequentialminus": [
                        [
                          0,
                          "#0d0887"
                        ],
                        [
                          0.1111111111111111,
                          "#46039f"
                        ],
                        [
                          0.2222222222222222,
                          "#7201a8"
                        ],
                        [
                          0.3333333333333333,
                          "#9c179e"
                        ],
                        [
                          0.4444444444444444,
                          "#bd3786"
                        ],
                        [
                          0.5555555555555556,
                          "#d8576b"
                        ],
                        [
                          0.6666666666666666,
                          "#ed7953"
                        ],
                        [
                          0.7777777777777778,
                          "#fb9f3a"
                        ],
                        [
                          0.8888888888888888,
                          "#fdca26"
                        ],
                        [
                          1,
                          "#f0f921"
                        ]
                      ]
                    },
                    "colorway": [
                      "#636efa",
                      "#EF553B",
                      "#00cc96",
                      "#ab63fa",
                      "#FFA15A",
                      "#19d3f3",
                      "#FF6692",
                      "#B6E880",
                      "#FF97FF",
                      "#FECB52"
                    ],
                    "font": {
                      "color": "#f2f5fa"
                    },
                    "geo": {
                      "bgcolor": "rgb(17,17,17)",
                      "lakecolor": "rgb(17,17,17)",
                      "landcolor": "rgb(17,17,17)",
                      "showlakes": true,
                      "showland": true,
                      "subunitcolor": "#506784"
                    },
                    "hoverlabel": {
                      "align": "left"
                    },
                    "hovermode": "closest",
                    "mapbox": {
                      "style": "dark"
                    },
                    "paper_bgcolor": "rgb(17,17,17)",
                    "plot_bgcolor": "rgb(17,17,17)",
                    "polar": {
                      "angularaxis": {
                        "gridcolor": "#506784",
                        "linecolor": "#506784",
                        "ticks": ""
                      },
                      "bgcolor": "rgb(17,17,17)",
                      "radialaxis": {
                        "gridcolor": "#506784",
                        "linecolor": "#506784",
                        "ticks": ""
                      }
                    },
                    "scene": {
                      "xaxis": {
                        "backgroundcolor": "rgb(17,17,17)",
                        "gridcolor": "#506784",
                        "gridwidth": 2,
                        "linecolor": "#506784",
                        "showbackground": true,
                        "ticks": "",
                        "zerolinecolor": "#C8D4E3"
                      },
                      "yaxis": {
                        "backgroundcolor": "rgb(17,17,17)",
                        "gridcolor": "#506784",
                        "gridwidth": 2,
                        "linecolor": "#506784",
                        "showbackground": true,
                        "ticks": "",
                        "zerolinecolor": "#C8D4E3"
                      },
                      "zaxis": {
                        "backgroundcolor": "rgb(17,17,17)",
                        "gridcolor": "#506784",
                        "gridwidth": 2,
                        "linecolor": "#506784",
                        "showbackground": true,
                        "ticks": "",
                        "zerolinecolor": "#C8D4E3"
                      }
                    },
                    "shapedefaults": {
                      "line": {
                        "color": "#f2f5fa"
                      }
                    },
                    "sliderdefaults": {
                      "bgcolor": "#C8D4E3",
                      "bordercolor": "rgb(17,17,17)",
                      "borderwidth": 1,
                      "tickwidth": 0
                    },
                    "ternary": {
                      "aaxis": {
                        "gridcolor": "#506784",
                        "linecolor": "#506784",
                        "ticks": ""
                      },
                      "baxis": {
                        "gridcolor": "#506784",
                        "linecolor": "#506784",
                        "ticks": ""
                      },
                      "bgcolor": "rgb(17,17,17)",
                      "caxis": {
                        "gridcolor": "#506784",
                        "linecolor": "#506784",
                        "ticks": ""
                      }
                    },
                    "title": {
                      "x": 0.05
                    },
                    "updatemenudefaults": {
                      "bgcolor": "#506784",
                      "borderwidth": 0
                    },
                    "xaxis": {
                      "automargin": true,
                      "gridcolor": "#283442",
                      "linecolor": "#506784",
                      "ticks": "",
                      "title": {
                        "standoff": 15
                      },
                      "zerolinecolor": "#283442",
                      "zerolinewidth": 2
                    },
                    "yaxis": {
                      "automargin": true,
                      "gridcolor": "#283442",
                      "linecolor": "#506784",
                      "ticks": "",
                      "title": {
                        "standoff": 15
                      },
                      "zerolinecolor": "#283442",
                      "zerolinewidth": 2
                    }
                  }
                },
                "title": {
                  "text": "Songs veröffentlich von Boney M. in den 80er Jahren"
                },
                "xaxis": {
                  "anchor": "y",
                  "domain": [
                    0,
                    1
                  ],
                  "title": {
                    "text": "Jahr"
                  }
                },
                "yaxis": {
                  "anchor": "x",
                  "domain": [
                    0,
                    1
                  ],
                  "title": {
                    "text": "Veröffentlichte Songs"
                  }
                }
              }
            }
          },
          "metadata": {},
          "output_type": "display_data"
        }
      ],
      "source": [
        "fig = px.bar(boney_songs, x=\"year\", y=\"songs\", title=\"Songs veröffentlich von Boney M. in den 80er Jahren\")\n",
        "fig.update_layout(\n",
        "    height=500,\n",
        "    template='plotly_dark',\n",
        "    xaxis_title=\"Jahr\",\n",
        "    yaxis_title=\"Veröffentlichte Songs\"\n",
        ")\n",
        "fig.show()"
      ]
    },
    {
      "cell_type": "markdown",
      "id": "wCqzub2FGUAq",
      "metadata": {
        "id": "wCqzub2FGUAq"
      },
      "source": [
        "Einbauen des Genres in die query"
      ]
    },
    {
      "cell_type": "code",
      "execution_count": 17,
      "id": "P80GR9zXB_Wr",
      "metadata": {
        "id": "P80GR9zXB_Wr"
      },
      "outputs": [],
      "source": [
        "def genre_query(artist: str, year: int, offset:int, genres):\n",
        "  for genre in genres:\n",
        "    call_api()\n",
        "    res = sp.search(q=f\"artist:{artist} year:{year} genre:{genre}\", type=\"track\", limit=50, offset=offset, market=\"DE\")\n",
        "    if (len(res[\"tracks\"][\"items\"] ) > 1):\n",
        "      print(year, genre)\n",
        "      #print(res)"
      ]
    },
    {
      "cell_type": "code",
      "execution_count": 18,
      "id": "gzh2z9uyCwbv",
      "metadata": {
        "id": "gzh2z9uyCwbv"
      },
      "outputs": [],
      "source": [
        "def test_genre_query(artist: str):\n",
        "  genres = sp.recommendation_genre_seeds()['genres']\n",
        "  for year in range(1980, 1990):\n",
        "    print(year)\n",
        "    genre_query(artist, year, 0, genres)"
      ]
    },
    {
      "cell_type": "code",
      "execution_count": 19,
      "id": "b36hpipdidhT",
      "metadata": {
        "colab": {
          "base_uri": "https://localhost:8080/"
        },
        "id": "b36hpipdidhT",
        "outputId": "da95f1e5-5d26-4036-ad57-65c8215fd7ca"
      },
      "outputs": [
        {
          "name": "stdout",
          "output_type": "stream",
          "text": [
            "1980\n"
          ]
        },
        {
          "ename": "KeyboardInterrupt",
          "evalue": "",
          "output_type": "error",
          "traceback": [
            "\u001b[0;31m---------------------------------------------------------------------------\u001b[0m",
            "\u001b[0;31mKeyboardInterrupt\u001b[0m                         Traceback (most recent call last)",
            "Cell \u001b[0;32mIn[19], line 1\u001b[0m\n\u001b[0;32m----> 1\u001b[0m test_genre_query(\u001b[39m\"\u001b[39;49m\u001b[39mBoney M.\u001b[39;49m\u001b[39m\"\u001b[39;49m)\n",
            "Cell \u001b[0;32mIn[18], line 5\u001b[0m, in \u001b[0;36mtest_genre_query\u001b[0;34m(artist)\u001b[0m\n\u001b[1;32m      3\u001b[0m \u001b[39mfor\u001b[39;00m year \u001b[39min\u001b[39;00m \u001b[39mrange\u001b[39m(\u001b[39m1980\u001b[39m, \u001b[39m1990\u001b[39m):\n\u001b[1;32m      4\u001b[0m   \u001b[39mprint\u001b[39m(year)\n\u001b[0;32m----> 5\u001b[0m   genre_query(artist, year, \u001b[39m0\u001b[39;49m, genres)\n",
            "Cell \u001b[0;32mIn[17], line 4\u001b[0m, in \u001b[0;36mgenre_query\u001b[0;34m(artist, year, offset, genres)\u001b[0m\n\u001b[1;32m      2\u001b[0m \u001b[39mfor\u001b[39;00m genre \u001b[39min\u001b[39;00m genres:\n\u001b[1;32m      3\u001b[0m   call_api()\n\u001b[0;32m----> 4\u001b[0m   res \u001b[39m=\u001b[39m sp\u001b[39m.\u001b[39;49msearch(q\u001b[39m=\u001b[39;49m\u001b[39mf\u001b[39;49m\u001b[39m\"\u001b[39;49m\u001b[39martist:\u001b[39;49m\u001b[39m{\u001b[39;49;00martist\u001b[39m}\u001b[39;49;00m\u001b[39m year:\u001b[39;49m\u001b[39m{\u001b[39;49;00myear\u001b[39m}\u001b[39;49;00m\u001b[39m genre:\u001b[39;49m\u001b[39m{\u001b[39;49;00mgenre\u001b[39m}\u001b[39;49;00m\u001b[39m\"\u001b[39;49m, \u001b[39mtype\u001b[39;49m\u001b[39m=\u001b[39;49m\u001b[39m\"\u001b[39;49m\u001b[39mtrack\u001b[39;49m\u001b[39m\"\u001b[39;49m, limit\u001b[39m=\u001b[39;49m\u001b[39m50\u001b[39;49m, offset\u001b[39m=\u001b[39;49moffset, market\u001b[39m=\u001b[39;49m\u001b[39m\"\u001b[39;49m\u001b[39mDE\u001b[39;49m\u001b[39m\"\u001b[39;49m)\n\u001b[1;32m      5\u001b[0m   \u001b[39mif\u001b[39;00m (\u001b[39mlen\u001b[39m(res[\u001b[39m\"\u001b[39m\u001b[39mtracks\u001b[39m\u001b[39m\"\u001b[39m][\u001b[39m\"\u001b[39m\u001b[39mitems\u001b[39m\u001b[39m\"\u001b[39m] ) \u001b[39m>\u001b[39m \u001b[39m1\u001b[39m):\n\u001b[1;32m      6\u001b[0m     \u001b[39mprint\u001b[39m(year, genre)\n",
            "File \u001b[0;32m~/Documents/Studium/application-project/application-project/lib/python3.10/site-packages/spotipy/client.py:587\u001b[0m, in \u001b[0;36mSpotify.search\u001b[0;34m(self, q, limit, offset, type, market)\u001b[0m\n\u001b[1;32m    572\u001b[0m \u001b[39mdef\u001b[39;00m \u001b[39msearch\u001b[39m(\u001b[39mself\u001b[39m, q, limit\u001b[39m=\u001b[39m\u001b[39m10\u001b[39m, offset\u001b[39m=\u001b[39m\u001b[39m0\u001b[39m, \u001b[39mtype\u001b[39m\u001b[39m=\u001b[39m\u001b[39m\"\u001b[39m\u001b[39mtrack\u001b[39m\u001b[39m\"\u001b[39m, market\u001b[39m=\u001b[39m\u001b[39mNone\u001b[39;00m):\n\u001b[1;32m    573\u001b[0m \u001b[39m    \u001b[39m\u001b[39m\"\"\" searches for an item\u001b[39;00m\n\u001b[1;32m    574\u001b[0m \n\u001b[1;32m    575\u001b[0m \u001b[39m        Parameters:\u001b[39;00m\n\u001b[0;32m   (...)\u001b[0m\n\u001b[1;32m    585\u001b[0m \u001b[39m                       from_token.\u001b[39;00m\n\u001b[1;32m    586\u001b[0m \u001b[39m    \"\"\"\u001b[39;00m\n\u001b[0;32m--> 587\u001b[0m     \u001b[39mreturn\u001b[39;00m \u001b[39mself\u001b[39;49m\u001b[39m.\u001b[39;49m_get(\n\u001b[1;32m    588\u001b[0m         \u001b[39m\"\u001b[39;49m\u001b[39msearch\u001b[39;49m\u001b[39m\"\u001b[39;49m, q\u001b[39m=\u001b[39;49mq, limit\u001b[39m=\u001b[39;49mlimit, offset\u001b[39m=\u001b[39;49moffset, \u001b[39mtype\u001b[39;49m\u001b[39m=\u001b[39;49m\u001b[39mtype\u001b[39;49m, market\u001b[39m=\u001b[39;49mmarket\n\u001b[1;32m    589\u001b[0m     )\n",
            "File \u001b[0;32m~/Documents/Studium/application-project/application-project/lib/python3.10/site-packages/spotipy/client.py:323\u001b[0m, in \u001b[0;36mSpotify._get\u001b[0;34m(self, url, args, payload, **kwargs)\u001b[0m\n\u001b[1;32m    320\u001b[0m \u001b[39mif\u001b[39;00m args:\n\u001b[1;32m    321\u001b[0m     kwargs\u001b[39m.\u001b[39mupdate(args)\n\u001b[0;32m--> 323\u001b[0m \u001b[39mreturn\u001b[39;00m \u001b[39mself\u001b[39;49m\u001b[39m.\u001b[39;49m_internal_call(\u001b[39m\"\u001b[39;49m\u001b[39mGET\u001b[39;49m\u001b[39m\"\u001b[39;49m, url, payload, kwargs)\n",
            "File \u001b[0;32m~/Documents/Studium/application-project/application-project/lib/python3.10/site-packages/spotipy/client.py:266\u001b[0m, in \u001b[0;36mSpotify._internal_call\u001b[0;34m(self, method, url, payload, params)\u001b[0m\n\u001b[1;32m    262\u001b[0m logger\u001b[39m.\u001b[39mdebug(\u001b[39m'\u001b[39m\u001b[39mSending \u001b[39m\u001b[39m%s\u001b[39;00m\u001b[39m to \u001b[39m\u001b[39m%s\u001b[39;00m\u001b[39m with Params: \u001b[39m\u001b[39m%s\u001b[39;00m\u001b[39m Headers: \u001b[39m\u001b[39m%s\u001b[39;00m\u001b[39m and Body: \u001b[39m\u001b[39m%r\u001b[39;00m\u001b[39m \u001b[39m\u001b[39m'\u001b[39m,\n\u001b[1;32m    263\u001b[0m              method, url, args\u001b[39m.\u001b[39mget(\u001b[39m\"\u001b[39m\u001b[39mparams\u001b[39m\u001b[39m\"\u001b[39m), headers, args\u001b[39m.\u001b[39mget(\u001b[39m'\u001b[39m\u001b[39mdata\u001b[39m\u001b[39m'\u001b[39m))\n\u001b[1;32m    265\u001b[0m \u001b[39mtry\u001b[39;00m:\n\u001b[0;32m--> 266\u001b[0m     response \u001b[39m=\u001b[39m \u001b[39mself\u001b[39;49m\u001b[39m.\u001b[39;49m_session\u001b[39m.\u001b[39;49mrequest(\n\u001b[1;32m    267\u001b[0m         method, url, headers\u001b[39m=\u001b[39;49mheaders, proxies\u001b[39m=\u001b[39;49m\u001b[39mself\u001b[39;49m\u001b[39m.\u001b[39;49mproxies,\n\u001b[1;32m    268\u001b[0m         timeout\u001b[39m=\u001b[39;49m\u001b[39mself\u001b[39;49m\u001b[39m.\u001b[39;49mrequests_timeout, \u001b[39m*\u001b[39;49m\u001b[39m*\u001b[39;49margs\n\u001b[1;32m    269\u001b[0m     )\n\u001b[1;32m    271\u001b[0m     response\u001b[39m.\u001b[39mraise_for_status()\n\u001b[1;32m    272\u001b[0m     results \u001b[39m=\u001b[39m response\u001b[39m.\u001b[39mjson()\n",
            "File \u001b[0;32m~/Documents/Studium/application-project/application-project/lib/python3.10/site-packages/requests/sessions.py:587\u001b[0m, in \u001b[0;36mSession.request\u001b[0;34m(self, method, url, params, data, headers, cookies, files, auth, timeout, allow_redirects, proxies, hooks, stream, verify, cert, json)\u001b[0m\n\u001b[1;32m    582\u001b[0m send_kwargs \u001b[39m=\u001b[39m {\n\u001b[1;32m    583\u001b[0m     \u001b[39m\"\u001b[39m\u001b[39mtimeout\u001b[39m\u001b[39m\"\u001b[39m: timeout,\n\u001b[1;32m    584\u001b[0m     \u001b[39m\"\u001b[39m\u001b[39mallow_redirects\u001b[39m\u001b[39m\"\u001b[39m: allow_redirects,\n\u001b[1;32m    585\u001b[0m }\n\u001b[1;32m    586\u001b[0m send_kwargs\u001b[39m.\u001b[39mupdate(settings)\n\u001b[0;32m--> 587\u001b[0m resp \u001b[39m=\u001b[39m \u001b[39mself\u001b[39;49m\u001b[39m.\u001b[39;49msend(prep, \u001b[39m*\u001b[39;49m\u001b[39m*\u001b[39;49msend_kwargs)\n\u001b[1;32m    589\u001b[0m \u001b[39mreturn\u001b[39;00m resp\n",
            "File \u001b[0;32m~/Documents/Studium/application-project/application-project/lib/python3.10/site-packages/requests/sessions.py:701\u001b[0m, in \u001b[0;36mSession.send\u001b[0;34m(self, request, **kwargs)\u001b[0m\n\u001b[1;32m    698\u001b[0m start \u001b[39m=\u001b[39m preferred_clock()\n\u001b[1;32m    700\u001b[0m \u001b[39m# Send the request\u001b[39;00m\n\u001b[0;32m--> 701\u001b[0m r \u001b[39m=\u001b[39m adapter\u001b[39m.\u001b[39;49msend(request, \u001b[39m*\u001b[39;49m\u001b[39m*\u001b[39;49mkwargs)\n\u001b[1;32m    703\u001b[0m \u001b[39m# Total elapsed time of the request (approximately)\u001b[39;00m\n\u001b[1;32m    704\u001b[0m elapsed \u001b[39m=\u001b[39m preferred_clock() \u001b[39m-\u001b[39m start\n",
            "File \u001b[0;32m~/Documents/Studium/application-project/application-project/lib/python3.10/site-packages/requests/adapters.py:489\u001b[0m, in \u001b[0;36mHTTPAdapter.send\u001b[0;34m(self, request, stream, timeout, verify, cert, proxies)\u001b[0m\n\u001b[1;32m    487\u001b[0m \u001b[39mtry\u001b[39;00m:\n\u001b[1;32m    488\u001b[0m     \u001b[39mif\u001b[39;00m \u001b[39mnot\u001b[39;00m chunked:\n\u001b[0;32m--> 489\u001b[0m         resp \u001b[39m=\u001b[39m conn\u001b[39m.\u001b[39;49murlopen(\n\u001b[1;32m    490\u001b[0m             method\u001b[39m=\u001b[39;49mrequest\u001b[39m.\u001b[39;49mmethod,\n\u001b[1;32m    491\u001b[0m             url\u001b[39m=\u001b[39;49murl,\n\u001b[1;32m    492\u001b[0m             body\u001b[39m=\u001b[39;49mrequest\u001b[39m.\u001b[39;49mbody,\n\u001b[1;32m    493\u001b[0m             headers\u001b[39m=\u001b[39;49mrequest\u001b[39m.\u001b[39;49mheaders,\n\u001b[1;32m    494\u001b[0m             redirect\u001b[39m=\u001b[39;49m\u001b[39mFalse\u001b[39;49;00m,\n\u001b[1;32m    495\u001b[0m             assert_same_host\u001b[39m=\u001b[39;49m\u001b[39mFalse\u001b[39;49;00m,\n\u001b[1;32m    496\u001b[0m             preload_content\u001b[39m=\u001b[39;49m\u001b[39mFalse\u001b[39;49;00m,\n\u001b[1;32m    497\u001b[0m             decode_content\u001b[39m=\u001b[39;49m\u001b[39mFalse\u001b[39;49;00m,\n\u001b[1;32m    498\u001b[0m             retries\u001b[39m=\u001b[39;49m\u001b[39mself\u001b[39;49m\u001b[39m.\u001b[39;49mmax_retries,\n\u001b[1;32m    499\u001b[0m             timeout\u001b[39m=\u001b[39;49mtimeout,\n\u001b[1;32m    500\u001b[0m         )\n\u001b[1;32m    502\u001b[0m     \u001b[39m# Send the request.\u001b[39;00m\n\u001b[1;32m    503\u001b[0m     \u001b[39melse\u001b[39;00m:\n\u001b[1;32m    504\u001b[0m         \u001b[39mif\u001b[39;00m \u001b[39mhasattr\u001b[39m(conn, \u001b[39m\"\u001b[39m\u001b[39mproxy_pool\u001b[39m\u001b[39m\"\u001b[39m):\n",
            "File \u001b[0;32m~/Documents/Studium/application-project/application-project/lib/python3.10/site-packages/urllib3/connectionpool.py:703\u001b[0m, in \u001b[0;36mHTTPConnectionPool.urlopen\u001b[0;34m(self, method, url, body, headers, retries, redirect, assert_same_host, timeout, pool_timeout, release_conn, chunked, body_pos, **response_kw)\u001b[0m\n\u001b[1;32m    700\u001b[0m     \u001b[39mself\u001b[39m\u001b[39m.\u001b[39m_prepare_proxy(conn)\n\u001b[1;32m    702\u001b[0m \u001b[39m# Make the request on the httplib connection object.\u001b[39;00m\n\u001b[0;32m--> 703\u001b[0m httplib_response \u001b[39m=\u001b[39m \u001b[39mself\u001b[39;49m\u001b[39m.\u001b[39;49m_make_request(\n\u001b[1;32m    704\u001b[0m     conn,\n\u001b[1;32m    705\u001b[0m     method,\n\u001b[1;32m    706\u001b[0m     url,\n\u001b[1;32m    707\u001b[0m     timeout\u001b[39m=\u001b[39;49mtimeout_obj,\n\u001b[1;32m    708\u001b[0m     body\u001b[39m=\u001b[39;49mbody,\n\u001b[1;32m    709\u001b[0m     headers\u001b[39m=\u001b[39;49mheaders,\n\u001b[1;32m    710\u001b[0m     chunked\u001b[39m=\u001b[39;49mchunked,\n\u001b[1;32m    711\u001b[0m )\n\u001b[1;32m    713\u001b[0m \u001b[39m# If we're going to release the connection in ``finally:``, then\u001b[39;00m\n\u001b[1;32m    714\u001b[0m \u001b[39m# the response doesn't need to know about the connection. Otherwise\u001b[39;00m\n\u001b[1;32m    715\u001b[0m \u001b[39m# it will also try to release it and we'll have a double-release\u001b[39;00m\n\u001b[1;32m    716\u001b[0m \u001b[39m# mess.\u001b[39;00m\n\u001b[1;32m    717\u001b[0m response_conn \u001b[39m=\u001b[39m conn \u001b[39mif\u001b[39;00m \u001b[39mnot\u001b[39;00m release_conn \u001b[39melse\u001b[39;00m \u001b[39mNone\u001b[39;00m\n",
            "File \u001b[0;32m~/Documents/Studium/application-project/application-project/lib/python3.10/site-packages/urllib3/connectionpool.py:449\u001b[0m, in \u001b[0;36mHTTPConnectionPool._make_request\u001b[0;34m(self, conn, method, url, timeout, chunked, **httplib_request_kw)\u001b[0m\n\u001b[1;32m    444\u001b[0m             httplib_response \u001b[39m=\u001b[39m conn\u001b[39m.\u001b[39mgetresponse()\n\u001b[1;32m    445\u001b[0m         \u001b[39mexcept\u001b[39;00m \u001b[39mBaseException\u001b[39;00m \u001b[39mas\u001b[39;00m e:\n\u001b[1;32m    446\u001b[0m             \u001b[39m# Remove the TypeError from the exception chain in\u001b[39;00m\n\u001b[1;32m    447\u001b[0m             \u001b[39m# Python 3 (including for exceptions like SystemExit).\u001b[39;00m\n\u001b[1;32m    448\u001b[0m             \u001b[39m# Otherwise it looks like a bug in the code.\u001b[39;00m\n\u001b[0;32m--> 449\u001b[0m             six\u001b[39m.\u001b[39;49mraise_from(e, \u001b[39mNone\u001b[39;49;00m)\n\u001b[1;32m    450\u001b[0m \u001b[39mexcept\u001b[39;00m (SocketTimeout, BaseSSLError, SocketError) \u001b[39mas\u001b[39;00m e:\n\u001b[1;32m    451\u001b[0m     \u001b[39mself\u001b[39m\u001b[39m.\u001b[39m_raise_timeout(err\u001b[39m=\u001b[39me, url\u001b[39m=\u001b[39murl, timeout_value\u001b[39m=\u001b[39mread_timeout)\n",
            "File \u001b[0;32m<string>:3\u001b[0m, in \u001b[0;36mraise_from\u001b[0;34m(value, from_value)\u001b[0m\n",
            "File \u001b[0;32m~/Documents/Studium/application-project/application-project/lib/python3.10/site-packages/urllib3/connectionpool.py:444\u001b[0m, in \u001b[0;36mHTTPConnectionPool._make_request\u001b[0;34m(self, conn, method, url, timeout, chunked, **httplib_request_kw)\u001b[0m\n\u001b[1;32m    441\u001b[0m \u001b[39mexcept\u001b[39;00m \u001b[39mTypeError\u001b[39;00m:\n\u001b[1;32m    442\u001b[0m     \u001b[39m# Python 3\u001b[39;00m\n\u001b[1;32m    443\u001b[0m     \u001b[39mtry\u001b[39;00m:\n\u001b[0;32m--> 444\u001b[0m         httplib_response \u001b[39m=\u001b[39m conn\u001b[39m.\u001b[39;49mgetresponse()\n\u001b[1;32m    445\u001b[0m     \u001b[39mexcept\u001b[39;00m \u001b[39mBaseException\u001b[39;00m \u001b[39mas\u001b[39;00m e:\n\u001b[1;32m    446\u001b[0m         \u001b[39m# Remove the TypeError from the exception chain in\u001b[39;00m\n\u001b[1;32m    447\u001b[0m         \u001b[39m# Python 3 (including for exceptions like SystemExit).\u001b[39;00m\n\u001b[1;32m    448\u001b[0m         \u001b[39m# Otherwise it looks like a bug in the code.\u001b[39;00m\n\u001b[1;32m    449\u001b[0m         six\u001b[39m.\u001b[39mraise_from(e, \u001b[39mNone\u001b[39;00m)\n",
            "File \u001b[0;32m/opt/homebrew/Cellar/python@3.10/3.10.12_1/Frameworks/Python.framework/Versions/3.10/lib/python3.10/http/client.py:1375\u001b[0m, in \u001b[0;36mHTTPConnection.getresponse\u001b[0;34m(self)\u001b[0m\n\u001b[1;32m   1373\u001b[0m \u001b[39mtry\u001b[39;00m:\n\u001b[1;32m   1374\u001b[0m     \u001b[39mtry\u001b[39;00m:\n\u001b[0;32m-> 1375\u001b[0m         response\u001b[39m.\u001b[39;49mbegin()\n\u001b[1;32m   1376\u001b[0m     \u001b[39mexcept\u001b[39;00m \u001b[39mConnectionError\u001b[39;00m:\n\u001b[1;32m   1377\u001b[0m         \u001b[39mself\u001b[39m\u001b[39m.\u001b[39mclose()\n",
            "File \u001b[0;32m/opt/homebrew/Cellar/python@3.10/3.10.12_1/Frameworks/Python.framework/Versions/3.10/lib/python3.10/http/client.py:318\u001b[0m, in \u001b[0;36mHTTPResponse.begin\u001b[0;34m(self)\u001b[0m\n\u001b[1;32m    316\u001b[0m \u001b[39m# read until we get a non-100 response\u001b[39;00m\n\u001b[1;32m    317\u001b[0m \u001b[39mwhile\u001b[39;00m \u001b[39mTrue\u001b[39;00m:\n\u001b[0;32m--> 318\u001b[0m     version, status, reason \u001b[39m=\u001b[39m \u001b[39mself\u001b[39;49m\u001b[39m.\u001b[39;49m_read_status()\n\u001b[1;32m    319\u001b[0m     \u001b[39mif\u001b[39;00m status \u001b[39m!=\u001b[39m CONTINUE:\n\u001b[1;32m    320\u001b[0m         \u001b[39mbreak\u001b[39;00m\n",
            "File \u001b[0;32m/opt/homebrew/Cellar/python@3.10/3.10.12_1/Frameworks/Python.framework/Versions/3.10/lib/python3.10/http/client.py:279\u001b[0m, in \u001b[0;36mHTTPResponse._read_status\u001b[0;34m(self)\u001b[0m\n\u001b[1;32m    278\u001b[0m \u001b[39mdef\u001b[39;00m \u001b[39m_read_status\u001b[39m(\u001b[39mself\u001b[39m):\n\u001b[0;32m--> 279\u001b[0m     line \u001b[39m=\u001b[39m \u001b[39mstr\u001b[39m(\u001b[39mself\u001b[39;49m\u001b[39m.\u001b[39;49mfp\u001b[39m.\u001b[39;49mreadline(_MAXLINE \u001b[39m+\u001b[39;49m \u001b[39m1\u001b[39;49m), \u001b[39m\"\u001b[39m\u001b[39miso-8859-1\u001b[39m\u001b[39m\"\u001b[39m)\n\u001b[1;32m    280\u001b[0m     \u001b[39mif\u001b[39;00m \u001b[39mlen\u001b[39m(line) \u001b[39m>\u001b[39m _MAXLINE:\n\u001b[1;32m    281\u001b[0m         \u001b[39mraise\u001b[39;00m LineTooLong(\u001b[39m\"\u001b[39m\u001b[39mstatus line\u001b[39m\u001b[39m\"\u001b[39m)\n",
            "File \u001b[0;32m/opt/homebrew/Cellar/python@3.10/3.10.12_1/Frameworks/Python.framework/Versions/3.10/lib/python3.10/socket.py:705\u001b[0m, in \u001b[0;36mSocketIO.readinto\u001b[0;34m(self, b)\u001b[0m\n\u001b[1;32m    703\u001b[0m \u001b[39mwhile\u001b[39;00m \u001b[39mTrue\u001b[39;00m:\n\u001b[1;32m    704\u001b[0m     \u001b[39mtry\u001b[39;00m:\n\u001b[0;32m--> 705\u001b[0m         \u001b[39mreturn\u001b[39;00m \u001b[39mself\u001b[39;49m\u001b[39m.\u001b[39;49m_sock\u001b[39m.\u001b[39;49mrecv_into(b)\n\u001b[1;32m    706\u001b[0m     \u001b[39mexcept\u001b[39;00m timeout:\n\u001b[1;32m    707\u001b[0m         \u001b[39mself\u001b[39m\u001b[39m.\u001b[39m_timeout_occurred \u001b[39m=\u001b[39m \u001b[39mTrue\u001b[39;00m\n",
            "File \u001b[0;32m/opt/homebrew/Cellar/python@3.10/3.10.12_1/Frameworks/Python.framework/Versions/3.10/lib/python3.10/ssl.py:1274\u001b[0m, in \u001b[0;36mSSLSocket.recv_into\u001b[0;34m(self, buffer, nbytes, flags)\u001b[0m\n\u001b[1;32m   1270\u001b[0m     \u001b[39mif\u001b[39;00m flags \u001b[39m!=\u001b[39m \u001b[39m0\u001b[39m:\n\u001b[1;32m   1271\u001b[0m         \u001b[39mraise\u001b[39;00m \u001b[39mValueError\u001b[39;00m(\n\u001b[1;32m   1272\u001b[0m           \u001b[39m\"\u001b[39m\u001b[39mnon-zero flags not allowed in calls to recv_into() on \u001b[39m\u001b[39m%s\u001b[39;00m\u001b[39m\"\u001b[39m \u001b[39m%\u001b[39m\n\u001b[1;32m   1273\u001b[0m           \u001b[39mself\u001b[39m\u001b[39m.\u001b[39m\u001b[39m__class__\u001b[39m)\n\u001b[0;32m-> 1274\u001b[0m     \u001b[39mreturn\u001b[39;00m \u001b[39mself\u001b[39;49m\u001b[39m.\u001b[39;49mread(nbytes, buffer)\n\u001b[1;32m   1275\u001b[0m \u001b[39melse\u001b[39;00m:\n\u001b[1;32m   1276\u001b[0m     \u001b[39mreturn\u001b[39;00m \u001b[39msuper\u001b[39m()\u001b[39m.\u001b[39mrecv_into(buffer, nbytes, flags)\n",
            "File \u001b[0;32m/opt/homebrew/Cellar/python@3.10/3.10.12_1/Frameworks/Python.framework/Versions/3.10/lib/python3.10/ssl.py:1130\u001b[0m, in \u001b[0;36mSSLSocket.read\u001b[0;34m(self, len, buffer)\u001b[0m\n\u001b[1;32m   1128\u001b[0m \u001b[39mtry\u001b[39;00m:\n\u001b[1;32m   1129\u001b[0m     \u001b[39mif\u001b[39;00m buffer \u001b[39mis\u001b[39;00m \u001b[39mnot\u001b[39;00m \u001b[39mNone\u001b[39;00m:\n\u001b[0;32m-> 1130\u001b[0m         \u001b[39mreturn\u001b[39;00m \u001b[39mself\u001b[39;49m\u001b[39m.\u001b[39;49m_sslobj\u001b[39m.\u001b[39;49mread(\u001b[39mlen\u001b[39;49m, buffer)\n\u001b[1;32m   1131\u001b[0m     \u001b[39melse\u001b[39;00m:\n\u001b[1;32m   1132\u001b[0m         \u001b[39mreturn\u001b[39;00m \u001b[39mself\u001b[39m\u001b[39m.\u001b[39m_sslobj\u001b[39m.\u001b[39mread(\u001b[39mlen\u001b[39m)\n",
            "\u001b[0;31mKeyboardInterrupt\u001b[0m: "
          ]
        }
      ],
      "source": [
        "test_genre_query(\"Boney M.\")"
      ]
    },
    {
      "cell_type": "markdown",
      "id": "_A04urlcG2EQ",
      "metadata": {
        "id": "_A04urlcG2EQ"
      },
      "source": [
        "Es existieren keine Songs für Boney M. wenn ein Genre in der Abfrage spezifiziert wird. Eventuell sind die Genres das Problem für die fehlenden Daten."
      ]
    },
    {
      "cell_type": "code",
      "execution_count": 89,
      "id": "AbsKxxxYHRUi",
      "metadata": {
        "colab": {
          "base_uri": "https://localhost:8080/",
          "height": 563
        },
        "id": "AbsKxxxYHRUi",
        "outputId": "77a97477-6034-4a79-dbef-b47fc116a5c5"
      },
      "outputs": [
        {
          "data": {
            "text/html": [
              "\n",
              "  <div id=\"df-d9605fb7-9f73-4b12-bf14-970ec6f17723\" class=\"colab-df-container\">\n",
              "    <div>\n",
              "<style scoped>\n",
              "    .dataframe tbody tr th:only-of-type {\n",
              "        vertical-align: middle;\n",
              "    }\n",
              "\n",
              "    .dataframe tbody tr th {\n",
              "        vertical-align: top;\n",
              "    }\n",
              "\n",
              "    .dataframe thead th {\n",
              "        text-align: right;\n",
              "    }\n",
              "</style>\n",
              "<table border=\"1\" class=\"dataframe\">\n",
              "  <thead>\n",
              "    <tr style=\"text-align: right;\">\n",
              "      <th></th>\n",
              "      <th>isrc</th>\n",
              "      <th>genres</th>\n",
              "      <th>name</th>\n",
              "      <th>artists</th>\n",
              "      <th>album</th>\n",
              "      <th>release_date</th>\n",
              "      <th>release_date_precision</th>\n",
              "      <th>uri</th>\n",
              "      <th>spotify_id</th>\n",
              "      <th>chart_power</th>\n",
              "      <th>...</th>\n",
              "      <th>acousticness</th>\n",
              "      <th>instrumentalness</th>\n",
              "      <th>liveness</th>\n",
              "      <th>valence</th>\n",
              "      <th>tempo</th>\n",
              "      <th>duration_ms</th>\n",
              "      <th>time_signature</th>\n",
              "      <th>year</th>\n",
              "      <th>country_code</th>\n",
              "      <th>country</th>\n",
              "    </tr>\n",
              "  </thead>\n",
              "  <tbody>\n",
              "    <tr>\n",
              "      <th>132734</th>\n",
              "      <td>GBAAM0201110</td>\n",
              "      <td>['rock']</td>\n",
              "      <td>every breath you take</td>\n",
              "      <td>the police</td>\n",
              "      <td>Synchronicity (Remastered 2003)</td>\n",
              "      <td>1983-06-17</td>\n",
              "      <td>day</td>\n",
              "      <td>spotify:track:1JSTJqkT5qHq8MDJnJbRE1</td>\n",
              "      <td>1JSTJqkT5qHq8MDJnJbRE1</td>\n",
              "      <td>1419.0</td>\n",
              "      <td>...</td>\n",
              "      <td>0.5430</td>\n",
              "      <td>0.002940</td>\n",
              "      <td>0.0714</td>\n",
              "      <td>0.7400</td>\n",
              "      <td>117.401</td>\n",
              "      <td>253920</td>\n",
              "      <td>4</td>\n",
              "      <td>1983</td>\n",
              "      <td>GB</td>\n",
              "      <td>United Kingdom</td>\n",
              "    </tr>\n",
              "    <tr>\n",
              "      <th>144156</th>\n",
              "      <td>GBALX8300190</td>\n",
              "      <td>['piano', 'rock']</td>\n",
              "      <td>i'm still standing</td>\n",
              "      <td>elton john</td>\n",
              "      <td>Too Low For Zero</td>\n",
              "      <td>1983-05-30</td>\n",
              "      <td>day</td>\n",
              "      <td>spotify:track:1jDJFeK9x3OZboIAHsY9k2</td>\n",
              "      <td>1jDJFeK9x3OZboIAHsY9k2</td>\n",
              "      <td>1185.0</td>\n",
              "      <td>...</td>\n",
              "      <td>0.3560</td>\n",
              "      <td>0.121000</td>\n",
              "      <td>0.1400</td>\n",
              "      <td>0.7720</td>\n",
              "      <td>176.808</td>\n",
              "      <td>183440</td>\n",
              "      <td>4</td>\n",
              "      <td>1983</td>\n",
              "      <td>GB</td>\n",
              "      <td>United Kingdom</td>\n",
              "    </tr>\n",
              "    <tr>\n",
              "      <th>368082</th>\n",
              "      <td>USPR38619998</td>\n",
              "      <td>['metal', 'rock']</td>\n",
              "      <td>livin' on a prayer</td>\n",
              "      <td>bon jovi</td>\n",
              "      <td>Slippery When Wet</td>\n",
              "      <td>1986-08-16</td>\n",
              "      <td>day</td>\n",
              "      <td>spotify:track:37ZJ0p5Jm13JPevGcx4SkF</td>\n",
              "      <td>37ZJ0p5Jm13JPevGcx4SkF</td>\n",
              "      <td>1112.0</td>\n",
              "      <td>...</td>\n",
              "      <td>0.0778</td>\n",
              "      <td>0.000214</td>\n",
              "      <td>0.2940</td>\n",
              "      <td>0.7950</td>\n",
              "      <td>122.511</td>\n",
              "      <td>249293</td>\n",
              "      <td>4</td>\n",
              "      <td>1986</td>\n",
              "      <td>US</td>\n",
              "      <td>United States</td>\n",
              "    </tr>\n",
              "    <tr>\n",
              "      <th>169272</th>\n",
              "      <td>GBCNR8500002</td>\n",
              "      <td>['piano', 'pop', 'r-n-b', 'rock', 'singer-song...</td>\n",
              "      <td>running up that hill (a deal with god)</td>\n",
              "      <td>kate bush</td>\n",
              "      <td>Hounds Of Love</td>\n",
              "      <td>1985-09-16</td>\n",
              "      <td>day</td>\n",
              "      <td>spotify:track:1PtQJZVZIdWIYdARpZRDFO</td>\n",
              "      <td>1PtQJZVZIdWIYdARpZRDFO</td>\n",
              "      <td>NaN</td>\n",
              "      <td>...</td>\n",
              "      <td>0.7190</td>\n",
              "      <td>0.003080</td>\n",
              "      <td>0.0604</td>\n",
              "      <td>0.1940</td>\n",
              "      <td>108.376</td>\n",
              "      <td>298933</td>\n",
              "      <td>4</td>\n",
              "      <td>1985</td>\n",
              "      <td>GB</td>\n",
              "      <td>United Kingdom</td>\n",
              "    </tr>\n",
              "    <tr>\n",
              "      <th>6804</th>\n",
              "      <td>AUAP08000046</td>\n",
              "      <td>['hard-rock', 'rock']</td>\n",
              "      <td>back in black</td>\n",
              "      <td>ac/dc</td>\n",
              "      <td>Back In Black</td>\n",
              "      <td>1980-07-25</td>\n",
              "      <td>day</td>\n",
              "      <td>spotify:track:08mG3Y1vljYA6bvDt4Wqkj</td>\n",
              "      <td>08mG3Y1vljYA6bvDt4Wqkj</td>\n",
              "      <td>NaN</td>\n",
              "      <td>...</td>\n",
              "      <td>0.0110</td>\n",
              "      <td>0.009650</td>\n",
              "      <td>0.0828</td>\n",
              "      <td>0.7630</td>\n",
              "      <td>188.386</td>\n",
              "      <td>255493</td>\n",
              "      <td>4</td>\n",
              "      <td>1980</td>\n",
              "      <td>AU</td>\n",
              "      <td>Australia</td>\n",
              "    </tr>\n",
              "    <tr>\n",
              "      <th>...</th>\n",
              "      <td>...</td>\n",
              "      <td>...</td>\n",
              "      <td>...</td>\n",
              "      <td>...</td>\n",
              "      <td>...</td>\n",
              "      <td>...</td>\n",
              "      <td>...</td>\n",
              "      <td>...</td>\n",
              "      <td>...</td>\n",
              "      <td>...</td>\n",
              "      <td>...</td>\n",
              "      <td>...</td>\n",
              "      <td>...</td>\n",
              "      <td>...</td>\n",
              "      <td>...</td>\n",
              "      <td>...</td>\n",
              "      <td>...</td>\n",
              "      <td>...</td>\n",
              "      <td>...</td>\n",
              "      <td>...</td>\n",
              "      <td>...</td>\n",
              "    </tr>\n",
              "    <tr>\n",
              "      <th>174547</th>\n",
              "      <td>GBF078300092</td>\n",
              "      <td>['classical']</td>\n",
              "      <td>serenade in g, k.525 \"eine kleine nachtmusik\" ...</td>\n",
              "      <td>wolfgang amadeus mozart,salomon quartet,barry guy</td>\n",
              "      <td>Mozart: Eine kleine Nachtmusik; Notturno; Sere...</td>\n",
              "      <td>1984-06-03</td>\n",
              "      <td>day</td>\n",
              "      <td>spotify:track:1Sbp0G9AUAQdhXinEiDWsl</td>\n",
              "      <td>1Sbp0G9AUAQdhXinEiDWsl</td>\n",
              "      <td>NaN</td>\n",
              "      <td>...</td>\n",
              "      <td>0.5170</td>\n",
              "      <td>0.000000</td>\n",
              "      <td>0.2780</td>\n",
              "      <td>0.1510</td>\n",
              "      <td>124.043</td>\n",
              "      <td>241373</td>\n",
              "      <td>3</td>\n",
              "      <td>1984</td>\n",
              "      <td>GB</td>\n",
              "      <td>United Kingdom</td>\n",
              "    </tr>\n",
              "    <tr>\n",
              "      <th>174528</th>\n",
              "      <td>GBF078300017</td>\n",
              "      <td>['classical']</td>\n",
              "      <td>alexander nevsky, op. 78: 7. alexander's entry...</td>\n",
              "      <td>sergei prokofiev,the cleveland orchestra choru...</td>\n",
              "      <td>Prokofiev: Alexander Nevsky</td>\n",
              "      <td>1984-01-01</td>\n",
              "      <td>day</td>\n",
              "      <td>spotify:track:3EZH0BH50us07EUPKzhw3u</td>\n",
              "      <td>3EZH0BH50us07EUPKzhw3u</td>\n",
              "      <td>NaN</td>\n",
              "      <td>...</td>\n",
              "      <td>0.9160</td>\n",
              "      <td>0.003540</td>\n",
              "      <td>0.1860</td>\n",
              "      <td>0.1460</td>\n",
              "      <td>145.809</td>\n",
              "      <td>277053</td>\n",
              "      <td>4</td>\n",
              "      <td>1984</td>\n",
              "      <td>GB</td>\n",
              "      <td>United Kingdom</td>\n",
              "    </tr>\n",
              "    <tr>\n",
              "      <th>174527</th>\n",
              "      <td>GBF078300016</td>\n",
              "      <td>['classical']</td>\n",
              "      <td>alexander nevsky, op. 78: 6. field of the dead</td>\n",
              "      <td>sergei prokofiev,irina arkhipova,cleveland orc...</td>\n",
              "      <td>Prokofiev: Alexander Nevsky</td>\n",
              "      <td>1984-01-01</td>\n",
              "      <td>day</td>\n",
              "      <td>spotify:track:4EXE7ZRcKVwD1xxNZLEOPj</td>\n",
              "      <td>4EXE7ZRcKVwD1xxNZLEOPj</td>\n",
              "      <td>NaN</td>\n",
              "      <td>...</td>\n",
              "      <td>0.9160</td>\n",
              "      <td>0.004890</td>\n",
              "      <td>0.1180</td>\n",
              "      <td>0.0399</td>\n",
              "      <td>83.968</td>\n",
              "      <td>386533</td>\n",
              "      <td>4</td>\n",
              "      <td>1984</td>\n",
              "      <td>GB</td>\n",
              "      <td>United Kingdom</td>\n",
              "    </tr>\n",
              "    <tr>\n",
              "      <th>174526</th>\n",
              "      <td>GBF078300015</td>\n",
              "      <td>['classical']</td>\n",
              "      <td>alexander nevsky, op. 78: 5. the battle on the...</td>\n",
              "      <td>sergei prokofiev,the cleveland orchestra choru...</td>\n",
              "      <td>Prokofiev: Alexander Nevsky</td>\n",
              "      <td>1984-01-01</td>\n",
              "      <td>day</td>\n",
              "      <td>spotify:track:3jXNm9r9WAwj8qJvBKoXg1</td>\n",
              "      <td>3jXNm9r9WAwj8qJvBKoXg1</td>\n",
              "      <td>NaN</td>\n",
              "      <td>...</td>\n",
              "      <td>0.6560</td>\n",
              "      <td>0.787000</td>\n",
              "      <td>0.1470</td>\n",
              "      <td>0.0637</td>\n",
              "      <td>100.909</td>\n",
              "      <td>801840</td>\n",
              "      <td>4</td>\n",
              "      <td>1984</td>\n",
              "      <td>GB</td>\n",
              "      <td>United Kingdom</td>\n",
              "    </tr>\n",
              "    <tr>\n",
              "      <th>416153</th>\n",
              "      <td>ved049201680</td>\n",
              "      <td>['folk', 'pop', 'rock']</td>\n",
              "      <td>la boda del raton perez</td>\n",
              "      <td>serenata guayanesa</td>\n",
              "      <td>Rumbita Mix</td>\n",
              "      <td>1989-09-21</td>\n",
              "      <td>day</td>\n",
              "      <td>spotify:track:0RU3CdU5lfgvktiPg2JxaX</td>\n",
              "      <td>0RU3CdU5lfgvktiPg2JxaX</td>\n",
              "      <td>NaN</td>\n",
              "      <td>...</td>\n",
              "      <td>0.9210</td>\n",
              "      <td>0.000000</td>\n",
              "      <td>0.0660</td>\n",
              "      <td>0.9650</td>\n",
              "      <td>165.016</td>\n",
              "      <td>188565</td>\n",
              "      <td>3</td>\n",
              "      <td>1989</td>\n",
              "      <td>VE</td>\n",
              "      <td>Venezuela</td>\n",
              "    </tr>\n",
              "  </tbody>\n",
              "</table>\n",
              "<p>416154 rows × 27 columns</p>\n",
              "</div>\n",
              "    <div class=\"colab-df-buttons\">\n",
              "\n",
              "  <div class=\"colab-df-container\">\n",
              "    <button class=\"colab-df-convert\" onclick=\"convertToInteractive('df-d9605fb7-9f73-4b12-bf14-970ec6f17723')\"\n",
              "            title=\"Convert this dataframe to an interactive table.\"\n",
              "            style=\"display:none;\">\n",
              "\n",
              "  <svg xmlns=\"http://www.w3.org/2000/svg\" height=\"24px\" viewBox=\"0 -960 960 960\">\n",
              "    <path d=\"M120-120v-720h720v720H120Zm60-500h600v-160H180v160Zm220 220h160v-160H400v160Zm0 220h160v-160H400v160ZM180-400h160v-160H180v160Zm440 0h160v-160H620v160ZM180-180h160v-160H180v160Zm440 0h160v-160H620v160Z\"/>\n",
              "  </svg>\n",
              "    </button>\n",
              "\n",
              "  <style>\n",
              "    .colab-df-container {\n",
              "      display:flex;\n",
              "      gap: 12px;\n",
              "    }\n",
              "\n",
              "    .colab-df-convert {\n",
              "      background-color: #E8F0FE;\n",
              "      border: none;\n",
              "      border-radius: 50%;\n",
              "      cursor: pointer;\n",
              "      display: none;\n",
              "      fill: #1967D2;\n",
              "      height: 32px;\n",
              "      padding: 0 0 0 0;\n",
              "      width: 32px;\n",
              "    }\n",
              "\n",
              "    .colab-df-convert:hover {\n",
              "      background-color: #E2EBFA;\n",
              "      box-shadow: 0px 1px 2px rgba(60, 64, 67, 0.3), 0px 1px 3px 1px rgba(60, 64, 67, 0.15);\n",
              "      fill: #174EA6;\n",
              "    }\n",
              "\n",
              "    .colab-df-buttons div {\n",
              "      margin-bottom: 4px;\n",
              "    }\n",
              "\n",
              "    [theme=dark] .colab-df-convert {\n",
              "      background-color: #3B4455;\n",
              "      fill: #D2E3FC;\n",
              "    }\n",
              "\n",
              "    [theme=dark] .colab-df-convert:hover {\n",
              "      background-color: #434B5C;\n",
              "      box-shadow: 0px 1px 3px 1px rgba(0, 0, 0, 0.15);\n",
              "      filter: drop-shadow(0px 1px 2px rgba(0, 0, 0, 0.3));\n",
              "      fill: #FFFFFF;\n",
              "    }\n",
              "  </style>\n",
              "\n",
              "    <script>\n",
              "      const buttonEl =\n",
              "        document.querySelector('#df-d9605fb7-9f73-4b12-bf14-970ec6f17723 button.colab-df-convert');\n",
              "      buttonEl.style.display =\n",
              "        google.colab.kernel.accessAllowed ? 'block' : 'none';\n",
              "\n",
              "      async function convertToInteractive(key) {\n",
              "        const element = document.querySelector('#df-d9605fb7-9f73-4b12-bf14-970ec6f17723');\n",
              "        const dataTable =\n",
              "          await google.colab.kernel.invokeFunction('convertToInteractive',\n",
              "                                                    [key], {});\n",
              "        if (!dataTable) return;\n",
              "\n",
              "        const docLinkHtml = 'Like what you see? Visit the ' +\n",
              "          '<a target=\"_blank\" href=https://colab.research.google.com/notebooks/data_table.ipynb>data table notebook</a>'\n",
              "          + ' to learn more about interactive tables.';\n",
              "        element.innerHTML = '';\n",
              "        dataTable['output_type'] = 'display_data';\n",
              "        await google.colab.output.renderOutput(dataTable, element);\n",
              "        const docLink = document.createElement('div');\n",
              "        docLink.innerHTML = docLinkHtml;\n",
              "        element.appendChild(docLink);\n",
              "      }\n",
              "    </script>\n",
              "  </div>\n",
              "\n",
              "\n",
              "<div id=\"df-57ed6a20-e07c-407c-85b5-37b87fc586e1\">\n",
              "  <button class=\"colab-df-quickchart\" onclick=\"quickchart('df-57ed6a20-e07c-407c-85b5-37b87fc586e1')\"\n",
              "            title=\"Suggest charts.\"\n",
              "            style=\"display:none;\">\n",
              "\n",
              "<svg xmlns=\"http://www.w3.org/2000/svg\" height=\"24px\"viewBox=\"0 0 24 24\"\n",
              "     width=\"24px\">\n",
              "    <g>\n",
              "        <path d=\"M19 3H5c-1.1 0-2 .9-2 2v14c0 1.1.9 2 2 2h14c1.1 0 2-.9 2-2V5c0-1.1-.9-2-2-2zM9 17H7v-7h2v7zm4 0h-2V7h2v10zm4 0h-2v-4h2v4z\"/>\n",
              "    </g>\n",
              "</svg>\n",
              "  </button>\n",
              "\n",
              "<style>\n",
              "  .colab-df-quickchart {\n",
              "    background-color: #E8F0FE;\n",
              "    border: none;\n",
              "    border-radius: 50%;\n",
              "    cursor: pointer;\n",
              "    display: none;\n",
              "    fill: #1967D2;\n",
              "    height: 32px;\n",
              "    padding: 0 0 0 0;\n",
              "    width: 32px;\n",
              "  }\n",
              "\n",
              "  .colab-df-quickchart:hover {\n",
              "    background-color: #E2EBFA;\n",
              "    box-shadow: 0px 1px 2px rgba(60, 64, 67, 0.3), 0px 1px 3px 1px rgba(60, 64, 67, 0.15);\n",
              "    fill: #174EA6;\n",
              "  }\n",
              "\n",
              "  [theme=dark] .colab-df-quickchart {\n",
              "    background-color: #3B4455;\n",
              "    fill: #D2E3FC;\n",
              "  }\n",
              "\n",
              "  [theme=dark] .colab-df-quickchart:hover {\n",
              "    background-color: #434B5C;\n",
              "    box-shadow: 0px 1px 3px 1px rgba(0, 0, 0, 0.15);\n",
              "    filter: drop-shadow(0px 1px 2px rgba(0, 0, 0, 0.3));\n",
              "    fill: #FFFFFF;\n",
              "  }\n",
              "</style>\n",
              "\n",
              "  <script>\n",
              "    async function quickchart(key) {\n",
              "      const charts = await google.colab.kernel.invokeFunction(\n",
              "          'suggestCharts', [key], {});\n",
              "    }\n",
              "    (() => {\n",
              "      let quickchartButtonEl =\n",
              "        document.querySelector('#df-57ed6a20-e07c-407c-85b5-37b87fc586e1 button');\n",
              "      quickchartButtonEl.style.display =\n",
              "        google.colab.kernel.accessAllowed ? 'block' : 'none';\n",
              "    })();\n",
              "  </script>\n",
              "</div>\n",
              "    </div>\n",
              "  </div>\n"
            ],
            "text/plain": [
              "                isrc                                             genres  \\\n",
              "132734  GBAAM0201110                                           ['rock']   \n",
              "144156  GBALX8300190                                  ['piano', 'rock']   \n",
              "368082  USPR38619998                                  ['metal', 'rock']   \n",
              "169272  GBCNR8500002  ['piano', 'pop', 'r-n-b', 'rock', 'singer-song...   \n",
              "6804    AUAP08000046                              ['hard-rock', 'rock']   \n",
              "...              ...                                                ...   \n",
              "174547  GBF078300092                                      ['classical']   \n",
              "174528  GBF078300017                                      ['classical']   \n",
              "174527  GBF078300016                                      ['classical']   \n",
              "174526  GBF078300015                                      ['classical']   \n",
              "416153  ved049201680                            ['folk', 'pop', 'rock']   \n",
              "\n",
              "                                                     name  \\\n",
              "132734                              every breath you take   \n",
              "144156                                 i'm still standing   \n",
              "368082                                 livin' on a prayer   \n",
              "169272             running up that hill (a deal with god)   \n",
              "6804                                        back in black   \n",
              "...                                                   ...   \n",
              "174547  serenade in g, k.525 \"eine kleine nachtmusik\" ...   \n",
              "174528  alexander nevsky, op. 78: 7. alexander's entry...   \n",
              "174527     alexander nevsky, op. 78: 6. field of the dead   \n",
              "174526  alexander nevsky, op. 78: 5. the battle on the...   \n",
              "416153                            la boda del raton perez   \n",
              "\n",
              "                                                  artists  \\\n",
              "132734                                         the police   \n",
              "144156                                         elton john   \n",
              "368082                                           bon jovi   \n",
              "169272                                          kate bush   \n",
              "6804                                                ac/dc   \n",
              "...                                                   ...   \n",
              "174547  wolfgang amadeus mozart,salomon quartet,barry guy   \n",
              "174528  sergei prokofiev,the cleveland orchestra choru...   \n",
              "174527  sergei prokofiev,irina arkhipova,cleveland orc...   \n",
              "174526  sergei prokofiev,the cleveland orchestra choru...   \n",
              "416153                                 serenata guayanesa   \n",
              "\n",
              "                                                    album release_date  \\\n",
              "132734                    Synchronicity (Remastered 2003)   1983-06-17   \n",
              "144156                                   Too Low For Zero   1983-05-30   \n",
              "368082                                  Slippery When Wet   1986-08-16   \n",
              "169272                                     Hounds Of Love   1985-09-16   \n",
              "6804                                        Back In Black   1980-07-25   \n",
              "...                                                   ...          ...   \n",
              "174547  Mozart: Eine kleine Nachtmusik; Notturno; Sere...   1984-06-03   \n",
              "174528                        Prokofiev: Alexander Nevsky   1984-01-01   \n",
              "174527                        Prokofiev: Alexander Nevsky   1984-01-01   \n",
              "174526                        Prokofiev: Alexander Nevsky   1984-01-01   \n",
              "416153                                        Rumbita Mix   1989-09-21   \n",
              "\n",
              "       release_date_precision                                   uri  \\\n",
              "132734                    day  spotify:track:1JSTJqkT5qHq8MDJnJbRE1   \n",
              "144156                    day  spotify:track:1jDJFeK9x3OZboIAHsY9k2   \n",
              "368082                    day  spotify:track:37ZJ0p5Jm13JPevGcx4SkF   \n",
              "169272                    day  spotify:track:1PtQJZVZIdWIYdARpZRDFO   \n",
              "6804                      day  spotify:track:08mG3Y1vljYA6bvDt4Wqkj   \n",
              "...                       ...                                   ...   \n",
              "174547                    day  spotify:track:1Sbp0G9AUAQdhXinEiDWsl   \n",
              "174528                    day  spotify:track:3EZH0BH50us07EUPKzhw3u   \n",
              "174527                    day  spotify:track:4EXE7ZRcKVwD1xxNZLEOPj   \n",
              "174526                    day  spotify:track:3jXNm9r9WAwj8qJvBKoXg1   \n",
              "416153                    day  spotify:track:0RU3CdU5lfgvktiPg2JxaX   \n",
              "\n",
              "                    spotify_id  chart_power  ...  acousticness  \\\n",
              "132734  1JSTJqkT5qHq8MDJnJbRE1       1419.0  ...        0.5430   \n",
              "144156  1jDJFeK9x3OZboIAHsY9k2       1185.0  ...        0.3560   \n",
              "368082  37ZJ0p5Jm13JPevGcx4SkF       1112.0  ...        0.0778   \n",
              "169272  1PtQJZVZIdWIYdARpZRDFO          NaN  ...        0.7190   \n",
              "6804    08mG3Y1vljYA6bvDt4Wqkj          NaN  ...        0.0110   \n",
              "...                        ...          ...  ...           ...   \n",
              "174547  1Sbp0G9AUAQdhXinEiDWsl          NaN  ...        0.5170   \n",
              "174528  3EZH0BH50us07EUPKzhw3u          NaN  ...        0.9160   \n",
              "174527  4EXE7ZRcKVwD1xxNZLEOPj          NaN  ...        0.9160   \n",
              "174526  3jXNm9r9WAwj8qJvBKoXg1          NaN  ...        0.6560   \n",
              "416153  0RU3CdU5lfgvktiPg2JxaX          NaN  ...        0.9210   \n",
              "\n",
              "        instrumentalness  liveness  valence    tempo  duration_ms  \\\n",
              "132734          0.002940    0.0714   0.7400  117.401       253920   \n",
              "144156          0.121000    0.1400   0.7720  176.808       183440   \n",
              "368082          0.000214    0.2940   0.7950  122.511       249293   \n",
              "169272          0.003080    0.0604   0.1940  108.376       298933   \n",
              "6804            0.009650    0.0828   0.7630  188.386       255493   \n",
              "...                  ...       ...      ...      ...          ...   \n",
              "174547          0.000000    0.2780   0.1510  124.043       241373   \n",
              "174528          0.003540    0.1860   0.1460  145.809       277053   \n",
              "174527          0.004890    0.1180   0.0399   83.968       386533   \n",
              "174526          0.787000    0.1470   0.0637  100.909       801840   \n",
              "416153          0.000000    0.0660   0.9650  165.016       188565   \n",
              "\n",
              "        time_signature  year  country_code         country  \n",
              "132734               4  1983            GB  United Kingdom  \n",
              "144156               4  1983            GB  United Kingdom  \n",
              "368082               4  1986            US   United States  \n",
              "169272               4  1985            GB  United Kingdom  \n",
              "6804                 4  1980            AU       Australia  \n",
              "...                ...   ...           ...             ...  \n",
              "174547               3  1984            GB  United Kingdom  \n",
              "174528               4  1984            GB  United Kingdom  \n",
              "174527               4  1984            GB  United Kingdom  \n",
              "174526               4  1984            GB  United Kingdom  \n",
              "416153               3  1989            VE       Venezuela  \n",
              "\n",
              "[416154 rows x 27 columns]"
            ]
          },
          "execution_count": 89,
          "metadata": {},
          "output_type": "execute_result"
        }
      ],
      "source": [
        "by_isrc.sort_values(\"popularity\", ascending=False)"
      ]
    },
    {
      "cell_type": "markdown",
      "id": "DqN105GjHiJ2",
      "metadata": {
        "id": "DqN105GjHiJ2"
      },
      "source": [
        "Abfrage nach dem Künstler Elton John."
      ]
    },
    {
      "cell_type": "code",
      "execution_count": 29,
      "id": "R6zYNeOPHoII",
      "metadata": {
        "colab": {
          "base_uri": "https://localhost:8080/",
          "height": 591
        },
        "id": "R6zYNeOPHoII",
        "outputId": "390e2062-85fa-4f64-b7db-388ff2bf0e52"
      },
      "outputs": [
        {
          "name": "stdout",
          "output_type": "stream",
          "text": [
            "1980 piano\n",
            "1980 rock\n",
            "1981 piano\n",
            "1981 rock\n",
            "1982 piano\n",
            "1982 rock\n",
            "1983 piano\n",
            "1983 rock\n"
          ]
        },
        {
          "ename": "KeyboardInterrupt",
          "evalue": "ignored",
          "output_type": "error",
          "traceback": [
            "\u001b[0;31m---------------------------------------------------------------------------\u001b[0m",
            "\u001b[0;31mRateLimitException\u001b[0m                        Traceback (most recent call last)",
            "\u001b[0;32m/usr/local/lib/python3.10/dist-packages/ratelimit/decorators.py\u001b[0m in \u001b[0;36mwrapper\u001b[0;34m(*args, **kargs)\u001b[0m\n\u001b[1;32m    112\u001b[0m             \u001b[0;32mtry\u001b[0m\u001b[0;34m:\u001b[0m\u001b[0;34m\u001b[0m\u001b[0;34m\u001b[0m\u001b[0m\n\u001b[0;32m--> 113\u001b[0;31m                 \u001b[0;32mreturn\u001b[0m \u001b[0mfunc\u001b[0m\u001b[0;34m(\u001b[0m\u001b[0;34m*\u001b[0m\u001b[0margs\u001b[0m\u001b[0;34m,\u001b[0m \u001b[0;34m**\u001b[0m\u001b[0mkargs\u001b[0m\u001b[0;34m)\u001b[0m\u001b[0;34m\u001b[0m\u001b[0;34m\u001b[0m\u001b[0m\n\u001b[0m\u001b[1;32m    114\u001b[0m             \u001b[0;32mexcept\u001b[0m \u001b[0mRateLimitException\u001b[0m \u001b[0;32mas\u001b[0m \u001b[0mexception\u001b[0m\u001b[0;34m:\u001b[0m\u001b[0;34m\u001b[0m\u001b[0;34m\u001b[0m\u001b[0m\n",
            "\u001b[0;32m/usr/local/lib/python3.10/dist-packages/ratelimit/decorators.py\u001b[0m in \u001b[0;36mwrapper\u001b[0;34m(*args, **kargs)\u001b[0m\n\u001b[1;32m     76\u001b[0m                     \u001b[0;32mif\u001b[0m \u001b[0mself\u001b[0m\u001b[0;34m.\u001b[0m\u001b[0mraise_on_limit\u001b[0m\u001b[0;34m:\u001b[0m\u001b[0;34m\u001b[0m\u001b[0;34m\u001b[0m\u001b[0m\n\u001b[0;32m---> 77\u001b[0;31m                         \u001b[0;32mraise\u001b[0m \u001b[0mRateLimitException\u001b[0m\u001b[0;34m(\u001b[0m\u001b[0;34m'too many calls'\u001b[0m\u001b[0;34m,\u001b[0m \u001b[0mperiod_remaining\u001b[0m\u001b[0;34m)\u001b[0m\u001b[0;34m\u001b[0m\u001b[0;34m\u001b[0m\u001b[0m\n\u001b[0m\u001b[1;32m     78\u001b[0m                     \u001b[0;32mreturn\u001b[0m\u001b[0;34m\u001b[0m\u001b[0;34m\u001b[0m\u001b[0m\n",
            "\u001b[0;31mRateLimitException\u001b[0m: too many calls",
            "\nDuring handling of the above exception, another exception occurred:\n",
            "\u001b[0;31mKeyboardInterrupt\u001b[0m                         Traceback (most recent call last)",
            "\u001b[0;32m<ipython-input-29-b8f0076d97b2>\u001b[0m in \u001b[0;36m<cell line: 1>\u001b[0;34m()\u001b[0m\n\u001b[0;32m----> 1\u001b[0;31m \u001b[0mtest_genre_query\u001b[0m\u001b[0;34m(\u001b[0m\u001b[0;34m\"Elton John\"\u001b[0m\u001b[0;34m)\u001b[0m\u001b[0;34m\u001b[0m\u001b[0;34m\u001b[0m\u001b[0m\n\u001b[0m",
            "\u001b[0;32m<ipython-input-16-744d401632e8>\u001b[0m in \u001b[0;36mtest_genre_query\u001b[0;34m(artist)\u001b[0m\n\u001b[1;32m      2\u001b[0m   \u001b[0mgenres\u001b[0m \u001b[0;34m=\u001b[0m \u001b[0msp\u001b[0m\u001b[0;34m.\u001b[0m\u001b[0mrecommendation_genre_seeds\u001b[0m\u001b[0;34m(\u001b[0m\u001b[0;34m)\u001b[0m\u001b[0;34m[\u001b[0m\u001b[0;34m'genres'\u001b[0m\u001b[0;34m]\u001b[0m\u001b[0;34m\u001b[0m\u001b[0;34m\u001b[0m\u001b[0m\n\u001b[1;32m      3\u001b[0m   \u001b[0;32mfor\u001b[0m \u001b[0myear\u001b[0m \u001b[0;32min\u001b[0m \u001b[0mrange\u001b[0m\u001b[0;34m(\u001b[0m\u001b[0;36m1980\u001b[0m\u001b[0;34m,\u001b[0m \u001b[0;36m1990\u001b[0m\u001b[0;34m)\u001b[0m\u001b[0;34m:\u001b[0m\u001b[0;34m\u001b[0m\u001b[0;34m\u001b[0m\u001b[0m\n\u001b[0;32m----> 4\u001b[0;31m     \u001b[0mgenre_query\u001b[0m\u001b[0;34m(\u001b[0m\u001b[0martist\u001b[0m\u001b[0;34m,\u001b[0m \u001b[0myear\u001b[0m\u001b[0;34m,\u001b[0m \u001b[0;36m0\u001b[0m\u001b[0;34m,\u001b[0m \u001b[0mgenres\u001b[0m\u001b[0;34m)\u001b[0m\u001b[0;34m\u001b[0m\u001b[0;34m\u001b[0m\u001b[0m\n\u001b[0m",
            "\u001b[0;32m<ipython-input-15-f115b93f99bc>\u001b[0m in \u001b[0;36mgenre_query\u001b[0;34m(artist, year, offset, genres)\u001b[0m\n\u001b[1;32m      1\u001b[0m \u001b[0;32mdef\u001b[0m \u001b[0mgenre_query\u001b[0m\u001b[0;34m(\u001b[0m\u001b[0martist\u001b[0m\u001b[0;34m:\u001b[0m \u001b[0mstr\u001b[0m\u001b[0;34m,\u001b[0m \u001b[0myear\u001b[0m\u001b[0;34m:\u001b[0m \u001b[0mint\u001b[0m\u001b[0;34m,\u001b[0m \u001b[0moffset\u001b[0m\u001b[0;34m:\u001b[0m\u001b[0mint\u001b[0m\u001b[0;34m,\u001b[0m \u001b[0mgenres\u001b[0m\u001b[0;34m)\u001b[0m\u001b[0;34m:\u001b[0m\u001b[0;34m\u001b[0m\u001b[0;34m\u001b[0m\u001b[0m\n\u001b[1;32m      2\u001b[0m   \u001b[0;32mfor\u001b[0m \u001b[0mgenre\u001b[0m \u001b[0;32min\u001b[0m \u001b[0mgenres\u001b[0m\u001b[0;34m:\u001b[0m\u001b[0;34m\u001b[0m\u001b[0;34m\u001b[0m\u001b[0m\n\u001b[0;32m----> 3\u001b[0;31m     \u001b[0mcall_api\u001b[0m\u001b[0;34m(\u001b[0m\u001b[0;34m)\u001b[0m\u001b[0;34m\u001b[0m\u001b[0;34m\u001b[0m\u001b[0m\n\u001b[0m\u001b[1;32m      4\u001b[0m     \u001b[0mres\u001b[0m \u001b[0;34m=\u001b[0m \u001b[0msp\u001b[0m\u001b[0;34m.\u001b[0m\u001b[0msearch\u001b[0m\u001b[0;34m(\u001b[0m\u001b[0mq\u001b[0m\u001b[0;34m=\u001b[0m\u001b[0;34mf\"artist:{artist} year:{year} genre:{genre}\"\u001b[0m\u001b[0;34m,\u001b[0m \u001b[0mtype\u001b[0m\u001b[0;34m=\u001b[0m\u001b[0;34m\"track\"\u001b[0m\u001b[0;34m,\u001b[0m \u001b[0mlimit\u001b[0m\u001b[0;34m=\u001b[0m\u001b[0;36m50\u001b[0m\u001b[0;34m,\u001b[0m \u001b[0moffset\u001b[0m\u001b[0;34m=\u001b[0m\u001b[0moffset\u001b[0m\u001b[0;34m,\u001b[0m \u001b[0mmarket\u001b[0m\u001b[0;34m=\u001b[0m\u001b[0;34m\"DE\"\u001b[0m\u001b[0;34m)\u001b[0m\u001b[0;34m\u001b[0m\u001b[0;34m\u001b[0m\u001b[0m\n\u001b[1;32m      5\u001b[0m     \u001b[0;32mif\u001b[0m \u001b[0;34m(\u001b[0m\u001b[0mlen\u001b[0m\u001b[0;34m(\u001b[0m\u001b[0mres\u001b[0m\u001b[0;34m[\u001b[0m\u001b[0;34m\"tracks\"\u001b[0m\u001b[0;34m]\u001b[0m\u001b[0;34m[\u001b[0m\u001b[0;34m\"items\"\u001b[0m\u001b[0;34m]\u001b[0m \u001b[0;34m)\u001b[0m \u001b[0;34m>\u001b[0m \u001b[0;36m1\u001b[0m\u001b[0;34m)\u001b[0m\u001b[0;34m:\u001b[0m\u001b[0;34m\u001b[0m\u001b[0;34m\u001b[0m\u001b[0m\n",
            "\u001b[0;32m/usr/local/lib/python3.10/dist-packages/ratelimit/decorators.py\u001b[0m in \u001b[0;36mwrapper\u001b[0;34m(*args, **kargs)\u001b[0m\n\u001b[1;32m    113\u001b[0m                 \u001b[0;32mreturn\u001b[0m \u001b[0mfunc\u001b[0m\u001b[0;34m(\u001b[0m\u001b[0;34m*\u001b[0m\u001b[0margs\u001b[0m\u001b[0;34m,\u001b[0m \u001b[0;34m**\u001b[0m\u001b[0mkargs\u001b[0m\u001b[0;34m)\u001b[0m\u001b[0;34m\u001b[0m\u001b[0;34m\u001b[0m\u001b[0m\n\u001b[1;32m    114\u001b[0m             \u001b[0;32mexcept\u001b[0m \u001b[0mRateLimitException\u001b[0m \u001b[0;32mas\u001b[0m \u001b[0mexception\u001b[0m\u001b[0;34m:\u001b[0m\u001b[0;34m\u001b[0m\u001b[0;34m\u001b[0m\u001b[0m\n\u001b[0;32m--> 115\u001b[0;31m                 \u001b[0mtime\u001b[0m\u001b[0;34m.\u001b[0m\u001b[0msleep\u001b[0m\u001b[0;34m(\u001b[0m\u001b[0mexception\u001b[0m\u001b[0;34m.\u001b[0m\u001b[0mperiod_remaining\u001b[0m\u001b[0;34m)\u001b[0m\u001b[0;34m\u001b[0m\u001b[0;34m\u001b[0m\u001b[0m\n\u001b[0m\u001b[1;32m    116\u001b[0m     \u001b[0;32mreturn\u001b[0m \u001b[0mwrapper\u001b[0m\u001b[0;34m\u001b[0m\u001b[0;34m\u001b[0m\u001b[0m\n",
            "\u001b[0;31mKeyboardInterrupt\u001b[0m: "
          ]
        }
      ],
      "source": [
        "test_genre_query(\"Elton John\")"
      ]
    },
    {
      "cell_type": "markdown",
      "id": "zu6tBQXCupiJ",
      "metadata": {
        "id": "zu6tBQXCupiJ"
      },
      "source": [
        "Für Elton John existieren Genres. Im nächsten Schritt soll überprüft werden, ob die Genres auch in dem Response der Spotify API wiedergefunden wird."
      ]
    },
    {
      "cell_type": "code",
      "execution_count": 28,
      "id": "0ze5iK_aWq7-",
      "metadata": {
        "colab": {
          "base_uri": "https://localhost:8080/"
        },
        "id": "0ze5iK_aWq7-",
        "outputId": "40b5676f-db1b-440d-9fb5-236ec70d3963"
      },
      "outputs": [
        {
          "name": "stdout",
          "output_type": "stream",
          "text": [
            "dict_keys(['external_urls', 'href', 'id', 'name', 'type', 'uri'])\n",
            "dict_keys(['external_urls', 'href', 'id', 'name', 'type', 'uri'])\n",
            "dict_keys(['external_urls', 'href', 'id', 'name', 'type', 'uri'])\n",
            "dict_keys(['external_urls', 'href', 'id', 'name', 'type', 'uri'])\n",
            "dict_keys(['external_urls', 'href', 'id', 'name', 'type', 'uri'])\n",
            "dict_keys(['external_urls', 'href', 'id', 'name', 'type', 'uri'])\n",
            "dict_keys(['external_urls', 'href', 'id', 'name', 'type', 'uri'])\n",
            "dict_keys(['external_urls', 'href', 'id', 'name', 'type', 'uri'])\n",
            "dict_keys(['external_urls', 'href', 'id', 'name', 'type', 'uri'])\n",
            "dict_keys(['external_urls', 'href', 'id', 'name', 'type', 'uri'])\n",
            "dict_keys(['external_urls', 'href', 'id', 'name', 'type', 'uri'])\n",
            "dict_keys(['external_urls', 'href', 'id', 'name', 'type', 'uri'])\n",
            "dict_keys(['external_urls', 'href', 'id', 'name', 'type', 'uri'])\n",
            "dict_keys(['external_urls', 'href', 'id', 'name', 'type', 'uri'])\n",
            "dict_keys(['external_urls', 'href', 'id', 'name', 'type', 'uri'])\n",
            "dict_keys(['external_urls', 'href', 'id', 'name', 'type', 'uri'])\n",
            "dict_keys(['external_urls', 'href', 'id', 'name', 'type', 'uri'])\n",
            "dict_keys(['external_urls', 'href', 'id', 'name', 'type', 'uri'])\n",
            "dict_keys(['external_urls', 'href', 'id', 'name', 'type', 'uri'])\n",
            "dict_keys(['external_urls', 'href', 'id', 'name', 'type', 'uri'])\n",
            "dict_keys(['external_urls', 'href', 'id', 'name', 'type', 'uri'])\n",
            "dict_keys(['external_urls', 'href', 'id', 'name', 'type', 'uri'])\n",
            "dict_keys(['external_urls', 'href', 'id', 'name', 'type', 'uri'])\n",
            "dict_keys(['external_urls', 'href', 'id', 'name', 'type', 'uri'])\n",
            "dict_keys(['external_urls', 'href', 'id', 'name', 'type', 'uri'])\n",
            "dict_keys(['external_urls', 'href', 'id', 'name', 'type', 'uri'])\n",
            "dict_keys(['external_urls', 'href', 'id', 'name', 'type', 'uri'])\n",
            "dict_keys(['external_urls', 'href', 'id', 'name', 'type', 'uri'])\n",
            "dict_keys(['external_urls', 'href', 'id', 'name', 'type', 'uri'])\n",
            "dict_keys(['external_urls', 'href', 'id', 'name', 'type', 'uri'])\n",
            "dict_keys(['external_urls', 'href', 'id', 'name', 'type', 'uri'])\n",
            "dict_keys(['external_urls', 'href', 'id', 'name', 'type', 'uri'])\n",
            "dict_keys(['external_urls', 'href', 'id', 'name', 'type', 'uri'])\n",
            "dict_keys(['external_urls', 'href', 'id', 'name', 'type', 'uri'])\n",
            "dict_keys(['external_urls', 'href', 'id', 'name', 'type', 'uri'])\n",
            "dict_keys(['external_urls', 'href', 'id', 'name', 'type', 'uri'])\n",
            "dict_keys(['external_urls', 'href', 'id', 'name', 'type', 'uri'])\n",
            "dict_keys(['external_urls', 'href', 'id', 'name', 'type', 'uri'])\n",
            "dict_keys(['external_urls', 'href', 'id', 'name', 'type', 'uri'])\n",
            "dict_keys(['external_urls', 'href', 'id', 'name', 'type', 'uri'])\n",
            "dict_keys(['external_urls', 'href', 'id', 'name', 'type', 'uri'])\n",
            "dict_keys(['external_urls', 'href', 'id', 'name', 'type', 'uri'])\n",
            "dict_keys(['external_urls', 'href', 'id', 'name', 'type', 'uri'])\n",
            "dict_keys(['external_urls', 'href', 'id', 'name', 'type', 'uri'])\n",
            "dict_keys(['external_urls', 'href', 'id', 'name', 'type', 'uri'])\n",
            "dict_keys(['external_urls', 'href', 'id', 'name', 'type', 'uri'])\n",
            "dict_keys(['external_urls', 'href', 'id', 'name', 'type', 'uri'])\n",
            "dict_keys(['external_urls', 'href', 'id', 'name', 'type', 'uri'])\n",
            "dict_keys(['external_urls', 'href', 'id', 'name', 'type', 'uri'])\n",
            "dict_keys(['external_urls', 'href', 'id', 'name', 'type', 'uri'])\n",
            "dict_keys(['external_urls', 'href', 'id', 'name', 'type', 'uri'])\n",
            "dict_keys(['external_urls', 'href', 'id', 'name', 'type', 'uri'])\n",
            "dict_keys(['external_urls', 'href', 'id', 'name', 'type', 'uri'])\n",
            "dict_keys(['external_urls', 'href', 'id', 'name', 'type', 'uri'])\n",
            "dict_keys(['external_urls', 'href', 'id', 'name', 'type', 'uri'])\n",
            "dict_keys(['external_urls', 'href', 'id', 'name', 'type', 'uri'])\n",
            "dict_keys(['external_urls', 'href', 'id', 'name', 'type', 'uri'])\n",
            "dict_keys(['external_urls', 'href', 'id', 'name', 'type', 'uri'])\n",
            "dict_keys(['external_urls', 'href', 'id', 'name', 'type', 'uri'])\n",
            "dict_keys(['external_urls', 'href', 'id', 'name', 'type', 'uri'])\n",
            "dict_keys(['external_urls', 'href', 'id', 'name', 'type', 'uri'])\n",
            "dict_keys(['external_urls', 'href', 'id', 'name', 'type', 'uri'])\n",
            "dict_keys(['external_urls', 'href', 'id', 'name', 'type', 'uri'])\n",
            "dict_keys(['external_urls', 'href', 'id', 'name', 'type', 'uri'])\n",
            "dict_keys(['external_urls', 'href', 'id', 'name', 'type', 'uri'])\n",
            "dict_keys(['external_urls', 'href', 'id', 'name', 'type', 'uri'])\n",
            "dict_keys(['external_urls', 'href', 'id', 'name', 'type', 'uri'])\n",
            "dict_keys(['external_urls', 'href', 'id', 'name', 'type', 'uri'])\n",
            "dict_keys(['external_urls', 'href', 'id', 'name', 'type', 'uri'])\n",
            "dict_keys(['external_urls', 'href', 'id', 'name', 'type', 'uri'])\n",
            "dict_keys(['external_urls', 'href', 'id', 'name', 'type', 'uri'])\n",
            "dict_keys(['external_urls', 'href', 'id', 'name', 'type', 'uri'])\n",
            "dict_keys(['external_urls', 'href', 'id', 'name', 'type', 'uri'])\n",
            "dict_keys(['external_urls', 'href', 'id', 'name', 'type', 'uri'])\n",
            "dict_keys(['external_urls', 'href', 'id', 'name', 'type', 'uri'])\n",
            "dict_keys(['external_urls', 'href', 'id', 'name', 'type', 'uri'])\n",
            "dict_keys(['external_urls', 'href', 'id', 'name', 'type', 'uri'])\n",
            "dict_keys(['external_urls', 'href', 'id', 'name', 'type', 'uri'])\n",
            "dict_keys(['external_urls', 'href', 'id', 'name', 'type', 'uri'])\n",
            "dict_keys(['external_urls', 'href', 'id', 'name', 'type', 'uri'])\n",
            "dict_keys(['external_urls', 'href', 'id', 'name', 'type', 'uri'])\n",
            "dict_keys(['external_urls', 'href', 'id', 'name', 'type', 'uri'])\n",
            "dict_keys(['external_urls', 'href', 'id', 'name', 'type', 'uri'])\n",
            "dict_keys(['external_urls', 'href', 'id', 'name', 'type', 'uri'])\n",
            "dict_keys(['external_urls', 'href', 'id', 'name', 'type', 'uri'])\n",
            "dict_keys(['external_urls', 'href', 'id', 'name', 'type', 'uri'])\n",
            "dict_keys(['external_urls', 'href', 'id', 'name', 'type', 'uri'])\n"
          ]
        }
      ],
      "source": [
        "res = sp.search(q=\"artist:Elton John\", type=\"track\", market=\"DE\", limit=50, offset=0)\n",
        "res = res[\"tracks\"]\n",
        "if \"items\" in res:\n",
        "  for item in res[\"items\"]:\n",
        "    if \"artists\" in item:\n",
        "      #print(item[\"artists\"][\"genres\"] if \"genres\" in item[\"artists\"] else print(\"No genres available!\"))\n",
        "      #print(item[\"artists\"])\n",
        "      for artist in item[\"artists\"]:\n",
        "        print(artist[\"genres\"] if \"genres\" in artist else artist.keys())\n",
        "    else:\n",
        "      print(\"No artists in item\")\n",
        "else:\n",
        "  print(\"No items in res\")\n",
        "  print(res.keys())\n"
      ]
    },
    {
      "cell_type": "markdown",
      "id": "07RFxZqzu65K",
      "metadata": {
        "id": "07RFxZqzu65K"
      },
      "source": [
        "Die Spotify gibt auch für Künstler die ein Genre zugewiesen bekommen haben kein Genre zurück. Laut API sollte es ein weiteres Attribut `genres` geben."
      ]
    },
    {
      "cell_type": "markdown",
      "id": "fNM4scDt4nmh",
      "metadata": {
        "id": "fNM4scDt4nmh"
      },
      "source": [
        "Abfrage aller Lieder von Künstlern, welche in den 80ern in den Charts waren"
      ]
    },
    {
      "cell_type": "code",
      "execution_count": 42,
      "id": "vNztATcNAoA_",
      "metadata": {
        "colab": {
          "base_uri": "https://localhost:8080/"
        },
        "id": "vNztATcNAoA_",
        "outputId": "c60e42b7-9d22-4635-d077-f7477976b999"
      },
      "outputs": [
        {
          "data": {
            "text/plain": [
              "array(['Lionel Richie', 'Harold Faltermeyer', 'Kaoma', 'A-ha',\n",
              "       'Whitney Houston', 'Louis Armstrong', 'Michael Jackson',\n",
              "       'Bon Jovi', 'Rick Astley', 'Cyndi Lauper', 'Europe', 'Scorpions',\n",
              "       'The Police', 'Bonnie Tyler', 'George Michael', 'Survivor',\n",
              "       'Boy George', 'Glenn Medeiros', 'Hot Chocolate', \"T'Pau\", 'Black',\n",
              "       'Joe Cocker', 'Caroline Loeb', 'Toto', 'Eurythmics', 'Roxette',\n",
              "       'Culture Club', 'Pink Floyd', 'Modern Talking', 'Queen',\n",
              "       'Bryan Adams', 'USA for Africa', 'Ben E. King', 'AC/DC',\n",
              "       'Paul McCartney', 'Madonna', 'Martika',\n",
              "       'Bill Medley & Jennifer Warnes', 'Phil Collins', 'Elton John',\n",
              "       'Wham!', 'Alphaville', 'Richard Marx', 'Berlin',\n",
              "       'Bob Marley & The Wailers', 'Olivia Newton-John',\n",
              "       'Queen & David Bowie', 'Blondie', 'Real Life', 'Men At Work',\n",
              "       'Depeche Mode', 'Kiss', 'Village People', 'Heart',\n",
              "       'Bruce Springsteen', 'ABBA', 'Genesis', 'Ray Parker Jr.',\n",
              "       'Alice Cooper', 'Kool & The Gang', 'Prince & The Revolution',\n",
              "       'John Lennon', 'Technotronic feat. Felly', 'M.A.R.R.S.',\n",
              "       'Bobby McFerrin', 'Baltimora', 'Simple Minds', 'Foreigner',\n",
              "       'Dire Straits', 'Starship', 'Billy Idol', 'Opus', 'Dead Or Alive',\n",
              "       'Billy Joel', 'Fleetwood Mac', 'Spandau Ballet', 'Tina Turner',\n",
              "       'Tears For Fears', 'New Order', 'U2', 'Daryl Hall & John Oates',\n",
              "       'Jennifer Rush', 'Milli Vanilli', 'UB40', 'Cameo', 'Whitesnake',\n",
              "       'Patrick Swayze & Wendy Fraser', 'Cutting Crew',\n",
              "       'The Human League', 'Marvin Gaye', 'Crowded House', 'The Cars',\n",
              "       'Roland Kaiser', 'Laura Branigan', 'Desireless', 'Righeira',\n",
              "       \"Salt 'n' Pepa\", 'Simply Red', 'Van Halen', 'Mr. Mister',\n",
              "       'Stevie Wonder', 'Dionne Warwick & Friends', 'Dionne Warwick',\n",
              "       'O.K.', 'Sade', 'Kenny Loggins', 'Gloria Gaynor', 'Rockwell',\n",
              "       'Nazareth', 'Paul Young', 'Neneh Cherry', 'Kenny Rogers',\n",
              "       'Duran Duran', 'REO Speedwagon', 'A Flock Of Seagulls',\n",
              "       'Pet Shop Boys', 'Toto Cutugno', 'New Edition', 'Boney M.',\n",
              "       'Bobby Brown', 'The Bangles', 'Run DMC', 'Run DMC feat. Aerosmith',\n",
              "       'Eric Carmen', 'Kim Carnes', 'Chicago', 'Taylor Dayne',\n",
              "       'Barbra Streisand', 'Diana Ross', 'Band Aid',\n",
              "       'The Alan Parsons Project', 'Electric Light Orchestra',\n",
              "       'Kim Wilde', 'Michael Jackson & Paul McCartney', 'Robert Palmer',\n",
              "       'The Bee Gees', 'Roy Orbison', 'Ricchi e Poveri', 'France Gall',\n",
              "       'Tiffany [US]', 'The Kelly Family', 'Rod Stewart', 'Bad Boys Blue',\n",
              "       'Irene Cara', 'Patti Labelle & Michael McDonald', 'Soul II Soul',\n",
              "       'Soul II Soul feat. Caron Wheeler', 'F.R. David',\n",
              "       'Philip Bailey & Phil Collins', 'Gregory Abbott', 'Yazoo', 'Cher',\n",
              "       'Juice Newton', 'Katrina & The Waves', 'Womack & Womack',\n",
              "       'Soft Cell', 'Chris de Burgh', 'Pat Benatar', 'Beastie Boys',\n",
              "       'Joan Jett & The Blackhearts', 'Godley & Creme', 'Dolly Parton',\n",
              "       'Eddie Murphy', 'Falco', 'Freddie Mercury', 'Donna Summer',\n",
              "       'Thompson Twins', 'Bananarama', 'The Commodores', 'Supertramp',\n",
              "       'Limahl', 'The Cure', 'DeBarge', 'Umberto Tozzi', 'Alison Moyet',\n",
              "       'Jennifer Rush & Elton John', 'Cock Robin', 'Die Flippers',\n",
              "       'Stephan Remmler', 'Gazebo', 'The Sugarhill Gang', 'Bryan Ferry',\n",
              "       'Bronski Beat', 'Rufus & Chaka Khan', 'Dr. Hook', 'Los Lobos',\n",
              "       'Men Without Hats', 'Frankie Goes To Hollywood', 'James Brown',\n",
              "       'Rick Springfield', 'London Boys', 'Indeep', 'Peter Gabriel',\n",
              "       'Erasure', 'The Rolling Stones', 'Michael Sembello', 'Kate Bush',\n",
              "       'Joe Cocker & Jennifer Warnes', 'Boy Meets Girl', 'Sandra',\n",
              "       'Al Bano & Romina Power', 'Billy Ocean', 'Cheap Trick',\n",
              "       'Talking Heads', 'Roxy Music', 'Leo Sayer', 'Fine Young Cannibals',\n",
              "       'The Buggles', 'The S.O.S. Band', 'Ennio Morricone',\n",
              "       'Aretha Franklin & George Michael', 'Loretta Goggi',\n",
              "       'Kenny Rogers & Dolly Parton', 'Suzi Quatro',\n",
              "       'The Brothers Johnson', 'Poison', 'Peter Cetera', 'Debbie Gibson',\n",
              "       'C. C. Catch', 'Trans-X', 'Vanessa Paradis', 'The Beach Boys',\n",
              "       'Silent Circle', 'Peter Maffay', 'Shannon', 'Paula Abdul',\n",
              "       'Dusty Springfield & Pet Shop Boys', 'Samantha Fox',\n",
              "       'George Harrison', 'Belinda Carlisle', 'The Romantics', 'Joy',\n",
              "       'Johnny Hates Jazz', 'Roger [US]', 'Bruce Hornsby & The Range',\n",
              "       'Living In A Box', 'Matthew Wilder', 'Mike & The Mechanics',\n",
              "       'Münchener Freiheit', 'Deniece Williams', 'Chaka Khan',\n",
              "       'The J. Geils Band', 'UB40 & Chrissie Hynde', 'Talk Talk',\n",
              "       'John Waite', 'Lipps Inc.', 'Styx', 'Eddy Grant', 'Jan Hammer',\n",
              "       'Grandmaster Flash & The Furious Five', 'The Communards',\n",
              "       'Jermaine Stewart', 'Huey Lewis & The News', 'The Whispers',\n",
              "       'Murray Head', 'Yes', 'Rupert Holmes', 'Sam Brown', 'Status Quo',\n",
              "       'KC and The Sunshine Band', 'Alan Sorrenti', 'The Flirts', 'Sting',\n",
              "       'Smokie', 'Eric B. & Rakim', 'Kraftwerk', 'Janet Jackson',\n",
              "       'Tone Loc', 'Nina Simone', 'Kylie Minogue & Jason Donovan', 'Enya',\n",
              "       'Juan Pardo', 'Oran \"Juice\" Jones', 'John Farnham',\n",
              "       'Raggio Di Luna (Moon Ray)', 'Claudia Mori', 'Grace Jones',\n",
              "       'The Hooters', 'INXS', 'Miami Sound Machine', 'The Flying Pickets',\n",
              "       'Earth & Fire', 'Gipsy Kings', 'Fancy', 'Howard Carpendale',\n",
              "       'Corey Hart', 'Madness', 'Jermaine Jackson & Pia Zadora',\n",
              "       'Tight Fit', 'Sister Sledge', 'Steve Miller Band', 'Frida',\n",
              "       'Musical Youth', 'Sheena Easton', 'Audrey Landers', 'Level 42',\n",
              "       'Tracy Chapman', 'Dexys Midnight Runners With The Emerald Express',\n",
              "       'David Bowie & Mick Jagger', 'David Bowie', 'Ryan Paris',\n",
              "       'Sabrina [IT]', 'Peter Tosh', \"Terence Trent D'Arby\", 'Black Box',\n",
              "       'Boys Town Gang', 'Pointer Sisters', 'Marianne Faithfull',\n",
              "       'Joe Jackson', 'Ice MC', 'Laid Back', 'Will To Power', 'Sam Cooke',\n",
              "       'Petula Clark', 'Greg Kihn Band', 'De La Soul',\n",
              "       'Jive Bunny & The Mastermixers', 'Kylie Minogue', 'Breathe',\n",
              "       'Go West', 'David Hasselhoff', 'ABC',\n",
              "       'David Bowie And The Pat Metheny Group', 'Tanita Tikaram',\n",
              "       'Nino de Angelo', 'Climie Fisher', 'Chris Norman',\n",
              "       'Gloria Estefan', 'Nik Kershaw', 'Mike Oldfield',\n",
              "       'Peter Schilling', 'Ottawan', 'Eighth Wonder', 'Double',\n",
              "       'The Teens', 'Clowns & Helden', 'Stacey Q.', 'Killing Joke',\n",
              "       'Barbra Streisand & Barry Gibb', 'Bette Midler',\n",
              "       'Olivia Newton-John & Electric Light Orchestra', 'Stevie Nicks',\n",
              "       'Trio', 'Dschinghis Khan', 'Julio Iglesias & Willie Nelson',\n",
              "       'Joachim Witt', 'Pupo', 'Joyce Sims', 'Visage', 'Robin Gibb',\n",
              "       'Nu Shooz', 'Nena', 'Howard Jones', 'Don Henley', 'Matia Bazar',\n",
              "       'Francesco Napoli', 'Wang Chung', 'Dollar', 'Midnight Star',\n",
              "       'Engelbert Humperdinck', 'Rainhard Fendrich', 'Jürgen Drews',\n",
              "       'Richard Sanderson', 'Michael Jackson With Siedah Garrett',\n",
              "       'Christopher Cross', 'Mental As Anything', 'Tony Esposito',\n",
              "       'Quarterflash', 'Die Ã„rzte', 'Lindsey Buckingham', 'Mory Kante',\n",
              "       'Tina Charles', 'O.M.D.', 'Jim Diamond', 'Frank Stallone',\n",
              "       'Ready For The World', 'Transvision Vamp', 'Glenn Frey',\n",
              "       'Monotones [NL]', 'Valerie Dore', 'Adam Ant', 'Adam & The Ants',\n",
              "       'Off', 'Ofra Haza', 'Swing Out Sister', 'Fun Fun', 'James Last',\n",
              "       'Ultravox', 'Wolfgang Petry', \"Lil' Louis\", 'Herbie Hancock',\n",
              "       'Jona Lewie', \"Luv'\", 'Fiction Factory', 'Asia', 'Joe Dolce',\n",
              "       'Sheila E', 'The Detroit Spinners', 'Roger Whittaker', 'Andy Borg',\n",
              "       'Paul McCartney & Stevie Wonder', 'Alice', 'Grauzone',\n",
              "       'Peter Cornelius', 'Slade', 'Iron Maiden', 'Lian Ross',\n",
              "       'Camouflage', 'Kajagoogoo', 'Klaus Lage Band', \"Shakin' Stevens\",\n",
              "       'Patrick Cowley Feat. Sylvester', 'Animotion', 'Stars On 45',\n",
              "       'Heinz Rudolf Kunze', 'Lisa Stansfield', 'Barclay James Harvest',\n",
              "       'Propaganda', 'Sigue Sigue Sputnik', 'Nick Kamen',\n",
              "       'Geier Sturzflug', 'Raff [IT]', 'The Housemartins', 'The Shorts',\n",
              "       'William Pitt', 'Feargal Sharkey', 'Blue System',\n",
              "       'Herbert GrÃ¶nemeyer', 'Al Corley', 'Karat',\n",
              "       'George Baker Selection', 'John Parr', 'Timex Social Club',\n",
              "       'Michael Cretu', 'Helloween', 'Cliff Richard',\n",
              "       'Goombay Dance Band', 'Aneka', 'Jon & Vangelis', 'Prince',\n",
              "       'Precious Wilson', 'Jason Donovan', 'Diana Ross & Julio Iglesias',\n",
              "       'Yello', 'Udo Lindenberg', 'Gianna Nannini', 'Eddy Huntington',\n",
              "       'Spider Murphy Gang', 'Jody Watley', 'Telly Savalas',\n",
              "       'Die Toten Hosen', 'Mike Krüger', 'The Jacksons',\n",
              "       'Erste Allgemeine Verunsicherung', 'Big Country',\n",
              "       'Gary Moore & Phil Lynott', 'Club Nouveau', 'Sheila B. Devotion',\n",
              "       'A La Carte', 'Pebbles', 'Spagna', 'The Gap Band', 'Robin Beck',\n",
              "       'Fairground Attraction', 'China Crisis', 'Miquel Brown', 'Odyssey',\n",
              "       'Ibo', 'Bros', 'Peter, Sue & Marc', 'Glass Tiger', 'Ph.D.',\n",
              "       'June Lodge & Prince Mohammed', 'Nicole', 'Robbie Nevil',\n",
              "       'Ivan [ES]', 'Silver Pozzoli', 'DÃ–F', 'Riccardo Fogli',\n",
              "       'Inner City', 'Bucks Fizz', 'Saragossa Band', 'Mel & Kim',\n",
              "       'Peter Kent', 'Pussycat', \"Alexander O'Neal\", 'Willem [DE]',\n",
              "       'Jermaine Jackson', 'Peter Alexander',\n",
              "       'Marc Almond feat. Gene Pitney', 'Klaus & Klaus', 'Sophia George',\n",
              "       'Masquerade', 'Andy Gibb', 'Imagination', 'Sonia', 'My Mine',\n",
              "       'Kon Kan', 'Mike Mareen', 'Princess', 'The Power Station',\n",
              "       'Anne Clark', 'Barbara Dickson', 'The Rock Steady Crew',\n",
              "       'Evelyn Thomas', 'Doctor & The Medics', 'Nickerbocker & Biene',\n",
              "       'Wolfgang Fierek', 'Albert Hammond', 'Stan Ridgway',\n",
              "       'The Art of Noise & Max Headroom', 'Eruption', 'Radiorama',\n",
              "       'Spargo', 'Kelly Marie', 'Agnetha Fältskog', 'Quincy Jones',\n",
              "       'Eartha Kitt', 'Koreana', 'Don Johnson',\n",
              "       'Stefan Waggershausen & Alice', 'Stefan Waggershausen',\n",
              "       'StÃ©phanie', 'Chilly', 'George Kranz',\n",
              "       'John Lennon And The Plastic Ono Band', 'Rocky Burnette',\n",
              "       'Yazz & The Plastic Population', 'Captain & Tennille',\n",
              "       'Fox The Fox', 'Matt Bianco', 'Holly Johnson', 'The Blow Monkeys',\n",
              "       'Achim Reichel', 'Juliane Werding', 'BAP', 'Lee Majors',\n",
              "       'Rita Coolidge', 'Freeez', 'Westernhagen', 'King',\n",
              "       'Fat Boys with Stupid Def Vocals by Chubby Checker', 'Midge Ure',\n",
              "       'Hithouse', 'Sky [UK]', 'Malcolm McLaren', 'Scotch [IT]',\n",
              "       'Gladys Knight', 'Mike Oldfield (Vocals: Maggie Reilly)',\n",
              "       'Extrabreit', 'Secret Service [SE]', 'Barrabas', 'Paul Hardcastle',\n",
              "       'Frank Zappa', 'Delegation', 'Mick Jagger', 'Heino',\n",
              "       'The Jacksons With Mick Jagger', 'Original Naabtal Duo',\n",
              "       'Break Machine', 'Bonnie Bianco & Pierre Cosso', 'Mac Band',\n",
              "       'Mike Oldfield & Bonnie Tyler', 'Mixed Emotions',\n",
              "       'Jürgen von der Lippe', 'Rose Laurens', 'Relax [DE]', 'Texas',\n",
              "       'Natalie Cole', 'Karel Gott & Darinka', 'Sydney Youngblood',\n",
              "       'Sensus', 'Trude Herr', 'Sandy Marton', 'Soulsister',\n",
              "       'The Beautiful South', 'Jackie Wilson', 'Tommy Steiner',\n",
              "       'Four Tops', 'Arabesque', 'Captain Sensible', '16 Bit',\n",
              "       'Thom Pace', 'Hans Hartz', 'Daniel', 'Annie Lennox & Al Green',\n",
              "       'Heike Schäfer', 'STS', 'MC Miker G & DJ Sven',\n",
              "       'The Art of Noise feat. Tom Jones', 'Ten City', 'Leon Haywood',\n",
              "       'Purple Schulz', 'Bomb The Bass', 'Steinwolke', 'Kano [IT]',\n",
              "       'Five Star',\n",
              "       'Mike Oldfield feat. Aled Jones, Anita Hegerland & Barry Palmer',\n",
              "       'Gänsehaut', 'P. Lion', 'Manuel & Pony', 'Johnny Nash',\n",
              "       'Gottlieb Wendehals', 'Matchbox', 'Johnny Logan', 'Paola',\n",
              "       'Pink Project', 'Andrea Jürgens', 'Hubert Kah', 'Michael Holm',\n",
              "       'Drafi Deutscher', 'The Twins', 'Maywood', 'The Stranglers',\n",
              "       'Coast To Coast', 'Sinitta', 'Rheingold', 'Rocco & The Carnations',\n",
              "       'Mireille Mathieu & Patrick Duffy', 'Gibson Brothers', 'Re-Flex',\n",
              "       'UKW', 'Rolf und seine Freunde', \"Shakin' Stevens & Bonnie Tyler\",\n",
              "       'Krush', \"Malcolm McLaren & The World's Famous Supreme Team\",\n",
              "       'Markus', 'Oliver Onions', 'Tony Carey', 'Marillion',\n",
              "       'Orlando Riva Sound', 'Ashford & Simpson', 'Bonnie Bianco',\n",
              "       'Nick Straker Band', 'Nana Mouskouri', 'PiL', 'Marti Webb',\n",
              "       'Renee & Renato', 'Saga', 'Tracey Ullman', 'Katja Ebstein',\n",
              "       'Die Doraus & die Marinas', 'Blancmange', 'Al Hudson & Partners',\n",
              "       'Lena Valaitis', 'Alisha', 'D. Mob Feat. Gary Haisman',\n",
              "       'Marianne Rosenberg', 'Max Him', 'Mike Oldfield and Roger Chapman',\n",
              "       'Brother Beyond', 'Aswad', 'B.A. Robertson', 'Keith Marshall',\n",
              "       'Edelweiss', 'JoBoxers', 'Liza Minnelli', 'Andreas Martin',\n",
              "       'Vicky Leandros', 'Picnic At The Whitehouse', 'Mysterious Art',\n",
              "       'Tullio de Piscopo', 'S-Express', 'Inker & Hamilton', 'Max Werner',\n",
              "       'David Christie', 'Mel Brooks', 'Ideal', 'Den Harrow', 'Icehouse',\n",
              "       'Nicki', 'Antonello Venditti', 'Wax [UK]', 'Ina Deter Band',\n",
              "       'Shakatak', 'Spliff', 'Lio [BE]', 'Bernie Paul',\n",
              "       'Bronski Beat & Marc Almond', 'Bruce & Bongo',\n",
              "       'Redhead Kingpin & The FBI', 'Mezzoforte', 'The Real Thing',\n",
              "       'Eroc', 'Denise Lasalle', 'Doris D. & The Pins', 'Maria Vidal',\n",
              "       'Rodgau Monotones', 'Hanne Haller', 'Schrott nach 8',\n",
              "       'Toni Childs', 'Hoffmann & Hoffmann',\n",
              "       'Gary Bird & The G.B. Experience', 'The Catch', 'The Jonzun Crew',\n",
              "       'The Art of Noise feat. Duane Eddy', 'Fischer-Z', 'Lee Marrow',\n",
              "       'Udo Lindenberg & Pascal', 'Rex Gildo', 'Karel Fialka',\n",
              "       'Bläck FÃ¶Ã¶ss', 'The Timelords', 'Boris Gardiner', 'Boytronic',\n",
              "       'Wet Wet Wet', 'Flash & The Pan', 'Owen Paul',\n",
              "       'Bomb The Bass & Lorraine', 'Guillermo Marchena',\n",
              "       'Garland Jeffreys', 'Artists United Against Apartheid',\n",
              "       'Charlie Dore', 'Steve Arrington', 'Truck Stop', 'Gitte Haenning',\n",
              "       'Tracie Spencer', 'Helen Schneider', 'Ixi',\n",
              "       'Peter Kent & Luisa Fernandez', 'Stephan Sulke', 'Fehlfarben',\n",
              "       'Christian Franke', 'Ferry Aid', 'Rainbirds',\n",
              "       'Bananarama & La Na Nee Nee Noo Noo', 'Hothouse Flowers',\n",
              "       'Trio Rio', 'Malcolm McLaren & The Bootzilla Orchestra',\n",
              "       'Sweet People', 'Guesch Patti', 'Mike Batt', 'Showaddywaddy',\n",
              "       'Inga & Anete Humpe', 'Alan Price', 'Schweizer', 'Kiz', 'Wind',\n",
              "       'Alvin Stardust', 'Haindling', 'Amanda Lear', 'Chico Chico',\n",
              "       'Will Downing', 'David Cassidy', 'The Pasadenas',\n",
              "       'Booker Newberry III', 'Jawoll', 'Pete Townshend', 'Roy Black',\n",
              "       'Heaven 17', 'Kim Merz', 'Mai Tai', 'The Nits', 'Hypnosis',\n",
              "       'Beagle Music Ltd.', 'B.V.S.M.P.', 'Ingrid Kup', \"Electronica's\",\n",
              "       'Round One', 'ZaZa', 'Martinelli', 'Marietta', 'Lady Lily',\n",
              "       \"Stephen 'Tin Tin' Duffy\", 'Niko', 'Bernhard Brink',\n",
              "       'Thomas Anders', 'Paso Doble', 'The Other Ones', 'Dominoe',\n",
              "       'Peter Griffin', 'United Balls',\n",
              "       'Purple Schulz und die Neue Heimat', 'Amii Stewart',\n",
              "       'Haysi Fantayzee', 'Fred Sonnenschein und seine Freunde',\n",
              "       'The Jeremy Days', 'The Winners', \"Salt 'n' Pepa feat. E.U.\",\n",
              "       'Tangerine Dream', 'Dave Stewart & Barbara Gaskin', 'Ricky King',\n",
              "       'Rachel Sweet', 'The Royal Philharmonic Orchestra (RPO)',\n",
              "       'Sally Oldfield', 'Steve Allen', 'Udo Jürgens', 'Far Corporation',\n",
              "       'Tim Curry', 'Mike Anthony', 'Costa Cordalis', 'Pepsi & Shirlie',\n",
              "       'Stacy Lattisaw', 'G. G. Anderson', 'Roni Griffith', 'Alf',\n",
              "       'Mandy', 'Device', 'Divine [US]', 'Traks', 'Exile',\n",
              "       'Tony Christie', 'Leinemann',\n",
              "       'Michael Schanze und die Fußball-Nationalmannschaft',\n",
              "       'Giorgio Moroder & Paul Engemann', 'Neue Heimat', 'Whodini',\n",
              "       'Ted Herold', 'Wee Papa Girl Rappers', 'Two Of Us', 'Milva',\n",
              "       'Coldcut Feat. Lisa Stansfield', 'Out Of The Ordinary',\n",
              "       'Les McKeown', 'Bob Geldof', 'Hollywood Beyond', 'Big Fun',\n",
              "       'Pia Zadora', 'The Boomtown Rats',\n",
              "       'The Christians, Holly Johnson, Paul McCartney, Gerry Marsden & Stock Aitken Waterman',\n",
              "       'Hazell Dean', 'Chris Thompson', 'Blind Date [DE]', 'Frl. Menke',\n",
              "       'Emmylou Harris', 'Joe Bataan', \"Honesty '69\", 'Hongkong Syndikat',\n",
              "       'Angelika Milster', 'Warning', 'Video Kids', 'The Assembly',\n",
              "       'Tommy Piper singt Alf', 'Phil Carmen', 'Ace Cats',\n",
              "       'Band für Afrika', 'The Adventures', 'Conny & Jean',\n",
              "       'Alan And Denise', 'Frank Zander', 'Silicon Dream', 'Moses P.',\n",
              "       'Stephan & Nina', 'Lou & Hollywood Bananas', 'Mandy Winter',\n",
              "       'First Patrol', 'Lobo [NL]', 'Robert Howard & Kym Mazelle',\n",
              "       'Helga Feddersen', 'Bolland & Bolland', 'Pete Bardens',\n",
              "       'Nicole J. McCloud', 'Moti Special', 'Racey', 'Hannes KrÃ¶ger',\n",
              "       'Jule Neigel Band', 'Geoffrey Williams', 'Bill Withers',\n",
              "       'Jack Goldbird', 'Mink DeVille', 'Yazz', 'Frank Duval',\n",
              "       'Heidi Brühl', 'Savage Progress', 'Chris Roberts', 'Clout',\n",
              "       'Dieter Hallervorden', 'Coldcut', 'Die Schlümpfe',\n",
              "       'Coldcut feat. Junior Reid', 'Glen Goldsmith', 'Ingrid Peters',\n",
              "       'Taco [NL]', 'Christian Bruhn', 'Endgames', 'Pierre Cosso',\n",
              "       'Wolf Maahn und Unterstützung', 'Karel Gott', 'T.X.T.',\n",
              "       'Mini Pigs', 'Peter Petrel', \"G'Race\", 'Tony Holiday',\n",
              "       'Hannes SchÃ¶ner', 'Ellis, Beggs & Howard', 'Tone Band',\n",
              "       'Helmut Frey', 'P4F', 'Tommi Ohrner', 'Fritz Brause', 'Sean Tyla',\n",
              "       'Patto', 'Rififi', 'Electric Boogie Men', 'The Fools',\n",
              "       'Olsen Brothers', 'Bogart', 'Tolga Flim Flam Balkan',\n",
              "       'Deborah Sasson', 'Mary Roos und David Hanselmann',\n",
              "       'Deborah Sasson & MCL', 'The Hornettes', 'Jürgen Marcus',\n",
              "       'Hot Shot'], dtype=object)"
            ]
          },
          "execution_count": 42,
          "metadata": {},
          "output_type": "execute_result"
        }
      ],
      "source": [
        "chart_power_df[\"Artist\"].unique()"
      ]
    },
    {
      "cell_type": "markdown",
      "id": "mRTbFJZbApxm",
      "metadata": {
        "id": "mRTbFJZbApxm"
      },
      "source": [
        "Wenn mehrere Künstler zusammen einen Song veröffentlich haben, sind diese hier mit einem `&` getrennt. Dies muss zunächst aufgelöst werden."
      ]
    },
    {
      "cell_type": "code",
      "execution_count": 21,
      "id": "j0WG2ulaBleV",
      "metadata": {
        "id": "j0WG2ulaBleV"
      },
      "outputs": [],
      "source": [
        "chart_power_df[\"Artist\"] = chart_power_df[\"Artist\"].str.split(\" & \")\n",
        "chart_power_df_explode = chart_power_df.explode(\"Artist\", ignore_index=True)"
      ]
    },
    {
      "cell_type": "code",
      "execution_count": 22,
      "id": "DTHv1YtUECll",
      "metadata": {
        "colab": {
          "base_uri": "https://localhost:8080/",
          "height": 424
        },
        "id": "DTHv1YtUECll",
        "outputId": "e079fec3-f459-4f92-9d14-0f727f2f1dfd"
      },
      "outputs": [
        {
          "data": {
            "text/html": [
              "<div>\n",
              "<style scoped>\n",
              "    .dataframe tbody tr th:only-of-type {\n",
              "        vertical-align: middle;\n",
              "    }\n",
              "\n",
              "    .dataframe tbody tr th {\n",
              "        vertical-align: top;\n",
              "    }\n",
              "\n",
              "    .dataframe thead th {\n",
              "        text-align: right;\n",
              "    }\n",
              "</style>\n",
              "<table border=\"1\" class=\"dataframe\">\n",
              "  <thead>\n",
              "    <tr style=\"text-align: right;\">\n",
              "      <th></th>\n",
              "      <th>Song</th>\n",
              "      <th>Artist</th>\n",
              "      <th>Points</th>\n",
              "    </tr>\n",
              "  </thead>\n",
              "  <tbody>\n",
              "    <tr>\n",
              "      <th>0</th>\n",
              "      <td>19</td>\n",
              "      <td>paul hardcastle</td>\n",
              "      <td>1600</td>\n",
              "    </tr>\n",
              "    <tr>\n",
              "      <th>1</th>\n",
              "      <td>'cause you're young</td>\n",
              "      <td>c. c. catch</td>\n",
              "      <td>998</td>\n",
              "    </tr>\n",
              "    <tr>\n",
              "      <th>2</th>\n",
              "      <td>(carmen) danger in her eyes</td>\n",
              "      <td>deborah sasson</td>\n",
              "      <td>531</td>\n",
              "    </tr>\n",
              "    <tr>\n",
              "      <th>3</th>\n",
              "      <td>(carmen) danger in her eyes</td>\n",
              "      <td>mcl</td>\n",
              "      <td>531</td>\n",
              "    </tr>\n",
              "    <tr>\n",
              "      <th>4</th>\n",
              "      <td>(do) the hucklebuck</td>\n",
              "      <td>coast to coast</td>\n",
              "      <td>697</td>\n",
              "    </tr>\n",
              "    <tr>\n",
              "      <th>...</th>\n",
              "      <td>...</td>\n",
              "      <td>...</td>\n",
              "      <td>...</td>\n",
              "    </tr>\n",
              "    <tr>\n",
              "      <th>2022</th>\n",
              "      <td>zu spät</td>\n",
              "      <td>die ã„rzte</td>\n",
              "      <td>605</td>\n",
              "    </tr>\n",
              "    <tr>\n",
              "      <th>2023</th>\n",
              "      <td>zuppa romana</td>\n",
              "      <td>schrott nach 8</td>\n",
              "      <td>601</td>\n",
              "    </tr>\n",
              "    <tr>\n",
              "      <th>2024</th>\n",
              "      <td>â€¦ und ganz doll mich (ich mag)</td>\n",
              "      <td>rolf und seine freunde</td>\n",
              "      <td>1314</td>\n",
              "    </tr>\n",
              "    <tr>\n",
              "      <th>2025</th>\n",
              "      <td>über sieben brücken mußt du geh'n</td>\n",
              "      <td>karat</td>\n",
              "      <td>826</td>\n",
              "    </tr>\n",
              "    <tr>\n",
              "      <th>2026</th>\n",
              "      <td>über sieben brücken mußt du geh'n</td>\n",
              "      <td>peter maffay</td>\n",
              "      <td>1368</td>\n",
              "    </tr>\n",
              "  </tbody>\n",
              "</table>\n",
              "<p>2027 rows × 3 columns</p>\n",
              "</div>"
            ],
            "text/plain": [
              "                                   Song                  Artist  Points\n",
              "0                                    19         paul hardcastle    1600\n",
              "1                   'cause you're young             c. c. catch     998\n",
              "2           (carmen) danger in her eyes          deborah sasson     531\n",
              "3           (carmen) danger in her eyes                     mcl     531\n",
              "4                   (do) the hucklebuck          coast to coast     697\n",
              "...                                 ...                     ...     ...\n",
              "2022                            zu spät              die ã„rzte     605\n",
              "2023                       zuppa romana          schrott nach 8     601\n",
              "2024   â€¦ und ganz doll mich (ich mag)  rolf und seine freunde    1314\n",
              "2025  über sieben brücken mußt du geh'n                   karat     826\n",
              "2026  über sieben brücken mußt du geh'n            peter maffay    1368\n",
              "\n",
              "[2027 rows x 3 columns]"
            ]
          },
          "execution_count": 22,
          "metadata": {},
          "output_type": "execute_result"
        }
      ],
      "source": [
        "chart_power_df_explode"
      ]
    },
    {
      "cell_type": "markdown",
      "id": "H9FcyDC7v5MF",
      "metadata": {
        "id": "H9FcyDC7v5MF"
      },
      "source": [
        "Einige Künstler und Lieder enthalten zudem Umlaute, welche zunächst entsprechend formatiert werden müssen (z.B. `Die Ärzte` sind als `Die ã„rzte` gespeichert)."
      ]
    },
    {
      "cell_type": "code",
      "execution_count": 23,
      "id": "7slzBNM-3Pbl",
      "metadata": {
        "id": "7slzBNM-3Pbl"
      },
      "outputs": [],
      "source": [
        "replace = {\n",
        "    \"ã¶\": \"ö\",\n",
        "    \"ã„\": \"ä\",\n",
        "    \"ã–\": \"ö\",\n",
        "    \"ã©\": \"e\"\n",
        "}\n",
        "\n",
        "chart_power_df_explode[\"Song\"] = chart_power_df_explode[\"Song\"].replace(replace, regex=True)\n",
        "chart_power_df_explode[\"Artist\"] = chart_power_df_explode[\"Artist\"].replace(replace, regex=True)"
      ]
    },
    {
      "cell_type": "code",
      "execution_count": 24,
      "id": "Jw40TTrCqw7P",
      "metadata": {
        "colab": {
          "base_uri": "https://localhost:8080/",
          "height": 81
        },
        "id": "Jw40TTrCqw7P",
        "outputId": "302af9be-feab-485b-8666-73f8e97d3d76"
      },
      "outputs": [
        {
          "data": {
            "text/html": [
              "<div>\n",
              "<style scoped>\n",
              "    .dataframe tbody tr th:only-of-type {\n",
              "        vertical-align: middle;\n",
              "    }\n",
              "\n",
              "    .dataframe tbody tr th {\n",
              "        vertical-align: top;\n",
              "    }\n",
              "\n",
              "    .dataframe thead th {\n",
              "        text-align: right;\n",
              "    }\n",
              "</style>\n",
              "<table border=\"1\" class=\"dataframe\">\n",
              "  <thead>\n",
              "    <tr style=\"text-align: right;\">\n",
              "      <th></th>\n",
              "      <th>Song</th>\n",
              "      <th>Artist</th>\n",
              "      <th>Points</th>\n",
              "    </tr>\n",
              "  </thead>\n",
              "  <tbody>\n",
              "    <tr>\n",
              "      <th>2022</th>\n",
              "      <td>zu spät</td>\n",
              "      <td>die ärzte</td>\n",
              "      <td>605</td>\n",
              "    </tr>\n",
              "  </tbody>\n",
              "</table>\n",
              "</div>"
            ],
            "text/plain": [
              "         Song     Artist  Points\n",
              "2022  zu spät  die ärzte     605"
            ]
          },
          "execution_count": 24,
          "metadata": {},
          "output_type": "execute_result"
        }
      ],
      "source": [
        "chart_power_df_explode[chart_power_df_explode[\"Song\"] == \"zu spät\"]"
      ]
    },
    {
      "cell_type": "code",
      "execution_count": 25,
      "id": "S-lLXslmrH4R",
      "metadata": {
        "colab": {
          "base_uri": "https://localhost:8080/",
          "height": 53
        },
        "id": "S-lLXslmrH4R",
        "outputId": "073137e7-a6af-4ff3-b7b2-32bb3e6c08f3"
      },
      "outputs": [
        {
          "data": {
            "text/html": [
              "<div>\n",
              "<style scoped>\n",
              "    .dataframe tbody tr th:only-of-type {\n",
              "        vertical-align: middle;\n",
              "    }\n",
              "\n",
              "    .dataframe tbody tr th {\n",
              "        vertical-align: top;\n",
              "    }\n",
              "\n",
              "    .dataframe thead th {\n",
              "        text-align: right;\n",
              "    }\n",
              "</style>\n",
              "<table border=\"1\" class=\"dataframe\">\n",
              "  <thead>\n",
              "    <tr style=\"text-align: right;\">\n",
              "      <th></th>\n",
              "      <th>Song</th>\n",
              "      <th>Artist</th>\n",
              "      <th>Points</th>\n",
              "    </tr>\n",
              "  </thead>\n",
              "  <tbody>\n",
              "  </tbody>\n",
              "</table>\n",
              "</div>"
            ],
            "text/plain": [
              "Empty DataFrame\n",
              "Columns: [Song, Artist, Points]\n",
              "Index: []"
            ]
          },
          "execution_count": 25,
          "metadata": {},
          "output_type": "execute_result"
        }
      ],
      "source": [
        "chart_power_df_explode[chart_power_df_explode[\"Artist\"] == \"die ã„rzte\"]\n"
      ]
    },
    {
      "cell_type": "code",
      "execution_count": 26,
      "id": "sABBox9lrrSG",
      "metadata": {
        "colab": {
          "base_uri": "https://localhost:8080/",
          "height": 1000
        },
        "id": "sABBox9lrrSG",
        "outputId": "df743570-8642-48f7-acbe-e778e3cd2036"
      },
      "outputs": [
        {
          "data": {
            "text/html": [
              "<div>\n",
              "<style scoped>\n",
              "    .dataframe tbody tr th:only-of-type {\n",
              "        vertical-align: middle;\n",
              "    }\n",
              "\n",
              "    .dataframe tbody tr th {\n",
              "        vertical-align: top;\n",
              "    }\n",
              "\n",
              "    .dataframe thead th {\n",
              "        text-align: right;\n",
              "    }\n",
              "</style>\n",
              "<table border=\"1\" class=\"dataframe\">\n",
              "  <thead>\n",
              "    <tr style=\"text-align: right;\">\n",
              "      <th></th>\n",
              "      <th>Song</th>\n",
              "      <th>Artist</th>\n",
              "      <th>Points</th>\n",
              "    </tr>\n",
              "  </thead>\n",
              "  <tbody>\n",
              "    <tr>\n",
              "      <th>64</th>\n",
              "      <td>all of me (boy oh boy)</td>\n",
              "      <td>sabrina [it]</td>\n",
              "      <td>841</td>\n",
              "    </tr>\n",
              "    <tr>\n",
              "      <th>85</th>\n",
              "      <td>amoureux solitaires</td>\n",
              "      <td>lio [be]</td>\n",
              "      <td>1555</td>\n",
              "    </tr>\n",
              "    <tr>\n",
              "      <th>100</th>\n",
              "      <td>another life</td>\n",
              "      <td>kano [it]</td>\n",
              "      <td>1460</td>\n",
              "    </tr>\n",
              "    <tr>\n",
              "      <th>187</th>\n",
              "      <td>boys (summertime love)</td>\n",
              "      <td>sabrina [it]</td>\n",
              "      <td>1444</td>\n",
              "    </tr>\n",
              "    <tr>\n",
              "      <th>198</th>\n",
              "      <td>bridge to your heart</td>\n",
              "      <td>wax [uk]</td>\n",
              "      <td>614</td>\n",
              "    </tr>\n",
              "    <tr>\n",
              "      <th>256</th>\n",
              "      <td>change your mind</td>\n",
              "      <td>raff [it]</td>\n",
              "      <td>736</td>\n",
              "    </tr>\n",
              "    <tr>\n",
              "      <th>314</th>\n",
              "      <td>cry softly</td>\n",
              "      <td>secret service [se]</td>\n",
              "      <td>451</td>\n",
              "    </tr>\n",
              "    <tr>\n",
              "      <th>351</th>\n",
              "      <td>delirio mind</td>\n",
              "      <td>scotch [it]</td>\n",
              "      <td>1120</td>\n",
              "    </tr>\n",
              "    <tr>\n",
              "      <th>390</th>\n",
              "      <td>disco band</td>\n",
              "      <td>scotch [it]</td>\n",
              "      <td>1806</td>\n",
              "    </tr>\n",
              "    <tr>\n",
              "      <th>480</th>\n",
              "      <td>ein weißes blatt'l papier</td>\n",
              "      <td>relax [de]</td>\n",
              "      <td>535</td>\n",
              "    </tr>\n",
              "    <tr>\n",
              "      <th>568</th>\n",
              "      <td>flash in the night</td>\n",
              "      <td>secret service [se]</td>\n",
              "      <td>1102</td>\n",
              "    </tr>\n",
              "    <tr>\n",
              "      <th>584</th>\n",
              "      <td>fotonovela</td>\n",
              "      <td>ivan [es]</td>\n",
              "      <td>1116</td>\n",
              "    </tr>\n",
              "    <tr>\n",
              "      <th>739</th>\n",
              "      <td>hot girl</td>\n",
              "      <td>sabrina [it]</td>\n",
              "      <td>690</td>\n",
              "    </tr>\n",
              "    <tr>\n",
              "      <th>799</th>\n",
              "      <td>i think we're alone now</td>\n",
              "      <td>tiffany [us]</td>\n",
              "      <td>1340</td>\n",
              "    </tr>\n",
              "    <tr>\n",
              "      <th>804</th>\n",
              "      <td>i want to be your man</td>\n",
              "      <td>roger [us]</td>\n",
              "      <td>714</td>\n",
              "    </tr>\n",
              "    <tr>\n",
              "      <th>910</th>\n",
              "      <td>ja mei! (des derf doch net sei)</td>\n",
              "      <td>relax [de]</td>\n",
              "      <td>596</td>\n",
              "    </tr>\n",
              "    <tr>\n",
              "      <th>986</th>\n",
              "      <td>l. a. goodbye</td>\n",
              "      <td>secret service [se]</td>\n",
              "      <td>1475</td>\n",
              "    </tr>\n",
              "    <tr>\n",
              "      <th>1172</th>\n",
              "      <td>mono</td>\n",
              "      <td>monotones [nl]</td>\n",
              "      <td>1050</td>\n",
              "    </tr>\n",
              "    <tr>\n",
              "      <th>1254</th>\n",
              "      <td>oh! susie</td>\n",
              "      <td>secret service [se]</td>\n",
              "      <td>2345</td>\n",
              "    </tr>\n",
              "    <tr>\n",
              "      <th>1364</th>\n",
              "      <td>puttin' on the ritz</td>\n",
              "      <td>taco [nl]</td>\n",
              "      <td>1572</td>\n",
              "    </tr>\n",
              "    <tr>\n",
              "      <th>1462</th>\n",
              "      <td>self control</td>\n",
              "      <td>raff [it]</td>\n",
              "      <td>1403</td>\n",
              "    </tr>\n",
              "    <tr>\n",
              "      <th>1477</th>\n",
              "      <td>shake it up</td>\n",
              "      <td>divine [us]</td>\n",
              "      <td>603</td>\n",
              "    </tr>\n",
              "    <tr>\n",
              "      <th>1502</th>\n",
              "      <td>shoot your shot</td>\n",
              "      <td>divine [us]</td>\n",
              "      <td>1430</td>\n",
              "    </tr>\n",
              "    <tr>\n",
              "      <th>1628</th>\n",
              "      <td>take me up</td>\n",
              "      <td>scotch [it]</td>\n",
              "      <td>981</td>\n",
              "    </tr>\n",
              "    <tr>\n",
              "      <th>1653</th>\n",
              "      <td>ten o'clock postman</td>\n",
              "      <td>secret service [se]</td>\n",
              "      <td>1906</td>\n",
              "    </tr>\n",
              "    <tr>\n",
              "      <th>1671</th>\n",
              "      <td>the caribbean disco show</td>\n",
              "      <td>lobo [nl]</td>\n",
              "      <td>851</td>\n",
              "    </tr>\n",
              "    <tr>\n",
              "      <th>1767</th>\n",
              "      <td>toccata</td>\n",
              "      <td>sky [uk]</td>\n",
              "      <td>1196</td>\n",
              "    </tr>\n",
              "    <tr>\n",
              "      <th>1870</th>\n",
              "      <td>wat?</td>\n",
              "      <td>willem [de]</td>\n",
              "      <td>533</td>\n",
              "    </tr>\n",
              "    <tr>\n",
              "      <th>1892</th>\n",
              "      <td>weil i di mog</td>\n",
              "      <td>relax [de]</td>\n",
              "      <td>1507</td>\n",
              "    </tr>\n",
              "    <tr>\n",
              "      <th>1986</th>\n",
              "      <td>ye-si-ca</td>\n",
              "      <td>secret service [se]</td>\n",
              "      <td>2042</td>\n",
              "    </tr>\n",
              "    <tr>\n",
              "      <th>2017</th>\n",
              "      <td>your heart keeps burning</td>\n",
              "      <td>blind date [de]</td>\n",
              "      <td>1056</td>\n",
              "    </tr>\n",
              "  </tbody>\n",
              "</table>\n",
              "</div>"
            ],
            "text/plain": [
              "                                 Song               Artist  Points\n",
              "64             all of me (boy oh boy)         sabrina [it]     841\n",
              "85                amoureux solitaires             lio [be]    1555\n",
              "100                      another life            kano [it]    1460\n",
              "187            boys (summertime love)         sabrina [it]    1444\n",
              "198              bridge to your heart             wax [uk]     614\n",
              "256                  change your mind            raff [it]     736\n",
              "314                        cry softly  secret service [se]     451\n",
              "351                      delirio mind          scotch [it]    1120\n",
              "390                        disco band          scotch [it]    1806\n",
              "480         ein weißes blatt'l papier           relax [de]     535\n",
              "568                flash in the night  secret service [se]    1102\n",
              "584                        fotonovela            ivan [es]    1116\n",
              "739                          hot girl         sabrina [it]     690\n",
              "799           i think we're alone now         tiffany [us]    1340\n",
              "804             i want to be your man           roger [us]     714\n",
              "910   ja mei! (des derf doch net sei)           relax [de]     596\n",
              "986                     l. a. goodbye  secret service [se]    1475\n",
              "1172                             mono       monotones [nl]    1050\n",
              "1254                        oh! susie  secret service [se]    2345\n",
              "1364              puttin' on the ritz            taco [nl]    1572\n",
              "1462                     self control            raff [it]    1403\n",
              "1477                      shake it up          divine [us]     603\n",
              "1502                  shoot your shot          divine [us]    1430\n",
              "1628                       take me up          scotch [it]     981\n",
              "1653              ten o'clock postman  secret service [se]    1906\n",
              "1671         the caribbean disco show            lobo [nl]     851\n",
              "1767                          toccata             sky [uk]    1196\n",
              "1870                             wat?          willem [de]     533\n",
              "1892                    weil i di mog           relax [de]    1507\n",
              "1986                         ye-si-ca  secret service [se]    2042\n",
              "2017         your heart keeps burning      blind date [de]    1056"
            ]
          },
          "execution_count": 26,
          "metadata": {},
          "output_type": "execute_result"
        }
      ],
      "source": [
        "chart_power_df_explode[chart_power_df_explode[\"Artist\"].str.contains(\"\\[\")]"
      ]
    },
    {
      "cell_type": "markdown",
      "id": "1Hmkpe8Y4ovp",
      "metadata": {
        "id": "1Hmkpe8Y4ovp"
      },
      "source": [
        "Weiterhin ist hinter einigen Künstlern das Herukunftsland in eckigen Klammern gekennzeichnet. Dies muss ebenfalls entfernet werden, da diese andernfalls nicht von der Spotify API gefunden werden."
      ]
    },
    {
      "cell_type": "code",
      "execution_count": 27,
      "id": "nunIxhtV7VwX",
      "metadata": {
        "id": "nunIxhtV7VwX"
      },
      "outputs": [],
      "source": [
        "pattern = r' \\[.*?\\]'\n",
        "chart_power_df_explode[\"Artist\"] = chart_power_df_explode[\"Artist\"].str.replace(pattern, '',regex=True)"
      ]
    },
    {
      "cell_type": "code",
      "execution_count": 28,
      "id": "9UGCM34i7gP_",
      "metadata": {
        "colab": {
          "base_uri": "https://localhost:8080/",
          "height": 53
        },
        "id": "9UGCM34i7gP_",
        "outputId": "673fdb39-ddf4-4dd7-9a57-1482f619eb20"
      },
      "outputs": [
        {
          "data": {
            "text/html": [
              "<div>\n",
              "<style scoped>\n",
              "    .dataframe tbody tr th:only-of-type {\n",
              "        vertical-align: middle;\n",
              "    }\n",
              "\n",
              "    .dataframe tbody tr th {\n",
              "        vertical-align: top;\n",
              "    }\n",
              "\n",
              "    .dataframe thead th {\n",
              "        text-align: right;\n",
              "    }\n",
              "</style>\n",
              "<table border=\"1\" class=\"dataframe\">\n",
              "  <thead>\n",
              "    <tr style=\"text-align: right;\">\n",
              "      <th></th>\n",
              "      <th>Song</th>\n",
              "      <th>Artist</th>\n",
              "      <th>Points</th>\n",
              "    </tr>\n",
              "  </thead>\n",
              "  <tbody>\n",
              "  </tbody>\n",
              "</table>\n",
              "</div>"
            ],
            "text/plain": [
              "Empty DataFrame\n",
              "Columns: [Song, Artist, Points]\n",
              "Index: []"
            ]
          },
          "execution_count": 28,
          "metadata": {},
          "output_type": "execute_result"
        }
      ],
      "source": [
        "chart_power_df_explode[chart_power_df_explode[\"Artist\"].str.contains(\"\\[\")]"
      ]
    },
    {
      "cell_type": "code",
      "execution_count": 29,
      "id": "1Cp6_5IdIOau",
      "metadata": {
        "colab": {
          "base_uri": "https://localhost:8080/"
        },
        "id": "1Cp6_5IdIOau",
        "outputId": "753072f4-c834-427f-e194-be8322adc606"
      },
      "outputs": [
        {
          "data": {
            "text/plain": [
              "944"
            ]
          },
          "execution_count": 29,
          "metadata": {},
          "output_type": "execute_result"
        }
      ],
      "source": [
        "len(chart_power_df_explode[\"Artist\"].unique())"
      ]
    },
    {
      "cell_type": "code",
      "execution_count": 30,
      "id": "6d4523e7",
      "metadata": {},
      "outputs": [],
      "source": [
        "import time\n",
        "\n",
        "def sp_request(req, retries, max_retries, *args):\n",
        "  try:\n",
        "    call_api()\n",
        "    return req(*args)\n",
        "  except Exception as e:\n",
        "    if isinstance(e, spotipy.exceptions.SpotifyException) and e.http_status == 429:\n",
        "      # Handle rate limiting (HTTP 429)\n",
        "      if retries < max_retries:\n",
        "          sleep_time = exponential_backoff(retries)\n",
        "          print(f\"Rate limited, waiting for {sleep_time} seconds before retrying...\")\n",
        "          time.sleep(sleep_time)\n",
        "          retries += 1\n",
        "          return sp_request(req, retries, max_retries, *args)\n",
        "      else:\n",
        "          print(\"Max retries reached, exiting...\")\n",
        "    else:\n",
        "      print(f\"An error occurred: {e}\")\n",
        "      retries += 1\n",
        "      return sp_request(req, retries, max_retries, *args)\n",
        "\n",
        "# Define a function for exponential backoff\n",
        "def exponential_backoff(retries):\n",
        "    return 2 ** retries"
      ]
    },
    {
      "cell_type": "code",
      "execution_count": 42,
      "id": "xqvBU-fOJKTl",
      "metadata": {
        "id": "xqvBU-fOJKTl"
      },
      "outputs": [],
      "source": [
        "def filter_track_features(track, features, genre):\n",
        "    '''\n",
        "    Filters the relevant features of a track in returns them in JSON object.\n",
        "\n",
        "    Parameter\n",
        "    ---------\n",
        "    track: Object\n",
        "        Track returend by the spotify API\n",
        "\n",
        "    genre: string\n",
        "        Genre that should be used\n",
        "\n",
        "    Return\n",
        "    ------\n",
        "    relevant_features: Object\n",
        "        JSON Object that contains the relevant featues\n",
        "    '''\n",
        "\n",
        "    external_ids = track['external_ids'] if 'external_ids' in track else {}\n",
        "    isrc = external_ids['isrc'] if 'isrc' in external_ids else np.nan\n",
        "    artist_names = []\n",
        "\n",
        "    if 'artists' in track and isinstance(track['artists'],list):\n",
        "        for artist in track['artists']:\n",
        "            if 'name' in artist:\n",
        "                artist_names.append(artist['name'])\n",
        "        artist_names = ','.join(artist_names)\n",
        "    else:\n",
        "        artist_names = np.nan\n",
        "            \n",
        "\n",
        "\n",
        "    if 'album' in track:\n",
        "        album = track['album']['name'] if 'name' in track['album'] else np.nan\n",
        "        release_date = track['album']['release_date'] if 'release_date' in track['album'] else np.nan\n",
        "        release_date_precision = track['album']['release_date_precision'] if 'release_date_precision' in track['album'] else np.nan\n",
        "    else:\n",
        "         album = np.nan\n",
        "         release_date = np.nan\n",
        "         release_date_precision = np.nan\n",
        "\n",
        "\n",
        "    track_name = track['name'] if 'name' in track else np.nan\n",
        "    if track_name != np.nan and artist_names != np.nan:\n",
        "        points = chart_power_df_explode.loc[(chart_power_df_explode.Song == track_name.lower()) & (chart_power_df_explode.Artist.str.contains(artist_names.lower()))]['Points']\n",
        "        if points.empty:\n",
        "             points = np.nan\n",
        "        else:\n",
        "            try:\n",
        "                points = int(points)\n",
        "            except Exception as e:\n",
        "                print(e)\n",
        "                print(track_name)\n",
        "                print(artist_names)\n",
        "                print(points)\n",
        "                print(\"-------\")\n",
        "    else:\n",
        "         points = np.nan\n",
        "\n",
        "    return {\n",
        "        'name': track_name,\n",
        "        'artists': artist_names,\n",
        "        'album': album,\n",
        "        'release_date': release_date,\n",
        "        'release_date_precision': release_date_precision,\n",
        "        'spotify_id': track['id'] if 'id' in track else np.nan,\n",
        "        'chart_power': points,\n",
        "        'uri': track['uri'] if 'uri' in track else np.nan,\n",
        "        'popularity': track['popularity'] if 'popularity' in track else np.nan,\n",
        "        'genres': np.nan if genre == False else genre,\n",
        "        'danceability': features['danceability'] if 'danceability' in features else np.nan,\n",
        "        'energy': features['energy'] if 'energy' in features else np.nan,\n",
        "        'key': features['key'] if 'key' in features else np.nan,\n",
        "        'loudness': features['loudness'] if 'loudness' in features else np.nan,\n",
        "        'mode': features['mode'] if 'mode' in features else np.nan,\n",
        "        'speechiness': features['speechiness'] if 'speechiness' in features else np.nan,\n",
        "        'acousticness': features['acousticness'] if 'acousticness' in features else np.nan,\n",
        "        'instrumentalness': features['instrumentalness'] if 'instrumentalness' in features else np.nan,\n",
        "        'liveness': features['liveness'] if 'liveness' in features else np.nan,\n",
        "        'valence': features['valence'] if 'valence' in features else np.nan,\n",
        "        'tempo': features['tempo'] if 'tempo' in features else np.nan,\n",
        "        'duration_ms': features['duration_ms'] if 'duration_ms' in features else np.nan,\n",
        "        'time_signature': features['time_signature'] if 'time_signature' in features else np.nan,\n",
        "        'isrc': isrc,\n",
        "    }"
      ]
    },
    {
      "cell_type": "code",
      "execution_count": 32,
      "id": "WmdEhgeeFw7y",
      "metadata": {
        "id": "WmdEhgeeFw7y"
      },
      "outputs": [],
      "source": [
        "def get_number_of_tracks(release_year, artist, genre):\n",
        "    '''\n",
        "    Retrieves the number of tracks the spotfiy API returns for a specific query.\n",
        "    '''\n",
        "    if genre == False:\n",
        "      result = sp_request(lambda release_year, artist: sp.search(q=f'year:{release_year} artist:{artist}', type='track', limit=1, offset=0, market='DE'), 0, 100, release_year, artist)\n",
        "    else:\n",
        "      result = sp_request(lambda release_year, artist, genre: sp.search(q=f'year:{release_year} artist:{artist} genre:{genre}', type='track', limit=1, offset=0, market='DE'), 0, 100, release_year, artist, genre)\n",
        "\n",
        "    tracks = result['tracks'] if 'tracks' in result else ''\n",
        "    return tracks['total'] if 'total' in tracks else 0"
      ]
    },
    {
      "cell_type": "code",
      "execution_count": 25,
      "id": "ed2zqIflNBmu",
      "metadata": {
        "id": "ed2zqIflNBmu"
      },
      "outputs": [],
      "source": [
        "genres = ['chicago-house', 'hard-rock', 'rock', 'power-pop', 'guitar', 'hardcore',\n",
        "          'groove', 'songwriter', 'garage', 'disco', 'grunge', 'ambient',\n",
        "          'minimal-techno', 'brazil', 'indie', 'detroit-techno', 'electronic',\n",
        "          'edm', 'dubstep', 'children', 'drum-and-bass', 'indian', 'death-metal',\n",
        "          'club', 'salsa', 'bluegrass', 'metal', 'reggae', 'tango', 'black-metal',\n",
        "          'british', 'german', 'punk', 'reggaeton', 'alternative', 'soul', 'r-n-b',\n",
        "          'goth', 'pop-film', 'breakbeat', 'indie-pop', 'heavy-metal', 'dance',\n",
        "          'honky-tonk', 'dancehall', 'dub', 'singer-songwriter', 'spanish',\n",
        "          'deep-house', 'rock-n-roll', 'techno', 'hip-hop', 'punk-rock', 'industrial',\n",
        "          'afrobeat', 'trip-hop', 'funk', 'blues', 'swedish', 'latino', 'alt-rock',\n",
        "          'country', 'acoustic', 'trance', 'grindcore', 'ska', 'house', 'progressive-house',\n",
        "          'new-age', 'electro', 'rockabilly', 'party', 'pop', 'synth-pop', 'latin',\n",
        "          'psych-rock']"
      ]
    },
    {
      "cell_type": "code",
      "execution_count": null,
      "id": "O-BgiLVNEEIB",
      "metadata": {
        "id": "O-BgiLVNEEIB"
      },
      "outputs": [],
      "source": [
        "artist_over_1000 = []\n",
        "df = pd.DataFrame()\n",
        "with tqdm(total=len(genres)*len(chart_power_df_explode[\"Artist\"].unique())) as pbar:\n",
        "  for artist in chart_power_df_explode[\"Artist\"].unique():\n",
        "    for genre in genres:\n",
        "      total_results = get_number_of_tracks(\"1980-1989\", artist, genre)\n",
        "      if total_results < 1000:\n",
        "        offset = 0\n",
        "        while offset < total_results:\n",
        "          try:\n",
        "            track_features = []\n",
        "            call_api()\n",
        "            result = sp.search(q=f\"year:1980-1989 artist:{artist} genre:{genre}\", type=\"track\", limit=50, offset=offset, market=\"DE\")\n",
        "            tracks = result[\"tracks\"] if \"tracks\" in result else \"\"\n",
        "            if \"items\" in tracks:\n",
        "              for track in tracks[\"items\"]:\n",
        "                features = filter_track_features(track, genre)\n",
        "                track_features.append(features)\n",
        "              offset += 50\n",
        "              df = pd.concat([df, pd.DataFrame(track_features)], ignore_index=True)\n",
        "              df.to_scv\n",
        "            else:\n",
        "              continue\n",
        "          except Exception as e:\n",
        "            print(e)\n",
        "      else:\n",
        "        print(f\"Artist {artist} has published over 1000 songs in the 80s\")\n",
        "        artist_over_1000.append(artist)\n",
        "\n",
        "      pbar.update(1)\n",
        "      df.to_csv(f\"{PATH}/data-new.csv\")"
      ]
    },
    {
      "cell_type": "code",
      "execution_count": 39,
      "id": "6d2f396b",
      "metadata": {},
      "outputs": [
        {
          "data": {
            "text/plain": [
              "array(['caroline loeb', 'hoffmann', 'goombay dance band', 'heart',\n",
              "       'erste allgemeine verunsicherung', 'prince', 'pet shop boys',\n",
              "       'niko', 'g. g. anderson', 'gianna nannini', 'holly johnson',\n",
              "       'andreas martin', 'lio', 'klaus', 'the whispers', 'madonna',\n",
              "       'wet wet wet', 'frank duval', 'juice newton', 'helen schneider',\n",
              "       'trio', 'pink floyd', 'kano', 'robin gibb', 'michael jackson',\n",
              "       'talk talk', 'adam', 'the ants', 'b.v.s.m.p.', 'hot chocolate',\n",
              "       'billy ocean', 'silver pozzoli', 'nino de angelo',\n",
              "       'modern talking', 'blondie', 'roxy music', 'harold faltermeyer',\n",
              "       'flash', 'the pan', 'france gall', 'smokie', 'kate bush',\n",
              "       'milli vanilli', 'rod stewart', 'alisha', 'soul ii soul',\n",
              "       'den harrow', 'miami sound machine', 'wham!', 'boney m.',\n",
              "       'francesco napoli', 'the twins', 'chico chico', 'gipsy kings',\n",
              "       'the boomtown rats', 'b.a. robertson', 'the bangles',\n",
              "       'bette midler', 'bomb the bass', 'the human league',\n",
              "       'geier sturzflug', 'kim carnes', 'dr. hook', 'kajagoogoo',\n",
              "       'ellis, beggs', 'howard', 'boy george', 'alphaville',\n",
              "       'robbie nevil', 'ted herold', 'peter, sue', 'marc',\n",
              "       'münchener freiheit', 'james last', 'die ärzte', 'patto',\n",
              "       'big fun', 'living in a box', 'new order', 'two of us',\n",
              "       'rainbirds', 'styx', 'frank zappa', 'mike krüger', 'maria vidal',\n",
              "       'joboxers', 'mandy', 'the cure', 'the jeremy days',\n",
              "       'matthew wilder', 'tracey ullman', 'electric boogie men',\n",
              "       'sean tyla', 'swing out sister', 'wax', 'mixed emotions',\n",
              "       'edelweiss', 'marianne faithfull', 'chris norman', 'mr. mister',\n",
              "       'malcolm mclaren', \"the world's famous supreme team\",\n",
              "       'neneh cherry', 'bap', 'antonello venditti', 'the gap band',\n",
              "       'survivor', 'matchbox', 'bläck fööss', 'roy orbison', 'yello',\n",
              "       'spagna', 'kim wilde', 'stan ridgway', 'iron maiden',\n",
              "       'jack goldbird', 'reo speedwagon', 'eddy grant', 'village people',\n",
              "       'boys town gang', 'new edition', 'the housemartins', 'spliff',\n",
              "       'inga', 'anete humpe', 'mysterious art', 'cliff richard', 'europe',\n",
              "       'aretha franklin', 'real life', 'billy idol', \"t'pau\", 'womack',\n",
              "       'rick springfield', 'kool', 'the gang', 'martinelli',\n",
              "       'the j. geils band', 'raff', 'alan price', '16 bit',\n",
              "       'ennio morricone', 'barclay james harvest', 'fancy',\n",
              "       'culture club', 'geoffrey williams', 'belinda carlisle',\n",
              "       'william pitt', 'döf', 'moti special', 'fun fun',\n",
              "       'raggio di luna (moon ray)', 'mental as anything', 'paul young',\n",
              "       'joyce sims', 'chilly',\n",
              "       'dexys midnight runners with the emerald express', 'falco',\n",
              "       'paul mccartney', 'the shorts', 'paso doble', 'hongkong syndikat',\n",
              "       'bob marley', 'the wailers', 'kenny rogers', 'ottawan',\n",
              "       'mike oldfield', 'joan jett', 'the blackhearts',\n",
              "       \"alexander o'neal\", 'jan hammer', 'sinitta', 'eighth wonder',\n",
              "       'tracy chapman', 'bananarama', 'secret service', 'glenn medeiros',\n",
              "       'frank zander', 'wang chung', \"electronica's\",\n",
              "       \"terence trent d'arby\", 'doris d.', 'the pins', 'nik kershaw',\n",
              "       'mick jagger', 'inker', 'hamilton', 'ultravox', 'kenny loggins',\n",
              "       'jürgen von der lippe', 'tommy steiner', 'manuel', 'pony',\n",
              "       'kraftwerk', 'tangerine dream', 'rheingold', 'the kelly family',\n",
              "       'the police', 'heinz rudolf kunze', 'scotch', 'peter alexander',\n",
              "       'karat', 'hannes kröger', 'wolfgang petry', 'ixi', 'achim reichel',\n",
              "       'paola', 'kim merz', 'truck stop', 'andy gibb', 'roni griffith',\n",
              "       'u2', 'amanda lear', 'roland kaiser', 'whitney houston',\n",
              "       'gitte haenning', 'heike schäfer', 'rodgau monotones', 'mini pigs',\n",
              "       'die flippers', 'kiz', 'hans hartz', 'peter schilling',\n",
              "       'the blow monkeys', 'george kranz', 'pink project', 'maywood',\n",
              "       'captain', 'tennille', 'redhead kingpin', 'the fbi', 'band aid',\n",
              "       'a la carte', 'jermaine jackson', 'samantha fox',\n",
              "       'patrick cowley feat. sylvester', 'thompson twins', 'coldcut',\n",
              "       'the timelords', 'ryan paris', 'the alan parsons project',\n",
              "       'crowded house', 'hothouse flowers', 'yazoo', 'the communards',\n",
              "       'fine young cannibals', 'lorraine', 'chris de burgh',\n",
              "       'leon haywood', 'midnight star', 'jermaine stewart', 'blancmange',\n",
              "       'aswad', 'four tops', 'gloria estefan', 'bobby mcferrin',\n",
              "       'joe cocker', 'nicole j. mccloud', 'shakatak', 'level 42',\n",
              "       'men at work', 'petula clark', 'rififi', 'propaganda', 'helloween',\n",
              "       'p. lion', 'nazareth', 'status quo', 'juliane werding', 'roxette',\n",
              "       'the cars', 'bros', 'peter cornelius', 'milva', 'peter maffay',\n",
              "       'the bee gees', 'nick kamen', 'mink deville', 'ice mc',\n",
              "       'philip bailey', 'stevie wonder', 'nicole', 'fehlfarben', 'relax',\n",
              "       'karel gott', 'hubert kah', 'grauzone', 'ideal', 'michael holm',\n",
              "       'debbie gibson', 'off', 'the rolling stones', 'jürgen marcus',\n",
              "       'heino', 'angelika milster', 'howard carpendale', 'kylie minogue',\n",
              "       'jason donovan', 'sweet people', 'guesch patti',\n",
              "       'johnny hates jazz', 'poison', 'tears for fears', 'black',\n",
              "       'gregory abbott', 'pete townshend', 'pierre cosso', 'visage',\n",
              "       'darinka', 'lian ross', 'tight fit', 'frank stallone',\n",
              "       'steve arrington', 'kelly marie', 'al bano', 'romina power',\n",
              "       'conny', 'jean',\n",
              "       'the christians, holly johnson, paul mccartney, gerry marsden',\n",
              "       'stock aitken waterman', 'stephan', 'nina',\n",
              "       'fairground attraction', 'marietta', 'hot shot', 'earth', 'fire',\n",
              "       'orlando riva sound', 'robin beck', 'elton john', 'irene cara',\n",
              "       'opus', 'david hasselhoff', 'sheena easton', 'peter kent',\n",
              "       'paula abdul', 'ivan', 'die doraus', 'die marinas',\n",
              "       'will to power', 'roy black', \"honesty '69\", \"lil' louis\",\n",
              "       'tone loc', 'fleetwood mac', 'lipps inc.', 'wind', 'sts',\n",
              "       'udo jürgens', 'ofra haza', 'peter gabriel', 'mezzoforte',\n",
              "       'hanne haller', 'bruce', 'bongo', 'tone band', 'valerie dore',\n",
              "       'ray parker jr.', 'helga feddersen', 'abba', 't.x.t.', 'pebbles',\n",
              "       'sophia george', 'cyndi lauper', 'kc and the sunshine band',\n",
              "       'the teens', 'shannon', 'john lennon and the plastic ono band',\n",
              "       'umberto tozzi', 'peter cetera', 'the winners', 'eruption',\n",
              "       'odyssey', 'spandau ballet', 'joachim witt', 'adam ant',\n",
              "       'george harrison', 'masquerade', 'barbra streisand', 'barry gibb',\n",
              "       'dschinghis khan', 'matt bianco', 'tommy piper singt alf',\n",
              "       'stefan waggershausen', 'nickerbocker', 'biene', 'koreana',\n",
              "       'breathe', 'device', 'chicago', 'quarterflash', 'pepsi', 'shirlie',\n",
              "       'don johnson', 'dionne warwick', 'asia', 'ac/dc', 'bryan adams',\n",
              "       'la na nee nee noo noo', 'the flirts', 'gottlieb wendehals',\n",
              "       'eurythmics', 'dominoe', 'whitesnake', 'drafi deutscher',\n",
              "       'dusty springfield', 'icehouse', 'karel fialka', 's-express',\n",
              "       'howard jones', 'die toten hosen', 'evelyn thomas', 'laid back',\n",
              "       'rupert holmes', 'spargo', 'mai tai', 'bronski beat', 'frl. menke',\n",
              "       'johnny logan', 'the other ones', 'mc miker g', 'dj sven',\n",
              "       'the royal philharmonic orchestra (rpo)', 'udo lindenberg',\n",
              "       'krush', 'eric carmen', 'a-ha', 'extrabreit', 'my mine',\n",
              "       'gloria gaynor', 'kon kan', 'tina turner', 'nu shooz', 'tim curry',\n",
              "       'precious wilson', 'donna summer', 'texas', 'animotion',\n",
              "       'marc almond', 'ub40', 'chrissie hynde',\n",
              "       'michael jackson with siedah garrett', 'frida', 'gazebo',\n",
              "       'eartha kitt', 'tina charles', 'a flock of seagulls',\n",
              "       'jim diamond', 'tiffany', 'huey lewis', 'the news', 'roger',\n",
              "       'foreigner', 'boris gardiner', 'transvision vamp',\n",
              "       'freddie mercury', 'kiss', 'glen goldsmith', 'ph.d.',\n",
              "       'agnetha fältskog', 'nicki', 'taylor dayne', 'jon', 'vangelis',\n",
              "       'bruce springsteen', 'peter griffin', 'grace jones', 'freeez',\n",
              "       'ibo', 'beagle music ltd.', 'neue heimat', 'peter petrel',\n",
              "       'marianne rosenberg', 'clowns', 'helden', 'spider murphy gang',\n",
              "       'markus', 'ukw', 'bernhard brink', 'christian franke', 'cher',\n",
              "       'midge ure', 'sydney youngblood', 'simply red', 'joe dolce',\n",
              "       'bernie paul', 'pete bardens', 'arabesque', 'the nits',\n",
              "       'round one', 'marillion', 'pat benatar', 'cock robin',\n",
              "       'jürgen drews', 'stephanie', 'm.a.r.r.s.', 'dave stewart',\n",
              "       'barbara gaskin', 'supertramp', 'run dmc',\n",
              "       'fred sonnenschein und seine freunde', 'hithouse',\n",
              "       'barbara dickson', 'andrea jürgens', 'aneka', 'amii stewart',\n",
              "       'greg kihn band', 'club nouveau', 'vanessa paradis',\n",
              "       'haysi fantayzee', 'robert palmer', 'peter tosh', 'lena valaitis',\n",
              "       'mandy winter', 'daniel', 'van halen', 'pointer sisters',\n",
              "       'stacy lattisaw', 'imagination', 'the s.o.s. band',\n",
              "       'tony esposito', 'gänsehaut', 'steinwolke',\n",
              "       'soul ii soul feat. caron wheeler', 'stephan remmler', 'lou',\n",
              "       'hollywood bananas', 'the revolution',\n",
              "       'the art of noise feat. tom jones', \"stephen 'tin tin' duffy\",\n",
              "       'purple schulz', 'the beach boys', 'toto cutugno', 'los lobos',\n",
              "       'nana mouskouri', 'mary roos und david hanselmann', 'max him',\n",
              "       'mike batt', 'kaoma', 'haindling', 'indeep', 'ferry aid',\n",
              "       'oran \"juice\" jones', 'pia zadora', 'deniece williams',\n",
              "       'janet jackson', 'steve allen', 'gladys knight', 'soulsister',\n",
              "       'berlin', 'ace cats', 'audrey landers', 'bon jovi', 'james brown',\n",
              "       'trans-x', 'london boys', 'traks', 'big country', 'liza minnelli',\n",
              "       'jona lewie', 'king', 'climie fisher', 'limahl', 'camouflage',\n",
              "       'sade', 'killing joke', 'thomas anders', 'mike mareen',\n",
              "       'blue system', 'booker newberry iii', 'ingrid kup',\n",
              "       'dead or alive', 'ricchi e poveri', 'rainhard fendrich',\n",
              "       'olivia newton-john', 'bucks fizz', 'loretta goggi', 'suzi quatro',\n",
              "       'daryl hall', 'john oates', \"g'race\", 'michael sembello',\n",
              "       'the hornettes', 'silicon dream', 'gibson brothers',\n",
              "       'olsen brothers', 'rocco', 'the carnations', 'fischer-z',\n",
              "       'garland jeffreys', 'thom pace', 'de la soul', 'leinemann',\n",
              "       'alice', 'natalie cole', 'bonnie bianco', 'john waite',\n",
              "       'emmylou harris', 'dire straits', 'monotones', 'phil carmen',\n",
              "       'leo sayer', 'nina simone', 'owen paul', 'guillermo marchena',\n",
              "       'slade', 'bobby brown', 'savage progress', 'denise lasalle',\n",
              "       'helmut frey', 'band für afrika', 'inxs', 'ina deter band',\n",
              "       'rick astley', 'the assembly', 'trio rio', 'grandmaster flash',\n",
              "       'the furious five', 'tony holiday', 'trude herr', 'the commodores',\n",
              "       'juan pardo', 'the stranglers', 'righeira', 'lady lily',\n",
              "       'alan sorrenti', 'claudia mori', 'the jacksons', 'starship',\n",
              "       'hannes schöner', 'dollar', 'ready for the world', 'o.k.',\n",
              "       'michael schanze und die fußball-nationalmannschaft', 'bogart',\n",
              "       'patti labelle', 'michael mcdonald', 'barrabas', 'murray head',\n",
              "       'keith marshall', 'the flying pickets', \"luv'\", 'clout', 'enya',\n",
              "       'anne clark', 'madness', 'gary moore', 'phil lynott', 'yes', 'p4f',\n",
              "       'the jonzun crew', 'eric b.', 'rakim', 'costa cordalis',\n",
              "       'the art of noise', 'max headroom', 'eddie murphy',\n",
              "       'musical youth', 'original naabtal duo', 'sandy marton',\n",
              "       'coldcut feat. lisa stansfield',\n",
              "       'the art of noise feat. duane eddy', 'f.r. david',\n",
              "       'mike oldfield feat. aled jones, anita hegerland', 'barry palmer',\n",
              "       'charlie dore', 'out of the ordinary', 'united balls',\n",
              "       'alice cooper', 'fox the fox', 'alvin stardust', 'hypnosis',\n",
              "       'technotronic feat. felly', 'dieter hallervorden', \"salt 'n' pepa\",\n",
              "       'annie lennox', 'al green', 'delegation', 'taco',\n",
              "       'frankie goes to hollywood', 'max werner', 'joe bataan',\n",
              "       'the sugarhill gang', 'giorgio moroder', 'paul engemann',\n",
              "       'jody watley', 'richard sanderson', 'jackie wilson',\n",
              "       'showaddywaddy', 'wolfgang fierek', 'mel', 'kim', 'debarge',\n",
              "       'black box', 'the pasadenas', 'richard marx', 'talking heads',\n",
              "       'tommi ohrner', 'johnny nash', 'herbie hancock', 'tony carey',\n",
              "       'mac band', 'alan and denise', 'timex social club', 'the fools',\n",
              "       'sting', 'david christie', 'michael cretu',\n",
              "       'george baker selection', 'oliver onions', 'renee', 'renato',\n",
              "       'soft cell', 'jule neigel band',\n",
              "       'purple schulz und die neue heimat', 'laura branigan',\n",
              "       'the adventures', 'sensus', 'marvin gaye', 'westernhagen',\n",
              "       'mike oldfield and roger chapman', 'divine',\n",
              "       \"salt 'n' pepa feat. e.u.\", 'lee marrow', 'les mckeown',\n",
              "       'patrick swayze', 'wendy fraser', 'cameo', 'fritz brause', 'mike',\n",
              "       'the mechanics', 'sally oldfield', 'bryan ferry', 'miquel brown',\n",
              "       'ashford', 'simpson', 'luisa fernandez', 'telly savalas',\n",
              "       'the power station', 'rockwell', 'glass tiger', 'june lodge',\n",
              "       'prince mohammed', 'marc almond feat. gene pitney',\n",
              "       'the beautiful south', 'sheila b. devotion', 'doctor',\n",
              "       'the medics', 'al corley', 'john parr', 'far corporation',\n",
              "       'stevie nicks', 'ben e. king', 'yazz', 'stars on 45',\n",
              "       'the jacksons with mick jagger', 'joe jackson', 'scorpions',\n",
              "       'the brothers johnson', 'sam brown', 'tullio de piscopo',\n",
              "       'silent circle', 'coldcut feat. junior reid', 'toni childs',\n",
              "       'riccardo fogli', 'break machine', 'alf', 'pupo', 'racey',\n",
              "       'artists united against apartheid', 'corey hart', 'tony christie',\n",
              "       'jive bunny', 'the mastermixers', 'tracie spencer', 'five star',\n",
              "       'marti webb', 'the romantics', 'baltimora', 'jawoll', 'bolland',\n",
              "       'pussycat', 'heaven 17', 'ten city', 'friends',\n",
              "       'tolga flim flam balkan', 'don henley', 'double', 'lobo',\n",
              "       'chris thompson', 'gary bird', 'the g.b. experience',\n",
              "       'cheap trick', 'brother beyond', 'whodini', 'glenn frey',\n",
              "       'david cassidy', 'abc', 'the plastic population', 'exile',\n",
              "       'the buggles', 're-flex', 'men without hats',\n",
              "       'engelbert humperdinck',\n",
              "       'fat boys with stupid def vocals by chubby checker',\n",
              "       'bruce hornsby', 'the range', 'first patrol', 'rachel sweet',\n",
              "       'pil', 'david bowie and the pat metheny group', 'lisa stansfield',\n",
              "       'bob geldof', 'matia bazar', 'christian bruhn', 'rocky burnette',\n",
              "       'willie nelson', 'mel brooks',\n",
              "       'mike oldfield (vocals: maggie reilly)', 'sky', 'mireille mathieu',\n",
              "       'patrick duffy', 'joy', 'martika', 'lindsey buckingham',\n",
              "       'wolf maahn und unterstützung', 'moses p.', 'tanita tikaram',\n",
              "       'stacey q.', 'eddy huntington', 'lee majors', 'billy joel',\n",
              "       'stephan sulke', 'vicky leandros', 'desireless', 'robert howard',\n",
              "       'kym mazelle', 'boy meets girl', 'endgames',\n",
              "       'run dmc feat. aerosmith', 'katrina', 'the waves',\n",
              "       'the bootzilla orchestra', 'willem', 'usa for africa',\n",
              "       'd. mob feat. gary haisman', 'go west', 'picnic at the whitehouse',\n",
              "       'wee papa girl rappers', 'ingrid peters', 'rex gildo',\n",
              "       'louis armstrong', 'hollywood beyond', 'hazell dean',\n",
              "       'albert hammond', 'warning', 'mike anthony', 'die schlümpfe',\n",
              "       'saga', 'china crisis', 'chris roberts', 'eroc', 'sam cooke',\n",
              "       'video kids', 'the detroit spinners', 'captain sensible', 'pascal',\n",
              "       'mory kante', 'boytronic', 'heidi brühl', 'al hudson', 'partners',\n",
              "       'the real thing', 'sonia', 'blind date', 'zaza', 'schrott nach 8',\n",
              "       'rolf und seine freunde'], dtype=object)"
            ]
          },
          "execution_count": 39,
          "metadata": {},
          "output_type": "execute_result"
        }
      ],
      "source": [
        "chart_power_df_explode[\"Artist\"].unique()[66:]"
      ]
    },
    {
      "cell_type": "code",
      "execution_count": 46,
      "id": "otKnrfm0I-ca",
      "metadata": {
        "id": "otKnrfm0I-ca"
      },
      "outputs": [
        {
          "name": "stderr",
          "output_type": "stream",
          "text": [
            "  0%|          | 2/944 [00:01<10:49,  1.45it/s]"
          ]
        },
        {
          "name": "stdout",
          "output_type": "stream",
          "text": [
            "deborah sasson not found!\n"
          ]
        },
        {
          "name": "stderr",
          "output_type": "stream",
          "text": [
            "  1%|          | 8/944 [00:03<05:03,  3.09it/s]"
          ]
        },
        {
          "name": "stdout",
          "output_type": "stream",
          "text": [
            "o.m.d. not found!\n",
            "the rock steady crew not found!\n"
          ]
        },
        {
          "name": "stderr",
          "output_type": "stream",
          "text": [
            "  1%|▏         | 14/944 [00:09<09:13,  1.68it/s]"
          ]
        },
        {
          "name": "stdout",
          "output_type": "stream",
          "text": [
            "klaus lage band not found!\n"
          ]
        },
        {
          "name": "stderr",
          "output_type": "stream",
          "text": [
            "  2%|▏         | 21/944 [00:35<52:58,  3.44s/it]  /var/folders/t4/w1slb7fj5kg0tc41jhrm3zx00000gn/T/ipykernel_3572/720617964.py:45: UserWarning:\n",
            "\n",
            "This pattern is interpreted as a regular expression, and has match groups. To actually get the groups, use str.extract.\n",
            "\n",
            "  3%|▎         | 33/944 [01:06<17:48,  1.17s/it]  /var/folders/t4/w1slb7fj5kg0tc41jhrm3zx00000gn/T/ipykernel_3572/720617964.py:45: UserWarning:\n",
            "\n",
            "This pattern is interpreted as a regular expression, and has match groups. To actually get the groups, use str.extract.\n",
            "\n",
            "  4%|▎         | 34/944 [01:09<28:33,  1.88s/it]"
          ]
        },
        {
          "name": "stdout",
          "output_type": "stream",
          "text": [
            "nick straker band not found!\n"
          ]
        },
        {
          "name": "stderr",
          "output_type": "stream",
          "text": [
            "  4%|▍         | 39/944 [01:12<12:21,  1.22it/s]"
          ]
        },
        {
          "name": "stdout",
          "output_type": "stream",
          "text": [
            "katja ebstein not found!\n"
          ]
        },
        {
          "name": "stderr",
          "output_type": "stream",
          "text": [
            "  5%|▍         | 46/944 [01:39<26:18,  1.76s/it]  "
          ]
        },
        {
          "name": "stdout",
          "output_type": "stream",
          "text": [
            "saragossa band not found!\n"
          ]
        },
        {
          "name": "stderr",
          "output_type": "stream",
          "text": [
            "  7%|▋         | 70/944 [02:37<40:37,  2.79s/it]  /var/folders/t4/w1slb7fj5kg0tc41jhrm3zx00000gn/T/ipykernel_3572/720617964.py:45: UserWarning:\n",
            "\n",
            "This pattern is interpreted as a regular expression, and has match groups. To actually get the groups, use str.extract.\n",
            "\n",
            "  8%|▊         | 71/944 [02:38<31:28,  2.16s/it]"
          ]
        },
        {
          "name": "stdout",
          "output_type": "stream",
          "text": [
            "No features\n",
            "None\n",
            "{'album': {'album_type': 'album', 'artists': [{'external_urls': {'spotify': 'https://open.spotify.com/artist/2PWX2JF4qnFzwWkZaAd9Xc'}, 'href': 'https://api.spotify.com/v1/artists/2PWX2JF4qnFzwWkZaAd9Xc', 'id': '2PWX2JF4qnFzwWkZaAd9Xc', 'name': 'Rage Of The Heart - Original Cast', 'type': 'artist', 'uri': 'spotify:artist:2PWX2JF4qnFzwWkZaAd9Xc'}], 'external_urls': {'spotify': 'https://open.spotify.com/album/35lBMfJZEVeHQip1NrB5FE'}, 'href': 'https://api.spotify.com/v1/albums/35lBMfJZEVeHQip1NrB5FE', 'id': '35lBMfJZEVeHQip1NrB5FE', 'images': [{'height': 640, 'url': 'https://i.scdn.co/image/ab67616d0000b273ec271ae47f2ae49b397d9983', 'width': 640}, {'height': 300, 'url': 'https://i.scdn.co/image/ab67616d00001e02ec271ae47f2ae49b397d9983', 'width': 300}, {'height': 64, 'url': 'https://i.scdn.co/image/ab67616d00004851ec271ae47f2ae49b397d9983', 'width': 64}], 'is_playable': True, 'name': 'Rage of the Heart (Original Cast Recordings)', 'release_date': '1989-12-31', 'release_date_precision': 'day', 'total_tracks': 26, 'type': 'album', 'uri': 'spotify:album:35lBMfJZEVeHQip1NrB5FE'}, 'artists': [{'external_urls': {'spotify': 'https://open.spotify.com/artist/2PWX2JF4qnFzwWkZaAd9Xc'}, 'href': 'https://api.spotify.com/v1/artists/2PWX2JF4qnFzwWkZaAd9Xc', 'id': '2PWX2JF4qnFzwWkZaAd9Xc', 'name': 'Rage Of The Heart - Original Cast', 'type': 'artist', 'uri': 'spotify:artist:2PWX2JF4qnFzwWkZaAd9Xc'}], 'disc_number': 1, 'duration_ms': 212333, 'explicit': False, 'external_ids': {'isrc': 'GBBKB8922513'}, 'external_urls': {'spotify': 'https://open.spotify.com/track/7rgILluEuzSSoNMK8uzT2E'}, 'href': 'https://api.spotify.com/v1/tracks/7rgILluEuzSSoNMK8uzT2E', 'id': '7rgILluEuzSSoNMK8uzT2E', 'is_local': False, 'is_playable': True, 'name': \"Don't Turn Away\", 'popularity': 0, 'preview_url': 'https://p.scdn.co/mp3-preview/8f3f7c7426b4f1fdddc627d20481fad813332914?cid=34a31ed56a084e15b0d7079dd3aa77bf', 'track_number': 13, 'type': 'track', 'uri': 'spotify:track:7rgILluEuzSSoNMK8uzT2E'}\n"
          ]
        },
        {
          "name": "stderr",
          "output_type": "stream",
          "text": [
            "/var/folders/t4/w1slb7fj5kg0tc41jhrm3zx00000gn/T/ipykernel_3572/720617964.py:45: UserWarning:\n",
            "\n",
            "This pattern is interpreted as a regular expression, and has match groups. To actually get the groups, use str.extract.\n",
            "\n",
            "  8%|▊         | 73/944 [03:00<1:46:05,  7.31s/it]"
          ]
        },
        {
          "name": "stdout",
          "output_type": "stream",
          "text": [
            "Artist niko has published over 1000 songs in the 80s\n"
          ]
        },
        {
          "name": "stderr",
          "output_type": "stream",
          "text": [
            "  8%|▊         | 79/944 [03:06<35:41,  2.48s/it]  "
          ]
        },
        {
          "name": "stdout",
          "output_type": "stream",
          "text": [
            "No features\n",
            "None\n",
            "{'album': {'album_type': 'album', 'artists': [{'external_urls': {'spotify': 'https://open.spotify.com/artist/4qh5oq5v8gn2XE0GPQPWgG'}, 'href': 'https://api.spotify.com/v1/artists/4qh5oq5v8gn2XE0GPQPWgG', 'id': '4qh5oq5v8gn2XE0GPQPWgG', 'name': 'Klaus Egge', 'type': 'artist', 'uri': 'spotify:artist:4qh5oq5v8gn2XE0GPQPWgG'}, {'external_urls': {'spotify': 'https://open.spotify.com/artist/5cp6B8bMNsXdQKgE6exdzx'}, 'href': 'https://api.spotify.com/v1/artists/5cp6B8bMNsXdQKgE6exdzx', 'id': '5cp6B8bMNsXdQKgE6exdzx', 'name': 'Oslo Philharmonic Orchestra', 'type': 'artist', 'uri': 'spotify:artist:5cp6B8bMNsXdQKgE6exdzx'}, {'external_urls': {'spotify': 'https://open.spotify.com/artist/0ipRJxdaQdszI3lmbYBUuR'}, 'href': 'https://api.spotify.com/v1/artists/0ipRJxdaQdszI3lmbYBUuR', 'id': '0ipRJxdaQdszI3lmbYBUuR', 'name': 'László Varga', 'type': 'artist', 'uri': 'spotify:artist:0ipRJxdaQdszI3lmbYBUuR'}, {'external_urls': {'spotify': 'https://open.spotify.com/artist/1U5wedeP45gAqJidIokqjL'}, 'href': 'https://api.spotify.com/v1/artists/1U5wedeP45gAqJidIokqjL', 'id': '1U5wedeP45gAqJidIokqjL', 'name': 'Sixten Ehrling', 'type': 'artist', 'uri': 'spotify:artist:1U5wedeP45gAqJidIokqjL'}], 'external_urls': {'spotify': 'https://open.spotify.com/album/3WX8T1Lf73QpWUybVuz0rg'}, 'href': 'https://api.spotify.com/v1/albums/3WX8T1Lf73QpWUybVuz0rg', 'id': '3WX8T1Lf73QpWUybVuz0rg', 'images': [{'height': 640, 'url': 'https://i.scdn.co/image/ab67616d0000b273762a64352ea01e49cbbe84d4', 'width': 640}, {'height': 300, 'url': 'https://i.scdn.co/image/ab67616d00001e02762a64352ea01e49cbbe84d4', 'width': 300}, {'height': 64, 'url': 'https://i.scdn.co/image/ab67616d00004851762a64352ea01e49cbbe84d4', 'width': 64}], 'is_playable': True, 'name': 'Egge: Concerto For Cello And Orchestra, Symphony No. 2, Symphony No. 4', 'release_date': '1988', 'release_date_precision': 'year', 'total_tracks': 7, 'type': 'album', 'uri': 'spotify:album:3WX8T1Lf73QpWUybVuz0rg'}, 'artists': [{'external_urls': {'spotify': 'https://open.spotify.com/artist/4qh5oq5v8gn2XE0GPQPWgG'}, 'href': 'https://api.spotify.com/v1/artists/4qh5oq5v8gn2XE0GPQPWgG', 'id': '4qh5oq5v8gn2XE0GPQPWgG', 'name': 'Klaus Egge', 'type': 'artist', 'uri': 'spotify:artist:4qh5oq5v8gn2XE0GPQPWgG'}, {'external_urls': {'spotify': 'https://open.spotify.com/artist/5cp6B8bMNsXdQKgE6exdzx'}, 'href': 'https://api.spotify.com/v1/artists/5cp6B8bMNsXdQKgE6exdzx', 'id': '5cp6B8bMNsXdQKgE6exdzx', 'name': 'Oslo Philharmonic Orchestra', 'type': 'artist', 'uri': 'spotify:artist:5cp6B8bMNsXdQKgE6exdzx'}, {'external_urls': {'spotify': 'https://open.spotify.com/artist/0ipRJxdaQdszI3lmbYBUuR'}, 'href': 'https://api.spotify.com/v1/artists/0ipRJxdaQdszI3lmbYBUuR', 'id': '0ipRJxdaQdszI3lmbYBUuR', 'name': 'László Varga', 'type': 'artist', 'uri': 'spotify:artist:0ipRJxdaQdszI3lmbYBUuR'}, {'external_urls': {'spotify': 'https://open.spotify.com/artist/1U5wedeP45gAqJidIokqjL'}, 'href': 'https://api.spotify.com/v1/artists/1U5wedeP45gAqJidIokqjL', 'id': '1U5wedeP45gAqJidIokqjL', 'name': 'Sixten Ehrling', 'type': 'artist', 'uri': 'spotify:artist:1U5wedeP45gAqJidIokqjL'}], 'disc_number': 1, 'duration_ms': 382040, 'explicit': False, 'external_ids': {'isrc': 'NOLFA5816020'}, 'external_urls': {'spotify': 'https://open.spotify.com/track/4ZIqCk6QyGE5ea7oCWD0Tv'}, 'href': 'https://api.spotify.com/v1/tracks/4ZIqCk6QyGE5ea7oCWD0Tv', 'id': '4ZIqCk6QyGE5ea7oCWD0Tv', 'is_local': False, 'is_playable': True, 'name': 'Concerto For Cello & Orchestra: 3rd Movement', 'popularity': 0, 'preview_url': 'https://p.scdn.co/mp3-preview/819b221edea725f98436d2541fcda7376eddbeac?cid=34a31ed56a084e15b0d7079dd3aa77bf', 'track_number': 2, 'type': 'track', 'uri': 'spotify:track:4ZIqCk6QyGE5ea7oCWD0Tv'}\n"
          ]
        },
        {
          "name": "stderr",
          "output_type": "stream",
          "text": [
            "  9%|▉         | 87/944 [03:37<19:16,  1.35s/it]  "
          ]
        },
        {
          "name": "stdout",
          "output_type": "stream",
          "text": [
            "Artist trio has published over 1000 songs in the 80s\n"
          ]
        },
        {
          "name": "stderr",
          "output_type": "stream",
          "text": [
            " 10%|▉         | 93/944 [03:42<15:08,  1.07s/it]"
          ]
        },
        {
          "name": "stdout",
          "output_type": "stream",
          "text": [
            "Artist adam has published over 1000 songs in the 80s\n"
          ]
        },
        {
          "name": "stderr",
          "output_type": "stream",
          "text": [
            " 10%|█         | 97/944 [04:02<36:26,  2.58s/it]  "
          ]
        },
        {
          "name": "stdout",
          "output_type": "stream",
          "text": [
            "silver pozzoli not found!\n"
          ]
        },
        {
          "name": "stderr",
          "output_type": "stream",
          "text": [
            " 13%|█▎        | 121/944 [05:00<1:21:21,  5.93s/it]"
          ]
        },
        {
          "name": "stdout",
          "output_type": "stream",
          "text": [
            "b.a. robertson not found!\n"
          ]
        },
        {
          "name": "stderr",
          "output_type": "stream",
          "text": [
            "/var/folders/t4/w1slb7fj5kg0tc41jhrm3zx00000gn/T/ipykernel_3572/720617964.py:45: UserWarning:\n",
            "\n",
            "This pattern is interpreted as a regular expression, and has match groups. To actually get the groups, use str.extract.\n",
            "\n",
            " 13%|█▎        | 126/944 [05:03<25:03,  1.84s/it]  "
          ]
        },
        {
          "name": "stdout",
          "output_type": "stream",
          "text": [
            "geier sturzflug not found!\n"
          ]
        },
        {
          "name": "stderr",
          "output_type": "stream",
          "text": [
            " 14%|█▍        | 130/944 [05:05<12:18,  1.10it/s]"
          ]
        },
        {
          "name": "stdout",
          "output_type": "stream",
          "text": [
            "ellis, beggs not found!\n",
            "No features\n",
            "None\n",
            "{'album': {'album_type': 'album', 'artists': [{'external_urls': {'spotify': 'https://open.spotify.com/artist/0OcclcP5o8VKH2TRqSY2A7'}, 'href': 'https://api.spotify.com/v1/artists/0OcclcP5o8VKH2TRqSY2A7', 'id': '0OcclcP5o8VKH2TRqSY2A7', 'name': 'Howard Shore', 'type': 'artist', 'uri': 'spotify:artist:0OcclcP5o8VKH2TRqSY2A7'}], 'external_urls': {'spotify': 'https://open.spotify.com/album/70BBBusFBozMNg95VkNAhQ'}, 'href': 'https://api.spotify.com/v1/albums/70BBBusFBozMNg95VkNAhQ', 'id': '70BBBusFBozMNg95VkNAhQ', 'images': [{'height': 640, 'url': 'https://i.scdn.co/image/ab67616d0000b27340a9ea303db6b413cd44e829', 'width': 640}, {'height': 300, 'url': 'https://i.scdn.co/image/ab67616d00001e0240a9ea303db6b413cd44e829', 'width': 300}, {'height': 64, 'url': 'https://i.scdn.co/image/ab67616d0000485140a9ea303db6b413cd44e829', 'width': 64}], 'is_playable': True, 'name': 'Videodrome (The Complete Restored Score)', 'release_date': '1983', 'release_date_precision': 'year', 'total_tracks': 17, 'type': 'album', 'uri': 'spotify:album:70BBBusFBozMNg95VkNAhQ'}, 'artists': [{'external_urls': {'spotify': 'https://open.spotify.com/artist/0OcclcP5o8VKH2TRqSY2A7'}, 'href': 'https://api.spotify.com/v1/artists/0OcclcP5o8VKH2TRqSY2A7', 'id': '0OcclcP5o8VKH2TRqSY2A7', 'name': 'Howard Shore', 'type': 'artist', 'uri': 'spotify:artist:0OcclcP5o8VKH2TRqSY2A7'}], 'disc_number': 1, 'duration_ms': 11906, 'explicit': False, 'external_ids': {'isrc': 'USQ4E2100941'}, 'external_urls': {'spotify': 'https://open.spotify.com/track/2Tnt8qClHWwPhai4zEsrRg'}, 'href': 'https://api.spotify.com/v1/tracks/2Tnt8qClHWwPhai4zEsrRg', 'id': '2Tnt8qClHWwPhai4zEsrRg', 'is_local': False, 'is_playable': True, 'name': 'Spectacular Optical', 'popularity': 0, 'preview_url': 'https://p.scdn.co/mp3-preview/5d329557d612c7111febae997fe3e2a868bf4820?cid=34a31ed56a084e15b0d7079dd3aa77bf', 'track_number': 11, 'type': 'track', 'uri': 'spotify:track:2Tnt8qClHWwPhai4zEsrRg'}\n"
          ]
        },
        {
          "name": "stderr",
          "output_type": "stream",
          "text": [
            " 14%|█▍        | 135/944 [05:13<15:55,  1.18s/it]"
          ]
        },
        {
          "name": "stdout",
          "output_type": "stream",
          "text": [
            "ted herold not found!\n"
          ]
        },
        {
          "name": "stderr",
          "output_type": "stream",
          "text": [
            " 15%|█▍        | 138/944 [05:30<44:08,  3.29s/it]"
          ]
        },
        {
          "name": "stdout",
          "output_type": "stream",
          "text": [
            "Artist marc has published over 1000 songs in the 80s\n"
          ]
        },
        {
          "name": "stderr",
          "output_type": "stream",
          "text": [
            " 16%|█▌        | 150/944 [06:02<1:26:36,  6.54s/it]"
          ]
        },
        {
          "name": "stdout",
          "output_type": "stream",
          "text": [
            "No features\n",
            "None\n",
            "{'album': {'album_type': 'album', 'artists': [{'external_urls': {'spotify': 'https://open.spotify.com/artist/0tahGtnmu4Jg9pNt7xzO9z'}, 'href': 'https://api.spotify.com/v1/artists/0tahGtnmu4Jg9pNt7xzO9z', 'id': '0tahGtnmu4Jg9pNt7xzO9z', 'name': 'Mike Krüger', 'type': 'artist', 'uri': 'spotify:artist:0tahGtnmu4Jg9pNt7xzO9z'}], 'external_urls': {'spotify': 'https://open.spotify.com/album/0mdZySh8IuYVAy8sZfkfDX'}, 'href': 'https://api.spotify.com/v1/albums/0mdZySh8IuYVAy8sZfkfDX', 'id': '0mdZySh8IuYVAy8sZfkfDX', 'images': [{'height': 640, 'url': 'https://i.scdn.co/image/ab67616d0000b2732f4d0e4f2da55866270180a3', 'width': 640}, {'height': 300, 'url': 'https://i.scdn.co/image/ab67616d00001e022f4d0e4f2da55866270180a3', 'width': 300}, {'height': 64, 'url': 'https://i.scdn.co/image/ab67616d000048512f4d0e4f2da55866270180a3', 'width': 64}], 'is_playable': True, 'name': '120 Schweine nach Beirut (Remastered 2022)', 'release_date': '1984-01-01', 'release_date_precision': 'day', 'total_tracks': 26, 'type': 'album', 'uri': 'spotify:album:0mdZySh8IuYVAy8sZfkfDX'}, 'artists': [{'external_urls': {'spotify': 'https://open.spotify.com/artist/0tahGtnmu4Jg9pNt7xzO9z'}, 'href': 'https://api.spotify.com/v1/artists/0tahGtnmu4Jg9pNt7xzO9z', 'id': '0tahGtnmu4Jg9pNt7xzO9z', 'name': 'Mike Krüger', 'type': 'artist', 'uri': 'spotify:artist:0tahGtnmu4Jg9pNt7xzO9z'}], 'disc_number': 1, 'duration_ms': 12956, 'explicit': False, 'external_ids': {'isrc': 'DEEG22198496'}, 'external_urls': {'spotify': 'https://open.spotify.com/track/3aushh7DUcTQT87exj6Qxp'}, 'href': 'https://api.spotify.com/v1/tracks/3aushh7DUcTQT87exj6Qxp', 'id': '3aushh7DUcTQT87exj6Qxp', 'is_local': False, 'is_playable': True, 'name': 'Flugzeug Absage - Remastered 2022', 'popularity': 0, 'preview_url': 'https://p.scdn.co/mp3-preview/5b72e33906b81f3831c4b3828f5acb7d89dc7764?cid=34a31ed56a084e15b0d7079dd3aa77bf', 'track_number': 6, 'type': 'track', 'uri': 'spotify:track:3aushh7DUcTQT87exj6Qxp'}\n",
            "No features\n",
            "None\n",
            "{'album': {'album_type': 'album', 'artists': [{'external_urls': {'spotify': 'https://open.spotify.com/artist/0tahGtnmu4Jg9pNt7xzO9z'}, 'href': 'https://api.spotify.com/v1/artists/0tahGtnmu4Jg9pNt7xzO9z', 'id': '0tahGtnmu4Jg9pNt7xzO9z', 'name': 'Mike Krüger', 'type': 'artist', 'uri': 'spotify:artist:0tahGtnmu4Jg9pNt7xzO9z'}], 'external_urls': {'spotify': 'https://open.spotify.com/album/2aT5VpQQ8atpFyyECq9r0Z'}, 'href': 'https://api.spotify.com/v1/albums/2aT5VpQQ8atpFyyECq9r0Z', 'id': '2aT5VpQQ8atpFyyECq9r0Z', 'images': [{'height': 640, 'url': 'https://i.scdn.co/image/ab67616d0000b273d0d786c99dd8f50f16026654', 'width': 640}, {'height': 300, 'url': 'https://i.scdn.co/image/ab67616d00001e02d0d786c99dd8f50f16026654', 'width': 300}, {'height': 64, 'url': 'https://i.scdn.co/image/ab67616d00004851d0d786c99dd8f50f16026654', 'width': 64}], 'is_playable': True, 'name': 'Morgens 1x, mittags 2x, nachts so oft es geht (Live - Remastered 2022)', 'release_date': '1982-01-01', 'release_date_precision': 'day', 'total_tracks': 21, 'type': 'album', 'uri': 'spotify:album:2aT5VpQQ8atpFyyECq9r0Z'}, 'artists': [{'external_urls': {'spotify': 'https://open.spotify.com/artist/0tahGtnmu4Jg9pNt7xzO9z'}, 'href': 'https://api.spotify.com/v1/artists/0tahGtnmu4Jg9pNt7xzO9z', 'id': '0tahGtnmu4Jg9pNt7xzO9z', 'name': 'Mike Krüger', 'type': 'artist', 'uri': 'spotify:artist:0tahGtnmu4Jg9pNt7xzO9z'}], 'disc_number': 1, 'duration_ms': 11808, 'explicit': False, 'external_ids': {'isrc': 'DEEG22198426'}, 'external_urls': {'spotify': 'https://open.spotify.com/track/06jSIa8RmsfSPTz4yPuq4H'}, 'href': 'https://api.spotify.com/v1/tracks/06jSIa8RmsfSPTz4yPuq4H', 'id': '06jSIa8RmsfSPTz4yPuq4H', 'is_local': False, 'is_playable': True, 'name': 'Propeller-Gäg - Live - Remastered 2022', 'popularity': 0, 'preview_url': 'https://p.scdn.co/mp3-preview/2e08c64b2fdffb9d27a51b23d919fb838dca99f0?cid=34a31ed56a084e15b0d7079dd3aa77bf', 'track_number': 17, 'type': 'track', 'uri': 'spotify:track:06jSIa8RmsfSPTz4yPuq4H'}\n",
            "No features\n",
            "None\n",
            "{'album': {'album_type': 'album', 'artists': [{'external_urls': {'spotify': 'https://open.spotify.com/artist/0tahGtnmu4Jg9pNt7xzO9z'}, 'href': 'https://api.spotify.com/v1/artists/0tahGtnmu4Jg9pNt7xzO9z', 'id': '0tahGtnmu4Jg9pNt7xzO9z', 'name': 'Mike Krüger', 'type': 'artist', 'uri': 'spotify:artist:0tahGtnmu4Jg9pNt7xzO9z'}], 'external_urls': {'spotify': 'https://open.spotify.com/album/2aT5VpQQ8atpFyyECq9r0Z'}, 'href': 'https://api.spotify.com/v1/albums/2aT5VpQQ8atpFyyECq9r0Z', 'id': '2aT5VpQQ8atpFyyECq9r0Z', 'images': [{'height': 640, 'url': 'https://i.scdn.co/image/ab67616d0000b273d0d786c99dd8f50f16026654', 'width': 640}, {'height': 300, 'url': 'https://i.scdn.co/image/ab67616d00001e02d0d786c99dd8f50f16026654', 'width': 300}, {'height': 64, 'url': 'https://i.scdn.co/image/ab67616d00004851d0d786c99dd8f50f16026654', 'width': 64}], 'is_playable': True, 'name': 'Morgens 1x, mittags 2x, nachts so oft es geht (Live - Remastered 2022)', 'release_date': '1982-01-01', 'release_date_precision': 'day', 'total_tracks': 21, 'type': 'album', 'uri': 'spotify:album:2aT5VpQQ8atpFyyECq9r0Z'}, 'artists': [{'external_urls': {'spotify': 'https://open.spotify.com/artist/0tahGtnmu4Jg9pNt7xzO9z'}, 'href': 'https://api.spotify.com/v1/artists/0tahGtnmu4Jg9pNt7xzO9z', 'id': '0tahGtnmu4Jg9pNt7xzO9z', 'name': 'Mike Krüger', 'type': 'artist', 'uri': 'spotify:artist:0tahGtnmu4Jg9pNt7xzO9z'}], 'disc_number': 1, 'duration_ms': 13125, 'explicit': False, 'external_ids': {'isrc': 'DEEG22198428'}, 'external_urls': {'spotify': 'https://open.spotify.com/track/1VblVeNdecnWwAjPrxef5T'}, 'href': 'https://api.spotify.com/v1/tracks/1VblVeNdecnWwAjPrxef5T', 'id': '1VblVeNdecnWwAjPrxef5T', 'is_local': False, 'is_playable': True, 'name': 'Italien-Gäg - Live - Remastered 2022', 'popularity': 0, 'preview_url': 'https://p.scdn.co/mp3-preview/a5cde1279c56f0548f409d54b8c1ffecb0fbde1a?cid=34a31ed56a084e15b0d7079dd3aa77bf', 'track_number': 19, 'type': 'track', 'uri': 'spotify:track:1VblVeNdecnWwAjPrxef5T'}\n",
            "No features\n",
            "None\n",
            "{'album': {'album_type': 'album', 'artists': [{'external_urls': {'spotify': 'https://open.spotify.com/artist/0tahGtnmu4Jg9pNt7xzO9z'}, 'href': 'https://api.spotify.com/v1/artists/0tahGtnmu4Jg9pNt7xzO9z', 'id': '0tahGtnmu4Jg9pNt7xzO9z', 'name': 'Mike Krüger', 'type': 'artist', 'uri': 'spotify:artist:0tahGtnmu4Jg9pNt7xzO9z'}], 'external_urls': {'spotify': 'https://open.spotify.com/album/0mdZySh8IuYVAy8sZfkfDX'}, 'href': 'https://api.spotify.com/v1/albums/0mdZySh8IuYVAy8sZfkfDX', 'id': '0mdZySh8IuYVAy8sZfkfDX', 'images': [{'height': 640, 'url': 'https://i.scdn.co/image/ab67616d0000b2732f4d0e4f2da55866270180a3', 'width': 640}, {'height': 300, 'url': 'https://i.scdn.co/image/ab67616d00001e022f4d0e4f2da55866270180a3', 'width': 300}, {'height': 64, 'url': 'https://i.scdn.co/image/ab67616d000048512f4d0e4f2da55866270180a3', 'width': 64}], 'is_playable': True, 'name': '120 Schweine nach Beirut (Remastered 2022)', 'release_date': '1984-01-01', 'release_date_precision': 'day', 'total_tracks': 26, 'type': 'album', 'uri': 'spotify:album:0mdZySh8IuYVAy8sZfkfDX'}, 'artists': [{'external_urls': {'spotify': 'https://open.spotify.com/artist/0tahGtnmu4Jg9pNt7xzO9z'}, 'href': 'https://api.spotify.com/v1/artists/0tahGtnmu4Jg9pNt7xzO9z', 'id': '0tahGtnmu4Jg9pNt7xzO9z', 'name': 'Mike Krüger', 'type': 'artist', 'uri': 'spotify:artist:0tahGtnmu4Jg9pNt7xzO9z'}], 'disc_number': 1, 'duration_ms': 6701, 'explicit': False, 'external_ids': {'isrc': 'DEEG22198512'}, 'external_urls': {'spotify': 'https://open.spotify.com/track/5ZJf0BaqG9SCOXeX2qFi8S'}, 'href': 'https://api.spotify.com/v1/tracks/5ZJf0BaqG9SCOXeX2qFi8S', 'id': '5ZJf0BaqG9SCOXeX2qFi8S', 'is_local': False, 'is_playable': True, 'name': 'Quickborn Werbefunk 1 - Remastered 2022', 'popularity': 0, 'preview_url': 'https://p.scdn.co/mp3-preview/0e0f2d34c545589b52ad0830b9ed5a822d8b9917?cid=34a31ed56a084e15b0d7079dd3aa77bf', 'track_number': 7, 'type': 'track', 'uri': 'spotify:track:5ZJf0BaqG9SCOXeX2qFi8S'}\n",
            "No features\n",
            "None\n",
            "{'album': {'album_type': 'album', 'artists': [{'external_urls': {'spotify': 'https://open.spotify.com/artist/0tahGtnmu4Jg9pNt7xzO9z'}, 'href': 'https://api.spotify.com/v1/artists/0tahGtnmu4Jg9pNt7xzO9z', 'id': '0tahGtnmu4Jg9pNt7xzO9z', 'name': 'Mike Krüger', 'type': 'artist', 'uri': 'spotify:artist:0tahGtnmu4Jg9pNt7xzO9z'}], 'external_urls': {'spotify': 'https://open.spotify.com/album/0mdZySh8IuYVAy8sZfkfDX'}, 'href': 'https://api.spotify.com/v1/albums/0mdZySh8IuYVAy8sZfkfDX', 'id': '0mdZySh8IuYVAy8sZfkfDX', 'images': [{'height': 640, 'url': 'https://i.scdn.co/image/ab67616d0000b2732f4d0e4f2da55866270180a3', 'width': 640}, {'height': 300, 'url': 'https://i.scdn.co/image/ab67616d00001e022f4d0e4f2da55866270180a3', 'width': 300}, {'height': 64, 'url': 'https://i.scdn.co/image/ab67616d000048512f4d0e4f2da55866270180a3', 'width': 64}], 'is_playable': True, 'name': '120 Schweine nach Beirut (Remastered 2022)', 'release_date': '1984-01-01', 'release_date_precision': 'day', 'total_tracks': 26, 'type': 'album', 'uri': 'spotify:album:0mdZySh8IuYVAy8sZfkfDX'}, 'artists': [{'external_urls': {'spotify': 'https://open.spotify.com/artist/0tahGtnmu4Jg9pNt7xzO9z'}, 'href': 'https://api.spotify.com/v1/artists/0tahGtnmu4Jg9pNt7xzO9z', 'id': '0tahGtnmu4Jg9pNt7xzO9z', 'name': 'Mike Krüger', 'type': 'artist', 'uri': 'spotify:artist:0tahGtnmu4Jg9pNt7xzO9z'}], 'disc_number': 1, 'duration_ms': 10920, 'explicit': False, 'external_ids': {'isrc': 'DEEG22198507'}, 'external_urls': {'spotify': 'https://open.spotify.com/track/75bj6OaMXIIzshJPzIMTQf'}, 'href': 'https://api.spotify.com/v1/tracks/75bj6OaMXIIzshJPzIMTQf', 'id': '75bj6OaMXIIzshJPzIMTQf', 'is_local': False, 'is_playable': True, 'name': 'Pasch - Remastered 2022', 'popularity': 0, 'preview_url': 'https://p.scdn.co/mp3-preview/d2438fa6464b9a6d2aaa1cea2d9c39b4913f2af7?cid=34a31ed56a084e15b0d7079dd3aa77bf', 'track_number': 10, 'type': 'track', 'uri': 'spotify:track:75bj6OaMXIIzshJPzIMTQf'}\n",
            "No features\n",
            "None\n",
            "{'album': {'album_type': 'album', 'artists': [{'external_urls': {'spotify': 'https://open.spotify.com/artist/0tahGtnmu4Jg9pNt7xzO9z'}, 'href': 'https://api.spotify.com/v1/artists/0tahGtnmu4Jg9pNt7xzO9z', 'id': '0tahGtnmu4Jg9pNt7xzO9z', 'name': 'Mike Krüger', 'type': 'artist', 'uri': 'spotify:artist:0tahGtnmu4Jg9pNt7xzO9z'}], 'external_urls': {'spotify': 'https://open.spotify.com/album/5fIbIBpqQrUvKNAJ1j6xSz'}, 'href': 'https://api.spotify.com/v1/albums/5fIbIBpqQrUvKNAJ1j6xSz', 'id': '5fIbIBpqQrUvKNAJ1j6xSz', 'images': [{'height': 640, 'url': 'https://i.scdn.co/image/ab67616d0000b273d5bb22cc5628876c8b19e1a5', 'width': 640}, {'height': 300, 'url': 'https://i.scdn.co/image/ab67616d00001e02d5bb22cc5628876c8b19e1a5', 'width': 300}, {'height': 64, 'url': 'https://i.scdn.co/image/ab67616d00004851d5bb22cc5628876c8b19e1a5', 'width': 64}], 'is_playable': True, 'name': 'Unvergängliches Muster (Remastered)', 'release_date': '1987-01-01', 'release_date_precision': 'day', 'total_tracks': 18, 'type': 'album', 'uri': 'spotify:album:5fIbIBpqQrUvKNAJ1j6xSz'}, 'artists': [{'external_urls': {'spotify': 'https://open.spotify.com/artist/0tahGtnmu4Jg9pNt7xzO9z'}, 'href': 'https://api.spotify.com/v1/artists/0tahGtnmu4Jg9pNt7xzO9z', 'id': '0tahGtnmu4Jg9pNt7xzO9z', 'name': 'Mike Krüger', 'type': 'artist', 'uri': 'spotify:artist:0tahGtnmu4Jg9pNt7xzO9z'}], 'disc_number': 1, 'duration_ms': 13798, 'explicit': False, 'external_ids': {'isrc': 'DEEG22270836'}, 'external_urls': {'spotify': 'https://open.spotify.com/track/6CRtt0W3cxk0f40ZYeIKFu'}, 'href': 'https://api.spotify.com/v1/tracks/6CRtt0W3cxk0f40ZYeIKFu', 'id': '6CRtt0W3cxk0f40ZYeIKFu', 'is_local': False, 'is_playable': True, 'name': 'Brandy 2 - Remastered', 'popularity': 0, 'preview_url': 'https://p.scdn.co/mp3-preview/b4a796aa2331c46e58b5015ef8d95500cb8d292a?cid=34a31ed56a084e15b0d7079dd3aa77bf', 'track_number': 12, 'type': 'track', 'uri': 'spotify:track:6CRtt0W3cxk0f40ZYeIKFu'}\n",
            "No features\n",
            "None\n",
            "{'album': {'album_type': 'album', 'artists': [{'external_urls': {'spotify': 'https://open.spotify.com/artist/0tahGtnmu4Jg9pNt7xzO9z'}, 'href': 'https://api.spotify.com/v1/artists/0tahGtnmu4Jg9pNt7xzO9z', 'id': '0tahGtnmu4Jg9pNt7xzO9z', 'name': 'Mike Krüger', 'type': 'artist', 'uri': 'spotify:artist:0tahGtnmu4Jg9pNt7xzO9z'}], 'external_urls': {'spotify': 'https://open.spotify.com/album/4kligRd7pJ5cGO1hhkTsLw'}, 'href': 'https://api.spotify.com/v1/albums/4kligRd7pJ5cGO1hhkTsLw', 'id': '4kligRd7pJ5cGO1hhkTsLw', 'images': [{'height': 640, 'url': 'https://i.scdn.co/image/ab67616d0000b2738e6c0d90e9d9cf647f58c6b6', 'width': 640}, {'height': 300, 'url': 'https://i.scdn.co/image/ab67616d00001e028e6c0d90e9d9cf647f58c6b6', 'width': 300}, {'height': 64, 'url': 'https://i.scdn.co/image/ab67616d000048518e6c0d90e9d9cf647f58c6b6', 'width': 64}], 'is_playable': True, 'name': 'Spiegelei (Live - Remastered 2022)', 'release_date': '1986-01-01', 'release_date_precision': 'day', 'total_tracks': 23, 'type': 'album', 'uri': 'spotify:album:4kligRd7pJ5cGO1hhkTsLw'}, 'artists': [{'external_urls': {'spotify': 'https://open.spotify.com/artist/0tahGtnmu4Jg9pNt7xzO9z'}, 'href': 'https://api.spotify.com/v1/artists/0tahGtnmu4Jg9pNt7xzO9z', 'id': '0tahGtnmu4Jg9pNt7xzO9z', 'name': 'Mike Krüger', 'type': 'artist', 'uri': 'spotify:artist:0tahGtnmu4Jg9pNt7xzO9z'}], 'disc_number': 1, 'duration_ms': 14592, 'explicit': False, 'external_ids': {'isrc': 'DEEG22198535'}, 'external_urls': {'spotify': 'https://open.spotify.com/track/0hQtKHBt3PxVrKQP9QTx3m'}, 'href': 'https://api.spotify.com/v1/tracks/0hQtKHBt3PxVrKQP9QTx3m', 'id': '0hQtKHBt3PxVrKQP9QTx3m', 'is_local': False, 'is_playable': True, 'name': 'Bundeswehrspiel - Live - Remastered 2022', 'popularity': 0, 'preview_url': 'https://p.scdn.co/mp3-preview/9c98b48fe9ea249ad00b6d82401d5d055cd51ff6?cid=34a31ed56a084e15b0d7079dd3aa77bf', 'track_number': 20, 'type': 'track', 'uri': 'spotify:track:0hQtKHBt3PxVrKQP9QTx3m'}\n",
            "No features\n",
            "None\n",
            "{'album': {'album_type': 'album', 'artists': [{'external_urls': {'spotify': 'https://open.spotify.com/artist/0tahGtnmu4Jg9pNt7xzO9z'}, 'href': 'https://api.spotify.com/v1/artists/0tahGtnmu4Jg9pNt7xzO9z', 'id': '0tahGtnmu4Jg9pNt7xzO9z', 'name': 'Mike Krüger', 'type': 'artist', 'uri': 'spotify:artist:0tahGtnmu4Jg9pNt7xzO9z'}], 'external_urls': {'spotify': 'https://open.spotify.com/album/1dBF1XSInNKfN41mW0yJGj'}, 'href': 'https://api.spotify.com/v1/albums/1dBF1XSInNKfN41mW0yJGj', 'id': '1dBF1XSInNKfN41mW0yJGj', 'images': [{'height': 640, 'url': 'https://i.scdn.co/image/ab67616d0000b273b31ed0a71487135c7d7b1be0', 'width': 640}, {'height': 300, 'url': 'https://i.scdn.co/image/ab67616d00001e02b31ed0a71487135c7d7b1be0', 'width': 300}, {'height': 64, 'url': 'https://i.scdn.co/image/ab67616d00004851b31ed0a71487135c7d7b1be0', 'width': 64}], 'is_playable': True, 'name': 'Ua Ua Ua (Live [Remastered])', 'release_date': '1989-01-01', 'release_date_precision': 'day', 'total_tracks': 29, 'type': 'album', 'uri': 'spotify:album:1dBF1XSInNKfN41mW0yJGj'}, 'artists': [{'external_urls': {'spotify': 'https://open.spotify.com/artist/0tahGtnmu4Jg9pNt7xzO9z'}, 'href': 'https://api.spotify.com/v1/artists/0tahGtnmu4Jg9pNt7xzO9z', 'id': '0tahGtnmu4Jg9pNt7xzO9z', 'name': 'Mike Krüger', 'type': 'artist', 'uri': 'spotify:artist:0tahGtnmu4Jg9pNt7xzO9z'}], 'disc_number': 1, 'duration_ms': 9066, 'explicit': False, 'external_ids': {'isrc': 'DEEG22198642'}, 'external_urls': {'spotify': 'https://open.spotify.com/track/6tjejTSeWQA89eN4rDKNTR'}, 'href': 'https://api.spotify.com/v1/tracks/6tjejTSeWQA89eN4rDKNTR', 'id': '6tjejTSeWQA89eN4rDKNTR', 'is_local': False, 'is_playable': True, 'name': 'Stimmung Bleibt - Live [Remastered]', 'popularity': 0, 'preview_url': 'https://p.scdn.co/mp3-preview/c96296ad7880c4e5515eff7bddcfd5b54f2bc9c9?cid=34a31ed56a084e15b0d7079dd3aa77bf', 'track_number': 9, 'type': 'track', 'uri': 'spotify:track:6tjejTSeWQA89eN4rDKNTR'}\n",
            "No features\n",
            "None\n",
            "{'album': {'album_type': 'album', 'artists': [{'external_urls': {'spotify': 'https://open.spotify.com/artist/0tahGtnmu4Jg9pNt7xzO9z'}, 'href': 'https://api.spotify.com/v1/artists/0tahGtnmu4Jg9pNt7xzO9z', 'id': '0tahGtnmu4Jg9pNt7xzO9z', 'name': 'Mike Krüger', 'type': 'artist', 'uri': 'spotify:artist:0tahGtnmu4Jg9pNt7xzO9z'}], 'external_urls': {'spotify': 'https://open.spotify.com/album/0mdZySh8IuYVAy8sZfkfDX'}, 'href': 'https://api.spotify.com/v1/albums/0mdZySh8IuYVAy8sZfkfDX', 'id': '0mdZySh8IuYVAy8sZfkfDX', 'images': [{'height': 640, 'url': 'https://i.scdn.co/image/ab67616d0000b2732f4d0e4f2da55866270180a3', 'width': 640}, {'height': 300, 'url': 'https://i.scdn.co/image/ab67616d00001e022f4d0e4f2da55866270180a3', 'width': 300}, {'height': 64, 'url': 'https://i.scdn.co/image/ab67616d000048512f4d0e4f2da55866270180a3', 'width': 64}], 'is_playable': True, 'name': '120 Schweine nach Beirut (Remastered 2022)', 'release_date': '1984-01-01', 'release_date_precision': 'day', 'total_tracks': 26, 'type': 'album', 'uri': 'spotify:album:0mdZySh8IuYVAy8sZfkfDX'}, 'artists': [{'external_urls': {'spotify': 'https://open.spotify.com/artist/0tahGtnmu4Jg9pNt7xzO9z'}, 'href': 'https://api.spotify.com/v1/artists/0tahGtnmu4Jg9pNt7xzO9z', 'id': '0tahGtnmu4Jg9pNt7xzO9z', 'name': 'Mike Krüger', 'type': 'artist', 'uri': 'spotify:artist:0tahGtnmu4Jg9pNt7xzO9z'}], 'disc_number': 1, 'duration_ms': 11131, 'explicit': False, 'external_ids': {'isrc': 'DEEG22198502'}, 'external_urls': {'spotify': 'https://open.spotify.com/track/10MsYH30t2VCdZbVYGRKE5'}, 'href': 'https://api.spotify.com/v1/tracks/10MsYH30t2VCdZbVYGRKE5', 'id': '10MsYH30t2VCdZbVYGRKE5', 'is_local': False, 'is_playable': True, 'name': 'Küß Mich - Remastered 2022', 'popularity': 0, 'preview_url': 'https://p.scdn.co/mp3-preview/1a8b522d91659c3424175098174deb753220c4a7?cid=34a31ed56a084e15b0d7079dd3aa77bf', 'track_number': 15, 'type': 'track', 'uri': 'spotify:track:10MsYH30t2VCdZbVYGRKE5'}\n",
            "No features\n",
            "None\n",
            "{'album': {'album_type': 'album', 'artists': [{'external_urls': {'spotify': 'https://open.spotify.com/artist/0tahGtnmu4Jg9pNt7xzO9z'}, 'href': 'https://api.spotify.com/v1/artists/0tahGtnmu4Jg9pNt7xzO9z', 'id': '0tahGtnmu4Jg9pNt7xzO9z', 'name': 'Mike Krüger', 'type': 'artist', 'uri': 'spotify:artist:0tahGtnmu4Jg9pNt7xzO9z'}], 'external_urls': {'spotify': 'https://open.spotify.com/album/0mdZySh8IuYVAy8sZfkfDX'}, 'href': 'https://api.spotify.com/v1/albums/0mdZySh8IuYVAy8sZfkfDX', 'id': '0mdZySh8IuYVAy8sZfkfDX', 'images': [{'height': 640, 'url': 'https://i.scdn.co/image/ab67616d0000b2732f4d0e4f2da55866270180a3', 'width': 640}, {'height': 300, 'url': 'https://i.scdn.co/image/ab67616d00001e022f4d0e4f2da55866270180a3', 'width': 300}, {'height': 64, 'url': 'https://i.scdn.co/image/ab67616d000048512f4d0e4f2da55866270180a3', 'width': 64}], 'is_playable': True, 'name': '120 Schweine nach Beirut (Remastered 2022)', 'release_date': '1984-01-01', 'release_date_precision': 'day', 'total_tracks': 26, 'type': 'album', 'uri': 'spotify:album:0mdZySh8IuYVAy8sZfkfDX'}, 'artists': [{'external_urls': {'spotify': 'https://open.spotify.com/artist/0tahGtnmu4Jg9pNt7xzO9z'}, 'href': 'https://api.spotify.com/v1/artists/0tahGtnmu4Jg9pNt7xzO9z', 'id': '0tahGtnmu4Jg9pNt7xzO9z', 'name': 'Mike Krüger', 'type': 'artist', 'uri': 'spotify:artist:0tahGtnmu4Jg9pNt7xzO9z'}], 'disc_number': 1, 'duration_ms': 6877, 'explicit': False, 'external_ids': {'isrc': 'DEEG22198513'}, 'external_urls': {'spotify': 'https://open.spotify.com/track/386tjaEpYuaSlZBkfXq1JX'}, 'href': 'https://api.spotify.com/v1/tracks/386tjaEpYuaSlZBkfXq1JX', 'id': '386tjaEpYuaSlZBkfXq1JX', 'is_local': False, 'is_playable': True, 'name': 'Quickborn Werbefunk 2 - Remastered 2022', 'popularity': 0, 'preview_url': 'https://p.scdn.co/mp3-preview/4081168a4f8822951f13db60a0b127b2d622b79b?cid=34a31ed56a084e15b0d7079dd3aa77bf', 'track_number': 21, 'type': 'track', 'uri': 'spotify:track:386tjaEpYuaSlZBkfXq1JX'}\n"
          ]
        },
        {
          "name": "stderr",
          "output_type": "stream",
          "text": [
            " 16%|█▌        | 151/944 [06:02<1:01:52,  4.68s/it]"
          ]
        },
        {
          "name": "stdout",
          "output_type": "stream",
          "text": [
            "joboxers not found!\n"
          ]
        },
        {
          "name": "stderr",
          "output_type": "stream",
          "text": [
            " 18%|█▊        | 167/944 [06:30<54:56,  4.24s/it]  "
          ]
        },
        {
          "name": "stdout",
          "output_type": "stream",
          "text": [
            "the world's famous supreme team not found!\n"
          ]
        },
        {
          "name": "stderr",
          "output_type": "stream",
          "text": [
            " 19%|█▉        | 179/944 [07:04<46:35,  3.65s/it]  "
          ]
        },
        {
          "name": "stdout",
          "output_type": "stream",
          "text": [
            "stan ridgway not found!\n"
          ]
        },
        {
          "name": "stderr",
          "output_type": "stream",
          "text": [
            " 19%|█▉        | 181/944 [07:05<27:42,  2.18s/it]"
          ]
        },
        {
          "name": "stdout",
          "output_type": "stream",
          "text": [
            "jack goldbird not found!\n"
          ]
        },
        {
          "name": "stderr",
          "output_type": "stream",
          "text": [
            " 19%|█▉        | 183/944 [07:06<19:21,  1.53s/it]"
          ]
        },
        {
          "name": "stdout",
          "output_type": "stream",
          "text": [
            "eddy grant not found!\n"
          ]
        },
        {
          "name": "stderr",
          "output_type": "stream",
          "text": [
            " 20%|██        | 190/944 [07:11<10:39,  1.18it/s]"
          ]
        },
        {
          "name": "stdout",
          "output_type": "stream",
          "text": [
            "anete humpe not found!\n"
          ]
        },
        {
          "name": "stderr",
          "output_type": "stream",
          "text": [
            " 21%|██        | 197/944 [07:35<26:19,  2.12s/it]  "
          ]
        },
        {
          "name": "stdout",
          "output_type": "stream",
          "text": [
            "t'pau not found!\n"
          ]
        },
        {
          "name": "stderr",
          "output_type": "stream",
          "text": [
            " 21%|██        | 200/944 [07:36<14:56,  1.21s/it]"
          ]
        },
        {
          "name": "stdout",
          "output_type": "stream",
          "text": [
            "No features\n",
            "None\n",
            "{'album': {'album_type': 'album', 'artists': [{'external_urls': {'spotify': 'https://open.spotify.com/artist/6H1F4vAbRVRnmgpQ5OVMsK'}, 'href': 'https://api.spotify.com/v1/artists/6H1F4vAbRVRnmgpQ5OVMsK', 'id': '6H1F4vAbRVRnmgpQ5OVMsK', 'name': 'Serge Koolenn', 'type': 'artist', 'uri': 'spotify:artist:6H1F4vAbRVRnmgpQ5OVMsK'}], 'external_urls': {'spotify': 'https://open.spotify.com/album/2LfGkNfYxkbeXPairDda3k'}, 'href': 'https://api.spotify.com/v1/albums/2LfGkNfYxkbeXPairDda3k', 'id': '2LfGkNfYxkbeXPairDda3k', 'images': [{'height': 640, 'url': 'https://i.scdn.co/image/ab67616d0000b2733969000d91ebd3a28c7643f7', 'width': 640}, {'height': 300, 'url': 'https://i.scdn.co/image/ab67616d00001e023969000d91ebd3a28c7643f7', 'width': 300}, {'height': 64, 'url': 'https://i.scdn.co/image/ab67616d000048513969000d91ebd3a28c7643f7', 'width': 64}], 'is_playable': True, 'name': 'Serge Koolenn', 'release_date': '1980-05-26', 'release_date_precision': 'day', 'total_tracks': 12, 'type': 'album', 'uri': 'spotify:album:2LfGkNfYxkbeXPairDda3k'}, 'artists': [{'external_urls': {'spotify': 'https://open.spotify.com/artist/6H1F4vAbRVRnmgpQ5OVMsK'}, 'href': 'https://api.spotify.com/v1/artists/6H1F4vAbRVRnmgpQ5OVMsK', 'id': '6H1F4vAbRVRnmgpQ5OVMsK', 'name': 'Serge Koolenn', 'type': 'artist', 'uri': 'spotify:artist:6H1F4vAbRVRnmgpQ5OVMsK'}], 'disc_number': 1, 'duration_ms': 10053, 'explicit': False, 'external_ids': {'isrc': 'FRZ042100969'}, 'external_urls': {'spotify': 'https://open.spotify.com/track/3krrVhF2I6tROITXfl8Zt2'}, 'href': 'https://api.spotify.com/v1/tracks/3krrVhF2I6tROITXfl8Zt2', 'id': '3krrVhF2I6tROITXfl8Zt2', 'is_local': False, 'is_playable': True, 'name': \"C'est tout les gars (That's All Folks)\", 'popularity': 0, 'preview_url': 'https://p.scdn.co/mp3-preview/66c4a4d91ba3da613a3bb591988380eb61d69b67?cid=34a31ed56a084e15b0d7079dd3aa77bf', 'track_number': 12, 'type': 'track', 'uri': 'spotify:track:3krrVhF2I6tROITXfl8Zt2'}\n"
          ]
        },
        {
          "name": "stderr",
          "output_type": "stream",
          "text": [
            " 22%|██▏       | 207/944 [08:00<47:44,  3.89s/it]  "
          ]
        },
        {
          "name": "stdout",
          "output_type": "stream",
          "text": [
            "No features\n",
            "None\n",
            "{'album': {'album_type': 'album', 'artists': [{'external_urls': {'spotify': 'https://open.spotify.com/artist/1nIUhcKHnK6iyumRyoV68C'}, 'href': 'https://api.spotify.com/v1/artists/1nIUhcKHnK6iyumRyoV68C', 'id': '1nIUhcKHnK6iyumRyoV68C', 'name': 'Ennio Morricone', 'type': 'artist', 'uri': 'spotify:artist:1nIUhcKHnK6iyumRyoV68C'}], 'external_urls': {'spotify': 'https://open.spotify.com/album/5lVM3lOjzBuglc0wGeoCDF'}, 'href': 'https://api.spotify.com/v1/albums/5lVM3lOjzBuglc0wGeoCDF', 'id': '5lVM3lOjzBuglc0wGeoCDF', 'images': [{'height': 640, 'url': 'https://i.scdn.co/image/ab67616d0000b27303dd028c3b79fd6d35a5233d', 'width': 640}, {'height': 300, 'url': 'https://i.scdn.co/image/ab67616d00001e0203dd028c3b79fd6d35a5233d', 'width': 300}, {'height': 64, 'url': 'https://i.scdn.co/image/ab67616d0000485103dd028c3b79fd6d35a5233d', 'width': 64}], 'is_playable': True, 'name': 'Espion, lève-toi (Bande originale du film)', 'release_date': '1982-01-27', 'release_date_precision': 'day', 'total_tracks': 20, 'type': 'album', 'uri': 'spotify:album:5lVM3lOjzBuglc0wGeoCDF'}, 'artists': [{'external_urls': {'spotify': 'https://open.spotify.com/artist/1nIUhcKHnK6iyumRyoV68C'}, 'href': 'https://api.spotify.com/v1/artists/1nIUhcKHnK6iyumRyoV68C', 'id': '1nIUhcKHnK6iyumRyoV68C', 'name': 'Ennio Morricone', 'type': 'artist', 'uri': 'spotify:artist:1nIUhcKHnK6iyumRyoV68C'}], 'disc_number': 1, 'duration_ms': 74466, 'explicit': False, 'external_ids': {'isrc': 'FRZ728282027'}, 'external_urls': {'spotify': 'https://open.spotify.com/track/1ELRKBjJgJ9tGgYpRw5Otr'}, 'href': 'https://api.spotify.com/v1/tracks/1ELRKBjJgJ9tGgYpRw5Otr', 'id': '1ELRKBjJgJ9tGgYpRw5Otr', 'is_local': False, 'is_playable': True, 'name': 'Enlèvement et homicide', 'popularity': 0, 'preview_url': 'https://p.scdn.co/mp3-preview/98ff5975ad1841860bb65128dd53b0d5eeef6ca6?cid=34a31ed56a084e15b0d7079dd3aa77bf', 'track_number': 8, 'type': 'track', 'uri': 'spotify:track:1ELRKBjJgJ9tGgYpRw5Otr'}\n"
          ]
        },
        {
          "name": "stderr",
          "output_type": "stream",
          "text": [
            " 23%|██▎       | 218/944 [08:40<1:07:06,  5.55s/it]/var/folders/t4/w1slb7fj5kg0tc41jhrm3zx00000gn/T/ipykernel_3572/720617964.py:45: UserWarning:\n",
            "\n",
            "This pattern is interpreted as a regular expression, and has match groups. To actually get the groups, use str.extract.\n",
            "\n",
            " 24%|██▎       | 222/944 [08:44<22:46,  1.89s/it]  "
          ]
        },
        {
          "name": "stdout",
          "output_type": "stream",
          "text": [
            "dexys midnight runners with the emerald express not found!\n"
          ]
        },
        {
          "name": "stderr",
          "output_type": "stream",
          "text": [
            " 25%|██▌       | 238/944 [09:12<09:18,  1.26it/s]"
          ]
        },
        {
          "name": "stdout",
          "output_type": "stream",
          "text": [
            "eighth wonder not found!\n"
          ]
        },
        {
          "name": "stderr",
          "output_type": "stream",
          "text": [
            " 26%|██▌       | 247/944 [09:32<17:48,  1.53s/it]"
          ]
        },
        {
          "name": "stdout",
          "output_type": "stream",
          "text": [
            "terence trent d'arby not found!\n"
          ]
        },
        {
          "name": "stderr",
          "output_type": "stream",
          "text": [
            " 27%|██▋       | 253/944 [09:38<14:32,  1.26s/it]"
          ]
        },
        {
          "name": "stdout",
          "output_type": "stream",
          "text": [
            "No features\n",
            "None\n",
            "{'album': {'album_type': 'album', 'artists': [{'external_urls': {'spotify': 'https://open.spotify.com/artist/1BJZ8jnHa9XekLAj9cIm5C'}, 'href': 'https://api.spotify.com/v1/artists/1BJZ8jnHa9XekLAj9cIm5C', 'id': '1BJZ8jnHa9XekLAj9cIm5C', 'name': 'Hamilton Harty', 'type': 'artist', 'uri': 'spotify:artist:1BJZ8jnHa9XekLAj9cIm5C'}, {'external_urls': {'spotify': 'https://open.spotify.com/artist/7q7RpicjbjUik3RCrjSKuz'}, 'href': 'https://api.spotify.com/v1/artists/7q7RpicjbjUik3RCrjSKuz', 'id': '7q7RpicjbjUik3RCrjSKuz', 'name': 'Bryden Thomson', 'type': 'artist', 'uri': 'spotify:artist:7q7RpicjbjUik3RCrjSKuz'}, {'external_urls': {'spotify': 'https://open.spotify.com/artist/6ibvdCG0uLZYYq4HpUmXQ1'}, 'href': 'https://api.spotify.com/v1/artists/6ibvdCG0uLZYYq4HpUmXQ1', 'id': '6ibvdCG0uLZYYq4HpUmXQ1', 'name': 'Ulster Orchestra', 'type': 'artist', 'uri': 'spotify:artist:6ibvdCG0uLZYYq4HpUmXQ1'}, {'external_urls': {'spotify': 'https://open.spotify.com/artist/6YD144QzOwK6dRoUZtZJvp'}, 'href': 'https://api.spotify.com/v1/artists/6YD144QzOwK6dRoUZtZJvp', 'id': '6YD144QzOwK6dRoUZtZJvp', 'name': 'Heather Harper', 'type': 'artist', 'uri': 'spotify:artist:6YD144QzOwK6dRoUZtZJvp'}], 'external_urls': {'spotify': 'https://open.spotify.com/album/3W7ePthJCqMu4HTTnolTIj'}, 'href': 'https://api.spotify.com/v1/albums/3W7ePthJCqMu4HTTnolTIj', 'id': '3W7ePthJCqMu4HTTnolTIj', 'images': [{'height': 640, 'url': 'https://i.scdn.co/image/ab67616d0000b273add763b650c74b920861f9a5', 'width': 640}, {'height': 300, 'url': 'https://i.scdn.co/image/ab67616d00001e02add763b650c74b920861f9a5', 'width': 300}, {'height': 64, 'url': 'https://i.scdn.co/image/ab67616d00004851add763b650c74b920861f9a5', 'width': 64}], 'is_playable': True, 'name': 'Harty: The Children Of Lir & Ode to a Nightingale', 'release_date': '1985-07-01', 'release_date_precision': 'day', 'total_tracks': 2, 'type': 'album', 'uri': 'spotify:album:3W7ePthJCqMu4HTTnolTIj'}, 'artists': [{'external_urls': {'spotify': 'https://open.spotify.com/artist/1BJZ8jnHa9XekLAj9cIm5C'}, 'href': 'https://api.spotify.com/v1/artists/1BJZ8jnHa9XekLAj9cIm5C', 'id': '1BJZ8jnHa9XekLAj9cIm5C', 'name': 'Hamilton Harty', 'type': 'artist', 'uri': 'spotify:artist:1BJZ8jnHa9XekLAj9cIm5C'}, {'external_urls': {'spotify': 'https://open.spotify.com/artist/7q7RpicjbjUik3RCrjSKuz'}, 'href': 'https://api.spotify.com/v1/artists/7q7RpicjbjUik3RCrjSKuz', 'id': '7q7RpicjbjUik3RCrjSKuz', 'name': 'Bryden Thomson', 'type': 'artist', 'uri': 'spotify:artist:7q7RpicjbjUik3RCrjSKuz'}, {'external_urls': {'spotify': 'https://open.spotify.com/artist/6ibvdCG0uLZYYq4HpUmXQ1'}, 'href': 'https://api.spotify.com/v1/artists/6ibvdCG0uLZYYq4HpUmXQ1', 'id': '6ibvdCG0uLZYYq4HpUmXQ1', 'name': 'Ulster Orchestra', 'type': 'artist', 'uri': 'spotify:artist:6ibvdCG0uLZYYq4HpUmXQ1'}, {'external_urls': {'spotify': 'https://open.spotify.com/artist/6YD144QzOwK6dRoUZtZJvp'}, 'href': 'https://api.spotify.com/v1/artists/6YD144QzOwK6dRoUZtZJvp', 'id': '6YD144QzOwK6dRoUZtZJvp', 'name': 'Heather Harper', 'type': 'artist', 'uri': 'spotify:artist:6YD144QzOwK6dRoUZtZJvp'}], 'disc_number': 1, 'duration_ms': 1347600, 'explicit': False, 'external_ids': {'isrc': 'GBLWD8502602'}, 'external_urls': {'spotify': 'https://open.spotify.com/track/5rO9BeC21t1okacqWOsMze'}, 'href': 'https://api.spotify.com/v1/tracks/5rO9BeC21t1okacqWOsMze', 'id': '5rO9BeC21t1okacqWOsMze', 'is_local': False, 'is_playable': True, 'name': 'Ode to a Nightingale', 'popularity': 0, 'preview_url': 'https://p.scdn.co/mp3-preview/24bdf3eb4585bde8303d72e007a65589f1b7d094?cid=34a31ed56a084e15b0d7079dd3aa77bf', 'track_number': 2, 'type': 'track', 'uri': 'spotify:track:5rO9BeC21t1okacqWOsMze'}\n"
          ]
        },
        {
          "name": "stderr",
          "output_type": "stream",
          "text": [
            " 27%|██▋       | 257/944 [09:43<12:32,  1.10s/it]"
          ]
        },
        {
          "name": "stdout",
          "output_type": "stream",
          "text": [
            "Artist manuel has published over 1000 songs in the 80s\n"
          ]
        },
        {
          "name": "stderr",
          "output_type": "stream",
          "text": [
            " 28%|██▊       | 265/944 [10:06<26:11,  2.31s/it]"
          ]
        },
        {
          "name": "stdout",
          "output_type": "stream",
          "text": [
            "scotch not found!\n"
          ]
        },
        {
          "name": "stderr",
          "output_type": "stream",
          "text": [
            " 28%|██▊       | 269/944 [10:10<14:22,  1.28s/it]"
          ]
        },
        {
          "name": "stdout",
          "output_type": "stream",
          "text": [
            "hannes kröger not found!\n"
          ]
        },
        {
          "name": "stderr",
          "output_type": "stream",
          "text": [
            " 30%|██▉       | 283/944 [10:35<16:58,  1.54s/it]  "
          ]
        },
        {
          "name": "stdout",
          "output_type": "stream",
          "text": [
            "heike schäfer not found!\n"
          ]
        },
        {
          "name": "stderr",
          "output_type": "stream",
          "text": [
            " 30%|███       | 285/944 [10:37<12:31,  1.14s/it]"
          ]
        },
        {
          "name": "stdout",
          "output_type": "stream",
          "text": [
            "mini pigs not found!\n"
          ]
        },
        {
          "name": "stderr",
          "output_type": "stream",
          "text": [
            " 30%|███       | 286/944 [10:45<36:02,  3.29s/it]"
          ]
        },
        {
          "name": "stdout",
          "output_type": "stream",
          "text": [
            "No features\n",
            "None\n",
            "{'album': {'album_type': 'album', 'artists': [{'external_urls': {'spotify': 'https://open.spotify.com/artist/4rnGUxD6dFgsyJgihJEdU9'}, 'href': 'https://api.spotify.com/v1/artists/4rnGUxD6dFgsyJgihJEdU9', 'id': '4rnGUxD6dFgsyJgihJEdU9', 'name': 'Anadolu Kızları', 'type': 'artist', 'uri': 'spotify:artist:4rnGUxD6dFgsyJgihJEdU9'}], 'external_urls': {'spotify': 'https://open.spotify.com/album/26V1x1jQvhqdIVi78k3fvl'}, 'href': 'https://api.spotify.com/v1/albums/26V1x1jQvhqdIVi78k3fvl', 'id': '26V1x1jQvhqdIVi78k3fvl', 'images': [{'height': 640, 'url': 'https://i.scdn.co/image/ab67616d0000b27379b2059d3c42e362e8256308', 'width': 640}, {'height': 300, 'url': 'https://i.scdn.co/image/ab67616d00001e0279b2059d3c42e362e8256308', 'width': 300}, {'height': 64, 'url': 'https://i.scdn.co/image/ab67616d0000485179b2059d3c42e362e8256308', 'width': 64}], 'is_playable': True, 'name': 'Neredesin Dost', 'release_date': '1986-01-01', 'release_date_precision': 'day', 'total_tracks': 14, 'type': 'album', 'uri': 'spotify:album:26V1x1jQvhqdIVi78k3fvl'}, 'artists': [{'external_urls': {'spotify': 'https://open.spotify.com/artist/4rnGUxD6dFgsyJgihJEdU9'}, 'href': 'https://api.spotify.com/v1/artists/4rnGUxD6dFgsyJgihJEdU9', 'id': '4rnGUxD6dFgsyJgihJEdU9', 'name': 'Anadolu Kızları', 'type': 'artist', 'uri': 'spotify:artist:4rnGUxD6dFgsyJgihJEdU9'}], 'disc_number': 1, 'duration_ms': 284978, 'explicit': False, 'external_ids': {'isrc': 'TR2711300985'}, 'external_urls': {'spotify': 'https://open.spotify.com/track/5Qt7GlkGkIoojaBzIcZGgn'}, 'href': 'https://api.spotify.com/v1/tracks/5Qt7GlkGkIoojaBzIcZGgn', 'id': '5Qt7GlkGkIoojaBzIcZGgn', 'is_local': False, 'is_playable': True, 'name': 'Neredesin Dost', 'popularity': 0, 'preview_url': 'https://p.scdn.co/mp3-preview/481b3491a835539638c35e35e2904e2932d8397f?cid=34a31ed56a084e15b0d7079dd3aa77bf', 'track_number': 1, 'type': 'track', 'uri': 'spotify:track:5Qt7GlkGkIoojaBzIcZGgn'}\n"
          ]
        },
        {
          "name": "stderr",
          "output_type": "stream",
          "text": [
            " 31%|███▏      | 296/944 [11:05<11:31,  1.07s/it]"
          ]
        },
        {
          "name": "stdout",
          "output_type": "stream",
          "text": [
            "redhead kingpin not found!\n"
          ]
        },
        {
          "name": "stderr",
          "output_type": "stream",
          "text": [
            " 32%|███▏      | 299/944 [11:05<05:56,  1.81it/s]/var/folders/t4/w1slb7fj5kg0tc41jhrm3zx00000gn/T/ipykernel_3572/720617964.py:45: UserWarning:\n",
            "\n",
            "This pattern is interpreted as a regular expression, and has match groups. To actually get the groups, use str.extract.\n",
            "\n",
            " 32%|███▏      | 301/944 [11:08<11:30,  1.07s/it]"
          ]
        },
        {
          "name": "stdout",
          "output_type": "stream",
          "text": [
            "patrick cowley feat. sylvester not found!\n"
          ]
        },
        {
          "name": "stderr",
          "output_type": "stream",
          "text": [
            " 32%|███▏      | 305/944 [11:12<08:58,  1.19it/s]"
          ]
        },
        {
          "name": "stdout",
          "output_type": "stream",
          "text": [
            "the timelords not found!\n"
          ]
        },
        {
          "name": "stderr",
          "output_type": "stream",
          "text": [
            " 33%|███▎      | 315/944 [11:41<27:25,  2.62s/it]"
          ]
        },
        {
          "name": "stdout",
          "output_type": "stream",
          "text": [
            "leon haywood not found!\n"
          ]
        },
        {
          "name": "stderr",
          "output_type": "stream",
          "text": [
            " 34%|███▍      | 323/944 [11:49<12:29,  1.21s/it]"
          ]
        },
        {
          "name": "stdout",
          "output_type": "stream",
          "text": [
            "nicole j. mccloud not found!\n"
          ]
        },
        {
          "name": "stderr",
          "output_type": "stream",
          "text": [
            " 35%|███▍      | 329/944 [12:05<21:47,  2.13s/it]"
          ]
        },
        {
          "name": "stdout",
          "output_type": "stream",
          "text": [
            "petula clark not found!\n",
            "rififi not found!\n"
          ]
        },
        {
          "name": "stderr",
          "output_type": "stream",
          "text": [
            " 35%|███▍      | 330/944 [12:07<19:26,  1.90s/it]"
          ]
        },
        {
          "name": "stdout",
          "output_type": "stream",
          "text": [
            "No features\n",
            "None\n",
            "{'album': {'album_type': 'single', 'artists': [{'external_urls': {'spotify': 'https://open.spotify.com/artist/28yIUgPYZqgJoNZjeBvrHn'}, 'href': 'https://api.spotify.com/v1/artists/28yIUgPYZqgJoNZjeBvrHn', 'id': '28yIUgPYZqgJoNZjeBvrHn', 'name': 'Propaganda', 'type': 'artist', 'uri': 'spotify:artist:28yIUgPYZqgJoNZjeBvrHn'}], 'external_urls': {'spotify': 'https://open.spotify.com/album/69Bd9AJK0zOqiqBkVeS29L'}, 'href': 'https://api.spotify.com/v1/albums/69Bd9AJK0zOqiqBkVeS29L', 'id': '69Bd9AJK0zOqiqBkVeS29L', 'images': [{'height': 640, 'url': 'https://i.scdn.co/image/ab67616d0000b273ca289bc8b94abe612bd0f784', 'width': 640}, {'height': 300, 'url': 'https://i.scdn.co/image/ab67616d00001e02ca289bc8b94abe612bd0f784', 'width': 300}, {'height': 64, 'url': 'https://i.scdn.co/image/ab67616d00004851ca289bc8b94abe612bd0f784', 'width': 64}], 'is_playable': True, 'name': 'p:Machinery (Reactivated)', 'release_date': '1985-11-11', 'release_date_precision': 'day', 'total_tracks': 7, 'type': 'album', 'uri': 'spotify:album:69Bd9AJK0zOqiqBkVeS29L'}, 'artists': [{'external_urls': {'spotify': 'https://open.spotify.com/artist/28yIUgPYZqgJoNZjeBvrHn'}, 'href': 'https://api.spotify.com/v1/artists/28yIUgPYZqgJoNZjeBvrHn', 'id': '28yIUgPYZqgJoNZjeBvrHn', 'name': 'Propaganda', 'type': 'artist', 'uri': 'spotify:artist:28yIUgPYZqgJoNZjeBvrHn'}], 'disc_number': 1, 'duration_ms': 11935, 'explicit': False, 'external_ids': {'isrc': 'GBUM72107531'}, 'external_urls': {'spotify': 'https://open.spotify.com/track/5qKAjMG2lZfjIJzXOlcETc'}, 'href': 'https://api.spotify.com/v1/tracks/5qKAjMG2lZfjIJzXOlcETc', 'id': '5qKAjMG2lZfjIJzXOlcETc', 'is_local': False, 'is_playable': True, 'name': 'Disturbdance One', 'popularity': 0, 'preview_url': None, 'track_number': 7, 'type': 'track', 'uri': 'spotify:track:5qKAjMG2lZfjIJzXOlcETc'}\n"
          ]
        },
        {
          "name": "stderr",
          "output_type": "stream",
          "text": [
            " 36%|███▌      | 337/944 [12:22<20:47,  2.06s/it]"
          ]
        },
        {
          "name": "stdout",
          "output_type": "stream",
          "text": [
            "An error occurred: HTTPSConnectionPool(host='api.spotify.com', port=443): Read timed out. (read timeout=5)\n"
          ]
        },
        {
          "name": "stderr",
          "output_type": "stream",
          "text": [
            " 36%|███▌      | 342/944 [12:42<29:38,  2.95s/it]"
          ]
        },
        {
          "name": "stdout",
          "output_type": "stream",
          "text": [
            "the bee gees not found!\n"
          ]
        },
        {
          "name": "stderr",
          "output_type": "stream",
          "text": [
            " 38%|███▊      | 356/944 [13:06<12:21,  1.26s/it]/var/folders/t4/w1slb7fj5kg0tc41jhrm3zx00000gn/T/ipykernel_3572/720617964.py:45: UserWarning:\n",
            "\n",
            "This pattern is interpreted as a regular expression, and has match groups. To actually get the groups, use str.extract.\n",
            "\n",
            "/var/folders/t4/w1slb7fj5kg0tc41jhrm3zx00000gn/T/ipykernel_3572/720617964.py:45: UserWarning:\n",
            "\n",
            "This pattern is interpreted as a regular expression, and has match groups. To actually get the groups, use str.extract.\n",
            "\n",
            "/var/folders/t4/w1slb7fj5kg0tc41jhrm3zx00000gn/T/ipykernel_3572/720617964.py:45: UserWarning:\n",
            "\n",
            "This pattern is interpreted as a regular expression, and has match groups. To actually get the groups, use str.extract.\n",
            "\n",
            "/var/folders/t4/w1slb7fj5kg0tc41jhrm3zx00000gn/T/ipykernel_3572/720617964.py:45: UserWarning:\n",
            "\n",
            "This pattern is interpreted as a regular expression, and has match groups. To actually get the groups, use str.extract.\n",
            "\n",
            "/var/folders/t4/w1slb7fj5kg0tc41jhrm3zx00000gn/T/ipykernel_3572/720617964.py:45: UserWarning:\n",
            "\n",
            "This pattern is interpreted as a regular expression, and has match groups. To actually get the groups, use str.extract.\n",
            "\n"
          ]
        },
        {
          "name": "stdout",
          "output_type": "stream",
          "text": [
            "No features\n",
            "None\n",
            "{'album': {'album_type': 'album', 'artists': [{'external_urls': {'spotify': 'https://open.spotify.com/artist/48vFoFrplDzcESQ5JGs9tQ'}, 'href': 'https://api.spotify.com/v1/artists/48vFoFrplDzcESQ5JGs9tQ', 'id': '48vFoFrplDzcESQ5JGs9tQ', 'name': 'Sandy Offenheim', 'type': 'artist', 'uri': 'spotify:artist:48vFoFrplDzcESQ5JGs9tQ'}], 'external_urls': {'spotify': 'https://open.spotify.com/album/6YoG4G9ahdLapnj4h7boCS'}, 'href': 'https://api.spotify.com/v1/albums/6YoG4G9ahdLapnj4h7boCS', 'id': '6YoG4G9ahdLapnj4h7boCS', 'images': [{'height': 640, 'url': 'https://i.scdn.co/image/ab67616d0000b273c5138189390ce66071849b8e', 'width': 640}, {'height': 300, 'url': 'https://i.scdn.co/image/ab67616d00001e02c5138189390ce66071849b8e', 'width': 300}, {'height': 64, 'url': 'https://i.scdn.co/image/ab67616d00004851c5138189390ce66071849b8e', 'width': 64}], 'is_playable': True, 'name': 'Nicknames', 'release_date': '1980-01-01', 'release_date_precision': 'day', 'total_tracks': 18, 'type': 'album', 'uri': 'spotify:album:6YoG4G9ahdLapnj4h7boCS'}, 'artists': [{'external_urls': {'spotify': 'https://open.spotify.com/artist/48vFoFrplDzcESQ5JGs9tQ'}, 'href': 'https://api.spotify.com/v1/artists/48vFoFrplDzcESQ5JGs9tQ', 'id': '48vFoFrplDzcESQ5JGs9tQ', 'name': 'Sandy Offenheim', 'type': 'artist', 'uri': 'spotify:artist:48vFoFrplDzcESQ5JGs9tQ'}], 'disc_number': 1, 'duration_ms': 13270, 'explicit': False, 'external_ids': {'isrc': 'QZK6M2273002'}, 'external_urls': {'spotify': 'https://open.spotify.com/track/65UmBhkctweDXfX2vOKvxv'}, 'href': 'https://api.spotify.com/v1/tracks/65UmBhkctweDXfX2vOKvxv', 'id': '65UmBhkctweDXfX2vOKvxv', 'is_local': False, 'is_playable': True, 'name': 'Mosquito Barber Shop Quartet', 'popularity': 0, 'preview_url': 'https://p.scdn.co/mp3-preview/1d967aa6b68a12f5c8265c6f3f4bb173745881a2?cid=34a31ed56a084e15b0d7079dd3aa77bf', 'track_number': 5, 'type': 'track', 'uri': 'spotify:track:65UmBhkctweDXfX2vOKvxv'}\n"
          ]
        },
        {
          "name": "stderr",
          "output_type": "stream",
          "text": [
            " 38%|███▊      | 358/944 [13:26<47:05,  4.82s/it]  "
          ]
        },
        {
          "name": "stdout",
          "output_type": "stream",
          "text": [
            "jürgen marcus not found!\n"
          ]
        },
        {
          "name": "stderr",
          "output_type": "stream",
          "text": [
            " 38%|███▊      | 362/944 [13:30<19:45,  2.04s/it]"
          ]
        },
        {
          "name": "stdout",
          "output_type": "stream",
          "text": [
            "No features\n",
            "None\n",
            "{'album': {'album_type': 'album', 'artists': [{'external_urls': {'spotify': 'https://open.spotify.com/artist/5k6gjBEZCwEWjng7GBWaMv'}, 'href': 'https://api.spotify.com/v1/artists/5k6gjBEZCwEWjng7GBWaMv', 'id': '5k6gjBEZCwEWjng7GBWaMv', 'name': 'Heino Kaski', 'type': 'artist', 'uri': 'spotify:artist:5k6gjBEZCwEWjng7GBWaMv'}, {'external_urls': {'spotify': 'https://open.spotify.com/artist/6VytHf5QVuGEUZ5Zw2gGWp'}, 'href': 'https://api.spotify.com/v1/artists/6VytHf5QVuGEUZ5Zw2gGWp', 'id': '6VytHf5QVuGEUZ5Zw2gGWp', 'name': 'Kalevi Olli', 'type': 'artist', 'uri': 'spotify:artist:6VytHf5QVuGEUZ5Zw2gGWp'}, {'external_urls': {'spotify': 'https://open.spotify.com/artist/2MowinJAckq9Fl0IhhQtcW'}, 'href': 'https://api.spotify.com/v1/artists/2MowinJAckq9Fl0IhhQtcW', 'id': '2MowinJAckq9Fl0IhhQtcW', 'name': 'Ilkka Paananen', 'type': 'artist', 'uri': 'spotify:artist:2MowinJAckq9Fl0IhhQtcW'}], 'external_urls': {'spotify': 'https://open.spotify.com/album/1sMD6MlsrfA1xZ8jXsX9yW'}, 'href': 'https://api.spotify.com/v1/albums/1sMD6MlsrfA1xZ8jXsX9yW', 'id': '1sMD6MlsrfA1xZ8jXsX9yW', 'images': [{'height': 640, 'url': 'https://i.scdn.co/image/ab67616d0000b273d17014192cd0e26c415e2717', 'width': 640}, {'height': 300, 'url': 'https://i.scdn.co/image/ab67616d00001e02d17014192cd0e26c415e2717', 'width': 300}, {'height': 64, 'url': 'https://i.scdn.co/image/ab67616d00004851d17014192cd0e26c415e2717', 'width': 64}], 'is_playable': True, 'name': 'Barcarole - Heino Kaski Lauluja', 'release_date': '1983-01-01', 'release_date_precision': 'day', 'total_tracks': 28, 'type': 'album', 'uri': 'spotify:album:1sMD6MlsrfA1xZ8jXsX9yW'}, 'artists': [{'external_urls': {'spotify': 'https://open.spotify.com/artist/5k6gjBEZCwEWjng7GBWaMv'}, 'href': 'https://api.spotify.com/v1/artists/5k6gjBEZCwEWjng7GBWaMv', 'id': '5k6gjBEZCwEWjng7GBWaMv', 'name': 'Heino Kaski', 'type': 'artist', 'uri': 'spotify:artist:5k6gjBEZCwEWjng7GBWaMv'}, {'external_urls': {'spotify': 'https://open.spotify.com/artist/6VytHf5QVuGEUZ5Zw2gGWp'}, 'href': 'https://api.spotify.com/v1/artists/6VytHf5QVuGEUZ5Zw2gGWp', 'id': '6VytHf5QVuGEUZ5Zw2gGWp', 'name': 'Kalevi Olli', 'type': 'artist', 'uri': 'spotify:artist:6VytHf5QVuGEUZ5Zw2gGWp'}, {'external_urls': {'spotify': 'https://open.spotify.com/artist/2MowinJAckq9Fl0IhhQtcW'}, 'href': 'https://api.spotify.com/v1/artists/2MowinJAckq9Fl0IhhQtcW', 'id': '2MowinJAckq9Fl0IhhQtcW', 'name': 'Ilkka Paananen', 'type': 'artist', 'uri': 'spotify:artist:2MowinJAckq9Fl0IhhQtcW'}], 'disc_number': 1, 'duration_ms': 119411, 'explicit': False, 'external_ids': {'isrc': 'FIFUG8300044'}, 'external_urls': {'spotify': 'https://open.spotify.com/track/4iPYG8Vk67mOmvNDLMR2kA'}, 'href': 'https://api.spotify.com/v1/tracks/4iPYG8Vk67mOmvNDLMR2kA', 'id': '4iPYG8Vk67mOmvNDLMR2kA', 'is_local': False, 'is_playable': True, 'name': 'On kaikki syksyn tähdet syttyneet, Op. 29: I.', 'popularity': 0, 'preview_url': 'https://p.scdn.co/mp3-preview/872e5dffee068fb1914ae9229d924a413eb7511b?cid=34a31ed56a084e15b0d7079dd3aa77bf', 'track_number': 17, 'type': 'track', 'uri': 'spotify:track:4iPYG8Vk67mOmvNDLMR2kA'}\n"
          ]
        },
        {
          "name": "stderr",
          "output_type": "stream",
          "text": [
            " 39%|███▉      | 366/944 [13:34<10:14,  1.06s/it]"
          ]
        },
        {
          "name": "stdout",
          "output_type": "stream",
          "text": [
            "guesch patti not found!\n"
          ]
        },
        {
          "name": "stderr",
          "output_type": "stream",
          "text": [
            " 39%|███▉      | 369/944 [13:38<13:19,  1.39s/it]"
          ]
        },
        {
          "name": "stdout",
          "output_type": "stream",
          "text": [
            "Artist black has published over 1000 songs in the 80s\n"
          ]
        },
        {
          "name": "stderr",
          "output_type": "stream",
          "text": [
            " 39%|███▉      | 372/944 [13:40<08:54,  1.07it/s]"
          ]
        },
        {
          "name": "stdout",
          "output_type": "stream",
          "text": [
            "pierre cosso not found!\n"
          ]
        },
        {
          "name": "stderr",
          "output_type": "stream",
          "text": [
            " 41%|████      | 385/944 [14:01<35:11,  3.78s/it]"
          ]
        },
        {
          "name": "stdout",
          "output_type": "stream",
          "text": [
            "Artist jean has published over 1000 songs in the 80s\n",
            "the christians, holly johnson, paul mccartney, gerry marsden not found!\n"
          ]
        },
        {
          "name": "stderr",
          "output_type": "stream",
          "text": [
            " 41%|████▏     | 390/944 [14:11<18:15,  1.98s/it]/var/folders/t4/w1slb7fj5kg0tc41jhrm3zx00000gn/T/ipykernel_3572/720617964.py:45: UserWarning:\n",
            "\n",
            "This pattern is interpreted as a regular expression, and has match groups. To actually get the groups, use str.extract.\n",
            "\n",
            " 42%|████▏     | 394/944 [14:18<13:17,  1.45s/it]"
          ]
        },
        {
          "name": "stdout",
          "output_type": "stream",
          "text": [
            "Artist fire has published over 1000 songs in the 80s\n",
            "orlando riva sound not found!\n"
          ]
        },
        {
          "name": "stderr",
          "output_type": "stream",
          "text": [
            " 42%|████▏     | 395/944 [14:18<09:40,  1.06s/it]"
          ]
        },
        {
          "name": "stdout",
          "output_type": "stream",
          "text": [
            "robin beck not found!\n"
          ]
        },
        {
          "name": "stderr",
          "output_type": "stream",
          "text": [
            " 43%|████▎     | 403/944 [14:36<13:50,  1.53s/it]"
          ]
        },
        {
          "name": "stdout",
          "output_type": "stream",
          "text": [
            "Artist ivan has published over 1000 songs in the 80s\n"
          ]
        },
        {
          "name": "stderr",
          "output_type": "stream",
          "text": [
            " 43%|████▎     | 407/944 [14:40<11:47,  1.32s/it]"
          ]
        },
        {
          "name": "stdout",
          "output_type": "stream",
          "text": [
            "honesty '69 not found!\n"
          ]
        },
        {
          "name": "stderr",
          "output_type": "stream",
          "text": [
            " 44%|████▎     | 411/944 [14:46<15:57,  1.80s/it]"
          ]
        },
        {
          "name": "stdout",
          "output_type": "stream",
          "text": [
            "lipps inc. not found!\n",
            "No features\n",
            "None\n",
            "{'album': {'album_type': 'album', 'artists': [{'external_urls': {'spotify': 'https://open.spotify.com/artist/2Sv8Ko3wFFOGD4SzIbKqY0'}, 'href': 'https://api.spotify.com/v1/artists/2Sv8Ko3wFFOGD4SzIbKqY0', 'id': '2Sv8Ko3wFFOGD4SzIbKqY0', 'name': 'Wind Flower', 'type': 'artist', 'uri': 'spotify:artist:2Sv8Ko3wFFOGD4SzIbKqY0'}], 'external_urls': {'spotify': 'https://open.spotify.com/album/2zwEXJb2hyznDR6xv1x8PO'}, 'href': 'https://api.spotify.com/v1/albums/2zwEXJb2hyznDR6xv1x8PO', 'id': '2zwEXJb2hyznDR6xv1x8PO', 'images': [{'height': 640, 'url': 'https://i.scdn.co/image/ab67616d0000b273bfde87303c84658b430c483b', 'width': 640}, {'height': 300, 'url': 'https://i.scdn.co/image/ab67616d00001e02bfde87303c84658b430c483b', 'width': 300}, {'height': 64, 'url': 'https://i.scdn.co/image/ab67616d00004851bfde87303c84658b430c483b', 'width': 64}], 'is_playable': True, 'name': 'Rain and Lonliness/Wind Flower', 'release_date': '1989-07-11', 'release_date_precision': 'day', 'total_tracks': 10, 'type': 'album', 'uri': 'spotify:album:2zwEXJb2hyznDR6xv1x8PO'}, 'artists': [{'external_urls': {'spotify': 'https://open.spotify.com/artist/2Sv8Ko3wFFOGD4SzIbKqY0'}, 'href': 'https://api.spotify.com/v1/artists/2Sv8Ko3wFFOGD4SzIbKqY0', 'id': '2Sv8Ko3wFFOGD4SzIbKqY0', 'name': 'Wind Flower', 'type': 'artist', 'uri': 'spotify:artist:2Sv8Ko3wFFOGD4SzIbKqY0'}], 'disc_number': 1, 'duration_ms': 230520, 'explicit': False, 'external_ids': {'isrc': 'KRRAR2018531'}, 'external_urls': {'spotify': 'https://open.spotify.com/track/3KbjzdG4mV2cWTDGtibf3m'}, 'href': 'https://api.spotify.com/v1/tracks/3KbjzdG4mV2cWTDGtibf3m', 'id': '3KbjzdG4mV2cWTDGtibf3m', 'is_local': False, 'is_playable': True, 'name': 'Flower', 'popularity': 0, 'preview_url': 'https://p.scdn.co/mp3-preview/b59d894ae18c06ea1523b751fdd21767247d6b57?cid=34a31ed56a084e15b0d7079dd3aa77bf', 'track_number': 5, 'type': 'track', 'uri': 'spotify:track:3KbjzdG4mV2cWTDGtibf3m'}\n",
            "No features\n",
            "None\n",
            "{'album': {'album_type': 'album', 'artists': [{'external_urls': {'spotify': 'https://open.spotify.com/artist/2Sv8Ko3wFFOGD4SzIbKqY0'}, 'href': 'https://api.spotify.com/v1/artists/2Sv8Ko3wFFOGD4SzIbKqY0', 'id': '2Sv8Ko3wFFOGD4SzIbKqY0', 'name': 'Wind Flower', 'type': 'artist', 'uri': 'spotify:artist:2Sv8Ko3wFFOGD4SzIbKqY0'}], 'external_urls': {'spotify': 'https://open.spotify.com/album/5VKIBDXCExd1Q47T1yjysM'}, 'href': 'https://api.spotify.com/v1/albums/5VKIBDXCExd1Q47T1yjysM', 'id': '5VKIBDXCExd1Q47T1yjysM', 'images': [{'height': 640, 'url': 'https://i.scdn.co/image/ab67616d0000b273630374817f57e2bf269b36d1', 'width': 640}, {'height': 300, 'url': 'https://i.scdn.co/image/ab67616d00001e02630374817f57e2bf269b36d1', 'width': 300}, {'height': 64, 'url': 'https://i.scdn.co/image/ab67616d00004851630374817f57e2bf269b36d1', 'width': 64}], 'is_playable': True, 'name': 'Vol. 1 [Rain and Loneliness]', 'release_date': '1989-04-01', 'release_date_precision': 'day', 'total_tracks': 10, 'type': 'album', 'uri': 'spotify:album:5VKIBDXCExd1Q47T1yjysM'}, 'artists': [{'external_urls': {'spotify': 'https://open.spotify.com/artist/2Sv8Ko3wFFOGD4SzIbKqY0'}, 'href': 'https://api.spotify.com/v1/artists/2Sv8Ko3wFFOGD4SzIbKqY0', 'id': '2Sv8Ko3wFFOGD4SzIbKqY0', 'name': 'Wind Flower', 'type': 'artist', 'uri': 'spotify:artist:2Sv8Ko3wFFOGD4SzIbKqY0'}], 'disc_number': 1, 'duration_ms': 230520, 'explicit': False, 'external_ids': {'isrc': 'KRA340911359'}, 'external_urls': {'spotify': 'https://open.spotify.com/track/5VTAP4UyVf6SLbpkpP89XX'}, 'href': 'https://api.spotify.com/v1/tracks/5VTAP4UyVf6SLbpkpP89XX', 'id': '5VTAP4UyVf6SLbpkpP89XX', 'is_local': False, 'is_playable': True, 'name': 'Flower - Instrumental', 'popularity': 0, 'preview_url': 'https://p.scdn.co/mp3-preview/eb3102125115229400e2f6d40719ccaa3ab707d1?cid=34a31ed56a084e15b0d7079dd3aa77bf', 'track_number': 10, 'type': 'track', 'uri': 'spotify:track:5VTAP4UyVf6SLbpkpP89XX'}\n"
          ]
        },
        {
          "name": "stderr",
          "output_type": "stream",
          "text": [
            " 44%|████▍     | 414/944 [14:56<21:17,  2.41s/it]"
          ]
        },
        {
          "name": "stdout",
          "output_type": "stream",
          "text": [
            "sts not found!\n"
          ]
        },
        {
          "name": "stderr",
          "output_type": "stream",
          "text": [
            " 44%|████▍     | 419/944 [15:07<13:01,  1.49s/it]"
          ]
        },
        {
          "name": "stdout",
          "output_type": "stream",
          "text": [
            "hanne haller not found!\n"
          ]
        },
        {
          "name": "stderr",
          "output_type": "stream",
          "text": [
            "/var/folders/t4/w1slb7fj5kg0tc41jhrm3zx00000gn/T/ipykernel_3572/720617964.py:45: UserWarning:\n",
            "\n",
            "This pattern is interpreted as a regular expression, and has match groups. To actually get the groups, use str.extract.\n",
            "\n",
            "/var/folders/t4/w1slb7fj5kg0tc41jhrm3zx00000gn/T/ipykernel_3572/720617964.py:45: UserWarning:\n",
            "\n",
            "This pattern is interpreted as a regular expression, and has match groups. To actually get the groups, use str.extract.\n",
            "\n",
            " 45%|████▍     | 421/944 [15:22<36:15,  4.16s/it]"
          ]
        },
        {
          "name": "stdout",
          "output_type": "stream",
          "text": [
            "tone band not found!\n"
          ]
        },
        {
          "name": "stderr",
          "output_type": "stream",
          "text": [
            " 45%|████▍     | 424/944 [15:23<17:24,  2.01s/it]"
          ]
        },
        {
          "name": "stdout",
          "output_type": "stream",
          "text": [
            "helga feddersen not found!\n"
          ]
        },
        {
          "name": "stderr",
          "output_type": "stream",
          "text": [
            " 45%|████▌     | 427/944 [15:31<23:34,  2.74s/it]"
          ]
        },
        {
          "name": "stdout",
          "output_type": "stream",
          "text": [
            "t.x.t. not found!\n"
          ]
        },
        {
          "name": "stderr",
          "output_type": "stream",
          "text": [
            " 45%|████▌     | 428/944 [15:31<18:16,  2.12s/it]"
          ]
        },
        {
          "name": "stdout",
          "output_type": "stream",
          "text": [
            "sophia george not found!\n"
          ]
        },
        {
          "name": "stderr",
          "output_type": "stream",
          "text": [
            " 46%|████▌     | 433/944 [15:36<11:48,  1.39s/it]"
          ]
        },
        {
          "name": "stdout",
          "output_type": "stream",
          "text": [
            "john lennon and the plastic ono band not found!\n"
          ]
        },
        {
          "name": "stderr",
          "output_type": "stream",
          "text": [
            " 46%|████▋     | 437/944 [15:37<06:05,  1.39it/s]"
          ]
        },
        {
          "name": "stdout",
          "output_type": "stream",
          "text": [
            "eruption not found!\n"
          ]
        },
        {
          "name": "stderr",
          "output_type": "stream",
          "text": [
            " 47%|████▋     | 446/944 [15:44<05:26,  1.53it/s]"
          ]
        },
        {
          "name": "stdout",
          "output_type": "stream",
          "text": [
            "dschinghis khan not found!\n"
          ]
        },
        {
          "name": "stderr",
          "output_type": "stream",
          "text": [
            " 48%|████▊     | 449/944 [16:01<36:18,  4.40s/it]"
          ]
        },
        {
          "name": "stdout",
          "output_type": "stream",
          "text": [
            "tommy piper singt alf not found!\n"
          ]
        },
        {
          "name": "stderr",
          "output_type": "stream",
          "text": [
            " 48%|████▊     | 453/944 [16:02<12:05,  1.48s/it]"
          ]
        },
        {
          "name": "stdout",
          "output_type": "stream",
          "text": [
            "nickerbocker not found!\n",
            "biene not found!\n",
            "koreana not found!\n"
          ]
        },
        {
          "name": "stderr",
          "output_type": "stream",
          "text": [
            " 49%|████▊     | 458/944 [16:06<07:09,  1.13it/s]"
          ]
        },
        {
          "name": "stdout",
          "output_type": "stream",
          "text": [
            "shirlie not found!\n"
          ]
        },
        {
          "name": "stderr",
          "output_type": "stream",
          "text": [
            " 49%|████▉     | 465/944 [16:15<09:11,  1.15s/it]"
          ]
        },
        {
          "name": "stdout",
          "output_type": "stream",
          "text": [
            "la na nee nee noo noo not found!\n"
          ]
        },
        {
          "name": "stderr",
          "output_type": "stream",
          "text": [
            " 49%|████▉     | 466/944 [16:16<09:13,  1.16s/it]"
          ]
        },
        {
          "name": "stdout",
          "output_type": "stream",
          "text": [
            "gottlieb wendehals not found!\n"
          ]
        },
        {
          "name": "stderr",
          "output_type": "stream",
          "text": [
            " 51%|█████     | 477/944 [16:42<10:32,  1.35s/it]"
          ]
        },
        {
          "name": "stdout",
          "output_type": "stream",
          "text": [
            "evelyn thomas not found!\n"
          ]
        },
        {
          "name": "stderr",
          "output_type": "stream",
          "text": [
            " 51%|█████▏    | 484/944 [16:45<03:42,  2.07it/s]"
          ]
        },
        {
          "name": "stdout",
          "output_type": "stream",
          "text": [
            "frl. menke not found!\n"
          ]
        },
        {
          "name": "stderr",
          "output_type": "stream",
          "text": [
            " 51%|█████▏    | 485/944 [16:45<03:35,  2.13it/s]"
          ]
        },
        {
          "name": "stdout",
          "output_type": "stream",
          "text": [
            "johnny logan not found!\n"
          ]
        },
        {
          "name": "stderr",
          "output_type": "stream",
          "text": [
            " 52%|█████▏    | 493/944 [17:04<09:06,  1.21s/it]"
          ]
        },
        {
          "name": "stdout",
          "output_type": "stream",
          "text": [
            "Artist a-ha has published over 1000 songs in the 80s\n"
          ]
        },
        {
          "name": "stderr",
          "output_type": "stream",
          "text": [
            " 53%|█████▎    | 501/944 [17:18<12:14,  1.66s/it]"
          ]
        },
        {
          "name": "stdout",
          "output_type": "stream",
          "text": [
            "precious wilson not found!\n"
          ]
        },
        {
          "name": "stderr",
          "output_type": "stream",
          "text": [
            " 53%|█████▎    | 503/944 [17:28<21:39,  2.95s/it]"
          ]
        },
        {
          "name": "stdout",
          "output_type": "stream",
          "text": [
            "animotion not found!\n"
          ]
        },
        {
          "name": "stderr",
          "output_type": "stream",
          "text": [
            " 54%|█████▍    | 508/944 [17:33<09:57,  1.37s/it]"
          ]
        },
        {
          "name": "stdout",
          "output_type": "stream",
          "text": [
            "chrissie hynde not found!\n",
            "michael jackson with siedah garrett not found!\n"
          ]
        },
        {
          "name": "stderr",
          "output_type": "stream",
          "text": [
            " 54%|█████▍    | 513/944 [17:37<07:41,  1.07s/it]"
          ]
        },
        {
          "name": "stdout",
          "output_type": "stream",
          "text": [
            "jim diamond not found!\n"
          ]
        },
        {
          "name": "stderr",
          "output_type": "stream",
          "text": [
            " 55%|█████▍    | 518/944 [17:43<08:50,  1.25s/it]"
          ]
        },
        {
          "name": "stdout",
          "output_type": "stream",
          "text": [
            "Artist roger has published over 1000 songs in the 80s\n"
          ]
        },
        {
          "name": "stderr",
          "output_type": "stream",
          "text": [
            " 55%|█████▌    | 522/944 [17:45<04:16,  1.65it/s]"
          ]
        },
        {
          "name": "stdout",
          "output_type": "stream",
          "text": [
            "freddie mercury not found!\n",
            "No features\n",
            "None\n",
            "{'album': {'album_type': 'album', 'artists': [{'external_urls': {'spotify': 'https://open.spotify.com/artist/07XSN3sPlIlB2L2XNcTwJw'}, 'href': 'https://api.spotify.com/v1/artists/07XSN3sPlIlB2L2XNcTwJw', 'id': '07XSN3sPlIlB2L2XNcTwJw', 'name': 'KISS', 'type': 'artist', 'uri': 'spotify:artist:07XSN3sPlIlB2L2XNcTwJw'}], 'external_urls': {'spotify': 'https://open.spotify.com/album/5AqLXYL7AbcPzQRCb1mBHI'}, 'href': 'https://api.spotify.com/v1/albums/5AqLXYL7AbcPzQRCb1mBHI', 'id': '5AqLXYL7AbcPzQRCb1mBHI', 'images': [{'height': 640, 'url': 'https://i.scdn.co/image/ab67616d0000b273d4e6316ea9f8a4fadc67c0e3', 'width': 640}, {'height': 300, 'url': 'https://i.scdn.co/image/ab67616d00001e02d4e6316ea9f8a4fadc67c0e3', 'width': 300}, {'height': 64, 'url': 'https://i.scdn.co/image/ab67616d00004851d4e6316ea9f8a4fadc67c0e3', 'width': 64}], 'is_playable': True, 'name': 'Creatures Of The Night (40th Anniversary / Super Deluxe)', 'release_date': '1982', 'release_date_precision': 'year', 'total_tracks': 76, 'type': 'album', 'uri': 'spotify:album:5AqLXYL7AbcPzQRCb1mBHI'}, 'artists': [{'external_urls': {'spotify': 'https://open.spotify.com/artist/07XSN3sPlIlB2L2XNcTwJw'}, 'href': 'https://api.spotify.com/v1/artists/07XSN3sPlIlB2L2XNcTwJw', 'id': '07XSN3sPlIlB2L2XNcTwJw', 'name': 'KISS', 'type': 'artist', 'uri': 'spotify:artist:07XSN3sPlIlB2L2XNcTwJw'}], 'disc_number': 5, 'duration_ms': 65333, 'explicit': False, 'external_ids': {'isrc': 'USUM72215566'}, 'external_urls': {'spotify': 'https://open.spotify.com/track/1XMvpKzlffEIAoNsiliswU'}, 'href': 'https://api.spotify.com/v1/tracks/1XMvpKzlffEIAoNsiliswU', 'id': '1XMvpKzlffEIAoNsiliswU', 'is_local': False, 'is_playable': True, 'name': 'Flames - Tour Sound Effect', 'popularity': 0, 'preview_url': None, 'track_number': 19, 'type': 'track', 'uri': 'spotify:track:1XMvpKzlffEIAoNsiliswU'}\n"
          ]
        },
        {
          "name": "stderr",
          "output_type": "stream",
          "text": [
            " 56%|█████▌    | 525/944 [17:50<06:29,  1.07it/s]"
          ]
        },
        {
          "name": "stdout",
          "output_type": "stream",
          "text": [
            "glen goldsmith not found!\n"
          ]
        },
        {
          "name": "stderr",
          "output_type": "stream",
          "text": [
            " 56%|█████▌    | 529/944 [18:04<12:43,  1.84s/it]"
          ]
        },
        {
          "name": "stdout",
          "output_type": "stream",
          "text": [
            "Artist jon has published over 1000 songs in the 80s\n"
          ]
        },
        {
          "name": "stderr",
          "output_type": "stream",
          "text": [
            " 56%|█████▋    | 531/944 [18:07<11:58,  1.74s/it]"
          ]
        },
        {
          "name": "stdout",
          "output_type": "stream",
          "text": [
            "peter griffin not found!\n"
          ]
        },
        {
          "name": "stderr",
          "output_type": "stream",
          "text": [
            " 57%|█████▋    | 535/944 [18:09<06:03,  1.12it/s]"
          ]
        },
        {
          "name": "stdout",
          "output_type": "stream",
          "text": [
            "beagle music ltd. not found!\n"
          ]
        },
        {
          "name": "stderr",
          "output_type": "stream",
          "text": [
            " 58%|█████▊    | 546/944 [18:31<35:41,  5.38s/it]"
          ]
        },
        {
          "name": "stdout",
          "output_type": "stream",
          "text": [
            "christian franke not found!\n"
          ]
        },
        {
          "name": "stderr",
          "output_type": "stream",
          "text": [
            " 59%|█████▊    | 553/944 [18:41<06:42,  1.03s/it]"
          ]
        },
        {
          "name": "stdout",
          "output_type": "stream",
          "text": [
            "bernie paul not found!\n",
            "pete bardens not found!\n"
          ]
        },
        {
          "name": "stderr",
          "output_type": "stream",
          "text": [
            " 59%|█████▉    | 561/944 [18:48<06:13,  1.03it/s]"
          ]
        },
        {
          "name": "stdout",
          "output_type": "stream",
          "text": [
            "m.a.r.r.s. not found!\n"
          ]
        },
        {
          "name": "stderr",
          "output_type": "stream",
          "text": [
            " 60%|█████▉    | 563/944 [19:01<22:52,  3.60s/it]"
          ]
        },
        {
          "name": "stdout",
          "output_type": "stream",
          "text": [
            "barbara gaskin not found!\n"
          ]
        },
        {
          "name": "stderr",
          "output_type": "stream",
          "text": [
            " 60%|█████▉    | 566/944 [19:04<13:43,  2.18s/it]"
          ]
        },
        {
          "name": "stdout",
          "output_type": "stream",
          "text": [
            "fred sonnenschein und seine freunde not found!\n"
          ]
        },
        {
          "name": "stderr",
          "output_type": "stream",
          "text": [
            " 62%|██████▏   | 581/944 [19:11<02:04,  2.92it/s]"
          ]
        },
        {
          "name": "stdout",
          "output_type": "stream",
          "text": [
            "mandy winter not found!\n",
            "Artist daniel has published over 1000 songs in the 80s\n"
          ]
        },
        {
          "name": "stderr",
          "output_type": "stream",
          "text": [
            " 63%|██████▎   | 591/944 [19:42<06:33,  1.11s/it]"
          ]
        },
        {
          "name": "stdout",
          "output_type": "stream",
          "text": [
            "soul ii soul feat. caron wheeler not found!\n"
          ]
        },
        {
          "name": "stderr",
          "output_type": "stream",
          "text": [
            " 63%|██████▎   | 593/944 [19:43<04:06,  1.42it/s]"
          ]
        },
        {
          "name": "stdout",
          "output_type": "stream",
          "text": [
            "Artist lou has published over 1000 songs in the 80s\n",
            "hollywood bananas not found!\n"
          ]
        },
        {
          "name": "stderr",
          "output_type": "stream",
          "text": [
            " 63%|██████▎   | 596/944 [19:49<06:32,  1.13s/it]"
          ]
        },
        {
          "name": "stdout",
          "output_type": "stream",
          "text": [
            "stephen 'tin tin' duffy not found!\n"
          ]
        },
        {
          "name": "stderr",
          "output_type": "stream",
          "text": [
            " 64%|██████▎   | 601/944 [20:07<15:28,  2.71s/it]"
          ]
        },
        {
          "name": "stdout",
          "output_type": "stream",
          "text": [
            "mary roos und david hanselmann not found!\n"
          ]
        },
        {
          "name": "stderr",
          "output_type": "stream",
          "text": [
            " 65%|██████▌   | 615/944 [20:16<03:51,  1.42it/s]/var/folders/t4/w1slb7fj5kg0tc41jhrm3zx00000gn/T/ipykernel_3572/720617964.py:45: UserWarning:\n",
            "\n",
            "This pattern is interpreted as a regular expression, and has match groups. To actually get the groups, use str.extract.\n",
            "\n",
            " 65%|██████▌   | 618/944 [20:35<17:00,  3.13s/it]"
          ]
        },
        {
          "name": "stdout",
          "output_type": "stream",
          "text": [
            "No features\n",
            "None\n",
            "{'album': {'album_type': 'album', 'artists': [{'external_urls': {'spotify': 'https://open.spotify.com/artist/1D237uAcQnsDWMFVGXoROy'}, 'href': 'https://api.spotify.com/v1/artists/1D237uAcQnsDWMFVGXoROy', 'id': '1D237uAcQnsDWMFVGXoROy', 'name': 'Heinz Rühmann', 'type': 'artist', 'uri': 'spotify:artist:1D237uAcQnsDWMFVGXoROy'}], 'external_urls': {'spotify': 'https://open.spotify.com/album/7DwwkKZdQsbTMDJgrhjZyT'}, 'href': 'https://api.spotify.com/v1/albums/7DwwkKZdQsbTMDJgrhjZyT', 'id': '7DwwkKZdQsbTMDJgrhjZyT', 'images': [{'height': 640, 'url': 'https://i.scdn.co/image/ab67616d0000b273fb41969ee87cb0dc79900b90', 'width': 640}, {'height': 300, 'url': 'https://i.scdn.co/image/ab67616d00001e02fb41969ee87cb0dc79900b90', 'width': 300}, {'height': 64, 'url': 'https://i.scdn.co/image/ab67616d00004851fb41969ee87cb0dc79900b90', 'width': 64}], 'is_playable': True, 'name': 'Heinz Rühmann erzählt Weihnachtsgeschichten von Felix Timmermans', 'release_date': '1988-10-07', 'release_date_precision': 'day', 'total_tracks': 19, 'type': 'album', 'uri': 'spotify:album:7DwwkKZdQsbTMDJgrhjZyT'}, 'artists': [{'external_urls': {'spotify': 'https://open.spotify.com/artist/3QGgeOH7MNeFkkXgtfTBvW'}, 'href': 'https://api.spotify.com/v1/artists/3QGgeOH7MNeFkkXgtfTBvW', 'id': '3QGgeOH7MNeFkkXgtfTBvW', 'name': 'Brass Ensemble of the Berlin Philharmonic Orchestra', 'type': 'artist', 'uri': 'spotify:artist:3QGgeOH7MNeFkkXgtfTBvW'}], 'disc_number': 1, 'duration_ms': 39000, 'explicit': False, 'external_ids': {'isrc': 'DEF057702950'}, 'external_urls': {'spotify': 'https://open.spotify.com/track/3Bgyq7n36sud6VMHyXevkd'}, 'href': 'https://api.spotify.com/v1/tracks/3Bgyq7n36sud6VMHyXevkd', 'id': '3Bgyq7n36sud6VMHyXevkd', 'is_local': False, 'is_playable': True, 'name': 'Vom Himmel hoch, da komm ich her', 'popularity': 0, 'preview_url': 'https://p.scdn.co/mp3-preview/ec23cc572e77982f72fe8e6ac4341185b26deaba?cid=34a31ed56a084e15b0d7079dd3aa77bf', 'track_number': 19, 'type': 'track', 'uri': 'spotify:track:3Bgyq7n36sud6VMHyXevkd'}\n"
          ]
        },
        {
          "name": "stderr",
          "output_type": "stream",
          "text": [
            " 66%|██████▋   | 627/944 [20:43<04:16,  1.23it/s]"
          ]
        },
        {
          "name": "stdout",
          "output_type": "stream",
          "text": [
            "Artist king has published over 1000 songs in the 80s\n"
          ]
        },
        {
          "name": "stderr",
          "output_type": "stream",
          "text": [
            " 67%|██████▋   | 633/944 [21:01<25:00,  4.83s/it]"
          ]
        },
        {
          "name": "stdout",
          "output_type": "stream",
          "text": [
            "mike mareen not found!\n"
          ]
        },
        {
          "name": "stderr",
          "output_type": "stream",
          "text": [
            " 68%|██████▊   | 646/944 [21:13<07:59,  1.61s/it]"
          ]
        },
        {
          "name": "stdout",
          "output_type": "stream",
          "text": [
            "g'race not found!\n"
          ]
        },
        {
          "name": "stderr",
          "output_type": "stream",
          "text": [
            " 69%|██████▉   | 650/944 [21:14<02:53,  1.70it/s]"
          ]
        },
        {
          "name": "stdout",
          "output_type": "stream",
          "text": [
            "the hornettes not found!\n",
            "silicon dream not found!\n"
          ]
        },
        {
          "name": "stderr",
          "output_type": "stream",
          "text": [
            " 69%|██████▉   | 653/944 [21:31<23:01,  4.75s/it]"
          ]
        },
        {
          "name": "stdout",
          "output_type": "stream",
          "text": [
            "the carnations not found!\n"
          ]
        },
        {
          "name": "stderr",
          "output_type": "stream",
          "text": [
            " 70%|██████▉   | 658/944 [21:34<07:56,  1.67s/it]"
          ]
        },
        {
          "name": "stdout",
          "output_type": "stream",
          "text": [
            "leinemann not found!\n"
          ]
        },
        {
          "name": "stderr",
          "output_type": "stream",
          "text": [
            " 70%|███████   | 661/944 [21:39<06:45,  1.43s/it]"
          ]
        },
        {
          "name": "stdout",
          "output_type": "stream",
          "text": [
            "bonnie bianco not found!\n"
          ]
        },
        {
          "name": "stderr",
          "output_type": "stream",
          "text": [
            " 71%|███████▏  | 674/944 [22:04<12:52,  2.86s/it]"
          ]
        },
        {
          "name": "stdout",
          "output_type": "stream",
          "text": [
            "savage progress not found!\n"
          ]
        },
        {
          "name": "stderr",
          "output_type": "stream",
          "text": [
            " 72%|███████▏  | 676/944 [22:04<07:01,  1.57s/it]"
          ]
        },
        {
          "name": "stdout",
          "output_type": "stream",
          "text": [
            "band für afrika not found!\n"
          ]
        },
        {
          "name": "stderr",
          "output_type": "stream",
          "text": [
            " 73%|███████▎  | 686/944 [22:10<02:04,  2.07it/s]"
          ]
        },
        {
          "name": "stdout",
          "output_type": "stream",
          "text": [
            "trude herr not found!\n"
          ]
        },
        {
          "name": "stderr",
          "output_type": "stream",
          "text": [
            " 73%|███████▎  | 692/944 [22:14<01:50,  2.28it/s]"
          ]
        },
        {
          "name": "stdout",
          "output_type": "stream",
          "text": [
            "lady lily not found!\n",
            "alan sorrenti not found!\n",
            "claudia mori not found!\n"
          ]
        },
        {
          "name": "stderr",
          "output_type": "stream",
          "text": [
            " 74%|███████▍  | 697/944 [22:33<10:39,  2.59s/it]/var/folders/t4/w1slb7fj5kg0tc41jhrm3zx00000gn/T/ipykernel_3572/720617964.py:45: UserWarning:\n",
            "\n",
            "This pattern is interpreted as a regular expression, and has match groups. To actually get the groups, use str.extract.\n",
            "\n",
            " 74%|███████▍  | 700/944 [22:34<05:07,  1.26s/it]"
          ]
        },
        {
          "name": "stdout",
          "output_type": "stream",
          "text": [
            "o.k. not found!\n",
            "michael schanze und die fußball-nationalmannschaft not found!\n"
          ]
        },
        {
          "name": "stderr",
          "output_type": "stream",
          "text": [
            " 75%|███████▍  | 705/944 [22:37<03:02,  1.31it/s]"
          ]
        },
        {
          "name": "stdout",
          "output_type": "stream",
          "text": [
            "keith marshall not found!\n",
            "No features\n",
            "None\n",
            "{'album': {'album_type': 'album', 'artists': [{'external_urls': {'spotify': 'https://open.spotify.com/artist/0t56f8wWaIVX9ePl7TNYgD'}, 'href': 'https://api.spotify.com/v1/artists/0t56f8wWaIVX9ePl7TNYgD', 'id': '0t56f8wWaIVX9ePl7TNYgD', 'name': 'Miliano e Barrabás', 'type': 'artist', 'uri': 'spotify:artist:0t56f8wWaIVX9ePl7TNYgD'}], 'external_urls': {'spotify': 'https://open.spotify.com/album/4UCaoGqsSKrQ3js1NcUUGu'}, 'href': 'https://api.spotify.com/v1/albums/4UCaoGqsSKrQ3js1NcUUGu', 'id': '4UCaoGqsSKrQ3js1NcUUGu', 'images': [{'height': 640, 'url': 'https://i.scdn.co/image/ab67616d0000b27392edf3b74eae9ede04939a81', 'width': 640}, {'height': 300, 'url': 'https://i.scdn.co/image/ab67616d00001e0292edf3b74eae9ede04939a81', 'width': 300}, {'height': 64, 'url': 'https://i.scdn.co/image/ab67616d0000485192edf3b74eae9ede04939a81', 'width': 64}], 'is_playable': True, 'name': 'Fumador de Charuto', 'release_date': '1985-02-05', 'release_date_precision': 'day', 'total_tracks': 12, 'type': 'album', 'uri': 'spotify:album:4UCaoGqsSKrQ3js1NcUUGu'}, 'artists': [{'external_urls': {'spotify': 'https://open.spotify.com/artist/0t56f8wWaIVX9ePl7TNYgD'}, 'href': 'https://api.spotify.com/v1/artists/0t56f8wWaIVX9ePl7TNYgD', 'id': '0t56f8wWaIVX9ePl7TNYgD', 'name': 'Miliano e Barrabás', 'type': 'artist', 'uri': 'spotify:artist:0t56f8wWaIVX9ePl7TNYgD'}], 'disc_number': 1, 'duration_ms': 148248, 'explicit': False, 'external_ids': {'isrc': 'FRX452112252'}, 'external_urls': {'spotify': 'https://open.spotify.com/track/2pxJIdlkUbKArmM9n7gsvt'}, 'href': 'https://api.spotify.com/v1/tracks/2pxJIdlkUbKArmM9n7gsvt', 'id': '2pxJIdlkUbKArmM9n7gsvt', 'is_local': False, 'is_playable': True, 'name': 'Distância Cruel', 'popularity': 0, 'preview_url': 'https://p.scdn.co/mp3-preview/4c9cf32d2d551ed642c41e37ce0dde566d6f92ac?cid=34a31ed56a084e15b0d7079dd3aa77bf', 'track_number': 2, 'type': 'track', 'uri': 'spotify:track:2pxJIdlkUbKArmM9n7gsvt'}\n"
          ]
        },
        {
          "name": "stderr",
          "output_type": "stream",
          "text": [
            " 75%|███████▌  | 708/944 [22:39<02:26,  1.61it/s]"
          ]
        },
        {
          "name": "stdout",
          "output_type": "stream",
          "text": [
            "clout not found!\n"
          ]
        },
        {
          "name": "stderr",
          "output_type": "stream",
          "text": [
            " 76%|███████▌  | 714/944 [22:44<03:05,  1.24it/s]"
          ]
        },
        {
          "name": "stdout",
          "output_type": "stream",
          "text": [
            "Artist yes has published over 1000 songs in the 80s\n"
          ]
        },
        {
          "name": "stderr",
          "output_type": "stream",
          "text": [
            " 76%|███████▌  | 716/944 [22:45<02:32,  1.50it/s]"
          ]
        },
        {
          "name": "stdout",
          "output_type": "stream",
          "text": [
            "the jonzun crew not found!\n",
            "No features\n",
            "None\n",
            "{'album': {'album_type': 'compilation', 'artists': [{'external_urls': {'spotify': 'https://open.spotify.com/artist/0LyfQWJT6nXafLPZqxe9Of'}, 'href': 'https://api.spotify.com/v1/artists/0LyfQWJT6nXafLPZqxe9Of', 'id': '0LyfQWJT6nXafLPZqxe9Of', 'name': 'Various Artists', 'type': 'artist', 'uri': 'spotify:artist:0LyfQWJT6nXafLPZqxe9Of'}], 'external_urls': {'spotify': 'https://open.spotify.com/album/2RytaEeXN85B2yQMs2l7Z5'}, 'href': 'https://api.spotify.com/v1/albums/2RytaEeXN85B2yQMs2l7Z5', 'id': '2RytaEeXN85B2yQMs2l7Z5', 'images': [{'height': 640, 'url': 'https://i.scdn.co/image/ab67616d0000b273c86223fdf71d9b7ee4bcb550', 'width': 640}, {'height': 300, 'url': 'https://i.scdn.co/image/ab67616d00001e02c86223fdf71d9b7ee4bcb550', 'width': 300}, {'height': 64, 'url': 'https://i.scdn.co/image/ab67616d00004851c86223fdf71d9b7ee4bcb550', 'width': 64}], 'is_playable': True, 'name': 'The Sound Of Music', 'release_date': '1988-07-01', 'release_date_precision': 'day', 'total_tracks': 26, 'type': 'album', 'uri': 'spotify:album:2RytaEeXN85B2yQMs2l7Z5'}, 'artists': [{'external_urls': {'spotify': 'https://open.spotify.com/artist/6a9IGvEOlro1FRZmeEH48Z'}, 'href': 'https://api.spotify.com/v1/artists/6a9IGvEOlro1FRZmeEH48Z', 'id': '6a9IGvEOlro1FRZmeEH48Z', 'name': 'Erich Kunzel', 'type': 'artist', 'uri': 'spotify:artist:6a9IGvEOlro1FRZmeEH48Z'}, {'external_urls': {'spotify': 'https://open.spotify.com/artist/1FV3sKugQJFGWgWpMIA2Fy'}, 'href': 'https://api.spotify.com/v1/artists/1FV3sKugQJFGWgWpMIA2Fy', 'id': '1FV3sKugQJFGWgWpMIA2Fy', 'name': 'Cincinnati Pops Orchestra', 'type': 'artist', 'uri': 'spotify:artist:1FV3sKugQJFGWgWpMIA2Fy'}, {'external_urls': {'spotify': 'https://open.spotify.com/artist/0CNjbcIqsQ51bdPI9oLxAr'}, 'href': 'https://api.spotify.com/v1/artists/0CNjbcIqsQ51bdPI9oLxAr', 'id': '0CNjbcIqsQ51bdPI9oLxAr', 'name': 'May Festival Chorus', 'type': 'artist', 'uri': 'spotify:artist:0CNjbcIqsQ51bdPI9oLxAr'}], 'disc_number': 1, 'duration_ms': 9000, 'explicit': False, 'external_ids': {'isrc': 'USTE10305162'}, 'external_urls': {'spotify': 'https://open.spotify.com/track/095YxAHboojMePCmlRS6CR'}, 'href': 'https://api.spotify.com/v1/tracks/095YxAHboojMePCmlRS6CR', 'id': '095YxAHboojMePCmlRS6CR', 'is_local': False, 'is_playable': True, 'name': 'Angelus Bells', 'popularity': 0, 'preview_url': None, 'track_number': 5, 'type': 'track', 'uri': 'spotify:track:095YxAHboojMePCmlRS6CR'}\n",
            "No features\n",
            "None\n",
            "{'album': {'album_type': 'compilation', 'artists': [{'external_urls': {'spotify': 'https://open.spotify.com/artist/0LyfQWJT6nXafLPZqxe9Of'}, 'href': 'https://api.spotify.com/v1/artists/0LyfQWJT6nXafLPZqxe9Of', 'id': '0LyfQWJT6nXafLPZqxe9Of', 'name': 'Various Artists', 'type': 'artist', 'uri': 'spotify:artist:0LyfQWJT6nXafLPZqxe9Of'}], 'external_urls': {'spotify': 'https://open.spotify.com/album/2RytaEeXN85B2yQMs2l7Z5'}, 'href': 'https://api.spotify.com/v1/albums/2RytaEeXN85B2yQMs2l7Z5', 'id': '2RytaEeXN85B2yQMs2l7Z5', 'images': [{'height': 640, 'url': 'https://i.scdn.co/image/ab67616d0000b273c86223fdf71d9b7ee4bcb550', 'width': 640}, {'height': 300, 'url': 'https://i.scdn.co/image/ab67616d00001e02c86223fdf71d9b7ee4bcb550', 'width': 300}, {'height': 64, 'url': 'https://i.scdn.co/image/ab67616d00004851c86223fdf71d9b7ee4bcb550', 'width': 64}], 'is_playable': True, 'name': 'The Sound Of Music', 'release_date': '1988-07-01', 'release_date_precision': 'day', 'total_tracks': 26, 'type': 'album', 'uri': 'spotify:album:2RytaEeXN85B2yQMs2l7Z5'}, 'artists': [{'external_urls': {'spotify': 'https://open.spotify.com/artist/6a9IGvEOlro1FRZmeEH48Z'}, 'href': 'https://api.spotify.com/v1/artists/6a9IGvEOlro1FRZmeEH48Z', 'id': '6a9IGvEOlro1FRZmeEH48Z', 'name': 'Erich Kunzel', 'type': 'artist', 'uri': 'spotify:artist:6a9IGvEOlro1FRZmeEH48Z'}, {'external_urls': {'spotify': 'https://open.spotify.com/artist/1FV3sKugQJFGWgWpMIA2Fy'}, 'href': 'https://api.spotify.com/v1/artists/1FV3sKugQJFGWgWpMIA2Fy', 'id': '1FV3sKugQJFGWgWpMIA2Fy', 'name': 'Cincinnati Pops Orchestra', 'type': 'artist', 'uri': 'spotify:artist:1FV3sKugQJFGWgWpMIA2Fy'}], 'disc_number': 1, 'duration_ms': 14360, 'explicit': False, 'external_ids': {'isrc': 'USTE10302162'}, 'external_urls': {'spotify': 'https://open.spotify.com/track/3puiIwFydnBbyVy1JKdvzC'}, 'href': 'https://api.spotify.com/v1/tracks/3puiIwFydnBbyVy1JKdvzC', 'id': '3puiIwFydnBbyVy1JKdvzC', 'is_local': False, 'is_playable': True, 'name': 'The Abbey Bells', 'popularity': 0, 'preview_url': None, 'track_number': 2, 'type': 'track', 'uri': 'spotify:track:3puiIwFydnBbyVy1JKdvzC'}\n"
          ]
        },
        {
          "name": "stderr",
          "output_type": "stream",
          "text": [
            " 76%|███████▋  | 721/944 [23:20<13:20,  3.59s/it]"
          ]
        },
        {
          "name": "stdout",
          "output_type": "stream",
          "text": [
            "max headroom not found!\n"
          ]
        },
        {
          "name": "stderr",
          "output_type": "stream",
          "text": [
            " 77%|███████▋  | 724/944 [23:22<07:04,  1.93s/it]"
          ]
        },
        {
          "name": "stdout",
          "output_type": "stream",
          "text": [
            "original naabtal duo not found!\n"
          ]
        },
        {
          "name": "stderr",
          "output_type": "stream",
          "text": [
            " 77%|███████▋  | 731/944 [23:23<01:31,  2.32it/s]"
          ]
        },
        {
          "name": "stdout",
          "output_type": "stream",
          "text": [
            "mike oldfield feat. aled jones, anita hegerland not found!\n",
            "barry palmer not found!\n"
          ]
        },
        {
          "name": "stderr",
          "output_type": "stream",
          "text": [
            " 78%|███████▊  | 734/944 [23:24<01:14,  2.80it/s]"
          ]
        },
        {
          "name": "stdout",
          "output_type": "stream",
          "text": [
            "out of the ordinary not found!\n",
            "united balls not found!\n"
          ]
        },
        {
          "name": "stderr",
          "output_type": "stream",
          "text": [
            " 78%|███████▊  | 736/944 [23:34<06:52,  1.98s/it]"
          ]
        },
        {
          "name": "stdout",
          "output_type": "stream",
          "text": [
            "alvin stardust not found!\n"
          ]
        },
        {
          "name": "stderr",
          "output_type": "stream",
          "text": [
            " 78%|███████▊  | 738/944 [23:34<04:14,  1.23s/it]"
          ]
        },
        {
          "name": "stdout",
          "output_type": "stream",
          "text": [
            "technotronic feat. felly not found!\n"
          ]
        },
        {
          "name": "stderr",
          "output_type": "stream",
          "text": [
            " 78%|███████▊  | 741/944 [23:35<02:48,  1.20it/s]"
          ]
        },
        {
          "name": "stdout",
          "output_type": "stream",
          "text": [
            "annie lennox not found!\n"
          ]
        },
        {
          "name": "stderr",
          "output_type": "stream",
          "text": [
            " 80%|███████▉  | 752/944 [23:43<01:52,  1.71it/s]"
          ]
        },
        {
          "name": "stdout",
          "output_type": "stream",
          "text": [
            "richard sanderson not found!\n"
          ]
        },
        {
          "name": "stderr",
          "output_type": "stream",
          "text": [
            " 80%|████████  | 757/944 [23:44<00:45,  4.08it/s]"
          ]
        },
        {
          "name": "stdout",
          "output_type": "stream",
          "text": [
            "wolfgang fierek not found!\n",
            "Artist mel has published over 1000 songs in the 80s\n",
            "Artist kim has published over 1000 songs in the 80s\n"
          ]
        },
        {
          "name": "stderr",
          "output_type": "stream",
          "text": [
            " 81%|████████  | 763/944 [24:04<06:50,  2.27s/it]"
          ]
        },
        {
          "name": "stdout",
          "output_type": "stream",
          "text": [
            "tommi ohrner not found!\n"
          ]
        },
        {
          "name": "stderr",
          "output_type": "stream",
          "text": [
            " 82%|████████▏ | 770/944 [24:09<02:31,  1.15it/s]/var/folders/t4/w1slb7fj5kg0tc41jhrm3zx00000gn/T/ipykernel_3572/720617964.py:45: UserWarning:\n",
            "\n",
            "This pattern is interpreted as a regular expression, and has match groups. To actually get the groups, use str.extract.\n",
            "\n",
            " 82%|████████▏ | 775/944 [24:14<02:33,  1.10it/s]"
          ]
        },
        {
          "name": "stdout",
          "output_type": "stream",
          "text": [
            "oliver onions not found!\n"
          ]
        },
        {
          "name": "stderr",
          "output_type": "stream",
          "text": [
            " 83%|████████▎ | 779/944 [24:39<10:45,  3.91s/it]"
          ]
        },
        {
          "name": "stdout",
          "output_type": "stream",
          "text": [
            "jule neigel band not found!\n"
          ]
        },
        {
          "name": "stderr",
          "output_type": "stream",
          "text": [
            " 83%|████████▎ | 783/944 [24:41<04:32,  1.69s/it]"
          ]
        },
        {
          "name": "stdout",
          "output_type": "stream",
          "text": [
            "sensus not found!\n"
          ]
        },
        {
          "name": "stderr",
          "output_type": "stream",
          "text": [
            " 83%|████████▎ | 786/944 [24:44<03:55,  1.49s/it]"
          ]
        },
        {
          "name": "stdout",
          "output_type": "stream",
          "text": [
            "mike oldfield and roger chapman not found!\n"
          ]
        },
        {
          "name": "stderr",
          "output_type": "stream",
          "text": [
            " 84%|████████▎ | 790/944 [24:46<01:57,  1.31it/s]"
          ]
        },
        {
          "name": "stdout",
          "output_type": "stream",
          "text": [
            "salt 'n' pepa feat. e.u. not found!\n",
            "lee marrow not found!\n"
          ]
        },
        {
          "name": "stderr",
          "output_type": "stream",
          "text": [
            " 84%|████████▍ | 792/944 [24:46<01:23,  1.82it/s]"
          ]
        },
        {
          "name": "stdout",
          "output_type": "stream",
          "text": [
            "wendy fraser not found!\n"
          ]
        },
        {
          "name": "stderr",
          "output_type": "stream",
          "text": [
            " 84%|████████▍ | 796/944 [24:47<00:46,  3.21it/s]"
          ]
        },
        {
          "name": "stdout",
          "output_type": "stream",
          "text": [
            "Artist mike has published over 1000 songs in the 80s\n"
          ]
        },
        {
          "name": "stderr",
          "output_type": "stream",
          "text": [
            " 85%|████████▍ | 801/944 [25:05<03:53,  1.63s/it]"
          ]
        },
        {
          "name": "stdout",
          "output_type": "stream",
          "text": [
            "No features\n",
            "None\n",
            "{'album': {'album_type': 'album', 'artists': [{'external_urls': {'spotify': 'https://open.spotify.com/artist/2sYcO2wGoXqERSAEI0EcxD'}, 'href': 'https://api.spotify.com/v1/artists/2sYcO2wGoXqERSAEI0EcxD', 'id': '2sYcO2wGoXqERSAEI0EcxD', 'name': 'Robert Simpson', 'type': 'artist', 'uri': 'spotify:artist:2sYcO2wGoXqERSAEI0EcxD'}, {'external_urls': {'spotify': 'https://open.spotify.com/artist/2KuPDJp7FCpmaUy4jKcjfB'}, 'href': 'https://api.spotify.com/v1/artists/2KuPDJp7FCpmaUy4jKcjfB', 'id': '2KuPDJp7FCpmaUy4jKcjfB', 'name': 'Bournemouth Symphony Orchestra', 'type': 'artist', 'uri': 'spotify:artist:2KuPDJp7FCpmaUy4jKcjfB'}, {'external_urls': {'spotify': 'https://open.spotify.com/artist/2lfhRHLz3kC17tcVKJqJ4Y'}, 'href': 'https://api.spotify.com/v1/artists/2lfhRHLz3kC17tcVKJqJ4Y', 'id': '2lfhRHLz3kC17tcVKJqJ4Y', 'name': 'Vernon Handley', 'type': 'artist', 'uri': 'spotify:artist:2lfhRHLz3kC17tcVKJqJ4Y'}], 'external_urls': {'spotify': 'https://open.spotify.com/album/52PFE7IevxLVRelsfFb8ef'}, 'href': 'https://api.spotify.com/v1/albums/52PFE7IevxLVRelsfFb8ef', 'id': '52PFE7IevxLVRelsfFb8ef', 'images': [{'height': 640, 'url': 'https://i.scdn.co/image/ab67616d0000b273167287973177d78f24c68b00', 'width': 640}, {'height': 300, 'url': 'https://i.scdn.co/image/ab67616d00001e02167287973177d78f24c68b00', 'width': 300}, {'height': 64, 'url': 'https://i.scdn.co/image/ab67616d00004851167287973177d78f24c68b00', 'width': 64}], 'is_playable': True, 'name': 'Simpson: Symphony No. 9 & Illustrated Talk by the Composer', 'release_date': '1988-01-01', 'release_date_precision': 'day', 'total_tracks': 18, 'type': 'album', 'uri': 'spotify:album:52PFE7IevxLVRelsfFb8ef'}, 'artists': [{'external_urls': {'spotify': 'https://open.spotify.com/artist/2sYcO2wGoXqERSAEI0EcxD'}, 'href': 'https://api.spotify.com/v1/artists/2sYcO2wGoXqERSAEI0EcxD', 'id': '2sYcO2wGoXqERSAEI0EcxD', 'name': 'Robert Simpson', 'type': 'artist', 'uri': 'spotify:artist:2sYcO2wGoXqERSAEI0EcxD'}, {'external_urls': {'spotify': 'https://open.spotify.com/artist/2lfhRHLz3kC17tcVKJqJ4Y'}, 'href': 'https://api.spotify.com/v1/artists/2lfhRHLz3kC17tcVKJqJ4Y', 'id': '2lfhRHLz3kC17tcVKJqJ4Y', 'name': 'Vernon Handley', 'type': 'artist', 'uri': 'spotify:artist:2lfhRHLz3kC17tcVKJqJ4Y'}, {'external_urls': {'spotify': 'https://open.spotify.com/artist/2KuPDJp7FCpmaUy4jKcjfB'}, 'href': 'https://api.spotify.com/v1/artists/2KuPDJp7FCpmaUy4jKcjfB', 'id': '2KuPDJp7FCpmaUy4jKcjfB', 'name': 'Bournemouth Symphony Orchestra', 'type': 'artist', 'uri': 'spotify:artist:2KuPDJp7FCpmaUy4jKcjfB'}], 'disc_number': 1, 'duration_ms': 12066, 'explicit': False, 'external_ids': {'isrc': 'GBAJY8829915'}, 'external_urls': {'spotify': 'https://open.spotify.com/track/6qCzk5XBvH2y4q95BGQspl'}, 'href': 'https://api.spotify.com/v1/tracks/6qCzk5XBvH2y4q95BGQspl', 'id': '6qCzk5XBvH2y4q95BGQspl', 'is_local': False, 'is_playable': True, 'name': 'Symphony No. 9: XV.', 'popularity': 0, 'preview_url': None, 'track_number': 15, 'type': 'track', 'uri': 'spotify:track:6qCzk5XBvH2y4q95BGQspl'}\n"
          ]
        },
        {
          "name": "stderr",
          "output_type": "stream",
          "text": [
            " 85%|████████▍ | 802/944 [25:07<04:26,  1.87s/it]"
          ]
        },
        {
          "name": "stdout",
          "output_type": "stream",
          "text": [
            "luisa fernandez not found!\n"
          ]
        },
        {
          "name": "stderr",
          "output_type": "stream",
          "text": [
            " 86%|████████▌ | 810/944 [25:11<01:10,  1.89it/s]"
          ]
        },
        {
          "name": "stdout",
          "output_type": "stream",
          "text": [
            "prince mohammed not found!\n",
            "marc almond feat. gene pitney not found!\n"
          ]
        },
        {
          "name": "stderr",
          "output_type": "stream",
          "text": [
            " 87%|████████▋ | 821/944 [25:34<04:29,  2.19s/it]"
          ]
        },
        {
          "name": "stdout",
          "output_type": "stream",
          "text": [
            "the jacksons with mick jagger not found!\n"
          ]
        },
        {
          "name": "stderr",
          "output_type": "stream",
          "text": [
            " 88%|████████▊ | 829/944 [25:40<01:06,  1.72it/s]"
          ]
        },
        {
          "name": "stdout",
          "output_type": "stream",
          "text": [
            "silent circle not found!\n",
            "coldcut feat. junior reid not found!\n"
          ]
        },
        {
          "name": "stderr",
          "output_type": "stream",
          "text": [
            " 88%|████████▊ | 835/944 [25:41<00:22,  4.88it/s]"
          ]
        },
        {
          "name": "stdout",
          "output_type": "stream",
          "text": [
            "Artist alf has published over 1000 songs in the 80s\n",
            "pupo not found!\n",
            "racey not found!\n"
          ]
        },
        {
          "name": "stderr",
          "output_type": "stream",
          "text": [
            " 89%|████████▉ | 839/944 [25:42<00:26,  4.02it/s]"
          ]
        },
        {
          "name": "stdout",
          "output_type": "stream",
          "text": [
            "tony christie not found!\n",
            "jive bunny not found!\n",
            "the mastermixers not found!\n"
          ]
        },
        {
          "name": "stderr",
          "output_type": "stream",
          "text": [
            " 90%|████████▉ | 845/944 [26:01<07:50,  4.76s/it]"
          ]
        },
        {
          "name": "stdout",
          "output_type": "stream",
          "text": [
            "jawoll not found!\n"
          ]
        },
        {
          "name": "stderr",
          "output_type": "stream",
          "text": [
            " 90%|█████████ | 851/944 [26:12<04:38,  3.00s/it]"
          ]
        },
        {
          "name": "stdout",
          "output_type": "stream",
          "text": [
            "tolga flim flam balkan not found!\n"
          ]
        },
        {
          "name": "stderr",
          "output_type": "stream",
          "text": [
            " 91%|█████████ | 858/944 [26:32<04:29,  3.13s/it]"
          ]
        },
        {
          "name": "stdout",
          "output_type": "stream",
          "text": [
            "the g.b. experience not found!\n"
          ]
        },
        {
          "name": "stderr",
          "output_type": "stream",
          "text": [
            " 92%|█████████▏| 864/944 [26:39<02:19,  1.74s/it]"
          ]
        },
        {
          "name": "stdout",
          "output_type": "stream",
          "text": [
            "the plastic population not found!\n"
          ]
        },
        {
          "name": "stderr",
          "output_type": "stream",
          "text": [
            " 92%|█████████▏| 870/944 [26:42<00:59,  1.25it/s]"
          ]
        },
        {
          "name": "stdout",
          "output_type": "stream",
          "text": [
            "fat boys with stupid def vocals by chubby checker not found!\n"
          ]
        },
        {
          "name": "stderr",
          "output_type": "stream",
          "text": [
            " 92%|█████████▏| 873/944 [26:44<00:50,  1.41it/s]"
          ]
        },
        {
          "name": "stdout",
          "output_type": "stream",
          "text": [
            "first patrol not found!\n"
          ]
        },
        {
          "name": "stderr",
          "output_type": "stream",
          "text": [
            " 93%|█████████▎| 876/944 [26:45<00:39,  1.71it/s]"
          ]
        },
        {
          "name": "stdout",
          "output_type": "stream",
          "text": [
            "Artist pil has published over 1000 songs in the 80s\n",
            "david bowie and the pat metheny group not found!\n"
          ]
        },
        {
          "name": "stderr",
          "output_type": "stream",
          "text": [
            " 94%|█████████▎| 884/944 [27:06<01:54,  1.91s/it]"
          ]
        },
        {
          "name": "stdout",
          "output_type": "stream",
          "text": [
            "mike oldfield (vocals: maggie reilly) not found!\n"
          ]
        },
        {
          "name": "stderr",
          "output_type": "stream",
          "text": [
            "/var/folders/t4/w1slb7fj5kg0tc41jhrm3zx00000gn/T/ipykernel_3572/720617964.py:45: UserWarning:\n",
            "\n",
            "This pattern is interpreted as a regular expression, and has match groups. To actually get the groups, use str.extract.\n",
            "\n",
            "/var/folders/t4/w1slb7fj5kg0tc41jhrm3zx00000gn/T/ipykernel_3572/720617964.py:45: UserWarning:\n",
            "\n",
            "This pattern is interpreted as a regular expression, and has match groups. To actually get the groups, use str.extract.\n",
            "\n",
            "/var/folders/t4/w1slb7fj5kg0tc41jhrm3zx00000gn/T/ipykernel_3572/720617964.py:45: UserWarning:\n",
            "\n",
            "This pattern is interpreted as a regular expression, and has match groups. To actually get the groups, use str.extract.\n",
            "\n",
            " 94%|█████████▍| 887/944 [27:14<02:06,  2.22s/it]"
          ]
        },
        {
          "name": "stdout",
          "output_type": "stream",
          "text": [
            "patrick duffy not found!\n",
            "No features\n",
            "None\n",
            "{'album': {'album_type': 'album', 'artists': [{'external_urls': {'spotify': 'https://open.spotify.com/artist/1i6bV1rRKRPTyssKZuLfwS'}, 'href': 'https://api.spotify.com/v1/artists/1i6bV1rRKRPTyssKZuLfwS', 'id': '1i6bV1rRKRPTyssKZuLfwS', 'name': 'Mighty Clouds Of Joy', 'type': 'artist', 'uri': 'spotify:artist:1i6bV1rRKRPTyssKZuLfwS'}], 'external_urls': {'spotify': 'https://open.spotify.com/album/0k0uahm0oTiuRdkLaEktJZ'}, 'href': 'https://api.spotify.com/v1/albums/0k0uahm0oTiuRdkLaEktJZ', 'id': '0k0uahm0oTiuRdkLaEktJZ', 'images': [{'height': 640, 'url': 'https://i.scdn.co/image/ab67616d0000b273f6d8cda69c48eded603f9f9b', 'width': 640}, {'height': 300, 'url': 'https://i.scdn.co/image/ab67616d00001e02f6d8cda69c48eded603f9f9b', 'width': 300}, {'height': 64, 'url': 'https://i.scdn.co/image/ab67616d00004851f6d8cda69c48eded603f9f9b', 'width': 64}], 'is_playable': True, 'name': 'Cloudburst', 'release_date': '1980-07-03', 'release_date_precision': 'day', 'total_tracks': 11, 'type': 'album', 'uri': 'spotify:album:0k0uahm0oTiuRdkLaEktJZ'}, 'artists': [{'external_urls': {'spotify': 'https://open.spotify.com/artist/1i6bV1rRKRPTyssKZuLfwS'}, 'href': 'https://api.spotify.com/v1/artists/1i6bV1rRKRPTyssKZuLfwS', 'id': '1i6bV1rRKRPTyssKZuLfwS', 'name': 'Mighty Clouds Of Joy', 'type': 'artist', 'uri': 'spotify:artist:1i6bV1rRKRPTyssKZuLfwS'}], 'disc_number': 1, 'duration_ms': 8893, 'explicit': False, 'external_ids': {'isrc': 'USM1C2000115'}, 'external_urls': {'spotify': 'https://open.spotify.com/track/22zoOSMKXB28fm7Bhh9twq'}, 'href': 'https://api.spotify.com/v1/tracks/22zoOSMKXB28fm7Bhh9twq', 'id': '22zoOSMKXB28fm7Bhh9twq', 'is_local': False, 'is_playable': True, 'name': \"I'll Always Stay With God (Reprise)\", 'popularity': 0, 'preview_url': 'https://p.scdn.co/mp3-preview/383a3a3c762f3d30a05475bdf2be99bdd68c742e?cid=34a31ed56a084e15b0d7079dd3aa77bf', 'track_number': 11, 'type': 'track', 'uri': 'spotify:track:22zoOSMKXB28fm7Bhh9twq'}\n"
          ]
        },
        {
          "name": "stderr",
          "output_type": "stream",
          "text": [
            " 94%|█████████▍| 891/944 [27:32<02:52,  3.25s/it]"
          ]
        },
        {
          "name": "stdout",
          "output_type": "stream",
          "text": [
            "wolf maahn und unterstützung not found!\n"
          ]
        },
        {
          "name": "stderr",
          "output_type": "stream",
          "text": [
            " 95%|█████████▌| 897/944 [27:33<00:41,  1.12it/s]"
          ]
        },
        {
          "name": "stdout",
          "output_type": "stream",
          "text": [
            "eddy huntington not found!\n",
            "lee majors not found!\n"
          ]
        },
        {
          "name": "stderr",
          "output_type": "stream",
          "text": [
            " 95%|█████████▌| 901/944 [27:37<00:32,  1.31it/s]"
          ]
        },
        {
          "name": "stdout",
          "output_type": "stream",
          "text": [
            "robert howard not found!\n"
          ]
        },
        {
          "name": "stderr",
          "output_type": "stream",
          "text": [
            " 96%|█████████▌| 904/944 [27:37<00:17,  2.25it/s]"
          ]
        },
        {
          "name": "stdout",
          "output_type": "stream",
          "text": [
            "endgames not found!\n"
          ]
        },
        {
          "name": "stderr",
          "output_type": "stream",
          "text": [
            " 96%|█████████▌| 908/944 [27:40<00:21,  1.65it/s]"
          ]
        },
        {
          "name": "stdout",
          "output_type": "stream",
          "text": [
            "the bootzilla orchestra not found!\n"
          ]
        },
        {
          "name": "stderr",
          "output_type": "stream",
          "text": [
            " 97%|█████████▋| 912/944 [27:41<00:14,  2.26it/s]"
          ]
        },
        {
          "name": "stdout",
          "output_type": "stream",
          "text": [
            "usa for africa not found!\n"
          ]
        },
        {
          "name": "stderr",
          "output_type": "stream",
          "text": [
            " 97%|█████████▋| 915/944 [27:43<00:12,  2.37it/s]"
          ]
        },
        {
          "name": "stdout",
          "output_type": "stream",
          "text": [
            "picnic at the whitehouse not found!\n",
            "wee papa girl rappers not found!\n"
          ]
        },
        {
          "name": "stderr",
          "output_type": "stream",
          "text": [
            " 98%|█████████▊| 924/944 [28:07<00:27,  1.36s/it]"
          ]
        },
        {
          "name": "stdout",
          "output_type": "stream",
          "text": [
            "mike anthony not found!\n",
            "die schlümpfe not found!\n"
          ]
        },
        {
          "name": "stderr",
          "output_type": "stream",
          "text": [
            " 99%|█████████▊| 930/944 [28:14<00:10,  1.37it/s]"
          ]
        },
        {
          "name": "stdout",
          "output_type": "stream",
          "text": [
            "chris roberts not found!\n",
            "eroc not found!\n",
            "sam cooke not found!\n",
            "video kids not found!\n"
          ]
        },
        {
          "name": "stderr",
          "output_type": "stream",
          "text": [
            " 99%|█████████▉| 937/944 [28:17<00:02,  2.55it/s]"
          ]
        },
        {
          "name": "stdout",
          "output_type": "stream",
          "text": [
            "heidi brühl not found!\n",
            "al hudson not found!\n"
          ]
        },
        {
          "name": "stderr",
          "output_type": "stream",
          "text": [
            "100%|█████████▉| 943/944 [28:37<00:01,  1.61s/it]"
          ]
        },
        {
          "name": "stdout",
          "output_type": "stream",
          "text": [
            "schrott nach 8 not found!\n"
          ]
        },
        {
          "name": "stderr",
          "output_type": "stream",
          "text": [
            "100%|██████████| 944/944 [28:38<00:00,  1.82s/it]\n"
          ]
        }
      ],
      "source": [
        "# Initialize offset and retries\n",
        "offset = 0\n",
        "\n",
        "artist_over_1000 = []\n",
        "no_tracks = []\n",
        "no_features = []\n",
        "artists_not_found = []\n",
        "\n",
        "\n",
        "df = pd.DataFrame()\n",
        "with tqdm(total=len(chart_power_df_explode[\"Artist\"].unique())) as pbar:\n",
        "  tracks_ = []\n",
        "  audio_features_ = []\n",
        "\n",
        "  for artist in chart_power_df_explode[\"Artist\"].unique():\n",
        "    total_results = get_number_of_tracks(\"1980-1989\", artist, False)\n",
        "    if total_results == 0:\n",
        "      print(f\"{artist} not found!\")\n",
        "      artists_not_found.append(artist)\n",
        "    elif total_results < 1000:\n",
        "      offset = 0\n",
        "      while offset < total_results:\n",
        "        result = sp_request(lambda artist, offset: sp.search(q=f\"year:1980-1989 artist:{artist}\", type=\"track\", limit=50, offset=offset, market=\"DE\"), 0, 100, artist, offset)\n",
        "        offset += 50\n",
        "        if \"tracks\" not in result:\n",
        "          print(\"No tracks in result\")\n",
        "          continue\n",
        "        \n",
        "        tracks = result[\"tracks\"]\n",
        "        \n",
        "        if \"items\" in tracks and isinstance(tracks[\"items\"], list):\n",
        "          for track in tracks[\"items\"]:\n",
        "            tracks_.append(track)\n",
        "            if len(tracks_) == 100:\n",
        "              audio_features_ = sp_request(lambda x: sp.audio_features([track[\"id\"] for track in x]), 0, 100, tracks_)\n",
        "              track_features = []\n",
        "              if len(tracks_) != len(audio_features_):\n",
        "                print(\"Tracks and features have not the same lengh!\")\n",
        "                print(len(tracks_), len(audio_features_))\n",
        "              for t, af in list(zip(tracks_, audio_features_)):\n",
        "                if not t:\n",
        "                  print(\"No track!\")\n",
        "                  print(t)\n",
        "                  print(af)\n",
        "                  no_tracks.append(af)\n",
        "                  continue\n",
        "                if not af:\n",
        "                  print(\"No features\")\n",
        "                  print(af)\n",
        "                  print(t)\n",
        "                  no_features.append(t)\n",
        "                  continue\n",
        "                features = filter_track_features(t, af, False)\n",
        "                track_features.append(features)\n",
        "              df = pd.concat([df, pd.DataFrame(track_features)], ignore_index=True)\n",
        "              df.to_csv(f\"{PATH}/data-new-without-genres-final.csv\")\n",
        "              tracks_ = []\n",
        "              audio_features_ = []\n",
        "        else:\n",
        "          continue\n",
        "    else:\n",
        "      print(f\"Artist {artist} has published over 1000 songs in the 80s\")\n",
        "      artist_over_1000.append(artist)\n",
        "\n",
        "    pbar.update(1)\n",
        "\n",
        "problems = {\n",
        "    \"artist_over_1000\": artist_over_1000,\n",
        "    \"artist_not_found\": artists_not_found,\n",
        "    \"no_features\": [track[\"id\"] for track in no_features]\n",
        "}\n",
        "with open(f\"{PATH}/problems.json\", \"w\") as file:\n",
        "    json.dump(problems, file)"
      ]
    },
    {
      "cell_type": "code",
      "execution_count": 92,
      "id": "7a08542a",
      "metadata": {},
      "outputs": [
        {
          "data": {
            "text/html": [
              "<div>\n",
              "<style scoped>\n",
              "    .dataframe tbody tr th:only-of-type {\n",
              "        vertical-align: middle;\n",
              "    }\n",
              "\n",
              "    .dataframe tbody tr th {\n",
              "        vertical-align: top;\n",
              "    }\n",
              "\n",
              "    .dataframe thead th {\n",
              "        text-align: right;\n",
              "    }\n",
              "</style>\n",
              "<table border=\"1\" class=\"dataframe\">\n",
              "  <thead>\n",
              "    <tr style=\"text-align: right;\">\n",
              "      <th></th>\n",
              "      <th>name</th>\n",
              "      <th>artists</th>\n",
              "      <th>album</th>\n",
              "      <th>release_date</th>\n",
              "      <th>release_date_precision</th>\n",
              "      <th>spotify_id</th>\n",
              "      <th>chart_power</th>\n",
              "      <th>uri</th>\n",
              "      <th>popularity</th>\n",
              "      <th>genres</th>\n",
              "      <th>...</th>\n",
              "      <th>mode</th>\n",
              "      <th>speechiness</th>\n",
              "      <th>acousticness</th>\n",
              "      <th>instrumentalness</th>\n",
              "      <th>liveness</th>\n",
              "      <th>valence</th>\n",
              "      <th>tempo</th>\n",
              "      <th>duration_ms</th>\n",
              "      <th>time_signature</th>\n",
              "      <th>isrc</th>\n",
              "    </tr>\n",
              "  </thead>\n",
              "  <tbody>\n",
              "    <tr>\n",
              "      <th>0</th>\n",
              "      <td>19 - Destruction Mix</td>\n",
              "      <td>Paul Hardcastle</td>\n",
              "      <td>Paul Hardcastle</td>\n",
              "      <td>1985-01-01</td>\n",
              "      <td>day</td>\n",
              "      <td>1AzIfmCVW3orhfmdxmCRo1</td>\n",
              "      <td>NaN</td>\n",
              "      <td>spotify:track:1AzIfmCVW3orhfmdxmCRo1</td>\n",
              "      <td>35</td>\n",
              "      <td>NaN</td>\n",
              "      <td>...</td>\n",
              "      <td>1</td>\n",
              "      <td>0.0816</td>\n",
              "      <td>0.00296</td>\n",
              "      <td>0.620000</td>\n",
              "      <td>0.0501</td>\n",
              "      <td>0.729</td>\n",
              "      <td>117.859</td>\n",
              "      <td>428667</td>\n",
              "      <td>4</td>\n",
              "      <td>GBAYK8500158</td>\n",
              "    </tr>\n",
              "    <tr>\n",
              "      <th>1</th>\n",
              "      <td>Rain Forest</td>\n",
              "      <td>Paul Hardcastle</td>\n",
              "      <td>Paul Hardcastle</td>\n",
              "      <td>1985-01-01</td>\n",
              "      <td>day</td>\n",
              "      <td>3dbpLKZFd8Oc19cqiSuWoW</td>\n",
              "      <td>NaN</td>\n",
              "      <td>spotify:track:3dbpLKZFd8Oc19cqiSuWoW</td>\n",
              "      <td>39</td>\n",
              "      <td>NaN</td>\n",
              "      <td>...</td>\n",
              "      <td>1</td>\n",
              "      <td>0.0499</td>\n",
              "      <td>0.00108</td>\n",
              "      <td>0.881000</td>\n",
              "      <td>0.3520</td>\n",
              "      <td>0.918</td>\n",
              "      <td>125.952</td>\n",
              "      <td>448480</td>\n",
              "      <td>4</td>\n",
              "      <td>GBAYK0700010</td>\n",
              "    </tr>\n",
              "    <tr>\n",
              "      <th>2</th>\n",
              "      <td>Don't Waste My Time</td>\n",
              "      <td>Paul Hardcastle</td>\n",
              "      <td>Paul Hardcastle</td>\n",
              "      <td>1985-01-01</td>\n",
              "      <td>day</td>\n",
              "      <td>6QZMAB9iyMDY0SIDGpsggw</td>\n",
              "      <td>758.0</td>\n",
              "      <td>spotify:track:6QZMAB9iyMDY0SIDGpsggw</td>\n",
              "      <td>32</td>\n",
              "      <td>NaN</td>\n",
              "      <td>...</td>\n",
              "      <td>1</td>\n",
              "      <td>0.0529</td>\n",
              "      <td>0.13900</td>\n",
              "      <td>0.000190</td>\n",
              "      <td>0.1590</td>\n",
              "      <td>0.815</td>\n",
              "      <td>99.831</td>\n",
              "      <td>266133</td>\n",
              "      <td>4</td>\n",
              "      <td>GBAYK8600001</td>\n",
              "    </tr>\n",
              "    <tr>\n",
              "      <th>3</th>\n",
              "      <td>King Tut</td>\n",
              "      <td>Paul Hardcastle</td>\n",
              "      <td>Paul Hardcastle</td>\n",
              "      <td>1985-01-01</td>\n",
              "      <td>day</td>\n",
              "      <td>4cPsKTdxE3dySMY4ggNmBN</td>\n",
              "      <td>NaN</td>\n",
              "      <td>spotify:track:4cPsKTdxE3dySMY4ggNmBN</td>\n",
              "      <td>29</td>\n",
              "      <td>NaN</td>\n",
              "      <td>...</td>\n",
              "      <td>0</td>\n",
              "      <td>0.0345</td>\n",
              "      <td>0.00343</td>\n",
              "      <td>0.518000</td>\n",
              "      <td>0.0987</td>\n",
              "      <td>0.936</td>\n",
              "      <td>125.238</td>\n",
              "      <td>237307</td>\n",
              "      <td>4</td>\n",
              "      <td>GBAYK8500131</td>\n",
              "    </tr>\n",
              "    <tr>\n",
              "      <th>4</th>\n",
              "      <td>19 - New Version</td>\n",
              "      <td>Paul Hardcastle</td>\n",
              "      <td>Paul Hardcastle</td>\n",
              "      <td>1985-01-01</td>\n",
              "      <td>day</td>\n",
              "      <td>6B2Tn5vzAFhJUuBG3N77op</td>\n",
              "      <td>NaN</td>\n",
              "      <td>spotify:track:6B2Tn5vzAFhJUuBG3N77op</td>\n",
              "      <td>22</td>\n",
              "      <td>NaN</td>\n",
              "      <td>...</td>\n",
              "      <td>0</td>\n",
              "      <td>0.0681</td>\n",
              "      <td>0.00615</td>\n",
              "      <td>0.246000</td>\n",
              "      <td>0.4120</td>\n",
              "      <td>0.362</td>\n",
              "      <td>117.901</td>\n",
              "      <td>378240</td>\n",
              "      <td>4</td>\n",
              "      <td>GBAYK0700009</td>\n",
              "    </tr>\n",
              "    <tr>\n",
              "      <th>...</th>\n",
              "      <td>...</td>\n",
              "      <td>...</td>\n",
              "      <td>...</td>\n",
              "      <td>...</td>\n",
              "      <td>...</td>\n",
              "      <td>...</td>\n",
              "      <td>...</td>\n",
              "      <td>...</td>\n",
              "      <td>...</td>\n",
              "      <td>...</td>\n",
              "      <td>...</td>\n",
              "      <td>...</td>\n",
              "      <td>...</td>\n",
              "      <td>...</td>\n",
              "      <td>...</td>\n",
              "      <td>...</td>\n",
              "      <td>...</td>\n",
              "      <td>...</td>\n",
              "      <td>...</td>\n",
              "      <td>...</td>\n",
              "      <td>...</td>\n",
              "    </tr>\n",
              "    <tr>\n",
              "      <th>68366</th>\n",
              "      <td>Wär' uns der Himmel immer so nah</td>\n",
              "      <td>Rolf Zuckowski</td>\n",
              "      <td>Winterkinder ...auf der Suche nach Weihnachten</td>\n",
              "      <td>1987-01-01</td>\n",
              "      <td>day</td>\n",
              "      <td>1xIYClqPYtYWB1OYps9XTC</td>\n",
              "      <td>NaN</td>\n",
              "      <td>spotify:track:1xIYClqPYtYWB1OYps9XTC</td>\n",
              "      <td>17</td>\n",
              "      <td>NaN</td>\n",
              "      <td>...</td>\n",
              "      <td>1</td>\n",
              "      <td>0.0268</td>\n",
              "      <td>0.73000</td>\n",
              "      <td>0.000213</td>\n",
              "      <td>0.1060</td>\n",
              "      <td>0.453</td>\n",
              "      <td>75.193</td>\n",
              "      <td>238293</td>\n",
              "      <td>4</td>\n",
              "      <td>DEF068706280</td>\n",
              "    </tr>\n",
              "    <tr>\n",
              "      <th>68367</th>\n",
              "      <td>Du schaffst mich</td>\n",
              "      <td>Rolf Zuckowski</td>\n",
              "      <td>Zeit für Kinder - Zeit für uns</td>\n",
              "      <td>1985-01-01</td>\n",
              "      <td>day</td>\n",
              "      <td>42hSxEAFN9drVjH7jge2WH</td>\n",
              "      <td>NaN</td>\n",
              "      <td>spotify:track:42hSxEAFN9drVjH7jge2WH</td>\n",
              "      <td>17</td>\n",
              "      <td>NaN</td>\n",
              "      <td>...</td>\n",
              "      <td>0</td>\n",
              "      <td>0.0314</td>\n",
              "      <td>0.46900</td>\n",
              "      <td>0.000029</td>\n",
              "      <td>0.0917</td>\n",
              "      <td>0.771</td>\n",
              "      <td>89.339</td>\n",
              "      <td>238733</td>\n",
              "      <td>4</td>\n",
              "      <td>DEF068505140</td>\n",
              "    </tr>\n",
              "    <tr>\n",
              "      <th>68368</th>\n",
              "      <td>Dein kleines Leben</td>\n",
              "      <td>Rolf Zuckowski</td>\n",
              "      <td>Was Spaß macht...</td>\n",
              "      <td>1983-01-01</td>\n",
              "      <td>day</td>\n",
              "      <td>3NlsmPLdFAPQy17hTyj6g2</td>\n",
              "      <td>NaN</td>\n",
              "      <td>spotify:track:3NlsmPLdFAPQy17hTyj6g2</td>\n",
              "      <td>17</td>\n",
              "      <td>NaN</td>\n",
              "      <td>...</td>\n",
              "      <td>1</td>\n",
              "      <td>0.0305</td>\n",
              "      <td>0.27200</td>\n",
              "      <td>0.000348</td>\n",
              "      <td>0.1990</td>\n",
              "      <td>0.323</td>\n",
              "      <td>74.844</td>\n",
              "      <td>245813</td>\n",
              "      <td>4</td>\n",
              "      <td>DEF068302440</td>\n",
              "    </tr>\n",
              "    <tr>\n",
              "      <th>68369</th>\n",
              "      <td>Frag mir doch kein Loch in'n Bauch</td>\n",
              "      <td>Rolf Zuckowski</td>\n",
              "      <td>Frag mir doch kein Loch in'n Bauch</td>\n",
              "      <td>1986-01-01</td>\n",
              "      <td>day</td>\n",
              "      <td>4BYAvP6SoXz5wedbscsTsA</td>\n",
              "      <td>NaN</td>\n",
              "      <td>spotify:track:4BYAvP6SoXz5wedbscsTsA</td>\n",
              "      <td>18</td>\n",
              "      <td>NaN</td>\n",
              "      <td>...</td>\n",
              "      <td>1</td>\n",
              "      <td>0.2650</td>\n",
              "      <td>0.51600</td>\n",
              "      <td>0.000017</td>\n",
              "      <td>0.0927</td>\n",
              "      <td>0.684</td>\n",
              "      <td>184.294</td>\n",
              "      <td>176547</td>\n",
              "      <td>4</td>\n",
              "      <td>DEF068600610</td>\n",
              "    </tr>\n",
              "    <tr>\n",
              "      <th>68370</th>\n",
              "      <td>Ich bau mir eine Höhle</td>\n",
              "      <td>Rolf Zuckowski</td>\n",
              "      <td>Frag mir doch kein Loch in'n Bauch</td>\n",
              "      <td>1986-01-01</td>\n",
              "      <td>day</td>\n",
              "      <td>4XLaYoFMrLtK81EB0afulU</td>\n",
              "      <td>NaN</td>\n",
              "      <td>spotify:track:4XLaYoFMrLtK81EB0afulU</td>\n",
              "      <td>17</td>\n",
              "      <td>NaN</td>\n",
              "      <td>...</td>\n",
              "      <td>1</td>\n",
              "      <td>0.0274</td>\n",
              "      <td>0.80000</td>\n",
              "      <td>0.000000</td>\n",
              "      <td>0.0869</td>\n",
              "      <td>0.490</td>\n",
              "      <td>106.788</td>\n",
              "      <td>174267</td>\n",
              "      <td>4</td>\n",
              "      <td>DEF068600630</td>\n",
              "    </tr>\n",
              "  </tbody>\n",
              "</table>\n",
              "<p>68371 rows × 24 columns</p>\n",
              "</div>"
            ],
            "text/plain": [
              "                                     name          artists  \\\n",
              "0                    19 - Destruction Mix  Paul Hardcastle   \n",
              "1                             Rain Forest  Paul Hardcastle   \n",
              "2                     Don't Waste My Time  Paul Hardcastle   \n",
              "3                                King Tut  Paul Hardcastle   \n",
              "4                        19 - New Version  Paul Hardcastle   \n",
              "...                                   ...              ...   \n",
              "68366    Wär' uns der Himmel immer so nah   Rolf Zuckowski   \n",
              "68367                    Du schaffst mich   Rolf Zuckowski   \n",
              "68368                  Dein kleines Leben   Rolf Zuckowski   \n",
              "68369  Frag mir doch kein Loch in'n Bauch   Rolf Zuckowski   \n",
              "68370              Ich bau mir eine Höhle   Rolf Zuckowski   \n",
              "\n",
              "                                                album release_date  \\\n",
              "0                                     Paul Hardcastle   1985-01-01   \n",
              "1                                     Paul Hardcastle   1985-01-01   \n",
              "2                                     Paul Hardcastle   1985-01-01   \n",
              "3                                     Paul Hardcastle   1985-01-01   \n",
              "4                                     Paul Hardcastle   1985-01-01   \n",
              "...                                               ...          ...   \n",
              "68366  Winterkinder ...auf der Suche nach Weihnachten   1987-01-01   \n",
              "68367                  Zeit für Kinder - Zeit für uns   1985-01-01   \n",
              "68368                               Was Spaß macht...   1983-01-01   \n",
              "68369              Frag mir doch kein Loch in'n Bauch   1986-01-01   \n",
              "68370              Frag mir doch kein Loch in'n Bauch   1986-01-01   \n",
              "\n",
              "      release_date_precision              spotify_id  chart_power  \\\n",
              "0                        day  1AzIfmCVW3orhfmdxmCRo1          NaN   \n",
              "1                        day  3dbpLKZFd8Oc19cqiSuWoW          NaN   \n",
              "2                        day  6QZMAB9iyMDY0SIDGpsggw        758.0   \n",
              "3                        day  4cPsKTdxE3dySMY4ggNmBN          NaN   \n",
              "4                        day  6B2Tn5vzAFhJUuBG3N77op          NaN   \n",
              "...                      ...                     ...          ...   \n",
              "68366                    day  1xIYClqPYtYWB1OYps9XTC          NaN   \n",
              "68367                    day  42hSxEAFN9drVjH7jge2WH          NaN   \n",
              "68368                    day  3NlsmPLdFAPQy17hTyj6g2          NaN   \n",
              "68369                    day  4BYAvP6SoXz5wedbscsTsA          NaN   \n",
              "68370                    day  4XLaYoFMrLtK81EB0afulU          NaN   \n",
              "\n",
              "                                        uri  popularity  genres  ...  mode  \\\n",
              "0      spotify:track:1AzIfmCVW3orhfmdxmCRo1          35     NaN  ...     1   \n",
              "1      spotify:track:3dbpLKZFd8Oc19cqiSuWoW          39     NaN  ...     1   \n",
              "2      spotify:track:6QZMAB9iyMDY0SIDGpsggw          32     NaN  ...     1   \n",
              "3      spotify:track:4cPsKTdxE3dySMY4ggNmBN          29     NaN  ...     0   \n",
              "4      spotify:track:6B2Tn5vzAFhJUuBG3N77op          22     NaN  ...     0   \n",
              "...                                     ...         ...     ...  ...   ...   \n",
              "68366  spotify:track:1xIYClqPYtYWB1OYps9XTC          17     NaN  ...     1   \n",
              "68367  spotify:track:42hSxEAFN9drVjH7jge2WH          17     NaN  ...     0   \n",
              "68368  spotify:track:3NlsmPLdFAPQy17hTyj6g2          17     NaN  ...     1   \n",
              "68369  spotify:track:4BYAvP6SoXz5wedbscsTsA          18     NaN  ...     1   \n",
              "68370  spotify:track:4XLaYoFMrLtK81EB0afulU          17     NaN  ...     1   \n",
              "\n",
              "       speechiness  acousticness  instrumentalness  liveness  valence  \\\n",
              "0           0.0816       0.00296          0.620000    0.0501    0.729   \n",
              "1           0.0499       0.00108          0.881000    0.3520    0.918   \n",
              "2           0.0529       0.13900          0.000190    0.1590    0.815   \n",
              "3           0.0345       0.00343          0.518000    0.0987    0.936   \n",
              "4           0.0681       0.00615          0.246000    0.4120    0.362   \n",
              "...            ...           ...               ...       ...      ...   \n",
              "68366       0.0268       0.73000          0.000213    0.1060    0.453   \n",
              "68367       0.0314       0.46900          0.000029    0.0917    0.771   \n",
              "68368       0.0305       0.27200          0.000348    0.1990    0.323   \n",
              "68369       0.2650       0.51600          0.000017    0.0927    0.684   \n",
              "68370       0.0274       0.80000          0.000000    0.0869    0.490   \n",
              "\n",
              "         tempo  duration_ms  time_signature          isrc  \n",
              "0      117.859       428667               4  GBAYK8500158  \n",
              "1      125.952       448480               4  GBAYK0700010  \n",
              "2       99.831       266133               4  GBAYK8600001  \n",
              "3      125.238       237307               4  GBAYK8500131  \n",
              "4      117.901       378240               4  GBAYK0700009  \n",
              "...        ...          ...             ...           ...  \n",
              "68366   75.193       238293               4  DEF068706280  \n",
              "68367   89.339       238733               4  DEF068505140  \n",
              "68368   74.844       245813               4  DEF068302440  \n",
              "68369  184.294       176547               4  DEF068600610  \n",
              "68370  106.788       174267               4  DEF068600630  \n",
              "\n",
              "[68371 rows x 24 columns]"
            ]
          },
          "execution_count": 92,
          "metadata": {},
          "output_type": "execute_result"
        }
      ],
      "source": [
        "df"
      ]
    },
    {
      "cell_type": "code",
      "execution_count": 95,
      "id": "24a576dc",
      "metadata": {},
      "outputs": [],
      "source": [
        "with open(f\"{PATH}/problems.json\", \"r\") as file:\n",
        "    loaded_problems = json.load(file)\n",
        "    artist_over_1000 = loaded_problems[\"artist_over_1000\"]\n",
        "    artists_not_found = loaded_problems[\"artist_not_found\"]\n",
        "    no_features = loaded_problems[\"no_features\"]"
      ]
    },
    {
      "cell_type": "code",
      "execution_count": 63,
      "id": "c8584c54",
      "metadata": {},
      "outputs": [
        {
          "data": {
            "text/plain": [
              "[None,\n",
              " None,\n",
              " None,\n",
              " None,\n",
              " None,\n",
              " None,\n",
              " None,\n",
              " None,\n",
              " None,\n",
              " None,\n",
              " None,\n",
              " None,\n",
              " None,\n",
              " None,\n",
              " None,\n",
              " None,\n",
              " None,\n",
              " None,\n",
              " None,\n",
              " None,\n",
              " None,\n",
              " None,\n",
              " None,\n",
              " None,\n",
              " None,\n",
              " None,\n",
              " None,\n",
              " None,\n",
              " None]"
            ]
          },
          "execution_count": 63,
          "metadata": {},
          "output_type": "execute_result"
        }
      ],
      "source": [
        "tracks_without_features = [track[\"id\"] for track in no_features]\n",
        "sp.audio_features(tracks_without_features)"
      ]
    },
    {
      "cell_type": "code",
      "execution_count": 51,
      "id": "c18b88a6",
      "metadata": {},
      "outputs": [
        {
          "data": {
            "text/plain": [
              "156"
            ]
          },
          "execution_count": 51,
          "metadata": {},
          "output_type": "execute_result"
        }
      ],
      "source": [
        "len(artists_not_found)"
      ]
    },
    {
      "cell_type": "code",
      "execution_count": 53,
      "id": "54f8575f",
      "metadata": {},
      "outputs": [
        {
          "data": {
            "text/plain": [
              "944"
            ]
          },
          "execution_count": 53,
          "metadata": {},
          "output_type": "execute_result"
        }
      ],
      "source": [
        "len(chart_power_df_explode[\"Artist\"].unique())"
      ]
    },
    {
      "cell_type": "code",
      "execution_count": 171,
      "id": "b5342c5a",
      "metadata": {},
      "outputs": [
        {
          "data": {
            "text/html": [
              "<div>\n",
              "<style scoped>\n",
              "    .dataframe tbody tr th:only-of-type {\n",
              "        vertical-align: middle;\n",
              "    }\n",
              "\n",
              "    .dataframe tbody tr th {\n",
              "        vertical-align: top;\n",
              "    }\n",
              "\n",
              "    .dataframe thead th {\n",
              "        text-align: right;\n",
              "    }\n",
              "</style>\n",
              "<table border=\"1\" class=\"dataframe\">\n",
              "  <thead>\n",
              "    <tr style=\"text-align: right;\">\n",
              "      <th></th>\n",
              "      <th>name</th>\n",
              "      <th>artists</th>\n",
              "      <th>album</th>\n",
              "      <th>release_date</th>\n",
              "      <th>release_date_precision</th>\n",
              "      <th>spotify_id</th>\n",
              "      <th>chart_power</th>\n",
              "      <th>uri</th>\n",
              "      <th>popularity</th>\n",
              "      <th>genres</th>\n",
              "      <th>...</th>\n",
              "      <th>mode</th>\n",
              "      <th>speechiness</th>\n",
              "      <th>acousticness</th>\n",
              "      <th>instrumentalness</th>\n",
              "      <th>liveness</th>\n",
              "      <th>valence</th>\n",
              "      <th>tempo</th>\n",
              "      <th>duration_ms</th>\n",
              "      <th>time_signature</th>\n",
              "      <th>isrc</th>\n",
              "    </tr>\n",
              "  </thead>\n",
              "  <tbody>\n",
              "  </tbody>\n",
              "</table>\n",
              "<p>0 rows × 24 columns</p>\n",
              "</div>"
            ],
            "text/plain": [
              "Empty DataFrame\n",
              "Columns: [name, artists, album, release_date, release_date_precision, spotify_id, chart_power, uri, popularity, genres, danceability, energy, key, loudness, mode, speechiness, acousticness, instrumentalness, liveness, valence, tempo, duration_ms, time_signature, isrc]\n",
              "Index: []\n",
              "\n",
              "[0 rows x 24 columns]"
            ]
          },
          "execution_count": 171,
          "metadata": {},
          "output_type": "execute_result"
        }
      ],
      "source": [
        "df[df[\"artists\"] == \"Caroline Loeb\"]"
      ]
    }
  ],
  "metadata": {
    "colab": {
      "provenance": []
    },
    "kernelspec": {
      "display_name": "application-project",
      "language": "python",
      "name": "application-project"
    },
    "language_info": {
      "codemirror_mode": {
        "name": "ipython",
        "version": 3
      },
      "file_extension": ".py",
      "mimetype": "text/x-python",
      "name": "python",
      "nbconvert_exporter": "python",
      "pygments_lexer": "ipython3",
      "version": "3.10.12"
    }
  },
  "nbformat": 4,
  "nbformat_minor": 5
}
