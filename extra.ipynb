{
 "cells": [
  {
   "cell_type": "markdown",
   "id": "4aa021fd-c213-4c05-80d9-996adfe8ad4d",
   "metadata": {},
   "source": [
    "# Extra Aufgaben"
   ]
  },
  {
   "cell_type": "markdown",
   "id": "90aabbd4-0dee-4108-b00f-29e931b1291f",
   "metadata": {},
   "source": [
    "## Filterung der Datenbank um irrelevante Ergebnisse zu verhindern"
   ]
  },
  {
   "cell_type": "code",
   "execution_count": 1,
   "id": "4e2a29e0-e35c-4ae8-925b-28e1994f0e1b",
   "metadata": {},
   "outputs": [],
   "source": [
    "import pandas as pd\n",
    "import numpy as np\n",
    "from sklearn.preprocessing import MinMaxScaler\n",
    "from sklearn.metrics.pairwise import cosine_similarity, linear_kernel, polynomial_kernel, sigmoid_kernel, rbf_kernel, laplacian_kernel, chi2_kernel, euclidean_distances, manhattan_distances, cosine_distances\n",
    "import plotly.express as px\n",
    "import plotly.graph_objects as go\n",
    "from tqdm import tqdm\n",
    "import time\n",
    "from ast import literal_eval"
   ]
  },
  {
   "cell_type": "code",
   "execution_count": 27,
   "id": "d4b582ef-98b0-4471-a6c9-c5eb9800b334",
   "metadata": {},
   "outputs": [],
   "source": [
    "by_isrc = pd.read_csv('data/by_isrc.csv')"
   ]
  },
  {
   "cell_type": "code",
   "execution_count": 28,
   "id": "112671ab-ad9a-44bb-b1b4-bc03424fb7ef",
   "metadata": {},
   "outputs": [],
   "source": [
    "by_isrc[\"country_code\"] = by_isrc[\"isrc\"].apply(lambda x: x[:2])"
   ]
  },
  {
   "cell_type": "code",
   "execution_count": 29,
   "id": "3e739409-7d41-4bf8-a464-1a783fbe876b",
   "metadata": {},
   "outputs": [
    {
     "data": {
      "text/plain": [
       "array(['AE', 'AR', 'AT', 'AU', 'AZ', 'BA', 'BC', 'BE', 'BG', 'BR', 'BX',\n",
       "       'Br', 'CA', 'CH', 'CI', 'CL', 'CN', 'CO', 'CS', 'CZ', 'DE', 'DG',\n",
       "       'DK', 'EE', 'EG', 'ES', 'FI', 'FR', 'FX', 'GB', 'GN', 'GR', 'GT',\n",
       "       'GX', 'HK', 'HR', 'HU', 'ID', 'IE', 'IL', 'IN', 'IR', 'IS', 'IT',\n",
       "       'JM', 'JP', 'KE', 'KR', 'KS', 'LB', 'LK', 'LT', 'LU', 'LV', 'MD',\n",
       "       'MM', 'MT', 'MU', 'MX', 'MY', 'NG', 'NI', 'NL', 'NO', 'NZ', 'No',\n",
       "       'PE', 'PH', 'PL', 'PT', 'QM', 'QZ', 'RE', 'RO', 'RS', 'RU', 'SE',\n",
       "       'SG', 'SI', 'SK', 'SM', 'SW', 'TC', 'TH', 'TR', 'TW', 'UA', 'UK',\n",
       "       'UR', 'US', 'UY', 'VE', 'VN', 'ZA', 'ZZ', 'ae', 'ca', 'gb', 'il',\n",
       "       'lv', 'nl', 'qz', 'us', 've'], dtype=object)"
      ]
     },
     "execution_count": 29,
     "metadata": {},
     "output_type": "execute_result"
    }
   ],
   "source": [
    "by_isrc[\"country_code\"].unique()"
   ]
  },
  {
   "cell_type": "markdown",
   "id": "7f095f29-3be3-40d9-b98b-a2688a43a02a",
   "metadata": {},
   "source": [
    "Einige Ländercodes sind kleingeschrieben. Diese sollen in Großbuchstaben umgewandelt werden."
   ]
  },
  {
   "cell_type": "code",
   "execution_count": 30,
   "id": "988d731d-e895-4fff-8ef4-f6f6eda5f692",
   "metadata": {},
   "outputs": [],
   "source": [
    "by_isrc[\"country_code\"] = by_isrc[\"country_code\"].str.upper()"
   ]
  },
  {
   "cell_type": "code",
   "execution_count": 31,
   "id": "9adedfa6-fb4f-470d-a2b5-84f36c132c14",
   "metadata": {},
   "outputs": [
    {
     "data": {
      "text/plain": [
       "array(['AE', 'AR', 'AT', 'AU', 'AZ', 'BA', 'BC', 'BE', 'BG', 'BR', 'BX',\n",
       "       'CA', 'CH', 'CI', 'CL', 'CN', 'CO', 'CS', 'CZ', 'DE', 'DG', 'DK',\n",
       "       'EE', 'EG', 'ES', 'FI', 'FR', 'FX', 'GB', 'GN', 'GR', 'GT', 'GX',\n",
       "       'HK', 'HR', 'HU', 'ID', 'IE', 'IL', 'IN', 'IR', 'IS', 'IT', 'JM',\n",
       "       'JP', 'KE', 'KR', 'KS', 'LB', 'LK', 'LT', 'LU', 'LV', 'MD', 'MM',\n",
       "       'MT', 'MU', 'MX', 'MY', 'NG', 'NI', 'NL', 'NO', 'NZ', 'PE', 'PH',\n",
       "       'PL', 'PT', 'QM', 'QZ', 'RE', 'RO', 'RS', 'RU', 'SE', 'SG', 'SI',\n",
       "       'SK', 'SM', 'SW', 'TC', 'TH', 'TR', 'TW', 'UA', 'UK', 'UR', 'US',\n",
       "       'UY', 'VE', 'VN', 'ZA', 'ZZ'], dtype=object)"
      ]
     },
     "execution_count": 31,
     "metadata": {},
     "output_type": "execute_result"
    }
   ],
   "source": [
    "by_isrc[\"country_code\"].unique()"
   ]
  },
  {
   "cell_type": "markdown",
   "id": "4df225d6-f879-4500-a54d-498b5513483f",
   "metadata": {},
   "source": [
    "Gruppierung der Songs nach den Ländercodes."
   ]
  },
  {
   "cell_type": "code",
   "execution_count": 32,
   "id": "7916e0cd-dfb0-4994-ad6a-12cccfea3e84",
   "metadata": {},
   "outputs": [],
   "source": [
    "countries = {\n",
    "    'AE': 'United Arab Emirates',\n",
    "    'AR': 'Argentina',\n",
    "    'AT': 'Austria',\n",
    "    'AU': 'Australia',\n",
    "    'AZ': 'Azerbaijan',\n",
    "    'BA': 'Bosnia and Herzegovina',\n",
    "    'BC': 'Canada (British Columbia)',\n",
    "    'BE': 'Belgium',\n",
    "    'BG': 'Bulgaria',\n",
    "    'BR': 'Brazil',\n",
    "    'BX': 'Benelux',\n",
    "    'CA': 'Canada',\n",
    "    'CH': 'Switzerland',\n",
    "    'CI': 'Ivory Coast (Côte d\\'Ivoire)',\n",
    "    'CL': 'Chile',\n",
    "    'CN': 'China',\n",
    "    'CO': 'Colombia',\n",
    "    'CS': 'Serbia and Montenegro',\n",
    "    'CZ': 'Czech Republic',\n",
    "    'DE': 'Germany',\n",
    "    'DG': 'Germany (East)',\n",
    "    'DK': 'Denmark',\n",
    "    'EE': 'Estonia',\n",
    "    'EG': 'Egypt',\n",
    "    'ES': 'Spain',\n",
    "    'FI': 'Finland',\n",
    "    'FR': 'France',\n",
    "    'FX': 'France (Metropolitan)',\n",
    "    'GB': 'United Kingdom',\n",
    "    'GN': 'Guinea',\n",
    "    'GR': 'Greece',\n",
    "    'GT': 'Guatemala',\n",
    "    'GX': 'Greece (Ancient)',\n",
    "    'HK': 'Hong Kong',\n",
    "    'HR': 'Croatia',\n",
    "    'HU': 'Hungary',\n",
    "    'ID': 'Indonesia',\n",
    "    'IE': 'Ireland',\n",
    "    'IL': 'Israel',\n",
    "    'IN': 'India',\n",
    "    'IR': 'Iran',\n",
    "    'IS': 'Iceland',\n",
    "    'IT': 'Italy',\n",
    "    'JM': 'Jamaica',\n",
    "    'JP': 'Japan',\n",
    "    'KE': 'Kenya',\n",
    "    'KR': 'South Korea',\n",
    "    'KS': 'Kosovo',\n",
    "    'LB': 'Lebanon',\n",
    "    'LK': 'Sri Lanka',\n",
    "    'LT': 'Lithuania',\n",
    "    'LU': 'Luxembourg',\n",
    "    'LV': 'Latvia',\n",
    "    'MD': 'Moldova',\n",
    "    'MM': 'Myanmar (Burma)',\n",
    "    'MT': 'Malta',\n",
    "    'MU': 'Mauritius',\n",
    "    'MX': 'Mexico',\n",
    "    'MY': 'Malaysia',\n",
    "    'NG': 'Nigeria',\n",
    "    'NI': 'Nicaragua',\n",
    "    'NL': 'Netherlands',\n",
    "    'NO': 'Norway',\n",
    "    'NZ': 'New Zealand',\n",
    "    'PE': 'Peru',\n",
    "    'PH': 'Philippines',\n",
    "    'PL': 'Poland',\n",
    "    'PT': 'Portugal',\n",
    "    'QM': 'Marshall Islands', #second country code for the United States\n",
    "    'QZ': 'Unknown or Invalid Area',\n",
    "    'RE': 'Réunion',\n",
    "    'RO': 'Romania',\n",
    "    'RS': 'Serbia',\n",
    "    'RU': 'Russia',\n",
    "    'SE': 'Sweden',\n",
    "    'SG': 'Singapore',\n",
    "    'SI': 'Slovenia',\n",
    "    'SK': 'Slovakia',\n",
    "    'SM': 'San Marino',\n",
    "    'SW': 'Sweden',\n",
    "    'TC': 'Turks and Caicos Islands',\n",
    "    'TH': 'Thailand',\n",
    "    'TR': 'Turkey',\n",
    "    'TW': 'Taiwan',\n",
    "    'UA': 'Ukraine',\n",
    "    'UK': 'United Kingdom',\n",
    "    'UR': 'Uruguay',\n",
    "    'US': 'United States',\n",
    "    'UY': 'Uruguay',\n",
    "    'VE': 'Venezuela',\n",
    "    'VN': 'Vietnam',\n",
    "    'ZA': 'South Africa',\n",
    "    'ZZ': 'Unknown or Invalid Area'\n",
    "}"
   ]
  },
  {
   "cell_type": "code",
   "execution_count": 33,
   "id": "91281847-c7ae-4fc8-b0ad-e42553fa8409",
   "metadata": {},
   "outputs": [],
   "source": [
    "for c in by_isrc[\"country_code\"].unique():\n",
    "    if c not in countries:\n",
    "        print(c)"
   ]
  },
  {
   "cell_type": "code",
   "execution_count": 43,
   "id": "c905b4a6-ebcc-4580-b3f2-c345d64c4e51",
   "metadata": {},
   "outputs": [],
   "source": [
    "by_isrc[\"country\"] = by_isrc[\"country_code\"].apply(lambda x: countries[x])"
   ]
  },
  {
   "cell_type": "code",
   "execution_count": 44,
   "id": "f3bad70b-248a-4714-8338-09e315e802ad",
   "metadata": {},
   "outputs": [],
   "source": [
    "grouped_countries = by_isrc.copy()\n",
    "grouped_countries = grouped_countries[[\"country_code\", \"country\"]]\n",
    "grouped_countries[\"num_countries\"] = 0\n",
    "grouped_countries = grouped_countries.groupby([\"country_code\", \"country\"]).count()"
   ]
  },
  {
   "cell_type": "code",
   "execution_count": 45,
   "id": "e6c8c41f-b919-4304-b9e7-7b6ef0a286a6",
   "metadata": {},
   "outputs": [],
   "source": [
    "grouped_countries = grouped_countries.sort_values(\"num_countries\", ascending=False)"
   ]
  },
  {
   "cell_type": "code",
   "execution_count": 46,
   "id": "d565a13b-1fa0-42e6-a311-2e2b1f1d92ca",
   "metadata": {},
   "outputs": [],
   "source": [
    "grouped_countries.reset_index(inplace=True)"
   ]
  },
  {
   "cell_type": "code",
   "execution_count": 54,
   "id": "33443f11-ce6c-4bbf-8fba-a86db672f11b",
   "metadata": {},
   "outputs": [],
   "source": [
    "grouped_countries[\"country_comb\"] = grouped_countries.apply(lambda x: f'{x[\"country\"]}-{x[\"country_code\"]}', axis=1)"
   ]
  },
  {
   "cell_type": "code",
   "execution_count": 53,
   "id": "0f9e76bf-738c-4551-b7c5-91cc644e9819",
   "metadata": {},
   "outputs": [
    {
     "data": {
      "application/vnd.plotly.v1+json": {
       "config": {
        "plotlyServerURL": "https://plot.ly"
       },
       "data": [
        {
         "alignmentgroup": "True",
         "hovertemplate": "country_comb=%{x}<br>num_countries=%{y}<extra></extra>",
         "legendgroup": "",
         "marker": {
          "color": "#636efa",
          "pattern": {
           "shape": ""
          }
         },
         "name": "",
         "offsetgroup": "",
         "orientation": "v",
         "showlegend": false,
         "textposition": "auto",
         "type": "bar",
         "x": [
          "United States-US",
          "United Kingdom-GB",
          "Germany-DE",
          "France-FR",
          "Marshall Islands-QM",
          "Brazil-BR",
          "Netherlands-NL",
          "Sweden-SE",
          "Spain-ES",
          "Finland-FI",
          "Italy-IT",
          "Japan-JP",
          "India-IN",
          "Unknown or Invalid Area-QZ",
          "Turkey-TR",
          "Argentina-AR",
          "Czech Republic-CZ",
          "Norway-NO",
          "Indonesia-ID",
          "Denmark-DK",
          "Greece-GR",
          "Canada-CA",
          "Australia-AU",
          "Bulgaria-BG",
          "Croatia-HR",
          "Switzerland-CH",
          "Belgium-BE",
          "Hong Kong-HK",
          "Iceland-IS",
          "Turks and Caicos Islands-TC"
         ],
         "xaxis": "x",
         "y": [
          104973,
          66175,
          32217,
          24923,
          14398,
          14227,
          14013,
          13102,
          11284,
          9801,
          8654,
          8348,
          7780,
          6490,
          5493,
          5144,
          5109,
          4796,
          4667,
          4415,
          4310,
          3844,
          3619,
          3150,
          3099,
          2357,
          2196,
          1881,
          1767,
          1546
         ],
         "yaxis": "y"
        }
       ],
       "layout": {
        "autosize": true,
        "barmode": "relative",
        "legend": {
         "tracegroupgap": 0
        },
        "margin": {
         "t": 60
        },
        "template": {
         "data": {
          "bar": [
           {
            "error_x": {
             "color": "#f2f5fa"
            },
            "error_y": {
             "color": "#f2f5fa"
            },
            "marker": {
             "line": {
              "color": "rgb(17,17,17)",
              "width": 0.5
             },
             "pattern": {
              "fillmode": "overlay",
              "size": 10,
              "solidity": 0.2
             }
            },
            "type": "bar"
           }
          ],
          "barpolar": [
           {
            "marker": {
             "line": {
              "color": "rgb(17,17,17)",
              "width": 0.5
             },
             "pattern": {
              "fillmode": "overlay",
              "size": 10,
              "solidity": 0.2
             }
            },
            "type": "barpolar"
           }
          ],
          "carpet": [
           {
            "aaxis": {
             "endlinecolor": "#A2B1C6",
             "gridcolor": "#506784",
             "linecolor": "#506784",
             "minorgridcolor": "#506784",
             "startlinecolor": "#A2B1C6"
            },
            "baxis": {
             "endlinecolor": "#A2B1C6",
             "gridcolor": "#506784",
             "linecolor": "#506784",
             "minorgridcolor": "#506784",
             "startlinecolor": "#A2B1C6"
            },
            "type": "carpet"
           }
          ],
          "choropleth": [
           {
            "colorbar": {
             "outlinewidth": 0,
             "ticks": ""
            },
            "type": "choropleth"
           }
          ],
          "contour": [
           {
            "colorbar": {
             "outlinewidth": 0,
             "ticks": ""
            },
            "colorscale": [
             [
              0,
              "#0d0887"
             ],
             [
              0.1111111111111111,
              "#46039f"
             ],
             [
              0.2222222222222222,
              "#7201a8"
             ],
             [
              0.3333333333333333,
              "#9c179e"
             ],
             [
              0.4444444444444444,
              "#bd3786"
             ],
             [
              0.5555555555555556,
              "#d8576b"
             ],
             [
              0.6666666666666666,
              "#ed7953"
             ],
             [
              0.7777777777777778,
              "#fb9f3a"
             ],
             [
              0.8888888888888888,
              "#fdca26"
             ],
             [
              1,
              "#f0f921"
             ]
            ],
            "type": "contour"
           }
          ],
          "contourcarpet": [
           {
            "colorbar": {
             "outlinewidth": 0,
             "ticks": ""
            },
            "type": "contourcarpet"
           }
          ],
          "heatmap": [
           {
            "colorbar": {
             "outlinewidth": 0,
             "ticks": ""
            },
            "colorscale": [
             [
              0,
              "#0d0887"
             ],
             [
              0.1111111111111111,
              "#46039f"
             ],
             [
              0.2222222222222222,
              "#7201a8"
             ],
             [
              0.3333333333333333,
              "#9c179e"
             ],
             [
              0.4444444444444444,
              "#bd3786"
             ],
             [
              0.5555555555555556,
              "#d8576b"
             ],
             [
              0.6666666666666666,
              "#ed7953"
             ],
             [
              0.7777777777777778,
              "#fb9f3a"
             ],
             [
              0.8888888888888888,
              "#fdca26"
             ],
             [
              1,
              "#f0f921"
             ]
            ],
            "type": "heatmap"
           }
          ],
          "heatmapgl": [
           {
            "colorbar": {
             "outlinewidth": 0,
             "ticks": ""
            },
            "colorscale": [
             [
              0,
              "#0d0887"
             ],
             [
              0.1111111111111111,
              "#46039f"
             ],
             [
              0.2222222222222222,
              "#7201a8"
             ],
             [
              0.3333333333333333,
              "#9c179e"
             ],
             [
              0.4444444444444444,
              "#bd3786"
             ],
             [
              0.5555555555555556,
              "#d8576b"
             ],
             [
              0.6666666666666666,
              "#ed7953"
             ],
             [
              0.7777777777777778,
              "#fb9f3a"
             ],
             [
              0.8888888888888888,
              "#fdca26"
             ],
             [
              1,
              "#f0f921"
             ]
            ],
            "type": "heatmapgl"
           }
          ],
          "histogram": [
           {
            "marker": {
             "pattern": {
              "fillmode": "overlay",
              "size": 10,
              "solidity": 0.2
             }
            },
            "type": "histogram"
           }
          ],
          "histogram2d": [
           {
            "colorbar": {
             "outlinewidth": 0,
             "ticks": ""
            },
            "colorscale": [
             [
              0,
              "#0d0887"
             ],
             [
              0.1111111111111111,
              "#46039f"
             ],
             [
              0.2222222222222222,
              "#7201a8"
             ],
             [
              0.3333333333333333,
              "#9c179e"
             ],
             [
              0.4444444444444444,
              "#bd3786"
             ],
             [
              0.5555555555555556,
              "#d8576b"
             ],
             [
              0.6666666666666666,
              "#ed7953"
             ],
             [
              0.7777777777777778,
              "#fb9f3a"
             ],
             [
              0.8888888888888888,
              "#fdca26"
             ],
             [
              1,
              "#f0f921"
             ]
            ],
            "type": "histogram2d"
           }
          ],
          "histogram2dcontour": [
           {
            "colorbar": {
             "outlinewidth": 0,
             "ticks": ""
            },
            "colorscale": [
             [
              0,
              "#0d0887"
             ],
             [
              0.1111111111111111,
              "#46039f"
             ],
             [
              0.2222222222222222,
              "#7201a8"
             ],
             [
              0.3333333333333333,
              "#9c179e"
             ],
             [
              0.4444444444444444,
              "#bd3786"
             ],
             [
              0.5555555555555556,
              "#d8576b"
             ],
             [
              0.6666666666666666,
              "#ed7953"
             ],
             [
              0.7777777777777778,
              "#fb9f3a"
             ],
             [
              0.8888888888888888,
              "#fdca26"
             ],
             [
              1,
              "#f0f921"
             ]
            ],
            "type": "histogram2dcontour"
           }
          ],
          "mesh3d": [
           {
            "colorbar": {
             "outlinewidth": 0,
             "ticks": ""
            },
            "type": "mesh3d"
           }
          ],
          "parcoords": [
           {
            "line": {
             "colorbar": {
              "outlinewidth": 0,
              "ticks": ""
             }
            },
            "type": "parcoords"
           }
          ],
          "pie": [
           {
            "automargin": true,
            "type": "pie"
           }
          ],
          "scatter": [
           {
            "marker": {
             "line": {
              "color": "#283442"
             }
            },
            "type": "scatter"
           }
          ],
          "scatter3d": [
           {
            "line": {
             "colorbar": {
              "outlinewidth": 0,
              "ticks": ""
             }
            },
            "marker": {
             "colorbar": {
              "outlinewidth": 0,
              "ticks": ""
             }
            },
            "type": "scatter3d"
           }
          ],
          "scattercarpet": [
           {
            "marker": {
             "colorbar": {
              "outlinewidth": 0,
              "ticks": ""
             }
            },
            "type": "scattercarpet"
           }
          ],
          "scattergeo": [
           {
            "marker": {
             "colorbar": {
              "outlinewidth": 0,
              "ticks": ""
             }
            },
            "type": "scattergeo"
           }
          ],
          "scattergl": [
           {
            "marker": {
             "line": {
              "color": "#283442"
             }
            },
            "type": "scattergl"
           }
          ],
          "scattermapbox": [
           {
            "marker": {
             "colorbar": {
              "outlinewidth": 0,
              "ticks": ""
             }
            },
            "type": "scattermapbox"
           }
          ],
          "scatterpolar": [
           {
            "marker": {
             "colorbar": {
              "outlinewidth": 0,
              "ticks": ""
             }
            },
            "type": "scatterpolar"
           }
          ],
          "scatterpolargl": [
           {
            "marker": {
             "colorbar": {
              "outlinewidth": 0,
              "ticks": ""
             }
            },
            "type": "scatterpolargl"
           }
          ],
          "scatterternary": [
           {
            "marker": {
             "colorbar": {
              "outlinewidth": 0,
              "ticks": ""
             }
            },
            "type": "scatterternary"
           }
          ],
          "surface": [
           {
            "colorbar": {
             "outlinewidth": 0,
             "ticks": ""
            },
            "colorscale": [
             [
              0,
              "#0d0887"
             ],
             [
              0.1111111111111111,
              "#46039f"
             ],
             [
              0.2222222222222222,
              "#7201a8"
             ],
             [
              0.3333333333333333,
              "#9c179e"
             ],
             [
              0.4444444444444444,
              "#bd3786"
             ],
             [
              0.5555555555555556,
              "#d8576b"
             ],
             [
              0.6666666666666666,
              "#ed7953"
             ],
             [
              0.7777777777777778,
              "#fb9f3a"
             ],
             [
              0.8888888888888888,
              "#fdca26"
             ],
             [
              1,
              "#f0f921"
             ]
            ],
            "type": "surface"
           }
          ],
          "table": [
           {
            "cells": {
             "fill": {
              "color": "#506784"
             },
             "line": {
              "color": "rgb(17,17,17)"
             }
            },
            "header": {
             "fill": {
              "color": "#2a3f5f"
             },
             "line": {
              "color": "rgb(17,17,17)"
             }
            },
            "type": "table"
           }
          ]
         },
         "layout": {
          "annotationdefaults": {
           "arrowcolor": "#f2f5fa",
           "arrowhead": 0,
           "arrowwidth": 1
          },
          "autotypenumbers": "strict",
          "coloraxis": {
           "colorbar": {
            "outlinewidth": 0,
            "ticks": ""
           }
          },
          "colorscale": {
           "diverging": [
            [
             0,
             "#8e0152"
            ],
            [
             0.1,
             "#c51b7d"
            ],
            [
             0.2,
             "#de77ae"
            ],
            [
             0.3,
             "#f1b6da"
            ],
            [
             0.4,
             "#fde0ef"
            ],
            [
             0.5,
             "#f7f7f7"
            ],
            [
             0.6,
             "#e6f5d0"
            ],
            [
             0.7,
             "#b8e186"
            ],
            [
             0.8,
             "#7fbc41"
            ],
            [
             0.9,
             "#4d9221"
            ],
            [
             1,
             "#276419"
            ]
           ],
           "sequential": [
            [
             0,
             "#0d0887"
            ],
            [
             0.1111111111111111,
             "#46039f"
            ],
            [
             0.2222222222222222,
             "#7201a8"
            ],
            [
             0.3333333333333333,
             "#9c179e"
            ],
            [
             0.4444444444444444,
             "#bd3786"
            ],
            [
             0.5555555555555556,
             "#d8576b"
            ],
            [
             0.6666666666666666,
             "#ed7953"
            ],
            [
             0.7777777777777778,
             "#fb9f3a"
            ],
            [
             0.8888888888888888,
             "#fdca26"
            ],
            [
             1,
             "#f0f921"
            ]
           ],
           "sequentialminus": [
            [
             0,
             "#0d0887"
            ],
            [
             0.1111111111111111,
             "#46039f"
            ],
            [
             0.2222222222222222,
             "#7201a8"
            ],
            [
             0.3333333333333333,
             "#9c179e"
            ],
            [
             0.4444444444444444,
             "#bd3786"
            ],
            [
             0.5555555555555556,
             "#d8576b"
            ],
            [
             0.6666666666666666,
             "#ed7953"
            ],
            [
             0.7777777777777778,
             "#fb9f3a"
            ],
            [
             0.8888888888888888,
             "#fdca26"
            ],
            [
             1,
             "#f0f921"
            ]
           ]
          },
          "colorway": [
           "#636efa",
           "#EF553B",
           "#00cc96",
           "#ab63fa",
           "#FFA15A",
           "#19d3f3",
           "#FF6692",
           "#B6E880",
           "#FF97FF",
           "#FECB52"
          ],
          "font": {
           "color": "#f2f5fa"
          },
          "geo": {
           "bgcolor": "rgb(17,17,17)",
           "lakecolor": "rgb(17,17,17)",
           "landcolor": "rgb(17,17,17)",
           "showlakes": true,
           "showland": true,
           "subunitcolor": "#506784"
          },
          "hoverlabel": {
           "align": "left"
          },
          "hovermode": "closest",
          "mapbox": {
           "style": "dark"
          },
          "paper_bgcolor": "rgb(17,17,17)",
          "plot_bgcolor": "rgb(17,17,17)",
          "polar": {
           "angularaxis": {
            "gridcolor": "#506784",
            "linecolor": "#506784",
            "ticks": ""
           },
           "bgcolor": "rgb(17,17,17)",
           "radialaxis": {
            "gridcolor": "#506784",
            "linecolor": "#506784",
            "ticks": ""
           }
          },
          "scene": {
           "xaxis": {
            "backgroundcolor": "rgb(17,17,17)",
            "gridcolor": "#506784",
            "gridwidth": 2,
            "linecolor": "#506784",
            "showbackground": true,
            "ticks": "",
            "zerolinecolor": "#C8D4E3"
           },
           "yaxis": {
            "backgroundcolor": "rgb(17,17,17)",
            "gridcolor": "#506784",
            "gridwidth": 2,
            "linecolor": "#506784",
            "showbackground": true,
            "ticks": "",
            "zerolinecolor": "#C8D4E3"
           },
           "zaxis": {
            "backgroundcolor": "rgb(17,17,17)",
            "gridcolor": "#506784",
            "gridwidth": 2,
            "linecolor": "#506784",
            "showbackground": true,
            "ticks": "",
            "zerolinecolor": "#C8D4E3"
           }
          },
          "shapedefaults": {
           "line": {
            "color": "#f2f5fa"
           }
          },
          "sliderdefaults": {
           "bgcolor": "#C8D4E3",
           "bordercolor": "rgb(17,17,17)",
           "borderwidth": 1,
           "tickwidth": 0
          },
          "ternary": {
           "aaxis": {
            "gridcolor": "#506784",
            "linecolor": "#506784",
            "ticks": ""
           },
           "baxis": {
            "gridcolor": "#506784",
            "linecolor": "#506784",
            "ticks": ""
           },
           "bgcolor": "rgb(17,17,17)",
           "caxis": {
            "gridcolor": "#506784",
            "linecolor": "#506784",
            "ticks": ""
           }
          },
          "title": {
           "x": 0.05
          },
          "updatemenudefaults": {
           "bgcolor": "#506784",
           "borderwidth": 0
          },
          "xaxis": {
           "automargin": true,
           "gridcolor": "#283442",
           "linecolor": "#506784",
           "ticks": "",
           "title": {
            "standoff": 15
           },
           "zerolinecolor": "#283442",
           "zerolinewidth": 2
          },
          "yaxis": {
           "automargin": true,
           "gridcolor": "#283442",
           "linecolor": "#506784",
           "ticks": "",
           "title": {
            "standoff": 15
           },
           "zerolinecolor": "#283442",
           "zerolinewidth": 2
          }
         }
        },
        "xaxis": {
         "anchor": "y",
         "autorange": true,
         "domain": [
          0,
          1
         ],
         "range": [
          -0.5,
          29.5
         ],
         "title": {
          "text": "country_comb"
         },
         "type": "category"
        },
        "yaxis": {
         "anchor": "x",
         "autorange": true,
         "domain": [
          0,
          1
         ],
         "range": [
          0,
          110497.8947368421
         ],
         "title": {
          "text": "num_countries"
         },
         "type": "linear"
        }
       }
      },
      "text/html": [
       "<div>                            <div id=\"832b4c3c-43ac-4841-8363-79e09751258b\" class=\"plotly-graph-div\" style=\"height:500px; width:100%;\"></div>            <script type=\"text/javascript\">                require([\"plotly\"], function(Plotly) {                    window.PLOTLYENV=window.PLOTLYENV || {};                                    if (document.getElementById(\"832b4c3c-43ac-4841-8363-79e09751258b\")) {                    Plotly.newPlot(                        \"832b4c3c-43ac-4841-8363-79e09751258b\",                        [{\"alignmentgroup\":\"True\",\"hovertemplate\":\"country_comb=%{x}<br>num_countries=%{y}<extra></extra>\",\"legendgroup\":\"\",\"marker\":{\"color\":\"#636efa\",\"pattern\":{\"shape\":\"\"}},\"name\":\"\",\"offsetgroup\":\"\",\"orientation\":\"v\",\"showlegend\":false,\"textposition\":\"auto\",\"x\":[\"United States-US\",\"United Kingdom-GB\",\"Germany-DE\",\"France-FR\",\"Marshall Islands-QM\",\"Brazil-BR\",\"Netherlands-NL\",\"Sweden-SE\",\"Spain-ES\",\"Finland-FI\",\"Italy-IT\",\"Japan-JP\",\"India-IN\",\"Unknown or Invalid Area-QZ\",\"Turkey-TR\",\"Argentina-AR\",\"Czech Republic-CZ\",\"Norway-NO\",\"Indonesia-ID\",\"Denmark-DK\",\"Greece-GR\",\"Canada-CA\",\"Australia-AU\",\"Bulgaria-BG\",\"Croatia-HR\",\"Switzerland-CH\",\"Belgium-BE\",\"Hong Kong-HK\",\"Iceland-IS\",\"Turks and Caicos Islands-TC\"],\"xaxis\":\"x\",\"y\":[104973,66175,32217,24923,14398,14227,14013,13102,11284,9801,8654,8348,7780,6490,5493,5144,5109,4796,4667,4415,4310,3844,3619,3150,3099,2357,2196,1881,1767,1546],\"yaxis\":\"y\",\"type\":\"bar\"}],                        {\"template\":{\"data\":{\"barpolar\":[{\"marker\":{\"line\":{\"color\":\"rgb(17,17,17)\",\"width\":0.5},\"pattern\":{\"fillmode\":\"overlay\",\"size\":10,\"solidity\":0.2}},\"type\":\"barpolar\"}],\"bar\":[{\"error_x\":{\"color\":\"#f2f5fa\"},\"error_y\":{\"color\":\"#f2f5fa\"},\"marker\":{\"line\":{\"color\":\"rgb(17,17,17)\",\"width\":0.5},\"pattern\":{\"fillmode\":\"overlay\",\"size\":10,\"solidity\":0.2}},\"type\":\"bar\"}],\"carpet\":[{\"aaxis\":{\"endlinecolor\":\"#A2B1C6\",\"gridcolor\":\"#506784\",\"linecolor\":\"#506784\",\"minorgridcolor\":\"#506784\",\"startlinecolor\":\"#A2B1C6\"},\"baxis\":{\"endlinecolor\":\"#A2B1C6\",\"gridcolor\":\"#506784\",\"linecolor\":\"#506784\",\"minorgridcolor\":\"#506784\",\"startlinecolor\":\"#A2B1C6\"},\"type\":\"carpet\"}],\"choropleth\":[{\"colorbar\":{\"outlinewidth\":0,\"ticks\":\"\"},\"type\":\"choropleth\"}],\"contourcarpet\":[{\"colorbar\":{\"outlinewidth\":0,\"ticks\":\"\"},\"type\":\"contourcarpet\"}],\"contour\":[{\"colorbar\":{\"outlinewidth\":0,\"ticks\":\"\"},\"colorscale\":[[0.0,\"#0d0887\"],[0.1111111111111111,\"#46039f\"],[0.2222222222222222,\"#7201a8\"],[0.3333333333333333,\"#9c179e\"],[0.4444444444444444,\"#bd3786\"],[0.5555555555555556,\"#d8576b\"],[0.6666666666666666,\"#ed7953\"],[0.7777777777777778,\"#fb9f3a\"],[0.8888888888888888,\"#fdca26\"],[1.0,\"#f0f921\"]],\"type\":\"contour\"}],\"heatmapgl\":[{\"colorbar\":{\"outlinewidth\":0,\"ticks\":\"\"},\"colorscale\":[[0.0,\"#0d0887\"],[0.1111111111111111,\"#46039f\"],[0.2222222222222222,\"#7201a8\"],[0.3333333333333333,\"#9c179e\"],[0.4444444444444444,\"#bd3786\"],[0.5555555555555556,\"#d8576b\"],[0.6666666666666666,\"#ed7953\"],[0.7777777777777778,\"#fb9f3a\"],[0.8888888888888888,\"#fdca26\"],[1.0,\"#f0f921\"]],\"type\":\"heatmapgl\"}],\"heatmap\":[{\"colorbar\":{\"outlinewidth\":0,\"ticks\":\"\"},\"colorscale\":[[0.0,\"#0d0887\"],[0.1111111111111111,\"#46039f\"],[0.2222222222222222,\"#7201a8\"],[0.3333333333333333,\"#9c179e\"],[0.4444444444444444,\"#bd3786\"],[0.5555555555555556,\"#d8576b\"],[0.6666666666666666,\"#ed7953\"],[0.7777777777777778,\"#fb9f3a\"],[0.8888888888888888,\"#fdca26\"],[1.0,\"#f0f921\"]],\"type\":\"heatmap\"}],\"histogram2dcontour\":[{\"colorbar\":{\"outlinewidth\":0,\"ticks\":\"\"},\"colorscale\":[[0.0,\"#0d0887\"],[0.1111111111111111,\"#46039f\"],[0.2222222222222222,\"#7201a8\"],[0.3333333333333333,\"#9c179e\"],[0.4444444444444444,\"#bd3786\"],[0.5555555555555556,\"#d8576b\"],[0.6666666666666666,\"#ed7953\"],[0.7777777777777778,\"#fb9f3a\"],[0.8888888888888888,\"#fdca26\"],[1.0,\"#f0f921\"]],\"type\":\"histogram2dcontour\"}],\"histogram2d\":[{\"colorbar\":{\"outlinewidth\":0,\"ticks\":\"\"},\"colorscale\":[[0.0,\"#0d0887\"],[0.1111111111111111,\"#46039f\"],[0.2222222222222222,\"#7201a8\"],[0.3333333333333333,\"#9c179e\"],[0.4444444444444444,\"#bd3786\"],[0.5555555555555556,\"#d8576b\"],[0.6666666666666666,\"#ed7953\"],[0.7777777777777778,\"#fb9f3a\"],[0.8888888888888888,\"#fdca26\"],[1.0,\"#f0f921\"]],\"type\":\"histogram2d\"}],\"histogram\":[{\"marker\":{\"pattern\":{\"fillmode\":\"overlay\",\"size\":10,\"solidity\":0.2}},\"type\":\"histogram\"}],\"mesh3d\":[{\"colorbar\":{\"outlinewidth\":0,\"ticks\":\"\"},\"type\":\"mesh3d\"}],\"parcoords\":[{\"line\":{\"colorbar\":{\"outlinewidth\":0,\"ticks\":\"\"}},\"type\":\"parcoords\"}],\"pie\":[{\"automargin\":true,\"type\":\"pie\"}],\"scatter3d\":[{\"line\":{\"colorbar\":{\"outlinewidth\":0,\"ticks\":\"\"}},\"marker\":{\"colorbar\":{\"outlinewidth\":0,\"ticks\":\"\"}},\"type\":\"scatter3d\"}],\"scattercarpet\":[{\"marker\":{\"colorbar\":{\"outlinewidth\":0,\"ticks\":\"\"}},\"type\":\"scattercarpet\"}],\"scattergeo\":[{\"marker\":{\"colorbar\":{\"outlinewidth\":0,\"ticks\":\"\"}},\"type\":\"scattergeo\"}],\"scattergl\":[{\"marker\":{\"line\":{\"color\":\"#283442\"}},\"type\":\"scattergl\"}],\"scattermapbox\":[{\"marker\":{\"colorbar\":{\"outlinewidth\":0,\"ticks\":\"\"}},\"type\":\"scattermapbox\"}],\"scatterpolargl\":[{\"marker\":{\"colorbar\":{\"outlinewidth\":0,\"ticks\":\"\"}},\"type\":\"scatterpolargl\"}],\"scatterpolar\":[{\"marker\":{\"colorbar\":{\"outlinewidth\":0,\"ticks\":\"\"}},\"type\":\"scatterpolar\"}],\"scatter\":[{\"marker\":{\"line\":{\"color\":\"#283442\"}},\"type\":\"scatter\"}],\"scatterternary\":[{\"marker\":{\"colorbar\":{\"outlinewidth\":0,\"ticks\":\"\"}},\"type\":\"scatterternary\"}],\"surface\":[{\"colorbar\":{\"outlinewidth\":0,\"ticks\":\"\"},\"colorscale\":[[0.0,\"#0d0887\"],[0.1111111111111111,\"#46039f\"],[0.2222222222222222,\"#7201a8\"],[0.3333333333333333,\"#9c179e\"],[0.4444444444444444,\"#bd3786\"],[0.5555555555555556,\"#d8576b\"],[0.6666666666666666,\"#ed7953\"],[0.7777777777777778,\"#fb9f3a\"],[0.8888888888888888,\"#fdca26\"],[1.0,\"#f0f921\"]],\"type\":\"surface\"}],\"table\":[{\"cells\":{\"fill\":{\"color\":\"#506784\"},\"line\":{\"color\":\"rgb(17,17,17)\"}},\"header\":{\"fill\":{\"color\":\"#2a3f5f\"},\"line\":{\"color\":\"rgb(17,17,17)\"}},\"type\":\"table\"}]},\"layout\":{\"annotationdefaults\":{\"arrowcolor\":\"#f2f5fa\",\"arrowhead\":0,\"arrowwidth\":1},\"autotypenumbers\":\"strict\",\"coloraxis\":{\"colorbar\":{\"outlinewidth\":0,\"ticks\":\"\"}},\"colorscale\":{\"diverging\":[[0,\"#8e0152\"],[0.1,\"#c51b7d\"],[0.2,\"#de77ae\"],[0.3,\"#f1b6da\"],[0.4,\"#fde0ef\"],[0.5,\"#f7f7f7\"],[0.6,\"#e6f5d0\"],[0.7,\"#b8e186\"],[0.8,\"#7fbc41\"],[0.9,\"#4d9221\"],[1,\"#276419\"]],\"sequential\":[[0.0,\"#0d0887\"],[0.1111111111111111,\"#46039f\"],[0.2222222222222222,\"#7201a8\"],[0.3333333333333333,\"#9c179e\"],[0.4444444444444444,\"#bd3786\"],[0.5555555555555556,\"#d8576b\"],[0.6666666666666666,\"#ed7953\"],[0.7777777777777778,\"#fb9f3a\"],[0.8888888888888888,\"#fdca26\"],[1.0,\"#f0f921\"]],\"sequentialminus\":[[0.0,\"#0d0887\"],[0.1111111111111111,\"#46039f\"],[0.2222222222222222,\"#7201a8\"],[0.3333333333333333,\"#9c179e\"],[0.4444444444444444,\"#bd3786\"],[0.5555555555555556,\"#d8576b\"],[0.6666666666666666,\"#ed7953\"],[0.7777777777777778,\"#fb9f3a\"],[0.8888888888888888,\"#fdca26\"],[1.0,\"#f0f921\"]]},\"colorway\":[\"#636efa\",\"#EF553B\",\"#00cc96\",\"#ab63fa\",\"#FFA15A\",\"#19d3f3\",\"#FF6692\",\"#B6E880\",\"#FF97FF\",\"#FECB52\"],\"font\":{\"color\":\"#f2f5fa\"},\"geo\":{\"bgcolor\":\"rgb(17,17,17)\",\"lakecolor\":\"rgb(17,17,17)\",\"landcolor\":\"rgb(17,17,17)\",\"showlakes\":true,\"showland\":true,\"subunitcolor\":\"#506784\"},\"hoverlabel\":{\"align\":\"left\"},\"hovermode\":\"closest\",\"mapbox\":{\"style\":\"dark\"},\"paper_bgcolor\":\"rgb(17,17,17)\",\"plot_bgcolor\":\"rgb(17,17,17)\",\"polar\":{\"angularaxis\":{\"gridcolor\":\"#506784\",\"linecolor\":\"#506784\",\"ticks\":\"\"},\"bgcolor\":\"rgb(17,17,17)\",\"radialaxis\":{\"gridcolor\":\"#506784\",\"linecolor\":\"#506784\",\"ticks\":\"\"}},\"scene\":{\"xaxis\":{\"backgroundcolor\":\"rgb(17,17,17)\",\"gridcolor\":\"#506784\",\"gridwidth\":2,\"linecolor\":\"#506784\",\"showbackground\":true,\"ticks\":\"\",\"zerolinecolor\":\"#C8D4E3\"},\"yaxis\":{\"backgroundcolor\":\"rgb(17,17,17)\",\"gridcolor\":\"#506784\",\"gridwidth\":2,\"linecolor\":\"#506784\",\"showbackground\":true,\"ticks\":\"\",\"zerolinecolor\":\"#C8D4E3\"},\"zaxis\":{\"backgroundcolor\":\"rgb(17,17,17)\",\"gridcolor\":\"#506784\",\"gridwidth\":2,\"linecolor\":\"#506784\",\"showbackground\":true,\"ticks\":\"\",\"zerolinecolor\":\"#C8D4E3\"}},\"shapedefaults\":{\"line\":{\"color\":\"#f2f5fa\"}},\"sliderdefaults\":{\"bgcolor\":\"#C8D4E3\",\"bordercolor\":\"rgb(17,17,17)\",\"borderwidth\":1,\"tickwidth\":0},\"ternary\":{\"aaxis\":{\"gridcolor\":\"#506784\",\"linecolor\":\"#506784\",\"ticks\":\"\"},\"baxis\":{\"gridcolor\":\"#506784\",\"linecolor\":\"#506784\",\"ticks\":\"\"},\"bgcolor\":\"rgb(17,17,17)\",\"caxis\":{\"gridcolor\":\"#506784\",\"linecolor\":\"#506784\",\"ticks\":\"\"}},\"title\":{\"x\":0.05},\"updatemenudefaults\":{\"bgcolor\":\"#506784\",\"borderwidth\":0},\"xaxis\":{\"automargin\":true,\"gridcolor\":\"#283442\",\"linecolor\":\"#506784\",\"ticks\":\"\",\"title\":{\"standoff\":15},\"zerolinecolor\":\"#283442\",\"zerolinewidth\":2},\"yaxis\":{\"automargin\":true,\"gridcolor\":\"#283442\",\"linecolor\":\"#506784\",\"ticks\":\"\",\"title\":{\"standoff\":15},\"zerolinecolor\":\"#283442\",\"zerolinewidth\":2}}},\"xaxis\":{\"anchor\":\"y\",\"domain\":[0.0,1.0],\"title\":{\"text\":\"country_comb\"}},\"yaxis\":{\"anchor\":\"x\",\"domain\":[0.0,1.0],\"title\":{\"text\":\"num_countries\"}},\"legend\":{\"tracegroupgap\":0},\"margin\":{\"t\":60},\"barmode\":\"relative\",\"height\":500},                        {\"responsive\": true}                    ).then(function(){\n",
       "                            \n",
       "var gd = document.getElementById('832b4c3c-43ac-4841-8363-79e09751258b');\n",
       "var x = new MutationObserver(function (mutations, observer) {{\n",
       "        var display = window.getComputedStyle(gd).display;\n",
       "        if (!display || display === 'none') {{\n",
       "            console.log([gd, 'removed!']);\n",
       "            Plotly.purge(gd);\n",
       "            observer.disconnect();\n",
       "        }}\n",
       "}});\n",
       "\n",
       "// Listen for the removal of the full notebook cells\n",
       "var notebookContainer = gd.closest('#notebook-container');\n",
       "if (notebookContainer) {{\n",
       "    x.observe(notebookContainer, {childList: true});\n",
       "}}\n",
       "\n",
       "// Listen for the clearing of the current output cell\n",
       "var outputEl = gd.closest('.output');\n",
       "if (outputEl) {{\n",
       "    x.observe(outputEl, {childList: true});\n",
       "}}\n",
       "\n",
       "                        })                };                });            </script>        </div>"
      ]
     },
     "metadata": {},
     "output_type": "display_data"
    }
   ],
   "source": [
    "fig = px.bar(grouped_countries[:30], x=\"country_comb\", y=\"num_countries\", template=\"plotly_dark\")\n",
    "fig.update_layout(\n",
    "    height=500,\n",
    ")\n",
    "fig.show()"
   ]
  },
  {
   "cell_type": "markdown",
   "id": "b34f43c6-116b-4203-8315-72a3ead641cb",
   "metadata": {},
   "source": [
    "Es sollen alle Lieder entfernt werden welche nicht aus englischsprachigen Länger (US, UK, CA, AU, Neuseeland) sowie Deutschland, Schweiz, Österreich, Italien und Schweden stammen."
   ]
  },
  {
   "cell_type": "code",
   "execution_count": 87,
   "id": "66ff269c-7c3c-433e-a43a-cbbaff9057ab",
   "metadata": {},
   "outputs": [],
   "source": [
    "important_country_codes = [\"US\", \"GB\", \"CA\", \"AU\", \"NZ\", \"DE\", \"CH\", \"AT\", \"IT\", \"SE\"]\n",
    "\n",
    "# kleinere Inselgegenden von Amerika: Baker Island, Howland Island, Jarvis Island, Johnston Atoll, Kingman Reef, Midway Islands, Navassa Island, Palmyra Atoll, Wake Island\n",
    "minor_insular_areas_us = [\"XB\", \"XH\", \"XQ\", \"XU\", \"XM\", \"QM\", \"XV\", \"XL\", \"QW\"]"
   ]
  },
  {
   "cell_type": "markdown",
   "id": "6b70ca70-2be8-4476-abdd-780bbbd9c613",
   "metadata": {},
   "source": [
    "`QM` wird heute als zusätzlicher Country code für Amerika verwendet, da der Code `US` sein Limit erreicht hat. Da dieser Beschluss jedoch aus 2010 stammt, sollten die Lieder der 80er nicht beeinflusst werden?"
   ]
  },
  {
   "cell_type": "code",
   "execution_count": 90,
   "id": "ee932516-085d-4965-b6d8-d1b39423db0b",
   "metadata": {},
   "outputs": [
    {
     "data": {
      "text/html": [
       "<div>\n",
       "<style scoped>\n",
       "    .dataframe tbody tr th:only-of-type {\n",
       "        vertical-align: middle;\n",
       "    }\n",
       "\n",
       "    .dataframe tbody tr th {\n",
       "        vertical-align: top;\n",
       "    }\n",
       "\n",
       "    .dataframe thead th {\n",
       "        text-align: right;\n",
       "    }\n",
       "</style>\n",
       "<table border=\"1\" class=\"dataframe\">\n",
       "  <thead>\n",
       "    <tr style=\"text-align: right;\">\n",
       "      <th></th>\n",
       "      <th>isrc</th>\n",
       "      <th>genres</th>\n",
       "      <th>name</th>\n",
       "      <th>artists</th>\n",
       "      <th>album</th>\n",
       "      <th>release_date</th>\n",
       "      <th>release_date_precision</th>\n",
       "      <th>uri</th>\n",
       "      <th>spotify_id</th>\n",
       "      <th>chart_power</th>\n",
       "      <th>...</th>\n",
       "      <th>acousticness</th>\n",
       "      <th>instrumentalness</th>\n",
       "      <th>liveness</th>\n",
       "      <th>valence</th>\n",
       "      <th>tempo</th>\n",
       "      <th>duration_ms</th>\n",
       "      <th>time_signature</th>\n",
       "      <th>year</th>\n",
       "      <th>country_code</th>\n",
       "      <th>country</th>\n",
       "    </tr>\n",
       "  </thead>\n",
       "  <tbody>\n",
       "    <tr>\n",
       "      <th>260929</th>\n",
       "      <td>QM2PV1614171</td>\n",
       "      <td>['industrial', 'rock']</td>\n",
       "      <td>all saints day</td>\n",
       "      <td>severed heads</td>\n",
       "      <td>Rotund for Success</td>\n",
       "      <td>1988-10-31</td>\n",
       "      <td>day</td>\n",
       "      <td>spotify:track:2eLRr44vcdLTrNFLB9GRZZ</td>\n",
       "      <td>2eLRr44vcdLTrNFLB9GRZZ</td>\n",
       "      <td>NaN</td>\n",
       "      <td>...</td>\n",
       "      <td>0.000346</td>\n",
       "      <td>0.637000</td>\n",
       "      <td>0.0791</td>\n",
       "      <td>0.7450</td>\n",
       "      <td>119.955</td>\n",
       "      <td>323128</td>\n",
       "      <td>4</td>\n",
       "      <td>1988</td>\n",
       "      <td>QM</td>\n",
       "      <td>Marshall Islands</td>\n",
       "    </tr>\n",
       "    <tr>\n",
       "      <th>260930</th>\n",
       "      <td>QM2PV1614172</td>\n",
       "      <td>['industrial', 'rock']</td>\n",
       "      <td>triangle tangle tango</td>\n",
       "      <td>severed heads</td>\n",
       "      <td>Rotund for Success</td>\n",
       "      <td>1988-10-31</td>\n",
       "      <td>day</td>\n",
       "      <td>spotify:track:1g9jtzoxCrQV7PM0zZQVSE</td>\n",
       "      <td>1g9jtzoxCrQV7PM0zZQVSE</td>\n",
       "      <td>NaN</td>\n",
       "      <td>...</td>\n",
       "      <td>0.154000</td>\n",
       "      <td>0.820000</td>\n",
       "      <td>0.1140</td>\n",
       "      <td>0.8790</td>\n",
       "      <td>118.544</td>\n",
       "      <td>247445</td>\n",
       "      <td>4</td>\n",
       "      <td>1988</td>\n",
       "      <td>QM</td>\n",
       "      <td>Marshall Islands</td>\n",
       "    </tr>\n",
       "    <tr>\n",
       "      <th>260931</th>\n",
       "      <td>QM2PV1614173</td>\n",
       "      <td>['industrial', 'punk', 'punk-rock', 'rock']</td>\n",
       "      <td>bad times too</td>\n",
       "      <td>severed heads</td>\n",
       "      <td>Rotund for Success</td>\n",
       "      <td>1988-10-31</td>\n",
       "      <td>day</td>\n",
       "      <td>spotify:track:56cD9Fe0EaHChJvubuxoF2</td>\n",
       "      <td>56cD9Fe0EaHChJvubuxoF2</td>\n",
       "      <td>NaN</td>\n",
       "      <td>...</td>\n",
       "      <td>0.001350</td>\n",
       "      <td>0.000576</td>\n",
       "      <td>0.1870</td>\n",
       "      <td>0.5750</td>\n",
       "      <td>128.701</td>\n",
       "      <td>240800</td>\n",
       "      <td>4</td>\n",
       "      <td>1988</td>\n",
       "      <td>QM</td>\n",
       "      <td>Marshall Islands</td>\n",
       "    </tr>\n",
       "    <tr>\n",
       "      <th>260932</th>\n",
       "      <td>QM2PV1614174</td>\n",
       "      <td>['industrial', 'punk', 'punk-rock', 'rock']</td>\n",
       "      <td>midget sings</td>\n",
       "      <td>severed heads</td>\n",
       "      <td>Rotund for Success</td>\n",
       "      <td>1988-10-31</td>\n",
       "      <td>day</td>\n",
       "      <td>spotify:track:3U9SjWleTJyGXzMVeKlksN</td>\n",
       "      <td>3U9SjWleTJyGXzMVeKlksN</td>\n",
       "      <td>NaN</td>\n",
       "      <td>...</td>\n",
       "      <td>0.083000</td>\n",
       "      <td>0.834000</td>\n",
       "      <td>0.0779</td>\n",
       "      <td>0.9780</td>\n",
       "      <td>126.927</td>\n",
       "      <td>197038</td>\n",
       "      <td>4</td>\n",
       "      <td>1988</td>\n",
       "      <td>QM</td>\n",
       "      <td>Marshall Islands</td>\n",
       "    </tr>\n",
       "    <tr>\n",
       "      <th>260933</th>\n",
       "      <td>QM2PV1614175</td>\n",
       "      <td>['industrial', 'punk', 'punk-rock', 'rock']</td>\n",
       "      <td>seven miles</td>\n",
       "      <td>severed heads</td>\n",
       "      <td>Rotund for Success</td>\n",
       "      <td>1988-10-31</td>\n",
       "      <td>day</td>\n",
       "      <td>spotify:track:3gwsxQ3A4qbq7ryhRLwr4B</td>\n",
       "      <td>3gwsxQ3A4qbq7ryhRLwr4B</td>\n",
       "      <td>NaN</td>\n",
       "      <td>...</td>\n",
       "      <td>0.009730</td>\n",
       "      <td>0.178000</td>\n",
       "      <td>0.6160</td>\n",
       "      <td>0.5770</td>\n",
       "      <td>139.642</td>\n",
       "      <td>231369</td>\n",
       "      <td>4</td>\n",
       "      <td>1988</td>\n",
       "      <td>QM</td>\n",
       "      <td>Marshall Islands</td>\n",
       "    </tr>\n",
       "    <tr>\n",
       "      <th>...</th>\n",
       "      <td>...</td>\n",
       "      <td>...</td>\n",
       "      <td>...</td>\n",
       "      <td>...</td>\n",
       "      <td>...</td>\n",
       "      <td>...</td>\n",
       "      <td>...</td>\n",
       "      <td>...</td>\n",
       "      <td>...</td>\n",
       "      <td>...</td>\n",
       "      <td>...</td>\n",
       "      <td>...</td>\n",
       "      <td>...</td>\n",
       "      <td>...</td>\n",
       "      <td>...</td>\n",
       "      <td>...</td>\n",
       "      <td>...</td>\n",
       "      <td>...</td>\n",
       "      <td>...</td>\n",
       "      <td>...</td>\n",
       "      <td>...</td>\n",
       "    </tr>\n",
       "    <tr>\n",
       "      <th>275322</th>\n",
       "      <td>QMZUC1500044</td>\n",
       "      <td>['jazz']</td>\n",
       "      <td>song for kinyatta</td>\n",
       "      <td>alexander zonjic</td>\n",
       "      <td>Romance With You</td>\n",
       "      <td>1989-04-12</td>\n",
       "      <td>day</td>\n",
       "      <td>spotify:track:0dJeVAevdgkItt6jz6PwQb</td>\n",
       "      <td>0dJeVAevdgkItt6jz6PwQb</td>\n",
       "      <td>NaN</td>\n",
       "      <td>...</td>\n",
       "      <td>0.161000</td>\n",
       "      <td>0.782000</td>\n",
       "      <td>0.0719</td>\n",
       "      <td>0.9090</td>\n",
       "      <td>124.924</td>\n",
       "      <td>318627</td>\n",
       "      <td>4</td>\n",
       "      <td>1989</td>\n",
       "      <td>QM</td>\n",
       "      <td>Marshall Islands</td>\n",
       "    </tr>\n",
       "    <tr>\n",
       "      <th>275323</th>\n",
       "      <td>QMZUC1500045</td>\n",
       "      <td>['jazz']</td>\n",
       "      <td>shawnee</td>\n",
       "      <td>alexander zonjic</td>\n",
       "      <td>Romance With You</td>\n",
       "      <td>1989-04-12</td>\n",
       "      <td>day</td>\n",
       "      <td>spotify:track:1fc4wC7HXS1cKvVmKr1tOp</td>\n",
       "      <td>1fc4wC7HXS1cKvVmKr1tOp</td>\n",
       "      <td>NaN</td>\n",
       "      <td>...</td>\n",
       "      <td>0.262000</td>\n",
       "      <td>0.550000</td>\n",
       "      <td>0.2370</td>\n",
       "      <td>0.6050</td>\n",
       "      <td>99.608</td>\n",
       "      <td>415507</td>\n",
       "      <td>4</td>\n",
       "      <td>1989</td>\n",
       "      <td>QM</td>\n",
       "      <td>Marshall Islands</td>\n",
       "    </tr>\n",
       "    <tr>\n",
       "      <th>275324</th>\n",
       "      <td>QMZUC1500046</td>\n",
       "      <td>['jazz']</td>\n",
       "      <td>altos de chavon</td>\n",
       "      <td>alexander zonjic</td>\n",
       "      <td>Romance With You</td>\n",
       "      <td>1989-04-12</td>\n",
       "      <td>day</td>\n",
       "      <td>spotify:track:2Us8sWKEaFRUCMTMVUoCai</td>\n",
       "      <td>2Us8sWKEaFRUCMTMVUoCai</td>\n",
       "      <td>NaN</td>\n",
       "      <td>...</td>\n",
       "      <td>0.562000</td>\n",
       "      <td>0.179000</td>\n",
       "      <td>0.1280</td>\n",
       "      <td>0.7920</td>\n",
       "      <td>89.535</td>\n",
       "      <td>377333</td>\n",
       "      <td>4</td>\n",
       "      <td>1989</td>\n",
       "      <td>QM</td>\n",
       "      <td>Marshall Islands</td>\n",
       "    </tr>\n",
       "    <tr>\n",
       "      <th>275325</th>\n",
       "      <td>QMZUC1500047</td>\n",
       "      <td>['jazz']</td>\n",
       "      <td>romance with you</td>\n",
       "      <td>alexander zonjic</td>\n",
       "      <td>Romance With You</td>\n",
       "      <td>1989-04-12</td>\n",
       "      <td>day</td>\n",
       "      <td>spotify:track:5upxN1EgFRQq5YZ8chMP4q</td>\n",
       "      <td>5upxN1EgFRQq5YZ8chMP4q</td>\n",
       "      <td>NaN</td>\n",
       "      <td>...</td>\n",
       "      <td>0.939000</td>\n",
       "      <td>0.894000</td>\n",
       "      <td>0.0787</td>\n",
       "      <td>0.5480</td>\n",
       "      <td>80.818</td>\n",
       "      <td>408227</td>\n",
       "      <td>4</td>\n",
       "      <td>1989</td>\n",
       "      <td>QM</td>\n",
       "      <td>Marshall Islands</td>\n",
       "    </tr>\n",
       "    <tr>\n",
       "      <th>275326</th>\n",
       "      <td>QMZUC1500048</td>\n",
       "      <td>['jazz']</td>\n",
       "      <td>siclienne</td>\n",
       "      <td>alexander zonjic</td>\n",
       "      <td>Romance With You</td>\n",
       "      <td>1989-04-12</td>\n",
       "      <td>day</td>\n",
       "      <td>spotify:track:5tg3lAt193nWg9xH6lXFlG</td>\n",
       "      <td>5tg3lAt193nWg9xH6lXFlG</td>\n",
       "      <td>NaN</td>\n",
       "      <td>...</td>\n",
       "      <td>0.979000</td>\n",
       "      <td>0.890000</td>\n",
       "      <td>0.1490</td>\n",
       "      <td>0.0388</td>\n",
       "      <td>108.215</td>\n",
       "      <td>211333</td>\n",
       "      <td>4</td>\n",
       "      <td>1989</td>\n",
       "      <td>QM</td>\n",
       "      <td>Marshall Islands</td>\n",
       "    </tr>\n",
       "  </tbody>\n",
       "</table>\n",
       "<p>14398 rows × 27 columns</p>\n",
       "</div>"
      ],
      "text/plain": [
       "                isrc                                       genres  \\\n",
       "260929  QM2PV1614171                       ['industrial', 'rock']   \n",
       "260930  QM2PV1614172                       ['industrial', 'rock']   \n",
       "260931  QM2PV1614173  ['industrial', 'punk', 'punk-rock', 'rock']   \n",
       "260932  QM2PV1614174  ['industrial', 'punk', 'punk-rock', 'rock']   \n",
       "260933  QM2PV1614175  ['industrial', 'punk', 'punk-rock', 'rock']   \n",
       "...              ...                                          ...   \n",
       "275322  QMZUC1500044                                     ['jazz']   \n",
       "275323  QMZUC1500045                                     ['jazz']   \n",
       "275324  QMZUC1500046                                     ['jazz']   \n",
       "275325  QMZUC1500047                                     ['jazz']   \n",
       "275326  QMZUC1500048                                     ['jazz']   \n",
       "\n",
       "                         name           artists               album  \\\n",
       "260929         all saints day     severed heads  Rotund for Success   \n",
       "260930  triangle tangle tango     severed heads  Rotund for Success   \n",
       "260931          bad times too     severed heads  Rotund for Success   \n",
       "260932           midget sings     severed heads  Rotund for Success   \n",
       "260933            seven miles     severed heads  Rotund for Success   \n",
       "...                       ...               ...                 ...   \n",
       "275322      song for kinyatta  alexander zonjic    Romance With You   \n",
       "275323                shawnee  alexander zonjic    Romance With You   \n",
       "275324        altos de chavon  alexander zonjic    Romance With You   \n",
       "275325       romance with you  alexander zonjic    Romance With You   \n",
       "275326              siclienne  alexander zonjic    Romance With You   \n",
       "\n",
       "       release_date release_date_precision  \\\n",
       "260929   1988-10-31                    day   \n",
       "260930   1988-10-31                    day   \n",
       "260931   1988-10-31                    day   \n",
       "260932   1988-10-31                    day   \n",
       "260933   1988-10-31                    day   \n",
       "...             ...                    ...   \n",
       "275322   1989-04-12                    day   \n",
       "275323   1989-04-12                    day   \n",
       "275324   1989-04-12                    day   \n",
       "275325   1989-04-12                    day   \n",
       "275326   1989-04-12                    day   \n",
       "\n",
       "                                         uri              spotify_id  \\\n",
       "260929  spotify:track:2eLRr44vcdLTrNFLB9GRZZ  2eLRr44vcdLTrNFLB9GRZZ   \n",
       "260930  spotify:track:1g9jtzoxCrQV7PM0zZQVSE  1g9jtzoxCrQV7PM0zZQVSE   \n",
       "260931  spotify:track:56cD9Fe0EaHChJvubuxoF2  56cD9Fe0EaHChJvubuxoF2   \n",
       "260932  spotify:track:3U9SjWleTJyGXzMVeKlksN  3U9SjWleTJyGXzMVeKlksN   \n",
       "260933  spotify:track:3gwsxQ3A4qbq7ryhRLwr4B  3gwsxQ3A4qbq7ryhRLwr4B   \n",
       "...                                      ...                     ...   \n",
       "275322  spotify:track:0dJeVAevdgkItt6jz6PwQb  0dJeVAevdgkItt6jz6PwQb   \n",
       "275323  spotify:track:1fc4wC7HXS1cKvVmKr1tOp  1fc4wC7HXS1cKvVmKr1tOp   \n",
       "275324  spotify:track:2Us8sWKEaFRUCMTMVUoCai  2Us8sWKEaFRUCMTMVUoCai   \n",
       "275325  spotify:track:5upxN1EgFRQq5YZ8chMP4q  5upxN1EgFRQq5YZ8chMP4q   \n",
       "275326  spotify:track:5tg3lAt193nWg9xH6lXFlG  5tg3lAt193nWg9xH6lXFlG   \n",
       "\n",
       "        chart_power  ...  acousticness  instrumentalness  liveness  valence  \\\n",
       "260929          NaN  ...      0.000346          0.637000    0.0791   0.7450   \n",
       "260930          NaN  ...      0.154000          0.820000    0.1140   0.8790   \n",
       "260931          NaN  ...      0.001350          0.000576    0.1870   0.5750   \n",
       "260932          NaN  ...      0.083000          0.834000    0.0779   0.9780   \n",
       "260933          NaN  ...      0.009730          0.178000    0.6160   0.5770   \n",
       "...             ...  ...           ...               ...       ...      ...   \n",
       "275322          NaN  ...      0.161000          0.782000    0.0719   0.9090   \n",
       "275323          NaN  ...      0.262000          0.550000    0.2370   0.6050   \n",
       "275324          NaN  ...      0.562000          0.179000    0.1280   0.7920   \n",
       "275325          NaN  ...      0.939000          0.894000    0.0787   0.5480   \n",
       "275326          NaN  ...      0.979000          0.890000    0.1490   0.0388   \n",
       "\n",
       "          tempo  duration_ms  time_signature  year  country_code  \\\n",
       "260929  119.955       323128               4  1988            QM   \n",
       "260930  118.544       247445               4  1988            QM   \n",
       "260931  128.701       240800               4  1988            QM   \n",
       "260932  126.927       197038               4  1988            QM   \n",
       "260933  139.642       231369               4  1988            QM   \n",
       "...         ...          ...             ...   ...           ...   \n",
       "275322  124.924       318627               4  1989            QM   \n",
       "275323   99.608       415507               4  1989            QM   \n",
       "275324   89.535       377333               4  1989            QM   \n",
       "275325   80.818       408227               4  1989            QM   \n",
       "275326  108.215       211333               4  1989            QM   \n",
       "\n",
       "                 country  \n",
       "260929  Marshall Islands  \n",
       "260930  Marshall Islands  \n",
       "260931  Marshall Islands  \n",
       "260932  Marshall Islands  \n",
       "260933  Marshall Islands  \n",
       "...                  ...  \n",
       "275322  Marshall Islands  \n",
       "275323  Marshall Islands  \n",
       "275324  Marshall Islands  \n",
       "275325  Marshall Islands  \n",
       "275326  Marshall Islands  \n",
       "\n",
       "[14398 rows x 27 columns]"
      ]
     },
     "execution_count": 90,
     "metadata": {},
     "output_type": "execute_result"
    }
   ],
   "source": [
    "by_isrc[by_isrc[\"country_code\"] == \"QM\"]"
   ]
  },
  {
   "cell_type": "code",
   "execution_count": 88,
   "id": "3d0abb5c-d85e-4f29-9051-60319306a43f",
   "metadata": {},
   "outputs": [],
   "source": [
    "important_country_codes.extend(minor_insular_areas_us)"
   ]
  },
  {
   "cell_type": "code",
   "execution_count": 89,
   "id": "02c2236c-83b7-48f7-927e-01da65798b22",
   "metadata": {},
   "outputs": [],
   "source": [
    "reduced_isrc = by_isrc.copy()\n",
    "reduced_isrc = reduced_isrc[reduced_isrc[\"country_code\"].isin(important_country_codes)]\n",
    "reduced_isrc[\"genres\"] = reduced_isrc[\"genres\"].apply(literal_eval)"
   ]
  },
  {
   "cell_type": "code",
   "execution_count": null,
   "id": "453c1d8f-b6f3-4172-9293-4470f6f30f33",
   "metadata": {},
   "outputs": [],
   "source": []
  }
 ],
 "metadata": {
  "kernelspec": {
   "display_name": "application-project",
   "language": "python",
   "name": "application-project"
  },
  "language_info": {
   "codemirror_mode": {
    "name": "ipython",
    "version": 3
   },
   "file_extension": ".py",
   "mimetype": "text/x-python",
   "name": "python",
   "nbconvert_exporter": "python",
   "pygments_lexer": "ipython3",
   "version": "3.10.12"
  }
 },
 "nbformat": 4,
 "nbformat_minor": 5
}
