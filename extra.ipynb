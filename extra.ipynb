{
  "cells": [
    {
      "cell_type": "markdown",
      "id": "4aa021fd-c213-4c05-80d9-996adfe8ad4d",
      "metadata": {
        "id": "4aa021fd-c213-4c05-80d9-996adfe8ad4d"
      },
      "source": [
        "# Extra Aufgaben"
      ]
    },
    {
      "cell_type": "code",
      "execution_count": 1,
      "id": "eNb_1cANxM40",
      "metadata": {
        "colab": {
          "base_uri": "https://localhost:8080/"
        },
        "id": "eNb_1cANxM40",
        "outputId": "d33ef4b1-ba31-466c-e0ad-17a9ad23bac3"
      },
      "outputs": [
        {
          "output_type": "stream",
          "name": "stdout",
          "text": [
            "Mounted at /content/gdrive\n"
          ]
        }
      ],
      "source": [
        "from google.colab import drive\n",
        "drive.mount('/content/gdrive')"
      ]
    },
    {
      "cell_type": "code",
      "execution_count": 2,
      "id": "9f2c0443",
      "metadata": {
        "id": "9f2c0443"
      },
      "outputs": [],
      "source": [
        "LOCAL = False"
      ]
    },
    {
      "cell_type": "code",
      "execution_count": 3,
      "id": "nw6nEtf9A09n",
      "metadata": {
        "id": "nw6nEtf9A09n"
      },
      "outputs": [],
      "source": [
        "if LOCAL:\n",
        "  PATH = \"./data\"\n",
        "else:\n",
        "  PATH = \"gdrive/MyDrive/application-project-abgabe\""
      ]
    },
    {
      "cell_type": "markdown",
      "id": "90aabbd4-0dee-4108-b00f-29e931b1291f",
      "metadata": {
        "id": "90aabbd4-0dee-4108-b00f-29e931b1291f"
      },
      "source": [
        "## Filterung der Datenbank um irrelevante Ergebnisse zu verhindern"
      ]
    },
    {
      "cell_type": "code",
      "execution_count": 4,
      "id": "4e2a29e0-e35c-4ae8-925b-28e1994f0e1b",
      "metadata": {
        "id": "4e2a29e0-e35c-4ae8-925b-28e1994f0e1b"
      },
      "outputs": [],
      "source": [
        "import pandas as pd\n",
        "import numpy as np\n",
        "from sklearn.preprocessing import MinMaxScaler\n",
        "from sklearn.metrics.pairwise import cosine_similarity, linear_kernel, polynomial_kernel, sigmoid_kernel, rbf_kernel, laplacian_kernel, chi2_kernel, euclidean_distances, manhattan_distances, cosine_distances\n",
        "import plotly.express as px\n",
        "import plotly.graph_objects as go\n",
        "from tqdm import tqdm\n",
        "import time\n",
        "from ast import literal_eval"
      ]
    },
    {
      "cell_type": "code",
      "execution_count": 5,
      "id": "d4b582ef-98b0-4471-a6c9-c5eb9800b334",
      "metadata": {
        "id": "d4b582ef-98b0-4471-a6c9-c5eb9800b334"
      },
      "outputs": [],
      "source": [
        "#by_isrc = pd.read_csv('data/by_isrc.csv')\n",
        "by_isrc = pd.read_csv(f\"{PATH}/by_isrc.csv\")"
      ]
    },
    {
      "cell_type": "code",
      "execution_count": null,
      "id": "112671ab-ad9a-44bb-b1b4-bc03424fb7ef",
      "metadata": {
        "id": "112671ab-ad9a-44bb-b1b4-bc03424fb7ef"
      },
      "outputs": [],
      "source": [
        "by_isrc[\"country_code\"] = by_isrc[\"isrc\"].apply(lambda x: x[:2])"
      ]
    },
    {
      "cell_type": "code",
      "execution_count": null,
      "id": "3e739409-7d41-4bf8-a464-1a783fbe876b",
      "metadata": {
        "colab": {
          "base_uri": "https://localhost:8080/"
        },
        "id": "3e739409-7d41-4bf8-a464-1a783fbe876b",
        "outputId": "8b853588-70ba-407a-9aa9-b421c7cc7728"
      },
      "outputs": [
        {
          "data": {
            "text/plain": [
              "array(['AE', 'AR', 'AT', 'AU', 'AZ', 'BA', 'BC', 'BE', 'BG', 'BR', 'BX',\n",
              "       'Br', 'CA', 'CH', 'CI', 'CL', 'CN', 'CO', 'CS', 'CZ', 'DE', 'DG',\n",
              "       'DK', 'EE', 'EG', 'ES', 'FI', 'FR', 'FX', 'GB', 'GN', 'GR', 'GT',\n",
              "       'GX', 'HK', 'HR', 'HU', 'ID', 'IE', 'IL', 'IN', 'IR', 'IS', 'IT',\n",
              "       'JM', 'JP', 'KE', 'KR', 'KS', 'LB', 'LK', 'LT', 'LU', 'LV', 'MD',\n",
              "       'MM', 'MT', 'MU', 'MX', 'MY', 'NG', 'NI', 'NL', 'NO', 'NZ', 'No',\n",
              "       'PE', 'PH', 'PL', 'PT', 'QM', 'QZ', 'RE', 'RO', 'RS', 'RU', 'SE',\n",
              "       'SG', 'SI', 'SK', 'SM', 'SW', 'TC', 'TH', 'TR', 'TW', 'UA', 'UK',\n",
              "       'UR', 'US', 'UY', 'VE', 'VN', 'ZA', 'ZZ', 'ae', 'ca', 'gb', 'il',\n",
              "       'lv', 'nl', 'qz', 'us', 've'], dtype=object)"
            ]
          },
          "execution_count": 6,
          "metadata": {},
          "output_type": "execute_result"
        }
      ],
      "source": [
        "by_isrc[\"country_code\"].unique()"
      ]
    },
    {
      "cell_type": "markdown",
      "id": "7f095f29-3be3-40d9-b98b-a2688a43a02a",
      "metadata": {
        "id": "7f095f29-3be3-40d9-b98b-a2688a43a02a"
      },
      "source": [
        "Einige Ländercodes sind kleingeschrieben. Diese sollen in Großbuchstaben umgewandelt werden."
      ]
    },
    {
      "cell_type": "code",
      "execution_count": null,
      "id": "988d731d-e895-4fff-8ef4-f6f6eda5f692",
      "metadata": {
        "id": "988d731d-e895-4fff-8ef4-f6f6eda5f692"
      },
      "outputs": [],
      "source": [
        "by_isrc[\"country_code\"] = by_isrc[\"country_code\"].str.upper()"
      ]
    },
    {
      "cell_type": "code",
      "execution_count": null,
      "id": "9adedfa6-fb4f-470d-a2b5-84f36c132c14",
      "metadata": {
        "colab": {
          "base_uri": "https://localhost:8080/"
        },
        "id": "9adedfa6-fb4f-470d-a2b5-84f36c132c14",
        "outputId": "386d00a4-74a4-4642-c53f-692c92b7c1c3"
      },
      "outputs": [
        {
          "data": {
            "text/plain": [
              "array(['AE', 'AR', 'AT', 'AU', 'AZ', 'BA', 'BC', 'BE', 'BG', 'BR', 'BX',\n",
              "       'CA', 'CH', 'CI', 'CL', 'CN', 'CO', 'CS', 'CZ', 'DE', 'DG', 'DK',\n",
              "       'EE', 'EG', 'ES', 'FI', 'FR', 'FX', 'GB', 'GN', 'GR', 'GT', 'GX',\n",
              "       'HK', 'HR', 'HU', 'ID', 'IE', 'IL', 'IN', 'IR', 'IS', 'IT', 'JM',\n",
              "       'JP', 'KE', 'KR', 'KS', 'LB', 'LK', 'LT', 'LU', 'LV', 'MD', 'MM',\n",
              "       'MT', 'MU', 'MX', 'MY', 'NG', 'NI', 'NL', 'NO', 'NZ', 'PE', 'PH',\n",
              "       'PL', 'PT', 'QM', 'QZ', 'RE', 'RO', 'RS', 'RU', 'SE', 'SG', 'SI',\n",
              "       'SK', 'SM', 'SW', 'TC', 'TH', 'TR', 'TW', 'UA', 'UK', 'UR', 'US',\n",
              "       'UY', 'VE', 'VN', 'ZA', 'ZZ'], dtype=object)"
            ]
          },
          "execution_count": 8,
          "metadata": {},
          "output_type": "execute_result"
        }
      ],
      "source": [
        "by_isrc[\"country_code\"].unique()"
      ]
    },
    {
      "cell_type": "markdown",
      "id": "4df225d6-f879-4500-a54d-498b5513483f",
      "metadata": {
        "id": "4df225d6-f879-4500-a54d-498b5513483f"
      },
      "source": [
        "Gruppierung der Songs nach den Ländercodes."
      ]
    },
    {
      "cell_type": "code",
      "execution_count": null,
      "id": "7916e0cd-dfb0-4994-ad6a-12cccfea3e84",
      "metadata": {
        "id": "7916e0cd-dfb0-4994-ad6a-12cccfea3e84"
      },
      "outputs": [],
      "source": [
        "countries = {\n",
        "    'AE': 'United Arab Emirates',\n",
        "    'AR': 'Argentina',\n",
        "    'AT': 'Austria',\n",
        "    'AU': 'Australia',\n",
        "    'AZ': 'Azerbaijan',\n",
        "    'BA': 'Bosnia and Herzegovina',\n",
        "    'BC': 'Canada (British Columbia)',\n",
        "    'BE': 'Belgium',\n",
        "    'BG': 'Bulgaria',\n",
        "    'BR': 'Brazil',\n",
        "    'BX': 'Benelux',\n",
        "    'CA': 'Canada',\n",
        "    'CH': 'Switzerland',\n",
        "    'CI': 'Ivory Coast (Côte d\\'Ivoire)',\n",
        "    'CL': 'Chile',\n",
        "    'CN': 'China',\n",
        "    'CO': 'Colombia',\n",
        "    'CS': 'Serbia and Montenegro',\n",
        "    'CZ': 'Czech Republic',\n",
        "    'DE': 'Germany',\n",
        "    'DG': 'Germany (East)',\n",
        "    'DK': 'Denmark',\n",
        "    'EE': 'Estonia',\n",
        "    'EG': 'Egypt',\n",
        "    'ES': 'Spain',\n",
        "    'FI': 'Finland',\n",
        "    'FR': 'France',\n",
        "    'FX': 'France (Metropolitan)',\n",
        "    'GB': 'United Kingdom',\n",
        "    'GN': 'Guinea',\n",
        "    'GR': 'Greece',\n",
        "    'GT': 'Guatemala',\n",
        "    'GX': 'Greece (Ancient)',\n",
        "    'HK': 'Hong Kong',\n",
        "    'HR': 'Croatia',\n",
        "    'HU': 'Hungary',\n",
        "    'ID': 'Indonesia',\n",
        "    'IE': 'Ireland',\n",
        "    'IL': 'Israel',\n",
        "    'IN': 'India',\n",
        "    'IR': 'Iran',\n",
        "    'IS': 'Iceland',\n",
        "    'IT': 'Italy',\n",
        "    'JM': 'Jamaica',\n",
        "    'JP': 'Japan',\n",
        "    'KE': 'Kenya',\n",
        "    'KR': 'South Korea',\n",
        "    'KS': 'Kosovo',\n",
        "    'LB': 'Lebanon',\n",
        "    'LK': 'Sri Lanka',\n",
        "    'LT': 'Lithuania',\n",
        "    'LU': 'Luxembourg',\n",
        "    'LV': 'Latvia',\n",
        "    'MD': 'Moldova',\n",
        "    'MM': 'Myanmar (Burma)',\n",
        "    'MT': 'Malta',\n",
        "    'MU': 'Mauritius',\n",
        "    'MX': 'Mexico',\n",
        "    'MY': 'Malaysia',\n",
        "    'NG': 'Nigeria',\n",
        "    'NI': 'Nicaragua',\n",
        "    'NL': 'Netherlands',\n",
        "    'NO': 'Norway',\n",
        "    'NZ': 'New Zealand',\n",
        "    'PE': 'Peru',\n",
        "    'PH': 'Philippines',\n",
        "    'PL': 'Poland',\n",
        "    'PT': 'Portugal',\n",
        "    'QM': 'Marshall Islands', #second country code for the United States\n",
        "    'QZ': 'Unknown or Invalid Area',\n",
        "    'RE': 'Réunion',\n",
        "    'RO': 'Romania',\n",
        "    'RS': 'Serbia',\n",
        "    'RU': 'Russia',\n",
        "    'SE': 'Sweden',\n",
        "    'SG': 'Singapore',\n",
        "    'SI': 'Slovenia',\n",
        "    'SK': 'Slovakia',\n",
        "    'SM': 'San Marino',\n",
        "    'SW': 'Sweden',\n",
        "    'TC': 'Turks and Caicos Islands',\n",
        "    'TH': 'Thailand',\n",
        "    'TR': 'Turkey',\n",
        "    'TW': 'Taiwan',\n",
        "    'UA': 'Ukraine',\n",
        "    'UK': 'United Kingdom',\n",
        "    'UR': 'Uruguay',\n",
        "    'US': 'United States',\n",
        "    'UY': 'Uruguay',\n",
        "    'VE': 'Venezuela',\n",
        "    'VN': 'Vietnam',\n",
        "    'ZA': 'South Africa',\n",
        "    'ZZ': 'Unknown or Invalid Area'\n",
        "}"
      ]
    },
    {
      "cell_type": "markdown",
      "id": "-lxm2F7yyU9T",
      "metadata": {
        "id": "-lxm2F7yyU9T"
      },
      "source": [
        "Erstellen eines neuen Features `country`, welches den Namen des jeweiligen Landes beinhaltet."
      ]
    },
    {
      "cell_type": "code",
      "execution_count": null,
      "id": "c905b4a6-ebcc-4580-b3f2-c345d64c4e51",
      "metadata": {
        "id": "c905b4a6-ebcc-4580-b3f2-c345d64c4e51"
      },
      "outputs": [],
      "source": [
        "by_isrc[\"country\"] = by_isrc[\"country_code\"].apply(lambda x: countries[x])"
      ]
    },
    {
      "cell_type": "markdown",
      "id": "gLUKB8R7yhL1",
      "metadata": {
        "id": "gLUKB8R7yhL1"
      },
      "source": [
        "Gruppieren der Daten nach `country` und `country_code`. Dies soll genutzt werden, um zu analysieren, aus welchem Land am meisten Songs veröffentlicht worden sind."
      ]
    },
    {
      "cell_type": "code",
      "execution_count": null,
      "id": "f3bad70b-248a-4714-8338-09e315e802ad",
      "metadata": {
        "id": "f3bad70b-248a-4714-8338-09e315e802ad"
      },
      "outputs": [],
      "source": [
        "grouped_countries = by_isrc.copy()\n",
        "grouped_countries = grouped_countries[[\"country_code\", \"country\"]]\n",
        "grouped_countries[\"num_countries\"] = 0\n",
        "grouped_countries = grouped_countries.groupby([\"country_code\", \"country\"]).count()"
      ]
    },
    {
      "cell_type": "code",
      "execution_count": null,
      "id": "e6c8c41f-b919-4304-b9e7-7b6ef0a286a6",
      "metadata": {
        "id": "e6c8c41f-b919-4304-b9e7-7b6ef0a286a6"
      },
      "outputs": [],
      "source": [
        "grouped_countries = grouped_countries.sort_values(\"num_countries\", ascending=False)"
      ]
    },
    {
      "cell_type": "code",
      "execution_count": null,
      "id": "d565a13b-1fa0-42e6-a311-2e2b1f1d92ca",
      "metadata": {
        "id": "d565a13b-1fa0-42e6-a311-2e2b1f1d92ca"
      },
      "outputs": [],
      "source": [
        "grouped_countries.reset_index(inplace=True)"
      ]
    },
    {
      "cell_type": "code",
      "execution_count": null,
      "id": "33443f11-ce6c-4bbf-8fba-a86db672f11b",
      "metadata": {
        "id": "33443f11-ce6c-4bbf-8fba-a86db672f11b"
      },
      "outputs": [],
      "source": [
        "# country und country_code werden kombiniert für eine bessere Darstellung\n",
        "grouped_countries[\"country_comb\"] = grouped_countries.apply(lambda x: f'{x[\"country\"]}-{x[\"country_code\"]}', axis=1)"
      ]
    },
    {
      "cell_type": "code",
      "execution_count": null,
      "id": "0f9e76bf-738c-4551-b7c5-91cc644e9819",
      "metadata": {
        "colab": {
          "base_uri": "https://localhost:8080/",
          "height": 517
        },
        "id": "0f9e76bf-738c-4551-b7c5-91cc644e9819",
        "outputId": "28f33f6e-4c22-4f29-cac1-1a54843b445c"
      },
      "outputs": [
        {
          "data": {
            "text/html": [
              "<html>\n",
              "<head><meta charset=\"utf-8\" /></head>\n",
              "<body>\n",
              "    <div>            <script src=\"https://cdnjs.cloudflare.com/ajax/libs/mathjax/2.7.5/MathJax.js?config=TeX-AMS-MML_SVG\"></script><script type=\"text/javascript\">if (window.MathJax && window.MathJax.Hub && window.MathJax.Hub.Config) {window.MathJax.Hub.Config({SVG: {font: \"STIX-Web\"}});}</script>                <script type=\"text/javascript\">window.PlotlyConfig = {MathJaxConfig: 'local'};</script>\n",
              "        <script charset=\"utf-8\" src=\"https://cdn.plot.ly/plotly-2.24.1.min.js\"></script>                <div id=\"77405c20-aa9b-4a7a-bd5f-f4430ce34d8e\" class=\"plotly-graph-div\" style=\"height:500px; width:100%;\"></div>            <script type=\"text/javascript\">                                    window.PLOTLYENV=window.PLOTLYENV || {};                                    if (document.getElementById(\"77405c20-aa9b-4a7a-bd5f-f4430ce34d8e\")) {                    Plotly.newPlot(                        \"77405c20-aa9b-4a7a-bd5f-f4430ce34d8e\",                        [{\"alignmentgroup\":\"True\",\"hovertemplate\":\"country_comb=%{x}\\u003cbr\\u003enum_countries=%{y}\\u003cextra\\u003e\\u003c\\u002fextra\\u003e\",\"legendgroup\":\"\",\"marker\":{\"color\":\"#636efa\",\"pattern\":{\"shape\":\"\"}},\"name\":\"\",\"offsetgroup\":\"\",\"orientation\":\"v\",\"showlegend\":false,\"textposition\":\"auto\",\"x\":[\"United States-US\",\"United Kingdom-GB\",\"Germany-DE\",\"France-FR\",\"Marshall Islands-QM\",\"Brazil-BR\",\"Netherlands-NL\",\"Sweden-SE\",\"Spain-ES\",\"Finland-FI\",\"Italy-IT\",\"Japan-JP\",\"India-IN\",\"Unknown or Invalid Area-QZ\",\"Turkey-TR\",\"Argentina-AR\",\"Czech Republic-CZ\",\"Norway-NO\",\"Indonesia-ID\",\"Denmark-DK\",\"Greece-GR\",\"Canada-CA\",\"Australia-AU\",\"Bulgaria-BG\",\"Croatia-HR\",\"Switzerland-CH\",\"Belgium-BE\",\"Hong Kong-HK\",\"Iceland-IS\",\"Turks and Caicos Islands-TC\"],\"xaxis\":\"x\",\"y\":[104973,66175,32217,24923,14398,14227,14013,13102,11284,9801,8654,8348,7780,6490,5493,5144,5109,4796,4667,4415,4310,3844,3619,3150,3099,2357,2196,1881,1767,1546],\"yaxis\":\"y\",\"type\":\"bar\"}],                        {\"template\":{\"data\":{\"barpolar\":[{\"marker\":{\"line\":{\"color\":\"rgb(17,17,17)\",\"width\":0.5},\"pattern\":{\"fillmode\":\"overlay\",\"size\":10,\"solidity\":0.2}},\"type\":\"barpolar\"}],\"bar\":[{\"error_x\":{\"color\":\"#f2f5fa\"},\"error_y\":{\"color\":\"#f2f5fa\"},\"marker\":{\"line\":{\"color\":\"rgb(17,17,17)\",\"width\":0.5},\"pattern\":{\"fillmode\":\"overlay\",\"size\":10,\"solidity\":0.2}},\"type\":\"bar\"}],\"carpet\":[{\"aaxis\":{\"endlinecolor\":\"#A2B1C6\",\"gridcolor\":\"#506784\",\"linecolor\":\"#506784\",\"minorgridcolor\":\"#506784\",\"startlinecolor\":\"#A2B1C6\"},\"baxis\":{\"endlinecolor\":\"#A2B1C6\",\"gridcolor\":\"#506784\",\"linecolor\":\"#506784\",\"minorgridcolor\":\"#506784\",\"startlinecolor\":\"#A2B1C6\"},\"type\":\"carpet\"}],\"choropleth\":[{\"colorbar\":{\"outlinewidth\":0,\"ticks\":\"\"},\"type\":\"choropleth\"}],\"contourcarpet\":[{\"colorbar\":{\"outlinewidth\":0,\"ticks\":\"\"},\"type\":\"contourcarpet\"}],\"contour\":[{\"colorbar\":{\"outlinewidth\":0,\"ticks\":\"\"},\"colorscale\":[[0.0,\"#0d0887\"],[0.1111111111111111,\"#46039f\"],[0.2222222222222222,\"#7201a8\"],[0.3333333333333333,\"#9c179e\"],[0.4444444444444444,\"#bd3786\"],[0.5555555555555556,\"#d8576b\"],[0.6666666666666666,\"#ed7953\"],[0.7777777777777778,\"#fb9f3a\"],[0.8888888888888888,\"#fdca26\"],[1.0,\"#f0f921\"]],\"type\":\"contour\"}],\"heatmapgl\":[{\"colorbar\":{\"outlinewidth\":0,\"ticks\":\"\"},\"colorscale\":[[0.0,\"#0d0887\"],[0.1111111111111111,\"#46039f\"],[0.2222222222222222,\"#7201a8\"],[0.3333333333333333,\"#9c179e\"],[0.4444444444444444,\"#bd3786\"],[0.5555555555555556,\"#d8576b\"],[0.6666666666666666,\"#ed7953\"],[0.7777777777777778,\"#fb9f3a\"],[0.8888888888888888,\"#fdca26\"],[1.0,\"#f0f921\"]],\"type\":\"heatmapgl\"}],\"heatmap\":[{\"colorbar\":{\"outlinewidth\":0,\"ticks\":\"\"},\"colorscale\":[[0.0,\"#0d0887\"],[0.1111111111111111,\"#46039f\"],[0.2222222222222222,\"#7201a8\"],[0.3333333333333333,\"#9c179e\"],[0.4444444444444444,\"#bd3786\"],[0.5555555555555556,\"#d8576b\"],[0.6666666666666666,\"#ed7953\"],[0.7777777777777778,\"#fb9f3a\"],[0.8888888888888888,\"#fdca26\"],[1.0,\"#f0f921\"]],\"type\":\"heatmap\"}],\"histogram2dcontour\":[{\"colorbar\":{\"outlinewidth\":0,\"ticks\":\"\"},\"colorscale\":[[0.0,\"#0d0887\"],[0.1111111111111111,\"#46039f\"],[0.2222222222222222,\"#7201a8\"],[0.3333333333333333,\"#9c179e\"],[0.4444444444444444,\"#bd3786\"],[0.5555555555555556,\"#d8576b\"],[0.6666666666666666,\"#ed7953\"],[0.7777777777777778,\"#fb9f3a\"],[0.8888888888888888,\"#fdca26\"],[1.0,\"#f0f921\"]],\"type\":\"histogram2dcontour\"}],\"histogram2d\":[{\"colorbar\":{\"outlinewidth\":0,\"ticks\":\"\"},\"colorscale\":[[0.0,\"#0d0887\"],[0.1111111111111111,\"#46039f\"],[0.2222222222222222,\"#7201a8\"],[0.3333333333333333,\"#9c179e\"],[0.4444444444444444,\"#bd3786\"],[0.5555555555555556,\"#d8576b\"],[0.6666666666666666,\"#ed7953\"],[0.7777777777777778,\"#fb9f3a\"],[0.8888888888888888,\"#fdca26\"],[1.0,\"#f0f921\"]],\"type\":\"histogram2d\"}],\"histogram\":[{\"marker\":{\"pattern\":{\"fillmode\":\"overlay\",\"size\":10,\"solidity\":0.2}},\"type\":\"histogram\"}],\"mesh3d\":[{\"colorbar\":{\"outlinewidth\":0,\"ticks\":\"\"},\"type\":\"mesh3d\"}],\"parcoords\":[{\"line\":{\"colorbar\":{\"outlinewidth\":0,\"ticks\":\"\"}},\"type\":\"parcoords\"}],\"pie\":[{\"automargin\":true,\"type\":\"pie\"}],\"scatter3d\":[{\"line\":{\"colorbar\":{\"outlinewidth\":0,\"ticks\":\"\"}},\"marker\":{\"colorbar\":{\"outlinewidth\":0,\"ticks\":\"\"}},\"type\":\"scatter3d\"}],\"scattercarpet\":[{\"marker\":{\"colorbar\":{\"outlinewidth\":0,\"ticks\":\"\"}},\"type\":\"scattercarpet\"}],\"scattergeo\":[{\"marker\":{\"colorbar\":{\"outlinewidth\":0,\"ticks\":\"\"}},\"type\":\"scattergeo\"}],\"scattergl\":[{\"marker\":{\"line\":{\"color\":\"#283442\"}},\"type\":\"scattergl\"}],\"scattermapbox\":[{\"marker\":{\"colorbar\":{\"outlinewidth\":0,\"ticks\":\"\"}},\"type\":\"scattermapbox\"}],\"scatterpolargl\":[{\"marker\":{\"colorbar\":{\"outlinewidth\":0,\"ticks\":\"\"}},\"type\":\"scatterpolargl\"}],\"scatterpolar\":[{\"marker\":{\"colorbar\":{\"outlinewidth\":0,\"ticks\":\"\"}},\"type\":\"scatterpolar\"}],\"scatter\":[{\"marker\":{\"line\":{\"color\":\"#283442\"}},\"type\":\"scatter\"}],\"scatterternary\":[{\"marker\":{\"colorbar\":{\"outlinewidth\":0,\"ticks\":\"\"}},\"type\":\"scatterternary\"}],\"surface\":[{\"colorbar\":{\"outlinewidth\":0,\"ticks\":\"\"},\"colorscale\":[[0.0,\"#0d0887\"],[0.1111111111111111,\"#46039f\"],[0.2222222222222222,\"#7201a8\"],[0.3333333333333333,\"#9c179e\"],[0.4444444444444444,\"#bd3786\"],[0.5555555555555556,\"#d8576b\"],[0.6666666666666666,\"#ed7953\"],[0.7777777777777778,\"#fb9f3a\"],[0.8888888888888888,\"#fdca26\"],[1.0,\"#f0f921\"]],\"type\":\"surface\"}],\"table\":[{\"cells\":{\"fill\":{\"color\":\"#506784\"},\"line\":{\"color\":\"rgb(17,17,17)\"}},\"header\":{\"fill\":{\"color\":\"#2a3f5f\"},\"line\":{\"color\":\"rgb(17,17,17)\"}},\"type\":\"table\"}]},\"layout\":{\"annotationdefaults\":{\"arrowcolor\":\"#f2f5fa\",\"arrowhead\":0,\"arrowwidth\":1},\"autotypenumbers\":\"strict\",\"coloraxis\":{\"colorbar\":{\"outlinewidth\":0,\"ticks\":\"\"}},\"colorscale\":{\"diverging\":[[0,\"#8e0152\"],[0.1,\"#c51b7d\"],[0.2,\"#de77ae\"],[0.3,\"#f1b6da\"],[0.4,\"#fde0ef\"],[0.5,\"#f7f7f7\"],[0.6,\"#e6f5d0\"],[0.7,\"#b8e186\"],[0.8,\"#7fbc41\"],[0.9,\"#4d9221\"],[1,\"#276419\"]],\"sequential\":[[0.0,\"#0d0887\"],[0.1111111111111111,\"#46039f\"],[0.2222222222222222,\"#7201a8\"],[0.3333333333333333,\"#9c179e\"],[0.4444444444444444,\"#bd3786\"],[0.5555555555555556,\"#d8576b\"],[0.6666666666666666,\"#ed7953\"],[0.7777777777777778,\"#fb9f3a\"],[0.8888888888888888,\"#fdca26\"],[1.0,\"#f0f921\"]],\"sequentialminus\":[[0.0,\"#0d0887\"],[0.1111111111111111,\"#46039f\"],[0.2222222222222222,\"#7201a8\"],[0.3333333333333333,\"#9c179e\"],[0.4444444444444444,\"#bd3786\"],[0.5555555555555556,\"#d8576b\"],[0.6666666666666666,\"#ed7953\"],[0.7777777777777778,\"#fb9f3a\"],[0.8888888888888888,\"#fdca26\"],[1.0,\"#f0f921\"]]},\"colorway\":[\"#636efa\",\"#EF553B\",\"#00cc96\",\"#ab63fa\",\"#FFA15A\",\"#19d3f3\",\"#FF6692\",\"#B6E880\",\"#FF97FF\",\"#FECB52\"],\"font\":{\"color\":\"#f2f5fa\"},\"geo\":{\"bgcolor\":\"rgb(17,17,17)\",\"lakecolor\":\"rgb(17,17,17)\",\"landcolor\":\"rgb(17,17,17)\",\"showlakes\":true,\"showland\":true,\"subunitcolor\":\"#506784\"},\"hoverlabel\":{\"align\":\"left\"},\"hovermode\":\"closest\",\"mapbox\":{\"style\":\"dark\"},\"paper_bgcolor\":\"rgb(17,17,17)\",\"plot_bgcolor\":\"rgb(17,17,17)\",\"polar\":{\"angularaxis\":{\"gridcolor\":\"#506784\",\"linecolor\":\"#506784\",\"ticks\":\"\"},\"bgcolor\":\"rgb(17,17,17)\",\"radialaxis\":{\"gridcolor\":\"#506784\",\"linecolor\":\"#506784\",\"ticks\":\"\"}},\"scene\":{\"xaxis\":{\"backgroundcolor\":\"rgb(17,17,17)\",\"gridcolor\":\"#506784\",\"gridwidth\":2,\"linecolor\":\"#506784\",\"showbackground\":true,\"ticks\":\"\",\"zerolinecolor\":\"#C8D4E3\"},\"yaxis\":{\"backgroundcolor\":\"rgb(17,17,17)\",\"gridcolor\":\"#506784\",\"gridwidth\":2,\"linecolor\":\"#506784\",\"showbackground\":true,\"ticks\":\"\",\"zerolinecolor\":\"#C8D4E3\"},\"zaxis\":{\"backgroundcolor\":\"rgb(17,17,17)\",\"gridcolor\":\"#506784\",\"gridwidth\":2,\"linecolor\":\"#506784\",\"showbackground\":true,\"ticks\":\"\",\"zerolinecolor\":\"#C8D4E3\"}},\"shapedefaults\":{\"line\":{\"color\":\"#f2f5fa\"}},\"sliderdefaults\":{\"bgcolor\":\"#C8D4E3\",\"bordercolor\":\"rgb(17,17,17)\",\"borderwidth\":1,\"tickwidth\":0},\"ternary\":{\"aaxis\":{\"gridcolor\":\"#506784\",\"linecolor\":\"#506784\",\"ticks\":\"\"},\"baxis\":{\"gridcolor\":\"#506784\",\"linecolor\":\"#506784\",\"ticks\":\"\"},\"bgcolor\":\"rgb(17,17,17)\",\"caxis\":{\"gridcolor\":\"#506784\",\"linecolor\":\"#506784\",\"ticks\":\"\"}},\"title\":{\"x\":0.05},\"updatemenudefaults\":{\"bgcolor\":\"#506784\",\"borderwidth\":0},\"xaxis\":{\"automargin\":true,\"gridcolor\":\"#283442\",\"linecolor\":\"#506784\",\"ticks\":\"\",\"title\":{\"standoff\":15},\"zerolinecolor\":\"#283442\",\"zerolinewidth\":2},\"yaxis\":{\"automargin\":true,\"gridcolor\":\"#283442\",\"linecolor\":\"#506784\",\"ticks\":\"\",\"title\":{\"standoff\":15},\"zerolinecolor\":\"#283442\",\"zerolinewidth\":2}}},\"xaxis\":{\"anchor\":\"y\",\"domain\":[0.0,1.0],\"title\":{\"text\":\"Land\"}},\"yaxis\":{\"anchor\":\"x\",\"domain\":[0.0,1.0],\"title\":{\"text\":\"Ver\\u00f6ffentlichte Songs\"}},\"legend\":{\"tracegroupgap\":0},\"margin\":{\"t\":60},\"barmode\":\"relative\",\"height\":500,\"title\":{\"text\":\"Ver\\u00f6ffentlichte Songs pro Land (Top 30)\"}},                        {\"responsive\": true}                    ).then(function(){\n",
              "                            \n",
              "var gd = document.getElementById('77405c20-aa9b-4a7a-bd5f-f4430ce34d8e');\n",
              "var x = new MutationObserver(function (mutations, observer) {{\n",
              "        var display = window.getComputedStyle(gd).display;\n",
              "        if (!display || display === 'none') {{\n",
              "            console.log([gd, 'removed!']);\n",
              "            Plotly.purge(gd);\n",
              "            observer.disconnect();\n",
              "        }}\n",
              "}});\n",
              "\n",
              "// Listen for the removal of the full notebook cells\n",
              "var notebookContainer = gd.closest('#notebook-container');\n",
              "if (notebookContainer) {{\n",
              "    x.observe(notebookContainer, {childList: true});\n",
              "}}\n",
              "\n",
              "// Listen for the clearing of the current output cell\n",
              "var outputEl = gd.closest('.output');\n",
              "if (outputEl) {{\n",
              "    x.observe(outputEl, {childList: true});\n",
              "}}\n",
              "\n",
              "                        })                };                            </script>        </div>\n",
              "</body>\n",
              "</html>"
            ]
          },
          "metadata": {},
          "output_type": "display_data"
        }
      ],
      "source": [
        "fig = px.bar(grouped_countries[:30], x=\"country_comb\", y=\"num_countries\", template=\"plotly_dark\")\n",
        "fig.update_layout(\n",
        "    height=500,\n",
        "    title=\"Veröffentlichte Songs pro Land (Top 30)\",\n",
        "    xaxis_title=\"Land\",\n",
        "    yaxis_title=\"Veröffentlichte Songs\"\n",
        ")\n",
        "fig.show()"
      ]
    },
    {
      "cell_type": "markdown",
      "id": "b34f43c6-116b-4203-8315-72a3ead641cb",
      "metadata": {
        "id": "b34f43c6-116b-4203-8315-72a3ead641cb"
      },
      "source": [
        "Es sollen alle Lieder entfernt werden welche nicht aus englischsprachigen Länger (US, UK, CA, AU, Neuseeland) sowie Deutschland, Schweiz, Österreich, Italien und Schweden stammen."
      ]
    },
    {
      "cell_type": "code",
      "execution_count": null,
      "id": "66ff269c-7c3c-433e-a43a-cbbaff9057ab",
      "metadata": {
        "id": "66ff269c-7c3c-433e-a43a-cbbaff9057ab"
      },
      "outputs": [],
      "source": [
        "important_country_codes = [\"US\", \"GB\", \"CA\", \"AU\", \"NZ\", \"DE\", \"CH\", \"AT\", \"IT\", \"SE\"]\n",
        "\n",
        "# kleinere Inselgegenden von Amerika: Baker Island, Howland Island, Jarvis Island, Johnston Atoll, Kingman Reef, Midway Islands, Navassa Island, Palmyra Atoll, Wake Island\n",
        "minor_insular_areas_us = [\"XB\", \"XH\", \"XQ\", \"XU\", \"XM\", \"QM\", \"XV\", \"XL\", \"QW\"]\n",
        "important_country_codes.extend(minor_insular_areas_us)"
      ]
    },
    {
      "cell_type": "markdown",
      "id": "6b70ca70-2be8-4476-abdd-780bbbd9c613",
      "metadata": {
        "id": "6b70ca70-2be8-4476-abdd-780bbbd9c613"
      },
      "source": [
        "`QM` wird heute als zusätzlicher Country code für Amerika verwendet, da der Code `US` sein Limit erreicht hat. Da dieser Beschluss jedoch aus 2010 stammt, sollten die Lieder der 80er nicht beeinflusst werden?"
      ]
    },
    {
      "cell_type": "code",
      "execution_count": null,
      "id": "sb3bSHTn0f1J",
      "metadata": {
        "colab": {
          "base_uri": "https://localhost:8080/",
          "height": 424
        },
        "id": "sb3bSHTn0f1J",
        "outputId": "3de01f93-d666-4866-dc24-091222c3dd00"
      },
      "outputs": [
        {
          "data": {
            "text/html": [
              "\n",
              "  <div id=\"df-74554630-434f-4034-834c-570bbbe8c29e\" class=\"colab-df-container\">\n",
              "    <div>\n",
              "<style scoped>\n",
              "    .dataframe tbody tr th:only-of-type {\n",
              "        vertical-align: middle;\n",
              "    }\n",
              "\n",
              "    .dataframe tbody tr th {\n",
              "        vertical-align: top;\n",
              "    }\n",
              "\n",
              "    .dataframe thead th {\n",
              "        text-align: right;\n",
              "    }\n",
              "</style>\n",
              "<table border=\"1\" class=\"dataframe\">\n",
              "  <thead>\n",
              "    <tr style=\"text-align: right;\">\n",
              "      <th></th>\n",
              "      <th>isrc</th>\n",
              "      <th>genres</th>\n",
              "      <th>name</th>\n",
              "      <th>artists</th>\n",
              "      <th>popularity</th>\n",
              "      <th>chart_power</th>\n",
              "    </tr>\n",
              "  </thead>\n",
              "  <tbody>\n",
              "    <tr>\n",
              "      <th>274154</th>\n",
              "      <td>QMKHM1600219</td>\n",
              "      <td>['hard-rock', 'metal', 'rock']</td>\n",
              "      <td>master of puppets</td>\n",
              "      <td>metallica</td>\n",
              "      <td>80</td>\n",
              "      <td>NaN</td>\n",
              "    </tr>\n",
              "    <tr>\n",
              "      <th>274107</th>\n",
              "      <td>QMKHM1600096</td>\n",
              "      <td>['hard-rock', 'metal', 'rock']</td>\n",
              "      <td>for whom the bell tolls - remastered</td>\n",
              "      <td>metallica</td>\n",
              "      <td>75</td>\n",
              "      <td>NaN</td>\n",
              "    </tr>\n",
              "    <tr>\n",
              "      <th>271243</th>\n",
              "      <td>QMFME1326440</td>\n",
              "      <td>['latin', 'pop']</td>\n",
              "      <td>tu dama de hierro</td>\n",
              "      <td>marisela</td>\n",
              "      <td>71</td>\n",
              "      <td>NaN</td>\n",
              "    </tr>\n",
              "    <tr>\n",
              "      <th>274108</th>\n",
              "      <td>QMKHM1600097</td>\n",
              "      <td>['hard-rock', 'metal', 'rock']</td>\n",
              "      <td>fade to black - remastered</td>\n",
              "      <td>metallica</td>\n",
              "      <td>70</td>\n",
              "      <td>NaN</td>\n",
              "    </tr>\n",
              "    <tr>\n",
              "      <th>274057</th>\n",
              "      <td>QMKHM1600034</td>\n",
              "      <td>['hard-rock', 'metal', 'rock']</td>\n",
              "      <td>seek &amp; destroy - remastered</td>\n",
              "      <td>metallica</td>\n",
              "      <td>69</td>\n",
              "      <td>NaN</td>\n",
              "    </tr>\n",
              "    <tr>\n",
              "      <th>...</th>\n",
              "      <td>...</td>\n",
              "      <td>...</td>\n",
              "      <td>...</td>\n",
              "      <td>...</td>\n",
              "      <td>...</td>\n",
              "      <td>...</td>\n",
              "    </tr>\n",
              "    <tr>\n",
              "      <th>267541</th>\n",
              "      <td>QM7281628419</td>\n",
              "      <td>['tango']</td>\n",
              "      <td>fuegos artificiales</td>\n",
              "      <td>juan d'arienzo y su orquesta típica</td>\n",
              "      <td>0</td>\n",
              "      <td>NaN</td>\n",
              "    </tr>\n",
              "    <tr>\n",
              "      <th>267551</th>\n",
              "      <td>QM7281713701</td>\n",
              "      <td>['jazz']</td>\n",
              "      <td>raincheck</td>\n",
              "      <td>nick brignola</td>\n",
              "      <td>0</td>\n",
              "      <td>NaN</td>\n",
              "    </tr>\n",
              "    <tr>\n",
              "      <th>267552</th>\n",
              "      <td>QM7281713702</td>\n",
              "      <td>['jazz']</td>\n",
              "      <td>tenderly</td>\n",
              "      <td>nick brignola</td>\n",
              "      <td>0</td>\n",
              "      <td>NaN</td>\n",
              "    </tr>\n",
              "    <tr>\n",
              "      <th>267553</th>\n",
              "      <td>QM7281713703</td>\n",
              "      <td>['jazz']</td>\n",
              "      <td>hurricane connie</td>\n",
              "      <td>nick brignola</td>\n",
              "      <td>0</td>\n",
              "      <td>NaN</td>\n",
              "    </tr>\n",
              "    <tr>\n",
              "      <th>275326</th>\n",
              "      <td>QMZUC1500048</td>\n",
              "      <td>['jazz']</td>\n",
              "      <td>siclienne</td>\n",
              "      <td>alexander zonjic</td>\n",
              "      <td>0</td>\n",
              "      <td>NaN</td>\n",
              "    </tr>\n",
              "  </tbody>\n",
              "</table>\n",
              "<p>14398 rows × 6 columns</p>\n",
              "</div>\n",
              "    <div class=\"colab-df-buttons\">\n",
              "\n",
              "  <div class=\"colab-df-container\">\n",
              "    <button class=\"colab-df-convert\" onclick=\"convertToInteractive('df-74554630-434f-4034-834c-570bbbe8c29e')\"\n",
              "            title=\"Convert this dataframe to an interactive table.\"\n",
              "            style=\"display:none;\">\n",
              "\n",
              "  <svg xmlns=\"http://www.w3.org/2000/svg\" height=\"24px\" viewBox=\"0 -960 960 960\">\n",
              "    <path d=\"M120-120v-720h720v720H120Zm60-500h600v-160H180v160Zm220 220h160v-160H400v160Zm0 220h160v-160H400v160ZM180-400h160v-160H180v160Zm440 0h160v-160H620v160ZM180-180h160v-160H180v160Zm440 0h160v-160H620v160Z\"/>\n",
              "  </svg>\n",
              "    </button>\n",
              "\n",
              "  <style>\n",
              "    .colab-df-container {\n",
              "      display:flex;\n",
              "      gap: 12px;\n",
              "    }\n",
              "\n",
              "    .colab-df-convert {\n",
              "      background-color: #E8F0FE;\n",
              "      border: none;\n",
              "      border-radius: 50%;\n",
              "      cursor: pointer;\n",
              "      display: none;\n",
              "      fill: #1967D2;\n",
              "      height: 32px;\n",
              "      padding: 0 0 0 0;\n",
              "      width: 32px;\n",
              "    }\n",
              "\n",
              "    .colab-df-convert:hover {\n",
              "      background-color: #E2EBFA;\n",
              "      box-shadow: 0px 1px 2px rgba(60, 64, 67, 0.3), 0px 1px 3px 1px rgba(60, 64, 67, 0.15);\n",
              "      fill: #174EA6;\n",
              "    }\n",
              "\n",
              "    .colab-df-buttons div {\n",
              "      margin-bottom: 4px;\n",
              "    }\n",
              "\n",
              "    [theme=dark] .colab-df-convert {\n",
              "      background-color: #3B4455;\n",
              "      fill: #D2E3FC;\n",
              "    }\n",
              "\n",
              "    [theme=dark] .colab-df-convert:hover {\n",
              "      background-color: #434B5C;\n",
              "      box-shadow: 0px 1px 3px 1px rgba(0, 0, 0, 0.15);\n",
              "      filter: drop-shadow(0px 1px 2px rgba(0, 0, 0, 0.3));\n",
              "      fill: #FFFFFF;\n",
              "    }\n",
              "  </style>\n",
              "\n",
              "    <script>\n",
              "      const buttonEl =\n",
              "        document.querySelector('#df-74554630-434f-4034-834c-570bbbe8c29e button.colab-df-convert');\n",
              "      buttonEl.style.display =\n",
              "        google.colab.kernel.accessAllowed ? 'block' : 'none';\n",
              "\n",
              "      async function convertToInteractive(key) {\n",
              "        const element = document.querySelector('#df-74554630-434f-4034-834c-570bbbe8c29e');\n",
              "        const dataTable =\n",
              "          await google.colab.kernel.invokeFunction('convertToInteractive',\n",
              "                                                    [key], {});\n",
              "        if (!dataTable) return;\n",
              "\n",
              "        const docLinkHtml = 'Like what you see? Visit the ' +\n",
              "          '<a target=\"_blank\" href=https://colab.research.google.com/notebooks/data_table.ipynb>data table notebook</a>'\n",
              "          + ' to learn more about interactive tables.';\n",
              "        element.innerHTML = '';\n",
              "        dataTable['output_type'] = 'display_data';\n",
              "        await google.colab.output.renderOutput(dataTable, element);\n",
              "        const docLink = document.createElement('div');\n",
              "        docLink.innerHTML = docLinkHtml;\n",
              "        element.appendChild(docLink);\n",
              "      }\n",
              "    </script>\n",
              "  </div>\n",
              "\n",
              "\n",
              "<div id=\"df-0eab76bc-4a2f-4553-9381-97c7613fd158\">\n",
              "  <button class=\"colab-df-quickchart\" onclick=\"quickchart('df-0eab76bc-4a2f-4553-9381-97c7613fd158')\"\n",
              "            title=\"Suggest charts.\"\n",
              "            style=\"display:none;\">\n",
              "\n",
              "<svg xmlns=\"http://www.w3.org/2000/svg\" height=\"24px\"viewBox=\"0 0 24 24\"\n",
              "     width=\"24px\">\n",
              "    <g>\n",
              "        <path d=\"M19 3H5c-1.1 0-2 .9-2 2v14c0 1.1.9 2 2 2h14c1.1 0 2-.9 2-2V5c0-1.1-.9-2-2-2zM9 17H7v-7h2v7zm4 0h-2V7h2v10zm4 0h-2v-4h2v4z\"/>\n",
              "    </g>\n",
              "</svg>\n",
              "  </button>\n",
              "\n",
              "<style>\n",
              "  .colab-df-quickchart {\n",
              "    background-color: #E8F0FE;\n",
              "    border: none;\n",
              "    border-radius: 50%;\n",
              "    cursor: pointer;\n",
              "    display: none;\n",
              "    fill: #1967D2;\n",
              "    height: 32px;\n",
              "    padding: 0 0 0 0;\n",
              "    width: 32px;\n",
              "  }\n",
              "\n",
              "  .colab-df-quickchart:hover {\n",
              "    background-color: #E2EBFA;\n",
              "    box-shadow: 0px 1px 2px rgba(60, 64, 67, 0.3), 0px 1px 3px 1px rgba(60, 64, 67, 0.15);\n",
              "    fill: #174EA6;\n",
              "  }\n",
              "\n",
              "  [theme=dark] .colab-df-quickchart {\n",
              "    background-color: #3B4455;\n",
              "    fill: #D2E3FC;\n",
              "  }\n",
              "\n",
              "  [theme=dark] .colab-df-quickchart:hover {\n",
              "    background-color: #434B5C;\n",
              "    box-shadow: 0px 1px 3px 1px rgba(0, 0, 0, 0.15);\n",
              "    filter: drop-shadow(0px 1px 2px rgba(0, 0, 0, 0.3));\n",
              "    fill: #FFFFFF;\n",
              "  }\n",
              "</style>\n",
              "\n",
              "  <script>\n",
              "    async function quickchart(key) {\n",
              "      const charts = await google.colab.kernel.invokeFunction(\n",
              "          'suggestCharts', [key], {});\n",
              "    }\n",
              "    (() => {\n",
              "      let quickchartButtonEl =\n",
              "        document.querySelector('#df-0eab76bc-4a2f-4553-9381-97c7613fd158 button');\n",
              "      quickchartButtonEl.style.display =\n",
              "        google.colab.kernel.accessAllowed ? 'block' : 'none';\n",
              "    })();\n",
              "  </script>\n",
              "</div>\n",
              "    </div>\n",
              "  </div>\n"
            ],
            "text/plain": [
              "                isrc                          genres  \\\n",
              "274154  QMKHM1600219  ['hard-rock', 'metal', 'rock']   \n",
              "274107  QMKHM1600096  ['hard-rock', 'metal', 'rock']   \n",
              "271243  QMFME1326440                ['latin', 'pop']   \n",
              "274108  QMKHM1600097  ['hard-rock', 'metal', 'rock']   \n",
              "274057  QMKHM1600034  ['hard-rock', 'metal', 'rock']   \n",
              "...              ...                             ...   \n",
              "267541  QM7281628419                       ['tango']   \n",
              "267551  QM7281713701                        ['jazz']   \n",
              "267552  QM7281713702                        ['jazz']   \n",
              "267553  QM7281713703                        ['jazz']   \n",
              "275326  QMZUC1500048                        ['jazz']   \n",
              "\n",
              "                                        name  \\\n",
              "274154                     master of puppets   \n",
              "274107  for whom the bell tolls - remastered   \n",
              "271243                     tu dama de hierro   \n",
              "274108            fade to black - remastered   \n",
              "274057           seek & destroy - remastered   \n",
              "...                                      ...   \n",
              "267541                   fuegos artificiales   \n",
              "267551                             raincheck   \n",
              "267552                              tenderly   \n",
              "267553                      hurricane connie   \n",
              "275326                             siclienne   \n",
              "\n",
              "                                    artists  popularity  chart_power  \n",
              "274154                            metallica          80          NaN  \n",
              "274107                            metallica          75          NaN  \n",
              "271243                             marisela          71          NaN  \n",
              "274108                            metallica          70          NaN  \n",
              "274057                            metallica          69          NaN  \n",
              "...                                     ...         ...          ...  \n",
              "267541  juan d'arienzo y su orquesta típica           0          NaN  \n",
              "267551                        nick brignola           0          NaN  \n",
              "267552                        nick brignola           0          NaN  \n",
              "267553                        nick brignola           0          NaN  \n",
              "275326                     alexander zonjic           0          NaN  \n",
              "\n",
              "[14398 rows x 6 columns]"
            ]
          },
          "execution_count": 17,
          "metadata": {},
          "output_type": "execute_result"
        }
      ],
      "source": [
        "by_isrc[by_isrc[\"country_code\"] == \"QM\"].sort_values(\"popularity\", ascending=False)[[\"isrc\", \"genres\", \"name\", \"artists\", \"popularity\", \"chart_power\"]]"
      ]
    },
    {
      "cell_type": "markdown",
      "id": "Z4a5BCxO1ULo",
      "metadata": {
        "id": "Z4a5BCxO1ULo"
      },
      "source": [
        "Herausfiltern der Lieder aus den \"wichtigen\" Länder."
      ]
    },
    {
      "cell_type": "code",
      "execution_count": null,
      "id": "02c2236c-83b7-48f7-927e-01da65798b22",
      "metadata": {
        "id": "02c2236c-83b7-48f7-927e-01da65798b22"
      },
      "outputs": [],
      "source": [
        "reduced_isrc = by_isrc.copy()\n",
        "reduced_isrc = reduced_isrc[reduced_isrc[\"country_code\"].isin(important_country_codes)]\n",
        "reduced_isrc[\"genres\"] = reduced_isrc[\"genres\"].apply(literal_eval)"
      ]
    },
    {
      "cell_type": "code",
      "execution_count": null,
      "id": "E5qf_wtI8jXm",
      "metadata": {
        "colab": {
          "base_uri": "https://localhost:8080/"
        },
        "id": "E5qf_wtI8jXm",
        "outputId": "52d9b417-f896-435e-ea18-9640cbfc338c"
      },
      "outputs": [
        {
          "name": "stdout",
          "output_type": "stream",
          "text": [
            "Die Anzahl der Lieder hat sich von 416154 auf 251101 verringert.\n"
          ]
        }
      ],
      "source": [
        "print(f\"Die Anzahl der Lieder hat sich von {by_isrc.shape[0]} auf {reduced_isrc.shape[0]} verringert.\")"
      ]
    },
    {
      "cell_type": "markdown",
      "id": "453c1d8f-b6f3-4172-9293-4470f6f30f33",
      "metadata": {
        "id": "453c1d8f-b6f3-4172-9293-4470f6f30f33"
      },
      "source": [
        "Gruppieren der Daten nach den Genres => Welche Genres waren in den wichtigen Ländern relevant?"
      ]
    },
    {
      "cell_type": "code",
      "execution_count": null,
      "id": "Ofr545cC1rCg",
      "metadata": {
        "id": "Ofr545cC1rCg"
      },
      "outputs": [],
      "source": [
        "def filter_important_genres(df):\n",
        "  important_genres = df.copy()\n",
        "  important_genres = important_genres.explode(\"genres\")\n",
        "  important_genres[\"num\"] = 0\n",
        "  important_genres = important_genres[[\"genres\", \"num\"]]\n",
        "  important_genres = important_genres.groupby(\"genres\").count()\n",
        "  important_genres.reset_index(inplace=True)\n",
        "  important_genres = important_genres.sort_values(\"num\", ascending=False)\n",
        "  return important_genres"
      ]
    },
    {
      "cell_type": "code",
      "execution_count": null,
      "id": "N7crWyhz2k4W",
      "metadata": {
        "colab": {
          "base_uri": "https://localhost:8080/",
          "height": 424
        },
        "id": "N7crWyhz2k4W",
        "outputId": "3e46b0c1-bea8-4f64-8af6-02d29e3d73c6"
      },
      "outputs": [
        {
          "data": {
            "text/html": [
              "\n",
              "  <div id=\"df-18d04055-15c3-4793-b4ca-4ea02c9f2c8d\" class=\"colab-df-container\">\n",
              "    <div>\n",
              "<style scoped>\n",
              "    .dataframe tbody tr th:only-of-type {\n",
              "        vertical-align: middle;\n",
              "    }\n",
              "\n",
              "    .dataframe tbody tr th {\n",
              "        vertical-align: top;\n",
              "    }\n",
              "\n",
              "    .dataframe thead th {\n",
              "        text-align: right;\n",
              "    }\n",
              "</style>\n",
              "<table border=\"1\" class=\"dataframe\">\n",
              "  <thead>\n",
              "    <tr style=\"text-align: right;\">\n",
              "      <th></th>\n",
              "      <th>genres</th>\n",
              "      <th>num</th>\n",
              "    </tr>\n",
              "  </thead>\n",
              "  <tbody>\n",
              "    <tr>\n",
              "      <th>16</th>\n",
              "      <td>classical</td>\n",
              "      <td>63432</td>\n",
              "    </tr>\n",
              "    <tr>\n",
              "      <th>87</th>\n",
              "      <td>rock</td>\n",
              "      <td>60598</td>\n",
              "    </tr>\n",
              "    <tr>\n",
              "      <th>77</th>\n",
              "      <td>pop</td>\n",
              "      <td>48841</td>\n",
              "    </tr>\n",
              "    <tr>\n",
              "      <th>38</th>\n",
              "      <td>german</td>\n",
              "      <td>28985</td>\n",
              "    </tr>\n",
              "    <tr>\n",
              "      <th>62</th>\n",
              "      <td>jazz</td>\n",
              "      <td>22632</td>\n",
              "    </tr>\n",
              "    <tr>\n",
              "      <th>...</th>\n",
              "      <td>...</td>\n",
              "      <td>...</td>\n",
              "    </tr>\n",
              "    <tr>\n",
              "      <th>28</th>\n",
              "      <td>dubstep</td>\n",
              "      <td>2</td>\n",
              "    </tr>\n",
              "    <tr>\n",
              "      <th>12</th>\n",
              "      <td>cantopop</td>\n",
              "      <td>1</td>\n",
              "    </tr>\n",
              "    <tr>\n",
              "      <th>53</th>\n",
              "      <td>idm</td>\n",
              "      <td>1</td>\n",
              "    </tr>\n",
              "    <tr>\n",
              "      <th>69</th>\n",
              "      <td>metalcore</td>\n",
              "      <td>1</td>\n",
              "    </tr>\n",
              "    <tr>\n",
              "      <th>90</th>\n",
              "      <td>romance</td>\n",
              "      <td>1</td>\n",
              "    </tr>\n",
              "  </tbody>\n",
              "</table>\n",
              "<p>108 rows × 2 columns</p>\n",
              "</div>\n",
              "    <div class=\"colab-df-buttons\">\n",
              "\n",
              "  <div class=\"colab-df-container\">\n",
              "    <button class=\"colab-df-convert\" onclick=\"convertToInteractive('df-18d04055-15c3-4793-b4ca-4ea02c9f2c8d')\"\n",
              "            title=\"Convert this dataframe to an interactive table.\"\n",
              "            style=\"display:none;\">\n",
              "\n",
              "  <svg xmlns=\"http://www.w3.org/2000/svg\" height=\"24px\" viewBox=\"0 -960 960 960\">\n",
              "    <path d=\"M120-120v-720h720v720H120Zm60-500h600v-160H180v160Zm220 220h160v-160H400v160Zm0 220h160v-160H400v160ZM180-400h160v-160H180v160Zm440 0h160v-160H620v160ZM180-180h160v-160H180v160Zm440 0h160v-160H620v160Z\"/>\n",
              "  </svg>\n",
              "    </button>\n",
              "\n",
              "  <style>\n",
              "    .colab-df-container {\n",
              "      display:flex;\n",
              "      gap: 12px;\n",
              "    }\n",
              "\n",
              "    .colab-df-convert {\n",
              "      background-color: #E8F0FE;\n",
              "      border: none;\n",
              "      border-radius: 50%;\n",
              "      cursor: pointer;\n",
              "      display: none;\n",
              "      fill: #1967D2;\n",
              "      height: 32px;\n",
              "      padding: 0 0 0 0;\n",
              "      width: 32px;\n",
              "    }\n",
              "\n",
              "    .colab-df-convert:hover {\n",
              "      background-color: #E2EBFA;\n",
              "      box-shadow: 0px 1px 2px rgba(60, 64, 67, 0.3), 0px 1px 3px 1px rgba(60, 64, 67, 0.15);\n",
              "      fill: #174EA6;\n",
              "    }\n",
              "\n",
              "    .colab-df-buttons div {\n",
              "      margin-bottom: 4px;\n",
              "    }\n",
              "\n",
              "    [theme=dark] .colab-df-convert {\n",
              "      background-color: #3B4455;\n",
              "      fill: #D2E3FC;\n",
              "    }\n",
              "\n",
              "    [theme=dark] .colab-df-convert:hover {\n",
              "      background-color: #434B5C;\n",
              "      box-shadow: 0px 1px 3px 1px rgba(0, 0, 0, 0.15);\n",
              "      filter: drop-shadow(0px 1px 2px rgba(0, 0, 0, 0.3));\n",
              "      fill: #FFFFFF;\n",
              "    }\n",
              "  </style>\n",
              "\n",
              "    <script>\n",
              "      const buttonEl =\n",
              "        document.querySelector('#df-18d04055-15c3-4793-b4ca-4ea02c9f2c8d button.colab-df-convert');\n",
              "      buttonEl.style.display =\n",
              "        google.colab.kernel.accessAllowed ? 'block' : 'none';\n",
              "\n",
              "      async function convertToInteractive(key) {\n",
              "        const element = document.querySelector('#df-18d04055-15c3-4793-b4ca-4ea02c9f2c8d');\n",
              "        const dataTable =\n",
              "          await google.colab.kernel.invokeFunction('convertToInteractive',\n",
              "                                                    [key], {});\n",
              "        if (!dataTable) return;\n",
              "\n",
              "        const docLinkHtml = 'Like what you see? Visit the ' +\n",
              "          '<a target=\"_blank\" href=https://colab.research.google.com/notebooks/data_table.ipynb>data table notebook</a>'\n",
              "          + ' to learn more about interactive tables.';\n",
              "        element.innerHTML = '';\n",
              "        dataTable['output_type'] = 'display_data';\n",
              "        await google.colab.output.renderOutput(dataTable, element);\n",
              "        const docLink = document.createElement('div');\n",
              "        docLink.innerHTML = docLinkHtml;\n",
              "        element.appendChild(docLink);\n",
              "      }\n",
              "    </script>\n",
              "  </div>\n",
              "\n",
              "\n",
              "<div id=\"df-0ab829e8-316e-46c0-b3ec-2d2b9e21419b\">\n",
              "  <button class=\"colab-df-quickchart\" onclick=\"quickchart('df-0ab829e8-316e-46c0-b3ec-2d2b9e21419b')\"\n",
              "            title=\"Suggest charts.\"\n",
              "            style=\"display:none;\">\n",
              "\n",
              "<svg xmlns=\"http://www.w3.org/2000/svg\" height=\"24px\"viewBox=\"0 0 24 24\"\n",
              "     width=\"24px\">\n",
              "    <g>\n",
              "        <path d=\"M19 3H5c-1.1 0-2 .9-2 2v14c0 1.1.9 2 2 2h14c1.1 0 2-.9 2-2V5c0-1.1-.9-2-2-2zM9 17H7v-7h2v7zm4 0h-2V7h2v10zm4 0h-2v-4h2v4z\"/>\n",
              "    </g>\n",
              "</svg>\n",
              "  </button>\n",
              "\n",
              "<style>\n",
              "  .colab-df-quickchart {\n",
              "    background-color: #E8F0FE;\n",
              "    border: none;\n",
              "    border-radius: 50%;\n",
              "    cursor: pointer;\n",
              "    display: none;\n",
              "    fill: #1967D2;\n",
              "    height: 32px;\n",
              "    padding: 0 0 0 0;\n",
              "    width: 32px;\n",
              "  }\n",
              "\n",
              "  .colab-df-quickchart:hover {\n",
              "    background-color: #E2EBFA;\n",
              "    box-shadow: 0px 1px 2px rgba(60, 64, 67, 0.3), 0px 1px 3px 1px rgba(60, 64, 67, 0.15);\n",
              "    fill: #174EA6;\n",
              "  }\n",
              "\n",
              "  [theme=dark] .colab-df-quickchart {\n",
              "    background-color: #3B4455;\n",
              "    fill: #D2E3FC;\n",
              "  }\n",
              "\n",
              "  [theme=dark] .colab-df-quickchart:hover {\n",
              "    background-color: #434B5C;\n",
              "    box-shadow: 0px 1px 3px 1px rgba(0, 0, 0, 0.15);\n",
              "    filter: drop-shadow(0px 1px 2px rgba(0, 0, 0, 0.3));\n",
              "    fill: #FFFFFF;\n",
              "  }\n",
              "</style>\n",
              "\n",
              "  <script>\n",
              "    async function quickchart(key) {\n",
              "      const charts = await google.colab.kernel.invokeFunction(\n",
              "          'suggestCharts', [key], {});\n",
              "    }\n",
              "    (() => {\n",
              "      let quickchartButtonEl =\n",
              "        document.querySelector('#df-0ab829e8-316e-46c0-b3ec-2d2b9e21419b button');\n",
              "      quickchartButtonEl.style.display =\n",
              "        google.colab.kernel.accessAllowed ? 'block' : 'none';\n",
              "    })();\n",
              "  </script>\n",
              "</div>\n",
              "    </div>\n",
              "  </div>\n"
            ],
            "text/plain": [
              "       genres    num\n",
              "16  classical  63432\n",
              "87       rock  60598\n",
              "77        pop  48841\n",
              "38     german  28985\n",
              "62       jazz  22632\n",
              "..        ...    ...\n",
              "28    dubstep      2\n",
              "12   cantopop      1\n",
              "53        idm      1\n",
              "69  metalcore      1\n",
              "90    romance      1\n",
              "\n",
              "[108 rows x 2 columns]"
            ]
          },
          "execution_count": 21,
          "metadata": {},
          "output_type": "execute_result"
        }
      ],
      "source": [
        "filter_important_genres(reduced_isrc)"
      ]
    },
    {
      "cell_type": "markdown",
      "id": "134YcM5O2sUG",
      "metadata": {
        "id": "134YcM5O2sUG"
      },
      "source": [
        "Am meisten Lieder wurden für das Genre Klassik veröffentlicht. Da dieses Genre nicht wirklich relevant ist, müssen zunächst die irrelevanten Genres entfernt werden. Hiebei gibt es zwei verschiedene Wege. Verfügt ein Künstler sowohl über ein erwünschtes als auch ein unerwünschtes Genre, so können entweder alle Songs von ihm behalten oder entfernt werden. Zunächst wird geprüft, wie häufig ein solcher Fall eintritt."
      ]
    },
    {
      "cell_type": "code",
      "execution_count": null,
      "id": "KA0W5sPN3crZ",
      "metadata": {
        "id": "KA0W5sPN3crZ"
      },
      "outputs": [],
      "source": [
        "unwanted_genres = [\"classical\", \"jazz\", \"folk\", \"french\", \"turkish\", \"gospel\", \"samba\", \"piano\", \"mpb\", \"sertanejo\", \"pagode\", \"sleep\", \"forro\", \"malay\", \"anime\",\n",
        "                 \"j-idol\", \"comedy\", \"mandopop\", \"cantopop\", \"show-tunes\", \"emo\", \"romance\", \"j-dance\", \"chill\", \"world-music\", \"iranian\", \"idm\", \"metalcore\",\n",
        "                 \"hardstyle\", \"opera\", \"k-pop\", \"j-pop\", \"j-rock\", \"happy\"]"
      ]
    },
    {
      "cell_type": "code",
      "execution_count": null,
      "id": "hTVjnyabFJVg",
      "metadata": {
        "id": "hTVjnyabFJVg"
      },
      "outputs": [],
      "source": [
        "occ_unwanted_and_wanted = by_isrc.copy()\n",
        "occ_unwanted_and_wanted = occ_unwanted_and_wanted[[\"genres\"]]\n",
        "occ_unwanted_and_wanted[\"genres\"] = occ_unwanted_and_wanted[\"genres\"].apply(literal_eval)\n",
        "occ_unwanted_and_wanted = occ_unwanted_and_wanted.explode(\"genres\")"
      ]
    },
    {
      "cell_type": "code",
      "execution_count": null,
      "id": "QRNKt8G1IcDY",
      "metadata": {
        "id": "QRNKt8G1IcDY"
      },
      "outputs": [],
      "source": [
        "wanted_genres = list(set(occ_unwanted_and_wanted[\"genres\"].unique()).difference(unwanted_genres))"
      ]
    },
    {
      "cell_type": "code",
      "execution_count": null,
      "id": "sR4UY0NfJW7j",
      "metadata": {
        "id": "sR4UY0NfJW7j"
      },
      "outputs": [],
      "source": [
        "def filter_row(row):\n",
        "    has_wanted_genre = any(genre in row['genres'] for genre in wanted_genres)\n",
        "    has_not_wanted_genre = any(genre in row['genres'] for genre in unwanted_genres)\n",
        "    return has_wanted_genre and has_not_wanted_genre"
      ]
    },
    {
      "cell_type": "code",
      "execution_count": null,
      "id": "TLWuQzkaJel3",
      "metadata": {
        "id": "TLWuQzkaJel3"
      },
      "outputs": [],
      "source": [
        "occ_unwanted_and_wanted_df = reduced_isrc[reduced_isrc.apply(filter_row, axis=1)]"
      ]
    },
    {
      "cell_type": "code",
      "execution_count": null,
      "id": "2Ggu39mSLEQj",
      "metadata": {
        "colab": {
          "base_uri": "https://localhost:8080/"
        },
        "id": "2Ggu39mSLEQj",
        "outputId": "a9950834-8da1-4fe1-8bba-42f0f4590d2c"
      },
      "outputs": [
        {
          "name": "stdout",
          "output_type": "stream",
          "text": [
            "Insgesamt gibt es 48318 Lieder, welche über ein erwünschtes und ein unerwünschtes Genre verfügen.\n"
          ]
        }
      ],
      "source": [
        "print(f\"Insgesamt gibt es {occ_unwanted_and_wanted_df.shape[0]} Lieder, welche über ein erwünschtes und ein unerwünschtes Genre verfügen.\")"
      ]
    },
    {
      "cell_type": "code",
      "execution_count": null,
      "id": "qvtwC9e8LXRe",
      "metadata": {
        "colab": {
          "base_uri": "https://localhost:8080/"
        },
        "id": "qvtwC9e8LXRe",
        "outputId": "d9f1e501-135a-4639-ac2b-ef63d0ef96c7"
      },
      "outputs": [
        {
          "name": "stdout",
          "output_type": "stream",
          "text": [
            "Hierbei gibt es 582 verschiedene Kombinationen der Genres.\n"
          ]
        }
      ],
      "source": [
        "print(f\"Hierbei gibt es {len(list(occ_unwanted_and_wanted_df.genres.astype(str).unique()))} verschiedene Kombinationen der Genres.\")"
      ]
    },
    {
      "cell_type": "markdown",
      "id": "J2jUE4zj7hv9",
      "metadata": {
        "id": "J2jUE4zj7hv9"
      },
      "source": [
        "## Visualisierung Kombination"
      ]
    },
    {
      "cell_type": "markdown",
      "id": "FjBneHX2NRIM",
      "metadata": {
        "id": "FjBneHX2NRIM"
      },
      "source": [
        "Es werden alle Songs entfernt, welche mindestens ein unerwünschtes Feature beinhalten."
      ]
    },
    {
      "cell_type": "code",
      "execution_count": null,
      "id": "05DV79He8D2x",
      "metadata": {
        "id": "05DV79He8D2x"
      },
      "outputs": [],
      "source": [
        "by_isrc_sub = by_isrc.copy()\n",
        "by_isrc_sub = by_isrc_sub[['isrc', 'genres']]\n",
        "by_isrc_sub = by_isrc_sub[~by_isrc_sub['genres'].str.contains('|'.join(unwanted_genres))]\n",
        "by_isrc_sub['genres'] = by_isrc_sub['genres'].apply(literal_eval)"
      ]
    },
    {
      "cell_type": "markdown",
      "id": "k-LRdEMEOBRV",
      "metadata": {
        "id": "k-LRdEMEOBRV"
      },
      "source": [
        "Das neu entstandene DataFrame soll nun mit dem bereits auf die wichtigen Länder reduzierten DataFrame gemerged werden."
      ]
    },
    {
      "cell_type": "code",
      "execution_count": null,
      "id": "oWJVNaOO9bVB",
      "metadata": {
        "id": "oWJVNaOO9bVB"
      },
      "outputs": [],
      "source": [
        "#reduced_isrc.drop(columns=\"genres\", inplace=True)"
      ]
    },
    {
      "cell_type": "code",
      "execution_count": null,
      "id": "hZgPx26U95EE",
      "metadata": {
        "colab": {
          "base_uri": "https://localhost:8080/"
        },
        "id": "hZgPx26U95EE",
        "outputId": "2160b2c8-d7a1-48f7-f760-f6ee2ebf4f0d"
      },
      "outputs": [
        {
          "data": {
            "text/plain": [
              "((251101, 27), (220702, 2))"
            ]
          },
          "execution_count": 30,
          "metadata": {},
          "output_type": "execute_result"
        }
      ],
      "source": [
        "reduced_isrc.shape, by_isrc_sub.shape"
      ]
    },
    {
      "cell_type": "code",
      "execution_count": null,
      "id": "kX-Kd0rr8Lz7",
      "metadata": {
        "id": "kX-Kd0rr8Lz7"
      },
      "outputs": [],
      "source": [
        "reduced_isrc = reduced_isrc.merge(by_isrc_sub[[\"isrc\"]], how=\"inner\", on=\"isrc\")"
      ]
    },
    {
      "cell_type": "code",
      "execution_count": null,
      "id": "zuzCyg7P-H6_",
      "metadata": {
        "colab": {
          "base_uri": "https://localhost:8080/"
        },
        "id": "zuzCyg7P-H6_",
        "outputId": "e9270874-08ad-4a68-eaae-37497bbb0bb5"
      },
      "outputs": [
        {
          "name": "stdout",
          "output_type": "stream",
          "text": [
            "Die Anzahl der Songs hat sich weiter auf 139629 verringert. Die Anzahl der Features ist bei 27 geblieben.\n"
          ]
        }
      ],
      "source": [
        "print(f\"Die Anzahl der Songs hat sich weiter auf {reduced_isrc.shape[0]} verringert. Die Anzahl der Features ist bei {reduced_isrc.shape[1]} geblieben.\")"
      ]
    },
    {
      "cell_type": "code",
      "execution_count": null,
      "id": "PuEaOWbI4oaN",
      "metadata": {
        "colab": {
          "base_uri": "https://localhost:8080/",
          "height": 363
        },
        "id": "PuEaOWbI4oaN",
        "outputId": "0db63d07-fc84-482e-8d63-90269d950f9d"
      },
      "outputs": [
        {
          "data": {
            "text/html": [
              "\n",
              "  <div id=\"df-15fdc640-be6a-4bd6-80ef-35898fe165b5\" class=\"colab-df-container\">\n",
              "    <div>\n",
              "<style scoped>\n",
              "    .dataframe tbody tr th:only-of-type {\n",
              "        vertical-align: middle;\n",
              "    }\n",
              "\n",
              "    .dataframe tbody tr th {\n",
              "        vertical-align: top;\n",
              "    }\n",
              "\n",
              "    .dataframe thead th {\n",
              "        text-align: right;\n",
              "    }\n",
              "</style>\n",
              "<table border=\"1\" class=\"dataframe\">\n",
              "  <thead>\n",
              "    <tr style=\"text-align: right;\">\n",
              "      <th></th>\n",
              "      <th>genres</th>\n",
              "      <th>num</th>\n",
              "    </tr>\n",
              "  </thead>\n",
              "  <tbody>\n",
              "    <tr>\n",
              "      <th>61</th>\n",
              "      <td>rock</td>\n",
              "      <td>52805</td>\n",
              "    </tr>\n",
              "    <tr>\n",
              "      <th>51</th>\n",
              "      <td>pop</td>\n",
              "      <td>43525</td>\n",
              "    </tr>\n",
              "    <tr>\n",
              "      <th>56</th>\n",
              "      <td>punk</td>\n",
              "      <td>16552</td>\n",
              "    </tr>\n",
              "    <tr>\n",
              "      <th>14</th>\n",
              "      <td>country</td>\n",
              "      <td>12353</td>\n",
              "    </tr>\n",
              "    <tr>\n",
              "      <th>47</th>\n",
              "      <td>metal</td>\n",
              "      <td>11743</td>\n",
              "    </tr>\n",
              "    <tr>\n",
              "      <th>35</th>\n",
              "      <td>hard-rock</td>\n",
              "      <td>9228</td>\n",
              "    </tr>\n",
              "    <tr>\n",
              "      <th>29</th>\n",
              "      <td>german</td>\n",
              "      <td>8980</td>\n",
              "    </tr>\n",
              "    <tr>\n",
              "      <th>20</th>\n",
              "      <td>disco</td>\n",
              "      <td>8065</td>\n",
              "    </tr>\n",
              "    <tr>\n",
              "      <th>70</th>\n",
              "      <td>swedish</td>\n",
              "      <td>7964</td>\n",
              "    </tr>\n",
              "    <tr>\n",
              "      <th>68</th>\n",
              "      <td>soul</td>\n",
              "      <td>7289</td>\n",
              "    </tr>\n",
              "  </tbody>\n",
              "</table>\n",
              "</div>\n",
              "    <div class=\"colab-df-buttons\">\n",
              "\n",
              "  <div class=\"colab-df-container\">\n",
              "    <button class=\"colab-df-convert\" onclick=\"convertToInteractive('df-15fdc640-be6a-4bd6-80ef-35898fe165b5')\"\n",
              "            title=\"Convert this dataframe to an interactive table.\"\n",
              "            style=\"display:none;\">\n",
              "\n",
              "  <svg xmlns=\"http://www.w3.org/2000/svg\" height=\"24px\" viewBox=\"0 -960 960 960\">\n",
              "    <path d=\"M120-120v-720h720v720H120Zm60-500h600v-160H180v160Zm220 220h160v-160H400v160Zm0 220h160v-160H400v160ZM180-400h160v-160H180v160Zm440 0h160v-160H620v160ZM180-180h160v-160H180v160Zm440 0h160v-160H620v160Z\"/>\n",
              "  </svg>\n",
              "    </button>\n",
              "\n",
              "  <style>\n",
              "    .colab-df-container {\n",
              "      display:flex;\n",
              "      gap: 12px;\n",
              "    }\n",
              "\n",
              "    .colab-df-convert {\n",
              "      background-color: #E8F0FE;\n",
              "      border: none;\n",
              "      border-radius: 50%;\n",
              "      cursor: pointer;\n",
              "      display: none;\n",
              "      fill: #1967D2;\n",
              "      height: 32px;\n",
              "      padding: 0 0 0 0;\n",
              "      width: 32px;\n",
              "    }\n",
              "\n",
              "    .colab-df-convert:hover {\n",
              "      background-color: #E2EBFA;\n",
              "      box-shadow: 0px 1px 2px rgba(60, 64, 67, 0.3), 0px 1px 3px 1px rgba(60, 64, 67, 0.15);\n",
              "      fill: #174EA6;\n",
              "    }\n",
              "\n",
              "    .colab-df-buttons div {\n",
              "      margin-bottom: 4px;\n",
              "    }\n",
              "\n",
              "    [theme=dark] .colab-df-convert {\n",
              "      background-color: #3B4455;\n",
              "      fill: #D2E3FC;\n",
              "    }\n",
              "\n",
              "    [theme=dark] .colab-df-convert:hover {\n",
              "      background-color: #434B5C;\n",
              "      box-shadow: 0px 1px 3px 1px rgba(0, 0, 0, 0.15);\n",
              "      filter: drop-shadow(0px 1px 2px rgba(0, 0, 0, 0.3));\n",
              "      fill: #FFFFFF;\n",
              "    }\n",
              "  </style>\n",
              "\n",
              "    <script>\n",
              "      const buttonEl =\n",
              "        document.querySelector('#df-15fdc640-be6a-4bd6-80ef-35898fe165b5 button.colab-df-convert');\n",
              "      buttonEl.style.display =\n",
              "        google.colab.kernel.accessAllowed ? 'block' : 'none';\n",
              "\n",
              "      async function convertToInteractive(key) {\n",
              "        const element = document.querySelector('#df-15fdc640-be6a-4bd6-80ef-35898fe165b5');\n",
              "        const dataTable =\n",
              "          await google.colab.kernel.invokeFunction('convertToInteractive',\n",
              "                                                    [key], {});\n",
              "        if (!dataTable) return;\n",
              "\n",
              "        const docLinkHtml = 'Like what you see? Visit the ' +\n",
              "          '<a target=\"_blank\" href=https://colab.research.google.com/notebooks/data_table.ipynb>data table notebook</a>'\n",
              "          + ' to learn more about interactive tables.';\n",
              "        element.innerHTML = '';\n",
              "        dataTable['output_type'] = 'display_data';\n",
              "        await google.colab.output.renderOutput(dataTable, element);\n",
              "        const docLink = document.createElement('div');\n",
              "        docLink.innerHTML = docLinkHtml;\n",
              "        element.appendChild(docLink);\n",
              "      }\n",
              "    </script>\n",
              "  </div>\n",
              "\n",
              "\n",
              "<div id=\"df-c462dc35-23a6-46c5-9b67-4bf66df05dc7\">\n",
              "  <button class=\"colab-df-quickchart\" onclick=\"quickchart('df-c462dc35-23a6-46c5-9b67-4bf66df05dc7')\"\n",
              "            title=\"Suggest charts.\"\n",
              "            style=\"display:none;\">\n",
              "\n",
              "<svg xmlns=\"http://www.w3.org/2000/svg\" height=\"24px\"viewBox=\"0 0 24 24\"\n",
              "     width=\"24px\">\n",
              "    <g>\n",
              "        <path d=\"M19 3H5c-1.1 0-2 .9-2 2v14c0 1.1.9 2 2 2h14c1.1 0 2-.9 2-2V5c0-1.1-.9-2-2-2zM9 17H7v-7h2v7zm4 0h-2V7h2v10zm4 0h-2v-4h2v4z\"/>\n",
              "    </g>\n",
              "</svg>\n",
              "  </button>\n",
              "\n",
              "<style>\n",
              "  .colab-df-quickchart {\n",
              "    background-color: #E8F0FE;\n",
              "    border: none;\n",
              "    border-radius: 50%;\n",
              "    cursor: pointer;\n",
              "    display: none;\n",
              "    fill: #1967D2;\n",
              "    height: 32px;\n",
              "    padding: 0 0 0 0;\n",
              "    width: 32px;\n",
              "  }\n",
              "\n",
              "  .colab-df-quickchart:hover {\n",
              "    background-color: #E2EBFA;\n",
              "    box-shadow: 0px 1px 2px rgba(60, 64, 67, 0.3), 0px 1px 3px 1px rgba(60, 64, 67, 0.15);\n",
              "    fill: #174EA6;\n",
              "  }\n",
              "\n",
              "  [theme=dark] .colab-df-quickchart {\n",
              "    background-color: #3B4455;\n",
              "    fill: #D2E3FC;\n",
              "  }\n",
              "\n",
              "  [theme=dark] .colab-df-quickchart:hover {\n",
              "    background-color: #434B5C;\n",
              "    box-shadow: 0px 1px 3px 1px rgba(0, 0, 0, 0.15);\n",
              "    filter: drop-shadow(0px 1px 2px rgba(0, 0, 0, 0.3));\n",
              "    fill: #FFFFFF;\n",
              "  }\n",
              "</style>\n",
              "\n",
              "  <script>\n",
              "    async function quickchart(key) {\n",
              "      const charts = await google.colab.kernel.invokeFunction(\n",
              "          'suggestCharts', [key], {});\n",
              "    }\n",
              "    (() => {\n",
              "      let quickchartButtonEl =\n",
              "        document.querySelector('#df-c462dc35-23a6-46c5-9b67-4bf66df05dc7 button');\n",
              "      quickchartButtonEl.style.display =\n",
              "        google.colab.kernel.accessAllowed ? 'block' : 'none';\n",
              "    })();\n",
              "  </script>\n",
              "</div>\n",
              "    </div>\n",
              "  </div>\n"
            ],
            "text/plain": [
              "       genres    num\n",
              "61       rock  52805\n",
              "51        pop  43525\n",
              "56       punk  16552\n",
              "14    country  12353\n",
              "47      metal  11743\n",
              "35  hard-rock   9228\n",
              "29     german   8980\n",
              "20      disco   8065\n",
              "70    swedish   7964\n",
              "68       soul   7289"
            ]
          },
          "execution_count": 33,
          "metadata": {},
          "output_type": "execute_result"
        }
      ],
      "source": [
        "important_genres = filter_important_genres(reduced_isrc)\n",
        "important_genres = important_genres.sort_values(\"num\", ascending=False)\n",
        "important_genres.head(10)"
      ]
    },
    {
      "cell_type": "code",
      "execution_count": null,
      "id": "2D2uh8pv4o_A",
      "metadata": {
        "colab": {
          "base_uri": "https://localhost:8080/",
          "height": 517
        },
        "id": "2D2uh8pv4o_A",
        "outputId": "5203ba24-b56b-469a-d1c3-78f3cdcb93ab"
      },
      "outputs": [
        {
          "data": {
            "text/html": [
              "<html>\n",
              "<head><meta charset=\"utf-8\" /></head>\n",
              "<body>\n",
              "    <div>            <script src=\"https://cdnjs.cloudflare.com/ajax/libs/mathjax/2.7.5/MathJax.js?config=TeX-AMS-MML_SVG\"></script><script type=\"text/javascript\">if (window.MathJax && window.MathJax.Hub && window.MathJax.Hub.Config) {window.MathJax.Hub.Config({SVG: {font: \"STIX-Web\"}});}</script>                <script type=\"text/javascript\">window.PlotlyConfig = {MathJaxConfig: 'local'};</script>\n",
              "        <script charset=\"utf-8\" src=\"https://cdn.plot.ly/plotly-2.24.1.min.js\"></script>                <div id=\"fd112cc4-e6df-48e4-b73b-557c34642d6e\" class=\"plotly-graph-div\" style=\"height:500px; width:100%;\"></div>            <script type=\"text/javascript\">                                    window.PLOTLYENV=window.PLOTLYENV || {};                                    if (document.getElementById(\"fd112cc4-e6df-48e4-b73b-557c34642d6e\")) {                    Plotly.newPlot(                        \"fd112cc4-e6df-48e4-b73b-557c34642d6e\",                        [{\"alignmentgroup\":\"True\",\"hovertemplate\":\"genres=%{x}\\u003cbr\\u003enum=%{y}\\u003cextra\\u003e\\u003c\\u002fextra\\u003e\",\"legendgroup\":\"\",\"marker\":{\"color\":\"#636efa\",\"pattern\":{\"shape\":\"\"}},\"name\":\"\",\"offsetgroup\":\"\",\"orientation\":\"v\",\"showlegend\":false,\"textposition\":\"auto\",\"x\":[\"rock\",\"pop\",\"punk\",\"country\",\"metal\",\"hard-rock\",\"german\",\"disco\",\"swedish\",\"soul\",\"blues\",\"punk-rock\",\"synth-pop\",\"alternative\",\"british\",\"alt-rock\",\"funk\",\"hardcore\",\"singer-songwriter\",\"songwriter\",\"dance\",\"reggae\",\"indie\",\"r-n-b\",\"industrial\",\"hip-hop\",\"dub\",\"power-pop\",\"salsa\",\"goth\"],\"xaxis\":\"x\",\"y\":[52805,43525,16552,12353,11743,9228,8980,8065,7964,7289,7118,6372,6369,6126,6000,5847,5616,5138,3542,3539,3469,3376,3289,2783,2512,2247,2176,2174,1959,1822],\"yaxis\":\"y\",\"type\":\"bar\"}],                        {\"template\":{\"data\":{\"barpolar\":[{\"marker\":{\"line\":{\"color\":\"rgb(17,17,17)\",\"width\":0.5},\"pattern\":{\"fillmode\":\"overlay\",\"size\":10,\"solidity\":0.2}},\"type\":\"barpolar\"}],\"bar\":[{\"error_x\":{\"color\":\"#f2f5fa\"},\"error_y\":{\"color\":\"#f2f5fa\"},\"marker\":{\"line\":{\"color\":\"rgb(17,17,17)\",\"width\":0.5},\"pattern\":{\"fillmode\":\"overlay\",\"size\":10,\"solidity\":0.2}},\"type\":\"bar\"}],\"carpet\":[{\"aaxis\":{\"endlinecolor\":\"#A2B1C6\",\"gridcolor\":\"#506784\",\"linecolor\":\"#506784\",\"minorgridcolor\":\"#506784\",\"startlinecolor\":\"#A2B1C6\"},\"baxis\":{\"endlinecolor\":\"#A2B1C6\",\"gridcolor\":\"#506784\",\"linecolor\":\"#506784\",\"minorgridcolor\":\"#506784\",\"startlinecolor\":\"#A2B1C6\"},\"type\":\"carpet\"}],\"choropleth\":[{\"colorbar\":{\"outlinewidth\":0,\"ticks\":\"\"},\"type\":\"choropleth\"}],\"contourcarpet\":[{\"colorbar\":{\"outlinewidth\":0,\"ticks\":\"\"},\"type\":\"contourcarpet\"}],\"contour\":[{\"colorbar\":{\"outlinewidth\":0,\"ticks\":\"\"},\"colorscale\":[[0.0,\"#0d0887\"],[0.1111111111111111,\"#46039f\"],[0.2222222222222222,\"#7201a8\"],[0.3333333333333333,\"#9c179e\"],[0.4444444444444444,\"#bd3786\"],[0.5555555555555556,\"#d8576b\"],[0.6666666666666666,\"#ed7953\"],[0.7777777777777778,\"#fb9f3a\"],[0.8888888888888888,\"#fdca26\"],[1.0,\"#f0f921\"]],\"type\":\"contour\"}],\"heatmapgl\":[{\"colorbar\":{\"outlinewidth\":0,\"ticks\":\"\"},\"colorscale\":[[0.0,\"#0d0887\"],[0.1111111111111111,\"#46039f\"],[0.2222222222222222,\"#7201a8\"],[0.3333333333333333,\"#9c179e\"],[0.4444444444444444,\"#bd3786\"],[0.5555555555555556,\"#d8576b\"],[0.6666666666666666,\"#ed7953\"],[0.7777777777777778,\"#fb9f3a\"],[0.8888888888888888,\"#fdca26\"],[1.0,\"#f0f921\"]],\"type\":\"heatmapgl\"}],\"heatmap\":[{\"colorbar\":{\"outlinewidth\":0,\"ticks\":\"\"},\"colorscale\":[[0.0,\"#0d0887\"],[0.1111111111111111,\"#46039f\"],[0.2222222222222222,\"#7201a8\"],[0.3333333333333333,\"#9c179e\"],[0.4444444444444444,\"#bd3786\"],[0.5555555555555556,\"#d8576b\"],[0.6666666666666666,\"#ed7953\"],[0.7777777777777778,\"#fb9f3a\"],[0.8888888888888888,\"#fdca26\"],[1.0,\"#f0f921\"]],\"type\":\"heatmap\"}],\"histogram2dcontour\":[{\"colorbar\":{\"outlinewidth\":0,\"ticks\":\"\"},\"colorscale\":[[0.0,\"#0d0887\"],[0.1111111111111111,\"#46039f\"],[0.2222222222222222,\"#7201a8\"],[0.3333333333333333,\"#9c179e\"],[0.4444444444444444,\"#bd3786\"],[0.5555555555555556,\"#d8576b\"],[0.6666666666666666,\"#ed7953\"],[0.7777777777777778,\"#fb9f3a\"],[0.8888888888888888,\"#fdca26\"],[1.0,\"#f0f921\"]],\"type\":\"histogram2dcontour\"}],\"histogram2d\":[{\"colorbar\":{\"outlinewidth\":0,\"ticks\":\"\"},\"colorscale\":[[0.0,\"#0d0887\"],[0.1111111111111111,\"#46039f\"],[0.2222222222222222,\"#7201a8\"],[0.3333333333333333,\"#9c179e\"],[0.4444444444444444,\"#bd3786\"],[0.5555555555555556,\"#d8576b\"],[0.6666666666666666,\"#ed7953\"],[0.7777777777777778,\"#fb9f3a\"],[0.8888888888888888,\"#fdca26\"],[1.0,\"#f0f921\"]],\"type\":\"histogram2d\"}],\"histogram\":[{\"marker\":{\"pattern\":{\"fillmode\":\"overlay\",\"size\":10,\"solidity\":0.2}},\"type\":\"histogram\"}],\"mesh3d\":[{\"colorbar\":{\"outlinewidth\":0,\"ticks\":\"\"},\"type\":\"mesh3d\"}],\"parcoords\":[{\"line\":{\"colorbar\":{\"outlinewidth\":0,\"ticks\":\"\"}},\"type\":\"parcoords\"}],\"pie\":[{\"automargin\":true,\"type\":\"pie\"}],\"scatter3d\":[{\"line\":{\"colorbar\":{\"outlinewidth\":0,\"ticks\":\"\"}},\"marker\":{\"colorbar\":{\"outlinewidth\":0,\"ticks\":\"\"}},\"type\":\"scatter3d\"}],\"scattercarpet\":[{\"marker\":{\"colorbar\":{\"outlinewidth\":0,\"ticks\":\"\"}},\"type\":\"scattercarpet\"}],\"scattergeo\":[{\"marker\":{\"colorbar\":{\"outlinewidth\":0,\"ticks\":\"\"}},\"type\":\"scattergeo\"}],\"scattergl\":[{\"marker\":{\"line\":{\"color\":\"#283442\"}},\"type\":\"scattergl\"}],\"scattermapbox\":[{\"marker\":{\"colorbar\":{\"outlinewidth\":0,\"ticks\":\"\"}},\"type\":\"scattermapbox\"}],\"scatterpolargl\":[{\"marker\":{\"colorbar\":{\"outlinewidth\":0,\"ticks\":\"\"}},\"type\":\"scatterpolargl\"}],\"scatterpolar\":[{\"marker\":{\"colorbar\":{\"outlinewidth\":0,\"ticks\":\"\"}},\"type\":\"scatterpolar\"}],\"scatter\":[{\"marker\":{\"line\":{\"color\":\"#283442\"}},\"type\":\"scatter\"}],\"scatterternary\":[{\"marker\":{\"colorbar\":{\"outlinewidth\":0,\"ticks\":\"\"}},\"type\":\"scatterternary\"}],\"surface\":[{\"colorbar\":{\"outlinewidth\":0,\"ticks\":\"\"},\"colorscale\":[[0.0,\"#0d0887\"],[0.1111111111111111,\"#46039f\"],[0.2222222222222222,\"#7201a8\"],[0.3333333333333333,\"#9c179e\"],[0.4444444444444444,\"#bd3786\"],[0.5555555555555556,\"#d8576b\"],[0.6666666666666666,\"#ed7953\"],[0.7777777777777778,\"#fb9f3a\"],[0.8888888888888888,\"#fdca26\"],[1.0,\"#f0f921\"]],\"type\":\"surface\"}],\"table\":[{\"cells\":{\"fill\":{\"color\":\"#506784\"},\"line\":{\"color\":\"rgb(17,17,17)\"}},\"header\":{\"fill\":{\"color\":\"#2a3f5f\"},\"line\":{\"color\":\"rgb(17,17,17)\"}},\"type\":\"table\"}]},\"layout\":{\"annotationdefaults\":{\"arrowcolor\":\"#f2f5fa\",\"arrowhead\":0,\"arrowwidth\":1},\"autotypenumbers\":\"strict\",\"coloraxis\":{\"colorbar\":{\"outlinewidth\":0,\"ticks\":\"\"}},\"colorscale\":{\"diverging\":[[0,\"#8e0152\"],[0.1,\"#c51b7d\"],[0.2,\"#de77ae\"],[0.3,\"#f1b6da\"],[0.4,\"#fde0ef\"],[0.5,\"#f7f7f7\"],[0.6,\"#e6f5d0\"],[0.7,\"#b8e186\"],[0.8,\"#7fbc41\"],[0.9,\"#4d9221\"],[1,\"#276419\"]],\"sequential\":[[0.0,\"#0d0887\"],[0.1111111111111111,\"#46039f\"],[0.2222222222222222,\"#7201a8\"],[0.3333333333333333,\"#9c179e\"],[0.4444444444444444,\"#bd3786\"],[0.5555555555555556,\"#d8576b\"],[0.6666666666666666,\"#ed7953\"],[0.7777777777777778,\"#fb9f3a\"],[0.8888888888888888,\"#fdca26\"],[1.0,\"#f0f921\"]],\"sequentialminus\":[[0.0,\"#0d0887\"],[0.1111111111111111,\"#46039f\"],[0.2222222222222222,\"#7201a8\"],[0.3333333333333333,\"#9c179e\"],[0.4444444444444444,\"#bd3786\"],[0.5555555555555556,\"#d8576b\"],[0.6666666666666666,\"#ed7953\"],[0.7777777777777778,\"#fb9f3a\"],[0.8888888888888888,\"#fdca26\"],[1.0,\"#f0f921\"]]},\"colorway\":[\"#636efa\",\"#EF553B\",\"#00cc96\",\"#ab63fa\",\"#FFA15A\",\"#19d3f3\",\"#FF6692\",\"#B6E880\",\"#FF97FF\",\"#FECB52\"],\"font\":{\"color\":\"#f2f5fa\"},\"geo\":{\"bgcolor\":\"rgb(17,17,17)\",\"lakecolor\":\"rgb(17,17,17)\",\"landcolor\":\"rgb(17,17,17)\",\"showlakes\":true,\"showland\":true,\"subunitcolor\":\"#506784\"},\"hoverlabel\":{\"align\":\"left\"},\"hovermode\":\"closest\",\"mapbox\":{\"style\":\"dark\"},\"paper_bgcolor\":\"rgb(17,17,17)\",\"plot_bgcolor\":\"rgb(17,17,17)\",\"polar\":{\"angularaxis\":{\"gridcolor\":\"#506784\",\"linecolor\":\"#506784\",\"ticks\":\"\"},\"bgcolor\":\"rgb(17,17,17)\",\"radialaxis\":{\"gridcolor\":\"#506784\",\"linecolor\":\"#506784\",\"ticks\":\"\"}},\"scene\":{\"xaxis\":{\"backgroundcolor\":\"rgb(17,17,17)\",\"gridcolor\":\"#506784\",\"gridwidth\":2,\"linecolor\":\"#506784\",\"showbackground\":true,\"ticks\":\"\",\"zerolinecolor\":\"#C8D4E3\"},\"yaxis\":{\"backgroundcolor\":\"rgb(17,17,17)\",\"gridcolor\":\"#506784\",\"gridwidth\":2,\"linecolor\":\"#506784\",\"showbackground\":true,\"ticks\":\"\",\"zerolinecolor\":\"#C8D4E3\"},\"zaxis\":{\"backgroundcolor\":\"rgb(17,17,17)\",\"gridcolor\":\"#506784\",\"gridwidth\":2,\"linecolor\":\"#506784\",\"showbackground\":true,\"ticks\":\"\",\"zerolinecolor\":\"#C8D4E3\"}},\"shapedefaults\":{\"line\":{\"color\":\"#f2f5fa\"}},\"sliderdefaults\":{\"bgcolor\":\"#C8D4E3\",\"bordercolor\":\"rgb(17,17,17)\",\"borderwidth\":1,\"tickwidth\":0},\"ternary\":{\"aaxis\":{\"gridcolor\":\"#506784\",\"linecolor\":\"#506784\",\"ticks\":\"\"},\"baxis\":{\"gridcolor\":\"#506784\",\"linecolor\":\"#506784\",\"ticks\":\"\"},\"bgcolor\":\"rgb(17,17,17)\",\"caxis\":{\"gridcolor\":\"#506784\",\"linecolor\":\"#506784\",\"ticks\":\"\"}},\"title\":{\"x\":0.05},\"updatemenudefaults\":{\"bgcolor\":\"#506784\",\"borderwidth\":0},\"xaxis\":{\"automargin\":true,\"gridcolor\":\"#283442\",\"linecolor\":\"#506784\",\"ticks\":\"\",\"title\":{\"standoff\":15},\"zerolinecolor\":\"#283442\",\"zerolinewidth\":2},\"yaxis\":{\"automargin\":true,\"gridcolor\":\"#283442\",\"linecolor\":\"#506784\",\"ticks\":\"\",\"title\":{\"standoff\":15},\"zerolinecolor\":\"#283442\",\"zerolinewidth\":2}}},\"xaxis\":{\"anchor\":\"y\",\"domain\":[0.0,1.0],\"title\":{\"text\":\"Genre\"}},\"yaxis\":{\"anchor\":\"x\",\"domain\":[0.0,1.0],\"title\":{\"text\":\"Ver\\u00f6ffentlichte Songs\"}},\"legend\":{\"tracegroupgap\":0},\"margin\":{\"t\":60},\"barmode\":\"relative\",\"height\":500,\"title\":{\"text\":\"Ver\\u00f6ffentlichte Songs pro Genre in den wichtigen L\\u00e4ndern (Top 30)\"}},                        {\"responsive\": true}                    ).then(function(){\n",
              "                            \n",
              "var gd = document.getElementById('fd112cc4-e6df-48e4-b73b-557c34642d6e');\n",
              "var x = new MutationObserver(function (mutations, observer) {{\n",
              "        var display = window.getComputedStyle(gd).display;\n",
              "        if (!display || display === 'none') {{\n",
              "            console.log([gd, 'removed!']);\n",
              "            Plotly.purge(gd);\n",
              "            observer.disconnect();\n",
              "        }}\n",
              "}});\n",
              "\n",
              "// Listen for the removal of the full notebook cells\n",
              "var notebookContainer = gd.closest('#notebook-container');\n",
              "if (notebookContainer) {{\n",
              "    x.observe(notebookContainer, {childList: true});\n",
              "}}\n",
              "\n",
              "// Listen for the clearing of the current output cell\n",
              "var outputEl = gd.closest('.output');\n",
              "if (outputEl) {{\n",
              "    x.observe(outputEl, {childList: true});\n",
              "}}\n",
              "\n",
              "                        })                };                            </script>        </div>\n",
              "</body>\n",
              "</html>"
            ]
          },
          "metadata": {},
          "output_type": "display_data"
        }
      ],
      "source": [
        "fig = px.bar(important_genres[:30], x=\"genres\", y=\"num\", template=\"plotly_dark\")\n",
        "fig.update_layout(\n",
        "    height=500,\n",
        "    title=\"Veröffentlichte Songs pro Genre in den wichtigen Ländern (Top 30)\",\n",
        "    xaxis_title=\"Genre\",\n",
        "    yaxis_title=\"Veröffentlichte Songs\"\n",
        ")\n",
        "fig.show()"
      ]
    },
    {
      "cell_type": "code",
      "execution_count": null,
      "id": "prNdUgHbAGM_",
      "metadata": {
        "id": "prNdUgHbAGM_"
      },
      "outputs": [],
      "source": [
        "reduced_isrc.to_csv(f\"{PATH}/reduced_isrc.csv\")"
      ]
    },
    {
      "cell_type": "markdown",
      "id": "oXy93SzJBoBN",
      "metadata": {
        "id": "oXy93SzJBoBN"
      },
      "source": [
        "## Auffindbarkeiten prüfen (in db und auf Spotify)"
      ]
    },
    {
      "cell_type": "code",
      "execution_count": 6,
      "id": "dgGQtmu1C47I",
      "metadata": {
        "colab": {
          "base_uri": "https://localhost:8080/"
        },
        "id": "dgGQtmu1C47I",
        "outputId": "f5c39acd-4412-42e0-e37c-88dd066919a9"
      },
      "outputs": [
        {
          "output_type": "stream",
          "name": "stdout",
          "text": [
            "Collecting colab-env\n",
            "  Downloading colab-env-0.2.0.tar.gz (4.7 kB)\n",
            "  Preparing metadata (setup.py) ... \u001b[?25l\u001b[?25hdone\n",
            "Collecting python-dotenv<1.0,>=0.10.0 (from colab-env)\n",
            "  Downloading python_dotenv-0.21.1-py3-none-any.whl (19 kB)\n",
            "Building wheels for collected packages: colab-env\n",
            "  Building wheel for colab-env (setup.py) ... \u001b[?25l\u001b[?25hdone\n",
            "  Created wheel for colab-env: filename=colab_env-0.2.0-py3-none-any.whl size=3805 sha256=a3c1482a31faf30b67da4108ec3db9acddcad04b1f6139acad39eeac0281c879\n",
            "  Stored in directory: /root/.cache/pip/wheels/ae/36/4f/466c2cd4db5d08f317893a920c4a0f58a81459ee3bdb136d35\n",
            "Successfully built colab-env\n",
            "Installing collected packages: python-dotenv, colab-env\n",
            "Successfully installed colab-env-0.2.0 python-dotenv-0.21.1\n"
          ]
        }
      ],
      "source": [
        "!pip install colab-env --upgrade"
      ]
    },
    {
      "cell_type": "code",
      "execution_count": 7,
      "id": "FYOzt6jmnc2g",
      "metadata": {
        "colab": {
          "base_uri": "https://localhost:8080/"
        },
        "id": "FYOzt6jmnc2g",
        "outputId": "e0474be6-52dd-4809-d055-a4b6231be8c8"
      },
      "outputs": [
        {
          "output_type": "stream",
          "name": "stdout",
          "text": [
            "Collecting spotipy\n",
            "  Downloading spotipy-2.23.0-py3-none-any.whl (29 kB)\n",
            "Collecting redis>=3.5.3 (from spotipy)\n",
            "  Downloading redis-5.0.0-py3-none-any.whl (250 kB)\n",
            "\u001b[2K     \u001b[90m━━━━━━━━━━━━━━━━━━━━━━━━━━━━━━━━━━━━━━━\u001b[0m \u001b[32m250.1/250.1 kB\u001b[0m \u001b[31m7.2 MB/s\u001b[0m eta \u001b[36m0:00:00\u001b[0m\n",
            "\u001b[?25hRequirement already satisfied: requests>=2.25.0 in /usr/local/lib/python3.10/dist-packages (from spotipy) (2.31.0)\n",
            "Requirement already satisfied: six>=1.15.0 in /usr/local/lib/python3.10/dist-packages (from spotipy) (1.16.0)\n",
            "Requirement already satisfied: urllib3>=1.26.0 in /usr/local/lib/python3.10/dist-packages (from spotipy) (2.0.4)\n",
            "Requirement already satisfied: async-timeout>=4.0.2 in /usr/local/lib/python3.10/dist-packages (from redis>=3.5.3->spotipy) (4.0.3)\n",
            "Requirement already satisfied: charset-normalizer<4,>=2 in /usr/local/lib/python3.10/dist-packages (from requests>=2.25.0->spotipy) (3.2.0)\n",
            "Requirement already satisfied: idna<4,>=2.5 in /usr/local/lib/python3.10/dist-packages (from requests>=2.25.0->spotipy) (3.4)\n",
            "Requirement already satisfied: certifi>=2017.4.17 in /usr/local/lib/python3.10/dist-packages (from requests>=2.25.0->spotipy) (2023.7.22)\n",
            "Installing collected packages: redis, spotipy\n",
            "Successfully installed redis-5.0.0 spotipy-2.23.0\n"
          ]
        }
      ],
      "source": [
        "!pip install spotipy --upgrade"
      ]
    },
    {
      "cell_type": "code",
      "execution_count": 8,
      "id": "cAfCoXOE7JBI",
      "metadata": {
        "colab": {
          "base_uri": "https://localhost:8080/"
        },
        "id": "cAfCoXOE7JBI",
        "outputId": "fd7f757e-b534-4875-c939-85aacde6bccb"
      },
      "outputs": [
        {
          "output_type": "stream",
          "name": "stdout",
          "text": [
            "Collecting ratelimit\n",
            "  Downloading ratelimit-2.2.1.tar.gz (5.3 kB)\n",
            "  Preparing metadata (setup.py) ... \u001b[?25l\u001b[?25hdone\n",
            "Building wheels for collected packages: ratelimit\n",
            "  Building wheel for ratelimit (setup.py) ... \u001b[?25l\u001b[?25hdone\n",
            "  Created wheel for ratelimit: filename=ratelimit-2.2.1-py3-none-any.whl size=5894 sha256=2b309c0c9f9178cf6e11b6c1a70f961e34f96ca5d1bd1b844ce76ba05c06756f\n",
            "  Stored in directory: /root/.cache/pip/wheels/27/5f/ba/e972a56dcbf5de9f2b7d2b2a710113970bd173c4dcd3d2c902\n",
            "Successfully built ratelimit\n",
            "Installing collected packages: ratelimit\n",
            "Successfully installed ratelimit-2.2.1\n"
          ]
        }
      ],
      "source": [
        "!pip install ratelimit"
      ]
    },
    {
      "cell_type": "code",
      "execution_count": 9,
      "id": "oveNa3QFkH8Q",
      "metadata": {
        "colab": {
          "base_uri": "https://localhost:8080/"
        },
        "id": "oveNa3QFkH8Q",
        "outputId": "b2a1923d-07af-4e14-ed79-bde1bd5b994b"
      },
      "outputs": [
        {
          "output_type": "stream",
          "name": "stdout",
          "text": [
            "Drive already mounted at /content/gdrive; to attempt to forcibly remount, call drive.mount(\"/content/gdrive\", force_remount=True).\n"
          ]
        }
      ],
      "source": [
        "import colab_env\n",
        "import os\n",
        "import pandas as pd\n",
        "import spotipy\n",
        "from spotipy.oauth2 import SpotifyClientCredentials\n",
        "import pandas as pd\n",
        "import requests\n",
        "import json\n",
        "from numpy import NaN\n",
        "from tqdm import tqdm\n",
        "import time\n",
        "from ratelimit import limits, sleep_and_retry"
      ]
    },
    {
      "cell_type": "code",
      "execution_count": 10,
      "id": "FkN7sRPb7sO3",
      "metadata": {
        "id": "FkN7sRPb7sO3"
      },
      "outputs": [],
      "source": [
        "@sleep_and_retry\n",
        "@limits(calls=60, period=30)\n",
        "def call_api():\n",
        "  return"
      ]
    },
    {
      "cell_type": "code",
      "execution_count": 11,
      "id": "hlVbDBavlg-n",
      "metadata": {
        "id": "hlVbDBavlg-n"
      },
      "outputs": [],
      "source": [
        "chart_power_df = pd.read_excel(f\"{PATH}/chart-power-scores_80s.xlsx\")\n",
        "chart_power_df = chart_power_df.applymap(lambda s: s.lower() if type(s) == str else s)\n",
        "chart_power_df = chart_power_df[['Song', 'Artist', 'Points']].groupby(['Song', 'Artist']).sum()\n",
        "chart_power_df.reset_index(inplace=True)"
      ]
    },
    {
      "cell_type": "code",
      "execution_count": 12,
      "id": "NGI7eQFJoGby",
      "metadata": {
        "id": "NGI7eQFJoGby"
      },
      "outputs": [],
      "source": [
        "if LOCAL:\n",
        "    from dotenv import load_dotenv\n",
        "    load_dotenv()\n",
        "    SPOTIFY_CLIENT_ID = os.environ.get(\"SPOTIFY_CLIENT_ID\")\n",
        "    SPOTIFY_CLIENT_SECRET = os.environ.get(\"SPOTIFY_CLIENT_SECRET\")\n",
        "else:\n",
        "    SPOTIFY_CLIENT_ID = os.getenv(\"SPOTIFY_CLIENT_ID\")\n",
        "    SPOTIFY_CLIENT_SECRET = os.getenv(\"SPOTIFY_CLIENT_SECRET\")"
      ]
    },
    {
      "cell_type": "code",
      "execution_count": 13,
      "id": "w0UjBTB8o89j",
      "metadata": {
        "id": "w0UjBTB8o89j"
      },
      "outputs": [],
      "source": [
        "client_credentials_manager = SpotifyClientCredentials(client_id=SPOTIFY_CLIENT_ID, client_secret=SPOTIFY_CLIENT_SECRET)\n",
        "sp = spotipy.Spotify(client_credentials_manager=client_credentials_manager)"
      ]
    },
    {
      "cell_type": "markdown",
      "id": "UpcOHHx8AV7K",
      "metadata": {
        "id": "UpcOHHx8AV7K"
      },
      "source": [
        "Abfrage aller Lieder für Boney M."
      ]
    },
    {
      "cell_type": "code",
      "execution_count": 14,
      "id": "i84v3ye8tUqm",
      "metadata": {
        "id": "i84v3ye8tUqm"
      },
      "outputs": [],
      "source": [
        "def query(year: int, offset: int):\n",
        "  res = sp.search(q=f\"artist:Boney M. year:{year}\", type=\"track\", limit=10, offset=offset, market=\"DE\")\n",
        "  if (len(res[\"tracks\"][\"items\"]) == 10):\n",
        "    return query(year, offset + 10)\n",
        "  return len(res[\"tracks\"][\"items\"]) + offset"
      ]
    },
    {
      "cell_type": "code",
      "execution_count": null,
      "id": "HhwjsQC1uwqR",
      "metadata": {
        "id": "HhwjsQC1uwqR"
      },
      "outputs": [],
      "source": [
        "boney_songs = pd.DataFrame()\n",
        "for year in range(1980, 1990):\n",
        "  boney_songs = pd.concat([boney_songs, pd.DataFrame([[year, query(year, 0)]], columns=[\"year\", \"songs\"])])"
      ]
    },
    {
      "cell_type": "code",
      "execution_count": null,
      "id": "NoIY_Gc2pIAP",
      "metadata": {
        "colab": {
          "base_uri": "https://localhost:8080/",
          "height": 517
        },
        "id": "NoIY_Gc2pIAP",
        "outputId": "1f32d7ff-00b5-4219-cdee-797d39f25acd"
      },
      "outputs": [
        {
          "data": {
            "application/vnd.plotly.v1+json": {
              "config": {
                "plotlyServerURL": "https://plot.ly"
              },
              "data": [
                {
                  "alignmentgroup": "True",
                  "hovertemplate": "year=%{x}<br>songs=%{y}<extra></extra>",
                  "legendgroup": "",
                  "marker": {
                    "color": "#636efa",
                    "pattern": {
                      "shape": ""
                    }
                  },
                  "name": "",
                  "offsetgroup": "",
                  "orientation": "v",
                  "showlegend": false,
                  "textposition": "auto",
                  "type": "bar",
                  "x": [
                    1980,
                    1981,
                    1982,
                    1983,
                    1984,
                    1985,
                    1986,
                    1987,
                    1988,
                    1989
                  ],
                  "xaxis": "x",
                  "y": [
                    0,
                    44,
                    0,
                    0,
                    45,
                    10,
                    0,
                    0,
                    2,
                    32
                  ],
                  "yaxis": "y"
                }
              ],
              "layout": {
                "barmode": "relative",
                "height": 500,
                "legend": {
                  "tracegroupgap": 0
                },
                "template": {
                  "data": {
                    "bar": [
                      {
                        "error_x": {
                          "color": "#f2f5fa"
                        },
                        "error_y": {
                          "color": "#f2f5fa"
                        },
                        "marker": {
                          "line": {
                            "color": "rgb(17,17,17)",
                            "width": 0.5
                          },
                          "pattern": {
                            "fillmode": "overlay",
                            "size": 10,
                            "solidity": 0.2
                          }
                        },
                        "type": "bar"
                      }
                    ],
                    "barpolar": [
                      {
                        "marker": {
                          "line": {
                            "color": "rgb(17,17,17)",
                            "width": 0.5
                          },
                          "pattern": {
                            "fillmode": "overlay",
                            "size": 10,
                            "solidity": 0.2
                          }
                        },
                        "type": "barpolar"
                      }
                    ],
                    "carpet": [
                      {
                        "aaxis": {
                          "endlinecolor": "#A2B1C6",
                          "gridcolor": "#506784",
                          "linecolor": "#506784",
                          "minorgridcolor": "#506784",
                          "startlinecolor": "#A2B1C6"
                        },
                        "baxis": {
                          "endlinecolor": "#A2B1C6",
                          "gridcolor": "#506784",
                          "linecolor": "#506784",
                          "minorgridcolor": "#506784",
                          "startlinecolor": "#A2B1C6"
                        },
                        "type": "carpet"
                      }
                    ],
                    "choropleth": [
                      {
                        "colorbar": {
                          "outlinewidth": 0,
                          "ticks": ""
                        },
                        "type": "choropleth"
                      }
                    ],
                    "contour": [
                      {
                        "colorbar": {
                          "outlinewidth": 0,
                          "ticks": ""
                        },
                        "colorscale": [
                          [
                            0,
                            "#0d0887"
                          ],
                          [
                            0.1111111111111111,
                            "#46039f"
                          ],
                          [
                            0.2222222222222222,
                            "#7201a8"
                          ],
                          [
                            0.3333333333333333,
                            "#9c179e"
                          ],
                          [
                            0.4444444444444444,
                            "#bd3786"
                          ],
                          [
                            0.5555555555555556,
                            "#d8576b"
                          ],
                          [
                            0.6666666666666666,
                            "#ed7953"
                          ],
                          [
                            0.7777777777777778,
                            "#fb9f3a"
                          ],
                          [
                            0.8888888888888888,
                            "#fdca26"
                          ],
                          [
                            1,
                            "#f0f921"
                          ]
                        ],
                        "type": "contour"
                      }
                    ],
                    "contourcarpet": [
                      {
                        "colorbar": {
                          "outlinewidth": 0,
                          "ticks": ""
                        },
                        "type": "contourcarpet"
                      }
                    ],
                    "heatmap": [
                      {
                        "colorbar": {
                          "outlinewidth": 0,
                          "ticks": ""
                        },
                        "colorscale": [
                          [
                            0,
                            "#0d0887"
                          ],
                          [
                            0.1111111111111111,
                            "#46039f"
                          ],
                          [
                            0.2222222222222222,
                            "#7201a8"
                          ],
                          [
                            0.3333333333333333,
                            "#9c179e"
                          ],
                          [
                            0.4444444444444444,
                            "#bd3786"
                          ],
                          [
                            0.5555555555555556,
                            "#d8576b"
                          ],
                          [
                            0.6666666666666666,
                            "#ed7953"
                          ],
                          [
                            0.7777777777777778,
                            "#fb9f3a"
                          ],
                          [
                            0.8888888888888888,
                            "#fdca26"
                          ],
                          [
                            1,
                            "#f0f921"
                          ]
                        ],
                        "type": "heatmap"
                      }
                    ],
                    "heatmapgl": [
                      {
                        "colorbar": {
                          "outlinewidth": 0,
                          "ticks": ""
                        },
                        "colorscale": [
                          [
                            0,
                            "#0d0887"
                          ],
                          [
                            0.1111111111111111,
                            "#46039f"
                          ],
                          [
                            0.2222222222222222,
                            "#7201a8"
                          ],
                          [
                            0.3333333333333333,
                            "#9c179e"
                          ],
                          [
                            0.4444444444444444,
                            "#bd3786"
                          ],
                          [
                            0.5555555555555556,
                            "#d8576b"
                          ],
                          [
                            0.6666666666666666,
                            "#ed7953"
                          ],
                          [
                            0.7777777777777778,
                            "#fb9f3a"
                          ],
                          [
                            0.8888888888888888,
                            "#fdca26"
                          ],
                          [
                            1,
                            "#f0f921"
                          ]
                        ],
                        "type": "heatmapgl"
                      }
                    ],
                    "histogram": [
                      {
                        "marker": {
                          "pattern": {
                            "fillmode": "overlay",
                            "size": 10,
                            "solidity": 0.2
                          }
                        },
                        "type": "histogram"
                      }
                    ],
                    "histogram2d": [
                      {
                        "colorbar": {
                          "outlinewidth": 0,
                          "ticks": ""
                        },
                        "colorscale": [
                          [
                            0,
                            "#0d0887"
                          ],
                          [
                            0.1111111111111111,
                            "#46039f"
                          ],
                          [
                            0.2222222222222222,
                            "#7201a8"
                          ],
                          [
                            0.3333333333333333,
                            "#9c179e"
                          ],
                          [
                            0.4444444444444444,
                            "#bd3786"
                          ],
                          [
                            0.5555555555555556,
                            "#d8576b"
                          ],
                          [
                            0.6666666666666666,
                            "#ed7953"
                          ],
                          [
                            0.7777777777777778,
                            "#fb9f3a"
                          ],
                          [
                            0.8888888888888888,
                            "#fdca26"
                          ],
                          [
                            1,
                            "#f0f921"
                          ]
                        ],
                        "type": "histogram2d"
                      }
                    ],
                    "histogram2dcontour": [
                      {
                        "colorbar": {
                          "outlinewidth": 0,
                          "ticks": ""
                        },
                        "colorscale": [
                          [
                            0,
                            "#0d0887"
                          ],
                          [
                            0.1111111111111111,
                            "#46039f"
                          ],
                          [
                            0.2222222222222222,
                            "#7201a8"
                          ],
                          [
                            0.3333333333333333,
                            "#9c179e"
                          ],
                          [
                            0.4444444444444444,
                            "#bd3786"
                          ],
                          [
                            0.5555555555555556,
                            "#d8576b"
                          ],
                          [
                            0.6666666666666666,
                            "#ed7953"
                          ],
                          [
                            0.7777777777777778,
                            "#fb9f3a"
                          ],
                          [
                            0.8888888888888888,
                            "#fdca26"
                          ],
                          [
                            1,
                            "#f0f921"
                          ]
                        ],
                        "type": "histogram2dcontour"
                      }
                    ],
                    "mesh3d": [
                      {
                        "colorbar": {
                          "outlinewidth": 0,
                          "ticks": ""
                        },
                        "type": "mesh3d"
                      }
                    ],
                    "parcoords": [
                      {
                        "line": {
                          "colorbar": {
                            "outlinewidth": 0,
                            "ticks": ""
                          }
                        },
                        "type": "parcoords"
                      }
                    ],
                    "pie": [
                      {
                        "automargin": true,
                        "type": "pie"
                      }
                    ],
                    "scatter": [
                      {
                        "marker": {
                          "line": {
                            "color": "#283442"
                          }
                        },
                        "type": "scatter"
                      }
                    ],
                    "scatter3d": [
                      {
                        "line": {
                          "colorbar": {
                            "outlinewidth": 0,
                            "ticks": ""
                          }
                        },
                        "marker": {
                          "colorbar": {
                            "outlinewidth": 0,
                            "ticks": ""
                          }
                        },
                        "type": "scatter3d"
                      }
                    ],
                    "scattercarpet": [
                      {
                        "marker": {
                          "colorbar": {
                            "outlinewidth": 0,
                            "ticks": ""
                          }
                        },
                        "type": "scattercarpet"
                      }
                    ],
                    "scattergeo": [
                      {
                        "marker": {
                          "colorbar": {
                            "outlinewidth": 0,
                            "ticks": ""
                          }
                        },
                        "type": "scattergeo"
                      }
                    ],
                    "scattergl": [
                      {
                        "marker": {
                          "line": {
                            "color": "#283442"
                          }
                        },
                        "type": "scattergl"
                      }
                    ],
                    "scattermapbox": [
                      {
                        "marker": {
                          "colorbar": {
                            "outlinewidth": 0,
                            "ticks": ""
                          }
                        },
                        "type": "scattermapbox"
                      }
                    ],
                    "scatterpolar": [
                      {
                        "marker": {
                          "colorbar": {
                            "outlinewidth": 0,
                            "ticks": ""
                          }
                        },
                        "type": "scatterpolar"
                      }
                    ],
                    "scatterpolargl": [
                      {
                        "marker": {
                          "colorbar": {
                            "outlinewidth": 0,
                            "ticks": ""
                          }
                        },
                        "type": "scatterpolargl"
                      }
                    ],
                    "scatterternary": [
                      {
                        "marker": {
                          "colorbar": {
                            "outlinewidth": 0,
                            "ticks": ""
                          }
                        },
                        "type": "scatterternary"
                      }
                    ],
                    "surface": [
                      {
                        "colorbar": {
                          "outlinewidth": 0,
                          "ticks": ""
                        },
                        "colorscale": [
                          [
                            0,
                            "#0d0887"
                          ],
                          [
                            0.1111111111111111,
                            "#46039f"
                          ],
                          [
                            0.2222222222222222,
                            "#7201a8"
                          ],
                          [
                            0.3333333333333333,
                            "#9c179e"
                          ],
                          [
                            0.4444444444444444,
                            "#bd3786"
                          ],
                          [
                            0.5555555555555556,
                            "#d8576b"
                          ],
                          [
                            0.6666666666666666,
                            "#ed7953"
                          ],
                          [
                            0.7777777777777778,
                            "#fb9f3a"
                          ],
                          [
                            0.8888888888888888,
                            "#fdca26"
                          ],
                          [
                            1,
                            "#f0f921"
                          ]
                        ],
                        "type": "surface"
                      }
                    ],
                    "table": [
                      {
                        "cells": {
                          "fill": {
                            "color": "#506784"
                          },
                          "line": {
                            "color": "rgb(17,17,17)"
                          }
                        },
                        "header": {
                          "fill": {
                            "color": "#2a3f5f"
                          },
                          "line": {
                            "color": "rgb(17,17,17)"
                          }
                        },
                        "type": "table"
                      }
                    ]
                  },
                  "layout": {
                    "annotationdefaults": {
                      "arrowcolor": "#f2f5fa",
                      "arrowhead": 0,
                      "arrowwidth": 1
                    },
                    "autotypenumbers": "strict",
                    "coloraxis": {
                      "colorbar": {
                        "outlinewidth": 0,
                        "ticks": ""
                      }
                    },
                    "colorscale": {
                      "diverging": [
                        [
                          0,
                          "#8e0152"
                        ],
                        [
                          0.1,
                          "#c51b7d"
                        ],
                        [
                          0.2,
                          "#de77ae"
                        ],
                        [
                          0.3,
                          "#f1b6da"
                        ],
                        [
                          0.4,
                          "#fde0ef"
                        ],
                        [
                          0.5,
                          "#f7f7f7"
                        ],
                        [
                          0.6,
                          "#e6f5d0"
                        ],
                        [
                          0.7,
                          "#b8e186"
                        ],
                        [
                          0.8,
                          "#7fbc41"
                        ],
                        [
                          0.9,
                          "#4d9221"
                        ],
                        [
                          1,
                          "#276419"
                        ]
                      ],
                      "sequential": [
                        [
                          0,
                          "#0d0887"
                        ],
                        [
                          0.1111111111111111,
                          "#46039f"
                        ],
                        [
                          0.2222222222222222,
                          "#7201a8"
                        ],
                        [
                          0.3333333333333333,
                          "#9c179e"
                        ],
                        [
                          0.4444444444444444,
                          "#bd3786"
                        ],
                        [
                          0.5555555555555556,
                          "#d8576b"
                        ],
                        [
                          0.6666666666666666,
                          "#ed7953"
                        ],
                        [
                          0.7777777777777778,
                          "#fb9f3a"
                        ],
                        [
                          0.8888888888888888,
                          "#fdca26"
                        ],
                        [
                          1,
                          "#f0f921"
                        ]
                      ],
                      "sequentialminus": [
                        [
                          0,
                          "#0d0887"
                        ],
                        [
                          0.1111111111111111,
                          "#46039f"
                        ],
                        [
                          0.2222222222222222,
                          "#7201a8"
                        ],
                        [
                          0.3333333333333333,
                          "#9c179e"
                        ],
                        [
                          0.4444444444444444,
                          "#bd3786"
                        ],
                        [
                          0.5555555555555556,
                          "#d8576b"
                        ],
                        [
                          0.6666666666666666,
                          "#ed7953"
                        ],
                        [
                          0.7777777777777778,
                          "#fb9f3a"
                        ],
                        [
                          0.8888888888888888,
                          "#fdca26"
                        ],
                        [
                          1,
                          "#f0f921"
                        ]
                      ]
                    },
                    "colorway": [
                      "#636efa",
                      "#EF553B",
                      "#00cc96",
                      "#ab63fa",
                      "#FFA15A",
                      "#19d3f3",
                      "#FF6692",
                      "#B6E880",
                      "#FF97FF",
                      "#FECB52"
                    ],
                    "font": {
                      "color": "#f2f5fa"
                    },
                    "geo": {
                      "bgcolor": "rgb(17,17,17)",
                      "lakecolor": "rgb(17,17,17)",
                      "landcolor": "rgb(17,17,17)",
                      "showlakes": true,
                      "showland": true,
                      "subunitcolor": "#506784"
                    },
                    "hoverlabel": {
                      "align": "left"
                    },
                    "hovermode": "closest",
                    "mapbox": {
                      "style": "dark"
                    },
                    "paper_bgcolor": "rgb(17,17,17)",
                    "plot_bgcolor": "rgb(17,17,17)",
                    "polar": {
                      "angularaxis": {
                        "gridcolor": "#506784",
                        "linecolor": "#506784",
                        "ticks": ""
                      },
                      "bgcolor": "rgb(17,17,17)",
                      "radialaxis": {
                        "gridcolor": "#506784",
                        "linecolor": "#506784",
                        "ticks": ""
                      }
                    },
                    "scene": {
                      "xaxis": {
                        "backgroundcolor": "rgb(17,17,17)",
                        "gridcolor": "#506784",
                        "gridwidth": 2,
                        "linecolor": "#506784",
                        "showbackground": true,
                        "ticks": "",
                        "zerolinecolor": "#C8D4E3"
                      },
                      "yaxis": {
                        "backgroundcolor": "rgb(17,17,17)",
                        "gridcolor": "#506784",
                        "gridwidth": 2,
                        "linecolor": "#506784",
                        "showbackground": true,
                        "ticks": "",
                        "zerolinecolor": "#C8D4E3"
                      },
                      "zaxis": {
                        "backgroundcolor": "rgb(17,17,17)",
                        "gridcolor": "#506784",
                        "gridwidth": 2,
                        "linecolor": "#506784",
                        "showbackground": true,
                        "ticks": "",
                        "zerolinecolor": "#C8D4E3"
                      }
                    },
                    "shapedefaults": {
                      "line": {
                        "color": "#f2f5fa"
                      }
                    },
                    "sliderdefaults": {
                      "bgcolor": "#C8D4E3",
                      "bordercolor": "rgb(17,17,17)",
                      "borderwidth": 1,
                      "tickwidth": 0
                    },
                    "ternary": {
                      "aaxis": {
                        "gridcolor": "#506784",
                        "linecolor": "#506784",
                        "ticks": ""
                      },
                      "baxis": {
                        "gridcolor": "#506784",
                        "linecolor": "#506784",
                        "ticks": ""
                      },
                      "bgcolor": "rgb(17,17,17)",
                      "caxis": {
                        "gridcolor": "#506784",
                        "linecolor": "#506784",
                        "ticks": ""
                      }
                    },
                    "title": {
                      "x": 0.05
                    },
                    "updatemenudefaults": {
                      "bgcolor": "#506784",
                      "borderwidth": 0
                    },
                    "xaxis": {
                      "automargin": true,
                      "gridcolor": "#283442",
                      "linecolor": "#506784",
                      "ticks": "",
                      "title": {
                        "standoff": 15
                      },
                      "zerolinecolor": "#283442",
                      "zerolinewidth": 2
                    },
                    "yaxis": {
                      "automargin": true,
                      "gridcolor": "#283442",
                      "linecolor": "#506784",
                      "ticks": "",
                      "title": {
                        "standoff": 15
                      },
                      "zerolinecolor": "#283442",
                      "zerolinewidth": 2
                    }
                  }
                },
                "title": {
                  "text": "Songs veröffentlich von Boney M. in den 80er Jahren"
                },
                "xaxis": {
                  "anchor": "y",
                  "domain": [
                    0,
                    1
                  ],
                  "title": {
                    "text": "Jahr"
                  }
                },
                "yaxis": {
                  "anchor": "x",
                  "domain": [
                    0,
                    1
                  ],
                  "title": {
                    "text": "Veröffentlichte Songs"
                  }
                }
              }
            }
          },
          "metadata": {},
          "output_type": "display_data"
        }
      ],
      "source": [
        "fig = px.bar(boney_songs, x=\"year\", y=\"songs\", title=\"Songs veröffentlich von Boney M. in den 80er Jahren\")\n",
        "fig.update_layout(\n",
        "    height=500,\n",
        "    template='plotly_dark',\n",
        "    xaxis_title=\"Jahr\",\n",
        "    yaxis_title=\"Veröffentlichte Songs\"\n",
        ")\n",
        "fig.show()"
      ]
    },
    {
      "cell_type": "markdown",
      "id": "wCqzub2FGUAq",
      "metadata": {
        "id": "wCqzub2FGUAq"
      },
      "source": [
        "Einbauen des Genres in die query"
      ]
    },
    {
      "cell_type": "code",
      "execution_count": null,
      "id": "P80GR9zXB_Wr",
      "metadata": {
        "id": "P80GR9zXB_Wr"
      },
      "outputs": [],
      "source": [
        "def genre_query(artist: str, year: int, offset:int, genres):\n",
        "  for genre in genres:\n",
        "    call_api()\n",
        "    res = sp.search(q=f\"artist:{artist} year:{year} genre:{genre}\", type=\"track\", limit=50, offset=offset, market=\"DE\")\n",
        "    if (len(res[\"tracks\"][\"items\"] ) > 1):\n",
        "      print(year, genre)\n",
        "      #print(res)"
      ]
    },
    {
      "cell_type": "code",
      "execution_count": null,
      "id": "gzh2z9uyCwbv",
      "metadata": {
        "id": "gzh2z9uyCwbv"
      },
      "outputs": [],
      "source": [
        "def test_genre_query(artist: str):\n",
        "  genres = sp.recommendation_genre_seeds()['genres']\n",
        "  for year in range(1980, 1990):\n",
        "    print(year)\n",
        "    genre_query(artist, year, 0, genres)"
      ]
    },
    {
      "cell_type": "code",
      "execution_count": null,
      "id": "b36hpipdidhT",
      "metadata": {
        "colab": {
          "base_uri": "https://localhost:8080/"
        },
        "id": "b36hpipdidhT",
        "outputId": "da95f1e5-5d26-4036-ad57-65c8215fd7ca"
      },
      "outputs": [
        {
          "name": "stdout",
          "output_type": "stream",
          "text": [
            "1980\n"
          ]
        },
        {
          "ename": "KeyboardInterrupt",
          "evalue": "",
          "output_type": "error",
          "traceback": [
            "\u001b[0;31m---------------------------------------------------------------------------\u001b[0m",
            "\u001b[0;31mKeyboardInterrupt\u001b[0m                         Traceback (most recent call last)",
            "Cell \u001b[0;32mIn[19], line 1\u001b[0m\n\u001b[0;32m----> 1\u001b[0m test_genre_query(\u001b[39m\"\u001b[39;49m\u001b[39mBoney M.\u001b[39;49m\u001b[39m\"\u001b[39;49m)\n",
            "Cell \u001b[0;32mIn[18], line 5\u001b[0m, in \u001b[0;36mtest_genre_query\u001b[0;34m(artist)\u001b[0m\n\u001b[1;32m      3\u001b[0m \u001b[39mfor\u001b[39;00m year \u001b[39min\u001b[39;00m \u001b[39mrange\u001b[39m(\u001b[39m1980\u001b[39m, \u001b[39m1990\u001b[39m):\n\u001b[1;32m      4\u001b[0m   \u001b[39mprint\u001b[39m(year)\n\u001b[0;32m----> 5\u001b[0m   genre_query(artist, year, \u001b[39m0\u001b[39;49m, genres)\n",
            "Cell \u001b[0;32mIn[17], line 4\u001b[0m, in \u001b[0;36mgenre_query\u001b[0;34m(artist, year, offset, genres)\u001b[0m\n\u001b[1;32m      2\u001b[0m \u001b[39mfor\u001b[39;00m genre \u001b[39min\u001b[39;00m genres:\n\u001b[1;32m      3\u001b[0m   call_api()\n\u001b[0;32m----> 4\u001b[0m   res \u001b[39m=\u001b[39m sp\u001b[39m.\u001b[39;49msearch(q\u001b[39m=\u001b[39;49m\u001b[39mf\u001b[39;49m\u001b[39m\"\u001b[39;49m\u001b[39martist:\u001b[39;49m\u001b[39m{\u001b[39;49;00martist\u001b[39m}\u001b[39;49;00m\u001b[39m year:\u001b[39;49m\u001b[39m{\u001b[39;49;00myear\u001b[39m}\u001b[39;49;00m\u001b[39m genre:\u001b[39;49m\u001b[39m{\u001b[39;49;00mgenre\u001b[39m}\u001b[39;49;00m\u001b[39m\"\u001b[39;49m, \u001b[39mtype\u001b[39;49m\u001b[39m=\u001b[39;49m\u001b[39m\"\u001b[39;49m\u001b[39mtrack\u001b[39;49m\u001b[39m\"\u001b[39;49m, limit\u001b[39m=\u001b[39;49m\u001b[39m50\u001b[39;49m, offset\u001b[39m=\u001b[39;49moffset, market\u001b[39m=\u001b[39;49m\u001b[39m\"\u001b[39;49m\u001b[39mDE\u001b[39;49m\u001b[39m\"\u001b[39;49m)\n\u001b[1;32m      5\u001b[0m   \u001b[39mif\u001b[39;00m (\u001b[39mlen\u001b[39m(res[\u001b[39m\"\u001b[39m\u001b[39mtracks\u001b[39m\u001b[39m\"\u001b[39m][\u001b[39m\"\u001b[39m\u001b[39mitems\u001b[39m\u001b[39m\"\u001b[39m] ) \u001b[39m>\u001b[39m \u001b[39m1\u001b[39m):\n\u001b[1;32m      6\u001b[0m     \u001b[39mprint\u001b[39m(year, genre)\n",
            "File \u001b[0;32m~/Documents/Studium/application-project/application-project/lib/python3.10/site-packages/spotipy/client.py:587\u001b[0m, in \u001b[0;36mSpotify.search\u001b[0;34m(self, q, limit, offset, type, market)\u001b[0m\n\u001b[1;32m    572\u001b[0m \u001b[39mdef\u001b[39;00m \u001b[39msearch\u001b[39m(\u001b[39mself\u001b[39m, q, limit\u001b[39m=\u001b[39m\u001b[39m10\u001b[39m, offset\u001b[39m=\u001b[39m\u001b[39m0\u001b[39m, \u001b[39mtype\u001b[39m\u001b[39m=\u001b[39m\u001b[39m\"\u001b[39m\u001b[39mtrack\u001b[39m\u001b[39m\"\u001b[39m, market\u001b[39m=\u001b[39m\u001b[39mNone\u001b[39;00m):\n\u001b[1;32m    573\u001b[0m \u001b[39m    \u001b[39m\u001b[39m\"\"\" searches for an item\u001b[39;00m\n\u001b[1;32m    574\u001b[0m \n\u001b[1;32m    575\u001b[0m \u001b[39m        Parameters:\u001b[39;00m\n\u001b[0;32m   (...)\u001b[0m\n\u001b[1;32m    585\u001b[0m \u001b[39m                       from_token.\u001b[39;00m\n\u001b[1;32m    586\u001b[0m \u001b[39m    \"\"\"\u001b[39;00m\n\u001b[0;32m--> 587\u001b[0m     \u001b[39mreturn\u001b[39;00m \u001b[39mself\u001b[39;49m\u001b[39m.\u001b[39;49m_get(\n\u001b[1;32m    588\u001b[0m         \u001b[39m\"\u001b[39;49m\u001b[39msearch\u001b[39;49m\u001b[39m\"\u001b[39;49m, q\u001b[39m=\u001b[39;49mq, limit\u001b[39m=\u001b[39;49mlimit, offset\u001b[39m=\u001b[39;49moffset, \u001b[39mtype\u001b[39;49m\u001b[39m=\u001b[39;49m\u001b[39mtype\u001b[39;49m, market\u001b[39m=\u001b[39;49mmarket\n\u001b[1;32m    589\u001b[0m     )\n",
            "File \u001b[0;32m~/Documents/Studium/application-project/application-project/lib/python3.10/site-packages/spotipy/client.py:323\u001b[0m, in \u001b[0;36mSpotify._get\u001b[0;34m(self, url, args, payload, **kwargs)\u001b[0m\n\u001b[1;32m    320\u001b[0m \u001b[39mif\u001b[39;00m args:\n\u001b[1;32m    321\u001b[0m     kwargs\u001b[39m.\u001b[39mupdate(args)\n\u001b[0;32m--> 323\u001b[0m \u001b[39mreturn\u001b[39;00m \u001b[39mself\u001b[39;49m\u001b[39m.\u001b[39;49m_internal_call(\u001b[39m\"\u001b[39;49m\u001b[39mGET\u001b[39;49m\u001b[39m\"\u001b[39;49m, url, payload, kwargs)\n",
            "File \u001b[0;32m~/Documents/Studium/application-project/application-project/lib/python3.10/site-packages/spotipy/client.py:266\u001b[0m, in \u001b[0;36mSpotify._internal_call\u001b[0;34m(self, method, url, payload, params)\u001b[0m\n\u001b[1;32m    262\u001b[0m logger\u001b[39m.\u001b[39mdebug(\u001b[39m'\u001b[39m\u001b[39mSending \u001b[39m\u001b[39m%s\u001b[39;00m\u001b[39m to \u001b[39m\u001b[39m%s\u001b[39;00m\u001b[39m with Params: \u001b[39m\u001b[39m%s\u001b[39;00m\u001b[39m Headers: \u001b[39m\u001b[39m%s\u001b[39;00m\u001b[39m and Body: \u001b[39m\u001b[39m%r\u001b[39;00m\u001b[39m \u001b[39m\u001b[39m'\u001b[39m,\n\u001b[1;32m    263\u001b[0m              method, url, args\u001b[39m.\u001b[39mget(\u001b[39m\"\u001b[39m\u001b[39mparams\u001b[39m\u001b[39m\"\u001b[39m), headers, args\u001b[39m.\u001b[39mget(\u001b[39m'\u001b[39m\u001b[39mdata\u001b[39m\u001b[39m'\u001b[39m))\n\u001b[1;32m    265\u001b[0m \u001b[39mtry\u001b[39;00m:\n\u001b[0;32m--> 266\u001b[0m     response \u001b[39m=\u001b[39m \u001b[39mself\u001b[39;49m\u001b[39m.\u001b[39;49m_session\u001b[39m.\u001b[39;49mrequest(\n\u001b[1;32m    267\u001b[0m         method, url, headers\u001b[39m=\u001b[39;49mheaders, proxies\u001b[39m=\u001b[39;49m\u001b[39mself\u001b[39;49m\u001b[39m.\u001b[39;49mproxies,\n\u001b[1;32m    268\u001b[0m         timeout\u001b[39m=\u001b[39;49m\u001b[39mself\u001b[39;49m\u001b[39m.\u001b[39;49mrequests_timeout, \u001b[39m*\u001b[39;49m\u001b[39m*\u001b[39;49margs\n\u001b[1;32m    269\u001b[0m     )\n\u001b[1;32m    271\u001b[0m     response\u001b[39m.\u001b[39mraise_for_status()\n\u001b[1;32m    272\u001b[0m     results \u001b[39m=\u001b[39m response\u001b[39m.\u001b[39mjson()\n",
            "File \u001b[0;32m~/Documents/Studium/application-project/application-project/lib/python3.10/site-packages/requests/sessions.py:587\u001b[0m, in \u001b[0;36mSession.request\u001b[0;34m(self, method, url, params, data, headers, cookies, files, auth, timeout, allow_redirects, proxies, hooks, stream, verify, cert, json)\u001b[0m\n\u001b[1;32m    582\u001b[0m send_kwargs \u001b[39m=\u001b[39m {\n\u001b[1;32m    583\u001b[0m     \u001b[39m\"\u001b[39m\u001b[39mtimeout\u001b[39m\u001b[39m\"\u001b[39m: timeout,\n\u001b[1;32m    584\u001b[0m     \u001b[39m\"\u001b[39m\u001b[39mallow_redirects\u001b[39m\u001b[39m\"\u001b[39m: allow_redirects,\n\u001b[1;32m    585\u001b[0m }\n\u001b[1;32m    586\u001b[0m send_kwargs\u001b[39m.\u001b[39mupdate(settings)\n\u001b[0;32m--> 587\u001b[0m resp \u001b[39m=\u001b[39m \u001b[39mself\u001b[39;49m\u001b[39m.\u001b[39;49msend(prep, \u001b[39m*\u001b[39;49m\u001b[39m*\u001b[39;49msend_kwargs)\n\u001b[1;32m    589\u001b[0m \u001b[39mreturn\u001b[39;00m resp\n",
            "File \u001b[0;32m~/Documents/Studium/application-project/application-project/lib/python3.10/site-packages/requests/sessions.py:701\u001b[0m, in \u001b[0;36mSession.send\u001b[0;34m(self, request, **kwargs)\u001b[0m\n\u001b[1;32m    698\u001b[0m start \u001b[39m=\u001b[39m preferred_clock()\n\u001b[1;32m    700\u001b[0m \u001b[39m# Send the request\u001b[39;00m\n\u001b[0;32m--> 701\u001b[0m r \u001b[39m=\u001b[39m adapter\u001b[39m.\u001b[39;49msend(request, \u001b[39m*\u001b[39;49m\u001b[39m*\u001b[39;49mkwargs)\n\u001b[1;32m    703\u001b[0m \u001b[39m# Total elapsed time of the request (approximately)\u001b[39;00m\n\u001b[1;32m    704\u001b[0m elapsed \u001b[39m=\u001b[39m preferred_clock() \u001b[39m-\u001b[39m start\n",
            "File \u001b[0;32m~/Documents/Studium/application-project/application-project/lib/python3.10/site-packages/requests/adapters.py:489\u001b[0m, in \u001b[0;36mHTTPAdapter.send\u001b[0;34m(self, request, stream, timeout, verify, cert, proxies)\u001b[0m\n\u001b[1;32m    487\u001b[0m \u001b[39mtry\u001b[39;00m:\n\u001b[1;32m    488\u001b[0m     \u001b[39mif\u001b[39;00m \u001b[39mnot\u001b[39;00m chunked:\n\u001b[0;32m--> 489\u001b[0m         resp \u001b[39m=\u001b[39m conn\u001b[39m.\u001b[39;49murlopen(\n\u001b[1;32m    490\u001b[0m             method\u001b[39m=\u001b[39;49mrequest\u001b[39m.\u001b[39;49mmethod,\n\u001b[1;32m    491\u001b[0m             url\u001b[39m=\u001b[39;49murl,\n\u001b[1;32m    492\u001b[0m             body\u001b[39m=\u001b[39;49mrequest\u001b[39m.\u001b[39;49mbody,\n\u001b[1;32m    493\u001b[0m             headers\u001b[39m=\u001b[39;49mrequest\u001b[39m.\u001b[39;49mheaders,\n\u001b[1;32m    494\u001b[0m             redirect\u001b[39m=\u001b[39;49m\u001b[39mFalse\u001b[39;49;00m,\n\u001b[1;32m    495\u001b[0m             assert_same_host\u001b[39m=\u001b[39;49m\u001b[39mFalse\u001b[39;49;00m,\n\u001b[1;32m    496\u001b[0m             preload_content\u001b[39m=\u001b[39;49m\u001b[39mFalse\u001b[39;49;00m,\n\u001b[1;32m    497\u001b[0m             decode_content\u001b[39m=\u001b[39;49m\u001b[39mFalse\u001b[39;49;00m,\n\u001b[1;32m    498\u001b[0m             retries\u001b[39m=\u001b[39;49m\u001b[39mself\u001b[39;49m\u001b[39m.\u001b[39;49mmax_retries,\n\u001b[1;32m    499\u001b[0m             timeout\u001b[39m=\u001b[39;49mtimeout,\n\u001b[1;32m    500\u001b[0m         )\n\u001b[1;32m    502\u001b[0m     \u001b[39m# Send the request.\u001b[39;00m\n\u001b[1;32m    503\u001b[0m     \u001b[39melse\u001b[39;00m:\n\u001b[1;32m    504\u001b[0m         \u001b[39mif\u001b[39;00m \u001b[39mhasattr\u001b[39m(conn, \u001b[39m\"\u001b[39m\u001b[39mproxy_pool\u001b[39m\u001b[39m\"\u001b[39m):\n",
            "File \u001b[0;32m~/Documents/Studium/application-project/application-project/lib/python3.10/site-packages/urllib3/connectionpool.py:703\u001b[0m, in \u001b[0;36mHTTPConnectionPool.urlopen\u001b[0;34m(self, method, url, body, headers, retries, redirect, assert_same_host, timeout, pool_timeout, release_conn, chunked, body_pos, **response_kw)\u001b[0m\n\u001b[1;32m    700\u001b[0m     \u001b[39mself\u001b[39m\u001b[39m.\u001b[39m_prepare_proxy(conn)\n\u001b[1;32m    702\u001b[0m \u001b[39m# Make the request on the httplib connection object.\u001b[39;00m\n\u001b[0;32m--> 703\u001b[0m httplib_response \u001b[39m=\u001b[39m \u001b[39mself\u001b[39;49m\u001b[39m.\u001b[39;49m_make_request(\n\u001b[1;32m    704\u001b[0m     conn,\n\u001b[1;32m    705\u001b[0m     method,\n\u001b[1;32m    706\u001b[0m     url,\n\u001b[1;32m    707\u001b[0m     timeout\u001b[39m=\u001b[39;49mtimeout_obj,\n\u001b[1;32m    708\u001b[0m     body\u001b[39m=\u001b[39;49mbody,\n\u001b[1;32m    709\u001b[0m     headers\u001b[39m=\u001b[39;49mheaders,\n\u001b[1;32m    710\u001b[0m     chunked\u001b[39m=\u001b[39;49mchunked,\n\u001b[1;32m    711\u001b[0m )\n\u001b[1;32m    713\u001b[0m \u001b[39m# If we're going to release the connection in ``finally:``, then\u001b[39;00m\n\u001b[1;32m    714\u001b[0m \u001b[39m# the response doesn't need to know about the connection. Otherwise\u001b[39;00m\n\u001b[1;32m    715\u001b[0m \u001b[39m# it will also try to release it and we'll have a double-release\u001b[39;00m\n\u001b[1;32m    716\u001b[0m \u001b[39m# mess.\u001b[39;00m\n\u001b[1;32m    717\u001b[0m response_conn \u001b[39m=\u001b[39m conn \u001b[39mif\u001b[39;00m \u001b[39mnot\u001b[39;00m release_conn \u001b[39melse\u001b[39;00m \u001b[39mNone\u001b[39;00m\n",
            "File \u001b[0;32m~/Documents/Studium/application-project/application-project/lib/python3.10/site-packages/urllib3/connectionpool.py:449\u001b[0m, in \u001b[0;36mHTTPConnectionPool._make_request\u001b[0;34m(self, conn, method, url, timeout, chunked, **httplib_request_kw)\u001b[0m\n\u001b[1;32m    444\u001b[0m             httplib_response \u001b[39m=\u001b[39m conn\u001b[39m.\u001b[39mgetresponse()\n\u001b[1;32m    445\u001b[0m         \u001b[39mexcept\u001b[39;00m \u001b[39mBaseException\u001b[39;00m \u001b[39mas\u001b[39;00m e:\n\u001b[1;32m    446\u001b[0m             \u001b[39m# Remove the TypeError from the exception chain in\u001b[39;00m\n\u001b[1;32m    447\u001b[0m             \u001b[39m# Python 3 (including for exceptions like SystemExit).\u001b[39;00m\n\u001b[1;32m    448\u001b[0m             \u001b[39m# Otherwise it looks like a bug in the code.\u001b[39;00m\n\u001b[0;32m--> 449\u001b[0m             six\u001b[39m.\u001b[39;49mraise_from(e, \u001b[39mNone\u001b[39;49;00m)\n\u001b[1;32m    450\u001b[0m \u001b[39mexcept\u001b[39;00m (SocketTimeout, BaseSSLError, SocketError) \u001b[39mas\u001b[39;00m e:\n\u001b[1;32m    451\u001b[0m     \u001b[39mself\u001b[39m\u001b[39m.\u001b[39m_raise_timeout(err\u001b[39m=\u001b[39me, url\u001b[39m=\u001b[39murl, timeout_value\u001b[39m=\u001b[39mread_timeout)\n",
            "File \u001b[0;32m<string>:3\u001b[0m, in \u001b[0;36mraise_from\u001b[0;34m(value, from_value)\u001b[0m\n",
            "File \u001b[0;32m~/Documents/Studium/application-project/application-project/lib/python3.10/site-packages/urllib3/connectionpool.py:444\u001b[0m, in \u001b[0;36mHTTPConnectionPool._make_request\u001b[0;34m(self, conn, method, url, timeout, chunked, **httplib_request_kw)\u001b[0m\n\u001b[1;32m    441\u001b[0m \u001b[39mexcept\u001b[39;00m \u001b[39mTypeError\u001b[39;00m:\n\u001b[1;32m    442\u001b[0m     \u001b[39m# Python 3\u001b[39;00m\n\u001b[1;32m    443\u001b[0m     \u001b[39mtry\u001b[39;00m:\n\u001b[0;32m--> 444\u001b[0m         httplib_response \u001b[39m=\u001b[39m conn\u001b[39m.\u001b[39;49mgetresponse()\n\u001b[1;32m    445\u001b[0m     \u001b[39mexcept\u001b[39;00m \u001b[39mBaseException\u001b[39;00m \u001b[39mas\u001b[39;00m e:\n\u001b[1;32m    446\u001b[0m         \u001b[39m# Remove the TypeError from the exception chain in\u001b[39;00m\n\u001b[1;32m    447\u001b[0m         \u001b[39m# Python 3 (including for exceptions like SystemExit).\u001b[39;00m\n\u001b[1;32m    448\u001b[0m         \u001b[39m# Otherwise it looks like a bug in the code.\u001b[39;00m\n\u001b[1;32m    449\u001b[0m         six\u001b[39m.\u001b[39mraise_from(e, \u001b[39mNone\u001b[39;00m)\n",
            "File \u001b[0;32m/opt/homebrew/Cellar/python@3.10/3.10.12_1/Frameworks/Python.framework/Versions/3.10/lib/python3.10/http/client.py:1375\u001b[0m, in \u001b[0;36mHTTPConnection.getresponse\u001b[0;34m(self)\u001b[0m\n\u001b[1;32m   1373\u001b[0m \u001b[39mtry\u001b[39;00m:\n\u001b[1;32m   1374\u001b[0m     \u001b[39mtry\u001b[39;00m:\n\u001b[0;32m-> 1375\u001b[0m         response\u001b[39m.\u001b[39;49mbegin()\n\u001b[1;32m   1376\u001b[0m     \u001b[39mexcept\u001b[39;00m \u001b[39mConnectionError\u001b[39;00m:\n\u001b[1;32m   1377\u001b[0m         \u001b[39mself\u001b[39m\u001b[39m.\u001b[39mclose()\n",
            "File \u001b[0;32m/opt/homebrew/Cellar/python@3.10/3.10.12_1/Frameworks/Python.framework/Versions/3.10/lib/python3.10/http/client.py:318\u001b[0m, in \u001b[0;36mHTTPResponse.begin\u001b[0;34m(self)\u001b[0m\n\u001b[1;32m    316\u001b[0m \u001b[39m# read until we get a non-100 response\u001b[39;00m\n\u001b[1;32m    317\u001b[0m \u001b[39mwhile\u001b[39;00m \u001b[39mTrue\u001b[39;00m:\n\u001b[0;32m--> 318\u001b[0m     version, status, reason \u001b[39m=\u001b[39m \u001b[39mself\u001b[39;49m\u001b[39m.\u001b[39;49m_read_status()\n\u001b[1;32m    319\u001b[0m     \u001b[39mif\u001b[39;00m status \u001b[39m!=\u001b[39m CONTINUE:\n\u001b[1;32m    320\u001b[0m         \u001b[39mbreak\u001b[39;00m\n",
            "File \u001b[0;32m/opt/homebrew/Cellar/python@3.10/3.10.12_1/Frameworks/Python.framework/Versions/3.10/lib/python3.10/http/client.py:279\u001b[0m, in \u001b[0;36mHTTPResponse._read_status\u001b[0;34m(self)\u001b[0m\n\u001b[1;32m    278\u001b[0m \u001b[39mdef\u001b[39;00m \u001b[39m_read_status\u001b[39m(\u001b[39mself\u001b[39m):\n\u001b[0;32m--> 279\u001b[0m     line \u001b[39m=\u001b[39m \u001b[39mstr\u001b[39m(\u001b[39mself\u001b[39;49m\u001b[39m.\u001b[39;49mfp\u001b[39m.\u001b[39;49mreadline(_MAXLINE \u001b[39m+\u001b[39;49m \u001b[39m1\u001b[39;49m), \u001b[39m\"\u001b[39m\u001b[39miso-8859-1\u001b[39m\u001b[39m\"\u001b[39m)\n\u001b[1;32m    280\u001b[0m     \u001b[39mif\u001b[39;00m \u001b[39mlen\u001b[39m(line) \u001b[39m>\u001b[39m _MAXLINE:\n\u001b[1;32m    281\u001b[0m         \u001b[39mraise\u001b[39;00m LineTooLong(\u001b[39m\"\u001b[39m\u001b[39mstatus line\u001b[39m\u001b[39m\"\u001b[39m)\n",
            "File \u001b[0;32m/opt/homebrew/Cellar/python@3.10/3.10.12_1/Frameworks/Python.framework/Versions/3.10/lib/python3.10/socket.py:705\u001b[0m, in \u001b[0;36mSocketIO.readinto\u001b[0;34m(self, b)\u001b[0m\n\u001b[1;32m    703\u001b[0m \u001b[39mwhile\u001b[39;00m \u001b[39mTrue\u001b[39;00m:\n\u001b[1;32m    704\u001b[0m     \u001b[39mtry\u001b[39;00m:\n\u001b[0;32m--> 705\u001b[0m         \u001b[39mreturn\u001b[39;00m \u001b[39mself\u001b[39;49m\u001b[39m.\u001b[39;49m_sock\u001b[39m.\u001b[39;49mrecv_into(b)\n\u001b[1;32m    706\u001b[0m     \u001b[39mexcept\u001b[39;00m timeout:\n\u001b[1;32m    707\u001b[0m         \u001b[39mself\u001b[39m\u001b[39m.\u001b[39m_timeout_occurred \u001b[39m=\u001b[39m \u001b[39mTrue\u001b[39;00m\n",
            "File \u001b[0;32m/opt/homebrew/Cellar/python@3.10/3.10.12_1/Frameworks/Python.framework/Versions/3.10/lib/python3.10/ssl.py:1274\u001b[0m, in \u001b[0;36mSSLSocket.recv_into\u001b[0;34m(self, buffer, nbytes, flags)\u001b[0m\n\u001b[1;32m   1270\u001b[0m     \u001b[39mif\u001b[39;00m flags \u001b[39m!=\u001b[39m \u001b[39m0\u001b[39m:\n\u001b[1;32m   1271\u001b[0m         \u001b[39mraise\u001b[39;00m \u001b[39mValueError\u001b[39;00m(\n\u001b[1;32m   1272\u001b[0m           \u001b[39m\"\u001b[39m\u001b[39mnon-zero flags not allowed in calls to recv_into() on \u001b[39m\u001b[39m%s\u001b[39;00m\u001b[39m\"\u001b[39m \u001b[39m%\u001b[39m\n\u001b[1;32m   1273\u001b[0m           \u001b[39mself\u001b[39m\u001b[39m.\u001b[39m\u001b[39m__class__\u001b[39m)\n\u001b[0;32m-> 1274\u001b[0m     \u001b[39mreturn\u001b[39;00m \u001b[39mself\u001b[39;49m\u001b[39m.\u001b[39;49mread(nbytes, buffer)\n\u001b[1;32m   1275\u001b[0m \u001b[39melse\u001b[39;00m:\n\u001b[1;32m   1276\u001b[0m     \u001b[39mreturn\u001b[39;00m \u001b[39msuper\u001b[39m()\u001b[39m.\u001b[39mrecv_into(buffer, nbytes, flags)\n",
            "File \u001b[0;32m/opt/homebrew/Cellar/python@3.10/3.10.12_1/Frameworks/Python.framework/Versions/3.10/lib/python3.10/ssl.py:1130\u001b[0m, in \u001b[0;36mSSLSocket.read\u001b[0;34m(self, len, buffer)\u001b[0m\n\u001b[1;32m   1128\u001b[0m \u001b[39mtry\u001b[39;00m:\n\u001b[1;32m   1129\u001b[0m     \u001b[39mif\u001b[39;00m buffer \u001b[39mis\u001b[39;00m \u001b[39mnot\u001b[39;00m \u001b[39mNone\u001b[39;00m:\n\u001b[0;32m-> 1130\u001b[0m         \u001b[39mreturn\u001b[39;00m \u001b[39mself\u001b[39;49m\u001b[39m.\u001b[39;49m_sslobj\u001b[39m.\u001b[39;49mread(\u001b[39mlen\u001b[39;49m, buffer)\n\u001b[1;32m   1131\u001b[0m     \u001b[39melse\u001b[39;00m:\n\u001b[1;32m   1132\u001b[0m         \u001b[39mreturn\u001b[39;00m \u001b[39mself\u001b[39m\u001b[39m.\u001b[39m_sslobj\u001b[39m.\u001b[39mread(\u001b[39mlen\u001b[39m)\n",
            "\u001b[0;31mKeyboardInterrupt\u001b[0m: "
          ]
        }
      ],
      "source": [
        "test_genre_query(\"Boney M.\")"
      ]
    },
    {
      "cell_type": "markdown",
      "id": "_A04urlcG2EQ",
      "metadata": {
        "id": "_A04urlcG2EQ"
      },
      "source": [
        "Es existieren keine Songs für Boney M. wenn ein Genre in der Abfrage spezifiziert wird. Eventuell sind die Genres das Problem für die fehlenden Daten."
      ]
    },
    {
      "cell_type": "code",
      "execution_count": null,
      "id": "AbsKxxxYHRUi",
      "metadata": {
        "colab": {
          "base_uri": "https://localhost:8080/",
          "height": 563
        },
        "id": "AbsKxxxYHRUi",
        "outputId": "77a97477-6034-4a79-dbef-b47fc116a5c5"
      },
      "outputs": [
        {
          "data": {
            "text/html": [
              "\n",
              "  <div id=\"df-d9605fb7-9f73-4b12-bf14-970ec6f17723\" class=\"colab-df-container\">\n",
              "    <div>\n",
              "<style scoped>\n",
              "    .dataframe tbody tr th:only-of-type {\n",
              "        vertical-align: middle;\n",
              "    }\n",
              "\n",
              "    .dataframe tbody tr th {\n",
              "        vertical-align: top;\n",
              "    }\n",
              "\n",
              "    .dataframe thead th {\n",
              "        text-align: right;\n",
              "    }\n",
              "</style>\n",
              "<table border=\"1\" class=\"dataframe\">\n",
              "  <thead>\n",
              "    <tr style=\"text-align: right;\">\n",
              "      <th></th>\n",
              "      <th>isrc</th>\n",
              "      <th>genres</th>\n",
              "      <th>name</th>\n",
              "      <th>artists</th>\n",
              "      <th>album</th>\n",
              "      <th>release_date</th>\n",
              "      <th>release_date_precision</th>\n",
              "      <th>uri</th>\n",
              "      <th>spotify_id</th>\n",
              "      <th>chart_power</th>\n",
              "      <th>...</th>\n",
              "      <th>acousticness</th>\n",
              "      <th>instrumentalness</th>\n",
              "      <th>liveness</th>\n",
              "      <th>valence</th>\n",
              "      <th>tempo</th>\n",
              "      <th>duration_ms</th>\n",
              "      <th>time_signature</th>\n",
              "      <th>year</th>\n",
              "      <th>country_code</th>\n",
              "      <th>country</th>\n",
              "    </tr>\n",
              "  </thead>\n",
              "  <tbody>\n",
              "    <tr>\n",
              "      <th>132734</th>\n",
              "      <td>GBAAM0201110</td>\n",
              "      <td>['rock']</td>\n",
              "      <td>every breath you take</td>\n",
              "      <td>the police</td>\n",
              "      <td>Synchronicity (Remastered 2003)</td>\n",
              "      <td>1983-06-17</td>\n",
              "      <td>day</td>\n",
              "      <td>spotify:track:1JSTJqkT5qHq8MDJnJbRE1</td>\n",
              "      <td>1JSTJqkT5qHq8MDJnJbRE1</td>\n",
              "      <td>1419.0</td>\n",
              "      <td>...</td>\n",
              "      <td>0.5430</td>\n",
              "      <td>0.002940</td>\n",
              "      <td>0.0714</td>\n",
              "      <td>0.7400</td>\n",
              "      <td>117.401</td>\n",
              "      <td>253920</td>\n",
              "      <td>4</td>\n",
              "      <td>1983</td>\n",
              "      <td>GB</td>\n",
              "      <td>United Kingdom</td>\n",
              "    </tr>\n",
              "    <tr>\n",
              "      <th>144156</th>\n",
              "      <td>GBALX8300190</td>\n",
              "      <td>['piano', 'rock']</td>\n",
              "      <td>i'm still standing</td>\n",
              "      <td>elton john</td>\n",
              "      <td>Too Low For Zero</td>\n",
              "      <td>1983-05-30</td>\n",
              "      <td>day</td>\n",
              "      <td>spotify:track:1jDJFeK9x3OZboIAHsY9k2</td>\n",
              "      <td>1jDJFeK9x3OZboIAHsY9k2</td>\n",
              "      <td>1185.0</td>\n",
              "      <td>...</td>\n",
              "      <td>0.3560</td>\n",
              "      <td>0.121000</td>\n",
              "      <td>0.1400</td>\n",
              "      <td>0.7720</td>\n",
              "      <td>176.808</td>\n",
              "      <td>183440</td>\n",
              "      <td>4</td>\n",
              "      <td>1983</td>\n",
              "      <td>GB</td>\n",
              "      <td>United Kingdom</td>\n",
              "    </tr>\n",
              "    <tr>\n",
              "      <th>368082</th>\n",
              "      <td>USPR38619998</td>\n",
              "      <td>['metal', 'rock']</td>\n",
              "      <td>livin' on a prayer</td>\n",
              "      <td>bon jovi</td>\n",
              "      <td>Slippery When Wet</td>\n",
              "      <td>1986-08-16</td>\n",
              "      <td>day</td>\n",
              "      <td>spotify:track:37ZJ0p5Jm13JPevGcx4SkF</td>\n",
              "      <td>37ZJ0p5Jm13JPevGcx4SkF</td>\n",
              "      <td>1112.0</td>\n",
              "      <td>...</td>\n",
              "      <td>0.0778</td>\n",
              "      <td>0.000214</td>\n",
              "      <td>0.2940</td>\n",
              "      <td>0.7950</td>\n",
              "      <td>122.511</td>\n",
              "      <td>249293</td>\n",
              "      <td>4</td>\n",
              "      <td>1986</td>\n",
              "      <td>US</td>\n",
              "      <td>United States</td>\n",
              "    </tr>\n",
              "    <tr>\n",
              "      <th>169272</th>\n",
              "      <td>GBCNR8500002</td>\n",
              "      <td>['piano', 'pop', 'r-n-b', 'rock', 'singer-song...</td>\n",
              "      <td>running up that hill (a deal with god)</td>\n",
              "      <td>kate bush</td>\n",
              "      <td>Hounds Of Love</td>\n",
              "      <td>1985-09-16</td>\n",
              "      <td>day</td>\n",
              "      <td>spotify:track:1PtQJZVZIdWIYdARpZRDFO</td>\n",
              "      <td>1PtQJZVZIdWIYdARpZRDFO</td>\n",
              "      <td>NaN</td>\n",
              "      <td>...</td>\n",
              "      <td>0.7190</td>\n",
              "      <td>0.003080</td>\n",
              "      <td>0.0604</td>\n",
              "      <td>0.1940</td>\n",
              "      <td>108.376</td>\n",
              "      <td>298933</td>\n",
              "      <td>4</td>\n",
              "      <td>1985</td>\n",
              "      <td>GB</td>\n",
              "      <td>United Kingdom</td>\n",
              "    </tr>\n",
              "    <tr>\n",
              "      <th>6804</th>\n",
              "      <td>AUAP08000046</td>\n",
              "      <td>['hard-rock', 'rock']</td>\n",
              "      <td>back in black</td>\n",
              "      <td>ac/dc</td>\n",
              "      <td>Back In Black</td>\n",
              "      <td>1980-07-25</td>\n",
              "      <td>day</td>\n",
              "      <td>spotify:track:08mG3Y1vljYA6bvDt4Wqkj</td>\n",
              "      <td>08mG3Y1vljYA6bvDt4Wqkj</td>\n",
              "      <td>NaN</td>\n",
              "      <td>...</td>\n",
              "      <td>0.0110</td>\n",
              "      <td>0.009650</td>\n",
              "      <td>0.0828</td>\n",
              "      <td>0.7630</td>\n",
              "      <td>188.386</td>\n",
              "      <td>255493</td>\n",
              "      <td>4</td>\n",
              "      <td>1980</td>\n",
              "      <td>AU</td>\n",
              "      <td>Australia</td>\n",
              "    </tr>\n",
              "    <tr>\n",
              "      <th>...</th>\n",
              "      <td>...</td>\n",
              "      <td>...</td>\n",
              "      <td>...</td>\n",
              "      <td>...</td>\n",
              "      <td>...</td>\n",
              "      <td>...</td>\n",
              "      <td>...</td>\n",
              "      <td>...</td>\n",
              "      <td>...</td>\n",
              "      <td>...</td>\n",
              "      <td>...</td>\n",
              "      <td>...</td>\n",
              "      <td>...</td>\n",
              "      <td>...</td>\n",
              "      <td>...</td>\n",
              "      <td>...</td>\n",
              "      <td>...</td>\n",
              "      <td>...</td>\n",
              "      <td>...</td>\n",
              "      <td>...</td>\n",
              "      <td>...</td>\n",
              "    </tr>\n",
              "    <tr>\n",
              "      <th>174547</th>\n",
              "      <td>GBF078300092</td>\n",
              "      <td>['classical']</td>\n",
              "      <td>serenade in g, k.525 \"eine kleine nachtmusik\" ...</td>\n",
              "      <td>wolfgang amadeus mozart,salomon quartet,barry guy</td>\n",
              "      <td>Mozart: Eine kleine Nachtmusik; Notturno; Sere...</td>\n",
              "      <td>1984-06-03</td>\n",
              "      <td>day</td>\n",
              "      <td>spotify:track:1Sbp0G9AUAQdhXinEiDWsl</td>\n",
              "      <td>1Sbp0G9AUAQdhXinEiDWsl</td>\n",
              "      <td>NaN</td>\n",
              "      <td>...</td>\n",
              "      <td>0.5170</td>\n",
              "      <td>0.000000</td>\n",
              "      <td>0.2780</td>\n",
              "      <td>0.1510</td>\n",
              "      <td>124.043</td>\n",
              "      <td>241373</td>\n",
              "      <td>3</td>\n",
              "      <td>1984</td>\n",
              "      <td>GB</td>\n",
              "      <td>United Kingdom</td>\n",
              "    </tr>\n",
              "    <tr>\n",
              "      <th>174528</th>\n",
              "      <td>GBF078300017</td>\n",
              "      <td>['classical']</td>\n",
              "      <td>alexander nevsky, op. 78: 7. alexander's entry...</td>\n",
              "      <td>sergei prokofiev,the cleveland orchestra choru...</td>\n",
              "      <td>Prokofiev: Alexander Nevsky</td>\n",
              "      <td>1984-01-01</td>\n",
              "      <td>day</td>\n",
              "      <td>spotify:track:3EZH0BH50us07EUPKzhw3u</td>\n",
              "      <td>3EZH0BH50us07EUPKzhw3u</td>\n",
              "      <td>NaN</td>\n",
              "      <td>...</td>\n",
              "      <td>0.9160</td>\n",
              "      <td>0.003540</td>\n",
              "      <td>0.1860</td>\n",
              "      <td>0.1460</td>\n",
              "      <td>145.809</td>\n",
              "      <td>277053</td>\n",
              "      <td>4</td>\n",
              "      <td>1984</td>\n",
              "      <td>GB</td>\n",
              "      <td>United Kingdom</td>\n",
              "    </tr>\n",
              "    <tr>\n",
              "      <th>174527</th>\n",
              "      <td>GBF078300016</td>\n",
              "      <td>['classical']</td>\n",
              "      <td>alexander nevsky, op. 78: 6. field of the dead</td>\n",
              "      <td>sergei prokofiev,irina arkhipova,cleveland orc...</td>\n",
              "      <td>Prokofiev: Alexander Nevsky</td>\n",
              "      <td>1984-01-01</td>\n",
              "      <td>day</td>\n",
              "      <td>spotify:track:4EXE7ZRcKVwD1xxNZLEOPj</td>\n",
              "      <td>4EXE7ZRcKVwD1xxNZLEOPj</td>\n",
              "      <td>NaN</td>\n",
              "      <td>...</td>\n",
              "      <td>0.9160</td>\n",
              "      <td>0.004890</td>\n",
              "      <td>0.1180</td>\n",
              "      <td>0.0399</td>\n",
              "      <td>83.968</td>\n",
              "      <td>386533</td>\n",
              "      <td>4</td>\n",
              "      <td>1984</td>\n",
              "      <td>GB</td>\n",
              "      <td>United Kingdom</td>\n",
              "    </tr>\n",
              "    <tr>\n",
              "      <th>174526</th>\n",
              "      <td>GBF078300015</td>\n",
              "      <td>['classical']</td>\n",
              "      <td>alexander nevsky, op. 78: 5. the battle on the...</td>\n",
              "      <td>sergei prokofiev,the cleveland orchestra choru...</td>\n",
              "      <td>Prokofiev: Alexander Nevsky</td>\n",
              "      <td>1984-01-01</td>\n",
              "      <td>day</td>\n",
              "      <td>spotify:track:3jXNm9r9WAwj8qJvBKoXg1</td>\n",
              "      <td>3jXNm9r9WAwj8qJvBKoXg1</td>\n",
              "      <td>NaN</td>\n",
              "      <td>...</td>\n",
              "      <td>0.6560</td>\n",
              "      <td>0.787000</td>\n",
              "      <td>0.1470</td>\n",
              "      <td>0.0637</td>\n",
              "      <td>100.909</td>\n",
              "      <td>801840</td>\n",
              "      <td>4</td>\n",
              "      <td>1984</td>\n",
              "      <td>GB</td>\n",
              "      <td>United Kingdom</td>\n",
              "    </tr>\n",
              "    <tr>\n",
              "      <th>416153</th>\n",
              "      <td>ved049201680</td>\n",
              "      <td>['folk', 'pop', 'rock']</td>\n",
              "      <td>la boda del raton perez</td>\n",
              "      <td>serenata guayanesa</td>\n",
              "      <td>Rumbita Mix</td>\n",
              "      <td>1989-09-21</td>\n",
              "      <td>day</td>\n",
              "      <td>spotify:track:0RU3CdU5lfgvktiPg2JxaX</td>\n",
              "      <td>0RU3CdU5lfgvktiPg2JxaX</td>\n",
              "      <td>NaN</td>\n",
              "      <td>...</td>\n",
              "      <td>0.9210</td>\n",
              "      <td>0.000000</td>\n",
              "      <td>0.0660</td>\n",
              "      <td>0.9650</td>\n",
              "      <td>165.016</td>\n",
              "      <td>188565</td>\n",
              "      <td>3</td>\n",
              "      <td>1989</td>\n",
              "      <td>VE</td>\n",
              "      <td>Venezuela</td>\n",
              "    </tr>\n",
              "  </tbody>\n",
              "</table>\n",
              "<p>416154 rows × 27 columns</p>\n",
              "</div>\n",
              "    <div class=\"colab-df-buttons\">\n",
              "\n",
              "  <div class=\"colab-df-container\">\n",
              "    <button class=\"colab-df-convert\" onclick=\"convertToInteractive('df-d9605fb7-9f73-4b12-bf14-970ec6f17723')\"\n",
              "            title=\"Convert this dataframe to an interactive table.\"\n",
              "            style=\"display:none;\">\n",
              "\n",
              "  <svg xmlns=\"http://www.w3.org/2000/svg\" height=\"24px\" viewBox=\"0 -960 960 960\">\n",
              "    <path d=\"M120-120v-720h720v720H120Zm60-500h600v-160H180v160Zm220 220h160v-160H400v160Zm0 220h160v-160H400v160ZM180-400h160v-160H180v160Zm440 0h160v-160H620v160ZM180-180h160v-160H180v160Zm440 0h160v-160H620v160Z\"/>\n",
              "  </svg>\n",
              "    </button>\n",
              "\n",
              "  <style>\n",
              "    .colab-df-container {\n",
              "      display:flex;\n",
              "      gap: 12px;\n",
              "    }\n",
              "\n",
              "    .colab-df-convert {\n",
              "      background-color: #E8F0FE;\n",
              "      border: none;\n",
              "      border-radius: 50%;\n",
              "      cursor: pointer;\n",
              "      display: none;\n",
              "      fill: #1967D2;\n",
              "      height: 32px;\n",
              "      padding: 0 0 0 0;\n",
              "      width: 32px;\n",
              "    }\n",
              "\n",
              "    .colab-df-convert:hover {\n",
              "      background-color: #E2EBFA;\n",
              "      box-shadow: 0px 1px 2px rgba(60, 64, 67, 0.3), 0px 1px 3px 1px rgba(60, 64, 67, 0.15);\n",
              "      fill: #174EA6;\n",
              "    }\n",
              "\n",
              "    .colab-df-buttons div {\n",
              "      margin-bottom: 4px;\n",
              "    }\n",
              "\n",
              "    [theme=dark] .colab-df-convert {\n",
              "      background-color: #3B4455;\n",
              "      fill: #D2E3FC;\n",
              "    }\n",
              "\n",
              "    [theme=dark] .colab-df-convert:hover {\n",
              "      background-color: #434B5C;\n",
              "      box-shadow: 0px 1px 3px 1px rgba(0, 0, 0, 0.15);\n",
              "      filter: drop-shadow(0px 1px 2px rgba(0, 0, 0, 0.3));\n",
              "      fill: #FFFFFF;\n",
              "    }\n",
              "  </style>\n",
              "\n",
              "    <script>\n",
              "      const buttonEl =\n",
              "        document.querySelector('#df-d9605fb7-9f73-4b12-bf14-970ec6f17723 button.colab-df-convert');\n",
              "      buttonEl.style.display =\n",
              "        google.colab.kernel.accessAllowed ? 'block' : 'none';\n",
              "\n",
              "      async function convertToInteractive(key) {\n",
              "        const element = document.querySelector('#df-d9605fb7-9f73-4b12-bf14-970ec6f17723');\n",
              "        const dataTable =\n",
              "          await google.colab.kernel.invokeFunction('convertToInteractive',\n",
              "                                                    [key], {});\n",
              "        if (!dataTable) return;\n",
              "\n",
              "        const docLinkHtml = 'Like what you see? Visit the ' +\n",
              "          '<a target=\"_blank\" href=https://colab.research.google.com/notebooks/data_table.ipynb>data table notebook</a>'\n",
              "          + ' to learn more about interactive tables.';\n",
              "        element.innerHTML = '';\n",
              "        dataTable['output_type'] = 'display_data';\n",
              "        await google.colab.output.renderOutput(dataTable, element);\n",
              "        const docLink = document.createElement('div');\n",
              "        docLink.innerHTML = docLinkHtml;\n",
              "        element.appendChild(docLink);\n",
              "      }\n",
              "    </script>\n",
              "  </div>\n",
              "\n",
              "\n",
              "<div id=\"df-57ed6a20-e07c-407c-85b5-37b87fc586e1\">\n",
              "  <button class=\"colab-df-quickchart\" onclick=\"quickchart('df-57ed6a20-e07c-407c-85b5-37b87fc586e1')\"\n",
              "            title=\"Suggest charts.\"\n",
              "            style=\"display:none;\">\n",
              "\n",
              "<svg xmlns=\"http://www.w3.org/2000/svg\" height=\"24px\"viewBox=\"0 0 24 24\"\n",
              "     width=\"24px\">\n",
              "    <g>\n",
              "        <path d=\"M19 3H5c-1.1 0-2 .9-2 2v14c0 1.1.9 2 2 2h14c1.1 0 2-.9 2-2V5c0-1.1-.9-2-2-2zM9 17H7v-7h2v7zm4 0h-2V7h2v10zm4 0h-2v-4h2v4z\"/>\n",
              "    </g>\n",
              "</svg>\n",
              "  </button>\n",
              "\n",
              "<style>\n",
              "  .colab-df-quickchart {\n",
              "    background-color: #E8F0FE;\n",
              "    border: none;\n",
              "    border-radius: 50%;\n",
              "    cursor: pointer;\n",
              "    display: none;\n",
              "    fill: #1967D2;\n",
              "    height: 32px;\n",
              "    padding: 0 0 0 0;\n",
              "    width: 32px;\n",
              "  }\n",
              "\n",
              "  .colab-df-quickchart:hover {\n",
              "    background-color: #E2EBFA;\n",
              "    box-shadow: 0px 1px 2px rgba(60, 64, 67, 0.3), 0px 1px 3px 1px rgba(60, 64, 67, 0.15);\n",
              "    fill: #174EA6;\n",
              "  }\n",
              "\n",
              "  [theme=dark] .colab-df-quickchart {\n",
              "    background-color: #3B4455;\n",
              "    fill: #D2E3FC;\n",
              "  }\n",
              "\n",
              "  [theme=dark] .colab-df-quickchart:hover {\n",
              "    background-color: #434B5C;\n",
              "    box-shadow: 0px 1px 3px 1px rgba(0, 0, 0, 0.15);\n",
              "    filter: drop-shadow(0px 1px 2px rgba(0, 0, 0, 0.3));\n",
              "    fill: #FFFFFF;\n",
              "  }\n",
              "</style>\n",
              "\n",
              "  <script>\n",
              "    async function quickchart(key) {\n",
              "      const charts = await google.colab.kernel.invokeFunction(\n",
              "          'suggestCharts', [key], {});\n",
              "    }\n",
              "    (() => {\n",
              "      let quickchartButtonEl =\n",
              "        document.querySelector('#df-57ed6a20-e07c-407c-85b5-37b87fc586e1 button');\n",
              "      quickchartButtonEl.style.display =\n",
              "        google.colab.kernel.accessAllowed ? 'block' : 'none';\n",
              "    })();\n",
              "  </script>\n",
              "</div>\n",
              "    </div>\n",
              "  </div>\n"
            ],
            "text/plain": [
              "                isrc                                             genres  \\\n",
              "132734  GBAAM0201110                                           ['rock']   \n",
              "144156  GBALX8300190                                  ['piano', 'rock']   \n",
              "368082  USPR38619998                                  ['metal', 'rock']   \n",
              "169272  GBCNR8500002  ['piano', 'pop', 'r-n-b', 'rock', 'singer-song...   \n",
              "6804    AUAP08000046                              ['hard-rock', 'rock']   \n",
              "...              ...                                                ...   \n",
              "174547  GBF078300092                                      ['classical']   \n",
              "174528  GBF078300017                                      ['classical']   \n",
              "174527  GBF078300016                                      ['classical']   \n",
              "174526  GBF078300015                                      ['classical']   \n",
              "416153  ved049201680                            ['folk', 'pop', 'rock']   \n",
              "\n",
              "                                                     name  \\\n",
              "132734                              every breath you take   \n",
              "144156                                 i'm still standing   \n",
              "368082                                 livin' on a prayer   \n",
              "169272             running up that hill (a deal with god)   \n",
              "6804                                        back in black   \n",
              "...                                                   ...   \n",
              "174547  serenade in g, k.525 \"eine kleine nachtmusik\" ...   \n",
              "174528  alexander nevsky, op. 78: 7. alexander's entry...   \n",
              "174527     alexander nevsky, op. 78: 6. field of the dead   \n",
              "174526  alexander nevsky, op. 78: 5. the battle on the...   \n",
              "416153                            la boda del raton perez   \n",
              "\n",
              "                                                  artists  \\\n",
              "132734                                         the police   \n",
              "144156                                         elton john   \n",
              "368082                                           bon jovi   \n",
              "169272                                          kate bush   \n",
              "6804                                                ac/dc   \n",
              "...                                                   ...   \n",
              "174547  wolfgang amadeus mozart,salomon quartet,barry guy   \n",
              "174528  sergei prokofiev,the cleveland orchestra choru...   \n",
              "174527  sergei prokofiev,irina arkhipova,cleveland orc...   \n",
              "174526  sergei prokofiev,the cleveland orchestra choru...   \n",
              "416153                                 serenata guayanesa   \n",
              "\n",
              "                                                    album release_date  \\\n",
              "132734                    Synchronicity (Remastered 2003)   1983-06-17   \n",
              "144156                                   Too Low For Zero   1983-05-30   \n",
              "368082                                  Slippery When Wet   1986-08-16   \n",
              "169272                                     Hounds Of Love   1985-09-16   \n",
              "6804                                        Back In Black   1980-07-25   \n",
              "...                                                   ...          ...   \n",
              "174547  Mozart: Eine kleine Nachtmusik; Notturno; Sere...   1984-06-03   \n",
              "174528                        Prokofiev: Alexander Nevsky   1984-01-01   \n",
              "174527                        Prokofiev: Alexander Nevsky   1984-01-01   \n",
              "174526                        Prokofiev: Alexander Nevsky   1984-01-01   \n",
              "416153                                        Rumbita Mix   1989-09-21   \n",
              "\n",
              "       release_date_precision                                   uri  \\\n",
              "132734                    day  spotify:track:1JSTJqkT5qHq8MDJnJbRE1   \n",
              "144156                    day  spotify:track:1jDJFeK9x3OZboIAHsY9k2   \n",
              "368082                    day  spotify:track:37ZJ0p5Jm13JPevGcx4SkF   \n",
              "169272                    day  spotify:track:1PtQJZVZIdWIYdARpZRDFO   \n",
              "6804                      day  spotify:track:08mG3Y1vljYA6bvDt4Wqkj   \n",
              "...                       ...                                   ...   \n",
              "174547                    day  spotify:track:1Sbp0G9AUAQdhXinEiDWsl   \n",
              "174528                    day  spotify:track:3EZH0BH50us07EUPKzhw3u   \n",
              "174527                    day  spotify:track:4EXE7ZRcKVwD1xxNZLEOPj   \n",
              "174526                    day  spotify:track:3jXNm9r9WAwj8qJvBKoXg1   \n",
              "416153                    day  spotify:track:0RU3CdU5lfgvktiPg2JxaX   \n",
              "\n",
              "                    spotify_id  chart_power  ...  acousticness  \\\n",
              "132734  1JSTJqkT5qHq8MDJnJbRE1       1419.0  ...        0.5430   \n",
              "144156  1jDJFeK9x3OZboIAHsY9k2       1185.0  ...        0.3560   \n",
              "368082  37ZJ0p5Jm13JPevGcx4SkF       1112.0  ...        0.0778   \n",
              "169272  1PtQJZVZIdWIYdARpZRDFO          NaN  ...        0.7190   \n",
              "6804    08mG3Y1vljYA6bvDt4Wqkj          NaN  ...        0.0110   \n",
              "...                        ...          ...  ...           ...   \n",
              "174547  1Sbp0G9AUAQdhXinEiDWsl          NaN  ...        0.5170   \n",
              "174528  3EZH0BH50us07EUPKzhw3u          NaN  ...        0.9160   \n",
              "174527  4EXE7ZRcKVwD1xxNZLEOPj          NaN  ...        0.9160   \n",
              "174526  3jXNm9r9WAwj8qJvBKoXg1          NaN  ...        0.6560   \n",
              "416153  0RU3CdU5lfgvktiPg2JxaX          NaN  ...        0.9210   \n",
              "\n",
              "        instrumentalness  liveness  valence    tempo  duration_ms  \\\n",
              "132734          0.002940    0.0714   0.7400  117.401       253920   \n",
              "144156          0.121000    0.1400   0.7720  176.808       183440   \n",
              "368082          0.000214    0.2940   0.7950  122.511       249293   \n",
              "169272          0.003080    0.0604   0.1940  108.376       298933   \n",
              "6804            0.009650    0.0828   0.7630  188.386       255493   \n",
              "...                  ...       ...      ...      ...          ...   \n",
              "174547          0.000000    0.2780   0.1510  124.043       241373   \n",
              "174528          0.003540    0.1860   0.1460  145.809       277053   \n",
              "174527          0.004890    0.1180   0.0399   83.968       386533   \n",
              "174526          0.787000    0.1470   0.0637  100.909       801840   \n",
              "416153          0.000000    0.0660   0.9650  165.016       188565   \n",
              "\n",
              "        time_signature  year  country_code         country  \n",
              "132734               4  1983            GB  United Kingdom  \n",
              "144156               4  1983            GB  United Kingdom  \n",
              "368082               4  1986            US   United States  \n",
              "169272               4  1985            GB  United Kingdom  \n",
              "6804                 4  1980            AU       Australia  \n",
              "...                ...   ...           ...             ...  \n",
              "174547               3  1984            GB  United Kingdom  \n",
              "174528               4  1984            GB  United Kingdom  \n",
              "174527               4  1984            GB  United Kingdom  \n",
              "174526               4  1984            GB  United Kingdom  \n",
              "416153               3  1989            VE       Venezuela  \n",
              "\n",
              "[416154 rows x 27 columns]"
            ]
          },
          "execution_count": 89,
          "metadata": {},
          "output_type": "execute_result"
        }
      ],
      "source": [
        "by_isrc.sort_values(\"popularity\", ascending=False)"
      ]
    },
    {
      "cell_type": "markdown",
      "id": "DqN105GjHiJ2",
      "metadata": {
        "id": "DqN105GjHiJ2"
      },
      "source": [
        "Abfrage nach dem Künstler Elton John."
      ]
    },
    {
      "cell_type": "code",
      "execution_count": null,
      "id": "R6zYNeOPHoII",
      "metadata": {
        "colab": {
          "base_uri": "https://localhost:8080/",
          "height": 591
        },
        "id": "R6zYNeOPHoII",
        "outputId": "390e2062-85fa-4f64-b7db-388ff2bf0e52"
      },
      "outputs": [
        {
          "name": "stdout",
          "output_type": "stream",
          "text": [
            "1980 piano\n",
            "1980 rock\n",
            "1981 piano\n",
            "1981 rock\n",
            "1982 piano\n",
            "1982 rock\n",
            "1983 piano\n",
            "1983 rock\n"
          ]
        },
        {
          "ename": "KeyboardInterrupt",
          "evalue": "ignored",
          "output_type": "error",
          "traceback": [
            "\u001b[0;31m---------------------------------------------------------------------------\u001b[0m",
            "\u001b[0;31mRateLimitException\u001b[0m                        Traceback (most recent call last)",
            "\u001b[0;32m/usr/local/lib/python3.10/dist-packages/ratelimit/decorators.py\u001b[0m in \u001b[0;36mwrapper\u001b[0;34m(*args, **kargs)\u001b[0m\n\u001b[1;32m    112\u001b[0m             \u001b[0;32mtry\u001b[0m\u001b[0;34m:\u001b[0m\u001b[0;34m\u001b[0m\u001b[0;34m\u001b[0m\u001b[0m\n\u001b[0;32m--> 113\u001b[0;31m                 \u001b[0;32mreturn\u001b[0m \u001b[0mfunc\u001b[0m\u001b[0;34m(\u001b[0m\u001b[0;34m*\u001b[0m\u001b[0margs\u001b[0m\u001b[0;34m,\u001b[0m \u001b[0;34m**\u001b[0m\u001b[0mkargs\u001b[0m\u001b[0;34m)\u001b[0m\u001b[0;34m\u001b[0m\u001b[0;34m\u001b[0m\u001b[0m\n\u001b[0m\u001b[1;32m    114\u001b[0m             \u001b[0;32mexcept\u001b[0m \u001b[0mRateLimitException\u001b[0m \u001b[0;32mas\u001b[0m \u001b[0mexception\u001b[0m\u001b[0;34m:\u001b[0m\u001b[0;34m\u001b[0m\u001b[0;34m\u001b[0m\u001b[0m\n",
            "\u001b[0;32m/usr/local/lib/python3.10/dist-packages/ratelimit/decorators.py\u001b[0m in \u001b[0;36mwrapper\u001b[0;34m(*args, **kargs)\u001b[0m\n\u001b[1;32m     76\u001b[0m                     \u001b[0;32mif\u001b[0m \u001b[0mself\u001b[0m\u001b[0;34m.\u001b[0m\u001b[0mraise_on_limit\u001b[0m\u001b[0;34m:\u001b[0m\u001b[0;34m\u001b[0m\u001b[0;34m\u001b[0m\u001b[0m\n\u001b[0;32m---> 77\u001b[0;31m                         \u001b[0;32mraise\u001b[0m \u001b[0mRateLimitException\u001b[0m\u001b[0;34m(\u001b[0m\u001b[0;34m'too many calls'\u001b[0m\u001b[0;34m,\u001b[0m \u001b[0mperiod_remaining\u001b[0m\u001b[0;34m)\u001b[0m\u001b[0;34m\u001b[0m\u001b[0;34m\u001b[0m\u001b[0m\n\u001b[0m\u001b[1;32m     78\u001b[0m                     \u001b[0;32mreturn\u001b[0m\u001b[0;34m\u001b[0m\u001b[0;34m\u001b[0m\u001b[0m\n",
            "\u001b[0;31mRateLimitException\u001b[0m: too many calls",
            "\nDuring handling of the above exception, another exception occurred:\n",
            "\u001b[0;31mKeyboardInterrupt\u001b[0m                         Traceback (most recent call last)",
            "\u001b[0;32m<ipython-input-29-b8f0076d97b2>\u001b[0m in \u001b[0;36m<cell line: 1>\u001b[0;34m()\u001b[0m\n\u001b[0;32m----> 1\u001b[0;31m \u001b[0mtest_genre_query\u001b[0m\u001b[0;34m(\u001b[0m\u001b[0;34m\"Elton John\"\u001b[0m\u001b[0;34m)\u001b[0m\u001b[0;34m\u001b[0m\u001b[0;34m\u001b[0m\u001b[0m\n\u001b[0m",
            "\u001b[0;32m<ipython-input-16-744d401632e8>\u001b[0m in \u001b[0;36mtest_genre_query\u001b[0;34m(artist)\u001b[0m\n\u001b[1;32m      2\u001b[0m   \u001b[0mgenres\u001b[0m \u001b[0;34m=\u001b[0m \u001b[0msp\u001b[0m\u001b[0;34m.\u001b[0m\u001b[0mrecommendation_genre_seeds\u001b[0m\u001b[0;34m(\u001b[0m\u001b[0;34m)\u001b[0m\u001b[0;34m[\u001b[0m\u001b[0;34m'genres'\u001b[0m\u001b[0;34m]\u001b[0m\u001b[0;34m\u001b[0m\u001b[0;34m\u001b[0m\u001b[0m\n\u001b[1;32m      3\u001b[0m   \u001b[0;32mfor\u001b[0m \u001b[0myear\u001b[0m \u001b[0;32min\u001b[0m \u001b[0mrange\u001b[0m\u001b[0;34m(\u001b[0m\u001b[0;36m1980\u001b[0m\u001b[0;34m,\u001b[0m \u001b[0;36m1990\u001b[0m\u001b[0;34m)\u001b[0m\u001b[0;34m:\u001b[0m\u001b[0;34m\u001b[0m\u001b[0;34m\u001b[0m\u001b[0m\n\u001b[0;32m----> 4\u001b[0;31m     \u001b[0mgenre_query\u001b[0m\u001b[0;34m(\u001b[0m\u001b[0martist\u001b[0m\u001b[0;34m,\u001b[0m \u001b[0myear\u001b[0m\u001b[0;34m,\u001b[0m \u001b[0;36m0\u001b[0m\u001b[0;34m,\u001b[0m \u001b[0mgenres\u001b[0m\u001b[0;34m)\u001b[0m\u001b[0;34m\u001b[0m\u001b[0;34m\u001b[0m\u001b[0m\n\u001b[0m",
            "\u001b[0;32m<ipython-input-15-f115b93f99bc>\u001b[0m in \u001b[0;36mgenre_query\u001b[0;34m(artist, year, offset, genres)\u001b[0m\n\u001b[1;32m      1\u001b[0m \u001b[0;32mdef\u001b[0m \u001b[0mgenre_query\u001b[0m\u001b[0;34m(\u001b[0m\u001b[0martist\u001b[0m\u001b[0;34m:\u001b[0m \u001b[0mstr\u001b[0m\u001b[0;34m,\u001b[0m \u001b[0myear\u001b[0m\u001b[0;34m:\u001b[0m \u001b[0mint\u001b[0m\u001b[0;34m,\u001b[0m \u001b[0moffset\u001b[0m\u001b[0;34m:\u001b[0m\u001b[0mint\u001b[0m\u001b[0;34m,\u001b[0m \u001b[0mgenres\u001b[0m\u001b[0;34m)\u001b[0m\u001b[0;34m:\u001b[0m\u001b[0;34m\u001b[0m\u001b[0;34m\u001b[0m\u001b[0m\n\u001b[1;32m      2\u001b[0m   \u001b[0;32mfor\u001b[0m \u001b[0mgenre\u001b[0m \u001b[0;32min\u001b[0m \u001b[0mgenres\u001b[0m\u001b[0;34m:\u001b[0m\u001b[0;34m\u001b[0m\u001b[0;34m\u001b[0m\u001b[0m\n\u001b[0;32m----> 3\u001b[0;31m     \u001b[0mcall_api\u001b[0m\u001b[0;34m(\u001b[0m\u001b[0;34m)\u001b[0m\u001b[0;34m\u001b[0m\u001b[0;34m\u001b[0m\u001b[0m\n\u001b[0m\u001b[1;32m      4\u001b[0m     \u001b[0mres\u001b[0m \u001b[0;34m=\u001b[0m \u001b[0msp\u001b[0m\u001b[0;34m.\u001b[0m\u001b[0msearch\u001b[0m\u001b[0;34m(\u001b[0m\u001b[0mq\u001b[0m\u001b[0;34m=\u001b[0m\u001b[0;34mf\"artist:{artist} year:{year} genre:{genre}\"\u001b[0m\u001b[0;34m,\u001b[0m \u001b[0mtype\u001b[0m\u001b[0;34m=\u001b[0m\u001b[0;34m\"track\"\u001b[0m\u001b[0;34m,\u001b[0m \u001b[0mlimit\u001b[0m\u001b[0;34m=\u001b[0m\u001b[0;36m50\u001b[0m\u001b[0;34m,\u001b[0m \u001b[0moffset\u001b[0m\u001b[0;34m=\u001b[0m\u001b[0moffset\u001b[0m\u001b[0;34m,\u001b[0m \u001b[0mmarket\u001b[0m\u001b[0;34m=\u001b[0m\u001b[0;34m\"DE\"\u001b[0m\u001b[0;34m)\u001b[0m\u001b[0;34m\u001b[0m\u001b[0;34m\u001b[0m\u001b[0m\n\u001b[1;32m      5\u001b[0m     \u001b[0;32mif\u001b[0m \u001b[0;34m(\u001b[0m\u001b[0mlen\u001b[0m\u001b[0;34m(\u001b[0m\u001b[0mres\u001b[0m\u001b[0;34m[\u001b[0m\u001b[0;34m\"tracks\"\u001b[0m\u001b[0;34m]\u001b[0m\u001b[0;34m[\u001b[0m\u001b[0;34m\"items\"\u001b[0m\u001b[0;34m]\u001b[0m \u001b[0;34m)\u001b[0m \u001b[0;34m>\u001b[0m \u001b[0;36m1\u001b[0m\u001b[0;34m)\u001b[0m\u001b[0;34m:\u001b[0m\u001b[0;34m\u001b[0m\u001b[0;34m\u001b[0m\u001b[0m\n",
            "\u001b[0;32m/usr/local/lib/python3.10/dist-packages/ratelimit/decorators.py\u001b[0m in \u001b[0;36mwrapper\u001b[0;34m(*args, **kargs)\u001b[0m\n\u001b[1;32m    113\u001b[0m                 \u001b[0;32mreturn\u001b[0m \u001b[0mfunc\u001b[0m\u001b[0;34m(\u001b[0m\u001b[0;34m*\u001b[0m\u001b[0margs\u001b[0m\u001b[0;34m,\u001b[0m \u001b[0;34m**\u001b[0m\u001b[0mkargs\u001b[0m\u001b[0;34m)\u001b[0m\u001b[0;34m\u001b[0m\u001b[0;34m\u001b[0m\u001b[0m\n\u001b[1;32m    114\u001b[0m             \u001b[0;32mexcept\u001b[0m \u001b[0mRateLimitException\u001b[0m \u001b[0;32mas\u001b[0m \u001b[0mexception\u001b[0m\u001b[0;34m:\u001b[0m\u001b[0;34m\u001b[0m\u001b[0;34m\u001b[0m\u001b[0m\n\u001b[0;32m--> 115\u001b[0;31m                 \u001b[0mtime\u001b[0m\u001b[0;34m.\u001b[0m\u001b[0msleep\u001b[0m\u001b[0;34m(\u001b[0m\u001b[0mexception\u001b[0m\u001b[0;34m.\u001b[0m\u001b[0mperiod_remaining\u001b[0m\u001b[0;34m)\u001b[0m\u001b[0;34m\u001b[0m\u001b[0;34m\u001b[0m\u001b[0m\n\u001b[0m\u001b[1;32m    116\u001b[0m     \u001b[0;32mreturn\u001b[0m \u001b[0mwrapper\u001b[0m\u001b[0;34m\u001b[0m\u001b[0;34m\u001b[0m\u001b[0m\n",
            "\u001b[0;31mKeyboardInterrupt\u001b[0m: "
          ]
        }
      ],
      "source": [
        "test_genre_query(\"Elton John\")"
      ]
    },
    {
      "cell_type": "markdown",
      "id": "zu6tBQXCupiJ",
      "metadata": {
        "id": "zu6tBQXCupiJ"
      },
      "source": [
        "Für Elton John existieren Genres. Im nächsten Schritt soll überprüft werden, ob die Genres auch in dem Response der Spotify API wiedergefunden wird."
      ]
    },
    {
      "cell_type": "code",
      "execution_count": null,
      "id": "0ze5iK_aWq7-",
      "metadata": {
        "colab": {
          "base_uri": "https://localhost:8080/"
        },
        "id": "0ze5iK_aWq7-",
        "outputId": "40b5676f-db1b-440d-9fb5-236ec70d3963"
      },
      "outputs": [
        {
          "name": "stdout",
          "output_type": "stream",
          "text": [
            "dict_keys(['external_urls', 'href', 'id', 'name', 'type', 'uri'])\n",
            "dict_keys(['external_urls', 'href', 'id', 'name', 'type', 'uri'])\n",
            "dict_keys(['external_urls', 'href', 'id', 'name', 'type', 'uri'])\n",
            "dict_keys(['external_urls', 'href', 'id', 'name', 'type', 'uri'])\n",
            "dict_keys(['external_urls', 'href', 'id', 'name', 'type', 'uri'])\n",
            "dict_keys(['external_urls', 'href', 'id', 'name', 'type', 'uri'])\n",
            "dict_keys(['external_urls', 'href', 'id', 'name', 'type', 'uri'])\n",
            "dict_keys(['external_urls', 'href', 'id', 'name', 'type', 'uri'])\n",
            "dict_keys(['external_urls', 'href', 'id', 'name', 'type', 'uri'])\n",
            "dict_keys(['external_urls', 'href', 'id', 'name', 'type', 'uri'])\n",
            "dict_keys(['external_urls', 'href', 'id', 'name', 'type', 'uri'])\n",
            "dict_keys(['external_urls', 'href', 'id', 'name', 'type', 'uri'])\n",
            "dict_keys(['external_urls', 'href', 'id', 'name', 'type', 'uri'])\n",
            "dict_keys(['external_urls', 'href', 'id', 'name', 'type', 'uri'])\n",
            "dict_keys(['external_urls', 'href', 'id', 'name', 'type', 'uri'])\n",
            "dict_keys(['external_urls', 'href', 'id', 'name', 'type', 'uri'])\n",
            "dict_keys(['external_urls', 'href', 'id', 'name', 'type', 'uri'])\n",
            "dict_keys(['external_urls', 'href', 'id', 'name', 'type', 'uri'])\n",
            "dict_keys(['external_urls', 'href', 'id', 'name', 'type', 'uri'])\n",
            "dict_keys(['external_urls', 'href', 'id', 'name', 'type', 'uri'])\n",
            "dict_keys(['external_urls', 'href', 'id', 'name', 'type', 'uri'])\n",
            "dict_keys(['external_urls', 'href', 'id', 'name', 'type', 'uri'])\n",
            "dict_keys(['external_urls', 'href', 'id', 'name', 'type', 'uri'])\n",
            "dict_keys(['external_urls', 'href', 'id', 'name', 'type', 'uri'])\n",
            "dict_keys(['external_urls', 'href', 'id', 'name', 'type', 'uri'])\n",
            "dict_keys(['external_urls', 'href', 'id', 'name', 'type', 'uri'])\n",
            "dict_keys(['external_urls', 'href', 'id', 'name', 'type', 'uri'])\n",
            "dict_keys(['external_urls', 'href', 'id', 'name', 'type', 'uri'])\n",
            "dict_keys(['external_urls', 'href', 'id', 'name', 'type', 'uri'])\n",
            "dict_keys(['external_urls', 'href', 'id', 'name', 'type', 'uri'])\n",
            "dict_keys(['external_urls', 'href', 'id', 'name', 'type', 'uri'])\n",
            "dict_keys(['external_urls', 'href', 'id', 'name', 'type', 'uri'])\n",
            "dict_keys(['external_urls', 'href', 'id', 'name', 'type', 'uri'])\n",
            "dict_keys(['external_urls', 'href', 'id', 'name', 'type', 'uri'])\n",
            "dict_keys(['external_urls', 'href', 'id', 'name', 'type', 'uri'])\n",
            "dict_keys(['external_urls', 'href', 'id', 'name', 'type', 'uri'])\n",
            "dict_keys(['external_urls', 'href', 'id', 'name', 'type', 'uri'])\n",
            "dict_keys(['external_urls', 'href', 'id', 'name', 'type', 'uri'])\n",
            "dict_keys(['external_urls', 'href', 'id', 'name', 'type', 'uri'])\n",
            "dict_keys(['external_urls', 'href', 'id', 'name', 'type', 'uri'])\n",
            "dict_keys(['external_urls', 'href', 'id', 'name', 'type', 'uri'])\n",
            "dict_keys(['external_urls', 'href', 'id', 'name', 'type', 'uri'])\n",
            "dict_keys(['external_urls', 'href', 'id', 'name', 'type', 'uri'])\n",
            "dict_keys(['external_urls', 'href', 'id', 'name', 'type', 'uri'])\n",
            "dict_keys(['external_urls', 'href', 'id', 'name', 'type', 'uri'])\n",
            "dict_keys(['external_urls', 'href', 'id', 'name', 'type', 'uri'])\n",
            "dict_keys(['external_urls', 'href', 'id', 'name', 'type', 'uri'])\n",
            "dict_keys(['external_urls', 'href', 'id', 'name', 'type', 'uri'])\n",
            "dict_keys(['external_urls', 'href', 'id', 'name', 'type', 'uri'])\n",
            "dict_keys(['external_urls', 'href', 'id', 'name', 'type', 'uri'])\n",
            "dict_keys(['external_urls', 'href', 'id', 'name', 'type', 'uri'])\n",
            "dict_keys(['external_urls', 'href', 'id', 'name', 'type', 'uri'])\n",
            "dict_keys(['external_urls', 'href', 'id', 'name', 'type', 'uri'])\n",
            "dict_keys(['external_urls', 'href', 'id', 'name', 'type', 'uri'])\n",
            "dict_keys(['external_urls', 'href', 'id', 'name', 'type', 'uri'])\n",
            "dict_keys(['external_urls', 'href', 'id', 'name', 'type', 'uri'])\n",
            "dict_keys(['external_urls', 'href', 'id', 'name', 'type', 'uri'])\n",
            "dict_keys(['external_urls', 'href', 'id', 'name', 'type', 'uri'])\n",
            "dict_keys(['external_urls', 'href', 'id', 'name', 'type', 'uri'])\n",
            "dict_keys(['external_urls', 'href', 'id', 'name', 'type', 'uri'])\n",
            "dict_keys(['external_urls', 'href', 'id', 'name', 'type', 'uri'])\n",
            "dict_keys(['external_urls', 'href', 'id', 'name', 'type', 'uri'])\n",
            "dict_keys(['external_urls', 'href', 'id', 'name', 'type', 'uri'])\n",
            "dict_keys(['external_urls', 'href', 'id', 'name', 'type', 'uri'])\n",
            "dict_keys(['external_urls', 'href', 'id', 'name', 'type', 'uri'])\n",
            "dict_keys(['external_urls', 'href', 'id', 'name', 'type', 'uri'])\n",
            "dict_keys(['external_urls', 'href', 'id', 'name', 'type', 'uri'])\n",
            "dict_keys(['external_urls', 'href', 'id', 'name', 'type', 'uri'])\n",
            "dict_keys(['external_urls', 'href', 'id', 'name', 'type', 'uri'])\n",
            "dict_keys(['external_urls', 'href', 'id', 'name', 'type', 'uri'])\n",
            "dict_keys(['external_urls', 'href', 'id', 'name', 'type', 'uri'])\n",
            "dict_keys(['external_urls', 'href', 'id', 'name', 'type', 'uri'])\n",
            "dict_keys(['external_urls', 'href', 'id', 'name', 'type', 'uri'])\n",
            "dict_keys(['external_urls', 'href', 'id', 'name', 'type', 'uri'])\n",
            "dict_keys(['external_urls', 'href', 'id', 'name', 'type', 'uri'])\n",
            "dict_keys(['external_urls', 'href', 'id', 'name', 'type', 'uri'])\n",
            "dict_keys(['external_urls', 'href', 'id', 'name', 'type', 'uri'])\n",
            "dict_keys(['external_urls', 'href', 'id', 'name', 'type', 'uri'])\n",
            "dict_keys(['external_urls', 'href', 'id', 'name', 'type', 'uri'])\n",
            "dict_keys(['external_urls', 'href', 'id', 'name', 'type', 'uri'])\n",
            "dict_keys(['external_urls', 'href', 'id', 'name', 'type', 'uri'])\n",
            "dict_keys(['external_urls', 'href', 'id', 'name', 'type', 'uri'])\n",
            "dict_keys(['external_urls', 'href', 'id', 'name', 'type', 'uri'])\n",
            "dict_keys(['external_urls', 'href', 'id', 'name', 'type', 'uri'])\n",
            "dict_keys(['external_urls', 'href', 'id', 'name', 'type', 'uri'])\n",
            "dict_keys(['external_urls', 'href', 'id', 'name', 'type', 'uri'])\n",
            "dict_keys(['external_urls', 'href', 'id', 'name', 'type', 'uri'])\n"
          ]
        }
      ],
      "source": [
        "res = sp.search(q=\"artist:Elton John\", type=\"track\", market=\"DE\", limit=50, offset=0)\n",
        "res = res[\"tracks\"]\n",
        "if \"items\" in res:\n",
        "  for item in res[\"items\"]:\n",
        "    if \"artists\" in item:\n",
        "      #print(item[\"artists\"][\"genres\"] if \"genres\" in item[\"artists\"] else print(\"No genres available!\"))\n",
        "      #print(item[\"artists\"])\n",
        "      for artist in item[\"artists\"]:\n",
        "        print(artist[\"genres\"] if \"genres\" in artist else artist.keys())\n",
        "    else:\n",
        "      print(\"No artists in item\")\n",
        "else:\n",
        "  print(\"No items in res\")\n",
        "  print(res.keys())\n"
      ]
    },
    {
      "cell_type": "markdown",
      "id": "07RFxZqzu65K",
      "metadata": {
        "id": "07RFxZqzu65K"
      },
      "source": [
        "Die Spotify gibt auch für Künstler die ein Genre zugewiesen bekommen haben kein Genre zurück. Laut API sollte es ein weiteres Attribut `genres` geben."
      ]
    },
    {
      "cell_type": "markdown",
      "id": "fNM4scDt4nmh",
      "metadata": {
        "id": "fNM4scDt4nmh"
      },
      "source": [
        "Abfrage aller Lieder von Künstlern, welche in den 80ern in den Charts waren"
      ]
    },
    {
      "cell_type": "code",
      "execution_count": 23,
      "id": "vNztATcNAoA_",
      "metadata": {
        "colab": {
          "base_uri": "https://localhost:8080/"
        },
        "id": "vNztATcNAoA_",
        "outputId": "6a456ce3-ab25-4a8b-e2ed-e2d00d6c4e19"
      },
      "outputs": [
        {
          "output_type": "execute_result",
          "data": {
            "text/plain": [
              "array(['paul hardcastle', 'c. c. catch', 'deborah sasson & mcl',\n",
              "       'coast to coast', 'fiction factory', 'o.m.d.',\n",
              "       'the rock steady crew', 'cutting crew', 'sandra',\n",
              "       'bill medley & jennifer warnes', 'john lennon', 'beastie boys',\n",
              "       'klaus lage band', 'schweizer', 'sigue sigue sputnik',\n",
              "       'jennifer rush', 'the catch', 'dolly parton', 'nena',\n",
              "       'george michael', 'feargal sharkey', 'phil collins', 'queen',\n",
              "       'godley & creme', 'erasure', 'sheila e', 'will downing',\n",
              "       \"shakin' stevens\", 'depeche mode',\n",
              "       \"shakin' stevens & bonnie tyler\", 'duran duran',\n",
              "       'nick straker band', 'bad boys blue', 'genesis',\n",
              "       'steve miller band', 'katja ebstein', 'roger whittaker',\n",
              "       'david bowie', 'andy borg', 'toto', 'rose laurens', 'princess',\n",
              "       'saragossa band', 'john farnham', 'ricky king', 'quincy jones',\n",
              "       'bill withers', 'rufus & chaka khan', 'inner city', 'radiorama',\n",
              "       'simple minds', 'herbert grã¶nemeyer', 'sister sledge',\n",
              "       'alison moyet', 'lionel richie', 'sabrina [it]',\n",
              "       'diana ross & julio iglesias', 'electric light orchestra',\n",
              "       'christopher cross', 'rita coolidge', 'the hooters',\n",
              "       'caroline loeb', 'hoffmann & hoffmann', 'goombay dance band',\n",
              "       'heart', 'erste allgemeine verunsicherung', 'prince',\n",
              "       'pet shop boys', 'niko', 'g. g. anderson', 'gianna nannini',\n",
              "       'holly johnson', 'andreas martin', 'lio [be]', 'klaus & klaus',\n",
              "       'the whispers', 'madonna', 'wet wet wet', 'frank duval',\n",
              "       'juice newton', 'helen schneider', 'trio', 'pink floyd',\n",
              "       'kano [it]', 'robin gibb', 'michael jackson', 'talk talk',\n",
              "       'adam & the ants', 'b.v.s.m.p.', 'hot chocolate', 'billy ocean',\n",
              "       'silver pozzoli', 'nino de angelo', 'modern talking', 'blondie',\n",
              "       'roxy music', 'harold faltermeyer', 'flash & the pan',\n",
              "       'france gall', 'smokie', 'kate bush', 'milli vanilli',\n",
              "       'rod stewart', 'alisha', 'soul ii soul', 'den harrow',\n",
              "       'miami sound machine', 'wham!', 'boney m.', 'francesco napoli',\n",
              "       'the twins', 'chico chico', 'gipsy kings', 'the boomtown rats',\n",
              "       'b.a. robertson', 'the bangles', 'bette midler', 'bomb the bass',\n",
              "       'the human league', 'geier sturzflug', 'kim carnes', 'dr. hook',\n",
              "       'kajagoogoo', 'ellis, beggs & howard', 'boy george', 'alphaville',\n",
              "       'robbie nevil', 'ted herold', 'peter, sue & marc',\n",
              "       'münchener freiheit', 'james last', 'die ã„rzte', 'patto',\n",
              "       'big fun', 'living in a box', 'new order', 'two of us',\n",
              "       'rainbirds', 'styx', 'frank zappa', 'mike krüger', 'maria vidal',\n",
              "       'joboxers', 'mandy', 'the cure', 'the jeremy days',\n",
              "       'matthew wilder', 'tracey ullman', 'electric boogie men',\n",
              "       'sean tyla', 'swing out sister', 'wax [uk]', 'mixed emotions',\n",
              "       'edelweiss', 'marianne faithfull', 'chris norman', 'mr. mister',\n",
              "       \"malcolm mclaren & the world's famous supreme team\",\n",
              "       'neneh cherry', 'bap', 'antonello venditti', 'the gap band',\n",
              "       'survivor', 'matchbox', 'bläck fã¶ã¶ss', 'roy orbison', 'yello',\n",
              "       'spagna', 'kim wilde', 'stan ridgway', 'iron maiden',\n",
              "       'jack goldbird', 'reo speedwagon', 'eddy grant', 'village people',\n",
              "       'boys town gang', 'new edition', 'the housemartins', 'spliff',\n",
              "       'inga & anete humpe', 'mysterious art', 'cliff richard', 'europe',\n",
              "       'aretha franklin & george michael', 'real life', 'billy idol',\n",
              "       \"t'pau\", 'womack & womack', 'rick springfield', 'kool & the gang',\n",
              "       'martinelli', 'the j. geils band', 'diana ross', 'raff [it]',\n",
              "       'alan price', '16 bit', 'ennio morricone', 'barclay james harvest',\n",
              "       'fancy', 'culture club', 'geoffrey williams', 'belinda carlisle',\n",
              "       'william pitt', 'dã–f', 'moti special', 'fun fun',\n",
              "       'raggio di luna (moon ray)', 'mental as anything', 'paul young',\n",
              "       'joyce sims', 'chilly',\n",
              "       'dexys midnight runners with the emerald express', 'falco',\n",
              "       'paul mccartney', 'the shorts', 'paso doble', 'hongkong syndikat',\n",
              "       'bob marley & the wailers', 'kenny rogers', 'ottawan',\n",
              "       'mike oldfield', 'joan jett & the blackhearts', \"alexander o'neal\",\n",
              "       'jan hammer', 'sinitta', 'eighth wonder', 'tracy chapman',\n",
              "       'bananarama', 'secret service [se]', 'glenn medeiros',\n",
              "       'frank zander', 'wang chung', \"electronica's\",\n",
              "       \"terence trent d'arby\", 'doris d. & the pins', 'nik kershaw',\n",
              "       'david bowie & mick jagger', 'inker & hamilton', 'ultravox',\n",
              "       'kenny loggins', 'jürgen von der lippe', 'tommy steiner',\n",
              "       'manuel & pony', 'kraftwerk', 'tangerine dream', 'rheingold',\n",
              "       'the kelly family', 'the police', 'heinz rudolf kunze',\n",
              "       'scotch [it]', 'peter alexander', 'karat', 'hannes krã¶ger',\n",
              "       'wolfgang petry', 'ixi', 'achim reichel', 'paola', 'kim merz',\n",
              "       'truck stop', 'andy gibb', 'roni griffith', 'u2', 'amanda lear',\n",
              "       'roland kaiser', 'whitney houston', 'gitte haenning',\n",
              "       'heike schäfer', 'rodgau monotones', 'mini pigs', 'die flippers',\n",
              "       'kiz', 'hans hartz', 'peter schilling', 'the blow monkeys',\n",
              "       'george kranz', 'pink project', 'maywood', 'captain & tennille',\n",
              "       'redhead kingpin & the fbi', 'band aid', 'a la carte',\n",
              "       'jermaine jackson', 'samantha fox',\n",
              "       'patrick cowley feat. sylvester', 'thompson twins', 'coldcut',\n",
              "       'the timelords', 'ryan paris', 'the alan parsons project',\n",
              "       'crowded house', 'hothouse flowers', 'yazoo', 'the communards',\n",
              "       'fine young cannibals', 'bomb the bass & lorraine',\n",
              "       'chris de burgh', 'leon haywood', 'midnight star',\n",
              "       'jermaine stewart', 'blancmange', 'aswad', 'four tops',\n",
              "       'gloria estefan', 'bobby mcferrin', 'joe cocker',\n",
              "       'nicole j. mccloud', 'malcolm mclaren', 'shakatak', 'level 42',\n",
              "       'men at work', 'petula clark', 'rififi', 'propaganda', 'helloween',\n",
              "       'p. lion', 'nazareth', 'status quo', 'juliane werding', 'roxette',\n",
              "       'the cars', 'bros', 'peter cornelius', 'milva', 'peter maffay',\n",
              "       'the bee gees', 'nick kamen', 'mink deville', 'ice mc',\n",
              "       'philip bailey & phil collins', 'paul mccartney & stevie wonder',\n",
              "       'nicole', 'fehlfarben', 'relax [de]', 'karel gott', 'hubert kah',\n",
              "       'grauzone', 'ideal', 'michael holm', 'debbie gibson', 'off',\n",
              "       'the rolling stones', 'jürgen marcus', 'heino', 'angelika milster',\n",
              "       'howard carpendale', 'kylie minogue & jason donovan',\n",
              "       'sweet people', 'guesch patti', 'johnny hates jazz',\n",
              "       'jason donovan', 'poison', 'tears for fears', 'black',\n",
              "       'gregory abbott', 'pete townshend', 'pierre cosso', 'visage',\n",
              "       'karel gott & darinka', 'lian ross', 'tight fit', 'frank stallone',\n",
              "       'steve arrington', 'kelly marie', 'al bano & romina power',\n",
              "       'conny & jean',\n",
              "       'the christians, holly johnson, paul mccartney, gerry marsden & stock aitken waterman',\n",
              "       'stephan & nina', 'fairground attraction', 'marietta', 'hot shot',\n",
              "       'earth & fire', 'orlando riva sound', 'robin beck',\n",
              "       'jennifer rush & elton john', 'irene cara', 'opus',\n",
              "       'david hasselhoff', 'sheena easton', 'peter kent', 'paula abdul',\n",
              "       'ivan [es]', 'die doraus & die marinas', 'will to power',\n",
              "       'roy black', \"honesty '69\", \"lil' louis\", 'tone loc',\n",
              "       'fleetwood mac', 'lipps inc.', 'wind', 'sts', 'udo jürgens',\n",
              "       'ofra haza', 'peter gabriel', 'mezzoforte', 'hanne haller',\n",
              "       'bruce & bongo', 'tone band', 'valerie dore', 'ray parker jr.',\n",
              "       'helga feddersen', 'abba', 't.x.t.', 'pebbles', 'sophia george',\n",
              "       'cyndi lauper', 'kc and the sunshine band', 'the teens', 'shannon',\n",
              "       'john lennon and the plastic ono band', 'umberto tozzi',\n",
              "       'peter cetera', 'the winners', 'eruption', 'odyssey',\n",
              "       'spandau ballet', 'joachim witt', 'adam ant', 'george harrison',\n",
              "       'kylie minogue', 'masquerade', 'barbra streisand & barry gibb',\n",
              "       'dschinghis khan', 'matt bianco', 'tommy piper singt alf',\n",
              "       'stefan waggershausen', 'nickerbocker & biene', 'koreana',\n",
              "       'breathe', 'device', 'stevie wonder', 'chicago', 'quarterflash',\n",
              "       'elton john', 'pepsi & shirlie', 'don johnson', 'dionne warwick',\n",
              "       'asia', 'ac/dc', 'bryan adams',\n",
              "       'bananarama & la na nee nee noo noo', 'the flirts',\n",
              "       'gottlieb wendehals', 'eurythmics', 'dominoe', 'whitesnake',\n",
              "       'drafi deutscher', 'dusty springfield & pet shop boys', 'icehouse',\n",
              "       'karel fialka', 's-express', 'howard jones', 'die toten hosen',\n",
              "       'evelyn thomas', 'laid back', 'rupert holmes', 'spargo', 'mai tai',\n",
              "       'bronski beat', 'frl. menke', 'johnny logan', 'bonnie tyler',\n",
              "       'the other ones', 'mc miker g & dj sven',\n",
              "       'the royal philharmonic orchestra (rpo)', 'udo lindenberg',\n",
              "       'krush', 'eric carmen', 'a-ha', 'extrabreit', 'my mine',\n",
              "       'gloria gaynor', 'kon kan', 'tina turner', 'nu shooz', 'tim curry',\n",
              "       'precious wilson', 'donna summer', 'texas', 'animotion',\n",
              "       'chaka khan', 'bronski beat & marc almond',\n",
              "       'ub40 & chrissie hynde', 'michael jackson with siedah garrett',\n",
              "       'frida', 'gazebo', 'eartha kitt', 'tina charles',\n",
              "       'a flock of seagulls', 'jim diamond', 'tiffany [us]',\n",
              "       'huey lewis & the news', 'roger [us]', 'foreigner',\n",
              "       'boris gardiner', 'transvision vamp', 'freddie mercury', 'kiss',\n",
              "       'glen goldsmith', 'ph.d.', 'agnetha fältskog', 'nicki',\n",
              "       'taylor dayne', 'jon & vangelis', 'bruce springsteen',\n",
              "       'peter griffin', 'grace jones', 'freeez', 'ibo',\n",
              "       'beagle music ltd.', 'neue heimat', 'peter petrel',\n",
              "       'marianne rosenberg', 'clowns & helden', 'spider murphy gang',\n",
              "       'markus', 'ukw', 'bernhard brink', 'christian franke', 'cher',\n",
              "       'midge ure', 'sydney youngblood', 'simply red', 'joe dolce',\n",
              "       'bernie paul', 'pete bardens', 'arabesque', 'the nits',\n",
              "       'round one', 'marillion', 'pat benatar', 'cock robin',\n",
              "       'jürgen drews', 'stã©phanie', 'mike oldfield & bonnie tyler',\n",
              "       'kenny rogers & dolly parton', 'm.a.r.r.s.',\n",
              "       'dave stewart & barbara gaskin', 'supertramp', 'run dmc',\n",
              "       'fred sonnenschein und seine freunde', 'hithouse',\n",
              "       'barbara dickson', 'andrea jürgens', 'aneka', 'amii stewart',\n",
              "       'greg kihn band', 'club nouveau', 'vanessa paradis',\n",
              "       'haysi fantayzee', 'robert palmer', 'peter tosh', 'lena valaitis',\n",
              "       'mandy winter', 'daniel', 'van halen', 'pointer sisters',\n",
              "       'stacy lattisaw', 'imagination', 'mick jagger', 'the s.o.s. band',\n",
              "       'tony esposito', 'gänsehaut', 'steinwolke',\n",
              "       'soul ii soul feat. caron wheeler', 'stephan remmler',\n",
              "       'lou & hollywood bananas', 'prince & the revolution',\n",
              "       'the art of noise feat. tom jones', \"stephen 'tin tin' duffy\",\n",
              "       'purple schulz', 'the beach boys', 'toto cutugno', 'los lobos',\n",
              "       'nana mouskouri', 'mary roos und david hanselmann', 'max him',\n",
              "       'mike batt', 'kaoma', 'haindling', 'indeep', 'ferry aid',\n",
              "       'oran \"juice\" jones', 'pia zadora', 'deniece williams',\n",
              "       'janet jackson', 'steve allen', 'gladys knight', 'soulsister',\n",
              "       'berlin', 'ace cats', 'audrey landers', 'bon jovi', 'james brown',\n",
              "       'trans-x', 'london boys', 'traks', 'big country', 'liza minnelli',\n",
              "       'jona lewie', 'king', 'climie fisher', 'limahl', 'camouflage',\n",
              "       'sade', 'killing joke', 'thomas anders', 'mike mareen',\n",
              "       'blue system', 'booker newberry iii', 'ingrid kup',\n",
              "       'dead or alive', 'ricchi e poveri', 'rainhard fendrich',\n",
              "       'olivia newton-john', 'bucks fizz', 'loretta goggi', 'suzi quatro',\n",
              "       'daryl hall & john oates', \"g'race\", 'michael sembello',\n",
              "       'the hornettes', 'silicon dream', 'gibson brothers',\n",
              "       'olsen brothers', 'rocco & the carnations', 'fischer-z',\n",
              "       'garland jeffreys', 'thom pace', 'de la soul', 'leinemann',\n",
              "       'barbra streisand', 'alice', 'natalie cole', 'bonnie bianco',\n",
              "       'john waite', 'emmylou harris', 'dire straits', 'monotones [nl]',\n",
              "       'phil carmen', 'leo sayer', 'nina simone', 'owen paul',\n",
              "       'guillermo marchena', 'slade', 'bobby brown', 'savage progress',\n",
              "       'denise lasalle', 'helmut frey', 'band für afrika', 'inxs',\n",
              "       'ina deter band', 'rick astley', 'the assembly', 'trio rio',\n",
              "       'grandmaster flash & the furious five', 'tony holiday',\n",
              "       'trude herr', 'the commodores', 'juan pardo', 'the stranglers',\n",
              "       'righeira', 'lady lily', 'alan sorrenti', 'claudia mori',\n",
              "       'the jacksons', 'starship', 'hannes schã¶ner', 'dollar',\n",
              "       'ready for the world', 'o.k.',\n",
              "       'michael schanze und die fußball-nationalmannschaft', 'bogart',\n",
              "       'patti labelle & michael mcdonald', 'barrabas', 'murray head',\n",
              "       'keith marshall', 'the flying pickets', \"luv'\", 'clout', 'enya',\n",
              "       'anne clark', 'madness', 'gary moore & phil lynott', 'yes', 'p4f',\n",
              "       'the jonzun crew', 'eric b. & rakim', 'costa cordalis',\n",
              "       'the art of noise & max headroom', 'eddie murphy', 'musical youth',\n",
              "       'deborah sasson', 'original naabtal duo', 'sandy marton',\n",
              "       'coldcut feat. lisa stansfield',\n",
              "       'the art of noise feat. duane eddy', 'f.r. david',\n",
              "       'mike oldfield feat. aled jones, anita hegerland & barry palmer',\n",
              "       'charlie dore', 'out of the ordinary', 'united balls',\n",
              "       'alice cooper', 'fox the fox', 'alvin stardust', 'hypnosis',\n",
              "       'technotronic feat. felly', 'dieter hallervorden', \"salt 'n' pepa\",\n",
              "       'annie lennox & al green', 'delegation', 'taco [nl]',\n",
              "       'frankie goes to hollywood', 'max werner', 'joe bataan',\n",
              "       'the sugarhill gang', 'giorgio moroder & paul engemann',\n",
              "       'jody watley', 'richard sanderson', 'ub40', 'jackie wilson',\n",
              "       'showaddywaddy', 'wolfgang fierek', 'mel & kim', 'debarge',\n",
              "       'black box', 'the pasadenas', 'richard marx', 'talking heads',\n",
              "       'tommi ohrner', 'johnny nash', 'herbie hancock', 'tony carey',\n",
              "       'mac band', 'alan and denise', 'timex social club', 'the fools',\n",
              "       'sting', 'david christie', 'michael cretu',\n",
              "       'george baker selection', 'oliver onions', 'renee & renato',\n",
              "       'soft cell', 'michael jackson & paul mccartney',\n",
              "       'jule neigel band', 'purple schulz und die neue heimat',\n",
              "       'laura branigan', 'the adventures', 'sensus', 'marvin gaye',\n",
              "       'westernhagen', 'mike oldfield and roger chapman', 'divine [us]',\n",
              "       \"salt 'n' pepa feat. e.u.\", 'lee marrow', 'les mckeown',\n",
              "       'patrick swayze & wendy fraser', 'cameo', 'fritz brause',\n",
              "       'mike & the mechanics', 'sally oldfield', 'bryan ferry',\n",
              "       'miquel brown', 'ashford & simpson',\n",
              "       'peter kent & luisa fernandez', 'telly savalas',\n",
              "       'the power station', 'rockwell', 'glass tiger',\n",
              "       'june lodge & prince mohammed', 'marc almond feat. gene pitney',\n",
              "       'the beautiful south', 'sheila b. devotion', 'doctor & the medics',\n",
              "       'al corley', 'john parr', 'far corporation', 'stevie nicks',\n",
              "       'ben e. king', 'yazz', 'stars on 45',\n",
              "       'the jacksons with mick jagger', 'bonnie bianco & pierre cosso',\n",
              "       'joe jackson', 'scorpions', 'the brothers johnson', 'sam brown',\n",
              "       'tullio de piscopo', 'silent circle', 'coldcut feat. junior reid',\n",
              "       'toni childs', 'riccardo fogli', 'break machine', 'alf', 'pupo',\n",
              "       'racey', 'artists united against apartheid', 'corey hart',\n",
              "       'tony christie', 'jive bunny & the mastermixers', 'tracie spencer',\n",
              "       'five star', 'marti webb', 'the romantics', 'baltimora', 'jawoll',\n",
              "       'bolland & bolland', 'pussycat', 'heaven 17', 'ten city',\n",
              "       'dionne warwick & friends', 'tolga flim flam balkan', 'don henley',\n",
              "       'double', 'lobo [nl]', 'chris thompson',\n",
              "       'gary bird & the g.b. experience', 'cheap trick', 'brother beyond',\n",
              "       'whodini', 'glenn frey', 'david cassidy', 'abc',\n",
              "       'yazz & the plastic population', 'exile', 'the buggles', 're-flex',\n",
              "       'men without hats', 'engelbert humperdinck',\n",
              "       'fat boys with stupid def vocals by chubby checker',\n",
              "       'bruce hornsby & the range', 'first patrol', 'rachel sweet', 'pil',\n",
              "       'david bowie and the pat metheny group', 'lisa stansfield',\n",
              "       'bob geldof', 'matia bazar', 'christian bruhn', 'rocky burnette',\n",
              "       'julio iglesias & willie nelson', 'mel brooks',\n",
              "       'mike oldfield (vocals: maggie reilly)', 'sky [uk]',\n",
              "       'mireille mathieu & patrick duffy', 'joy', 'martika',\n",
              "       'lindsey buckingham', 'wolf maahn und unterstützung', 'moses p.',\n",
              "       'tanita tikaram', 'stacey q.', 'eddy huntington',\n",
              "       'queen & david bowie', 'lee majors',\n",
              "       'joe cocker & jennifer warnes', 'billy joel', 'stephan sulke',\n",
              "       'vicky leandros', 'desireless', 'robert howard & kym mazelle',\n",
              "       'boy meets girl', 'endgames', 'run dmc feat. aerosmith',\n",
              "       'katrina & the waves', 'malcolm mclaren & the bootzilla orchestra',\n",
              "       'willem [de]', 'usa for africa', 'd. mob feat. gary haisman',\n",
              "       'go west', 'picnic at the whitehouse', 'wee papa girl rappers',\n",
              "       'ingrid peters', 'rex gildo', 'louis armstrong',\n",
              "       'hollywood beyond', 'hazell dean', 'albert hammond',\n",
              "       'jermaine jackson & pia zadora', 'warning', 'mike anthony',\n",
              "       'die schlümpfe', 'saga', 'china crisis', 'chris roberts', 'eroc',\n",
              "       'sam cooke', 'video kids', 'the detroit spinners',\n",
              "       'captain sensible', 'udo lindenberg & pascal',\n",
              "       'olivia newton-john & electric light orchestra', 'mory kante',\n",
              "       'boytronic', 'heidi brühl', 'al hudson & partners',\n",
              "       'the real thing', 'sonia', 'blind date [de]', 'zaza',\n",
              "       'stefan waggershausen & alice', 'schrott nach 8',\n",
              "       'rolf und seine freunde'], dtype=object)"
            ]
          },
          "metadata": {},
          "execution_count": 23
        }
      ],
      "source": [
        "chart_power_df[\"Artist\"].unique()"
      ]
    },
    {
      "cell_type": "markdown",
      "id": "mRTbFJZbApxm",
      "metadata": {
        "id": "mRTbFJZbApxm"
      },
      "source": [
        "Wenn mehrere Künstler zusammen einen Song veröffentlich haben, sind diese hier mit einem `&` getrennt. Dies muss zunächst aufgelöst werden."
      ]
    },
    {
      "cell_type": "code",
      "execution_count": 15,
      "id": "j0WG2ulaBleV",
      "metadata": {
        "id": "j0WG2ulaBleV"
      },
      "outputs": [],
      "source": [
        "chart_power_df[\"Artist\"] = chart_power_df[\"Artist\"].str.split(\" & \")\n",
        "chart_power_df_explode = chart_power_df.explode(\"Artist\", ignore_index=True)"
      ]
    },
    {
      "cell_type": "code",
      "execution_count": 16,
      "id": "DTHv1YtUECll",
      "metadata": {
        "colab": {
          "base_uri": "https://localhost:8080/",
          "height": 423
        },
        "id": "DTHv1YtUECll",
        "outputId": "5b96adc4-415a-4a4d-ec51-4fff15780f4e"
      },
      "outputs": [
        {
          "output_type": "execute_result",
          "data": {
            "text/plain": [
              "                                   Song                  Artist  Points\n",
              "0                                    19         paul hardcastle    1600\n",
              "1                   'cause you're young             c. c. catch     998\n",
              "2           (carmen) danger in her eyes          deborah sasson     531\n",
              "3           (carmen) danger in her eyes                     mcl     531\n",
              "4                   (do) the hucklebuck          coast to coast     697\n",
              "...                                 ...                     ...     ...\n",
              "2022                            zu spät              die ã„rzte     605\n",
              "2023                       zuppa romana          schrott nach 8     601\n",
              "2024   â€¦ und ganz doll mich (ich mag)  rolf und seine freunde    1314\n",
              "2025  über sieben brücken mußt du geh'n                   karat     826\n",
              "2026  über sieben brücken mußt du geh'n            peter maffay    1368\n",
              "\n",
              "[2027 rows x 3 columns]"
            ],
            "text/html": [
              "\n",
              "  <div id=\"df-de6cc10d-1d0a-42bd-a3b5-1cd78c43304c\" class=\"colab-df-container\">\n",
              "    <div>\n",
              "<style scoped>\n",
              "    .dataframe tbody tr th:only-of-type {\n",
              "        vertical-align: middle;\n",
              "    }\n",
              "\n",
              "    .dataframe tbody tr th {\n",
              "        vertical-align: top;\n",
              "    }\n",
              "\n",
              "    .dataframe thead th {\n",
              "        text-align: right;\n",
              "    }\n",
              "</style>\n",
              "<table border=\"1\" class=\"dataframe\">\n",
              "  <thead>\n",
              "    <tr style=\"text-align: right;\">\n",
              "      <th></th>\n",
              "      <th>Song</th>\n",
              "      <th>Artist</th>\n",
              "      <th>Points</th>\n",
              "    </tr>\n",
              "  </thead>\n",
              "  <tbody>\n",
              "    <tr>\n",
              "      <th>0</th>\n",
              "      <td>19</td>\n",
              "      <td>paul hardcastle</td>\n",
              "      <td>1600</td>\n",
              "    </tr>\n",
              "    <tr>\n",
              "      <th>1</th>\n",
              "      <td>'cause you're young</td>\n",
              "      <td>c. c. catch</td>\n",
              "      <td>998</td>\n",
              "    </tr>\n",
              "    <tr>\n",
              "      <th>2</th>\n",
              "      <td>(carmen) danger in her eyes</td>\n",
              "      <td>deborah sasson</td>\n",
              "      <td>531</td>\n",
              "    </tr>\n",
              "    <tr>\n",
              "      <th>3</th>\n",
              "      <td>(carmen) danger in her eyes</td>\n",
              "      <td>mcl</td>\n",
              "      <td>531</td>\n",
              "    </tr>\n",
              "    <tr>\n",
              "      <th>4</th>\n",
              "      <td>(do) the hucklebuck</td>\n",
              "      <td>coast to coast</td>\n",
              "      <td>697</td>\n",
              "    </tr>\n",
              "    <tr>\n",
              "      <th>...</th>\n",
              "      <td>...</td>\n",
              "      <td>...</td>\n",
              "      <td>...</td>\n",
              "    </tr>\n",
              "    <tr>\n",
              "      <th>2022</th>\n",
              "      <td>zu spät</td>\n",
              "      <td>die ã„rzte</td>\n",
              "      <td>605</td>\n",
              "    </tr>\n",
              "    <tr>\n",
              "      <th>2023</th>\n",
              "      <td>zuppa romana</td>\n",
              "      <td>schrott nach 8</td>\n",
              "      <td>601</td>\n",
              "    </tr>\n",
              "    <tr>\n",
              "      <th>2024</th>\n",
              "      <td>â€¦ und ganz doll mich (ich mag)</td>\n",
              "      <td>rolf und seine freunde</td>\n",
              "      <td>1314</td>\n",
              "    </tr>\n",
              "    <tr>\n",
              "      <th>2025</th>\n",
              "      <td>über sieben brücken mußt du geh'n</td>\n",
              "      <td>karat</td>\n",
              "      <td>826</td>\n",
              "    </tr>\n",
              "    <tr>\n",
              "      <th>2026</th>\n",
              "      <td>über sieben brücken mußt du geh'n</td>\n",
              "      <td>peter maffay</td>\n",
              "      <td>1368</td>\n",
              "    </tr>\n",
              "  </tbody>\n",
              "</table>\n",
              "<p>2027 rows × 3 columns</p>\n",
              "</div>\n",
              "    <div class=\"colab-df-buttons\">\n",
              "\n",
              "  <div class=\"colab-df-container\">\n",
              "    <button class=\"colab-df-convert\" onclick=\"convertToInteractive('df-de6cc10d-1d0a-42bd-a3b5-1cd78c43304c')\"\n",
              "            title=\"Convert this dataframe to an interactive table.\"\n",
              "            style=\"display:none;\">\n",
              "\n",
              "  <svg xmlns=\"http://www.w3.org/2000/svg\" height=\"24px\" viewBox=\"0 -960 960 960\">\n",
              "    <path d=\"M120-120v-720h720v720H120Zm60-500h600v-160H180v160Zm220 220h160v-160H400v160Zm0 220h160v-160H400v160ZM180-400h160v-160H180v160Zm440 0h160v-160H620v160ZM180-180h160v-160H180v160Zm440 0h160v-160H620v160Z\"/>\n",
              "  </svg>\n",
              "    </button>\n",
              "\n",
              "  <style>\n",
              "    .colab-df-container {\n",
              "      display:flex;\n",
              "      gap: 12px;\n",
              "    }\n",
              "\n",
              "    .colab-df-convert {\n",
              "      background-color: #E8F0FE;\n",
              "      border: none;\n",
              "      border-radius: 50%;\n",
              "      cursor: pointer;\n",
              "      display: none;\n",
              "      fill: #1967D2;\n",
              "      height: 32px;\n",
              "      padding: 0 0 0 0;\n",
              "      width: 32px;\n",
              "    }\n",
              "\n",
              "    .colab-df-convert:hover {\n",
              "      background-color: #E2EBFA;\n",
              "      box-shadow: 0px 1px 2px rgba(60, 64, 67, 0.3), 0px 1px 3px 1px rgba(60, 64, 67, 0.15);\n",
              "      fill: #174EA6;\n",
              "    }\n",
              "\n",
              "    .colab-df-buttons div {\n",
              "      margin-bottom: 4px;\n",
              "    }\n",
              "\n",
              "    [theme=dark] .colab-df-convert {\n",
              "      background-color: #3B4455;\n",
              "      fill: #D2E3FC;\n",
              "    }\n",
              "\n",
              "    [theme=dark] .colab-df-convert:hover {\n",
              "      background-color: #434B5C;\n",
              "      box-shadow: 0px 1px 3px 1px rgba(0, 0, 0, 0.15);\n",
              "      filter: drop-shadow(0px 1px 2px rgba(0, 0, 0, 0.3));\n",
              "      fill: #FFFFFF;\n",
              "    }\n",
              "  </style>\n",
              "\n",
              "    <script>\n",
              "      const buttonEl =\n",
              "        document.querySelector('#df-de6cc10d-1d0a-42bd-a3b5-1cd78c43304c button.colab-df-convert');\n",
              "      buttonEl.style.display =\n",
              "        google.colab.kernel.accessAllowed ? 'block' : 'none';\n",
              "\n",
              "      async function convertToInteractive(key) {\n",
              "        const element = document.querySelector('#df-de6cc10d-1d0a-42bd-a3b5-1cd78c43304c');\n",
              "        const dataTable =\n",
              "          await google.colab.kernel.invokeFunction('convertToInteractive',\n",
              "                                                    [key], {});\n",
              "        if (!dataTable) return;\n",
              "\n",
              "        const docLinkHtml = 'Like what you see? Visit the ' +\n",
              "          '<a target=\"_blank\" href=https://colab.research.google.com/notebooks/data_table.ipynb>data table notebook</a>'\n",
              "          + ' to learn more about interactive tables.';\n",
              "        element.innerHTML = '';\n",
              "        dataTable['output_type'] = 'display_data';\n",
              "        await google.colab.output.renderOutput(dataTable, element);\n",
              "        const docLink = document.createElement('div');\n",
              "        docLink.innerHTML = docLinkHtml;\n",
              "        element.appendChild(docLink);\n",
              "      }\n",
              "    </script>\n",
              "  </div>\n",
              "\n",
              "\n",
              "<div id=\"df-bb66deca-8474-4c2d-8392-3e390ae45ff0\">\n",
              "  <button class=\"colab-df-quickchart\" onclick=\"quickchart('df-bb66deca-8474-4c2d-8392-3e390ae45ff0')\"\n",
              "            title=\"Suggest charts.\"\n",
              "            style=\"display:none;\">\n",
              "\n",
              "<svg xmlns=\"http://www.w3.org/2000/svg\" height=\"24px\"viewBox=\"0 0 24 24\"\n",
              "     width=\"24px\">\n",
              "    <g>\n",
              "        <path d=\"M19 3H5c-1.1 0-2 .9-2 2v14c0 1.1.9 2 2 2h14c1.1 0 2-.9 2-2V5c0-1.1-.9-2-2-2zM9 17H7v-7h2v7zm4 0h-2V7h2v10zm4 0h-2v-4h2v4z\"/>\n",
              "    </g>\n",
              "</svg>\n",
              "  </button>\n",
              "\n",
              "<style>\n",
              "  .colab-df-quickchart {\n",
              "      --bg-color: #E8F0FE;\n",
              "      --fill-color: #1967D2;\n",
              "      --hover-bg-color: #E2EBFA;\n",
              "      --hover-fill-color: #174EA6;\n",
              "      --disabled-fill-color: #AAA;\n",
              "      --disabled-bg-color: #DDD;\n",
              "  }\n",
              "\n",
              "  [theme=dark] .colab-df-quickchart {\n",
              "      --bg-color: #3B4455;\n",
              "      --fill-color: #D2E3FC;\n",
              "      --hover-bg-color: #434B5C;\n",
              "      --hover-fill-color: #FFFFFF;\n",
              "      --disabled-bg-color: #3B4455;\n",
              "      --disabled-fill-color: #666;\n",
              "  }\n",
              "\n",
              "  .colab-df-quickchart {\n",
              "    background-color: var(--bg-color);\n",
              "    border: none;\n",
              "    border-radius: 50%;\n",
              "    cursor: pointer;\n",
              "    display: none;\n",
              "    fill: var(--fill-color);\n",
              "    height: 32px;\n",
              "    padding: 0;\n",
              "    width: 32px;\n",
              "  }\n",
              "\n",
              "  .colab-df-quickchart:hover {\n",
              "    background-color: var(--hover-bg-color);\n",
              "    box-shadow: 0 1px 2px rgba(60, 64, 67, 0.3), 0 1px 3px 1px rgba(60, 64, 67, 0.15);\n",
              "    fill: var(--button-hover-fill-color);\n",
              "  }\n",
              "\n",
              "  .colab-df-quickchart-complete:disabled,\n",
              "  .colab-df-quickchart-complete:disabled:hover {\n",
              "    background-color: var(--disabled-bg-color);\n",
              "    fill: var(--disabled-fill-color);\n",
              "    box-shadow: none;\n",
              "  }\n",
              "\n",
              "  .colab-df-spinner {\n",
              "    border: 2px solid var(--fill-color);\n",
              "    border-color: transparent;\n",
              "    border-bottom-color: var(--fill-color);\n",
              "    animation:\n",
              "      spin 1s steps(1) infinite;\n",
              "  }\n",
              "\n",
              "  @keyframes spin {\n",
              "    0% {\n",
              "      border-color: transparent;\n",
              "      border-bottom-color: var(--fill-color);\n",
              "      border-left-color: var(--fill-color);\n",
              "    }\n",
              "    20% {\n",
              "      border-color: transparent;\n",
              "      border-left-color: var(--fill-color);\n",
              "      border-top-color: var(--fill-color);\n",
              "    }\n",
              "    30% {\n",
              "      border-color: transparent;\n",
              "      border-left-color: var(--fill-color);\n",
              "      border-top-color: var(--fill-color);\n",
              "      border-right-color: var(--fill-color);\n",
              "    }\n",
              "    40% {\n",
              "      border-color: transparent;\n",
              "      border-right-color: var(--fill-color);\n",
              "      border-top-color: var(--fill-color);\n",
              "    }\n",
              "    60% {\n",
              "      border-color: transparent;\n",
              "      border-right-color: var(--fill-color);\n",
              "    }\n",
              "    80% {\n",
              "      border-color: transparent;\n",
              "      border-right-color: var(--fill-color);\n",
              "      border-bottom-color: var(--fill-color);\n",
              "    }\n",
              "    90% {\n",
              "      border-color: transparent;\n",
              "      border-bottom-color: var(--fill-color);\n",
              "    }\n",
              "  }\n",
              "</style>\n",
              "\n",
              "  <script>\n",
              "    async function quickchart(key) {\n",
              "      const quickchartButtonEl =\n",
              "        document.querySelector('#' + key + ' button');\n",
              "      quickchartButtonEl.disabled = true;  // To prevent multiple clicks.\n",
              "      quickchartButtonEl.classList.add('colab-df-spinner');\n",
              "      try {\n",
              "        const charts = await google.colab.kernel.invokeFunction(\n",
              "            'suggestCharts', [key], {});\n",
              "      } catch (error) {\n",
              "        console.error('Error during call to suggestCharts:', error);\n",
              "      }\n",
              "      quickchartButtonEl.classList.remove('colab-df-spinner');\n",
              "      quickchartButtonEl.classList.add('colab-df-quickchart-complete');\n",
              "    }\n",
              "    (() => {\n",
              "      let quickchartButtonEl =\n",
              "        document.querySelector('#df-bb66deca-8474-4c2d-8392-3e390ae45ff0 button');\n",
              "      quickchartButtonEl.style.display =\n",
              "        google.colab.kernel.accessAllowed ? 'block' : 'none';\n",
              "    })();\n",
              "  </script>\n",
              "</div>\n",
              "    </div>\n",
              "  </div>\n"
            ]
          },
          "metadata": {},
          "execution_count": 16
        }
      ],
      "source": [
        "chart_power_df_explode"
      ]
    },
    {
      "cell_type": "markdown",
      "id": "H9FcyDC7v5MF",
      "metadata": {
        "id": "H9FcyDC7v5MF"
      },
      "source": [
        "Einige Künstler und Lieder enthalten zudem Umlaute, welche zunächst entsprechend formatiert werden müssen (z.B. `Die Ärzte` sind als `Die ã„rzte` gespeichert)."
      ]
    },
    {
      "cell_type": "code",
      "execution_count": 17,
      "id": "7slzBNM-3Pbl",
      "metadata": {
        "id": "7slzBNM-3Pbl"
      },
      "outputs": [],
      "source": [
        "replace = {\n",
        "    \"ã¶\": \"ö\",\n",
        "    \"ã„\": \"ä\",\n",
        "    \"ã–\": \"ö\",\n",
        "    \"ã©\": \"e\"\n",
        "}\n",
        "\n",
        "chart_power_df_explode[\"Song\"] = chart_power_df_explode[\"Song\"].replace(replace, regex=True)\n",
        "chart_power_df_explode[\"Artist\"] = chart_power_df_explode[\"Artist\"].replace(replace, regex=True)"
      ]
    },
    {
      "cell_type": "code",
      "execution_count": 18,
      "id": "Jw40TTrCqw7P",
      "metadata": {
        "colab": {
          "base_uri": "https://localhost:8080/",
          "height": 80
        },
        "id": "Jw40TTrCqw7P",
        "outputId": "33384d8a-64e9-49d5-d60a-bc6492e81c50"
      },
      "outputs": [
        {
          "output_type": "execute_result",
          "data": {
            "text/plain": [
              "         Song     Artist  Points\n",
              "2022  zu spät  die ärzte     605"
            ],
            "text/html": [
              "\n",
              "  <div id=\"df-d0fdbe8f-f5cc-454e-b69c-239096855cf2\" class=\"colab-df-container\">\n",
              "    <div>\n",
              "<style scoped>\n",
              "    .dataframe tbody tr th:only-of-type {\n",
              "        vertical-align: middle;\n",
              "    }\n",
              "\n",
              "    .dataframe tbody tr th {\n",
              "        vertical-align: top;\n",
              "    }\n",
              "\n",
              "    .dataframe thead th {\n",
              "        text-align: right;\n",
              "    }\n",
              "</style>\n",
              "<table border=\"1\" class=\"dataframe\">\n",
              "  <thead>\n",
              "    <tr style=\"text-align: right;\">\n",
              "      <th></th>\n",
              "      <th>Song</th>\n",
              "      <th>Artist</th>\n",
              "      <th>Points</th>\n",
              "    </tr>\n",
              "  </thead>\n",
              "  <tbody>\n",
              "    <tr>\n",
              "      <th>2022</th>\n",
              "      <td>zu spät</td>\n",
              "      <td>die ärzte</td>\n",
              "      <td>605</td>\n",
              "    </tr>\n",
              "  </tbody>\n",
              "</table>\n",
              "</div>\n",
              "    <div class=\"colab-df-buttons\">\n",
              "\n",
              "  <div class=\"colab-df-container\">\n",
              "    <button class=\"colab-df-convert\" onclick=\"convertToInteractive('df-d0fdbe8f-f5cc-454e-b69c-239096855cf2')\"\n",
              "            title=\"Convert this dataframe to an interactive table.\"\n",
              "            style=\"display:none;\">\n",
              "\n",
              "  <svg xmlns=\"http://www.w3.org/2000/svg\" height=\"24px\" viewBox=\"0 -960 960 960\">\n",
              "    <path d=\"M120-120v-720h720v720H120Zm60-500h600v-160H180v160Zm220 220h160v-160H400v160Zm0 220h160v-160H400v160ZM180-400h160v-160H180v160Zm440 0h160v-160H620v160ZM180-180h160v-160H180v160Zm440 0h160v-160H620v160Z\"/>\n",
              "  </svg>\n",
              "    </button>\n",
              "\n",
              "  <style>\n",
              "    .colab-df-container {\n",
              "      display:flex;\n",
              "      gap: 12px;\n",
              "    }\n",
              "\n",
              "    .colab-df-convert {\n",
              "      background-color: #E8F0FE;\n",
              "      border: none;\n",
              "      border-radius: 50%;\n",
              "      cursor: pointer;\n",
              "      display: none;\n",
              "      fill: #1967D2;\n",
              "      height: 32px;\n",
              "      padding: 0 0 0 0;\n",
              "      width: 32px;\n",
              "    }\n",
              "\n",
              "    .colab-df-convert:hover {\n",
              "      background-color: #E2EBFA;\n",
              "      box-shadow: 0px 1px 2px rgba(60, 64, 67, 0.3), 0px 1px 3px 1px rgba(60, 64, 67, 0.15);\n",
              "      fill: #174EA6;\n",
              "    }\n",
              "\n",
              "    .colab-df-buttons div {\n",
              "      margin-bottom: 4px;\n",
              "    }\n",
              "\n",
              "    [theme=dark] .colab-df-convert {\n",
              "      background-color: #3B4455;\n",
              "      fill: #D2E3FC;\n",
              "    }\n",
              "\n",
              "    [theme=dark] .colab-df-convert:hover {\n",
              "      background-color: #434B5C;\n",
              "      box-shadow: 0px 1px 3px 1px rgba(0, 0, 0, 0.15);\n",
              "      filter: drop-shadow(0px 1px 2px rgba(0, 0, 0, 0.3));\n",
              "      fill: #FFFFFF;\n",
              "    }\n",
              "  </style>\n",
              "\n",
              "    <script>\n",
              "      const buttonEl =\n",
              "        document.querySelector('#df-d0fdbe8f-f5cc-454e-b69c-239096855cf2 button.colab-df-convert');\n",
              "      buttonEl.style.display =\n",
              "        google.colab.kernel.accessAllowed ? 'block' : 'none';\n",
              "\n",
              "      async function convertToInteractive(key) {\n",
              "        const element = document.querySelector('#df-d0fdbe8f-f5cc-454e-b69c-239096855cf2');\n",
              "        const dataTable =\n",
              "          await google.colab.kernel.invokeFunction('convertToInteractive',\n",
              "                                                    [key], {});\n",
              "        if (!dataTable) return;\n",
              "\n",
              "        const docLinkHtml = 'Like what you see? Visit the ' +\n",
              "          '<a target=\"_blank\" href=https://colab.research.google.com/notebooks/data_table.ipynb>data table notebook</a>'\n",
              "          + ' to learn more about interactive tables.';\n",
              "        element.innerHTML = '';\n",
              "        dataTable['output_type'] = 'display_data';\n",
              "        await google.colab.output.renderOutput(dataTable, element);\n",
              "        const docLink = document.createElement('div');\n",
              "        docLink.innerHTML = docLinkHtml;\n",
              "        element.appendChild(docLink);\n",
              "      }\n",
              "    </script>\n",
              "  </div>\n",
              "\n",
              "    </div>\n",
              "  </div>\n"
            ]
          },
          "metadata": {},
          "execution_count": 18
        }
      ],
      "source": [
        "chart_power_df_explode[chart_power_df_explode[\"Song\"] == \"zu spät\"]"
      ]
    },
    {
      "cell_type": "code",
      "execution_count": 19,
      "id": "S-lLXslmrH4R",
      "metadata": {
        "colab": {
          "base_uri": "https://localhost:8080/",
          "height": 53
        },
        "id": "S-lLXslmrH4R",
        "outputId": "201353ee-8148-4fa8-e216-77c990d4994a"
      },
      "outputs": [
        {
          "output_type": "execute_result",
          "data": {
            "text/plain": [
              "Empty DataFrame\n",
              "Columns: [Song, Artist, Points]\n",
              "Index: []"
            ],
            "text/html": [
              "\n",
              "  <div id=\"df-ef1e2462-a22c-4c50-b6d9-90b88635ccc6\" class=\"colab-df-container\">\n",
              "    <div>\n",
              "<style scoped>\n",
              "    .dataframe tbody tr th:only-of-type {\n",
              "        vertical-align: middle;\n",
              "    }\n",
              "\n",
              "    .dataframe tbody tr th {\n",
              "        vertical-align: top;\n",
              "    }\n",
              "\n",
              "    .dataframe thead th {\n",
              "        text-align: right;\n",
              "    }\n",
              "</style>\n",
              "<table border=\"1\" class=\"dataframe\">\n",
              "  <thead>\n",
              "    <tr style=\"text-align: right;\">\n",
              "      <th></th>\n",
              "      <th>Song</th>\n",
              "      <th>Artist</th>\n",
              "      <th>Points</th>\n",
              "    </tr>\n",
              "  </thead>\n",
              "  <tbody>\n",
              "  </tbody>\n",
              "</table>\n",
              "</div>\n",
              "    <div class=\"colab-df-buttons\">\n",
              "\n",
              "  <div class=\"colab-df-container\">\n",
              "    <button class=\"colab-df-convert\" onclick=\"convertToInteractive('df-ef1e2462-a22c-4c50-b6d9-90b88635ccc6')\"\n",
              "            title=\"Convert this dataframe to an interactive table.\"\n",
              "            style=\"display:none;\">\n",
              "\n",
              "  <svg xmlns=\"http://www.w3.org/2000/svg\" height=\"24px\" viewBox=\"0 -960 960 960\">\n",
              "    <path d=\"M120-120v-720h720v720H120Zm60-500h600v-160H180v160Zm220 220h160v-160H400v160Zm0 220h160v-160H400v160ZM180-400h160v-160H180v160Zm440 0h160v-160H620v160ZM180-180h160v-160H180v160Zm440 0h160v-160H620v160Z\"/>\n",
              "  </svg>\n",
              "    </button>\n",
              "\n",
              "  <style>\n",
              "    .colab-df-container {\n",
              "      display:flex;\n",
              "      gap: 12px;\n",
              "    }\n",
              "\n",
              "    .colab-df-convert {\n",
              "      background-color: #E8F0FE;\n",
              "      border: none;\n",
              "      border-radius: 50%;\n",
              "      cursor: pointer;\n",
              "      display: none;\n",
              "      fill: #1967D2;\n",
              "      height: 32px;\n",
              "      padding: 0 0 0 0;\n",
              "      width: 32px;\n",
              "    }\n",
              "\n",
              "    .colab-df-convert:hover {\n",
              "      background-color: #E2EBFA;\n",
              "      box-shadow: 0px 1px 2px rgba(60, 64, 67, 0.3), 0px 1px 3px 1px rgba(60, 64, 67, 0.15);\n",
              "      fill: #174EA6;\n",
              "    }\n",
              "\n",
              "    .colab-df-buttons div {\n",
              "      margin-bottom: 4px;\n",
              "    }\n",
              "\n",
              "    [theme=dark] .colab-df-convert {\n",
              "      background-color: #3B4455;\n",
              "      fill: #D2E3FC;\n",
              "    }\n",
              "\n",
              "    [theme=dark] .colab-df-convert:hover {\n",
              "      background-color: #434B5C;\n",
              "      box-shadow: 0px 1px 3px 1px rgba(0, 0, 0, 0.15);\n",
              "      filter: drop-shadow(0px 1px 2px rgba(0, 0, 0, 0.3));\n",
              "      fill: #FFFFFF;\n",
              "    }\n",
              "  </style>\n",
              "\n",
              "    <script>\n",
              "      const buttonEl =\n",
              "        document.querySelector('#df-ef1e2462-a22c-4c50-b6d9-90b88635ccc6 button.colab-df-convert');\n",
              "      buttonEl.style.display =\n",
              "        google.colab.kernel.accessAllowed ? 'block' : 'none';\n",
              "\n",
              "      async function convertToInteractive(key) {\n",
              "        const element = document.querySelector('#df-ef1e2462-a22c-4c50-b6d9-90b88635ccc6');\n",
              "        const dataTable =\n",
              "          await google.colab.kernel.invokeFunction('convertToInteractive',\n",
              "                                                    [key], {});\n",
              "        if (!dataTable) return;\n",
              "\n",
              "        const docLinkHtml = 'Like what you see? Visit the ' +\n",
              "          '<a target=\"_blank\" href=https://colab.research.google.com/notebooks/data_table.ipynb>data table notebook</a>'\n",
              "          + ' to learn more about interactive tables.';\n",
              "        element.innerHTML = '';\n",
              "        dataTable['output_type'] = 'display_data';\n",
              "        await google.colab.output.renderOutput(dataTable, element);\n",
              "        const docLink = document.createElement('div');\n",
              "        docLink.innerHTML = docLinkHtml;\n",
              "        element.appendChild(docLink);\n",
              "      }\n",
              "    </script>\n",
              "  </div>\n",
              "\n",
              "    </div>\n",
              "  </div>\n"
            ]
          },
          "metadata": {},
          "execution_count": 19
        }
      ],
      "source": [
        "chart_power_df_explode[chart_power_df_explode[\"Artist\"] == \"die ã„rzte\"]\n"
      ]
    },
    {
      "cell_type": "code",
      "execution_count": 20,
      "id": "sABBox9lrrSG",
      "metadata": {
        "colab": {
          "base_uri": "https://localhost:8080/",
          "height": 1000
        },
        "id": "sABBox9lrrSG",
        "outputId": "f886a17a-6685-49c8-8003-be6d4f306823"
      },
      "outputs": [
        {
          "output_type": "execute_result",
          "data": {
            "text/plain": [
              "                                 Song               Artist  Points\n",
              "64             all of me (boy oh boy)         sabrina [it]     841\n",
              "85                amoureux solitaires             lio [be]    1555\n",
              "100                      another life            kano [it]    1460\n",
              "187            boys (summertime love)         sabrina [it]    1444\n",
              "198              bridge to your heart             wax [uk]     614\n",
              "256                  change your mind            raff [it]     736\n",
              "314                        cry softly  secret service [se]     451\n",
              "351                      delirio mind          scotch [it]    1120\n",
              "390                        disco band          scotch [it]    1806\n",
              "480         ein weißes blatt'l papier           relax [de]     535\n",
              "568                flash in the night  secret service [se]    1102\n",
              "584                        fotonovela            ivan [es]    1116\n",
              "739                          hot girl         sabrina [it]     690\n",
              "799           i think we're alone now         tiffany [us]    1340\n",
              "804             i want to be your man           roger [us]     714\n",
              "910   ja mei! (des derf doch net sei)           relax [de]     596\n",
              "986                     l. a. goodbye  secret service [se]    1475\n",
              "1172                             mono       monotones [nl]    1050\n",
              "1254                        oh! susie  secret service [se]    2345\n",
              "1364              puttin' on the ritz            taco [nl]    1572\n",
              "1462                     self control            raff [it]    1403\n",
              "1477                      shake it up          divine [us]     603\n",
              "1502                  shoot your shot          divine [us]    1430\n",
              "1628                       take me up          scotch [it]     981\n",
              "1653              ten o'clock postman  secret service [se]    1906\n",
              "1671         the caribbean disco show            lobo [nl]     851\n",
              "1767                          toccata             sky [uk]    1196\n",
              "1870                             wat?          willem [de]     533\n",
              "1892                    weil i di mog           relax [de]    1507\n",
              "1986                         ye-si-ca  secret service [se]    2042\n",
              "2017         your heart keeps burning      blind date [de]    1056"
            ],
            "text/html": [
              "\n",
              "  <div id=\"df-0660c628-49cd-4e9f-aac9-86869ee40d59\" class=\"colab-df-container\">\n",
              "    <div>\n",
              "<style scoped>\n",
              "    .dataframe tbody tr th:only-of-type {\n",
              "        vertical-align: middle;\n",
              "    }\n",
              "\n",
              "    .dataframe tbody tr th {\n",
              "        vertical-align: top;\n",
              "    }\n",
              "\n",
              "    .dataframe thead th {\n",
              "        text-align: right;\n",
              "    }\n",
              "</style>\n",
              "<table border=\"1\" class=\"dataframe\">\n",
              "  <thead>\n",
              "    <tr style=\"text-align: right;\">\n",
              "      <th></th>\n",
              "      <th>Song</th>\n",
              "      <th>Artist</th>\n",
              "      <th>Points</th>\n",
              "    </tr>\n",
              "  </thead>\n",
              "  <tbody>\n",
              "    <tr>\n",
              "      <th>64</th>\n",
              "      <td>all of me (boy oh boy)</td>\n",
              "      <td>sabrina [it]</td>\n",
              "      <td>841</td>\n",
              "    </tr>\n",
              "    <tr>\n",
              "      <th>85</th>\n",
              "      <td>amoureux solitaires</td>\n",
              "      <td>lio [be]</td>\n",
              "      <td>1555</td>\n",
              "    </tr>\n",
              "    <tr>\n",
              "      <th>100</th>\n",
              "      <td>another life</td>\n",
              "      <td>kano [it]</td>\n",
              "      <td>1460</td>\n",
              "    </tr>\n",
              "    <tr>\n",
              "      <th>187</th>\n",
              "      <td>boys (summertime love)</td>\n",
              "      <td>sabrina [it]</td>\n",
              "      <td>1444</td>\n",
              "    </tr>\n",
              "    <tr>\n",
              "      <th>198</th>\n",
              "      <td>bridge to your heart</td>\n",
              "      <td>wax [uk]</td>\n",
              "      <td>614</td>\n",
              "    </tr>\n",
              "    <tr>\n",
              "      <th>256</th>\n",
              "      <td>change your mind</td>\n",
              "      <td>raff [it]</td>\n",
              "      <td>736</td>\n",
              "    </tr>\n",
              "    <tr>\n",
              "      <th>314</th>\n",
              "      <td>cry softly</td>\n",
              "      <td>secret service [se]</td>\n",
              "      <td>451</td>\n",
              "    </tr>\n",
              "    <tr>\n",
              "      <th>351</th>\n",
              "      <td>delirio mind</td>\n",
              "      <td>scotch [it]</td>\n",
              "      <td>1120</td>\n",
              "    </tr>\n",
              "    <tr>\n",
              "      <th>390</th>\n",
              "      <td>disco band</td>\n",
              "      <td>scotch [it]</td>\n",
              "      <td>1806</td>\n",
              "    </tr>\n",
              "    <tr>\n",
              "      <th>480</th>\n",
              "      <td>ein weißes blatt'l papier</td>\n",
              "      <td>relax [de]</td>\n",
              "      <td>535</td>\n",
              "    </tr>\n",
              "    <tr>\n",
              "      <th>568</th>\n",
              "      <td>flash in the night</td>\n",
              "      <td>secret service [se]</td>\n",
              "      <td>1102</td>\n",
              "    </tr>\n",
              "    <tr>\n",
              "      <th>584</th>\n",
              "      <td>fotonovela</td>\n",
              "      <td>ivan [es]</td>\n",
              "      <td>1116</td>\n",
              "    </tr>\n",
              "    <tr>\n",
              "      <th>739</th>\n",
              "      <td>hot girl</td>\n",
              "      <td>sabrina [it]</td>\n",
              "      <td>690</td>\n",
              "    </tr>\n",
              "    <tr>\n",
              "      <th>799</th>\n",
              "      <td>i think we're alone now</td>\n",
              "      <td>tiffany [us]</td>\n",
              "      <td>1340</td>\n",
              "    </tr>\n",
              "    <tr>\n",
              "      <th>804</th>\n",
              "      <td>i want to be your man</td>\n",
              "      <td>roger [us]</td>\n",
              "      <td>714</td>\n",
              "    </tr>\n",
              "    <tr>\n",
              "      <th>910</th>\n",
              "      <td>ja mei! (des derf doch net sei)</td>\n",
              "      <td>relax [de]</td>\n",
              "      <td>596</td>\n",
              "    </tr>\n",
              "    <tr>\n",
              "      <th>986</th>\n",
              "      <td>l. a. goodbye</td>\n",
              "      <td>secret service [se]</td>\n",
              "      <td>1475</td>\n",
              "    </tr>\n",
              "    <tr>\n",
              "      <th>1172</th>\n",
              "      <td>mono</td>\n",
              "      <td>monotones [nl]</td>\n",
              "      <td>1050</td>\n",
              "    </tr>\n",
              "    <tr>\n",
              "      <th>1254</th>\n",
              "      <td>oh! susie</td>\n",
              "      <td>secret service [se]</td>\n",
              "      <td>2345</td>\n",
              "    </tr>\n",
              "    <tr>\n",
              "      <th>1364</th>\n",
              "      <td>puttin' on the ritz</td>\n",
              "      <td>taco [nl]</td>\n",
              "      <td>1572</td>\n",
              "    </tr>\n",
              "    <tr>\n",
              "      <th>1462</th>\n",
              "      <td>self control</td>\n",
              "      <td>raff [it]</td>\n",
              "      <td>1403</td>\n",
              "    </tr>\n",
              "    <tr>\n",
              "      <th>1477</th>\n",
              "      <td>shake it up</td>\n",
              "      <td>divine [us]</td>\n",
              "      <td>603</td>\n",
              "    </tr>\n",
              "    <tr>\n",
              "      <th>1502</th>\n",
              "      <td>shoot your shot</td>\n",
              "      <td>divine [us]</td>\n",
              "      <td>1430</td>\n",
              "    </tr>\n",
              "    <tr>\n",
              "      <th>1628</th>\n",
              "      <td>take me up</td>\n",
              "      <td>scotch [it]</td>\n",
              "      <td>981</td>\n",
              "    </tr>\n",
              "    <tr>\n",
              "      <th>1653</th>\n",
              "      <td>ten o'clock postman</td>\n",
              "      <td>secret service [se]</td>\n",
              "      <td>1906</td>\n",
              "    </tr>\n",
              "    <tr>\n",
              "      <th>1671</th>\n",
              "      <td>the caribbean disco show</td>\n",
              "      <td>lobo [nl]</td>\n",
              "      <td>851</td>\n",
              "    </tr>\n",
              "    <tr>\n",
              "      <th>1767</th>\n",
              "      <td>toccata</td>\n",
              "      <td>sky [uk]</td>\n",
              "      <td>1196</td>\n",
              "    </tr>\n",
              "    <tr>\n",
              "      <th>1870</th>\n",
              "      <td>wat?</td>\n",
              "      <td>willem [de]</td>\n",
              "      <td>533</td>\n",
              "    </tr>\n",
              "    <tr>\n",
              "      <th>1892</th>\n",
              "      <td>weil i di mog</td>\n",
              "      <td>relax [de]</td>\n",
              "      <td>1507</td>\n",
              "    </tr>\n",
              "    <tr>\n",
              "      <th>1986</th>\n",
              "      <td>ye-si-ca</td>\n",
              "      <td>secret service [se]</td>\n",
              "      <td>2042</td>\n",
              "    </tr>\n",
              "    <tr>\n",
              "      <th>2017</th>\n",
              "      <td>your heart keeps burning</td>\n",
              "      <td>blind date [de]</td>\n",
              "      <td>1056</td>\n",
              "    </tr>\n",
              "  </tbody>\n",
              "</table>\n",
              "</div>\n",
              "    <div class=\"colab-df-buttons\">\n",
              "\n",
              "  <div class=\"colab-df-container\">\n",
              "    <button class=\"colab-df-convert\" onclick=\"convertToInteractive('df-0660c628-49cd-4e9f-aac9-86869ee40d59')\"\n",
              "            title=\"Convert this dataframe to an interactive table.\"\n",
              "            style=\"display:none;\">\n",
              "\n",
              "  <svg xmlns=\"http://www.w3.org/2000/svg\" height=\"24px\" viewBox=\"0 -960 960 960\">\n",
              "    <path d=\"M120-120v-720h720v720H120Zm60-500h600v-160H180v160Zm220 220h160v-160H400v160Zm0 220h160v-160H400v160ZM180-400h160v-160H180v160Zm440 0h160v-160H620v160ZM180-180h160v-160H180v160Zm440 0h160v-160H620v160Z\"/>\n",
              "  </svg>\n",
              "    </button>\n",
              "\n",
              "  <style>\n",
              "    .colab-df-container {\n",
              "      display:flex;\n",
              "      gap: 12px;\n",
              "    }\n",
              "\n",
              "    .colab-df-convert {\n",
              "      background-color: #E8F0FE;\n",
              "      border: none;\n",
              "      border-radius: 50%;\n",
              "      cursor: pointer;\n",
              "      display: none;\n",
              "      fill: #1967D2;\n",
              "      height: 32px;\n",
              "      padding: 0 0 0 0;\n",
              "      width: 32px;\n",
              "    }\n",
              "\n",
              "    .colab-df-convert:hover {\n",
              "      background-color: #E2EBFA;\n",
              "      box-shadow: 0px 1px 2px rgba(60, 64, 67, 0.3), 0px 1px 3px 1px rgba(60, 64, 67, 0.15);\n",
              "      fill: #174EA6;\n",
              "    }\n",
              "\n",
              "    .colab-df-buttons div {\n",
              "      margin-bottom: 4px;\n",
              "    }\n",
              "\n",
              "    [theme=dark] .colab-df-convert {\n",
              "      background-color: #3B4455;\n",
              "      fill: #D2E3FC;\n",
              "    }\n",
              "\n",
              "    [theme=dark] .colab-df-convert:hover {\n",
              "      background-color: #434B5C;\n",
              "      box-shadow: 0px 1px 3px 1px rgba(0, 0, 0, 0.15);\n",
              "      filter: drop-shadow(0px 1px 2px rgba(0, 0, 0, 0.3));\n",
              "      fill: #FFFFFF;\n",
              "    }\n",
              "  </style>\n",
              "\n",
              "    <script>\n",
              "      const buttonEl =\n",
              "        document.querySelector('#df-0660c628-49cd-4e9f-aac9-86869ee40d59 button.colab-df-convert');\n",
              "      buttonEl.style.display =\n",
              "        google.colab.kernel.accessAllowed ? 'block' : 'none';\n",
              "\n",
              "      async function convertToInteractive(key) {\n",
              "        const element = document.querySelector('#df-0660c628-49cd-4e9f-aac9-86869ee40d59');\n",
              "        const dataTable =\n",
              "          await google.colab.kernel.invokeFunction('convertToInteractive',\n",
              "                                                    [key], {});\n",
              "        if (!dataTable) return;\n",
              "\n",
              "        const docLinkHtml = 'Like what you see? Visit the ' +\n",
              "          '<a target=\"_blank\" href=https://colab.research.google.com/notebooks/data_table.ipynb>data table notebook</a>'\n",
              "          + ' to learn more about interactive tables.';\n",
              "        element.innerHTML = '';\n",
              "        dataTable['output_type'] = 'display_data';\n",
              "        await google.colab.output.renderOutput(dataTable, element);\n",
              "        const docLink = document.createElement('div');\n",
              "        docLink.innerHTML = docLinkHtml;\n",
              "        element.appendChild(docLink);\n",
              "      }\n",
              "    </script>\n",
              "  </div>\n",
              "\n",
              "\n",
              "<div id=\"df-9d73a594-a717-49b5-a8c8-f94cfbaef965\">\n",
              "  <button class=\"colab-df-quickchart\" onclick=\"quickchart('df-9d73a594-a717-49b5-a8c8-f94cfbaef965')\"\n",
              "            title=\"Suggest charts.\"\n",
              "            style=\"display:none;\">\n",
              "\n",
              "<svg xmlns=\"http://www.w3.org/2000/svg\" height=\"24px\"viewBox=\"0 0 24 24\"\n",
              "     width=\"24px\">\n",
              "    <g>\n",
              "        <path d=\"M19 3H5c-1.1 0-2 .9-2 2v14c0 1.1.9 2 2 2h14c1.1 0 2-.9 2-2V5c0-1.1-.9-2-2-2zM9 17H7v-7h2v7zm4 0h-2V7h2v10zm4 0h-2v-4h2v4z\"/>\n",
              "    </g>\n",
              "</svg>\n",
              "  </button>\n",
              "\n",
              "<style>\n",
              "  .colab-df-quickchart {\n",
              "      --bg-color: #E8F0FE;\n",
              "      --fill-color: #1967D2;\n",
              "      --hover-bg-color: #E2EBFA;\n",
              "      --hover-fill-color: #174EA6;\n",
              "      --disabled-fill-color: #AAA;\n",
              "      --disabled-bg-color: #DDD;\n",
              "  }\n",
              "\n",
              "  [theme=dark] .colab-df-quickchart {\n",
              "      --bg-color: #3B4455;\n",
              "      --fill-color: #D2E3FC;\n",
              "      --hover-bg-color: #434B5C;\n",
              "      --hover-fill-color: #FFFFFF;\n",
              "      --disabled-bg-color: #3B4455;\n",
              "      --disabled-fill-color: #666;\n",
              "  }\n",
              "\n",
              "  .colab-df-quickchart {\n",
              "    background-color: var(--bg-color);\n",
              "    border: none;\n",
              "    border-radius: 50%;\n",
              "    cursor: pointer;\n",
              "    display: none;\n",
              "    fill: var(--fill-color);\n",
              "    height: 32px;\n",
              "    padding: 0;\n",
              "    width: 32px;\n",
              "  }\n",
              "\n",
              "  .colab-df-quickchart:hover {\n",
              "    background-color: var(--hover-bg-color);\n",
              "    box-shadow: 0 1px 2px rgba(60, 64, 67, 0.3), 0 1px 3px 1px rgba(60, 64, 67, 0.15);\n",
              "    fill: var(--button-hover-fill-color);\n",
              "  }\n",
              "\n",
              "  .colab-df-quickchart-complete:disabled,\n",
              "  .colab-df-quickchart-complete:disabled:hover {\n",
              "    background-color: var(--disabled-bg-color);\n",
              "    fill: var(--disabled-fill-color);\n",
              "    box-shadow: none;\n",
              "  }\n",
              "\n",
              "  .colab-df-spinner {\n",
              "    border: 2px solid var(--fill-color);\n",
              "    border-color: transparent;\n",
              "    border-bottom-color: var(--fill-color);\n",
              "    animation:\n",
              "      spin 1s steps(1) infinite;\n",
              "  }\n",
              "\n",
              "  @keyframes spin {\n",
              "    0% {\n",
              "      border-color: transparent;\n",
              "      border-bottom-color: var(--fill-color);\n",
              "      border-left-color: var(--fill-color);\n",
              "    }\n",
              "    20% {\n",
              "      border-color: transparent;\n",
              "      border-left-color: var(--fill-color);\n",
              "      border-top-color: var(--fill-color);\n",
              "    }\n",
              "    30% {\n",
              "      border-color: transparent;\n",
              "      border-left-color: var(--fill-color);\n",
              "      border-top-color: var(--fill-color);\n",
              "      border-right-color: var(--fill-color);\n",
              "    }\n",
              "    40% {\n",
              "      border-color: transparent;\n",
              "      border-right-color: var(--fill-color);\n",
              "      border-top-color: var(--fill-color);\n",
              "    }\n",
              "    60% {\n",
              "      border-color: transparent;\n",
              "      border-right-color: var(--fill-color);\n",
              "    }\n",
              "    80% {\n",
              "      border-color: transparent;\n",
              "      border-right-color: var(--fill-color);\n",
              "      border-bottom-color: var(--fill-color);\n",
              "    }\n",
              "    90% {\n",
              "      border-color: transparent;\n",
              "      border-bottom-color: var(--fill-color);\n",
              "    }\n",
              "  }\n",
              "</style>\n",
              "\n",
              "  <script>\n",
              "    async function quickchart(key) {\n",
              "      const quickchartButtonEl =\n",
              "        document.querySelector('#' + key + ' button');\n",
              "      quickchartButtonEl.disabled = true;  // To prevent multiple clicks.\n",
              "      quickchartButtonEl.classList.add('colab-df-spinner');\n",
              "      try {\n",
              "        const charts = await google.colab.kernel.invokeFunction(\n",
              "            'suggestCharts', [key], {});\n",
              "      } catch (error) {\n",
              "        console.error('Error during call to suggestCharts:', error);\n",
              "      }\n",
              "      quickchartButtonEl.classList.remove('colab-df-spinner');\n",
              "      quickchartButtonEl.classList.add('colab-df-quickchart-complete');\n",
              "    }\n",
              "    (() => {\n",
              "      let quickchartButtonEl =\n",
              "        document.querySelector('#df-9d73a594-a717-49b5-a8c8-f94cfbaef965 button');\n",
              "      quickchartButtonEl.style.display =\n",
              "        google.colab.kernel.accessAllowed ? 'block' : 'none';\n",
              "    })();\n",
              "  </script>\n",
              "</div>\n",
              "    </div>\n",
              "  </div>\n"
            ]
          },
          "metadata": {},
          "execution_count": 20
        }
      ],
      "source": [
        "chart_power_df_explode[chart_power_df_explode[\"Artist\"].str.contains(\"\\[\")]"
      ]
    },
    {
      "cell_type": "markdown",
      "id": "1Hmkpe8Y4ovp",
      "metadata": {
        "id": "1Hmkpe8Y4ovp"
      },
      "source": [
        "Weiterhin ist hinter einigen Künstlern das Herukunftsland in eckigen Klammern gekennzeichnet. Dies muss ebenfalls entfernet werden, da diese andernfalls nicht von der Spotify API gefunden werden."
      ]
    },
    {
      "cell_type": "code",
      "execution_count": 21,
      "id": "nunIxhtV7VwX",
      "metadata": {
        "id": "nunIxhtV7VwX"
      },
      "outputs": [],
      "source": [
        "pattern = r' \\[.*?\\]'\n",
        "chart_power_df_explode[\"Artist\"] = chart_power_df_explode[\"Artist\"].str.replace(pattern, '',regex=True)"
      ]
    },
    {
      "cell_type": "code",
      "execution_count": 22,
      "id": "9UGCM34i7gP_",
      "metadata": {
        "colab": {
          "base_uri": "https://localhost:8080/",
          "height": 53
        },
        "id": "9UGCM34i7gP_",
        "outputId": "3367a500-d7f6-4791-b9be-a18e3cedc25b"
      },
      "outputs": [
        {
          "output_type": "execute_result",
          "data": {
            "text/plain": [
              "Empty DataFrame\n",
              "Columns: [Song, Artist, Points]\n",
              "Index: []"
            ],
            "text/html": [
              "\n",
              "  <div id=\"df-ec69f488-db44-4184-9603-ba1980dbd2d3\" class=\"colab-df-container\">\n",
              "    <div>\n",
              "<style scoped>\n",
              "    .dataframe tbody tr th:only-of-type {\n",
              "        vertical-align: middle;\n",
              "    }\n",
              "\n",
              "    .dataframe tbody tr th {\n",
              "        vertical-align: top;\n",
              "    }\n",
              "\n",
              "    .dataframe thead th {\n",
              "        text-align: right;\n",
              "    }\n",
              "</style>\n",
              "<table border=\"1\" class=\"dataframe\">\n",
              "  <thead>\n",
              "    <tr style=\"text-align: right;\">\n",
              "      <th></th>\n",
              "      <th>Song</th>\n",
              "      <th>Artist</th>\n",
              "      <th>Points</th>\n",
              "    </tr>\n",
              "  </thead>\n",
              "  <tbody>\n",
              "  </tbody>\n",
              "</table>\n",
              "</div>\n",
              "    <div class=\"colab-df-buttons\">\n",
              "\n",
              "  <div class=\"colab-df-container\">\n",
              "    <button class=\"colab-df-convert\" onclick=\"convertToInteractive('df-ec69f488-db44-4184-9603-ba1980dbd2d3')\"\n",
              "            title=\"Convert this dataframe to an interactive table.\"\n",
              "            style=\"display:none;\">\n",
              "\n",
              "  <svg xmlns=\"http://www.w3.org/2000/svg\" height=\"24px\" viewBox=\"0 -960 960 960\">\n",
              "    <path d=\"M120-120v-720h720v720H120Zm60-500h600v-160H180v160Zm220 220h160v-160H400v160Zm0 220h160v-160H400v160ZM180-400h160v-160H180v160Zm440 0h160v-160H620v160ZM180-180h160v-160H180v160Zm440 0h160v-160H620v160Z\"/>\n",
              "  </svg>\n",
              "    </button>\n",
              "\n",
              "  <style>\n",
              "    .colab-df-container {\n",
              "      display:flex;\n",
              "      gap: 12px;\n",
              "    }\n",
              "\n",
              "    .colab-df-convert {\n",
              "      background-color: #E8F0FE;\n",
              "      border: none;\n",
              "      border-radius: 50%;\n",
              "      cursor: pointer;\n",
              "      display: none;\n",
              "      fill: #1967D2;\n",
              "      height: 32px;\n",
              "      padding: 0 0 0 0;\n",
              "      width: 32px;\n",
              "    }\n",
              "\n",
              "    .colab-df-convert:hover {\n",
              "      background-color: #E2EBFA;\n",
              "      box-shadow: 0px 1px 2px rgba(60, 64, 67, 0.3), 0px 1px 3px 1px rgba(60, 64, 67, 0.15);\n",
              "      fill: #174EA6;\n",
              "    }\n",
              "\n",
              "    .colab-df-buttons div {\n",
              "      margin-bottom: 4px;\n",
              "    }\n",
              "\n",
              "    [theme=dark] .colab-df-convert {\n",
              "      background-color: #3B4455;\n",
              "      fill: #D2E3FC;\n",
              "    }\n",
              "\n",
              "    [theme=dark] .colab-df-convert:hover {\n",
              "      background-color: #434B5C;\n",
              "      box-shadow: 0px 1px 3px 1px rgba(0, 0, 0, 0.15);\n",
              "      filter: drop-shadow(0px 1px 2px rgba(0, 0, 0, 0.3));\n",
              "      fill: #FFFFFF;\n",
              "    }\n",
              "  </style>\n",
              "\n",
              "    <script>\n",
              "      const buttonEl =\n",
              "        document.querySelector('#df-ec69f488-db44-4184-9603-ba1980dbd2d3 button.colab-df-convert');\n",
              "      buttonEl.style.display =\n",
              "        google.colab.kernel.accessAllowed ? 'block' : 'none';\n",
              "\n",
              "      async function convertToInteractive(key) {\n",
              "        const element = document.querySelector('#df-ec69f488-db44-4184-9603-ba1980dbd2d3');\n",
              "        const dataTable =\n",
              "          await google.colab.kernel.invokeFunction('convertToInteractive',\n",
              "                                                    [key], {});\n",
              "        if (!dataTable) return;\n",
              "\n",
              "        const docLinkHtml = 'Like what you see? Visit the ' +\n",
              "          '<a target=\"_blank\" href=https://colab.research.google.com/notebooks/data_table.ipynb>data table notebook</a>'\n",
              "          + ' to learn more about interactive tables.';\n",
              "        element.innerHTML = '';\n",
              "        dataTable['output_type'] = 'display_data';\n",
              "        await google.colab.output.renderOutput(dataTable, element);\n",
              "        const docLink = document.createElement('div');\n",
              "        docLink.innerHTML = docLinkHtml;\n",
              "        element.appendChild(docLink);\n",
              "      }\n",
              "    </script>\n",
              "  </div>\n",
              "\n",
              "    </div>\n",
              "  </div>\n"
            ]
          },
          "metadata": {},
          "execution_count": 22
        }
      ],
      "source": [
        "chart_power_df_explode[chart_power_df_explode[\"Artist\"].str.contains(\"\\[\")]"
      ]
    },
    {
      "cell_type": "code",
      "execution_count": 23,
      "id": "1Cp6_5IdIOau",
      "metadata": {
        "colab": {
          "base_uri": "https://localhost:8080/"
        },
        "id": "1Cp6_5IdIOau",
        "outputId": "b38ed1b6-cc93-48f7-a7bc-1548e4551ea1"
      },
      "outputs": [
        {
          "output_type": "execute_result",
          "data": {
            "text/plain": [
              "944"
            ]
          },
          "metadata": {},
          "execution_count": 23
        }
      ],
      "source": [
        "len(chart_power_df_explode[\"Artist\"].unique())"
      ]
    },
    {
      "cell_type": "code",
      "execution_count": 24,
      "id": "6d4523e7",
      "metadata": {
        "id": "6d4523e7"
      },
      "outputs": [],
      "source": [
        "import time\n",
        "\n",
        "def sp_request(req, retries, max_retries, *args):\n",
        "  try:\n",
        "    call_api()\n",
        "    return req(*args)\n",
        "  except Exception as e:\n",
        "    if isinstance(e, spotipy.exceptions.SpotifyException) and e.http_status == 429:\n",
        "      # Handle rate limiting (HTTP 429)\n",
        "      if retries < max_retries:\n",
        "          sleep_time = exponential_backoff(retries)\n",
        "          print(f\"Rate limited, waiting for {sleep_time} seconds before retrying...\")\n",
        "          time.sleep(sleep_time)\n",
        "          retries += 1\n",
        "          return sp_request(req, retries, max_retries, *args)\n",
        "      else:\n",
        "          print(\"Max retries reached, exiting...\")\n",
        "    else:\n",
        "      print(f\"An error occurred: {e}\")\n",
        "      retries += 1\n",
        "      return sp_request(req, retries, max_retries, *args)\n",
        "\n",
        "# Define a function for exponential backoff\n",
        "def exponential_backoff(retries):\n",
        "    return 2 ** retries"
      ]
    },
    {
      "cell_type": "code",
      "execution_count": 25,
      "id": "xqvBU-fOJKTl",
      "metadata": {
        "id": "xqvBU-fOJKTl"
      },
      "outputs": [],
      "source": [
        "def filter_track_features(track, features, genre):\n",
        "    '''\n",
        "    Filters the relevant features of a track in returns them in JSON object.\n",
        "\n",
        "    Parameter\n",
        "    ---------\n",
        "    track: Object\n",
        "        Track returend by the spotify API\n",
        "\n",
        "    genre: string\n",
        "        Genre that should be used\n",
        "\n",
        "    Return\n",
        "    ------\n",
        "    relevant_features: Object\n",
        "        JSON Object that contains the relevant featues\n",
        "    '''\n",
        "\n",
        "    external_ids = track['external_ids'] if 'external_ids' in track else {}\n",
        "    isrc = external_ids['isrc'] if 'isrc' in external_ids else np.nan\n",
        "    artist_names = []\n",
        "\n",
        "    if 'artists' in track and isinstance(track['artists'],list):\n",
        "        for artist in track['artists']:\n",
        "            if 'name' in artist:\n",
        "                artist_names.append(artist['name'])\n",
        "        artist_names = ','.join(artist_names)\n",
        "    else:\n",
        "        artist_names = np.nan\n",
        "\n",
        "\n",
        "\n",
        "    if 'album' in track:\n",
        "        album = track['album']['name'] if 'name' in track['album'] else np.nan\n",
        "        release_date = track['album']['release_date'] if 'release_date' in track['album'] else np.nan\n",
        "        release_date_precision = track['album']['release_date_precision'] if 'release_date_precision' in track['album'] else np.nan\n",
        "    else:\n",
        "         album = np.nan\n",
        "         release_date = np.nan\n",
        "         release_date_precision = np.nan\n",
        "\n",
        "\n",
        "    track_name = track['name'] if 'name' in track else np.nan\n",
        "    if track_name != np.nan and artist_names != np.nan:\n",
        "        points = chart_power_df_explode.loc[(chart_power_df_explode.Song == track_name.lower()) & (chart_power_df_explode.Artist.str.contains(artist_names.lower()))]['Points']\n",
        "        if points.empty:\n",
        "             points = np.nan\n",
        "        else:\n",
        "            try:\n",
        "                points = int(points)\n",
        "            except Exception as e:\n",
        "                print(e)\n",
        "                print(track_name)\n",
        "                print(artist_names)\n",
        "                print(points)\n",
        "                print(\"-------\")\n",
        "    else:\n",
        "         points = np.nan\n",
        "\n",
        "    return {\n",
        "        'name': track_name,\n",
        "        'artists': artist_names,\n",
        "        'album': album,\n",
        "        'release_date': release_date,\n",
        "        'release_date_precision': release_date_precision,\n",
        "        'spotify_id': track['id'] if 'id' in track else np.nan,\n",
        "        'chart_power': points,\n",
        "        'uri': track['uri'] if 'uri' in track else np.nan,\n",
        "        'popularity': track['popularity'] if 'popularity' in track else np.nan,\n",
        "        'genres': np.nan if genre == False else genre,\n",
        "        'danceability': features['danceability'] if 'danceability' in features else np.nan,\n",
        "        'energy': features['energy'] if 'energy' in features else np.nan,\n",
        "        'key': features['key'] if 'key' in features else np.nan,\n",
        "        'loudness': features['loudness'] if 'loudness' in features else np.nan,\n",
        "        'mode': features['mode'] if 'mode' in features else np.nan,\n",
        "        'speechiness': features['speechiness'] if 'speechiness' in features else np.nan,\n",
        "        'acousticness': features['acousticness'] if 'acousticness' in features else np.nan,\n",
        "        'instrumentalness': features['instrumentalness'] if 'instrumentalness' in features else np.nan,\n",
        "        'liveness': features['liveness'] if 'liveness' in features else np.nan,\n",
        "        'valence': features['valence'] if 'valence' in features else np.nan,\n",
        "        'tempo': features['tempo'] if 'tempo' in features else np.nan,\n",
        "        'duration_ms': features['duration_ms'] if 'duration_ms' in features else np.nan,\n",
        "        'time_signature': features['time_signature'] if 'time_signature' in features else np.nan,\n",
        "        'isrc': isrc,\n",
        "    }"
      ]
    },
    {
      "cell_type": "code",
      "execution_count": 26,
      "id": "WmdEhgeeFw7y",
      "metadata": {
        "id": "WmdEhgeeFw7y"
      },
      "outputs": [],
      "source": [
        "def get_number_of_tracks(release_year, artist, genre):\n",
        "    '''\n",
        "    Retrieves the number of tracks the spotfiy API returns for a specific query.\n",
        "    '''\n",
        "    if genre == False:\n",
        "      result = sp_request(lambda release_year, artist: sp.search(q=f'year:{release_year} artist:{artist}', type='track', limit=1, offset=0, market='DE'), 0, 100, release_year, artist)\n",
        "    else:\n",
        "      result = sp_request(lambda release_year, artist, genre: sp.search(q=f'year:{release_year} artist:{artist} genre:{genre}', type='track', limit=1, offset=0, market='DE'), 0, 100, release_year, artist, genre)\n",
        "\n",
        "    tracks = result['tracks'] if 'tracks' in result else ''\n",
        "    return tracks['total'] if 'total' in tracks else 0"
      ]
    },
    {
      "cell_type": "code",
      "execution_count": 27,
      "id": "ed2zqIflNBmu",
      "metadata": {
        "id": "ed2zqIflNBmu"
      },
      "outputs": [],
      "source": [
        "genres = ['chicago-house', 'hard-rock', 'rock', 'power-pop', 'guitar', 'hardcore',\n",
        "          'groove', 'songwriter', 'garage', 'disco', 'grunge', 'ambient',\n",
        "          'minimal-techno', 'brazil', 'indie', 'detroit-techno', 'electronic',\n",
        "          'edm', 'dubstep', 'children', 'drum-and-bass', 'indian', 'death-metal',\n",
        "          'club', 'salsa', 'bluegrass', 'metal', 'reggae', 'tango', 'black-metal',\n",
        "          'british', 'german', 'punk', 'reggaeton', 'alternative', 'soul', 'r-n-b',\n",
        "          'goth', 'pop-film', 'breakbeat', 'indie-pop', 'heavy-metal', 'dance',\n",
        "          'honky-tonk', 'dancehall', 'dub', 'singer-songwriter', 'spanish',\n",
        "          'deep-house', 'rock-n-roll', 'techno', 'hip-hop', 'punk-rock', 'industrial',\n",
        "          'afrobeat', 'trip-hop', 'funk', 'blues', 'swedish', 'latino', 'alt-rock',\n",
        "          'country', 'acoustic', 'trance', 'grindcore', 'ska', 'house', 'progressive-house',\n",
        "          'new-age', 'electro', 'rockabilly', 'party', 'pop', 'synth-pop', 'latin',\n",
        "          'psych-rock']"
      ]
    },
    {
      "cell_type": "code",
      "execution_count": 173,
      "id": "O-BgiLVNEEIB",
      "metadata": {
        "id": "O-BgiLVNEEIB",
        "outputId": "a5ed19f1-5f81-4659-f318-b16877b43637",
        "colab": {
          "base_uri": "https://localhost:8080/",
          "height": 163
        }
      },
      "outputs": [
        {
          "output_type": "execute_result",
          "data": {
            "text/plain": [
              "'\\nartist_over_1000 = []\\ndf = pd.DataFrame()\\nwith tqdm(total=len(genres)*len(chart_power_df_explode[\"Artist\"].unique())) as pbar:\\n  for artist in chart_power_df_explode[\"Artist\"].unique():\\n    for genre in genres:\\n      total_results = get_number_of_tracks(\"1980-1989\", artist, genre)\\n      if total_results < 1000:\\n        offset = 0\\n        while offset < total_results:\\n          try:\\n            track_features = []\\n            call_api()\\n            result = sp.search(q=f\"year:1980-1989 artist:{artist} genre:{genre}\", type=\"track\", limit=50, offset=offset, market=\"DE\")\\n            tracks = result[\"tracks\"] if \"tracks\" in result else \"\"\\n            if \"items\" in tracks:\\n              for track in tracks[\"items\"]:\\n                features = filter_track_features(track, genre)\\n                track_features.append(features)\\n              offset += 50\\n              df = pd.concat([df, pd.DataFrame(track_features)], ignore_index=True)\\n              df.to_scv\\n            else:\\n              continue\\n          except Exception as e:\\n            print(e)\\n      else:\\n        print(f\"Artist {artist} has published over 1000 songs in the 80s\")\\n        artist_over_1000.append(artist)\\n\\n      pbar.update(1)\\n      df.to_csv(f\"{PATH}/data-new.csv\")\\n  '"
            ],
            "application/vnd.google.colaboratory.intrinsic+json": {
              "type": "string"
            }
          },
          "metadata": {},
          "execution_count": 173
        }
      ],
      "source": [
        "'''\n",
        "artist_over_1000 = []\n",
        "df = pd.DataFrame()\n",
        "with tqdm(total=len(genres)*len(chart_power_df_explode[\"Artist\"].unique())) as pbar:\n",
        "  for artist in chart_power_df_explode[\"Artist\"].unique():\n",
        "    for genre in genres:\n",
        "      total_results = get_number_of_tracks(\"1980-1989\", artist, genre)\n",
        "      if total_results < 1000:\n",
        "        offset = 0\n",
        "        while offset < total_results:\n",
        "          try:\n",
        "            track_features = []\n",
        "            call_api()\n",
        "            result = sp.search(q=f\"year:1980-1989 artist:{artist} genre:{genre}\", type=\"track\", limit=50, offset=offset, market=\"DE\")\n",
        "            tracks = result[\"tracks\"] if \"tracks\" in result else \"\"\n",
        "            if \"items\" in tracks:\n",
        "              for track in tracks[\"items\"]:\n",
        "                features = filter_track_features(track, genre)\n",
        "                track_features.append(features)\n",
        "              offset += 50\n",
        "              df = pd.concat([df, pd.DataFrame(track_features)], ignore_index=True)\n",
        "              df.to_scv\n",
        "            else:\n",
        "              continue\n",
        "          except Exception as e:\n",
        "            print(e)\n",
        "      else:\n",
        "        print(f\"Artist {artist} has published over 1000 songs in the 80s\")\n",
        "        artist_over_1000.append(artist)\n",
        "\n",
        "      pbar.update(1)\n",
        "      df.to_csv(f\"{PATH}/data-new.csv\")\n",
        "  '''"
      ]
    },
    {
      "cell_type": "code",
      "execution_count": null,
      "id": "otKnrfm0I-ca",
      "metadata": {
        "id": "otKnrfm0I-ca"
      },
      "outputs": [],
      "source": [
        "# Initialize offset and retries\n",
        "offset = 0\n",
        "\n",
        "artist_over_1000 = []\n",
        "no_tracks = []\n",
        "no_features = []\n",
        "artists_not_found = []\n",
        "\n",
        "\n",
        "df = pd.DataFrame()\n",
        "with tqdm(total=len(chart_power_df_explode[\"Artist\"].unique())) as pbar:\n",
        "  tracks_ = []\n",
        "  audio_features_ = []\n",
        "\n",
        "  for artist in chart_power_df_explode[\"Artist\"].unique():\n",
        "    total_results = get_number_of_tracks(\"1980-1989\", artist, False)\n",
        "    if total_results == 0:\n",
        "      print(f\"{artist} not found!\")\n",
        "      artists_not_found.append(artist)\n",
        "    elif total_results < 1000:\n",
        "      offset = 0\n",
        "      while offset < total_results:\n",
        "        result = sp_request(lambda artist, offset: sp.search(q=f\"year:1980-1989 artist:{artist}\", type=\"track\", limit=50, offset=offset, market=\"DE\"), 0, 100, artist, offset)\n",
        "        offset += 50\n",
        "        if \"tracks\" not in result:\n",
        "          print(\"No tracks in result\")\n",
        "          continue\n",
        "\n",
        "        tracks = result[\"tracks\"]\n",
        "\n",
        "        if \"items\" in tracks and isinstance(tracks[\"items\"], list):\n",
        "          for track in tracks[\"items\"]:\n",
        "            tracks_.append(track)\n",
        "            if len(tracks_) == 100:\n",
        "              audio_features_ = sp_request(lambda x: sp.audio_features([track[\"id\"] for track in x]), 0, 100, tracks_)\n",
        "              track_features = []\n",
        "              if len(tracks_) != len(audio_features_):\n",
        "                print(\"Tracks and features have not the same lengh!\")\n",
        "                print(len(tracks_), len(audio_features_))\n",
        "              for t, af in list(zip(tracks_, audio_features_)):\n",
        "                if not t:\n",
        "                  print(\"No track!\")\n",
        "                  print(t)\n",
        "                  print(af)\n",
        "                  no_tracks.append(af)\n",
        "                  continue\n",
        "                if not af:\n",
        "                  print(\"No features\")\n",
        "                  print(af)\n",
        "                  print(t)\n",
        "                  no_features.append(t)\n",
        "                  continue\n",
        "                features = filter_track_features(t, af, False)\n",
        "                track_features.append(features)\n",
        "              df = pd.concat([df, pd.DataFrame(track_features)], ignore_index=True)\n",
        "              #df.to_csv(f\"{PATH}/data-new-without-genres-final.csv\")\n",
        "              tracks_ = []\n",
        "              audio_features_ = []\n",
        "        else:\n",
        "          continue\n",
        "    else:\n",
        "      print(f\"Artist {artist} has published over 1000 songs in the 80s\")\n",
        "      artist_over_1000.append(artist)\n",
        "\n",
        "    pbar.update(1)\n",
        "\n",
        "problems = {\n",
        "    \"artist_over_1000\": artist_over_1000,\n",
        "    \"artist_not_found\": artists_not_found,\n",
        "    \"no_features\": [track[\"id\"] for track in no_features]\n",
        "}\n",
        "#with open(f\"{PATH}/problems.json\", \"w\") as file:\n",
        "    #json.dump(problems, file)"
      ]
    },
    {
      "cell_type": "code",
      "execution_count": 31,
      "id": "7a08542a",
      "metadata": {
        "id": "7a08542a"
      },
      "outputs": [],
      "source": [
        "df = pd.read_csv(f\"{PATH}/data-new-without-genres-final.csv\")"
      ]
    },
    {
      "cell_type": "code",
      "execution_count": 33,
      "id": "24a576dc",
      "metadata": {
        "id": "24a576dc"
      },
      "outputs": [],
      "source": [
        "with open(f\"{PATH}/problems.json\", \"r\") as file:\n",
        "    loaded_problems = json.load(file)\n",
        "    artist_over_1000 = loaded_problems[\"artist_over_1000\"]\n",
        "    artists_not_found = loaded_problems[\"artist_not_found\"]\n",
        "    no_features = loaded_problems[\"no_features\"]"
      ]
    },
    {
      "cell_type": "markdown",
      "source": [
        "Untersuchen der aufgetretenen Probleme."
      ],
      "metadata": {
        "id": "B3L1Yqqsnztt"
      },
      "id": "B3L1Yqqsnztt"
    },
    {
      "cell_type": "code",
      "source": [
        "print(f\"Insgesamt wurden für {len(no_features)} Songs keine Features gefunden.\")\n",
        "\n",
        "# Überprüfen, ob die Songs wirklich über keine Features verfügen\n",
        "test_features = sp.audio_features(no_features)\n",
        "songs_with_features = [item for item in test_features if item != None]\n",
        "if len(songs_with_features):\n",
        "  print(songs_with_features)"
      ],
      "metadata": {
        "id": "IOBY4Mubn5DT",
        "outputId": "62f72f55-399e-4679-ae91-cba970414da3",
        "colab": {
          "base_uri": "https://localhost:8080/"
        }
      },
      "id": "IOBY4Mubn5DT",
      "execution_count": 34,
      "outputs": [
        {
          "output_type": "stream",
          "name": "stdout",
          "text": [
            "Insgesamt wurden für 29 Songs keine Features gefunden.\n"
          ]
        }
      ]
    },
    {
      "cell_type": "code",
      "source": [
        "artists = chart_power_df_explode[\"Artist\"].unique()\n",
        "print(f\"{len(artists_not_found)} von {len(artists)} Künstlern wurden von der Spotify API nicht gefunden.\")"
      ],
      "metadata": {
        "id": "SlSOgx5ppJYH",
        "outputId": "4703555a-b1e4-49b7-9666-d821a45a07b0",
        "colab": {
          "base_uri": "https://localhost:8080/"
        }
      },
      "id": "SlSOgx5ppJYH",
      "execution_count": 35,
      "outputs": [
        {
          "output_type": "stream",
          "name": "stdout",
          "text": [
            "156 von 944 Künstlern wurden von der Spotify API nicht gefunden.\n"
          ]
        }
      ]
    },
    {
      "cell_type": "markdown",
      "source": [
        "Eventuell sind die Lieder der Künstler in anderen Jahren erschienen."
      ],
      "metadata": {
        "id": "W0Q2CuZlWTc3"
      },
      "id": "W0Q2CuZlWTc3"
    },
    {
      "cell_type": "code",
      "source": [
        "artist_nfo = []\n",
        "for artist in artists_not_found:\n",
        "  res = sp.search(q=f\"artist:{artist}\", type=\"track\", market=\"DE\")\n",
        "  if len(res[\"tracks\"][\"items\"]) == 0:\n",
        "    print(f\"Artist {artist} not found overall.\")\n",
        "    artist_nfo.append(artist)"
      ],
      "metadata": {
        "id": "Wn_VSVhSVNVJ",
        "outputId": "a1444789-83d1-424e-9015-363363ead02e",
        "colab": {
          "base_uri": "https://localhost:8080/"
        }
      },
      "id": "Wn_VSVhSVNVJ",
      "execution_count": 211,
      "outputs": [
        {
          "output_type": "stream",
          "name": "stdout",
          "text": [
            "Artist b.a. robertson not found overall.\n",
            "Artist the world's famous supreme team not found overall.\n",
            "Artist anete humpe not found overall.\n",
            "Artist t'pau not found overall.\n",
            "Artist dexys midnight runners with the emerald express not found overall.\n",
            "Artist terence trent d'arby not found overall.\n",
            "Artist patrick cowley feat. sylvester not found overall.\n",
            "Artist the christians, holly johnson, paul mccartney, gerry marsden not found overall.\n",
            "Artist tommy piper singt alf not found overall.\n",
            "Artist koreana not found overall.\n",
            "Artist michael jackson with siedah garrett not found overall.\n",
            "Artist m.a.r.r.s. not found overall.\n",
            "Artist barbara gaskin not found overall.\n",
            "Artist mary roos und david hanselmann not found overall.\n",
            "Artist g'race not found overall.\n",
            "Artist band für afrika not found overall.\n",
            "Artist mike oldfield feat. aled jones, anita hegerland not found overall.\n",
            "Artist technotronic feat. felly not found overall.\n",
            "Artist tommi ohrner not found overall.\n",
            "Artist mike oldfield and roger chapman not found overall.\n",
            "Artist salt 'n' pepa feat. e.u. not found overall.\n",
            "Artist wendy fraser not found overall.\n",
            "Artist prince mohammed not found overall.\n",
            "Artist marc almond feat. gene pitney not found overall.\n",
            "Artist the jacksons with mick jagger not found overall.\n",
            "Artist tolga flim flam balkan not found overall.\n",
            "Artist the plastic population not found overall.\n",
            "Artist fat boys with stupid def vocals by chubby checker not found overall.\n",
            "Artist mike oldfield (vocals: maggie reilly) not found overall.\n",
            "Artist wolf maahn und unterstützung not found overall.\n",
            "Artist the bootzilla orchestra not found overall.\n"
          ]
        }
      ]
    },
    {
      "cell_type": "code",
      "source": [
        "print(f\"Insgesamt {len(artist_nfo)} Künstler wurden auch für andere Jahre nicht von der Spotify API gefunden.\")\n",
        "print(f\"{len(artists_not_found) - len(artist_nfo)} Künstler haben Lieder in anderen Jahren veröffentlicht. Es ist jedoch unklar, ob es sich hierbei um besagte Chartsongs handelt.\")"
      ],
      "metadata": {
        "id": "t_gTLAhUWLaC",
        "outputId": "524615b3-92f0-4c31-8205-1190fe71b4f9",
        "colab": {
          "base_uri": "https://localhost:8080/"
        }
      },
      "id": "t_gTLAhUWLaC",
      "execution_count": 215,
      "outputs": [
        {
          "output_type": "stream",
          "name": "stdout",
          "text": [
            "Insgesamt 31 Künstler wurden auch für andere Jahre nicht von der Spotify API gefunden.\n",
            "125 Künstler haben Lieder in anderen Jahren veröffentlicht. Es ist jedoch unklar, ob es sich hierbei um besagte Chartsongs handelt.\n"
          ]
        }
      ]
    },
    {
      "cell_type": "code",
      "source": [
        "df = df.applymap(lambda s: s.lower() if type(s) == str else s)"
      ],
      "metadata": {
        "id": "G02_k8vAtIcb"
      },
      "id": "G02_k8vAtIcb",
      "execution_count": 36,
      "outputs": []
    },
    {
      "cell_type": "code",
      "source": [
        "def convert_artist_names(df, logs = False):\n",
        "  '''\n",
        "\n",
        "  '''\n",
        "  df_artists = df.copy()\n",
        "  if logs:\n",
        "    print('Occurences of substring \", \": ' + str(len(df_artists.loc[df_artists[\"artists\"].str.contains(', ')])))\n",
        "    print('Occurences of substring \"_\":' + str(len(df_artists.loc[df_artists[\"artists\"].str.contains('_')])))\n",
        "\n",
        "  df_artists.loc[df_artists[\"artists\"].str.contains(', '), 'artists'] = df_artists[df_artists[\"artists\"].str.contains(', ')]['artists'].str.replace(', ', '_')\n",
        "\n",
        "  if logs:\n",
        "    print('Occurences of substring \", \": ' + str(len(df_artists.loc[df_artists[\"artists\"].str.contains(', ')])))\n",
        "    print('Occurences of substring \"_\":' + str(len(df_artists.loc[df_artists[\"artists\"].str.contains('_')])))\n",
        "\n",
        "  df_artists['artists'] = df_artists['artists'].str.split(',')\n",
        "  df_split_artists = df_artists.explode('artists')\n",
        "\n",
        "  if logs:\n",
        "    print('Occurences of substring \", \": ' + str(len(df_split_artists.loc[df_split_artists[\"artists\"].str.contains(', ')])))\n",
        "    print('Occurences of substring \"_\":' + str(len(df_split_artists.loc[df_split_artists[\"artists\"].str.contains('_')])))\n",
        "\n",
        "  df_split_artists.loc[df_split_artists['artists'].str.contains('_'), 'artists'] = df_split_artists[df_split_artists[\"artists\"].str.contains('_')]['artists'].str.replace('_', ', ')\n",
        "\n",
        "  if logs:\n",
        "    print('Occurences of substring \", \": ' + str(len(df_split_artists.loc[df_split_artists[\"artists\"].str.contains(', ')])))\n",
        "    print('Occurences of substring \"_\":' + str(len(df_split_artists.loc[df_split_artists[\"artists\"].str.contains('_')])))\n",
        "  return df_split_artists"
      ],
      "metadata": {
        "id": "T9etnMV0XpSs"
      },
      "id": "T9etnMV0XpSs",
      "execution_count": 44,
      "outputs": []
    },
    {
      "cell_type": "code",
      "source": [
        "df_split_artists = convert_artist_names(df)\n",
        "chart_artists = list(chart_power_df_explode[\"Artist\"].unique())\n",
        "unique_artists_in_dataframe = set(df_split_artists[\"artists\"])\n",
        "artists_not_in_dataframe = [artist for artist in chart_artists if artist not in unique_artists_in_dataframe]"
      ],
      "metadata": {
        "id": "3JN7vdfiMl4i"
      },
      "execution_count": 45,
      "outputs": [],
      "id": "3JN7vdfiMl4i"
    },
    {
      "cell_type": "code",
      "source": [
        "len(artists_not_in_dataframe),len(chart_artists)"
      ],
      "metadata": {
        "id": "qeiKuaS5NAgv",
        "outputId": "73b7e0cb-cbaa-4aa2-ca6b-aec86df0900a",
        "colab": {
          "base_uri": "https://localhost:8080/"
        }
      },
      "execution_count": 46,
      "outputs": [
        {
          "output_type": "execute_result",
          "data": {
            "text/plain": [
              "(288, 944)"
            ]
          },
          "metadata": {},
          "execution_count": 46
        }
      ],
      "id": "qeiKuaS5NAgv"
    },
    {
      "cell_type": "code",
      "source": [
        "dfa = df.copy()\n",
        "dfa[\"artists\"] = dfa[\"artists\"].str.split(\",\")\n",
        "dfa = dfa.explode(\"artists\")"
      ],
      "metadata": {
        "id": "3wxD8EuKBpyk"
      },
      "id": "3wxD8EuKBpyk",
      "execution_count": 49,
      "outputs": []
    },
    {
      "cell_type": "code",
      "source": [
        "dfa.shape, df_split_artists.shape, df.shape"
      ],
      "metadata": {
        "id": "6A7_umBtCLzU",
        "outputId": "2a1d81d0-2d27-4ee9-ac79-e3106ab4ceb7",
        "colab": {
          "base_uri": "https://localhost:8080/"
        }
      },
      "id": "6A7_umBtCLzU",
      "execution_count": 50,
      "outputs": [
        {
          "output_type": "execute_result",
          "data": {
            "text/plain": [
              "((81605, 25), (81176, 25), (68371, 25))"
            ]
          },
          "metadata": {},
          "execution_count": 50
        }
      ]
    },
    {
      "cell_type": "code",
      "source": [
        "uaid = set(dfa[\"artists\"])\n",
        "anid = [artist for artist in chart_artists if artist not in uaid]\n",
        "len(anid),len(chart_artists)"
      ],
      "metadata": {
        "id": "Bo9LysKuC0Bp",
        "outputId": "a618036e-adb3-4aa2-d671-d63b381b6406",
        "colab": {
          "base_uri": "https://localhost:8080/"
        }
      },
      "id": "Bo9LysKuC0Bp",
      "execution_count": 52,
      "outputs": [
        {
          "output_type": "execute_result",
          "data": {
            "text/plain": [
              "(287, 944)"
            ]
          },
          "metadata": {},
          "execution_count": 52
        }
      ]
    },
    {
      "cell_type": "code",
      "source": [
        "chart_songs = list(chart_power_df_explode[\"Song\"])\n",
        "chart_artists = list(chart_power_df_explode[\"Artist\"])\n",
        "#zip(chart_songs, )\n",
        "print(len(chart_songs), len(chart_artists))\n",
        "chart_songs_artists = list(zip(chart_songs, chart_artists))\n",
        "\n",
        "df_songs = list(df[\"name\"])\n",
        "df_artists = list(df[\"artists\"])\n",
        "df_songs_artists = list(zip(df_songs, df_artists))"
      ],
      "metadata": {
        "id": "pj7JtDuvzORe",
        "outputId": "dd1150e7-44eb-423a-df00-7f87d855c85a",
        "colab": {
          "base_uri": "https://localhost:8080/"
        }
      },
      "id": "pj7JtDuvzORe",
      "execution_count": 60,
      "outputs": [
        {
          "output_type": "stream",
          "name": "stdout",
          "text": [
            "2027 2027\n"
          ]
        }
      ]
    },
    {
      "cell_type": "markdown",
      "source": [
        "Suchen nach Songs aus den Charts, welche nicht im DataFrame sind."
      ],
      "metadata": {
        "id": "9jwkZTZyA-h5"
      },
      "id": "9jwkZTZyA-h5"
    },
    {
      "cell_type": "code",
      "source": [
        "df_songs_artists = list(zip(df_songs, df_artists))\n",
        "not_in_df = [[song, artist] for song, artist in chart_songs_artists if (song, artist) not in df_songs_artists]\n",
        "print(f\"Insgesamt sind {len(not_in_df)} von {len(chart_songs_artists)} Songs nicht im DataFrame enthalten\")"
      ],
      "metadata": {
        "id": "SqLZiOSH226A",
        "outputId": "74cfceb1-4979-4785-9264-f33c3261cfd9",
        "colab": {
          "base_uri": "https://localhost:8080/"
        }
      },
      "id": "SqLZiOSH226A",
      "execution_count": 70,
      "outputs": [
        {
          "output_type": "stream",
          "name": "stdout",
          "text": [
            "Insgesamt sind 1153 von 2027 Songs nicht im DataFrame enthalten\n"
          ]
        }
      ]
    },
    {
      "cell_type": "code",
      "source": [
        "def in_df(s, a):\n",
        "  exist = False\n",
        "  for song, artist in df_songs_artists:\n",
        "    if (str(artist) == str(a)) and (str(s) in str(song)):\n",
        "        exist = True\n",
        "\n",
        "  return exist\n",
        "\n",
        "not_in_df2 = [[song, artist] for song, artist in chart_songs_artists if not in_df(song, artist)]\n",
        "print(f\"Insgesamt sind {len(not_in_df2)} von {len(chart_songs_artists)} Songs nicht im DataFrame enthalten\")"
      ],
      "metadata": {
        "id": "1gLZVOheOCqy",
        "outputId": "1c516c07-668b-45e1-db50-8abc53fd0c8a",
        "colab": {
          "base_uri": "https://localhost:8080/"
        }
      },
      "id": "1gLZVOheOCqy",
      "execution_count": 87,
      "outputs": [
        {
          "output_type": "stream",
          "name": "stdout",
          "text": [
            "Insgesamt sind 917 von 2027 Songs nicht im DataFrame enthalten\n"
          ]
        }
      ]
    },
    {
      "cell_type": "code",
      "source": [
        "!pip install levenshtein"
      ],
      "metadata": {
        "id": "MDv665NORo93"
      },
      "id": "MDv665NORo93",
      "execution_count": null,
      "outputs": []
    },
    {
      "cell_type": "code",
      "source": [
        "import Levenshtein\n",
        "\n",
        "def find_closest_string(target, string_list):\n",
        "    closest_string = None\n",
        "    min_distance = float('inf')\n",
        "    closest_index = -1\n",
        "\n",
        "    for index, string in enumerate(string_list):\n",
        "        distance = Levenshtein.distance(target, string)\n",
        "        if distance < min_distance:\n",
        "            min_distance = distance\n",
        "            closest_string = string\n",
        "            closest_index = index\n",
        "\n",
        "    return closest_string, min_distance, closest_index\n",
        "\n",
        "# Example usage\n",
        "target_string = \"absolute beginners\"\n",
        "string_list = [\n",
        "    \"beginners\",\n",
        "    \"absolute wodka\",\n",
        "    \"absolute beginners -\"\n",
        "    ]\n",
        "closest, distance, index = find_closest_string(target_string, string_list)\n",
        "\n",
        "print(f\"The closest string to '{target_string}' is '{closest}' with a Levenshtein distance of {distance} and index of {index}\")"
      ],
      "metadata": {
        "id": "-8hd6vbyRgNP",
        "outputId": "b70384a4-0787-4f34-dd64-bba3dd34fbb6",
        "colab": {
          "base_uri": "https://localhost:8080/"
        }
      },
      "id": "-8hd6vbyRgNP",
      "execution_count": 110,
      "outputs": [
        {
          "output_type": "stream",
          "name": "stdout",
          "text": [
            "The closest string to 'absolute beginners' is 'absolute beginners -' with a Levenshtein distance of 2 and index of 2\n"
          ]
        }
      ]
    },
    {
      "cell_type": "code",
      "source": [
        "df.head(1)"
      ],
      "metadata": {
        "id": "zoKvxDbLYMp2",
        "outputId": "b0397e17-97b3-4d61-cb9a-218c54556fc7",
        "colab": {
          "base_uri": "https://localhost:8080/",
          "height": 164
        }
      },
      "id": "zoKvxDbLYMp2",
      "execution_count": 112,
      "outputs": [
        {
          "output_type": "execute_result",
          "data": {
            "text/plain": [
              "                   name          artists            album release_date  \\\n",
              "0  19 - destruction mix  paul hardcastle  paul hardcastle   1985-01-01   \n",
              "\n",
              "  release_date_precision              spotify_id  chart_power  \\\n",
              "0                    day  1azifmcvw3orhfmdxmcro1          NaN   \n",
              "\n",
              "                                    uri  popularity  genres  ...  mode  \\\n",
              "0  spotify:track:1azifmcvw3orhfmdxmcro1          35     NaN  ...     1   \n",
              "\n",
              "   speechiness  acousticness  instrumentalness  liveness  valence    tempo  \\\n",
              "0       0.0816       0.00296              0.62    0.0501    0.729  117.859   \n",
              "\n",
              "   duration_ms  time_signature          isrc  \n",
              "0       428667               4  gbayk8500158  \n",
              "\n",
              "[1 rows x 24 columns]"
            ],
            "text/html": [
              "\n",
              "  <div id=\"df-083b0efe-8124-4456-96f9-2ec9c626fd9d\" class=\"colab-df-container\">\n",
              "    <div>\n",
              "<style scoped>\n",
              "    .dataframe tbody tr th:only-of-type {\n",
              "        vertical-align: middle;\n",
              "    }\n",
              "\n",
              "    .dataframe tbody tr th {\n",
              "        vertical-align: top;\n",
              "    }\n",
              "\n",
              "    .dataframe thead th {\n",
              "        text-align: right;\n",
              "    }\n",
              "</style>\n",
              "<table border=\"1\" class=\"dataframe\">\n",
              "  <thead>\n",
              "    <tr style=\"text-align: right;\">\n",
              "      <th></th>\n",
              "      <th>name</th>\n",
              "      <th>artists</th>\n",
              "      <th>album</th>\n",
              "      <th>release_date</th>\n",
              "      <th>release_date_precision</th>\n",
              "      <th>spotify_id</th>\n",
              "      <th>chart_power</th>\n",
              "      <th>uri</th>\n",
              "      <th>popularity</th>\n",
              "      <th>genres</th>\n",
              "      <th>...</th>\n",
              "      <th>mode</th>\n",
              "      <th>speechiness</th>\n",
              "      <th>acousticness</th>\n",
              "      <th>instrumentalness</th>\n",
              "      <th>liveness</th>\n",
              "      <th>valence</th>\n",
              "      <th>tempo</th>\n",
              "      <th>duration_ms</th>\n",
              "      <th>time_signature</th>\n",
              "      <th>isrc</th>\n",
              "    </tr>\n",
              "  </thead>\n",
              "  <tbody>\n",
              "    <tr>\n",
              "      <th>0</th>\n",
              "      <td>19 - destruction mix</td>\n",
              "      <td>paul hardcastle</td>\n",
              "      <td>paul hardcastle</td>\n",
              "      <td>1985-01-01</td>\n",
              "      <td>day</td>\n",
              "      <td>1azifmcvw3orhfmdxmcro1</td>\n",
              "      <td>NaN</td>\n",
              "      <td>spotify:track:1azifmcvw3orhfmdxmcro1</td>\n",
              "      <td>35</td>\n",
              "      <td>NaN</td>\n",
              "      <td>...</td>\n",
              "      <td>1</td>\n",
              "      <td>0.0816</td>\n",
              "      <td>0.00296</td>\n",
              "      <td>0.62</td>\n",
              "      <td>0.0501</td>\n",
              "      <td>0.729</td>\n",
              "      <td>117.859</td>\n",
              "      <td>428667</td>\n",
              "      <td>4</td>\n",
              "      <td>gbayk8500158</td>\n",
              "    </tr>\n",
              "  </tbody>\n",
              "</table>\n",
              "<p>1 rows × 24 columns</p>\n",
              "</div>\n",
              "    <div class=\"colab-df-buttons\">\n",
              "\n",
              "  <div class=\"colab-df-container\">\n",
              "    <button class=\"colab-df-convert\" onclick=\"convertToInteractive('df-083b0efe-8124-4456-96f9-2ec9c626fd9d')\"\n",
              "            title=\"Convert this dataframe to an interactive table.\"\n",
              "            style=\"display:none;\">\n",
              "\n",
              "  <svg xmlns=\"http://www.w3.org/2000/svg\" height=\"24px\" viewBox=\"0 -960 960 960\">\n",
              "    <path d=\"M120-120v-720h720v720H120Zm60-500h600v-160H180v160Zm220 220h160v-160H400v160Zm0 220h160v-160H400v160ZM180-400h160v-160H180v160Zm440 0h160v-160H620v160ZM180-180h160v-160H180v160Zm440 0h160v-160H620v160Z\"/>\n",
              "  </svg>\n",
              "    </button>\n",
              "\n",
              "  <style>\n",
              "    .colab-df-container {\n",
              "      display:flex;\n",
              "      gap: 12px;\n",
              "    }\n",
              "\n",
              "    .colab-df-convert {\n",
              "      background-color: #E8F0FE;\n",
              "      border: none;\n",
              "      border-radius: 50%;\n",
              "      cursor: pointer;\n",
              "      display: none;\n",
              "      fill: #1967D2;\n",
              "      height: 32px;\n",
              "      padding: 0 0 0 0;\n",
              "      width: 32px;\n",
              "    }\n",
              "\n",
              "    .colab-df-convert:hover {\n",
              "      background-color: #E2EBFA;\n",
              "      box-shadow: 0px 1px 2px rgba(60, 64, 67, 0.3), 0px 1px 3px 1px rgba(60, 64, 67, 0.15);\n",
              "      fill: #174EA6;\n",
              "    }\n",
              "\n",
              "    .colab-df-buttons div {\n",
              "      margin-bottom: 4px;\n",
              "    }\n",
              "\n",
              "    [theme=dark] .colab-df-convert {\n",
              "      background-color: #3B4455;\n",
              "      fill: #D2E3FC;\n",
              "    }\n",
              "\n",
              "    [theme=dark] .colab-df-convert:hover {\n",
              "      background-color: #434B5C;\n",
              "      box-shadow: 0px 1px 3px 1px rgba(0, 0, 0, 0.15);\n",
              "      filter: drop-shadow(0px 1px 2px rgba(0, 0, 0, 0.3));\n",
              "      fill: #FFFFFF;\n",
              "    }\n",
              "  </style>\n",
              "\n",
              "    <script>\n",
              "      const buttonEl =\n",
              "        document.querySelector('#df-083b0efe-8124-4456-96f9-2ec9c626fd9d button.colab-df-convert');\n",
              "      buttonEl.style.display =\n",
              "        google.colab.kernel.accessAllowed ? 'block' : 'none';\n",
              "\n",
              "      async function convertToInteractive(key) {\n",
              "        const element = document.querySelector('#df-083b0efe-8124-4456-96f9-2ec9c626fd9d');\n",
              "        const dataTable =\n",
              "          await google.colab.kernel.invokeFunction('convertToInteractive',\n",
              "                                                    [key], {});\n",
              "        if (!dataTable) return;\n",
              "\n",
              "        const docLinkHtml = 'Like what you see? Visit the ' +\n",
              "          '<a target=\"_blank\" href=https://colab.research.google.com/notebooks/data_table.ipynb>data table notebook</a>'\n",
              "          + ' to learn more about interactive tables.';\n",
              "        element.innerHTML = '';\n",
              "        dataTable['output_type'] = 'display_data';\n",
              "        await google.colab.output.renderOutput(dataTable, element);\n",
              "        const docLink = document.createElement('div');\n",
              "        docLink.innerHTML = docLinkHtml;\n",
              "        element.appendChild(docLink);\n",
              "      }\n",
              "    </script>\n",
              "  </div>\n",
              "\n",
              "    </div>\n",
              "  </div>\n"
            ]
          },
          "metadata": {},
          "execution_count": 112
        }
      ]
    },
    {
      "cell_type": "code",
      "source": [
        "df_copy = df.copy()\n",
        "\n",
        "def in_df(s, a):\n",
        "  similar_songs = []\n",
        "  for song, artist in df_songs_artists:\n",
        "    if ((str(artist) in str(a)) or str(a) in str(artist)) and ((str(s) in str(song)) or (str(song) in str(s))):\n",
        "      #if (artist != a) or (s != song):\n",
        "      #  print(artist, a)\n",
        "      #  print(song, s)\n",
        "      #  print(\"##########\")\n",
        "      #return True\n",
        "      if (s != song):\n",
        "        similar_songs.append([song, artist])\n",
        "  closest, distance, index = find_closest_string(s, [item[0] for item in similar_songs])\n",
        "  best_song = similar_songs[index]\n",
        "  df_copy.loc[(df[\"name\"] == best_song[0]) and (df[\"artists\"] == best_song[1])]\n",
        "  return True if closest else False\n",
        "\n",
        "not_in_df2 = [[song, artist] for song, artist in chart_songs_artists if not in_df(song, artist)]\n",
        "print(f\"Insgesamt sind {len(not_in_df2)} von {len(chart_songs_artists)} Songs nicht im DataFrame enthalten\")"
      ],
      "metadata": {
        "id": "sLpLbFZVEZ6U",
        "outputId": "85914371-769c-48bb-acb0-2c1807235c5a",
        "colab": {
          "base_uri": "https://localhost:8080/"
        }
      },
      "id": "sLpLbFZVEZ6U",
      "execution_count": 96,
      "outputs": [
        {
          "output_type": "stream",
          "name": "stdout",
          "text": [
            "erich kunzel,cincinnati pops orchestra,janet stubbs,sandra graham,kimberly barber,eileen farrell sandra\n",
            "maria (i'll never be) maria magdalena\n",
            "##########\n",
            "bill medley,jennifer warnes bill medley\n",
            "(i've had) the time of my life - from \"dirty dancing\" soundtrack (i've had) the time of my life\n",
            "##########\n",
            "bill medley,jennifer warnes jennifer warnes\n",
            "(i've had) the time of my life - from \"dirty dancing\" soundtrack (i've had) the time of my life\n",
            "##########\n",
            "sheila e. sheila e\n",
            "a love bizarre a love bizarre\n",
            "##########\n",
            "quincy jones,charles may quincy jones\n",
            "ai no corrida ai no corrida (i-no-ko-ree-da)\n",
            "##########\n",
            "quincy jones,charles may quincy jones\n",
            "ai no corrida ai no corrida (i-no-ko-ree-da)\n",
            "##########\n",
            "rufus,chaka khan rufus\n",
            "ain't nobody ain't nobody\n",
            "##########\n",
            "rufus,chaka khan rufus\n",
            "ain't nobody (live) ain't nobody\n",
            "##########\n",
            "rufus,chaka khan chaka khan\n",
            "ain't nobody ain't nobody\n",
            "##########\n",
            "rufus,chaka khan chaka khan\n",
            "ain't nobody (live) ain't nobody\n",
            "##########\n",
            "julio iglesias,diana ross diana ross\n",
            "all of you (feat. diana ross) all of you\n",
            "##########\n",
            "julio iglesias,diana ross diana ross\n",
            "all of you (feat. diana ross) all of you\n",
            "##########\n",
            "julio iglesias,diana ross diana ross\n",
            "all of you (feat. diana ross) all of you\n",
            "##########\n",
            "julio iglesias,diana ross julio iglesias\n",
            "all of you (feat. diana ross) all of you\n",
            "##########\n",
            "julio iglesias,diana ross julio iglesias\n",
            "all of you (feat. diana ross) all of you\n",
            "##########\n",
            "julio iglesias,diana ross julio iglesias\n",
            "all of you (feat. diana ross) all of you\n",
            "##########\n",
            "duran duran,goh hotoda,shep pettibone duran duran\n",
            "all she wants is - us master mix; 2010 remaster all she wants is\n",
            "##########\n",
            "duran duran,goh hotoda duran duran\n",
            "all she wants is - eurohouse mix; 2010 remaster all she wants is\n",
            "##########\n",
            "eav (erste allgemeine verunsicherung) erste allgemeine verunsicherung\n",
            "alpenrap alpenrap\n",
            "##########\n",
            "eav (erste allgemeine verunsicherung) erste allgemeine verunsicherung\n",
            "an der copacabana an der copacabana\n",
            "##########\n",
            "klaus & klaus klaus\n",
            "an der nordseeküste an der nordseeküste\n",
            "##########\n",
            "klaus & klaus klaus\n",
            "an der nordseeküste an der nordseeküste\n",
            "##########\n",
            "soul ii soul,caron wheeler soul ii soul\n",
            "back to life back to life (however do you want me)\n",
            "##########\n",
            "soul ii soul,caron wheeler soul ii soul\n",
            "back to life back to life (however do you want me)\n",
            "##########\n",
            "miami sound machine,shep pettibone miami sound machine\n",
            "bad boy - shep pettibone 7\" remix bad boy\n",
            "##########\n",
            "inner city,dj pp,jerome robins inner city\n",
            "big fun - dj pp & jerome robins extended remix big fun\n",
            "##########\n",
            "inner city,kevin saunderson,d. wynn inner city\n",
            "big fun - d. wynn remix big fun\n",
            "##########\n",
            "inner city,kevin saunderson,e-dancer inner city\n",
            "big fun - kevin's e-dancer dub big fun\n",
            "##########\n",
            "inner city,dj pp,jerome robins inner city\n",
            "big fun - dj pp & jerome robins extended remix big fun\n",
            "##########\n",
            "inner city,kevin saunderson,d. wynn inner city\n",
            "big fun - just the funky beat remix big fun\n",
            "##########\n",
            "inner city,kevin saunderson,dynn wynn inner city\n",
            "big fun - dynn wynn remix big fun\n",
            "##########\n",
            "fran london feat. michael jackson michael jackson\n",
            "billie jean - london sounds 2012 mj tribute club house remix billie jean\n",
            "##########\n",
            "peter, sue & marc peter, sue\n",
            "birds of paradise - remastered 2015 birds of paradise\n",
            "##########\n",
            "peter, sue & marc marc\n",
            "birds of paradise - remastered 2015 birds of paradise\n",
            "##########\n",
            "mandy smith mandy\n",
            "boys and girls boys and girls\n",
            "##########\n",
            "mandy smith mandy\n",
            "boys and girls boys and girls\n",
            "##########\n",
            "mandy smith mandy\n",
            "boys and girls - extra beats 7\" mix boys and girls\n",
            "##########\n",
            "mandy smith mandy\n",
            "boys and girls - extended version boys and girls\n",
            "##########\n",
            "mandy smith mandy\n",
            "boys and girls - acid instrumental boys and girls\n",
            "##########\n",
            "mandy smith mandy\n",
            "boys and girls - acid remix more vox boys and girls\n",
            "##########\n",
            "mandy smith mandy\n",
            "boys and girls - backing track boys and girls\n",
            "##########\n",
            "mandy smith mandy\n",
            "boys and girls - extra beats instrumental boys and girls\n",
            "##########\n",
            "mandy smith mandy\n",
            "boys and girls - 7\" instrumental boys and girls\n",
            "##########\n",
            "mandy smith mandy\n",
            "boys and girls - acid remix boys and girls\n",
            "##########\n",
            "swing out sister,paul staveley o'duffy swing out sister\n",
            "breakout - n.a.d. mix breakout\n",
            "##########\n",
            "malcolm mclaren,the world's famous supreme team malcolm mclaren\n",
            "buffalo gals - dj cut special stereo mix buffalo gals\n",
            "##########\n",
            "malcolm mclaren,the world's famous supreme team malcolm mclaren\n",
            "buffalo gals - dj cut special stereo mix buffalo gals\n",
            "##########\n",
            "malcolm mclaren,the world's famous supreme team the world's famous supreme team\n",
            "buffalo gals - dj cut special stereo mix buffalo gals\n",
            "##########\n",
            "malcolm mclaren,the world's famous supreme team the world's famous supreme team\n",
            "buffalo gals - dj cut special stereo mix buffalo gals\n",
            "##########\n",
            "neneh cherry,arthur baker neneh cherry\n",
            "buffalo stance - arthur baker's 1/2 way 2 house mix buffalo stance\n",
            "##########\n",
            "neneh cherry,kevin saunderson neneh cherry\n",
            "buffalo stance - kevin saunderson's techno stance remix i buffalo stance\n",
            "##########\n",
            "neneh cherry,arthur baker neneh cherry\n",
            "buffalo stance - arthur baker's nearly neu beat mix buffalo stance\n",
            "##########\n",
            "neneh cherry,arthur baker neneh cherry\n",
            "buffalo stance - arthur baker's 1/2 way 2 house mix buffalo stance\n",
            "##########\n",
            "neneh cherry,arthur baker neneh cherry\n",
            "buffalo stance - arthur baker's nearly neu beat mix buffalo stance\n",
            "##########\n",
            "neneh cherry,kevin saunderson neneh cherry\n",
            "buffalo stance - kevin saunderson's techno stance remix i buffalo stance\n",
            "##########\n",
            "trio rio trio\n",
            "um bum bum\n",
            "##########\n",
            "yellowman yello\n",
            "love call it love\n",
            "##########\n",
            "yellowman yello\n",
            "love call it love\n",
            "##########\n",
            "billy idol,steve stevens billy idol\n",
            "catch my fall - remix fix / remastered 2001 catch my fall\n",
            "##########\n",
            "womack & womack womack\n",
            "celebrate the world celebrate the world\n",
            "##########\n",
            "womack & womack womack\n",
            "celebrate the world celebrate the world\n",
            "##########\n",
            "kool & the gang kool\n",
            "celebration celebration\n",
            "##########\n",
            "kool & the gang kool\n",
            "celebration celebration\n",
            "##########\n",
            "kool & the gang kool\n",
            "celebration celebration\n",
            "##########\n",
            "kool & the gang kool\n",
            "celebration celebration\n",
            "##########\n",
            "kool & the gang the gang\n",
            "celebration celebration\n",
            "##########\n",
            "kool & the gang the gang\n",
            "celebration celebration\n",
            "##########\n",
            "kool & the gang the gang\n",
            "celebration celebration\n",
            "##########\n",
            "kool & the gang the gang\n",
            "celebration celebration\n",
            "##########\n",
            "kool & the gang kool\n",
            "celebration celebration (s.a.w. remix)\n",
            "##########\n",
            "kool & the gang kool\n",
            "celebration celebration (s.a.w. remix)\n",
            "##########\n",
            "kool & the gang kool\n",
            "celebration celebration (s.a.w. remix)\n",
            "##########\n",
            "kool & the gang kool\n",
            "celebration celebration (s.a.w. remix)\n",
            "##########\n",
            "kool & the gang the gang\n",
            "celebration celebration (s.a.w. remix)\n",
            "##########\n",
            "kool & the gang the gang\n",
            "celebration celebration (s.a.w. remix)\n",
            "##########\n",
            "kool & the gang the gang\n",
            "celebration celebration (s.a.w. remix)\n",
            "##########\n",
            "kool & the gang the gang\n",
            "celebration celebration (s.a.w. remix)\n",
            "##########\n",
            "kool & the gang kool\n",
            "cherish cherish\n",
            "##########\n",
            "kool & the gang kool\n",
            "cherish cherish\n",
            "##########\n",
            "kool & the gang kool\n",
            "cherish cherish\n",
            "##########\n",
            "kool & the gang kool\n",
            "cherish cherish\n",
            "##########\n",
            "kool & the gang the gang\n",
            "cherish cherish\n",
            "##########\n",
            "kool & the gang the gang\n",
            "cherish cherish\n",
            "##########\n",
            "kool & the gang the gang\n",
            "cherish cherish\n",
            "##########\n",
            "kool & the gang the gang\n",
            "cherish cherish\n",
            "##########\n",
            "bob marley & the wailers bob marley\n",
            "could you be loved could you be loved\n",
            "##########\n",
            "bob marley & the wailers bob marley\n",
            "could you be loved - 12\" mix could you be loved\n",
            "##########\n",
            "bob marley & the wailers bob marley\n",
            "could you be loved could you be loved\n",
            "##########\n",
            "bob marley & the wailers bob marley\n",
            "could you be loved - 12\" mix could you be loved\n",
            "##########\n",
            "bob marley & the wailers bob marley\n",
            "could you be loved could you be loved\n",
            "##########\n",
            "bob marley & the wailers bob marley\n",
            "could you be loved - 12\" mix could you be loved\n",
            "##########\n",
            "bob marley & the wailers bob marley\n",
            "could you be loved could you be loved\n",
            "##########\n",
            "bob marley & the wailers bob marley\n",
            "could you be loved - 12\" mix could you be loved\n",
            "##########\n",
            "bob marley & the wailers the wailers\n",
            "could you be loved could you be loved\n",
            "##########\n",
            "bob marley & the wailers the wailers\n",
            "could you be loved - 12\" mix could you be loved\n",
            "##########\n",
            "bob marley & the wailers the wailers\n",
            "could you be loved could you be loved\n",
            "##########\n",
            "bob marley & the wailers the wailers\n",
            "could you be loved - 12\" mix could you be loved\n",
            "##########\n",
            "bob marley & the wailers the wailers\n",
            "could you be loved could you be loved\n",
            "##########\n",
            "bob marley & the wailers the wailers\n",
            "could you be loved - 12\" mix could you be loved\n",
            "##########\n",
            "bob marley & the wailers the wailers\n",
            "could you be loved could you be loved\n",
            "##########\n",
            "bob marley & the wailers the wailers\n",
            "could you be loved - 12\" mix could you be loved\n",
            "##########\n",
            "joan jett & the blackhearts joan jett\n",
            "crimson and clover crimson and clover\n",
            "##########\n",
            "joan jett & the blackhearts joan jett\n",
            "crimson and clover crimson and clover\n",
            "##########\n",
            "joan jett & the blackhearts the blackhearts\n",
            "crimson and clover crimson and clover\n",
            "##########\n",
            "joan jett & the blackhearts the blackhearts\n",
            "crimson and clover crimson and clover\n",
            "##########\n",
            "de electronica's electronica's\n",
            "dance little birdie dance little bird\n",
            "##########\n",
            "david bowie,mick jagger david bowie\n",
            "dancing in the street - 2002 remaster dancing in the street\n",
            "##########\n",
            "david bowie,mick jagger david bowie\n",
            "dancing in the street - steve thompson mix dancing in the street\n",
            "##########\n",
            "david bowie,mick jagger david bowie\n",
            "dancing in the street - dub dancing in the street\n",
            "##########\n",
            "david bowie,mick jagger mick jagger\n",
            "dancing in the street - 2002 remaster dancing in the street\n",
            "##########\n",
            "david bowie,mick jagger mick jagger\n",
            "dancing in the street - steve thompson mix dancing in the street\n",
            "##########\n",
            "david bowie,mick jagger mick jagger\n",
            "dancing in the street - dub dancing in the street\n",
            "##########\n",
            "klaus & klaus klaus\n",
            "der eiermann der eiermann\n",
            "##########\n",
            "klaus & klaus klaus\n",
            "der eiermann der eiermann\n",
            "##########\n",
            "barry gibb,maurice gibb,robin gibb,andy gibb andy gibb\n",
            "desire desire\n",
            "##########\n",
            "barry gibb,maurice gibb,robin gibb,andy gibb andy gibb\n",
            "desire desire\n",
            "##########\n",
            "the blow monkeys,phil harding the blow monkeys\n",
            "digging your scene - phil harding remix digging your scene\n",
            "##########\n",
            "band aid ii band aid\n",
            "do they know it's christmas? do they know it's christmas?\n",
            "##########\n",
            "band aid ii band aid\n",
            "do they know it's christmas? - instrumental do they know it's christmas?\n",
            "##########\n",
            "joan jett & the blackhearts joan jett\n",
            "do you wanna touch me (oh yeah) do you wanna touch me (oh yeah)\n",
            "##########\n",
            "joan jett & the blackhearts joan jett\n",
            "do you wanna touch me (oh yeah) do you wanna touch me (oh yeah)\n",
            "##########\n",
            "joan jett & the blackhearts the blackhearts\n",
            "do you wanna touch me (oh yeah) do you wanna touch me (oh yeah)\n",
            "##########\n",
            "joan jett & the blackhearts the blackhearts\n",
            "do you wanna touch me (oh yeah) do you wanna touch me (oh yeah)\n",
            "##########\n",
            "thompson twins,phil thornalley thompson twins\n",
            "doctor! doctor! - phil thornalley remix doctor! doctor!\n",
            "##########\n",
            "the communards,sarah jane morris the communards\n",
            "don't leave me this way (with sarah jane morris) don't leave me this way\n",
            "##########\n",
            "bomb the bass,lauraine bomb the bass\n",
            "don't make me wait (feat. lauraine) - 7\" mix don't make me wait\n",
            "##########\n",
            "bomb the bass,lauraine bomb the bass\n",
            "don't make me wait (feat. lauraine) - maximum frequency mix don't make me wait\n",
            "##########\n",
            "the police project the police\n",
            "don't stand so close to me don't stand so close to me\n",
            "##########\n",
            "the human league,snap! the human league\n",
            "don't you want me - snap 7'' remix don't you want me\n",
            "##########\n",
            "nicole nicole j. mccloud\n",
            "don't you want my love don't you want my love\n",
            "##########\n",
            "erasure,richard norris erasure\n",
            "drama! - richard norris mix; 2019 - remaster drama!\n",
            "##########\n",
            "erasure,mark saunders erasure\n",
            "drama! (act 2) - 2019 - remaster drama!\n",
            "##########\n",
            "philip bailey,phil collins philip bailey\n",
            "easy lover easy lover\n",
            "##########\n",
            "philip bailey,phil collins philip bailey\n",
            "easy lover easy lover\n",
            "##########\n",
            "philip bailey,phil collins philip bailey\n",
            "easy lover - extended dance remix easy lover\n",
            "##########\n",
            "philip bailey,phil collins philip bailey\n",
            "easy lover easy lover\n",
            "##########\n",
            "philip bailey,phil collins philip bailey\n",
            "easy lover easy lover\n",
            "##########\n",
            "philip bailey,phil collins philip bailey\n",
            "easy lover easy lover\n",
            "##########\n",
            "philip bailey,phil collins philip bailey\n",
            "easy lover - extended dance remix easy lover\n",
            "##########\n",
            "philip bailey,phil collins philip bailey\n",
            "easy lover easy lover\n",
            "##########\n",
            "philip bailey,phil collins phil collins\n",
            "easy lover easy lover\n",
            "##########\n",
            "philip bailey,phil collins phil collins\n",
            "easy lover easy lover\n",
            "##########\n",
            "philip bailey,phil collins phil collins\n",
            "easy lover - extended dance remix easy lover\n",
            "##########\n",
            "philip bailey,phil collins phil collins\n",
            "easy lover easy lover\n",
            "##########\n",
            "philip bailey,phil collins phil collins\n",
            "easy lover easy lover\n",
            "##########\n",
            "philip bailey,phil collins phil collins\n",
            "easy lover easy lover\n",
            "##########\n",
            "philip bailey,phil collins phil collins\n",
            "easy lover - extended dance remix easy lover\n",
            "##########\n",
            "philip bailey,phil collins phil collins\n",
            "easy lover easy lover\n",
            "##########\n",
            "debbie gibson,shep pettibone debbie gibson\n",
            "electric youth (shep's house dub) electric youth\n",
            "##########\n",
            "debbie gibson,shep pettibone debbie gibson\n",
            "electric youth (shep's house beats) electric youth\n",
            "##########\n",
            "kylie minogue,jason donovan kylie minogue\n",
            "especially for you - extended version especially for you\n",
            "##########\n",
            "kylie minogue,jason donovan kylie minogue\n",
            "especially for you - instrumental especially for you\n",
            "##########\n",
            "kylie minogue,jason donovan kylie minogue\n",
            "especially for you - 7\" mix especially for you\n",
            "##########\n",
            "kylie minogue,jason donovan kylie minogue\n",
            "especially for you - 12\" mix especially for you\n",
            "##########\n",
            "kylie minogue,jason donovan kylie minogue\n",
            "especially for you - backing track especially for you\n",
            "##########\n",
            "jason donovan,kylie minogue kylie minogue\n",
            "especially for you especially for you\n",
            "##########\n",
            "jason donovan,kylie minogue kylie minogue\n",
            "especially for you especially for you\n",
            "##########\n",
            "kylie minogue,jason donovan jason donovan\n",
            "especially for you - extended version especially for you\n",
            "##########\n",
            "kylie minogue,jason donovan jason donovan\n",
            "especially for you - instrumental especially for you\n",
            "##########\n",
            "kylie minogue,jason donovan jason donovan\n",
            "especially for you - 7\" mix especially for you\n",
            "##########\n",
            "kylie minogue,jason donovan jason donovan\n",
            "especially for you - 12\" mix especially for you\n",
            "##########\n",
            "kylie minogue,jason donovan jason donovan\n",
            "especially for you - backing track especially for you\n",
            "##########\n",
            "jason donovan,kylie minogue jason donovan\n",
            "especially for you especially for you\n",
            "##########\n",
            "jason donovan,kylie minogue jason donovan\n",
            "especially for you especially for you\n",
            "##########\n",
            "rod stewart,bob ezrin,david tickle rod stewart\n",
            "every beat of my heart every beat of my heart\n",
            "##########\n",
            "rod stewart,bob ezrin,david tickle rod stewart\n",
            "every beat of my heart every beat of my heart\n",
            "##########\n",
            "the police project the police\n",
            "every breath you take every breath you take\n",
            "##########\n",
            "madonna,shep pettibone madonna\n",
            "express yourself - 7\" remix express yourself\n",
            "##########\n",
            "karel gott,darina rolincová karel gott\n",
            "fang das licht fang das licht\n",
            "##########\n",
            "eav (erste allgemeine verunsicherung) erste allgemeine verunsicherung\n",
            "fata morgana fata morgana\n",
            "##########\n",
            "klaus lage klaus lage band\n",
            "faust auf faust (schimanski) - remastered 2007 faust auf faust (schimanski)\n",
            "##########\n",
            "klaus lage klaus lage band\n",
            "faust auf faust (schimanski) - extended version / remastered 2007 faust auf faust (schimanski)\n",
            "##########\n",
            "al bano,romina power al bano\n",
            "felicita - live felicita\n",
            "##########\n",
            "al bano,romina power romina power\n",
            "felicita - live felicita\n",
            "##########\n",
            "fairground attraction,eddi reader,kevin moloney fairground attraction\n",
            "find my love (feat. eddi reader) find my love\n",
            "##########\n",
            "fairground attraction,eddi reader,kevin moloney fairground attraction\n",
            "find my love (feat. eddi reader) find my love\n",
            "##########\n",
            "hearthill earth\n",
            "the fire of love fire of love\n",
            "##########\n",
            "jennifer rush,elton john jennifer rush\n",
            "flames of paradise (with elton john) flames of paradise\n",
            "##########\n",
            "jennifer rush,elton john jennifer rush\n",
            "flames of paradise (with elton john) flames of paradise\n",
            "##########\n",
            "jennifer rush,elton john elton john\n",
            "flames of paradise (with elton john) flames of paradise\n",
            "##########\n",
            "jennifer rush,elton john elton john\n",
            "flames of paradise (with elton john) flames of paradise\n",
            "##########\n",
            "billy idol,gary langan billy idol\n",
            "flesh for fantasy - below the belt mix / remastered 2001 flesh for fantasy\n",
            "##########\n",
            "fancy,grandmaster tess,steve d5 fancy\n",
            "fools cry rap - extended version fools cry\n",
            "##########\n",
            "fancy,grandmaster tess,steve d5 fancy\n",
            "fools cry rap - extended version fools cry\n",
            "##########\n",
            "bläck fööss,die kinder von der hauptschule gr. griechenmarkt - köln bläck fööss\n",
            "frankreich, frankreich - live frankreich, frankreich\n",
            "##########\n",
            "die doraus & die marinas die doraus\n",
            "fred vom jupiter fred vom jupiter\n",
            "##########\n",
            "die doraus & die marinas die doraus\n",
            "fred vom jupiter fred vom jupiter\n",
            "##########\n",
            "die doraus & die marinas die marinas\n",
            "fred vom jupiter fred vom jupiter\n",
            "##########\n",
            "die doraus & die marinas die marinas\n",
            "fred vom jupiter fred vom jupiter\n",
            "##########\n",
            "kool & the gang kool\n",
            "fresh fresh\n",
            "##########\n",
            "kool & the gang kool\n",
            "fresh fresh\n",
            "##########\n",
            "kool & the gang kool\n",
            "fresh fresh\n",
            "##########\n",
            "kool & the gang kool\n",
            "fresh fresh\n",
            "##########\n",
            "kool & the gang the gang\n",
            "fresh fresh\n",
            "##########\n",
            "kool & the gang the gang\n",
            "fresh fresh\n",
            "##########\n",
            "kool & the gang the gang\n",
            "fresh fresh\n",
            "##########\n",
            "kool & the gang the gang\n",
            "fresh fresh\n",
            "##########\n",
            "fun fun,stuart love,gary otto fun fun\n",
            "give me your love - us remix give me your love\n",
            "##########\n",
            "spandau ballet,tony swain spandau ballet\n",
            "gold - 2022 remix gold\n",
            "##########\n",
            "inner city,kevin saunderson inner city\n",
            "good life 2011 - 2011 extended live tour remix good life\n",
            "##########\n",
            "inner city,kevin saunderson,paul anthony,zxx inner city\n",
            "good life 2011 - paul anthony & zxx extended remix good life\n",
            "##########\n",
            "kylie minogue,the extra beat boys kylie minogue\n",
            "got to be certain - the extra beat boys remix got to be certain\n",
            "##########\n",
            "barbra streisand,barry gibb barbra streisand\n",
            "guilty (feat. barry gibb) guilty\n",
            "##########\n",
            "barbra streisand,barry gibb barbra streisand\n",
            "guilty (feat. barry gibb) - live duet with barry gibb guilty\n",
            "##########\n",
            "barbra streisand,barry gibb barry gibb\n",
            "guilty (feat. barry gibb) guilty\n",
            "##########\n",
            "barbra streisand,barry gibb barry gibb\n",
            "guilty (feat. barry gibb) - live duet with barry gibb guilty\n",
            "##########\n",
            "fun fun,ben liebrand fun fun\n",
            "happy station - scratch version happy station\n",
            "##########\n",
            "fun fun,ben liebrand fun fun\n",
            "happy station - scratch extended version happy station\n",
            "##########\n",
            "fun fun,ben liebrand fun fun\n",
            "happy station - scratch edit version happy station\n",
            "##########\n",
            "fun fun,ben liebrand fun fun\n",
            "happy station - scratch version happy station\n",
            "##########\n",
            "level 42,tom lord-alge level 42\n",
            "heaven in my hands - remix heaven in my hands\n",
            "##########\n",
            "eav (erste allgemeine verunsicherung) erste allgemeine verunsicherung\n",
            "heiße nächte (in palermo) heiße nächte (in palermo)\n",
            "##########\n",
            "bananarama,lananeeneenoonoo bananarama\n",
            "help! help!\n",
            "##########\n",
            "bananarama,lananeeneenoonoo bananarama\n",
            "help help!\n",
            "##########\n",
            "bananarama,lananeeneenoonoo bananarama\n",
            "help! - extended version help!\n",
            "##########\n",
            "eurythmics,annie lennox,dave stewart eurythmics\n",
            "here comes the rain again - remastered version here comes the rain again\n",
            "##########\n",
            "eurythmics,annie lennox,dave stewart eurythmics\n",
            "here comes the rain again - 2018 remastered here comes the rain again\n",
            "##########\n",
            "eurythmics,annie lennox,dave stewart eurythmics\n",
            "here comes the rain again (live) [remastered version] here comes the rain again\n",
            "##########\n",
            "trio rio trio\n",
            "um herz ist trumpf (dann rufst du an ...)\n",
            "##########\n",
            "thompson twins,phil thornalley thompson twins\n",
            "hold me now - phil thornalley mix hold me now\n",
            "##########\n",
            "kool & the gang kool\n",
            "holiday holiday\n",
            "##########\n",
            "kool & the gang kool\n",
            "holiday holiday\n",
            "##########\n",
            "kool & the gang the gang\n",
            "holiday holiday\n",
            "##########\n",
            "kool & the gang the gang\n",
            "holiday holiday\n",
            "##########\n",
            "madonna,jellybean benitiz madonna\n",
            "holiday - dub version holiday\n",
            "##########\n",
            "mc miker & dj sven dj sven\n",
            "holiday rap - version 1986 holiday rap\n",
            "##########\n",
            "mc miker & dj sven dj sven\n",
            "holiday rap - maxi holiday rap\n",
            "##########\n",
            "mc miker & dj sven dj sven\n",
            "holiday rap - the pee wee mix holiday rap\n",
            "##########\n",
            "mc miker & dj sven,ben liebrand dj sven\n",
            "holiday rap - ben liebrand remix holiday rap\n",
            "##########\n",
            "mc miker & dj sven dj sven\n",
            "holiday rap - accapella holiday rap\n",
            "##########\n",
            "helen schneider,the kick helen schneider\n",
            "hot summer nites hot summer nites\n",
            "##########\n",
            "whitney houston,john \"jellybean\" benitez whitney houston\n",
            "how will i know - dance remix how will i know\n",
            "##########\n",
            "elton john,shep pettibone,steve peck elton john\n",
            "i don't wanna go on with you like that - shep pettibone mix i don't wanna go on with you like that\n",
            "##########\n",
            "bronski beat,marc almond bronski beat\n",
            "love to love you baby / i feel love / johnnie remember me - remix i feel love\n",
            "##########\n",
            "bronski beat,marc almond marc almond\n",
            "love to love you baby / i feel love / johnnie remember me - remix i feel love\n",
            "##########\n",
            "ub40,chrissie hynde ub40\n",
            "i got you babe i got you babe\n",
            "##########\n",
            "ub40,chrissie hynde ub40\n",
            "i got you babe (feat. chrissie hynde) i got you babe\n",
            "##########\n",
            "ub40,chrissie hynde ub40\n",
            "i got you babe i got you babe\n",
            "##########\n",
            "ub40,chrissie hynde chrissie hynde\n",
            "i got you babe i got you babe\n",
            "##########\n",
            "ub40,chrissie hynde chrissie hynde\n",
            "i got you babe (feat. chrissie hynde) i got you babe\n",
            "##########\n",
            "ub40,chrissie hynde chrissie hynde\n",
            "i got you babe i got you babe\n",
            "##########\n",
            "george michael,aretha franklin aretha franklin\n",
            "i knew you were waiting (for me) i knew you were waiting (for me)\n",
            "##########\n",
            "george michael,aretha franklin aretha franklin\n",
            "i knew you were waiting (for me) - extended remix i knew you were waiting (for me)\n",
            "##########\n",
            "george michael,aretha franklin aretha franklin\n",
            "i knew you were waiting (for me) - instrumental i knew you were waiting (for me)\n",
            "##########\n",
            "george michael,aretha franklin aretha franklin\n",
            "i knew you were waiting (for me) - edited remix i knew you were waiting (for me)\n",
            "##########\n",
            "george michael,aretha franklin aretha franklin\n",
            "i knew you were waiting (for me) - percapella i knew you were waiting (for me)\n",
            "##########\n",
            "george michael,aretha franklin george michael\n",
            "i knew you were waiting (for me) i knew you were waiting (for me)\n",
            "##########\n",
            "george michael,aretha franklin george michael\n",
            "i knew you were waiting (for me) - extended remix i knew you were waiting (for me)\n",
            "##########\n",
            "george michael,aretha franklin george michael\n",
            "i knew you were waiting (for me) - instrumental i knew you were waiting (for me)\n",
            "##########\n",
            "george michael,aretha franklin george michael\n",
            "i knew you were waiting (for me) - edited remix i knew you were waiting (for me)\n",
            "##########\n",
            "george michael,aretha franklin george michael\n",
            "i knew you were waiting (for me) - percapella i knew you were waiting (for me)\n",
            "##########\n",
            "frida,hans-peter lindstrøm frida\n",
            "i know there's something going on - lindstrøm remix i know there's something going on\n",
            "##########\n",
            "joan jett & the blackhearts joan jett\n",
            "i love rock 'n roll i love rock 'n roll\n",
            "##########\n",
            "joan jett & the blackhearts joan jett\n",
            "i love rock 'n roll i love rock 'n roll\n",
            "##########\n",
            "joan jett & the blackhearts the blackhearts\n",
            "i love rock 'n roll i love rock 'n roll\n",
            "##########\n",
            "joan jett & the blackhearts the blackhearts\n",
            "i love rock 'n roll i love rock 'n roll\n",
            "##########\n",
            "samantha fox,geoff hunt samantha fox\n",
            "i surrender (to the spirit of the night) - 12\" remix i surrender (to the spirit of the night)\n",
            "##########\n",
            "samantha fox,geoff hunt samantha fox\n",
            "i surrender (to the spirit of the night) - 12\" remix i surrender (to the spirit of the night)\n",
            "##########\n",
            "huey lewis & the news huey lewis\n",
            "i want a new drug i want a new drug\n",
            "##########\n",
            "huey lewis & the news huey lewis\n",
            "i want a new drug i want a new drug\n",
            "##########\n",
            "huey lewis & the news huey lewis\n",
            "i want a new drug i want a new drug\n",
            "##########\n",
            "huey lewis & the news huey lewis\n",
            "i want a new drug i want a new drug\n",
            "##########\n",
            "huey lewis & the news huey lewis\n",
            "i want a new drug i want a new drug\n",
            "##########\n",
            "huey lewis & the news the news\n",
            "i want a new drug i want a new drug\n",
            "##########\n",
            "huey lewis & the news the news\n",
            "i want a new drug i want a new drug\n",
            "##########\n",
            "huey lewis & the news the news\n",
            "i want a new drug i want a new drug\n",
            "##########\n",
            "huey lewis & the news the news\n",
            "i want a new drug i want a new drug\n",
            "##########\n",
            "huey lewis & the news the news\n",
            "i want a new drug i want a new drug\n",
            "##########\n",
            "boris gardiner,rudy thomas,steven stanley,willie lindo boris gardiner\n",
            "i want to wake up with you i want to wake up with you\n",
            "##########\n",
            "jon & vangelis jon\n",
            "i'll find my way home i'll find my way home\n",
            "##########\n",
            "jon & vangelis jon\n",
            "i'll find my way home - remastered i'll find my way home\n",
            "##########\n",
            "jon & vangelis jon\n",
            "i'll find my way home i'll find my way home\n",
            "##########\n",
            "jon & vangelis vangelis\n",
            "i'll find my way home i'll find my way home\n",
            "##########\n",
            "jon & vangelis vangelis\n",
            "i'll find my way home - remastered i'll find my way home\n",
            "##########\n",
            "jon & vangelis vangelis\n",
            "i'll find my way home i'll find my way home\n",
            "##########\n",
            "elton john,jean-yves lievaux elton john\n",
            "i'm still standing - live at wembley stadium 1984 i'm still standing\n",
            "##########\n",
            "udo lindenberg & das panik-orchester udo lindenberg\n",
            "ich lieb' dich überhaupt nicht mehr ich lieb' dich überhaupt nicht mehr\n",
            "##########\n",
            "clowns & helden clowns\n",
            "ich liebe dich ich liebe dich\n",
            "##########\n",
            "clowns & helden clowns\n",
            "ich liebe dich ich liebe dich\n",
            "##########\n",
            "clowns & helden clowns\n",
            "ich liebe dich - maxi version (bonus track) ich liebe dich\n",
            "##########\n",
            "clowns & helden clowns\n",
            "ich liebe dich - maxi version (bonus track) ich liebe dich\n",
            "##########\n",
            "clowns & helden clowns\n",
            "ich liebe dich ich liebe dich\n",
            "##########\n",
            "clowns & helden clowns\n",
            "ich liebe dich ich liebe dich\n",
            "##########\n",
            "clowns & helden clowns\n",
            "ich liebe dich - maxi version (bonus track) ich liebe dich\n",
            "##########\n",
            "clowns & helden clowns\n",
            "ich liebe dich - maxi version (bonus track) ich liebe dich\n",
            "##########\n",
            "clowns & helden helden\n",
            "ich liebe dich ich liebe dich\n",
            "##########\n",
            "clowns & helden helden\n",
            "ich liebe dich ich liebe dich\n",
            "##########\n",
            "clowns & helden helden\n",
            "ich liebe dich - maxi version (bonus track) ich liebe dich\n",
            "##########\n",
            "clowns & helden helden\n",
            "ich liebe dich - maxi version (bonus track) ich liebe dich\n",
            "##########\n",
            "clowns & helden helden\n",
            "ich liebe dich ich liebe dich\n",
            "##########\n",
            "clowns & helden helden\n",
            "ich liebe dich ich liebe dich\n",
            "##########\n",
            "clowns & helden helden\n",
            "ich liebe dich - maxi version (bonus track) ich liebe dich\n",
            "##########\n",
            "clowns & helden helden\n",
            "ich liebe dich - maxi version (bonus track) ich liebe dich\n",
            "##########\n",
            "ofra haza,izhar ashdot ofra haza\n",
            "im nin'alu - (played in full mix) (7\" english mix) im nin'alu\n",
            "##########\n",
            "ofra haza,izhar ashdot ofra haza\n",
            "im nin'alu - (played in full mix) (7\" yemen vocal) im nin'alu\n",
            "##########\n",
            "status quo,pip williams status quo\n",
            "in the army now - military mix in the army now\n",
            "##########\n",
            "status quo,barry hammond status quo\n",
            "in the army now - remixed version in the army now\n",
            "##########\n",
            "marillion,andy bradfield,avril mackintosh marillion\n",
            "incommunicado - 2018 remix incommunicado\n",
            "##########\n",
            "marillion,andy bradfield,avril mackintosh marillion\n",
            "incommunicado - 2018 remix incommunicado\n",
            "##########\n",
            "marillion,michael hunter marillion\n",
            "incommunicado - live at the edinburgh playhouse 1987; 2018 michael hunter mix incommunicado\n",
            "##########\n",
            "madonna,andy wallace,shep pettibone madonna\n",
            "into the groove into the groove\n",
            "##########\n",
            "madonna,andy wallace,shep pettibone madonna\n",
            "into the groove - you can dance single edit into the groove\n",
            "##########\n",
            "madonna,shep pettibone madonna\n",
            "into the groove - dub version into the groove\n",
            "##########\n",
            "dolly parton,kenny rogers kenny rogers\n",
            "islands in the stream islands in the stream\n",
            "##########\n",
            "dolly parton,kenny rogers dolly parton\n",
            "islands in the stream islands in the stream\n",
            "##########\n",
            "eurythmics,annie lennox,dave stewart eurythmics\n",
            "it's alright (baby's coming back) - remastered version it's alright (baby's coming back)\n",
            "##########\n",
            "eurythmics,annie lennox,dave stewart eurythmics\n",
            "it's alright (baby's coming back) [2018 remastered] it's alright (baby's coming back)\n",
            "##########\n",
            "dave stewart,barbara gaskin dave stewart\n",
            "it's my party it's my party\n",
            "##########\n",
            "dave stewart,barbara gaskin barbara gaskin\n",
            "it's my party it's my party\n",
            "##########\n",
            "the greg kihn band greg kihn band\n",
            "jeopardy jeopardy\n",
            "##########\n",
            "the greg kihn band greg kihn band\n",
            "jeopardy - extended dance remix jeopardy\n",
            "##########\n",
            "the greg kihn band greg kihn band\n",
            "jeopardy - instrumental with chorus jeopardy\n",
            "##########\n",
            "the greg kihn band greg kihn band\n",
            "jeopardy - remastered jeopardy\n",
            "##########\n",
            "the greg kihn band greg kihn band\n",
            "jeopardy - instrumental jeopardy\n",
            "##########\n",
            "the greg kihn band greg kihn band\n",
            "jeopardy - live jeopardy\n",
            "##########\n",
            "alphaville,john \"jellybean\" benitez alphaville\n",
            "the jet set - jellybean mix; 2019 remaster jet set\n",
            "##########\n",
            "alphaville,john \"jellybean\" benitez alphaville\n",
            "the jet set - dub mix; 2019 remaster jet set\n",
            "##########\n",
            "alphaville,john \"jellybean\" benitez alphaville\n",
            "the jet set - jellybean mix; 2019 remaster jet set\n",
            "##########\n",
            "alphaville,john \"jellybean\" benitez alphaville\n",
            "the jet set - dub mix; 2019 remaster jet set\n",
            "##########\n",
            "kool & the gang kool\n",
            "joanna - single version joanna\n",
            "##########\n",
            "kool & the gang kool\n",
            "joanna - single version joanna\n",
            "##########\n",
            "kool & the gang kool\n",
            "joanna - single version joanna\n",
            "##########\n",
            "kool & the gang kool\n",
            "joanna - single version joanna\n",
            "##########\n",
            "kool & the gang the gang\n",
            "joanna - single version joanna\n",
            "##########\n",
            "kool & the gang the gang\n",
            "joanna - single version joanna\n",
            "##########\n",
            "kool & the gang the gang\n",
            "joanna - single version joanna\n",
            "##########\n",
            "kool & the gang the gang\n",
            "joanna - single version joanna\n",
            "##########\n",
            "peter tosh,john benitez peter tosh\n",
            "johnny b. goode - 2002 remaster johnny b. goode\n",
            "##########\n",
            "peter tosh,john benitez peter tosh\n",
            "johnny b. goode - long version; 2002 remaster johnny b. goode\n",
            "##########\n",
            "the pointer sisters pointer sisters\n",
            "jump (for my love) jump (for my love)\n",
            "##########\n",
            "the pointer sisters pointer sisters\n",
            "jump (for my love) jump (for my love)\n",
            "##########\n",
            "the pointer sisters pointer sisters\n",
            "jump (for my love) - single remix jump (for my love)\n",
            "##########\n",
            "the pointer sisters pointer sisters\n",
            "jump (for my love) - 12\" long version jump (for my love)\n",
            "##########\n",
            "the pointer sisters pointer sisters\n",
            "jump (for my love) jump (for my love)\n",
            "##########\n",
            "the pointer sisters pointer sisters\n",
            "jump (for my love) jump (for my love)\n",
            "##########\n",
            "the pointer sisters pointer sisters\n",
            "jump (for my love) - 12\" instrumental mix jump (for my love)\n",
            "##########\n",
            "the pointer sisters pointer sisters\n",
            "jump (for my love) - 12\" long version jump (for my love)\n",
            "##########\n",
            "the pointer sisters pointer sisters\n",
            "jump (for my love) - 12\" long version jump (for my love)\n",
            "##########\n",
            "marillion,michael hunter marillion\n",
            "kayleigh - live at the edinburgh playhouse 1987; 2018 michael hunter mix kayleigh\n",
            "##########\n",
            "princess princess prince\n",
            "kiss kiss\n",
            "##########\n",
            "princess princess prince\n",
            "kiss kiss\n",
            "##########\n",
            "the revolution,big dave smith the revolution\n",
            "kissing in carshalton park (surrey) - big dave smith 1968 mix kiss\n",
            "##########\n",
            "the revolution,big dave smith the revolution\n",
            "kissing in carshalton park (surrey) - big dave smith 1968 mix kiss\n",
            "##########\n",
            "the revolution,big dave smith the revolution\n",
            "kissing the night away - big dave smith original mix kiss\n",
            "##########\n",
            "neneh cherry,david morales neneh cherry\n",
            "kisses on the wind - david morales ‘a little more puerto rico’ mix kisses on the wind\n",
            "##########\n",
            "neneh cherry,dynamic duo,latin rascals neneh cherry\n",
            "kisses on the wind - dynamic duo + latin rascals mix kisses on the wind\n",
            "##########\n",
            "neneh cherry,david morales neneh cherry\n",
            "kisses on the wind - david morales ‘a little more puerto rico’ mix kisses on the wind\n",
            "##########\n",
            "neneh cherry,dynamic duo,latin rascals neneh cherry\n",
            "kisses on the wind - dynamic duo + latin rascals mix kisses on the wind\n",
            "##########\n",
            "madonna,chris lord-alge madonna\n",
            "la isla bonita - extended remix la isla bonita\n",
            "##########\n",
            "madonna,chris lord-alge madonna\n",
            "la isla bonita - extended remix la isla bonita\n",
            "##########\n",
            "madonna,chris lord-alge madonna\n",
            "la isla bonita - instrumental extended remix la isla bonita\n",
            "##########\n",
            "level 42,shep pettibone level 42\n",
            "lessons in love - shep pettibone remix lessons in love\n",
            "##########\n",
            "level 42,shep pettibone level 42\n",
            "lessons in love - shep pettibone remix lessons in love\n",
            "##########\n",
            "tina turner,david bowie david bowie\n",
            "let's dance (with david bowie) - live let's dance\n",
            "##########\n",
            "pia zadora,mark spiro pia zadora\n",
            "little bit of heaven little bit of heaven\n",
            "##########\n",
            "pia zadora,mark spiro pia zadora\n",
            "little bit of heaven little bit of heaven\n",
            "##########\n",
            "limahl,brian reeves,harry schnitzler limahl\n",
            "love in your eyes love in your eyes\n",
            "##########\n",
            "limahl,brian reeves limahl\n",
            "love in your eyes - 12\" mix love in your eyes\n",
            "##########\n",
            "eurythmics,annie lennox,dave stewart eurythmics\n",
            "love is a stranger - remastered version love is a stranger\n",
            "##########\n",
            "eurythmics,annie lennox,dave stewart eurythmics\n",
            "love is a stranger - 2018 remastered love is a stranger\n",
            "##########\n",
            "eurythmics,annie lennox,dave stewart eurythmics\n",
            "love is a stranger love is a stranger\n",
            "##########\n",
            "eurythmics,annie lennox,dave stewart eurythmics\n",
            "love is a stranger - coldcut remix / remastered version love is a stranger\n",
            "##########\n",
            "eurythmics,annie lennox,dave stewart eurythmics\n",
            "love is a stranger love is a stranger\n",
            "##########\n",
            "eurythmics,annie lennox,dave stewart eurythmics\n",
            "love is a stranger love is a stranger\n",
            "##########\n",
            "rod stewart,bob ezrin,david tickle rod stewart\n",
            "love touch (theme from legal eagles) love touch\n",
            "##########\n",
            "rod stewart,bob ezrin,david tickle rod stewart\n",
            "love touch - extended love touch\n",
            "##########\n",
            "rod stewart,bob ezrin,david tickle rod stewart\n",
            "love touch (theme from legal eagles) love touch\n",
            "##########\n",
            "neneh cherry,massive attack neneh cherry\n",
            "manchild - massive attack bonus beats manchild\n",
            "##########\n",
            "neneh cherry,massive attack neneh cherry\n",
            "manchild - massive attack remix manchild\n",
            "##########\n",
            "neneh cherry,smith 'n' mighty neneh cherry\n",
            "manchild - smith 'n' mighty remix manchild\n",
            "##########\n",
            "neneh cherry,smith 'n' mighty neneh cherry\n",
            "manchild - smith 'n' mighty more bass / less vocal style manchild\n",
            "##########\n",
            "neneh cherry,smith 'n' mighty neneh cherry\n",
            "manchild - smith 'n' mighty remix manchild\n",
            "##########\n",
            "neneh cherry,massive attack neneh cherry\n",
            "manchild - massive attack remix manchild\n",
            "##########\n",
            "neneh cherry,massive attack neneh cherry\n",
            "manchild - massive attack bonus beats manchild\n",
            "##########\n",
            "neneh cherry,smith 'n' mighty neneh cherry\n",
            "manchild - smith 'n' mighty more bass / less vocal style manchild\n",
            "##########\n",
            "neneh cherry,massive attack neneh cherry\n",
            "manchild - massive attack bonus beats manchild\n",
            "##########\n",
            "neneh cherry,massive attack neneh cherry\n",
            "manchild - massive attack remix manchild\n",
            "##########\n",
            "neneh cherry,massive attack neneh cherry\n",
            "manchild - massive attack remix manchild\n",
            "##########\n",
            "neneh cherry,massive attack neneh cherry\n",
            "manchild - massive attack bonus beats manchild\n",
            "##########\n",
            "neneh cherry,smith 'n' mighty neneh cherry\n",
            "manchild - smith 'n' mighty more bass / less vocal style manchild\n",
            "##########\n",
            "neneh cherry,smith 'n' mighty neneh cherry\n",
            "manchild - smith 'n' mighty more bass / less vocal style manchild\n",
            "##########\n",
            "neneh cherry,smith 'n' mighty neneh cherry\n",
            "manchild - smith 'n' mighty remix manchild\n",
            "##########\n",
            "neneh cherry,smith 'n' mighty neneh cherry\n",
            "manchild - smith 'n' mighty remix manchild\n",
            "##########\n",
            "daryl hall & john oates daryl hall\n",
            "maneater maneater\n",
            "##########\n",
            "daryl hall & john oates daryl hall\n",
            "maneater maneater\n",
            "##########\n",
            "daryl hall & john oates daryl hall\n",
            "maneater maneater\n",
            "##########\n",
            "daryl hall & john oates daryl hall\n",
            "maneater maneater\n",
            "##########\n",
            "daryl hall & john oates daryl hall\n",
            "maneater - live at live aid, john f. kennedy stadium, 13th july 1985 maneater\n",
            "##########\n",
            "daryl hall & john oates daryl hall\n",
            "maneater maneater\n",
            "##########\n",
            "daryl hall & john oates daryl hall\n",
            "maneater maneater\n",
            "##########\n",
            "daryl hall & john oates daryl hall\n",
            "maneater maneater\n",
            "##########\n",
            "daryl hall & john oates daryl hall\n",
            "maneater maneater\n",
            "##########\n",
            "daryl hall & john oates daryl hall\n",
            "maneater maneater\n",
            "##########\n",
            "daryl hall & john oates daryl hall\n",
            "maneater maneater\n",
            "##########\n",
            "daryl hall & john oates daryl hall\n",
            "maneater - live at live aid, john f. kennedy stadium, 13th july 1985 maneater\n",
            "##########\n",
            "daryl hall & john oates daryl hall\n",
            "maneater maneater\n",
            "##########\n",
            "daryl hall & john oates daryl hall\n",
            "maneater maneater\n",
            "##########\n",
            "daryl hall & john oates john oates\n",
            "maneater maneater\n",
            "##########\n",
            "daryl hall & john oates john oates\n",
            "maneater maneater\n",
            "##########\n",
            "daryl hall & john oates john oates\n",
            "maneater maneater\n",
            "##########\n",
            "daryl hall & john oates john oates\n",
            "maneater maneater\n",
            "##########\n",
            "daryl hall & john oates john oates\n",
            "maneater - live at live aid, john f. kennedy stadium, 13th july 1985 maneater\n",
            "##########\n",
            "daryl hall & john oates john oates\n",
            "maneater maneater\n",
            "##########\n",
            "daryl hall & john oates john oates\n",
            "maneater maneater\n",
            "##########\n",
            "daryl hall & john oates john oates\n",
            "maneater maneater\n",
            "##########\n",
            "daryl hall & john oates john oates\n",
            "maneater maneater\n",
            "##########\n",
            "daryl hall & john oates john oates\n",
            "maneater maneater\n",
            "##########\n",
            "daryl hall & john oates john oates\n",
            "maneater maneater\n",
            "##########\n",
            "daryl hall & john oates john oates\n",
            "maneater - live at live aid, john f. kennedy stadium, 13th july 1985 maneater\n",
            "##########\n",
            "daryl hall & john oates john oates\n",
            "maneater maneater\n",
            "##########\n",
            "daryl hall & john oates john oates\n",
            "maneater maneater\n",
            "##########\n",
            "rocco granata rocco\n",
            "marina marina (remix '89)\n",
            "##########\n",
            "rocco granata,francis goya rocco\n",
            "marina marina (remix '89)\n",
            "##########\n",
            "rocco granata,frontaliny rocco\n",
            "marina marina (remix '89)\n",
            "##########\n",
            "flash and the pan flash\n",
            "midnight man - vintage 12\" midnight man\n",
            "##########\n",
            "flash and the pan flash\n",
            "midnight man - vintage t.v. midnight man\n",
            "##########\n",
            "flash and the pan,k.i.m flash\n",
            "midnight man - k.i.m remix midnight man\n",
            "##########\n",
            "flash and the pan,plastic plates flash\n",
            "midnight man - plastic plates remix midnight man\n",
            "##########\n",
            "flash and the pan flash\n",
            "midnight man - vintage 12\" midnight man\n",
            "##########\n",
            "flash and the pan flash\n",
            "midnight man - vintage t.v. midnight man\n",
            "##########\n",
            "flash and the pan,k.i.m flash\n",
            "midnight man - k.i.m remix midnight man\n",
            "##########\n",
            "flash and the pan,plastic plates flash\n",
            "midnight man - plastic plates remix midnight man\n",
            "##########\n",
            "flash and the pan the pan\n",
            "midnight man - vintage 12\" midnight man\n",
            "##########\n",
            "flash and the pan the pan\n",
            "midnight man - vintage t.v. midnight man\n",
            "##########\n",
            "flash and the pan,k.i.m the pan\n",
            "midnight man - k.i.m remix midnight man\n",
            "##########\n",
            "flash and the pan,plastic plates the pan\n",
            "midnight man - plastic plates remix midnight man\n",
            "##########\n",
            "flash and the pan the pan\n",
            "midnight man - vintage 12\" midnight man\n",
            "##########\n",
            "flash and the pan the pan\n",
            "midnight man - vintage t.v. midnight man\n",
            "##########\n",
            "flash and the pan,k.i.m the pan\n",
            "midnight man - k.i.m remix midnight man\n",
            "##########\n",
            "flash and the pan,plastic plates the pan\n",
            "midnight man - plastic plates remix midnight man\n",
            "##########\n",
            "dire straits,sting dire straits\n",
            "money for nothing - live at live aid, wembley stadium, 13th july 1985 money for nothing\n",
            "##########\n",
            "the monotones monotones\n",
            "mono mono\n",
            "##########\n",
            "the monotones monotones\n",
            "monotone music mono\n",
            "##########\n",
            "the monotones monotones\n",
            "kimonotone music mono\n",
            "##########\n",
            "the monotones monotones\n",
            "mono - long version mono\n",
            "##########\n",
            "paul mccartney,elvis costello paul mccartney\n",
            "my brave face - original demo my brave face\n",
            "##########\n",
            "bobby brown,gene griffin bobby brown\n",
            "my prerogative - dance remix my prerogative\n",
            "##########\n",
            "bobby brown,gene griffen bobby brown\n",
            "my prerogative - extended remix my prerogative\n",
            "##########\n",
            "bobby brown,joe t vannelli bobby brown\n",
            "my prerogative - joe t. vannelli light mix my prerogative\n",
            "##########\n",
            "eav (erste allgemeine verunsicherung) erste allgemeine verunsicherung\n",
            "märchenprinz märchenprinz\n",
            "##########\n",
            "samantha fox,full force,tony maserati samantha fox\n",
            "naughty girls (need love too) - special extended version naughty girls (need love too)\n",
            "##########\n",
            "samantha fox,full force,tony maserati samantha fox\n",
            "naughty girls (need love too) - full force naughty house mix naughty girls (need love too)\n",
            "##########\n",
            "peter maffay,tabaluga peter maffay\n",
            "nessaja nessaja\n",
            "##########\n",
            "the pointer sisters pointer sisters\n",
            "neutron dance neutron dance\n",
            "##########\n",
            "the pointer sisters pointer sisters\n",
            "neutron dance neutron dance\n",
            "##########\n",
            "the pointer sisters pointer sisters\n",
            "neutron dance - 12\" remix neutron dance\n",
            "##########\n",
            "the pointer sisters pointer sisters\n",
            "neutron dance neutron dance\n",
            "##########\n",
            "the pointer sisters pointer sisters\n",
            "neutron dance - single version neutron dance\n",
            "##########\n",
            "the pointer sisters pointer sisters\n",
            "neutron dance neutron dance\n",
            "##########\n",
            "the pointer sisters pointer sisters\n",
            "neutron dance neutron dance\n",
            "##########\n",
            "the pointer sisters pointer sisters\n",
            "neutron dance - 12\" remix neutron dance\n",
            "##########\n",
            "the pointer sisters pointer sisters\n",
            "neutron dance - 12\" remix neutron dance\n",
            "##########\n",
            "ingamay hörnberg inga\n",
            "fri no longer friends\n",
            "##########\n",
            "samantha fox,pete hammond samantha fox\n",
            "nothing's gonna stop me now - jump & jive mix nothing's gonna stop me now\n",
            "##########\n",
            "samantha fox,jerry peal samantha fox\n",
            "nothing's gonna stop me now - club mix nothing's gonna stop me now\n",
            "##########\n",
            "erasure,funky sisters erasure\n",
            "oh l'amour - (pwl funky sisters say \"ooh la la\") [2011 remaster] oh l'amour\n",
            "##########\n",
            "spandau ballet,tony swain spandau ballet\n",
            "only when you leave - 2022 remix only when you leave\n",
            "##########\n",
            "kool & the gang kool\n",
            "let's go dancin' (ooh la la la) ooh la la\n",
            "##########\n",
            "kool & the gang kool\n",
            "let's go dancin' (ooh la la la) ooh la la\n",
            "##########\n",
            "kool & the gang the gang\n",
            "let's go dancin' (ooh la la la) ooh la la\n",
            "##########\n",
            "kool & the gang the gang\n",
            "let's go dancin' (ooh la la la) ooh la la\n",
            "##########\n",
            "gary moore,phil lynott gary moore\n",
            "out in the fields out in the fields\n",
            "##########\n",
            "gary moore,phil lynott phil lynott\n",
            "out in the fields out in the fields\n",
            "##########\n",
            "daryl hall & john oates daryl hall\n",
            "out of touch out of touch\n",
            "##########\n",
            "daryl hall & john oates,arthur baker daryl hall\n",
            "out of touch - video mix out of touch\n",
            "##########\n",
            "daryl hall & john oates,arthur baker daryl hall\n",
            "out of touch - club version out of touch\n",
            "##########\n",
            "daryl hall & john oates daryl hall\n",
            "out of touch out of touch\n",
            "##########\n",
            "daryl hall & john oates,arthur baker daryl hall\n",
            "out of touch - video mix out of touch\n",
            "##########\n",
            "daryl hall & john oates,arthur baker daryl hall\n",
            "out of touch - club version out of touch\n",
            "##########\n",
            "daryl hall & john oates daryl hall\n",
            "out of touch out of touch\n",
            "##########\n",
            "daryl hall & john oates,arthur baker daryl hall\n",
            "out of touch - video mix out of touch\n",
            "##########\n",
            "daryl hall & john oates,arthur baker daryl hall\n",
            "out of touch - club version out of touch\n",
            "##########\n",
            "daryl hall & john oates daryl hall\n",
            "out of touch out of touch\n",
            "##########\n",
            "daryl hall & john oates,arthur baker daryl hall\n",
            "out of touch - video mix out of touch\n",
            "##########\n",
            "daryl hall & john oates,arthur baker daryl hall\n",
            "out of touch - club version out of touch\n",
            "##########\n",
            "daryl hall & john oates john oates\n",
            "out of touch out of touch\n",
            "##########\n",
            "daryl hall & john oates,arthur baker john oates\n",
            "out of touch - video mix out of touch\n",
            "##########\n",
            "daryl hall & john oates,arthur baker john oates\n",
            "out of touch - club version out of touch\n",
            "##########\n",
            "daryl hall & john oates john oates\n",
            "out of touch out of touch\n",
            "##########\n",
            "daryl hall & john oates,arthur baker john oates\n",
            "out of touch - video mix out of touch\n",
            "##########\n",
            "daryl hall & john oates,arthur baker john oates\n",
            "out of touch - club version out of touch\n",
            "##########\n",
            "daryl hall & john oates john oates\n",
            "out of touch out of touch\n",
            "##########\n",
            "daryl hall & john oates,arthur baker john oates\n",
            "out of touch - video mix out of touch\n",
            "##########\n",
            "daryl hall & john oates,arthur baker john oates\n",
            "out of touch - club version out of touch\n",
            "##########\n",
            "daryl hall & john oates john oates\n",
            "out of touch out of touch\n",
            "##########\n",
            "daryl hall & john oates,arthur baker john oates\n",
            "out of touch - video mix out of touch\n",
            "##########\n",
            "daryl hall & john oates,arthur baker john oates\n",
            "out of touch - club version out of touch\n",
            "##########\n",
            "eric b. & rakim,marley marl eric b.\n",
            "paid in full paid in full\n",
            "##########\n",
            "eric b. & rakim,marley marl eric b.\n",
            "paid in full paid in full\n",
            "##########\n",
            "eric b. & rakim eric b.\n",
            "paid in full - seven minutes of madness - the coldcut remix paid in full\n",
            "##########\n",
            "eric b. & rakim eric b.\n",
            "paid in full - seven minutes of madness - the coldcut remix paid in full\n",
            "##########\n",
            "eric b. & rakim,the coldcut crew eric b.\n",
            "paid in full paid in full\n",
            "##########\n",
            "eric b. & rakim,derek boland eric b.\n",
            "paid in full - derek b's urban respray version paid in full\n",
            "##########\n",
            "eric b. & rakim eric b.\n",
            "paid in full paid in full\n",
            "##########\n",
            "eric b. & rakim,marley marl eric b.\n",
            "paid in full paid in full\n",
            "##########\n",
            "eric b. & rakim eric b.\n",
            "paid in full - derek b's urban respray version paid in full\n",
            "##########\n",
            "eric b. & rakim,marley marl eric b.\n",
            "paid in full paid in full\n",
            "##########\n",
            "eric b. & rakim,marley marl eric b.\n",
            "paid in full paid in full\n",
            "##########\n",
            "eric b. & rakim eric b.\n",
            "paid in full - seven minutes of madness - the coldcut remix paid in full\n",
            "##########\n",
            "eric b. & rakim eric b.\n",
            "paid in full - seven minutes of madness - the coldcut remix paid in full\n",
            "##########\n",
            "eric b. & rakim,the coldcut crew eric b.\n",
            "paid in full paid in full\n",
            "##########\n",
            "eric b. & rakim,derek boland eric b.\n",
            "paid in full - derek b's urban respray version paid in full\n",
            "##########\n",
            "eric b. & rakim,marley marl eric b.\n",
            "paid in full paid in full\n",
            "##########\n",
            "eric b. & rakim eric b.\n",
            "paid in full paid in full\n",
            "##########\n",
            "eric b. & rakim eric b.\n",
            "paid in full - derek b's urban respray version paid in full\n",
            "##########\n",
            "eric b. & rakim,marley marl rakim\n",
            "paid in full paid in full\n",
            "##########\n",
            "eric b. & rakim,marley marl rakim\n",
            "paid in full paid in full\n",
            "##########\n",
            "eric b. & rakim rakim\n",
            "paid in full - seven minutes of madness - the coldcut remix paid in full\n",
            "##########\n",
            "eric b. & rakim rakim\n",
            "paid in full - seven minutes of madness - the coldcut remix paid in full\n",
            "##########\n",
            "eric b. & rakim,the coldcut crew rakim\n",
            "paid in full paid in full\n",
            "##########\n",
            "eric b. & rakim,derek boland rakim\n",
            "paid in full - derek b's urban respray version paid in full\n",
            "##########\n",
            "eric b. & rakim rakim\n",
            "paid in full paid in full\n",
            "##########\n",
            "eric b. & rakim,marley marl rakim\n",
            "paid in full paid in full\n",
            "##########\n",
            "eric b. & rakim rakim\n",
            "paid in full - derek b's urban respray version paid in full\n",
            "##########\n",
            "eric b. & rakim,marley marl rakim\n",
            "paid in full paid in full\n",
            "##########\n",
            "eric b. & rakim,marley marl rakim\n",
            "paid in full paid in full\n",
            "##########\n",
            "eric b. & rakim rakim\n",
            "paid in full - seven minutes of madness - the coldcut remix paid in full\n",
            "##########\n",
            "eric b. & rakim rakim\n",
            "paid in full - seven minutes of madness - the coldcut remix paid in full\n",
            "##########\n",
            "eric b. & rakim,the coldcut crew rakim\n",
            "paid in full paid in full\n",
            "##########\n",
            "eric b. & rakim,derek boland rakim\n",
            "paid in full - derek b's urban respray version paid in full\n",
            "##########\n",
            "eric b. & rakim,marley marl rakim\n",
            "paid in full paid in full\n",
            "##########\n",
            "eric b. & rakim rakim\n",
            "paid in full paid in full\n",
            "##########\n",
            "eric b. & rakim rakim\n",
            "paid in full - derek b's urban respray version paid in full\n",
            "##########\n",
            "the art of noise,max headroom the art of noise\n",
            "paranoimia (feat. max headroom) - 7\" mix; 2017 remaster paranoimia\n",
            "##########\n",
            "the art of noise,max headroom the art of noise\n",
            "paranoimia (feat. max headroom) - extended version; 2017 remaster paranoimia\n",
            "##########\n",
            "the art of noise,max headroom the art of noise\n",
            "paranoimia (feat. max headroom) paranoimia\n",
            "##########\n",
            "the art of noise,max headroom the art of noise\n",
            "paranoimia (feat. max headroom) - the paranoid mix; 2017 remaster paranoimia\n",
            "##########\n",
            "the art of noise,max headroom max headroom\n",
            "paranoimia (feat. max headroom) - 7\" mix; 2017 remaster paranoimia\n",
            "##########\n",
            "the art of noise,max headroom max headroom\n",
            "paranoimia (feat. max headroom) - extended version; 2017 remaster paranoimia\n",
            "##########\n",
            "the art of noise,max headroom max headroom\n",
            "paranoimia (feat. max headroom) paranoimia\n",
            "##########\n",
            "the art of noise,max headroom max headroom\n",
            "paranoimia (feat. max headroom) - the paranoid mix; 2017 remaster paranoimia\n",
            "##########\n",
            "taylor dayne,ric wake,richie jones taylor dayne\n",
            "prove your love - hot single mix prove your love\n",
            "##########\n",
            "taylor dayne,ric wake,richie jones taylor dayne\n",
            "prove your love - edited remix prove your love\n",
            "##########\n",
            "taylor dayne,ric wake,richie jones taylor dayne\n",
            "prove your love - prove your dub/beats prove your love\n",
            "##########\n",
            "kool & the gang kool\n",
            "rags to riches rags to riches\n",
            "##########\n",
            "kool & the gang kool\n",
            "rags to riches rags to riches\n",
            "##########\n",
            "kool & the gang the gang\n",
            "rags to riches rags to riches\n",
            "##########\n",
            "kool & the gang the gang\n",
            "rags to riches rags to riches\n",
            "##########\n",
            "jody watley,louil silas jr. jody watley\n",
            "real love real love\n",
            "##########\n",
            "jody watley,louil silas jr. jody watley\n",
            "real love - 12'' extended version real love\n",
            "##########\n",
            "jody watley,louil silas jr. jody watley\n",
            "real love - 1989 remix album version real love\n",
            "##########\n",
            "helen schneider,the kick helen schneider\n",
            "rock 'n' roll gypsy - rock 'n' roll outlaw rock 'n' roll gypsy\n",
            "##########\n",
            "falco,boris granich,christer modig falco\n",
            "rock me amadeus - the american edit rock me amadeus\n",
            "##########\n",
            "toto cutugno toto\n",
            "anna rosanna\n",
            "##########\n",
            "toto guillaume toto\n",
            "rosa rosanna\n",
            "##########\n",
            "toto cutugno toto\n",
            "anna rosanna\n",
            "##########\n",
            "level 42,david o'ogrin level 42\n",
            "running in the family - dave o' remix running in the family\n",
            "##########\n",
            "level 42,david o'ogrin level 42\n",
            "running in the family - dave o' remix running in the family\n",
            "##########\n",
            "renée & renato renato\n",
            "save your love save your love\n",
            "##########\n",
            "renée & renato renato\n",
            "save your love save your love\n",
            "##########\n",
            "princess princess princess\n",
            "m say i'm your number one\n",
            "##########\n",
            "princess princess princess\n",
            "m say i'm your number one\n",
            "##########\n",
            "princess princess princess\n",
            "m say i'm your number one\n",
            "##########\n",
            "princess princess princess\n",
            "m say i'm your number one\n",
            "##########\n",
            "princess princess princess\n",
            "m say i'm your number one\n",
            "##########\n",
            "princess princess princess\n",
            "m say i'm your number one\n",
            "##########\n",
            "paul mccartney,michael jackson michael jackson\n",
            "say say say - remastered 2015 say say say\n",
            "##########\n",
            "paul mccartney,michael jackson michael jackson\n",
            "say say say say say say\n",
            "##########\n",
            "paul mccartney,michael jackson michael jackson\n",
            "say say say say say say\n",
            "##########\n",
            "paul mccartney,michael jackson michael jackson\n",
            "say say say - 2015 remix / remastered 2015 say say say\n",
            "##########\n",
            "paul mccartney,michael jackson michael jackson\n",
            "say say say - remastered 2015 say say say\n",
            "##########\n",
            "paul mccartney,michael jackson paul mccartney\n",
            "say say say - remastered 2015 say say say\n",
            "##########\n",
            "paul mccartney,michael jackson paul mccartney\n",
            "say say say say say say\n",
            "##########\n",
            "paul mccartney,michael jackson paul mccartney\n",
            "say say say say say say\n",
            "##########\n",
            "paul mccartney,michael jackson paul mccartney\n",
            "say say say - 2015 remix / remastered 2015 say say say\n",
            "##########\n",
            "paul mccartney,michael jackson paul mccartney\n",
            "say say say - remastered 2015 say say say\n",
            "##########\n",
            "al bano and romina power al bano\n",
            "sharazan sharazan\n",
            "##########\n",
            "al bano and romina power al bano\n",
            "sharazan sharazan\n",
            "##########\n",
            "al bano,romina power al bano\n",
            "sharazan - live sharazan\n",
            "##########\n",
            "al bano and romina power al bano\n",
            "sharazan sharazan\n",
            "##########\n",
            "al bano and romina power al bano\n",
            "sharazan sharazan\n",
            "##########\n",
            "al bano and romina power romina power\n",
            "sharazan sharazan\n",
            "##########\n",
            "al bano and romina power romina power\n",
            "sharazan sharazan\n",
            "##########\n",
            "al bano,romina power romina power\n",
            "sharazan - live sharazan\n",
            "##########\n",
            "al bano and romina power romina power\n",
            "sharazan sharazan\n",
            "##########\n",
            "al bano and romina power romina power\n",
            "sharazan sharazan\n",
            "##########\n",
            "fine young cannibals,david z. fine young cannibals\n",
            "she drives me crazy - david z 12\" remix she drives me crazy\n",
            "##########\n",
            "fine young cannibals,dimitri from paris fine young cannibals\n",
            "she drives me crazy - dimitri from paris remix she drives me crazy\n",
            "##########\n",
            "fine young cannibals,seth troxler fine young cannibals\n",
            "she drives me crazy - seth troxler 'out of time' remix she drives me crazy\n",
            "##########\n",
            "rick astley,dave ford rick astley\n",
            "she wants to dance with me - dave ford remix she wants to dance with me\n",
            "##########\n",
            "patrick swayze,wendy fraser patrick swayze\n",
            "she's like the wind (feat. wendy fraser) - from \"dirty dancing\" soundtrack she's like the wind\n",
            "##########\n",
            "patrick swayze,wendy fraser wendy fraser\n",
            "she's like the wind (feat. wendy fraser) - from \"dirty dancing\" soundtrack she's like the wind\n",
            "##########\n",
            "tears for fears,steve thompson,michael barbiero tears for fears\n",
            "shout - us dub version shout\n",
            "##########\n",
            "mike + the mechanics mike\n",
            "silent running silent running (on dangerous ground)\n",
            "##########\n",
            "mike + the mechanics the mechanics\n",
            "silent running silent running (on dangerous ground)\n",
            "##########\n",
            "ashford & simpson ashford\n",
            "solid solid\n",
            "##########\n",
            "ashford & simpson ashford\n",
            "solid - special club mix solid\n",
            "##########\n",
            "ashford & simpson ashford\n",
            "solid solid\n",
            "##########\n",
            "ashford & simpson ashford\n",
            "solid solid\n",
            "##########\n",
            "ashford & simpson ashford\n",
            "solid - special club mix solid\n",
            "##########\n",
            "ashford & simpson ashford\n",
            "solid solid\n",
            "##########\n",
            "ashford & simpson simpson\n",
            "solid solid\n",
            "##########\n",
            "ashford & simpson simpson\n",
            "solid - special club mix solid\n",
            "##########\n",
            "ashford & simpson simpson\n",
            "solid solid\n",
            "##########\n",
            "ashford & simpson simpson\n",
            "solid solid\n",
            "##########\n",
            "ashford & simpson simpson\n",
            "solid - special club mix solid\n",
            "##########\n",
            "ashford & simpson simpson\n",
            "solid solid\n",
            "##########\n",
            "rockwell's rockwell\n",
            "somebody's watching me (part 1) somebody's watching me\n",
            "##########\n",
            "rockwell's rockwell\n",
            "somebody's watching me - karaoke version somebody's watching me\n",
            "##########\n",
            "rockwell's rockwell\n",
            "somebody's watching me (part 2) somebody's watching me\n",
            "##########\n",
            "june lodge,george nooks june lodge\n",
            "someone loves you honey / one time daughter - 12\" mix someone loves you honey\n",
            "##########\n",
            "marc almond marc almond feat. gene pitney\n",
            "something's gotten hold of my heart - solo version something's gotten hold of my heart\n",
            "##########\n",
            "erasure,rico conning erasure\n",
            "sometimes - shiver mix [2011 remastered version] sometimes\n",
            "##########\n",
            "udo lindenberg & das panik-orchester udo lindenberg\n",
            "sonderzug nach pankow sonderzug nach pankow\n",
            "##########\n",
            "udo lindenberg & das panik-orchester udo lindenberg\n",
            "sonderzug nach pankow - live at cch hamburg / 1983 sonderzug nach pankow\n",
            "##########\n",
            "peter maffay,frank laufenberg peter maffay\n",
            "\"sonne in der nacht\" audiothek interview sonne in der nacht\n",
            "##########\n",
            "sheila sheila b. devotion\n",
            "spacer - remix radio edit spacer\n",
            "##########\n",
            "sheila sheila b. devotion\n",
            "spacer - down to earth mix spacer\n",
            "##########\n",
            "doctor & the medics doctor\n",
            "spirit in the sky spirit in the sky\n",
            "##########\n",
            "doctor & the medics doctor\n",
            "spirit in the sky (remastered 2022) spirit in the sky\n",
            "##########\n",
            "doctor & the medics doctor\n",
            "spirit in the sky spirit in the sky\n",
            "##########\n",
            "doctor & the medics doctor\n",
            "spirit in the sky (remastered 2022) spirit in the sky\n",
            "##########\n",
            "doctor & the medics the medics\n",
            "spirit in the sky spirit in the sky\n",
            "##########\n",
            "doctor & the medics the medics\n",
            "spirit in the sky (remastered 2022) spirit in the sky\n",
            "##########\n",
            "doctor & the medics the medics\n",
            "spirit in the sky spirit in the sky\n",
            "##########\n",
            "doctor & the medics the medics\n",
            "spirit in the sky (remastered 2022) spirit in the sky\n",
            "##########\n",
            "stars on 45,the star sisters stars on 45\n",
            "stars on 45 proudly presents the star sisters - original single edit stars on 45\n",
            "##########\n",
            "stars on 45,the star sisters stars on 45\n",
            "stars on 45 proudly presents the star sisters - original single edit stars on 45 proudly presents the star sisters\n",
            "##########\n",
            "kool & the gang kool\n",
            "stone love stone love\n",
            "##########\n",
            "kool & the gang kool\n",
            "stone love stone love\n",
            "##########\n",
            "kool & the gang kool\n",
            "stone love stone love\n",
            "##########\n",
            "kool & the gang kool\n",
            "stone love stone love\n",
            "##########\n",
            "kool & the gang the gang\n",
            "stone love stone love\n",
            "##########\n",
            "kool & the gang the gang\n",
            "stone love stone love\n",
            "##########\n",
            "kool & the gang the gang\n",
            "stone love stone love\n",
            "##########\n",
            "kool & the gang the gang\n",
            "stone love stone love\n",
            "##########\n",
            "sam brown,pete brown sam brown\n",
            "stop stop\n",
            "##########\n",
            "sam brown,pete brown sam brown\n",
            "stop stop\n",
            "##########\n",
            "huey lewis & the news huey lewis\n",
            "stuck with you stuck with you\n",
            "##########\n",
            "huey lewis & the news huey lewis\n",
            "stuck with you stuck with you\n",
            "##########\n",
            "huey lewis & the news the news\n",
            "stuck with you stuck with you\n",
            "##########\n",
            "huey lewis & the news the news\n",
            "stuck with you stuck with you\n",
            "##########\n",
            "eurythmics,annie lennox,dave stewart eurythmics\n",
            "sweet dreams (are made of this) - remastered sweet dreams (are made of this)\n",
            "##########\n",
            "eurythmics,annie lennox,dave stewart eurythmics\n",
            "sweet dreams (are made of this) - hot remix / remastered version sweet dreams (are made of this)\n",
            "##########\n",
            "eurythmics,annie lennox,dave stewart eurythmics\n",
            "sweet dreams (are made of this) [2018 remastered] sweet dreams (are made of this)\n",
            "##########\n",
            "eurythmics,annie lennox,dave stewart,steve angello eurythmics\n",
            "sweet dreams (are made of this) - steve angello bootleg sweet dreams (are made of this)\n",
            "##########\n",
            "eurythmics,annie lennox,dave stewart eurythmics\n",
            "sweet dreams (are made of this) sweet dreams (are made of this)\n",
            "##########\n",
            "eurythmics,annie lennox,dave stewart eurythmics\n",
            "sweet dreams (are made of this) sweet dreams (are made of this)\n",
            "##########\n",
            "eurythmics,annie lennox,dave stewart eurythmics\n",
            "sweet dreams (are made of this) sweet dreams (are made of this)\n",
            "##########\n",
            "womack & womack womack\n",
            "teardrops teardrops\n",
            "##########\n",
            "womack & womack womack\n",
            "teardrops teardrops\n",
            "##########\n",
            "taylor dayne,ric wake,richie jones taylor dayne\n",
            "tell it to my heart - dub of hearts mix tell it to my heart\n",
            "##########\n",
            "heaven 17,brothers in rhythm heaven 17\n",
            "temptation - brothers in rhythm remix / 2012 remaster temptation\n",
            "##########\n",
            "dionne warwick,elton john,gladys knight,stevie wonder dionne warwick\n",
            "that's what friends are for (with elton john, gladys knight & stevie wonder) that's what friends are for\n",
            "##########\n",
            "dionne warwick,elton john,gladys knight,stevie wonder dionne warwick\n",
            "that's what friends are for (with elton john, gladys knight & stevie wonder) that's what friends are for\n",
            "##########\n",
            "dionne warwick,elton john,gladys knight,stevie wonder dionne warwick\n",
            "that's what friends are for (with elton john, gladys knight & stevie wonder) that's what friends are for\n",
            "##########\n",
            "dionne warwick,elton john,gladys knight,stevie wonder dionne warwick\n",
            "that's what friends are for (with elton john, gladys knight & stevie wonder) that's what friends are for\n",
            "##########\n",
            "dionne warwick,elton john,gladys knight,stevie wonder dionne warwick\n",
            "that's what friends are for (with elton john, gladys knight & stevie wonder) that's what friends are for\n",
            "##########\n",
            "david raleigh, the friends project friends\n",
            "that's what friends are for (remix) [feat. alan cumming, billy porter & ari gold] that's what friends are for\n",
            "##########\n",
            "david raleigh, the friends project friends\n",
            "that's what friends are for (feat. alan cumming, billy porter & ari gold) that's what friends are for\n",
            "##########\n",
            "erasure,pascal gabriel erasure\n",
            "the circus - bareback rider mix [2011 remastered version] the circus\n",
            "##########\n",
            "brother beyond,the extra beat boys brother beyond\n",
            "the harder i try - the hardest mix the harder i try\n",
            "##########\n",
            "mike + the mechanics mike\n",
            "the living years the living years\n",
            "##########\n",
            "mike + the mechanics mike\n",
            "the living years - 2014 remastered the living years\n",
            "##########\n",
            "mike + the mechanics mike\n",
            "the living years (2014) the living years\n",
            "##########\n",
            "mike + the mechanics the mechanics\n",
            "the living years the living years\n",
            "##########\n",
            "mike + the mechanics the mechanics\n",
            "the living years - 2014 remastered the living years\n",
            "##########\n",
            "mike + the mechanics the mechanics\n",
            "the living years (2014) the living years\n",
            "##########\n",
            "huey lewis & the news huey lewis\n",
            "the power of love - from “back to the future” soundtrack the power of love\n",
            "##########\n",
            "huey lewis & the news huey lewis\n",
            "the power of love - from “back to the future” soundtrack the power of love\n",
            "##########\n",
            "huey lewis & the news the news\n",
            "the power of love - from “back to the future” soundtrack the power of love\n",
            "##########\n",
            "huey lewis & the news the news\n",
            "the power of love - from “back to the future” soundtrack the power of love\n",
            "##########\n",
            "bruce hornsby,the range bruce hornsby\n",
            "the way it is the way it is\n",
            "##########\n",
            "bruce hornsby,the range bruce hornsby\n",
            "the way it is - live at the ritz, nyc, ny - february 1987 the way it is\n",
            "##########\n",
            "bruce hornsby,the range bruce hornsby\n",
            "the way it is (piano intro) - live at the ritz, nyc, ny - february 1987 the way it is\n",
            "##########\n",
            "bruce hornsby,the range bruce hornsby\n",
            "the way it is the way it is\n",
            "##########\n",
            "bruce hornsby,the range bruce hornsby\n",
            "the way it is - live at the ritz, nyc, ny - february 1987 the way it is\n",
            "##########\n",
            "bruce hornsby,the range bruce hornsby\n",
            "the way it is (piano intro) - live at the ritz, nyc, ny - february 1987 the way it is\n",
            "##########\n",
            "bruce hornsby,the range the range\n",
            "the way it is the way it is\n",
            "##########\n",
            "bruce hornsby,the range the range\n",
            "the way it is - live at the ritz, nyc, ny - february 1987 the way it is\n",
            "##########\n",
            "bruce hornsby,the range the range\n",
            "the way it is (piano intro) - live at the ritz, nyc, ny - february 1987 the way it is\n",
            "##########\n",
            "bruce hornsby,the range the range\n",
            "the way it is the way it is\n",
            "##########\n",
            "bruce hornsby,the range the range\n",
            "the way it is - live at the ritz, nyc, ny - february 1987 the way it is\n",
            "##########\n",
            "bruce hornsby,the range the range\n",
            "the way it is (piano intro) - live at the ritz, nyc, ny - february 1987 the way it is\n",
            "##########\n",
            "fran london feat. michael jackson michael jackson\n",
            "the way you make me feel - london sounds 2012 progressive house remix the way you make me feel\n",
            "##########\n",
            "eurythmics,annie lennox,dave stewart eurythmics\n",
            "there must be an angel (playing with my heart) there must be an angel (playing with my heart)\n",
            "##########\n",
            "eurythmics,annie lennox,dave stewart eurythmics\n",
            "there must be an angel (playing with my heart) [2018 remastered] there must be an angel (playing with my heart)\n",
            "##########\n",
            "eurythmics,annie lennox,dave stewart eurythmics\n",
            "angel there must be an angel (playing with my heart)\n",
            "##########\n",
            "lisa stansfield,ian devaney,andy morris,mark saunders lisa stansfield\n",
            "this is the right time - remastered this is the right time\n",
            "##########\n",
            "lisa stansfield,dave dorrell,c.j. mackintosh lisa stansfield\n",
            "this is the right time - miles ahead mix this is the right time\n",
            "##########\n",
            "bob geldof,bob clearmountain bob geldof\n",
            "this is the world calling this is the world calling\n",
            "##########\n",
            "eurythmics,annie lennox,dave stewart eurythmics\n",
            "thorn in my side - remastered thorn in my side\n",
            "##########\n",
            "eurythmics,annie lennox,dave stewart eurythmics\n",
            "thorn in my side - extended version thorn in my side\n",
            "##########\n",
            "eurythmics,annie lennox,dave stewart eurythmics\n",
            "thorn in my side - 2018 remastered thorn in my side\n",
            "##########\n",
            "eurythmics,annie lennox,dave stewart eurythmics\n",
            "thorn in my side thorn in my side\n",
            "##########\n",
            "the new jerusalem baptist church choir bap\n",
            "time time is cash, time is money\n",
            "##########\n",
            "julio iglesias,willie nelson julio iglesias\n",
            "to all the girls i've loved before to all the girls i've loved before\n",
            "##########\n",
            "julio iglesias,willie nelson julio iglesias\n",
            "to all the girls i've loved before to all the girls i've loved before\n",
            "##########\n",
            "julio iglesias,willie nelson julio iglesias\n",
            "to all the girls i've loved before to all the girls i've loved before\n",
            "##########\n",
            "julio iglesias,willie nelson julio iglesias\n",
            "to all the girls i've loved before to all the girls i've loved before\n",
            "##########\n",
            "julio iglesias,willie nelson julio iglesias\n",
            "to all the girls i've loved before to all the girls i've loved before\n",
            "##########\n",
            "julio iglesias,willie nelson willie nelson\n",
            "to all the girls i've loved before to all the girls i've loved before\n",
            "##########\n",
            "julio iglesias,willie nelson willie nelson\n",
            "to all the girls i've loved before to all the girls i've loved before\n",
            "##########\n",
            "julio iglesias,willie nelson willie nelson\n",
            "to all the girls i've loved before to all the girls i've loved before\n",
            "##########\n",
            "julio iglesias,willie nelson willie nelson\n",
            "to all the girls i've loved before to all the girls i've loved before\n",
            "##########\n",
            "julio iglesias,willie nelson willie nelson\n",
            "to all the girls i've loved before to all the girls i've loved before\n",
            "##########\n",
            "billy idol,gary langan billy idol\n",
            "to be a lover - mother of mercy mix / remastered 2002 to be a lover\n",
            "##########\n",
            "spandau ballet,tony swain spandau ballet\n",
            "true - 2022 remix true\n",
            "##########\n",
            "new order,shep pettibone new order\n",
            "true faith - shep pettibone 12\" remix true faith\n",
            "##########\n",
            "new order,shep pettibone new order\n",
            "true faith - shep pettibone 12\" remix true faith\n",
            "##########\n",
            "stacey q stacey q.\n",
            "two of hearts two of hearts\n",
            "##########\n",
            "stacey q stacey q.\n",
            "two of hearts two of hearts\n",
            "##########\n",
            "queen,david bowie queen\n",
            "under pressure - remastered 2011 under pressure\n",
            "##########\n",
            "queen,david bowie queen\n",
            "under pressure - remastered 2011 under pressure\n",
            "##########\n",
            "queen,david bowie david bowie\n",
            "under pressure - remastered 2011 under pressure\n",
            "##########\n",
            "queen,david bowie david bowie\n",
            "under pressure - remastered 2011 under pressure\n",
            "##########\n",
            "kym mazelle,robert howard robert howard\n",
            "wait wait!\n",
            "##########\n",
            "kym mazelle,robert howard kym mazelle\n",
            "wait wait!\n",
            "##########\n",
            "katrina & the waves katrina\n",
            "walking on sunshine walking on sunshine\n",
            "##########\n",
            "katrina & the waves katrina\n",
            "walking on sunshine walking on sunshine\n",
            "##########\n",
            "katrina & the waves the waves\n",
            "walking on sunshine walking on sunshine\n",
            "##########\n",
            "katrina & the waves the waves\n",
            "walking on sunshine walking on sunshine\n",
            "##########\n",
            "malcolm mclaren,the bootzilla orchestra malcolm mclaren\n",
            "waltz darling waltz darling\n",
            "##########\n",
            "malcolm mclaren,the bootzilla orchestra malcolm mclaren\n",
            "waltz darling - introducting lourdes & pretty fatt waltz darling\n",
            "##########\n",
            "malcolm mclaren,the bootzilla orchestra malcolm mclaren\n",
            "waltz darling waltz darling\n",
            "##########\n",
            "malcolm mclaren,the bootzilla orchestra malcolm mclaren\n",
            "waltz darling - introducting lourdes & pretty fatt waltz darling\n",
            "##########\n",
            "malcolm mclaren,the bootzilla orchestra the bootzilla orchestra\n",
            "waltz darling waltz darling\n",
            "##########\n",
            "malcolm mclaren,the bootzilla orchestra the bootzilla orchestra\n",
            "waltz darling - introducting lourdes & pretty fatt waltz darling\n",
            "##########\n",
            "malcolm mclaren,the bootzilla orchestra the bootzilla orchestra\n",
            "waltz darling waltz darling\n",
            "##########\n",
            "malcolm mclaren,the bootzilla orchestra the bootzilla orchestra\n",
            "waltz darling - introducting lourdes & pretty fatt waltz darling\n",
            "##########\n",
            "pet shop boys,dusty springfield dusty springfield\n",
            "what have i done to deserve this? (with dusty springfield) - 2018 remaster what have i done to deserve this?\n",
            "##########\n",
            "pet shop boys,dusty springfield dusty springfield\n",
            "what have i done to deserve this? (with dusty springfield) - extended mix; 2018 remaster what have i done to deserve this?\n",
            "##########\n",
            "pet shop boys,dusty springfield dusty springfield\n",
            "what have i done to deserve this? (with dusty springfield) - 2018 remaster what have i done to deserve this?\n",
            "##########\n",
            "pet shop boys,dusty springfield pet shop boys\n",
            "what have i done to deserve this? (with dusty springfield) - 2018 remaster what have i done to deserve this?\n",
            "##########\n",
            "pet shop boys,dusty springfield pet shop boys\n",
            "what have i done to deserve this? (with dusty springfield) - extended mix; 2018 remaster what have i done to deserve this?\n",
            "##########\n",
            "pet shop boys,dusty springfield pet shop boys\n",
            "what have i done to deserve this? (with dusty springfield) - 2018 remaster what have i done to deserve this?\n",
            "##########\n",
            "ike & tina turner tina turner\n",
            "what you see what you get is what you see\n",
            "##########\n",
            "joe cocker,chris lord-alge joe cocker\n",
            "when the night comes when the night comes\n",
            "##########\n",
            "jermaine jackson,pia zadora jermaine jackson\n",
            "when the rain begins to fall when the rain begins to fall\n",
            "##########\n",
            "pia zadora,jermaine jackson jermaine jackson\n",
            "when the rain begins to fall when the rain begins to fall\n",
            "##########\n",
            "pia zadora,jermaine jackson jermaine jackson\n",
            "when the rain begins to fall when the rain begins to fall\n",
            "##########\n",
            "jermaine jackson,pia zadora pia zadora\n",
            "when the rain begins to fall when the rain begins to fall\n",
            "##########\n",
            "pia zadora,jermaine jackson pia zadora\n",
            "when the rain begins to fall when the rain begins to fall\n",
            "##########\n",
            "pia zadora,jermaine jackson pia zadora\n",
            "when the rain begins to fall when the rain begins to fall\n",
            "##########\n",
            "eurythmics,annie lennox,dave stewart eurythmics\n",
            "when tomorrow comes - remastered version when tomorrow comes\n",
            "##########\n",
            "eurythmics,annie lennox,dave stewart eurythmics\n",
            "when tomorrow comes - extended version when tomorrow comes\n",
            "##########\n",
            "eurythmics,annie lennox,dave stewart eurythmics\n",
            "when tomorrow comes - live acoustic version when tomorrow comes\n",
            "##########\n",
            "eurythmics,annie lennox,dave stewart eurythmics\n",
            "when tomorrow comes - 2018 remastered when tomorrow comes\n",
            "##########\n",
            "eurythmics,annie lennox,dave stewart eurythmics\n",
            "when tomorrow comes when tomorrow comes\n",
            "##########\n",
            "cock robin,ron st. germain cock robin\n",
            "when your heart is weak - dance mix when your heart is weak\n",
            "##########\n",
            "eurythmics,annie lennox,dave stewart eurythmics\n",
            "who's that girl? - remastered version who's that girl?\n",
            "##########\n",
            "falco,rob bolland falco\n",
            "wiener blut (12\" remix) - 2022 remaster wiener blut\n",
            "##########\n",
            "falco,rob bolland falco\n",
            "wiener blut (12\" remix) - 2022 remaster wiener blut\n",
            "##########\n",
            "u2,daniel lanois u2\n",
            "with or without you - daniel lanois remix with or without you\n",
            "##########\n",
            "udo lindenberg,pascal udo lindenberg\n",
            "wozu sind kriege da? - 2002 remaster wozu sind kriege da?\n",
            "##########\n",
            "udo lindenberg,das panik-orchester udo lindenberg\n",
            "wozu sind kriege da? - live wozu sind kriege da?\n",
            "##########\n",
            "udo lindenberg,pascal pascal\n",
            "wozu sind kriege da? - 2002 remaster wozu sind kriege da?\n",
            "##########\n",
            "olivia newton-john,cliff richard olivia newton-john\n",
            "suddenly (feat. cliff richard) - from the movie 'xanadu' xanadu\n",
            "##########\n",
            "kim wilde,shep pettibone kim wilde\n",
            "you came - shep pettibone 12\" mix you came\n",
            "##########\n",
            "kim wilde,shep pettibone kim wilde\n",
            "you came - shep pettibone us radio edit you came\n",
            "##########\n",
            "thompson twins,phil thornalley thompson twins\n",
            "you take me up - (high plains mixer) [u.s 12\" remix] you take me up\n",
            "##########\n",
            "stefan waggershausen,alice stefan waggershausen\n",
            "zu nah am feuer zu nah am feuer\n",
            "##########\n",
            "stefan waggershausen,alice alice\n",
            "zu nah am feuer zu nah am feuer\n",
            "##########\n",
            "Insgesamt sind 2027 von 2027 Songs nicht im DataFrame enthalten\n"
          ]
        }
      ]
    },
    {
      "cell_type": "code",
      "source": [
        "res = sp.search(q=\"artist:van halen year:1980-1989\", type=\"track\", market=\"DE\")"
      ],
      "metadata": {
        "id": "bV0AcwnSbK1k"
      },
      "id": "bV0AcwnSbK1k",
      "execution_count": 226,
      "outputs": []
    },
    {
      "cell_type": "code",
      "source": [
        "[item[\"name\"] for item in res[\"tracks\"][\"items\"]]"
      ],
      "metadata": {
        "id": "xwR1BNiEba-V",
        "outputId": "7ee93cd5-5d47-4703-9d37-4a616847ef20",
        "colab": {
          "base_uri": "https://localhost:8080/",
          "height": 180
        }
      },
      "id": "xwR1BNiEba-V",
      "execution_count": 77,
      "outputs": [
        {
          "output_type": "error",
          "ename": "NameError",
          "evalue": "ignored",
          "traceback": [
            "\u001b[0;31m---------------------------------------------------------------------------\u001b[0m",
            "\u001b[0;31mNameError\u001b[0m                                 Traceback (most recent call last)",
            "\u001b[0;32m<ipython-input-77-9d00980b0fb8>\u001b[0m in \u001b[0;36m<cell line: 1>\u001b[0;34m()\u001b[0m\n\u001b[0;32m----> 1\u001b[0;31m \u001b[0;34m[\u001b[0m\u001b[0mitem\u001b[0m\u001b[0;34m[\u001b[0m\u001b[0;34m\"name\"\u001b[0m\u001b[0;34m]\u001b[0m \u001b[0;32mfor\u001b[0m \u001b[0mitem\u001b[0m \u001b[0;32min\u001b[0m \u001b[0mres\u001b[0m\u001b[0;34m[\u001b[0m\u001b[0;34m\"tracks\"\u001b[0m\u001b[0;34m]\u001b[0m\u001b[0;34m[\u001b[0m\u001b[0;34m\"items\"\u001b[0m\u001b[0;34m]\u001b[0m\u001b[0;34m]\u001b[0m\u001b[0;34m\u001b[0m\u001b[0;34m\u001b[0m\u001b[0m\n\u001b[0m",
            "\u001b[0;31mNameError\u001b[0m: name 'res' is not defined"
          ]
        }
      ]
    },
    {
      "cell_type": "code",
      "source": [
        "not_in_df[:10]"
      ],
      "metadata": {
        "id": "4Py76Nrsa_mg",
        "outputId": "c0f11d11-9fc3-4ba0-945d-f2127bba263e",
        "colab": {
          "base_uri": "https://localhost:8080/"
        }
      },
      "id": "4Py76Nrsa_mg",
      "execution_count": 229,
      "outputs": [
        {
          "output_type": "execute_result",
          "data": {
            "text/plain": [
              "[[19, 'paul hardcastle'],\n",
              " [\"'cause you're young\", 'c. c. catch'],\n",
              " ['(carmen) danger in her eyes', 'deborah sasson'],\n",
              " ['(carmen) danger in her eyes', 'mcl'],\n",
              " ['(do) the hucklebuck', 'coast to coast'],\n",
              " ['(feels like) heaven', 'fiction factory'],\n",
              " ['(forever) live and die', 'o.m.d.'],\n",
              " ['(hey you) the rock steady crew', 'the rock steady crew'],\n",
              " ['(i just) died in your arms', 'cutting crew'],\n",
              " [\"(i'll never be) maria magdalena\", 'sandra']]"
            ]
          },
          "metadata": {},
          "execution_count": 229
        }
      ]
    },
    {
      "cell_type": "markdown",
      "source": [
        "Anpassen der Query. Es wird nur nach Songnamen + Künstlernamen gefiltert. Das Veröffentlichungsjahr wird nicht beachtet."
      ],
      "metadata": {
        "id": "2hK0OoHGBY2P"
      },
      "id": "2hK0OoHGBY2P"
    },
    {
      "cell_type": "code",
      "source": [
        "# Initialize offset and retries\n",
        "offset = 0\n",
        "\n",
        "artist_over_1000 = []\n",
        "no_tracks = []\n",
        "no_features = []\n",
        "artists_not_found = []\n",
        "\n",
        "def req_tot_results(song, artist):\n",
        "  result = sp_request(lambda song, artist: sp.search(q=f\"artist:{artist} track:{song}\", type=\"track\", market=\"DE\"), 0, 100, song, artist)\n",
        "  tracks = result['tracks'] if 'tracks' in result else ''\n",
        "  return tracks['total'] if 'total' in tracks else 0\n",
        "\n",
        "\n",
        "df = pd.DataFrame()\n",
        "with tqdm(total=len(not_in_df)) as pbar:\n",
        "  tracks_ = []\n",
        "  audio_features_ = []\n",
        "\n",
        "  for song, artist in not_in_df:\n",
        "    total_results = req_tot_results(song, artist)\n",
        "    if total_results == 0:\n",
        "      print(f\"{artist}, {song} not found!\")\n",
        "      artists_not_found.append([artist, song])\n",
        "    elif total_results < 1000:\n",
        "      offset = 0\n",
        "      while offset < total_results:\n",
        "        result = sp_request(lambda artist, offset, song: sp.search(q=f\"artist:{artist} track:{song}\", type=\"track\", limit=50, offset=offset, market=\"DE\"), 0, 100, artist, offset, song)\n",
        "        offset += 50\n",
        "        if \"tracks\" not in result:\n",
        "          print(\"No tracks in result\")\n",
        "          continue\n",
        "\n",
        "        tracks = result[\"tracks\"]\n",
        "\n",
        "        if \"items\" in tracks and isinstance(tracks[\"items\"], list):\n",
        "          for track in tracks[\"items\"]:\n",
        "            tracks_.append(track)\n",
        "            if len(tracks_) == 100:\n",
        "              audio_features_ = sp_request(lambda x: sp.audio_features([track[\"id\"] for track in x]), 0, 100, tracks_)\n",
        "              track_features = []\n",
        "              if len(tracks_) != len(audio_features_):\n",
        "                print(\"Tracks and features have not the same lengh!\")\n",
        "                print(len(tracks_), len(audio_features_))\n",
        "              for t, af in list(zip(tracks_, audio_features_)):\n",
        "                if not t:\n",
        "                  print(\"No track!\")\n",
        "                  print(t)\n",
        "                  print(af)\n",
        "                  no_tracks.append(af)\n",
        "                  continue\n",
        "                if not af:\n",
        "                  print(\"No features\")\n",
        "                  print(af)\n",
        "                  print(t)\n",
        "                  no_features.append(t)\n",
        "                  continue\n",
        "                features = filter_track_features(t, af, False)\n",
        "                track_features.append(features)\n",
        "              df = pd.concat([df, pd.DataFrame(track_features)], ignore_index=True)\n",
        "              #df.to_csv(f\"{PATH}/data-missing.csv\")\n",
        "              tracks_ = []\n",
        "              audio_features_ = []\n",
        "        else:\n",
        "          continue\n",
        "    else:\n",
        "      print(f\"Artist {artist} has published over 1000 songs in the 80s\")\n",
        "      artist_over_1000.append(artist)\n",
        "\n",
        "    pbar.update(1)\n",
        "\n",
        "problems = {\n",
        "    \"artist_over_1000\": artist_over_1000,\n",
        "    \"artist_not_found\": artists_not_found,\n",
        "    \"no_features\": [track[\"id\"] for track in no_features]\n",
        "}\n",
        "#with open(f\"{PATH}/data-missing-problems.json\", \"w\") as file:\n",
        "#    json.dump(problems, file)"
      ],
      "metadata": {
        "id": "xnVQmodg3E16",
        "outputId": "ea3ec124-3286-4a22-8adb-0ce7fe211fce",
        "colab": {
          "base_uri": "https://localhost:8080/"
        }
      },
      "id": "xnVQmodg3E16",
      "execution_count": 115,
      "outputs": [
        {
          "output_type": "stream",
          "name": "stderr",
          "text": [
            "  0%|          | 3/1153 [00:01<06:54,  2.78it/s]"
          ]
        },
        {
          "output_type": "stream",
          "name": "stdout",
          "text": [
            "mcl, (carmen) danger in her eyes not found!\n"
          ]
        },
        {
          "output_type": "stream",
          "name": "stderr",
          "text": [
            "\r  0%|          | 5/1153 [00:01<04:53,  3.91it/s]"
          ]
        },
        {
          "output_type": "stream",
          "name": "stdout",
          "text": [
            "o.m.d., (forever) live and die not found!\n"
          ]
        },
        {
          "output_type": "stream",
          "name": "stderr",
          "text": [
            "  1%|          | 9/1153 [00:02<03:13,  5.92it/s]"
          ]
        },
        {
          "output_type": "stream",
          "name": "stdout",
          "text": [
            "bill medley, (i've had) the time of my life not found!\n",
            "jennifer warnes, (i've had) the time of my life not found!\n"
          ]
        },
        {
          "output_type": "stream",
          "name": "stderr",
          "text": [
            "  1%|          | 12/1153 [00:03<05:13,  3.64it/s]"
          ]
        },
        {
          "output_type": "stream",
          "name": "stdout",
          "text": [
            "sigue sigue sputnik, 21st century boy not found!\n"
          ]
        },
        {
          "output_type": "stream",
          "name": "stderr",
          "text": [
            "  2%|▏         | 22/1153 [00:06<03:52,  4.87it/s]"
          ]
        },
        {
          "output_type": "stream",
          "name": "stdout",
          "text": [
            "bonnie tyler, a rockin' good way not found!\n",
            "nick straker band, a walk in the park not found!\n"
          ]
        },
        {
          "output_type": "stream",
          "name": "stderr",
          "text": [
            "  3%|▎         | 31/1153 [00:09<05:09,  3.62it/s]"
          ]
        },
        {
          "output_type": "stream",
          "name": "stdout",
          "text": [
            "ricky king, ahoi, ay ay capt'n not found!\n",
            "quincy jones, ai no corrida (i-no-ko-ree-da) not found!\n",
            "bill withers, ain't no sunshine (remix '88) not found!\n"
          ]
        },
        {
          "output_type": "stream",
          "name": "stderr",
          "text": [
            "\r  3%|▎         | 33/1153 [00:09<03:41,  5.07it/s]"
          ]
        },
        {
          "output_type": "stream",
          "name": "stdout",
          "text": [
            "rufus, ain't nobody not found!\n"
          ]
        },
        {
          "output_type": "stream",
          "name": "stderr",
          "text": [
            "  3%|▎         | 39/1153 [00:32<24:36,  1.33s/it]"
          ]
        },
        {
          "output_type": "stream",
          "name": "stdout",
          "text": [
            "caroline loeb, alles hat ein ende, nur die wurst hat zwei not found!\n"
          ]
        },
        {
          "output_type": "stream",
          "name": "stderr",
          "text": [
            "  4%|▎         | 43/1153 [00:33<10:41,  1.73it/s]<ipython-input-110-8f6e35d73917>:45: UserWarning: This pattern is interpreted as a regular expression, and has match groups. To actually get the groups, use str.extract.\n",
            "  points = chart_power_df_explode.loc[(chart_power_df_explode.Song == track_name.lower()) & (chart_power_df_explode.Artist.str.contains(artist_names.lower()))]['Points']\n",
            "  4%|▍         | 46/1153 [00:35<11:10,  1.65it/s]<ipython-input-110-8f6e35d73917>:45: UserWarning: This pattern is interpreted as a regular expression, and has match groups. To actually get the groups, use str.extract.\n",
            "  points = chart_power_df_explode.loc[(chart_power_df_explode.Song == track_name.lower()) & (chart_power_df_explode.Artist.str.contains(artist_names.lower()))]['Points']\n",
            "  5%|▍         | 55/1153 [00:38<05:47,  3.16it/s]"
          ]
        },
        {
          "output_type": "stream",
          "name": "stdout",
          "text": [
            "pink floyd, another brick in the wall (part ii) not found!\n"
          ]
        },
        {
          "output_type": "stream",
          "name": "stderr",
          "text": [
            "\r  5%|▍         | 57/1153 [00:39<04:46,  3.82it/s]<ipython-input-110-8f6e35d73917>:45: UserWarning: This pattern is interpreted as a regular expression, and has match groups. To actually get the groups, use str.extract.\n",
            "  points = chart_power_df_explode.loc[(chart_power_df_explode.Song == track_name.lower()) & (chart_power_df_explode.Artist.str.contains(artist_names.lower()))]['Points']\n",
            "  6%|▋         | 73/1153 [01:04<07:41,  2.34it/s]<ipython-input-110-8f6e35d73917>:45: UserWarning: This pattern is interpreted as a regular expression, and has match groups. To actually get the groups, use str.extract.\n",
            "  points = chart_power_df_explode.loc[(chart_power_df_explode.Song == track_name.lower()) & (chart_power_df_explode.Artist.str.contains(artist_names.lower()))]['Points']\n",
            "  7%|▋         | 75/1153 [01:05<08:46,  2.05it/s]"
          ]
        },
        {
          "output_type": "stream",
          "name": "stdout",
          "text": [
            "c. c. catch, back seat of your cadillac not found!\n"
          ]
        },
        {
          "output_type": "stream",
          "name": "stderr",
          "text": [
            "  7%|▋         | 81/1153 [01:07<09:09,  1.95it/s]"
          ]
        },
        {
          "output_type": "stream",
          "name": "stdout",
          "text": [
            "simple minds, ballad of the streets (belfast child) not found!\n"
          ]
        },
        {
          "output_type": "stream",
          "name": "stderr",
          "text": [
            "  7%|▋         | 85/1153 [01:08<05:46,  3.08it/s]"
          ]
        },
        {
          "output_type": "stream",
          "name": "stdout",
          "text": [
            "b.a. robertson, bang bang not found!\n"
          ]
        },
        {
          "output_type": "stream",
          "name": "stderr",
          "text": [
            "  8%|▊         | 94/1153 [01:30<57:52,  3.28s/it]  "
          ]
        },
        {
          "output_type": "stream",
          "name": "stdout",
          "text": [
            "boy george, big fun not found!\n",
            "robbie nevil, big love not found!\n"
          ]
        },
        {
          "output_type": "stream",
          "name": "stderr",
          "text": [
            "\r  8%|▊         | 95/1153 [01:30<45:08,  2.56s/it]"
          ]
        },
        {
          "output_type": "stream",
          "name": "stdout",
          "text": [
            "ted herold, bill haley not found!\n"
          ]
        },
        {
          "output_type": "stream",
          "name": "stderr",
          "text": [
            "  9%|▉         | 104/1153 [01:33<07:05,  2.46it/s]"
          ]
        },
        {
          "output_type": "stream",
          "name": "stdout",
          "text": [
            "new order, blue monday 1988 not found!\n"
          ]
        },
        {
          "output_type": "stream",
          "name": "stderr",
          "text": [
            "  9%|▉         | 108/1153 [01:34<05:21,  3.25it/s]"
          ]
        },
        {
          "output_type": "stream",
          "name": "stdout",
          "text": [
            "joboxers, boxerbeat not found!\n"
          ]
        },
        {
          "output_type": "stream",
          "name": "stderr",
          "text": [
            " 10%|█         | 117/1153 [01:37<06:44,  2.56it/s]"
          ]
        },
        {
          "output_type": "stream",
          "name": "stdout",
          "text": [
            "the world's famous supreme team, buffalo gals not found!\n"
          ]
        },
        {
          "output_type": "stream",
          "name": "stderr",
          "text": [
            " 11%|█         | 123/1153 [02:00<53:28,  3.12s/it]  "
          ]
        },
        {
          "output_type": "stream",
          "name": "stdout",
          "text": [
            "caroline loeb, c'est la ouate not found!\n"
          ]
        },
        {
          "output_type": "stream",
          "name": "stderr",
          "text": [
            " 11%|█▏        | 131/1153 [02:02<07:59,  2.13it/s]"
          ]
        },
        {
          "output_type": "stream",
          "name": "stdout",
          "text": [
            "eddy grant, can't get enough of you not found!\n",
            "boys town gang, can't take my eyes off you not found!\n",
            "inga, careless love not found!\n"
          ]
        },
        {
          "output_type": "stream",
          "name": "stderr",
          "text": [
            " 12%|█▏        | 135/1153 [02:03<03:49,  4.44it/s]"
          ]
        },
        {
          "output_type": "stream",
          "name": "stdout",
          "text": [
            "anete humpe, careless love not found!\n",
            "mysterious art, carma - omen 2 not found!\n",
            "aretha franklin, casanova not found!\n"
          ]
        },
        {
          "output_type": "stream",
          "name": "stderr",
          "text": [
            "\r 12%|█▏        | 137/1153 [02:03<03:19,  5.10it/s]"
          ]
        },
        {
          "output_type": "stream",
          "name": "stdout",
          "text": [
            "t'pau, causing a commotion not found!\n"
          ]
        },
        {
          "output_type": "stream",
          "name": "stderr",
          "text": [
            " 12%|█▏        | 140/1153 [02:07<14:57,  1.13it/s]<ipython-input-110-8f6e35d73917>:45: UserWarning: This pattern is interpreted as a regular expression, and has match groups. To actually get the groups, use str.extract.\n",
            "  points = chart_power_df_explode.loc[(chart_power_df_explode.Song == track_name.lower()) & (chart_power_df_explode.Artist.str.contains(artist_names.lower()))]['Points']\n",
            " 12%|█▏        | 143/1153 [02:10<15:00,  1.12it/s]"
          ]
        },
        {
          "output_type": "stream",
          "name": "stdout",
          "text": [
            "kool, celebration (s.a.w. remix) not found!\n",
            "the gang, celebration (s.a.w. remix) not found!\n"
          ]
        },
        {
          "output_type": "stream",
          "name": "stderr",
          "text": [
            " 13%|█▎        | 145/1153 [02:10<10:27,  1.61it/s]"
          ]
        },
        {
          "output_type": "stream",
          "name": "stdout",
          "text": [
            "raff, change your mind not found!\n"
          ]
        },
        {
          "output_type": "stream",
          "name": "stderr",
          "text": [
            " 13%|█▎        | 147/1153 [02:30<1:13:11,  4.36s/it]<ipython-input-110-8f6e35d73917>:45: UserWarning: This pattern is interpreted as a regular expression, and has match groups. To actually get the groups, use str.extract.\n",
            "  points = chart_power_df_explode.loc[(chart_power_df_explode.Song == track_name.lower()) & (chart_power_df_explode.Artist.str.contains(artist_names.lower()))]['Points']\n",
            " 13%|█▎        | 150/1153 [02:31<35:20,  2.11s/it]"
          ]
        },
        {
          "output_type": "stream",
          "name": "stdout",
          "text": [
            "t'pau, china in your hand not found!\n"
          ]
        },
        {
          "output_type": "stream",
          "name": "stderr",
          "text": [
            " 13%|█▎        | 154/1153 [02:32<13:41,  1.22it/s]"
          ]
        },
        {
          "output_type": "stream",
          "name": "stdout",
          "text": [
            "fun fun, colour my love not found!\n",
            "mental as anything, come back and stay not found!\n"
          ]
        },
        {
          "output_type": "stream",
          "name": "stderr",
          "text": [
            "\r 13%|█▎        | 155/1153 [02:32<13:43,  1.21it/s]"
          ]
        },
        {
          "output_type": "stream",
          "name": "stdout",
          "text": [
            "dexys midnight runners with the emerald express, come on eileen not found!\n"
          ]
        },
        {
          "output_type": "stream",
          "name": "stderr",
          "text": [
            " 14%|█▍        | 159/1153 [02:33<06:37,  2.50it/s]"
          ]
        },
        {
          "output_type": "stream",
          "name": "stdout",
          "text": [
            "erasure, coming around again not found!\n",
            "falco, coming home (jeanny part ii) not found!\n"
          ]
        },
        {
          "output_type": "stream",
          "name": "stderr",
          "text": [
            " 14%|█▍        | 161/1153 [02:33<05:45,  2.87it/s]"
          ]
        },
        {
          "output_type": "stream",
          "name": "stdout",
          "text": [
            "hongkong syndikat, concrete & clay not found!\n"
          ]
        },
        {
          "output_type": "stream",
          "name": "stderr",
          "text": [
            " 14%|█▍        | 166/1153 [02:35<08:01,  2.05it/s]"
          ]
        },
        {
          "output_type": "stream",
          "name": "stdout",
          "text": [
            "erasure, crackers international (ep) not found!\n"
          ]
        },
        {
          "output_type": "stream",
          "name": "stderr",
          "text": [
            " 15%|█▌        | 178/1153 [02:38<03:56,  4.13it/s]"
          ]
        },
        {
          "output_type": "stream",
          "name": "stdout",
          "text": [
            "glenn medeiros, cry wolf not found!\n"
          ]
        },
        {
          "output_type": "stream",
          "name": "stderr",
          "text": [
            " 16%|█▌        | 184/1153 [03:01<28:31,  1.77s/it]"
          ]
        },
        {
          "output_type": "stream",
          "name": "stdout",
          "text": [
            "kool, dance little lady (1987) not found!\n",
            "the gang, dance little lady (1987) not found!\n",
            "terence trent d'arby, dance little sister not found!\n"
          ]
        },
        {
          "output_type": "stream",
          "name": "stderr",
          "text": [
            "\r 16%|█▌        | 186/1153 [03:02<18:37,  1.16s/it]"
          ]
        },
        {
          "output_type": "stream",
          "name": "stdout",
          "text": [
            "the pins, dance on not found!\n"
          ]
        },
        {
          "output_type": "stream",
          "name": "stderr",
          "text": [
            "\r 16%|█▋        | 188/1153 [03:02<13:02,  1.23it/s]"
          ]
        },
        {
          "output_type": "stream",
          "name": "stdout",
          "text": [
            "mick jagger, dancing in the street not found!\n"
          ]
        },
        {
          "output_type": "stream",
          "name": "stderr",
          "text": [
            " 17%|█▋        | 197/1153 [03:04<04:55,  3.23it/s]"
          ]
        },
        {
          "output_type": "stream",
          "name": "stdout",
          "text": [
            "mysterious art, das omen (teil 1) not found!\n"
          ]
        },
        {
          "output_type": "stream",
          "name": "stderr",
          "text": [
            " 18%|█▊        | 212/1153 [03:30<1:38:02,  6.25s/it]"
          ]
        },
        {
          "output_type": "stream",
          "name": "stdout",
          "text": [
            "andy gibb, desire not found!\n"
          ]
        },
        {
          "output_type": "stream",
          "name": "stderr",
          "text": [
            " 19%|█▊        | 216/1153 [03:31<32:38,  2.09s/it]"
          ]
        },
        {
          "output_type": "stream",
          "name": "stdout",
          "text": [
            "ted herold, die besten sterben jung not found!\n"
          ]
        },
        {
          "output_type": "stream",
          "name": "stderr",
          "text": [
            " 19%|█▉        | 222/1153 [03:32<08:08,  1.91it/s]"
          ]
        },
        {
          "output_type": "stream",
          "name": "stdout",
          "text": [
            "kiz, die sennerin vom königssee not found!\n",
            "peter schilling, die wüste lebt (alarmsignal ...) not found!\n",
            "george kranz, din daa daa (trommeltanz) not found!\n"
          ]
        },
        {
          "output_type": "stream",
          "name": "stderr",
          "text": [
            " 20%|██        | 234/1153 [03:41<12:04,  1.27it/s]"
          ]
        },
        {
          "output_type": "stream",
          "name": "stdout",
          "text": [
            "patrick cowley feat. sylvester, do ya wanna funk not found!\n",
            "eddy grant, do you feel my love not found!\n"
          ]
        },
        {
          "output_type": "stream",
          "name": "stderr",
          "text": [
            " 21%|██        | 242/1153 [04:01<25:28,  1.68s/it]"
          ]
        },
        {
          "output_type": "stream",
          "name": "stdout",
          "text": [
            "electric light orchestra, don't bring me down not found!\n",
            "the communards, don't leave me this way not found!\n",
            "bomb the bass, don't make me wait not found!\n"
          ]
        },
        {
          "output_type": "stream",
          "name": "stderr",
          "text": [
            " 21%|██▏       | 246/1153 [04:01<10:37,  1.42it/s]"
          ]
        },
        {
          "output_type": "stream",
          "name": "stdout",
          "text": [
            "lorraine, don't make me wait not found!\n",
            "leon haywood, don't push it, don't force it not found!\n",
            "michael jackson, don't stop 'til you get enough not found!\n"
          ]
        },
        {
          "output_type": "stream",
          "name": "stderr",
          "text": [
            " 22%|██▏       | 249/1153 [04:02<06:17,  2.39it/s]"
          ]
        },
        {
          "output_type": "stream",
          "name": "stdout",
          "text": [
            "simple minds, don't you (forget about me) not found!\n",
            "nicole j. mccloud, don't you want my love not found!\n",
            "level 42, down to earth not found!\n"
          ]
        },
        {
          "output_type": "stream",
          "name": "stderr",
          "text": [
            "\r 22%|██▏       | 251/1153 [04:02<04:57,  3.03it/s]"
          ]
        },
        {
          "output_type": "stream",
          "name": "stdout",
          "text": [
            "rififi, dr. acid and mr. house not found!\n"
          ]
        },
        {
          "output_type": "stream",
          "name": "stderr",
          "text": [
            " 22%|██▏       | 254/1153 [04:03<04:01,  3.72it/s]"
          ]
        },
        {
          "output_type": "stream",
          "name": "stdout",
          "text": [
            "o.m.d., dreaming not found!\n"
          ]
        },
        {
          "output_type": "stream",
          "name": "stderr",
          "text": [
            " 23%|██▎       | 261/1153 [04:04<04:05,  3.63it/s]"
          ]
        },
        {
          "output_type": "stream",
          "name": "stdout",
          "text": [
            "the bee gees, e.s.p. not found!\n"
          ]
        },
        {
          "output_type": "stream",
          "name": "stderr",
          "text": [
            " 23%|██▎       | 267/1153 [04:07<05:40,  2.61it/s]"
          ]
        },
        {
          "output_type": "stream",
          "name": "stdout",
          "text": [
            "stevie wonder, ebony and ivory not found!\n"
          ]
        },
        {
          "output_type": "stream",
          "name": "stderr",
          "text": [
            " 24%|██▎       | 273/1153 [04:30<1:29:53,  6.13s/it]"
          ]
        },
        {
          "output_type": "stream",
          "name": "stdout",
          "text": [
            "eddy grant, electric avenue not found!\n"
          ]
        },
        {
          "output_type": "stream",
          "name": "stderr",
          "text": [
            " 24%|██▍       | 282/1153 [04:33<09:58,  1.46it/s]"
          ]
        },
        {
          "output_type": "stream",
          "name": "stdout",
          "text": [
            "guesch patti, etienne not found!\n"
          ]
        },
        {
          "output_type": "stream",
          "name": "stderr",
          "text": [
            " 25%|██▍       | 285/1153 [04:33<05:54,  2.45it/s]"
          ]
        },
        {
          "output_type": "stream",
          "name": "stdout",
          "text": [
            "johnny hates jazz, ever fallen in love not found!\n"
          ]
        },
        {
          "output_type": "stream",
          "name": "stderr",
          "text": [
            " 25%|██▌       | 290/1153 [04:35<05:37,  2.56it/s]"
          ]
        },
        {
          "output_type": "stream",
          "name": "stdout",
          "text": [
            "gregory abbott, f.l.m. not found!\n"
          ]
        },
        {
          "output_type": "stream",
          "name": "stderr",
          "text": [
            " 25%|██▌       | 294/1153 [04:36<03:04,  4.66it/s]"
          ]
        },
        {
          "output_type": "stream",
          "name": "stdout",
          "text": [
            "pierre cosso, face your life not found!\n",
            "the communards, faith not found!\n",
            "16 bit, fake not found!\n"
          ]
        },
        {
          "output_type": "stream",
          "name": "stderr",
          "text": [
            " 26%|██▌       | 297/1153 [04:37<03:13,  4.42it/s]"
          ]
        },
        {
          "output_type": "stream",
          "name": "stdout",
          "text": [
            "darinka, fang das licht not found!\n"
          ]
        },
        {
          "output_type": "stream",
          "name": "stderr",
          "text": [
            " 26%|██▌       | 301/1153 [04:37<03:16,  4.33it/s]"
          ]
        },
        {
          "output_type": "stream",
          "name": "stdout",
          "text": [
            "klaus lage band, faust auf faust (schimanski) not found!\n"
          ]
        },
        {
          "output_type": "stream",
          "name": "stderr",
          "text": [
            "<ipython-input-110-8f6e35d73917>:45: UserWarning: This pattern is interpreted as a regular expression, and has match groups. To actually get the groups, use str.extract.\n",
            "  points = chart_power_df_explode.loc[(chart_power_df_explode.Song == track_name.lower()) & (chart_power_df_explode.Artist.str.contains(artist_names.lower()))]['Points']\n",
            " 26%|██▋       | 304/1153 [04:39<04:29,  3.15it/s]"
          ]
        },
        {
          "output_type": "stream",
          "name": "stdout",
          "text": [
            "conny, felicita not found!\n"
          ]
        },
        {
          "output_type": "stream",
          "name": "stderr",
          "text": [
            " 27%|██▋       | 307/1153 [05:00<47:49,  3.39s/it]  "
          ]
        },
        {
          "output_type": "stream",
          "name": "stdout",
          "text": [
            "the christians, holly johnson, paul mccartney, gerry marsden, ferry 'cross the mersey not found!\n",
            "stock aitken waterman, ferry 'cross the mersey not found!\n"
          ]
        },
        {
          "output_type": "stream",
          "name": "stderr",
          "text": [
            "\r 27%|██▋       | 309/1153 [05:00<30:30,  2.17s/it]"
          ]
        },
        {
          "output_type": "stream",
          "name": "stdout",
          "text": [
            "nina, feuerwerk not found!\n"
          ]
        },
        {
          "output_type": "stream",
          "name": "stderr",
          "text": [
            " 27%|██▋       | 312/1153 [05:01<17:10,  1.23s/it]"
          ]
        },
        {
          "output_type": "stream",
          "name": "stdout",
          "text": [
            "hot shot, fire in the night not found!\n"
          ]
        },
        {
          "output_type": "stream",
          "name": "stderr",
          "text": [
            " 27%|██▋       | 315/1153 [05:04<16:47,  1.20s/it]"
          ]
        },
        {
          "output_type": "stream",
          "name": "stdout",
          "text": [
            "orlando riva sound, fire on the water not found!\n"
          ]
        },
        {
          "output_type": "stream",
          "name": "stderr",
          "text": [
            " 28%|██▊       | 319/1153 [05:06<09:51,  1.41it/s]"
          ]
        },
        {
          "output_type": "stream",
          "name": "stdout",
          "text": [
            "elton john, flames of paradise not found!\n"
          ]
        },
        {
          "output_type": "stream",
          "name": "stderr",
          "text": [
            " 28%|██▊       | 324/1153 [05:09<08:31,  1.62it/s]"
          ]
        },
        {
          "output_type": "stream",
          "name": "stdout",
          "text": [
            "ricky king, fly with me to malibu not found!\n",
            "opus, flyin' high (live version) not found!\n"
          ]
        },
        {
          "output_type": "stream",
          "name": "stderr",
          "text": [
            " 28%|██▊       | 328/1153 [05:10<05:22,  2.56it/s]"
          ]
        },
        {
          "output_type": "stream",
          "name": "stdout",
          "text": [
            "bap, fortsetzung folgt ... not found!\n"
          ]
        },
        {
          "output_type": "stream",
          "name": "stderr",
          "text": [
            " 29%|██▉       | 333/1153 [05:11<03:43,  3.66it/s]"
          ]
        },
        {
          "output_type": "stream",
          "name": "stdout",
          "text": [
            "will to power, freebaby (medley: baby i love your way / freebird) not found!\n"
          ]
        },
        {
          "output_type": "stream",
          "name": "stderr",
          "text": [
            " 30%|██▉       | 342/1153 [05:33<10:58,  1.23it/s]"
          ]
        },
        {
          "output_type": "stream",
          "name": "stdout",
          "text": [
            "the bangles, full metal jacket (i wanna be your drill instructor) not found!\n"
          ]
        },
        {
          "output_type": "stream",
          "name": "stderr",
          "text": [
            "\r 30%|██▉       | 343/1153 [05:34<11:54,  1.13it/s]"
          ]
        },
        {
          "output_type": "stream",
          "name": "stdout",
          "text": [
            "fleetwood mac, funky town not found!\n"
          ]
        },
        {
          "output_type": "stream",
          "name": "stderr",
          "text": [
            " 30%|███       | 351/1153 [05:39<05:25,  2.46it/s]"
          ]
        },
        {
          "output_type": "stream",
          "name": "stdout",
          "text": [
            "o.m.d., genetic engineering not found!\n"
          ]
        },
        {
          "output_type": "stream",
          "name": "stderr",
          "text": [
            " 31%|███       | 358/1153 [06:00<1:11:57,  5.43s/it]"
          ]
        },
        {
          "output_type": "stream",
          "name": "stdout",
          "text": [
            "saragossa band, ginger red not found!\n"
          ]
        },
        {
          "output_type": "stream",
          "name": "stderr",
          "text": [
            " 32%|███▏      | 370/1153 [06:05<06:49,  1.91it/s]"
          ]
        },
        {
          "output_type": "stream",
          "name": "stdout",
          "text": [
            "eruption, go johnnie go not found!\n"
          ]
        },
        {
          "output_type": "stream",
          "name": "stderr",
          "text": [
            " 33%|███▎      | 381/1153 [06:12<03:53,  3.31it/s]"
          ]
        },
        {
          "output_type": "stream",
          "name": "stdout",
          "text": [
            "tommy piper singt alf, hallo alf, hier ist rhonda not found!\n"
          ]
        },
        {
          "output_type": "stream",
          "name": "stderr",
          "text": [
            " 33%|███▎      | 385/1153 [06:30<38:42,  3.02s/it]  "
          ]
        },
        {
          "output_type": "stream",
          "name": "stdout",
          "text": [
            "biene, hallo klaus (i wü nur zruck) not found!\n",
            "koreana, hand in hand not found!\n",
            "ottawan, hands up (give me your heart) not found!\n"
          ]
        },
        {
          "output_type": "stream",
          "name": "stderr",
          "text": [
            " 34%|███▎      | 389/1153 [06:32<15:54,  1.25s/it]"
          ]
        },
        {
          "output_type": "stream",
          "name": "stdout",
          "text": [
            "t'pau, heart and soul not found!\n"
          ]
        },
        {
          "output_type": "stream",
          "name": "stderr",
          "text": [
            " 34%|███▍      | 395/1153 [06:33<05:17,  2.38it/s]"
          ]
        },
        {
          "output_type": "stream",
          "name": "stdout",
          "text": [
            "la na nee nee noo noo, help! not found!\n"
          ]
        },
        {
          "output_type": "stream",
          "name": "stderr",
          "text": [
            "<ipython-input-110-8f6e35d73917>:45: UserWarning: This pattern is interpreted as a regular expression, and has match groups. To actually get the groups, use str.extract.\n",
            "  points = chart_power_df_explode.loc[(chart_power_df_explode.Song == track_name.lower()) & (chart_power_df_explode.Artist.str.contains(artist_names.lower()))]['Points']\n",
            " 35%|███▍      | 402/1153 [06:38<06:15,  2.00it/s]"
          ]
        },
        {
          "output_type": "stream",
          "name": "stdout",
          "text": [
            "dusty springfield, herz aus glas not found!\n",
            "pet shop boys, herz aus glas not found!\n"
          ]
        },
        {
          "output_type": "stream",
          "name": "stderr",
          "text": [
            "\r 35%|███▍      | 403/1153 [06:38<05:08,  2.43it/s]"
          ]
        },
        {
          "output_type": "stream",
          "name": "stdout",
          "text": [
            "trio, herz ist trumpf (dann rufst du an ...) not found!\n"
          ]
        },
        {
          "output_type": "stream",
          "name": "stderr",
          "text": [
            " 35%|███▌      | 406/1153 [06:39<03:09,  3.95it/s]"
          ]
        },
        {
          "output_type": "stream",
          "name": "stdout",
          "text": [
            "kim wilde, hey mr. heartache not found!\n",
            "s-express, hey music lover not found!\n"
          ]
        },
        {
          "output_type": "stream",
          "name": "stderr",
          "text": [
            " 36%|███▋      | 419/1153 [07:06<05:22,  2.27it/s]"
          ]
        },
        {
          "output_type": "stream",
          "name": "stdout",
          "text": [
            "the royal philharmonic orchestra (rpo), hooked on classics not found!\n"
          ]
        },
        {
          "output_type": "stream",
          "name": "stderr",
          "text": [
            " 38%|███▊      | 435/1153 [07:32<20:56,  1.75s/it]"
          ]
        },
        {
          "output_type": "stream",
          "name": "stdout",
          "text": [
            "howard carpendale, i don't want to be a hero not found!\n"
          ]
        },
        {
          "output_type": "stream",
          "name": "stderr",
          "text": [
            "\r 38%|███▊      | 437/1153 [07:32<12:06,  1.01s/it]"
          ]
        },
        {
          "output_type": "stream",
          "name": "stdout",
          "text": [
            "marc almond, i feel love not found!\n"
          ]
        },
        {
          "output_type": "stream",
          "name": "stderr",
          "text": [
            "\r 38%|███▊      | 439/1153 [07:33<08:21,  1.42it/s]"
          ]
        },
        {
          "output_type": "stream",
          "name": "stdout",
          "text": [
            "chrissie hynde, i got you babe not found!\n"
          ]
        },
        {
          "output_type": "stream",
          "name": "stderr",
          "text": [
            " 38%|███▊      | 443/1153 [07:33<04:24,  2.68it/s]"
          ]
        },
        {
          "output_type": "stream",
          "name": "stdout",
          "text": [
            "kim wilde, i heard a rumour not found!\n",
            "michael jackson with siedah garrett, i just can't stop loving you not found!\n",
            "u2, i just can't wait not found!\n"
          ]
        },
        {
          "output_type": "stream",
          "name": "stderr",
          "text": [
            " 40%|████      | 465/1153 [08:07<20:24,  1.78s/it]"
          ]
        },
        {
          "output_type": "stream",
          "name": "stdout",
          "text": [
            "glen goldsmith, i won't cry not found!\n"
          ]
        },
        {
          "output_type": "stream",
          "name": "stderr",
          "text": [
            " 41%|████      | 469/1153 [08:07<07:26,  1.53it/s]"
          ]
        },
        {
          "output_type": "stream",
          "name": "stdout",
          "text": [
            "jon, i'll find my way home not found!\n",
            "vangelis, i'll find my way home not found!\n",
            "boney m., i'm born again / bahama mama not found!\n"
          ]
        },
        {
          "output_type": "stream",
          "name": "stderr",
          "text": [
            " 41%|████      | 473/1153 [08:08<03:35,  3.15it/s]"
          ]
        },
        {
          "output_type": "stream",
          "name": "stdout",
          "text": [
            "eighth wonder, i'm not scared not found!\n",
            "a-ha, i've been losing you not found!\n",
            "peter griffin, i've lost my way not found!\n"
          ]
        },
        {
          "output_type": "stream",
          "name": "stderr",
          "text": [
            " 41%|████▏     | 476/1153 [08:09<03:22,  3.34it/s]"
          ]
        },
        {
          "output_type": "stream",
          "name": "stdout",
          "text": [
            "neue heimat, ich bau' dir ein schloß not found!\n"
          ]
        },
        {
          "output_type": "stream",
          "name": "stderr",
          "text": [
            " 42%|████▏     | 483/1153 [08:11<04:26,  2.52it/s]"
          ]
        },
        {
          "output_type": "stream",
          "name": "stdout",
          "text": [
            "nino de angelo, ich sterbe nicht noch mal not found!\n"
          ]
        },
        {
          "output_type": "stream",
          "name": "stderr",
          "text": [
            " 43%|████▎     | 494/1153 [08:32<10:45,  1.02it/s]"
          ]
        },
        {
          "output_type": "stream",
          "name": "stdout",
          "text": [
            "pepsi, if you let me stay not found!\n",
            "shirlie, if you let me stay not found!\n",
            "joe dolce, if you want to be happy not found!\n"
          ]
        },
        {
          "output_type": "stream",
          "name": "stderr",
          "text": [
            " 43%|████▎     | 497/1153 [08:34<07:30,  1.46it/s]"
          ]
        },
        {
          "output_type": "stream",
          "name": "stdout",
          "text": [
            "pete bardens, in dreams not found!\n"
          ]
        },
        {
          "output_type": "stream",
          "name": "stderr",
          "text": [
            " 44%|████▎     | 502/1153 [08:35<04:07,  2.63it/s]"
          ]
        },
        {
          "output_type": "stream",
          "name": "stdout",
          "text": [
            "tina turner, in the army now not found!\n"
          ]
        },
        {
          "output_type": "stream",
          "name": "stderr",
          "text": [
            " 44%|████▍     | 508/1153 [08:37<03:34,  3.01it/s]"
          ]
        },
        {
          "output_type": "stream",
          "name": "stdout",
          "text": [
            "orlando riva sound, indian reservation not found!\n",
            "pat benatar, invincible (billie jean theme) not found!\n"
          ]
        },
        {
          "output_type": "stream",
          "name": "stderr",
          "text": [
            " 44%|████▍     | 510/1153 [08:38<05:01,  2.13it/s]"
          ]
        },
        {
          "output_type": "stream",
          "name": "stdout",
          "text": [
            "cock robin, irgendwann not found!\n"
          ]
        },
        {
          "output_type": "stream",
          "name": "stderr",
          "text": [
            " 45%|████▍     | 517/1153 [08:44<05:59,  1.77it/s]"
          ]
        },
        {
          "output_type": "stream",
          "name": "stdout",
          "text": [
            "bonnie tyler, islands not found!\n"
          ]
        },
        {
          "output_type": "stream",
          "name": "stderr",
          "text": [
            " 45%|████▌     | 520/1153 [09:00<32:00,  3.03s/it]"
          ]
        },
        {
          "output_type": "stream",
          "name": "stdout",
          "text": [
            "m.a.r.r.s., it doesn't have to be not found!\n"
          ]
        },
        {
          "output_type": "stream",
          "name": "stderr",
          "text": [
            " 46%|████▌     | 527/1153 [09:03<07:19,  1.43it/s]"
          ]
        },
        {
          "output_type": "stream",
          "name": "stdout",
          "text": [
            "barbara gaskin, it's my party not found!\n"
          ]
        },
        {
          "output_type": "stream",
          "name": "stderr",
          "text": [
            " 46%|████▌     | 531/1153 [09:05<04:56,  2.10it/s]"
          ]
        },
        {
          "output_type": "stream",
          "name": "stdout",
          "text": [
            "hot chocolate, italo boot mix vol. 7 not found!\n",
            "nick kamen, italo boot mix vol. 8 not found!\n"
          ]
        },
        {
          "output_type": "stream",
          "name": "stderr",
          "text": [
            " 46%|████▋     | 536/1153 [09:06<02:33,  4.02it/s]"
          ]
        },
        {
          "output_type": "stream",
          "name": "stdout",
          "text": [
            "michael jackson with siedah garrett, jack mix ii not found!\n",
            "jennifer rush, jack your body not found!\n",
            "elton john, jack your body not found!\n"
          ]
        },
        {
          "output_type": "stream",
          "name": "stderr",
          "text": [
            "\r 47%|████▋     | 538/1153 [09:06<01:55,  5.33it/s]"
          ]
        },
        {
          "output_type": "stream",
          "name": "stdout",
          "text": [
            "falco, jeanny (part i) not found!\n"
          ]
        },
        {
          "output_type": "stream",
          "name": "stderr",
          "text": [
            " 47%|████▋     | 541/1153 [09:07<02:06,  4.83it/s]"
          ]
        },
        {
          "output_type": "stream",
          "name": "stdout",
          "text": [
            "club nouveau, jet airliner not found!\n"
          ]
        },
        {
          "output_type": "stream",
          "name": "stderr",
          "text": [
            " 47%|████▋     | 546/1153 [09:09<04:19,  2.34it/s]"
          ]
        },
        {
          "output_type": "stream",
          "name": "stdout",
          "text": [
            "depeche mode, johnny b not found!\n"
          ]
        },
        {
          "output_type": "stream",
          "name": "stderr",
          "text": [
            " 48%|████▊     | 557/1153 [09:32<13:03,  1.31s/it]<ipython-input-110-8f6e35d73917>:45: UserWarning: This pattern is interpreted as a regular expression, and has match groups. To actually get the groups, use str.extract.\n",
            "  points = chart_power_df_explode.loc[(chart_power_df_explode.Song == track_name.lower()) & (chart_power_df_explode.Artist.str.contains(artist_names.lower()))]['Points']\n",
            " 50%|████▉     | 572/1153 [10:00<32:30,  3.36s/it]<ipython-input-110-8f6e35d73917>:45: UserWarning: This pattern is interpreted as a regular expression, and has match groups. To actually get the groups, use str.extract.\n",
            "  points = chart_power_df_explode.loc[(chart_power_df_explode.Song == track_name.lower()) & (chart_power_df_explode.Artist.str.contains(artist_names.lower()))]['Points']\n",
            " 50%|████▉     | 574/1153 [10:03<22:36,  2.34s/it]"
          ]
        },
        {
          "output_type": "stream",
          "name": "stdout",
          "text": [
            "mary roos und david hanselmann, lady not found!\n"
          ]
        },
        {
          "output_type": "stream",
          "name": "stderr",
          "text": [
            " 51%|█████▏    | 591/1153 [10:09<02:13,  4.22it/s]"
          ]
        },
        {
          "output_type": "stream",
          "name": "stdout",
          "text": [
            "guesch patti, let be must the queen not found!\n",
            "ferry aid, let it be not found!\n",
            "oran \"juice\" jones, let's dance not found!\n"
          ]
        },
        {
          "output_type": "stream",
          "name": "stderr",
          "text": [
            " 52%|█████▏    | 599/1153 [10:30<35:10,  3.81s/it]"
          ]
        },
        {
          "output_type": "stream",
          "name": "stdout",
          "text": [
            "peter maffay, lieber gott ... not found!\n"
          ]
        },
        {
          "output_type": "stream",
          "name": "stderr",
          "text": [
            "\r 52%|█████▏    | 600/1153 [10:30<26:03,  2.83s/it]"
          ]
        },
        {
          "output_type": "stream",
          "name": "stdout",
          "text": [
            "soulsister, like a mountain (remix) not found!\n"
          ]
        },
        {
          "output_type": "stream",
          "name": "stderr",
          "text": [
            " 53%|█████▎    | 608/1153 [10:33<04:56,  1.84it/s]"
          ]
        },
        {
          "output_type": "stream",
          "name": "stdout",
          "text": [
            "o.m.d., locomotion not found!\n",
            "c. c. catch, looking for a new love not found!\n"
          ]
        },
        {
          "output_type": "stream",
          "name": "stderr",
          "text": [
            " 54%|█████▍    | 622/1153 [10:41<04:37,  1.92it/s]"
          ]
        },
        {
          "output_type": "stream",
          "name": "stdout",
          "text": [
            "ingrid kup, love what's your face not found!\n"
          ]
        },
        {
          "output_type": "stream",
          "name": "stderr",
          "text": [
            " 54%|█████▍    | 627/1153 [11:00<46:04,  5.26s/it]<ipython-input-110-8f6e35d73917>:45: UserWarning: This pattern is interpreted as a regular expression, and has match groups. To actually get the groups, use str.extract.\n",
            "  points = chart_power_df_explode.loc[(chart_power_df_explode.Song == track_name.lower()) & (chart_power_df_explode.Artist.str.contains(artist_names.lower()))]['Points']\n",
            " 55%|█████▍    | 629/1153 [11:02<26:55,  3.08s/it]"
          ]
        },
        {
          "output_type": "stream",
          "name": "stdout",
          "text": [
            "ricchi e poveri, m'innamoro di te not found!\n"
          ]
        },
        {
          "output_type": "stream",
          "name": "stderr",
          "text": [
            " 55%|█████▌    | 635/1153 [11:03<05:54,  1.46it/s]"
          ]
        },
        {
          "output_type": "stream",
          "name": "stdout",
          "text": [
            "o.m.d., maid of orleans (the waltz of joan of arc) not found!\n",
            "boney m., malaika / consuela biaz not found!\n"
          ]
        },
        {
          "output_type": "stream",
          "name": "stderr",
          "text": [
            "\r 55%|█████▌    | 636/1153 [11:03<05:06,  1.69it/s]<ipython-input-110-8f6e35d73917>:45: UserWarning: This pattern is interpreted as a regular expression, and has match groups. To actually get the groups, use str.extract.\n",
            "  points = chart_power_df_explode.loc[(chart_power_df_explode.Song == track_name.lower()) & (chart_power_df_explode.Artist.str.contains(artist_names.lower()))]['Points']\n",
            " 56%|█████▌    | 645/1153 [11:08<03:45,  2.25it/s]"
          ]
        },
        {
          "output_type": "stream",
          "name": "stdout",
          "text": [
            "g'race, manhattan not found!\n",
            "the hornettes, mannequin not found!\n"
          ]
        },
        {
          "output_type": "stream",
          "name": "stderr",
          "text": [
            " 56%|█████▋    | 650/1153 [11:09<01:50,  4.56it/s]"
          ]
        },
        {
          "output_type": "stream",
          "name": "stdout",
          "text": [
            "rocco, marina (remix '89) not found!\n",
            "the carnations, marina (remix '89) not found!\n",
            "gazebo, master piece not found!\n"
          ]
        },
        {
          "output_type": "stream",
          "name": "stderr",
          "text": [
            " 57%|█████▋    | 654/1153 [11:10<01:49,  4.54it/s]"
          ]
        },
        {
          "output_type": "stream",
          "name": "stdout",
          "text": [
            "leinemann, mein tuut tuut not found!\n"
          ]
        },
        {
          "output_type": "stream",
          "name": "stderr",
          "text": [
            "\r 57%|█████▋    | 656/1153 [11:30<35:06,  4.24s/it]"
          ]
        },
        {
          "output_type": "stream",
          "name": "stdout",
          "text": [
            "matchbox, midnight dynamoes not found!\n"
          ]
        },
        {
          "output_type": "stream",
          "name": "stderr",
          "text": [
            " 58%|█████▊    | 664/1153 [11:33<06:04,  1.34it/s]"
          ]
        },
        {
          "output_type": "stream",
          "name": "stdout",
          "text": [
            "bonnie bianco, miss you so not found!\n",
            "pierre cosso, mit dir des wär mei leben not found!\n"
          ]
        },
        {
          "output_type": "stream",
          "name": "stderr",
          "text": [
            " 58%|█████▊    | 668/1153 [11:34<03:55,  2.06it/s]"
          ]
        },
        {
          "output_type": "stream",
          "name": "stdout",
          "text": [
            "phil carmen, moonshine still not found!\n"
          ]
        },
        {
          "output_type": "stream",
          "name": "stderr",
          "text": [
            " 59%|█████▊    | 677/1153 [11:38<02:25,  3.27it/s]"
          ]
        },
        {
          "output_type": "stream",
          "name": "stdout",
          "text": [
            "guillermo marchena, my love is a tango not found!\n",
            "joe cocker, my pretty one not found!\n"
          ]
        },
        {
          "output_type": "stream",
          "name": "stderr",
          "text": [
            " 59%|█████▉    | 679/1153 [11:39<02:10,  3.64it/s]<ipython-input-110-8f6e35d73917>:45: UserWarning: This pattern is interpreted as a regular expression, and has match groups. To actually get the groups, use str.extract.\n",
            "  points = chart_power_df_explode.loc[(chart_power_df_explode.Song == track_name.lower()) & (chart_power_df_explode.Artist.str.contains(artist_names.lower()))]['Points']\n",
            " 59%|█████▉    | 686/1153 [11:41<01:59,  3.91it/s]"
          ]
        },
        {
          "output_type": "stream",
          "name": "stdout",
          "text": [
            "band für afrika, nackt im wind not found!\n"
          ]
        },
        {
          "output_type": "stream",
          "name": "stderr",
          "text": [
            " 60%|█████▉    | 688/1153 [12:00<31:58,  4.13s/it]<ipython-input-110-8f6e35d73917>:45: UserWarning: This pattern is interpreted as a regular expression, and has match groups. To actually get the groups, use str.extract.\n",
            "  points = chart_power_df_explode.loc[(chart_power_df_explode.Song == track_name.lower()) & (chart_power_df_explode.Artist.str.contains(artist_names.lower()))]['Points']\n",
            " 60%|██████    | 696/1153 [12:08<04:41,  1.63it/s]"
          ]
        },
        {
          "output_type": "stream",
          "name": "stdout",
          "text": [
            "tony holiday, nie mehr allein sein not found!\n",
            "trude herr, niemals geht man so ganz not found!\n"
          ]
        },
        {
          "output_type": "stream",
          "name": "stderr",
          "text": [
            " 61%|██████    | 700/1153 [12:09<02:07,  3.56it/s]"
          ]
        },
        {
          "output_type": "stream",
          "name": "stdout",
          "text": [
            "inga, no longer friends not found!\n",
            "anete humpe, no longer friends not found!\n"
          ]
        },
        {
          "output_type": "stream",
          "name": "stderr",
          "text": [
            " 61%|██████    | 705/1153 [12:10<01:56,  3.86it/s]"
          ]
        },
        {
          "output_type": "stream",
          "name": "stdout",
          "text": [
            "the jacksons, nothin' (that compares to you) not found!\n"
          ]
        },
        {
          "output_type": "stream",
          "name": "stderr",
          "text": [
            " 62%|██████▏   | 712/1153 [12:12<02:41,  2.72it/s]"
          ]
        },
        {
          "output_type": "stream",
          "name": "stdout",
          "text": [
            "roxy music, oh yeah (on the radio) not found!\n"
          ]
        },
        {
          "output_type": "stream",
          "name": "stderr",
          "text": [
            " 62%|██████▏   | 714/1153 [12:30<28:31,  3.90s/it]"
          ]
        },
        {
          "output_type": "stream",
          "name": "stdout",
          "text": [
            "michael schanze und die fußball-nationalmannschaft, ole espana not found!\n"
          ]
        },
        {
          "output_type": "stream",
          "name": "stderr",
          "text": [
            "\r 62%|██████▏   | 716/1153 [12:31<16:02,  2.20s/it]"
          ]
        },
        {
          "output_type": "stream",
          "name": "stdout",
          "text": [
            "michael mcdonald, on my own not found!\n"
          ]
        },
        {
          "output_type": "stream",
          "name": "stderr",
          "text": [
            " 63%|██████▎   | 729/1153 [12:35<02:39,  2.65it/s]"
          ]
        },
        {
          "output_type": "stream",
          "name": "stdout",
          "text": [
            "crowded house, open your heart not found!\n"
          ]
        },
        {
          "output_type": "stream",
          "name": "stderr",
          "text": [
            " 64%|██████▎   | 735/1153 [12:37<02:41,  2.59it/s]"
          ]
        },
        {
          "output_type": "stream",
          "name": "stdout",
          "text": [
            "phil lynott, out in the fields not found!\n"
          ]
        },
        {
          "output_type": "stream",
          "name": "stderr",
          "text": [
            " 64%|██████▍   | 739/1153 [12:39<03:01,  2.28it/s]"
          ]
        },
        {
          "output_type": "stream",
          "name": "stdout",
          "text": [
            "matchbox, over the rainbow - you belong to me (medley) not found!\n"
          ]
        },
        {
          "output_type": "stream",
          "name": "stderr",
          "text": [
            " 64%|██████▍   | 743/1153 [13:03<17:10,  2.51s/it]"
          ]
        },
        {
          "output_type": "stream",
          "name": "stdout",
          "text": [
            "the jonzun crew, pack jam (look out for the ovc) not found!\n"
          ]
        },
        {
          "output_type": "stream",
          "name": "stderr",
          "text": [
            " 65%|██████▍   | 748/1153 [13:05<05:13,  1.29it/s]"
          ]
        },
        {
          "output_type": "stream",
          "name": "stdout",
          "text": [
            "max headroom, paranoimia not found!\n"
          ]
        },
        {
          "output_type": "stream",
          "name": "stderr",
          "text": [
            "\r 65%|██████▌   | 750/1153 [13:07<05:27,  1.23it/s]"
          ]
        },
        {
          "output_type": "stream",
          "name": "stdout",
          "text": [
            "saragossa band, pas pleurer (please no more crying) not found!\n"
          ]
        },
        {
          "output_type": "stream",
          "name": "stderr",
          "text": [
            " 66%|██████▌   | 762/1153 [13:10<01:32,  4.21it/s]"
          ]
        },
        {
          "output_type": "stream",
          "name": "stdout",
          "text": [
            "mike oldfield feat. aled jones, anita hegerland, pictures in the dark not found!\n",
            "barry palmer, pictures in the dark not found!\n"
          ]
        },
        {
          "output_type": "stream",
          "name": "stderr",
          "text": [
            " 66%|██████▋   | 765/1153 [13:11<01:38,  3.95it/s]"
          ]
        },
        {
          "output_type": "stream",
          "name": "stdout",
          "text": [
            "out of the ordinary, play it again not found!\n"
          ]
        },
        {
          "output_type": "stream",
          "name": "stderr",
          "text": [
            " 67%|██████▋   | 768/1153 [13:33<33:36,  5.24s/it]"
          ]
        },
        {
          "output_type": "stream",
          "name": "stdout",
          "text": [
            "united balls, pogo in togo not found!\n"
          ]
        },
        {
          "output_type": "stream",
          "name": "stderr",
          "text": [
            " 68%|██████▊   | 779/1153 [13:40<04:47,  1.30it/s]"
          ]
        },
        {
          "output_type": "stream",
          "name": "stdout",
          "text": [
            "technotronic feat. felly, pump up the jam not found!\n",
            "m.a.r.r.s., pump up the volume not found!\n"
          ]
        },
        {
          "output_type": "stream",
          "name": "stderr",
          "text": [
            " 68%|██████▊   | 781/1153 [13:43<07:49,  1.26s/it]"
          ]
        },
        {
          "output_type": "stream",
          "name": "stdout",
          "text": [
            "annie lennox, put a little love in your heart not found!\n"
          ]
        },
        {
          "output_type": "stream",
          "name": "stderr",
          "text": [
            " 69%|██████▊   | 790/1153 [13:47<02:59,  2.03it/s]"
          ]
        },
        {
          "output_type": "stream",
          "name": "stdout",
          "text": [
            "the revolution, raspberry beret not found!\n"
          ]
        },
        {
          "output_type": "stream",
          "name": "stderr",
          "text": [
            "\r 69%|██████▊   | 792/1153 [13:48<02:11,  2.74it/s]"
          ]
        },
        {
          "output_type": "stream",
          "name": "stdout",
          "text": [
            "paul engemann, reach out not found!\n"
          ]
        },
        {
          "output_type": "stream",
          "name": "stderr",
          "text": [
            " 69%|██████▉   | 796/1153 [14:00<10:28,  1.76s/it]"
          ]
        },
        {
          "output_type": "stream",
          "name": "stdout",
          "text": [
            "richard sanderson, reality not found!\n",
            "jackie wilson, reet petite (the sweetest girl in town) not found!\n"
          ]
        },
        {
          "output_type": "stream",
          "name": "stderr",
          "text": [
            " 70%|██████▉   | 806/1153 [14:09<03:08,  1.84it/s]"
          ]
        },
        {
          "output_type": "stream",
          "name": "stdout",
          "text": [
            "max werner, roadrunner not found!\n"
          ]
        },
        {
          "output_type": "stream",
          "name": "stderr",
          "text": [
            " 70%|███████   | 810/1153 [14:09<01:25,  4.01it/s]"
          ]
        },
        {
          "output_type": "stream",
          "name": "stdout",
          "text": [
            "tommi ohrner, rock 'n' roll in old blue jeans not found!\n",
            "johnny nash, rock me baby not found!\n"
          ]
        },
        {
          "output_type": "stream",
          "name": "stderr",
          "text": [
            " 70%|███████   | 812/1153 [14:11<03:03,  1.86it/s]"
          ]
        },
        {
          "output_type": "stream",
          "name": "stdout",
          "text": [
            "tony carey, room with a view not found!\n"
          ]
        },
        {
          "output_type": "stream",
          "name": "stderr",
          "text": [
            " 71%|███████   | 816/1153 [14:12<02:02,  2.76it/s]"
          ]
        },
        {
          "output_type": "stream",
          "name": "stdout",
          "text": [
            "eruption, runaway not found!\n"
          ]
        },
        {
          "output_type": "stream",
          "name": "stderr",
          "text": [
            " 72%|███████▏  | 828/1153 [14:31<10:05,  1.86s/it]"
          ]
        },
        {
          "output_type": "stream",
          "name": "stdout",
          "text": [
            "robin beck, save up all your tears not found!\n"
          ]
        },
        {
          "output_type": "stream",
          "name": "stderr",
          "text": [
            " 72%|███████▏  | 834/1153 [14:35<03:00,  1.77it/s]"
          ]
        },
        {
          "output_type": "stream",
          "name": "stdout",
          "text": [
            "jule neigel band, schatten an der wand not found!\n",
            "original naabtal duo, schutzengel, bleib bei mir not found!\n",
            "o.m.d., secret not found!\n"
          ]
        },
        {
          "output_type": "stream",
          "name": "stderr",
          "text": [
            "\r 73%|███████▎  | 836/1153 [14:35<01:56,  2.71it/s]"
          ]
        },
        {
          "output_type": "stream",
          "name": "stdout",
          "text": [
            "purple schulz und die neue heimat, sehnsucht not found!\n"
          ]
        },
        {
          "output_type": "stream",
          "name": "stderr",
          "text": [
            " 73%|███████▎  | 839/1153 [14:35<01:15,  4.16it/s]"
          ]
        },
        {
          "output_type": "stream",
          "name": "stdout",
          "text": [
            "raff, self control not found!\n",
            "stephan remmler, sempre, sempre not found!\n"
          ]
        },
        {
          "output_type": "stream",
          "name": "stderr",
          "text": [
            " 73%|███████▎  | 846/1153 [14:37<00:59,  5.15it/s]"
          ]
        },
        {
          "output_type": "stream",
          "name": "stdout",
          "text": [
            "mike oldfield and roger chapman, shadow on the wall not found!\n",
            "salt 'n' pepa feat. e.u., shake your thang (it's your thing) not found!\n"
          ]
        },
        {
          "output_type": "stream",
          "name": "stderr",
          "text": [
            " 74%|███████▎  | 850/1153 [14:40<02:50,  1.78it/s]"
          ]
        },
        {
          "output_type": "stream",
          "name": "stdout",
          "text": [
            "les mckeown, she's a lady not found!\n"
          ]
        },
        {
          "output_type": "stream",
          "name": "stderr",
          "text": [
            " 74%|███████▍  | 853/1153 [14:41<01:51,  2.70it/s]"
          ]
        },
        {
          "output_type": "stream",
          "name": "stdout",
          "text": [
            "wendy fraser, she's like the wind not found!\n"
          ]
        },
        {
          "output_type": "stream",
          "name": "stderr",
          "text": [
            " 74%|███████▍  | 856/1153 [14:41<01:25,  3.49it/s]"
          ]
        },
        {
          "output_type": "stream",
          "name": "stdout",
          "text": [
            "the pins, shine up not found!\n"
          ]
        },
        {
          "output_type": "stream",
          "name": "stderr",
          "text": [
            " 75%|███████▍  | 862/1153 [15:01<10:07,  2.09s/it]"
          ]
        },
        {
          "output_type": "stream",
          "name": "stdout",
          "text": [
            "silicon dream, sign 'o' the times not found!\n",
            "terence trent d'arby, sign your name not found!\n"
          ]
        },
        {
          "output_type": "stream",
          "name": "stderr",
          "text": [
            " 75%|███████▌  | 866/1153 [15:03<04:08,  1.16it/s]"
          ]
        },
        {
          "output_type": "stream",
          "name": "stdout",
          "text": [
            "o.m.d., so in love not found!\n"
          ]
        },
        {
          "output_type": "stream",
          "name": "stderr",
          "text": [
            " 76%|███████▌  | 872/1153 [15:05<02:28,  1.89it/s]"
          ]
        },
        {
          "output_type": "stream",
          "name": "stdout",
          "text": [
            "luisa fernandez, solo por ti not found!\n"
          ]
        },
        {
          "output_type": "stream",
          "name": "stderr",
          "text": [
            " 76%|███████▌  | 878/1153 [15:06<01:04,  4.29it/s]"
          ]
        },
        {
          "output_type": "stream",
          "name": "stdout",
          "text": [
            "prince mohammed, someone loves you honey not found!\n",
            "marc almond feat. gene pitney, something's gotten hold of my heart not found!\n"
          ]
        },
        {
          "output_type": "stream",
          "name": "stderr",
          "text": [
            " 78%|███████▊  | 895/1153 [15:34<03:34,  1.20it/s]"
          ]
        },
        {
          "output_type": "stream",
          "name": "stdout",
          "text": [
            "No features\n",
            "None\n",
            "{'album': {'album_type': 'album', 'artists': [{'external_urls': {'spotify': 'https://open.spotify.com/artist/4r8b3Hr0AMhzhAg75le0Gx'}, 'href': 'https://api.spotify.com/v1/artists/4r8b3Hr0AMhzhAg75le0Gx', 'id': '4r8b3Hr0AMhzhAg75le0Gx', 'name': 'Stars On 45', 'type': 'artist', 'uri': 'spotify:artist:4r8b3Hr0AMhzhAg75le0Gx'}], 'external_urls': {'spotify': 'https://open.spotify.com/album/3J8QtgfmfkgKzbKOE3eE4I'}, 'href': 'https://api.spotify.com/v1/albums/3J8QtgfmfkgKzbKOE3eE4I', 'id': '3J8QtgfmfkgKzbKOE3eE4I', 'images': [{'height': 640, 'url': 'https://i.scdn.co/image/ab67616d0000b273ea4918b07c54d0846ea692a1', 'width': 640}, {'height': 300, 'url': 'https://i.scdn.co/image/ab67616d00001e02ea4918b07c54d0846ea692a1', 'width': 300}, {'height': 64, 'url': 'https://i.scdn.co/image/ab67616d00004851ea4918b07c54d0846ea692a1', 'width': 64}], 'is_playable': True, 'name': '40 Years Anthology', 'release_date': '2022-09-09', 'release_date_precision': 'day', 'total_tracks': 20, 'type': 'album', 'uri': 'spotify:album:3J8QtgfmfkgKzbKOE3eE4I'}, 'artists': [{'external_urls': {'spotify': 'https://open.spotify.com/artist/4r8b3Hr0AMhzhAg75le0Gx'}, 'href': 'https://api.spotify.com/v1/artists/4r8b3Hr0AMhzhAg75le0Gx', 'id': '4r8b3Hr0AMhzhAg75le0Gx', 'name': 'Stars On 45', 'type': 'artist', 'uri': 'spotify:artist:4r8b3Hr0AMhzhAg75le0Gx'}], 'disc_number': 2, 'duration_ms': 11497, 'explicit': False, 'external_ids': {'isrc': 'NLC282200049'}, 'external_urls': {'spotify': 'https://open.spotify.com/track/2SwTGiprM1qwYxMj6D704H'}, 'href': 'https://api.spotify.com/v1/tracks/2SwTGiprM1qwYxMj6D704H', 'id': '2SwTGiprM1qwYxMj6D704H', 'is_local': False, 'is_playable': True, 'name': 'Stars On Jingle - Remastered', 'popularity': 0, 'preview_url': 'https://p.scdn.co/mp3-preview/00982c4fa2757d84e427dd687ba3aec1d1ed18f8?cid=34a31ed56a084e15b0d7079dd3aa77bf', 'track_number': 4, 'type': 'track', 'uri': 'spotify:track:2SwTGiprM1qwYxMj6D704H'}\n"
          ]
        },
        {
          "output_type": "stream",
          "name": "stderr",
          "text": [
            "\r 78%|███████▊  | 896/1153 [15:36<05:18,  1.24s/it]"
          ]
        },
        {
          "output_type": "stream",
          "name": "stdout",
          "text": [
            "the jacksons with mick jagger, state of shock not found!\n"
          ]
        },
        {
          "output_type": "stream",
          "name": "stderr",
          "text": [
            " 78%|███████▊  | 903/1153 [15:37<01:14,  3.37it/s]"
          ]
        },
        {
          "output_type": "stream",
          "name": "stdout",
          "text": [
            "peter griffin, step by step not found!\n",
            "sinitta, step by step not found!\n"
          ]
        },
        {
          "output_type": "stream",
          "name": "stderr",
          "text": [
            " 80%|████████  | 923/1153 [16:05<04:29,  1.17s/it]"
          ]
        },
        {
          "output_type": "stream",
          "name": "stdout",
          "text": [
            "s-express, superfly guy not found!\n"
          ]
        },
        {
          "output_type": "stream",
          "name": "stderr",
          "text": [
            " 80%|████████  | 928/1153 [16:06<01:44,  2.15it/s]"
          ]
        },
        {
          "output_type": "stream",
          "name": "stdout",
          "text": [
            "mixed emotions, sweetheart darling my dear (lisa my love) not found!\n"
          ]
        },
        {
          "output_type": "stream",
          "name": "stderr",
          "text": [
            " 81%|████████  | 935/1153 [16:30<22:34,  6.21s/it]"
          ]
        },
        {
          "output_type": "stream",
          "name": "stdout",
          "text": [
            "marti webb, take that look off your face not found!\n"
          ]
        },
        {
          "output_type": "stream",
          "name": "stderr",
          "text": [
            "\r 81%|████████▏ | 937/1153 [16:31<12:47,  3.55s/it]"
          ]
        },
        {
          "output_type": "stream",
          "name": "stdout",
          "text": [
            "o.m.d., talking loud and clear not found!\n"
          ]
        },
        {
          "output_type": "stream",
          "name": "stderr",
          "text": [
            "\r 81%|████████▏ | 939/1153 [16:31<07:58,  2.24s/it]"
          ]
        },
        {
          "output_type": "stream",
          "name": "stdout",
          "text": [
            "jawoll, taxi not found!\n"
          ]
        },
        {
          "output_type": "stream",
          "name": "stderr",
          "text": [
            " 82%|████████▏ | 942/1153 [16:33<05:07,  1.46s/it]"
          ]
        },
        {
          "output_type": "stream",
          "name": "stdout",
          "text": [
            "robin beck, tears in the rain not found!\n"
          ]
        },
        {
          "output_type": "stream",
          "name": "stderr",
          "text": [
            " 82%|████████▏ | 945/1153 [16:34<02:49,  1.23it/s]"
          ]
        },
        {
          "output_type": "stream",
          "name": "stdout",
          "text": [
            "terence trent d'arby, tell me why not found!\n"
          ]
        },
        {
          "output_type": "stream",
          "name": "stderr",
          "text": [
            " 82%|████████▏ | 949/1153 [16:35<01:34,  2.16it/s]"
          ]
        },
        {
          "output_type": "stream",
          "name": "stdout",
          "text": [
            "cannot convert the series to <class 'int'>\n",
            "Tears Of Ice\n",
            "Bolland\n",
            "1645    1371\n",
            "1646    1371\n",
            "Name: Points, dtype: int64\n",
            "-------\n",
            "cannot convert the series to <class 'int'>\n",
            "Tears Of Ice\n",
            "Bolland\n",
            "1645    1371\n",
            "1646    1371\n",
            "Name: Points, dtype: int64\n",
            "-------\n"
          ]
        },
        {
          "output_type": "stream",
          "name": "stderr",
          "text": [
            " 83%|████████▎ | 956/1153 [16:39<01:22,  2.38it/s]"
          ]
        },
        {
          "output_type": "stream",
          "name": "stdout",
          "text": [
            "tolga flim flam balkan, the best of joint mix not found!\n"
          ]
        },
        {
          "output_type": "stream",
          "name": "stderr",
          "text": [
            " 83%|████████▎ | 962/1153 [16:40<00:45,  4.15it/s]"
          ]
        },
        {
          "output_type": "stream",
          "name": "stdout",
          "text": [
            "gary bird, the crown not found!\n",
            "the g.b. experience, the crown not found!\n"
          ]
        },
        {
          "output_type": "stream",
          "name": "stderr",
          "text": [
            "\r 84%|████████▎ | 964/1153 [16:41<01:18,  2.42it/s]"
          ]
        },
        {
          "output_type": "stream",
          "name": "stdout",
          "text": [
            "michael jackson, the great commandment not found!\n"
          ]
        },
        {
          "output_type": "stream",
          "name": "stderr",
          "text": [
            " 85%|████████▍ | 976/1153 [17:06<01:40,  1.76it/s]"
          ]
        },
        {
          "output_type": "stream",
          "name": "stdout",
          "text": [
            "the s.o.s. band, the official bootleg mega mix not found!\n",
            "the plastic population, the only way is up not found!\n",
            "exile, the part of me that needs you most not found!\n"
          ]
        },
        {
          "output_type": "stream",
          "name": "stderr",
          "text": [
            " 85%|████████▌ | 981/1153 [17:10<02:08,  1.34it/s]"
          ]
        },
        {
          "output_type": "stream",
          "name": "stdout",
          "text": [
            "fat boys with stupid def vocals by chubby checker, the twist (yo, twist) not found!\n"
          ]
        },
        {
          "output_type": "stream",
          "name": "stderr",
          "text": [
            " 86%|████████▌ | 992/1153 [17:30<13:23,  4.99s/it]"
          ]
        },
        {
          "output_type": "stream",
          "name": "stdout",
          "text": [
            "pil, this is not a love song not found!\n"
          ]
        },
        {
          "output_type": "stream",
          "name": "stderr",
          "text": [
            " 87%|████████▋ | 998/1153 [17:33<02:41,  1.04s/it]"
          ]
        },
        {
          "output_type": "stream",
          "name": "stdout",
          "text": [
            "christian bruhn, timms thema not found!\n"
          ]
        },
        {
          "output_type": "stream",
          "name": "stderr",
          "text": [
            " 87%|████████▋ | 1002/1153 [17:34<01:07,  2.22it/s]"
          ]
        },
        {
          "output_type": "stream",
          "name": "stdout",
          "text": [
            "mel brooks, to be or not to be (the hitler rap) pt. 1 not found!\n",
            "mike oldfield (vocals: maggie reilly), to france not found!\n"
          ]
        },
        {
          "output_type": "stream",
          "name": "stderr",
          "text": [
            " 87%|████████▋ | 1006/1153 [17:34<00:42,  3.43it/s]"
          ]
        },
        {
          "output_type": "stream",
          "name": "stdout",
          "text": [
            "patrick duffy, together we're strong not found!\n"
          ]
        },
        {
          "output_type": "stream",
          "name": "stderr",
          "text": [
            " 88%|████████▊ | 1017/1153 [17:39<00:42,  3.22it/s]"
          ]
        },
        {
          "output_type": "stream",
          "name": "stdout",
          "text": [
            "bon jovi, trouble not found!\n",
            "wolf maahn und unterstützung, tschernobyl (das letzte signal) not found!\n",
            "alan sorrenti, tu sei l'unica donne per me not found!\n"
          ]
        },
        {
          "output_type": "stream",
          "name": "stderr",
          "text": [
            " 89%|████████▊ | 1022/1153 [17:40<00:37,  3.52it/s]"
          ]
        },
        {
          "output_type": "stream",
          "name": "stdout",
          "text": [
            "moses p., twilight zone not found!\n"
          ]
        },
        {
          "output_type": "stream",
          "name": "stderr",
          "text": [
            " 89%|████████▉ | 1028/1153 [18:02<04:46,  2.29s/it]"
          ]
        },
        {
          "output_type": "stream",
          "name": "stdout",
          "text": [
            "eddy huntington, u.s.s.r. not found!\n",
            "cliff richard, unchain my heart not found!\n"
          ]
        },
        {
          "output_type": "stream",
          "name": "stderr",
          "text": [
            " 90%|████████▉ | 1032/1153 [18:03<01:52,  1.07it/s]"
          ]
        },
        {
          "output_type": "stream",
          "name": "stdout",
          "text": [
            "lee majors, unknown stuntman not found!\n"
          ]
        },
        {
          "output_type": "stream",
          "name": "stderr",
          "text": [
            " 90%|████████▉ | 1037/1153 [18:06<01:02,  1.85it/s]"
          ]
        },
        {
          "output_type": "stream",
          "name": "stdout",
          "text": [
            "die flippers, victory not found!\n"
          ]
        },
        {
          "output_type": "stream",
          "name": "stderr",
          "text": [
            " 91%|█████████ | 1052/1153 [18:38<04:18,  2.56s/it]"
          ]
        },
        {
          "output_type": "stream",
          "name": "stdout",
          "text": [
            "the bootzilla orchestra, waltz darling not found!\n",
            "alison moyet, warriors of the wasteland not found!\n"
          ]
        },
        {
          "output_type": "stream",
          "name": "stderr",
          "text": [
            "\r 91%|█████████▏| 1053/1153 [18:38<03:19,  2.00s/it]"
          ]
        },
        {
          "output_type": "stream",
          "name": "stdout",
          "text": [
            "christian franke, was wäre wenn â€¦ not found!\n"
          ]
        },
        {
          "output_type": "stream",
          "name": "stderr",
          "text": [
            " 92%|█████████▏| 1057/1153 [18:39<01:22,  1.16it/s]"
          ]
        },
        {
          "output_type": "stream",
          "name": "stdout",
          "text": [
            "d. mob feat. gary haisman, we call it acieed not found!\n"
          ]
        },
        {
          "output_type": "stream",
          "name": "stderr",
          "text": [
            " 92%|█████████▏| 1061/1153 [18:40<00:35,  2.57it/s]"
          ]
        },
        {
          "output_type": "stream",
          "name": "stdout",
          "text": [
            "sandra, we'll be together ('89 remix) not found!\n",
            "udo lindenberg, weak in the presence of beauty not found!\n"
          ]
        },
        {
          "output_type": "stream",
          "name": "stderr",
          "text": [
            " 92%|█████████▏| 1063/1153 [18:40<00:30,  2.93it/s]"
          ]
        },
        {
          "output_type": "stream",
          "name": "stdout",
          "text": [
            "No features\n",
            "None\n",
            "{'album': {'album_type': 'album', 'artists': [{'external_urls': {'spotify': 'https://open.spotify.com/artist/39JBLI1Kj41yxv00pd2KNB'}, 'href': 'https://api.spotify.com/v1/artists/39JBLI1Kj41yxv00pd2KNB', 'id': '39JBLI1Kj41yxv00pd2KNB', 'name': 'Earth Frequencies', 'type': 'artist', 'uri': 'spotify:artist:39JBLI1Kj41yxv00pd2KNB'}, {'external_urls': {'spotify': 'https://open.spotify.com/artist/229Pj9JXTfFKS4NhYNTwDs'}, 'href': 'https://api.spotify.com/v1/artists/229Pj9JXTfFKS4NhYNTwDs', 'id': '229Pj9JXTfFKS4NhYNTwDs', 'name': '432 Hz Frequencies', 'type': 'artist', 'uri': 'spotify:artist:229Pj9JXTfFKS4NhYNTwDs'}], 'external_urls': {'spotify': 'https://open.spotify.com/album/6kE9gKvW23xPq3jUf4VDiF'}, 'href': 'https://api.spotify.com/v1/albums/6kE9gKvW23xPq3jUf4VDiF', 'id': '6kE9gKvW23xPq3jUf4VDiF', 'images': [{'height': 640, 'url': 'https://i.scdn.co/image/ab67616d0000b27319c1bb1e8d36cbd1f54662a4', 'width': 640}, {'height': 300, 'url': 'https://i.scdn.co/image/ab67616d00001e0219c1bb1e8d36cbd1f54662a4', 'width': 300}, {'height': 64, 'url': 'https://i.scdn.co/image/ab67616d0000485119c1bb1e8d36cbd1f54662a4', 'width': 64}], 'is_playable': True, 'name': '432 Hz Singing Bowls Meditation', 'release_date': '2022-12-14', 'release_date_precision': 'day', 'total_tracks': 15, 'type': 'album', 'uri': 'spotify:album:6kE9gKvW23xPq3jUf4VDiF'}, 'artists': [{'external_urls': {'spotify': 'https://open.spotify.com/artist/39JBLI1Kj41yxv00pd2KNB'}, 'href': 'https://api.spotify.com/v1/artists/39JBLI1Kj41yxv00pd2KNB', 'id': '39JBLI1Kj41yxv00pd2KNB', 'name': 'Earth Frequencies', 'type': 'artist', 'uri': 'spotify:artist:39JBLI1Kj41yxv00pd2KNB'}, {'external_urls': {'spotify': 'https://open.spotify.com/artist/229Pj9JXTfFKS4NhYNTwDs'}, 'href': 'https://api.spotify.com/v1/artists/229Pj9JXTfFKS4NhYNTwDs', 'id': '229Pj9JXTfFKS4NhYNTwDs', 'name': '432 Hz Frequencies', 'type': 'artist', 'uri': 'spotify:artist:229Pj9JXTfFKS4NhYNTwDs'}], 'disc_number': 1, 'duration_ms': 64000, 'explicit': False, 'external_ids': {'isrc': 'QZTB32200003'}, 'external_urls': {'spotify': 'https://open.spotify.com/track/16RP8zpfaovSYzU3D3Sgji'}, 'href': 'https://api.spotify.com/v1/tracks/16RP8zpfaovSYzU3D3Sgji', 'id': '16RP8zpfaovSYzU3D3Sgji', 'is_local': False, 'is_playable': True, 'name': '432 Hz Meditation Weekend', 'popularity': 8, 'preview_url': 'https://p.scdn.co/mp3-preview/f88653be15f2bf33106bb59991b9c9ede50785b1?cid=34a31ed56a084e15b0d7079dd3aa77bf', 'track_number': 4, 'type': 'track', 'uri': 'spotify:track:16RP8zpfaovSYzU3D3Sgji'}\n"
          ]
        },
        {
          "output_type": "stream",
          "name": "stderr",
          "text": [
            " 94%|█████████▎| 1080/1153 [19:05<00:50,  1.44it/s]"
          ]
        },
        {
          "output_type": "stream",
          "name": "stdout",
          "text": [
            "dusty springfield, what have i done to deserve this? not found!\n"
          ]
        },
        {
          "output_type": "stream",
          "name": "stderr",
          "text": [
            " 94%|█████████▍| 1088/1153 [19:10<01:06,  1.02s/it]<ipython-input-110-8f6e35d73917>:45: UserWarning: This pattern is interpreted as a regular expression, and has match groups. To actually get the groups, use str.extract.\n",
            "  points = chart_power_df_explode.loc[(chart_power_df_explode.Song == track_name.lower()) & (chart_power_df_explode.Artist.str.contains(artist_names.lower()))]['Points']\n",
            " 95%|█████████▍| 1091/1153 [19:12<00:39,  1.56it/s]"
          ]
        },
        {
          "output_type": "stream",
          "name": "stdout",
          "text": [
            "andreas martin, when a man loves a woman not found!\n",
            "the revolution, when doves cry not found!\n"
          ]
        },
        {
          "output_type": "stream",
          "name": "stderr",
          "text": [
            " 95%|█████████▌| 1099/1153 [19:31<03:22,  3.76s/it]"
          ]
        },
        {
          "output_type": "stream",
          "name": "stdout",
          "text": [
            "ferry aid, where are you? not found!\n"
          ]
        },
        {
          "output_type": "stream",
          "name": "stderr",
          "text": [
            " 96%|█████████▌| 1102/1153 [19:32<01:25,  1.67s/it]<ipython-input-110-8f6e35d73917>:45: UserWarning: This pattern is interpreted as a regular expression, and has match groups. To actually get the groups, use str.extract.\n",
            "  points = chart_power_df_explode.loc[(chart_power_df_explode.Song == track_name.lower()) & (chart_power_df_explode.Artist.str.contains(artist_names.lower()))]['Points']\n",
            " 96%|█████████▌| 1107/1153 [19:34<00:27,  1.66it/s]"
          ]
        },
        {
          "output_type": "stream",
          "name": "stdout",
          "text": [
            "mike anthony, why can't we live together not found!\n"
          ]
        },
        {
          "output_type": "stream",
          "name": "stderr",
          "text": [
            " 96%|█████████▋| 1112/1153 [19:36<00:19,  2.16it/s]"
          ]
        },
        {
          "output_type": "stream",
          "name": "stdout",
          "text": [
            "die schlümpfe, willi, willi (kinderreime) not found!\n",
            "terence trent d'arby, wishing well not found!\n"
          ]
        },
        {
          "output_type": "stream",
          "name": "stderr",
          "text": [
            " 97%|█████████▋| 1121/1153 [19:41<00:13,  2.41it/s]"
          ]
        },
        {
          "output_type": "stream",
          "name": "stdout",
          "text": [
            "baltimora, woodie boogie not found!\n",
            "video kids, woodpeckers from space not found!\n"
          ]
        },
        {
          "output_type": "stream",
          "name": "stderr",
          "text": [
            "\r 97%|█████████▋| 1122/1153 [19:41<00:11,  2.59it/s]"
          ]
        },
        {
          "output_type": "stream",
          "name": "stdout",
          "text": [
            "the detroit spinners, working my way back to you - forgive me, girl (medley) not found!\n"
          ]
        },
        {
          "output_type": "stream",
          "name": "stderr",
          "text": [
            " 98%|█████████▊| 1125/1153 [19:42<00:10,  2.70it/s]"
          ]
        },
        {
          "output_type": "stream",
          "name": "stdout",
          "text": [
            "pascal, wozu sind kriege da? not found!\n"
          ]
        },
        {
          "output_type": "stream",
          "name": "stderr",
          "text": [
            " 98%|█████████▊| 1133/1153 [20:02<00:30,  1.52s/it]"
          ]
        },
        {
          "output_type": "stream",
          "name": "stdout",
          "text": [
            "heidi brühl, you are a part of my heart not found!\n"
          ]
        },
        {
          "output_type": "stream",
          "name": "stderr",
          "text": [
            " 99%|█████████▉| 1142/1153 [20:07<00:05,  2.04it/s]"
          ]
        },
        {
          "output_type": "stream",
          "name": "stdout",
          "text": [
            "jona lewie, you'll always find me in the kitchen at parties not found!\n",
            "peter kent, you're all i need not found!\n"
          ]
        },
        {
          "output_type": "stream",
          "name": "stderr",
          "text": [
            "100%|██████████| 1153/1153 [20:10<00:00,  1.05s/it]\n"
          ]
        }
      ]
    },
    {
      "cell_type": "code",
      "source": [
        "df = pd.read_csv(f\"{PATH}/data-missing.csv\")"
      ],
      "metadata": {
        "id": "vHQzDS8YGG3K"
      },
      "id": "vHQzDS8YGG3K",
      "execution_count": 151,
      "outputs": []
    },
    {
      "cell_type": "markdown",
      "source": [
        "Analysieren der Ergebnisse:"
      ],
      "metadata": {
        "id": "cQB46sbRC_pJ"
      },
      "id": "cQB46sbRC_pJ"
    },
    {
      "cell_type": "code",
      "source": [
        "df.shape"
      ],
      "metadata": {
        "id": "4WUyA2ClCVkp",
        "outputId": "f0b2f445-ed11-46ff-e654-454b88872672",
        "colab": {
          "base_uri": "https://localhost:8080/"
        }
      },
      "id": "4WUyA2ClCVkp",
      "execution_count": 78,
      "outputs": [
        {
          "output_type": "execute_result",
          "data": {
            "text/plain": [
              "(68371, 25)"
            ]
          },
          "metadata": {},
          "execution_count": 78
        }
      ]
    },
    {
      "cell_type": "markdown",
      "source": [
        "Es wurden ~21.000 Songs erfragt bei gerade einmal 1153 Kombinationen. Eventuell macht es doch Sinn, das Jahr zu reduzieren. Es werden alle Songs ab dem Jahr 1990 herausgefiltert, da diese nicht in den Charts der 80er existieren konnten."
      ],
      "metadata": {
        "id": "fqxkIg_2DDV5"
      },
      "id": "fqxkIg_2DDV5"
    },
    {
      "cell_type": "code",
      "source": [
        "# Erstellen eines neuen Features \"year\"\n",
        "df[\"year\"] = df[\"release_date\"].apply(lambda x: int(x[:4]))"
      ],
      "metadata": {
        "id": "qiQx5N1vDTIo"
      },
      "id": "qiQx5N1vDTIo",
      "execution_count": 153,
      "outputs": []
    },
    {
      "cell_type": "code",
      "source": [
        "df = df[df.year < 1990]\n",
        "df.shape"
      ],
      "metadata": {
        "id": "i0gKeccbDg7J",
        "outputId": "7630ec11-509d-4dde-d876-4f19cca05bf0",
        "colab": {
          "base_uri": "https://localhost:8080/"
        }
      },
      "id": "i0gKeccbDg7J",
      "execution_count": 154,
      "outputs": [
        {
          "output_type": "execute_result",
          "data": {
            "text/plain": [
              "(1438, 26)"
            ]
          },
          "metadata": {},
          "execution_count": 154
        }
      ]
    },
    {
      "cell_type": "code",
      "source": [
        "df.head()"
      ],
      "metadata": {
        "id": "RMYhGg7gE1Wb",
        "outputId": "3d9bed2a-b1f7-424c-abeb-79c3eee7a790",
        "colab": {
          "base_uri": "https://localhost:8080/",
          "height": 464
        }
      },
      "id": "RMYhGg7gE1Wb",
      "execution_count": 155,
      "outputs": [
        {
          "output_type": "execute_result",
          "data": {
            "text/plain": [
              "    Unnamed: 0                                               name  \\\n",
              "1            1                               19 - Destruction Mix   \n",
              "3            3                                   19 - New Version   \n",
              "5            5                               19 - The Final Story   \n",
              "10          10                       19 - The Final Story Requiem   \n",
              "74          74  Earth from Space / Ground Zero / No Winners / ...   \n",
              "\n",
              "            artists            album release_date release_date_precision  \\\n",
              "1   Paul Hardcastle  Paul Hardcastle   1985-01-01                    day   \n",
              "3   Paul Hardcastle  Paul Hardcastle   1985-01-01                    day   \n",
              "5   Paul Hardcastle  Paul Hardcastle   1985-01-01                    day   \n",
              "10  Paul Hardcastle  Paul Hardcastle   1985-01-01                    day   \n",
              "74  Paul Hardcastle       No Winners   1988-01-01                    day   \n",
              "\n",
              "                spotify_id chart_power                                   uri  \\\n",
              "1   1AzIfmCVW3orhfmdxmCRo1         NaN  spotify:track:1AzIfmCVW3orhfmdxmCRo1   \n",
              "3   6B2Tn5vzAFhJUuBG3N77op         NaN  spotify:track:6B2Tn5vzAFhJUuBG3N77op   \n",
              "5   6vLlYsgxxQCynGiEkcgELZ         NaN  spotify:track:6vLlYsgxxQCynGiEkcgELZ   \n",
              "10  4yEyIFA2DhKbDIOMB0dOBF         NaN  spotify:track:4yEyIFA2DhKbDIOMB0dOBF   \n",
              "74  0XrnWmiSCL5TJtclcfFvwM         NaN  spotify:track:0XrnWmiSCL5TJtclcfFvwM   \n",
              "\n",
              "    popularity  ...  speechiness  acousticness  instrumentalness  liveness  \\\n",
              "1           35  ...       0.0816       0.00296           0.62000    0.0501   \n",
              "3           22  ...       0.0681       0.00615           0.24600    0.4120   \n",
              "5           17  ...       0.0873       0.00133           0.12100    0.2800   \n",
              "10          13  ...       0.0964       0.04680           0.08860    0.4200   \n",
              "74           4  ...       0.0690       0.04760           0.00358    0.3350   \n",
              "\n",
              "    valence    tempo  duration_ms  time_signature          isrc  year  \n",
              "1     0.729  117.859       428667               4  GBAYK8500158  1985  \n",
              "3     0.362  117.901       378240               4  GBAYK0700009  1985  \n",
              "5     0.626  117.971       286933               4  GBAYK0700168  1985  \n",
              "10    0.545  116.874       185560               4  GBAYK0700169  1985  \n",
              "74    0.298  120.022      1889840               4  GBAYK0800041  1988  \n",
              "\n",
              "[5 rows x 26 columns]"
            ],
            "text/html": [
              "\n",
              "  <div id=\"df-08f16de0-e814-4000-a3a1-e48631d54d99\" class=\"colab-df-container\">\n",
              "    <div>\n",
              "<style scoped>\n",
              "    .dataframe tbody tr th:only-of-type {\n",
              "        vertical-align: middle;\n",
              "    }\n",
              "\n",
              "    .dataframe tbody tr th {\n",
              "        vertical-align: top;\n",
              "    }\n",
              "\n",
              "    .dataframe thead th {\n",
              "        text-align: right;\n",
              "    }\n",
              "</style>\n",
              "<table border=\"1\" class=\"dataframe\">\n",
              "  <thead>\n",
              "    <tr style=\"text-align: right;\">\n",
              "      <th></th>\n",
              "      <th>Unnamed: 0</th>\n",
              "      <th>name</th>\n",
              "      <th>artists</th>\n",
              "      <th>album</th>\n",
              "      <th>release_date</th>\n",
              "      <th>release_date_precision</th>\n",
              "      <th>spotify_id</th>\n",
              "      <th>chart_power</th>\n",
              "      <th>uri</th>\n",
              "      <th>popularity</th>\n",
              "      <th>...</th>\n",
              "      <th>speechiness</th>\n",
              "      <th>acousticness</th>\n",
              "      <th>instrumentalness</th>\n",
              "      <th>liveness</th>\n",
              "      <th>valence</th>\n",
              "      <th>tempo</th>\n",
              "      <th>duration_ms</th>\n",
              "      <th>time_signature</th>\n",
              "      <th>isrc</th>\n",
              "      <th>year</th>\n",
              "    </tr>\n",
              "  </thead>\n",
              "  <tbody>\n",
              "    <tr>\n",
              "      <th>1</th>\n",
              "      <td>1</td>\n",
              "      <td>19 - Destruction Mix</td>\n",
              "      <td>Paul Hardcastle</td>\n",
              "      <td>Paul Hardcastle</td>\n",
              "      <td>1985-01-01</td>\n",
              "      <td>day</td>\n",
              "      <td>1AzIfmCVW3orhfmdxmCRo1</td>\n",
              "      <td>NaN</td>\n",
              "      <td>spotify:track:1AzIfmCVW3orhfmdxmCRo1</td>\n",
              "      <td>35</td>\n",
              "      <td>...</td>\n",
              "      <td>0.0816</td>\n",
              "      <td>0.00296</td>\n",
              "      <td>0.62000</td>\n",
              "      <td>0.0501</td>\n",
              "      <td>0.729</td>\n",
              "      <td>117.859</td>\n",
              "      <td>428667</td>\n",
              "      <td>4</td>\n",
              "      <td>GBAYK8500158</td>\n",
              "      <td>1985</td>\n",
              "    </tr>\n",
              "    <tr>\n",
              "      <th>3</th>\n",
              "      <td>3</td>\n",
              "      <td>19 - New Version</td>\n",
              "      <td>Paul Hardcastle</td>\n",
              "      <td>Paul Hardcastle</td>\n",
              "      <td>1985-01-01</td>\n",
              "      <td>day</td>\n",
              "      <td>6B2Tn5vzAFhJUuBG3N77op</td>\n",
              "      <td>NaN</td>\n",
              "      <td>spotify:track:6B2Tn5vzAFhJUuBG3N77op</td>\n",
              "      <td>22</td>\n",
              "      <td>...</td>\n",
              "      <td>0.0681</td>\n",
              "      <td>0.00615</td>\n",
              "      <td>0.24600</td>\n",
              "      <td>0.4120</td>\n",
              "      <td>0.362</td>\n",
              "      <td>117.901</td>\n",
              "      <td>378240</td>\n",
              "      <td>4</td>\n",
              "      <td>GBAYK0700009</td>\n",
              "      <td>1985</td>\n",
              "    </tr>\n",
              "    <tr>\n",
              "      <th>5</th>\n",
              "      <td>5</td>\n",
              "      <td>19 - The Final Story</td>\n",
              "      <td>Paul Hardcastle</td>\n",
              "      <td>Paul Hardcastle</td>\n",
              "      <td>1985-01-01</td>\n",
              "      <td>day</td>\n",
              "      <td>6vLlYsgxxQCynGiEkcgELZ</td>\n",
              "      <td>NaN</td>\n",
              "      <td>spotify:track:6vLlYsgxxQCynGiEkcgELZ</td>\n",
              "      <td>17</td>\n",
              "      <td>...</td>\n",
              "      <td>0.0873</td>\n",
              "      <td>0.00133</td>\n",
              "      <td>0.12100</td>\n",
              "      <td>0.2800</td>\n",
              "      <td>0.626</td>\n",
              "      <td>117.971</td>\n",
              "      <td>286933</td>\n",
              "      <td>4</td>\n",
              "      <td>GBAYK0700168</td>\n",
              "      <td>1985</td>\n",
              "    </tr>\n",
              "    <tr>\n",
              "      <th>10</th>\n",
              "      <td>10</td>\n",
              "      <td>19 - The Final Story Requiem</td>\n",
              "      <td>Paul Hardcastle</td>\n",
              "      <td>Paul Hardcastle</td>\n",
              "      <td>1985-01-01</td>\n",
              "      <td>day</td>\n",
              "      <td>4yEyIFA2DhKbDIOMB0dOBF</td>\n",
              "      <td>NaN</td>\n",
              "      <td>spotify:track:4yEyIFA2DhKbDIOMB0dOBF</td>\n",
              "      <td>13</td>\n",
              "      <td>...</td>\n",
              "      <td>0.0964</td>\n",
              "      <td>0.04680</td>\n",
              "      <td>0.08860</td>\n",
              "      <td>0.4200</td>\n",
              "      <td>0.545</td>\n",
              "      <td>116.874</td>\n",
              "      <td>185560</td>\n",
              "      <td>4</td>\n",
              "      <td>GBAYK0700169</td>\n",
              "      <td>1985</td>\n",
              "    </tr>\n",
              "    <tr>\n",
              "      <th>74</th>\n",
              "      <td>74</td>\n",
              "      <td>Earth from Space / Ground Zero / No Winners / ...</td>\n",
              "      <td>Paul Hardcastle</td>\n",
              "      <td>No Winners</td>\n",
              "      <td>1988-01-01</td>\n",
              "      <td>day</td>\n",
              "      <td>0XrnWmiSCL5TJtclcfFvwM</td>\n",
              "      <td>NaN</td>\n",
              "      <td>spotify:track:0XrnWmiSCL5TJtclcfFvwM</td>\n",
              "      <td>4</td>\n",
              "      <td>...</td>\n",
              "      <td>0.0690</td>\n",
              "      <td>0.04760</td>\n",
              "      <td>0.00358</td>\n",
              "      <td>0.3350</td>\n",
              "      <td>0.298</td>\n",
              "      <td>120.022</td>\n",
              "      <td>1889840</td>\n",
              "      <td>4</td>\n",
              "      <td>GBAYK0800041</td>\n",
              "      <td>1988</td>\n",
              "    </tr>\n",
              "  </tbody>\n",
              "</table>\n",
              "<p>5 rows × 26 columns</p>\n",
              "</div>\n",
              "    <div class=\"colab-df-buttons\">\n",
              "\n",
              "  <div class=\"colab-df-container\">\n",
              "    <button class=\"colab-df-convert\" onclick=\"convertToInteractive('df-08f16de0-e814-4000-a3a1-e48631d54d99')\"\n",
              "            title=\"Convert this dataframe to an interactive table.\"\n",
              "            style=\"display:none;\">\n",
              "\n",
              "  <svg xmlns=\"http://www.w3.org/2000/svg\" height=\"24px\" viewBox=\"0 -960 960 960\">\n",
              "    <path d=\"M120-120v-720h720v720H120Zm60-500h600v-160H180v160Zm220 220h160v-160H400v160Zm0 220h160v-160H400v160ZM180-400h160v-160H180v160Zm440 0h160v-160H620v160ZM180-180h160v-160H180v160Zm440 0h160v-160H620v160Z\"/>\n",
              "  </svg>\n",
              "    </button>\n",
              "\n",
              "  <style>\n",
              "    .colab-df-container {\n",
              "      display:flex;\n",
              "      gap: 12px;\n",
              "    }\n",
              "\n",
              "    .colab-df-convert {\n",
              "      background-color: #E8F0FE;\n",
              "      border: none;\n",
              "      border-radius: 50%;\n",
              "      cursor: pointer;\n",
              "      display: none;\n",
              "      fill: #1967D2;\n",
              "      height: 32px;\n",
              "      padding: 0 0 0 0;\n",
              "      width: 32px;\n",
              "    }\n",
              "\n",
              "    .colab-df-convert:hover {\n",
              "      background-color: #E2EBFA;\n",
              "      box-shadow: 0px 1px 2px rgba(60, 64, 67, 0.3), 0px 1px 3px 1px rgba(60, 64, 67, 0.15);\n",
              "      fill: #174EA6;\n",
              "    }\n",
              "\n",
              "    .colab-df-buttons div {\n",
              "      margin-bottom: 4px;\n",
              "    }\n",
              "\n",
              "    [theme=dark] .colab-df-convert {\n",
              "      background-color: #3B4455;\n",
              "      fill: #D2E3FC;\n",
              "    }\n",
              "\n",
              "    [theme=dark] .colab-df-convert:hover {\n",
              "      background-color: #434B5C;\n",
              "      box-shadow: 0px 1px 3px 1px rgba(0, 0, 0, 0.15);\n",
              "      filter: drop-shadow(0px 1px 2px rgba(0, 0, 0, 0.3));\n",
              "      fill: #FFFFFF;\n",
              "    }\n",
              "  </style>\n",
              "\n",
              "    <script>\n",
              "      const buttonEl =\n",
              "        document.querySelector('#df-08f16de0-e814-4000-a3a1-e48631d54d99 button.colab-df-convert');\n",
              "      buttonEl.style.display =\n",
              "        google.colab.kernel.accessAllowed ? 'block' : 'none';\n",
              "\n",
              "      async function convertToInteractive(key) {\n",
              "        const element = document.querySelector('#df-08f16de0-e814-4000-a3a1-e48631d54d99');\n",
              "        const dataTable =\n",
              "          await google.colab.kernel.invokeFunction('convertToInteractive',\n",
              "                                                    [key], {});\n",
              "        if (!dataTable) return;\n",
              "\n",
              "        const docLinkHtml = 'Like what you see? Visit the ' +\n",
              "          '<a target=\"_blank\" href=https://colab.research.google.com/notebooks/data_table.ipynb>data table notebook</a>'\n",
              "          + ' to learn more about interactive tables.';\n",
              "        element.innerHTML = '';\n",
              "        dataTable['output_type'] = 'display_data';\n",
              "        await google.colab.output.renderOutput(dataTable, element);\n",
              "        const docLink = document.createElement('div');\n",
              "        docLink.innerHTML = docLinkHtml;\n",
              "        element.appendChild(docLink);\n",
              "      }\n",
              "    </script>\n",
              "  </div>\n",
              "\n",
              "\n",
              "<div id=\"df-982f3582-3596-42d4-9d06-d6300e1c82bd\">\n",
              "  <button class=\"colab-df-quickchart\" onclick=\"quickchart('df-982f3582-3596-42d4-9d06-d6300e1c82bd')\"\n",
              "            title=\"Suggest charts.\"\n",
              "            style=\"display:none;\">\n",
              "\n",
              "<svg xmlns=\"http://www.w3.org/2000/svg\" height=\"24px\"viewBox=\"0 0 24 24\"\n",
              "     width=\"24px\">\n",
              "    <g>\n",
              "        <path d=\"M19 3H5c-1.1 0-2 .9-2 2v14c0 1.1.9 2 2 2h14c1.1 0 2-.9 2-2V5c0-1.1-.9-2-2-2zM9 17H7v-7h2v7zm4 0h-2V7h2v10zm4 0h-2v-4h2v4z\"/>\n",
              "    </g>\n",
              "</svg>\n",
              "  </button>\n",
              "\n",
              "<style>\n",
              "  .colab-df-quickchart {\n",
              "      --bg-color: #E8F0FE;\n",
              "      --fill-color: #1967D2;\n",
              "      --hover-bg-color: #E2EBFA;\n",
              "      --hover-fill-color: #174EA6;\n",
              "      --disabled-fill-color: #AAA;\n",
              "      --disabled-bg-color: #DDD;\n",
              "  }\n",
              "\n",
              "  [theme=dark] .colab-df-quickchart {\n",
              "      --bg-color: #3B4455;\n",
              "      --fill-color: #D2E3FC;\n",
              "      --hover-bg-color: #434B5C;\n",
              "      --hover-fill-color: #FFFFFF;\n",
              "      --disabled-bg-color: #3B4455;\n",
              "      --disabled-fill-color: #666;\n",
              "  }\n",
              "\n",
              "  .colab-df-quickchart {\n",
              "    background-color: var(--bg-color);\n",
              "    border: none;\n",
              "    border-radius: 50%;\n",
              "    cursor: pointer;\n",
              "    display: none;\n",
              "    fill: var(--fill-color);\n",
              "    height: 32px;\n",
              "    padding: 0;\n",
              "    width: 32px;\n",
              "  }\n",
              "\n",
              "  .colab-df-quickchart:hover {\n",
              "    background-color: var(--hover-bg-color);\n",
              "    box-shadow: 0 1px 2px rgba(60, 64, 67, 0.3), 0 1px 3px 1px rgba(60, 64, 67, 0.15);\n",
              "    fill: var(--button-hover-fill-color);\n",
              "  }\n",
              "\n",
              "  .colab-df-quickchart-complete:disabled,\n",
              "  .colab-df-quickchart-complete:disabled:hover {\n",
              "    background-color: var(--disabled-bg-color);\n",
              "    fill: var(--disabled-fill-color);\n",
              "    box-shadow: none;\n",
              "  }\n",
              "\n",
              "  .colab-df-spinner {\n",
              "    border: 2px solid var(--fill-color);\n",
              "    border-color: transparent;\n",
              "    border-bottom-color: var(--fill-color);\n",
              "    animation:\n",
              "      spin 1s steps(1) infinite;\n",
              "  }\n",
              "\n",
              "  @keyframes spin {\n",
              "    0% {\n",
              "      border-color: transparent;\n",
              "      border-bottom-color: var(--fill-color);\n",
              "      border-left-color: var(--fill-color);\n",
              "    }\n",
              "    20% {\n",
              "      border-color: transparent;\n",
              "      border-left-color: var(--fill-color);\n",
              "      border-top-color: var(--fill-color);\n",
              "    }\n",
              "    30% {\n",
              "      border-color: transparent;\n",
              "      border-left-color: var(--fill-color);\n",
              "      border-top-color: var(--fill-color);\n",
              "      border-right-color: var(--fill-color);\n",
              "    }\n",
              "    40% {\n",
              "      border-color: transparent;\n",
              "      border-right-color: var(--fill-color);\n",
              "      border-top-color: var(--fill-color);\n",
              "    }\n",
              "    60% {\n",
              "      border-color: transparent;\n",
              "      border-right-color: var(--fill-color);\n",
              "    }\n",
              "    80% {\n",
              "      border-color: transparent;\n",
              "      border-right-color: var(--fill-color);\n",
              "      border-bottom-color: var(--fill-color);\n",
              "    }\n",
              "    90% {\n",
              "      border-color: transparent;\n",
              "      border-bottom-color: var(--fill-color);\n",
              "    }\n",
              "  }\n",
              "</style>\n",
              "\n",
              "  <script>\n",
              "    async function quickchart(key) {\n",
              "      const quickchartButtonEl =\n",
              "        document.querySelector('#' + key + ' button');\n",
              "      quickchartButtonEl.disabled = true;  // To prevent multiple clicks.\n",
              "      quickchartButtonEl.classList.add('colab-df-spinner');\n",
              "      try {\n",
              "        const charts = await google.colab.kernel.invokeFunction(\n",
              "            'suggestCharts', [key], {});\n",
              "      } catch (error) {\n",
              "        console.error('Error during call to suggestCharts:', error);\n",
              "      }\n",
              "      quickchartButtonEl.classList.remove('colab-df-spinner');\n",
              "      quickchartButtonEl.classList.add('colab-df-quickchart-complete');\n",
              "    }\n",
              "    (() => {\n",
              "      let quickchartButtonEl =\n",
              "        document.querySelector('#df-982f3582-3596-42d4-9d06-d6300e1c82bd button');\n",
              "      quickchartButtonEl.style.display =\n",
              "        google.colab.kernel.accessAllowed ? 'block' : 'none';\n",
              "    })();\n",
              "  </script>\n",
              "</div>\n",
              "    </div>\n",
              "  </div>\n"
            ]
          },
          "metadata": {},
          "execution_count": 155
        }
      ]
    },
    {
      "cell_type": "markdown",
      "source": [
        "Dies hat die Anzahl der Songs von 21098 auf 1438 reduziert."
      ],
      "metadata": {
        "id": "X6EHfVwxENxE"
      },
      "id": "X6EHfVwxENxE"
    },
    {
      "cell_type": "code",
      "source": [
        "df = df.applymap(lambda s: s.lower() if type(s) == str else s)\n",
        "df_songs = list(df[\"name\"])\n",
        "df_artists = list(df[\"artists\"])\n",
        "df_songs_artists = list(zip(df_songs, df_artists))"
      ],
      "metadata": {
        "id": "zHu1jDQ6Emyj"
      },
      "id": "zHu1jDQ6Emyj",
      "execution_count": 156,
      "outputs": []
    },
    {
      "cell_type": "code",
      "source": [
        "not_in_df = [[song, artist] for song, artist in chart_songs_artists if (song, artist) not in df_songs_artists]\n",
        "print(f\"Insgesamt sind {len(not_in_df)} von {len(chart_songs_artists)} Songs nicht im DataFrame enthalten\")"
      ],
      "metadata": {
        "id": "du4LCYUbEyla",
        "outputId": "003c5b53-0463-4ca8-f368-7aa4288daf2d",
        "colab": {
          "base_uri": "https://localhost:8080/"
        }
      },
      "id": "du4LCYUbEyla",
      "execution_count": 157,
      "outputs": [
        {
          "output_type": "stream",
          "name": "stdout",
          "text": [
            "Insgesamt sind 1978 von 2027 Songs nicht im DataFrame enthalten\n"
          ]
        }
      ]
    },
    {
      "cell_type": "code",
      "source": [
        "res = sp.search(q=\"Zob Marley\", type=\"track\", market=\"DE\")"
      ],
      "metadata": {
        "id": "HnAttmkHaBnW"
      },
      "id": "HnAttmkHaBnW",
      "execution_count": 217,
      "outputs": []
    },
    {
      "cell_type": "code",
      "source": [
        "res[\"tracks\"][\"items\"]"
      ],
      "metadata": {
        "id": "AczHlNtdaN3A",
        "outputId": "0f62373d-0833-4f07-baf5-4d7c66c946ec",
        "colab": {
          "base_uri": "https://localhost:8080/"
        }
      },
      "id": "AczHlNtdaN3A",
      "execution_count": 219,
      "outputs": [
        {
          "output_type": "execute_result",
          "data": {
            "text/plain": [
              "[{'album': {'album_type': 'album',\n",
              "   'artists': [{'external_urls': {'spotify': 'https://open.spotify.com/artist/0KYZ0U8VUXgIscN7Scodd2'},\n",
              "     'href': 'https://api.spotify.com/v1/artists/0KYZ0U8VUXgIscN7Scodd2',\n",
              "     'id': '0KYZ0U8VUXgIscN7Scodd2',\n",
              "     'name': 'Jah Marley',\n",
              "     'type': 'artist',\n",
              "     'uri': 'spotify:artist:0KYZ0U8VUXgIscN7Scodd2'}],\n",
              "   'external_urls': {'spotify': 'https://open.spotify.com/album/7gLQR5W5eqZYKZRQHRRQTi'},\n",
              "   'href': 'https://api.spotify.com/v1/albums/7gLQR5W5eqZYKZRQHRRQTi',\n",
              "   'id': '7gLQR5W5eqZYKZRQHRRQTi',\n",
              "   'images': [{'height': 640,\n",
              "     'url': 'https://i.scdn.co/image/ab67616d0000b27338a5a4c647dc803c1cc45ff6',\n",
              "     'width': 640},\n",
              "    {'height': 300,\n",
              "     'url': 'https://i.scdn.co/image/ab67616d00001e0238a5a4c647dc803c1cc45ff6',\n",
              "     'width': 300},\n",
              "    {'height': 64,\n",
              "     'url': 'https://i.scdn.co/image/ab67616d0000485138a5a4c647dc803c1cc45ff6',\n",
              "     'width': 64}],\n",
              "   'is_playable': True,\n",
              "   'name': 'Solitaire',\n",
              "   'release_date': '2018-12-01',\n",
              "   'release_date_precision': 'day',\n",
              "   'total_tracks': 10,\n",
              "   'type': 'album',\n",
              "   'uri': 'spotify:album:7gLQR5W5eqZYKZRQHRRQTi'},\n",
              "  'artists': [{'external_urls': {'spotify': 'https://open.spotify.com/artist/0KYZ0U8VUXgIscN7Scodd2'},\n",
              "    'href': 'https://api.spotify.com/v1/artists/0KYZ0U8VUXgIscN7Scodd2',\n",
              "    'id': '0KYZ0U8VUXgIscN7Scodd2',\n",
              "    'name': 'Jah Marley',\n",
              "    'type': 'artist',\n",
              "    'uri': 'spotify:artist:0KYZ0U8VUXgIscN7Scodd2'}],\n",
              "  'disc_number': 1,\n",
              "  'duration_ms': 168176,\n",
              "  'explicit': True,\n",
              "  'external_ids': {'isrc': 'QZES81816251'},\n",
              "  'external_urls': {'spotify': 'https://open.spotify.com/track/53ubk6rnV2Yk6IlXyiUFA2'},\n",
              "  'href': 'https://api.spotify.com/v1/tracks/53ubk6rnV2Yk6IlXyiUFA2',\n",
              "  'id': '53ubk6rnV2Yk6IlXyiUFA2',\n",
              "  'is_local': False,\n",
              "  'is_playable': True,\n",
              "  'name': 'Bolingo Zoba',\n",
              "  'popularity': 0,\n",
              "  'preview_url': 'https://p.scdn.co/mp3-preview/a43561a4a3c6d614134127968790745b0c575cb7?cid=34a31ed56a084e15b0d7079dd3aa77bf',\n",
              "  'track_number': 8,\n",
              "  'type': 'track',\n",
              "  'uri': 'spotify:track:53ubk6rnV2Yk6IlXyiUFA2'},\n",
              " {'album': {'album_type': 'album',\n",
              "   'artists': [{'external_urls': {'spotify': 'https://open.spotify.com/artist/2QsynagSdAqZj3U9HgDzjD'},\n",
              "     'href': 'https://api.spotify.com/v1/artists/2QsynagSdAqZj3U9HgDzjD',\n",
              "     'id': '2QsynagSdAqZj3U9HgDzjD',\n",
              "     'name': 'Bob Marley & The Wailers',\n",
              "     'type': 'artist',\n",
              "     'uri': 'spotify:artist:2QsynagSdAqZj3U9HgDzjD'}],\n",
              "   'external_urls': {'spotify': 'https://open.spotify.com/album/2mBbV0Ad6B4ydHMZlzAY7S'},\n",
              "   'href': 'https://api.spotify.com/v1/albums/2mBbV0Ad6B4ydHMZlzAY7S',\n",
              "   'id': '2mBbV0Ad6B4ydHMZlzAY7S',\n",
              "   'images': [{'height': 640,\n",
              "     'url': 'https://i.scdn.co/image/ab67616d0000b273811bfdc4f55b3a7484524aaf',\n",
              "     'width': 640},\n",
              "    {'height': 300,\n",
              "     'url': 'https://i.scdn.co/image/ab67616d00001e02811bfdc4f55b3a7484524aaf',\n",
              "     'width': 300},\n",
              "    {'height': 64,\n",
              "     'url': 'https://i.scdn.co/image/ab67616d00004851811bfdc4f55b3a7484524aaf',\n",
              "     'width': 64}],\n",
              "   'is_playable': True,\n",
              "   'name': 'Exodus',\n",
              "   'release_date': '1977-06-03',\n",
              "   'release_date_precision': 'day',\n",
              "   'total_tracks': 12,\n",
              "   'type': 'album',\n",
              "   'uri': 'spotify:album:2mBbV0Ad6B4ydHMZlzAY7S'},\n",
              "  'artists': [{'external_urls': {'spotify': 'https://open.spotify.com/artist/2QsynagSdAqZj3U9HgDzjD'},\n",
              "    'href': 'https://api.spotify.com/v1/artists/2QsynagSdAqZj3U9HgDzjD',\n",
              "    'id': '2QsynagSdAqZj3U9HgDzjD',\n",
              "    'name': 'Bob Marley & The Wailers',\n",
              "    'type': 'artist',\n",
              "    'uri': 'spotify:artist:2QsynagSdAqZj3U9HgDzjD'}],\n",
              "  'disc_number': 1,\n",
              "  'duration_ms': 180266,\n",
              "  'explicit': False,\n",
              "  'external_ids': {'isrc': 'USIR27700016'},\n",
              "  'external_urls': {'spotify': 'https://open.spotify.com/track/75FYqcxt1YEAtqDLrOeIJn'},\n",
              "  'href': 'https://api.spotify.com/v1/tracks/75FYqcxt1YEAtqDLrOeIJn',\n",
              "  'id': '75FYqcxt1YEAtqDLrOeIJn',\n",
              "  'is_local': False,\n",
              "  'is_playable': True,\n",
              "  'name': 'Three Little Birds',\n",
              "  'popularity': 81,\n",
              "  'preview_url': None,\n",
              "  'track_number': 9,\n",
              "  'type': 'track',\n",
              "  'uri': 'spotify:track:75FYqcxt1YEAtqDLrOeIJn'},\n",
              " {'album': {'album_type': 'album',\n",
              "   'artists': [{'external_urls': {'spotify': 'https://open.spotify.com/artist/2QsynagSdAqZj3U9HgDzjD'},\n",
              "     'href': 'https://api.spotify.com/v1/artists/2QsynagSdAqZj3U9HgDzjD',\n",
              "     'id': '2QsynagSdAqZj3U9HgDzjD',\n",
              "     'name': 'Bob Marley & The Wailers',\n",
              "     'type': 'artist',\n",
              "     'uri': 'spotify:artist:2QsynagSdAqZj3U9HgDzjD'}],\n",
              "   'external_urls': {'spotify': 'https://open.spotify.com/album/09Df7mUZBQwbDYgvE0t30r'},\n",
              "   'href': 'https://api.spotify.com/v1/albums/09Df7mUZBQwbDYgvE0t30r',\n",
              "   'id': '09Df7mUZBQwbDYgvE0t30r',\n",
              "   'images': [{'height': 640,\n",
              "     'url': 'https://i.scdn.co/image/ab67616d0000b2735c15cf8bfc892d27aecf2f6d',\n",
              "     'width': 640},\n",
              "    {'height': 300,\n",
              "     'url': 'https://i.scdn.co/image/ab67616d00001e025c15cf8bfc892d27aecf2f6d',\n",
              "     'width': 300},\n",
              "    {'height': 64,\n",
              "     'url': 'https://i.scdn.co/image/ab67616d000048515c15cf8bfc892d27aecf2f6d',\n",
              "     'width': 64}],\n",
              "   'is_playable': True,\n",
              "   'name': 'Survival',\n",
              "   'release_date': '1979',\n",
              "   'release_date_precision': 'year',\n",
              "   'total_tracks': 11,\n",
              "   'type': 'album',\n",
              "   'uri': 'spotify:album:09Df7mUZBQwbDYgvE0t30r'},\n",
              "  'artists': [{'external_urls': {'spotify': 'https://open.spotify.com/artist/2QsynagSdAqZj3U9HgDzjD'},\n",
              "    'href': 'https://api.spotify.com/v1/artists/2QsynagSdAqZj3U9HgDzjD',\n",
              "    'id': '2QsynagSdAqZj3U9HgDzjD',\n",
              "    'name': 'Bob Marley & The Wailers',\n",
              "    'type': 'artist',\n",
              "    'uri': 'spotify:artist:2QsynagSdAqZj3U9HgDzjD'}],\n",
              "  'disc_number': 1,\n",
              "  'duration_ms': 231266,\n",
              "  'explicit': False,\n",
              "  'external_ids': {'isrc': 'USIR27900002'},\n",
              "  'external_urls': {'spotify': 'https://open.spotify.com/track/5ApfJDLibIoWL0mRZ5uOKu'},\n",
              "  'href': 'https://api.spotify.com/v1/tracks/5ApfJDLibIoWL0mRZ5uOKu',\n",
              "  'id': '5ApfJDLibIoWL0mRZ5uOKu',\n",
              "  'is_local': False,\n",
              "  'is_playable': True,\n",
              "  'name': 'Zimbabwe',\n",
              "  'popularity': 62,\n",
              "  'preview_url': None,\n",
              "  'track_number': 2,\n",
              "  'type': 'track',\n",
              "  'uri': 'spotify:track:5ApfJDLibIoWL0mRZ5uOKu'},\n",
              " {'album': {'album_type': 'album',\n",
              "   'artists': [{'external_urls': {'spotify': 'https://open.spotify.com/artist/2QsynagSdAqZj3U9HgDzjD'},\n",
              "     'href': 'https://api.spotify.com/v1/artists/2QsynagSdAqZj3U9HgDzjD',\n",
              "     'id': '2QsynagSdAqZj3U9HgDzjD',\n",
              "     'name': 'Bob Marley & The Wailers',\n",
              "     'type': 'artist',\n",
              "     'uri': 'spotify:artist:2QsynagSdAqZj3U9HgDzjD'}],\n",
              "   'external_urls': {'spotify': 'https://open.spotify.com/album/5Rg4ZSwf1LPCuAMr0msdun'},\n",
              "   'href': 'https://api.spotify.com/v1/albums/5Rg4ZSwf1LPCuAMr0msdun',\n",
              "   'id': '5Rg4ZSwf1LPCuAMr0msdun',\n",
              "   'images': [{'height': 640,\n",
              "     'url': 'https://i.scdn.co/image/ab67616d0000b2737e0b5fe0454234229e52a491',\n",
              "     'width': 640},\n",
              "    {'height': 300,\n",
              "     'url': 'https://i.scdn.co/image/ab67616d00001e027e0b5fe0454234229e52a491',\n",
              "     'width': 300},\n",
              "    {'height': 64,\n",
              "     'url': 'https://i.scdn.co/image/ab67616d000048517e0b5fe0454234229e52a491',\n",
              "     'width': 64}],\n",
              "   'is_playable': True,\n",
              "   'name': 'Confrontation',\n",
              "   'release_date': '1983',\n",
              "   'release_date_precision': 'year',\n",
              "   'total_tracks': 11,\n",
              "   'type': 'album',\n",
              "   'uri': 'spotify:album:5Rg4ZSwf1LPCuAMr0msdun'},\n",
              "  'artists': [{'external_urls': {'spotify': 'https://open.spotify.com/artist/2QsynagSdAqZj3U9HgDzjD'},\n",
              "    'href': 'https://api.spotify.com/v1/artists/2QsynagSdAqZj3U9HgDzjD',\n",
              "    'id': '2QsynagSdAqZj3U9HgDzjD',\n",
              "    'name': 'Bob Marley & The Wailers',\n",
              "    'type': 'artist',\n",
              "    'uri': 'spotify:artist:2QsynagSdAqZj3U9HgDzjD'}],\n",
              "  'disc_number': 1,\n",
              "  'duration_ms': 255840,\n",
              "  'explicit': False,\n",
              "  'external_ids': {'isrc': 'USIR28300004'},\n",
              "  'external_urls': {'spotify': 'https://open.spotify.com/track/7BfW1eoDh27W69nxsmRicb'},\n",
              "  'href': 'https://api.spotify.com/v1/tracks/7BfW1eoDh27W69nxsmRicb',\n",
              "  'id': '7BfW1eoDh27W69nxsmRicb',\n",
              "  'is_local': False,\n",
              "  'is_playable': True,\n",
              "  'name': 'Buffalo Soldier',\n",
              "  'popularity': 75,\n",
              "  'preview_url': None,\n",
              "  'track_number': 2,\n",
              "  'type': 'track',\n",
              "  'uri': 'spotify:track:7BfW1eoDh27W69nxsmRicb'},\n",
              " {'album': {'album_type': 'single',\n",
              "   'artists': [{'external_urls': {'spotify': 'https://open.spotify.com/artist/1aS5tqEs9ci5P9KD9tZWa6'},\n",
              "     'href': 'https://api.spotify.com/v1/artists/1aS5tqEs9ci5P9KD9tZWa6',\n",
              "     'id': '1aS5tqEs9ci5P9KD9tZWa6',\n",
              "     'name': 'Bonez MC',\n",
              "     'type': 'artist',\n",
              "     'uri': 'spotify:artist:1aS5tqEs9ci5P9KD9tZWa6'},\n",
              "    {'external_urls': {'spotify': 'https://open.spotify.com/artist/10XY9PZCJKzUFzZOdtlQLU'},\n",
              "     'href': 'https://api.spotify.com/v1/artists/10XY9PZCJKzUFzZOdtlQLU',\n",
              "     'id': '10XY9PZCJKzUFzZOdtlQLU',\n",
              "     'name': 'LX',\n",
              "     'type': 'artist',\n",
              "     'uri': 'spotify:artist:10XY9PZCJKzUFzZOdtlQLU'},\n",
              "    {'external_urls': {'spotify': 'https://open.spotify.com/artist/3pVfscwg2QxhdHtk966inb'},\n",
              "     'href': 'https://api.spotify.com/v1/artists/3pVfscwg2QxhdHtk966inb',\n",
              "     'id': '3pVfscwg2QxhdHtk966inb',\n",
              "     'name': 'The Cratez',\n",
              "     'type': 'artist',\n",
              "     'uri': 'spotify:artist:3pVfscwg2QxhdHtk966inb'}],\n",
              "   'external_urls': {'spotify': 'https://open.spotify.com/album/09q0w33i2FY6ml27UDVHTb'},\n",
              "   'href': 'https://api.spotify.com/v1/albums/09q0w33i2FY6ml27UDVHTb',\n",
              "   'id': '09q0w33i2FY6ml27UDVHTb',\n",
              "   'images': [{'height': 640,\n",
              "     'url': 'https://i.scdn.co/image/ab67616d0000b27330c79b5a83ccb5171ef939f1',\n",
              "     'width': 640},\n",
              "    {'height': 300,\n",
              "     'url': 'https://i.scdn.co/image/ab67616d00001e0230c79b5a83ccb5171ef939f1',\n",
              "     'width': 300},\n",
              "    {'height': 64,\n",
              "     'url': 'https://i.scdn.co/image/ab67616d0000485130c79b5a83ccb5171ef939f1',\n",
              "     'width': 64}],\n",
              "   'is_playable': True,\n",
              "   'name': 'Bob Marley',\n",
              "   'release_date': '2022-04-29',\n",
              "   'release_date_precision': 'day',\n",
              "   'total_tracks': 1,\n",
              "   'type': 'album',\n",
              "   'uri': 'spotify:album:09q0w33i2FY6ml27UDVHTb'},\n",
              "  'artists': [{'external_urls': {'spotify': 'https://open.spotify.com/artist/1aS5tqEs9ci5P9KD9tZWa6'},\n",
              "    'href': 'https://api.spotify.com/v1/artists/1aS5tqEs9ci5P9KD9tZWa6',\n",
              "    'id': '1aS5tqEs9ci5P9KD9tZWa6',\n",
              "    'name': 'Bonez MC',\n",
              "    'type': 'artist',\n",
              "    'uri': 'spotify:artist:1aS5tqEs9ci5P9KD9tZWa6'},\n",
              "   {'external_urls': {'spotify': 'https://open.spotify.com/artist/10XY9PZCJKzUFzZOdtlQLU'},\n",
              "    'href': 'https://api.spotify.com/v1/artists/10XY9PZCJKzUFzZOdtlQLU',\n",
              "    'id': '10XY9PZCJKzUFzZOdtlQLU',\n",
              "    'name': 'LX',\n",
              "    'type': 'artist',\n",
              "    'uri': 'spotify:artist:10XY9PZCJKzUFzZOdtlQLU'},\n",
              "   {'external_urls': {'spotify': 'https://open.spotify.com/artist/3pVfscwg2QxhdHtk966inb'},\n",
              "    'href': 'https://api.spotify.com/v1/artists/3pVfscwg2QxhdHtk966inb',\n",
              "    'id': '3pVfscwg2QxhdHtk966inb',\n",
              "    'name': 'The Cratez',\n",
              "    'type': 'artist',\n",
              "    'uri': 'spotify:artist:3pVfscwg2QxhdHtk966inb'}],\n",
              "  'disc_number': 1,\n",
              "  'duration_ms': 190843,\n",
              "  'explicit': False,\n",
              "  'external_ids': {'isrc': 'DEYA12200005'},\n",
              "  'external_urls': {'spotify': 'https://open.spotify.com/track/5CJqhXiUiK2rVowtbeLjyd'},\n",
              "  'href': 'https://api.spotify.com/v1/tracks/5CJqhXiUiK2rVowtbeLjyd',\n",
              "  'id': '5CJqhXiUiK2rVowtbeLjyd',\n",
              "  'is_local': False,\n",
              "  'is_playable': True,\n",
              "  'name': 'Bob Marley',\n",
              "  'popularity': 54,\n",
              "  'preview_url': 'https://p.scdn.co/mp3-preview/87e1a6a676c363575d86801c06ba5c0a484fe924?cid=34a31ed56a084e15b0d7079dd3aa77bf',\n",
              "  'track_number': 1,\n",
              "  'type': 'track',\n",
              "  'uri': 'spotify:track:5CJqhXiUiK2rVowtbeLjyd'},\n",
              " {'album': {'album_type': 'album',\n",
              "   'artists': [{'external_urls': {'spotify': 'https://open.spotify.com/artist/2QsynagSdAqZj3U9HgDzjD'},\n",
              "     'href': 'https://api.spotify.com/v1/artists/2QsynagSdAqZj3U9HgDzjD',\n",
              "     'id': '2QsynagSdAqZj3U9HgDzjD',\n",
              "     'name': 'Bob Marley & The Wailers',\n",
              "     'type': 'artist',\n",
              "     'uri': 'spotify:artist:2QsynagSdAqZj3U9HgDzjD'}],\n",
              "   'external_urls': {'spotify': 'https://open.spotify.com/album/5mvQHYARofQRsOE2cqBzik'},\n",
              "   'href': 'https://api.spotify.com/v1/albums/5mvQHYARofQRsOE2cqBzik',\n",
              "   'id': '5mvQHYARofQRsOE2cqBzik',\n",
              "   'images': [{'height': 640,\n",
              "     'url': 'https://i.scdn.co/image/ab67616d0000b2739c7b208c7c3ecdb325613d34',\n",
              "     'width': 640},\n",
              "    {'height': 300,\n",
              "     'url': 'https://i.scdn.co/image/ab67616d00001e029c7b208c7c3ecdb325613d34',\n",
              "     'width': 300},\n",
              "    {'height': 64,\n",
              "     'url': 'https://i.scdn.co/image/ab67616d000048519c7b208c7c3ecdb325613d34',\n",
              "     'width': 64}],\n",
              "   'is_playable': True,\n",
              "   'name': 'Live!',\n",
              "   'release_date': '1975-01-01',\n",
              "   'release_date_precision': 'day',\n",
              "   'total_tracks': 8,\n",
              "   'type': 'album',\n",
              "   'uri': 'spotify:album:5mvQHYARofQRsOE2cqBzik'},\n",
              "  'artists': [{'external_urls': {'spotify': 'https://open.spotify.com/artist/2QsynagSdAqZj3U9HgDzjD'},\n",
              "    'href': 'https://api.spotify.com/v1/artists/2QsynagSdAqZj3U9HgDzjD',\n",
              "    'id': '2QsynagSdAqZj3U9HgDzjD',\n",
              "    'name': 'Bob Marley & The Wailers',\n",
              "    'type': 'artist',\n",
              "    'uri': 'spotify:artist:2QsynagSdAqZj3U9HgDzjD'}],\n",
              "  'disc_number': 1,\n",
              "  'duration_ms': 427800,\n",
              "  'explicit': False,\n",
              "  'external_ids': {'isrc': 'USIR17590002'},\n",
              "  'external_urls': {'spotify': 'https://open.spotify.com/track/423hwXFgoN8RYmqLoLuVvY'},\n",
              "  'href': 'https://api.spotify.com/v1/tracks/423hwXFgoN8RYmqLoLuVvY',\n",
              "  'id': '423hwXFgoN8RYmqLoLuVvY',\n",
              "  'is_local': False,\n",
              "  'is_playable': True,\n",
              "  'name': 'No Woman, No Cry - Live At The Lyceum, London/1975',\n",
              "  'popularity': 68,\n",
              "  'preview_url': None,\n",
              "  'track_number': 5,\n",
              "  'type': 'track',\n",
              "  'uri': 'spotify:track:423hwXFgoN8RYmqLoLuVvY'},\n",
              " {'album': {'album_type': 'album',\n",
              "   'artists': [{'external_urls': {'spotify': 'https://open.spotify.com/artist/2QsynagSdAqZj3U9HgDzjD'},\n",
              "     'href': 'https://api.spotify.com/v1/artists/2QsynagSdAqZj3U9HgDzjD',\n",
              "     'id': '2QsynagSdAqZj3U9HgDzjD',\n",
              "     'name': 'Bob Marley & The Wailers',\n",
              "     'type': 'artist',\n",
              "     'uri': 'spotify:artist:2QsynagSdAqZj3U9HgDzjD'}],\n",
              "   'external_urls': {'spotify': 'https://open.spotify.com/album/2mBbV0Ad6B4ydHMZlzAY7S'},\n",
              "   'href': 'https://api.spotify.com/v1/albums/2mBbV0Ad6B4ydHMZlzAY7S',\n",
              "   'id': '2mBbV0Ad6B4ydHMZlzAY7S',\n",
              "   'images': [{'height': 640,\n",
              "     'url': 'https://i.scdn.co/image/ab67616d0000b273811bfdc4f55b3a7484524aaf',\n",
              "     'width': 640},\n",
              "    {'height': 300,\n",
              "     'url': 'https://i.scdn.co/image/ab67616d00001e02811bfdc4f55b3a7484524aaf',\n",
              "     'width': 300},\n",
              "    {'height': 64,\n",
              "     'url': 'https://i.scdn.co/image/ab67616d00004851811bfdc4f55b3a7484524aaf',\n",
              "     'width': 64}],\n",
              "   'is_playable': True,\n",
              "   'name': 'Exodus',\n",
              "   'release_date': '1977-06-03',\n",
              "   'release_date_precision': 'day',\n",
              "   'total_tracks': 12,\n",
              "   'type': 'album',\n",
              "   'uri': 'spotify:album:2mBbV0Ad6B4ydHMZlzAY7S'},\n",
              "  'artists': [{'external_urls': {'spotify': 'https://open.spotify.com/artist/2QsynagSdAqZj3U9HgDzjD'},\n",
              "    'href': 'https://api.spotify.com/v1/artists/2QsynagSdAqZj3U9HgDzjD',\n",
              "    'id': '2QsynagSdAqZj3U9HgDzjD',\n",
              "    'name': 'Bob Marley & The Wailers',\n",
              "    'type': 'artist',\n",
              "    'uri': 'spotify:artist:2QsynagSdAqZj3U9HgDzjD'}],\n",
              "  'disc_number': 1,\n",
              "  'duration_ms': 207733,\n",
              "  'explicit': False,\n",
              "  'external_ids': {'isrc': 'USIR27700008'},\n",
              "  'external_urls': {'spotify': 'https://open.spotify.com/track/64xslN8DB3jG1tK2l3H1mA'},\n",
              "  'href': 'https://api.spotify.com/v1/tracks/64xslN8DB3jG1tK2l3H1mA',\n",
              "  'id': '64xslN8DB3jG1tK2l3H1mA',\n",
              "  'is_local': False,\n",
              "  'is_playable': True,\n",
              "  'name': 'Natural Mystic',\n",
              "  'popularity': 71,\n",
              "  'preview_url': None,\n",
              "  'track_number': 1,\n",
              "  'type': 'track',\n",
              "  'uri': 'spotify:track:64xslN8DB3jG1tK2l3H1mA'},\n",
              " {'album': {'album_type': 'single',\n",
              "   'artists': [{'external_urls': {'spotify': 'https://open.spotify.com/artist/2QsynagSdAqZj3U9HgDzjD'},\n",
              "     'href': 'https://api.spotify.com/v1/artists/2QsynagSdAqZj3U9HgDzjD',\n",
              "     'id': '2QsynagSdAqZj3U9HgDzjD',\n",
              "     'name': 'Bob Marley & The Wailers',\n",
              "     'type': 'artist',\n",
              "     'uri': 'spotify:artist:2QsynagSdAqZj3U9HgDzjD'}],\n",
              "   'external_urls': {'spotify': 'https://open.spotify.com/album/06O9GpgtDESYZkUfhKpFcK'},\n",
              "   'href': 'https://api.spotify.com/v1/albums/06O9GpgtDESYZkUfhKpFcK',\n",
              "   'id': '06O9GpgtDESYZkUfhKpFcK',\n",
              "   'images': [{'height': 640,\n",
              "     'url': 'https://i.scdn.co/image/ab67616d0000b273bdf398f3ba2e560941165d33',\n",
              "     'width': 640},\n",
              "    {'height': 300,\n",
              "     'url': 'https://i.scdn.co/image/ab67616d00001e02bdf398f3ba2e560941165d33',\n",
              "     'width': 300},\n",
              "    {'height': 64,\n",
              "     'url': 'https://i.scdn.co/image/ab67616d00004851bdf398f3ba2e560941165d33',\n",
              "     'width': 64}],\n",
              "   'is_playable': True,\n",
              "   'name': 'Iron Lion Zion',\n",
              "   'release_date': '2020-02-28',\n",
              "   'release_date_precision': 'day',\n",
              "   'total_tracks': 6,\n",
              "   'type': 'album',\n",
              "   'uri': 'spotify:album:06O9GpgtDESYZkUfhKpFcK'},\n",
              "  'artists': [{'external_urls': {'spotify': 'https://open.spotify.com/artist/2QsynagSdAqZj3U9HgDzjD'},\n",
              "    'href': 'https://api.spotify.com/v1/artists/2QsynagSdAqZj3U9HgDzjD',\n",
              "    'id': '2QsynagSdAqZj3U9HgDzjD',\n",
              "    'name': 'Bob Marley & The Wailers',\n",
              "    'type': 'artist',\n",
              "    'uri': 'spotify:artist:2QsynagSdAqZj3U9HgDzjD'}],\n",
              "  'disc_number': 1,\n",
              "  'duration_ms': 202432,\n",
              "  'explicit': False,\n",
              "  'external_ids': {'isrc': 'GBUM70500456'},\n",
              "  'external_urls': {'spotify': 'https://open.spotify.com/track/5iRPNyWioH9Km8gi58As4V'},\n",
              "  'href': 'https://api.spotify.com/v1/tracks/5iRPNyWioH9Km8gi58As4V',\n",
              "  'id': '5iRPNyWioH9Km8gi58As4V',\n",
              "  'is_local': False,\n",
              "  'is_playable': True,\n",
              "  'name': 'Iron Lion Zion - 7\" Mix',\n",
              "  'popularity': 65,\n",
              "  'preview_url': None,\n",
              "  'track_number': 1,\n",
              "  'type': 'track',\n",
              "  'uri': 'spotify:track:5iRPNyWioH9Km8gi58As4V'},\n",
              " {'album': {'album_type': 'album',\n",
              "   'artists': [{'external_urls': {'spotify': 'https://open.spotify.com/artist/2QsynagSdAqZj3U9HgDzjD'},\n",
              "     'href': 'https://api.spotify.com/v1/artists/2QsynagSdAqZj3U9HgDzjD',\n",
              "     'id': '2QsynagSdAqZj3U9HgDzjD',\n",
              "     'name': 'Bob Marley & The Wailers',\n",
              "     'type': 'artist',\n",
              "     'uri': 'spotify:artist:2QsynagSdAqZj3U9HgDzjD'}],\n",
              "   'external_urls': {'spotify': 'https://open.spotify.com/album/1lBmb7nfOeFqTDN6gQLFMx'},\n",
              "   'href': 'https://api.spotify.com/v1/albums/1lBmb7nfOeFqTDN6gQLFMx',\n",
              "   'id': '1lBmb7nfOeFqTDN6gQLFMx',\n",
              "   'images': [{'height': 640,\n",
              "     'url': 'https://i.scdn.co/image/ab67616d0000b2733e511ed894fc394063b34649',\n",
              "     'width': 640},\n",
              "    {'height': 300,\n",
              "     'url': 'https://i.scdn.co/image/ab67616d00001e023e511ed894fc394063b34649',\n",
              "     'width': 300},\n",
              "    {'height': 64,\n",
              "     'url': 'https://i.scdn.co/image/ab67616d000048513e511ed894fc394063b34649',\n",
              "     'width': 64}],\n",
              "   'is_playable': True,\n",
              "   'name': 'Marley (The Original Soundtrack)',\n",
              "   'release_date': '2012-04-17',\n",
              "   'release_date_precision': 'day',\n",
              "   'total_tracks': 24,\n",
              "   'type': 'album',\n",
              "   'uri': 'spotify:album:1lBmb7nfOeFqTDN6gQLFMx'},\n",
              "  'artists': [{'external_urls': {'spotify': 'https://open.spotify.com/artist/2QsynagSdAqZj3U9HgDzjD'},\n",
              "    'href': 'https://api.spotify.com/v1/artists/2QsynagSdAqZj3U9HgDzjD',\n",
              "    'id': '2QsynagSdAqZj3U9HgDzjD',\n",
              "    'name': 'Bob Marley & The Wailers',\n",
              "    'type': 'artist',\n",
              "    'uri': 'spotify:artist:2QsynagSdAqZj3U9HgDzjD'}],\n",
              "  'disc_number': 1,\n",
              "  'duration_ms': 197840,\n",
              "  'explicit': False,\n",
              "  'external_ids': {'isrc': 'GBAAN7390001'},\n",
              "  'external_urls': {'spotify': 'https://open.spotify.com/track/4hLATN2VtjiJ6jLm6V47x1'},\n",
              "  'href': 'https://api.spotify.com/v1/tracks/4hLATN2VtjiJ6jLm6V47x1',\n",
              "  'id': '4hLATN2VtjiJ6jLm6V47x1',\n",
              "  'is_local': False,\n",
              "  'is_playable': True,\n",
              "  'name': 'Get Up, Stand Up',\n",
              "  'popularity': 63,\n",
              "  'preview_url': None,\n",
              "  'track_number': 11,\n",
              "  'type': 'track',\n",
              "  'uri': 'spotify:track:4hLATN2VtjiJ6jLm6V47x1'},\n",
              " {'album': {'album_type': 'single',\n",
              "   'artists': [{'external_urls': {'spotify': 'https://open.spotify.com/artist/2QsynagSdAqZj3U9HgDzjD'},\n",
              "     'href': 'https://api.spotify.com/v1/artists/2QsynagSdAqZj3U9HgDzjD',\n",
              "     'id': '2QsynagSdAqZj3U9HgDzjD',\n",
              "     'name': 'Bob Marley & The Wailers',\n",
              "     'type': 'artist',\n",
              "     'uri': 'spotify:artist:2QsynagSdAqZj3U9HgDzjD'},\n",
              "    {'external_urls': {'spotify': 'https://open.spotify.com/artist/3t5xRXzsuZmMDkQzgOX35S'},\n",
              "     'href': 'https://api.spotify.com/v1/artists/3t5xRXzsuZmMDkQzgOX35S',\n",
              "     'id': '3t5xRXzsuZmMDkQzgOX35S',\n",
              "     'name': 'Robin Schulz',\n",
              "     'type': 'artist',\n",
              "     'uri': 'spotify:artist:3t5xRXzsuZmMDkQzgOX35S'}],\n",
              "   'external_urls': {'spotify': 'https://open.spotify.com/album/0W5Q4QB5XqFJZbd2ZhCfWK'},\n",
              "   'href': 'https://api.spotify.com/v1/albums/0W5Q4QB5XqFJZbd2ZhCfWK',\n",
              "   'id': '0W5Q4QB5XqFJZbd2ZhCfWK',\n",
              "   'images': [{'height': 640,\n",
              "     'url': 'https://i.scdn.co/image/ab67616d0000b27335aea850bbc71665a14e3e4e',\n",
              "     'width': 640},\n",
              "    {'height': 300,\n",
              "     'url': 'https://i.scdn.co/image/ab67616d00001e0235aea850bbc71665a14e3e4e',\n",
              "     'width': 300},\n",
              "    {'height': 64,\n",
              "     'url': 'https://i.scdn.co/image/ab67616d0000485135aea850bbc71665a14e3e4e',\n",
              "     'width': 64}],\n",
              "   'is_playable': True,\n",
              "   'name': 'Sun Is Shining',\n",
              "   'release_date': '2020-07-17',\n",
              "   'release_date_precision': 'day',\n",
              "   'total_tracks': 1,\n",
              "   'type': 'album',\n",
              "   'uri': 'spotify:album:0W5Q4QB5XqFJZbd2ZhCfWK'},\n",
              "  'artists': [{'external_urls': {'spotify': 'https://open.spotify.com/artist/2QsynagSdAqZj3U9HgDzjD'},\n",
              "    'href': 'https://api.spotify.com/v1/artists/2QsynagSdAqZj3U9HgDzjD',\n",
              "    'id': '2QsynagSdAqZj3U9HgDzjD',\n",
              "    'name': 'Bob Marley & The Wailers',\n",
              "    'type': 'artist',\n",
              "    'uri': 'spotify:artist:2QsynagSdAqZj3U9HgDzjD'},\n",
              "   {'external_urls': {'spotify': 'https://open.spotify.com/artist/3t5xRXzsuZmMDkQzgOX35S'},\n",
              "    'href': 'https://api.spotify.com/v1/artists/3t5xRXzsuZmMDkQzgOX35S',\n",
              "    'id': '3t5xRXzsuZmMDkQzgOX35S',\n",
              "    'name': 'Robin Schulz',\n",
              "    'type': 'artist',\n",
              "    'uri': 'spotify:artist:3t5xRXzsuZmMDkQzgOX35S'}],\n",
              "  'disc_number': 1,\n",
              "  'duration_ms': 185000,\n",
              "  'explicit': False,\n",
              "  'external_ids': {'isrc': 'USUM72013315'},\n",
              "  'external_urls': {'spotify': 'https://open.spotify.com/track/48xPlyqrp76RSwJirihTHo'},\n",
              "  'href': 'https://api.spotify.com/v1/tracks/48xPlyqrp76RSwJirihTHo',\n",
              "  'id': '48xPlyqrp76RSwJirihTHo',\n",
              "  'is_local': False,\n",
              "  'is_playable': True,\n",
              "  'name': 'Sun Is Shining',\n",
              "  'popularity': 54,\n",
              "  'preview_url': None,\n",
              "  'track_number': 1,\n",
              "  'type': 'track',\n",
              "  'uri': 'spotify:track:48xPlyqrp76RSwJirihTHo'}]"
            ]
          },
          "metadata": {},
          "execution_count": 219
        }
      ]
    },
    {
      "cell_type": "code",
      "source": [
        "df.head()"
      ],
      "metadata": {
        "id": "lOyuSQIHEooy",
        "outputId": "7e8727d3-ea4b-4e45-dffe-366aeba35bbb",
        "colab": {
          "base_uri": "https://localhost:8080/",
          "height": 464
        }
      },
      "id": "lOyuSQIHEooy",
      "execution_count": 158,
      "outputs": [
        {
          "output_type": "execute_result",
          "data": {
            "text/plain": [
              "    Unnamed: 0                                               name  \\\n",
              "1            1                               19 - destruction mix   \n",
              "3            3                                   19 - new version   \n",
              "5            5                               19 - the final story   \n",
              "10          10                       19 - the final story requiem   \n",
              "74          74  earth from space / ground zero / no winners / ...   \n",
              "\n",
              "            artists            album release_date release_date_precision  \\\n",
              "1   paul hardcastle  paul hardcastle   1985-01-01                    day   \n",
              "3   paul hardcastle  paul hardcastle   1985-01-01                    day   \n",
              "5   paul hardcastle  paul hardcastle   1985-01-01                    day   \n",
              "10  paul hardcastle  paul hardcastle   1985-01-01                    day   \n",
              "74  paul hardcastle       no winners   1988-01-01                    day   \n",
              "\n",
              "                spotify_id chart_power                                   uri  \\\n",
              "1   1azifmcvw3orhfmdxmcro1         NaN  spotify:track:1azifmcvw3orhfmdxmcro1   \n",
              "3   6b2tn5vzafhjuubg3n77op         NaN  spotify:track:6b2tn5vzafhjuubg3n77op   \n",
              "5   6vllysgxxqcyngiekcgelz         NaN  spotify:track:6vllysgxxqcyngiekcgelz   \n",
              "10  4yeyifa2dhkbdiomb0dobf         NaN  spotify:track:4yeyifa2dhkbdiomb0dobf   \n",
              "74  0xrnwmiscl5tjtclcffvwm         NaN  spotify:track:0xrnwmiscl5tjtclcffvwm   \n",
              "\n",
              "    popularity  ...  speechiness  acousticness  instrumentalness  liveness  \\\n",
              "1           35  ...       0.0816       0.00296           0.62000    0.0501   \n",
              "3           22  ...       0.0681       0.00615           0.24600    0.4120   \n",
              "5           17  ...       0.0873       0.00133           0.12100    0.2800   \n",
              "10          13  ...       0.0964       0.04680           0.08860    0.4200   \n",
              "74           4  ...       0.0690       0.04760           0.00358    0.3350   \n",
              "\n",
              "    valence    tempo  duration_ms  time_signature          isrc  year  \n",
              "1     0.729  117.859       428667               4  gbayk8500158  1985  \n",
              "3     0.362  117.901       378240               4  gbayk0700009  1985  \n",
              "5     0.626  117.971       286933               4  gbayk0700168  1985  \n",
              "10    0.545  116.874       185560               4  gbayk0700169  1985  \n",
              "74    0.298  120.022      1889840               4  gbayk0800041  1988  \n",
              "\n",
              "[5 rows x 26 columns]"
            ],
            "text/html": [
              "\n",
              "  <div id=\"df-01c4d1fc-aa56-4d7d-95cd-f7fb19114cdc\" class=\"colab-df-container\">\n",
              "    <div>\n",
              "<style scoped>\n",
              "    .dataframe tbody tr th:only-of-type {\n",
              "        vertical-align: middle;\n",
              "    }\n",
              "\n",
              "    .dataframe tbody tr th {\n",
              "        vertical-align: top;\n",
              "    }\n",
              "\n",
              "    .dataframe thead th {\n",
              "        text-align: right;\n",
              "    }\n",
              "</style>\n",
              "<table border=\"1\" class=\"dataframe\">\n",
              "  <thead>\n",
              "    <tr style=\"text-align: right;\">\n",
              "      <th></th>\n",
              "      <th>Unnamed: 0</th>\n",
              "      <th>name</th>\n",
              "      <th>artists</th>\n",
              "      <th>album</th>\n",
              "      <th>release_date</th>\n",
              "      <th>release_date_precision</th>\n",
              "      <th>spotify_id</th>\n",
              "      <th>chart_power</th>\n",
              "      <th>uri</th>\n",
              "      <th>popularity</th>\n",
              "      <th>...</th>\n",
              "      <th>speechiness</th>\n",
              "      <th>acousticness</th>\n",
              "      <th>instrumentalness</th>\n",
              "      <th>liveness</th>\n",
              "      <th>valence</th>\n",
              "      <th>tempo</th>\n",
              "      <th>duration_ms</th>\n",
              "      <th>time_signature</th>\n",
              "      <th>isrc</th>\n",
              "      <th>year</th>\n",
              "    </tr>\n",
              "  </thead>\n",
              "  <tbody>\n",
              "    <tr>\n",
              "      <th>1</th>\n",
              "      <td>1</td>\n",
              "      <td>19 - destruction mix</td>\n",
              "      <td>paul hardcastle</td>\n",
              "      <td>paul hardcastle</td>\n",
              "      <td>1985-01-01</td>\n",
              "      <td>day</td>\n",
              "      <td>1azifmcvw3orhfmdxmcro1</td>\n",
              "      <td>NaN</td>\n",
              "      <td>spotify:track:1azifmcvw3orhfmdxmcro1</td>\n",
              "      <td>35</td>\n",
              "      <td>...</td>\n",
              "      <td>0.0816</td>\n",
              "      <td>0.00296</td>\n",
              "      <td>0.62000</td>\n",
              "      <td>0.0501</td>\n",
              "      <td>0.729</td>\n",
              "      <td>117.859</td>\n",
              "      <td>428667</td>\n",
              "      <td>4</td>\n",
              "      <td>gbayk8500158</td>\n",
              "      <td>1985</td>\n",
              "    </tr>\n",
              "    <tr>\n",
              "      <th>3</th>\n",
              "      <td>3</td>\n",
              "      <td>19 - new version</td>\n",
              "      <td>paul hardcastle</td>\n",
              "      <td>paul hardcastle</td>\n",
              "      <td>1985-01-01</td>\n",
              "      <td>day</td>\n",
              "      <td>6b2tn5vzafhjuubg3n77op</td>\n",
              "      <td>NaN</td>\n",
              "      <td>spotify:track:6b2tn5vzafhjuubg3n77op</td>\n",
              "      <td>22</td>\n",
              "      <td>...</td>\n",
              "      <td>0.0681</td>\n",
              "      <td>0.00615</td>\n",
              "      <td>0.24600</td>\n",
              "      <td>0.4120</td>\n",
              "      <td>0.362</td>\n",
              "      <td>117.901</td>\n",
              "      <td>378240</td>\n",
              "      <td>4</td>\n",
              "      <td>gbayk0700009</td>\n",
              "      <td>1985</td>\n",
              "    </tr>\n",
              "    <tr>\n",
              "      <th>5</th>\n",
              "      <td>5</td>\n",
              "      <td>19 - the final story</td>\n",
              "      <td>paul hardcastle</td>\n",
              "      <td>paul hardcastle</td>\n",
              "      <td>1985-01-01</td>\n",
              "      <td>day</td>\n",
              "      <td>6vllysgxxqcyngiekcgelz</td>\n",
              "      <td>NaN</td>\n",
              "      <td>spotify:track:6vllysgxxqcyngiekcgelz</td>\n",
              "      <td>17</td>\n",
              "      <td>...</td>\n",
              "      <td>0.0873</td>\n",
              "      <td>0.00133</td>\n",
              "      <td>0.12100</td>\n",
              "      <td>0.2800</td>\n",
              "      <td>0.626</td>\n",
              "      <td>117.971</td>\n",
              "      <td>286933</td>\n",
              "      <td>4</td>\n",
              "      <td>gbayk0700168</td>\n",
              "      <td>1985</td>\n",
              "    </tr>\n",
              "    <tr>\n",
              "      <th>10</th>\n",
              "      <td>10</td>\n",
              "      <td>19 - the final story requiem</td>\n",
              "      <td>paul hardcastle</td>\n",
              "      <td>paul hardcastle</td>\n",
              "      <td>1985-01-01</td>\n",
              "      <td>day</td>\n",
              "      <td>4yeyifa2dhkbdiomb0dobf</td>\n",
              "      <td>NaN</td>\n",
              "      <td>spotify:track:4yeyifa2dhkbdiomb0dobf</td>\n",
              "      <td>13</td>\n",
              "      <td>...</td>\n",
              "      <td>0.0964</td>\n",
              "      <td>0.04680</td>\n",
              "      <td>0.08860</td>\n",
              "      <td>0.4200</td>\n",
              "      <td>0.545</td>\n",
              "      <td>116.874</td>\n",
              "      <td>185560</td>\n",
              "      <td>4</td>\n",
              "      <td>gbayk0700169</td>\n",
              "      <td>1985</td>\n",
              "    </tr>\n",
              "    <tr>\n",
              "      <th>74</th>\n",
              "      <td>74</td>\n",
              "      <td>earth from space / ground zero / no winners / ...</td>\n",
              "      <td>paul hardcastle</td>\n",
              "      <td>no winners</td>\n",
              "      <td>1988-01-01</td>\n",
              "      <td>day</td>\n",
              "      <td>0xrnwmiscl5tjtclcffvwm</td>\n",
              "      <td>NaN</td>\n",
              "      <td>spotify:track:0xrnwmiscl5tjtclcffvwm</td>\n",
              "      <td>4</td>\n",
              "      <td>...</td>\n",
              "      <td>0.0690</td>\n",
              "      <td>0.04760</td>\n",
              "      <td>0.00358</td>\n",
              "      <td>0.3350</td>\n",
              "      <td>0.298</td>\n",
              "      <td>120.022</td>\n",
              "      <td>1889840</td>\n",
              "      <td>4</td>\n",
              "      <td>gbayk0800041</td>\n",
              "      <td>1988</td>\n",
              "    </tr>\n",
              "  </tbody>\n",
              "</table>\n",
              "<p>5 rows × 26 columns</p>\n",
              "</div>\n",
              "    <div class=\"colab-df-buttons\">\n",
              "\n",
              "  <div class=\"colab-df-container\">\n",
              "    <button class=\"colab-df-convert\" onclick=\"convertToInteractive('df-01c4d1fc-aa56-4d7d-95cd-f7fb19114cdc')\"\n",
              "            title=\"Convert this dataframe to an interactive table.\"\n",
              "            style=\"display:none;\">\n",
              "\n",
              "  <svg xmlns=\"http://www.w3.org/2000/svg\" height=\"24px\" viewBox=\"0 -960 960 960\">\n",
              "    <path d=\"M120-120v-720h720v720H120Zm60-500h600v-160H180v160Zm220 220h160v-160H400v160Zm0 220h160v-160H400v160ZM180-400h160v-160H180v160Zm440 0h160v-160H620v160ZM180-180h160v-160H180v160Zm440 0h160v-160H620v160Z\"/>\n",
              "  </svg>\n",
              "    </button>\n",
              "\n",
              "  <style>\n",
              "    .colab-df-container {\n",
              "      display:flex;\n",
              "      gap: 12px;\n",
              "    }\n",
              "\n",
              "    .colab-df-convert {\n",
              "      background-color: #E8F0FE;\n",
              "      border: none;\n",
              "      border-radius: 50%;\n",
              "      cursor: pointer;\n",
              "      display: none;\n",
              "      fill: #1967D2;\n",
              "      height: 32px;\n",
              "      padding: 0 0 0 0;\n",
              "      width: 32px;\n",
              "    }\n",
              "\n",
              "    .colab-df-convert:hover {\n",
              "      background-color: #E2EBFA;\n",
              "      box-shadow: 0px 1px 2px rgba(60, 64, 67, 0.3), 0px 1px 3px 1px rgba(60, 64, 67, 0.15);\n",
              "      fill: #174EA6;\n",
              "    }\n",
              "\n",
              "    .colab-df-buttons div {\n",
              "      margin-bottom: 4px;\n",
              "    }\n",
              "\n",
              "    [theme=dark] .colab-df-convert {\n",
              "      background-color: #3B4455;\n",
              "      fill: #D2E3FC;\n",
              "    }\n",
              "\n",
              "    [theme=dark] .colab-df-convert:hover {\n",
              "      background-color: #434B5C;\n",
              "      box-shadow: 0px 1px 3px 1px rgba(0, 0, 0, 0.15);\n",
              "      filter: drop-shadow(0px 1px 2px rgba(0, 0, 0, 0.3));\n",
              "      fill: #FFFFFF;\n",
              "    }\n",
              "  </style>\n",
              "\n",
              "    <script>\n",
              "      const buttonEl =\n",
              "        document.querySelector('#df-01c4d1fc-aa56-4d7d-95cd-f7fb19114cdc button.colab-df-convert');\n",
              "      buttonEl.style.display =\n",
              "        google.colab.kernel.accessAllowed ? 'block' : 'none';\n",
              "\n",
              "      async function convertToInteractive(key) {\n",
              "        const element = document.querySelector('#df-01c4d1fc-aa56-4d7d-95cd-f7fb19114cdc');\n",
              "        const dataTable =\n",
              "          await google.colab.kernel.invokeFunction('convertToInteractive',\n",
              "                                                    [key], {});\n",
              "        if (!dataTable) return;\n",
              "\n",
              "        const docLinkHtml = 'Like what you see? Visit the ' +\n",
              "          '<a target=\"_blank\" href=https://colab.research.google.com/notebooks/data_table.ipynb>data table notebook</a>'\n",
              "          + ' to learn more about interactive tables.';\n",
              "        element.innerHTML = '';\n",
              "        dataTable['output_type'] = 'display_data';\n",
              "        await google.colab.output.renderOutput(dataTable, element);\n",
              "        const docLink = document.createElement('div');\n",
              "        docLink.innerHTML = docLinkHtml;\n",
              "        element.appendChild(docLink);\n",
              "      }\n",
              "    </script>\n",
              "  </div>\n",
              "\n",
              "\n",
              "<div id=\"df-75f1fbaa-c233-4cdc-b505-1673229bee59\">\n",
              "  <button class=\"colab-df-quickchart\" onclick=\"quickchart('df-75f1fbaa-c233-4cdc-b505-1673229bee59')\"\n",
              "            title=\"Suggest charts.\"\n",
              "            style=\"display:none;\">\n",
              "\n",
              "<svg xmlns=\"http://www.w3.org/2000/svg\" height=\"24px\"viewBox=\"0 0 24 24\"\n",
              "     width=\"24px\">\n",
              "    <g>\n",
              "        <path d=\"M19 3H5c-1.1 0-2 .9-2 2v14c0 1.1.9 2 2 2h14c1.1 0 2-.9 2-2V5c0-1.1-.9-2-2-2zM9 17H7v-7h2v7zm4 0h-2V7h2v10zm4 0h-2v-4h2v4z\"/>\n",
              "    </g>\n",
              "</svg>\n",
              "  </button>\n",
              "\n",
              "<style>\n",
              "  .colab-df-quickchart {\n",
              "      --bg-color: #E8F0FE;\n",
              "      --fill-color: #1967D2;\n",
              "      --hover-bg-color: #E2EBFA;\n",
              "      --hover-fill-color: #174EA6;\n",
              "      --disabled-fill-color: #AAA;\n",
              "      --disabled-bg-color: #DDD;\n",
              "  }\n",
              "\n",
              "  [theme=dark] .colab-df-quickchart {\n",
              "      --bg-color: #3B4455;\n",
              "      --fill-color: #D2E3FC;\n",
              "      --hover-bg-color: #434B5C;\n",
              "      --hover-fill-color: #FFFFFF;\n",
              "      --disabled-bg-color: #3B4455;\n",
              "      --disabled-fill-color: #666;\n",
              "  }\n",
              "\n",
              "  .colab-df-quickchart {\n",
              "    background-color: var(--bg-color);\n",
              "    border: none;\n",
              "    border-radius: 50%;\n",
              "    cursor: pointer;\n",
              "    display: none;\n",
              "    fill: var(--fill-color);\n",
              "    height: 32px;\n",
              "    padding: 0;\n",
              "    width: 32px;\n",
              "  }\n",
              "\n",
              "  .colab-df-quickchart:hover {\n",
              "    background-color: var(--hover-bg-color);\n",
              "    box-shadow: 0 1px 2px rgba(60, 64, 67, 0.3), 0 1px 3px 1px rgba(60, 64, 67, 0.15);\n",
              "    fill: var(--button-hover-fill-color);\n",
              "  }\n",
              "\n",
              "  .colab-df-quickchart-complete:disabled,\n",
              "  .colab-df-quickchart-complete:disabled:hover {\n",
              "    background-color: var(--disabled-bg-color);\n",
              "    fill: var(--disabled-fill-color);\n",
              "    box-shadow: none;\n",
              "  }\n",
              "\n",
              "  .colab-df-spinner {\n",
              "    border: 2px solid var(--fill-color);\n",
              "    border-color: transparent;\n",
              "    border-bottom-color: var(--fill-color);\n",
              "    animation:\n",
              "      spin 1s steps(1) infinite;\n",
              "  }\n",
              "\n",
              "  @keyframes spin {\n",
              "    0% {\n",
              "      border-color: transparent;\n",
              "      border-bottom-color: var(--fill-color);\n",
              "      border-left-color: var(--fill-color);\n",
              "    }\n",
              "    20% {\n",
              "      border-color: transparent;\n",
              "      border-left-color: var(--fill-color);\n",
              "      border-top-color: var(--fill-color);\n",
              "    }\n",
              "    30% {\n",
              "      border-color: transparent;\n",
              "      border-left-color: var(--fill-color);\n",
              "      border-top-color: var(--fill-color);\n",
              "      border-right-color: var(--fill-color);\n",
              "    }\n",
              "    40% {\n",
              "      border-color: transparent;\n",
              "      border-right-color: var(--fill-color);\n",
              "      border-top-color: var(--fill-color);\n",
              "    }\n",
              "    60% {\n",
              "      border-color: transparent;\n",
              "      border-right-color: var(--fill-color);\n",
              "    }\n",
              "    80% {\n",
              "      border-color: transparent;\n",
              "      border-right-color: var(--fill-color);\n",
              "      border-bottom-color: var(--fill-color);\n",
              "    }\n",
              "    90% {\n",
              "      border-color: transparent;\n",
              "      border-bottom-color: var(--fill-color);\n",
              "    }\n",
              "  }\n",
              "</style>\n",
              "\n",
              "  <script>\n",
              "    async function quickchart(key) {\n",
              "      const quickchartButtonEl =\n",
              "        document.querySelector('#' + key + ' button');\n",
              "      quickchartButtonEl.disabled = true;  // To prevent multiple clicks.\n",
              "      quickchartButtonEl.classList.add('colab-df-spinner');\n",
              "      try {\n",
              "        const charts = await google.colab.kernel.invokeFunction(\n",
              "            'suggestCharts', [key], {});\n",
              "      } catch (error) {\n",
              "        console.error('Error during call to suggestCharts:', error);\n",
              "      }\n",
              "      quickchartButtonEl.classList.remove('colab-df-spinner');\n",
              "      quickchartButtonEl.classList.add('colab-df-quickchart-complete');\n",
              "    }\n",
              "    (() => {\n",
              "      let quickchartButtonEl =\n",
              "        document.querySelector('#df-75f1fbaa-c233-4cdc-b505-1673229bee59 button');\n",
              "      quickchartButtonEl.style.display =\n",
              "        google.colab.kernel.accessAllowed ? 'block' : 'none';\n",
              "    })();\n",
              "  </script>\n",
              "</div>\n",
              "    </div>\n",
              "  </div>\n"
            ]
          },
          "metadata": {},
          "execution_count": 158
        }
      ]
    },
    {
      "cell_type": "code",
      "source": [
        "with open(f\"{PATH}/data-missing-problems.json\", \"r\") as file:\n",
        "  data_missing_problems = json.load(file)"
      ],
      "metadata": {
        "id": "LMrcz7e4qqug"
      },
      "id": "LMrcz7e4qqug",
      "execution_count": 159,
      "outputs": []
    },
    {
      "cell_type": "code",
      "source": [
        "artists_not_found = data_missing_problems[\"artist_not_found\"]"
      ],
      "metadata": {
        "id": "Jev-MmFIBvDp"
      },
      "id": "Jev-MmFIBvDp",
      "execution_count": 160,
      "outputs": []
    },
    {
      "cell_type": "code",
      "source": [
        "len(artists_not_found)"
      ],
      "metadata": {
        "id": "q1bq_rQjB3gv",
        "outputId": "98711842-3681-4bfa-b1dc-f3fc78a9bede",
        "colab": {
          "base_uri": "https://localhost:8080/"
        }
      },
      "id": "q1bq_rQjB3gv",
      "execution_count": 164,
      "outputs": [
        {
          "output_type": "execute_result",
          "data": {
            "text/plain": [
              "263"
            ]
          },
          "metadata": {},
          "execution_count": 164
        }
      ]
    },
    {
      "cell_type": "code",
      "source": [],
      "metadata": {
        "id": "Ma430lQZI9uV"
      },
      "id": "Ma430lQZI9uV",
      "execution_count": null,
      "outputs": []
    }
  ],
  "metadata": {
    "colab": {
      "provenance": []
    },
    "kernelspec": {
      "display_name": "application-project",
      "language": "python",
      "name": "application-project"
    },
    "language_info": {
      "codemirror_mode": {
        "name": "ipython",
        "version": 3
      },
      "file_extension": ".py",
      "mimetype": "text/x-python",
      "name": "python",
      "nbconvert_exporter": "python",
      "pygments_lexer": "ipython3",
      "version": "3.10.12"
    }
  },
  "nbformat": 4,
  "nbformat_minor": 5
}