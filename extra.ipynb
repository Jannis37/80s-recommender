{
  "cells": [
    {
      "cell_type": "markdown",
      "id": "4aa021fd-c213-4c05-80d9-996adfe8ad4d",
      "metadata": {
        "id": "4aa021fd-c213-4c05-80d9-996adfe8ad4d"
      },
      "source": [
        "# Extra Aufgaben"
      ]
    },
    {
      "cell_type": "code",
      "source": [
        "from google.colab import drive\n",
        "drive.mount('/content/gdrive')"
      ],
      "metadata": {
        "colab": {
          "base_uri": "https://localhost:8080/"
        },
        "id": "eNb_1cANxM40",
        "outputId": "a968f8ea-f77f-43a5-a983-a16240df7021"
      },
      "id": "eNb_1cANxM40",
      "execution_count": 1,
      "outputs": [
        {
          "output_type": "stream",
          "name": "stdout",
          "text": [
            "Drive already mounted at /content/gdrive; to attempt to forcibly remount, call drive.mount(\"/content/gdrive\", force_remount=True).\n"
          ]
        }
      ]
    },
    {
      "cell_type": "code",
      "source": [
        "PATH = \"gdrive/MyDrive/application-project-abgabe\""
      ],
      "metadata": {
        "id": "nw6nEtf9A09n"
      },
      "id": "nw6nEtf9A09n",
      "execution_count": 2,
      "outputs": []
    },
    {
      "cell_type": "markdown",
      "id": "90aabbd4-0dee-4108-b00f-29e931b1291f",
      "metadata": {
        "id": "90aabbd4-0dee-4108-b00f-29e931b1291f"
      },
      "source": [
        "## Filterung der Datenbank um irrelevante Ergebnisse zu verhindern"
      ]
    },
    {
      "cell_type": "code",
      "execution_count": 66,
      "id": "4e2a29e0-e35c-4ae8-925b-28e1994f0e1b",
      "metadata": {
        "id": "4e2a29e0-e35c-4ae8-925b-28e1994f0e1b"
      },
      "outputs": [],
      "source": [
        "import pandas as pd\n",
        "import numpy as np\n",
        "from sklearn.preprocessing import MinMaxScaler\n",
        "from sklearn.metrics.pairwise import cosine_similarity, linear_kernel, polynomial_kernel, sigmoid_kernel, rbf_kernel, laplacian_kernel, chi2_kernel, euclidean_distances, manhattan_distances, cosine_distances\n",
        "import plotly.express as px\n",
        "import plotly.graph_objects as go\n",
        "from tqdm import tqdm\n",
        "import time\n",
        "from ast import literal_eval"
      ]
    },
    {
      "cell_type": "code",
      "execution_count": 4,
      "id": "d4b582ef-98b0-4471-a6c9-c5eb9800b334",
      "metadata": {
        "id": "d4b582ef-98b0-4471-a6c9-c5eb9800b334"
      },
      "outputs": [],
      "source": [
        "#by_isrc = pd.read_csv('data/by_isrc.csv')\n",
        "by_isrc = pd.read_csv(f\"{PATH}/by_isrc.csv\")"
      ]
    },
    {
      "cell_type": "code",
      "execution_count": 5,
      "id": "112671ab-ad9a-44bb-b1b4-bc03424fb7ef",
      "metadata": {
        "id": "112671ab-ad9a-44bb-b1b4-bc03424fb7ef"
      },
      "outputs": [],
      "source": [
        "by_isrc[\"country_code\"] = by_isrc[\"isrc\"].apply(lambda x: x[:2])"
      ]
    },
    {
      "cell_type": "code",
      "execution_count": 6,
      "id": "3e739409-7d41-4bf8-a464-1a783fbe876b",
      "metadata": {
        "colab": {
          "base_uri": "https://localhost:8080/"
        },
        "id": "3e739409-7d41-4bf8-a464-1a783fbe876b",
        "outputId": "beb63bee-03a0-45c3-b708-5622e89f8862"
      },
      "outputs": [
        {
          "output_type": "execute_result",
          "data": {
            "text/plain": [
              "array(['AE', 'AR', 'AT', 'AU', 'AZ', 'BA', 'BC', 'BE', 'BG', 'BR', 'BX',\n",
              "       'Br', 'CA', 'CH', 'CI', 'CL', 'CN', 'CO', 'CS', 'CZ', 'DE', 'DG',\n",
              "       'DK', 'EE', 'EG', 'ES', 'FI', 'FR', 'FX', 'GB', 'GN', 'GR', 'GT',\n",
              "       'GX', 'HK', 'HR', 'HU', 'ID', 'IE', 'IL', 'IN', 'IR', 'IS', 'IT',\n",
              "       'JM', 'JP', 'KE', 'KR', 'KS', 'LB', 'LK', 'LT', 'LU', 'LV', 'MD',\n",
              "       'MM', 'MT', 'MU', 'MX', 'MY', 'NG', 'NI', 'NL', 'NO', 'NZ', 'No',\n",
              "       'PE', 'PH', 'PL', 'PT', 'QM', 'QZ', 'RE', 'RO', 'RS', 'RU', 'SE',\n",
              "       'SG', 'SI', 'SK', 'SM', 'SW', 'TC', 'TH', 'TR', 'TW', 'UA', 'UK',\n",
              "       'UR', 'US', 'UY', 'VE', 'VN', 'ZA', 'ZZ', 'ae', 'ca', 'gb', 'il',\n",
              "       'lv', 'nl', 'qz', 'us', 've'], dtype=object)"
            ]
          },
          "metadata": {},
          "execution_count": 6
        }
      ],
      "source": [
        "by_isrc[\"country_code\"].unique()"
      ]
    },
    {
      "cell_type": "markdown",
      "id": "7f095f29-3be3-40d9-b98b-a2688a43a02a",
      "metadata": {
        "id": "7f095f29-3be3-40d9-b98b-a2688a43a02a"
      },
      "source": [
        "Einige Ländercodes sind kleingeschrieben. Diese sollen in Großbuchstaben umgewandelt werden."
      ]
    },
    {
      "cell_type": "code",
      "execution_count": 7,
      "id": "988d731d-e895-4fff-8ef4-f6f6eda5f692",
      "metadata": {
        "id": "988d731d-e895-4fff-8ef4-f6f6eda5f692"
      },
      "outputs": [],
      "source": [
        "by_isrc[\"country_code\"] = by_isrc[\"country_code\"].str.upper()"
      ]
    },
    {
      "cell_type": "code",
      "execution_count": 8,
      "id": "9adedfa6-fb4f-470d-a2b5-84f36c132c14",
      "metadata": {
        "colab": {
          "base_uri": "https://localhost:8080/"
        },
        "id": "9adedfa6-fb4f-470d-a2b5-84f36c132c14",
        "outputId": "10741d55-b386-4901-fe20-ef42f0a477b4"
      },
      "outputs": [
        {
          "output_type": "execute_result",
          "data": {
            "text/plain": [
              "array(['AE', 'AR', 'AT', 'AU', 'AZ', 'BA', 'BC', 'BE', 'BG', 'BR', 'BX',\n",
              "       'CA', 'CH', 'CI', 'CL', 'CN', 'CO', 'CS', 'CZ', 'DE', 'DG', 'DK',\n",
              "       'EE', 'EG', 'ES', 'FI', 'FR', 'FX', 'GB', 'GN', 'GR', 'GT', 'GX',\n",
              "       'HK', 'HR', 'HU', 'ID', 'IE', 'IL', 'IN', 'IR', 'IS', 'IT', 'JM',\n",
              "       'JP', 'KE', 'KR', 'KS', 'LB', 'LK', 'LT', 'LU', 'LV', 'MD', 'MM',\n",
              "       'MT', 'MU', 'MX', 'MY', 'NG', 'NI', 'NL', 'NO', 'NZ', 'PE', 'PH',\n",
              "       'PL', 'PT', 'QM', 'QZ', 'RE', 'RO', 'RS', 'RU', 'SE', 'SG', 'SI',\n",
              "       'SK', 'SM', 'SW', 'TC', 'TH', 'TR', 'TW', 'UA', 'UK', 'UR', 'US',\n",
              "       'UY', 'VE', 'VN', 'ZA', 'ZZ'], dtype=object)"
            ]
          },
          "metadata": {},
          "execution_count": 8
        }
      ],
      "source": [
        "by_isrc[\"country_code\"].unique()"
      ]
    },
    {
      "cell_type": "markdown",
      "id": "4df225d6-f879-4500-a54d-498b5513483f",
      "metadata": {
        "id": "4df225d6-f879-4500-a54d-498b5513483f"
      },
      "source": [
        "Gruppierung der Songs nach den Ländercodes."
      ]
    },
    {
      "cell_type": "code",
      "execution_count": 9,
      "id": "7916e0cd-dfb0-4994-ad6a-12cccfea3e84",
      "metadata": {
        "id": "7916e0cd-dfb0-4994-ad6a-12cccfea3e84"
      },
      "outputs": [],
      "source": [
        "countries = {\n",
        "    'AE': 'United Arab Emirates',\n",
        "    'AR': 'Argentina',\n",
        "    'AT': 'Austria',\n",
        "    'AU': 'Australia',\n",
        "    'AZ': 'Azerbaijan',\n",
        "    'BA': 'Bosnia and Herzegovina',\n",
        "    'BC': 'Canada (British Columbia)',\n",
        "    'BE': 'Belgium',\n",
        "    'BG': 'Bulgaria',\n",
        "    'BR': 'Brazil',\n",
        "    'BX': 'Benelux',\n",
        "    'CA': 'Canada',\n",
        "    'CH': 'Switzerland',\n",
        "    'CI': 'Ivory Coast (Côte d\\'Ivoire)',\n",
        "    'CL': 'Chile',\n",
        "    'CN': 'China',\n",
        "    'CO': 'Colombia',\n",
        "    'CS': 'Serbia and Montenegro',\n",
        "    'CZ': 'Czech Republic',\n",
        "    'DE': 'Germany',\n",
        "    'DG': 'Germany (East)',\n",
        "    'DK': 'Denmark',\n",
        "    'EE': 'Estonia',\n",
        "    'EG': 'Egypt',\n",
        "    'ES': 'Spain',\n",
        "    'FI': 'Finland',\n",
        "    'FR': 'France',\n",
        "    'FX': 'France (Metropolitan)',\n",
        "    'GB': 'United Kingdom',\n",
        "    'GN': 'Guinea',\n",
        "    'GR': 'Greece',\n",
        "    'GT': 'Guatemala',\n",
        "    'GX': 'Greece (Ancient)',\n",
        "    'HK': 'Hong Kong',\n",
        "    'HR': 'Croatia',\n",
        "    'HU': 'Hungary',\n",
        "    'ID': 'Indonesia',\n",
        "    'IE': 'Ireland',\n",
        "    'IL': 'Israel',\n",
        "    'IN': 'India',\n",
        "    'IR': 'Iran',\n",
        "    'IS': 'Iceland',\n",
        "    'IT': 'Italy',\n",
        "    'JM': 'Jamaica',\n",
        "    'JP': 'Japan',\n",
        "    'KE': 'Kenya',\n",
        "    'KR': 'South Korea',\n",
        "    'KS': 'Kosovo',\n",
        "    'LB': 'Lebanon',\n",
        "    'LK': 'Sri Lanka',\n",
        "    'LT': 'Lithuania',\n",
        "    'LU': 'Luxembourg',\n",
        "    'LV': 'Latvia',\n",
        "    'MD': 'Moldova',\n",
        "    'MM': 'Myanmar (Burma)',\n",
        "    'MT': 'Malta',\n",
        "    'MU': 'Mauritius',\n",
        "    'MX': 'Mexico',\n",
        "    'MY': 'Malaysia',\n",
        "    'NG': 'Nigeria',\n",
        "    'NI': 'Nicaragua',\n",
        "    'NL': 'Netherlands',\n",
        "    'NO': 'Norway',\n",
        "    'NZ': 'New Zealand',\n",
        "    'PE': 'Peru',\n",
        "    'PH': 'Philippines',\n",
        "    'PL': 'Poland',\n",
        "    'PT': 'Portugal',\n",
        "    'QM': 'Marshall Islands', #second country code for the United States\n",
        "    'QZ': 'Unknown or Invalid Area',\n",
        "    'RE': 'Réunion',\n",
        "    'RO': 'Romania',\n",
        "    'RS': 'Serbia',\n",
        "    'RU': 'Russia',\n",
        "    'SE': 'Sweden',\n",
        "    'SG': 'Singapore',\n",
        "    'SI': 'Slovenia',\n",
        "    'SK': 'Slovakia',\n",
        "    'SM': 'San Marino',\n",
        "    'SW': 'Sweden',\n",
        "    'TC': 'Turks and Caicos Islands',\n",
        "    'TH': 'Thailand',\n",
        "    'TR': 'Turkey',\n",
        "    'TW': 'Taiwan',\n",
        "    'UA': 'Ukraine',\n",
        "    'UK': 'United Kingdom',\n",
        "    'UR': 'Uruguay',\n",
        "    'US': 'United States',\n",
        "    'UY': 'Uruguay',\n",
        "    'VE': 'Venezuela',\n",
        "    'VN': 'Vietnam',\n",
        "    'ZA': 'South Africa',\n",
        "    'ZZ': 'Unknown or Invalid Area'\n",
        "}"
      ]
    },
    {
      "cell_type": "markdown",
      "source": [
        "Erstellen eines neuen Features `country`, welches den Namen des jeweiligen Landes beinhaltet."
      ],
      "metadata": {
        "id": "-lxm2F7yyU9T"
      },
      "id": "-lxm2F7yyU9T"
    },
    {
      "cell_type": "code",
      "execution_count": 10,
      "id": "c905b4a6-ebcc-4580-b3f2-c345d64c4e51",
      "metadata": {
        "id": "c905b4a6-ebcc-4580-b3f2-c345d64c4e51"
      },
      "outputs": [],
      "source": [
        "by_isrc[\"country\"] = by_isrc[\"country_code\"].apply(lambda x: countries[x])"
      ]
    },
    {
      "cell_type": "markdown",
      "source": [
        "Gruppieren der Daten nach `country` und `country_code`. Dies soll genutzt werden, um zu analysieren, aus welchem Land am meisten Songs veröffentlicht worden sind."
      ],
      "metadata": {
        "id": "gLUKB8R7yhL1"
      },
      "id": "gLUKB8R7yhL1"
    },
    {
      "cell_type": "code",
      "execution_count": 11,
      "id": "f3bad70b-248a-4714-8338-09e315e802ad",
      "metadata": {
        "id": "f3bad70b-248a-4714-8338-09e315e802ad"
      },
      "outputs": [],
      "source": [
        "grouped_countries = by_isrc.copy()\n",
        "grouped_countries = grouped_countries[[\"country_code\", \"country\"]]\n",
        "grouped_countries[\"num_countries\"] = 0\n",
        "grouped_countries = grouped_countries.groupby([\"country_code\", \"country\"]).count()"
      ]
    },
    {
      "cell_type": "code",
      "execution_count": 12,
      "id": "e6c8c41f-b919-4304-b9e7-7b6ef0a286a6",
      "metadata": {
        "id": "e6c8c41f-b919-4304-b9e7-7b6ef0a286a6"
      },
      "outputs": [],
      "source": [
        "grouped_countries = grouped_countries.sort_values(\"num_countries\", ascending=False)"
      ]
    },
    {
      "cell_type": "code",
      "execution_count": 13,
      "id": "d565a13b-1fa0-42e6-a311-2e2b1f1d92ca",
      "metadata": {
        "id": "d565a13b-1fa0-42e6-a311-2e2b1f1d92ca"
      },
      "outputs": [],
      "source": [
        "grouped_countries.reset_index(inplace=True)"
      ]
    },
    {
      "cell_type": "code",
      "execution_count": 14,
      "id": "33443f11-ce6c-4bbf-8fba-a86db672f11b",
      "metadata": {
        "id": "33443f11-ce6c-4bbf-8fba-a86db672f11b"
      },
      "outputs": [],
      "source": [
        "# country und country_code werden kombiniert für eine bessere Darstellung\n",
        "grouped_countries[\"country_comb\"] = grouped_countries.apply(lambda x: f'{x[\"country\"]}-{x[\"country_code\"]}', axis=1)"
      ]
    },
    {
      "cell_type": "code",
      "execution_count": 15,
      "id": "0f9e76bf-738c-4551-b7c5-91cc644e9819",
      "metadata": {
        "colab": {
          "base_uri": "https://localhost:8080/",
          "height": 517
        },
        "id": "0f9e76bf-738c-4551-b7c5-91cc644e9819",
        "outputId": "d0584926-afe0-4282-b30a-72e5d62814bb"
      },
      "outputs": [
        {
          "output_type": "display_data",
          "data": {
            "text/html": [
              "<html>\n",
              "<head><meta charset=\"utf-8\" /></head>\n",
              "<body>\n",
              "    <div>            <script src=\"https://cdnjs.cloudflare.com/ajax/libs/mathjax/2.7.5/MathJax.js?config=TeX-AMS-MML_SVG\"></script><script type=\"text/javascript\">if (window.MathJax && window.MathJax.Hub && window.MathJax.Hub.Config) {window.MathJax.Hub.Config({SVG: {font: \"STIX-Web\"}});}</script>                <script type=\"text/javascript\">window.PlotlyConfig = {MathJaxConfig: 'local'};</script>\n",
              "        <script charset=\"utf-8\" src=\"https://cdn.plot.ly/plotly-2.24.1.min.js\"></script>                <div id=\"45a1e5b7-c7bb-45aa-b7d8-6f141ee1e326\" class=\"plotly-graph-div\" style=\"height:500px; width:100%;\"></div>            <script type=\"text/javascript\">                                    window.PLOTLYENV=window.PLOTLYENV || {};                                    if (document.getElementById(\"45a1e5b7-c7bb-45aa-b7d8-6f141ee1e326\")) {                    Plotly.newPlot(                        \"45a1e5b7-c7bb-45aa-b7d8-6f141ee1e326\",                        [{\"alignmentgroup\":\"True\",\"hovertemplate\":\"country_comb=%{x}\\u003cbr\\u003enum_countries=%{y}\\u003cextra\\u003e\\u003c\\u002fextra\\u003e\",\"legendgroup\":\"\",\"marker\":{\"color\":\"#636efa\",\"pattern\":{\"shape\":\"\"}},\"name\":\"\",\"offsetgroup\":\"\",\"orientation\":\"v\",\"showlegend\":false,\"textposition\":\"auto\",\"x\":[\"United States-US\",\"United Kingdom-GB\",\"Germany-DE\",\"France-FR\",\"Marshall Islands-QM\",\"Brazil-BR\",\"Netherlands-NL\",\"Sweden-SE\",\"Spain-ES\",\"Finland-FI\",\"Italy-IT\",\"Japan-JP\",\"India-IN\",\"Unknown or Invalid Area-QZ\",\"Turkey-TR\",\"Argentina-AR\",\"Czech Republic-CZ\",\"Norway-NO\",\"Indonesia-ID\",\"Denmark-DK\",\"Greece-GR\",\"Canada-CA\",\"Australia-AU\",\"Bulgaria-BG\",\"Croatia-HR\",\"Switzerland-CH\",\"Belgium-BE\",\"Hong Kong-HK\",\"Iceland-IS\",\"Turks and Caicos Islands-TC\"],\"xaxis\":\"x\",\"y\":[104973,66175,32217,24923,14398,14227,14013,13102,11284,9801,8654,8348,7780,6490,5493,5144,5109,4796,4667,4415,4310,3844,3619,3150,3099,2357,2196,1881,1767,1546],\"yaxis\":\"y\",\"type\":\"bar\"}],                        {\"template\":{\"data\":{\"barpolar\":[{\"marker\":{\"line\":{\"color\":\"rgb(17,17,17)\",\"width\":0.5},\"pattern\":{\"fillmode\":\"overlay\",\"size\":10,\"solidity\":0.2}},\"type\":\"barpolar\"}],\"bar\":[{\"error_x\":{\"color\":\"#f2f5fa\"},\"error_y\":{\"color\":\"#f2f5fa\"},\"marker\":{\"line\":{\"color\":\"rgb(17,17,17)\",\"width\":0.5},\"pattern\":{\"fillmode\":\"overlay\",\"size\":10,\"solidity\":0.2}},\"type\":\"bar\"}],\"carpet\":[{\"aaxis\":{\"endlinecolor\":\"#A2B1C6\",\"gridcolor\":\"#506784\",\"linecolor\":\"#506784\",\"minorgridcolor\":\"#506784\",\"startlinecolor\":\"#A2B1C6\"},\"baxis\":{\"endlinecolor\":\"#A2B1C6\",\"gridcolor\":\"#506784\",\"linecolor\":\"#506784\",\"minorgridcolor\":\"#506784\",\"startlinecolor\":\"#A2B1C6\"},\"type\":\"carpet\"}],\"choropleth\":[{\"colorbar\":{\"outlinewidth\":0,\"ticks\":\"\"},\"type\":\"choropleth\"}],\"contourcarpet\":[{\"colorbar\":{\"outlinewidth\":0,\"ticks\":\"\"},\"type\":\"contourcarpet\"}],\"contour\":[{\"colorbar\":{\"outlinewidth\":0,\"ticks\":\"\"},\"colorscale\":[[0.0,\"#0d0887\"],[0.1111111111111111,\"#46039f\"],[0.2222222222222222,\"#7201a8\"],[0.3333333333333333,\"#9c179e\"],[0.4444444444444444,\"#bd3786\"],[0.5555555555555556,\"#d8576b\"],[0.6666666666666666,\"#ed7953\"],[0.7777777777777778,\"#fb9f3a\"],[0.8888888888888888,\"#fdca26\"],[1.0,\"#f0f921\"]],\"type\":\"contour\"}],\"heatmapgl\":[{\"colorbar\":{\"outlinewidth\":0,\"ticks\":\"\"},\"colorscale\":[[0.0,\"#0d0887\"],[0.1111111111111111,\"#46039f\"],[0.2222222222222222,\"#7201a8\"],[0.3333333333333333,\"#9c179e\"],[0.4444444444444444,\"#bd3786\"],[0.5555555555555556,\"#d8576b\"],[0.6666666666666666,\"#ed7953\"],[0.7777777777777778,\"#fb9f3a\"],[0.8888888888888888,\"#fdca26\"],[1.0,\"#f0f921\"]],\"type\":\"heatmapgl\"}],\"heatmap\":[{\"colorbar\":{\"outlinewidth\":0,\"ticks\":\"\"},\"colorscale\":[[0.0,\"#0d0887\"],[0.1111111111111111,\"#46039f\"],[0.2222222222222222,\"#7201a8\"],[0.3333333333333333,\"#9c179e\"],[0.4444444444444444,\"#bd3786\"],[0.5555555555555556,\"#d8576b\"],[0.6666666666666666,\"#ed7953\"],[0.7777777777777778,\"#fb9f3a\"],[0.8888888888888888,\"#fdca26\"],[1.0,\"#f0f921\"]],\"type\":\"heatmap\"}],\"histogram2dcontour\":[{\"colorbar\":{\"outlinewidth\":0,\"ticks\":\"\"},\"colorscale\":[[0.0,\"#0d0887\"],[0.1111111111111111,\"#46039f\"],[0.2222222222222222,\"#7201a8\"],[0.3333333333333333,\"#9c179e\"],[0.4444444444444444,\"#bd3786\"],[0.5555555555555556,\"#d8576b\"],[0.6666666666666666,\"#ed7953\"],[0.7777777777777778,\"#fb9f3a\"],[0.8888888888888888,\"#fdca26\"],[1.0,\"#f0f921\"]],\"type\":\"histogram2dcontour\"}],\"histogram2d\":[{\"colorbar\":{\"outlinewidth\":0,\"ticks\":\"\"},\"colorscale\":[[0.0,\"#0d0887\"],[0.1111111111111111,\"#46039f\"],[0.2222222222222222,\"#7201a8\"],[0.3333333333333333,\"#9c179e\"],[0.4444444444444444,\"#bd3786\"],[0.5555555555555556,\"#d8576b\"],[0.6666666666666666,\"#ed7953\"],[0.7777777777777778,\"#fb9f3a\"],[0.8888888888888888,\"#fdca26\"],[1.0,\"#f0f921\"]],\"type\":\"histogram2d\"}],\"histogram\":[{\"marker\":{\"pattern\":{\"fillmode\":\"overlay\",\"size\":10,\"solidity\":0.2}},\"type\":\"histogram\"}],\"mesh3d\":[{\"colorbar\":{\"outlinewidth\":0,\"ticks\":\"\"},\"type\":\"mesh3d\"}],\"parcoords\":[{\"line\":{\"colorbar\":{\"outlinewidth\":0,\"ticks\":\"\"}},\"type\":\"parcoords\"}],\"pie\":[{\"automargin\":true,\"type\":\"pie\"}],\"scatter3d\":[{\"line\":{\"colorbar\":{\"outlinewidth\":0,\"ticks\":\"\"}},\"marker\":{\"colorbar\":{\"outlinewidth\":0,\"ticks\":\"\"}},\"type\":\"scatter3d\"}],\"scattercarpet\":[{\"marker\":{\"colorbar\":{\"outlinewidth\":0,\"ticks\":\"\"}},\"type\":\"scattercarpet\"}],\"scattergeo\":[{\"marker\":{\"colorbar\":{\"outlinewidth\":0,\"ticks\":\"\"}},\"type\":\"scattergeo\"}],\"scattergl\":[{\"marker\":{\"line\":{\"color\":\"#283442\"}},\"type\":\"scattergl\"}],\"scattermapbox\":[{\"marker\":{\"colorbar\":{\"outlinewidth\":0,\"ticks\":\"\"}},\"type\":\"scattermapbox\"}],\"scatterpolargl\":[{\"marker\":{\"colorbar\":{\"outlinewidth\":0,\"ticks\":\"\"}},\"type\":\"scatterpolargl\"}],\"scatterpolar\":[{\"marker\":{\"colorbar\":{\"outlinewidth\":0,\"ticks\":\"\"}},\"type\":\"scatterpolar\"}],\"scatter\":[{\"marker\":{\"line\":{\"color\":\"#283442\"}},\"type\":\"scatter\"}],\"scatterternary\":[{\"marker\":{\"colorbar\":{\"outlinewidth\":0,\"ticks\":\"\"}},\"type\":\"scatterternary\"}],\"surface\":[{\"colorbar\":{\"outlinewidth\":0,\"ticks\":\"\"},\"colorscale\":[[0.0,\"#0d0887\"],[0.1111111111111111,\"#46039f\"],[0.2222222222222222,\"#7201a8\"],[0.3333333333333333,\"#9c179e\"],[0.4444444444444444,\"#bd3786\"],[0.5555555555555556,\"#d8576b\"],[0.6666666666666666,\"#ed7953\"],[0.7777777777777778,\"#fb9f3a\"],[0.8888888888888888,\"#fdca26\"],[1.0,\"#f0f921\"]],\"type\":\"surface\"}],\"table\":[{\"cells\":{\"fill\":{\"color\":\"#506784\"},\"line\":{\"color\":\"rgb(17,17,17)\"}},\"header\":{\"fill\":{\"color\":\"#2a3f5f\"},\"line\":{\"color\":\"rgb(17,17,17)\"}},\"type\":\"table\"}]},\"layout\":{\"annotationdefaults\":{\"arrowcolor\":\"#f2f5fa\",\"arrowhead\":0,\"arrowwidth\":1},\"autotypenumbers\":\"strict\",\"coloraxis\":{\"colorbar\":{\"outlinewidth\":0,\"ticks\":\"\"}},\"colorscale\":{\"diverging\":[[0,\"#8e0152\"],[0.1,\"#c51b7d\"],[0.2,\"#de77ae\"],[0.3,\"#f1b6da\"],[0.4,\"#fde0ef\"],[0.5,\"#f7f7f7\"],[0.6,\"#e6f5d0\"],[0.7,\"#b8e186\"],[0.8,\"#7fbc41\"],[0.9,\"#4d9221\"],[1,\"#276419\"]],\"sequential\":[[0.0,\"#0d0887\"],[0.1111111111111111,\"#46039f\"],[0.2222222222222222,\"#7201a8\"],[0.3333333333333333,\"#9c179e\"],[0.4444444444444444,\"#bd3786\"],[0.5555555555555556,\"#d8576b\"],[0.6666666666666666,\"#ed7953\"],[0.7777777777777778,\"#fb9f3a\"],[0.8888888888888888,\"#fdca26\"],[1.0,\"#f0f921\"]],\"sequentialminus\":[[0.0,\"#0d0887\"],[0.1111111111111111,\"#46039f\"],[0.2222222222222222,\"#7201a8\"],[0.3333333333333333,\"#9c179e\"],[0.4444444444444444,\"#bd3786\"],[0.5555555555555556,\"#d8576b\"],[0.6666666666666666,\"#ed7953\"],[0.7777777777777778,\"#fb9f3a\"],[0.8888888888888888,\"#fdca26\"],[1.0,\"#f0f921\"]]},\"colorway\":[\"#636efa\",\"#EF553B\",\"#00cc96\",\"#ab63fa\",\"#FFA15A\",\"#19d3f3\",\"#FF6692\",\"#B6E880\",\"#FF97FF\",\"#FECB52\"],\"font\":{\"color\":\"#f2f5fa\"},\"geo\":{\"bgcolor\":\"rgb(17,17,17)\",\"lakecolor\":\"rgb(17,17,17)\",\"landcolor\":\"rgb(17,17,17)\",\"showlakes\":true,\"showland\":true,\"subunitcolor\":\"#506784\"},\"hoverlabel\":{\"align\":\"left\"},\"hovermode\":\"closest\",\"mapbox\":{\"style\":\"dark\"},\"paper_bgcolor\":\"rgb(17,17,17)\",\"plot_bgcolor\":\"rgb(17,17,17)\",\"polar\":{\"angularaxis\":{\"gridcolor\":\"#506784\",\"linecolor\":\"#506784\",\"ticks\":\"\"},\"bgcolor\":\"rgb(17,17,17)\",\"radialaxis\":{\"gridcolor\":\"#506784\",\"linecolor\":\"#506784\",\"ticks\":\"\"}},\"scene\":{\"xaxis\":{\"backgroundcolor\":\"rgb(17,17,17)\",\"gridcolor\":\"#506784\",\"gridwidth\":2,\"linecolor\":\"#506784\",\"showbackground\":true,\"ticks\":\"\",\"zerolinecolor\":\"#C8D4E3\"},\"yaxis\":{\"backgroundcolor\":\"rgb(17,17,17)\",\"gridcolor\":\"#506784\",\"gridwidth\":2,\"linecolor\":\"#506784\",\"showbackground\":true,\"ticks\":\"\",\"zerolinecolor\":\"#C8D4E3\"},\"zaxis\":{\"backgroundcolor\":\"rgb(17,17,17)\",\"gridcolor\":\"#506784\",\"gridwidth\":2,\"linecolor\":\"#506784\",\"showbackground\":true,\"ticks\":\"\",\"zerolinecolor\":\"#C8D4E3\"}},\"shapedefaults\":{\"line\":{\"color\":\"#f2f5fa\"}},\"sliderdefaults\":{\"bgcolor\":\"#C8D4E3\",\"bordercolor\":\"rgb(17,17,17)\",\"borderwidth\":1,\"tickwidth\":0},\"ternary\":{\"aaxis\":{\"gridcolor\":\"#506784\",\"linecolor\":\"#506784\",\"ticks\":\"\"},\"baxis\":{\"gridcolor\":\"#506784\",\"linecolor\":\"#506784\",\"ticks\":\"\"},\"bgcolor\":\"rgb(17,17,17)\",\"caxis\":{\"gridcolor\":\"#506784\",\"linecolor\":\"#506784\",\"ticks\":\"\"}},\"title\":{\"x\":0.05},\"updatemenudefaults\":{\"bgcolor\":\"#506784\",\"borderwidth\":0},\"xaxis\":{\"automargin\":true,\"gridcolor\":\"#283442\",\"linecolor\":\"#506784\",\"ticks\":\"\",\"title\":{\"standoff\":15},\"zerolinecolor\":\"#283442\",\"zerolinewidth\":2},\"yaxis\":{\"automargin\":true,\"gridcolor\":\"#283442\",\"linecolor\":\"#506784\",\"ticks\":\"\",\"title\":{\"standoff\":15},\"zerolinecolor\":\"#283442\",\"zerolinewidth\":2}}},\"xaxis\":{\"anchor\":\"y\",\"domain\":[0.0,1.0],\"title\":{\"text\":\"Land\"}},\"yaxis\":{\"anchor\":\"x\",\"domain\":[0.0,1.0],\"title\":{\"text\":\"Ver\\u00f6ffentlichte Songs\"}},\"legend\":{\"tracegroupgap\":0},\"margin\":{\"t\":60},\"barmode\":\"relative\",\"height\":500,\"title\":{\"text\":\"Ver\\u00f6ffentlichte Songs pro Land (Top 30)\"}},                        {\"responsive\": true}                    ).then(function(){\n",
              "                            \n",
              "var gd = document.getElementById('45a1e5b7-c7bb-45aa-b7d8-6f141ee1e326');\n",
              "var x = new MutationObserver(function (mutations, observer) {{\n",
              "        var display = window.getComputedStyle(gd).display;\n",
              "        if (!display || display === 'none') {{\n",
              "            console.log([gd, 'removed!']);\n",
              "            Plotly.purge(gd);\n",
              "            observer.disconnect();\n",
              "        }}\n",
              "}});\n",
              "\n",
              "// Listen for the removal of the full notebook cells\n",
              "var notebookContainer = gd.closest('#notebook-container');\n",
              "if (notebookContainer) {{\n",
              "    x.observe(notebookContainer, {childList: true});\n",
              "}}\n",
              "\n",
              "// Listen for the clearing of the current output cell\n",
              "var outputEl = gd.closest('.output');\n",
              "if (outputEl) {{\n",
              "    x.observe(outputEl, {childList: true});\n",
              "}}\n",
              "\n",
              "                        })                };                            </script>        </div>\n",
              "</body>\n",
              "</html>"
            ]
          },
          "metadata": {}
        }
      ],
      "source": [
        "fig = px.bar(grouped_countries[:30], x=\"country_comb\", y=\"num_countries\", template=\"plotly_dark\")\n",
        "fig.update_layout(\n",
        "    height=500,\n",
        "    title=\"Veröffentlichte Songs pro Land (Top 30)\",\n",
        "    xaxis_title=\"Land\",\n",
        "    yaxis_title=\"Veröffentlichte Songs\"\n",
        ")\n",
        "fig.show()"
      ]
    },
    {
      "cell_type": "markdown",
      "id": "b34f43c6-116b-4203-8315-72a3ead641cb",
      "metadata": {
        "id": "b34f43c6-116b-4203-8315-72a3ead641cb"
      },
      "source": [
        "Es sollen alle Lieder entfernt werden welche nicht aus englischsprachigen Länger (US, UK, CA, AU, Neuseeland) sowie Deutschland, Schweiz, Österreich, Italien und Schweden stammen."
      ]
    },
    {
      "cell_type": "code",
      "execution_count": 16,
      "id": "66ff269c-7c3c-433e-a43a-cbbaff9057ab",
      "metadata": {
        "id": "66ff269c-7c3c-433e-a43a-cbbaff9057ab"
      },
      "outputs": [],
      "source": [
        "important_country_codes = [\"US\", \"GB\", \"CA\", \"AU\", \"NZ\", \"DE\", \"CH\", \"AT\", \"IT\", \"SE\"]\n",
        "\n",
        "# kleinere Inselgegenden von Amerika: Baker Island, Howland Island, Jarvis Island, Johnston Atoll, Kingman Reef, Midway Islands, Navassa Island, Palmyra Atoll, Wake Island\n",
        "minor_insular_areas_us = [\"XB\", \"XH\", \"XQ\", \"XU\", \"XM\", \"QM\", \"XV\", \"XL\", \"QW\"]\n",
        "important_country_codes.extend(minor_insular_areas_us)"
      ]
    },
    {
      "cell_type": "markdown",
      "id": "6b70ca70-2be8-4476-abdd-780bbbd9c613",
      "metadata": {
        "id": "6b70ca70-2be8-4476-abdd-780bbbd9c613"
      },
      "source": [
        "`QM` wird heute als zusätzlicher Country code für Amerika verwendet, da der Code `US` sein Limit erreicht hat. Da dieser Beschluss jedoch aus 2010 stammt, sollten die Lieder der 80er nicht beeinflusst werden?"
      ]
    },
    {
      "cell_type": "code",
      "source": [
        "by_isrc[by_isrc[\"country_code\"] == \"QM\"].sort_values(\"popularity\", ascending=False)[[\"isrc\", \"genres\", \"name\", \"artists\", \"popularity\", \"chart_power\"]]"
      ],
      "metadata": {
        "colab": {
          "base_uri": "https://localhost:8080/",
          "height": 424
        },
        "id": "sb3bSHTn0f1J",
        "outputId": "361c3c92-5ede-4d46-ee8a-fff94856028f"
      },
      "id": "sb3bSHTn0f1J",
      "execution_count": 17,
      "outputs": [
        {
          "output_type": "execute_result",
          "data": {
            "text/plain": [
              "                isrc                          genres  \\\n",
              "274154  QMKHM1600219  ['hard-rock', 'metal', 'rock']   \n",
              "274107  QMKHM1600096  ['hard-rock', 'metal', 'rock']   \n",
              "271243  QMFME1326440                ['latin', 'pop']   \n",
              "274108  QMKHM1600097  ['hard-rock', 'metal', 'rock']   \n",
              "274057  QMKHM1600034  ['hard-rock', 'metal', 'rock']   \n",
              "...              ...                             ...   \n",
              "267541  QM7281628419                       ['tango']   \n",
              "267551  QM7281713701                        ['jazz']   \n",
              "267552  QM7281713702                        ['jazz']   \n",
              "267553  QM7281713703                        ['jazz']   \n",
              "275326  QMZUC1500048                        ['jazz']   \n",
              "\n",
              "                                        name  \\\n",
              "274154                     master of puppets   \n",
              "274107  for whom the bell tolls - remastered   \n",
              "271243                     tu dama de hierro   \n",
              "274108            fade to black - remastered   \n",
              "274057           seek & destroy - remastered   \n",
              "...                                      ...   \n",
              "267541                   fuegos artificiales   \n",
              "267551                             raincheck   \n",
              "267552                              tenderly   \n",
              "267553                      hurricane connie   \n",
              "275326                             siclienne   \n",
              "\n",
              "                                    artists  popularity  chart_power  \n",
              "274154                            metallica          80          NaN  \n",
              "274107                            metallica          75          NaN  \n",
              "271243                             marisela          71          NaN  \n",
              "274108                            metallica          70          NaN  \n",
              "274057                            metallica          69          NaN  \n",
              "...                                     ...         ...          ...  \n",
              "267541  juan d'arienzo y su orquesta típica           0          NaN  \n",
              "267551                        nick brignola           0          NaN  \n",
              "267552                        nick brignola           0          NaN  \n",
              "267553                        nick brignola           0          NaN  \n",
              "275326                     alexander zonjic           0          NaN  \n",
              "\n",
              "[14398 rows x 6 columns]"
            ],
            "text/html": [
              "\n",
              "  <div id=\"df-3950172f-961f-4309-8371-d1ca467987b7\" class=\"colab-df-container\">\n",
              "    <div>\n",
              "<style scoped>\n",
              "    .dataframe tbody tr th:only-of-type {\n",
              "        vertical-align: middle;\n",
              "    }\n",
              "\n",
              "    .dataframe tbody tr th {\n",
              "        vertical-align: top;\n",
              "    }\n",
              "\n",
              "    .dataframe thead th {\n",
              "        text-align: right;\n",
              "    }\n",
              "</style>\n",
              "<table border=\"1\" class=\"dataframe\">\n",
              "  <thead>\n",
              "    <tr style=\"text-align: right;\">\n",
              "      <th></th>\n",
              "      <th>isrc</th>\n",
              "      <th>genres</th>\n",
              "      <th>name</th>\n",
              "      <th>artists</th>\n",
              "      <th>popularity</th>\n",
              "      <th>chart_power</th>\n",
              "    </tr>\n",
              "  </thead>\n",
              "  <tbody>\n",
              "    <tr>\n",
              "      <th>274154</th>\n",
              "      <td>QMKHM1600219</td>\n",
              "      <td>['hard-rock', 'metal', 'rock']</td>\n",
              "      <td>master of puppets</td>\n",
              "      <td>metallica</td>\n",
              "      <td>80</td>\n",
              "      <td>NaN</td>\n",
              "    </tr>\n",
              "    <tr>\n",
              "      <th>274107</th>\n",
              "      <td>QMKHM1600096</td>\n",
              "      <td>['hard-rock', 'metal', 'rock']</td>\n",
              "      <td>for whom the bell tolls - remastered</td>\n",
              "      <td>metallica</td>\n",
              "      <td>75</td>\n",
              "      <td>NaN</td>\n",
              "    </tr>\n",
              "    <tr>\n",
              "      <th>271243</th>\n",
              "      <td>QMFME1326440</td>\n",
              "      <td>['latin', 'pop']</td>\n",
              "      <td>tu dama de hierro</td>\n",
              "      <td>marisela</td>\n",
              "      <td>71</td>\n",
              "      <td>NaN</td>\n",
              "    </tr>\n",
              "    <tr>\n",
              "      <th>274108</th>\n",
              "      <td>QMKHM1600097</td>\n",
              "      <td>['hard-rock', 'metal', 'rock']</td>\n",
              "      <td>fade to black - remastered</td>\n",
              "      <td>metallica</td>\n",
              "      <td>70</td>\n",
              "      <td>NaN</td>\n",
              "    </tr>\n",
              "    <tr>\n",
              "      <th>274057</th>\n",
              "      <td>QMKHM1600034</td>\n",
              "      <td>['hard-rock', 'metal', 'rock']</td>\n",
              "      <td>seek &amp; destroy - remastered</td>\n",
              "      <td>metallica</td>\n",
              "      <td>69</td>\n",
              "      <td>NaN</td>\n",
              "    </tr>\n",
              "    <tr>\n",
              "      <th>...</th>\n",
              "      <td>...</td>\n",
              "      <td>...</td>\n",
              "      <td>...</td>\n",
              "      <td>...</td>\n",
              "      <td>...</td>\n",
              "      <td>...</td>\n",
              "    </tr>\n",
              "    <tr>\n",
              "      <th>267541</th>\n",
              "      <td>QM7281628419</td>\n",
              "      <td>['tango']</td>\n",
              "      <td>fuegos artificiales</td>\n",
              "      <td>juan d'arienzo y su orquesta típica</td>\n",
              "      <td>0</td>\n",
              "      <td>NaN</td>\n",
              "    </tr>\n",
              "    <tr>\n",
              "      <th>267551</th>\n",
              "      <td>QM7281713701</td>\n",
              "      <td>['jazz']</td>\n",
              "      <td>raincheck</td>\n",
              "      <td>nick brignola</td>\n",
              "      <td>0</td>\n",
              "      <td>NaN</td>\n",
              "    </tr>\n",
              "    <tr>\n",
              "      <th>267552</th>\n",
              "      <td>QM7281713702</td>\n",
              "      <td>['jazz']</td>\n",
              "      <td>tenderly</td>\n",
              "      <td>nick brignola</td>\n",
              "      <td>0</td>\n",
              "      <td>NaN</td>\n",
              "    </tr>\n",
              "    <tr>\n",
              "      <th>267553</th>\n",
              "      <td>QM7281713703</td>\n",
              "      <td>['jazz']</td>\n",
              "      <td>hurricane connie</td>\n",
              "      <td>nick brignola</td>\n",
              "      <td>0</td>\n",
              "      <td>NaN</td>\n",
              "    </tr>\n",
              "    <tr>\n",
              "      <th>275326</th>\n",
              "      <td>QMZUC1500048</td>\n",
              "      <td>['jazz']</td>\n",
              "      <td>siclienne</td>\n",
              "      <td>alexander zonjic</td>\n",
              "      <td>0</td>\n",
              "      <td>NaN</td>\n",
              "    </tr>\n",
              "  </tbody>\n",
              "</table>\n",
              "<p>14398 rows × 6 columns</p>\n",
              "</div>\n",
              "    <div class=\"colab-df-buttons\">\n",
              "\n",
              "  <div class=\"colab-df-container\">\n",
              "    <button class=\"colab-df-convert\" onclick=\"convertToInteractive('df-3950172f-961f-4309-8371-d1ca467987b7')\"\n",
              "            title=\"Convert this dataframe to an interactive table.\"\n",
              "            style=\"display:none;\">\n",
              "\n",
              "  <svg xmlns=\"http://www.w3.org/2000/svg\" height=\"24px\" viewBox=\"0 -960 960 960\">\n",
              "    <path d=\"M120-120v-720h720v720H120Zm60-500h600v-160H180v160Zm220 220h160v-160H400v160Zm0 220h160v-160H400v160ZM180-400h160v-160H180v160Zm440 0h160v-160H620v160ZM180-180h160v-160H180v160Zm440 0h160v-160H620v160Z\"/>\n",
              "  </svg>\n",
              "    </button>\n",
              "\n",
              "  <style>\n",
              "    .colab-df-container {\n",
              "      display:flex;\n",
              "      gap: 12px;\n",
              "    }\n",
              "\n",
              "    .colab-df-convert {\n",
              "      background-color: #E8F0FE;\n",
              "      border: none;\n",
              "      border-radius: 50%;\n",
              "      cursor: pointer;\n",
              "      display: none;\n",
              "      fill: #1967D2;\n",
              "      height: 32px;\n",
              "      padding: 0 0 0 0;\n",
              "      width: 32px;\n",
              "    }\n",
              "\n",
              "    .colab-df-convert:hover {\n",
              "      background-color: #E2EBFA;\n",
              "      box-shadow: 0px 1px 2px rgba(60, 64, 67, 0.3), 0px 1px 3px 1px rgba(60, 64, 67, 0.15);\n",
              "      fill: #174EA6;\n",
              "    }\n",
              "\n",
              "    .colab-df-buttons div {\n",
              "      margin-bottom: 4px;\n",
              "    }\n",
              "\n",
              "    [theme=dark] .colab-df-convert {\n",
              "      background-color: #3B4455;\n",
              "      fill: #D2E3FC;\n",
              "    }\n",
              "\n",
              "    [theme=dark] .colab-df-convert:hover {\n",
              "      background-color: #434B5C;\n",
              "      box-shadow: 0px 1px 3px 1px rgba(0, 0, 0, 0.15);\n",
              "      filter: drop-shadow(0px 1px 2px rgba(0, 0, 0, 0.3));\n",
              "      fill: #FFFFFF;\n",
              "    }\n",
              "  </style>\n",
              "\n",
              "    <script>\n",
              "      const buttonEl =\n",
              "        document.querySelector('#df-3950172f-961f-4309-8371-d1ca467987b7 button.colab-df-convert');\n",
              "      buttonEl.style.display =\n",
              "        google.colab.kernel.accessAllowed ? 'block' : 'none';\n",
              "\n",
              "      async function convertToInteractive(key) {\n",
              "        const element = document.querySelector('#df-3950172f-961f-4309-8371-d1ca467987b7');\n",
              "        const dataTable =\n",
              "          await google.colab.kernel.invokeFunction('convertToInteractive',\n",
              "                                                    [key], {});\n",
              "        if (!dataTable) return;\n",
              "\n",
              "        const docLinkHtml = 'Like what you see? Visit the ' +\n",
              "          '<a target=\"_blank\" href=https://colab.research.google.com/notebooks/data_table.ipynb>data table notebook</a>'\n",
              "          + ' to learn more about interactive tables.';\n",
              "        element.innerHTML = '';\n",
              "        dataTable['output_type'] = 'display_data';\n",
              "        await google.colab.output.renderOutput(dataTable, element);\n",
              "        const docLink = document.createElement('div');\n",
              "        docLink.innerHTML = docLinkHtml;\n",
              "        element.appendChild(docLink);\n",
              "      }\n",
              "    </script>\n",
              "  </div>\n",
              "\n",
              "\n",
              "<div id=\"df-a618e9dc-8bc6-4e96-8afb-174e58c2e295\">\n",
              "  <button class=\"colab-df-quickchart\" onclick=\"quickchart('df-a618e9dc-8bc6-4e96-8afb-174e58c2e295')\"\n",
              "            title=\"Suggest charts.\"\n",
              "            style=\"display:none;\">\n",
              "\n",
              "<svg xmlns=\"http://www.w3.org/2000/svg\" height=\"24px\"viewBox=\"0 0 24 24\"\n",
              "     width=\"24px\">\n",
              "    <g>\n",
              "        <path d=\"M19 3H5c-1.1 0-2 .9-2 2v14c0 1.1.9 2 2 2h14c1.1 0 2-.9 2-2V5c0-1.1-.9-2-2-2zM9 17H7v-7h2v7zm4 0h-2V7h2v10zm4 0h-2v-4h2v4z\"/>\n",
              "    </g>\n",
              "</svg>\n",
              "  </button>\n",
              "\n",
              "<style>\n",
              "  .colab-df-quickchart {\n",
              "    background-color: #E8F0FE;\n",
              "    border: none;\n",
              "    border-radius: 50%;\n",
              "    cursor: pointer;\n",
              "    display: none;\n",
              "    fill: #1967D2;\n",
              "    height: 32px;\n",
              "    padding: 0 0 0 0;\n",
              "    width: 32px;\n",
              "  }\n",
              "\n",
              "  .colab-df-quickchart:hover {\n",
              "    background-color: #E2EBFA;\n",
              "    box-shadow: 0px 1px 2px rgba(60, 64, 67, 0.3), 0px 1px 3px 1px rgba(60, 64, 67, 0.15);\n",
              "    fill: #174EA6;\n",
              "  }\n",
              "\n",
              "  [theme=dark] .colab-df-quickchart {\n",
              "    background-color: #3B4455;\n",
              "    fill: #D2E3FC;\n",
              "  }\n",
              "\n",
              "  [theme=dark] .colab-df-quickchart:hover {\n",
              "    background-color: #434B5C;\n",
              "    box-shadow: 0px 1px 3px 1px rgba(0, 0, 0, 0.15);\n",
              "    filter: drop-shadow(0px 1px 2px rgba(0, 0, 0, 0.3));\n",
              "    fill: #FFFFFF;\n",
              "  }\n",
              "</style>\n",
              "\n",
              "  <script>\n",
              "    async function quickchart(key) {\n",
              "      const charts = await google.colab.kernel.invokeFunction(\n",
              "          'suggestCharts', [key], {});\n",
              "    }\n",
              "    (() => {\n",
              "      let quickchartButtonEl =\n",
              "        document.querySelector('#df-a618e9dc-8bc6-4e96-8afb-174e58c2e295 button');\n",
              "      quickchartButtonEl.style.display =\n",
              "        google.colab.kernel.accessAllowed ? 'block' : 'none';\n",
              "    })();\n",
              "  </script>\n",
              "</div>\n",
              "    </div>\n",
              "  </div>\n"
            ]
          },
          "metadata": {},
          "execution_count": 17
        }
      ]
    },
    {
      "cell_type": "markdown",
      "source": [
        "Herausfiltern der Lieder aus den \"wichtigen\" Länder."
      ],
      "metadata": {
        "id": "Z4a5BCxO1ULo"
      },
      "id": "Z4a5BCxO1ULo"
    },
    {
      "cell_type": "code",
      "execution_count": 18,
      "id": "02c2236c-83b7-48f7-927e-01da65798b22",
      "metadata": {
        "id": "02c2236c-83b7-48f7-927e-01da65798b22"
      },
      "outputs": [],
      "source": [
        "reduced_isrc = by_isrc.copy()\n",
        "reduced_isrc = reduced_isrc[reduced_isrc[\"country_code\"].isin(important_country_codes)]\n",
        "reduced_isrc[\"genres\"] = reduced_isrc[\"genres\"].apply(literal_eval)"
      ]
    },
    {
      "cell_type": "code",
      "source": [
        "print(f\"Die Anzahl der Lieder hat sich von {by_isrc.shape[0]} auf {reduced_isrc.shape[0]} verringert.\")"
      ],
      "metadata": {
        "colab": {
          "base_uri": "https://localhost:8080/"
        },
        "id": "E5qf_wtI8jXm",
        "outputId": "3aaf4d86-7438-4e3d-b21c-fee43b25f814"
      },
      "id": "E5qf_wtI8jXm",
      "execution_count": 19,
      "outputs": [
        {
          "output_type": "stream",
          "name": "stdout",
          "text": [
            "Die Anzahl der Lieder hat sich von 416154 auf 251101 verringert.\n"
          ]
        }
      ]
    },
    {
      "cell_type": "markdown",
      "source": [
        "Gruppieren der Daten nach den Genres => Welche Genres waren in den wichtigen Ländern relevant?"
      ],
      "metadata": {
        "id": "453c1d8f-b6f3-4172-9293-4470f6f30f33"
      },
      "id": "453c1d8f-b6f3-4172-9293-4470f6f30f33"
    },
    {
      "cell_type": "code",
      "source": [
        "def filter_important_genres(df):\n",
        "  important_genres = df.copy()\n",
        "  important_genres = important_genres.explode(\"genres\")\n",
        "  important_genres[\"num\"] = 0\n",
        "  important_genres = important_genres[[\"genres\", \"num\"]]\n",
        "  important_genres = important_genres.groupby(\"genres\").count()\n",
        "  important_genres.reset_index(inplace=True)\n",
        "  important_genres = important_genres.sort_values(\"num\", ascending=False)\n",
        "  return important_genres"
      ],
      "metadata": {
        "id": "Ofr545cC1rCg"
      },
      "id": "Ofr545cC1rCg",
      "execution_count": 20,
      "outputs": []
    },
    {
      "cell_type": "code",
      "source": [
        "filter_important_genres(reduced_isrc)"
      ],
      "metadata": {
        "colab": {
          "base_uri": "https://localhost:8080/",
          "height": 424
        },
        "id": "N7crWyhz2k4W",
        "outputId": "97ce3cb9-5446-46b9-a3d2-1b754c5a2662"
      },
      "id": "N7crWyhz2k4W",
      "execution_count": 21,
      "outputs": [
        {
          "output_type": "execute_result",
          "data": {
            "text/plain": [
              "       genres    num\n",
              "16  classical  63432\n",
              "87       rock  60598\n",
              "77        pop  48841\n",
              "38     german  28985\n",
              "62       jazz  22632\n",
              "..        ...    ...\n",
              "28    dubstep      2\n",
              "12   cantopop      1\n",
              "53        idm      1\n",
              "69  metalcore      1\n",
              "90    romance      1\n",
              "\n",
              "[108 rows x 2 columns]"
            ],
            "text/html": [
              "\n",
              "  <div id=\"df-7442c532-8452-4c97-948e-bbb72926e150\" class=\"colab-df-container\">\n",
              "    <div>\n",
              "<style scoped>\n",
              "    .dataframe tbody tr th:only-of-type {\n",
              "        vertical-align: middle;\n",
              "    }\n",
              "\n",
              "    .dataframe tbody tr th {\n",
              "        vertical-align: top;\n",
              "    }\n",
              "\n",
              "    .dataframe thead th {\n",
              "        text-align: right;\n",
              "    }\n",
              "</style>\n",
              "<table border=\"1\" class=\"dataframe\">\n",
              "  <thead>\n",
              "    <tr style=\"text-align: right;\">\n",
              "      <th></th>\n",
              "      <th>genres</th>\n",
              "      <th>num</th>\n",
              "    </tr>\n",
              "  </thead>\n",
              "  <tbody>\n",
              "    <tr>\n",
              "      <th>16</th>\n",
              "      <td>classical</td>\n",
              "      <td>63432</td>\n",
              "    </tr>\n",
              "    <tr>\n",
              "      <th>87</th>\n",
              "      <td>rock</td>\n",
              "      <td>60598</td>\n",
              "    </tr>\n",
              "    <tr>\n",
              "      <th>77</th>\n",
              "      <td>pop</td>\n",
              "      <td>48841</td>\n",
              "    </tr>\n",
              "    <tr>\n",
              "      <th>38</th>\n",
              "      <td>german</td>\n",
              "      <td>28985</td>\n",
              "    </tr>\n",
              "    <tr>\n",
              "      <th>62</th>\n",
              "      <td>jazz</td>\n",
              "      <td>22632</td>\n",
              "    </tr>\n",
              "    <tr>\n",
              "      <th>...</th>\n",
              "      <td>...</td>\n",
              "      <td>...</td>\n",
              "    </tr>\n",
              "    <tr>\n",
              "      <th>28</th>\n",
              "      <td>dubstep</td>\n",
              "      <td>2</td>\n",
              "    </tr>\n",
              "    <tr>\n",
              "      <th>12</th>\n",
              "      <td>cantopop</td>\n",
              "      <td>1</td>\n",
              "    </tr>\n",
              "    <tr>\n",
              "      <th>53</th>\n",
              "      <td>idm</td>\n",
              "      <td>1</td>\n",
              "    </tr>\n",
              "    <tr>\n",
              "      <th>69</th>\n",
              "      <td>metalcore</td>\n",
              "      <td>1</td>\n",
              "    </tr>\n",
              "    <tr>\n",
              "      <th>90</th>\n",
              "      <td>romance</td>\n",
              "      <td>1</td>\n",
              "    </tr>\n",
              "  </tbody>\n",
              "</table>\n",
              "<p>108 rows × 2 columns</p>\n",
              "</div>\n",
              "    <div class=\"colab-df-buttons\">\n",
              "\n",
              "  <div class=\"colab-df-container\">\n",
              "    <button class=\"colab-df-convert\" onclick=\"convertToInteractive('df-7442c532-8452-4c97-948e-bbb72926e150')\"\n",
              "            title=\"Convert this dataframe to an interactive table.\"\n",
              "            style=\"display:none;\">\n",
              "\n",
              "  <svg xmlns=\"http://www.w3.org/2000/svg\" height=\"24px\" viewBox=\"0 -960 960 960\">\n",
              "    <path d=\"M120-120v-720h720v720H120Zm60-500h600v-160H180v160Zm220 220h160v-160H400v160Zm0 220h160v-160H400v160ZM180-400h160v-160H180v160Zm440 0h160v-160H620v160ZM180-180h160v-160H180v160Zm440 0h160v-160H620v160Z\"/>\n",
              "  </svg>\n",
              "    </button>\n",
              "\n",
              "  <style>\n",
              "    .colab-df-container {\n",
              "      display:flex;\n",
              "      gap: 12px;\n",
              "    }\n",
              "\n",
              "    .colab-df-convert {\n",
              "      background-color: #E8F0FE;\n",
              "      border: none;\n",
              "      border-radius: 50%;\n",
              "      cursor: pointer;\n",
              "      display: none;\n",
              "      fill: #1967D2;\n",
              "      height: 32px;\n",
              "      padding: 0 0 0 0;\n",
              "      width: 32px;\n",
              "    }\n",
              "\n",
              "    .colab-df-convert:hover {\n",
              "      background-color: #E2EBFA;\n",
              "      box-shadow: 0px 1px 2px rgba(60, 64, 67, 0.3), 0px 1px 3px 1px rgba(60, 64, 67, 0.15);\n",
              "      fill: #174EA6;\n",
              "    }\n",
              "\n",
              "    .colab-df-buttons div {\n",
              "      margin-bottom: 4px;\n",
              "    }\n",
              "\n",
              "    [theme=dark] .colab-df-convert {\n",
              "      background-color: #3B4455;\n",
              "      fill: #D2E3FC;\n",
              "    }\n",
              "\n",
              "    [theme=dark] .colab-df-convert:hover {\n",
              "      background-color: #434B5C;\n",
              "      box-shadow: 0px 1px 3px 1px rgba(0, 0, 0, 0.15);\n",
              "      filter: drop-shadow(0px 1px 2px rgba(0, 0, 0, 0.3));\n",
              "      fill: #FFFFFF;\n",
              "    }\n",
              "  </style>\n",
              "\n",
              "    <script>\n",
              "      const buttonEl =\n",
              "        document.querySelector('#df-7442c532-8452-4c97-948e-bbb72926e150 button.colab-df-convert');\n",
              "      buttonEl.style.display =\n",
              "        google.colab.kernel.accessAllowed ? 'block' : 'none';\n",
              "\n",
              "      async function convertToInteractive(key) {\n",
              "        const element = document.querySelector('#df-7442c532-8452-4c97-948e-bbb72926e150');\n",
              "        const dataTable =\n",
              "          await google.colab.kernel.invokeFunction('convertToInteractive',\n",
              "                                                    [key], {});\n",
              "        if (!dataTable) return;\n",
              "\n",
              "        const docLinkHtml = 'Like what you see? Visit the ' +\n",
              "          '<a target=\"_blank\" href=https://colab.research.google.com/notebooks/data_table.ipynb>data table notebook</a>'\n",
              "          + ' to learn more about interactive tables.';\n",
              "        element.innerHTML = '';\n",
              "        dataTable['output_type'] = 'display_data';\n",
              "        await google.colab.output.renderOutput(dataTable, element);\n",
              "        const docLink = document.createElement('div');\n",
              "        docLink.innerHTML = docLinkHtml;\n",
              "        element.appendChild(docLink);\n",
              "      }\n",
              "    </script>\n",
              "  </div>\n",
              "\n",
              "\n",
              "<div id=\"df-093766f0-0c33-41be-8965-c95089e368ef\">\n",
              "  <button class=\"colab-df-quickchart\" onclick=\"quickchart('df-093766f0-0c33-41be-8965-c95089e368ef')\"\n",
              "            title=\"Suggest charts.\"\n",
              "            style=\"display:none;\">\n",
              "\n",
              "<svg xmlns=\"http://www.w3.org/2000/svg\" height=\"24px\"viewBox=\"0 0 24 24\"\n",
              "     width=\"24px\">\n",
              "    <g>\n",
              "        <path d=\"M19 3H5c-1.1 0-2 .9-2 2v14c0 1.1.9 2 2 2h14c1.1 0 2-.9 2-2V5c0-1.1-.9-2-2-2zM9 17H7v-7h2v7zm4 0h-2V7h2v10zm4 0h-2v-4h2v4z\"/>\n",
              "    </g>\n",
              "</svg>\n",
              "  </button>\n",
              "\n",
              "<style>\n",
              "  .colab-df-quickchart {\n",
              "    background-color: #E8F0FE;\n",
              "    border: none;\n",
              "    border-radius: 50%;\n",
              "    cursor: pointer;\n",
              "    display: none;\n",
              "    fill: #1967D2;\n",
              "    height: 32px;\n",
              "    padding: 0 0 0 0;\n",
              "    width: 32px;\n",
              "  }\n",
              "\n",
              "  .colab-df-quickchart:hover {\n",
              "    background-color: #E2EBFA;\n",
              "    box-shadow: 0px 1px 2px rgba(60, 64, 67, 0.3), 0px 1px 3px 1px rgba(60, 64, 67, 0.15);\n",
              "    fill: #174EA6;\n",
              "  }\n",
              "\n",
              "  [theme=dark] .colab-df-quickchart {\n",
              "    background-color: #3B4455;\n",
              "    fill: #D2E3FC;\n",
              "  }\n",
              "\n",
              "  [theme=dark] .colab-df-quickchart:hover {\n",
              "    background-color: #434B5C;\n",
              "    box-shadow: 0px 1px 3px 1px rgba(0, 0, 0, 0.15);\n",
              "    filter: drop-shadow(0px 1px 2px rgba(0, 0, 0, 0.3));\n",
              "    fill: #FFFFFF;\n",
              "  }\n",
              "</style>\n",
              "\n",
              "  <script>\n",
              "    async function quickchart(key) {\n",
              "      const charts = await google.colab.kernel.invokeFunction(\n",
              "          'suggestCharts', [key], {});\n",
              "    }\n",
              "    (() => {\n",
              "      let quickchartButtonEl =\n",
              "        document.querySelector('#df-093766f0-0c33-41be-8965-c95089e368ef button');\n",
              "      quickchartButtonEl.style.display =\n",
              "        google.colab.kernel.accessAllowed ? 'block' : 'none';\n",
              "    })();\n",
              "  </script>\n",
              "</div>\n",
              "    </div>\n",
              "  </div>\n"
            ]
          },
          "metadata": {},
          "execution_count": 21
        }
      ]
    },
    {
      "cell_type": "markdown",
      "source": [
        "Am meisten Lieder wurden für das Genre Klassik veröffentlicht. Da dieses Genre nicht wirklich relevant ist, müssen zunächst die irrelevanten Genres entfernt werden. Hiebei gibt es zwei verschiedene Wege. Verfügt ein Künstler sowohl über ein erwünschtes als auch ein unerwünschtes Genre, so können entweder alle Songs von ihm behalten oder entfernt werden. Zunächst wird geprüft, wie häufig ein solcher Fall eintritt."
      ],
      "metadata": {
        "id": "134YcM5O2sUG"
      },
      "id": "134YcM5O2sUG"
    },
    {
      "cell_type": "code",
      "source": [
        "unwanted_genres = [\"classical\", \"jazz\", \"folk\", \"french\", \"turkish\", \"gospel\", \"samba\", \"piano\", \"mpb\", \"sertanejo\", \"pagode\", \"sleep\", \"forro\", \"malay\", \"anime\",\n",
        "                 \"j-idol\", \"comedy\", \"mandopop\", \"cantopop\", \"show-tunes\", \"emo\", \"romance\", \"j-dance\", \"chill\", \"world-music\", \"iranian\", \"idm\", \"metalcore\",\n",
        "                 \"hardstyle\", \"opera\", \"k-pop\", \"j-pop\", \"j-rock\", \"happy\"]"
      ],
      "metadata": {
        "id": "KA0W5sPN3crZ"
      },
      "id": "KA0W5sPN3crZ",
      "execution_count": 22,
      "outputs": []
    },
    {
      "cell_type": "code",
      "source": [
        "occ_unwanted_and_wanted = by_isrc.copy()\n",
        "occ_unwanted_and_wanted = occ_unwanted_and_wanted[[\"genres\"]]\n",
        "occ_unwanted_and_wanted[\"genres\"] = occ_unwanted_and_wanted[\"genres\"].apply(literal_eval)\n",
        "occ_unwanted_and_wanted = occ_unwanted_and_wanted.explode(\"genres\")"
      ],
      "metadata": {
        "id": "hTVjnyabFJVg"
      },
      "id": "hTVjnyabFJVg",
      "execution_count": 23,
      "outputs": []
    },
    {
      "cell_type": "code",
      "source": [
        "wanted_genres = list(set(occ_unwanted_and_wanted[\"genres\"].unique()).difference(unwanted_genres))"
      ],
      "metadata": {
        "id": "QRNKt8G1IcDY"
      },
      "id": "QRNKt8G1IcDY",
      "execution_count": 24,
      "outputs": []
    },
    {
      "cell_type": "code",
      "source": [
        "def filter_row(row):\n",
        "    has_wanted_genre = any(genre in row['genres'] for genre in wanted_genres)\n",
        "    has_not_wanted_genre = any(genre in row['genres'] for genre in unwanted_genres)\n",
        "    return has_wanted_genre and has_not_wanted_genre"
      ],
      "metadata": {
        "id": "sR4UY0NfJW7j"
      },
      "id": "sR4UY0NfJW7j",
      "execution_count": 25,
      "outputs": []
    },
    {
      "cell_type": "code",
      "source": [
        "occ_unwanted_and_wanted_df = reduced_isrc[reduced_isrc.apply(filter_row, axis=1)]"
      ],
      "metadata": {
        "id": "TLWuQzkaJel3"
      },
      "id": "TLWuQzkaJel3",
      "execution_count": 26,
      "outputs": []
    },
    {
      "cell_type": "code",
      "source": [
        "print(f\"Insgesamt gibt es {occ_unwanted_and_wanted_df.shape[0]} Lieder, welche über ein erwünschtes und ein unerwünschtes Genre verfügen.\")"
      ],
      "metadata": {
        "colab": {
          "base_uri": "https://localhost:8080/"
        },
        "id": "2Ggu39mSLEQj",
        "outputId": "592e3c24-8380-4df9-c95e-6660ab568ab3"
      },
      "id": "2Ggu39mSLEQj",
      "execution_count": 27,
      "outputs": [
        {
          "output_type": "stream",
          "name": "stdout",
          "text": [
            "Insgesamt gibt es 48318 Lieder, welche über ein erwünschtes und ein unerwünschtes Genre verfügen.\n"
          ]
        }
      ]
    },
    {
      "cell_type": "code",
      "source": [
        "print(f\"Hierbei gibt es {len(list(occ_unwanted_and_wanted_df.genres.astype(str).unique()))} verschiedene Kombinationen der Genres.\")"
      ],
      "metadata": {
        "colab": {
          "base_uri": "https://localhost:8080/"
        },
        "id": "qvtwC9e8LXRe",
        "outputId": "44bdb56f-da2f-4d35-aabb-aa2700b7bed5"
      },
      "id": "qvtwC9e8LXRe",
      "execution_count": 28,
      "outputs": [
        {
          "output_type": "stream",
          "name": "stdout",
          "text": [
            "Hierbei gibt es 582 verschiedene Kombinationen der Genres.\n"
          ]
        }
      ]
    },
    {
      "cell_type": "markdown",
      "source": [
        "# Visualisierung Kombination"
      ],
      "metadata": {
        "id": "J2jUE4zj7hv9"
      },
      "id": "J2jUE4zj7hv9"
    },
    {
      "cell_type": "markdown",
      "source": [
        "Es werden alle Songs entfernt, welche mindestens ein unerwünschtes Feature beinhalten."
      ],
      "metadata": {
        "id": "FjBneHX2NRIM"
      },
      "id": "FjBneHX2NRIM"
    },
    {
      "cell_type": "code",
      "source": [
        "by_isrc_sub = by_isrc.copy()\n",
        "by_isrc_sub = by_isrc_sub[['isrc', 'genres']]\n",
        "by_isrc_sub = by_isrc_sub[~by_isrc_sub['genres'].str.contains('|'.join(unwanted_genres))]\n",
        "by_isrc_sub['genres'] = by_isrc_sub['genres'].apply(literal_eval)"
      ],
      "metadata": {
        "id": "05DV79He8D2x"
      },
      "id": "05DV79He8D2x",
      "execution_count": 29,
      "outputs": []
    },
    {
      "cell_type": "markdown",
      "source": [
        "Das neu entstandene DataFrame soll nun mit dem bereits auf die wichtigen Länder reduzierten DataFrame gemerged werden."
      ],
      "metadata": {
        "id": "k-LRdEMEOBRV"
      },
      "id": "k-LRdEMEOBRV"
    },
    {
      "cell_type": "code",
      "source": [
        "#reduced_isrc.drop(columns=\"genres\", inplace=True)"
      ],
      "metadata": {
        "id": "oWJVNaOO9bVB"
      },
      "id": "oWJVNaOO9bVB",
      "execution_count": 30,
      "outputs": []
    },
    {
      "cell_type": "code",
      "source": [
        "reduced_isrc.shape, by_isrc_sub.shape"
      ],
      "metadata": {
        "colab": {
          "base_uri": "https://localhost:8080/"
        },
        "id": "hZgPx26U95EE",
        "outputId": "5b0aa039-158a-4d00-9179-ea68f2ef4d77"
      },
      "id": "hZgPx26U95EE",
      "execution_count": 31,
      "outputs": [
        {
          "output_type": "execute_result",
          "data": {
            "text/plain": [
              "((251101, 27), (220702, 2))"
            ]
          },
          "metadata": {},
          "execution_count": 31
        }
      ]
    },
    {
      "cell_type": "code",
      "source": [
        "reduced_isrc = reduced_isrc.merge(by_isrc_sub[[\"isrc\"]], how=\"inner\", on=\"isrc\")"
      ],
      "metadata": {
        "id": "kX-Kd0rr8Lz7"
      },
      "id": "kX-Kd0rr8Lz7",
      "execution_count": 32,
      "outputs": []
    },
    {
      "cell_type": "code",
      "source": [
        "print(f\"Die Anzahl der Songs hat sich weiter auf {reduced_isrc.shape[0]} verringert. Die Anzahl der Features ist bei {reduced_isrc.shape[1]} geblieben.\")"
      ],
      "metadata": {
        "colab": {
          "base_uri": "https://localhost:8080/"
        },
        "id": "zuzCyg7P-H6_",
        "outputId": "ec45fffb-a3c1-4185-a5da-873903fc164e"
      },
      "id": "zuzCyg7P-H6_",
      "execution_count": 33,
      "outputs": [
        {
          "output_type": "stream",
          "name": "stdout",
          "text": [
            "Die Anzahl der Songs hat sich weiter auf 139629 verringert. Die Anzahl der Features ist bei 27 geblieben.\n"
          ]
        }
      ]
    },
    {
      "cell_type": "code",
      "source": [
        "important_genres = filter_important_genres(reduced_isrc)\n",
        "important_genres = important_genres.sort_values(\"num\", ascending=False)\n",
        "important_genres.head(10)"
      ],
      "metadata": {
        "colab": {
          "base_uri": "https://localhost:8080/",
          "height": 363
        },
        "id": "PuEaOWbI4oaN",
        "outputId": "c096457c-7967-4975-c13c-27ae847d0445"
      },
      "id": "PuEaOWbI4oaN",
      "execution_count": 34,
      "outputs": [
        {
          "output_type": "execute_result",
          "data": {
            "text/plain": [
              "       genres    num\n",
              "61       rock  52805\n",
              "51        pop  43525\n",
              "56       punk  16552\n",
              "14    country  12353\n",
              "47      metal  11743\n",
              "35  hard-rock   9228\n",
              "29     german   8980\n",
              "20      disco   8065\n",
              "70    swedish   7964\n",
              "68       soul   7289"
            ],
            "text/html": [
              "\n",
              "  <div id=\"df-c2ee8efc-4a94-4499-8274-3bdeacfb7b0c\" class=\"colab-df-container\">\n",
              "    <div>\n",
              "<style scoped>\n",
              "    .dataframe tbody tr th:only-of-type {\n",
              "        vertical-align: middle;\n",
              "    }\n",
              "\n",
              "    .dataframe tbody tr th {\n",
              "        vertical-align: top;\n",
              "    }\n",
              "\n",
              "    .dataframe thead th {\n",
              "        text-align: right;\n",
              "    }\n",
              "</style>\n",
              "<table border=\"1\" class=\"dataframe\">\n",
              "  <thead>\n",
              "    <tr style=\"text-align: right;\">\n",
              "      <th></th>\n",
              "      <th>genres</th>\n",
              "      <th>num</th>\n",
              "    </tr>\n",
              "  </thead>\n",
              "  <tbody>\n",
              "    <tr>\n",
              "      <th>61</th>\n",
              "      <td>rock</td>\n",
              "      <td>52805</td>\n",
              "    </tr>\n",
              "    <tr>\n",
              "      <th>51</th>\n",
              "      <td>pop</td>\n",
              "      <td>43525</td>\n",
              "    </tr>\n",
              "    <tr>\n",
              "      <th>56</th>\n",
              "      <td>punk</td>\n",
              "      <td>16552</td>\n",
              "    </tr>\n",
              "    <tr>\n",
              "      <th>14</th>\n",
              "      <td>country</td>\n",
              "      <td>12353</td>\n",
              "    </tr>\n",
              "    <tr>\n",
              "      <th>47</th>\n",
              "      <td>metal</td>\n",
              "      <td>11743</td>\n",
              "    </tr>\n",
              "    <tr>\n",
              "      <th>35</th>\n",
              "      <td>hard-rock</td>\n",
              "      <td>9228</td>\n",
              "    </tr>\n",
              "    <tr>\n",
              "      <th>29</th>\n",
              "      <td>german</td>\n",
              "      <td>8980</td>\n",
              "    </tr>\n",
              "    <tr>\n",
              "      <th>20</th>\n",
              "      <td>disco</td>\n",
              "      <td>8065</td>\n",
              "    </tr>\n",
              "    <tr>\n",
              "      <th>70</th>\n",
              "      <td>swedish</td>\n",
              "      <td>7964</td>\n",
              "    </tr>\n",
              "    <tr>\n",
              "      <th>68</th>\n",
              "      <td>soul</td>\n",
              "      <td>7289</td>\n",
              "    </tr>\n",
              "  </tbody>\n",
              "</table>\n",
              "</div>\n",
              "    <div class=\"colab-df-buttons\">\n",
              "\n",
              "  <div class=\"colab-df-container\">\n",
              "    <button class=\"colab-df-convert\" onclick=\"convertToInteractive('df-c2ee8efc-4a94-4499-8274-3bdeacfb7b0c')\"\n",
              "            title=\"Convert this dataframe to an interactive table.\"\n",
              "            style=\"display:none;\">\n",
              "\n",
              "  <svg xmlns=\"http://www.w3.org/2000/svg\" height=\"24px\" viewBox=\"0 -960 960 960\">\n",
              "    <path d=\"M120-120v-720h720v720H120Zm60-500h600v-160H180v160Zm220 220h160v-160H400v160Zm0 220h160v-160H400v160ZM180-400h160v-160H180v160Zm440 0h160v-160H620v160ZM180-180h160v-160H180v160Zm440 0h160v-160H620v160Z\"/>\n",
              "  </svg>\n",
              "    </button>\n",
              "\n",
              "  <style>\n",
              "    .colab-df-container {\n",
              "      display:flex;\n",
              "      gap: 12px;\n",
              "    }\n",
              "\n",
              "    .colab-df-convert {\n",
              "      background-color: #E8F0FE;\n",
              "      border: none;\n",
              "      border-radius: 50%;\n",
              "      cursor: pointer;\n",
              "      display: none;\n",
              "      fill: #1967D2;\n",
              "      height: 32px;\n",
              "      padding: 0 0 0 0;\n",
              "      width: 32px;\n",
              "    }\n",
              "\n",
              "    .colab-df-convert:hover {\n",
              "      background-color: #E2EBFA;\n",
              "      box-shadow: 0px 1px 2px rgba(60, 64, 67, 0.3), 0px 1px 3px 1px rgba(60, 64, 67, 0.15);\n",
              "      fill: #174EA6;\n",
              "    }\n",
              "\n",
              "    .colab-df-buttons div {\n",
              "      margin-bottom: 4px;\n",
              "    }\n",
              "\n",
              "    [theme=dark] .colab-df-convert {\n",
              "      background-color: #3B4455;\n",
              "      fill: #D2E3FC;\n",
              "    }\n",
              "\n",
              "    [theme=dark] .colab-df-convert:hover {\n",
              "      background-color: #434B5C;\n",
              "      box-shadow: 0px 1px 3px 1px rgba(0, 0, 0, 0.15);\n",
              "      filter: drop-shadow(0px 1px 2px rgba(0, 0, 0, 0.3));\n",
              "      fill: #FFFFFF;\n",
              "    }\n",
              "  </style>\n",
              "\n",
              "    <script>\n",
              "      const buttonEl =\n",
              "        document.querySelector('#df-c2ee8efc-4a94-4499-8274-3bdeacfb7b0c button.colab-df-convert');\n",
              "      buttonEl.style.display =\n",
              "        google.colab.kernel.accessAllowed ? 'block' : 'none';\n",
              "\n",
              "      async function convertToInteractive(key) {\n",
              "        const element = document.querySelector('#df-c2ee8efc-4a94-4499-8274-3bdeacfb7b0c');\n",
              "        const dataTable =\n",
              "          await google.colab.kernel.invokeFunction('convertToInteractive',\n",
              "                                                    [key], {});\n",
              "        if (!dataTable) return;\n",
              "\n",
              "        const docLinkHtml = 'Like what you see? Visit the ' +\n",
              "          '<a target=\"_blank\" href=https://colab.research.google.com/notebooks/data_table.ipynb>data table notebook</a>'\n",
              "          + ' to learn more about interactive tables.';\n",
              "        element.innerHTML = '';\n",
              "        dataTable['output_type'] = 'display_data';\n",
              "        await google.colab.output.renderOutput(dataTable, element);\n",
              "        const docLink = document.createElement('div');\n",
              "        docLink.innerHTML = docLinkHtml;\n",
              "        element.appendChild(docLink);\n",
              "      }\n",
              "    </script>\n",
              "  </div>\n",
              "\n",
              "\n",
              "<div id=\"df-4fb7fc4b-02d5-4b93-a59c-e178b6d96497\">\n",
              "  <button class=\"colab-df-quickchart\" onclick=\"quickchart('df-4fb7fc4b-02d5-4b93-a59c-e178b6d96497')\"\n",
              "            title=\"Suggest charts.\"\n",
              "            style=\"display:none;\">\n",
              "\n",
              "<svg xmlns=\"http://www.w3.org/2000/svg\" height=\"24px\"viewBox=\"0 0 24 24\"\n",
              "     width=\"24px\">\n",
              "    <g>\n",
              "        <path d=\"M19 3H5c-1.1 0-2 .9-2 2v14c0 1.1.9 2 2 2h14c1.1 0 2-.9 2-2V5c0-1.1-.9-2-2-2zM9 17H7v-7h2v7zm4 0h-2V7h2v10zm4 0h-2v-4h2v4z\"/>\n",
              "    </g>\n",
              "</svg>\n",
              "  </button>\n",
              "\n",
              "<style>\n",
              "  .colab-df-quickchart {\n",
              "    background-color: #E8F0FE;\n",
              "    border: none;\n",
              "    border-radius: 50%;\n",
              "    cursor: pointer;\n",
              "    display: none;\n",
              "    fill: #1967D2;\n",
              "    height: 32px;\n",
              "    padding: 0 0 0 0;\n",
              "    width: 32px;\n",
              "  }\n",
              "\n",
              "  .colab-df-quickchart:hover {\n",
              "    background-color: #E2EBFA;\n",
              "    box-shadow: 0px 1px 2px rgba(60, 64, 67, 0.3), 0px 1px 3px 1px rgba(60, 64, 67, 0.15);\n",
              "    fill: #174EA6;\n",
              "  }\n",
              "\n",
              "  [theme=dark] .colab-df-quickchart {\n",
              "    background-color: #3B4455;\n",
              "    fill: #D2E3FC;\n",
              "  }\n",
              "\n",
              "  [theme=dark] .colab-df-quickchart:hover {\n",
              "    background-color: #434B5C;\n",
              "    box-shadow: 0px 1px 3px 1px rgba(0, 0, 0, 0.15);\n",
              "    filter: drop-shadow(0px 1px 2px rgba(0, 0, 0, 0.3));\n",
              "    fill: #FFFFFF;\n",
              "  }\n",
              "</style>\n",
              "\n",
              "  <script>\n",
              "    async function quickchart(key) {\n",
              "      const charts = await google.colab.kernel.invokeFunction(\n",
              "          'suggestCharts', [key], {});\n",
              "    }\n",
              "    (() => {\n",
              "      let quickchartButtonEl =\n",
              "        document.querySelector('#df-4fb7fc4b-02d5-4b93-a59c-e178b6d96497 button');\n",
              "      quickchartButtonEl.style.display =\n",
              "        google.colab.kernel.accessAllowed ? 'block' : 'none';\n",
              "    })();\n",
              "  </script>\n",
              "</div>\n",
              "    </div>\n",
              "  </div>\n"
            ]
          },
          "metadata": {},
          "execution_count": 34
        }
      ]
    },
    {
      "cell_type": "code",
      "source": [
        "fig = px.bar(important_genres[:30], x=\"genres\", y=\"num\", template=\"plotly_dark\")\n",
        "fig.update_layout(\n",
        "    height=500,\n",
        "    title=\"Veröffentlichte Songs pro Genre in den wichtigen Ländern (Top 30)\",\n",
        "    xaxis_title=\"Genre\",\n",
        "    yaxis_title=\"Veröffentlichte Songs\"\n",
        ")\n",
        "fig.show()"
      ],
      "metadata": {
        "colab": {
          "base_uri": "https://localhost:8080/",
          "height": 517
        },
        "id": "2D2uh8pv4o_A",
        "outputId": "72ebc8b1-6af9-4425-bdba-3ace44e4b082"
      },
      "id": "2D2uh8pv4o_A",
      "execution_count": 35,
      "outputs": [
        {
          "output_type": "display_data",
          "data": {
            "text/html": [
              "<html>\n",
              "<head><meta charset=\"utf-8\" /></head>\n",
              "<body>\n",
              "    <div>            <script src=\"https://cdnjs.cloudflare.com/ajax/libs/mathjax/2.7.5/MathJax.js?config=TeX-AMS-MML_SVG\"></script><script type=\"text/javascript\">if (window.MathJax && window.MathJax.Hub && window.MathJax.Hub.Config) {window.MathJax.Hub.Config({SVG: {font: \"STIX-Web\"}});}</script>                <script type=\"text/javascript\">window.PlotlyConfig = {MathJaxConfig: 'local'};</script>\n",
              "        <script charset=\"utf-8\" src=\"https://cdn.plot.ly/plotly-2.24.1.min.js\"></script>                <div id=\"966e16eb-8b9e-4d50-8457-5c17b65c146b\" class=\"plotly-graph-div\" style=\"height:500px; width:100%;\"></div>            <script type=\"text/javascript\">                                    window.PLOTLYENV=window.PLOTLYENV || {};                                    if (document.getElementById(\"966e16eb-8b9e-4d50-8457-5c17b65c146b\")) {                    Plotly.newPlot(                        \"966e16eb-8b9e-4d50-8457-5c17b65c146b\",                        [{\"alignmentgroup\":\"True\",\"hovertemplate\":\"genres=%{x}\\u003cbr\\u003enum=%{y}\\u003cextra\\u003e\\u003c\\u002fextra\\u003e\",\"legendgroup\":\"\",\"marker\":{\"color\":\"#636efa\",\"pattern\":{\"shape\":\"\"}},\"name\":\"\",\"offsetgroup\":\"\",\"orientation\":\"v\",\"showlegend\":false,\"textposition\":\"auto\",\"x\":[\"rock\",\"pop\",\"punk\",\"country\",\"metal\",\"hard-rock\",\"german\",\"disco\",\"swedish\",\"soul\",\"blues\",\"punk-rock\",\"synth-pop\",\"alternative\",\"british\",\"alt-rock\",\"funk\",\"hardcore\",\"singer-songwriter\",\"songwriter\",\"dance\",\"reggae\",\"indie\",\"r-n-b\",\"industrial\",\"hip-hop\",\"dub\",\"power-pop\",\"salsa\",\"goth\"],\"xaxis\":\"x\",\"y\":[52805,43525,16552,12353,11743,9228,8980,8065,7964,7289,7118,6372,6369,6126,6000,5847,5616,5138,3542,3539,3469,3376,3289,2783,2512,2247,2176,2174,1959,1822],\"yaxis\":\"y\",\"type\":\"bar\"}],                        {\"template\":{\"data\":{\"barpolar\":[{\"marker\":{\"line\":{\"color\":\"rgb(17,17,17)\",\"width\":0.5},\"pattern\":{\"fillmode\":\"overlay\",\"size\":10,\"solidity\":0.2}},\"type\":\"barpolar\"}],\"bar\":[{\"error_x\":{\"color\":\"#f2f5fa\"},\"error_y\":{\"color\":\"#f2f5fa\"},\"marker\":{\"line\":{\"color\":\"rgb(17,17,17)\",\"width\":0.5},\"pattern\":{\"fillmode\":\"overlay\",\"size\":10,\"solidity\":0.2}},\"type\":\"bar\"}],\"carpet\":[{\"aaxis\":{\"endlinecolor\":\"#A2B1C6\",\"gridcolor\":\"#506784\",\"linecolor\":\"#506784\",\"minorgridcolor\":\"#506784\",\"startlinecolor\":\"#A2B1C6\"},\"baxis\":{\"endlinecolor\":\"#A2B1C6\",\"gridcolor\":\"#506784\",\"linecolor\":\"#506784\",\"minorgridcolor\":\"#506784\",\"startlinecolor\":\"#A2B1C6\"},\"type\":\"carpet\"}],\"choropleth\":[{\"colorbar\":{\"outlinewidth\":0,\"ticks\":\"\"},\"type\":\"choropleth\"}],\"contourcarpet\":[{\"colorbar\":{\"outlinewidth\":0,\"ticks\":\"\"},\"type\":\"contourcarpet\"}],\"contour\":[{\"colorbar\":{\"outlinewidth\":0,\"ticks\":\"\"},\"colorscale\":[[0.0,\"#0d0887\"],[0.1111111111111111,\"#46039f\"],[0.2222222222222222,\"#7201a8\"],[0.3333333333333333,\"#9c179e\"],[0.4444444444444444,\"#bd3786\"],[0.5555555555555556,\"#d8576b\"],[0.6666666666666666,\"#ed7953\"],[0.7777777777777778,\"#fb9f3a\"],[0.8888888888888888,\"#fdca26\"],[1.0,\"#f0f921\"]],\"type\":\"contour\"}],\"heatmapgl\":[{\"colorbar\":{\"outlinewidth\":0,\"ticks\":\"\"},\"colorscale\":[[0.0,\"#0d0887\"],[0.1111111111111111,\"#46039f\"],[0.2222222222222222,\"#7201a8\"],[0.3333333333333333,\"#9c179e\"],[0.4444444444444444,\"#bd3786\"],[0.5555555555555556,\"#d8576b\"],[0.6666666666666666,\"#ed7953\"],[0.7777777777777778,\"#fb9f3a\"],[0.8888888888888888,\"#fdca26\"],[1.0,\"#f0f921\"]],\"type\":\"heatmapgl\"}],\"heatmap\":[{\"colorbar\":{\"outlinewidth\":0,\"ticks\":\"\"},\"colorscale\":[[0.0,\"#0d0887\"],[0.1111111111111111,\"#46039f\"],[0.2222222222222222,\"#7201a8\"],[0.3333333333333333,\"#9c179e\"],[0.4444444444444444,\"#bd3786\"],[0.5555555555555556,\"#d8576b\"],[0.6666666666666666,\"#ed7953\"],[0.7777777777777778,\"#fb9f3a\"],[0.8888888888888888,\"#fdca26\"],[1.0,\"#f0f921\"]],\"type\":\"heatmap\"}],\"histogram2dcontour\":[{\"colorbar\":{\"outlinewidth\":0,\"ticks\":\"\"},\"colorscale\":[[0.0,\"#0d0887\"],[0.1111111111111111,\"#46039f\"],[0.2222222222222222,\"#7201a8\"],[0.3333333333333333,\"#9c179e\"],[0.4444444444444444,\"#bd3786\"],[0.5555555555555556,\"#d8576b\"],[0.6666666666666666,\"#ed7953\"],[0.7777777777777778,\"#fb9f3a\"],[0.8888888888888888,\"#fdca26\"],[1.0,\"#f0f921\"]],\"type\":\"histogram2dcontour\"}],\"histogram2d\":[{\"colorbar\":{\"outlinewidth\":0,\"ticks\":\"\"},\"colorscale\":[[0.0,\"#0d0887\"],[0.1111111111111111,\"#46039f\"],[0.2222222222222222,\"#7201a8\"],[0.3333333333333333,\"#9c179e\"],[0.4444444444444444,\"#bd3786\"],[0.5555555555555556,\"#d8576b\"],[0.6666666666666666,\"#ed7953\"],[0.7777777777777778,\"#fb9f3a\"],[0.8888888888888888,\"#fdca26\"],[1.0,\"#f0f921\"]],\"type\":\"histogram2d\"}],\"histogram\":[{\"marker\":{\"pattern\":{\"fillmode\":\"overlay\",\"size\":10,\"solidity\":0.2}},\"type\":\"histogram\"}],\"mesh3d\":[{\"colorbar\":{\"outlinewidth\":0,\"ticks\":\"\"},\"type\":\"mesh3d\"}],\"parcoords\":[{\"line\":{\"colorbar\":{\"outlinewidth\":0,\"ticks\":\"\"}},\"type\":\"parcoords\"}],\"pie\":[{\"automargin\":true,\"type\":\"pie\"}],\"scatter3d\":[{\"line\":{\"colorbar\":{\"outlinewidth\":0,\"ticks\":\"\"}},\"marker\":{\"colorbar\":{\"outlinewidth\":0,\"ticks\":\"\"}},\"type\":\"scatter3d\"}],\"scattercarpet\":[{\"marker\":{\"colorbar\":{\"outlinewidth\":0,\"ticks\":\"\"}},\"type\":\"scattercarpet\"}],\"scattergeo\":[{\"marker\":{\"colorbar\":{\"outlinewidth\":0,\"ticks\":\"\"}},\"type\":\"scattergeo\"}],\"scattergl\":[{\"marker\":{\"line\":{\"color\":\"#283442\"}},\"type\":\"scattergl\"}],\"scattermapbox\":[{\"marker\":{\"colorbar\":{\"outlinewidth\":0,\"ticks\":\"\"}},\"type\":\"scattermapbox\"}],\"scatterpolargl\":[{\"marker\":{\"colorbar\":{\"outlinewidth\":0,\"ticks\":\"\"}},\"type\":\"scatterpolargl\"}],\"scatterpolar\":[{\"marker\":{\"colorbar\":{\"outlinewidth\":0,\"ticks\":\"\"}},\"type\":\"scatterpolar\"}],\"scatter\":[{\"marker\":{\"line\":{\"color\":\"#283442\"}},\"type\":\"scatter\"}],\"scatterternary\":[{\"marker\":{\"colorbar\":{\"outlinewidth\":0,\"ticks\":\"\"}},\"type\":\"scatterternary\"}],\"surface\":[{\"colorbar\":{\"outlinewidth\":0,\"ticks\":\"\"},\"colorscale\":[[0.0,\"#0d0887\"],[0.1111111111111111,\"#46039f\"],[0.2222222222222222,\"#7201a8\"],[0.3333333333333333,\"#9c179e\"],[0.4444444444444444,\"#bd3786\"],[0.5555555555555556,\"#d8576b\"],[0.6666666666666666,\"#ed7953\"],[0.7777777777777778,\"#fb9f3a\"],[0.8888888888888888,\"#fdca26\"],[1.0,\"#f0f921\"]],\"type\":\"surface\"}],\"table\":[{\"cells\":{\"fill\":{\"color\":\"#506784\"},\"line\":{\"color\":\"rgb(17,17,17)\"}},\"header\":{\"fill\":{\"color\":\"#2a3f5f\"},\"line\":{\"color\":\"rgb(17,17,17)\"}},\"type\":\"table\"}]},\"layout\":{\"annotationdefaults\":{\"arrowcolor\":\"#f2f5fa\",\"arrowhead\":0,\"arrowwidth\":1},\"autotypenumbers\":\"strict\",\"coloraxis\":{\"colorbar\":{\"outlinewidth\":0,\"ticks\":\"\"}},\"colorscale\":{\"diverging\":[[0,\"#8e0152\"],[0.1,\"#c51b7d\"],[0.2,\"#de77ae\"],[0.3,\"#f1b6da\"],[0.4,\"#fde0ef\"],[0.5,\"#f7f7f7\"],[0.6,\"#e6f5d0\"],[0.7,\"#b8e186\"],[0.8,\"#7fbc41\"],[0.9,\"#4d9221\"],[1,\"#276419\"]],\"sequential\":[[0.0,\"#0d0887\"],[0.1111111111111111,\"#46039f\"],[0.2222222222222222,\"#7201a8\"],[0.3333333333333333,\"#9c179e\"],[0.4444444444444444,\"#bd3786\"],[0.5555555555555556,\"#d8576b\"],[0.6666666666666666,\"#ed7953\"],[0.7777777777777778,\"#fb9f3a\"],[0.8888888888888888,\"#fdca26\"],[1.0,\"#f0f921\"]],\"sequentialminus\":[[0.0,\"#0d0887\"],[0.1111111111111111,\"#46039f\"],[0.2222222222222222,\"#7201a8\"],[0.3333333333333333,\"#9c179e\"],[0.4444444444444444,\"#bd3786\"],[0.5555555555555556,\"#d8576b\"],[0.6666666666666666,\"#ed7953\"],[0.7777777777777778,\"#fb9f3a\"],[0.8888888888888888,\"#fdca26\"],[1.0,\"#f0f921\"]]},\"colorway\":[\"#636efa\",\"#EF553B\",\"#00cc96\",\"#ab63fa\",\"#FFA15A\",\"#19d3f3\",\"#FF6692\",\"#B6E880\",\"#FF97FF\",\"#FECB52\"],\"font\":{\"color\":\"#f2f5fa\"},\"geo\":{\"bgcolor\":\"rgb(17,17,17)\",\"lakecolor\":\"rgb(17,17,17)\",\"landcolor\":\"rgb(17,17,17)\",\"showlakes\":true,\"showland\":true,\"subunitcolor\":\"#506784\"},\"hoverlabel\":{\"align\":\"left\"},\"hovermode\":\"closest\",\"mapbox\":{\"style\":\"dark\"},\"paper_bgcolor\":\"rgb(17,17,17)\",\"plot_bgcolor\":\"rgb(17,17,17)\",\"polar\":{\"angularaxis\":{\"gridcolor\":\"#506784\",\"linecolor\":\"#506784\",\"ticks\":\"\"},\"bgcolor\":\"rgb(17,17,17)\",\"radialaxis\":{\"gridcolor\":\"#506784\",\"linecolor\":\"#506784\",\"ticks\":\"\"}},\"scene\":{\"xaxis\":{\"backgroundcolor\":\"rgb(17,17,17)\",\"gridcolor\":\"#506784\",\"gridwidth\":2,\"linecolor\":\"#506784\",\"showbackground\":true,\"ticks\":\"\",\"zerolinecolor\":\"#C8D4E3\"},\"yaxis\":{\"backgroundcolor\":\"rgb(17,17,17)\",\"gridcolor\":\"#506784\",\"gridwidth\":2,\"linecolor\":\"#506784\",\"showbackground\":true,\"ticks\":\"\",\"zerolinecolor\":\"#C8D4E3\"},\"zaxis\":{\"backgroundcolor\":\"rgb(17,17,17)\",\"gridcolor\":\"#506784\",\"gridwidth\":2,\"linecolor\":\"#506784\",\"showbackground\":true,\"ticks\":\"\",\"zerolinecolor\":\"#C8D4E3\"}},\"shapedefaults\":{\"line\":{\"color\":\"#f2f5fa\"}},\"sliderdefaults\":{\"bgcolor\":\"#C8D4E3\",\"bordercolor\":\"rgb(17,17,17)\",\"borderwidth\":1,\"tickwidth\":0},\"ternary\":{\"aaxis\":{\"gridcolor\":\"#506784\",\"linecolor\":\"#506784\",\"ticks\":\"\"},\"baxis\":{\"gridcolor\":\"#506784\",\"linecolor\":\"#506784\",\"ticks\":\"\"},\"bgcolor\":\"rgb(17,17,17)\",\"caxis\":{\"gridcolor\":\"#506784\",\"linecolor\":\"#506784\",\"ticks\":\"\"}},\"title\":{\"x\":0.05},\"updatemenudefaults\":{\"bgcolor\":\"#506784\",\"borderwidth\":0},\"xaxis\":{\"automargin\":true,\"gridcolor\":\"#283442\",\"linecolor\":\"#506784\",\"ticks\":\"\",\"title\":{\"standoff\":15},\"zerolinecolor\":\"#283442\",\"zerolinewidth\":2},\"yaxis\":{\"automargin\":true,\"gridcolor\":\"#283442\",\"linecolor\":\"#506784\",\"ticks\":\"\",\"title\":{\"standoff\":15},\"zerolinecolor\":\"#283442\",\"zerolinewidth\":2}}},\"xaxis\":{\"anchor\":\"y\",\"domain\":[0.0,1.0],\"title\":{\"text\":\"Genre\"}},\"yaxis\":{\"anchor\":\"x\",\"domain\":[0.0,1.0],\"title\":{\"text\":\"Ver\\u00f6ffentlichte Songs\"}},\"legend\":{\"tracegroupgap\":0},\"margin\":{\"t\":60},\"barmode\":\"relative\",\"height\":500,\"title\":{\"text\":\"Ver\\u00f6ffentlichte Songs pro Genre in den wichtigen L\\u00e4ndern (Top 30)\"}},                        {\"responsive\": true}                    ).then(function(){\n",
              "                            \n",
              "var gd = document.getElementById('966e16eb-8b9e-4d50-8457-5c17b65c146b');\n",
              "var x = new MutationObserver(function (mutations, observer) {{\n",
              "        var display = window.getComputedStyle(gd).display;\n",
              "        if (!display || display === 'none') {{\n",
              "            console.log([gd, 'removed!']);\n",
              "            Plotly.purge(gd);\n",
              "            observer.disconnect();\n",
              "        }}\n",
              "}});\n",
              "\n",
              "// Listen for the removal of the full notebook cells\n",
              "var notebookContainer = gd.closest('#notebook-container');\n",
              "if (notebookContainer) {{\n",
              "    x.observe(notebookContainer, {childList: true});\n",
              "}}\n",
              "\n",
              "// Listen for the clearing of the current output cell\n",
              "var outputEl = gd.closest('.output');\n",
              "if (outputEl) {{\n",
              "    x.observe(outputEl, {childList: true});\n",
              "}}\n",
              "\n",
              "                        })                };                            </script>        </div>\n",
              "</body>\n",
              "</html>"
            ]
          },
          "metadata": {}
        }
      ]
    },
    {
      "cell_type": "code",
      "source": [
        "reduced_isrc.to_csv(f\"{PATH}/reduced_isrc.csv\")"
      ],
      "metadata": {
        "id": "prNdUgHbAGM_"
      },
      "id": "prNdUgHbAGM_",
      "execution_count": 36,
      "outputs": []
    },
    {
      "cell_type": "markdown",
      "source": [
        "## Auffindbarkeiten prüfen (in db und auf Spotify)"
      ],
      "metadata": {
        "id": "oXy93SzJBoBN"
      },
      "id": "oXy93SzJBoBN"
    },
    {
      "cell_type": "code",
      "source": [
        "!pip install colab-env --upgrade"
      ],
      "metadata": {
        "colab": {
          "base_uri": "https://localhost:8080/"
        },
        "id": "dgGQtmu1C47I",
        "outputId": "2539e83a-818d-4cad-cdaa-ae80d5b899e3"
      },
      "id": "dgGQtmu1C47I",
      "execution_count": 37,
      "outputs": [
        {
          "output_type": "stream",
          "name": "stdout",
          "text": [
            "Requirement already satisfied: colab-env in /usr/local/lib/python3.10/dist-packages (0.2.0)\n",
            "Requirement already satisfied: python-dotenv<1.0,>=0.10.0 in /usr/local/lib/python3.10/dist-packages (from colab-env) (0.21.1)\n"
          ]
        }
      ]
    },
    {
      "cell_type": "code",
      "source": [
        "!pip install spotipy --upgrade"
      ],
      "metadata": {
        "colab": {
          "base_uri": "https://localhost:8080/"
        },
        "id": "FYOzt6jmnc2g",
        "outputId": "6efd0a73-4724-408f-b994-2deb6aa7ed65"
      },
      "id": "FYOzt6jmnc2g",
      "execution_count": 38,
      "outputs": [
        {
          "output_type": "stream",
          "name": "stdout",
          "text": [
            "Requirement already satisfied: spotipy in /usr/local/lib/python3.10/dist-packages (2.23.0)\n",
            "Requirement already satisfied: redis>=3.5.3 in /usr/local/lib/python3.10/dist-packages (from spotipy) (5.0.0)\n",
            "Requirement already satisfied: requests>=2.25.0 in /usr/local/lib/python3.10/dist-packages (from spotipy) (2.31.0)\n",
            "Requirement already satisfied: six>=1.15.0 in /usr/local/lib/python3.10/dist-packages (from spotipy) (1.16.0)\n",
            "Requirement already satisfied: urllib3>=1.26.0 in /usr/local/lib/python3.10/dist-packages (from spotipy) (2.0.4)\n",
            "Requirement already satisfied: async-timeout>=4.0.2 in /usr/local/lib/python3.10/dist-packages (from redis>=3.5.3->spotipy) (4.0.3)\n",
            "Requirement already satisfied: charset-normalizer<4,>=2 in /usr/local/lib/python3.10/dist-packages (from requests>=2.25.0->spotipy) (3.2.0)\n",
            "Requirement already satisfied: idna<4,>=2.5 in /usr/local/lib/python3.10/dist-packages (from requests>=2.25.0->spotipy) (3.4)\n",
            "Requirement already satisfied: certifi>=2017.4.17 in /usr/local/lib/python3.10/dist-packages (from requests>=2.25.0->spotipy) (2023.7.22)\n"
          ]
        }
      ]
    },
    {
      "cell_type": "code",
      "source": [
        "import colab_env\n",
        "import os\n",
        "import pandas as pd\n",
        "import spotipy\n",
        "from spotipy.oauth2 import SpotifyClientCredentials\n",
        "import pandas as pd\n",
        "import requests\n",
        "import json\n",
        "from numpy import NaN\n",
        "from tqdm import tqdm"
      ],
      "metadata": {
        "id": "oveNa3QFkH8Q"
      },
      "id": "oveNa3QFkH8Q",
      "execution_count": 65,
      "outputs": []
    },
    {
      "cell_type": "code",
      "source": [
        "chart_power_df = pd.read_excel(f\"{PATH}/chart-power-scores_80s.xlsx\")"
      ],
      "metadata": {
        "id": "hlVbDBavlg-n"
      },
      "id": "hlVbDBavlg-n",
      "execution_count": 40,
      "outputs": []
    },
    {
      "cell_type": "code",
      "source": [
        "SPOTIFY_CLIENT_ID = os.getenv(\"SPOTIFY_CLIENT_ID\")\n",
        "SPOTIFY_CLIENT_SECRET = os.getenv(\"SPOTIFY_CLIENT_SECRET\")"
      ],
      "metadata": {
        "id": "NGI7eQFJoGby"
      },
      "id": "NGI7eQFJoGby",
      "execution_count": 41,
      "outputs": []
    },
    {
      "cell_type": "code",
      "source": [
        "client_credentials_manager = SpotifyClientCredentials(client_id=SPOTIFY_CLIENT_ID, client_secret=SPOTIFY_CLIENT_SECRET)\n",
        "sp = spotipy.Spotify(client_credentials_manager=client_credentials_manager)"
      ],
      "metadata": {
        "id": "w0UjBTB8o89j"
      },
      "id": "w0UjBTB8o89j",
      "execution_count": 42,
      "outputs": []
    },
    {
      "cell_type": "markdown",
      "source": [
        "Abfrage aller Lieder für Boney M."
      ],
      "metadata": {
        "id": "UpcOHHx8AV7K"
      },
      "id": "UpcOHHx8AV7K"
    },
    {
      "cell_type": "code",
      "source": [
        "def query(year: int, offset: int):\n",
        "  res = sp.search(q=f\"artist:Boney M. year:{year}\", type=\"track\", limit=10, offset=offset, market=\"DE\")\n",
        "  if (len(res[\"tracks\"][\"items\"]) == 10):\n",
        "    return query(year, offset + 10)\n",
        "  return len(res[\"tracks\"][\"items\"]) + offset"
      ],
      "metadata": {
        "id": "i84v3ye8tUqm"
      },
      "id": "i84v3ye8tUqm",
      "execution_count": 56,
      "outputs": []
    },
    {
      "cell_type": "code",
      "source": [
        "boney_songs = pd.DataFrame()\n",
        "for year in range(1980, 1990):\n",
        "  boney_songs = pd.concat([boney_songs, pd.DataFrame([[year, query(year, 0)]], columns=[\"year\", \"songs\"])])"
      ],
      "metadata": {
        "id": "HhwjsQC1uwqR"
      },
      "id": "HhwjsQC1uwqR",
      "execution_count": 51,
      "outputs": []
    },
    {
      "cell_type": "code",
      "source": [
        "fig = px.bar(boney_songs, x=\"year\", y=\"songs\", title=\"Songs veröffentlich von Boney M. in den 80er Jahren\")\n",
        "fig.update_layout(\n",
        "    height=500,\n",
        "    template='plotly_dark',\n",
        "    xaxis_title=\"Jahr\",\n",
        "    yaxis_title=\"Veröffentlichte Songs\"\n",
        ")\n",
        "fig.show()"
      ],
      "metadata": {
        "colab": {
          "base_uri": "https://localhost:8080/",
          "height": 517
        },
        "id": "NoIY_Gc2pIAP",
        "outputId": "87325f8b-cf04-424c-a65f-a91a37e0bbb4"
      },
      "id": "NoIY_Gc2pIAP",
      "execution_count": 45,
      "outputs": [
        {
          "output_type": "display_data",
          "data": {
            "text/html": [
              "<html>\n",
              "<head><meta charset=\"utf-8\" /></head>\n",
              "<body>\n",
              "    <div>            <script src=\"https://cdnjs.cloudflare.com/ajax/libs/mathjax/2.7.5/MathJax.js?config=TeX-AMS-MML_SVG\"></script><script type=\"text/javascript\">if (window.MathJax && window.MathJax.Hub && window.MathJax.Hub.Config) {window.MathJax.Hub.Config({SVG: {font: \"STIX-Web\"}});}</script>                <script type=\"text/javascript\">window.PlotlyConfig = {MathJaxConfig: 'local'};</script>\n",
              "        <script charset=\"utf-8\" src=\"https://cdn.plot.ly/plotly-2.24.1.min.js\"></script>                <div id=\"f35a1b8e-4da3-40c0-87ef-e3dc6699b2ae\" class=\"plotly-graph-div\" style=\"height:500px; width:100%;\"></div>            <script type=\"text/javascript\">                                    window.PLOTLYENV=window.PLOTLYENV || {};                                    if (document.getElementById(\"f35a1b8e-4da3-40c0-87ef-e3dc6699b2ae\")) {                    Plotly.newPlot(                        \"f35a1b8e-4da3-40c0-87ef-e3dc6699b2ae\",                        [{\"alignmentgroup\":\"True\",\"hovertemplate\":\"year=%{x}\\u003cbr\\u003esongs=%{y}\\u003cextra\\u003e\\u003c\\u002fextra\\u003e\",\"legendgroup\":\"\",\"marker\":{\"color\":\"#636efa\",\"pattern\":{\"shape\":\"\"}},\"name\":\"\",\"offsetgroup\":\"\",\"orientation\":\"v\",\"showlegend\":false,\"textposition\":\"auto\",\"x\":[1980,1981,1982,1983,1984,1985,1986,1987,1988,1989],\"xaxis\":\"x\",\"y\":[0,44,0,0,45,10,0,0,2,32],\"yaxis\":\"y\",\"type\":\"bar\"}],                        {\"template\":{\"data\":{\"barpolar\":[{\"marker\":{\"line\":{\"color\":\"rgb(17,17,17)\",\"width\":0.5},\"pattern\":{\"fillmode\":\"overlay\",\"size\":10,\"solidity\":0.2}},\"type\":\"barpolar\"}],\"bar\":[{\"error_x\":{\"color\":\"#f2f5fa\"},\"error_y\":{\"color\":\"#f2f5fa\"},\"marker\":{\"line\":{\"color\":\"rgb(17,17,17)\",\"width\":0.5},\"pattern\":{\"fillmode\":\"overlay\",\"size\":10,\"solidity\":0.2}},\"type\":\"bar\"}],\"carpet\":[{\"aaxis\":{\"endlinecolor\":\"#A2B1C6\",\"gridcolor\":\"#506784\",\"linecolor\":\"#506784\",\"minorgridcolor\":\"#506784\",\"startlinecolor\":\"#A2B1C6\"},\"baxis\":{\"endlinecolor\":\"#A2B1C6\",\"gridcolor\":\"#506784\",\"linecolor\":\"#506784\",\"minorgridcolor\":\"#506784\",\"startlinecolor\":\"#A2B1C6\"},\"type\":\"carpet\"}],\"choropleth\":[{\"colorbar\":{\"outlinewidth\":0,\"ticks\":\"\"},\"type\":\"choropleth\"}],\"contourcarpet\":[{\"colorbar\":{\"outlinewidth\":0,\"ticks\":\"\"},\"type\":\"contourcarpet\"}],\"contour\":[{\"colorbar\":{\"outlinewidth\":0,\"ticks\":\"\"},\"colorscale\":[[0.0,\"#0d0887\"],[0.1111111111111111,\"#46039f\"],[0.2222222222222222,\"#7201a8\"],[0.3333333333333333,\"#9c179e\"],[0.4444444444444444,\"#bd3786\"],[0.5555555555555556,\"#d8576b\"],[0.6666666666666666,\"#ed7953\"],[0.7777777777777778,\"#fb9f3a\"],[0.8888888888888888,\"#fdca26\"],[1.0,\"#f0f921\"]],\"type\":\"contour\"}],\"heatmapgl\":[{\"colorbar\":{\"outlinewidth\":0,\"ticks\":\"\"},\"colorscale\":[[0.0,\"#0d0887\"],[0.1111111111111111,\"#46039f\"],[0.2222222222222222,\"#7201a8\"],[0.3333333333333333,\"#9c179e\"],[0.4444444444444444,\"#bd3786\"],[0.5555555555555556,\"#d8576b\"],[0.6666666666666666,\"#ed7953\"],[0.7777777777777778,\"#fb9f3a\"],[0.8888888888888888,\"#fdca26\"],[1.0,\"#f0f921\"]],\"type\":\"heatmapgl\"}],\"heatmap\":[{\"colorbar\":{\"outlinewidth\":0,\"ticks\":\"\"},\"colorscale\":[[0.0,\"#0d0887\"],[0.1111111111111111,\"#46039f\"],[0.2222222222222222,\"#7201a8\"],[0.3333333333333333,\"#9c179e\"],[0.4444444444444444,\"#bd3786\"],[0.5555555555555556,\"#d8576b\"],[0.6666666666666666,\"#ed7953\"],[0.7777777777777778,\"#fb9f3a\"],[0.8888888888888888,\"#fdca26\"],[1.0,\"#f0f921\"]],\"type\":\"heatmap\"}],\"histogram2dcontour\":[{\"colorbar\":{\"outlinewidth\":0,\"ticks\":\"\"},\"colorscale\":[[0.0,\"#0d0887\"],[0.1111111111111111,\"#46039f\"],[0.2222222222222222,\"#7201a8\"],[0.3333333333333333,\"#9c179e\"],[0.4444444444444444,\"#bd3786\"],[0.5555555555555556,\"#d8576b\"],[0.6666666666666666,\"#ed7953\"],[0.7777777777777778,\"#fb9f3a\"],[0.8888888888888888,\"#fdca26\"],[1.0,\"#f0f921\"]],\"type\":\"histogram2dcontour\"}],\"histogram2d\":[{\"colorbar\":{\"outlinewidth\":0,\"ticks\":\"\"},\"colorscale\":[[0.0,\"#0d0887\"],[0.1111111111111111,\"#46039f\"],[0.2222222222222222,\"#7201a8\"],[0.3333333333333333,\"#9c179e\"],[0.4444444444444444,\"#bd3786\"],[0.5555555555555556,\"#d8576b\"],[0.6666666666666666,\"#ed7953\"],[0.7777777777777778,\"#fb9f3a\"],[0.8888888888888888,\"#fdca26\"],[1.0,\"#f0f921\"]],\"type\":\"histogram2d\"}],\"histogram\":[{\"marker\":{\"pattern\":{\"fillmode\":\"overlay\",\"size\":10,\"solidity\":0.2}},\"type\":\"histogram\"}],\"mesh3d\":[{\"colorbar\":{\"outlinewidth\":0,\"ticks\":\"\"},\"type\":\"mesh3d\"}],\"parcoords\":[{\"line\":{\"colorbar\":{\"outlinewidth\":0,\"ticks\":\"\"}},\"type\":\"parcoords\"}],\"pie\":[{\"automargin\":true,\"type\":\"pie\"}],\"scatter3d\":[{\"line\":{\"colorbar\":{\"outlinewidth\":0,\"ticks\":\"\"}},\"marker\":{\"colorbar\":{\"outlinewidth\":0,\"ticks\":\"\"}},\"type\":\"scatter3d\"}],\"scattercarpet\":[{\"marker\":{\"colorbar\":{\"outlinewidth\":0,\"ticks\":\"\"}},\"type\":\"scattercarpet\"}],\"scattergeo\":[{\"marker\":{\"colorbar\":{\"outlinewidth\":0,\"ticks\":\"\"}},\"type\":\"scattergeo\"}],\"scattergl\":[{\"marker\":{\"line\":{\"color\":\"#283442\"}},\"type\":\"scattergl\"}],\"scattermapbox\":[{\"marker\":{\"colorbar\":{\"outlinewidth\":0,\"ticks\":\"\"}},\"type\":\"scattermapbox\"}],\"scatterpolargl\":[{\"marker\":{\"colorbar\":{\"outlinewidth\":0,\"ticks\":\"\"}},\"type\":\"scatterpolargl\"}],\"scatterpolar\":[{\"marker\":{\"colorbar\":{\"outlinewidth\":0,\"ticks\":\"\"}},\"type\":\"scatterpolar\"}],\"scatter\":[{\"marker\":{\"line\":{\"color\":\"#283442\"}},\"type\":\"scatter\"}],\"scatterternary\":[{\"marker\":{\"colorbar\":{\"outlinewidth\":0,\"ticks\":\"\"}},\"type\":\"scatterternary\"}],\"surface\":[{\"colorbar\":{\"outlinewidth\":0,\"ticks\":\"\"},\"colorscale\":[[0.0,\"#0d0887\"],[0.1111111111111111,\"#46039f\"],[0.2222222222222222,\"#7201a8\"],[0.3333333333333333,\"#9c179e\"],[0.4444444444444444,\"#bd3786\"],[0.5555555555555556,\"#d8576b\"],[0.6666666666666666,\"#ed7953\"],[0.7777777777777778,\"#fb9f3a\"],[0.8888888888888888,\"#fdca26\"],[1.0,\"#f0f921\"]],\"type\":\"surface\"}],\"table\":[{\"cells\":{\"fill\":{\"color\":\"#506784\"},\"line\":{\"color\":\"rgb(17,17,17)\"}},\"header\":{\"fill\":{\"color\":\"#2a3f5f\"},\"line\":{\"color\":\"rgb(17,17,17)\"}},\"type\":\"table\"}]},\"layout\":{\"annotationdefaults\":{\"arrowcolor\":\"#f2f5fa\",\"arrowhead\":0,\"arrowwidth\":1},\"autotypenumbers\":\"strict\",\"coloraxis\":{\"colorbar\":{\"outlinewidth\":0,\"ticks\":\"\"}},\"colorscale\":{\"diverging\":[[0,\"#8e0152\"],[0.1,\"#c51b7d\"],[0.2,\"#de77ae\"],[0.3,\"#f1b6da\"],[0.4,\"#fde0ef\"],[0.5,\"#f7f7f7\"],[0.6,\"#e6f5d0\"],[0.7,\"#b8e186\"],[0.8,\"#7fbc41\"],[0.9,\"#4d9221\"],[1,\"#276419\"]],\"sequential\":[[0.0,\"#0d0887\"],[0.1111111111111111,\"#46039f\"],[0.2222222222222222,\"#7201a8\"],[0.3333333333333333,\"#9c179e\"],[0.4444444444444444,\"#bd3786\"],[0.5555555555555556,\"#d8576b\"],[0.6666666666666666,\"#ed7953\"],[0.7777777777777778,\"#fb9f3a\"],[0.8888888888888888,\"#fdca26\"],[1.0,\"#f0f921\"]],\"sequentialminus\":[[0.0,\"#0d0887\"],[0.1111111111111111,\"#46039f\"],[0.2222222222222222,\"#7201a8\"],[0.3333333333333333,\"#9c179e\"],[0.4444444444444444,\"#bd3786\"],[0.5555555555555556,\"#d8576b\"],[0.6666666666666666,\"#ed7953\"],[0.7777777777777778,\"#fb9f3a\"],[0.8888888888888888,\"#fdca26\"],[1.0,\"#f0f921\"]]},\"colorway\":[\"#636efa\",\"#EF553B\",\"#00cc96\",\"#ab63fa\",\"#FFA15A\",\"#19d3f3\",\"#FF6692\",\"#B6E880\",\"#FF97FF\",\"#FECB52\"],\"font\":{\"color\":\"#f2f5fa\"},\"geo\":{\"bgcolor\":\"rgb(17,17,17)\",\"lakecolor\":\"rgb(17,17,17)\",\"landcolor\":\"rgb(17,17,17)\",\"showlakes\":true,\"showland\":true,\"subunitcolor\":\"#506784\"},\"hoverlabel\":{\"align\":\"left\"},\"hovermode\":\"closest\",\"mapbox\":{\"style\":\"dark\"},\"paper_bgcolor\":\"rgb(17,17,17)\",\"plot_bgcolor\":\"rgb(17,17,17)\",\"polar\":{\"angularaxis\":{\"gridcolor\":\"#506784\",\"linecolor\":\"#506784\",\"ticks\":\"\"},\"bgcolor\":\"rgb(17,17,17)\",\"radialaxis\":{\"gridcolor\":\"#506784\",\"linecolor\":\"#506784\",\"ticks\":\"\"}},\"scene\":{\"xaxis\":{\"backgroundcolor\":\"rgb(17,17,17)\",\"gridcolor\":\"#506784\",\"gridwidth\":2,\"linecolor\":\"#506784\",\"showbackground\":true,\"ticks\":\"\",\"zerolinecolor\":\"#C8D4E3\"},\"yaxis\":{\"backgroundcolor\":\"rgb(17,17,17)\",\"gridcolor\":\"#506784\",\"gridwidth\":2,\"linecolor\":\"#506784\",\"showbackground\":true,\"ticks\":\"\",\"zerolinecolor\":\"#C8D4E3\"},\"zaxis\":{\"backgroundcolor\":\"rgb(17,17,17)\",\"gridcolor\":\"#506784\",\"gridwidth\":2,\"linecolor\":\"#506784\",\"showbackground\":true,\"ticks\":\"\",\"zerolinecolor\":\"#C8D4E3\"}},\"shapedefaults\":{\"line\":{\"color\":\"#f2f5fa\"}},\"sliderdefaults\":{\"bgcolor\":\"#C8D4E3\",\"bordercolor\":\"rgb(17,17,17)\",\"borderwidth\":1,\"tickwidth\":0},\"ternary\":{\"aaxis\":{\"gridcolor\":\"#506784\",\"linecolor\":\"#506784\",\"ticks\":\"\"},\"baxis\":{\"gridcolor\":\"#506784\",\"linecolor\":\"#506784\",\"ticks\":\"\"},\"bgcolor\":\"rgb(17,17,17)\",\"caxis\":{\"gridcolor\":\"#506784\",\"linecolor\":\"#506784\",\"ticks\":\"\"}},\"title\":{\"x\":0.05},\"updatemenudefaults\":{\"bgcolor\":\"#506784\",\"borderwidth\":0},\"xaxis\":{\"automargin\":true,\"gridcolor\":\"#283442\",\"linecolor\":\"#506784\",\"ticks\":\"\",\"title\":{\"standoff\":15},\"zerolinecolor\":\"#283442\",\"zerolinewidth\":2},\"yaxis\":{\"automargin\":true,\"gridcolor\":\"#283442\",\"linecolor\":\"#506784\",\"ticks\":\"\",\"title\":{\"standoff\":15},\"zerolinecolor\":\"#283442\",\"zerolinewidth\":2}}},\"xaxis\":{\"anchor\":\"y\",\"domain\":[0.0,1.0],\"title\":{\"text\":\"Jahr\"}},\"yaxis\":{\"anchor\":\"x\",\"domain\":[0.0,1.0],\"title\":{\"text\":\"Ver\\u00f6ffentlichte Songs\"}},\"legend\":{\"tracegroupgap\":0},\"title\":{\"text\":\"Songs ver\\u00f6ffentlich von Boney M. in den 80er Jahren\"},\"barmode\":\"relative\",\"height\":500},                        {\"responsive\": true}                    ).then(function(){\n",
              "                            \n",
              "var gd = document.getElementById('f35a1b8e-4da3-40c0-87ef-e3dc6699b2ae');\n",
              "var x = new MutationObserver(function (mutations, observer) {{\n",
              "        var display = window.getComputedStyle(gd).display;\n",
              "        if (!display || display === 'none') {{\n",
              "            console.log([gd, 'removed!']);\n",
              "            Plotly.purge(gd);\n",
              "            observer.disconnect();\n",
              "        }}\n",
              "}});\n",
              "\n",
              "// Listen for the removal of the full notebook cells\n",
              "var notebookContainer = gd.closest('#notebook-container');\n",
              "if (notebookContainer) {{\n",
              "    x.observe(notebookContainer, {childList: true});\n",
              "}}\n",
              "\n",
              "// Listen for the clearing of the current output cell\n",
              "var outputEl = gd.closest('.output');\n",
              "if (outputEl) {{\n",
              "    x.observe(outputEl, {childList: true});\n",
              "}}\n",
              "\n",
              "                        })                };                            </script>        </div>\n",
              "</body>\n",
              "</html>"
            ]
          },
          "metadata": {}
        }
      ]
    },
    {
      "cell_type": "markdown",
      "source": [
        "Abfrage aller Lieder von Künstlern, welche in den 80ern in den Charts waren"
      ],
      "metadata": {
        "id": "fNM4scDt4nmh"
      },
      "id": "fNM4scDt4nmh"
    },
    {
      "cell_type": "code",
      "source": [
        "chart_power_df[\"Artist\"].unique()"
      ],
      "metadata": {
        "id": "vNztATcNAoA_",
        "outputId": "be9c903f-226f-463d-f8f4-e9e83f3d07f8",
        "colab": {
          "base_uri": "https://localhost:8080/"
        }
      },
      "id": "vNztATcNAoA_",
      "execution_count": 58,
      "outputs": [
        {
          "output_type": "execute_result",
          "data": {
            "text/plain": [
              "array(['Lionel Richie', 'Harold Faltermeyer', 'Kaoma', 'A-ha',\n",
              "       'Whitney Houston', 'Louis Armstrong', 'Michael Jackson',\n",
              "       'Bon Jovi', 'Rick Astley', 'Cyndi Lauper', 'Europe', 'Scorpions',\n",
              "       'The Police', 'Bonnie Tyler', 'George Michael', 'Survivor',\n",
              "       'Boy George', 'Glenn Medeiros', 'Hot Chocolate', \"T'Pau\", 'Black',\n",
              "       'Joe Cocker', 'Caroline Loeb', 'Toto', 'Eurythmics', 'Roxette',\n",
              "       'Culture Club', 'Pink Floyd', 'Modern Talking', 'Queen',\n",
              "       'Bryan Adams', 'USA for Africa', 'Ben E. King', 'AC/DC',\n",
              "       'Paul McCartney', 'Madonna', 'Martika',\n",
              "       'Bill Medley & Jennifer Warnes', 'Phil Collins', 'Elton John',\n",
              "       'Wham!', 'Alphaville', 'Richard Marx', 'Berlin',\n",
              "       'Bob Marley & The Wailers', 'Olivia Newton-John',\n",
              "       'Queen & David Bowie', 'Blondie', 'Real Life', 'Men At Work',\n",
              "       'Depeche Mode', 'Kiss', 'Village People', 'Heart',\n",
              "       'Bruce Springsteen', 'ABBA', 'Genesis', 'Ray Parker Jr.',\n",
              "       'Alice Cooper', 'Kool & The Gang', 'Prince & The Revolution',\n",
              "       'John Lennon', 'Technotronic feat. Felly', 'M.A.R.R.S.',\n",
              "       'Bobby McFerrin', 'Baltimora', 'Simple Minds', 'Foreigner',\n",
              "       'Dire Straits', 'Starship', 'Billy Idol', 'Opus', 'Dead Or Alive',\n",
              "       'Billy Joel', 'Fleetwood Mac', 'Spandau Ballet', 'Tina Turner',\n",
              "       'Tears For Fears', 'New Order', 'U2', 'Daryl Hall & John Oates',\n",
              "       'Jennifer Rush', 'Milli Vanilli', 'UB40', 'Cameo', 'Whitesnake',\n",
              "       'Patrick Swayze & Wendy Fraser', 'Cutting Crew',\n",
              "       'The Human League', 'Marvin Gaye', 'Crowded House', 'The Cars',\n",
              "       'Roland Kaiser', 'Laura Branigan', 'Desireless', 'Righeira',\n",
              "       \"Salt 'n' Pepa\", 'Simply Red', 'Van Halen', 'Mr. Mister',\n",
              "       'Stevie Wonder', 'Dionne Warwick & Friends', 'Dionne Warwick',\n",
              "       'O.K.', 'Sade', 'Kenny Loggins', 'Gloria Gaynor', 'Rockwell',\n",
              "       'Nazareth', 'Paul Young', 'Neneh Cherry', 'Kenny Rogers',\n",
              "       'Duran Duran', 'REO Speedwagon', 'A Flock Of Seagulls',\n",
              "       'Pet Shop Boys', 'Toto Cutugno', 'New Edition', 'Boney M.',\n",
              "       'Bobby Brown', 'The Bangles', 'Run DMC', 'Run DMC feat. Aerosmith',\n",
              "       'Eric Carmen', 'Kim Carnes', 'Chicago', 'Taylor Dayne',\n",
              "       'Barbra Streisand', 'Diana Ross', 'Band Aid',\n",
              "       'The Alan Parsons Project', 'Electric Light Orchestra',\n",
              "       'Kim Wilde', 'Michael Jackson & Paul McCartney', 'Robert Palmer',\n",
              "       'The Bee Gees', 'Roy Orbison', 'Ricchi e Poveri', 'France Gall',\n",
              "       'Tiffany [US]', 'The Kelly Family', 'Rod Stewart', 'Bad Boys Blue',\n",
              "       'Irene Cara', 'Patti Labelle & Michael McDonald', 'Soul II Soul',\n",
              "       'Soul II Soul feat. Caron Wheeler', 'F.R. David',\n",
              "       'Philip Bailey & Phil Collins', 'Gregory Abbott', 'Yazoo', 'Cher',\n",
              "       'Juice Newton', 'Katrina & The Waves', 'Womack & Womack',\n",
              "       'Soft Cell', 'Chris de Burgh', 'Pat Benatar', 'Beastie Boys',\n",
              "       'Joan Jett & The Blackhearts', 'Godley & Creme', 'Dolly Parton',\n",
              "       'Eddie Murphy', 'Falco', 'Freddie Mercury', 'Donna Summer',\n",
              "       'Thompson Twins', 'Bananarama', 'The Commodores', 'Supertramp',\n",
              "       'Limahl', 'The Cure', 'DeBarge', 'Umberto Tozzi', 'Alison Moyet',\n",
              "       'Jennifer Rush & Elton John', 'Cock Robin', 'Die Flippers',\n",
              "       'Stephan Remmler', 'Gazebo', 'The Sugarhill Gang', 'Bryan Ferry',\n",
              "       'Bronski Beat', 'Rufus & Chaka Khan', 'Dr. Hook', 'Los Lobos',\n",
              "       'Men Without Hats', 'Frankie Goes To Hollywood', 'James Brown',\n",
              "       'Rick Springfield', 'London Boys', 'Indeep', 'Peter Gabriel',\n",
              "       'Erasure', 'The Rolling Stones', 'Michael Sembello', 'Kate Bush',\n",
              "       'Joe Cocker & Jennifer Warnes', 'Boy Meets Girl', 'Sandra',\n",
              "       'Al Bano & Romina Power', 'Billy Ocean', 'Cheap Trick',\n",
              "       'Talking Heads', 'Roxy Music', 'Leo Sayer', 'Fine Young Cannibals',\n",
              "       'The Buggles', 'The S.O.S. Band', 'Ennio Morricone',\n",
              "       'Aretha Franklin & George Michael', 'Loretta Goggi',\n",
              "       'Kenny Rogers & Dolly Parton', 'Suzi Quatro',\n",
              "       'The Brothers Johnson', 'Poison', 'Peter Cetera', 'Debbie Gibson',\n",
              "       'C. C. Catch', 'Trans-X', 'Vanessa Paradis', 'The Beach Boys',\n",
              "       'Silent Circle', 'Peter Maffay', 'Shannon', 'Paula Abdul',\n",
              "       'Dusty Springfield & Pet Shop Boys', 'Samantha Fox',\n",
              "       'George Harrison', 'Belinda Carlisle', 'The Romantics', 'Joy',\n",
              "       'Johnny Hates Jazz', 'Roger [US]', 'Bruce Hornsby & The Range',\n",
              "       'Living In A Box', 'Matthew Wilder', 'Mike & The Mechanics',\n",
              "       'Münchener Freiheit', 'Deniece Williams', 'Chaka Khan',\n",
              "       'The J. Geils Band', 'UB40 & Chrissie Hynde', 'Talk Talk',\n",
              "       'John Waite', 'Lipps Inc.', 'Styx', 'Eddy Grant', 'Jan Hammer',\n",
              "       'Grandmaster Flash & The Furious Five', 'The Communards',\n",
              "       'Jermaine Stewart', 'Huey Lewis & The News', 'The Whispers',\n",
              "       'Murray Head', 'Yes', 'Rupert Holmes', 'Sam Brown', 'Status Quo',\n",
              "       'KC and The Sunshine Band', 'Alan Sorrenti', 'The Flirts', 'Sting',\n",
              "       'Smokie', 'Eric B. & Rakim', 'Kraftwerk', 'Janet Jackson',\n",
              "       'Tone Loc', 'Nina Simone', 'Kylie Minogue & Jason Donovan', 'Enya',\n",
              "       'Juan Pardo', 'Oran \"Juice\" Jones', 'John Farnham',\n",
              "       'Raggio Di Luna (Moon Ray)', 'Claudia Mori', 'Grace Jones',\n",
              "       'The Hooters', 'INXS', 'Miami Sound Machine', 'The Flying Pickets',\n",
              "       'Earth & Fire', 'Gipsy Kings', 'Fancy', 'Howard Carpendale',\n",
              "       'Corey Hart', 'Madness', 'Jermaine Jackson & Pia Zadora',\n",
              "       'Tight Fit', 'Sister Sledge', 'Steve Miller Band', 'Frida',\n",
              "       'Musical Youth', 'Sheena Easton', 'Audrey Landers', 'Level 42',\n",
              "       'Tracy Chapman', 'Dexys Midnight Runners With The Emerald Express',\n",
              "       'David Bowie & Mick Jagger', 'David Bowie', 'Ryan Paris',\n",
              "       'Sabrina [IT]', 'Peter Tosh', \"Terence Trent D'Arby\", 'Black Box',\n",
              "       'Boys Town Gang', 'Pointer Sisters', 'Marianne Faithfull',\n",
              "       'Joe Jackson', 'Ice MC', 'Laid Back', 'Will To Power', 'Sam Cooke',\n",
              "       'Petula Clark', 'Greg Kihn Band', 'De La Soul',\n",
              "       'Jive Bunny & The Mastermixers', 'Kylie Minogue', 'Breathe',\n",
              "       'Go West', 'David Hasselhoff', 'ABC',\n",
              "       'David Bowie And The Pat Metheny Group', 'Tanita Tikaram',\n",
              "       'Nino de Angelo', 'Climie Fisher', 'Chris Norman',\n",
              "       'Gloria Estefan', 'Nik Kershaw', 'Mike Oldfield',\n",
              "       'Peter Schilling', 'Ottawan', 'Eighth Wonder', 'Double',\n",
              "       'The Teens', 'Clowns & Helden', 'Stacey Q.', 'Killing Joke',\n",
              "       'Barbra Streisand & Barry Gibb', 'Bette Midler',\n",
              "       'Olivia Newton-John & Electric Light Orchestra', 'Stevie Nicks',\n",
              "       'Trio', 'Dschinghis Khan', 'Julio Iglesias & Willie Nelson',\n",
              "       'Joachim Witt', 'Pupo', 'Joyce Sims', 'Visage', 'Robin Gibb',\n",
              "       'Nu Shooz', 'Nena', 'Howard Jones', 'Don Henley', 'Matia Bazar',\n",
              "       'Francesco Napoli', 'Wang Chung', 'Dollar', 'Midnight Star',\n",
              "       'Engelbert Humperdinck', 'Rainhard Fendrich', 'Jürgen Drews',\n",
              "       'Richard Sanderson', 'Michael Jackson With Siedah Garrett',\n",
              "       'Christopher Cross', 'Mental As Anything', 'Tony Esposito',\n",
              "       'Quarterflash', 'Die Ã„rzte', 'Lindsey Buckingham', 'Mory Kante',\n",
              "       'Tina Charles', 'O.M.D.', 'Jim Diamond', 'Frank Stallone',\n",
              "       'Ready For The World', 'Transvision Vamp', 'Glenn Frey',\n",
              "       'Monotones [NL]', 'Valerie Dore', 'Adam Ant', 'Adam & The Ants',\n",
              "       'Off', 'Ofra Haza', 'Swing Out Sister', 'Fun Fun', 'James Last',\n",
              "       'Ultravox', 'Wolfgang Petry', \"Lil' Louis\", 'Herbie Hancock',\n",
              "       'Jona Lewie', \"Luv'\", 'Fiction Factory', 'Asia', 'Joe Dolce',\n",
              "       'Sheila E', 'The Detroit Spinners', 'Roger Whittaker', 'Andy Borg',\n",
              "       'Paul McCartney & Stevie Wonder', 'Alice', 'Grauzone',\n",
              "       'Peter Cornelius', 'Slade', 'Iron Maiden', 'Lian Ross',\n",
              "       'Camouflage', 'Kajagoogoo', 'Klaus Lage Band', \"Shakin' Stevens\",\n",
              "       'Patrick Cowley Feat. Sylvester', 'Animotion', 'Stars On 45',\n",
              "       'Heinz Rudolf Kunze', 'Lisa Stansfield', 'Barclay James Harvest',\n",
              "       'Propaganda', 'Sigue Sigue Sputnik', 'Nick Kamen',\n",
              "       'Geier Sturzflug', 'Raff [IT]', 'The Housemartins', 'The Shorts',\n",
              "       'William Pitt', 'Feargal Sharkey', 'Blue System',\n",
              "       'Herbert GrÃ¶nemeyer', 'Al Corley', 'Karat',\n",
              "       'George Baker Selection', 'John Parr', 'Timex Social Club',\n",
              "       'Michael Cretu', 'Helloween', 'Cliff Richard',\n",
              "       'Goombay Dance Band', 'Aneka', 'Jon & Vangelis', 'Prince',\n",
              "       'Precious Wilson', 'Jason Donovan', 'Diana Ross & Julio Iglesias',\n",
              "       'Yello', 'Udo Lindenberg', 'Gianna Nannini', 'Eddy Huntington',\n",
              "       'Spider Murphy Gang', 'Jody Watley', 'Telly Savalas',\n",
              "       'Die Toten Hosen', 'Mike Krüger', 'The Jacksons',\n",
              "       'Erste Allgemeine Verunsicherung', 'Big Country',\n",
              "       'Gary Moore & Phil Lynott', 'Club Nouveau', 'Sheila B. Devotion',\n",
              "       'A La Carte', 'Pebbles', 'Spagna', 'The Gap Band', 'Robin Beck',\n",
              "       'Fairground Attraction', 'China Crisis', 'Miquel Brown', 'Odyssey',\n",
              "       'Ibo', 'Bros', 'Peter, Sue & Marc', 'Glass Tiger', 'Ph.D.',\n",
              "       'June Lodge & Prince Mohammed', 'Nicole', 'Robbie Nevil',\n",
              "       'Ivan [ES]', 'Silver Pozzoli', 'DÃ–F', 'Riccardo Fogli',\n",
              "       'Inner City', 'Bucks Fizz', 'Saragossa Band', 'Mel & Kim',\n",
              "       'Peter Kent', 'Pussycat', \"Alexander O'Neal\", 'Willem [DE]',\n",
              "       'Jermaine Jackson', 'Peter Alexander',\n",
              "       'Marc Almond feat. Gene Pitney', 'Klaus & Klaus', 'Sophia George',\n",
              "       'Masquerade', 'Andy Gibb', 'Imagination', 'Sonia', 'My Mine',\n",
              "       'Kon Kan', 'Mike Mareen', 'Princess', 'The Power Station',\n",
              "       'Anne Clark', 'Barbara Dickson', 'The Rock Steady Crew',\n",
              "       'Evelyn Thomas', 'Doctor & The Medics', 'Nickerbocker & Biene',\n",
              "       'Wolfgang Fierek', 'Albert Hammond', 'Stan Ridgway',\n",
              "       'The Art of Noise & Max Headroom', 'Eruption', 'Radiorama',\n",
              "       'Spargo', 'Kelly Marie', 'Agnetha Fältskog', 'Quincy Jones',\n",
              "       'Eartha Kitt', 'Koreana', 'Don Johnson',\n",
              "       'Stefan Waggershausen & Alice', 'Stefan Waggershausen',\n",
              "       'StÃ©phanie', 'Chilly', 'George Kranz',\n",
              "       'John Lennon And The Plastic Ono Band', 'Rocky Burnette',\n",
              "       'Yazz & The Plastic Population', 'Captain & Tennille',\n",
              "       'Fox The Fox', 'Matt Bianco', 'Holly Johnson', 'The Blow Monkeys',\n",
              "       'Achim Reichel', 'Juliane Werding', 'BAP', 'Lee Majors',\n",
              "       'Rita Coolidge', 'Freeez', 'Westernhagen', 'King',\n",
              "       'Fat Boys with Stupid Def Vocals by Chubby Checker', 'Midge Ure',\n",
              "       'Hithouse', 'Sky [UK]', 'Malcolm McLaren', 'Scotch [IT]',\n",
              "       'Gladys Knight', 'Mike Oldfield (Vocals: Maggie Reilly)',\n",
              "       'Extrabreit', 'Secret Service [SE]', 'Barrabas', 'Paul Hardcastle',\n",
              "       'Frank Zappa', 'Delegation', 'Mick Jagger', 'Heino',\n",
              "       'The Jacksons With Mick Jagger', 'Original Naabtal Duo',\n",
              "       'Break Machine', 'Bonnie Bianco & Pierre Cosso', 'Mac Band',\n",
              "       'Mike Oldfield & Bonnie Tyler', 'Mixed Emotions',\n",
              "       'Jürgen von der Lippe', 'Rose Laurens', 'Relax [DE]', 'Texas',\n",
              "       'Natalie Cole', 'Karel Gott & Darinka', 'Sydney Youngblood',\n",
              "       'Sensus', 'Trude Herr', 'Sandy Marton', 'Soulsister',\n",
              "       'The Beautiful South', 'Jackie Wilson', 'Tommy Steiner',\n",
              "       'Four Tops', 'Arabesque', 'Captain Sensible', '16 Bit',\n",
              "       'Thom Pace', 'Hans Hartz', 'Daniel', 'Annie Lennox & Al Green',\n",
              "       'Heike Schäfer', 'STS', 'MC Miker G & DJ Sven',\n",
              "       'The Art of Noise feat. Tom Jones', 'Ten City', 'Leon Haywood',\n",
              "       'Purple Schulz', 'Bomb The Bass', 'Steinwolke', 'Kano [IT]',\n",
              "       'Five Star',\n",
              "       'Mike Oldfield feat. Aled Jones, Anita Hegerland & Barry Palmer',\n",
              "       'Gänsehaut', 'P. Lion', 'Manuel & Pony', 'Johnny Nash',\n",
              "       'Gottlieb Wendehals', 'Matchbox', 'Johnny Logan', 'Paola',\n",
              "       'Pink Project', 'Andrea Jürgens', 'Hubert Kah', 'Michael Holm',\n",
              "       'Drafi Deutscher', 'The Twins', 'Maywood', 'The Stranglers',\n",
              "       'Coast To Coast', 'Sinitta', 'Rheingold', 'Rocco & The Carnations',\n",
              "       'Mireille Mathieu & Patrick Duffy', 'Gibson Brothers', 'Re-Flex',\n",
              "       'UKW', 'Rolf und seine Freunde', \"Shakin' Stevens & Bonnie Tyler\",\n",
              "       'Krush', \"Malcolm McLaren & The World's Famous Supreme Team\",\n",
              "       'Markus', 'Oliver Onions', 'Tony Carey', 'Marillion',\n",
              "       'Orlando Riva Sound', 'Ashford & Simpson', 'Bonnie Bianco',\n",
              "       'Nick Straker Band', 'Nana Mouskouri', 'PiL', 'Marti Webb',\n",
              "       'Renee & Renato', 'Saga', 'Tracey Ullman', 'Katja Ebstein',\n",
              "       'Die Doraus & die Marinas', 'Blancmange', 'Al Hudson & Partners',\n",
              "       'Lena Valaitis', 'Alisha', 'D. Mob Feat. Gary Haisman',\n",
              "       'Marianne Rosenberg', 'Max Him', 'Mike Oldfield and Roger Chapman',\n",
              "       'Brother Beyond', 'Aswad', 'B.A. Robertson', 'Keith Marshall',\n",
              "       'Edelweiss', 'JoBoxers', 'Liza Minnelli', 'Andreas Martin',\n",
              "       'Vicky Leandros', 'Picnic At The Whitehouse', 'Mysterious Art',\n",
              "       'Tullio de Piscopo', 'S-Express', 'Inker & Hamilton', 'Max Werner',\n",
              "       'David Christie', 'Mel Brooks', 'Ideal', 'Den Harrow', 'Icehouse',\n",
              "       'Nicki', 'Antonello Venditti', 'Wax [UK]', 'Ina Deter Band',\n",
              "       'Shakatak', 'Spliff', 'Lio [BE]', 'Bernie Paul',\n",
              "       'Bronski Beat & Marc Almond', 'Bruce & Bongo',\n",
              "       'Redhead Kingpin & The FBI', 'Mezzoforte', 'The Real Thing',\n",
              "       'Eroc', 'Denise Lasalle', 'Doris D. & The Pins', 'Maria Vidal',\n",
              "       'Rodgau Monotones', 'Hanne Haller', 'Schrott nach 8',\n",
              "       'Toni Childs', 'Hoffmann & Hoffmann',\n",
              "       'Gary Bird & The G.B. Experience', 'The Catch', 'The Jonzun Crew',\n",
              "       'The Art of Noise feat. Duane Eddy', 'Fischer-Z', 'Lee Marrow',\n",
              "       'Udo Lindenberg & Pascal', 'Rex Gildo', 'Karel Fialka',\n",
              "       'Bläck FÃ¶Ã¶ss', 'The Timelords', 'Boris Gardiner', 'Boytronic',\n",
              "       'Wet Wet Wet', 'Flash & The Pan', 'Owen Paul',\n",
              "       'Bomb The Bass & Lorraine', 'Guillermo Marchena',\n",
              "       'Garland Jeffreys', 'Artists United Against Apartheid',\n",
              "       'Charlie Dore', 'Steve Arrington', 'Truck Stop', 'Gitte Haenning',\n",
              "       'Tracie Spencer', 'Helen Schneider', 'Ixi',\n",
              "       'Peter Kent & Luisa Fernandez', 'Stephan Sulke', 'Fehlfarben',\n",
              "       'Christian Franke', 'Ferry Aid', 'Rainbirds',\n",
              "       'Bananarama & La Na Nee Nee Noo Noo', 'Hothouse Flowers',\n",
              "       'Trio Rio', 'Malcolm McLaren & The Bootzilla Orchestra',\n",
              "       'Sweet People', 'Guesch Patti', 'Mike Batt', 'Showaddywaddy',\n",
              "       'Inga & Anete Humpe', 'Alan Price', 'Schweizer', 'Kiz', 'Wind',\n",
              "       'Alvin Stardust', 'Haindling', 'Amanda Lear', 'Chico Chico',\n",
              "       'Will Downing', 'David Cassidy', 'The Pasadenas',\n",
              "       'Booker Newberry III', 'Jawoll', 'Pete Townshend', 'Roy Black',\n",
              "       'Heaven 17', 'Kim Merz', 'Mai Tai', 'The Nits', 'Hypnosis',\n",
              "       'Beagle Music Ltd.', 'B.V.S.M.P.', 'Ingrid Kup', \"Electronica's\",\n",
              "       'Round One', 'ZaZa', 'Martinelli', 'Marietta', 'Lady Lily',\n",
              "       \"Stephen 'Tin Tin' Duffy\", 'Niko', 'Bernhard Brink',\n",
              "       'Thomas Anders', 'Paso Doble', 'The Other Ones', 'Dominoe',\n",
              "       'Peter Griffin', 'United Balls',\n",
              "       'Purple Schulz und die Neue Heimat', 'Amii Stewart',\n",
              "       'Haysi Fantayzee', 'Fred Sonnenschein und seine Freunde',\n",
              "       'The Jeremy Days', 'The Winners', \"Salt 'n' Pepa feat. E.U.\",\n",
              "       'Tangerine Dream', 'Dave Stewart & Barbara Gaskin', 'Ricky King',\n",
              "       'Rachel Sweet', 'The Royal Philharmonic Orchestra (RPO)',\n",
              "       'Sally Oldfield', 'Steve Allen', 'Udo Jürgens', 'Far Corporation',\n",
              "       'Tim Curry', 'Mike Anthony', 'Costa Cordalis', 'Pepsi & Shirlie',\n",
              "       'Stacy Lattisaw', 'G. G. Anderson', 'Roni Griffith', 'Alf',\n",
              "       'Mandy', 'Device', 'Divine [US]', 'Traks', 'Exile',\n",
              "       'Tony Christie', 'Leinemann',\n",
              "       'Michael Schanze und die Fußball-Nationalmannschaft',\n",
              "       'Giorgio Moroder & Paul Engemann', 'Neue Heimat', 'Whodini',\n",
              "       'Ted Herold', 'Wee Papa Girl Rappers', 'Two Of Us', 'Milva',\n",
              "       'Coldcut Feat. Lisa Stansfield', 'Out Of The Ordinary',\n",
              "       'Les McKeown', 'Bob Geldof', 'Hollywood Beyond', 'Big Fun',\n",
              "       'Pia Zadora', 'The Boomtown Rats',\n",
              "       'The Christians, Holly Johnson, Paul McCartney, Gerry Marsden & Stock Aitken Waterman',\n",
              "       'Hazell Dean', 'Chris Thompson', 'Blind Date [DE]', 'Frl. Menke',\n",
              "       'Emmylou Harris', 'Joe Bataan', \"Honesty '69\", 'Hongkong Syndikat',\n",
              "       'Angelika Milster', 'Warning', 'Video Kids', 'The Assembly',\n",
              "       'Tommy Piper singt Alf', 'Phil Carmen', 'Ace Cats',\n",
              "       'Band für Afrika', 'The Adventures', 'Conny & Jean',\n",
              "       'Alan And Denise', 'Frank Zander', 'Silicon Dream', 'Moses P.',\n",
              "       'Stephan & Nina', 'Lou & Hollywood Bananas', 'Mandy Winter',\n",
              "       'First Patrol', 'Lobo [NL]', 'Robert Howard & Kym Mazelle',\n",
              "       'Helga Feddersen', 'Bolland & Bolland', 'Pete Bardens',\n",
              "       'Nicole J. McCloud', 'Moti Special', 'Racey', 'Hannes KrÃ¶ger',\n",
              "       'Jule Neigel Band', 'Geoffrey Williams', 'Bill Withers',\n",
              "       'Jack Goldbird', 'Mink DeVille', 'Yazz', 'Frank Duval',\n",
              "       'Heidi Brühl', 'Savage Progress', 'Chris Roberts', 'Clout',\n",
              "       'Dieter Hallervorden', 'Coldcut', 'Die Schlümpfe',\n",
              "       'Coldcut feat. Junior Reid', 'Glen Goldsmith', 'Ingrid Peters',\n",
              "       'Taco [NL]', 'Christian Bruhn', 'Endgames', 'Pierre Cosso',\n",
              "       'Wolf Maahn und Unterstützung', 'Karel Gott', 'T.X.T.',\n",
              "       'Mini Pigs', 'Peter Petrel', \"G'Race\", 'Tony Holiday',\n",
              "       'Hannes SchÃ¶ner', 'Ellis, Beggs & Howard', 'Tone Band',\n",
              "       'Helmut Frey', 'P4F', 'Tommi Ohrner', 'Fritz Brause', 'Sean Tyla',\n",
              "       'Patto', 'Rififi', 'Electric Boogie Men', 'The Fools',\n",
              "       'Olsen Brothers', 'Bogart', 'Tolga Flim Flam Balkan',\n",
              "       'Deborah Sasson', 'Mary Roos und David Hanselmann',\n",
              "       'Deborah Sasson & MCL', 'The Hornettes', 'Jürgen Marcus',\n",
              "       'Hot Shot'], dtype=object)"
            ]
          },
          "metadata": {},
          "execution_count": 58
        }
      ]
    },
    {
      "cell_type": "markdown",
      "source": [
        "Wenn mehrere Künstler zusammen einen Song veröffentlich haben, sind diese hier mit einem `&` getrennt. Dies muss zunächst aufgelöst werden."
      ],
      "metadata": {
        "id": "mRTbFJZbApxm"
      },
      "id": "mRTbFJZbApxm"
    },
    {
      "cell_type": "code",
      "source": [
        "chart_power_df[\"Artist\"] = chart_power_df[\"Artist\"].str.split(\" & \")\n",
        "chart_power_df_explode = chart_power_df.explode(\"Artist\", ignore_index=True)"
      ],
      "metadata": {
        "id": "j0WG2ulaBleV"
      },
      "id": "j0WG2ulaBleV",
      "execution_count": 59,
      "outputs": []
    },
    {
      "cell_type": "code",
      "source": [
        "chart_power_df_explode"
      ],
      "metadata": {
        "id": "DTHv1YtUECll",
        "outputId": "b9af93ec-03ce-473c-9306-3060bb169fbf",
        "colab": {
          "base_uri": "https://localhost:8080/",
          "height": 424
        }
      },
      "id": "DTHv1YtUECll",
      "execution_count": 60,
      "outputs": [
        {
          "output_type": "execute_result",
          "data": {
            "text/plain": [
              "      Year     Edates                       Song              Artist  Points\n",
              "0     1984 1984-04-16                      Hello       Lionel Richie    1330\n",
              "1     1985 1985-05-27                    Axel F.  Harold Faltermeyer    1467\n",
              "2     1989 1989-09-04                    Lambada               Kaoma    1662\n",
              "3     1986 1986-01-06                 Take On Me                A-ha     701\n",
              "4     1985 1985-10-14                 Take On Me                A-ha    1022\n",
              "...    ...        ...                        ...                 ...     ...\n",
              "2138  1987 1987-07-27  Mit Dir Des Wär Mei Leben        Pierre Cosso     702\n",
              "2139  1987 1987-03-23        Ever Fallen In Love   Johnny Hates Jazz     830\n",
              "2140  1987 1987-06-08         If You Let Me Stay               Pepsi     773\n",
              "2141  1987 1987-06-08         If You Let Me Stay             Shirlie     773\n",
              "2142  1987 1987-01-05            Open Your Heart       Crowded House     718\n",
              "\n",
              "[2143 rows x 5 columns]"
            ],
            "text/html": [
              "\n",
              "  <div id=\"df-a19dfad5-de24-4d00-81f3-bd4ec4967bad\" class=\"colab-df-container\">\n",
              "    <div>\n",
              "<style scoped>\n",
              "    .dataframe tbody tr th:only-of-type {\n",
              "        vertical-align: middle;\n",
              "    }\n",
              "\n",
              "    .dataframe tbody tr th {\n",
              "        vertical-align: top;\n",
              "    }\n",
              "\n",
              "    .dataframe thead th {\n",
              "        text-align: right;\n",
              "    }\n",
              "</style>\n",
              "<table border=\"1\" class=\"dataframe\">\n",
              "  <thead>\n",
              "    <tr style=\"text-align: right;\">\n",
              "      <th></th>\n",
              "      <th>Year</th>\n",
              "      <th>Edates</th>\n",
              "      <th>Song</th>\n",
              "      <th>Artist</th>\n",
              "      <th>Points</th>\n",
              "    </tr>\n",
              "  </thead>\n",
              "  <tbody>\n",
              "    <tr>\n",
              "      <th>0</th>\n",
              "      <td>1984</td>\n",
              "      <td>1984-04-16</td>\n",
              "      <td>Hello</td>\n",
              "      <td>Lionel Richie</td>\n",
              "      <td>1330</td>\n",
              "    </tr>\n",
              "    <tr>\n",
              "      <th>1</th>\n",
              "      <td>1985</td>\n",
              "      <td>1985-05-27</td>\n",
              "      <td>Axel F.</td>\n",
              "      <td>Harold Faltermeyer</td>\n",
              "      <td>1467</td>\n",
              "    </tr>\n",
              "    <tr>\n",
              "      <th>2</th>\n",
              "      <td>1989</td>\n",
              "      <td>1989-09-04</td>\n",
              "      <td>Lambada</td>\n",
              "      <td>Kaoma</td>\n",
              "      <td>1662</td>\n",
              "    </tr>\n",
              "    <tr>\n",
              "      <th>3</th>\n",
              "      <td>1986</td>\n",
              "      <td>1986-01-06</td>\n",
              "      <td>Take On Me</td>\n",
              "      <td>A-ha</td>\n",
              "      <td>701</td>\n",
              "    </tr>\n",
              "    <tr>\n",
              "      <th>4</th>\n",
              "      <td>1985</td>\n",
              "      <td>1985-10-14</td>\n",
              "      <td>Take On Me</td>\n",
              "      <td>A-ha</td>\n",
              "      <td>1022</td>\n",
              "    </tr>\n",
              "    <tr>\n",
              "      <th>...</th>\n",
              "      <td>...</td>\n",
              "      <td>...</td>\n",
              "      <td>...</td>\n",
              "      <td>...</td>\n",
              "      <td>...</td>\n",
              "    </tr>\n",
              "    <tr>\n",
              "      <th>2138</th>\n",
              "      <td>1987</td>\n",
              "      <td>1987-07-27</td>\n",
              "      <td>Mit Dir Des Wär Mei Leben</td>\n",
              "      <td>Pierre Cosso</td>\n",
              "      <td>702</td>\n",
              "    </tr>\n",
              "    <tr>\n",
              "      <th>2139</th>\n",
              "      <td>1987</td>\n",
              "      <td>1987-03-23</td>\n",
              "      <td>Ever Fallen In Love</td>\n",
              "      <td>Johnny Hates Jazz</td>\n",
              "      <td>830</td>\n",
              "    </tr>\n",
              "    <tr>\n",
              "      <th>2140</th>\n",
              "      <td>1987</td>\n",
              "      <td>1987-06-08</td>\n",
              "      <td>If You Let Me Stay</td>\n",
              "      <td>Pepsi</td>\n",
              "      <td>773</td>\n",
              "    </tr>\n",
              "    <tr>\n",
              "      <th>2141</th>\n",
              "      <td>1987</td>\n",
              "      <td>1987-06-08</td>\n",
              "      <td>If You Let Me Stay</td>\n",
              "      <td>Shirlie</td>\n",
              "      <td>773</td>\n",
              "    </tr>\n",
              "    <tr>\n",
              "      <th>2142</th>\n",
              "      <td>1987</td>\n",
              "      <td>1987-01-05</td>\n",
              "      <td>Open Your Heart</td>\n",
              "      <td>Crowded House</td>\n",
              "      <td>718</td>\n",
              "    </tr>\n",
              "  </tbody>\n",
              "</table>\n",
              "<p>2143 rows × 5 columns</p>\n",
              "</div>\n",
              "    <div class=\"colab-df-buttons\">\n",
              "\n",
              "  <div class=\"colab-df-container\">\n",
              "    <button class=\"colab-df-convert\" onclick=\"convertToInteractive('df-a19dfad5-de24-4d00-81f3-bd4ec4967bad')\"\n",
              "            title=\"Convert this dataframe to an interactive table.\"\n",
              "            style=\"display:none;\">\n",
              "\n",
              "  <svg xmlns=\"http://www.w3.org/2000/svg\" height=\"24px\" viewBox=\"0 -960 960 960\">\n",
              "    <path d=\"M120-120v-720h720v720H120Zm60-500h600v-160H180v160Zm220 220h160v-160H400v160Zm0 220h160v-160H400v160ZM180-400h160v-160H180v160Zm440 0h160v-160H620v160ZM180-180h160v-160H180v160Zm440 0h160v-160H620v160Z\"/>\n",
              "  </svg>\n",
              "    </button>\n",
              "\n",
              "  <style>\n",
              "    .colab-df-container {\n",
              "      display:flex;\n",
              "      gap: 12px;\n",
              "    }\n",
              "\n",
              "    .colab-df-convert {\n",
              "      background-color: #E8F0FE;\n",
              "      border: none;\n",
              "      border-radius: 50%;\n",
              "      cursor: pointer;\n",
              "      display: none;\n",
              "      fill: #1967D2;\n",
              "      height: 32px;\n",
              "      padding: 0 0 0 0;\n",
              "      width: 32px;\n",
              "    }\n",
              "\n",
              "    .colab-df-convert:hover {\n",
              "      background-color: #E2EBFA;\n",
              "      box-shadow: 0px 1px 2px rgba(60, 64, 67, 0.3), 0px 1px 3px 1px rgba(60, 64, 67, 0.15);\n",
              "      fill: #174EA6;\n",
              "    }\n",
              "\n",
              "    .colab-df-buttons div {\n",
              "      margin-bottom: 4px;\n",
              "    }\n",
              "\n",
              "    [theme=dark] .colab-df-convert {\n",
              "      background-color: #3B4455;\n",
              "      fill: #D2E3FC;\n",
              "    }\n",
              "\n",
              "    [theme=dark] .colab-df-convert:hover {\n",
              "      background-color: #434B5C;\n",
              "      box-shadow: 0px 1px 3px 1px rgba(0, 0, 0, 0.15);\n",
              "      filter: drop-shadow(0px 1px 2px rgba(0, 0, 0, 0.3));\n",
              "      fill: #FFFFFF;\n",
              "    }\n",
              "  </style>\n",
              "\n",
              "    <script>\n",
              "      const buttonEl =\n",
              "        document.querySelector('#df-a19dfad5-de24-4d00-81f3-bd4ec4967bad button.colab-df-convert');\n",
              "      buttonEl.style.display =\n",
              "        google.colab.kernel.accessAllowed ? 'block' : 'none';\n",
              "\n",
              "      async function convertToInteractive(key) {\n",
              "        const element = document.querySelector('#df-a19dfad5-de24-4d00-81f3-bd4ec4967bad');\n",
              "        const dataTable =\n",
              "          await google.colab.kernel.invokeFunction('convertToInteractive',\n",
              "                                                    [key], {});\n",
              "        if (!dataTable) return;\n",
              "\n",
              "        const docLinkHtml = 'Like what you see? Visit the ' +\n",
              "          '<a target=\"_blank\" href=https://colab.research.google.com/notebooks/data_table.ipynb>data table notebook</a>'\n",
              "          + ' to learn more about interactive tables.';\n",
              "        element.innerHTML = '';\n",
              "        dataTable['output_type'] = 'display_data';\n",
              "        await google.colab.output.renderOutput(dataTable, element);\n",
              "        const docLink = document.createElement('div');\n",
              "        docLink.innerHTML = docLinkHtml;\n",
              "        element.appendChild(docLink);\n",
              "      }\n",
              "    </script>\n",
              "  </div>\n",
              "\n",
              "\n",
              "<div id=\"df-d7ab8031-5d50-496c-a7b1-abe3a3267053\">\n",
              "  <button class=\"colab-df-quickchart\" onclick=\"quickchart('df-d7ab8031-5d50-496c-a7b1-abe3a3267053')\"\n",
              "            title=\"Suggest charts.\"\n",
              "            style=\"display:none;\">\n",
              "\n",
              "<svg xmlns=\"http://www.w3.org/2000/svg\" height=\"24px\"viewBox=\"0 0 24 24\"\n",
              "     width=\"24px\">\n",
              "    <g>\n",
              "        <path d=\"M19 3H5c-1.1 0-2 .9-2 2v14c0 1.1.9 2 2 2h14c1.1 0 2-.9 2-2V5c0-1.1-.9-2-2-2zM9 17H7v-7h2v7zm4 0h-2V7h2v10zm4 0h-2v-4h2v4z\"/>\n",
              "    </g>\n",
              "</svg>\n",
              "  </button>\n",
              "\n",
              "<style>\n",
              "  .colab-df-quickchart {\n",
              "    background-color: #E8F0FE;\n",
              "    border: none;\n",
              "    border-radius: 50%;\n",
              "    cursor: pointer;\n",
              "    display: none;\n",
              "    fill: #1967D2;\n",
              "    height: 32px;\n",
              "    padding: 0 0 0 0;\n",
              "    width: 32px;\n",
              "  }\n",
              "\n",
              "  .colab-df-quickchart:hover {\n",
              "    background-color: #E2EBFA;\n",
              "    box-shadow: 0px 1px 2px rgba(60, 64, 67, 0.3), 0px 1px 3px 1px rgba(60, 64, 67, 0.15);\n",
              "    fill: #174EA6;\n",
              "  }\n",
              "\n",
              "  [theme=dark] .colab-df-quickchart {\n",
              "    background-color: #3B4455;\n",
              "    fill: #D2E3FC;\n",
              "  }\n",
              "\n",
              "  [theme=dark] .colab-df-quickchart:hover {\n",
              "    background-color: #434B5C;\n",
              "    box-shadow: 0px 1px 3px 1px rgba(0, 0, 0, 0.15);\n",
              "    filter: drop-shadow(0px 1px 2px rgba(0, 0, 0, 0.3));\n",
              "    fill: #FFFFFF;\n",
              "  }\n",
              "</style>\n",
              "\n",
              "  <script>\n",
              "    async function quickchart(key) {\n",
              "      const charts = await google.colab.kernel.invokeFunction(\n",
              "          'suggestCharts', [key], {});\n",
              "    }\n",
              "    (() => {\n",
              "      let quickchartButtonEl =\n",
              "        document.querySelector('#df-d7ab8031-5d50-496c-a7b1-abe3a3267053 button');\n",
              "      quickchartButtonEl.style.display =\n",
              "        google.colab.kernel.accessAllowed ? 'block' : 'none';\n",
              "    })();\n",
              "  </script>\n",
              "</div>\n",
              "    </div>\n",
              "  </div>\n"
            ]
          },
          "metadata": {},
          "execution_count": 60
        }
      ]
    },
    {
      "cell_type": "code",
      "source": [
        "def filter_track_features(track, genre):\n",
        "    '''\n",
        "    Filters the relevant features of a track in returns them in JSON object.\n",
        "\n",
        "    Parameter\n",
        "    ---------\n",
        "    track: Object\n",
        "        Track returend by the spotify API\n",
        "\n",
        "    genre: string\n",
        "        Genre that should be used\n",
        "\n",
        "    Return\n",
        "    ------\n",
        "    relevant_features: Object\n",
        "        JSON Object that contains the relevant featues\n",
        "    '''\n",
        "\n",
        "    features = sp.audio_features(track['id'])[0]\n",
        "\n",
        "    external_ids = track['external_ids'] if 'external_ids' in track else {}\n",
        "    isrc = external_ids['isrc'] if 'isrc' in external_ids else NaN\n",
        "    artist_names = []\n",
        "\n",
        "    if 'artists' in track and type(track['artists']) == list:\n",
        "        for artist in track['artists']:\n",
        "            if 'name' in artist:\n",
        "                artist_names.append(artist['name'])\n",
        "\n",
        "    artist_names = ','.join(artist_names)\n",
        "\n",
        "    if 'album' in track:\n",
        "        album = track['album']['name'] if 'name' in track['album'] else NaN\n",
        "        release_date = track['album']['release_date'] if 'release_date' in track['album'] else NaN\n",
        "        release_date_precision = track['album']['release_date_precision'] if 'release_date_precision' in track['album'] else NaN\n",
        "    else:\n",
        "         album = NaN\n",
        "         release_date = NaN\n",
        "         release_date_precision = NaN\n",
        "\n",
        "\n",
        "    track_name = track['name'] if 'name' in track else NaN\n",
        "    if track_name != NaN:\n",
        "        points = chart_power_df.loc[(chart_power_df.Song == track_name.lower()) & (chart_power_df.Artist == artist_names.lower())]['Points']\n",
        "        if points.empty:\n",
        "             points = NaN\n",
        "        else:\n",
        "            points = int(points)\n",
        "    else:\n",
        "         points = NaN\n",
        "\n",
        "\n",
        "    return {\n",
        "        'name': track_name,\n",
        "        'artists': artist_names,\n",
        "        'album': album,\n",
        "        'release_date': release_date,\n",
        "        'release_date_precision': release_date_precision,\n",
        "        'spotify_id': track['id'] if 'id' in track else NaN,\n",
        "        'chart_power': points,\n",
        "        'uri': track['uri'] if 'uri' in track else NaN,\n",
        "        'popularity': track['popularity'] if 'popularity' in track else NaN,\n",
        "        'genres': genre,\n",
        "        'danceability': features['danceability'] if 'danceability' in features else NaN,\n",
        "        'energy': features['energy'] if 'energy' in features else NaN,\n",
        "        'key': features['key'] if 'key' in features else NaN,\n",
        "        'loudness': features['loudness'] if 'loudness' in features else NaN,\n",
        "        'mode': features['mode'] if 'mode' in features else NaN,\n",
        "        'speechiness': features['speechiness'] if 'speechiness' in features else NaN,\n",
        "        'acousticness': features['acousticness'] if 'acousticness' in features else NaN,\n",
        "        'instrumentalness': features['instrumentalness'] if 'instrumentalness' in features else NaN,\n",
        "        'liveness': features['liveness'] if 'liveness' in features else NaN,\n",
        "        'valence': features['valence'] if 'valence' in features else NaN,\n",
        "        'tempo': features['tempo'] if 'tempo' in features else NaN,\n",
        "        'duration_ms': features['duration_ms'] if 'duration_ms' in features else NaN,\n",
        "        'time_signature': features['time_signature'] if 'time_signature' in features else NaN,\n",
        "        'isrc': isrc,\n",
        "    }"
      ],
      "metadata": {
        "id": "xqvBU-fOJKTl"
      },
      "id": "xqvBU-fOJKTl",
      "execution_count": 67,
      "outputs": []
    },
    {
      "cell_type": "code",
      "source": [
        "def get_number_of_tracks(release_year, artist, genres):\n",
        "    '''\n",
        "    Retrieves the number of tracks the spotfiy API returns for a specific query.\n",
        "    '''\n",
        "    try:\n",
        "        result = sp.search(q=f'year:{release_year} artist:{artist} genre:{genre}', type='track', limit=1, offset=0, market='DE')\n",
        "        tracks = result['tracks'] if 'tracks' in result else ''\n",
        "        return tracks['total'] if 'total' in tracks else 0\n",
        "    except Exception as e:\n",
        "        print(e)\n",
        "        #error_logger.error(e)\n",
        "    return 0"
      ],
      "metadata": {
        "id": "WmdEhgeeFw7y"
      },
      "id": "WmdEhgeeFw7y",
      "execution_count": 68,
      "outputs": []
    },
    {
      "cell_type": "code",
      "source": [
        "genres = ['chicago-house', 'hard-rock', 'rock', 'power-pop', 'guitar', 'hardcore',\n",
        "          'groove', 'songwriter', 'garage', 'disco', 'grunge', 'ambient',\n",
        "          'minimal-techno', 'brazil', 'indie', 'detroit-techno', 'electronic',\n",
        "          'edm', 'dubstep', 'children', 'drum-and-bass', 'indian', 'death-metal',\n",
        "          'club', 'salsa', 'bluegrass', 'metal', 'reggae', 'tango', 'black-metal',\n",
        "          'british', 'german', 'punk', 'reggaeton', 'alternative', 'soul', 'r-n-b',\n",
        "          'goth', 'pop-film', 'breakbeat', 'indie-pop', 'heavy-metal', 'dance',\n",
        "          'honky-tonk', 'dancehall', 'dub', 'singer-songwriter', 'spanish',\n",
        "          'deep-house', 'rock-n-roll', 'techno', 'hip-hop', 'punk-rock', 'industrial',\n",
        "          'afrobeat', 'trip-hop', 'funk', 'blues', 'swedish', 'latino', 'alt-rock',\n",
        "          'country', 'acoustic', 'trance', 'grindcore', 'ska', 'house', 'progressive-house',\n",
        "          'new-age', 'electro', 'rockabilly', 'party', 'pop', 'synth-pop', 'latin',\n",
        "          'psych-rock']"
      ],
      "metadata": {
        "id": "ed2zqIflNBmu"
      },
      "id": "ed2zqIflNBmu",
      "execution_count": 69,
      "outputs": []
    },
    {
      "cell_type": "code",
      "source": [
        "artist_over_1000 = []\n",
        "df = pd.DataFrame()\n",
        "with tqdm(total=944*len(genres)) as pbar:\n",
        "  for artist in list(chart_power_df_explode[\"Artist\"].unique()):\n",
        "    for genre in genres:\n",
        "      total_results = get_number_of_tracks(\"1980-1989\", artist, genre)\n",
        "      if total_results < 1000:\n",
        "        offset = 0\n",
        "        while offset < total_results:\n",
        "          try:\n",
        "            track_features = []\n",
        "            result = sp.search(q=f\"year:1980-1989 artist:{artist} genre:{genre}\", type=\"track\", limit=50, offset=offset, market=\"DE\")\n",
        "            tracks = result[\"tracks\"] if \"tracks\" in result else \"\"\n",
        "            if \"items\" in tracks:\n",
        "              for track in tracks[\"items\"]:\n",
        "                features = filter_track_features(track, genre)\n",
        "                track_features.append(features)\n",
        "              offset += 50\n",
        "              df = pd.concat([df, pd.DataFrame(track_features)], ignore_index=True)\n",
        "            else:\n",
        "              continue\n",
        "          except Exception as e:\n",
        "            print(e)\n",
        "      else:\n",
        "        print(f\"Artist {artist} has published over 1000 songs in the 80s\")\n",
        "        artist_over_1000.append(artist)\n",
        "\n",
        "      pbar.update(1)"
      ],
      "metadata": {
        "id": "O-BgiLVNEEIB",
        "outputId": "15adf643-a922-49c1-bfb6-eec5e3eee5d7",
        "colab": {
          "base_uri": "https://localhost:8080/",
          "height": 573
        }
      },
      "id": "O-BgiLVNEEIB",
      "execution_count": 71,
      "outputs": [
        {
          "output_type": "stream",
          "name": "stderr",
          "text": [
            "  0%|          | 2/71744 [00:00<1:05:51, 18.16it/s]ERROR:spotipy.client:Max Retries reached\n"
          ]
        },
        {
          "output_type": "stream",
          "name": "stdout",
          "text": [
            "(429, -1, '/v1/audio-features/?ids=0snPJPxkk0MbTc0xeUvAPt:\\n Max Retries')\n"
          ]
        },
        {
          "output_type": "stream",
          "name": "stderr",
          "text": [
            "ERROR:spotipy.client:Max Retries reached\n"
          ]
        },
        {
          "output_type": "stream",
          "name": "stdout",
          "text": [
            "(429, -1, '/v1/audio-features/?ids=0snPJPxkk0MbTc0xeUvAPt:\\n Max Retries')\n"
          ]
        },
        {
          "output_type": "stream",
          "name": "stderr",
          "text": [
            "ERROR:spotipy.client:Max Retries reached\n"
          ]
        },
        {
          "output_type": "stream",
          "name": "stdout",
          "text": [
            "(429, -1, '/v1/audio-features/?ids=0snPJPxkk0MbTc0xeUvAPt:\\n Max Retries')\n"
          ]
        },
        {
          "output_type": "stream",
          "name": "stderr",
          "text": [
            "ERROR:spotipy.client:Max Retries reached\n"
          ]
        },
        {
          "output_type": "stream",
          "name": "stdout",
          "text": [
            "(429, -1, '/v1/audio-features/?ids=0snPJPxkk0MbTc0xeUvAPt:\\n Max Retries')\n"
          ]
        },
        {
          "output_type": "stream",
          "name": "stderr",
          "text": [
            "\r  0%|          | 2/71744 [00:10<104:55:31,  5.27s/it]\n"
          ]
        },
        {
          "output_type": "error",
          "ename": "KeyboardInterrupt",
          "evalue": "ignored",
          "traceback": [
            "\u001b[0;31m---------------------------------------------------------------------------\u001b[0m",
            "\u001b[0;31mKeyboardInterrupt\u001b[0m                         Traceback (most recent call last)",
            "\u001b[0;32m<ipython-input-71-f7770008dac5>\u001b[0m in \u001b[0;36m<cell line: 3>\u001b[0;34m()\u001b[0m\n\u001b[1;32m     14\u001b[0m             \u001b[0;32mif\u001b[0m \u001b[0;34m\"items\"\u001b[0m \u001b[0;32min\u001b[0m \u001b[0mtracks\u001b[0m\u001b[0;34m:\u001b[0m\u001b[0;34m\u001b[0m\u001b[0;34m\u001b[0m\u001b[0m\n\u001b[1;32m     15\u001b[0m               \u001b[0;32mfor\u001b[0m \u001b[0mtrack\u001b[0m \u001b[0;32min\u001b[0m \u001b[0mtracks\u001b[0m\u001b[0;34m[\u001b[0m\u001b[0;34m\"items\"\u001b[0m\u001b[0;34m]\u001b[0m\u001b[0;34m:\u001b[0m\u001b[0;34m\u001b[0m\u001b[0;34m\u001b[0m\u001b[0m\n\u001b[0;32m---> 16\u001b[0;31m                 \u001b[0mfeatures\u001b[0m \u001b[0;34m=\u001b[0m \u001b[0mfilter_track_features\u001b[0m\u001b[0;34m(\u001b[0m\u001b[0mtrack\u001b[0m\u001b[0;34m,\u001b[0m \u001b[0mgenre\u001b[0m\u001b[0;34m)\u001b[0m\u001b[0;34m\u001b[0m\u001b[0;34m\u001b[0m\u001b[0m\n\u001b[0m\u001b[1;32m     17\u001b[0m                 \u001b[0mtrack_features\u001b[0m\u001b[0;34m.\u001b[0m\u001b[0mappend\u001b[0m\u001b[0;34m(\u001b[0m\u001b[0mfeatures\u001b[0m\u001b[0;34m)\u001b[0m\u001b[0;34m\u001b[0m\u001b[0;34m\u001b[0m\u001b[0m\n\u001b[1;32m     18\u001b[0m               \u001b[0moffset\u001b[0m \u001b[0;34m+=\u001b[0m \u001b[0;36m50\u001b[0m\u001b[0;34m\u001b[0m\u001b[0;34m\u001b[0m\u001b[0m\n",
            "\u001b[0;32m<ipython-input-67-f42cdaa64acf>\u001b[0m in \u001b[0;36mfilter_track_features\u001b[0;34m(track, genre)\u001b[0m\n\u001b[1;32m     17\u001b[0m     '''\n\u001b[1;32m     18\u001b[0m \u001b[0;34m\u001b[0m\u001b[0m\n\u001b[0;32m---> 19\u001b[0;31m     \u001b[0mfeatures\u001b[0m \u001b[0;34m=\u001b[0m \u001b[0msp\u001b[0m\u001b[0;34m.\u001b[0m\u001b[0maudio_features\u001b[0m\u001b[0;34m(\u001b[0m\u001b[0mtrack\u001b[0m\u001b[0;34m[\u001b[0m\u001b[0;34m'id'\u001b[0m\u001b[0;34m]\u001b[0m\u001b[0;34m)\u001b[0m\u001b[0;34m[\u001b[0m\u001b[0;36m0\u001b[0m\u001b[0;34m]\u001b[0m\u001b[0;34m\u001b[0m\u001b[0;34m\u001b[0m\u001b[0m\n\u001b[0m\u001b[1;32m     20\u001b[0m \u001b[0;34m\u001b[0m\u001b[0m\n\u001b[1;32m     21\u001b[0m     \u001b[0mexternal_ids\u001b[0m \u001b[0;34m=\u001b[0m \u001b[0mtrack\u001b[0m\u001b[0;34m[\u001b[0m\u001b[0;34m'external_ids'\u001b[0m\u001b[0;34m]\u001b[0m \u001b[0;32mif\u001b[0m \u001b[0;34m'external_ids'\u001b[0m \u001b[0;32min\u001b[0m \u001b[0mtrack\u001b[0m \u001b[0;32melse\u001b[0m \u001b[0;34m{\u001b[0m\u001b[0;34m}\u001b[0m\u001b[0;34m\u001b[0m\u001b[0;34m\u001b[0m\u001b[0m\n",
            "\u001b[0;32m/usr/local/lib/python3.10/dist-packages/spotipy/client.py\u001b[0m in \u001b[0;36maudio_features\u001b[0;34m(self, tracks)\u001b[0m\n\u001b[1;32m   1732\u001b[0m         \u001b[0;32mif\u001b[0m \u001b[0misinstance\u001b[0m\u001b[0;34m(\u001b[0m\u001b[0mtracks\u001b[0m\u001b[0;34m,\u001b[0m \u001b[0mstr\u001b[0m\u001b[0;34m)\u001b[0m\u001b[0;34m:\u001b[0m\u001b[0;34m\u001b[0m\u001b[0;34m\u001b[0m\u001b[0m\n\u001b[1;32m   1733\u001b[0m             \u001b[0mtrackid\u001b[0m \u001b[0;34m=\u001b[0m \u001b[0mself\u001b[0m\u001b[0;34m.\u001b[0m\u001b[0m_get_id\u001b[0m\u001b[0;34m(\u001b[0m\u001b[0;34m\"track\"\u001b[0m\u001b[0;34m,\u001b[0m \u001b[0mtracks\u001b[0m\u001b[0;34m)\u001b[0m\u001b[0;34m\u001b[0m\u001b[0;34m\u001b[0m\u001b[0m\n\u001b[0;32m-> 1734\u001b[0;31m             \u001b[0mresults\u001b[0m \u001b[0;34m=\u001b[0m \u001b[0mself\u001b[0m\u001b[0;34m.\u001b[0m\u001b[0m_get\u001b[0m\u001b[0;34m(\u001b[0m\u001b[0;34m\"audio-features/?ids=\"\u001b[0m \u001b[0;34m+\u001b[0m \u001b[0mtrackid\u001b[0m\u001b[0;34m)\u001b[0m\u001b[0;34m\u001b[0m\u001b[0;34m\u001b[0m\u001b[0m\n\u001b[0m\u001b[1;32m   1735\u001b[0m         \u001b[0;32melse\u001b[0m\u001b[0;34m:\u001b[0m\u001b[0;34m\u001b[0m\u001b[0;34m\u001b[0m\u001b[0m\n\u001b[1;32m   1736\u001b[0m             \u001b[0mtlist\u001b[0m \u001b[0;34m=\u001b[0m \u001b[0;34m[\u001b[0m\u001b[0mself\u001b[0m\u001b[0;34m.\u001b[0m\u001b[0m_get_id\u001b[0m\u001b[0;34m(\u001b[0m\u001b[0;34m\"track\"\u001b[0m\u001b[0;34m,\u001b[0m \u001b[0mt\u001b[0m\u001b[0;34m)\u001b[0m \u001b[0;32mfor\u001b[0m \u001b[0mt\u001b[0m \u001b[0;32min\u001b[0m \u001b[0mtracks\u001b[0m\u001b[0;34m]\u001b[0m\u001b[0;34m\u001b[0m\u001b[0;34m\u001b[0m\u001b[0m\n",
            "\u001b[0;32m/usr/local/lib/python3.10/dist-packages/spotipy/client.py\u001b[0m in \u001b[0;36m_get\u001b[0;34m(self, url, args, payload, **kwargs)\u001b[0m\n\u001b[1;32m    321\u001b[0m             \u001b[0mkwargs\u001b[0m\u001b[0;34m.\u001b[0m\u001b[0mupdate\u001b[0m\u001b[0;34m(\u001b[0m\u001b[0margs\u001b[0m\u001b[0;34m)\u001b[0m\u001b[0;34m\u001b[0m\u001b[0;34m\u001b[0m\u001b[0m\n\u001b[1;32m    322\u001b[0m \u001b[0;34m\u001b[0m\u001b[0m\n\u001b[0;32m--> 323\u001b[0;31m         \u001b[0;32mreturn\u001b[0m \u001b[0mself\u001b[0m\u001b[0;34m.\u001b[0m\u001b[0m_internal_call\u001b[0m\u001b[0;34m(\u001b[0m\u001b[0;34m\"GET\"\u001b[0m\u001b[0;34m,\u001b[0m \u001b[0murl\u001b[0m\u001b[0;34m,\u001b[0m \u001b[0mpayload\u001b[0m\u001b[0;34m,\u001b[0m \u001b[0mkwargs\u001b[0m\u001b[0;34m)\u001b[0m\u001b[0;34m\u001b[0m\u001b[0;34m\u001b[0m\u001b[0m\n\u001b[0m\u001b[1;32m    324\u001b[0m \u001b[0;34m\u001b[0m\u001b[0m\n\u001b[1;32m    325\u001b[0m     \u001b[0;32mdef\u001b[0m \u001b[0m_post\u001b[0m\u001b[0;34m(\u001b[0m\u001b[0mself\u001b[0m\u001b[0;34m,\u001b[0m \u001b[0murl\u001b[0m\u001b[0;34m,\u001b[0m \u001b[0margs\u001b[0m\u001b[0;34m=\u001b[0m\u001b[0;32mNone\u001b[0m\u001b[0;34m,\u001b[0m \u001b[0mpayload\u001b[0m\u001b[0;34m=\u001b[0m\u001b[0;32mNone\u001b[0m\u001b[0;34m,\u001b[0m \u001b[0;34m**\u001b[0m\u001b[0mkwargs\u001b[0m\u001b[0;34m)\u001b[0m\u001b[0;34m:\u001b[0m\u001b[0;34m\u001b[0m\u001b[0;34m\u001b[0m\u001b[0m\n",
            "\u001b[0;32m/usr/local/lib/python3.10/dist-packages/spotipy/client.py\u001b[0m in \u001b[0;36m_internal_call\u001b[0;34m(self, method, url, payload, params)\u001b[0m\n\u001b[1;32m    264\u001b[0m \u001b[0;34m\u001b[0m\u001b[0m\n\u001b[1;32m    265\u001b[0m         \u001b[0;32mtry\u001b[0m\u001b[0;34m:\u001b[0m\u001b[0;34m\u001b[0m\u001b[0;34m\u001b[0m\u001b[0m\n\u001b[0;32m--> 266\u001b[0;31m             response = self._session.request(\n\u001b[0m\u001b[1;32m    267\u001b[0m                 \u001b[0mmethod\u001b[0m\u001b[0;34m,\u001b[0m \u001b[0murl\u001b[0m\u001b[0;34m,\u001b[0m \u001b[0mheaders\u001b[0m\u001b[0;34m=\u001b[0m\u001b[0mheaders\u001b[0m\u001b[0;34m,\u001b[0m \u001b[0mproxies\u001b[0m\u001b[0;34m=\u001b[0m\u001b[0mself\u001b[0m\u001b[0;34m.\u001b[0m\u001b[0mproxies\u001b[0m\u001b[0;34m,\u001b[0m\u001b[0;34m\u001b[0m\u001b[0;34m\u001b[0m\u001b[0m\n\u001b[1;32m    268\u001b[0m                 \u001b[0mtimeout\u001b[0m\u001b[0;34m=\u001b[0m\u001b[0mself\u001b[0m\u001b[0;34m.\u001b[0m\u001b[0mrequests_timeout\u001b[0m\u001b[0;34m,\u001b[0m \u001b[0;34m**\u001b[0m\u001b[0margs\u001b[0m\u001b[0;34m\u001b[0m\u001b[0;34m\u001b[0m\u001b[0m\n",
            "\u001b[0;32m/usr/local/lib/python3.10/dist-packages/requests/sessions.py\u001b[0m in \u001b[0;36mrequest\u001b[0;34m(self, method, url, params, data, headers, cookies, files, auth, timeout, allow_redirects, proxies, hooks, stream, verify, cert, json)\u001b[0m\n\u001b[1;32m    587\u001b[0m         }\n\u001b[1;32m    588\u001b[0m         \u001b[0msend_kwargs\u001b[0m\u001b[0;34m.\u001b[0m\u001b[0mupdate\u001b[0m\u001b[0;34m(\u001b[0m\u001b[0msettings\u001b[0m\u001b[0;34m)\u001b[0m\u001b[0;34m\u001b[0m\u001b[0;34m\u001b[0m\u001b[0m\n\u001b[0;32m--> 589\u001b[0;31m         \u001b[0mresp\u001b[0m \u001b[0;34m=\u001b[0m \u001b[0mself\u001b[0m\u001b[0;34m.\u001b[0m\u001b[0msend\u001b[0m\u001b[0;34m(\u001b[0m\u001b[0mprep\u001b[0m\u001b[0;34m,\u001b[0m \u001b[0;34m**\u001b[0m\u001b[0msend_kwargs\u001b[0m\u001b[0;34m)\u001b[0m\u001b[0;34m\u001b[0m\u001b[0;34m\u001b[0m\u001b[0m\n\u001b[0m\u001b[1;32m    590\u001b[0m \u001b[0;34m\u001b[0m\u001b[0m\n\u001b[1;32m    591\u001b[0m         \u001b[0;32mreturn\u001b[0m \u001b[0mresp\u001b[0m\u001b[0;34m\u001b[0m\u001b[0;34m\u001b[0m\u001b[0m\n",
            "\u001b[0;32m/usr/local/lib/python3.10/dist-packages/requests/sessions.py\u001b[0m in \u001b[0;36msend\u001b[0;34m(self, request, **kwargs)\u001b[0m\n\u001b[1;32m    701\u001b[0m \u001b[0;34m\u001b[0m\u001b[0m\n\u001b[1;32m    702\u001b[0m         \u001b[0;31m# Send the request\u001b[0m\u001b[0;34m\u001b[0m\u001b[0;34m\u001b[0m\u001b[0m\n\u001b[0;32m--> 703\u001b[0;31m         \u001b[0mr\u001b[0m \u001b[0;34m=\u001b[0m \u001b[0madapter\u001b[0m\u001b[0;34m.\u001b[0m\u001b[0msend\u001b[0m\u001b[0;34m(\u001b[0m\u001b[0mrequest\u001b[0m\u001b[0;34m,\u001b[0m \u001b[0;34m**\u001b[0m\u001b[0mkwargs\u001b[0m\u001b[0;34m)\u001b[0m\u001b[0;34m\u001b[0m\u001b[0;34m\u001b[0m\u001b[0m\n\u001b[0m\u001b[1;32m    704\u001b[0m \u001b[0;34m\u001b[0m\u001b[0m\n\u001b[1;32m    705\u001b[0m         \u001b[0;31m# Total elapsed time of the request (approximately)\u001b[0m\u001b[0;34m\u001b[0m\u001b[0;34m\u001b[0m\u001b[0m\n",
            "\u001b[0;32m/usr/local/lib/python3.10/dist-packages/requests/adapters.py\u001b[0m in \u001b[0;36msend\u001b[0;34m(self, request, stream, timeout, verify, cert, proxies)\u001b[0m\n\u001b[1;32m    484\u001b[0m \u001b[0;34m\u001b[0m\u001b[0m\n\u001b[1;32m    485\u001b[0m         \u001b[0;32mtry\u001b[0m\u001b[0;34m:\u001b[0m\u001b[0;34m\u001b[0m\u001b[0;34m\u001b[0m\u001b[0m\n\u001b[0;32m--> 486\u001b[0;31m             resp = conn.urlopen(\n\u001b[0m\u001b[1;32m    487\u001b[0m                 \u001b[0mmethod\u001b[0m\u001b[0;34m=\u001b[0m\u001b[0mrequest\u001b[0m\u001b[0;34m.\u001b[0m\u001b[0mmethod\u001b[0m\u001b[0;34m,\u001b[0m\u001b[0;34m\u001b[0m\u001b[0;34m\u001b[0m\u001b[0m\n\u001b[1;32m    488\u001b[0m                 \u001b[0murl\u001b[0m\u001b[0;34m=\u001b[0m\u001b[0murl\u001b[0m\u001b[0;34m,\u001b[0m\u001b[0;34m\u001b[0m\u001b[0;34m\u001b[0m\u001b[0m\n",
            "\u001b[0;32m/usr/local/lib/python3.10/dist-packages/urllib3/connectionpool.py\u001b[0m in \u001b[0;36murlopen\u001b[0;34m(self, method, url, body, headers, retries, redirect, assert_same_host, timeout, pool_timeout, release_conn, chunked, body_pos, preload_content, decode_content, **response_kw)\u001b[0m\n\u001b[1;32m    939\u001b[0m             \u001b[0mretries\u001b[0m\u001b[0;34m.\u001b[0m\u001b[0msleep\u001b[0m\u001b[0;34m(\u001b[0m\u001b[0mresponse\u001b[0m\u001b[0;34m)\u001b[0m\u001b[0;34m\u001b[0m\u001b[0;34m\u001b[0m\u001b[0m\n\u001b[1;32m    940\u001b[0m             \u001b[0mlog\u001b[0m\u001b[0;34m.\u001b[0m\u001b[0mdebug\u001b[0m\u001b[0;34m(\u001b[0m\u001b[0;34m\"Retry: %s\"\u001b[0m\u001b[0;34m,\u001b[0m \u001b[0murl\u001b[0m\u001b[0;34m)\u001b[0m\u001b[0;34m\u001b[0m\u001b[0;34m\u001b[0m\u001b[0m\n\u001b[0;32m--> 941\u001b[0;31m             return self.urlopen(\n\u001b[0m\u001b[1;32m    942\u001b[0m                 \u001b[0mmethod\u001b[0m\u001b[0;34m,\u001b[0m\u001b[0;34m\u001b[0m\u001b[0;34m\u001b[0m\u001b[0m\n\u001b[1;32m    943\u001b[0m                 \u001b[0murl\u001b[0m\u001b[0;34m,\u001b[0m\u001b[0;34m\u001b[0m\u001b[0;34m\u001b[0m\u001b[0m\n",
            "\u001b[0;32m/usr/local/lib/python3.10/dist-packages/urllib3/connectionpool.py\u001b[0m in \u001b[0;36murlopen\u001b[0;34m(self, method, url, body, headers, retries, redirect, assert_same_host, timeout, pool_timeout, release_conn, chunked, body_pos, preload_content, decode_content, **response_kw)\u001b[0m\n\u001b[1;32m    939\u001b[0m             \u001b[0mretries\u001b[0m\u001b[0;34m.\u001b[0m\u001b[0msleep\u001b[0m\u001b[0;34m(\u001b[0m\u001b[0mresponse\u001b[0m\u001b[0;34m)\u001b[0m\u001b[0;34m\u001b[0m\u001b[0;34m\u001b[0m\u001b[0m\n\u001b[1;32m    940\u001b[0m             \u001b[0mlog\u001b[0m\u001b[0;34m.\u001b[0m\u001b[0mdebug\u001b[0m\u001b[0;34m(\u001b[0m\u001b[0;34m\"Retry: %s\"\u001b[0m\u001b[0;34m,\u001b[0m \u001b[0murl\u001b[0m\u001b[0;34m)\u001b[0m\u001b[0;34m\u001b[0m\u001b[0;34m\u001b[0m\u001b[0m\n\u001b[0;32m--> 941\u001b[0;31m             return self.urlopen(\n\u001b[0m\u001b[1;32m    942\u001b[0m                 \u001b[0mmethod\u001b[0m\u001b[0;34m,\u001b[0m\u001b[0;34m\u001b[0m\u001b[0;34m\u001b[0m\u001b[0m\n\u001b[1;32m    943\u001b[0m                 \u001b[0murl\u001b[0m\u001b[0;34m,\u001b[0m\u001b[0;34m\u001b[0m\u001b[0;34m\u001b[0m\u001b[0m\n",
            "\u001b[0;32m/usr/local/lib/python3.10/dist-packages/urllib3/connectionpool.py\u001b[0m in \u001b[0;36murlopen\u001b[0;34m(self, method, url, body, headers, retries, redirect, assert_same_host, timeout, pool_timeout, release_conn, chunked, body_pos, preload_content, decode_content, **response_kw)\u001b[0m\n\u001b[1;32m    937\u001b[0m \u001b[0;34m\u001b[0m\u001b[0m\n\u001b[1;32m    938\u001b[0m             \u001b[0mresponse\u001b[0m\u001b[0;34m.\u001b[0m\u001b[0mdrain_conn\u001b[0m\u001b[0;34m(\u001b[0m\u001b[0;34m)\u001b[0m\u001b[0;34m\u001b[0m\u001b[0;34m\u001b[0m\u001b[0m\n\u001b[0;32m--> 939\u001b[0;31m             \u001b[0mretries\u001b[0m\u001b[0;34m.\u001b[0m\u001b[0msleep\u001b[0m\u001b[0;34m(\u001b[0m\u001b[0mresponse\u001b[0m\u001b[0;34m)\u001b[0m\u001b[0;34m\u001b[0m\u001b[0;34m\u001b[0m\u001b[0m\n\u001b[0m\u001b[1;32m    940\u001b[0m             \u001b[0mlog\u001b[0m\u001b[0;34m.\u001b[0m\u001b[0mdebug\u001b[0m\u001b[0;34m(\u001b[0m\u001b[0;34m\"Retry: %s\"\u001b[0m\u001b[0;34m,\u001b[0m \u001b[0murl\u001b[0m\u001b[0;34m)\u001b[0m\u001b[0;34m\u001b[0m\u001b[0;34m\u001b[0m\u001b[0m\n\u001b[1;32m    941\u001b[0m             return self.urlopen(\n",
            "\u001b[0;32m/usr/local/lib/python3.10/dist-packages/urllib3/util/retry.py\u001b[0m in \u001b[0;36msleep\u001b[0;34m(self, response)\u001b[0m\n\u001b[1;32m    357\u001b[0m                 \u001b[0;32mreturn\u001b[0m\u001b[0;34m\u001b[0m\u001b[0;34m\u001b[0m\u001b[0m\n\u001b[1;32m    358\u001b[0m \u001b[0;34m\u001b[0m\u001b[0m\n\u001b[0;32m--> 359\u001b[0;31m         \u001b[0mself\u001b[0m\u001b[0;34m.\u001b[0m\u001b[0m_sleep_backoff\u001b[0m\u001b[0;34m(\u001b[0m\u001b[0;34m)\u001b[0m\u001b[0;34m\u001b[0m\u001b[0;34m\u001b[0m\u001b[0m\n\u001b[0m\u001b[1;32m    360\u001b[0m \u001b[0;34m\u001b[0m\u001b[0m\n\u001b[1;32m    361\u001b[0m     \u001b[0;32mdef\u001b[0m \u001b[0m_is_connection_error\u001b[0m\u001b[0;34m(\u001b[0m\u001b[0mself\u001b[0m\u001b[0;34m,\u001b[0m \u001b[0merr\u001b[0m\u001b[0;34m:\u001b[0m \u001b[0mException\u001b[0m\u001b[0;34m)\u001b[0m \u001b[0;34m->\u001b[0m \u001b[0mbool\u001b[0m\u001b[0;34m:\u001b[0m\u001b[0;34m\u001b[0m\u001b[0;34m\u001b[0m\u001b[0m\n",
            "\u001b[0;32m/usr/local/lib/python3.10/dist-packages/urllib3/util/retry.py\u001b[0m in \u001b[0;36m_sleep_backoff\u001b[0;34m(self)\u001b[0m\n\u001b[1;32m    341\u001b[0m         \u001b[0;32mif\u001b[0m \u001b[0mbackoff\u001b[0m \u001b[0;34m<=\u001b[0m \u001b[0;36m0\u001b[0m\u001b[0;34m:\u001b[0m\u001b[0;34m\u001b[0m\u001b[0;34m\u001b[0m\u001b[0m\n\u001b[1;32m    342\u001b[0m             \u001b[0;32mreturn\u001b[0m\u001b[0;34m\u001b[0m\u001b[0;34m\u001b[0m\u001b[0m\n\u001b[0;32m--> 343\u001b[0;31m         \u001b[0mtime\u001b[0m\u001b[0;34m.\u001b[0m\u001b[0msleep\u001b[0m\u001b[0;34m(\u001b[0m\u001b[0mbackoff\u001b[0m\u001b[0;34m)\u001b[0m\u001b[0;34m\u001b[0m\u001b[0;34m\u001b[0m\u001b[0m\n\u001b[0m\u001b[1;32m    344\u001b[0m \u001b[0;34m\u001b[0m\u001b[0m\n\u001b[1;32m    345\u001b[0m     \u001b[0;32mdef\u001b[0m \u001b[0msleep\u001b[0m\u001b[0;34m(\u001b[0m\u001b[0mself\u001b[0m\u001b[0;34m,\u001b[0m \u001b[0mresponse\u001b[0m\u001b[0;34m:\u001b[0m \u001b[0mBaseHTTPResponse\u001b[0m \u001b[0;34m|\u001b[0m \u001b[0;32mNone\u001b[0m \u001b[0;34m=\u001b[0m \u001b[0;32mNone\u001b[0m\u001b[0;34m)\u001b[0m \u001b[0;34m->\u001b[0m \u001b[0;32mNone\u001b[0m\u001b[0;34m:\u001b[0m\u001b[0;34m\u001b[0m\u001b[0;34m\u001b[0m\u001b[0m\n",
            "\u001b[0;31mKeyboardInterrupt\u001b[0m: "
          ]
        }
      ]
    },
    {
      "cell_type": "code",
      "source": [],
      "metadata": {
        "id": "zDM_qRZyENzi"
      },
      "id": "zDM_qRZyENzi",
      "execution_count": null,
      "outputs": []
    }
  ],
  "metadata": {
    "kernelspec": {
      "display_name": "application-project",
      "language": "python",
      "name": "application-project"
    },
    "language_info": {
      "codemirror_mode": {
        "name": "ipython",
        "version": 3
      },
      "file_extension": ".py",
      "mimetype": "text/x-python",
      "name": "python",
      "nbconvert_exporter": "python",
      "pygments_lexer": "ipython3",
      "version": "3.10.12"
    },
    "colab": {
      "provenance": []
    }
  },
  "nbformat": 4,
  "nbformat_minor": 5
}